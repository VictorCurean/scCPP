{
 "cells": [
  {
   "cell_type": "code",
   "execution_count": 1,
   "id": "79f39f39-4850-4da7-9e8a-6e84f7371e10",
   "metadata": {},
   "outputs": [],
   "source": [
    "import anndata as ad\n",
    "import pickle as pkl\n",
    "\n",
    "from src.evaluator.MLP_baseline_evaluator import get_models_results\n",
    "from src.evaluator.evaluator_utils import l2_loss"
   ]
  },
  {
   "cell_type": "code",
   "execution_count": 3,
   "id": "11b33475-ecd3-4ff1-881d-1b57901a5a8d",
   "metadata": {},
   "outputs": [],
   "source": [
    "def train_different_fs(adata_path=None, run_name=None, res_savename=None, add_relu=True):\n",
    "    DRUG_ENCODING_NAME = \"fmfp\"\n",
    "    DRUG_ENCODING_SIZE = 1024\n",
    "    N_TRIALS = 50\n",
    "    SCHEDULER_MODE = 'min'\n",
    "\n",
    "    with open(\"./data/drug_splits/train_drugs_rand.pkl\", 'rb') as f:\n",
    "        drugs_train_rand = pkl.load(f)\n",
    "\n",
    "    with open(\"./data/drug_splits/val_drugs_rand.pkl\", 'rb') as f:\n",
    "        drugs_val_rand = pkl.load(f)\n",
    "\n",
    "    with open(\"./data/drug_splits/test_drugs_rand.pkl\", 'rb') as f:\n",
    "        drugs_test_rand = pkl.load(f)\n",
    "\n",
    "    drug_splits = dict()\n",
    "    drug_splits['train'] = drugs_train_rand\n",
    "    drug_splits['valid'] = drugs_val_rand\n",
    "    drug_splits['test'] = drugs_test_rand\n",
    "\n",
    "    adata = ad.read_h5ad(adata_path)\n",
    "\n",
    "    get_models_results(drug_splits=drug_splits,\n",
    "                          loss_function=l2_loss,\n",
    "                          adata=adata,\n",
    "                          input_dim=2000,\n",
    "                          output_dim=2000,\n",
    "                          drug_rep_name=DRUG_ENCODING_NAME,\n",
    "                          drug_emb_size=DRUG_ENCODING_SIZE,\n",
    "                          n_trials=N_TRIALS,\n",
    "                          scheduler_mode=SCHEDULER_MODE,\n",
    "                          run_name=run_name,\n",
    "                          save_path=res_savename,\n",
    "                          add_relu=add_relu\n",
    "                      )\n"
   ]
  },
  {
   "cell_type": "code",
   "execution_count": 5,
   "id": "2ffe247d-7dc5-4451-be72-9e8abde611f2",
   "metadata": {},
   "outputs": [
    {
     "name": "stdout",
     "output_type": "stream",
     "text": [
      "Loading Datasets ...\n"
     ]
    },
    {
     "name": "stderr",
     "output_type": "stream",
     "text": [
      "100%|███████████████████████████████████████████████████████████████████████████████████████████████████████████████████████████████████████████████████████████████████| 401917/401917 [03:04<00:00, 2176.86it/s]\n",
      "100%|███████████████████████████████████████████████████████████████████████████████████████████████████████████████████████████████████████████████████████████████████| 401917/401917 [01:13<00:00, 5490.00it/s]\n"
     ]
    },
    {
     "name": "stdout",
     "output_type": "stream",
     "text": [
      "Optimizing Hyperparameters with Optuna ...\n"
     ]
    },
    {
     "name": "stderr",
     "output_type": "stream",
     "text": [
      "[I 2025-06-02 11:45:37,131] A new study created in RDB with name: mlp_random_fs\n"
     ]
    },
    {
     "name": "stdout",
     "output_type": "stream",
     "text": [
      "Epoch:\t 0 Val Loss:\t 0.01720531697390612\n",
      "Epoch:\t 1 Val Loss:\t 0.016855209143477715\n",
      "Epoch:\t 2 Val Loss:\t 0.016625005161699527\n",
      "Epoch:\t 3 Val Loss:\t 0.016463152239311912\n",
      "Epoch:\t 4 Val Loss:\t 0.016392616362857795\n",
      "Epoch:\t 5 Val Loss:\t 0.01636543134059421\n",
      "Epoch:\t 6 Val Loss:\t 0.01636223135840797\n",
      "Epoch:\t 7 Val Loss:\t 0.016358893444548866\n",
      "Epoch:\t 8 Val Loss:\t 0.016357576495824096\n",
      "Epoch:\t 9 Val Loss:\t 0.016361035146043153\n",
      "Epoch:\t 10 Val Loss:\t 0.01636244730467727\n",
      "Epoch:\t 11 Val Loss:\t 0.016359175393406398\n",
      "Epoch:\t 12 Val Loss:\t 0.016359332887705916\n",
      "Epoch:\t 13 Val Loss:\t 0.01636124558052522\n",
      "Epoch:\t 14 Val Loss:\t 0.016353827206891977\n",
      "Epoch:\t 15 Val Loss:\t 0.016350093386873214\n",
      "Epoch:\t 16 Val Loss:\t 0.016350219505867045\n",
      "Epoch:\t 17 Val Loss:\t 0.016351993537633\n",
      "Epoch:\t 18 Val Loss:\t 0.01635062886749157\n",
      "Epoch:\t 19 Val Loss:\t 0.016349520166600514\n",
      "Epoch:\t 20 Val Loss:\t 0.016352593550507076\n",
      "Epoch:\t 21 Val Loss:\t 0.016352318012284373\n",
      "Epoch:\t 22 Val Loss:\t 0.016348021804076993\n",
      "Epoch:\t 23 Val Loss:\t 0.016352407377444672\n",
      "Epoch:\t 24 Val Loss:\t 0.016350759412413967\n",
      "Epoch:\t 25 Val Loss:\t 0.01634992422883162\n",
      "Epoch:\t 26 Val Loss:\t 0.016349423716296413\n",
      "Epoch:\t 27 Val Loss:\t 0.01635168252740511\n",
      "Epoch:\t 28 Val Loss:\t 0.016351663199568798\n",
      "Epoch:\t 29 Val Loss:\t 0.016352230963299054\n",
      "Epoch:\t 30 Val Loss:\t 0.01635339948645455\n",
      "Epoch:\t 31 Val Loss:\t 0.016352348056116062\n"
     ]
    },
    {
     "name": "stderr",
     "output_type": "stream",
     "text": [
      "[I 2025-06-02 11:48:33,666] Trial 0 finished with value: 0.016348021804076993 and parameters: {'lr': 0.0001, 'weight_decay': 1e-05, 'scheduler_factor': 0.5, 'scheduler_patience': 5, 'batch_size': 32, 'dropout': 0.1, 'hidden_dims': 128}. Best is trial 0 with value: 0.016348021804076993.\n"
     ]
    },
    {
     "name": "stdout",
     "output_type": "stream",
     "text": [
      "Epoch:\t 32 Val Loss:\t 0.016354498672924322\n",
      "Epoch:\t 0 Val Loss:\t 0.016548159750571438\n",
      "Epoch:\t 1 Val Loss:\t 0.016517277247755913\n",
      "Epoch:\t 2 Val Loss:\t 0.01654090304032156\n",
      "Epoch:\t 3 Val Loss:\t 0.016536134319050388\n",
      "Epoch:\t 4 Val Loss:\t 0.016507358088353442\n",
      "Epoch:\t 5 Val Loss:\t 0.016507079727959655\n",
      "Epoch:\t 6 Val Loss:\t 0.01652395460557583\n",
      "Epoch:\t 7 Val Loss:\t 0.016524597356796407\n",
      "Epoch:\t 8 Val Loss:\t 0.016545077800031203\n",
      "Epoch:\t 9 Val Loss:\t 0.016517166595960506\n",
      "Epoch:\t 10 Val Loss:\t 0.016501163240343755\n",
      "Epoch:\t 11 Val Loss:\t 0.016520274659733308\n",
      "Epoch:\t 12 Val Loss:\t 0.01655359137348011\n",
      "Epoch:\t 13 Val Loss:\t 0.016524511056166032\n",
      "Epoch:\t 14 Val Loss:\t 0.01651511311514646\n",
      "Epoch:\t 15 Val Loss:\t 0.016508663661159953\n",
      "Epoch:\t 16 Val Loss:\t 0.01650065380111083\n",
      "Epoch:\t 17 Val Loss:\t 0.016507012367456036\n",
      "Epoch:\t 18 Val Loss:\t 0.016514460664623917\n",
      "Epoch:\t 19 Val Loss:\t 0.016506213203305427\n",
      "Epoch:\t 20 Val Loss:\t 0.01650598761648913\n",
      "Epoch:\t 21 Val Loss:\t 0.01655402849554311\n",
      "Epoch:\t 22 Val Loss:\t 0.016520157476177653\n",
      "Epoch:\t 23 Val Loss:\t 0.016542311055812275\n",
      "Epoch:\t 24 Val Loss:\t 0.01653021908016434\n",
      "Epoch:\t 25 Val Loss:\t 0.016511641835382958\n"
     ]
    },
    {
     "name": "stderr",
     "output_type": "stream",
     "text": [
      "[I 2025-06-02 11:52:40,736] Trial 1 finished with value: 0.01650065380111083 and parameters: {'lr': 0.001, 'weight_decay': 0.0001, 'scheduler_factor': 0.5, 'scheduler_patience': 20, 'batch_size': 16, 'dropout': 0.05, 'hidden_dims': 256}. Best is trial 0 with value: 0.016348021804076993.\n"
     ]
    },
    {
     "name": "stdout",
     "output_type": "stream",
     "text": [
      "Epoch:\t 26 Val Loss:\t 0.016505831946975077\n",
      "Epoch:\t 0 Val Loss:\t 0.016901154490337494\n",
      "Epoch:\t 1 Val Loss:\t 0.016470621884995144\n",
      "Epoch:\t 2 Val Loss:\t 0.016419352706030635\n",
      "Epoch:\t 3 Val Loss:\t 0.01641679190434635\n",
      "Epoch:\t 4 Val Loss:\t 0.016442863573095615\n",
      "Epoch:\t 5 Val Loss:\t 0.01642840740741066\n",
      "Epoch:\t 6 Val Loss:\t 0.016437020401359564\n",
      "Epoch:\t 7 Val Loss:\t 0.016430180564738356\n",
      "Epoch:\t 8 Val Loss:\t 0.016440725651752336\n",
      "Epoch:\t 9 Val Loss:\t 0.016452407176902824\n",
      "Epoch:\t 10 Val Loss:\t 0.0164192973657053\n",
      "Epoch:\t 11 Val Loss:\t 0.01640906763769135\n",
      "Epoch:\t 12 Val Loss:\t 0.01641206005198875\n",
      "Epoch:\t 13 Val Loss:\t 0.016419189194534754\n",
      "Epoch:\t 14 Val Loss:\t 0.01640920790505275\n",
      "Epoch:\t 15 Val Loss:\t 0.01642378578651277\n",
      "Epoch:\t 16 Val Loss:\t 0.016420044208550377\n",
      "Epoch:\t 17 Val Loss:\t 0.016405174736280916\n",
      "Epoch:\t 18 Val Loss:\t 0.01640456009033313\n",
      "Epoch:\t 19 Val Loss:\t 0.016420948846187815\n",
      "Epoch:\t 20 Val Loss:\t 0.016419341161823156\n",
      "Epoch:\t 21 Val Loss:\t 0.016406800774587886\n",
      "Epoch:\t 22 Val Loss:\t 0.016411917287125658\n",
      "Epoch:\t 23 Val Loss:\t 0.016408040466751317\n",
      "Epoch:\t 24 Val Loss:\t 0.016399298177678677\n",
      "Epoch:\t 25 Val Loss:\t 0.016396556927005004\n",
      "Epoch:\t 26 Val Loss:\t 0.01640197879356299\n",
      "Epoch:\t 27 Val Loss:\t 0.016395628239683973\n",
      "Epoch:\t 28 Val Loss:\t 0.01641786194906549\n",
      "Epoch:\t 29 Val Loss:\t 0.01640442005056181\n",
      "Epoch:\t 30 Val Loss:\t 0.01640122143665502\n",
      "Epoch:\t 31 Val Loss:\t 0.01640255290152463\n",
      "Epoch:\t 32 Val Loss:\t 0.016402034696874318\n",
      "Epoch:\t 33 Val Loss:\t 0.016397650126020433\n",
      "Epoch:\t 34 Val Loss:\t 0.01639691767525347\n",
      "Epoch:\t 35 Val Loss:\t 0.016399990012599723\n",
      "Epoch:\t 36 Val Loss:\t 0.01639453902349499\n",
      "Epoch:\t 37 Val Loss:\t 0.016388919773448703\n",
      "Epoch:\t 38 Val Loss:\t 0.016400423395025194\n",
      "Epoch:\t 39 Val Loss:\t 0.016384175900741215\n",
      "Epoch:\t 40 Val Loss:\t 0.016395318366802775\n",
      "Epoch:\t 41 Val Loss:\t 0.016388717400946225\n",
      "Epoch:\t 42 Val Loss:\t 0.016387793585849728\n",
      "Epoch:\t 43 Val Loss:\t 0.016398730702770103\n",
      "Epoch:\t 44 Val Loss:\t 0.016401199189724453\n",
      "Epoch:\t 45 Val Loss:\t 0.016404244198293165\n",
      "Epoch:\t 46 Val Loss:\t 0.01640240418937333\n",
      "Epoch:\t 47 Val Loss:\t 0.01638369065772299\n",
      "Epoch:\t 48 Val Loss:\t 0.01638801983135402\n",
      "Epoch:\t 49 Val Loss:\t 0.016405519807765147\n",
      "Epoch:\t 50 Val Loss:\t 0.016393882003867356\n",
      "Epoch:\t 51 Val Loss:\t 0.01639154030854583\n",
      "Epoch:\t 52 Val Loss:\t 0.016384168932292238\n",
      "Epoch:\t 53 Val Loss:\t 0.016385510617753316\n",
      "Epoch:\t 54 Val Loss:\t 0.016386058439060422\n",
      "Epoch:\t 55 Val Loss:\t 0.0163845155280311\n",
      "Epoch:\t 56 Val Loss:\t 0.01638498121327526\n"
     ]
    },
    {
     "name": "stderr",
     "output_type": "stream",
     "text": [
      "[I 2025-06-02 11:54:47,592] Trial 2 finished with value: 0.01638369065772299 and parameters: {'lr': 0.001, 'weight_decay': 0.0001, 'scheduler_factor': 0.8, 'scheduler_patience': 5, 'batch_size': 256, 'dropout': 0.05, 'hidden_dims': 64}. Best is trial 0 with value: 0.016348021804076993.\n"
     ]
    },
    {
     "name": "stdout",
     "output_type": "stream",
     "text": [
      "Epoch:\t 57 Val Loss:\t 0.016385979477280207\n",
      "Epoch:\t 0 Val Loss:\t 0.016899328714781635\n",
      "Epoch:\t 1 Val Loss:\t 0.016712596304594894\n",
      "Epoch:\t 2 Val Loss:\t 0.016640227845004518\n",
      "Epoch:\t 3 Val Loss:\t 0.016521326984934675\n",
      "Epoch:\t 4 Val Loss:\t 0.01642860432074576\n",
      "Epoch:\t 5 Val Loss:\t 0.016383494145665138\n",
      "Epoch:\t 6 Val Loss:\t 0.016391915152406386\n",
      "Epoch:\t 7 Val Loss:\t 0.016380481658521382\n",
      "Epoch:\t 8 Val Loss:\t 0.016385766698520668\n",
      "Epoch:\t 9 Val Loss:\t 0.016385341072125643\n",
      "Epoch:\t 10 Val Loss:\t 0.016384421114082122\n",
      "Epoch:\t 11 Val Loss:\t 0.01638838957539996\n",
      "Epoch:\t 12 Val Loss:\t 0.01637920374919172\n",
      "Epoch:\t 13 Val Loss:\t 0.016382028618258486\n",
      "Epoch:\t 14 Val Loss:\t 0.01638294082925538\n",
      "Epoch:\t 15 Val Loss:\t 0.016384073497182496\n",
      "Epoch:\t 16 Val Loss:\t 0.016379452229648157\n",
      "Epoch:\t 17 Val Loss:\t 0.016384165353737653\n",
      "Epoch:\t 18 Val Loss:\t 0.016385273400011363\n",
      "Epoch:\t 19 Val Loss:\t 0.01636303266528335\n",
      "Epoch:\t 20 Val Loss:\t 0.016362194732502344\n",
      "Epoch:\t 21 Val Loss:\t 0.01636056363331064\n",
      "Epoch:\t 22 Val Loss:\t 0.01636132627270421\n",
      "Epoch:\t 23 Val Loss:\t 0.016359287110483723\n",
      "Epoch:\t 24 Val Loss:\t 0.016356380979779067\n",
      "Epoch:\t 25 Val Loss:\t 0.016358976749481686\n",
      "Epoch:\t 26 Val Loss:\t 0.016358006197563897\n",
      "Epoch:\t 27 Val Loss:\t 0.016357914200262242\n",
      "Epoch:\t 28 Val Loss:\t 0.016358853578327937\n",
      "Epoch:\t 29 Val Loss:\t 0.016353935308730486\n",
      "Epoch:\t 30 Val Loss:\t 0.016358034760119256\n",
      "Epoch:\t 31 Val Loss:\t 0.01635220877742365\n",
      "Epoch:\t 32 Val Loss:\t 0.016356709062861477\n",
      "Epoch:\t 33 Val Loss:\t 0.01635279297121947\n",
      "Epoch:\t 34 Val Loss:\t 0.016355173395784912\n",
      "Epoch:\t 35 Val Loss:\t 0.016355650535398357\n",
      "Epoch:\t 36 Val Loss:\t 0.016354072338922422\n",
      "Epoch:\t 37 Val Loss:\t 0.016354633920445703\n",
      "Epoch:\t 38 Val Loss:\t 0.016353084993252224\n",
      "Epoch:\t 39 Val Loss:\t 0.016357339026220743\n",
      "Epoch:\t 40 Val Loss:\t 0.0163556043346116\n"
     ]
    },
    {
     "name": "stderr",
     "output_type": "stream",
     "text": [
      "[I 2025-06-02 11:56:18,192] Trial 3 finished with value: 0.01635220877742365 and parameters: {'lr': 0.001, 'weight_decay': 1e-05, 'scheduler_factor': 0.3, 'scheduler_patience': 10, 'batch_size': 256, 'dropout': 0.15, 'hidden_dims': 64}. Best is trial 0 with value: 0.016348021804076993.\n"
     ]
    },
    {
     "name": "stdout",
     "output_type": "stream",
     "text": [
      "Epoch:\t 41 Val Loss:\t 0.016356467059738575\n",
      "Epoch:\t 0 Val Loss:\t 0.019536259343449987\n",
      "Epoch:\t 1 Val Loss:\t 0.01882100347758392\n",
      "Epoch:\t 2 Val Loss:\t 0.01852993488335686\n",
      "Epoch:\t 3 Val Loss:\t 0.01825969640231343\n",
      "Epoch:\t 4 Val Loss:\t 0.018040778507055478\n",
      "Epoch:\t 5 Val Loss:\t 0.017862161047409855\n",
      "Epoch:\t 6 Val Loss:\t 0.017738951549508025\n",
      "Epoch:\t 7 Val Loss:\t 0.017640634990008744\n",
      "Epoch:\t 8 Val Loss:\t 0.01751896540483349\n",
      "Epoch:\t 9 Val Loss:\t 0.017396155475709066\n",
      "Epoch:\t 10 Val Loss:\t 0.01733786753867641\n",
      "Epoch:\t 11 Val Loss:\t 0.017247736693193978\n",
      "Epoch:\t 12 Val Loss:\t 0.01718974912787278\n",
      "Epoch:\t 13 Val Loss:\t 0.017125338904954265\n",
      "Epoch:\t 14 Val Loss:\t 0.01708684948513682\n",
      "Epoch:\t 15 Val Loss:\t 0.017046342707010373\n",
      "Epoch:\t 16 Val Loss:\t 0.017026571673527956\n",
      "Epoch:\t 17 Val Loss:\t 0.01700190178463968\n",
      "Epoch:\t 18 Val Loss:\t 0.016985088420873373\n",
      "Epoch:\t 19 Val Loss:\t 0.016971841711628684\n",
      "Epoch:\t 20 Val Loss:\t 0.01695782108079899\n",
      "Epoch:\t 21 Val Loss:\t 0.016952195281034296\n",
      "Epoch:\t 22 Val Loss:\t 0.016952302924284103\n",
      "Epoch:\t 23 Val Loss:\t 0.016943279925859377\n",
      "Epoch:\t 24 Val Loss:\t 0.016960229956355082\n",
      "Epoch:\t 25 Val Loss:\t 0.016944381532470066\n",
      "Epoch:\t 26 Val Loss:\t 0.016968366165270202\n",
      "Epoch:\t 27 Val Loss:\t 0.016952807037384037\n",
      "Epoch:\t 28 Val Loss:\t 0.01697835121542981\n",
      "Epoch:\t 29 Val Loss:\t 0.016969753930085065\n",
      "Epoch:\t 30 Val Loss:\t 0.0169813773440822\n",
      "Epoch:\t 31 Val Loss:\t 0.016975665883569236\n",
      "Epoch:\t 32 Val Loss:\t 0.016988716680215697\n"
     ]
    },
    {
     "name": "stderr",
     "output_type": "stream",
     "text": [
      "[I 2025-06-02 11:57:46,654] Trial 4 finished with value: 0.016943279925859377 and parameters: {'lr': 1e-05, 'weight_decay': 1e-05, 'scheduler_factor': 0.3, 'scheduler_patience': 10, 'batch_size': 128, 'dropout': 0.1, 'hidden_dims': 512}. Best is trial 0 with value: 0.016348021804076993.\n"
     ]
    },
    {
     "name": "stdout",
     "output_type": "stream",
     "text": [
      "Epoch:\t 33 Val Loss:\t 0.017014844722770765\n"
     ]
    },
    {
     "name": "stderr",
     "output_type": "stream",
     "text": [
      "[I 2025-06-02 11:57:50,352] Trial 5 pruned. \n"
     ]
    },
    {
     "name": "stdout",
     "output_type": "stream",
     "text": [
      "Epoch:\t 0 Val Loss:\t 0.027327326303400224\n"
     ]
    },
    {
     "name": "stderr",
     "output_type": "stream",
     "text": [
      "[I 2025-06-02 11:57:52,525] Trial 6 pruned. \n"
     ]
    },
    {
     "name": "stdout",
     "output_type": "stream",
     "text": [
      "Epoch:\t 0 Val Loss:\t 0.017234410749227286\n"
     ]
    },
    {
     "name": "stderr",
     "output_type": "stream",
     "text": [
      "[I 2025-06-02 11:57:54,730] Trial 7 pruned. \n"
     ]
    },
    {
     "name": "stdout",
     "output_type": "stream",
     "text": [
      "Epoch:\t 0 Val Loss:\t 0.01798003157331246\n"
     ]
    },
    {
     "name": "stderr",
     "output_type": "stream",
     "text": [
      "[I 2025-06-02 11:57:58,406] Trial 8 pruned. \n"
     ]
    },
    {
     "name": "stdout",
     "output_type": "stream",
     "text": [
      "Epoch:\t 0 Val Loss:\t 0.0193107907108383\n"
     ]
    },
    {
     "name": "stderr",
     "output_type": "stream",
     "text": [
      "[I 2025-06-02 11:58:00,561] Trial 9 pruned. \n"
     ]
    },
    {
     "name": "stdout",
     "output_type": "stream",
     "text": [
      "Epoch:\t 0 Val Loss:\t 0.020952957284028892\n"
     ]
    },
    {
     "name": "stderr",
     "output_type": "stream",
     "text": [
      "[I 2025-06-02 11:58:06,286] Trial 10 pruned. \n"
     ]
    },
    {
     "name": "stdout",
     "output_type": "stream",
     "text": [
      "Epoch:\t 0 Val Loss:\t 0.01723160329228174\n"
     ]
    },
    {
     "name": "stderr",
     "output_type": "stream",
     "text": [
      "[I 2025-06-02 11:58:11,939] Trial 11 pruned. \n"
     ]
    },
    {
     "name": "stdout",
     "output_type": "stream",
     "text": [
      "Epoch:\t 0 Val Loss:\t 0.017191795338475275\n"
     ]
    },
    {
     "name": "stderr",
     "output_type": "stream",
     "text": [
      "[I 2025-06-02 11:58:17,157] Trial 12 pruned. \n"
     ]
    },
    {
     "name": "stdout",
     "output_type": "stream",
     "text": [
      "Epoch:\t 0 Val Loss:\t 0.03737327408396409\n",
      "Epoch:\t 0 Val Loss:\t 0.01644454594717203\n",
      "Epoch:\t 1 Val Loss:\t 0.016421370274133335\n",
      "Epoch:\t 2 Val Loss:\t 0.01641209451046921\n",
      "Epoch:\t 3 Val Loss:\t 0.016415196746525057\n",
      "Epoch:\t 4 Val Loss:\t 0.016404764982587146\n",
      "Epoch:\t 5 Val Loss:\t 0.01641003290022233\n",
      "Epoch:\t 6 Val Loss:\t 0.016409802443322307\n",
      "Epoch:\t 7 Val Loss:\t 0.016412678168703298\n",
      "Epoch:\t 8 Val Loss:\t 0.016409795264058686\n",
      "Epoch:\t 9 Val Loss:\t 0.016405995087289446\n",
      "Epoch:\t 10 Val Loss:\t 0.016409782677302198\n",
      "Epoch:\t 11 Val Loss:\t 0.016384756234176852\n",
      "Epoch:\t 12 Val Loss:\t 0.016384920023233922\n",
      "Epoch:\t 13 Val Loss:\t 0.01638645950336837\n",
      "Epoch:\t 14 Val Loss:\t 0.01638264571316727\n",
      "Epoch:\t 15 Val Loss:\t 0.016383987665960113\n",
      "Epoch:\t 16 Val Loss:\t 0.016383913986420695\n",
      "Epoch:\t 17 Val Loss:\t 0.016393469639855454\n",
      "Epoch:\t 18 Val Loss:\t 0.016392159035555874\n",
      "Epoch:\t 19 Val Loss:\t 0.016382912945833064\n",
      "Epoch:\t 20 Val Loss:\t 0.016384513129502017\n",
      "Epoch:\t 21 Val Loss:\t 0.016377062207799567\n",
      "Epoch:\t 22 Val Loss:\t 0.01637467366638212\n",
      "Epoch:\t 23 Val Loss:\t 0.016378031300906665\n",
      "Epoch:\t 24 Val Loss:\t 0.016374229515268818\n",
      "Epoch:\t 25 Val Loss:\t 0.016370068270466033\n",
      "Epoch:\t 26 Val Loss:\t 0.016371851151969947\n",
      "Epoch:\t 27 Val Loss:\t 0.016371668663314028\n",
      "Epoch:\t 28 Val Loss:\t 0.016375173248635747\n",
      "Epoch:\t 29 Val Loss:\t 0.016379664937548145\n",
      "Epoch:\t 30 Val Loss:\t 0.016379038774169737\n",
      "Epoch:\t 31 Val Loss:\t 0.016378328562241126\n",
      "Epoch:\t 32 Val Loss:\t 0.0163673187871569\n",
      "Epoch:\t 33 Val Loss:\t 0.016365948949547335\n",
      "Epoch:\t 34 Val Loss:\t 0.016367616874571316\n",
      "Epoch:\t 35 Val Loss:\t 0.01636644864823961\n",
      "Epoch:\t 36 Val Loss:\t 0.01636720926429389\n",
      "Epoch:\t 37 Val Loss:\t 0.016368264530769894\n",
      "Epoch:\t 38 Val Loss:\t 0.01636385385162025\n",
      "Epoch:\t 39 Val Loss:\t 0.016363356751338487\n",
      "Epoch:\t 40 Val Loss:\t 0.01636445385269019\n",
      "Epoch:\t 41 Val Loss:\t 0.01636443181238446\n",
      "Epoch:\t 42 Val Loss:\t 0.016371271149237608\n",
      "Epoch:\t 43 Val Loss:\t 0.016364543250700535\n",
      "Epoch:\t 44 Val Loss:\t 0.01636759344483904\n",
      "Epoch:\t 45 Val Loss:\t 0.016365062931682776\n",
      "Epoch:\t 46 Val Loss:\t 0.01636088141535941\n",
      "Epoch:\t 47 Val Loss:\t 0.016358084962678095\n",
      "Epoch:\t 48 Val Loss:\t 0.01636096758928812\n",
      "Epoch:\t 49 Val Loss:\t 0.016361698046799857\n",
      "Epoch:\t 50 Val Loss:\t 0.01636120245574209\n",
      "Epoch:\t 51 Val Loss:\t 0.016362222155809486\n",
      "Epoch:\t 52 Val Loss:\t 0.01636645786835176\n",
      "Epoch:\t 53 Val Loss:\t 0.016363766771373422\n",
      "Epoch:\t 54 Val Loss:\t 0.01635910276110086\n",
      "Epoch:\t 55 Val Loss:\t 0.016362415791973037\n",
      "Epoch:\t 56 Val Loss:\t 0.016362181525625942\n"
     ]
    },
    {
     "name": "stderr",
     "output_type": "stream",
     "text": [
      "[I 2025-06-02 12:07:01,522] Trial 13 finished with value: 0.016358084962678095 and parameters: {'lr': 0.001, 'weight_decay': 1e-05, 'scheduler_factor': 0.5, 'scheduler_patience': 5, 'batch_size': 16, 'dropout': 0.1, 'hidden_dims': 64}. Best is trial 0 with value: 0.016348021804076993.\n"
     ]
    },
    {
     "name": "stdout",
     "output_type": "stream",
     "text": [
      "Epoch:\t 57 Val Loss:\t 0.016364283124524207\n"
     ]
    },
    {
     "name": "stderr",
     "output_type": "stream",
     "text": [
      "[I 2025-06-02 12:07:06,867] Trial 14 pruned. \n"
     ]
    },
    {
     "name": "stdout",
     "output_type": "stream",
     "text": [
      "Epoch:\t 0 Val Loss:\t 0.017543281076143762\n",
      "Epoch:\t 0 Val Loss:\t 0.01683351822663846\n",
      "Epoch:\t 1 Val Loss:\t 0.016550552941571747\n",
      "Epoch:\t 2 Val Loss:\t 0.016415547552618703\n",
      "Epoch:\t 3 Val Loss:\t 0.016412152354134603\n",
      "Epoch:\t 4 Val Loss:\t 0.016405679946271987\n",
      "Epoch:\t 5 Val Loss:\t 0.01640665971256948\n",
      "Epoch:\t 6 Val Loss:\t 0.01639780222646067\n",
      "Epoch:\t 7 Val Loss:\t 0.01640194464612447\n",
      "Epoch:\t 8 Val Loss:\t 0.016401842701432696\n",
      "Epoch:\t 9 Val Loss:\t 0.01640005097134012\n",
      "Epoch:\t 10 Val Loss:\t 0.016399091885486442\n",
      "Epoch:\t 11 Val Loss:\t 0.016394719577141788\n",
      "Epoch:\t 12 Val Loss:\t 0.016398250147772065\n",
      "Epoch:\t 13 Val Loss:\t 0.016391799747824287\n",
      "Epoch:\t 14 Val Loss:\t 0.016394501816583005\n",
      "Epoch:\t 15 Val Loss:\t 0.016386781798236157\n",
      "Epoch:\t 16 Val Loss:\t 0.01639410854581845\n",
      "Epoch:\t 17 Val Loss:\t 0.016399786628208707\n",
      "Epoch:\t 18 Val Loss:\t 0.016396406555120768\n",
      "Epoch:\t 19 Val Loss:\t 0.016396093677077592\n",
      "Epoch:\t 20 Val Loss:\t 0.01639179280550962\n",
      "Epoch:\t 21 Val Loss:\t 0.0163968646073681\n",
      "Epoch:\t 22 Val Loss:\t 0.016397334596390326\n",
      "Epoch:\t 23 Val Loss:\t 0.016393610708307877\n"
     ]
    },
    {
     "name": "stderr",
     "output_type": "stream",
     "text": [
      "[I 2025-06-02 12:08:10,033] Trial 15 pruned. \n"
     ]
    },
    {
     "name": "stdout",
     "output_type": "stream",
     "text": [
      "Epoch:\t 24 Val Loss:\t 0.01639819223983856\n"
     ]
    },
    {
     "name": "stderr",
     "output_type": "stream",
     "text": [
      "[I 2025-06-02 12:08:15,192] Trial 16 pruned. \n"
     ]
    },
    {
     "name": "stdout",
     "output_type": "stream",
     "text": [
      "Epoch:\t 0 Val Loss:\t 0.0170846795931996\n"
     ]
    },
    {
     "name": "stderr",
     "output_type": "stream",
     "text": [
      "[I 2025-06-02 12:08:17,311] Trial 17 pruned. \n"
     ]
    },
    {
     "name": "stdout",
     "output_type": "stream",
     "text": [
      "Epoch:\t 0 Val Loss:\t 0.08745412921407215\n",
      "Epoch:\t 0 Val Loss:\t 0.01681292982081349\n"
     ]
    },
    {
     "name": "stderr",
     "output_type": "stream",
     "text": [
      "[I 2025-06-02 12:08:22,567] Trial 18 pruned. \n"
     ]
    },
    {
     "name": "stdout",
     "output_type": "stream",
     "text": [
      "Epoch:\t 1 Val Loss:\t 0.01672664007252713\n",
      "Epoch:\t 0 Val Loss:\t 0.01654885472004673\n",
      "Epoch:\t 1 Val Loss:\t 0.01653558582080925\n",
      "Epoch:\t 2 Val Loss:\t 0.01653162859461603\n"
     ]
    },
    {
     "name": "stderr",
     "output_type": "stream",
     "text": [
      "[I 2025-06-02 12:08:57,927] Trial 19 pruned. \n"
     ]
    },
    {
     "name": "stdout",
     "output_type": "stream",
     "text": [
      "Epoch:\t 3 Val Loss:\t 0.01652323123645332\n"
     ]
    },
    {
     "name": "stderr",
     "output_type": "stream",
     "text": [
      "[I 2025-06-02 12:09:01,405] Trial 20 pruned. \n"
     ]
    },
    {
     "name": "stdout",
     "output_type": "stream",
     "text": [
      "Epoch:\t 0 Val Loss:\t 0.017433620473995815\n",
      "Epoch:\t 0 Val Loss:\t 0.016444102116078406\n",
      "Epoch:\t 1 Val Loss:\t 0.01641514000843556\n",
      "Epoch:\t 2 Val Loss:\t 0.016412340924688663\n",
      "Epoch:\t 3 Val Loss:\t 0.01640867953308328\n",
      "Epoch:\t 4 Val Loss:\t 0.01641665331375931\n",
      "Epoch:\t 5 Val Loss:\t 0.016414113965260914\n",
      "Epoch:\t 6 Val Loss:\t 0.016414132044226846\n",
      "Epoch:\t 7 Val Loss:\t 0.01640558101410732\n",
      "Epoch:\t 8 Val Loss:\t 0.016407649572979733\n",
      "Epoch:\t 9 Val Loss:\t 0.016409129556511033\n",
      "Epoch:\t 10 Val Loss:\t 0.01641150788510223\n"
     ]
    },
    {
     "name": "stderr",
     "output_type": "stream",
     "text": [
      "[I 2025-06-02 12:10:41,659] Trial 21 pruned. \n"
     ]
    },
    {
     "name": "stdout",
     "output_type": "stream",
     "text": [
      "Epoch:\t 11 Val Loss:\t 0.016409069115523287\n",
      "Epoch:\t 0 Val Loss:\t 0.016442674607563965\n",
      "Epoch:\t 1 Val Loss:\t 0.01642085059128509\n",
      "Epoch:\t 2 Val Loss:\t 0.016420307107742983\n",
      "Epoch:\t 3 Val Loss:\t 0.016422768952886652\n",
      "Epoch:\t 4 Val Loss:\t 0.0164144592995223\n",
      "Epoch:\t 5 Val Loss:\t 0.01642498317650631\n",
      "Epoch:\t 6 Val Loss:\t 0.016407694215071784\n",
      "Epoch:\t 7 Val Loss:\t 0.01640761740139212\n",
      "Epoch:\t 8 Val Loss:\t 0.01640944915745826\n",
      "Epoch:\t 9 Val Loss:\t 0.01641225887817411\n",
      "Epoch:\t 10 Val Loss:\t 0.016407368585065776\n"
     ]
    },
    {
     "name": "stderr",
     "output_type": "stream",
     "text": [
      "[I 2025-06-02 12:12:21,664] Trial 22 pruned. \n"
     ]
    },
    {
     "name": "stdout",
     "output_type": "stream",
     "text": [
      "Epoch:\t 11 Val Loss:\t 0.016402805518143236\n",
      "Epoch:\t 0 Val Loss:\t 0.01644183672364466\n",
      "Epoch:\t 1 Val Loss:\t 0.016419906379288148\n",
      "Epoch:\t 2 Val Loss:\t 0.016413432029263455\n",
      "Epoch:\t 3 Val Loss:\t 0.016404724505789125\n",
      "Epoch:\t 4 Val Loss:\t 0.016411842758545438\n",
      "Epoch:\t 5 Val Loss:\t 0.01641713774835262\n",
      "Epoch:\t 6 Val Loss:\t 0.016408597264327654\n",
      "Epoch:\t 7 Val Loss:\t 0.01641108759028971\n",
      "Epoch:\t 8 Val Loss:\t 0.01640969568233175\n",
      "Epoch:\t 9 Val Loss:\t 0.016410374645038504\n",
      "Epoch:\t 10 Val Loss:\t 0.016395390972135312\n",
      "Epoch:\t 11 Val Loss:\t 0.01638795411226548\n",
      "Epoch:\t 12 Val Loss:\t 0.016387206911660044\n",
      "Epoch:\t 13 Val Loss:\t 0.01639460891644198\n",
      "Epoch:\t 14 Val Loss:\t 0.016392623855088797\n",
      "Epoch:\t 15 Val Loss:\t 0.016389430498887556\n",
      "Epoch:\t 16 Val Loss:\t 0.016382857117420494\n",
      "Epoch:\t 17 Val Loss:\t 0.016392093237643967\n",
      "Epoch:\t 18 Val Loss:\t 0.016384023421208323\n",
      "Epoch:\t 19 Val Loss:\t 0.016384254957964833\n",
      "Epoch:\t 20 Val Loss:\t 0.016386557532953216\n",
      "Epoch:\t 21 Val Loss:\t 0.016383907785502947\n",
      "Epoch:\t 22 Val Loss:\t 0.016383077005460708\n",
      "Epoch:\t 23 Val Loss:\t 0.0163721439287371\n",
      "Epoch:\t 24 Val Loss:\t 0.016373035193991383\n",
      "Epoch:\t 25 Val Loss:\t 0.016371300347347916\n",
      "Epoch:\t 26 Val Loss:\t 0.016372040083004524\n",
      "Epoch:\t 27 Val Loss:\t 0.016368551732290425\n",
      "Epoch:\t 28 Val Loss:\t 0.01637022763056271\n",
      "Epoch:\t 29 Val Loss:\t 0.016372382881926335\n",
      "Epoch:\t 30 Val Loss:\t 0.016374111432859054\n",
      "Epoch:\t 31 Val Loss:\t 0.0163694244563696\n"
     ]
    },
    {
     "name": "stderr",
     "output_type": "stream",
     "text": [
      "[I 2025-06-02 12:16:56,599] Trial 23 pruned. \n"
     ]
    },
    {
     "name": "stdout",
     "output_type": "stream",
     "text": [
      "Epoch:\t 32 Val Loss:\t 0.016373415799272952\n",
      "Epoch:\t 0 Val Loss:\t 0.016446775485272756\n",
      "Epoch:\t 1 Val Loss:\t 0.016415858397193506\n",
      "Epoch:\t 2 Val Loss:\t 0.01641061611621348\n",
      "Epoch:\t 3 Val Loss:\t 0.01640803298491785\n",
      "Epoch:\t 4 Val Loss:\t 0.01640523115683894\n",
      "Epoch:\t 5 Val Loss:\t 0.016415974699435492\n",
      "Epoch:\t 6 Val Loss:\t 0.016411006827212676\n",
      "Epoch:\t 7 Val Loss:\t 0.016411388893948543\n",
      "Epoch:\t 8 Val Loss:\t 0.01641520869566799\n",
      "Epoch:\t 9 Val Loss:\t 0.01640675228687708\n",
      "Epoch:\t 10 Val Loss:\t 0.016411216946535575\n",
      "Epoch:\t 11 Val Loss:\t 0.016383059813033254\n",
      "Epoch:\t 12 Val Loss:\t 0.016395627346320482\n",
      "Epoch:\t 13 Val Loss:\t 0.016382836579434547\n",
      "Epoch:\t 14 Val Loss:\t 0.016389653126594777\n",
      "Epoch:\t 15 Val Loss:\t 0.0163891045171398\n",
      "Epoch:\t 16 Val Loss:\t 0.016385960018146947\n",
      "Epoch:\t 17 Val Loss:\t 0.016386117444130526\n",
      "Epoch:\t 18 Val Loss:\t 0.016380291413109017\n",
      "Epoch:\t 19 Val Loss:\t 0.01636978573264919\n",
      "Epoch:\t 20 Val Loss:\t 0.01637093431257164\n",
      "Epoch:\t 21 Val Loss:\t 0.01637373181991839\n",
      "Epoch:\t 22 Val Loss:\t 0.016368382158434492\n",
      "Epoch:\t 23 Val Loss:\t 0.016372480703078538\n",
      "Epoch:\t 24 Val Loss:\t 0.01637329472547225\n",
      "Epoch:\t 25 Val Loss:\t 0.016372962652154578\n",
      "Epoch:\t 26 Val Loss:\t 0.016366031760003914\n",
      "Epoch:\t 27 Val Loss:\t 0.01636140190525437\n",
      "Epoch:\t 28 Val Loss:\t 0.016363505334515915\n",
      "Epoch:\t 29 Val Loss:\t 0.016365896243705786\n",
      "Epoch:\t 30 Val Loss:\t 0.01636111361566693\n",
      "Epoch:\t 31 Val Loss:\t 0.01636458962985567\n",
      "Epoch:\t 32 Val Loss:\t 0.016362941116870845\n",
      "Epoch:\t 33 Val Loss:\t 0.016364292439802558\n",
      "Epoch:\t 34 Val Loss:\t 0.016361091574054996\n",
      "Epoch:\t 35 Val Loss:\t 0.016358913283700326\n",
      "Epoch:\t 36 Val Loss:\t 0.016360271669270413\n",
      "Epoch:\t 37 Val Loss:\t 0.016359970376994205\n",
      "Epoch:\t 38 Val Loss:\t 0.016365469670722957\n",
      "Epoch:\t 39 Val Loss:\t 0.016363196929779028\n",
      "Epoch:\t 40 Val Loss:\t 0.01636496709838459\n",
      "Epoch:\t 41 Val Loss:\t 0.016361940105392873\n",
      "Epoch:\t 42 Val Loss:\t 0.016357047824617128\n",
      "Epoch:\t 43 Val Loss:\t 0.016359203220409457\n",
      "Epoch:\t 44 Val Loss:\t 0.016359748924309674\n",
      "Epoch:\t 45 Val Loss:\t 0.016367201009465586\n",
      "Epoch:\t 46 Val Loss:\t 0.01636289714038241\n",
      "Epoch:\t 47 Val Loss:\t 0.01636243139456512\n",
      "Epoch:\t 48 Val Loss:\t 0.016365814128335685\n",
      "Epoch:\t 49 Val Loss:\t 0.016363299044046535\n",
      "Epoch:\t 50 Val Loss:\t 0.016363770924538428\n",
      "Epoch:\t 51 Val Loss:\t 0.016368010402303484\n"
     ]
    },
    {
     "name": "stderr",
     "output_type": "stream",
     "text": [
      "[I 2025-06-02 12:24:17,826] Trial 24 finished with value: 0.016357047824617128 and parameters: {'lr': 0.001, 'weight_decay': 1e-05, 'scheduler_factor': 0.5, 'scheduler_patience': 5, 'batch_size': 16, 'dropout': 0.1, 'hidden_dims': 64}. Best is trial 0 with value: 0.016348021804076993.\n"
     ]
    },
    {
     "name": "stdout",
     "output_type": "stream",
     "text": [
      "Epoch:\t 52 Val Loss:\t 0.01636778177875235\n"
     ]
    },
    {
     "name": "stderr",
     "output_type": "stream",
     "text": [
      "[I 2025-06-02 12:24:19,953] Trial 25 pruned. \n"
     ]
    },
    {
     "name": "stdout",
     "output_type": "stream",
     "text": [
      "Epoch:\t 0 Val Loss:\t 0.019500298964584373\n"
     ]
    },
    {
     "name": "stderr",
     "output_type": "stream",
     "text": [
      "[I 2025-06-02 12:24:25,383] Trial 26 pruned. \n"
     ]
    },
    {
     "name": "stdout",
     "output_type": "stream",
     "text": [
      "Epoch:\t 0 Val Loss:\t 0.04805849915993715\n"
     ]
    },
    {
     "name": "stderr",
     "output_type": "stream",
     "text": [
      "[I 2025-06-02 12:24:27,493] Trial 27 pruned. \n"
     ]
    },
    {
     "name": "stdout",
     "output_type": "stream",
     "text": [
      "Epoch:\t 0 Val Loss:\t 0.05332096063582843\n",
      "Epoch:\t 0 Val Loss:\t 0.01645511112647421\n",
      "Epoch:\t 1 Val Loss:\t 0.016451175188213926\n",
      "Epoch:\t 2 Val Loss:\t 0.01645326805048167\n",
      "Epoch:\t 3 Val Loss:\t 0.016451220674672768\n"
     ]
    },
    {
     "name": "stderr",
     "output_type": "stream",
     "text": [
      "[I 2025-06-02 12:25:10,625] Trial 28 pruned. \n"
     ]
    },
    {
     "name": "stdout",
     "output_type": "stream",
     "text": [
      "Epoch:\t 4 Val Loss:\t 0.01644953744113893\n",
      "Epoch:\t 0 Val Loss:\t 0.01654880536134114\n",
      "Epoch:\t 1 Val Loss:\t 0.016495179389052855\n",
      "Epoch:\t 2 Val Loss:\t 0.016483704879402157\n"
     ]
    },
    {
     "name": "stderr",
     "output_type": "stream",
     "text": [
      "[I 2025-06-02 12:25:31,189] Trial 29 pruned. \n"
     ]
    },
    {
     "name": "stdout",
     "output_type": "stream",
     "text": [
      "Epoch:\t 3 Val Loss:\t 0.016487896521547755\n"
     ]
    },
    {
     "name": "stderr",
     "output_type": "stream",
     "text": [
      "[I 2025-06-02 12:25:39,481] Trial 30 pruned. \n"
     ]
    },
    {
     "name": "stdout",
     "output_type": "stream",
     "text": [
      "Epoch:\t 0 Val Loss:\t 0.01695522137282577\n",
      "Epoch:\t 0 Val Loss:\t 0.016452284210531905\n",
      "Epoch:\t 1 Val Loss:\t 0.016430559494213372\n",
      "Epoch:\t 2 Val Loss:\t 0.01641030994284412\n",
      "Epoch:\t 3 Val Loss:\t 0.01641289799423238\n",
      "Epoch:\t 4 Val Loss:\t 0.01641743752841922\n",
      "Epoch:\t 5 Val Loss:\t 0.01640792760738263\n",
      "Epoch:\t 6 Val Loss:\t 0.016410720311821798\n",
      "Epoch:\t 7 Val Loss:\t 0.016407421895865807\n",
      "Epoch:\t 8 Val Loss:\t 0.01640898535284489\n"
     ]
    },
    {
     "name": "stderr",
     "output_type": "stream",
     "text": [
      "[I 2025-06-02 12:27:01,576] Trial 31 pruned. \n"
     ]
    },
    {
     "name": "stdout",
     "output_type": "stream",
     "text": [
      "Epoch:\t 9 Val Loss:\t 0.016408704288984572\n",
      "Epoch:\t 0 Val Loss:\t 0.016441248232646925\n",
      "Epoch:\t 1 Val Loss:\t 0.016414956728407364\n",
      "Epoch:\t 2 Val Loss:\t 0.0164112974679651\n",
      "Epoch:\t 3 Val Loss:\t 0.01641438274540379\n",
      "Epoch:\t 4 Val Loss:\t 0.01641347355942071\n",
      "Epoch:\t 5 Val Loss:\t 0.01640809338727932\n",
      "Epoch:\t 6 Val Loss:\t 0.01641265078584164\n",
      "Epoch:\t 7 Val Loss:\t 0.016409851947660866\n",
      "Epoch:\t 8 Val Loss:\t 0.01641273191409565\n",
      "Epoch:\t 9 Val Loss:\t 0.01640519630977486\n",
      "Epoch:\t 10 Val Loss:\t 0.01640616228758835\n"
     ]
    },
    {
     "name": "stderr",
     "output_type": "stream",
     "text": [
      "[I 2025-06-02 12:28:41,291] Trial 32 pruned. \n"
     ]
    },
    {
     "name": "stdout",
     "output_type": "stream",
     "text": [
      "Epoch:\t 11 Val Loss:\t 0.01641040692728015\n",
      "Epoch:\t 0 Val Loss:\t 0.016452763241924163\n",
      "Epoch:\t 1 Val Loss:\t 0.01642219910177564\n",
      "Epoch:\t 2 Val Loss:\t 0.016414445981478863\n",
      "Epoch:\t 3 Val Loss:\t 0.01640953330341387\n",
      "Epoch:\t 4 Val Loss:\t 0.01641419426258336\n",
      "Epoch:\t 5 Val Loss:\t 0.016414821838713366\n",
      "Epoch:\t 6 Val Loss:\t 0.016408278317601416\n",
      "Epoch:\t 7 Val Loss:\t 0.01641201960347239\n",
      "Epoch:\t 8 Val Loss:\t 0.01641170097807203\n"
     ]
    },
    {
     "name": "stderr",
     "output_type": "stream",
     "text": [
      "[I 2025-06-02 12:30:06,756] Trial 33 pruned. \n"
     ]
    },
    {
     "name": "stdout",
     "output_type": "stream",
     "text": [
      "Epoch:\t 9 Val Loss:\t 0.01640869594887989\n",
      "Epoch:\t 0 Val Loss:\t 0.016835408736719938\n"
     ]
    },
    {
     "name": "stderr",
     "output_type": "stream",
     "text": [
      "[I 2025-06-02 12:30:11,707] Trial 34 pruned. \n"
     ]
    },
    {
     "name": "stdout",
     "output_type": "stream",
     "text": [
      "Epoch:\t 1 Val Loss:\t 0.016533373875982974\n",
      "Epoch:\t 0 Val Loss:\t 0.016488942897220613\n",
      "Epoch:\t 1 Val Loss:\t 0.01649953777518694\n",
      "Epoch:\t 2 Val Loss:\t 0.016498105184480538\n"
     ]
    },
    {
     "name": "stderr",
     "output_type": "stream",
     "text": [
      "[I 2025-06-02 12:30:25,457] Trial 35 pruned. \n"
     ]
    },
    {
     "name": "stdout",
     "output_type": "stream",
     "text": [
      "Epoch:\t 3 Val Loss:\t 0.01646706068241534\n"
     ]
    },
    {
     "name": "stderr",
     "output_type": "stream",
     "text": [
      "[I 2025-06-02 12:30:27,632] Trial 36 pruned. \n"
     ]
    },
    {
     "name": "stdout",
     "output_type": "stream",
     "text": [
      "Epoch:\t 0 Val Loss:\t 0.01884488394885201\n"
     ]
    },
    {
     "name": "stderr",
     "output_type": "stream",
     "text": [
      "[I 2025-06-02 12:30:35,979] Trial 37 pruned. \n"
     ]
    },
    {
     "name": "stdout",
     "output_type": "stream",
     "text": [
      "Epoch:\t 0 Val Loss:\t 0.01830337494104187\n"
     ]
    },
    {
     "name": "stderr",
     "output_type": "stream",
     "text": [
      "[I 2025-06-02 12:30:38,155] Trial 38 pruned. \n"
     ]
    },
    {
     "name": "stdout",
     "output_type": "stream",
     "text": [
      "Epoch:\t 0 Val Loss:\t 0.07887844808423634\n",
      "Epoch:\t 0 Val Loss:\t 0.01648140017394314\n",
      "Epoch:\t 1 Val Loss:\t 0.016530756850569317\n",
      "Epoch:\t 2 Val Loss:\t 0.016519198877514366\n"
     ]
    },
    {
     "name": "stderr",
     "output_type": "stream",
     "text": [
      "[I 2025-06-02 12:30:51,481] Trial 39 pruned. \n"
     ]
    },
    {
     "name": "stdout",
     "output_type": "stream",
     "text": [
      "Epoch:\t 3 Val Loss:\t 0.016516949271196207\n",
      "Epoch:\t 0 Val Loss:\t 0.016803159913452326\n",
      "Epoch:\t 1 Val Loss:\t 0.016502590693997683\n",
      "Epoch:\t 2 Val Loss:\t 0.016423806501281894\n",
      "Epoch:\t 3 Val Loss:\t 0.0163799303581375\n",
      "Epoch:\t 4 Val Loss:\t 0.016377146994540934\n",
      "Epoch:\t 5 Val Loss:\t 0.0163679450393571\n",
      "Epoch:\t 6 Val Loss:\t 0.016367817135981916\n",
      "Epoch:\t 7 Val Loss:\t 0.016366279129430793\n",
      "Epoch:\t 8 Val Loss:\t 0.016367886613840223\n",
      "Epoch:\t 9 Val Loss:\t 0.016364170182022346\n",
      "Epoch:\t 10 Val Loss:\t 0.016363876638327564\n",
      "Epoch:\t 11 Val Loss:\t 0.01636453140903943\n",
      "Epoch:\t 12 Val Loss:\t 0.01636660759893502\n",
      "Epoch:\t 13 Val Loss:\t 0.01636503990314135\n",
      "Epoch:\t 14 Val Loss:\t 0.016370387573599026\n",
      "Epoch:\t 15 Val Loss:\t 0.01636899427714752\n",
      "Epoch:\t 16 Val Loss:\t 0.016366851506737962\n",
      "Epoch:\t 17 Val Loss:\t 0.016367324627749286\n",
      "Epoch:\t 18 Val Loss:\t 0.01636901070824536\n",
      "Epoch:\t 19 Val Loss:\t 0.016369693509882054\n"
     ]
    },
    {
     "name": "stderr",
     "output_type": "stream",
     "text": [
      "[I 2025-06-02 12:33:45,707] Trial 40 finished with value: 0.016363876638327564 and parameters: {'lr': 0.0001, 'weight_decay': 1e-05, 'scheduler_factor': 0.8, 'scheduler_patience': 10, 'batch_size': 16, 'dropout': 0.15, 'hidden_dims': 64}. Best is trial 0 with value: 0.016348021804076993.\n"
     ]
    },
    {
     "name": "stdout",
     "output_type": "stream",
     "text": [
      "Epoch:\t 20 Val Loss:\t 0.016365468059055338\n"
     ]
    },
    {
     "name": "stderr",
     "output_type": "stream",
     "text": [
      "[I 2025-06-02 12:33:54,319] Trial 41 pruned. \n"
     ]
    },
    {
     "name": "stdout",
     "output_type": "stream",
     "text": [
      "Epoch:\t 0 Val Loss:\t 0.016853452505638248\n",
      "Epoch:\t 0 Val Loss:\t 0.016842663509051323\n"
     ]
    },
    {
     "name": "stderr",
     "output_type": "stream",
     "text": [
      "[I 2025-06-02 12:34:11,252] Trial 42 pruned. \n"
     ]
    },
    {
     "name": "stdout",
     "output_type": "stream",
     "text": [
      "Epoch:\t 1 Val Loss:\t 0.01651034297963089\n"
     ]
    },
    {
     "name": "stderr",
     "output_type": "stream",
     "text": [
      "[I 2025-06-02 12:34:19,410] Trial 43 pruned. \n"
     ]
    },
    {
     "name": "stdout",
     "output_type": "stream",
     "text": [
      "Epoch:\t 0 Val Loss:\t 0.01685127671554228\n"
     ]
    },
    {
     "name": "stderr",
     "output_type": "stream",
     "text": [
      "[I 2025-06-02 12:34:24,539] Trial 44 pruned. \n"
     ]
    },
    {
     "name": "stdout",
     "output_type": "stream",
     "text": [
      "Epoch:\t 0 Val Loss:\t 0.01701609967855031\n"
     ]
    },
    {
     "name": "stderr",
     "output_type": "stream",
     "text": [
      "[I 2025-06-02 12:34:26,625] Trial 45 pruned. \n"
     ]
    },
    {
     "name": "stdout",
     "output_type": "stream",
     "text": [
      "Epoch:\t 0 Val Loss:\t 0.023571859637928162\n"
     ]
    },
    {
     "name": "stderr",
     "output_type": "stream",
     "text": [
      "[I 2025-06-02 12:34:29,174] Trial 46 pruned. \n"
     ]
    },
    {
     "name": "stdout",
     "output_type": "stream",
     "text": [
      "Epoch:\t 0 Val Loss:\t 0.018924636790232905\n"
     ]
    },
    {
     "name": "stderr",
     "output_type": "stream",
     "text": [
      "[I 2025-06-02 12:34:34,779] Trial 47 pruned. \n"
     ]
    },
    {
     "name": "stdout",
     "output_type": "stream",
     "text": [
      "Epoch:\t 0 Val Loss:\t 0.017880654730694088\n"
     ]
    },
    {
     "name": "stderr",
     "output_type": "stream",
     "text": [
      "[I 2025-06-02 12:34:42,944] Trial 48 pruned. \n"
     ]
    },
    {
     "name": "stdout",
     "output_type": "stream",
     "text": [
      "Epoch:\t 0 Val Loss:\t 0.02398942257970888\n"
     ]
    },
    {
     "name": "stderr",
     "output_type": "stream",
     "text": [
      "[I 2025-06-02 12:34:45,047] Trial 49 pruned. \n"
     ]
    },
    {
     "name": "stdout",
     "output_type": "stream",
     "text": [
      "Epoch:\t 0 Val Loss:\t 0.01697508565530516\n",
      "Training model with best parameters on train+validation ...\n"
     ]
    },
    {
     "name": "stderr",
     "output_type": "stream",
     "text": [
      "100%|███████████████████████████████████████████████████████████████████████████████████████████████████████████████████████████████████████████████████████████████████| 401917/401917 [03:52<00:00, 1731.94it/s]\n",
      "100%|███████████████████████████████████████████████████████████████████████████████████████████████████████████████████████████████████████████████████████████████████| 401917/401917 [01:08<00:00, 5826.49it/s]\n"
     ]
    },
    {
     "name": "stdout",
     "output_type": "stream",
     "text": [
      "Getting test set predictions and saving results ...\n"
     ]
    },
    {
     "name": "stderr",
     "output_type": "stream",
     "text": [
      "100%|███████████████████████████████████████████████████████████████████████████████████████████████████████████████████████████████████████████████████████████████████████| 2446/2446 [00:01<00:00, 1452.11it/s]\n"
     ]
    }
   ],
   "source": [
    "train_different_fs(\n",
    "        adata_path=\"./data/feature_selection/sciplex_rand.h5ad\",\n",
    "        run_name=\"mlp_random_fs\",\n",
    "        res_savename=\"./results/feature_selection/mlp_random_fs_res.pkl\",\n",
    "    )"
   ]
  },
  {
   "cell_type": "code",
   "execution_count": 6,
   "id": "8ca7ec74-3186-4d95-a59a-10cdd5e4e620",
   "metadata": {},
   "outputs": [
    {
     "name": "stdout",
     "output_type": "stream",
     "text": [
      "Loading Datasets ...\n"
     ]
    },
    {
     "name": "stderr",
     "output_type": "stream",
     "text": [
      "100%|███████████████████████████████████████████████████████████████████████████████████████████████████████████████████████████████████████████████████████████████████| 401917/401917 [03:08<00:00, 2127.94it/s]\n",
      "100%|███████████████████████████████████████████████████████████████████████████████████████████████████████████████████████████████████████████████████████████████████| 401917/401917 [01:14<00:00, 5426.28it/s]\n",
      "[I 2025-06-02 12:46:30,838] A new study created in RDB with name: mlp_seurat_fs\n"
     ]
    },
    {
     "name": "stdout",
     "output_type": "stream",
     "text": [
      "Optimizing Hyperparameters with Optuna ...\n",
      "Epoch:\t 0 Val Loss:\t 0.0256692468820565\n",
      "Epoch:\t 1 Val Loss:\t 0.02513941158196167\n",
      "Epoch:\t 2 Val Loss:\t 0.02488266804833504\n",
      "Epoch:\t 3 Val Loss:\t 0.02478540679170388\n",
      "Epoch:\t 4 Val Loss:\t 0.024673726595339285\n",
      "Epoch:\t 5 Val Loss:\t 0.02454265138176285\n",
      "Epoch:\t 6 Val Loss:\t 0.02457182272262512\n",
      "Epoch:\t 7 Val Loss:\t 0.02454469413451635\n",
      "Epoch:\t 8 Val Loss:\t 0.024479650547937565\n",
      "Epoch:\t 9 Val Loss:\t 0.024488685484915684\n",
      "Epoch:\t 10 Val Loss:\t 0.024462337219350976\n",
      "Epoch:\t 11 Val Loss:\t 0.02441192571061792\n",
      "Epoch:\t 12 Val Loss:\t 0.024466704421488034\n",
      "Epoch:\t 13 Val Loss:\t 0.024450775038247323\n",
      "Epoch:\t 14 Val Loss:\t 0.024453887530270113\n",
      "Epoch:\t 15 Val Loss:\t 0.024435680179925593\n",
      "Epoch:\t 16 Val Loss:\t 0.02443898391349906\n",
      "Epoch:\t 17 Val Loss:\t 0.024445578671536645\n",
      "Epoch:\t 18 Val Loss:\t 0.02445518624313008\n",
      "Epoch:\t 19 Val Loss:\t 0.024456677533135154\n",
      "Epoch:\t 20 Val Loss:\t 0.024418470189214902\n"
     ]
    },
    {
     "name": "stderr",
     "output_type": "stream",
     "text": [
      "[I 2025-06-02 12:47:20,200] Trial 0 finished with value: 0.02441192571061792 and parameters: {'lr': 0.0001, 'weight_decay': 1e-06, 'scheduler_factor': 0.5, 'scheduler_patience': 10, 'batch_size': 256, 'dropout': 0.1, 'hidden_dims': 1024}. Best is trial 0 with value: 0.02441192571061792.\n"
     ]
    },
    {
     "name": "stdout",
     "output_type": "stream",
     "text": [
      "Epoch:\t 21 Val Loss:\t 0.024465737151658805\n",
      "Epoch:\t 0 Val Loss:\t 0.02721855367782415\n",
      "Epoch:\t 1 Val Loss:\t 0.026329860833871788\n",
      "Epoch:\t 2 Val Loss:\t 0.025848263772833387\n",
      "Epoch:\t 3 Val Loss:\t 0.025477461468943446\n",
      "Epoch:\t 4 Val Loss:\t 0.025245447472408655\n",
      "Epoch:\t 5 Val Loss:\t 0.024988486853778556\n",
      "Epoch:\t 6 Val Loss:\t 0.02484054149538758\n",
      "Epoch:\t 7 Val Loss:\t 0.02469093708315463\n",
      "Epoch:\t 8 Val Loss:\t 0.02460681279923563\n",
      "Epoch:\t 9 Val Loss:\t 0.02454209265409942\n",
      "Epoch:\t 10 Val Loss:\t 0.024491716092422462\n",
      "Epoch:\t 11 Val Loss:\t 0.024470362285229936\n",
      "Epoch:\t 12 Val Loss:\t 0.024441985131939126\n",
      "Epoch:\t 13 Val Loss:\t 0.024448423026506926\n",
      "Epoch:\t 14 Val Loss:\t 0.024424286487353578\n",
      "Epoch:\t 15 Val Loss:\t 0.02439655468370945\n",
      "Epoch:\t 16 Val Loss:\t 0.02437182871618838\n",
      "Epoch:\t 17 Val Loss:\t 0.02439828042743482\n",
      "Epoch:\t 18 Val Loss:\t 0.024381902745634412\n",
      "Epoch:\t 19 Val Loss:\t 0.024392098445936414\n",
      "Epoch:\t 20 Val Loss:\t 0.024363925249294836\n",
      "Epoch:\t 21 Val Loss:\t 0.024346573655628315\n",
      "Epoch:\t 22 Val Loss:\t 0.024358823619950624\n",
      "Epoch:\t 23 Val Loss:\t 0.0243516121646599\n",
      "Epoch:\t 24 Val Loss:\t 0.02430431195609631\n",
      "Epoch:\t 25 Val Loss:\t 0.024345658611733812\n",
      "Epoch:\t 26 Val Loss:\t 0.02431171161640687\n",
      "Epoch:\t 27 Val Loss:\t 0.02431664193630027\n",
      "Epoch:\t 28 Val Loss:\t 0.024308962909163387\n",
      "Epoch:\t 29 Val Loss:\t 0.024305544823551867\n",
      "Epoch:\t 30 Val Loss:\t 0.024353107898660794\n",
      "Epoch:\t 31 Val Loss:\t 0.024317408675309928\n",
      "Epoch:\t 32 Val Loss:\t 0.024331099937678916\n",
      "Epoch:\t 33 Val Loss:\t 0.024309860039322707\n",
      "Epoch:\t 34 Val Loss:\t 0.02429298748684466\n",
      "Epoch:\t 35 Val Loss:\t 0.024305596007363588\n",
      "Epoch:\t 36 Val Loss:\t 0.02431415624533244\n",
      "Epoch:\t 37 Val Loss:\t 0.024284157207253663\n",
      "Epoch:\t 38 Val Loss:\t 0.024307327812172208\n",
      "Epoch:\t 39 Val Loss:\t 0.02430735205650521\n",
      "Epoch:\t 40 Val Loss:\t 0.024296950081728663\n",
      "Epoch:\t 41 Val Loss:\t 0.024284189920333422\n",
      "Epoch:\t 42 Val Loss:\t 0.02429594283989388\n",
      "Epoch:\t 43 Val Loss:\t 0.02429984124239618\n",
      "Epoch:\t 44 Val Loss:\t 0.024283970876857398\n",
      "Epoch:\t 45 Val Loss:\t 0.02430149128247304\n",
      "Epoch:\t 46 Val Loss:\t 0.024292129933402854\n",
      "Epoch:\t 47 Val Loss:\t 0.024294136367570548\n",
      "Epoch:\t 48 Val Loss:\t 0.024286768887299817\n",
      "Epoch:\t 49 Val Loss:\t 0.024301177214148345\n",
      "Epoch:\t 50 Val Loss:\t 0.024294477231632857\n",
      "Epoch:\t 51 Val Loss:\t 0.02429715228952779\n",
      "Epoch:\t 52 Val Loss:\t 0.02428700586846787\n",
      "Epoch:\t 53 Val Loss:\t 0.024309702558964013\n"
     ]
    },
    {
     "name": "stderr",
     "output_type": "stream",
     "text": [
      "[I 2025-06-02 12:49:23,350] Trial 1 finished with value: 0.024283970876857398 and parameters: {'lr': 0.0001, 'weight_decay': 1e-06, 'scheduler_factor': 0.5, 'scheduler_patience': 20, 'batch_size': 256, 'dropout': 0.05, 'hidden_dims': 128}. Best is trial 1 with value: 0.024283970876857398.\n"
     ]
    },
    {
     "name": "stdout",
     "output_type": "stream",
     "text": [
      "Epoch:\t 54 Val Loss:\t 0.024294046709056452\n",
      "Epoch:\t 0 Val Loss:\t 0.025447565032067406\n",
      "Epoch:\t 1 Val Loss:\t 0.024901411870428602\n",
      "Epoch:\t 2 Val Loss:\t 0.02463309181752312\n",
      "Epoch:\t 3 Val Loss:\t 0.024448612686905447\n",
      "Epoch:\t 4 Val Loss:\t 0.024368517915343932\n",
      "Epoch:\t 5 Val Loss:\t 0.024353295492780938\n",
      "Epoch:\t 6 Val Loss:\t 0.024311095655826894\n",
      "Epoch:\t 7 Val Loss:\t 0.024274760162475793\n",
      "Epoch:\t 8 Val Loss:\t 0.024282271958815705\n",
      "Epoch:\t 9 Val Loss:\t 0.024282855948978298\n",
      "Epoch:\t 10 Val Loss:\t 0.024226698485409714\n",
      "Epoch:\t 11 Val Loss:\t 0.024223177109836\n",
      "Epoch:\t 12 Val Loss:\t 0.02420508543514554\n",
      "Epoch:\t 13 Val Loss:\t 0.024189158579352586\n",
      "Epoch:\t 14 Val Loss:\t 0.02417888931954022\n",
      "Epoch:\t 15 Val Loss:\t 0.024170007784266947\n",
      "Epoch:\t 16 Val Loss:\t 0.024170235625896423\n",
      "Epoch:\t 17 Val Loss:\t 0.024161938523987483\n",
      "Epoch:\t 18 Val Loss:\t 0.024141776162855493\n",
      "Epoch:\t 19 Val Loss:\t 0.02415489302379142\n",
      "Epoch:\t 20 Val Loss:\t 0.024147300816281816\n",
      "Epoch:\t 21 Val Loss:\t 0.024141084768141582\n",
      "Epoch:\t 22 Val Loss:\t 0.024142594840317676\n",
      "Epoch:\t 23 Val Loss:\t 0.024133979471645937\n",
      "Epoch:\t 24 Val Loss:\t 0.024144605634632218\n",
      "Epoch:\t 25 Val Loss:\t 0.024131930292467213\n",
      "Epoch:\t 26 Val Loss:\t 0.024133798962764418\n",
      "Epoch:\t 27 Val Loss:\t 0.024133595125899437\n",
      "Epoch:\t 28 Val Loss:\t 0.024132953100265798\n",
      "Epoch:\t 29 Val Loss:\t 0.024131834524956163\n",
      "Epoch:\t 30 Val Loss:\t 0.024141048886768303\n",
      "Epoch:\t 31 Val Loss:\t 0.024136066682325298\n",
      "Epoch:\t 32 Val Loss:\t 0.024132588459029075\n",
      "Epoch:\t 33 Val Loss:\t 0.024123882000421405\n",
      "Epoch:\t 34 Val Loss:\t 0.024130625362804466\n",
      "Epoch:\t 35 Val Loss:\t 0.024145226787859603\n",
      "Epoch:\t 36 Val Loss:\t 0.024133216008735622\n",
      "Epoch:\t 37 Val Loss:\t 0.02413338677316808\n",
      "Epoch:\t 38 Val Loss:\t 0.024129563673037042\n",
      "Epoch:\t 39 Val Loss:\t 0.02413832095610367\n",
      "Epoch:\t 40 Val Loss:\t 0.024135722524196004\n",
      "Epoch:\t 41 Val Loss:\t 0.0241377089124688\n",
      "Epoch:\t 42 Val Loss:\t 0.02413474197628222\n"
     ]
    },
    {
     "name": "stderr",
     "output_type": "stream",
     "text": [
      "[I 2025-06-02 12:51:01,663] Trial 2 finished with value: 0.024123882000421405 and parameters: {'lr': 0.0001, 'weight_decay': 1e-05, 'scheduler_factor': 0.8, 'scheduler_patience': 1, 'batch_size': 256, 'dropout': 0.1, 'hidden_dims': 1024}. Best is trial 2 with value: 0.024123882000421405.\n"
     ]
    },
    {
     "name": "stdout",
     "output_type": "stream",
     "text": [
      "Epoch:\t 43 Val Loss:\t 0.02413994264923683\n",
      "Epoch:\t 0 Val Loss:\t 0.02639020434801064\n",
      "Epoch:\t 1 Val Loss:\t 0.026305549508431194\n",
      "Epoch:\t 2 Val Loss:\t 0.02607811802479871\n",
      "Epoch:\t 3 Val Loss:\t 0.026080667040495272\n",
      "Epoch:\t 4 Val Loss:\t 0.026231835706050432\n",
      "Epoch:\t 5 Val Loss:\t 0.025933278461659826\n",
      "Epoch:\t 6 Val Loss:\t 0.02592487322837234\n",
      "Epoch:\t 7 Val Loss:\t 0.02591563373021393\n",
      "Epoch:\t 8 Val Loss:\t 0.02598435174802254\n",
      "Epoch:\t 9 Val Loss:\t 0.025948330625569047\n",
      "Epoch:\t 10 Val Loss:\t 0.025813679586507456\n",
      "Epoch:\t 11 Val Loss:\t 0.02584022021260181\n",
      "Epoch:\t 12 Val Loss:\t 0.025938520441018492\n",
      "Epoch:\t 13 Val Loss:\t 0.02580716908157302\n",
      "Epoch:\t 14 Val Loss:\t 0.02576497335916007\n",
      "Epoch:\t 15 Val Loss:\t 0.025792418501870862\n",
      "Epoch:\t 16 Val Loss:\t 0.02579869375188492\n",
      "Epoch:\t 17 Val Loss:\t 0.025749978191893678\n",
      "Epoch:\t 18 Val Loss:\t 0.025797499884472625\n",
      "Epoch:\t 19 Val Loss:\t 0.02579058035192436\n",
      "Epoch:\t 20 Val Loss:\t 0.025748875256517263\n",
      "Epoch:\t 21 Val Loss:\t 0.02578858485551433\n",
      "Epoch:\t 22 Val Loss:\t 0.025800754346772013\n",
      "Epoch:\t 23 Val Loss:\t 0.02575225502091259\n",
      "Epoch:\t 24 Val Loss:\t 0.02575206755396836\n",
      "Epoch:\t 25 Val Loss:\t 0.025774665247072386\n",
      "Epoch:\t 26 Val Loss:\t 0.02579039188868156\n",
      "Epoch:\t 27 Val Loss:\t 0.025794891634569134\n",
      "Epoch:\t 28 Val Loss:\t 0.025767826516279815\n",
      "Epoch:\t 29 Val Loss:\t 0.02578301448897782\n"
     ]
    },
    {
     "name": "stderr",
     "output_type": "stream",
     "text": [
      "[I 2025-06-02 12:52:59,816] Trial 3 finished with value: 0.025748875256517263 and parameters: {'lr': 0.001, 'weight_decay': 0.001, 'scheduler_factor': 0.3, 'scheduler_patience': 1, 'batch_size': 64, 'dropout': 0.15, 'hidden_dims': 512}. Best is trial 2 with value: 0.024123882000421405.\n"
     ]
    },
    {
     "name": "stdout",
     "output_type": "stream",
     "text": [
      "Epoch:\t 30 Val Loss:\t 0.025774479838448137\n",
      "Epoch:\t 0 Val Loss:\t 0.024676867002595165\n",
      "Epoch:\t 1 Val Loss:\t 0.026031460627943336\n",
      "Epoch:\t 2 Val Loss:\t 0.025938467898654317\n",
      "Epoch:\t 3 Val Loss:\t 0.025971205142851107\n",
      "Epoch:\t 4 Val Loss:\t 0.02591710275035344\n",
      "Epoch:\t 5 Val Loss:\t 0.025983410113619897\n",
      "Epoch:\t 6 Val Loss:\t 0.025871264972613904\n",
      "Epoch:\t 7 Val Loss:\t 0.0259070390107517\n",
      "Epoch:\t 8 Val Loss:\t 0.025880806363805502\n",
      "Epoch:\t 9 Val Loss:\t 0.02594327072879833\n"
     ]
    },
    {
     "name": "stderr",
     "output_type": "stream",
     "text": [
      "[I 2025-06-02 12:54:00,031] Trial 4 finished with value: 0.024676867002595165 and parameters: {'lr': 0.0001, 'weight_decay': 0.001, 'scheduler_factor': 0.8, 'scheduler_patience': 5, 'batch_size': 32, 'dropout': 0.1, 'hidden_dims': 256}. Best is trial 2 with value: 0.024123882000421405.\n"
     ]
    },
    {
     "name": "stdout",
     "output_type": "stream",
     "text": [
      "Epoch:\t 10 Val Loss:\t 0.02586687936677125\n",
      "Epoch:\t 0 Val Loss:\t 0.024417970260757697\n",
      "Epoch:\t 1 Val Loss:\t 0.02441037135321294\n",
      "Epoch:\t 2 Val Loss:\t 0.024310723930764735\n",
      "Epoch:\t 3 Val Loss:\t 0.024312372966691923\n",
      "Epoch:\t 4 Val Loss:\t 0.024273821853854682\n",
      "Epoch:\t 5 Val Loss:\t 0.02426746410480663\n",
      "Epoch:\t 6 Val Loss:\t 0.024256313847524396\n",
      "Epoch:\t 7 Val Loss:\t 0.024268017576508115\n",
      "Epoch:\t 8 Val Loss:\t 0.024279281138225695\n",
      "Epoch:\t 9 Val Loss:\t 0.02427546050321807\n",
      "Epoch:\t 10 Val Loss:\t 0.024305891227664765\n",
      "Epoch:\t 11 Val Loss:\t 0.024263367971725295\n",
      "Epoch:\t 12 Val Loss:\t 0.024250329703834044\n",
      "Epoch:\t 13 Val Loss:\t 0.024314117057317716\n",
      "Epoch:\t 14 Val Loss:\t 0.024262246142110127\n",
      "Epoch:\t 15 Val Loss:\t 0.024274758504252182\n",
      "Epoch:\t 16 Val Loss:\t 0.024265842610913333\n",
      "Epoch:\t 17 Val Loss:\t 0.024263539344048422\n",
      "Epoch:\t 18 Val Loss:\t 0.02425509634731191\n",
      "Epoch:\t 19 Val Loss:\t 0.024260203301739156\n",
      "Epoch:\t 20 Val Loss:\t 0.024284338506826618\n",
      "Epoch:\t 21 Val Loss:\t 0.024264615235392775\n"
     ]
    },
    {
     "name": "stderr",
     "output_type": "stream",
     "text": [
      "[I 2025-06-02 12:55:00,593] Trial 5 finished with value: 0.024250329703834044 and parameters: {'lr': 0.001, 'weight_decay': 0.0001, 'scheduler_factor': 0.3, 'scheduler_patience': 10, 'batch_size': 128, 'dropout': 0.05, 'hidden_dims': 512}. Best is trial 2 with value: 0.024123882000421405.\n"
     ]
    },
    {
     "name": "stdout",
     "output_type": "stream",
     "text": [
      "Epoch:\t 22 Val Loss:\t 0.024305881477928275\n",
      "Epoch:\t 0 Val Loss:\t 0.024456808487040082\n",
      "Epoch:\t 1 Val Loss:\t 0.0243041937330657\n",
      "Epoch:\t 2 Val Loss:\t 0.024237860840286337\n",
      "Epoch:\t 3 Val Loss:\t 0.02420541037765016\n",
      "Epoch:\t 4 Val Loss:\t 0.024206627889821846\n",
      "Epoch:\t 5 Val Loss:\t 0.024174918990169634\n",
      "Epoch:\t 6 Val Loss:\t 0.02419600962253099\n",
      "Epoch:\t 7 Val Loss:\t 0.024202971134699557\n",
      "Epoch:\t 8 Val Loss:\t 0.02417708020268627\n",
      "Epoch:\t 9 Val Loss:\t 0.02417788597460639\n",
      "Epoch:\t 10 Val Loss:\t 0.024159513599273673\n",
      "Epoch:\t 11 Val Loss:\t 0.024164425403501593\n",
      "Epoch:\t 12 Val Loss:\t 0.024148506855361917\n",
      "Epoch:\t 13 Val Loss:\t 0.024155419331827285\n",
      "Epoch:\t 14 Val Loss:\t 0.024146277744496424\n",
      "Epoch:\t 15 Val Loss:\t 0.024143056731736872\n",
      "Epoch:\t 16 Val Loss:\t 0.024145816765235285\n",
      "Epoch:\t 17 Val Loss:\t 0.024141347872909537\n",
      "Epoch:\t 18 Val Loss:\t 0.024149940811085662\n",
      "Epoch:\t 19 Val Loss:\t 0.02414489169433163\n",
      "Epoch:\t 20 Val Loss:\t 0.02414597628300301\n",
      "Epoch:\t 21 Val Loss:\t 0.02414126234371245\n",
      "Epoch:\t 22 Val Loss:\t 0.024136874164016633\n",
      "Epoch:\t 23 Val Loss:\t 0.024136630671747615\n",
      "Epoch:\t 24 Val Loss:\t 0.024136068945209442\n",
      "Epoch:\t 25 Val Loss:\t 0.02413253787229283\n",
      "Epoch:\t 26 Val Loss:\t 0.024137130183545966\n",
      "Epoch:\t 27 Val Loss:\t 0.024136615902137604\n",
      "Epoch:\t 28 Val Loss:\t 0.024146293868485654\n",
      "Epoch:\t 29 Val Loss:\t 0.024134984078486698\n",
      "Epoch:\t 30 Val Loss:\t 0.024145369015837366\n",
      "Epoch:\t 31 Val Loss:\t 0.024135828574291203\n",
      "Epoch:\t 32 Val Loss:\t 0.024140314281249887\n",
      "Epoch:\t 33 Val Loss:\t 0.02413726174967725\n",
      "Epoch:\t 34 Val Loss:\t 0.024140857554744946\n"
     ]
    },
    {
     "name": "stderr",
     "output_type": "stream",
     "text": [
      "[I 2025-06-02 12:56:35,502] Trial 6 finished with value: 0.02413253787229283 and parameters: {'lr': 0.0001, 'weight_decay': 0.0001, 'scheduler_factor': 0.5, 'scheduler_patience': 1, 'batch_size': 128, 'dropout': 0.15, 'hidden_dims': 512}. Best is trial 2 with value: 0.024123882000421405.\n"
     ]
    },
    {
     "name": "stdout",
     "output_type": "stream",
     "text": [
      "Epoch:\t 35 Val Loss:\t 0.024135668775482316\n"
     ]
    },
    {
     "name": "stderr",
     "output_type": "stream",
     "text": [
      "[I 2025-06-02 12:56:44,976] Trial 7 pruned. \n"
     ]
    },
    {
     "name": "stdout",
     "output_type": "stream",
     "text": [
      "Epoch:\t 0 Val Loss:\t 0.025891854761023184\n"
     ]
    },
    {
     "name": "stderr",
     "output_type": "stream",
     "text": [
      "[I 2025-06-02 12:56:48,766] Trial 8 pruned. \n"
     ]
    },
    {
     "name": "stdout",
     "output_type": "stream",
     "text": [
      "Epoch:\t 0 Val Loss:\t 0.026152807757640804\n",
      "Epoch:\t 0 Val Loss:\t 0.024538067818613712\n",
      "Epoch:\t 1 Val Loss:\t 0.025891754814313505\n",
      "Epoch:\t 2 Val Loss:\t 0.02607927009209483\n",
      "Epoch:\t 3 Val Loss:\t 0.02607146701616849\n",
      "Epoch:\t 4 Val Loss:\t 0.025959563974238827\n",
      "Epoch:\t 5 Val Loss:\t 0.025943282427255042\n",
      "Epoch:\t 6 Val Loss:\t 0.025931896233486986\n",
      "Epoch:\t 7 Val Loss:\t 0.025929701304387952\n"
     ]
    },
    {
     "name": "stderr",
     "output_type": "stream",
     "text": [
      "[I 2025-06-02 12:57:37,400] Trial 9 pruned. \n"
     ]
    },
    {
     "name": "stdout",
     "output_type": "stream",
     "text": [
      "Epoch:\t 8 Val Loss:\t 0.0259515617729607\n"
     ]
    },
    {
     "name": "stderr",
     "output_type": "stream",
     "text": [
      "[I 2025-06-02 12:57:39,747] Trial 10 pruned. \n"
     ]
    },
    {
     "name": "stdout",
     "output_type": "stream",
     "text": [
      "Epoch:\t 0 Val Loss:\t 0.05010668419517122\n",
      "Epoch:\t 0 Val Loss:\t 0.024470942686902385\n",
      "Epoch:\t 1 Val Loss:\t 0.024374559500746514\n",
      "Epoch:\t 2 Val Loss:\t 0.02432273995627561\n",
      "Epoch:\t 3 Val Loss:\t 0.024248244764094942\n",
      "Epoch:\t 4 Val Loss:\t 0.024256242851743156\n",
      "Epoch:\t 5 Val Loss:\t 0.024223195212514977\n",
      "Epoch:\t 6 Val Loss:\t 0.024211782752797846\n",
      "Epoch:\t 7 Val Loss:\t 0.02421447333624141\n",
      "Epoch:\t 8 Val Loss:\t 0.024229585547388844\n",
      "Epoch:\t 9 Val Loss:\t 0.02416514903665737\n",
      "Epoch:\t 10 Val Loss:\t 0.024153123043154638\n",
      "Epoch:\t 11 Val Loss:\t 0.02416457100674199\n",
      "Epoch:\t 12 Val Loss:\t 0.024156519371782988\n",
      "Epoch:\t 13 Val Loss:\t 0.024141181173643177\n",
      "Epoch:\t 14 Val Loss:\t 0.024146133053144902\n",
      "Epoch:\t 15 Val Loss:\t 0.02413803617354859\n",
      "Epoch:\t 16 Val Loss:\t 0.02414644072146228\n",
      "Epoch:\t 17 Val Loss:\t 0.02414279733971359\n",
      "Epoch:\t 18 Val Loss:\t 0.024138437398674974\n",
      "Epoch:\t 19 Val Loss:\t 0.02414121659977861\n",
      "Epoch:\t 20 Val Loss:\t 0.024134911806061025\n",
      "Epoch:\t 21 Val Loss:\t 0.02413877091679967\n",
      "Epoch:\t 22 Val Loss:\t 0.024140107004423393\n",
      "Epoch:\t 23 Val Loss:\t 0.024140114846667737\n",
      "Epoch:\t 24 Val Loss:\t 0.024146505331031583\n",
      "Epoch:\t 25 Val Loss:\t 0.02414028988747497\n",
      "Epoch:\t 26 Val Loss:\t 0.024143093796282482\n",
      "Epoch:\t 27 Val Loss:\t 0.0241422402055076\n",
      "Epoch:\t 28 Val Loss:\t 0.0241376424318906\n",
      "Epoch:\t 29 Val Loss:\t 0.024147138376249357\n"
     ]
    },
    {
     "name": "stderr",
     "output_type": "stream",
     "text": [
      "[I 2025-06-02 12:59:01,287] Trial 11 finished with value: 0.024134911806061025 and parameters: {'lr': 0.0001, 'weight_decay': 0.0001, 'scheduler_factor': 0.1, 'scheduler_patience': 1, 'batch_size': 128, 'dropout': 0.1, 'hidden_dims': 1024}. Best is trial 2 with value: 0.024123882000421405.\n"
     ]
    },
    {
     "name": "stdout",
     "output_type": "stream",
     "text": [
      "Epoch:\t 30 Val Loss:\t 0.02413607273627533\n"
     ]
    },
    {
     "name": "stderr",
     "output_type": "stream",
     "text": [
      "[I 2025-06-02 12:59:03,993] Trial 12 pruned. \n"
     ]
    },
    {
     "name": "stdout",
     "output_type": "stream",
     "text": [
      "Epoch:\t 0 Val Loss:\t 0.0494289608974231\n"
     ]
    },
    {
     "name": "stderr",
     "output_type": "stream",
     "text": [
      "[I 2025-06-02 12:59:12,809] Trial 13 pruned. \n"
     ]
    },
    {
     "name": "stdout",
     "output_type": "stream",
     "text": [
      "Epoch:\t 0 Val Loss:\t 0.026471031333730924\n",
      "Epoch:\t 0 Val Loss:\t 0.02440906037990584\n",
      "Epoch:\t 1 Val Loss:\t 0.024287334988626202\n",
      "Epoch:\t 2 Val Loss:\t 0.024268692374277267\n",
      "Epoch:\t 3 Val Loss:\t 0.0242108516484786\n",
      "Epoch:\t 4 Val Loss:\t 0.024215924070720495\n",
      "Epoch:\t 5 Val Loss:\t 0.02420297647149184\n",
      "Epoch:\t 6 Val Loss:\t 0.024199054512175855\n",
      "Epoch:\t 7 Val Loss:\t 0.02421205390370294\n",
      "Epoch:\t 8 Val Loss:\t 0.024201509430645748\n",
      "Epoch:\t 9 Val Loss:\t 0.024202107178289474\n",
      "Epoch:\t 10 Val Loss:\t 0.024211035317847473\n",
      "Epoch:\t 11 Val Loss:\t 0.024197500515998272\n",
      "Epoch:\t 12 Val Loss:\t 0.024210968513765266\n",
      "Epoch:\t 13 Val Loss:\t 0.024194901671565554\n",
      "Epoch:\t 14 Val Loss:\t 0.02421797617648042\n",
      "Epoch:\t 15 Val Loss:\t 0.02422144620067905\n",
      "Epoch:\t 16 Val Loss:\t 0.024195998180567932\n",
      "Epoch:\t 17 Val Loss:\t 0.024193994025213952\n",
      "Epoch:\t 18 Val Loss:\t 0.02419686917795607\n",
      "Epoch:\t 19 Val Loss:\t 0.024205792046497376\n",
      "Epoch:\t 20 Val Loss:\t 0.02418199602819465\n",
      "Epoch:\t 21 Val Loss:\t 0.024191493066820058\n",
      "Epoch:\t 22 Val Loss:\t 0.02418730008815016\n"
     ]
    },
    {
     "name": "stderr",
     "output_type": "stream",
     "text": [
      "[I 2025-06-02 13:00:16,953] Trial 14 pruned. \n"
     ]
    },
    {
     "name": "stdout",
     "output_type": "stream",
     "text": [
      "Epoch:\t 23 Val Loss:\t 0.024204386126124456\n"
     ]
    },
    {
     "name": "stderr",
     "output_type": "stream",
     "text": [
      "[I 2025-06-02 13:00:19,302] Trial 15 pruned. \n"
     ]
    },
    {
     "name": "stdout",
     "output_type": "stream",
     "text": [
      "Epoch:\t 0 Val Loss:\t 0.025499802687687506\n",
      "Epoch:\t 0 Val Loss:\t 0.024416968881198913\n",
      "Epoch:\t 1 Val Loss:\t 0.024296551443528786\n",
      "Epoch:\t 2 Val Loss:\t 0.024330361577327906\n",
      "Epoch:\t 3 Val Loss:\t 0.02423840052901168\n",
      "Epoch:\t 4 Val Loss:\t 0.024192744205267815\n",
      "Epoch:\t 5 Val Loss:\t 0.024184784404993248\n",
      "Epoch:\t 6 Val Loss:\t 0.024232114980634104\n",
      "Epoch:\t 7 Val Loss:\t 0.024189250723101546\n",
      "Epoch:\t 8 Val Loss:\t 0.024195656039861194\n",
      "Epoch:\t 9 Val Loss:\t 0.02420603817277984\n",
      "Epoch:\t 10 Val Loss:\t 0.024185980540097813\n",
      "Epoch:\t 11 Val Loss:\t 0.024173877795449612\n",
      "Epoch:\t 12 Val Loss:\t 0.02420512736919986\n",
      "Epoch:\t 13 Val Loss:\t 0.024182610144991172\n",
      "Epoch:\t 14 Val Loss:\t 0.02418666800564786\n",
      "Epoch:\t 15 Val Loss:\t 0.024162382975722967\n",
      "Epoch:\t 16 Val Loss:\t 0.0241887043850619\n",
      "Epoch:\t 17 Val Loss:\t 0.02417484304029046\n",
      "Epoch:\t 18 Val Loss:\t 0.024171074475632624\n",
      "Epoch:\t 19 Val Loss:\t 0.024165133400005475\n",
      "Epoch:\t 20 Val Loss:\t 0.024154452089800306\n",
      "Epoch:\t 21 Val Loss:\t 0.024168958474865502\n",
      "Epoch:\t 22 Val Loss:\t 0.02416745505712771\n"
     ]
    },
    {
     "name": "stderr",
     "output_type": "stream",
     "text": [
      "[I 2025-06-02 13:01:24,411] Trial 16 pruned. \n"
     ]
    },
    {
     "name": "stdout",
     "output_type": "stream",
     "text": [
      "Epoch:\t 23 Val Loss:\t 0.02414860154530497\n"
     ]
    },
    {
     "name": "stderr",
     "output_type": "stream",
     "text": [
      "[I 2025-06-02 13:01:26,748] Trial 17 pruned. \n"
     ]
    },
    {
     "name": "stdout",
     "output_type": "stream",
     "text": [
      "Epoch:\t 0 Val Loss:\t 0.05011971674595998\n"
     ]
    },
    {
     "name": "stderr",
     "output_type": "stream",
     "text": [
      "[I 2025-06-02 13:01:36,019] Trial 18 pruned. \n"
     ]
    },
    {
     "name": "stdout",
     "output_type": "stream",
     "text": [
      "Epoch:\t 0 Val Loss:\t 0.02611279217692391\n",
      "Epoch:\t 0 Val Loss:\t 0.024253707483993144\n",
      "Epoch:\t 1 Val Loss:\t 0.024194051600798575\n",
      "Epoch:\t 2 Val Loss:\t 0.024193565407114658\n",
      "Epoch:\t 3 Val Loss:\t 0.02420658919258502\n",
      "Epoch:\t 4 Val Loss:\t 0.024193553896042292\n",
      "Epoch:\t 5 Val Loss:\t 0.02419193610623628\n",
      "Epoch:\t 6 Val Loss:\t 0.024193398228926744\n",
      "Epoch:\t 7 Val Loss:\t 0.024219924662418978\n",
      "Epoch:\t 8 Val Loss:\t 0.02417962999271606\n",
      "Epoch:\t 9 Val Loss:\t 0.02418942194738106\n",
      "Epoch:\t 10 Val Loss:\t 0.024198362695236123\n",
      "Epoch:\t 11 Val Loss:\t 0.024190134015344904\n",
      "Epoch:\t 12 Val Loss:\t 0.02419301804662766\n",
      "Epoch:\t 13 Val Loss:\t 0.02419748364542732\n",
      "Epoch:\t 14 Val Loss:\t 0.024173525104556746\n",
      "Epoch:\t 15 Val Loss:\t 0.024200676129626966\n",
      "Epoch:\t 16 Val Loss:\t 0.024186467336031622\n",
      "Epoch:\t 17 Val Loss:\t 0.02420234772001574\n",
      "Epoch:\t 18 Val Loss:\t 0.02419104196638884\n",
      "Epoch:\t 19 Val Loss:\t 0.024223951584769633\n",
      "Epoch:\t 20 Val Loss:\t 0.024183500891846264\n",
      "Epoch:\t 21 Val Loss:\t 0.024185862637802452\n",
      "Epoch:\t 22 Val Loss:\t 0.024170198687212263\n"
     ]
    },
    {
     "name": "stderr",
     "output_type": "stream",
     "text": [
      "[I 2025-06-02 13:03:49,319] Trial 19 pruned. \n"
     ]
    },
    {
     "name": "stdout",
     "output_type": "stream",
     "text": [
      "Epoch:\t 23 Val Loss:\t 0.024170906776804963\n"
     ]
    },
    {
     "name": "stderr",
     "output_type": "stream",
     "text": [
      "[I 2025-06-02 13:03:52,975] Trial 20 pruned. \n"
     ]
    },
    {
     "name": "stdout",
     "output_type": "stream",
     "text": [
      "Epoch:\t 0 Val Loss:\t 0.02532540575123923\n",
      "Epoch:\t 0 Val Loss:\t 0.024502818378504744\n",
      "Epoch:\t 1 Val Loss:\t 0.024345426537682503\n",
      "Epoch:\t 2 Val Loss:\t 0.02435503794810171\n",
      "Epoch:\t 3 Val Loss:\t 0.024261803633830903\n",
      "Epoch:\t 4 Val Loss:\t 0.024259823800496648\n",
      "Epoch:\t 5 Val Loss:\t 0.024203750674118008\n",
      "Epoch:\t 6 Val Loss:\t 0.024218496105620223\n",
      "Epoch:\t 7 Val Loss:\t 0.02422740388464296\n",
      "Epoch:\t 8 Val Loss:\t 0.02417229624826874\n",
      "Epoch:\t 9 Val Loss:\t 0.024155434265876276\n",
      "Epoch:\t 10 Val Loss:\t 0.02415799287358601\n",
      "Epoch:\t 11 Val Loss:\t 0.02415686889131513\n",
      "Epoch:\t 12 Val Loss:\t 0.024137537379302146\n",
      "Epoch:\t 13 Val Loss:\t 0.024141633862190034\n",
      "Epoch:\t 14 Val Loss:\t 0.024144549144022347\n",
      "Epoch:\t 15 Val Loss:\t 0.02414214639456563\n",
      "Epoch:\t 16 Val Loss:\t 0.024145737009341223\n",
      "Epoch:\t 17 Val Loss:\t 0.024140093882192962\n",
      "Epoch:\t 18 Val Loss:\t 0.02414218136625152\n",
      "Epoch:\t 19 Val Loss:\t 0.02414486062732401\n",
      "Epoch:\t 20 Val Loss:\t 0.024137455357139986\n",
      "Epoch:\t 21 Val Loss:\t 0.024138479686400482\n",
      "Epoch:\t 22 Val Loss:\t 0.024148412383674236\n",
      "Epoch:\t 23 Val Loss:\t 0.02413763709210852\n",
      "Epoch:\t 24 Val Loss:\t 0.024156191946869868\n",
      "Epoch:\t 25 Val Loss:\t 0.024142285545818494\n",
      "Epoch:\t 26 Val Loss:\t 0.02414005777438322\n",
      "Epoch:\t 27 Val Loss:\t 0.02414061657689739\n",
      "Epoch:\t 28 Val Loss:\t 0.024142179560412563\n",
      "Epoch:\t 29 Val Loss:\t 0.02414764335340137\n"
     ]
    },
    {
     "name": "stderr",
     "output_type": "stream",
     "text": [
      "[I 2025-06-02 13:05:17,892] Trial 21 finished with value: 0.024137455357139986 and parameters: {'lr': 0.0001, 'weight_decay': 0.0001, 'scheduler_factor': 0.1, 'scheduler_patience': 1, 'batch_size': 128, 'dropout': 0.1, 'hidden_dims': 1024}. Best is trial 2 with value: 0.024123882000421405.\n"
     ]
    },
    {
     "name": "stdout",
     "output_type": "stream",
     "text": [
      "Epoch:\t 30 Val Loss:\t 0.024143912827963812\n",
      "Epoch:\t 0 Val Loss:\t 0.024515878812770207\n",
      "Epoch:\t 1 Val Loss:\t 0.024392121912460075\n",
      "Epoch:\t 2 Val Loss:\t 0.024318700285559672\n",
      "Epoch:\t 3 Val Loss:\t 0.024266375479905792\n",
      "Epoch:\t 4 Val Loss:\t 0.024230827695509213\n",
      "Epoch:\t 5 Val Loss:\t 0.024204972993887446\n",
      "Epoch:\t 6 Val Loss:\t 0.024215981926332508\n",
      "Epoch:\t 7 Val Loss:\t 0.024215409436515782\n",
      "Epoch:\t 8 Val Loss:\t 0.024168752208591274\n",
      "Epoch:\t 9 Val Loss:\t 0.024158201178903563\n",
      "Epoch:\t 10 Val Loss:\t 0.024160868713982032\n",
      "Epoch:\t 11 Val Loss:\t 0.024145620682218483\n",
      "Epoch:\t 12 Val Loss:\t 0.024150663983812302\n",
      "Epoch:\t 13 Val Loss:\t 0.024148160364496764\n",
      "Epoch:\t 14 Val Loss:\t 0.024139073484518936\n",
      "Epoch:\t 15 Val Loss:\t 0.024146093249942862\n",
      "Epoch:\t 16 Val Loss:\t 0.024141812870461334\n",
      "Epoch:\t 17 Val Loss:\t 0.024140996795691802\n",
      "Epoch:\t 18 Val Loss:\t 0.02413563724804556\n",
      "Epoch:\t 19 Val Loss:\t 0.024140821614363987\n",
      "Epoch:\t 20 Val Loss:\t 0.024138753166359463\n",
      "Epoch:\t 21 Val Loss:\t 0.02413603277162411\n",
      "Epoch:\t 22 Val Loss:\t 0.024146958207935814\n",
      "Epoch:\t 23 Val Loss:\t 0.02413415935422693\n",
      "Epoch:\t 24 Val Loss:\t 0.024141011628087603\n",
      "Epoch:\t 25 Val Loss:\t 0.024138099703800237\n",
      "Epoch:\t 26 Val Loss:\t 0.024138999591621885\n",
      "Epoch:\t 27 Val Loss:\t 0.024138751366500105\n",
      "Epoch:\t 28 Val Loss:\t 0.02414019066798553\n",
      "Epoch:\t 29 Val Loss:\t 0.024146387308692473\n",
      "Epoch:\t 30 Val Loss:\t 0.024135363032595877\n",
      "Epoch:\t 31 Val Loss:\t 0.024140727662901436\n",
      "Epoch:\t 32 Val Loss:\t 0.024149197137303183\n"
     ]
    },
    {
     "name": "stderr",
     "output_type": "stream",
     "text": [
      "[I 2025-06-02 13:06:56,551] Trial 22 finished with value: 0.02413415935422693 and parameters: {'lr': 0.0001, 'weight_decay': 0.0001, 'scheduler_factor': 0.1, 'scheduler_patience': 1, 'batch_size': 128, 'dropout': 0.1, 'hidden_dims': 1024}. Best is trial 2 with value: 0.024123882000421405.\n"
     ]
    },
    {
     "name": "stdout",
     "output_type": "stream",
     "text": [
      "Epoch:\t 33 Val Loss:\t 0.02413947961291666\n",
      "Epoch:\t 0 Val Loss:\t 0.024507566754307066\n",
      "Epoch:\t 1 Val Loss:\t 0.02442913089264453\n",
      "Epoch:\t 2 Val Loss:\t 0.024345685233082472\n",
      "Epoch:\t 3 Val Loss:\t 0.024272539738093294\n",
      "Epoch:\t 4 Val Loss:\t 0.02423544463972123\n",
      "Epoch:\t 5 Val Loss:\t 0.02422909846418742\n",
      "Epoch:\t 6 Val Loss:\t 0.024232413356654332\n",
      "Epoch:\t 7 Val Loss:\t 0.024208493432086888\n",
      "Epoch:\t 8 Val Loss:\t 0.024238173546416036\n",
      "Epoch:\t 9 Val Loss:\t 0.024202122686379984\n",
      "Epoch:\t 10 Val Loss:\t 0.024210282937768567\n",
      "Epoch:\t 11 Val Loss:\t 0.024221990146879018\n",
      "Epoch:\t 12 Val Loss:\t 0.02415662883432585\n",
      "Epoch:\t 13 Val Loss:\t 0.024155704941403233\n",
      "Epoch:\t 14 Val Loss:\t 0.024156433809698105\n",
      "Epoch:\t 15 Val Loss:\t 0.02414811086238483\n",
      "Epoch:\t 16 Val Loss:\t 0.024143636483776817\n",
      "Epoch:\t 17 Val Loss:\t 0.02414604067431694\n",
      "Epoch:\t 18 Val Loss:\t 0.024142468847442016\n",
      "Epoch:\t 19 Val Loss:\t 0.024135725019592342\n",
      "Epoch:\t 20 Val Loss:\t 0.024140892864278195\n",
      "Epoch:\t 21 Val Loss:\t 0.02413966998541623\n",
      "Epoch:\t 22 Val Loss:\t 0.02413650518985851\n",
      "Epoch:\t 23 Val Loss:\t 0.024142473078008448\n",
      "Epoch:\t 24 Val Loss:\t 0.024138570633114437\n",
      "Epoch:\t 25 Val Loss:\t 0.02414398058579209\n",
      "Epoch:\t 26 Val Loss:\t 0.024139511445312973\n",
      "Epoch:\t 27 Val Loss:\t 0.024151249012848538\n",
      "Epoch:\t 28 Val Loss:\t 0.024140188883075172\n"
     ]
    },
    {
     "name": "stderr",
     "output_type": "stream",
     "text": [
      "[I 2025-06-02 13:08:21,553] Trial 23 finished with value: 0.024135725019592342 and parameters: {'lr': 0.0001, 'weight_decay': 0.0001, 'scheduler_factor': 0.1, 'scheduler_patience': 1, 'batch_size': 128, 'dropout': 0.1, 'hidden_dims': 1024}. Best is trial 2 with value: 0.024123882000421405.\n"
     ]
    },
    {
     "name": "stdout",
     "output_type": "stream",
     "text": [
      "Epoch:\t 29 Val Loss:\t 0.024144115942989267\n",
      "Epoch:\t 0 Val Loss:\t 0.024504665973002798\n",
      "Epoch:\t 1 Val Loss:\t 0.024323119834232867\n",
      "Epoch:\t 2 Val Loss:\t 0.024372506527944704\n",
      "Epoch:\t 3 Val Loss:\t 0.024285952511271924\n",
      "Epoch:\t 4 Val Loss:\t 0.024231708104786483\n",
      "Epoch:\t 5 Val Loss:\t 0.024201312346046083\n",
      "Epoch:\t 6 Val Loss:\t 0.02421438940658711\n",
      "Epoch:\t 7 Val Loss:\t 0.02426646389126969\n",
      "Epoch:\t 8 Val Loss:\t 0.02416576918387968\n",
      "Epoch:\t 9 Val Loss:\t 0.02416013019760386\n",
      "Epoch:\t 10 Val Loss:\t 0.024149507185501042\n",
      "Epoch:\t 11 Val Loss:\t 0.024149904936480292\n",
      "Epoch:\t 12 Val Loss:\t 0.024155417466192337\n",
      "Epoch:\t 13 Val Loss:\t 0.02413887538338741\n",
      "Epoch:\t 14 Val Loss:\t 0.024144225824104075\n",
      "Epoch:\t 15 Val Loss:\t 0.024145180039574207\n",
      "Epoch:\t 16 Val Loss:\t 0.024144225330787143\n",
      "Epoch:\t 17 Val Loss:\t 0.024134673704400682\n",
      "Epoch:\t 18 Val Loss:\t 0.024140110161651768\n",
      "Epoch:\t 19 Val Loss:\t 0.024137259271133388\n",
      "Epoch:\t 20 Val Loss:\t 0.024134901180313258\n",
      "Epoch:\t 21 Val Loss:\t 0.02414000930375215\n",
      "Epoch:\t 22 Val Loss:\t 0.024140834688757624\n",
      "Epoch:\t 23 Val Loss:\t 0.024136470385601395\n",
      "Epoch:\t 24 Val Loss:\t 0.024135956974224715\n",
      "Epoch:\t 25 Val Loss:\t 0.024139525398707697\n",
      "Epoch:\t 26 Val Loss:\t 0.02413773001209021\n"
     ]
    },
    {
     "name": "stderr",
     "output_type": "stream",
     "text": [
      "[I 2025-06-02 13:09:41,895] Trial 24 finished with value: 0.024134673704400682 and parameters: {'lr': 0.0001, 'weight_decay': 0.0001, 'scheduler_factor': 0.1, 'scheduler_patience': 1, 'batch_size': 128, 'dropout': 0.1, 'hidden_dims': 1024}. Best is trial 2 with value: 0.024123882000421405.\n"
     ]
    },
    {
     "name": "stdout",
     "output_type": "stream",
     "text": [
      "Epoch:\t 27 Val Loss:\t 0.024145893632982935\n"
     ]
    },
    {
     "name": "stderr",
     "output_type": "stream",
     "text": [
      "[I 2025-06-02 13:09:44,849] Trial 25 pruned. \n"
     ]
    },
    {
     "name": "stdout",
     "output_type": "stream",
     "text": [
      "Epoch:\t 0 Val Loss:\t 0.02484856127279173\n"
     ]
    },
    {
     "name": "stderr",
     "output_type": "stream",
     "text": [
      "[I 2025-06-02 13:09:48,179] Trial 26 pruned. \n"
     ]
    },
    {
     "name": "stdout",
     "output_type": "stream",
     "text": [
      "Epoch:\t 0 Val Loss:\t 0.027562685472289784\n"
     ]
    },
    {
     "name": "stderr",
     "output_type": "stream",
     "text": [
      "[I 2025-06-02 13:09:51,532] Trial 27 pruned. \n"
     ]
    },
    {
     "name": "stdout",
     "output_type": "stream",
     "text": [
      "Epoch:\t 0 Val Loss:\t 0.03709162682007825\n",
      "Epoch:\t 0 Val Loss:\t 0.024359023851309558\n",
      "Epoch:\t 1 Val Loss:\t 0.02433124809283344\n",
      "Epoch:\t 2 Val Loss:\t 0.024302861302899395\n"
     ]
    },
    {
     "name": "stderr",
     "output_type": "stream",
     "text": [
      "[I 2025-06-02 13:10:02,996] Trial 28 pruned. \n"
     ]
    },
    {
     "name": "stdout",
     "output_type": "stream",
     "text": [
      "Epoch:\t 3 Val Loss:\t 0.024323542497549026\n"
     ]
    },
    {
     "name": "stderr",
     "output_type": "stream",
     "text": [
      "[I 2025-06-02 13:10:05,938] Trial 29 pruned. \n"
     ]
    },
    {
     "name": "stdout",
     "output_type": "stream",
     "text": [
      "Epoch:\t 0 Val Loss:\t 0.025566789414434188\n",
      "Epoch:\t 0 Val Loss:\t 0.024268716949715007\n",
      "Epoch:\t 1 Val Loss:\t 0.024197751719245594\n",
      "Epoch:\t 2 Val Loss:\t 0.024157920476303708\n",
      "Epoch:\t 3 Val Loss:\t 0.024161299288107157\n",
      "Epoch:\t 4 Val Loss:\t 0.024161026858620344\n",
      "Epoch:\t 5 Val Loss:\t 0.02415446891385761\n",
      "Epoch:\t 6 Val Loss:\t 0.02415328182278571\n",
      "Epoch:\t 7 Val Loss:\t 0.02415072518799986\n",
      "Epoch:\t 8 Val Loss:\t 0.02416313056069167\n",
      "Epoch:\t 9 Val Loss:\t 0.02416056162296854\n",
      "Epoch:\t 10 Val Loss:\t 0.02414678882093187\n",
      "Epoch:\t 11 Val Loss:\t 0.024145716847562643\n",
      "Epoch:\t 12 Val Loss:\t 0.024160099869280117\n",
      "Epoch:\t 13 Val Loss:\t 0.024142848684909086\n",
      "Epoch:\t 14 Val Loss:\t 0.024155774214227543\n",
      "Epoch:\t 15 Val Loss:\t 0.024150175154970466\n",
      "Epoch:\t 16 Val Loss:\t 0.02414386716330369\n",
      "Epoch:\t 17 Val Loss:\t 0.024151993017890748\n"
     ]
    },
    {
     "name": "stderr",
     "output_type": "stream",
     "text": [
      "[I 2025-06-02 13:15:53,512] Trial 30 pruned. \n"
     ]
    },
    {
     "name": "stdout",
     "output_type": "stream",
     "text": [
      "Epoch:\t 18 Val Loss:\t 0.024143099826462962\n"
     ]
    },
    {
     "name": "stderr",
     "output_type": "stream",
     "text": [
      "[I 2025-06-02 13:15:56,527] Trial 31 pruned. \n"
     ]
    },
    {
     "name": "stdout",
     "output_type": "stream",
     "text": [
      "Epoch:\t 0 Val Loss:\t 0.024515692416704104\n",
      "Epoch:\t 0 Val Loss:\t 0.02447692225619935\n",
      "Epoch:\t 1 Val Loss:\t 0.02437329227418712\n",
      "Epoch:\t 2 Val Loss:\t 0.0243357125681677\n",
      "Epoch:\t 3 Val Loss:\t 0.024274848117515516\n",
      "Epoch:\t 4 Val Loss:\t 0.024227247598848603\n",
      "Epoch:\t 5 Val Loss:\t 0.024241108348649922\n",
      "Epoch:\t 6 Val Loss:\t 0.024234573492843112\n",
      "Epoch:\t 7 Val Loss:\t 0.024163132351053277\n",
      "Epoch:\t 8 Val Loss:\t 0.024157751004778173\n",
      "Epoch:\t 9 Val Loss:\t 0.024154099081172033\n",
      "Epoch:\t 10 Val Loss:\t 0.024140080855636115\n",
      "Epoch:\t 11 Val Loss:\t 0.02414380047727454\n",
      "Epoch:\t 12 Val Loss:\t 0.024148688865392013\n",
      "Epoch:\t 13 Val Loss:\t 0.02414371974969561\n",
      "Epoch:\t 14 Val Loss:\t 0.024135121492665997\n",
      "Epoch:\t 15 Val Loss:\t 0.024140641440070842\n",
      "Epoch:\t 16 Val Loss:\t 0.02414182818421487\n",
      "Epoch:\t 17 Val Loss:\t 0.024139386340138617\n",
      "Epoch:\t 18 Val Loss:\t 0.024150060758855715\n",
      "Epoch:\t 19 Val Loss:\t 0.024135146690697003\n",
      "Epoch:\t 20 Val Loss:\t 0.02413620418879423\n",
      "Epoch:\t 21 Val Loss:\t 0.024138381597055288\n",
      "Epoch:\t 22 Val Loss:\t 0.024142457967561284\n",
      "Epoch:\t 23 Val Loss:\t 0.024138009758669147\n"
     ]
    },
    {
     "name": "stderr",
     "output_type": "stream",
     "text": [
      "[I 2025-06-02 13:17:17,233] Trial 32 finished with value: 0.024135121492665997 and parameters: {'lr': 0.0001, 'weight_decay': 0.0001, 'scheduler_factor': 0.1, 'scheduler_patience': 1, 'batch_size': 128, 'dropout': 0.1, 'hidden_dims': 1024}. Best is trial 2 with value: 0.024123882000421405.\n"
     ]
    },
    {
     "name": "stdout",
     "output_type": "stream",
     "text": [
      "Epoch:\t 24 Val Loss:\t 0.024141480066898736\n",
      "Epoch:\t 0 Val Loss:\t 0.024472048515110107\n"
     ]
    },
    {
     "name": "stderr",
     "output_type": "stream",
     "text": [
      "[I 2025-06-02 13:17:23,310] Trial 33 pruned. \n"
     ]
    },
    {
     "name": "stdout",
     "output_type": "stream",
     "text": [
      "Epoch:\t 1 Val Loss:\t 0.024477819043598817\n",
      "Epoch:\t 0 Val Loss:\t 0.02445120873779608\n",
      "Epoch:\t 1 Val Loss:\t 0.024295955288441255\n",
      "Epoch:\t 2 Val Loss:\t 0.024246324306322557\n",
      "Epoch:\t 3 Val Loss:\t 0.024242373906320922\n",
      "Epoch:\t 4 Val Loss:\t 0.024219151934326506\n",
      "Epoch:\t 5 Val Loss:\t 0.024240951501161647\n",
      "Epoch:\t 6 Val Loss:\t 0.02420734703755895\n",
      "Epoch:\t 7 Val Loss:\t 0.024210494704717814\n",
      "Epoch:\t 8 Val Loss:\t 0.024191205081348432\n",
      "Epoch:\t 9 Val Loss:\t 0.02421093521058655\n",
      "Epoch:\t 10 Val Loss:\t 0.024208951819129437\n",
      "Epoch:\t 11 Val Loss:\t 0.024170755475173975\n"
     ]
    },
    {
     "name": "stderr",
     "output_type": "stream",
     "text": [
      "[I 2025-06-02 13:18:19,349] Trial 34 pruned. \n"
     ]
    },
    {
     "name": "stdout",
     "output_type": "stream",
     "text": [
      "Epoch:\t 12 Val Loss:\t 0.024193081553687837\n",
      "Epoch:\t 0 Val Loss:\t 0.02432550181953138\n",
      "Epoch:\t 1 Val Loss:\t 0.02434512617643534\n",
      "Epoch:\t 2 Val Loss:\t 0.024334580471580713\n"
     ]
    },
    {
     "name": "stderr",
     "output_type": "stream",
     "text": [
      "[I 2025-06-02 13:18:30,790] Trial 35 pruned. \n"
     ]
    },
    {
     "name": "stdout",
     "output_type": "stream",
     "text": [
      "Epoch:\t 3 Val Loss:\t 0.024410967097690937\n",
      "Epoch:\t 0 Val Loss:\t 0.024428413084564442\n"
     ]
    },
    {
     "name": "stderr",
     "output_type": "stream",
     "text": [
      "[I 2025-06-02 13:18:43,728] Trial 36 pruned. \n"
     ]
    },
    {
     "name": "stdout",
     "output_type": "stream",
     "text": [
      "Epoch:\t 1 Val Loss:\t 0.024418823266092068\n"
     ]
    },
    {
     "name": "stderr",
     "output_type": "stream",
     "text": [
      "[I 2025-06-02 13:18:46,733] Trial 37 pruned. \n"
     ]
    },
    {
     "name": "stdout",
     "output_type": "stream",
     "text": [
      "Epoch:\t 0 Val Loss:\t 0.027378163687633666\n"
     ]
    },
    {
     "name": "stderr",
     "output_type": "stream",
     "text": [
      "[I 2025-06-02 13:18:49,430] Trial 38 pruned. \n"
     ]
    },
    {
     "name": "stdout",
     "output_type": "stream",
     "text": [
      "Epoch:\t 0 Val Loss:\t 0.025221408539454652\n",
      "Epoch:\t 0 Val Loss:\t 0.02450670899992096\n"
     ]
    },
    {
     "name": "stderr",
     "output_type": "stream",
     "text": [
      "[I 2025-06-02 13:18:58,031] Trial 39 pruned. \n"
     ]
    },
    {
     "name": "stdout",
     "output_type": "stream",
     "text": [
      "Epoch:\t 1 Val Loss:\t 0.024442371131094962\n"
     ]
    },
    {
     "name": "stderr",
     "output_type": "stream",
     "text": [
      "[I 2025-06-02 13:19:04,278] Trial 40 pruned. \n"
     ]
    },
    {
     "name": "stdout",
     "output_type": "stream",
     "text": [
      "Epoch:\t 0 Val Loss:\t 0.026644727119612313\n",
      "Epoch:\t 0 Val Loss:\t 0.02447126501719699\n"
     ]
    },
    {
     "name": "stderr",
     "output_type": "stream",
     "text": [
      "[I 2025-06-02 13:19:10,406] Trial 41 pruned. \n"
     ]
    },
    {
     "name": "stdout",
     "output_type": "stream",
     "text": [
      "Epoch:\t 1 Val Loss:\t 0.024438093399948905\n"
     ]
    },
    {
     "name": "stderr",
     "output_type": "stream",
     "text": [
      "[I 2025-06-02 13:19:13,371] Trial 42 pruned. \n"
     ]
    },
    {
     "name": "stdout",
     "output_type": "stream",
     "text": [
      "Epoch:\t 0 Val Loss:\t 0.02453478556694418\n",
      "Epoch:\t 0 Val Loss:\t 0.024481489749126027\n",
      "Epoch:\t 1 Val Loss:\t 0.024351435703005683\n",
      "Epoch:\t 2 Val Loss:\t 0.024344253071238487\n"
     ]
    },
    {
     "name": "stderr",
     "output_type": "stream",
     "text": [
      "[I 2025-06-02 13:19:25,385] Trial 43 pruned. \n"
     ]
    },
    {
     "name": "stdout",
     "output_type": "stream",
     "text": [
      "Epoch:\t 3 Val Loss:\t 0.024306276188281337\n",
      "Epoch:\t 0 Val Loss:\t 0.02447108402369876\n"
     ]
    },
    {
     "name": "stderr",
     "output_type": "stream",
     "text": [
      "[I 2025-06-02 13:19:31,393] Trial 44 pruned. \n"
     ]
    },
    {
     "name": "stdout",
     "output_type": "stream",
     "text": [
      "Epoch:\t 1 Val Loss:\t 0.024418768396729643\n"
     ]
    },
    {
     "name": "stderr",
     "output_type": "stream",
     "text": [
      "[I 2025-06-02 13:19:34,318] Trial 45 pruned. \n"
     ]
    },
    {
     "name": "stdout",
     "output_type": "stream",
     "text": [
      "Epoch:\t 0 Val Loss:\t 0.05175409555722201\n",
      "Epoch:\t 0 Val Loss:\t 0.024305165743825134\n",
      "Epoch:\t 1 Val Loss:\t 0.024256273656464\n",
      "Epoch:\t 2 Val Loss:\t 0.024244199821173523\n",
      "Epoch:\t 3 Val Loss:\t 0.02422269159210299\n",
      "Epoch:\t 4 Val Loss:\t 0.024238255298714186\n",
      "Epoch:\t 5 Val Loss:\t 0.0242162155925308\n",
      "Epoch:\t 6 Val Loss:\t 0.024216275891142447\n",
      "Epoch:\t 7 Val Loss:\t 0.024226128521905862\n",
      "Epoch:\t 8 Val Loss:\t 0.024211219263374446\n",
      "Epoch:\t 9 Val Loss:\t 0.024190769726949782\n",
      "Epoch:\t 10 Val Loss:\t 0.02421059584582086\n",
      "Epoch:\t 11 Val Loss:\t 0.02419398913853747\n"
     ]
    },
    {
     "name": "stderr",
     "output_type": "stream",
     "text": [
      "[I 2025-06-02 13:24:08,214] Trial 46 pruned. \n"
     ]
    },
    {
     "name": "stdout",
     "output_type": "stream",
     "text": [
      "Epoch:\t 12 Val Loss:\t 0.024194904839859963\n"
     ]
    },
    {
     "name": "stderr",
     "output_type": "stream",
     "text": [
      "[I 2025-06-02 13:24:10,720] Trial 47 pruned. \n"
     ]
    },
    {
     "name": "stdout",
     "output_type": "stream",
     "text": [
      "Epoch:\t 0 Val Loss:\t 0.025496649445061515\n"
     ]
    },
    {
     "name": "stderr",
     "output_type": "stream",
     "text": [
      "[I 2025-06-02 13:24:13,578] Trial 48 pruned. \n"
     ]
    },
    {
     "name": "stdout",
     "output_type": "stream",
     "text": [
      "Epoch:\t 0 Val Loss:\t 0.02522587576465469\n"
     ]
    },
    {
     "name": "stderr",
     "output_type": "stream",
     "text": [
      "[I 2025-06-02 13:24:16,533] Trial 49 pruned. \n"
     ]
    },
    {
     "name": "stdout",
     "output_type": "stream",
     "text": [
      "Epoch:\t 0 Val Loss:\t 0.027393141713585364\n",
      "Training model with best parameters on train+validation ...\n"
     ]
    },
    {
     "name": "stderr",
     "output_type": "stream",
     "text": [
      "100%|███████████████████████████████████████████████████████████████████████████████████████████████████████████████████████████████████████████████████████████████████| 401917/401917 [04:11<00:00, 1597.51it/s]\n",
      "100%|███████████████████████████████████████████████████████████████████████████████████████████████████████████████████████████████████████████████████████████████████| 401917/401917 [01:13<00:00, 5455.98it/s]\n"
     ]
    },
    {
     "name": "stdout",
     "output_type": "stream",
     "text": [
      "Getting test set predictions and saving results ...\n"
     ]
    },
    {
     "name": "stderr",
     "output_type": "stream",
     "text": [
      "100%|██████████████████████████████████████████████████████████████████████████████████████████████████████████████████████████████████████████████████████████████████████████| 305/305 [00:00<00:00, 339.25it/s]\n"
     ]
    }
   ],
   "source": [
    "train_different_fs(\n",
    "        adata_path=\"./data/feature_selection/sciplex_seurat.h5ad\",\n",
    "        run_name=\"mlp_seurat_fs\",\n",
    "        res_savename=\"./results/feature_selection/mlp_seurat_fs_res.pkl\",\n",
    "    )"
   ]
  },
  {
   "cell_type": "code",
   "execution_count": 7,
   "id": "d0cfa483-d2f2-4a4b-9596-ded85ec4e78e",
   "metadata": {},
   "outputs": [
    {
     "name": "stdout",
     "output_type": "stream",
     "text": [
      "Loading Datasets ...\n"
     ]
    },
    {
     "name": "stderr",
     "output_type": "stream",
     "text": [
      "100%|███████████████████████████████████████████████████████████████████████████████████████████████████████████████████████████████████████████████████████████████████| 401917/401917 [03:17<00:00, 2036.73it/s]\n",
      "100%|███████████████████████████████████████████████████████████████████████████████████████████████████████████████████████████████████████████████████████████████████| 401917/401917 [01:16<00:00, 5222.93it/s]\n",
      "[I 2025-06-02 13:35:42,915] A new study created in RDB with name: mlp_seuratv3_fs\n"
     ]
    },
    {
     "name": "stdout",
     "output_type": "stream",
     "text": [
      "Optimizing Hyperparameters with Optuna ...\n",
      "Epoch:\t 0 Val Loss:\t 0.036046499344505295\n",
      "Epoch:\t 1 Val Loss:\t 0.03594474907712921\n",
      "Epoch:\t 2 Val Loss:\t 0.036012820372435826\n",
      "Epoch:\t 3 Val Loss:\t 0.036075333498681854\n",
      "Epoch:\t 4 Val Loss:\t 0.03606342418879941\n",
      "Epoch:\t 5 Val Loss:\t 0.036050924749811364\n",
      "Epoch:\t 6 Val Loss:\t 0.03617985238743365\n",
      "Epoch:\t 7 Val Loss:\t 0.03637195728311968\n",
      "Epoch:\t 8 Val Loss:\t 0.0363426706678806\n",
      "Epoch:\t 9 Val Loss:\t 0.03656523892733828\n",
      "Epoch:\t 10 Val Loss:\t 0.03676306117338\n"
     ]
    },
    {
     "name": "stderr",
     "output_type": "stream",
     "text": [
      "[I 2025-06-02 13:36:11,833] Trial 0 finished with value: 0.03594474907712921 and parameters: {'lr': 0.0001, 'weight_decay': 0.001, 'scheduler_factor': 0.5, 'scheduler_patience': 5, 'batch_size': 256, 'dropout': 0.15, 'hidden_dims': 256}. Best is trial 0 with value: 0.03594474907712921.\n"
     ]
    },
    {
     "name": "stdout",
     "output_type": "stream",
     "text": [
      "Epoch:\t 11 Val Loss:\t 0.0370221506696422\n",
      "Epoch:\t 0 Val Loss:\t 0.08559050868561797\n",
      "Epoch:\t 1 Val Loss:\t 0.06540905134422986\n",
      "Epoch:\t 2 Val Loss:\t 0.054726263286599776\n",
      "Epoch:\t 3 Val Loss:\t 0.04916333776099122\n",
      "Epoch:\t 4 Val Loss:\t 0.04609297684295001\n",
      "Epoch:\t 5 Val Loss:\t 0.04430239527842623\n",
      "Epoch:\t 6 Val Loss:\t 0.043159518882009376\n",
      "Epoch:\t 7 Val Loss:\t 0.04240177867640636\n",
      "Epoch:\t 8 Val Loss:\t 0.04191864451986417\n",
      "Epoch:\t 9 Val Loss:\t 0.041514879350110265\n",
      "Epoch:\t 10 Val Loss:\t 0.04123886123634995\n",
      "Epoch:\t 11 Val Loss:\t 0.0409974983123721\n",
      "Epoch:\t 12 Val Loss:\t 0.04077132121686767\n",
      "Epoch:\t 13 Val Loss:\t 0.04058662846301146\n",
      "Epoch:\t 14 Val Loss:\t 0.040410722519040494\n",
      "Epoch:\t 15 Val Loss:\t 0.04027364516804456\n",
      "Epoch:\t 16 Val Loss:\t 0.040145194104055114\n",
      "Epoch:\t 17 Val Loss:\t 0.039994156616964524\n",
      "Epoch:\t 18 Val Loss:\t 0.03995241015143333\n",
      "Epoch:\t 19 Val Loss:\t 0.03980375040574089\n",
      "Epoch:\t 20 Val Loss:\t 0.039698580681223575\n",
      "Epoch:\t 21 Val Loss:\t 0.039578913660103104\n",
      "Epoch:\t 22 Val Loss:\t 0.03950035555282207\n",
      "Epoch:\t 23 Val Loss:\t 0.03942135909506363\n",
      "Epoch:\t 24 Val Loss:\t 0.039328472790610754\n",
      "Epoch:\t 25 Val Loss:\t 0.03926632519799413\n",
      "Epoch:\t 26 Val Loss:\t 0.03919748228845872\n",
      "Epoch:\t 27 Val Loss:\t 0.03912980158564745\n",
      "Epoch:\t 28 Val Loss:\t 0.03906443899563271\n",
      "Epoch:\t 29 Val Loss:\t 0.039007660612416034\n",
      "Epoch:\t 30 Val Loss:\t 0.03893032969481692\n",
      "Epoch:\t 31 Val Loss:\t 0.0388583792822729\n",
      "Epoch:\t 32 Val Loss:\t 0.03878662054849208\n",
      "Epoch:\t 33 Val Loss:\t 0.03874360311213414\n",
      "Epoch:\t 34 Val Loss:\t 0.038709617276762844\n",
      "Epoch:\t 35 Val Loss:\t 0.038666024336956706\n",
      "Epoch:\t 36 Val Loss:\t 0.03859162128192052\n",
      "Epoch:\t 37 Val Loss:\t 0.03859936983782762\n",
      "Epoch:\t 38 Val Loss:\t 0.038513686891249906\n",
      "Epoch:\t 39 Val Loss:\t 0.03844490267599894\n",
      "Epoch:\t 40 Val Loss:\t 0.03842711996083474\n",
      "Epoch:\t 41 Val Loss:\t 0.038357421084998886\n",
      "Epoch:\t 42 Val Loss:\t 0.03827812105800561\n",
      "Epoch:\t 43 Val Loss:\t 0.038273142728583225\n",
      "Epoch:\t 44 Val Loss:\t 0.03822513401412504\n",
      "Epoch:\t 45 Val Loss:\t 0.038184318631599955\n",
      "Epoch:\t 46 Val Loss:\t 0.038124527985834995\n",
      "Epoch:\t 47 Val Loss:\t 0.038125191422904034\n",
      "Epoch:\t 48 Val Loss:\t 0.03807701392045358\n",
      "Epoch:\t 49 Val Loss:\t 0.038022418653179214\n",
      "Epoch:\t 50 Val Loss:\t 0.03802276121218871\n",
      "Epoch:\t 51 Val Loss:\t 0.037974248026344935\n",
      "Epoch:\t 52 Val Loss:\t 0.03794852338755246\n",
      "Epoch:\t 53 Val Loss:\t 0.037926536616405104\n",
      "Epoch:\t 54 Val Loss:\t 0.0378845980888011\n",
      "Epoch:\t 55 Val Loss:\t 0.03786482616444493\n",
      "Epoch:\t 56 Val Loss:\t 0.03785307855132692\n",
      "Epoch:\t 57 Val Loss:\t 0.03784661156715304\n",
      "Epoch:\t 58 Val Loss:\t 0.03780038578142307\n",
      "Epoch:\t 59 Val Loss:\t 0.037772551166953765\n",
      "Epoch:\t 60 Val Loss:\t 0.0377869592123093\n",
      "Epoch:\t 61 Val Loss:\t 0.03774358534592524\n",
      "Epoch:\t 62 Val Loss:\t 0.037746585570156\n",
      "Epoch:\t 63 Val Loss:\t 0.037680339259829165\n",
      "Epoch:\t 64 Val Loss:\t 0.037709769783870965\n",
      "Epoch:\t 65 Val Loss:\t 0.037637124574740215\n",
      "Epoch:\t 66 Val Loss:\t 0.037614396782262534\n",
      "Epoch:\t 67 Val Loss:\t 0.03762594863197428\n",
      "Epoch:\t 68 Val Loss:\t 0.03758480550775191\n",
      "Epoch:\t 69 Val Loss:\t 0.03757022476943743\n",
      "Epoch:\t 70 Val Loss:\t 0.037536862542870725\n",
      "Epoch:\t 71 Val Loss:\t 0.037526932332389226\n",
      "Epoch:\t 72 Val Loss:\t 0.03750873970352952\n",
      "Epoch:\t 73 Val Loss:\t 0.037482051460305976\n",
      "Epoch:\t 74 Val Loss:\t 0.037492542297031334\n",
      "Epoch:\t 75 Val Loss:\t 0.037464760818857086\n",
      "Epoch:\t 76 Val Loss:\t 0.037422317688104806\n",
      "Epoch:\t 77 Val Loss:\t 0.037426592081401894\n",
      "Epoch:\t 78 Val Loss:\t 0.037424525611366104\n",
      "Epoch:\t 79 Val Loss:\t 0.03742409847269487\n",
      "Epoch:\t 80 Val Loss:\t 0.03736174303044077\n",
      "Epoch:\t 81 Val Loss:\t 0.03736243006500784\n",
      "Epoch:\t 82 Val Loss:\t 0.03735311461127456\n",
      "Epoch:\t 83 Val Loss:\t 0.03732365423699667\n",
      "Epoch:\t 84 Val Loss:\t 0.03732712200312752\n",
      "Epoch:\t 85 Val Loss:\t 0.03731406973585055\n",
      "Epoch:\t 86 Val Loss:\t 0.03730479511656945\n",
      "Epoch:\t 87 Val Loss:\t 0.03731648537698666\n",
      "Epoch:\t 88 Val Loss:\t 0.03729333026616136\n",
      "Epoch:\t 89 Val Loss:\t 0.03728158777980942\n",
      "Epoch:\t 90 Val Loss:\t 0.03726336534862733\n",
      "Epoch:\t 91 Val Loss:\t 0.037259864749632464\n",
      "Epoch:\t 92 Val Loss:\t 0.037249151425633786\n",
      "Epoch:\t 93 Val Loss:\t 0.03723597092931294\n",
      "Epoch:\t 94 Val Loss:\t 0.03722561713775255\n",
      "Epoch:\t 95 Val Loss:\t 0.037206318253393725\n",
      "Epoch:\t 96 Val Loss:\t 0.03720811556821084\n",
      "Epoch:\t 97 Val Loss:\t 0.03723550076413768\n",
      "Epoch:\t 98 Val Loss:\t 0.03717228469597565\n"
     ]
    },
    {
     "name": "stderr",
     "output_type": "stream",
     "text": [
      "[I 2025-06-02 13:40:22,746] Trial 1 finished with value: 0.03717228469597565 and parameters: {'lr': 1e-06, 'weight_decay': 1e-05, 'scheduler_factor': 0.5, 'scheduler_patience': 5, 'batch_size': 256, 'dropout': 0.15, 'hidden_dims': 512}. Best is trial 0 with value: 0.03594474907712921.\n"
     ]
    },
    {
     "name": "stdout",
     "output_type": "stream",
     "text": [
      "Epoch:\t 99 Val Loss:\t 0.03719367651071196\n",
      "Epoch:\t 0 Val Loss:\t 0.10178352015789592\n",
      "Epoch:\t 1 Val Loss:\t 0.08207842110869973\n",
      "Epoch:\t 2 Val Loss:\t 0.06903367836393093\n",
      "Epoch:\t 3 Val Loss:\t 0.06017416584668726\n",
      "Epoch:\t 4 Val Loss:\t 0.05457710574588844\n",
      "Epoch:\t 5 Val Loss:\t 0.05060837660612685\n",
      "Epoch:\t 6 Val Loss:\t 0.04786553691301262\n",
      "Epoch:\t 7 Val Loss:\t 0.04570255456058784\n",
      "Epoch:\t 8 Val Loss:\t 0.044122122287941594\n",
      "Epoch:\t 9 Val Loss:\t 0.04290998835911911\n",
      "Epoch:\t 10 Val Loss:\t 0.04205042422176555\n",
      "Epoch:\t 11 Val Loss:\t 0.04138321998748887\n",
      "Epoch:\t 12 Val Loss:\t 0.0408709959499239\n",
      "Epoch:\t 13 Val Loss:\t 0.040507586538361125\n",
      "Epoch:\t 14 Val Loss:\t 0.04017310330037321\n",
      "Epoch:\t 15 Val Loss:\t 0.03997808192553145\n",
      "Epoch:\t 16 Val Loss:\t 0.039776061280342015\n",
      "Epoch:\t 17 Val Loss:\t 0.03962000266291548\n",
      "Epoch:\t 18 Val Loss:\t 0.03947479079924464\n",
      "Epoch:\t 19 Val Loss:\t 0.03933941421022767\n",
      "Epoch:\t 20 Val Loss:\t 0.0392550542699487\n",
      "Epoch:\t 21 Val Loss:\t 0.03915768814531796\n",
      "Epoch:\t 22 Val Loss:\t 0.03906387363950667\n",
      "Epoch:\t 23 Val Loss:\t 0.038995746804183024\n",
      "Epoch:\t 24 Val Loss:\t 0.038929283523253415\n",
      "Epoch:\t 25 Val Loss:\t 0.038897406459333046\n",
      "Epoch:\t 26 Val Loss:\t 0.038822592632250075\n",
      "Epoch:\t 27 Val Loss:\t 0.038729200567183104\n",
      "Epoch:\t 28 Val Loss:\t 0.038682857549257495\n",
      "Epoch:\t 29 Val Loss:\t 0.038648167873222984\n",
      "Epoch:\t 30 Val Loss:\t 0.038584264339116756\n",
      "Epoch:\t 31 Val Loss:\t 0.03856596677155977\n",
      "Epoch:\t 32 Val Loss:\t 0.038491692011323825\n",
      "Epoch:\t 33 Val Loss:\t 0.03844459689137067\n",
      "Epoch:\t 34 Val Loss:\t 0.03833856438413669\n",
      "Epoch:\t 35 Val Loss:\t 0.038249674975202326\n",
      "Epoch:\t 36 Val Loss:\t 0.03819746250827852\n",
      "Epoch:\t 37 Val Loss:\t 0.038097728821142526\n",
      "Epoch:\t 38 Val Loss:\t 0.038079564520912795\n",
      "Epoch:\t 39 Val Loss:\t 0.038021464749907606\n",
      "Epoch:\t 40 Val Loss:\t 0.03797801826777083\n",
      "Epoch:\t 41 Val Loss:\t 0.03787787030204341\n",
      "Epoch:\t 42 Val Loss:\t 0.03778150027100577\n",
      "Epoch:\t 43 Val Loss:\t 0.03772540609942776\n",
      "Epoch:\t 44 Val Loss:\t 0.03767100181639864\n",
      "Epoch:\t 45 Val Loss:\t 0.03762988484259785\n",
      "Epoch:\t 46 Val Loss:\t 0.03757764941999273\n",
      "Epoch:\t 47 Val Loss:\t 0.037561350348099085\n",
      "Epoch:\t 48 Val Loss:\t 0.037505720994684896\n",
      "Epoch:\t 49 Val Loss:\t 0.03743954100922635\n",
      "Epoch:\t 50 Val Loss:\t 0.0373943131865506\n",
      "Epoch:\t 51 Val Loss:\t 0.03734981156825828\n",
      "Epoch:\t 52 Val Loss:\t 0.03735261510932044\n",
      "Epoch:\t 53 Val Loss:\t 0.03732206552838054\n",
      "Epoch:\t 54 Val Loss:\t 0.03726998309382083\n",
      "Epoch:\t 55 Val Loss:\t 0.037243319122213424\n",
      "Epoch:\t 56 Val Loss:\t 0.037258687810329524\n",
      "Epoch:\t 57 Val Loss:\t 0.03724138466805746\n",
      "Epoch:\t 58 Val Loss:\t 0.03717483372620365\n",
      "Epoch:\t 59 Val Loss:\t 0.037156083281742434\n",
      "Epoch:\t 60 Val Loss:\t 0.03713857245603113\n",
      "Epoch:\t 61 Val Loss:\t 0.03712185225292538\n",
      "Epoch:\t 62 Val Loss:\t 0.03711436080176796\n",
      "Epoch:\t 63 Val Loss:\t 0.03705956672660612\n",
      "Epoch:\t 64 Val Loss:\t 0.03701829786500617\n",
      "Epoch:\t 65 Val Loss:\t 0.03702432567770944\n",
      "Epoch:\t 66 Val Loss:\t 0.037012059845472796\n",
      "Epoch:\t 67 Val Loss:\t 0.036974531623802445\n",
      "Epoch:\t 68 Val Loss:\t 0.03697927164610469\n",
      "Epoch:\t 69 Val Loss:\t 0.03697817023981058\n",
      "Epoch:\t 70 Val Loss:\t 0.03697143554878847\n",
      "Epoch:\t 71 Val Loss:\t 0.036965735794835836\n",
      "Epoch:\t 72 Val Loss:\t 0.036935261305702634\n",
      "Epoch:\t 73 Val Loss:\t 0.03693093726617758\n",
      "Epoch:\t 74 Val Loss:\t 0.036911096878313905\n",
      "Epoch:\t 75 Val Loss:\t 0.036900233411578456\n",
      "Epoch:\t 76 Val Loss:\t 0.036903143240016305\n",
      "Epoch:\t 77 Val Loss:\t 0.036887311707004114\n",
      "Epoch:\t 78 Val Loss:\t 0.03687360741640553\n",
      "Epoch:\t 79 Val Loss:\t 0.036898474351026084\n",
      "Epoch:\t 80 Val Loss:\t 0.036863673095670596\n",
      "Epoch:\t 81 Val Loss:\t 0.03686732943521074\n",
      "Epoch:\t 82 Val Loss:\t 0.03685903658621001\n",
      "Epoch:\t 83 Val Loss:\t 0.036871112416682235\n",
      "Epoch:\t 84 Val Loss:\t 0.03684986606957824\n",
      "Epoch:\t 85 Val Loss:\t 0.036843328747186765\n",
      "Epoch:\t 86 Val Loss:\t 0.036841073780534354\n",
      "Epoch:\t 87 Val Loss:\t 0.03686226408683469\n",
      "Epoch:\t 88 Val Loss:\t 0.03683682484477519\n",
      "Epoch:\t 89 Val Loss:\t 0.03682278942191199\n",
      "Epoch:\t 90 Val Loss:\t 0.03682128511022412\n",
      "Epoch:\t 91 Val Loss:\t 0.03680095976490653\n",
      "Epoch:\t 92 Val Loss:\t 0.03684372857308694\n",
      "Epoch:\t 93 Val Loss:\t 0.03679227914487761\n",
      "Epoch:\t 94 Val Loss:\t 0.036829112608876696\n",
      "Epoch:\t 95 Val Loss:\t 0.03683405926818832\n",
      "Epoch:\t 96 Val Loss:\t 0.03680150304139139\n",
      "Epoch:\t 97 Val Loss:\t 0.03680146047860432\n",
      "Epoch:\t 98 Val Loss:\t 0.03682176933816692\n"
     ]
    },
    {
     "name": "stderr",
     "output_type": "stream",
     "text": [
      "[I 2025-06-02 13:45:05,702] Trial 2 finished with value: 0.03678342698808658 and parameters: {'lr': 1e-06, 'weight_decay': 1e-05, 'scheduler_factor': 0.8, 'scheduler_patience': 10, 'batch_size': 128, 'dropout': 0.1, 'hidden_dims': 128}. Best is trial 0 with value: 0.03594474907712921.\n"
     ]
    },
    {
     "name": "stdout",
     "output_type": "stream",
     "text": [
      "Epoch:\t 99 Val Loss:\t 0.03678342698808658\n",
      "Epoch:\t 0 Val Loss:\t 0.04596611807104859\n",
      "Epoch:\t 1 Val Loss:\t 0.04152731408164432\n",
      "Epoch:\t 2 Val Loss:\t 0.04032651926735206\n",
      "Epoch:\t 3 Val Loss:\t 0.039680944617921515\n",
      "Epoch:\t 4 Val Loss:\t 0.039233458914174145\n",
      "Epoch:\t 5 Val Loss:\t 0.038907012144564816\n",
      "Epoch:\t 6 Val Loss:\t 0.038629189157600954\n",
      "Epoch:\t 7 Val Loss:\t 0.038403121940192686\n",
      "Epoch:\t 8 Val Loss:\t 0.038255159710189536\n",
      "Epoch:\t 9 Val Loss:\t 0.038102723035206745\n",
      "Epoch:\t 10 Val Loss:\t 0.0379688269862983\n",
      "Epoch:\t 11 Val Loss:\t 0.03781696503616606\n",
      "Epoch:\t 12 Val Loss:\t 0.0377281434905874\n",
      "Epoch:\t 13 Val Loss:\t 0.037583481316781124\n",
      "Epoch:\t 14 Val Loss:\t 0.03751524510251364\n",
      "Epoch:\t 15 Val Loss:\t 0.03744162137581221\n",
      "Epoch:\t 16 Val Loss:\t 0.03739133199311529\n",
      "Epoch:\t 17 Val Loss:\t 0.03729702134607689\n",
      "Epoch:\t 18 Val Loss:\t 0.03730267724711029\n",
      "Epoch:\t 19 Val Loss:\t 0.03712538367442763\n",
      "Epoch:\t 20 Val Loss:\t 0.03708964355074324\n",
      "Epoch:\t 21 Val Loss:\t 0.03705009130515469\n",
      "Epoch:\t 22 Val Loss:\t 0.03705338319206544\n",
      "Epoch:\t 23 Val Loss:\t 0.036990510233920484\n",
      "Epoch:\t 24 Val Loss:\t 0.03696655537154513\n",
      "Epoch:\t 25 Val Loss:\t 0.036934310097211424\n",
      "Epoch:\t 26 Val Loss:\t 0.036936578583391534\n",
      "Epoch:\t 27 Val Loss:\t 0.036891778577658144\n",
      "Epoch:\t 28 Val Loss:\t 0.03688141677253116\n",
      "Epoch:\t 29 Val Loss:\t 0.036843389751826834\n",
      "Epoch:\t 30 Val Loss:\t 0.03684772146188944\n",
      "Epoch:\t 31 Val Loss:\t 0.03680773423176103\n",
      "Epoch:\t 32 Val Loss:\t 0.03680519923759427\n",
      "Epoch:\t 33 Val Loss:\t 0.03682630658868425\n",
      "Epoch:\t 34 Val Loss:\t 0.036770363473048934\n",
      "Epoch:\t 35 Val Loss:\t 0.0367934980049394\n",
      "Epoch:\t 36 Val Loss:\t 0.03678005770855011\n",
      "Epoch:\t 37 Val Loss:\t 0.03674609789031878\n",
      "Epoch:\t 38 Val Loss:\t 0.03679867348726539\n",
      "Epoch:\t 39 Val Loss:\t 0.03673224169102129\n",
      "Epoch:\t 40 Val Loss:\t 0.03675669372992117\n",
      "Epoch:\t 41 Val Loss:\t 0.036728520808783374\n",
      "Epoch:\t 42 Val Loss:\t 0.036733528042146246\n",
      "Epoch:\t 43 Val Loss:\t 0.036726182536296906\n",
      "Epoch:\t 44 Val Loss:\t 0.03668948346778894\n",
      "Epoch:\t 45 Val Loss:\t 0.036690510186543415\n",
      "Epoch:\t 46 Val Loss:\t 0.036688647685135294\n",
      "Epoch:\t 47 Val Loss:\t 0.03670140355825424\n",
      "Epoch:\t 48 Val Loss:\t 0.036682893740690024\n",
      "Epoch:\t 49 Val Loss:\t 0.036660080985241\n",
      "Epoch:\t 50 Val Loss:\t 0.03664181825863587\n",
      "Epoch:\t 51 Val Loss:\t 0.03666532687675148\n",
      "Epoch:\t 52 Val Loss:\t 0.03669120124586142\n",
      "Epoch:\t 53 Val Loss:\t 0.036641979943421873\n",
      "Epoch:\t 54 Val Loss:\t 0.036625262673261466\n",
      "Epoch:\t 55 Val Loss:\t 0.03663012518328869\n",
      "Epoch:\t 56 Val Loss:\t 0.036648426911646916\n",
      "Epoch:\t 57 Val Loss:\t 0.036629284549372754\n",
      "Epoch:\t 58 Val Loss:\t 0.036644229060488115\n",
      "Epoch:\t 59 Val Loss:\t 0.03662122827969563\n",
      "Epoch:\t 60 Val Loss:\t 0.03659673339396811\n",
      "Epoch:\t 61 Val Loss:\t 0.03661602746299992\n",
      "Epoch:\t 62 Val Loss:\t 0.03662301980893328\n",
      "Epoch:\t 63 Val Loss:\t 0.0365975890967432\n",
      "Epoch:\t 64 Val Loss:\t 0.036585590691332645\n",
      "Epoch:\t 65 Val Loss:\t 0.03656893996132532\n",
      "Epoch:\t 66 Val Loss:\t 0.03657019072454842\n",
      "Epoch:\t 67 Val Loss:\t 0.03660736443816274\n",
      "Epoch:\t 68 Val Loss:\t 0.036567434668540955\n",
      "Epoch:\t 69 Val Loss:\t 0.03656918660908267\n",
      "Epoch:\t 70 Val Loss:\t 0.036593443842850314\n",
      "Epoch:\t 71 Val Loss:\t 0.03653788531851922\n",
      "Epoch:\t 72 Val Loss:\t 0.03654192451543364\n",
      "Epoch:\t 73 Val Loss:\t 0.03655742264541399\n",
      "Epoch:\t 74 Val Loss:\t 0.036551157821125536\n",
      "Epoch:\t 75 Val Loss:\t 0.036539152599990944\n",
      "Epoch:\t 76 Val Loss:\t 0.03654205378660052\n",
      "Epoch:\t 77 Val Loss:\t 0.03654387770550044\n",
      "Epoch:\t 78 Val Loss:\t 0.036553192368657644\n",
      "Epoch:\t 79 Val Loss:\t 0.03652900144745299\n",
      "Epoch:\t 80 Val Loss:\t 0.03653932510129509\n",
      "Epoch:\t 81 Val Loss:\t 0.0365325621541865\n",
      "Epoch:\t 82 Val Loss:\t 0.036544919445200365\n",
      "Epoch:\t 83 Val Loss:\t 0.03654792061572673\n",
      "Epoch:\t 84 Val Loss:\t 0.036531845437081295\n",
      "Epoch:\t 85 Val Loss:\t 0.0365449960112955\n",
      "Epoch:\t 86 Val Loss:\t 0.03653149802680951\n",
      "Epoch:\t 87 Val Loss:\t 0.036526231748019\n",
      "Epoch:\t 88 Val Loss:\t 0.03653144675914881\n",
      "Epoch:\t 89 Val Loss:\t 0.036534199149758105\n",
      "Epoch:\t 90 Val Loss:\t 0.036522552886097376\n",
      "Epoch:\t 91 Val Loss:\t 0.03656328065841911\n",
      "Epoch:\t 92 Val Loss:\t 0.03655568366552856\n",
      "Epoch:\t 93 Val Loss:\t 0.036521684426299245\n",
      "Epoch:\t 94 Val Loss:\t 0.03653585938347498\n",
      "Epoch:\t 95 Val Loss:\t 0.03651090161545484\n",
      "Epoch:\t 96 Val Loss:\t 0.03654312783211374\n",
      "Epoch:\t 97 Val Loss:\t 0.03652261738991814\n",
      "Epoch:\t 98 Val Loss:\t 0.03653442805746744\n"
     ]
    },
    {
     "name": "stderr",
     "output_type": "stream",
     "text": [
      "[I 2025-06-02 13:49:38,711] Trial 3 finished with value: 0.03651090161545484 and parameters: {'lr': 1e-05, 'weight_decay': 1e-06, 'scheduler_factor': 0.1, 'scheduler_patience': 5, 'batch_size': 256, 'dropout': 0.15, 'hidden_dims': 256}. Best is trial 0 with value: 0.03594474907712921.\n"
     ]
    },
    {
     "name": "stdout",
     "output_type": "stream",
     "text": [
      "Epoch:\t 99 Val Loss:\t 0.036524191582605385\n",
      "Epoch:\t 0 Val Loss:\t 0.03867156920345148\n",
      "Epoch:\t 1 Val Loss:\t 0.03746941092063396\n",
      "Epoch:\t 2 Val Loss:\t 0.03738646412597071\n",
      "Epoch:\t 3 Val Loss:\t 0.03700386750767654\n",
      "Epoch:\t 4 Val Loss:\t 0.03698491682082958\n",
      "Epoch:\t 5 Val Loss:\t 0.03710844167109793\n",
      "Epoch:\t 6 Val Loss:\t 0.036961383776124575\n",
      "Epoch:\t 7 Val Loss:\t 0.03709534063235155\n",
      "Epoch:\t 8 Val Loss:\t 0.03698738154297815\n",
      "Epoch:\t 9 Val Loss:\t 0.03699443927936016\n",
      "Epoch:\t 10 Val Loss:\t 0.03686294237167043\n",
      "Epoch:\t 11 Val Loss:\t 0.036916085234704174\n",
      "Epoch:\t 12 Val Loss:\t 0.03672201511663023\n",
      "Epoch:\t 13 Val Loss:\t 0.036655089220260124\n",
      "Epoch:\t 14 Val Loss:\t 0.03678925903082981\n",
      "Epoch:\t 15 Val Loss:\t 0.03666201710254641\n",
      "Epoch:\t 16 Val Loss:\t 0.036617387753436044\n",
      "Epoch:\t 17 Val Loss:\t 0.03664057791730166\n",
      "Epoch:\t 18 Val Loss:\t 0.03648285299653019\n",
      "Epoch:\t 19 Val Loss:\t 0.03649571626046883\n",
      "Epoch:\t 20 Val Loss:\t 0.0364691865388054\n",
      "Epoch:\t 21 Val Loss:\t 0.036347226867651176\n",
      "Epoch:\t 22 Val Loss:\t 0.03631421583464869\n",
      "Epoch:\t 23 Val Loss:\t 0.03637140505336803\n",
      "Epoch:\t 24 Val Loss:\t 0.03632328607010605\n",
      "Epoch:\t 25 Val Loss:\t 0.036276917637403636\n",
      "Epoch:\t 26 Val Loss:\t 0.03622239671477369\n",
      "Epoch:\t 27 Val Loss:\t 0.03616792939236099\n",
      "Epoch:\t 28 Val Loss:\t 0.036173241849271405\n",
      "Epoch:\t 29 Val Loss:\t 0.03613630728506894\n",
      "Epoch:\t 30 Val Loss:\t 0.03612299149725724\n",
      "Epoch:\t 31 Val Loss:\t 0.03606901884204375\n",
      "Epoch:\t 32 Val Loss:\t 0.036056919419733824\n",
      "Epoch:\t 33 Val Loss:\t 0.03600186731071445\n",
      "Epoch:\t 34 Val Loss:\t 0.03600193919179925\n",
      "Epoch:\t 35 Val Loss:\t 0.03602380147963267\n",
      "Epoch:\t 36 Val Loss:\t 0.03600913068558405\n",
      "Epoch:\t 37 Val Loss:\t 0.0359702888361929\n",
      "Epoch:\t 38 Val Loss:\t 0.035970408894141055\n",
      "Epoch:\t 39 Val Loss:\t 0.03596850592203392\n",
      "Epoch:\t 40 Val Loss:\t 0.03599587850984723\n",
      "Epoch:\t 41 Val Loss:\t 0.03597217709038043\n",
      "Epoch:\t 42 Val Loss:\t 0.03594002175976902\n",
      "Epoch:\t 43 Val Loss:\t 0.0359437081931475\n",
      "Epoch:\t 44 Val Loss:\t 0.03593362826294936\n",
      "Epoch:\t 45 Val Loss:\t 0.035923140546696215\n",
      "Epoch:\t 46 Val Loss:\t 0.03593229745915695\n",
      "Epoch:\t 47 Val Loss:\t 0.035957560564578474\n",
      "Epoch:\t 48 Val Loss:\t 0.03589726378907961\n",
      "Epoch:\t 49 Val Loss:\t 0.03592302411514015\n",
      "Epoch:\t 50 Val Loss:\t 0.03590784428491547\n",
      "Epoch:\t 51 Val Loss:\t 0.035900470370957095\n",
      "Epoch:\t 52 Val Loss:\t 0.035931383998718605\n",
      "Epoch:\t 53 Val Loss:\t 0.03592621301663015\n",
      "Epoch:\t 54 Val Loss:\t 0.03594186588221658\n",
      "Epoch:\t 55 Val Loss:\t 0.035924942820273045\n",
      "Epoch:\t 56 Val Loss:\t 0.03589707412619828\n",
      "Epoch:\t 57 Val Loss:\t 0.03589480027983361\n",
      "Epoch:\t 58 Val Loss:\t 0.03590158722508028\n",
      "Epoch:\t 59 Val Loss:\t 0.03591756183639888\n",
      "Epoch:\t 60 Val Loss:\t 0.035903789492279584\n",
      "Epoch:\t 61 Val Loss:\t 0.03591717593745069\n",
      "Epoch:\t 62 Val Loss:\t 0.03592629097230424\n",
      "Epoch:\t 63 Val Loss:\t 0.035927845616706436\n",
      "Epoch:\t 64 Val Loss:\t 0.03591609250121916\n",
      "Epoch:\t 65 Val Loss:\t 0.03593551407640371\n",
      "Epoch:\t 66 Val Loss:\t 0.035953881186934156\n"
     ]
    },
    {
     "name": "stderr",
     "output_type": "stream",
     "text": [
      "[I 2025-06-02 14:07:11,948] Trial 4 finished with value: 0.03589480027983361 and parameters: {'lr': 1e-05, 'weight_decay': 1e-05, 'scheduler_factor': 0.5, 'scheduler_patience': 10, 'batch_size': 16, 'dropout': 0.2, 'hidden_dims': 512}. Best is trial 4 with value: 0.03589480027983361.\n"
     ]
    },
    {
     "name": "stdout",
     "output_type": "stream",
     "text": [
      "Epoch:\t 67 Val Loss:\t 0.03594935638858056\n"
     ]
    },
    {
     "name": "stderr",
     "output_type": "stream",
     "text": [
      "[I 2025-06-02 14:07:14,670] Trial 5 pruned. \n"
     ]
    },
    {
     "name": "stdout",
     "output_type": "stream",
     "text": [
      "Epoch:\t 0 Val Loss:\t 0.11306776964012832\n",
      "Epoch:\t 0 Val Loss:\t 0.03847760648445685\n",
      "Epoch:\t 1 Val Loss:\t 0.03722080034937506\n",
      "Epoch:\t 2 Val Loss:\t 0.03661042260203714\n",
      "Epoch:\t 3 Val Loss:\t 0.03640838510018453\n",
      "Epoch:\t 4 Val Loss:\t 0.03630091645230818\n",
      "Epoch:\t 5 Val Loss:\t 0.03628656835897176\n",
      "Epoch:\t 6 Val Loss:\t 0.03621339430235973\n",
      "Epoch:\t 7 Val Loss:\t 0.03618917959200224\n",
      "Epoch:\t 8 Val Loss:\t 0.03617596492123374\n",
      "Epoch:\t 9 Val Loss:\t 0.03613282591583644\n",
      "Epoch:\t 10 Val Loss:\t 0.03604051379720498\n",
      "Epoch:\t 11 Val Loss:\t 0.036001226286796126\n",
      "Epoch:\t 12 Val Loss:\t 0.0359594604641295\n",
      "Epoch:\t 13 Val Loss:\t 0.035920200348379526\n",
      "Epoch:\t 14 Val Loss:\t 0.03590459260382836\n",
      "Epoch:\t 15 Val Loss:\t 0.03592655855647237\n",
      "Epoch:\t 16 Val Loss:\t 0.03588831061766845\n",
      "Epoch:\t 17 Val Loss:\t 0.035899828161169864\n",
      "Epoch:\t 18 Val Loss:\t 0.035906110701549476\n",
      "Epoch:\t 19 Val Loss:\t 0.03588892708733151\n",
      "Epoch:\t 20 Val Loss:\t 0.03588991402573524\n",
      "Epoch:\t 21 Val Loss:\t 0.03589598145755157\n",
      "Epoch:\t 22 Val Loss:\t 0.03590758041841041\n",
      "Epoch:\t 23 Val Loss:\t 0.03588566042698465\n",
      "Epoch:\t 24 Val Loss:\t 0.03588436252865761\n",
      "Epoch:\t 25 Val Loss:\t 0.03588402315590926\n",
      "Epoch:\t 26 Val Loss:\t 0.03589006088123061\n",
      "Epoch:\t 27 Val Loss:\t 0.03588901790775287\n",
      "Epoch:\t 28 Val Loss:\t 0.03589154809857105\n",
      "Epoch:\t 29 Val Loss:\t 0.03588882470772964\n",
      "Epoch:\t 30 Val Loss:\t 0.03589387361403447\n",
      "Epoch:\t 31 Val Loss:\t 0.03587434275548941\n",
      "Epoch:\t 32 Val Loss:\t 0.03587934078942158\n",
      "Epoch:\t 33 Val Loss:\t 0.03588128910426925\n",
      "Epoch:\t 34 Val Loss:\t 0.0358775542911226\n",
      "Epoch:\t 35 Val Loss:\t 0.03587873030897122\n",
      "Epoch:\t 36 Val Loss:\t 0.03588434075188023\n",
      "Epoch:\t 37 Val Loss:\t 0.03589131156060473\n",
      "Epoch:\t 38 Val Loss:\t 0.035870609463602786\n",
      "Epoch:\t 39 Val Loss:\t 0.03587210863541177\n",
      "Epoch:\t 40 Val Loss:\t 0.03587996918959633\n",
      "Epoch:\t 41 Val Loss:\t 0.03587593332268418\n",
      "Epoch:\t 42 Val Loss:\t 0.035890908594395955\n",
      "Epoch:\t 43 Val Loss:\t 0.035887332651105344\n",
      "Epoch:\t 44 Val Loss:\t 0.035876426258846114\n",
      "Epoch:\t 45 Val Loss:\t 0.03587562678279984\n",
      "Epoch:\t 46 Val Loss:\t 0.03588354118000656\n",
      "Epoch:\t 47 Val Loss:\t 0.03589722376400635\n"
     ]
    },
    {
     "name": "stderr",
     "output_type": "stream",
     "text": [
      "[I 2025-06-02 14:09:18,358] Trial 6 finished with value: 0.035870609463602786 and parameters: {'lr': 0.001, 'weight_decay': 1e-06, 'scheduler_factor': 0.8, 'scheduler_patience': 5, 'batch_size': 256, 'dropout': 0.15, 'hidden_dims': 512}. Best is trial 6 with value: 0.035870609463602786.\n"
     ]
    },
    {
     "name": "stdout",
     "output_type": "stream",
     "text": [
      "Epoch:\t 48 Val Loss:\t 0.03588256975366372\n"
     ]
    },
    {
     "name": "stderr",
     "output_type": "stream",
     "text": [
      "[I 2025-06-02 14:09:24,338] Trial 7 pruned. \n"
     ]
    },
    {
     "name": "stdout",
     "output_type": "stream",
     "text": [
      "Epoch:\t 0 Val Loss:\t 0.04250625321615435\n",
      "Epoch:\t 0 Val Loss:\t 0.03839960342608623\n",
      "Epoch:\t 1 Val Loss:\t 0.03853735758282395\n",
      "Epoch:\t 2 Val Loss:\t 0.03861971285684544\n",
      "Epoch:\t 3 Val Loss:\t 0.038311778408188044\n"
     ]
    },
    {
     "name": "stderr",
     "output_type": "stream",
     "text": [
      "[I 2025-06-02 14:11:13,251] Trial 8 pruned. \n"
     ]
    },
    {
     "name": "stdout",
     "output_type": "stream",
     "text": [
      "Epoch:\t 4 Val Loss:\t 0.03867012962842246\n",
      "Epoch:\t 0 Val Loss:\t 0.03614754590662174\n",
      "Epoch:\t 1 Val Loss:\t 0.036069951805121056\n",
      "Epoch:\t 2 Val Loss:\t 0.03596955774846369\n",
      "Epoch:\t 3 Val Loss:\t 0.03595199594729742\n",
      "Epoch:\t 4 Val Loss:\t 0.03593184040902659\n",
      "Epoch:\t 5 Val Loss:\t 0.03593221816302254\n",
      "Epoch:\t 6 Val Loss:\t 0.03590872511118292\n",
      "Epoch:\t 7 Val Loss:\t 0.03593707462412745\n",
      "Epoch:\t 8 Val Loss:\t 0.03592327093584545\n",
      "Epoch:\t 9 Val Loss:\t 0.03593468643521775\n",
      "Epoch:\t 10 Val Loss:\t 0.03593579023992814\n",
      "Epoch:\t 11 Val Loss:\t 0.03592303889387593\n",
      "Epoch:\t 12 Val Loss:\t 0.03590169244572078\n",
      "Epoch:\t 13 Val Loss:\t 0.035880797564290294\n",
      "Epoch:\t 14 Val Loss:\t 0.03591079638005737\n",
      "Epoch:\t 15 Val Loss:\t 0.03588671162395881\n",
      "Epoch:\t 16 Val Loss:\t 0.03591298059363937\n",
      "Epoch:\t 17 Val Loss:\t 0.03589439516963248\n",
      "Epoch:\t 18 Val Loss:\t 0.03590848945595067\n",
      "Epoch:\t 19 Val Loss:\t 0.03589395239931302\n",
      "Epoch:\t 20 Val Loss:\t 0.03591509334557804\n",
      "Epoch:\t 21 Val Loss:\t 0.035938478946542396\n",
      "Epoch:\t 22 Val Loss:\t 0.035894473064646014\n"
     ]
    },
    {
     "name": "stderr",
     "output_type": "stream",
     "text": [
      "[I 2025-06-02 14:12:55,127] Trial 9 finished with value: 0.035880797564290294 and parameters: {'lr': 0.001, 'weight_decay': 1e-06, 'scheduler_factor': 0.3, 'scheduler_patience': 10, 'batch_size': 64, 'dropout': 0.05, 'hidden_dims': 64}. Best is trial 6 with value: 0.035870609463602786.\n"
     ]
    },
    {
     "name": "stdout",
     "output_type": "stream",
     "text": [
      "Epoch:\t 23 Val Loss:\t 0.03590415235319038\n",
      "Epoch:\t 0 Val Loss:\t 0.03640970022441868\n",
      "Epoch:\t 1 Val Loss:\t 0.036220888361961905\n",
      "Epoch:\t 2 Val Loss:\t 0.036146341597956266\n",
      "Epoch:\t 3 Val Loss:\t 0.036251026291945175\n",
      "Epoch:\t 4 Val Loss:\t 0.036166192410524954\n",
      "Epoch:\t 5 Val Loss:\t 0.03588034025652853\n",
      "Epoch:\t 6 Val Loss:\t 0.03589479968563947\n",
      "Epoch:\t 7 Val Loss:\t 0.03587662703721581\n",
      "Epoch:\t 8 Val Loss:\t 0.03590904980345456\n",
      "Epoch:\t 9 Val Loss:\t 0.03590788563530526\n",
      "Epoch:\t 10 Val Loss:\t 0.03583906564510657\n",
      "Epoch:\t 11 Val Loss:\t 0.035870081334858236\n",
      "Epoch:\t 12 Val Loss:\t 0.03588777583368675\n",
      "Epoch:\t 13 Val Loss:\t 0.03585444881556507\n",
      "Epoch:\t 14 Val Loss:\t 0.03584567324327443\n",
      "Epoch:\t 15 Val Loss:\t 0.03586153292838103\n",
      "Epoch:\t 16 Val Loss:\t 0.03586914235640146\n",
      "Epoch:\t 17 Val Loss:\t 0.03585038827078973\n",
      "Epoch:\t 18 Val Loss:\t 0.03585250463807033\n",
      "Epoch:\t 19 Val Loss:\t 0.03584091596917542\n"
     ]
    },
    {
     "name": "stderr",
     "output_type": "stream",
     "text": [
      "[I 2025-06-02 14:15:16,742] Trial 10 finished with value: 0.03583906564510657 and parameters: {'lr': 0.001, 'weight_decay': 0.0001, 'scheduler_factor': 0.1, 'scheduler_patience': 1, 'batch_size': 32, 'dropout': 0.05, 'hidden_dims': 512}. Best is trial 10 with value: 0.03583906564510657.\n"
     ]
    },
    {
     "name": "stdout",
     "output_type": "stream",
     "text": [
      "Epoch:\t 20 Val Loss:\t 0.03584843030673469\n",
      "Epoch:\t 0 Val Loss:\t 0.03640555233390393\n",
      "Epoch:\t 1 Val Loss:\t 0.03627534495117908\n",
      "Epoch:\t 2 Val Loss:\t 0.03617153530548474\n",
      "Epoch:\t 3 Val Loss:\t 0.03615076335404584\n",
      "Epoch:\t 4 Val Loss:\t 0.036140966994728976\n",
      "Epoch:\t 5 Val Loss:\t 0.036155559026257306\n",
      "Epoch:\t 6 Val Loss:\t 0.03614556057031503\n",
      "Epoch:\t 7 Val Loss:\t 0.035890907098451455\n",
      "Epoch:\t 8 Val Loss:\t 0.0358880165628417\n",
      "Epoch:\t 9 Val Loss:\t 0.03588618255315539\n",
      "Epoch:\t 10 Val Loss:\t 0.03587458149673704\n",
      "Epoch:\t 11 Val Loss:\t 0.035891831540064006\n",
      "Epoch:\t 12 Val Loss:\t 0.035952347982861475\n",
      "Epoch:\t 13 Val Loss:\t 0.03586257681817951\n",
      "Epoch:\t 14 Val Loss:\t 0.03586902985487409\n",
      "Epoch:\t 15 Val Loss:\t 0.03586233958587021\n",
      "Epoch:\t 16 Val Loss:\t 0.035852235094280184\n",
      "Epoch:\t 17 Val Loss:\t 0.03584824728598456\n",
      "Epoch:\t 18 Val Loss:\t 0.03585420167652185\n",
      "Epoch:\t 19 Val Loss:\t 0.035853438260022526\n",
      "Epoch:\t 20 Val Loss:\t 0.03586673104840672\n",
      "Epoch:\t 21 Val Loss:\t 0.03587520944630216\n",
      "Epoch:\t 22 Val Loss:\t 0.03586404301181346\n",
      "Epoch:\t 23 Val Loss:\t 0.035844285766741556\n",
      "Epoch:\t 24 Val Loss:\t 0.03584282370601484\n",
      "Epoch:\t 25 Val Loss:\t 0.035849454822783955\n",
      "Epoch:\t 26 Val Loss:\t 0.03586214418506216\n",
      "Epoch:\t 27 Val Loss:\t 0.03584399071255165\n",
      "Epoch:\t 28 Val Loss:\t 0.03587747435710712\n",
      "Epoch:\t 29 Val Loss:\t 0.035871883844564814\n",
      "Epoch:\t 30 Val Loss:\t 0.03587428510547401\n",
      "Epoch:\t 31 Val Loss:\t 0.03583925283310528\n",
      "Epoch:\t 32 Val Loss:\t 0.035867980685465796\n",
      "Epoch:\t 33 Val Loss:\t 0.035860861637041656\n",
      "Epoch:\t 34 Val Loss:\t 0.03584758851804093\n",
      "Epoch:\t 35 Val Loss:\t 0.035886805043191854\n",
      "Epoch:\t 36 Val Loss:\t 0.03584315948457063\n",
      "Epoch:\t 37 Val Loss:\t 0.03583811387076287\n",
      "Epoch:\t 38 Val Loss:\t 0.03585039393711305\n",
      "Epoch:\t 39 Val Loss:\t 0.035869690024840806\n",
      "Epoch:\t 40 Val Loss:\t 0.035849803690621275\n",
      "Epoch:\t 41 Val Loss:\t 0.0358673009931862\n",
      "Epoch:\t 42 Val Loss:\t 0.03583277923713825\n",
      "Epoch:\t 43 Val Loss:\t 0.03584631676962954\n",
      "Epoch:\t 44 Val Loss:\t 0.03586118507286709\n",
      "Epoch:\t 45 Val Loss:\t 0.035837858072472716\n",
      "Epoch:\t 46 Val Loss:\t 0.035850245588438544\n",
      "Epoch:\t 47 Val Loss:\t 0.03587870248677377\n",
      "Epoch:\t 48 Val Loss:\t 0.03585390461410932\n",
      "Epoch:\t 49 Val Loss:\t 0.03586245308180371\n",
      "Epoch:\t 50 Val Loss:\t 0.03586452508976082\n",
      "Epoch:\t 51 Val Loss:\t 0.03585663820674759\n"
     ]
    },
    {
     "name": "stderr",
     "output_type": "stream",
     "text": [
      "[I 2025-06-02 14:21:28,088] Trial 11 finished with value: 0.03583277923713825 and parameters: {'lr': 0.001, 'weight_decay': 0.0001, 'scheduler_factor': 0.1, 'scheduler_patience': 1, 'batch_size': 32, 'dropout': 0.05, 'hidden_dims': 512}. Best is trial 11 with value: 0.03583277923713825.\n"
     ]
    },
    {
     "name": "stdout",
     "output_type": "stream",
     "text": [
      "Epoch:\t 52 Val Loss:\t 0.035878831407947384\n",
      "Epoch:\t 0 Val Loss:\t 0.03644394412084309\n",
      "Epoch:\t 1 Val Loss:\t 0.03620935131334709\n",
      "Epoch:\t 2 Val Loss:\t 0.036202997602298406\n",
      "Epoch:\t 3 Val Loss:\t 0.036128996208101095\n",
      "Epoch:\t 4 Val Loss:\t 0.03612142071381719\n",
      "Epoch:\t 5 Val Loss:\t 0.03614381672609187\n",
      "Epoch:\t 6 Val Loss:\t 0.03609301912895066\n",
      "Epoch:\t 7 Val Loss:\t 0.03613175903568287\n",
      "Epoch:\t 8 Val Loss:\t 0.036229592101846286\n",
      "Epoch:\t 9 Val Loss:\t 0.0358903169631958\n",
      "Epoch:\t 10 Val Loss:\t 0.035892051768177495\n",
      "Epoch:\t 11 Val Loss:\t 0.03586278690962132\n",
      "Epoch:\t 12 Val Loss:\t 0.035883922967499864\n",
      "Epoch:\t 13 Val Loss:\t 0.03587977988552116\n",
      "Epoch:\t 14 Val Loss:\t 0.035860771695543865\n",
      "Epoch:\t 15 Val Loss:\t 0.03584733063015407\n",
      "Epoch:\t 16 Val Loss:\t 0.03584738876707926\n",
      "Epoch:\t 17 Val Loss:\t 0.03586157851428809\n",
      "Epoch:\t 18 Val Loss:\t 0.035853075101702866\n",
      "Epoch:\t 19 Val Loss:\t 0.035842732125837246\n",
      "Epoch:\t 20 Val Loss:\t 0.03585783150905598\n",
      "Epoch:\t 21 Val Loss:\t 0.03583774439662038\n",
      "Epoch:\t 22 Val Loss:\t 0.035840012842345094\n",
      "Epoch:\t 23 Val Loss:\t 0.03583387982227162\n",
      "Epoch:\t 24 Val Loss:\t 0.03583292845778451\n",
      "Epoch:\t 25 Val Loss:\t 0.035867116788405935\n",
      "Epoch:\t 26 Val Loss:\t 0.03585593736989943\n",
      "Epoch:\t 27 Val Loss:\t 0.035854121932166375\n",
      "Epoch:\t 28 Val Loss:\t 0.03584411900811539\n",
      "Epoch:\t 29 Val Loss:\t 0.03583388781932767\n",
      "Epoch:\t 30 Val Loss:\t 0.0358343011369268\n",
      "Epoch:\t 31 Val Loss:\t 0.035835392807492754\n",
      "Epoch:\t 32 Val Loss:\t 0.035854637658667705\n",
      "Epoch:\t 33 Val Loss:\t 0.03584490674053261\n"
     ]
    },
    {
     "name": "stderr",
     "output_type": "stream",
     "text": [
      "[I 2025-06-02 14:25:31,989] Trial 12 finished with value: 0.03583292845778451 and parameters: {'lr': 0.001, 'weight_decay': 0.0001, 'scheduler_factor': 0.1, 'scheduler_patience': 1, 'batch_size': 32, 'dropout': 0.05, 'hidden_dims': 512}. Best is trial 11 with value: 0.03583277923713825.\n"
     ]
    },
    {
     "name": "stdout",
     "output_type": "stream",
     "text": [
      "Epoch:\t 34 Val Loss:\t 0.03583453237666993\n",
      "Epoch:\t 0 Val Loss:\t 0.036385280760621024\n",
      "Epoch:\t 1 Val Loss:\t 0.03619750972859606\n",
      "Epoch:\t 2 Val Loss:\t 0.03614142069328046\n",
      "Epoch:\t 3 Val Loss:\t 0.03621170493533353\n",
      "Epoch:\t 4 Val Loss:\t 0.03615294074367187\n",
      "Epoch:\t 5 Val Loss:\t 0.03586786216673608\n",
      "Epoch:\t 6 Val Loss:\t 0.035891350260926394\n",
      "Epoch:\t 7 Val Loss:\t 0.035876940614833146\n",
      "Epoch:\t 8 Val Loss:\t 0.035846065201298266\n",
      "Epoch:\t 9 Val Loss:\t 0.035840727691212014\n",
      "Epoch:\t 10 Val Loss:\t 0.03584744987527808\n",
      "Epoch:\t 11 Val Loss:\t 0.03584487028196006\n",
      "Epoch:\t 12 Val Loss:\t 0.03586283955864892\n",
      "Epoch:\t 13 Val Loss:\t 0.03583747707307339\n",
      "Epoch:\t 14 Val Loss:\t 0.03586962971246553\n",
      "Epoch:\t 15 Val Loss:\t 0.035843768263448456\n",
      "Epoch:\t 16 Val Loss:\t 0.035866257748407925\n",
      "Epoch:\t 17 Val Loss:\t 0.035835064581048515\n",
      "Epoch:\t 18 Val Loss:\t 0.035833974296828074\n",
      "Epoch:\t 19 Val Loss:\t 0.03583992020803726\n",
      "Epoch:\t 20 Val Loss:\t 0.03584302945178233\n",
      "Epoch:\t 21 Val Loss:\t 0.03583696100987748\n",
      "Epoch:\t 22 Val Loss:\t 0.03586220881548936\n",
      "Epoch:\t 23 Val Loss:\t 0.035858367643279876\n",
      "Epoch:\t 24 Val Loss:\t 0.03585136719719919\n",
      "Epoch:\t 25 Val Loss:\t 0.03583433285713913\n",
      "Epoch:\t 26 Val Loss:\t 0.03583858762093202\n",
      "Epoch:\t 27 Val Loss:\t 0.03584332741080281\n"
     ]
    },
    {
     "name": "stderr",
     "output_type": "stream",
     "text": [
      "[I 2025-06-02 14:28:45,688] Trial 13 finished with value: 0.035833974296828074 and parameters: {'lr': 0.001, 'weight_decay': 0.0001, 'scheduler_factor': 0.1, 'scheduler_patience': 1, 'batch_size': 32, 'dropout': 0.05, 'hidden_dims': 512}. Best is trial 11 with value: 0.03583277923713825.\n"
     ]
    },
    {
     "name": "stdout",
     "output_type": "stream",
     "text": [
      "Epoch:\t 28 Val Loss:\t 0.035837774010811875\n"
     ]
    },
    {
     "name": "stderr",
     "output_type": "stream",
     "text": [
      "[I 2025-06-02 14:28:54,005] Trial 14 pruned. \n"
     ]
    },
    {
     "name": "stdout",
     "output_type": "stream",
     "text": [
      "Epoch:\t 0 Val Loss:\t 0.03662503256662217\n",
      "Epoch:\t 0 Val Loss:\t 0.03643113740744118\n",
      "Epoch:\t 1 Val Loss:\t 0.03621114059342053\n",
      "Epoch:\t 2 Val Loss:\t 0.036177532488334635\n",
      "Epoch:\t 3 Val Loss:\t 0.03617094816016649\n",
      "Epoch:\t 4 Val Loss:\t 0.03612754591675345\n",
      "Epoch:\t 5 Val Loss:\t 0.03615262614551909\n",
      "Epoch:\t 6 Val Loss:\t 0.03613496619707836\n",
      "Epoch:\t 7 Val Loss:\t 0.03585963657719339\n",
      "Epoch:\t 8 Val Loss:\t 0.03589397372009759\n",
      "Epoch:\t 9 Val Loss:\t 0.03590477828406738\n",
      "Epoch:\t 10 Val Loss:\t 0.03583740063743266\n",
      "Epoch:\t 11 Val Loss:\t 0.03585299516697685\n",
      "Epoch:\t 12 Val Loss:\t 0.035834758121049956\n",
      "Epoch:\t 13 Val Loss:\t 0.035835722161229246\n",
      "Epoch:\t 14 Val Loss:\t 0.03583988151876984\n",
      "Epoch:\t 15 Val Loss:\t 0.03582408987732234\n",
      "Epoch:\t 16 Val Loss:\t 0.0358515341768045\n",
      "Epoch:\t 17 Val Loss:\t 0.03583816870494572\n",
      "Epoch:\t 18 Val Loss:\t 0.03585621250013192\n",
      "Epoch:\t 19 Val Loss:\t 0.035834200672790376\n",
      "Epoch:\t 20 Val Loss:\t 0.03584065942881341\n",
      "Epoch:\t 21 Val Loss:\t 0.035833602512109736\n",
      "Epoch:\t 22 Val Loss:\t 0.035834546846324554\n",
      "Epoch:\t 23 Val Loss:\t 0.035830934330791174\n",
      "Epoch:\t 24 Val Loss:\t 0.035832740700913815\n"
     ]
    },
    {
     "name": "stderr",
     "output_type": "stream",
     "text": [
      "[I 2025-06-02 14:31:56,264] Trial 15 finished with value: 0.03582408987732234 and parameters: {'lr': 0.001, 'weight_decay': 0.0001, 'scheduler_factor': 0.1, 'scheduler_patience': 1, 'batch_size': 32, 'dropout': 0.05, 'hidden_dims': 512}. Best is trial 15 with value: 0.03582408987732234.\n"
     ]
    },
    {
     "name": "stdout",
     "output_type": "stream",
     "text": [
      "Epoch:\t 25 Val Loss:\t 0.035839600030161095\n",
      "Epoch:\t 0 Val Loss:\t 0.036409087383440945\n"
     ]
    },
    {
     "name": "stderr",
     "output_type": "stream",
     "text": [
      "[I 2025-06-02 14:32:02,046] Trial 16 pruned. \n"
     ]
    },
    {
     "name": "stdout",
     "output_type": "stream",
     "text": [
      "Epoch:\t 1 Val Loss:\t 0.03625149868225401\n"
     ]
    },
    {
     "name": "stderr",
     "output_type": "stream",
     "text": [
      "[I 2025-06-02 14:32:06,602] Trial 17 pruned. \n"
     ]
    },
    {
     "name": "stdout",
     "output_type": "stream",
     "text": [
      "Epoch:\t 0 Val Loss:\t 0.036503332357109786\n"
     ]
    },
    {
     "name": "stderr",
     "output_type": "stream",
     "text": [
      "[I 2025-06-02 14:32:14,074] Trial 18 pruned. \n"
     ]
    },
    {
     "name": "stdout",
     "output_type": "stream",
     "text": [
      "Epoch:\t 0 Val Loss:\t 0.036648276468406696\n",
      "Epoch:\t 0 Val Loss:\t 0.0362783739167846\n"
     ]
    },
    {
     "name": "stderr",
     "output_type": "stream",
     "text": [
      "[I 2025-06-02 14:32:26,954] Trial 19 pruned. \n"
     ]
    },
    {
     "name": "stdout",
     "output_type": "stream",
     "text": [
      "Epoch:\t 1 Val Loss:\t 0.0362615978572973\n"
     ]
    },
    {
     "name": "stderr",
     "output_type": "stream",
     "text": [
      "[I 2025-06-02 14:32:33,897] Trial 20 pruned. \n"
     ]
    },
    {
     "name": "stdout",
     "output_type": "stream",
     "text": [
      "Epoch:\t 0 Val Loss:\t 0.03801562767513171\n",
      "Epoch:\t 0 Val Loss:\t 0.03635830630684544\n",
      "Epoch:\t 1 Val Loss:\t 0.03623878375621501\n",
      "Epoch:\t 2 Val Loss:\t 0.03613245136558054\n",
      "Epoch:\t 3 Val Loss:\t 0.036153863622752844\n",
      "Epoch:\t 4 Val Loss:\t 0.036155932551186404\n",
      "Epoch:\t 5 Val Loss:\t 0.035887310411295816\n",
      "Epoch:\t 6 Val Loss:\t 0.035871369608179604\n",
      "Epoch:\t 7 Val Loss:\t 0.03587736026617234\n",
      "Epoch:\t 8 Val Loss:\t 0.03588151440830651\n",
      "Epoch:\t 9 Val Loss:\t 0.03585674433123492\n",
      "Epoch:\t 10 Val Loss:\t 0.03584338914087875\n",
      "Epoch:\t 11 Val Loss:\t 0.0358954852473043\n",
      "Epoch:\t 12 Val Loss:\t 0.035851424481562956\n",
      "Epoch:\t 13 Val Loss:\t 0.03584829382897021\n",
      "Epoch:\t 14 Val Loss:\t 0.03588000592478889\n",
      "Epoch:\t 15 Val Loss:\t 0.03584930507805878\n",
      "Epoch:\t 16 Val Loss:\t 0.03584754654170874\n",
      "Epoch:\t 17 Val Loss:\t 0.035846381926375306\n",
      "Epoch:\t 18 Val Loss:\t 0.035848739946294644\n",
      "Epoch:\t 19 Val Loss:\t 0.03586824904821201\n",
      "Epoch:\t 20 Val Loss:\t 0.03583890986600835\n",
      "Epoch:\t 21 Val Loss:\t 0.03585499935300054\n",
      "Epoch:\t 22 Val Loss:\t 0.03585607351096933\n",
      "Epoch:\t 23 Val Loss:\t 0.035848487350708974\n",
      "Epoch:\t 24 Val Loss:\t 0.035841891280037605\n",
      "Epoch:\t 25 Val Loss:\t 0.035859486147880794\n",
      "Epoch:\t 26 Val Loss:\t 0.035853842921360936\n",
      "Epoch:\t 27 Val Loss:\t 0.03586989968029674\n",
      "Epoch:\t 28 Val Loss:\t 0.03584852139344196\n",
      "Epoch:\t 29 Val Loss:\t 0.03584026212921601\n"
     ]
    },
    {
     "name": "stderr",
     "output_type": "stream",
     "text": [
      "[I 2025-06-02 14:36:13,201] Trial 21 finished with value: 0.03583890986600835 and parameters: {'lr': 0.001, 'weight_decay': 0.0001, 'scheduler_factor': 0.1, 'scheduler_patience': 1, 'batch_size': 32, 'dropout': 0.05, 'hidden_dims': 512}. Best is trial 15 with value: 0.03582408987732234.\n"
     ]
    },
    {
     "name": "stdout",
     "output_type": "stream",
     "text": [
      "Epoch:\t 30 Val Loss:\t 0.03584907535530761\n"
     ]
    },
    {
     "name": "stderr",
     "output_type": "stream",
     "text": [
      "[I 2025-06-02 14:36:20,468] Trial 22 pruned. \n"
     ]
    },
    {
     "name": "stdout",
     "output_type": "stream",
     "text": [
      "Epoch:\t 0 Val Loss:\t 0.036435374918436715\n"
     ]
    },
    {
     "name": "stderr",
     "output_type": "stream",
     "text": [
      "[I 2025-06-02 14:36:27,657] Trial 23 pruned. \n"
     ]
    },
    {
     "name": "stdout",
     "output_type": "stream",
     "text": [
      "Epoch:\t 0 Val Loss:\t 0.036504288885988785\n",
      "Epoch:\t 0 Val Loss:\t 0.03640705285471286\n"
     ]
    },
    {
     "name": "stderr",
     "output_type": "stream",
     "text": [
      "[I 2025-06-02 14:36:33,495] Trial 24 pruned. \n"
     ]
    },
    {
     "name": "stdout",
     "output_type": "stream",
     "text": [
      "Epoch:\t 1 Val Loss:\t 0.036242961118156225\n",
      "Epoch:\t 0 Val Loss:\t 0.03640333489307574\n"
     ]
    },
    {
     "name": "stderr",
     "output_type": "stream",
     "text": [
      "[I 2025-06-02 14:37:08,432] Trial 25 pruned. \n"
     ]
    },
    {
     "name": "stdout",
     "output_type": "stream",
     "text": [
      "Epoch:\t 1 Val Loss:\t 0.03626930634870877\n"
     ]
    },
    {
     "name": "stderr",
     "output_type": "stream",
     "text": [
      "[I 2025-06-02 14:37:15,120] Trial 26 pruned. \n"
     ]
    },
    {
     "name": "stdout",
     "output_type": "stream",
     "text": [
      "Epoch:\t 0 Val Loss:\t 0.045022285199595356\n",
      "Epoch:\t 0 Val Loss:\t 0.03637854476498908\n",
      "Epoch:\t 1 Val Loss:\t 0.03619335897703026\n",
      "Epoch:\t 2 Val Loss:\t 0.03593208019434211\n",
      "Epoch:\t 3 Val Loss:\t 0.0359369246983705\n",
      "Epoch:\t 4 Val Loss:\t 0.0359623742490744\n",
      "Epoch:\t 5 Val Loss:\t 0.03590524111633169\n",
      "Epoch:\t 6 Val Loss:\t 0.03586884448342115\n",
      "Epoch:\t 7 Val Loss:\t 0.03588310887390313\n",
      "Epoch:\t 8 Val Loss:\t 0.03590764222874246\n",
      "Epoch:\t 9 Val Loss:\t 0.03585064030717685\n",
      "Epoch:\t 10 Val Loss:\t 0.035864122990151355\n",
      "Epoch:\t 11 Val Loss:\t 0.035863504027342834\n",
      "Epoch:\t 12 Val Loss:\t 0.035836633565180666\n",
      "Epoch:\t 13 Val Loss:\t 0.03585045372151621\n",
      "Epoch:\t 14 Val Loss:\t 0.035819872053162324\n",
      "Epoch:\t 15 Val Loss:\t 0.03583138778883405\n",
      "Epoch:\t 16 Val Loss:\t 0.03583254259447145\n",
      "Epoch:\t 17 Val Loss:\t 0.03585263234417536\n",
      "Epoch:\t 18 Val Loss:\t 0.03582843870922338\n",
      "Epoch:\t 19 Val Loss:\t 0.03583508139026576\n",
      "Epoch:\t 20 Val Loss:\t 0.03584278421663196\n",
      "Epoch:\t 21 Val Loss:\t 0.0358290719787001\n",
      "Epoch:\t 22 Val Loss:\t 0.03583816619949907\n",
      "Epoch:\t 23 Val Loss:\t 0.03585906769503759\n"
     ]
    },
    {
     "name": "stderr",
     "output_type": "stream",
     "text": [
      "[I 2025-06-02 14:39:00,239] Trial 27 finished with value: 0.035819872053162324 and parameters: {'lr': 0.0001, 'weight_decay': 0.0001, 'scheduler_factor': 0.5, 'scheduler_patience': 1, 'batch_size': 64, 'dropout': 0.1, 'hidden_dims': 512}. Best is trial 27 with value: 0.035819872053162324.\n"
     ]
    },
    {
     "name": "stdout",
     "output_type": "stream",
     "text": [
      "Epoch:\t 24 Val Loss:\t 0.03583292878190326\n",
      "Epoch:\t 0 Val Loss:\t 0.03623262386837767\n"
     ]
    },
    {
     "name": "stderr",
     "output_type": "stream",
     "text": [
      "[I 2025-06-02 14:39:08,672] Trial 28 pruned. \n"
     ]
    },
    {
     "name": "stdout",
     "output_type": "stream",
     "text": [
      "Epoch:\t 1 Val Loss:\t 0.03648812725315499\n",
      "Epoch:\t 0 Val Loss:\t 0.03613058759352161\n",
      "Epoch:\t 1 Val Loss:\t 0.03658673682256804\n",
      "Epoch:\t 2 Val Loss:\t 0.03741560773005367\n",
      "Epoch:\t 3 Val Loss:\t 0.03748712119584382\n",
      "Epoch:\t 4 Val Loss:\t 0.03764223537699834\n",
      "Epoch:\t 5 Val Loss:\t 0.03766631137552793\n",
      "Epoch:\t 6 Val Loss:\t 0.03739384289624793\n"
     ]
    },
    {
     "name": "stderr",
     "output_type": "stream",
     "text": [
      "[I 2025-06-02 14:39:41,047] Trial 29 pruned. \n"
     ]
    },
    {
     "name": "stdout",
     "output_type": "stream",
     "text": [
      "Epoch:\t 7 Val Loss:\t 0.03751132450848459\n",
      "Epoch:\t 0 Val Loss:\t 0.03610274035546334\n",
      "Epoch:\t 1 Val Loss:\t 0.03600263014830105\n",
      "Epoch:\t 2 Val Loss:\t 0.035887943513530106\n",
      "Epoch:\t 3 Val Loss:\t 0.03588298098621076\n",
      "Epoch:\t 4 Val Loss:\t 0.03591119525199808\n",
      "Epoch:\t 5 Val Loss:\t 0.03588668361706503\n",
      "Epoch:\t 6 Val Loss:\t 0.0359451467023435\n",
      "Epoch:\t 7 Val Loss:\t 0.03592587782050623\n",
      "Epoch:\t 8 Val Loss:\t 0.03588873451335151\n",
      "Epoch:\t 9 Val Loss:\t 0.03589449877273396\n",
      "Epoch:\t 10 Val Loss:\t 0.03587366149887\n",
      "Epoch:\t 11 Val Loss:\t 0.03586276101117241\n",
      "Epoch:\t 12 Val Loss:\t 0.035856996624825374\n",
      "Epoch:\t 13 Val Loss:\t 0.03589044101745392\n",
      "Epoch:\t 14 Val Loss:\t 0.03586896790793493\n",
      "Epoch:\t 15 Val Loss:\t 0.03590237017819522\n",
      "Epoch:\t 16 Val Loss:\t 0.035858462265160145\n",
      "Epoch:\t 17 Val Loss:\t 0.03586263064692378\n"
     ]
    },
    {
     "name": "stderr",
     "output_type": "stream",
     "text": [
      "[I 2025-06-02 14:40:56,977] Trial 30 pruned. \n"
     ]
    },
    {
     "name": "stdout",
     "output_type": "stream",
     "text": [
      "Epoch:\t 18 Val Loss:\t 0.03587786572049547\n",
      "Epoch:\t 0 Val Loss:\t 0.03628806824517326\n",
      "Epoch:\t 1 Val Loss:\t 0.03614605548877475\n",
      "Epoch:\t 2 Val Loss:\t 0.03598038381250887\n",
      "Epoch:\t 3 Val Loss:\t 0.03593364724353159\n",
      "Epoch:\t 4 Val Loss:\t 0.03597361075526825\n",
      "Epoch:\t 5 Val Loss:\t 0.03594000990194087\n",
      "Epoch:\t 6 Val Loss:\t 0.03589322784229958\n",
      "Epoch:\t 7 Val Loss:\t 0.03588232433583226\n",
      "Epoch:\t 8 Val Loss:\t 0.03587237639171941\n",
      "Epoch:\t 9 Val Loss:\t 0.03588170341926283\n",
      "Epoch:\t 10 Val Loss:\t 0.035867866194405934\n",
      "Epoch:\t 11 Val Loss:\t 0.03589089318315268\n",
      "Epoch:\t 12 Val Loss:\t 0.03589549084562202\n",
      "Epoch:\t 13 Val Loss:\t 0.03585199952729005\n",
      "Epoch:\t 14 Val Loss:\t 0.03585484558783633\n",
      "Epoch:\t 15 Val Loss:\t 0.03585328917977278\n",
      "Epoch:\t 16 Val Loss:\t 0.03582983365866453\n",
      "Epoch:\t 17 Val Loss:\t 0.03583851388081275\n",
      "Epoch:\t 18 Val Loss:\t 0.03583979021545736\n",
      "Epoch:\t 19 Val Loss:\t 0.03582784003535556\n",
      "Epoch:\t 20 Val Loss:\t 0.035827115402163365\n",
      "Epoch:\t 21 Val Loss:\t 0.03582552680036213\n",
      "Epoch:\t 22 Val Loss:\t 0.035834373435738955\n",
      "Epoch:\t 23 Val Loss:\t 0.03583759069144009\n",
      "Epoch:\t 24 Val Loss:\t 0.035844283417440836\n",
      "Epoch:\t 25 Val Loss:\t 0.035826606674488774\n",
      "Epoch:\t 26 Val Loss:\t 0.03585242340976033\n",
      "Epoch:\t 27 Val Loss:\t 0.035832698722074965\n",
      "Epoch:\t 28 Val Loss:\t 0.035845730385019384\n",
      "Epoch:\t 29 Val Loss:\t 0.03583738961837343\n",
      "Epoch:\t 30 Val Loss:\t 0.03582217321158316\n",
      "Epoch:\t 31 Val Loss:\t 0.03582679978314169\n",
      "Epoch:\t 32 Val Loss:\t 0.035834224424127016\n",
      "Epoch:\t 33 Val Loss:\t 0.0358295210867929\n",
      "Epoch:\t 34 Val Loss:\t 0.03583010782150861\n",
      "Epoch:\t 35 Val Loss:\t 0.035830136176434726\n",
      "Epoch:\t 36 Val Loss:\t 0.03584198822486181\n",
      "Epoch:\t 37 Val Loss:\t 0.03582478781419701\n",
      "Epoch:\t 38 Val Loss:\t 0.035841221697837614\n",
      "Epoch:\t 39 Val Loss:\t 0.035843884155644164\n"
     ]
    },
    {
     "name": "stderr",
     "output_type": "stream",
     "text": [
      "[I 2025-06-02 14:43:49,041] Trial 31 finished with value: 0.03582217321158316 and parameters: {'lr': 0.0001, 'weight_decay': 0.0001, 'scheduler_factor': 0.5, 'scheduler_patience': 1, 'batch_size': 64, 'dropout': 0.1, 'hidden_dims': 512}. Best is trial 27 with value: 0.035819872053162324.\n"
     ]
    },
    {
     "name": "stdout",
     "output_type": "stream",
     "text": [
      "Epoch:\t 40 Val Loss:\t 0.03582885186542677\n",
      "Epoch:\t 0 Val Loss:\t 0.036200576253480304\n",
      "Epoch:\t 1 Val Loss:\t 0.03621146371759887\n",
      "Epoch:\t 2 Val Loss:\t 0.03592129288287572\n",
      "Epoch:\t 3 Val Loss:\t 0.03593775284952322\n",
      "Epoch:\t 4 Val Loss:\t 0.03595563181867911\n",
      "Epoch:\t 5 Val Loss:\t 0.035928509730633586\n",
      "Epoch:\t 6 Val Loss:\t 0.03585989331137972\n",
      "Epoch:\t 7 Val Loss:\t 0.03589305153628923\n",
      "Epoch:\t 8 Val Loss:\t 0.03589840699061931\n",
      "Epoch:\t 9 Val Loss:\t 0.03585866647948001\n",
      "Epoch:\t 10 Val Loss:\t 0.03586261946806548\n",
      "Epoch:\t 11 Val Loss:\t 0.03583204241226029\n",
      "Epoch:\t 12 Val Loss:\t 0.03584599706292774\n",
      "Epoch:\t 13 Val Loss:\t 0.035833381830379304\n",
      "Epoch:\t 14 Val Loss:\t 0.035836462047975734\n",
      "Epoch:\t 15 Val Loss:\t 0.03583404864838052\n",
      "Epoch:\t 16 Val Loss:\t 0.03582684123483819\n",
      "Epoch:\t 17 Val Loss:\t 0.03586918701146637\n",
      "Epoch:\t 18 Val Loss:\t 0.035837880145301315\n",
      "Epoch:\t 19 Val Loss:\t 0.03582662404623142\n",
      "Epoch:\t 20 Val Loss:\t 0.03582608749090717\n",
      "Epoch:\t 21 Val Loss:\t 0.0358442149312499\n",
      "Epoch:\t 22 Val Loss:\t 0.035842774383598265\n",
      "Epoch:\t 23 Val Loss:\t 0.03583177779864672\n",
      "Epoch:\t 24 Val Loss:\t 0.035816897718055116\n",
      "Epoch:\t 25 Val Loss:\t 0.035836755991902176\n",
      "Epoch:\t 26 Val Loss:\t 0.0358261321211994\n",
      "Epoch:\t 27 Val Loss:\t 0.035821964157672054\n",
      "Epoch:\t 28 Val Loss:\t 0.03582162157137249\n",
      "Epoch:\t 29 Val Loss:\t 0.0358195925996293\n",
      "Epoch:\t 30 Val Loss:\t 0.035835485215319\n",
      "Epoch:\t 31 Val Loss:\t 0.03583892722223507\n",
      "Epoch:\t 32 Val Loss:\t 0.03582004576162663\n",
      "Epoch:\t 33 Val Loss:\t 0.035826120237314234\n"
     ]
    },
    {
     "name": "stderr",
     "output_type": "stream",
     "text": [
      "[I 2025-06-02 14:46:16,403] Trial 32 finished with value: 0.035816897718055116 and parameters: {'lr': 0.0001, 'weight_decay': 0.0001, 'scheduler_factor': 0.5, 'scheduler_patience': 1, 'batch_size': 64, 'dropout': 0.1, 'hidden_dims': 512}. Best is trial 32 with value: 0.035816897718055116.\n"
     ]
    },
    {
     "name": "stdout",
     "output_type": "stream",
     "text": [
      "Epoch:\t 34 Val Loss:\t 0.035828729320702885\n",
      "Epoch:\t 0 Val Loss:\t 0.036249123253794605\n",
      "Epoch:\t 1 Val Loss:\t 0.036013899475587016\n",
      "Epoch:\t 2 Val Loss:\t 0.036017074417726176\n",
      "Epoch:\t 3 Val Loss:\t 0.03595052040223131\n",
      "Epoch:\t 4 Val Loss:\t 0.03592410263155065\n",
      "Epoch:\t 5 Val Loss:\t 0.03592944008827735\n",
      "Epoch:\t 6 Val Loss:\t 0.03592436055338373\n",
      "Epoch:\t 7 Val Loss:\t 0.03587887588957117\n",
      "Epoch:\t 8 Val Loss:\t 0.035872052519999705\n",
      "Epoch:\t 9 Val Loss:\t 0.035858046592070564\n",
      "Epoch:\t 10 Val Loss:\t 0.03585628110171559\n",
      "Epoch:\t 11 Val Loss:\t 0.03586539573543246\n",
      "Epoch:\t 12 Val Loss:\t 0.03583556493563516\n",
      "Epoch:\t 13 Val Loss:\t 0.03583643757368482\n",
      "Epoch:\t 14 Val Loss:\t 0.03587560443492918\n",
      "Epoch:\t 15 Val Loss:\t 0.03583476588775276\n",
      "Epoch:\t 16 Val Loss:\t 0.03583326889911507\n",
      "Epoch:\t 17 Val Loss:\t 0.03583797273833272\n",
      "Epoch:\t 18 Val Loss:\t 0.03583584767680409\n",
      "Epoch:\t 19 Val Loss:\t 0.035829110493780424\n",
      "Epoch:\t 20 Val Loss:\t 0.03583105332229313\n",
      "Epoch:\t 21 Val Loss:\t 0.03585314772330051\n",
      "Epoch:\t 22 Val Loss:\t 0.03582739971470575\n",
      "Epoch:\t 23 Val Loss:\t 0.03584932687049306\n",
      "Epoch:\t 24 Val Loss:\t 0.0358246330398866\n",
      "Epoch:\t 25 Val Loss:\t 0.03582894529343703\n",
      "Epoch:\t 26 Val Loss:\t 0.03582924086848496\n",
      "Epoch:\t 27 Val Loss:\t 0.03582094232577893\n",
      "Epoch:\t 28 Val Loss:\t 0.03582462770588033\n",
      "Epoch:\t 29 Val Loss:\t 0.03582453571481043\n",
      "Epoch:\t 30 Val Loss:\t 0.035834421128118236\n",
      "Epoch:\t 31 Val Loss:\t 0.035827895315735936\n",
      "Epoch:\t 32 Val Loss:\t 0.03582382786036159\n",
      "Epoch:\t 33 Val Loss:\t 0.03582283889138421\n",
      "Epoch:\t 34 Val Loss:\t 0.0358294062824276\n",
      "Epoch:\t 35 Val Loss:\t 0.035848670653287854\n",
      "Epoch:\t 36 Val Loss:\t 0.035817851428220346\n",
      "Epoch:\t 37 Val Loss:\t 0.03583693042630517\n",
      "Epoch:\t 38 Val Loss:\t 0.0358282532632566\n",
      "Epoch:\t 39 Val Loss:\t 0.03583043963673025\n",
      "Epoch:\t 40 Val Loss:\t 0.03582628310300296\n",
      "Epoch:\t 41 Val Loss:\t 0.035830243585486365\n",
      "Epoch:\t 42 Val Loss:\t 0.03583808071797814\n",
      "Epoch:\t 43 Val Loss:\t 0.03583814579554338\n",
      "Epoch:\t 44 Val Loss:\t 0.03584349351548967\n",
      "Epoch:\t 45 Val Loss:\t 0.03582699057805175\n"
     ]
    },
    {
     "name": "stderr",
     "output_type": "stream",
     "text": [
      "[I 2025-06-02 14:49:32,682] Trial 33 finished with value: 0.035817851428220346 and parameters: {'lr': 0.0001, 'weight_decay': 0.0001, 'scheduler_factor': 0.5, 'scheduler_patience': 1, 'batch_size': 64, 'dropout': 0.1, 'hidden_dims': 512}. Best is trial 32 with value: 0.035816897718055116.\n"
     ]
    },
    {
     "name": "stdout",
     "output_type": "stream",
     "text": [
      "Epoch:\t 46 Val Loss:\t 0.035841082731364916\n"
     ]
    },
    {
     "name": "stderr",
     "output_type": "stream",
     "text": [
      "[I 2025-06-02 14:49:36,772] Trial 34 pruned. \n"
     ]
    },
    {
     "name": "stdout",
     "output_type": "stream",
     "text": [
      "Epoch:\t 0 Val Loss:\t 0.036629575193406295\n",
      "Epoch:\t 0 Val Loss:\t 0.036275455772984286\n",
      "Epoch:\t 1 Val Loss:\t 0.0360789508577481\n",
      "Epoch:\t 2 Val Loss:\t 0.03592038162668036\n",
      "Epoch:\t 3 Val Loss:\t 0.035942534320863036\n",
      "Epoch:\t 4 Val Loss:\t 0.0359266449196179\n",
      "Epoch:\t 5 Val Loss:\t 0.035929821722908505\n",
      "Epoch:\t 6 Val Loss:\t 0.035952351696090214\n"
     ]
    },
    {
     "name": "stderr",
     "output_type": "stream",
     "text": [
      "[I 2025-06-02 14:50:09,347] Trial 35 pruned. \n"
     ]
    },
    {
     "name": "stdout",
     "output_type": "stream",
     "text": [
      "Epoch:\t 7 Val Loss:\t 0.03595397176569046\n"
     ]
    },
    {
     "name": "stderr",
     "output_type": "stream",
     "text": [
      "[I 2025-06-02 14:50:13,403] Trial 36 pruned. \n"
     ]
    },
    {
     "name": "stdout",
     "output_type": "stream",
     "text": [
      "Epoch:\t 0 Val Loss:\t 0.036516631149060265\n"
     ]
    },
    {
     "name": "stderr",
     "output_type": "stream",
     "text": [
      "[I 2025-06-02 14:50:17,402] Trial 37 pruned. \n"
     ]
    },
    {
     "name": "stdout",
     "output_type": "stream",
     "text": [
      "Epoch:\t 0 Val Loss:\t 0.03721308163886273\n",
      "Epoch:\t 0 Val Loss:\t 0.03609047929286575\n",
      "Epoch:\t 1 Val Loss:\t 0.0359113525820309\n",
      "Epoch:\t 2 Val Loss:\t 0.03588053597840865\n",
      "Epoch:\t 3 Val Loss:\t 0.035872302390784386\n",
      "Epoch:\t 4 Val Loss:\t 0.03587567551866616\n",
      "Epoch:\t 5 Val Loss:\t 0.03587220580957131\n",
      "Epoch:\t 6 Val Loss:\t 0.035876663203060676\n",
      "Epoch:\t 7 Val Loss:\t 0.035881691887891094\n",
      "Epoch:\t 8 Val Loss:\t 0.03587042627992062\n",
      "Epoch:\t 9 Val Loss:\t 0.03588758084442057\n",
      "Epoch:\t 10 Val Loss:\t 0.035838166017267546\n",
      "Epoch:\t 11 Val Loss:\t 0.035851692759940504\n",
      "Epoch:\t 12 Val Loss:\t 0.03585299829195859\n",
      "Epoch:\t 13 Val Loss:\t 0.03586655024681076\n",
      "Epoch:\t 14 Val Loss:\t 0.035848597978759306\n",
      "Epoch:\t 15 Val Loss:\t 0.0358726921675797\n",
      "Epoch:\t 16 Val Loss:\t 0.03584527508553593\n",
      "Epoch:\t 17 Val Loss:\t 0.03584414793726627\n",
      "Epoch:\t 18 Val Loss:\t 0.03583786370114699\n",
      "Epoch:\t 19 Val Loss:\t 0.03584823063884674\n",
      "Epoch:\t 20 Val Loss:\t 0.035837987376602536\n",
      "Epoch:\t 21 Val Loss:\t 0.03584147569721187\n",
      "Epoch:\t 22 Val Loss:\t 0.0358609817429194\n",
      "Epoch:\t 23 Val Loss:\t 0.03584193623659844\n",
      "Epoch:\t 24 Val Loss:\t 0.035833405563794524\n",
      "Epoch:\t 25 Val Loss:\t 0.03583754350094434\n",
      "Epoch:\t 26 Val Loss:\t 0.035840695794095205\n",
      "Epoch:\t 27 Val Loss:\t 0.03584623168601259\n",
      "Epoch:\t 28 Val Loss:\t 0.03583295348473042\n",
      "Epoch:\t 29 Val Loss:\t 0.035842051545834676\n",
      "Epoch:\t 30 Val Loss:\t 0.0358542692657103\n",
      "Epoch:\t 31 Val Loss:\t 0.03584247650974449\n",
      "Epoch:\t 32 Val Loss:\t 0.03583339094494282\n",
      "Epoch:\t 33 Val Loss:\t 0.03584284055007154\n",
      "Epoch:\t 34 Val Loss:\t 0.03583342322232777\n",
      "Epoch:\t 35 Val Loss:\t 0.03584065897735291\n",
      "Epoch:\t 36 Val Loss:\t 0.03582928321938947\n",
      "Epoch:\t 37 Val Loss:\t 0.035857409521124796\n",
      "Epoch:\t 38 Val Loss:\t 0.03584871916570899\n",
      "Epoch:\t 39 Val Loss:\t 0.03584028289032728\n",
      "Epoch:\t 40 Val Loss:\t 0.03585629026855864\n",
      "Epoch:\t 41 Val Loss:\t 0.03585694590919526\n",
      "Epoch:\t 42 Val Loss:\t 0.03583637842611255\n",
      "Epoch:\t 43 Val Loss:\t 0.03583327693970756\n",
      "Epoch:\t 44 Val Loss:\t 0.03584288953002109\n",
      "Epoch:\t 45 Val Loss:\t 0.0358354607634336\n"
     ]
    },
    {
     "name": "stderr",
     "output_type": "stream",
     "text": [
      "[I 2025-06-02 14:53:24,851] Trial 38 finished with value: 0.03582928321938947 and parameters: {'lr': 0.0001, 'weight_decay': 0.0001, 'scheduler_factor': 0.5, 'scheduler_patience': 5, 'batch_size': 64, 'dropout': 0.1, 'hidden_dims': 64}. Best is trial 32 with value: 0.035816897718055116.\n"
     ]
    },
    {
     "name": "stdout",
     "output_type": "stream",
     "text": [
      "Epoch:\t 46 Val Loss:\t 0.035832089949294675\n"
     ]
    },
    {
     "name": "stderr",
     "output_type": "stream",
     "text": [
      "[I 2025-06-02 14:53:28,824] Trial 39 pruned. \n"
     ]
    },
    {
     "name": "stdout",
     "output_type": "stream",
     "text": [
      "Epoch:\t 0 Val Loss:\t 0.037311927359416755\n"
     ]
    },
    {
     "name": "stderr",
     "output_type": "stream",
     "text": [
      "[I 2025-06-02 14:53:31,215] Trial 40 pruned. \n"
     ]
    },
    {
     "name": "stdout",
     "output_type": "stream",
     "text": [
      "Epoch:\t 0 Val Loss:\t 0.041770836787591796\n",
      "Epoch:\t 0 Val Loss:\t 0.03630327205110189\n",
      "Epoch:\t 1 Val Loss:\t 0.03614047833336719\n",
      "Epoch:\t 2 Val Loss:\t 0.03598961748822078\n",
      "Epoch:\t 3 Val Loss:\t 0.03593859348353521\n",
      "Epoch:\t 4 Val Loss:\t 0.035927156740747264\n",
      "Epoch:\t 5 Val Loss:\t 0.035940163503695985\n",
      "Epoch:\t 6 Val Loss:\t 0.03597842521051359\n"
     ]
    },
    {
     "name": "stderr",
     "output_type": "stream",
     "text": [
      "[I 2025-06-02 14:54:04,033] Trial 41 pruned. \n"
     ]
    },
    {
     "name": "stdout",
     "output_type": "stream",
     "text": [
      "Epoch:\t 7 Val Loss:\t 0.0359027321691645\n"
     ]
    },
    {
     "name": "stderr",
     "output_type": "stream",
     "text": [
      "[I 2025-06-02 14:54:08,032] Trial 42 pruned. \n"
     ]
    },
    {
     "name": "stdout",
     "output_type": "stream",
     "text": [
      "Epoch:\t 0 Val Loss:\t 0.053102430204152104\n",
      "Epoch:\t 0 Val Loss:\t 0.03605539038996793\n",
      "Epoch:\t 1 Val Loss:\t 0.03598437983892743\n",
      "Epoch:\t 2 Val Loss:\t 0.035965449967727804\n",
      "Epoch:\t 3 Val Loss:\t 0.035963048783760346\n",
      "Epoch:\t 4 Val Loss:\t 0.035992145419279024\n",
      "Epoch:\t 5 Val Loss:\t 0.03592605345127303\n",
      "Epoch:\t 6 Val Loss:\t 0.035936107895215945\n"
     ]
    },
    {
     "name": "stderr",
     "output_type": "stream",
     "text": [
      "[I 2025-06-02 14:56:39,834] Trial 43 pruned. \n"
     ]
    },
    {
     "name": "stdout",
     "output_type": "stream",
     "text": [
      "Epoch:\t 7 Val Loss:\t 0.03590064048819338\n"
     ]
    },
    {
     "name": "stderr",
     "output_type": "stream",
     "text": [
      "[I 2025-06-02 14:56:43,810] Trial 44 pruned. \n"
     ]
    },
    {
     "name": "stdout",
     "output_type": "stream",
     "text": [
      "Epoch:\t 0 Val Loss:\t 0.039289914400174125\n",
      "Epoch:\t 0 Val Loss:\t 0.03621094295363365\n",
      "Epoch:\t 1 Val Loss:\t 0.036091397335546546\n",
      "Epoch:\t 2 Val Loss:\t 0.03611934933075935\n",
      "Epoch:\t 3 Val Loss:\t 0.036005244143367005\n",
      "Epoch:\t 4 Val Loss:\t 0.035962861264498235\n",
      "Epoch:\t 5 Val Loss:\t 0.0359140635613071\n",
      "Epoch:\t 6 Val Loss:\t 0.03595317773413314\n",
      "Epoch:\t 7 Val Loss:\t 0.035888475379390855\n",
      "Epoch:\t 8 Val Loss:\t 0.03593349508809622\n",
      "Epoch:\t 9 Val Loss:\t 0.03592392900303891\n"
     ]
    },
    {
     "name": "stderr",
     "output_type": "stream",
     "text": [
      "[I 2025-06-02 14:57:14,510] Trial 45 pruned. \n"
     ]
    },
    {
     "name": "stdout",
     "output_type": "stream",
     "text": [
      "Epoch:\t 10 Val Loss:\t 0.035872882354651754\n"
     ]
    },
    {
     "name": "stderr",
     "output_type": "stream",
     "text": [
      "[I 2025-06-02 14:57:16,937] Trial 46 pruned. \n"
     ]
    },
    {
     "name": "stdout",
     "output_type": "stream",
     "text": [
      "Epoch:\t 0 Val Loss:\t 0.03681955497316609\n"
     ]
    },
    {
     "name": "stderr",
     "output_type": "stream",
     "text": [
      "[I 2025-06-02 14:57:21,137] Trial 47 pruned. \n"
     ]
    },
    {
     "name": "stdout",
     "output_type": "stream",
     "text": [
      "Epoch:\t 0 Val Loss:\t 0.10056545604513278\n",
      "Epoch:\t 0 Val Loss:\t 0.03613443615747005\n",
      "Epoch:\t 1 Val Loss:\t 0.03634778185991784\n",
      "Epoch:\t 2 Val Loss:\t 0.037269225515837466\n",
      "Epoch:\t 3 Val Loss:\t 0.03756340081656371\n"
     ]
    },
    {
     "name": "stderr",
     "output_type": "stream",
     "text": [
      "[I 2025-06-02 14:57:42,571] Trial 48 pruned. \n"
     ]
    },
    {
     "name": "stdout",
     "output_type": "stream",
     "text": [
      "Epoch:\t 4 Val Loss:\t 0.03756808874637199\n"
     ]
    },
    {
     "name": "stderr",
     "output_type": "stream",
     "text": [
      "[I 2025-06-02 14:58:02,252] Trial 49 pruned. \n"
     ]
    },
    {
     "name": "stdout",
     "output_type": "stream",
     "text": [
      "Epoch:\t 0 Val Loss:\t 0.037482318153970226\n",
      "Training model with best parameters on train+validation ...\n"
     ]
    },
    {
     "name": "stderr",
     "output_type": "stream",
     "text": [
      "100%|███████████████████████████████████████████████████████████████████████████████████████████████████████████████████████████████████████████████████████████████████| 401917/401917 [04:08<00:00, 1617.23it/s]\n",
      "100%|███████████████████████████████████████████████████████████████████████████████████████████████████████████████████████████████████████████████████████████████████| 401917/401917 [01:12<00:00, 5507.28it/s]\n"
     ]
    },
    {
     "name": "stdout",
     "output_type": "stream",
     "text": [
      "Getting test set predictions and saving results ...\n"
     ]
    },
    {
     "name": "stderr",
     "output_type": "stream",
     "text": [
      "100%|███████████████████████████████████████████████████████████████████████████████████████████████████████████████████████████████████████████████████████████████████████| 1223/1223 [00:01<00:00, 1145.59it/s]\n"
     ]
    }
   ],
   "source": [
    "train_different_fs(\n",
    "        adata_path=\"./data/feature_selection/sciplex_seurat_v3.h5ad\",\n",
    "        run_name=\"mlp_seuratv3_fs\",\n",
    "        res_savename=\"./results/feature_selection/mlp_seuratv3_fs_res.pkl\",\n",
    "    )"
   ]
  },
  {
   "cell_type": "code",
   "execution_count": 8,
   "id": "ff3b90d8-74ce-43d0-9ecd-520143d3b703",
   "metadata": {},
   "outputs": [
    {
     "name": "stdout",
     "output_type": "stream",
     "text": [
      "Loading Datasets ...\n"
     ]
    },
    {
     "name": "stderr",
     "output_type": "stream",
     "text": [
      "100%|███████████████████████████████████████████████████████████████████████████████████████████████████████████████████████████████████████████████████████████████████| 401917/401917 [03:13<00:00, 2081.29it/s]\n",
      "100%|███████████████████████████████████████████████████████████████████████████████████████████████████████████████████████████████████████████████████████████████████| 401917/401917 [01:15<00:00, 5295.60it/s]\n",
      "[I 2025-06-02 15:09:34,325] A new study created in RDB with name: mlp_scellranger_fs\n"
     ]
    },
    {
     "name": "stdout",
     "output_type": "stream",
     "text": [
      "Optimizing Hyperparameters with Optuna ...\n",
      "Epoch:\t 0 Val Loss:\t 0.030697918015873744\n",
      "Epoch:\t 1 Val Loss:\t 0.03042708518420288\n",
      "Epoch:\t 2 Val Loss:\t 0.030383729357608334\n",
      "Epoch:\t 3 Val Loss:\t 0.030391768298162248\n",
      "Epoch:\t 4 Val Loss:\t 0.030389608140430135\n",
      "Epoch:\t 5 Val Loss:\t 0.030397453415907456\n",
      "Epoch:\t 6 Val Loss:\t 0.03041107335794187\n",
      "Epoch:\t 7 Val Loss:\t 0.030395776944193906\n",
      "Epoch:\t 8 Val Loss:\t 0.030399193344469777\n",
      "Epoch:\t 9 Val Loss:\t 0.030402511714366014\n",
      "Epoch:\t 10 Val Loss:\t 0.03041653048568116\n",
      "Epoch:\t 11 Val Loss:\t 0.03037772769395837\n",
      "Epoch:\t 12 Val Loss:\t 0.03040857402633928\n",
      "Epoch:\t 13 Val Loss:\t 0.030427439368231023\n",
      "Epoch:\t 14 Val Loss:\t 0.030390287346704927\n",
      "Epoch:\t 15 Val Loss:\t 0.03039757981000539\n",
      "Epoch:\t 16 Val Loss:\t 0.030413638524158685\n",
      "Epoch:\t 17 Val Loss:\t 0.030424738660424888\n",
      "Epoch:\t 18 Val Loss:\t 0.03041166059359281\n",
      "Epoch:\t 19 Val Loss:\t 0.030403225058185792\n",
      "Epoch:\t 20 Val Loss:\t 0.0304246176601591\n"
     ]
    },
    {
     "name": "stderr",
     "output_type": "stream",
     "text": [
      "[I 2025-06-02 15:11:37,819] Trial 0 finished with value: 0.03037772769395837 and parameters: {'lr': 0.001, 'weight_decay': 1e-06, 'scheduler_factor': 0.8, 'scheduler_patience': 10, 'batch_size': 32, 'dropout': 0.1, 'hidden_dims': 256}. Best is trial 0 with value: 0.03037772769395837.\n"
     ]
    },
    {
     "name": "stdout",
     "output_type": "stream",
     "text": [
      "Epoch:\t 21 Val Loss:\t 0.030391297372196147\n",
      "Epoch:\t 0 Val Loss:\t 0.11618413780950657\n",
      "Epoch:\t 1 Val Loss:\t 0.10543279194084394\n",
      "Epoch:\t 2 Val Loss:\t 0.09659436603834391\n",
      "Epoch:\t 3 Val Loss:\t 0.08996219873140862\n",
      "Epoch:\t 4 Val Loss:\t 0.0840204521726182\n",
      "Epoch:\t 5 Val Loss:\t 0.07911689869364742\n",
      "Epoch:\t 6 Val Loss:\t 0.0753408066233638\n",
      "Epoch:\t 7 Val Loss:\t 0.07164265241749417\n",
      "Epoch:\t 8 Val Loss:\t 0.06859032098215875\n",
      "Epoch:\t 9 Val Loss:\t 0.0662837542617436\n",
      "Epoch:\t 10 Val Loss:\t 0.06408567236694493\n",
      "Epoch:\t 11 Val Loss:\t 0.06252237084737929\n",
      "Epoch:\t 12 Val Loss:\t 0.06079832339880934\n",
      "Epoch:\t 13 Val Loss:\t 0.059368392458586834\n",
      "Epoch:\t 14 Val Loss:\t 0.05802738519199791\n",
      "Epoch:\t 15 Val Loss:\t 0.05714989369705176\n",
      "Epoch:\t 16 Val Loss:\t 0.05576196074533692\n",
      "Epoch:\t 17 Val Loss:\t 0.055204738051274196\n",
      "Epoch:\t 18 Val Loss:\t 0.053973813292681215\n",
      "Epoch:\t 19 Val Loss:\t 0.053649971183760754\n",
      "Epoch:\t 20 Val Loss:\t 0.05286157785217095\n",
      "Epoch:\t 21 Val Loss:\t 0.05230609799504663\n",
      "Epoch:\t 22 Val Loss:\t 0.05159328425141393\n",
      "Epoch:\t 23 Val Loss:\t 0.05106729901488571\n",
      "Epoch:\t 24 Val Loss:\t 0.05062178016858852\n",
      "Epoch:\t 25 Val Loss:\t 0.0501717740963318\n",
      "Epoch:\t 26 Val Loss:\t 0.04971316492730015\n",
      "Epoch:\t 27 Val Loss:\t 0.049387690206911784\n",
      "Epoch:\t 28 Val Loss:\t 0.048961643201457725\n",
      "Epoch:\t 29 Val Loss:\t 0.04852626057060202\n",
      "Epoch:\t 30 Val Loss:\t 0.047963945428658145\n",
      "Epoch:\t 31 Val Loss:\t 0.047818699761793926\n",
      "Epoch:\t 32 Val Loss:\t 0.04741868393501668\n",
      "Epoch:\t 33 Val Loss:\t 0.046999717796059666\n",
      "Epoch:\t 34 Val Loss:\t 0.046719359958670145\n",
      "Epoch:\t 35 Val Loss:\t 0.04631047216738152\n",
      "Epoch:\t 36 Val Loss:\t 0.045808961261602846\n",
      "Epoch:\t 37 Val Loss:\t 0.045434533914856585\n",
      "Epoch:\t 38 Val Loss:\t 0.04502046659253418\n",
      "Epoch:\t 39 Val Loss:\t 0.044713158280232326\n",
      "Epoch:\t 40 Val Loss:\t 0.04414470959754235\n",
      "Epoch:\t 41 Val Loss:\t 0.043828469392666866\n",
      "Epoch:\t 42 Val Loss:\t 0.04327616733992981\n",
      "Epoch:\t 43 Val Loss:\t 0.04271655055391827\n",
      "Epoch:\t 44 Val Loss:\t 0.04239675608670213\n",
      "Epoch:\t 45 Val Loss:\t 0.041875353628032845\n",
      "Epoch:\t 46 Val Loss:\t 0.04134589083900023\n",
      "Epoch:\t 47 Val Loss:\t 0.040959942582815025\n",
      "Epoch:\t 48 Val Loss:\t 0.04047939991069377\n",
      "Epoch:\t 49 Val Loss:\t 0.040017196722927584\n",
      "Epoch:\t 50 Val Loss:\t 0.039557833356297666\n",
      "Epoch:\t 51 Val Loss:\t 0.03917891631603624\n",
      "Epoch:\t 52 Val Loss:\t 0.03868703023078357\n",
      "Epoch:\t 53 Val Loss:\t 0.038327920487168515\n",
      "Epoch:\t 54 Val Loss:\t 0.037833671621571016\n",
      "Epoch:\t 55 Val Loss:\t 0.03753690165242965\n",
      "Epoch:\t 56 Val Loss:\t 0.03720118907966031\n",
      "Epoch:\t 57 Val Loss:\t 0.03680129084508519\n",
      "Epoch:\t 58 Val Loss:\t 0.03645219142366069\n",
      "Epoch:\t 59 Val Loss:\t 0.03618875748426968\n",
      "Epoch:\t 60 Val Loss:\t 0.035840358980407286\n",
      "Epoch:\t 61 Val Loss:\t 0.035559116763892284\n",
      "Epoch:\t 62 Val Loss:\t 0.03530040428856945\n",
      "Epoch:\t 63 Val Loss:\t 0.03502928496748688\n",
      "Epoch:\t 64 Val Loss:\t 0.03477167804093606\n",
      "Epoch:\t 65 Val Loss:\t 0.03456730256605762\n",
      "Epoch:\t 66 Val Loss:\t 0.03434496849080566\n",
      "Epoch:\t 67 Val Loss:\t 0.03417622540565357\n",
      "Epoch:\t 68 Val Loss:\t 0.033977986178645364\n",
      "Epoch:\t 69 Val Loss:\t 0.033829949317062784\n",
      "Epoch:\t 70 Val Loss:\t 0.03363802551720112\n",
      "Epoch:\t 71 Val Loss:\t 0.03349419631111852\n",
      "Epoch:\t 72 Val Loss:\t 0.033351393482405275\n",
      "Epoch:\t 73 Val Loss:\t 0.033211666132380344\n",
      "Epoch:\t 74 Val Loss:\t 0.033065867379691055\n",
      "Epoch:\t 75 Val Loss:\t 0.03294016862246193\n",
      "Epoch:\t 76 Val Loss:\t 0.03284151154986532\n",
      "Epoch:\t 77 Val Loss:\t 0.03272861985555607\n",
      "Epoch:\t 78 Val Loss:\t 0.032648040365032445\n",
      "Epoch:\t 79 Val Loss:\t 0.03253377045106466\n",
      "Epoch:\t 80 Val Loss:\t 0.032457479680034894\n",
      "Epoch:\t 81 Val Loss:\t 0.03238403348557627\n",
      "Epoch:\t 82 Val Loss:\t 0.03230518584178575\n",
      "Epoch:\t 83 Val Loss:\t 0.03224575315329615\n",
      "Epoch:\t 84 Val Loss:\t 0.03216317896746171\n",
      "Epoch:\t 85 Val Loss:\t 0.03210981793318339\n",
      "Epoch:\t 86 Val Loss:\t 0.03205217509695188\n",
      "Epoch:\t 87 Val Loss:\t 0.03200265683736832\n",
      "Epoch:\t 88 Val Loss:\t 0.03193196856156231\n",
      "Epoch:\t 89 Val Loss:\t 0.0319066424988857\n",
      "Epoch:\t 90 Val Loss:\t 0.03183484048705392\n",
      "Epoch:\t 91 Val Loss:\t 0.03178519395051278\n",
      "Epoch:\t 92 Val Loss:\t 0.031747207560627405\n",
      "Epoch:\t 93 Val Loss:\t 0.031723920776960936\n",
      "Epoch:\t 94 Val Loss:\t 0.03168608476422799\n",
      "Epoch:\t 95 Val Loss:\t 0.03165179824043317\n",
      "Epoch:\t 96 Val Loss:\t 0.03162551839563433\n",
      "Epoch:\t 97 Val Loss:\t 0.03159730884447167\n",
      "Epoch:\t 98 Val Loss:\t 0.031572429636954495\n"
     ]
    },
    {
     "name": "stderr",
     "output_type": "stream",
     "text": [
      "[I 2025-06-02 15:15:46,833] Trial 1 finished with value: 0.03152057953130969 and parameters: {'lr': 1e-06, 'weight_decay': 0.001, 'scheduler_factor': 0.3, 'scheduler_patience': 1, 'batch_size': 256, 'dropout': 0.2, 'hidden_dims': 64}. Best is trial 0 with value: 0.03037772769395837.\n"
     ]
    },
    {
     "name": "stdout",
     "output_type": "stream",
     "text": [
      "Epoch:\t 99 Val Loss:\t 0.03152057953130969\n",
      "Epoch:\t 0 Val Loss:\t 0.0322330634536431\n",
      "Epoch:\t 1 Val Loss:\t 0.031398109544200685\n",
      "Epoch:\t 2 Val Loss:\t 0.03110624170011054\n",
      "Epoch:\t 3 Val Loss:\t 0.0310025457210691\n",
      "Epoch:\t 4 Val Loss:\t 0.03094458779642193\n",
      "Epoch:\t 5 Val Loss:\t 0.030852231368544918\n",
      "Epoch:\t 6 Val Loss:\t 0.03082511252666721\n",
      "Epoch:\t 7 Val Loss:\t 0.030797539134809353\n",
      "Epoch:\t 8 Val Loss:\t 0.030758542721884698\n",
      "Epoch:\t 9 Val Loss:\t 0.03069546128554332\n",
      "Epoch:\t 10 Val Loss:\t 0.030613836268251537\n",
      "Epoch:\t 11 Val Loss:\t 0.030600630537726388\n",
      "Epoch:\t 12 Val Loss:\t 0.03058382707021562\n",
      "Epoch:\t 13 Val Loss:\t 0.030539465846840544\n",
      "Epoch:\t 14 Val Loss:\t 0.030506516817230916\n",
      "Epoch:\t 15 Val Loss:\t 0.03048356840089546\n",
      "Epoch:\t 16 Val Loss:\t 0.03042722905554404\n",
      "Epoch:\t 17 Val Loss:\t 0.030406708101176756\n",
      "Epoch:\t 18 Val Loss:\t 0.03036596321474154\n",
      "Epoch:\t 19 Val Loss:\t 0.030366741349960563\n",
      "Epoch:\t 20 Val Loss:\t 0.030349750879557106\n",
      "Epoch:\t 21 Val Loss:\t 0.030323942417498702\n",
      "Epoch:\t 22 Val Loss:\t 0.03029653704306288\n",
      "Epoch:\t 23 Val Loss:\t 0.030310437220209013\n",
      "Epoch:\t 24 Val Loss:\t 0.030293486839967555\n",
      "Epoch:\t 25 Val Loss:\t 0.030302235877178302\n",
      "Epoch:\t 26 Val Loss:\t 0.030290919047970852\n",
      "Epoch:\t 27 Val Loss:\t 0.030265284862844757\n",
      "Epoch:\t 28 Val Loss:\t 0.030270664163189097\n",
      "Epoch:\t 29 Val Loss:\t 0.030257511209600244\n",
      "Epoch:\t 30 Val Loss:\t 0.030240824800249665\n",
      "Epoch:\t 31 Val Loss:\t 0.03024426793264969\n",
      "Epoch:\t 32 Val Loss:\t 0.030244165734412007\n",
      "Epoch:\t 33 Val Loss:\t 0.03024191740229263\n",
      "Epoch:\t 34 Val Loss:\t 0.03025787913482513\n",
      "Epoch:\t 35 Val Loss:\t 0.03024484881445649\n",
      "Epoch:\t 36 Val Loss:\t 0.030239174423500093\n",
      "Epoch:\t 37 Val Loss:\t 0.03025087686186532\n",
      "Epoch:\t 38 Val Loss:\t 0.03023870375068596\n",
      "Epoch:\t 39 Val Loss:\t 0.03022757766496273\n",
      "Epoch:\t 40 Val Loss:\t 0.030235144615164383\n",
      "Epoch:\t 41 Val Loss:\t 0.030228520651554874\n",
      "Epoch:\t 42 Val Loss:\t 0.03023976706672983\n",
      "Epoch:\t 43 Val Loss:\t 0.030231678932106546\n",
      "Epoch:\t 44 Val Loss:\t 0.030233612723694826\n",
      "Epoch:\t 45 Val Loss:\t 0.03022814634944807\n",
      "Epoch:\t 46 Val Loss:\t 0.03023252145621789\n",
      "Epoch:\t 47 Val Loss:\t 0.030238316974156104\n",
      "Epoch:\t 48 Val Loss:\t 0.030226375887879887\n",
      "Epoch:\t 49 Val Loss:\t 0.030211894485209025\n",
      "Epoch:\t 50 Val Loss:\t 0.03022900772299838\n",
      "Epoch:\t 51 Val Loss:\t 0.030231733326681675\n",
      "Epoch:\t 52 Val Loss:\t 0.030233862908548473\n",
      "Epoch:\t 53 Val Loss:\t 0.030225634413480796\n",
      "Epoch:\t 54 Val Loss:\t 0.030221420078439646\n",
      "Epoch:\t 55 Val Loss:\t 0.030224794956333553\n",
      "Epoch:\t 56 Val Loss:\t 0.03022715633433141\n",
      "Epoch:\t 57 Val Loss:\t 0.030235094910043798\n",
      "Epoch:\t 58 Val Loss:\t 0.03023074443060759\n"
     ]
    },
    {
     "name": "stderr",
     "output_type": "stream",
     "text": [
      "[I 2025-06-02 15:36:47,292] Trial 2 finished with value: 0.030211894485209025 and parameters: {'lr': 1e-05, 'weight_decay': 1e-05, 'scheduler_factor': 0.1, 'scheduler_patience': 20, 'batch_size': 16, 'dropout': 0.1, 'hidden_dims': 1024}. Best is trial 2 with value: 0.030211894485209025.\n"
     ]
    },
    {
     "name": "stdout",
     "output_type": "stream",
     "text": [
      "Epoch:\t 59 Val Loss:\t 0.030228414923397506\n",
      "Epoch:\t 0 Val Loss:\t 0.03227997670202785\n",
      "Epoch:\t 1 Val Loss:\t 0.03148481854170627\n",
      "Epoch:\t 2 Val Loss:\t 0.031158811565204197\n",
      "Epoch:\t 3 Val Loss:\t 0.030965844524173024\n",
      "Epoch:\t 4 Val Loss:\t 0.03086324521748898\n",
      "Epoch:\t 5 Val Loss:\t 0.030826710151111738\n",
      "Epoch:\t 6 Val Loss:\t 0.0307930510043665\n",
      "Epoch:\t 7 Val Loss:\t 0.030744340406229562\n",
      "Epoch:\t 8 Val Loss:\t 0.030705556984407894\n",
      "Epoch:\t 9 Val Loss:\t 0.03070969540163788\n",
      "Epoch:\t 10 Val Loss:\t 0.030685930435033152\n",
      "Epoch:\t 11 Val Loss:\t 0.030687540638956748\n",
      "Epoch:\t 12 Val Loss:\t 0.030629662769611314\n",
      "Epoch:\t 13 Val Loss:\t 0.03060364043308365\n",
      "Epoch:\t 14 Val Loss:\t 0.030574839036710943\n",
      "Epoch:\t 15 Val Loss:\t 0.030580951854813507\n",
      "Epoch:\t 16 Val Loss:\t 0.030567558361185656\n",
      "Epoch:\t 17 Val Loss:\t 0.030544989763797704\n",
      "Epoch:\t 18 Val Loss:\t 0.030509226880273462\n",
      "Epoch:\t 19 Val Loss:\t 0.03052299349389461\n",
      "Epoch:\t 20 Val Loss:\t 0.03049049322200225\n",
      "Epoch:\t 21 Val Loss:\t 0.030474949556833348\n",
      "Epoch:\t 22 Val Loss:\t 0.03049150571817477\n",
      "Epoch:\t 23 Val Loss:\t 0.030476941270490634\n",
      "Epoch:\t 24 Val Loss:\t 0.030479478978398353\n",
      "Epoch:\t 25 Val Loss:\t 0.030462159814570188\n",
      "Epoch:\t 26 Val Loss:\t 0.030448580466575087\n",
      "Epoch:\t 27 Val Loss:\t 0.030439624868884185\n",
      "Epoch:\t 28 Val Loss:\t 0.03046263183128037\n",
      "Epoch:\t 29 Val Loss:\t 0.030466769329130207\n",
      "Epoch:\t 30 Val Loss:\t 0.03045006095187485\n",
      "Epoch:\t 31 Val Loss:\t 0.030446575572398854\n",
      "Epoch:\t 32 Val Loss:\t 0.03045036516426065\n",
      "Epoch:\t 33 Val Loss:\t 0.03044058219832914\n",
      "Epoch:\t 34 Val Loss:\t 0.030433415363413423\n",
      "Epoch:\t 35 Val Loss:\t 0.030439860372765106\n",
      "Epoch:\t 36 Val Loss:\t 0.030463532285857742\n",
      "Epoch:\t 37 Val Loss:\t 0.03043548503143859\n",
      "Epoch:\t 38 Val Loss:\t 0.030428749289153883\n",
      "Epoch:\t 39 Val Loss:\t 0.03044519512394439\n",
      "Epoch:\t 40 Val Loss:\t 0.03045942759329046\n",
      "Epoch:\t 41 Val Loss:\t 0.030459662564054052\n",
      "Epoch:\t 42 Val Loss:\t 0.03045890755049005\n",
      "Epoch:\t 43 Val Loss:\t 0.030453341547119858\n",
      "Epoch:\t 44 Val Loss:\t 0.030428847866037688\n",
      "Epoch:\t 45 Val Loss:\t 0.03044400008724104\n",
      "Epoch:\t 46 Val Loss:\t 0.03044776250896563\n",
      "Epoch:\t 47 Val Loss:\t 0.03043683513288411\n"
     ]
    },
    {
     "name": "stderr",
     "output_type": "stream",
     "text": [
      "[I 2025-06-02 15:51:20,679] Trial 3 finished with value: 0.030428749289153883 and parameters: {'lr': 1e-05, 'weight_decay': 1e-06, 'scheduler_factor': 0.8, 'scheduler_patience': 1, 'batch_size': 16, 'dropout': 0.1, 'hidden_dims': 128}. Best is trial 2 with value: 0.030211894485209025.\n"
     ]
    },
    {
     "name": "stdout",
     "output_type": "stream",
     "text": [
      "Epoch:\t 48 Val Loss:\t 0.030449181980787634\n",
      "Epoch:\t 0 Val Loss:\t 0.03065370250293132\n",
      "Epoch:\t 1 Val Loss:\t 0.030549621919010197\n",
      "Epoch:\t 2 Val Loss:\t 0.031376791944683985\n",
      "Epoch:\t 3 Val Loss:\t 0.03196499380488441\n",
      "Epoch:\t 4 Val Loss:\t 0.03207060752052637\n",
      "Epoch:\t 5 Val Loss:\t 0.03213705815846861\n",
      "Epoch:\t 6 Val Loss:\t 0.03206457100724973\n",
      "Epoch:\t 7 Val Loss:\t 0.03217148810547404\n",
      "Epoch:\t 8 Val Loss:\t 0.03199797441978262\n",
      "Epoch:\t 9 Val Loss:\t 0.03202239002766567\n",
      "Epoch:\t 10 Val Loss:\t 0.03201539487650419\n"
     ]
    },
    {
     "name": "stderr",
     "output_type": "stream",
     "text": [
      "[I 2025-06-02 15:52:14,501] Trial 4 finished with value: 0.030549621919010197 and parameters: {'lr': 0.0001, 'weight_decay': 0.001, 'scheduler_factor': 0.5, 'scheduler_patience': 10, 'batch_size': 64, 'dropout': 0.2, 'hidden_dims': 1024}. Best is trial 2 with value: 0.030211894485209025.\n"
     ]
    },
    {
     "name": "stdout",
     "output_type": "stream",
     "text": [
      "Epoch:\t 11 Val Loss:\t 0.031985557880835146\n",
      "Epoch:\t 0 Val Loss:\t 0.0308059630166871\n",
      "Epoch:\t 1 Val Loss:\t 0.030388617912049845\n",
      "Epoch:\t 2 Val Loss:\t 0.03039380277348293\n",
      "Epoch:\t 3 Val Loss:\t 0.03034122543367542\n",
      "Epoch:\t 4 Val Loss:\t 0.030350618938828587\n",
      "Epoch:\t 5 Val Loss:\t 0.030282505162036302\n",
      "Epoch:\t 6 Val Loss:\t 0.03025877581148669\n",
      "Epoch:\t 7 Val Loss:\t 0.030285446955507975\n",
      "Epoch:\t 8 Val Loss:\t 0.03025944656138443\n",
      "Epoch:\t 9 Val Loss:\t 0.030207209600513006\n",
      "Epoch:\t 10 Val Loss:\t 0.030203965938742906\n",
      "Epoch:\t 11 Val Loss:\t 0.030242059451686606\n",
      "Epoch:\t 12 Val Loss:\t 0.03021256889177672\n",
      "Epoch:\t 13 Val Loss:\t 0.030207665325696444\n",
      "Epoch:\t 14 Val Loss:\t 0.030192647596455846\n",
      "Epoch:\t 15 Val Loss:\t 0.030206626969901694\n",
      "Epoch:\t 16 Val Loss:\t 0.030186082323312376\n",
      "Epoch:\t 17 Val Loss:\t 0.030198491498875848\n",
      "Epoch:\t 18 Val Loss:\t 0.030202942921321876\n",
      "Epoch:\t 19 Val Loss:\t 0.030200177270595666\n",
      "Epoch:\t 20 Val Loss:\t 0.030191222625002984\n",
      "Epoch:\t 21 Val Loss:\t 0.030196890833868475\n",
      "Epoch:\t 22 Val Loss:\t 0.030192364276749144\n",
      "Epoch:\t 23 Val Loss:\t 0.030199976290585143\n",
      "Epoch:\t 24 Val Loss:\t 0.030194163885434725\n",
      "Epoch:\t 25 Val Loss:\t 0.03019331686102884\n"
     ]
    },
    {
     "name": "stderr",
     "output_type": "stream",
     "text": [
      "[I 2025-06-02 15:53:24,504] Trial 5 finished with value: 0.030186082323312376 and parameters: {'lr': 0.0001, 'weight_decay': 0.0001, 'scheduler_factor': 0.3, 'scheduler_patience': 1, 'batch_size': 256, 'dropout': 0.05, 'hidden_dims': 512}. Best is trial 5 with value: 0.030186082323312376.\n"
     ]
    },
    {
     "name": "stdout",
     "output_type": "stream",
     "text": [
      "Epoch:\t 26 Val Loss:\t 0.030197705486579723\n",
      "Epoch:\t 0 Val Loss:\t 0.030537858527525063\n",
      "Epoch:\t 1 Val Loss:\t 0.030404228022340028\n",
      "Epoch:\t 2 Val Loss:\t 0.03031699984091846\n",
      "Epoch:\t 3 Val Loss:\t 0.03030010963224138\n",
      "Epoch:\t 4 Val Loss:\t 0.030292839332935896\n",
      "Epoch:\t 5 Val Loss:\t 0.03031094995150612\n",
      "Epoch:\t 6 Val Loss:\t 0.03028251651758358\n",
      "Epoch:\t 7 Val Loss:\t 0.03026850508987137\n",
      "Epoch:\t 8 Val Loss:\t 0.030281984238283426\n",
      "Epoch:\t 9 Val Loss:\t 0.03028297323697633\n",
      "Epoch:\t 10 Val Loss:\t 0.030267876216548816\n",
      "Epoch:\t 11 Val Loss:\t 0.030297584214825722\n",
      "Epoch:\t 12 Val Loss:\t 0.030286946103360107\n",
      "Epoch:\t 13 Val Loss:\t 0.030281507461017352\n",
      "Epoch:\t 14 Val Loss:\t 0.030271295829409572\n",
      "Epoch:\t 15 Val Loss:\t 0.030310040657255812\n",
      "Epoch:\t 16 Val Loss:\t 0.030265424795856047\n",
      "Epoch:\t 17 Val Loss:\t 0.030284093303599924\n",
      "Epoch:\t 18 Val Loss:\t 0.030248970308391993\n",
      "Epoch:\t 19 Val Loss:\t 0.03026588376120356\n",
      "Epoch:\t 20 Val Loss:\t 0.030267392833181132\n",
      "Epoch:\t 21 Val Loss:\t 0.03027963198697452\n",
      "Epoch:\t 22 Val Loss:\t 0.030272585570428917\n",
      "Epoch:\t 23 Val Loss:\t 0.030265080290352415\n",
      "Epoch:\t 24 Val Loss:\t 0.030275107927356885\n",
      "Epoch:\t 25 Val Loss:\t 0.03027133761614657\n",
      "Epoch:\t 26 Val Loss:\t 0.030242206510815207\n",
      "Epoch:\t 27 Val Loss:\t 0.030267799422863596\n",
      "Epoch:\t 28 Val Loss:\t 0.03026161457852152\n",
      "Epoch:\t 29 Val Loss:\t 0.030249650395472335\n",
      "Epoch:\t 30 Val Loss:\t 0.03025147960284707\n",
      "Epoch:\t 31 Val Loss:\t 0.030270344586713523\n",
      "Epoch:\t 32 Val Loss:\t 0.03026772119176733\n",
      "Epoch:\t 33 Val Loss:\t 0.030262674980608213\n",
      "Epoch:\t 34 Val Loss:\t 0.030284613927892168\n",
      "Epoch:\t 35 Val Loss:\t 0.030261952855243943\n"
     ]
    },
    {
     "name": "stderr",
     "output_type": "stream",
     "text": [
      "[I 2025-06-02 15:55:02,337] Trial 6 finished with value: 0.030242206510815207 and parameters: {'lr': 0.001, 'weight_decay': 1e-05, 'scheduler_factor': 0.3, 'scheduler_patience': 10, 'batch_size': 256, 'dropout': 0.15, 'hidden_dims': 256}. Best is trial 5 with value: 0.030186082323312376.\n"
     ]
    },
    {
     "name": "stdout",
     "output_type": "stream",
     "text": [
      "Epoch:\t 36 Val Loss:\t 0.030267364258647348\n",
      "Epoch:\t 0 Val Loss:\t 0.030544054752774837\n",
      "Epoch:\t 1 Val Loss:\t 0.03039357037452404\n",
      "Epoch:\t 2 Val Loss:\t 0.030349374122403405\n",
      "Epoch:\t 3 Val Loss:\t 0.03032714408638485\n",
      "Epoch:\t 4 Val Loss:\t 0.030326436938984052\n",
      "Epoch:\t 5 Val Loss:\t 0.03030817373618364\n",
      "Epoch:\t 6 Val Loss:\t 0.03032873012424472\n",
      "Epoch:\t 7 Val Loss:\t 0.030323036789391817\n",
      "Epoch:\t 8 Val Loss:\t 0.03032163835547709\n",
      "Epoch:\t 9 Val Loss:\t 0.030293608395260182\n",
      "Epoch:\t 10 Val Loss:\t 0.03032413049396217\n",
      "Epoch:\t 11 Val Loss:\t 0.030291286107290233\n",
      "Epoch:\t 12 Val Loss:\t 0.0303016294565285\n",
      "Epoch:\t 13 Val Loss:\t 0.0302902694767637\n",
      "Epoch:\t 14 Val Loss:\t 0.03029036141609112\n",
      "Epoch:\t 15 Val Loss:\t 0.03029636533132621\n",
      "Epoch:\t 16 Val Loss:\t 0.030291548928613646\n",
      "Epoch:\t 17 Val Loss:\t 0.030294391908122296\n",
      "Epoch:\t 18 Val Loss:\t 0.030289956680940013\n",
      "Epoch:\t 19 Val Loss:\t 0.030303927120508965\n",
      "Epoch:\t 20 Val Loss:\t 0.030299107022404098\n",
      "Epoch:\t 21 Val Loss:\t 0.030264959459822403\n",
      "Epoch:\t 22 Val Loss:\t 0.03028938252879471\n",
      "Epoch:\t 23 Val Loss:\t 0.03027481364495873\n",
      "Epoch:\t 24 Val Loss:\t 0.030281974008698524\n",
      "Epoch:\t 25 Val Loss:\t 0.0302867398060631\n",
      "Epoch:\t 26 Val Loss:\t 0.03027844415263035\n",
      "Epoch:\t 27 Val Loss:\t 0.030288035650984244\n",
      "Epoch:\t 28 Val Loss:\t 0.03027811020995411\n",
      "Epoch:\t 29 Val Loss:\t 0.03028568256508864\n",
      "Epoch:\t 30 Val Loss:\t 0.03027393001566729\n"
     ]
    },
    {
     "name": "stderr",
     "output_type": "stream",
     "text": [
      "[I 2025-06-02 15:56:34,702] Trial 7 finished with value: 0.030264959459822403 and parameters: {'lr': 0.001, 'weight_decay': 1e-05, 'scheduler_factor': 0.3, 'scheduler_patience': 20, 'batch_size': 128, 'dropout': 0.2, 'hidden_dims': 256}. Best is trial 5 with value: 0.030186082323312376.\n"
     ]
    },
    {
     "name": "stdout",
     "output_type": "stream",
     "text": [
      "Epoch:\t 31 Val Loss:\t 0.030277308557977837\n"
     ]
    },
    {
     "name": "stderr",
     "output_type": "stream",
     "text": [
      "[I 2025-06-02 15:56:37,481] Trial 8 pruned. \n"
     ]
    },
    {
     "name": "stdout",
     "output_type": "stream",
     "text": [
      "Epoch:\t 0 Val Loss:\t 0.03905045238725638\n"
     ]
    },
    {
     "name": "stderr",
     "output_type": "stream",
     "text": [
      "[I 2025-06-02 15:56:40,002] Trial 9 pruned. \n"
     ]
    },
    {
     "name": "stdout",
     "output_type": "stream",
     "text": [
      "Epoch:\t 0 Val Loss:\t 0.03079861197081601\n",
      "Epoch:\t 0 Val Loss:\t 0.030536729856608866\n",
      "Epoch:\t 1 Val Loss:\t 0.030322549904963535\n",
      "Epoch:\t 2 Val Loss:\t 0.030364564855495293\n",
      "Epoch:\t 3 Val Loss:\t 0.03031159833088547\n",
      "Epoch:\t 4 Val Loss:\t 0.0303282636163648\n",
      "Epoch:\t 5 Val Loss:\t 0.03029689981353904\n",
      "Epoch:\t 6 Val Loss:\t 0.030309556387290208\n",
      "Epoch:\t 7 Val Loss:\t 0.030276788590487116\n",
      "Epoch:\t 8 Val Loss:\t 0.03030392905260494\n",
      "Epoch:\t 9 Val Loss:\t 0.030301828589103744\n",
      "Epoch:\t 10 Val Loss:\t 0.03023206306946182\n",
      "Epoch:\t 11 Val Loss:\t 0.030213958571454088\n",
      "Epoch:\t 12 Val Loss:\t 0.03021205633445708\n",
      "Epoch:\t 13 Val Loss:\t 0.030216789904810144\n",
      "Epoch:\t 14 Val Loss:\t 0.030199083819507595\n",
      "Epoch:\t 15 Val Loss:\t 0.030205957895379984\n",
      "Epoch:\t 16 Val Loss:\t 0.030208792173880374\n",
      "Epoch:\t 17 Val Loss:\t 0.030211708570768932\n",
      "Epoch:\t 18 Val Loss:\t 0.030213288937458293\n",
      "Epoch:\t 19 Val Loss:\t 0.030206759200097324\n",
      "Epoch:\t 20 Val Loss:\t 0.030216644277314623\n",
      "Epoch:\t 21 Val Loss:\t 0.030205354555873927\n",
      "Epoch:\t 22 Val Loss:\t 0.030230931690586115\n",
      "Epoch:\t 23 Val Loss:\t 0.030209663313979614\n"
     ]
    },
    {
     "name": "stderr",
     "output_type": "stream",
     "text": [
      "[I 2025-06-02 15:59:18,724] Trial 10 finished with value: 0.030199083819507595 and parameters: {'lr': 0.0001, 'weight_decay': 0.0001, 'scheduler_factor': 0.1, 'scheduler_patience': 1, 'batch_size': 32, 'dropout': 0.05, 'hidden_dims': 512}. Best is trial 5 with value: 0.030186082323312376.\n"
     ]
    },
    {
     "name": "stdout",
     "output_type": "stream",
     "text": [
      "Epoch:\t 24 Val Loss:\t 0.030212299741491047\n",
      "Epoch:\t 0 Val Loss:\t 0.030474698165793696\n",
      "Epoch:\t 1 Val Loss:\t 0.03030929885102895\n",
      "Epoch:\t 2 Val Loss:\t 0.030305986405016187\n",
      "Epoch:\t 3 Val Loss:\t 0.03030329544940788\n",
      "Epoch:\t 4 Val Loss:\t 0.030296403216664682\n",
      "Epoch:\t 5 Val Loss:\t 0.030283125383193363\n",
      "Epoch:\t 6 Val Loss:\t 0.030304832228707647\n",
      "Epoch:\t 7 Val Loss:\t 0.03029774815097959\n",
      "Epoch:\t 8 Val Loss:\t 0.030224099110266966\n",
      "Epoch:\t 9 Val Loss:\t 0.030238324355236993\n",
      "Epoch:\t 10 Val Loss:\t 0.03021521595995388\n",
      "Epoch:\t 11 Val Loss:\t 0.030225972964881893\n",
      "Epoch:\t 12 Val Loss:\t 0.030214895414774547\n",
      "Epoch:\t 13 Val Loss:\t 0.03020377484540304\n",
      "Epoch:\t 14 Val Loss:\t 0.03021394043623326\n",
      "Epoch:\t 15 Val Loss:\t 0.030220519123460823\n",
      "Epoch:\t 16 Val Loss:\t 0.03022087576065608\n",
      "Epoch:\t 17 Val Loss:\t 0.03021079186566607\n",
      "Epoch:\t 18 Val Loss:\t 0.030246820388910526\n",
      "Epoch:\t 19 Val Loss:\t 0.030215112103488977\n",
      "Epoch:\t 20 Val Loss:\t 0.03020665382738701\n",
      "Epoch:\t 21 Val Loss:\t 0.030214724389608493\n",
      "Epoch:\t 22 Val Loss:\t 0.030214901473037226\n"
     ]
    },
    {
     "name": "stderr",
     "output_type": "stream",
     "text": [
      "[I 2025-06-02 16:01:47,957] Trial 11 finished with value: 0.03020377484540304 and parameters: {'lr': 0.0001, 'weight_decay': 0.0001, 'scheduler_factor': 0.1, 'scheduler_patience': 1, 'batch_size': 32, 'dropout': 0.05, 'hidden_dims': 512}. Best is trial 5 with value: 0.030186082323312376.\n"
     ]
    },
    {
     "name": "stdout",
     "output_type": "stream",
     "text": [
      "Epoch:\t 23 Val Loss:\t 0.030218222068402474\n",
      "Epoch:\t 0 Val Loss:\t 0.030476862218283222\n",
      "Epoch:\t 1 Val Loss:\t 0.030298794968751725\n",
      "Epoch:\t 2 Val Loss:\t 0.030308262736560825\n",
      "Epoch:\t 3 Val Loss:\t 0.030314056020610797\n",
      "Epoch:\t 4 Val Loss:\t 0.030233922356623925\n",
      "Epoch:\t 5 Val Loss:\t 0.030224448582810724\n",
      "Epoch:\t 6 Val Loss:\t 0.030218321448546612\n",
      "Epoch:\t 7 Val Loss:\t 0.03021553287465491\n",
      "Epoch:\t 8 Val Loss:\t 0.03022749954703934\n",
      "Epoch:\t 9 Val Loss:\t 0.030213559869087053\n",
      "Epoch:\t 10 Val Loss:\t 0.030210968828153516\n",
      "Epoch:\t 11 Val Loss:\t 0.030208003974868683\n",
      "Epoch:\t 12 Val Loss:\t 0.030208365092117467\n",
      "Epoch:\t 13 Val Loss:\t 0.030220426643689076\n",
      "Epoch:\t 14 Val Loss:\t 0.030222223633396363\n",
      "Epoch:\t 15 Val Loss:\t 0.03021641790359197\n",
      "Epoch:\t 16 Val Loss:\t 0.030211455966971203\n",
      "Epoch:\t 17 Val Loss:\t 0.03021129871119478\n",
      "Epoch:\t 18 Val Loss:\t 0.030205854451011323\n",
      "Epoch:\t 19 Val Loss:\t 0.030223430113079312\n",
      "Epoch:\t 20 Val Loss:\t 0.03020657205390548\n",
      "Epoch:\t 21 Val Loss:\t 0.030223956991561905\n",
      "Epoch:\t 22 Val Loss:\t 0.030210716737236434\n",
      "Epoch:\t 23 Val Loss:\t 0.03021335691990021\n",
      "Epoch:\t 24 Val Loss:\t 0.030206304189855447\n",
      "Epoch:\t 25 Val Loss:\t 0.030211310169262016\n",
      "Epoch:\t 26 Val Loss:\t 0.03024807217603695\n",
      "Epoch:\t 27 Val Loss:\t 0.030205485971274978\n",
      "Epoch:\t 28 Val Loss:\t 0.030203679850500428\n",
      "Epoch:\t 29 Val Loss:\t 0.030205731169285183\n",
      "Epoch:\t 30 Val Loss:\t 0.03021022185519009\n",
      "Epoch:\t 31 Val Loss:\t 0.030210934182953737\n",
      "Epoch:\t 32 Val Loss:\t 0.03021415185728269\n",
      "Epoch:\t 33 Val Loss:\t 0.030212952518361605\n",
      "Epoch:\t 34 Val Loss:\t 0.030239452708340837\n",
      "Epoch:\t 35 Val Loss:\t 0.030220712387639438\n",
      "Epoch:\t 36 Val Loss:\t 0.030210885808678093\n",
      "Epoch:\t 37 Val Loss:\t 0.030203769218646932\n"
     ]
    },
    {
     "name": "stderr",
     "output_type": "stream",
     "text": [
      "[I 2025-06-02 16:05:30,729] Trial 12 finished with value: 0.030203679850500428 and parameters: {'lr': 0.0001, 'weight_decay': 0.0001, 'scheduler_factor': 0.1, 'scheduler_patience': 1, 'batch_size': 32, 'dropout': 0.05, 'hidden_dims': 512}. Best is trial 5 with value: 0.030186082323312376.\n"
     ]
    },
    {
     "name": "stdout",
     "output_type": "stream",
     "text": [
      "Epoch:\t 38 Val Loss:\t 0.030226992070674898\n",
      "Epoch:\t 0 Val Loss:\t 0.030522009350341515\n"
     ]
    },
    {
     "name": "stderr",
     "output_type": "stream",
     "text": [
      "[I 2025-06-02 16:05:38,655] Trial 13 pruned. \n"
     ]
    },
    {
     "name": "stdout",
     "output_type": "stream",
     "text": [
      "Epoch:\t 1 Val Loss:\t 0.03045420635733589\n",
      "Epoch:\t 0 Val Loss:\t 0.030495169589329577\n",
      "Epoch:\t 1 Val Loss:\t 0.030315713397038722\n",
      "Epoch:\t 2 Val Loss:\t 0.030296865304958127\n",
      "Epoch:\t 3 Val Loss:\t 0.030308737920108204\n",
      "Epoch:\t 4 Val Loss:\t 0.03031071004474569\n",
      "Epoch:\t 5 Val Loss:\t 0.03030355336715678\n",
      "Epoch:\t 6 Val Loss:\t 0.03029068860716237\n",
      "Epoch:\t 7 Val Loss:\t 0.03028812174030201\n",
      "Epoch:\t 8 Val Loss:\t 0.030310789806271842\n",
      "Epoch:\t 9 Val Loss:\t 0.030303630995039712\n",
      "Epoch:\t 10 Val Loss:\t 0.030273549863415395\n",
      "Epoch:\t 11 Val Loss:\t 0.030280707658591394\n",
      "Epoch:\t 12 Val Loss:\t 0.03030637369560216\n",
      "Epoch:\t 13 Val Loss:\t 0.030313706778004795\n",
      "Epoch:\t 14 Val Loss:\t 0.03028077975154401\n",
      "Epoch:\t 15 Val Loss:\t 0.030285323489614144\n",
      "Epoch:\t 16 Val Loss:\t 0.03028326846345632\n",
      "Epoch:\t 17 Val Loss:\t 0.030269274005819417\n",
      "Epoch:\t 18 Val Loss:\t 0.030240741313877467\n",
      "Epoch:\t 19 Val Loss:\t 0.030239796848269645\n",
      "Epoch:\t 20 Val Loss:\t 0.03024848658360078\n",
      "Epoch:\t 21 Val Loss:\t 0.030243315541732287\n",
      "Epoch:\t 22 Val Loss:\t 0.030253321405701743\n",
      "Epoch:\t 23 Val Loss:\t 0.030249258921386482\n",
      "Epoch:\t 24 Val Loss:\t 0.030238434354324856\n",
      "Epoch:\t 25 Val Loss:\t 0.030207862581064802\n",
      "Epoch:\t 26 Val Loss:\t 0.030227095267935124\n",
      "Epoch:\t 27 Val Loss:\t 0.030225574473042287\n",
      "Epoch:\t 28 Val Loss:\t 0.030215359810657635\n",
      "Epoch:\t 29 Val Loss:\t 0.03021794037598527\n",
      "Epoch:\t 30 Val Loss:\t 0.030221058660464917\n",
      "Epoch:\t 31 Val Loss:\t 0.03021074028196698\n",
      "Epoch:\t 32 Val Loss:\t 0.030204436306156712\n",
      "Epoch:\t 33 Val Loss:\t 0.030216827397356052\n",
      "Epoch:\t 34 Val Loss:\t 0.03022548624413286\n",
      "Epoch:\t 35 Val Loss:\t 0.030213782720581325\n",
      "Epoch:\t 36 Val Loss:\t 0.03021823935330153\n",
      "Epoch:\t 37 Val Loss:\t 0.030221768940438726\n",
      "Epoch:\t 38 Val Loss:\t 0.030208235916369904\n",
      "Epoch:\t 39 Val Loss:\t 0.0302185893805328\n",
      "Epoch:\t 40 Val Loss:\t 0.03021704851237232\n",
      "Epoch:\t 41 Val Loss:\t 0.03021036381189355\n",
      "Epoch:\t 42 Val Loss:\t 0.030203955444341193\n",
      "Epoch:\t 43 Val Loss:\t 0.030216038225588198\n",
      "Epoch:\t 44 Val Loss:\t 0.030204528169277198\n",
      "Epoch:\t 45 Val Loss:\t 0.030215135303312886\n",
      "Epoch:\t 46 Val Loss:\t 0.030217645719707132\n",
      "Epoch:\t 47 Val Loss:\t 0.0302126738479835\n",
      "Epoch:\t 48 Val Loss:\t 0.03020707011028736\n",
      "Epoch:\t 49 Val Loss:\t 0.030207833440933293\n",
      "Epoch:\t 50 Val Loss:\t 0.030221304896927786\n",
      "Epoch:\t 51 Val Loss:\t 0.030210419595689476\n"
     ]
    },
    {
     "name": "stderr",
     "output_type": "stream",
     "text": [
      "[I 2025-06-02 16:10:48,519] Trial 14 finished with value: 0.030203955444341193 and parameters: {'lr': 0.0001, 'weight_decay': 0.0001, 'scheduler_factor': 0.3, 'scheduler_patience': 5, 'batch_size': 32, 'dropout': 0.15, 'hidden_dims': 512}. Best is trial 5 with value: 0.030186082323312376.\n"
     ]
    },
    {
     "name": "stdout",
     "output_type": "stream",
     "text": [
      "Epoch:\t 52 Val Loss:\t 0.030207025390379654\n"
     ]
    },
    {
     "name": "stderr",
     "output_type": "stream",
     "text": [
      "[I 2025-06-02 16:10:50,805] Trial 15 pruned. \n"
     ]
    },
    {
     "name": "stdout",
     "output_type": "stream",
     "text": [
      "Epoch:\t 0 Val Loss:\t 0.07689990826741676\n",
      "Epoch:\t 0 Val Loss:\t 0.030311150769731086\n",
      "Epoch:\t 1 Val Loss:\t 0.0302594856069776\n",
      "Epoch:\t 2 Val Loss:\t 0.03027625816961926\n",
      "Epoch:\t 3 Val Loss:\t 0.03025796366762183\n",
      "Epoch:\t 4 Val Loss:\t 0.03023604368548355\n",
      "Epoch:\t 5 Val Loss:\t 0.030218656029634344\n",
      "Epoch:\t 6 Val Loss:\t 0.030231543925249266\n",
      "Epoch:\t 7 Val Loss:\t 0.030233773642139347\n",
      "Epoch:\t 8 Val Loss:\t 0.030218447975530652\n",
      "Epoch:\t 9 Val Loss:\t 0.030213681644272947\n",
      "Epoch:\t 10 Val Loss:\t 0.030212251022308765\n",
      "Epoch:\t 11 Val Loss:\t 0.030224506730934183\n",
      "Epoch:\t 12 Val Loss:\t 0.03021060833950081\n",
      "Epoch:\t 13 Val Loss:\t 0.030208208712045558\n",
      "Epoch:\t 14 Val Loss:\t 0.030210847674844738\n",
      "Epoch:\t 15 Val Loss:\t 0.030210447008301597\n",
      "Epoch:\t 16 Val Loss:\t 0.03021367508059513\n",
      "Epoch:\t 17 Val Loss:\t 0.03021048810370341\n",
      "Epoch:\t 18 Val Loss:\t 0.030218017455899644\n",
      "Epoch:\t 19 Val Loss:\t 0.0302271785143621\n",
      "Epoch:\t 20 Val Loss:\t 0.03020663292619413\n",
      "Epoch:\t 21 Val Loss:\t 0.03020267660891962\n",
      "Epoch:\t 22 Val Loss:\t 0.030216399242052574\n",
      "Epoch:\t 23 Val Loss:\t 0.030210733654085765\n",
      "Epoch:\t 24 Val Loss:\t 0.030221143231273652\n",
      "Epoch:\t 25 Val Loss:\t 0.030224330343291132\n",
      "Epoch:\t 26 Val Loss:\t 0.030210580640213047\n",
      "Epoch:\t 27 Val Loss:\t 0.030209859920467787\n",
      "Epoch:\t 28 Val Loss:\t 0.0302076620051641\n",
      "Epoch:\t 29 Val Loss:\t 0.03021059233568355\n",
      "Epoch:\t 30 Val Loss:\t 0.030209008048854038\n"
     ]
    },
    {
     "name": "stderr",
     "output_type": "stream",
     "text": [
      "[I 2025-06-02 16:13:54,065] Trial 16 finished with value: 0.03020267660891962 and parameters: {'lr': 0.0001, 'weight_decay': 0.0001, 'scheduler_factor': 0.3, 'scheduler_patience': 1, 'batch_size': 32, 'dropout': 0.05, 'hidden_dims': 64}. Best is trial 5 with value: 0.030186082323312376.\n"
     ]
    },
    {
     "name": "stdout",
     "output_type": "stream",
     "text": [
      "Epoch:\t 31 Val Loss:\t 0.030214206943799834\n",
      "Epoch:\t 0 Val Loss:\t 0.030325684732371204\n",
      "Epoch:\t 1 Val Loss:\t 0.030328989106790428\n",
      "Epoch:\t 2 Val Loss:\t 0.030367744158222746\n",
      "Epoch:\t 3 Val Loss:\t 0.030273361041710693\n",
      "Epoch:\t 4 Val Loss:\t 0.030265505811936218\n",
      "Epoch:\t 5 Val Loss:\t 0.03031868567851962\n",
      "Epoch:\t 6 Val Loss:\t 0.03039627104183102\n",
      "Epoch:\t 7 Val Loss:\t 0.030249776402518296\n",
      "Epoch:\t 8 Val Loss:\t 0.0302577117799371\n",
      "Epoch:\t 9 Val Loss:\t 0.030288398487439493\n",
      "Epoch:\t 10 Val Loss:\t 0.03024749087103885\n",
      "Epoch:\t 11 Val Loss:\t 0.03027304330199861\n",
      "Epoch:\t 12 Val Loss:\t 0.030255304314076324\n",
      "Epoch:\t 13 Val Loss:\t 0.030225470596235666\n",
      "Epoch:\t 14 Val Loss:\t 0.030248168107253944\n",
      "Epoch:\t 15 Val Loss:\t 0.030254588453428537\n",
      "Epoch:\t 16 Val Loss:\t 0.030255370962035233\n",
      "Epoch:\t 17 Val Loss:\t 0.03023430626012888\n",
      "Epoch:\t 18 Val Loss:\t 0.03023630680091128\n",
      "Epoch:\t 19 Val Loss:\t 0.030231431845300066\n",
      "Epoch:\t 20 Val Loss:\t 0.030226986022767913\n",
      "Epoch:\t 21 Val Loss:\t 0.030234037248651313\n",
      "Epoch:\t 22 Val Loss:\t 0.030235305123055098\n"
     ]
    },
    {
     "name": "stderr",
     "output_type": "stream",
     "text": [
      "[I 2025-06-02 16:14:50,727] Trial 17 finished with value: 0.030225470596235666 and parameters: {'lr': 0.0001, 'weight_decay': 0.001, 'scheduler_factor': 0.5, 'scheduler_patience': 1, 'batch_size': 256, 'dropout': 0.05, 'hidden_dims': 512}. Best is trial 5 with value: 0.030186082323312376.\n"
     ]
    },
    {
     "name": "stdout",
     "output_type": "stream",
     "text": [
      "Epoch:\t 23 Val Loss:\t 0.030241549548085098\n"
     ]
    },
    {
     "name": "stderr",
     "output_type": "stream",
     "text": [
      "[I 2025-06-02 16:14:53,558] Trial 18 pruned. \n"
     ]
    },
    {
     "name": "stdout",
     "output_type": "stream",
     "text": [
      "Epoch:\t 0 Val Loss:\t 0.031237043712413714\n"
     ]
    },
    {
     "name": "stderr",
     "output_type": "stream",
     "text": [
      "[I 2025-06-02 16:14:57,675] Trial 19 pruned. \n"
     ]
    },
    {
     "name": "stdout",
     "output_type": "stream",
     "text": [
      "Epoch:\t 0 Val Loss:\t 0.0438162844206872\n",
      "Epoch:\t 0 Val Loss:\t 0.030288521470056045\n",
      "Epoch:\t 1 Val Loss:\t 0.030358020230035008\n",
      "Epoch:\t 2 Val Loss:\t 0.030273656942065266\n",
      "Epoch:\t 3 Val Loss:\t 0.030269521917230476\n",
      "Epoch:\t 4 Val Loss:\t 0.0303146896820028\n",
      "Epoch:\t 5 Val Loss:\t 0.030310620768941778\n",
      "Epoch:\t 6 Val Loss:\t 0.030240645842446436\n",
      "Epoch:\t 7 Val Loss:\t 0.030264289162014044\n",
      "Epoch:\t 8 Val Loss:\t 0.030218574268460884\n",
      "Epoch:\t 9 Val Loss:\t 0.030210473322974038\n",
      "Epoch:\t 10 Val Loss:\t 0.030248424118155946\n",
      "Epoch:\t 11 Val Loss:\t 0.030236188712300507\n",
      "Epoch:\t 12 Val Loss:\t 0.030202592174839612\n",
      "Epoch:\t 13 Val Loss:\t 0.03019982223359611\n",
      "Epoch:\t 14 Val Loss:\t 0.030220677440587086\n",
      "Epoch:\t 15 Val Loss:\t 0.03020157414727156\n",
      "Epoch:\t 16 Val Loss:\t 0.030225650300078677\n",
      "Epoch:\t 17 Val Loss:\t 0.03022959711378322\n",
      "Epoch:\t 18 Val Loss:\t 0.030217385688317822\n",
      "Epoch:\t 19 Val Loss:\t 0.030215336031319085\n",
      "Epoch:\t 20 Val Loss:\t 0.030211399596141948\n",
      "Epoch:\t 21 Val Loss:\t 0.030219273884099427\n",
      "Epoch:\t 22 Val Loss:\t 0.030220668653761055\n"
     ]
    },
    {
     "name": "stderr",
     "output_type": "stream",
     "text": [
      "[I 2025-06-02 16:21:48,425] Trial 20 finished with value: 0.03019982223359611 and parameters: {'lr': 0.0001, 'weight_decay': 0.0001, 'scheduler_factor': 0.1, 'scheduler_patience': 1, 'batch_size': 16, 'dropout': 0.05, 'hidden_dims': 128}. Best is trial 5 with value: 0.030186082323312376.\n"
     ]
    },
    {
     "name": "stdout",
     "output_type": "stream",
     "text": [
      "Epoch:\t 23 Val Loss:\t 0.03023665619592728\n",
      "Epoch:\t 0 Val Loss:\t 0.03029325710315846\n",
      "Epoch:\t 1 Val Loss:\t 0.03030955368543592\n",
      "Epoch:\t 2 Val Loss:\t 0.030305808088349404\n",
      "Epoch:\t 3 Val Loss:\t 0.03022814488351536\n",
      "Epoch:\t 4 Val Loss:\t 0.030213797550802956\n",
      "Epoch:\t 5 Val Loss:\t 0.030239363207866757\n",
      "Epoch:\t 6 Val Loss:\t 0.030247985802037018\n",
      "Epoch:\t 7 Val Loss:\t 0.030233906593007294\n",
      "Epoch:\t 8 Val Loss:\t 0.030215674679315095\n",
      "Epoch:\t 9 Val Loss:\t 0.03022757665545459\n",
      "Epoch:\t 10 Val Loss:\t 0.0302164293165061\n",
      "Epoch:\t 11 Val Loss:\t 0.030244480932522896\n",
      "Epoch:\t 12 Val Loss:\t 0.03020592333935164\n",
      "Epoch:\t 13 Val Loss:\t 0.03021280234446329\n",
      "Epoch:\t 14 Val Loss:\t 0.030232486795940802\n",
      "Epoch:\t 15 Val Loss:\t 0.03022726045007476\n",
      "Epoch:\t 16 Val Loss:\t 0.03022449961847597\n",
      "Epoch:\t 17 Val Loss:\t 0.03021195254349632\n",
      "Epoch:\t 18 Val Loss:\t 0.03023047220526161\n",
      "Epoch:\t 19 Val Loss:\t 0.03023072045618876\n",
      "Epoch:\t 20 Val Loss:\t 0.030209227281105144\n",
      "Epoch:\t 21 Val Loss:\t 0.0302139631668645\n",
      "Epoch:\t 22 Val Loss:\t 0.03020522964473025\n",
      "Epoch:\t 23 Val Loss:\t 0.030206760398310592\n",
      "Epoch:\t 24 Val Loss:\t 0.03019934501260089\n",
      "Epoch:\t 25 Val Loss:\t 0.030232588431205094\n",
      "Epoch:\t 26 Val Loss:\t 0.030216719345395826\n",
      "Epoch:\t 27 Val Loss:\t 0.030227891117240318\n",
      "Epoch:\t 28 Val Loss:\t 0.03023113634461954\n",
      "Epoch:\t 29 Val Loss:\t 0.03021945691240369\n",
      "Epoch:\t 30 Val Loss:\t 0.03022067052704243\n",
      "Epoch:\t 31 Val Loss:\t 0.030208284701488463\n",
      "Epoch:\t 32 Val Loss:\t 0.030215664865440486\n",
      "Epoch:\t 33 Val Loss:\t 0.03023231613905617\n"
     ]
    },
    {
     "name": "stderr",
     "output_type": "stream",
     "text": [
      "[I 2025-06-02 16:32:20,250] Trial 21 finished with value: 0.03019934501260089 and parameters: {'lr': 0.0001, 'weight_decay': 0.0001, 'scheduler_factor': 0.1, 'scheduler_patience': 1, 'batch_size': 16, 'dropout': 0.05, 'hidden_dims': 128}. Best is trial 5 with value: 0.030186082323312376.\n"
     ]
    },
    {
     "name": "stdout",
     "output_type": "stream",
     "text": [
      "Epoch:\t 34 Val Loss:\t 0.03022850365524444\n",
      "Epoch:\t 0 Val Loss:\t 0.030306430795888486\n",
      "Epoch:\t 1 Val Loss:\t 0.030292349212368726\n",
      "Epoch:\t 2 Val Loss:\t 0.03027683192316575\n",
      "Epoch:\t 3 Val Loss:\t 0.030266129572233333\n",
      "Epoch:\t 4 Val Loss:\t 0.030266365019387734\n",
      "Epoch:\t 5 Val Loss:\t 0.030287862475271026\n",
      "Epoch:\t 6 Val Loss:\t 0.03021905863475845\n",
      "Epoch:\t 7 Val Loss:\t 0.030221972043342937\n",
      "Epoch:\t 8 Val Loss:\t 0.030240882962473382\n",
      "Epoch:\t 9 Val Loss:\t 0.030209350468901733\n",
      "Epoch:\t 10 Val Loss:\t 0.030227258678304007\n",
      "Epoch:\t 11 Val Loss:\t 0.030219886137164743\n",
      "Epoch:\t 12 Val Loss:\t 0.030232979896069885\n",
      "Epoch:\t 13 Val Loss:\t 0.030220739882864077\n",
      "Epoch:\t 14 Val Loss:\t 0.0302193705125019\n",
      "Epoch:\t 15 Val Loss:\t 0.030220927087844993\n",
      "Epoch:\t 16 Val Loss:\t 0.030205626181393795\n",
      "Epoch:\t 17 Val Loss:\t 0.030210754357724696\n",
      "Epoch:\t 18 Val Loss:\t 0.030212946900244383\n",
      "Epoch:\t 19 Val Loss:\t 0.030220552150737042\n",
      "Epoch:\t 20 Val Loss:\t 0.030211896127479106\n",
      "Epoch:\t 21 Val Loss:\t 0.030235745244144654\n",
      "Epoch:\t 22 Val Loss:\t 0.03020674693154664\n",
      "Epoch:\t 23 Val Loss:\t 0.03021351691873595\n",
      "Epoch:\t 24 Val Loss:\t 0.030216895601038726\n",
      "Epoch:\t 25 Val Loss:\t 0.03021259879478052\n"
     ]
    },
    {
     "name": "stderr",
     "output_type": "stream",
     "text": [
      "[I 2025-06-02 16:40:07,218] Trial 22 finished with value: 0.030205626181393795 and parameters: {'lr': 0.0001, 'weight_decay': 0.0001, 'scheduler_factor': 0.1, 'scheduler_patience': 1, 'batch_size': 16, 'dropout': 0.05, 'hidden_dims': 128}. Best is trial 5 with value: 0.030186082323312376.\n"
     ]
    },
    {
     "name": "stdout",
     "output_type": "stream",
     "text": [
      "Epoch:\t 26 Val Loss:\t 0.03021421292776205\n",
      "Epoch:\t 0 Val Loss:\t 0.030274621905332408\n",
      "Epoch:\t 1 Val Loss:\t 0.030311392014127796\n",
      "Epoch:\t 2 Val Loss:\t 0.030299863177761243\n",
      "Epoch:\t 3 Val Loss:\t 0.03021795385778607\n",
      "Epoch:\t 4 Val Loss:\t 0.03022398688481306\n",
      "Epoch:\t 5 Val Loss:\t 0.03022582744132706\n",
      "Epoch:\t 6 Val Loss:\t 0.030208540398517798\n",
      "Epoch:\t 7 Val Loss:\t 0.030208918196769616\n",
      "Epoch:\t 8 Val Loss:\t 0.03021348948717159\n",
      "Epoch:\t 9 Val Loss:\t 0.030237907866223903\n",
      "Epoch:\t 10 Val Loss:\t 0.030211544721987248\n",
      "Epoch:\t 11 Val Loss:\t 0.030218788441117576\n",
      "Epoch:\t 12 Val Loss:\t 0.03021993315094782\n",
      "Epoch:\t 13 Val Loss:\t 0.030216415548755707\n",
      "Epoch:\t 14 Val Loss:\t 0.030214715442627497\n",
      "Epoch:\t 15 Val Loss:\t 0.03022715237112561\n"
     ]
    },
    {
     "name": "stderr",
     "output_type": "stream",
     "text": [
      "[I 2025-06-02 16:45:00,368] Trial 23 finished with value: 0.030208540398517798 and parameters: {'lr': 0.0001, 'weight_decay': 0.0001, 'scheduler_factor': 0.1, 'scheduler_patience': 1, 'batch_size': 16, 'dropout': 0.05, 'hidden_dims': 128}. Best is trial 5 with value: 0.030186082323312376.\n"
     ]
    },
    {
     "name": "stdout",
     "output_type": "stream",
     "text": [
      "Epoch:\t 16 Val Loss:\t 0.03021285693720804\n",
      "Epoch:\t 0 Val Loss:\t 0.030298596776856184\n",
      "Epoch:\t 1 Val Loss:\t 0.030273321340880517\n",
      "Epoch:\t 2 Val Loss:\t 0.030279291351461096\n",
      "Epoch:\t 3 Val Loss:\t 0.030325978098687607\n",
      "Epoch:\t 4 Val Loss:\t 0.030248357888450726\n",
      "Epoch:\t 5 Val Loss:\t 0.03024408808924098\n",
      "Epoch:\t 6 Val Loss:\t 0.030228550020031345\n",
      "Epoch:\t 7 Val Loss:\t 0.030224685331213523\n",
      "Epoch:\t 8 Val Loss:\t 0.03022661476045775\n",
      "Epoch:\t 9 Val Loss:\t 0.03023938488560792\n",
      "Epoch:\t 10 Val Loss:\t 0.03021933934687702\n",
      "Epoch:\t 11 Val Loss:\t 0.030208179139032246\n",
      "Epoch:\t 12 Val Loss:\t 0.030229869277177867\n",
      "Epoch:\t 13 Val Loss:\t 0.03022872207623234\n",
      "Epoch:\t 14 Val Loss:\t 0.030216243335250574\n",
      "Epoch:\t 15 Val Loss:\t 0.030223402085704152\n",
      "Epoch:\t 16 Val Loss:\t 0.030207772584353258\n",
      "Epoch:\t 17 Val Loss:\t 0.03021164402362699\n",
      "Epoch:\t 18 Val Loss:\t 0.030214836939264696\n",
      "Epoch:\t 19 Val Loss:\t 0.030217480703746476\n",
      "Epoch:\t 20 Val Loss:\t 0.030222311733502157\n",
      "Epoch:\t 21 Val Loss:\t 0.03021137878926483\n",
      "Epoch:\t 22 Val Loss:\t 0.030215237136095002\n",
      "Epoch:\t 23 Val Loss:\t 0.030216025301271893\n",
      "Epoch:\t 24 Val Loss:\t 0.030223894378040125\n",
      "Epoch:\t 25 Val Loss:\t 0.030215202833904074\n"
     ]
    },
    {
     "name": "stderr",
     "output_type": "stream",
     "text": [
      "[I 2025-06-02 16:52:54,278] Trial 24 finished with value: 0.030207772584353258 and parameters: {'lr': 0.0001, 'weight_decay': 0.0001, 'scheduler_factor': 0.1, 'scheduler_patience': 1, 'batch_size': 16, 'dropout': 0.05, 'hidden_dims': 64}. Best is trial 5 with value: 0.030186082323312376.\n"
     ]
    },
    {
     "name": "stdout",
     "output_type": "stream",
     "text": [
      "Epoch:\t 26 Val Loss:\t 0.030208303153468584\n"
     ]
    },
    {
     "name": "stderr",
     "output_type": "stream",
     "text": [
      "[I 2025-06-02 16:52:56,613] Trial 25 pruned. \n"
     ]
    },
    {
     "name": "stdout",
     "output_type": "stream",
     "text": [
      "Epoch:\t 0 Val Loss:\t 0.031819680843418435\n"
     ]
    },
    {
     "name": "stderr",
     "output_type": "stream",
     "text": [
      "[I 2025-06-02 16:53:03,112] Trial 26 pruned. \n"
     ]
    },
    {
     "name": "stdout",
     "output_type": "stream",
     "text": [
      "Epoch:\t 0 Val Loss:\t 0.030780593677608666\n"
     ]
    },
    {
     "name": "stderr",
     "output_type": "stream",
     "text": [
      "[I 2025-06-02 16:53:22,598] Trial 27 pruned. \n"
     ]
    },
    {
     "name": "stdout",
     "output_type": "stream",
     "text": [
      "Epoch:\t 0 Val Loss:\t 0.0358909600731743\n"
     ]
    },
    {
     "name": "stderr",
     "output_type": "stream",
     "text": [
      "[I 2025-06-02 16:53:28,669] Trial 28 pruned. \n"
     ]
    },
    {
     "name": "stdout",
     "output_type": "stream",
     "text": [
      "Epoch:\t 0 Val Loss:\t 0.030877013823282503\n"
     ]
    },
    {
     "name": "stderr",
     "output_type": "stream",
     "text": [
      "[I 2025-06-02 16:53:31,071] Trial 29 pruned. \n"
     ]
    },
    {
     "name": "stdout",
     "output_type": "stream",
     "text": [
      "Epoch:\t 0 Val Loss:\t 0.03892850552437006\n"
     ]
    },
    {
     "name": "stderr",
     "output_type": "stream",
     "text": [
      "[I 2025-06-02 16:53:37,011] Trial 30 pruned. \n"
     ]
    },
    {
     "name": "stdout",
     "output_type": "stream",
     "text": [
      "Epoch:\t 0 Val Loss:\t 0.030566558951814333\n",
      "Epoch:\t 0 Val Loss:\t 0.030296595874808818\n",
      "Epoch:\t 1 Val Loss:\t 0.030279813228916593\n",
      "Epoch:\t 2 Val Loss:\t 0.030279837411021665\n",
      "Epoch:\t 3 Val Loss:\t 0.030314976743759634\n",
      "Epoch:\t 4 Val Loss:\t 0.030251107212776317\n",
      "Epoch:\t 5 Val Loss:\t 0.030225169106361038\n",
      "Epoch:\t 6 Val Loss:\t 0.03022116383448455\n",
      "Epoch:\t 7 Val Loss:\t 0.030224052606592004\n",
      "Epoch:\t 8 Val Loss:\t 0.030252360001369112\n",
      "Epoch:\t 9 Val Loss:\t 0.03022256874457148\n",
      "Epoch:\t 10 Val Loss:\t 0.03023750036958612\n",
      "Epoch:\t 11 Val Loss:\t 0.030233323580037375\n",
      "Epoch:\t 12 Val Loss:\t 0.03022764053138242\n",
      "Epoch:\t 13 Val Loss:\t 0.030218256312396143\n",
      "Epoch:\t 14 Val Loss:\t 0.03022051767780675\n",
      "Epoch:\t 15 Val Loss:\t 0.030208296176852993\n",
      "Epoch:\t 16 Val Loss:\t 0.030220606300865652\n",
      "Epoch:\t 17 Val Loss:\t 0.03023448338304062\n",
      "Epoch:\t 18 Val Loss:\t 0.030203982346854095\n",
      "Epoch:\t 19 Val Loss:\t 0.03020622865156017\n",
      "Epoch:\t 20 Val Loss:\t 0.03020882930631235\n",
      "Epoch:\t 21 Val Loss:\t 0.030204550518561548\n",
      "Epoch:\t 22 Val Loss:\t 0.030211801331119316\n",
      "Epoch:\t 23 Val Loss:\t 0.030220600176454067\n",
      "Epoch:\t 24 Val Loss:\t 0.030219816225460515\n",
      "Epoch:\t 25 Val Loss:\t 0.030218608755386202\n",
      "Epoch:\t 26 Val Loss:\t 0.030202551227062193\n",
      "Epoch:\t 27 Val Loss:\t 0.03021059760182314\n",
      "Epoch:\t 28 Val Loss:\t 0.030221983404881227\n",
      "Epoch:\t 29 Val Loss:\t 0.03022131351543211\n",
      "Epoch:\t 30 Val Loss:\t 0.030204879373955395\n",
      "Epoch:\t 31 Val Loss:\t 0.030216983748080017\n",
      "Epoch:\t 32 Val Loss:\t 0.030214736217782544\n",
      "Epoch:\t 33 Val Loss:\t 0.030219715094950295\n",
      "Epoch:\t 34 Val Loss:\t 0.030218520275636405\n",
      "Epoch:\t 35 Val Loss:\t 0.03022224034242999\n"
     ]
    },
    {
     "name": "stderr",
     "output_type": "stream",
     "text": [
      "[I 2025-06-02 17:04:21,948] Trial 31 finished with value: 0.030202551227062193 and parameters: {'lr': 0.0001, 'weight_decay': 0.0001, 'scheduler_factor': 0.1, 'scheduler_patience': 1, 'batch_size': 16, 'dropout': 0.05, 'hidden_dims': 128}. Best is trial 5 with value: 0.030186082323312376.\n"
     ]
    },
    {
     "name": "stdout",
     "output_type": "stream",
     "text": [
      "Epoch:\t 36 Val Loss:\t 0.03021365807708364\n",
      "Epoch:\t 0 Val Loss:\t 0.03028665441348686\n",
      "Epoch:\t 1 Val Loss:\t 0.03027763990269225\n",
      "Epoch:\t 2 Val Loss:\t 0.030295118806535497\n",
      "Epoch:\t 3 Val Loss:\t 0.030274692224945103\n",
      "Epoch:\t 4 Val Loss:\t 0.03021437957982899\n",
      "Epoch:\t 5 Val Loss:\t 0.030235902170039172\n",
      "Epoch:\t 6 Val Loss:\t 0.030232038071065205\n",
      "Epoch:\t 7 Val Loss:\t 0.0302416026566877\n",
      "Epoch:\t 8 Val Loss:\t 0.030214588064532425\n",
      "Epoch:\t 9 Val Loss:\t 0.030219106758254084\n",
      "Epoch:\t 10 Val Loss:\t 0.030224641185665126\n",
      "Epoch:\t 11 Val Loss:\t 0.03021950282785684\n",
      "Epoch:\t 12 Val Loss:\t 0.030225548662201982\n",
      "Epoch:\t 13 Val Loss:\t 0.030212955328611055\n",
      "Epoch:\t 14 Val Loss:\t 0.030211002972895817\n",
      "Epoch:\t 15 Val Loss:\t 0.030223611584020937\n",
      "Epoch:\t 16 Val Loss:\t 0.030213459557027932\n",
      "Epoch:\t 17 Val Loss:\t 0.030224192754871752\n",
      "Epoch:\t 18 Val Loss:\t 0.030223758667490986\n",
      "Epoch:\t 19 Val Loss:\t 0.030228492108785157\n",
      "Epoch:\t 20 Val Loss:\t 0.030204174660394042\n",
      "Epoch:\t 21 Val Loss:\t 0.03021742607890646\n",
      "Epoch:\t 22 Val Loss:\t 0.030223686995958426\n",
      "Epoch:\t 23 Val Loss:\t 0.030211414088275074\n",
      "Epoch:\t 24 Val Loss:\t 0.03022180216140975\n",
      "Epoch:\t 25 Val Loss:\t 0.03024000559316396\n",
      "Epoch:\t 26 Val Loss:\t 0.03028155541716603\n",
      "Epoch:\t 27 Val Loss:\t 0.03021087895099546\n",
      "Epoch:\t 28 Val Loss:\t 0.030228629058174323\n",
      "Epoch:\t 29 Val Loss:\t 0.030213715418638817\n"
     ]
    },
    {
     "name": "stderr",
     "output_type": "stream",
     "text": [
      "[I 2025-06-02 17:13:01,712] Trial 32 finished with value: 0.030204174660394042 and parameters: {'lr': 0.0001, 'weight_decay': 0.0001, 'scheduler_factor': 0.1, 'scheduler_patience': 1, 'batch_size': 16, 'dropout': 0.05, 'hidden_dims': 128}. Best is trial 5 with value: 0.030186082323312376.\n"
     ]
    },
    {
     "name": "stdout",
     "output_type": "stream",
     "text": [
      "Epoch:\t 30 Val Loss:\t 0.030215051775285797\n",
      "Epoch:\t 0 Val Loss:\t 0.030279970203887018\n",
      "Epoch:\t 1 Val Loss:\t 0.030303825014290436\n",
      "Epoch:\t 2 Val Loss:\t 0.030282373123984553\n",
      "Epoch:\t 3 Val Loss:\t 0.030214917454349805\n",
      "Epoch:\t 4 Val Loss:\t 0.03023671668990954\n",
      "Epoch:\t 5 Val Loss:\t 0.030223005828381395\n",
      "Epoch:\t 6 Val Loss:\t 0.03020737493424515\n",
      "Epoch:\t 7 Val Loss:\t 0.030214682352779337\n",
      "Epoch:\t 8 Val Loss:\t 0.030218686257621325\n",
      "Epoch:\t 9 Val Loss:\t 0.03022887525724352\n",
      "Epoch:\t 10 Val Loss:\t 0.030216840943916842\n",
      "Epoch:\t 11 Val Loss:\t 0.030216174403198424\n",
      "Epoch:\t 12 Val Loss:\t 0.03021831017180134\n",
      "Epoch:\t 13 Val Loss:\t 0.03021279862738341\n",
      "Epoch:\t 14 Val Loss:\t 0.03021470831859759\n",
      "Epoch:\t 15 Val Loss:\t 0.030218918438709\n"
     ]
    },
    {
     "name": "stderr",
     "output_type": "stream",
     "text": [
      "[I 2025-06-02 17:18:13,750] Trial 33 finished with value: 0.03020737493424515 and parameters: {'lr': 0.0001, 'weight_decay': 0.0001, 'scheduler_factor': 0.1, 'scheduler_patience': 1, 'batch_size': 16, 'dropout': 0.05, 'hidden_dims': 128}. Best is trial 5 with value: 0.030186082323312376.\n"
     ]
    },
    {
     "name": "stdout",
     "output_type": "stream",
     "text": [
      "Epoch:\t 16 Val Loss:\t 0.030213448569250234\n",
      "Epoch:\t 0 Val Loss:\t 0.030412380540106417\n"
     ]
    },
    {
     "name": "stderr",
     "output_type": "stream",
     "text": [
      "[I 2025-06-02 17:18:56,560] Trial 34 pruned. \n"
     ]
    },
    {
     "name": "stdout",
     "output_type": "stream",
     "text": [
      "Epoch:\t 1 Val Loss:\t 0.03034728375138303\n"
     ]
    },
    {
     "name": "stderr",
     "output_type": "stream",
     "text": [
      "[I 2025-06-02 17:19:16,752] Trial 35 pruned. \n"
     ]
    },
    {
     "name": "stdout",
     "output_type": "stream",
     "text": [
      "Epoch:\t 0 Val Loss:\t 0.030546707613570936\n"
     ]
    },
    {
     "name": "stderr",
     "output_type": "stream",
     "text": [
      "[I 2025-06-02 17:19:20,312] Trial 36 pruned. \n"
     ]
    },
    {
     "name": "stdout",
     "output_type": "stream",
     "text": [
      "Epoch:\t 0 Val Loss:\t 0.0555394507149935\n"
     ]
    },
    {
     "name": "stderr",
     "output_type": "stream",
     "text": [
      "[I 2025-06-02 17:19:22,687] Trial 37 pruned. \n"
     ]
    },
    {
     "name": "stdout",
     "output_type": "stream",
     "text": [
      "Epoch:\t 0 Val Loss:\t 0.03164299219918596\n"
     ]
    },
    {
     "name": "stderr",
     "output_type": "stream",
     "text": [
      "[I 2025-06-02 17:19:25,430] Trial 38 pruned. \n"
     ]
    },
    {
     "name": "stdout",
     "output_type": "stream",
     "text": [
      "Epoch:\t 0 Val Loss:\t 0.03237725895370565\n"
     ]
    },
    {
     "name": "stderr",
     "output_type": "stream",
     "text": [
      "[I 2025-06-02 17:19:45,861] Trial 39 pruned. \n"
     ]
    },
    {
     "name": "stdout",
     "output_type": "stream",
     "text": [
      "Epoch:\t 0 Val Loss:\t 0.032229363186830895\n"
     ]
    },
    {
     "name": "stderr",
     "output_type": "stream",
     "text": [
      "[I 2025-06-02 17:19:48,239] Trial 40 pruned. \n"
     ]
    },
    {
     "name": "stdout",
     "output_type": "stream",
     "text": [
      "Epoch:\t 0 Val Loss:\t 0.03116154288603562\n",
      "Epoch:\t 0 Val Loss:\t 0.03030259543094964\n",
      "Epoch:\t 1 Val Loss:\t 0.03028997456241773\n",
      "Epoch:\t 2 Val Loss:\t 0.030275999613000263\n",
      "Epoch:\t 3 Val Loss:\t 0.03028158253804073\n",
      "Epoch:\t 4 Val Loss:\t 0.030274626592547746\n",
      "Epoch:\t 5 Val Loss:\t 0.030223963459932394\n",
      "Epoch:\t 6 Val Loss:\t 0.030206693867805536\n",
      "Epoch:\t 7 Val Loss:\t 0.03023338651568581\n",
      "Epoch:\t 8 Val Loss:\t 0.030231184984251865\n",
      "Epoch:\t 9 Val Loss:\t 0.030218764971452816\n",
      "Epoch:\t 10 Val Loss:\t 0.03023059128449069\n",
      "Epoch:\t 11 Val Loss:\t 0.0302069676910107\n",
      "Epoch:\t 12 Val Loss:\t 0.030227724378963997\n",
      "Epoch:\t 13 Val Loss:\t 0.030215533415911384\n",
      "Epoch:\t 14 Val Loss:\t 0.03021673270001294\n",
      "Epoch:\t 15 Val Loss:\t 0.030202198836320245\n",
      "Epoch:\t 16 Val Loss:\t 0.030220481565032185\n",
      "Epoch:\t 17 Val Loss:\t 0.030210493527691677\n",
      "Epoch:\t 18 Val Loss:\t 0.03021142394935958\n",
      "Epoch:\t 19 Val Loss:\t 0.03025159911940927\n",
      "Epoch:\t 20 Val Loss:\t 0.03021777831812889\n",
      "Epoch:\t 21 Val Loss:\t 0.0302206208032618\n",
      "Epoch:\t 22 Val Loss:\t 0.030208405420002013\n",
      "Epoch:\t 23 Val Loss:\t 0.03020503756238819\n",
      "Epoch:\t 24 Val Loss:\t 0.030218188239079014\n"
     ]
    },
    {
     "name": "stderr",
     "output_type": "stream",
     "text": [
      "[I 2025-06-02 17:27:52,021] Trial 41 finished with value: 0.030202198836320245 and parameters: {'lr': 0.0001, 'weight_decay': 0.0001, 'scheduler_factor': 0.1, 'scheduler_patience': 1, 'batch_size': 16, 'dropout': 0.05, 'hidden_dims': 128}. Best is trial 5 with value: 0.030186082323312376.\n"
     ]
    },
    {
     "name": "stdout",
     "output_type": "stream",
     "text": [
      "Epoch:\t 25 Val Loss:\t 0.030212242061474166\n",
      "Epoch:\t 0 Val Loss:\t 0.030290802352375232\n",
      "Epoch:\t 1 Val Loss:\t 0.03030962844259262\n",
      "Epoch:\t 2 Val Loss:\t 0.030315306994364643\n",
      "Epoch:\t 3 Val Loss:\t 0.03024536981003852\n",
      "Epoch:\t 4 Val Loss:\t 0.030231074291590974\n",
      "Epoch:\t 5 Val Loss:\t 0.03023192393991882\n",
      "Epoch:\t 6 Val Loss:\t 0.030212506391570804\n",
      "Epoch:\t 7 Val Loss:\t 0.030217075449858848\n",
      "Epoch:\t 8 Val Loss:\t 0.030215056745760534\n",
      "Epoch:\t 9 Val Loss:\t 0.030221847904630735\n",
      "Epoch:\t 10 Val Loss:\t 0.030221306020254017\n",
      "Epoch:\t 11 Val Loss:\t 0.03022669676815943\n",
      "Epoch:\t 12 Val Loss:\t 0.03020894206370662\n",
      "Epoch:\t 13 Val Loss:\t 0.030213150448247753\n",
      "Epoch:\t 14 Val Loss:\t 0.03021863758589373\n",
      "Epoch:\t 15 Val Loss:\t 0.030217812864393134\n",
      "Epoch:\t 16 Val Loss:\t 0.030216445600936025\n",
      "Epoch:\t 17 Val Loss:\t 0.03021835583683676\n",
      "Epoch:\t 18 Val Loss:\t 0.030218637975888557\n",
      "Epoch:\t 19 Val Loss:\t 0.030205560045361974\n",
      "Epoch:\t 20 Val Loss:\t 0.030228203398787026\n",
      "Epoch:\t 21 Val Loss:\t 0.030216573398881983\n",
      "Epoch:\t 22 Val Loss:\t 0.030215986376802565\n",
      "Epoch:\t 23 Val Loss:\t 0.030227322430515773\n",
      "Epoch:\t 24 Val Loss:\t 0.030219427192931875\n",
      "Epoch:\t 25 Val Loss:\t 0.030230533099128522\n",
      "Epoch:\t 26 Val Loss:\t 0.030213136619665633\n",
      "Epoch:\t 27 Val Loss:\t 0.030227151085448885\n",
      "Epoch:\t 28 Val Loss:\t 0.030215752472087035\n"
     ]
    },
    {
     "name": "stderr",
     "output_type": "stream",
     "text": [
      "[I 2025-06-02 17:36:59,761] Trial 42 finished with value: 0.030205560045361974 and parameters: {'lr': 0.0001, 'weight_decay': 0.0001, 'scheduler_factor': 0.1, 'scheduler_patience': 1, 'batch_size': 16, 'dropout': 0.05, 'hidden_dims': 128}. Best is trial 5 with value: 0.030186082323312376.\n"
     ]
    },
    {
     "name": "stdout",
     "output_type": "stream",
     "text": [
      "Epoch:\t 29 Val Loss:\t 0.030211940183645914\n",
      "Epoch:\t 0 Val Loss:\t 0.03029301963586818\n",
      "Epoch:\t 1 Val Loss:\t 0.0303071803457929\n",
      "Epoch:\t 2 Val Loss:\t 0.030305221149307157\n",
      "Epoch:\t 3 Val Loss:\t 0.030224046768238824\n",
      "Epoch:\t 4 Val Loss:\t 0.030231765734318787\n",
      "Epoch:\t 5 Val Loss:\t 0.030225382479061837\n",
      "Epoch:\t 6 Val Loss:\t 0.03021918563144231\n",
      "Epoch:\t 7 Val Loss:\t 0.030216622701318918\n",
      "Epoch:\t 8 Val Loss:\t 0.030232473183628542\n",
      "Epoch:\t 9 Val Loss:\t 0.030226340639065152\n",
      "Epoch:\t 10 Val Loss:\t 0.03020838822253635\n",
      "Epoch:\t 11 Val Loss:\t 0.03022319621004745\n",
      "Epoch:\t 12 Val Loss:\t 0.03021015989924631\n",
      "Epoch:\t 13 Val Loss:\t 0.0302303199507214\n",
      "Epoch:\t 14 Val Loss:\t 0.030207991832354113\n",
      "Epoch:\t 15 Val Loss:\t 0.030212800680360963\n",
      "Epoch:\t 16 Val Loss:\t 0.030225561384616958\n",
      "Epoch:\t 17 Val Loss:\t 0.030238323357569038\n",
      "Epoch:\t 18 Val Loss:\t 0.03021653503384064\n",
      "Epoch:\t 19 Val Loss:\t 0.030221302760904907\n",
      "Epoch:\t 20 Val Loss:\t 0.03020562683897359\n",
      "Epoch:\t 21 Val Loss:\t 0.030210098796573555\n",
      "Epoch:\t 22 Val Loss:\t 0.03022252153224558\n",
      "Epoch:\t 23 Val Loss:\t 0.030207643992236015\n",
      "Epoch:\t 24 Val Loss:\t 0.030216405592504998\n",
      "Epoch:\t 25 Val Loss:\t 0.03021127061160407\n",
      "Epoch:\t 26 Val Loss:\t 0.03021185114894654\n",
      "Epoch:\t 27 Val Loss:\t 0.030229227372003484\n",
      "Epoch:\t 28 Val Loss:\t 0.03020990658771643\n",
      "Epoch:\t 29 Val Loss:\t 0.030213779131104703\n"
     ]
    },
    {
     "name": "stderr",
     "output_type": "stream",
     "text": [
      "[I 2025-06-02 17:46:31,347] Trial 43 finished with value: 0.03020562683897359 and parameters: {'lr': 0.0001, 'weight_decay': 0.0001, 'scheduler_factor': 0.1, 'scheduler_patience': 1, 'batch_size': 16, 'dropout': 0.05, 'hidden_dims': 128}. Best is trial 5 with value: 0.030186082323312376.\n"
     ]
    },
    {
     "name": "stdout",
     "output_type": "stream",
     "text": [
      "Epoch:\t 30 Val Loss:\t 0.030218624839780505\n",
      "Epoch:\t 0 Val Loss:\t 0.030303586720360397\n",
      "Epoch:\t 1 Val Loss:\t 0.03032765790679798\n",
      "Epoch:\t 2 Val Loss:\t 0.030297046600787057\n",
      "Epoch:\t 3 Val Loss:\t 0.030292817707742843\n"
     ]
    },
    {
     "name": "stderr",
     "output_type": "stream",
     "text": [
      "[I 2025-06-02 17:48:05,365] Trial 44 pruned. \n"
     ]
    },
    {
     "name": "stdout",
     "output_type": "stream",
     "text": [
      "Epoch:\t 4 Val Loss:\t 0.030279581231443708\n"
     ]
    },
    {
     "name": "stderr",
     "output_type": "stream",
     "text": [
      "[I 2025-06-02 17:48:11,457] Trial 45 pruned. \n"
     ]
    },
    {
     "name": "stdout",
     "output_type": "stream",
     "text": [
      "Epoch:\t 0 Val Loss:\t 0.030348546043008507\n"
     ]
    },
    {
     "name": "stderr",
     "output_type": "stream",
     "text": [
      "[I 2025-06-02 17:48:14,156] Trial 46 pruned. \n"
     ]
    },
    {
     "name": "stdout",
     "output_type": "stream",
     "text": [
      "Epoch:\t 0 Val Loss:\t 0.030733937275017435\n"
     ]
    },
    {
     "name": "stderr",
     "output_type": "stream",
     "text": [
      "[I 2025-06-02 17:48:18,134] Trial 47 pruned. \n"
     ]
    },
    {
     "name": "stdout",
     "output_type": "stream",
     "text": [
      "Epoch:\t 0 Val Loss:\t 0.03043475565773158\n",
      "Epoch:\t 0 Val Loss:\t 0.0302818856983735\n",
      "Epoch:\t 1 Val Loss:\t 0.030311413980539766\n",
      "Epoch:\t 2 Val Loss:\t 0.030279193249102096\n",
      "Epoch:\t 3 Val Loss:\t 0.030286466585260623\n",
      "Epoch:\t 4 Val Loss:\t 0.030260759015050532\n",
      "Epoch:\t 5 Val Loss:\t 0.0302861185477193\n"
     ]
    },
    {
     "name": "stderr",
     "output_type": "stream",
     "text": [
      "[I 2025-06-02 17:50:16,815] Trial 48 pruned. \n"
     ]
    },
    {
     "name": "stdout",
     "output_type": "stream",
     "text": [
      "Epoch:\t 6 Val Loss:\t 0.030279437516297397\n"
     ]
    },
    {
     "name": "stderr",
     "output_type": "stream",
     "text": [
      "[I 2025-06-02 17:50:19,126] Trial 49 pruned. \n"
     ]
    },
    {
     "name": "stdout",
     "output_type": "stream",
     "text": [
      "Epoch:\t 0 Val Loss:\t 0.03574081081477776\n",
      "Training model with best parameters on train+validation ...\n"
     ]
    },
    {
     "name": "stderr",
     "output_type": "stream",
     "text": [
      "100%|███████████████████████████████████████████████████████████████████████████████████████████████████████████████████████████████████████████████████████████████████| 401917/401917 [04:04<00:00, 1641.57it/s]\n",
      "100%|███████████████████████████████████████████████████████████████████████████████████████████████████████████████████████████████████████████████████████████████████| 401917/401917 [01:12<00:00, 5554.46it/s]\n"
     ]
    },
    {
     "name": "stdout",
     "output_type": "stream",
     "text": [
      "Getting test set predictions and saving results ...\n"
     ]
    },
    {
     "name": "stderr",
     "output_type": "stream",
     "text": [
      "100%|██████████████████████████████████████████████████████████████████████████████████████████████████████████████████████████████████████████████████████████████████████████| 305/305 [00:00<00:00, 377.75it/s]\n"
     ]
    }
   ],
   "source": [
    "train_different_fs(\n",
    "        adata_path=\"./data/feature_selection/sciplex_cellranger.h5ad\",\n",
    "        run_name=\"mlp_scellranger_fs\",\n",
    "        res_savename=\"./results/feature_selection/mlp_cellranger_fs_res.pkl\",\n",
    "    )"
   ]
  },
  {
   "cell_type": "code",
   "execution_count": null,
   "id": "6774f28a-6797-4815-bdf3-a2c5a4db1615",
   "metadata": {},
   "outputs": [],
   "source": []
  }
 ],
 "metadata": {
  "kernelspec": {
   "display_name": "Python 3 (ipykernel)",
   "language": "python",
   "name": "python3"
  },
  "language_info": {
   "codemirror_mode": {
    "name": "ipython",
    "version": 3
   },
   "file_extension": ".py",
   "mimetype": "text/x-python",
   "name": "python",
   "nbconvert_exporter": "python",
   "pygments_lexer": "ipython3",
   "version": "3.12.7"
  }
 },
 "nbformat": 4,
 "nbformat_minor": 5
}
