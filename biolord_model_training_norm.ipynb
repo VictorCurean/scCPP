{
 "cells": [
  {
   "cell_type": "code",
   "id": "3a614568-f8e3-43b4-bc0b-5e25c523f6ef",
   "metadata": {
    "ExecuteTime": {
     "end_time": "2025-06-13T09:43:42.192421Z",
     "start_time": "2025-06-13T09:43:42.187182Z"
    }
   },
   "source": [
    "import os\n",
    "import sys\n",
    "import scanpy as sc\n",
    "import anndata as ad\n",
    "import numpy as np\n",
    "import pandas as pd\n",
    "import torch\n",
    "import anndata as ad\n",
    "from sklearn import metrics, cluster\n",
    "import re\n",
    "import chemprop\n",
    "\n",
    "import biolord\n",
    "\n",
    "import seaborn as sns\n",
    "import matplotlib.pyplot as plt"
   ],
   "outputs": [],
   "execution_count": 21
  },
  {
   "cell_type": "code",
   "id": "d65a1ca8-faf6-4026-a09d-3020baf0b431",
   "metadata": {
    "ExecuteTime": {
     "end_time": "2025-06-13T09:43:43.234102Z",
     "start_time": "2025-06-13T09:43:43.231204Z"
    }
   },
   "source": [
    "from biolord_utils import compute_prediction, compute_baseline, create_df\n",
    "from biolord_params import (\n",
    "    groups,\n",
    "    groups_colors,\n",
    "    module_params,\n",
    "    trainer_params,\n",
    "    ood_drugs,\n",
    ")"
   ],
   "outputs": [],
   "execution_count": 22
  },
  {
   "cell_type": "code",
   "id": "612aea41-5a5a-4793-a3ef-95b056b94bfe",
   "metadata": {
    "ExecuteTime": {
     "end_time": "2025-06-13T09:43:45.975537Z",
     "start_time": "2025-06-13T09:43:44.856344Z"
    }
   },
   "source": "adata = ad.read_h5ad(\"C:\\\\Users\\\\admin\\\\Documents\\\\scFiLM\\\\data\\\\sciplex3_biolord.h5ad\")",
   "outputs": [],
   "execution_count": 23
  },
  {
   "metadata": {
    "ExecuteTime": {
     "end_time": "2025-06-13T07:55:48.979835Z",
     "start_time": "2025-06-13T07:55:48.534241Z"
    }
   },
   "cell_type": "code",
   "source": "adata_scfilm = ad.read_h5ad(\"C:\\\\Users\\\\admin\\\\Documents\\\\scFiLM\\\\data\\\\sciplex_seurat.h5ad\")",
   "id": "8a618cbd826383bb",
   "outputs": [],
   "execution_count": 13
  },
  {
   "metadata": {
    "ExecuteTime": {
     "end_time": "2025-06-13T13:30:27.005377Z",
     "start_time": "2025-06-13T13:30:26.993177Z"
    }
   },
   "cell_type": "code",
   "source": "adata_scfilm.obs.drug_celltype_dose.unique()",
   "id": "bc7327701a882f2a",
   "outputs": [
    {
     "data": {
      "text/plain": [
       "['A549_Enzastaurin (LY317615)_1000.0', 'A549_Raltitrexed_10.0', 'A549_Vehicle_0.0', 'A549_Lenalidomide (CC-5013)_10.0', 'A549_Divalproex Sodium_1000.0', ..., 'K562_TG101209_10000.0', 'K562_Raltitrexed_10000.0', 'K562_Panobinostat (LBH589)_10000.0', 'K562_AT9283_10000.0', 'K562_Mocetinostat (MGCD0103)_10000.0']\n",
       "Length: 2218\n",
       "Categories (2218, object): ['A549_2-Methoxyestradiol (2-MeOE2)_10.0', 'A549_2-Methoxyestradiol (2-MeOE2)_100.0', 'A549_2-Methoxyestradiol (2-MeOE2)_1000.0', 'A549_2-Methoxyestradiol (2-MeOE2)_10000.0', ..., 'MCF7_Zileuton_10.0', 'MCF7_Zileuton_100.0', 'MCF7_Zileuton_1000.0', 'MCF7_Zileuton_10000.0']"
      ]
     },
     "execution_count": 30,
     "metadata": {},
     "output_type": "execute_result"
    }
   ],
   "execution_count": 30
  },
  {
   "metadata": {
    "ExecuteTime": {
     "end_time": "2025-06-13T07:57:41.380651Z",
     "start_time": "2025-06-13T07:57:41.377448Z"
    }
   },
   "cell_type": "code",
   "source": "type(adata_scfilm.obs.fmfp.iloc[0])",
   "id": "c36363c7d063bf47",
   "outputs": [
    {
     "data": {
      "text/plain": [
       "str"
      ]
     },
     "execution_count": 18,
     "metadata": {},
     "output_type": "execute_result"
    }
   ],
   "execution_count": 18
  },
  {
   "metadata": {
    "ExecuteTime": {
     "end_time": "2025-06-13T07:14:42.044502Z",
     "start_time": "2025-06-13T07:14:42.037914Z"
    }
   },
   "cell_type": "code",
   "source": "adata.obs.split_ood.unique()",
   "id": "1c7e7841bab33913",
   "outputs": [
    {
     "data": {
      "text/plain": [
       "['train', 'test', 'ood']\n",
       "Categories (3, object): ['ood', 'test', 'train']"
      ]
     },
     "execution_count": 12,
     "metadata": {},
     "output_type": "execute_result"
    }
   ],
   "execution_count": 12
  },
  {
   "metadata": {
    "ExecuteTime": {
     "end_time": "2025-06-13T08:25:29.873133Z",
     "start_time": "2025-06-13T08:25:29.812Z"
    }
   },
   "cell_type": "code",
   "source": "adata.obs",
   "id": "3e638c389004e26b",
   "outputs": [
    {
     "data": {
      "text/plain": [
       "                                   cell_type    dose dose_character  \\\n",
       "index                                                                 \n",
       "A01_E09_RT_BC_100_Lig_BC_245-0-0-0      A549  1000.0           1000   \n",
       "A01_E09_RT_BC_101_Lig_BC_109-0-0-0      A549     0.0              0   \n",
       "A01_E09_RT_BC_101_Lig_BC_280-0-0-0      A549  1000.0           1000   \n",
       "A01_E09_RT_BC_101_Lig_BC_86-0-0-0       A549   100.0            100   \n",
       "A01_E09_RT_BC_102_Lig_BC_215-0-0-0      A549  1000.0           1000   \n",
       "...                                      ...     ...            ...   \n",
       "H12_F10_RT_BC_8_Lig_BC_55-1-4           K562   100.0            100   \n",
       "H12_F10_RT_BC_93_Lig_BC_202-1-4         K562     0.0              0   \n",
       "H12_F10_RT_BC_97_Lig_BC_224-1-4         K562   100.0            100   \n",
       "H12_F10_RT_BC_98_Lig_BC_170-1-4         K562  1000.0           1000   \n",
       "H12_F10_RT_BC_99_Lig_BC_226-1-4         K562   100.0            100   \n",
       "\n",
       "                                   dose_pattern  g1s_score  g2m_score  \\\n",
       "index                                                                   \n",
       "A01_E09_RT_BC_100_Lig_BC_245-0-0-0            2   1.155964   2.475312   \n",
       "A01_E09_RT_BC_101_Lig_BC_109-0-0-0            3   0.000000   0.000000   \n",
       "A01_E09_RT_BC_101_Lig_BC_280-0-0-0            2   1.637016   0.867074   \n",
       "A01_E09_RT_BC_101_Lig_BC_86-0-0-0             3   0.600151   0.000000   \n",
       "A01_E09_RT_BC_102_Lig_BC_215-0-0-0            2   0.882834   0.882834   \n",
       "...                                         ...        ...        ...   \n",
       "H12_F10_RT_BC_8_Lig_BC_55-1-4                 3   1.078251   3.581061   \n",
       "H12_F10_RT_BC_93_Lig_BC_202-1-4               1   1.326905   2.009802   \n",
       "H12_F10_RT_BC_97_Lig_BC_224-1-4               3   0.000000   2.451281   \n",
       "H12_F10_RT_BC_98_Lig_BC_170-1-4               2   2.144229   1.256134   \n",
       "H12_F10_RT_BC_99_Lig_BC_226-1-4               3   1.361383   1.361383   \n",
       "\n",
       "                                          pathway            pathway_level_1  \\\n",
       "index                                                                          \n",
       "A01_E09_RT_BC_100_Lig_BC_245-0-0-0  TGF-beta/Smad              PKC signaling   \n",
       "A01_E09_RT_BC_101_Lig_BC_109-0-0-0        Vehicle                    Vehicle   \n",
       "A01_E09_RT_BC_101_Lig_BC_280-0-0-0      Ubiquitin      Epigenetic regulation   \n",
       "A01_E09_RT_BC_101_Lig_BC_86-0-0-0      Cell Cycle      Cell cycle regulation   \n",
       "A01_E09_RT_BC_102_Lig_BC_215-0-0-0     DNA Damage      Epigenetic regulation   \n",
       "...                                           ...                        ...   \n",
       "H12_F10_RT_BC_8_Lig_BC_55-1-4          DNA Damage    DNA damage & DNA repair   \n",
       "H12_F10_RT_BC_93_Lig_BC_202-1-4                NA                    Vehicle   \n",
       "H12_F10_RT_BC_97_Lig_BC_224-1-4        Metabolism       Metabolic regulation   \n",
       "H12_F10_RT_BC_98_Lig_BC_170-1-4      Angiogenesis  Tyrosine kinase signaling   \n",
       "H12_F10_RT_BC_99_Lig_BC_226-1-4       Epigenetics         JAK/STAT signaling   \n",
       "\n",
       "                                                      pathway_level_2  \\\n",
       "index                                                                   \n",
       "A01_E09_RT_BC_100_Lig_BC_245-0-0-0                      PKC activitiy   \n",
       "A01_E09_RT_BC_101_Lig_BC_109-0-0-0                            Vehicle   \n",
       "A01_E09_RT_BC_101_Lig_BC_280-0-0-0              Histone deacetylation   \n",
       "A01_E09_RT_BC_101_Lig_BC_86-0-0-0              Aurora kinase activity   \n",
       "A01_E09_RT_BC_102_Lig_BC_215-0-0-0              Histone deacetylation   \n",
       "...                                                               ...   \n",
       "H12_F10_RT_BC_8_Lig_BC_55-1-4                        Alkylating agent   \n",
       "H12_F10_RT_BC_93_Lig_BC_202-1-4                               Vehicle   \n",
       "H12_F10_RT_BC_97_Lig_BC_224-1-4     Isocitrate dehydrogenase activity   \n",
       "H12_F10_RT_BC_98_Lig_BC_170-1-4                          RTK activity   \n",
       "H12_F10_RT_BC_99_Lig_BC_226-1-4                   JAK kinase activity   \n",
       "\n",
       "                                                               product_dose  \\\n",
       "index                                                                         \n",
       "A01_E09_RT_BC_100_Lig_BC_245-0-0-0              Enzastaurin (LY317615)_1000   \n",
       "A01_E09_RT_BC_101_Lig_BC_109-0-0-0                                Vehicle_0   \n",
       "A01_E09_RT_BC_101_Lig_BC_280-0-0-0                   Divalproex Sodium_1000   \n",
       "A01_E09_RT_BC_101_Lig_BC_86-0-0-0                               MLN8054_100   \n",
       "A01_E09_RT_BC_102_Lig_BC_215-0-0-0               Sodium Phenylbutyrate_1000   \n",
       "...                                                                     ...   \n",
       "H12_F10_RT_BC_8_Lig_BC_55-1-4                                 Busulfan _100   \n",
       "H12_F10_RT_BC_93_Lig_BC_202-1-4                                   Vehicle_0   \n",
       "H12_F10_RT_BC_97_Lig_BC_224-1-4                     Ivosidenib (AG-120)_100   \n",
       "H12_F10_RT_BC_98_Lig_BC_170-1-4                               PD173074_1000   \n",
       "H12_F10_RT_BC_99_Lig_BC_226-1-4     Baricitinib (LY3009104, INCB028050)_100   \n",
       "\n",
       "                                    ...  \\\n",
       "index                               ...   \n",
       "A01_E09_RT_BC_100_Lig_BC_245-0-0-0  ...   \n",
       "A01_E09_RT_BC_101_Lig_BC_109-0-0-0  ...   \n",
       "A01_E09_RT_BC_101_Lig_BC_280-0-0-0  ...   \n",
       "A01_E09_RT_BC_101_Lig_BC_86-0-0-0   ...   \n",
       "A01_E09_RT_BC_102_Lig_BC_215-0-0-0  ...   \n",
       "...                                 ...   \n",
       "H12_F10_RT_BC_8_Lig_BC_55-1-4       ...   \n",
       "H12_F10_RT_BC_93_Lig_BC_202-1-4     ...   \n",
       "H12_F10_RT_BC_97_Lig_BC_224-1-4     ...   \n",
       "H12_F10_RT_BC_98_Lig_BC_170-1-4     ...   \n",
       "H12_F10_RT_BC_99_Lig_BC_226-1-4     ...   \n",
       "\n",
       "                                                                                                        SMILES  \\\n",
       "index                                                                                                            \n",
       "A01_E09_RT_BC_100_Lig_BC_245-0-0-0          Cn1cc(C2=C(c3cn(C4CCN(Cc5ccccn5)CC4)c4ccccc34)C(=O)NC2=O)c2ccccc21   \n",
       "A01_E09_RT_BC_101_Lig_BC_109-0-0-0                                                                     CS(C)=O   \n",
       "A01_E09_RT_BC_101_Lig_BC_280-0-0-0                                    CCCC(CCC)C(=O)O.CCCC(CCC)C(=O)[O-].[Na+]   \n",
       "A01_E09_RT_BC_101_Lig_BC_86-0-0-0                 O=C(O)c1ccc(Nc2ncc3c(n2)-c2ccc(Cl)cc2C(c2c(F)cccc2F)=NC3)cc1   \n",
       "A01_E09_RT_BC_102_Lig_BC_215-0-0-0                                                       O=C(CCCc1ccccc1)O[Na]   \n",
       "...                                                                                                        ...   \n",
       "H12_F10_RT_BC_8_Lig_BC_55-1-4                                                       CS(=O)(=O)OCCCCOS(C)(=O)=O   \n",
       "H12_F10_RT_BC_93_Lig_BC_202-1-4                                                                        CS(C)=O   \n",
       "H12_F10_RT_BC_97_Lig_BC_224-1-4     N#Cc1ccnc(N2C(=O)CCC2C(=O)N(c2cncc(F)c2)C(C(=O)NC2CC(F)(F)C2)c2ccccc2Cl)c1   \n",
       "H12_F10_RT_BC_98_Lig_BC_170-1-4                 CCN(CC)CCCCNc1ncc2cc(-c3cc(OC)cc(OC)c3)c(NC(=O)NC(C)(C)C)nc2n1   \n",
       "H12_F10_RT_BC_99_Lig_BC_226-1-4                            CCS(=O)(=O)N1CC(CC#N)(n2cc(-c3ncnc4[nH]ccc34)cn2)C1   \n",
       "\n",
       "                                    split_ood_finetuning split_ho_epigenetic  \\\n",
       "index                                                                          \n",
       "A01_E09_RT_BC_100_Lig_BC_245-0-0-0                 train               train   \n",
       "A01_E09_RT_BC_101_Lig_BC_109-0-0-0                 train               train   \n",
       "A01_E09_RT_BC_101_Lig_BC_280-0-0-0                 train               train   \n",
       "A01_E09_RT_BC_101_Lig_BC_86-0-0-0                  train               train   \n",
       "A01_E09_RT_BC_102_Lig_BC_215-0-0-0                 train                test   \n",
       "...                                                  ...                 ...   \n",
       "H12_F10_RT_BC_8_Lig_BC_55-1-4                      train               train   \n",
       "H12_F10_RT_BC_93_Lig_BC_202-1-4                     test                test   \n",
       "H12_F10_RT_BC_97_Lig_BC_224-1-4                    train               train   \n",
       "H12_F10_RT_BC_98_Lig_BC_170-1-4                    train               train   \n",
       "H12_F10_RT_BC_99_Lig_BC_226-1-4                    train               train   \n",
       "\n",
       "                                    split_ho_epigenetic_all split_random  \\\n",
       "index                                                                      \n",
       "A01_E09_RT_BC_100_Lig_BC_245-0-0-0                    train        train   \n",
       "A01_E09_RT_BC_101_Lig_BC_109-0-0-0                    train        train   \n",
       "A01_E09_RT_BC_101_Lig_BC_280-0-0-0                    train        train   \n",
       "A01_E09_RT_BC_101_Lig_BC_86-0-0-0                     train          ood   \n",
       "A01_E09_RT_BC_102_Lig_BC_215-0-0-0                     test        train   \n",
       "...                                                     ...          ...   \n",
       "H12_F10_RT_BC_8_Lig_BC_55-1-4                         train          ood   \n",
       "H12_F10_RT_BC_93_Lig_BC_202-1-4                        test        train   \n",
       "H12_F10_RT_BC_97_Lig_BC_224-1-4                       train         test   \n",
       "H12_F10_RT_BC_98_Lig_BC_170-1-4                       train        train   \n",
       "H12_F10_RT_BC_99_Lig_BC_226-1-4                       train        train   \n",
       "\n",
       "                                    split_ood     pathway_level_1_groups  \\\n",
       "index                                                                      \n",
       "A01_E09_RT_BC_100_Lig_BC_245-0-0-0      train                         NA   \n",
       "A01_E09_RT_BC_101_Lig_BC_109-0-0-0      train                         NA   \n",
       "A01_E09_RT_BC_101_Lig_BC_280-0-0-0      train      Epigenetic regulation   \n",
       "A01_E09_RT_BC_101_Lig_BC_86-0-0-0       train      Cell cycle regulation   \n",
       "A01_E09_RT_BC_102_Lig_BC_215-0-0-0      train      Epigenetic regulation   \n",
       "...                                       ...                        ...   \n",
       "H12_F10_RT_BC_8_Lig_BC_55-1-4           train    DNA damage & DNA repair   \n",
       "H12_F10_RT_BC_93_Lig_BC_202-1-4          test                         NA   \n",
       "H12_F10_RT_BC_97_Lig_BC_224-1-4         train                         NA   \n",
       "H12_F10_RT_BC_98_Lig_BC_170-1-4         train  Tyrosine kinase signaling   \n",
       "H12_F10_RT_BC_99_Lig_BC_226-1-4         train                         NA   \n",
       "\n",
       "                                               pathway_groups  _indices  \\\n",
       "index                                                                     \n",
       "A01_E09_RT_BC_100_Lig_BC_245-0-0-0                         NA         0   \n",
       "A01_E09_RT_BC_101_Lig_BC_109-0-0-0                         NA         1   \n",
       "A01_E09_RT_BC_101_Lig_BC_280-0-0-0      Histone deacetylation         2   \n",
       "A01_E09_RT_BC_101_Lig_BC_86-0-0-0       Cell cycle regulation         3   \n",
       "A01_E09_RT_BC_102_Lig_BC_215-0-0-0      Histone deacetylation         4   \n",
       "...                                                       ...       ...   \n",
       "H12_F10_RT_BC_8_Lig_BC_55-1-4         DNA damage & DNA repair    354635   \n",
       "H12_F10_RT_BC_93_Lig_BC_202-1-4                            NA    354636   \n",
       "H12_F10_RT_BC_97_Lig_BC_224-1-4                            NA    354637   \n",
       "H12_F10_RT_BC_98_Lig_BC_170-1-4     Tyrosine kinase signaling    354638   \n",
       "H12_F10_RT_BC_99_Lig_BC_226-1-4                            NA    354639   \n",
       "\n",
       "                                   _scvi_cell_type  \n",
       "index                                               \n",
       "A01_E09_RT_BC_100_Lig_BC_245-0-0-0               0  \n",
       "A01_E09_RT_BC_101_Lig_BC_109-0-0-0               0  \n",
       "A01_E09_RT_BC_101_Lig_BC_280-0-0-0               0  \n",
       "A01_E09_RT_BC_101_Lig_BC_86-0-0-0                0  \n",
       "A01_E09_RT_BC_102_Lig_BC_215-0-0-0               0  \n",
       "...                                            ...  \n",
       "H12_F10_RT_BC_8_Lig_BC_55-1-4                    1  \n",
       "H12_F10_RT_BC_93_Lig_BC_202-1-4                  1  \n",
       "H12_F10_RT_BC_97_Lig_BC_224-1-4                  1  \n",
       "H12_F10_RT_BC_98_Lig_BC_170-1-4                  1  \n",
       "H12_F10_RT_BC_99_Lig_BC_226-1-4                  1  \n",
       "\n",
       "[354640 rows x 38 columns]"
      ],
      "text/html": [
       "<div>\n",
       "<style scoped>\n",
       "    .dataframe tbody tr th:only-of-type {\n",
       "        vertical-align: middle;\n",
       "    }\n",
       "\n",
       "    .dataframe tbody tr th {\n",
       "        vertical-align: top;\n",
       "    }\n",
       "\n",
       "    .dataframe thead th {\n",
       "        text-align: right;\n",
       "    }\n",
       "</style>\n",
       "<table border=\"1\" class=\"dataframe\">\n",
       "  <thead>\n",
       "    <tr style=\"text-align: right;\">\n",
       "      <th></th>\n",
       "      <th>cell_type</th>\n",
       "      <th>dose</th>\n",
       "      <th>dose_character</th>\n",
       "      <th>dose_pattern</th>\n",
       "      <th>g1s_score</th>\n",
       "      <th>g2m_score</th>\n",
       "      <th>pathway</th>\n",
       "      <th>pathway_level_1</th>\n",
       "      <th>pathway_level_2</th>\n",
       "      <th>product_dose</th>\n",
       "      <th>...</th>\n",
       "      <th>SMILES</th>\n",
       "      <th>split_ood_finetuning</th>\n",
       "      <th>split_ho_epigenetic</th>\n",
       "      <th>split_ho_epigenetic_all</th>\n",
       "      <th>split_random</th>\n",
       "      <th>split_ood</th>\n",
       "      <th>pathway_level_1_groups</th>\n",
       "      <th>pathway_groups</th>\n",
       "      <th>_indices</th>\n",
       "      <th>_scvi_cell_type</th>\n",
       "    </tr>\n",
       "    <tr>\n",
       "      <th>index</th>\n",
       "      <th></th>\n",
       "      <th></th>\n",
       "      <th></th>\n",
       "      <th></th>\n",
       "      <th></th>\n",
       "      <th></th>\n",
       "      <th></th>\n",
       "      <th></th>\n",
       "      <th></th>\n",
       "      <th></th>\n",
       "      <th></th>\n",
       "      <th></th>\n",
       "      <th></th>\n",
       "      <th></th>\n",
       "      <th></th>\n",
       "      <th></th>\n",
       "      <th></th>\n",
       "      <th></th>\n",
       "      <th></th>\n",
       "      <th></th>\n",
       "      <th></th>\n",
       "    </tr>\n",
       "  </thead>\n",
       "  <tbody>\n",
       "    <tr>\n",
       "      <th>A01_E09_RT_BC_100_Lig_BC_245-0-0-0</th>\n",
       "      <td>A549</td>\n",
       "      <td>1000.0</td>\n",
       "      <td>1000</td>\n",
       "      <td>2</td>\n",
       "      <td>1.155964</td>\n",
       "      <td>2.475312</td>\n",
       "      <td>TGF-beta/Smad</td>\n",
       "      <td>PKC signaling</td>\n",
       "      <td>PKC activitiy</td>\n",
       "      <td>Enzastaurin (LY317615)_1000</td>\n",
       "      <td>...</td>\n",
       "      <td>Cn1cc(C2=C(c3cn(C4CCN(Cc5ccccn5)CC4)c4ccccc34)C(=O)NC2=O)c2ccccc21</td>\n",
       "      <td>train</td>\n",
       "      <td>train</td>\n",
       "      <td>train</td>\n",
       "      <td>train</td>\n",
       "      <td>train</td>\n",
       "      <td>NA</td>\n",
       "      <td>NA</td>\n",
       "      <td>0</td>\n",
       "      <td>0</td>\n",
       "    </tr>\n",
       "    <tr>\n",
       "      <th>A01_E09_RT_BC_101_Lig_BC_109-0-0-0</th>\n",
       "      <td>A549</td>\n",
       "      <td>0.0</td>\n",
       "      <td>0</td>\n",
       "      <td>3</td>\n",
       "      <td>0.000000</td>\n",
       "      <td>0.000000</td>\n",
       "      <td>Vehicle</td>\n",
       "      <td>Vehicle</td>\n",
       "      <td>Vehicle</td>\n",
       "      <td>Vehicle_0</td>\n",
       "      <td>...</td>\n",
       "      <td>CS(C)=O</td>\n",
       "      <td>train</td>\n",
       "      <td>train</td>\n",
       "      <td>train</td>\n",
       "      <td>train</td>\n",
       "      <td>train</td>\n",
       "      <td>NA</td>\n",
       "      <td>NA</td>\n",
       "      <td>1</td>\n",
       "      <td>0</td>\n",
       "    </tr>\n",
       "    <tr>\n",
       "      <th>A01_E09_RT_BC_101_Lig_BC_280-0-0-0</th>\n",
       "      <td>A549</td>\n",
       "      <td>1000.0</td>\n",
       "      <td>1000</td>\n",
       "      <td>2</td>\n",
       "      <td>1.637016</td>\n",
       "      <td>0.867074</td>\n",
       "      <td>Ubiquitin</td>\n",
       "      <td>Epigenetic regulation</td>\n",
       "      <td>Histone deacetylation</td>\n",
       "      <td>Divalproex Sodium_1000</td>\n",
       "      <td>...</td>\n",
       "      <td>CCCC(CCC)C(=O)O.CCCC(CCC)C(=O)[O-].[Na+]</td>\n",
       "      <td>train</td>\n",
       "      <td>train</td>\n",
       "      <td>train</td>\n",
       "      <td>train</td>\n",
       "      <td>train</td>\n",
       "      <td>Epigenetic regulation</td>\n",
       "      <td>Histone deacetylation</td>\n",
       "      <td>2</td>\n",
       "      <td>0</td>\n",
       "    </tr>\n",
       "    <tr>\n",
       "      <th>A01_E09_RT_BC_101_Lig_BC_86-0-0-0</th>\n",
       "      <td>A549</td>\n",
       "      <td>100.0</td>\n",
       "      <td>100</td>\n",
       "      <td>3</td>\n",
       "      <td>0.600151</td>\n",
       "      <td>0.000000</td>\n",
       "      <td>Cell Cycle</td>\n",
       "      <td>Cell cycle regulation</td>\n",
       "      <td>Aurora kinase activity</td>\n",
       "      <td>MLN8054_100</td>\n",
       "      <td>...</td>\n",
       "      <td>O=C(O)c1ccc(Nc2ncc3c(n2)-c2ccc(Cl)cc2C(c2c(F)cccc2F)=NC3)cc1</td>\n",
       "      <td>train</td>\n",
       "      <td>train</td>\n",
       "      <td>train</td>\n",
       "      <td>ood</td>\n",
       "      <td>train</td>\n",
       "      <td>Cell cycle regulation</td>\n",
       "      <td>Cell cycle regulation</td>\n",
       "      <td>3</td>\n",
       "      <td>0</td>\n",
       "    </tr>\n",
       "    <tr>\n",
       "      <th>A01_E09_RT_BC_102_Lig_BC_215-0-0-0</th>\n",
       "      <td>A549</td>\n",
       "      <td>1000.0</td>\n",
       "      <td>1000</td>\n",
       "      <td>2</td>\n",
       "      <td>0.882834</td>\n",
       "      <td>0.882834</td>\n",
       "      <td>DNA Damage</td>\n",
       "      <td>Epigenetic regulation</td>\n",
       "      <td>Histone deacetylation</td>\n",
       "      <td>Sodium Phenylbutyrate_1000</td>\n",
       "      <td>...</td>\n",
       "      <td>O=C(CCCc1ccccc1)O[Na]</td>\n",
       "      <td>train</td>\n",
       "      <td>test</td>\n",
       "      <td>test</td>\n",
       "      <td>train</td>\n",
       "      <td>train</td>\n",
       "      <td>Epigenetic regulation</td>\n",
       "      <td>Histone deacetylation</td>\n",
       "      <td>4</td>\n",
       "      <td>0</td>\n",
       "    </tr>\n",
       "    <tr>\n",
       "      <th>...</th>\n",
       "      <td>...</td>\n",
       "      <td>...</td>\n",
       "      <td>...</td>\n",
       "      <td>...</td>\n",
       "      <td>...</td>\n",
       "      <td>...</td>\n",
       "      <td>...</td>\n",
       "      <td>...</td>\n",
       "      <td>...</td>\n",
       "      <td>...</td>\n",
       "      <td>...</td>\n",
       "      <td>...</td>\n",
       "      <td>...</td>\n",
       "      <td>...</td>\n",
       "      <td>...</td>\n",
       "      <td>...</td>\n",
       "      <td>...</td>\n",
       "      <td>...</td>\n",
       "      <td>...</td>\n",
       "      <td>...</td>\n",
       "      <td>...</td>\n",
       "    </tr>\n",
       "    <tr>\n",
       "      <th>H12_F10_RT_BC_8_Lig_BC_55-1-4</th>\n",
       "      <td>K562</td>\n",
       "      <td>100.0</td>\n",
       "      <td>100</td>\n",
       "      <td>3</td>\n",
       "      <td>1.078251</td>\n",
       "      <td>3.581061</td>\n",
       "      <td>DNA Damage</td>\n",
       "      <td>DNA damage &amp; DNA repair</td>\n",
       "      <td>Alkylating agent</td>\n",
       "      <td>Busulfan _100</td>\n",
       "      <td>...</td>\n",
       "      <td>CS(=O)(=O)OCCCCOS(C)(=O)=O</td>\n",
       "      <td>train</td>\n",
       "      <td>train</td>\n",
       "      <td>train</td>\n",
       "      <td>ood</td>\n",
       "      <td>train</td>\n",
       "      <td>DNA damage &amp; DNA repair</td>\n",
       "      <td>DNA damage &amp; DNA repair</td>\n",
       "      <td>354635</td>\n",
       "      <td>1</td>\n",
       "    </tr>\n",
       "    <tr>\n",
       "      <th>H12_F10_RT_BC_93_Lig_BC_202-1-4</th>\n",
       "      <td>K562</td>\n",
       "      <td>0.0</td>\n",
       "      <td>0</td>\n",
       "      <td>1</td>\n",
       "      <td>1.326905</td>\n",
       "      <td>2.009802</td>\n",
       "      <td>NA</td>\n",
       "      <td>Vehicle</td>\n",
       "      <td>Vehicle</td>\n",
       "      <td>Vehicle_0</td>\n",
       "      <td>...</td>\n",
       "      <td>CS(C)=O</td>\n",
       "      <td>test</td>\n",
       "      <td>test</td>\n",
       "      <td>test</td>\n",
       "      <td>train</td>\n",
       "      <td>test</td>\n",
       "      <td>NA</td>\n",
       "      <td>NA</td>\n",
       "      <td>354636</td>\n",
       "      <td>1</td>\n",
       "    </tr>\n",
       "    <tr>\n",
       "      <th>H12_F10_RT_BC_97_Lig_BC_224-1-4</th>\n",
       "      <td>K562</td>\n",
       "      <td>100.0</td>\n",
       "      <td>100</td>\n",
       "      <td>3</td>\n",
       "      <td>0.000000</td>\n",
       "      <td>2.451281</td>\n",
       "      <td>Metabolism</td>\n",
       "      <td>Metabolic regulation</td>\n",
       "      <td>Isocitrate dehydrogenase activity</td>\n",
       "      <td>Ivosidenib (AG-120)_100</td>\n",
       "      <td>...</td>\n",
       "      <td>N#Cc1ccnc(N2C(=O)CCC2C(=O)N(c2cncc(F)c2)C(C(=O)NC2CC(F)(F)C2)c2ccccc2Cl)c1</td>\n",
       "      <td>train</td>\n",
       "      <td>train</td>\n",
       "      <td>train</td>\n",
       "      <td>test</td>\n",
       "      <td>train</td>\n",
       "      <td>NA</td>\n",
       "      <td>NA</td>\n",
       "      <td>354637</td>\n",
       "      <td>1</td>\n",
       "    </tr>\n",
       "    <tr>\n",
       "      <th>H12_F10_RT_BC_98_Lig_BC_170-1-4</th>\n",
       "      <td>K562</td>\n",
       "      <td>1000.0</td>\n",
       "      <td>1000</td>\n",
       "      <td>2</td>\n",
       "      <td>2.144229</td>\n",
       "      <td>1.256134</td>\n",
       "      <td>Angiogenesis</td>\n",
       "      <td>Tyrosine kinase signaling</td>\n",
       "      <td>RTK activity</td>\n",
       "      <td>PD173074_1000</td>\n",
       "      <td>...</td>\n",
       "      <td>CCN(CC)CCCCNc1ncc2cc(-c3cc(OC)cc(OC)c3)c(NC(=O)NC(C)(C)C)nc2n1</td>\n",
       "      <td>train</td>\n",
       "      <td>train</td>\n",
       "      <td>train</td>\n",
       "      <td>train</td>\n",
       "      <td>train</td>\n",
       "      <td>Tyrosine kinase signaling</td>\n",
       "      <td>Tyrosine kinase signaling</td>\n",
       "      <td>354638</td>\n",
       "      <td>1</td>\n",
       "    </tr>\n",
       "    <tr>\n",
       "      <th>H12_F10_RT_BC_99_Lig_BC_226-1-4</th>\n",
       "      <td>K562</td>\n",
       "      <td>100.0</td>\n",
       "      <td>100</td>\n",
       "      <td>3</td>\n",
       "      <td>1.361383</td>\n",
       "      <td>1.361383</td>\n",
       "      <td>Epigenetics</td>\n",
       "      <td>JAK/STAT signaling</td>\n",
       "      <td>JAK kinase activity</td>\n",
       "      <td>Baricitinib (LY3009104, INCB028050)_100</td>\n",
       "      <td>...</td>\n",
       "      <td>CCS(=O)(=O)N1CC(CC#N)(n2cc(-c3ncnc4[nH]ccc34)cn2)C1</td>\n",
       "      <td>train</td>\n",
       "      <td>train</td>\n",
       "      <td>train</td>\n",
       "      <td>train</td>\n",
       "      <td>train</td>\n",
       "      <td>NA</td>\n",
       "      <td>NA</td>\n",
       "      <td>354639</td>\n",
       "      <td>1</td>\n",
       "    </tr>\n",
       "  </tbody>\n",
       "</table>\n",
       "<p>354640 rows × 38 columns</p>\n",
       "</div>"
      ]
     },
     "execution_count": 20,
     "metadata": {},
     "output_type": "execute_result"
    }
   ],
   "execution_count": 20
  },
  {
   "metadata": {
    "ExecuteTime": {
     "end_time": "2025-06-13T09:43:50.304472Z",
     "start_time": "2025-06-13T09:43:50.283458Z"
    }
   },
   "cell_type": "code",
   "source": [
    "biolord.Biolord.setup_anndata(\n",
    "    adata,\n",
    "    ordered_attributes_keys=[\"rdkit2d_dose\"],\n",
    "    categorical_attributes_keys=[\"cell_type\"],\n",
    "    retrieval_attribute_key=None,\n",
    ")"
   ],
   "id": "c6a4efb4d23e3e95",
   "outputs": [
    {
     "name": "stdout",
     "output_type": "stream",
     "text": [
      "\u001B[34mINFO    \u001B[0m Generating sequential column names                                                                        \n"
     ]
    }
   ],
   "execution_count": 24
  },
  {
   "metadata": {
    "ExecuteTime": {
     "end_time": "2025-06-13T09:43:52.090221Z",
     "start_time": "2025-06-13T09:43:51.548175Z"
    }
   },
   "cell_type": "code",
   "source": [
    "model = biolord.Biolord(\n",
    "    adata=adata,\n",
    "    n_latent=256,\n",
    "    model_name=\"sciplex3\",\n",
    "    module_params=module_params,\n",
    "    train_classifiers=False,\n",
    "    split_key=\"split_ood\",\n",
    ")"
   ],
   "id": "2697996e693a6e63",
   "outputs": [
    {
     "name": "stderr",
     "output_type": "stream",
     "text": [
      "Seed set to 42\n"
     ]
    }
   ],
   "execution_count": 25
  },
  {
   "metadata": {
    "ExecuteTime": {
     "end_time": "2025-06-13T09:48:55.869546Z",
     "start_time": "2025-06-13T09:43:53.022687Z"
    }
   },
   "cell_type": "code",
   "source": [
    "model.train(\n",
    "    max_epochs=10,\n",
    "    batch_size=512,\n",
    "    plan_kwargs=trainer_params,\n",
    "    early_stopping=True,\n",
    "    early_stopping_patience=20,\n",
    "    check_val_every_n_epoch=10,\n",
    "    num_workers=0,\n",
    "    enable_checkpointing=False\n",
    ")"
   ],
   "id": "ccbf755d9b5a5de2",
   "outputs": [
    {
     "name": "stderr",
     "output_type": "stream",
     "text": [
      "GPU available: True (cuda), used: True\n",
      "TPU available: False, using: 0 TPU cores\n",
      "HPU available: False, using: 0 HPUs\n",
      "You are using a CUDA device ('NVIDIA GeForce RTX 4070') that has Tensor Cores. To properly utilize them, you should set `torch.set_float32_matmul_precision('medium' | 'high')` which will trade-off precision for performance. For more details, read https://pytorch.org/docs/stable/generated/torch.set_float32_matmul_precision.html#torch.set_float32_matmul_precision\n",
      "LOCAL_RANK: 0 - CUDA_VISIBLE_DEVICES: [0]\n",
      "C:\\Users\\admin\\.conda\\envs\\biolord\\Lib\\site-packages\\lightning\\pytorch\\trainer\\connectors\\data_connector.py:425: The 'train_dataloader' does not have many workers which may be a bottleneck. Consider increasing the value of the `num_workers` argument` to `num_workers=15` in the `DataLoader` to improve performance.\n",
      "C:\\Users\\admin\\.conda\\envs\\biolord\\Lib\\site-packages\\lightning\\pytorch\\trainer\\connectors\\data_connector.py:425: The 'val_dataloader' does not have many workers which may be a bottleneck. Consider increasing the value of the `num_workers` argument` to `num_workers=15` in the `DataLoader` to improve performance.\n"
     ]
    },
    {
     "data": {
      "text/plain": [
       "Training:   0%|          | 0/10 [00:00<?, ?it/s]"
      ],
      "application/vnd.jupyter.widget-view+json": {
       "version_major": 2,
       "version_minor": 0,
       "model_id": "9cac8c651bd04a11abbc8eed7a38892f"
      }
     },
     "metadata": {},
     "output_type": "display_data"
    },
    {
     "name": "stderr",
     "output_type": "stream",
     "text": [
      "`Trainer.fit` stopped: `max_epochs=10` reached.\n"
     ]
    }
   ],
   "execution_count": 26
  },
  {
   "metadata": {
    "ExecuteTime": {
     "end_time": "2025-06-13T10:23:20.251709Z",
     "start_time": "2025-06-13T10:23:20.243525Z"
    }
   },
   "cell_type": "code",
   "source": "model.training_plan.epoch_history['biolord_metric']",
   "id": "bc1fcc1b4dddf21e",
   "outputs": [
    {
     "data": {
      "text/plain": [
       "[np.float64(-36.14256683814114),\n",
       " np.float64(0.0),\n",
       " np.float64(-7.945800958779351),\n",
       " np.float64(0.0),\n",
       " np.float64(-4.124917484562973),\n",
       " np.float64(0.0),\n",
       " np.float64(-2.1454601665509156),\n",
       " np.float64(0.0),\n",
       " np.float64(-0.510775339757574),\n",
       " np.float64(0.0),\n",
       " np.float64(0.06613431434179175),\n",
       " np.float64(0.0),\n",
       " np.float64(0.08433461420494935),\n",
       " np.float64(0.0),\n",
       " np.float64(0.49937365640854015),\n",
       " np.float64(0.0),\n",
       " np.float64(0.6868480852451818),\n",
       " np.float64(0.0),\n",
       " np.float64(0.6057195624914663),\n",
       " np.float64(0.0)]"
      ]
     },
     "execution_count": 28,
     "metadata": {},
     "output_type": "execute_result"
    }
   ],
   "execution_count": 28
  },
  {
   "metadata": {
    "ExecuteTime": {
     "end_time": "2025-06-11T09:09:03.130395Z",
     "start_time": "2025-06-11T09:09:02.917411Z"
    }
   },
   "cell_type": "code",
   "source": [
    "vals = [\"generative_mean_accuracy\", \"generative_var_accuracy\", \"biolord_metric\"]\n",
    "fig, axs = plt.subplots(nrows=1, ncols=len(vals), figsize=(4 * len(vals), 4))\n",
    "\n",
    "model.epoch_history = pd.DataFrame().from_dict(model.training_plan.epoch_history)\n",
    "for i, val in enumerate(vals):\n",
    "    sns.lineplot(\n",
    "        x=\"epoch\",\n",
    "        y=val,\n",
    "        hue=\"mode\",\n",
    "        data=model.epoch_history,\n",
    "        ax=axs[i],\n",
    "    )\n",
    "\n",
    "plt.tight_layout()\n",
    "plt.show()"
   ],
   "id": "74ddb43910decc7b",
   "outputs": [
    {
     "data": {
      "text/plain": [
       "<Figure size 1200x400 with 3 Axes>"
      ],
      "image/png": "[encoded data removed]"
     },
     "metadata": {},
     "output_type": "display_data"
    }
   ],
   "execution_count": 11
  },
  {
   "metadata": {
    "ExecuteTime": {
     "end_time": "2025-06-11T09:09:25.847792Z",
     "start_time": "2025-06-11T09:09:25.684047Z"
    }
   },
   "cell_type": "code",
   "source": [
    "idx_test_control = np.where(\n",
    "    (adata.obs[\"split_ood\"] == \"test\") & (adata.obs[\"control\"] == 1)\n",
    ")[0]\n",
    "\n",
    "adata_test_control = adata[idx_test_control].copy()\n",
    "\n",
    "idx_ood = np.where((adata.obs[\"split_ood\"] == \"ood\"))[0]\n",
    "\n",
    "adata_ood = adata[idx_ood].copy()\n",
    "dataset_control = model.get_dataset(adata_test_control)\n",
    "dataset_ood = model.get_dataset(adata_ood)"
   ],
   "id": "97de5f493b33c20e",
   "outputs": [
    {
     "name": "stdout",
     "output_type": "stream",
     "text": [
      "\u001B[34mINFO    \u001B[0m AnnData object appears to be a copy. Attempting to transfer setup.                                        \n",
      "\u001B[34mINFO    \u001B[0m AnnData object appears to be a copy. Attempting to transfer setup.                                        \n"
     ]
    }
   ],
   "execution_count": 12
  },
  {
   "metadata": {
    "ExecuteTime": {
     "end_time": "2025-06-11T10:38:44.177477Z",
     "start_time": "2025-06-11T10:38:44.173759Z"
    }
   },
   "cell_type": "code",
   "source": "adata_test_control.obs.product_name.unique()",
   "id": "fe5849fd45cea4a9",
   "outputs": [
    {
     "data": {
      "text/plain": [
       "['control']\n",
       "Categories (1, object): ['control']"
      ]
     },
     "execution_count": 20,
     "metadata": {},
     "output_type": "execute_result"
    }
   ],
   "execution_count": 20
  },
  {
   "metadata": {
    "jupyter": {
     "is_executing": true
    },
    "ExecuteTime": {
     "start_time": "2025-06-11T10:43:00.318112Z"
    }
   },
   "cell_type": "code",
   "source": [
    "res_all = {}\n",
    "\n",
    "res_all[\"baseline\"], _ = compute_baseline(\n",
    "    model=model,\n",
    "    adata=adata_ood,\n",
    "    dataset=dataset_ood,\n",
    "    dataset_control=dataset_control,\n",
    "    use_DEGs=False,\n",
    "    verbose=False,\n",
    ")\n",
    "\n",
    "res_all[\"biolord\"], _ = compute_prediction(\n",
    "    model=model,\n",
    "    adata=adata_ood,\n",
    "    dataset=dataset_ood,\n",
    "    dataset_control=dataset_control,\n",
    "    use_DEGs=False,\n",
    "    verbose=False,\n",
    ")"
   ],
   "id": "c666477bc502120c",
   "outputs": [
    {
     "name": "stdout",
     "output_type": "stream",
     "text": [
      "['A549', 'K562', 'MCF7']\n"
     ]
    },
    {
     "name": "stderr",
     "output_type": "stream",
     "text": [
      "108it [00:00, 190.12it/s]"
     ]
    },
    {
     "name": "stdout",
     "output_type": "stream",
     "text": [
      "['A549', 'K562', 'MCF7']\n"
     ]
    },
    {
     "name": "stderr",
     "output_type": "stream",
     "text": [
      "\n"
     ]
    },
    {
     "data": {
      "text/plain": [],
      "text/html": [
       "<pre style=\"white-space:pre;overflow-x:auto;line-height:normal;font-family:Menlo,'DejaVu Sans Mono',consolas,'Courier New',monospace\"></pre>\n"
      ]
     },
     "metadata": {},
     "output_type": "display_data"
    },
    {
     "data": {
      "text/plain": [],
      "text/html": [
       "<pre style=\"white-space:pre;overflow-x:auto;line-height:normal;font-family:Menlo,'DejaVu Sans Mono',consolas,'Courier New',monospace\"></pre>\n"
      ]
     },
     "metadata": {},
     "output_type": "display_data"
    },
    {
     "data": {
      "text/plain": [],
      "text/html": [
       "<pre style=\"white-space:pre;overflow-x:auto;line-height:normal;font-family:Menlo,'DejaVu Sans Mono',consolas,'Courier New',monospace\"></pre>\n"
      ]
     },
     "metadata": {},
     "output_type": "display_data"
    },
    {
     "name": "stderr",
     "output_type": "stream",
     "text": [
      "0it [00:00, ?it/s]"
     ]
    },
    {
     "data": {
      "text/plain": [],
      "text/html": [
       "<pre style=\"white-space:pre;overflow-x:auto;line-height:normal;font-family:Menlo,'DejaVu Sans Mono',consolas,'Courier New',monospace\"></pre>\n"
      ]
     },
     "metadata": {},
     "output_type": "display_data"
    },
    {
     "data": {
      "text/plain": [],
      "text/html": [
       "<pre style=\"white-space:pre;overflow-x:auto;line-height:normal;font-family:Menlo,'DejaVu Sans Mono',consolas,'Courier New',monospace\"></pre>\n"
      ]
     },
     "metadata": {},
     "output_type": "display_data"
    },
    {
     "data": {
      "text/plain": [],
      "text/html": [
       "<pre style=\"white-space:pre;overflow-x:auto;line-height:normal;font-family:Menlo,'DejaVu Sans Mono',consolas,'Courier New',monospace\"></pre>\n"
      ]
     },
     "metadata": {},
     "output_type": "display_data"
    },
    {
     "data": {
      "text/plain": [],
      "text/html": [
       "<pre style=\"white-space:pre;overflow-x:auto;line-height:normal;font-family:Menlo,'DejaVu Sans Mono',consolas,'Courier New',monospace\"></pre>\n"
      ]
     },
     "metadata": {},
     "output_type": "display_data"
    },
    {
     "data": {
      "text/plain": [],
      "text/html": [
       "<pre style=\"white-space:pre;overflow-x:auto;line-height:normal;font-family:Menlo,'DejaVu Sans Mono',consolas,'Courier New',monospace\"></pre>\n"
      ]
     },
     "metadata": {},
     "output_type": "display_data"
    },
    {
     "data": {
      "text/plain": [],
      "text/html": [
       "<pre style=\"white-space:pre;overflow-x:auto;line-height:normal;font-family:Menlo,'DejaVu Sans Mono',consolas,'Courier New',monospace\"></pre>\n"
      ]
     },
     "metadata": {},
     "output_type": "display_data"
    },
    {
     "data": {
      "text/plain": [],
      "text/html": [
       "<pre style=\"white-space:pre;overflow-x:auto;line-height:normal;font-family:Menlo,'DejaVu Sans Mono',consolas,'Courier New',monospace\"></pre>\n"
      ]
     },
     "metadata": {},
     "output_type": "display_data"
    },
    {
     "data": {
      "text/plain": [],
      "text/html": [
       "<pre style=\"white-space:pre;overflow-x:auto;line-height:normal;font-family:Menlo,'DejaVu Sans Mono',consolas,'Courier New',monospace\"></pre>\n"
      ]
     },
     "metadata": {},
     "output_type": "display_data"
    },
    {
     "data": {
      "text/plain": [],
      "text/html": [
       "<pre style=\"white-space:pre;overflow-x:auto;line-height:normal;font-family:Menlo,'DejaVu Sans Mono',consolas,'Courier New',monospace\"></pre>\n"
      ]
     },
     "metadata": {},
     "output_type": "display_data"
    },
    {
     "data": {
      "text/plain": [],
      "text/html": [
       "<pre style=\"white-space:pre;overflow-x:auto;line-height:normal;font-family:Menlo,'DejaVu Sans Mono',consolas,'Courier New',monospace\"></pre>\n"
      ]
     },
     "metadata": {},
     "output_type": "display_data"
    },
    {
     "data": {
      "text/plain": [],
      "text/html": [
       "<pre style=\"white-space:pre;overflow-x:auto;line-height:normal;font-family:Menlo,'DejaVu Sans Mono',consolas,'Courier New',monospace\"></pre>\n"
      ]
     },
     "metadata": {},
     "output_type": "display_data"
    },
    {
     "data": {
      "text/plain": [],
      "text/html": [
       "<pre style=\"white-space:pre;overflow-x:auto;line-height:normal;font-family:Menlo,'DejaVu Sans Mono',consolas,'Courier New',monospace\"></pre>\n"
      ]
     },
     "metadata": {},
     "output_type": "display_data"
    },
    {
     "data": {
      "text/plain": [],
      "text/html": [
       "<pre style=\"white-space:pre;overflow-x:auto;line-height:normal;font-family:Menlo,'DejaVu Sans Mono',consolas,'Courier New',monospace\"></pre>\n"
      ]
     },
     "metadata": {},
     "output_type": "display_data"
    },
    {
     "data": {
      "text/plain": [],
      "text/html": [
       "<pre style=\"white-space:pre;overflow-x:auto;line-height:normal;font-family:Menlo,'DejaVu Sans Mono',consolas,'Courier New',monospace\"></pre>\n"
      ]
     },
     "metadata": {},
     "output_type": "display_data"
    },
    {
     "data": {
      "text/plain": [],
      "text/html": [
       "<pre style=\"white-space:pre;overflow-x:auto;line-height:normal;font-family:Menlo,'DejaVu Sans Mono',consolas,'Courier New',monospace\"></pre>\n"
      ]
     },
     "metadata": {},
     "output_type": "display_data"
    },
    {
     "data": {
      "text/plain": [],
      "text/html": [
       "<pre style=\"white-space:pre;overflow-x:auto;line-height:normal;font-family:Menlo,'DejaVu Sans Mono',consolas,'Courier New',monospace\"></pre>\n"
      ]
     },
     "metadata": {},
     "output_type": "display_data"
    },
    {
     "data": {
      "text/plain": [],
      "text/html": [
       "<pre style=\"white-space:pre;overflow-x:auto;line-height:normal;font-family:Menlo,'DejaVu Sans Mono',consolas,'Courier New',monospace\"></pre>\n"
      ]
     },
     "metadata": {},
     "output_type": "display_data"
    },
    {
     "data": {
      "text/plain": [],
      "text/html": [
       "<pre style=\"white-space:pre;overflow-x:auto;line-height:normal;font-family:Menlo,'DejaVu Sans Mono',consolas,'Courier New',monospace\"></pre>\n"
      ]
     },
     "metadata": {},
     "output_type": "display_data"
    },
    {
     "data": {
      "text/plain": [],
      "text/html": [
       "<pre style=\"white-space:pre;overflow-x:auto;line-height:normal;font-family:Menlo,'DejaVu Sans Mono',consolas,'Courier New',monospace\"></pre>\n"
      ]
     },
     "metadata": {},
     "output_type": "display_data"
    },
    {
     "data": {
      "text/plain": [],
      "text/html": [
       "<pre style=\"white-space:pre;overflow-x:auto;line-height:normal;font-family:Menlo,'DejaVu Sans Mono',consolas,'Courier New',monospace\"></pre>\n"
      ]
     },
     "metadata": {},
     "output_type": "display_data"
    },
    {
     "data": {
      "text/plain": [],
      "text/html": [
       "<pre style=\"white-space:pre;overflow-x:auto;line-height:normal;font-family:Menlo,'DejaVu Sans Mono',consolas,'Courier New',monospace\"></pre>\n"
      ]
     },
     "metadata": {},
     "output_type": "display_data"
    },
    {
     "data": {
      "text/plain": [],
      "text/html": [
       "<pre style=\"white-space:pre;overflow-x:auto;line-height:normal;font-family:Menlo,'DejaVu Sans Mono',consolas,'Courier New',monospace\"></pre>\n"
      ]
     },
     "metadata": {},
     "output_type": "display_data"
    },
    {
     "data": {
      "text/plain": [],
      "text/html": [
       "<pre style=\"white-space:pre;overflow-x:auto;line-height:normal;font-family:Menlo,'DejaVu Sans Mono',consolas,'Courier New',monospace\"></pre>\n"
      ]
     },
     "metadata": {},
     "output_type": "display_data"
    },
    {
     "data": {
      "text/plain": [],
      "text/html": [
       "<pre style=\"white-space:pre;overflow-x:auto;line-height:normal;font-family:Menlo,'DejaVu Sans Mono',consolas,'Courier New',monospace\"></pre>\n"
      ]
     },
     "metadata": {},
     "output_type": "display_data"
    },
    {
     "data": {
      "text/plain": [],
      "text/html": [
       "<pre style=\"white-space:pre;overflow-x:auto;line-height:normal;font-family:Menlo,'DejaVu Sans Mono',consolas,'Courier New',monospace\"></pre>\n"
      ]
     },
     "metadata": {},
     "output_type": "display_data"
    },
    {
     "data": {
      "text/plain": [],
      "text/html": [
       "<pre style=\"white-space:pre;overflow-x:auto;line-height:normal;font-family:Menlo,'DejaVu Sans Mono',consolas,'Courier New',monospace\"></pre>\n"
      ]
     },
     "metadata": {},
     "output_type": "display_data"
    },
    {
     "data": {
      "text/plain": [],
      "text/html": [
       "<pre style=\"white-space:pre;overflow-x:auto;line-height:normal;font-family:Menlo,'DejaVu Sans Mono',consolas,'Courier New',monospace\"></pre>\n"
      ]
     },
     "metadata": {},
     "output_type": "display_data"
    }
   ],
   "execution_count": null
  },
  {
   "metadata": {
    "ExecuteTime": {
     "end_time": "2025-06-11T09:09:44.601101Z",
     "start_time": "2025-06-11T09:09:44.596470Z"
    }
   },
   "cell_type": "code",
   "source": "res_all",
   "id": "5a108f51e76965cb",
   "outputs": [
    {
     "data": {
      "text/plain": [
       "{'baseline': {'A549_Alvespimycin_0.001': 0.9577896595001221,\n",
       "  'A549_Alvespimycin_0.01': 0.872689962387085,\n",
       "  'A549_Alvespimycin_0.1': 0.8574289083480835,\n",
       "  'A549_Alvespimycin_1.0': 0.8649262189865112,\n",
       "  'A549_Belinostat_0.001': 0.9531940221786499,\n",
       "  'A549_Belinostat_0.01': 0.9444059729576111,\n",
       "  'A549_Belinostat_0.1': 0.8595383763313293,\n",
       "  'A549_Belinostat_1.0': -0.01871204376220703,\n",
       "  'A549_Dacinostat_0.001': 0.8300580382347107,\n",
       "  'A549_Dacinostat_0.01': 0.6379208564758301,\n",
       "  'A549_Dacinostat_0.1': 0.0739450454711914,\n",
       "  'A549_Dacinostat_1.0': -0.15586745738983154,\n",
       "  'A549_Flavopiridol_0.001': 0.9525638222694397,\n",
       "  'A549_Flavopiridol_0.01': 0.8018192052841187,\n",
       "  'A549_Flavopiridol_0.1': 0.9490960240364075,\n",
       "  'A549_Flavopiridol_1.0': 0.9569388031959534,\n",
       "  'A549_Givinostat_0.001': 0.9485700130462646,\n",
       "  'A549_Givinostat_0.01': 0.9401002526283264,\n",
       "  'A549_Givinostat_0.1': 0.839423418045044,\n",
       "  'A549_Givinostat_1.0': 0.01613783836364746,\n",
       "  'A549_Hesperadin_0.001': 0.9367258548736572,\n",
       "  'A549_Hesperadin_0.01': 0.9395638704299927,\n",
       "  'A549_Hesperadin_0.1': 0.9187463521957397,\n",
       "  'A549_Hesperadin_1.0': 0.7504439353942871,\n",
       "  'A549_Quisinostat_0.001': 0.33619117736816406,\n",
       "  'A549_Quisinostat_0.01': 0.15652048587799072,\n",
       "  'A549_Quisinostat_0.1': -0.07961761951446533,\n",
       "  'A549_Quisinostat_1.0': -0.18355107307434082,\n",
       "  'A549_TAK-901_0.001': 0.9641868472099304,\n",
       "  'A549_TAK-901_0.01': 0.9450823664665222,\n",
       "  'A549_TAK-901_0.1': 0.940728485584259,\n",
       "  'A549_TAK-901_1.0': 0.8964060544967651,\n",
       "  'A549_Tanespimycin_0.001': 0.971763014793396,\n",
       "  'A549_Tanespimycin_0.01': 0.9368347525596619,\n",
       "  'A549_Tanespimycin_0.1': 0.8948681950569153,\n",
       "  'A549_Tanespimycin_1.0': 0.8684836626052856,\n",
       "  'K562_Alvespimycin_0.001': 0.9412289261817932,\n",
       "  'K562_Alvespimycin_0.01': 0.762664794921875,\n",
       "  'K562_Alvespimycin_0.1': 0.7169238924980164,\n",
       "  'K562_Alvespimycin_1.0': 0.7471118569374084,\n",
       "  'K562_Belinostat_0.001': 0.9419485330581665,\n",
       "  'K562_Belinostat_0.01': 0.9189436435699463,\n",
       "  'K562_Belinostat_0.1': 0.8329812288284302,\n",
       "  'K562_Belinostat_1.0': 0.16857528686523438,\n",
       "  'K562_Dacinostat_0.001': 0.6619932651519775,\n",
       "  'K562_Dacinostat_0.01': 0.3848843574523926,\n",
       "  'K562_Dacinostat_0.1': 0.11216950416564941,\n",
       "  'K562_Dacinostat_1.0': 0.041062891483306885,\n",
       "  'K562_Flavopiridol_0.001': 0.9285112023353577,\n",
       "  'K562_Flavopiridol_0.01': 0.8568365573883057,\n",
       "  'K562_Flavopiridol_0.1': -0.9277143478393555,\n",
       "  'K562_Flavopiridol_1.0': -0.4667673110961914,\n",
       "  'K562_Givinostat_0.001': 0.9158919453620911,\n",
       "  'K562_Givinostat_0.01': 0.9084116220474243,\n",
       "  'K562_Givinostat_0.1': 0.8263017535209656,\n",
       "  'K562_Givinostat_1.0': -0.07326066493988037,\n",
       "  'K562_Hesperadin_0.001': 0.9236670732498169,\n",
       "  'K562_Hesperadin_0.01': 0.9242872595787048,\n",
       "  'K562_Hesperadin_0.1': 0.9293168783187866,\n",
       "  'K562_Hesperadin_1.0': 0.7244439721107483,\n",
       "  'K562_Quisinostat_0.001': 0.2491055130958557,\n",
       "  'K562_Quisinostat_0.01': 0.19500601291656494,\n",
       "  'K562_Quisinostat_0.1': 0.16099077463150024,\n",
       "  'K562_Quisinostat_1.0': -0.16578340530395508,\n",
       "  'K562_TAK-901_0.001': 0.9481661319732666,\n",
       "  'K562_TAK-901_0.01': 0.9239408373832703,\n",
       "  'K562_TAK-901_0.1': 0.8463250398635864,\n",
       "  'K562_TAK-901_1.0': 0.5934857130050659,\n",
       "  'K562_Tanespimycin_0.001': 0.9381710886955261,\n",
       "  'K562_Tanespimycin_0.01': 0.9248939752578735,\n",
       "  'K562_Tanespimycin_0.1': 0.8017234802246094,\n",
       "  'K562_Tanespimycin_1.0': 0.728998064994812,\n",
       "  'MCF7_Alvespimycin_0.001': 0.9743209481239319,\n",
       "  'MCF7_Alvespimycin_0.01': 0.8441305160522461,\n",
       "  'MCF7_Alvespimycin_0.1': 0.8324955701828003,\n",
       "  'MCF7_Alvespimycin_1.0': 0.25404173135757446,\n",
       "  'MCF7_Belinostat_0.001': 0.9779230952262878,\n",
       "  'MCF7_Belinostat_0.01': 0.9524937868118286,\n",
       "  'MCF7_Belinostat_0.1': 0.8658549189567566,\n",
       "  'MCF7_Belinostat_1.0': 0.15500879287719727,\n",
       "  'MCF7_Dacinostat_0.001': 0.8538174629211426,\n",
       "  'MCF7_Dacinostat_0.01': 0.7211574912071228,\n",
       "  'MCF7_Dacinostat_0.1': 0.1508166790008545,\n",
       "  'MCF7_Dacinostat_1.0': -0.010811567306518555,\n",
       "  'MCF7_Flavopiridol_0.001': 0.9579081535339355,\n",
       "  'MCF7_Flavopiridol_0.01': 0.7313370704650879,\n",
       "  'MCF7_Flavopiridol_0.1': -0.6996438503265381,\n",
       "  'MCF7_Flavopiridol_1.0': -0.9732710123062134,\n",
       "  'MCF7_Givinostat_0.001': 0.9692937135696411,\n",
       "  'MCF7_Givinostat_0.01': 0.9567049145698547,\n",
       "  'MCF7_Givinostat_0.1': 0.883115291595459,\n",
       "  'MCF7_Givinostat_1.0': 0.07252222299575806,\n",
       "  'MCF7_Hesperadin_0.001': 0.9561223983764648,\n",
       "  'MCF7_Hesperadin_0.01': 0.9475027322769165,\n",
       "  'MCF7_Hesperadin_0.1': 0.9323359727859497,\n",
       "  'MCF7_Hesperadin_1.0': 0.7795521020889282,\n",
       "  'MCF7_Quisinostat_0.001': 0.4483957886695862,\n",
       "  'MCF7_Quisinostat_0.01': 0.22996336221694946,\n",
       "  'MCF7_Quisinostat_0.1': 0.0299111008644104,\n",
       "  'MCF7_Quisinostat_1.0': -0.03835427761077881,\n",
       "  'MCF7_TAK-901_0.001': 0.9732033610343933,\n",
       "  'MCF7_TAK-901_0.01': 0.9688761234283447,\n",
       "  'MCF7_TAK-901_0.1': 0.9432386755943298,\n",
       "  'MCF7_TAK-901_1.0': 0.8101950883865356,\n",
       "  'MCF7_Tanespimycin_0.001': 0.9778382778167725,\n",
       "  'MCF7_Tanespimycin_0.01': 0.8885151743888855,\n",
       "  'MCF7_Tanespimycin_0.1': 0.8449822664260864,\n",
       "  'MCF7_Tanespimycin_1.0': 0.832456111907959},\n",
       " 'biolord': {'A549_Alvespimycin_0.001': 0.9646499752998352,\n",
       "  'A549_Alvespimycin_0.01': 0.8721797466278076,\n",
       "  'A549_Alvespimycin_0.1': 0.8585273027420044,\n",
       "  'A549_Alvespimycin_1.0': 0.8519325852394104,\n",
       "  'A549_Belinostat_0.001': 0.9492145776748657,\n",
       "  'A549_Belinostat_0.01': 0.949526846408844,\n",
       "  'A549_Belinostat_0.1': 0.9072948098182678,\n",
       "  'A549_Belinostat_1.0': 0.9129108190536499,\n",
       "  'A549_Dacinostat_0.001': 0.798420786857605,\n",
       "  'A549_Dacinostat_0.01': 0.8889391422271729,\n",
       "  'A549_Dacinostat_0.1': 0.895971953868866,\n",
       "  'A549_Dacinostat_1.0': 0.9490180015563965,\n",
       "  'A549_Flavopiridol_0.001': 0.9570375680923462,\n",
       "  'A549_Flavopiridol_0.01': 0.8335884809494019,\n",
       "  'A549_Flavopiridol_0.1': 0.9621821045875549,\n",
       "  'A549_Flavopiridol_1.0': 0.9665364027023315,\n",
       "  'A549_Givinostat_0.001': 0.953600287437439,\n",
       "  'A549_Givinostat_0.01': 0.9466614127159119,\n",
       "  'A549_Givinostat_0.1': 0.8649831414222717,\n",
       "  'A549_Givinostat_1.0': 0.8270659446716309,\n",
       "  'A549_Hesperadin_0.001': 0.9310044050216675,\n",
       "  'A549_Hesperadin_0.01': 0.9377468824386597,\n",
       "  'A549_Hesperadin_0.1': 0.9363963007926941,\n",
       "  'A549_Hesperadin_1.0': 0.7230294942855835,\n",
       "  'A549_Quisinostat_0.001': 0.38125020265579224,\n",
       "  'A549_Quisinostat_0.01': 0.21377843618392944,\n",
       "  'A549_Quisinostat_0.1': -0.018435359001159668,\n",
       "  'A549_Quisinostat_1.0': 0.15797793865203857,\n",
       "  'A549_TAK-901_0.001': 0.9585068821907043,\n",
       "  'A549_TAK-901_0.01': 0.9333184957504272,\n",
       "  'A549_TAK-901_0.1': 0.940912127494812,\n",
       "  'A549_TAK-901_1.0': 0.9115790724754333,\n",
       "  'A549_Tanespimycin_0.001': 0.9721567630767822,\n",
       "  'A549_Tanespimycin_0.01': 0.9367790818214417,\n",
       "  'A549_Tanespimycin_0.1': 0.8939138650894165,\n",
       "  'A549_Tanespimycin_1.0': 0.5783340930938721,\n",
       "  'K562_Alvespimycin_0.001': 0.9366970062255859,\n",
       "  'K562_Alvespimycin_0.01': 0.7778826355934143,\n",
       "  'K562_Alvespimycin_0.1': 0.7583267688751221,\n",
       "  'K562_Alvespimycin_1.0': 0.7711724042892456,\n",
       "  'K562_Belinostat_0.001': 0.874792754650116,\n",
       "  'K562_Belinostat_0.01': 0.8939265608787537,\n",
       "  'K562_Belinostat_0.1': 0.8395493626594543,\n",
       "  'K562_Belinostat_1.0': 0.8345850706100464,\n",
       "  'K562_Dacinostat_0.001': 0.831478476524353,\n",
       "  'K562_Dacinostat_0.01': 0.8664847016334534,\n",
       "  'K562_Dacinostat_0.1': 0.8492454886436462,\n",
       "  'K562_Dacinostat_1.0': 0.8611704111099243,\n",
       "  'K562_Flavopiridol_0.001': 0.8696199655532837,\n",
       "  'K562_Flavopiridol_0.01': 0.8475223779678345,\n",
       "  'K562_Flavopiridol_0.1': -0.24641108512878418,\n",
       "  'K562_Flavopiridol_1.0': -0.10755085945129395,\n",
       "  'K562_Givinostat_0.001': 0.8889225721359253,\n",
       "  'K562_Givinostat_0.01': 0.8852832913398743,\n",
       "  'K562_Givinostat_0.1': 0.8547886610031128,\n",
       "  'K562_Givinostat_1.0': 0.8132137060165405,\n",
       "  'K562_Hesperadin_0.001': 0.8328417539596558,\n",
       "  'K562_Hesperadin_0.01': 0.827059268951416,\n",
       "  'K562_Hesperadin_0.1': 0.8559828996658325,\n",
       "  'K562_Hesperadin_1.0': 0.56009840965271,\n",
       "  'K562_Quisinostat_0.001': 0.4314255118370056,\n",
       "  'K562_Quisinostat_0.01': 0.3985045552253723,\n",
       "  'K562_Quisinostat_0.1': 0.348946750164032,\n",
       "  'K562_Quisinostat_1.0': 0.532784640789032,\n",
       "  'K562_TAK-901_0.001': 0.9000368714332581,\n",
       "  'K562_TAK-901_0.01': 0.8583642244338989,\n",
       "  'K562_TAK-901_0.1': 0.8217233419418335,\n",
       "  'K562_TAK-901_1.0': 0.7189041376113892,\n",
       "  'K562_Tanespimycin_0.001': 0.9053010940551758,\n",
       "  'K562_Tanespimycin_0.01': 0.915786623954773,\n",
       "  'K562_Tanespimycin_0.1': 0.8257930278778076,\n",
       "  'K562_Tanespimycin_1.0': 0.4997105002403259,\n",
       "  'MCF7_Alvespimycin_0.001': 0.9342684149742126,\n",
       "  'MCF7_Alvespimycin_0.01': 0.8688550591468811,\n",
       "  'MCF7_Alvespimycin_0.1': 0.8702056407928467,\n",
       "  'MCF7_Alvespimycin_1.0': 0.6173347234725952,\n",
       "  'MCF7_Belinostat_0.001': 0.8717546463012695,\n",
       "  'MCF7_Belinostat_0.01': 0.8466196060180664,\n",
       "  'MCF7_Belinostat_0.1': 0.8331247568130493,\n",
       "  'MCF7_Belinostat_1.0': 0.8461082577705383,\n",
       "  'MCF7_Dacinostat_0.001': 0.7059338688850403,\n",
       "  'MCF7_Dacinostat_0.01': 0.8249281644821167,\n",
       "  'MCF7_Dacinostat_0.1': 0.9182509779930115,\n",
       "  'MCF7_Dacinostat_1.0': 0.948989748954773,\n",
       "  'MCF7_Flavopiridol_0.001': 0.7697355151176453,\n",
       "  'MCF7_Flavopiridol_0.01': 0.7338294982910156,\n",
       "  'MCF7_Flavopiridol_0.1': 0.24694585800170898,\n",
       "  'MCF7_Flavopiridol_1.0': 0.20357823371887207,\n",
       "  'MCF7_Givinostat_0.001': 0.9027131795883179,\n",
       "  'MCF7_Givinostat_0.01': 0.8948068022727966,\n",
       "  'MCF7_Givinostat_0.1': 0.849624752998352,\n",
       "  'MCF7_Givinostat_1.0': 0.8517226576805115,\n",
       "  'MCF7_Hesperadin_0.001': 0.835218608379364,\n",
       "  'MCF7_Hesperadin_0.01': 0.8302898406982422,\n",
       "  'MCF7_Hesperadin_0.1': 0.8492182493209839,\n",
       "  'MCF7_Hesperadin_1.0': 0.511879026889801,\n",
       "  'MCF7_Quisinostat_0.001': 0.5364790558815002,\n",
       "  'MCF7_Quisinostat_0.01': 0.34471994638442993,\n",
       "  'MCF7_Quisinostat_0.1': 0.1800593137741089,\n",
       "  'MCF7_Quisinostat_1.0': 0.34456074237823486,\n",
       "  'MCF7_TAK-901_0.001': 0.8468873500823975,\n",
       "  'MCF7_TAK-901_0.01': 0.8590278029441833,\n",
       "  'MCF7_TAK-901_0.1': 0.8443875908851624,\n",
       "  'MCF7_TAK-901_1.0': 0.8051590919494629,\n",
       "  'MCF7_Tanespimycin_0.001': 0.9266268610954285,\n",
       "  'MCF7_Tanespimycin_0.01': 0.8847775459289551,\n",
       "  'MCF7_Tanespimycin_0.1': 0.8663724660873413,\n",
       "  'MCF7_Tanespimycin_1.0': 0.44264960289001465}}"
      ]
     },
     "execution_count": 14,
     "metadata": {},
     "output_type": "execute_result"
    }
   ],
   "execution_count": 14
  },
  {
   "metadata": {},
   "cell_type": "code",
   "outputs": [],
   "execution_count": null,
   "source": "",
   "id": "41fafb2ce0ede8ad"
  }
 ],
 "metadata": {
  "kernelspec": {
   "display_name": "Python 3 (ipykernel)",
   "language": "python",
   "name": "python3"
  },
  "language_info": {
   "codemirror_mode": {
    "name": "ipython",
    "version": 3
   },
   "file_extension": ".py",
   "mimetype": "text/x-python",
   "name": "python",
   "nbconvert_exporter": "python",
   "pygments_lexer": "ipython3",
   "version": "3.12.7"
  }
 },
 "nbformat": 4,
 "nbformat_minor": 5
}
