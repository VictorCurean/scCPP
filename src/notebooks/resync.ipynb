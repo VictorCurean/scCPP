{
 "cells": [
  {
   "cell_type": "code",
   "execution_count": 1,
   "id": "dcbff64a-5342-43e4-aaa7-db603e59e0f0",
   "metadata": {},
   "outputs": [],
   "source": [
    "import scanpy as sc\n",
    "import anndata as ad"
   ]
  },
  {
   "cell_type": "code",
   "execution_count": 2,
   "id": "038bccf9-7787-4d46-bc9f-571d5e07d47f",
   "metadata": {},
   "outputs": [],
   "source": [
    "adata_raw = ad.read_h5ad(\"../../data/sciplex/sciplex3_uce_adata.h5ad\")"
   ]
  },
  {
   "cell_type": "code",
   "execution_count": 3,
   "id": "ba44ef9c-7e40-4353-bda7-27ada0af5db7",
   "metadata": {},
   "outputs": [],
   "source": [
    "adata_pp = ad.read_h5ad(\"../../data/sciplex/sciplex_preprocessed.h5ad\")"
   ]
  },
  {
   "cell_type": "code",
   "execution_count": 15,
   "id": "de9c7857-719a-412c-a8cd-12e09cc24467",
   "metadata": {},
   "outputs": [],
   "source": [
    "tumour_apc_sig = [\n",
    "    \"PIK3CD\", \"MIIP\", \"EFHD2\", \"ALDH4A1\", \"FUCA1\", \"ZDHHC18\", \"STX12\", \"THEMIS2\", \"LAPTM5\", \"MYCL\",\n",
    "    \"PPT1\", \"CFAP57\", \"ELOVL1\", \"ATP6V0B\", \"EFCAB14\", \"YIPF1\", \"CTH\", \"SLC44A5\", \"MCOLN2\", \"GTF2B\",\n",
    "    \"DIPK1A\", \"ELAPOR1\", \"KCNC4\", \"CD53\", \"CTTNBP2NL\", \"PPM1J\", \"LINC01356\", \"ATP1A1\", \"NOTCH2\", \"TXNIP\",\n",
    "    \"NBPF14\", \"PLEKHO1\", \"C1orf54\", \"MCL1\", \"ENSA\", \"CTSS\", \"SCNM1\", \"S100A9\", \"IL6R\", \"IFI16\",\n",
    "    \"SLAMF8\", \"SLAMF9\", \"ATP1A2\", \"CD84\", \"CD48\", \"SLAMF7\", \"F11R\", \"FCGR2A\", \"FCGR2B\", \"GPA33\",\n",
    "    \"SFT2D2\", \"TBX19\", \"SELL\", \"TNFSF18\", \"KLHL20\", \"KIAA0040\", \"COP1\", \"IER5\", \"NIBAN1\", \"DENND1B\",\n",
    "    \"PTPRC\", \"PLEKHA6\", \"CDK18\", \"RAB29\", \"RAB7B\", \"RASSF5\", \"CD55\", \"LPGAT1\", \"BATF3\", \"GPR137B\",\n",
    "    \"ERO1B\", \"ZNF124\", \"NLRP3\", \"ZNF672\", \"ID2\", \"GRHL1\", \"ITSN2\", \"YPEL5\", \"NLRC4\", \"RASGRP3\",\n",
    "    \"MAP4K3\", \"EML4-AS1\", \"EML4\", \"CCDC88A\", \"PELI1\", \"AFTPH\", \"PLEK\", \"MXD1\", \"NAGK\", \"DYSF\",\n",
    "    \"VAMP8\", \"TMEM150A\", \"CNNM4\", \"MGAT4A\", \"RNF149\", \"IL18R1\", \"BCL2L11\", \"MYO7B\", \"HNMT\", \"SPOPL\",\n",
    "    \"TANK\", \"GCA\", \"CERS6\", \"DHRS9\", \"WIPF1\", \"NFE2L2\", \"CAVIN2\", \"ANKRD44\", \"CFLAR\", \"CASP10\",\n",
    "    \"GPR1\", \"CCNYL1\", \"PLEKHM3\", \"TMEM169\", \"CXCR2\", \"ARPC2\", \"TMBIM1\", \"CNPPD1\", \"SP110\", \"INPP5D\",\n",
    "    \"LMCD1\", \"MTMR14\", \"GRIP2\", \"SH3BP5\", \"RAB5A\", \"KAT2B\", \"MYD88\", \"CTNNB1\", \"SPINK8\", \"DNASE1L3\",\n",
    "    \"CRYBG3\", \"GABRR3\", \"BTLA\", \"ATP6V1A\", \"B4GALT4\", \"ARHGAP31\", \"CD80\", \"PLA1A\", \"HCLS1\", \"PARP14\",\n",
    "    \"OSBPL11\", \"MBD4\", \"ACP3\", \"PLSCR1\", \"RNF13\", \"MFSD1\", \"TNFSF10\", \"KLHL6\", \"MAGEF1\", \"MAP3K13\",\n",
    "    \"BCL6\", \"CLDN1\", \"RUBCN\", \"SH3BP2\", \"LAP3\", \"SEL1L3\", \"RBPJ\", \"KLF3\", \"TLR1\", \"TLR6\",\n",
    "    \"KLHL5\", \"RBM47\", \"PARM1\", \"NAAA\", \"SEPTIN11\", \"CDS1\", \"AFF1\", \"HERC3\", \"GPRIN3\", \"DAPP1\",\n",
    "    \"TET2\", \"CAMK2D\", \"SEC24D\", \"USP53\", \"ANXA5\", \"FBXW7\", \"FNIP2\", \"IRF2\", \"OTULINL\", \"FYB1\",\n",
    "    \"ZSWIM6\", \"CD180\", \"NAIP\", \"ZNF366\", \"IQGAP2\", \"ARSB\", \"GLRX\", \"ERAP1\", \"TRIM36\", \"FEM1C\",\n",
    "    \"SNX2\", \"MARCHF3\", \"IRF1\", \"CD74\", \"CCDC69\", \"GM2A\", \"CNOT8\", \"IL12B\", \"LCP2\", \"ATP6V0E1\",\n",
    "    \"CREBRF\", \"DBN1\", \"PHYKPL\", \"MGAT1\", \"SERPINB1\", \"NEDD9\", \"GMPR\", \"ATXN1\", \"TPMT\", \"KDM1B\",\n",
    "    \"TRIM38\", \"BTN2A2\", \"HLA-F\", \"HLA-E\", \"PPP1R18\", \"HLA-C\", \"HLA-B\", \"LST1\", \"AIF1\", \"GPSM3\",\n",
    "    \"HLA-DRA\", \"HLA-DRB5\", \"HLA-DRB1\", \"HLA-DQA1\", \"HLA-DQB1\", \"HLA-DMB\", \"HLA-DMA\", \"HLA-DPA1\", \"HLA-DPB1\", \"RGL2\",\n",
    "    \"TAPBP\", \"FGD2\", \"TREML2\", \"TRERF1\", \"NFKBIE\", \"TNFRSF21\", \"PAQR8\", \"FAM135A\", \"AKIRIN2\", \"UBE2J1\",\n",
    "    \"CD164\", \"FYN\", \"HDAC2-AS2\", \"DSE\", \"MAN1A1\", \"NCOA7\", \"STX7\", \"VNN2\", \"SGK1\", \"LINC01010\",\n",
    "    \"MAP3K5\", \"WAKMAR2\", \"TNFAIP3\", \"HECA\", \"CITED2\", \"RAB32\", \"PPP1R14C\", \"RNASET2\", \"SNX13\", \"CCDC126\",\n",
    "    \"SKAP2\", \"CPVL\", \"DBNL\", \"IKZF1\", \"GUSB\", \"TPST1\", \"NCF1\", \"TMEM243\", \"SAMD9L\", \"AGFG2\"\n",
    "]"
   ]
  },
  {
   "cell_type": "code",
   "execution_count": 4,
   "id": "61cb01ca-a63d-4804-b775-fc1744542a57",
   "metadata": {},
   "outputs": [],
   "source": [
    "sm_emb_dict = dict()\n",
    "\n",
    "for sm in adata_pp.obs['product_name'].unique():\n",
    "    ad_subset = adata_pp[adata_pp.obs['product_name'] == sm]\n",
    "    emb = list(set(list(ad_subset.obs['sm_embedding'])))\n",
    "    assert len(emb) == 1\n",
    "\n",
    "    sm_emb_dict[sm] = emb\n",
    "    "
   ]
  },
  {
   "cell_type": "code",
   "execution_count": 5,
   "id": "f396c54b-2edc-4521-bd75-9ea79633f305",
   "metadata": {},
   "outputs": [],
   "source": [
    "sm_emb_list = list()\n",
    "for compound in adata_raw.obs['product_name']:\n",
    "    if compound in sm_emb_dict.keys():\n",
    "        sm_emb_list.append(sm_emb_dict[compound])\n",
    "    else:\n",
    "        sm_emb_list.append(\"NO_EMBEDDING\")\n",
    "\n",
    "\n",
    "    "
   ]
  },
  {
   "cell_type": "code",
   "execution_count": 6,
   "id": "6dd9d997-6cb9-48bb-b9b9-f77075611212",
   "metadata": {},
   "outputs": [
    {
     "data": {
      "text/plain": [
       "581766"
      ]
     },
     "execution_count": 6,
     "metadata": {},
     "output_type": "execute_result"
    }
   ],
   "source": [
    "len(sm_emb_list)"
   ]
  },
  {
   "cell_type": "code",
   "execution_count": 7,
   "id": "bda9e850-0fee-42e6-b128-2615f9fe9dc2",
   "metadata": {},
   "outputs": [],
   "source": [
    "adata_raw.obs['sm_embedding'] = sm_emb_list\n",
    "adata_raw = adata_raw[adata_raw.obs['sm_embedding'] != \"NO_EMBEDDING\"]"
   ]
  },
  {
   "cell_type": "code",
   "execution_count": 8,
   "id": "ac8822ff-90b6-4151-b5b9-3bdf8b025018",
   "metadata": {},
   "outputs": [
    {
     "data": {
      "text/plain": [
       "View of AnnData object with n_obs × n_vars = 571895 × 17376\n",
       "    obs: 'cell_type', 'dose', 'dose_character', 'dose_pattern', 'g1s_score', 'g2m_score', 'pathway', 'pathway_level_1', 'pathway_level_2', 'product_dose', 'product_name', 'proliferation_index', 'replicate', 'size_factor', 'target', 'vehicle', 'n_genes', 'sm_embedding'\n",
       "    var: 'id', 'num_cells_expressed-0-0', 'num_cells_expressed-1-0', 'num_cells_expressed-1', 'n_cells'\n",
       "    obsm: 'X_uce'"
      ]
     },
     "execution_count": 8,
     "metadata": {},
     "output_type": "execute_result"
    }
   ],
   "source": [
    "adata_raw"
   ]
  },
  {
   "cell_type": "code",
   "execution_count": 9,
   "id": "c0f0dd98-2a0f-426e-89aa-1c73d46541a0",
   "metadata": {},
   "outputs": [
    {
     "name": "stderr",
     "output_type": "stream",
     "text": [
      "/apps/miniconda3/envs/dege-fm-distance/lib/python3.11/site-packages/scanpy/preprocessing/_simple.py:168: ImplicitModificationWarning: Trying to modify attribute `.obs` of view, initializing view as actual.\n",
      "  adata.obs[\"n_genes\"] = number\n"
     ]
    }
   ],
   "source": [
    "sc.pp.filter_cells(adata_raw, min_genes=100)\n",
    "sc.pp.filter_genes(adata_raw, min_cells=10)"
   ]
  },
  {
   "cell_type": "code",
   "execution_count": 32,
   "id": "8edbb2d5-86ac-4d38-b2e5-388fda5ffa10",
   "metadata": {},
   "outputs": [
    {
     "data": {
      "text/plain": [
       "AnnData object with n_obs × n_vars = 571696 × 17371\n",
       "    obs: 'cell_type', 'dose', 'dose_character', 'dose_pattern', 'g1s_score', 'g2m_score', 'pathway', 'pathway_level_1', 'pathway_level_2', 'product_dose', 'product_name', 'proliferation_index', 'replicate', 'size_factor', 'target', 'vehicle', 'n_genes', 'sm_embedding'\n",
       "    var: 'id', 'num_cells_expressed-0-0', 'num_cells_expressed-1-0', 'num_cells_expressed-1', 'n_cells', 'highly_variable', 'means', 'dispersions', 'dispersions_norm'\n",
       "    uns: 'log1p', 'hvg'\n",
       "    obsm: 'X_uce'"
      ]
     },
     "execution_count": 32,
     "metadata": {},
     "output_type": "execute_result"
    }
   ],
   "source": [
    "adata_raw"
   ]
  },
  {
   "cell_type": "code",
   "execution_count": 11,
   "id": "bf5886ba-a43b-4ff7-be9b-3043d97779b4",
   "metadata": {},
   "outputs": [],
   "source": [
    "sc.pp.normalize_total(adata_raw)\n",
    "sc.pp.log1p(adata_raw)"
   ]
  },
  {
   "cell_type": "code",
   "execution_count": 36,
   "id": "10f398cb-e8af-4d8c-939b-969222fb3a94",
   "metadata": {},
   "outputs": [
    {
     "name": "stdout",
     "output_type": "stream",
     "text": [
      "1000\n",
      "1500\n",
      "2000\n",
      "2500\n",
      "3000\n",
      "3500\n",
      "4000\n",
      "4500\n",
      "5000\n",
      "5500\n",
      "6000\n",
      "6500\n",
      "7000\n"
     ]
    }
   ],
   "source": [
    "results = dict()\n",
    "\n",
    "for n_genes_hvar in range(1000, 7500, 500):\n",
    "    print(n_genes_hvar)\n",
    "    sc.pp.highly_variable_genes(adata_raw, n_top_genes=n_genes_hvar)\n",
    "    adata_hvg = adata_raw[:, adata_raw.var['highly_variable']]\n",
    "    \n",
    "    i = 0\n",
    "    for gene in tumour_apc_sig:\n",
    "        if gene in list(adata_hvg.var_names):\n",
    "            i+=1\n",
    "\n",
    "    results[n_genes_hvar] = i\n",
    "    "
   ]
  },
  {
   "cell_type": "code",
   "execution_count": 37,
   "id": "c8f69a34-5ac5-46e4-bb83-9e786f828cc1",
   "metadata": {},
   "outputs": [
    {
     "data": {
      "text/plain": [
       "{1000: 29,\n",
       " 1500: 42,\n",
       " 2000: 55,\n",
       " 2500: 71,\n",
       " 3000: 77,\n",
       " 3500: 83,\n",
       " 4000: 88,\n",
       " 4500: 93,\n",
       " 5000: 104,\n",
       " 5500: 111,\n",
       " 6000: 116,\n",
       " 6500: 125,\n",
       " 7000: 127}"
      ]
     },
     "execution_count": 37,
     "metadata": {},
     "output_type": "execute_result"
    }
   ],
   "source": [
    "results"
   ]
  },
  {
   "cell_type": "code",
   "execution_count": 22,
   "id": "dfa290ba-7550-48ed-a9c6-b286e7ae6b09",
   "metadata": {},
   "outputs": [],
   "source": [
    "adata_hvg_5000 = adata_raw[:, adata_raw.var['highly_variable']]"
   ]
  },
  {
   "cell_type": "code",
   "execution_count": 23,
   "id": "9c8d47cb-6463-4f51-9806-bff5b15a4d88",
   "metadata": {},
   "outputs": [
    {
     "data": {
      "text/plain": [
       "View of AnnData object with n_obs × n_vars = 571696 × 2000\n",
       "    obs: 'cell_type', 'dose', 'dose_character', 'dose_pattern', 'g1s_score', 'g2m_score', 'pathway', 'pathway_level_1', 'pathway_level_2', 'product_dose', 'product_name', 'proliferation_index', 'replicate', 'size_factor', 'target', 'vehicle', 'n_genes', 'sm_embedding'\n",
       "    var: 'id', 'num_cells_expressed-0-0', 'num_cells_expressed-1-0', 'num_cells_expressed-1', 'n_cells', 'highly_variable', 'means', 'dispersions', 'dispersions_norm'\n",
       "    uns: 'log1p', 'hvg'\n",
       "    obsm: 'X_uce'"
      ]
     },
     "execution_count": 23,
     "metadata": {},
     "output_type": "execute_result"
    }
   ],
   "source": [
    "adata_hvg_5000"
   ]
  },
  {
   "cell_type": "code",
   "execution_count": 35,
   "id": "d7fe635d-10f5-4ffa-92dc-4cbbeb93f0f5",
   "metadata": {},
   "outputs": [
    {
     "name": "stdout",
     "output_type": "stream",
     "text": [
      "55\n",
      "270\n"
     ]
    }
   ],
   "source": [
    "i = 0\n",
    "for gene in tumour_apc_sig:\n",
    "    if gene in list(adata_hvg_5000.var_names):\n",
    "        i+=1\n",
    "\n",
    "print(i)\n",
    "\n",
    "print(len(tumour_apc_sig))"
   ]
  },
  {
   "cell_type": "code",
   "execution_count": 46,
   "id": "01e1b480-5324-4ebb-951a-069df8a598f7",
   "metadata": {},
   "outputs": [
    {
     "data": {
      "image/png": "[encoded data removed]",
      "text/plain": [
       "<Figure size 800x500 with 1 Axes>"
      ]
     },
     "metadata": {},
     "output_type": "display_data"
    }
   ],
   "source": [
    "import matplotlib.pyplot as plt\n",
    "\n",
    "# Data\n",
    "hvg_dict = {\n",
    "    1000: 29, 1500: 42, 2000: 55, 2500: 71, 3000: 77, 3500: 83, 4000: 88, \n",
    "    4500: 93, 5000: 104, 5500: 111, 6000: 116, 6500: 125, 7000: 127\n",
    "}\n",
    "total_genes = 255  # Total number of genes in your list\n",
    "\n",
    "# Extract keys and values\n",
    "hvg_counts = list(hvg_dict.keys())\n",
    "overlap_counts = list(hvg_dict.values())\n",
    "\n",
    "# Plot\n",
    "plt.figure(figsize=(8, 5))\n",
    "plt.plot(hvg_counts, overlap_counts, marker='o', linestyle='-', color='b', label='Overlap with tumour APC signature')\n",
    "plt.axhline(y=total_genes, color='r', linestyle='--', label='Tumour APC signature')\n",
    "\n",
    "\n",
    "important_hvg = {2000: \"PerturbNet, chemCPA\", 5000: \"PRNet\", 7000: \"scGEN\"}\n",
    "for hvg in important_hvg.keys():\n",
    "    plt.axvline(x=hvg, color='gray', linestyle='--', alpha=0.7)\n",
    "    y_position = min(overlap_counts) - 5\n",
    "    #plt.text(hvg, 10, important_hvg[hvg], rotation=90, fontsize=10, color='gray')\n",
    "    plt.text(hvg, y_position, important_hvg[hvg], rotation=90, verticalalignment='bottom', \n",
    "             fontsize=10, color='gray', bbox=dict(facecolor='white', alpha=0.5, edgecolor='none'))\n",
    "\n",
    "\n",
    "\n",
    "# Labels and title\n",
    "plt.xlabel('Number of HVG Selected')\n",
    "plt.ylabel('Number of Overlapping Genes')\n",
    "plt.title('Effect of HVG Selection on Gene Overlap with the tumour APC signature (sciplex3)')\n",
    "plt.legend()\n",
    "plt.grid(True)\n",
    "\n",
    "# Show plot\n",
    "plt.show()"
   ]
  },
  {
   "cell_type": "code",
   "execution_count": null,
   "id": "dae05219-f145-4713-b726-06c5368b329b",
   "metadata": {},
   "outputs": [],
   "source": [
    "#scGEN -> 7000\n",
    "#PRNet -> 5000\n",
    "#PerturbNet, chemCPA -> 2000\n"
   ]
  },
  {
   "cell_type": "code",
   "execution_count": null,
   "id": "43967600-cf67-4e75-89e4-303a9d35105c",
   "metadata": {},
   "outputs": [],
   "source": []
  },
  {
   "cell_type": "code",
   "execution_count": null,
   "id": "5d31fdcb-3f43-48cf-9c55-65957d1186b2",
   "metadata": {},
   "outputs": [],
   "source": []
  },
  {
   "cell_type": "code",
   "execution_count": null,
   "id": "321eadd3-1e04-4a2b-8b6b-92863cf43c87",
   "metadata": {},
   "outputs": [],
   "source": []
  },
  {
   "cell_type": "code",
   "execution_count": 24,
   "id": "874d1795-115b-4ee4-bc92-1d754368fe61",
   "metadata": {},
   "outputs": [
    {
     "ename": "TypeError",
     "evalue": "Can't implicitly convert non-string objects to strings",
     "output_type": "error",
     "traceback": [
      "\u001b[0;31m---------------------------------------------------------------------------\u001b[0m",
      "\u001b[0;31mTypeError\u001b[0m                                 Traceback (most recent call last)",
      "Cell \u001b[0;32mIn[24], line 1\u001b[0m\n\u001b[0;32m----> 1\u001b[0m adata_raw\u001b[38;5;241m.\u001b[39mwrite_h5ad(\u001b[38;5;124m\"\u001b[39m\u001b[38;5;124m../../data/sciplex/sciplex3_final.h5ad\u001b[39m\u001b[38;5;124m\"\u001b[39m)\n",
      "File \u001b[0;32m/apps/miniconda3/envs/dege-fm-distance/lib/python3.11/site-packages/anndata/_core/anndata.py:1865\u001b[0m, in \u001b[0;36mAnnData.write_h5ad\u001b[0;34m(self, filename, compression, compression_opts, as_dense)\u001b[0m\n\u001b[1;32m   1862\u001b[0m \u001b[38;5;28;01mif\u001b[39;00m filename \u001b[38;5;129;01mis\u001b[39;00m \u001b[38;5;28;01mNone\u001b[39;00m:\n\u001b[1;32m   1863\u001b[0m     filename \u001b[38;5;241m=\u001b[39m \u001b[38;5;28mself\u001b[39m\u001b[38;5;241m.\u001b[39mfilename\n\u001b[0;32m-> 1865\u001b[0m write_h5ad(\n\u001b[1;32m   1866\u001b[0m     Path(filename),\n\u001b[1;32m   1867\u001b[0m     \u001b[38;5;28mself\u001b[39m,\n\u001b[1;32m   1868\u001b[0m     compression\u001b[38;5;241m=\u001b[39mcompression,\n\u001b[1;32m   1869\u001b[0m     compression_opts\u001b[38;5;241m=\u001b[39mcompression_opts,\n\u001b[1;32m   1870\u001b[0m     as_dense\u001b[38;5;241m=\u001b[39mas_dense,\n\u001b[1;32m   1871\u001b[0m )\n\u001b[1;32m   1873\u001b[0m \u001b[38;5;28;01mif\u001b[39;00m \u001b[38;5;28mself\u001b[39m\u001b[38;5;241m.\u001b[39misbacked:\n\u001b[1;32m   1874\u001b[0m     \u001b[38;5;28mself\u001b[39m\u001b[38;5;241m.\u001b[39mfile\u001b[38;5;241m.\u001b[39mfilename \u001b[38;5;241m=\u001b[39m filename\n",
      "File \u001b[0;32m/apps/miniconda3/envs/dege-fm-distance/lib/python3.11/site-packages/anndata/_io/h5ad.py:103\u001b[0m, in \u001b[0;36mwrite_h5ad\u001b[0;34m(filepath, adata, as_dense, convert_strings_to_categoricals, dataset_kwargs, **kwargs)\u001b[0m\n\u001b[1;32m    101\u001b[0m \u001b[38;5;28;01melif\u001b[39;00m adata\u001b[38;5;241m.\u001b[39mraw \u001b[38;5;129;01mis\u001b[39;00m \u001b[38;5;129;01mnot\u001b[39;00m \u001b[38;5;28;01mNone\u001b[39;00m:\n\u001b[1;32m    102\u001b[0m     write_elem(f, \u001b[38;5;124m\"\u001b[39m\u001b[38;5;124mraw\u001b[39m\u001b[38;5;124m\"\u001b[39m, adata\u001b[38;5;241m.\u001b[39mraw, dataset_kwargs\u001b[38;5;241m=\u001b[39mdataset_kwargs)\n\u001b[0;32m--> 103\u001b[0m write_elem(f, \u001b[38;5;124m\"\u001b[39m\u001b[38;5;124mobs\u001b[39m\u001b[38;5;124m\"\u001b[39m, adata\u001b[38;5;241m.\u001b[39mobs, dataset_kwargs\u001b[38;5;241m=\u001b[39mdataset_kwargs)\n\u001b[1;32m    104\u001b[0m write_elem(f, \u001b[38;5;124m\"\u001b[39m\u001b[38;5;124mvar\u001b[39m\u001b[38;5;124m\"\u001b[39m, adata\u001b[38;5;241m.\u001b[39mvar, dataset_kwargs\u001b[38;5;241m=\u001b[39mdataset_kwargs)\n\u001b[1;32m    105\u001b[0m write_elem(f, \u001b[38;5;124m\"\u001b[39m\u001b[38;5;124mobsm\u001b[39m\u001b[38;5;124m\"\u001b[39m, \u001b[38;5;28mdict\u001b[39m(adata\u001b[38;5;241m.\u001b[39mobsm), dataset_kwargs\u001b[38;5;241m=\u001b[39mdataset_kwargs)\n",
      "File \u001b[0;32m/apps/miniconda3/envs/dege-fm-distance/lib/python3.11/site-packages/anndata/_io/specs/registry.py:487\u001b[0m, in \u001b[0;36mwrite_elem\u001b[0;34m(store, k, elem, dataset_kwargs)\u001b[0m\n\u001b[1;32m    463\u001b[0m \u001b[38;5;28;01mdef\u001b[39;00m \u001b[38;5;21mwrite_elem\u001b[39m(\n\u001b[1;32m    464\u001b[0m     store: GroupStorageType,\n\u001b[1;32m    465\u001b[0m     k: \u001b[38;5;28mstr\u001b[39m,\n\u001b[0;32m   (...)\u001b[0m\n\u001b[1;32m    468\u001b[0m     dataset_kwargs: Mapping[\u001b[38;5;28mstr\u001b[39m, Any] \u001b[38;5;241m=\u001b[39m MappingProxyType({}),\n\u001b[1;32m    469\u001b[0m ) \u001b[38;5;241m-\u001b[39m\u001b[38;5;241m>\u001b[39m \u001b[38;5;28;01mNone\u001b[39;00m:\n\u001b[1;32m    470\u001b[0m \u001b[38;5;250m    \u001b[39m\u001b[38;5;124;03m\"\"\"\u001b[39;00m\n\u001b[1;32m    471\u001b[0m \u001b[38;5;124;03m    Write an element to a storage group using anndata encoding.\u001b[39;00m\n\u001b[1;32m    472\u001b[0m \n\u001b[0;32m   (...)\u001b[0m\n\u001b[1;32m    485\u001b[0m \u001b[38;5;124;03m        E.g. for zarr this would be `chunks`, `compressor`.\u001b[39;00m\n\u001b[1;32m    486\u001b[0m \u001b[38;5;124;03m    \"\"\"\u001b[39;00m\n\u001b[0;32m--> 487\u001b[0m     Writer(_REGISTRY)\u001b[38;5;241m.\u001b[39mwrite_elem(store, k, elem, dataset_kwargs\u001b[38;5;241m=\u001b[39mdataset_kwargs)\n",
      "File \u001b[0;32m/apps/miniconda3/envs/dege-fm-distance/lib/python3.11/site-packages/anndata/_io/utils.py:249\u001b[0m, in \u001b[0;36mreport_write_key_on_error.<locals>.func_wrapper\u001b[0;34m(*args, **kwargs)\u001b[0m\n\u001b[1;32m    247\u001b[0m     \u001b[38;5;28;01mraise\u001b[39;00m \u001b[38;5;167;01mValueError\u001b[39;00m(\u001b[38;5;124m\"\u001b[39m\u001b[38;5;124mNo element found in args.\u001b[39m\u001b[38;5;124m\"\u001b[39m)\n\u001b[1;32m    248\u001b[0m \u001b[38;5;28;01mtry\u001b[39;00m:\n\u001b[0;32m--> 249\u001b[0m     \u001b[38;5;28;01mreturn\u001b[39;00m func(\u001b[38;5;241m*\u001b[39margs, \u001b[38;5;241m*\u001b[39m\u001b[38;5;241m*\u001b[39mkwargs)\n\u001b[1;32m    250\u001b[0m \u001b[38;5;28;01mexcept\u001b[39;00m \u001b[38;5;167;01mException\u001b[39;00m \u001b[38;5;28;01mas\u001b[39;00m e:\n\u001b[1;32m    251\u001b[0m     path \u001b[38;5;241m=\u001b[39m _get_display_path(store)\n",
      "File \u001b[0;32m/apps/miniconda3/envs/dege-fm-distance/lib/python3.11/site-packages/anndata/_io/specs/registry.py:354\u001b[0m, in \u001b[0;36mWriter.write_elem\u001b[0;34m(self, store, k, elem, dataset_kwargs, modifiers)\u001b[0m\n\u001b[1;32m    351\u001b[0m write_func \u001b[38;5;241m=\u001b[39m \u001b[38;5;28mself\u001b[39m\u001b[38;5;241m.\u001b[39mfind_write_func(dest_type, elem, modifiers)\n\u001b[1;32m    353\u001b[0m \u001b[38;5;28;01mif\u001b[39;00m \u001b[38;5;28mself\u001b[39m\u001b[38;5;241m.\u001b[39mcallback \u001b[38;5;129;01mis\u001b[39;00m \u001b[38;5;28;01mNone\u001b[39;00m:\n\u001b[0;32m--> 354\u001b[0m     \u001b[38;5;28;01mreturn\u001b[39;00m write_func(store, k, elem, dataset_kwargs\u001b[38;5;241m=\u001b[39mdataset_kwargs)\n\u001b[1;32m    355\u001b[0m \u001b[38;5;28;01mreturn\u001b[39;00m \u001b[38;5;28mself\u001b[39m\u001b[38;5;241m.\u001b[39mcallback(\n\u001b[1;32m    356\u001b[0m     write_func,\n\u001b[1;32m    357\u001b[0m     store,\n\u001b[0;32m   (...)\u001b[0m\n\u001b[1;32m    361\u001b[0m     iospec\u001b[38;5;241m=\u001b[39m\u001b[38;5;28mself\u001b[39m\u001b[38;5;241m.\u001b[39mregistry\u001b[38;5;241m.\u001b[39mget_spec(elem),\n\u001b[1;32m    362\u001b[0m )\n",
      "File \u001b[0;32m/apps/miniconda3/envs/dege-fm-distance/lib/python3.11/site-packages/anndata/_io/specs/registry.py:71\u001b[0m, in \u001b[0;36mwrite_spec.<locals>.decorator.<locals>.wrapper\u001b[0;34m(g, k, *args, **kwargs)\u001b[0m\n\u001b[1;32m     69\u001b[0m \u001b[38;5;129m@wraps\u001b[39m(func)\n\u001b[1;32m     70\u001b[0m \u001b[38;5;28;01mdef\u001b[39;00m \u001b[38;5;21mwrapper\u001b[39m(g: GroupStorageType, k: \u001b[38;5;28mstr\u001b[39m, \u001b[38;5;241m*\u001b[39margs, \u001b[38;5;241m*\u001b[39m\u001b[38;5;241m*\u001b[39mkwargs):\n\u001b[0;32m---> 71\u001b[0m     result \u001b[38;5;241m=\u001b[39m func(g, k, \u001b[38;5;241m*\u001b[39margs, \u001b[38;5;241m*\u001b[39m\u001b[38;5;241m*\u001b[39mkwargs)\n\u001b[1;32m     72\u001b[0m     g[k]\u001b[38;5;241m.\u001b[39mattrs\u001b[38;5;241m.\u001b[39msetdefault(\u001b[38;5;124m\"\u001b[39m\u001b[38;5;124mencoding-type\u001b[39m\u001b[38;5;124m\"\u001b[39m, spec\u001b[38;5;241m.\u001b[39mencoding_type)\n\u001b[1;32m     73\u001b[0m     g[k]\u001b[38;5;241m.\u001b[39mattrs\u001b[38;5;241m.\u001b[39msetdefault(\u001b[38;5;124m\"\u001b[39m\u001b[38;5;124mencoding-version\u001b[39m\u001b[38;5;124m\"\u001b[39m, spec\u001b[38;5;241m.\u001b[39mencoding_version)\n",
      "File \u001b[0;32m/apps/miniconda3/envs/dege-fm-distance/lib/python3.11/site-packages/anndata/_io/specs/methods.py:873\u001b[0m, in \u001b[0;36mwrite_dataframe\u001b[0;34m(f, key, df, _writer, dataset_kwargs)\u001b[0m\n\u001b[1;32m    868\u001b[0m _writer\u001b[38;5;241m.\u001b[39mwrite_elem(\n\u001b[1;32m    869\u001b[0m     group, index_name, df\u001b[38;5;241m.\u001b[39mindex\u001b[38;5;241m.\u001b[39m_values, dataset_kwargs\u001b[38;5;241m=\u001b[39mdataset_kwargs\n\u001b[1;32m    870\u001b[0m )\n\u001b[1;32m    871\u001b[0m \u001b[38;5;28;01mfor\u001b[39;00m colname, series \u001b[38;5;129;01min\u001b[39;00m df\u001b[38;5;241m.\u001b[39mitems():\n\u001b[1;32m    872\u001b[0m     \u001b[38;5;66;03m# TODO: this should write the \"true\" representation of the series (i.e. the underlying array or ndarray depending)\u001b[39;00m\n\u001b[0;32m--> 873\u001b[0m     _writer\u001b[38;5;241m.\u001b[39mwrite_elem(\n\u001b[1;32m    874\u001b[0m         group, colname, series\u001b[38;5;241m.\u001b[39m_values, dataset_kwargs\u001b[38;5;241m=\u001b[39mdataset_kwargs\n\u001b[1;32m    875\u001b[0m     )\n",
      "File \u001b[0;32m/apps/miniconda3/envs/dege-fm-distance/lib/python3.11/site-packages/anndata/_io/utils.py:249\u001b[0m, in \u001b[0;36mreport_write_key_on_error.<locals>.func_wrapper\u001b[0;34m(*args, **kwargs)\u001b[0m\n\u001b[1;32m    247\u001b[0m     \u001b[38;5;28;01mraise\u001b[39;00m \u001b[38;5;167;01mValueError\u001b[39;00m(\u001b[38;5;124m\"\u001b[39m\u001b[38;5;124mNo element found in args.\u001b[39m\u001b[38;5;124m\"\u001b[39m)\n\u001b[1;32m    248\u001b[0m \u001b[38;5;28;01mtry\u001b[39;00m:\n\u001b[0;32m--> 249\u001b[0m     \u001b[38;5;28;01mreturn\u001b[39;00m func(\u001b[38;5;241m*\u001b[39margs, \u001b[38;5;241m*\u001b[39m\u001b[38;5;241m*\u001b[39mkwargs)\n\u001b[1;32m    250\u001b[0m \u001b[38;5;28;01mexcept\u001b[39;00m \u001b[38;5;167;01mException\u001b[39;00m \u001b[38;5;28;01mas\u001b[39;00m e:\n\u001b[1;32m    251\u001b[0m     path \u001b[38;5;241m=\u001b[39m _get_display_path(store)\n",
      "File \u001b[0;32m/apps/miniconda3/envs/dege-fm-distance/lib/python3.11/site-packages/anndata/_io/specs/registry.py:354\u001b[0m, in \u001b[0;36mWriter.write_elem\u001b[0;34m(self, store, k, elem, dataset_kwargs, modifiers)\u001b[0m\n\u001b[1;32m    351\u001b[0m write_func \u001b[38;5;241m=\u001b[39m \u001b[38;5;28mself\u001b[39m\u001b[38;5;241m.\u001b[39mfind_write_func(dest_type, elem, modifiers)\n\u001b[1;32m    353\u001b[0m \u001b[38;5;28;01mif\u001b[39;00m \u001b[38;5;28mself\u001b[39m\u001b[38;5;241m.\u001b[39mcallback \u001b[38;5;129;01mis\u001b[39;00m \u001b[38;5;28;01mNone\u001b[39;00m:\n\u001b[0;32m--> 354\u001b[0m     \u001b[38;5;28;01mreturn\u001b[39;00m write_func(store, k, elem, dataset_kwargs\u001b[38;5;241m=\u001b[39mdataset_kwargs)\n\u001b[1;32m    355\u001b[0m \u001b[38;5;28;01mreturn\u001b[39;00m \u001b[38;5;28mself\u001b[39m\u001b[38;5;241m.\u001b[39mcallback(\n\u001b[1;32m    356\u001b[0m     write_func,\n\u001b[1;32m    357\u001b[0m     store,\n\u001b[0;32m   (...)\u001b[0m\n\u001b[1;32m    361\u001b[0m     iospec\u001b[38;5;241m=\u001b[39m\u001b[38;5;28mself\u001b[39m\u001b[38;5;241m.\u001b[39mregistry\u001b[38;5;241m.\u001b[39mget_spec(elem),\n\u001b[1;32m    362\u001b[0m )\n",
      "File \u001b[0;32m/apps/miniconda3/envs/dege-fm-distance/lib/python3.11/site-packages/anndata/_io/specs/registry.py:71\u001b[0m, in \u001b[0;36mwrite_spec.<locals>.decorator.<locals>.wrapper\u001b[0;34m(g, k, *args, **kwargs)\u001b[0m\n\u001b[1;32m     69\u001b[0m \u001b[38;5;129m@wraps\u001b[39m(func)\n\u001b[1;32m     70\u001b[0m \u001b[38;5;28;01mdef\u001b[39;00m \u001b[38;5;21mwrapper\u001b[39m(g: GroupStorageType, k: \u001b[38;5;28mstr\u001b[39m, \u001b[38;5;241m*\u001b[39margs, \u001b[38;5;241m*\u001b[39m\u001b[38;5;241m*\u001b[39mkwargs):\n\u001b[0;32m---> 71\u001b[0m     result \u001b[38;5;241m=\u001b[39m func(g, k, \u001b[38;5;241m*\u001b[39margs, \u001b[38;5;241m*\u001b[39m\u001b[38;5;241m*\u001b[39mkwargs)\n\u001b[1;32m     72\u001b[0m     g[k]\u001b[38;5;241m.\u001b[39mattrs\u001b[38;5;241m.\u001b[39msetdefault(\u001b[38;5;124m\"\u001b[39m\u001b[38;5;124mencoding-type\u001b[39m\u001b[38;5;124m\"\u001b[39m, spec\u001b[38;5;241m.\u001b[39mencoding_type)\n\u001b[1;32m     73\u001b[0m     g[k]\u001b[38;5;241m.\u001b[39mattrs\u001b[38;5;241m.\u001b[39msetdefault(\u001b[38;5;124m\"\u001b[39m\u001b[38;5;124mencoding-version\u001b[39m\u001b[38;5;124m\"\u001b[39m, spec\u001b[38;5;241m.\u001b[39mencoding_version)\n",
      "File \u001b[0;32m/apps/miniconda3/envs/dege-fm-distance/lib/python3.11/site-packages/anndata/_io/utils.py:308\u001b[0m, in \u001b[0;36mzero_dim_array_as_scalar.<locals>.func_wrapper\u001b[0;34m(f, k, elem, _writer, dataset_kwargs)\u001b[0m\n\u001b[1;32m    306\u001b[0m     _writer\u001b[38;5;241m.\u001b[39mwrite_elem(f, k, elem[()], dataset_kwargs\u001b[38;5;241m=\u001b[39mdataset_kwargs)\n\u001b[1;32m    307\u001b[0m \u001b[38;5;28;01melse\u001b[39;00m:\n\u001b[0;32m--> 308\u001b[0m     func(f, k, elem, _writer\u001b[38;5;241m=\u001b[39m_writer, dataset_kwargs\u001b[38;5;241m=\u001b[39mdataset_kwargs)\n",
      "File \u001b[0;32m/apps/miniconda3/envs/dege-fm-distance/lib/python3.11/site-packages/anndata/_io/specs/methods.py:492\u001b[0m, in \u001b[0;36mwrite_vlen_string_array\u001b[0;34m(f, k, elem, _writer, dataset_kwargs)\u001b[0m\n\u001b[1;32m    490\u001b[0m \u001b[38;5;250m\u001b[39m\u001b[38;5;124;03m\"\"\"Write methods which underlying library handles nativley.\"\"\"\u001b[39;00m\n\u001b[1;32m    491\u001b[0m str_dtype \u001b[38;5;241m=\u001b[39m h5py\u001b[38;5;241m.\u001b[39mspecial_dtype(vlen\u001b[38;5;241m=\u001b[39m\u001b[38;5;28mstr\u001b[39m)\n\u001b[0;32m--> 492\u001b[0m f\u001b[38;5;241m.\u001b[39mcreate_dataset(k, data\u001b[38;5;241m=\u001b[39melem\u001b[38;5;241m.\u001b[39mastype(str_dtype), dtype\u001b[38;5;241m=\u001b[39mstr_dtype, \u001b[38;5;241m*\u001b[39m\u001b[38;5;241m*\u001b[39mdataset_kwargs)\n",
      "File \u001b[0;32m/apps/miniconda3/envs/dege-fm-distance/lib/python3.11/site-packages/h5py/_hl/group.py:183\u001b[0m, in \u001b[0;36mGroup.create_dataset\u001b[0;34m(self, name, shape, dtype, data, **kwds)\u001b[0m\n\u001b[1;32m    180\u001b[0m         parent_path, name \u001b[38;5;241m=\u001b[39m name\u001b[38;5;241m.\u001b[39mrsplit(\u001b[38;5;124mb\u001b[39m\u001b[38;5;124m'\u001b[39m\u001b[38;5;124m/\u001b[39m\u001b[38;5;124m'\u001b[39m, \u001b[38;5;241m1\u001b[39m)\n\u001b[1;32m    181\u001b[0m         group \u001b[38;5;241m=\u001b[39m \u001b[38;5;28mself\u001b[39m\u001b[38;5;241m.\u001b[39mrequire_group(parent_path)\n\u001b[0;32m--> 183\u001b[0m dsid \u001b[38;5;241m=\u001b[39m dataset\u001b[38;5;241m.\u001b[39mmake_new_dset(group, shape, dtype, data, name, \u001b[38;5;241m*\u001b[39m\u001b[38;5;241m*\u001b[39mkwds)\n\u001b[1;32m    184\u001b[0m dset \u001b[38;5;241m=\u001b[39m dataset\u001b[38;5;241m.\u001b[39mDataset(dsid)\n\u001b[1;32m    185\u001b[0m \u001b[38;5;28;01mreturn\u001b[39;00m dset\n",
      "File \u001b[0;32m/apps/miniconda3/envs/dege-fm-distance/lib/python3.11/site-packages/h5py/_hl/dataset.py:168\u001b[0m, in \u001b[0;36mmake_new_dset\u001b[0;34m(parent, shape, dtype, data, name, chunks, compression, shuffle, fletcher32, maxshape, compression_opts, fillvalue, scaleoffset, track_times, external, track_order, dcpl, dapl, efile_prefix, virtual_prefix, allow_unknown_filter, rdcc_nslots, rdcc_nbytes, rdcc_w0, fill_time)\u001b[0m\n\u001b[1;32m    165\u001b[0m dset_id \u001b[38;5;241m=\u001b[39m h5d\u001b[38;5;241m.\u001b[39mcreate(parent\u001b[38;5;241m.\u001b[39mid, name, tid, sid, dcpl\u001b[38;5;241m=\u001b[39mdcpl, dapl\u001b[38;5;241m=\u001b[39mdapl)\n\u001b[1;32m    167\u001b[0m \u001b[38;5;28;01mif\u001b[39;00m (data \u001b[38;5;129;01mis\u001b[39;00m \u001b[38;5;129;01mnot\u001b[39;00m \u001b[38;5;28;01mNone\u001b[39;00m) \u001b[38;5;129;01mand\u001b[39;00m (\u001b[38;5;129;01mnot\u001b[39;00m \u001b[38;5;28misinstance\u001b[39m(data, Empty)):\n\u001b[0;32m--> 168\u001b[0m     dset_id\u001b[38;5;241m.\u001b[39mwrite(h5s\u001b[38;5;241m.\u001b[39mALL, h5s\u001b[38;5;241m.\u001b[39mALL, data)\n\u001b[1;32m    170\u001b[0m \u001b[38;5;28;01mreturn\u001b[39;00m dset_id\n",
      "File \u001b[0;32mh5py/_objects.pyx:54\u001b[0m, in \u001b[0;36mh5py._objects.with_phil.wrapper\u001b[0;34m()\u001b[0m\n",
      "File \u001b[0;32mh5py/_objects.pyx:55\u001b[0m, in \u001b[0;36mh5py._objects.with_phil.wrapper\u001b[0;34m()\u001b[0m\n",
      "File \u001b[0;32mh5py/h5d.pyx:281\u001b[0m, in \u001b[0;36mh5py.h5d.DatasetID.write\u001b[0;34m()\u001b[0m\n",
      "File \u001b[0;32mh5py/_proxy.pyx:147\u001b[0m, in \u001b[0;36mh5py._proxy.dset_rw\u001b[0;34m()\u001b[0m\n",
      "File \u001b[0;32mh5py/_conv.pyx:442\u001b[0m, in \u001b[0;36mh5py._conv.str2vlen\u001b[0;34m()\u001b[0m\n",
      "File \u001b[0;32mh5py/_conv.pyx:96\u001b[0m, in \u001b[0;36mh5py._conv.generic_converter\u001b[0;34m()\u001b[0m\n",
      "File \u001b[0;32mh5py/_conv.pyx:247\u001b[0m, in \u001b[0;36mh5py._conv.conv_str2vlen\u001b[0;34m()\u001b[0m\n",
      "\u001b[0;31mTypeError\u001b[0m: Can't implicitly convert non-string objects to strings",
      "\u001b[0mError raised while writing key 'sm_embedding' of <class 'h5py._hl.group.Group'> to /obs"
     ]
    }
   ],
   "source": [
    "adata_raw.write_h5ad(\"../../data/sciplex/sciplex3_final.h5ad\")"
   ]
  },
  {
   "cell_type": "code",
   "execution_count": null,
   "id": "fdb49ec9-1a32-439f-9e1a-4b336a690dff",
   "metadata": {},
   "outputs": [],
   "source": []
  }
 ],
 "metadata": {
  "kernelspec": {
   "display_name": "Python 3 (ipykernel)",
   "language": "python",
   "name": "python3"
  },
  "language_info": {
   "codemirror_mode": {
    "name": "ipython",
    "version": 3
   },
   "file_extension": ".py",
   "mimetype": "text/x-python",
   "name": "python",
   "nbconvert_exporter": "python",
   "pygments_lexer": "ipython3",
   "version": "3.12.7"
  }
 },
 "nbformat": 4,
 "nbformat_minor": 5
}
