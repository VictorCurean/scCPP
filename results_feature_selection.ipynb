{
 "cells": [
  {
   "cell_type": "code",
   "execution_count": 3,
   "id": "c9c179bc-7c34-477d-abf3-282d8d2deb4c",
   "metadata": {},
   "outputs": [],
   "source": [
    "import anndata as ad\n",
    "import pandas as pd\n",
    "from src.utils import get_model_stats\n",
    "import pickle as pkl"
   ]
  },
  {
   "cell_type": "markdown",
   "id": "7daa4b1a-d246-4638-a37e-435d55a44d4b",
   "metadata": {},
   "source": [
    "## Random Features"
   ]
  },
  {
   "cell_type": "code",
   "execution_count": 4,
   "id": "2287b1f0-0e23-488a-83b7-51bc853aea1c",
   "metadata": {},
   "outputs": [],
   "source": [
    "adata_ctrl_rand = ad.read_h5ad(\"./data/feature_selection/sciplex_rand.h5ad\")\n",
    "adata_ctrl_rand = adata_ctrl_rand[adata_ctrl_rand.obs.product_name == \"Vehicle\"]"
   ]
  },
  {
   "cell_type": "code",
   "execution_count": 5,
   "id": "61bbf93d-1cae-4909-8e44-efc4fc7ad0ec",
   "metadata": {},
   "outputs": [],
   "source": [
    "with open(\"./results/feature_selection/null_random_fs_res.pkl\", 'rb') as f:\n",
    "    df_rand_null = pkl.load(f)\n",
    "\n",
    "with open(\"./results/feature_selection/mean_rand_fs_res.pkl\", 'rb') as f:\n",
    "    df_rand_mean = pkl.load(f)\n",
    "\n",
    "with open(\"./results/feature_selection/decoder_random_fs_res.pkl\", 'rb') as f:\n",
    "    df_rand_decoder = pkl.load(f)\n",
    "\n",
    "with open(\"./results/feature_selection/mlp_random_fs_res.pkl\", 'rb') as f:\n",
    "    df_rand_mlp = pkl.load(f)\n",
    "\n",
    "with open(\"./results/feature_selection/prnet_rand_fs_res.pkl\", 'rb') as f:\n",
    "    df_rand_prnet = pkl.load(f)\n",
    "    "
   ]
  },
  {
   "cell_type": "code",
   "execution_count": 6,
   "id": "85764975-82a6-47bd-8888-b5d375dfdd6c",
   "metadata": {},
   "outputs": [
    {
     "name": "stderr",
     "output_type": "stream",
     "text": [
      "/home/victor/.local/lib/python3.12/site-packages/anndata/_core/anndata.py:1756: UserWarning: Observation names are not unique. To make them unique, call `.obs_names_make_unique`.\n",
      "  utils.warn_names_duplicates(\"obs\")\n"
     ]
    }
   ],
   "source": [
    "stats_rand_null = get_model_stats(df_rand_null,\n",
    "                                 adata_ctrl_rand, \n",
    "                                 list(adata_ctrl_rand.var_names),\n",
    "                                 'null_random',\n",
    "                                 dose_subset=1000, \n",
    "                                method_deg='wilcoxon')"
   ]
  },
  {
   "cell_type": "code",
   "execution_count": 7,
   "id": "e33e57d2-aa47-4eaa-8269-afcce8f67485",
   "metadata": {},
   "outputs": [
    {
     "name": "stderr",
     "output_type": "stream",
     "text": [
      "/home/victor/.local/lib/python3.12/site-packages/anndata/_core/anndata.py:1756: UserWarning: Observation names are not unique. To make them unique, call `.obs_names_make_unique`.\n",
      "  utils.warn_names_duplicates(\"obs\")\n"
     ]
    }
   ],
   "source": [
    "stats_rand_mean = get_model_stats(df_rand_mean,\n",
    "                                 adata_ctrl_rand, \n",
    "                                 list(adata_ctrl_rand.var_names),\n",
    "                                 'mean_random',\n",
    "                                 dose_subset=1000, \n",
    "                                method_deg='wilcoxon')"
   ]
  },
  {
   "cell_type": "code",
   "execution_count": 8,
   "id": "ad156f99-6145-4756-9241-17473622ab48",
   "metadata": {},
   "outputs": [
    {
     "name": "stderr",
     "output_type": "stream",
     "text": [
      "/home/victor/.local/lib/python3.12/site-packages/anndata/_core/anndata.py:1756: UserWarning: Observation names are not unique. To make them unique, call `.obs_names_make_unique`.\n",
      "  utils.warn_names_duplicates(\"obs\")\n"
     ]
    }
   ],
   "source": [
    "stats_rand_decoder = get_model_stats(df_rand_decoder,\n",
    "                                 adata_ctrl_rand, \n",
    "                                 list(adata_ctrl_rand.var_names),\n",
    "                                 'decoder_random',\n",
    "                                 dose_subset=1000, \n",
    "                                method_deg='wilcoxon')"
   ]
  },
  {
   "cell_type": "code",
   "execution_count": 9,
   "id": "bdd16c4d-efcb-4cdd-978c-cdf2442f47ba",
   "metadata": {},
   "outputs": [
    {
     "name": "stderr",
     "output_type": "stream",
     "text": [
      "/home/victor/.local/lib/python3.12/site-packages/anndata/_core/anndata.py:1756: UserWarning: Observation names are not unique. To make them unique, call `.obs_names_make_unique`.\n",
      "  utils.warn_names_duplicates(\"obs\")\n"
     ]
    }
   ],
   "source": [
    "stats_rand_mlp = get_model_stats(df_rand_mlp,\n",
    "                                 adata_ctrl_rand, \n",
    "                                 list(adata_ctrl_rand.var_names),\n",
    "                                 'mlp_random',\n",
    "                                 dose_subset=1000, \n",
    "                                method_deg='wilcoxon')"
   ]
  },
  {
   "cell_type": "code",
   "execution_count": 10,
   "id": "a3ecd1b6-7ed8-4395-9f68-2735e3948ebd",
   "metadata": {},
   "outputs": [
    {
     "name": "stderr",
     "output_type": "stream",
     "text": [
      "/home/victor/.local/lib/python3.12/site-packages/anndata/_core/anndata.py:1756: UserWarning: Observation names are not unique. To make them unique, call `.obs_names_make_unique`.\n",
      "  utils.warn_names_duplicates(\"obs\")\n"
     ]
    }
   ],
   "source": [
    "stats_rand_prnet = get_model_stats(df_rand_prnet,\n",
    "                                 adata_ctrl_rand, \n",
    "                                 list(adata_ctrl_rand.var_names),\n",
    "                                 'prnet_random',\n",
    "                                 dose_subset=1000, \n",
    "                                method_deg='wilcoxon')"
   ]
  },
  {
   "cell_type": "markdown",
   "id": "f01c4afe-8889-4ba0-ad9d-47c25abd8367",
   "metadata": {},
   "source": [
    "## Seurat HVG"
   ]
  },
  {
   "cell_type": "code",
   "execution_count": 11,
   "id": "03ae493c-8125-427e-a892-886a6e541bcd",
   "metadata": {},
   "outputs": [],
   "source": [
    "adata_ctrl_seurat = ad.read_h5ad(\"./data/feature_selection/sciplex_seurat.h5ad\")\n",
    "adata_ctrl_seurat = adata_ctrl_seurat[adata_ctrl_seurat.obs.product_name == \"Vehicle\"]"
   ]
  },
  {
   "cell_type": "code",
   "execution_count": 12,
   "id": "3cb43e4d-886b-429b-ae55-a077ee298691",
   "metadata": {},
   "outputs": [],
   "source": [
    "with open(\"./results/feature_selection/null_seurat_fs_res.pkl\", 'rb') as f:\n",
    "    df_seurat_null = pkl.load(f)\n",
    "\n",
    "with open(\"./results/feature_selection/mean_seurat_fs_res.pkl\", 'rb') as f:\n",
    "    df_seurat_mean = pkl.load(f)\n",
    "\n",
    "with open(\"./results/feature_selection/decoder_seurat_fs_res.pkl\", 'rb') as f:\n",
    "    df_seurat_decoder = pkl.load(f)\n",
    "\n",
    "with open(\"./results/feature_selection/mlp_seurat_fs_res.pkl\", 'rb') as f:\n",
    "    df_seurat_mlp = pkl.load(f)\n",
    "\n",
    "with open(\"./results/feature_selection/prnet_seurat_fs_res.pkl\", 'rb') as f:\n",
    "    df_seurat_prnet = pkl.load(f)"
   ]
  },
  {
   "cell_type": "code",
   "execution_count": 13,
   "id": "b9189ac5-756e-42d7-ac03-4a730fe7b74c",
   "metadata": {},
   "outputs": [
    {
     "name": "stderr",
     "output_type": "stream",
     "text": [
      "/home/victor/.local/lib/python3.12/site-packages/anndata/_core/anndata.py:1756: UserWarning: Observation names are not unique. To make them unique, call `.obs_names_make_unique`.\n",
      "  utils.warn_names_duplicates(\"obs\")\n"
     ]
    }
   ],
   "source": [
    "stats_seurat_null = get_model_stats(df_seurat_null,\n",
    "                                 adata_ctrl_seurat, \n",
    "                                 list(adata_ctrl_seurat.var_names),\n",
    "                                 'null_seurat',\n",
    "                                 dose_subset=1000, \n",
    "                                method_deg='wilcoxon')"
   ]
  },
  {
   "cell_type": "code",
   "execution_count": 14,
   "id": "c41dd867-9b1a-4a2f-9d21-6b74bd3547e5",
   "metadata": {},
   "outputs": [
    {
     "name": "stderr",
     "output_type": "stream",
     "text": [
      "/home/victor/.local/lib/python3.12/site-packages/anndata/_core/anndata.py:1756: UserWarning: Observation names are not unique. To make them unique, call `.obs_names_make_unique`.\n",
      "  utils.warn_names_duplicates(\"obs\")\n"
     ]
    }
   ],
   "source": [
    "stats_seurat_mean = get_model_stats(df_seurat_mean,\n",
    "                                 adata_ctrl_seurat, \n",
    "                                 list(adata_ctrl_seurat.var_names),\n",
    "                                 'mean_seurat',\n",
    "                                 dose_subset=1000, \n",
    "                                method_deg='wilcoxon')"
   ]
  },
  {
   "cell_type": "code",
   "execution_count": 15,
   "id": "2e3eb878-a0b0-4853-bf36-ee01fd993759",
   "metadata": {},
   "outputs": [
    {
     "name": "stderr",
     "output_type": "stream",
     "text": [
      "/home/victor/.local/lib/python3.12/site-packages/anndata/_core/anndata.py:1756: UserWarning: Observation names are not unique. To make them unique, call `.obs_names_make_unique`.\n",
      "  utils.warn_names_duplicates(\"obs\")\n"
     ]
    }
   ],
   "source": [
    "stats_seurat_decoder = get_model_stats(df_seurat_decoder,\n",
    "                                 adata_ctrl_seurat, \n",
    "                                 list(adata_ctrl_seurat.var_names),\n",
    "                                 'decoder_seurat',\n",
    "                                 dose_subset=1000, \n",
    "                                method_deg='wilcoxon')"
   ]
  },
  {
   "cell_type": "code",
   "execution_count": 16,
   "id": "feff84e1-fd9f-45bd-bb21-e5999a7edfef",
   "metadata": {},
   "outputs": [
    {
     "name": "stderr",
     "output_type": "stream",
     "text": [
      "/home/victor/.local/lib/python3.12/site-packages/anndata/_core/anndata.py:1756: UserWarning: Observation names are not unique. To make them unique, call `.obs_names_make_unique`.\n",
      "  utils.warn_names_duplicates(\"obs\")\n"
     ]
    }
   ],
   "source": [
    "stats_seurat_mlp = get_model_stats(df_seurat_mlp,\n",
    "                                 adata_ctrl_seurat, \n",
    "                                 list(adata_ctrl_seurat.var_names),\n",
    "                                 'mlp_seurat',\n",
    "                                 dose_subset=1000, \n",
    "                                method_deg='wilcoxon')"
   ]
  },
  {
   "cell_type": "code",
   "execution_count": 17,
   "id": "035fa29b-7c0e-4d7c-8822-a7c0763cc989",
   "metadata": {},
   "outputs": [
    {
     "name": "stderr",
     "output_type": "stream",
     "text": [
      "/home/victor/.local/lib/python3.12/site-packages/anndata/_core/anndata.py:1756: UserWarning: Observation names are not unique. To make them unique, call `.obs_names_make_unique`.\n",
      "  utils.warn_names_duplicates(\"obs\")\n"
     ]
    }
   ],
   "source": [
    "stats_seurat_prnet = get_model_stats(df_seurat_prnet,\n",
    "                                 adata_ctrl_seurat, \n",
    "                                 list(adata_ctrl_seurat.var_names),\n",
    "                                 'prnet_seurat',\n",
    "                                 dose_subset=1000, \n",
    "                                method_deg='wilcoxon')"
   ]
  },
  {
   "cell_type": "markdown",
   "id": "8be9e701-8600-46f8-8e97-619fac2e9e6b",
   "metadata": {},
   "source": [
    "## SeuratV3 HVG"
   ]
  },
  {
   "cell_type": "code",
   "execution_count": 18,
   "id": "1ee6d47a-dd92-446a-b8d7-1485e73483d3",
   "metadata": {},
   "outputs": [],
   "source": [
    "adata_ctrl_seuratv3 = ad.read_h5ad(\"./data/feature_selection/sciplex_seurat_v3.h5ad\")\n",
    "adata_ctrl_seuratv3 = adata_ctrl_seuratv3[adata_ctrl_seuratv3.obs.product_name == \"Vehicle\"]"
   ]
  },
  {
   "cell_type": "code",
   "execution_count": 19,
   "id": "267f8795-3263-4d32-bf29-b682c67e9c0e",
   "metadata": {},
   "outputs": [],
   "source": [
    "with open(\"./results/feature_selection/null_seuratv3_fs_res.pkl\", 'rb') as f:\n",
    "    df_seuratv3_null = pkl.load(f)\n",
    "\n",
    "with open(\"./results/feature_selection/mean_seuratv3_fs_res.pkl\", 'rb') as f:\n",
    "    df_seuratv3_mean = pkl.load(f)\n",
    "\n",
    "with open(\"./results/feature_selection/decoder_seuratv3_fs_res.pkl\", 'rb') as f:\n",
    "    df_seuratv3_decoder = pkl.load(f)\n",
    "\n",
    "with open(\"./results/feature_selection/mlp_seuratv3_fs_res.pkl\", 'rb') as f:\n",
    "    df_seuratv3_mlp = pkl.load(f)\n",
    "\n",
    "with open(\"./results/feature_selection/prnet_seuratv3_fs_res.pkl\", 'rb') as f:\n",
    "    df_seuratv3_prnet = pkl.load(f)"
   ]
  },
  {
   "cell_type": "code",
   "execution_count": 20,
   "id": "ba765efe-8382-4785-8460-b28d301c8fc9",
   "metadata": {},
   "outputs": [
    {
     "name": "stderr",
     "output_type": "stream",
     "text": [
      "/home/victor/.local/lib/python3.12/site-packages/anndata/_core/anndata.py:1756: UserWarning: Observation names are not unique. To make them unique, call `.obs_names_make_unique`.\n",
      "  utils.warn_names_duplicates(\"obs\")\n"
     ]
    }
   ],
   "source": [
    "stats_seuratv3_null = get_model_stats(df_seuratv3_null,\n",
    "                                 adata_ctrl_seuratv3, \n",
    "                                 list(adata_ctrl_seuratv3.var_names),\n",
    "                                 'null_seuratv3',\n",
    "                                 dose_subset=1000, \n",
    "                                method_deg='wilcoxon')"
   ]
  },
  {
   "cell_type": "code",
   "execution_count": 21,
   "id": "5abe4a15-eee8-42a9-9d5c-7f87c25881c6",
   "metadata": {},
   "outputs": [
    {
     "name": "stderr",
     "output_type": "stream",
     "text": [
      "/home/victor/.local/lib/python3.12/site-packages/anndata/_core/anndata.py:1756: UserWarning: Observation names are not unique. To make them unique, call `.obs_names_make_unique`.\n",
      "  utils.warn_names_duplicates(\"obs\")\n"
     ]
    }
   ],
   "source": [
    "stats_seuratv3_mean = get_model_stats(df_seuratv3_mean,\n",
    "                                 adata_ctrl_seuratv3, \n",
    "                                 list(adata_ctrl_seuratv3.var_names),\n",
    "                                 'mean_seuratv3',\n",
    "                                 dose_subset=1000, \n",
    "                                method_deg='wilcoxon')"
   ]
  },
  {
   "cell_type": "code",
   "execution_count": 22,
   "id": "84593f25-180c-4f45-af70-f30fd2107740",
   "metadata": {},
   "outputs": [
    {
     "name": "stderr",
     "output_type": "stream",
     "text": [
      "/home/victor/.local/lib/python3.12/site-packages/anndata/_core/anndata.py:1756: UserWarning: Observation names are not unique. To make them unique, call `.obs_names_make_unique`.\n",
      "  utils.warn_names_duplicates(\"obs\")\n"
     ]
    }
   ],
   "source": [
    "stats_seuratv3_decoder = get_model_stats(df_seuratv3_decoder,\n",
    "                                 adata_ctrl_seuratv3, \n",
    "                                 list(adata_ctrl_seuratv3.var_names),\n",
    "                                 'decoder_seuratv3',\n",
    "                                 dose_subset=1000, \n",
    "                                method_deg='wilcoxon')"
   ]
  },
  {
   "cell_type": "code",
   "execution_count": 23,
   "id": "78819f68-45a7-4a3d-a1d7-8931db2a9974",
   "metadata": {},
   "outputs": [
    {
     "name": "stderr",
     "output_type": "stream",
     "text": [
      "/home/victor/.local/lib/python3.12/site-packages/anndata/_core/anndata.py:1756: UserWarning: Observation names are not unique. To make them unique, call `.obs_names_make_unique`.\n",
      "  utils.warn_names_duplicates(\"obs\")\n"
     ]
    }
   ],
   "source": [
    "stats_seuratv3_mlp = get_model_stats(df_seuratv3_mlp,\n",
    "                                 adata_ctrl_seuratv3, \n",
    "                                 list(adata_ctrl_seuratv3.var_names),\n",
    "                                 'mlp_seuratv3',\n",
    "                                 dose_subset=1000, \n",
    "                                method_deg='wilcoxon')"
   ]
  },
  {
   "cell_type": "code",
   "execution_count": 24,
   "id": "9293eb01-62aa-4445-8cef-f7b734263659",
   "metadata": {},
   "outputs": [
    {
     "name": "stderr",
     "output_type": "stream",
     "text": [
      "/home/victor/.local/lib/python3.12/site-packages/anndata/_core/anndata.py:1756: UserWarning: Observation names are not unique. To make them unique, call `.obs_names_make_unique`.\n",
      "  utils.warn_names_duplicates(\"obs\")\n"
     ]
    }
   ],
   "source": [
    "stats_seuratv3_prnet = get_model_stats(df_seuratv3_prnet,\n",
    "                                 adata_ctrl_seuratv3, \n",
    "                                 list(adata_ctrl_seuratv3.var_names),\n",
    "                                 'prnet_seuratv3',\n",
    "                                 dose_subset=1000, \n",
    "                                method_deg='wilcoxon')"
   ]
  },
  {
   "cell_type": "markdown",
   "id": "0f2ad17f-0ffc-4d2a-bb10-83243704e348",
   "metadata": {},
   "source": [
    "## CellRanger"
   ]
  },
  {
   "cell_type": "code",
   "execution_count": 25,
   "id": "b18a6eee-4270-424d-9587-b18124ed332d",
   "metadata": {},
   "outputs": [],
   "source": [
    "adata_ctrl_cellranger = ad.read_h5ad(\"./data/feature_selection/sciplex_cellranger.h5ad\")\n",
    "adata_ctrl_cellranger = adata_ctrl_cellranger[adata_ctrl_cellranger.obs.product_name == \"Vehicle\"]"
   ]
  },
  {
   "cell_type": "code",
   "execution_count": 26,
   "id": "18c4f220-0f68-4ead-aad3-a40ff30e81dc",
   "metadata": {},
   "outputs": [],
   "source": [
    "with open(\"./results/feature_selection/null_cellranger_fs_res.pkl\", 'rb') as f:\n",
    "    df_cellranger_null = pkl.load(f)\n",
    "\n",
    "with open(\"./results/feature_selection/mean_cellranger_fs_res.pkl\", 'rb') as f:\n",
    "    df_cellranger_mean = pkl.load(f)\n",
    "\n",
    "with open(\"./results/feature_selection/decoder_cellranger_fs_res.pkl\", 'rb') as f:\n",
    "    df_cellranger_decoder = pkl.load(f)\n",
    "\n",
    "with open(\"./results/feature_selection/mlp_cellranger_fs_res.pkl\", 'rb') as f:\n",
    "    df_cellranger_mlp = pkl.load(f)\n",
    "\n",
    "with open(\"./results/feature_selection/prnet_cellranger_fs_res.pkl\", 'rb') as f:\n",
    "    df_cellranger_prnet = pkl.load(f)"
   ]
  },
  {
   "cell_type": "code",
   "execution_count": 27,
   "id": "47077033-9bd8-4d18-8339-dace5bb126a7",
   "metadata": {},
   "outputs": [
    {
     "name": "stderr",
     "output_type": "stream",
     "text": [
      "/home/victor/.local/lib/python3.12/site-packages/anndata/_core/anndata.py:1756: UserWarning: Observation names are not unique. To make them unique, call `.obs_names_make_unique`.\n",
      "  utils.warn_names_duplicates(\"obs\")\n"
     ]
    }
   ],
   "source": [
    "stats_cellranger_null = get_model_stats(df_cellranger_null,\n",
    "                                 adata_ctrl_cellranger, \n",
    "                                 list(adata_ctrl_cellranger.var_names),\n",
    "                                 'null_cellranger',\n",
    "                                 dose_subset=1000, \n",
    "                                method_deg='wilcoxon')"
   ]
  },
  {
   "cell_type": "code",
   "execution_count": 28,
   "id": "e5b5fc9b-fc50-46e2-9ce2-c1663b8c60ed",
   "metadata": {},
   "outputs": [
    {
     "name": "stderr",
     "output_type": "stream",
     "text": [
      "/home/victor/.local/lib/python3.12/site-packages/anndata/_core/anndata.py:1756: UserWarning: Observation names are not unique. To make them unique, call `.obs_names_make_unique`.\n",
      "  utils.warn_names_duplicates(\"obs\")\n"
     ]
    }
   ],
   "source": [
    "stats_cellranger_mean = get_model_stats(df_cellranger_mean,\n",
    "                                 adata_ctrl_cellranger, \n",
    "                                 list(adata_ctrl_cellranger.var_names),\n",
    "                                 'mean_cellranger',\n",
    "                                 dose_subset=1000, \n",
    "                                method_deg='wilcoxon')"
   ]
  },
  {
   "cell_type": "code",
   "execution_count": 29,
   "id": "7895a22e-2745-4004-82ec-79004c04189d",
   "metadata": {},
   "outputs": [
    {
     "name": "stderr",
     "output_type": "stream",
     "text": [
      "/home/victor/.local/lib/python3.12/site-packages/anndata/_core/anndata.py:1756: UserWarning: Observation names are not unique. To make them unique, call `.obs_names_make_unique`.\n",
      "  utils.warn_names_duplicates(\"obs\")\n"
     ]
    }
   ],
   "source": [
    "stats_cellranger_decoder = get_model_stats(df_cellranger_decoder,\n",
    "                                 adata_ctrl_cellranger, \n",
    "                                 list(adata_ctrl_cellranger.var_names),\n",
    "                                 'decoder_cellranger',\n",
    "                                 dose_subset=1000, \n",
    "                                method_deg='wilcoxon')"
   ]
  },
  {
   "cell_type": "code",
   "execution_count": 30,
   "id": "b0e314b7-b94e-46c6-8ddb-4fef895c24ab",
   "metadata": {},
   "outputs": [
    {
     "name": "stderr",
     "output_type": "stream",
     "text": [
      "/home/victor/.local/lib/python3.12/site-packages/anndata/_core/anndata.py:1756: UserWarning: Observation names are not unique. To make them unique, call `.obs_names_make_unique`.\n",
      "  utils.warn_names_duplicates(\"obs\")\n"
     ]
    }
   ],
   "source": [
    "stats_cellranger_mlp = get_model_stats(df_cellranger_mlp,\n",
    "                                 adata_ctrl_cellranger, \n",
    "                                 list(adata_ctrl_cellranger.var_names),\n",
    "                                 'mlp_cellranger',\n",
    "                                 dose_subset=1000, \n",
    "                                method_deg='wilcoxon')"
   ]
  },
  {
   "cell_type": "code",
   "execution_count": 31,
   "id": "6d20ac38-375d-4686-903b-fc8083220710",
   "metadata": {},
   "outputs": [
    {
     "name": "stderr",
     "output_type": "stream",
     "text": [
      "/home/victor/.local/lib/python3.12/site-packages/anndata/_core/anndata.py:1756: UserWarning: Observation names are not unique. To make them unique, call `.obs_names_make_unique`.\n",
      "  utils.warn_names_duplicates(\"obs\")\n"
     ]
    }
   ],
   "source": [
    "stats_cellranger_prnet = get_model_stats(df_cellranger_prnet,\n",
    "                                 adata_ctrl_cellranger, \n",
    "                                 list(adata_ctrl_cellranger.var_names),\n",
    "                                 'prnet_cellranger',\n",
    "                                 dose_subset=1000, \n",
    "                                method_deg='wilcoxon')"
   ]
  },
  {
   "cell_type": "code",
   "execution_count": 32,
   "id": "58d22394-862a-40fd-b5c7-fdb151b0e144",
   "metadata": {},
   "outputs": [],
   "source": [
    "df = pd.DataFrame([stats_rand_null, stats_rand_mean, stats_rand_decoder, stats_rand_mlp, stats_rand_prnet,\n",
    "                  stats_seurat_null, stats_seurat_mean, stats_seurat_decoder, stats_seurat_mlp, stats_seurat_prnet,\n",
    "                  stats_seuratv3_null, stats_seuratv3_mean, stats_seuratv3_decoder, stats_seuratv3_mlp, stats_seuratv3_prnet,\n",
    "                  stats_cellranger_null, stats_cellranger_mean, stats_cellranger_decoder, stats_cellranger_mlp, stats_cellranger_prnet])"
   ]
  },
  {
   "cell_type": "code",
   "execution_count": 33,
   "id": "5096a82b-c78d-4c12-8339-e666b577031e",
   "metadata": {},
   "outputs": [
    {
     "data": {
      "text/html": [
       "<div>\n",
       "<style scoped>\n",
       "    .dataframe tbody tr th:only-of-type {\n",
       "        vertical-align: middle;\n",
       "    }\n",
       "\n",
       "    .dataframe tbody tr th {\n",
       "        vertical-align: top;\n",
       "    }\n",
       "\n",
       "    .dataframe thead th {\n",
       "        text-align: right;\n",
       "    }\n",
       "</style>\n",
       "<table border=\"1\" class=\"dataframe\">\n",
       "  <thead>\n",
       "    <tr style=\"text-align: right;\">\n",
       "      <th></th>\n",
       "      <th>key</th>\n",
       "      <th>mse_A549</th>\n",
       "      <th>mse_K562</th>\n",
       "      <th>mse_MCF7</th>\n",
       "      <th>css_A549</th>\n",
       "      <th>css_K562</th>\n",
       "      <th>css_MCF7</th>\n",
       "      <th>r2_A549</th>\n",
       "      <th>r2_K562</th>\n",
       "      <th>r2_MCF7</th>\n",
       "      <th>...</th>\n",
       "      <th>rank_logfc_MCF7</th>\n",
       "      <th>edistance_A549</th>\n",
       "      <th>edistance_K562</th>\n",
       "      <th>edistance_MCF7</th>\n",
       "      <th>logfc_corr_A549</th>\n",
       "      <th>logfc_corr_K562</th>\n",
       "      <th>logfc_corr_MCF7</th>\n",
       "      <th>top_logfc_corr_A549</th>\n",
       "      <th>top_logfc_corr_K562</th>\n",
       "      <th>top_logfc_corr_MCF7</th>\n",
       "    </tr>\n",
       "  </thead>\n",
       "  <tbody>\n",
       "    <tr>\n",
       "      <th>0</th>\n",
       "      <td>null_random</td>\n",
       "      <td>0.000554</td>\n",
       "      <td>0.000545</td>\n",
       "      <td>0.000420</td>\n",
       "      <td>0.972774</td>\n",
       "      <td>0.966300</td>\n",
       "      <td>0.981468</td>\n",
       "      <td>0.940444</td>\n",
       "      <td>0.924894</td>\n",
       "      <td>0.959715</td>\n",
       "      <td>...</td>\n",
       "      <td>0.490991</td>\n",
       "      <td>2.216744</td>\n",
       "      <td>2.178087</td>\n",
       "      <td>1.678431</td>\n",
       "      <td>0.272183</td>\n",
       "      <td>0.267916</td>\n",
       "      <td>0.253435</td>\n",
       "      <td>0.283924</td>\n",
       "      <td>0.253293</td>\n",
       "      <td>0.221893</td>\n",
       "    </tr>\n",
       "    <tr>\n",
       "      <th>1</th>\n",
       "      <td>mean_random</td>\n",
       "      <td>0.000352</td>\n",
       "      <td>0.000311</td>\n",
       "      <td>0.000251</td>\n",
       "      <td>0.983406</td>\n",
       "      <td>0.981082</td>\n",
       "      <td>0.989391</td>\n",
       "      <td>0.963245</td>\n",
       "      <td>0.958565</td>\n",
       "      <td>0.976555</td>\n",
       "      <td>...</td>\n",
       "      <td>0.500000</td>\n",
       "      <td>1.408850</td>\n",
       "      <td>1.242186</td>\n",
       "      <td>1.002391</td>\n",
       "      <td>0.452845</td>\n",
       "      <td>0.463792</td>\n",
       "      <td>0.472447</td>\n",
       "      <td>0.579678</td>\n",
       "      <td>0.476211</td>\n",
       "      <td>0.559325</td>\n",
       "    </tr>\n",
       "    <tr>\n",
       "      <th>2</th>\n",
       "      <td>decoder_random</td>\n",
       "      <td>0.000325</td>\n",
       "      <td>0.000318</td>\n",
       "      <td>0.000245</td>\n",
       "      <td>0.984144</td>\n",
       "      <td>0.980262</td>\n",
       "      <td>0.989742</td>\n",
       "      <td>0.964355</td>\n",
       "      <td>0.956345</td>\n",
       "      <td>0.976227</td>\n",
       "      <td>...</td>\n",
       "      <td>0.483483</td>\n",
       "      <td>1.299384</td>\n",
       "      <td>1.270152</td>\n",
       "      <td>0.979138</td>\n",
       "      <td>0.457594</td>\n",
       "      <td>0.475613</td>\n",
       "      <td>0.409078</td>\n",
       "      <td>0.560255</td>\n",
       "      <td>0.525379</td>\n",
       "      <td>0.462541</td>\n",
       "    </tr>\n",
       "    <tr>\n",
       "      <th>3</th>\n",
       "      <td>mlp_random</td>\n",
       "      <td>0.000292</td>\n",
       "      <td>0.000299</td>\n",
       "      <td>0.000220</td>\n",
       "      <td>0.985782</td>\n",
       "      <td>0.981405</td>\n",
       "      <td>0.990927</td>\n",
       "      <td>0.967869</td>\n",
       "      <td>0.958724</td>\n",
       "      <td>0.978528</td>\n",
       "      <td>...</td>\n",
       "      <td>0.505255</td>\n",
       "      <td>1.167027</td>\n",
       "      <td>1.197406</td>\n",
       "      <td>0.880036</td>\n",
       "      <td>0.528047</td>\n",
       "      <td>0.519569</td>\n",
       "      <td>0.458337</td>\n",
       "      <td>0.628469</td>\n",
       "      <td>0.586547</td>\n",
       "      <td>0.496411</td>\n",
       "    </tr>\n",
       "    <tr>\n",
       "      <th>4</th>\n",
       "      <td>prnet_random</td>\n",
       "      <td>0.000701</td>\n",
       "      <td>0.000676</td>\n",
       "      <td>0.000650</td>\n",
       "      <td>0.964053</td>\n",
       "      <td>0.956430</td>\n",
       "      <td>0.970166</td>\n",
       "      <td>0.920978</td>\n",
       "      <td>0.904920</td>\n",
       "      <td>0.934864</td>\n",
       "      <td>...</td>\n",
       "      <td>0.503003</td>\n",
       "      <td>2.805075</td>\n",
       "      <td>2.705922</td>\n",
       "      <td>2.600448</td>\n",
       "      <td>0.396378</td>\n",
       "      <td>0.409798</td>\n",
       "      <td>0.410410</td>\n",
       "      <td>0.521301</td>\n",
       "      <td>0.433250</td>\n",
       "      <td>0.511189</td>\n",
       "    </tr>\n",
       "    <tr>\n",
       "      <th>5</th>\n",
       "      <td>null_seurat</td>\n",
       "      <td>0.001346</td>\n",
       "      <td>0.001626</td>\n",
       "      <td>0.000946</td>\n",
       "      <td>0.946077</td>\n",
       "      <td>0.941287</td>\n",
       "      <td>0.949637</td>\n",
       "      <td>0.872321</td>\n",
       "      <td>0.845971</td>\n",
       "      <td>0.905055</td>\n",
       "      <td>...</td>\n",
       "      <td>0.503003</td>\n",
       "      <td>5.383710</td>\n",
       "      <td>6.503470</td>\n",
       "      <td>3.785609</td>\n",
       "      <td>0.299598</td>\n",
       "      <td>0.252772</td>\n",
       "      <td>0.245466</td>\n",
       "      <td>0.259141</td>\n",
       "      <td>0.192141</td>\n",
       "      <td>0.242769</td>\n",
       "    </tr>\n",
       "    <tr>\n",
       "      <th>6</th>\n",
       "      <td>mean_seurat</td>\n",
       "      <td>0.001061</td>\n",
       "      <td>0.001121</td>\n",
       "      <td>0.000820</td>\n",
       "      <td>0.956320</td>\n",
       "      <td>0.958124</td>\n",
       "      <td>0.956981</td>\n",
       "      <td>0.897283</td>\n",
       "      <td>0.891037</td>\n",
       "      <td>0.923269</td>\n",
       "      <td>...</td>\n",
       "      <td>0.500000</td>\n",
       "      <td>4.242664</td>\n",
       "      <td>4.485267</td>\n",
       "      <td>3.278245</td>\n",
       "      <td>0.489117</td>\n",
       "      <td>0.488451</td>\n",
       "      <td>0.513153</td>\n",
       "      <td>0.629097</td>\n",
       "      <td>0.493889</td>\n",
       "      <td>0.595840</td>\n",
       "    </tr>\n",
       "    <tr>\n",
       "      <th>7</th>\n",
       "      <td>decoder_seurat</td>\n",
       "      <td>0.000761</td>\n",
       "      <td>0.000967</td>\n",
       "      <td>0.000551</td>\n",
       "      <td>0.967947</td>\n",
       "      <td>0.963783</td>\n",
       "      <td>0.970850</td>\n",
       "      <td>0.929387</td>\n",
       "      <td>0.910253</td>\n",
       "      <td>0.938835</td>\n",
       "      <td>...</td>\n",
       "      <td>0.448949</td>\n",
       "      <td>3.042480</td>\n",
       "      <td>3.867427</td>\n",
       "      <td>2.204425</td>\n",
       "      <td>0.517287</td>\n",
       "      <td>0.467565</td>\n",
       "      <td>0.470759</td>\n",
       "      <td>0.619573</td>\n",
       "      <td>0.499896</td>\n",
       "      <td>0.501437</td>\n",
       "    </tr>\n",
       "    <tr>\n",
       "      <th>8</th>\n",
       "      <td>mlp_seurat</td>\n",
       "      <td>0.000686</td>\n",
       "      <td>0.000867</td>\n",
       "      <td>0.000492</td>\n",
       "      <td>0.969979</td>\n",
       "      <td>0.967226</td>\n",
       "      <td>0.974309</td>\n",
       "      <td>0.935904</td>\n",
       "      <td>0.919166</td>\n",
       "      <td>0.945160</td>\n",
       "      <td>...</td>\n",
       "      <td>0.443694</td>\n",
       "      <td>2.742761</td>\n",
       "      <td>3.469817</td>\n",
       "      <td>1.969946</td>\n",
       "      <td>0.548069</td>\n",
       "      <td>0.510060</td>\n",
       "      <td>0.512484</td>\n",
       "      <td>0.624452</td>\n",
       "      <td>0.532070</td>\n",
       "      <td>0.522191</td>\n",
       "    </tr>\n",
       "    <tr>\n",
       "      <th>9</th>\n",
       "      <td>prnet_seurat</td>\n",
       "      <td>0.001260</td>\n",
       "      <td>0.001864</td>\n",
       "      <td>0.000875</td>\n",
       "      <td>0.947442</td>\n",
       "      <td>0.929093</td>\n",
       "      <td>0.950202</td>\n",
       "      <td>0.882049</td>\n",
       "      <td>0.829081</td>\n",
       "      <td>0.907197</td>\n",
       "      <td>...</td>\n",
       "      <td>0.433934</td>\n",
       "      <td>5.041051</td>\n",
       "      <td>7.456276</td>\n",
       "      <td>3.501519</td>\n",
       "      <td>0.434161</td>\n",
       "      <td>0.435947</td>\n",
       "      <td>0.458190</td>\n",
       "      <td>0.564691</td>\n",
       "      <td>0.460471</td>\n",
       "      <td>0.559087</td>\n",
       "    </tr>\n",
       "    <tr>\n",
       "      <th>10</th>\n",
       "      <td>null_seuratv3</td>\n",
       "      <td>0.002025</td>\n",
       "      <td>0.001506</td>\n",
       "      <td>0.002654</td>\n",
       "      <td>0.956989</td>\n",
       "      <td>0.952417</td>\n",
       "      <td>0.969413</td>\n",
       "      <td>0.895721</td>\n",
       "      <td>0.886742</td>\n",
       "      <td>0.924069</td>\n",
       "      <td>...</td>\n",
       "      <td>0.475976</td>\n",
       "      <td>8.098501</td>\n",
       "      <td>6.024071</td>\n",
       "      <td>10.616945</td>\n",
       "      <td>0.269781</td>\n",
       "      <td>0.241967</td>\n",
       "      <td>0.207550</td>\n",
       "      <td>0.196982</td>\n",
       "      <td>0.117793</td>\n",
       "      <td>0.197669</td>\n",
       "    </tr>\n",
       "    <tr>\n",
       "      <th>11</th>\n",
       "      <td>mean_seuratv3</td>\n",
       "      <td>0.001563</td>\n",
       "      <td>0.001076</td>\n",
       "      <td>0.002118</td>\n",
       "      <td>0.965987</td>\n",
       "      <td>0.964981</td>\n",
       "      <td>0.974996</td>\n",
       "      <td>0.918065</td>\n",
       "      <td>0.918561</td>\n",
       "      <td>0.938822</td>\n",
       "      <td>...</td>\n",
       "      <td>0.500000</td>\n",
       "      <td>6.253493</td>\n",
       "      <td>4.303672</td>\n",
       "      <td>8.471297</td>\n",
       "      <td>0.469950</td>\n",
       "      <td>0.498268</td>\n",
       "      <td>0.476440</td>\n",
       "      <td>0.539590</td>\n",
       "      <td>0.418703</td>\n",
       "      <td>0.541740</td>\n",
       "    </tr>\n",
       "    <tr>\n",
       "      <th>12</th>\n",
       "      <td>decoder_seuratv3</td>\n",
       "      <td>0.001614</td>\n",
       "      <td>0.001030</td>\n",
       "      <td>0.001824</td>\n",
       "      <td>0.971199</td>\n",
       "      <td>0.967257</td>\n",
       "      <td>0.978975</td>\n",
       "      <td>0.919937</td>\n",
       "      <td>0.922988</td>\n",
       "      <td>0.948560</td>\n",
       "      <td>...</td>\n",
       "      <td>0.506006</td>\n",
       "      <td>6.456461</td>\n",
       "      <td>4.118034</td>\n",
       "      <td>7.294921</td>\n",
       "      <td>0.439330</td>\n",
       "      <td>0.451771</td>\n",
       "      <td>0.384314</td>\n",
       "      <td>0.503469</td>\n",
       "      <td>0.311991</td>\n",
       "      <td>0.471477</td>\n",
       "    </tr>\n",
       "    <tr>\n",
       "      <th>13</th>\n",
       "      <td>mlp_seuratv3</td>\n",
       "      <td>0.001232</td>\n",
       "      <td>0.000941</td>\n",
       "      <td>0.001549</td>\n",
       "      <td>0.973455</td>\n",
       "      <td>0.969687</td>\n",
       "      <td>0.980999</td>\n",
       "      <td>0.937600</td>\n",
       "      <td>0.929161</td>\n",
       "      <td>0.956059</td>\n",
       "      <td>...</td>\n",
       "      <td>0.383634</td>\n",
       "      <td>4.929932</td>\n",
       "      <td>3.764202</td>\n",
       "      <td>6.194990</td>\n",
       "      <td>0.486448</td>\n",
       "      <td>0.496834</td>\n",
       "      <td>0.428928</td>\n",
       "      <td>0.535819</td>\n",
       "      <td>0.464271</td>\n",
       "      <td>0.538665</td>\n",
       "    </tr>\n",
       "    <tr>\n",
       "      <th>14</th>\n",
       "      <td>prnet_seuratv3</td>\n",
       "      <td>0.001666</td>\n",
       "      <td>0.001435</td>\n",
       "      <td>0.001959</td>\n",
       "      <td>0.963781</td>\n",
       "      <td>0.952989</td>\n",
       "      <td>0.976235</td>\n",
       "      <td>0.915361</td>\n",
       "      <td>0.892824</td>\n",
       "      <td>0.944594</td>\n",
       "      <td>...</td>\n",
       "      <td>0.433183</td>\n",
       "      <td>6.664247</td>\n",
       "      <td>5.738310</td>\n",
       "      <td>7.835335</td>\n",
       "      <td>0.417127</td>\n",
       "      <td>0.449227</td>\n",
       "      <td>0.422760</td>\n",
       "      <td>0.492432</td>\n",
       "      <td>0.392188</td>\n",
       "      <td>0.479083</td>\n",
       "    </tr>\n",
       "    <tr>\n",
       "      <th>15</th>\n",
       "      <td>null_cellranger</td>\n",
       "      <td>0.001635</td>\n",
       "      <td>0.001857</td>\n",
       "      <td>0.001275</td>\n",
       "      <td>0.953004</td>\n",
       "      <td>0.945012</td>\n",
       "      <td>0.962416</td>\n",
       "      <td>0.873073</td>\n",
       "      <td>0.848954</td>\n",
       "      <td>0.916785</td>\n",
       "      <td>...</td>\n",
       "      <td>0.520270</td>\n",
       "      <td>6.540023</td>\n",
       "      <td>7.429725</td>\n",
       "      <td>5.101157</td>\n",
       "      <td>0.286794</td>\n",
       "      <td>0.243813</td>\n",
       "      <td>0.224766</td>\n",
       "      <td>0.148841</td>\n",
       "      <td>0.216084</td>\n",
       "      <td>0.241643</td>\n",
       "    </tr>\n",
       "    <tr>\n",
       "      <th>16</th>\n",
       "      <td>mean_cellranger</td>\n",
       "      <td>0.001244</td>\n",
       "      <td>0.001255</td>\n",
       "      <td>0.001079</td>\n",
       "      <td>0.962490</td>\n",
       "      <td>0.961523</td>\n",
       "      <td>0.966947</td>\n",
       "      <td>0.899190</td>\n",
       "      <td>0.894727</td>\n",
       "      <td>0.929783</td>\n",
       "      <td>...</td>\n",
       "      <td>0.500000</td>\n",
       "      <td>4.977967</td>\n",
       "      <td>5.019458</td>\n",
       "      <td>4.316835</td>\n",
       "      <td>0.450223</td>\n",
       "      <td>0.468216</td>\n",
       "      <td>0.489455</td>\n",
       "      <td>0.513809</td>\n",
       "      <td>0.433166</td>\n",
       "      <td>0.562750</td>\n",
       "    </tr>\n",
       "    <tr>\n",
       "      <th>17</th>\n",
       "      <td>decoder_cellranger</td>\n",
       "      <td>0.000946</td>\n",
       "      <td>0.001217</td>\n",
       "      <td>0.000799</td>\n",
       "      <td>0.969431</td>\n",
       "      <td>0.964598</td>\n",
       "      <td>0.974857</td>\n",
       "      <td>0.928846</td>\n",
       "      <td>0.902479</td>\n",
       "      <td>0.947897</td>\n",
       "      <td>...</td>\n",
       "      <td>0.445946</td>\n",
       "      <td>3.785542</td>\n",
       "      <td>4.866716</td>\n",
       "      <td>3.194934</td>\n",
       "      <td>0.514910</td>\n",
       "      <td>0.495334</td>\n",
       "      <td>0.467117</td>\n",
       "      <td>0.449134</td>\n",
       "      <td>0.519621</td>\n",
       "      <td>0.503924</td>\n",
       "    </tr>\n",
       "    <tr>\n",
       "      <th>18</th>\n",
       "      <td>mlp_cellranger</td>\n",
       "      <td>0.000949</td>\n",
       "      <td>0.001112</td>\n",
       "      <td>0.000847</td>\n",
       "      <td>0.969381</td>\n",
       "      <td>0.964852</td>\n",
       "      <td>0.974076</td>\n",
       "      <td>0.928288</td>\n",
       "      <td>0.909095</td>\n",
       "      <td>0.944691</td>\n",
       "      <td>...</td>\n",
       "      <td>0.467718</td>\n",
       "      <td>3.796993</td>\n",
       "      <td>4.448679</td>\n",
       "      <td>3.389531</td>\n",
       "      <td>0.512892</td>\n",
       "      <td>0.478946</td>\n",
       "      <td>0.498076</td>\n",
       "      <td>0.443029</td>\n",
       "      <td>0.507142</td>\n",
       "      <td>0.538638</td>\n",
       "    </tr>\n",
       "    <tr>\n",
       "      <th>19</th>\n",
       "      <td>prnet_cellranger</td>\n",
       "      <td>0.001583</td>\n",
       "      <td>0.002627</td>\n",
       "      <td>0.001275</td>\n",
       "      <td>0.951766</td>\n",
       "      <td>0.918175</td>\n",
       "      <td>0.961981</td>\n",
       "      <td>0.882816</td>\n",
       "      <td>0.794013</td>\n",
       "      <td>0.916556</td>\n",
       "      <td>...</td>\n",
       "      <td>0.441441</td>\n",
       "      <td>6.330611</td>\n",
       "      <td>10.508022</td>\n",
       "      <td>5.098853</td>\n",
       "      <td>0.385706</td>\n",
       "      <td>0.411262</td>\n",
       "      <td>0.425934</td>\n",
       "      <td>0.456833</td>\n",
       "      <td>0.385607</td>\n",
       "      <td>0.503144</td>\n",
       "    </tr>\n",
       "  </tbody>\n",
       "</table>\n",
       "<p>20 rows × 22 columns</p>\n",
       "</div>"
      ],
      "text/plain": [
       "                   key  mse_A549  mse_K562  mse_MCF7  css_A549  css_K562  \\\n",
       "0          null_random  0.000554  0.000545  0.000420  0.972774  0.966300   \n",
       "1          mean_random  0.000352  0.000311  0.000251  0.983406  0.981082   \n",
       "2       decoder_random  0.000325  0.000318  0.000245  0.984144  0.980262   \n",
       "3           mlp_random  0.000292  0.000299  0.000220  0.985782  0.981405   \n",
       "4         prnet_random  0.000701  0.000676  0.000650  0.964053  0.956430   \n",
       "5          null_seurat  0.001346  0.001626  0.000946  0.946077  0.941287   \n",
       "6          mean_seurat  0.001061  0.001121  0.000820  0.956320  0.958124   \n",
       "7       decoder_seurat  0.000761  0.000967  0.000551  0.967947  0.963783   \n",
       "8           mlp_seurat  0.000686  0.000867  0.000492  0.969979  0.967226   \n",
       "9         prnet_seurat  0.001260  0.001864  0.000875  0.947442  0.929093   \n",
       "10       null_seuratv3  0.002025  0.001506  0.002654  0.956989  0.952417   \n",
       "11       mean_seuratv3  0.001563  0.001076  0.002118  0.965987  0.964981   \n",
       "12    decoder_seuratv3  0.001614  0.001030  0.001824  0.971199  0.967257   \n",
       "13        mlp_seuratv3  0.001232  0.000941  0.001549  0.973455  0.969687   \n",
       "14      prnet_seuratv3  0.001666  0.001435  0.001959  0.963781  0.952989   \n",
       "15     null_cellranger  0.001635  0.001857  0.001275  0.953004  0.945012   \n",
       "16     mean_cellranger  0.001244  0.001255  0.001079  0.962490  0.961523   \n",
       "17  decoder_cellranger  0.000946  0.001217  0.000799  0.969431  0.964598   \n",
       "18      mlp_cellranger  0.000949  0.001112  0.000847  0.969381  0.964852   \n",
       "19    prnet_cellranger  0.001583  0.002627  0.001275  0.951766  0.918175   \n",
       "\n",
       "    css_MCF7   r2_A549   r2_K562   r2_MCF7  ...  rank_logfc_MCF7  \\\n",
       "0   0.981468  0.940444  0.924894  0.959715  ...         0.490991   \n",
       "1   0.989391  0.963245  0.958565  0.976555  ...         0.500000   \n",
       "2   0.989742  0.964355  0.956345  0.976227  ...         0.483483   \n",
       "3   0.990927  0.967869  0.958724  0.978528  ...         0.505255   \n",
       "4   0.970166  0.920978  0.904920  0.934864  ...         0.503003   \n",
       "5   0.949637  0.872321  0.845971  0.905055  ...         0.503003   \n",
       "6   0.956981  0.897283  0.891037  0.923269  ...         0.500000   \n",
       "7   0.970850  0.929387  0.910253  0.938835  ...         0.448949   \n",
       "8   0.974309  0.935904  0.919166  0.945160  ...         0.443694   \n",
       "9   0.950202  0.882049  0.829081  0.907197  ...         0.433934   \n",
       "10  0.969413  0.895721  0.886742  0.924069  ...         0.475976   \n",
       "11  0.974996  0.918065  0.918561  0.938822  ...         0.500000   \n",
       "12  0.978975  0.919937  0.922988  0.948560  ...         0.506006   \n",
       "13  0.980999  0.937600  0.929161  0.956059  ...         0.383634   \n",
       "14  0.976235  0.915361  0.892824  0.944594  ...         0.433183   \n",
       "15  0.962416  0.873073  0.848954  0.916785  ...         0.520270   \n",
       "16  0.966947  0.899190  0.894727  0.929783  ...         0.500000   \n",
       "17  0.974857  0.928846  0.902479  0.947897  ...         0.445946   \n",
       "18  0.974076  0.928288  0.909095  0.944691  ...         0.467718   \n",
       "19  0.961981  0.882816  0.794013  0.916556  ...         0.441441   \n",
       "\n",
       "    edistance_A549  edistance_K562  edistance_MCF7  logfc_corr_A549  \\\n",
       "0         2.216744        2.178087        1.678431         0.272183   \n",
       "1         1.408850        1.242186        1.002391         0.452845   \n",
       "2         1.299384        1.270152        0.979138         0.457594   \n",
       "3         1.167027        1.197406        0.880036         0.528047   \n",
       "4         2.805075        2.705922        2.600448         0.396378   \n",
       "5         5.383710        6.503470        3.785609         0.299598   \n",
       "6         4.242664        4.485267        3.278245         0.489117   \n",
       "7         3.042480        3.867427        2.204425         0.517287   \n",
       "8         2.742761        3.469817        1.969946         0.548069   \n",
       "9         5.041051        7.456276        3.501519         0.434161   \n",
       "10        8.098501        6.024071       10.616945         0.269781   \n",
       "11        6.253493        4.303672        8.471297         0.469950   \n",
       "12        6.456461        4.118034        7.294921         0.439330   \n",
       "13        4.929932        3.764202        6.194990         0.486448   \n",
       "14        6.664247        5.738310        7.835335         0.417127   \n",
       "15        6.540023        7.429725        5.101157         0.286794   \n",
       "16        4.977967        5.019458        4.316835         0.450223   \n",
       "17        3.785542        4.866716        3.194934         0.514910   \n",
       "18        3.796993        4.448679        3.389531         0.512892   \n",
       "19        6.330611       10.508022        5.098853         0.385706   \n",
       "\n",
       "    logfc_corr_K562  logfc_corr_MCF7  top_logfc_corr_A549  \\\n",
       "0          0.267916         0.253435             0.283924   \n",
       "1          0.463792         0.472447             0.579678   \n",
       "2          0.475613         0.409078             0.560255   \n",
       "3          0.519569         0.458337             0.628469   \n",
       "4          0.409798         0.410410             0.521301   \n",
       "5          0.252772         0.245466             0.259141   \n",
       "6          0.488451         0.513153             0.629097   \n",
       "7          0.467565         0.470759             0.619573   \n",
       "8          0.510060         0.512484             0.624452   \n",
       "9          0.435947         0.458190             0.564691   \n",
       "10         0.241967         0.207550             0.196982   \n",
       "11         0.498268         0.476440             0.539590   \n",
       "12         0.451771         0.384314             0.503469   \n",
       "13         0.496834         0.428928             0.535819   \n",
       "14         0.449227         0.422760             0.492432   \n",
       "15         0.243813         0.224766             0.148841   \n",
       "16         0.468216         0.489455             0.513809   \n",
       "17         0.495334         0.467117             0.449134   \n",
       "18         0.478946         0.498076             0.443029   \n",
       "19         0.411262         0.425934             0.456833   \n",
       "\n",
       "    top_logfc_corr_K562  top_logfc_corr_MCF7  \n",
       "0              0.253293             0.221893  \n",
       "1              0.476211             0.559325  \n",
       "2              0.525379             0.462541  \n",
       "3              0.586547             0.496411  \n",
       "4              0.433250             0.511189  \n",
       "5              0.192141             0.242769  \n",
       "6              0.493889             0.595840  \n",
       "7              0.499896             0.501437  \n",
       "8              0.532070             0.522191  \n",
       "9              0.460471             0.559087  \n",
       "10             0.117793             0.197669  \n",
       "11             0.418703             0.541740  \n",
       "12             0.311991             0.471477  \n",
       "13             0.464271             0.538665  \n",
       "14             0.392188             0.479083  \n",
       "15             0.216084             0.241643  \n",
       "16             0.433166             0.562750  \n",
       "17             0.519621             0.503924  \n",
       "18             0.507142             0.538638  \n",
       "19             0.385607             0.503144  \n",
       "\n",
       "[20 rows x 22 columns]"
      ]
     },
     "execution_count": 33,
     "metadata": {},
     "output_type": "execute_result"
    }
   ],
   "source": [
    "df"
   ]
  },
  {
   "cell_type": "code",
   "execution_count": 34,
   "id": "30786d3a-9e6e-4bb4-929e-7f14c1f92951",
   "metadata": {},
   "outputs": [],
   "source": [
    "#df.to_csv('./results/feature_selection/full_results_fs.csv')"
   ]
  },
  {
   "cell_type": "code",
   "execution_count": null,
   "id": "a78981d8-35d6-417f-92cc-61a949371084",
   "metadata": {},
   "outputs": [],
   "source": []
  }
 ],
 "metadata": {
  "kernelspec": {
   "display_name": "Python 3 (ipykernel)",
   "language": "python",
   "name": "python3"
  },
  "language_info": {
   "codemirror_mode": {
    "name": "ipython",
    "version": 3
   },
   "file_extension": ".py",
   "mimetype": "text/x-python",
   "name": "python",
   "nbconvert_exporter": "python",
   "pygments_lexer": "ipython3",
   "version": "3.12.7"
  }
 },
 "nbformat": 4,
 "nbformat_minor": 5
}
