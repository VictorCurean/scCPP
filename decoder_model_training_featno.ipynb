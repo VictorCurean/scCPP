{
 "cells": [
  {
   "cell_type": "code",
   "execution_count": 1,
   "id": "a5b97a7d-3187-43e9-8f4c-0e5a9f3ced8e",
   "metadata": {},
   "outputs": [],
   "source": [
    "import anndata as ad\n",
    "import pickle as pkl\n",
    "\n",
    "from src.evaluator.decoder_evaluator import get_models_results\n",
    "from src.evaluator.evaluator_utils import l2_loss"
   ]
  },
  {
   "cell_type": "code",
   "execution_count": 2,
   "id": "b693acab-bcf5-43fb-996b-a33455e1553e",
   "metadata": {},
   "outputs": [],
   "source": [
    "def train_different_featno(adata_path=None, run_name=None, res_savename=None, output_dim=None):\n",
    "    DRUG_ENCODING_NAME = \"fmfp\"\n",
    "    DRUG_ENCODING_SIZE = 1024\n",
    "    N_TRIALS = 50\n",
    "    SCHEDULER_MODE = 'min'\n",
    "\n",
    "    with open(\"./data/drug_splits/train_drugs_rand.pkl\", 'rb') as f:\n",
    "        drugs_train_rand = pkl.load(f)\n",
    "\n",
    "    with open(\"./data/drug_splits/val_drugs_rand.pkl\", 'rb') as f:\n",
    "        drugs_val_rand = pkl.load(f)\n",
    "\n",
    "    with open(\"./data/drug_splits/test_drugs_rand.pkl\", 'rb') as f:\n",
    "        drugs_test_rand = pkl.load(f)\n",
    "\n",
    "    drug_splits = dict()\n",
    "    drug_splits['train'] = drugs_train_rand\n",
    "    drug_splits['valid'] = drugs_val_rand\n",
    "    drug_splits['test'] = drugs_test_rand\n",
    "\n",
    "    adata = ad.read_h5ad(adata_path)\n",
    "\n",
    "    get_models_results(drug_splits=drug_splits,\n",
    "                          loss_function=l2_loss,\n",
    "                          adata=adata,\n",
    "                          input_dim=3,\n",
    "                          output_dim=output_dim,\n",
    "                          drug_rep_name=DRUG_ENCODING_NAME,\n",
    "                          drug_emb_size=DRUG_ENCODING_SIZE,\n",
    "                          n_trials=N_TRIALS,\n",
    "                          scheduler_mode=SCHEDULER_MODE,\n",
    "                          run_name=run_name,\n",
    "                          save_path=res_savename,\n",
    "                          add_relu=True\n",
    "                      )"
   ]
  },
  {
   "cell_type": "code",
   "execution_count": 3,
   "id": "da03abdc-b696-4375-99b3-563e3be3e48a",
   "metadata": {},
   "outputs": [
    {
     "name": "stdout",
     "output_type": "stream",
     "text": [
      "Loading Datasets ...\n"
     ]
    },
    {
     "name": "stderr",
     "output_type": "stream",
     "text": [
      "100%|█████████████████████████████████████████████████████████████████████████████████████████████████████████████████████████████████████| 557340/557340 [04:13<00:00, 2202.40it/s]\n",
      "100%|█████████████████████████████████████████████████████████████████████████████████████████████████████████████████████████████████████| 557340/557340 [01:42<00:00, 5424.16it/s]\n",
      "[I 2025-09-18 12:31:20,820] A new study created in RDB with name: decoder_hvg_500\n"
     ]
    },
    {
     "name": "stdout",
     "output_type": "stream",
     "text": [
      "Optimizing Hyperparameters with Optuna ...\n",
      "Epoch:\t 0 Val Loss:\t 0.04474687366881575\n",
      "Epoch:\t 1 Val Loss:\t 0.04232094701894415\n",
      "Epoch:\t 2 Val Loss:\t 0.040911180292808914\n",
      "Epoch:\t 3 Val Loss:\t 0.040038670881561565\n",
      "Epoch:\t 4 Val Loss:\t 0.039586890337428425\n",
      "Epoch:\t 5 Val Loss:\t 0.039320503968343086\n",
      "Epoch:\t 6 Val Loss:\t 0.03902246172212142\n",
      "Epoch:\t 7 Val Loss:\t 0.03900624637499573\n",
      "Epoch:\t 8 Val Loss:\t 0.03880297671246335\n",
      "Epoch:\t 9 Val Loss:\t 0.03873033172361181\n",
      "Epoch:\t 10 Val Loss:\t 0.038719916132113244\n",
      "Epoch:\t 11 Val Loss:\t 0.03862624632521304\n",
      "Epoch:\t 12 Val Loss:\t 0.038542040434431254\n",
      "Epoch:\t 13 Val Loss:\t 0.03851653111754602\n",
      "Epoch:\t 14 Val Loss:\t 0.03849772448055489\n",
      "Epoch:\t 15 Val Loss:\t 0.03844174209865336\n",
      "Epoch:\t 16 Val Loss:\t 0.03838666340035498\n",
      "Epoch:\t 17 Val Loss:\t 0.03839067812321078\n",
      "Epoch:\t 18 Val Loss:\t 0.038358509525414405\n",
      "Epoch:\t 19 Val Loss:\t 0.0383426919795841\n",
      "Epoch:\t 20 Val Loss:\t 0.03832434426287879\n",
      "Epoch:\t 21 Val Loss:\t 0.03829870353756812\n",
      "Epoch:\t 22 Val Loss:\t 0.03829486159289756\n",
      "Epoch:\t 23 Val Loss:\t 0.038287130185553284\n",
      "Epoch:\t 24 Val Loss:\t 0.03824225306277283\n",
      "Epoch:\t 25 Val Loss:\t 0.03829159646464834\n",
      "Epoch:\t 26 Val Loss:\t 0.03822292660933062\n",
      "Epoch:\t 27 Val Loss:\t 0.03820906272082309\n",
      "Epoch:\t 28 Val Loss:\t 0.03828320141262986\n",
      "Epoch:\t 29 Val Loss:\t 0.03823956309381816\n",
      "Epoch:\t 30 Val Loss:\t 0.03823593873033056\n",
      "Epoch:\t 31 Val Loss:\t 0.03822621499792901\n",
      "Epoch:\t 32 Val Loss:\t 0.03822831356515037\n",
      "Epoch:\t 33 Val Loss:\t 0.03824853603095336\n",
      "Epoch:\t 34 Val Loss:\t 0.038221468088951535\n",
      "Epoch:\t 35 Val Loss:\t 0.03821714596258223\n",
      "Epoch:\t 36 Val Loss:\t 0.038223298777080854\n"
     ]
    },
    {
     "name": "stderr",
     "output_type": "stream",
     "text": [
      "[I 2025-09-18 12:33:09,179] Trial 0 finished with value: 0.03820906272082309 and parameters: {'lr': 0.0001, 'weight_decay': 1e-05, 'scheduler_factor': 0.1, 'scheduler_patience': 5, 'batch_size': 128, 'dropout': 0.2, 'hidden_dims': 256}. Best is trial 0 with value: 0.03820906272082309.\n"
     ]
    },
    {
     "name": "stdout",
     "output_type": "stream",
     "text": [
      "Epoch:\t 37 Val Loss:\t 0.038227935376794496\n",
      "Epoch:\t 0 Val Loss:\t 0.03903578608013753\n",
      "Epoch:\t 1 Val Loss:\t 0.038815132044358415\n",
      "Epoch:\t 2 Val Loss:\t 0.03877568027377777\n",
      "Epoch:\t 3 Val Loss:\t 0.03867534359698975\n",
      "Epoch:\t 4 Val Loss:\t 0.0389652843658034\n",
      "Epoch:\t 5 Val Loss:\t 0.03875303116540431\n",
      "Epoch:\t 6 Val Loss:\t 0.0387197901771374\n",
      "Epoch:\t 7 Val Loss:\t 0.03880106960014579\n",
      "Epoch:\t 8 Val Loss:\t 0.03878872483538\n",
      "Epoch:\t 9 Val Loss:\t 0.03910054025346575\n",
      "Epoch:\t 10 Val Loss:\t 0.03867710409930521\n",
      "Epoch:\t 11 Val Loss:\t 0.03880958261253953\n",
      "Epoch:\t 12 Val Loss:\t 0.038699392810027225\n",
      "Epoch:\t 13 Val Loss:\t 0.03865046585679928\n",
      "Epoch:\t 14 Val Loss:\t 0.03876072298705656\n",
      "Epoch:\t 15 Val Loss:\t 0.03860161233159401\n",
      "Epoch:\t 16 Val Loss:\t 0.03893400852748281\n",
      "Epoch:\t 17 Val Loss:\t 0.03865770797057264\n",
      "Epoch:\t 18 Val Loss:\t 0.038659708400931275\n",
      "Epoch:\t 19 Val Loss:\t 0.03871263378449341\n",
      "Epoch:\t 20 Val Loss:\t 0.03859189988529948\n",
      "Epoch:\t 21 Val Loss:\t 0.03902452892679102\n",
      "Epoch:\t 22 Val Loss:\t 0.03880584462906965\n",
      "Epoch:\t 23 Val Loss:\t 0.0388990351672198\n",
      "Epoch:\t 24 Val Loss:\t 0.03875825651534238\n",
      "Epoch:\t 25 Val Loss:\t 0.03880372005110142\n",
      "Epoch:\t 26 Val Loss:\t 0.03868428056855087\n",
      "Epoch:\t 27 Val Loss:\t 0.0388399728599665\n",
      "Epoch:\t 28 Val Loss:\t 0.038640493482197814\n",
      "Epoch:\t 29 Val Loss:\t 0.03866586515059254\n"
     ]
    },
    {
     "name": "stderr",
     "output_type": "stream",
     "text": [
      "[I 2025-09-18 12:44:26,912] Trial 1 finished with value: 0.03859189988529948 and parameters: {'lr': 0.0001, 'weight_decay': 0.001, 'scheduler_factor': 0.5, 'scheduler_patience': 5, 'batch_size': 16, 'dropout': 0.05, 'hidden_dims': 256}. Best is trial 0 with value: 0.03820906272082309.\n"
     ]
    },
    {
     "name": "stdout",
     "output_type": "stream",
     "text": [
      "Epoch:\t 30 Val Loss:\t 0.038713127653654\n",
      "Epoch:\t 0 Val Loss:\t 0.05344794063374054\n",
      "Epoch:\t 1 Val Loss:\t 0.04874392820652141\n",
      "Epoch:\t 2 Val Loss:\t 0.047722781276287034\n",
      "Epoch:\t 3 Val Loss:\t 0.04697970410938873\n",
      "Epoch:\t 4 Val Loss:\t 0.04658518038516821\n",
      "Epoch:\t 5 Val Loss:\t 0.046416599814628444\n",
      "Epoch:\t 6 Val Loss:\t 0.046323582105511844\n",
      "Epoch:\t 7 Val Loss:\t 0.04623656807424024\n",
      "Epoch:\t 8 Val Loss:\t 0.04634226369130057\n",
      "Epoch:\t 9 Val Loss:\t 0.04646205584150414\n",
      "Epoch:\t 10 Val Loss:\t 0.046567816625154294\n",
      "Epoch:\t 11 Val Loss:\t 0.046487539244252585\n",
      "Epoch:\t 12 Val Loss:\t 0.04672814648338529\n",
      "Epoch:\t 13 Val Loss:\t 0.04680780830771424\n",
      "Epoch:\t 14 Val Loss:\t 0.04677682998915051\n",
      "Epoch:\t 15 Val Loss:\t 0.046667017545117886\n",
      "Epoch:\t 16 Val Loss:\t 0.046762344942883005\n"
     ]
    },
    {
     "name": "stderr",
     "output_type": "stream",
     "text": [
      "[I 2025-09-18 12:45:07,416] Trial 2 finished with value: 0.04623656807424024 and parameters: {'lr': 1e-05, 'weight_decay': 1e-06, 'scheduler_factor': 0.1, 'scheduler_patience': 5, 'batch_size': 256, 'dropout': 0.2, 'hidden_dims': 1024}. Best is trial 0 with value: 0.03820906272082309.\n"
     ]
    },
    {
     "name": "stdout",
     "output_type": "stream",
     "text": [
      "Epoch:\t 17 Val Loss:\t 0.04681006422223047\n",
      "Epoch:\t 0 Val Loss:\t 0.038423677927474434\n",
      "Epoch:\t 1 Val Loss:\t 0.038485598552040215\n",
      "Epoch:\t 2 Val Loss:\t 0.03856268631444636\n",
      "Epoch:\t 3 Val Loss:\t 0.03838727051350037\n",
      "Epoch:\t 4 Val Loss:\t 0.038373121683114464\n",
      "Epoch:\t 5 Val Loss:\t 0.03846292622880367\n",
      "Epoch:\t 6 Val Loss:\t 0.03855878511066448\n",
      "Epoch:\t 7 Val Loss:\t 0.038409828567294725\n",
      "Epoch:\t 8 Val Loss:\t 0.038532951140794656\n",
      "Epoch:\t 9 Val Loss:\t 0.03843425554334166\n",
      "Epoch:\t 10 Val Loss:\t 0.03843117188456892\n",
      "Epoch:\t 11 Val Loss:\t 0.038244790280290764\n",
      "Epoch:\t 12 Val Loss:\t 0.038227977429517154\n",
      "Epoch:\t 13 Val Loss:\t 0.03824695341507415\n",
      "Epoch:\t 14 Val Loss:\t 0.03830244984300467\n",
      "Epoch:\t 15 Val Loss:\t 0.03821674664950758\n",
      "Epoch:\t 16 Val Loss:\t 0.038288119310125046\n",
      "Epoch:\t 17 Val Loss:\t 0.03823365739293211\n",
      "Epoch:\t 18 Val Loss:\t 0.0382294507569661\n",
      "Epoch:\t 19 Val Loss:\t 0.03823857725334683\n",
      "Epoch:\t 20 Val Loss:\t 0.0382506852873314\n",
      "Epoch:\t 21 Val Loss:\t 0.03825803114467766\n",
      "Epoch:\t 22 Val Loss:\t 0.038254055590760686\n",
      "Epoch:\t 23 Val Loss:\t 0.03823452295105228\n",
      "Epoch:\t 24 Val Loss:\t 0.03821224724961465\n",
      "Epoch:\t 25 Val Loss:\t 0.038218492076116564\n",
      "Epoch:\t 26 Val Loss:\t 0.03822379812405802\n",
      "Epoch:\t 27 Val Loss:\t 0.03821666236940903\n",
      "Epoch:\t 28 Val Loss:\t 0.03822129468627607\n",
      "Epoch:\t 29 Val Loss:\t 0.03825261773302658\n",
      "Epoch:\t 30 Val Loss:\t 0.038203274777123424\n",
      "Epoch:\t 31 Val Loss:\t 0.0382292474286541\n",
      "Epoch:\t 32 Val Loss:\t 0.03824880389032915\n",
      "Epoch:\t 33 Val Loss:\t 0.03824605410340233\n",
      "Epoch:\t 34 Val Loss:\t 0.03823886396989304\n",
      "Epoch:\t 35 Val Loss:\t 0.03821500238772747\n",
      "Epoch:\t 36 Val Loss:\t 0.038248686297205875\n",
      "Epoch:\t 37 Val Loss:\t 0.03820417929106693\n",
      "Epoch:\t 38 Val Loss:\t 0.03822898123633858\n",
      "Epoch:\t 39 Val Loss:\t 0.038247869828379716\n"
     ]
    },
    {
     "name": "stderr",
     "output_type": "stream",
     "text": [
      "[I 2025-09-18 12:52:00,293] Trial 3 finished with value: 0.038203274777123424 and parameters: {'lr': 0.001, 'weight_decay': 0.0001, 'scheduler_factor': 0.1, 'scheduler_patience': 5, 'batch_size': 32, 'dropout': 0.2, 'hidden_dims': 512}. Best is trial 3 with value: 0.038203274777123424.\n"
     ]
    },
    {
     "name": "stdout",
     "output_type": "stream",
     "text": [
      "Epoch:\t 40 Val Loss:\t 0.03822429077370061\n",
      "Epoch:\t 0 Val Loss:\t 0.057238374484321335\n",
      "Epoch:\t 1 Val Loss:\t 0.05508331473899472\n",
      "Epoch:\t 2 Val Loss:\t 0.05294025370778729\n",
      "Epoch:\t 3 Val Loss:\t 0.05063208167182278\n",
      "Epoch:\t 4 Val Loss:\t 0.04935207803048803\n",
      "Epoch:\t 5 Val Loss:\t 0.04812876278403725\n",
      "Epoch:\t 6 Val Loss:\t 0.0476757254331517\n",
      "Epoch:\t 7 Val Loss:\t 0.04737839587270625\n",
      "Epoch:\t 8 Val Loss:\t 0.04704577577350638\n",
      "Epoch:\t 9 Val Loss:\t 0.04693017903719696\n",
      "Epoch:\t 10 Val Loss:\t 0.04656955562758968\n",
      "Epoch:\t 11 Val Loss:\t 0.046482007624067956\n",
      "Epoch:\t 12 Val Loss:\t 0.046370879421578165\n",
      "Epoch:\t 13 Val Loss:\t 0.046356305701077606\n",
      "Epoch:\t 14 Val Loss:\t 0.04633464924320881\n",
      "Epoch:\t 15 Val Loss:\t 0.04618117338596685\n",
      "Epoch:\t 16 Val Loss:\t 0.046357112434528905\n",
      "Epoch:\t 17 Val Loss:\t 0.0463219119502892\n",
      "Epoch:\t 18 Val Loss:\t 0.04612498923442129\n",
      "Epoch:\t 19 Val Loss:\t 0.046175625963321414\n",
      "Epoch:\t 20 Val Loss:\t 0.04634576747858777\n",
      "Epoch:\t 21 Val Loss:\t 0.04622868177909631\n",
      "Epoch:\t 22 Val Loss:\t 0.0461415210690131\n",
      "Epoch:\t 23 Val Loss:\t 0.04607557756928981\n",
      "Epoch:\t 24 Val Loss:\t 0.04614032348980062\n",
      "Epoch:\t 25 Val Loss:\t 0.04611445461614441\n",
      "Epoch:\t 26 Val Loss:\t 0.046305647183661536\n",
      "Epoch:\t 27 Val Loss:\t 0.04611518930857844\n",
      "Epoch:\t 28 Val Loss:\t 0.046237912923594894\n",
      "Epoch:\t 29 Val Loss:\t 0.046153703021254225\n",
      "Epoch:\t 30 Val Loss:\t 0.04617584187935257\n",
      "Epoch:\t 31 Val Loss:\t 0.046200958396255695\n",
      "Epoch:\t 32 Val Loss:\t 0.046105882572902025\n"
     ]
    },
    {
     "name": "stderr",
     "output_type": "stream",
     "text": [
      "[I 2025-09-18 12:57:35,032] Trial 4 finished with value: 0.04607557756928981 and parameters: {'lr': 1e-06, 'weight_decay': 1e-06, 'scheduler_factor': 0.1, 'scheduler_patience': 1, 'batch_size': 32, 'dropout': 0.15, 'hidden_dims': 512}. Best is trial 3 with value: 0.038203274777123424.\n"
     ]
    },
    {
     "name": "stdout",
     "output_type": "stream",
     "text": [
      "Epoch:\t 33 Val Loss:\t 0.046224229398291086\n",
      "Epoch:\t 0 Val Loss:\t 0.03845688847374134\n",
      "Epoch:\t 1 Val Loss:\t 0.03832948296068715\n",
      "Epoch:\t 2 Val Loss:\t 0.0383625811336695\n",
      "Epoch:\t 3 Val Loss:\t 0.03837154220921559\n",
      "Epoch:\t 4 Val Loss:\t 0.03841953393930242\n",
      "Epoch:\t 5 Val Loss:\t 0.03837333855262968\n",
      "Epoch:\t 6 Val Loss:\t 0.038372710617437515\n",
      "Epoch:\t 7 Val Loss:\t 0.038347847103527725\n",
      "Epoch:\t 8 Val Loss:\t 0.038331293822571555\n",
      "Epoch:\t 9 Val Loss:\t 0.038375986213522874\n",
      "Epoch:\t 10 Val Loss:\t 0.03836623352676094\n",
      "Epoch:\t 11 Val Loss:\t 0.038276277534399904\n",
      "Epoch:\t 12 Val Loss:\t 0.03836471017058755\n",
      "Epoch:\t 13 Val Loss:\t 0.03839785336596255\n",
      "Epoch:\t 14 Val Loss:\t 0.03838394491031152\n",
      "Epoch:\t 15 Val Loss:\t 0.038336896966197985\n",
      "Epoch:\t 16 Val Loss:\t 0.03832384438247993\n",
      "Epoch:\t 17 Val Loss:\t 0.03829939784271317\n",
      "Epoch:\t 18 Val Loss:\t 0.03832247932411804\n",
      "Epoch:\t 19 Val Loss:\t 0.03829059910161061\n",
      "Epoch:\t 20 Val Loss:\t 0.03835150252355266\n"
     ]
    },
    {
     "name": "stderr",
     "output_type": "stream",
     "text": [
      "[I 2025-09-18 12:59:22,171] Trial 5 finished with value: 0.038276277534399904 and parameters: {'lr': 0.001, 'weight_decay': 0.0001, 'scheduler_factor': 0.8, 'scheduler_patience': 5, 'batch_size': 64, 'dropout': 0.15, 'hidden_dims': 128}. Best is trial 3 with value: 0.038203274777123424.\n"
     ]
    },
    {
     "name": "stdout",
     "output_type": "stream",
     "text": [
      "Epoch:\t 21 Val Loss:\t 0.03831861072473414\n"
     ]
    },
    {
     "name": "stderr",
     "output_type": "stream",
     "text": [
      "[I 2025-09-18 12:59:25,205] Trial 6 pruned. \n"
     ]
    },
    {
     "name": "stdout",
     "output_type": "stream",
     "text": [
      "Epoch:\t 0 Val Loss:\t 0.059456196058710276\n",
      "Epoch:\t 0 Val Loss:\t 0.03950262286469911\n",
      "Epoch:\t 1 Val Loss:\t 0.03854406816488982\n",
      "Epoch:\t 2 Val Loss:\t 0.03841493028009464\n",
      "Epoch:\t 3 Val Loss:\t 0.038700793883855195\n",
      "Epoch:\t 4 Val Loss:\t 0.03872082990991183\n",
      "Epoch:\t 5 Val Loss:\t 0.03865340375855271\n",
      "Epoch:\t 6 Val Loss:\t 0.03872555454935485\n",
      "Epoch:\t 7 Val Loss:\t 0.03871533716406833\n",
      "Epoch:\t 8 Val Loss:\t 0.03868369007662683\n",
      "Epoch:\t 9 Val Loss:\t 0.03870418648755786\n",
      "Epoch:\t 10 Val Loss:\t 0.038662084033247626\n",
      "Epoch:\t 11 Val Loss:\t 0.038584551662552785\n"
     ]
    },
    {
     "name": "stderr",
     "output_type": "stream",
     "text": [
      "[I 2025-09-18 13:00:03,667] Trial 7 finished with value: 0.03841493028009464 and parameters: {'lr': 0.0001, 'weight_decay': 0.001, 'scheduler_factor': 0.1, 'scheduler_patience': 5, 'batch_size': 128, 'dropout': 0.15, 'hidden_dims': 128}. Best is trial 3 with value: 0.038203274777123424.\n"
     ]
    },
    {
     "name": "stdout",
     "output_type": "stream",
     "text": [
      "Epoch:\t 12 Val Loss:\t 0.0386752745268583\n"
     ]
    },
    {
     "name": "stderr",
     "output_type": "stream",
     "text": [
      "[I 2025-09-18 13:00:08,471] Trial 8 pruned. \n"
     ]
    },
    {
     "name": "stdout",
     "output_type": "stream",
     "text": [
      "Epoch:\t 0 Val Loss:\t 0.06701278083731252\n"
     ]
    },
    {
     "name": "stderr",
     "output_type": "stream",
     "text": [
      "[I 2025-09-18 13:00:29,762] Trial 9 pruned. \n"
     ]
    },
    {
     "name": "stdout",
     "output_type": "stream",
     "text": [
      "Epoch:\t 0 Val Loss:\t 0.05602773160161741\n",
      "Epoch:\t 0 Val Loss:\t 0.03839063201503946\n",
      "Epoch:\t 1 Val Loss:\t 0.038486296809383834\n",
      "Epoch:\t 2 Val Loss:\t 0.0384190718762823\n",
      "Epoch:\t 3 Val Loss:\t 0.0385055334106719\n",
      "Epoch:\t 4 Val Loss:\t 0.03838603451979918\n",
      "Epoch:\t 5 Val Loss:\t 0.03851028218285953\n",
      "Epoch:\t 6 Val Loss:\t 0.03849395609380233\n",
      "Epoch:\t 7 Val Loss:\t 0.03840785509529964\n",
      "Epoch:\t 8 Val Loss:\t 0.03843342138965654\n",
      "Epoch:\t 9 Val Loss:\t 0.03839792700368723\n",
      "Epoch:\t 10 Val Loss:\t 0.03836985308248863\n",
      "Epoch:\t 11 Val Loss:\t 0.038529124408765755\n",
      "Epoch:\t 12 Val Loss:\t 0.038552727863231474\n",
      "Epoch:\t 13 Val Loss:\t 0.03845796324269445\n",
      "Epoch:\t 14 Val Loss:\t 0.03836993870416735\n",
      "Epoch:\t 15 Val Loss:\t 0.038398624383760654\n",
      "Epoch:\t 16 Val Loss:\t 0.038377430437006234\n",
      "Epoch:\t 17 Val Loss:\t 0.03844001760476042\n"
     ]
    },
    {
     "name": "stderr",
     "output_type": "stream",
     "text": [
      "[I 2025-09-18 13:03:27,193] Trial 10 pruned. \n"
     ]
    },
    {
     "name": "stdout",
     "output_type": "stream",
     "text": [
      "Epoch:\t 18 Val Loss:\t 0.038484445012007526\n"
     ]
    },
    {
     "name": "stderr",
     "output_type": "stream",
     "text": [
      "[I 2025-09-18 13:03:35,387] Trial 11 pruned. \n"
     ]
    },
    {
     "name": "stdout",
     "output_type": "stream",
     "text": [
      "Epoch:\t 0 Val Loss:\t 0.04140275497328937\n",
      "Epoch:\t 0 Val Loss:\t 0.03900200332775625\n",
      "Epoch:\t 1 Val Loss:\t 0.03850845914684522\n",
      "Epoch:\t 2 Val Loss:\t 0.03840298069322982\n",
      "Epoch:\t 3 Val Loss:\t 0.03822628716298927\n",
      "Epoch:\t 4 Val Loss:\t 0.038249837578589074\n",
      "Epoch:\t 5 Val Loss:\t 0.038272229299105\n",
      "Epoch:\t 6 Val Loss:\t 0.038243463035763765\n",
      "Epoch:\t 7 Val Loss:\t 0.03826866340882964\n",
      "Epoch:\t 8 Val Loss:\t 0.0382258819327468\n",
      "Epoch:\t 9 Val Loss:\t 0.03824113970503436\n",
      "Epoch:\t 10 Val Loss:\t 0.03825107773465216\n",
      "Epoch:\t 11 Val Loss:\t 0.03824708744468174\n",
      "Epoch:\t 12 Val Loss:\t 0.03824686927290397\n",
      "Epoch:\t 13 Val Loss:\t 0.038230008226100023\n",
      "Epoch:\t 14 Val Loss:\t 0.03825273126381061\n",
      "Epoch:\t 15 Val Loss:\t 0.03814523715772487\n",
      "Epoch:\t 16 Val Loss:\t 0.03816448638386566\n",
      "Epoch:\t 17 Val Loss:\t 0.038142057044840444\n",
      "Epoch:\t 18 Val Loss:\t 0.038162225074244015\n",
      "Epoch:\t 19 Val Loss:\t 0.038178263725355946\n",
      "Epoch:\t 20 Val Loss:\t 0.03815901896653483\n",
      "Epoch:\t 21 Val Loss:\t 0.03817189046323438\n",
      "Epoch:\t 22 Val Loss:\t 0.038196455531523205\n",
      "Epoch:\t 23 Val Loss:\t 0.03821544210739113\n",
      "Epoch:\t 24 Val Loss:\t 0.0382102056364253\n",
      "Epoch:\t 25 Val Loss:\t 0.03822608569444403\n",
      "Epoch:\t 26 Val Loss:\t 0.03820929483539759\n"
     ]
    },
    {
     "name": "stderr",
     "output_type": "stream",
     "text": [
      "[I 2025-09-18 13:05:00,106] Trial 12 finished with value: 0.038142057044840444 and parameters: {'lr': 0.001, 'weight_decay': 1e-05, 'scheduler_factor': 0.1, 'scheduler_patience': 10, 'batch_size': 128, 'dropout': 0.2, 'hidden_dims': 512}. Best is trial 12 with value: 0.038142057044840444.\n"
     ]
    },
    {
     "name": "stdout",
     "output_type": "stream",
     "text": [
      "Epoch:\t 27 Val Loss:\t 0.03820201937156826\n"
     ]
    },
    {
     "name": "stderr",
     "output_type": "stream",
     "text": [
      "[I 2025-09-18 13:05:02,439] Trial 13 pruned. \n"
     ]
    },
    {
     "name": "stdout",
     "output_type": "stream",
     "text": [
      "Epoch:\t 0 Val Loss:\t 0.03960018731480421\n",
      "Epoch:\t 0 Val Loss:\t 0.03837817989384893\n",
      "Epoch:\t 1 Val Loss:\t 0.038317544432816396\n",
      "Epoch:\t 2 Val Loss:\t 0.03833756562067251\n",
      "Epoch:\t 3 Val Loss:\t 0.038320155701320566\n",
      "Epoch:\t 4 Val Loss:\t 0.038331819031208116\n",
      "Epoch:\t 5 Val Loss:\t 0.038336723656958435\n",
      "Epoch:\t 6 Val Loss:\t 0.03834254518140473\n",
      "Epoch:\t 7 Val Loss:\t 0.03825907417947618\n",
      "Epoch:\t 8 Val Loss:\t 0.03830828168551052\n",
      "Epoch:\t 9 Val Loss:\t 0.03838280926594209\n",
      "Epoch:\t 10 Val Loss:\t 0.038304782769298454\n",
      "Epoch:\t 11 Val Loss:\t 0.0383428265981147\n",
      "Epoch:\t 12 Val Loss:\t 0.03835506873282059\n",
      "Epoch:\t 13 Val Loss:\t 0.03831743502376457\n",
      "Epoch:\t 14 Val Loss:\t 0.03839183901504192\n",
      "Epoch:\t 15 Val Loss:\t 0.038330562288418316\n",
      "Epoch:\t 16 Val Loss:\t 0.03832374095702701\n"
     ]
    },
    {
     "name": "stderr",
     "output_type": "stream",
     "text": [
      "[I 2025-09-18 13:08:02,221] Trial 14 finished with value: 0.03825907417947618 and parameters: {'lr': 0.001, 'weight_decay': 1e-05, 'scheduler_factor': 0.1, 'scheduler_patience': 10, 'batch_size': 32, 'dropout': 0.1, 'hidden_dims': 512}. Best is trial 12 with value: 0.038142057044840444.\n"
     ]
    },
    {
     "name": "stdout",
     "output_type": "stream",
     "text": [
      "Epoch:\t 17 Val Loss:\t 0.03830846618251249\n",
      "Epoch:\t 0 Val Loss:\t 0.03862507249532607\n",
      "Epoch:\t 1 Val Loss:\t 0.038422173189819206\n",
      "Epoch:\t 2 Val Loss:\t 0.03832963910105267\n",
      "Epoch:\t 3 Val Loss:\t 0.038337691478284114\n",
      "Epoch:\t 4 Val Loss:\t 0.03834860471188676\n",
      "Epoch:\t 5 Val Loss:\t 0.038374035975070504\n",
      "Epoch:\t 6 Val Loss:\t 0.03829213439700011\n",
      "Epoch:\t 7 Val Loss:\t 0.03827082120427271\n",
      "Epoch:\t 8 Val Loss:\t 0.03829318323712385\n",
      "Epoch:\t 9 Val Loss:\t 0.038253669591315535\n",
      "Epoch:\t 10 Val Loss:\t 0.03827353926217584\n",
      "Epoch:\t 11 Val Loss:\t 0.03830973679604362\n",
      "Epoch:\t 12 Val Loss:\t 0.03832834961626173\n",
      "Epoch:\t 13 Val Loss:\t 0.03839312567571384\n",
      "Epoch:\t 14 Val Loss:\t 0.03833639991451293\n",
      "Epoch:\t 15 Val Loss:\t 0.038301822399497726\n",
      "Epoch:\t 16 Val Loss:\t 0.03830463535495267\n",
      "Epoch:\t 17 Val Loss:\t 0.038308672877363906\n",
      "Epoch:\t 18 Val Loss:\t 0.03831613203564726\n"
     ]
    },
    {
     "name": "stderr",
     "output_type": "stream",
     "text": [
      "[I 2025-09-18 13:09:01,956] Trial 15 finished with value: 0.038253669591315535 and parameters: {'lr': 0.001, 'weight_decay': 0.0001, 'scheduler_factor': 0.1, 'scheduler_patience': 10, 'batch_size': 128, 'dropout': 0.05, 'hidden_dims': 512}. Best is trial 12 with value: 0.038142057044840444.\n"
     ]
    },
    {
     "name": "stdout",
     "output_type": "stream",
     "text": [
      "Epoch:\t 19 Val Loss:\t 0.03831819162577495\n",
      "Epoch:\t 0 Val Loss:\t 0.03838695537458913\n",
      "Epoch:\t 1 Val Loss:\t 0.03835319709605729\n",
      "Epoch:\t 2 Val Loss:\t 0.03827454106913565\n",
      "Epoch:\t 3 Val Loss:\t 0.03829569097671029\n",
      "Epoch:\t 4 Val Loss:\t 0.03832782839343289\n",
      "Epoch:\t 5 Val Loss:\t 0.038287088273874705\n",
      "Epoch:\t 6 Val Loss:\t 0.03831590508995659\n",
      "Epoch:\t 7 Val Loss:\t 0.03829389802129962\n",
      "Epoch:\t 8 Val Loss:\t 0.03826234784589143\n",
      "Epoch:\t 9 Val Loss:\t 0.0383041905070581\n",
      "Epoch:\t 10 Val Loss:\t 0.03833147459320218\n",
      "Epoch:\t 11 Val Loss:\t 0.038312187121053526\n",
      "Epoch:\t 12 Val Loss:\t 0.038297303010143655\n",
      "Epoch:\t 13 Val Loss:\t 0.038319095384893864\n",
      "Epoch:\t 14 Val Loss:\t 0.03831442805018992\n",
      "Epoch:\t 15 Val Loss:\t 0.03837112615990884\n",
      "Epoch:\t 16 Val Loss:\t 0.038298034272953925\n",
      "Epoch:\t 17 Val Loss:\t 0.03831124030922778\n"
     ]
    },
    {
     "name": "stderr",
     "output_type": "stream",
     "text": [
      "[I 2025-09-18 13:12:05,499] Trial 16 finished with value: 0.03826234784589143 and parameters: {'lr': 0.001, 'weight_decay': 1e-05, 'scheduler_factor': 0.1, 'scheduler_patience': 10, 'batch_size': 32, 'dropout': 0.2, 'hidden_dims': 64}. Best is trial 12 with value: 0.038142057044840444.\n"
     ]
    },
    {
     "name": "stdout",
     "output_type": "stream",
     "text": [
      "Epoch:\t 18 Val Loss:\t 0.03831728970230888\n"
     ]
    },
    {
     "name": "stderr",
     "output_type": "stream",
     "text": [
      "[I 2025-09-18 13:12:08,820] Trial 17 pruned. \n"
     ]
    },
    {
     "name": "stdout",
     "output_type": "stream",
     "text": [
      "Epoch:\t 0 Val Loss:\t 0.03917327766608486\n",
      "Epoch:\t 0 Val Loss:\t 0.03852507354960805\n",
      "Epoch:\t 1 Val Loss:\t 0.03835919064383692\n",
      "Epoch:\t 2 Val Loss:\t 0.03836591069781704\n",
      "Epoch:\t 3 Val Loss:\t 0.03840072411834087\n",
      "Epoch:\t 4 Val Loss:\t 0.038527175261964995\n",
      "Epoch:\t 5 Val Loss:\t 0.038361098495156905\n",
      "Epoch:\t 6 Val Loss:\t 0.03837759885666714\n",
      "Epoch:\t 7 Val Loss:\t 0.03845889413176894\n",
      "Epoch:\t 8 Val Loss:\t 0.03842313213947376\n",
      "Epoch:\t 9 Val Loss:\t 0.038443404562810236\n",
      "Epoch:\t 10 Val Loss:\t 0.03852676421953057\n"
     ]
    },
    {
     "name": "stderr",
     "output_type": "stream",
     "text": [
      "[I 2025-09-18 13:13:07,332] Trial 18 finished with value: 0.03835919064383692 and parameters: {'lr': 0.001, 'weight_decay': 0.0001, 'scheduler_factor': 0.3, 'scheduler_patience': 20, 'batch_size': 64, 'dropout': 0.2, 'hidden_dims': 512}. Best is trial 12 with value: 0.038142057044840444.\n"
     ]
    },
    {
     "name": "stdout",
     "output_type": "stream",
     "text": [
      "Epoch:\t 11 Val Loss:\t 0.03843689504610855\n"
     ]
    },
    {
     "name": "stderr",
     "output_type": "stream",
     "text": [
      "[I 2025-09-18 13:13:30,822] Trial 19 pruned. \n"
     ]
    },
    {
     "name": "stdout",
     "output_type": "stream",
     "text": [
      "Epoch:\t 0 Val Loss:\t 0.046236214601557316\n"
     ]
    },
    {
     "name": "stderr",
     "output_type": "stream",
     "text": [
      "[I 2025-09-18 13:13:33,076] Trial 20 pruned. \n"
     ]
    },
    {
     "name": "stdout",
     "output_type": "stream",
     "text": [
      "Epoch:\t 0 Val Loss:\t 0.039963595205268196\n"
     ]
    },
    {
     "name": "stderr",
     "output_type": "stream",
     "text": [
      "[I 2025-09-18 13:13:36,177] Trial 21 pruned. \n"
     ]
    },
    {
     "name": "stdout",
     "output_type": "stream",
     "text": [
      "Epoch:\t 0 Val Loss:\t 0.04421165147222985\n"
     ]
    },
    {
     "name": "stderr",
     "output_type": "stream",
     "text": [
      "[I 2025-09-18 13:13:39,276] Trial 22 pruned. \n"
     ]
    },
    {
     "name": "stdout",
     "output_type": "stream",
     "text": [
      "Epoch:\t 0 Val Loss:\t 0.0443485555921559\n"
     ]
    },
    {
     "name": "stderr",
     "output_type": "stream",
     "text": [
      "[I 2025-09-18 13:13:42,304] Trial 23 pruned. \n"
     ]
    },
    {
     "name": "stdout",
     "output_type": "stream",
     "text": [
      "Epoch:\t 0 Val Loss:\t 0.04847579772619835\n"
     ]
    },
    {
     "name": "stderr",
     "output_type": "stream",
     "text": [
      "[I 2025-09-18 13:13:45,315] Trial 24 pruned. \n"
     ]
    },
    {
     "name": "stdout",
     "output_type": "stream",
     "text": [
      "Epoch:\t 0 Val Loss:\t 0.0395493610014622\n"
     ]
    },
    {
     "name": "stderr",
     "output_type": "stream",
     "text": [
      "[I 2025-09-18 13:13:54,376] Trial 25 pruned. \n"
     ]
    },
    {
     "name": "stdout",
     "output_type": "stream",
     "text": [
      "Epoch:\t 0 Val Loss:\t 0.039072554237444386\n"
     ]
    },
    {
     "name": "stderr",
     "output_type": "stream",
     "text": [
      "[I 2025-09-18 13:13:57,483] Trial 26 pruned. \n"
     ]
    },
    {
     "name": "stdout",
     "output_type": "stream",
     "text": [
      "Epoch:\t 0 Val Loss:\t 0.0524145130383913\n"
     ]
    },
    {
     "name": "stderr",
     "output_type": "stream",
     "text": [
      "[I 2025-09-18 13:14:00,589] Trial 27 pruned. \n"
     ]
    },
    {
     "name": "stdout",
     "output_type": "stream",
     "text": [
      "Epoch:\t 0 Val Loss:\t 0.07075739756624597\n",
      "Epoch:\t 0 Val Loss:\t 0.03842701251254792\n",
      "Epoch:\t 1 Val Loss:\t 0.03831607479930737\n",
      "Epoch:\t 2 Val Loss:\t 0.03826150443897871\n",
      "Epoch:\t 3 Val Loss:\t 0.03826257836579567\n",
      "Epoch:\t 4 Val Loss:\t 0.03832112164877126\n",
      "Epoch:\t 5 Val Loss:\t 0.03827731983786967\n",
      "Epoch:\t 6 Val Loss:\t 0.03828987034845252\n",
      "Epoch:\t 7 Val Loss:\t 0.038332084848940615\n",
      "Epoch:\t 8 Val Loss:\t 0.03829773108772739\n",
      "Epoch:\t 9 Val Loss:\t 0.038250940075134444\n",
      "Epoch:\t 10 Val Loss:\t 0.038256214928364105\n",
      "Epoch:\t 11 Val Loss:\t 0.03828301398300858\n",
      "Epoch:\t 12 Val Loss:\t 0.03830201187978044\n",
      "Epoch:\t 13 Val Loss:\t 0.03828474359659265\n",
      "Epoch:\t 14 Val Loss:\t 0.038302570021993984\n",
      "Epoch:\t 15 Val Loss:\t 0.03828218462539148\n",
      "Epoch:\t 16 Val Loss:\t 0.03827100743129374\n",
      "Epoch:\t 17 Val Loss:\t 0.03828323071469022\n",
      "Epoch:\t 18 Val Loss:\t 0.03825755757498606\n"
     ]
    },
    {
     "name": "stderr",
     "output_type": "stream",
     "text": [
      "[I 2025-09-18 13:17:18,568] Trial 28 finished with value: 0.038250940075134444 and parameters: {'lr': 0.001, 'weight_decay': 1e-05, 'scheduler_factor': 0.8, 'scheduler_patience': 5, 'batch_size': 32, 'dropout': 0.1, 'hidden_dims': 256}. Best is trial 12 with value: 0.038142057044840444.\n"
     ]
    },
    {
     "name": "stdout",
     "output_type": "stream",
     "text": [
      "Epoch:\t 19 Val Loss:\t 0.03828913279556633\n"
     ]
    },
    {
     "name": "stderr",
     "output_type": "stream",
     "text": [
      "[I 2025-09-18 13:17:43,247] Trial 29 pruned. \n"
     ]
    },
    {
     "name": "stdout",
     "output_type": "stream",
     "text": [
      "Epoch:\t 0 Val Loss:\t 0.03870226885492719\n"
     ]
    },
    {
     "name": "stderr",
     "output_type": "stream",
     "text": [
      "[I 2025-09-18 13:17:47,627] Trial 30 pruned. \n"
     ]
    },
    {
     "name": "stdout",
     "output_type": "stream",
     "text": [
      "Epoch:\t 0 Val Loss:\t 0.04063295369975386\n",
      "Epoch:\t 0 Val Loss:\t 0.03837339615895782\n",
      "Epoch:\t 1 Val Loss:\t 0.038338563313628796\n",
      "Epoch:\t 2 Val Loss:\t 0.03829587964493472\n",
      "Epoch:\t 3 Val Loss:\t 0.03832806013438048\n",
      "Epoch:\t 4 Val Loss:\t 0.03826876243687755\n",
      "Epoch:\t 5 Val Loss:\t 0.038295547340067404\n",
      "Epoch:\t 6 Val Loss:\t 0.03830303778213536\n",
      "Epoch:\t 7 Val Loss:\t 0.03829896264102524\n",
      "Epoch:\t 8 Val Loss:\t 0.03828216917667964\n",
      "Epoch:\t 9 Val Loss:\t 0.038299416856179734\n",
      "Epoch:\t 10 Val Loss:\t 0.03829485060916311\n",
      "Epoch:\t 11 Val Loss:\t 0.038252748154402126\n",
      "Epoch:\t 12 Val Loss:\t 0.03825379448585554\n",
      "Epoch:\t 13 Val Loss:\t 0.038268987787752326\n",
      "Epoch:\t 14 Val Loss:\t 0.038269499241678745\n",
      "Epoch:\t 15 Val Loss:\t 0.038220253706008664\n",
      "Epoch:\t 16 Val Loss:\t 0.03824855619690149\n",
      "Epoch:\t 17 Val Loss:\t 0.038314942907794955\n",
      "Epoch:\t 18 Val Loss:\t 0.03832006111018926\n",
      "Epoch:\t 19 Val Loss:\t 0.038265618284298315\n",
      "Epoch:\t 20 Val Loss:\t 0.03831191797477523\n",
      "Epoch:\t 21 Val Loss:\t 0.03831448191420126\n",
      "Epoch:\t 22 Val Loss:\t 0.03825823696426403\n",
      "Epoch:\t 23 Val Loss:\t 0.03824381104838568\n",
      "Epoch:\t 24 Val Loss:\t 0.038244505379904654\n"
     ]
    },
    {
     "name": "stderr",
     "output_type": "stream",
     "text": [
      "[I 2025-09-18 13:22:05,964] Trial 31 finished with value: 0.038220253706008664 and parameters: {'lr': 0.001, 'weight_decay': 1e-05, 'scheduler_factor': 0.8, 'scheduler_patience': 5, 'batch_size': 32, 'dropout': 0.1, 'hidden_dims': 256}. Best is trial 12 with value: 0.038142057044840444.\n"
     ]
    },
    {
     "name": "stdout",
     "output_type": "stream",
     "text": [
      "Epoch:\t 25 Val Loss:\t 0.03822944251938279\n",
      "Epoch:\t 0 Val Loss:\t 0.03835072507406139\n",
      "Epoch:\t 1 Val Loss:\t 0.03830180694827474\n",
      "Epoch:\t 2 Val Loss:\t 0.038365903542902986\n",
      "Epoch:\t 3 Val Loss:\t 0.038278533865222564\n",
      "Epoch:\t 4 Val Loss:\t 0.03830615838463145\n",
      "Epoch:\t 5 Val Loss:\t 0.03831796416092839\n",
      "Epoch:\t 6 Val Loss:\t 0.03832314061287421\n",
      "Epoch:\t 7 Val Loss:\t 0.03831353644963118\n",
      "Epoch:\t 8 Val Loss:\t 0.03828978492028134\n",
      "Epoch:\t 9 Val Loss:\t 0.0382405355063527\n",
      "Epoch:\t 10 Val Loss:\t 0.03828374902624258\n",
      "Epoch:\t 11 Val Loss:\t 0.038322533581901\n",
      "Epoch:\t 12 Val Loss:\t 0.03830200579834673\n",
      "Epoch:\t 13 Val Loss:\t 0.03828889143005126\n",
      "Epoch:\t 14 Val Loss:\t 0.03827365505272869\n",
      "Epoch:\t 15 Val Loss:\t 0.038341846787849104\n",
      "Epoch:\t 16 Val Loss:\t 0.038311356433477516\n",
      "Epoch:\t 17 Val Loss:\t 0.03831467807759951\n",
      "Epoch:\t 18 Val Loss:\t 0.03833560160676356\n"
     ]
    },
    {
     "name": "stderr",
     "output_type": "stream",
     "text": [
      "[I 2025-09-18 13:25:27,299] Trial 32 finished with value: 0.0382405355063527 and parameters: {'lr': 0.001, 'weight_decay': 1e-05, 'scheduler_factor': 0.8, 'scheduler_patience': 5, 'batch_size': 32, 'dropout': 0.1, 'hidden_dims': 256}. Best is trial 12 with value: 0.038142057044840444.\n"
     ]
    },
    {
     "name": "stdout",
     "output_type": "stream",
     "text": [
      "Epoch:\t 19 Val Loss:\t 0.03828185993920767\n",
      "Epoch:\t 0 Val Loss:\t 0.038421054610693894\n",
      "Epoch:\t 1 Val Loss:\t 0.038332030021986055\n",
      "Epoch:\t 2 Val Loss:\t 0.038287997276598436\n",
      "Epoch:\t 3 Val Loss:\t 0.03834085653087928\n",
      "Epoch:\t 4 Val Loss:\t 0.038301572546868806\n",
      "Epoch:\t 5 Val Loss:\t 0.038296349461769304\n",
      "Epoch:\t 6 Val Loss:\t 0.038295092513039926\n",
      "Epoch:\t 7 Val Loss:\t 0.03831872317909727\n",
      "Epoch:\t 8 Val Loss:\t 0.03823739049542161\n",
      "Epoch:\t 9 Val Loss:\t 0.03829957347188104\n",
      "Epoch:\t 10 Val Loss:\t 0.038252345272796626\n",
      "Epoch:\t 11 Val Loss:\t 0.038305027766593204\n",
      "Epoch:\t 12 Val Loss:\t 0.0383329175642918\n",
      "Epoch:\t 13 Val Loss:\t 0.038317763009305894\n",
      "Epoch:\t 14 Val Loss:\t 0.03828235592712549\n",
      "Epoch:\t 15 Val Loss:\t 0.0382804856530228\n",
      "Epoch:\t 16 Val Loss:\t 0.038255385754525105\n",
      "Epoch:\t 17 Val Loss:\t 0.03829986140893008\n"
     ]
    },
    {
     "name": "stderr",
     "output_type": "stream",
     "text": [
      "[I 2025-09-18 13:28:40,878] Trial 33 finished with value: 0.03823739049542161 and parameters: {'lr': 0.001, 'weight_decay': 1e-05, 'scheduler_factor': 0.8, 'scheduler_patience': 5, 'batch_size': 32, 'dropout': 0.1, 'hidden_dims': 256}. Best is trial 12 with value: 0.038142057044840444.\n"
     ]
    },
    {
     "name": "stdout",
     "output_type": "stream",
     "text": [
      "Epoch:\t 18 Val Loss:\t 0.03829401547821088\n"
     ]
    },
    {
     "name": "stderr",
     "output_type": "stream",
     "text": [
      "[I 2025-09-18 13:28:43,128] Trial 34 pruned. \n"
     ]
    },
    {
     "name": "stdout",
     "output_type": "stream",
     "text": [
      "Epoch:\t 0 Val Loss:\t 0.048897305364872135\n",
      "Epoch:\t 0 Val Loss:\t 0.03834639659807631\n",
      "Epoch:\t 1 Val Loss:\t 0.038328014038507496\n",
      "Epoch:\t 2 Val Loss:\t 0.038342377907654365\n",
      "Epoch:\t 3 Val Loss:\t 0.03829602320914741\n",
      "Epoch:\t 4 Val Loss:\t 0.03834659776699557\n",
      "Epoch:\t 5 Val Loss:\t 0.03829654698755789\n",
      "Epoch:\t 6 Val Loss:\t 0.03830333934416881\n",
      "Epoch:\t 7 Val Loss:\t 0.03831305853196582\n",
      "Epoch:\t 8 Val Loss:\t 0.03829185356825452\n",
      "Epoch:\t 9 Val Loss:\t 0.03831685871995004\n",
      "Epoch:\t 10 Val Loss:\t 0.03829529258577684\n",
      "Epoch:\t 11 Val Loss:\t 0.03836441371380176\n",
      "Epoch:\t 12 Val Loss:\t 0.03831642924349061\n",
      "Epoch:\t 13 Val Loss:\t 0.038318538372375144\n",
      "Epoch:\t 14 Val Loss:\t 0.038323507456674316\n",
      "Epoch:\t 15 Val Loss:\t 0.0382854319915383\n",
      "Epoch:\t 16 Val Loss:\t 0.03824521463528682\n",
      "Epoch:\t 17 Val Loss:\t 0.03829606405491235\n",
      "Epoch:\t 18 Val Loss:\t 0.03827343428333398\n",
      "Epoch:\t 19 Val Loss:\t 0.03834392958025011\n",
      "Epoch:\t 20 Val Loss:\t 0.0382664316813275\n",
      "Epoch:\t 21 Val Loss:\t 0.038265145844301546\n",
      "Epoch:\t 22 Val Loss:\t 0.0382878868221735\n",
      "Epoch:\t 23 Val Loss:\t 0.03826109102256358\n"
     ]
    },
    {
     "name": "stderr",
     "output_type": "stream",
     "text": [
      "[I 2025-09-18 13:32:54,090] Trial 35 pruned. \n"
     ]
    },
    {
     "name": "stdout",
     "output_type": "stream",
     "text": [
      "Epoch:\t 24 Val Loss:\t 0.03827458653962256\n"
     ]
    },
    {
     "name": "stderr",
     "output_type": "stream",
     "text": [
      "[I 2025-09-18 13:33:04,790] Trial 36 pruned. \n"
     ]
    },
    {
     "name": "stdout",
     "output_type": "stream",
     "text": [
      "Epoch:\t 0 Val Loss:\t 0.04751368124606612\n"
     ]
    },
    {
     "name": "stderr",
     "output_type": "stream",
     "text": [
      "[I 2025-09-18 13:33:07,692] Trial 37 pruned. \n"
     ]
    },
    {
     "name": "stdout",
     "output_type": "stream",
     "text": [
      "Epoch:\t 0 Val Loss:\t 0.09812495690466497\n"
     ]
    },
    {
     "name": "stderr",
     "output_type": "stream",
     "text": [
      "[I 2025-09-18 13:33:30,038] Trial 38 pruned. \n"
     ]
    },
    {
     "name": "stdout",
     "output_type": "stream",
     "text": [
      "Epoch:\t 0 Val Loss:\t 0.03985062579400205\n"
     ]
    },
    {
     "name": "stderr",
     "output_type": "stream",
     "text": [
      "[I 2025-09-18 13:33:34,666] Trial 39 pruned. \n"
     ]
    },
    {
     "name": "stdout",
     "output_type": "stream",
     "text": [
      "Epoch:\t 0 Val Loss:\t 0.06149930408569318\n"
     ]
    },
    {
     "name": "stderr",
     "output_type": "stream",
     "text": [
      "[I 2025-09-18 13:33:37,510] Trial 40 pruned. \n"
     ]
    },
    {
     "name": "stdout",
     "output_type": "stream",
     "text": [
      "Epoch:\t 0 Val Loss:\t 0.06777631109374879\n",
      "Epoch:\t 0 Val Loss:\t 0.038389636985244134\n",
      "Epoch:\t 1 Val Loss:\t 0.03840720516403037\n",
      "Epoch:\t 2 Val Loss:\t 0.03835860550786286\n",
      "Epoch:\t 3 Val Loss:\t 0.03829422528794423\n",
      "Epoch:\t 4 Val Loss:\t 0.038283816671179464\n",
      "Epoch:\t 5 Val Loss:\t 0.03827824042455979\n",
      "Epoch:\t 6 Val Loss:\t 0.038322933786291924\n",
      "Epoch:\t 7 Val Loss:\t 0.03836043876419044\n",
      "Epoch:\t 8 Val Loss:\t 0.03831654251026107\n",
      "Epoch:\t 9 Val Loss:\t 0.03826360395572781\n",
      "Epoch:\t 10 Val Loss:\t 0.03825620836964784\n",
      "Epoch:\t 11 Val Loss:\t 0.03829238649422018\n",
      "Epoch:\t 12 Val Loss:\t 0.03827681629694198\n",
      "Epoch:\t 13 Val Loss:\t 0.038286472981805396\n",
      "Epoch:\t 14 Val Loss:\t 0.03829254304586942\n",
      "Epoch:\t 15 Val Loss:\t 0.03829915855010702\n",
      "Epoch:\t 16 Val Loss:\t 0.03830788662852811\n",
      "Epoch:\t 17 Val Loss:\t 0.038300431269159926\n",
      "Epoch:\t 18 Val Loss:\t 0.038323994702700086\n",
      "Epoch:\t 19 Val Loss:\t 0.03830206852559772\n"
     ]
    },
    {
     "name": "stderr",
     "output_type": "stream",
     "text": [
      "[I 2025-09-18 13:37:10,385] Trial 41 finished with value: 0.03825620836964784 and parameters: {'lr': 0.001, 'weight_decay': 1e-05, 'scheduler_factor': 0.8, 'scheduler_patience': 5, 'batch_size': 32, 'dropout': 0.1, 'hidden_dims': 256}. Best is trial 12 with value: 0.038142057044840444.\n"
     ]
    },
    {
     "name": "stdout",
     "output_type": "stream",
     "text": [
      "Epoch:\t 20 Val Loss:\t 0.0382574244299109\n",
      "Epoch:\t 0 Val Loss:\t 0.038327426945837136\n",
      "Epoch:\t 1 Val Loss:\t 0.03830085052323252\n",
      "Epoch:\t 2 Val Loss:\t 0.03831407981662559\n",
      "Epoch:\t 3 Val Loss:\t 0.03830776172644149\n",
      "Epoch:\t 4 Val Loss:\t 0.038300436074416855\n",
      "Epoch:\t 5 Val Loss:\t 0.03833723172504353\n",
      "Epoch:\t 6 Val Loss:\t 0.03835852783134405\n",
      "Epoch:\t 7 Val Loss:\t 0.03829223840014746\n",
      "Epoch:\t 8 Val Loss:\t 0.038280536290917606\n",
      "Epoch:\t 9 Val Loss:\t 0.03832788636785777\n",
      "Epoch:\t 10 Val Loss:\t 0.03837734480965201\n",
      "Epoch:\t 11 Val Loss:\t 0.038310863145206014\n",
      "Epoch:\t 12 Val Loss:\t 0.038347916090855555\n",
      "Epoch:\t 13 Val Loss:\t 0.03830935446857905\n",
      "Epoch:\t 14 Val Loss:\t 0.038318217827144466\n",
      "Epoch:\t 15 Val Loss:\t 0.03831457247545708\n",
      "Epoch:\t 16 Val Loss:\t 0.038276620499748636\n",
      "Epoch:\t 17 Val Loss:\t 0.03832544413629273\n",
      "Epoch:\t 18 Val Loss:\t 0.038282112028175184\n",
      "Epoch:\t 19 Val Loss:\t 0.03823927756576208\n",
      "Epoch:\t 20 Val Loss:\t 0.03829867394399968\n",
      "Epoch:\t 21 Val Loss:\t 0.03827365455544676\n",
      "Epoch:\t 22 Val Loss:\t 0.03824438143832889\n",
      "Epoch:\t 23 Val Loss:\t 0.03832013305985799\n",
      "Epoch:\t 24 Val Loss:\t 0.0383147628030897\n",
      "Epoch:\t 25 Val Loss:\t 0.03830048130599223\n"
     ]
    },
    {
     "name": "stderr",
     "output_type": "stream",
     "text": [
      "[I 2025-09-18 13:41:34,983] Trial 42 pruned. \n"
     ]
    },
    {
     "name": "stdout",
     "output_type": "stream",
     "text": [
      "Epoch:\t 26 Val Loss:\t 0.03825031960349545\n",
      "Epoch:\t 0 Val Loss:\t 0.03842663390586802\n",
      "Epoch:\t 1 Val Loss:\t 0.03833532836385508\n",
      "Epoch:\t 2 Val Loss:\t 0.03830932423005392\n",
      "Epoch:\t 3 Val Loss:\t 0.038331344414521844\n",
      "Epoch:\t 4 Val Loss:\t 0.03831714636241359\n",
      "Epoch:\t 5 Val Loss:\t 0.038294537232359586\n",
      "Epoch:\t 6 Val Loss:\t 0.03831614807163794\n",
      "Epoch:\t 7 Val Loss:\t 0.03832943347897283\n",
      "Epoch:\t 8 Val Loss:\t 0.03828901774236458\n",
      "Epoch:\t 9 Val Loss:\t 0.038295474969871124\n",
      "Epoch:\t 10 Val Loss:\t 0.03826054513618757\n",
      "Epoch:\t 11 Val Loss:\t 0.03827946222842916\n",
      "Epoch:\t 12 Val Loss:\t 0.03824942525977824\n",
      "Epoch:\t 13 Val Loss:\t 0.03831848865931662\n",
      "Epoch:\t 14 Val Loss:\t 0.03835180680928574\n",
      "Epoch:\t 15 Val Loss:\t 0.038333090967041974\n",
      "Epoch:\t 16 Val Loss:\t 0.038277061769627446\n",
      "Epoch:\t 17 Val Loss:\t 0.03825708993484098\n",
      "Epoch:\t 18 Val Loss:\t 0.03831499069388599\n",
      "Epoch:\t 19 Val Loss:\t 0.03824765507393429\n",
      "Epoch:\t 20 Val Loss:\t 0.038229480721445636\n",
      "Epoch:\t 21 Val Loss:\t 0.03829378893385948\n",
      "Epoch:\t 22 Val Loss:\t 0.038264987725943965\n",
      "Epoch:\t 23 Val Loss:\t 0.03824149247624296\n",
      "Epoch:\t 24 Val Loss:\t 0.03828338748660291\n",
      "Epoch:\t 25 Val Loss:\t 0.038271365108890586\n"
     ]
    },
    {
     "name": "stderr",
     "output_type": "stream",
     "text": [
      "[I 2025-09-18 13:46:00,232] Trial 43 pruned. \n"
     ]
    },
    {
     "name": "stdout",
     "output_type": "stream",
     "text": [
      "Epoch:\t 26 Val Loss:\t 0.03829476951545259\n"
     ]
    },
    {
     "name": "stderr",
     "output_type": "stream",
     "text": [
      "[I 2025-09-18 13:46:08,727] Trial 44 pruned. \n"
     ]
    },
    {
     "name": "stdout",
     "output_type": "stream",
     "text": [
      "Epoch:\t 0 Val Loss:\t 0.038467587849089595\n",
      "Epoch:\t 0 Val Loss:\t 0.03842637566087451\n",
      "Epoch:\t 1 Val Loss:\t 0.03833040353548575\n",
      "Epoch:\t 2 Val Loss:\t 0.038339865957703\n",
      "Epoch:\t 3 Val Loss:\t 0.038289737200134205\n",
      "Epoch:\t 4 Val Loss:\t 0.038302955966825515\n",
      "Epoch:\t 5 Val Loss:\t 0.038275183591985174\n",
      "Epoch:\t 6 Val Loss:\t 0.0383004213667632\n",
      "Epoch:\t 7 Val Loss:\t 0.03829427132868379\n",
      "Epoch:\t 8 Val Loss:\t 0.038321482401678486\n",
      "Epoch:\t 9 Val Loss:\t 0.03831878015787724\n",
      "Epoch:\t 10 Val Loss:\t 0.03835119578870607\n",
      "Epoch:\t 11 Val Loss:\t 0.038258076495168276\n",
      "Epoch:\t 12 Val Loss:\t 0.038342121762595965\n",
      "Epoch:\t 13 Val Loss:\t 0.03829203079953504\n",
      "Epoch:\t 14 Val Loss:\t 0.038350890506787555\n",
      "Epoch:\t 15 Val Loss:\t 0.03831464313327384\n",
      "Epoch:\t 16 Val Loss:\t 0.038265810785377295\n",
      "Epoch:\t 17 Val Loss:\t 0.03833261675250544\n",
      "Epoch:\t 18 Val Loss:\t 0.03824702460692846\n",
      "Epoch:\t 19 Val Loss:\t 0.03831328906970735\n",
      "Epoch:\t 20 Val Loss:\t 0.03830506174824591\n",
      "Epoch:\t 21 Val Loss:\t 0.03828095231211711\n",
      "Epoch:\t 22 Val Loss:\t 0.038315171186146836\n",
      "Epoch:\t 23 Val Loss:\t 0.03828988701009985\n"
     ]
    },
    {
     "name": "stderr",
     "output_type": "stream",
     "text": [
      "[I 2025-09-18 13:50:14,863] Trial 45 pruned. \n"
     ]
    },
    {
     "name": "stdout",
     "output_type": "stream",
     "text": [
      "Epoch:\t 24 Val Loss:\t 0.03832695666685467\n"
     ]
    },
    {
     "name": "stderr",
     "output_type": "stream",
     "text": [
      "[I 2025-09-18 13:50:16,988] Trial 46 pruned. \n"
     ]
    },
    {
     "name": "stdout",
     "output_type": "stream",
     "text": [
      "Epoch:\t 0 Val Loss:\t 0.04518390138481938\n"
     ]
    },
    {
     "name": "stderr",
     "output_type": "stream",
     "text": [
      "[I 2025-09-18 13:50:26,271] Trial 47 pruned. \n"
     ]
    },
    {
     "name": "stdout",
     "output_type": "stream",
     "text": [
      "Epoch:\t 0 Val Loss:\t 0.03874241413458862\n"
     ]
    },
    {
     "name": "stderr",
     "output_type": "stream",
     "text": [
      "[I 2025-09-18 13:50:29,230] Trial 48 pruned. \n"
     ]
    },
    {
     "name": "stdout",
     "output_type": "stream",
     "text": [
      "Epoch:\t 0 Val Loss:\t 0.03913645375342596\n",
      "Epoch:\t 0 Val Loss:\t 0.038418491492053314\n"
     ]
    },
    {
     "name": "stderr",
     "output_type": "stream",
     "text": [
      "[I 2025-09-18 13:50:49,921] Trial 49 pruned. \n"
     ]
    },
    {
     "name": "stdout",
     "output_type": "stream",
     "text": [
      "Epoch:\t 1 Val Loss:\t 0.038486502626808104\n",
      "Training model with best parameters on train+validation ...\n"
     ]
    },
    {
     "name": "stderr",
     "output_type": "stream",
     "text": [
      "100%|█████████████████████████████████████████████████████████████████████████████████████████████████████████████████████████████████████| 557340/557340 [05:28<00:00, 1694.41it/s]\n",
      "100%|█████████████████████████████████████████████████████████████████████████████████████████████████████████████████████████████████████| 557340/557340 [01:37<00:00, 5697.58it/s]\n"
     ]
    },
    {
     "name": "stdout",
     "output_type": "stream",
     "text": [
      "Getting test set predictions and saving results ...\n"
     ]
    },
    {
     "name": "stderr",
     "output_type": "stream",
     "text": [
      "100%|████████████████████████████████████████████████████████████████████████████████████████████████████████████████████████████████████████████| 820/820 [00:00<00:00, 843.63it/s]\n"
     ]
    }
   ],
   "source": [
    "train_different_featno(\n",
    "        adata_path=\"./data/feature_number/sciplex_hvg_500.h5ad\",\n",
    "        run_name=\"decoder_hvg_500\",\n",
    "        res_savename=\"./results/feature_number/decoder_hvg_500_res.pkl\",\n",
    "        output_dim=500\n",
    "    )"
   ]
  },
  {
   "cell_type": "code",
   "execution_count": 4,
   "id": "5c89cc87-b833-4f2e-b696-7ce18f29bda4",
   "metadata": {},
   "outputs": [
    {
     "name": "stdout",
     "output_type": "stream",
     "text": [
      "Loading Datasets ...\n"
     ]
    },
    {
     "name": "stderr",
     "output_type": "stream",
     "text": [
      "100%|█████████████████████████████████████████████████████████████████████████████████████████████████████████████████████████████████████| 557340/557340 [04:15<00:00, 2185.02it/s]\n",
      "100%|█████████████████████████████████████████████████████████████████████████████████████████████████████████████████████████████████████| 557340/557340 [01:41<00:00, 5515.95it/s]\n",
      "[I 2025-09-18 14:04:54,598] A new study created in RDB with name: decoder_hvg_1000\n"
     ]
    },
    {
     "name": "stdout",
     "output_type": "stream",
     "text": [
      "Optimizing Hyperparameters with Optuna ...\n",
      "Epoch:\t 0 Val Loss:\t 0.032164994131036434\n",
      "Epoch:\t 1 Val Loss:\t 0.032099471662628117\n",
      "Epoch:\t 2 Val Loss:\t 0.032245965384798764\n",
      "Epoch:\t 3 Val Loss:\t 0.03216089506417911\n",
      "Epoch:\t 4 Val Loss:\t 0.03198403337223372\n",
      "Epoch:\t 5 Val Loss:\t 0.032209027752072676\n",
      "Epoch:\t 6 Val Loss:\t 0.0322613550281964\n",
      "Epoch:\t 7 Val Loss:\t 0.03226229880876446\n",
      "Epoch:\t 8 Val Loss:\t 0.032352534435728365\n",
      "Epoch:\t 9 Val Loss:\t 0.03212237045994797\n",
      "Epoch:\t 10 Val Loss:\t 0.03209017831951086\n",
      "Epoch:\t 11 Val Loss:\t 0.032143507461975425\n",
      "Epoch:\t 12 Val Loss:\t 0.03219397176323038\n",
      "Epoch:\t 13 Val Loss:\t 0.03230053867260454\n"
     ]
    },
    {
     "name": "stderr",
     "output_type": "stream",
     "text": [
      "[I 2025-09-18 14:06:08,252] Trial 0 finished with value: 0.03198403337223372 and parameters: {'lr': 0.001, 'weight_decay': 0.001, 'scheduler_factor': 0.1, 'scheduler_patience': 20, 'batch_size': 64, 'dropout': 0.05, 'hidden_dims': 128}. Best is trial 0 with value: 0.03198403337223372.\n"
     ]
    },
    {
     "name": "stdout",
     "output_type": "stream",
     "text": [
      "Epoch:\t 14 Val Loss:\t 0.032294626609874685\n",
      "Epoch:\t 0 Val Loss:\t 0.03554397068126539\n",
      "Epoch:\t 1 Val Loss:\t 0.03567853047427757\n",
      "Epoch:\t 2 Val Loss:\t 0.03488682729218965\n",
      "Epoch:\t 3 Val Loss:\t 0.03375398840425012\n",
      "Epoch:\t 4 Val Loss:\t 0.03312451277918823\n",
      "Epoch:\t 5 Val Loss:\t 0.032782605094474414\n",
      "Epoch:\t 6 Val Loss:\t 0.032561764579893765\n",
      "Epoch:\t 7 Val Loss:\t 0.03222375458486602\n",
      "Epoch:\t 8 Val Loss:\t 0.032213992915613054\n",
      "Epoch:\t 9 Val Loss:\t 0.03227234361905388\n",
      "Epoch:\t 10 Val Loss:\t 0.03210489325866862\n",
      "Epoch:\t 11 Val Loss:\t 0.032311468692673415\n",
      "Epoch:\t 12 Val Loss:\t 0.031912218131601645\n",
      "Epoch:\t 13 Val Loss:\t 0.03213513489887194\n",
      "Epoch:\t 14 Val Loss:\t 0.03197253398458346\n",
      "Epoch:\t 15 Val Loss:\t 0.03208936778019185\n",
      "Epoch:\t 16 Val Loss:\t 0.03189945903435257\n",
      "Epoch:\t 17 Val Loss:\t 0.03201937403834694\n",
      "Epoch:\t 18 Val Loss:\t 0.03187995604794036\n",
      "Epoch:\t 19 Val Loss:\t 0.03205227263660389\n",
      "Epoch:\t 20 Val Loss:\t 0.03192968569475988\n",
      "Epoch:\t 21 Val Loss:\t 0.03212195954623476\n",
      "Epoch:\t 22 Val Loss:\t 0.032032228987915294\n",
      "Epoch:\t 23 Val Loss:\t 0.03182788983046313\n",
      "Epoch:\t 24 Val Loss:\t 0.03204685239529084\n",
      "Epoch:\t 25 Val Loss:\t 0.032076703509091295\n",
      "Epoch:\t 26 Val Loss:\t 0.03207900222843783\n",
      "Epoch:\t 27 Val Loss:\t 0.0321338506651661\n",
      "Epoch:\t 28 Val Loss:\t 0.03204178908318562\n",
      "Epoch:\t 29 Val Loss:\t 0.03182198141006912\n",
      "Epoch:\t 30 Val Loss:\t 0.03206221771587416\n",
      "Epoch:\t 31 Val Loss:\t 0.03199074122863966\n",
      "Epoch:\t 32 Val Loss:\t 0.032057438301776146\n",
      "Epoch:\t 33 Val Loss:\t 0.03194041267425431\n",
      "Epoch:\t 34 Val Loss:\t 0.032207989281571155\n",
      "Epoch:\t 35 Val Loss:\t 0.03205836902026789\n",
      "Epoch:\t 36 Val Loss:\t 0.031966528785546726\n",
      "Epoch:\t 37 Val Loss:\t 0.03199165436509069\n",
      "Epoch:\t 38 Val Loss:\t 0.032199824654078224\n"
     ]
    },
    {
     "name": "stderr",
     "output_type": "stream",
     "text": [
      "[I 2025-09-18 14:19:31,725] Trial 1 finished with value: 0.03182198141006912 and parameters: {'lr': 1e-05, 'weight_decay': 0.001, 'scheduler_factor': 0.3, 'scheduler_patience': 20, 'batch_size': 16, 'dropout': 0.15, 'hidden_dims': 64}. Best is trial 1 with value: 0.03182198141006912.\n"
     ]
    },
    {
     "name": "stdout",
     "output_type": "stream",
     "text": [
      "Epoch:\t 39 Val Loss:\t 0.031920333168363034\n",
      "Epoch:\t 0 Val Loss:\t 0.09702470351097196\n",
      "Epoch:\t 1 Val Loss:\t 0.08349815740488296\n",
      "Epoch:\t 2 Val Loss:\t 0.07283066440113756\n",
      "Epoch:\t 3 Val Loss:\t 0.06556425296463246\n",
      "Epoch:\t 4 Val Loss:\t 0.0600221044968727\n",
      "Epoch:\t 5 Val Loss:\t 0.056078796920388245\n",
      "Epoch:\t 6 Val Loss:\t 0.05317975562499013\n",
      "Epoch:\t 7 Val Loss:\t 0.05098505564207254\n",
      "Epoch:\t 8 Val Loss:\t 0.04930299119374087\n",
      "Epoch:\t 9 Val Loss:\t 0.048216679891528086\n",
      "Epoch:\t 10 Val Loss:\t 0.04729115154680818\n",
      "Epoch:\t 11 Val Loss:\t 0.04676046180863713\n",
      "Epoch:\t 12 Val Loss:\t 0.046377467675957566\n",
      "Epoch:\t 13 Val Loss:\t 0.04590250392292821\n",
      "Epoch:\t 14 Val Loss:\t 0.04580323894529842\n",
      "Epoch:\t 15 Val Loss:\t 0.04567220243950223\n",
      "Epoch:\t 16 Val Loss:\t 0.0455236179624186\n",
      "Epoch:\t 17 Val Loss:\t 0.045426606724775116\n",
      "Epoch:\t 18 Val Loss:\t 0.045485899224877356\n",
      "Epoch:\t 19 Val Loss:\t 0.04596320067554019\n",
      "Epoch:\t 20 Val Loss:\t 0.04623626207196435\n",
      "Epoch:\t 21 Val Loss:\t 0.04661979781853598\n",
      "Epoch:\t 22 Val Loss:\t 0.04688591612286346\n",
      "Epoch:\t 23 Val Loss:\t 0.04785048393316047\n",
      "Epoch:\t 24 Val Loss:\t 0.048479195684194565\n",
      "Epoch:\t 25 Val Loss:\t 0.04946237513145735\n",
      "Epoch:\t 26 Val Loss:\t 0.050402372044532795\n"
     ]
    },
    {
     "name": "stderr",
     "output_type": "stream",
     "text": [
      "[I 2025-09-18 14:20:40,425] Trial 2 finished with value: 0.045426606724775116 and parameters: {'lr': 1e-06, 'weight_decay': 1e-05, 'scheduler_factor': 0.1, 'scheduler_patience': 10, 'batch_size': 256, 'dropout': 0.2, 'hidden_dims': 128}. Best is trial 1 with value: 0.03182198141006912.\n"
     ]
    },
    {
     "name": "stdout",
     "output_type": "stream",
     "text": [
      "Epoch:\t 27 Val Loss:\t 0.050797791103290954\n",
      "Epoch:\t 0 Val Loss:\t 0.09370856862082037\n",
      "Epoch:\t 1 Val Loss:\t 0.08042642701157304\n",
      "Epoch:\t 2 Val Loss:\t 0.0710934514742951\n",
      "Epoch:\t 3 Val Loss:\t 0.06395457436352275\n",
      "Epoch:\t 4 Val Loss:\t 0.058762311545568845\n",
      "Epoch:\t 5 Val Loss:\t 0.055033273041941395\n",
      "Epoch:\t 6 Val Loss:\t 0.05291092489347902\n",
      "Epoch:\t 7 Val Loss:\t 0.05093857172096884\n",
      "Epoch:\t 8 Val Loss:\t 0.04989791758531748\n",
      "Epoch:\t 9 Val Loss:\t 0.049236674650117405\n",
      "Epoch:\t 10 Val Loss:\t 0.0484233190500459\n",
      "Epoch:\t 11 Val Loss:\t 0.04806720898594967\n",
      "Epoch:\t 12 Val Loss:\t 0.04798239430542602\n",
      "Epoch:\t 13 Val Loss:\t 0.047742399755258895\n",
      "Epoch:\t 14 Val Loss:\t 0.047658291822949124\n",
      "Epoch:\t 15 Val Loss:\t 0.047754392920191895\n",
      "Epoch:\t 16 Val Loss:\t 0.04779902970375017\n",
      "Epoch:\t 17 Val Loss:\t 0.048126921317605084\n",
      "Epoch:\t 18 Val Loss:\t 0.04862800379998462\n",
      "Epoch:\t 19 Val Loss:\t 0.04971299140259277\n",
      "Epoch:\t 20 Val Loss:\t 0.05024084179380606\n",
      "Epoch:\t 21 Val Loss:\t 0.051109013255945475\n",
      "Epoch:\t 22 Val Loss:\t 0.05224880637644335\n",
      "Epoch:\t 23 Val Loss:\t 0.05327353999018669\n"
     ]
    },
    {
     "name": "stderr",
     "output_type": "stream",
     "text": [
      "[I 2025-09-18 14:21:41,766] Trial 3 finished with value: 0.047658291822949124 and parameters: {'lr': 1e-06, 'weight_decay': 0.0001, 'scheduler_factor': 0.5, 'scheduler_patience': 20, 'batch_size': 256, 'dropout': 0.05, 'hidden_dims': 128}. Best is trial 1 with value: 0.03182198141006912.\n"
     ]
    },
    {
     "name": "stdout",
     "output_type": "stream",
     "text": [
      "Epoch:\t 24 Val Loss:\t 0.054619723281195\n",
      "Epoch:\t 0 Val Loss:\t 0.03282160305208787\n",
      "Epoch:\t 1 Val Loss:\t 0.03214565625104307\n",
      "Epoch:\t 2 Val Loss:\t 0.03205173158912502\n",
      "Epoch:\t 3 Val Loss:\t 0.03190117217689519\n",
      "Epoch:\t 4 Val Loss:\t 0.031729470173173416\n",
      "Epoch:\t 5 Val Loss:\t 0.03169113418567549\n",
      "Epoch:\t 6 Val Loss:\t 0.031664478556770084\n",
      "Epoch:\t 7 Val Loss:\t 0.03178544443419013\n",
      "Epoch:\t 8 Val Loss:\t 0.03173538403139416\n",
      "Epoch:\t 9 Val Loss:\t 0.03172868160993276\n",
      "Epoch:\t 10 Val Loss:\t 0.03169731121798325\n",
      "Epoch:\t 11 Val Loss:\t 0.031800700509946385\n",
      "Epoch:\t 12 Val Loss:\t 0.03179645268755901\n",
      "Epoch:\t 13 Val Loss:\t 0.031802619947397526\n",
      "Epoch:\t 14 Val Loss:\t 0.031856253449439605\n",
      "Epoch:\t 15 Val Loss:\t 0.03188655222107434\n"
     ]
    },
    {
     "name": "stderr",
     "output_type": "stream",
     "text": [
      "[I 2025-09-18 14:27:41,550] Trial 4 finished with value: 0.031664478556770084 and parameters: {'lr': 0.0001, 'weight_decay': 1e-06, 'scheduler_factor': 0.5, 'scheduler_patience': 5, 'batch_size': 16, 'dropout': 0.05, 'hidden_dims': 64}. Best is trial 4 with value: 0.031664478556770084.\n"
     ]
    },
    {
     "name": "stdout",
     "output_type": "stream",
     "text": [
      "Epoch:\t 16 Val Loss:\t 0.03193438955053447\n",
      "Epoch:\t 0 Val Loss:\t 0.031343906196791005\n",
      "Epoch:\t 1 Val Loss:\t 0.0312855094979348\n",
      "Epoch:\t 2 Val Loss:\t 0.03136227932313778\n",
      "Epoch:\t 3 Val Loss:\t 0.031354464090564915\n",
      "Epoch:\t 4 Val Loss:\t 0.031266898956221166\n",
      "Epoch:\t 5 Val Loss:\t 0.031290834850144646\n",
      "Epoch:\t 6 Val Loss:\t 0.031279755869228446\n",
      "Epoch:\t 7 Val Loss:\t 0.031246068380401188\n",
      "Epoch:\t 8 Val Loss:\t 0.0313190179998601\n",
      "Epoch:\t 9 Val Loss:\t 0.031226788386399845\n",
      "Epoch:\t 10 Val Loss:\t 0.03129274653729205\n",
      "Epoch:\t 11 Val Loss:\t 0.031233957031383913\n",
      "Epoch:\t 12 Val Loss:\t 0.031262497460870675\n",
      "Epoch:\t 13 Val Loss:\t 0.03137319785874127\n",
      "Epoch:\t 14 Val Loss:\t 0.0312532059382377\n",
      "Epoch:\t 15 Val Loss:\t 0.03123264318873681\n",
      "Epoch:\t 16 Val Loss:\t 0.03123012473195947\n",
      "Epoch:\t 17 Val Loss:\t 0.03130199001140966\n",
      "Epoch:\t 18 Val Loss:\t 0.031255034635246697\n"
     ]
    },
    {
     "name": "stderr",
     "output_type": "stream",
     "text": [
      "[I 2025-09-18 14:30:37,105] Trial 5 finished with value: 0.031226788386399845 and parameters: {'lr': 0.001, 'weight_decay': 0.0001, 'scheduler_factor': 0.8, 'scheduler_patience': 10, 'batch_size': 32, 'dropout': 0.1, 'hidden_dims': 64}. Best is trial 5 with value: 0.031226788386399845.\n"
     ]
    },
    {
     "name": "stdout",
     "output_type": "stream",
     "text": [
      "Epoch:\t 19 Val Loss:\t 0.031238813435380982\n"
     ]
    },
    {
     "name": "stderr",
     "output_type": "stream",
     "text": [
      "[I 2025-09-18 14:30:42,160] Trial 6 pruned. \n"
     ]
    },
    {
     "name": "stdout",
     "output_type": "stream",
     "text": [
      "Epoch:\t 0 Val Loss:\t 0.04803961933143459\n",
      "Epoch:\t 0 Val Loss:\t 0.06957659498289764\n"
     ]
    },
    {
     "name": "stderr",
     "output_type": "stream",
     "text": [
      "[I 2025-09-18 14:30:48,885] Trial 7 pruned. \n",
      "[I 2025-09-18 14:30:52,132] Trial 8 pruned. \n"
     ]
    },
    {
     "name": "stdout",
     "output_type": "stream",
     "text": [
      "Epoch:\t 0 Val Loss:\t 0.05762944679002036\n",
      "Epoch:\t 0 Val Loss:\t 0.03332187261778948\n",
      "Epoch:\t 1 Val Loss:\t 0.031928347913158496\n",
      "Epoch:\t 2 Val Loss:\t 0.03159444675629222\n",
      "Epoch:\t 3 Val Loss:\t 0.03149013290138439\n",
      "Epoch:\t 4 Val Loss:\t 0.0312705674446946\n",
      "Epoch:\t 5 Val Loss:\t 0.031288687880475854\n",
      "Epoch:\t 6 Val Loss:\t 0.03122690958512384\n",
      "Epoch:\t 7 Val Loss:\t 0.031210392865157404\n",
      "Epoch:\t 8 Val Loss:\t 0.031145954578248567\n",
      "Epoch:\t 9 Val Loss:\t 0.031111512025601643\n",
      "Epoch:\t 10 Val Loss:\t 0.031148706337566986\n",
      "Epoch:\t 11 Val Loss:\t 0.0311347390849923\n",
      "Epoch:\t 12 Val Loss:\t 0.03111625994707263\n",
      "Epoch:\t 13 Val Loss:\t 0.03110757301193337\n",
      "Epoch:\t 14 Val Loss:\t 0.031087988281492576\n",
      "Epoch:\t 15 Val Loss:\t 0.031077338880751024\n",
      "Epoch:\t 16 Val Loss:\t 0.031101597434039726\n",
      "Epoch:\t 17 Val Loss:\t 0.031090811237173024\n",
      "Epoch:\t 18 Val Loss:\t 0.031104762982143912\n",
      "Epoch:\t 19 Val Loss:\t 0.031107801697108636\n",
      "Epoch:\t 20 Val Loss:\t 0.031100308241019416\n",
      "Epoch:\t 21 Val Loss:\t 0.031108899431866267\n",
      "Epoch:\t 22 Val Loss:\t 0.03108604782109344\n",
      "Epoch:\t 23 Val Loss:\t 0.031055744451492333\n",
      "Epoch:\t 24 Val Loss:\t 0.031055760834106178\n",
      "Epoch:\t 25 Val Loss:\t 0.03105026800185442\n",
      "Epoch:\t 26 Val Loss:\t 0.03107720323686683\n",
      "Epoch:\t 27 Val Loss:\t 0.03105902933017459\n",
      "Epoch:\t 28 Val Loss:\t 0.031058743071937282\n",
      "Epoch:\t 29 Val Loss:\t 0.031065097468536952\n",
      "Epoch:\t 30 Val Loss:\t 0.031060085571262726\n",
      "Epoch:\t 31 Val Loss:\t 0.031067779439306536\n",
      "Epoch:\t 32 Val Loss:\t 0.031049529861572178\n",
      "Epoch:\t 33 Val Loss:\t 0.031061938270753205\n",
      "Epoch:\t 34 Val Loss:\t 0.031055419021394363\n",
      "Epoch:\t 35 Val Loss:\t 0.031050505601736004\n",
      "Epoch:\t 36 Val Loss:\t 0.031051126430027706\n",
      "Epoch:\t 37 Val Loss:\t 0.03104330482784399\n",
      "Epoch:\t 38 Val Loss:\t 0.031047971044168916\n",
      "Epoch:\t 39 Val Loss:\t 0.031047189304994983\n",
      "Epoch:\t 40 Val Loss:\t 0.031060478099903394\n",
      "Epoch:\t 41 Val Loss:\t 0.03105781874511131\n",
      "Epoch:\t 42 Val Loss:\t 0.031063416886121728\n",
      "Epoch:\t 43 Val Loss:\t 0.031049323021325955\n",
      "Epoch:\t 44 Val Loss:\t 0.031050443926522897\n",
      "Epoch:\t 45 Val Loss:\t 0.031050195770208226\n",
      "Epoch:\t 46 Val Loss:\t 0.031055427056758903\n"
     ]
    },
    {
     "name": "stderr",
     "output_type": "stream",
     "text": [
      "[I 2025-09-18 14:32:51,995] Trial 9 finished with value: 0.03104330482784399 and parameters: {'lr': 0.0001, 'weight_decay': 0.0001, 'scheduler_factor': 0.3, 'scheduler_patience': 5, 'batch_size': 256, 'dropout': 0.05, 'hidden_dims': 1024}. Best is trial 9 with value: 0.03104330482784399.\n"
     ]
    },
    {
     "name": "stdout",
     "output_type": "stream",
     "text": [
      "Epoch:\t 47 Val Loss:\t 0.031067793972270434\n"
     ]
    },
    {
     "name": "stderr",
     "output_type": "stream",
     "text": [
      "[I 2025-09-18 14:32:54,610] Trial 10 pruned. \n"
     ]
    },
    {
     "name": "stdout",
     "output_type": "stream",
     "text": [
      "Epoch:\t 0 Val Loss:\t 0.03565846507892359\n",
      "Epoch:\t 0 Val Loss:\t 0.03129323477761142\n",
      "Epoch:\t 1 Val Loss:\t 0.031230896160015172\n",
      "Epoch:\t 2 Val Loss:\t 0.031274969630630915\n",
      "Epoch:\t 3 Val Loss:\t 0.03129690801168052\n",
      "Epoch:\t 4 Val Loss:\t 0.031302645117113635\n",
      "Epoch:\t 5 Val Loss:\t 0.03122460484630101\n",
      "Epoch:\t 6 Val Loss:\t 0.031211060760472482\n",
      "Epoch:\t 7 Val Loss:\t 0.03127012575543591\n",
      "Epoch:\t 8 Val Loss:\t 0.03125045615509455\n",
      "Epoch:\t 9 Val Loss:\t 0.03127343341431435\n",
      "Epoch:\t 10 Val Loss:\t 0.03129099237689888\n",
      "Epoch:\t 11 Val Loss:\t 0.031330310100137114\n",
      "Epoch:\t 12 Val Loss:\t 0.03127914750370188\n",
      "Epoch:\t 13 Val Loss:\t 0.03135786640597805\n",
      "Epoch:\t 14 Val Loss:\t 0.031233821746374863\n",
      "Epoch:\t 15 Val Loss:\t 0.031290516219989926\n"
     ]
    },
    {
     "name": "stderr",
     "output_type": "stream",
     "text": [
      "[I 2025-09-18 14:35:23,627] Trial 11 finished with value: 0.031211060760472482 and parameters: {'lr': 0.001, 'weight_decay': 0.0001, 'scheduler_factor': 0.8, 'scheduler_patience': 10, 'batch_size': 32, 'dropout': 0.1, 'hidden_dims': 1024}. Best is trial 9 with value: 0.03104330482784399.\n"
     ]
    },
    {
     "name": "stdout",
     "output_type": "stream",
     "text": [
      "Epoch:\t 16 Val Loss:\t 0.03131411570619989\n",
      "Epoch:\t 0 Val Loss:\t 0.03156670647469531\n",
      "Epoch:\t 1 Val Loss:\t 0.031191904398867265\n",
      "Epoch:\t 2 Val Loss:\t 0.031139328754201608\n",
      "Epoch:\t 3 Val Loss:\t 0.03109873667925821\n",
      "Epoch:\t 4 Val Loss:\t 0.031115063109385954\n",
      "Epoch:\t 5 Val Loss:\t 0.031125049771621036\n",
      "Epoch:\t 6 Val Loss:\t 0.031103493420929322\n",
      "Epoch:\t 7 Val Loss:\t 0.03114975827842847\n",
      "Epoch:\t 8 Val Loss:\t 0.03110353298889591\n",
      "Epoch:\t 9 Val Loss:\t 0.031112444440569906\n",
      "Epoch:\t 10 Val Loss:\t 0.03108443805025766\n",
      "Epoch:\t 11 Val Loss:\t 0.031152487742739987\n",
      "Epoch:\t 12 Val Loss:\t 0.031098387457616304\n",
      "Epoch:\t 13 Val Loss:\t 0.03109951485791614\n",
      "Epoch:\t 14 Val Loss:\t 0.03113076521231816\n",
      "Epoch:\t 15 Val Loss:\t 0.031133605872653316\n",
      "Epoch:\t 16 Val Loss:\t 0.03110486691470625\n",
      "Epoch:\t 17 Val Loss:\t 0.031126801056967905\n",
      "Epoch:\t 18 Val Loss:\t 0.031119454298027885\n",
      "Epoch:\t 19 Val Loss:\t 0.031125760970186406\n"
     ]
    },
    {
     "name": "stderr",
     "output_type": "stream",
     "text": [
      "[I 2025-09-18 14:38:18,260] Trial 12 finished with value: 0.03108443805025766 and parameters: {'lr': 0.0001, 'weight_decay': 0.0001, 'scheduler_factor': 0.3, 'scheduler_patience': 10, 'batch_size': 32, 'dropout': 0.1, 'hidden_dims': 1024}. Best is trial 9 with value: 0.03104330482784399.\n"
     ]
    },
    {
     "name": "stdout",
     "output_type": "stream",
     "text": [
      "Epoch:\t 20 Val Loss:\t 0.031135927926310085\n",
      "Epoch:\t 0 Val Loss:\t 0.03139004023292697\n",
      "Epoch:\t 1 Val Loss:\t 0.03114954025705696\n",
      "Epoch:\t 2 Val Loss:\t 0.031140481500745304\n",
      "Epoch:\t 3 Val Loss:\t 0.0311161632218803\n",
      "Epoch:\t 4 Val Loss:\t 0.031171157170742213\n",
      "Epoch:\t 5 Val Loss:\t 0.0311247315355082\n",
      "Epoch:\t 6 Val Loss:\t 0.031080237673017187\n",
      "Epoch:\t 7 Val Loss:\t 0.031076982709807813\n",
      "Epoch:\t 8 Val Loss:\t 0.03111585042722095\n",
      "Epoch:\t 9 Val Loss:\t 0.031076369595779318\n",
      "Epoch:\t 10 Val Loss:\t 0.031069138268137474\n",
      "Epoch:\t 11 Val Loss:\t 0.031095537009475472\n",
      "Epoch:\t 12 Val Loss:\t 0.031080784519363542\n",
      "Epoch:\t 13 Val Loss:\t 0.031060329632475774\n",
      "Epoch:\t 14 Val Loss:\t 0.031092257590805524\n",
      "Epoch:\t 15 Val Loss:\t 0.03108256643511532\n",
      "Epoch:\t 16 Val Loss:\t 0.031092736248448015\n",
      "Epoch:\t 17 Val Loss:\t 0.031075260711123587\n",
      "Epoch:\t 18 Val Loss:\t 0.03105908441419475\n",
      "Epoch:\t 19 Val Loss:\t 0.031063225755421527\n",
      "Epoch:\t 20 Val Loss:\t 0.031074893129508438\n",
      "Epoch:\t 21 Val Loss:\t 0.03106388275295894\n",
      "Epoch:\t 22 Val Loss:\t 0.031080701421931152\n",
      "Epoch:\t 23 Val Loss:\t 0.031067194285771732\n",
      "Epoch:\t 24 Val Loss:\t 0.031079495282712904\n",
      "Epoch:\t 25 Val Loss:\t 0.03106523564737236\n",
      "Epoch:\t 26 Val Loss:\t 0.0310686795787969\n",
      "Epoch:\t 27 Val Loss:\t 0.031065064008891998\n"
     ]
    },
    {
     "name": "stderr",
     "output_type": "stream",
     "text": [
      "[I 2025-09-18 14:42:28,243] Trial 13 finished with value: 0.03105908441419475 and parameters: {'lr': 0.0001, 'weight_decay': 0.0001, 'scheduler_factor': 0.3, 'scheduler_patience': 1, 'batch_size': 32, 'dropout': 0.1, 'hidden_dims': 1024}. Best is trial 9 with value: 0.03104330482784399.\n"
     ]
    },
    {
     "name": "stdout",
     "output_type": "stream",
     "text": [
      "Epoch:\t 28 Val Loss:\t 0.03106403188781031\n",
      "Epoch:\t 0 Val Loss:\t 0.03147778665896633\n",
      "Epoch:\t 1 Val Loss:\t 0.031175332816314433\n",
      "Epoch:\t 2 Val Loss:\t 0.031147613655505522\n",
      "Epoch:\t 3 Val Loss:\t 0.031110285059724584\n",
      "Epoch:\t 4 Val Loss:\t 0.031125910240979524\n",
      "Epoch:\t 5 Val Loss:\t 0.031138152253797284\n",
      "Epoch:\t 6 Val Loss:\t 0.031119766015423222\n",
      "Epoch:\t 7 Val Loss:\t 0.03109163515030845\n",
      "Epoch:\t 8 Val Loss:\t 0.03109705174915834\n",
      "Epoch:\t 9 Val Loss:\t 0.03108642198787532\n",
      "Epoch:\t 10 Val Loss:\t 0.031095504434806312\n",
      "Epoch:\t 11 Val Loss:\t 0.031064260221295624\n",
      "Epoch:\t 12 Val Loss:\t 0.031087010003490134\n",
      "Epoch:\t 13 Val Loss:\t 0.031091931071435115\n",
      "Epoch:\t 14 Val Loss:\t 0.031061530539693523\n",
      "Epoch:\t 15 Val Loss:\t 0.03106998731460567\n",
      "Epoch:\t 16 Val Loss:\t 0.03106495016862574\n",
      "Epoch:\t 17 Val Loss:\t 0.03108842836047544\n",
      "Epoch:\t 18 Val Loss:\t 0.031113067724554435\n",
      "Epoch:\t 19 Val Loss:\t 0.031096035546503715\n",
      "Epoch:\t 20 Val Loss:\t 0.031075955920453275\n",
      "Epoch:\t 21 Val Loss:\t 0.031081214017714187\n",
      "Epoch:\t 22 Val Loss:\t 0.031081140369989813\n",
      "Epoch:\t 23 Val Loss:\t 0.031059446340849492\n",
      "Epoch:\t 24 Val Loss:\t 0.031086873133935454\n",
      "Epoch:\t 25 Val Loss:\t 0.031066153011459357\n",
      "Epoch:\t 26 Val Loss:\t 0.03107437637088106\n",
      "Epoch:\t 27 Val Loss:\t 0.031067666761983602\n",
      "Epoch:\t 28 Val Loss:\t 0.031074717884653023\n",
      "Epoch:\t 29 Val Loss:\t 0.031074412233016206\n",
      "Epoch:\t 30 Val Loss:\t 0.031090799310999732\n",
      "Epoch:\t 31 Val Loss:\t 0.031063032567877274\n",
      "Epoch:\t 32 Val Loss:\t 0.031067102102674132\n"
     ]
    },
    {
     "name": "stderr",
     "output_type": "stream",
     "text": [
      "[I 2025-09-18 14:47:19,764] Trial 14 finished with value: 0.031059446340849492 and parameters: {'lr': 0.0001, 'weight_decay': 0.0001, 'scheduler_factor': 0.3, 'scheduler_patience': 1, 'batch_size': 32, 'dropout': 0.05, 'hidden_dims': 1024}. Best is trial 9 with value: 0.03104330482784399.\n"
     ]
    },
    {
     "name": "stdout",
     "output_type": "stream",
     "text": [
      "Epoch:\t 33 Val Loss:\t 0.03106576318620719\n"
     ]
    },
    {
     "name": "stderr",
     "output_type": "stream",
     "text": [
      "[I 2025-09-18 14:47:22,364] Trial 15 pruned. \n"
     ]
    },
    {
     "name": "stdout",
     "output_type": "stream",
     "text": [
      "Epoch:\t 0 Val Loss:\t 0.03319475532531045\n"
     ]
    },
    {
     "name": "stderr",
     "output_type": "stream",
     "text": [
      "[I 2025-09-18 14:47:24,919] Trial 16 pruned. \n"
     ]
    },
    {
     "name": "stdout",
     "output_type": "stream",
     "text": [
      "Epoch:\t 0 Val Loss:\t 0.047085120702205704\n"
     ]
    },
    {
     "name": "stderr",
     "output_type": "stream",
     "text": [
      "[I 2025-09-18 14:47:33,256] Trial 17 pruned. \n"
     ]
    },
    {
     "name": "stdout",
     "output_type": "stream",
     "text": [
      "Epoch:\t 0 Val Loss:\t 0.03470684865514466\n"
     ]
    },
    {
     "name": "stderr",
     "output_type": "stream",
     "text": [
      "[I 2025-09-18 14:47:38,090] Trial 18 pruned. \n"
     ]
    },
    {
     "name": "stdout",
     "output_type": "stream",
     "text": [
      "Epoch:\t 0 Val Loss:\t 0.03359871385354188\n"
     ]
    },
    {
     "name": "stderr",
     "output_type": "stream",
     "text": [
      "[I 2025-09-18 14:47:41,221] Trial 19 pruned. \n"
     ]
    },
    {
     "name": "stdout",
     "output_type": "stream",
     "text": [
      "Epoch:\t 0 Val Loss:\t 0.032221567547695146\n"
     ]
    },
    {
     "name": "stderr",
     "output_type": "stream",
     "text": [
      "[I 2025-09-18 14:48:04,656] Trial 20 pruned. \n"
     ]
    },
    {
     "name": "stdout",
     "output_type": "stream",
     "text": [
      "Epoch:\t 0 Val Loss:\t 0.034954930165609355\n",
      "Epoch:\t 0 Val Loss:\t 0.03147776051382823\n",
      "Epoch:\t 1 Val Loss:\t 0.031117068036084803\n",
      "Epoch:\t 2 Val Loss:\t 0.031090793569555512\n",
      "Epoch:\t 3 Val Loss:\t 0.031095934883668127\n",
      "Epoch:\t 4 Val Loss:\t 0.03117207750257535\n",
      "Epoch:\t 5 Val Loss:\t 0.031071236017103362\n",
      "Epoch:\t 6 Val Loss:\t 0.03109591380377893\n",
      "Epoch:\t 7 Val Loss:\t 0.03108895946514603\n",
      "Epoch:\t 8 Val Loss:\t 0.031090372036634423\n",
      "Epoch:\t 9 Val Loss:\t 0.031059636936041413\n",
      "Epoch:\t 10 Val Loss:\t 0.03108884178067423\n",
      "Epoch:\t 11 Val Loss:\t 0.031081386612651484\n",
      "Epoch:\t 12 Val Loss:\t 0.03106404063240498\n",
      "Epoch:\t 13 Val Loss:\t 0.031071859824314964\n",
      "Epoch:\t 14 Val Loss:\t 0.031077369540287652\n",
      "Epoch:\t 15 Val Loss:\t 0.03107616648583895\n",
      "Epoch:\t 16 Val Loss:\t 0.031074312949597456\n",
      "Epoch:\t 17 Val Loss:\t 0.03109559925079553\n",
      "Epoch:\t 18 Val Loss:\t 0.03106359217923461\n"
     ]
    },
    {
     "name": "stderr",
     "output_type": "stream",
     "text": [
      "[I 2025-09-18 14:50:56,710] Trial 21 finished with value: 0.031059636936041413 and parameters: {'lr': 0.0001, 'weight_decay': 0.0001, 'scheduler_factor': 0.3, 'scheduler_patience': 1, 'batch_size': 32, 'dropout': 0.05, 'hidden_dims': 1024}. Best is trial 9 with value: 0.03104330482784399.\n"
     ]
    },
    {
     "name": "stdout",
     "output_type": "stream",
     "text": [
      "Epoch:\t 19 Val Loss:\t 0.031072474419378777\n",
      "Epoch:\t 0 Val Loss:\t 0.03134912985700788\n",
      "Epoch:\t 1 Val Loss:\t 0.03113813290466542\n",
      "Epoch:\t 2 Val Loss:\t 0.031106009554535203\n",
      "Epoch:\t 3 Val Loss:\t 0.03114042227771036\n",
      "Epoch:\t 4 Val Loss:\t 0.031094590593313175\n",
      "Epoch:\t 5 Val Loss:\t 0.031180148919394593\n",
      "Epoch:\t 6 Val Loss:\t 0.031124803206807158\n",
      "Epoch:\t 7 Val Loss:\t 0.03107848422854784\n",
      "Epoch:\t 8 Val Loss:\t 0.031080370726473565\n",
      "Epoch:\t 9 Val Loss:\t 0.031111712344542138\n",
      "Epoch:\t 10 Val Loss:\t 0.031055415224325013\n",
      "Epoch:\t 11 Val Loss:\t 0.031061723552648576\n",
      "Epoch:\t 12 Val Loss:\t 0.03108405772282013\n",
      "Epoch:\t 13 Val Loss:\t 0.031063702537446298\n",
      "Epoch:\t 14 Val Loss:\t 0.031066429757502834\n",
      "Epoch:\t 15 Val Loss:\t 0.031095634915098955\n",
      "Epoch:\t 16 Val Loss:\t 0.031057990340973254\n",
      "Epoch:\t 17 Val Loss:\t 0.031084756504742128\n",
      "Epoch:\t 18 Val Loss:\t 0.031072175012954395\n",
      "Epoch:\t 19 Val Loss:\t 0.031096534108396055\n"
     ]
    },
    {
     "name": "stderr",
     "output_type": "stream",
     "text": [
      "[I 2025-09-18 14:53:58,237] Trial 22 finished with value: 0.031055415224325013 and parameters: {'lr': 0.0001, 'weight_decay': 0.0001, 'scheduler_factor': 0.3, 'scheduler_patience': 1, 'batch_size': 32, 'dropout': 0.05, 'hidden_dims': 1024}. Best is trial 9 with value: 0.03104330482784399.\n"
     ]
    },
    {
     "name": "stdout",
     "output_type": "stream",
     "text": [
      "Epoch:\t 20 Val Loss:\t 0.031061865375293457\n",
      "Epoch:\t 0 Val Loss:\t 0.03146884433959745\n",
      "Epoch:\t 1 Val Loss:\t 0.031199029825186738\n",
      "Epoch:\t 2 Val Loss:\t 0.031200055302689916\n",
      "Epoch:\t 3 Val Loss:\t 0.03121234213142022\n",
      "Epoch:\t 4 Val Loss:\t 0.031186736270448046\n",
      "Epoch:\t 5 Val Loss:\t 0.031110168664942664\n",
      "Epoch:\t 6 Val Loss:\t 0.03109926463240456\n",
      "Epoch:\t 7 Val Loss:\t 0.031109172131950538\n",
      "Epoch:\t 8 Val Loss:\t 0.031074581078880153\n",
      "Epoch:\t 9 Val Loss:\t 0.031099921235900094\n",
      "Epoch:\t 10 Val Loss:\t 0.031079789347950967\n",
      "Epoch:\t 11 Val Loss:\t 0.031076823856337813\n",
      "Epoch:\t 12 Val Loss:\t 0.031063734735910863\n",
      "Epoch:\t 13 Val Loss:\t 0.031074714021529143\n",
      "Epoch:\t 14 Val Loss:\t 0.03107182788935577\n",
      "Epoch:\t 15 Val Loss:\t 0.031088964721740366\n",
      "Epoch:\t 16 Val Loss:\t 0.031062910344086272\n",
      "Epoch:\t 17 Val Loss:\t 0.031094212716070203\n",
      "Epoch:\t 18 Val Loss:\t 0.031072647405925597\n",
      "Epoch:\t 19 Val Loss:\t 0.031063668575252446\n",
      "Epoch:\t 20 Val Loss:\t 0.031086317690016914\n",
      "Epoch:\t 21 Val Loss:\t 0.03108481385188909\n",
      "Epoch:\t 22 Val Loss:\t 0.031108727770005107\n",
      "Epoch:\t 23 Val Loss:\t 0.03108675621052122\n",
      "Epoch:\t 24 Val Loss:\t 0.031078788679681214\n",
      "Epoch:\t 25 Val Loss:\t 0.031105944248444973\n"
     ]
    },
    {
     "name": "stderr",
     "output_type": "stream",
     "text": [
      "[I 2025-09-18 14:57:53,382] Trial 23 finished with value: 0.031062910344086272 and parameters: {'lr': 0.0001, 'weight_decay': 0.0001, 'scheduler_factor': 0.3, 'scheduler_patience': 1, 'batch_size': 32, 'dropout': 0.05, 'hidden_dims': 1024}. Best is trial 9 with value: 0.03104330482784399.\n"
     ]
    },
    {
     "name": "stdout",
     "output_type": "stream",
     "text": [
      "Epoch:\t 26 Val Loss:\t 0.031068228553273583\n",
      "Epoch:\t 0 Val Loss:\t 0.03144736975286582\n",
      "Epoch:\t 1 Val Loss:\t 0.03119202776370409\n",
      "Epoch:\t 2 Val Loss:\t 0.031128935079407585\n",
      "Epoch:\t 3 Val Loss:\t 0.031127918361093215\n",
      "Epoch:\t 4 Val Loss:\t 0.031110426892098895\n",
      "Epoch:\t 5 Val Loss:\t 0.03109482644007985\n",
      "Epoch:\t 6 Val Loss:\t 0.031083764895922177\n",
      "Epoch:\t 7 Val Loss:\t 0.031125336301146\n",
      "Epoch:\t 8 Val Loss:\t 0.031128926557238475\n",
      "Epoch:\t 9 Val Loss:\t 0.031125077375092448\n",
      "Epoch:\t 10 Val Loss:\t 0.031098742432864215\n",
      "Epoch:\t 11 Val Loss:\t 0.03110112323794888\n",
      "Epoch:\t 12 Val Loss:\t 0.031119942677532146\n",
      "Epoch:\t 13 Val Loss:\t 0.03115666876814598\n",
      "Epoch:\t 14 Val Loss:\t 0.031082335276311903\n",
      "Epoch:\t 15 Val Loss:\t 0.031078689649497882\n",
      "Epoch:\t 16 Val Loss:\t 0.03108561482849124\n",
      "Epoch:\t 17 Val Loss:\t 0.031080433475615774\n",
      "Epoch:\t 18 Val Loss:\t 0.031102097527844506\n",
      "Epoch:\t 19 Val Loss:\t 0.031066204096367383\n",
      "Epoch:\t 20 Val Loss:\t 0.03107988267317544\n",
      "Epoch:\t 21 Val Loss:\t 0.031080084693419746\n",
      "Epoch:\t 22 Val Loss:\t 0.031063571702570018\n",
      "Epoch:\t 23 Val Loss:\t 0.03107394052218609\n",
      "Epoch:\t 24 Val Loss:\t 0.031074252550382635\n",
      "Epoch:\t 25 Val Loss:\t 0.031091759919155946\n",
      "Epoch:\t 26 Val Loss:\t 0.03105779090767604\n",
      "Epoch:\t 27 Val Loss:\t 0.03108653955667502\n",
      "Epoch:\t 28 Val Loss:\t 0.031064089037936334\n",
      "Epoch:\t 29 Val Loss:\t 0.031070167884161427\n",
      "Epoch:\t 30 Val Loss:\t 0.03106162661348172\n",
      "Epoch:\t 31 Val Loss:\t 0.03106008806426426\n",
      "Epoch:\t 32 Val Loss:\t 0.031097170254685853\n",
      "Epoch:\t 33 Val Loss:\t 0.03108665122214361\n",
      "Epoch:\t 34 Val Loss:\t 0.031085488326994575\n",
      "Epoch:\t 35 Val Loss:\t 0.031098804003123932\n",
      "Epoch:\t 36 Val Loss:\t 0.031057085565145946\n",
      "Epoch:\t 37 Val Loss:\t 0.03106335108290041\n",
      "Epoch:\t 38 Val Loss:\t 0.03107135701714839\n",
      "Epoch:\t 39 Val Loss:\t 0.031078193549691626\n",
      "Epoch:\t 40 Val Loss:\t 0.031059802221204573\n",
      "Epoch:\t 41 Val Loss:\t 0.031069828868150122\n",
      "Epoch:\t 42 Val Loss:\t 0.031058574362927686\n"
     ]
    },
    {
     "name": "stderr",
     "output_type": "stream",
     "text": [
      "[I 2025-09-18 15:04:13,790] Trial 24 pruned. \n"
     ]
    },
    {
     "name": "stdout",
     "output_type": "stream",
     "text": [
      "Epoch:\t 43 Val Loss:\t 0.03107577114562205\n"
     ]
    },
    {
     "name": "stderr",
     "output_type": "stream",
     "text": [
      "[I 2025-09-18 15:04:16,288] Trial 25 pruned. \n"
     ]
    },
    {
     "name": "stdout",
     "output_type": "stream",
     "text": [
      "Epoch:\t 0 Val Loss:\t 0.03701310095398925\n"
     ]
    },
    {
     "name": "stderr",
     "output_type": "stream",
     "text": [
      "[I 2025-09-18 15:04:24,944] Trial 26 pruned. \n"
     ]
    },
    {
     "name": "stdout",
     "output_type": "stream",
     "text": [
      "Epoch:\t 0 Val Loss:\t 0.03272870131316949\n"
     ]
    },
    {
     "name": "stderr",
     "output_type": "stream",
     "text": [
      "[I 2025-09-18 15:04:33,204] Trial 27 pruned. \n"
     ]
    },
    {
     "name": "stdout",
     "output_type": "stream",
     "text": [
      "Epoch:\t 0 Val Loss:\t 0.03463365202548022\n"
     ]
    },
    {
     "name": "stderr",
     "output_type": "stream",
     "text": [
      "[I 2025-09-18 15:04:35,773] Trial 28 pruned. \n"
     ]
    },
    {
     "name": "stdout",
     "output_type": "stream",
     "text": [
      "Epoch:\t 0 Val Loss:\t 0.04163976309950962\n"
     ]
    },
    {
     "name": "stderr",
     "output_type": "stream",
     "text": [
      "[I 2025-09-18 15:04:40,793] Trial 29 pruned. \n"
     ]
    },
    {
     "name": "stdout",
     "output_type": "stream",
     "text": [
      "Epoch:\t 0 Val Loss:\t 0.03228941087806149\n",
      "Epoch:\t 0 Val Loss:\t 0.031306274781368666\n"
     ]
    },
    {
     "name": "stderr",
     "output_type": "stream",
     "text": [
      "[I 2025-09-18 15:05:26,179] Trial 30 pruned. \n"
     ]
    },
    {
     "name": "stdout",
     "output_type": "stream",
     "text": [
      "Epoch:\t 1 Val Loss:\t 0.031285350806265315\n",
      "Epoch:\t 0 Val Loss:\t 0.03151022345400607\n",
      "Epoch:\t 1 Val Loss:\t 0.031170165108963286\n",
      "Epoch:\t 2 Val Loss:\t 0.03110815221211347\n",
      "Epoch:\t 3 Val Loss:\t 0.031117778440620653\n",
      "Epoch:\t 4 Val Loss:\t 0.03111471904542252\n",
      "Epoch:\t 5 Val Loss:\t 0.03109194775551419\n",
      "Epoch:\t 6 Val Loss:\t 0.031084631638330078\n",
      "Epoch:\t 7 Val Loss:\t 0.0310892858918166\n",
      "Epoch:\t 8 Val Loss:\t 0.03109554915342456\n",
      "Epoch:\t 9 Val Loss:\t 0.031081272238888197\n",
      "Epoch:\t 10 Val Loss:\t 0.031093440960727317\n",
      "Epoch:\t 11 Val Loss:\t 0.031059777189545588\n",
      "Epoch:\t 12 Val Loss:\t 0.03109369343292623\n",
      "Epoch:\t 13 Val Loss:\t 0.031063579772590933\n",
      "Epoch:\t 14 Val Loss:\t 0.031065171631512536\n",
      "Epoch:\t 15 Val Loss:\t 0.031070039090843687\n",
      "Epoch:\t 16 Val Loss:\t 0.031059180119886207\n",
      "Epoch:\t 17 Val Loss:\t 0.031067955093615048\n",
      "Epoch:\t 18 Val Loss:\t 0.031111824467293898\n",
      "Epoch:\t 19 Val Loss:\t 0.03107359711495912\n",
      "Epoch:\t 20 Val Loss:\t 0.03114189975097715\n",
      "Epoch:\t 21 Val Loss:\t 0.031096416987150096\n",
      "Epoch:\t 22 Val Loss:\t 0.031066979607540166\n",
      "Epoch:\t 23 Val Loss:\t 0.03108363518371391\n",
      "Epoch:\t 24 Val Loss:\t 0.031073085175101763\n",
      "Epoch:\t 25 Val Loss:\t 0.03107073127107778\n"
     ]
    },
    {
     "name": "stderr",
     "output_type": "stream",
     "text": [
      "[I 2025-09-18 15:09:17,701] Trial 31 finished with value: 0.031059180119886207 and parameters: {'lr': 0.0001, 'weight_decay': 0.0001, 'scheduler_factor': 0.3, 'scheduler_patience': 1, 'batch_size': 32, 'dropout': 0.05, 'hidden_dims': 1024}. Best is trial 9 with value: 0.03104330482784399.\n"
     ]
    },
    {
     "name": "stdout",
     "output_type": "stream",
     "text": [
      "Epoch:\t 26 Val Loss:\t 0.031068573824767277\n",
      "Epoch:\t 0 Val Loss:\t 0.03150748873742441\n",
      "Epoch:\t 1 Val Loss:\t 0.031168452400802803\n",
      "Epoch:\t 2 Val Loss:\t 0.03118626543256393\n",
      "Epoch:\t 3 Val Loss:\t 0.03114632501802556\n",
      "Epoch:\t 4 Val Loss:\t 0.031136672877075795\n",
      "Epoch:\t 5 Val Loss:\t 0.03113993902075052\n",
      "Epoch:\t 6 Val Loss:\t 0.031183028829327795\n",
      "Epoch:\t 7 Val Loss:\t 0.031121732351422588\n",
      "Epoch:\t 8 Val Loss:\t 0.031124174735415348\n",
      "Epoch:\t 9 Val Loss:\t 0.03107306310362158\n",
      "Epoch:\t 10 Val Loss:\t 0.031093054637529097\n",
      "Epoch:\t 11 Val Loss:\t 0.031110436329645122\n",
      "Epoch:\t 12 Val Loss:\t 0.03106667896439724\n",
      "Epoch:\t 13 Val Loss:\t 0.031105996826820366\n",
      "Epoch:\t 14 Val Loss:\t 0.031081277570615344\n",
      "Epoch:\t 15 Val Loss:\t 0.031094830625355934\n",
      "Epoch:\t 16 Val Loss:\t 0.031076021283298505\n",
      "Epoch:\t 17 Val Loss:\t 0.031069748653061103\n",
      "Epoch:\t 18 Val Loss:\t 0.031085628249698162\n",
      "Epoch:\t 19 Val Loss:\t 0.031078903032093808\n",
      "Epoch:\t 20 Val Loss:\t 0.031073681964499535\n",
      "Epoch:\t 21 Val Loss:\t 0.03107829653083396\n"
     ]
    },
    {
     "name": "stderr",
     "output_type": "stream",
     "text": [
      "[I 2025-09-18 15:12:36,004] Trial 32 finished with value: 0.03106667896439724 and parameters: {'lr': 0.0001, 'weight_decay': 0.0001, 'scheduler_factor': 0.3, 'scheduler_patience': 1, 'batch_size': 32, 'dropout': 0.05, 'hidden_dims': 1024}. Best is trial 9 with value: 0.03104330482784399.\n"
     ]
    },
    {
     "name": "stdout",
     "output_type": "stream",
     "text": [
      "Epoch:\t 22 Val Loss:\t 0.031075191478127668\n"
     ]
    },
    {
     "name": "stderr",
     "output_type": "stream",
     "text": [
      "[I 2025-09-18 15:12:44,811] Trial 33 pruned. \n"
     ]
    },
    {
     "name": "stdout",
     "output_type": "stream",
     "text": [
      "Epoch:\t 0 Val Loss:\t 0.03179642751821583\n"
     ]
    },
    {
     "name": "stderr",
     "output_type": "stream",
     "text": [
      "[I 2025-09-18 15:12:53,181] Trial 34 pruned. \n"
     ]
    },
    {
     "name": "stdout",
     "output_type": "stream",
     "text": [
      "Epoch:\t 0 Val Loss:\t 0.03151790202053148\n",
      "Epoch:\t 0 Val Loss:\t 0.03150195803406627\n"
     ]
    },
    {
     "name": "stderr",
     "output_type": "stream",
     "text": [
      "[I 2025-09-18 15:12:58,211] Trial 35 pruned. \n"
     ]
    },
    {
     "name": "stdout",
     "output_type": "stream",
     "text": [
      "Epoch:\t 1 Val Loss:\t 0.03147881082150825\n"
     ]
    },
    {
     "name": "stderr",
     "output_type": "stream",
     "text": [
      "[I 2025-09-18 15:13:21,770] Trial 36 pruned. \n"
     ]
    },
    {
     "name": "stdout",
     "output_type": "stream",
     "text": [
      "Epoch:\t 0 Val Loss:\t 0.03884405308023006\n"
     ]
    },
    {
     "name": "stderr",
     "output_type": "stream",
     "text": [
      "[I 2025-09-18 15:13:29,828] Trial 37 pruned. \n"
     ]
    },
    {
     "name": "stdout",
     "output_type": "stream",
     "text": [
      "Epoch:\t 0 Val Loss:\t 0.032584440754969766\n"
     ]
    },
    {
     "name": "stderr",
     "output_type": "stream",
     "text": [
      "[I 2025-09-18 15:13:34,816] Trial 38 pruned. \n"
     ]
    },
    {
     "name": "stdout",
     "output_type": "stream",
     "text": [
      "Epoch:\t 0 Val Loss:\t 0.048823416834125256\n"
     ]
    },
    {
     "name": "stderr",
     "output_type": "stream",
     "text": [
      "[I 2025-09-18 15:13:38,157] Trial 39 pruned. \n"
     ]
    },
    {
     "name": "stdout",
     "output_type": "stream",
     "text": [
      "Epoch:\t 0 Val Loss:\t 0.03222429606972671\n"
     ]
    },
    {
     "name": "stderr",
     "output_type": "stream",
     "text": [
      "[I 2025-09-18 15:13:40,649] Trial 40 pruned. \n"
     ]
    },
    {
     "name": "stdout",
     "output_type": "stream",
     "text": [
      "Epoch:\t 0 Val Loss:\t 0.1102002882333689\n"
     ]
    },
    {
     "name": "stderr",
     "output_type": "stream",
     "text": [
      "[I 2025-09-18 15:13:48,942] Trial 41 pruned. \n"
     ]
    },
    {
     "name": "stdout",
     "output_type": "stream",
     "text": [
      "Epoch:\t 0 Val Loss:\t 0.03158668233043862\n",
      "Epoch:\t 0 Val Loss:\t 0.03133136601021348\n",
      "Epoch:\t 1 Val Loss:\t 0.031138082701351776\n",
      "Epoch:\t 2 Val Loss:\t 0.031117201389261648\n",
      "Epoch:\t 3 Val Loss:\t 0.03110658905608877\n",
      "Epoch:\t 4 Val Loss:\t 0.031104859554663397\n",
      "Epoch:\t 5 Val Loss:\t 0.031093640856712935\n",
      "Epoch:\t 6 Val Loss:\t 0.031119958352182953\n",
      "Epoch:\t 7 Val Loss:\t 0.03111072590502192\n",
      "Epoch:\t 8 Val Loss:\t 0.031104430025502894\n",
      "Epoch:\t 9 Val Loss:\t 0.03106732973564055\n",
      "Epoch:\t 10 Val Loss:\t 0.031070960392106328\n",
      "Epoch:\t 11 Val Loss:\t 0.031112827107124354\n",
      "Epoch:\t 12 Val Loss:\t 0.031055277791814755\n",
      "Epoch:\t 13 Val Loss:\t 0.031091470914031798\n",
      "Epoch:\t 14 Val Loss:\t 0.03110240889714249\n",
      "Epoch:\t 15 Val Loss:\t 0.03106993590349151\n",
      "Epoch:\t 16 Val Loss:\t 0.03105692148751304\n",
      "Epoch:\t 17 Val Loss:\t 0.031067189152957357\n",
      "Epoch:\t 18 Val Loss:\t 0.031067921007641233\n",
      "Epoch:\t 19 Val Loss:\t 0.031056978240624304\n",
      "Epoch:\t 20 Val Loss:\t 0.031094207881354724\n",
      "Epoch:\t 21 Val Loss:\t 0.031092966074319647\n"
     ]
    },
    {
     "name": "stderr",
     "output_type": "stream",
     "text": [
      "[I 2025-09-18 15:17:22,280] Trial 42 finished with value: 0.031055277791814755 and parameters: {'lr': 0.0001, 'weight_decay': 0.0001, 'scheduler_factor': 0.3, 'scheduler_patience': 1, 'batch_size': 32, 'dropout': 0.05, 'hidden_dims': 1024}. Best is trial 9 with value: 0.03104330482784399.\n"
     ]
    },
    {
     "name": "stdout",
     "output_type": "stream",
     "text": [
      "Epoch:\t 22 Val Loss:\t 0.031060746075283873\n",
      "Epoch:\t 0 Val Loss:\t 0.0313774833719998\n",
      "Epoch:\t 1 Val Loss:\t 0.03117341495395243\n",
      "Epoch:\t 2 Val Loss:\t 0.031177018784220075\n",
      "Epoch:\t 3 Val Loss:\t 0.031138936934416474\n",
      "Epoch:\t 4 Val Loss:\t 0.031163685818895205\n",
      "Epoch:\t 5 Val Loss:\t 0.03109992816838859\n",
      "Epoch:\t 6 Val Loss:\t 0.03108540106644758\n",
      "Epoch:\t 7 Val Loss:\t 0.031103390736534578\n",
      "Epoch:\t 8 Val Loss:\t 0.031092290323848165\n",
      "Epoch:\t 9 Val Loss:\t 0.031061450342171528\n",
      "Epoch:\t 10 Val Loss:\t 0.031078543104566484\n",
      "Epoch:\t 11 Val Loss:\t 0.03115953347746778\n",
      "Epoch:\t 12 Val Loss:\t 0.03110163805069044\n",
      "Epoch:\t 13 Val Loss:\t 0.031074634472365494\n",
      "Epoch:\t 14 Val Loss:\t 0.031100393933456476\n",
      "Epoch:\t 15 Val Loss:\t 0.03107324640471456\n",
      "Epoch:\t 16 Val Loss:\t 0.031082489123720365\n",
      "Epoch:\t 17 Val Loss:\t 0.031087796476756635\n",
      "Epoch:\t 18 Val Loss:\t 0.031083988626847\n"
     ]
    },
    {
     "name": "stderr",
     "output_type": "stream",
     "text": [
      "[I 2025-09-18 15:21:19,390] Trial 43 finished with value: 0.031061450342171528 and parameters: {'lr': 0.0001, 'weight_decay': 0.0001, 'scheduler_factor': 0.3, 'scheduler_patience': 1, 'batch_size': 32, 'dropout': 0.05, 'hidden_dims': 1024}. Best is trial 9 with value: 0.03104330482784399.\n"
     ]
    },
    {
     "name": "stdout",
     "output_type": "stream",
     "text": [
      "Epoch:\t 19 Val Loss:\t 0.03107049994795511\n",
      "Epoch:\t 0 Val Loss:\t 0.03122133802562018\n"
     ]
    },
    {
     "name": "stderr",
     "output_type": "stream",
     "text": [
      "[I 2025-09-18 15:21:36,737] Trial 44 pruned. \n"
     ]
    },
    {
     "name": "stdout",
     "output_type": "stream",
     "text": [
      "Epoch:\t 1 Val Loss:\t 0.031211878032517067\n"
     ]
    },
    {
     "name": "stderr",
     "output_type": "stream",
     "text": [
      "[I 2025-09-18 15:21:47,502] Trial 45 pruned. \n"
     ]
    },
    {
     "name": "stdout",
     "output_type": "stream",
     "text": [
      "Epoch:\t 0 Val Loss:\t 0.03151907429079624\n"
     ]
    },
    {
     "name": "stderr",
     "output_type": "stream",
     "text": [
      "[I 2025-09-18 15:21:52,016] Trial 46 pruned. \n"
     ]
    },
    {
     "name": "stdout",
     "output_type": "stream",
     "text": [
      "Epoch:\t 0 Val Loss:\t 0.031582535451124494\n",
      "Epoch:\t 0 Val Loss:\t 0.03140923458930414\n",
      "Epoch:\t 1 Val Loss:\t 0.031125955988484902\n",
      "Epoch:\t 2 Val Loss:\t 0.031122383336713338\n",
      "Epoch:\t 3 Val Loss:\t 0.03110762982447083\n",
      "Epoch:\t 4 Val Loss:\t 0.031126056567539293\n",
      "Epoch:\t 5 Val Loss:\t 0.031151586673284642\n",
      "Epoch:\t 6 Val Loss:\t 0.031097960251357\n",
      "Epoch:\t 7 Val Loss:\t 0.03112432811500043\n",
      "Epoch:\t 8 Val Loss:\t 0.031131318922236223\n",
      "Epoch:\t 9 Val Loss:\t 0.03113124889412974\n"
     ]
    },
    {
     "name": "stderr",
     "output_type": "stream",
     "text": [
      "[I 2025-09-18 15:24:08,016] Trial 47 pruned. \n"
     ]
    },
    {
     "name": "stdout",
     "output_type": "stream",
     "text": [
      "Epoch:\t 10 Val Loss:\t 0.031138255009000654\n"
     ]
    },
    {
     "name": "stderr",
     "output_type": "stream",
     "text": [
      "[I 2025-09-18 15:24:11,275] Trial 48 pruned. \n"
     ]
    },
    {
     "name": "stdout",
     "output_type": "stream",
     "text": [
      "Epoch:\t 0 Val Loss:\t 0.056220502016502756\n"
     ]
    },
    {
     "name": "stderr",
     "output_type": "stream",
     "text": [
      "[I 2025-09-18 15:24:23,070] Trial 49 pruned. \n"
     ]
    },
    {
     "name": "stdout",
     "output_type": "stream",
     "text": [
      "Epoch:\t 0 Val Loss:\t 0.03287019255747819\n",
      "Training model with best parameters on train+validation ...\n"
     ]
    },
    {
     "name": "stderr",
     "output_type": "stream",
     "text": [
      "100%|█████████████████████████████████████████████████████████████████████████████████████████████████████████████████████████████████████| 557340/557340 [05:37<00:00, 1650.13it/s]\n",
      "100%|█████████████████████████████████████████████████████████████████████████████████████████████████████████████████████████████████████| 557340/557340 [01:40<00:00, 5548.04it/s]\n"
     ]
    },
    {
     "name": "stdout",
     "output_type": "stream",
     "text": [
      "Getting test set predictions and saving results ...\n"
     ]
    },
    {
     "name": "stderr",
     "output_type": "stream",
     "text": [
      "100%|████████████████████████████████████████████████████████████████████████████████████████████████████████████████████████████████████████████| 410/410 [00:01<00:00, 271.32it/s]\n"
     ]
    }
   ],
   "source": [
    "train_different_featno(\n",
    "        adata_path=\"./data/feature_number/sciplex_hvg_1000.h5ad\",\n",
    "        run_name=\"decoder_hvg_1000\",\n",
    "        res_savename=\"./results/feature_number/decoder_hvg_1000_res.pkl\",\n",
    "        output_dim=1000\n",
    "    )"
   ]
  },
  {
   "cell_type": "code",
   "execution_count": 5,
   "id": "7fc05b74-0b35-45e5-92d9-74a0f99a9048",
   "metadata": {},
   "outputs": [
    {
     "name": "stdout",
     "output_type": "stream",
     "text": [
      "Loading Datasets ...\n"
     ]
    },
    {
     "name": "stderr",
     "output_type": "stream",
     "text": [
      "100%|█████████████████████████████████████████████████████████████████████████████████████████████████████████████████████████████████████| 557340/557340 [04:21<00:00, 2133.47it/s]\n",
      "100%|█████████████████████████████████████████████████████████████████████████████████████████████████████████████████████████████████████| 557340/557340 [01:44<00:00, 5311.43it/s]\n",
      "[I 2025-09-18 15:39:56,904] A new study created in RDB with name: decoder_hvg_2000\n"
     ]
    },
    {
     "name": "stdout",
     "output_type": "stream",
     "text": [
      "Optimizing Hyperparameters with Optuna ...\n",
      "Epoch:\t 0 Val Loss:\t 0.026635214478832582\n",
      "Epoch:\t 1 Val Loss:\t 0.026459120019396862\n",
      "Epoch:\t 2 Val Loss:\t 0.02662440216481184\n",
      "Epoch:\t 3 Val Loss:\t 0.026617196440973465\n",
      "Epoch:\t 4 Val Loss:\t 0.026652351105007334\n",
      "Epoch:\t 5 Val Loss:\t 0.026878216612794357\n",
      "Epoch:\t 6 Val Loss:\t 0.026631287013699996\n",
      "Epoch:\t 7 Val Loss:\t 0.02654439054518177\n",
      "Epoch:\t 8 Val Loss:\t 0.02630357917623072\n",
      "Epoch:\t 9 Val Loss:\t 0.026117676589043418\n",
      "Epoch:\t 10 Val Loss:\t 0.0261435776476511\n",
      "Epoch:\t 11 Val Loss:\t 0.026196901501089904\n",
      "Epoch:\t 12 Val Loss:\t 0.02620802061049591\n",
      "Epoch:\t 13 Val Loss:\t 0.026226346315064715\n",
      "Epoch:\t 14 Val Loss:\t 0.026315704018344592\n",
      "Epoch:\t 15 Val Loss:\t 0.026365303444971767\n",
      "Epoch:\t 16 Val Loss:\t 0.0261197073171072\n",
      "Epoch:\t 17 Val Loss:\t 0.02622260283722012\n",
      "Epoch:\t 18 Val Loss:\t 0.026211503928811553\n",
      "Epoch:\t 19 Val Loss:\t 0.02602372086756645\n",
      "Epoch:\t 20 Val Loss:\t 0.02609861253836969\n",
      "Epoch:\t 21 Val Loss:\t 0.026171292939930896\n",
      "Epoch:\t 22 Val Loss:\t 0.02613679765038802\n",
      "Epoch:\t 23 Val Loss:\t 0.026080441539020678\n",
      "Epoch:\t 24 Val Loss:\t 0.0260747969145138\n",
      "Epoch:\t 25 Val Loss:\t 0.026185802976723526\n",
      "Epoch:\t 26 Val Loss:\t 0.02622662023470904\n",
      "Epoch:\t 27 Val Loss:\t 0.026176281572004443\n",
      "Epoch:\t 28 Val Loss:\t 0.026106736628966783\n"
     ]
    },
    {
     "name": "stderr",
     "output_type": "stream",
     "text": [
      "[I 2025-09-18 15:46:13,935] Trial 0 finished with value: 0.02602372086756645 and parameters: {'lr': 0.001, 'weight_decay': 0.001, 'scheduler_factor': 0.1, 'scheduler_patience': 5, 'batch_size': 32, 'dropout': 0.2, 'hidden_dims': 128}. Best is trial 0 with value: 0.02602372086756645.\n"
     ]
    },
    {
     "name": "stdout",
     "output_type": "stream",
     "text": [
      "Epoch:\t 29 Val Loss:\t 0.026236947268859476\n",
      "Epoch:\t 0 Val Loss:\t 0.02634500719857643\n",
      "Epoch:\t 1 Val Loss:\t 0.02593196324634436\n",
      "Epoch:\t 2 Val Loss:\t 0.025914099142841707\n",
      "Epoch:\t 3 Val Loss:\t 0.025930457491626004\n",
      "Epoch:\t 4 Val Loss:\t 0.025985794943639402\n",
      "Epoch:\t 5 Val Loss:\t 0.02589484957696287\n",
      "Epoch:\t 6 Val Loss:\t 0.025876236676058643\n",
      "Epoch:\t 7 Val Loss:\t 0.025977160166459932\n",
      "Epoch:\t 8 Val Loss:\t 0.025882440799544326\n",
      "Epoch:\t 9 Val Loss:\t 0.02593112828451305\n",
      "Epoch:\t 10 Val Loss:\t 0.026000576481832727\n",
      "Epoch:\t 11 Val Loss:\t 0.025994420949795\n",
      "Epoch:\t 12 Val Loss:\t 0.026016325078473353\n",
      "Epoch:\t 13 Val Loss:\t 0.02567414866632558\n",
      "Epoch:\t 14 Val Loss:\t 0.025860991991675897\n",
      "Epoch:\t 15 Val Loss:\t 0.02576751964177299\n",
      "Epoch:\t 16 Val Loss:\t 0.025952266198720084\n",
      "Epoch:\t 17 Val Loss:\t 0.025761083401301836\n",
      "Epoch:\t 18 Val Loss:\t 0.025956762169865952\n",
      "Epoch:\t 19 Val Loss:\t 0.025769732782397522\n",
      "Epoch:\t 20 Val Loss:\t 0.026052442128123816\n",
      "Epoch:\t 21 Val Loss:\t 0.02592699447314093\n",
      "Epoch:\t 22 Val Loss:\t 0.02582514710547628\n"
     ]
    },
    {
     "name": "stderr",
     "output_type": "stream",
     "text": [
      "[I 2025-09-18 15:58:26,208] Trial 1 finished with value: 0.02567414866632558 and parameters: {'lr': 0.0001, 'weight_decay': 0.001, 'scheduler_factor': 0.8, 'scheduler_patience': 1, 'batch_size': 16, 'dropout': 0.05, 'hidden_dims': 512}. Best is trial 1 with value: 0.02567414866632558.\n"
     ]
    },
    {
     "name": "stdout",
     "output_type": "stream",
     "text": [
      "Epoch:\t 23 Val Loss:\t 0.025889391193308783\n",
      "Epoch:\t 0 Val Loss:\t 0.03125425891647505\n",
      "Epoch:\t 1 Val Loss:\t 0.026640574066618156\n",
      "Epoch:\t 2 Val Loss:\t 0.02544505614354167\n",
      "Epoch:\t 3 Val Loss:\t 0.024985892234673335\n",
      "Epoch:\t 4 Val Loss:\t 0.02463372353204461\n",
      "Epoch:\t 5 Val Loss:\t 0.0244806335805807\n",
      "Epoch:\t 6 Val Loss:\t 0.024347490410125534\n",
      "Epoch:\t 7 Val Loss:\t 0.024290816988362822\n",
      "Epoch:\t 8 Val Loss:\t 0.024254556086867354\n",
      "Epoch:\t 9 Val Loss:\t 0.024218162071219712\n",
      "Epoch:\t 10 Val Loss:\t 0.024201809177391752\n",
      "Epoch:\t 11 Val Loss:\t 0.024194104999823624\n",
      "Epoch:\t 12 Val Loss:\t 0.024194409806541233\n",
      "Epoch:\t 13 Val Loss:\t 0.02415840598039849\n",
      "Epoch:\t 14 Val Loss:\t 0.02415793973865897\n",
      "Epoch:\t 15 Val Loss:\t 0.024162106571155924\n",
      "Epoch:\t 16 Val Loss:\t 0.02414363210284433\n",
      "Epoch:\t 17 Val Loss:\t 0.024172617399761842\n",
      "Epoch:\t 18 Val Loss:\t 0.02414940767163454\n",
      "Epoch:\t 19 Val Loss:\t 0.024149824496965077\n",
      "Epoch:\t 20 Val Loss:\t 0.02415921157442553\n",
      "Epoch:\t 21 Val Loss:\t 0.024184378435791926\n",
      "Epoch:\t 22 Val Loss:\t 0.024151906397107036\n",
      "Epoch:\t 23 Val Loss:\t 0.024151237114051052\n",
      "Epoch:\t 24 Val Loss:\t 0.024155121253326882\n",
      "Epoch:\t 25 Val Loss:\t 0.024164736114962157\n"
     ]
    },
    {
     "name": "stderr",
     "output_type": "stream",
     "text": [
      "[I 2025-09-18 16:00:02,228] Trial 2 finished with value: 0.02414363210284433 and parameters: {'lr': 0.0001, 'weight_decay': 0.0001, 'scheduler_factor': 0.8, 'scheduler_patience': 10, 'batch_size': 256, 'dropout': 0.2, 'hidden_dims': 64}. Best is trial 2 with value: 0.02414363210284433.\n"
     ]
    },
    {
     "name": "stdout",
     "output_type": "stream",
     "text": [
      "Epoch:\t 26 Val Loss:\t 0.024149606502506624\n",
      "Epoch:\t 0 Val Loss:\t 0.0902945838868618\n",
      "Epoch:\t 1 Val Loss:\t 0.07539096460785977\n",
      "Epoch:\t 2 Val Loss:\t 0.0644157066767992\n",
      "Epoch:\t 3 Val Loss:\t 0.056549464313443314\n",
      "Epoch:\t 4 Val Loss:\t 0.050153693244900814\n",
      "Epoch:\t 5 Val Loss:\t 0.04615301614583925\n",
      "Epoch:\t 6 Val Loss:\t 0.0426472109590852\n",
      "Epoch:\t 7 Val Loss:\t 0.04027311480495819\n",
      "Epoch:\t 8 Val Loss:\t 0.0389744928149983\n",
      "Epoch:\t 9 Val Loss:\t 0.037957667334135185\n",
      "Epoch:\t 10 Val Loss:\t 0.03713426228699296\n",
      "Epoch:\t 11 Val Loss:\t 0.036596747868975925\n",
      "Epoch:\t 12 Val Loss:\t 0.036071168562007504\n",
      "Epoch:\t 13 Val Loss:\t 0.03594069860355799\n",
      "Epoch:\t 14 Val Loss:\t 0.035766503656672874\n",
      "Epoch:\t 15 Val Loss:\t 0.035408184408795\n",
      "Epoch:\t 16 Val Loss:\t 0.03531365397624498\n",
      "Epoch:\t 17 Val Loss:\t 0.03532312978492227\n",
      "Epoch:\t 18 Val Loss:\t 0.03523102405719286\n",
      "Epoch:\t 19 Val Loss:\t 0.03538448147822258\n",
      "Epoch:\t 20 Val Loss:\t 0.03557025808407817\n",
      "Epoch:\t 21 Val Loss:\t 0.035399673043122123\n",
      "Epoch:\t 22 Val Loss:\t 0.03547228505445081\n",
      "Epoch:\t 23 Val Loss:\t 0.0355964794235174\n",
      "Epoch:\t 24 Val Loss:\t 0.03552469016854153\n",
      "Epoch:\t 25 Val Loss:\t 0.035592223833813226\n",
      "Epoch:\t 26 Val Loss:\t 0.03545356784449067\n",
      "Epoch:\t 27 Val Loss:\t 0.03553652188978916\n"
     ]
    },
    {
     "name": "stderr",
     "output_type": "stream",
     "text": [
      "[I 2025-09-18 16:01:44,751] Trial 3 finished with value: 0.03523102405719286 and parameters: {'lr': 1e-06, 'weight_decay': 0.0001, 'scheduler_factor': 0.3, 'scheduler_patience': 1, 'batch_size': 256, 'dropout': 0.2, 'hidden_dims': 128}. Best is trial 2 with value: 0.02414363210284433.\n"
     ]
    },
    {
     "name": "stdout",
     "output_type": "stream",
     "text": [
      "Epoch:\t 28 Val Loss:\t 0.03537003978826972\n",
      "Epoch:\t 0 Val Loss:\t 0.024522109230070612\n",
      "Epoch:\t 1 Val Loss:\t 0.0242711627336089\n",
      "Epoch:\t 2 Val Loss:\t 0.024188133706013824\n",
      "Epoch:\t 3 Val Loss:\t 0.02417965847132511\n",
      "Epoch:\t 4 Val Loss:\t 0.024172667309988377\n",
      "Epoch:\t 5 Val Loss:\t 0.024187520375951777\n",
      "Epoch:\t 6 Val Loss:\t 0.024189038167512694\n",
      "Epoch:\t 7 Val Loss:\t 0.02412666840868634\n",
      "Epoch:\t 8 Val Loss:\t 0.024128284339987954\n",
      "Epoch:\t 9 Val Loss:\t 0.024136288329785646\n",
      "Epoch:\t 10 Val Loss:\t 0.0241126810741979\n",
      "Epoch:\t 11 Val Loss:\t 0.02411835955585851\n",
      "Epoch:\t 12 Val Loss:\t 0.024121662957030672\n",
      "Epoch:\t 13 Val Loss:\t 0.024129401021745316\n",
      "Epoch:\t 14 Val Loss:\t 0.02411871608779874\n",
      "Epoch:\t 15 Val Loss:\t 0.02412262842665578\n",
      "Epoch:\t 16 Val Loss:\t 0.02412259668371705\n",
      "Epoch:\t 17 Val Loss:\t 0.02411385193727044\n",
      "Epoch:\t 18 Val Loss:\t 0.024117461752233116\n",
      "Epoch:\t 19 Val Loss:\t 0.024120213537541933\n"
     ]
    },
    {
     "name": "stderr",
     "output_type": "stream",
     "text": [
      "[I 2025-09-18 16:03:00,114] Trial 4 finished with value: 0.0241126810741979 and parameters: {'lr': 0.001, 'weight_decay': 1e-05, 'scheduler_factor': 0.1, 'scheduler_patience': 1, 'batch_size': 256, 'dropout': 0.1, 'hidden_dims': 256}. Best is trial 4 with value: 0.0241126810741979.\n"
     ]
    },
    {
     "name": "stdout",
     "output_type": "stream",
     "text": [
      "Epoch:\t 20 Val Loss:\t 0.024122596688048784\n"
     ]
    },
    {
     "name": "stderr",
     "output_type": "stream",
     "text": [
      "[I 2025-09-18 16:03:04,975] Trial 5 pruned. \n"
     ]
    },
    {
     "name": "stdout",
     "output_type": "stream",
     "text": [
      "Epoch:\t 0 Val Loss:\t 0.07796961629847617\n"
     ]
    },
    {
     "name": "stderr",
     "output_type": "stream",
     "text": [
      "[I 2025-09-18 16:03:08,741] Trial 6 pruned. \n"
     ]
    },
    {
     "name": "stdout",
     "output_type": "stream",
     "text": [
      "Epoch:\t 0 Val Loss:\t 0.04627416713466478\n",
      "Epoch:\t 0 Val Loss:\t 0.02434194280949188\n",
      "Epoch:\t 1 Val Loss:\t 0.024203313484320928\n",
      "Epoch:\t 2 Val Loss:\t 0.024199163229856047\n",
      "Epoch:\t 3 Val Loss:\t 0.024190204036413965\n",
      "Epoch:\t 4 Val Loss:\t 0.024199948351542686\n",
      "Epoch:\t 5 Val Loss:\t 0.02419760250078338\n",
      "Epoch:\t 6 Val Loss:\t 0.024185318025223612\n",
      "Epoch:\t 7 Val Loss:\t 0.024188337953533118\n",
      "Epoch:\t 8 Val Loss:\t 0.024220223866675526\n",
      "Epoch:\t 9 Val Loss:\t 0.02419857961869973\n",
      "Epoch:\t 10 Val Loss:\t 0.024187328752283778\n",
      "Epoch:\t 11 Val Loss:\t 0.024198717210124\n",
      "Epoch:\t 12 Val Loss:\t 0.024190134125060627\n",
      "Epoch:\t 13 Val Loss:\t 0.02419120310500342\n",
      "Epoch:\t 14 Val Loss:\t 0.024195233412904235\n",
      "Epoch:\t 15 Val Loss:\t 0.024186887539970756\n"
     ]
    },
    {
     "name": "stderr",
     "output_type": "stream",
     "text": [
      "[I 2025-09-18 16:05:14,332] Trial 7 finished with value: 0.024185318025223612 and parameters: {'lr': 0.001, 'weight_decay': 1e-05, 'scheduler_factor': 0.1, 'scheduler_patience': 20, 'batch_size': 64, 'dropout': 0.1, 'hidden_dims': 64}. Best is trial 4 with value: 0.0241126810741979.\n"
     ]
    },
    {
     "name": "stdout",
     "output_type": "stream",
     "text": [
      "Epoch:\t 16 Val Loss:\t 0.024188753618527414\n"
     ]
    },
    {
     "name": "stderr",
     "output_type": "stream",
     "text": [
      "[I 2025-09-18 16:05:17,925] Trial 8 pruned. \n"
     ]
    },
    {
     "name": "stdout",
     "output_type": "stream",
     "text": [
      "Epoch:\t 0 Val Loss:\t 0.08931251871724462\n",
      "Epoch:\t 0 Val Loss:\t 0.024539952404749512\n",
      "Epoch:\t 1 Val Loss:\t 0.024898737818175667\n",
      "Epoch:\t 2 Val Loss:\t 0.02599489287155974\n",
      "Epoch:\t 3 Val Loss:\t 0.025846751029503186\n",
      "Epoch:\t 4 Val Loss:\t 0.025794263789673498\n",
      "Epoch:\t 5 Val Loss:\t 0.02577703475986742\n",
      "Epoch:\t 6 Val Loss:\t 0.02589162719315453\n",
      "Epoch:\t 7 Val Loss:\t 0.025739729910379778\n",
      "Epoch:\t 8 Val Loss:\t 0.02580134044668907\n",
      "Epoch:\t 9 Val Loss:\t 0.025738779715955847\n"
     ]
    },
    {
     "name": "stderr",
     "output_type": "stream",
     "text": [
      "[I 2025-09-18 16:06:42,180] Trial 9 finished with value: 0.024539952404749512 and parameters: {'lr': 0.0001, 'weight_decay': 0.001, 'scheduler_factor': 0.8, 'scheduler_patience': 1, 'batch_size': 64, 'dropout': 0.2, 'hidden_dims': 1024}. Best is trial 4 with value: 0.0241126810741979.\n"
     ]
    },
    {
     "name": "stdout",
     "output_type": "stream",
     "text": [
      "Epoch:\t 10 Val Loss:\t 0.025767746180927278\n"
     ]
    },
    {
     "name": "stderr",
     "output_type": "stream",
     "text": [
      "[I 2025-09-18 16:07:12,243] Trial 10 pruned. \n"
     ]
    },
    {
     "name": "stdout",
     "output_type": "stream",
     "text": [
      "Epoch:\t 0 Val Loss:\t 0.029199061064752452\n"
     ]
    },
    {
     "name": "stderr",
     "output_type": "stream",
     "text": [
      "[I 2025-09-18 16:07:15,919] Trial 11 pruned. \n"
     ]
    },
    {
     "name": "stdout",
     "output_type": "stream",
     "text": [
      "Epoch:\t 0 Val Loss:\t 0.03718512489698654\n",
      "Epoch:\t 0 Val Loss:\t 0.025308776945742063\n",
      "Epoch:\t 1 Val Loss:\t 0.024732647086818552\n",
      "Epoch:\t 2 Val Loss:\t 0.024490913701092087\n",
      "Epoch:\t 3 Val Loss:\t 0.02445254007917504\n",
      "Epoch:\t 4 Val Loss:\t 0.024342582673700743\n",
      "Epoch:\t 5 Val Loss:\t 0.024270993692064008\n",
      "Epoch:\t 6 Val Loss:\t 0.02423910576590272\n",
      "Epoch:\t 7 Val Loss:\t 0.024221072086068086\n",
      "Epoch:\t 8 Val Loss:\t 0.024199193031635396\n",
      "Epoch:\t 9 Val Loss:\t 0.024185763485729695\n",
      "Epoch:\t 10 Val Loss:\t 0.02416263944361099\n",
      "Epoch:\t 11 Val Loss:\t 0.024166988884640295\n",
      "Epoch:\t 12 Val Loss:\t 0.024144081138940746\n",
      "Epoch:\t 13 Val Loss:\t 0.024165359039812588\n",
      "Epoch:\t 14 Val Loss:\t 0.024158636918074863\n",
      "Epoch:\t 15 Val Loss:\t 0.02415319254058738\n",
      "Epoch:\t 16 Val Loss:\t 0.02414908911166496\n",
      "Epoch:\t 17 Val Loss:\t 0.02415551859452281\n",
      "Epoch:\t 18 Val Loss:\t 0.024141869447085747\n",
      "Epoch:\t 19 Val Loss:\t 0.024164086233737857\n",
      "Epoch:\t 20 Val Loss:\t 0.024138816168835\n",
      "Epoch:\t 21 Val Loss:\t 0.024138015274738158\n",
      "Epoch:\t 22 Val Loss:\t 0.024145508254336756\n",
      "Epoch:\t 23 Val Loss:\t 0.02414946025454028\n",
      "Epoch:\t 24 Val Loss:\t 0.02413984552285699\n",
      "Epoch:\t 25 Val Loss:\t 0.024141752490297305\n",
      "Epoch:\t 26 Val Loss:\t 0.024137995890233407\n",
      "Epoch:\t 27 Val Loss:\t 0.024137338822664216\n",
      "Epoch:\t 28 Val Loss:\t 0.02414271765236938\n",
      "Epoch:\t 29 Val Loss:\t 0.024147406441354474\n",
      "Epoch:\t 30 Val Loss:\t 0.024144458532506644\n",
      "Epoch:\t 31 Val Loss:\t 0.024133527660092642\n",
      "Epoch:\t 32 Val Loss:\t 0.024136208093097043\n",
      "Epoch:\t 33 Val Loss:\t 0.024134712956499223\n",
      "Epoch:\t 34 Val Loss:\t 0.02413554630393899\n",
      "Epoch:\t 35 Val Loss:\t 0.024153373048229274\n",
      "Epoch:\t 36 Val Loss:\t 0.024156041153121827\n",
      "Epoch:\t 37 Val Loss:\t 0.02414873982238215\n",
      "Epoch:\t 38 Val Loss:\t 0.02416023345187653\n",
      "Epoch:\t 39 Val Loss:\t 0.024132575159675852\n",
      "Epoch:\t 40 Val Loss:\t 0.024136634556533292\n",
      "Epoch:\t 41 Val Loss:\t 0.02414112301153499\n",
      "Epoch:\t 42 Val Loss:\t 0.024130007083159547\n",
      "Epoch:\t 43 Val Loss:\t 0.024150243267243684\n",
      "Epoch:\t 44 Val Loss:\t 0.02413223586803259\n",
      "Epoch:\t 45 Val Loss:\t 0.024137672851252002\n",
      "Epoch:\t 46 Val Loss:\t 0.024136787271776865\n",
      "Epoch:\t 47 Val Loss:\t 0.024141383171081544\n",
      "Epoch:\t 48 Val Loss:\t 0.02414416431687599\n",
      "Epoch:\t 49 Val Loss:\t 0.02414471449027228\n",
      "Epoch:\t 50 Val Loss:\t 0.024144377022288565\n",
      "Epoch:\t 51 Val Loss:\t 0.0241461934348525\n"
     ]
    },
    {
     "name": "stderr",
     "output_type": "stream",
     "text": [
      "[I 2025-09-18 16:10:25,387] Trial 12 finished with value: 0.024130007083159547 and parameters: {'lr': 0.001, 'weight_decay': 1e-06, 'scheduler_factor': 0.5, 'scheduler_patience': 10, 'batch_size': 256, 'dropout': 0.15, 'hidden_dims': 256}. Best is trial 4 with value: 0.0241126810741979.\n"
     ]
    },
    {
     "name": "stdout",
     "output_type": "stream",
     "text": [
      "Epoch:\t 52 Val Loss:\t 0.024143186878672868\n",
      "Epoch:\t 0 Val Loss:\t 0.024365240653941123\n",
      "Epoch:\t 1 Val Loss:\t 0.024228637290494737\n",
      "Epoch:\t 2 Val Loss:\t 0.02423185026878518\n",
      "Epoch:\t 3 Val Loss:\t 0.02423000071944752\n",
      "Epoch:\t 4 Val Loss:\t 0.024238864895014728\n",
      "Epoch:\t 5 Val Loss:\t 0.024233034463816614\n",
      "Epoch:\t 6 Val Loss:\t 0.024262956187650085\n",
      "Epoch:\t 7 Val Loss:\t 0.02423653509916475\n",
      "Epoch:\t 8 Val Loss:\t 0.024228135654373064\n",
      "Epoch:\t 9 Val Loss:\t 0.02423161704139703\n",
      "Epoch:\t 10 Val Loss:\t 0.024223306074141766\n"
     ]
    },
    {
     "name": "stderr",
     "output_type": "stream",
     "text": [
      "[I 2025-09-18 16:12:57,134] Trial 13 pruned. \n"
     ]
    },
    {
     "name": "stdout",
     "output_type": "stream",
     "text": [
      "Epoch:\t 11 Val Loss:\t 0.024237992153332735\n",
      "Epoch:\t 0 Val Loss:\t 0.025014438234814782\n",
      "Epoch:\t 1 Val Loss:\t 0.024488652060100424\n",
      "Epoch:\t 2 Val Loss:\t 0.024363526291323177\n",
      "Epoch:\t 3 Val Loss:\t 0.024261300381744642\n",
      "Epoch:\t 4 Val Loss:\t 0.024196850609696285\n",
      "Epoch:\t 5 Val Loss:\t 0.024227635874375094\n",
      "Epoch:\t 6 Val Loss:\t 0.024166079261853997\n",
      "Epoch:\t 7 Val Loss:\t 0.02416513970989245\n",
      "Epoch:\t 8 Val Loss:\t 0.024181714225192656\n",
      "Epoch:\t 9 Val Loss:\t 0.02417117699063475\n",
      "Epoch:\t 10 Val Loss:\t 0.02417819056569076\n",
      "Epoch:\t 11 Val Loss:\t 0.024163331570369855\n",
      "Epoch:\t 12 Val Loss:\t 0.02418129093962333\n",
      "Epoch:\t 13 Val Loss:\t 0.024189268040895877\n",
      "Epoch:\t 14 Val Loss:\t 0.02418379974308122\n",
      "Epoch:\t 15 Val Loss:\t 0.024189552902292705\n",
      "Epoch:\t 16 Val Loss:\t 0.02418012899518636\n",
      "Epoch:\t 17 Val Loss:\t 0.02419003715541789\n",
      "Epoch:\t 18 Val Loss:\t 0.02418818863695022\n",
      "Epoch:\t 19 Val Loss:\t 0.024194587742461974\n",
      "Epoch:\t 20 Val Loss:\t 0.024191867116661298\n"
     ]
    },
    {
     "name": "stderr",
     "output_type": "stream",
     "text": [
      "[I 2025-09-18 16:14:46,004] Trial 14 finished with value: 0.024163331570369855 and parameters: {'lr': 0.001, 'weight_decay': 1e-06, 'scheduler_factor': 0.5, 'scheduler_patience': 1, 'batch_size': 128, 'dropout': 0.15, 'hidden_dims': 256}. Best is trial 4 with value: 0.0241126810741979.\n"
     ]
    },
    {
     "name": "stdout",
     "output_type": "stream",
     "text": [
      "Epoch:\t 21 Val Loss:\t 0.024198187201453693\n"
     ]
    },
    {
     "name": "stderr",
     "output_type": "stream",
     "text": [
      "[I 2025-09-18 16:14:49,609] Trial 15 pruned. \n"
     ]
    },
    {
     "name": "stdout",
     "output_type": "stream",
     "text": [
      "Epoch:\t 0 Val Loss:\t 0.02535978201776743\n"
     ]
    },
    {
     "name": "stderr",
     "output_type": "stream",
     "text": [
      "[I 2025-09-18 16:14:53,196] Trial 16 pruned. \n"
     ]
    },
    {
     "name": "stdout",
     "output_type": "stream",
     "text": [
      "Epoch:\t 0 Val Loss:\t 0.0375589499986449\n"
     ]
    },
    {
     "name": "stderr",
     "output_type": "stream",
     "text": [
      "[I 2025-09-18 16:14:56,788] Trial 17 pruned. \n"
     ]
    },
    {
     "name": "stdout",
     "output_type": "stream",
     "text": [
      "Epoch:\t 0 Val Loss:\t 0.026339204613725808\n",
      "Epoch:\t 0 Val Loss:\t 0.02426577266494841\n",
      "Epoch:\t 1 Val Loss:\t 0.024280004173865274\n",
      "Epoch:\t 2 Val Loss:\t 0.02427664962372231\n",
      "Epoch:\t 3 Val Loss:\t 0.02417601036518838\n",
      "Epoch:\t 4 Val Loss:\t 0.024169678703338516\n",
      "Epoch:\t 5 Val Loss:\t 0.02418346044222528\n",
      "Epoch:\t 6 Val Loss:\t 0.024180803293934863\n",
      "Epoch:\t 7 Val Loss:\t 0.024157502130592715\n",
      "Epoch:\t 8 Val Loss:\t 0.02415900025381637\n",
      "Epoch:\t 9 Val Loss:\t 0.02416630793767109\n",
      "Epoch:\t 10 Val Loss:\t 0.024169033561342344\n",
      "Epoch:\t 11 Val Loss:\t 0.024168094743195048\n",
      "Epoch:\t 12 Val Loss:\t 0.02416586321472568\n",
      "Epoch:\t 13 Val Loss:\t 0.02416489047322454\n",
      "Epoch:\t 14 Val Loss:\t 0.02416638857280371\n",
      "Epoch:\t 15 Val Loss:\t 0.024167376667683753\n",
      "Epoch:\t 16 Val Loss:\t 0.02418155321830025\n"
     ]
    },
    {
     "name": "stderr",
     "output_type": "stream",
     "text": [
      "[I 2025-09-18 16:23:58,895] Trial 18 finished with value: 0.024157502130592715 and parameters: {'lr': 0.001, 'weight_decay': 1e-05, 'scheduler_factor': 0.1, 'scheduler_patience': 1, 'batch_size': 16, 'dropout': 0.15, 'hidden_dims': 256}. Best is trial 4 with value: 0.0241126810741979.\n"
     ]
    },
    {
     "name": "stdout",
     "output_type": "stream",
     "text": [
      "Epoch:\t 17 Val Loss:\t 0.02416601509772415\n",
      "Epoch:\t 0 Val Loss:\t 0.02493024959675665\n",
      "Epoch:\t 1 Val Loss:\t 0.024411004499622063\n",
      "Epoch:\t 2 Val Loss:\t 0.02435200220529903\n",
      "Epoch:\t 3 Val Loss:\t 0.024279122129428815\n",
      "Epoch:\t 4 Val Loss:\t 0.02424342603650935\n",
      "Epoch:\t 5 Val Loss:\t 0.02418111109160726\n",
      "Epoch:\t 6 Val Loss:\t 0.024191098964830446\n",
      "Epoch:\t 7 Val Loss:\t 0.024188842613609134\n",
      "Epoch:\t 8 Val Loss:\t 0.024191635218421895\n",
      "Epoch:\t 9 Val Loss:\t 0.02418090886805254\n",
      "Epoch:\t 10 Val Loss:\t 0.024187969671222668\n",
      "Epoch:\t 11 Val Loss:\t 0.024166072098999073\n",
      "Epoch:\t 12 Val Loss:\t 0.024177708594900805\n",
      "Epoch:\t 13 Val Loss:\t 0.02416892484713099\n",
      "Epoch:\t 14 Val Loss:\t 0.024171137159017458\n",
      "Epoch:\t 15 Val Loss:\t 0.02416331515053631\n",
      "Epoch:\t 16 Val Loss:\t 0.024181102539881042\n",
      "Epoch:\t 17 Val Loss:\t 0.02417743749674258\n",
      "Epoch:\t 18 Val Loss:\t 0.024170570761294176\n",
      "Epoch:\t 19 Val Loss:\t 0.024167844969411482\n",
      "Epoch:\t 20 Val Loss:\t 0.02416872064843687\n",
      "Epoch:\t 21 Val Loss:\t 0.024170820414154647\n",
      "Epoch:\t 22 Val Loss:\t 0.02415603673589631\n",
      "Epoch:\t 23 Val Loss:\t 0.02416671816428364\n",
      "Epoch:\t 24 Val Loss:\t 0.024188701266749532\n",
      "Epoch:\t 25 Val Loss:\t 0.02416931849262925\n",
      "Epoch:\t 26 Val Loss:\t 0.024162789434627234\n",
      "Epoch:\t 27 Val Loss:\t 0.02415851200525146\n",
      "Epoch:\t 28 Val Loss:\t 0.02417048029644841\n",
      "Epoch:\t 29 Val Loss:\t 0.02417564171428049\n"
     ]
    },
    {
     "name": "stderr",
     "output_type": "stream",
     "text": [
      "[I 2025-09-18 16:26:31,850] Trial 19 pruned. \n"
     ]
    },
    {
     "name": "stdout",
     "output_type": "stream",
     "text": [
      "Epoch:\t 30 Val Loss:\t 0.024172345978942345\n"
     ]
    },
    {
     "name": "stderr",
     "output_type": "stream",
     "text": [
      "[I 2025-09-18 16:26:44,850] Trial 20 pruned. \n"
     ]
    },
    {
     "name": "stdout",
     "output_type": "stream",
     "text": [
      "Epoch:\t 0 Val Loss:\t 0.030383361622937633\n"
     ]
    },
    {
     "name": "stderr",
     "output_type": "stream",
     "text": [
      "[I 2025-09-18 16:26:48,469] Trial 21 pruned. \n"
     ]
    },
    {
     "name": "stdout",
     "output_type": "stream",
     "text": [
      "Epoch:\t 0 Val Loss:\t 0.030680758969555067\n"
     ]
    },
    {
     "name": "stderr",
     "output_type": "stream",
     "text": [
      "[I 2025-09-18 16:26:52,051] Trial 22 pruned. \n"
     ]
    },
    {
     "name": "stdout",
     "output_type": "stream",
     "text": [
      "Epoch:\t 0 Val Loss:\t 0.031628312049217004\n"
     ]
    },
    {
     "name": "stderr",
     "output_type": "stream",
     "text": [
      "[I 2025-09-18 16:26:55,627] Trial 23 pruned. \n"
     ]
    },
    {
     "name": "stdout",
     "output_type": "stream",
     "text": [
      "Epoch:\t 0 Val Loss:\t 0.03154977541850057\n"
     ]
    },
    {
     "name": "stderr",
     "output_type": "stream",
     "text": [
      "[I 2025-09-18 16:26:59,339] Trial 24 pruned. \n"
     ]
    },
    {
     "name": "stdout",
     "output_type": "stream",
     "text": [
      "Epoch:\t 0 Val Loss:\t 0.029304869524961294\n",
      "Epoch:\t 0 Val Loss:\t 0.024325152250461914\n",
      "Epoch:\t 1 Val Loss:\t 0.024351429835273233\n",
      "Epoch:\t 2 Val Loss:\t 0.024295814999109495\n",
      "Epoch:\t 3 Val Loss:\t 0.024320279535076955\n",
      "Epoch:\t 4 Val Loss:\t 0.024295388018789155\n",
      "Epoch:\t 5 Val Loss:\t 0.024327209558785482\n",
      "Epoch:\t 6 Val Loss:\t 0.024264582074439187\n"
     ]
    },
    {
     "name": "stderr",
     "output_type": "stream",
     "text": [
      "[I 2025-09-18 16:27:59,170] Trial 25 pruned. \n"
     ]
    },
    {
     "name": "stdout",
     "output_type": "stream",
     "text": [
      "Epoch:\t 7 Val Loss:\t 0.02432227885059783\n"
     ]
    },
    {
     "name": "stderr",
     "output_type": "stream",
     "text": [
      "[I 2025-09-18 16:28:02,845] Trial 26 pruned. \n"
     ]
    },
    {
     "name": "stdout",
     "output_type": "stream",
     "text": [
      "Epoch:\t 0 Val Loss:\t 0.03774954450511655\n"
     ]
    },
    {
     "name": "stderr",
     "output_type": "stream",
     "text": [
      "[I 2025-09-18 16:28:06,404] Trial 27 pruned. \n"
     ]
    },
    {
     "name": "stdout",
     "output_type": "stream",
     "text": [
      "Epoch:\t 0 Val Loss:\t 0.040988563365021415\n",
      "Epoch:\t 0 Val Loss:\t 0.024621185950588348\n",
      "Epoch:\t 1 Val Loss:\t 0.02428524414467257\n",
      "Epoch:\t 2 Val Loss:\t 0.024214840342485628\n",
      "Epoch:\t 3 Val Loss:\t 0.024216596639260304\n",
      "Epoch:\t 4 Val Loss:\t 0.02415746436562649\n",
      "Epoch:\t 5 Val Loss:\t 0.02420292727129404\n",
      "Epoch:\t 6 Val Loss:\t 0.024191135770186434\n",
      "Epoch:\t 7 Val Loss:\t 0.024150692788494188\n",
      "Epoch:\t 8 Val Loss:\t 0.02415687600367291\n",
      "Epoch:\t 9 Val Loss:\t 0.02415907591754614\n",
      "Epoch:\t 10 Val Loss:\t 0.02415749634681053\n",
      "Epoch:\t 11 Val Loss:\t 0.024148941477544084\n",
      "Epoch:\t 12 Val Loss:\t 0.02415894090609495\n",
      "Epoch:\t 13 Val Loss:\t 0.02415872164677049\n",
      "Epoch:\t 14 Val Loss:\t 0.024162622337597747\n",
      "Epoch:\t 15 Val Loss:\t 0.02416147563259962\n",
      "Epoch:\t 16 Val Loss:\t 0.02416882320891979\n",
      "Epoch:\t 17 Val Loss:\t 0.02416408290263525\n",
      "Epoch:\t 18 Val Loss:\t 0.02415515567760828\n",
      "Epoch:\t 19 Val Loss:\t 0.024142071886291337\n",
      "Epoch:\t 20 Val Loss:\t 0.02413829719257909\n",
      "Epoch:\t 21 Val Loss:\t 0.02413939353251873\n",
      "Epoch:\t 22 Val Loss:\t 0.024147854797368827\n",
      "Epoch:\t 23 Val Loss:\t 0.02414934284291988\n",
      "Epoch:\t 24 Val Loss:\t 0.02415364981130805\n",
      "Epoch:\t 25 Val Loss:\t 0.02416392977154532\n",
      "Epoch:\t 26 Val Loss:\t 0.024144901378556738\n",
      "Epoch:\t 27 Val Loss:\t 0.024153640433106312\n",
      "Epoch:\t 28 Val Loss:\t 0.02413544556082681\n",
      "Epoch:\t 29 Val Loss:\t 0.024130943759756034\n",
      "Epoch:\t 30 Val Loss:\t 0.024149403547824817\n",
      "Epoch:\t 31 Val Loss:\t 0.024136350611441357\n",
      "Epoch:\t 32 Val Loss:\t 0.024147754855627236\n",
      "Epoch:\t 33 Val Loss:\t 0.024155668628423714\n",
      "Epoch:\t 34 Val Loss:\t 0.024143982475060364\n",
      "Epoch:\t 35 Val Loss:\t 0.02413623771348665\n",
      "Epoch:\t 36 Val Loss:\t 0.02414464804148951\n",
      "Epoch:\t 37 Val Loss:\t 0.024139593446324038\n",
      "Epoch:\t 38 Val Loss:\t 0.024148832404509532\n"
     ]
    },
    {
     "name": "stderr",
     "output_type": "stream",
     "text": [
      "[I 2025-09-18 16:30:30,471] Trial 28 finished with value: 0.024130943759756034 and parameters: {'lr': 0.001, 'weight_decay': 1e-05, 'scheduler_factor': 0.8, 'scheduler_patience': 10, 'batch_size': 256, 'dropout': 0.1, 'hidden_dims': 256}. Best is trial 4 with value: 0.0241126810741979.\n"
     ]
    },
    {
     "name": "stdout",
     "output_type": "stream",
     "text": [
      "Epoch:\t 39 Val Loss:\t 0.02413904111139303\n",
      "Epoch:\t 0 Val Loss:\t 0.024260607345361593\n",
      "Epoch:\t 1 Val Loss:\t 0.02420729410537863\n",
      "Epoch:\t 2 Val Loss:\t 0.024211230051600512\n",
      "Epoch:\t 3 Val Loss:\t 0.02421545715017749\n",
      "Epoch:\t 4 Val Loss:\t 0.024211060986824406\n",
      "Epoch:\t 5 Val Loss:\t 0.0242069247465211\n",
      "Epoch:\t 6 Val Loss:\t 0.024212024787314414\n",
      "Epoch:\t 7 Val Loss:\t 0.02420338032712043\n",
      "Epoch:\t 8 Val Loss:\t 0.02421607203604313\n"
     ]
    },
    {
     "name": "stderr",
     "output_type": "stream",
     "text": [
      "[I 2025-09-18 16:32:38,684] Trial 29 pruned. \n"
     ]
    },
    {
     "name": "stdout",
     "output_type": "stream",
     "text": [
      "Epoch:\t 9 Val Loss:\t 0.02420698229366188\n",
      "Epoch:\t 0 Val Loss:\t 0.024260057484868622\n",
      "Epoch:\t 1 Val Loss:\t 0.024279156576825316\n",
      "Epoch:\t 2 Val Loss:\t 0.02425881753296382\n",
      "Epoch:\t 3 Val Loss:\t 0.0242080943554642\n",
      "Epoch:\t 4 Val Loss:\t 0.024214090358011395\n",
      "Epoch:\t 5 Val Loss:\t 0.024214606555134174\n",
      "Epoch:\t 6 Val Loss:\t 0.024191846466022945\n",
      "Epoch:\t 7 Val Loss:\t 0.024177004276342062\n",
      "Epoch:\t 8 Val Loss:\t 0.02417805662410285\n",
      "Epoch:\t 9 Val Loss:\t 0.024209057738071953\n",
      "Epoch:\t 10 Val Loss:\t 0.024179734589998694\n",
      "Epoch:\t 11 Val Loss:\t 0.024198553385611596\n",
      "Epoch:\t 12 Val Loss:\t 0.02419878306181043\n",
      "Epoch:\t 13 Val Loss:\t 0.024174022813779287\n",
      "Epoch:\t 14 Val Loss:\t 0.024177096631574118\n",
      "Epoch:\t 15 Val Loss:\t 0.024185164999251923\n",
      "Epoch:\t 16 Val Loss:\t 0.024189983736834453\n"
     ]
    },
    {
     "name": "stderr",
     "output_type": "stream",
     "text": [
      "[I 2025-09-18 16:41:37,697] Trial 30 pruned. \n"
     ]
    },
    {
     "name": "stdout",
     "output_type": "stream",
     "text": [
      "Epoch:\t 17 Val Loss:\t 0.024195704219494504\n",
      "Epoch:\t 0 Val Loss:\t 0.02446524329743413\n",
      "Epoch:\t 1 Val Loss:\t 0.024280215357971747\n",
      "Epoch:\t 2 Val Loss:\t 0.02419432556299969\n",
      "Epoch:\t 3 Val Loss:\t 0.024207940008924452\n",
      "Epoch:\t 4 Val Loss:\t 0.02418613687677439\n",
      "Epoch:\t 5 Val Loss:\t 0.024178139709456023\n",
      "Epoch:\t 6 Val Loss:\t 0.024164744202307492\n",
      "Epoch:\t 7 Val Loss:\t 0.02417216296199449\n",
      "Epoch:\t 8 Val Loss:\t 0.02416950044936912\n",
      "Epoch:\t 9 Val Loss:\t 0.024173870002634303\n",
      "Epoch:\t 10 Val Loss:\t 0.024147952248363993\n",
      "Epoch:\t 11 Val Loss:\t 0.024162441379455633\n",
      "Epoch:\t 12 Val Loss:\t 0.024149653731390486\n",
      "Epoch:\t 13 Val Loss:\t 0.024141923857982767\n",
      "Epoch:\t 14 Val Loss:\t 0.024164271839829377\n",
      "Epoch:\t 15 Val Loss:\t 0.024144851797541906\n",
      "Epoch:\t 16 Val Loss:\t 0.024163710360610206\n",
      "Epoch:\t 17 Val Loss:\t 0.024189757564386655\n",
      "Epoch:\t 18 Val Loss:\t 0.024159101717347323\n",
      "Epoch:\t 19 Val Loss:\t 0.02417936001059621\n",
      "Epoch:\t 20 Val Loss:\t 0.024161454441762247\n",
      "Epoch:\t 21 Val Loss:\t 0.024149819636760755\n",
      "Epoch:\t 22 Val Loss:\t 0.024144390979131986\n"
     ]
    },
    {
     "name": "stderr",
     "output_type": "stream",
     "text": [
      "[I 2025-09-18 16:43:03,973] Trial 31 finished with value: 0.024141923857982767 and parameters: {'lr': 0.001, 'weight_decay': 1e-05, 'scheduler_factor': 0.8, 'scheduler_patience': 10, 'batch_size': 256, 'dropout': 0.1, 'hidden_dims': 256}. Best is trial 4 with value: 0.0241126810741979.\n"
     ]
    },
    {
     "name": "stdout",
     "output_type": "stream",
     "text": [
      "Epoch:\t 23 Val Loss:\t 0.02414534885522931\n",
      "Epoch:\t 0 Val Loss:\t 0.02451422340128311\n",
      "Epoch:\t 1 Val Loss:\t 0.024315602947459665\n",
      "Epoch:\t 2 Val Loss:\t 0.024224284572830036\n",
      "Epoch:\t 3 Val Loss:\t 0.024199481221825577\n",
      "Epoch:\t 4 Val Loss:\t 0.024181383618608464\n",
      "Epoch:\t 5 Val Loss:\t 0.02418089039450468\n",
      "Epoch:\t 6 Val Loss:\t 0.02416840994860544\n",
      "Epoch:\t 7 Val Loss:\t 0.024167209764032863\n",
      "Epoch:\t 8 Val Loss:\t 0.024170273663692697\n",
      "Epoch:\t 9 Val Loss:\t 0.0241535943434682\n",
      "Epoch:\t 10 Val Loss:\t 0.024162362749839936\n",
      "Epoch:\t 11 Val Loss:\t 0.024156112275844396\n",
      "Epoch:\t 12 Val Loss:\t 0.024165663551972357\n",
      "Epoch:\t 13 Val Loss:\t 0.024159833628597648\n",
      "Epoch:\t 14 Val Loss:\t 0.024158973073543505\n",
      "Epoch:\t 15 Val Loss:\t 0.02414739225492921\n",
      "Epoch:\t 16 Val Loss:\t 0.024185523624683535\n",
      "Epoch:\t 17 Val Loss:\t 0.02414900294483401\n",
      "Epoch:\t 18 Val Loss:\t 0.024162193890227827\n",
      "Epoch:\t 19 Val Loss:\t 0.024153554989674756\n",
      "Epoch:\t 20 Val Loss:\t 0.02416645094405773\n",
      "Epoch:\t 21 Val Loss:\t 0.024148279930963072\n",
      "Epoch:\t 22 Val Loss:\t 0.02416226473138776\n",
      "Epoch:\t 23 Val Loss:\t 0.02416660474656626\n",
      "Epoch:\t 24 Val Loss:\t 0.024159244508590808\n"
     ]
    },
    {
     "name": "stderr",
     "output_type": "stream",
     "text": [
      "[I 2025-09-18 16:44:37,439] Trial 32 finished with value: 0.02414739225492921 and parameters: {'lr': 0.001, 'weight_decay': 1e-05, 'scheduler_factor': 0.8, 'scheduler_patience': 10, 'batch_size': 256, 'dropout': 0.1, 'hidden_dims': 256}. Best is trial 4 with value: 0.0241126810741979.\n"
     ]
    },
    {
     "name": "stdout",
     "output_type": "stream",
     "text": [
      "Epoch:\t 25 Val Loss:\t 0.024156390706640343\n",
      "Epoch:\t 0 Val Loss:\t 0.024573849362516127\n",
      "Epoch:\t 1 Val Loss:\t 0.024333568640746348\n",
      "Epoch:\t 2 Val Loss:\t 0.024225988208727782\n",
      "Epoch:\t 3 Val Loss:\t 0.02418498195447894\n",
      "Epoch:\t 4 Val Loss:\t 0.02418260013381409\n",
      "Epoch:\t 5 Val Loss:\t 0.024181949975358885\n",
      "Epoch:\t 6 Val Loss:\t 0.024170024225185084\n",
      "Epoch:\t 7 Val Loss:\t 0.02416420711507631\n",
      "Epoch:\t 8 Val Loss:\t 0.024158349611558192\n",
      "Epoch:\t 9 Val Loss:\t 0.024157311186887496\n",
      "Epoch:\t 10 Val Loss:\t 0.024152238285818764\n",
      "Epoch:\t 11 Val Loss:\t 0.024163808127821877\n",
      "Epoch:\t 12 Val Loss:\t 0.024179316914185536\n",
      "Epoch:\t 13 Val Loss:\t 0.02415846149155567\n",
      "Epoch:\t 14 Val Loss:\t 0.02416161428270645\n",
      "Epoch:\t 15 Val Loss:\t 0.024154378928590653\n",
      "Epoch:\t 16 Val Loss:\t 0.0241469991415046\n",
      "Epoch:\t 17 Val Loss:\t 0.02418131519455549\n",
      "Epoch:\t 18 Val Loss:\t 0.024161516675768897\n",
      "Epoch:\t 19 Val Loss:\t 0.024169999564629653\n",
      "Epoch:\t 20 Val Loss:\t 0.024154841704943846\n",
      "Epoch:\t 21 Val Loss:\t 0.024154596858073113\n",
      "Epoch:\t 22 Val Loss:\t 0.024181189158454883\n",
      "Epoch:\t 23 Val Loss:\t 0.024158110369949838\n",
      "Epoch:\t 24 Val Loss:\t 0.024162144989295063\n",
      "Epoch:\t 25 Val Loss:\t 0.02414991371333599\n"
     ]
    },
    {
     "name": "stderr",
     "output_type": "stream",
     "text": [
      "[I 2025-09-18 16:46:14,277] Trial 33 finished with value: 0.0241469991415046 and parameters: {'lr': 0.001, 'weight_decay': 1e-05, 'scheduler_factor': 0.8, 'scheduler_patience': 10, 'batch_size': 256, 'dropout': 0.1, 'hidden_dims': 256}. Best is trial 4 with value: 0.0241126810741979.\n"
     ]
    },
    {
     "name": "stdout",
     "output_type": "stream",
     "text": [
      "Epoch:\t 26 Val Loss:\t 0.024164278341760468\n"
     ]
    },
    {
     "name": "stderr",
     "output_type": "stream",
     "text": [
      "[I 2025-09-18 16:46:17,887] Trial 34 pruned. \n"
     ]
    },
    {
     "name": "stdout",
     "output_type": "stream",
     "text": [
      "Epoch:\t 0 Val Loss:\t 0.02520167102907286\n",
      "Epoch:\t 0 Val Loss:\t 0.024489554962733896\n",
      "Epoch:\t 1 Val Loss:\t 0.02436512324885486\n",
      "Epoch:\t 2 Val Loss:\t 0.0241910823070283\n",
      "Epoch:\t 3 Val Loss:\t 0.024194042251362066\n",
      "Epoch:\t 4 Val Loss:\t 0.024172917906190597\n",
      "Epoch:\t 5 Val Loss:\t 0.02416233645490307\n",
      "Epoch:\t 6 Val Loss:\t 0.024171413228556114\n",
      "Epoch:\t 7 Val Loss:\t 0.02418203164934766\n",
      "Epoch:\t 8 Val Loss:\t 0.02416580993115348\n",
      "Epoch:\t 9 Val Loss:\t 0.024176464994783046\n",
      "Epoch:\t 10 Val Loss:\t 0.024149926710315697\n",
      "Epoch:\t 11 Val Loss:\t 0.024172188203595794\n",
      "Epoch:\t 12 Val Loss:\t 0.024174587199687264\n",
      "Epoch:\t 13 Val Loss:\t 0.02418560451859312\n",
      "Epoch:\t 14 Val Loss:\t 0.02418594541077899\n",
      "Epoch:\t 15 Val Loss:\t 0.024174926709491895\n",
      "Epoch:\t 16 Val Loss:\t 0.024183053858621472\n",
      "Epoch:\t 17 Val Loss:\t 0.02417791639773757\n",
      "Epoch:\t 18 Val Loss:\t 0.0241740793379134\n",
      "Epoch:\t 19 Val Loss:\t 0.024178501616613928\n"
     ]
    },
    {
     "name": "stderr",
     "output_type": "stream",
     "text": [
      "[I 2025-09-18 16:48:02,678] Trial 35 finished with value: 0.024149926710315697 and parameters: {'lr': 0.001, 'weight_decay': 1e-05, 'scheduler_factor': 0.8, 'scheduler_patience': 10, 'batch_size': 128, 'dropout': 0.1, 'hidden_dims': 512}. Best is trial 4 with value: 0.0241126810741979.\n"
     ]
    },
    {
     "name": "stdout",
     "output_type": "stream",
     "text": [
      "Epoch:\t 20 Val Loss:\t 0.024164542772144113\n",
      "Epoch:\t 0 Val Loss:\t 0.02453794265815685\n",
      "Epoch:\t 1 Val Loss:\t 0.02432441812355158\n",
      "Epoch:\t 2 Val Loss:\t 0.024193966795885286\n",
      "Epoch:\t 3 Val Loss:\t 0.024186510765968366\n",
      "Epoch:\t 4 Val Loss:\t 0.02417300083176341\n",
      "Epoch:\t 5 Val Loss:\t 0.024148697730933512\n",
      "Epoch:\t 6 Val Loss:\t 0.02416264448574809\n",
      "Epoch:\t 7 Val Loss:\t 0.02415452840369801\n",
      "Epoch:\t 8 Val Loss:\t 0.024111381047513595\n",
      "Epoch:\t 9 Val Loss:\t 0.02411754483487024\n",
      "Epoch:\t 10 Val Loss:\t 0.024111206894523875\n",
      "Epoch:\t 11 Val Loss:\t 0.024109316188408884\n",
      "Epoch:\t 12 Val Loss:\t 0.02410216764655224\n",
      "Epoch:\t 13 Val Loss:\t 0.02411577663449354\n",
      "Epoch:\t 14 Val Loss:\t 0.02410553969269575\n",
      "Epoch:\t 15 Val Loss:\t 0.024110228758911754\n",
      "Epoch:\t 16 Val Loss:\t 0.02410865371483703\n",
      "Epoch:\t 17 Val Loss:\t 0.02411062868182049\n",
      "Epoch:\t 18 Val Loss:\t 0.02410493080265993\n",
      "Epoch:\t 19 Val Loss:\t 0.024104708116934742\n",
      "Epoch:\t 20 Val Loss:\t 0.024106640654594398\n",
      "Epoch:\t 21 Val Loss:\t 0.024113463125256605\n"
     ]
    },
    {
     "name": "stderr",
     "output_type": "stream",
     "text": [
      "[I 2025-09-18 16:49:25,217] Trial 36 finished with value: 0.02410216764655224 and parameters: {'lr': 0.001, 'weight_decay': 1e-05, 'scheduler_factor': 0.1, 'scheduler_patience': 1, 'batch_size': 256, 'dropout': 0.05, 'hidden_dims': 128}. Best is trial 36 with value: 0.02410216764655224.\n"
     ]
    },
    {
     "name": "stdout",
     "output_type": "stream",
     "text": [
      "Epoch:\t 22 Val Loss:\t 0.0241037979722023\n"
     ]
    },
    {
     "name": "stderr",
     "output_type": "stream",
     "text": [
      "[I 2025-09-18 16:49:32,492] Trial 37 pruned. \n"
     ]
    },
    {
     "name": "stdout",
     "output_type": "stream",
     "text": [
      "Epoch:\t 0 Val Loss:\t 0.05541396812815273\n"
     ]
    },
    {
     "name": "stderr",
     "output_type": "stream",
     "text": [
      "[I 2025-09-18 16:49:36,138] Trial 38 pruned. \n"
     ]
    },
    {
     "name": "stdout",
     "output_type": "stream",
     "text": [
      "Epoch:\t 0 Val Loss:\t 0.0255712999204217\n",
      "Epoch:\t 0 Val Loss:\t 0.02431420238933986\n",
      "Epoch:\t 1 Val Loss:\t 0.024198124673838056\n",
      "Epoch:\t 2 Val Loss:\t 0.024207503143784462\n",
      "Epoch:\t 3 Val Loss:\t 0.02422417886014671\n",
      "Epoch:\t 4 Val Loss:\t 0.024187733898954428\n",
      "Epoch:\t 5 Val Loss:\t 0.02420116938921951\n"
     ]
    },
    {
     "name": "stderr",
     "output_type": "stream",
     "text": [
      "[I 2025-09-18 16:51:04,626] Trial 39 pruned. \n"
     ]
    },
    {
     "name": "stdout",
     "output_type": "stream",
     "text": [
      "Epoch:\t 6 Val Loss:\t 0.024226583013699125\n"
     ]
    },
    {
     "name": "stderr",
     "output_type": "stream",
     "text": [
      "[I 2025-09-18 16:51:33,757] Trial 40 pruned. \n"
     ]
    },
    {
     "name": "stdout",
     "output_type": "stream",
     "text": [
      "Epoch:\t 0 Val Loss:\t 0.03543789422251127\n"
     ]
    },
    {
     "name": "stderr",
     "output_type": "stream",
     "text": [
      "[I 2025-09-18 16:51:37,420] Trial 41 pruned. \n"
     ]
    },
    {
     "name": "stdout",
     "output_type": "stream",
     "text": [
      "Epoch:\t 0 Val Loss:\t 0.025905283995319245\n",
      "Epoch:\t 0 Val Loss:\t 0.02452776596643204\n",
      "Epoch:\t 1 Val Loss:\t 0.024305377155542374\n",
      "Epoch:\t 2 Val Loss:\t 0.024221099661879762\n",
      "Epoch:\t 3 Val Loss:\t 0.02421069479179244\n",
      "Epoch:\t 4 Val Loss:\t 0.02418936896462773\n",
      "Epoch:\t 5 Val Loss:\t 0.0241643323324794\n",
      "Epoch:\t 6 Val Loss:\t 0.024183719592212244\n",
      "Epoch:\t 7 Val Loss:\t 0.024186252984543178\n",
      "Epoch:\t 8 Val Loss:\t 0.024134438991719902\n",
      "Epoch:\t 9 Val Loss:\t 0.024149857132240785\n",
      "Epoch:\t 10 Val Loss:\t 0.024123690645535326\n",
      "Epoch:\t 11 Val Loss:\t 0.024113651746234227\n",
      "Epoch:\t 12 Val Loss:\t 0.02412085679554662\n",
      "Epoch:\t 13 Val Loss:\t 0.024117654471030068\n",
      "Epoch:\t 14 Val Loss:\t 0.02412086785446073\n",
      "Epoch:\t 15 Val Loss:\t 0.024111907682273278\n",
      "Epoch:\t 16 Val Loss:\t 0.024110550463719422\n",
      "Epoch:\t 17 Val Loss:\t 0.024111188653596613\n",
      "Epoch:\t 18 Val Loss:\t 0.024111548793870348\n",
      "Epoch:\t 19 Val Loss:\t 0.024110489906093407\n",
      "Epoch:\t 20 Val Loss:\t 0.02411393165848283\n",
      "Epoch:\t 21 Val Loss:\t 0.024105515486972276\n",
      "Epoch:\t 22 Val Loss:\t 0.024111527810956157\n",
      "Epoch:\t 23 Val Loss:\t 0.02410751043623963\n",
      "Epoch:\t 24 Val Loss:\t 0.02410825243176416\n",
      "Epoch:\t 25 Val Loss:\t 0.02410921482152717\n",
      "Epoch:\t 26 Val Loss:\t 0.024110503395109676\n",
      "Epoch:\t 27 Val Loss:\t 0.02410879175416952\n",
      "Epoch:\t 28 Val Loss:\t 0.0241101264390488\n",
      "Epoch:\t 29 Val Loss:\t 0.024104656422034253\n",
      "Epoch:\t 30 Val Loss:\t 0.024108902967080126\n",
      "Epoch:\t 31 Val Loss:\t 0.024110247857522134\n",
      "Epoch:\t 32 Val Loss:\t 0.024113223251215246\n",
      "Epoch:\t 33 Val Loss:\t 0.02411217778747858\n",
      "Epoch:\t 34 Val Loss:\t 0.024113211494892144\n",
      "Epoch:\t 35 Val Loss:\t 0.024106791658803473\n",
      "Epoch:\t 36 Val Loss:\t 0.02410864175925421\n",
      "Epoch:\t 37 Val Loss:\t 0.02411133828031462\n",
      "Epoch:\t 38 Val Loss:\t 0.024110480644848456\n"
     ]
    },
    {
     "name": "stderr",
     "output_type": "stream",
     "text": [
      "[I 2025-09-18 16:54:00,990] Trial 42 finished with value: 0.024104656422034253 and parameters: {'lr': 0.001, 'weight_decay': 1e-05, 'scheduler_factor': 0.3, 'scheduler_patience': 1, 'batch_size': 256, 'dropout': 0.1, 'hidden_dims': 256}. Best is trial 36 with value: 0.02410216764655224.\n"
     ]
    },
    {
     "name": "stdout",
     "output_type": "stream",
     "text": [
      "Epoch:\t 39 Val Loss:\t 0.024111698416256627\n"
     ]
    },
    {
     "name": "stderr",
     "output_type": "stream",
     "text": [
      "[I 2025-09-18 16:54:04,559] Trial 43 pruned. \n"
     ]
    },
    {
     "name": "stdout",
     "output_type": "stream",
     "text": [
      "Epoch:\t 0 Val Loss:\t 0.024584368174505787\n"
     ]
    },
    {
     "name": "stderr",
     "output_type": "stream",
     "text": [
      "[I 2025-09-18 16:54:08,253] Trial 44 pruned. \n"
     ]
    },
    {
     "name": "stdout",
     "output_type": "stream",
     "text": [
      "Epoch:\t 0 Val Loss:\t 0.02457420453429222\n",
      "Epoch:\t 0 Val Loss:\t 0.02448780723782473\n",
      "Epoch:\t 1 Val Loss:\t 0.024273110003492165\n",
      "Epoch:\t 2 Val Loss:\t 0.024204860909213855\n",
      "Epoch:\t 3 Val Loss:\t 0.02417969965310984\n",
      "Epoch:\t 4 Val Loss:\t 0.02416367162625457\n",
      "Epoch:\t 5 Val Loss:\t 0.024146121094912983\n",
      "Epoch:\t 6 Val Loss:\t 0.024182959632991358\n",
      "Epoch:\t 7 Val Loss:\t 0.024151888905569564\n",
      "Epoch:\t 8 Val Loss:\t 0.024117617833233157\n",
      "Epoch:\t 9 Val Loss:\t 0.02412333462473958\n",
      "Epoch:\t 10 Val Loss:\t 0.024118227771548338\n",
      "Epoch:\t 11 Val Loss:\t 0.024110426667124728\n",
      "Epoch:\t 12 Val Loss:\t 0.024105410875622617\n",
      "Epoch:\t 13 Val Loss:\t 0.024112471665234066\n",
      "Epoch:\t 14 Val Loss:\t 0.02410405444544415\n",
      "Epoch:\t 15 Val Loss:\t 0.024104495346546174\n",
      "Epoch:\t 16 Val Loss:\t 0.024107473321952098\n",
      "Epoch:\t 17 Val Loss:\t 0.02410063857082711\n",
      "Epoch:\t 18 Val Loss:\t 0.024103441518233265\n",
      "Epoch:\t 19 Val Loss:\t 0.024103288296176945\n",
      "Epoch:\t 20 Val Loss:\t 0.024107164582021015\n",
      "Epoch:\t 21 Val Loss:\t 0.024106780045427555\n",
      "Epoch:\t 22 Val Loss:\t 0.02410460275619529\n",
      "Epoch:\t 23 Val Loss:\t 0.024102548600802586\n",
      "Epoch:\t 24 Val Loss:\t 0.02410787136922049\n",
      "Epoch:\t 25 Val Loss:\t 0.024107102170413317\n",
      "Epoch:\t 26 Val Loss:\t 0.02410863008523403\n"
     ]
    },
    {
     "name": "stderr",
     "output_type": "stream",
     "text": [
      "[I 2025-09-18 16:55:48,678] Trial 45 finished with value: 0.02410063857082711 and parameters: {'lr': 0.001, 'weight_decay': 1e-05, 'scheduler_factor': 0.3, 'scheduler_patience': 1, 'batch_size': 256, 'dropout': 0.05, 'hidden_dims': 256}. Best is trial 45 with value: 0.02410063857082711.\n"
     ]
    },
    {
     "name": "stdout",
     "output_type": "stream",
     "text": [
      "Epoch:\t 27 Val Loss:\t 0.02410440916238829\n"
     ]
    },
    {
     "name": "stderr",
     "output_type": "stream",
     "text": [
      "[I 2025-09-18 16:55:55,758] Trial 46 pruned. \n"
     ]
    },
    {
     "name": "stdout",
     "output_type": "stream",
     "text": [
      "Epoch:\t 0 Val Loss:\t 0.02461188097143339\n"
     ]
    },
    {
     "name": "stderr",
     "output_type": "stream",
     "text": [
      "[I 2025-09-18 16:55:59,474] Trial 47 pruned. \n"
     ]
    },
    {
     "name": "stdout",
     "output_type": "stream",
     "text": [
      "Epoch:\t 0 Val Loss:\t 0.08146854153899259\n"
     ]
    },
    {
     "name": "stderr",
     "output_type": "stream",
     "text": [
      "[I 2025-09-18 16:56:04,729] Trial 48 pruned. \n"
     ]
    },
    {
     "name": "stdout",
     "output_type": "stream",
     "text": [
      "Epoch:\t 0 Val Loss:\t 0.0313182450575661\n"
     ]
    },
    {
     "name": "stderr",
     "output_type": "stream",
     "text": [
      "[I 2025-09-18 16:56:08,434] Trial 49 pruned. \n"
     ]
    },
    {
     "name": "stdout",
     "output_type": "stream",
     "text": [
      "Epoch:\t 0 Val Loss:\t 0.02624274984348652\n",
      "Training model with best parameters on train+validation ...\n"
     ]
    },
    {
     "name": "stderr",
     "output_type": "stream",
     "text": [
      "100%|█████████████████████████████████████████████████████████████████████████████████████████████████████████████████████████████████████| 557340/557340 [05:41<00:00, 1629.95it/s]\n",
      "100%|█████████████████████████████████████████████████████████████████████████████████████████████████████████████████████████████████████| 557340/557340 [01:42<00:00, 5442.24it/s]\n"
     ]
    },
    {
     "name": "stdout",
     "output_type": "stream",
     "text": [
      "Getting test set predictions and saving results ...\n"
     ]
    },
    {
     "name": "stderr",
     "output_type": "stream",
     "text": [
      "100%|████████████████████████████████████████████████████████████████████████████████████████████████████████████████████████████████████████████| 410/410 [00:01<00:00, 206.18it/s]\n"
     ]
    }
   ],
   "source": [
    "train_different_featno(\n",
    "        adata_path=\"./data/feature_number/sciplex_hvg_2000.h5ad\",\n",
    "        run_name=\"decoder_hvg_2000\",\n",
    "        res_savename=\"./results/feature_number/decoder_hvg_2000_res.pkl\",\n",
    "        output_dim=2000\n",
    "    )"
   ]
  },
  {
   "cell_type": "code",
   "execution_count": 3,
   "id": "ba65de8b-494a-4501-b9ff-76b32f67be68",
   "metadata": {},
   "outputs": [
    {
     "name": "stdout",
     "output_type": "stream",
     "text": [
      "Loading Datasets ...\n"
     ]
    },
    {
     "name": "stderr",
     "output_type": "stream",
     "text": [
      "100%|███████████████████████████████████████████████████████████████████████████████████████████████████████████████████████████████████████████████████████████████████| 557340/557340 [04:12<00:00, 2206.78it/s]\n",
      "100%|███████████████████████████████████████████████████████████████████████████████████████████████████████████████████████████████████████████████████████████████████| 557340/557340 [01:41<00:00, 5474.61it/s]\n",
      "[I 2025-09-22 17:08:42,916] Using an existing study with name 'decoder_hvg_3500' instead of creating a new one.\n"
     ]
    },
    {
     "name": "stdout",
     "output_type": "stream",
     "text": [
      "Optimizing Hyperparameters with Optuna ...\n",
      "Epoch:\t 0 Val Loss:\t 0.022854921736906363\n",
      "Epoch:\t 1 Val Loss:\t 0.022383952387935606\n",
      "Epoch:\t 2 Val Loss:\t 0.0221120925999646\n",
      "Epoch:\t 3 Val Loss:\t 0.021931425780728157\n",
      "Epoch:\t 4 Val Loss:\t 0.0218052016976557\n",
      "Epoch:\t 5 Val Loss:\t 0.021755102116752953\n",
      "Epoch:\t 6 Val Loss:\t 0.021731414744069394\n",
      "Epoch:\t 7 Val Loss:\t 0.0217233051138363\n",
      "Epoch:\t 8 Val Loss:\t 0.02172020851627416\n",
      "Epoch:\t 9 Val Loss:\t 0.021706257314106112\n",
      "Epoch:\t 10 Val Loss:\t 0.02171734152053652\n",
      "Epoch:\t 11 Val Loss:\t 0.021721958752464257\n",
      "Epoch:\t 12 Val Loss:\t 0.02170892870372558\n",
      "Epoch:\t 13 Val Loss:\t 0.02171146815093542\n",
      "Epoch:\t 14 Val Loss:\t 0.021711968453044263\n",
      "Epoch:\t 15 Val Loss:\t 0.021702411515098788\n",
      "Epoch:\t 16 Val Loss:\t 0.021702014890056725\n",
      "Epoch:\t 17 Val Loss:\t 0.021702197741163602\n",
      "Epoch:\t 18 Val Loss:\t 0.021705143729865862\n",
      "Epoch:\t 19 Val Loss:\t 0.02171435302585035\n",
      "Epoch:\t 20 Val Loss:\t 0.021709343781440724\n",
      "Epoch:\t 21 Val Loss:\t 0.02170540944435831\n",
      "Epoch:\t 22 Val Loss:\t 0.021712919387175067\n",
      "Epoch:\t 23 Val Loss:\t 0.021704133524863754\n",
      "Epoch:\t 24 Val Loss:\t 0.02170438162125193\n",
      "Epoch:\t 25 Val Loss:\t 0.021712246851198855\n"
     ]
    },
    {
     "name": "stderr",
     "output_type": "stream",
     "text": [
      "[I 2025-09-22 17:13:12,603] Trial 14 finished with value: 0.021702014890056725 and parameters: {'lr': 0.0001, 'weight_decay': 1e-05, 'scheduler_factor': 0.8, 'scheduler_patience': 20, 'batch_size': 32, 'dropout': 0.1, 'hidden_dims': 64}. Best is trial 6 with value: 0.021682064599075984.\n"
     ]
    },
    {
     "name": "stdout",
     "output_type": "stream",
     "text": [
      "Epoch:\t 26 Val Loss:\t 0.02170785226752669\n",
      "Epoch:\t 0 Val Loss:\t 0.02261788925038163\n",
      "Epoch:\t 1 Val Loss:\t 0.02221765591683503\n",
      "Epoch:\t 2 Val Loss:\t 0.021976793721886875\n",
      "Epoch:\t 3 Val Loss:\t 0.02187421292853577\n",
      "Epoch:\t 4 Val Loss:\t 0.021781863681474743\n",
      "Epoch:\t 5 Val Loss:\t 0.021738611725475195\n",
      "Epoch:\t 6 Val Loss:\t 0.021737165678264406\n",
      "Epoch:\t 7 Val Loss:\t 0.0217190665961527\n",
      "Epoch:\t 8 Val Loss:\t 0.0217115734390335\n",
      "Epoch:\t 9 Val Loss:\t 0.02170237520946383\n",
      "Epoch:\t 10 Val Loss:\t 0.02171124349679588\n",
      "Epoch:\t 11 Val Loss:\t 0.021706247174689677\n",
      "Epoch:\t 12 Val Loss:\t 0.02170592487924281\n",
      "Epoch:\t 13 Val Loss:\t 0.0217095004576807\n",
      "Epoch:\t 14 Val Loss:\t 0.021709083157601793\n",
      "Epoch:\t 15 Val Loss:\t 0.021705731613863122\n",
      "Epoch:\t 16 Val Loss:\t 0.021704259705018995\n",
      "Epoch:\t 17 Val Loss:\t 0.021709077705067567\n",
      "Epoch:\t 18 Val Loss:\t 0.02170489652399071\n"
     ]
    },
    {
     "name": "stderr",
     "output_type": "stream",
     "text": [
      "[I 2025-09-22 17:16:29,926] Trial 15 finished with value: 0.02170237520946383 and parameters: {'lr': 0.0001, 'weight_decay': 1e-05, 'scheduler_factor': 0.8, 'scheduler_patience': 20, 'batch_size': 32, 'dropout': 0.2, 'hidden_dims': 64}. Best is trial 6 with value: 0.021682064599075984.\n"
     ]
    },
    {
     "name": "stdout",
     "output_type": "stream",
     "text": [
      "Epoch:\t 19 Val Loss:\t 0.02170953845056082\n",
      "Epoch:\t 0 Val Loss:\t 0.022850450425875253\n",
      "Epoch:\t 1 Val Loss:\t 0.022401167282232504\n",
      "Epoch:\t 2 Val Loss:\t 0.022180338469358272\n",
      "Epoch:\t 3 Val Loss:\t 0.021919812936577958\n",
      "Epoch:\t 4 Val Loss:\t 0.021787867927031933\n",
      "Epoch:\t 5 Val Loss:\t 0.021758110304614414\n",
      "Epoch:\t 6 Val Loss:\t 0.02173703588768018\n",
      "Epoch:\t 7 Val Loss:\t 0.0217208013925496\n",
      "Epoch:\t 8 Val Loss:\t 0.02171809699178797\n",
      "Epoch:\t 9 Val Loss:\t 0.021718690018329035\n",
      "Epoch:\t 10 Val Loss:\t 0.02171169330154611\n",
      "Epoch:\t 11 Val Loss:\t 0.02170037507396829\n",
      "Epoch:\t 12 Val Loss:\t 0.021717690875687815\n",
      "Epoch:\t 13 Val Loss:\t 0.021708276907919332\n",
      "Epoch:\t 14 Val Loss:\t 0.02170848926000656\n",
      "Epoch:\t 15 Val Loss:\t 0.0217045281032123\n",
      "Epoch:\t 16 Val Loss:\t 0.021706887214102424\n",
      "Epoch:\t 17 Val Loss:\t 0.02171467985385987\n",
      "Epoch:\t 18 Val Loss:\t 0.021696731883565475\n",
      "Epoch:\t 19 Val Loss:\t 0.021707130093895032\n",
      "Epoch:\t 20 Val Loss:\t 0.02170462297109181\n",
      "Epoch:\t 21 Val Loss:\t 0.02170153354195682\n",
      "Epoch:\t 22 Val Loss:\t 0.021708229098045248\n",
      "Epoch:\t 23 Val Loss:\t 0.021709140371509627\n",
      "Epoch:\t 24 Val Loss:\t 0.021724039127642654\n",
      "Epoch:\t 25 Val Loss:\t 0.021704000724913058\n",
      "Epoch:\t 26 Val Loss:\t 0.021699459393613053\n",
      "Epoch:\t 27 Val Loss:\t 0.021705269091127487\n"
     ]
    },
    {
     "name": "stderr",
     "output_type": "stream",
     "text": [
      "[I 2025-09-22 17:21:20,582] Trial 16 finished with value: 0.021696731883565475 and parameters: {'lr': 0.0001, 'weight_decay': 1e-05, 'scheduler_factor': 0.8, 'scheduler_patience': 20, 'batch_size': 32, 'dropout': 0.1, 'hidden_dims': 64}. Best is trial 6 with value: 0.021682064599075984.\n"
     ]
    },
    {
     "name": "stdout",
     "output_type": "stream",
     "text": [
      "Epoch:\t 28 Val Loss:\t 0.021697827819161856\n"
     ]
    },
    {
     "name": "stderr",
     "output_type": "stream",
     "text": [
      "[I 2025-09-22 17:21:24,614] Trial 17 pruned. \n"
     ]
    },
    {
     "name": "stdout",
     "output_type": "stream",
     "text": [
      "Epoch:\t 0 Val Loss:\t 0.02668055724352598\n"
     ]
    },
    {
     "name": "stderr",
     "output_type": "stream",
     "text": [
      "[I 2025-09-22 17:21:34,358] Trial 18 pruned. \n"
     ]
    },
    {
     "name": "stdout",
     "output_type": "stream",
     "text": [
      "Epoch:\t 0 Val Loss:\t 0.06075345176081289\n",
      "Epoch:\t 0 Val Loss:\t 0.021898173159545096\n",
      "Epoch:\t 1 Val Loss:\t 0.021844745320130143\n",
      "Epoch:\t 2 Val Loss:\t 0.021845187471603335\n",
      "Epoch:\t 3 Val Loss:\t 0.021837936921582465\n",
      "Epoch:\t 4 Val Loss:\t 0.021858032770374885\n",
      "Epoch:\t 5 Val Loss:\t 0.021854764758920037\n",
      "Epoch:\t 6 Val Loss:\t 0.021846074370415455\n",
      "Epoch:\t 7 Val Loss:\t 0.021861028644833032\n",
      "Epoch:\t 8 Val Loss:\t 0.021852857707034812\n",
      "Epoch:\t 9 Val Loss:\t 0.021847886137947553\n",
      "Epoch:\t 10 Val Loss:\t 0.02186825932114365\n",
      "Epoch:\t 11 Val Loss:\t 0.021865968817593104\n",
      "Epoch:\t 12 Val Loss:\t 0.021855909832457575\n"
     ]
    },
    {
     "name": "stderr",
     "output_type": "stream",
     "text": [
      "[I 2025-09-22 17:23:51,002] Trial 19 finished with value: 0.021837936921582465 and parameters: {'lr': 0.001, 'weight_decay': 1e-05, 'scheduler_factor': 0.8, 'scheduler_patience': 20, 'batch_size': 32, 'dropout': 0.2, 'hidden_dims': 64}. Best is trial 6 with value: 0.021682064599075984.\n"
     ]
    },
    {
     "name": "stdout",
     "output_type": "stream",
     "text": [
      "Epoch:\t 13 Val Loss:\t 0.02185390500791773\n"
     ]
    },
    {
     "name": "stderr",
     "output_type": "stream",
     "text": [
      "[I 2025-09-22 17:23:55,122] Trial 20 pruned. \n"
     ]
    },
    {
     "name": "stdout",
     "output_type": "stream",
     "text": [
      "Epoch:\t 0 Val Loss:\t 0.026240038226336936\n",
      "Epoch:\t 0 Val Loss:\t 0.024364899492590703\n"
     ]
    },
    {
     "name": "stderr",
     "output_type": "stream",
     "text": [
      "[I 2025-09-22 17:24:07,533] Trial 21 pruned. \n"
     ]
    },
    {
     "name": "stdout",
     "output_type": "stream",
     "text": [
      "Epoch:\t 1 Val Loss:\t 0.02321088330488321\n",
      "Epoch:\t 0 Val Loss:\t 0.022745377941136003\n",
      "Epoch:\t 1 Val Loss:\t 0.022333206843478833\n",
      "Epoch:\t 2 Val Loss:\t 0.022043974563107544\n",
      "Epoch:\t 3 Val Loss:\t 0.021895666554833975\n",
      "Epoch:\t 4 Val Loss:\t 0.0218097761803638\n",
      "Epoch:\t 5 Val Loss:\t 0.02175028176515542\n",
      "Epoch:\t 6 Val Loss:\t 0.021735803311440965\n",
      "Epoch:\t 7 Val Loss:\t 0.02172778602132765\n",
      "Epoch:\t 8 Val Loss:\t 0.021717335256946274\n",
      "Epoch:\t 9 Val Loss:\t 0.021708171374693695\n",
      "Epoch:\t 10 Val Loss:\t 0.021712800564630323\n",
      "Epoch:\t 11 Val Loss:\t 0.02171323726654217\n",
      "Epoch:\t 12 Val Loss:\t 0.021707211431381802\n",
      "Epoch:\t 13 Val Loss:\t 0.021716079793846665\n",
      "Epoch:\t 14 Val Loss:\t 0.021704833740525238\n",
      "Epoch:\t 15 Val Loss:\t 0.02170592087233959\n",
      "Epoch:\t 16 Val Loss:\t 0.021709960738863974\n",
      "Epoch:\t 17 Val Loss:\t 0.021705842572596796\n",
      "Epoch:\t 18 Val Loss:\t 0.02171645732083019\n",
      "Epoch:\t 19 Val Loss:\t 0.021716839451995772\n",
      "Epoch:\t 20 Val Loss:\t 0.02171651240669567\n",
      "Epoch:\t 21 Val Loss:\t 0.021718268933231945\n",
      "Epoch:\t 22 Val Loss:\t 0.021711802338987795\n",
      "Epoch:\t 23 Val Loss:\t 0.021710373223956525\n"
     ]
    },
    {
     "name": "stderr",
     "output_type": "stream",
     "text": [
      "[I 2025-09-22 17:28:16,659] Trial 22 finished with value: 0.021704833740525238 and parameters: {'lr': 0.0001, 'weight_decay': 1e-05, 'scheduler_factor': 0.8, 'scheduler_patience': 20, 'batch_size': 32, 'dropout': 0.1, 'hidden_dims': 64}. Best is trial 6 with value: 0.021682064599075984.\n"
     ]
    },
    {
     "name": "stdout",
     "output_type": "stream",
     "text": [
      "Epoch:\t 24 Val Loss:\t 0.021716155777174548\n",
      "Epoch:\t 0 Val Loss:\t 0.022860622929395093\n",
      "Epoch:\t 1 Val Loss:\t 0.02223695433107802\n",
      "Epoch:\t 2 Val Loss:\t 0.022050684242543358\n",
      "Epoch:\t 3 Val Loss:\t 0.02187027960196267\n",
      "Epoch:\t 4 Val Loss:\t 0.021777073121929644\n",
      "Epoch:\t 5 Val Loss:\t 0.021752707470744606\n",
      "Epoch:\t 6 Val Loss:\t 0.021731179102701774\n",
      "Epoch:\t 7 Val Loss:\t 0.02171225622307144\n",
      "Epoch:\t 8 Val Loss:\t 0.02171318699620357\n",
      "Epoch:\t 9 Val Loss:\t 0.021713393235506702\n",
      "Epoch:\t 10 Val Loss:\t 0.021715820187003337\n",
      "Epoch:\t 11 Val Loss:\t 0.021709044974727542\n",
      "Epoch:\t 12 Val Loss:\t 0.021703734821507528\n",
      "Epoch:\t 13 Val Loss:\t 0.021709560273400035\n",
      "Epoch:\t 14 Val Loss:\t 0.02170316902115223\n",
      "Epoch:\t 15 Val Loss:\t 0.021721435563224766\n",
      "Epoch:\t 16 Val Loss:\t 0.021705889787083873\n",
      "Epoch:\t 17 Val Loss:\t 0.02171450723757188\n",
      "Epoch:\t 18 Val Loss:\t 0.021707528510773625\n",
      "Epoch:\t 19 Val Loss:\t 0.02170678585453161\n",
      "Epoch:\t 20 Val Loss:\t 0.021717474730204286\n",
      "Epoch:\t 21 Val Loss:\t 0.021711308900450664\n",
      "Epoch:\t 22 Val Loss:\t 0.02170383458545197\n",
      "Epoch:\t 23 Val Loss:\t 0.021705791955512154\n"
     ]
    },
    {
     "name": "stderr",
     "output_type": "stream",
     "text": [
      "[I 2025-09-22 17:32:24,863] Trial 23 finished with value: 0.02170316902115223 and parameters: {'lr': 0.0001, 'weight_decay': 1e-05, 'scheduler_factor': 0.8, 'scheduler_patience': 20, 'batch_size': 32, 'dropout': 0.1, 'hidden_dims': 64}. Best is trial 6 with value: 0.021682064599075984.\n"
     ]
    },
    {
     "name": "stdout",
     "output_type": "stream",
     "text": [
      "Epoch:\t 24 Val Loss:\t 0.021709254607979858\n",
      "Epoch:\t 0 Val Loss:\t 0.02279887097556354\n",
      "Epoch:\t 1 Val Loss:\t 0.022332259247082736\n",
      "Epoch:\t 2 Val Loss:\t 0.0221400263238735\n",
      "Epoch:\t 3 Val Loss:\t 0.021891401160683523\n",
      "Epoch:\t 4 Val Loss:\t 0.021812783364742752\n",
      "Epoch:\t 5 Val Loss:\t 0.021754788068078297\n",
      "Epoch:\t 6 Val Loss:\t 0.021717875691598852\n",
      "Epoch:\t 7 Val Loss:\t 0.021716553951357936\n",
      "Epoch:\t 8 Val Loss:\t 0.021713739756421248\n",
      "Epoch:\t 9 Val Loss:\t 0.021702830733767064\n",
      "Epoch:\t 10 Val Loss:\t 0.021710477725051892\n",
      "Epoch:\t 11 Val Loss:\t 0.0217171597591257\n",
      "Epoch:\t 12 Val Loss:\t 0.02170526449748564\n",
      "Epoch:\t 13 Val Loss:\t 0.021709208833988813\n",
      "Epoch:\t 14 Val Loss:\t 0.021710303913395436\n",
      "Epoch:\t 15 Val Loss:\t 0.0217003423228181\n",
      "Epoch:\t 16 Val Loss:\t 0.021708570107238208\n",
      "Epoch:\t 17 Val Loss:\t 0.021712756480587063\n",
      "Epoch:\t 18 Val Loss:\t 0.021704574378268945\n",
      "Epoch:\t 19 Val Loss:\t 0.02170712023744283\n",
      "Epoch:\t 20 Val Loss:\t 0.02170537790830571\n",
      "Epoch:\t 21 Val Loss:\t 0.021708792289832496\n",
      "Epoch:\t 22 Val Loss:\t 0.021712716428311116\n",
      "Epoch:\t 23 Val Loss:\t 0.02169866711052607\n",
      "Epoch:\t 24 Val Loss:\t 0.021711840663479292\n",
      "Epoch:\t 25 Val Loss:\t 0.02171170990860054\n",
      "Epoch:\t 26 Val Loss:\t 0.02171277582296238\n",
      "Epoch:\t 27 Val Loss:\t 0.021704739187230603\n",
      "Epoch:\t 28 Val Loss:\t 0.021708005764405444\n",
      "Epoch:\t 29 Val Loss:\t 0.021713192522789564\n",
      "Epoch:\t 30 Val Loss:\t 0.02171314305161546\n",
      "Epoch:\t 31 Val Loss:\t 0.02170531735693343\n",
      "Epoch:\t 32 Val Loss:\t 0.021712603982596362\n"
     ]
    },
    {
     "name": "stderr",
     "output_type": "stream",
     "text": [
      "[I 2025-09-22 17:38:04,697] Trial 24 finished with value: 0.02169866711052607 and parameters: {'lr': 0.0001, 'weight_decay': 1e-05, 'scheduler_factor': 0.8, 'scheduler_patience': 20, 'batch_size': 32, 'dropout': 0.1, 'hidden_dims': 64}. Best is trial 6 with value: 0.021682064599075984.\n"
     ]
    },
    {
     "name": "stdout",
     "output_type": "stream",
     "text": [
      "Epoch:\t 33 Val Loss:\t 0.02170866776070732\n",
      "Epoch:\t 0 Val Loss:\t 0.02262149291362741\n",
      "Epoch:\t 1 Val Loss:\t 0.022152175146057225\n",
      "Epoch:\t 2 Val Loss:\t 0.021984951847108018\n",
      "Epoch:\t 3 Val Loss:\t 0.021870997419512712\n",
      "Epoch:\t 4 Val Loss:\t 0.02178154323948412\n",
      "Epoch:\t 5 Val Loss:\t 0.02174788605431511\n",
      "Epoch:\t 6 Val Loss:\t 0.0217432581765001\n",
      "Epoch:\t 7 Val Loss:\t 0.021726207336593577\n",
      "Epoch:\t 8 Val Loss:\t 0.02171909498500525\n",
      "Epoch:\t 9 Val Loss:\t 0.021714315227288547\n",
      "Epoch:\t 10 Val Loss:\t 0.021715944337761823\n",
      "Epoch:\t 11 Val Loss:\t 0.021720428821358894\n",
      "Epoch:\t 12 Val Loss:\t 0.02170982192126138\n",
      "Epoch:\t 13 Val Loss:\t 0.021719763111928504\n",
      "Epoch:\t 14 Val Loss:\t 0.02170943205952385\n",
      "Epoch:\t 15 Val Loss:\t 0.021710772603508073\n",
      "Epoch:\t 16 Val Loss:\t 0.02170586329574026\n",
      "Epoch:\t 17 Val Loss:\t 0.021710444916606175\n",
      "Epoch:\t 18 Val Loss:\t 0.021703569411753623\n",
      "Epoch:\t 19 Val Loss:\t 0.021715310096007773\n",
      "Epoch:\t 20 Val Loss:\t 0.02170253067087648\n",
      "Epoch:\t 21 Val Loss:\t 0.02171334497537626\n",
      "Epoch:\t 22 Val Loss:\t 0.02170156273024413\n",
      "Epoch:\t 23 Val Loss:\t 0.021708333739676813\n",
      "Epoch:\t 24 Val Loss:\t 0.021708807999617354\n",
      "Epoch:\t 25 Val Loss:\t 0.02170519338049388\n",
      "Epoch:\t 26 Val Loss:\t 0.02170375475602671\n",
      "Epoch:\t 27 Val Loss:\t 0.021705871335762104\n",
      "Epoch:\t 28 Val Loss:\t 0.02170697222958366\n",
      "Epoch:\t 29 Val Loss:\t 0.02171775196434079\n",
      "Epoch:\t 30 Val Loss:\t 0.02172287576223788\n",
      "Epoch:\t 31 Val Loss:\t 0.021706708660160067\n"
     ]
    },
    {
     "name": "stderr",
     "output_type": "stream",
     "text": [
      "[I 2025-09-22 17:43:32,471] Trial 25 finished with value: 0.02170156273024413 and parameters: {'lr': 0.0001, 'weight_decay': 1e-05, 'scheduler_factor': 0.1, 'scheduler_patience': 20, 'batch_size': 32, 'dropout': 0.1, 'hidden_dims': 64}. Best is trial 6 with value: 0.021682064599075984.\n"
     ]
    },
    {
     "name": "stdout",
     "output_type": "stream",
     "text": [
      "Epoch:\t 32 Val Loss:\t 0.02171262891588001\n"
     ]
    },
    {
     "name": "stderr",
     "output_type": "stream",
     "text": [
      "[I 2025-09-22 17:43:36,971] Trial 26 pruned. \n"
     ]
    },
    {
     "name": "stdout",
     "output_type": "stream",
     "text": [
      "Epoch:\t 0 Val Loss:\t 0.023436585484498746\n",
      "Epoch:\t 0 Val Loss:\t 0.02270731856656629\n",
      "Epoch:\t 1 Val Loss:\t 0.022318497503739456\n",
      "Epoch:\t 2 Val Loss:\t 0.021826907676146475\n",
      "Epoch:\t 3 Val Loss:\t 0.021806959630271724\n",
      "Epoch:\t 4 Val Loss:\t 0.021800473232775234\n",
      "Epoch:\t 5 Val Loss:\t 0.021807055326915063\n"
     ]
    },
    {
     "name": "stderr",
     "output_type": "stream",
     "text": [
      "[I 2025-09-22 17:44:04,899] Trial 27 pruned. \n"
     ]
    },
    {
     "name": "stdout",
     "output_type": "stream",
     "text": [
      "Epoch:\t 6 Val Loss:\t 0.021805445520683777\n"
     ]
    },
    {
     "name": "stderr",
     "output_type": "stream",
     "text": [
      "[I 2025-09-22 17:44:14,714] Trial 28 pruned. \n"
     ]
    },
    {
     "name": "stdout",
     "output_type": "stream",
     "text": [
      "Epoch:\t 0 Val Loss:\t 0.03566410188366958\n"
     ]
    },
    {
     "name": "stderr",
     "output_type": "stream",
     "text": [
      "[I 2025-09-22 17:44:24,630] Trial 29 pruned. \n"
     ]
    },
    {
     "name": "stdout",
     "output_type": "stream",
     "text": [
      "Epoch:\t 0 Val Loss:\t 0.05975561260904639\n"
     ]
    },
    {
     "name": "stderr",
     "output_type": "stream",
     "text": [
      "[I 2025-09-22 17:44:28,705] Trial 30 pruned. \n"
     ]
    },
    {
     "name": "stdout",
     "output_type": "stream",
     "text": [
      "Epoch:\t 0 Val Loss:\t 0.037855298366657526\n"
     ]
    },
    {
     "name": "stderr",
     "output_type": "stream",
     "text": [
      "[I 2025-09-22 17:44:32,945] Trial 31 pruned. \n"
     ]
    },
    {
     "name": "stdout",
     "output_type": "stream",
     "text": [
      "Epoch:\t 0 Val Loss:\t 0.026462528417103514\n"
     ]
    },
    {
     "name": "stderr",
     "output_type": "stream",
     "text": [
      "[I 2025-09-22 17:44:42,958] Trial 32 pruned. \n"
     ]
    },
    {
     "name": "stdout",
     "output_type": "stream",
     "text": [
      "Epoch:\t 0 Val Loss:\t 0.022886071463606848\n",
      "Epoch:\t 0 Val Loss:\t 0.022612876022311313\n",
      "Epoch:\t 1 Val Loss:\t 0.022217356384198333\n",
      "Epoch:\t 2 Val Loss:\t 0.02203338913315744\n",
      "Epoch:\t 3 Val Loss:\t 0.02186902182082658\n",
      "Epoch:\t 4 Val Loss:\t 0.0217644734147588\n",
      "Epoch:\t 5 Val Loss:\t 0.021743790893553303\n",
      "Epoch:\t 6 Val Loss:\t 0.021732408438770837\n",
      "Epoch:\t 7 Val Loss:\t 0.021728523370706614\n",
      "Epoch:\t 8 Val Loss:\t 0.02172165882659647\n",
      "Epoch:\t 9 Val Loss:\t 0.021726550282753714\n",
      "Epoch:\t 10 Val Loss:\t 0.02171630457095538\n",
      "Epoch:\t 11 Val Loss:\t 0.021714553602896005\n",
      "Epoch:\t 12 Val Loss:\t 0.02170795425842935\n",
      "Epoch:\t 13 Val Loss:\t 0.021711473579146077\n",
      "Epoch:\t 14 Val Loss:\t 0.021715054013650134\n",
      "Epoch:\t 15 Val Loss:\t 0.02171041474186286\n",
      "Epoch:\t 16 Val Loss:\t 0.021710346139117737\n",
      "Epoch:\t 17 Val Loss:\t 0.021703901966342955\n",
      "Epoch:\t 18 Val Loss:\t 0.021712986285378266\n",
      "Epoch:\t 19 Val Loss:\t 0.021713877856208187\n",
      "Epoch:\t 20 Val Loss:\t 0.021701647440329392\n",
      "Epoch:\t 21 Val Loss:\t 0.021703294910235385\n",
      "Epoch:\t 22 Val Loss:\t 0.021713636470423472\n",
      "Epoch:\t 23 Val Loss:\t 0.021706256247112053\n",
      "Epoch:\t 24 Val Loss:\t 0.02170920344361483\n",
      "Epoch:\t 25 Val Loss:\t 0.0217263475400993\n",
      "Epoch:\t 26 Val Loss:\t 0.021706691748790714\n",
      "Epoch:\t 27 Val Loss:\t 0.021710256818364127\n",
      "Epoch:\t 28 Val Loss:\t 0.021709645059158636\n",
      "Epoch:\t 29 Val Loss:\t 0.021718098969564698\n"
     ]
    },
    {
     "name": "stderr",
     "output_type": "stream",
     "text": [
      "[I 2025-09-22 17:49:51,791] Trial 33 finished with value: 0.021701647440329392 and parameters: {'lr': 0.0001, 'weight_decay': 1e-05, 'scheduler_factor': 0.1, 'scheduler_patience': 20, 'batch_size': 32, 'dropout': 0.1, 'hidden_dims': 64}. Best is trial 6 with value: 0.021682064599075984.\n"
     ]
    },
    {
     "name": "stdout",
     "output_type": "stream",
     "text": [
      "Epoch:\t 30 Val Loss:\t 0.021703079813908628\n"
     ]
    },
    {
     "name": "stderr",
     "output_type": "stream",
     "text": [
      "[I 2025-09-22 17:50:01,272] Trial 34 pruned. \n"
     ]
    },
    {
     "name": "stdout",
     "output_type": "stream",
     "text": [
      "Epoch:\t 0 Val Loss:\t 0.0228790562398282\n"
     ]
    },
    {
     "name": "stderr",
     "output_type": "stream",
     "text": [
      "[I 2025-09-22 17:50:11,751] Trial 35 pruned. \n"
     ]
    },
    {
     "name": "stdout",
     "output_type": "stream",
     "text": [
      "Epoch:\t 0 Val Loss:\t 0.024337300659144905\n"
     ]
    },
    {
     "name": "stderr",
     "output_type": "stream",
     "text": [
      "[I 2025-09-22 17:50:17,785] Trial 36 pruned. \n"
     ]
    },
    {
     "name": "stdout",
     "output_type": "stream",
     "text": [
      "Epoch:\t 0 Val Loss:\t 0.07913481302286952\n"
     ]
    },
    {
     "name": "stderr",
     "output_type": "stream",
     "text": [
      "[I 2025-09-22 17:50:23,826] Trial 37 pruned. \n"
     ]
    },
    {
     "name": "stdout",
     "output_type": "stream",
     "text": [
      "Epoch:\t 0 Val Loss:\t 0.02598173832666784\n"
     ]
    },
    {
     "name": "stderr",
     "output_type": "stream",
     "text": [
      "[I 2025-09-22 17:50:28,277] Trial 38 pruned. \n"
     ]
    },
    {
     "name": "stdout",
     "output_type": "stream",
     "text": [
      "Epoch:\t 0 Val Loss:\t 0.023036618501761374\n"
     ]
    },
    {
     "name": "stderr",
     "output_type": "stream",
     "text": [
      "[I 2025-09-22 17:50:37,559] Trial 39 pruned. \n"
     ]
    },
    {
     "name": "stdout",
     "output_type": "stream",
     "text": [
      "Epoch:\t 0 Val Loss:\t 0.023875010750368367\n",
      "Epoch:\t 0 Val Loss:\t 0.021869008387058613\n",
      "Epoch:\t 1 Val Loss:\t 0.021779393150739887\n",
      "Epoch:\t 2 Val Loss:\t 0.021782070806366984\n",
      "Epoch:\t 3 Val Loss:\t 0.021761554574501216\n",
      "Epoch:\t 4 Val Loss:\t 0.021813753051944072\n",
      "Epoch:\t 5 Val Loss:\t 0.02174898750359082\n",
      "Epoch:\t 6 Val Loss:\t 0.021753818882056672\n",
      "Epoch:\t 7 Val Loss:\t 0.021786520003447742\n",
      "Epoch:\t 8 Val Loss:\t 0.021745500895203492\n",
      "Epoch:\t 9 Val Loss:\t 0.02176595562546105\n",
      "Epoch:\t 10 Val Loss:\t 0.021778299615498327\n",
      "Epoch:\t 11 Val Loss:\t 0.021780328627178023\n"
     ]
    },
    {
     "name": "stderr",
     "output_type": "stream",
     "text": [
      "[I 2025-09-22 17:55:07,942] Trial 40 pruned. \n"
     ]
    },
    {
     "name": "stdout",
     "output_type": "stream",
     "text": [
      "Epoch:\t 12 Val Loss:\t 0.021759163922145604\n"
     ]
    },
    {
     "name": "stderr",
     "output_type": "stream",
     "text": [
      "[I 2025-09-22 17:55:18,155] Trial 41 pruned. \n"
     ]
    },
    {
     "name": "stdout",
     "output_type": "stream",
     "text": [
      "Epoch:\t 0 Val Loss:\t 0.03501600657605409\n",
      "Epoch:\t 0 Val Loss:\t 0.022765759077329605\n",
      "Epoch:\t 1 Val Loss:\t 0.0222163566710342\n",
      "Epoch:\t 2 Val Loss:\t 0.021968553228940528\n",
      "Epoch:\t 3 Val Loss:\t 0.021858560638929252\n",
      "Epoch:\t 4 Val Loss:\t 0.021766233545778297\n",
      "Epoch:\t 5 Val Loss:\t 0.02175135940077671\n",
      "Epoch:\t 6 Val Loss:\t 0.02172723670911154\n",
      "Epoch:\t 7 Val Loss:\t 0.021714898675476924\n",
      "Epoch:\t 8 Val Loss:\t 0.02171215318057965\n",
      "Epoch:\t 9 Val Loss:\t 0.02171907855281028\n",
      "Epoch:\t 10 Val Loss:\t 0.021702053235088125\n",
      "Epoch:\t 11 Val Loss:\t 0.021714825727190395\n",
      "Epoch:\t 12 Val Loss:\t 0.02171197921379285\n",
      "Epoch:\t 13 Val Loss:\t 0.021707286964183066\n",
      "Epoch:\t 14 Val Loss:\t 0.02170774446707381\n",
      "Epoch:\t 15 Val Loss:\t 0.021708891729732897\n",
      "Epoch:\t 16 Val Loss:\t 0.021719142499212793\n",
      "Epoch:\t 17 Val Loss:\t 0.021708006753023548\n",
      "Epoch:\t 18 Val Loss:\t 0.02171152915823956\n",
      "Epoch:\t 19 Val Loss:\t 0.02170851693509738\n"
     ]
    },
    {
     "name": "stderr",
     "output_type": "stream",
     "text": [
      "[I 2025-09-22 17:58:45,606] Trial 42 finished with value: 0.021702053235088125 and parameters: {'lr': 0.0001, 'weight_decay': 1e-05, 'scheduler_factor': 0.1, 'scheduler_patience': 20, 'batch_size': 32, 'dropout': 0.1, 'hidden_dims': 64}. Best is trial 6 with value: 0.021682064599075984.\n"
     ]
    },
    {
     "name": "stdout",
     "output_type": "stream",
     "text": [
      "Epoch:\t 20 Val Loss:\t 0.021720751535711735\n"
     ]
    },
    {
     "name": "stderr",
     "output_type": "stream",
     "text": [
      "[I 2025-09-22 17:58:55,277] Trial 43 pruned. \n"
     ]
    },
    {
     "name": "stdout",
     "output_type": "stream",
     "text": [
      "Epoch:\t 0 Val Loss:\t 0.022870032160553177\n",
      "Epoch:\t 0 Val Loss:\t 0.02284206673302928\n",
      "Epoch:\t 1 Val Loss:\t 0.022253151460065877\n",
      "Epoch:\t 2 Val Loss:\t 0.02204572252125992\n",
      "Epoch:\t 3 Val Loss:\t 0.02188798039584046\n",
      "Epoch:\t 4 Val Loss:\t 0.021797736559130223\n",
      "Epoch:\t 5 Val Loss:\t 0.021745265585284418\n",
      "Epoch:\t 6 Val Loss:\t 0.02172822592530272\n",
      "Epoch:\t 7 Val Loss:\t 0.02172485991687586\n",
      "Epoch:\t 8 Val Loss:\t 0.021720956168037493\n",
      "Epoch:\t 9 Val Loss:\t 0.02171331144965541\n",
      "Epoch:\t 10 Val Loss:\t 0.02171003406146326\n",
      "Epoch:\t 11 Val Loss:\t 0.021715590938681428\n",
      "Epoch:\t 12 Val Loss:\t 0.021708226511098154\n",
      "Epoch:\t 13 Val Loss:\t 0.021719622722212322\n",
      "Epoch:\t 14 Val Loss:\t 0.02171043613822877\n",
      "Epoch:\t 15 Val Loss:\t 0.021724979375346898\n",
      "Epoch:\t 16 Val Loss:\t 0.02171006636857312\n",
      "Epoch:\t 17 Val Loss:\t 0.021684881232168635\n",
      "Epoch:\t 18 Val Loss:\t 0.021688370566784868\n",
      "Epoch:\t 19 Val Loss:\t 0.021688169937038138\n",
      "Epoch:\t 20 Val Loss:\t 0.02169240385378282\n",
      "Epoch:\t 21 Val Loss:\t 0.021692587998903775\n",
      "Epoch:\t 22 Val Loss:\t 0.021690094356494834\n",
      "Epoch:\t 23 Val Loss:\t 0.02169334377230805\n",
      "Epoch:\t 24 Val Loss:\t 0.021691172648312062\n",
      "Epoch:\t 25 Val Loss:\t 0.0216928514886001\n",
      "Epoch:\t 26 Val Loss:\t 0.021691366716910174\n"
     ]
    },
    {
     "name": "stderr",
     "output_type": "stream",
     "text": [
      "[I 2025-09-22 18:03:27,021] Trial 44 finished with value: 0.021684881232168635 and parameters: {'lr': 0.0001, 'weight_decay': 1e-05, 'scheduler_factor': 0.1, 'scheduler_patience': 5, 'batch_size': 32, 'dropout': 0.1, 'hidden_dims': 64}. Best is trial 6 with value: 0.021682064599075984.\n"
     ]
    },
    {
     "name": "stdout",
     "output_type": "stream",
     "text": [
      "Epoch:\t 27 Val Loss:\t 0.02169275382432051\n"
     ]
    },
    {
     "name": "stderr",
     "output_type": "stream",
     "text": [
      "[I 2025-09-22 18:03:30,775] Trial 45 pruned. \n"
     ]
    },
    {
     "name": "stdout",
     "output_type": "stream",
     "text": [
      "Epoch:\t 0 Val Loss:\t 0.03141134525107783\n",
      "Epoch:\t 0 Val Loss:\t 0.02201291320989264\n",
      "Epoch:\t 1 Val Loss:\t 0.02176073134903273\n",
      "Epoch:\t 2 Val Loss:\t 0.021766479140892407\n",
      "Epoch:\t 3 Val Loss:\t 0.02177487971429787\n",
      "Epoch:\t 4 Val Loss:\t 0.021747961996833442\n",
      "Epoch:\t 5 Val Loss:\t 0.02178094830543443\n",
      "Epoch:\t 6 Val Loss:\t 0.02173541213352789\n",
      "Epoch:\t 7 Val Loss:\t 0.02176039197654596\n",
      "Epoch:\t 8 Val Loss:\t 0.02176623980207147\n",
      "Epoch:\t 9 Val Loss:\t 0.021767778639658394\n",
      "Epoch:\t 10 Val Loss:\t 0.021784960486057516\n"
     ]
    },
    {
     "name": "stderr",
     "output_type": "stream",
     "text": [
      "[I 2025-09-22 18:05:27,392] Trial 46 pruned. \n"
     ]
    },
    {
     "name": "stdout",
     "output_type": "stream",
     "text": [
      "Epoch:\t 11 Val Loss:\t 0.02175835850181029\n",
      "Epoch:\t 0 Val Loss:\t 0.022378909218654815\n",
      "Epoch:\t 1 Val Loss:\t 0.02203703834367874\n",
      "Epoch:\t 2 Val Loss:\t 0.021798270220285826\n",
      "Epoch:\t 3 Val Loss:\t 0.02175264952894277\n",
      "Epoch:\t 4 Val Loss:\t 0.021746587382361182\n",
      "Epoch:\t 5 Val Loss:\t 0.021748335620078444\n",
      "Epoch:\t 6 Val Loss:\t 0.02172949758123071\n",
      "Epoch:\t 7 Val Loss:\t 0.021728269546823033\n",
      "Epoch:\t 8 Val Loss:\t 0.021729091729552102\n",
      "Epoch:\t 9 Val Loss:\t 0.021743540395654917\n",
      "Epoch:\t 10 Val Loss:\t 0.021738461527638878\n",
      "Epoch:\t 11 Val Loss:\t 0.021726380330539488\n"
     ]
    },
    {
     "name": "stderr",
     "output_type": "stream",
     "text": [
      "[I 2025-09-22 18:09:55,838] Trial 47 pruned. \n"
     ]
    },
    {
     "name": "stdout",
     "output_type": "stream",
     "text": [
      "Epoch:\t 12 Val Loss:\t 0.021731926521036952\n"
     ]
    },
    {
     "name": "stderr",
     "output_type": "stream",
     "text": [
      "[I 2025-09-22 18:10:00,380] Trial 48 pruned. \n"
     ]
    },
    {
     "name": "stdout",
     "output_type": "stream",
     "text": [
      "Epoch:\t 0 Val Loss:\t 0.022864065657647783\n"
     ]
    },
    {
     "name": "stderr",
     "output_type": "stream",
     "text": [
      "[I 2025-09-22 18:10:10,181] Trial 49 pruned. \n"
     ]
    },
    {
     "name": "stdout",
     "output_type": "stream",
     "text": [
      "Epoch:\t 0 Val Loss:\t 0.03198207464302635\n"
     ]
    },
    {
     "name": "stderr",
     "output_type": "stream",
     "text": [
      "[I 2025-09-22 18:10:14,148] Trial 50 pruned. \n"
     ]
    },
    {
     "name": "stdout",
     "output_type": "stream",
     "text": [
      "Epoch:\t 0 Val Loss:\t 0.025347201582477535\n"
     ]
    },
    {
     "name": "stderr",
     "output_type": "stream",
     "text": [
      "[I 2025-09-22 18:10:20,046] Trial 51 pruned. \n"
     ]
    },
    {
     "name": "stdout",
     "output_type": "stream",
     "text": [
      "Epoch:\t 0 Val Loss:\t 0.023379021083684212\n",
      "Epoch:\t 0 Val Loss:\t 0.022549557120139802\n",
      "Epoch:\t 1 Val Loss:\t 0.022186500913540828\n",
      "Epoch:\t 2 Val Loss:\t 0.021981739248805834\n",
      "Epoch:\t 3 Val Loss:\t 0.021825486486015525\n",
      "Epoch:\t 4 Val Loss:\t 0.021790009348161922\n",
      "Epoch:\t 5 Val Loss:\t 0.021737496761277585\n",
      "Epoch:\t 6 Val Loss:\t 0.021724569382880032\n",
      "Epoch:\t 7 Val Loss:\t 0.02172642189293702\n",
      "Epoch:\t 8 Val Loss:\t 0.021716916618260078\n",
      "Epoch:\t 9 Val Loss:\t 0.021707847719829372\n",
      "Epoch:\t 10 Val Loss:\t 0.021732194253767274\n",
      "Epoch:\t 11 Val Loss:\t 0.021711075563336173\n",
      "Epoch:\t 12 Val Loss:\t 0.021704518375404772\n",
      "Epoch:\t 13 Val Loss:\t 0.021732448664554937\n",
      "Epoch:\t 14 Val Loss:\t 0.021704464261941676\n",
      "Epoch:\t 15 Val Loss:\t 0.021704879178580716\n",
      "Epoch:\t 16 Val Loss:\t 0.021709231274106254\n",
      "Epoch:\t 17 Val Loss:\t 0.0217106217284402\n",
      "Epoch:\t 18 Val Loss:\t 0.021706526711457737\n",
      "Epoch:\t 19 Val Loss:\t 0.02170169174058219\n",
      "Epoch:\t 20 Val Loss:\t 0.021700761520135683\n",
      "Epoch:\t 21 Val Loss:\t 0.021718308294718425\n",
      "Epoch:\t 22 Val Loss:\t 0.021707524761970538\n",
      "Epoch:\t 23 Val Loss:\t 0.021714917754887392\n",
      "Epoch:\t 24 Val Loss:\t 0.021711409468424318\n",
      "Epoch:\t 25 Val Loss:\t 0.021713356178273347\n",
      "Epoch:\t 26 Val Loss:\t 0.0217060297776232\n",
      "Epoch:\t 27 Val Loss:\t 0.021716793898268194\n",
      "Epoch:\t 28 Val Loss:\t 0.021703316226063238\n",
      "Epoch:\t 29 Val Loss:\t 0.021708810092525656\n"
     ]
    },
    {
     "name": "stderr",
     "output_type": "stream",
     "text": [
      "[I 2025-09-22 18:15:25,730] Trial 52 finished with value: 0.021700761520135683 and parameters: {'lr': 0.0001, 'weight_decay': 1e-05, 'scheduler_factor': 0.1, 'scheduler_patience': 20, 'batch_size': 32, 'dropout': 0.1, 'hidden_dims': 64}. Best is trial 6 with value: 0.021682064599075984.\n"
     ]
    },
    {
     "name": "stdout",
     "output_type": "stream",
     "text": [
      "Epoch:\t 30 Val Loss:\t 0.021705479655432118\n",
      "Epoch:\t 0 Val Loss:\t 0.022842645151373075\n",
      "Epoch:\t 1 Val Loss:\t 0.0223078613401376\n",
      "Epoch:\t 2 Val Loss:\t 0.022066825272453797\n",
      "Epoch:\t 3 Val Loss:\t 0.021884922112770124\n",
      "Epoch:\t 4 Val Loss:\t 0.021775559971927386\n"
     ]
    },
    {
     "name": "stderr",
     "output_type": "stream",
     "text": [
      "[I 2025-09-22 18:16:23,985] Trial 53 pruned. \n"
     ]
    },
    {
     "name": "stdout",
     "output_type": "stream",
     "text": [
      "Epoch:\t 5 Val Loss:\t 0.02176351162420669\n",
      "Epoch:\t 0 Val Loss:\t 0.022744470372151753\n",
      "Epoch:\t 1 Val Loss:\t 0.022238527106264963\n",
      "Epoch:\t 2 Val Loss:\t 0.02199458410569915\n",
      "Epoch:\t 3 Val Loss:\t 0.021887436624534226\n",
      "Epoch:\t 4 Val Loss:\t 0.021779632255017705\n",
      "Epoch:\t 5 Val Loss:\t 0.021759130197425293\n",
      "Epoch:\t 6 Val Loss:\t 0.021741403054631923\n",
      "Epoch:\t 7 Val Loss:\t 0.021723303894684784\n",
      "Epoch:\t 8 Val Loss:\t 0.021709267659198214\n",
      "Epoch:\t 9 Val Loss:\t 0.02172551731575222\n",
      "Epoch:\t 10 Val Loss:\t 0.021714976999813552\n",
      "Epoch:\t 11 Val Loss:\t 0.021717273242916484\n",
      "Epoch:\t 12 Val Loss:\t 0.0217086797173649\n",
      "Epoch:\t 13 Val Loss:\t 0.021706072533329127\n",
      "Epoch:\t 14 Val Loss:\t 0.02171086578981792\n",
      "Epoch:\t 15 Val Loss:\t 0.021717179281765718\n",
      "Epoch:\t 16 Val Loss:\t 0.021714352042637483\n",
      "Epoch:\t 17 Val Loss:\t 0.0217054617154459\n",
      "Epoch:\t 18 Val Loss:\t 0.02169895074581614\n",
      "Epoch:\t 19 Val Loss:\t 0.02171380280312183\n",
      "Epoch:\t 20 Val Loss:\t 0.021725122400927582\n",
      "Epoch:\t 21 Val Loss:\t 0.021708548842489857\n",
      "Epoch:\t 22 Val Loss:\t 0.02170984930663142\n",
      "Epoch:\t 23 Val Loss:\t 0.021701653848509767\n",
      "Epoch:\t 24 Val Loss:\t 0.021711738233130752\n",
      "Epoch:\t 25 Val Loss:\t 0.021701552833252636\n",
      "Epoch:\t 26 Val Loss:\t 0.021710819388819223\n",
      "Epoch:\t 27 Val Loss:\t 0.021718976753253058\n",
      "Epoch:\t 28 Val Loss:\t 0.02169841817551516\n",
      "Epoch:\t 29 Val Loss:\t 0.021707789864860265\n",
      "Epoch:\t 30 Val Loss:\t 0.021705495417377523\n",
      "Epoch:\t 31 Val Loss:\t 0.021708866077822807\n",
      "Epoch:\t 32 Val Loss:\t 0.021702282360711124\n",
      "Epoch:\t 33 Val Loss:\t 0.02170682605950554\n",
      "Epoch:\t 34 Val Loss:\t 0.021700393320161264\n",
      "Epoch:\t 35 Val Loss:\t 0.02170851307494638\n",
      "Epoch:\t 36 Val Loss:\t 0.021704043437106815\n",
      "Epoch:\t 37 Val Loss:\t 0.021713257938876393\n"
     ]
    },
    {
     "name": "stderr",
     "output_type": "stream",
     "text": [
      "[I 2025-09-22 18:22:38,324] Trial 54 finished with value: 0.02169841817551516 and parameters: {'lr': 0.0001, 'weight_decay': 1e-05, 'scheduler_factor': 0.1, 'scheduler_patience': 20, 'batch_size': 32, 'dropout': 0.1, 'hidden_dims': 64}. Best is trial 6 with value: 0.021682064599075984.\n"
     ]
    },
    {
     "name": "stdout",
     "output_type": "stream",
     "text": [
      "Epoch:\t 38 Val Loss:\t 0.02172368989437948\n",
      "Epoch:\t 0 Val Loss:\t 0.02266652255713101\n",
      "Epoch:\t 1 Val Loss:\t 0.02217909983708996\n",
      "Epoch:\t 2 Val Loss:\t 0.021995922528397566\n",
      "Epoch:\t 3 Val Loss:\t 0.021845815114912622\n",
      "Epoch:\t 4 Val Loss:\t 0.021761021178725998\n",
      "Epoch:\t 5 Val Loss:\t 0.021752941178117928\n",
      "Epoch:\t 6 Val Loss:\t 0.021732302084219227\n",
      "Epoch:\t 7 Val Loss:\t 0.021716673769817854\n",
      "Epoch:\t 8 Val Loss:\t 0.021714580082618354\n",
      "Epoch:\t 9 Val Loss:\t 0.02171513409604055\n",
      "Epoch:\t 10 Val Loss:\t 0.021715996021570264\n",
      "Epoch:\t 11 Val Loss:\t 0.021705201098904038\n",
      "Epoch:\t 12 Val Loss:\t 0.02169864241480265\n",
      "Epoch:\t 13 Val Loss:\t 0.02170674879081197\n",
      "Epoch:\t 14 Val Loss:\t 0.02170391249169341\n",
      "Epoch:\t 15 Val Loss:\t 0.021707303981224828\n",
      "Epoch:\t 16 Val Loss:\t 0.021705128930593412\n",
      "Epoch:\t 17 Val Loss:\t 0.021704363641537213\n",
      "Epoch:\t 18 Val Loss:\t 0.021703455916882098\n",
      "Epoch:\t 19 Val Loss:\t 0.021710920435967257\n",
      "Epoch:\t 20 Val Loss:\t 0.021705185980452263\n",
      "Epoch:\t 21 Val Loss:\t 0.021709061662860546\n"
     ]
    },
    {
     "name": "stderr",
     "output_type": "stream",
     "text": [
      "[I 2025-09-22 18:26:17,053] Trial 55 finished with value: 0.02169864241480265 and parameters: {'lr': 0.0001, 'weight_decay': 1e-05, 'scheduler_factor': 0.1, 'scheduler_patience': 20, 'batch_size': 32, 'dropout': 0.1, 'hidden_dims': 64}. Best is trial 6 with value: 0.021682064599075984.\n"
     ]
    },
    {
     "name": "stdout",
     "output_type": "stream",
     "text": [
      "Epoch:\t 22 Val Loss:\t 0.02170473046128401\n"
     ]
    },
    {
     "name": "stderr",
     "output_type": "stream",
     "text": [
      "[I 2025-09-22 18:26:26,490] Trial 56 pruned. \n"
     ]
    },
    {
     "name": "stdout",
     "output_type": "stream",
     "text": [
      "Epoch:\t 0 Val Loss:\t 0.02283014334901493\n",
      "Epoch:\t 0 Val Loss:\t 0.021981237186481112\n",
      "Epoch:\t 1 Val Loss:\t 0.021768476330262763\n",
      "Epoch:\t 2 Val Loss:\t 0.02173459425961001\n",
      "Epoch:\t 3 Val Loss:\t 0.021769662620094336\n",
      "Epoch:\t 4 Val Loss:\t 0.021757585051654905\n",
      "Epoch:\t 5 Val Loss:\t 0.021764555873292013\n",
      "Epoch:\t 6 Val Loss:\t 0.021767560493425875\n"
     ]
    },
    {
     "name": "stderr",
     "output_type": "stream",
     "text": [
      "[I 2025-09-22 18:27:45,166] Trial 57 pruned. \n"
     ]
    },
    {
     "name": "stdout",
     "output_type": "stream",
     "text": [
      "Epoch:\t 7 Val Loss:\t 0.021754090665573135\n",
      "Epoch:\t 0 Val Loss:\t 0.022487456499978988\n",
      "Epoch:\t 1 Val Loss:\t 0.02194611007750605\n",
      "Epoch:\t 2 Val Loss:\t 0.021753174804197535\n",
      "Epoch:\t 3 Val Loss:\t 0.021736583906746983\n",
      "Epoch:\t 4 Val Loss:\t 0.02173102963159133\n",
      "Epoch:\t 5 Val Loss:\t 0.02172466729446461\n",
      "Epoch:\t 6 Val Loss:\t 0.02174360629946132\n",
      "Epoch:\t 7 Val Loss:\t 0.021724808502990422\n"
     ]
    },
    {
     "name": "stderr",
     "output_type": "stream",
     "text": [
      "[I 2025-09-22 18:30:52,043] Trial 58 pruned. \n"
     ]
    },
    {
     "name": "stdout",
     "output_type": "stream",
     "text": [
      "Epoch:\t 8 Val Loss:\t 0.02172375802611658\n",
      "Epoch:\t 0 Val Loss:\t 0.022764435535793\n",
      "Epoch:\t 1 Val Loss:\t 0.02226276190014198\n"
     ]
    },
    {
     "name": "stderr",
     "output_type": "stream",
     "text": [
      "[I 2025-09-22 18:31:21,975] Trial 59 pruned. \n"
     ]
    },
    {
     "name": "stdout",
     "output_type": "stream",
     "text": [
      "Epoch:\t 2 Val Loss:\t 0.02205809159096259\n"
     ]
    },
    {
     "name": "stderr",
     "output_type": "stream",
     "text": [
      "[I 2025-09-22 18:31:25,978] Trial 60 pruned. \n"
     ]
    },
    {
     "name": "stdout",
     "output_type": "stream",
     "text": [
      "Epoch:\t 0 Val Loss:\t 0.11109949359020521\n",
      "Epoch:\t 0 Val Loss:\t 0.021954230857970873\n",
      "Epoch:\t 1 Val Loss:\t 0.02185304169594437\n",
      "Epoch:\t 2 Val Loss:\t 0.021853773128749393\n",
      "Epoch:\t 3 Val Loss:\t 0.021838998256085814\n"
     ]
    },
    {
     "name": "stderr",
     "output_type": "stream",
     "text": [
      "[I 2025-09-22 18:32:18,785] Trial 61 pruned. \n"
     ]
    },
    {
     "name": "stdout",
     "output_type": "stream",
     "text": [
      "Epoch:\t 4 Val Loss:\t 0.021841779614739806\n",
      "Epoch:\t 0 Val Loss:\t 0.02273009342205772\n"
     ]
    },
    {
     "name": "stderr",
     "output_type": "stream",
     "text": [
      "[I 2025-09-22 18:32:37,779] Trial 62 pruned. \n"
     ]
    },
    {
     "name": "stdout",
     "output_type": "stream",
     "text": [
      "Epoch:\t 1 Val Loss:\t 0.022361440385421018\n",
      "Epoch:\t 0 Val Loss:\t 0.022522555709855972\n",
      "Epoch:\t 1 Val Loss:\t 0.022143878597275367\n",
      "Epoch:\t 2 Val Loss:\t 0.0220409025315431\n",
      "Epoch:\t 3 Val Loss:\t 0.021869296343154983\n",
      "Epoch:\t 4 Val Loss:\t 0.021782938830956635\n",
      "Epoch:\t 5 Val Loss:\t 0.02174827417718745\n",
      "Epoch:\t 6 Val Loss:\t 0.021735862746090993\n",
      "Epoch:\t 7 Val Loss:\t 0.021723746678030342\n"
     ]
    },
    {
     "name": "stderr",
     "output_type": "stream",
     "text": [
      "[I 2025-09-22 18:34:03,516] Trial 63 pruned. \n"
     ]
    },
    {
     "name": "stdout",
     "output_type": "stream",
     "text": [
      "Epoch:\t 8 Val Loss:\t 0.021725492088693867\n",
      "Training model with best parameters on train+validation ...\n"
     ]
    },
    {
     "name": "stderr",
     "output_type": "stream",
     "text": [
      "100%|███████████████████████████████████████████████████████████████████████████████████████████████████████████████████████████████████████████████████████████████████| 557340/557340 [05:33<00:00, 1670.96it/s]\n",
      "100%|███████████████████████████████████████████████████████████████████████████████████████████████████████████████████████████████████████████████████████████████████| 557340/557340 [01:39<00:00, 5597.69it/s]\n"
     ]
    },
    {
     "name": "stdout",
     "output_type": "stream",
     "text": [
      "Getting test set predictions and saving results ...\n"
     ]
    },
    {
     "name": "stderr",
     "output_type": "stream",
     "text": [
      "100%|██████████████████████████████████████████████████████████████████████████████████████████████████████████████████████████████████████████████████████████████████████████| 410/410 [00:02<00:00, 191.82it/s]\n"
     ]
    }
   ],
   "source": [
    "train_different_featno(\n",
    "        adata_path=\"./data/feature_number/sciplex_hvg_3500.h5ad\",\n",
    "        run_name=\"decoder_hvg_3500\",\n",
    "        res_savename=\"./results/feature_number/decoder_hvg_3500_res.pkl\",\n",
    "        output_dim=3500\n",
    "    )"
   ]
  },
  {
   "cell_type": "code",
   "execution_count": 4,
   "id": "03760627-5300-4ed1-b786-5393cbf99d74",
   "metadata": {},
   "outputs": [
    {
     "name": "stdout",
     "output_type": "stream",
     "text": [
      "Loading Datasets ...\n"
     ]
    },
    {
     "name": "stderr",
     "output_type": "stream",
     "text": [
      "100%|███████████████████████████████████████████████████████████████████████████████████████████████████████████████████████████████████████████████████████████████████| 557340/557340 [04:21<00:00, 2133.73it/s]\n",
      "100%|███████████████████████████████████████████████████████████████████████████████████████████████████████████████████████████████████████████████████████████████████| 557340/557340 [01:43<00:00, 5399.78it/s]\n",
      "[I 2025-09-22 18:50:58,230] A new study created in RDB with name: decoder_hvg_5000\n"
     ]
    },
    {
     "name": "stdout",
     "output_type": "stream",
     "text": [
      "Optimizing Hyperparameters with Optuna ...\n",
      "Epoch:\t 0 Val Loss:\t 0.02301283490432556\n",
      "Epoch:\t 1 Val Loss:\t 0.02431783391552609\n",
      "Epoch:\t 2 Val Loss:\t 0.024620005609684213\n",
      "Epoch:\t 3 Val Loss:\t 0.024679496845360412\n",
      "Epoch:\t 4 Val Loss:\t 0.024443696001761182\n",
      "Epoch:\t 5 Val Loss:\t 0.024315777044136858\n",
      "Epoch:\t 6 Val Loss:\t 0.024331750785715357\n",
      "Epoch:\t 7 Val Loss:\t 0.024104626437779084\n",
      "Epoch:\t 8 Val Loss:\t 0.024132764417418212\n",
      "Epoch:\t 9 Val Loss:\t 0.024088021805293337\n"
     ]
    },
    {
     "name": "stderr",
     "output_type": "stream",
     "text": [
      "[I 2025-09-22 18:51:47,895] Trial 0 finished with value: 0.02301283490432556 and parameters: {'lr': 0.001, 'weight_decay': 0.001, 'scheduler_factor': 0.1, 'scheduler_patience': 5, 'batch_size': 256, 'dropout': 0.05, 'hidden_dims': 128}. Best is trial 0 with value: 0.02301283490432556.\n"
     ]
    },
    {
     "name": "stdout",
     "output_type": "stream",
     "text": [
      "Epoch:\t 10 Val Loss:\t 0.024116726076706896\n",
      "Epoch:\t 0 Val Loss:\t 0.02486275971147707\n",
      "Epoch:\t 1 Val Loss:\t 0.02484936007037456\n",
      "Epoch:\t 2 Val Loss:\t 0.024910055814409283\n",
      "Epoch:\t 3 Val Loss:\t 0.02484114837870045\n",
      "Epoch:\t 4 Val Loss:\t 0.024909579216703143\n",
      "Epoch:\t 5 Val Loss:\t 0.024727729746982136\n",
      "Epoch:\t 6 Val Loss:\t 0.02482546776267189\n",
      "Epoch:\t 7 Val Loss:\t 0.024812995546426596\n",
      "Epoch:\t 8 Val Loss:\t 0.024812187280590217\n",
      "Epoch:\t 9 Val Loss:\t 0.024802350570478554\n",
      "Epoch:\t 10 Val Loss:\t 0.02482396630906498\n",
      "Epoch:\t 11 Val Loss:\t 0.024853548344745756\n",
      "Epoch:\t 12 Val Loss:\t 0.024865627027745345\n",
      "Epoch:\t 13 Val Loss:\t 0.024756846009487167\n",
      "Epoch:\t 14 Val Loss:\t 0.02478904861230371\n"
     ]
    },
    {
     "name": "stderr",
     "output_type": "stream",
     "text": [
      "[I 2025-09-22 18:54:35,050] Trial 1 finished with value: 0.024727729746982136 and parameters: {'lr': 0.001, 'weight_decay': 0.001, 'scheduler_factor': 0.3, 'scheduler_patience': 10, 'batch_size': 32, 'dropout': 0.05, 'hidden_dims': 128}. Best is trial 0 with value: 0.02301283490432556.\n"
     ]
    },
    {
     "name": "stdout",
     "output_type": "stream",
     "text": [
      "Epoch:\t 15 Val Loss:\t 0.024844206029087632\n",
      "Epoch:\t 0 Val Loss:\t 0.09920418298868246\n",
      "Epoch:\t 1 Val Loss:\t 0.08737726743484653\n",
      "Epoch:\t 2 Val Loss:\t 0.07806520581591961\n",
      "Epoch:\t 3 Val Loss:\t 0.0708834383896617\n",
      "Epoch:\t 4 Val Loss:\t 0.06582257674877033\n",
      "Epoch:\t 5 Val Loss:\t 0.06133653533666633\n",
      "Epoch:\t 6 Val Loss:\t 0.05790278923719428\n",
      "Epoch:\t 7 Val Loss:\t 0.05464128279235474\n",
      "Epoch:\t 8 Val Loss:\t 0.05264444092158661\n",
      "Epoch:\t 9 Val Loss:\t 0.05089714955105338\n",
      "Epoch:\t 10 Val Loss:\t 0.04963825948882935\n",
      "Epoch:\t 11 Val Loss:\t 0.04801171121382436\n",
      "Epoch:\t 12 Val Loss:\t 0.04716441982187504\n",
      "Epoch:\t 13 Val Loss:\t 0.046365229984702064\n",
      "Epoch:\t 14 Val Loss:\t 0.04515925190996292\n",
      "Epoch:\t 15 Val Loss:\t 0.04407166182821573\n",
      "Epoch:\t 16 Val Loss:\t 0.043254049148323925\n",
      "Epoch:\t 17 Val Loss:\t 0.04266281276941299\n",
      "Epoch:\t 18 Val Loss:\t 0.041608545253443166\n",
      "Epoch:\t 19 Val Loss:\t 0.04070947268154732\n",
      "Epoch:\t 20 Val Loss:\t 0.04004191404511762\n",
      "Epoch:\t 21 Val Loss:\t 0.0389410799239264\n",
      "Epoch:\t 22 Val Loss:\t 0.038303165900152786\n",
      "Epoch:\t 23 Val Loss:\t 0.037716980304482374\n",
      "Epoch:\t 24 Val Loss:\t 0.037218828525307564\n",
      "Epoch:\t 25 Val Loss:\t 0.03641090680693471\n",
      "Epoch:\t 26 Val Loss:\t 0.03599175232094388\n",
      "Epoch:\t 27 Val Loss:\t 0.03508601826290752\n",
      "Epoch:\t 28 Val Loss:\t 0.03440541581705559\n",
      "Epoch:\t 29 Val Loss:\t 0.033991798923112625\n",
      "Epoch:\t 30 Val Loss:\t 0.03333676787483138\n",
      "Epoch:\t 31 Val Loss:\t 0.03298895976744419\n",
      "Epoch:\t 32 Val Loss:\t 0.03214797221210807\n",
      "Epoch:\t 33 Val Loss:\t 0.03193507586974044\n",
      "Epoch:\t 34 Val Loss:\t 0.031579967588186264\n",
      "Epoch:\t 35 Val Loss:\t 0.031092480487774972\n",
      "Epoch:\t 36 Val Loss:\t 0.030837461365343526\n",
      "Epoch:\t 37 Val Loss:\t 0.030760509221879548\n",
      "Epoch:\t 38 Val Loss:\t 0.030916179941837176\n",
      "Epoch:\t 39 Val Loss:\t 0.03133406780313614\n",
      "Epoch:\t 40 Val Loss:\t 0.031820350686131524\n",
      "Epoch:\t 41 Val Loss:\t 0.032067235268998975\n",
      "Epoch:\t 42 Val Loss:\t 0.032397486382099085\n",
      "Epoch:\t 43 Val Loss:\t 0.03244298212663379\n",
      "Epoch:\t 44 Val Loss:\t 0.0324539128561006\n",
      "Epoch:\t 45 Val Loss:\t 0.03229628759761189\n",
      "Epoch:\t 46 Val Loss:\t 0.032314895608917225\n"
     ]
    },
    {
     "name": "stderr",
     "output_type": "stream",
     "text": [
      "[I 2025-09-22 18:58:13,214] Trial 2 finished with value: 0.030760509221879548 and parameters: {'lr': 1e-06, 'weight_decay': 0.001, 'scheduler_factor': 0.3, 'scheduler_patience': 10, 'batch_size': 256, 'dropout': 0.2, 'hidden_dims': 128}. Best is trial 0 with value: 0.02301283490432556.\n"
     ]
    },
    {
     "name": "stdout",
     "output_type": "stream",
     "text": [
      "Epoch:\t 47 Val Loss:\t 0.03231863867664753\n",
      "Epoch:\t 0 Val Loss:\t 0.023729606880738822\n",
      "Epoch:\t 1 Val Loss:\t 0.023203812369582737\n",
      "Epoch:\t 2 Val Loss:\t 0.02287190987442599\n",
      "Epoch:\t 3 Val Loss:\t 0.02267583300026044\n",
      "Epoch:\t 4 Val Loss:\t 0.02249632954778008\n",
      "Epoch:\t 5 Val Loss:\t 0.022304977741939985\n",
      "Epoch:\t 6 Val Loss:\t 0.0222195611898563\n",
      "Epoch:\t 7 Val Loss:\t 0.022107771843200463\n",
      "Epoch:\t 8 Val Loss:\t 0.022021219526751058\n",
      "Epoch:\t 9 Val Loss:\t 0.022033039934487793\n",
      "Epoch:\t 10 Val Loss:\t 0.021956046321604982\n",
      "Epoch:\t 11 Val Loss:\t 0.02193312937835933\n",
      "Epoch:\t 12 Val Loss:\t 0.021922409336892882\n",
      "Epoch:\t 13 Val Loss:\t 0.02187490571848075\n",
      "Epoch:\t 14 Val Loss:\t 0.02185008843449386\n",
      "Epoch:\t 15 Val Loss:\t 0.021804512503275295\n",
      "Epoch:\t 16 Val Loss:\t 0.021860313303152436\n",
      "Epoch:\t 17 Val Loss:\t 0.021780782632715677\n",
      "Epoch:\t 18 Val Loss:\t 0.02174664932658255\n",
      "Epoch:\t 19 Val Loss:\t 0.021629804271277097\n",
      "Epoch:\t 20 Val Loss:\t 0.02161209700084267\n",
      "Epoch:\t 21 Val Loss:\t 0.02153354058003251\n",
      "Epoch:\t 22 Val Loss:\t 0.021550757271841435\n",
      "Epoch:\t 23 Val Loss:\t 0.021511622650783404\n",
      "Epoch:\t 24 Val Loss:\t 0.021462960532221572\n",
      "Epoch:\t 25 Val Loss:\t 0.0214110022322645\n",
      "Epoch:\t 26 Val Loss:\t 0.021392246470173137\n",
      "Epoch:\t 27 Val Loss:\t 0.021350300750569227\n",
      "Epoch:\t 28 Val Loss:\t 0.021275800418755167\n",
      "Epoch:\t 29 Val Loss:\t 0.02130406667022721\n",
      "Epoch:\t 30 Val Loss:\t 0.021290375765962218\n",
      "Epoch:\t 31 Val Loss:\t 0.021267727641167158\n",
      "Epoch:\t 32 Val Loss:\t 0.02126070874290745\n",
      "Epoch:\t 33 Val Loss:\t 0.0212039833626798\n",
      "Epoch:\t 34 Val Loss:\t 0.021222090240496573\n",
      "Epoch:\t 35 Val Loss:\t 0.021184608094865543\n",
      "Epoch:\t 36 Val Loss:\t 0.021190026364474625\n",
      "Epoch:\t 37 Val Loss:\t 0.02115018278153887\n",
      "Epoch:\t 38 Val Loss:\t 0.02114743596992552\n",
      "Epoch:\t 39 Val Loss:\t 0.021130497705999996\n",
      "Epoch:\t 40 Val Loss:\t 0.02112117310087572\n",
      "Epoch:\t 41 Val Loss:\t 0.021114921098649587\n",
      "Epoch:\t 42 Val Loss:\t 0.021111729700773418\n",
      "Epoch:\t 43 Val Loss:\t 0.021107921486550718\n",
      "Epoch:\t 44 Val Loss:\t 0.021098886660580726\n",
      "Epoch:\t 45 Val Loss:\t 0.02108619848533263\n",
      "Epoch:\t 46 Val Loss:\t 0.021087956125618274\n",
      "Epoch:\t 47 Val Loss:\t 0.021093933018236852\n",
      "Epoch:\t 48 Val Loss:\t 0.02105992081052409\n",
      "Epoch:\t 49 Val Loss:\t 0.021071708641159315\n",
      "Epoch:\t 50 Val Loss:\t 0.021079876782827713\n",
      "Epoch:\t 51 Val Loss:\t 0.02105651918454912\n",
      "Epoch:\t 52 Val Loss:\t 0.021052889606968925\n",
      "Epoch:\t 53 Val Loss:\t 0.02106449483594902\n",
      "Epoch:\t 54 Val Loss:\t 0.02104208496757591\n",
      "Epoch:\t 55 Val Loss:\t 0.02103244719537136\n",
      "Epoch:\t 56 Val Loss:\t 0.02103054459605126\n",
      "Epoch:\t 57 Val Loss:\t 0.021001318435050067\n",
      "Epoch:\t 58 Val Loss:\t 0.021002897611931096\n",
      "Epoch:\t 59 Val Loss:\t 0.021008306535342476\n",
      "Epoch:\t 60 Val Loss:\t 0.020990761295036648\n",
      "Epoch:\t 61 Val Loss:\t 0.02098237897241861\n",
      "Epoch:\t 62 Val Loss:\t 0.020995177943702707\n",
      "Epoch:\t 63 Val Loss:\t 0.02098590497590182\n",
      "Epoch:\t 64 Val Loss:\t 0.020951968992860837\n",
      "Epoch:\t 65 Val Loss:\t 0.020965241647346537\n",
      "Epoch:\t 66 Val Loss:\t 0.02095548865816151\n",
      "Epoch:\t 67 Val Loss:\t 0.02095438453930447\n",
      "Epoch:\t 68 Val Loss:\t 0.02096204376940032\n",
      "Epoch:\t 69 Val Loss:\t 0.02092830893744131\n",
      "Epoch:\t 70 Val Loss:\t 0.020933173336056227\n",
      "Epoch:\t 71 Val Loss:\t 0.020943591121997136\n",
      "Epoch:\t 72 Val Loss:\t 0.02091345540882973\n",
      "Epoch:\t 73 Val Loss:\t 0.020908850983803573\n",
      "Epoch:\t 74 Val Loss:\t 0.020889477123783657\n",
      "Epoch:\t 75 Val Loss:\t 0.020917860993513327\n",
      "Epoch:\t 76 Val Loss:\t 0.020871459761309073\n",
      "Epoch:\t 77 Val Loss:\t 0.020886563406516682\n",
      "Epoch:\t 78 Val Loss:\t 0.020860027302396\n",
      "Epoch:\t 79 Val Loss:\t 0.020867646287519158\n",
      "Epoch:\t 80 Val Loss:\t 0.02084590503929731\n",
      "Epoch:\t 81 Val Loss:\t 0.020861234396719875\n",
      "Epoch:\t 82 Val Loss:\t 0.020863363137160598\n",
      "Epoch:\t 83 Val Loss:\t 0.02083029430408249\n",
      "Epoch:\t 84 Val Loss:\t 0.020795541406012922\n",
      "Epoch:\t 85 Val Loss:\t 0.0208186201237194\n",
      "Epoch:\t 86 Val Loss:\t 0.020797844535389562\n",
      "Epoch:\t 87 Val Loss:\t 0.02078629048699021\n",
      "Epoch:\t 88 Val Loss:\t 0.02076966454611699\n",
      "Epoch:\t 89 Val Loss:\t 0.020794398319711277\n",
      "Epoch:\t 90 Val Loss:\t 0.020781117257647523\n",
      "Epoch:\t 91 Val Loss:\t 0.020762567725400125\n",
      "Epoch:\t 92 Val Loss:\t 0.020738909720998306\n",
      "Epoch:\t 93 Val Loss:\t 0.020747327709000816\n",
      "Epoch:\t 94 Val Loss:\t 0.020732396818455297\n",
      "Epoch:\t 95 Val Loss:\t 0.020740686150973645\n",
      "Epoch:\t 96 Val Loss:\t 0.0207498216165367\n",
      "Epoch:\t 97 Val Loss:\t 0.02072727573912286\n",
      "Epoch:\t 98 Val Loss:\t 0.020718767253646343\n"
     ]
    },
    {
     "name": "stderr",
     "output_type": "stream",
     "text": [
      "[I 2025-09-22 19:17:26,993] Trial 3 finished with value: 0.020688158793464622 and parameters: {'lr': 1e-05, 'weight_decay': 1e-06, 'scheduler_factor': 0.3, 'scheduler_patience': 10, 'batch_size': 32, 'dropout': 0.15, 'hidden_dims': 1024}. Best is trial 3 with value: 0.020688158793464622.\n"
     ]
    },
    {
     "name": "stdout",
     "output_type": "stream",
     "text": [
      "Epoch:\t 99 Val Loss:\t 0.020688158793464622\n",
      "Epoch:\t 0 Val Loss:\t 0.037338012437856435\n",
      "Epoch:\t 1 Val Loss:\t 0.030001738892909264\n",
      "Epoch:\t 2 Val Loss:\t 0.027441093992359684\n",
      "Epoch:\t 3 Val Loss:\t 0.026541460560727755\n",
      "Epoch:\t 4 Val Loss:\t 0.02740656368815179\n",
      "Epoch:\t 5 Val Loss:\t 0.028103731505564142\n",
      "Epoch:\t 6 Val Loss:\t 0.028893987631963935\n",
      "Epoch:\t 7 Val Loss:\t 0.02976501995046449\n",
      "Epoch:\t 8 Val Loss:\t 0.030168897198658094\n",
      "Epoch:\t 9 Val Loss:\t 0.03034411764916781\n",
      "Epoch:\t 10 Val Loss:\t 0.030839348038816425\n",
      "Epoch:\t 11 Val Loss:\t 0.031103017870834342\n",
      "Epoch:\t 12 Val Loss:\t 0.03177901188670966\n"
     ]
    },
    {
     "name": "stderr",
     "output_type": "stream",
     "text": [
      "[I 2025-09-22 19:18:39,481] Trial 4 finished with value: 0.026541460560727755 and parameters: {'lr': 1e-05, 'weight_decay': 0.0001, 'scheduler_factor': 0.8, 'scheduler_patience': 1, 'batch_size': 128, 'dropout': 0.1, 'hidden_dims': 128}. Best is trial 3 with value: 0.020688158793464622.\n"
     ]
    },
    {
     "name": "stdout",
     "output_type": "stream",
     "text": [
      "Epoch:\t 13 Val Loss:\t 0.031794232230862814\n"
     ]
    },
    {
     "name": "stderr",
     "output_type": "stream",
     "text": [
      "[I 2025-09-22 19:18:50,257] Trial 5 pruned. \n"
     ]
    },
    {
     "name": "stdout",
     "output_type": "stream",
     "text": [
      "Epoch:\t 0 Val Loss:\t 0.026680031933487152\n"
     ]
    },
    {
     "name": "stderr",
     "output_type": "stream",
     "text": [
      "[I 2025-09-22 19:19:01,957] Trial 6 pruned. \n"
     ]
    },
    {
     "name": "stdout",
     "output_type": "stream",
     "text": [
      "Epoch:\t 0 Val Loss:\t 0.027569678167202273\n",
      "Epoch:\t 0 Val Loss:\t 0.023008382569657482\n",
      "Epoch:\t 1 Val Loss:\t 0.022601500921784732\n",
      "Epoch:\t 2 Val Loss:\t 0.022387831321886802\n",
      "Epoch:\t 3 Val Loss:\t 0.022138851782990424\n",
      "Epoch:\t 4 Val Loss:\t 0.021694645084290465\n",
      "Epoch:\t 5 Val Loss:\t 0.02135445756209998\n",
      "Epoch:\t 6 Val Loss:\t 0.02107656142695599\n",
      "Epoch:\t 7 Val Loss:\t 0.020945393355517615\n",
      "Epoch:\t 8 Val Loss:\t 0.020739416904065444\n",
      "Epoch:\t 9 Val Loss:\t 0.020570870686009532\n",
      "Epoch:\t 10 Val Loss:\t 0.020535530561377777\n",
      "Epoch:\t 11 Val Loss:\t 0.02045074943115295\n",
      "Epoch:\t 12 Val Loss:\t 0.020412163656806454\n",
      "Epoch:\t 13 Val Loss:\t 0.02036170801640975\n",
      "Epoch:\t 14 Val Loss:\t 0.020327383451148637\n",
      "Epoch:\t 15 Val Loss:\t 0.02030846855312534\n",
      "Epoch:\t 16 Val Loss:\t 0.020300149145576252\n",
      "Epoch:\t 17 Val Loss:\t 0.02027872188161882\n",
      "Epoch:\t 18 Val Loss:\t 0.020273615608696286\n",
      "Epoch:\t 19 Val Loss:\t 0.020254593522781198\n",
      "Epoch:\t 20 Val Loss:\t 0.02025096675568329\n",
      "Epoch:\t 21 Val Loss:\t 0.020257446994221637\n",
      "Epoch:\t 22 Val Loss:\t 0.020238341854410438\n",
      "Epoch:\t 23 Val Loss:\t 0.020280413979081573\n",
      "Epoch:\t 24 Val Loss:\t 0.02024582425656896\n",
      "Epoch:\t 25 Val Loss:\t 0.020248255499618485\n",
      "Epoch:\t 26 Val Loss:\t 0.020239250903878073\n",
      "Epoch:\t 27 Val Loss:\t 0.0202211588626544\n",
      "Epoch:\t 28 Val Loss:\t 0.020239385226183425\n",
      "Epoch:\t 29 Val Loss:\t 0.020224686586373036\n",
      "Epoch:\t 30 Val Loss:\t 0.020246045957820025\n",
      "Epoch:\t 31 Val Loss:\t 0.020226171367620543\n",
      "Epoch:\t 32 Val Loss:\t 0.0202313547444053\n",
      "Epoch:\t 33 Val Loss:\t 0.020229874306177214\n",
      "Epoch:\t 34 Val Loss:\t 0.020212959690835832\n",
      "Epoch:\t 35 Val Loss:\t 0.020263157119245163\n",
      "Epoch:\t 36 Val Loss:\t 0.02023375796022543\n",
      "Epoch:\t 37 Val Loss:\t 0.020222021899409415\n",
      "Epoch:\t 38 Val Loss:\t 0.020244522388939645\n",
      "Epoch:\t 39 Val Loss:\t 0.02023467025263582\n",
      "Epoch:\t 40 Val Loss:\t 0.020225651774068504\n",
      "Epoch:\t 41 Val Loss:\t 0.02024748378516921\n",
      "Epoch:\t 42 Val Loss:\t 0.020245194050862933\n",
      "Epoch:\t 43 Val Loss:\t 0.0202545510380963\n"
     ]
    },
    {
     "name": "stderr",
     "output_type": "stream",
     "text": [
      "[I 2025-09-22 19:34:53,538] Trial 7 finished with value: 0.020212959690835832 and parameters: {'lr': 1e-05, 'weight_decay': 0.0001, 'scheduler_factor': 0.8, 'scheduler_patience': 10, 'batch_size': 16, 'dropout': 0.2, 'hidden_dims': 128}. Best is trial 7 with value: 0.020212959690835832.\n"
     ]
    },
    {
     "name": "stdout",
     "output_type": "stream",
     "text": [
      "Epoch:\t 44 Val Loss:\t 0.020218729784494127\n",
      "Epoch:\t 0 Val Loss:\t 0.020292564491549096\n",
      "Epoch:\t 1 Val Loss:\t 0.020305731541998807\n",
      "Epoch:\t 2 Val Loss:\t 0.020272746149287868\n",
      "Epoch:\t 3 Val Loss:\t 0.020274931281868813\n",
      "Epoch:\t 4 Val Loss:\t 0.0202924906398172\n",
      "Epoch:\t 5 Val Loss:\t 0.020298084298176585\n",
      "Epoch:\t 6 Val Loss:\t 0.020320162981674\n",
      "Epoch:\t 7 Val Loss:\t 0.02029030493058099\n",
      "Epoch:\t 8 Val Loss:\t 0.020285298162307897\n",
      "Epoch:\t 9 Val Loss:\t 0.020285092831148682\n",
      "Epoch:\t 10 Val Loss:\t 0.0202796771868644\n",
      "Epoch:\t 11 Val Loss:\t 0.020253954885045684\n",
      "Epoch:\t 12 Val Loss:\t 0.020273957234381305\n",
      "Epoch:\t 13 Val Loss:\t 0.02028170448898011\n",
      "Epoch:\t 14 Val Loss:\t 0.020267188446762452\n",
      "Epoch:\t 15 Val Loss:\t 0.020286738774977678\n",
      "Epoch:\t 16 Val Loss:\t 0.02022271278470616\n",
      "Epoch:\t 17 Val Loss:\t 0.020267470546572616\n",
      "Epoch:\t 18 Val Loss:\t 0.02025751800131905\n",
      "Epoch:\t 19 Val Loss:\t 0.02026852152768204\n",
      "Epoch:\t 20 Val Loss:\t 0.020259267996159493\n",
      "Epoch:\t 21 Val Loss:\t 0.020280060488592856\n",
      "Epoch:\t 22 Val Loss:\t 0.02028243091072518\n",
      "Epoch:\t 23 Val Loss:\t 0.02023881802871233\n",
      "Epoch:\t 24 Val Loss:\t 0.02025986434228423\n",
      "Epoch:\t 25 Val Loss:\t 0.020263396871373344\n"
     ]
    },
    {
     "name": "stderr",
     "output_type": "stream",
     "text": [
      "[I 2025-09-22 19:44:28,449] Trial 8 finished with value: 0.02022271278470616 and parameters: {'lr': 0.0001, 'weight_decay': 0.0001, 'scheduler_factor': 0.8, 'scheduler_patience': 20, 'batch_size': 16, 'dropout': 0.05, 'hidden_dims': 256}. Best is trial 7 with value: 0.020212959690835832.\n"
     ]
    },
    {
     "name": "stdout",
     "output_type": "stream",
     "text": [
      "Epoch:\t 26 Val Loss:\t 0.02025942823012063\n",
      "Epoch:\t 0 Val Loss:\t 0.020456493038681967\n",
      "Epoch:\t 1 Val Loss:\t 0.020287694903798684\n",
      "Epoch:\t 2 Val Loss:\t 0.020278443758026225\n",
      "Epoch:\t 3 Val Loss:\t 0.02029313340143139\n",
      "Epoch:\t 4 Val Loss:\t 0.020280130387803304\n",
      "Epoch:\t 5 Val Loss:\t 0.020300495895560888\n",
      "Epoch:\t 6 Val Loss:\t 0.020287489109616932\n",
      "Epoch:\t 7 Val Loss:\t 0.020261248125566587\n",
      "Epoch:\t 8 Val Loss:\t 0.02027289734264696\n",
      "Epoch:\t 9 Val Loss:\t 0.0202847678347821\n",
      "Epoch:\t 10 Val Loss:\t 0.020257178755359238\n",
      "Epoch:\t 11 Val Loss:\t 0.020286102186525223\n",
      "Epoch:\t 12 Val Loss:\t 0.020271341068301515\n",
      "Epoch:\t 13 Val Loss:\t 0.020266871808828635\n",
      "Epoch:\t 14 Val Loss:\t 0.020265915567023993\n",
      "Epoch:\t 15 Val Loss:\t 0.020266392296617954\n",
      "Epoch:\t 16 Val Loss:\t 0.020253286880478307\n",
      "Epoch:\t 17 Val Loss:\t 0.020264112147342066\n",
      "Epoch:\t 18 Val Loss:\t 0.020327101696176682\n",
      "Epoch:\t 19 Val Loss:\t 0.020312713890472126\n",
      "Epoch:\t 20 Val Loss:\t 0.02025523513541473\n",
      "Epoch:\t 21 Val Loss:\t 0.02027188711305102\n",
      "Epoch:\t 22 Val Loss:\t 0.020279196185047414\n",
      "Epoch:\t 23 Val Loss:\t 0.020239025646268248\n",
      "Epoch:\t 24 Val Loss:\t 0.02024765758360593\n",
      "Epoch:\t 25 Val Loss:\t 0.02024844396011866\n",
      "Epoch:\t 26 Val Loss:\t 0.02024425303691039\n",
      "Epoch:\t 27 Val Loss:\t 0.020290171836723925\n",
      "Epoch:\t 28 Val Loss:\t 0.020232538568332695\n",
      "Epoch:\t 29 Val Loss:\t 0.020251769626278535\n",
      "Epoch:\t 30 Val Loss:\t 0.020251821551971392\n",
      "Epoch:\t 31 Val Loss:\t 0.020247738370028644\n",
      "Epoch:\t 32 Val Loss:\t 0.020248339642531137\n",
      "Epoch:\t 33 Val Loss:\t 0.020236099140207242\n",
      "Epoch:\t 34 Val Loss:\t 0.020243680280824076\n",
      "Epoch:\t 35 Val Loss:\t 0.020228437493429306\n",
      "Epoch:\t 36 Val Loss:\t 0.020224380353114337\n",
      "Epoch:\t 37 Val Loss:\t 0.020247352877075044\n",
      "Epoch:\t 38 Val Loss:\t 0.020250482890091175\n",
      "Epoch:\t 39 Val Loss:\t 0.020244149172552107\n",
      "Epoch:\t 40 Val Loss:\t 0.020233140219201876\n",
      "Epoch:\t 41 Val Loss:\t 0.020250448480613845\n",
      "Epoch:\t 42 Val Loss:\t 0.02024840381054842\n",
      "Epoch:\t 43 Val Loss:\t 0.020227081851262946\n",
      "Epoch:\t 44 Val Loss:\t 0.020223786492544988\n",
      "Epoch:\t 45 Val Loss:\t 0.020221190712481168\n",
      "Epoch:\t 46 Val Loss:\t 0.020219322058328416\n",
      "Epoch:\t 47 Val Loss:\t 0.020234989666650792\n",
      "Epoch:\t 48 Val Loss:\t 0.020231099625226723\n",
      "Epoch:\t 49 Val Loss:\t 0.020218002503695646\n",
      "Epoch:\t 50 Val Loss:\t 0.020209439153427898\n",
      "Epoch:\t 51 Val Loss:\t 0.020229079954659116\n",
      "Epoch:\t 52 Val Loss:\t 0.020216627915087684\n",
      "Epoch:\t 53 Val Loss:\t 0.02022831355969114\n",
      "Epoch:\t 54 Val Loss:\t 0.0202175250295301\n",
      "Epoch:\t 55 Val Loss:\t 0.02022735757274349\n",
      "Epoch:\t 56 Val Loss:\t 0.020238260990435724\n",
      "Epoch:\t 57 Val Loss:\t 0.020238972541152377\n",
      "Epoch:\t 58 Val Loss:\t 0.020229655282017336\n",
      "Epoch:\t 59 Val Loss:\t 0.020228847148068774\n"
     ]
    },
    {
     "name": "stderr",
     "output_type": "stream",
     "text": [
      "[I 2025-09-22 19:55:36,190] Trial 9 finished with value: 0.020209439153427898 and parameters: {'lr': 0.0001, 'weight_decay': 0.0001, 'scheduler_factor': 0.5, 'scheduler_patience': 5, 'batch_size': 32, 'dropout': 0.2, 'hidden_dims': 512}. Best is trial 9 with value: 0.020209439153427898.\n"
     ]
    },
    {
     "name": "stdout",
     "output_type": "stream",
     "text": [
      "Epoch:\t 60 Val Loss:\t 0.020226680559067792\n",
      "Epoch:\t 0 Val Loss:\t 0.020930836985814178\n",
      "Epoch:\t 1 Val Loss:\t 0.020616311965876724\n",
      "Epoch:\t 2 Val Loss:\t 0.020500538208010028\n",
      "Epoch:\t 3 Val Loss:\t 0.020277811788904653\n",
      "Epoch:\t 4 Val Loss:\t 0.020219626335953634\n",
      "Epoch:\t 5 Val Loss:\t 0.02020546289304627\n",
      "Epoch:\t 6 Val Loss:\t 0.020206955902589765\n",
      "Epoch:\t 7 Val Loss:\t 0.020205378531869145\n",
      "Epoch:\t 8 Val Loss:\t 0.020202795505735567\n",
      "Epoch:\t 9 Val Loss:\t 0.02020034474092068\n",
      "Epoch:\t 10 Val Loss:\t 0.02020075631631161\n",
      "Epoch:\t 11 Val Loss:\t 0.020198664517161877\n",
      "Epoch:\t 12 Val Loss:\t 0.020197371291175045\n",
      "Epoch:\t 13 Val Loss:\t 0.020212600071975572\n",
      "Epoch:\t 14 Val Loss:\t 0.020199146371462355\n",
      "Epoch:\t 15 Val Loss:\t 0.020196468808790384\n",
      "Epoch:\t 16 Val Loss:\t 0.020200955463671712\n",
      "Epoch:\t 17 Val Loss:\t 0.02019873291829161\n",
      "Epoch:\t 18 Val Loss:\t 0.020202097999720087\n",
      "Epoch:\t 19 Val Loss:\t 0.020187960177102168\n",
      "Epoch:\t 20 Val Loss:\t 0.020186930709992532\n",
      "Epoch:\t 21 Val Loss:\t 0.02018675126148322\n",
      "Epoch:\t 22 Val Loss:\t 0.020190818495270095\n",
      "Epoch:\t 23 Val Loss:\t 0.020186634956428254\n",
      "Epoch:\t 24 Val Loss:\t 0.020187527576955473\n",
      "Epoch:\t 25 Val Loss:\t 0.020190386801041356\n",
      "Epoch:\t 26 Val Loss:\t 0.020179625223831286\n",
      "Epoch:\t 27 Val Loss:\t 0.020179824480917725\n",
      "Epoch:\t 28 Val Loss:\t 0.02018892727857126\n",
      "Epoch:\t 29 Val Loss:\t 0.020181073215846848\n",
      "Epoch:\t 30 Val Loss:\t 0.02018447026601726\n",
      "Epoch:\t 31 Val Loss:\t 0.020181519917179456\n",
      "Epoch:\t 32 Val Loss:\t 0.020180614221921096\n",
      "Epoch:\t 33 Val Loss:\t 0.020178572295284417\n",
      "Epoch:\t 34 Val Loss:\t 0.020176792401091794\n",
      "Epoch:\t 35 Val Loss:\t 0.02018062025849133\n",
      "Epoch:\t 36 Val Loss:\t 0.020178699376222634\n",
      "Epoch:\t 37 Val Loss:\t 0.02017719140714137\n",
      "Epoch:\t 38 Val Loss:\t 0.020178541471912496\n",
      "Epoch:\t 39 Val Loss:\t 0.020179321686723727\n",
      "Epoch:\t 40 Val Loss:\t 0.020182760154533304\n",
      "Epoch:\t 41 Val Loss:\t 0.020179147525078083\n",
      "Epoch:\t 42 Val Loss:\t 0.02018096586889347\n",
      "Epoch:\t 43 Val Loss:\t 0.02018257627372851\n"
     ]
    },
    {
     "name": "stderr",
     "output_type": "stream",
     "text": [
      "[I 2025-09-22 20:00:44,874] Trial 10 finished with value: 0.020176792401091794 and parameters: {'lr': 0.0001, 'weight_decay': 1e-05, 'scheduler_factor': 0.5, 'scheduler_patience': 5, 'batch_size': 64, 'dropout': 0.2, 'hidden_dims': 512}. Best is trial 10 with value: 0.020176792401091794.\n"
     ]
    },
    {
     "name": "stdout",
     "output_type": "stream",
     "text": [
      "Epoch:\t 44 Val Loss:\t 0.020179306101799875\n",
      "Epoch:\t 0 Val Loss:\t 0.020986419580811964\n",
      "Epoch:\t 1 Val Loss:\t 0.020538586699925428\n",
      "Epoch:\t 2 Val Loss:\t 0.020392818751545472\n",
      "Epoch:\t 3 Val Loss:\t 0.02026214177687277\n",
      "Epoch:\t 4 Val Loss:\t 0.020229992448626322\n",
      "Epoch:\t 5 Val Loss:\t 0.020218952530286924\n",
      "Epoch:\t 6 Val Loss:\t 0.020203692821252853\n",
      "Epoch:\t 7 Val Loss:\t 0.02021408477637028\n",
      "Epoch:\t 8 Val Loss:\t 0.02020905130649298\n",
      "Epoch:\t 9 Val Loss:\t 0.020210013570814235\n",
      "Epoch:\t 10 Val Loss:\t 0.020201016119635356\n",
      "Epoch:\t 11 Val Loss:\t 0.020202448208358526\n",
      "Epoch:\t 12 Val Loss:\t 0.020202110976075893\n",
      "Epoch:\t 13 Val Loss:\t 0.020212235032984565\n",
      "Epoch:\t 14 Val Loss:\t 0.02019506611861829\n",
      "Epoch:\t 15 Val Loss:\t 0.02020193550420046\n",
      "Epoch:\t 16 Val Loss:\t 0.020195900977687024\n",
      "Epoch:\t 17 Val Loss:\t 0.020209873630813887\n",
      "Epoch:\t 18 Val Loss:\t 0.02020658004123045\n",
      "Epoch:\t 19 Val Loss:\t 0.020198251007776655\n",
      "Epoch:\t 20 Val Loss:\t 0.020199258402595323\n",
      "Epoch:\t 21 Val Loss:\t 0.020185470992933854\n",
      "Epoch:\t 22 Val Loss:\t 0.020186596651125356\n",
      "Epoch:\t 23 Val Loss:\t 0.020183889853140503\n",
      "Epoch:\t 24 Val Loss:\t 0.020184186622889597\n",
      "Epoch:\t 25 Val Loss:\t 0.02018912744644037\n",
      "Epoch:\t 26 Val Loss:\t 0.020187688404959055\n",
      "Epoch:\t 27 Val Loss:\t 0.02018948068093126\n",
      "Epoch:\t 28 Val Loss:\t 0.02018034803501081\n",
      "Epoch:\t 29 Val Loss:\t 0.02017984335817228\n",
      "Epoch:\t 30 Val Loss:\t 0.020181926960818518\n",
      "Epoch:\t 31 Val Loss:\t 0.02018122104100896\n",
      "Epoch:\t 32 Val Loss:\t 0.020180983026201166\n",
      "Epoch:\t 33 Val Loss:\t 0.020182722781093503\n",
      "Epoch:\t 34 Val Loss:\t 0.020182295520781813\n",
      "Epoch:\t 35 Val Loss:\t 0.020179308214167038\n",
      "Epoch:\t 36 Val Loss:\t 0.02017903497071804\n",
      "Epoch:\t 37 Val Loss:\t 0.020180223755067127\n",
      "Epoch:\t 38 Val Loss:\t 0.02018301404885044\n",
      "Epoch:\t 39 Val Loss:\t 0.020180493292684686\n",
      "Epoch:\t 40 Val Loss:\t 0.020182765897058568\n",
      "Epoch:\t 41 Val Loss:\t 0.02017896148001584\n",
      "Epoch:\t 42 Val Loss:\t 0.02018076934361451\n",
      "Epoch:\t 43 Val Loss:\t 0.020179301479240006\n",
      "Epoch:\t 44 Val Loss:\t 0.02017859305194036\n",
      "Epoch:\t 45 Val Loss:\t 0.02018022764467667\n",
      "Epoch:\t 46 Val Loss:\t 0.02018211196104818\n",
      "Epoch:\t 47 Val Loss:\t 0.02018141159079688\n",
      "Epoch:\t 48 Val Loss:\t 0.02017995405204927\n",
      "Epoch:\t 49 Val Loss:\t 0.020183925224480002\n",
      "Epoch:\t 50 Val Loss:\t 0.020185489223721896\n",
      "Epoch:\t 51 Val Loss:\t 0.020181525993748454\n",
      "Epoch:\t 52 Val Loss:\t 0.02018138515647853\n",
      "Epoch:\t 53 Val Loss:\t 0.020184522193061428\n"
     ]
    },
    {
     "name": "stderr",
     "output_type": "stream",
     "text": [
      "[I 2025-09-22 20:06:59,475] Trial 11 finished with value: 0.02017859305194036 and parameters: {'lr': 0.0001, 'weight_decay': 1e-05, 'scheduler_factor': 0.5, 'scheduler_patience': 5, 'batch_size': 64, 'dropout': 0.2, 'hidden_dims': 512}. Best is trial 10 with value: 0.020176792401091794.\n"
     ]
    },
    {
     "name": "stdout",
     "output_type": "stream",
     "text": [
      "Epoch:\t 54 Val Loss:\t 0.020181727842646702\n",
      "Epoch:\t 0 Val Loss:\t 0.020942193386266555\n",
      "Epoch:\t 1 Val Loss:\t 0.020566682418288358\n",
      "Epoch:\t 2 Val Loss:\t 0.02046780876903965\n",
      "Epoch:\t 3 Val Loss:\t 0.020255056673631686\n",
      "Epoch:\t 4 Val Loss:\t 0.020220909157937617\n",
      "Epoch:\t 5 Val Loss:\t 0.02020392212876212\n",
      "Epoch:\t 6 Val Loss:\t 0.020214855206078453\n",
      "Epoch:\t 7 Val Loss:\t 0.020207386596849404\n",
      "Epoch:\t 8 Val Loss:\t 0.02019828541536215\n",
      "Epoch:\t 9 Val Loss:\t 0.02020389508094922\n",
      "Epoch:\t 10 Val Loss:\t 0.020199087407878853\n",
      "Epoch:\t 11 Val Loss:\t 0.020204550189355814\n",
      "Epoch:\t 12 Val Loss:\t 0.020199679110136513\n",
      "Epoch:\t 13 Val Loss:\t 0.020201520814851697\n",
      "Epoch:\t 14 Val Loss:\t 0.020196140527041998\n",
      "Epoch:\t 15 Val Loss:\t 0.020198292045427557\n",
      "Epoch:\t 16 Val Loss:\t 0.02020245634972859\n",
      "Epoch:\t 17 Val Loss:\t 0.02019597493107763\n",
      "Epoch:\t 18 Val Loss:\t 0.020196747662876834\n",
      "Epoch:\t 19 Val Loss:\t 0.02021048226444028\n",
      "Epoch:\t 20 Val Loss:\t 0.020201386775750098\n",
      "Epoch:\t 21 Val Loss:\t 0.020191549202421864\n",
      "Epoch:\t 22 Val Loss:\t 0.020185843729524852\n",
      "Epoch:\t 23 Val Loss:\t 0.020187247562904864\n",
      "Epoch:\t 24 Val Loss:\t 0.02018809265571144\n",
      "Epoch:\t 25 Val Loss:\t 0.02018586148086825\n",
      "Epoch:\t 26 Val Loss:\t 0.02018969042742332\n",
      "Epoch:\t 27 Val Loss:\t 0.020192879778605972\n",
      "Epoch:\t 28 Val Loss:\t 0.02018976712289136\n",
      "Epoch:\t 29 Val Loss:\t 0.020180605836234256\n",
      "Epoch:\t 30 Val Loss:\t 0.0201801578527791\n",
      "Epoch:\t 31 Val Loss:\t 0.02018504338722743\n",
      "Epoch:\t 32 Val Loss:\t 0.02018049724931919\n",
      "Epoch:\t 33 Val Loss:\t 0.02018050179728677\n",
      "Epoch:\t 34 Val Loss:\t 0.020185430985521384\n",
      "Epoch:\t 35 Val Loss:\t 0.020183961946048053\n",
      "Epoch:\t 36 Val Loss:\t 0.020179293195712173\n",
      "Epoch:\t 37 Val Loss:\t 0.020177894244884\n",
      "Epoch:\t 38 Val Loss:\t 0.020177692757055672\n",
      "Epoch:\t 39 Val Loss:\t 0.0201803291723504\n",
      "Epoch:\t 40 Val Loss:\t 0.020184424003662927\n",
      "Epoch:\t 41 Val Loss:\t 0.020180771120316368\n",
      "Epoch:\t 42 Val Loss:\t 0.02018186416005628\n",
      "Epoch:\t 43 Val Loss:\t 0.02017686907169574\n",
      "Epoch:\t 44 Val Loss:\t 0.02017929953281366\n",
      "Epoch:\t 45 Val Loss:\t 0.02018094394146289\n",
      "Epoch:\t 46 Val Loss:\t 0.020183310322939175\n",
      "Epoch:\t 47 Val Loss:\t 0.02017804044523145\n",
      "Epoch:\t 48 Val Loss:\t 0.020181843277458287\n",
      "Epoch:\t 49 Val Loss:\t 0.020180125634315156\n",
      "Epoch:\t 50 Val Loss:\t 0.02018066202206575\n",
      "Epoch:\t 51 Val Loss:\t 0.02018049363807942\n",
      "Epoch:\t 52 Val Loss:\t 0.02018434946542553\n"
     ]
    },
    {
     "name": "stderr",
     "output_type": "stream",
     "text": [
      "[I 2025-09-22 20:13:08,896] Trial 12 finished with value: 0.02017686907169574 and parameters: {'lr': 0.0001, 'weight_decay': 1e-05, 'scheduler_factor': 0.5, 'scheduler_patience': 5, 'batch_size': 64, 'dropout': 0.2, 'hidden_dims': 512}. Best is trial 10 with value: 0.020176792401091794.\n"
     ]
    },
    {
     "name": "stdout",
     "output_type": "stream",
     "text": [
      "Epoch:\t 53 Val Loss:\t 0.020182450563558746\n",
      "Epoch:\t 0 Val Loss:\t 0.02104140038791778\n",
      "Epoch:\t 1 Val Loss:\t 0.020659630822511828\n",
      "Epoch:\t 2 Val Loss:\t 0.020470872715989033\n",
      "Epoch:\t 3 Val Loss:\t 0.02027642730357546\n",
      "Epoch:\t 4 Val Loss:\t 0.020221473336721394\n",
      "Epoch:\t 5 Val Loss:\t 0.020222260411320664\n",
      "Epoch:\t 6 Val Loss:\t 0.020201017854176353\n",
      "Epoch:\t 7 Val Loss:\t 0.02020931160926075\n",
      "Epoch:\t 8 Val Loss:\t 0.020204958144318066\n",
      "Epoch:\t 9 Val Loss:\t 0.020210051781525462\n",
      "Epoch:\t 10 Val Loss:\t 0.020204639804965178\n",
      "Epoch:\t 11 Val Loss:\t 0.020203041870555626\n",
      "Epoch:\t 12 Val Loss:\t 0.020198184726040895\n",
      "Epoch:\t 13 Val Loss:\t 0.020206434617075233\n",
      "Epoch:\t 14 Val Loss:\t 0.020196421402147082\n",
      "Epoch:\t 15 Val Loss:\t 0.020195207251554752\n",
      "Epoch:\t 16 Val Loss:\t 0.02020317395512302\n",
      "Epoch:\t 17 Val Loss:\t 0.020197664250771595\n",
      "Epoch:\t 18 Val Loss:\t 0.020196966467467388\n",
      "Epoch:\t 19 Val Loss:\t 0.02019946178820285\n",
      "Epoch:\t 20 Val Loss:\t 0.02019422767533598\n",
      "Epoch:\t 21 Val Loss:\t 0.02020727095826033\n",
      "Epoch:\t 22 Val Loss:\t 0.020190861275029334\n",
      "Epoch:\t 23 Val Loss:\t 0.020187069226793614\n",
      "Epoch:\t 24 Val Loss:\t 0.020188365184047406\n",
      "Epoch:\t 25 Val Loss:\t 0.02018823600047145\n",
      "Epoch:\t 26 Val Loss:\t 0.02018713414532825\n",
      "Epoch:\t 27 Val Loss:\t 0.020188188303026326\n",
      "Epoch:\t 28 Val Loss:\t 0.020188633472514372\n",
      "Epoch:\t 29 Val Loss:\t 0.020189298816820907\n",
      "Epoch:\t 30 Val Loss:\t 0.02017812989814314\n",
      "Epoch:\t 31 Val Loss:\t 0.020180426396373324\n",
      "Epoch:\t 32 Val Loss:\t 0.0201800598401319\n",
      "Epoch:\t 33 Val Loss:\t 0.020186169352436473\n",
      "Epoch:\t 34 Val Loss:\t 0.02018321860415155\n",
      "Epoch:\t 35 Val Loss:\t 0.020180741971487302\n",
      "Epoch:\t 36 Val Loss:\t 0.020179848961242395\n",
      "Epoch:\t 37 Val Loss:\t 0.020179728247134477\n",
      "Epoch:\t 38 Val Loss:\t 0.020179309696283405\n",
      "Epoch:\t 39 Val Loss:\t 0.020182817131691698\n"
     ]
    },
    {
     "name": "stderr",
     "output_type": "stream",
     "text": [
      "[I 2025-09-22 20:17:49,564] Trial 13 finished with value: 0.02017812989814314 and parameters: {'lr': 0.0001, 'weight_decay': 1e-05, 'scheduler_factor': 0.5, 'scheduler_patience': 5, 'batch_size': 64, 'dropout': 0.2, 'hidden_dims': 512}. Best is trial 10 with value: 0.020176792401091794.\n"
     ]
    },
    {
     "name": "stdout",
     "output_type": "stream",
     "text": [
      "Epoch:\t 40 Val Loss:\t 0.020179465817405397\n",
      "Epoch:\t 0 Val Loss:\t 0.020989884607800893\n",
      "Epoch:\t 1 Val Loss:\t 0.02065635121682063\n",
      "Epoch:\t 2 Val Loss:\t 0.020483187848979904\n",
      "Epoch:\t 3 Val Loss:\t 0.020268594606136833\n",
      "Epoch:\t 4 Val Loss:\t 0.020237301154147555\n",
      "Epoch:\t 5 Val Loss:\t 0.02021572722724217\n",
      "Epoch:\t 6 Val Loss:\t 0.02020583475074551\n",
      "Epoch:\t 7 Val Loss:\t 0.020202938248892546\n",
      "Epoch:\t 8 Val Loss:\t 0.020211222951283685\n",
      "Epoch:\t 9 Val Loss:\t 0.020209994895175075\n",
      "Epoch:\t 10 Val Loss:\t 0.02020754823942241\n",
      "Epoch:\t 11 Val Loss:\t 0.0201960737501864\n",
      "Epoch:\t 12 Val Loss:\t 0.020197892152918888\n",
      "Epoch:\t 13 Val Loss:\t 0.020199663599804952\n",
      "Epoch:\t 14 Val Loss:\t 0.020200818836541973\n",
      "Epoch:\t 15 Val Loss:\t 0.020198293805373177\n",
      "Epoch:\t 16 Val Loss:\t 0.020203236942365983\n",
      "Epoch:\t 17 Val Loss:\t 0.020203350558314848\n",
      "Epoch:\t 18 Val Loss:\t 0.020182857839082538\n",
      "Epoch:\t 19 Val Loss:\t 0.020185190861049047\n",
      "Epoch:\t 20 Val Loss:\t 0.0201898125441906\n",
      "Epoch:\t 21 Val Loss:\t 0.020190060351668784\n",
      "Epoch:\t 22 Val Loss:\t 0.020188051592115393\n",
      "Epoch:\t 23 Val Loss:\t 0.02018579729258132\n",
      "Epoch:\t 24 Val Loss:\t 0.020187959329560787\n",
      "Epoch:\t 25 Val Loss:\t 0.020176468389481738\n",
      "Epoch:\t 26 Val Loss:\t 0.02018128614602432\n",
      "Epoch:\t 27 Val Loss:\t 0.0201853751331931\n",
      "Epoch:\t 28 Val Loss:\t 0.02018184363582559\n",
      "Epoch:\t 29 Val Loss:\t 0.020182827210839725\n",
      "Epoch:\t 30 Val Loss:\t 0.02018602429529694\n",
      "Epoch:\t 31 Val Loss:\t 0.020187165097885366\n",
      "Epoch:\t 32 Val Loss:\t 0.02018208890824697\n",
      "Epoch:\t 33 Val Loss:\t 0.020179735400426963\n",
      "Epoch:\t 34 Val Loss:\t 0.02018033429165168\n"
     ]
    },
    {
     "name": "stderr",
     "output_type": "stream",
     "text": [
      "[I 2025-09-22 20:21:54,365] Trial 14 finished with value: 0.020176468389481738 and parameters: {'lr': 0.0001, 'weight_decay': 1e-05, 'scheduler_factor': 0.5, 'scheduler_patience': 5, 'batch_size': 64, 'dropout': 0.2, 'hidden_dims': 512}. Best is trial 14 with value: 0.020176468389481738.\n"
     ]
    },
    {
     "name": "stdout",
     "output_type": "stream",
     "text": [
      "Epoch:\t 35 Val Loss:\t 0.02017768241088887\n",
      "Epoch:\t 0 Val Loss:\t 0.02099951020011152\n",
      "Epoch:\t 1 Val Loss:\t 0.0205576175513547\n",
      "Epoch:\t 2 Val Loss:\t 0.02043541294678795\n",
      "Epoch:\t 3 Val Loss:\t 0.020256102854278948\n",
      "Epoch:\t 4 Val Loss:\t 0.020221882256518702\n",
      "Epoch:\t 5 Val Loss:\t 0.02021061645867222\n",
      "Epoch:\t 6 Val Loss:\t 0.020200953988041632\n",
      "Epoch:\t 7 Val Loss:\t 0.02021059524365206\n",
      "Epoch:\t 8 Val Loss:\t 0.020201742386383784\n",
      "Epoch:\t 9 Val Loss:\t 0.020209903429352607\n",
      "Epoch:\t 10 Val Loss:\t 0.02020557382907794\n",
      "Epoch:\t 11 Val Loss:\t 0.020203797888276677\n",
      "Epoch:\t 12 Val Loss:\t 0.020199111906040807\n",
      "Epoch:\t 13 Val Loss:\t 0.020184958540119372\n",
      "Epoch:\t 14 Val Loss:\t 0.02018321665502259\n",
      "Epoch:\t 15 Val Loss:\t 0.020185774074379815\n",
      "Epoch:\t 16 Val Loss:\t 0.020182213447642098\n",
      "Epoch:\t 17 Val Loss:\t 0.02018862174368759\n",
      "Epoch:\t 18 Val Loss:\t 0.020181896060151687\n",
      "Epoch:\t 19 Val Loss:\t 0.020182706062150637\n",
      "Epoch:\t 20 Val Loss:\t 0.020184023547928413\n",
      "Epoch:\t 21 Val Loss:\t 0.02018900679557374\n",
      "Epoch:\t 22 Val Loss:\t 0.020184045772647104\n",
      "Epoch:\t 23 Val Loss:\t 0.020179286830503445\n",
      "Epoch:\t 24 Val Loss:\t 0.02017371908686428\n",
      "Epoch:\t 25 Val Loss:\t 0.0201757618442861\n",
      "Epoch:\t 26 Val Loss:\t 0.020177487749336108\n",
      "Epoch:\t 27 Val Loss:\t 0.020178674669418476\n",
      "Epoch:\t 28 Val Loss:\t 0.020183256286230463\n",
      "Epoch:\t 29 Val Loss:\t 0.020181810126590715\n",
      "Epoch:\t 30 Val Loss:\t 0.02017958136194332\n",
      "Epoch:\t 31 Val Loss:\t 0.02017850472385878\n",
      "Epoch:\t 32 Val Loss:\t 0.02017931237025484\n",
      "Epoch:\t 33 Val Loss:\t 0.020176982556837836\n"
     ]
    },
    {
     "name": "stderr",
     "output_type": "stream",
     "text": [
      "[I 2025-09-22 20:25:54,672] Trial 15 finished with value: 0.02017371908686428 and parameters: {'lr': 0.0001, 'weight_decay': 1e-05, 'scheduler_factor': 0.5, 'scheduler_patience': 5, 'batch_size': 64, 'dropout': 0.2, 'hidden_dims': 512}. Best is trial 15 with value: 0.02017371908686428.\n"
     ]
    },
    {
     "name": "stdout",
     "output_type": "stream",
     "text": [
      "Epoch:\t 34 Val Loss:\t 0.020178979514593725\n"
     ]
    },
    {
     "name": "stderr",
     "output_type": "stream",
     "text": [
      "[I 2025-09-22 20:26:01,319] Trial 16 pruned. \n"
     ]
    },
    {
     "name": "stdout",
     "output_type": "stream",
     "text": [
      "Epoch:\t 0 Val Loss:\t 0.02160151329732571\n"
     ]
    },
    {
     "name": "stderr",
     "output_type": "stream",
     "text": [
      "[I 2025-09-22 20:26:06,654] Trial 17 pruned. \n"
     ]
    },
    {
     "name": "stdout",
     "output_type": "stream",
     "text": [
      "Epoch:\t 0 Val Loss:\t 0.02359587713669332\n",
      "Epoch:\t 0 Val Loss:\t 0.02053409458953699\n",
      "Epoch:\t 1 Val Loss:\t 0.020340398790718025\n",
      "Epoch:\t 2 Val Loss:\t 0.02032279513951432\n"
     ]
    },
    {
     "name": "stderr",
     "output_type": "stream",
     "text": [
      "[I 2025-09-22 20:26:34,518] Trial 18 pruned. \n"
     ]
    },
    {
     "name": "stdout",
     "output_type": "stream",
     "text": [
      "Epoch:\t 3 Val Loss:\t 0.020317915658392464\n"
     ]
    },
    {
     "name": "stderr",
     "output_type": "stream",
     "text": [
      "[I 2025-09-22 20:26:41,434] Trial 19 pruned. \n"
     ]
    },
    {
     "name": "stdout",
     "output_type": "stream",
     "text": [
      "Epoch:\t 0 Val Loss:\t 0.034752603388946555\n",
      "Epoch:\t 0 Val Loss:\t 0.02100520384364431\n",
      "Epoch:\t 1 Val Loss:\t 0.020584629924272773\n",
      "Epoch:\t 2 Val Loss:\t 0.02043623644566716\n",
      "Epoch:\t 3 Val Loss:\t 0.02025971128818813\n",
      "Epoch:\t 4 Val Loss:\t 0.020217610842013733\n",
      "Epoch:\t 5 Val Loss:\t 0.020199242132287246\n",
      "Epoch:\t 6 Val Loss:\t 0.020204443872100346\n",
      "Epoch:\t 7 Val Loss:\t 0.02020187453959771\n",
      "Epoch:\t 8 Val Loss:\t 0.020206961989428715\n",
      "Epoch:\t 9 Val Loss:\t 0.020203718785315457\n",
      "Epoch:\t 10 Val Loss:\t 0.0202033981973834\n",
      "Epoch:\t 11 Val Loss:\t 0.020201976205105016\n",
      "Epoch:\t 12 Val Loss:\t 0.020172273955300874\n",
      "Epoch:\t 13 Val Loss:\t 0.02016981317836292\n",
      "Epoch:\t 14 Val Loss:\t 0.020171558641186995\n",
      "Epoch:\t 15 Val Loss:\t 0.020176071669307478\n",
      "Epoch:\t 16 Val Loss:\t 0.02017478854084648\n",
      "Epoch:\t 17 Val Loss:\t 0.020178555350943112\n",
      "Epoch:\t 18 Val Loss:\t 0.020175933482766462\n",
      "Epoch:\t 19 Val Loss:\t 0.02017844495435423\n",
      "Epoch:\t 20 Val Loss:\t 0.020174028312444723\n",
      "Epoch:\t 21 Val Loss:\t 0.02017815264987257\n",
      "Epoch:\t 22 Val Loss:\t 0.020174435343651737\n"
     ]
    },
    {
     "name": "stderr",
     "output_type": "stream",
     "text": [
      "[I 2025-09-22 20:29:25,808] Trial 20 finished with value: 0.02016981317836292 and parameters: {'lr': 0.0001, 'weight_decay': 1e-05, 'scheduler_factor': 0.1, 'scheduler_patience': 5, 'batch_size': 64, 'dropout': 0.2, 'hidden_dims': 512}. Best is trial 20 with value: 0.02016981317836292.\n"
     ]
    },
    {
     "name": "stdout",
     "output_type": "stream",
     "text": [
      "Epoch:\t 23 Val Loss:\t 0.02017751419392441\n"
     ]
    },
    {
     "name": "stderr",
     "output_type": "stream",
     "text": [
      "[I 2025-09-22 20:29:33,046] Trial 21 pruned. \n"
     ]
    },
    {
     "name": "stdout",
     "output_type": "stream",
     "text": [
      "Epoch:\t 0 Val Loss:\t 0.02102705377499447\n",
      "Epoch:\t 0 Val Loss:\t 0.02097525919376247\n",
      "Epoch:\t 1 Val Loss:\t 0.02057615131490015\n",
      "Epoch:\t 2 Val Loss:\t 0.020416916737217267\n",
      "Epoch:\t 3 Val Loss:\t 0.02026081821830966\n",
      "Epoch:\t 4 Val Loss:\t 0.020228854495679578\n",
      "Epoch:\t 5 Val Loss:\t 0.020213925264001724\n",
      "Epoch:\t 6 Val Loss:\t 0.02021186211099389\n",
      "Epoch:\t 7 Val Loss:\t 0.02020930497054696\n",
      "Epoch:\t 8 Val Loss:\t 0.0201958232033334\n",
      "Epoch:\t 9 Val Loss:\t 0.020197086866990434\n",
      "Epoch:\t 10 Val Loss:\t 0.020196016822215678\n",
      "Epoch:\t 11 Val Loss:\t 0.020206965461753858\n",
      "Epoch:\t 12 Val Loss:\t 0.020202021713969117\n",
      "Epoch:\t 13 Val Loss:\t 0.02019604183819947\n",
      "Epoch:\t 14 Val Loss:\t 0.020200599518994295\n",
      "Epoch:\t 15 Val Loss:\t 0.02017176097115146\n",
      "Epoch:\t 16 Val Loss:\t 0.02017230116797355\n",
      "Epoch:\t 17 Val Loss:\t 0.02017829778538806\n",
      "Epoch:\t 18 Val Loss:\t 0.020178493956623904\n",
      "Epoch:\t 19 Val Loss:\t 0.02017631244619209\n",
      "Epoch:\t 20 Val Loss:\t 0.02017573423270683\n",
      "Epoch:\t 21 Val Loss:\t 0.020183414972678598\n",
      "Epoch:\t 22 Val Loss:\t 0.020173932660805645\n",
      "Epoch:\t 23 Val Loss:\t 0.020176175832575447\n",
      "Epoch:\t 24 Val Loss:\t 0.020176109471382684\n"
     ]
    },
    {
     "name": "stderr",
     "output_type": "stream",
     "text": [
      "[I 2025-09-22 20:32:33,250] Trial 22 finished with value: 0.02017176097115146 and parameters: {'lr': 0.0001, 'weight_decay': 1e-05, 'scheduler_factor': 0.1, 'scheduler_patience': 5, 'batch_size': 64, 'dropout': 0.2, 'hidden_dims': 512}. Best is trial 20 with value: 0.02016981317836292.\n"
     ]
    },
    {
     "name": "stdout",
     "output_type": "stream",
     "text": [
      "Epoch:\t 25 Val Loss:\t 0.020172901626176878\n",
      "Epoch:\t 0 Val Loss:\t 0.020978530514304265\n",
      "Epoch:\t 1 Val Loss:\t 0.02061409792888237\n",
      "Epoch:\t 2 Val Loss:\t 0.020468484863284293\n",
      "Epoch:\t 3 Val Loss:\t 0.020267943521389695\n",
      "Epoch:\t 4 Val Loss:\t 0.020218849374555394\n",
      "Epoch:\t 5 Val Loss:\t 0.020209571877434995\n",
      "Epoch:\t 6 Val Loss:\t 0.020209259354118613\n",
      "Epoch:\t 7 Val Loss:\t 0.02020784967173014\n",
      "Epoch:\t 8 Val Loss:\t 0.020201402681204586\n",
      "Epoch:\t 9 Val Loss:\t 0.020195655547432682\n",
      "Epoch:\t 10 Val Loss:\t 0.020201437940115127\n",
      "Epoch:\t 11 Val Loss:\t 0.020199848063294442\n",
      "Epoch:\t 12 Val Loss:\t 0.020195183465803217\n",
      "Epoch:\t 13 Val Loss:\t 0.020202349436815852\n",
      "Epoch:\t 14 Val Loss:\t 0.020202427310085338\n",
      "Epoch:\t 15 Val Loss:\t 0.02019705664846469\n",
      "Epoch:\t 16 Val Loss:\t 0.020170728919797352\n",
      "Epoch:\t 17 Val Loss:\t 0.020170269381023568\n",
      "Epoch:\t 18 Val Loss:\t 0.020175071480752628\n",
      "Epoch:\t 19 Val Loss:\t 0.020176640906853865\n",
      "Epoch:\t 20 Val Loss:\t 0.020174368142484928\n",
      "Epoch:\t 21 Val Loss:\t 0.02017643046038343\n",
      "Epoch:\t 22 Val Loss:\t 0.020174790719698073\n",
      "Epoch:\t 23 Val Loss:\t 0.020176405438453875\n",
      "Epoch:\t 24 Val Loss:\t 0.020173957073564834\n",
      "Epoch:\t 25 Val Loss:\t 0.02017449684931885\n",
      "Epoch:\t 26 Val Loss:\t 0.02017616048926575\n"
     ]
    },
    {
     "name": "stderr",
     "output_type": "stream",
     "text": [
      "[I 2025-09-22 20:35:44,641] Trial 23 finished with value: 0.020170269381023568 and parameters: {'lr': 0.0001, 'weight_decay': 1e-05, 'scheduler_factor': 0.1, 'scheduler_patience': 5, 'batch_size': 64, 'dropout': 0.2, 'hidden_dims': 512}. Best is trial 20 with value: 0.02016981317836292.\n"
     ]
    },
    {
     "name": "stdout",
     "output_type": "stream",
     "text": [
      "Epoch:\t 27 Val Loss:\t 0.020173161321395853\n"
     ]
    },
    {
     "name": "stderr",
     "output_type": "stream",
     "text": [
      "[I 2025-09-22 20:35:51,727] Trial 24 pruned. \n"
     ]
    },
    {
     "name": "stdout",
     "output_type": "stream",
     "text": [
      "Epoch:\t 0 Val Loss:\t 0.022029085703155225\n"
     ]
    },
    {
     "name": "stderr",
     "output_type": "stream",
     "text": [
      "[I 2025-09-22 20:35:56,247] Trial 25 pruned. \n"
     ]
    },
    {
     "name": "stdout",
     "output_type": "stream",
     "text": [
      "Epoch:\t 0 Val Loss:\t 0.022316360382666423\n",
      "Epoch:\t 0 Val Loss:\t 0.020640694449662333\n",
      "Epoch:\t 1 Val Loss:\t 0.020330069655541426\n",
      "Epoch:\t 2 Val Loss:\t 0.02024118028890277\n",
      "Epoch:\t 3 Val Loss:\t 0.020231442524361522\n",
      "Epoch:\t 4 Val Loss:\t 0.02021936772775727\n",
      "Epoch:\t 5 Val Loss:\t 0.020218297256969903\n"
     ]
    },
    {
     "name": "stderr",
     "output_type": "stream",
     "text": [
      "[I 2025-09-22 20:38:26,410] Trial 26 pruned. \n"
     ]
    },
    {
     "name": "stdout",
     "output_type": "stream",
     "text": [
      "Epoch:\t 6 Val Loss:\t 0.020230442173530407\n"
     ]
    },
    {
     "name": "stderr",
     "output_type": "stream",
     "text": [
      "[I 2025-09-22 20:38:31,856] Trial 27 pruned. \n"
     ]
    },
    {
     "name": "stdout",
     "output_type": "stream",
     "text": [
      "Epoch:\t 0 Val Loss:\t 0.06081498018384811\n",
      "Epoch:\t 0 Val Loss:\t 0.02058111469991596\n",
      "Epoch:\t 1 Val Loss:\t 0.020333223926466665\n",
      "Epoch:\t 2 Val Loss:\t 0.020312030712122047\n"
     ]
    },
    {
     "name": "stderr",
     "output_type": "stream",
     "text": [
      "[I 2025-09-22 20:38:58,379] Trial 28 pruned. \n"
     ]
    },
    {
     "name": "stdout",
     "output_type": "stream",
     "text": [
      "Epoch:\t 3 Val Loss:\t 0.02029859023174088\n"
     ]
    },
    {
     "name": "stderr",
     "output_type": "stream",
     "text": [
      "[I 2025-09-22 20:39:03,069] Trial 29 pruned. \n"
     ]
    },
    {
     "name": "stdout",
     "output_type": "stream",
     "text": [
      "Epoch:\t 0 Val Loss:\t 0.022322220853421577\n"
     ]
    },
    {
     "name": "stderr",
     "output_type": "stream",
     "text": [
      "[I 2025-09-22 20:39:09,783] Trial 30 pruned. \n"
     ]
    },
    {
     "name": "stdout",
     "output_type": "stream",
     "text": [
      "Epoch:\t 0 Val Loss:\t 0.021047400134424795\n",
      "Epoch:\t 0 Val Loss:\t 0.020974072461782397\n",
      "Epoch:\t 1 Val Loss:\t 0.020557313118599145\n",
      "Epoch:\t 2 Val Loss:\t 0.020427132090764445\n",
      "Epoch:\t 3 Val Loss:\t 0.02026112779036588\n",
      "Epoch:\t 4 Val Loss:\t 0.020228493028470098\n",
      "Epoch:\t 5 Val Loss:\t 0.020214377027340084\n",
      "Epoch:\t 6 Val Loss:\t 0.020215667236122847\n",
      "Epoch:\t 7 Val Loss:\t 0.02020493090570025\n",
      "Epoch:\t 8 Val Loss:\t 0.020210408824006796\n",
      "Epoch:\t 9 Val Loss:\t 0.020211837175548145\n",
      "Epoch:\t 10 Val Loss:\t 0.020205149770829475\n",
      "Epoch:\t 11 Val Loss:\t 0.020199811893060707\n",
      "Epoch:\t 12 Val Loss:\t 0.020201925478564295\n",
      "Epoch:\t 13 Val Loss:\t 0.02021009608448088\n",
      "Epoch:\t 14 Val Loss:\t 0.020204150214146992\n"
     ]
    },
    {
     "name": "stderr",
     "output_type": "stream",
     "text": [
      "[I 2025-09-22 20:40:56,798] Trial 31 pruned. \n"
     ]
    },
    {
     "name": "stdout",
     "output_type": "stream",
     "text": [
      "Epoch:\t 15 Val Loss:\t 0.02019937254825755\n",
      "Epoch:\t 0 Val Loss:\t 0.02096324855082269\n",
      "Epoch:\t 1 Val Loss:\t 0.020589371748566974\n",
      "Epoch:\t 2 Val Loss:\t 0.020444809510499602\n",
      "Epoch:\t 3 Val Loss:\t 0.020275537240807048\n",
      "Epoch:\t 4 Val Loss:\t 0.02022358930431354\n",
      "Epoch:\t 5 Val Loss:\t 0.020214041782563603\n",
      "Epoch:\t 6 Val Loss:\t 0.02020570552392765\n",
      "Epoch:\t 7 Val Loss:\t 0.020211962439245217\n",
      "Epoch:\t 8 Val Loss:\t 0.02020508599063804\n",
      "Epoch:\t 9 Val Loss:\t 0.020208424537751263\n",
      "Epoch:\t 10 Val Loss:\t 0.02021760543191063\n",
      "Epoch:\t 11 Val Loss:\t 0.020204205450818625\n"
     ]
    },
    {
     "name": "stderr",
     "output_type": "stream",
     "text": [
      "[I 2025-09-22 20:42:26,915] Trial 32 pruned. \n"
     ]
    },
    {
     "name": "stdout",
     "output_type": "stream",
     "text": [
      "Epoch:\t 12 Val Loss:\t 0.020207864228037126\n",
      "Epoch:\t 0 Val Loss:\t 0.020943083088505565\n",
      "Epoch:\t 1 Val Loss:\t 0.02054378010594198\n",
      "Epoch:\t 2 Val Loss:\t 0.020412684211780944\n",
      "Epoch:\t 3 Val Loss:\t 0.02025841138294822\n",
      "Epoch:\t 4 Val Loss:\t 0.02022705811713144\n",
      "Epoch:\t 5 Val Loss:\t 0.020211952659547398\n",
      "Epoch:\t 6 Val Loss:\t 0.020203189206543664\n",
      "Epoch:\t 7 Val Loss:\t 0.020195489133115224\n",
      "Epoch:\t 8 Val Loss:\t 0.020202936797045514\n",
      "Epoch:\t 9 Val Loss:\t 0.020205463009799418\n",
      "Epoch:\t 10 Val Loss:\t 0.02019361422564218\n",
      "Epoch:\t 11 Val Loss:\t 0.020207636516154228\n",
      "Epoch:\t 12 Val Loss:\t 0.020206842394205143\n",
      "Epoch:\t 13 Val Loss:\t 0.020204426374803155\n",
      "Epoch:\t 14 Val Loss:\t 0.020175098909094316\n",
      "Epoch:\t 15 Val Loss:\t 0.020173033968574144\n",
      "Epoch:\t 16 Val Loss:\t 0.020176215542699803\n",
      "Epoch:\t 17 Val Loss:\t 0.020174164127707655\n",
      "Epoch:\t 18 Val Loss:\t 0.02017473739594031\n",
      "Epoch:\t 19 Val Loss:\t 0.020176895457907466\n",
      "Epoch:\t 20 Val Loss:\t 0.02017980040814803\n",
      "Epoch:\t 21 Val Loss:\t 0.020181733223020994\n",
      "Epoch:\t 22 Val Loss:\t 0.020173978529658625\n",
      "Epoch:\t 23 Val Loss:\t 0.020176721187616528\n",
      "Epoch:\t 24 Val Loss:\t 0.020175686530937514\n"
     ]
    },
    {
     "name": "stderr",
     "output_type": "stream",
     "text": [
      "[I 2025-09-22 20:45:22,642] Trial 33 finished with value: 0.020173033968574144 and parameters: {'lr': 0.0001, 'weight_decay': 1e-05, 'scheduler_factor': 0.1, 'scheduler_patience': 5, 'batch_size': 64, 'dropout': 0.2, 'hidden_dims': 512}. Best is trial 20 with value: 0.02016981317836292.\n"
     ]
    },
    {
     "name": "stdout",
     "output_type": "stream",
     "text": [
      "Epoch:\t 25 Val Loss:\t 0.020176371845978328\n"
     ]
    },
    {
     "name": "stderr",
     "output_type": "stream",
     "text": [
      "[I 2025-09-22 20:45:27,085] Trial 34 pruned. \n"
     ]
    },
    {
     "name": "stdout",
     "output_type": "stream",
     "text": [
      "Epoch:\t 0 Val Loss:\t 0.021205999165080314\n",
      "Epoch:\t 0 Val Loss:\t 0.020357145931089574\n",
      "Epoch:\t 1 Val Loss:\t 0.02032272235257416\n",
      "Epoch:\t 2 Val Loss:\t 0.020298818528470576\n",
      "Epoch:\t 3 Val Loss:\t 0.02029167118661205\n"
     ]
    },
    {
     "name": "stderr",
     "output_type": "stream",
     "text": [
      "[I 2025-09-22 20:45:54,310] Trial 35 pruned. \n",
      "[I 2025-09-22 20:45:59,374] Trial 36 pruned. \n"
     ]
    },
    {
     "name": "stdout",
     "output_type": "stream",
     "text": [
      "Epoch:\t 0 Val Loss:\t 0.04192499684453287\n"
     ]
    },
    {
     "name": "stderr",
     "output_type": "stream",
     "text": [
      "[I 2025-09-22 20:46:06,406] Trial 37 pruned. \n"
     ]
    },
    {
     "name": "stdout",
     "output_type": "stream",
     "text": [
      "Epoch:\t 0 Val Loss:\t 0.043827621464077565\n"
     ]
    },
    {
     "name": "stderr",
     "output_type": "stream",
     "text": [
      "[I 2025-09-22 20:46:28,773] Trial 38 pruned. \n"
     ]
    },
    {
     "name": "stdout",
     "output_type": "stream",
     "text": [
      "Epoch:\t 0 Val Loss:\t 0.022804988706375\n"
     ]
    },
    {
     "name": "stderr",
     "output_type": "stream",
     "text": [
      "[I 2025-09-22 20:46:39,834] Trial 39 pruned. \n"
     ]
    },
    {
     "name": "stdout",
     "output_type": "stream",
     "text": [
      "Epoch:\t 0 Val Loss:\t 0.02177194011323608\n"
     ]
    },
    {
     "name": "stderr",
     "output_type": "stream",
     "text": [
      "[I 2025-09-22 20:46:46,777] Trial 40 pruned. \n"
     ]
    },
    {
     "name": "stdout",
     "output_type": "stream",
     "text": [
      "Epoch:\t 0 Val Loss:\t 0.02186438710565527\n"
     ]
    },
    {
     "name": "stderr",
     "output_type": "stream",
     "text": [
      "[I 2025-09-22 20:46:53,969] Trial 41 pruned. \n"
     ]
    },
    {
     "name": "stdout",
     "output_type": "stream",
     "text": [
      "Epoch:\t 0 Val Loss:\t 0.020997001641947243\n"
     ]
    },
    {
     "name": "stderr",
     "output_type": "stream",
     "text": [
      "[I 2025-09-22 20:47:00,979] Trial 42 pruned. \n"
     ]
    },
    {
     "name": "stdout",
     "output_type": "stream",
     "text": [
      "Epoch:\t 0 Val Loss:\t 0.021051067214629987\n",
      "Epoch:\t 0 Val Loss:\t 0.020990251956450268\n",
      "Epoch:\t 1 Val Loss:\t 0.020589031303951164\n"
     ]
    },
    {
     "name": "stderr",
     "output_type": "stream",
     "text": [
      "[I 2025-09-22 20:47:21,874] Trial 43 pruned. \n"
     ]
    },
    {
     "name": "stdout",
     "output_type": "stream",
     "text": [
      "Epoch:\t 2 Val Loss:\t 0.020490365203424586\n",
      "Epoch:\t 0 Val Loss:\t 0.020503433910698494\n",
      "Epoch:\t 1 Val Loss:\t 0.02030162423529116\n",
      "Epoch:\t 2 Val Loss:\t 0.0202918886782702\n",
      "Epoch:\t 3 Val Loss:\t 0.020274712450075862\n"
     ]
    },
    {
     "name": "stderr",
     "output_type": "stream",
     "text": [
      "[I 2025-09-22 20:48:17,355] Trial 44 pruned. \n"
     ]
    },
    {
     "name": "stdout",
     "output_type": "stream",
     "text": [
      "Epoch:\t 4 Val Loss:\t 0.02024970752513009\n"
     ]
    },
    {
     "name": "stderr",
     "output_type": "stream",
     "text": [
      "[I 2025-09-22 20:48:24,157] Trial 45 pruned. \n"
     ]
    },
    {
     "name": "stdout",
     "output_type": "stream",
     "text": [
      "Epoch:\t 0 Val Loss:\t 0.024487926433910415\n",
      "Epoch:\t 0 Val Loss:\t 0.02069231057095066\n",
      "Epoch:\t 1 Val Loss:\t 0.020263604366205806\n",
      "Epoch:\t 2 Val Loss:\t 0.020256106849950595\n",
      "Epoch:\t 3 Val Loss:\t 0.020236978309663263\n",
      "Epoch:\t 4 Val Loss:\t 0.020227110945363877\n"
     ]
    },
    {
     "name": "stderr",
     "output_type": "stream",
     "text": [
      "[I 2025-09-22 20:50:34,150] Trial 46 pruned. \n"
     ]
    },
    {
     "name": "stdout",
     "output_type": "stream",
     "text": [
      "Epoch:\t 5 Val Loss:\t 0.020228094249600582\n"
     ]
    },
    {
     "name": "stderr",
     "output_type": "stream",
     "text": [
      "[I 2025-09-22 20:50:41,002] Trial 47 pruned. \n"
     ]
    },
    {
     "name": "stdout",
     "output_type": "stream",
     "text": [
      "Epoch:\t 0 Val Loss:\t 0.02139465297878792\n"
     ]
    },
    {
     "name": "stderr",
     "output_type": "stream",
     "text": [
      "[I 2025-09-22 20:50:47,685] Trial 48 pruned. \n"
     ]
    },
    {
     "name": "stdout",
     "output_type": "stream",
     "text": [
      "Epoch:\t 0 Val Loss:\t 0.035564360375831244\n"
     ]
    },
    {
     "name": "stderr",
     "output_type": "stream",
     "text": [
      "[I 2025-09-22 20:50:52,691] Trial 49 pruned. \n"
     ]
    },
    {
     "name": "stdout",
     "output_type": "stream",
     "text": [
      "Epoch:\t 0 Val Loss:\t 0.02204416923951812\n",
      "Training model with best parameters on train+validation ...\n"
     ]
    },
    {
     "name": "stderr",
     "output_type": "stream",
     "text": [
      "100%|███████████████████████████████████████████████████████████████████████████████████████████████████████████████████████████████████████████████████████████████████| 557340/557340 [05:35<00:00, 1659.47it/s]\n",
      "100%|███████████████████████████████████████████████████████████████████████████████████████████████████████████████████████████████████████████████████████████████████| 557340/557340 [01:38<00:00, 5630.51it/s]\n"
     ]
    },
    {
     "name": "stdout",
     "output_type": "stream",
     "text": [
      "Getting test set predictions and saving results ...\n"
     ]
    },
    {
     "name": "stderr",
     "output_type": "stream",
     "text": [
      "100%|████████████████████████████████████████████████████████████████████████████████████████████████████████████████████████████████████████████████████████████████████████| 1640/1640 [00:03<00:00, 500.24it/s]\n"
     ]
    }
   ],
   "source": [
    "train_different_featno(\n",
    "        adata_path=\"./data/feature_number/sciplex_hvg_5000.h5ad\",\n",
    "        run_name=\"decoder_hvg_5000\",\n",
    "        res_savename=\"./results/feature_number/decoder_hvg_5000_res.pkl\",\n",
    "        output_dim=5000\n",
    "    )"
   ]
  },
  {
   "cell_type": "code",
   "execution_count": 5,
   "id": "27653e27-dc38-4988-8fbc-e178302a0b89",
   "metadata": {},
   "outputs": [
    {
     "name": "stdout",
     "output_type": "stream",
     "text": [
      "Loading Datasets ...\n"
     ]
    },
    {
     "name": "stderr",
     "output_type": "stream",
     "text": [
      "100%|███████████████████████████████████████████████████████████████████████████████████████████████████████████████████████████████████████████████████████████████████| 557340/557340 [04:19<00:00, 2149.86it/s]\n",
      "100%|███████████████████████████████████████████████████████████████████████████████████████████████████████████████████████████████████████████████████████████████████| 557340/557340 [01:43<00:00, 5387.44it/s]\n",
      "[I 2025-09-22 21:06:10,701] A new study created in RDB with name: decoder_hvg_7500\n"
     ]
    },
    {
     "name": "stdout",
     "output_type": "stream",
     "text": [
      "Optimizing Hyperparameters with Optuna ...\n",
      "Epoch:\t 0 Val Loss:\t 0.024569556388766737\n",
      "Epoch:\t 1 Val Loss:\t 0.02456600816743944\n",
      "Epoch:\t 2 Val Loss:\t 0.024555627357560034\n",
      "Epoch:\t 3 Val Loss:\t 0.02452507201446001\n",
      "Epoch:\t 4 Val Loss:\t 0.02460308964100088\n",
      "Epoch:\t 5 Val Loss:\t 0.024579201685663285\n",
      "Epoch:\t 6 Val Loss:\t 0.02455695665184877\n",
      "Epoch:\t 7 Val Loss:\t 0.02454415556644902\n",
      "Epoch:\t 8 Val Loss:\t 0.024587047533315212\n",
      "Epoch:\t 9 Val Loss:\t 0.024584636913933238\n",
      "Epoch:\t 10 Val Loss:\t 0.024570240702247146\n",
      "Epoch:\t 11 Val Loss:\t 0.02455279176824263\n",
      "Epoch:\t 12 Val Loss:\t 0.024539263610536634\n"
     ]
    },
    {
     "name": "stderr",
     "output_type": "stream",
     "text": [
      "[I 2025-09-22 21:11:24,800] Trial 0 finished with value: 0.02452507201446001 and parameters: {'lr': 0.0001, 'weight_decay': 0.001, 'scheduler_factor': 0.8, 'scheduler_patience': 5, 'batch_size': 16, 'dropout': 0.15, 'hidden_dims': 128}. Best is trial 0 with value: 0.02452507201446001.\n"
     ]
    },
    {
     "name": "stdout",
     "output_type": "stream",
     "text": [
      "Epoch:\t 13 Val Loss:\t 0.024557343748314763\n",
      "Epoch:\t 0 Val Loss:\t 0.02113299512531926\n",
      "Epoch:\t 1 Val Loss:\t 0.02063604608908927\n",
      "Epoch:\t 2 Val Loss:\t 0.02040897907491382\n",
      "Epoch:\t 3 Val Loss:\t 0.020370168347631647\n",
      "Epoch:\t 4 Val Loss:\t 0.020353405363965852\n",
      "Epoch:\t 5 Val Loss:\t 0.020342849680393918\n",
      "Epoch:\t 6 Val Loss:\t 0.020334923821509542\n",
      "Epoch:\t 7 Val Loss:\t 0.020329148965350985\n",
      "Epoch:\t 8 Val Loss:\t 0.020336888799713022\n",
      "Epoch:\t 9 Val Loss:\t 0.020327483157362967\n",
      "Epoch:\t 10 Val Loss:\t 0.020331438213534916\n",
      "Epoch:\t 11 Val Loss:\t 0.02033369587242465\n",
      "Epoch:\t 12 Val Loss:\t 0.020322966112069313\n",
      "Epoch:\t 13 Val Loss:\t 0.020330823744413157\n",
      "Epoch:\t 14 Val Loss:\t 0.020333140140406904\n",
      "Epoch:\t 15 Val Loss:\t 0.02033704780669179\n",
      "Epoch:\t 16 Val Loss:\t 0.020325927221655708\n",
      "Epoch:\t 17 Val Loss:\t 0.020321348210709148\n",
      "Epoch:\t 18 Val Loss:\t 0.0203271845017262\n",
      "Epoch:\t 19 Val Loss:\t 0.020326136100607007\n",
      "Epoch:\t 20 Val Loss:\t 0.02033217383512943\n",
      "Epoch:\t 21 Val Loss:\t 0.020322527027258123\n",
      "Epoch:\t 22 Val Loss:\t 0.02032188761674486\n",
      "Epoch:\t 23 Val Loss:\t 0.020324973616526354\n",
      "Epoch:\t 24 Val Loss:\t 0.02031691269911242\n",
      "Epoch:\t 25 Val Loss:\t 0.020324036667098574\n",
      "Epoch:\t 26 Val Loss:\t 0.020316710316176618\n",
      "Epoch:\t 27 Val Loss:\t 0.020319511905286594\n",
      "Epoch:\t 28 Val Loss:\t 0.020317317957941766\n",
      "Epoch:\t 29 Val Loss:\t 0.02031496080699108\n",
      "Epoch:\t 30 Val Loss:\t 0.02031772604371079\n",
      "Epoch:\t 31 Val Loss:\t 0.020315781393527847\n",
      "Epoch:\t 32 Val Loss:\t 0.020310775727115774\n",
      "Epoch:\t 33 Val Loss:\t 0.020315015146933665\n",
      "Epoch:\t 34 Val Loss:\t 0.020309754597045832\n",
      "Epoch:\t 35 Val Loss:\t 0.02031187493531374\n",
      "Epoch:\t 36 Val Loss:\t 0.020312094544203768\n",
      "Epoch:\t 37 Val Loss:\t 0.020315691278474456\n",
      "Epoch:\t 38 Val Loss:\t 0.020315993607511233\n",
      "Epoch:\t 39 Val Loss:\t 0.020308865310469652\n",
      "Epoch:\t 40 Val Loss:\t 0.02030560252209666\n",
      "Epoch:\t 41 Val Loss:\t 0.020310462074645094\n",
      "Epoch:\t 42 Val Loss:\t 0.02031362599093798\n",
      "Epoch:\t 43 Val Loss:\t 0.020318081017607393\n",
      "Epoch:\t 44 Val Loss:\t 0.020316523774372965\n",
      "Epoch:\t 45 Val Loss:\t 0.020313383849230673\n",
      "Epoch:\t 46 Val Loss:\t 0.020309889166401314\n",
      "Epoch:\t 47 Val Loss:\t 0.020306853160210216\n",
      "Epoch:\t 48 Val Loss:\t 0.020308077861827884\n",
      "Epoch:\t 49 Val Loss:\t 0.02031103333158854\n",
      "Epoch:\t 50 Val Loss:\t 0.020304710120481594\n",
      "Epoch:\t 51 Val Loss:\t 0.02030746595857279\n",
      "Epoch:\t 52 Val Loss:\t 0.02030347783315237\n",
      "Epoch:\t 53 Val Loss:\t 0.02031125817977614\n",
      "Epoch:\t 54 Val Loss:\t 0.020309061053070093\n",
      "Epoch:\t 55 Val Loss:\t 0.02030960261147173\n",
      "Epoch:\t 56 Val Loss:\t 0.020317370287135667\n",
      "Epoch:\t 57 Val Loss:\t 0.02030874971782511\n",
      "Epoch:\t 58 Val Loss:\t 0.02030954476893467\n",
      "Epoch:\t 59 Val Loss:\t 0.02030449668059014\n",
      "Epoch:\t 60 Val Loss:\t 0.020306186275951266\n",
      "Epoch:\t 61 Val Loss:\t 0.02031224373364805\n"
     ]
    },
    {
     "name": "stderr",
     "output_type": "stream",
     "text": [
      "[I 2025-09-22 21:20:43,588] Trial 1 finished with value: 0.02030347783315237 and parameters: {'lr': 0.001, 'weight_decay': 1e-06, 'scheduler_factor': 0.8, 'scheduler_patience': 5, 'batch_size': 64, 'dropout': 0.15, 'hidden_dims': 1024}. Best is trial 1 with value: 0.02030347783315237.\n"
     ]
    },
    {
     "name": "stdout",
     "output_type": "stream",
     "text": [
      "Epoch:\t 62 Val Loss:\t 0.02031084415256908\n",
      "Epoch:\t 0 Val Loss:\t 0.03292313801396035\n",
      "Epoch:\t 1 Val Loss:\t 0.027812441976365832\n",
      "Epoch:\t 2 Val Loss:\t 0.025731055245443408\n",
      "Epoch:\t 3 Val Loss:\t 0.024467719582061363\n",
      "Epoch:\t 4 Val Loss:\t 0.02365625629961508\n",
      "Epoch:\t 5 Val Loss:\t 0.02345243345749323\n",
      "Epoch:\t 6 Val Loss:\t 0.02317187706039904\n",
      "Epoch:\t 7 Val Loss:\t 0.022862370191352767\n",
      "Epoch:\t 8 Val Loss:\t 0.022769199606967366\n",
      "Epoch:\t 9 Val Loss:\t 0.022744160399567368\n",
      "Epoch:\t 10 Val Loss:\t 0.0226139576394312\n",
      "Epoch:\t 11 Val Loss:\t 0.02269760688720352\n",
      "Epoch:\t 12 Val Loss:\t 0.022580362213705248\n",
      "Epoch:\t 13 Val Loss:\t 0.022569670903513202\n",
      "Epoch:\t 14 Val Loss:\t 0.022854710856125025\n",
      "Epoch:\t 15 Val Loss:\t 0.02286651296821086\n",
      "Epoch:\t 16 Val Loss:\t 0.022903345230138723\n",
      "Epoch:\t 17 Val Loss:\t 0.02307046896783993\n",
      "Epoch:\t 18 Val Loss:\t 0.02298050526625764\n",
      "Epoch:\t 19 Val Loss:\t 0.023115686685262\n",
      "Epoch:\t 20 Val Loss:\t 0.023257497162409494\n",
      "Epoch:\t 21 Val Loss:\t 0.023320741738499216\n",
      "Epoch:\t 22 Val Loss:\t 0.02319005175017456\n"
     ]
    },
    {
     "name": "stderr",
     "output_type": "stream",
     "text": [
      "[I 2025-09-22 21:25:20,220] Trial 2 finished with value: 0.022569670903513202 and parameters: {'lr': 1e-06, 'weight_decay': 0.0001, 'scheduler_factor': 0.3, 'scheduler_patience': 5, 'batch_size': 32, 'dropout': 0.2, 'hidden_dims': 256}. Best is trial 1 with value: 0.02030347783315237.\n"
     ]
    },
    {
     "name": "stdout",
     "output_type": "stream",
     "text": [
      "Epoch:\t 23 Val Loss:\t 0.023129384125811517\n",
      "Epoch:\t 0 Val Loss:\t 0.028737094032383243\n",
      "Epoch:\t 1 Val Loss:\t 0.023068235091171986\n",
      "Epoch:\t 2 Val Loss:\t 0.02178779027403094\n",
      "Epoch:\t 3 Val Loss:\t 0.02107485408873059\n",
      "Epoch:\t 4 Val Loss:\t 0.02029562643620857\n",
      "Epoch:\t 5 Val Loss:\t 0.020138194308031435\n",
      "Epoch:\t 6 Val Loss:\t 0.02016407395171565\n",
      "Epoch:\t 7 Val Loss:\t 0.02026717024313849\n",
      "Epoch:\t 8 Val Loss:\t 0.020222627566477587\n",
      "Epoch:\t 9 Val Loss:\t 0.020366372804828854\n",
      "Epoch:\t 10 Val Loss:\t 0.020366649394638316\n",
      "Epoch:\t 11 Val Loss:\t 0.02041101742882368\n",
      "Epoch:\t 12 Val Loss:\t 0.020396044716065705\n",
      "Epoch:\t 13 Val Loss:\t 0.020408047636061213\n",
      "Epoch:\t 14 Val Loss:\t 0.020384608841566152\n"
     ]
    },
    {
     "name": "stderr",
     "output_type": "stream",
     "text": [
      "[I 2025-09-22 21:26:52,592] Trial 3 finished with value: 0.020138194308031435 and parameters: {'lr': 1e-05, 'weight_decay': 0.001, 'scheduler_factor': 0.5, 'scheduler_patience': 5, 'batch_size': 256, 'dropout': 0.1, 'hidden_dims': 1024}. Best is trial 3 with value: 0.020138194308031435.\n"
     ]
    },
    {
     "name": "stdout",
     "output_type": "stream",
     "text": [
      "Epoch:\t 15 Val Loss:\t 0.020384253856054572\n",
      "Epoch:\t 0 Val Loss:\t 0.02008730221433793\n",
      "Epoch:\t 1 Val Loss:\t 0.020031994445442947\n",
      "Epoch:\t 2 Val Loss:\t 0.020027582133129385\n",
      "Epoch:\t 3 Val Loss:\t 0.020022316822307578\n",
      "Epoch:\t 4 Val Loss:\t 0.020012558709767345\n",
      "Epoch:\t 5 Val Loss:\t 0.020028191613756633\n",
      "Epoch:\t 6 Val Loss:\t 0.020006197629560237\n",
      "Epoch:\t 7 Val Loss:\t 0.020014223689132315\n",
      "Epoch:\t 8 Val Loss:\t 0.020020972462765574\n",
      "Epoch:\t 9 Val Loss:\t 0.02001713891959578\n",
      "Epoch:\t 10 Val Loss:\t 0.02001799216782604\n",
      "Epoch:\t 11 Val Loss:\t 0.020010465253912046\n",
      "Epoch:\t 12 Val Loss:\t 0.020003196260677265\n",
      "Epoch:\t 13 Val Loss:\t 0.020011002906488426\n",
      "Epoch:\t 14 Val Loss:\t 0.02000143398648075\n",
      "Epoch:\t 15 Val Loss:\t 0.019999701764328633\n",
      "Epoch:\t 16 Val Loss:\t 0.020010279849911074\n",
      "Epoch:\t 17 Val Loss:\t 0.02002372405342044\n",
      "Epoch:\t 18 Val Loss:\t 0.02000788263479292\n",
      "Epoch:\t 19 Val Loss:\t 0.020013766928110542\n",
      "Epoch:\t 20 Val Loss:\t 0.020009095182732067\n",
      "Epoch:\t 21 Val Loss:\t 0.020020270233112265\n",
      "Epoch:\t 22 Val Loss:\t 0.0200115501387688\n",
      "Epoch:\t 23 Val Loss:\t 0.020009215437935247\n",
      "Epoch:\t 24 Val Loss:\t 0.02000175980235938\n"
     ]
    },
    {
     "name": "stderr",
     "output_type": "stream",
     "text": [
      "[I 2025-09-22 21:30:09,241] Trial 4 finished with value: 0.019999701764328633 and parameters: {'lr': 0.001, 'weight_decay': 1e-05, 'scheduler_factor': 0.5, 'scheduler_patience': 10, 'batch_size': 64, 'dropout': 0.05, 'hidden_dims': 128}. Best is trial 4 with value: 0.019999701764328633.\n"
     ]
    },
    {
     "name": "stdout",
     "output_type": "stream",
     "text": [
      "Epoch:\t 25 Val Loss:\t 0.020009491060229662\n"
     ]
    },
    {
     "name": "stderr",
     "output_type": "stream",
     "text": [
      "[I 2025-09-22 21:30:16,957] Trial 5 pruned. \n"
     ]
    },
    {
     "name": "stdout",
     "output_type": "stream",
     "text": [
      "Epoch:\t 0 Val Loss:\t 0.024657102700623396\n",
      "Epoch:\t 0 Val Loss:\t 0.02226453719099387\n",
      "Epoch:\t 1 Val Loss:\t 0.021683913782313543\n",
      "Epoch:\t 2 Val Loss:\t 0.02283372002333969\n"
     ]
    },
    {
     "name": "stderr",
     "output_type": "stream",
     "text": [
      "[I 2025-09-22 21:31:45,555] Trial 6 pruned. \n"
     ]
    },
    {
     "name": "stdout",
     "output_type": "stream",
     "text": [
      "Epoch:\t 3 Val Loss:\t 0.023890867366836644\n",
      "Epoch:\t 0 Val Loss:\t 0.02142890084772139\n",
      "Epoch:\t 1 Val Loss:\t 0.021500269302753245\n",
      "Epoch:\t 2 Val Loss:\t 0.02119697100890512\n",
      "Epoch:\t 3 Val Loss:\t 0.020907748762280912\n"
     ]
    },
    {
     "name": "stderr",
     "output_type": "stream",
     "text": [
      "[I 2025-09-22 21:33:34,822] Trial 7 pruned. \n"
     ]
    },
    {
     "name": "stdout",
     "output_type": "stream",
     "text": [
      "Epoch:\t 4 Val Loss:\t 0.020467727328735096\n"
     ]
    },
    {
     "name": "stderr",
     "output_type": "stream",
     "text": [
      "[I 2025-09-22 21:33:57,348] Trial 8 pruned. \n"
     ]
    },
    {
     "name": "stdout",
     "output_type": "stream",
     "text": [
      "Epoch:\t 0 Val Loss:\t 0.025721755033326774\n"
     ]
    },
    {
     "name": "stderr",
     "output_type": "stream",
     "text": [
      "[I 2025-09-22 21:34:04,791] Trial 9 pruned. \n"
     ]
    },
    {
     "name": "stdout",
     "output_type": "stream",
     "text": [
      "Epoch:\t 0 Val Loss:\t 0.05697809749142901\n",
      "Epoch:\t 0 Val Loss:\t 0.020283000316561724\n",
      "Epoch:\t 1 Val Loss:\t 0.020034689008410798\n",
      "Epoch:\t 2 Val Loss:\t 0.02002126217520126\n",
      "Epoch:\t 3 Val Loss:\t 0.020004095860111173\n",
      "Epoch:\t 4 Val Loss:\t 0.020002457582576766\n",
      "Epoch:\t 5 Val Loss:\t 0.01999616327627403\n",
      "Epoch:\t 6 Val Loss:\t 0.01999651209281435\n",
      "Epoch:\t 7 Val Loss:\t 0.01999416553418603\n",
      "Epoch:\t 8 Val Loss:\t 0.019921374101620103\n",
      "Epoch:\t 9 Val Loss:\t 0.019915452694280224\n",
      "Epoch:\t 10 Val Loss:\t 0.019902075252535727\n",
      "Epoch:\t 11 Val Loss:\t 0.019901747011626086\n",
      "Epoch:\t 12 Val Loss:\t 0.019900164730267105\n",
      "Epoch:\t 13 Val Loss:\t 0.019895612423359032\n",
      "Epoch:\t 14 Val Loss:\t 0.019895494040469537\n",
      "Epoch:\t 15 Val Loss:\t 0.019894435709725274\n",
      "Epoch:\t 16 Val Loss:\t 0.01989423101129709\n",
      "Epoch:\t 17 Val Loss:\t 0.01989443089843281\n",
      "Epoch:\t 18 Val Loss:\t 0.01989549048175726\n",
      "Epoch:\t 19 Val Loss:\t 0.019897115815963064\n",
      "Epoch:\t 20 Val Loss:\t 0.01989577746972805\n",
      "Epoch:\t 21 Val Loss:\t 0.019896006402013333\n",
      "Epoch:\t 22 Val Loss:\t 0.019894565718462657\n",
      "Epoch:\t 23 Val Loss:\t 0.019896716826988015\n",
      "Epoch:\t 24 Val Loss:\t 0.01989591692581894\n",
      "Epoch:\t 25 Val Loss:\t 0.01989506492250611\n"
     ]
    },
    {
     "name": "stderr",
     "output_type": "stream",
     "text": [
      "[I 2025-09-22 21:36:55,909] Trial 10 finished with value: 0.01989423101129709 and parameters: {'lr': 0.001, 'weight_decay': 1e-05, 'scheduler_factor': 0.1, 'scheduler_patience': 1, 'batch_size': 128, 'dropout': 0.05, 'hidden_dims': 128}. Best is trial 10 with value: 0.01989423101129709.\n"
     ]
    },
    {
     "name": "stdout",
     "output_type": "stream",
     "text": [
      "Epoch:\t 26 Val Loss:\t 0.019896741541109018\n",
      "Epoch:\t 0 Val Loss:\t 0.020443964667367327\n",
      "Epoch:\t 1 Val Loss:\t 0.020032329393959627\n",
      "Epoch:\t 2 Val Loss:\t 0.020020689306895354\n",
      "Epoch:\t 3 Val Loss:\t 0.019999563600976156\n",
      "Epoch:\t 4 Val Loss:\t 0.020010816883057805\n",
      "Epoch:\t 5 Val Loss:\t 0.019989985786594718\n",
      "Epoch:\t 6 Val Loss:\t 0.019992983981136244\n",
      "Epoch:\t 7 Val Loss:\t 0.019993581204446904\n",
      "Epoch:\t 8 Val Loss:\t 0.01992518843760612\n",
      "Epoch:\t 9 Val Loss:\t 0.019916768362107453\n",
      "Epoch:\t 10 Val Loss:\t 0.019899908602497303\n",
      "Epoch:\t 11 Val Loss:\t 0.01990549542814597\n",
      "Epoch:\t 12 Val Loss:\t 0.019904214505897997\n",
      "Epoch:\t 13 Val Loss:\t 0.019899338488137127\n",
      "Epoch:\t 14 Val Loss:\t 0.019892850659277105\n",
      "Epoch:\t 15 Val Loss:\t 0.019896278834959077\n",
      "Epoch:\t 16 Val Loss:\t 0.019894711673259735\n",
      "Epoch:\t 17 Val Loss:\t 0.01989363602272794\n",
      "Epoch:\t 18 Val Loss:\t 0.019893604104648344\n",
      "Epoch:\t 19 Val Loss:\t 0.0198960557350679\n",
      "Epoch:\t 20 Val Loss:\t 0.019892013583085677\n",
      "Epoch:\t 21 Val Loss:\t 0.019894797742176416\n",
      "Epoch:\t 22 Val Loss:\t 0.01989487326043062\n",
      "Epoch:\t 23 Val Loss:\t 0.01989541709224037\n",
      "Epoch:\t 24 Val Loss:\t 0.01989675498849839\n",
      "Epoch:\t 25 Val Loss:\t 0.019891500886222487\n",
      "Epoch:\t 26 Val Loss:\t 0.0198927437919046\n",
      "Epoch:\t 27 Val Loss:\t 0.019895990137941053\n",
      "Epoch:\t 28 Val Loss:\t 0.019894578945190235\n",
      "Epoch:\t 29 Val Loss:\t 0.01989312563199684\n",
      "Epoch:\t 30 Val Loss:\t 0.019893993793377755\n",
      "Epoch:\t 31 Val Loss:\t 0.019895321554336674\n",
      "Epoch:\t 32 Val Loss:\t 0.01989415090673892\n",
      "Epoch:\t 33 Val Loss:\t 0.01989318207598591\n",
      "Epoch:\t 34 Val Loss:\t 0.01989459939534656\n"
     ]
    },
    {
     "name": "stderr",
     "output_type": "stream",
     "text": [
      "[I 2025-09-22 21:40:49,885] Trial 11 finished with value: 0.019891500886222487 and parameters: {'lr': 0.001, 'weight_decay': 1e-05, 'scheduler_factor': 0.1, 'scheduler_patience': 1, 'batch_size': 128, 'dropout': 0.05, 'hidden_dims': 128}. Best is trial 11 with value: 0.019891500886222487.\n"
     ]
    },
    {
     "name": "stdout",
     "output_type": "stream",
     "text": [
      "Epoch:\t 35 Val Loss:\t 0.01989244753397508\n",
      "Epoch:\t 0 Val Loss:\t 0.020440573645074192\n",
      "Epoch:\t 1 Val Loss:\t 0.020031043883244334\n",
      "Epoch:\t 2 Val Loss:\t 0.02001768669046453\n",
      "Epoch:\t 3 Val Loss:\t 0.020006245276896102\n",
      "Epoch:\t 4 Val Loss:\t 0.019998172401914614\n",
      "Epoch:\t 5 Val Loss:\t 0.02000190786212579\n",
      "Epoch:\t 6 Val Loss:\t 0.02000362703600481\n",
      "Epoch:\t 7 Val Loss:\t 0.019928079693384563\n",
      "Epoch:\t 8 Val Loss:\t 0.01991667988970789\n",
      "Epoch:\t 9 Val Loss:\t 0.019904201724820714\n",
      "Epoch:\t 10 Val Loss:\t 0.019906747936942852\n",
      "Epoch:\t 11 Val Loss:\t 0.019907824011491427\n",
      "Epoch:\t 12 Val Loss:\t 0.019893402536588955\n",
      "Epoch:\t 13 Val Loss:\t 0.019899579576291272\n",
      "Epoch:\t 14 Val Loss:\t 0.019894763202115494\n",
      "Epoch:\t 15 Val Loss:\t 0.0198937990615073\n",
      "Epoch:\t 16 Val Loss:\t 0.019892231852214233\n",
      "Epoch:\t 17 Val Loss:\t 0.019894597643032308\n",
      "Epoch:\t 18 Val Loss:\t 0.01989374348502195\n",
      "Epoch:\t 19 Val Loss:\t 0.019892337367492408\n",
      "Epoch:\t 20 Val Loss:\t 0.01989593414609233\n",
      "Epoch:\t 21 Val Loss:\t 0.019893051541554248\n",
      "Epoch:\t 22 Val Loss:\t 0.019894292967504324\n",
      "Epoch:\t 23 Val Loss:\t 0.019893462783748955\n",
      "Epoch:\t 24 Val Loss:\t 0.01989400888707718\n",
      "Epoch:\t 25 Val Loss:\t 0.019892574542144728\n"
     ]
    },
    {
     "name": "stderr",
     "output_type": "stream",
     "text": [
      "[I 2025-09-22 21:43:38,611] Trial 12 finished with value: 0.019892231852214233 and parameters: {'lr': 0.001, 'weight_decay': 1e-05, 'scheduler_factor': 0.1, 'scheduler_patience': 1, 'batch_size': 128, 'dropout': 0.05, 'hidden_dims': 128}. Best is trial 11 with value: 0.019891500886222487.\n"
     ]
    },
    {
     "name": "stdout",
     "output_type": "stream",
     "text": [
      "Epoch:\t 26 Val Loss:\t 0.01989377463727532\n",
      "Epoch:\t 0 Val Loss:\t 0.02042911886632373\n",
      "Epoch:\t 1 Val Loss:\t 0.020021259507789567\n",
      "Epoch:\t 2 Val Loss:\t 0.020015190986096512\n",
      "Epoch:\t 3 Val Loss:\t 0.019997400174330614\n",
      "Epoch:\t 4 Val Loss:\t 0.020004494712795116\n",
      "Epoch:\t 5 Val Loss:\t 0.020001718865298643\n",
      "Epoch:\t 6 Val Loss:\t 0.01992941229159616\n",
      "Epoch:\t 7 Val Loss:\t 0.0199168937304571\n",
      "Epoch:\t 8 Val Loss:\t 0.01990488631722196\n",
      "Epoch:\t 9 Val Loss:\t 0.019905988509906294\n",
      "Epoch:\t 10 Val Loss:\t 0.01990510953177074\n",
      "Epoch:\t 11 Val Loss:\t 0.019898054729736086\n",
      "Epoch:\t 12 Val Loss:\t 0.01989725062950286\n",
      "Epoch:\t 13 Val Loss:\t 0.019897573823314786\n",
      "Epoch:\t 14 Val Loss:\t 0.01989877229160548\n",
      "Epoch:\t 15 Val Loss:\t 0.019895690241255273\n",
      "Epoch:\t 16 Val Loss:\t 0.01989651559857472\n",
      "Epoch:\t 17 Val Loss:\t 0.019898276977267\n",
      "Epoch:\t 18 Val Loss:\t 0.019895593760130573\n",
      "Epoch:\t 19 Val Loss:\t 0.019896835879434624\n",
      "Epoch:\t 20 Val Loss:\t 0.019896081444330332\n",
      "Epoch:\t 21 Val Loss:\t 0.019895391151499388\n",
      "Epoch:\t 22 Val Loss:\t 0.01989566275588173\n",
      "Epoch:\t 23 Val Loss:\t 0.019897333771405734\n",
      "Epoch:\t 24 Val Loss:\t 0.01989530756394622\n"
     ]
    },
    {
     "name": "stderr",
     "output_type": "stream",
     "text": [
      "[I 2025-09-22 21:46:20,803] Trial 13 pruned. \n"
     ]
    },
    {
     "name": "stdout",
     "output_type": "stream",
     "text": [
      "Epoch:\t 25 Val Loss:\t 0.019897722248658625\n"
     ]
    },
    {
     "name": "stderr",
     "output_type": "stream",
     "text": [
      "[I 2025-09-22 21:46:27,195] Trial 14 pruned. \n"
     ]
    },
    {
     "name": "stdout",
     "output_type": "stream",
     "text": [
      "Epoch:\t 0 Val Loss:\t 0.023601707220337116\n",
      "Epoch:\t 0 Val Loss:\t 0.020330761244540016\n",
      "Epoch:\t 1 Val Loss:\t 0.020092655174460145\n",
      "Epoch:\t 2 Val Loss:\t 0.02004640356883078\n",
      "Epoch:\t 3 Val Loss:\t 0.020025189295324576\n",
      "Epoch:\t 4 Val Loss:\t 0.0200269280518562\n",
      "Epoch:\t 5 Val Loss:\t 0.01999710493533938\n",
      "Epoch:\t 6 Val Loss:\t 0.02000488402077476\n",
      "Epoch:\t 7 Val Loss:\t 0.01999982028040044\n",
      "Epoch:\t 8 Val Loss:\t 0.019930266164044193\n",
      "Epoch:\t 9 Val Loss:\t 0.019923171755380747\n",
      "Epoch:\t 10 Val Loss:\t 0.019911831102045155\n",
      "Epoch:\t 11 Val Loss:\t 0.019907852067989618\n",
      "Epoch:\t 12 Val Loss:\t 0.019906756529772737\n",
      "Epoch:\t 13 Val Loss:\t 0.01990617511190396\n",
      "Epoch:\t 14 Val Loss:\t 0.0198987419203218\n",
      "Epoch:\t 15 Val Loss:\t 0.019899908766911976\n",
      "Epoch:\t 16 Val Loss:\t 0.01989893894534424\n",
      "Epoch:\t 17 Val Loss:\t 0.0198984559685961\n",
      "Epoch:\t 18 Val Loss:\t 0.01989579040440325\n",
      "Epoch:\t 19 Val Loss:\t 0.019898485731978173\n",
      "Epoch:\t 20 Val Loss:\t 0.019899058522403448\n",
      "Epoch:\t 21 Val Loss:\t 0.01989752641996925\n",
      "Epoch:\t 22 Val Loss:\t 0.01989566205711938\n",
      "Epoch:\t 23 Val Loss:\t 0.019897162122489685\n",
      "Epoch:\t 24 Val Loss:\t 0.01989761296265978\n"
     ]
    },
    {
     "name": "stderr",
     "output_type": "stream",
     "text": [
      "[I 2025-09-22 21:49:11,495] Trial 15 pruned. \n"
     ]
    },
    {
     "name": "stdout",
     "output_type": "stream",
     "text": [
      "Epoch:\t 25 Val Loss:\t 0.019896425419291274\n",
      "Epoch:\t 0 Val Loss:\t 0.020406443244938788\n",
      "Epoch:\t 1 Val Loss:\t 0.020049088886580954\n",
      "Epoch:\t 2 Val Loss:\t 0.02001140701490412\n",
      "Epoch:\t 3 Val Loss:\t 0.020016948174378043\n",
      "Epoch:\t 4 Val Loss:\t 0.02000891623432282\n",
      "Epoch:\t 5 Val Loss:\t 0.020013755332336746\n",
      "Epoch:\t 6 Val Loss:\t 0.019984301664238053\n",
      "Epoch:\t 7 Val Loss:\t 0.019990857798740286\n",
      "Epoch:\t 8 Val Loss:\t 0.019982254628035802\n",
      "Epoch:\t 9 Val Loss:\t 0.01999846334232755\n",
      "Epoch:\t 10 Val Loss:\t 0.019993283970846116\n",
      "Epoch:\t 11 Val Loss:\t 0.01991843714288995\n",
      "Epoch:\t 12 Val Loss:\t 0.019913050003185367\n",
      "Epoch:\t 13 Val Loss:\t 0.01989890235442664\n",
      "Epoch:\t 14 Val Loss:\t 0.019903552094333817\n",
      "Epoch:\t 15 Val Loss:\t 0.019901700791633503\n",
      "Epoch:\t 16 Val Loss:\t 0.0198919897451218\n",
      "Epoch:\t 17 Val Loss:\t 0.01989508385399008\n",
      "Epoch:\t 18 Val Loss:\t 0.019896703124323234\n",
      "Epoch:\t 19 Val Loss:\t 0.019893209241183516\n",
      "Epoch:\t 20 Val Loss:\t 0.019893422127894963\n",
      "Epoch:\t 21 Val Loss:\t 0.019893091433745368\n",
      "Epoch:\t 22 Val Loss:\t 0.019892975770187987\n",
      "Epoch:\t 23 Val Loss:\t 0.019894859321960588\n",
      "Epoch:\t 24 Val Loss:\t 0.019892829393537478\n",
      "Epoch:\t 25 Val Loss:\t 0.019893344039579857\n"
     ]
    },
    {
     "name": "stderr",
     "output_type": "stream",
     "text": [
      "[I 2025-09-22 21:51:59,689] Trial 16 finished with value: 0.0198919897451218 and parameters: {'lr': 0.001, 'weight_decay': 1e-05, 'scheduler_factor': 0.1, 'scheduler_patience': 1, 'batch_size': 128, 'dropout': 0.05, 'hidden_dims': 128}. Best is trial 11 with value: 0.019891500886222487.\n"
     ]
    },
    {
     "name": "stdout",
     "output_type": "stream",
     "text": [
      "Epoch:\t 26 Val Loss:\t 0.01989455398228387\n"
     ]
    },
    {
     "name": "stderr",
     "output_type": "stream",
     "text": [
      "[I 2025-09-22 21:52:05,661] Trial 17 pruned. \n"
     ]
    },
    {
     "name": "stdout",
     "output_type": "stream",
     "text": [
      "Epoch:\t 0 Val Loss:\t 0.020563154048178087\n"
     ]
    },
    {
     "name": "stderr",
     "output_type": "stream",
     "text": [
      "[I 2025-09-22 21:52:16,354] Trial 18 pruned. \n"
     ]
    },
    {
     "name": "stdout",
     "output_type": "stream",
     "text": [
      "Epoch:\t 0 Val Loss:\t 0.021044232118799116\n",
      "Epoch:\t 0 Val Loss:\t 0.020114487549776815\n"
     ]
    },
    {
     "name": "stderr",
     "output_type": "stream",
     "text": [
      "[I 2025-09-22 21:52:28,861] Trial 19 pruned. \n"
     ]
    },
    {
     "name": "stdout",
     "output_type": "stream",
     "text": [
      "Epoch:\t 1 Val Loss:\t 0.02009506669635349\n"
     ]
    },
    {
     "name": "stderr",
     "output_type": "stream",
     "text": [
      "[I 2025-09-22 21:52:35,424] Trial 20 pruned. \n"
     ]
    },
    {
     "name": "stdout",
     "output_type": "stream",
     "text": [
      "Epoch:\t 0 Val Loss:\t 0.021169272587828244\n",
      "Epoch:\t 0 Val Loss:\t 0.020321808467672123\n",
      "Epoch:\t 1 Val Loss:\t 0.020027030244227348\n",
      "Epoch:\t 2 Val Loss:\t 0.02003284685019486\n",
      "Epoch:\t 3 Val Loss:\t 0.020005042947024\n",
      "Epoch:\t 4 Val Loss:\t 0.020013172036679364\n",
      "Epoch:\t 5 Val Loss:\t 0.020000939444572808\n",
      "Epoch:\t 6 Val Loss:\t 0.019996271802936696\n",
      "Epoch:\t 7 Val Loss:\t 0.020004473107409396\n",
      "Epoch:\t 8 Val Loss:\t 0.01999550570628923\n",
      "Epoch:\t 9 Val Loss:\t 0.01993163362681935\n",
      "Epoch:\t 10 Val Loss:\t 0.019923312548422507\n",
      "Epoch:\t 11 Val Loss:\t 0.019908698630474862\n",
      "Epoch:\t 12 Val Loss:\t 0.019907345426345674\n",
      "Epoch:\t 13 Val Loss:\t 0.01990805026122156\n",
      "Epoch:\t 14 Val Loss:\t 0.019898294234317354\n",
      "Epoch:\t 15 Val Loss:\t 0.019896852142425227\n"
     ]
    },
    {
     "name": "stderr",
     "output_type": "stream",
     "text": [
      "[I 2025-09-22 21:54:20,131] Trial 21 pruned. \n"
     ]
    },
    {
     "name": "stdout",
     "output_type": "stream",
     "text": [
      "Epoch:\t 16 Val Loss:\t 0.01989828464418269\n",
      "Epoch:\t 0 Val Loss:\t 0.020353768122545794\n",
      "Epoch:\t 1 Val Loss:\t 0.020028944035319223\n",
      "Epoch:\t 2 Val Loss:\t 0.020001900582449914\n",
      "Epoch:\t 3 Val Loss:\t 0.0199984337455235\n",
      "Epoch:\t 4 Val Loss:\t 0.019998662686462186\n",
      "Epoch:\t 5 Val Loss:\t 0.019985785175647055\n",
      "Epoch:\t 6 Val Loss:\t 0.01999865906068603\n",
      "Epoch:\t 7 Val Loss:\t 0.01998925718298219\n",
      "Epoch:\t 8 Val Loss:\t 0.01992532490610938\n",
      "Epoch:\t 9 Val Loss:\t 0.01991459362546326\n",
      "Epoch:\t 10 Val Loss:\t 0.019910117767050293\n",
      "Epoch:\t 11 Val Loss:\t 0.01990803577109704\n",
      "Epoch:\t 12 Val Loss:\t 0.019908025579550816\n",
      "Epoch:\t 13 Val Loss:\t 0.019905593257038296\n",
      "Epoch:\t 14 Val Loss:\t 0.01990097573158979\n",
      "Epoch:\t 15 Val Loss:\t 0.019905251707193743\n"
     ]
    },
    {
     "name": "stderr",
     "output_type": "stream",
     "text": [
      "[I 2025-09-22 21:56:05,394] Trial 22 pruned. \n"
     ]
    },
    {
     "name": "stdout",
     "output_type": "stream",
     "text": [
      "Epoch:\t 16 Val Loss:\t 0.019905630382303578\n",
      "Epoch:\t 0 Val Loss:\t 0.0203352202396325\n",
      "Epoch:\t 1 Val Loss:\t 0.02002952319032293\n",
      "Epoch:\t 2 Val Loss:\t 0.0200201164450795\n",
      "Epoch:\t 3 Val Loss:\t 0.020011966823060477\n",
      "Epoch:\t 4 Val Loss:\t 0.020002987873973054\n",
      "Epoch:\t 5 Val Loss:\t 0.019991457306549523\n",
      "Epoch:\t 6 Val Loss:\t 0.019991907874137405\n",
      "Epoch:\t 7 Val Loss:\t 0.019994220176103777\n",
      "Epoch:\t 8 Val Loss:\t 0.019931801970135183\n",
      "Epoch:\t 9 Val Loss:\t 0.019921995522010894\n",
      "Epoch:\t 10 Val Loss:\t 0.01990945794285382\n",
      "Epoch:\t 11 Val Loss:\t 0.019906567091622005\n",
      "Epoch:\t 12 Val Loss:\t 0.019908890926412175\n",
      "Epoch:\t 13 Val Loss:\t 0.019908639133997635\n",
      "Epoch:\t 14 Val Loss:\t 0.019895976740308755\n",
      "Epoch:\t 15 Val Loss:\t 0.019896254032140688\n"
     ]
    },
    {
     "name": "stderr",
     "output_type": "stream",
     "text": [
      "[I 2025-09-22 21:57:51,403] Trial 23 pruned. \n"
     ]
    },
    {
     "name": "stdout",
     "output_type": "stream",
     "text": [
      "Epoch:\t 16 Val Loss:\t 0.019901281869543\n",
      "Epoch:\t 0 Val Loss:\t 0.020438962961080876\n",
      "Epoch:\t 1 Val Loss:\t 0.020031323238913053\n",
      "Epoch:\t 2 Val Loss:\t 0.02001290739612366\n",
      "Epoch:\t 3 Val Loss:\t 0.01999511572118074\n",
      "Epoch:\t 4 Val Loss:\t 0.019998810110174542\n",
      "Epoch:\t 5 Val Loss:\t 0.01999317490767242\n",
      "Epoch:\t 6 Val Loss:\t 0.01993192902157185\n",
      "Epoch:\t 7 Val Loss:\t 0.019920689439991625\n",
      "Epoch:\t 8 Val Loss:\t 0.019906864751402926\n",
      "Epoch:\t 9 Val Loss:\t 0.019904852168727557\n",
      "Epoch:\t 10 Val Loss:\t 0.01990724911396235\n",
      "Epoch:\t 11 Val Loss:\t 0.01990657896192855\n",
      "Epoch:\t 12 Val Loss:\t 0.019897451539903566\n",
      "Epoch:\t 13 Val Loss:\t 0.019896654740979725\n",
      "Epoch:\t 14 Val Loss:\t 0.019897280496725775\n",
      "Epoch:\t 15 Val Loss:\t 0.01989539823863703\n"
     ]
    },
    {
     "name": "stderr",
     "output_type": "stream",
     "text": [
      "[I 2025-09-22 21:59:38,245] Trial 24 pruned. \n"
     ]
    },
    {
     "name": "stdout",
     "output_type": "stream",
     "text": [
      "Epoch:\t 16 Val Loss:\t 0.019898263064757178\n",
      "Epoch:\t 0 Val Loss:\t 0.020100392015824916\n"
     ]
    },
    {
     "name": "stderr",
     "output_type": "stream",
     "text": [
      "[I 2025-09-22 22:00:02,215] Trial 25 pruned. \n"
     ]
    },
    {
     "name": "stdout",
     "output_type": "stream",
     "text": [
      "Epoch:\t 1 Val Loss:\t 0.020056388580072207\n"
     ]
    },
    {
     "name": "stderr",
     "output_type": "stream",
     "text": [
      "[I 2025-09-22 22:00:08,457] Trial 26 pruned. \n"
     ]
    },
    {
     "name": "stdout",
     "output_type": "stream",
     "text": [
      "Epoch:\t 0 Val Loss:\t 0.07775334405532143\n"
     ]
    },
    {
     "name": "stderr",
     "output_type": "stream",
     "text": [
      "[I 2025-09-22 22:00:14,457] Trial 27 pruned. \n"
     ]
    },
    {
     "name": "stdout",
     "output_type": "stream",
     "text": [
      "Epoch:\t 0 Val Loss:\t 0.03977032575842946\n"
     ]
    },
    {
     "name": "stderr",
     "output_type": "stream",
     "text": [
      "[I 2025-09-22 22:00:20,930] Trial 28 pruned. \n"
     ]
    },
    {
     "name": "stdout",
     "output_type": "stream",
     "text": [
      "Epoch:\t 0 Val Loss:\t 0.02091229340963663\n"
     ]
    },
    {
     "name": "stderr",
     "output_type": "stream",
     "text": [
      "[I 2025-09-22 22:00:27,449] Trial 29 pruned. \n"
     ]
    },
    {
     "name": "stdout",
     "output_type": "stream",
     "text": [
      "Epoch:\t 0 Val Loss:\t 0.02074306043520414\n",
      "Epoch:\t 0 Val Loss:\t 0.020253488170924087\n"
     ]
    },
    {
     "name": "stderr",
     "output_type": "stream",
     "text": [
      "[I 2025-09-22 22:00:40,186] Trial 30 pruned. \n"
     ]
    },
    {
     "name": "stdout",
     "output_type": "stream",
     "text": [
      "Epoch:\t 1 Val Loss:\t 0.020098545165617845\n",
      "Epoch:\t 0 Val Loss:\t 0.020349411285210846\n",
      "Epoch:\t 1 Val Loss:\t 0.02004506490674653\n",
      "Epoch:\t 2 Val Loss:\t 0.02001824809950057\n",
      "Epoch:\t 3 Val Loss:\t 0.020013750287402383\n",
      "Epoch:\t 4 Val Loss:\t 0.0200062696167574\n",
      "Epoch:\t 5 Val Loss:\t 0.01998687674627833\n",
      "Epoch:\t 6 Val Loss:\t 0.01999770619762622\n",
      "Epoch:\t 7 Val Loss:\t 0.019982810265251567\n",
      "Epoch:\t 8 Val Loss:\t 0.019998902522036146\n",
      "Epoch:\t 9 Val Loss:\t 0.019981627898781835\n",
      "Epoch:\t 10 Val Loss:\t 0.019919362429715478\n",
      "Epoch:\t 11 Val Loss:\t 0.019919923589966162\n",
      "Epoch:\t 12 Val Loss:\t 0.01990222340962405\n",
      "Epoch:\t 13 Val Loss:\t 0.019908428189975323\n",
      "Epoch:\t 14 Val Loss:\t 0.019909203377023392\n",
      "Epoch:\t 15 Val Loss:\t 0.019893804463394567\n",
      "Epoch:\t 16 Val Loss:\t 0.01989460366363794\n",
      "Epoch:\t 17 Val Loss:\t 0.01989542101223225\n",
      "Epoch:\t 18 Val Loss:\t 0.019893552296720317\n",
      "Epoch:\t 19 Val Loss:\t 0.019895285147303904\n",
      "Epoch:\t 20 Val Loss:\t 0.019894871335048293\n",
      "Epoch:\t 21 Val Loss:\t 0.019894011102348532\n",
      "Epoch:\t 22 Val Loss:\t 0.01989438468493028\n",
      "Epoch:\t 23 Val Loss:\t 0.019894215465457322\n",
      "Epoch:\t 24 Val Loss:\t 0.019895913088034393\n",
      "Epoch:\t 25 Val Loss:\t 0.019894833394199715\n",
      "Epoch:\t 26 Val Loss:\t 0.019893991515369226\n",
      "Epoch:\t 27 Val Loss:\t 0.019894408717595742\n"
     ]
    },
    {
     "name": "stderr",
     "output_type": "stream",
     "text": [
      "[I 2025-09-22 22:03:42,010] Trial 31 finished with value: 0.019893552296720317 and parameters: {'lr': 0.001, 'weight_decay': 1e-05, 'scheduler_factor': 0.1, 'scheduler_patience': 1, 'batch_size': 128, 'dropout': 0.05, 'hidden_dims': 128}. Best is trial 11 with value: 0.019891500886222487.\n"
     ]
    },
    {
     "name": "stdout",
     "output_type": "stream",
     "text": [
      "Epoch:\t 28 Val Loss:\t 0.019897099393966167\n",
      "Epoch:\t 0 Val Loss:\t 0.0204314055282549\n",
      "Epoch:\t 1 Val Loss:\t 0.02003182747707411\n",
      "Epoch:\t 2 Val Loss:\t 0.02002428759118752\n",
      "Epoch:\t 3 Val Loss:\t 0.02000929411548286\n",
      "Epoch:\t 4 Val Loss:\t 0.020010273165905656\n",
      "Epoch:\t 5 Val Loss:\t 0.02000459006897733\n",
      "Epoch:\t 6 Val Loss:\t 0.020008357518658683\n"
     ]
    },
    {
     "name": "stderr",
     "output_type": "stream",
     "text": [
      "[I 2025-09-22 22:04:30,761] Trial 32 pruned. \n"
     ]
    },
    {
     "name": "stdout",
     "output_type": "stream",
     "text": [
      "Epoch:\t 7 Val Loss:\t 0.020009778967856252\n"
     ]
    },
    {
     "name": "stderr",
     "output_type": "stream",
     "text": [
      "[I 2025-09-22 22:04:36,845] Trial 33 pruned. \n"
     ]
    },
    {
     "name": "stdout",
     "output_type": "stream",
     "text": [
      "Epoch:\t 0 Val Loss:\t 0.02112656591393045\n",
      "Epoch:\t 0 Val Loss:\t 0.02008471757663253\n",
      "Epoch:\t 1 Val Loss:\t 0.020045124558116797\n"
     ]
    },
    {
     "name": "stderr",
     "output_type": "stream",
     "text": [
      "[I 2025-09-22 22:05:10,662] Trial 34 pruned. \n"
     ]
    },
    {
     "name": "stdout",
     "output_type": "stream",
     "text": [
      "Epoch:\t 2 Val Loss:\t 0.020052424843627927\n"
     ]
    },
    {
     "name": "stderr",
     "output_type": "stream",
     "text": [
      "[I 2025-09-22 22:05:16,471] Trial 35 pruned. \n"
     ]
    },
    {
     "name": "stdout",
     "output_type": "stream",
     "text": [
      "Epoch:\t 0 Val Loss:\t 0.02091759586230267\n",
      "Epoch:\t 0 Val Loss:\t 0.020229249578066606\n"
     ]
    },
    {
     "name": "stderr",
     "output_type": "stream",
     "text": [
      "[I 2025-09-22 22:05:34,321] Trial 36 pruned. \n"
     ]
    },
    {
     "name": "stdout",
     "output_type": "stream",
     "text": [
      "Epoch:\t 1 Val Loss:\t 0.020062249511679245\n"
     ]
    },
    {
     "name": "stderr",
     "output_type": "stream",
     "text": [
      "[I 2025-09-22 22:05:40,451] Trial 37 pruned. \n"
     ]
    },
    {
     "name": "stdout",
     "output_type": "stream",
     "text": [
      "Epoch:\t 0 Val Loss:\t 0.05403814341496507\n"
     ]
    },
    {
     "name": "stderr",
     "output_type": "stream",
     "text": [
      "[I 2025-09-22 22:06:03,170] Trial 38 pruned. \n"
     ]
    },
    {
     "name": "stdout",
     "output_type": "stream",
     "text": [
      "Epoch:\t 0 Val Loss:\t 0.028575676504560932\n",
      "Epoch:\t 0 Val Loss:\t 0.020367532750022673\n"
     ]
    },
    {
     "name": "stderr",
     "output_type": "stream",
     "text": [
      "[I 2025-09-22 22:06:15,494] Trial 39 pruned. \n"
     ]
    },
    {
     "name": "stdout",
     "output_type": "stream",
     "text": [
      "Epoch:\t 1 Val Loss:\t 0.020094565547457557\n"
     ]
    },
    {
     "name": "stderr",
     "output_type": "stream",
     "text": [
      "[I 2025-09-22 22:06:23,072] Trial 40 pruned. \n"
     ]
    },
    {
     "name": "stdout",
     "output_type": "stream",
     "text": [
      "Epoch:\t 0 Val Loss:\t 0.02982166452193876\n"
     ]
    },
    {
     "name": "stderr",
     "output_type": "stream",
     "text": [
      "[I 2025-09-22 22:06:29,163] Trial 41 pruned. \n"
     ]
    },
    {
     "name": "stdout",
     "output_type": "stream",
     "text": [
      "Epoch:\t 0 Val Loss:\t 0.020500775305478555\n",
      "Epoch:\t 0 Val Loss:\t 0.0203723978233912\n",
      "Epoch:\t 1 Val Loss:\t 0.020036847268974325\n",
      "Epoch:\t 2 Val Loss:\t 0.020020249586349025\n",
      "Epoch:\t 3 Val Loss:\t 0.020009052001900375\n",
      "Epoch:\t 4 Val Loss:\t 0.02001249861365896\n",
      "Epoch:\t 5 Val Loss:\t 0.020002184524422602\n",
      "Epoch:\t 6 Val Loss:\t 0.019999488113008862\n",
      "Epoch:\t 7 Val Loss:\t 0.019997878333296235\n",
      "Epoch:\t 8 Val Loss:\t 0.019990632223975645\n",
      "Epoch:\t 9 Val Loss:\t 0.019994825046859968\n",
      "Epoch:\t 10 Val Loss:\t 0.020000740414124057\n",
      "Epoch:\t 11 Val Loss:\t 0.0199323778887659\n",
      "Epoch:\t 12 Val Loss:\t 0.019919799279495123\n",
      "Epoch:\t 13 Val Loss:\t 0.01990528185781563\n",
      "Epoch:\t 14 Val Loss:\t 0.01990550939041286\n"
     ]
    },
    {
     "name": "stderr",
     "output_type": "stream",
     "text": [
      "[I 2025-09-22 22:08:08,357] Trial 42 pruned. \n"
     ]
    },
    {
     "name": "stdout",
     "output_type": "stream",
     "text": [
      "Epoch:\t 15 Val Loss:\t 0.019905412119665074\n",
      "Epoch:\t 0 Val Loss:\t 0.02036580787571396\n",
      "Epoch:\t 1 Val Loss:\t 0.020046013871447964\n"
     ]
    },
    {
     "name": "stderr",
     "output_type": "stream",
     "text": [
      "[I 2025-09-22 22:08:26,949] Trial 43 pruned. \n"
     ]
    },
    {
     "name": "stdout",
     "output_type": "stream",
     "text": [
      "Epoch:\t 2 Val Loss:\t 0.02002871672338379\n",
      "Epoch:\t 0 Val Loss:\t 0.02008469563383427\n"
     ]
    },
    {
     "name": "stderr",
     "output_type": "stream",
     "text": [
      "[I 2025-09-22 22:09:11,027] Trial 44 pruned. \n"
     ]
    },
    {
     "name": "stdout",
     "output_type": "stream",
     "text": [
      "Epoch:\t 1 Val Loss:\t 0.020066993179719318\n"
     ]
    },
    {
     "name": "stderr",
     "output_type": "stream",
     "text": [
      "[I 2025-09-22 22:09:17,212] Trial 45 pruned. \n"
     ]
    },
    {
     "name": "stdout",
     "output_type": "stream",
     "text": [
      "Epoch:\t 0 Val Loss:\t 0.07257474819576837\n"
     ]
    },
    {
     "name": "stderr",
     "output_type": "stream",
     "text": [
      "[I 2025-09-22 22:09:23,335] Trial 46 pruned. \n"
     ]
    },
    {
     "name": "stdout",
     "output_type": "stream",
     "text": [
      "Epoch:\t 0 Val Loss:\t 0.02054980395491733\n",
      "Epoch:\t 0 Val Loss:\t 0.020067951339553747\n",
      "Epoch:\t 1 Val Loss:\t 0.01999329596631406\n",
      "Epoch:\t 2 Val Loss:\t 0.01998651786655992\n",
      "Epoch:\t 3 Val Loss:\t 0.0199783326578513\n",
      "Epoch:\t 4 Val Loss:\t 0.019989267096476922\n",
      "Epoch:\t 5 Val Loss:\t 0.01998320027204253\n",
      "Epoch:\t 6 Val Loss:\t 0.019976094695920522\n",
      "Epoch:\t 7 Val Loss:\t 0.01998016004571156\n",
      "Epoch:\t 8 Val Loss:\t 0.019985283733071523\n",
      "Epoch:\t 9 Val Loss:\t 0.01997280928527356\n",
      "Epoch:\t 10 Val Loss:\t 0.019974564962917146\n"
     ]
    },
    {
     "name": "stderr",
     "output_type": "stream",
     "text": [
      "[I 2025-09-22 22:11:34,743] Trial 47 pruned. \n"
     ]
    },
    {
     "name": "stdout",
     "output_type": "stream",
     "text": [
      "Epoch:\t 11 Val Loss:\t 0.01997295957711621\n"
     ]
    },
    {
     "name": "stderr",
     "output_type": "stream",
     "text": [
      "[I 2025-09-22 22:11:41,103] Trial 48 pruned. \n"
     ]
    },
    {
     "name": "stdout",
     "output_type": "stream",
     "text": [
      "Epoch:\t 0 Val Loss:\t 0.020891719472861732\n",
      "Epoch:\t 0 Val Loss:\t 0.020217110843949553\n"
     ]
    },
    {
     "name": "stderr",
     "output_type": "stream",
     "text": [
      "[I 2025-09-22 22:11:56,194] Trial 49 pruned. \n"
     ]
    },
    {
     "name": "stdout",
     "output_type": "stream",
     "text": [
      "Epoch:\t 1 Val Loss:\t 0.020058493608272637\n",
      "Training model with best parameters on train+validation ...\n"
     ]
    },
    {
     "name": "stderr",
     "output_type": "stream",
     "text": [
      "100%|███████████████████████████████████████████████████████████████████████████████████████████████████████████████████████████████████████████████████████████████████| 557340/557340 [05:36<00:00, 1657.74it/s]\n",
      "100%|███████████████████████████████████████████████████████████████████████████████████████████████████████████████████████████████████████████████████████████████████| 557340/557340 [01:38<00:00, 5671.44it/s]\n"
     ]
    },
    {
     "name": "stdout",
     "output_type": "stream",
     "text": [
      "Getting test set predictions and saving results ...\n"
     ]
    },
    {
     "name": "stderr",
     "output_type": "stream",
     "text": [
      "100%|██████████████████████████████████████████████████████████████████████████████████████████████████████████████████████████████████████████████████████████████████████████| 820/820 [00:03<00:00, 215.88it/s]\n"
     ]
    }
   ],
   "source": [
    "train_different_featno(\n",
    "        adata_path=\"./data/feature_number/sciplex_hvg_7500.h5ad\",\n",
    "        run_name=\"decoder_hvg_7500\",\n",
    "        res_savename=\"./results/feature_number/decoder_hvg_7500_res.pkl\",\n",
    "        output_dim=7500\n",
    "    )"
   ]
  },
  {
   "cell_type": "code",
   "execution_count": null,
   "id": "87afd9d9-d518-4ace-b76d-7680bdfca30e",
   "metadata": {},
   "outputs": [],
   "source": []
  }
 ],
 "metadata": {
  "kernelspec": {
   "display_name": "Python 3 (ipykernel)",
   "language": "python",
   "name": "python3"
  },
  "language_info": {
   "codemirror_mode": {
    "name": "ipython",
    "version": 3
   },
   "file_extension": ".py",
   "mimetype": "text/x-python",
   "name": "python",
   "nbconvert_exporter": "python",
   "pygments_lexer": "ipython3",
   "version": "3.12.7"
  }
 },
 "nbformat": 4,
 "nbformat_minor": 5
}
