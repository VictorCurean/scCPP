{
 "cells": [
  {
   "cell_type": "code",
   "execution_count": 1,
   "id": "19fe7805-9160-40b7-b788-f4d8b7e851d8",
   "metadata": {},
   "outputs": [],
   "source": [
    "import anndata as ad\n",
    "import pickle as pkl\n",
    "\n",
    "from src.evaluator.decoder_evaluator import get_models_results\n",
    "from src.evaluator.evaluator_utils import l2_loss"
   ]
  },
  {
   "cell_type": "code",
   "execution_count": 2,
   "id": "e059f15b-a7c8-4abd-8cd1-4934091fe5d2",
   "metadata": {},
   "outputs": [],
   "source": [
    "def train_different_fs(adata_path=None, run_name=None, res_savename=None, add_relu=True):\n",
    "    DRUG_ENCODING_NAME = \"fmfp\"\n",
    "    DRUG_ENCODING_SIZE = 1024\n",
    "    N_TRIALS = 50\n",
    "    SCHEDULER_MODE = 'min'\n",
    "\n",
    "    with open(\"./data/drug_splits/train_drugs_rand.pkl\", 'rb') as f:\n",
    "        drugs_train_rand = pkl.load(f)\n",
    "\n",
    "    with open(\"./data/drug_splits/val_drugs_rand.pkl\", 'rb') as f:\n",
    "        drugs_val_rand = pkl.load(f)\n",
    "\n",
    "    with open(\"./data/drug_splits/test_drugs_rand.pkl\", 'rb') as f:\n",
    "        drugs_test_rand = pkl.load(f)\n",
    "\n",
    "    drug_splits = dict()\n",
    "    drug_splits['train'] = drugs_train_rand\n",
    "    drug_splits['valid'] = drugs_val_rand\n",
    "    drug_splits['test'] = drugs_test_rand\n",
    "\n",
    "    adata = ad.read_h5ad(adata_path)\n",
    "\n",
    "    get_models_results(drug_splits=drug_splits,\n",
    "                          loss_function=l2_loss,\n",
    "                          adata=adata,\n",
    "                          input_dim=3,\n",
    "                          output_dim=2000,\n",
    "                          drug_rep_name=DRUG_ENCODING_NAME,\n",
    "                          drug_emb_size=DRUG_ENCODING_SIZE,\n",
    "                          n_trials=N_TRIALS,\n",
    "                          scheduler_mode=SCHEDULER_MODE,\n",
    "                          run_name=run_name,\n",
    "                          save_path=res_savename,\n",
    "                          add_relu=add_relu\n",
    "                      )"
   ]
  },
  {
   "cell_type": "code",
   "execution_count": 3,
   "id": "65ae0f9e-1e75-418d-922f-60a2449729d4",
   "metadata": {},
   "outputs": [
    {
     "name": "stdout",
     "output_type": "stream",
     "text": [
      "Loading Datasets ...\n"
     ]
    },
    {
     "name": "stderr",
     "output_type": "stream",
     "text": [
      "100%|███████████████████████████████████████████████████████████████████████████████████████████████████████████████████████████████████████████████████| 557340/557340 [04:17<00:00, 2168.37it/s]\n",
      "100%|███████████████████████████████████████████████████████████████████████████████████████████████████████████████████████████████████████████████████| 557340/557340 [01:43<00:00, 5363.80it/s]\n",
      "[I 2025-09-29 14:41:24,477] A new study created in RDB with name: decoder_random_fs\n"
     ]
    },
    {
     "name": "stdout",
     "output_type": "stream",
     "text": [
      "Optimizing Hyperparameters with Optuna ...\n",
      "Epoch:\t 0 Val Loss:\t 0.019617312384590163\n",
      "Epoch:\t 1 Val Loss:\t 0.01934391645160414\n",
      "Epoch:\t 2 Val Loss:\t 0.019480102431652217\n",
      "Epoch:\t 3 Val Loss:\t 0.019840258902840528\n",
      "Epoch:\t 4 Val Loss:\t 0.020497750299045728\n",
      "Epoch:\t 5 Val Loss:\t 0.020657056630204677\n",
      "Epoch:\t 6 Val Loss:\t 0.02066178399143692\n",
      "Epoch:\t 7 Val Loss:\t 0.020653209355969863\n",
      "Epoch:\t 8 Val Loss:\t 0.020636597532337434\n",
      "Epoch:\t 9 Val Loss:\t 0.020646437215427606\n",
      "Epoch:\t 10 Val Loss:\t 0.020620298932091507\n",
      "Epoch:\t 11 Val Loss:\t 0.02059962479045014\n"
     ]
    },
    {
     "name": "stderr",
     "output_type": "stream",
     "text": [
      "[I 2025-09-29 14:46:39,017] Trial 0 finished with value: 0.01934391645160414 and parameters: {'lr': 1e-05, 'weight_decay': 0.001, 'scheduler_factor': 0.8, 'scheduler_patience': 5, 'batch_size': 16, 'dropout': 0.1, 'hidden_dims': 256}. Best is trial 0 with value: 0.01934391645160414.\n"
     ]
    },
    {
     "name": "stdout",
     "output_type": "stream",
     "text": [
      "Epoch:\t 0 Val Loss:\t 0.06403875655807593\n",
      "Epoch:\t 1 Val Loss:\t 0.04393571740836857\n",
      "Epoch:\t 2 Val Loss:\t 0.0338388777387156\n",
      "Epoch:\t 3 Val Loss:\t 0.02937977410878854\n",
      "Epoch:\t 4 Val Loss:\t 0.027470169673245174\n",
      "Epoch:\t 5 Val Loss:\t 0.026493258204568423\n",
      "Epoch:\t 6 Val Loss:\t 0.025813785359453684\n",
      "Epoch:\t 7 Val Loss:\t 0.02535828373552199\n",
      "Epoch:\t 8 Val Loss:\t 0.02507162262543439\n",
      "Epoch:\t 9 Val Loss:\t 0.02499502085395767\n",
      "Epoch:\t 10 Val Loss:\t 0.02475310679367304\n",
      "Epoch:\t 11 Val Loss:\t 0.025076321357006052\n",
      "Epoch:\t 12 Val Loss:\t 0.025221356088582055\n",
      "Epoch:\t 13 Val Loss:\t 0.025228589123468446\n",
      "Epoch:\t 14 Val Loss:\t 0.025317379795079722\n",
      "Epoch:\t 15 Val Loss:\t 0.025350619333423783\n",
      "Epoch:\t 16 Val Loss:\t 0.025349423501184357\n",
      "Epoch:\t 17 Val Loss:\t 0.02524279260784128\n",
      "Epoch:\t 18 Val Loss:\t 0.025296528748540912\n",
      "Epoch:\t 19 Val Loss:\t 0.025106950425740182\n"
     ]
    },
    {
     "name": "stderr",
     "output_type": "stream",
     "text": [
      "[I 2025-09-29 14:48:49,709] Trial 1 finished with value: 0.02475310679367304 and parameters: {'lr': 1e-06, 'weight_decay': 1e-06, 'scheduler_factor': 0.8, 'scheduler_patience': 5, 'batch_size': 64, 'dropout': 0.1, 'hidden_dims': 64}. Best is trial 0 with value: 0.01934391645160414.\n"
     ]
    },
    {
     "name": "stdout",
     "output_type": "stream",
     "text": [
      "Epoch:\t 20 Val Loss:\t 0.0254788691263367\n",
      "Epoch:\t 0 Val Loss:\t 0.019151256597930145\n",
      "Epoch:\t 1 Val Loss:\t 0.019138407012823055\n",
      "Epoch:\t 2 Val Loss:\t 0.01914937901270765\n",
      "Epoch:\t 3 Val Loss:\t 0.01912938049364385\n",
      "Epoch:\t 4 Val Loss:\t 0.01913772773778021\n",
      "Epoch:\t 5 Val Loss:\t 0.019133677467515743\n",
      "Epoch:\t 6 Val Loss:\t 0.019136855216343136\n",
      "Epoch:\t 7 Val Loss:\t 0.019145755057547273\n",
      "Epoch:\t 8 Val Loss:\t 0.01914982978864179\n",
      "Epoch:\t 9 Val Loss:\t 0.019129686157279776\n",
      "Epoch:\t 10 Val Loss:\t 0.019139763878745695\n",
      "Epoch:\t 11 Val Loss:\t 0.01914551816869894\n",
      "Epoch:\t 12 Val Loss:\t 0.01914697447725491\n"
     ]
    },
    {
     "name": "stderr",
     "output_type": "stream",
     "text": [
      "[I 2025-09-29 14:54:40,925] Trial 2 finished with value: 0.01912938049364385 and parameters: {'lr': 0.0001, 'weight_decay': 0.0001, 'scheduler_factor': 0.8, 'scheduler_patience': 20, 'batch_size': 16, 'dropout': 0.2, 'hidden_dims': 64}. Best is trial 2 with value: 0.01912938049364385.\n"
     ]
    },
    {
     "name": "stdout",
     "output_type": "stream",
     "text": [
      "Epoch:\t 13 Val Loss:\t 0.019131825850425586\n",
      "Epoch:\t 0 Val Loss:\t 0.021413940626066295\n",
      "Epoch:\t 1 Val Loss:\t 0.02011265391262288\n",
      "Epoch:\t 2 Val Loss:\t 0.01955059618357779\n",
      "Epoch:\t 3 Val Loss:\t 0.019363691041152004\n",
      "Epoch:\t 4 Val Loss:\t 0.019289805156298228\n",
      "Epoch:\t 5 Val Loss:\t 0.01925314592010516\n",
      "Epoch:\t 6 Val Loss:\t 0.019246583824757826\n",
      "Epoch:\t 7 Val Loss:\t 0.01923724062264061\n",
      "Epoch:\t 8 Val Loss:\t 0.019202677867614766\n",
      "Epoch:\t 9 Val Loss:\t 0.019132977484785412\n",
      "Epoch:\t 10 Val Loss:\t 0.019114196629955872\n",
      "Epoch:\t 11 Val Loss:\t 0.019112928674539557\n",
      "Epoch:\t 12 Val Loss:\t 0.019118982431269617\n",
      "Epoch:\t 13 Val Loss:\t 0.019114877660804736\n",
      "Epoch:\t 14 Val Loss:\t 0.019116183922604998\n",
      "Epoch:\t 15 Val Loss:\t 0.019109733578669543\n",
      "Epoch:\t 16 Val Loss:\t 0.019111581311847103\n",
      "Epoch:\t 17 Val Loss:\t 0.01911287069876337\n",
      "Epoch:\t 18 Val Loss:\t 0.01910955858218483\n",
      "Epoch:\t 19 Val Loss:\t 0.019119264651738535\n",
      "Epoch:\t 20 Val Loss:\t 0.019100971886692478\n",
      "Epoch:\t 21 Val Loss:\t 0.019102828762019988\n",
      "Epoch:\t 22 Val Loss:\t 0.019113118541105346\n",
      "Epoch:\t 23 Val Loss:\t 0.01910899759924825\n",
      "Epoch:\t 24 Val Loss:\t 0.019111890651478076\n",
      "Epoch:\t 25 Val Loss:\t 0.019108843182938446\n",
      "Epoch:\t 26 Val Loss:\t 0.019112661063078698\n",
      "Epoch:\t 27 Val Loss:\t 0.019101361522761304\n",
      "Epoch:\t 28 Val Loss:\t 0.019109278160849508\n",
      "Epoch:\t 29 Val Loss:\t 0.019107475468712668\n"
     ]
    },
    {
     "name": "stderr",
     "output_type": "stream",
     "text": [
      "[I 2025-09-29 15:00:07,563] Trial 3 finished with value: 0.019100971886692478 and parameters: {'lr': 1e-05, 'weight_decay': 0.0001, 'scheduler_factor': 0.8, 'scheduler_patience': 20, 'batch_size': 32, 'dropout': 0.05, 'hidden_dims': 1024}. Best is trial 3 with value: 0.019100971886692478.\n"
     ]
    },
    {
     "name": "stdout",
     "output_type": "stream",
     "text": [
      "Epoch:\t 30 Val Loss:\t 0.01910669264830627\n",
      "Epoch:\t 0 Val Loss:\t 0.019657213868963165\n",
      "Epoch:\t 1 Val Loss:\t 0.019565845636087795\n",
      "Epoch:\t 2 Val Loss:\t 0.019569466180752875\n",
      "Epoch:\t 3 Val Loss:\t 0.019647556374412636\n",
      "Epoch:\t 4 Val Loss:\t 0.01950646584723578\n",
      "Epoch:\t 5 Val Loss:\t 0.01945914368383413\n",
      "Epoch:\t 6 Val Loss:\t 0.019425759685420714\n",
      "Epoch:\t 7 Val Loss:\t 0.01954034773502932\n",
      "Epoch:\t 8 Val Loss:\t 0.019370357761549394\n",
      "Epoch:\t 9 Val Loss:\t 0.019362515553312247\n",
      "Epoch:\t 10 Val Loss:\t 0.01937446054071188\n",
      "Epoch:\t 11 Val Loss:\t 0.019438707819858264\n",
      "Epoch:\t 12 Val Loss:\t 0.019381090730082158\n",
      "Epoch:\t 13 Val Loss:\t 0.01939493277391722\n",
      "Epoch:\t 14 Val Loss:\t 0.01938330611257359\n",
      "Epoch:\t 15 Val Loss:\t 0.019389598773315895\n",
      "Epoch:\t 16 Val Loss:\t 0.01939167593887379\n",
      "Epoch:\t 17 Val Loss:\t 0.019386570575798668\n",
      "Epoch:\t 18 Val Loss:\t 0.019389436445957007\n"
     ]
    },
    {
     "name": "stderr",
     "output_type": "stream",
     "text": [
      "[I 2025-09-29 15:01:17,582] Trial 4 finished with value: 0.019362515553312247 and parameters: {'lr': 0.0001, 'weight_decay': 0.001, 'scheduler_factor': 0.1, 'scheduler_patience': 1, 'batch_size': 256, 'dropout': 0.05, 'hidden_dims': 1024}. Best is trial 3 with value: 0.019100971886692478.\n"
     ]
    },
    {
     "name": "stdout",
     "output_type": "stream",
     "text": [
      "Epoch:\t 19 Val Loss:\t 0.019381548373331857\n"
     ]
    },
    {
     "name": "stderr",
     "output_type": "stream",
     "text": [
      "[I 2025-09-29 15:01:45,385] Trial 5 pruned. \n"
     ]
    },
    {
     "name": "stdout",
     "output_type": "stream",
     "text": [
      "Epoch:\t 0 Val Loss:\t 0.020670518102755303\n",
      "Epoch:\t 0 Val Loss:\t 0.01920985242133518\n",
      "Epoch:\t 1 Val Loss:\t 0.01917371409526284\n",
      "Epoch:\t 2 Val Loss:\t 0.019208159386080344\n",
      "Epoch:\t 3 Val Loss:\t 0.019181615103293456\n",
      "Epoch:\t 4 Val Loss:\t 0.01919194458007112\n",
      "Epoch:\t 5 Val Loss:\t 0.01919633276691391\n",
      "Epoch:\t 6 Val Loss:\t 0.019171244179418075\n",
      "Epoch:\t 7 Val Loss:\t 0.01919982717677873\n",
      "Epoch:\t 8 Val Loss:\t 0.019183580830392715\n",
      "Epoch:\t 9 Val Loss:\t 0.01917612759149955\n",
      "Epoch:\t 10 Val Loss:\t 0.019194065200492473\n",
      "Epoch:\t 11 Val Loss:\t 0.01918727577946652\n",
      "Epoch:\t 12 Val Loss:\t 0.0192068827560672\n",
      "Epoch:\t 13 Val Loss:\t 0.01914110546742441\n",
      "Epoch:\t 14 Val Loss:\t 0.01914288709453646\n",
      "Epoch:\t 15 Val Loss:\t 0.019135386771692728\n",
      "Epoch:\t 16 Val Loss:\t 0.019140646152157235\n",
      "Epoch:\t 17 Val Loss:\t 0.019140032761380536\n",
      "Epoch:\t 18 Val Loss:\t 0.019142165274677655\n",
      "Epoch:\t 19 Val Loss:\t 0.019137088180202353\n",
      "Epoch:\t 20 Val Loss:\t 0.019137854616790663\n"
     ]
    },
    {
     "name": "stderr",
     "output_type": "stream",
     "text": [
      "[I 2025-09-29 15:05:51,302] Trial 6 pruned. \n"
     ]
    },
    {
     "name": "stdout",
     "output_type": "stream",
     "text": [
      "Epoch:\t 21 Val Loss:\t 0.01913655426075387\n"
     ]
    },
    {
     "name": "stderr",
     "output_type": "stream",
     "text": [
      "[I 2025-09-29 15:06:01,950] Trial 7 pruned. \n"
     ]
    },
    {
     "name": "stdout",
     "output_type": "stream",
     "text": [
      "Epoch:\t 0 Val Loss:\t 0.033431976233099306\n"
     ]
    },
    {
     "name": "stderr",
     "output_type": "stream",
     "text": [
      "[I 2025-09-29 15:06:08,344] Trial 8 pruned. \n"
     ]
    },
    {
     "name": "stdout",
     "output_type": "stream",
     "text": [
      "Epoch:\t 0 Val Loss:\t 0.019788601427613062\n",
      "Epoch:\t 0 Val Loss:\t 0.019552853725157505\n",
      "Epoch:\t 1 Val Loss:\t 0.019589895334874475\n",
      "Epoch:\t 2 Val Loss:\t 0.01952253562766452\n",
      "Epoch:\t 3 Val Loss:\t 0.019573709671927054\n"
     ]
    },
    {
     "name": "stderr",
     "output_type": "stream",
     "text": [
      "[I 2025-09-29 15:06:25,639] Trial 9 pruned. \n"
     ]
    },
    {
     "name": "stdout",
     "output_type": "stream",
     "text": [
      "Epoch:\t 4 Val Loss:\t 0.01956252175881419\n"
     ]
    },
    {
     "name": "stderr",
     "output_type": "stream",
     "text": [
      "[I 2025-09-29 15:06:30,044] Trial 10 pruned. \n"
     ]
    },
    {
     "name": "stdout",
     "output_type": "stream",
     "text": [
      "Epoch:\t 0 Val Loss:\t 0.027892772655644205\n"
     ]
    },
    {
     "name": "stderr",
     "output_type": "stream",
     "text": [
      "[I 2025-09-29 15:06:55,772] Trial 11 pruned. \n"
     ]
    },
    {
     "name": "stdout",
     "output_type": "stream",
     "text": [
      "Epoch:\t 0 Val Loss:\t 0.02133617854324365\n",
      "Epoch:\t 0 Val Loss:\t 0.019250943039522846\n",
      "Epoch:\t 1 Val Loss:\t 0.01923299221634363\n",
      "Epoch:\t 2 Val Loss:\t 0.019254307782853662\n",
      "Epoch:\t 3 Val Loss:\t 0.01923554225809098\n",
      "Epoch:\t 4 Val Loss:\t 0.019215648351977695\n",
      "Epoch:\t 5 Val Loss:\t 0.019218979569047136\n",
      "Epoch:\t 6 Val Loss:\t 0.01922031044954617\n",
      "Epoch:\t 7 Val Loss:\t 0.01922266177283908\n",
      "Epoch:\t 8 Val Loss:\t 0.01923162783985256\n",
      "Epoch:\t 9 Val Loss:\t 0.019290269068990916\n",
      "Epoch:\t 10 Val Loss:\t 0.01921755817647995\n",
      "Epoch:\t 11 Val Loss:\t 0.01926071987526834\n",
      "Epoch:\t 12 Val Loss:\t 0.019248971947724486\n",
      "Epoch:\t 13 Val Loss:\t 0.01927155941493433\n"
     ]
    },
    {
     "name": "stderr",
     "output_type": "stream",
     "text": [
      "[I 2025-09-29 15:09:41,432] Trial 12 finished with value: 0.019215648351977695 and parameters: {'lr': 0.001, 'weight_decay': 0.0001, 'scheduler_factor': 0.8, 'scheduler_patience': 20, 'batch_size': 32, 'dropout': 0.2, 'hidden_dims': 64}. Best is trial 3 with value: 0.019100971886692478.\n"
     ]
    },
    {
     "name": "stdout",
     "output_type": "stream",
     "text": [
      "Epoch:\t 14 Val Loss:\t 0.019249794402852162\n"
     ]
    },
    {
     "name": "stderr",
     "output_type": "stream",
     "text": [
      "[I 2025-09-29 15:09:45,862] Trial 13 pruned. \n"
     ]
    },
    {
     "name": "stdout",
     "output_type": "stream",
     "text": [
      "Epoch:\t 0 Val Loss:\t 0.02328442679620786\n",
      "Epoch:\t 0 Val Loss:\t 0.019592351929051666\n",
      "Epoch:\t 1 Val Loss:\t 0.01926769838747863\n",
      "Epoch:\t 2 Val Loss:\t 0.019172304087208755\n",
      "Epoch:\t 3 Val Loss:\t 0.019130133673196277\n",
      "Epoch:\t 4 Val Loss:\t 0.019103571905003718\n",
      "Epoch:\t 5 Val Loss:\t 0.019101625971887446\n",
      "Epoch:\t 6 Val Loss:\t 0.01909851604852084\n",
      "Epoch:\t 7 Val Loss:\t 0.01909660152092066\n",
      "Epoch:\t 8 Val Loss:\t 0.019095124043329678\n",
      "Epoch:\t 9 Val Loss:\t 0.01909411194352125\n",
      "Epoch:\t 10 Val Loss:\t 0.019094657146675135\n",
      "Epoch:\t 11 Val Loss:\t 0.019094711755258065\n",
      "Epoch:\t 12 Val Loss:\t 0.01909427103482174\n",
      "Epoch:\t 13 Val Loss:\t 0.01909282395737251\n",
      "Epoch:\t 14 Val Loss:\t 0.019092900088263403\n",
      "Epoch:\t 15 Val Loss:\t 0.019094615884706838\n",
      "Epoch:\t 16 Val Loss:\t 0.019094217432964456\n",
      "Epoch:\t 17 Val Loss:\t 0.01909246761784243\n",
      "Epoch:\t 18 Val Loss:\t 0.019092590027303367\n",
      "Epoch:\t 19 Val Loss:\t 0.019094702304469004\n",
      "Epoch:\t 20 Val Loss:\t 0.01909763284337837\n",
      "Epoch:\t 21 Val Loss:\t 0.01909404823521949\n",
      "Epoch:\t 22 Val Loss:\t 0.019095849044441535\n",
      "Epoch:\t 23 Val Loss:\t 0.01909758038067508\n",
      "Epoch:\t 24 Val Loss:\t 0.019095491690077945\n",
      "Epoch:\t 25 Val Loss:\t 0.01909364257342962\n",
      "Epoch:\t 26 Val Loss:\t 0.01909309323283601\n",
      "Epoch:\t 27 Val Loss:\t 0.019090491773488212\n",
      "Epoch:\t 28 Val Loss:\t 0.019093151509683975\n",
      "Epoch:\t 29 Val Loss:\t 0.019091833374196544\n",
      "Epoch:\t 30 Val Loss:\t 0.01909226948018086\n",
      "Epoch:\t 31 Val Loss:\t 0.019093875905409136\n",
      "Epoch:\t 32 Val Loss:\t 0.019092160727595234\n",
      "Epoch:\t 33 Val Loss:\t 0.01909310768590294\n",
      "Epoch:\t 34 Val Loss:\t 0.019091444358649085\n",
      "Epoch:\t 35 Val Loss:\t 0.019093988905160824\n",
      "Epoch:\t 36 Val Loss:\t 0.01909294960511177\n"
     ]
    },
    {
     "name": "stderr",
     "output_type": "stream",
     "text": [
      "[I 2025-09-29 15:16:25,535] Trial 14 finished with value: 0.019090491773488212 and parameters: {'lr': 0.0001, 'weight_decay': 1e-05, 'scheduler_factor': 0.8, 'scheduler_patience': 20, 'batch_size': 32, 'dropout': 0.05, 'hidden_dims': 64}. Best is trial 14 with value: 0.019090491773488212.\n"
     ]
    },
    {
     "name": "stdout",
     "output_type": "stream",
     "text": [
      "Epoch:\t 37 Val Loss:\t 0.01909278054817326\n"
     ]
    },
    {
     "name": "stderr",
     "output_type": "stream",
     "text": [
      "[I 2025-09-29 15:16:36,333] Trial 15 pruned. \n"
     ]
    },
    {
     "name": "stdout",
     "output_type": "stream",
     "text": [
      "Epoch:\t 0 Val Loss:\t 0.022633542941836723\n"
     ]
    },
    {
     "name": "stderr",
     "output_type": "stream",
     "text": [
      "[I 2025-09-29 15:16:47,903] Trial 16 pruned. \n"
     ]
    },
    {
     "name": "stdout",
     "output_type": "stream",
     "text": [
      "Epoch:\t 0 Val Loss:\t 0.023648910086604136\n",
      "Epoch:\t 0 Val Loss:\t 0.019147723253753666\n",
      "Epoch:\t 1 Val Loss:\t 0.01913216039732972\n",
      "Epoch:\t 2 Val Loss:\t 0.019126049857759588\n",
      "Epoch:\t 3 Val Loss:\t 0.019123842905140933\n",
      "Epoch:\t 4 Val Loss:\t 0.01912980097590865\n",
      "Epoch:\t 5 Val Loss:\t 0.019131369695004705\n",
      "Epoch:\t 6 Val Loss:\t 0.019124979453536483\n",
      "Epoch:\t 7 Val Loss:\t 0.019128879674916274\n",
      "Epoch:\t 8 Val Loss:\t 0.01912036877762239\n",
      "Epoch:\t 9 Val Loss:\t 0.019124379436130344\n",
      "Epoch:\t 10 Val Loss:\t 0.019121166141633457\n",
      "Epoch:\t 11 Val Loss:\t 0.0191202621390255\n",
      "Epoch:\t 12 Val Loss:\t 0.019127856565718294\n",
      "Epoch:\t 13 Val Loss:\t 0.01912109228959107\n",
      "Epoch:\t 14 Val Loss:\t 0.01912001933382518\n",
      "Epoch:\t 15 Val Loss:\t 0.01912177553820925\n",
      "Epoch:\t 16 Val Loss:\t 0.01912512012837899\n",
      "Epoch:\t 17 Val Loss:\t 0.019121028669124435\n",
      "Epoch:\t 18 Val Loss:\t 0.01912065242480398\n",
      "Epoch:\t 19 Val Loss:\t 0.01912378871195057\n"
     ]
    },
    {
     "name": "stderr",
     "output_type": "stream",
     "text": [
      "[I 2025-09-29 15:20:40,409] Trial 17 pruned. \n"
     ]
    },
    {
     "name": "stdout",
     "output_type": "stream",
     "text": [
      "Epoch:\t 20 Val Loss:\t 0.019125802611615412\n",
      "Epoch:\t 0 Val Loss:\t 0.019479110554829284\n",
      "Epoch:\t 1 Val Loss:\t 0.019248282102283115\n",
      "Epoch:\t 2 Val Loss:\t 0.019137995782158555\n",
      "Epoch:\t 3 Val Loss:\t 0.01912262056966637\n",
      "Epoch:\t 4 Val Loss:\t 0.019118369557233707\n",
      "Epoch:\t 5 Val Loss:\t 0.0191183826592613\n",
      "Epoch:\t 6 Val Loss:\t 0.019115571594227904\n",
      "Epoch:\t 7 Val Loss:\t 0.019115558748408607\n",
      "Epoch:\t 8 Val Loss:\t 0.019113932114885823\n",
      "Epoch:\t 9 Val Loss:\t 0.019112377080772326\n",
      "Epoch:\t 10 Val Loss:\t 0.01911449730336813\n",
      "Epoch:\t 11 Val Loss:\t 0.019112272338603326\n",
      "Epoch:\t 12 Val Loss:\t 0.019113745084989142\n",
      "Epoch:\t 13 Val Loss:\t 0.0191110321323296\n",
      "Epoch:\t 14 Val Loss:\t 0.01911375687516538\n",
      "Epoch:\t 15 Val Loss:\t 0.019111447069778804\n",
      "Epoch:\t 16 Val Loss:\t 0.019111392463898494\n",
      "Epoch:\t 17 Val Loss:\t 0.019113208182659856\n",
      "Epoch:\t 18 Val Loss:\t 0.019109051429206592\n",
      "Epoch:\t 19 Val Loss:\t 0.01911241937108723\n"
     ]
    },
    {
     "name": "stderr",
     "output_type": "stream",
     "text": [
      "[I 2025-09-29 15:24:37,145] Trial 18 pruned. \n"
     ]
    },
    {
     "name": "stdout",
     "output_type": "stream",
     "text": [
      "Epoch:\t 20 Val Loss:\t 0.01911251026881914\n"
     ]
    },
    {
     "name": "stderr",
     "output_type": "stream",
     "text": [
      "[I 2025-09-29 15:24:46,978] Trial 19 pruned. \n"
     ]
    },
    {
     "name": "stdout",
     "output_type": "stream",
     "text": [
      "Epoch:\t 0 Val Loss:\t 0.02481107847809411\n"
     ]
    },
    {
     "name": "stderr",
     "output_type": "stream",
     "text": [
      "[I 2025-09-29 15:24:53,284] Trial 20 pruned. \n"
     ]
    },
    {
     "name": "stdout",
     "output_type": "stream",
     "text": [
      "Epoch:\t 0 Val Loss:\t 0.020042818863414018\n",
      "Epoch:\t 0 Val Loss:\t 0.01915521532106357\n",
      "Epoch:\t 1 Val Loss:\t 0.0191306724196445\n",
      "Epoch:\t 2 Val Loss:\t 0.0191249296333423\n",
      "Epoch:\t 3 Val Loss:\t 0.019147655172723436\n",
      "Epoch:\t 4 Val Loss:\t 0.0191274891357102\n",
      "Epoch:\t 5 Val Loss:\t 0.019146928316325137\n",
      "Epoch:\t 6 Val Loss:\t 0.01914495151545639\n",
      "Epoch:\t 7 Val Loss:\t 0.019133272784955697\n",
      "Epoch:\t 8 Val Loss:\t 0.019136642647268602\n",
      "Epoch:\t 9 Val Loss:\t 0.019130059608849958\n",
      "Epoch:\t 10 Val Loss:\t 0.019136939314650023\n",
      "Epoch:\t 11 Val Loss:\t 0.01913901486462551\n"
     ]
    },
    {
     "name": "stderr",
     "output_type": "stream",
     "text": [
      "[I 2025-09-29 15:30:53,354] Trial 21 finished with value: 0.0191249296333423 and parameters: {'lr': 0.0001, 'weight_decay': 0.0001, 'scheduler_factor': 0.8, 'scheduler_patience': 20, 'batch_size': 16, 'dropout': 0.2, 'hidden_dims': 64}. Best is trial 14 with value: 0.019090491773488212.\n"
     ]
    },
    {
     "name": "stdout",
     "output_type": "stream",
     "text": [
      "Epoch:\t 12 Val Loss:\t 0.019147311014646277\n",
      "Epoch:\t 0 Val Loss:\t 0.019148595305909556\n",
      "Epoch:\t 1 Val Loss:\t 0.01914322354052425\n",
      "Epoch:\t 2 Val Loss:\t 0.019126908276994828\n",
      "Epoch:\t 3 Val Loss:\t 0.019126855907968483\n",
      "Epoch:\t 4 Val Loss:\t 0.019136554037998882\n",
      "Epoch:\t 5 Val Loss:\t 0.01914106716855714\n",
      "Epoch:\t 6 Val Loss:\t 0.01912992484810826\n",
      "Epoch:\t 7 Val Loss:\t 0.019126321331512878\n",
      "Epoch:\t 8 Val Loss:\t 0.019134694255724168\n",
      "Epoch:\t 9 Val Loss:\t 0.019121167647475196\n",
      "Epoch:\t 10 Val Loss:\t 0.01912845450783267\n",
      "Epoch:\t 11 Val Loss:\t 0.019127032900736845\n",
      "Epoch:\t 12 Val Loss:\t 0.019139726995912713\n",
      "Epoch:\t 13 Val Loss:\t 0.01913645064322329\n",
      "Epoch:\t 14 Val Loss:\t 0.019135377289835147\n",
      "Epoch:\t 15 Val Loss:\t 0.019130843982287482\n",
      "Epoch:\t 16 Val Loss:\t 0.019126402610856442\n",
      "Epoch:\t 17 Val Loss:\t 0.01913536090015215\n",
      "Epoch:\t 18 Val Loss:\t 0.019128617356603875\n"
     ]
    },
    {
     "name": "stderr",
     "output_type": "stream",
     "text": [
      "[I 2025-09-29 15:38:41,636] Trial 22 finished with value: 0.019121167647475196 and parameters: {'lr': 0.0001, 'weight_decay': 0.0001, 'scheduler_factor': 0.8, 'scheduler_patience': 20, 'batch_size': 16, 'dropout': 0.2, 'hidden_dims': 64}. Best is trial 14 with value: 0.019090491773488212.\n"
     ]
    },
    {
     "name": "stdout",
     "output_type": "stream",
     "text": [
      "Epoch:\t 19 Val Loss:\t 0.019132644442570377\n"
     ]
    },
    {
     "name": "stderr",
     "output_type": "stream",
     "text": [
      "[I 2025-09-29 15:38:46,128] Trial 23 pruned. \n"
     ]
    },
    {
     "name": "stdout",
     "output_type": "stream",
     "text": [
      "Epoch:\t 0 Val Loss:\t 0.02047871740082761\n"
     ]
    },
    {
     "name": "stderr",
     "output_type": "stream",
     "text": [
      "[I 2025-09-29 15:38:49,832] Trial 24 pruned. \n"
     ]
    },
    {
     "name": "stdout",
     "output_type": "stream",
     "text": [
      "Epoch:\t 0 Val Loss:\t 0.02409935887729706\n"
     ]
    },
    {
     "name": "stderr",
     "output_type": "stream",
     "text": [
      "[I 2025-09-29 15:39:12,390] Trial 25 pruned. \n"
     ]
    },
    {
     "name": "stdout",
     "output_type": "stream",
     "text": [
      "Epoch:\t 0 Val Loss:\t 0.020472409531023382\n",
      "Epoch:\t 0 Val Loss:\t 0.019152755621773123\n",
      "Epoch:\t 1 Val Loss:\t 0.01914805098092459\n",
      "Epoch:\t 2 Val Loss:\t 0.01913677741088583\n",
      "Epoch:\t 3 Val Loss:\t 0.01913388214629193\n",
      "Epoch:\t 4 Val Loss:\t 0.019140967456823907\n",
      "Epoch:\t 5 Val Loss:\t 0.019136730502605507\n",
      "Epoch:\t 6 Val Loss:\t 0.019140895147166295\n",
      "Epoch:\t 7 Val Loss:\t 0.01914866082316229\n",
      "Epoch:\t 8 Val Loss:\t 0.019140211565585433\n"
     ]
    },
    {
     "name": "stderr",
     "output_type": "stream",
     "text": [
      "[I 2025-09-29 15:40:53,469] Trial 26 pruned. \n"
     ]
    },
    {
     "name": "stdout",
     "output_type": "stream",
     "text": [
      "Epoch:\t 9 Val Loss:\t 0.01913319666666161\n"
     ]
    },
    {
     "name": "stderr",
     "output_type": "stream",
     "text": [
      "[I 2025-09-29 15:41:03,619] Trial 27 pruned. \n"
     ]
    },
    {
     "name": "stdout",
     "output_type": "stream",
     "text": [
      "Epoch:\t 0 Val Loss:\t 0.04555487566807556\n",
      "Epoch:\t 0 Val Loss:\t 0.01918116097519412\n",
      "Epoch:\t 1 Val Loss:\t 0.019143958340794708\n",
      "Epoch:\t 2 Val Loss:\t 0.019132704352837038\n",
      "Epoch:\t 3 Val Loss:\t 0.01913200236692642\n",
      "Epoch:\t 4 Val Loss:\t 0.019127243957374866\n",
      "Epoch:\t 5 Val Loss:\t 0.0191377524453236\n",
      "Epoch:\t 6 Val Loss:\t 0.01913972962261258\n",
      "Epoch:\t 7 Val Loss:\t 0.01913287572227078\n",
      "Epoch:\t 8 Val Loss:\t 0.01913388648545852\n",
      "Epoch:\t 9 Val Loss:\t 0.01913397388994028\n",
      "Epoch:\t 10 Val Loss:\t 0.01912422105534864\n",
      "Epoch:\t 11 Val Loss:\t 0.019123307424119825\n",
      "Epoch:\t 12 Val Loss:\t 0.019123720140941523\n",
      "Epoch:\t 13 Val Loss:\t 0.019122122749783522\n",
      "Epoch:\t 14 Val Loss:\t 0.019123809394151963\n",
      "Epoch:\t 15 Val Loss:\t 0.019131302005189407\n",
      "Epoch:\t 16 Val Loss:\t 0.01913766251061148\n",
      "Epoch:\t 17 Val Loss:\t 0.019124315280386744\n",
      "Epoch:\t 18 Val Loss:\t 0.019134544752036672\n",
      "Epoch:\t 19 Val Loss:\t 0.019123701329657697\n"
     ]
    },
    {
     "name": "stderr",
     "output_type": "stream",
     "text": [
      "[I 2025-09-29 15:50:15,234] Trial 28 pruned. \n"
     ]
    },
    {
     "name": "stdout",
     "output_type": "stream",
     "text": [
      "Epoch:\t 20 Val Loss:\t 0.019116969186805614\n"
     ]
    },
    {
     "name": "stderr",
     "output_type": "stream",
     "text": [
      "[I 2025-09-29 15:50:43,040] Trial 29 pruned. \n"
     ]
    },
    {
     "name": "stdout",
     "output_type": "stream",
     "text": [
      "Epoch:\t 0 Val Loss:\t 0.019635743597471306\n"
     ]
    },
    {
     "name": "stderr",
     "output_type": "stream",
     "text": [
      "[I 2025-09-29 15:50:49,262] Trial 30 pruned. \n"
     ]
    },
    {
     "name": "stdout",
     "output_type": "stream",
     "text": [
      "Epoch:\t 0 Val Loss:\t 0.02252290500906305\n",
      "Epoch:\t 0 Val Loss:\t 0.019146441443230543\n",
      "Epoch:\t 1 Val Loss:\t 0.019146549194806912\n",
      "Epoch:\t 2 Val Loss:\t 0.019147697105478447\n",
      "Epoch:\t 3 Val Loss:\t 0.019141366523843874\n",
      "Epoch:\t 4 Val Loss:\t 0.019131698500676857\n",
      "Epoch:\t 5 Val Loss:\t 0.019137161687404525\n",
      "Epoch:\t 6 Val Loss:\t 0.019127630724979815\n",
      "Epoch:\t 7 Val Loss:\t 0.019144027840995174\n",
      "Epoch:\t 8 Val Loss:\t 0.019133943343559657\n",
      "Epoch:\t 9 Val Loss:\t 0.019144638397726968\n",
      "Epoch:\t 10 Val Loss:\t 0.01913952242597088\n",
      "Epoch:\t 11 Val Loss:\t 0.019142850611970123\n",
      "Epoch:\t 12 Val Loss:\t 0.01913695639867028\n",
      "Epoch:\t 13 Val Loss:\t 0.019140816460789575\n",
      "Epoch:\t 14 Val Loss:\t 0.01914164910991981\n",
      "Epoch:\t 15 Val Loss:\t 0.019135828835768906\n"
     ]
    },
    {
     "name": "stderr",
     "output_type": "stream",
     "text": [
      "[I 2025-09-29 15:57:48,675] Trial 31 pruned. \n"
     ]
    },
    {
     "name": "stdout",
     "output_type": "stream",
     "text": [
      "Epoch:\t 16 Val Loss:\t 0.019127340908419683\n",
      "Epoch:\t 0 Val Loss:\t 0.01914563296781873\n",
      "Epoch:\t 1 Val Loss:\t 0.01914176566319033\n",
      "Epoch:\t 2 Val Loss:\t 0.019135402259224346\n",
      "Epoch:\t 3 Val Loss:\t 0.019139219043014636\n",
      "Epoch:\t 4 Val Loss:\t 0.019134111317915252\n",
      "Epoch:\t 5 Val Loss:\t 0.019127232982549668\n",
      "Epoch:\t 6 Val Loss:\t 0.019131913259095797\n",
      "Epoch:\t 7 Val Loss:\t 0.019141269157331636\n",
      "Epoch:\t 8 Val Loss:\t 0.01914158397354591\n",
      "Epoch:\t 9 Val Loss:\t 0.019141598412220934\n",
      "Epoch:\t 10 Val Loss:\t 0.01914151306264778\n",
      "Epoch:\t 11 Val Loss:\t 0.019133146308431662\n",
      "Epoch:\t 12 Val Loss:\t 0.01914014043179705\n",
      "Epoch:\t 13 Val Loss:\t 0.019129864678427796\n",
      "Epoch:\t 14 Val Loss:\t 0.01912954215384046\n"
     ]
    },
    {
     "name": "stderr",
     "output_type": "stream",
     "text": [
      "[I 2025-09-29 16:04:20,149] Trial 32 finished with value: 0.019127232982549668 and parameters: {'lr': 0.0001, 'weight_decay': 0.0001, 'scheduler_factor': 0.8, 'scheduler_patience': 20, 'batch_size': 16, 'dropout': 0.2, 'hidden_dims': 64}. Best is trial 14 with value: 0.019090491773488212.\n"
     ]
    },
    {
     "name": "stdout",
     "output_type": "stream",
     "text": [
      "Epoch:\t 15 Val Loss:\t 0.019154081681123643\n",
      "Epoch:\t 0 Val Loss:\t 0.01914835681707255\n",
      "Epoch:\t 1 Val Loss:\t 0.019135329328006115\n",
      "Epoch:\t 2 Val Loss:\t 0.01913419040521218\n",
      "Epoch:\t 3 Val Loss:\t 0.01912340804749129\n",
      "Epoch:\t 4 Val Loss:\t 0.019159518991054253\n",
      "Epoch:\t 5 Val Loss:\t 0.019151341264650505\n",
      "Epoch:\t 6 Val Loss:\t 0.019135801311018642\n",
      "Epoch:\t 7 Val Loss:\t 0.019128085080554216\n",
      "Epoch:\t 8 Val Loss:\t 0.01912016822418354\n",
      "Epoch:\t 9 Val Loss:\t 0.01913398125607628\n",
      "Epoch:\t 10 Val Loss:\t 0.019130304234174517\n",
      "Epoch:\t 11 Val Loss:\t 0.01915151664310839\n",
      "Epoch:\t 12 Val Loss:\t 0.019140681842860576\n",
      "Epoch:\t 13 Val Loss:\t 0.019136552829292695\n",
      "Epoch:\t 14 Val Loss:\t 0.019135529979178188\n",
      "Epoch:\t 15 Val Loss:\t 0.019142757407292977\n",
      "Epoch:\t 16 Val Loss:\t 0.019146228424505418\n",
      "Epoch:\t 17 Val Loss:\t 0.01914331576577918\n"
     ]
    },
    {
     "name": "stderr",
     "output_type": "stream",
     "text": [
      "[I 2025-09-29 16:12:02,592] Trial 33 finished with value: 0.01912016822418354 and parameters: {'lr': 0.0001, 'weight_decay': 0.0001, 'scheduler_factor': 0.8, 'scheduler_patience': 20, 'batch_size': 16, 'dropout': 0.2, 'hidden_dims': 64}. Best is trial 14 with value: 0.019090491773488212.\n"
     ]
    },
    {
     "name": "stdout",
     "output_type": "stream",
     "text": [
      "Epoch:\t 18 Val Loss:\t 0.01913856847818909\n",
      "Epoch:\t 0 Val Loss:\t 0.01914546808832385\n",
      "Epoch:\t 1 Val Loss:\t 0.019139477943124143\n",
      "Epoch:\t 2 Val Loss:\t 0.01914708797173945\n",
      "Epoch:\t 3 Val Loss:\t 0.019139730371669935\n",
      "Epoch:\t 4 Val Loss:\t 0.019145211958267357\n",
      "Epoch:\t 5 Val Loss:\t 0.019138175435472336\n",
      "Epoch:\t 6 Val Loss:\t 0.019134329562072058\n",
      "Epoch:\t 7 Val Loss:\t 0.019145145453620758\n",
      "Epoch:\t 8 Val Loss:\t 0.019144503601450983\n",
      "Epoch:\t 9 Val Loss:\t 0.019128209212896232\n",
      "Epoch:\t 10 Val Loss:\t 0.01912706764327084\n",
      "Epoch:\t 11 Val Loss:\t 0.019134165714692824\n",
      "Epoch:\t 12 Val Loss:\t 0.019151595503823574\n",
      "Epoch:\t 13 Val Loss:\t 0.01912885557602884\n",
      "Epoch:\t 14 Val Loss:\t 0.019143987034663534\n",
      "Epoch:\t 15 Val Loss:\t 0.019123600259202754\n",
      "Epoch:\t 16 Val Loss:\t 0.0191399754979874\n",
      "Epoch:\t 17 Val Loss:\t 0.01913634478023345\n",
      "Epoch:\t 18 Val Loss:\t 0.01912450051440736\n",
      "Epoch:\t 19 Val Loss:\t 0.01913567257164962\n"
     ]
    },
    {
     "name": "stderr",
     "output_type": "stream",
     "text": [
      "[I 2025-09-29 16:22:35,003] Trial 34 pruned. \n"
     ]
    },
    {
     "name": "stdout",
     "output_type": "stream",
     "text": [
      "Epoch:\t 20 Val Loss:\t 0.019127600591634607\n"
     ]
    },
    {
     "name": "stderr",
     "output_type": "stream",
     "text": [
      "[I 2025-09-29 16:22:38,318] Trial 35 pruned. \n"
     ]
    },
    {
     "name": "stdout",
     "output_type": "stream",
     "text": [
      "Epoch:\t 0 Val Loss:\t 0.024040150668385416\n"
     ]
    },
    {
     "name": "stderr",
     "output_type": "stream",
     "text": [
      "[I 2025-09-29 16:23:06,193] Trial 36 pruned. \n"
     ]
    },
    {
     "name": "stdout",
     "output_type": "stream",
     "text": [
      "Epoch:\t 0 Val Loss:\t 0.0197459472874043\n"
     ]
    },
    {
     "name": "stderr",
     "output_type": "stream",
     "text": [
      "[I 2025-09-29 16:23:16,916] Trial 37 pruned. \n"
     ]
    },
    {
     "name": "stdout",
     "output_type": "stream",
     "text": [
      "Epoch:\t 0 Val Loss:\t 0.029564793351378228\n"
     ]
    },
    {
     "name": "stderr",
     "output_type": "stream",
     "text": [
      "[I 2025-09-29 16:23:21,129] Trial 38 pruned. \n"
     ]
    },
    {
     "name": "stdout",
     "output_type": "stream",
     "text": [
      "Epoch:\t 0 Val Loss:\t 0.019748536002379816\n"
     ]
    },
    {
     "name": "stderr",
     "output_type": "stream",
     "text": [
      "[I 2025-09-29 16:23:27,965] Trial 39 pruned. \n"
     ]
    },
    {
     "name": "stdout",
     "output_type": "stream",
     "text": [
      "Epoch:\t 0 Val Loss:\t 0.019551595754043624\n"
     ]
    },
    {
     "name": "stderr",
     "output_type": "stream",
     "text": [
      "[I 2025-09-29 16:23:54,698] Trial 40 pruned. \n"
     ]
    },
    {
     "name": "stdout",
     "output_type": "stream",
     "text": [
      "Epoch:\t 0 Val Loss:\t 0.0208895849081557\n",
      "Epoch:\t 0 Val Loss:\t 0.019158350265667708\n",
      "Epoch:\t 1 Val Loss:\t 0.01913823811552179\n",
      "Epoch:\t 2 Val Loss:\t 0.019136563020201808\n",
      "Epoch:\t 3 Val Loss:\t 0.019136310810941744\n",
      "Epoch:\t 4 Val Loss:\t 0.01912768234643503\n",
      "Epoch:\t 5 Val Loss:\t 0.019130337097309557\n",
      "Epoch:\t 6 Val Loss:\t 0.01913891227349226\n",
      "Epoch:\t 7 Val Loss:\t 0.019139161366679126\n",
      "Epoch:\t 8 Val Loss:\t 0.019127387591014403\n",
      "Epoch:\t 9 Val Loss:\t 0.019131870995993523\n",
      "Epoch:\t 10 Val Loss:\t 0.019134113483074727\n",
      "Epoch:\t 11 Val Loss:\t 0.019136648068476637\n",
      "Epoch:\t 12 Val Loss:\t 0.019141695304897646\n",
      "Epoch:\t 13 Val Loss:\t 0.01913083448639118\n",
      "Epoch:\t 14 Val Loss:\t 0.01912923660059051\n",
      "Epoch:\t 15 Val Loss:\t 0.019140894749983723\n",
      "Epoch:\t 16 Val Loss:\t 0.019127443745320487\n",
      "Epoch:\t 17 Val Loss:\t 0.019135265962266532\n"
     ]
    },
    {
     "name": "stderr",
     "output_type": "stream",
     "text": [
      "[I 2025-09-29 16:32:24,401] Trial 41 finished with value: 0.019127387591014403 and parameters: {'lr': 0.0001, 'weight_decay': 0.0001, 'scheduler_factor': 0.8, 'scheduler_patience': 20, 'batch_size': 16, 'dropout': 0.2, 'hidden_dims': 64}. Best is trial 14 with value: 0.019090491773488212.\n"
     ]
    },
    {
     "name": "stdout",
     "output_type": "stream",
     "text": [
      "Epoch:\t 18 Val Loss:\t 0.019143169168472057\n",
      "Epoch:\t 0 Val Loss:\t 0.01914065245924828\n",
      "Epoch:\t 1 Val Loss:\t 0.0191345509370292\n",
      "Epoch:\t 2 Val Loss:\t 0.019140124866023095\n",
      "Epoch:\t 3 Val Loss:\t 0.019138458048030098\n",
      "Epoch:\t 4 Val Loss:\t 0.019138422364985953\n",
      "Epoch:\t 5 Val Loss:\t 0.019132550511939916\n",
      "Epoch:\t 6 Val Loss:\t 0.019141840090901936\n",
      "Epoch:\t 7 Val Loss:\t 0.019144604779454562\n",
      "Epoch:\t 8 Val Loss:\t 0.019145540274402954\n",
      "Epoch:\t 9 Val Loss:\t 0.019150074189005942\n",
      "Epoch:\t 10 Val Loss:\t 0.019152217786464594\n",
      "Epoch:\t 11 Val Loss:\t 0.019128745723876225\n",
      "Epoch:\t 12 Val Loss:\t 0.01914596357733448\n",
      "Epoch:\t 13 Val Loss:\t 0.019137953531284016\n",
      "Epoch:\t 14 Val Loss:\t 0.019134914016911274\n",
      "Epoch:\t 15 Val Loss:\t 0.019146526430299928\n"
     ]
    },
    {
     "name": "stderr",
     "output_type": "stream",
     "text": [
      "[I 2025-09-29 16:39:59,009] Trial 42 pruned. \n"
     ]
    },
    {
     "name": "stdout",
     "output_type": "stream",
     "text": [
      "Epoch:\t 16 Val Loss:\t 0.019143180361907427\n",
      "Epoch:\t 0 Val Loss:\t 0.019166206075755445\n",
      "Epoch:\t 1 Val Loss:\t 0.019146849138908933\n",
      "Epoch:\t 2 Val Loss:\t 0.01913403418986809\n",
      "Epoch:\t 3 Val Loss:\t 0.019146023072403946\n",
      "Epoch:\t 4 Val Loss:\t 0.019137540829189455\n",
      "Epoch:\t 5 Val Loss:\t 0.019134385950120788\n",
      "Epoch:\t 6 Val Loss:\t 0.01913791897331213\n",
      "Epoch:\t 7 Val Loss:\t 0.019149179932069972\n",
      "Epoch:\t 8 Val Loss:\t 0.01913385832541466\n"
     ]
    },
    {
     "name": "stderr",
     "output_type": "stream",
     "text": [
      "[I 2025-09-29 16:44:51,023] Trial 43 pruned. \n"
     ]
    },
    {
     "name": "stdout",
     "output_type": "stream",
     "text": [
      "Epoch:\t 9 Val Loss:\t 0.01913501901937689\n",
      "Epoch:\t 0 Val Loss:\t 0.01915288351105447\n",
      "Epoch:\t 1 Val Loss:\t 0.019128061585635243\n",
      "Epoch:\t 2 Val Loss:\t 0.019145850026643617\n",
      "Epoch:\t 3 Val Loss:\t 0.019155350617656906\n",
      "Epoch:\t 4 Val Loss:\t 0.019129942645651585\n",
      "Epoch:\t 5 Val Loss:\t 0.019146156275987272\n",
      "Epoch:\t 6 Val Loss:\t 0.019140010979175177\n",
      "Epoch:\t 7 Val Loss:\t 0.01912448114268163\n",
      "Epoch:\t 8 Val Loss:\t 0.019132639476282277\n",
      "Epoch:\t 9 Val Loss:\t 0.01913424132962791\n",
      "Epoch:\t 10 Val Loss:\t 0.019140103000547075\n",
      "Epoch:\t 11 Val Loss:\t 0.019134044500485864\n",
      "Epoch:\t 12 Val Loss:\t 0.019124583881761813\n",
      "Epoch:\t 13 Val Loss:\t 0.019122204002239924\n",
      "Epoch:\t 14 Val Loss:\t 0.019136069351816696\n",
      "Epoch:\t 15 Val Loss:\t 0.019129840856809566\n",
      "Epoch:\t 16 Val Loss:\t 0.01913565028084305\n",
      "Epoch:\t 17 Val Loss:\t 0.019124348126362642\n",
      "Epoch:\t 18 Val Loss:\t 0.019128930249508003\n",
      "Epoch:\t 19 Val Loss:\t 0.019141687451414986\n"
     ]
    },
    {
     "name": "stderr",
     "output_type": "stream",
     "text": [
      "[I 2025-09-29 16:54:18,888] Trial 44 pruned. \n"
     ]
    },
    {
     "name": "stdout",
     "output_type": "stream",
     "text": [
      "Epoch:\t 20 Val Loss:\t 0.019144704689843403\n"
     ]
    },
    {
     "name": "stderr",
     "output_type": "stream",
     "text": [
      "[I 2025-09-29 16:54:22,210] Trial 45 pruned. \n"
     ]
    },
    {
     "name": "stdout",
     "output_type": "stream",
     "text": [
      "Epoch:\t 0 Val Loss:\t 0.019616381962632025\n"
     ]
    },
    {
     "name": "stderr",
     "output_type": "stream",
     "text": [
      "[I 2025-09-29 16:54:32,272] Trial 46 pruned. \n"
     ]
    },
    {
     "name": "stdout",
     "output_type": "stream",
     "text": [
      "Epoch:\t 0 Val Loss:\t 0.023543538277059604\n"
     ]
    },
    {
     "name": "stderr",
     "output_type": "stream",
     "text": [
      "[I 2025-09-29 16:55:00,106] Trial 47 pruned. \n"
     ]
    },
    {
     "name": "stdout",
     "output_type": "stream",
     "text": [
      "Epoch:\t 0 Val Loss:\t 0.031152775851626208\n"
     ]
    },
    {
     "name": "stderr",
     "output_type": "stream",
     "text": [
      "[I 2025-09-29 16:55:10,015] Trial 48 pruned. \n"
     ]
    },
    {
     "name": "stdout",
     "output_type": "stream",
     "text": [
      "Epoch:\t 0 Val Loss:\t 0.019296496074962376\n"
     ]
    },
    {
     "name": "stderr",
     "output_type": "stream",
     "text": [
      "[I 2025-09-29 16:55:39,780] Trial 49 pruned. \n"
     ]
    },
    {
     "name": "stdout",
     "output_type": "stream",
     "text": [
      "Epoch:\t 0 Val Loss:\t 0.020433177482987997\n",
      "Training model with best parameters on train+validation ...\n"
     ]
    },
    {
     "name": "stderr",
     "output_type": "stream",
     "text": [
      "100%|███████████████████████████████████████████████████████████████████████████████████████████████████████████████████████████████████████████████████| 557340/557340 [05:38<00:00, 1647.77it/s]\n",
      "100%|███████████████████████████████████████████████████████████████████████████████████████████████████████████████████████████████████████████████████| 557340/557340 [01:40<00:00, 5529.66it/s]\n"
     ]
    },
    {
     "name": "stdout",
     "output_type": "stream",
     "text": [
      "Getting test set predictions and saving results ...\n"
     ]
    },
    {
     "name": "stderr",
     "output_type": "stream",
     "text": [
      "100%|████████████████████████████████████████████████████████████████████████████████████████████████████████████████████████████████████████████████████████| 3281/3281 [00:03<00:00, 957.64it/s]\n"
     ]
    }
   ],
   "source": [
    "train_different_fs(\n",
    "        adata_path=\"./data/feature_selection/sciplex_rand.h5ad\",\n",
    "        run_name=\"decoder_random_fs\",\n",
    "        res_savename=\"./results/feature_selection/decoder_random_fs_res.pkl\",\n",
    "    )"
   ]
  },
  {
   "cell_type": "code",
   "execution_count": 4,
   "id": "719fab55-a287-410c-8414-583cf192d8a2",
   "metadata": {},
   "outputs": [
    {
     "name": "stdout",
     "output_type": "stream",
     "text": [
      "Loading Datasets ...\n"
     ]
    },
    {
     "name": "stderr",
     "output_type": "stream",
     "text": [
      "100%|███████████████████████████████████████████████████████████████████████████████████████████████████████████████████████████████████████████████████| 557340/557340 [04:25<00:00, 2102.02it/s]\n",
      "100%|███████████████████████████████████████████████████████████████████████████████████████████████████████████████████████████████████████████████████| 557340/557340 [01:44<00:00, 5311.38it/s]\n",
      "[I 2025-09-29 17:14:37,231] A new study created in RDB with name: decoder_seurat_fs\n"
     ]
    },
    {
     "name": "stdout",
     "output_type": "stream",
     "text": [
      "Optimizing Hyperparameters with Optuna ...\n",
      "Epoch:\t 0 Val Loss:\t 0.032357832461749024\n",
      "Epoch:\t 1 Val Loss:\t 0.029083844937138767\n",
      "Epoch:\t 2 Val Loss:\t 0.02602140670586861\n",
      "Epoch:\t 3 Val Loss:\t 0.025544402222655065\n",
      "Epoch:\t 4 Val Loss:\t 0.025534444065956674\n",
      "Epoch:\t 5 Val Loss:\t 0.02559855519745963\n",
      "Epoch:\t 6 Val Loss:\t 0.02562936010501493\n",
      "Epoch:\t 7 Val Loss:\t 0.02596860513065146\n",
      "Epoch:\t 8 Val Loss:\t 0.02623991874971731\n",
      "Epoch:\t 9 Val Loss:\t 0.026499499279606303\n",
      "Epoch:\t 10 Val Loss:\t 0.026737877786976668\n",
      "Epoch:\t 11 Val Loss:\t 0.02706654242948011\n",
      "Epoch:\t 12 Val Loss:\t 0.027126190188289094\n",
      "Epoch:\t 13 Val Loss:\t 0.027252249363482854\n"
     ]
    },
    {
     "name": "stderr",
     "output_type": "stream",
     "text": [
      "[I 2025-09-29 17:21:30,558] Trial 0 finished with value: 0.025534444065956674 and parameters: {'lr': 1e-06, 'weight_decay': 0.001, 'scheduler_factor': 0.3, 'scheduler_patience': 20, 'batch_size': 16, 'dropout': 0.2, 'hidden_dims': 512}. Best is trial 0 with value: 0.025534444065956674.\n"
     ]
    },
    {
     "name": "stdout",
     "output_type": "stream",
     "text": [
      "Epoch:\t 14 Val Loss:\t 0.02708315716814004\n",
      "Epoch:\t 0 Val Loss:\t 0.07474799896401119\n",
      "Epoch:\t 1 Val Loss:\t 0.05760904078768798\n",
      "Epoch:\t 2 Val Loss:\t 0.04662798062122658\n",
      "Epoch:\t 3 Val Loss:\t 0.04132660789876034\n",
      "Epoch:\t 4 Val Loss:\t 0.03880166857742405\n",
      "Epoch:\t 5 Val Loss:\t 0.03751839257335414\n",
      "Epoch:\t 6 Val Loss:\t 0.03685765604636741\n",
      "Epoch:\t 7 Val Loss:\t 0.03636176917922621\n",
      "Epoch:\t 8 Val Loss:\t 0.03630434438309326\n",
      "Epoch:\t 9 Val Loss:\t 0.036104154451798896\n",
      "Epoch:\t 10 Val Loss:\t 0.036627161741672076\n",
      "Epoch:\t 11 Val Loss:\t 0.03708703020256571\n",
      "Epoch:\t 12 Val Loss:\t 0.037962885939112664\n",
      "Epoch:\t 13 Val Loss:\t 0.0386834507862173\n",
      "Epoch:\t 14 Val Loss:\t 0.039744430982035076\n",
      "Epoch:\t 15 Val Loss:\t 0.04062096433633988\n",
      "Epoch:\t 16 Val Loss:\t 0.04117241396669311\n",
      "Epoch:\t 17 Val Loss:\t 0.04189113548304561\n",
      "Epoch:\t 18 Val Loss:\t 0.040825966386498755\n"
     ]
    },
    {
     "name": "stderr",
     "output_type": "stream",
     "text": [
      "[I 2025-09-29 17:22:57,318] Trial 1 finished with value: 0.036104154451798896 and parameters: {'lr': 1e-06, 'weight_decay': 0.0001, 'scheduler_factor': 0.5, 'scheduler_patience': 10, 'batch_size': 128, 'dropout': 0.05, 'hidden_dims': 128}. Best is trial 0 with value: 0.025534444065956674.\n"
     ]
    },
    {
     "name": "stdout",
     "output_type": "stream",
     "text": [
      "Epoch:\t 19 Val Loss:\t 0.040828218612209845\n",
      "Epoch:\t 0 Val Loss:\t 0.039726746402854146\n",
      "Epoch:\t 1 Val Loss:\t 0.035059384629130365\n",
      "Epoch:\t 2 Val Loss:\t 0.032362914756806783\n",
      "Epoch:\t 3 Val Loss:\t 0.030311854608183683\n",
      "Epoch:\t 4 Val Loss:\t 0.02893404341194519\n",
      "Epoch:\t 5 Val Loss:\t 0.027718136879767097\n",
      "Epoch:\t 6 Val Loss:\t 0.027097229707206405\n",
      "Epoch:\t 7 Val Loss:\t 0.026566194405042848\n",
      "Epoch:\t 8 Val Loss:\t 0.02617288293793451\n",
      "Epoch:\t 9 Val Loss:\t 0.025906083628881808\n",
      "Epoch:\t 10 Val Loss:\t 0.02570599387291559\n",
      "Epoch:\t 11 Val Loss:\t 0.025573701402822207\n",
      "Epoch:\t 12 Val Loss:\t 0.025418922560679357\n",
      "Epoch:\t 13 Val Loss:\t 0.025324509570071863\n",
      "Epoch:\t 14 Val Loss:\t 0.025209916954816773\n",
      "Epoch:\t 15 Val Loss:\t 0.02512492994929469\n",
      "Epoch:\t 16 Val Loss:\t 0.025063985516858657\n",
      "Epoch:\t 17 Val Loss:\t 0.025008148396777553\n",
      "Epoch:\t 18 Val Loss:\t 0.02494377084509578\n",
      "Epoch:\t 19 Val Loss:\t 0.0248905275666783\n",
      "Epoch:\t 20 Val Loss:\t 0.0248327229388578\n",
      "Epoch:\t 21 Val Loss:\t 0.024770867122813713\n",
      "Epoch:\t 22 Val Loss:\t 0.024745654297429462\n",
      "Epoch:\t 23 Val Loss:\t 0.02474534365586763\n",
      "Epoch:\t 24 Val Loss:\t 0.024704363747218322\n",
      "Epoch:\t 25 Val Loss:\t 0.02467377397210099\n",
      "Epoch:\t 26 Val Loss:\t 0.024634251544295355\n",
      "Epoch:\t 27 Val Loss:\t 0.02461348896802858\n",
      "Epoch:\t 28 Val Loss:\t 0.024610142656710257\n",
      "Epoch:\t 29 Val Loss:\t 0.024567399823734928\n",
      "Epoch:\t 30 Val Loss:\t 0.024556305233475774\n",
      "Epoch:\t 31 Val Loss:\t 0.02452809392193029\n",
      "Epoch:\t 32 Val Loss:\t 0.02452673408267803\n",
      "Epoch:\t 33 Val Loss:\t 0.02451668108791806\n",
      "Epoch:\t 34 Val Loss:\t 0.02450650289308193\n",
      "Epoch:\t 35 Val Loss:\t 0.02447827706156775\n",
      "Epoch:\t 36 Val Loss:\t 0.024496969199457833\n",
      "Epoch:\t 37 Val Loss:\t 0.02446032057754522\n",
      "Epoch:\t 38 Val Loss:\t 0.02447620291522769\n",
      "Epoch:\t 39 Val Loss:\t 0.024453196133118728\n",
      "Epoch:\t 40 Val Loss:\t 0.02443144904926073\n",
      "Epoch:\t 41 Val Loss:\t 0.024424013932950274\n",
      "Epoch:\t 42 Val Loss:\t 0.024405746551793676\n",
      "Epoch:\t 43 Val Loss:\t 0.024405649499317936\n",
      "Epoch:\t 44 Val Loss:\t 0.02441905762913615\n",
      "Epoch:\t 45 Val Loss:\t 0.024400492701246296\n",
      "Epoch:\t 46 Val Loss:\t 0.024380754016686317\n",
      "Epoch:\t 47 Val Loss:\t 0.024377136989388357\n",
      "Epoch:\t 48 Val Loss:\t 0.024382334224186664\n",
      "Epoch:\t 49 Val Loss:\t 0.024365170941103336\n",
      "Epoch:\t 50 Val Loss:\t 0.02436784346003172\n",
      "Epoch:\t 51 Val Loss:\t 0.024369920703560807\n",
      "Epoch:\t 52 Val Loss:\t 0.02436547568717668\n",
      "Epoch:\t 53 Val Loss:\t 0.0243642985127693\n",
      "Epoch:\t 54 Val Loss:\t 0.024365562070594277\n",
      "Epoch:\t 55 Val Loss:\t 0.024362920805118805\n",
      "Epoch:\t 56 Val Loss:\t 0.024348526205434356\n",
      "Epoch:\t 57 Val Loss:\t 0.024349522096819655\n",
      "Epoch:\t 58 Val Loss:\t 0.024351971878042056\n",
      "Epoch:\t 59 Val Loss:\t 0.024349423896434696\n",
      "Epoch:\t 60 Val Loss:\t 0.02435699619006279\n",
      "Epoch:\t 61 Val Loss:\t 0.0243573498370689\n",
      "Epoch:\t 62 Val Loss:\t 0.024349310400700847\n",
      "Epoch:\t 63 Val Loss:\t 0.024344646428213563\n",
      "Epoch:\t 64 Val Loss:\t 0.024346626853180488\n",
      "Epoch:\t 65 Val Loss:\t 0.024348629534591076\n",
      "Epoch:\t 66 Val Loss:\t 0.024348993001635684\n",
      "Epoch:\t 67 Val Loss:\t 0.02434166020951992\n",
      "Epoch:\t 68 Val Loss:\t 0.024351364469458892\n",
      "Epoch:\t 69 Val Loss:\t 0.024356401092264543\n",
      "Epoch:\t 70 Val Loss:\t 0.024351264415092246\n",
      "Epoch:\t 71 Val Loss:\t 0.024347575688951236\n",
      "Epoch:\t 72 Val Loss:\t 0.024349512103511845\n",
      "Epoch:\t 73 Val Loss:\t 0.024358585966361125\n",
      "Epoch:\t 74 Val Loss:\t 0.024344497984058636\n",
      "Epoch:\t 75 Val Loss:\t 0.024349541446670543\n",
      "Epoch:\t 76 Val Loss:\t 0.024342689377277398\n"
     ]
    },
    {
     "name": "stderr",
     "output_type": "stream",
     "text": [
      "[I 2025-09-29 17:27:24,651] Trial 2 finished with value: 0.02434166020951992 and parameters: {'lr': 0.0001, 'weight_decay': 1e-06, 'scheduler_factor': 0.8, 'scheduler_patience': 1, 'batch_size': 256, 'dropout': 0.05, 'hidden_dims': 64}. Best is trial 2 with value: 0.02434166020951992.\n"
     ]
    },
    {
     "name": "stdout",
     "output_type": "stream",
     "text": [
      "Epoch:\t 77 Val Loss:\t 0.02435079283665779\n",
      "Epoch:\t 0 Val Loss:\t 0.028845491658809574\n",
      "Epoch:\t 1 Val Loss:\t 0.024719145677463954\n",
      "Epoch:\t 2 Val Loss:\t 0.02440394476316003\n",
      "Epoch:\t 3 Val Loss:\t 0.02444579468736815\n",
      "Epoch:\t 4 Val Loss:\t 0.02458589135474244\n",
      "Epoch:\t 5 Val Loss:\t 0.024543412328632764\n",
      "Epoch:\t 6 Val Loss:\t 0.024604381672864738\n",
      "Epoch:\t 7 Val Loss:\t 0.024589812214118104\n",
      "Epoch:\t 8 Val Loss:\t 0.024591045094610648\n",
      "Epoch:\t 9 Val Loss:\t 0.024597257397375828\n",
      "Epoch:\t 10 Val Loss:\t 0.024609311670064925\n",
      "Epoch:\t 11 Val Loss:\t 0.024639895653655364\n"
     ]
    },
    {
     "name": "stderr",
     "output_type": "stream",
     "text": [
      "[I 2025-09-29 17:28:09,542] Trial 3 finished with value: 0.02440394476316003 and parameters: {'lr': 0.0001, 'weight_decay': 0.001, 'scheduler_factor': 0.1, 'scheduler_patience': 1, 'batch_size': 256, 'dropout': 0.1, 'hidden_dims': 64}. Best is trial 2 with value: 0.02434166020951992.\n"
     ]
    },
    {
     "name": "stdout",
     "output_type": "stream",
     "text": [
      "Epoch:\t 12 Val Loss:\t 0.024611868198181307\n",
      "Epoch:\t 0 Val Loss:\t 0.060967297288914056\n",
      "Epoch:\t 1 Val Loss:\t 0.05154601719317048\n",
      "Epoch:\t 2 Val Loss:\t 0.045773822355062464\n",
      "Epoch:\t 3 Val Loss:\t 0.042355617066455443\n",
      "Epoch:\t 4 Val Loss:\t 0.04062880853754143\n",
      "Epoch:\t 5 Val Loss:\t 0.039251237431930944\n",
      "Epoch:\t 6 Val Loss:\t 0.037044245966298635\n",
      "Epoch:\t 7 Val Loss:\t 0.03571503761029521\n",
      "Epoch:\t 8 Val Loss:\t 0.0347593906573778\n",
      "Epoch:\t 9 Val Loss:\t 0.03460131886653429\n",
      "Epoch:\t 10 Val Loss:\t 0.03348806593133959\n",
      "Epoch:\t 11 Val Loss:\t 0.03273360548151094\n",
      "Epoch:\t 12 Val Loss:\t 0.03175291545515837\n",
      "Epoch:\t 13 Val Loss:\t 0.030591170052283033\n",
      "Epoch:\t 14 Val Loss:\t 0.029826933704316615\n",
      "Epoch:\t 15 Val Loss:\t 0.028949634358286857\n",
      "Epoch:\t 16 Val Loss:\t 0.028269048347029577\n",
      "Epoch:\t 17 Val Loss:\t 0.027735212181023386\n",
      "Epoch:\t 18 Val Loss:\t 0.02728876201219337\n",
      "Epoch:\t 19 Val Loss:\t 0.026823199406092943\n",
      "Epoch:\t 20 Val Loss:\t 0.026291456424392932\n",
      "Epoch:\t 21 Val Loss:\t 0.02609370491619027\n",
      "Epoch:\t 22 Val Loss:\t 0.02585876872546451\n",
      "Epoch:\t 23 Val Loss:\t 0.02560250875648371\n",
      "Epoch:\t 24 Val Loss:\t 0.025315963676156\n",
      "Epoch:\t 25 Val Loss:\t 0.025274868612719138\n",
      "Epoch:\t 26 Val Loss:\t 0.025085013723650643\n",
      "Epoch:\t 27 Val Loss:\t 0.024960146043016468\n",
      "Epoch:\t 28 Val Loss:\t 0.024932891559288944\n",
      "Epoch:\t 29 Val Loss:\t 0.024816896502188473\n",
      "Epoch:\t 30 Val Loss:\t 0.02478207584557145\n",
      "Epoch:\t 31 Val Loss:\t 0.02472387719899416\n",
      "Epoch:\t 32 Val Loss:\t 0.024665199726993263\n",
      "Epoch:\t 33 Val Loss:\t 0.024641221969626672\n",
      "Epoch:\t 34 Val Loss:\t 0.02461361517306677\n",
      "Epoch:\t 35 Val Loss:\t 0.024597907499518505\n",
      "Epoch:\t 36 Val Loss:\t 0.024589503963672838\n",
      "Epoch:\t 37 Val Loss:\t 0.024586318996410037\n",
      "Epoch:\t 38 Val Loss:\t 0.024617874834599884\n",
      "Epoch:\t 39 Val Loss:\t 0.02458733054700979\n",
      "Epoch:\t 40 Val Loss:\t 0.02460597299992345\n",
      "Epoch:\t 41 Val Loss:\t 0.024616112018567185\n",
      "Epoch:\t 42 Val Loss:\t 0.024622980145694213\n",
      "Epoch:\t 43 Val Loss:\t 0.024613182939762293\n",
      "Epoch:\t 44 Val Loss:\t 0.0245930060007891\n",
      "Epoch:\t 45 Val Loss:\t 0.024610115063571653\n",
      "Epoch:\t 46 Val Loss:\t 0.02460869905907054\n"
     ]
    },
    {
     "name": "stderr",
     "output_type": "stream",
     "text": [
      "[I 2025-09-29 17:30:55,039] Trial 4 finished with value: 0.024586318996410037 and parameters: {'lr': 1e-05, 'weight_decay': 0.001, 'scheduler_factor': 0.3, 'scheduler_patience': 1, 'batch_size': 256, 'dropout': 0.15, 'hidden_dims': 64}. Best is trial 2 with value: 0.02434166020951992.\n"
     ]
    },
    {
     "name": "stdout",
     "output_type": "stream",
     "text": [
      "Epoch:\t 47 Val Loss:\t 0.02461959366621666\n",
      "Epoch:\t 0 Val Loss:\t 0.02700776682122753\n",
      "Epoch:\t 1 Val Loss:\t 0.026953106037418476\n",
      "Epoch:\t 2 Val Loss:\t 0.027023886149781857\n",
      "Epoch:\t 3 Val Loss:\t 0.02702536454309958\n",
      "Epoch:\t 4 Val Loss:\t 0.02718682901672484\n",
      "Epoch:\t 5 Val Loss:\t 0.026984062081482005\n",
      "Epoch:\t 6 Val Loss:\t 0.026892069649223135\n"
     ]
    },
    {
     "name": "stderr",
     "output_type": "stream",
     "text": [
      "[I 2025-09-29 17:33:39,693] Trial 5 pruned. \n"
     ]
    },
    {
     "name": "stdout",
     "output_type": "stream",
     "text": [
      "Epoch:\t 7 Val Loss:\t 0.02716253797962654\n",
      "Epoch:\t 0 Val Loss:\t 0.025840671078930066\n",
      "Epoch:\t 1 Val Loss:\t 0.026068621522985225\n",
      "Epoch:\t 2 Val Loss:\t 0.025922346938141556\n",
      "Epoch:\t 3 Val Loss:\t 0.025873212282394253\n",
      "Epoch:\t 4 Val Loss:\t 0.025927106546627922\n",
      "Epoch:\t 5 Val Loss:\t 0.026006124805399152\n",
      "Epoch:\t 6 Val Loss:\t 0.02602653696180083\n",
      "Epoch:\t 7 Val Loss:\t 0.025848062908233597\n",
      "Epoch:\t 8 Val Loss:\t 0.025926985556996147\n",
      "Epoch:\t 9 Val Loss:\t 0.02594213112322397\n"
     ]
    },
    {
     "name": "stderr",
     "output_type": "stream",
     "text": [
      "[I 2025-09-29 17:34:14,290] Trial 6 finished with value: 0.025840671078930066 and parameters: {'lr': 0.001, 'weight_decay': 0.001, 'scheduler_factor': 0.8, 'scheduler_patience': 10, 'batch_size': 256, 'dropout': 0.1, 'hidden_dims': 128}. Best is trial 2 with value: 0.02434166020951992.\n"
     ]
    },
    {
     "name": "stdout",
     "output_type": "stream",
     "text": [
      "Epoch:\t 10 Val Loss:\t 0.02599393844951031\n",
      "Epoch:\t 0 Val Loss:\t 0.025049404461241057\n",
      "Epoch:\t 1 Val Loss:\t 0.02460859991687334\n",
      "Epoch:\t 2 Val Loss:\t 0.024485694479867957\n",
      "Epoch:\t 3 Val Loss:\t 0.024400925224039735\n",
      "Epoch:\t 4 Val Loss:\t 0.02444137484629675\n",
      "Epoch:\t 5 Val Loss:\t 0.02442054310658168\n",
      "Epoch:\t 6 Val Loss:\t 0.024410376833133258\n",
      "Epoch:\t 7 Val Loss:\t 0.024435201678714213\n",
      "Epoch:\t 8 Val Loss:\t 0.02447108906689298\n",
      "Epoch:\t 9 Val Loss:\t 0.02452227931975536\n",
      "Epoch:\t 10 Val Loss:\t 0.024530871002627495\n",
      "Epoch:\t 11 Val Loss:\t 0.02456392304509463\n",
      "Epoch:\t 12 Val Loss:\t 0.02461765139841595\n"
     ]
    },
    {
     "name": "stderr",
     "output_type": "stream",
     "text": [
      "[I 2025-09-29 17:39:05,631] Trial 7 finished with value: 0.024400925224039735 and parameters: {'lr': 0.0001, 'weight_decay': 1e-06, 'scheduler_factor': 0.1, 'scheduler_patience': 10, 'batch_size': 16, 'dropout': 0.2, 'hidden_dims': 64}. Best is trial 2 with value: 0.02434166020951992.\n"
     ]
    },
    {
     "name": "stdout",
     "output_type": "stream",
     "text": [
      "Epoch:\t 13 Val Loss:\t 0.024684609111761097\n",
      "Epoch:\t 0 Val Loss:\t 0.026436636525094856\n",
      "Epoch:\t 1 Val Loss:\t 0.026031112826227033\n"
     ]
    },
    {
     "name": "stderr",
     "output_type": "stream",
     "text": [
      "[I 2025-09-29 17:39:20,332] Trial 8 pruned. \n"
     ]
    },
    {
     "name": "stdout",
     "output_type": "stream",
     "text": [
      "Epoch:\t 2 Val Loss:\t 0.026209236028562025\n",
      "Epoch:\t 0 Val Loss:\t 0.02913165497428722\n",
      "Epoch:\t 1 Val Loss:\t 0.028524721748326935\n"
     ]
    },
    {
     "name": "stderr",
     "output_type": "stream",
     "text": [
      "[I 2025-09-29 17:39:56,745] Trial 9 pruned. \n"
     ]
    },
    {
     "name": "stdout",
     "output_type": "stream",
     "text": [
      "Epoch:\t 2 Val Loss:\t 0.028284519786491893\n",
      "Epoch:\t 0 Val Loss:\t 0.025916661403411638\n",
      "Epoch:\t 1 Val Loss:\t 0.02466594109455479\n",
      "Epoch:\t 2 Val Loss:\t 0.024463388238597318\n",
      "Epoch:\t 3 Val Loss:\t 0.024328393641117694\n",
      "Epoch:\t 4 Val Loss:\t 0.02423342132051186\n",
      "Epoch:\t 5 Val Loss:\t 0.02422426008358295\n",
      "Epoch:\t 6 Val Loss:\t 0.02418018534922247\n",
      "Epoch:\t 7 Val Loss:\t 0.024174773393202093\n",
      "Epoch:\t 8 Val Loss:\t 0.024163728303130603\n",
      "Epoch:\t 9 Val Loss:\t 0.024154365058389433\n",
      "Epoch:\t 10 Val Loss:\t 0.024148253184536204\n",
      "Epoch:\t 11 Val Loss:\t 0.024145839158586133\n",
      "Epoch:\t 12 Val Loss:\t 0.024133420557440954\n",
      "Epoch:\t 13 Val Loss:\t 0.02413867355837285\n",
      "Epoch:\t 14 Val Loss:\t 0.024128892860584526\n",
      "Epoch:\t 15 Val Loss:\t 0.024130465808739097\n",
      "Epoch:\t 16 Val Loss:\t 0.024132747492832427\n",
      "Epoch:\t 17 Val Loss:\t 0.024127832326867243\n",
      "Epoch:\t 18 Val Loss:\t 0.024124007874767896\n",
      "Epoch:\t 19 Val Loss:\t 0.024138057916854885\n",
      "Epoch:\t 20 Val Loss:\t 0.024128899360924216\n",
      "Epoch:\t 21 Val Loss:\t 0.024120439106660115\n",
      "Epoch:\t 22 Val Loss:\t 0.024123480093237868\n",
      "Epoch:\t 23 Val Loss:\t 0.024124432116253945\n",
      "Epoch:\t 24 Val Loss:\t 0.024115758174538475\n",
      "Epoch:\t 25 Val Loss:\t 0.024120955026935023\n",
      "Epoch:\t 26 Val Loss:\t 0.024114339595668135\n",
      "Epoch:\t 27 Val Loss:\t 0.024131286365006527\n",
      "Epoch:\t 28 Val Loss:\t 0.024118682989030124\n",
      "Epoch:\t 29 Val Loss:\t 0.024127638248539706\n",
      "Epoch:\t 30 Val Loss:\t 0.02411943787381321\n",
      "Epoch:\t 31 Val Loss:\t 0.024120816689047333\n",
      "Epoch:\t 32 Val Loss:\t 0.024130385335549946\n",
      "Epoch:\t 33 Val Loss:\t 0.024120086421341447\n",
      "Epoch:\t 34 Val Loss:\t 0.024119873650618507\n",
      "Epoch:\t 35 Val Loss:\t 0.02412267409598004\n"
     ]
    },
    {
     "name": "stderr",
     "output_type": "stream",
     "text": [
      "[I 2025-09-29 17:43:41,571] Trial 10 finished with value: 0.024114339595668135 and parameters: {'lr': 0.0001, 'weight_decay': 1e-05, 'scheduler_factor': 0.8, 'scheduler_patience': 1, 'batch_size': 64, 'dropout': 0.05, 'hidden_dims': 256}. Best is trial 10 with value: 0.024114339595668135.\n"
     ]
    },
    {
     "name": "stdout",
     "output_type": "stream",
     "text": [
      "Epoch:\t 36 Val Loss:\t 0.024125689887120084\n",
      "Epoch:\t 0 Val Loss:\t 0.025740211116051646\n",
      "Epoch:\t 1 Val Loss:\t 0.02467806891765763\n",
      "Epoch:\t 2 Val Loss:\t 0.024470566887056074\n",
      "Epoch:\t 3 Val Loss:\t 0.024354688845925114\n",
      "Epoch:\t 4 Val Loss:\t 0.02430897936531955\n",
      "Epoch:\t 5 Val Loss:\t 0.02422455277075549\n",
      "Epoch:\t 6 Val Loss:\t 0.02421328956958553\n",
      "Epoch:\t 7 Val Loss:\t 0.0241587649818966\n",
      "Epoch:\t 8 Val Loss:\t 0.02416622937503971\n",
      "Epoch:\t 9 Val Loss:\t 0.024159898613895777\n",
      "Epoch:\t 10 Val Loss:\t 0.02415225085128343\n",
      "Epoch:\t 11 Val Loss:\t 0.024142145270560623\n",
      "Epoch:\t 12 Val Loss:\t 0.024149329736136933\n",
      "Epoch:\t 13 Val Loss:\t 0.02413749851143713\n",
      "Epoch:\t 14 Val Loss:\t 0.024136228128528257\n",
      "Epoch:\t 15 Val Loss:\t 0.024147205606094294\n",
      "Epoch:\t 16 Val Loss:\t 0.024127374142105678\n",
      "Epoch:\t 17 Val Loss:\t 0.02413000518621502\n",
      "Epoch:\t 18 Val Loss:\t 0.02412376327854184\n",
      "Epoch:\t 19 Val Loss:\t 0.024128026911125096\n",
      "Epoch:\t 20 Val Loss:\t 0.024134697894189015\n",
      "Epoch:\t 21 Val Loss:\t 0.024125535470269754\n",
      "Epoch:\t 22 Val Loss:\t 0.024115562635715522\n",
      "Epoch:\t 23 Val Loss:\t 0.02412849207296838\n",
      "Epoch:\t 24 Val Loss:\t 0.02413392784555015\n",
      "Epoch:\t 25 Val Loss:\t 0.024118813009877504\n",
      "Epoch:\t 26 Val Loss:\t 0.024131473070588903\n",
      "Epoch:\t 27 Val Loss:\t 0.02412882339678493\n",
      "Epoch:\t 28 Val Loss:\t 0.024127001703883835\n",
      "Epoch:\t 29 Val Loss:\t 0.02412216420795118\n",
      "Epoch:\t 30 Val Loss:\t 0.02412544282015956\n",
      "Epoch:\t 31 Val Loss:\t 0.024118015001021495\n"
     ]
    },
    {
     "name": "stderr",
     "output_type": "stream",
     "text": [
      "[I 2025-09-29 17:46:43,182] Trial 11 finished with value: 0.024115562635715522 and parameters: {'lr': 0.0001, 'weight_decay': 1e-05, 'scheduler_factor': 0.8, 'scheduler_patience': 1, 'batch_size': 64, 'dropout': 0.05, 'hidden_dims': 256}. Best is trial 10 with value: 0.024114339595668135.\n"
     ]
    },
    {
     "name": "stdout",
     "output_type": "stream",
     "text": [
      "Epoch:\t 32 Val Loss:\t 0.024124775038631033\n",
      "Epoch:\t 0 Val Loss:\t 0.02577066060222655\n",
      "Epoch:\t 1 Val Loss:\t 0.024704301153599905\n",
      "Epoch:\t 2 Val Loss:\t 0.024471024632912283\n",
      "Epoch:\t 3 Val Loss:\t 0.024353347697094713\n",
      "Epoch:\t 4 Val Loss:\t 0.02427799141037727\n",
      "Epoch:\t 5 Val Loss:\t 0.024228860339278478\n",
      "Epoch:\t 6 Val Loss:\t 0.024176366918018166\n",
      "Epoch:\t 7 Val Loss:\t 0.02418156714760766\n",
      "Epoch:\t 8 Val Loss:\t 0.024170328706753716\n",
      "Epoch:\t 9 Val Loss:\t 0.02415759836280858\n",
      "Epoch:\t 10 Val Loss:\t 0.02415204088263607\n",
      "Epoch:\t 11 Val Loss:\t 0.024141519936369177\n",
      "Epoch:\t 12 Val Loss:\t 0.02415256305028551\n",
      "Epoch:\t 13 Val Loss:\t 0.024153595620542506\n",
      "Epoch:\t 14 Val Loss:\t 0.024133406821649155\n",
      "Epoch:\t 15 Val Loss:\t 0.024130637998013252\n",
      "Epoch:\t 16 Val Loss:\t 0.024147497953817862\n",
      "Epoch:\t 17 Val Loss:\t 0.02412960983518764\n",
      "Epoch:\t 18 Val Loss:\t 0.024138160988264698\n",
      "Epoch:\t 19 Val Loss:\t 0.024115750374779477\n",
      "Epoch:\t 20 Val Loss:\t 0.024129596377225098\n",
      "Epoch:\t 21 Val Loss:\t 0.024126728206388632\n",
      "Epoch:\t 22 Val Loss:\t 0.02412475476466288\n",
      "Epoch:\t 23 Val Loss:\t 0.024119279715456868\n",
      "Epoch:\t 24 Val Loss:\t 0.02413394352182253\n",
      "Epoch:\t 25 Val Loss:\t 0.02412796090559702\n",
      "Epoch:\t 26 Val Loss:\t 0.02413072049059947\n",
      "Epoch:\t 27 Val Loss:\t 0.024130209949617808\n",
      "Epoch:\t 28 Val Loss:\t 0.024137801772337007\n"
     ]
    },
    {
     "name": "stderr",
     "output_type": "stream",
     "text": [
      "[I 2025-09-29 17:50:02,571] Trial 12 finished with value: 0.024115750374779477 and parameters: {'lr': 0.0001, 'weight_decay': 1e-05, 'scheduler_factor': 0.8, 'scheduler_patience': 1, 'batch_size': 64, 'dropout': 0.05, 'hidden_dims': 256}. Best is trial 10 with value: 0.024114339595668135.\n"
     ]
    },
    {
     "name": "stdout",
     "output_type": "stream",
     "text": [
      "Epoch:\t 29 Val Loss:\t 0.024132562159099553\n",
      "Epoch:\t 0 Val Loss:\t 0.025733365859453648\n",
      "Epoch:\t 1 Val Loss:\t 0.024689553626577865\n",
      "Epoch:\t 2 Val Loss:\t 0.024459939586237565\n",
      "Epoch:\t 3 Val Loss:\t 0.024371116624813196\n",
      "Epoch:\t 4 Val Loss:\t 0.024253359289317718\n",
      "Epoch:\t 5 Val Loss:\t 0.02424523668191804\n",
      "Epoch:\t 6 Val Loss:\t 0.02420914744676128\n",
      "Epoch:\t 7 Val Loss:\t 0.02419371777541127\n",
      "Epoch:\t 8 Val Loss:\t 0.02416757622639661\n",
      "Epoch:\t 9 Val Loss:\t 0.024163665506152034\n",
      "Epoch:\t 10 Val Loss:\t 0.02416203939099161\n",
      "Epoch:\t 11 Val Loss:\t 0.02414060386467468\n",
      "Epoch:\t 12 Val Loss:\t 0.02415185627428619\n",
      "Epoch:\t 13 Val Loss:\t 0.024137660028608607\n",
      "Epoch:\t 14 Val Loss:\t 0.024134145578281932\n",
      "Epoch:\t 15 Val Loss:\t 0.024132271123767868\n",
      "Epoch:\t 16 Val Loss:\t 0.02413588852767016\n",
      "Epoch:\t 17 Val Loss:\t 0.024129853449281882\n",
      "Epoch:\t 18 Val Loss:\t 0.024137823395452663\n",
      "Epoch:\t 19 Val Loss:\t 0.024137286031516016\n",
      "Epoch:\t 20 Val Loss:\t 0.024127679975899027\n"
     ]
    },
    {
     "name": "stderr",
     "output_type": "stream",
     "text": [
      "[I 2025-09-29 17:52:27,624] Trial 13 pruned. \n"
     ]
    },
    {
     "name": "stdout",
     "output_type": "stream",
     "text": [
      "Epoch:\t 21 Val Loss:\t 0.02413053800867037\n",
      "Epoch:\t 0 Val Loss:\t 0.025611095300168057\n",
      "Epoch:\t 1 Val Loss:\t 0.0246544306448083\n",
      "Epoch:\t 2 Val Loss:\t 0.024432099236740806\n",
      "Epoch:\t 3 Val Loss:\t 0.0243230814182319\n",
      "Epoch:\t 4 Val Loss:\t 0.024281748972111016\n",
      "Epoch:\t 5 Val Loss:\t 0.02420032867492629\n",
      "Epoch:\t 6 Val Loss:\t 0.024179706905627416\n",
      "Epoch:\t 7 Val Loss:\t 0.024153624853152766\n",
      "Epoch:\t 8 Val Loss:\t 0.02414347403707092\n",
      "Epoch:\t 9 Val Loss:\t 0.024126976866813435\n",
      "Epoch:\t 10 Val Loss:\t 0.02414623470095895\n",
      "Epoch:\t 11 Val Loss:\t 0.024139304264290208\n",
      "Epoch:\t 12 Val Loss:\t 0.02413657216924917\n",
      "Epoch:\t 13 Val Loss:\t 0.024135446008370493\n",
      "Epoch:\t 14 Val Loss:\t 0.024138027224830258\n",
      "Epoch:\t 15 Val Loss:\t 0.024134714874204894\n",
      "Epoch:\t 16 Val Loss:\t 0.024121832181453636\n",
      "Epoch:\t 17 Val Loss:\t 0.02411831544579217\n",
      "Epoch:\t 18 Val Loss:\t 0.024120765884671182\n",
      "Epoch:\t 19 Val Loss:\t 0.02412714672859194\n",
      "Epoch:\t 20 Val Loss:\t 0.024131128905006984\n",
      "Epoch:\t 21 Val Loss:\t 0.024131765453987045\n",
      "Epoch:\t 22 Val Loss:\t 0.024126414378247703\n",
      "Epoch:\t 23 Val Loss:\t 0.024130601144016862\n",
      "Epoch:\t 24 Val Loss:\t 0.02412262030845282\n",
      "Epoch:\t 25 Val Loss:\t 0.024117523748092503\n",
      "Epoch:\t 26 Val Loss:\t 0.02412258671381518\n",
      "Epoch:\t 27 Val Loss:\t 0.024123414567154434\n",
      "Epoch:\t 28 Val Loss:\t 0.02412712857996352\n",
      "Epoch:\t 29 Val Loss:\t 0.02412707224008273\n",
      "Epoch:\t 30 Val Loss:\t 0.02411535056334938\n",
      "Epoch:\t 31 Val Loss:\t 0.024121049833735336\n",
      "Epoch:\t 32 Val Loss:\t 0.024124640184419486\n",
      "Epoch:\t 33 Val Loss:\t 0.024115527263835496\n",
      "Epoch:\t 34 Val Loss:\t 0.024115413944093694\n",
      "Epoch:\t 35 Val Loss:\t 0.02413679518722305\n",
      "Epoch:\t 36 Val Loss:\t 0.02412527244380236\n",
      "Epoch:\t 37 Val Loss:\t 0.024117026905065973\n",
      "Epoch:\t 38 Val Loss:\t 0.02411607050975256\n",
      "Epoch:\t 39 Val Loss:\t 0.02411123723747318\n",
      "Epoch:\t 40 Val Loss:\t 0.02412016399299863\n",
      "Epoch:\t 41 Val Loss:\t 0.02411561263417063\n",
      "Epoch:\t 42 Val Loss:\t 0.02411819831481678\n",
      "Epoch:\t 43 Val Loss:\t 0.024118350263094737\n",
      "Epoch:\t 44 Val Loss:\t 0.024111450993030553\n",
      "Epoch:\t 45 Val Loss:\t 0.024121680219662583\n",
      "Epoch:\t 46 Val Loss:\t 0.02411605516428077\n",
      "Epoch:\t 47 Val Loss:\t 0.024119689226046733\n",
      "Epoch:\t 48 Val Loss:\t 0.024125805292202856\n"
     ]
    },
    {
     "name": "stderr",
     "output_type": "stream",
     "text": [
      "[I 2025-09-29 17:57:43,269] Trial 14 finished with value: 0.02411123723747318 and parameters: {'lr': 0.0001, 'weight_decay': 1e-05, 'scheduler_factor': 0.8, 'scheduler_patience': 5, 'batch_size': 64, 'dropout': 0.15, 'hidden_dims': 256}. Best is trial 14 with value: 0.02411123723747318.\n"
     ]
    },
    {
     "name": "stdout",
     "output_type": "stream",
     "text": [
      "Epoch:\t 49 Val Loss:\t 0.024122417098515543\n",
      "Epoch:\t 0 Val Loss:\t 0.025658720852380152\n",
      "Epoch:\t 1 Val Loss:\t 0.024672027377847384\n",
      "Epoch:\t 2 Val Loss:\t 0.024416912645447483\n",
      "Epoch:\t 3 Val Loss:\t 0.024351988127211878\n",
      "Epoch:\t 4 Val Loss:\t 0.02427099894643591\n",
      "Epoch:\t 5 Val Loss:\t 0.024226891148232194\n",
      "Epoch:\t 6 Val Loss:\t 0.024178741077091965\n",
      "Epoch:\t 7 Val Loss:\t 0.024157448301499344\n",
      "Epoch:\t 8 Val Loss:\t 0.02414987958617426\n",
      "Epoch:\t 9 Val Loss:\t 0.024128569669489657\n",
      "Epoch:\t 10 Val Loss:\t 0.024138398699298094\n",
      "Epoch:\t 11 Val Loss:\t 0.02412963894888266\n",
      "Epoch:\t 12 Val Loss:\t 0.024141574928183508\n",
      "Epoch:\t 13 Val Loss:\t 0.02413679627583806\n",
      "Epoch:\t 14 Val Loss:\t 0.024136080586600637\n",
      "Epoch:\t 15 Val Loss:\t 0.024137767473937328\n",
      "Epoch:\t 16 Val Loss:\t 0.02412254803014559\n",
      "Epoch:\t 17 Val Loss:\t 0.024118202346584097\n",
      "Epoch:\t 18 Val Loss:\t 0.02411613572179164\n",
      "Epoch:\t 19 Val Loss:\t 0.024125701148393745\n",
      "Epoch:\t 20 Val Loss:\t 0.024122891594124476\n",
      "Epoch:\t 21 Val Loss:\t 0.024132620010284996\n",
      "Epoch:\t 22 Val Loss:\t 0.024117115969341022\n",
      "Epoch:\t 23 Val Loss:\t 0.024115677560813124\n",
      "Epoch:\t 24 Val Loss:\t 0.02412030686425976\n",
      "Epoch:\t 25 Val Loss:\t 0.02412038943360036\n",
      "Epoch:\t 26 Val Loss:\t 0.024114408197872732\n",
      "Epoch:\t 27 Val Loss:\t 0.024115997574708867\n",
      "Epoch:\t 28 Val Loss:\t 0.02411878271567842\n",
      "Epoch:\t 29 Val Loss:\t 0.024117548000316114\n",
      "Epoch:\t 30 Val Loss:\t 0.024119906720948027\n",
      "Epoch:\t 31 Val Loss:\t 0.024118607585954584\n",
      "Epoch:\t 32 Val Loss:\t 0.02412392077097281\n",
      "Epoch:\t 33 Val Loss:\t 0.02412718617926485\n",
      "Epoch:\t 34 Val Loss:\t 0.024112770823600745\n",
      "Epoch:\t 35 Val Loss:\t 0.024113039548270453\n",
      "Epoch:\t 36 Val Loss:\t 0.02412662999861232\n",
      "Epoch:\t 37 Val Loss:\t 0.024115202323605485\n",
      "Epoch:\t 38 Val Loss:\t 0.02411541390679755\n",
      "Epoch:\t 39 Val Loss:\t 0.024114618011930274\n",
      "Epoch:\t 40 Val Loss:\t 0.024113776644413994\n",
      "Epoch:\t 41 Val Loss:\t 0.024118928141995736\n",
      "Epoch:\t 42 Val Loss:\t 0.024116514480899257\n",
      "Epoch:\t 43 Val Loss:\t 0.02412363837861731\n"
     ]
    },
    {
     "name": "stderr",
     "output_type": "stream",
     "text": [
      "[I 2025-09-29 18:02:32,814] Trial 15 finished with value: 0.024112770823600745 and parameters: {'lr': 0.0001, 'weight_decay': 1e-05, 'scheduler_factor': 0.5, 'scheduler_patience': 5, 'batch_size': 64, 'dropout': 0.15, 'hidden_dims': 256}. Best is trial 14 with value: 0.02411123723747318.\n"
     ]
    },
    {
     "name": "stdout",
     "output_type": "stream",
     "text": [
      "Epoch:\t 44 Val Loss:\t 0.02412328312202674\n",
      "Epoch:\t 0 Val Loss:\t 0.025636028578408708\n",
      "Epoch:\t 1 Val Loss:\t 0.024640055987346123\n",
      "Epoch:\t 2 Val Loss:\t 0.024437287312111255\n",
      "Epoch:\t 3 Val Loss:\t 0.02437206424688418\n",
      "Epoch:\t 4 Val Loss:\t 0.02428430809303729\n",
      "Epoch:\t 5 Val Loss:\t 0.02421837980149274\n",
      "Epoch:\t 6 Val Loss:\t 0.02418698160301027\n",
      "Epoch:\t 7 Val Loss:\t 0.024160026940741444\n",
      "Epoch:\t 8 Val Loss:\t 0.024173285325668058\n",
      "Epoch:\t 9 Val Loss:\t 0.024148184596385226\n",
      "Epoch:\t 10 Val Loss:\t 0.024138839248388364\n",
      "Epoch:\t 11 Val Loss:\t 0.024134142981064886\n",
      "Epoch:\t 12 Val Loss:\t 0.0241293470389834\n",
      "Epoch:\t 13 Val Loss:\t 0.024141452808713607\n",
      "Epoch:\t 14 Val Loss:\t 0.024136521458383638\n",
      "Epoch:\t 15 Val Loss:\t 0.024137727058969882\n",
      "Epoch:\t 16 Val Loss:\t 0.024132816080983405\n",
      "Epoch:\t 17 Val Loss:\t 0.024136607308703942\n",
      "Epoch:\t 18 Val Loss:\t 0.024145803886162494\n",
      "Epoch:\t 19 Val Loss:\t 0.024125250953655565\n",
      "Epoch:\t 20 Val Loss:\t 0.02412457694421137\n",
      "Epoch:\t 21 Val Loss:\t 0.024120532211891386\n",
      "Epoch:\t 22 Val Loss:\t 0.02412602668319998\n",
      "Epoch:\t 23 Val Loss:\t 0.02412553900205252\n",
      "Epoch:\t 24 Val Loss:\t 0.024123119355735568\n",
      "Epoch:\t 25 Val Loss:\t 0.02412119153530288\n",
      "Epoch:\t 26 Val Loss:\t 0.024135499870490004\n",
      "Epoch:\t 27 Val Loss:\t 0.024129100446602804\n",
      "Epoch:\t 28 Val Loss:\t 0.024115803503948662\n",
      "Epoch:\t 29 Val Loss:\t 0.02412564612090484\n",
      "Epoch:\t 30 Val Loss:\t 0.02412568202033613\n",
      "Epoch:\t 31 Val Loss:\t 0.024112354913208626\n",
      "Epoch:\t 32 Val Loss:\t 0.02412059710069721\n",
      "Epoch:\t 33 Val Loss:\t 0.024125999622414504\n",
      "Epoch:\t 34 Val Loss:\t 0.024125108456436936\n",
      "Epoch:\t 35 Val Loss:\t 0.02412278695951972\n",
      "Epoch:\t 36 Val Loss:\t 0.024119282865629803\n",
      "Epoch:\t 37 Val Loss:\t 0.024142938211465115\n",
      "Epoch:\t 38 Val Loss:\t 0.0241191793931513\n",
      "Epoch:\t 39 Val Loss:\t 0.024118880671570624\n",
      "Epoch:\t 40 Val Loss:\t 0.024124437203664317\n"
     ]
    },
    {
     "name": "stderr",
     "output_type": "stream",
     "text": [
      "[I 2025-09-29 18:07:01,482] Trial 16 finished with value: 0.024112354913208626 and parameters: {'lr': 0.0001, 'weight_decay': 1e-05, 'scheduler_factor': 0.5, 'scheduler_patience': 5, 'batch_size': 64, 'dropout': 0.15, 'hidden_dims': 256}. Best is trial 14 with value: 0.02411123723747318.\n"
     ]
    },
    {
     "name": "stdout",
     "output_type": "stream",
     "text": [
      "Epoch:\t 41 Val Loss:\t 0.024123593117313127\n"
     ]
    },
    {
     "name": "stderr",
     "output_type": "stream",
     "text": [
      "[I 2025-09-29 18:07:12,762] Trial 17 pruned. \n"
     ]
    },
    {
     "name": "stdout",
     "output_type": "stream",
     "text": [
      "Epoch:\t 0 Val Loss:\t 0.026713500531510306\n"
     ]
    },
    {
     "name": "stderr",
     "output_type": "stream",
     "text": [
      "[I 2025-09-29 18:07:19,170] Trial 18 pruned. \n"
     ]
    },
    {
     "name": "stdout",
     "output_type": "stream",
     "text": [
      "Epoch:\t 0 Val Loss:\t 0.03644258175769554\n",
      "Epoch:\t 0 Val Loss:\t 0.025714815390478436\n",
      "Epoch:\t 1 Val Loss:\t 0.02463279567546472\n",
      "Epoch:\t 2 Val Loss:\t 0.02442457468653756\n",
      "Epoch:\t 3 Val Loss:\t 0.024320575877271693\n",
      "Epoch:\t 4 Val Loss:\t 0.02426957157864795\n",
      "Epoch:\t 5 Val Loss:\t 0.024238687415093236\n",
      "Epoch:\t 6 Val Loss:\t 0.02415655801873773\n",
      "Epoch:\t 7 Val Loss:\t 0.02414560837220364\n",
      "Epoch:\t 8 Val Loss:\t 0.024149623696783636\n",
      "Epoch:\t 9 Val Loss:\t 0.024141405978809243\n",
      "Epoch:\t 10 Val Loss:\t 0.024138311747930734\n",
      "Epoch:\t 11 Val Loss:\t 0.024143487503681844\n",
      "Epoch:\t 12 Val Loss:\t 0.02413306334361356\n",
      "Epoch:\t 13 Val Loss:\t 0.024123890634606692\n",
      "Epoch:\t 14 Val Loss:\t 0.02411336871431584\n",
      "Epoch:\t 15 Val Loss:\t 0.024146502052698107\n",
      "Epoch:\t 16 Val Loss:\t 0.02412961219943891\n",
      "Epoch:\t 17 Val Loss:\t 0.024133416447297683\n",
      "Epoch:\t 18 Val Loss:\t 0.02412816582250858\n",
      "Epoch:\t 19 Val Loss:\t 0.02413154064039297\n",
      "Epoch:\t 20 Val Loss:\t 0.024119091486678314\n",
      "Epoch:\t 21 Val Loss:\t 0.024116663197385178\n",
      "Epoch:\t 22 Val Loss:\t 0.02412602572539174\n",
      "Epoch:\t 23 Val Loss:\t 0.024142100081686633\n"
     ]
    },
    {
     "name": "stderr",
     "output_type": "stream",
     "text": [
      "[I 2025-09-29 18:09:59,873] Trial 19 finished with value: 0.02411336871431584 and parameters: {'lr': 0.0001, 'weight_decay': 1e-05, 'scheduler_factor': 0.5, 'scheduler_patience': 5, 'batch_size': 64, 'dropout': 0.15, 'hidden_dims': 256}. Best is trial 14 with value: 0.02411123723747318.\n"
     ]
    },
    {
     "name": "stdout",
     "output_type": "stream",
     "text": [
      "Epoch:\t 24 Val Loss:\t 0.02412523838647631\n"
     ]
    },
    {
     "name": "stderr",
     "output_type": "stream",
     "text": [
      "[I 2025-09-29 18:10:06,256] Trial 20 pruned. \n"
     ]
    },
    {
     "name": "stdout",
     "output_type": "stream",
     "text": [
      "Epoch:\t 0 Val Loss:\t 0.02602889976673395\n",
      "Epoch:\t 0 Val Loss:\t 0.025761416230569104\n"
     ]
    },
    {
     "name": "stderr",
     "output_type": "stream",
     "text": [
      "[I 2025-09-29 18:10:18,512] Trial 21 pruned. \n"
     ]
    },
    {
     "name": "stdout",
     "output_type": "stream",
     "text": [
      "Epoch:\t 1 Val Loss:\t 0.02475392005394969\n",
      "Epoch:\t 0 Val Loss:\t 0.025524275927646035\n",
      "Epoch:\t 1 Val Loss:\t 0.024632010778636\n",
      "Epoch:\t 2 Val Loss:\t 0.02442355678069232\n",
      "Epoch:\t 3 Val Loss:\t 0.02432494831838479\n",
      "Epoch:\t 4 Val Loss:\t 0.024241197807795423\n",
      "Epoch:\t 5 Val Loss:\t 0.024199035862980715\n",
      "Epoch:\t 6 Val Loss:\t 0.024197496840264378\n",
      "Epoch:\t 7 Val Loss:\t 0.024155269952591464\n",
      "Epoch:\t 8 Val Loss:\t 0.02415150837584664\n",
      "Epoch:\t 9 Val Loss:\t 0.02415044555030828\n",
      "Epoch:\t 10 Val Loss:\t 0.02413048833236747\n",
      "Epoch:\t 11 Val Loss:\t 0.024139411566920635\n",
      "Epoch:\t 12 Val Loss:\t 0.02413428490154458\n",
      "Epoch:\t 13 Val Loss:\t 0.024124302486745824\n",
      "Epoch:\t 14 Val Loss:\t 0.024133805286093844\n",
      "Epoch:\t 15 Val Loss:\t 0.024135286940853054\n",
      "Epoch:\t 16 Val Loss:\t 0.0241341561390367\n",
      "Epoch:\t 17 Val Loss:\t 0.024129590637942976\n",
      "Epoch:\t 18 Val Loss:\t 0.024136815643888258\n",
      "Epoch:\t 19 Val Loss:\t 0.024119061060591418\n",
      "Epoch:\t 20 Val Loss:\t 0.024145520065743012\n",
      "Epoch:\t 21 Val Loss:\t 0.02412651129741518\n",
      "Epoch:\t 22 Val Loss:\t 0.024143616369970304\n",
      "Epoch:\t 23 Val Loss:\t 0.024125165461162047\n",
      "Epoch:\t 24 Val Loss:\t 0.02412592730681113\n",
      "Epoch:\t 25 Val Loss:\t 0.024124218269888566\n",
      "Epoch:\t 26 Val Loss:\t 0.024124270819616194\n",
      "Epoch:\t 27 Val Loss:\t 0.024117087422114988\n",
      "Epoch:\t 28 Val Loss:\t 0.024119238956716263\n",
      "Epoch:\t 29 Val Loss:\t 0.024117428395363114\n",
      "Epoch:\t 30 Val Loss:\t 0.02413656450894532\n",
      "Epoch:\t 31 Val Loss:\t 0.024116886018608383\n",
      "Epoch:\t 32 Val Loss:\t 0.024116796278678534\n",
      "Epoch:\t 33 Val Loss:\t 0.024117940130902456\n",
      "Epoch:\t 34 Val Loss:\t 0.024122680052552747\n",
      "Epoch:\t 35 Val Loss:\t 0.024127064523564407\n",
      "Epoch:\t 36 Val Loss:\t 0.02412563462936802\n",
      "Epoch:\t 37 Val Loss:\t 0.024119013480439964\n",
      "Epoch:\t 38 Val Loss:\t 0.024120980185076586\n",
      "Epoch:\t 39 Val Loss:\t 0.02411469281286226\n",
      "Epoch:\t 40 Val Loss:\t 0.024111257649815435\n",
      "Epoch:\t 41 Val Loss:\t 0.02411878545937743\n",
      "Epoch:\t 42 Val Loss:\t 0.0241239193558814\n",
      "Epoch:\t 43 Val Loss:\t 0.024118960249652297\n",
      "Epoch:\t 44 Val Loss:\t 0.024130716256135713\n",
      "Epoch:\t 45 Val Loss:\t 0.0241152417267123\n",
      "Epoch:\t 46 Val Loss:\t 0.02412361993161973\n",
      "Epoch:\t 47 Val Loss:\t 0.024129920319648102\n",
      "Epoch:\t 48 Val Loss:\t 0.02412737194865994\n",
      "Epoch:\t 49 Val Loss:\t 0.024120576258097978\n"
     ]
    },
    {
     "name": "stderr",
     "output_type": "stream",
     "text": [
      "[I 2025-09-29 18:15:43,454] Trial 22 finished with value: 0.024111257649815435 and parameters: {'lr': 0.0001, 'weight_decay': 1e-05, 'scheduler_factor': 0.5, 'scheduler_patience': 5, 'batch_size': 64, 'dropout': 0.15, 'hidden_dims': 256}. Best is trial 14 with value: 0.02411123723747318.\n"
     ]
    },
    {
     "name": "stdout",
     "output_type": "stream",
     "text": [
      "Epoch:\t 50 Val Loss:\t 0.024123585170531647\n"
     ]
    },
    {
     "name": "stderr",
     "output_type": "stream",
     "text": [
      "[I 2025-09-29 18:15:49,956] Trial 23 pruned. \n"
     ]
    },
    {
     "name": "stdout",
     "output_type": "stream",
     "text": [
      "Epoch:\t 0 Val Loss:\t 0.02585854927792462\n",
      "Epoch:\t 0 Val Loss:\t 0.02531315240269131\n",
      "Epoch:\t 1 Val Loss:\t 0.024496397912138847\n",
      "Epoch:\t 2 Val Loss:\t 0.024278091814079073\n",
      "Epoch:\t 3 Val Loss:\t 0.02419038423695077\n",
      "Epoch:\t 4 Val Loss:\t 0.02420302517452514\n",
      "Epoch:\t 5 Val Loss:\t 0.024190433502941457\n",
      "Epoch:\t 6 Val Loss:\t 0.02419498744101613\n",
      "Epoch:\t 7 Val Loss:\t 0.024174596110529738\n"
     ]
    },
    {
     "name": "stderr",
     "output_type": "stream",
     "text": [
      "[I 2025-09-29 18:16:29,864] Trial 24 pruned. \n"
     ]
    },
    {
     "name": "stdout",
     "output_type": "stream",
     "text": [
      "Epoch:\t 8 Val Loss:\t 0.024195693627986344\n",
      "Epoch:\t 0 Val Loss:\t 0.02487949683459057\n",
      "Epoch:\t 1 Val Loss:\t 0.02449965642417067\n",
      "Epoch:\t 2 Val Loss:\t 0.024266872274755862\n",
      "Epoch:\t 3 Val Loss:\t 0.024191752932068485\n",
      "Epoch:\t 4 Val Loss:\t 0.024169522063299642\n",
      "Epoch:\t 5 Val Loss:\t 0.024156020318054732\n",
      "Epoch:\t 6 Val Loss:\t 0.024159419050065068\n",
      "Epoch:\t 7 Val Loss:\t 0.024165039817471267\n",
      "Epoch:\t 8 Val Loss:\t 0.0241560840333833\n",
      "Epoch:\t 9 Val Loss:\t 0.02415915295558436\n",
      "Epoch:\t 10 Val Loss:\t 0.024150092232846983\n"
     ]
    },
    {
     "name": "stderr",
     "output_type": "stream",
     "text": [
      "[I 2025-09-29 18:18:45,744] Trial 25 pruned. \n"
     ]
    },
    {
     "name": "stdout",
     "output_type": "stream",
     "text": [
      "Epoch:\t 11 Val Loss:\t 0.024159650104006863\n"
     ]
    },
    {
     "name": "stderr",
     "output_type": "stream",
     "text": [
      "[I 2025-09-29 18:18:52,159] Trial 26 pruned. \n"
     ]
    },
    {
     "name": "stdout",
     "output_type": "stream",
     "text": [
      "Epoch:\t 0 Val Loss:\t 0.03650743731481871\n"
     ]
    },
    {
     "name": "stderr",
     "output_type": "stream",
     "text": [
      "[I 2025-09-29 18:18:58,658] Trial 27 pruned. \n"
     ]
    },
    {
     "name": "stdout",
     "output_type": "stream",
     "text": [
      "Epoch:\t 0 Val Loss:\t 0.03194864279440822\n",
      "Epoch:\t 0 Val Loss:\t 0.0242724889447211\n",
      "Epoch:\t 1 Val Loss:\t 0.024223090878088358\n",
      "Epoch:\t 2 Val Loss:\t 0.02421242019428601\n",
      "Epoch:\t 3 Val Loss:\t 0.024200576362408185\n",
      "Epoch:\t 4 Val Loss:\t 0.024200431963626687\n",
      "Epoch:\t 5 Val Loss:\t 0.02419294663923844\n",
      "Epoch:\t 6 Val Loss:\t 0.02418962564996108\n"
     ]
    },
    {
     "name": "stderr",
     "output_type": "stream",
     "text": [
      "[I 2025-09-29 18:19:48,509] Trial 28 pruned. \n"
     ]
    },
    {
     "name": "stdout",
     "output_type": "stream",
     "text": [
      "Epoch:\t 7 Val Loss:\t 0.02420189907072729\n"
     ]
    },
    {
     "name": "stderr",
     "output_type": "stream",
     "text": [
      "[I 2025-09-29 18:20:12,340] Trial 29 pruned. \n"
     ]
    },
    {
     "name": "stdout",
     "output_type": "stream",
     "text": [
      "Epoch:\t 0 Val Loss:\t 0.03273759388707899\n",
      "Epoch:\t 0 Val Loss:\t 0.024520118254357414\n",
      "Epoch:\t 1 Val Loss:\t 0.02423767185512145\n",
      "Epoch:\t 2 Val Loss:\t 0.024207325816560953\n",
      "Epoch:\t 3 Val Loss:\t 0.024193759924379186\n",
      "Epoch:\t 4 Val Loss:\t 0.024161371981343487\n",
      "Epoch:\t 5 Val Loss:\t 0.024166375701869736\n",
      "Epoch:\t 6 Val Loss:\t 0.02416114621534641\n",
      "Epoch:\t 7 Val Loss:\t 0.02415018294328738\n",
      "Epoch:\t 8 Val Loss:\t 0.024180590627510674\n",
      "Epoch:\t 9 Val Loss:\t 0.02418265049575514\n",
      "Epoch:\t 10 Val Loss:\t 0.024167761273651847\n"
     ]
    },
    {
     "name": "stderr",
     "output_type": "stream",
     "text": [
      "[I 2025-09-29 18:21:26,014] Trial 30 pruned. \n"
     ]
    },
    {
     "name": "stdout",
     "output_type": "stream",
     "text": [
      "Epoch:\t 11 Val Loss:\t 0.024188317827668497\n",
      "Epoch:\t 0 Val Loss:\t 0.025642126373778024\n",
      "Epoch:\t 1 Val Loss:\t 0.02460761735506585\n",
      "Epoch:\t 2 Val Loss:\t 0.02443393638970474\n",
      "Epoch:\t 3 Val Loss:\t 0.024359046618302273\n",
      "Epoch:\t 4 Val Loss:\t 0.024264593529220384\n",
      "Epoch:\t 5 Val Loss:\t 0.02420540509212522\n",
      "Epoch:\t 6 Val Loss:\t 0.024192165924983182\n",
      "Epoch:\t 7 Val Loss:\t 0.02417234662494304\n",
      "Epoch:\t 8 Val Loss:\t 0.02415826194230478\n",
      "Epoch:\t 9 Val Loss:\t 0.02414745374329202\n",
      "Epoch:\t 10 Val Loss:\t 0.024128990734317103\n",
      "Epoch:\t 11 Val Loss:\t 0.024127535366313235\n",
      "Epoch:\t 12 Val Loss:\t 0.02413109322178523\n",
      "Epoch:\t 13 Val Loss:\t 0.024116444403064576\n",
      "Epoch:\t 14 Val Loss:\t 0.02413898862971861\n",
      "Epoch:\t 15 Val Loss:\t 0.02413415982108509\n",
      "Epoch:\t 16 Val Loss:\t 0.024137981568943673\n",
      "Epoch:\t 17 Val Loss:\t 0.024133113353960196\n",
      "Epoch:\t 18 Val Loss:\t 0.024117834000127715\n",
      "Epoch:\t 19 Val Loss:\t 0.0241304787510419\n",
      "Epoch:\t 20 Val Loss:\t 0.024123984780886874\n",
      "Epoch:\t 21 Val Loss:\t 0.024116910529202385\n",
      "Epoch:\t 22 Val Loss:\t 0.024108510324974707\n",
      "Epoch:\t 23 Val Loss:\t 0.02412269988761554\n",
      "Epoch:\t 24 Val Loss:\t 0.024114354466559993\n",
      "Epoch:\t 25 Val Loss:\t 0.024133322395068647\n",
      "Epoch:\t 26 Val Loss:\t 0.024134661628282563\n",
      "Epoch:\t 27 Val Loss:\t 0.02411400014994038\n",
      "Epoch:\t 28 Val Loss:\t 0.024125290354600287\n",
      "Epoch:\t 29 Val Loss:\t 0.024119548900652887\n",
      "Epoch:\t 30 Val Loss:\t 0.024110244427068734\n",
      "Epoch:\t 31 Val Loss:\t 0.024116426194978537\n"
     ]
    },
    {
     "name": "stderr",
     "output_type": "stream",
     "text": [
      "[I 2025-09-29 18:24:46,985] Trial 31 finished with value: 0.024108510324974707 and parameters: {'lr': 0.0001, 'weight_decay': 1e-05, 'scheduler_factor': 0.5, 'scheduler_patience': 5, 'batch_size': 64, 'dropout': 0.15, 'hidden_dims': 256}. Best is trial 31 with value: 0.024108510324974707.\n"
     ]
    },
    {
     "name": "stdout",
     "output_type": "stream",
     "text": [
      "Epoch:\t 32 Val Loss:\t 0.024121427509092654\n",
      "Epoch:\t 0 Val Loss:\t 0.025716467500511327\n",
      "Epoch:\t 1 Val Loss:\t 0.02466756519680444\n",
      "Epoch:\t 2 Val Loss:\t 0.024446067939178927\n",
      "Epoch:\t 3 Val Loss:\t 0.02435223042891424\n",
      "Epoch:\t 4 Val Loss:\t 0.024295230084209682\n",
      "Epoch:\t 5 Val Loss:\t 0.02421817093551401\n",
      "Epoch:\t 6 Val Loss:\t 0.024203890176772103\n",
      "Epoch:\t 7 Val Loss:\t 0.024164746451130526\n",
      "Epoch:\t 8 Val Loss:\t 0.024152801528322235\n",
      "Epoch:\t 9 Val Loss:\t 0.024141084199562644\n",
      "Epoch:\t 10 Val Loss:\t 0.024132596523443142\n",
      "Epoch:\t 11 Val Loss:\t 0.024147597501012245\n",
      "Epoch:\t 12 Val Loss:\t 0.024150699486245753\n",
      "Epoch:\t 13 Val Loss:\t 0.024132375023260204\n",
      "Epoch:\t 14 Val Loss:\t 0.024134846269063873\n",
      "Epoch:\t 15 Val Loss:\t 0.02413136366640179\n",
      "Epoch:\t 16 Val Loss:\t 0.024123767883804947\n",
      "Epoch:\t 17 Val Loss:\t 0.024126105464549515\n",
      "Epoch:\t 18 Val Loss:\t 0.024136034500457076\n",
      "Epoch:\t 19 Val Loss:\t 0.024128887187246314\n",
      "Epoch:\t 20 Val Loss:\t 0.02413029276759937\n",
      "Epoch:\t 21 Val Loss:\t 0.024143207434497802\n",
      "Epoch:\t 22 Val Loss:\t 0.02413907174715038\n",
      "Epoch:\t 23 Val Loss:\t 0.024126555457131778\n",
      "Epoch:\t 24 Val Loss:\t 0.024112601686124186\n",
      "Epoch:\t 25 Val Loss:\t 0.024134253501433726\n",
      "Epoch:\t 26 Val Loss:\t 0.024125089532697333\n",
      "Epoch:\t 27 Val Loss:\t 0.02411687130663053\n",
      "Epoch:\t 28 Val Loss:\t 0.024132880204407476\n",
      "Epoch:\t 29 Val Loss:\t 0.024125138619829248\n",
      "Epoch:\t 30 Val Loss:\t 0.024113549004961293\n",
      "Epoch:\t 31 Val Loss:\t 0.02411007997377176\n",
      "Epoch:\t 32 Val Loss:\t 0.02411817293560097\n",
      "Epoch:\t 33 Val Loss:\t 0.024119420977038\n",
      "Epoch:\t 34 Val Loss:\t 0.024119723919028814\n",
      "Epoch:\t 35 Val Loss:\t 0.024120070420754765\n",
      "Epoch:\t 36 Val Loss:\t 0.02412100837339479\n",
      "Epoch:\t 37 Val Loss:\t 0.02411800430945996\n",
      "Epoch:\t 38 Val Loss:\t 0.024121592490481417\n",
      "Epoch:\t 39 Val Loss:\t 0.024116943639530666\n",
      "Epoch:\t 40 Val Loss:\t 0.02412398100154419\n"
     ]
    },
    {
     "name": "stderr",
     "output_type": "stream",
     "text": [
      "[I 2025-09-29 18:29:05,427] Trial 32 finished with value: 0.02411007997377176 and parameters: {'lr': 0.0001, 'weight_decay': 1e-05, 'scheduler_factor': 0.5, 'scheduler_patience': 5, 'batch_size': 64, 'dropout': 0.15, 'hidden_dims': 256}. Best is trial 31 with value: 0.024108510324974707.\n"
     ]
    },
    {
     "name": "stdout",
     "output_type": "stream",
     "text": [
      "Epoch:\t 41 Val Loss:\t 0.024115731900755707\n"
     ]
    },
    {
     "name": "stderr",
     "output_type": "stream",
     "text": [
      "[I 2025-09-29 18:29:09,779] Trial 33 pruned. \n"
     ]
    },
    {
     "name": "stdout",
     "output_type": "stream",
     "text": [
      "Epoch:\t 0 Val Loss:\t 0.0272702343035035\n"
     ]
    },
    {
     "name": "stderr",
     "output_type": "stream",
     "text": [
      "[I 2025-09-29 18:29:15,947] Trial 34 pruned. \n"
     ]
    },
    {
     "name": "stdout",
     "output_type": "stream",
     "text": [
      "Epoch:\t 0 Val Loss:\t 0.025780867251177824\n"
     ]
    },
    {
     "name": "stderr",
     "output_type": "stream",
     "text": [
      "[I 2025-09-29 18:29:19,724] Trial 35 pruned. \n"
     ]
    },
    {
     "name": "stdout",
     "output_type": "stream",
     "text": [
      "Epoch:\t 0 Val Loss:\t 0.035723448154884714\n"
     ]
    },
    {
     "name": "stderr",
     "output_type": "stream",
     "text": [
      "[I 2025-09-29 18:29:25,737] Trial 36 pruned. \n"
     ]
    },
    {
     "name": "stdout",
     "output_type": "stream",
     "text": [
      "Epoch:\t 0 Val Loss:\t 0.045698864853579296\n",
      "Epoch:\t 0 Val Loss:\t 0.02557109198258047\n"
     ]
    },
    {
     "name": "stderr",
     "output_type": "stream",
     "text": [
      "[I 2025-09-29 18:30:14,236] Trial 37 pruned. \n"
     ]
    },
    {
     "name": "stdout",
     "output_type": "stream",
     "text": [
      "Epoch:\t 1 Val Loss:\t 0.02506482331740217\n",
      "Epoch:\t 0 Val Loss:\t 0.025678757322562296\n"
     ]
    },
    {
     "name": "stderr",
     "output_type": "stream",
     "text": [
      "[I 2025-09-29 18:30:21,474] Trial 38 pruned. \n"
     ]
    },
    {
     "name": "stdout",
     "output_type": "stream",
     "text": [
      "Epoch:\t 1 Val Loss:\t 0.026169481245411\n"
     ]
    },
    {
     "name": "stderr",
     "output_type": "stream",
     "text": [
      "[I 2025-09-29 18:30:31,774] Trial 39 pruned. \n"
     ]
    },
    {
     "name": "stdout",
     "output_type": "stream",
     "text": [
      "Epoch:\t 0 Val Loss:\t 0.036069044951420846\n"
     ]
    },
    {
     "name": "stderr",
     "output_type": "stream",
     "text": [
      "[I 2025-09-29 18:30:36,487] Trial 40 pruned. \n"
     ]
    },
    {
     "name": "stdout",
     "output_type": "stream",
     "text": [
      "Epoch:\t 0 Val Loss:\t 0.026617285651646977\n",
      "Epoch:\t 0 Val Loss:\t 0.02560685317719045\n",
      "Epoch:\t 1 Val Loss:\t 0.02466736028313602\n",
      "Epoch:\t 2 Val Loss:\t 0.024444289600613917\n"
     ]
    },
    {
     "name": "stderr",
     "output_type": "stream",
     "text": [
      "[I 2025-09-29 18:31:00,908] Trial 41 pruned. \n"
     ]
    },
    {
     "name": "stdout",
     "output_type": "stream",
     "text": [
      "Epoch:\t 3 Val Loss:\t 0.02439097649008641\n"
     ]
    },
    {
     "name": "stderr",
     "output_type": "stream",
     "text": [
      "[I 2025-09-29 18:31:07,221] Trial 42 pruned. \n"
     ]
    },
    {
     "name": "stdout",
     "output_type": "stream",
     "text": [
      "Epoch:\t 0 Val Loss:\t 0.02575779533163967\n",
      "Epoch:\t 0 Val Loss:\t 0.024426465757835487\n",
      "Epoch:\t 1 Val Loss:\t 0.02527200163180442\n",
      "Epoch:\t 2 Val Loss:\t 0.02586505743574937\n"
     ]
    },
    {
     "name": "stderr",
     "output_type": "stream",
     "text": [
      "[I 2025-09-29 18:31:31,741] Trial 43 pruned. \n"
     ]
    },
    {
     "name": "stdout",
     "output_type": "stream",
     "text": [
      "Epoch:\t 3 Val Loss:\t 0.02595269773750027\n"
     ]
    },
    {
     "name": "stderr",
     "output_type": "stream",
     "text": [
      "[I 2025-09-29 18:31:38,146] Trial 44 pruned. \n"
     ]
    },
    {
     "name": "stdout",
     "output_type": "stream",
     "text": [
      "Epoch:\t 0 Val Loss:\t 0.026045686563717994\n",
      "Epoch:\t 0 Val Loss:\t 0.02563908432693967\n"
     ]
    },
    {
     "name": "stderr",
     "output_type": "stream",
     "text": [
      "[I 2025-09-29 18:32:26,615] Trial 45 pruned. \n"
     ]
    },
    {
     "name": "stdout",
     "output_type": "stream",
     "text": [
      "Epoch:\t 1 Val Loss:\t 0.025036778659856356\n",
      "Epoch:\t 0 Val Loss:\t 0.02430752925228844\n",
      "Epoch:\t 1 Val Loss:\t 0.02427955204756088\n",
      "Epoch:\t 2 Val Loss:\t 0.024219186717100567\n",
      "Epoch:\t 3 Val Loss:\t 0.02419913391184302\n",
      "Epoch:\t 4 Val Loss:\t 0.024209743035925865\n",
      "Epoch:\t 5 Val Loss:\t 0.024205218977875927\n",
      "Epoch:\t 6 Val Loss:\t 0.0242013552323961\n"
     ]
    },
    {
     "name": "stderr",
     "output_type": "stream",
     "text": [
      "[I 2025-09-29 18:33:15,521] Trial 46 pruned. \n"
     ]
    },
    {
     "name": "stdout",
     "output_type": "stream",
     "text": [
      "Epoch:\t 7 Val Loss:\t 0.024192986768809294\n"
     ]
    },
    {
     "name": "stderr",
     "output_type": "stream",
     "text": [
      "[I 2025-09-29 18:33:19,153] Trial 47 pruned. \n"
     ]
    },
    {
     "name": "stdout",
     "output_type": "stream",
     "text": [
      "Epoch:\t 0 Val Loss:\t 0.02969682481746341\n",
      "Epoch:\t 0 Val Loss:\t 0.024464957733885604\n",
      "Epoch:\t 1 Val Loss:\t 0.025574015906416808\n"
     ]
    },
    {
     "name": "stderr",
     "output_type": "stream",
     "text": [
      "[I 2025-09-29 18:33:37,717] Trial 48 pruned. \n"
     ]
    },
    {
     "name": "stdout",
     "output_type": "stream",
     "text": [
      "Epoch:\t 2 Val Loss:\t 0.02577429314836367\n"
     ]
    },
    {
     "name": "stderr",
     "output_type": "stream",
     "text": [
      "[I 2025-09-29 18:33:43,876] Trial 49 pruned. \n"
     ]
    },
    {
     "name": "stdout",
     "output_type": "stream",
     "text": [
      "Epoch:\t 0 Val Loss:\t 0.03176899388804383\n",
      "Training model with best parameters on train+validation ...\n"
     ]
    },
    {
     "name": "stderr",
     "output_type": "stream",
     "text": [
      "100%|███████████████████████████████████████████████████████████████████████████████████████████████████████████████████████████████████████████████████| 557340/557340 [05:44<00:00, 1616.77it/s]\n",
      "100%|███████████████████████████████████████████████████████████████████████████████████████████████████████████████████████████████████████████████████| 557340/557340 [01:39<00:00, 5585.21it/s]\n"
     ]
    },
    {
     "name": "stdout",
     "output_type": "stream",
     "text": [
      "Getting test set predictions and saving results ...\n"
     ]
    },
    {
     "name": "stderr",
     "output_type": "stream",
     "text": [
      "100%|████████████████████████████████████████████████████████████████████████████████████████████████████████████████████████████████████████████████████████| 1640/1640 [00:02<00:00, 782.17it/s]\n"
     ]
    }
   ],
   "source": [
    "train_different_fs(\n",
    "        adata_path=\"./data/feature_selection/sciplex_seurat.h5ad\",\n",
    "        run_name=\"decoder_seurat_fs\",\n",
    "        res_savename=\"./results/feature_selection/decoder_seurat_fs_res.pkl\",\n",
    "    )"
   ]
  },
  {
   "cell_type": "code",
   "execution_count": 5,
   "id": "157fa7c8-fa0d-4f6b-8940-89319ce18e33",
   "metadata": {},
   "outputs": [
    {
     "name": "stdout",
     "output_type": "stream",
     "text": [
      "Loading Datasets ...\n"
     ]
    },
    {
     "name": "stderr",
     "output_type": "stream",
     "text": [
      "100%|███████████████████████████████████████████████████████████████████████████████████████████████████████████████████████████████████████████████████| 557340/557340 [04:25<00:00, 2096.23it/s]\n",
      "100%|███████████████████████████████████████████████████████████████████████████████████████████████████████████████████████████████████████████████████| 557340/557340 [01:44<00:00, 5329.14it/s]\n",
      "[I 2025-09-29 18:50:02,536] A new study created in RDB with name: decoder_seuratv3_fs\n"
     ]
    },
    {
     "name": "stdout",
     "output_type": "stream",
     "text": [
      "Optimizing Hyperparameters with Optuna ...\n",
      "Epoch:\t 0 Val Loss:\t 0.051144633070283066\n",
      "Epoch:\t 1 Val Loss:\t 0.04860199322179176\n",
      "Epoch:\t 2 Val Loss:\t 0.047115435978388\n",
      "Epoch:\t 3 Val Loss:\t 0.04630756788863841\n",
      "Epoch:\t 4 Val Loss:\t 0.04555116091799196\n",
      "Epoch:\t 5 Val Loss:\t 0.045008839993968444\n",
      "Epoch:\t 6 Val Loss:\t 0.04443223059644411\n",
      "Epoch:\t 7 Val Loss:\t 0.04404108318836967\n",
      "Epoch:\t 8 Val Loss:\t 0.043701550541137515\n",
      "Epoch:\t 9 Val Loss:\t 0.04337609778317821\n",
      "Epoch:\t 10 Val Loss:\t 0.04320660926232972\n",
      "Epoch:\t 11 Val Loss:\t 0.042904465165782724\n",
      "Epoch:\t 12 Val Loss:\t 0.042765513703538385\n",
      "Epoch:\t 13 Val Loss:\t 0.0426134265736567\n",
      "Epoch:\t 14 Val Loss:\t 0.042618201892051115\n",
      "Epoch:\t 15 Val Loss:\t 0.04246857662231716\n",
      "Epoch:\t 16 Val Loss:\t 0.04236591924079199\n",
      "Epoch:\t 17 Val Loss:\t 0.042358809206429364\n",
      "Epoch:\t 18 Val Loss:\t 0.04217573293893924\n",
      "Epoch:\t 19 Val Loss:\t 0.042126879460344255\n",
      "Epoch:\t 20 Val Loss:\t 0.04206149007322929\n",
      "Epoch:\t 21 Val Loss:\t 0.04201321462434146\n",
      "Epoch:\t 22 Val Loss:\t 0.04195909262745621\n",
      "Epoch:\t 23 Val Loss:\t 0.041938320611988954\n",
      "Epoch:\t 24 Val Loss:\t 0.04188174745786851\n",
      "Epoch:\t 25 Val Loss:\t 0.04177965038281434\n",
      "Epoch:\t 26 Val Loss:\t 0.041792977565615175\n",
      "Epoch:\t 27 Val Loss:\t 0.04162594364784135\n",
      "Epoch:\t 28 Val Loss:\t 0.041770091505199065\n",
      "Epoch:\t 29 Val Loss:\t 0.04166707630229771\n",
      "Epoch:\t 30 Val Loss:\t 0.04163033011122388\n",
      "Epoch:\t 31 Val Loss:\t 0.04154401699981576\n",
      "Epoch:\t 32 Val Loss:\t 0.041574686339737994\n",
      "Epoch:\t 33 Val Loss:\t 0.041519991730275506\n",
      "Epoch:\t 34 Val Loss:\t 0.041611214923481576\n",
      "Epoch:\t 35 Val Loss:\t 0.04147304886075313\n",
      "Epoch:\t 36 Val Loss:\t 0.04151905377655443\n",
      "Epoch:\t 37 Val Loss:\t 0.04136794643369582\n",
      "Epoch:\t 38 Val Loss:\t 0.0413335627317861\n",
      "Epoch:\t 39 Val Loss:\t 0.041291151421703504\n",
      "Epoch:\t 40 Val Loss:\t 0.041401877793906666\n",
      "Epoch:\t 41 Val Loss:\t 0.04126541548285869\n",
      "Epoch:\t 42 Val Loss:\t 0.041231641755615014\n",
      "Epoch:\t 43 Val Loss:\t 0.04120451213226579\n",
      "Epoch:\t 44 Val Loss:\t 0.04115754825528441\n",
      "Epoch:\t 45 Val Loss:\t 0.04124244341537037\n",
      "Epoch:\t 46 Val Loss:\t 0.04113227150927812\n",
      "Epoch:\t 47 Val Loss:\t 0.041095298823581074\n",
      "Epoch:\t 48 Val Loss:\t 0.04111031482446976\n",
      "Epoch:\t 49 Val Loss:\t 0.04105192671291578\n",
      "Epoch:\t 50 Val Loss:\t 0.041032785394089\n",
      "Epoch:\t 51 Val Loss:\t 0.041043428705223615\n",
      "Epoch:\t 52 Val Loss:\t 0.04104550612319609\n",
      "Epoch:\t 53 Val Loss:\t 0.04093663907516369\n",
      "Epoch:\t 54 Val Loss:\t 0.0409420547910679\n",
      "Epoch:\t 55 Val Loss:\t 0.0410382106080781\n",
      "Epoch:\t 56 Val Loss:\t 0.04086990583551809\n",
      "Epoch:\t 57 Val Loss:\t 0.04099226519422205\n",
      "Epoch:\t 58 Val Loss:\t 0.04091699171683778\n",
      "Epoch:\t 59 Val Loss:\t 0.04091279486489379\n",
      "Epoch:\t 60 Val Loss:\t 0.04084320662373453\n",
      "Epoch:\t 61 Val Loss:\t 0.04081177512141625\n",
      "Epoch:\t 62 Val Loss:\t 0.040825177616484624\n",
      "Epoch:\t 63 Val Loss:\t 0.04098119846049499\n",
      "Epoch:\t 64 Val Loss:\t 0.04087597886624719\n",
      "Epoch:\t 65 Val Loss:\t 0.04076872382029779\n",
      "Epoch:\t 66 Val Loss:\t 0.04083133800019031\n",
      "Epoch:\t 67 Val Loss:\t 0.04087294536430305\n",
      "Epoch:\t 68 Val Loss:\t 0.04089813190606951\n",
      "Epoch:\t 69 Val Loss:\t 0.04076307641047156\n",
      "Epoch:\t 70 Val Loss:\t 0.040758702751558254\n",
      "Epoch:\t 71 Val Loss:\t 0.0407539869513248\n",
      "Epoch:\t 72 Val Loss:\t 0.04079726391357872\n",
      "Epoch:\t 73 Val Loss:\t 0.04083770341215546\n",
      "Epoch:\t 74 Val Loss:\t 0.04072384873607255\n",
      "Epoch:\t 75 Val Loss:\t 0.04064709535792894\n",
      "Epoch:\t 76 Val Loss:\t 0.04069119987947714\n",
      "Epoch:\t 77 Val Loss:\t 0.04068979365049547\n",
      "Epoch:\t 78 Val Loss:\t 0.04072090115633837\n",
      "Epoch:\t 79 Val Loss:\t 0.04071360105757823\n",
      "Epoch:\t 80 Val Loss:\t 0.040732108235999175\n",
      "Epoch:\t 81 Val Loss:\t 0.040706584818155284\n",
      "Epoch:\t 82 Val Loss:\t 0.04078443071551435\n",
      "Epoch:\t 83 Val Loss:\t 0.04066243831087736\n",
      "Epoch:\t 84 Val Loss:\t 0.04069949302593169\n"
     ]
    },
    {
     "name": "stderr",
     "output_type": "stream",
     "text": [
      "[I 2025-09-29 19:05:15,566] Trial 0 finished with value: 0.04064709535792894 and parameters: {'lr': 1e-05, 'weight_decay': 1e-05, 'scheduler_factor': 0.1, 'scheduler_patience': 10, 'batch_size': 32, 'dropout': 0.05, 'hidden_dims': 512}. Best is trial 0 with value: 0.04064709535792894.\n"
     ]
    },
    {
     "name": "stdout",
     "output_type": "stream",
     "text": [
      "Epoch:\t 85 Val Loss:\t 0.040709171538228776\n",
      "Epoch:\t 0 Val Loss:\t 0.042352660206155725\n",
      "Epoch:\t 1 Val Loss:\t 0.042719249934113725\n",
      "Epoch:\t 2 Val Loss:\t 0.04254270069089243\n",
      "Epoch:\t 3 Val Loss:\t 0.042465137599930126\n",
      "Epoch:\t 4 Val Loss:\t 0.04246087765155735\n",
      "Epoch:\t 5 Val Loss:\t 0.04246787091223085\n",
      "Epoch:\t 6 Val Loss:\t 0.042362429247006936\n",
      "Epoch:\t 7 Val Loss:\t 0.04233313884717984\n",
      "Epoch:\t 8 Val Loss:\t 0.0428777825567294\n",
      "Epoch:\t 9 Val Loss:\t 0.042214723570932845\n",
      "Epoch:\t 10 Val Loss:\t 0.04235222130944683\n",
      "Epoch:\t 11 Val Loss:\t 0.04224819761662551\n",
      "Epoch:\t 12 Val Loss:\t 0.04302544645031074\n",
      "Epoch:\t 13 Val Loss:\t 0.042217929727001655\n",
      "Epoch:\t 14 Val Loss:\t 0.04299148726501371\n",
      "Epoch:\t 15 Val Loss:\t 0.04280505567741512\n",
      "Epoch:\t 16 Val Loss:\t 0.04313916194745087\n",
      "Epoch:\t 17 Val Loss:\t 0.04211766585314163\n",
      "Epoch:\t 18 Val Loss:\t 0.04263398386170472\n",
      "Epoch:\t 19 Val Loss:\t 0.0426560516965922\n",
      "Epoch:\t 20 Val Loss:\t 0.04258172280515652\n",
      "Epoch:\t 21 Val Loss:\t 0.04258250393345303\n",
      "Epoch:\t 22 Val Loss:\t 0.04280276284231499\n",
      "Epoch:\t 23 Val Loss:\t 0.04239730274567442\n",
      "Epoch:\t 24 Val Loss:\t 0.042620482349155324\n",
      "Epoch:\t 25 Val Loss:\t 0.042587218077521444\n",
      "Epoch:\t 26 Val Loss:\t 0.04253266980083474\n"
     ]
    },
    {
     "name": "stderr",
     "output_type": "stream",
     "text": [
      "[I 2025-09-29 19:10:20,330] Trial 1 finished with value: 0.04211766585314163 and parameters: {'lr': 0.001, 'weight_decay': 0.001, 'scheduler_factor': 0.8, 'scheduler_patience': 10, 'batch_size': 32, 'dropout': 0.1, 'hidden_dims': 1024}. Best is trial 0 with value: 0.04064709535792894.\n"
     ]
    },
    {
     "name": "stdout",
     "output_type": "stream",
     "text": [
      "Epoch:\t 27 Val Loss:\t 0.04273923180750893\n",
      "Epoch:\t 0 Val Loss:\t 0.06084832250205583\n",
      "Epoch:\t 1 Val Loss:\t 0.058865851267825724\n",
      "Epoch:\t 2 Val Loss:\t 0.06051670085898665\n",
      "Epoch:\t 3 Val Loss:\t 0.057919257489401244\n",
      "Epoch:\t 4 Val Loss:\t 0.05667527922710707\n",
      "Epoch:\t 5 Val Loss:\t 0.055034725740551946\n",
      "Epoch:\t 6 Val Loss:\t 0.054344776662629705\n",
      "Epoch:\t 7 Val Loss:\t 0.05369863272752873\n",
      "Epoch:\t 8 Val Loss:\t 0.053535914698312446\n",
      "Epoch:\t 9 Val Loss:\t 0.05304687448539013\n",
      "Epoch:\t 10 Val Loss:\t 0.052801744050757826\n",
      "Epoch:\t 11 Val Loss:\t 0.052131614253617994\n",
      "Epoch:\t 12 Val Loss:\t 0.05186782377923644\n",
      "Epoch:\t 13 Val Loss:\t 0.051660322909091796\n",
      "Epoch:\t 14 Val Loss:\t 0.05143549341795056\n",
      "Epoch:\t 15 Val Loss:\t 0.05127565700474174\n",
      "Epoch:\t 16 Val Loss:\t 0.05109975590089033\n",
      "Epoch:\t 17 Val Loss:\t 0.05095510354568792\n",
      "Epoch:\t 18 Val Loss:\t 0.05095739686038605\n",
      "Epoch:\t 19 Val Loss:\t 0.05085800143695155\n",
      "Epoch:\t 20 Val Loss:\t 0.05077143331426521\n",
      "Epoch:\t 21 Val Loss:\t 0.05083558399143607\n",
      "Epoch:\t 22 Val Loss:\t 0.05071369879121004\n",
      "Epoch:\t 23 Val Loss:\t 0.05078034010217634\n",
      "Epoch:\t 24 Val Loss:\t 0.05084765906077485\n",
      "Epoch:\t 25 Val Loss:\t 0.05048824268025021\n",
      "Epoch:\t 26 Val Loss:\t 0.05043454307976157\n",
      "Epoch:\t 27 Val Loss:\t 0.050456950033819954\n",
      "Epoch:\t 28 Val Loss:\t 0.05020973212843718\n",
      "Epoch:\t 29 Val Loss:\t 0.05043647913045662\n",
      "Epoch:\t 30 Val Loss:\t 0.05049176938658537\n",
      "Epoch:\t 31 Val Loss:\t 0.04998326558879641\n",
      "Epoch:\t 32 Val Loss:\t 0.050275423187156054\n",
      "Epoch:\t 33 Val Loss:\t 0.05010846901771634\n",
      "Epoch:\t 34 Val Loss:\t 0.049833093245708664\n",
      "Epoch:\t 35 Val Loss:\t 0.04983530411886614\n",
      "Epoch:\t 36 Val Loss:\t 0.04954119277035081\n",
      "Epoch:\t 37 Val Loss:\t 0.04938625098141127\n",
      "Epoch:\t 38 Val Loss:\t 0.049747289136745206\n",
      "Epoch:\t 39 Val Loss:\t 0.049406554064778396\n",
      "Epoch:\t 40 Val Loss:\t 0.04952192802935146\n",
      "Epoch:\t 41 Val Loss:\t 0.049200154269157456\n",
      "Epoch:\t 42 Val Loss:\t 0.04893947696789753\n",
      "Epoch:\t 43 Val Loss:\t 0.04877142848143744\n",
      "Epoch:\t 44 Val Loss:\t 0.04853987356777801\n",
      "Epoch:\t 45 Val Loss:\t 0.048525756892076756\n",
      "Epoch:\t 46 Val Loss:\t 0.04860545315368231\n",
      "Epoch:\t 47 Val Loss:\t 0.04772298612393612\n",
      "Epoch:\t 48 Val Loss:\t 0.04776912112395431\n",
      "Epoch:\t 49 Val Loss:\t 0.047366235188620036\n",
      "Epoch:\t 50 Val Loss:\t 0.04713945318619872\n",
      "Epoch:\t 51 Val Loss:\t 0.04691182395746542\n",
      "Epoch:\t 52 Val Loss:\t 0.046687109456505886\n",
      "Epoch:\t 53 Val Loss:\t 0.04654707089932852\n",
      "Epoch:\t 54 Val Loss:\t 0.04622469091311444\n",
      "Epoch:\t 55 Val Loss:\t 0.04590967922189901\n",
      "Epoch:\t 56 Val Loss:\t 0.04571360364383043\n",
      "Epoch:\t 57 Val Loss:\t 0.04560574769627216\n",
      "Epoch:\t 58 Val Loss:\t 0.044987753414830495\n",
      "Epoch:\t 59 Val Loss:\t 0.044786689187898195\n",
      "Epoch:\t 60 Val Loss:\t 0.04481905546299247\n",
      "Epoch:\t 61 Val Loss:\t 0.044510683512618374\n",
      "Epoch:\t 62 Val Loss:\t 0.04456012145897677\n",
      "Epoch:\t 63 Val Loss:\t 0.0440521040801392\n",
      "Epoch:\t 64 Val Loss:\t 0.04398936356396176\n",
      "Epoch:\t 65 Val Loss:\t 0.04365921772496645\n",
      "Epoch:\t 66 Val Loss:\t 0.043465522503437\n",
      "Epoch:\t 67 Val Loss:\t 0.04346263538612876\n",
      "Epoch:\t 68 Val Loss:\t 0.04325759165682072\n",
      "Epoch:\t 69 Val Loss:\t 0.04316351833904898\n",
      "Epoch:\t 70 Val Loss:\t 0.042999411772849945\n",
      "Epoch:\t 71 Val Loss:\t 0.042949662366232204\n",
      "Epoch:\t 72 Val Loss:\t 0.0428993840896806\n",
      "Epoch:\t 73 Val Loss:\t 0.04253709326649821\n",
      "Epoch:\t 74 Val Loss:\t 0.042446568322389626\n",
      "Epoch:\t 75 Val Loss:\t 0.04240169549404189\n",
      "Epoch:\t 76 Val Loss:\t 0.042244070932962174\n",
      "Epoch:\t 77 Val Loss:\t 0.04218573366660018\n",
      "Epoch:\t 78 Val Loss:\t 0.042007799108707625\n",
      "Epoch:\t 79 Val Loss:\t 0.04193182797279469\n",
      "Epoch:\t 80 Val Loss:\t 0.041849767823898515\n",
      "Epoch:\t 81 Val Loss:\t 0.04177251747527788\n",
      "Epoch:\t 82 Val Loss:\t 0.041588902967267256\n",
      "Epoch:\t 83 Val Loss:\t 0.041538881969659824\n",
      "Epoch:\t 84 Val Loss:\t 0.04152276721284833\n",
      "Epoch:\t 85 Val Loss:\t 0.041433551586991135\n",
      "Epoch:\t 86 Val Loss:\t 0.04137386558360832\n",
      "Epoch:\t 87 Val Loss:\t 0.04133112975504509\n",
      "Epoch:\t 88 Val Loss:\t 0.041308412492968315\n",
      "Epoch:\t 89 Val Loss:\t 0.041238407296843305\n",
      "Epoch:\t 90 Val Loss:\t 0.04118621755651263\n",
      "Epoch:\t 91 Val Loss:\t 0.041129302744602046\n",
      "Epoch:\t 92 Val Loss:\t 0.04108016400836235\n",
      "Epoch:\t 93 Val Loss:\t 0.04101230029103368\n",
      "Epoch:\t 94 Val Loss:\t 0.04099896350052468\n",
      "Epoch:\t 95 Val Loss:\t 0.04094759776841762\n",
      "Epoch:\t 96 Val Loss:\t 0.04091191469410131\n",
      "Epoch:\t 97 Val Loss:\t 0.04087739583364753\n",
      "Epoch:\t 98 Val Loss:\t 0.0408492540897325\n"
     ]
    },
    {
     "name": "stderr",
     "output_type": "stream",
     "text": [
      "[I 2025-09-29 19:16:12,593] Trial 2 finished with value: 0.04077713146459225 and parameters: {'lr': 1e-05, 'weight_decay': 0.0001, 'scheduler_factor': 0.8, 'scheduler_patience': 20, 'batch_size': 256, 'dropout': 0.2, 'hidden_dims': 256}. Best is trial 0 with value: 0.04064709535792894.\n"
     ]
    },
    {
     "name": "stdout",
     "output_type": "stream",
     "text": [
      "Epoch:\t 99 Val Loss:\t 0.04077713146459225\n",
      "Epoch:\t 0 Val Loss:\t 0.04282646950736694\n",
      "Epoch:\t 1 Val Loss:\t 0.04203955581656178\n",
      "Epoch:\t 2 Val Loss:\t 0.04240080495294655\n",
      "Epoch:\t 3 Val Loss:\t 0.04203683991551953\n",
      "Epoch:\t 4 Val Loss:\t 0.04210095635845686\n",
      "Epoch:\t 5 Val Loss:\t 0.04213493656146402\n",
      "Epoch:\t 6 Val Loss:\t 0.041747159671804215\n",
      "Epoch:\t 7 Val Loss:\t 0.04191010156332685\n",
      "Epoch:\t 8 Val Loss:\t 0.04222985757266049\n",
      "Epoch:\t 9 Val Loss:\t 0.041943508422090894\n",
      "Epoch:\t 10 Val Loss:\t 0.04201007540079221\n",
      "Epoch:\t 11 Val Loss:\t 0.04225623467883028\n",
      "Epoch:\t 12 Val Loss:\t 0.04183526910002085\n",
      "Epoch:\t 13 Val Loss:\t 0.041692075612722236\n",
      "Epoch:\t 14 Val Loss:\t 0.04175838888228009\n",
      "Epoch:\t 15 Val Loss:\t 0.041942166383015844\n",
      "Epoch:\t 16 Val Loss:\t 0.041787602678027856\n",
      "Epoch:\t 17 Val Loss:\t 0.04177138319673854\n",
      "Epoch:\t 18 Val Loss:\t 0.04177091574852337\n",
      "Epoch:\t 19 Val Loss:\t 0.04176559990637532\n",
      "Epoch:\t 20 Val Loss:\t 0.04219461512794063\n",
      "Epoch:\t 21 Val Loss:\t 0.04197427009975453\n",
      "Epoch:\t 22 Val Loss:\t 0.04179898739882185\n"
     ]
    },
    {
     "name": "stderr",
     "output_type": "stream",
     "text": [
      "[I 2025-09-29 19:18:18,388] Trial 3 finished with value: 0.041692075612722236 and parameters: {'lr': 0.001, 'weight_decay': 0.001, 'scheduler_factor': 0.8, 'scheduler_patience': 1, 'batch_size': 128, 'dropout': 0.1, 'hidden_dims': 1024}. Best is trial 0 with value: 0.04064709535792894.\n"
     ]
    },
    {
     "name": "stdout",
     "output_type": "stream",
     "text": [
      "Epoch:\t 23 Val Loss:\t 0.04178572077472866\n",
      "Epoch:\t 0 Val Loss:\t 0.04877119464016002\n",
      "Epoch:\t 1 Val Loss:\t 0.04748813754452465\n",
      "Epoch:\t 2 Val Loss:\t 0.04679138565277092\n",
      "Epoch:\t 3 Val Loss:\t 0.04646962094193652\n",
      "Epoch:\t 4 Val Loss:\t 0.04645061298871864\n",
      "Epoch:\t 5 Val Loss:\t 0.04607669723955823\n",
      "Epoch:\t 6 Val Loss:\t 0.045919118227477136\n",
      "Epoch:\t 7 Val Loss:\t 0.04619501090272872\n",
      "Epoch:\t 8 Val Loss:\t 0.0456315086958838\n",
      "Epoch:\t 9 Val Loss:\t 0.04555815480459207\n",
      "Epoch:\t 10 Val Loss:\t 0.045447401468897725\n",
      "Epoch:\t 11 Val Loss:\t 0.04534385655695833\n",
      "Epoch:\t 12 Val Loss:\t 0.0452527128164324\n",
      "Epoch:\t 13 Val Loss:\t 0.04496940292712048\n",
      "Epoch:\t 14 Val Loss:\t 0.04515841296153469\n",
      "Epoch:\t 15 Val Loss:\t 0.04484170290965261\n",
      "Epoch:\t 16 Val Loss:\t 0.044505011319500104\n",
      "Epoch:\t 17 Val Loss:\t 0.04469136323172273\n",
      "Epoch:\t 18 Val Loss:\t 0.0448078388241198\n",
      "Epoch:\t 19 Val Loss:\t 0.04467923962362478\n",
      "Epoch:\t 20 Val Loss:\t 0.044552298564327644\n",
      "Epoch:\t 21 Val Loss:\t 0.04451719839158303\n",
      "Epoch:\t 22 Val Loss:\t 0.04429855126859453\n",
      "Epoch:\t 23 Val Loss:\t 0.044196062399700364\n",
      "Epoch:\t 24 Val Loss:\t 0.04445134041137946\n",
      "Epoch:\t 25 Val Loss:\t 0.04428926270154591\n",
      "Epoch:\t 26 Val Loss:\t 0.04427053425644832\n",
      "Epoch:\t 27 Val Loss:\t 0.0442002254299867\n",
      "Epoch:\t 28 Val Loss:\t 0.04410827239771015\n",
      "Epoch:\t 29 Val Loss:\t 0.04435036310442851\n",
      "Epoch:\t 30 Val Loss:\t 0.04419661176650938\n",
      "Epoch:\t 31 Val Loss:\t 0.044185592118894994\n",
      "Epoch:\t 32 Val Loss:\t 0.04409049179900094\n",
      "Epoch:\t 33 Val Loss:\t 0.04394122278096194\n",
      "Epoch:\t 34 Val Loss:\t 0.043958652571051256\n",
      "Epoch:\t 35 Val Loss:\t 0.04426195982517161\n",
      "Epoch:\t 36 Val Loss:\t 0.04439619363750992\n",
      "Epoch:\t 37 Val Loss:\t 0.04405962737429578\n",
      "Epoch:\t 38 Val Loss:\t 0.044084535964650604\n",
      "Epoch:\t 39 Val Loss:\t 0.0438332530522305\n",
      "Epoch:\t 40 Val Loss:\t 0.043939882761826365\n",
      "Epoch:\t 41 Val Loss:\t 0.04394601815495287\n",
      "Epoch:\t 42 Val Loss:\t 0.04401308482213381\n",
      "Epoch:\t 43 Val Loss:\t 0.04436551234984875\n",
      "Epoch:\t 44 Val Loss:\t 0.044094963762444324\n",
      "Epoch:\t 45 Val Loss:\t 0.044061236079183344\n",
      "Epoch:\t 46 Val Loss:\t 0.043969095305680744\n",
      "Epoch:\t 47 Val Loss:\t 0.0439601938045101\n",
      "Epoch:\t 48 Val Loss:\t 0.0438645718996513\n"
     ]
    },
    {
     "name": "stderr",
     "output_type": "stream",
     "text": [
      "[I 2025-09-29 19:28:11,229] Trial 4 finished with value: 0.0438332530522305 and parameters: {'lr': 1e-05, 'weight_decay': 1e-06, 'scheduler_factor': 0.3, 'scheduler_patience': 10, 'batch_size': 32, 'dropout': 0.2, 'hidden_dims': 1024}. Best is trial 0 with value: 0.04064709535792894.\n"
     ]
    },
    {
     "name": "stdout",
     "output_type": "stream",
     "text": [
      "Epoch:\t 49 Val Loss:\t 0.04398070800740291\n",
      "Epoch:\t 0 Val Loss:\t 0.04045685946301396\n",
      "Epoch:\t 1 Val Loss:\t 0.04013906040045666\n",
      "Epoch:\t 2 Val Loss:\t 0.04012615363601675\n",
      "Epoch:\t 3 Val Loss:\t 0.04014665539821289\n",
      "Epoch:\t 4 Val Loss:\t 0.0401478939999416\n",
      "Epoch:\t 5 Val Loss:\t 0.04010420429908946\n",
      "Epoch:\t 6 Val Loss:\t 0.040123786390242853\n",
      "Epoch:\t 7 Val Loss:\t 0.040122114180290484\n",
      "Epoch:\t 8 Val Loss:\t 0.04014772075124072\n",
      "Epoch:\t 9 Val Loss:\t 0.040108664872614504\n",
      "Epoch:\t 10 Val Loss:\t 0.04006909426178478\n",
      "Epoch:\t 11 Val Loss:\t 0.04008908690673905\n",
      "Epoch:\t 12 Val Loss:\t 0.04007797327824478\n",
      "Epoch:\t 13 Val Loss:\t 0.04009762864929607\n",
      "Epoch:\t 14 Val Loss:\t 0.04007268682321143\n",
      "Epoch:\t 15 Val Loss:\t 0.04006461227486733\n",
      "Epoch:\t 16 Val Loss:\t 0.04009158529008258\n",
      "Epoch:\t 17 Val Loss:\t 0.040125168001606794\n",
      "Epoch:\t 18 Val Loss:\t 0.04012437133433095\n",
      "Epoch:\t 19 Val Loss:\t 0.040105319133831606\n",
      "Epoch:\t 20 Val Loss:\t 0.040115133868406073\n",
      "Epoch:\t 21 Val Loss:\t 0.04013257951746482\n",
      "Epoch:\t 22 Val Loss:\t 0.03997006251093474\n",
      "Epoch:\t 23 Val Loss:\t 0.03999874687867668\n",
      "Epoch:\t 24 Val Loss:\t 0.03997604683845872\n",
      "Epoch:\t 25 Val Loss:\t 0.0399835948841522\n",
      "Epoch:\t 26 Val Loss:\t 0.03998451879938812\n",
      "Epoch:\t 27 Val Loss:\t 0.03997209257361367\n",
      "Epoch:\t 28 Val Loss:\t 0.03998770212589207\n",
      "Epoch:\t 29 Val Loss:\t 0.03997983691378243\n",
      "Epoch:\t 30 Val Loss:\t 0.03996752155809574\n",
      "Epoch:\t 31 Val Loss:\t 0.039971859125691796\n",
      "Epoch:\t 32 Val Loss:\t 0.039974277035846176\n",
      "Epoch:\t 33 Val Loss:\t 0.03997499822004894\n",
      "Epoch:\t 34 Val Loss:\t 0.03998378085246006\n",
      "Epoch:\t 35 Val Loss:\t 0.039981741734925774\n",
      "Epoch:\t 36 Val Loss:\t 0.03997210000689751\n",
      "Epoch:\t 37 Val Loss:\t 0.03997324844924987\n",
      "Epoch:\t 38 Val Loss:\t 0.03997857408793735\n",
      "Epoch:\t 39 Val Loss:\t 0.03997422934434681\n"
     ]
    },
    {
     "name": "stderr",
     "output_type": "stream",
     "text": [
      "[I 2025-09-29 19:32:30,753] Trial 5 finished with value: 0.03996752155809574 and parameters: {'lr': 0.001, 'weight_decay': 1e-05, 'scheduler_factor': 0.1, 'scheduler_patience': 5, 'batch_size': 64, 'dropout': 0.1, 'hidden_dims': 128}. Best is trial 5 with value: 0.03996752155809574.\n"
     ]
    },
    {
     "name": "stdout",
     "output_type": "stream",
     "text": [
      "Epoch:\t 40 Val Loss:\t 0.040001424127844826\n"
     ]
    },
    {
     "name": "stderr",
     "output_type": "stream",
     "text": [
      "[I 2025-09-29 19:32:41,440] Trial 6 pruned. \n"
     ]
    },
    {
     "name": "stdout",
     "output_type": "stream",
     "text": [
      "Epoch:\t 0 Val Loss:\t 0.06314456831281157\n",
      "Epoch:\t 0 Val Loss:\t 0.040226385726534516\n",
      "Epoch:\t 1 Val Loss:\t 0.04019201718145377\n",
      "Epoch:\t 2 Val Loss:\t 0.04017655873856033\n",
      "Epoch:\t 3 Val Loss:\t 0.040169506316471607\n",
      "Epoch:\t 4 Val Loss:\t 0.04015116455942583\n",
      "Epoch:\t 5 Val Loss:\t 0.04014436931587708\n",
      "Epoch:\t 6 Val Loss:\t 0.04016008194551105\n",
      "Epoch:\t 7 Val Loss:\t 0.04014324558465306\n",
      "Epoch:\t 8 Val Loss:\t 0.04015702363892793\n",
      "Epoch:\t 9 Val Loss:\t 0.04013041715184686\n",
      "Epoch:\t 10 Val Loss:\t 0.04016237189367336\n",
      "Epoch:\t 11 Val Loss:\t 0.04014815626210829\n",
      "Epoch:\t 12 Val Loss:\t 0.04017503723476214\n",
      "Epoch:\t 13 Val Loss:\t 0.04023036189935129\n",
      "Epoch:\t 14 Val Loss:\t 0.04012456951523443\n",
      "Epoch:\t 15 Val Loss:\t 0.040125614358625716\n",
      "Epoch:\t 16 Val Loss:\t 0.04015695197033159\n",
      "Epoch:\t 17 Val Loss:\t 0.04013588059924919\n",
      "Epoch:\t 18 Val Loss:\t 0.04016590722713855\n",
      "Epoch:\t 19 Val Loss:\t 0.04011882439329226\n",
      "Epoch:\t 20 Val Loss:\t 0.040179178908951604\n",
      "Epoch:\t 21 Val Loss:\t 0.04013331336722219\n",
      "Epoch:\t 22 Val Loss:\t 0.04019032250192542\n",
      "Epoch:\t 23 Val Loss:\t 0.04014811816382602\n",
      "Epoch:\t 24 Val Loss:\t 0.040116314074101316\n",
      "Epoch:\t 25 Val Loss:\t 0.04014733975058075\n",
      "Epoch:\t 26 Val Loss:\t 0.040123612372917075\n",
      "Epoch:\t 27 Val Loss:\t 0.040156633189370725\n",
      "Epoch:\t 28 Val Loss:\t 0.04014555862777744\n",
      "Epoch:\t 29 Val Loss:\t 0.040153165697593085\n",
      "Epoch:\t 30 Val Loss:\t 0.04021403011857806\n",
      "Epoch:\t 31 Val Loss:\t 0.04015102503670988\n",
      "Epoch:\t 32 Val Loss:\t 0.04014000357239487\n",
      "Epoch:\t 33 Val Loss:\t 0.04018053613242045\n"
     ]
    },
    {
     "name": "stderr",
     "output_type": "stream",
     "text": [
      "[I 2025-09-29 19:38:47,621] Trial 7 finished with value: 0.040116314074101316 and parameters: {'lr': 0.001, 'weight_decay': 1e-05, 'scheduler_factor': 0.8, 'scheduler_patience': 20, 'batch_size': 32, 'dropout': 0.1, 'hidden_dims': 128}. Best is trial 5 with value: 0.03996752155809574.\n"
     ]
    },
    {
     "name": "stdout",
     "output_type": "stream",
     "text": [
      "Epoch:\t 34 Val Loss:\t 0.0401868586586837\n"
     ]
    },
    {
     "name": "stderr",
     "output_type": "stream",
     "text": [
      "[I 2025-09-29 19:38:57,942] Trial 8 pruned. \n"
     ]
    },
    {
     "name": "stdout",
     "output_type": "stream",
     "text": [
      "Epoch:\t 0 Val Loss:\t 0.048692303062678764\n",
      "Epoch:\t 0 Val Loss:\t 0.04159269193365729\n",
      "Epoch:\t 1 Val Loss:\t 0.04187902852512347\n",
      "Epoch:\t 2 Val Loss:\t 0.04197548507878722\n",
      "Epoch:\t 3 Val Loss:\t 0.0417746342599686\n",
      "Epoch:\t 4 Val Loss:\t 0.041920368954781455\n",
      "Epoch:\t 5 Val Loss:\t 0.04157986352030994\n",
      "Epoch:\t 6 Val Loss:\t 0.04171781588693863\n",
      "Epoch:\t 7 Val Loss:\t 0.041637176322386976\n",
      "Epoch:\t 8 Val Loss:\t 0.04167905056041579\n",
      "Epoch:\t 9 Val Loss:\t 0.041709831366083056\n",
      "Epoch:\t 10 Val Loss:\t 0.04166432900124003\n",
      "Epoch:\t 11 Val Loss:\t 0.041649502781514365\n",
      "Epoch:\t 12 Val Loss:\t 0.04186996257822318\n",
      "Epoch:\t 13 Val Loss:\t 0.04189326718894984\n",
      "Epoch:\t 14 Val Loss:\t 0.041755217571272034\n"
     ]
    },
    {
     "name": "stderr",
     "output_type": "stream",
     "text": [
      "[I 2025-09-29 19:41:41,766] Trial 9 finished with value: 0.04157986352030994 and parameters: {'lr': 0.0001, 'weight_decay': 0.001, 'scheduler_factor': 0.8, 'scheduler_patience': 1, 'batch_size': 32, 'dropout': 0.05, 'hidden_dims': 64}. Best is trial 5 with value: 0.03996752155809574.\n"
     ]
    },
    {
     "name": "stdout",
     "output_type": "stream",
     "text": [
      "Epoch:\t 15 Val Loss:\t 0.041793286867409477\n",
      "Epoch:\t 0 Val Loss:\t 0.041768850385710314\n",
      "Epoch:\t 1 Val Loss:\t 0.04052043638072662\n",
      "Epoch:\t 2 Val Loss:\t 0.04023520657127843\n",
      "Epoch:\t 3 Val Loss:\t 0.04012788598681354\n",
      "Epoch:\t 4 Val Loss:\t 0.04015943741407494\n",
      "Epoch:\t 5 Val Loss:\t 0.04012905765439422\n",
      "Epoch:\t 6 Val Loss:\t 0.040087942401562326\n",
      "Epoch:\t 7 Val Loss:\t 0.04005877031051206\n",
      "Epoch:\t 8 Val Loss:\t 0.040054879261011034\n",
      "Epoch:\t 9 Val Loss:\t 0.040110319474462294\n",
      "Epoch:\t 10 Val Loss:\t 0.040062520164375864\n",
      "Epoch:\t 11 Val Loss:\t 0.0400375958080217\n",
      "Epoch:\t 12 Val Loss:\t 0.04005551167174058\n",
      "Epoch:\t 13 Val Loss:\t 0.04007370748140406\n",
      "Epoch:\t 14 Val Loss:\t 0.04012849457773855\n",
      "Epoch:\t 15 Val Loss:\t 0.04012053257294401\n",
      "Epoch:\t 16 Val Loss:\t 0.04005777293592432\n",
      "Epoch:\t 17 Val Loss:\t 0.04005684488892417\n",
      "Epoch:\t 18 Val Loss:\t 0.040007973309266864\n",
      "Epoch:\t 19 Val Loss:\t 0.040011334803238624\n",
      "Epoch:\t 20 Val Loss:\t 0.040008938135671114\n",
      "Epoch:\t 21 Val Loss:\t 0.040034769728857625\n",
      "Epoch:\t 22 Val Loss:\t 0.04001178755033037\n",
      "Epoch:\t 23 Val Loss:\t 0.04001482635373233\n",
      "Epoch:\t 24 Val Loss:\t 0.04000657624540741\n",
      "Epoch:\t 25 Val Loss:\t 0.040001127866728665\n",
      "Epoch:\t 26 Val Loss:\t 0.04001501967100231\n",
      "Epoch:\t 27 Val Loss:\t 0.040028956228487726\n",
      "Epoch:\t 28 Val Loss:\t 0.040011323437103334\n",
      "Epoch:\t 29 Val Loss:\t 0.04001271478438267\n",
      "Epoch:\t 30 Val Loss:\t 0.04000042143450251\n",
      "Epoch:\t 31 Val Loss:\t 0.04002159551322218\n",
      "Epoch:\t 32 Val Loss:\t 0.040010096720412794\n",
      "Epoch:\t 33 Val Loss:\t 0.040023470233673974\n",
      "Epoch:\t 34 Val Loss:\t 0.040011748699638916\n",
      "Epoch:\t 35 Val Loss:\t 0.04002012801262022\n",
      "Epoch:\t 36 Val Loss:\t 0.040038818211332004\n",
      "Epoch:\t 37 Val Loss:\t 0.04002304100801761\n",
      "Epoch:\t 38 Val Loss:\t 0.040007155509671016\n",
      "Epoch:\t 39 Val Loss:\t 0.040004170135969484\n"
     ]
    },
    {
     "name": "stderr",
     "output_type": "stream",
     "text": [
      "[I 2025-09-29 19:45:51,045] Trial 10 finished with value: 0.04000042143450251 and parameters: {'lr': 0.0001, 'weight_decay': 0.0001, 'scheduler_factor': 0.1, 'scheduler_patience': 5, 'batch_size': 64, 'dropout': 0.15, 'hidden_dims': 128}. Best is trial 5 with value: 0.03996752155809574.\n"
     ]
    },
    {
     "name": "stdout",
     "output_type": "stream",
     "text": [
      "Epoch:\t 40 Val Loss:\t 0.040009084673845965\n",
      "Epoch:\t 0 Val Loss:\t 0.04190456301613872\n",
      "Epoch:\t 1 Val Loss:\t 0.0405044560528777\n",
      "Epoch:\t 2 Val Loss:\t 0.040213240953773106\n",
      "Epoch:\t 3 Val Loss:\t 0.040087659722729194\n",
      "Epoch:\t 4 Val Loss:\t 0.040123302385738545\n",
      "Epoch:\t 5 Val Loss:\t 0.0400592860545762\n",
      "Epoch:\t 6 Val Loss:\t 0.04007388225654426\n",
      "Epoch:\t 7 Val Loss:\t 0.040040147755115586\n",
      "Epoch:\t 8 Val Loss:\t 0.040075973045995465\n",
      "Epoch:\t 9 Val Loss:\t 0.04007297723802175\n",
      "Epoch:\t 10 Val Loss:\t 0.04012643358196136\n",
      "Epoch:\t 11 Val Loss:\t 0.040065737092003735\n",
      "Epoch:\t 12 Val Loss:\t 0.04012582358351227\n",
      "Epoch:\t 13 Val Loss:\t 0.04005628548566851\n",
      "Epoch:\t 14 Val Loss:\t 0.0400139976506896\n",
      "Epoch:\t 15 Val Loss:\t 0.04002274939108227\n",
      "Epoch:\t 16 Val Loss:\t 0.0400096913469924\n",
      "Epoch:\t 17 Val Loss:\t 0.040016024545898844\n",
      "Epoch:\t 18 Val Loss:\t 0.0400143306306712\n",
      "Epoch:\t 19 Val Loss:\t 0.04000424318668528\n",
      "Epoch:\t 20 Val Loss:\t 0.04001737415608942\n",
      "Epoch:\t 21 Val Loss:\t 0.040031278429166976\n",
      "Epoch:\t 22 Val Loss:\t 0.04002038336905434\n",
      "Epoch:\t 23 Val Loss:\t 0.04000862495832089\n",
      "Epoch:\t 24 Val Loss:\t 0.040017680607160995\n",
      "Epoch:\t 25 Val Loss:\t 0.04000264195183717\n",
      "Epoch:\t 26 Val Loss:\t 0.04001769694179141\n",
      "Epoch:\t 27 Val Loss:\t 0.04001223382410862\n",
      "Epoch:\t 28 Val Loss:\t 0.04002122350741941\n",
      "Epoch:\t 29 Val Loss:\t 0.040018305588930894\n",
      "Epoch:\t 30 Val Loss:\t 0.04004074863384646\n",
      "Epoch:\t 31 Val Loss:\t 0.0400134058635697\n",
      "Epoch:\t 32 Val Loss:\t 0.04003099913833727\n",
      "Epoch:\t 33 Val Loss:\t 0.040013808547343474\n",
      "Epoch:\t 34 Val Loss:\t 0.04000485104898416\n",
      "Epoch:\t 35 Val Loss:\t 0.040013599861899715\n"
     ]
    },
    {
     "name": "stderr",
     "output_type": "stream",
     "text": [
      "[I 2025-09-29 19:49:28,848] Trial 11 finished with value: 0.04000264195183717 and parameters: {'lr': 0.0001, 'weight_decay': 0.0001, 'scheduler_factor': 0.1, 'scheduler_patience': 5, 'batch_size': 64, 'dropout': 0.15, 'hidden_dims': 128}. Best is trial 5 with value: 0.03996752155809574.\n"
     ]
    },
    {
     "name": "stdout",
     "output_type": "stream",
     "text": [
      "Epoch:\t 0 Val Loss:\t 0.04183783039917658\n",
      "Epoch:\t 1 Val Loss:\t 0.04058330132260062\n",
      "Epoch:\t 2 Val Loss:\t 0.04028762328896285\n",
      "Epoch:\t 3 Val Loss:\t 0.040179369829538875\n",
      "Epoch:\t 4 Val Loss:\t 0.04012616786476629\n",
      "Epoch:\t 5 Val Loss:\t 0.040085511142631224\n",
      "Epoch:\t 6 Val Loss:\t 0.040095089445592216\n",
      "Epoch:\t 7 Val Loss:\t 0.04006020441971334\n",
      "Epoch:\t 8 Val Loss:\t 0.040103895208099455\n",
      "Epoch:\t 9 Val Loss:\t 0.04004709997921923\n",
      "Epoch:\t 10 Val Loss:\t 0.04002238034735014\n",
      "Epoch:\t 11 Val Loss:\t 0.04005923387672897\n",
      "Epoch:\t 12 Val Loss:\t 0.040049767511930845\n",
      "Epoch:\t 13 Val Loss:\t 0.04009879306737102\n",
      "Epoch:\t 14 Val Loss:\t 0.040062618390529985\n",
      "Epoch:\t 15 Val Loss:\t 0.040032739363485344\n",
      "Epoch:\t 16 Val Loss:\t 0.04002872611667898\n",
      "Epoch:\t 17 Val Loss:\t 0.04001481891180012\n",
      "Epoch:\t 18 Val Loss:\t 0.04001629697423789\n",
      "Epoch:\t 19 Val Loss:\t 0.04000499518074688\n",
      "Epoch:\t 20 Val Loss:\t 0.04002290421873072\n",
      "Epoch:\t 21 Val Loss:\t 0.040021312107925006\n",
      "Epoch:\t 22 Val Loss:\t 0.04000570915652373\n",
      "Epoch:\t 23 Val Loss:\t 0.040016194940633854\n",
      "Epoch:\t 24 Val Loss:\t 0.040005836637990115\n",
      "Epoch:\t 25 Val Loss:\t 0.04000405274500213\n",
      "Epoch:\t 26 Val Loss:\t 0.04001457200915884\n",
      "Epoch:\t 27 Val Loss:\t 0.04000266990556803\n",
      "Epoch:\t 28 Val Loss:\t 0.04001359376262871\n",
      "Epoch:\t 29 Val Loss:\t 0.04002317133047729\n",
      "Epoch:\t 30 Val Loss:\t 0.04001589820385671\n",
      "Epoch:\t 31 Val Loss:\t 0.04001569164375268\n",
      "Epoch:\t 32 Val Loss:\t 0.0400259341207861\n",
      "Epoch:\t 33 Val Loss:\t 0.04001687606769596\n",
      "Epoch:\t 34 Val Loss:\t 0.04000795337690978\n",
      "Epoch:\t 35 Val Loss:\t 0.04000395631987344\n",
      "Epoch:\t 36 Val Loss:\t 0.0400206148235243\n"
     ]
    },
    {
     "name": "stderr",
     "output_type": "stream",
     "text": [
      "[I 2025-09-29 19:53:15,037] Trial 12 finished with value: 0.04000266990556803 and parameters: {'lr': 0.0001, 'weight_decay': 0.0001, 'scheduler_factor': 0.1, 'scheduler_patience': 5, 'batch_size': 64, 'dropout': 0.15, 'hidden_dims': 128}. Best is trial 5 with value: 0.03996752155809574.\n"
     ]
    },
    {
     "name": "stdout",
     "output_type": "stream",
     "text": [
      "Epoch:\t 37 Val Loss:\t 0.040014285970429525\n"
     ]
    },
    {
     "name": "stderr",
     "output_type": "stream",
     "text": [
      "[I 2025-09-29 19:53:21,020] Trial 13 pruned. \n"
     ]
    },
    {
     "name": "stdout",
     "output_type": "stream",
     "text": [
      "Epoch:\t 0 Val Loss:\t 0.08828046363121676\n",
      "Epoch:\t 0 Val Loss:\t 0.04029095234006457\n",
      "Epoch:\t 1 Val Loss:\t 0.04021529364078723\n",
      "Epoch:\t 2 Val Loss:\t 0.04024553741439885\n",
      "Epoch:\t 3 Val Loss:\t 0.04021605488140421\n",
      "Epoch:\t 4 Val Loss:\t 0.04020183881071618\n",
      "Epoch:\t 5 Val Loss:\t 0.04019078327620927\n",
      "Epoch:\t 6 Val Loss:\t 0.04024369465547939\n",
      "Epoch:\t 7 Val Loss:\t 0.040246130898324635\n",
      "Epoch:\t 8 Val Loss:\t 0.04021432181398996\n",
      "Epoch:\t 9 Val Loss:\t 0.040228397151338816\n",
      "Epoch:\t 10 Val Loss:\t 0.040257143876807844\n",
      "Epoch:\t 11 Val Loss:\t 0.04021323557759895\n",
      "Epoch:\t 12 Val Loss:\t 0.04020539709716391\n",
      "Epoch:\t 13 Val Loss:\t 0.04011402654315777\n",
      "Epoch:\t 14 Val Loss:\t 0.040198144430383\n",
      "Epoch:\t 15 Val Loss:\t 0.04018161531678827\n",
      "Epoch:\t 16 Val Loss:\t 0.04015525866418225\n",
      "Epoch:\t 17 Val Loss:\t 0.04021671134451599\n",
      "Epoch:\t 18 Val Loss:\t 0.040187203652435805\n",
      "Epoch:\t 19 Val Loss:\t 0.040171136772083074\n",
      "Epoch:\t 20 Val Loss:\t 0.0401284720896745\n",
      "Epoch:\t 21 Val Loss:\t 0.04014629133809863\n",
      "Epoch:\t 22 Val Loss:\t 0.040137277004882815\n"
     ]
    },
    {
     "name": "stderr",
     "output_type": "stream",
     "text": [
      "[I 2025-09-29 20:02:32,772] Trial 14 finished with value: 0.04011402654315777 and parameters: {'lr': 0.001, 'weight_decay': 1e-05, 'scheduler_factor': 0.5, 'scheduler_patience': 5, 'batch_size': 16, 'dropout': 0.15, 'hidden_dims': 128}. Best is trial 5 with value: 0.03996752155809574.\n"
     ]
    },
    {
     "name": "stdout",
     "output_type": "stream",
     "text": [
      "Epoch:\t 23 Val Loss:\t 0.04016826624756288\n"
     ]
    },
    {
     "name": "stderr",
     "output_type": "stream",
     "text": [
      "[I 2025-09-29 20:02:37,735] Trial 15 pruned. \n"
     ]
    },
    {
     "name": "stdout",
     "output_type": "stream",
     "text": [
      "Epoch:\t 0 Val Loss:\t 0.04214810285321585\n"
     ]
    },
    {
     "name": "stderr",
     "output_type": "stream",
     "text": [
      "[I 2025-09-29 20:02:42,769] Trial 16 pruned. \n"
     ]
    },
    {
     "name": "stdout",
     "output_type": "stream",
     "text": [
      "Epoch:\t 0 Val Loss:\t 0.042753502367647044\n",
      "Epoch:\t 0 Val Loss:\t 0.04026495819365781\n",
      "Epoch:\t 1 Val Loss:\t 0.040240538229926154\n",
      "Epoch:\t 2 Val Loss:\t 0.040223141516595715\n",
      "Epoch:\t 3 Val Loss:\t 0.040249889214432205\n",
      "Epoch:\t 4 Val Loss:\t 0.04029946374909186\n",
      "Epoch:\t 5 Val Loss:\t 0.040337534060645795\n",
      "Epoch:\t 6 Val Loss:\t 0.04028098501835759\n",
      "Epoch:\t 7 Val Loss:\t 0.04030435778936713\n",
      "Epoch:\t 8 Val Loss:\t 0.040293341743585925\n",
      "Epoch:\t 9 Val Loss:\t 0.040505823664000774\n",
      "Epoch:\t 10 Val Loss:\t 0.04073825093297252\n",
      "Epoch:\t 11 Val Loss:\t 0.04083708233171505\n"
     ]
    },
    {
     "name": "stderr",
     "output_type": "stream",
     "text": [
      "[I 2025-09-29 20:06:42,760] Trial 17 finished with value: 0.040223141516595715 and parameters: {'lr': 0.001, 'weight_decay': 1e-06, 'scheduler_factor': 0.1, 'scheduler_patience': 5, 'batch_size': 16, 'dropout': 0.05, 'hidden_dims': 128}. Best is trial 5 with value: 0.03996752155809574.\n"
     ]
    },
    {
     "name": "stdout",
     "output_type": "stream",
     "text": [
      "Epoch:\t 12 Val Loss:\t 0.04072843842726132\n"
     ]
    },
    {
     "name": "stderr",
     "output_type": "stream",
     "text": [
      "[I 2025-09-29 20:06:47,098] Trial 18 pruned. \n"
     ]
    },
    {
     "name": "stdout",
     "output_type": "stream",
     "text": [
      "Epoch:\t 0 Val Loss:\t 0.10616629051518357\n"
     ]
    },
    {
     "name": "stderr",
     "output_type": "stream",
     "text": [
      "[I 2025-09-29 20:06:50,642] Trial 19 pruned. \n"
     ]
    },
    {
     "name": "stdout",
     "output_type": "stream",
     "text": [
      "Epoch:\t 0 Val Loss:\t 0.05292612706679244\n",
      "Epoch:\t 0 Val Loss:\t 0.04068493638760602\n",
      "Epoch:\t 1 Val Loss:\t 0.04020768762914787\n",
      "Epoch:\t 2 Val Loss:\t 0.040188858511485265\n",
      "Epoch:\t 3 Val Loss:\t 0.04014997282651919\n",
      "Epoch:\t 4 Val Loss:\t 0.04018008226590383\n",
      "Epoch:\t 5 Val Loss:\t 0.040102281409315224\n",
      "Epoch:\t 6 Val Loss:\t 0.04023609060017923\n",
      "Epoch:\t 7 Val Loss:\t 0.04007770805833164\n",
      "Epoch:\t 8 Val Loss:\t 0.04015803384014637\n",
      "Epoch:\t 9 Val Loss:\t 0.040106215575321846\n",
      "Epoch:\t 10 Val Loss:\t 0.040012056266351695\n",
      "Epoch:\t 11 Val Loss:\t 0.039999018883245044\n",
      "Epoch:\t 12 Val Loss:\t 0.040026285508847556\n",
      "Epoch:\t 13 Val Loss:\t 0.0400296852805555\n",
      "Epoch:\t 14 Val Loss:\t 0.03997864788241395\n",
      "Epoch:\t 15 Val Loss:\t 0.039983088443584384\n",
      "Epoch:\t 16 Val Loss:\t 0.040015986177354655\n",
      "Epoch:\t 17 Val Loss:\t 0.03999035595524332\n",
      "Epoch:\t 18 Val Loss:\t 0.039984863433063685\n",
      "Epoch:\t 19 Val Loss:\t 0.03997545486107443\n",
      "Epoch:\t 20 Val Loss:\t 0.039988275005488086\n",
      "Epoch:\t 21 Val Loss:\t 0.03998452652023064\n",
      "Epoch:\t 22 Val Loss:\t 0.039985075465431064\n",
      "Epoch:\t 23 Val Loss:\t 0.03998403032583272\n",
      "Epoch:\t 24 Val Loss:\t 0.040001956524367395\n",
      "Epoch:\t 25 Val Loss:\t 0.03998953984640603\n",
      "Epoch:\t 26 Val Loss:\t 0.03999463970396177\n",
      "Epoch:\t 27 Val Loss:\t 0.039989860286234566\n",
      "Epoch:\t 28 Val Loss:\t 0.03998239126945054\n"
     ]
    },
    {
     "name": "stderr",
     "output_type": "stream",
     "text": [
      "[I 2025-09-29 20:09:36,577] Trial 20 finished with value: 0.03997545486107443 and parameters: {'lr': 0.001, 'weight_decay': 1e-05, 'scheduler_factor': 0.3, 'scheduler_patience': 1, 'batch_size': 64, 'dropout': 0.1, 'hidden_dims': 512}. Best is trial 5 with value: 0.03996752155809574.\n"
     ]
    },
    {
     "name": "stdout",
     "output_type": "stream",
     "text": [
      "Epoch:\t 29 Val Loss:\t 0.03998320812421072\n",
      "Epoch:\t 0 Val Loss:\t 0.04069639885288923\n",
      "Epoch:\t 1 Val Loss:\t 0.04030474476857858\n",
      "Epoch:\t 2 Val Loss:\t 0.040141923985488874\n",
      "Epoch:\t 3 Val Loss:\t 0.04010042713579921\n",
      "Epoch:\t 4 Val Loss:\t 0.040164595844955964\n",
      "Epoch:\t 5 Val Loss:\t 0.04012190367868662\n",
      "Epoch:\t 6 Val Loss:\t 0.04001343268436259\n",
      "Epoch:\t 7 Val Loss:\t 0.040010187299235646\n",
      "Epoch:\t 8 Val Loss:\t 0.04002446856823205\n",
      "Epoch:\t 9 Val Loss:\t 0.04000099869666581\n",
      "Epoch:\t 10 Val Loss:\t 0.039993032162281505\n",
      "Epoch:\t 11 Val Loss:\t 0.04003106772648825\n",
      "Epoch:\t 12 Val Loss:\t 0.04001124098127274\n",
      "Epoch:\t 13 Val Loss:\t 0.039997390006007806\n",
      "Epoch:\t 14 Val Loss:\t 0.04001940464470114\n",
      "Epoch:\t 15 Val Loss:\t 0.040017682544398435\n",
      "Epoch:\t 16 Val Loss:\t 0.03999575777103648\n",
      "Epoch:\t 17 Val Loss:\t 0.040003023209245966\n",
      "Epoch:\t 18 Val Loss:\t 0.04000860045961841\n",
      "Epoch:\t 19 Val Loss:\t 0.040011178522662096\n"
     ]
    },
    {
     "name": "stderr",
     "output_type": "stream",
     "text": [
      "[I 2025-09-29 20:11:26,583] Trial 21 finished with value: 0.039993032162281505 and parameters: {'lr': 0.001, 'weight_decay': 1e-05, 'scheduler_factor': 0.3, 'scheduler_patience': 1, 'batch_size': 64, 'dropout': 0.1, 'hidden_dims': 512}. Best is trial 5 with value: 0.03996752155809574.\n"
     ]
    },
    {
     "name": "stdout",
     "output_type": "stream",
     "text": [
      "Epoch:\t 20 Val Loss:\t 0.040000518467179995\n",
      "Epoch:\t 0 Val Loss:\t 0.04082600744706008\n",
      "Epoch:\t 1 Val Loss:\t 0.04019559704489439\n",
      "Epoch:\t 2 Val Loss:\t 0.040135312803820405\n",
      "Epoch:\t 3 Val Loss:\t 0.040148005205154144\n",
      "Epoch:\t 4 Val Loss:\t 0.04011700803319936\n",
      "Epoch:\t 5 Val Loss:\t 0.04015625751233004\n",
      "Epoch:\t 6 Val Loss:\t 0.04018241213769741\n",
      "Epoch:\t 7 Val Loss:\t 0.040031087440473706\n",
      "Epoch:\t 8 Val Loss:\t 0.04001035289844315\n",
      "Epoch:\t 9 Val Loss:\t 0.040042899123074634\n",
      "Epoch:\t 10 Val Loss:\t 0.03999177556327105\n",
      "Epoch:\t 11 Val Loss:\t 0.040016426444832005\n",
      "Epoch:\t 12 Val Loss:\t 0.04003839316068177\n",
      "Epoch:\t 13 Val Loss:\t 0.039991201174532476\n",
      "Epoch:\t 14 Val Loss:\t 0.03999881398146815\n",
      "Epoch:\t 15 Val Loss:\t 0.04000243297883472\n",
      "Epoch:\t 16 Val Loss:\t 0.03998579216977226\n",
      "Epoch:\t 17 Val Loss:\t 0.04000808750249519\n",
      "Epoch:\t 18 Val Loss:\t 0.03999170247147544\n",
      "Epoch:\t 19 Val Loss:\t 0.03999983907411836\n",
      "Epoch:\t 20 Val Loss:\t 0.04002627950903294\n",
      "Epoch:\t 21 Val Loss:\t 0.03999619388512865\n",
      "Epoch:\t 22 Val Loss:\t 0.04002446433917354\n",
      "Epoch:\t 23 Val Loss:\t 0.03999970709981783\n",
      "Epoch:\t 24 Val Loss:\t 0.03999498391386664\n",
      "Epoch:\t 25 Val Loss:\t 0.03999529393239555\n"
     ]
    },
    {
     "name": "stderr",
     "output_type": "stream",
     "text": [
      "[I 2025-09-29 20:13:50,510] Trial 22 finished with value: 0.03998579216977226 and parameters: {'lr': 0.001, 'weight_decay': 1e-05, 'scheduler_factor': 0.3, 'scheduler_patience': 1, 'batch_size': 64, 'dropout': 0.1, 'hidden_dims': 512}. Best is trial 5 with value: 0.03996752155809574.\n"
     ]
    },
    {
     "name": "stdout",
     "output_type": "stream",
     "text": [
      "Epoch:\t 26 Val Loss:\t 0.03999345240443167\n",
      "Epoch:\t 0 Val Loss:\t 0.04071713600673097\n",
      "Epoch:\t 1 Val Loss:\t 0.04020144972243215\n",
      "Epoch:\t 2 Val Loss:\t 0.0401413073234619\n",
      "Epoch:\t 3 Val Loss:\t 0.04012806540613457\n",
      "Epoch:\t 4 Val Loss:\t 0.040114083621938496\n",
      "Epoch:\t 5 Val Loss:\t 0.04016729412698773\n",
      "Epoch:\t 6 Val Loss:\t 0.0400799422163259\n",
      "Epoch:\t 7 Val Loss:\t 0.04008077975369025\n",
      "Epoch:\t 8 Val Loss:\t 0.04009680487150656\n",
      "Epoch:\t 9 Val Loss:\t 0.04002546419800884\n",
      "Epoch:\t 10 Val Loss:\t 0.040004131216090984\n",
      "Epoch:\t 11 Val Loss:\t 0.04004175881452499\n",
      "Epoch:\t 12 Val Loss:\t 0.040023620185797394\n",
      "Epoch:\t 13 Val Loss:\t 0.040007621890936075\n",
      "Epoch:\t 14 Val Loss:\t 0.03999891964090611\n",
      "Epoch:\t 15 Val Loss:\t 0.039994881532165245\n",
      "Epoch:\t 16 Val Loss:\t 0.03998485801269063\n",
      "Epoch:\t 17 Val Loss:\t 0.04002445334275656\n",
      "Epoch:\t 18 Val Loss:\t 0.03999988521539535\n",
      "Epoch:\t 19 Val Loss:\t 0.0399882967864367\n",
      "Epoch:\t 20 Val Loss:\t 0.04004750905847106\n",
      "Epoch:\t 21 Val Loss:\t 0.04000385002477945\n",
      "Epoch:\t 22 Val Loss:\t 0.039991552521514116\n",
      "Epoch:\t 23 Val Loss:\t 0.04000393792044196\n",
      "Epoch:\t 24 Val Loss:\t 0.04000240399162228\n",
      "Epoch:\t 25 Val Loss:\t 0.04001675625301971\n"
     ]
    },
    {
     "name": "stderr",
     "output_type": "stream",
     "text": [
      "[I 2025-09-29 20:16:44,410] Trial 23 finished with value: 0.03998485801269063 and parameters: {'lr': 0.001, 'weight_decay': 1e-05, 'scheduler_factor': 0.3, 'scheduler_patience': 1, 'batch_size': 64, 'dropout': 0.1, 'hidden_dims': 512}. Best is trial 5 with value: 0.03996752155809574.\n"
     ]
    },
    {
     "name": "stdout",
     "output_type": "stream",
     "text": [
      "Epoch:\t 26 Val Loss:\t 0.040000782482806016\n",
      "Epoch:\t 0 Val Loss:\t 0.040805587412068405\n",
      "Epoch:\t 1 Val Loss:\t 0.040218394483183956\n",
      "Epoch:\t 2 Val Loss:\t 0.040170700054181156\n",
      "Epoch:\t 3 Val Loss:\t 0.04014582528548399\n",
      "Epoch:\t 4 Val Loss:\t 0.04011836429183316\n",
      "Epoch:\t 5 Val Loss:\t 0.04014053612350726\n",
      "Epoch:\t 6 Val Loss:\t 0.040074224267598164\n",
      "Epoch:\t 7 Val Loss:\t 0.04012126581731468\n",
      "Epoch:\t 8 Val Loss:\t 0.040209618012744607\n",
      "Epoch:\t 9 Val Loss:\t 0.040059888247861046\n",
      "Epoch:\t 10 Val Loss:\t 0.04005654227557185\n",
      "Epoch:\t 11 Val Loss:\t 0.04002790796466159\n",
      "Epoch:\t 12 Val Loss:\t 0.040014127709373654\n",
      "Epoch:\t 13 Val Loss:\t 0.04003808771930873\n",
      "Epoch:\t 14 Val Loss:\t 0.04002065830326191\n",
      "Epoch:\t 15 Val Loss:\t 0.03998936930897273\n",
      "Epoch:\t 16 Val Loss:\t 0.039998413926802326\n",
      "Epoch:\t 17 Val Loss:\t 0.04001448416322453\n",
      "Epoch:\t 18 Val Loss:\t 0.03999479606453582\n",
      "Epoch:\t 19 Val Loss:\t 0.040003049534919025\n",
      "Epoch:\t 20 Val Loss:\t 0.039987397903940805\n",
      "Epoch:\t 21 Val Loss:\t 0.03998175384698396\n",
      "Epoch:\t 22 Val Loss:\t 0.040002368982974275\n",
      "Epoch:\t 23 Val Loss:\t 0.03999391809598831\n",
      "Epoch:\t 24 Val Loss:\t 0.0399874586199026\n",
      "Epoch:\t 25 Val Loss:\t 0.039986366368246436\n",
      "Epoch:\t 26 Val Loss:\t 0.039981821617862894\n",
      "Epoch:\t 27 Val Loss:\t 0.039987355332283245\n",
      "Epoch:\t 28 Val Loss:\t 0.03999482859326046\n",
      "Epoch:\t 29 Val Loss:\t 0.040001647506888637\n",
      "Epoch:\t 30 Val Loss:\t 0.03999444041498442\n"
     ]
    },
    {
     "name": "stderr",
     "output_type": "stream",
     "text": [
      "[I 2025-09-29 20:20:00,195] Trial 24 finished with value: 0.03998175384698396 and parameters: {'lr': 0.001, 'weight_decay': 1e-05, 'scheduler_factor': 0.3, 'scheduler_patience': 1, 'batch_size': 64, 'dropout': 0.1, 'hidden_dims': 512}. Best is trial 5 with value: 0.03996752155809574.\n"
     ]
    },
    {
     "name": "stdout",
     "output_type": "stream",
     "text": [
      "Epoch:\t 31 Val Loss:\t 0.0399948786652268\n",
      "Epoch:\t 0 Val Loss:\t 0.04083598774624853\n",
      "Epoch:\t 1 Val Loss:\t 0.040224487257086806\n",
      "Epoch:\t 2 Val Loss:\t 0.04014405575961964\n",
      "Epoch:\t 3 Val Loss:\t 0.04009798786198062\n",
      "Epoch:\t 4 Val Loss:\t 0.04011705395610472\n",
      "Epoch:\t 5 Val Loss:\t 0.040154161784653045\n",
      "Epoch:\t 6 Val Loss:\t 0.04004981912979537\n",
      "Epoch:\t 7 Val Loss:\t 0.04002887647527633\n",
      "Epoch:\t 8 Val Loss:\t 0.04003474034814383\n",
      "Epoch:\t 9 Val Loss:\t 0.040025607711412295\n",
      "Epoch:\t 10 Val Loss:\t 0.0399903929768021\n",
      "Epoch:\t 11 Val Loss:\t 0.040012195613397396\n",
      "Epoch:\t 12 Val Loss:\t 0.040015727253463196\n",
      "Epoch:\t 13 Val Loss:\t 0.039992245395240295\n",
      "Epoch:\t 14 Val Loss:\t 0.04000582565022152\n",
      "Epoch:\t 15 Val Loss:\t 0.040013031704319954\n",
      "Epoch:\t 16 Val Loss:\t 0.04001740105904193\n",
      "Epoch:\t 17 Val Loss:\t 0.04000935067211343\n",
      "Epoch:\t 18 Val Loss:\t 0.03999438774850364\n",
      "Epoch:\t 19 Val Loss:\t 0.04000220137518018\n"
     ]
    },
    {
     "name": "stderr",
     "output_type": "stream",
     "text": [
      "[I 2025-09-29 20:22:12,500] Trial 25 finished with value: 0.0399903929768021 and parameters: {'lr': 0.001, 'weight_decay': 1e-05, 'scheduler_factor': 0.3, 'scheduler_patience': 1, 'batch_size': 64, 'dropout': 0.1, 'hidden_dims': 512}. Best is trial 5 with value: 0.03996752155809574.\n"
     ]
    },
    {
     "name": "stdout",
     "output_type": "stream",
     "text": [
      "Epoch:\t 20 Val Loss:\t 0.03999473963817122\n",
      "Epoch:\t 0 Val Loss:\t 0.040294104636344565\n",
      "Epoch:\t 1 Val Loss:\t 0.040270605740505845\n"
     ]
    },
    {
     "name": "stderr",
     "output_type": "stream",
     "text": [
      "[I 2025-09-29 20:23:30,505] Trial 26 pruned. \n"
     ]
    },
    {
     "name": "stdout",
     "output_type": "stream",
     "text": [
      "Epoch:\t 2 Val Loss:\t 0.040254881159098026\n",
      "Epoch:\t 0 Val Loss:\t 0.04069878129819349\n",
      "Epoch:\t 1 Val Loss:\t 0.04022246283315256\n",
      "Epoch:\t 2 Val Loss:\t 0.040151240867338275\n",
      "Epoch:\t 3 Val Loss:\t 0.040116464365673704\n",
      "Epoch:\t 4 Val Loss:\t 0.04008531346225282\n",
      "Epoch:\t 5 Val Loss:\t 0.04007790269231769\n",
      "Epoch:\t 6 Val Loss:\t 0.04009368542410991\n",
      "Epoch:\t 7 Val Loss:\t 0.04012265006643496\n",
      "Epoch:\t 8 Val Loss:\t 0.03999548537729095\n",
      "Epoch:\t 9 Val Loss:\t 0.04001527427502725\n",
      "Epoch:\t 10 Val Loss:\t 0.04000113192930584\n",
      "Epoch:\t 11 Val Loss:\t 0.039986966096742585\n",
      "Epoch:\t 12 Val Loss:\t 0.039984095193017585\n",
      "Epoch:\t 13 Val Loss:\t 0.03999144687072455\n",
      "Epoch:\t 14 Val Loss:\t 0.03998563709132075\n",
      "Epoch:\t 15 Val Loss:\t 0.039974122277384776\n",
      "Epoch:\t 16 Val Loss:\t 0.03998135873703021\n",
      "Epoch:\t 17 Val Loss:\t 0.040000637419180196\n",
      "Epoch:\t 18 Val Loss:\t 0.03998486522544074\n",
      "Epoch:\t 19 Val Loss:\t 0.040000247340422346\n",
      "Epoch:\t 20 Val Loss:\t 0.039986726655492376\n",
      "Epoch:\t 21 Val Loss:\t 0.039991397203070024\n",
      "Epoch:\t 22 Val Loss:\t 0.03999104273834688\n",
      "Epoch:\t 23 Val Loss:\t 0.04000136634584644\n",
      "Epoch:\t 24 Val Loss:\t 0.03999306296132985\n"
     ]
    },
    {
     "name": "stderr",
     "output_type": "stream",
     "text": [
      "[I 2025-09-29 20:26:07,570] Trial 27 finished with value: 0.039974122277384776 and parameters: {'lr': 0.001, 'weight_decay': 1e-05, 'scheduler_factor': 0.3, 'scheduler_patience': 1, 'batch_size': 64, 'dropout': 0.1, 'hidden_dims': 512}. Best is trial 5 with value: 0.03996752155809574.\n"
     ]
    },
    {
     "name": "stdout",
     "output_type": "stream",
     "text": [
      "Epoch:\t 25 Val Loss:\t 0.03998505436338039\n"
     ]
    },
    {
     "name": "stderr",
     "output_type": "stream",
     "text": [
      "[I 2025-09-29 20:26:10,886] Trial 28 pruned. \n"
     ]
    },
    {
     "name": "stdout",
     "output_type": "stream",
     "text": [
      "Epoch:\t 0 Val Loss:\t 0.04145186142346194\n"
     ]
    },
    {
     "name": "stderr",
     "output_type": "stream",
     "text": [
      "[I 2025-09-29 20:26:15,014] Trial 29 pruned. \n"
     ]
    },
    {
     "name": "stdout",
     "output_type": "stream",
     "text": [
      "Epoch:\t 0 Val Loss:\t 0.041198396841096545\n",
      "Epoch:\t 0 Val Loss:\t 0.04071000478923909\n",
      "Epoch:\t 1 Val Loss:\t 0.04022528957391781\n",
      "Epoch:\t 2 Val Loss:\t 0.040135803945401484\n",
      "Epoch:\t 3 Val Loss:\t 0.04015802348803381\n",
      "Epoch:\t 4 Val Loss:\t 0.0401267619761387\n",
      "Epoch:\t 5 Val Loss:\t 0.04010719724228683\n",
      "Epoch:\t 6 Val Loss:\t 0.0401319085911686\n",
      "Epoch:\t 7 Val Loss:\t 0.04009051463127274\n",
      "Epoch:\t 8 Val Loss:\t 0.040117381935159756\n",
      "Epoch:\t 9 Val Loss:\t 0.040119643973373635\n",
      "Epoch:\t 10 Val Loss:\t 0.04009669133987941\n"
     ]
    },
    {
     "name": "stderr",
     "output_type": "stream",
     "text": [
      "[I 2025-09-29 20:27:27,715] Trial 30 pruned. \n"
     ]
    },
    {
     "name": "stdout",
     "output_type": "stream",
     "text": [
      "Epoch:\t 11 Val Loss:\t 0.040095493210413675\n",
      "Epoch:\t 0 Val Loss:\t 0.040735131323129996\n",
      "Epoch:\t 1 Val Loss:\t 0.040166563959278756\n",
      "Epoch:\t 2 Val Loss:\t 0.04018189215808848\n",
      "Epoch:\t 3 Val Loss:\t 0.04012103562334631\n",
      "Epoch:\t 4 Val Loss:\t 0.04012377059829837\n",
      "Epoch:\t 5 Val Loss:\t 0.040135745106138467\n",
      "Epoch:\t 6 Val Loss:\t 0.03999893072813109\n",
      "Epoch:\t 7 Val Loss:\t 0.0400041988550821\n",
      "Epoch:\t 8 Val Loss:\t 0.04001671988657582\n",
      "Epoch:\t 9 Val Loss:\t 0.03999998880138386\n",
      "Epoch:\t 10 Val Loss:\t 0.0399871778329029\n",
      "Epoch:\t 11 Val Loss:\t 0.03998254499443035\n",
      "Epoch:\t 12 Val Loss:\t 0.03999876769533077\n",
      "Epoch:\t 13 Val Loss:\t 0.04000425207289719\n",
      "Epoch:\t 14 Val Loss:\t 0.04000892253831522\n",
      "Epoch:\t 15 Val Loss:\t 0.0399969416155382\n",
      "Epoch:\t 16 Val Loss:\t 0.03999825152965804\n",
      "Epoch:\t 17 Val Loss:\t 0.04000320100267129\n",
      "Epoch:\t 18 Val Loss:\t 0.04001121719606173\n",
      "Epoch:\t 19 Val Loss:\t 0.040038838223686625\n",
      "Epoch:\t 20 Val Loss:\t 0.03999944365498498\n"
     ]
    },
    {
     "name": "stderr",
     "output_type": "stream",
     "text": [
      "[I 2025-09-29 20:29:50,897] Trial 31 finished with value: 0.03998254499443035 and parameters: {'lr': 0.001, 'weight_decay': 1e-05, 'scheduler_factor': 0.3, 'scheduler_patience': 1, 'batch_size': 64, 'dropout': 0.1, 'hidden_dims': 512}. Best is trial 5 with value: 0.03996752155809574.\n"
     ]
    },
    {
     "name": "stdout",
     "output_type": "stream",
     "text": [
      "Epoch:\t 21 Val Loss:\t 0.040000274031489515\n",
      "Epoch:\t 0 Val Loss:\t 0.040683121970155806\n",
      "Epoch:\t 1 Val Loss:\t 0.040178129470026636\n",
      "Epoch:\t 2 Val Loss:\t 0.04012664538947082\n",
      "Epoch:\t 3 Val Loss:\t 0.040124308787074396\n",
      "Epoch:\t 4 Val Loss:\t 0.040139550912867986\n",
      "Epoch:\t 5 Val Loss:\t 0.04000911784903711\n",
      "Epoch:\t 6 Val Loss:\t 0.04001092650017902\n",
      "Epoch:\t 7 Val Loss:\t 0.04001449516612779\n",
      "Epoch:\t 8 Val Loss:\t 0.040025035731247945\n",
      "Epoch:\t 9 Val Loss:\t 0.039994733828620996\n",
      "Epoch:\t 10 Val Loss:\t 0.039996390661751195\n",
      "Epoch:\t 11 Val Loss:\t 0.04000103134430569\n",
      "Epoch:\t 12 Val Loss:\t 0.039992012982962094\n",
      "Epoch:\t 13 Val Loss:\t 0.039999394339752005\n",
      "Epoch:\t 14 Val Loss:\t 0.03999741487442859\n",
      "Epoch:\t 15 Val Loss:\t 0.039991729333348144\n",
      "Epoch:\t 16 Val Loss:\t 0.03999448950103529\n",
      "Epoch:\t 17 Val Loss:\t 0.0400015956122759\n",
      "Epoch:\t 18 Val Loss:\t 0.039995379374079834\n",
      "Epoch:\t 19 Val Loss:\t 0.03998908369833829\n",
      "Epoch:\t 20 Val Loss:\t 0.03998674447980649\n",
      "Epoch:\t 21 Val Loss:\t 0.03999532062994901\n",
      "Epoch:\t 22 Val Loss:\t 0.03998804049381529\n",
      "Epoch:\t 23 Val Loss:\t 0.03999246444144501\n",
      "Epoch:\t 24 Val Loss:\t 0.039989866340101564\n",
      "Epoch:\t 25 Val Loss:\t 0.03998370575640206\n",
      "Epoch:\t 26 Val Loss:\t 0.039995905716735405\n",
      "Epoch:\t 27 Val Loss:\t 0.04000062425201948\n",
      "Epoch:\t 28 Val Loss:\t 0.040010351482270695\n",
      "Epoch:\t 29 Val Loss:\t 0.040000081122855566\n",
      "Epoch:\t 30 Val Loss:\t 0.03998403122742648\n",
      "Epoch:\t 31 Val Loss:\t 0.039984757233101895\n",
      "Epoch:\t 32 Val Loss:\t 0.03999065061857101\n",
      "Epoch:\t 33 Val Loss:\t 0.040011819188271715\n",
      "Epoch:\t 34 Val Loss:\t 0.03999959774103472\n"
     ]
    },
    {
     "name": "stderr",
     "output_type": "stream",
     "text": [
      "[I 2025-09-29 20:33:56,778] Trial 32 finished with value: 0.03998370575640206 and parameters: {'lr': 0.001, 'weight_decay': 1e-05, 'scheduler_factor': 0.3, 'scheduler_patience': 1, 'batch_size': 64, 'dropout': 0.1, 'hidden_dims': 512}. Best is trial 5 with value: 0.03996752155809574.\n"
     ]
    },
    {
     "name": "stdout",
     "output_type": "stream",
     "text": [
      "Epoch:\t 35 Val Loss:\t 0.039996691128142824\n"
     ]
    },
    {
     "name": "stderr",
     "output_type": "stream",
     "text": [
      "[I 2025-09-29 20:34:03,363] Trial 33 pruned. \n"
     ]
    },
    {
     "name": "stdout",
     "output_type": "stream",
     "text": [
      "Epoch:\t 0 Val Loss:\t 0.04208250192020497\n"
     ]
    },
    {
     "name": "stderr",
     "output_type": "stream",
     "text": [
      "[I 2025-09-29 20:34:10,183] Trial 34 pruned. \n"
     ]
    },
    {
     "name": "stdout",
     "output_type": "stream",
     "text": [
      "Epoch:\t 0 Val Loss:\t 0.0528812896194357\n"
     ]
    },
    {
     "name": "stderr",
     "output_type": "stream",
     "text": [
      "[I 2025-09-29 20:34:13,798] Trial 35 pruned. \n"
     ]
    },
    {
     "name": "stdout",
     "output_type": "stream",
     "text": [
      "Epoch:\t 0 Val Loss:\t 0.04458766341382681\n"
     ]
    },
    {
     "name": "stderr",
     "output_type": "stream",
     "text": [
      "[I 2025-09-29 20:34:18,131] Trial 36 pruned. \n"
     ]
    },
    {
     "name": "stdout",
     "output_type": "stream",
     "text": [
      "Epoch:\t 0 Val Loss:\t 0.06786716401438542\n",
      "Epoch:\t 0 Val Loss:\t 0.04053571650750818\n",
      "Epoch:\t 1 Val Loss:\t 0.040227803904876694\n",
      "Epoch:\t 2 Val Loss:\t 0.04013504437751986\n",
      "Epoch:\t 3 Val Loss:\t 0.040136950895908054\n",
      "Epoch:\t 4 Val Loss:\t 0.0401066205055127\n",
      "Epoch:\t 5 Val Loss:\t 0.04013502142903975\n",
      "Epoch:\t 6 Val Loss:\t 0.040107367621887165\n",
      "Epoch:\t 7 Val Loss:\t 0.04003396094087522\n",
      "Epoch:\t 8 Val Loss:\t 0.04003091578956129\n",
      "Epoch:\t 9 Val Loss:\t 0.040043091086872915\n",
      "Epoch:\t 10 Val Loss:\t 0.03998134274833506\n",
      "Epoch:\t 11 Val Loss:\t 0.04001057879632805\n",
      "Epoch:\t 12 Val Loss:\t 0.039999875641637116\n",
      "Epoch:\t 13 Val Loss:\t 0.039985853994888965\n",
      "Epoch:\t 14 Val Loss:\t 0.04000899724087187\n",
      "Epoch:\t 15 Val Loss:\t 0.039998165056654274\n",
      "Epoch:\t 16 Val Loss:\t 0.040000098776364144\n",
      "Epoch:\t 17 Val Loss:\t 0.03999795940679239\n",
      "Epoch:\t 18 Val Loss:\t 0.040011558370384726\n",
      "Epoch:\t 19 Val Loss:\t 0.03999248782666838\n"
     ]
    },
    {
     "name": "stderr",
     "output_type": "stream",
     "text": [
      "[I 2025-09-29 20:36:29,846] Trial 37 finished with value: 0.03998134274833506 and parameters: {'lr': 0.001, 'weight_decay': 1e-05, 'scheduler_factor': 0.3, 'scheduler_patience': 1, 'batch_size': 64, 'dropout': 0.2, 'hidden_dims': 256}. Best is trial 5 with value: 0.03996752155809574.\n"
     ]
    },
    {
     "name": "stdout",
     "output_type": "stream",
     "text": [
      "Epoch:\t 20 Val Loss:\t 0.040012076043037914\n"
     ]
    },
    {
     "name": "stderr",
     "output_type": "stream",
     "text": [
      "[I 2025-09-29 20:36:35,856] Trial 38 pruned. \n"
     ]
    },
    {
     "name": "stdout",
     "output_type": "stream",
     "text": [
      "Epoch:\t 0 Val Loss:\t 0.0581638724005333\n",
      "Epoch:\t 0 Val Loss:\t 0.04024890986247288\n"
     ]
    },
    {
     "name": "stderr",
     "output_type": "stream",
     "text": [
      "[I 2025-09-29 20:37:17,729] Trial 39 pruned. \n"
     ]
    },
    {
     "name": "stdout",
     "output_type": "stream",
     "text": [
      "Epoch:\t 1 Val Loss:\t 0.04027215557557422\n",
      "Epoch:\t 0 Val Loss:\t 0.04038061365459246\n",
      "Epoch:\t 1 Val Loss:\t 0.04018491542251112\n",
      "Epoch:\t 2 Val Loss:\t 0.04016057176605187\n",
      "Epoch:\t 3 Val Loss:\t 0.04011512776048669\n",
      "Epoch:\t 4 Val Loss:\t 0.04014423039422364\n",
      "Epoch:\t 5 Val Loss:\t 0.04013832589774649\n",
      "Epoch:\t 6 Val Loss:\t 0.03999681988956966\n",
      "Epoch:\t 7 Val Loss:\t 0.039994998040997695\n",
      "Epoch:\t 8 Val Loss:\t 0.03999695316761369\n",
      "Epoch:\t 9 Val Loss:\t 0.03997845209386898\n",
      "Epoch:\t 10 Val Loss:\t 0.039985840282880214\n",
      "Epoch:\t 11 Val Loss:\t 0.04000320686627389\n",
      "Epoch:\t 12 Val Loss:\t 0.039994324124523604\n",
      "Epoch:\t 13 Val Loss:\t 0.04001745370822595\n",
      "Epoch:\t 14 Val Loss:\t 0.039993214119902476\n",
      "Epoch:\t 15 Val Loss:\t 0.04000954721955387\n",
      "Epoch:\t 16 Val Loss:\t 0.039984054541300704\n",
      "Epoch:\t 17 Val Loss:\t 0.039998758819929335\n",
      "Epoch:\t 18 Val Loss:\t 0.04000884883464663\n"
     ]
    },
    {
     "name": "stderr",
     "output_type": "stream",
     "text": [
      "[I 2025-09-29 20:39:16,468] Trial 40 finished with value: 0.03997845209386898 and parameters: {'lr': 0.001, 'weight_decay': 1e-05, 'scheduler_factor': 0.1, 'scheduler_patience': 1, 'batch_size': 64, 'dropout': 0.2, 'hidden_dims': 256}. Best is trial 5 with value: 0.03996752155809574.\n"
     ]
    },
    {
     "name": "stdout",
     "output_type": "stream",
     "text": [
      "Epoch:\t 19 Val Loss:\t 0.03999865016382722\n",
      "Epoch:\t 0 Val Loss:\t 0.04041022968868219\n",
      "Epoch:\t 1 Val Loss:\t 0.040207598823243214\n",
      "Epoch:\t 2 Val Loss:\t 0.040125060993021336\n",
      "Epoch:\t 3 Val Loss:\t 0.0401121013091355\n",
      "Epoch:\t 4 Val Loss:\t 0.04016732134344408\n",
      "Epoch:\t 5 Val Loss:\t 0.040118928715474234\n",
      "Epoch:\t 6 Val Loss:\t 0.03999309603274041\n",
      "Epoch:\t 7 Val Loss:\t 0.039997731115467935\n",
      "Epoch:\t 8 Val Loss:\t 0.039992645229372396\n",
      "Epoch:\t 9 Val Loss:\t 0.039991949142772515\n",
      "Epoch:\t 10 Val Loss:\t 0.039983557133967285\n",
      "Epoch:\t 11 Val Loss:\t 0.04000553424300943\n",
      "Epoch:\t 12 Val Loss:\t 0.03999200369676254\n",
      "Epoch:\t 13 Val Loss:\t 0.039992743066349354\n",
      "Epoch:\t 14 Val Loss:\t 0.039999872069855585\n",
      "Epoch:\t 15 Val Loss:\t 0.03998975434356212\n",
      "Epoch:\t 16 Val Loss:\t 0.040001230529502455\n",
      "Epoch:\t 17 Val Loss:\t 0.039992901684150955\n",
      "Epoch:\t 18 Val Loss:\t 0.0399956164586461\n",
      "Epoch:\t 19 Val Loss:\t 0.04000814975354468\n"
     ]
    },
    {
     "name": "stderr",
     "output_type": "stream",
     "text": [
      "[I 2025-09-29 20:41:28,694] Trial 41 finished with value: 0.039983557133967285 and parameters: {'lr': 0.001, 'weight_decay': 1e-05, 'scheduler_factor': 0.1, 'scheduler_patience': 1, 'batch_size': 64, 'dropout': 0.2, 'hidden_dims': 256}. Best is trial 5 with value: 0.03996752155809574.\n"
     ]
    },
    {
     "name": "stdout",
     "output_type": "stream",
     "text": [
      "Epoch:\t 20 Val Loss:\t 0.03998985670148046\n",
      "Epoch:\t 0 Val Loss:\t 0.040375037859310195\n",
      "Epoch:\t 1 Val Loss:\t 0.04021907352382405\n",
      "Epoch:\t 2 Val Loss:\t 0.04012598960649047\n",
      "Epoch:\t 3 Val Loss:\t 0.04011831649439112\n",
      "Epoch:\t 4 Val Loss:\t 0.04013830425949617\n",
      "Epoch:\t 5 Val Loss:\t 0.04014425754797922\n",
      "Epoch:\t 6 Val Loss:\t 0.03999021353369803\n",
      "Epoch:\t 7 Val Loss:\t 0.04001241234183588\n",
      "Epoch:\t 8 Val Loss:\t 0.040009011013419284\n",
      "Epoch:\t 9 Val Loss:\t 0.03998517265377941\n",
      "Epoch:\t 10 Val Loss:\t 0.039982315868537094\n",
      "Epoch:\t 11 Val Loss:\t 0.039989466510293656\n",
      "Epoch:\t 12 Val Loss:\t 0.03999019338945559\n",
      "Epoch:\t 13 Val Loss:\t 0.03998861520470607\n",
      "Epoch:\t 14 Val Loss:\t 0.03998987009782329\n",
      "Epoch:\t 15 Val Loss:\t 0.039986972442492455\n",
      "Epoch:\t 16 Val Loss:\t 0.03998313218925972\n",
      "Epoch:\t 17 Val Loss:\t 0.040006525038341\n",
      "Epoch:\t 18 Val Loss:\t 0.0399931386887197\n",
      "Epoch:\t 19 Val Loss:\t 0.039988530653805074\n"
     ]
    },
    {
     "name": "stderr",
     "output_type": "stream",
     "text": [
      "[I 2025-09-29 20:43:46,428] Trial 42 finished with value: 0.039982315868537094 and parameters: {'lr': 0.001, 'weight_decay': 1e-05, 'scheduler_factor': 0.1, 'scheduler_patience': 1, 'batch_size': 64, 'dropout': 0.2, 'hidden_dims': 256}. Best is trial 5 with value: 0.03996752155809574.\n"
     ]
    },
    {
     "name": "stdout",
     "output_type": "stream",
     "text": [
      "Epoch:\t 20 Val Loss:\t 0.04001403863104498\n",
      "Epoch:\t 0 Val Loss:\t 0.04050809229944102\n",
      "Epoch:\t 1 Val Loss:\t 0.040170289792263156\n",
      "Epoch:\t 2 Val Loss:\t 0.04015500309054961\n",
      "Epoch:\t 3 Val Loss:\t 0.04012969325637651\n",
      "Epoch:\t 4 Val Loss:\t 0.04010663010089188\n",
      "Epoch:\t 5 Val Loss:\t 0.04015062959541502\n"
     ]
    },
    {
     "name": "stderr",
     "output_type": "stream",
     "text": [
      "[I 2025-09-29 20:44:31,532] Trial 43 pruned. \n"
     ]
    },
    {
     "name": "stdout",
     "output_type": "stream",
     "text": [
      "Epoch:\t 6 Val Loss:\t 0.04011285190864559\n"
     ]
    },
    {
     "name": "stderr",
     "output_type": "stream",
     "text": [
      "[I 2025-09-29 20:44:42,472] Trial 44 pruned. \n"
     ]
    },
    {
     "name": "stdout",
     "output_type": "stream",
     "text": [
      "Epoch:\t 0 Val Loss:\t 0.04645494897798508\n"
     ]
    },
    {
     "name": "stderr",
     "output_type": "stream",
     "text": [
      "[I 2025-09-29 20:44:48,973] Trial 45 pruned. \n"
     ]
    },
    {
     "name": "stdout",
     "output_type": "stream",
     "text": [
      "Epoch:\t 0 Val Loss:\t 0.04114065906957216\n"
     ]
    },
    {
     "name": "stderr",
     "output_type": "stream",
     "text": [
      "[I 2025-09-29 20:44:55,531] Trial 46 pruned. \n"
     ]
    },
    {
     "name": "stdout",
     "output_type": "stream",
     "text": [
      "Epoch:\t 0 Val Loss:\t 0.07578631935860622\n",
      "Epoch:\t 0 Val Loss:\t 0.040244570691668216\n",
      "Epoch:\t 1 Val Loss:\t 0.04017517555913673\n",
      "Epoch:\t 2 Val Loss:\t 0.04013641036666381\n",
      "Epoch:\t 3 Val Loss:\t 0.04015204543815369\n",
      "Epoch:\t 4 Val Loss:\t 0.04024572923316799\n",
      "Epoch:\t 5 Val Loss:\t 0.04013741816038907\n"
     ]
    },
    {
     "name": "stderr",
     "output_type": "stream",
     "text": [
      "[I 2025-09-29 20:46:08,308] Trial 47 pruned. \n"
     ]
    },
    {
     "name": "stdout",
     "output_type": "stream",
     "text": [
      "Epoch:\t 6 Val Loss:\t 0.0401526798434162\n"
     ]
    },
    {
     "name": "stderr",
     "output_type": "stream",
     "text": [
      "[I 2025-09-29 20:46:14,818] Trial 48 pruned. \n"
     ]
    },
    {
     "name": "stdout",
     "output_type": "stream",
     "text": [
      "Epoch:\t 0 Val Loss:\t 0.04161914872590429\n"
     ]
    },
    {
     "name": "stderr",
     "output_type": "stream",
     "text": [
      "[I 2025-09-29 20:46:18,165] Trial 49 pruned. \n"
     ]
    },
    {
     "name": "stdout",
     "output_type": "stream",
     "text": [
      "Epoch:\t 0 Val Loss:\t 0.043184610395583994\n",
      "Training model with best parameters on train+validation ...\n"
     ]
    },
    {
     "name": "stderr",
     "output_type": "stream",
     "text": [
      "100%|███████████████████████████████████████████████████████████████████████████████████████████████████████████████████████████████████████████████████| 557340/557340 [05:38<00:00, 1646.98it/s]\n",
      "100%|███████████████████████████████████████████████████████████████████████████████████████████████████████████████████████████████████████████████████| 557340/557340 [01:39<00:00, 5617.04it/s]\n"
     ]
    },
    {
     "name": "stdout",
     "output_type": "stream",
     "text": [
      "Getting test set predictions and saving results ...\n"
     ]
    },
    {
     "name": "stderr",
     "output_type": "stream",
     "text": [
      "100%|████████████████████████████████████████████████████████████████████████████████████████████████████████████████████████████████████████████████████████| 1640/1640 [00:01<00:00, 863.11it/s]\n"
     ]
    }
   ],
   "source": [
    "train_different_fs(\n",
    "        adata_path=\"./data/feature_selection/sciplex_seurat_v3.h5ad\",\n",
    "        run_name=\"decoder_seuratv3_fs\",\n",
    "        res_savename=\"./results/feature_selection/decoder_seuratv3_fs_res.pkl\",\n",
    "    )"
   ]
  },
  {
   "cell_type": "code",
   "execution_count": 6,
   "id": "fa2fe9b1-bfdd-481a-817d-c6a7dec89617",
   "metadata": {},
   "outputs": [
    {
     "name": "stdout",
     "output_type": "stream",
     "text": [
      "Loading Datasets ...\n"
     ]
    },
    {
     "name": "stderr",
     "output_type": "stream",
     "text": [
      "100%|███████████████████████████████████████████████████████████████████████████████████████████████████████████████████████████████████████████████████| 557340/557340 [04:23<00:00, 2117.57it/s]\n",
      "100%|███████████████████████████████████████████████████████████████████████████████████████████████████████████████████████████████████████████████████| 557340/557340 [01:43<00:00, 5389.71it/s]\n",
      "[I 2025-09-29 21:03:06,540] A new study created in RDB with name: decoder_cellranger_fs\n"
     ]
    },
    {
     "name": "stdout",
     "output_type": "stream",
     "text": [
      "Optimizing Hyperparameters with Optuna ...\n",
      "Epoch:\t 0 Val Loss:\t 0.04313143970379675\n",
      "Epoch:\t 1 Val Loss:\t 0.04107596099551783\n",
      "Epoch:\t 2 Val Loss:\t 0.039538688500474366\n",
      "Epoch:\t 3 Val Loss:\t 0.03817139105160904\n",
      "Epoch:\t 4 Val Loss:\t 0.03760532732368225\n",
      "Epoch:\t 5 Val Loss:\t 0.03715072325004534\n",
      "Epoch:\t 6 Val Loss:\t 0.03692624893460472\n",
      "Epoch:\t 7 Val Loss:\t 0.0367536879700322\n",
      "Epoch:\t 8 Val Loss:\t 0.036562568603071874\n",
      "Epoch:\t 9 Val Loss:\t 0.03658827232329606\n",
      "Epoch:\t 10 Val Loss:\t 0.03623751811583196\n",
      "Epoch:\t 11 Val Loss:\t 0.036218192986900793\n",
      "Epoch:\t 12 Val Loss:\t 0.03614430351894315\n",
      "Epoch:\t 13 Val Loss:\t 0.03608736023847292\n",
      "Epoch:\t 14 Val Loss:\t 0.03599693139980688\n",
      "Epoch:\t 15 Val Loss:\t 0.0358329767386414\n",
      "Epoch:\t 16 Val Loss:\t 0.035825669991919044\n",
      "Epoch:\t 17 Val Loss:\t 0.03555319336794634\n",
      "Epoch:\t 18 Val Loss:\t 0.03547015878222326\n",
      "Epoch:\t 19 Val Loss:\t 0.03545025266068137\n",
      "Epoch:\t 20 Val Loss:\t 0.0353447724553656\n",
      "Epoch:\t 21 Val Loss:\t 0.03524073883599265\n",
      "Epoch:\t 22 Val Loss:\t 0.03521015199316628\n",
      "Epoch:\t 23 Val Loss:\t 0.03506726363070399\n",
      "Epoch:\t 24 Val Loss:\t 0.035176051387947875\n",
      "Epoch:\t 25 Val Loss:\t 0.035159723269248516\n",
      "Epoch:\t 26 Val Loss:\t 0.03506303339441067\n",
      "Epoch:\t 27 Val Loss:\t 0.03502560841914304\n",
      "Epoch:\t 28 Val Loss:\t 0.035114392633747805\n",
      "Epoch:\t 29 Val Loss:\t 0.03486632789817125\n",
      "Epoch:\t 30 Val Loss:\t 0.03490133856930002\n",
      "Epoch:\t 31 Val Loss:\t 0.0347917890104568\n",
      "Epoch:\t 32 Val Loss:\t 0.03489193132415524\n",
      "Epoch:\t 33 Val Loss:\t 0.03477349028101546\n",
      "Epoch:\t 34 Val Loss:\t 0.03470897550987701\n",
      "Epoch:\t 35 Val Loss:\t 0.03473691967092092\n",
      "Epoch:\t 36 Val Loss:\t 0.03478434118383464\n",
      "Epoch:\t 37 Val Loss:\t 0.034468428449440154\n",
      "Epoch:\t 38 Val Loss:\t 0.03461438546790304\n",
      "Epoch:\t 39 Val Loss:\t 0.034655937765955054\n",
      "Epoch:\t 40 Val Loss:\t 0.03450196824349592\n",
      "Epoch:\t 41 Val Loss:\t 0.03450802373800502\n",
      "Epoch:\t 42 Val Loss:\t 0.03457767824509546\n",
      "Epoch:\t 43 Val Loss:\t 0.034527953491468796\n",
      "Epoch:\t 44 Val Loss:\t 0.034483560669967786\n",
      "Epoch:\t 45 Val Loss:\t 0.03461802745475472\n",
      "Epoch:\t 46 Val Loss:\t 0.034517422192399665\n",
      "Epoch:\t 47 Val Loss:\t 0.03442647414795117\n",
      "Epoch:\t 48 Val Loss:\t 0.03450506693394021\n",
      "Epoch:\t 49 Val Loss:\t 0.03443382561031713\n",
      "Epoch:\t 50 Val Loss:\t 0.034401617837232376\n",
      "Epoch:\t 51 Val Loss:\t 0.03450153503298379\n",
      "Epoch:\t 52 Val Loss:\t 0.03437597834692\n",
      "Epoch:\t 53 Val Loss:\t 0.03440455875666043\n",
      "Epoch:\t 54 Val Loss:\t 0.0344494834532006\n",
      "Epoch:\t 55 Val Loss:\t 0.03461170633861639\n",
      "Epoch:\t 56 Val Loss:\t 0.034489397091952353\n",
      "Epoch:\t 57 Val Loss:\t 0.03438588031485891\n",
      "Epoch:\t 58 Val Loss:\t 0.03440032085009545\n",
      "Epoch:\t 59 Val Loss:\t 0.03454270713403118\n",
      "Epoch:\t 60 Val Loss:\t 0.034446084680030034\n",
      "Epoch:\t 61 Val Loss:\t 0.03435076163138886\n",
      "Epoch:\t 62 Val Loss:\t 0.034487875818073464\n",
      "Epoch:\t 63 Val Loss:\t 0.034377433879531454\n",
      "Epoch:\t 64 Val Loss:\t 0.03451797666359705\n",
      "Epoch:\t 65 Val Loss:\t 0.03455886098583378\n",
      "Epoch:\t 66 Val Loss:\t 0.03434113811079483\n",
      "Epoch:\t 67 Val Loss:\t 0.03439404746717774\n",
      "Epoch:\t 68 Val Loss:\t 0.03452174459963315\n",
      "Epoch:\t 69 Val Loss:\t 0.034528426848428696\n",
      "Epoch:\t 70 Val Loss:\t 0.03443008424257801\n",
      "Epoch:\t 71 Val Loss:\t 0.03432833034873234\n",
      "Epoch:\t 72 Val Loss:\t 0.03435093143123398\n",
      "Epoch:\t 73 Val Loss:\t 0.03437508402337413\n",
      "Epoch:\t 74 Val Loss:\t 0.034575866199419145\n",
      "Epoch:\t 75 Val Loss:\t 0.034347586244848405\n",
      "Epoch:\t 76 Val Loss:\t 0.034458794158579525\n",
      "Epoch:\t 77 Val Loss:\t 0.034457216217917176\n",
      "Epoch:\t 78 Val Loss:\t 0.03433428506233013\n",
      "Epoch:\t 79 Val Loss:\t 0.034462485816959335\n",
      "Epoch:\t 80 Val Loss:\t 0.03469105514357385\n"
     ]
    },
    {
     "name": "stderr",
     "output_type": "stream",
     "text": [
      "[I 2025-09-29 21:27:17,431] Trial 0 finished with value: 0.03432833034873234 and parameters: {'lr': 1e-06, 'weight_decay': 1e-06, 'scheduler_factor': 0.8, 'scheduler_patience': 1, 'batch_size': 16, 'dropout': 0.2, 'hidden_dims': 256}. Best is trial 0 with value: 0.03432833034873234.\n"
     ]
    },
    {
     "name": "stdout",
     "output_type": "stream",
     "text": [
      "Epoch:\t 81 Val Loss:\t 0.03434271112772916\n",
      "Epoch:\t 0 Val Loss:\t 0.031201766816292713\n",
      "Epoch:\t 1 Val Loss:\t 0.030729970144506843\n",
      "Epoch:\t 2 Val Loss:\t 0.03032360183430735\n",
      "Epoch:\t 3 Val Loss:\t 0.030119049990386445\n",
      "Epoch:\t 4 Val Loss:\t 0.030065737748480748\n",
      "Epoch:\t 5 Val Loss:\t 0.03002450604627403\n",
      "Epoch:\t 6 Val Loss:\t 0.030032313957992017\n",
      "Epoch:\t 7 Val Loss:\t 0.030030449967478952\n",
      "Epoch:\t 8 Val Loss:\t 0.03000892785626982\n",
      "Epoch:\t 9 Val Loss:\t 0.030004970011535386\n",
      "Epoch:\t 10 Val Loss:\t 0.03001453456411044\n",
      "Epoch:\t 11 Val Loss:\t 0.03000181617222843\n",
      "Epoch:\t 12 Val Loss:\t 0.03001476225869658\n",
      "Epoch:\t 13 Val Loss:\t 0.030016109020867047\n",
      "Epoch:\t 14 Val Loss:\t 0.029999131418967828\n",
      "Epoch:\t 15 Val Loss:\t 0.030020948618356393\n",
      "Epoch:\t 16 Val Loss:\t 0.030024712006937123\n",
      "Epoch:\t 17 Val Loss:\t 0.030021537193143117\n",
      "Epoch:\t 18 Val Loss:\t 0.030029484943242975\n",
      "Epoch:\t 19 Val Loss:\t 0.03001409222264312\n",
      "Epoch:\t 20 Val Loss:\t 0.030019696227864545\n",
      "Epoch:\t 21 Val Loss:\t 0.03002343064328646\n",
      "Epoch:\t 22 Val Loss:\t 0.03000560356817547\n",
      "Epoch:\t 23 Val Loss:\t 0.02999961070037483\n"
     ]
    },
    {
     "name": "stderr",
     "output_type": "stream",
     "text": [
      "[I 2025-09-29 21:31:57,169] Trial 1 finished with value: 0.029999131418967828 and parameters: {'lr': 0.0001, 'weight_decay': 1e-05, 'scheduler_factor': 0.5, 'scheduler_patience': 10, 'batch_size': 32, 'dropout': 0.1, 'hidden_dims': 512}. Best is trial 1 with value: 0.029999131418967828.\n"
     ]
    },
    {
     "name": "stdout",
     "output_type": "stream",
     "text": [
      "Epoch:\t 24 Val Loss:\t 0.03001058391861302\n",
      "Epoch:\t 0 Val Loss:\t 0.03626382070052145\n",
      "Epoch:\t 1 Val Loss:\t 0.03637827778024034\n",
      "Epoch:\t 2 Val Loss:\t 0.033056361971772426\n",
      "Epoch:\t 3 Val Loss:\t 0.03226617551436406\n",
      "Epoch:\t 4 Val Loss:\t 0.032099947570456304\n",
      "Epoch:\t 5 Val Loss:\t 0.03191183460221055\n",
      "Epoch:\t 6 Val Loss:\t 0.03188816124477961\n",
      "Epoch:\t 7 Val Loss:\t 0.031846531699377116\n",
      "Epoch:\t 8 Val Loss:\t 0.03170326405326298\n",
      "Epoch:\t 9 Val Loss:\t 0.031759046127698934\n",
      "Epoch:\t 10 Val Loss:\t 0.03174226161770238\n",
      "Epoch:\t 11 Val Loss:\t 0.03179382679741584\n",
      "Epoch:\t 12 Val Loss:\t 0.03174764409728308\n",
      "Epoch:\t 13 Val Loss:\t 0.031736228916073646\n",
      "Epoch:\t 14 Val Loss:\t 0.0318316130732841\n",
      "Epoch:\t 15 Val Loss:\t 0.031809317126538325\n",
      "Epoch:\t 16 Val Loss:\t 0.03163112456636442\n",
      "Epoch:\t 17 Val Loss:\t 0.03174602203614265\n",
      "Epoch:\t 18 Val Loss:\t 0.03184434278678577\n",
      "Epoch:\t 19 Val Loss:\t 0.03176516266673453\n",
      "Epoch:\t 20 Val Loss:\t 0.031785139021455994\n",
      "Epoch:\t 21 Val Loss:\t 0.031708478578754785\n",
      "Epoch:\t 22 Val Loss:\t 0.03173337913628078\n",
      "Epoch:\t 23 Val Loss:\t 0.03177469295941225\n",
      "Epoch:\t 24 Val Loss:\t 0.03173724215058319\n",
      "Epoch:\t 25 Val Loss:\t 0.03174909013534935\n"
     ]
    },
    {
     "name": "stderr",
     "output_type": "stream",
     "text": [
      "[I 2025-09-29 21:44:17,505] Trial 2 finished with value: 0.03163112456636442 and parameters: {'lr': 1e-05, 'weight_decay': 0.001, 'scheduler_factor': 0.1, 'scheduler_patience': 10, 'batch_size': 16, 'dropout': 0.15, 'hidden_dims': 64}. Best is trial 1 with value: 0.029999131418967828.\n"
     ]
    },
    {
     "name": "stdout",
     "output_type": "stream",
     "text": [
      "Epoch:\t 26 Val Loss:\t 0.031841447623628984\n",
      "Epoch:\t 0 Val Loss:\t 0.09789422152693882\n",
      "Epoch:\t 1 Val Loss:\t 0.08411260834613511\n",
      "Epoch:\t 2 Val Loss:\t 0.07370729125862897\n",
      "Epoch:\t 3 Val Loss:\t 0.06607837629352892\n",
      "Epoch:\t 4 Val Loss:\t 0.06061282294780709\n",
      "Epoch:\t 5 Val Loss:\t 0.05608108906551849\n",
      "Epoch:\t 6 Val Loss:\t 0.05322996578071006\n",
      "Epoch:\t 7 Val Loss:\t 0.050899600445531136\n",
      "Epoch:\t 8 Val Loss:\t 0.04939389432412247\n",
      "Epoch:\t 9 Val Loss:\t 0.04837792754866356\n",
      "Epoch:\t 10 Val Loss:\t 0.04733601462009341\n",
      "Epoch:\t 11 Val Loss:\t 0.04666927543490432\n",
      "Epoch:\t 12 Val Loss:\t 0.04608801178807436\n",
      "Epoch:\t 13 Val Loss:\t 0.045828871238370275\n",
      "Epoch:\t 14 Val Loss:\t 0.04560532549092936\n",
      "Epoch:\t 15 Val Loss:\t 0.0453387733202341\n",
      "Epoch:\t 16 Val Loss:\t 0.04524355268235816\n",
      "Epoch:\t 17 Val Loss:\t 0.04545330179118833\n",
      "Epoch:\t 18 Val Loss:\t 0.045453212782740594\n",
      "Epoch:\t 19 Val Loss:\t 0.046033675804041156\n",
      "Epoch:\t 20 Val Loss:\t 0.0466110126743483\n",
      "Epoch:\t 21 Val Loss:\t 0.04713521189987659\n",
      "Epoch:\t 22 Val Loss:\t 0.048344804684436596\n",
      "Epoch:\t 23 Val Loss:\t 0.04918288752263369\n",
      "Epoch:\t 24 Val Loss:\t 0.0506642441330261\n",
      "Epoch:\t 25 Val Loss:\t 0.05180942009008208\n"
     ]
    },
    {
     "name": "stderr",
     "output_type": "stream",
     "text": [
      "[I 2025-09-29 21:45:40,223] Trial 3 finished with value: 0.04524355268235816 and parameters: {'lr': 1e-06, 'weight_decay': 1e-05, 'scheduler_factor': 0.3, 'scheduler_patience': 10, 'batch_size': 256, 'dropout': 0.1, 'hidden_dims': 128}. Best is trial 1 with value: 0.029999131418967828.\n"
     ]
    },
    {
     "name": "stdout",
     "output_type": "stream",
     "text": [
      "Epoch:\t 26 Val Loss:\t 0.05251072440729585\n",
      "Epoch:\t 0 Val Loss:\t 0.03173955319001492\n",
      "Epoch:\t 1 Val Loss:\t 0.030994495844228344\n",
      "Epoch:\t 2 Val Loss:\t 0.03064220576924591\n",
      "Epoch:\t 3 Val Loss:\t 0.030405341334961155\n",
      "Epoch:\t 4 Val Loss:\t 0.030214133340341842\n",
      "Epoch:\t 5 Val Loss:\t 0.030175114307946307\n",
      "Epoch:\t 6 Val Loss:\t 0.030164875652593463\n",
      "Epoch:\t 7 Val Loss:\t 0.03017028148797677\n",
      "Epoch:\t 8 Val Loss:\t 0.030157278236715636\n",
      "Epoch:\t 9 Val Loss:\t 0.030153294404347736\n",
      "Epoch:\t 10 Val Loss:\t 0.030139880676718123\n",
      "Epoch:\t 11 Val Loss:\t 0.030153170507076724\n",
      "Epoch:\t 12 Val Loss:\t 0.0301379609493913\n",
      "Epoch:\t 13 Val Loss:\t 0.030123862787285054\n",
      "Epoch:\t 14 Val Loss:\t 0.03014109019973206\n",
      "Epoch:\t 15 Val Loss:\t 0.030133093470376543\n",
      "Epoch:\t 16 Val Loss:\t 0.030130949931416084\n",
      "Epoch:\t 17 Val Loss:\t 0.030137182904556654\n",
      "Epoch:\t 18 Val Loss:\t 0.030133401594285902\n",
      "Epoch:\t 19 Val Loss:\t 0.03013456312984955\n",
      "Epoch:\t 20 Val Loss:\t 0.03013875513066052\n",
      "Epoch:\t 21 Val Loss:\t 0.03014340774133438\n",
      "Epoch:\t 22 Val Loss:\t 0.03015294901671864\n"
     ]
    },
    {
     "name": "stderr",
     "output_type": "stream",
     "text": [
      "[I 2025-09-29 21:47:20,728] Trial 4 finished with value: 0.030123862787285054 and parameters: {'lr': 0.001, 'weight_decay': 1e-06, 'scheduler_factor': 0.5, 'scheduler_patience': 1, 'batch_size': 128, 'dropout': 0.15, 'hidden_dims': 1024}. Best is trial 1 with value: 0.029999131418967828.\n"
     ]
    },
    {
     "name": "stdout",
     "output_type": "stream",
     "text": [
      "Epoch:\t 23 Val Loss:\t 0.030163166642137106\n",
      "Epoch:\t 0 Val Loss:\t 0.035844766448230245\n",
      "Epoch:\t 1 Val Loss:\t 0.030744230595612248\n",
      "Epoch:\t 2 Val Loss:\t 0.030447473212383513\n",
      "Epoch:\t 3 Val Loss:\t 0.030560809958639534\n",
      "Epoch:\t 4 Val Loss:\t 0.030588993971604247\n",
      "Epoch:\t 5 Val Loss:\t 0.03097733225413533\n",
      "Epoch:\t 6 Val Loss:\t 0.0313246589673813\n",
      "Epoch:\t 7 Val Loss:\t 0.03144790109160334\n",
      "Epoch:\t 8 Val Loss:\t 0.03152309120307828\n",
      "Epoch:\t 9 Val Loss:\t 0.03148034798891045\n",
      "Epoch:\t 10 Val Loss:\t 0.031565589574707106\n",
      "Epoch:\t 11 Val Loss:\t 0.031600886938530345\n"
     ]
    },
    {
     "name": "stderr",
     "output_type": "stream",
     "text": [
      "[I 2025-09-29 21:48:02,549] Trial 5 finished with value: 0.030447473212383513 and parameters: {'lr': 0.0001, 'weight_decay': 0.001, 'scheduler_factor': 0.8, 'scheduler_patience': 1, 'batch_size': 256, 'dropout': 0.1, 'hidden_dims': 64}. Best is trial 1 with value: 0.029999131418967828.\n"
     ]
    },
    {
     "name": "stdout",
     "output_type": "stream",
     "text": [
      "Epoch:\t 12 Val Loss:\t 0.03167871091688095\n",
      "Epoch:\t 0 Val Loss:\t 0.03075130604380785\n",
      "Epoch:\t 1 Val Loss:\t 0.03036067412169867\n",
      "Epoch:\t 2 Val Loss:\t 0.03019120172532492\n",
      "Epoch:\t 3 Val Loss:\t 0.030150121744982033\n",
      "Epoch:\t 4 Val Loss:\t 0.03008229989385189\n",
      "Epoch:\t 5 Val Loss:\t 0.030090354508612045\n",
      "Epoch:\t 6 Val Loss:\t 0.030077290296727836\n",
      "Epoch:\t 7 Val Loss:\t 0.030042974330311598\n",
      "Epoch:\t 8 Val Loss:\t 0.030048103998740052\n",
      "Epoch:\t 9 Val Loss:\t 0.030061007975492368\n",
      "Epoch:\t 10 Val Loss:\t 0.03003534158735081\n",
      "Epoch:\t 11 Val Loss:\t 0.03004730656136607\n",
      "Epoch:\t 12 Val Loss:\t 0.030041355955912622\n",
      "Epoch:\t 13 Val Loss:\t 0.030058463831800362\n",
      "Epoch:\t 14 Val Loss:\t 0.030076473136973935\n",
      "Epoch:\t 15 Val Loss:\t 0.03008206432122131\n",
      "Epoch:\t 16 Val Loss:\t 0.030054447639646917\n",
      "Epoch:\t 17 Val Loss:\t 0.030046312593270178\n",
      "Epoch:\t 18 Val Loss:\t 0.03005571374019911\n",
      "Epoch:\t 19 Val Loss:\t 0.03006735492151144\n"
     ]
    },
    {
     "name": "stderr",
     "output_type": "stream",
     "text": [
      "[I 2025-09-29 21:49:09,077] Trial 6 finished with value: 0.03003534158735081 and parameters: {'lr': 0.001, 'weight_decay': 1e-05, 'scheduler_factor': 0.1, 'scheduler_patience': 20, 'batch_size': 256, 'dropout': 0.15, 'hidden_dims': 512}. Best is trial 1 with value: 0.029999131418967828.\n"
     ]
    },
    {
     "name": "stdout",
     "output_type": "stream",
     "text": [
      "Epoch:\t 20 Val Loss:\t 0.03004106160599825\n"
     ]
    },
    {
     "name": "stderr",
     "output_type": "stream",
     "text": [
      "[I 2025-09-29 21:49:12,365] Trial 7 pruned. \n"
     ]
    },
    {
     "name": "stdout",
     "output_type": "stream",
     "text": [
      "Epoch:\t 0 Val Loss:\t 0.05655078700808592\n",
      "Epoch:\t 0 Val Loss:\t 0.031047254526050942\n",
      "Epoch:\t 1 Val Loss:\t 0.03054094684940874\n",
      "Epoch:\t 2 Val Loss:\t 0.030417583138615967\n",
      "Epoch:\t 3 Val Loss:\t 0.030225636411575076\n",
      "Epoch:\t 4 Val Loss:\t 0.03010341835951348\n",
      "Epoch:\t 5 Val Loss:\t 0.030067037273972846\n",
      "Epoch:\t 6 Val Loss:\t 0.03004162252797344\n",
      "Epoch:\t 7 Val Loss:\t 0.03000961419770388\n",
      "Epoch:\t 8 Val Loss:\t 0.030073254214519684\n",
      "Epoch:\t 9 Val Loss:\t 0.030042594376600992\n",
      "Epoch:\t 10 Val Loss:\t 0.03001714979150223\n",
      "Epoch:\t 11 Val Loss:\t 0.030012267067353486\n",
      "Epoch:\t 12 Val Loss:\t 0.029999569835061256\n",
      "Epoch:\t 13 Val Loss:\t 0.030005464998791028\n",
      "Epoch:\t 14 Val Loss:\t 0.03000074191696068\n",
      "Epoch:\t 15 Val Loss:\t 0.02999837024399143\n",
      "Epoch:\t 16 Val Loss:\t 0.030001475792659424\n",
      "Epoch:\t 17 Val Loss:\t 0.029998226497975653\n",
      "Epoch:\t 18 Val Loss:\t 0.030008996638894496\n",
      "Epoch:\t 19 Val Loss:\t 0.030003690404187926\n",
      "Epoch:\t 20 Val Loss:\t 0.029999870051922974\n",
      "Epoch:\t 21 Val Loss:\t 0.02999757165813972\n",
      "Epoch:\t 22 Val Loss:\t 0.029998018063440417\n",
      "Epoch:\t 23 Val Loss:\t 0.030000483130432586\n",
      "Epoch:\t 24 Val Loss:\t 0.03000084177940288\n",
      "Epoch:\t 25 Val Loss:\t 0.030000031303774467\n",
      "Epoch:\t 26 Val Loss:\t 0.02999648554564284\n",
      "Epoch:\t 27 Val Loss:\t 0.030006085861037278\n",
      "Epoch:\t 28 Val Loss:\t 0.029996806619370858\n",
      "Epoch:\t 29 Val Loss:\t 0.03000135692517932\n",
      "Epoch:\t 30 Val Loss:\t 0.02999877696261935\n",
      "Epoch:\t 31 Val Loss:\t 0.0300027498549216\n",
      "Epoch:\t 32 Val Loss:\t 0.030000880574775075\n",
      "Epoch:\t 33 Val Loss:\t 0.030000276852758228\n",
      "Epoch:\t 34 Val Loss:\t 0.029998095184737658\n",
      "Epoch:\t 35 Val Loss:\t 0.029993391458408066\n",
      "Epoch:\t 36 Val Loss:\t 0.030002527196354014\n",
      "Epoch:\t 37 Val Loss:\t 0.02999621082387181\n",
      "Epoch:\t 38 Val Loss:\t 0.029998008929772797\n",
      "Epoch:\t 39 Val Loss:\t 0.029999894705470154\n",
      "Epoch:\t 40 Val Loss:\t 0.02999698861775775\n",
      "Epoch:\t 41 Val Loss:\t 0.029998836539140563\n",
      "Epoch:\t 42 Val Loss:\t 0.029998827859776638\n",
      "Epoch:\t 43 Val Loss:\t 0.029998955538585073\n",
      "Epoch:\t 44 Val Loss:\t 0.02999782544949052\n"
     ]
    },
    {
     "name": "stderr",
     "output_type": "stream",
     "text": [
      "[I 2025-09-29 21:52:21,986] Trial 8 finished with value: 0.029993391458408066 and parameters: {'lr': 0.0001, 'weight_decay': 0.0001, 'scheduler_factor': 0.3, 'scheduler_patience': 1, 'batch_size': 128, 'dropout': 0.15, 'hidden_dims': 512}. Best is trial 8 with value: 0.029993391458408066.\n"
     ]
    },
    {
     "name": "stdout",
     "output_type": "stream",
     "text": [
      "Epoch:\t 45 Val Loss:\t 0.0299981633346186\n"
     ]
    },
    {
     "name": "stderr",
     "output_type": "stream",
     "text": [
      "[I 2025-09-29 21:52:26,140] Trial 9 pruned. \n"
     ]
    },
    {
     "name": "stdout",
     "output_type": "stream",
     "text": [
      "Epoch:\t 0 Val Loss:\t 0.047592087775364986\n",
      "Epoch:\t 0 Val Loss:\t 0.03057114832055686\n",
      "Epoch:\t 1 Val Loss:\t 0.030162967581494355\n",
      "Epoch:\t 2 Val Loss:\t 0.03006919551461295\n",
      "Epoch:\t 3 Val Loss:\t 0.03010804038786708\n",
      "Epoch:\t 4 Val Loss:\t 0.030060319692648847\n",
      "Epoch:\t 5 Val Loss:\t 0.03008430697309265\n",
      "Epoch:\t 6 Val Loss:\t 0.03004352793257491\n",
      "Epoch:\t 7 Val Loss:\t 0.03008744277241648\n",
      "Epoch:\t 8 Val Loss:\t 0.030037035989384283\n",
      "Epoch:\t 9 Val Loss:\t 0.030027730881225144\n",
      "Epoch:\t 10 Val Loss:\t 0.030053271440161015\n",
      "Epoch:\t 11 Val Loss:\t 0.03007526175744369\n",
      "Epoch:\t 12 Val Loss:\t 0.03006508293898384\n",
      "Epoch:\t 13 Val Loss:\t 0.030035384717163344\n",
      "Epoch:\t 14 Val Loss:\t 0.03002998533805165\n",
      "Epoch:\t 15 Val Loss:\t 0.030060900280114804\n",
      "Epoch:\t 16 Val Loss:\t 0.030069086708245204\n",
      "Epoch:\t 17 Val Loss:\t 0.030098246184550117\n",
      "Epoch:\t 18 Val Loss:\t 0.03007038398924188\n"
     ]
    },
    {
     "name": "stderr",
     "output_type": "stream",
     "text": [
      "[I 2025-09-29 21:54:22,598] Trial 10 finished with value: 0.030027730881225144 and parameters: {'lr': 0.0001, 'weight_decay': 0.0001, 'scheduler_factor': 0.3, 'scheduler_patience': 20, 'batch_size': 64, 'dropout': 0.2, 'hidden_dims': 512}. Best is trial 8 with value: 0.029993391458408066.\n"
     ]
    },
    {
     "name": "stdout",
     "output_type": "stream",
     "text": [
      "Epoch:\t 19 Val Loss:\t 0.030055002887201945\n",
      "Epoch:\t 0 Val Loss:\t 0.030291025248451835\n",
      "Epoch:\t 1 Val Loss:\t 0.03010905659646747\n",
      "Epoch:\t 2 Val Loss:\t 0.030148347263514685\n",
      "Epoch:\t 3 Val Loss:\t 0.03006328313081194\n",
      "Epoch:\t 4 Val Loss:\t 0.03006431421895257\n",
      "Epoch:\t 5 Val Loss:\t 0.03006509525319794\n",
      "Epoch:\t 6 Val Loss:\t 0.03008442656507308\n",
      "Epoch:\t 7 Val Loss:\t 0.030107749987110383\n",
      "Epoch:\t 8 Val Loss:\t 0.030053322212646262\n",
      "Epoch:\t 9 Val Loss:\t 0.030091471835490893\n",
      "Epoch:\t 10 Val Loss:\t 0.030071582978140526\n",
      "Epoch:\t 11 Val Loss:\t 0.030121145669416295\n",
      "Epoch:\t 12 Val Loss:\t 0.030061569788076472\n",
      "Epoch:\t 13 Val Loss:\t 0.03005074721004855\n",
      "Epoch:\t 14 Val Loss:\t 0.030074401432675327\n",
      "Epoch:\t 15 Val Loss:\t 0.030018179980660687\n",
      "Epoch:\t 16 Val Loss:\t 0.030055059004927435\n",
      "Epoch:\t 17 Val Loss:\t 0.030049264248302697\n",
      "Epoch:\t 18 Val Loss:\t 0.030029992803766916\n",
      "Epoch:\t 19 Val Loss:\t 0.030029902988704255\n",
      "Epoch:\t 20 Val Loss:\t 0.03004225069204009\n",
      "Epoch:\t 21 Val Loss:\t 0.030031274491731885\n",
      "Epoch:\t 22 Val Loss:\t 0.030017129943375836\n",
      "Epoch:\t 23 Val Loss:\t 0.030016117790866333\n",
      "Epoch:\t 24 Val Loss:\t 0.030020323846309736\n",
      "Epoch:\t 25 Val Loss:\t 0.03000721237576257\n",
      "Epoch:\t 26 Val Loss:\t 0.030011838620925324\n",
      "Epoch:\t 27 Val Loss:\t 0.030034828618129915\n",
      "Epoch:\t 28 Val Loss:\t 0.030014175596823716\n",
      "Epoch:\t 29 Val Loss:\t 0.03002492254151294\n",
      "Epoch:\t 30 Val Loss:\t 0.030022961550213296\n",
      "Epoch:\t 31 Val Loss:\t 0.030009267306862288\n",
      "Epoch:\t 32 Val Loss:\t 0.03002754011684926\n",
      "Epoch:\t 33 Val Loss:\t 0.03000264612388123\n",
      "Epoch:\t 34 Val Loss:\t 0.03001904923055868\n",
      "Epoch:\t 35 Val Loss:\t 0.030028140329654764\n",
      "Epoch:\t 36 Val Loss:\t 0.03002244986494267\n",
      "Epoch:\t 37 Val Loss:\t 0.03002238777929347\n",
      "Epoch:\t 38 Val Loss:\t 0.03000967060629272\n",
      "Epoch:\t 39 Val Loss:\t 0.030005745336767968\n",
      "Epoch:\t 40 Val Loss:\t 0.030006358555658086\n",
      "Epoch:\t 41 Val Loss:\t 0.030005459570462665\n",
      "Epoch:\t 42 Val Loss:\t 0.03003452994519638\n"
     ]
    },
    {
     "name": "stderr",
     "output_type": "stream",
     "text": [
      "[I 2025-09-29 22:01:45,443] Trial 11 finished with value: 0.03000264612388123 and parameters: {'lr': 0.0001, 'weight_decay': 0.0001, 'scheduler_factor': 0.5, 'scheduler_patience': 5, 'batch_size': 32, 'dropout': 0.1, 'hidden_dims': 512}. Best is trial 8 with value: 0.029993391458408066.\n"
     ]
    },
    {
     "name": "stdout",
     "output_type": "stream",
     "text": [
      "Epoch:\t 43 Val Loss:\t 0.030033378821845775\n",
      "Epoch:\t 0 Val Loss:\t 0.03129487436208539\n",
      "Epoch:\t 1 Val Loss:\t 0.03072720345539958\n",
      "Epoch:\t 2 Val Loss:\t 0.03031490934830001\n",
      "Epoch:\t 3 Val Loss:\t 0.03015327569717802\n",
      "Epoch:\t 4 Val Loss:\t 0.030071951876471745\n",
      "Epoch:\t 5 Val Loss:\t 0.030052261953515087\n",
      "Epoch:\t 6 Val Loss:\t 0.03005937137384264\n",
      "Epoch:\t 7 Val Loss:\t 0.03004287617163245\n",
      "Epoch:\t 8 Val Loss:\t 0.03002762577798622\n",
      "Epoch:\t 9 Val Loss:\t 0.03002971199730836\n",
      "Epoch:\t 10 Val Loss:\t 0.03002670917711888\n",
      "Epoch:\t 11 Val Loss:\t 0.030029068410167392\n",
      "Epoch:\t 12 Val Loss:\t 0.030034462320258883\n",
      "Epoch:\t 13 Val Loss:\t 0.030031442636266153\n",
      "Epoch:\t 14 Val Loss:\t 0.03001639187861357\n",
      "Epoch:\t 15 Val Loss:\t 0.030018967442815552\n",
      "Epoch:\t 16 Val Loss:\t 0.030032394933327815\n",
      "Epoch:\t 17 Val Loss:\t 0.03001120050875032\n",
      "Epoch:\t 18 Val Loss:\t 0.030008771554612863\n",
      "Epoch:\t 19 Val Loss:\t 0.030019742784263847\n",
      "Epoch:\t 20 Val Loss:\t 0.030024372210409395\n",
      "Epoch:\t 21 Val Loss:\t 0.03002106710496557\n",
      "Epoch:\t 22 Val Loss:\t 0.030025572857094656\n",
      "Epoch:\t 23 Val Loss:\t 0.03002456684547649\n",
      "Epoch:\t 24 Val Loss:\t 0.030019754276881715\n",
      "Epoch:\t 25 Val Loss:\t 0.030003151399620176\n",
      "Epoch:\t 26 Val Loss:\t 0.03002633850262633\n",
      "Epoch:\t 27 Val Loss:\t 0.030013272856609183\n",
      "Epoch:\t 28 Val Loss:\t 0.03001646861191828\n",
      "Epoch:\t 29 Val Loss:\t 0.030013333568787305\n",
      "Epoch:\t 30 Val Loss:\t 0.030013740575670748\n",
      "Epoch:\t 31 Val Loss:\t 0.03003335495609671\n",
      "Epoch:\t 32 Val Loss:\t 0.030016150332563538\n"
     ]
    },
    {
     "name": "stderr",
     "output_type": "stream",
     "text": [
      "[I 2025-09-29 22:07:28,361] Trial 12 pruned. \n"
     ]
    },
    {
     "name": "stdout",
     "output_type": "stream",
     "text": [
      "Epoch:\t 33 Val Loss:\t 0.030017747109171027\n",
      "Epoch:\t 0 Val Loss:\t 0.030320766160845135\n",
      "Epoch:\t 1 Val Loss:\t 0.03011333952791388\n",
      "Epoch:\t 2 Val Loss:\t 0.030053495867280542\n",
      "Epoch:\t 3 Val Loss:\t 0.030032437015811302\n",
      "Epoch:\t 4 Val Loss:\t 0.030100963413023492\n",
      "Epoch:\t 5 Val Loss:\t 0.030101477276875455\n",
      "Epoch:\t 6 Val Loss:\t 0.03006035460075942\n",
      "Epoch:\t 7 Val Loss:\t 0.03001887641697949\n",
      "Epoch:\t 8 Val Loss:\t 0.030018491047265325\n",
      "Epoch:\t 9 Val Loss:\t 0.030023091954292078\n",
      "Epoch:\t 10 Val Loss:\t 0.030018822821338234\n",
      "Epoch:\t 11 Val Loss:\t 0.03001737881082127\n",
      "Epoch:\t 12 Val Loss:\t 0.030020833698664026\n",
      "Epoch:\t 13 Val Loss:\t 0.030017318942941382\n",
      "Epoch:\t 14 Val Loss:\t 0.030012360119946773\n",
      "Epoch:\t 15 Val Loss:\t 0.030009369355601\n",
      "Epoch:\t 16 Val Loss:\t 0.030025372373559622\n",
      "Epoch:\t 17 Val Loss:\t 0.030008383254718968\n",
      "Epoch:\t 18 Val Loss:\t 0.03000908115693842\n",
      "Epoch:\t 19 Val Loss:\t 0.03000992855183603\n",
      "Epoch:\t 20 Val Loss:\t 0.03000844367123055\n",
      "Epoch:\t 21 Val Loss:\t 0.03002315344806767\n",
      "Epoch:\t 22 Val Loss:\t 0.03000170092605967\n",
      "Epoch:\t 23 Val Loss:\t 0.03000667794849194\n",
      "Epoch:\t 24 Val Loss:\t 0.03000600005160029\n",
      "Epoch:\t 25 Val Loss:\t 0.03000751056600831\n",
      "Epoch:\t 26 Val Loss:\t 0.030017996391738768\n",
      "Epoch:\t 27 Val Loss:\t 0.030033748660688475\n",
      "Epoch:\t 28 Val Loss:\t 0.03000449251818124\n",
      "Epoch:\t 29 Val Loss:\t 0.030005045707034324\n",
      "Epoch:\t 30 Val Loss:\t 0.030004332252322453\n",
      "Epoch:\t 31 Val Loss:\t 0.030007194301185917\n"
     ]
    },
    {
     "name": "stderr",
     "output_type": "stream",
     "text": [
      "[I 2025-09-29 22:12:13,109] Trial 13 finished with value: 0.03000170092605967 and parameters: {'lr': 0.0001, 'weight_decay': 0.0001, 'scheduler_factor': 0.5, 'scheduler_patience': 1, 'batch_size': 32, 'dropout': 0.1, 'hidden_dims': 512}. Best is trial 8 with value: 0.029993391458408066.\n"
     ]
    },
    {
     "name": "stdout",
     "output_type": "stream",
     "text": [
      "Epoch:\t 32 Val Loss:\t 0.030017220458957394\n"
     ]
    },
    {
     "name": "stderr",
     "output_type": "stream",
     "text": [
      "[I 2025-09-29 22:12:16,592] Trial 14 pruned. \n"
     ]
    },
    {
     "name": "stdout",
     "output_type": "stream",
     "text": [
      "Epoch:\t 0 Val Loss:\t 0.03501250593772679\n",
      "Epoch:\t 0 Val Loss:\t 0.030492584190255186\n",
      "Epoch:\t 1 Val Loss:\t 0.030250904591915154\n",
      "Epoch:\t 2 Val Loss:\t 0.030079972433511144\n",
      "Epoch:\t 3 Val Loss:\t 0.030067819935495052\n",
      "Epoch:\t 4 Val Loss:\t 0.030049373738973623\n",
      "Epoch:\t 5 Val Loss:\t 0.030073332886232654\n",
      "Epoch:\t 6 Val Loss:\t 0.03007451884526364\n",
      "Epoch:\t 7 Val Loss:\t 0.030019030493840325\n",
      "Epoch:\t 8 Val Loss:\t 0.03004880753592807\n",
      "Epoch:\t 9 Val Loss:\t 0.03003486152359966\n",
      "Epoch:\t 10 Val Loss:\t 0.030009134645015433\n",
      "Epoch:\t 11 Val Loss:\t 0.03002198750085078\n",
      "Epoch:\t 12 Val Loss:\t 0.03001966551313792\n",
      "Epoch:\t 13 Val Loss:\t 0.03001358817010962\n",
      "Epoch:\t 14 Val Loss:\t 0.03000249449451234\n",
      "Epoch:\t 15 Val Loss:\t 0.03002334219196544\n",
      "Epoch:\t 16 Val Loss:\t 0.029995720134102115\n",
      "Epoch:\t 17 Val Loss:\t 0.030032141897362537\n",
      "Epoch:\t 18 Val Loss:\t 0.030017777684983028\n",
      "Epoch:\t 19 Val Loss:\t 0.03001458292964303\n",
      "Epoch:\t 20 Val Loss:\t 0.030000573434951827\n",
      "Epoch:\t 21 Val Loss:\t 0.029997598704164692\n",
      "Epoch:\t 22 Val Loss:\t 0.029997806240454776\n",
      "Epoch:\t 23 Val Loss:\t 0.029999294680950257\n",
      "Epoch:\t 24 Val Loss:\t 0.030001783526210125\n",
      "Epoch:\t 25 Val Loss:\t 0.030020854311000104\n"
     ]
    },
    {
     "name": "stderr",
     "output_type": "stream",
     "text": [
      "[I 2025-09-29 22:14:39,948] Trial 15 finished with value: 0.029995720134102115 and parameters: {'lr': 0.0001, 'weight_decay': 0.0001, 'scheduler_factor': 0.5, 'scheduler_patience': 1, 'batch_size': 64, 'dropout': 0.1, 'hidden_dims': 512}. Best is trial 8 with value: 0.029993391458408066.\n"
     ]
    },
    {
     "name": "stdout",
     "output_type": "stream",
     "text": [
      "Epoch:\t 26 Val Loss:\t 0.030005726188170448\n",
      "Epoch:\t 0 Val Loss:\t 0.03048408630688351\n",
      "Epoch:\t 1 Val Loss:\t 0.030176039941898627\n",
      "Epoch:\t 2 Val Loss:\t 0.030098432712840673\n",
      "Epoch:\t 3 Val Loss:\t 0.030049040113606568\n",
      "Epoch:\t 4 Val Loss:\t 0.030079386756472717\n",
      "Epoch:\t 5 Val Loss:\t 0.030056613494733427\n",
      "Epoch:\t 6 Val Loss:\t 0.030027223574738134\n",
      "Epoch:\t 7 Val Loss:\t 0.030027503452576737\n",
      "Epoch:\t 8 Val Loss:\t 0.030032921192202192\n",
      "Epoch:\t 9 Val Loss:\t 0.030016831067745865\n",
      "Epoch:\t 10 Val Loss:\t 0.03001249863620733\n",
      "Epoch:\t 11 Val Loss:\t 0.03001700922548425\n",
      "Epoch:\t 12 Val Loss:\t 0.030024791963385485\n",
      "Epoch:\t 13 Val Loss:\t 0.030001838141819868\n",
      "Epoch:\t 14 Val Loss:\t 0.030007415880825863\n",
      "Epoch:\t 15 Val Loss:\t 0.030019533003718787\n",
      "Epoch:\t 16 Val Loss:\t 0.030029234095318193\n",
      "Epoch:\t 17 Val Loss:\t 0.030006444929205466\n",
      "Epoch:\t 18 Val Loss:\t 0.030017552200058348\n",
      "Epoch:\t 19 Val Loss:\t 0.03000110405639411\n",
      "Epoch:\t 20 Val Loss:\t 0.030015321675465334\n",
      "Epoch:\t 21 Val Loss:\t 0.03000387436538952\n",
      "Epoch:\t 22 Val Loss:\t 0.03000200841763963\n",
      "Epoch:\t 23 Val Loss:\t 0.03000284976245391\n",
      "Epoch:\t 24 Val Loss:\t 0.030010938320094875\n",
      "Epoch:\t 25 Val Loss:\t 0.030007895763295375\n",
      "Epoch:\t 26 Val Loss:\t 0.030007739297859694\n",
      "Epoch:\t 27 Val Loss:\t 0.03000637225577531\n",
      "Epoch:\t 28 Val Loss:\t 0.030007587315528737\n"
     ]
    },
    {
     "name": "stderr",
     "output_type": "stream",
     "text": [
      "[I 2025-09-29 22:17:15,800] Trial 16 finished with value: 0.03000110405639411 and parameters: {'lr': 0.0001, 'weight_decay': 0.0001, 'scheduler_factor': 0.3, 'scheduler_patience': 1, 'batch_size': 64, 'dropout': 0.2, 'hidden_dims': 512}. Best is trial 8 with value: 0.029993391458408066.\n"
     ]
    },
    {
     "name": "stdout",
     "output_type": "stream",
     "text": [
      "Epoch:\t 29 Val Loss:\t 0.030006865879441857\n",
      "Epoch:\t 0 Val Loss:\t 0.03019953511862892\n",
      "Epoch:\t 1 Val Loss:\t 0.030168968805793544\n",
      "Epoch:\t 2 Val Loss:\t 0.03023394436029003\n"
     ]
    },
    {
     "name": "stderr",
     "output_type": "stream",
     "text": [
      "[I 2025-09-29 22:17:36,111] Trial 17 pruned. \n"
     ]
    },
    {
     "name": "stdout",
     "output_type": "stream",
     "text": [
      "Epoch:\t 3 Val Loss:\t 0.030178112076791094\n"
     ]
    },
    {
     "name": "stderr",
     "output_type": "stream",
     "text": [
      "[I 2025-09-29 22:17:41,233] Trial 18 pruned. \n"
     ]
    },
    {
     "name": "stdout",
     "output_type": "stream",
     "text": [
      "Epoch:\t 0 Val Loss:\t 0.04047342259555761\n"
     ]
    },
    {
     "name": "stderr",
     "output_type": "stream",
     "text": [
      "[I 2025-09-29 22:17:44,716] Trial 19 pruned. \n"
     ]
    },
    {
     "name": "stdout",
     "output_type": "stream",
     "text": [
      "Epoch:\t 0 Val Loss:\t 0.03447098694698459\n",
      "Epoch:\t 0 Val Loss:\t 0.030784642631047417\n"
     ]
    },
    {
     "name": "stderr",
     "output_type": "stream",
     "text": [
      "[I 2025-09-29 22:17:51,809] Trial 20 pruned. \n"
     ]
    },
    {
     "name": "stdout",
     "output_type": "stream",
     "text": [
      "Epoch:\t 1 Val Loss:\t 0.030641119040194013\n"
     ]
    },
    {
     "name": "stderr",
     "output_type": "stream",
     "text": [
      "[I 2025-09-29 22:18:00,540] Trial 21 pruned. \n"
     ]
    },
    {
     "name": "stdout",
     "output_type": "stream",
     "text": [
      "Epoch:\t 0 Val Loss:\t 0.03125862498755242\n"
     ]
    },
    {
     "name": "stderr",
     "output_type": "stream",
     "text": [
      "[I 2025-09-29 22:18:09,858] Trial 22 pruned. \n"
     ]
    },
    {
     "name": "stdout",
     "output_type": "stream",
     "text": [
      "Epoch:\t 0 Val Loss:\t 0.031227368834951176\n"
     ]
    },
    {
     "name": "stderr",
     "output_type": "stream",
     "text": [
      "[I 2025-09-29 22:18:15,147] Trial 23 pruned. \n"
     ]
    },
    {
     "name": "stdout",
     "output_type": "stream",
     "text": [
      "Epoch:\t 0 Val Loss:\t 0.03195158089065164\n",
      "Epoch:\t 0 Val Loss:\t 0.030123562913187508\n",
      "Epoch:\t 1 Val Loss:\t 0.03010423648691711\n",
      "Epoch:\t 2 Val Loss:\t 0.030116572696972304\n",
      "Epoch:\t 3 Val Loss:\t 0.03006877281835329\n",
      "Epoch:\t 4 Val Loss:\t 0.030079279935327097\n",
      "Epoch:\t 5 Val Loss:\t 0.030068525557546626\n",
      "Epoch:\t 6 Val Loss:\t 0.03007577949964363\n",
      "Epoch:\t 7 Val Loss:\t 0.03005501962471286\n",
      "Epoch:\t 8 Val Loss:\t 0.03002334887535569\n",
      "Epoch:\t 9 Val Loss:\t 0.030059002409692507\n",
      "Epoch:\t 10 Val Loss:\t 0.030029049617841346\n",
      "Epoch:\t 11 Val Loss:\t 0.030023910400176514\n",
      "Epoch:\t 12 Val Loss:\t 0.03002247457436695\n",
      "Epoch:\t 13 Val Loss:\t 0.030033037018495124\n",
      "Epoch:\t 14 Val Loss:\t 0.030019383261813345\n",
      "Epoch:\t 15 Val Loss:\t 0.030019633124459384\n",
      "Epoch:\t 16 Val Loss:\t 0.03002108838900991\n",
      "Epoch:\t 17 Val Loss:\t 0.03003613626721954\n",
      "Epoch:\t 18 Val Loss:\t 0.03004355765781874\n",
      "Epoch:\t 19 Val Loss:\t 0.030017995788169525\n",
      "Epoch:\t 20 Val Loss:\t 0.030065507857172484\n",
      "Epoch:\t 21 Val Loss:\t 0.03003935334412523\n"
     ]
    },
    {
     "name": "stderr",
     "output_type": "stream",
     "text": [
      "[I 2025-09-29 22:24:18,691] Trial 24 pruned. \n"
     ]
    },
    {
     "name": "stdout",
     "output_type": "stream",
     "text": [
      "Epoch:\t 22 Val Loss:\t 0.0300279677524378\n"
     ]
    },
    {
     "name": "stderr",
     "output_type": "stream",
     "text": [
      "[I 2025-09-29 22:24:22,402] Trial 25 pruned. \n"
     ]
    },
    {
     "name": "stdout",
     "output_type": "stream",
     "text": [
      "Epoch:\t 0 Val Loss:\t 0.033679782238796474\n"
     ]
    },
    {
     "name": "stderr",
     "output_type": "stream",
     "text": [
      "[I 2025-09-29 22:24:30,469] Trial 26 pruned. \n"
     ]
    },
    {
     "name": "stdout",
     "output_type": "stream",
     "text": [
      "Epoch:\t 0 Val Loss:\t 0.0429440973466019\n"
     ]
    },
    {
     "name": "stderr",
     "output_type": "stream",
     "text": [
      "[I 2025-09-29 22:24:35,428] Trial 27 pruned. \n"
     ]
    },
    {
     "name": "stdout",
     "output_type": "stream",
     "text": [
      "Epoch:\t 0 Val Loss:\t 0.03337387767097698\n",
      "Epoch:\t 0 Val Loss:\t 0.030285014317425543\n",
      "Epoch:\t 1 Val Loss:\t 0.030164305889601718\n",
      "Epoch:\t 2 Val Loss:\t 0.03026544165571052\n"
     ]
    },
    {
     "name": "stderr",
     "output_type": "stream",
     "text": [
      "[I 2025-09-29 22:25:07,745] Trial 28 pruned. \n"
     ]
    },
    {
     "name": "stdout",
     "output_type": "stream",
     "text": [
      "Epoch:\t 3 Val Loss:\t 0.030472347435546315\n"
     ]
    },
    {
     "name": "stderr",
     "output_type": "stream",
     "text": [
      "[I 2025-09-29 22:25:23,518] Trial 29 pruned. \n"
     ]
    },
    {
     "name": "stdout",
     "output_type": "stream",
     "text": [
      "Epoch:\t 0 Val Loss:\t 0.04306444061205848\n"
     ]
    },
    {
     "name": "stderr",
     "output_type": "stream",
     "text": [
      "[I 2025-09-29 22:25:27,109] Trial 30 pruned. \n"
     ]
    },
    {
     "name": "stdout",
     "output_type": "stream",
     "text": [
      "Epoch:\t 0 Val Loss:\t 0.03830767075047676\n",
      "Epoch:\t 0 Val Loss:\t 0.030534946879137412\n",
      "Epoch:\t 1 Val Loss:\t 0.030219838168046118\n",
      "Epoch:\t 2 Val Loss:\t 0.03005686060493586\n",
      "Epoch:\t 3 Val Loss:\t 0.030067375237884317\n",
      "Epoch:\t 4 Val Loss:\t 0.03009466268770825\n",
      "Epoch:\t 5 Val Loss:\t 0.030022003848453768\n",
      "Epoch:\t 6 Val Loss:\t 0.030017613880314663\n",
      "Epoch:\t 7 Val Loss:\t 0.030022257044954627\n",
      "Epoch:\t 8 Val Loss:\t 0.030019817834917847\n",
      "Epoch:\t 9 Val Loss:\t 0.030002944263317732\n",
      "Epoch:\t 10 Val Loss:\t 0.03002200082152027\n",
      "Epoch:\t 11 Val Loss:\t 0.030015779642936315\n",
      "Epoch:\t 12 Val Loss:\t 0.030012137758709357\n",
      "Epoch:\t 13 Val Loss:\t 0.03001809436708983\n",
      "Epoch:\t 14 Val Loss:\t 0.0300077033757264\n",
      "Epoch:\t 15 Val Loss:\t 0.030000404481253372\n",
      "Epoch:\t 16 Val Loss:\t 0.030001188654861198\n",
      "Epoch:\t 17 Val Loss:\t 0.030016463708286013\n",
      "Epoch:\t 18 Val Loss:\t 0.03000272236314715\n",
      "Epoch:\t 19 Val Loss:\t 0.030031466614444176\n",
      "Epoch:\t 20 Val Loss:\t 0.030005604274099606\n",
      "Epoch:\t 21 Val Loss:\t 0.0300149929731894\n",
      "Epoch:\t 22 Val Loss:\t 0.030006667192608066\n",
      "Epoch:\t 23 Val Loss:\t 0.02999924681972641\n",
      "Epoch:\t 24 Val Loss:\t 0.03000536871597266\n",
      "Epoch:\t 25 Val Loss:\t 0.030017646596060543\n",
      "Epoch:\t 26 Val Loss:\t 0.030003005244136204\n",
      "Epoch:\t 27 Val Loss:\t 0.030001186603032706\n",
      "Epoch:\t 28 Val Loss:\t 0.030029690620671574\n",
      "Epoch:\t 29 Val Loss:\t 0.030002175677336377\n",
      "Epoch:\t 30 Val Loss:\t 0.03000330692130123\n",
      "Epoch:\t 31 Val Loss:\t 0.030000391848130206\n",
      "Epoch:\t 32 Val Loss:\t 0.030009390570080632\n"
     ]
    },
    {
     "name": "stderr",
     "output_type": "stream",
     "text": [
      "[I 2025-09-29 22:28:02,323] Trial 31 finished with value: 0.02999924681972641 and parameters: {'lr': 0.0001, 'weight_decay': 0.0001, 'scheduler_factor': 0.3, 'scheduler_patience': 1, 'batch_size': 64, 'dropout': 0.2, 'hidden_dims': 512}. Best is trial 8 with value: 0.029993391458408066.\n"
     ]
    },
    {
     "name": "stdout",
     "output_type": "stream",
     "text": [
      "Epoch:\t 33 Val Loss:\t 0.03000202042483619\n",
      "Epoch:\t 0 Val Loss:\t 0.030663913568818008\n",
      "Epoch:\t 1 Val Loss:\t 0.030297146469043287\n",
      "Epoch:\t 2 Val Loss:\t 0.030076517188922652\n",
      "Epoch:\t 3 Val Loss:\t 0.030072504437236126\n",
      "Epoch:\t 4 Val Loss:\t 0.03009175832880076\n",
      "Epoch:\t 5 Val Loss:\t 0.030031938299329142\n",
      "Epoch:\t 6 Val Loss:\t 0.030079353702358914\n",
      "Epoch:\t 7 Val Loss:\t 0.03006102203094745\n",
      "Epoch:\t 8 Val Loss:\t 0.03002287790577078\n",
      "Epoch:\t 9 Val Loss:\t 0.030020895080551186\n",
      "Epoch:\t 10 Val Loss:\t 0.030012032065758924\n",
      "Epoch:\t 11 Val Loss:\t 0.030019514090789658\n",
      "Epoch:\t 12 Val Loss:\t 0.030028778865059932\n",
      "Epoch:\t 13 Val Loss:\t 0.030011704287778756\n",
      "Epoch:\t 14 Val Loss:\t 0.030004729324918256\n",
      "Epoch:\t 15 Val Loss:\t 0.030004176388489807\n",
      "Epoch:\t 16 Val Loss:\t 0.030004282688989033\n",
      "Epoch:\t 17 Val Loss:\t 0.030013169801415086\n",
      "Epoch:\t 18 Val Loss:\t 0.030019673918283616\n",
      "Epoch:\t 19 Val Loss:\t 0.030013305350740288\n",
      "Epoch:\t 20 Val Loss:\t 0.030007452783469397\n",
      "Epoch:\t 21 Val Loss:\t 0.030005297276017907\n",
      "Epoch:\t 22 Val Loss:\t 0.029999899380103626\n",
      "Epoch:\t 23 Val Loss:\t 0.0300021281306974\n",
      "Epoch:\t 24 Val Loss:\t 0.03000621900321333\n",
      "Epoch:\t 25 Val Loss:\t 0.030009349409190294\n",
      "Epoch:\t 26 Val Loss:\t 0.029999706206612995\n",
      "Epoch:\t 27 Val Loss:\t 0.030012393475132355\n",
      "Epoch:\t 28 Val Loss:\t 0.030006851539344407\n",
      "Epoch:\t 29 Val Loss:\t 0.030003138582718906\n",
      "Epoch:\t 30 Val Loss:\t 0.030004185880088418\n",
      "Epoch:\t 31 Val Loss:\t 0.030021310937971966\n",
      "Epoch:\t 32 Val Loss:\t 0.030015375786225807\n",
      "Epoch:\t 33 Val Loss:\t 0.030004386779826808\n",
      "Epoch:\t 34 Val Loss:\t 0.03000684105318193\n",
      "Epoch:\t 35 Val Loss:\t 0.03000457516751937\n"
     ]
    },
    {
     "name": "stderr",
     "output_type": "stream",
     "text": [
      "[I 2025-09-29 22:30:44,127] Trial 32 finished with value: 0.029999706206612995 and parameters: {'lr': 0.0001, 'weight_decay': 0.0001, 'scheduler_factor': 0.3, 'scheduler_patience': 1, 'batch_size': 64, 'dropout': 0.2, 'hidden_dims': 512}. Best is trial 8 with value: 0.029993391458408066.\n"
     ]
    },
    {
     "name": "stdout",
     "output_type": "stream",
     "text": [
      "Epoch:\t 36 Val Loss:\t 0.030005308063792684\n",
      "Epoch:\t 0 Val Loss:\t 0.030568676134241714\n",
      "Epoch:\t 1 Val Loss:\t 0.030196574121471483\n",
      "Epoch:\t 2 Val Loss:\t 0.030089013730362275\n",
      "Epoch:\t 3 Val Loss:\t 0.030092817384725867\n",
      "Epoch:\t 4 Val Loss:\t 0.030075790591914158\n",
      "Epoch:\t 5 Val Loss:\t 0.030033899446299653\n",
      "Epoch:\t 6 Val Loss:\t 0.030090055806271502\n",
      "Epoch:\t 7 Val Loss:\t 0.030045098121895805\n",
      "Epoch:\t 8 Val Loss:\t 0.030033218077082865\n",
      "Epoch:\t 9 Val Loss:\t 0.03002909301427202\n",
      "Epoch:\t 10 Val Loss:\t 0.030024928208905392\n",
      "Epoch:\t 11 Val Loss:\t 0.03001489282817565\n",
      "Epoch:\t 12 Val Loss:\t 0.030033372911217597\n",
      "Epoch:\t 13 Val Loss:\t 0.030019917350761847\n",
      "Epoch:\t 14 Val Loss:\t 0.030011088886253375\n",
      "Epoch:\t 15 Val Loss:\t 0.030014656814927633\n",
      "Epoch:\t 16 Val Loss:\t 0.030006824341265878\n",
      "Epoch:\t 17 Val Loss:\t 0.030002156671437148\n",
      "Epoch:\t 18 Val Loss:\t 0.030016908136715877\n",
      "Epoch:\t 19 Val Loss:\t 0.029999546556410857\n",
      "Epoch:\t 20 Val Loss:\t 0.02999674701588623\n",
      "Epoch:\t 21 Val Loss:\t 0.030014275432117304\n",
      "Epoch:\t 22 Val Loss:\t 0.03001082989641801\n",
      "Epoch:\t 23 Val Loss:\t 0.029998819382122902\n",
      "Epoch:\t 24 Val Loss:\t 0.030001822073127182\n",
      "Epoch:\t 25 Val Loss:\t 0.03000857526229968\n",
      "Epoch:\t 26 Val Loss:\t 0.03001167900099252\n",
      "Epoch:\t 27 Val Loss:\t 0.030000750090033942\n",
      "Epoch:\t 28 Val Loss:\t 0.03000216612195595\n",
      "Epoch:\t 29 Val Loss:\t 0.030007372046504614\n"
     ]
    },
    {
     "name": "stderr",
     "output_type": "stream",
     "text": [
      "[I 2025-09-29 22:32:59,156] Trial 33 finished with value: 0.02999674701588623 and parameters: {'lr': 0.0001, 'weight_decay': 0.0001, 'scheduler_factor': 0.3, 'scheduler_patience': 1, 'batch_size': 64, 'dropout': 0.2, 'hidden_dims': 512}. Best is trial 8 with value: 0.029993391458408066.\n"
     ]
    },
    {
     "name": "stdout",
     "output_type": "stream",
     "text": [
      "Epoch:\t 30 Val Loss:\t 0.030009466785022983\n"
     ]
    },
    {
     "name": "stderr",
     "output_type": "stream",
     "text": [
      "[I 2025-09-29 22:33:03,742] Trial 34 pruned. \n"
     ]
    },
    {
     "name": "stdout",
     "output_type": "stream",
     "text": [
      "Epoch:\t 0 Val Loss:\t 0.030879523347818915\n"
     ]
    },
    {
     "name": "stderr",
     "output_type": "stream",
     "text": [
      "[I 2025-09-29 22:33:16,258] Trial 35 pruned. \n"
     ]
    },
    {
     "name": "stdout",
     "output_type": "stream",
     "text": [
      "Epoch:\t 0 Val Loss:\t 0.03103789806230315\n",
      "Epoch:\t 0 Val Loss:\t 0.03058735849211469\n",
      "Epoch:\t 1 Val Loss:\t 0.030171599574235725\n",
      "Epoch:\t 2 Val Loss:\t 0.03007581511656178\n",
      "Epoch:\t 3 Val Loss:\t 0.030070286570630374\n",
      "Epoch:\t 4 Val Loss:\t 0.03005709110159758\n",
      "Epoch:\t 5 Val Loss:\t 0.030058556983871165\n",
      "Epoch:\t 6 Val Loss:\t 0.03004235353751094\n",
      "Epoch:\t 7 Val Loss:\t 0.030078159950055222\n",
      "Epoch:\t 8 Val Loss:\t 0.030040531013284185\n"
     ]
    },
    {
     "name": "stderr",
     "output_type": "stream",
     "text": [
      "[I 2025-09-29 22:34:06,626] Trial 36 pruned. \n"
     ]
    },
    {
     "name": "stdout",
     "output_type": "stream",
     "text": [
      "Epoch:\t 9 Val Loss:\t 0.03008927506282796\n"
     ]
    },
    {
     "name": "stderr",
     "output_type": "stream",
     "text": [
      "[I 2025-09-29 22:34:09,796] Trial 37 pruned. \n"
     ]
    },
    {
     "name": "stdout",
     "output_type": "stream",
     "text": [
      "Epoch:\t 0 Val Loss:\t 0.03092214754067881\n"
     ]
    },
    {
     "name": "stderr",
     "output_type": "stream",
     "text": [
      "[I 2025-09-29 22:34:13,620] Trial 38 pruned. \n"
     ]
    },
    {
     "name": "stdout",
     "output_type": "stream",
     "text": [
      "Epoch:\t 0 Val Loss:\t 0.057125635029754575\n"
     ]
    },
    {
     "name": "stderr",
     "output_type": "stream",
     "text": [
      "[I 2025-09-29 22:34:16,707] Trial 39 pruned. \n"
     ]
    },
    {
     "name": "stdout",
     "output_type": "stream",
     "text": [
      "Epoch:\t 0 Val Loss:\t 0.03143403671768515\n",
      "Epoch:\t 0 Val Loss:\t 0.03067803870534143\n"
     ]
    },
    {
     "name": "stderr",
     "output_type": "stream",
     "text": [
      "[I 2025-09-29 22:34:27,108] Trial 40 pruned. \n"
     ]
    },
    {
     "name": "stdout",
     "output_type": "stream",
     "text": [
      "Epoch:\t 1 Val Loss:\t 0.03159164676028701\n",
      "Epoch:\t 0 Val Loss:\t 0.030545898174269216\n",
      "Epoch:\t 1 Val Loss:\t 0.030225558171845492\n",
      "Epoch:\t 2 Val Loss:\t 0.03011388690343307\n",
      "Epoch:\t 3 Val Loss:\t 0.030047142523591145\n",
      "Epoch:\t 4 Val Loss:\t 0.030045868453769164\n",
      "Epoch:\t 5 Val Loss:\t 0.03004415603100527\n",
      "Epoch:\t 6 Val Loss:\t 0.030021646827052863\n",
      "Epoch:\t 7 Val Loss:\t 0.030004419482600114\n",
      "Epoch:\t 8 Val Loss:\t 0.030018329349018363\n",
      "Epoch:\t 9 Val Loss:\t 0.030018225763029854\n",
      "Epoch:\t 10 Val Loss:\t 0.030017147796337715\n",
      "Epoch:\t 11 Val Loss:\t 0.029998429599572114\n",
      "Epoch:\t 12 Val Loss:\t 0.029999895279689784\n",
      "Epoch:\t 13 Val Loss:\t 0.030007923108396388\n",
      "Epoch:\t 14 Val Loss:\t 0.030003301154992917\n",
      "Epoch:\t 15 Val Loss:\t 0.03000746445121699\n",
      "Epoch:\t 16 Val Loss:\t 0.030004816422767578\n",
      "Epoch:\t 17 Val Loss:\t 0.030008656864102607\n",
      "Epoch:\t 18 Val Loss:\t 0.03000830305233226\n",
      "Epoch:\t 19 Val Loss:\t 0.030003740768436423\n",
      "Epoch:\t 20 Val Loss:\t 0.030017992584288847\n"
     ]
    },
    {
     "name": "stderr",
     "output_type": "stream",
     "text": [
      "[I 2025-09-29 22:36:20,145] Trial 41 finished with value: 0.029998429599572114 and parameters: {'lr': 0.0001, 'weight_decay': 0.0001, 'scheduler_factor': 0.3, 'scheduler_patience': 1, 'batch_size': 64, 'dropout': 0.2, 'hidden_dims': 512}. Best is trial 8 with value: 0.029993391458408066.\n"
     ]
    },
    {
     "name": "stdout",
     "output_type": "stream",
     "text": [
      "Epoch:\t 21 Val Loss:\t 0.029999827792045342\n",
      "Epoch:\t 0 Val Loss:\t 0.030529824980100574\n"
     ]
    },
    {
     "name": "stderr",
     "output_type": "stream",
     "text": [
      "[I 2025-09-29 22:36:30,494] Trial 42 pruned. \n"
     ]
    },
    {
     "name": "stdout",
     "output_type": "stream",
     "text": [
      "Epoch:\t 1 Val Loss:\t 0.030309389486424605\n",
      "Epoch:\t 0 Val Loss:\t 0.03047118691843191\n",
      "Epoch:\t 1 Val Loss:\t 0.03019368234920211\n",
      "Epoch:\t 2 Val Loss:\t 0.030066692658975176\n",
      "Epoch:\t 3 Val Loss:\t 0.03005467747779724\n",
      "Epoch:\t 4 Val Loss:\t 0.030074141242877037\n",
      "Epoch:\t 5 Val Loss:\t 0.030052667078294522\n",
      "Epoch:\t 6 Val Loss:\t 0.030012484329622356\n",
      "Epoch:\t 7 Val Loss:\t 0.03005009314160982\n",
      "Epoch:\t 8 Val Loss:\t 0.030013502203036172\n",
      "Epoch:\t 9 Val Loss:\t 0.030011784883126297\n",
      "Epoch:\t 10 Val Loss:\t 0.03000980911606699\n",
      "Epoch:\t 11 Val Loss:\t 0.030013313852099228\n",
      "Epoch:\t 12 Val Loss:\t 0.030013726872850904\n",
      "Epoch:\t 13 Val Loss:\t 0.030002187720207508\n",
      "Epoch:\t 14 Val Loss:\t 0.030009485969295077\n",
      "Epoch:\t 15 Val Loss:\t 0.030025692229622404\n",
      "Epoch:\t 16 Val Loss:\t 0.0300102437231787\n",
      "Epoch:\t 17 Val Loss:\t 0.030020503210497332\n",
      "Epoch:\t 18 Val Loss:\t 0.030011691429797673\n",
      "Epoch:\t 19 Val Loss:\t 0.030001129971269046\n",
      "Epoch:\t 20 Val Loss:\t 0.0300239046697207\n",
      "Epoch:\t 21 Val Loss:\t 0.030005034240902128\n",
      "Epoch:\t 22 Val Loss:\t 0.030002280288158083\n",
      "Epoch:\t 23 Val Loss:\t 0.030010263748505885\n",
      "Epoch:\t 24 Val Loss:\t 0.0300092924433829\n",
      "Epoch:\t 25 Val Loss:\t 0.03000684581735905\n",
      "Epoch:\t 26 Val Loss:\t 0.030008847764149974\n",
      "Epoch:\t 27 Val Loss:\t 0.030008104994668217\n",
      "Epoch:\t 28 Val Loss:\t 0.030002373898238618\n"
     ]
    },
    {
     "name": "stderr",
     "output_type": "stream",
     "text": [
      "[I 2025-09-29 22:38:48,707] Trial 43 finished with value: 0.030001129971269046 and parameters: {'lr': 0.0001, 'weight_decay': 0.0001, 'scheduler_factor': 0.3, 'scheduler_patience': 1, 'batch_size': 64, 'dropout': 0.2, 'hidden_dims': 512}. Best is trial 8 with value: 0.029993391458408066.\n"
     ]
    },
    {
     "name": "stdout",
     "output_type": "stream",
     "text": [
      "Epoch:\t 29 Val Loss:\t 0.03000522981323756\n",
      "Epoch:\t 0 Val Loss:\t 0.03052893470923048\n",
      "Epoch:\t 1 Val Loss:\t 0.030198983384325487\n",
      "Epoch:\t 2 Val Loss:\t 0.0300672783133116\n",
      "Epoch:\t 3 Val Loss:\t 0.030068736523389816\n",
      "Epoch:\t 4 Val Loss:\t 0.030131670499887495\n",
      "Epoch:\t 5 Val Loss:\t 0.03001474605757555\n",
      "Epoch:\t 6 Val Loss:\t 0.03002326673375647\n",
      "Epoch:\t 7 Val Loss:\t 0.030015459729578007\n",
      "Epoch:\t 8 Val Loss:\t 0.030038997684445966\n",
      "Epoch:\t 9 Val Loss:\t 0.030020783701289966\n",
      "Epoch:\t 10 Val Loss:\t 0.030014788226002325\n",
      "Epoch:\t 11 Val Loss:\t 0.030006194869904967\n",
      "Epoch:\t 12 Val Loss:\t 0.030011136329111773\n",
      "Epoch:\t 13 Val Loss:\t 0.030001298935777975\n",
      "Epoch:\t 14 Val Loss:\t 0.030021376945662138\n",
      "Epoch:\t 15 Val Loss:\t 0.030000871280883884\n",
      "Epoch:\t 16 Val Loss:\t 0.03000919627446251\n",
      "Epoch:\t 17 Val Loss:\t 0.03000915936857583\n",
      "Epoch:\t 18 Val Loss:\t 0.030007787008817916\n",
      "Epoch:\t 19 Val Loss:\t 0.030007053557967144\n",
      "Epoch:\t 20 Val Loss:\t 0.030008582135600818\n",
      "Epoch:\t 21 Val Loss:\t 0.030020599451847915\n",
      "Epoch:\t 22 Val Loss:\t 0.030013087148833814\n",
      "Epoch:\t 23 Val Loss:\t 0.030019226291033672\n",
      "Epoch:\t 24 Val Loss:\t 0.03001347620167742\n"
     ]
    },
    {
     "name": "stderr",
     "output_type": "stream",
     "text": [
      "[I 2025-09-29 22:40:44,782] Trial 44 finished with value: 0.030000871280883884 and parameters: {'lr': 0.0001, 'weight_decay': 0.0001, 'scheduler_factor': 0.3, 'scheduler_patience': 1, 'batch_size': 64, 'dropout': 0.2, 'hidden_dims': 512}. Best is trial 8 with value: 0.029993391458408066.\n"
     ]
    },
    {
     "name": "stdout",
     "output_type": "stream",
     "text": [
      "Epoch:\t 25 Val Loss:\t 0.03000285357963326\n"
     ]
    },
    {
     "name": "stderr",
     "output_type": "stream",
     "text": [
      "[I 2025-09-29 22:40:51,993] Trial 45 pruned. \n"
     ]
    },
    {
     "name": "stdout",
     "output_type": "stream",
     "text": [
      "Epoch:\t 0 Val Loss:\t 0.033006569373870545\n",
      "Epoch:\t 0 Val Loss:\t 0.030213517704751433\n",
      "Epoch:\t 1 Val Loss:\t 0.03022620812897829\n"
     ]
    },
    {
     "name": "stderr",
     "output_type": "stream",
     "text": [
      "[I 2025-09-29 22:41:01,310] Trial 46 pruned. \n"
     ]
    },
    {
     "name": "stdout",
     "output_type": "stream",
     "text": [
      "Epoch:\t 2 Val Loss:\t 0.03018084245016766\n"
     ]
    },
    {
     "name": "stderr",
     "output_type": "stream",
     "text": [
      "[I 2025-09-29 22:41:05,822] Trial 47 pruned. \n"
     ]
    },
    {
     "name": "stdout",
     "output_type": "stream",
     "text": [
      "Epoch:\t 0 Val Loss:\t 0.0385796281828551\n"
     ]
    },
    {
     "name": "stderr",
     "output_type": "stream",
     "text": [
      "[I 2025-09-29 22:41:08,546] Trial 48 pruned. \n"
     ]
    },
    {
     "name": "stdout",
     "output_type": "stream",
     "text": [
      "Epoch:\t 0 Val Loss:\t 0.0708008355526037\n",
      "Epoch:\t 0 Val Loss:\t 0.030256301877204364\n",
      "Epoch:\t 1 Val Loss:\t 0.03010370661706558\n",
      "Epoch:\t 2 Val Loss:\t 0.030115077162347112\n",
      "Epoch:\t 3 Val Loss:\t 0.03003867927141002\n",
      "Epoch:\t 4 Val Loss:\t 0.030081303077364164\n",
      "Epoch:\t 5 Val Loss:\t 0.030084324181058247\n",
      "Epoch:\t 6 Val Loss:\t 0.030059019341307152\n",
      "Epoch:\t 7 Val Loss:\t 0.03010805908319792\n",
      "Epoch:\t 8 Val Loss:\t 0.030063346710505177\n"
     ]
    },
    {
     "name": "stderr",
     "output_type": "stream",
     "text": [
      "[I 2025-09-29 22:43:03,041] Trial 49 pruned. \n"
     ]
    },
    {
     "name": "stdout",
     "output_type": "stream",
     "text": [
      "Epoch:\t 9 Val Loss:\t 0.03006753288860675\n",
      "Training model with best parameters on train+validation ...\n"
     ]
    },
    {
     "name": "stderr",
     "output_type": "stream",
     "text": [
      "100%|███████████████████████████████████████████████████████████████████████████████████████████████████████████████████████████████████████████████████| 557340/557340 [05:28<00:00, 1696.64it/s]\n",
      "100%|███████████████████████████████████████████████████████████████████████████████████████████████████████████████████████████████████████████████████| 557340/557340 [01:36<00:00, 5804.08it/s]\n"
     ]
    },
    {
     "name": "stdout",
     "output_type": "stream",
     "text": [
      "Getting test set predictions and saving results ...\n"
     ]
    },
    {
     "name": "stderr",
     "output_type": "stream",
     "text": [
      "100%|██████████████████████████████████████████████████████████████████████████████████████████████████████████████████████████████████████████████████████████| 820/820 [00:01<00:00, 625.64it/s]\n"
     ]
    }
   ],
   "source": [
    "train_different_fs(\n",
    "        adata_path=\"./data/feature_selection/sciplex_cellranger.h5ad\",\n",
    "        run_name=\"decoder_cellranger_fs\",\n",
    "        res_savename=\"./results/feature_selection/decoder_cellranger_fs_res.pkl\",\n",
    "    )"
   ]
  },
  {
   "cell_type": "code",
   "execution_count": null,
   "id": "5e1b0122-377c-40a8-ac9e-857367b73b80",
   "metadata": {},
   "outputs": [],
   "source": []
  }
 ],
 "metadata": {
  "kernelspec": {
   "display_name": "Python 3 (ipykernel)",
   "language": "python",
   "name": "python3"
  },
  "language_info": {
   "codemirror_mode": {
    "name": "ipython",
    "version": 3
   },
   "file_extension": ".py",
   "mimetype": "text/x-python",
   "name": "python",
   "nbconvert_exporter": "python",
   "pygments_lexer": "ipython3",
   "version": "3.12.7"
  }
 },
 "nbformat": 4,
 "nbformat_minor": 5
}
