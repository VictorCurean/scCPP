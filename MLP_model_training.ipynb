{
 "cells": [
  {
   "cell_type": "code",
   "id": "1a775529-30d1-49cd-9363-eb79d61c8256",
   "metadata": {
    "ExecuteTime": {
     "end_time": "2025-04-03T14:31:55.729730Z",
     "start_time": "2025-04-03T14:31:53.236753Z"
    }
   },
   "source": [
    "import anndata as ad\n",
    "import pickle as pkl\n",
    "\n",
    "from src.evaluator.MLP_baseline_evaluator import cross_validation_models\n",
    "from src.evaluator.evaluator_utils import l2_loss\n"
   ],
   "outputs": [
    {
     "name": "stderr",
     "output_type": "stream",
     "text": [
      "C:\\Users\\admin\\.conda\\envs\\scFiLM\\Lib\\site-packages\\tqdm\\auto.py:21: TqdmWarning: IProgress not found. Please update jupyter and ipywidgets. See https://ipywidgets.readthedocs.io/en/stable/user_install.html\n",
      "  from .autonotebook import tqdm as notebook_tqdm\n"
     ]
    }
   ],
   "execution_count": 1
  },
  {
   "metadata": {},
   "cell_type": "markdown",
   "source": "Read adata, splits information, cell representations",
   "id": "29a9670db9f686a5"
  },
  {
   "metadata": {
    "ExecuteTime": {
     "end_time": "2025-04-03T14:31:57.757764Z",
     "start_time": "2025-04-03T14:31:57.755344Z"
    }
   },
   "cell_type": "code",
   "source": [
    "ADATA_PATH = \"./data/sciplex_testing.h5ad\"\n",
    "DRUG_SPLIT = \"./data/drug_split_test.pkl\"\n",
    "DRUG_ENCODING_NAME = \"sm_coati_emb\"\n",
    "DRUG_ENCODING_SIZE = 256\n",
    "CELL_INPUT_NAME = \"X_2000_hvg\"\n",
    "CELL_INPUT_SIZE = 2000\n",
    "CELL_OUTPUT_NAME = \"X_2000_hvg\"\n",
    "CELL_OUTPUT_SIZE = 2000\n",
    "LOSS_FUNCTION = l2_loss\n",
    "N_TRIALS = 2\n",
    "GENE_NAMES = 'gene_names_2000'\n",
    "SCHEDULER_MODE = 'min'"
   ],
   "id": "7fc157eac8fc2766",
   "outputs": [],
   "execution_count": 2
  },
  {
   "cell_type": "code",
   "id": "833d21eb-762b-4c04-aa65-689a8abc47f3",
   "metadata": {
    "ExecuteTime": {
     "end_time": "2025-04-03T14:31:59.174895Z",
     "start_time": "2025-04-03T14:31:58.827761Z"
    }
   },
   "source": [
    "with open(DRUG_SPLIT, \"rb\") as f:\n",
    "    drug_splits = pkl.load(f)\n",
    "\n",
    "adata = ad.read_h5ad(ADATA_PATH)"
   ],
   "outputs": [],
   "execution_count": 3
  },
  {
   "metadata": {
    "ExecuteTime": {
     "end_time": "2025-04-03T14:39:45.807504Z",
     "start_time": "2025-04-03T14:39:45.802102Z"
    }
   },
   "cell_type": "code",
   "source": "adata",
   "id": "10b52be13816ba86",
   "outputs": [
    {
     "data": {
      "text/plain": [
       "AnnData object with n_obs × n_vars = 22166 × 17376\n",
       "    obs: 'cell_type', 'dose', 'dose_character', 'dose_pattern', 'g1s_score', 'g2m_score', 'pathway', 'pathway_level_1', 'pathway_level_2', 'product_dose', 'product_name', 'proliferation_index', 'replicate', 'size_factor', 'target', 'vehicle', 'n_genes', 'SMILES', 'pubchem_id', 'sm_coati_emb', 'sm_morgan_emb', 'condition_aggregate', 'match_index', 'split_50', 'split_100', 'split_200', 'split_300', 'split_400'\n",
       "    var: 'id', 'num_cells_expressed-0-0', 'num_cells_expressed-1-0', 'num_cells_expressed-1', 'n_cells'\n",
       "    uns: 'gene_names_2000', 'gene_names_3500', 'gene_names_5000'\n",
       "    obsm: 'X_2000_hvg', 'X_3500_hvg', 'X_5000_hvg', 'X_uce'"
      ]
     },
     "execution_count": 7,
     "metadata": {},
     "output_type": "execute_result"
    }
   ],
   "execution_count": 7
  },
  {
   "cell_type": "code",
   "id": "f6ea027c-39d3-4cde-b4be-6e0890a36cca",
   "metadata": {
    "ExecuteTime": {
     "end_time": "2025-04-03T14:37:51.530536Z",
     "start_time": "2025-04-03T14:31:59.849278Z"
    }
   },
   "source": [
    "performance = cross_validation_models(drug_splits=drug_splits,\n",
    "                                      loss_function=LOSS_FUNCTION,\n",
    "                                      adata=adata,\n",
    "                                      input_name=CELL_INPUT_NAME,\n",
    "                                      input_dim=CELL_INPUT_SIZE,\n",
    "                                      output_name=CELL_OUTPUT_NAME,\n",
    "                                      output_dim=CELL_OUTPUT_SIZE,\n",
    "                                      drug_rep_name=DRUG_ENCODING_NAME,\n",
    "                                      drug_emb_size=DRUG_ENCODING_SIZE,\n",
    "                                      n_trials=N_TRIALS,\n",
    "                                      gene_names_key=GENE_NAMES,\n",
    "                                      scheduler_mode=SCHEDULER_MODE,\n",
    "                                      run_name=\"test\")"
   ],
   "outputs": [
    {
     "name": "stderr",
     "output_type": "stream",
     "text": [
      "100%|██████████| 22166/22166 [00:02<00:00, 10393.54it/s]\n",
      "100%|██████████| 22166/22166 [00:02<00:00, 9276.86it/s]\n",
      "[I 2025-04-03 17:32:04,376] A new study created in memory with name: no-name-3d31f000-4e7b-4700-a084-58ca52278a04\n",
      "[I 2025-04-03 17:32:07,545] Trial 0 finished with value: 0.03590430940190951 and parameters: {'lr': 3.548163038778531e-05, 'weight_decay': 3.820431275383771e-06, 'scheduler_factor': 0.44169448967592684, 'scheduler_patience': 3, 'batch_size': 64, 'dropout': 0.2937699435340559, 'hidden_dims': 128}. Best is trial 0 with value: 0.03590430940190951.\n",
      "[I 2025-04-03 17:32:18,546] Trial 1 finished with value: 0.03393331895991464 and parameters: {'lr': 2.4901541292684264e-05, 'weight_decay': 4.3295107133509236e-05, 'scheduler_factor': 0.28146238882892716, 'scheduler_patience': 19, 'batch_size': 32, 'dropout': 0.08314597247052781, 'hidden_dims': 512}. Best is trial 1 with value: 0.03393331895991464.\n",
      "100%|██████████| 22166/22166 [00:03<00:00, 6329.40it/s]\n",
      "100%|██████████| 22166/22166 [00:02<00:00, 8879.52it/s] \n",
      "100%|██████████| 102/102 [00:00<00:00, 1670.00it/s]\n",
      "C:\\Users\\admin\\.conda\\envs\\scFiLM\\Lib\\site-packages\\anndata\\_core\\anndata.py:1756: UserWarning: Observation names are not unique. To make them unique, call `.obs_names_make_unique`.\n",
      "  utils.warn_names_duplicates(\"obs\")\n",
      "100%|██████████| 22166/22166 [00:02<00:00, 11000.61it/s]\n",
      "100%|██████████| 22166/22166 [00:02<00:00, 9273.84it/s]\n",
      "[I 2025-04-03 17:32:51,215] A new study created in memory with name: no-name-7f4f4552-8d25-4b55-9e29-843e08051056\n",
      "[I 2025-04-03 17:33:03,738] Trial 0 finished with value: 0.026033871772664564 and parameters: {'lr': 1.0699960227273058e-05, 'weight_decay': 0.001896320724339682, 'scheduler_factor': 0.48292619604930087, 'scheduler_patience': 17, 'batch_size': 64, 'dropout': 0.10233875913913569, 'hidden_dims': 2048}. Best is trial 0 with value: 0.026033871772664564.\n",
      "[I 2025-04-03 17:33:04,766] Trial 1 finished with value: 0.03562667886061328 and parameters: {'lr': 2.4011876368839478e-05, 'weight_decay': 1.5366906625567208e-05, 'scheduler_factor': 0.4732644166946406, 'scheduler_patience': 3, 'batch_size': 256, 'dropout': 0.11717873316879117, 'hidden_dims': 64}. Best is trial 0 with value: 0.026033871772664564.\n",
      "100%|██████████| 22166/22166 [00:03<00:00, 5920.60it/s]\n",
      "100%|██████████| 22166/22166 [00:02<00:00, 9481.54it/s] \n",
      "100%|██████████| 51/51 [00:00<00:00, 927.28it/s]\n",
      "C:\\Users\\admin\\.conda\\envs\\scFiLM\\Lib\\site-packages\\anndata\\_core\\anndata.py:1756: UserWarning: Observation names are not unique. To make them unique, call `.obs_names_make_unique`.\n",
      "  utils.warn_names_duplicates(\"obs\")\n",
      "100%|██████████| 22166/22166 [00:02<00:00, 10905.53it/s]\n",
      "100%|██████████| 22166/22166 [00:02<00:00, 8635.62it/s]\n",
      "[I 2025-04-03 17:33:41,166] A new study created in memory with name: no-name-d9687d8a-01a5-41fd-af27-158a939f491d\n",
      "[I 2025-04-03 17:33:45,982] Trial 0 finished with value: 0.025392846891952453 and parameters: {'lr': 0.00024207025551408964, 'weight_decay': 0.0018204986072579044, 'scheduler_factor': 0.12612463292136136, 'scheduler_patience': 9, 'batch_size': 32, 'dropout': 0.24186488447729954, 'hidden_dims': 64}. Best is trial 0 with value: 0.025392846891952453.\n",
      "[I 2025-04-03 17:33:48,122] Trial 1 finished with value: 0.027178516956391157 and parameters: {'lr': 0.000490893425631724, 'weight_decay': 7.47888949938355e-06, 'scheduler_factor': 0.3895956134993577, 'scheduler_patience': 15, 'batch_size': 128, 'dropout': 0.18289163352602855, 'hidden_dims': 2048}. Best is trial 0 with value: 0.025392846891952453.\n",
      "100%|██████████| 22166/22166 [00:03<00:00, 6279.65it/s]\n",
      "100%|██████████| 22166/22166 [00:02<00:00, 9508.38it/s] \n",
      "100%|██████████| 102/102 [00:00<00:00, 1259.18it/s]\n",
      "C:\\Users\\admin\\.conda\\envs\\scFiLM\\Lib\\site-packages\\anndata\\_core\\anndata.py:1756: UserWarning: Observation names are not unique. To make them unique, call `.obs_names_make_unique`.\n",
      "  utils.warn_names_duplicates(\"obs\")\n",
      "100%|██████████| 22166/22166 [00:02<00:00, 11014.41it/s]\n",
      "100%|██████████| 22166/22166 [00:02<00:00, 8642.70it/s]\n",
      "[I 2025-04-03 17:34:08,707] A new study created in memory with name: no-name-1e92349a-4aa0-41c5-8cd4-6d3990314944\n",
      "[I 2025-04-03 17:34:13,611] Trial 0 finished with value: 0.04025627258751127 and parameters: {'lr': 3.175236487565015e-06, 'weight_decay': 1.6412450442115683e-05, 'scheduler_factor': 0.26552086854252166, 'scheduler_patience': 20, 'batch_size': 128, 'dropout': 0.16639131026449822, 'hidden_dims': 1024}. Best is trial 0 with value: 0.04025627258751127.\n",
      "[I 2025-04-03 17:34:36,753] Trial 1 finished with value: 0.031195908488932056 and parameters: {'lr': 2.1791605235174798e-05, 'weight_decay': 0.00017484974756276582, 'scheduler_factor': 0.11904276858647474, 'scheduler_patience': 20, 'batch_size': 32, 'dropout': 0.17050093275946876, 'hidden_dims': 2048}. Best is trial 1 with value: 0.031195908488932056.\n",
      "100%|██████████| 22166/22166 [00:03<00:00, 5998.69it/s]\n",
      "100%|██████████| 22166/22166 [00:02<00:00, 9122.04it/s]\n",
      "100%|██████████| 102/102 [00:00<00:00, 1429.44it/s]\n",
      "C:\\Users\\admin\\.conda\\envs\\scFiLM\\Lib\\site-packages\\anndata\\_core\\anndata.py:1756: UserWarning: Observation names are not unique. To make them unique, call `.obs_names_make_unique`.\n",
      "  utils.warn_names_duplicates(\"obs\")\n",
      "100%|██████████| 22166/22166 [00:02<00:00, 10270.86it/s]\n",
      "100%|██████████| 22166/22166 [00:02<00:00, 8239.71it/s]\n",
      "[I 2025-04-03 17:35:35,807] A new study created in memory with name: no-name-593a3429-2e55-4cb5-a5c2-dcff2bcfff46\n",
      "[I 2025-04-03 17:35:56,760] Trial 0 finished with value: 0.03209138866251623 and parameters: {'lr': 2.446755743248679e-06, 'weight_decay': 1.5745933208722886e-05, 'scheduler_factor': 0.1407237457789839, 'scheduler_patience': 2, 'batch_size': 16, 'dropout': 0.05716051545641383, 'hidden_dims': 128}. Best is trial 0 with value: 0.03209138866251623.\n",
      "[I 2025-04-03 17:37:11,378] Trial 1 finished with value: 0.061221762564680385 and parameters: {'lr': 1.9326205735397077e-06, 'weight_decay': 9.707179905059763e-06, 'scheduler_factor': 0.2267053678945041, 'scheduler_patience': 10, 'batch_size': 16, 'dropout': 0.23334633853083586, 'hidden_dims': 4096}. Best is trial 0 with value: 0.03209138866251623.\n",
      "100%|██████████| 22166/22166 [00:03<00:00, 5938.30it/s]\n",
      "100%|██████████| 22166/22166 [00:02<00:00, 9044.72it/s]\n",
      "100%|██████████| 204/204 [00:00<00:00, 2179.43it/s]\n",
      "C:\\Users\\admin\\.conda\\envs\\scFiLM\\Lib\\site-packages\\anndata\\_core\\anndata.py:1756: UserWarning: Observation names are not unique. To make them unique, call `.obs_names_make_unique`.\n",
      "  utils.warn_names_duplicates(\"obs\")\n"
     ]
    }
   ],
   "execution_count": 4
  },
  {
   "cell_type": "code",
   "id": "d889400d-ca33-4048-99b9-9e03ae4272db",
   "metadata": {
    "ExecuteTime": {
     "end_time": "2025-04-03T14:38:01.743012Z",
     "start_time": "2025-04-03T14:38:01.739503Z"
    }
   },
   "source": "print(performance)",
   "outputs": [
    {
     "name": "stdout",
     "output_type": "stream",
     "text": [
      "{0: {'key': 'test', 'mse_A549': np.float32(0.092338674), 'mse_K562': np.float32(0.10662203), 'mse_MCF7': np.float32(0.10835916), 'r2_A549': np.float64(-4.143093109130859), 'r2_K562': np.float64(-8.82184886932373), 'r2_MCF7': np.float64(-20.8350887298584), 'rank_logfc_A549': np.float64(0.5), 'rank_logfc_K562': np.float64(0.5), 'rank_logfc_MCF7': np.float64(0.49999999999999994), 'edistance_A549': np.float64(369.35471036568447), 'edistance_K562': np.float64(426.4881808196507), 'edistance_MCF7': np.float64(433.43673219807357)}, 1: {'key': 'test', 'mse_A549': np.float32(0.1947694), 'mse_K562': np.float32(0.24085543), 'mse_MCF7': np.float32(0.23698658), 'r2_A549': np.float64(-9.848292350769043), 'r2_K562': np.float64(-21.187213897705078), 'r2_MCF7': np.float64(-46.75435256958008), 'rank_logfc_A549': np.float64(0.5), 'rank_logfc_K562': np.float64(0.5), 'rank_logfc_MCF7': np.float64(0.49999999999999994), 'edistance_A549': np.float64(779.0776495949892), 'edistance_K562': np.float64(963.4213970875828), 'edistance_MCF7': np.float64(947.9460477550801)}, 2: {'key': 'test', 'mse_A549': np.float32(0.005594712), 'mse_K562': np.float32(0.00554498), 'mse_MCF7': np.float32(0.002820345), 'r2_A549': np.float64(0.6883848905563354), 'r2_K562': np.float64(0.48920542001724243), 'r2_MCF7': np.float64(0.4316819906234741), 'rank_logfc_A549': np.float64(0.5), 'rank_logfc_K562': np.float64(0.5), 'rank_logfc_MCF7': np.float64(0.5), 'edistance_A549': np.float64(22.378846742928), 'edistance_K562': np.float64(22.179916648693958), 'edistance_MCF7': np.float64(11.281384315522672)}, 3: {'key': 'test', 'mse_A549': np.float32(0.20681687), 'mse_K562': np.float32(0.256598), 'mse_MCF7': np.float32(0.24351855), 'r2_A549': np.float64(-10.519312858581543), 'r2_K562': np.float64(-22.637392044067383), 'r2_MCF7': np.float64(-48.07061004638672), 'rank_logfc_A549': np.float64(0.5), 'rank_logfc_K562': np.float64(0.49999999999999994), 'rank_logfc_MCF7': np.float64(0.5), 'edistance_A549': np.float64(827.2676737694526), 'edistance_K562': np.float64(1026.3919757970975), 'edistance_MCF7': np.float64(974.074282182592)}, 4: {'key': 'test', 'mse_A549': np.float32(0.0037468348), 'mse_K562': np.float32(0.004398116), 'mse_MCF7': np.float32(0.0022757296), 'r2_A549': np.float64(0.7913082838058472), 'r2_K562': np.float64(0.5948526859283447), 'r2_MCF7': np.float64(0.5414254069328308), 'rank_logfc_A549': np.float64(0.49999999999999994), 'rank_logfc_K562': np.float64(0.5), 'rank_logfc_MCF7': np.float64(0.49999999999999994), 'edistance_A549': np.float64(14.987339660356183), 'edistance_K562': np.float64(17.59246342339423), 'edistance_MCF7': np.float64(9.102920664856747)}}\n"
     ]
    }
   ],
   "execution_count": 6
  },
  {
   "cell_type": "code",
   "id": "c4e64473-0c2e-4cd1-be0d-7dfd09ec5863",
   "metadata": {
    "ExecuteTime": {
     "end_time": "2025-04-03T14:31:48.467938Z",
     "start_time": "2025-04-03T14:31:48.465939Z"
    }
   },
   "source": [],
   "outputs": [],
   "execution_count": null
  },
  {
   "metadata": {},
   "cell_type": "code",
   "outputs": [],
   "execution_count": null,
   "source": "",
   "id": "9408a318d161be9a"
  }
 ],
 "metadata": {
  "kernelspec": {
   "display_name": "Python 3 (ipykernel)",
   "language": "python",
   "name": "python3"
  },
  "language_info": {
   "codemirror_mode": {
    "name": "ipython",
    "version": 3
   },
   "file_extension": ".py",
   "mimetype": "text/x-python",
   "name": "python",
   "nbconvert_exporter": "python",
   "pygments_lexer": "ipython3",
   "version": "3.12.7"
  }
 },
 "nbformat": 4,
 "nbformat_minor": 5
}
