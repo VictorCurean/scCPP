{
 "cells": [
  {
   "cell_type": "code",
   "execution_count": 1,
   "id": "fbbcf75e-6cd4-4aef-ac03-a446902b7cf5",
   "metadata": {},
   "outputs": [],
   "source": [
    "import anndata as ad\n",
    "import pickle as pkl\n",
    "\n",
    "from src.evaluator.MLP_evaluator import get_models_results\n",
    "from src.evaluator.evaluator_utils import l2_loss"
   ]
  },
  {
   "cell_type": "code",
   "execution_count": 2,
   "id": "b95bdc9c-882f-4e2b-8c2f-70cedec6bf41",
   "metadata": {},
   "outputs": [],
   "source": [
    "def train_different_featno(adata_path=None, run_name=None, res_savename=None, input_dim=None, output_dim=None):\n",
    "    DRUG_ENCODING_NAME = \"fmfp\"\n",
    "    DRUG_ENCODING_SIZE = 1024\n",
    "    N_TRIALS = 50\n",
    "    SCHEDULER_MODE = 'min'\n",
    "\n",
    "    with open(\"./data/drug_splits/train_drugs_rand.pkl\", 'rb') as f:\n",
    "        drugs_train_rand = pkl.load(f)\n",
    "\n",
    "    with open(\"./data/drug_splits/val_drugs_rand.pkl\", 'rb') as f:\n",
    "        drugs_val_rand = pkl.load(f)\n",
    "\n",
    "    with open(\"./data/drug_splits/test_drugs_rand.pkl\", 'rb') as f:\n",
    "        drugs_test_rand = pkl.load(f)\n",
    "\n",
    "    drug_splits = dict()\n",
    "    drug_splits['train'] = drugs_train_rand\n",
    "    drug_splits['valid'] = drugs_val_rand\n",
    "    drug_splits['test'] = drugs_test_rand\n",
    "\n",
    "    adata = ad.read_h5ad(adata_path)\n",
    "\n",
    "    get_models_results(drug_splits=drug_splits,\n",
    "                          loss_function=l2_loss,\n",
    "                          adata=adata,\n",
    "                          input_dim=input_dim,\n",
    "                          output_dim=output_dim,\n",
    "                          drug_rep_name=DRUG_ENCODING_NAME,\n",
    "                          drug_emb_size=DRUG_ENCODING_SIZE,\n",
    "                          n_trials=N_TRIALS,\n",
    "                          scheduler_mode=SCHEDULER_MODE,\n",
    "                          run_name=run_name,\n",
    "                          save_path=res_savename,\n",
    "                          add_relu=True\n",
    "                      )"
   ]
  },
  {
   "cell_type": "code",
   "execution_count": 3,
   "id": "6dd3ea7e-bc21-4f89-8d73-eb59dbfadff0",
   "metadata": {},
   "outputs": [
    {
     "name": "stdout",
     "output_type": "stream",
     "text": [
      "Loading Datasets ...\n"
     ]
    },
    {
     "name": "stderr",
     "output_type": "stream",
     "text": [
      "100%|█████████████████████████████████████████████████████████████████████████████████████████████████████████████████████████████████████| 557340/557340 [04:04<00:00, 2284.09it/s]\n",
      "100%|█████████████████████████████████████████████████████████████████████████████████████████████████████████████████████████████████████| 557340/557340 [01:38<00:00, 5671.77it/s]\n"
     ]
    },
    {
     "name": "stdout",
     "output_type": "stream",
     "text": [
      "Optimizing Hyperparameters with Optuna ...\n"
     ]
    },
    {
     "name": "stderr",
     "output_type": "stream",
     "text": [
      "[I 2025-09-17 16:11:33,180] A new study created in RDB with name: mlp_hvg_500\n"
     ]
    },
    {
     "name": "stdout",
     "output_type": "stream",
     "text": [
      "Epoch:\t 0 Val Loss:\t 0.05369061047947684\n",
      "Epoch:\t 1 Val Loss:\t 0.04706379983487517\n",
      "Epoch:\t 2 Val Loss:\t 0.044667747218248455\n",
      "Epoch:\t 3 Val Loss:\t 0.043321873065690665\n",
      "Epoch:\t 4 Val Loss:\t 0.042327481473601145\n",
      "Epoch:\t 5 Val Loss:\t 0.04155631858075774\n",
      "Epoch:\t 6 Val Loss:\t 0.04099411973946316\n",
      "Epoch:\t 7 Val Loss:\t 0.04067450761795044\n",
      "Epoch:\t 8 Val Loss:\t 0.04043651304619257\n",
      "Epoch:\t 9 Val Loss:\t 0.04022841660609079\n",
      "Epoch:\t 10 Val Loss:\t 0.04004290051931559\n",
      "Epoch:\t 11 Val Loss:\t 0.03995436074775319\n",
      "Epoch:\t 12 Val Loss:\t 0.03983503219693206\n",
      "Epoch:\t 13 Val Loss:\t 0.03976314788640931\n",
      "Epoch:\t 14 Val Loss:\t 0.039699308331622635\n",
      "Epoch:\t 15 Val Loss:\t 0.03962511503419211\n",
      "Epoch:\t 16 Val Loss:\t 0.03957995726445387\n",
      "Epoch:\t 17 Val Loss:\t 0.03953185420223447\n",
      "Epoch:\t 18 Val Loss:\t 0.03946755004310331\n",
      "Epoch:\t 19 Val Loss:\t 0.03941900140151035\n",
      "Epoch:\t 20 Val Loss:\t 0.039400742220324136\n",
      "Epoch:\t 21 Val Loss:\t 0.03936455648305804\n",
      "Epoch:\t 22 Val Loss:\t 0.039352750604928925\n",
      "Epoch:\t 23 Val Loss:\t 0.03932785944536675\n",
      "Epoch:\t 24 Val Loss:\t 0.03932253556369349\n",
      "Epoch:\t 25 Val Loss:\t 0.03928593817751768\n",
      "Epoch:\t 26 Val Loss:\t 0.03924870710213517\n",
      "Epoch:\t 27 Val Loss:\t 0.03925686553120613\n",
      "Epoch:\t 28 Val Loss:\t 0.03926786119334919\n",
      "Epoch:\t 29 Val Loss:\t 0.039230905707145845\n",
      "Epoch:\t 30 Val Loss:\t 0.03925363515871902\n",
      "Epoch:\t 31 Val Loss:\t 0.03921144835131113\n",
      "Epoch:\t 32 Val Loss:\t 0.03920185521764811\n",
      "Epoch:\t 33 Val Loss:\t 0.039201279209796776\n",
      "Epoch:\t 34 Val Loss:\t 0.03919708581511364\n",
      "Epoch:\t 35 Val Loss:\t 0.039150078066213186\n",
      "Epoch:\t 36 Val Loss:\t 0.039154365589452345\n",
      "Epoch:\t 37 Val Loss:\t 0.03916634448565716\n",
      "Epoch:\t 38 Val Loss:\t 0.039142314041423244\n",
      "Epoch:\t 39 Val Loss:\t 0.039151382636885314\n",
      "Epoch:\t 40 Val Loss:\t 0.03914256993421288\n",
      "Epoch:\t 41 Val Loss:\t 0.03912147817223571\n",
      "Epoch:\t 42 Val Loss:\t 0.039136868931872903\n",
      "Epoch:\t 43 Val Loss:\t 0.03910316386541655\n",
      "Epoch:\t 44 Val Loss:\t 0.03910538021388442\n",
      "Epoch:\t 45 Val Loss:\t 0.03909856191034927\n",
      "Epoch:\t 46 Val Loss:\t 0.0391043801207182\n",
      "Epoch:\t 47 Val Loss:\t 0.03908555762365807\n",
      "Epoch:\t 48 Val Loss:\t 0.039114359177129215\n",
      "Epoch:\t 49 Val Loss:\t 0.03912562205521173\n",
      "Epoch:\t 50 Val Loss:\t 0.039141291102697685\n",
      "Epoch:\t 51 Val Loss:\t 0.039178691336581875\n",
      "Epoch:\t 52 Val Loss:\t 0.03915041504904281\n",
      "Epoch:\t 53 Val Loss:\t 0.03919609624372665\n",
      "Epoch:\t 54 Val Loss:\t 0.03919164987151013\n",
      "Epoch:\t 55 Val Loss:\t 0.039229057581965314\n",
      "Epoch:\t 56 Val Loss:\t 0.039256848256255306\n"
     ]
    },
    {
     "name": "stderr",
     "output_type": "stream",
     "text": [
      "[I 2025-09-17 16:13:37,707] Trial 0 finished with value: 0.03908555762365807 and parameters: {'lr': 1e-05, 'weight_decay': 0.0001, 'scheduler_factor': 0.1, 'scheduler_patience': 20, 'batch_size': 256, 'dropout': 0.05, 'hidden_dims': 128}. Best is trial 0 with value: 0.03908555762365807.\n"
     ]
    },
    {
     "name": "stdout",
     "output_type": "stream",
     "text": [
      "Epoch:\t 57 Val Loss:\t 0.03938870610192765\n",
      "Epoch:\t 0 Val Loss:\t 0.03913296876951706\n",
      "Epoch:\t 1 Val Loss:\t 0.03891230906511462\n",
      "Epoch:\t 2 Val Loss:\t 0.038711049628638944\n",
      "Epoch:\t 3 Val Loss:\t 0.03853984388501145\n",
      "Epoch:\t 4 Val Loss:\t 0.03844034435270831\n",
      "Epoch:\t 5 Val Loss:\t 0.03840888643334078\n",
      "Epoch:\t 6 Val Loss:\t 0.038367511106784956\n",
      "Epoch:\t 7 Val Loss:\t 0.03833908527916254\n",
      "Epoch:\t 8 Val Loss:\t 0.03834963151535323\n",
      "Epoch:\t 9 Val Loss:\t 0.03829399407083212\n",
      "Epoch:\t 10 Val Loss:\t 0.03827150212817414\n",
      "Epoch:\t 11 Val Loss:\t 0.038270872575772365\n",
      "Epoch:\t 12 Val Loss:\t 0.03827869244093119\n",
      "Epoch:\t 13 Val Loss:\t 0.03825877164165641\n",
      "Epoch:\t 14 Val Loss:\t 0.03827945995902599\n",
      "Epoch:\t 15 Val Loss:\t 0.03828389069368673\n",
      "Epoch:\t 16 Val Loss:\t 0.03828585960490759\n",
      "Epoch:\t 17 Val Loss:\t 0.03823887549860533\n",
      "Epoch:\t 18 Val Loss:\t 0.03822943564331115\n",
      "Epoch:\t 19 Val Loss:\t 0.03830317351533923\n",
      "Epoch:\t 20 Val Loss:\t 0.03828134872885638\n",
      "Epoch:\t 21 Val Loss:\t 0.0382486404981031\n",
      "Epoch:\t 22 Val Loss:\t 0.038227512167636736\n",
      "Epoch:\t 23 Val Loss:\t 0.038284174907346105\n",
      "Epoch:\t 24 Val Loss:\t 0.038225224051018095\n",
      "Epoch:\t 25 Val Loss:\t 0.03825358300534792\n",
      "Epoch:\t 26 Val Loss:\t 0.03825897136053374\n",
      "Epoch:\t 27 Val Loss:\t 0.03827430006809706\n",
      "Epoch:\t 28 Val Loss:\t 0.03828569641553385\n",
      "Epoch:\t 29 Val Loss:\t 0.03824167509758195\n",
      "Epoch:\t 30 Val Loss:\t 0.038287945299647574\n",
      "Epoch:\t 31 Val Loss:\t 0.0382583326378534\n",
      "Epoch:\t 32 Val Loss:\t 0.03828654435658178\n",
      "Epoch:\t 33 Val Loss:\t 0.038276911812812786\n"
     ]
    },
    {
     "name": "stderr",
     "output_type": "stream",
     "text": [
      "[I 2025-09-17 16:14:52,749] Trial 1 finished with value: 0.038225224051018095 and parameters: {'lr': 0.001, 'weight_decay': 1e-06, 'scheduler_factor': 0.8, 'scheduler_patience': 20, 'batch_size': 256, 'dropout': 0.15, 'hidden_dims': 128}. Best is trial 1 with value: 0.038225224051018095.\n"
     ]
    },
    {
     "name": "stdout",
     "output_type": "stream",
     "text": [
      "Epoch:\t 34 Val Loss:\t 0.038281855377000434\n",
      "Epoch:\t 0 Val Loss:\t 0.07984209058938264\n",
      "Epoch:\t 1 Val Loss:\t 0.060236510681150685\n",
      "Epoch:\t 2 Val Loss:\t 0.05228454727380948\n",
      "Epoch:\t 3 Val Loss:\t 0.04875616534125237\n",
      "Epoch:\t 4 Val Loss:\t 0.04709563378794129\n",
      "Epoch:\t 5 Val Loss:\t 0.04609954283593285\n",
      "Epoch:\t 6 Val Loss:\t 0.045401298894214855\n",
      "Epoch:\t 7 Val Loss:\t 0.04481267107869136\n",
      "Epoch:\t 8 Val Loss:\t 0.04434992919452099\n",
      "Epoch:\t 9 Val Loss:\t 0.04398112328729563\n",
      "Epoch:\t 10 Val Loss:\t 0.043643956305188726\n",
      "Epoch:\t 11 Val Loss:\t 0.043377116422031535\n",
      "Epoch:\t 12 Val Loss:\t 0.04308877185281284\n",
      "Epoch:\t 13 Val Loss:\t 0.04283209121272262\n",
      "Epoch:\t 14 Val Loss:\t 0.04259769896285459\n",
      "Epoch:\t 15 Val Loss:\t 0.04241757482965233\n",
      "Epoch:\t 16 Val Loss:\t 0.04222057681015837\n",
      "Epoch:\t 17 Val Loss:\t 0.042094397043828766\n",
      "Epoch:\t 18 Val Loss:\t 0.04191283056129562\n",
      "Epoch:\t 19 Val Loss:\t 0.04174360256040691\n",
      "Epoch:\t 20 Val Loss:\t 0.04158331397985748\n",
      "Epoch:\t 21 Val Loss:\t 0.04146172525090761\n",
      "Epoch:\t 22 Val Loss:\t 0.041366495458143096\n",
      "Epoch:\t 23 Val Loss:\t 0.041279594042921454\n",
      "Epoch:\t 24 Val Loss:\t 0.04117517558583053\n",
      "Epoch:\t 25 Val Loss:\t 0.04103555971416931\n",
      "Epoch:\t 26 Val Loss:\t 0.040955949165835615\n",
      "Epoch:\t 27 Val Loss:\t 0.04086780328948254\n",
      "Epoch:\t 28 Val Loss:\t 0.04078873583092922\n",
      "Epoch:\t 29 Val Loss:\t 0.04072943901584747\n",
      "Epoch:\t 30 Val Loss:\t 0.04065411135935063\n",
      "Epoch:\t 31 Val Loss:\t 0.04060159013125263\n",
      "Epoch:\t 32 Val Loss:\t 0.040533884330009054\n",
      "Epoch:\t 33 Val Loss:\t 0.04050786532764512\n",
      "Epoch:\t 34 Val Loss:\t 0.040440150870834496\n",
      "Epoch:\t 35 Val Loss:\t 0.04037708557631634\n",
      "Epoch:\t 36 Val Loss:\t 0.040344187232658146\n",
      "Epoch:\t 37 Val Loss:\t 0.04029689859663776\n",
      "Epoch:\t 38 Val Loss:\t 0.04028655743955458\n",
      "Epoch:\t 39 Val Loss:\t 0.040246051752401146\n",
      "Epoch:\t 40 Val Loss:\t 0.04019924966914798\n",
      "Epoch:\t 41 Val Loss:\t 0.040168113067625015\n",
      "Epoch:\t 42 Val Loss:\t 0.04015514472852116\n",
      "Epoch:\t 43 Val Loss:\t 0.04010916805667121\n",
      "Epoch:\t 44 Val Loss:\t 0.040090830860341466\n",
      "Epoch:\t 45 Val Loss:\t 0.04005850247960888\n",
      "Epoch:\t 46 Val Loss:\t 0.04004017730502024\n",
      "Epoch:\t 47 Val Loss:\t 0.040010941724328626\n",
      "Epoch:\t 48 Val Loss:\t 0.03997539101940829\n",
      "Epoch:\t 49 Val Loss:\t 0.03995116569672935\n",
      "Epoch:\t 50 Val Loss:\t 0.03992845543144264\n",
      "Epoch:\t 51 Val Loss:\t 0.03992527609303784\n",
      "Epoch:\t 52 Val Loss:\t 0.03989077225742855\n",
      "Epoch:\t 53 Val Loss:\t 0.03987542602355818\n",
      "Epoch:\t 54 Val Loss:\t 0.039861503644531615\n",
      "Epoch:\t 55 Val Loss:\t 0.03982902596446142\n",
      "Epoch:\t 56 Val Loss:\t 0.03982134952137418\n",
      "Epoch:\t 57 Val Loss:\t 0.03981458624818392\n",
      "Epoch:\t 58 Val Loss:\t 0.03979401131410424\n",
      "Epoch:\t 59 Val Loss:\t 0.03976922060182355\n",
      "Epoch:\t 60 Val Loss:\t 0.03974542130784291\n",
      "Epoch:\t 61 Val Loss:\t 0.03972649392774642\n",
      "Epoch:\t 62 Val Loss:\t 0.03972645490954908\n",
      "Epoch:\t 63 Val Loss:\t 0.039704526498758004\n",
      "Epoch:\t 64 Val Loss:\t 0.039695301944439695\n",
      "Epoch:\t 65 Val Loss:\t 0.039679994962408566\n",
      "Epoch:\t 66 Val Loss:\t 0.039658274045095074\n",
      "Epoch:\t 67 Val Loss:\t 0.03965237985919992\n",
      "Epoch:\t 68 Val Loss:\t 0.03962442623051132\n",
      "Epoch:\t 69 Val Loss:\t 0.03962135873518616\n",
      "Epoch:\t 70 Val Loss:\t 0.03961797169562208\n",
      "Epoch:\t 71 Val Loss:\t 0.03959613420181712\n",
      "Epoch:\t 72 Val Loss:\t 0.0395811441896373\n",
      "Epoch:\t 73 Val Loss:\t 0.039562207678036546\n",
      "Epoch:\t 74 Val Loss:\t 0.039564421411244576\n",
      "Epoch:\t 75 Val Loss:\t 0.03954519975701137\n",
      "Epoch:\t 76 Val Loss:\t 0.039538239893632206\n",
      "Epoch:\t 77 Val Loss:\t 0.03953118493150959\n",
      "Epoch:\t 78 Val Loss:\t 0.03951047678693315\n",
      "Epoch:\t 79 Val Loss:\t 0.039503480546808134\n",
      "Epoch:\t 80 Val Loss:\t 0.039489485057336945\n",
      "Epoch:\t 81 Val Loss:\t 0.039489846055706344\n",
      "Epoch:\t 82 Val Loss:\t 0.039490032765871555\n",
      "Epoch:\t 83 Val Loss:\t 0.03947122227811578\n",
      "Epoch:\t 84 Val Loss:\t 0.039484057967030764\n",
      "Epoch:\t 85 Val Loss:\t 0.039470343775917426\n",
      "Epoch:\t 86 Val Loss:\t 0.039445404538778754\n",
      "Epoch:\t 87 Val Loss:\t 0.03944781509149088\n",
      "Epoch:\t 88 Val Loss:\t 0.03943783904098052\n",
      "Epoch:\t 89 Val Loss:\t 0.039424402743110674\n",
      "Epoch:\t 90 Val Loss:\t 0.039419675743451794\n",
      "Epoch:\t 91 Val Loss:\t 0.03940490595606977\n",
      "Epoch:\t 92 Val Loss:\t 0.039408960698754394\n",
      "Epoch:\t 93 Val Loss:\t 0.03939374416426222\n",
      "Epoch:\t 94 Val Loss:\t 0.03938243678542726\n",
      "Epoch:\t 95 Val Loss:\t 0.03938210903559828\n",
      "Epoch:\t 96 Val Loss:\t 0.0393707047927255\n",
      "Epoch:\t 97 Val Loss:\t 0.039392706355064866\n",
      "Epoch:\t 98 Val Loss:\t 0.039352802981586825\n"
     ]
    },
    {
     "name": "stderr",
     "output_type": "stream",
     "text": [
      "[I 2025-09-17 16:19:23,853] Trial 2 finished with value: 0.039352802981586825 and parameters: {'lr': 1e-06, 'weight_decay': 0.0001, 'scheduler_factor': 0.8, 'scheduler_patience': 20, 'batch_size': 128, 'dropout': 0.15, 'hidden_dims': 256}. Best is trial 1 with value: 0.038225224051018095.\n"
     ]
    },
    {
     "name": "stdout",
     "output_type": "stream",
     "text": [
      "Epoch:\t 99 Val Loss:\t 0.039375366813975896\n",
      "Epoch:\t 0 Val Loss:\t 0.040326913773286635\n",
      "Epoch:\t 1 Val Loss:\t 0.03966800137947592\n",
      "Epoch:\t 2 Val Loss:\t 0.039402967610944854\n",
      "Epoch:\t 3 Val Loss:\t 0.03935072112625138\n",
      "Epoch:\t 4 Val Loss:\t 0.039271787336825216\n",
      "Epoch:\t 5 Val Loss:\t 0.039207382724727485\n",
      "Epoch:\t 6 Val Loss:\t 0.039137198528086684\n",
      "Epoch:\t 7 Val Loss:\t 0.038966145396717194\n",
      "Epoch:\t 8 Val Loss:\t 0.03901100279190053\n",
      "Epoch:\t 9 Val Loss:\t 0.03892218948284577\n",
      "Epoch:\t 10 Val Loss:\t 0.03889744420742462\n",
      "Epoch:\t 11 Val Loss:\t 0.03880860679215047\n",
      "Epoch:\t 12 Val Loss:\t 0.038753279211144555\n",
      "Epoch:\t 13 Val Loss:\t 0.03860260758215819\n",
      "Epoch:\t 14 Val Loss:\t 0.03863621553737112\n",
      "Epoch:\t 15 Val Loss:\t 0.038639639814694725\n",
      "Epoch:\t 16 Val Loss:\t 0.03851755646800538\n",
      "Epoch:\t 17 Val Loss:\t 0.03851490589799781\n",
      "Epoch:\t 18 Val Loss:\t 0.03850170987702552\n",
      "Epoch:\t 19 Val Loss:\t 0.038464742185900576\n",
      "Epoch:\t 20 Val Loss:\t 0.03844786433634996\n",
      "Epoch:\t 21 Val Loss:\t 0.03838894812392372\n",
      "Epoch:\t 22 Val Loss:\t 0.03846305381164872\n",
      "Epoch:\t 23 Val Loss:\t 0.03840966788353128\n",
      "Epoch:\t 24 Val Loss:\t 0.038428590984519624\n",
      "Epoch:\t 25 Val Loss:\t 0.03835753701912817\n",
      "Epoch:\t 26 Val Loss:\t 0.03835557829307416\n",
      "Epoch:\t 27 Val Loss:\t 0.03834382376690913\n",
      "Epoch:\t 28 Val Loss:\t 0.03834834939104686\n",
      "Epoch:\t 29 Val Loss:\t 0.03835265500672187\n",
      "Epoch:\t 30 Val Loss:\t 0.03835377075063642\n",
      "Epoch:\t 31 Val Loss:\t 0.03834055483332564\n",
      "Epoch:\t 32 Val Loss:\t 0.0383314551303161\n",
      "Epoch:\t 33 Val Loss:\t 0.038366480385419524\n",
      "Epoch:\t 34 Val Loss:\t 0.03834784325130033\n",
      "Epoch:\t 35 Val Loss:\t 0.038336393260045475\n",
      "Epoch:\t 36 Val Loss:\t 0.038358424678791\n",
      "Epoch:\t 37 Val Loss:\t 0.038319423673598745\n",
      "Epoch:\t 38 Val Loss:\t 0.038313576858598875\n",
      "Epoch:\t 39 Val Loss:\t 0.03831185230446609\n",
      "Epoch:\t 40 Val Loss:\t 0.03834927862382447\n",
      "Epoch:\t 41 Val Loss:\t 0.03831449836388698\n",
      "Epoch:\t 42 Val Loss:\t 0.03832385670415339\n",
      "Epoch:\t 43 Val Loss:\t 0.038325860425743354\n",
      "Epoch:\t 44 Val Loss:\t 0.03829152244992303\n",
      "Epoch:\t 45 Val Loss:\t 0.03833571776020818\n",
      "Epoch:\t 46 Val Loss:\t 0.038316432853920536\n",
      "Epoch:\t 47 Val Loss:\t 0.0383140144893482\n",
      "Epoch:\t 48 Val Loss:\t 0.03830736268497787\n",
      "Epoch:\t 49 Val Loss:\t 0.038300282381362474\n",
      "Epoch:\t 50 Val Loss:\t 0.038311695018036857\n",
      "Epoch:\t 51 Val Loss:\t 0.038284119311611964\n",
      "Epoch:\t 52 Val Loss:\t 0.038314588603744246\n",
      "Epoch:\t 53 Val Loss:\t 0.03830917377747448\n",
      "Epoch:\t 54 Val Loss:\t 0.038326091480275895\n",
      "Epoch:\t 55 Val Loss:\t 0.03832254027698998\n",
      "Epoch:\t 56 Val Loss:\t 0.03833916595337629\n",
      "Epoch:\t 57 Val Loss:\t 0.038335104839623185\n",
      "Epoch:\t 58 Val Loss:\t 0.038334832095154904\n",
      "Epoch:\t 59 Val Loss:\t 0.038343815758184\n",
      "Epoch:\t 60 Val Loss:\t 0.038331495044140726\n"
     ]
    },
    {
     "name": "stderr",
     "output_type": "stream",
     "text": [
      "[I 2025-09-17 16:22:12,745] Trial 3 finished with value: 0.038284119311611964 and parameters: {'lr': 0.0001, 'weight_decay': 1e-05, 'scheduler_factor': 0.1, 'scheduler_patience': 5, 'batch_size': 128, 'dropout': 0.05, 'hidden_dims': 512}. Best is trial 1 with value: 0.038225224051018095.\n"
     ]
    },
    {
     "name": "stdout",
     "output_type": "stream",
     "text": [
      "Epoch:\t 61 Val Loss:\t 0.03832601391116501\n",
      "Epoch:\t 0 Val Loss:\t 0.038443936512860113\n",
      "Epoch:\t 1 Val Loss:\t 0.03841596911269447\n",
      "Epoch:\t 2 Val Loss:\t 0.03829797305916968\n",
      "Epoch:\t 3 Val Loss:\t 0.03838060675129441\n",
      "Epoch:\t 4 Val Loss:\t 0.03836733649051854\n",
      "Epoch:\t 5 Val Loss:\t 0.0383293357468575\n",
      "Epoch:\t 6 Val Loss:\t 0.03831013417745996\n",
      "Epoch:\t 7 Val Loss:\t 0.03829063211896879\n",
      "Epoch:\t 8 Val Loss:\t 0.03832695527554631\n",
      "Epoch:\t 9 Val Loss:\t 0.038339996875279427\n",
      "Epoch:\t 10 Val Loss:\t 0.03835375029247771\n",
      "Epoch:\t 11 Val Loss:\t 0.03833828198988892\n",
      "Epoch:\t 12 Val Loss:\t 0.03832758294480074\n",
      "Epoch:\t 13 Val Loss:\t 0.0383649532090239\n",
      "Epoch:\t 14 Val Loss:\t 0.03836970915180078\n",
      "Epoch:\t 15 Val Loss:\t 0.03837063855119158\n",
      "Epoch:\t 16 Val Loss:\t 0.03843321214098693\n"
     ]
    },
    {
     "name": "stderr",
     "output_type": "stream",
     "text": [
      "[I 2025-09-17 16:24:09,000] Trial 4 finished with value: 0.03829063211896879 and parameters: {'lr': 0.001, 'weight_decay': 1e-06, 'scheduler_factor': 0.8, 'scheduler_patience': 1, 'batch_size': 32, 'dropout': 0.2, 'hidden_dims': 256}. Best is trial 1 with value: 0.038225224051018095.\n"
     ]
    },
    {
     "name": "stdout",
     "output_type": "stream",
     "text": [
      "Epoch:\t 17 Val Loss:\t 0.03844286220443332\n"
     ]
    },
    {
     "name": "stderr",
     "output_type": "stream",
     "text": [
      "[I 2025-09-17 16:24:15,754] Trial 5 pruned. \n"
     ]
    },
    {
     "name": "stdout",
     "output_type": "stream",
     "text": [
      "Epoch:\t 0 Val Loss:\t 0.0523059982417267\n",
      "Epoch:\t 0 Val Loss:\t 0.03902135497187191\n",
      "Epoch:\t 1 Val Loss:\t 0.03852333376066272\n",
      "Epoch:\t 2 Val Loss:\t 0.03853978958246809\n",
      "Epoch:\t 3 Val Loss:\t 0.03849775397699289\n",
      "Epoch:\t 4 Val Loss:\t 0.03853474804365092\n",
      "Epoch:\t 5 Val Loss:\t 0.03846877582481502\n",
      "Epoch:\t 6 Val Loss:\t 0.038512473294075776\n",
      "Epoch:\t 7 Val Loss:\t 0.038502371948897766\n",
      "Epoch:\t 8 Val Loss:\t 0.0384763676086165\n",
      "Epoch:\t 9 Val Loss:\t 0.03848749724796741\n",
      "Epoch:\t 10 Val Loss:\t 0.03845582849892571\n",
      "Epoch:\t 11 Val Loss:\t 0.03850082198435736\n",
      "Epoch:\t 12 Val Loss:\t 0.03846603162312103\n",
      "Epoch:\t 13 Val Loss:\t 0.03846402796232901\n",
      "Epoch:\t 14 Val Loss:\t 0.03845430851454003\n",
      "Epoch:\t 15 Val Loss:\t 0.03846198657405408\n",
      "Epoch:\t 16 Val Loss:\t 0.038471010708732795\n",
      "Epoch:\t 17 Val Loss:\t 0.03842757097610288\n",
      "Epoch:\t 18 Val Loss:\t 0.038453425660197535\n",
      "Epoch:\t 19 Val Loss:\t 0.038455380729518\n",
      "Epoch:\t 20 Val Loss:\t 0.03843751342429872\n",
      "Epoch:\t 21 Val Loss:\t 0.038442734973769994\n",
      "Epoch:\t 22 Val Loss:\t 0.038430773036892824\n",
      "Epoch:\t 23 Val Loss:\t 0.03841552115356289\n",
      "Epoch:\t 24 Val Loss:\t 0.03843206546020176\n",
      "Epoch:\t 25 Val Loss:\t 0.03844042536621514\n",
      "Epoch:\t 26 Val Loss:\t 0.03842400017319311\n",
      "Epoch:\t 27 Val Loss:\t 0.038444794378785535\n",
      "Epoch:\t 28 Val Loss:\t 0.03841928308975607\n",
      "Epoch:\t 29 Val Loss:\t 0.03842938002480007\n",
      "Epoch:\t 30 Val Loss:\t 0.03841614779420046\n",
      "Epoch:\t 31 Val Loss:\t 0.03842816916005216\n",
      "Epoch:\t 32 Val Loss:\t 0.0383823927734058\n",
      "Epoch:\t 33 Val Loss:\t 0.03841992904222935\n",
      "Epoch:\t 34 Val Loss:\t 0.03841090421459907\n",
      "Epoch:\t 35 Val Loss:\t 0.038440951296451024\n",
      "Epoch:\t 36 Val Loss:\t 0.03843816253721489\n",
      "Epoch:\t 37 Val Loss:\t 0.038414095385725495\n",
      "Epoch:\t 38 Val Loss:\t 0.038454499604311264\n",
      "Epoch:\t 39 Val Loss:\t 0.038414216977644126\n",
      "Epoch:\t 40 Val Loss:\t 0.03844691090257671\n",
      "Epoch:\t 41 Val Loss:\t 0.038428205961888\n"
     ]
    },
    {
     "name": "stderr",
     "output_type": "stream",
     "text": [
      "[I 2025-09-17 16:28:45,651] Trial 6 finished with value: 0.0383823927734058 and parameters: {'lr': 0.0001, 'weight_decay': 0.0001, 'scheduler_factor': 0.8, 'scheduler_patience': 1, 'batch_size': 32, 'dropout': 0.2, 'hidden_dims': 1024}. Best is trial 1 with value: 0.038225224051018095.\n"
     ]
    },
    {
     "name": "stdout",
     "output_type": "stream",
     "text": [
      "Epoch:\t 42 Val Loss:\t 0.03841171235125025\n"
     ]
    },
    {
     "name": "stderr",
     "output_type": "stream",
     "text": [
      "[I 2025-09-17 16:28:56,383] Trial 7 pruned. \n"
     ]
    },
    {
     "name": "stdout",
     "output_type": "stream",
     "text": [
      "Epoch:\t 0 Val Loss:\t 0.046251026061376356\n",
      "Epoch:\t 0 Val Loss:\t 0.039254903888633084\n",
      "Epoch:\t 1 Val Loss:\t 0.038981247121511506\n",
      "Epoch:\t 2 Val Loss:\t 0.03892573258557985\n",
      "Epoch:\t 3 Val Loss:\t 0.03880014534779759\n",
      "Epoch:\t 4 Val Loss:\t 0.03873981647626605\n",
      "Epoch:\t 5 Val Loss:\t 0.038661831478739896\n",
      "Epoch:\t 6 Val Loss:\t 0.03870189633480338\n",
      "Epoch:\t 7 Val Loss:\t 0.03865557784257933\n",
      "Epoch:\t 8 Val Loss:\t 0.038644351983486216\n",
      "Epoch:\t 9 Val Loss:\t 0.03868735575572003\n",
      "Epoch:\t 10 Val Loss:\t 0.03866479528504749\n",
      "Epoch:\t 11 Val Loss:\t 0.038630030148251115\n"
     ]
    },
    {
     "name": "stderr",
     "output_type": "stream",
     "text": [
      "[I 2025-09-17 16:29:23,773] Trial 8 pruned. \n"
     ]
    },
    {
     "name": "stdout",
     "output_type": "stream",
     "text": [
      "Epoch:\t 12 Val Loss:\t 0.03872803888868454\n"
     ]
    },
    {
     "name": "stderr",
     "output_type": "stream",
     "text": [
      "[I 2025-09-17 16:29:27,620] Trial 9 pruned. \n"
     ]
    },
    {
     "name": "stdout",
     "output_type": "stream",
     "text": [
      "Epoch:\t 0 Val Loss:\t 0.043973094745346164\n",
      "Epoch:\t 0 Val Loss:\t 0.03928187590872133\n",
      "Epoch:\t 1 Val Loss:\t 0.03949697487229525\n"
     ]
    },
    {
     "name": "stderr",
     "output_type": "stream",
     "text": [
      "[I 2025-09-17 16:29:33,960] Trial 10 pruned. \n"
     ]
    },
    {
     "name": "stdout",
     "output_type": "stream",
     "text": [
      "Epoch:\t 2 Val Loss:\t 0.03968997218234595\n"
     ]
    },
    {
     "name": "stderr",
     "output_type": "stream",
     "text": [
      "[I 2025-09-17 16:29:36,697] Trial 11 pruned. \n"
     ]
    },
    {
     "name": "stdout",
     "output_type": "stream",
     "text": [
      "Epoch:\t 0 Val Loss:\t 0.0403176268171108\n"
     ]
    },
    {
     "name": "stderr",
     "output_type": "stream",
     "text": [
      "[I 2025-09-17 16:29:39,611] Trial 12 pruned. \n"
     ]
    },
    {
     "name": "stdout",
     "output_type": "stream",
     "text": [
      "Epoch:\t 0 Val Loss:\t 0.04008474200531304\n"
     ]
    },
    {
     "name": "stderr",
     "output_type": "stream",
     "text": [
      "[I 2025-09-17 16:29:43,697] Trial 13 pruned. \n"
     ]
    },
    {
     "name": "stdout",
     "output_type": "stream",
     "text": [
      "Epoch:\t 0 Val Loss:\t 0.03984523711059063\n"
     ]
    },
    {
     "name": "stderr",
     "output_type": "stream",
     "text": [
      "[I 2025-09-17 16:29:54,521] Trial 14 pruned. \n"
     ]
    },
    {
     "name": "stdout",
     "output_type": "stream",
     "text": [
      "Epoch:\t 0 Val Loss:\t 0.04032011988700997\n"
     ]
    },
    {
     "name": "stderr",
     "output_type": "stream",
     "text": [
      "[I 2025-09-17 16:29:56,643] Trial 15 pruned. \n"
     ]
    },
    {
     "name": "stdout",
     "output_type": "stream",
     "text": [
      "Epoch:\t 0 Val Loss:\t 0.0415081893028908\n",
      "Epoch:\t 0 Val Loss:\t 0.038845823813796594\n",
      "Epoch:\t 1 Val Loss:\t 0.03844396118615493\n",
      "Epoch:\t 2 Val Loss:\t 0.03838279666151942\n",
      "Epoch:\t 3 Val Loss:\t 0.03834413144733155\n",
      "Epoch:\t 4 Val Loss:\t 0.03837700750631184\n",
      "Epoch:\t 5 Val Loss:\t 0.03832656340662749\n",
      "Epoch:\t 6 Val Loss:\t 0.038344194814043595\n",
      "Epoch:\t 7 Val Loss:\t 0.03836454703330855\n",
      "Epoch:\t 8 Val Loss:\t 0.03830402312447662\n",
      "Epoch:\t 9 Val Loss:\t 0.038342453552351594\n",
      "Epoch:\t 10 Val Loss:\t 0.038341235953548644\n",
      "Epoch:\t 11 Val Loss:\t 0.03830791805177477\n",
      "Epoch:\t 12 Val Loss:\t 0.03829163619242479\n",
      "Epoch:\t 13 Val Loss:\t 0.03834419902608785\n",
      "Epoch:\t 14 Val Loss:\t 0.038325638788277404\n",
      "Epoch:\t 15 Val Loss:\t 0.038329419375988945\n",
      "Epoch:\t 16 Val Loss:\t 0.03829499845513068\n",
      "Epoch:\t 17 Val Loss:\t 0.03834584221442887\n",
      "Epoch:\t 18 Val Loss:\t 0.038347524682732684\n",
      "Epoch:\t 19 Val Loss:\t 0.03828219915594166\n",
      "Epoch:\t 20 Val Loss:\t 0.03824553140260617\n",
      "Epoch:\t 21 Val Loss:\t 0.03828617246144394\n",
      "Epoch:\t 22 Val Loss:\t 0.03828034085696444\n",
      "Epoch:\t 23 Val Loss:\t 0.038302313326560526\n",
      "Epoch:\t 24 Val Loss:\t 0.03829034354914149\n",
      "Epoch:\t 25 Val Loss:\t 0.03827335583165063\n",
      "Epoch:\t 26 Val Loss:\t 0.03832743445175519\n",
      "Epoch:\t 27 Val Loss:\t 0.038265594275847824\n",
      "Epoch:\t 28 Val Loss:\t 0.038275543020542764\n",
      "Epoch:\t 29 Val Loss:\t 0.0382829295270119\n"
     ]
    },
    {
     "name": "stderr",
     "output_type": "stream",
     "text": [
      "[I 2025-09-17 16:31:21,459] Trial 16 finished with value: 0.03824553140260617 and parameters: {'lr': 0.001, 'weight_decay': 1e-05, 'scheduler_factor': 0.3, 'scheduler_patience': 5, 'batch_size': 128, 'dropout': 0.15, 'hidden_dims': 64}. Best is trial 1 with value: 0.038225224051018095.\n"
     ]
    },
    {
     "name": "stdout",
     "output_type": "stream",
     "text": [
      "Epoch:\t 30 Val Loss:\t 0.03827974343246215\n"
     ]
    },
    {
     "name": "stderr",
     "output_type": "stream",
     "text": [
      "[I 2025-09-17 16:31:23,644] Trial 17 pruned. \n"
     ]
    },
    {
     "name": "stdout",
     "output_type": "stream",
     "text": [
      "Epoch:\t 0 Val Loss:\t 0.039482266941042836\n"
     ]
    },
    {
     "name": "stderr",
     "output_type": "stream",
     "text": [
      "[I 2025-09-17 16:31:26,411] Trial 18 pruned. \n"
     ]
    },
    {
     "name": "stdout",
     "output_type": "stream",
     "text": [
      "Epoch:\t 0 Val Loss:\t 0.0397076208802085\n",
      "Epoch:\t 0 Val Loss:\t 0.038562261230457806\n",
      "Epoch:\t 1 Val Loss:\t 0.038507353502813334\n",
      "Epoch:\t 2 Val Loss:\t 0.03847374934981441\n",
      "Epoch:\t 3 Val Loss:\t 0.03848921830958977\n",
      "Epoch:\t 4 Val Loss:\t 0.038525586890376405\n"
     ]
    },
    {
     "name": "stderr",
     "output_type": "stream",
     "text": [
      "[I 2025-09-17 16:32:33,109] Trial 19 pruned. \n"
     ]
    },
    {
     "name": "stdout",
     "output_type": "stream",
     "text": [
      "Epoch:\t 5 Val Loss:\t 0.03850540708213824\n",
      "Epoch:\t 0 Val Loss:\t 0.03871521763654898\n",
      "Epoch:\t 1 Val Loss:\t 0.038501028139068506\n",
      "Epoch:\t 2 Val Loss:\t 0.038328448862909786\n",
      "Epoch:\t 3 Val Loss:\t 0.03829434825603656\n",
      "Epoch:\t 4 Val Loss:\t 0.038281458512692344\n",
      "Epoch:\t 5 Val Loss:\t 0.038253968502640796\n",
      "Epoch:\t 6 Val Loss:\t 0.03824080223162473\n",
      "Epoch:\t 7 Val Loss:\t 0.03826014613986742\n",
      "Epoch:\t 8 Val Loss:\t 0.03825102895022615\n",
      "Epoch:\t 9 Val Loss:\t 0.03828718557032782\n",
      "Epoch:\t 10 Val Loss:\t 0.03828162118874694\n",
      "Epoch:\t 11 Val Loss:\t 0.038249074661422106\n",
      "Epoch:\t 12 Val Loss:\t 0.03820634818053737\n",
      "Epoch:\t 13 Val Loss:\t 0.0382323188991548\n",
      "Epoch:\t 14 Val Loss:\t 0.038234130082110365\n",
      "Epoch:\t 15 Val Loss:\t 0.038234500763629733\n",
      "Epoch:\t 16 Val Loss:\t 0.03826263355057702\n",
      "Epoch:\t 17 Val Loss:\t 0.03830253204532958\n",
      "Epoch:\t 18 Val Loss:\t 0.038263678491262595\n",
      "Epoch:\t 19 Val Loss:\t 0.03833848887484778\n",
      "Epoch:\t 20 Val Loss:\t 0.038273015495733476\n",
      "Epoch:\t 21 Val Loss:\t 0.03829887600154013\n"
     ]
    },
    {
     "name": "stderr",
     "output_type": "stream",
     "text": [
      "[I 2025-09-17 16:34:01,574] Trial 20 finished with value: 0.03820634818053737 and parameters: {'lr': 0.001, 'weight_decay': 1e-06, 'scheduler_factor': 0.5, 'scheduler_patience': 20, 'batch_size': 64, 'dropout': 0.15, 'hidden_dims': 64}. Best is trial 20 with value: 0.03820634818053737.\n"
     ]
    },
    {
     "name": "stdout",
     "output_type": "stream",
     "text": [
      "Epoch:\t 22 Val Loss:\t 0.038240789160677253\n",
      "Epoch:\t 0 Val Loss:\t 0.03868307827934579\n",
      "Epoch:\t 1 Val Loss:\t 0.038376414247864706\n",
      "Epoch:\t 2 Val Loss:\t 0.038338253345909123\n",
      "Epoch:\t 3 Val Loss:\t 0.038310808129068105\n",
      "Epoch:\t 4 Val Loss:\t 0.03828448076093017\n",
      "Epoch:\t 5 Val Loss:\t 0.038314954754455934\n",
      "Epoch:\t 6 Val Loss:\t 0.03826876094286966\n",
      "Epoch:\t 7 Val Loss:\t 0.0382874153156614\n",
      "Epoch:\t 8 Val Loss:\t 0.03824249789058228\n",
      "Epoch:\t 9 Val Loss:\t 0.038281202511953806\n",
      "Epoch:\t 10 Val Loss:\t 0.038296596798451224\n",
      "Epoch:\t 11 Val Loss:\t 0.03829074115235655\n",
      "Epoch:\t 12 Val Loss:\t 0.03829215614539174\n",
      "Epoch:\t 13 Val Loss:\t 0.03829810742961239\n",
      "Epoch:\t 14 Val Loss:\t 0.03827816283830846\n",
      "Epoch:\t 15 Val Loss:\t 0.03830796969893431\n",
      "Epoch:\t 16 Val Loss:\t 0.03827813403703623\n",
      "Epoch:\t 17 Val Loss:\t 0.03826227239524979\n"
     ]
    },
    {
     "name": "stderr",
     "output_type": "stream",
     "text": [
      "[I 2025-09-17 16:35:14,672] Trial 21 finished with value: 0.03824249789058228 and parameters: {'lr': 0.001, 'weight_decay': 1e-06, 'scheduler_factor': 0.5, 'scheduler_patience': 20, 'batch_size': 64, 'dropout': 0.15, 'hidden_dims': 64}. Best is trial 20 with value: 0.03820634818053737.\n"
     ]
    },
    {
     "name": "stdout",
     "output_type": "stream",
     "text": [
      "Epoch:\t 18 Val Loss:\t 0.03830524638524356\n",
      "Epoch:\t 0 Val Loss:\t 0.038623236649460525\n",
      "Epoch:\t 1 Val Loss:\t 0.038458936523972594\n",
      "Epoch:\t 2 Val Loss:\t 0.038405374118445294\n",
      "Epoch:\t 3 Val Loss:\t 0.038388902781984174\n",
      "Epoch:\t 4 Val Loss:\t 0.038329089111235\n",
      "Epoch:\t 5 Val Loss:\t 0.03836549773544194\n",
      "Epoch:\t 6 Val Loss:\t 0.03835700367681695\n",
      "Epoch:\t 7 Val Loss:\t 0.038313255572364\n",
      "Epoch:\t 8 Val Loss:\t 0.038352068917943655\n",
      "Epoch:\t 9 Val Loss:\t 0.0383478938112737\n",
      "Epoch:\t 10 Val Loss:\t 0.03835720334091784\n",
      "Epoch:\t 11 Val Loss:\t 0.038366973568759406\n",
      "Epoch:\t 12 Val Loss:\t 0.03830156000509417\n",
      "Epoch:\t 13 Val Loss:\t 0.038376455567669054\n",
      "Epoch:\t 14 Val Loss:\t 0.03830262060475536\n",
      "Epoch:\t 15 Val Loss:\t 0.03832408363995203\n",
      "Epoch:\t 16 Val Loss:\t 0.0383452528550382\n",
      "Epoch:\t 17 Val Loss:\t 0.03832837181988492\n",
      "Epoch:\t 18 Val Loss:\t 0.038355480002815544\n",
      "Epoch:\t 19 Val Loss:\t 0.0383272252899059\n",
      "Epoch:\t 20 Val Loss:\t 0.038311525489605244\n",
      "Epoch:\t 21 Val Loss:\t 0.038346424094524\n"
     ]
    },
    {
     "name": "stderr",
     "output_type": "stream",
     "text": [
      "[I 2025-09-17 16:36:45,247] Trial 22 finished with value: 0.03830156000509417 and parameters: {'lr': 0.001, 'weight_decay': 1e-06, 'scheduler_factor': 0.5, 'scheduler_patience': 20, 'batch_size': 64, 'dropout': 0.15, 'hidden_dims': 64}. Best is trial 20 with value: 0.03820634818053737.\n"
     ]
    },
    {
     "name": "stdout",
     "output_type": "stream",
     "text": [
      "Epoch:\t 22 Val Loss:\t 0.03831483922180954\n",
      "Epoch:\t 0 Val Loss:\t 0.038902612714376894\n"
     ]
    },
    {
     "name": "stderr",
     "output_type": "stream",
     "text": [
      "[I 2025-09-17 16:36:52,984] Trial 23 pruned. \n"
     ]
    },
    {
     "name": "stdout",
     "output_type": "stream",
     "text": [
      "Epoch:\t 1 Val Loss:\t 0.038590101043040226\n"
     ]
    },
    {
     "name": "stderr",
     "output_type": "stream",
     "text": [
      "[I 2025-09-17 16:36:56,951] Trial 24 pruned. \n"
     ]
    },
    {
     "name": "stdout",
     "output_type": "stream",
     "text": [
      "Epoch:\t 0 Val Loss:\t 0.04718880270603986\n",
      "Epoch:\t 0 Val Loss:\t 0.0386245066015719\n",
      "Epoch:\t 1 Val Loss:\t 0.038412135410070145\n",
      "Epoch:\t 2 Val Loss:\t 0.038311352043072636\n",
      "Epoch:\t 3 Val Loss:\t 0.03829465764647677\n",
      "Epoch:\t 4 Val Loss:\t 0.03830152833796454\n",
      "Epoch:\t 5 Val Loss:\t 0.038299695775129046\n",
      "Epoch:\t 6 Val Loss:\t 0.03826738659938926\n",
      "Epoch:\t 7 Val Loss:\t 0.038295929015841654\n",
      "Epoch:\t 8 Val Loss:\t 0.038281562107329234\n",
      "Epoch:\t 9 Val Loss:\t 0.03824637174601999\n",
      "Epoch:\t 10 Val Loss:\t 0.03827698397635549\n",
      "Epoch:\t 11 Val Loss:\t 0.03828008314005456\n",
      "Epoch:\t 12 Val Loss:\t 0.03833051420666074\n",
      "Epoch:\t 13 Val Loss:\t 0.038304936936426774\n",
      "Epoch:\t 14 Val Loss:\t 0.038289528823329554\n",
      "Epoch:\t 15 Val Loss:\t 0.0382749923016796\n",
      "Epoch:\t 16 Val Loss:\t 0.03827390781518891\n",
      "Epoch:\t 17 Val Loss:\t 0.03828749918225921\n",
      "Epoch:\t 18 Val Loss:\t 0.03826196356479228\n"
     ]
    },
    {
     "name": "stderr",
     "output_type": "stream",
     "text": [
      "[I 2025-09-17 16:38:14,555] Trial 25 finished with value: 0.03824637174601999 and parameters: {'lr': 0.001, 'weight_decay': 1e-06, 'scheduler_factor': 0.5, 'scheduler_patience': 20, 'batch_size': 64, 'dropout': 0.15, 'hidden_dims': 128}. Best is trial 20 with value: 0.03820634818053737.\n"
     ]
    },
    {
     "name": "stdout",
     "output_type": "stream",
     "text": [
      "Epoch:\t 19 Val Loss:\t 0.03827585127189522\n",
      "Epoch:\t 0 Val Loss:\t 0.03867744250429521\n",
      "Epoch:\t 1 Val Loss:\t 0.03839218666213789\n",
      "Epoch:\t 2 Val Loss:\t 0.038355632132168985\n",
      "Epoch:\t 3 Val Loss:\t 0.038337835075589924\n",
      "Epoch:\t 4 Val Loss:\t 0.038268459401916644\n",
      "Epoch:\t 5 Val Loss:\t 0.0382882666396268\n",
      "Epoch:\t 6 Val Loss:\t 0.03828719604135563\n",
      "Epoch:\t 7 Val Loss:\t 0.03829422110104658\n",
      "Epoch:\t 8 Val Loss:\t 0.03828775452680181\n",
      "Epoch:\t 9 Val Loss:\t 0.038297514727926155\n",
      "Epoch:\t 10 Val Loss:\t 0.03831818725241352\n",
      "Epoch:\t 11 Val Loss:\t 0.03830380633244214\n",
      "Epoch:\t 12 Val Loss:\t 0.038297395551068036\n",
      "Epoch:\t 13 Val Loss:\t 0.038295391636770336\n"
     ]
    },
    {
     "name": "stderr",
     "output_type": "stream",
     "text": [
      "[I 2025-09-17 16:39:12,862] Trial 26 finished with value: 0.038268459401916644 and parameters: {'lr': 0.001, 'weight_decay': 1e-06, 'scheduler_factor': 0.5, 'scheduler_patience': 20, 'batch_size': 64, 'dropout': 0.15, 'hidden_dims': 64}. Best is trial 20 with value: 0.03820634818053737.\n"
     ]
    },
    {
     "name": "stdout",
     "output_type": "stream",
     "text": [
      "Epoch:\t 14 Val Loss:\t 0.03834497631223169\n",
      "Epoch:\t 0 Val Loss:\t 0.03865809415186552\n",
      "Epoch:\t 1 Val Loss:\t 0.03840075670327998\n",
      "Epoch:\t 2 Val Loss:\t 0.03835650778295028\n",
      "Epoch:\t 3 Val Loss:\t 0.038329600521378994\n",
      "Epoch:\t 4 Val Loss:\t 0.03830044400606367\n",
      "Epoch:\t 5 Val Loss:\t 0.038291169307775715\n",
      "Epoch:\t 6 Val Loss:\t 0.03824548426209082\n",
      "Epoch:\t 7 Val Loss:\t 0.03834082924361431\n",
      "Epoch:\t 8 Val Loss:\t 0.038286053491794154\n",
      "Epoch:\t 9 Val Loss:\t 0.03834403464078765\n",
      "Epoch:\t 10 Val Loss:\t 0.038273364745482624\n",
      "Epoch:\t 11 Val Loss:\t 0.03831288003910266\n",
      "Epoch:\t 12 Val Loss:\t 0.038244041161816\n",
      "Epoch:\t 13 Val Loss:\t 0.03832604002815066\n",
      "Epoch:\t 14 Val Loss:\t 0.038283361755506076\n",
      "Epoch:\t 15 Val Loss:\t 0.03826521520918528\n",
      "Epoch:\t 16 Val Loss:\t 0.03830559438530159\n",
      "Epoch:\t 17 Val Loss:\t 0.03827902696512151\n",
      "Epoch:\t 18 Val Loss:\t 0.038313597169376636\n",
      "Epoch:\t 19 Val Loss:\t 0.03828986348109714\n",
      "Epoch:\t 20 Val Loss:\t 0.03830104181894333\n",
      "Epoch:\t 21 Val Loss:\t 0.03826638610706001\n"
     ]
    },
    {
     "name": "stderr",
     "output_type": "stream",
     "text": [
      "[I 2025-09-17 16:40:41,000] Trial 27 finished with value: 0.038244041161816 and parameters: {'lr': 0.001, 'weight_decay': 1e-06, 'scheduler_factor': 0.5, 'scheduler_patience': 20, 'batch_size': 64, 'dropout': 0.15, 'hidden_dims': 128}. Best is trial 20 with value: 0.03820634818053737.\n"
     ]
    },
    {
     "name": "stdout",
     "output_type": "stream",
     "text": [
      "Epoch:\t 22 Val Loss:\t 0.03828012406960069\n"
     ]
    },
    {
     "name": "stderr",
     "output_type": "stream",
     "text": [
      "[I 2025-09-17 16:40:43,154] Trial 28 pruned. \n"
     ]
    },
    {
     "name": "stdout",
     "output_type": "stream",
     "text": [
      "Epoch:\t 0 Val Loss:\t 0.039458858940837\n"
     ]
    },
    {
     "name": "stderr",
     "output_type": "stream",
     "text": [
      "[I 2025-09-17 16:40:45,337] Trial 29 pruned. \n"
     ]
    },
    {
     "name": "stdout",
     "output_type": "stream",
     "text": [
      "Epoch:\t 0 Val Loss:\t 0.05573652396195156\n"
     ]
    },
    {
     "name": "stderr",
     "output_type": "stream",
     "text": [
      "[I 2025-09-17 16:40:49,382] Trial 30 pruned. \n"
     ]
    },
    {
     "name": "stdout",
     "output_type": "stream",
     "text": [
      "Epoch:\t 0 Val Loss:\t 0.09201154960357237\n",
      "Epoch:\t 0 Val Loss:\t 0.03859458151432884\n",
      "Epoch:\t 1 Val Loss:\t 0.03839728846882259\n",
      "Epoch:\t 2 Val Loss:\t 0.038331208516018234\n",
      "Epoch:\t 3 Val Loss:\t 0.03830862070152183\n",
      "Epoch:\t 4 Val Loss:\t 0.038286046940645226\n",
      "Epoch:\t 5 Val Loss:\t 0.03826826918833455\n",
      "Epoch:\t 6 Val Loss:\t 0.03831321583521345\n",
      "Epoch:\t 7 Val Loss:\t 0.038307945426170796\n",
      "Epoch:\t 8 Val Loss:\t 0.03830428913482143\n",
      "Epoch:\t 9 Val Loss:\t 0.03830361269193891\n",
      "Epoch:\t 10 Val Loss:\t 0.038264911696401296\n",
      "Epoch:\t 11 Val Loss:\t 0.03828801067672492\n",
      "Epoch:\t 12 Val Loss:\t 0.0382440863647436\n",
      "Epoch:\t 13 Val Loss:\t 0.038293118427009755\n",
      "Epoch:\t 14 Val Loss:\t 0.038315187719149504\n",
      "Epoch:\t 15 Val Loss:\t 0.0382642678546736\n",
      "Epoch:\t 16 Val Loss:\t 0.03828395067676858\n",
      "Epoch:\t 17 Val Loss:\t 0.038268931254364\n",
      "Epoch:\t 18 Val Loss:\t 0.03829418182874653\n",
      "Epoch:\t 19 Val Loss:\t 0.03826614781604454\n",
      "Epoch:\t 20 Val Loss:\t 0.03828769132551141\n",
      "Epoch:\t 21 Val Loss:\t 0.03827650748080835\n"
     ]
    },
    {
     "name": "stderr",
     "output_type": "stream",
     "text": [
      "[I 2025-09-17 16:42:18,136] Trial 31 finished with value: 0.0382440863647436 and parameters: {'lr': 0.001, 'weight_decay': 1e-06, 'scheduler_factor': 0.5, 'scheduler_patience': 20, 'batch_size': 64, 'dropout': 0.15, 'hidden_dims': 128}. Best is trial 20 with value: 0.03820634818053737.\n"
     ]
    },
    {
     "name": "stdout",
     "output_type": "stream",
     "text": [
      "Epoch:\t 22 Val Loss:\t 0.038304498616997334\n",
      "Epoch:\t 0 Val Loss:\t 0.03867574382705254\n",
      "Epoch:\t 1 Val Loss:\t 0.03839829761926269\n",
      "Epoch:\t 2 Val Loss:\t 0.038351664582329026\n",
      "Epoch:\t 3 Val Loss:\t 0.03838625132661363\n"
     ]
    },
    {
     "name": "stderr",
     "output_type": "stream",
     "text": [
      "[I 2025-09-17 16:42:37,165] Trial 32 pruned. \n"
     ]
    },
    {
     "name": "stdout",
     "output_type": "stream",
     "text": [
      "Epoch:\t 4 Val Loss:\t 0.03837681489170151\n"
     ]
    },
    {
     "name": "stderr",
     "output_type": "stream",
     "text": [
      "[I 2025-09-17 16:42:40,992] Trial 33 pruned. \n"
     ]
    },
    {
     "name": "stdout",
     "output_type": "stream",
     "text": [
      "Epoch:\t 0 Val Loss:\t 0.03872305222474\n",
      "Epoch:\t 0 Val Loss:\t 0.03856433594833954\n",
      "Epoch:\t 1 Val Loss:\t 0.03837894825821551\n",
      "Epoch:\t 2 Val Loss:\t 0.03831929398254122\n",
      "Epoch:\t 3 Val Loss:\t 0.03825662334817686\n",
      "Epoch:\t 4 Val Loss:\t 0.03831226509269835\n",
      "Epoch:\t 5 Val Loss:\t 0.03828232581238033\n",
      "Epoch:\t 6 Val Loss:\t 0.03827873982048042\n",
      "Epoch:\t 7 Val Loss:\t 0.03831324351543925\n",
      "Epoch:\t 8 Val Loss:\t 0.03825163939731002\n",
      "Epoch:\t 9 Val Loss:\t 0.03825150109023219\n",
      "Epoch:\t 10 Val Loss:\t 0.038345737248719675\n",
      "Epoch:\t 11 Val Loss:\t 0.03828626184643733\n",
      "Epoch:\t 12 Val Loss:\t 0.03829326009290272\n",
      "Epoch:\t 13 Val Loss:\t 0.03828016174086913\n",
      "Epoch:\t 14 Val Loss:\t 0.038314784573768364\n",
      "Epoch:\t 15 Val Loss:\t 0.03827306592228346\n",
      "Epoch:\t 16 Val Loss:\t 0.0383251934640382\n",
      "Epoch:\t 17 Val Loss:\t 0.03831530416852433\n",
      "Epoch:\t 18 Val Loss:\t 0.03827498133985614\n"
     ]
    },
    {
     "name": "stderr",
     "output_type": "stream",
     "text": [
      "[I 2025-09-17 16:43:58,261] Trial 34 finished with value: 0.03825150109023219 and parameters: {'lr': 0.001, 'weight_decay': 1e-06, 'scheduler_factor': 0.8, 'scheduler_patience': 20, 'batch_size': 64, 'dropout': 0.15, 'hidden_dims': 128}. Best is trial 20 with value: 0.03820634818053737.\n"
     ]
    },
    {
     "name": "stdout",
     "output_type": "stream",
     "text": [
      "Epoch:\t 19 Val Loss:\t 0.03826677899437973\n"
     ]
    },
    {
     "name": "stderr",
     "output_type": "stream",
     "text": [
      "[I 2025-09-17 16:44:04,742] Trial 35 pruned. \n"
     ]
    },
    {
     "name": "stdout",
     "output_type": "stream",
     "text": [
      "Epoch:\t 0 Val Loss:\t 0.051981910007551216\n"
     ]
    },
    {
     "name": "stderr",
     "output_type": "stream",
     "text": [
      "[I 2025-09-17 16:44:08,791] Trial 36 pruned. \n"
     ]
    },
    {
     "name": "stdout",
     "output_type": "stream",
     "text": [
      "Epoch:\t 0 Val Loss:\t 0.04467203497705042\n"
     ]
    },
    {
     "name": "stderr",
     "output_type": "stream",
     "text": [
      "[I 2025-09-17 16:44:15,586] Trial 37 pruned. \n"
     ]
    },
    {
     "name": "stdout",
     "output_type": "stream",
     "text": [
      "Epoch:\t 0 Val Loss:\t 0.038879913637372414\n"
     ]
    },
    {
     "name": "stderr",
     "output_type": "stream",
     "text": [
      "[I 2025-09-17 16:44:17,793] Trial 38 pruned. \n"
     ]
    },
    {
     "name": "stdout",
     "output_type": "stream",
     "text": [
      "Epoch:\t 0 Val Loss:\t 0.03930060853965061\n"
     ]
    },
    {
     "name": "stderr",
     "output_type": "stream",
     "text": [
      "[I 2025-09-17 16:44:28,530] Trial 39 pruned. \n"
     ]
    },
    {
     "name": "stdout",
     "output_type": "stream",
     "text": [
      "Epoch:\t 0 Val Loss:\t 0.04607417101755762\n",
      "Epoch:\t 0 Val Loss:\t 0.03864580099008766\n",
      "Epoch:\t 1 Val Loss:\t 0.038369503652745045\n",
      "Epoch:\t 2 Val Loss:\t 0.03835080292462888\n",
      "Epoch:\t 3 Val Loss:\t 0.03828380141759673\n",
      "Epoch:\t 4 Val Loss:\t 0.03832849392097701\n",
      "Epoch:\t 5 Val Loss:\t 0.0383009200637865\n",
      "Epoch:\t 6 Val Loss:\t 0.038287926351762896\n",
      "Epoch:\t 7 Val Loss:\t 0.03829812086054875\n",
      "Epoch:\t 8 Val Loss:\t 0.0383042260870398\n",
      "Epoch:\t 9 Val Loss:\t 0.038279251387376326\n",
      "Epoch:\t 10 Val Loss:\t 0.03828911942841179\n",
      "Epoch:\t 11 Val Loss:\t 0.03828580480434316\n",
      "Epoch:\t 12 Val Loss:\t 0.03828967398208757\n",
      "Epoch:\t 13 Val Loss:\t 0.03829898892453744\n",
      "Epoch:\t 14 Val Loss:\t 0.038282430595088617\n",
      "Epoch:\t 15 Val Loss:\t 0.0383169822647813\n",
      "Epoch:\t 16 Val Loss:\t 0.0382966178983398\n",
      "Epoch:\t 17 Val Loss:\t 0.03827659437433966\n",
      "Epoch:\t 18 Val Loss:\t 0.038274193017187326\n",
      "Epoch:\t 19 Val Loss:\t 0.038307644733840206\n",
      "Epoch:\t 20 Val Loss:\t 0.03831097902865238\n",
      "Epoch:\t 21 Val Loss:\t 0.0382996773811028\n",
      "Epoch:\t 22 Val Loss:\t 0.03830482659713342\n",
      "Epoch:\t 23 Val Loss:\t 0.03828629526594525\n",
      "Epoch:\t 24 Val Loss:\t 0.03830883899964154\n",
      "Epoch:\t 25 Val Loss:\t 0.03829368091449444\n",
      "Epoch:\t 26 Val Loss:\t 0.038305181843454036\n",
      "Epoch:\t 27 Val Loss:\t 0.038258919251290296\n",
      "Epoch:\t 28 Val Loss:\t 0.03826295781515223\n",
      "Epoch:\t 29 Val Loss:\t 0.038251981591060975\n",
      "Epoch:\t 30 Val Loss:\t 0.03829117650971534\n",
      "Epoch:\t 31 Val Loss:\t 0.03824873589351124\n",
      "Epoch:\t 32 Val Loss:\t 0.03830394122881455\n",
      "Epoch:\t 33 Val Loss:\t 0.03827818419548639\n",
      "Epoch:\t 34 Val Loss:\t 0.038299177086291034\n",
      "Epoch:\t 35 Val Loss:\t 0.0382604875044548\n",
      "Epoch:\t 36 Val Loss:\t 0.038290767151553204\n",
      "Epoch:\t 37 Val Loss:\t 0.03828142530074558\n",
      "Epoch:\t 38 Val Loss:\t 0.0382956311223435\n",
      "Epoch:\t 39 Val Loss:\t 0.03828551616353208\n",
      "Epoch:\t 40 Val Loss:\t 0.038287855702053994\n"
     ]
    },
    {
     "name": "stderr",
     "output_type": "stream",
     "text": [
      "[I 2025-09-17 16:47:10,167] Trial 40 finished with value: 0.03824873589351124 and parameters: {'lr': 0.001, 'weight_decay': 1e-06, 'scheduler_factor': 0.8, 'scheduler_patience': 20, 'batch_size': 64, 'dropout': 0.2, 'hidden_dims': 128}. Best is trial 20 with value: 0.03820634818053737.\n"
     ]
    },
    {
     "name": "stdout",
     "output_type": "stream",
     "text": [
      "Epoch:\t 41 Val Loss:\t 0.03827875470866904\n",
      "Epoch:\t 0 Val Loss:\t 0.03867221254373247\n",
      "Epoch:\t 1 Val Loss:\t 0.03838874172533901\n"
     ]
    },
    {
     "name": "stderr",
     "output_type": "stream",
     "text": [
      "[I 2025-09-17 16:47:22,157] Trial 41 pruned. \n"
     ]
    },
    {
     "name": "stdout",
     "output_type": "stream",
     "text": [
      "Epoch:\t 2 Val Loss:\t 0.03835732775328987\n",
      "Epoch:\t 0 Val Loss:\t 0.03861543064741326\n",
      "Epoch:\t 1 Val Loss:\t 0.03842585631043532\n",
      "Epoch:\t 2 Val Loss:\t 0.03834416185523525\n",
      "Epoch:\t 3 Val Loss:\t 0.0383019831282364\n",
      "Epoch:\t 4 Val Loss:\t 0.038292303264089195\n",
      "Epoch:\t 5 Val Loss:\t 0.03829708034567236\n",
      "Epoch:\t 6 Val Loss:\t 0.03830880425476917\n",
      "Epoch:\t 7 Val Loss:\t 0.038285136428238414\n",
      "Epoch:\t 8 Val Loss:\t 0.03828985554404509\n",
      "Epoch:\t 9 Val Loss:\t 0.03823040294322037\n",
      "Epoch:\t 10 Val Loss:\t 0.03830168282183982\n",
      "Epoch:\t 11 Val Loss:\t 0.038274056902474186\n",
      "Epoch:\t 12 Val Loss:\t 0.0383375104434585\n",
      "Epoch:\t 13 Val Loss:\t 0.03830999008083129\n",
      "Epoch:\t 14 Val Loss:\t 0.03827930600190502\n",
      "Epoch:\t 15 Val Loss:\t 0.03829142707386511\n",
      "Epoch:\t 16 Val Loss:\t 0.038327438538451906\n",
      "Epoch:\t 17 Val Loss:\t 0.03824395632659946\n",
      "Epoch:\t 18 Val Loss:\t 0.038241878188649235\n",
      "Epoch:\t 19 Val Loss:\t 0.038203640312855836\n",
      "Epoch:\t 20 Val Loss:\t 0.03832493238021348\n",
      "Epoch:\t 21 Val Loss:\t 0.03826705946138932\n",
      "Epoch:\t 22 Val Loss:\t 0.03828022184495793\n",
      "Epoch:\t 23 Val Loss:\t 0.03827443716856227\n",
      "Epoch:\t 24 Val Loss:\t 0.03828821440880823\n",
      "Epoch:\t 25 Val Loss:\t 0.03826559004300878\n",
      "Epoch:\t 26 Val Loss:\t 0.0382613402683757\n",
      "Epoch:\t 27 Val Loss:\t 0.038242707872202214\n",
      "Epoch:\t 28 Val Loss:\t 0.03829056611019757\n"
     ]
    },
    {
     "name": "stderr",
     "output_type": "stream",
     "text": [
      "[I 2025-09-17 16:49:15,948] Trial 42 finished with value: 0.038203640312855836 and parameters: {'lr': 0.001, 'weight_decay': 1e-06, 'scheduler_factor': 0.5, 'scheduler_patience': 20, 'batch_size': 64, 'dropout': 0.15, 'hidden_dims': 128}. Best is trial 42 with value: 0.038203640312855836.\n"
     ]
    },
    {
     "name": "stdout",
     "output_type": "stream",
     "text": [
      "Epoch:\t 29 Val Loss:\t 0.03825119698827722\n"
     ]
    },
    {
     "name": "stderr",
     "output_type": "stream",
     "text": [
      "[I 2025-09-17 16:49:20,102] Trial 43 pruned. \n"
     ]
    },
    {
     "name": "stdout",
     "output_type": "stream",
     "text": [
      "Epoch:\t 0 Val Loss:\t 0.03873070068570914\n"
     ]
    },
    {
     "name": "stderr",
     "output_type": "stream",
     "text": [
      "[I 2025-09-17 16:49:23,904] Trial 44 pruned. \n"
     ]
    },
    {
     "name": "stdout",
     "output_type": "stream",
     "text": [
      "Epoch:\t 0 Val Loss:\t 0.038979064818045736\n",
      "Epoch:\t 0 Val Loss:\t 0.03867712993989901\n"
     ]
    },
    {
     "name": "stderr",
     "output_type": "stream",
     "text": [
      "[I 2025-09-17 16:49:36,533] Trial 45 pruned. \n"
     ]
    },
    {
     "name": "stdout",
     "output_type": "stream",
     "text": [
      "Epoch:\t 1 Val Loss:\t 0.038667127842465183\n"
     ]
    },
    {
     "name": "stderr",
     "output_type": "stream",
     "text": [
      "[I 2025-09-17 16:49:38,674] Trial 46 pruned. \n"
     ]
    },
    {
     "name": "stdout",
     "output_type": "stream",
     "text": [
      "Epoch:\t 0 Val Loss:\t 0.06565851975492266\n"
     ]
    },
    {
     "name": "stderr",
     "output_type": "stream",
     "text": [
      "[I 2025-09-17 16:49:42,493] Trial 47 pruned. \n"
     ]
    },
    {
     "name": "stdout",
     "output_type": "stream",
     "text": [
      "Epoch:\t 0 Val Loss:\t 0.03903858644268365\n",
      "Epoch:\t 0 Val Loss:\t 0.03844019604854131\n",
      "Epoch:\t 1 Val Loss:\t 0.038417626061918175\n"
     ]
    },
    {
     "name": "stderr",
     "output_type": "stream",
     "text": [
      "[I 2025-09-17 16:50:14,446] Trial 48 pruned. \n"
     ]
    },
    {
     "name": "stdout",
     "output_type": "stream",
     "text": [
      "Epoch:\t 2 Val Loss:\t 0.03837534812792874\n"
     ]
    },
    {
     "name": "stderr",
     "output_type": "stream",
     "text": [
      "[I 2025-09-17 16:50:16,550] Trial 49 pruned. \n"
     ]
    },
    {
     "name": "stdout",
     "output_type": "stream",
     "text": [
      "Epoch:\t 0 Val Loss:\t 0.0812184913213863\n",
      "Training model with best parameters on train+validation ...\n"
     ]
    },
    {
     "name": "stderr",
     "output_type": "stream",
     "text": [
      "100%|█████████████████████████████████████████████████████████████████████████████████████████████████████████████████████████████████████| 557340/557340 [05:16<00:00, 1761.85it/s]\n",
      "100%|█████████████████████████████████████████████████████████████████████████████████████████████████████████████████████████████████████| 557340/557340 [01:33<00:00, 5991.73it/s]\n"
     ]
    },
    {
     "name": "stdout",
     "output_type": "stream",
     "text": [
      "Getting test set predictions and saving results ...\n"
     ]
    },
    {
     "name": "stderr",
     "output_type": "stream",
     "text": [
      "100%|█████████████████████████████████████████████████████████████████████████████████████████████████████████████████████████████████████████| 1640/1640 [00:00<00:00, 1686.20it/s]\n"
     ]
    }
   ],
   "source": [
    "train_different_featno(\n",
    "        adata_path=\"./data/feature_number/sciplex_hvg_500.h5ad\",\n",
    "        run_name=\"mlp_hvg_500\",\n",
    "        res_savename=\"./results/feature_number/mlp_hvg_500_res.pkl\",\n",
    "        input_dim=500,\n",
    "        output_dim=500,\n",
    "    )"
   ]
  },
  {
   "cell_type": "code",
   "execution_count": 4,
   "id": "84b8c143-6b0b-4f82-989b-0a133e6b6769",
   "metadata": {},
   "outputs": [
    {
     "name": "stdout",
     "output_type": "stream",
     "text": [
      "Loading Datasets ...\n"
     ]
    },
    {
     "name": "stderr",
     "output_type": "stream",
     "text": [
      "100%|█████████████████████████████████████████████████████████████████████████████████████████████████████████████████████████████████████| 557340/557340 [04:02<00:00, 2294.61it/s]\n",
      "100%|█████████████████████████████████████████████████████████████████████████████████████████████████████████████████████████████████████| 557340/557340 [01:36<00:00, 5785.90it/s]\n",
      "[I 2025-09-17 17:04:14,358] A new study created in RDB with name: mlp_hvg_1000\n"
     ]
    },
    {
     "name": "stdout",
     "output_type": "stream",
     "text": [
      "Optimizing Hyperparameters with Optuna ...\n",
      "Epoch:\t 0 Val Loss:\t 0.03189289827726167\n",
      "Epoch:\t 1 Val Loss:\t 0.031512718297255576\n",
      "Epoch:\t 2 Val Loss:\t 0.031495908348800554\n",
      "Epoch:\t 3 Val Loss:\t 0.03143369143181908\n",
      "Epoch:\t 4 Val Loss:\t 0.031495588856482064\n",
      "Epoch:\t 5 Val Loss:\t 0.03148176583583693\n",
      "Epoch:\t 6 Val Loss:\t 0.031415805127579854\n",
      "Epoch:\t 7 Val Loss:\t 0.03143968940014831\n",
      "Epoch:\t 8 Val Loss:\t 0.03145213819970999\n",
      "Epoch:\t 9 Val Loss:\t 0.03142566689907743\n",
      "Epoch:\t 10 Val Loss:\t 0.03144031880330402\n",
      "Epoch:\t 11 Val Loss:\t 0.03143858824587242\n",
      "Epoch:\t 12 Val Loss:\t 0.03145219947662503\n",
      "Epoch:\t 13 Val Loss:\t 0.03146593733263417\n",
      "Epoch:\t 14 Val Loss:\t 0.03146187471751552\n",
      "Epoch:\t 15 Val Loss:\t 0.0314622092213261\n",
      "Epoch:\t 16 Val Loss:\t 0.03140889758916959\n",
      "Epoch:\t 17 Val Loss:\t 0.031461419953026835\n",
      "Epoch:\t 18 Val Loss:\t 0.03142161101630687\n",
      "Epoch:\t 19 Val Loss:\t 0.0314361985846402\n",
      "Epoch:\t 20 Val Loss:\t 0.031416724047663595\n",
      "Epoch:\t 21 Val Loss:\t 0.031434495644546555\n",
      "Epoch:\t 22 Val Loss:\t 0.03143757736390407\n",
      "Epoch:\t 23 Val Loss:\t 0.031430389900863796\n",
      "Epoch:\t 24 Val Loss:\t 0.03142715981457292\n",
      "Epoch:\t 25 Val Loss:\t 0.031418096845262145\n"
     ]
    },
    {
     "name": "stderr",
     "output_type": "stream",
     "text": [
      "[I 2025-09-17 17:05:35,483] Trial 0 finished with value: 0.03140889758916959 and parameters: {'lr': 0.001, 'weight_decay': 0.0001, 'scheduler_factor': 0.8, 'scheduler_patience': 20, 'batch_size': 128, 'dropout': 0.05, 'hidden_dims': 1024}. Best is trial 0 with value: 0.03140889758916959.\n"
     ]
    },
    {
     "name": "stdout",
     "output_type": "stream",
     "text": [
      "Epoch:\t 26 Val Loss:\t 0.03143219114578698\n",
      "Epoch:\t 0 Val Loss:\t 0.03541273133705925\n",
      "Epoch:\t 1 Val Loss:\t 0.034204416050555124\n",
      "Epoch:\t 2 Val Loss:\t 0.033605449286729754\n",
      "Epoch:\t 3 Val Loss:\t 0.033246670792292495\n",
      "Epoch:\t 4 Val Loss:\t 0.03297933718053306\n",
      "Epoch:\t 5 Val Loss:\t 0.03278508995044176\n",
      "Epoch:\t 6 Val Loss:\t 0.03263608996002447\n",
      "Epoch:\t 7 Val Loss:\t 0.03258297667469782\n",
      "Epoch:\t 8 Val Loss:\t 0.032514346583933505\n",
      "Epoch:\t 9 Val Loss:\t 0.03248207544330313\n",
      "Epoch:\t 10 Val Loss:\t 0.0324161684510496\n",
      "Epoch:\t 11 Val Loss:\t 0.03238644808937517\n",
      "Epoch:\t 12 Val Loss:\t 0.032374700600590715\n",
      "Epoch:\t 13 Val Loss:\t 0.03235415639042093\n",
      "Epoch:\t 14 Val Loss:\t 0.03233142513414016\n",
      "Epoch:\t 15 Val Loss:\t 0.03233879526187942\n",
      "Epoch:\t 16 Val Loss:\t 0.032311513535375515\n",
      "Epoch:\t 17 Val Loss:\t 0.03230487013129684\n",
      "Epoch:\t 18 Val Loss:\t 0.032309155030723374\n",
      "Epoch:\t 19 Val Loss:\t 0.03228013542600833\n",
      "Epoch:\t 20 Val Loss:\t 0.03228102171843337\n",
      "Epoch:\t 21 Val Loss:\t 0.03228257793574037\n",
      "Epoch:\t 22 Val Loss:\t 0.032248760196061224\n",
      "Epoch:\t 23 Val Loss:\t 0.032260436034662936\n",
      "Epoch:\t 24 Val Loss:\t 0.032263984429919346\n",
      "Epoch:\t 25 Val Loss:\t 0.032279717713230995\n",
      "Epoch:\t 26 Val Loss:\t 0.03221520789954097\n",
      "Epoch:\t 27 Val Loss:\t 0.03221103436942023\n",
      "Epoch:\t 28 Val Loss:\t 0.03224553988378984\n",
      "Epoch:\t 29 Val Loss:\t 0.032269712052936474\n",
      "Epoch:\t 30 Val Loss:\t 0.03225382002726041\n",
      "Epoch:\t 31 Val Loss:\t 0.032227763157601834\n",
      "Epoch:\t 32 Val Loss:\t 0.03219257510601436\n",
      "Epoch:\t 33 Val Loss:\t 0.032225130045836256\n",
      "Epoch:\t 34 Val Loss:\t 0.032221003021270414\n",
      "Epoch:\t 35 Val Loss:\t 0.03218834695344602\n",
      "Epoch:\t 36 Val Loss:\t 0.03219282415097322\n",
      "Epoch:\t 37 Val Loss:\t 0.03222845053639908\n",
      "Epoch:\t 38 Val Loss:\t 0.032228194146863814\n",
      "Epoch:\t 39 Val Loss:\t 0.03222258962933126\n",
      "Epoch:\t 40 Val Loss:\t 0.03218990781546747\n",
      "Epoch:\t 41 Val Loss:\t 0.03225771309407677\n",
      "Epoch:\t 42 Val Loss:\t 0.032248708937624326\n",
      "Epoch:\t 43 Val Loss:\t 0.032252328312424694\n",
      "Epoch:\t 44 Val Loss:\t 0.032208414419481704\n"
     ]
    },
    {
     "name": "stderr",
     "output_type": "stream",
     "text": [
      "[I 2025-09-17 17:07:52,710] Trial 1 finished with value: 0.03218834695344602 and parameters: {'lr': 1e-05, 'weight_decay': 1e-06, 'scheduler_factor': 0.5, 'scheduler_patience': 20, 'batch_size': 128, 'dropout': 0.15, 'hidden_dims': 1024}. Best is trial 0 with value: 0.03140889758916959.\n"
     ]
    },
    {
     "name": "stdout",
     "output_type": "stream",
     "text": [
      "Epoch:\t 45 Val Loss:\t 0.03223446263573657\n",
      "Epoch:\t 0 Val Loss:\t 0.03211931417978872\n",
      "Epoch:\t 1 Val Loss:\t 0.032014090256485495\n",
      "Epoch:\t 2 Val Loss:\t 0.03183040211330699\n",
      "Epoch:\t 3 Val Loss:\t 0.03180929811080043\n",
      "Epoch:\t 4 Val Loss:\t 0.0316212605398518\n",
      "Epoch:\t 5 Val Loss:\t 0.03161655306071259\n",
      "Epoch:\t 6 Val Loss:\t 0.03156804362256826\n",
      "Epoch:\t 7 Val Loss:\t 0.03152648924276431\n",
      "Epoch:\t 8 Val Loss:\t 0.03149649665652581\n",
      "Epoch:\t 9 Val Loss:\t 0.031472780995256876\n",
      "Epoch:\t 10 Val Loss:\t 0.031411246043368875\n",
      "Epoch:\t 11 Val Loss:\t 0.03139578177795264\n",
      "Epoch:\t 12 Val Loss:\t 0.031380548313783306\n",
      "Epoch:\t 13 Val Loss:\t 0.031382658417772845\n",
      "Epoch:\t 14 Val Loss:\t 0.03133899204214593\n",
      "Epoch:\t 15 Val Loss:\t 0.03135739898150198\n",
      "Epoch:\t 16 Val Loss:\t 0.03135759339117063\n",
      "Epoch:\t 17 Val Loss:\t 0.031336952817858185\n",
      "Epoch:\t 18 Val Loss:\t 0.03139987937593643\n",
      "Epoch:\t 19 Val Loss:\t 0.031390540987184\n",
      "Epoch:\t 20 Val Loss:\t 0.031393383565568\n",
      "Epoch:\t 21 Val Loss:\t 0.031399885877897694\n",
      "Epoch:\t 22 Val Loss:\t 0.03143061098204283\n",
      "Epoch:\t 23 Val Loss:\t 0.03144161163024427\n",
      "Epoch:\t 24 Val Loss:\t 0.03147004014372964\n",
      "Epoch:\t 25 Val Loss:\t 0.03147286075603561\n",
      "Epoch:\t 26 Val Loss:\t 0.03150445683353899\n"
     ]
    },
    {
     "name": "stderr",
     "output_type": "stream",
     "text": [
      "[I 2025-09-17 17:10:55,055] Trial 2 finished with value: 0.031336952817858185 and parameters: {'lr': 0.0001, 'weight_decay': 1e-06, 'scheduler_factor': 0.8, 'scheduler_patience': 1, 'batch_size': 32, 'dropout': 0.1, 'hidden_dims': 1024}. Best is trial 2 with value: 0.031336952817858185.\n"
     ]
    },
    {
     "name": "stdout",
     "output_type": "stream",
     "text": [
      "Epoch:\t 27 Val Loss:\t 0.03152865548285716\n",
      "Epoch:\t 0 Val Loss:\t 0.031552192408504875\n",
      "Epoch:\t 1 Val Loss:\t 0.03175085572049368\n",
      "Epoch:\t 2 Val Loss:\t 0.03162021518706582\n",
      "Epoch:\t 3 Val Loss:\t 0.03153362184069877\n",
      "Epoch:\t 4 Val Loss:\t 0.031548129013457965\n",
      "Epoch:\t 5 Val Loss:\t 0.031645384071351486\n",
      "Epoch:\t 6 Val Loss:\t 0.03157115293623403\n",
      "Epoch:\t 7 Val Loss:\t 0.03184821778085343\n",
      "Epoch:\t 8 Val Loss:\t 0.03199061944127776\n",
      "Epoch:\t 9 Val Loss:\t 0.032337884613594346\n",
      "Epoch:\t 10 Val Loss:\t 0.03238212745203528\n",
      "Epoch:\t 11 Val Loss:\t 0.03232056009041709\n",
      "Epoch:\t 12 Val Loss:\t 0.03236828884759615\n"
     ]
    },
    {
     "name": "stderr",
     "output_type": "stream",
     "text": [
      "[I 2025-09-17 17:11:28,687] Trial 3 finished with value: 0.03153362184069877 and parameters: {'lr': 0.0001, 'weight_decay': 0.001, 'scheduler_factor': 0.3, 'scheduler_patience': 10, 'batch_size': 256, 'dropout': 0.2, 'hidden_dims': 1024}. Best is trial 2 with value: 0.031336952817858185.\n"
     ]
    },
    {
     "name": "stdout",
     "output_type": "stream",
     "text": [
      "Epoch:\t 13 Val Loss:\t 0.03226080772055443\n",
      "Epoch:\t 0 Val Loss:\t 0.06946864399656602\n",
      "Epoch:\t 1 Val Loss:\t 0.05034422948437285\n",
      "Epoch:\t 2 Val Loss:\t 0.04239194776157607\n",
      "Epoch:\t 3 Val Loss:\t 0.039210520838317005\n",
      "Epoch:\t 4 Val Loss:\t 0.03773771714241732\n",
      "Epoch:\t 5 Val Loss:\t 0.03689554299505884\n",
      "Epoch:\t 6 Val Loss:\t 0.03630781653104621\n",
      "Epoch:\t 7 Val Loss:\t 0.03586534345381905\n",
      "Epoch:\t 8 Val Loss:\t 0.03554883469047585\n",
      "Epoch:\t 9 Val Loss:\t 0.03526939304586625\n",
      "Epoch:\t 10 Val Loss:\t 0.0349476791130818\n",
      "Epoch:\t 11 Val Loss:\t 0.03469029342827066\n",
      "Epoch:\t 12 Val Loss:\t 0.034494420312319064\n",
      "Epoch:\t 13 Val Loss:\t 0.03432576006557468\n",
      "Epoch:\t 14 Val Loss:\t 0.03415078195796265\n",
      "Epoch:\t 15 Val Loss:\t 0.033985322605251715\n",
      "Epoch:\t 16 Val Loss:\t 0.033862909317258896\n",
      "Epoch:\t 17 Val Loss:\t 0.03370821835747925\n",
      "Epoch:\t 18 Val Loss:\t 0.033581433134125364\n",
      "Epoch:\t 19 Val Loss:\t 0.03344373619151448\n",
      "Epoch:\t 20 Val Loss:\t 0.03337828743592787\n",
      "Epoch:\t 21 Val Loss:\t 0.033243385668190656\n",
      "Epoch:\t 22 Val Loss:\t 0.033155994712614156\n",
      "Epoch:\t 23 Val Loss:\t 0.033079143180906705\n",
      "Epoch:\t 24 Val Loss:\t 0.03298111184220004\n",
      "Epoch:\t 25 Val Loss:\t 0.03290258798614127\n",
      "Epoch:\t 26 Val Loss:\t 0.0328414719227299\n",
      "Epoch:\t 27 Val Loss:\t 0.03277389320320992\n",
      "Epoch:\t 28 Val Loss:\t 0.03269958755046856\n",
      "Epoch:\t 29 Val Loss:\t 0.032662849894937875\n",
      "Epoch:\t 30 Val Loss:\t 0.03261474551985626\n",
      "Epoch:\t 31 Val Loss:\t 0.032577700190393216\n",
      "Epoch:\t 32 Val Loss:\t 0.032535699798653075\n",
      "Epoch:\t 33 Val Loss:\t 0.03248939583344119\n",
      "Epoch:\t 34 Val Loss:\t 0.03245089855369583\n",
      "Epoch:\t 35 Val Loss:\t 0.03243318423369205\n",
      "Epoch:\t 36 Val Loss:\t 0.0324111366720219\n",
      "Epoch:\t 37 Val Loss:\t 0.03239696915937495\n",
      "Epoch:\t 38 Val Loss:\t 0.032357886424947975\n",
      "Epoch:\t 39 Val Loss:\t 0.03233636778743633\n",
      "Epoch:\t 40 Val Loss:\t 0.0323142503798181\n",
      "Epoch:\t 41 Val Loss:\t 0.03229302867087476\n",
      "Epoch:\t 42 Val Loss:\t 0.03226144943260842\n",
      "Epoch:\t 43 Val Loss:\t 0.03225197855915342\n",
      "Epoch:\t 44 Val Loss:\t 0.03224412426265967\n",
      "Epoch:\t 45 Val Loss:\t 0.03221002754806157\n",
      "Epoch:\t 46 Val Loss:\t 0.03220386833653425\n",
      "Epoch:\t 47 Val Loss:\t 0.032172530651542505\n",
      "Epoch:\t 48 Val Loss:\t 0.032157843969286386\n",
      "Epoch:\t 49 Val Loss:\t 0.03214970099740812\n",
      "Epoch:\t 50 Val Loss:\t 0.03214027685016982\n",
      "Epoch:\t 51 Val Loss:\t 0.032114657133160016\n",
      "Epoch:\t 52 Val Loss:\t 0.03210979664176876\n",
      "Epoch:\t 53 Val Loss:\t 0.03209309688142991\n",
      "Epoch:\t 54 Val Loss:\t 0.03208285248670705\n",
      "Epoch:\t 55 Val Loss:\t 0.032066327170333656\n",
      "Epoch:\t 56 Val Loss:\t 0.03206114794163338\n",
      "Epoch:\t 57 Val Loss:\t 0.032041125825923215\n",
      "Epoch:\t 58 Val Loss:\t 0.03204116974411041\n",
      "Epoch:\t 59 Val Loss:\t 0.03202365753949381\n",
      "Epoch:\t 60 Val Loss:\t 0.032018179945760214\n",
      "Epoch:\t 61 Val Loss:\t 0.0320175390141074\n",
      "Epoch:\t 62 Val Loss:\t 0.032017556721134745\n",
      "Epoch:\t 63 Val Loss:\t 0.03199918843745216\n",
      "Epoch:\t 64 Val Loss:\t 0.031988049131514165\n",
      "Epoch:\t 65 Val Loss:\t 0.03198199695177402\n",
      "Epoch:\t 66 Val Loss:\t 0.031987260079549995\n",
      "Epoch:\t 67 Val Loss:\t 0.0319796200802725\n",
      "Epoch:\t 68 Val Loss:\t 0.031966481961387794\n",
      "Epoch:\t 69 Val Loss:\t 0.03195064638186415\n",
      "Epoch:\t 70 Val Loss:\t 0.031952145960480495\n",
      "Epoch:\t 71 Val Loss:\t 0.03195050044870058\n",
      "Epoch:\t 72 Val Loss:\t 0.03193059209279898\n",
      "Epoch:\t 73 Val Loss:\t 0.03192831827684562\n",
      "Epoch:\t 74 Val Loss:\t 0.03193127072733177\n",
      "Epoch:\t 75 Val Loss:\t 0.03192377986297721\n",
      "Epoch:\t 76 Val Loss:\t 0.031908352094573704\n",
      "Epoch:\t 77 Val Loss:\t 0.03192904464355329\n",
      "Epoch:\t 78 Val Loss:\t 0.03190533442771047\n",
      "Epoch:\t 79 Val Loss:\t 0.03191252234721779\n",
      "Epoch:\t 80 Val Loss:\t 0.03190689940442538\n",
      "Epoch:\t 81 Val Loss:\t 0.031901258475533344\n",
      "Epoch:\t 82 Val Loss:\t 0.03189601770815257\n",
      "Epoch:\t 83 Val Loss:\t 0.03188431264267981\n",
      "Epoch:\t 84 Val Loss:\t 0.03190566306234998\n",
      "Epoch:\t 85 Val Loss:\t 0.03188398816816414\n",
      "Epoch:\t 86 Val Loss:\t 0.031897892299325624\n",
      "Epoch:\t 87 Val Loss:\t 0.03189248452990659\n",
      "Epoch:\t 88 Val Loss:\t 0.03187013501636727\n",
      "Epoch:\t 89 Val Loss:\t 0.03187982722225574\n",
      "Epoch:\t 90 Val Loss:\t 0.031870540770140676\n",
      "Epoch:\t 91 Val Loss:\t 0.031880087367368214\n",
      "Epoch:\t 92 Val Loss:\t 0.031871936140142804\n",
      "Epoch:\t 93 Val Loss:\t 0.031857815204441337\n",
      "Epoch:\t 94 Val Loss:\t 0.031884289970762085\n",
      "Epoch:\t 95 Val Loss:\t 0.031867097055108984\n",
      "Epoch:\t 96 Val Loss:\t 0.031866506598760024\n",
      "Epoch:\t 97 Val Loss:\t 0.03187016113882973\n",
      "Epoch:\t 98 Val Loss:\t 0.031876299140864546\n"
     ]
    },
    {
     "name": "stderr",
     "output_type": "stream",
     "text": [
      "[I 2025-09-17 17:16:22,016] Trial 4 finished with value: 0.031857815204441337 and parameters: {'lr': 1e-06, 'weight_decay': 0.0001, 'scheduler_factor': 0.8, 'scheduler_patience': 5, 'batch_size': 128, 'dropout': 0.05, 'hidden_dims': 256}. Best is trial 2 with value: 0.031336952817858185.\n"
     ]
    },
    {
     "name": "stdout",
     "output_type": "stream",
     "text": [
      "Epoch:\t 99 Val Loss:\t 0.03186552027731476\n",
      "Epoch:\t 0 Val Loss:\t 0.0313297432776928\n",
      "Epoch:\t 1 Val Loss:\t 0.03131997943409279\n",
      "Epoch:\t 2 Val Loss:\t 0.03131527334776483\n",
      "Epoch:\t 3 Val Loss:\t 0.031341171341499774\n",
      "Epoch:\t 4 Val Loss:\t 0.03132157317535263\n",
      "Epoch:\t 5 Val Loss:\t 0.031346392020638277\n",
      "Epoch:\t 6 Val Loss:\t 0.03131929832464307\n",
      "Epoch:\t 7 Val Loss:\t 0.03128064343989237\n",
      "Epoch:\t 8 Val Loss:\t 0.031317647437494905\n",
      "Epoch:\t 9 Val Loss:\t 0.03130666462964764\n",
      "Epoch:\t 10 Val Loss:\t 0.03134685643917134\n",
      "Epoch:\t 11 Val Loss:\t 0.03130159109001813\n",
      "Epoch:\t 12 Val Loss:\t 0.03134012985844843\n",
      "Epoch:\t 13 Val Loss:\t 0.03133292144550051\n",
      "Epoch:\t 14 Val Loss:\t 0.03133257170110924\n",
      "Epoch:\t 15 Val Loss:\t 0.03129274471643077\n",
      "Epoch:\t 16 Val Loss:\t 0.031306066121876315\n"
     ]
    },
    {
     "name": "stderr",
     "output_type": "stream",
     "text": [
      "[I 2025-09-17 17:19:40,647] Trial 5 finished with value: 0.03128064343989237 and parameters: {'lr': 0.001, 'weight_decay': 1e-05, 'scheduler_factor': 0.1, 'scheduler_patience': 10, 'batch_size': 16, 'dropout': 0.1, 'hidden_dims': 256}. Best is trial 5 with value: 0.03128064343989237.\n"
     ]
    },
    {
     "name": "stdout",
     "output_type": "stream",
     "text": [
      "Epoch:\t 17 Val Loss:\t 0.0313344966440779\n"
     ]
    },
    {
     "name": "stderr",
     "output_type": "stream",
     "text": [
      "[I 2025-09-17 17:19:43,072] Trial 6 pruned. \n"
     ]
    },
    {
     "name": "stdout",
     "output_type": "stream",
     "text": [
      "Epoch:\t 0 Val Loss:\t 0.035490626711831536\n",
      "Epoch:\t 0 Val Loss:\t 0.03158616906173293\n",
      "Epoch:\t 1 Val Loss:\t 0.03163622075849359\n",
      "Epoch:\t 2 Val Loss:\t 0.031717393907503395\n",
      "Epoch:\t 3 Val Loss:\t 0.03171097952750915\n"
     ]
    },
    {
     "name": "stderr",
     "output_type": "stream",
     "text": [
      "[I 2025-09-17 17:20:36,436] Trial 7 pruned. \n"
     ]
    },
    {
     "name": "stdout",
     "output_type": "stream",
     "text": [
      "Epoch:\t 4 Val Loss:\t 0.031611582787049994\n"
     ]
    },
    {
     "name": "stderr",
     "output_type": "stream",
     "text": [
      "[I 2025-09-17 17:20:38,806] Trial 8 pruned. \n"
     ]
    },
    {
     "name": "stdout",
     "output_type": "stream",
     "text": [
      "Epoch:\t 0 Val Loss:\t 0.08802621288355007\n"
     ]
    },
    {
     "name": "stderr",
     "output_type": "stream",
     "text": [
      "[I 2025-09-17 17:20:41,726] Trial 9 pruned. \n"
     ]
    },
    {
     "name": "stdout",
     "output_type": "stream",
     "text": [
      "Epoch:\t 0 Val Loss:\t 0.09535181150273025\n",
      "Epoch:\t 0 Val Loss:\t 0.031349735180353513\n",
      "Epoch:\t 1 Val Loss:\t 0.03129031014991212\n",
      "Epoch:\t 2 Val Loss:\t 0.03134043223671664\n",
      "Epoch:\t 3 Val Loss:\t 0.03135630216659732\n",
      "Epoch:\t 4 Val Loss:\t 0.03131743847440734\n",
      "Epoch:\t 5 Val Loss:\t 0.031376364991100185\n",
      "Epoch:\t 6 Val Loss:\t 0.03133725178795903\n",
      "Epoch:\t 7 Val Loss:\t 0.031301427532452755\n",
      "Epoch:\t 8 Val Loss:\t 0.03118379074479181\n",
      "Epoch:\t 9 Val Loss:\t 0.031187257429928856\n",
      "Epoch:\t 10 Val Loss:\t 0.031181038446761164\n",
      "Epoch:\t 11 Val Loss:\t 0.031192948924447548\n",
      "Epoch:\t 12 Val Loss:\t 0.03118926892496173\n",
      "Epoch:\t 13 Val Loss:\t 0.031213834801391276\n",
      "Epoch:\t 14 Val Loss:\t 0.0311823144873144\n",
      "Epoch:\t 15 Val Loss:\t 0.031185533695196388\n",
      "Epoch:\t 16 Val Loss:\t 0.031174124832604615\n",
      "Epoch:\t 17 Val Loss:\t 0.031192190370790095\n",
      "Epoch:\t 18 Val Loss:\t 0.031189198530729427\n",
      "Epoch:\t 19 Val Loss:\t 0.031211666578266715\n",
      "Epoch:\t 20 Val Loss:\t 0.03120279871927158\n",
      "Epoch:\t 21 Val Loss:\t 0.03120289579813174\n",
      "Epoch:\t 22 Val Loss:\t 0.03124910997866992\n",
      "Epoch:\t 23 Val Loss:\t 0.0312241254687573\n",
      "Epoch:\t 24 Val Loss:\t 0.031212337616110652\n",
      "Epoch:\t 25 Val Loss:\t 0.03120634243166271\n"
     ]
    },
    {
     "name": "stderr",
     "output_type": "stream",
     "text": [
      "[I 2025-09-17 17:25:45,014] Trial 10 finished with value: 0.031174124832604615 and parameters: {'lr': 0.001, 'weight_decay': 1e-05, 'scheduler_factor': 0.1, 'scheduler_patience': 5, 'batch_size': 16, 'dropout': 0.15, 'hidden_dims': 512}. Best is trial 10 with value: 0.031174124832604615.\n"
     ]
    },
    {
     "name": "stdout",
     "output_type": "stream",
     "text": [
      "Epoch:\t 26 Val Loss:\t 0.031225414623353827\n",
      "Epoch:\t 0 Val Loss:\t 0.0313413279773104\n",
      "Epoch:\t 1 Val Loss:\t 0.031340343534220085\n",
      "Epoch:\t 2 Val Loss:\t 0.031316038205042585\n",
      "Epoch:\t 3 Val Loss:\t 0.03132072163724954\n",
      "Epoch:\t 4 Val Loss:\t 0.03134224853475265\n",
      "Epoch:\t 5 Val Loss:\t 0.031340218747263546\n",
      "Epoch:\t 6 Val Loss:\t 0.03132186385959789\n",
      "Epoch:\t 7 Val Loss:\t 0.03138166716940843\n",
      "Epoch:\t 8 Val Loss:\t 0.03129949776830559\n",
      "Epoch:\t 9 Val Loss:\t 0.031331236954942186\n",
      "Epoch:\t 10 Val Loss:\t 0.031365086174539356\n",
      "Epoch:\t 11 Val Loss:\t 0.03131406843307189\n",
      "Epoch:\t 12 Val Loss:\t 0.03132137573199436\n",
      "Epoch:\t 13 Val Loss:\t 0.031320999194480816\n",
      "Epoch:\t 14 Val Loss:\t 0.03128772019182332\n",
      "Epoch:\t 15 Val Loss:\t 0.031326027887543816\n",
      "Epoch:\t 16 Val Loss:\t 0.031339319716708273\n",
      "Epoch:\t 17 Val Loss:\t 0.031296484634560154\n",
      "Epoch:\t 18 Val Loss:\t 0.031335789094715946\n",
      "Epoch:\t 19 Val Loss:\t 0.03137740329308977\n",
      "Epoch:\t 20 Val Loss:\t 0.03131481715548666\n",
      "Epoch:\t 21 Val Loss:\t 0.031193199000299307\n",
      "Epoch:\t 22 Val Loss:\t 0.03119927300074057\n",
      "Epoch:\t 23 Val Loss:\t 0.031192980829372854\n",
      "Epoch:\t 24 Val Loss:\t 0.031183251574550114\n",
      "Epoch:\t 25 Val Loss:\t 0.031213183268222644\n",
      "Epoch:\t 26 Val Loss:\t 0.03117717145275377\n",
      "Epoch:\t 27 Val Loss:\t 0.031211993848235087\n",
      "Epoch:\t 28 Val Loss:\t 0.03117791758008473\n",
      "Epoch:\t 29 Val Loss:\t 0.03120315163378059\n",
      "Epoch:\t 30 Val Loss:\t 0.031204675166316014\n",
      "Epoch:\t 31 Val Loss:\t 0.03122350679696726\n",
      "Epoch:\t 32 Val Loss:\t 0.031203973392124888\n",
      "Epoch:\t 33 Val Loss:\t 0.031178583998066084\n",
      "Epoch:\t 34 Val Loss:\t 0.031183924729724106\n",
      "Epoch:\t 35 Val Loss:\t 0.031220545892002585\n"
     ]
    },
    {
     "name": "stderr",
     "output_type": "stream",
     "text": [
      "[I 2025-09-17 17:32:41,272] Trial 11 finished with value: 0.03117717145275377 and parameters: {'lr': 0.001, 'weight_decay': 1e-05, 'scheduler_factor': 0.1, 'scheduler_patience': 5, 'batch_size': 16, 'dropout': 0.15, 'hidden_dims': 512}. Best is trial 10 with value: 0.031174124832604615.\n"
     ]
    },
    {
     "name": "stdout",
     "output_type": "stream",
     "text": [
      "Epoch:\t 36 Val Loss:\t 0.031193611138033733\n",
      "Epoch:\t 0 Val Loss:\t 0.03150018284695133\n",
      "Epoch:\t 1 Val Loss:\t 0.031283375520088336\n",
      "Epoch:\t 2 Val Loss:\t 0.03127210915252973\n",
      "Epoch:\t 3 Val Loss:\t 0.03126851642029754\n",
      "Epoch:\t 4 Val Loss:\t 0.03124567605900993\n",
      "Epoch:\t 5 Val Loss:\t 0.03123086174594339\n",
      "Epoch:\t 6 Val Loss:\t 0.031231326142404914\n",
      "Epoch:\t 7 Val Loss:\t 0.0312351735640648\n",
      "Epoch:\t 8 Val Loss:\t 0.03126506630852343\n",
      "Epoch:\t 9 Val Loss:\t 0.03123942276358051\n",
      "Epoch:\t 10 Val Loss:\t 0.031227478321838434\n",
      "Epoch:\t 11 Val Loss:\t 0.031247368871568943\n",
      "Epoch:\t 12 Val Loss:\t 0.0312480650370853\n",
      "Epoch:\t 13 Val Loss:\t 0.03127352691088488\n",
      "Epoch:\t 14 Val Loss:\t 0.03123518660474294\n",
      "Epoch:\t 15 Val Loss:\t 0.03124017400090873\n",
      "Epoch:\t 16 Val Loss:\t 0.03121252670598736\n",
      "Epoch:\t 17 Val Loss:\t 0.031237875982184984\n",
      "Epoch:\t 18 Val Loss:\t 0.031227358142849115\n",
      "Epoch:\t 19 Val Loss:\t 0.03123700215837427\n",
      "Epoch:\t 20 Val Loss:\t 0.03120330560928642\n",
      "Epoch:\t 21 Val Loss:\t 0.03124869073775191\n",
      "Epoch:\t 22 Val Loss:\t 0.031235228870464007\n",
      "Epoch:\t 23 Val Loss:\t 0.031245108555464016\n",
      "Epoch:\t 24 Val Loss:\t 0.03122841002710393\n",
      "Epoch:\t 25 Val Loss:\t 0.031200792542072277\n",
      "Epoch:\t 26 Val Loss:\t 0.03122533741501688\n",
      "Epoch:\t 27 Val Loss:\t 0.031138302251324707\n",
      "Epoch:\t 28 Val Loss:\t 0.031130911216995984\n",
      "Epoch:\t 29 Val Loss:\t 0.03114695114408443\n",
      "Epoch:\t 30 Val Loss:\t 0.03114741445409304\n",
      "Epoch:\t 31 Val Loss:\t 0.03115311112023514\n",
      "Epoch:\t 32 Val Loss:\t 0.031159559015057077\n",
      "Epoch:\t 33 Val Loss:\t 0.03116435330475719\n",
      "Epoch:\t 34 Val Loss:\t 0.031148032292299885\n",
      "Epoch:\t 35 Val Loss:\t 0.031136773425050068\n",
      "Epoch:\t 36 Val Loss:\t 0.03113728603191384\n",
      "Epoch:\t 37 Val Loss:\t 0.031148477977988198\n"
     ]
    },
    {
     "name": "stderr",
     "output_type": "stream",
     "text": [
      "[I 2025-09-17 17:35:26,210] Trial 12 finished with value: 0.031130911216995984 and parameters: {'lr': 0.001, 'weight_decay': 1e-05, 'scheduler_factor': 0.1, 'scheduler_patience': 5, 'batch_size': 64, 'dropout': 0.15, 'hidden_dims': 512}. Best is trial 12 with value: 0.031130911216995984.\n"
     ]
    },
    {
     "name": "stdout",
     "output_type": "stream",
     "text": [
      "Epoch:\t 38 Val Loss:\t 0.03114670690082044\n",
      "Epoch:\t 0 Val Loss:\t 0.03139514131206658\n",
      "Epoch:\t 1 Val Loss:\t 0.031252075415872174\n",
      "Epoch:\t 2 Val Loss:\t 0.031247096938349726\n",
      "Epoch:\t 3 Val Loss:\t 0.031231676753193088\n",
      "Epoch:\t 4 Val Loss:\t 0.031242196515712778\n",
      "Epoch:\t 5 Val Loss:\t 0.03122970733836994\n",
      "Epoch:\t 6 Val Loss:\t 0.031219318626936065\n",
      "Epoch:\t 7 Val Loss:\t 0.03124435493226357\n",
      "Epoch:\t 8 Val Loss:\t 0.031242859405500558\n",
      "Epoch:\t 9 Val Loss:\t 0.031215842240298133\n",
      "Epoch:\t 10 Val Loss:\t 0.031246570675691684\n",
      "Epoch:\t 11 Val Loss:\t 0.031234880222858415\n",
      "Epoch:\t 12 Val Loss:\t 0.03121606848628038\n",
      "Epoch:\t 13 Val Loss:\t 0.031225734714092172\n",
      "Epoch:\t 14 Val Loss:\t 0.031230581609734392\n",
      "Epoch:\t 15 Val Loss:\t 0.031221119870739278\n",
      "Epoch:\t 16 Val Loss:\t 0.03114609018906527\n",
      "Epoch:\t 17 Val Loss:\t 0.031144714193744018\n",
      "Epoch:\t 18 Val Loss:\t 0.031146738287958723\n",
      "Epoch:\t 19 Val Loss:\t 0.031138098675993316\n",
      "Epoch:\t 20 Val Loss:\t 0.031137256877139013\n",
      "Epoch:\t 21 Val Loss:\t 0.031140180223567918\n",
      "Epoch:\t 22 Val Loss:\t 0.031147460525101932\n",
      "Epoch:\t 23 Val Loss:\t 0.031130892975397464\n",
      "Epoch:\t 24 Val Loss:\t 0.031145373115005773\n",
      "Epoch:\t 25 Val Loss:\t 0.031141922998907466\n",
      "Epoch:\t 26 Val Loss:\t 0.03115473951316302\n",
      "Epoch:\t 27 Val Loss:\t 0.03115536610677501\n",
      "Epoch:\t 28 Val Loss:\t 0.031161104355416046\n",
      "Epoch:\t 29 Val Loss:\t 0.031145316127577427\n",
      "Epoch:\t 30 Val Loss:\t 0.03113694783155301\n",
      "Epoch:\t 31 Val Loss:\t 0.031135269232608866\n",
      "Epoch:\t 32 Val Loss:\t 0.031137859460682076\n"
     ]
    },
    {
     "name": "stderr",
     "output_type": "stream",
     "text": [
      "[I 2025-09-17 17:37:50,692] Trial 13 finished with value: 0.031130892975397464 and parameters: {'lr': 0.001, 'weight_decay': 1e-05, 'scheduler_factor': 0.1, 'scheduler_patience': 5, 'batch_size': 64, 'dropout': 0.15, 'hidden_dims': 512}. Best is trial 13 with value: 0.031130892975397464.\n"
     ]
    },
    {
     "name": "stdout",
     "output_type": "stream",
     "text": [
      "Epoch:\t 33 Val Loss:\t 0.031138382551546228\n"
     ]
    },
    {
     "name": "stderr",
     "output_type": "stream",
     "text": [
      "[I 2025-09-17 17:37:54,887] Trial 14 pruned. \n"
     ]
    },
    {
     "name": "stdout",
     "output_type": "stream",
     "text": [
      "Epoch:\t 0 Val Loss:\t 0.03458397226430826\n"
     ]
    },
    {
     "name": "stderr",
     "output_type": "stream",
     "text": [
      "[I 2025-09-17 17:37:59,236] Trial 15 pruned. \n"
     ]
    },
    {
     "name": "stdout",
     "output_type": "stream",
     "text": [
      "Epoch:\t 0 Val Loss:\t 0.03279653715117858\n"
     ]
    },
    {
     "name": "stderr",
     "output_type": "stream",
     "text": [
      "[I 2025-09-17 17:38:03,444] Trial 16 pruned. \n"
     ]
    },
    {
     "name": "stdout",
     "output_type": "stream",
     "text": [
      "Epoch:\t 0 Val Loss:\t 0.03167062301407079\n",
      "Epoch:\t 0 Val Loss:\t 0.031307496053712074\n",
      "Epoch:\t 1 Val Loss:\t 0.03125942061161725\n",
      "Epoch:\t 2 Val Loss:\t 0.03123048848288217\n",
      "Epoch:\t 3 Val Loss:\t 0.031242936896079165\n",
      "Epoch:\t 4 Val Loss:\t 0.031229153487375153\n",
      "Epoch:\t 5 Val Loss:\t 0.031247887978772402\n",
      "Epoch:\t 6 Val Loss:\t 0.031245979696114395\n",
      "Epoch:\t 7 Val Loss:\t 0.031225852030467238\n",
      "Epoch:\t 8 Val Loss:\t 0.031235313044079362\n",
      "Epoch:\t 9 Val Loss:\t 0.03122951184927518\n",
      "Epoch:\t 10 Val Loss:\t 0.031237336253997067\n",
      "Epoch:\t 11 Val Loss:\t 0.03122662439579128\n",
      "Epoch:\t 12 Val Loss:\t 0.031255863148565564\n",
      "Epoch:\t 13 Val Loss:\t 0.031220824150146955\n",
      "Epoch:\t 14 Val Loss:\t 0.03123372176351827\n",
      "Epoch:\t 15 Val Loss:\t 0.031237207253658694\n",
      "Epoch:\t 16 Val Loss:\t 0.031214586900708222\n",
      "Epoch:\t 17 Val Loss:\t 0.031237872532561845\n",
      "Epoch:\t 18 Val Loss:\t 0.031229751880777416\n",
      "Epoch:\t 19 Val Loss:\t 0.03122199506207531\n",
      "Epoch:\t 20 Val Loss:\t 0.03126046382695073\n",
      "Epoch:\t 21 Val Loss:\t 0.031235511846585254\n",
      "Epoch:\t 22 Val Loss:\t 0.03121007377529345\n",
      "Epoch:\t 23 Val Loss:\t 0.031234979856536615\n",
      "Epoch:\t 24 Val Loss:\t 0.03123886361112791\n",
      "Epoch:\t 25 Val Loss:\t 0.03125287282366567\n",
      "Epoch:\t 26 Val Loss:\t 0.0312252465043124\n",
      "Epoch:\t 27 Val Loss:\t 0.031241941196034278\n"
     ]
    },
    {
     "name": "stderr",
     "output_type": "stream",
     "text": [
      "[I 2025-09-17 17:40:07,228] Trial 17 pruned. \n"
     ]
    },
    {
     "name": "stdout",
     "output_type": "stream",
     "text": [
      "Epoch:\t 28 Val Loss:\t 0.031218371531875826\n"
     ]
    },
    {
     "name": "stderr",
     "output_type": "stream",
     "text": [
      "[I 2025-09-17 17:40:11,607] Trial 18 pruned. \n"
     ]
    },
    {
     "name": "stdout",
     "output_type": "stream",
     "text": [
      "Epoch:\t 0 Val Loss:\t 0.034734289060782984\n"
     ]
    },
    {
     "name": "stderr",
     "output_type": "stream",
     "text": [
      "[I 2025-09-17 17:40:18,095] Trial 19 pruned. \n"
     ]
    },
    {
     "name": "stdout",
     "output_type": "stream",
     "text": [
      "Epoch:\t 0 Val Loss:\t 0.03283707240625602\n",
      "Epoch:\t 0 Val Loss:\t 0.03143595156026869\n",
      "Epoch:\t 1 Val Loss:\t 0.03126333928945379\n",
      "Epoch:\t 2 Val Loss:\t 0.03127754296084787\n",
      "Epoch:\t 3 Val Loss:\t 0.03125066674372275\n",
      "Epoch:\t 4 Val Loss:\t 0.031258618862336274\n",
      "Epoch:\t 5 Val Loss:\t 0.031218850671665584\n",
      "Epoch:\t 6 Val Loss:\t 0.03125337330009345\n",
      "Epoch:\t 7 Val Loss:\t 0.03122986639615795\n",
      "Epoch:\t 8 Val Loss:\t 0.03125745432210294\n",
      "Epoch:\t 9 Val Loss:\t 0.031243227821143988\n",
      "Epoch:\t 10 Val Loss:\t 0.031249287510663703\n",
      "Epoch:\t 11 Val Loss:\t 0.031233393095835862\n",
      "Epoch:\t 12 Val Loss:\t 0.03114934303234015\n",
      "Epoch:\t 13 Val Loss:\t 0.03115027343170005\n",
      "Epoch:\t 14 Val Loss:\t 0.031145026557065345\n",
      "Epoch:\t 15 Val Loss:\t 0.03114110454419672\n",
      "Epoch:\t 16 Val Loss:\t 0.031141749369677802\n",
      "Epoch:\t 17 Val Loss:\t 0.03114276749281363\n",
      "Epoch:\t 18 Val Loss:\t 0.031148987403328655\n",
      "Epoch:\t 19 Val Loss:\t 0.031150325917645865\n",
      "Epoch:\t 20 Val Loss:\t 0.031146218247811115\n",
      "Epoch:\t 21 Val Loss:\t 0.031154682868426785\n",
      "Epoch:\t 22 Val Loss:\t 0.031135417466947524\n",
      "Epoch:\t 23 Val Loss:\t 0.031140975085494134\n",
      "Epoch:\t 24 Val Loss:\t 0.031141716816089075\n",
      "Epoch:\t 25 Val Loss:\t 0.031151622550013934\n",
      "Epoch:\t 26 Val Loss:\t 0.031151465272711447\n",
      "Epoch:\t 27 Val Loss:\t 0.03115477456937712\n",
      "Epoch:\t 28 Val Loss:\t 0.03114210694025093\n",
      "Epoch:\t 29 Val Loss:\t 0.031144491224417283\n",
      "Epoch:\t 30 Val Loss:\t 0.031151974266713883\n",
      "Epoch:\t 31 Val Loss:\t 0.0311511172110337\n"
     ]
    },
    {
     "name": "stderr",
     "output_type": "stream",
     "text": [
      "[I 2025-09-17 17:42:35,725] Trial 20 finished with value: 0.031135417466947524 and parameters: {'lr': 0.001, 'weight_decay': 1e-05, 'scheduler_factor': 0.1, 'scheduler_patience': 5, 'batch_size': 64, 'dropout': 0.15, 'hidden_dims': 512}. Best is trial 13 with value: 0.031130892975397464.\n"
     ]
    },
    {
     "name": "stdout",
     "output_type": "stream",
     "text": [
      "Epoch:\t 32 Val Loss:\t 0.031152880807351527\n"
     ]
    },
    {
     "name": "stderr",
     "output_type": "stream",
     "text": [
      "[I 2025-09-17 17:42:39,894] Trial 21 pruned. \n"
     ]
    },
    {
     "name": "stdout",
     "output_type": "stream",
     "text": [
      "Epoch:\t 0 Val Loss:\t 0.03167354185793612\n"
     ]
    },
    {
     "name": "stderr",
     "output_type": "stream",
     "text": [
      "[I 2025-09-17 17:42:44,302] Trial 22 pruned. \n"
     ]
    },
    {
     "name": "stdout",
     "output_type": "stream",
     "text": [
      "Epoch:\t 0 Val Loss:\t 0.031571396512481545\n"
     ]
    },
    {
     "name": "stderr",
     "output_type": "stream",
     "text": [
      "[I 2025-09-17 17:42:48,766] Trial 23 pruned. \n"
     ]
    },
    {
     "name": "stdout",
     "output_type": "stream",
     "text": [
      "Epoch:\t 0 Val Loss:\t 0.03159220936993008\n",
      "Epoch:\t 0 Val Loss:\t 0.03133105088805848\n",
      "Epoch:\t 1 Val Loss:\t 0.031267978307194855\n",
      "Epoch:\t 2 Val Loss:\t 0.03125264721982574\n",
      "Epoch:\t 3 Val Loss:\t 0.03121373013907301\n",
      "Epoch:\t 4 Val Loss:\t 0.0312579114160874\n",
      "Epoch:\t 5 Val Loss:\t 0.031273584250734766\n",
      "Epoch:\t 6 Val Loss:\t 0.03121216206536242\n",
      "Epoch:\t 7 Val Loss:\t 0.031237320495565064\n",
      "Epoch:\t 8 Val Loss:\t 0.031213215563621412\n",
      "Epoch:\t 9 Val Loss:\t 0.031210821833260446\n",
      "Epoch:\t 10 Val Loss:\t 0.031148782266964416\n",
      "Epoch:\t 11 Val Loss:\t 0.03113997734875542\n",
      "Epoch:\t 12 Val Loss:\t 0.03114473184292841\n",
      "Epoch:\t 13 Val Loss:\t 0.031137091182799306\n",
      "Epoch:\t 14 Val Loss:\t 0.031146131422385807\n",
      "Epoch:\t 15 Val Loss:\t 0.03114889432404253\n",
      "Epoch:\t 16 Val Loss:\t 0.03114895336329937\n",
      "Epoch:\t 17 Val Loss:\t 0.03115851601268999\n",
      "Epoch:\t 18 Val Loss:\t 0.03113686704486003\n",
      "Epoch:\t 19 Val Loss:\t 0.031147803242079962\n",
      "Epoch:\t 20 Val Loss:\t 0.031141822376070643\n",
      "Epoch:\t 21 Val Loss:\t 0.03115559535050247\n",
      "Epoch:\t 22 Val Loss:\t 0.031152439761519848\n",
      "Epoch:\t 23 Val Loss:\t 0.031149854637072726\n",
      "Epoch:\t 24 Val Loss:\t 0.031156639032848547\n",
      "Epoch:\t 25 Val Loss:\t 0.031147140587960573\n",
      "Epoch:\t 26 Val Loss:\t 0.03115330629690712\n",
      "Epoch:\t 27 Val Loss:\t 0.031155781888522454\n"
     ]
    },
    {
     "name": "stderr",
     "output_type": "stream",
     "text": [
      "[I 2025-09-17 17:44:51,163] Trial 24 finished with value: 0.03113686704486003 and parameters: {'lr': 0.001, 'weight_decay': 1e-05, 'scheduler_factor': 0.1, 'scheduler_patience': 5, 'batch_size': 64, 'dropout': 0.15, 'hidden_dims': 128}. Best is trial 13 with value: 0.031130892975397464.\n"
     ]
    },
    {
     "name": "stdout",
     "output_type": "stream",
     "text": [
      "Epoch:\t 28 Val Loss:\t 0.03114446938941628\n",
      "Epoch:\t 0 Val Loss:\t 0.0312564348314418\n",
      "Epoch:\t 1 Val Loss:\t 0.031245964613337195\n",
      "Epoch:\t 2 Val Loss:\t 0.0312416754128953\n",
      "Epoch:\t 3 Val Loss:\t 0.031219537878539833\n",
      "Epoch:\t 4 Val Loss:\t 0.03124452861554562\n",
      "Epoch:\t 5 Val Loss:\t 0.031200065231572316\n",
      "Epoch:\t 6 Val Loss:\t 0.031230668036253108\n",
      "Epoch:\t 7 Val Loss:\t 0.031222786331680092\n",
      "Epoch:\t 8 Val Loss:\t 0.03125057418874475\n",
      "Epoch:\t 9 Val Loss:\t 0.031246806006798616\n",
      "Epoch:\t 10 Val Loss:\t 0.031225488053605574\n",
      "Epoch:\t 11 Val Loss:\t 0.031234626138817414\n",
      "Epoch:\t 12 Val Loss:\t 0.03114139966048339\n",
      "Epoch:\t 13 Val Loss:\t 0.031145481024103944\n",
      "Epoch:\t 14 Val Loss:\t 0.031138149301456076\n",
      "Epoch:\t 15 Val Loss:\t 0.03114778905224814\n",
      "Epoch:\t 16 Val Loss:\t 0.03114025314563904\n",
      "Epoch:\t 17 Val Loss:\t 0.03114674690607081\n",
      "Epoch:\t 18 Val Loss:\t 0.03115042361084348\n",
      "Epoch:\t 19 Val Loss:\t 0.031140390821385023\n",
      "Epoch:\t 20 Val Loss:\t 0.031138684522756227\n",
      "Epoch:\t 21 Val Loss:\t 0.031131564977336122\n",
      "Epoch:\t 22 Val Loss:\t 0.03114798097064242\n",
      "Epoch:\t 23 Val Loss:\t 0.031143574757599858\n",
      "Epoch:\t 24 Val Loss:\t 0.03114060416182009\n",
      "Epoch:\t 25 Val Loss:\t 0.03114345962061691\n",
      "Epoch:\t 26 Val Loss:\t 0.03114597003061586\n",
      "Epoch:\t 27 Val Loss:\t 0.03115030066761525\n",
      "Epoch:\t 28 Val Loss:\t 0.031152244729708255\n",
      "Epoch:\t 29 Val Loss:\t 0.03115052798275365\n",
      "Epoch:\t 30 Val Loss:\t 0.031147309780570565\n"
     ]
    },
    {
     "name": "stderr",
     "output_type": "stream",
     "text": [
      "[I 2025-09-17 17:47:04,228] Trial 25 finished with value: 0.031131564977336122 and parameters: {'lr': 0.001, 'weight_decay': 1e-05, 'scheduler_factor': 0.1, 'scheduler_patience': 5, 'batch_size': 64, 'dropout': 0.15, 'hidden_dims': 64}. Best is trial 13 with value: 0.031130892975397464.\n"
     ]
    },
    {
     "name": "stdout",
     "output_type": "stream",
     "text": [
      "Epoch:\t 31 Val Loss:\t 0.031150931672982815\n"
     ]
    },
    {
     "name": "stderr",
     "output_type": "stream",
     "text": [
      "[I 2025-09-17 17:47:11,237] Trial 26 pruned. \n"
     ]
    },
    {
     "name": "stdout",
     "output_type": "stream",
     "text": [
      "Epoch:\t 0 Val Loss:\t 0.0351243066178225\n"
     ]
    },
    {
     "name": "stderr",
     "output_type": "stream",
     "text": [
      "[I 2025-09-17 17:47:15,626] Trial 27 pruned. \n"
     ]
    },
    {
     "name": "stdout",
     "output_type": "stream",
     "text": [
      "Epoch:\t 0 Val Loss:\t 0.0327888497606015\n"
     ]
    },
    {
     "name": "stderr",
     "output_type": "stream",
     "text": [
      "[I 2025-09-17 17:47:19,763] Trial 28 pruned. \n"
     ]
    },
    {
     "name": "stdout",
     "output_type": "stream",
     "text": [
      "Epoch:\t 0 Val Loss:\t 0.07973115201077348\n"
     ]
    },
    {
     "name": "stderr",
     "output_type": "stream",
     "text": [
      "[I 2025-09-17 17:47:23,909] Trial 29 pruned. \n"
     ]
    },
    {
     "name": "stdout",
     "output_type": "stream",
     "text": [
      "Epoch:\t 0 Val Loss:\t 0.03150429957380353\n",
      "Epoch:\t 0 Val Loss:\t 0.031317106537300354\n",
      "Epoch:\t 1 Val Loss:\t 0.03125631170551651\n",
      "Epoch:\t 2 Val Loss:\t 0.03122771970032608\n",
      "Epoch:\t 3 Val Loss:\t 0.03125156961420353\n",
      "Epoch:\t 4 Val Loss:\t 0.031230546584870674\n",
      "Epoch:\t 5 Val Loss:\t 0.031206338093964708\n",
      "Epoch:\t 6 Val Loss:\t 0.031201286920310104\n",
      "Epoch:\t 7 Val Loss:\t 0.031235990896648056\n",
      "Epoch:\t 8 Val Loss:\t 0.031217250483271623\n",
      "Epoch:\t 9 Val Loss:\t 0.03123389188150507\n",
      "Epoch:\t 10 Val Loss:\t 0.031216217853557004\n",
      "Epoch:\t 11 Val Loss:\t 0.031218992112700635\n",
      "Epoch:\t 12 Val Loss:\t 0.031222975296652116\n",
      "Epoch:\t 13 Val Loss:\t 0.031249409835532663\n",
      "Epoch:\t 14 Val Loss:\t 0.03123021897337185\n",
      "Epoch:\t 15 Val Loss:\t 0.031235953813469556\n"
     ]
    },
    {
     "name": "stderr",
     "output_type": "stream",
     "text": [
      "[I 2025-09-17 17:48:34,777] Trial 30 finished with value: 0.031201286920310104 and parameters: {'lr': 0.001, 'weight_decay': 1e-05, 'scheduler_factor': 0.1, 'scheduler_patience': 20, 'batch_size': 64, 'dropout': 0.15, 'hidden_dims': 64}. Best is trial 13 with value: 0.031130892975397464.\n"
     ]
    },
    {
     "name": "stdout",
     "output_type": "stream",
     "text": [
      "Epoch:\t 16 Val Loss:\t 0.031226180399780486\n"
     ]
    },
    {
     "name": "stderr",
     "output_type": "stream",
     "text": [
      "[I 2025-09-17 17:48:39,181] Trial 31 pruned. \n"
     ]
    },
    {
     "name": "stdout",
     "output_type": "stream",
     "text": [
      "Epoch:\t 0 Val Loss:\t 0.031457649132002254\n"
     ]
    },
    {
     "name": "stderr",
     "output_type": "stream",
     "text": [
      "[I 2025-09-17 17:48:43,317] Trial 32 pruned. \n"
     ]
    },
    {
     "name": "stdout",
     "output_type": "stream",
     "text": [
      "Epoch:\t 0 Val Loss:\t 0.031710414066737774\n"
     ]
    },
    {
     "name": "stderr",
     "output_type": "stream",
     "text": [
      "[I 2025-09-17 17:48:46,349] Trial 33 pruned. \n"
     ]
    },
    {
     "name": "stdout",
     "output_type": "stream",
     "text": [
      "Epoch:\t 0 Val Loss:\t 0.03187052239247454\n"
     ]
    },
    {
     "name": "stderr",
     "output_type": "stream",
     "text": [
      "[I 2025-09-17 17:48:52,785] Trial 34 pruned. \n"
     ]
    },
    {
     "name": "stdout",
     "output_type": "stream",
     "text": [
      "Epoch:\t 0 Val Loss:\t 0.03145657412251603\n"
     ]
    },
    {
     "name": "stderr",
     "output_type": "stream",
     "text": [
      "[I 2025-09-17 17:48:56,960] Trial 35 pruned. \n"
     ]
    },
    {
     "name": "stdout",
     "output_type": "stream",
     "text": [
      "Epoch:\t 0 Val Loss:\t 0.03175820032641664\n"
     ]
    },
    {
     "name": "stderr",
     "output_type": "stream",
     "text": [
      "[I 2025-09-17 17:48:59,399] Trial 36 pruned. \n"
     ]
    },
    {
     "name": "stdout",
     "output_type": "stream",
     "text": [
      "Epoch:\t 0 Val Loss:\t 0.039466022682744406\n"
     ]
    },
    {
     "name": "stderr",
     "output_type": "stream",
     "text": [
      "[I 2025-09-17 17:49:02,361] Trial 37 pruned. \n"
     ]
    },
    {
     "name": "stdout",
     "output_type": "stream",
     "text": [
      "Epoch:\t 0 Val Loss:\t 0.03192299959854451\n"
     ]
    },
    {
     "name": "stderr",
     "output_type": "stream",
     "text": [
      "[I 2025-09-17 17:49:06,549] Trial 38 pruned. \n"
     ]
    },
    {
     "name": "stdout",
     "output_type": "stream",
     "text": [
      "Epoch:\t 0 Val Loss:\t 0.03161771959574916\n"
     ]
    },
    {
     "name": "stderr",
     "output_type": "stream",
     "text": [
      "[I 2025-09-17 17:49:08,948] Trial 39 pruned. \n"
     ]
    },
    {
     "name": "stdout",
     "output_type": "stream",
     "text": [
      "Epoch:\t 0 Val Loss:\t 0.09574745453374331\n",
      "Epoch:\t 0 Val Loss:\t 0.03136630544305989\n",
      "Epoch:\t 1 Val Loss:\t 0.03127904024431336\n",
      "Epoch:\t 2 Val Loss:\t 0.03123222985610288\n",
      "Epoch:\t 3 Val Loss:\t 0.03122215588845732\n",
      "Epoch:\t 4 Val Loss:\t 0.031205298093667018\n",
      "Epoch:\t 5 Val Loss:\t 0.031225950536612708\n",
      "Epoch:\t 6 Val Loss:\t 0.031246102016659165\n",
      "Epoch:\t 7 Val Loss:\t 0.031253645136018374\n",
      "Epoch:\t 8 Val Loss:\t 0.031229312621917547\n",
      "Epoch:\t 9 Val Loss:\t 0.031223445929677695\n",
      "Epoch:\t 10 Val Loss:\t 0.03122126785103173\n",
      "Epoch:\t 11 Val Loss:\t 0.031221698904739723\n",
      "Epoch:\t 12 Val Loss:\t 0.03124225033350933\n",
      "Epoch:\t 13 Val Loss:\t 0.03119040133774246\n",
      "Epoch:\t 14 Val Loss:\t 0.031229252341617973\n",
      "Epoch:\t 15 Val Loss:\t 0.031228021581809116\n",
      "Epoch:\t 16 Val Loss:\t 0.03123177220970306\n",
      "Epoch:\t 17 Val Loss:\t 0.031204532080579137\n",
      "Epoch:\t 18 Val Loss:\t 0.031217990339329888\n",
      "Epoch:\t 19 Val Loss:\t 0.031190796867142705\n",
      "Epoch:\t 20 Val Loss:\t 0.031211627834301942\n",
      "Epoch:\t 21 Val Loss:\t 0.031194062093818736\n",
      "Epoch:\t 22 Val Loss:\t 0.031210229419132894\n"
     ]
    },
    {
     "name": "stderr",
     "output_type": "stream",
     "text": [
      "[I 2025-09-17 17:50:50,259] Trial 40 finished with value: 0.03119040133774246 and parameters: {'lr': 0.001, 'weight_decay': 1e-05, 'scheduler_factor': 0.8, 'scheduler_patience': 10, 'batch_size': 64, 'dropout': 0.05, 'hidden_dims': 256}. Best is trial 13 with value: 0.031130892975397464.\n"
     ]
    },
    {
     "name": "stdout",
     "output_type": "stream",
     "text": [
      "Epoch:\t 23 Val Loss:\t 0.03122339815493766\n",
      "Epoch:\t 0 Val Loss:\t 0.03132562244497996\n",
      "Epoch:\t 1 Val Loss:\t 0.031234127730433842\n",
      "Epoch:\t 2 Val Loss:\t 0.031244165494873712\n",
      "Epoch:\t 3 Val Loss:\t 0.0312583500295618\n",
      "Epoch:\t 4 Val Loss:\t 0.03121780622934299\n",
      "Epoch:\t 5 Val Loss:\t 0.03122902104281888\n",
      "Epoch:\t 6 Val Loss:\t 0.03128235139173266\n",
      "Epoch:\t 7 Val Loss:\t 0.03121969784116475\n",
      "Epoch:\t 8 Val Loss:\t 0.031231675166215098\n",
      "Epoch:\t 9 Val Loss:\t 0.031215334953269985\n",
      "Epoch:\t 10 Val Loss:\t 0.0312372331609663\n",
      "Epoch:\t 11 Val Loss:\t 0.03114377594381588\n",
      "Epoch:\t 12 Val Loss:\t 0.031146371063629833\n",
      "Epoch:\t 13 Val Loss:\t 0.0311501745428637\n",
      "Epoch:\t 14 Val Loss:\t 0.031162015685094906\n",
      "Epoch:\t 15 Val Loss:\t 0.031157465668928117\n",
      "Epoch:\t 16 Val Loss:\t 0.03115397909882106\n",
      "Epoch:\t 17 Val Loss:\t 0.031159106293910475\n",
      "Epoch:\t 18 Val Loss:\t 0.03114625462182234\n",
      "Epoch:\t 19 Val Loss:\t 0.031151290480274485\n",
      "Epoch:\t 20 Val Loss:\t 0.03114632266836843\n"
     ]
    },
    {
     "name": "stderr",
     "output_type": "stream",
     "text": [
      "[I 2025-09-17 17:52:24,922] Trial 41 finished with value: 0.03114377594381588 and parameters: {'lr': 0.001, 'weight_decay': 1e-05, 'scheduler_factor': 0.1, 'scheduler_patience': 5, 'batch_size': 64, 'dropout': 0.15, 'hidden_dims': 128}. Best is trial 13 with value: 0.031130892975397464.\n"
     ]
    },
    {
     "name": "stdout",
     "output_type": "stream",
     "text": [
      "Epoch:\t 21 Val Loss:\t 0.03114562671798056\n",
      "Epoch:\t 0 Val Loss:\t 0.03130626414258744\n",
      "Epoch:\t 1 Val Loss:\t 0.03127413273216574\n",
      "Epoch:\t 2 Val Loss:\t 0.03125905063169783\n",
      "Epoch:\t 3 Val Loss:\t 0.03126373621340554\n",
      "Epoch:\t 4 Val Loss:\t 0.031264418023689775\n",
      "Epoch:\t 5 Val Loss:\t 0.03123953849622073\n",
      "Epoch:\t 6 Val Loss:\t 0.031233304894236858\n",
      "Epoch:\t 7 Val Loss:\t 0.031249999481097114\n",
      "Epoch:\t 8 Val Loss:\t 0.031228246714312256\n",
      "Epoch:\t 9 Val Loss:\t 0.031259559001935756\n",
      "Epoch:\t 10 Val Loss:\t 0.031226409153793346\n",
      "Epoch:\t 11 Val Loss:\t 0.03124028273484628\n",
      "Epoch:\t 12 Val Loss:\t 0.03123159330387968\n",
      "Epoch:\t 13 Val Loss:\t 0.031222918827045608\n",
      "Epoch:\t 14 Val Loss:\t 0.031247087338646347\n",
      "Epoch:\t 15 Val Loss:\t 0.03124965341935757\n",
      "Epoch:\t 16 Val Loss:\t 0.03123316942707128\n"
     ]
    },
    {
     "name": "stderr",
     "output_type": "stream",
     "text": [
      "[I 2025-09-17 17:53:39,524] Trial 42 pruned. \n"
     ]
    },
    {
     "name": "stdout",
     "output_type": "stream",
     "text": [
      "Epoch:\t 17 Val Loss:\t 0.031245273141729854\n",
      "Epoch:\t 0 Val Loss:\t 0.031356707043042165\n"
     ]
    },
    {
     "name": "stderr",
     "output_type": "stream",
     "text": [
      "[I 2025-09-17 17:54:01,575] Trial 43 pruned. \n"
     ]
    },
    {
     "name": "stdout",
     "output_type": "stream",
     "text": [
      "Epoch:\t 1 Val Loss:\t 0.031324957960714765\n",
      "Epoch:\t 0 Val Loss:\t 0.03133719382473569\n",
      "Epoch:\t 1 Val Loss:\t 0.0312577123595353\n",
      "Epoch:\t 2 Val Loss:\t 0.031239722196490557\n",
      "Epoch:\t 3 Val Loss:\t 0.031250957510954615\n",
      "Epoch:\t 4 Val Loss:\t 0.031249957373209007\n",
      "Epoch:\t 5 Val Loss:\t 0.031138447520349583\n",
      "Epoch:\t 6 Val Loss:\t 0.031144501473830317\n",
      "Epoch:\t 7 Val Loss:\t 0.03115411903936193\n",
      "Epoch:\t 8 Val Loss:\t 0.031125158768793695\n",
      "Epoch:\t 9 Val Loss:\t 0.031132548566403875\n",
      "Epoch:\t 10 Val Loss:\t 0.031132224900729078\n",
      "Epoch:\t 11 Val Loss:\t 0.03112478101181728\n",
      "Epoch:\t 12 Val Loss:\t 0.031132008894430435\n",
      "Epoch:\t 13 Val Loss:\t 0.031130774141231457\n",
      "Epoch:\t 14 Val Loss:\t 0.0311335765843691\n",
      "Epoch:\t 15 Val Loss:\t 0.031142510765611052\n",
      "Epoch:\t 16 Val Loss:\t 0.031134194657163293\n",
      "Epoch:\t 17 Val Loss:\t 0.031128456957694478\n",
      "Epoch:\t 18 Val Loss:\t 0.031138304809083514\n",
      "Epoch:\t 19 Val Loss:\t 0.03113292902059425\n",
      "Epoch:\t 20 Val Loss:\t 0.031129322299605112\n"
     ]
    },
    {
     "name": "stderr",
     "output_type": "stream",
     "text": [
      "[I 2025-09-17 17:55:33,134] Trial 44 finished with value: 0.03112478101181728 and parameters: {'lr': 0.001, 'weight_decay': 1e-05, 'scheduler_factor': 0.1, 'scheduler_patience': 1, 'batch_size': 64, 'dropout': 0.15, 'hidden_dims': 128}. Best is trial 44 with value: 0.03112478101181728.\n"
     ]
    },
    {
     "name": "stdout",
     "output_type": "stream",
     "text": [
      "Epoch:\t 21 Val Loss:\t 0.03112753142304913\n",
      "Epoch:\t 0 Val Loss:\t 0.03129089040140115\n",
      "Epoch:\t 1 Val Loss:\t 0.031213989491059347\n",
      "Epoch:\t 2 Val Loss:\t 0.031235962016459336\n",
      "Epoch:\t 3 Val Loss:\t 0.03123471111673224\n",
      "Epoch:\t 4 Val Loss:\t 0.031141994208599064\n",
      "Epoch:\t 5 Val Loss:\t 0.03115358856710423\n",
      "Epoch:\t 6 Val Loss:\t 0.031139510564259575\n",
      "Epoch:\t 7 Val Loss:\t 0.03113198930584651\n",
      "Epoch:\t 8 Val Loss:\t 0.031141595263088157\n",
      "Epoch:\t 9 Val Loss:\t 0.03113734890672784\n",
      "Epoch:\t 10 Val Loss:\t 0.03113461375340292\n",
      "Epoch:\t 11 Val Loss:\t 0.03113979750674475\n",
      "Epoch:\t 12 Val Loss:\t 0.031136233244984216\n",
      "Epoch:\t 13 Val Loss:\t 0.0311422941128459\n",
      "Epoch:\t 14 Val Loss:\t 0.03114121237437841\n",
      "Epoch:\t 15 Val Loss:\t 0.031131851569561855\n",
      "Epoch:\t 16 Val Loss:\t 0.031134248823057202\n",
      "Epoch:\t 17 Val Loss:\t 0.031145984506925316\n",
      "Epoch:\t 18 Val Loss:\t 0.031135464602788383\n",
      "Epoch:\t 19 Val Loss:\t 0.03113549998223574\n",
      "Epoch:\t 20 Val Loss:\t 0.031134309146598683\n",
      "Epoch:\t 21 Val Loss:\t 0.031139476335046944\n",
      "Epoch:\t 22 Val Loss:\t 0.03113981632670378\n",
      "Epoch:\t 23 Val Loss:\t 0.031136384408962083\n",
      "Epoch:\t 24 Val Loss:\t 0.031152513521402917\n"
     ]
    },
    {
     "name": "stderr",
     "output_type": "stream",
     "text": [
      "[I 2025-09-17 17:57:18,914] Trial 45 finished with value: 0.031131851569561855 and parameters: {'lr': 0.001, 'weight_decay': 1e-05, 'scheduler_factor': 0.1, 'scheduler_patience': 1, 'batch_size': 64, 'dropout': 0.2, 'hidden_dims': 64}. Best is trial 44 with value: 0.03112478101181728.\n"
     ]
    },
    {
     "name": "stdout",
     "output_type": "stream",
     "text": [
      "Epoch:\t 25 Val Loss:\t 0.031136795586527467\n"
     ]
    },
    {
     "name": "stderr",
     "output_type": "stream",
     "text": [
      "[I 2025-09-17 17:57:21,777] Trial 46 pruned. \n"
     ]
    },
    {
     "name": "stdout",
     "output_type": "stream",
     "text": [
      "Epoch:\t 0 Val Loss:\t 0.09230733780529994\n"
     ]
    },
    {
     "name": "stderr",
     "output_type": "stream",
     "text": [
      "[I 2025-09-17 17:57:24,118] Trial 47 pruned. \n"
     ]
    },
    {
     "name": "stdout",
     "output_type": "stream",
     "text": [
      "Epoch:\t 0 Val Loss:\t 0.031609703600406644\n",
      "Epoch:\t 0 Val Loss:\t 0.03130162618762477\n",
      "Epoch:\t 1 Val Loss:\t 0.03123664093104806\n",
      "Epoch:\t 2 Val Loss:\t 0.03126728741432372\n",
      "Epoch:\t 3 Val Loss:\t 0.03125170164024269\n",
      "Epoch:\t 4 Val Loss:\t 0.031172424972589142\n",
      "Epoch:\t 5 Val Loss:\t 0.031195694257217587\n",
      "Epoch:\t 6 Val Loss:\t 0.03119257922667616\n",
      "Epoch:\t 7 Val Loss:\t 0.03117750683642927\n",
      "Epoch:\t 8 Val Loss:\t 0.031199119593280675\n",
      "Epoch:\t 9 Val Loss:\t 0.031190232397418537\n",
      "Epoch:\t 10 Val Loss:\t 0.0311966970388371\n",
      "Epoch:\t 11 Val Loss:\t 0.031182626983936916\n",
      "Epoch:\t 12 Val Loss:\t 0.031215690626389493\n",
      "Epoch:\t 13 Val Loss:\t 0.03119658996849219\n"
     ]
    },
    {
     "name": "stderr",
     "output_type": "stream",
     "text": [
      "[I 2025-09-17 18:00:09,720] Trial 48 finished with value: 0.031172424972589142 and parameters: {'lr': 0.001, 'weight_decay': 1e-06, 'scheduler_factor': 0.1, 'scheduler_patience': 1, 'batch_size': 16, 'dropout': 0.2, 'hidden_dims': 64}. Best is trial 44 with value: 0.03112478101181728.\n"
     ]
    },
    {
     "name": "stdout",
     "output_type": "stream",
     "text": [
      "Epoch:\t 14 Val Loss:\t 0.03117969543866983\n"
     ]
    },
    {
     "name": "stderr",
     "output_type": "stream",
     "text": [
      "[I 2025-09-17 18:00:13,942] Trial 49 pruned. \n"
     ]
    },
    {
     "name": "stdout",
     "output_type": "stream",
     "text": [
      "Epoch:\t 0 Val Loss:\t 0.03850240543164698\n",
      "Training model with best parameters on train+validation ...\n"
     ]
    },
    {
     "name": "stderr",
     "output_type": "stream",
     "text": [
      "100%|█████████████████████████████████████████████████████████████████████████████████████████████████████████████████████████████████████| 557340/557340 [05:25<00:00, 1714.78it/s]\n",
      "100%|█████████████████████████████████████████████████████████████████████████████████████████████████████████████████████████████████████| 557340/557340 [01:37<00:00, 5689.85it/s]\n"
     ]
    },
    {
     "name": "stdout",
     "output_type": "stream",
     "text": [
      "Getting test set predictions and saving results ...\n"
     ]
    },
    {
     "name": "stderr",
     "output_type": "stream",
     "text": [
      "100%|█████████████████████████████████████████████████████████████████████████████████████████████████████████████████████████████████████████| 1640/1640 [00:01<00:00, 1379.94it/s]\n"
     ]
    }
   ],
   "source": [
    "train_different_featno(\n",
    "        adata_path=\"./data/feature_number/sciplex_hvg_1000.h5ad\",\n",
    "        run_name=\"mlp_hvg_1000\",\n",
    "        res_savename=\"./results/feature_number/mlp_hvg_1000_res.pkl\",\n",
    "        input_dim=1000,\n",
    "        output_dim=1000,\n",
    "    )"
   ]
  },
  {
   "cell_type": "code",
   "execution_count": 5,
   "id": "4498a7a8-65c6-4ea8-b465-b4eb2874adc9",
   "metadata": {},
   "outputs": [
    {
     "name": "stdout",
     "output_type": "stream",
     "text": [
      "Loading Datasets ...\n"
     ]
    },
    {
     "name": "stderr",
     "output_type": "stream",
     "text": [
      "100%|█████████████████████████████████████████████████████████████████████████████████████████████████████████████████████████████████████| 557340/557340 [04:15<00:00, 2180.78it/s]\n",
      "100%|█████████████████████████████████████████████████████████████████████████████████████████████████████████████████████████████████████| 557340/557340 [01:43<00:00, 5381.73it/s]\n",
      "[I 2025-09-17 18:14:17,819] A new study created in RDB with name: mlp_hvg_2000\n"
     ]
    },
    {
     "name": "stdout",
     "output_type": "stream",
     "text": [
      "Optimizing Hyperparameters with Optuna ...\n",
      "Epoch:\t 0 Val Loss:\t 0.027309369018926576\n",
      "Epoch:\t 1 Val Loss:\t 0.026106059553402363\n",
      "Epoch:\t 2 Val Loss:\t 0.025527912997894864\n",
      "Epoch:\t 3 Val Loss:\t 0.025220386530342972\n",
      "Epoch:\t 4 Val Loss:\t 0.025037125456087404\n",
      "Epoch:\t 5 Val Loss:\t 0.024931733726884016\n",
      "Epoch:\t 6 Val Loss:\t 0.024846626677129603\n",
      "Epoch:\t 7 Val Loss:\t 0.02479738046379455\n",
      "Epoch:\t 8 Val Loss:\t 0.02474619487557954\n",
      "Epoch:\t 9 Val Loss:\t 0.024699006233965756\n",
      "Epoch:\t 10 Val Loss:\t 0.024674366616603945\n",
      "Epoch:\t 11 Val Loss:\t 0.024659861102007963\n",
      "Epoch:\t 12 Val Loss:\t 0.02461790503732834\n",
      "Epoch:\t 13 Val Loss:\t 0.02459737251790697\n",
      "Epoch:\t 14 Val Loss:\t 0.024580252171860755\n",
      "Epoch:\t 15 Val Loss:\t 0.024556537901898295\n",
      "Epoch:\t 16 Val Loss:\t 0.024538074945652386\n",
      "Epoch:\t 17 Val Loss:\t 0.024522209366941425\n",
      "Epoch:\t 18 Val Loss:\t 0.024510180023817926\n",
      "Epoch:\t 19 Val Loss:\t 0.02449055992361076\n",
      "Epoch:\t 20 Val Loss:\t 0.024483757593282838\n",
      "Epoch:\t 21 Val Loss:\t 0.024483055739504534\n",
      "Epoch:\t 22 Val Loss:\t 0.024470088841192398\n",
      "Epoch:\t 23 Val Loss:\t 0.024468553093511883\n",
      "Epoch:\t 24 Val Loss:\t 0.024468210483625377\n",
      "Epoch:\t 25 Val Loss:\t 0.024488149215137364\n",
      "Epoch:\t 26 Val Loss:\t 0.024497440640796214\n",
      "Epoch:\t 27 Val Loss:\t 0.024508947601734415\n",
      "Epoch:\t 28 Val Loss:\t 0.02454490748717602\n",
      "Epoch:\t 29 Val Loss:\t 0.024566128473560152\n",
      "Epoch:\t 30 Val Loss:\t 0.02459513573203145\n",
      "Epoch:\t 31 Val Loss:\t 0.024635212939409984\n",
      "Epoch:\t 32 Val Loss:\t 0.02466842500140304\n",
      "Epoch:\t 33 Val Loss:\t 0.024699205863662713\n"
     ]
    },
    {
     "name": "stderr",
     "output_type": "stream",
     "text": [
      "[I 2025-09-17 18:19:18,219] Trial 0 finished with value: 0.024468210483625377 and parameters: {'lr': 1e-05, 'weight_decay': 1e-05, 'scheduler_factor': 0.1, 'scheduler_patience': 20, 'batch_size': 128, 'dropout': 0.1, 'hidden_dims': 512}. Best is trial 0 with value: 0.024468210483625377.\n"
     ]
    },
    {
     "name": "stdout",
     "output_type": "stream",
     "text": [
      "Epoch:\t 34 Val Loss:\t 0.024760693184053578\n",
      "Epoch:\t 0 Val Loss:\t 0.02825512953794899\n",
      "Epoch:\t 1 Val Loss:\t 0.02712663306831561\n",
      "Epoch:\t 2 Val Loss:\t 0.02641159850316592\n",
      "Epoch:\t 3 Val Loss:\t 0.025889900596492155\n",
      "Epoch:\t 4 Val Loss:\t 0.025587719963099033\n",
      "Epoch:\t 5 Val Loss:\t 0.02534706391616802\n",
      "Epoch:\t 6 Val Loss:\t 0.0251882363618259\n",
      "Epoch:\t 7 Val Loss:\t 0.025072885331198256\n",
      "Epoch:\t 8 Val Loss:\t 0.0249510719750958\n",
      "Epoch:\t 9 Val Loss:\t 0.024884309453072843\n",
      "Epoch:\t 10 Val Loss:\t 0.024811068764173955\n",
      "Epoch:\t 11 Val Loss:\t 0.02472235741215085\n",
      "Epoch:\t 12 Val Loss:\t 0.024676887819755064\n",
      "Epoch:\t 13 Val Loss:\t 0.024625298651966193\n",
      "Epoch:\t 14 Val Loss:\t 0.024631238544929164\n",
      "Epoch:\t 15 Val Loss:\t 0.024564971350999214\n",
      "Epoch:\t 16 Val Loss:\t 0.024532639127385195\n",
      "Epoch:\t 17 Val Loss:\t 0.024522014165206087\n",
      "Epoch:\t 18 Val Loss:\t 0.024498603750956856\n",
      "Epoch:\t 19 Val Loss:\t 0.024477961987941207\n",
      "Epoch:\t 20 Val Loss:\t 0.024494098667090496\n",
      "Epoch:\t 21 Val Loss:\t 0.024496628134068922\n",
      "Epoch:\t 22 Val Loss:\t 0.024440906536421537\n",
      "Epoch:\t 23 Val Loss:\t 0.024473492163409778\n",
      "Epoch:\t 24 Val Loss:\t 0.02441281545420858\n",
      "Epoch:\t 25 Val Loss:\t 0.024435530269396082\n",
      "Epoch:\t 26 Val Loss:\t 0.024433363797314693\n",
      "Epoch:\t 27 Val Loss:\t 0.02442280264404041\n",
      "Epoch:\t 28 Val Loss:\t 0.024448358687282637\n",
      "Epoch:\t 29 Val Loss:\t 0.02440275706352965\n",
      "Epoch:\t 30 Val Loss:\t 0.024386247268967234\n",
      "Epoch:\t 31 Val Loss:\t 0.024427091116165364\n",
      "Epoch:\t 32 Val Loss:\t 0.024446897433786162\n",
      "Epoch:\t 33 Val Loss:\t 0.024384416806802475\n",
      "Epoch:\t 34 Val Loss:\t 0.024372267684765917\n",
      "Epoch:\t 35 Val Loss:\t 0.02438576371474798\n",
      "Epoch:\t 36 Val Loss:\t 0.024386515926143288\n",
      "Epoch:\t 37 Val Loss:\t 0.024390497395273443\n",
      "Epoch:\t 38 Val Loss:\t 0.024385643289996674\n",
      "Epoch:\t 39 Val Loss:\t 0.02434474643510082\n",
      "Epoch:\t 40 Val Loss:\t 0.024462862727828796\n",
      "Epoch:\t 41 Val Loss:\t 0.024364099696378014\n",
      "Epoch:\t 42 Val Loss:\t 0.024372286394040668\n",
      "Epoch:\t 43 Val Loss:\t 0.024377431550525137\n",
      "Epoch:\t 44 Val Loss:\t 0.024372347435594712\n",
      "Epoch:\t 45 Val Loss:\t 0.024370569706851627\n",
      "Epoch:\t 46 Val Loss:\t 0.024383463044663687\n",
      "Epoch:\t 47 Val Loss:\t 0.024379409113692154\n",
      "Epoch:\t 48 Val Loss:\t 0.02439487698190287\n"
     ]
    },
    {
     "name": "stderr",
     "output_type": "stream",
     "text": [
      "[I 2025-09-17 20:02:04,189] Trial 1 finished with value: 0.02434474643510082 and parameters: {'lr': 1e-06, 'weight_decay': 0.0001, 'scheduler_factor': 0.5, 'scheduler_patience': 5, 'batch_size': 16, 'dropout': 0.2, 'hidden_dims': 1024}. Best is trial 1 with value: 0.02434474643510082.\n"
     ]
    },
    {
     "name": "stdout",
     "output_type": "stream",
     "text": [
      "Epoch:\t 49 Val Loss:\t 0.02439503469819901\n",
      "Epoch:\t 0 Val Loss:\t 0.024298804784566596\n",
      "Epoch:\t 1 Val Loss:\t 0.024284507709572085\n",
      "Epoch:\t 2 Val Loss:\t 0.02428358571643893\n",
      "Epoch:\t 3 Val Loss:\t 0.0242768121970838\n",
      "Epoch:\t 4 Val Loss:\t 0.02426766929093984\n",
      "Epoch:\t 5 Val Loss:\t 0.024270459969576125\n",
      "Epoch:\t 6 Val Loss:\t 0.024257459840453507\n",
      "Epoch:\t 7 Val Loss:\t 0.024275060187434985\n",
      "Epoch:\t 8 Val Loss:\t 0.02426776215131381\n",
      "Epoch:\t 9 Val Loss:\t 0.024254854186910983\n",
      "Epoch:\t 10 Val Loss:\t 0.024264795018129757\n",
      "Epoch:\t 11 Val Loss:\t 0.024244747347848677\n",
      "Epoch:\t 12 Val Loss:\t 0.024259461399148318\n",
      "Epoch:\t 13 Val Loss:\t 0.02423874531600687\n",
      "Epoch:\t 14 Val Loss:\t 0.02425541632413622\n",
      "Epoch:\t 15 Val Loss:\t 0.024261005397927117\n",
      "Epoch:\t 16 Val Loss:\t 0.02422176667035612\n",
      "Epoch:\t 17 Val Loss:\t 0.024244236811191207\n",
      "Epoch:\t 18 Val Loss:\t 0.024219396397108194\n",
      "Epoch:\t 19 Val Loss:\t 0.024214257127797265\n",
      "Epoch:\t 20 Val Loss:\t 0.024207957666226756\n",
      "Epoch:\t 21 Val Loss:\t 0.024223549894716114\n",
      "Epoch:\t 22 Val Loss:\t 0.02423399269420846\n",
      "Epoch:\t 23 Val Loss:\t 0.02422670106761897\n",
      "Epoch:\t 24 Val Loss:\t 0.024202799996403297\n",
      "Epoch:\t 25 Val Loss:\t 0.024204499194710946\n",
      "Epoch:\t 26 Val Loss:\t 0.02419797474549769\n",
      "Epoch:\t 27 Val Loss:\t 0.02421090788966303\n",
      "Epoch:\t 28 Val Loss:\t 0.024207020745987264\n",
      "Epoch:\t 29 Val Loss:\t 0.02421284553465702\n",
      "Epoch:\t 30 Val Loss:\t 0.024189006087483186\n",
      "Epoch:\t 31 Val Loss:\t 0.024189880720998615\n",
      "Epoch:\t 32 Val Loss:\t 0.024202557598487693\n",
      "Epoch:\t 33 Val Loss:\t 0.02420045368511768\n",
      "Epoch:\t 34 Val Loss:\t 0.024197066443833376\n",
      "Epoch:\t 35 Val Loss:\t 0.024182807211993878\n",
      "Epoch:\t 36 Val Loss:\t 0.024182245021797305\n",
      "Epoch:\t 37 Val Loss:\t 0.024177792112900293\n",
      "Epoch:\t 38 Val Loss:\t 0.024178238883960475\n",
      "Epoch:\t 39 Val Loss:\t 0.024184615585306532\n",
      "Epoch:\t 40 Val Loss:\t 0.024181779044844077\n",
      "Epoch:\t 41 Val Loss:\t 0.024189396838652694\n",
      "Epoch:\t 42 Val Loss:\t 0.024168633817502113\n",
      "Epoch:\t 43 Val Loss:\t 0.024178435345998145\n",
      "Epoch:\t 44 Val Loss:\t 0.0241827048578592\n",
      "Epoch:\t 45 Val Loss:\t 0.024174298004647776\n",
      "Epoch:\t 46 Val Loss:\t 0.02417237580241987\n",
      "Epoch:\t 47 Val Loss:\t 0.02416536377367763\n",
      "Epoch:\t 48 Val Loss:\t 0.024165428010611705\n",
      "Epoch:\t 49 Val Loss:\t 0.02416008554109293\n",
      "Epoch:\t 50 Val Loss:\t 0.02416787730249913\n",
      "Epoch:\t 51 Val Loss:\t 0.024178734439459223\n",
      "Epoch:\t 52 Val Loss:\t 0.024165691598142847\n",
      "Epoch:\t 53 Val Loss:\t 0.024160779010476377\n",
      "Epoch:\t 54 Val Loss:\t 0.024161236197430935\n",
      "Epoch:\t 55 Val Loss:\t 0.024166053286426577\n",
      "Epoch:\t 56 Val Loss:\t 0.02416774688706935\n",
      "Epoch:\t 57 Val Loss:\t 0.02416224082476755\n",
      "Epoch:\t 58 Val Loss:\t 0.024165941076920744\n"
     ]
    },
    {
     "name": "stderr",
     "output_type": "stream",
     "text": [
      "[I 2025-09-17 20:18:31,626] Trial 2 finished with value: 0.02416008554109293 and parameters: {'lr': 0.001, 'weight_decay': 1e-05, 'scheduler_factor': 0.8, 'scheduler_patience': 1, 'batch_size': 64, 'dropout': 0.15, 'hidden_dims': 128}. Best is trial 2 with value: 0.02416008554109293.\n"
     ]
    },
    {
     "name": "stdout",
     "output_type": "stream",
     "text": [
      "Epoch:\t 59 Val Loss:\t 0.024164222198140115\n",
      "Epoch:\t 0 Val Loss:\t 0.024329656183187758\n",
      "Epoch:\t 1 Val Loss:\t 0.024257038408610376\n",
      "Epoch:\t 2 Val Loss:\t 0.024262054748476435\n",
      "Epoch:\t 3 Val Loss:\t 0.024236126742593282\n",
      "Epoch:\t 4 Val Loss:\t 0.02424971857829775\n",
      "Epoch:\t 5 Val Loss:\t 0.024245662794427355\n",
      "Epoch:\t 6 Val Loss:\t 0.024233064090468756\n",
      "Epoch:\t 7 Val Loss:\t 0.02423624195984402\n",
      "Epoch:\t 8 Val Loss:\t 0.02425940083507373\n",
      "Epoch:\t 9 Val Loss:\t 0.02425028104199939\n",
      "Epoch:\t 10 Val Loss:\t 0.024240620326719968\n",
      "Epoch:\t 11 Val Loss:\t 0.024234096743155638\n",
      "Epoch:\t 12 Val Loss:\t 0.02424398323794523\n",
      "Epoch:\t 13 Val Loss:\t 0.024186786276072663\n",
      "Epoch:\t 14 Val Loss:\t 0.024189114767638614\n",
      "Epoch:\t 15 Val Loss:\t 0.024195731549674578\n",
      "Epoch:\t 16 Val Loss:\t 0.024197073697663295\n",
      "Epoch:\t 17 Val Loss:\t 0.02418883437954551\n",
      "Epoch:\t 18 Val Loss:\t 0.024189104050402196\n",
      "Epoch:\t 19 Val Loss:\t 0.024183365354477685\n",
      "Epoch:\t 20 Val Loss:\t 0.02419702174278215\n",
      "Epoch:\t 21 Val Loss:\t 0.024213496800479645\n",
      "Epoch:\t 22 Val Loss:\t 0.02420960085734604\n",
      "Epoch:\t 23 Val Loss:\t 0.024202540571716502\n",
      "Epoch:\t 24 Val Loss:\t 0.024216677732733245\n",
      "Epoch:\t 25 Val Loss:\t 0.024218058560337617\n",
      "Epoch:\t 26 Val Loss:\t 0.02421038894299515\n",
      "Epoch:\t 27 Val Loss:\t 0.024202765318015358\n",
      "Epoch:\t 28 Val Loss:\t 0.024210146701020674\n"
     ]
    },
    {
     "name": "stderr",
     "output_type": "stream",
     "text": [
      "[I 2025-09-17 20:34:51,591] Trial 3 finished with value: 0.024183365354477685 and parameters: {'lr': 0.001, 'weight_decay': 1e-06, 'scheduler_factor': 0.1, 'scheduler_patience': 5, 'batch_size': 32, 'dropout': 0.2, 'hidden_dims': 256}. Best is trial 2 with value: 0.02416008554109293.\n"
     ]
    },
    {
     "name": "stdout",
     "output_type": "stream",
     "text": [
      "Epoch:\t 29 Val Loss:\t 0.024229409777706903\n",
      "Epoch:\t 0 Val Loss:\t 0.026547704363329358\n",
      "Epoch:\t 1 Val Loss:\t 0.025571900074496147\n",
      "Epoch:\t 2 Val Loss:\t 0.02516280711821464\n",
      "Epoch:\t 3 Val Loss:\t 0.02499866438245815\n",
      "Epoch:\t 4 Val Loss:\t 0.024864187646815063\n",
      "Epoch:\t 5 Val Loss:\t 0.02477572951844212\n",
      "Epoch:\t 6 Val Loss:\t 0.024701939667648033\n",
      "Epoch:\t 7 Val Loss:\t 0.02464586688779636\n",
      "Epoch:\t 8 Val Loss:\t 0.024628433350795793\n",
      "Epoch:\t 9 Val Loss:\t 0.02455658423571101\n",
      "Epoch:\t 10 Val Loss:\t 0.02451169061638281\n",
      "Epoch:\t 11 Val Loss:\t 0.02448707051333029\n",
      "Epoch:\t 12 Val Loss:\t 0.024454923480688593\n",
      "Epoch:\t 13 Val Loss:\t 0.02442841331279354\n",
      "Epoch:\t 14 Val Loss:\t 0.02440960791764118\n",
      "Epoch:\t 15 Val Loss:\t 0.024379725418271398\n",
      "Epoch:\t 16 Val Loss:\t 0.02439108683586605\n",
      "Epoch:\t 17 Val Loss:\t 0.024388922619494463\n",
      "Epoch:\t 18 Val Loss:\t 0.02440583494449174\n",
      "Epoch:\t 19 Val Loss:\t 0.024421070252117625\n",
      "Epoch:\t 20 Val Loss:\t 0.024481195636478468\n",
      "Epoch:\t 21 Val Loss:\t 0.024484325869487802\n",
      "Epoch:\t 22 Val Loss:\t 0.024502423588128125\n",
      "Epoch:\t 23 Val Loss:\t 0.024518001153286777\n",
      "Epoch:\t 24 Val Loss:\t 0.02454938865047828\n"
     ]
    },
    {
     "name": "stderr",
     "output_type": "stream",
     "text": [
      "[I 2025-09-17 20:42:37,704] Trial 4 finished with value: 0.024379725418271398 and parameters: {'lr': 1e-05, 'weight_decay': 1e-05, 'scheduler_factor': 0.8, 'scheduler_patience': 20, 'batch_size': 64, 'dropout': 0.1, 'hidden_dims': 1024}. Best is trial 2 with value: 0.02416008554109293.\n"
     ]
    },
    {
     "name": "stdout",
     "output_type": "stream",
     "text": [
      "Epoch:\t 25 Val Loss:\t 0.024571898829535695\n"
     ]
    },
    {
     "name": "stderr",
     "output_type": "stream",
     "text": [
      "[I 2025-09-17 20:42:54,807] Trial 5 pruned. \n"
     ]
    },
    {
     "name": "stdout",
     "output_type": "stream",
     "text": [
      "Epoch:\t 0 Val Loss:\t 0.02659944415814608\n"
     ]
    },
    {
     "name": "stderr",
     "output_type": "stream",
     "text": [
      "[I 2025-09-17 20:44:53,532] Trial 6 pruned. \n"
     ]
    },
    {
     "name": "stdout",
     "output_type": "stream",
     "text": [
      "Epoch:\t 0 Val Loss:\t 0.02838345688043399\n"
     ]
    },
    {
     "name": "stderr",
     "output_type": "stream",
     "text": [
      "[I 2025-09-17 20:46:51,545] Trial 7 pruned. \n"
     ]
    },
    {
     "name": "stdout",
     "output_type": "stream",
     "text": [
      "Epoch:\t 0 Val Loss:\t 0.029500645543878958\n",
      "Epoch:\t 0 Val Loss:\t 0.025224908727199534\n",
      "Epoch:\t 1 Val Loss:\t 0.026055580537852854\n"
     ]
    },
    {
     "name": "stderr",
     "output_type": "stream",
     "text": [
      "[I 2025-09-17 20:47:04,514] Trial 8 pruned. \n"
     ]
    },
    {
     "name": "stdout",
     "output_type": "stream",
     "text": [
      "Epoch:\t 2 Val Loss:\t 0.026180288793389187\n",
      "Epoch:\t 0 Val Loss:\t 0.024439748528202836\n",
      "Epoch:\t 1 Val Loss:\t 0.02451370624725646\n",
      "Epoch:\t 2 Val Loss:\t 0.024476328826997573\n",
      "Epoch:\t 3 Val Loss:\t 0.024600868007681867\n",
      "Epoch:\t 4 Val Loss:\t 0.026160765600865107\n",
      "Epoch:\t 5 Val Loss:\t 0.025938170147584403\n",
      "Epoch:\t 6 Val Loss:\t 0.02621501647546643\n",
      "Epoch:\t 7 Val Loss:\t 0.025941647633252997\n",
      "Epoch:\t 8 Val Loss:\t 0.026207782456889938\n",
      "Epoch:\t 9 Val Loss:\t 0.026056291997307326\n"
     ]
    },
    {
     "name": "stderr",
     "output_type": "stream",
     "text": [
      "[I 2025-09-17 21:09:43,360] Trial 9 finished with value: 0.024439748528202836 and parameters: {'lr': 1e-05, 'weight_decay': 0.001, 'scheduler_factor': 0.8, 'scheduler_patience': 10, 'batch_size': 16, 'dropout': 0.05, 'hidden_dims': 1024}. Best is trial 2 with value: 0.02416008554109293.\n"
     ]
    },
    {
     "name": "stdout",
     "output_type": "stream",
     "text": [
      "Epoch:\t 10 Val Loss:\t 0.026173518658096147\n",
      "Epoch:\t 0 Val Loss:\t 0.02484544888636053\n",
      "Epoch:\t 1 Val Loss:\t 0.024512211323536832\n",
      "Epoch:\t 2 Val Loss:\t 0.024358226743094877\n",
      "Epoch:\t 3 Val Loss:\t 0.024345827697021146\n",
      "Epoch:\t 4 Val Loss:\t 0.024310559237584496\n",
      "Epoch:\t 5 Val Loss:\t 0.024322162894180745\n",
      "Epoch:\t 6 Val Loss:\t 0.024308923269755537\n",
      "Epoch:\t 7 Val Loss:\t 0.024281056511885574\n",
      "Epoch:\t 8 Val Loss:\t 0.024284945451722058\n",
      "Epoch:\t 9 Val Loss:\t 0.024297666484603547\n",
      "Epoch:\t 10 Val Loss:\t 0.02427515587420811\n",
      "Epoch:\t 11 Val Loss:\t 0.024287611577990646\n",
      "Epoch:\t 12 Val Loss:\t 0.02427263999410791\n",
      "Epoch:\t 13 Val Loss:\t 0.024288089051885932\n",
      "Epoch:\t 14 Val Loss:\t 0.024298503656573787\n",
      "Epoch:\t 15 Val Loss:\t 0.02429605764458502\n",
      "Epoch:\t 16 Val Loss:\t 0.024293308124676977\n",
      "Epoch:\t 17 Val Loss:\t 0.024289252257025388\n",
      "Epoch:\t 18 Val Loss:\t 0.024298735466708434\n",
      "Epoch:\t 19 Val Loss:\t 0.024284000924150055\n",
      "Epoch:\t 20 Val Loss:\t 0.02428488928048471\n",
      "Epoch:\t 21 Val Loss:\t 0.02429313689915683\n"
     ]
    },
    {
     "name": "stderr",
     "output_type": "stream",
     "text": [
      "[I 2025-09-17 21:16:00,604] Trial 10 finished with value: 0.02427263999410791 and parameters: {'lr': 0.0001, 'weight_decay': 1e-06, 'scheduler_factor': 0.3, 'scheduler_patience': 1, 'batch_size': 64, 'dropout': 0.15, 'hidden_dims': 128}. Best is trial 2 with value: 0.02416008554109293.\n"
     ]
    },
    {
     "name": "stdout",
     "output_type": "stream",
     "text": [
      "Epoch:\t 22 Val Loss:\t 0.024287248764336283\n",
      "Epoch:\t 0 Val Loss:\t 0.024298787779956883\n",
      "Epoch:\t 1 Val Loss:\t 0.02425123428659934\n",
      "Epoch:\t 2 Val Loss:\t 0.02425792536715038\n",
      "Epoch:\t 3 Val Loss:\t 0.024234729457119058\n",
      "Epoch:\t 4 Val Loss:\t 0.024242006411188937\n",
      "Epoch:\t 5 Val Loss:\t 0.02425750251616191\n",
      "Epoch:\t 6 Val Loss:\t 0.02418049711337312\n",
      "Epoch:\t 7 Val Loss:\t 0.02420756578455164\n",
      "Epoch:\t 8 Val Loss:\t 0.024194858550162714\n",
      "Epoch:\t 9 Val Loss:\t 0.024193155855746877\n",
      "Epoch:\t 10 Val Loss:\t 0.024180410655774285\n",
      "Epoch:\t 11 Val Loss:\t 0.024198683814128867\n",
      "Epoch:\t 12 Val Loss:\t 0.024188732517017263\n",
      "Epoch:\t 13 Val Loss:\t 0.024187492864510208\n",
      "Epoch:\t 14 Val Loss:\t 0.024190782012068732\n",
      "Epoch:\t 15 Val Loss:\t 0.02419811316257212\n",
      "Epoch:\t 16 Val Loss:\t 0.024196311999306955\n",
      "Epoch:\t 17 Val Loss:\t 0.02418894495099385\n",
      "Epoch:\t 18 Val Loss:\t 0.02419160342506645\n",
      "Epoch:\t 19 Val Loss:\t 0.024181473782924946\n"
     ]
    },
    {
     "name": "stderr",
     "output_type": "stream",
     "text": [
      "[I 2025-09-17 21:27:20,077] Trial 11 finished with value: 0.024180410655774285 and parameters: {'lr': 0.001, 'weight_decay': 1e-06, 'scheduler_factor': 0.1, 'scheduler_patience': 1, 'batch_size': 32, 'dropout': 0.2, 'hidden_dims': 128}. Best is trial 2 with value: 0.02416008554109293.\n"
     ]
    },
    {
     "name": "stdout",
     "output_type": "stream",
     "text": [
      "Epoch:\t 20 Val Loss:\t 0.024200060364297844\n",
      "Epoch:\t 0 Val Loss:\t 0.024291299052160282\n",
      "Epoch:\t 1 Val Loss:\t 0.024232725925512236\n",
      "Epoch:\t 2 Val Loss:\t 0.024243918305627235\n",
      "Epoch:\t 3 Val Loss:\t 0.024239941669041015\n",
      "Epoch:\t 4 Val Loss:\t 0.0242095114509194\n",
      "Epoch:\t 5 Val Loss:\t 0.024206144130370918\n",
      "Epoch:\t 6 Val Loss:\t 0.024207875744163453\n",
      "Epoch:\t 7 Val Loss:\t 0.024210639880106362\n",
      "Epoch:\t 8 Val Loss:\t 0.024206104480244708\n",
      "Epoch:\t 9 Val Loss:\t 0.02421185541849365\n",
      "Epoch:\t 10 Val Loss:\t 0.024209560367245784\n",
      "Epoch:\t 11 Val Loss:\t 0.02420705752863451\n",
      "Epoch:\t 12 Val Loss:\t 0.0242034568939438\n",
      "Epoch:\t 13 Val Loss:\t 0.02420319527932467\n",
      "Epoch:\t 14 Val Loss:\t 0.024220238810538103\n",
      "Epoch:\t 15 Val Loss:\t 0.024209402320237352\n",
      "Epoch:\t 16 Val Loss:\t 0.024199856534649986\n",
      "Epoch:\t 17 Val Loss:\t 0.024210371355700738\n",
      "Epoch:\t 18 Val Loss:\t 0.024244965033014362\n",
      "Epoch:\t 19 Val Loss:\t 0.02422383041118363\n",
      "Epoch:\t 20 Val Loss:\t 0.024208225871993578\n",
      "Epoch:\t 21 Val Loss:\t 0.02420952393837139\n",
      "Epoch:\t 22 Val Loss:\t 0.02420486176485932\n",
      "Epoch:\t 23 Val Loss:\t 0.024201973336000153\n",
      "Epoch:\t 24 Val Loss:\t 0.024221231668508647\n",
      "Epoch:\t 25 Val Loss:\t 0.024196419598144444\n",
      "Epoch:\t 26 Val Loss:\t 0.024201733056397473\n",
      "Epoch:\t 27 Val Loss:\t 0.024201674995488785\n",
      "Epoch:\t 28 Val Loss:\t 0.024200663329720998\n",
      "Epoch:\t 29 Val Loss:\t 0.0242090265237409\n",
      "Epoch:\t 30 Val Loss:\t 0.024203615939840287\n",
      "Epoch:\t 31 Val Loss:\t 0.02420016812583301\n",
      "Epoch:\t 32 Val Loss:\t 0.024207352181421986\n",
      "Epoch:\t 33 Val Loss:\t 0.02419994379141332\n",
      "Epoch:\t 34 Val Loss:\t 0.024254246870811447\n"
     ]
    },
    {
     "name": "stderr",
     "output_type": "stream",
     "text": [
      "[I 2025-09-17 21:46:44,197] Trial 12 finished with value: 0.024196419598144444 and parameters: {'lr': 0.001, 'weight_decay': 1e-06, 'scheduler_factor': 0.3, 'scheduler_patience': 1, 'batch_size': 32, 'dropout': 0.15, 'hidden_dims': 128}. Best is trial 2 with value: 0.02416008554109293.\n"
     ]
    },
    {
     "name": "stdout",
     "output_type": "stream",
     "text": [
      "Epoch:\t 35 Val Loss:\t 0.024221791674178126\n"
     ]
    },
    {
     "name": "stderr",
     "output_type": "stream",
     "text": [
      "[I 2025-09-17 21:47:16,251] Trial 13 pruned. \n"
     ]
    },
    {
     "name": "stdout",
     "output_type": "stream",
     "text": [
      "Epoch:\t 0 Val Loss:\t 0.024541074295489854\n"
     ]
    },
    {
     "name": "stderr",
     "output_type": "stream",
     "text": [
      "[I 2025-09-17 21:47:20,573] Trial 14 pruned. \n"
     ]
    },
    {
     "name": "stdout",
     "output_type": "stream",
     "text": [
      "Epoch:\t 0 Val Loss:\t 0.02600640277703141\n",
      "Epoch:\t 0 Val Loss:\t 0.024326472291149606\n",
      "Epoch:\t 1 Val Loss:\t 0.02428056682383211\n",
      "Epoch:\t 2 Val Loss:\t 0.024252962396760298\n",
      "Epoch:\t 3 Val Loss:\t 0.024267840604800795\n",
      "Epoch:\t 4 Val Loss:\t 0.02426649819146604\n",
      "Epoch:\t 5 Val Loss:\t 0.02425921122942652\n",
      "Epoch:\t 6 Val Loss:\t 0.024240542278905226\n",
      "Epoch:\t 7 Val Loss:\t 0.02424289290463329\n",
      "Epoch:\t 8 Val Loss:\t 0.024266131709002037\n",
      "Epoch:\t 9 Val Loss:\t 0.024246283946396583\n",
      "Epoch:\t 10 Val Loss:\t 0.024241325457371624\n",
      "Epoch:\t 11 Val Loss:\t 0.024255472416021405\n",
      "Epoch:\t 12 Val Loss:\t 0.0242420217664815\n",
      "Epoch:\t 13 Val Loss:\t 0.024242544657054263\n",
      "Epoch:\t 14 Val Loss:\t 0.024246239874611473\n",
      "Epoch:\t 15 Val Loss:\t 0.02424170439208357\n"
     ]
    },
    {
     "name": "stderr",
     "output_type": "stream",
     "text": [
      "[I 2025-09-17 21:49:42,330] Trial 15 finished with value: 0.024240542278905226 and parameters: {'lr': 0.001, 'weight_decay': 1e-05, 'scheduler_factor': 0.8, 'scheduler_patience': 10, 'batch_size': 128, 'dropout': 0.15, 'hidden_dims': 128}. Best is trial 2 with value: 0.02416008554109293.\n"
     ]
    },
    {
     "name": "stdout",
     "output_type": "stream",
     "text": [
      "Epoch:\t 16 Val Loss:\t 0.02424423473602665\n",
      "Epoch:\t 0 Val Loss:\t 0.024321809493208512\n",
      "Epoch:\t 1 Val Loss:\t 0.024231664934782047\n",
      "Epoch:\t 2 Val Loss:\t 0.024210306405545456\n",
      "Epoch:\t 3 Val Loss:\t 0.024222735506906734\n",
      "Epoch:\t 4 Val Loss:\t 0.024215472232954696\n",
      "Epoch:\t 5 Val Loss:\t 0.02417165271773528\n",
      "Epoch:\t 6 Val Loss:\t 0.024167986722901956\n",
      "Epoch:\t 7 Val Loss:\t 0.02415726156348554\n",
      "Epoch:\t 8 Val Loss:\t 0.02416107095929335\n",
      "Epoch:\t 9 Val Loss:\t 0.024162182105500824\n",
      "Epoch:\t 10 Val Loss:\t 0.02417294899876285\n",
      "Epoch:\t 11 Val Loss:\t 0.02416643136339311\n",
      "Epoch:\t 12 Val Loss:\t 0.02416434161174768\n",
      "Epoch:\t 13 Val Loss:\t 0.024163512524933022\n",
      "Epoch:\t 14 Val Loss:\t 0.02416793974489406\n",
      "Epoch:\t 15 Val Loss:\t 0.024161301825673373\n",
      "Epoch:\t 16 Val Loss:\t 0.024165795384125176\n"
     ]
    },
    {
     "name": "stderr",
     "output_type": "stream",
     "text": [
      "[I 2025-09-17 21:54:38,107] Trial 16 finished with value: 0.02415726156348554 and parameters: {'lr': 0.001, 'weight_decay': 1e-06, 'scheduler_factor': 0.1, 'scheduler_patience': 1, 'batch_size': 64, 'dropout': 0.2, 'hidden_dims': 128}. Best is trial 16 with value: 0.02415726156348554.\n"
     ]
    },
    {
     "name": "stdout",
     "output_type": "stream",
     "text": [
      "Epoch:\t 17 Val Loss:\t 0.024176405499528746\n"
     ]
    },
    {
     "name": "stderr",
     "output_type": "stream",
     "text": [
      "[I 2025-09-17 21:54:54,487] Trial 17 pruned. \n"
     ]
    },
    {
     "name": "stdout",
     "output_type": "stream",
     "text": [
      "Epoch:\t 0 Val Loss:\t 0.024487184261166972\n"
     ]
    },
    {
     "name": "stderr",
     "output_type": "stream",
     "text": [
      "[I 2025-09-17 21:55:10,917] Trial 18 pruned. \n"
     ]
    },
    {
     "name": "stdout",
     "output_type": "stream",
     "text": [
      "Epoch:\t 0 Val Loss:\t 0.024951064755931472\n",
      "Epoch:\t 0 Val Loss:\t 0.024295742128928665\n",
      "Epoch:\t 1 Val Loss:\t 0.02428024613206046\n",
      "Epoch:\t 2 Val Loss:\t 0.024292317676361707\n",
      "Epoch:\t 3 Val Loss:\t 0.0242469955605438\n",
      "Epoch:\t 4 Val Loss:\t 0.024265495015960134\n",
      "Epoch:\t 5 Val Loss:\t 0.024263015216907234\n",
      "Epoch:\t 6 Val Loss:\t 0.02427019109680289\n",
      "Epoch:\t 7 Val Loss:\t 0.024284305669328397\n",
      "Epoch:\t 8 Val Loss:\t 0.024271518722807885\n",
      "Epoch:\t 9 Val Loss:\t 0.024268864311852982\n",
      "Epoch:\t 10 Val Loss:\t 0.024266449000537222\n",
      "Epoch:\t 11 Val Loss:\t 0.02425952571175573\n",
      "Epoch:\t 12 Val Loss:\t 0.02428489266956918\n"
     ]
    },
    {
     "name": "stderr",
     "output_type": "stream",
     "text": [
      "[I 2025-09-17 21:59:01,738] Trial 19 finished with value: 0.0242469955605438 and parameters: {'lr': 0.001, 'weight_decay': 1e-05, 'scheduler_factor': 0.8, 'scheduler_patience': 10, 'batch_size': 64, 'dropout': 0.15, 'hidden_dims': 128}. Best is trial 16 with value: 0.02415726156348554.\n"
     ]
    },
    {
     "name": "stdout",
     "output_type": "stream",
     "text": [
      "Epoch:\t 13 Val Loss:\t 0.024276212331294598\n",
      "Epoch:\t 0 Val Loss:\t 0.024318272696545285\n"
     ]
    },
    {
     "name": "stderr",
     "output_type": "stream",
     "text": [
      "[I 2025-09-17 21:59:34,581] Trial 20 pruned. \n"
     ]
    },
    {
     "name": "stdout",
     "output_type": "stream",
     "text": [
      "Epoch:\t 1 Val Loss:\t 0.024282593106028306\n",
      "Epoch:\t 0 Val Loss:\t 0.02427190440386378\n",
      "Epoch:\t 1 Val Loss:\t 0.024248739874214192\n",
      "Epoch:\t 2 Val Loss:\t 0.024251399619058336\n",
      "Epoch:\t 3 Val Loss:\t 0.024214332072238328\n",
      "Epoch:\t 4 Val Loss:\t 0.024246965473095086\n",
      "Epoch:\t 5 Val Loss:\t 0.024236549866816556\n",
      "Epoch:\t 6 Val Loss:\t 0.02418032087098096\n",
      "Epoch:\t 7 Val Loss:\t 0.024191263655294653\n",
      "Epoch:\t 8 Val Loss:\t 0.02418918271148518\n",
      "Epoch:\t 9 Val Loss:\t 0.02417863814432652\n",
      "Epoch:\t 10 Val Loss:\t 0.024183045127075024\n",
      "Epoch:\t 11 Val Loss:\t 0.0241791049285521\n",
      "Epoch:\t 12 Val Loss:\t 0.024182795102638314\n",
      "Epoch:\t 13 Val Loss:\t 0.024177265938347636\n",
      "Epoch:\t 14 Val Loss:\t 0.024184091734465857\n",
      "Epoch:\t 15 Val Loss:\t 0.024188826133313822\n",
      "Epoch:\t 16 Val Loss:\t 0.02418109066827624\n",
      "Epoch:\t 17 Val Loss:\t 0.024188756893291093\n",
      "Epoch:\t 18 Val Loss:\t 0.024187696019854574\n",
      "Epoch:\t 19 Val Loss:\t 0.02418728146455572\n",
      "Epoch:\t 20 Val Loss:\t 0.024186418895532382\n",
      "Epoch:\t 21 Val Loss:\t 0.024182388877082083\n",
      "Epoch:\t 22 Val Loss:\t 0.024182675361203044\n"
     ]
    },
    {
     "name": "stderr",
     "output_type": "stream",
     "text": [
      "[I 2025-09-17 22:10:50,171] Trial 21 finished with value: 0.024177265938347636 and parameters: {'lr': 0.001, 'weight_decay': 1e-06, 'scheduler_factor': 0.1, 'scheduler_patience': 1, 'batch_size': 32, 'dropout': 0.2, 'hidden_dims': 128}. Best is trial 16 with value: 0.02415726156348554.\n"
     ]
    },
    {
     "name": "stdout",
     "output_type": "stream",
     "text": [
      "Epoch:\t 23 Val Loss:\t 0.024185080690124545\n",
      "Epoch:\t 0 Val Loss:\t 0.024268092705964937\n",
      "Epoch:\t 1 Val Loss:\t 0.02423242927684048\n",
      "Epoch:\t 2 Val Loss:\t 0.02424952198815593\n",
      "Epoch:\t 3 Val Loss:\t 0.024234128549470157\n",
      "Epoch:\t 4 Val Loss:\t 0.024172401335684976\n",
      "Epoch:\t 5 Val Loss:\t 0.024178327914452784\n",
      "Epoch:\t 6 Val Loss:\t 0.024183734806305316\n",
      "Epoch:\t 7 Val Loss:\t 0.024181898850601683\n",
      "Epoch:\t 8 Val Loss:\t 0.024179912609271423\n",
      "Epoch:\t 9 Val Loss:\t 0.024173875069067322\n",
      "Epoch:\t 10 Val Loss:\t 0.024175453087605766\n",
      "Epoch:\t 11 Val Loss:\t 0.024170629807990597\n",
      "Epoch:\t 12 Val Loss:\t 0.02416832532189912\n",
      "Epoch:\t 13 Val Loss:\t 0.02418573528124983\n",
      "Epoch:\t 14 Val Loss:\t 0.024185050025936898\n",
      "Epoch:\t 15 Val Loss:\t 0.024181272683463\n",
      "Epoch:\t 16 Val Loss:\t 0.024180466517561738\n",
      "Epoch:\t 17 Val Loss:\t 0.024172968913823176\n",
      "Epoch:\t 18 Val Loss:\t 0.024188531997267133\n",
      "Epoch:\t 19 Val Loss:\t 0.024188538985159325\n",
      "Epoch:\t 20 Val Loss:\t 0.024178003337995316\n",
      "Epoch:\t 21 Val Loss:\t 0.02417401141296257\n"
     ]
    },
    {
     "name": "stderr",
     "output_type": "stream",
     "text": [
      "[I 2025-09-17 22:13:26,963] Trial 22 finished with value: 0.02416832532189912 and parameters: {'lr': 0.001, 'weight_decay': 1e-06, 'scheduler_factor': 0.1, 'scheduler_patience': 1, 'batch_size': 32, 'dropout': 0.2, 'hidden_dims': 128}. Best is trial 16 with value: 0.02415726156348554.\n"
     ]
    },
    {
     "name": "stdout",
     "output_type": "stream",
     "text": [
      "Epoch:\t 22 Val Loss:\t 0.024174564259934327\n"
     ]
    },
    {
     "name": "stderr",
     "output_type": "stream",
     "text": [
      "[I 2025-09-17 22:13:31,384] Trial 23 pruned. \n"
     ]
    },
    {
     "name": "stdout",
     "output_type": "stream",
     "text": [
      "Epoch:\t 0 Val Loss:\t 0.024328374124963963\n"
     ]
    },
    {
     "name": "stderr",
     "output_type": "stream",
     "text": [
      "[I 2025-09-17 22:13:34,119] Trial 24 pruned. \n"
     ]
    },
    {
     "name": "stdout",
     "output_type": "stream",
     "text": [
      "Epoch:\t 0 Val Loss:\t 0.024584086269660053\n"
     ]
    },
    {
     "name": "stderr",
     "output_type": "stream",
     "text": [
      "[I 2025-09-17 22:13:37,351] Trial 25 pruned. \n"
     ]
    },
    {
     "name": "stdout",
     "output_type": "stream",
     "text": [
      "Epoch:\t 0 Val Loss:\t 0.024394532667773663\n"
     ]
    },
    {
     "name": "stderr",
     "output_type": "stream",
     "text": [
      "[I 2025-09-17 22:13:43,921] Trial 26 pruned. \n"
     ]
    },
    {
     "name": "stdout",
     "output_type": "stream",
     "text": [
      "Epoch:\t 0 Val Loss:\t 0.02457048736828327\n"
     ]
    },
    {
     "name": "stderr",
     "output_type": "stream",
     "text": [
      "[I 2025-09-17 22:13:48,483] Trial 27 pruned. \n"
     ]
    },
    {
     "name": "stdout",
     "output_type": "stream",
     "text": [
      "Epoch:\t 0 Val Loss:\t 0.054555858171356324\n"
     ]
    },
    {
     "name": "stderr",
     "output_type": "stream",
     "text": [
      "[I 2025-09-17 22:13:52,896] Trial 28 pruned. \n"
     ]
    },
    {
     "name": "stdout",
     "output_type": "stream",
     "text": [
      "Epoch:\t 0 Val Loss:\t 0.024986932840083687\n"
     ]
    },
    {
     "name": "stderr",
     "output_type": "stream",
     "text": [
      "[I 2025-09-17 22:13:56,239] Trial 29 pruned. \n"
     ]
    },
    {
     "name": "stdout",
     "output_type": "stream",
     "text": [
      "Epoch:\t 0 Val Loss:\t 0.02730451936376012\n"
     ]
    },
    {
     "name": "stderr",
     "output_type": "stream",
     "text": [
      "[I 2025-09-17 22:14:03,499] Trial 30 pruned. \n"
     ]
    },
    {
     "name": "stdout",
     "output_type": "stream",
     "text": [
      "Epoch:\t 0 Val Loss:\t 0.024380465403785124\n",
      "Epoch:\t 0 Val Loss:\t 0.02427575141067162\n",
      "Epoch:\t 1 Val Loss:\t 0.024252543812352804\n",
      "Epoch:\t 2 Val Loss:\t 0.02423427617490871\n",
      "Epoch:\t 3 Val Loss:\t 0.024229691264955236\n",
      "Epoch:\t 4 Val Loss:\t 0.02426873227539221\n",
      "Epoch:\t 5 Val Loss:\t 0.02424536642196328\n",
      "Epoch:\t 6 Val Loss:\t 0.02417588489804713\n",
      "Epoch:\t 7 Val Loss:\t 0.0241823435228078\n",
      "Epoch:\t 8 Val Loss:\t 0.024204884632260854\n",
      "Epoch:\t 9 Val Loss:\t 0.0242001764344952\n",
      "Epoch:\t 10 Val Loss:\t 0.02418198754299633\n",
      "Epoch:\t 11 Val Loss:\t 0.0241973246561252\n",
      "Epoch:\t 12 Val Loss:\t 0.02416966943712435\n",
      "Epoch:\t 13 Val Loss:\t 0.024186594439567746\n",
      "Epoch:\t 14 Val Loss:\t 0.024200841807449497\n",
      "Epoch:\t 15 Val Loss:\t 0.02421088711598059\n",
      "Epoch:\t 16 Val Loss:\t 0.024184410558128106\n",
      "Epoch:\t 17 Val Loss:\t 0.024190442169055956\n",
      "Epoch:\t 18 Val Loss:\t 0.024200669853573473\n",
      "Epoch:\t 19 Val Loss:\t 0.024195125167329974\n",
      "Epoch:\t 20 Val Loss:\t 0.024191394852862428\n",
      "Epoch:\t 21 Val Loss:\t 0.024176438631477982\n"
     ]
    },
    {
     "name": "stderr",
     "output_type": "stream",
     "text": [
      "[I 2025-09-17 22:16:37,203] Trial 31 finished with value: 0.02416966943712435 and parameters: {'lr': 0.001, 'weight_decay': 1e-06, 'scheduler_factor': 0.1, 'scheduler_patience': 1, 'batch_size': 32, 'dropout': 0.2, 'hidden_dims': 128}. Best is trial 16 with value: 0.02415726156348554.\n"
     ]
    },
    {
     "name": "stdout",
     "output_type": "stream",
     "text": [
      "Epoch:\t 22 Val Loss:\t 0.024205302690154182\n",
      "Epoch:\t 0 Val Loss:\t 0.02428907173503573\n",
      "Epoch:\t 1 Val Loss:\t 0.02421981482012538\n",
      "Epoch:\t 2 Val Loss:\t 0.024256342786050215\n",
      "Epoch:\t 3 Val Loss:\t 0.02422776351289881\n",
      "Epoch:\t 4 Val Loss:\t 0.02418492270176295\n",
      "Epoch:\t 5 Val Loss:\t 0.02418785388686857\n",
      "Epoch:\t 6 Val Loss:\t 0.02416923797315876\n",
      "Epoch:\t 7 Val Loss:\t 0.024174045891356688\n",
      "Epoch:\t 8 Val Loss:\t 0.024177821412805774\n",
      "Epoch:\t 9 Val Loss:\t 0.024180492066502034\n",
      "Epoch:\t 10 Val Loss:\t 0.02417860321837866\n",
      "Epoch:\t 11 Val Loss:\t 0.02418180478621086\n",
      "Epoch:\t 12 Val Loss:\t 0.02417935425274018\n",
      "Epoch:\t 13 Val Loss:\t 0.02418486068313871\n",
      "Epoch:\t 14 Val Loss:\t 0.024175857428895893\n",
      "Epoch:\t 15 Val Loss:\t 0.024175888841979323\n"
     ]
    },
    {
     "name": "stderr",
     "output_type": "stream",
     "text": [
      "[I 2025-09-17 22:18:32,556] Trial 32 finished with value: 0.02416923797315876 and parameters: {'lr': 0.001, 'weight_decay': 1e-06, 'scheduler_factor': 0.1, 'scheduler_patience': 1, 'batch_size': 32, 'dropout': 0.2, 'hidden_dims': 128}. Best is trial 16 with value: 0.02415726156348554.\n"
     ]
    },
    {
     "name": "stdout",
     "output_type": "stream",
     "text": [
      "Epoch:\t 16 Val Loss:\t 0.02418397195384261\n"
     ]
    },
    {
     "name": "stderr",
     "output_type": "stream",
     "text": [
      "[I 2025-09-17 22:18:40,441] Trial 33 pruned. \n"
     ]
    },
    {
     "name": "stdout",
     "output_type": "stream",
     "text": [
      "Epoch:\t 0 Val Loss:\t 0.02446339539594373\n",
      "Epoch:\t 0 Val Loss:\t 0.024292492136917036\n",
      "Epoch:\t 1 Val Loss:\t 0.024247670092134025\n",
      "Epoch:\t 2 Val Loss:\t 0.024227689588426228\n",
      "Epoch:\t 3 Val Loss:\t 0.024254869275363685\n",
      "Epoch:\t 4 Val Loss:\t 0.024237552288275382\n",
      "Epoch:\t 5 Val Loss:\t 0.024243825805512403\n",
      "Epoch:\t 6 Val Loss:\t 0.024258995279226533\n",
      "Epoch:\t 7 Val Loss:\t 0.02422382253629182\n",
      "Epoch:\t 8 Val Loss:\t 0.02425430493334171\n",
      "Epoch:\t 9 Val Loss:\t 0.02425102737299272\n",
      "Epoch:\t 10 Val Loss:\t 0.024245991514270312\n",
      "Epoch:\t 11 Val Loss:\t 0.024259629179910043\n",
      "Epoch:\t 12 Val Loss:\t 0.024261364397645275\n"
     ]
    },
    {
     "name": "stderr",
     "output_type": "stream",
     "text": [
      "[I 2025-09-17 22:20:16,148] Trial 34 pruned. \n"
     ]
    },
    {
     "name": "stdout",
     "output_type": "stream",
     "text": [
      "Epoch:\t 13 Val Loss:\t 0.024231739663013577\n"
     ]
    },
    {
     "name": "stderr",
     "output_type": "stream",
     "text": [
      "[I 2025-09-17 22:20:20,675] Trial 35 pruned. \n"
     ]
    },
    {
     "name": "stdout",
     "output_type": "stream",
     "text": [
      "Epoch:\t 0 Val Loss:\t 0.024463043813563956\n"
     ]
    },
    {
     "name": "stderr",
     "output_type": "stream",
     "text": [
      "[I 2025-09-17 22:20:27,230] Trial 36 pruned. \n"
     ]
    },
    {
     "name": "stdout",
     "output_type": "stream",
     "text": [
      "Epoch:\t 0 Val Loss:\t 0.029585310157433854\n"
     ]
    },
    {
     "name": "stderr",
     "output_type": "stream",
     "text": [
      "[I 2025-09-17 22:20:38,920] Trial 37 pruned. \n"
     ]
    },
    {
     "name": "stdout",
     "output_type": "stream",
     "text": [
      "Epoch:\t 0 Val Loss:\t 0.024318528452278238\n"
     ]
    },
    {
     "name": "stderr",
     "output_type": "stream",
     "text": [
      "[I 2025-09-17 22:20:41,714] Trial 38 pruned. \n"
     ]
    },
    {
     "name": "stdout",
     "output_type": "stream",
     "text": [
      "Epoch:\t 0 Val Loss:\t 0.030425662244128626\n"
     ]
    },
    {
     "name": "stderr",
     "output_type": "stream",
     "text": [
      "[I 2025-09-17 22:20:46,107] Trial 39 pruned. \n"
     ]
    },
    {
     "name": "stdout",
     "output_type": "stream",
     "text": [
      "Epoch:\t 0 Val Loss:\t 0.07168475073425491\n"
     ]
    },
    {
     "name": "stderr",
     "output_type": "stream",
     "text": [
      "[I 2025-09-17 22:20:49,377] Trial 40 pruned. \n"
     ]
    },
    {
     "name": "stdout",
     "output_type": "stream",
     "text": [
      "Epoch:\t 0 Val Loss:\t 0.024456274562648365\n",
      "Epoch:\t 0 Val Loss:\t 0.02429077410756962\n",
      "Epoch:\t 1 Val Loss:\t 0.024263368837872668\n",
      "Epoch:\t 2 Val Loss:\t 0.024257283196722396\n"
     ]
    },
    {
     "name": "stderr",
     "output_type": "stream",
     "text": [
      "[I 2025-09-17 22:21:15,500] Trial 41 pruned. \n"
     ]
    },
    {
     "name": "stdout",
     "output_type": "stream",
     "text": [
      "Epoch:\t 3 Val Loss:\t 0.024255562523943147\n",
      "Epoch:\t 0 Val Loss:\t 0.02430644366366965\n",
      "Epoch:\t 1 Val Loss:\t 0.024256499933897238\n",
      "Epoch:\t 2 Val Loss:\t 0.024264320623058257\n"
     ]
    },
    {
     "name": "stderr",
     "output_type": "stream",
     "text": [
      "[I 2025-09-17 22:21:41,879] Trial 42 pruned. \n"
     ]
    },
    {
     "name": "stdout",
     "output_type": "stream",
     "text": [
      "Epoch:\t 3 Val Loss:\t 0.024247786541238592\n"
     ]
    },
    {
     "name": "stderr",
     "output_type": "stream",
     "text": [
      "[I 2025-09-17 22:21:48,449] Trial 43 pruned. \n"
     ]
    },
    {
     "name": "stdout",
     "output_type": "stream",
     "text": [
      "Epoch:\t 0 Val Loss:\t 0.024318722533456683\n"
     ]
    },
    {
     "name": "stderr",
     "output_type": "stream",
     "text": [
      "[I 2025-09-17 22:21:59,606] Trial 44 pruned. \n"
     ]
    },
    {
     "name": "stdout",
     "output_type": "stream",
     "text": [
      "Epoch:\t 0 Val Loss:\t 0.02434643151582554\n",
      "Epoch:\t 0 Val Loss:\t 0.024310172267649508\n",
      "Epoch:\t 1 Val Loss:\t 0.024241798743821822\n",
      "Epoch:\t 2 Val Loss:\t 0.024236761655948205\n",
      "Epoch:\t 3 Val Loss:\t 0.024244412685216373\n",
      "Epoch:\t 4 Val Loss:\t 0.024243961087278307\n",
      "Epoch:\t 5 Val Loss:\t 0.02420083710381105\n",
      "Epoch:\t 6 Val Loss:\t 0.024201836701843605\n",
      "Epoch:\t 7 Val Loss:\t 0.024208785082282226\n",
      "Epoch:\t 8 Val Loss:\t 0.0241843274750196\n",
      "Epoch:\t 9 Val Loss:\t 0.02419487185515701\n",
      "Epoch:\t 10 Val Loss:\t 0.0241876774039433\n",
      "Epoch:\t 11 Val Loss:\t 0.024192439924625036\n",
      "Epoch:\t 12 Val Loss:\t 0.024193551802972047\n",
      "Epoch:\t 13 Val Loss:\t 0.024200140270207227\n",
      "Epoch:\t 14 Val Loss:\t 0.024191797374479053\n",
      "Epoch:\t 15 Val Loss:\t 0.02418039218391261\n",
      "Epoch:\t 16 Val Loss:\t 0.02419249424916269\n",
      "Epoch:\t 17 Val Loss:\t 0.024198618619656814\n",
      "Epoch:\t 18 Val Loss:\t 0.024187245365400872\n",
      "Epoch:\t 19 Val Loss:\t 0.024191660662487072\n",
      "Epoch:\t 20 Val Loss:\t 0.024213483519268397\n",
      "Epoch:\t 21 Val Loss:\t 0.02420524322388351\n",
      "Epoch:\t 22 Val Loss:\t 0.024245965333727908\n",
      "Epoch:\t 23 Val Loss:\t 0.024219157228011743\n",
      "Epoch:\t 24 Val Loss:\t 0.02419037544138803\n"
     ]
    },
    {
     "name": "stderr",
     "output_type": "stream",
     "text": [
      "[I 2025-09-17 22:24:58,316] Trial 45 finished with value: 0.02418039218391261 and parameters: {'lr': 0.001, 'weight_decay': 1e-06, 'scheduler_factor': 0.3, 'scheduler_patience': 1, 'batch_size': 32, 'dropout': 0.15, 'hidden_dims': 128}. Best is trial 16 with value: 0.02415726156348554.\n"
     ]
    },
    {
     "name": "stdout",
     "output_type": "stream",
     "text": [
      "Epoch:\t 25 Val Loss:\t 0.024210816133849525\n"
     ]
    },
    {
     "name": "stderr",
     "output_type": "stream",
     "text": [
      "[I 2025-09-17 22:25:06,182] Trial 46 pruned. \n"
     ]
    },
    {
     "name": "stdout",
     "output_type": "stream",
     "text": [
      "Epoch:\t 0 Val Loss:\t 0.024882918240224646\n"
     ]
    },
    {
     "name": "stderr",
     "output_type": "stream",
     "text": [
      "[I 2025-09-17 22:25:13,331] Trial 47 pruned. \n"
     ]
    },
    {
     "name": "stdout",
     "output_type": "stream",
     "text": [
      "Epoch:\t 0 Val Loss:\t 0.024323679996223053\n"
     ]
    },
    {
     "name": "stderr",
     "output_type": "stream",
     "text": [
      "[I 2025-09-17 22:25:18,011] Trial 48 pruned. \n"
     ]
    },
    {
     "name": "stdout",
     "output_type": "stream",
     "text": [
      "Epoch:\t 0 Val Loss:\t 0.024428532026963254\n"
     ]
    },
    {
     "name": "stderr",
     "output_type": "stream",
     "text": [
      "[I 2025-09-17 22:25:20,741] Trial 49 pruned. \n"
     ]
    },
    {
     "name": "stdout",
     "output_type": "stream",
     "text": [
      "Epoch:\t 0 Val Loss:\t 0.03547987921033488\n",
      "Training model with best parameters on train+validation ...\n"
     ]
    },
    {
     "name": "stderr",
     "output_type": "stream",
     "text": [
      "100%|█████████████████████████████████████████████████████████████████████████████████████████████████████████████████████████████████████| 557340/557340 [05:08<00:00, 1809.31it/s]\n",
      "100%|█████████████████████████████████████████████████████████████████████████████████████████████████████████████████████████████████████| 557340/557340 [01:32<00:00, 6057.77it/s]\n"
     ]
    },
    {
     "name": "stdout",
     "output_type": "stream",
     "text": [
      "Getting test set predictions and saving results ...\n"
     ]
    },
    {
     "name": "stderr",
     "output_type": "stream",
     "text": [
      "100%|██████████████████████████████████████████████████████████████████████████████████████████████████████████████████████████████████████████| 1640/1640 [00:01<00:00, 921.28it/s]\n"
     ]
    }
   ],
   "source": [
    "train_different_featno(\n",
    "        adata_path=\"./data/feature_number/sciplex_hvg_2000.h5ad\",\n",
    "        run_name=\"mlp_hvg_2000\",\n",
    "        res_savename=\"./results/feature_number/mlp_hvg_2000_res.pkl\",\n",
    "        input_dim=2000,\n",
    "        output_dim=2000,\n",
    "    )"
   ]
  },
  {
   "cell_type": "code",
   "execution_count": 6,
   "id": "09bad6fe-d888-4ffe-ba67-ffad0747fb80",
   "metadata": {},
   "outputs": [
    {
     "name": "stdout",
     "output_type": "stream",
     "text": [
      "Loading Datasets ...\n"
     ]
    },
    {
     "name": "stderr",
     "output_type": "stream",
     "text": [
      "100%|█████████████████████████████████████████████████████████████████████████████████████████████████████████████████████████████████████| 557340/557340 [03:59<00:00, 2330.14it/s]\n",
      "100%|█████████████████████████████████████████████████████████████████████████████████████████████████████████████████████████████████████| 557340/557340 [01:34<00:00, 5880.06it/s]\n",
      "[I 2025-09-17 22:38:21,419] A new study created in RDB with name: mlp_hvg_3500\n"
     ]
    },
    {
     "name": "stdout",
     "output_type": "stream",
     "text": [
      "Optimizing Hyperparameters with Optuna ...\n",
      "Epoch:\t 0 Val Loss:\t 0.022139447338359302\n",
      "Epoch:\t 1 Val Loss:\t 0.02195365112274885\n",
      "Epoch:\t 2 Val Loss:\t 0.021835682632098365\n",
      "Epoch:\t 3 Val Loss:\t 0.021821528434926688\n",
      "Epoch:\t 4 Val Loss:\t 0.021820568055087745\n",
      "Epoch:\t 5 Val Loss:\t 0.02182992422130219\n",
      "Epoch:\t 6 Val Loss:\t 0.02181712680084761\n",
      "Epoch:\t 7 Val Loss:\t 0.021809493364809557\n",
      "Epoch:\t 8 Val Loss:\t 0.021806519348607507\n",
      "Epoch:\t 9 Val Loss:\t 0.02180289146165515\n",
      "Epoch:\t 10 Val Loss:\t 0.021801878355963287\n",
      "Epoch:\t 11 Val Loss:\t 0.021809449090167535\n",
      "Epoch:\t 12 Val Loss:\t 0.02180833904029325\n",
      "Epoch:\t 13 Val Loss:\t 0.02182175014168024\n",
      "Epoch:\t 14 Val Loss:\t 0.02181387638543234\n",
      "Epoch:\t 15 Val Loss:\t 0.021801752484468525\n",
      "Epoch:\t 16 Val Loss:\t 0.021753853832393193\n",
      "Epoch:\t 17 Val Loss:\t 0.021754052234423716\n",
      "Epoch:\t 18 Val Loss:\t 0.02175519439110229\n",
      "Epoch:\t 19 Val Loss:\t 0.021741605840276842\n",
      "Epoch:\t 20 Val Loss:\t 0.02174315456474243\n",
      "Epoch:\t 21 Val Loss:\t 0.021734771214772103\n",
      "Epoch:\t 22 Val Loss:\t 0.021744083942368972\n",
      "Epoch:\t 23 Val Loss:\t 0.02174246971343839\n",
      "Epoch:\t 24 Val Loss:\t 0.021728920273829336\n",
      "Epoch:\t 25 Val Loss:\t 0.021737355050132717\n",
      "Epoch:\t 26 Val Loss:\t 0.021740886893903102\n",
      "Epoch:\t 27 Val Loss:\t 0.021748565198030582\n",
      "Epoch:\t 28 Val Loss:\t 0.02173083321472933\n",
      "Epoch:\t 29 Val Loss:\t 0.02173995793645465\n",
      "Epoch:\t 30 Val Loss:\t 0.02173838844132978\n",
      "Epoch:\t 31 Val Loss:\t 0.021720890038061973\n",
      "Epoch:\t 32 Val Loss:\t 0.02171588870155257\n",
      "Epoch:\t 33 Val Loss:\t 0.021711991969929186\n",
      "Epoch:\t 34 Val Loss:\t 0.021715466643488685\n",
      "Epoch:\t 35 Val Loss:\t 0.021715506070921587\n",
      "Epoch:\t 36 Val Loss:\t 0.021715412904010262\n",
      "Epoch:\t 37 Val Loss:\t 0.02171109981921523\n",
      "Epoch:\t 38 Val Loss:\t 0.02170930364450743\n",
      "Epoch:\t 39 Val Loss:\t 0.02171319539030624\n",
      "Epoch:\t 40 Val Loss:\t 0.02171884093346984\n",
      "Epoch:\t 41 Val Loss:\t 0.021716545076044494\n",
      "Epoch:\t 42 Val Loss:\t 0.021717603699585725\n",
      "Epoch:\t 43 Val Loss:\t 0.021715370699936568\n",
      "Epoch:\t 44 Val Loss:\t 0.02171434048823146\n",
      "Epoch:\t 45 Val Loss:\t 0.021714008131692577\n",
      "Epoch:\t 46 Val Loss:\t 0.021715839809283266\n",
      "Epoch:\t 47 Val Loss:\t 0.021716054572268974\n"
     ]
    },
    {
     "name": "stderr",
     "output_type": "stream",
     "text": [
      "[I 2025-09-17 22:41:13,812] Trial 0 finished with value: 0.02170930364450743 and parameters: {'lr': 0.001, 'weight_decay': 1e-05, 'scheduler_factor': 0.3, 'scheduler_patience': 5, 'batch_size': 256, 'dropout': 0.05, 'hidden_dims': 128}. Best is trial 0 with value: 0.02170930364450743.\n"
     ]
    },
    {
     "name": "stdout",
     "output_type": "stream",
     "text": [
      "Epoch:\t 48 Val Loss:\t 0.021714311747183634\n",
      "Epoch:\t 0 Val Loss:\t 0.02612629201526965\n",
      "Epoch:\t 1 Val Loss:\t 0.024987700326639557\n",
      "Epoch:\t 2 Val Loss:\t 0.024635826682350835\n",
      "Epoch:\t 3 Val Loss:\t 0.024372624084721004\n",
      "Epoch:\t 4 Val Loss:\t 0.024140585500377246\n",
      "Epoch:\t 5 Val Loss:\t 0.023923101607932817\n",
      "Epoch:\t 6 Val Loss:\t 0.023758684927127387\n",
      "Epoch:\t 7 Val Loss:\t 0.02362847455019954\n",
      "Epoch:\t 8 Val Loss:\t 0.02347650943573692\n",
      "Epoch:\t 9 Val Loss:\t 0.023351707067654118\n",
      "Epoch:\t 10 Val Loss:\t 0.023268405613729982\n",
      "Epoch:\t 11 Val Loss:\t 0.023232988234029923\n",
      "Epoch:\t 12 Val Loss:\t 0.023131708241026207\n",
      "Epoch:\t 13 Val Loss:\t 0.023077897989103008\n",
      "Epoch:\t 14 Val Loss:\t 0.023065371782363793\n",
      "Epoch:\t 15 Val Loss:\t 0.02304671023384783\n",
      "Epoch:\t 16 Val Loss:\t 0.023017099828232843\n",
      "Epoch:\t 17 Val Loss:\t 0.022994276472635987\n",
      "Epoch:\t 18 Val Loss:\t 0.02293862320414625\n",
      "Epoch:\t 19 Val Loss:\t 0.022905979238480798\n",
      "Epoch:\t 20 Val Loss:\t 0.0229199907828384\n",
      "Epoch:\t 21 Val Loss:\t 0.02290667786446167\n",
      "Epoch:\t 22 Val Loss:\t 0.022920509339518332\n",
      "Epoch:\t 23 Val Loss:\t 0.022846363640800595\n",
      "Epoch:\t 24 Val Loss:\t 0.02285368374569933\n",
      "Epoch:\t 25 Val Loss:\t 0.02286208899193338\n",
      "Epoch:\t 26 Val Loss:\t 0.022791173977986003\n",
      "Epoch:\t 27 Val Loss:\t 0.022832695370430835\n",
      "Epoch:\t 28 Val Loss:\t 0.022774584352206903\n",
      "Epoch:\t 29 Val Loss:\t 0.022727670851506798\n",
      "Epoch:\t 30 Val Loss:\t 0.022749088469187898\n",
      "Epoch:\t 31 Val Loss:\t 0.022709149411634624\n",
      "Epoch:\t 32 Val Loss:\t 0.022720905837024012\n",
      "Epoch:\t 33 Val Loss:\t 0.02265983591319964\n",
      "Epoch:\t 34 Val Loss:\t 0.022635276035313266\n",
      "Epoch:\t 35 Val Loss:\t 0.02263462766129318\n",
      "Epoch:\t 36 Val Loss:\t 0.022633337300352954\n",
      "Epoch:\t 37 Val Loss:\t 0.02259217984666286\n",
      "Epoch:\t 38 Val Loss:\t 0.02261110690183985\n",
      "Epoch:\t 39 Val Loss:\t 0.022601750647152967\n",
      "Epoch:\t 40 Val Loss:\t 0.02256456160192495\n",
      "Epoch:\t 41 Val Loss:\t 0.022549731340972805\n",
      "Epoch:\t 42 Val Loss:\t 0.022520545348460184\n",
      "Epoch:\t 43 Val Loss:\t 0.022510863960576277\n",
      "Epoch:\t 44 Val Loss:\t 0.02253040512866982\n",
      "Epoch:\t 45 Val Loss:\t 0.02245882749033187\n",
      "Epoch:\t 46 Val Loss:\t 0.022445531546836043\n",
      "Epoch:\t 47 Val Loss:\t 0.022431378809814096\n",
      "Epoch:\t 48 Val Loss:\t 0.022415014638960604\n",
      "Epoch:\t 49 Val Loss:\t 0.022396861641217528\n",
      "Epoch:\t 50 Val Loss:\t 0.02236540604558964\n",
      "Epoch:\t 51 Val Loss:\t 0.022377756446139433\n",
      "Epoch:\t 52 Val Loss:\t 0.022335910998302115\n",
      "Epoch:\t 53 Val Loss:\t 0.022324572995389383\n",
      "Epoch:\t 54 Val Loss:\t 0.022304134467725865\n",
      "Epoch:\t 55 Val Loss:\t 0.022295775747081255\n",
      "Epoch:\t 56 Val Loss:\t 0.02226555325470333\n",
      "Epoch:\t 57 Val Loss:\t 0.022264458309887145\n",
      "Epoch:\t 58 Val Loss:\t 0.022243640788798928\n",
      "Epoch:\t 59 Val Loss:\t 0.022215805304016716\n",
      "Epoch:\t 60 Val Loss:\t 0.02224717796247753\n",
      "Epoch:\t 61 Val Loss:\t 0.022218316321834724\n",
      "Epoch:\t 62 Val Loss:\t 0.02218063997923117\n",
      "Epoch:\t 63 Val Loss:\t 0.022210175899580097\n",
      "Epoch:\t 64 Val Loss:\t 0.022171303255292162\n",
      "Epoch:\t 65 Val Loss:\t 0.02216675353262982\n",
      "Epoch:\t 66 Val Loss:\t 0.022154153035753646\n",
      "Epoch:\t 67 Val Loss:\t 0.02214969290032317\n",
      "Epoch:\t 68 Val Loss:\t 0.02215940202599866\n",
      "Epoch:\t 69 Val Loss:\t 0.022124554194375933\n",
      "Epoch:\t 70 Val Loss:\t 0.022127328907019062\n",
      "Epoch:\t 71 Val Loss:\t 0.022128918779785817\n",
      "Epoch:\t 72 Val Loss:\t 0.02210675754021687\n",
      "Epoch:\t 73 Val Loss:\t 0.022106551613066253\n",
      "Epoch:\t 74 Val Loss:\t 0.022097339240420077\n",
      "Epoch:\t 75 Val Loss:\t 0.022116147150089333\n",
      "Epoch:\t 76 Val Loss:\t 0.022105064994946893\n",
      "Epoch:\t 77 Val Loss:\t 0.02209707029818952\n",
      "Epoch:\t 78 Val Loss:\t 0.022111127669509508\n",
      "Epoch:\t 79 Val Loss:\t 0.022136709640949565\n",
      "Epoch:\t 80 Val Loss:\t 0.022139672794526857\n",
      "Epoch:\t 81 Val Loss:\t 0.02212756544808861\n",
      "Epoch:\t 82 Val Loss:\t 0.022146668186215593\n",
      "Epoch:\t 83 Val Loss:\t 0.02216152898460255\n",
      "Epoch:\t 84 Val Loss:\t 0.022153798511302617\n",
      "Epoch:\t 85 Val Loss:\t 0.022170579309282835\n",
      "Epoch:\t 86 Val Loss:\t 0.022186076668541374\n"
     ]
    },
    {
     "name": "stderr",
     "output_type": "stream",
     "text": [
      "[I 2025-09-17 22:57:30,411] Trial 1 finished with value: 0.02209707029818952 and parameters: {'lr': 1e-06, 'weight_decay': 1e-05, 'scheduler_factor': 0.5, 'scheduler_patience': 5, 'batch_size': 32, 'dropout': 0.2, 'hidden_dims': 1024}. Best is trial 0 with value: 0.02170930364450743.\n"
     ]
    },
    {
     "name": "stdout",
     "output_type": "stream",
     "text": [
      "Epoch:\t 87 Val Loss:\t 0.022187909649201795\n",
      "Epoch:\t 0 Val Loss:\t 0.022981429590399848\n",
      "Epoch:\t 1 Val Loss:\t 0.022522203720461747\n",
      "Epoch:\t 2 Val Loss:\t 0.022152275757272785\n",
      "Epoch:\t 3 Val Loss:\t 0.022136831023685473\n",
      "Epoch:\t 4 Val Loss:\t 0.02212831738944913\n",
      "Epoch:\t 5 Val Loss:\t 0.022116858017043325\n",
      "Epoch:\t 6 Val Loss:\t 0.022109064611363603\n",
      "Epoch:\t 7 Val Loss:\t 0.022114404859329403\n",
      "Epoch:\t 8 Val Loss:\t 0.02209733333060268\n",
      "Epoch:\t 9 Val Loss:\t 0.022115657901693\n",
      "Epoch:\t 10 Val Loss:\t 0.022091941640983125\n",
      "Epoch:\t 11 Val Loss:\t 0.022093184704195603\n",
      "Epoch:\t 12 Val Loss:\t 0.02210513101182597\n",
      "Epoch:\t 13 Val Loss:\t 0.022089479895966973\n",
      "Epoch:\t 14 Val Loss:\t 0.02210440657799388\n",
      "Epoch:\t 15 Val Loss:\t 0.022083600981942595\n",
      "Epoch:\t 16 Val Loss:\t 0.02207804066077679\n",
      "Epoch:\t 17 Val Loss:\t 0.02209913378470057\n",
      "Epoch:\t 18 Val Loss:\t 0.022094271659799183\n",
      "Epoch:\t 19 Val Loss:\t 0.02210087702110695\n",
      "Epoch:\t 20 Val Loss:\t 0.022086485104718598\n",
      "Epoch:\t 21 Val Loss:\t 0.022103563984569533\n",
      "Epoch:\t 22 Val Loss:\t 0.022091776175825525\n",
      "Epoch:\t 23 Val Loss:\t 0.02208054998540387\n",
      "Epoch:\t 24 Val Loss:\t 0.022099234408077914\n",
      "Epoch:\t 25 Val Loss:\t 0.02209023600179341\n",
      "Epoch:\t 26 Val Loss:\t 0.022076126077772918\n",
      "Epoch:\t 27 Val Loss:\t 0.02209646589578374\n",
      "Epoch:\t 28 Val Loss:\t 0.02208484644508092\n",
      "Epoch:\t 29 Val Loss:\t 0.02207460537773367\n",
      "Epoch:\t 30 Val Loss:\t 0.02208781215668728\n",
      "Epoch:\t 31 Val Loss:\t 0.022088029095389542\n",
      "Epoch:\t 32 Val Loss:\t 0.02208413839722901\n",
      "Epoch:\t 33 Val Loss:\t 0.02209014302088262\n",
      "Epoch:\t 34 Val Loss:\t 0.02208721264872486\n",
      "Epoch:\t 35 Val Loss:\t 0.022098395384273002\n",
      "Epoch:\t 36 Val Loss:\t 0.022078295592359173\n",
      "Epoch:\t 37 Val Loss:\t 0.02209155847768727\n",
      "Epoch:\t 38 Val Loss:\t 0.022080318626066107\n"
     ]
    },
    {
     "name": "stderr",
     "output_type": "stream",
     "text": [
      "[I 2025-09-17 23:01:39,000] Trial 2 finished with value: 0.02207460537773367 and parameters: {'lr': 0.001, 'weight_decay': 1e-06, 'scheduler_factor': 0.3, 'scheduler_patience': 20, 'batch_size': 64, 'dropout': 0.15, 'hidden_dims': 1024}. Best is trial 0 with value: 0.02170930364450743.\n"
     ]
    },
    {
     "name": "stdout",
     "output_type": "stream",
     "text": [
      "Epoch:\t 39 Val Loss:\t 0.022099846681051315\n",
      "Epoch:\t 0 Val Loss:\t 0.02206102459520119\n",
      "Epoch:\t 1 Val Loss:\t 0.022033776187414148\n",
      "Epoch:\t 2 Val Loss:\t 0.0220580658574334\n",
      "Epoch:\t 3 Val Loss:\t 0.022040454708083003\n",
      "Epoch:\t 4 Val Loss:\t 0.02201549408636291\n",
      "Epoch:\t 5 Val Loss:\t 0.022025186040947345\n",
      "Epoch:\t 6 Val Loss:\t 0.022005182216338515\n",
      "Epoch:\t 7 Val Loss:\t 0.022058963688069904\n",
      "Epoch:\t 8 Val Loss:\t 0.022026815263038794\n",
      "Epoch:\t 9 Val Loss:\t 0.022079705696896764\n",
      "Epoch:\t 10 Val Loss:\t 0.022072862353753157\n",
      "Epoch:\t 11 Val Loss:\t 0.022019489612635734\n",
      "Epoch:\t 12 Val Loss:\t 0.022015497468961094\n",
      "Epoch:\t 13 Val Loss:\t 0.022156507051395803\n",
      "Epoch:\t 14 Val Loss:\t 0.022000348819198125\n",
      "Epoch:\t 15 Val Loss:\t 0.022031883063206685\n",
      "Epoch:\t 16 Val Loss:\t 0.022005862000198884\n",
      "Epoch:\t 17 Val Loss:\t 0.022063306844682454\n",
      "Epoch:\t 18 Val Loss:\t 0.02210056740256568\n",
      "Epoch:\t 19 Val Loss:\t 0.02205065551018791\n",
      "Epoch:\t 20 Val Loss:\t 0.02205145483251685\n",
      "Epoch:\t 21 Val Loss:\t 0.02202233481229009\n",
      "Epoch:\t 22 Val Loss:\t 0.02207195183918425\n",
      "Epoch:\t 23 Val Loss:\t 0.022000427934591397\n"
     ]
    },
    {
     "name": "stderr",
     "output_type": "stream",
     "text": [
      "[I 2025-09-17 23:03:51,730] Trial 3 finished with value: 0.022000348819198125 and parameters: {'lr': 0.001, 'weight_decay': 0.0001, 'scheduler_factor': 0.1, 'scheduler_patience': 20, 'batch_size': 64, 'dropout': 0.2, 'hidden_dims': 128}. Best is trial 0 with value: 0.02170930364450743.\n"
     ]
    },
    {
     "name": "stdout",
     "output_type": "stream",
     "text": [
      "Epoch:\t 24 Val Loss:\t 0.02205783950658953\n",
      "Epoch:\t 0 Val Loss:\t 0.04619111495175752\n",
      "Epoch:\t 1 Val Loss:\t 0.03429392282540239\n",
      "Epoch:\t 2 Val Loss:\t 0.02985006242069441\n",
      "Epoch:\t 3 Val Loss:\t 0.027759228338440422\n",
      "Epoch:\t 4 Val Loss:\t 0.02654267652625098\n",
      "Epoch:\t 5 Val Loss:\t 0.0253117404050057\n",
      "Epoch:\t 6 Val Loss:\t 0.024646629058840797\n",
      "Epoch:\t 7 Val Loss:\t 0.02418176826571768\n",
      "Epoch:\t 8 Val Loss:\t 0.023943135432695762\n",
      "Epoch:\t 9 Val Loss:\t 0.023795602864786353\n",
      "Epoch:\t 10 Val Loss:\t 0.023725158477108006\n",
      "Epoch:\t 11 Val Loss:\t 0.023600326562370592\n",
      "Epoch:\t 12 Val Loss:\t 0.023535147737398163\n",
      "Epoch:\t 13 Val Loss:\t 0.02344593069409639\n",
      "Epoch:\t 14 Val Loss:\t 0.023371508336359516\n",
      "Epoch:\t 15 Val Loss:\t 0.023306705408961497\n",
      "Epoch:\t 16 Val Loss:\t 0.023263415331437155\n",
      "Epoch:\t 17 Val Loss:\t 0.023191286781743314\n",
      "Epoch:\t 18 Val Loss:\t 0.023160985033706186\n",
      "Epoch:\t 19 Val Loss:\t 0.023104471199374452\n",
      "Epoch:\t 20 Val Loss:\t 0.02307121585503229\n",
      "Epoch:\t 21 Val Loss:\t 0.02304531577315119\n",
      "Epoch:\t 22 Val Loss:\t 0.023003780348437232\n",
      "Epoch:\t 23 Val Loss:\t 0.022964514593052713\n",
      "Epoch:\t 24 Val Loss:\t 0.022934293177668534\n",
      "Epoch:\t 25 Val Loss:\t 0.02290573903833512\n",
      "Epoch:\t 26 Val Loss:\t 0.022875970373285835\n",
      "Epoch:\t 27 Val Loss:\t 0.022856529925323405\n",
      "Epoch:\t 28 Val Loss:\t 0.022826570938587257\n",
      "Epoch:\t 29 Val Loss:\t 0.022789613419989134\n",
      "Epoch:\t 30 Val Loss:\t 0.022766428799068452\n",
      "Epoch:\t 31 Val Loss:\t 0.02273591557864664\n",
      "Epoch:\t 32 Val Loss:\t 0.0227155024169561\n",
      "Epoch:\t 33 Val Loss:\t 0.02269952640032533\n",
      "Epoch:\t 34 Val Loss:\t 0.022711829445041062\n",
      "Epoch:\t 35 Val Loss:\t 0.02266943028593437\n",
      "Epoch:\t 36 Val Loss:\t 0.022647087269279408\n",
      "Epoch:\t 37 Val Loss:\t 0.022641652141002052\n",
      "Epoch:\t 38 Val Loss:\t 0.022636644048178466\n",
      "Epoch:\t 39 Val Loss:\t 0.022643173568586382\n",
      "Epoch:\t 40 Val Loss:\t 0.02259505781638574\n",
      "Epoch:\t 41 Val Loss:\t 0.02260053932701372\n",
      "Epoch:\t 42 Val Loss:\t 0.022561750692021897\n",
      "Epoch:\t 43 Val Loss:\t 0.022567416160209054\n",
      "Epoch:\t 44 Val Loss:\t 0.022566651436811053\n",
      "Epoch:\t 45 Val Loss:\t 0.022548421445501038\n",
      "Epoch:\t 46 Val Loss:\t 0.02254187037332661\n",
      "Epoch:\t 47 Val Loss:\t 0.02253034666236825\n",
      "Epoch:\t 48 Val Loss:\t 0.02253164947724799\n",
      "Epoch:\t 49 Val Loss:\t 0.02252617093085274\n",
      "Epoch:\t 50 Val Loss:\t 0.022498438948818367\n",
      "Epoch:\t 51 Val Loss:\t 0.022480616569778494\n",
      "Epoch:\t 52 Val Loss:\t 0.022530406652947046\n",
      "Epoch:\t 53 Val Loss:\t 0.02253569760081454\n",
      "Epoch:\t 54 Val Loss:\t 0.022480425135693576\n",
      "Epoch:\t 55 Val Loss:\t 0.022452251204071665\n",
      "Epoch:\t 56 Val Loss:\t 0.022465189201060037\n",
      "Epoch:\t 57 Val Loss:\t 0.022480390255690243\n",
      "Epoch:\t 58 Val Loss:\t 0.022463685115642555\n",
      "Epoch:\t 59 Val Loss:\t 0.022453426703966363\n",
      "Epoch:\t 60 Val Loss:\t 0.022486036587171406\n",
      "Epoch:\t 61 Val Loss:\t 0.02245428858652443\n",
      "Epoch:\t 62 Val Loss:\t 0.02246172014500641\n",
      "Epoch:\t 63 Val Loss:\t 0.02245272177007229\n",
      "Epoch:\t 64 Val Loss:\t 0.02245104859258225\n",
      "Epoch:\t 65 Val Loss:\t 0.02243333744578111\n",
      "Epoch:\t 66 Val Loss:\t 0.022421330600561822\n",
      "Epoch:\t 67 Val Loss:\t 0.02244910547316282\n",
      "Epoch:\t 68 Val Loss:\t 0.022430205590119212\n",
      "Epoch:\t 69 Val Loss:\t 0.022411707123861504\n",
      "Epoch:\t 70 Val Loss:\t 0.022403662144333487\n",
      "Epoch:\t 71 Val Loss:\t 0.022398058372618358\n",
      "Epoch:\t 72 Val Loss:\t 0.022418925874864923\n",
      "Epoch:\t 73 Val Loss:\t 0.022397579482550615\n",
      "Epoch:\t 74 Val Loss:\t 0.022411246207292453\n",
      "Epoch:\t 75 Val Loss:\t 0.022463721997746187\n",
      "Epoch:\t 76 Val Loss:\t 0.02244485180351496\n",
      "Epoch:\t 77 Val Loss:\t 0.02243216404203786\n",
      "Epoch:\t 78 Val Loss:\t 0.022414414057517842\n",
      "Epoch:\t 79 Val Loss:\t 0.022391711499539835\n",
      "Epoch:\t 80 Val Loss:\t 0.022404967391570503\n",
      "Epoch:\t 81 Val Loss:\t 0.022413325836007428\n",
      "Epoch:\t 82 Val Loss:\t 0.02241286625885645\n",
      "Epoch:\t 83 Val Loss:\t 0.022366539547592833\n",
      "Epoch:\t 84 Val Loss:\t 0.02241060267798754\n",
      "Epoch:\t 85 Val Loss:\t 0.022395953623598492\n",
      "Epoch:\t 86 Val Loss:\t 0.022390567724070297\n",
      "Epoch:\t 87 Val Loss:\t 0.02242065242151673\n",
      "Epoch:\t 88 Val Loss:\t 0.022387758628165246\n",
      "Epoch:\t 89 Val Loss:\t 0.022441728190841607\n",
      "Epoch:\t 90 Val Loss:\t 0.022362096294613682\n",
      "Epoch:\t 91 Val Loss:\t 0.022425157490964208\n",
      "Epoch:\t 92 Val Loss:\t 0.02238666380577771\n",
      "Epoch:\t 93 Val Loss:\t 0.02235164776124445\n",
      "Epoch:\t 94 Val Loss:\t 0.022372497642413863\n",
      "Epoch:\t 95 Val Loss:\t 0.022373519821640576\n",
      "Epoch:\t 96 Val Loss:\t 0.022367310016759245\n",
      "Epoch:\t 97 Val Loss:\t 0.022448106391600792\n",
      "Epoch:\t 98 Val Loss:\t 0.022396397297457078\n"
     ]
    },
    {
     "name": "stderr",
     "output_type": "stream",
     "text": [
      "[I 2025-09-17 23:12:40,767] Trial 4 finished with value: 0.02235164776124445 and parameters: {'lr': 1e-06, 'weight_decay': 1e-06, 'scheduler_factor': 0.1, 'scheduler_patience': 10, 'batch_size': 64, 'dropout': 0.15, 'hidden_dims': 256}. Best is trial 0 with value: 0.02170930364450743.\n"
     ]
    },
    {
     "name": "stdout",
     "output_type": "stream",
     "text": [
      "Epoch:\t 99 Val Loss:\t 0.02236172313641409\n"
     ]
    },
    {
     "name": "stderr",
     "output_type": "stream",
     "text": [
      "[I 2025-09-17 23:12:53,756] Trial 5 pruned. \n"
     ]
    },
    {
     "name": "stdout",
     "output_type": "stream",
     "text": [
      "Epoch:\t 0 Val Loss:\t 0.04128077136909047\n",
      "Epoch:\t 0 Val Loss:\t 0.02246233152528835\n",
      "Epoch:\t 1 Val Loss:\t 0.022395413871421372\n"
     ]
    },
    {
     "name": "stderr",
     "output_type": "stream",
     "text": [
      "[I 2025-09-17 23:13:04,774] Trial 6 pruned. \n"
     ]
    },
    {
     "name": "stdout",
     "output_type": "stream",
     "text": [
      "Epoch:\t 2 Val Loss:\t 0.022240358976603942\n",
      "Epoch:\t 0 Val Loss:\t 0.022855963034461264\n"
     ]
    },
    {
     "name": "stderr",
     "output_type": "stream",
     "text": [
      "[I 2025-09-17 23:13:20,081] Trial 7 pruned. \n"
     ]
    },
    {
     "name": "stdout",
     "output_type": "stream",
     "text": [
      "Epoch:\t 1 Val Loss:\t 0.022713200511865952\n"
     ]
    },
    {
     "name": "stderr",
     "output_type": "stream",
     "text": [
      "[I 2025-09-17 23:13:24,249] Trial 8 pruned. \n"
     ]
    },
    {
     "name": "stdout",
     "output_type": "stream",
     "text": [
      "Epoch:\t 0 Val Loss:\t 0.026326785389762308\n"
     ]
    },
    {
     "name": "stderr",
     "output_type": "stream",
     "text": [
      "[I 2025-09-17 23:13:29,759] Trial 9 pruned. \n"
     ]
    },
    {
     "name": "stdout",
     "output_type": "stream",
     "text": [
      "Epoch:\t 0 Val Loss:\t 0.03318707362569769\n",
      "Epoch:\t 0 Val Loss:\t 0.02207882649936648\n",
      "Epoch:\t 1 Val Loss:\t 0.022014769621539948\n",
      "Epoch:\t 2 Val Loss:\t 0.021873022226053616\n",
      "Epoch:\t 3 Val Loss:\t 0.021840204207529856\n",
      "Epoch:\t 4 Val Loss:\t 0.021829370071375094\n",
      "Epoch:\t 5 Val Loss:\t 0.021842241404188233\n",
      "Epoch:\t 6 Val Loss:\t 0.021815887730308743\n",
      "Epoch:\t 7 Val Loss:\t 0.021813243744505006\n",
      "Epoch:\t 8 Val Loss:\t 0.02179732073618229\n",
      "Epoch:\t 9 Val Loss:\t 0.02182561986494896\n",
      "Epoch:\t 10 Val Loss:\t 0.02181273539832165\n",
      "Epoch:\t 11 Val Loss:\t 0.021777347345338312\n",
      "Epoch:\t 12 Val Loss:\t 0.021777902729809284\n",
      "Epoch:\t 13 Val Loss:\t 0.021769379768087422\n",
      "Epoch:\t 14 Val Loss:\t 0.02176408454082733\n",
      "Epoch:\t 15 Val Loss:\t 0.021771286401984304\n",
      "Epoch:\t 16 Val Loss:\t 0.02175781429680281\n",
      "Epoch:\t 17 Val Loss:\t 0.02176207339087891\n",
      "Epoch:\t 18 Val Loss:\t 0.021753813694556094\n",
      "Epoch:\t 19 Val Loss:\t 0.021760769114764624\n",
      "Epoch:\t 20 Val Loss:\t 0.02176050946203082\n",
      "Epoch:\t 21 Val Loss:\t 0.02173354069074226\n",
      "Epoch:\t 22 Val Loss:\t 0.021738960191087668\n",
      "Epoch:\t 23 Val Loss:\t 0.021729062692543794\n",
      "Epoch:\t 24 Val Loss:\t 0.02172755854594153\n",
      "Epoch:\t 25 Val Loss:\t 0.021731975804581197\n",
      "Epoch:\t 26 Val Loss:\t 0.02172204791026753\n",
      "Epoch:\t 27 Val Loss:\t 0.021719545307894085\n",
      "Epoch:\t 28 Val Loss:\t 0.021721829032135563\n",
      "Epoch:\t 29 Val Loss:\t 0.02172461585250012\n",
      "Epoch:\t 30 Val Loss:\t 0.021712329758461133\n",
      "Epoch:\t 31 Val Loss:\t 0.021715520885448123\n",
      "Epoch:\t 32 Val Loss:\t 0.021716094532505024\n",
      "Epoch:\t 33 Val Loss:\t 0.021712593374730544\n",
      "Epoch:\t 34 Val Loss:\t 0.021713682597633018\n",
      "Epoch:\t 35 Val Loss:\t 0.021716455066966456\n",
      "Epoch:\t 36 Val Loss:\t 0.021721794989046663\n",
      "Epoch:\t 37 Val Loss:\t 0.02171717377942662\n",
      "Epoch:\t 38 Val Loss:\t 0.021715774789972362\n",
      "Epoch:\t 39 Val Loss:\t 0.0217130622415002\n"
     ]
    },
    {
     "name": "stderr",
     "output_type": "stream",
     "text": [
      "[I 2025-09-17 23:15:56,068] Trial 10 finished with value: 0.021712329758461133 and parameters: {'lr': 0.001, 'weight_decay': 1e-05, 'scheduler_factor': 0.5, 'scheduler_patience': 1, 'batch_size': 256, 'dropout': 0.05, 'hidden_dims': 128}. Best is trial 0 with value: 0.02170930364450743.\n"
     ]
    },
    {
     "name": "stdout",
     "output_type": "stream",
     "text": [
      "Epoch:\t 40 Val Loss:\t 0.021715011525639268\n",
      "Epoch:\t 0 Val Loss:\t 0.02216986983494703\n",
      "Epoch:\t 1 Val Loss:\t 0.021958568185394586\n",
      "Epoch:\t 2 Val Loss:\t 0.02185158916684084\n",
      "Epoch:\t 3 Val Loss:\t 0.02183210581627696\n",
      "Epoch:\t 4 Val Loss:\t 0.021831508041467777\n",
      "Epoch:\t 5 Val Loss:\t 0.021835160597639028\n",
      "Epoch:\t 6 Val Loss:\t 0.021798118715022886\n",
      "Epoch:\t 7 Val Loss:\t 0.02179105734929096\n",
      "Epoch:\t 8 Val Loss:\t 0.02178261277893948\n",
      "Epoch:\t 9 Val Loss:\t 0.02177064158455577\n",
      "Epoch:\t 10 Val Loss:\t 0.021770188108433123\n",
      "Epoch:\t 11 Val Loss:\t 0.02177086905684582\n",
      "Epoch:\t 12 Val Loss:\t 0.02175092523441065\n",
      "Epoch:\t 13 Val Loss:\t 0.021748474591173406\n",
      "Epoch:\t 14 Val Loss:\t 0.021741477750934834\n",
      "Epoch:\t 15 Val Loss:\t 0.021744689310705938\n",
      "Epoch:\t 16 Val Loss:\t 0.02174437669820564\n",
      "Epoch:\t 17 Val Loss:\t 0.021730702452708122\n",
      "Epoch:\t 18 Val Loss:\t 0.02172603567758965\n",
      "Epoch:\t 19 Val Loss:\t 0.021726306341588498\n",
      "Epoch:\t 20 Val Loss:\t 0.02172249486280042\n",
      "Epoch:\t 21 Val Loss:\t 0.02172965105016564\n",
      "Epoch:\t 22 Val Loss:\t 0.021726411516063436\n",
      "Epoch:\t 23 Val Loss:\t 0.02172286526494941\n",
      "Epoch:\t 24 Val Loss:\t 0.021716646291315554\n",
      "Epoch:\t 25 Val Loss:\t 0.021721995392337788\n",
      "Epoch:\t 26 Val Loss:\t 0.021716472376571146\n",
      "Epoch:\t 27 Val Loss:\t 0.021713847692969232\n",
      "Epoch:\t 28 Val Loss:\t 0.021719482047266737\n",
      "Epoch:\t 29 Val Loss:\t 0.021723240185095822\n",
      "Epoch:\t 30 Val Loss:\t 0.021718414448374926\n",
      "Epoch:\t 31 Val Loss:\t 0.02172131278487139\n",
      "Epoch:\t 32 Val Loss:\t 0.02171787957465926\n",
      "Epoch:\t 33 Val Loss:\t 0.021721308353508627\n",
      "Epoch:\t 34 Val Loss:\t 0.021719604873553264\n",
      "Epoch:\t 35 Val Loss:\t 0.021721046838129674\n",
      "Epoch:\t 36 Val Loss:\t 0.021718638702187428\n"
     ]
    },
    {
     "name": "stderr",
     "output_type": "stream",
     "text": [
      "[I 2025-09-17 23:18:10,597] Trial 11 finished with value: 0.021713847692969232 and parameters: {'lr': 0.001, 'weight_decay': 1e-05, 'scheduler_factor': 0.5, 'scheduler_patience': 1, 'batch_size': 256, 'dropout': 0.05, 'hidden_dims': 128}. Best is trial 0 with value: 0.02170930364450743.\n"
     ]
    },
    {
     "name": "stdout",
     "output_type": "stream",
     "text": [
      "Epoch:\t 37 Val Loss:\t 0.021721297463532106\n",
      "Epoch:\t 0 Val Loss:\t 0.022144079628552114\n",
      "Epoch:\t 1 Val Loss:\t 0.02199481336269961\n",
      "Epoch:\t 2 Val Loss:\t 0.02186001968071904\n",
      "Epoch:\t 3 Val Loss:\t 0.021843910407881403\n",
      "Epoch:\t 4 Val Loss:\t 0.02183285304886657\n",
      "Epoch:\t 5 Val Loss:\t 0.021831673210443454\n",
      "Epoch:\t 6 Val Loss:\t 0.021833756947240164\n",
      "Epoch:\t 7 Val Loss:\t 0.021793934655224168\n",
      "Epoch:\t 8 Val Loss:\t 0.021776966551362083\n",
      "Epoch:\t 9 Val Loss:\t 0.02176606733092042\n",
      "Epoch:\t 10 Val Loss:\t 0.021773404389793097\n",
      "Epoch:\t 11 Val Loss:\t 0.02176974699507619\n",
      "Epoch:\t 12 Val Loss:\t 0.02174133838176034\n",
      "Epoch:\t 13 Val Loss:\t 0.021749292288062185\n",
      "Epoch:\t 14 Val Loss:\t 0.02175020736230667\n",
      "Epoch:\t 15 Val Loss:\t 0.021732373661253343\n",
      "Epoch:\t 16 Val Loss:\t 0.021732353613993456\n",
      "Epoch:\t 17 Val Loss:\t 0.021730948144266772\n",
      "Epoch:\t 18 Val Loss:\t 0.021723947730348553\n",
      "Epoch:\t 19 Val Loss:\t 0.021720252775175627\n",
      "Epoch:\t 20 Val Loss:\t 0.021725688796750336\n",
      "Epoch:\t 21 Val Loss:\t 0.021726282495398853\n",
      "Epoch:\t 22 Val Loss:\t 0.02172322846342658\n",
      "Epoch:\t 23 Val Loss:\t 0.02172509310983641\n",
      "Epoch:\t 24 Val Loss:\t 0.021720463843193163\n",
      "Epoch:\t 25 Val Loss:\t 0.02172532850919768\n",
      "Epoch:\t 26 Val Loss:\t 0.021721507028438326\n",
      "Epoch:\t 27 Val Loss:\t 0.021720118396157444\n",
      "Epoch:\t 28 Val Loss:\t 0.021724256387976714\n",
      "Epoch:\t 29 Val Loss:\t 0.02172655485310527\n",
      "Epoch:\t 30 Val Loss:\t 0.021725132376995197\n",
      "Epoch:\t 31 Val Loss:\t 0.02172902203923048\n",
      "Epoch:\t 32 Val Loss:\t 0.02172895825446345\n",
      "Epoch:\t 33 Val Loss:\t 0.021722266099653966\n",
      "Epoch:\t 34 Val Loss:\t 0.021722848977633685\n",
      "Epoch:\t 35 Val Loss:\t 0.02172829269669777\n",
      "Epoch:\t 36 Val Loss:\t 0.021724519233197667\n"
     ]
    },
    {
     "name": "stderr",
     "output_type": "stream",
     "text": [
      "[I 2025-09-17 23:20:21,834] Trial 12 finished with value: 0.021720118396157444 and parameters: {'lr': 0.001, 'weight_decay': 1e-05, 'scheduler_factor': 0.5, 'scheduler_patience': 1, 'batch_size': 256, 'dropout': 0.05, 'hidden_dims': 128}. Best is trial 0 with value: 0.02170930364450743.\n"
     ]
    },
    {
     "name": "stdout",
     "output_type": "stream",
     "text": [
      "Epoch:\t 37 Val Loss:\t 0.02172434487228477\n",
      "Epoch:\t 0 Val Loss:\t 0.022057293069570563\n",
      "Epoch:\t 1 Val Loss:\t 0.021930649997883064\n",
      "Epoch:\t 2 Val Loss:\t 0.021863496715072976\n",
      "Epoch:\t 3 Val Loss:\t 0.021836998794487743\n",
      "Epoch:\t 4 Val Loss:\t 0.021833406986538753\n",
      "Epoch:\t 5 Val Loss:\t 0.0218333721204206\n",
      "Epoch:\t 6 Val Loss:\t 0.021824934909683326\n",
      "Epoch:\t 7 Val Loss:\t 0.021828145074636436\n",
      "Epoch:\t 8 Val Loss:\t 0.02182473703612422\n",
      "Epoch:\t 9 Val Loss:\t 0.02179857123383256\n",
      "Epoch:\t 10 Val Loss:\t 0.021798954306300296\n",
      "Epoch:\t 11 Val Loss:\t 0.02178337484338256\n",
      "Epoch:\t 12 Val Loss:\t 0.021775998638639615\n",
      "Epoch:\t 13 Val Loss:\t 0.021769187508454156\n",
      "Epoch:\t 14 Val Loss:\t 0.021777394318649935\n",
      "Epoch:\t 15 Val Loss:\t 0.02177545624936736\n",
      "Epoch:\t 16 Val Loss:\t 0.02174758343675802\n",
      "Epoch:\t 17 Val Loss:\t 0.02175723259705444\n",
      "Epoch:\t 18 Val Loss:\t 0.021745836994675704\n",
      "Epoch:\t 19 Val Loss:\t 0.021739675970964652\n",
      "Epoch:\t 20 Val Loss:\t 0.021739680090442647\n",
      "Epoch:\t 21 Val Loss:\t 0.02174262700299191\n",
      "Epoch:\t 22 Val Loss:\t 0.021734663965397104\n",
      "Epoch:\t 23 Val Loss:\t 0.021732640279413656\n",
      "Epoch:\t 24 Val Loss:\t 0.021732508243862973\n",
      "Epoch:\t 25 Val Loss:\t 0.0217281804095174\n",
      "Epoch:\t 26 Val Loss:\t 0.02172806840389967\n",
      "Epoch:\t 27 Val Loss:\t 0.02172738392945639\n",
      "Epoch:\t 28 Val Loss:\t 0.021728578261857808\n",
      "Epoch:\t 29 Val Loss:\t 0.021731991680382295\n",
      "Epoch:\t 30 Val Loss:\t 0.02172840049187111\n",
      "Epoch:\t 31 Val Loss:\t 0.02173018878715676\n",
      "Epoch:\t 32 Val Loss:\t 0.021732732471685078\n"
     ]
    },
    {
     "name": "stderr",
     "output_type": "stream",
     "text": [
      "[I 2025-09-17 23:22:21,768] Trial 13 pruned. \n"
     ]
    },
    {
     "name": "stdout",
     "output_type": "stream",
     "text": [
      "Epoch:\t 33 Val Loss:\t 0.021731476048224195\n"
     ]
    },
    {
     "name": "stderr",
     "output_type": "stream",
     "text": [
      "[I 2025-09-17 23:22:25,510] Trial 14 pruned. \n"
     ]
    },
    {
     "name": "stdout",
     "output_type": "stream",
     "text": [
      "Epoch:\t 0 Val Loss:\t 0.02343647327100815\n",
      "Epoch:\t 0 Val Loss:\t 0.022014098440953526\n",
      "Epoch:\t 1 Val Loss:\t 0.021992512034310695\n",
      "Epoch:\t 2 Val Loss:\t 0.021945309977757805\n",
      "Epoch:\t 3 Val Loss:\t 0.02192687729111809\n"
     ]
    },
    {
     "name": "stderr",
     "output_type": "stream",
     "text": [
      "[I 2025-09-17 23:22:45,279] Trial 15 pruned. \n"
     ]
    },
    {
     "name": "stdout",
     "output_type": "stream",
     "text": [
      "Epoch:\t 4 Val Loss:\t 0.02193827329595053\n",
      "Epoch:\t 0 Val Loss:\t 0.02200387876716452\n",
      "Epoch:\t 1 Val Loss:\t 0.021996629690427438\n",
      "Epoch:\t 2 Val Loss:\t 0.021958599122284105\n"
     ]
    },
    {
     "name": "stderr",
     "output_type": "stream",
     "text": [
      "[I 2025-09-17 23:23:35,549] Trial 16 pruned. \n"
     ]
    },
    {
     "name": "stdout",
     "output_type": "stream",
     "text": [
      "Epoch:\t 3 Val Loss:\t 0.021970871643143132\n"
     ]
    },
    {
     "name": "stderr",
     "output_type": "stream",
     "text": [
      "[I 2025-09-17 23:23:38,995] Trial 17 pruned. \n"
     ]
    },
    {
     "name": "stdout",
     "output_type": "stream",
     "text": [
      "Epoch:\t 0 Val Loss:\t 0.0397672210061966\n"
     ]
    },
    {
     "name": "stderr",
     "output_type": "stream",
     "text": [
      "[I 2025-09-17 23:23:42,432] Trial 18 pruned. \n"
     ]
    },
    {
     "name": "stdout",
     "output_type": "stream",
     "text": [
      "Epoch:\t 0 Val Loss:\t 0.024360884470475276\n",
      "Epoch:\t 0 Val Loss:\t 0.02193791333932516\n",
      "Epoch:\t 1 Val Loss:\t 0.021976482846535916\n",
      "Epoch:\t 2 Val Loss:\t 0.02193828711156235\n",
      "Epoch:\t 3 Val Loss:\t 0.021955250840374203\n",
      "Epoch:\t 4 Val Loss:\t 0.021911284964271756\n",
      "Epoch:\t 5 Val Loss:\t 0.021927609571883843\n",
      "Epoch:\t 6 Val Loss:\t 0.02189806321592525\n",
      "Epoch:\t 7 Val Loss:\t 0.021905797468714936\n",
      "Epoch:\t 8 Val Loss:\t 0.021914509441270383\n",
      "Epoch:\t 9 Val Loss:\t 0.02188276361327532\n",
      "Epoch:\t 10 Val Loss:\t 0.021860712303151918\n",
      "Epoch:\t 11 Val Loss:\t 0.021888288097499414\n",
      "Epoch:\t 12 Val Loss:\t 0.02188421986390685\n",
      "Epoch:\t 13 Val Loss:\t 0.021878803101216638\n",
      "Epoch:\t 14 Val Loss:\t 0.021898639150137126\n",
      "Epoch:\t 15 Val Loss:\t 0.02186583816831888\n",
      "Epoch:\t 16 Val Loss:\t 0.021899920606682468\n",
      "Epoch:\t 17 Val Loss:\t 0.021840716850792252\n",
      "Epoch:\t 18 Val Loss:\t 0.02179664313619913\n",
      "Epoch:\t 19 Val Loss:\t 0.021822912085714727\n",
      "Epoch:\t 20 Val Loss:\t 0.021810746262239854\n",
      "Epoch:\t 21 Val Loss:\t 0.021807403992428337\n",
      "Epoch:\t 22 Val Loss:\t 0.02181361707490544\n",
      "Epoch:\t 23 Val Loss:\t 0.02182901606483515\n",
      "Epoch:\t 24 Val Loss:\t 0.021818438393258772\n"
     ]
    },
    {
     "name": "stderr",
     "output_type": "stream",
     "text": [
      "[I 2025-09-17 23:25:13,416] Trial 19 pruned. \n"
     ]
    },
    {
     "name": "stdout",
     "output_type": "stream",
     "text": [
      "Epoch:\t 25 Val Loss:\t 0.021800375171005727\n"
     ]
    },
    {
     "name": "stderr",
     "output_type": "stream",
     "text": [
      "[I 2025-09-17 23:25:25,850] Trial 20 pruned. \n"
     ]
    },
    {
     "name": "stdout",
     "output_type": "stream",
     "text": [
      "Epoch:\t 0 Val Loss:\t 0.025171662749171077\n",
      "Epoch:\t 0 Val Loss:\t 0.02206960077462501\n"
     ]
    },
    {
     "name": "stderr",
     "output_type": "stream",
     "text": [
      "[I 2025-09-17 23:25:32,873] Trial 21 pruned. \n"
     ]
    },
    {
     "name": "stdout",
     "output_type": "stream",
     "text": [
      "Epoch:\t 1 Val Loss:\t 0.022052720262734003\n",
      "Epoch:\t 0 Val Loss:\t 0.022099136912025686\n",
      "Epoch:\t 1 Val Loss:\t 0.021970288468481498\n",
      "Epoch:\t 2 Val Loss:\t 0.02191689155216134\n",
      "Epoch:\t 3 Val Loss:\t 0.0218241777097763\n",
      "Epoch:\t 4 Val Loss:\t 0.02181509521378334\n",
      "Epoch:\t 5 Val Loss:\t 0.021819153861250988\n",
      "Epoch:\t 6 Val Loss:\t 0.02181402536672215\n",
      "Epoch:\t 7 Val Loss:\t 0.021788077719163062\n",
      "Epoch:\t 8 Val Loss:\t 0.02177243826174459\n",
      "Epoch:\t 9 Val Loss:\t 0.021768838873263016\n",
      "Epoch:\t 10 Val Loss:\t 0.02177908782695615\n",
      "Epoch:\t 11 Val Loss:\t 0.021769047740760238\n",
      "Epoch:\t 12 Val Loss:\t 0.021752092402515022\n",
      "Epoch:\t 13 Val Loss:\t 0.021744601450167423\n",
      "Epoch:\t 14 Val Loss:\t 0.021738872035991313\n",
      "Epoch:\t 15 Val Loss:\t 0.021743551858289297\n",
      "Epoch:\t 16 Val Loss:\t 0.021732362732291222\n",
      "Epoch:\t 17 Val Loss:\t 0.0217447527446026\n",
      "Epoch:\t 18 Val Loss:\t 0.02174321131044349\n",
      "Epoch:\t 19 Val Loss:\t 0.02172644262656916\n",
      "Epoch:\t 20 Val Loss:\t 0.021724673377913097\n",
      "Epoch:\t 21 Val Loss:\t 0.021723860116718813\n",
      "Epoch:\t 22 Val Loss:\t 0.02172369195018397\n",
      "Epoch:\t 23 Val Loss:\t 0.021713576145296874\n",
      "Epoch:\t 24 Val Loss:\t 0.021719589920411276\n",
      "Epoch:\t 25 Val Loss:\t 0.02171646185912365\n",
      "Epoch:\t 26 Val Loss:\t 0.021717129920630955\n",
      "Epoch:\t 27 Val Loss:\t 0.021716383822955366\n",
      "Epoch:\t 28 Val Loss:\t 0.021715198509221854\n",
      "Epoch:\t 29 Val Loss:\t 0.021718263175598412\n",
      "Epoch:\t 30 Val Loss:\t 0.02171701747317647\n",
      "Epoch:\t 31 Val Loss:\t 0.021716815402168174\n",
      "Epoch:\t 32 Val Loss:\t 0.02171780503853116\n"
     ]
    },
    {
     "name": "stderr",
     "output_type": "stream",
     "text": [
      "[I 2025-09-17 23:27:32,106] Trial 22 finished with value: 0.021713576145296874 and parameters: {'lr': 0.001, 'weight_decay': 1e-05, 'scheduler_factor': 0.5, 'scheduler_patience': 1, 'batch_size': 256, 'dropout': 0.05, 'hidden_dims': 128}. Best is trial 0 with value: 0.02170930364450743.\n"
     ]
    },
    {
     "name": "stdout",
     "output_type": "stream",
     "text": [
      "Epoch:\t 33 Val Loss:\t 0.02171664322878039\n",
      "Epoch:\t 0 Val Loss:\t 0.02207031073698471\n",
      "Epoch:\t 1 Val Loss:\t 0.021951875315849172\n",
      "Epoch:\t 2 Val Loss:\t 0.02184784641965877\n",
      "Epoch:\t 3 Val Loss:\t 0.021835202307895173\n",
      "Epoch:\t 4 Val Loss:\t 0.02182860556816639\n",
      "Epoch:\t 5 Val Loss:\t 0.021829932967070923\n",
      "Epoch:\t 6 Val Loss:\t 0.02182100487569737\n"
     ]
    },
    {
     "name": "stderr",
     "output_type": "stream",
     "text": [
      "[I 2025-09-17 23:28:00,609] Trial 23 pruned. \n"
     ]
    },
    {
     "name": "stdout",
     "output_type": "stream",
     "text": [
      "Epoch:\t 7 Val Loss:\t 0.02181866692249165\n",
      "Epoch:\t 0 Val Loss:\t 0.022061517215225587\n",
      "Epoch:\t 1 Val Loss:\t 0.02196237126495256\n",
      "Epoch:\t 2 Val Loss:\t 0.02185174526083608\n",
      "Epoch:\t 3 Val Loss:\t 0.02182917688908272\n",
      "Epoch:\t 4 Val Loss:\t 0.021848040511615055\n",
      "Epoch:\t 5 Val Loss:\t 0.021832698704891428\n",
      "Epoch:\t 6 Val Loss:\t 0.02178705465481725\n",
      "Epoch:\t 7 Val Loss:\t 0.021787822857325854\n",
      "Epoch:\t 8 Val Loss:\t 0.021776552407374215\n",
      "Epoch:\t 9 Val Loss:\t 0.021783332907876304\n",
      "Epoch:\t 10 Val Loss:\t 0.02177247201893912\n",
      "Epoch:\t 11 Val Loss:\t 0.021767362796289977\n",
      "Epoch:\t 12 Val Loss:\t 0.021770139289803283\n",
      "Epoch:\t 13 Val Loss:\t 0.021776099230141142\n",
      "Epoch:\t 14 Val Loss:\t 0.02174188106992217\n",
      "Epoch:\t 15 Val Loss:\t 0.021751425216017767\n",
      "Epoch:\t 16 Val Loss:\t 0.02173931634616713\n",
      "Epoch:\t 17 Val Loss:\t 0.021749147499889827\n",
      "Epoch:\t 18 Val Loss:\t 0.02174044246243876\n",
      "Epoch:\t 19 Val Loss:\t 0.021729654649835686\n",
      "Epoch:\t 20 Val Loss:\t 0.021725855356212274\n",
      "Epoch:\t 21 Val Loss:\t 0.021723876910847286\n",
      "Epoch:\t 22 Val Loss:\t 0.02173108416934346\n",
      "Epoch:\t 23 Val Loss:\t 0.021725378514722338\n",
      "Epoch:\t 24 Val Loss:\t 0.02172078793045393\n",
      "Epoch:\t 25 Val Loss:\t 0.021722195349460426\n",
      "Epoch:\t 26 Val Loss:\t 0.021722334601678127\n",
      "Epoch:\t 27 Val Loss:\t 0.021714978660781717\n",
      "Epoch:\t 28 Val Loss:\t 0.021719420242101647\n",
      "Epoch:\t 29 Val Loss:\t 0.02171973900133094\n",
      "Epoch:\t 30 Val Loss:\t 0.021720928690114688\n",
      "Epoch:\t 31 Val Loss:\t 0.02171930946236433\n",
      "Epoch:\t 32 Val Loss:\t 0.02172339307360871\n",
      "Epoch:\t 33 Val Loss:\t 0.021721936524087607\n",
      "Epoch:\t 34 Val Loss:\t 0.02172036231603733\n",
      "Epoch:\t 35 Val Loss:\t 0.021723453319349953\n",
      "Epoch:\t 36 Val Loss:\t 0.021721834685047004\n"
     ]
    },
    {
     "name": "stderr",
     "output_type": "stream",
     "text": [
      "[I 2025-09-17 23:30:16,071] Trial 24 finished with value: 0.021714978660781717 and parameters: {'lr': 0.001, 'weight_decay': 1e-05, 'scheduler_factor': 0.5, 'scheduler_patience': 1, 'batch_size': 256, 'dropout': 0.05, 'hidden_dims': 128}. Best is trial 0 with value: 0.02170930364450743.\n"
     ]
    },
    {
     "name": "stdout",
     "output_type": "stream",
     "text": [
      "Epoch:\t 37 Val Loss:\t 0.021728002548564312\n",
      "Epoch:\t 0 Val Loss:\t 0.02195520460406593\n",
      "Epoch:\t 1 Val Loss:\t 0.021840714201608047\n",
      "Epoch:\t 2 Val Loss:\t 0.021837897869162303\n",
      "Epoch:\t 3 Val Loss:\t 0.021828866627556245\n",
      "Epoch:\t 4 Val Loss:\t 0.021836543566050845\n",
      "Epoch:\t 5 Val Loss:\t 0.021830659123888277\n",
      "Epoch:\t 6 Val Loss:\t 0.021792800737919154\n",
      "Epoch:\t 7 Val Loss:\t 0.02178021685223546\n",
      "Epoch:\t 8 Val Loss:\t 0.02177804466834536\n",
      "Epoch:\t 9 Val Loss:\t 0.021770598373346627\n",
      "Epoch:\t 10 Val Loss:\t 0.02177306018449565\n",
      "Epoch:\t 11 Val Loss:\t 0.021785974080710046\n",
      "Epoch:\t 12 Val Loss:\t 0.021758963913158118\n",
      "Epoch:\t 13 Val Loss:\t 0.021741408445849653\n",
      "Epoch:\t 14 Val Loss:\t 0.021746754780429027\n",
      "Epoch:\t 15 Val Loss:\t 0.021748087986542233\n",
      "Epoch:\t 16 Val Loss:\t 0.021732868866845705\n",
      "Epoch:\t 17 Val Loss:\t 0.021724173729929915\n",
      "Epoch:\t 18 Val Loss:\t 0.021733735193705032\n",
      "Epoch:\t 19 Val Loss:\t 0.021731123875536707\n",
      "Epoch:\t 20 Val Loss:\t 0.021723020746092486\n",
      "Epoch:\t 21 Val Loss:\t 0.021721085719547898\n",
      "Epoch:\t 22 Val Loss:\t 0.021721245459217088\n",
      "Epoch:\t 23 Val Loss:\t 0.02172362530099944\n",
      "Epoch:\t 24 Val Loss:\t 0.021722204743102453\n",
      "Epoch:\t 25 Val Loss:\t 0.021721174499143292\n",
      "Epoch:\t 26 Val Loss:\t 0.021723762827381303\n",
      "Epoch:\t 27 Val Loss:\t 0.021717536759656896\n",
      "Epoch:\t 28 Val Loss:\t 0.02172340151316267\n",
      "Epoch:\t 29 Val Loss:\t 0.021725187104078534\n",
      "Epoch:\t 30 Val Loss:\t 0.021723052389426515\n",
      "Epoch:\t 31 Val Loss:\t 0.02172482187635807\n",
      "Epoch:\t 32 Val Loss:\t 0.021723214991208984\n",
      "Epoch:\t 33 Val Loss:\t 0.021723590352065194\n",
      "Epoch:\t 34 Val Loss:\t 0.02172758126075398\n",
      "Epoch:\t 35 Val Loss:\t 0.021720738713732302\n",
      "Epoch:\t 36 Val Loss:\t 0.021726824165809722\n"
     ]
    },
    {
     "name": "stderr",
     "output_type": "stream",
     "text": [
      "[I 2025-09-17 23:32:47,965] Trial 25 finished with value: 0.021717536759656896 and parameters: {'lr': 0.001, 'weight_decay': 1e-05, 'scheduler_factor': 0.5, 'scheduler_patience': 1, 'batch_size': 128, 'dropout': 0.05, 'hidden_dims': 64}. Best is trial 0 with value: 0.02170930364450743.\n"
     ]
    },
    {
     "name": "stdout",
     "output_type": "stream",
     "text": [
      "Epoch:\t 37 Val Loss:\t 0.02172483750873188\n"
     ]
    },
    {
     "name": "stderr",
     "output_type": "stream",
     "text": [
      "[I 2025-09-17 23:32:55,768] Trial 26 pruned. \n"
     ]
    },
    {
     "name": "stdout",
     "output_type": "stream",
     "text": [
      "Epoch:\t 0 Val Loss:\t 0.04314746021428775\n"
     ]
    },
    {
     "name": "stderr",
     "output_type": "stream",
     "text": [
      "[I 2025-09-17 23:32:59,295] Trial 27 pruned. \n"
     ]
    },
    {
     "name": "stdout",
     "output_type": "stream",
     "text": [
      "Epoch:\t 0 Val Loss:\t 0.03963515435367129\n"
     ]
    },
    {
     "name": "stderr",
     "output_type": "stream",
     "text": [
      "[I 2025-09-17 23:33:02,807] Trial 28 pruned. \n"
     ]
    },
    {
     "name": "stdout",
     "output_type": "stream",
     "text": [
      "Epoch:\t 0 Val Loss:\t 0.02239836045475893\n"
     ]
    },
    {
     "name": "stderr",
     "output_type": "stream",
     "text": [
      "[I 2025-09-17 23:33:14,210] Trial 29 pruned. \n"
     ]
    },
    {
     "name": "stdout",
     "output_type": "stream",
     "text": [
      "Epoch:\t 0 Val Loss:\t 0.025941535509426582\n"
     ]
    },
    {
     "name": "stderr",
     "output_type": "stream",
     "text": [
      "[I 2025-09-17 23:33:17,948] Trial 30 pruned. \n"
     ]
    },
    {
     "name": "stdout",
     "output_type": "stream",
     "text": [
      "Epoch:\t 0 Val Loss:\t 0.023673561986449154\n",
      "Epoch:\t 0 Val Loss:\t 0.022039884250870972\n"
     ]
    },
    {
     "name": "stderr",
     "output_type": "stream",
     "text": [
      "[I 2025-09-17 23:33:25,049] Trial 31 pruned. \n"
     ]
    },
    {
     "name": "stdout",
     "output_type": "stream",
     "text": [
      "Epoch:\t 1 Val Loss:\t 0.02200292879065802\n",
      "Epoch:\t 0 Val Loss:\t 0.022135614703387714\n"
     ]
    },
    {
     "name": "stderr",
     "output_type": "stream",
     "text": [
      "[I 2025-09-17 23:33:31,970] Trial 32 pruned. \n"
     ]
    },
    {
     "name": "stdout",
     "output_type": "stream",
     "text": [
      "Epoch:\t 1 Val Loss:\t 0.02201472746944705\n"
     ]
    },
    {
     "name": "stderr",
     "output_type": "stream",
     "text": [
      "[I 2025-09-17 23:33:35,494] Trial 33 pruned. \n"
     ]
    },
    {
     "name": "stdout",
     "output_type": "stream",
     "text": [
      "Epoch:\t 0 Val Loss:\t 0.0230277527037055\n",
      "Epoch:\t 0 Val Loss:\t 0.021973804606949598\n",
      "Epoch:\t 1 Val Loss:\t 0.0219548353033483\n"
     ]
    },
    {
     "name": "stderr",
     "output_type": "stream",
     "text": [
      "[I 2025-09-17 23:33:51,487] Trial 34 pruned. \n"
     ]
    },
    {
     "name": "stdout",
     "output_type": "stream",
     "text": [
      "Epoch:\t 2 Val Loss:\t 0.021888522642058685\n"
     ]
    },
    {
     "name": "stderr",
     "output_type": "stream",
     "text": [
      "[I 2025-09-17 23:33:55,152] Trial 35 pruned. \n"
     ]
    },
    {
     "name": "stdout",
     "output_type": "stream",
     "text": [
      "Epoch:\t 0 Val Loss:\t 0.02225520702642064\n"
     ]
    },
    {
     "name": "stderr",
     "output_type": "stream",
     "text": [
      "[I 2025-09-17 23:34:07,588] Trial 36 pruned. \n"
     ]
    },
    {
     "name": "stdout",
     "output_type": "stream",
     "text": [
      "Epoch:\t 0 Val Loss:\t 0.03608393524451178\n"
     ]
    },
    {
     "name": "stderr",
     "output_type": "stream",
     "text": [
      "[I 2025-09-17 23:34:15,324] Trial 37 pruned. \n"
     ]
    },
    {
     "name": "stdout",
     "output_type": "stream",
     "text": [
      "Epoch:\t 0 Val Loss:\t 0.022192214804826367\n"
     ]
    },
    {
     "name": "stderr",
     "output_type": "stream",
     "text": [
      "[I 2025-09-17 23:34:21,595] Trial 38 pruned. \n"
     ]
    },
    {
     "name": "stdout",
     "output_type": "stream",
     "text": [
      "Epoch:\t 0 Val Loss:\t 0.023007776874679156\n",
      "Epoch:\t 0 Val Loss:\t 0.022136601981783716\n",
      "Epoch:\t 1 Val Loss:\t 0.02189399165281989\n"
     ]
    },
    {
     "name": "stderr",
     "output_type": "stream",
     "text": [
      "[I 2025-09-17 23:34:33,684] Trial 39 pruned. \n"
     ]
    },
    {
     "name": "stdout",
     "output_type": "stream",
     "text": [
      "Epoch:\t 2 Val Loss:\t 0.021874875624195763\n"
     ]
    },
    {
     "name": "stderr",
     "output_type": "stream",
     "text": [
      "[I 2025-09-17 23:34:37,145] Trial 40 pruned. \n"
     ]
    },
    {
     "name": "stdout",
     "output_type": "stream",
     "text": [
      "Epoch:\t 0 Val Loss:\t 0.049361640708737595\n",
      "Epoch:\t 0 Val Loss:\t 0.022037931445033052\n"
     ]
    },
    {
     "name": "stderr",
     "output_type": "stream",
     "text": [
      "[I 2025-09-17 23:34:44,515] Trial 41 pruned. \n"
     ]
    },
    {
     "name": "stdout",
     "output_type": "stream",
     "text": [
      "Epoch:\t 1 Val Loss:\t 0.022036247120000595\n"
     ]
    },
    {
     "name": "stderr",
     "output_type": "stream",
     "text": [
      "[I 2025-09-17 23:34:48,232] Trial 42 pruned. \n"
     ]
    },
    {
     "name": "stdout",
     "output_type": "stream",
     "text": [
      "Epoch:\t 0 Val Loss:\t 0.02219387265572021\n",
      "Epoch:\t 0 Val Loss:\t 0.02208887753618318\n",
      "Epoch:\t 1 Val Loss:\t 0.021943148290521877\n"
     ]
    },
    {
     "name": "stderr",
     "output_type": "stream",
     "text": [
      "[I 2025-09-17 23:34:58,736] Trial 43 pruned. \n"
     ]
    },
    {
     "name": "stdout",
     "output_type": "stream",
     "text": [
      "Epoch:\t 2 Val Loss:\t 0.02189824928118046\n"
     ]
    },
    {
     "name": "stderr",
     "output_type": "stream",
     "text": [
      "[I 2025-09-17 23:35:02,391] Trial 44 pruned. \n"
     ]
    },
    {
     "name": "stdout",
     "output_type": "stream",
     "text": [
      "Epoch:\t 0 Val Loss:\t 0.022228545236379602\n",
      "Epoch:\t 0 Val Loss:\t 0.02206903458248044\n",
      "Epoch:\t 1 Val Loss:\t 0.021942062247111354\n",
      "Epoch:\t 2 Val Loss:\t 0.02185224461001019\n",
      "Epoch:\t 3 Val Loss:\t 0.021813733546539794\n",
      "Epoch:\t 4 Val Loss:\t 0.021802972906897235\n",
      "Epoch:\t 5 Val Loss:\t 0.021798209919659205\n",
      "Epoch:\t 6 Val Loss:\t 0.021799512809618962\n",
      "Epoch:\t 7 Val Loss:\t 0.021802745642530364\n",
      "Epoch:\t 8 Val Loss:\t 0.02177113974250333\n",
      "Epoch:\t 9 Val Loss:\t 0.021772400207471017\n",
      "Epoch:\t 10 Val Loss:\t 0.021768911923606728\n",
      "Epoch:\t 11 Val Loss:\t 0.021762817127760067\n",
      "Epoch:\t 12 Val Loss:\t 0.02175913114793772\n",
      "Epoch:\t 13 Val Loss:\t 0.021758457901346128\n",
      "Epoch:\t 14 Val Loss:\t 0.021754319216449592\n",
      "Epoch:\t 15 Val Loss:\t 0.021759041637008966\n"
     ]
    },
    {
     "name": "stderr",
     "output_type": "stream",
     "text": [
      "[I 2025-09-17 23:36:02,195] Trial 45 pruned. \n"
     ]
    },
    {
     "name": "stdout",
     "output_type": "stream",
     "text": [
      "Epoch:\t 16 Val Loss:\t 0.021761721784118997\n"
     ]
    },
    {
     "name": "stderr",
     "output_type": "stream",
     "text": [
      "[I 2025-09-17 23:36:07,667] Trial 46 pruned. \n"
     ]
    },
    {
     "name": "stdout",
     "output_type": "stream",
     "text": [
      "Epoch:\t 0 Val Loss:\t 0.036179906168106124\n"
     ]
    },
    {
     "name": "stderr",
     "output_type": "stream",
     "text": [
      "[I 2025-09-17 23:36:11,173] Trial 47 pruned. \n"
     ]
    },
    {
     "name": "stdout",
     "output_type": "stream",
     "text": [
      "Epoch:\t 0 Val Loss:\t 0.022215421640768993\n"
     ]
    },
    {
     "name": "stderr",
     "output_type": "stream",
     "text": [
      "[I 2025-09-17 23:36:23,835] Trial 48 pruned. \n"
     ]
    },
    {
     "name": "stdout",
     "output_type": "stream",
     "text": [
      "Epoch:\t 0 Val Loss:\t 0.022303228840355117\n",
      "Epoch:\t 0 Val Loss:\t 0.02193959063604803\n",
      "Epoch:\t 1 Val Loss:\t 0.02198096823366954\n"
     ]
    },
    {
     "name": "stderr",
     "output_type": "stream",
     "text": [
      "[I 2025-09-17 23:36:36,364] Trial 49 pruned. \n"
     ]
    },
    {
     "name": "stdout",
     "output_type": "stream",
     "text": [
      "Epoch:\t 2 Val Loss:\t 0.021974165920648426\n",
      "Training model with best parameters on train+validation ...\n"
     ]
    },
    {
     "name": "stderr",
     "output_type": "stream",
     "text": [
      "100%|█████████████████████████████████████████████████████████████████████████████████████████████████████████████████████████████████████| 557340/557340 [05:12<00:00, 1782.84it/s]\n",
      "100%|█████████████████████████████████████████████████████████████████████████████████████████████████████████████████████████████████████| 557340/557340 [01:31<00:00, 6058.92it/s]\n"
     ]
    },
    {
     "name": "stdout",
     "output_type": "stream",
     "text": [
      "Getting test set predictions and saving results ...\n"
     ]
    },
    {
     "name": "stderr",
     "output_type": "stream",
     "text": [
      "100%|████████████████████████████████████████████████████████████████████████████████████████████████████████████████████████████████████████████| 410/410 [00:01<00:00, 215.15it/s]\n"
     ]
    }
   ],
   "source": [
    "train_different_featno(\n",
    "        adata_path=\"./data/feature_number/sciplex_hvg_3500.h5ad\",\n",
    "        run_name=\"mlp_hvg_3500\",\n",
    "        res_savename=\"./results/feature_number/mlp_hvg_3500_res.pkl\",\n",
    "        input_dim=3500,\n",
    "        output_dim=3500,\n",
    "    )"
   ]
  },
  {
   "cell_type": "code",
   "execution_count": 7,
   "id": "fee851d4-8e0f-43c2-be1c-d61858727dba",
   "metadata": {},
   "outputs": [
    {
     "name": "stdout",
     "output_type": "stream",
     "text": [
      "Loading Datasets ...\n"
     ]
    },
    {
     "name": "stderr",
     "output_type": "stream",
     "text": [
      "100%|█████████████████████████████████████████████████████████████████████████████████████████████████████████████████████████████████████| 557340/557340 [04:03<00:00, 2290.42it/s]\n",
      "100%|█████████████████████████████████████████████████████████████████████████████████████████████████████████████████████████████████████| 557340/557340 [01:36<00:00, 5768.68it/s]\n",
      "[I 2025-09-17 23:51:30,627] A new study created in RDB with name: mlp_hvg_5000\n"
     ]
    },
    {
     "name": "stdout",
     "output_type": "stream",
     "text": [
      "Optimizing Hyperparameters with Optuna ...\n",
      "Epoch:\t 0 Val Loss:\t 0.0578815185753726\n",
      "Epoch:\t 1 Val Loss:\t 0.03911993216017951\n",
      "Epoch:\t 2 Val Loss:\t 0.03320277732787232\n",
      "Epoch:\t 3 Val Loss:\t 0.03021612077838937\n",
      "Epoch:\t 4 Val Loss:\t 0.028065094845445174\n",
      "Epoch:\t 5 Val Loss:\t 0.026529125436603955\n",
      "Epoch:\t 6 Val Loss:\t 0.025375115567262303\n",
      "Epoch:\t 7 Val Loss:\t 0.02457863653163046\n",
      "Epoch:\t 8 Val Loss:\t 0.023912785555323657\n",
      "Epoch:\t 9 Val Loss:\t 0.02341659837396995\n",
      "Epoch:\t 10 Val Loss:\t 0.02292349326243661\n",
      "Epoch:\t 11 Val Loss:\t 0.02254381358112954\n",
      "Epoch:\t 12 Val Loss:\t 0.022231353559335486\n",
      "Epoch:\t 13 Val Loss:\t 0.02197805610155464\n",
      "Epoch:\t 14 Val Loss:\t 0.02174609764311441\n",
      "Epoch:\t 15 Val Loss:\t 0.02158359854409642\n",
      "Epoch:\t 16 Val Loss:\t 0.021440740484359233\n",
      "Epoch:\t 17 Val Loss:\t 0.021332524059195414\n",
      "Epoch:\t 18 Val Loss:\t 0.021240107470671198\n",
      "Epoch:\t 19 Val Loss:\t 0.021167108631161724\n",
      "Epoch:\t 20 Val Loss:\t 0.021120955304401678\n",
      "Epoch:\t 21 Val Loss:\t 0.021053852976389602\n",
      "Epoch:\t 22 Val Loss:\t 0.02100604500201867\n",
      "Epoch:\t 23 Val Loss:\t 0.02096891558743174\n",
      "Epoch:\t 24 Val Loss:\t 0.020918409079399812\n",
      "Epoch:\t 25 Val Loss:\t 0.020882131445300565\n",
      "Epoch:\t 26 Val Loss:\t 0.020854523160974046\n",
      "Epoch:\t 27 Val Loss:\t 0.020816957379034724\n",
      "Epoch:\t 28 Val Loss:\t 0.020793312745175294\n",
      "Epoch:\t 29 Val Loss:\t 0.020764067403444292\n",
      "Epoch:\t 30 Val Loss:\t 0.020739312379963862\n",
      "Epoch:\t 31 Val Loss:\t 0.020724144793449795\n",
      "Epoch:\t 32 Val Loss:\t 0.02069699647863429\n",
      "Epoch:\t 33 Val Loss:\t 0.020672352919647086\n",
      "Epoch:\t 34 Val Loss:\t 0.020662544712718493\n",
      "Epoch:\t 35 Val Loss:\t 0.020651637218485865\n",
      "Epoch:\t 36 Val Loss:\t 0.020632840290613706\n",
      "Epoch:\t 37 Val Loss:\t 0.020620685609427477\n",
      "Epoch:\t 38 Val Loss:\t 0.02061924658949367\n",
      "Epoch:\t 39 Val Loss:\t 0.020609908699383582\n",
      "Epoch:\t 40 Val Loss:\t 0.020604964492801452\n",
      "Epoch:\t 41 Val Loss:\t 0.020611846531794323\n",
      "Epoch:\t 42 Val Loss:\t 0.02058193361025377\n",
      "Epoch:\t 43 Val Loss:\t 0.020574941915329048\n",
      "Epoch:\t 44 Val Loss:\t 0.020574324527424387\n",
      "Epoch:\t 45 Val Loss:\t 0.02057294570922021\n",
      "Epoch:\t 46 Val Loss:\t 0.02055595425345895\n",
      "Epoch:\t 47 Val Loss:\t 0.020565451647432977\n",
      "Epoch:\t 48 Val Loss:\t 0.020552107491005864\n",
      "Epoch:\t 49 Val Loss:\t 0.0205413667824764\n",
      "Epoch:\t 50 Val Loss:\t 0.0205398204624999\n",
      "Epoch:\t 51 Val Loss:\t 0.020538103674796953\n",
      "Epoch:\t 52 Val Loss:\t 0.020529487906900016\n",
      "Epoch:\t 53 Val Loss:\t 0.02053353698160521\n",
      "Epoch:\t 54 Val Loss:\t 0.020532334521932052\n",
      "Epoch:\t 55 Val Loss:\t 0.02052920293517229\n",
      "Epoch:\t 56 Val Loss:\t 0.020520500055623524\n",
      "Epoch:\t 57 Val Loss:\t 0.02051361077805845\n",
      "Epoch:\t 58 Val Loss:\t 0.02051564654103901\n",
      "Epoch:\t 59 Val Loss:\t 0.020520989608958484\n",
      "Epoch:\t 60 Val Loss:\t 0.020516529919430353\n",
      "Epoch:\t 61 Val Loss:\t 0.020514898097335116\n",
      "Epoch:\t 62 Val Loss:\t 0.020507288030181058\n",
      "Epoch:\t 63 Val Loss:\t 0.020503711037588728\n",
      "Epoch:\t 64 Val Loss:\t 0.020504613438324784\n",
      "Epoch:\t 65 Val Loss:\t 0.020509190753569585\n",
      "Epoch:\t 66 Val Loss:\t 0.020501934909169822\n",
      "Epoch:\t 67 Val Loss:\t 0.020506124781243477\n",
      "Epoch:\t 68 Val Loss:\t 0.02051009215483751\n",
      "Epoch:\t 69 Val Loss:\t 0.020498679200150548\n",
      "Epoch:\t 70 Val Loss:\t 0.020492588082257047\n",
      "Epoch:\t 71 Val Loss:\t 0.02049336653163832\n",
      "Epoch:\t 72 Val Loss:\t 0.020495321811474298\n",
      "Epoch:\t 73 Val Loss:\t 0.020489895058650866\n",
      "Epoch:\t 74 Val Loss:\t 0.02049387443018915\n",
      "Epoch:\t 75 Val Loss:\t 0.020484268029288547\n",
      "Epoch:\t 76 Val Loss:\t 0.02048924258552085\n",
      "Epoch:\t 77 Val Loss:\t 0.02049095231853642\n",
      "Epoch:\t 78 Val Loss:\t 0.020489534547035424\n",
      "Epoch:\t 79 Val Loss:\t 0.020481340347007177\n",
      "Epoch:\t 80 Val Loss:\t 0.020479283911045143\n",
      "Epoch:\t 81 Val Loss:\t 0.020485719542573968\n",
      "Epoch:\t 82 Val Loss:\t 0.020490007163495968\n",
      "Epoch:\t 83 Val Loss:\t 0.020488665879430393\n",
      "Epoch:\t 84 Val Loss:\t 0.02048121336912444\n",
      "Epoch:\t 85 Val Loss:\t 0.02048000653731906\n",
      "Epoch:\t 86 Val Loss:\t 0.020481450260377787\n",
      "Epoch:\t 87 Val Loss:\t 0.020474164416790702\n",
      "Epoch:\t 88 Val Loss:\t 0.020482759953029755\n",
      "Epoch:\t 89 Val Loss:\t 0.020479171187481677\n",
      "Epoch:\t 90 Val Loss:\t 0.02048758445058827\n",
      "Epoch:\t 91 Val Loss:\t 0.020480256774284285\n",
      "Epoch:\t 92 Val Loss:\t 0.02048827552655225\n",
      "Epoch:\t 93 Val Loss:\t 0.020483418425131895\n",
      "Epoch:\t 94 Val Loss:\t 0.02049269480035834\n",
      "Epoch:\t 95 Val Loss:\t 0.020483149193945522\n",
      "Epoch:\t 96 Val Loss:\t 0.020486371760428574\n"
     ]
    },
    {
     "name": "stderr",
     "output_type": "stream",
     "text": [
      "[I 2025-09-17 23:59:07,843] Trial 0 finished with value: 0.020474164416790702 and parameters: {'lr': 1e-06, 'weight_decay': 1e-05, 'scheduler_factor': 0.3, 'scheduler_patience': 20, 'batch_size': 128, 'dropout': 0.05, 'hidden_dims': 256}. Best is trial 0 with value: 0.020474164416790702.\n"
     ]
    },
    {
     "name": "stdout",
     "output_type": "stream",
     "text": [
      "Epoch:\t 97 Val Loss:\t 0.020486550812331503\n",
      "Epoch:\t 0 Val Loss:\t 0.020429109678018923\n",
      "Epoch:\t 1 Val Loss:\t 0.02037231657913951\n",
      "Epoch:\t 2 Val Loss:\t 0.020311309319249418\n",
      "Epoch:\t 3 Val Loss:\t 0.02027758873219407\n",
      "Epoch:\t 4 Val Loss:\t 0.020290122397763784\n",
      "Epoch:\t 5 Val Loss:\t 0.020285255353637906\n",
      "Epoch:\t 6 Val Loss:\t 0.02026991633655027\n",
      "Epoch:\t 7 Val Loss:\t 0.02028058613975381\n",
      "Epoch:\t 8 Val Loss:\t 0.020272604687962423\n",
      "Epoch:\t 9 Val Loss:\t 0.020269665048392706\n",
      "Epoch:\t 10 Val Loss:\t 0.020277998981954055\n",
      "Epoch:\t 11 Val Loss:\t 0.020253814813182797\n",
      "Epoch:\t 12 Val Loss:\t 0.020258425366739895\n",
      "Epoch:\t 13 Val Loss:\t 0.020250268232857072\n",
      "Epoch:\t 14 Val Loss:\t 0.020259130988703217\n",
      "Epoch:\t 15 Val Loss:\t 0.02024784440737824\n",
      "Epoch:\t 16 Val Loss:\t 0.020256575612827787\n",
      "Epoch:\t 17 Val Loss:\t 0.020245485462594862\n",
      "Epoch:\t 18 Val Loss:\t 0.020253318959717142\n",
      "Epoch:\t 19 Val Loss:\t 0.02025894055706124\n",
      "Epoch:\t 20 Val Loss:\t 0.020242615420977737\n",
      "Epoch:\t 21 Val Loss:\t 0.020243586569504684\n",
      "Epoch:\t 22 Val Loss:\t 0.020247138932693837\n",
      "Epoch:\t 23 Val Loss:\t 0.020234256029822106\n",
      "Epoch:\t 24 Val Loss:\t 0.020241885168781115\n",
      "Epoch:\t 25 Val Loss:\t 0.020236493066646332\n",
      "Epoch:\t 26 Val Loss:\t 0.020220956297288106\n",
      "Epoch:\t 27 Val Loss:\t 0.020226707478422066\n",
      "Epoch:\t 28 Val Loss:\t 0.020224848333313023\n",
      "Epoch:\t 29 Val Loss:\t 0.020219377393639364\n",
      "Epoch:\t 30 Val Loss:\t 0.020221749567535034\n",
      "Epoch:\t 31 Val Loss:\t 0.020215257248559663\n",
      "Epoch:\t 32 Val Loss:\t 0.02021072506904602\n",
      "Epoch:\t 33 Val Loss:\t 0.020215860160804074\n",
      "Epoch:\t 34 Val Loss:\t 0.02020986451832361\n",
      "Epoch:\t 35 Val Loss:\t 0.020208832404987758\n",
      "Epoch:\t 36 Val Loss:\t 0.020204711943691552\n",
      "Epoch:\t 37 Val Loss:\t 0.020202934629348822\n",
      "Epoch:\t 38 Val Loss:\t 0.020209716030851352\n",
      "Epoch:\t 39 Val Loss:\t 0.020205631648558518\n",
      "Epoch:\t 40 Val Loss:\t 0.020207368028025294\n",
      "Epoch:\t 41 Val Loss:\t 0.02019853798542605\n",
      "Epoch:\t 42 Val Loss:\t 0.020198804296033327\n",
      "Epoch:\t 43 Val Loss:\t 0.020197439713533535\n",
      "Epoch:\t 44 Val Loss:\t 0.020199179363458657\n",
      "Epoch:\t 45 Val Loss:\t 0.020201192960836167\n",
      "Epoch:\t 46 Val Loss:\t 0.02019910059955924\n",
      "Epoch:\t 47 Val Loss:\t 0.020194598716185536\n",
      "Epoch:\t 48 Val Loss:\t 0.02020189090263705\n",
      "Epoch:\t 49 Val Loss:\t 0.02019683830006871\n",
      "Epoch:\t 50 Val Loss:\t 0.02019361240226169\n",
      "Epoch:\t 51 Val Loss:\t 0.020202414262606654\n",
      "Epoch:\t 52 Val Loss:\t 0.02019548561683921\n",
      "Epoch:\t 53 Val Loss:\t 0.020195937975374764\n",
      "Epoch:\t 54 Val Loss:\t 0.020194100562569706\n",
      "Epoch:\t 55 Val Loss:\t 0.02019724125085875\n",
      "Epoch:\t 56 Val Loss:\t 0.0201914404280657\n",
      "Epoch:\t 57 Val Loss:\t 0.02019230511992477\n",
      "Epoch:\t 58 Val Loss:\t 0.020192431606525597\n",
      "Epoch:\t 59 Val Loss:\t 0.020192690722124523\n",
      "Epoch:\t 60 Val Loss:\t 0.020193337969655216\n",
      "Epoch:\t 61 Val Loss:\t 0.020196690826221955\n",
      "Epoch:\t 62 Val Loss:\t 0.020194285159367463\n",
      "Epoch:\t 63 Val Loss:\t 0.020194330239711806\n",
      "Epoch:\t 64 Val Loss:\t 0.02019784411978583\n",
      "Epoch:\t 65 Val Loss:\t 0.0201954792968409\n"
     ]
    },
    {
     "name": "stderr",
     "output_type": "stream",
     "text": [
      "[I 2025-09-18 00:03:44,073] Trial 1 finished with value: 0.0201914404280657 and parameters: {'lr': 0.001, 'weight_decay': 1e-05, 'scheduler_factor': 0.8, 'scheduler_patience': 1, 'batch_size': 256, 'dropout': 0.2, 'hidden_dims': 64}. Best is trial 1 with value: 0.0201914404280657.\n"
     ]
    },
    {
     "name": "stdout",
     "output_type": "stream",
     "text": [
      "Epoch:\t 66 Val Loss:\t 0.020192580787075122\n",
      "Epoch:\t 0 Val Loss:\t 0.07271904931874225\n",
      "Epoch:\t 1 Val Loss:\t 0.05050772193572663\n",
      "Epoch:\t 2 Val Loss:\t 0.03968912036386378\n",
      "Epoch:\t 3 Val Loss:\t 0.034616780232607836\n",
      "Epoch:\t 4 Val Loss:\t 0.03197613431835216\n",
      "Epoch:\t 5 Val Loss:\t 0.030035943024371004\n",
      "Epoch:\t 6 Val Loss:\t 0.02862959237213265\n",
      "Epoch:\t 7 Val Loss:\t 0.02745258175572175\n",
      "Epoch:\t 8 Val Loss:\t 0.026415367471216446\n",
      "Epoch:\t 9 Val Loss:\t 0.025655640293514134\n",
      "Epoch:\t 10 Val Loss:\t 0.02508786280015343\n",
      "Epoch:\t 11 Val Loss:\t 0.024491872649280728\n",
      "Epoch:\t 12 Val Loss:\t 0.024141742085278656\n",
      "Epoch:\t 13 Val Loss:\t 0.02376147733220309\n",
      "Epoch:\t 14 Val Loss:\t 0.023423283770853495\n",
      "Epoch:\t 15 Val Loss:\t 0.023276237028885663\n",
      "Epoch:\t 16 Val Loss:\t 0.022990298865235365\n",
      "Epoch:\t 17 Val Loss:\t 0.022835354079491308\n",
      "Epoch:\t 18 Val Loss:\t 0.022725739019828807\n",
      "Epoch:\t 19 Val Loss:\t 0.02266574707250008\n",
      "Epoch:\t 20 Val Loss:\t 0.022488720868643845\n",
      "Epoch:\t 21 Val Loss:\t 0.02240829827841566\n",
      "Epoch:\t 22 Val Loss:\t 0.022363021872444436\n",
      "Epoch:\t 23 Val Loss:\t 0.02229760028854549\n",
      "Epoch:\t 24 Val Loss:\t 0.022221622657588966\n",
      "Epoch:\t 25 Val Loss:\t 0.022170509879112798\n",
      "Epoch:\t 26 Val Loss:\t 0.02213991719809697\n",
      "Epoch:\t 27 Val Loss:\t 0.02210900354286727\n",
      "Epoch:\t 28 Val Loss:\t 0.02210072177472015\n",
      "Epoch:\t 29 Val Loss:\t 0.022039209551996747\n",
      "Epoch:\t 30 Val Loss:\t 0.021920115359205402\n",
      "Epoch:\t 31 Val Loss:\t 0.021822506427747586\n",
      "Epoch:\t 32 Val Loss:\t 0.02174171560706785\n",
      "Epoch:\t 33 Val Loss:\t 0.021613460877838865\n",
      "Epoch:\t 34 Val Loss:\t 0.02149209640400958\n",
      "Epoch:\t 35 Val Loss:\t 0.021365186439677813\n",
      "Epoch:\t 36 Val Loss:\t 0.02124988826794353\n",
      "Epoch:\t 37 Val Loss:\t 0.02116349921426568\n",
      "Epoch:\t 38 Val Loss:\t 0.02107022818433214\n",
      "Epoch:\t 39 Val Loss:\t 0.020995576523079967\n",
      "Epoch:\t 40 Val Loss:\t 0.02094032782217559\n",
      "Epoch:\t 41 Val Loss:\t 0.020877997028564604\n",
      "Epoch:\t 42 Val Loss:\t 0.020830150955420478\n",
      "Epoch:\t 43 Val Loss:\t 0.02077958429757934\n",
      "Epoch:\t 44 Val Loss:\t 0.020744402896132618\n",
      "Epoch:\t 45 Val Loss:\t 0.02071564017419685\n",
      "Epoch:\t 46 Val Loss:\t 0.02069492072394847\n",
      "Epoch:\t 47 Val Loss:\t 0.020672670988480666\n",
      "Epoch:\t 48 Val Loss:\t 0.02064481528170848\n",
      "Epoch:\t 49 Val Loss:\t 0.02062845614097329\n",
      "Epoch:\t 50 Val Loss:\t 0.020612040391834355\n",
      "Epoch:\t 51 Val Loss:\t 0.020591815548508703\n",
      "Epoch:\t 52 Val Loss:\t 0.020590255251121854\n",
      "Epoch:\t 53 Val Loss:\t 0.02057808680886037\n",
      "Epoch:\t 54 Val Loss:\t 0.020577446694954208\n",
      "Epoch:\t 55 Val Loss:\t 0.020563465018478697\n",
      "Epoch:\t 56 Val Loss:\t 0.020560349602767123\n",
      "Epoch:\t 57 Val Loss:\t 0.02055532088488098\n",
      "Epoch:\t 58 Val Loss:\t 0.020559486161817932\n",
      "Epoch:\t 59 Val Loss:\t 0.02055264562022257\n",
      "Epoch:\t 60 Val Loss:\t 0.020548359929009597\n",
      "Epoch:\t 61 Val Loss:\t 0.02054677350699694\n",
      "Epoch:\t 62 Val Loss:\t 0.020544189579014716\n",
      "Epoch:\t 63 Val Loss:\t 0.020540649713851018\n",
      "Epoch:\t 64 Val Loss:\t 0.02053455554995941\n",
      "Epoch:\t 65 Val Loss:\t 0.02053213045520234\n",
      "Epoch:\t 66 Val Loss:\t 0.020525851530324705\n",
      "Epoch:\t 67 Val Loss:\t 0.020526538007004613\n",
      "Epoch:\t 68 Val Loss:\t 0.020525553223701858\n",
      "Epoch:\t 69 Val Loss:\t 0.02052932829703188\n",
      "Epoch:\t 70 Val Loss:\t 0.020519266073763993\n",
      "Epoch:\t 71 Val Loss:\t 0.020519142245720212\n",
      "Epoch:\t 72 Val Loss:\t 0.020519104776482132\n",
      "Epoch:\t 73 Val Loss:\t 0.020510688149364846\n",
      "Epoch:\t 74 Val Loss:\t 0.020511317905146764\n",
      "Epoch:\t 75 Val Loss:\t 0.020507088523795104\n",
      "Epoch:\t 76 Val Loss:\t 0.020514469903122536\n",
      "Epoch:\t 77 Val Loss:\t 0.020504708738259877\n",
      "Epoch:\t 78 Val Loss:\t 0.02050173207987684\n",
      "Epoch:\t 79 Val Loss:\t 0.020506160595518096\n",
      "Epoch:\t 80 Val Loss:\t 0.020504360440923776\n",
      "Epoch:\t 81 Val Loss:\t 0.020498174137752786\n",
      "Epoch:\t 82 Val Loss:\t 0.02049908549043498\n",
      "Epoch:\t 83 Val Loss:\t 0.020497134061363654\n",
      "Epoch:\t 84 Val Loss:\t 0.020494142783055044\n",
      "Epoch:\t 85 Val Loss:\t 0.020494942839985385\n",
      "Epoch:\t 86 Val Loss:\t 0.020491250752796973\n",
      "Epoch:\t 87 Val Loss:\t 0.020495309774589732\n",
      "Epoch:\t 88 Val Loss:\t 0.020491966140498682\n",
      "Epoch:\t 89 Val Loss:\t 0.020488432693997187\n",
      "Epoch:\t 90 Val Loss:\t 0.02049096003520918\n",
      "Epoch:\t 91 Val Loss:\t 0.020490487855745525\n",
      "Epoch:\t 92 Val Loss:\t 0.02050401736591682\n",
      "Epoch:\t 93 Val Loss:\t 0.020487315368673112\n",
      "Epoch:\t 94 Val Loss:\t 0.020491422475266956\n",
      "Epoch:\t 95 Val Loss:\t 0.020491147091510543\n",
      "Epoch:\t 96 Val Loss:\t 0.020480582587914183\n",
      "Epoch:\t 97 Val Loss:\t 0.020484165157625207\n",
      "Epoch:\t 98 Val Loss:\t 0.020484962133943827\n"
     ]
    },
    {
     "name": "stderr",
     "output_type": "stream",
     "text": [
      "[I 2025-09-18 00:11:34,701] Trial 2 finished with value: 0.020480582587914183 and parameters: {'lr': 1e-06, 'weight_decay': 1e-05, 'scheduler_factor': 0.8, 'scheduler_patience': 10, 'batch_size': 128, 'dropout': 0.05, 'hidden_dims': 128}. Best is trial 1 with value: 0.0201914404280657.\n"
     ]
    },
    {
     "name": "stdout",
     "output_type": "stream",
     "text": [
      "Epoch:\t 99 Val Loss:\t 0.020491020883780738\n",
      "Epoch:\t 0 Val Loss:\t 0.02371179255721874\n",
      "Epoch:\t 1 Val Loss:\t 0.021593857249028462\n",
      "Epoch:\t 2 Val Loss:\t 0.02130459195739308\n",
      "Epoch:\t 3 Val Loss:\t 0.021720357564126335\n",
      "Epoch:\t 4 Val Loss:\t 0.021866146041903387\n",
      "Epoch:\t 5 Val Loss:\t 0.022412960183655108\n",
      "Epoch:\t 6 Val Loss:\t 0.0227438535671248\n",
      "Epoch:\t 7 Val Loss:\t 0.022908679343933282\n",
      "Epoch:\t 8 Val Loss:\t 0.02336825368016265\n",
      "Epoch:\t 9 Val Loss:\t 0.023645590146093867\n",
      "Epoch:\t 10 Val Loss:\t 0.023885632596563462\n",
      "Epoch:\t 11 Val Loss:\t 0.024008988255504952\n"
     ]
    },
    {
     "name": "stderr",
     "output_type": "stream",
     "text": [
      "[I 2025-09-18 00:12:29,383] Trial 3 finished with value: 0.02130459195739308 and parameters: {'lr': 0.0001, 'weight_decay': 0.001, 'scheduler_factor': 0.5, 'scheduler_patience': 5, 'batch_size': 256, 'dropout': 0.1, 'hidden_dims': 64}. Best is trial 1 with value: 0.0201914404280657.\n"
     ]
    },
    {
     "name": "stdout",
     "output_type": "stream",
     "text": [
      "Epoch:\t 12 Val Loss:\t 0.024139327083735965\n",
      "Epoch:\t 0 Val Loss:\t 0.020408061799675282\n",
      "Epoch:\t 1 Val Loss:\t 0.02038217887247783\n",
      "Epoch:\t 2 Val Loss:\t 0.020387227254778244\n",
      "Epoch:\t 3 Val Loss:\t 0.020373799485214845\n",
      "Epoch:\t 4 Val Loss:\t 0.020374482014684912\n",
      "Epoch:\t 5 Val Loss:\t 0.02038061032894538\n",
      "Epoch:\t 6 Val Loss:\t 0.020368545528419664\n",
      "Epoch:\t 7 Val Loss:\t 0.020365903067679384\n",
      "Epoch:\t 8 Val Loss:\t 0.020364431802701678\n",
      "Epoch:\t 9 Val Loss:\t 0.02036294493938818\n",
      "Epoch:\t 10 Val Loss:\t 0.02036597296267523\n",
      "Epoch:\t 11 Val Loss:\t 0.02035363206871467\n",
      "Epoch:\t 12 Val Loss:\t 0.020365179355457442\n",
      "Epoch:\t 13 Val Loss:\t 0.02037448088623487\n",
      "Epoch:\t 14 Val Loss:\t 0.020356163079610554\n",
      "Epoch:\t 15 Val Loss:\t 0.02036193672264416\n",
      "Epoch:\t 16 Val Loss:\t 0.02034425407923173\n",
      "Epoch:\t 17 Val Loss:\t 0.020346862642154212\n",
      "Epoch:\t 18 Val Loss:\t 0.02035179035136865\n",
      "Epoch:\t 19 Val Loss:\t 0.020349680811294308\n",
      "Epoch:\t 20 Val Loss:\t 0.02034233578130977\n",
      "Epoch:\t 21 Val Loss:\t 0.020342899823795595\n",
      "Epoch:\t 22 Val Loss:\t 0.020340527098825324\n",
      "Epoch:\t 23 Val Loss:\t 0.020349742332763886\n",
      "Epoch:\t 24 Val Loss:\t 0.02033849099542079\n",
      "Epoch:\t 25 Val Loss:\t 0.020331932614284114\n",
      "Epoch:\t 26 Val Loss:\t 0.02034414756392427\n",
      "Epoch:\t 27 Val Loss:\t 0.02034146017190266\n",
      "Epoch:\t 28 Val Loss:\t 0.020336524755801385\n",
      "Epoch:\t 29 Val Loss:\t 0.020335568092956904\n",
      "Epoch:\t 30 Val Loss:\t 0.0203327022978746\n",
      "Epoch:\t 31 Val Loss:\t 0.02033287437758874\n",
      "Epoch:\t 32 Val Loss:\t 0.0203236141987226\n",
      "Epoch:\t 33 Val Loss:\t 0.020333781425922084\n",
      "Epoch:\t 34 Val Loss:\t 0.02032520642632992\n",
      "Epoch:\t 35 Val Loss:\t 0.02032963740594126\n",
      "Epoch:\t 36 Val Loss:\t 0.020325436732147675\n",
      "Epoch:\t 37 Val Loss:\t 0.020335092068493505\n",
      "Epoch:\t 38 Val Loss:\t 0.02032598718959202\n",
      "Epoch:\t 39 Val Loss:\t 0.02031922471234903\n",
      "Epoch:\t 40 Val Loss:\t 0.02032196429829267\n",
      "Epoch:\t 41 Val Loss:\t 0.02032783248603785\n",
      "Epoch:\t 42 Val Loss:\t 0.020326772208186267\n",
      "Epoch:\t 43 Val Loss:\t 0.02032409282448493\n",
      "Epoch:\t 44 Val Loss:\t 0.02033181057495211\n",
      "Epoch:\t 45 Val Loss:\t 0.020322626010615723\n",
      "Epoch:\t 46 Val Loss:\t 0.020322582342220237\n",
      "Epoch:\t 47 Val Loss:\t 0.020336788211460472\n",
      "Epoch:\t 48 Val Loss:\t 0.020323603892698612\n"
     ]
    },
    {
     "name": "stderr",
     "output_type": "stream",
     "text": [
      "[I 2025-09-18 00:23:33,434] Trial 4 finished with value: 0.02031922471234903 and parameters: {'lr': 0.001, 'weight_decay': 1e-06, 'scheduler_factor': 0.8, 'scheduler_patience': 1, 'batch_size': 16, 'dropout': 0.1, 'hidden_dims': 64}. Best is trial 1 with value: 0.0201914404280657.\n"
     ]
    },
    {
     "name": "stdout",
     "output_type": "stream",
     "text": [
      "Epoch:\t 49 Val Loss:\t 0.020333294320571075\n",
      "Epoch:\t 0 Val Loss:\t 0.02202964270841149\n",
      "Epoch:\t 1 Val Loss:\t 0.021138711749370258\n",
      "Epoch:\t 2 Val Loss:\t 0.02084783991482868\n",
      "Epoch:\t 3 Val Loss:\t 0.02062993137165634\n",
      "Epoch:\t 4 Val Loss:\t 0.020522939288375574\n",
      "Epoch:\t 5 Val Loss:\t 0.02048624004362332\n",
      "Epoch:\t 6 Val Loss:\t 0.02038476871261442\n",
      "Epoch:\t 7 Val Loss:\t 0.020343186959205985\n",
      "Epoch:\t 8 Val Loss:\t 0.020324772081557967\n",
      "Epoch:\t 9 Val Loss:\t 0.020322139058886326\n",
      "Epoch:\t 10 Val Loss:\t 0.02031790050324639\n",
      "Epoch:\t 11 Val Loss:\t 0.02030853928175825\n",
      "Epoch:\t 12 Val Loss:\t 0.020296734868242513\n",
      "Epoch:\t 13 Val Loss:\t 0.020293312480579428\n",
      "Epoch:\t 14 Val Loss:\t 0.02028911953610116\n",
      "Epoch:\t 15 Val Loss:\t 0.02028950786829561\n",
      "Epoch:\t 16 Val Loss:\t 0.020289719624810455\n",
      "Epoch:\t 17 Val Loss:\t 0.020284024026554555\n",
      "Epoch:\t 18 Val Loss:\t 0.020291847025795347\n",
      "Epoch:\t 19 Val Loss:\t 0.020276137189765325\n",
      "Epoch:\t 20 Val Loss:\t 0.020277816591489545\n",
      "Epoch:\t 21 Val Loss:\t 0.020282958805113577\n",
      "Epoch:\t 22 Val Loss:\t 0.020284589756581213\n",
      "Epoch:\t 23 Val Loss:\t 0.020283459205016653\n",
      "Epoch:\t 24 Val Loss:\t 0.02026856482073818\n",
      "Epoch:\t 25 Val Loss:\t 0.020269302306211722\n",
      "Epoch:\t 26 Val Loss:\t 0.020269672650220723\n",
      "Epoch:\t 27 Val Loss:\t 0.02026358578623262\n",
      "Epoch:\t 28 Val Loss:\t 0.020267269282400323\n",
      "Epoch:\t 29 Val Loss:\t 0.0202619883353554\n",
      "Epoch:\t 30 Val Loss:\t 0.020265315216989616\n",
      "Epoch:\t 31 Val Loss:\t 0.020274089613109805\n",
      "Epoch:\t 32 Val Loss:\t 0.020262011477498624\n",
      "Epoch:\t 33 Val Loss:\t 0.020261613332977078\n",
      "Epoch:\t 34 Val Loss:\t 0.020250307743290452\n",
      "Epoch:\t 35 Val Loss:\t 0.020258712680110796\n",
      "Epoch:\t 36 Val Loss:\t 0.020279035294296328\n",
      "Epoch:\t 37 Val Loss:\t 0.020254139899510346\n",
      "Epoch:\t 38 Val Loss:\t 0.02024694577661495\n",
      "Epoch:\t 39 Val Loss:\t 0.020255849523483048\n",
      "Epoch:\t 40 Val Loss:\t 0.020251169831969083\n",
      "Epoch:\t 41 Val Loss:\t 0.020269220836901594\n",
      "Epoch:\t 42 Val Loss:\t 0.02027004011419607\n",
      "Epoch:\t 43 Val Loss:\t 0.020263494881285857\n",
      "Epoch:\t 44 Val Loss:\t 0.020255939064345564\n",
      "Epoch:\t 45 Val Loss:\t 0.020260705582875353\n",
      "Epoch:\t 46 Val Loss:\t 0.02026412616788273\n",
      "Epoch:\t 47 Val Loss:\t 0.020262910365916754\n"
     ]
    },
    {
     "name": "stderr",
     "output_type": "stream",
     "text": [
      "[I 2025-09-18 00:34:31,419] Trial 5 finished with value: 0.02024694577661495 and parameters: {'lr': 1e-05, 'weight_decay': 1e-06, 'scheduler_factor': 0.1, 'scheduler_patience': 20, 'batch_size': 16, 'dropout': 0.15, 'hidden_dims': 64}. Best is trial 1 with value: 0.0201914404280657.\n"
     ]
    },
    {
     "name": "stdout",
     "output_type": "stream",
     "text": [
      "Epoch:\t 48 Val Loss:\t 0.020258302519460834\n",
      "Epoch:\t 0 Val Loss:\t 0.020712817314789522\n",
      "Epoch:\t 1 Val Loss:\t 0.02041964498372858\n",
      "Epoch:\t 2 Val Loss:\t 0.020353526154828154\n",
      "Epoch:\t 3 Val Loss:\t 0.020364566966112933\n",
      "Epoch:\t 4 Val Loss:\t 0.020337986664168722\n",
      "Epoch:\t 5 Val Loss:\t 0.02033965553152167\n",
      "Epoch:\t 6 Val Loss:\t 0.020345683797147476\n",
      "Epoch:\t 7 Val Loss:\t 0.02031830268913639\n",
      "Epoch:\t 8 Val Loss:\t 0.020322656271913268\n",
      "Epoch:\t 9 Val Loss:\t 0.02030970504452289\n",
      "Epoch:\t 10 Val Loss:\t 0.020317351235291915\n",
      "Epoch:\t 11 Val Loss:\t 0.020315580198122917\n",
      "Epoch:\t 12 Val Loss:\t 0.02030575547791105\n",
      "Epoch:\t 13 Val Loss:\t 0.020303660357242327\n",
      "Epoch:\t 14 Val Loss:\t 0.020306138832011822\n",
      "Epoch:\t 15 Val Loss:\t 0.020305322256702465\n",
      "Epoch:\t 16 Val Loss:\t 0.020298783177130457\n",
      "Epoch:\t 17 Val Loss:\t 0.020287679606703777\n",
      "Epoch:\t 18 Val Loss:\t 0.020295049051969844\n",
      "Epoch:\t 19 Val Loss:\t 0.020296260821554665\n",
      "Epoch:\t 20 Val Loss:\t 0.02028134712993718\n",
      "Epoch:\t 21 Val Loss:\t 0.02028569732038645\n",
      "Epoch:\t 22 Val Loss:\t 0.02028390181802745\n",
      "Epoch:\t 23 Val Loss:\t 0.020283484828209228\n",
      "Epoch:\t 24 Val Loss:\t 0.020290335540854854\n",
      "Epoch:\t 25 Val Loss:\t 0.02027592820548347\n",
      "Epoch:\t 26 Val Loss:\t 0.020265587067714766\n",
      "Epoch:\t 27 Val Loss:\t 0.02027538805784905\n",
      "Epoch:\t 28 Val Loss:\t 0.020277972194218594\n",
      "Epoch:\t 29 Val Loss:\t 0.020273778200564658\n",
      "Epoch:\t 30 Val Loss:\t 0.02028241489153924\n",
      "Epoch:\t 31 Val Loss:\t 0.02028297926653317\n",
      "Epoch:\t 32 Val Loss:\t 0.020272839227415625\n",
      "Epoch:\t 33 Val Loss:\t 0.020264606553687132\n",
      "Epoch:\t 34 Val Loss:\t 0.02027003569674402\n",
      "Epoch:\t 35 Val Loss:\t 0.020255678221994165\n",
      "Epoch:\t 36 Val Loss:\t 0.02026607682231167\n",
      "Epoch:\t 37 Val Loss:\t 0.02026246427609712\n",
      "Epoch:\t 38 Val Loss:\t 0.02026960222851604\n",
      "Epoch:\t 39 Val Loss:\t 0.020262171308392713\n",
      "Epoch:\t 40 Val Loss:\t 0.020263794749581704\n",
      "Epoch:\t 41 Val Loss:\t 0.020264975197431624\n",
      "Epoch:\t 42 Val Loss:\t 0.020260961780900776\n",
      "Epoch:\t 43 Val Loss:\t 0.02025485610091022\n",
      "Epoch:\t 44 Val Loss:\t 0.020261427876228727\n",
      "Epoch:\t 45 Val Loss:\t 0.020252971994261963\n",
      "Epoch:\t 46 Val Loss:\t 0.020248792047741555\n",
      "Epoch:\t 47 Val Loss:\t 0.020277778440205358\n",
      "Epoch:\t 48 Val Loss:\t 0.020251480820337425\n",
      "Epoch:\t 49 Val Loss:\t 0.020245756307488184\n",
      "Epoch:\t 50 Val Loss:\t 0.020257808676706242\n",
      "Epoch:\t 51 Val Loss:\t 0.02025404804479709\n",
      "Epoch:\t 52 Val Loss:\t 0.02025717372064994\n",
      "Epoch:\t 53 Val Loss:\t 0.02024726738241943\n",
      "Epoch:\t 54 Val Loss:\t 0.020255347930578146\n",
      "Epoch:\t 55 Val Loss:\t 0.020250980930378013\n",
      "Epoch:\t 56 Val Loss:\t 0.020245453209826507\n",
      "Epoch:\t 57 Val Loss:\t 0.020253124820891154\n",
      "Epoch:\t 58 Val Loss:\t 0.020254484517797093\n",
      "Epoch:\t 59 Val Loss:\t 0.0202475288710965\n",
      "Epoch:\t 60 Val Loss:\t 0.020264512164711746\n",
      "Epoch:\t 61 Val Loss:\t 0.020254183250349132\n",
      "Epoch:\t 62 Val Loss:\t 0.020249106563428806\n",
      "Epoch:\t 63 Val Loss:\t 0.020262566436183745\n",
      "Epoch:\t 64 Val Loss:\t 0.020257317208108243\n",
      "Epoch:\t 65 Val Loss:\t 0.02025604890945929\n",
      "Epoch:\t 66 Val Loss:\t 0.0202451618339648\n",
      "Epoch:\t 67 Val Loss:\t 0.020254576857646606\n",
      "Epoch:\t 68 Val Loss:\t 0.0202479431485661\n",
      "Epoch:\t 69 Val Loss:\t 0.020252401478917218\n",
      "Epoch:\t 70 Val Loss:\t 0.020247932726185438\n",
      "Epoch:\t 71 Val Loss:\t 0.020248568796261374\n",
      "Epoch:\t 72 Val Loss:\t 0.02023966476381759\n",
      "Epoch:\t 73 Val Loss:\t 0.02026492222771697\n",
      "Epoch:\t 74 Val Loss:\t 0.02025093362535319\n",
      "Epoch:\t 75 Val Loss:\t 0.020252568664562196\n",
      "Epoch:\t 76 Val Loss:\t 0.020251917322525712\n",
      "Epoch:\t 77 Val Loss:\t 0.02024584666956097\n",
      "Epoch:\t 78 Val Loss:\t 0.020242911208371264\n",
      "Epoch:\t 79 Val Loss:\t 0.02025555359449365\n",
      "Epoch:\t 80 Val Loss:\t 0.02024556642146354\n",
      "Epoch:\t 81 Val Loss:\t 0.02024883195461659\n"
     ]
    },
    {
     "name": "stderr",
     "output_type": "stream",
     "text": [
      "[I 2025-09-18 00:42:57,843] Trial 6 finished with value: 0.02023966476381759 and parameters: {'lr': 0.0001, 'weight_decay': 0.0001, 'scheduler_factor': 0.8, 'scheduler_patience': 1, 'batch_size': 64, 'dropout': 0.1, 'hidden_dims': 512}. Best is trial 1 with value: 0.0201914404280657.\n"
     ]
    },
    {
     "name": "stdout",
     "output_type": "stream",
     "text": [
      "Epoch:\t 82 Val Loss:\t 0.020245801299070974\n",
      "Epoch:\t 0 Val Loss:\t 0.020608188015005042\n",
      "Epoch:\t 1 Val Loss:\t 0.02060357319192179\n",
      "Epoch:\t 2 Val Loss:\t 0.02079357415004198\n",
      "Epoch:\t 3 Val Loss:\t 0.020844088454346495\n"
     ]
    },
    {
     "name": "stderr",
     "output_type": "stream",
     "text": [
      "[I 2025-09-18 00:43:43,801] Trial 7 pruned. \n"
     ]
    },
    {
     "name": "stdout",
     "output_type": "stream",
     "text": [
      "Epoch:\t 4 Val Loss:\t 0.020989390524689084\n"
     ]
    },
    {
     "name": "stderr",
     "output_type": "stream",
     "text": [
      "[I 2025-09-18 00:43:47,932] Trial 8 pruned. \n"
     ]
    },
    {
     "name": "stdout",
     "output_type": "stream",
     "text": [
      "Epoch:\t 0 Val Loss:\t 0.03467145109939021\n"
     ]
    },
    {
     "name": "stderr",
     "output_type": "stream",
     "text": [
      "[I 2025-09-18 00:43:51,995] Trial 9 pruned. \n"
     ]
    },
    {
     "name": "stdout",
     "output_type": "stream",
     "text": [
      "Epoch:\t 0 Val Loss:\t 0.10333383620478385\n",
      "Epoch:\t 0 Val Loss:\t 0.020698841610135327\n",
      "Epoch:\t 1 Val Loss:\t 0.020515298495178334\n",
      "Epoch:\t 2 Val Loss:\t 0.02046173268137797\n",
      "Epoch:\t 3 Val Loss:\t 0.02046362855901387\n",
      "Epoch:\t 4 Val Loss:\t 0.02043609913558555\n",
      "Epoch:\t 5 Val Loss:\t 0.020434782080335008\n"
     ]
    },
    {
     "name": "stderr",
     "output_type": "stream",
     "text": [
      "[I 2025-09-18 00:45:36,559] Trial 10 pruned. \n"
     ]
    },
    {
     "name": "stdout",
     "output_type": "stream",
     "text": [
      "Epoch:\t 6 Val Loss:\t 0.0204375589415604\n",
      "Epoch:\t 0 Val Loss:\t 0.020802305009187963\n",
      "Epoch:\t 1 Val Loss:\t 0.020385333031493775\n",
      "Epoch:\t 2 Val Loss:\t 0.020355456449778982\n",
      "Epoch:\t 3 Val Loss:\t 0.020328308758339388\n",
      "Epoch:\t 4 Val Loss:\t 0.0203346378865608\n",
      "Epoch:\t 5 Val Loss:\t 0.02033225750281447\n",
      "Epoch:\t 6 Val Loss:\t 0.020324727968981427\n",
      "Epoch:\t 7 Val Loss:\t 0.02032519707935135\n",
      "Epoch:\t 8 Val Loss:\t 0.020325556185552703\n",
      "Epoch:\t 9 Val Loss:\t 0.020294777131723202\n",
      "Epoch:\t 10 Val Loss:\t 0.02032435335028642\n",
      "Epoch:\t 11 Val Loss:\t 0.020310697994382485\n",
      "Epoch:\t 12 Val Loss:\t 0.020311496978884024\n",
      "Epoch:\t 13 Val Loss:\t 0.02029107259754016\n",
      "Epoch:\t 14 Val Loss:\t 0.02029967458634375\n",
      "Epoch:\t 15 Val Loss:\t 0.020301962514568467\n",
      "Epoch:\t 16 Val Loss:\t 0.02028223047183218\n",
      "Epoch:\t 17 Val Loss:\t 0.020286942793794723\n",
      "Epoch:\t 18 Val Loss:\t 0.020310977597094455\n",
      "Epoch:\t 19 Val Loss:\t 0.02028786012274767\n",
      "Epoch:\t 20 Val Loss:\t 0.02028706798073741\n",
      "Epoch:\t 21 Val Loss:\t 0.020284758155891976\n",
      "Epoch:\t 22 Val Loss:\t 0.020271700302066493\n",
      "Epoch:\t 23 Val Loss:\t 0.02028008457867821\n",
      "Epoch:\t 24 Val Loss:\t 0.020291433903673536\n",
      "Epoch:\t 25 Val Loss:\t 0.020293623827358907\n",
      "Epoch:\t 26 Val Loss:\t 0.02026781749663506\n",
      "Epoch:\t 27 Val Loss:\t 0.02026930971431113\n",
      "Epoch:\t 28 Val Loss:\t 0.020268579350392002\n",
      "Epoch:\t 29 Val Loss:\t 0.02026973217909532\n",
      "Epoch:\t 30 Val Loss:\t 0.020282063544557596\n",
      "Epoch:\t 31 Val Loss:\t 0.020262365999674285\n",
      "Epoch:\t 32 Val Loss:\t 0.020277916386213263\n",
      "Epoch:\t 33 Val Loss:\t 0.020277096772619407\n",
      "Epoch:\t 34 Val Loss:\t 0.0202550409065513\n",
      "Epoch:\t 35 Val Loss:\t 0.020270522460622525\n",
      "Epoch:\t 36 Val Loss:\t 0.020267519365846937\n",
      "Epoch:\t 37 Val Loss:\t 0.020265742434806003\n",
      "Epoch:\t 38 Val Loss:\t 0.0202604379776262\n",
      "Epoch:\t 39 Val Loss:\t 0.020258214710646774\n",
      "Epoch:\t 40 Val Loss:\t 0.0202718956992722\n",
      "Epoch:\t 41 Val Loss:\t 0.020274825109838055\n",
      "Epoch:\t 42 Val Loss:\t 0.020258030657414876\n",
      "Epoch:\t 43 Val Loss:\t 0.020254818314510207\n",
      "Epoch:\t 44 Val Loss:\t 0.020258350850764533\n",
      "Epoch:\t 45 Val Loss:\t 0.02025136691574883\n",
      "Epoch:\t 46 Val Loss:\t 0.020252940375779474\n",
      "Epoch:\t 47 Val Loss:\t 0.020248354754226365\n",
      "Epoch:\t 48 Val Loss:\t 0.02024974868845279\n",
      "Epoch:\t 49 Val Loss:\t 0.02025572859341072\n",
      "Epoch:\t 50 Val Loss:\t 0.02025663942202398\n",
      "Epoch:\t 51 Val Loss:\t 0.020249137460852492\n",
      "Epoch:\t 52 Val Loss:\t 0.020249057519538798\n",
      "Epoch:\t 53 Val Loss:\t 0.020256344088446728\n",
      "Epoch:\t 54 Val Loss:\t 0.02025670266817786\n",
      "Epoch:\t 55 Val Loss:\t 0.020260627027460468\n",
      "Epoch:\t 56 Val Loss:\t 0.02025306749833803\n"
     ]
    },
    {
     "name": "stderr",
     "output_type": "stream",
     "text": [
      "[I 2025-09-18 00:51:30,778] Trial 11 finished with value: 0.020248354754226365 and parameters: {'lr': 0.0001, 'weight_decay': 0.0001, 'scheduler_factor': 0.8, 'scheduler_patience': 1, 'batch_size': 64, 'dropout': 0.1, 'hidden_dims': 512}. Best is trial 1 with value: 0.0201914404280657.\n"
     ]
    },
    {
     "name": "stdout",
     "output_type": "stream",
     "text": [
      "Epoch:\t 57 Val Loss:\t 0.020257832909470995\n",
      "Epoch:\t 0 Val Loss:\t 0.020584121317285407\n",
      "Epoch:\t 1 Val Loss:\t 0.020508235576657177\n",
      "Epoch:\t 2 Val Loss:\t 0.0205667320978344\n",
      "Epoch:\t 3 Val Loss:\t 0.02045299782776082\n"
     ]
    },
    {
     "name": "stderr",
     "output_type": "stream",
     "text": [
      "[I 2025-09-18 00:52:01,027] Trial 12 pruned. \n"
     ]
    },
    {
     "name": "stdout",
     "output_type": "stream",
     "text": [
      "Epoch:\t 4 Val Loss:\t 0.020502466354919115\n",
      "Epoch:\t 0 Val Loss:\t 0.0209535477294852\n",
      "Epoch:\t 1 Val Loss:\t 0.020464274088527253\n",
      "Epoch:\t 2 Val Loss:\t 0.02035152618635448\n",
      "Epoch:\t 3 Val Loss:\t 0.0203363673806891\n",
      "Epoch:\t 4 Val Loss:\t 0.02038867798651711\n",
      "Epoch:\t 5 Val Loss:\t 0.020384379592845763\n",
      "Epoch:\t 6 Val Loss:\t 0.02033122520930568\n",
      "Epoch:\t 7 Val Loss:\t 0.02032503127528531\n",
      "Epoch:\t 8 Val Loss:\t 0.020336254703630145\n",
      "Epoch:\t 9 Val Loss:\t 0.020323051207818337\n",
      "Epoch:\t 10 Val Loss:\t 0.02031885341968705\n",
      "Epoch:\t 11 Val Loss:\t 0.02030762679900842\n",
      "Epoch:\t 12 Val Loss:\t 0.02031086501624874\n"
     ]
    },
    {
     "name": "stderr",
     "output_type": "stream",
     "text": [
      "[I 2025-09-18 00:53:58,567] Trial 13 pruned. \n"
     ]
    },
    {
     "name": "stdout",
     "output_type": "stream",
     "text": [
      "Epoch:\t 13 Val Loss:\t 0.020309085286375365\n",
      "Epoch:\t 0 Val Loss:\t 0.02043269325514744\n",
      "Epoch:\t 1 Val Loss:\t 0.020405703529637702\n",
      "Epoch:\t 2 Val Loss:\t 0.02039545364472507\n",
      "Epoch:\t 3 Val Loss:\t 0.02040533048170497\n",
      "Epoch:\t 4 Val Loss:\t 0.020399026685133274\n",
      "Epoch:\t 5 Val Loss:\t 0.02037390735750619\n",
      "Epoch:\t 6 Val Loss:\t 0.020370359447672834\n"
     ]
    },
    {
     "name": "stderr",
     "output_type": "stream",
     "text": [
      "[I 2025-09-18 00:54:46,778] Trial 14 pruned. \n"
     ]
    },
    {
     "name": "stdout",
     "output_type": "stream",
     "text": [
      "Epoch:\t 7 Val Loss:\t 0.020375103312444527\n",
      "Epoch:\t 0 Val Loss:\t 0.020450001677801442\n",
      "Epoch:\t 1 Val Loss:\t 0.02052162177860737\n",
      "Epoch:\t 2 Val Loss:\t 0.02058563500989315\n",
      "Epoch:\t 3 Val Loss:\t 0.020580876220104308\n"
     ]
    },
    {
     "name": "stderr",
     "output_type": "stream",
     "text": [
      "[I 2025-09-18 00:55:08,088] Trial 15 pruned. \n"
     ]
    },
    {
     "name": "stdout",
     "output_type": "stream",
     "text": [
      "Epoch:\t 4 Val Loss:\t 0.020504834923113502\n",
      "Epoch:\t 0 Val Loss:\t 0.020369577380486406\n",
      "Epoch:\t 1 Val Loss:\t 0.020362662625495288\n",
      "Epoch:\t 2 Val Loss:\t 0.020358347788548236\n",
      "Epoch:\t 3 Val Loss:\t 0.020363396013645296\n",
      "Epoch:\t 4 Val Loss:\t 0.02035313376046618\n",
      "Epoch:\t 5 Val Loss:\t 0.020345689123469388\n",
      "Epoch:\t 6 Val Loss:\t 0.020360768671583727\n",
      "Epoch:\t 7 Val Loss:\t 0.020353199131419267\n",
      "Epoch:\t 8 Val Loss:\t 0.020260158400859377\n",
      "Epoch:\t 9 Val Loss:\t 0.020243417290571778\n",
      "Epoch:\t 10 Val Loss:\t 0.020242397984229266\n",
      "Epoch:\t 11 Val Loss:\t 0.020249110104400475\n",
      "Epoch:\t 12 Val Loss:\t 0.020228310344925608\n",
      "Epoch:\t 13 Val Loss:\t 0.020228122953959003\n",
      "Epoch:\t 14 Val Loss:\t 0.020229634111590393\n",
      "Epoch:\t 15 Val Loss:\t 0.020228490535033627\n",
      "Epoch:\t 16 Val Loss:\t 0.020227863612242616\n",
      "Epoch:\t 17 Val Loss:\t 0.020230252391405218\n",
      "Epoch:\t 18 Val Loss:\t 0.02022773485892364\n",
      "Epoch:\t 19 Val Loss:\t 0.020227634493376168\n",
      "Epoch:\t 20 Val Loss:\t 0.020229180798029666\n",
      "Epoch:\t 21 Val Loss:\t 0.020228824870108485\n",
      "Epoch:\t 22 Val Loss:\t 0.020227233292799802\n",
      "Epoch:\t 23 Val Loss:\t 0.02022707404582845\n",
      "Epoch:\t 24 Val Loss:\t 0.020228271063436654\n",
      "Epoch:\t 25 Val Loss:\t 0.02022726647934195\n",
      "Epoch:\t 26 Val Loss:\t 0.020230883056783288\n",
      "Epoch:\t 27 Val Loss:\t 0.02022692901139092\n",
      "Epoch:\t 28 Val Loss:\t 0.020229083316717394\n",
      "Epoch:\t 29 Val Loss:\t 0.020226261924435527\n",
      "Epoch:\t 30 Val Loss:\t 0.020229388732145293\n",
      "Epoch:\t 31 Val Loss:\t 0.02022805552523166\n",
      "Epoch:\t 32 Val Loss:\t 0.020226148305784043\n",
      "Epoch:\t 33 Val Loss:\t 0.02022537757446357\n",
      "Epoch:\t 34 Val Loss:\t 0.020227649771823\n",
      "Epoch:\t 35 Val Loss:\t 0.020227957773116947\n",
      "Epoch:\t 36 Val Loss:\t 0.02022772922828681\n",
      "Epoch:\t 37 Val Loss:\t 0.020228375719662364\n",
      "Epoch:\t 38 Val Loss:\t 0.0202284218528315\n",
      "Epoch:\t 39 Val Loss:\t 0.02022661468488701\n",
      "Epoch:\t 40 Val Loss:\t 0.02022746097441337\n",
      "Epoch:\t 41 Val Loss:\t 0.020228928687441198\n",
      "Epoch:\t 42 Val Loss:\t 0.02022880548854519\n"
     ]
    },
    {
     "name": "stderr",
     "output_type": "stream",
     "text": [
      "[I 2025-09-18 00:59:34,186] Trial 16 finished with value: 0.02022537757446357 and parameters: {'lr': 0.001, 'weight_decay': 1e-05, 'scheduler_factor': 0.1, 'scheduler_patience': 1, 'batch_size': 64, 'dropout': 0.2, 'hidden_dims': 64}. Best is trial 1 with value: 0.0201914404280657.\n"
     ]
    },
    {
     "name": "stdout",
     "output_type": "stream",
     "text": [
      "Epoch:\t 43 Val Loss:\t 0.020225944588835407\n",
      "Epoch:\t 0 Val Loss:\t 0.02047516842221105\n"
     ]
    },
    {
     "name": "stderr",
     "output_type": "stream",
     "text": [
      "[I 2025-09-18 00:59:42,386] Trial 17 pruned. \n"
     ]
    },
    {
     "name": "stdout",
     "output_type": "stream",
     "text": [
      "Epoch:\t 1 Val Loss:\t 0.020431404279241727\n",
      "Epoch:\t 0 Val Loss:\t 0.020400316324744438\n",
      "Epoch:\t 1 Val Loss:\t 0.020386566852559393\n",
      "Epoch:\t 2 Val Loss:\t 0.020388566583202577\n"
     ]
    },
    {
     "name": "stderr",
     "output_type": "stream",
     "text": [
      "[I 2025-09-18 01:00:17,714] Trial 18 pruned. \n"
     ]
    },
    {
     "name": "stdout",
     "output_type": "stream",
     "text": [
      "Epoch:\t 3 Val Loss:\t 0.020386368740842965\n",
      "Epoch:\t 0 Val Loss:\t 0.020461893544799745\n"
     ]
    },
    {
     "name": "stderr",
     "output_type": "stream",
     "text": [
      "[I 2025-09-18 01:00:44,071] Trial 19 pruned. \n"
     ]
    },
    {
     "name": "stdout",
     "output_type": "stream",
     "text": [
      "Epoch:\t 1 Val Loss:\t 0.020439218424112535\n",
      "Epoch:\t 0 Val Loss:\t 0.020355087842329315\n",
      "Epoch:\t 1 Val Loss:\t 0.02032424858473804\n",
      "Epoch:\t 2 Val Loss:\t 0.02031306911186336\n",
      "Epoch:\t 3 Val Loss:\t 0.020311389228763896\n",
      "Epoch:\t 4 Val Loss:\t 0.020318270640384998\n",
      "Epoch:\t 5 Val Loss:\t 0.020260316082876734\n",
      "Epoch:\t 6 Val Loss:\t 0.020243409811221625\n",
      "Epoch:\t 7 Val Loss:\t 0.020237550814392675\n",
      "Epoch:\t 8 Val Loss:\t 0.020250122453346762\n",
      "Epoch:\t 9 Val Loss:\t 0.020237141270428447\n",
      "Epoch:\t 10 Val Loss:\t 0.020224064225103797\n",
      "Epoch:\t 11 Val Loss:\t 0.020212436601104222\n",
      "Epoch:\t 12 Val Loss:\t 0.020215827162603606\n",
      "Epoch:\t 13 Val Loss:\t 0.020217775779318728\n",
      "Epoch:\t 14 Val Loss:\t 0.020204996110376027\n",
      "Epoch:\t 15 Val Loss:\t 0.020206622567360964\n",
      "Epoch:\t 16 Val Loss:\t 0.020206439575995994\n",
      "Epoch:\t 17 Val Loss:\t 0.02020324354301208\n",
      "Epoch:\t 18 Val Loss:\t 0.02020392784336095\n",
      "Epoch:\t 19 Val Loss:\t 0.020203424433763297\n",
      "Epoch:\t 20 Val Loss:\t 0.02020525522789681\n",
      "Epoch:\t 21 Val Loss:\t 0.020204159975242254\n",
      "Epoch:\t 22 Val Loss:\t 0.02020535533047096\n",
      "Epoch:\t 23 Val Loss:\t 0.020206285627617237\n",
      "Epoch:\t 24 Val Loss:\t 0.020205057268306768\n",
      "Epoch:\t 25 Val Loss:\t 0.0202029082236182\n",
      "Epoch:\t 26 Val Loss:\t 0.020204856784086195\n",
      "Epoch:\t 27 Val Loss:\t 0.020206022799949614\n",
      "Epoch:\t 28 Val Loss:\t 0.02020688957245923\n",
      "Epoch:\t 29 Val Loss:\t 0.02020534914977736\n",
      "Epoch:\t 30 Val Loss:\t 0.02020422158531334\n",
      "Epoch:\t 31 Val Loss:\t 0.0202020190106694\n",
      "Epoch:\t 32 Val Loss:\t 0.020205984934818316\n",
      "Epoch:\t 33 Val Loss:\t 0.0202016468147956\n",
      "Epoch:\t 34 Val Loss:\t 0.020203886467111097\n",
      "Epoch:\t 35 Val Loss:\t 0.020206160566463426\n",
      "Epoch:\t 36 Val Loss:\t 0.02020633534142157\n",
      "Epoch:\t 37 Val Loss:\t 0.020204663030050356\n",
      "Epoch:\t 38 Val Loss:\t 0.02020508346215981\n",
      "Epoch:\t 39 Val Loss:\t 0.020203285161557238\n",
      "Epoch:\t 40 Val Loss:\t 0.020207873557485493\n",
      "Epoch:\t 41 Val Loss:\t 0.020203356123794387\n",
      "Epoch:\t 42 Val Loss:\t 0.02020355234621363\n"
     ]
    },
    {
     "name": "stderr",
     "output_type": "stream",
     "text": [
      "[I 2025-09-18 01:04:08,584] Trial 20 finished with value: 0.0202016468147956 and parameters: {'lr': 0.001, 'weight_decay': 1e-05, 'scheduler_factor': 0.3, 'scheduler_patience': 1, 'batch_size': 128, 'dropout': 0.2, 'hidden_dims': 64}. Best is trial 1 with value: 0.0201914404280657.\n"
     ]
    },
    {
     "name": "stdout",
     "output_type": "stream",
     "text": [
      "Epoch:\t 43 Val Loss:\t 0.02020605071150329\n",
      "Epoch:\t 0 Val Loss:\t 0.020428005919621937\n",
      "Epoch:\t 1 Val Loss:\t 0.020349390419691145\n",
      "Epoch:\t 2 Val Loss:\t 0.020325357873213417\n",
      "Epoch:\t 3 Val Loss:\t 0.02031590115240019\n",
      "Epoch:\t 4 Val Loss:\t 0.020315240940963902\n",
      "Epoch:\t 5 Val Loss:\t 0.020311851917607027\n",
      "Epoch:\t 6 Val Loss:\t 0.0203129212208672\n",
      "Epoch:\t 7 Val Loss:\t 0.020348862856280375\n",
      "Epoch:\t 8 Val Loss:\t 0.02026299030696335\n",
      "Epoch:\t 9 Val Loss:\t 0.02025195189971265\n",
      "Epoch:\t 10 Val Loss:\t 0.02024452205050767\n",
      "Epoch:\t 11 Val Loss:\t 0.02024687415813112\n",
      "Epoch:\t 12 Val Loss:\t 0.020244711099255238\n",
      "Epoch:\t 13 Val Loss:\t 0.02022392789289165\n",
      "Epoch:\t 14 Val Loss:\t 0.02022137186997305\n",
      "Epoch:\t 15 Val Loss:\t 0.02021547593609035\n",
      "Epoch:\t 16 Val Loss:\t 0.02021935631918021\n",
      "Epoch:\t 17 Val Loss:\t 0.020214309576254134\n",
      "Epoch:\t 18 Val Loss:\t 0.0202068101450299\n",
      "Epoch:\t 19 Val Loss:\t 0.020209773658892694\n",
      "Epoch:\t 20 Val Loss:\t 0.020213250120567388\n",
      "Epoch:\t 21 Val Loss:\t 0.02020637903462027\n",
      "Epoch:\t 22 Val Loss:\t 0.020205890106493728\n",
      "Epoch:\t 23 Val Loss:\t 0.020209167708624392\n",
      "Epoch:\t 24 Val Loss:\t 0.020207699585130544\n",
      "Epoch:\t 25 Val Loss:\t 0.020206214187279532\n",
      "Epoch:\t 26 Val Loss:\t 0.02020354929156212\n",
      "Epoch:\t 27 Val Loss:\t 0.02020513198612113\n",
      "Epoch:\t 28 Val Loss:\t 0.02020380970060341\n",
      "Epoch:\t 29 Val Loss:\t 0.020204867362872234\n",
      "Epoch:\t 30 Val Loss:\t 0.020203754833697164\n",
      "Epoch:\t 31 Val Loss:\t 0.020206306876050056\n",
      "Epoch:\t 32 Val Loss:\t 0.020205461018817213\n",
      "Epoch:\t 33 Val Loss:\t 0.020206679476470483\n",
      "Epoch:\t 34 Val Loss:\t 0.020205464473688643\n",
      "Epoch:\t 35 Val Loss:\t 0.020208172383312566\n"
     ]
    },
    {
     "name": "stderr",
     "output_type": "stream",
     "text": [
      "[I 2025-09-18 01:07:01,809] Trial 21 finished with value: 0.02020354929156212 and parameters: {'lr': 0.001, 'weight_decay': 1e-05, 'scheduler_factor': 0.3, 'scheduler_patience': 1, 'batch_size': 128, 'dropout': 0.2, 'hidden_dims': 64}. Best is trial 1 with value: 0.0201914404280657.\n"
     ]
    },
    {
     "name": "stdout",
     "output_type": "stream",
     "text": [
      "Epoch:\t 36 Val Loss:\t 0.02020685384471865\n",
      "Epoch:\t 0 Val Loss:\t 0.020422252576525617\n",
      "Epoch:\t 1 Val Loss:\t 0.020328017667749342\n",
      "Epoch:\t 2 Val Loss:\t 0.020312043296283545\n",
      "Epoch:\t 3 Val Loss:\t 0.020316186089514302\n",
      "Epoch:\t 4 Val Loss:\t 0.02033339978631642\n",
      "Epoch:\t 5 Val Loss:\t 0.020267933269618697\n",
      "Epoch:\t 6 Val Loss:\t 0.020248613221858575\n",
      "Epoch:\t 7 Val Loss:\t 0.020240466847029296\n",
      "Epoch:\t 8 Val Loss:\t 0.020244779963041984\n",
      "Epoch:\t 9 Val Loss:\t 0.020245682937066037\n",
      "Epoch:\t 10 Val Loss:\t 0.02022401095258719\n",
      "Epoch:\t 11 Val Loss:\t 0.0202194567419303\n",
      "Epoch:\t 12 Val Loss:\t 0.020216934878322858\n",
      "Epoch:\t 13 Val Loss:\t 0.020221213469418083\n",
      "Epoch:\t 14 Val Loss:\t 0.020218408371253712\n",
      "Epoch:\t 15 Val Loss:\t 0.020209220128780736\n",
      "Epoch:\t 16 Val Loss:\t 0.02020815538586432\n",
      "Epoch:\t 17 Val Loss:\t 0.020209143884722294\n",
      "Epoch:\t 18 Val Loss:\t 0.02020742976767607\n",
      "Epoch:\t 19 Val Loss:\t 0.02020913362935722\n",
      "Epoch:\t 20 Val Loss:\t 0.020206465802299296\n",
      "Epoch:\t 21 Val Loss:\t 0.020209099216934003\n",
      "Epoch:\t 22 Val Loss:\t 0.020208131245031312\n",
      "Epoch:\t 23 Val Loss:\t 0.02020812266518153\n",
      "Epoch:\t 24 Val Loss:\t 0.020210832500187778\n",
      "Epoch:\t 25 Val Loss:\t 0.020206405483748715\n",
      "Epoch:\t 26 Val Loss:\t 0.0202055357972054\n",
      "Epoch:\t 27 Val Loss:\t 0.02020888475313973\n",
      "Epoch:\t 28 Val Loss:\t 0.02020599694574267\n",
      "Epoch:\t 29 Val Loss:\t 0.020209775091031012\n",
      "Epoch:\t 30 Val Loss:\t 0.020208125936168133\n",
      "Epoch:\t 31 Val Loss:\t 0.02021121923594317\n",
      "Epoch:\t 32 Val Loss:\t 0.02020875948430423\n",
      "Epoch:\t 33 Val Loss:\t 0.02020464164099973\n",
      "Epoch:\t 34 Val Loss:\t 0.020208923516061662\n",
      "Epoch:\t 35 Val Loss:\t 0.020206755185099567\n",
      "Epoch:\t 36 Val Loss:\t 0.02021157742195636\n",
      "Epoch:\t 37 Val Loss:\t 0.020211617519665815\n",
      "Epoch:\t 38 Val Loss:\t 0.02020741030833447\n",
      "Epoch:\t 39 Val Loss:\t 0.020208131441896246\n",
      "Epoch:\t 40 Val Loss:\t 0.020207518525637954\n",
      "Epoch:\t 41 Val Loss:\t 0.02021132742512309\n",
      "Epoch:\t 42 Val Loss:\t 0.020207659361946736\n"
     ]
    },
    {
     "name": "stderr",
     "output_type": "stream",
     "text": [
      "[I 2025-09-18 01:10:25,250] Trial 22 finished with value: 0.02020464164099973 and parameters: {'lr': 0.001, 'weight_decay': 1e-05, 'scheduler_factor': 0.3, 'scheduler_patience': 1, 'batch_size': 128, 'dropout': 0.2, 'hidden_dims': 64}. Best is trial 1 with value: 0.0201914404280657.\n"
     ]
    },
    {
     "name": "stdout",
     "output_type": "stream",
     "text": [
      "Epoch:\t 43 Val Loss:\t 0.020205172085993935\n",
      "Epoch:\t 0 Val Loss:\t 0.02045420323618613\n",
      "Epoch:\t 1 Val Loss:\t 0.020324596600838515\n",
      "Epoch:\t 2 Val Loss:\t 0.020324652940986742\n",
      "Epoch:\t 3 Val Loss:\t 0.02031215847525032\n",
      "Epoch:\t 4 Val Loss:\t 0.02033300622086215\n",
      "Epoch:\t 5 Val Loss:\t 0.020316077452520738\n",
      "Epoch:\t 6 Val Loss:\t 0.020266163373813813\n",
      "Epoch:\t 7 Val Loss:\t 0.020245419445249678\n",
      "Epoch:\t 8 Val Loss:\t 0.02024560498936874\n",
      "Epoch:\t 9 Val Loss:\t 0.02024503982908219\n",
      "Epoch:\t 10 Val Loss:\t 0.02021886622284417\n",
      "Epoch:\t 11 Val Loss:\t 0.02022011181324478\n",
      "Epoch:\t 12 Val Loss:\t 0.02021266392385641\n",
      "Epoch:\t 13 Val Loss:\t 0.020218129649446817\n",
      "Epoch:\t 14 Val Loss:\t 0.020213019665283053\n",
      "Epoch:\t 15 Val Loss:\t 0.02020999191936785\n",
      "Epoch:\t 16 Val Loss:\t 0.02020546166565914\n",
      "Epoch:\t 17 Val Loss:\t 0.02020954797379716\n",
      "Epoch:\t 18 Val Loss:\t 0.020209296687606734\n",
      "Epoch:\t 19 Val Loss:\t 0.020209092577610006\n",
      "Epoch:\t 20 Val Loss:\t 0.020207915751481998\n",
      "Epoch:\t 21 Val Loss:\t 0.020205598787494377\n",
      "Epoch:\t 22 Val Loss:\t 0.020207287339141008\n",
      "Epoch:\t 23 Val Loss:\t 0.020206807505741768\n",
      "Epoch:\t 24 Val Loss:\t 0.020207882474818018\n",
      "Epoch:\t 25 Val Loss:\t 0.020204999578227564\n",
      "Epoch:\t 26 Val Loss:\t 0.02020785145452906\n",
      "Epoch:\t 27 Val Loss:\t 0.020206454663205368\n",
      "Epoch:\t 28 Val Loss:\t 0.020210793693998825\n",
      "Epoch:\t 29 Val Loss:\t 0.020207471637169936\n",
      "Epoch:\t 30 Val Loss:\t 0.02021094938387508\n",
      "Epoch:\t 31 Val Loss:\t 0.02020857264866466\n",
      "Epoch:\t 32 Val Loss:\t 0.020206657176649115\n",
      "Epoch:\t 33 Val Loss:\t 0.020206679061107104\n",
      "Epoch:\t 34 Val Loss:\t 0.020204258161087486\n",
      "Epoch:\t 35 Val Loss:\t 0.02020771574752533\n",
      "Epoch:\t 36 Val Loss:\t 0.020208567999623516\n",
      "Epoch:\t 37 Val Loss:\t 0.020208110632623667\n",
      "Epoch:\t 38 Val Loss:\t 0.020207122007209664\n",
      "Epoch:\t 39 Val Loss:\t 0.02020708303227934\n",
      "Epoch:\t 40 Val Loss:\t 0.020205574648824717\n",
      "Epoch:\t 41 Val Loss:\t 0.02020769009451002\n",
      "Epoch:\t 42 Val Loss:\t 0.02020622441343937\n",
      "Epoch:\t 43 Val Loss:\t 0.020206635694574395\n"
     ]
    },
    {
     "name": "stderr",
     "output_type": "stream",
     "text": [
      "[I 2025-09-18 01:13:53,638] Trial 23 finished with value: 0.020204258161087486 and parameters: {'lr': 0.001, 'weight_decay': 1e-05, 'scheduler_factor': 0.3, 'scheduler_patience': 1, 'batch_size': 128, 'dropout': 0.2, 'hidden_dims': 64}. Best is trial 1 with value: 0.0201914404280657.\n"
     ]
    },
    {
     "name": "stdout",
     "output_type": "stream",
     "text": [
      "Epoch:\t 44 Val Loss:\t 0.020208448409584204\n"
     ]
    },
    {
     "name": "stderr",
     "output_type": "stream",
     "text": [
      "[I 2025-09-18 01:13:58,349] Trial 24 pruned. \n"
     ]
    },
    {
     "name": "stdout",
     "output_type": "stream",
     "text": [
      "Epoch:\t 0 Val Loss:\t 0.020588490123342417\n"
     ]
    },
    {
     "name": "stderr",
     "output_type": "stream",
     "text": [
      "[I 2025-09-18 01:14:03,121] Trial 25 pruned. \n"
     ]
    },
    {
     "name": "stdout",
     "output_type": "stream",
     "text": [
      "Epoch:\t 0 Val Loss:\t 0.020502569411343676\n",
      "Epoch:\t 0 Val Loss:\t 0.020438064534420475\n",
      "Epoch:\t 1 Val Loss:\t 0.020332021643077732\n",
      "Epoch:\t 2 Val Loss:\t 0.020317032059241392\n",
      "Epoch:\t 3 Val Loss:\t 0.020321745804049135\n",
      "Epoch:\t 4 Val Loss:\t 0.020312876368112402\n",
      "Epoch:\t 5 Val Loss:\t 0.020325704567506476\n",
      "Epoch:\t 6 Val Loss:\t 0.02032519847319032\n",
      "Epoch:\t 7 Val Loss:\t 0.02032283120047686\n",
      "Epoch:\t 8 Val Loss:\t 0.02031360148656659\n"
     ]
    },
    {
     "name": "stderr",
     "output_type": "stream",
     "text": [
      "[I 2025-09-18 01:14:49,724] Trial 26 pruned. \n"
     ]
    },
    {
     "name": "stdout",
     "output_type": "stream",
     "text": [
      "Epoch:\t 9 Val Loss:\t 0.020312471512129636\n"
     ]
    },
    {
     "name": "stderr",
     "output_type": "stream",
     "text": [
      "[I 2025-09-18 01:14:54,859] Trial 27 pruned. \n"
     ]
    },
    {
     "name": "stdout",
     "output_type": "stream",
     "text": [
      "Epoch:\t 0 Val Loss:\t 0.02101914591559411\n"
     ]
    },
    {
     "name": "stderr",
     "output_type": "stream",
     "text": [
      "[I 2025-09-18 01:14:58,910] Trial 28 pruned. \n"
     ]
    },
    {
     "name": "stdout",
     "output_type": "stream",
     "text": [
      "Epoch:\t 0 Val Loss:\t 0.09598833509655887\n"
     ]
    },
    {
     "name": "stderr",
     "output_type": "stream",
     "text": [
      "[I 2025-09-18 01:15:03,630] Trial 29 pruned. \n"
     ]
    },
    {
     "name": "stdout",
     "output_type": "stream",
     "text": [
      "Epoch:\t 0 Val Loss:\t 0.02438187259103363\n"
     ]
    },
    {
     "name": "stderr",
     "output_type": "stream",
     "text": [
      "[I 2025-09-18 01:15:08,291] Trial 30 pruned. \n"
     ]
    },
    {
     "name": "stdout",
     "output_type": "stream",
     "text": [
      "Epoch:\t 0 Val Loss:\t 0.08519675203628241\n",
      "Epoch:\t 0 Val Loss:\t 0.020409707559768054\n",
      "Epoch:\t 1 Val Loss:\t 0.020314083193427732\n",
      "Epoch:\t 2 Val Loss:\t 0.020309278274195118\n",
      "Epoch:\t 3 Val Loss:\t 0.02032910149142094\n",
      "Epoch:\t 4 Val Loss:\t 0.0203121622849113\n",
      "Epoch:\t 5 Val Loss:\t 0.020263329319197266\n",
      "Epoch:\t 6 Val Loss:\t 0.020243587614871068\n",
      "Epoch:\t 7 Val Loss:\t 0.020248240379142843\n",
      "Epoch:\t 8 Val Loss:\t 0.02024825237276039\n",
      "Epoch:\t 9 Val Loss:\t 0.020214629321684684\n",
      "Epoch:\t 10 Val Loss:\t 0.020214662118084755\n",
      "Epoch:\t 11 Val Loss:\t 0.02021198617846085\n",
      "Epoch:\t 12 Val Loss:\t 0.020219472804810942\n",
      "Epoch:\t 13 Val Loss:\t 0.02021151680053665\n",
      "Epoch:\t 14 Val Loss:\t 0.020207493683879245\n",
      "Epoch:\t 15 Val Loss:\t 0.020209918798106474\n",
      "Epoch:\t 16 Val Loss:\t 0.02020756203278847\n",
      "Epoch:\t 17 Val Loss:\t 0.020205779756126228\n",
      "Epoch:\t 18 Val Loss:\t 0.020204473252253528\n",
      "Epoch:\t 19 Val Loss:\t 0.020204231993194658\n",
      "Epoch:\t 20 Val Loss:\t 0.02020422139710181\n",
      "Epoch:\t 21 Val Loss:\t 0.020206052228012288\n",
      "Epoch:\t 22 Val Loss:\t 0.02020361806448813\n",
      "Epoch:\t 23 Val Loss:\t 0.020205700421720985\n",
      "Epoch:\t 24 Val Loss:\t 0.02020574476176161\n",
      "Epoch:\t 25 Val Loss:\t 0.020206624202854264\n",
      "Epoch:\t 26 Val Loss:\t 0.02020235080380127\n",
      "Epoch:\t 27 Val Loss:\t 0.020205790921180366\n",
      "Epoch:\t 28 Val Loss:\t 0.020208672173624116\n",
      "Epoch:\t 29 Val Loss:\t 0.020205987848852015\n",
      "Epoch:\t 30 Val Loss:\t 0.020204649433389774\n",
      "Epoch:\t 31 Val Loss:\t 0.020207770971384476\n",
      "Epoch:\t 32 Val Loss:\t 0.020202054708123068\n",
      "Epoch:\t 33 Val Loss:\t 0.02020643047910534\n",
      "Epoch:\t 34 Val Loss:\t 0.020207619748827888\n",
      "Epoch:\t 35 Val Loss:\t 0.020207075627129114\n",
      "Epoch:\t 36 Val Loss:\t 0.020205012497759307\n",
      "Epoch:\t 37 Val Loss:\t 0.02020682948755055\n",
      "Epoch:\t 38 Val Loss:\t 0.020204062622287133\n",
      "Epoch:\t 39 Val Loss:\t 0.020207943029173853\n",
      "Epoch:\t 40 Val Loss:\t 0.020204773562139334\n",
      "Epoch:\t 41 Val Loss:\t 0.020205978992093317\n"
     ]
    },
    {
     "name": "stderr",
     "output_type": "stream",
     "text": [
      "[I 2025-09-18 01:18:29,026] Trial 31 finished with value: 0.020202054708123068 and parameters: {'lr': 0.001, 'weight_decay': 1e-05, 'scheduler_factor': 0.3, 'scheduler_patience': 1, 'batch_size': 128, 'dropout': 0.2, 'hidden_dims': 64}. Best is trial 1 with value: 0.0201914404280657.\n"
     ]
    },
    {
     "name": "stdout",
     "output_type": "stream",
     "text": [
      "Epoch:\t 42 Val Loss:\t 0.020205620864490598\n",
      "Epoch:\t 0 Val Loss:\t 0.020432638413295512\n",
      "Epoch:\t 1 Val Loss:\t 0.020321743833236438\n",
      "Epoch:\t 2 Val Loss:\t 0.02031558764391037\n",
      "Epoch:\t 3 Val Loss:\t 0.02032145531144984\n",
      "Epoch:\t 4 Val Loss:\t 0.020319816462790786\n",
      "Epoch:\t 5 Val Loss:\t 0.020269246345751515\n",
      "Epoch:\t 6 Val Loss:\t 0.02024607597033598\n",
      "Epoch:\t 7 Val Loss:\t 0.02025135875864519\n",
      "Epoch:\t 8 Val Loss:\t 0.020248061508961395\n",
      "Epoch:\t 9 Val Loss:\t 0.020222140281406013\n",
      "Epoch:\t 10 Val Loss:\t 0.02021677029707429\n",
      "Epoch:\t 11 Val Loss:\t 0.020219471201767904\n",
      "Epoch:\t 12 Val Loss:\t 0.020220359581826594\n",
      "Epoch:\t 13 Val Loss:\t 0.020210798589661978\n",
      "Epoch:\t 14 Val Loss:\t 0.02021022574082623\n",
      "Epoch:\t 15 Val Loss:\t 0.020211718212834774\n",
      "Epoch:\t 16 Val Loss:\t 0.020207735873179016\n",
      "Epoch:\t 17 Val Loss:\t 0.0202079613181426\n",
      "Epoch:\t 18 Val Loss:\t 0.020208872428529492\n",
      "Epoch:\t 19 Val Loss:\t 0.020210213866192983\n",
      "Epoch:\t 20 Val Loss:\t 0.020207821939932345\n",
      "Epoch:\t 21 Val Loss:\t 0.020207517041579217\n",
      "Epoch:\t 22 Val Loss:\t 0.020209000055417505\n",
      "Epoch:\t 23 Val Loss:\t 0.020209109345743048\n",
      "Epoch:\t 24 Val Loss:\t 0.020209768745922736\n",
      "Epoch:\t 25 Val Loss:\t 0.02021028855804713\n",
      "Epoch:\t 26 Val Loss:\t 0.020208062009148205\n",
      "Epoch:\t 27 Val Loss:\t 0.0202083823257034\n",
      "Epoch:\t 28 Val Loss:\t 0.02020994710771672\n",
      "Epoch:\t 29 Val Loss:\t 0.020207799778565436\n",
      "Epoch:\t 30 Val Loss:\t 0.0202090511991968\n"
     ]
    },
    {
     "name": "stderr",
     "output_type": "stream",
     "text": [
      "[I 2025-09-18 01:20:57,923] Trial 32 finished with value: 0.020207517041579217 and parameters: {'lr': 0.001, 'weight_decay': 1e-05, 'scheduler_factor': 0.3, 'scheduler_patience': 1, 'batch_size': 128, 'dropout': 0.2, 'hidden_dims': 64}. Best is trial 1 with value: 0.0201914404280657.\n"
     ]
    },
    {
     "name": "stdout",
     "output_type": "stream",
     "text": [
      "Epoch:\t 31 Val Loss:\t 0.020210886906300272\n",
      "Epoch:\t 0 Val Loss:\t 0.02041768661670984\n",
      "Epoch:\t 1 Val Loss:\t 0.02031547860237018\n",
      "Epoch:\t 2 Val Loss:\t 0.02031290446355091\n",
      "Epoch:\t 3 Val Loss:\t 0.020317402967921394\n",
      "Epoch:\t 4 Val Loss:\t 0.020303868328445048\n",
      "Epoch:\t 5 Val Loss:\t 0.020314272365486302\n",
      "Epoch:\t 6 Val Loss:\t 0.02030057844280781\n",
      "Epoch:\t 7 Val Loss:\t 0.02030694516944622\n"
     ]
    },
    {
     "name": "stderr",
     "output_type": "stream",
     "text": [
      "[I 2025-09-18 01:21:39,908] Trial 33 pruned. \n"
     ]
    },
    {
     "name": "stdout",
     "output_type": "stream",
     "text": [
      "Epoch:\t 8 Val Loss:\t 0.020297735371344595\n"
     ]
    },
    {
     "name": "stderr",
     "output_type": "stream",
     "text": [
      "[I 2025-09-18 01:21:44,641] Trial 34 pruned. \n"
     ]
    },
    {
     "name": "stdout",
     "output_type": "stream",
     "text": [
      "Epoch:\t 0 Val Loss:\t 0.02045542907951947\n"
     ]
    },
    {
     "name": "stderr",
     "output_type": "stream",
     "text": [
      "[I 2025-09-18 01:21:57,410] Trial 35 pruned. \n"
     ]
    },
    {
     "name": "stdout",
     "output_type": "stream",
     "text": [
      "Epoch:\t 0 Val Loss:\t 0.020436214630480006\n"
     ]
    },
    {
     "name": "stderr",
     "output_type": "stream",
     "text": [
      "[I 2025-09-18 01:22:01,474] Trial 36 pruned. \n"
     ]
    },
    {
     "name": "stdout",
     "output_type": "stream",
     "text": [
      "Epoch:\t 0 Val Loss:\t 0.09292350021559138\n"
     ]
    },
    {
     "name": "stderr",
     "output_type": "stream",
     "text": [
      "[I 2025-09-18 01:22:06,297] Trial 37 pruned. \n"
     ]
    },
    {
     "name": "stdout",
     "output_type": "stream",
     "text": [
      "Epoch:\t 0 Val Loss:\t 0.023957410541716767\n"
     ]
    },
    {
     "name": "stderr",
     "output_type": "stream",
     "text": [
      "[I 2025-09-18 01:22:11,057] Trial 38 pruned. \n"
     ]
    },
    {
     "name": "stdout",
     "output_type": "stream",
     "text": [
      "Epoch:\t 0 Val Loss:\t 0.03433502752995865\n"
     ]
    },
    {
     "name": "stderr",
     "output_type": "stream",
     "text": [
      "[I 2025-09-18 01:22:19,352] Trial 39 pruned. \n"
     ]
    },
    {
     "name": "stdout",
     "output_type": "stream",
     "text": [
      "Epoch:\t 0 Val Loss:\t 0.02054566846786416\n"
     ]
    },
    {
     "name": "stderr",
     "output_type": "stream",
     "text": [
      "[I 2025-09-18 01:22:23,820] Trial 40 pruned. \n"
     ]
    },
    {
     "name": "stdout",
     "output_type": "stream",
     "text": [
      "Epoch:\t 0 Val Loss:\t 0.021941320099976173\n"
     ]
    },
    {
     "name": "stderr",
     "output_type": "stream",
     "text": [
      "[I 2025-09-18 01:22:28,578] Trial 41 pruned. \n"
     ]
    },
    {
     "name": "stdout",
     "output_type": "stream",
     "text": [
      "Epoch:\t 0 Val Loss:\t 0.02048513532316574\n"
     ]
    },
    {
     "name": "stderr",
     "output_type": "stream",
     "text": [
      "[I 2025-09-18 01:22:33,319] Trial 42 pruned. \n"
     ]
    },
    {
     "name": "stdout",
     "output_type": "stream",
     "text": [
      "Epoch:\t 0 Val Loss:\t 0.020484320326133888\n"
     ]
    },
    {
     "name": "stderr",
     "output_type": "stream",
     "text": [
      "[I 2025-09-18 01:22:37,974] Trial 43 pruned. \n"
     ]
    },
    {
     "name": "stdout",
     "output_type": "stream",
     "text": [
      "Epoch:\t 0 Val Loss:\t 0.020464962404589067\n",
      "Epoch:\t 0 Val Loss:\t 0.020396572490296118\n",
      "Epoch:\t 1 Val Loss:\t 0.02026071812553272\n",
      "Epoch:\t 2 Val Loss:\t 0.020253455037612944\n",
      "Epoch:\t 3 Val Loss:\t 0.020241433059820742\n",
      "Epoch:\t 4 Val Loss:\t 0.02024119163920243\n",
      "Epoch:\t 5 Val Loss:\t 0.02024055793749007\n",
      "Epoch:\t 6 Val Loss:\t 0.020238269791552892\n",
      "Epoch:\t 7 Val Loss:\t 0.0202451419663811\n",
      "Epoch:\t 8 Val Loss:\t 0.020240005477695434\n",
      "Epoch:\t 9 Val Loss:\t 0.020242601296779735\n",
      "Epoch:\t 10 Val Loss:\t 0.020248866414395373\n",
      "Epoch:\t 11 Val Loss:\t 0.020240053656783528\n",
      "Epoch:\t 12 Val Loss:\t 0.020244619865432526\n",
      "Epoch:\t 13 Val Loss:\t 0.020227125854091307\n",
      "Epoch:\t 14 Val Loss:\t 0.02021925542427933\n",
      "Epoch:\t 15 Val Loss:\t 0.02021704799940559\n",
      "Epoch:\t 16 Val Loss:\t 0.020220626638622608\n",
      "Epoch:\t 17 Val Loss:\t 0.020217065703992305\n",
      "Epoch:\t 18 Val Loss:\t 0.02022459984028891\n",
      "Epoch:\t 19 Val Loss:\t 0.020215895604253048\n",
      "Epoch:\t 20 Val Loss:\t 0.02021911468891348\n",
      "Epoch:\t 21 Val Loss:\t 0.020218324237356516\n",
      "Epoch:\t 22 Val Loss:\t 0.020212446938917508\n",
      "Epoch:\t 23 Val Loss:\t 0.02020823718266837\n",
      "Epoch:\t 24 Val Loss:\t 0.02020866656547579\n",
      "Epoch:\t 25 Val Loss:\t 0.020209158593879267\n",
      "Epoch:\t 26 Val Loss:\t 0.020213216954341487\n",
      "Epoch:\t 27 Val Loss:\t 0.020208777339898516\n",
      "Epoch:\t 28 Val Loss:\t 0.020213660148907242\n",
      "Epoch:\t 29 Val Loss:\t 0.020209674353241256\n",
      "Epoch:\t 30 Val Loss:\t 0.020213360250202636\n",
      "Epoch:\t 31 Val Loss:\t 0.020213303018653712\n",
      "Epoch:\t 32 Val Loss:\t 0.02021572299409173\n"
     ]
    },
    {
     "name": "stderr",
     "output_type": "stream",
     "text": [
      "[I 2025-09-18 01:30:13,093] Trial 44 finished with value: 0.02020823718266837 and parameters: {'lr': 0.0001, 'weight_decay': 1e-05, 'scheduler_factor': 0.3, 'scheduler_patience': 5, 'batch_size': 16, 'dropout': 0.2, 'hidden_dims': 64}. Best is trial 1 with value: 0.0201914404280657.\n"
     ]
    },
    {
     "name": "stdout",
     "output_type": "stream",
     "text": [
      "Epoch:\t 33 Val Loss:\t 0.02020902945120285\n"
     ]
    },
    {
     "name": "stderr",
     "output_type": "stream",
     "text": [
      "[I 2025-09-18 01:30:17,918] Trial 45 pruned. \n"
     ]
    },
    {
     "name": "stdout",
     "output_type": "stream",
     "text": [
      "Epoch:\t 0 Val Loss:\t 0.03447105404980368\n"
     ]
    },
    {
     "name": "stderr",
     "output_type": "stream",
     "text": [
      "[I 2025-09-18 01:30:22,314] Trial 46 pruned. \n"
     ]
    },
    {
     "name": "stdout",
     "output_type": "stream",
     "text": [
      "Epoch:\t 0 Val Loss:\t 0.020450458285766977\n"
     ]
    },
    {
     "name": "stderr",
     "output_type": "stream",
     "text": [
      "[I 2025-09-18 01:30:27,097] Trial 47 pruned. \n"
     ]
    },
    {
     "name": "stdout",
     "output_type": "stream",
     "text": [
      "Epoch:\t 0 Val Loss:\t 0.021144975591169693\n"
     ]
    },
    {
     "name": "stderr",
     "output_type": "stream",
     "text": [
      "[I 2025-09-18 01:30:31,758] Trial 48 pruned. \n"
     ]
    },
    {
     "name": "stdout",
     "output_type": "stream",
     "text": [
      "Epoch:\t 0 Val Loss:\t 0.021557897798777596\n"
     ]
    },
    {
     "name": "stderr",
     "output_type": "stream",
     "text": [
      "[I 2025-09-18 01:30:46,562] Trial 49 pruned. \n"
     ]
    },
    {
     "name": "stdout",
     "output_type": "stream",
     "text": [
      "Epoch:\t 0 Val Loss:\t 0.02363450506467478\n",
      "Training model with best parameters on train+validation ...\n"
     ]
    },
    {
     "name": "stderr",
     "output_type": "stream",
     "text": [
      "100%|█████████████████████████████████████████████████████████████████████████████████████████████████████████████████████████████████████| 557340/557340 [05:14<00:00, 1770.40it/s]\n",
      "100%|█████████████████████████████████████████████████████████████████████████████████████████████████████████████████████████████████████| 557340/557340 [01:32<00:00, 6055.68it/s]\n"
     ]
    },
    {
     "name": "stdout",
     "output_type": "stream",
     "text": [
      "Getting test set predictions and saving results ...\n"
     ]
    },
    {
     "name": "stderr",
     "output_type": "stream",
     "text": [
      "100%|████████████████████████████████████████████████████████████████████████████████████████████████████████████████████████████████████████████| 410/410 [00:02<00:00, 194.63it/s]\n"
     ]
    }
   ],
   "source": [
    "train_different_featno(\n",
    "        adata_path=\"./data/feature_number/sciplex_hvg_5000.h5ad\",\n",
    "        run_name=\"mlp_hvg_5000\",\n",
    "        res_savename=\"./results/feature_number/mlp_hvg_5000_res.pkl\",\n",
    "        input_dim=5000,\n",
    "        output_dim=5000,\n",
    "    )"
   ]
  },
  {
   "cell_type": "code",
   "execution_count": 8,
   "id": "3877c129-6a13-43a3-ad8a-5a2e7fd3efb0",
   "metadata": {},
   "outputs": [
    {
     "name": "stdout",
     "output_type": "stream",
     "text": [
      "Loading Datasets ...\n"
     ]
    },
    {
     "name": "stderr",
     "output_type": "stream",
     "text": [
      "100%|█████████████████████████████████████████████████████████████████████████████████████████████████████████████████████████████████████| 557340/557340 [04:06<00:00, 2260.09it/s]\n",
      "100%|█████████████████████████████████████████████████████████████████████████████████████████████████████████████████████████████████████| 557340/557340 [01:36<00:00, 5782.47it/s]\n",
      "[I 2025-09-18 01:47:36,247] A new study created in RDB with name: mlp_hvg_7500\n"
     ]
    },
    {
     "name": "stdout",
     "output_type": "stream",
     "text": [
      "Optimizing Hyperparameters with Optuna ...\n",
      "Epoch:\t 0 Val Loss:\t 0.020252884955329738\n",
      "Epoch:\t 1 Val Loss:\t 0.020225508340693324\n",
      "Epoch:\t 2 Val Loss:\t 0.020192194835986083\n",
      "Epoch:\t 3 Val Loss:\t 0.020187805947813612\n",
      "Epoch:\t 4 Val Loss:\t 0.020169178294196285\n",
      "Epoch:\t 5 Val Loss:\t 0.02019106700488875\n",
      "Epoch:\t 6 Val Loss:\t 0.020157658513386755\n",
      "Epoch:\t 7 Val Loss:\t 0.02014840664844733\n",
      "Epoch:\t 8 Val Loss:\t 0.02016629061477342\n",
      "Epoch:\t 9 Val Loss:\t 0.02018608148001649\n",
      "Epoch:\t 10 Val Loss:\t 0.020077709221020038\n",
      "Epoch:\t 11 Val Loss:\t 0.02008891355481974\n",
      "Epoch:\t 12 Val Loss:\t 0.020086367328089647\n",
      "Epoch:\t 13 Val Loss:\t 0.02006726468968931\n",
      "Epoch:\t 14 Val Loss:\t 0.02006298711483415\n",
      "Epoch:\t 15 Val Loss:\t 0.020064355090943727\n",
      "Epoch:\t 16 Val Loss:\t 0.020081986987220638\n",
      "Epoch:\t 17 Val Loss:\t 0.020040196946590223\n",
      "Epoch:\t 18 Val Loss:\t 0.020028427378363686\n",
      "Epoch:\t 19 Val Loss:\t 0.02003578497642825\n",
      "Epoch:\t 20 Val Loss:\t 0.020041568172329122\n",
      "Epoch:\t 21 Val Loss:\t 0.02001649477193159\n",
      "Epoch:\t 22 Val Loss:\t 0.020020499851422745\n",
      "Epoch:\t 23 Val Loss:\t 0.020025251054346077\n",
      "Epoch:\t 24 Val Loss:\t 0.020005591274241827\n",
      "Epoch:\t 25 Val Loss:\t 0.02000921262396814\n",
      "Epoch:\t 26 Val Loss:\t 0.020002455190061934\n",
      "Epoch:\t 27 Val Loss:\t 0.020025942369201504\n",
      "Epoch:\t 28 Val Loss:\t 0.02000654134812894\n",
      "Epoch:\t 29 Val Loss:\t 0.020013277630256277\n",
      "Epoch:\t 30 Val Loss:\t 0.019998039835680208\n",
      "Epoch:\t 31 Val Loss:\t 0.020004942906167503\n",
      "Epoch:\t 32 Val Loss:\t 0.020001967966738164\n",
      "Epoch:\t 33 Val Loss:\t 0.019990422080248784\n",
      "Epoch:\t 34 Val Loss:\t 0.020008331623622415\n",
      "Epoch:\t 35 Val Loss:\t 0.02000214792333989\n",
      "Epoch:\t 36 Val Loss:\t 0.01999545030974747\n",
      "Epoch:\t 37 Val Loss:\t 0.019999840916245223\n",
      "Epoch:\t 38 Val Loss:\t 0.01999623171317062\n",
      "Epoch:\t 39 Val Loss:\t 0.019993058032314583\n",
      "Epoch:\t 40 Val Loss:\t 0.019987087613550024\n",
      "Epoch:\t 41 Val Loss:\t 0.01999294928270184\n",
      "Epoch:\t 42 Val Loss:\t 0.019982703266318323\n",
      "Epoch:\t 43 Val Loss:\t 0.019992372782677154\n",
      "Epoch:\t 44 Val Loss:\t 0.020004406674087774\n",
      "Epoch:\t 45 Val Loss:\t 0.01998605981828062\n",
      "Epoch:\t 46 Val Loss:\t 0.019988889773541147\n",
      "Epoch:\t 47 Val Loss:\t 0.019988184086697364\n",
      "Epoch:\t 48 Val Loss:\t 0.01998632509332719\n",
      "Epoch:\t 49 Val Loss:\t 0.01998493367037452\n",
      "Epoch:\t 50 Val Loss:\t 0.020000447126162724\n",
      "Epoch:\t 51 Val Loss:\t 0.01999570391758697\n"
     ]
    },
    {
     "name": "stderr",
     "output_type": "stream",
     "text": [
      "[I 2025-09-18 01:53:49,807] Trial 0 finished with value: 0.019982703266318323 and parameters: {'lr': 0.001, 'weight_decay': 0.0001, 'scheduler_factor': 0.5, 'scheduler_patience': 1, 'batch_size': 64, 'dropout': 0.1, 'hidden_dims': 128}. Best is trial 0 with value: 0.019982703266318323.\n"
     ]
    },
    {
     "name": "stdout",
     "output_type": "stream",
     "text": [
      "Epoch:\t 52 Val Loss:\t 0.019991720526614857\n",
      "Epoch:\t 0 Val Loss:\t 0.02034470030321192\n",
      "Epoch:\t 1 Val Loss:\t 0.020138908629492143\n",
      "Epoch:\t 2 Val Loss:\t 0.02016452557363537\n",
      "Epoch:\t 3 Val Loss:\t 0.020201891193677712\n",
      "Epoch:\t 4 Val Loss:\t 0.020301835526059825\n",
      "Epoch:\t 5 Val Loss:\t 0.02037329146302307\n",
      "Epoch:\t 6 Val Loss:\t 0.020384072849891313\n",
      "Epoch:\t 7 Val Loss:\t 0.020426447217331608\n",
      "Epoch:\t 8 Val Loss:\t 0.020347560223492506\n",
      "Epoch:\t 9 Val Loss:\t 0.020354775412443828\n",
      "Epoch:\t 10 Val Loss:\t 0.02031758166276658\n"
     ]
    },
    {
     "name": "stderr",
     "output_type": "stream",
     "text": [
      "[I 2025-09-18 01:56:10,698] Trial 1 finished with value: 0.020138908629492143 and parameters: {'lr': 1e-05, 'weight_decay': 0.0001, 'scheduler_factor': 0.5, 'scheduler_patience': 10, 'batch_size': 64, 'dropout': 0.05, 'hidden_dims': 1024}. Best is trial 0 with value: 0.019982703266318323.\n"
     ]
    },
    {
     "name": "stdout",
     "output_type": "stream",
     "text": [
      "Epoch:\t 11 Val Loss:\t 0.02029957250084942\n",
      "Epoch:\t 0 Val Loss:\t 0.020062521559489514\n",
      "Epoch:\t 1 Val Loss:\t 0.02004593964076957\n",
      "Epoch:\t 2 Val Loss:\t 0.020099668334942533\n",
      "Epoch:\t 3 Val Loss:\t 0.02004882402488885\n",
      "Epoch:\t 4 Val Loss:\t 0.020083325878282966\n",
      "Epoch:\t 5 Val Loss:\t 0.02005645724362626\n",
      "Epoch:\t 6 Val Loss:\t 0.020045517263279983\n",
      "Epoch:\t 7 Val Loss:\t 0.020081314840962115\n",
      "Epoch:\t 8 Val Loss:\t 0.02002141211701863\n",
      "Epoch:\t 9 Val Loss:\t 0.02002256946287967\n",
      "Epoch:\t 10 Val Loss:\t 0.02001872890479149\n",
      "Epoch:\t 11 Val Loss:\t 0.020018807173183904\n",
      "Epoch:\t 12 Val Loss:\t 0.020010664607481993\n",
      "Epoch:\t 13 Val Loss:\t 0.02001211452754609\n",
      "Epoch:\t 14 Val Loss:\t 0.020031367428060266\n",
      "Epoch:\t 15 Val Loss:\t 0.020019905924639224\n",
      "Epoch:\t 16 Val Loss:\t 0.02000282724262002\n",
      "Epoch:\t 17 Val Loss:\t 0.020011764862674634\n",
      "Epoch:\t 18 Val Loss:\t 0.020018909680827354\n",
      "Epoch:\t 19 Val Loss:\t 0.020026126582968984\n",
      "Epoch:\t 20 Val Loss:\t 0.020006642039882554\n",
      "Epoch:\t 21 Val Loss:\t 0.020013810015157583\n",
      "Epoch:\t 22 Val Loss:\t 0.02002668039909998\n",
      "Epoch:\t 23 Val Loss:\t 0.019992283891639994\n",
      "Epoch:\t 24 Val Loss:\t 0.020007558510483643\n",
      "Epoch:\t 25 Val Loss:\t 0.019996611118474485\n",
      "Epoch:\t 26 Val Loss:\t 0.019995419407459067\n",
      "Epoch:\t 27 Val Loss:\t 0.019995292286522085\n",
      "Epoch:\t 28 Val Loss:\t 0.020002028815128293\n",
      "Epoch:\t 29 Val Loss:\t 0.02000524761323891\n",
      "Epoch:\t 30 Val Loss:\t 0.01998921433972866\n",
      "Epoch:\t 31 Val Loss:\t 0.0199983761690717\n",
      "Epoch:\t 32 Val Loss:\t 0.01998832563448587\n",
      "Epoch:\t 33 Val Loss:\t 0.02000455098557467\n",
      "Epoch:\t 34 Val Loss:\t 0.01999306095357567\n",
      "Epoch:\t 35 Val Loss:\t 0.020001445812601822\n",
      "Epoch:\t 36 Val Loss:\t 0.019977323589841087\n",
      "Epoch:\t 37 Val Loss:\t 0.019988816263109825\n",
      "Epoch:\t 38 Val Loss:\t 0.01998847972918399\n",
      "Epoch:\t 39 Val Loss:\t 0.01998179009723684\n",
      "Epoch:\t 40 Val Loss:\t 0.019987225615502147\n",
      "Epoch:\t 41 Val Loss:\t 0.01998395431793262\n",
      "Epoch:\t 42 Val Loss:\t 0.01999064162130307\n",
      "Epoch:\t 43 Val Loss:\t 0.019985437377783546\n",
      "Epoch:\t 44 Val Loss:\t 0.01999091303805176\n",
      "Epoch:\t 45 Val Loss:\t 0.019984748198537808\n",
      "Epoch:\t 46 Val Loss:\t 0.01997557201477344\n",
      "Epoch:\t 47 Val Loss:\t 0.01997727897284132\n",
      "Epoch:\t 48 Val Loss:\t 0.019980999674903174\n",
      "Epoch:\t 49 Val Loss:\t 0.01998770849274399\n",
      "Epoch:\t 50 Val Loss:\t 0.01998460470324191\n",
      "Epoch:\t 51 Val Loss:\t 0.019974021972667858\n",
      "Epoch:\t 52 Val Loss:\t 0.01998399390779042\n",
      "Epoch:\t 53 Val Loss:\t 0.01998771254180807\n",
      "Epoch:\t 54 Val Loss:\t 0.01999036912026356\n",
      "Epoch:\t 55 Val Loss:\t 0.019978094147112883\n",
      "Epoch:\t 56 Val Loss:\t 0.019983559078253152\n",
      "Epoch:\t 57 Val Loss:\t 0.0199770927877834\n",
      "Epoch:\t 58 Val Loss:\t 0.01997926984402852\n",
      "Epoch:\t 59 Val Loss:\t 0.019982604474776268\n",
      "Epoch:\t 60 Val Loss:\t 0.019987876143239467\n",
      "Epoch:\t 61 Val Loss:\t 0.019969713939294365\n",
      "Epoch:\t 62 Val Loss:\t 0.019986789190068244\n",
      "Epoch:\t 63 Val Loss:\t 0.019973461322964223\n",
      "Epoch:\t 64 Val Loss:\t 0.019980404589506805\n",
      "Epoch:\t 65 Val Loss:\t 0.019982763721207098\n",
      "Epoch:\t 66 Val Loss:\t 0.019975478193888604\n",
      "Epoch:\t 67 Val Loss:\t 0.01998337508204652\n",
      "Epoch:\t 68 Val Loss:\t 0.01998466993798299\n",
      "Epoch:\t 69 Val Loss:\t 0.019994828322479632\n",
      "Epoch:\t 70 Val Loss:\t 0.01998718096769252\n"
     ]
    },
    {
     "name": "stderr",
     "output_type": "stream",
     "text": [
      "[I 2025-09-18 02:08:32,270] Trial 2 finished with value: 0.019969713939294365 and parameters: {'lr': 0.0001, 'weight_decay': 0.0001, 'scheduler_factor': 0.3, 'scheduler_patience': 5, 'batch_size': 32, 'dropout': 0.05, 'hidden_dims': 128}. Best is trial 2 with value: 0.019969713939294365.\n"
     ]
    },
    {
     "name": "stdout",
     "output_type": "stream",
     "text": [
      "Epoch:\t 71 Val Loss:\t 0.019985123787202845\n",
      "Epoch:\t 0 Val Loss:\t 0.02026159609913895\n",
      "Epoch:\t 1 Val Loss:\t 0.020015144795265852\n",
      "Epoch:\t 2 Val Loss:\t 0.02000497387277824\n",
      "Epoch:\t 3 Val Loss:\t 0.019978589252355274\n",
      "Epoch:\t 4 Val Loss:\t 0.020004274172235974\n",
      "Epoch:\t 5 Val Loss:\t 0.01998774960552771\n",
      "Epoch:\t 6 Val Loss:\t 0.01996766976597035\n",
      "Epoch:\t 7 Val Loss:\t 0.01997682017512572\n",
      "Epoch:\t 8 Val Loss:\t 0.019971322534185335\n",
      "Epoch:\t 9 Val Loss:\t 0.019958432121672604\n",
      "Epoch:\t 10 Val Loss:\t 0.019952372853761485\n",
      "Epoch:\t 11 Val Loss:\t 0.019952758040778593\n",
      "Epoch:\t 12 Val Loss:\t 0.019942958191149607\n",
      "Epoch:\t 13 Val Loss:\t 0.019946362254076307\n",
      "Epoch:\t 14 Val Loss:\t 0.019934407431573903\n",
      "Epoch:\t 15 Val Loss:\t 0.0199319535917189\n",
      "Epoch:\t 16 Val Loss:\t 0.0199349025346542\n",
      "Epoch:\t 17 Val Loss:\t 0.019930526421222138\n",
      "Epoch:\t 18 Val Loss:\t 0.019923985375224402\n",
      "Epoch:\t 19 Val Loss:\t 0.01992508355750812\n",
      "Epoch:\t 20 Val Loss:\t 0.019923686545538957\n",
      "Epoch:\t 21 Val Loss:\t 0.019924960488337834\n",
      "Epoch:\t 22 Val Loss:\t 0.019923822289452744\n",
      "Epoch:\t 23 Val Loss:\t 0.01992616784616708\n",
      "Epoch:\t 24 Val Loss:\t 0.01992708640589281\n",
      "Epoch:\t 25 Val Loss:\t 0.019928463872519953\n",
      "Epoch:\t 26 Val Loss:\t 0.019927348636709113\n",
      "Epoch:\t 27 Val Loss:\t 0.019919627454743714\n",
      "Epoch:\t 28 Val Loss:\t 0.019928323491992677\n",
      "Epoch:\t 29 Val Loss:\t 0.019927013161128958\n",
      "Epoch:\t 30 Val Loss:\t 0.019921669400298728\n",
      "Epoch:\t 31 Val Loss:\t 0.01992668281079584\n",
      "Epoch:\t 32 Val Loss:\t 0.0199260862681472\n",
      "Epoch:\t 33 Val Loss:\t 0.019921910731760795\n",
      "Epoch:\t 34 Val Loss:\t 0.019923472257025076\n",
      "Epoch:\t 35 Val Loss:\t 0.019927283943032396\n",
      "Epoch:\t 36 Val Loss:\t 0.019923453437606573\n"
     ]
    },
    {
     "name": "stderr",
     "output_type": "stream",
     "text": [
      "[I 2025-09-18 02:13:04,014] Trial 3 finished with value: 0.019919627454743714 and parameters: {'lr': 0.0001, 'weight_decay': 1e-06, 'scheduler_factor': 0.8, 'scheduler_patience': 10, 'batch_size': 64, 'dropout': 0.15, 'hidden_dims': 256}. Best is trial 3 with value: 0.019919627454743714.\n"
     ]
    },
    {
     "name": "stdout",
     "output_type": "stream",
     "text": [
      "Epoch:\t 37 Val Loss:\t 0.019924205768955046\n",
      "Epoch:\t 0 Val Loss:\t 0.02621263101722913\n",
      "Epoch:\t 1 Val Loss:\t 0.023273579804394318\n",
      "Epoch:\t 2 Val Loss:\t 0.0218818418441629\n",
      "Epoch:\t 3 Val Loss:\t 0.02100930991677164\n",
      "Epoch:\t 4 Val Loss:\t 0.020640258939457853\n",
      "Epoch:\t 5 Val Loss:\t 0.02044789005099032\n",
      "Epoch:\t 6 Val Loss:\t 0.02031267531544783\n",
      "Epoch:\t 7 Val Loss:\t 0.020235707224479125\n",
      "Epoch:\t 8 Val Loss:\t 0.020168752343033333\n",
      "Epoch:\t 9 Val Loss:\t 0.020134848370624882\n",
      "Epoch:\t 10 Val Loss:\t 0.020105671672689937\n",
      "Epoch:\t 11 Val Loss:\t 0.020076990771867892\n",
      "Epoch:\t 12 Val Loss:\t 0.020077667285018513\n",
      "Epoch:\t 13 Val Loss:\t 0.020069221657329498\n",
      "Epoch:\t 14 Val Loss:\t 0.020042306734373315\n",
      "Epoch:\t 15 Val Loss:\t 0.02004172825603138\n",
      "Epoch:\t 16 Val Loss:\t 0.020031868136913294\n",
      "Epoch:\t 17 Val Loss:\t 0.020033290750253566\n",
      "Epoch:\t 18 Val Loss:\t 0.020019672668333047\n",
      "Epoch:\t 19 Val Loss:\t 0.020029862744282895\n",
      "Epoch:\t 20 Val Loss:\t 0.02000612653986493\n",
      "Epoch:\t 21 Val Loss:\t 0.02000939392215003\n",
      "Epoch:\t 22 Val Loss:\t 0.019992343347910977\n",
      "Epoch:\t 23 Val Loss:\t 0.01998969086662618\n",
      "Epoch:\t 24 Val Loss:\t 0.019983239637312678\n",
      "Epoch:\t 25 Val Loss:\t 0.01997782681645416\n",
      "Epoch:\t 26 Val Loss:\t 0.019981200878686222\n",
      "Epoch:\t 27 Val Loss:\t 0.019975979035169976\n",
      "Epoch:\t 28 Val Loss:\t 0.019978732688463813\n",
      "Epoch:\t 29 Val Loss:\t 0.019978090842890657\n",
      "Epoch:\t 30 Val Loss:\t 0.019976389239251924\n",
      "Epoch:\t 31 Val Loss:\t 0.019988848689945715\n",
      "Epoch:\t 32 Val Loss:\t 0.01998103489894993\n",
      "Epoch:\t 33 Val Loss:\t 0.019976370091735453\n",
      "Epoch:\t 34 Val Loss:\t 0.019980102513705446\n",
      "Epoch:\t 35 Val Loss:\t 0.01998390639454853\n",
      "Epoch:\t 36 Val Loss:\t 0.019980575361797717\n"
     ]
    },
    {
     "name": "stderr",
     "output_type": "stream",
     "text": [
      "[I 2025-09-18 02:17:32,424] Trial 4 finished with value: 0.019975979035169976 and parameters: {'lr': 1e-05, 'weight_decay': 1e-06, 'scheduler_factor': 0.5, 'scheduler_patience': 1, 'batch_size': 64, 'dropout': 0.1, 'hidden_dims': 64}. Best is trial 3 with value: 0.019919627454743714.\n"
     ]
    },
    {
     "name": "stdout",
     "output_type": "stream",
     "text": [
      "Epoch:\t 37 Val Loss:\t 0.019984137991176258\n"
     ]
    },
    {
     "name": "stderr",
     "output_type": "stream",
     "text": [
      "[I 2025-09-18 02:17:42,890] Trial 5 pruned. \n"
     ]
    },
    {
     "name": "stdout",
     "output_type": "stream",
     "text": [
      "Epoch:\t 0 Val Loss:\t 0.03333649661087118\n"
     ]
    },
    {
     "name": "stderr",
     "output_type": "stream",
     "text": [
      "[I 2025-09-18 02:18:04,174] Trial 6 pruned. \n"
     ]
    },
    {
     "name": "stdout",
     "output_type": "stream",
     "text": [
      "Epoch:\t 0 Val Loss:\t 0.020280926229699243\n",
      "Epoch:\t 0 Val Loss:\t 0.020088005256514215\n",
      "Epoch:\t 1 Val Loss:\t 0.020049071597845056\n",
      "Epoch:\t 2 Val Loss:\t 0.02000883193470018\n",
      "Epoch:\t 3 Val Loss:\t 0.019997027221807212\n",
      "Epoch:\t 4 Val Loss:\t 0.020010500167344892\n",
      "Epoch:\t 5 Val Loss:\t 0.020008953153913798\n",
      "Epoch:\t 6 Val Loss:\t 0.020012422542759152\n",
      "Epoch:\t 7 Val Loss:\t 0.01999631973286701\n",
      "Epoch:\t 8 Val Loss:\t 0.020004580200238282\n",
      "Epoch:\t 9 Val Loss:\t 0.0200139383503864\n",
      "Epoch:\t 10 Val Loss:\t 0.01999612293357766\n",
      "Epoch:\t 11 Val Loss:\t 0.020006387442523657\n",
      "Epoch:\t 12 Val Loss:\t 0.019993125071185967\n",
      "Epoch:\t 13 Val Loss:\t 0.019999291297308236\n",
      "Epoch:\t 14 Val Loss:\t 0.02000867645147928\n",
      "Epoch:\t 15 Val Loss:\t 0.020011030917250833\n",
      "Epoch:\t 16 Val Loss:\t 0.02000430626578109\n",
      "Epoch:\t 17 Val Loss:\t 0.01999807802223882\n",
      "Epoch:\t 18 Val Loss:\t 0.020008530905253664\n",
      "Epoch:\t 19 Val Loss:\t 0.020007887525960458\n",
      "Epoch:\t 20 Val Loss:\t 0.020000087612763395\n",
      "Epoch:\t 21 Val Loss:\t 0.019997501117718773\n"
     ]
    },
    {
     "name": "stderr",
     "output_type": "stream",
     "text": [
      "[I 2025-09-18 02:20:17,696] Trial 7 finished with value: 0.019993125071185967 and parameters: {'lr': 0.001, 'weight_decay': 1e-05, 'scheduler_factor': 0.5, 'scheduler_patience': 20, 'batch_size': 256, 'dropout': 0.1, 'hidden_dims': 64}. Best is trial 3 with value: 0.019919627454743714.\n"
     ]
    },
    {
     "name": "stdout",
     "output_type": "stream",
     "text": [
      "Epoch:\t 22 Val Loss:\t 0.020004312906327634\n"
     ]
    },
    {
     "name": "stderr",
     "output_type": "stream",
     "text": [
      "[I 2025-09-18 02:20:24,788] Trial 8 pruned. \n"
     ]
    },
    {
     "name": "stdout",
     "output_type": "stream",
     "text": [
      "Epoch:\t 0 Val Loss:\t 0.02030629663794662\n"
     ]
    },
    {
     "name": "stderr",
     "output_type": "stream",
     "text": [
      "[I 2025-09-18 02:20:31,915] Trial 9 pruned. \n"
     ]
    },
    {
     "name": "stdout",
     "output_type": "stream",
     "text": [
      "Epoch:\t 0 Val Loss:\t 0.07497584157327684\n"
     ]
    },
    {
     "name": "stderr",
     "output_type": "stream",
     "text": [
      "[I 2025-09-18 02:20:38,017] Trial 10 pruned. \n"
     ]
    },
    {
     "name": "stdout",
     "output_type": "stream",
     "text": [
      "Epoch:\t 0 Val Loss:\t 0.02060065610154719\n",
      "Epoch:\t 0 Val Loss:\t 0.020055478739357775\n",
      "Epoch:\t 1 Val Loss:\t 0.02001270529663145\n",
      "Epoch:\t 2 Val Loss:\t 0.020002165793060356\n",
      "Epoch:\t 3 Val Loss:\t 0.01999866376846735\n",
      "Epoch:\t 4 Val Loss:\t 0.019993486337122682\n",
      "Epoch:\t 5 Val Loss:\t 0.019998039702626653\n",
      "Epoch:\t 6 Val Loss:\t 0.01999475582126227\n",
      "Epoch:\t 7 Val Loss:\t 0.019998082005992113\n",
      "Epoch:\t 8 Val Loss:\t 0.01998890781361406\n",
      "Epoch:\t 9 Val Loss:\t 0.019993903951055467\n",
      "Epoch:\t 10 Val Loss:\t 0.019991200216639835\n",
      "Epoch:\t 11 Val Loss:\t 0.019986309171377982\n",
      "Epoch:\t 12 Val Loss:\t 0.019991317929300898\n",
      "Epoch:\t 13 Val Loss:\t 0.01998632383676986\n",
      "Epoch:\t 14 Val Loss:\t 0.019989455357922466\n",
      "Epoch:\t 15 Val Loss:\t 0.01999441507555751\n",
      "Epoch:\t 16 Val Loss:\t 0.01998609470804224\n",
      "Epoch:\t 17 Val Loss:\t 0.019987014521561357\n",
      "Epoch:\t 18 Val Loss:\t 0.019963547301093752\n",
      "Epoch:\t 19 Val Loss:\t 0.01996536819169985\n",
      "Epoch:\t 20 Val Loss:\t 0.019973115442650645\n",
      "Epoch:\t 21 Val Loss:\t 0.019961106631730275\n",
      "Epoch:\t 22 Val Loss:\t 0.019968551005851966\n",
      "Epoch:\t 23 Val Loss:\t 0.0199623045168496\n",
      "Epoch:\t 24 Val Loss:\t 0.01996115447290487\n",
      "Epoch:\t 25 Val Loss:\t 0.01996316870569915\n",
      "Epoch:\t 26 Val Loss:\t 0.019964060866112212\n",
      "Epoch:\t 27 Val Loss:\t 0.01996543462162987\n",
      "Epoch:\t 28 Val Loss:\t 0.019965324415350393\n",
      "Epoch:\t 29 Val Loss:\t 0.019956377623355493\n",
      "Epoch:\t 30 Val Loss:\t 0.019956780069687492\n",
      "Epoch:\t 31 Val Loss:\t 0.019956129452708964\n",
      "Epoch:\t 32 Val Loss:\t 0.019962211669136656\n",
      "Epoch:\t 33 Val Loss:\t 0.019957059345940546\n",
      "Epoch:\t 34 Val Loss:\t 0.019957538804394163\n",
      "Epoch:\t 35 Val Loss:\t 0.019962230686735524\n",
      "Epoch:\t 36 Val Loss:\t 0.01995497418995301\n",
      "Epoch:\t 37 Val Loss:\t 0.019956033586067887\n",
      "Epoch:\t 38 Val Loss:\t 0.01995884546509882\n",
      "Epoch:\t 39 Val Loss:\t 0.019960326698187016\n",
      "Epoch:\t 40 Val Loss:\t 0.019957716601480425\n",
      "Epoch:\t 41 Val Loss:\t 0.019959523785444824\n",
      "Epoch:\t 42 Val Loss:\t 0.01996267786532982\n",
      "Epoch:\t 43 Val Loss:\t 0.019962462543631636\n",
      "Epoch:\t 44 Val Loss:\t 0.019958549375588663\n",
      "Epoch:\t 45 Val Loss:\t 0.01996133506017574\n"
     ]
    },
    {
     "name": "stderr",
     "output_type": "stream",
     "text": [
      "[I 2025-09-18 02:37:27,717] Trial 11 finished with value: 0.01995497418995301 and parameters: {'lr': 0.0001, 'weight_decay': 1e-05, 'scheduler_factor': 0.3, 'scheduler_patience': 5, 'batch_size': 16, 'dropout': 0.05, 'hidden_dims': 512}. Best is trial 3 with value: 0.019919627454743714.\n"
     ]
    },
    {
     "name": "stdout",
     "output_type": "stream",
     "text": [
      "Epoch:\t 46 Val Loss:\t 0.01996403027838751\n",
      "Epoch:\t 0 Val Loss:\t 0.020072239992906898\n",
      "Epoch:\t 1 Val Loss:\t 0.020000806100878378\n",
      "Epoch:\t 2 Val Loss:\t 0.019991176679295897\n",
      "Epoch:\t 3 Val Loss:\t 0.020006314560854218\n",
      "Epoch:\t 4 Val Loss:\t 0.019987517144181344\n",
      "Epoch:\t 5 Val Loss:\t 0.019990815892388637\n",
      "Epoch:\t 6 Val Loss:\t 0.019995508905341824\n",
      "Epoch:\t 7 Val Loss:\t 0.020000889457694144\n",
      "Epoch:\t 8 Val Loss:\t 0.019982962722917236\n",
      "Epoch:\t 9 Val Loss:\t 0.019988076734207553\n",
      "Epoch:\t 10 Val Loss:\t 0.019995938106154246\n",
      "Epoch:\t 11 Val Loss:\t 0.01998775937249534\n",
      "Epoch:\t 12 Val Loss:\t 0.019992622723307065\n",
      "Epoch:\t 13 Val Loss:\t 0.019983807579088235\n",
      "Epoch:\t 14 Val Loss:\t 0.019987331851792623\n",
      "Epoch:\t 15 Val Loss:\t 0.019983049460624458\n",
      "Epoch:\t 16 Val Loss:\t 0.019994345780591193\n",
      "Epoch:\t 17 Val Loss:\t 0.019985532304997604\n"
     ]
    },
    {
     "name": "stderr",
     "output_type": "stream",
     "text": [
      "[I 2025-09-18 02:44:11,771] Trial 12 finished with value: 0.019982962722917236 and parameters: {'lr': 0.0001, 'weight_decay': 1e-05, 'scheduler_factor': 0.3, 'scheduler_patience': 10, 'batch_size': 16, 'dropout': 0.15, 'hidden_dims': 512}. Best is trial 3 with value: 0.019919627454743714.\n"
     ]
    },
    {
     "name": "stdout",
     "output_type": "stream",
     "text": [
      "Epoch:\t 18 Val Loss:\t 0.019987620878491773\n",
      "Epoch:\t 0 Val Loss:\t 0.020047845337693937\n",
      "Epoch:\t 1 Val Loss:\t 0.020003160204531387\n",
      "Epoch:\t 2 Val Loss:\t 0.019995634872766274\n",
      "Epoch:\t 3 Val Loss:\t 0.01999263943333909\n",
      "Epoch:\t 4 Val Loss:\t 0.019984508282251644\n",
      "Epoch:\t 5 Val Loss:\t 0.019990614683341776\n",
      "Epoch:\t 6 Val Loss:\t 0.01998163423267618\n",
      "Epoch:\t 7 Val Loss:\t 0.019980890592069717\n",
      "Epoch:\t 8 Val Loss:\t 0.01997956162366957\n",
      "Epoch:\t 9 Val Loss:\t 0.019985735692309742\n",
      "Epoch:\t 10 Val Loss:\t 0.01998070516429942\n",
      "Epoch:\t 11 Val Loss:\t 0.019981641894976268\n",
      "Epoch:\t 12 Val Loss:\t 0.01998523527673375\n",
      "Epoch:\t 13 Val Loss:\t 0.019983951808163515\n",
      "Epoch:\t 14 Val Loss:\t 0.01998355577259512\n",
      "Epoch:\t 15 Val Loss:\t 0.019981301811046927\n",
      "Epoch:\t 16 Val Loss:\t 0.019980615008680237\n",
      "Epoch:\t 17 Val Loss:\t 0.019991246627255394\n"
     ]
    },
    {
     "name": "stderr",
     "output_type": "stream",
     "text": [
      "[I 2025-09-18 02:51:02,012] Trial 13 finished with value: 0.01997956162366957 and parameters: {'lr': 0.0001, 'weight_decay': 1e-05, 'scheduler_factor': 0.3, 'scheduler_patience': 10, 'batch_size': 16, 'dropout': 0.05, 'hidden_dims': 512}. Best is trial 3 with value: 0.019919627454743714.\n"
     ]
    },
    {
     "name": "stdout",
     "output_type": "stream",
     "text": [
      "Epoch:\t 18 Val Loss:\t 0.019986120109922883\n"
     ]
    },
    {
     "name": "stderr",
     "output_type": "stream",
     "text": [
      "[I 2025-09-18 02:51:16,386] Trial 14 pruned. \n"
     ]
    },
    {
     "name": "stdout",
     "output_type": "stream",
     "text": [
      "Epoch:\t 0 Val Loss:\t 0.02019273782554021\n"
     ]
    },
    {
     "name": "stderr",
     "output_type": "stream",
     "text": [
      "[I 2025-09-18 02:51:21,926] Trial 15 pruned. \n"
     ]
    },
    {
     "name": "stdout",
     "output_type": "stream",
     "text": [
      "Epoch:\t 0 Val Loss:\t 0.020462024991595468\n"
     ]
    },
    {
     "name": "stderr",
     "output_type": "stream",
     "text": [
      "[I 2025-09-18 02:51:27,724] Trial 16 pruned. \n"
     ]
    },
    {
     "name": "stdout",
     "output_type": "stream",
     "text": [
      "Epoch:\t 0 Val Loss:\t 0.020439823003405754\n"
     ]
    },
    {
     "name": "stderr",
     "output_type": "stream",
     "text": [
      "[I 2025-09-18 02:51:49,986] Trial 17 pruned. \n"
     ]
    },
    {
     "name": "stdout",
     "output_type": "stream",
     "text": [
      "Epoch:\t 0 Val Loss:\t 0.020269653671939263\n"
     ]
    },
    {
     "name": "stderr",
     "output_type": "stream",
     "text": [
      "[I 2025-09-18 02:52:05,130] Trial 18 pruned. \n"
     ]
    },
    {
     "name": "stdout",
     "output_type": "stream",
     "text": [
      "Epoch:\t 0 Val Loss:\t 0.027880396217812513\n"
     ]
    },
    {
     "name": "stderr",
     "output_type": "stream",
     "text": [
      "[I 2025-09-18 02:52:10,950] Trial 19 pruned. \n"
     ]
    },
    {
     "name": "stdout",
     "output_type": "stream",
     "text": [
      "Epoch:\t 0 Val Loss:\t 0.020152038744240826\n"
     ]
    },
    {
     "name": "stderr",
     "output_type": "stream",
     "text": [
      "[I 2025-09-18 02:52:16,754] Trial 20 pruned. \n"
     ]
    },
    {
     "name": "stdout",
     "output_type": "stream",
     "text": [
      "Epoch:\t 0 Val Loss:\t 0.020878821147909\n",
      "Epoch:\t 0 Val Loss:\t 0.02003316091561665\n",
      "Epoch:\t 1 Val Loss:\t 0.020047696353246047\n"
     ]
    },
    {
     "name": "stderr",
     "output_type": "stream",
     "text": [
      "[I 2025-09-18 02:52:47,637] Trial 21 pruned. \n"
     ]
    },
    {
     "name": "stdout",
     "output_type": "stream",
     "text": [
      "Epoch:\t 2 Val Loss:\t 0.02006535094476765\n",
      "Epoch:\t 0 Val Loss:\t 0.020068206447887423\n"
     ]
    },
    {
     "name": "stderr",
     "output_type": "stream",
     "text": [
      "[I 2025-09-18 02:53:08,225] Trial 22 pruned. \n"
     ]
    },
    {
     "name": "stdout",
     "output_type": "stream",
     "text": [
      "Epoch:\t 1 Val Loss:\t 0.02006435650333252\n",
      "Epoch:\t 0 Val Loss:\t 0.020038069508271427\n",
      "Epoch:\t 1 Val Loss:\t 0.02005836035914663\n"
     ]
    },
    {
     "name": "stderr",
     "output_type": "stream",
     "text": [
      "[I 2025-09-18 02:53:39,065] Trial 23 pruned. \n"
     ]
    },
    {
     "name": "stdout",
     "output_type": "stream",
     "text": [
      "Epoch:\t 2 Val Loss:\t 0.020049008928094487\n",
      "Epoch:\t 0 Val Loss:\t 0.02003745879606061\n",
      "Epoch:\t 1 Val Loss:\t 0.02006673170021209\n"
     ]
    },
    {
     "name": "stderr",
     "output_type": "stream",
     "text": [
      "[I 2025-09-18 02:54:09,970] Trial 24 pruned. \n"
     ]
    },
    {
     "name": "stdout",
     "output_type": "stream",
     "text": [
      "Epoch:\t 2 Val Loss:\t 0.020058064421263722\n"
     ]
    },
    {
     "name": "stderr",
     "output_type": "stream",
     "text": [
      "[I 2025-09-18 02:54:17,373] Trial 25 pruned. \n"
     ]
    },
    {
     "name": "stdout",
     "output_type": "stream",
     "text": [
      "Epoch:\t 0 Val Loss:\t 0.020158871996432143\n"
     ]
    },
    {
     "name": "stderr",
     "output_type": "stream",
     "text": [
      "[I 2025-09-18 02:54:32,808] Trial 26 pruned. \n"
     ]
    },
    {
     "name": "stdout",
     "output_type": "stream",
     "text": [
      "Epoch:\t 0 Val Loss:\t 0.02101975001152089\n"
     ]
    },
    {
     "name": "stderr",
     "output_type": "stream",
     "text": [
      "[I 2025-09-18 02:54:42,861] Trial 27 pruned. \n"
     ]
    },
    {
     "name": "stdout",
     "output_type": "stream",
     "text": [
      "Epoch:\t 0 Val Loss:\t 0.048021438912646895\n"
     ]
    },
    {
     "name": "stderr",
     "output_type": "stream",
     "text": [
      "[I 2025-09-18 02:55:04,260] Trial 28 pruned. \n"
     ]
    },
    {
     "name": "stdout",
     "output_type": "stream",
     "text": [
      "Epoch:\t 0 Val Loss:\t 0.020184779282857637\n"
     ]
    },
    {
     "name": "stderr",
     "output_type": "stream",
     "text": [
      "[I 2025-09-18 02:55:11,527] Trial 29 pruned. \n"
     ]
    },
    {
     "name": "stdout",
     "output_type": "stream",
     "text": [
      "Epoch:\t 0 Val Loss:\t 0.020290097246596236\n"
     ]
    },
    {
     "name": "stderr",
     "output_type": "stream",
     "text": [
      "[I 2025-09-18 02:55:18,451] Trial 30 pruned. \n"
     ]
    },
    {
     "name": "stdout",
     "output_type": "stream",
     "text": [
      "Epoch:\t 0 Val Loss:\t 0.020324509955177247\n"
     ]
    },
    {
     "name": "stderr",
     "output_type": "stream",
     "text": [
      "[I 2025-09-18 02:55:25,618] Trial 31 pruned. \n"
     ]
    },
    {
     "name": "stdout",
     "output_type": "stream",
     "text": [
      "Epoch:\t 0 Val Loss:\t 0.02624898680090662\n"
     ]
    },
    {
     "name": "stderr",
     "output_type": "stream",
     "text": [
      "[I 2025-09-18 02:55:32,766] Trial 32 pruned. \n"
     ]
    },
    {
     "name": "stdout",
     "output_type": "stream",
     "text": [
      "Epoch:\t 0 Val Loss:\t 0.025851413741647265\n"
     ]
    },
    {
     "name": "stderr",
     "output_type": "stream",
     "text": [
      "[I 2025-09-18 02:55:39,891] Trial 33 pruned. \n"
     ]
    },
    {
     "name": "stdout",
     "output_type": "stream",
     "text": [
      "Epoch:\t 0 Val Loss:\t 0.026405708773523242\n"
     ]
    },
    {
     "name": "stderr",
     "output_type": "stream",
     "text": [
      "[I 2025-09-18 02:55:51,637] Trial 34 pruned. \n"
     ]
    },
    {
     "name": "stdout",
     "output_type": "stream",
     "text": [
      "Epoch:\t 0 Val Loss:\t 0.020394947701979707\n"
     ]
    },
    {
     "name": "stderr",
     "output_type": "stream",
     "text": [
      "[I 2025-09-18 02:55:58,774] Trial 35 pruned. \n"
     ]
    },
    {
     "name": "stdout",
     "output_type": "stream",
     "text": [
      "Epoch:\t 0 Val Loss:\t 0.026029240603770064\n"
     ]
    },
    {
     "name": "stderr",
     "output_type": "stream",
     "text": [
      "[I 2025-09-18 02:56:04,317] Trial 36 pruned. \n"
     ]
    },
    {
     "name": "stdout",
     "output_type": "stream",
     "text": [
      "Epoch:\t 0 Val Loss:\t 0.04168390078080255\n"
     ]
    },
    {
     "name": "stderr",
     "output_type": "stream",
     "text": [
      "[I 2025-09-18 02:56:25,749] Trial 37 pruned. \n"
     ]
    },
    {
     "name": "stdout",
     "output_type": "stream",
     "text": [
      "Epoch:\t 0 Val Loss:\t 0.02386753267170218\n"
     ]
    },
    {
     "name": "stderr",
     "output_type": "stream",
     "text": [
      "[I 2025-09-18 02:56:31,769] Trial 38 pruned. \n"
     ]
    },
    {
     "name": "stdout",
     "output_type": "stream",
     "text": [
      "Epoch:\t 0 Val Loss:\t 0.02054618162283637\n",
      "Epoch:\t 0 Val Loss:\t 0.020084442518915262\n"
     ]
    },
    {
     "name": "stderr",
     "output_type": "stream",
     "text": [
      "[I 2025-09-18 02:56:46,030] Trial 39 pruned. \n"
     ]
    },
    {
     "name": "stdout",
     "output_type": "stream",
     "text": [
      "Epoch:\t 1 Val Loss:\t 0.02007907448856466\n",
      "Epoch:\t 0 Val Loss:\t 0.02005929896744207\n",
      "Epoch:\t 1 Val Loss:\t 0.019969819968450625\n",
      "Epoch:\t 2 Val Loss:\t 0.019964733844794857\n",
      "Epoch:\t 3 Val Loss:\t 0.019951209198635935\n",
      "Epoch:\t 4 Val Loss:\t 0.01994445269172811\n",
      "Epoch:\t 5 Val Loss:\t 0.01993275072546681\n",
      "Epoch:\t 6 Val Loss:\t 0.019936048680861296\n",
      "Epoch:\t 7 Val Loss:\t 0.019924577023159418\n",
      "Epoch:\t 8 Val Loss:\t 0.01993084653781741\n",
      "Epoch:\t 9 Val Loss:\t 0.019926826224742903\n",
      "Epoch:\t 10 Val Loss:\t 0.019924981478229815\n",
      "Epoch:\t 11 Val Loss:\t 0.019921892996362853\n",
      "Epoch:\t 12 Val Loss:\t 0.01992032007036976\n",
      "Epoch:\t 13 Val Loss:\t 0.01992359320139615\n",
      "Epoch:\t 14 Val Loss:\t 0.019922407746403647\n",
      "Epoch:\t 15 Val Loss:\t 0.01991837014629572\n",
      "Epoch:\t 16 Val Loss:\t 0.019918565543501427\n",
      "Epoch:\t 17 Val Loss:\t 0.01992146680872072\n",
      "Epoch:\t 18 Val Loss:\t 0.019919516680869196\n",
      "Epoch:\t 19 Val Loss:\t 0.019923119934668165\n",
      "Epoch:\t 20 Val Loss:\t 0.019922408387735183\n",
      "Epoch:\t 21 Val Loss:\t 0.01991970794252701\n",
      "Epoch:\t 22 Val Loss:\t 0.019904656291658787\n",
      "Epoch:\t 23 Val Loss:\t 0.019910729602649505\n",
      "Epoch:\t 24 Val Loss:\t 0.01990818837279204\n",
      "Epoch:\t 25 Val Loss:\t 0.019911097171021817\n",
      "Epoch:\t 26 Val Loss:\t 0.019911643674946324\n",
      "Epoch:\t 27 Val Loss:\t 0.019916621773561557\n",
      "Epoch:\t 28 Val Loss:\t 0.01991243072089783\n",
      "Epoch:\t 29 Val Loss:\t 0.019916981487581965\n",
      "Epoch:\t 30 Val Loss:\t 0.01991950354668043\n",
      "Epoch:\t 31 Val Loss:\t 0.019914924617893497\n"
     ]
    },
    {
     "name": "stderr",
     "output_type": "stream",
     "text": [
      "[I 2025-09-18 03:02:22,790] Trial 40 finished with value: 0.019904656291658787 and parameters: {'lr': 0.0001, 'weight_decay': 1e-06, 'scheduler_factor': 0.1, 'scheduler_patience': 5, 'batch_size': 32, 'dropout': 0.2, 'hidden_dims': 128}. Best is trial 40 with value: 0.019904656291658787.\n"
     ]
    },
    {
     "name": "stdout",
     "output_type": "stream",
     "text": [
      "Epoch:\t 32 Val Loss:\t 0.019912708422587456\n",
      "Epoch:\t 0 Val Loss:\t 0.0200788890269979\n",
      "Epoch:\t 1 Val Loss:\t 0.01997825617507939\n",
      "Epoch:\t 2 Val Loss:\t 0.01995642985381052\n",
      "Epoch:\t 3 Val Loss:\t 0.01994711219955255\n",
      "Epoch:\t 4 Val Loss:\t 0.019936087586145654\n",
      "Epoch:\t 5 Val Loss:\t 0.019929363442832432\n",
      "Epoch:\t 6 Val Loss:\t 0.019927762061232097\n",
      "Epoch:\t 7 Val Loss:\t 0.019922034450370475\n",
      "Epoch:\t 8 Val Loss:\t 0.019921954143392404\n",
      "Epoch:\t 9 Val Loss:\t 0.019922308497308163\n",
      "Epoch:\t 10 Val Loss:\t 0.019923067344130987\n",
      "Epoch:\t 11 Val Loss:\t 0.019917364788711398\n",
      "Epoch:\t 12 Val Loss:\t 0.01991928885709786\n",
      "Epoch:\t 13 Val Loss:\t 0.019917613084552872\n",
      "Epoch:\t 14 Val Loss:\t 0.01992401246168476\n",
      "Epoch:\t 15 Val Loss:\t 0.019916988099539828\n",
      "Epoch:\t 16 Val Loss:\t 0.01991898391706068\n",
      "Epoch:\t 17 Val Loss:\t 0.019914780248300287\n",
      "Epoch:\t 18 Val Loss:\t 0.019920798001548213\n",
      "Epoch:\t 19 Val Loss:\t 0.019917453491376\n",
      "Epoch:\t 20 Val Loss:\t 0.019916026747352548\n",
      "Epoch:\t 21 Val Loss:\t 0.01992098941806611\n",
      "Epoch:\t 22 Val Loss:\t 0.019920839207302032\n",
      "Epoch:\t 23 Val Loss:\t 0.019920063192090772\n",
      "Epoch:\t 24 Val Loss:\t 0.019908270761057154\n",
      "Epoch:\t 25 Val Loss:\t 0.019906413448445858\n",
      "Epoch:\t 26 Val Loss:\t 0.019907351660537326\n",
      "Epoch:\t 27 Val Loss:\t 0.019911886649600863\n",
      "Epoch:\t 28 Val Loss:\t 0.019906586124191467\n",
      "Epoch:\t 29 Val Loss:\t 0.019907322527113188\n",
      "Epoch:\t 30 Val Loss:\t 0.01991341641287358\n",
      "Epoch:\t 31 Val Loss:\t 0.019912254630663127\n",
      "Epoch:\t 32 Val Loss:\t 0.019909298173095155\n",
      "Epoch:\t 33 Val Loss:\t 0.01990972229863884\n",
      "Epoch:\t 34 Val Loss:\t 0.01990959538634406\n"
     ]
    },
    {
     "name": "stderr",
     "output_type": "stream",
     "text": [
      "[I 2025-09-18 03:08:30,811] Trial 41 finished with value: 0.019906413448445858 and parameters: {'lr': 0.0001, 'weight_decay': 1e-06, 'scheduler_factor': 0.1, 'scheduler_patience': 5, 'batch_size': 32, 'dropout': 0.2, 'hidden_dims': 128}. Best is trial 40 with value: 0.019904656291658787.\n"
     ]
    },
    {
     "name": "stdout",
     "output_type": "stream",
     "text": [
      "Epoch:\t 35 Val Loss:\t 0.019909653715082312\n",
      "Epoch:\t 0 Val Loss:\t 0.02006272013416461\n",
      "Epoch:\t 1 Val Loss:\t 0.01998585670320528\n",
      "Epoch:\t 2 Val Loss:\t 0.019967162860011507\n",
      "Epoch:\t 3 Val Loss:\t 0.019956781372949005\n",
      "Epoch:\t 4 Val Loss:\t 0.019944493906670836\n",
      "Epoch:\t 5 Val Loss:\t 0.019940477441315278\n",
      "Epoch:\t 6 Val Loss:\t 0.019939568193193723\n",
      "Epoch:\t 7 Val Loss:\t 0.019932948139907487\n",
      "Epoch:\t 8 Val Loss:\t 0.019929335074790052\n",
      "Epoch:\t 9 Val Loss:\t 0.019932110735782257\n",
      "Epoch:\t 10 Val Loss:\t 0.019929541804348305\n",
      "Epoch:\t 11 Val Loss:\t 0.01992610251196961\n",
      "Epoch:\t 12 Val Loss:\t 0.019923880481438467\n",
      "Epoch:\t 13 Val Loss:\t 0.0199270524242401\n",
      "Epoch:\t 14 Val Loss:\t 0.019922569370869107\n",
      "Epoch:\t 15 Val Loss:\t 0.019926186978008364\n",
      "Epoch:\t 16 Val Loss:\t 0.01992619079870112\n",
      "Epoch:\t 17 Val Loss:\t 0.019924361482792325\n",
      "Epoch:\t 18 Val Loss:\t 0.01992671026940686\n",
      "Epoch:\t 19 Val Loss:\t 0.019911401207843668\n",
      "Epoch:\t 20 Val Loss:\t 0.019912895751123556\n",
      "Epoch:\t 21 Val Loss:\t 0.019918764912746564\n",
      "Epoch:\t 22 Val Loss:\t 0.019920459344985264\n",
      "Epoch:\t 23 Val Loss:\t 0.01991728513955084\n",
      "Epoch:\t 24 Val Loss:\t 0.01991498644111837\n",
      "Epoch:\t 25 Val Loss:\t 0.019914566081944796\n",
      "Epoch:\t 26 Val Loss:\t 0.01991615045947594\n",
      "Epoch:\t 27 Val Loss:\t 0.019915982602500354\n",
      "Epoch:\t 28 Val Loss:\t 0.019918478439165818\n"
     ]
    },
    {
     "name": "stderr",
     "output_type": "stream",
     "text": [
      "[I 2025-09-18 03:13:35,067] Trial 42 finished with value: 0.019911401207843668 and parameters: {'lr': 0.0001, 'weight_decay': 1e-06, 'scheduler_factor': 0.1, 'scheduler_patience': 5, 'batch_size': 32, 'dropout': 0.2, 'hidden_dims': 128}. Best is trial 40 with value: 0.019904656291658787.\n"
     ]
    },
    {
     "name": "stdout",
     "output_type": "stream",
     "text": [
      "Epoch:\t 29 Val Loss:\t 0.019920972628044358\n",
      "Epoch:\t 0 Val Loss:\t 0.020038017607442667\n",
      "Epoch:\t 1 Val Loss:\t 0.019961443057287004\n",
      "Epoch:\t 2 Val Loss:\t 0.019960623941515602\n",
      "Epoch:\t 3 Val Loss:\t 0.019948785308396062\n",
      "Epoch:\t 4 Val Loss:\t 0.01994029212650074\n",
      "Epoch:\t 5 Val Loss:\t 0.019934943386905428\n",
      "Epoch:\t 6 Val Loss:\t 0.019931937588159334\n",
      "Epoch:\t 7 Val Loss:\t 0.019926425363885773\n",
      "Epoch:\t 8 Val Loss:\t 0.01991966892346238\n",
      "Epoch:\t 9 Val Loss:\t 0.019918350618520726\n",
      "Epoch:\t 10 Val Loss:\t 0.019916349763317694\n",
      "Epoch:\t 11 Val Loss:\t 0.019918598751934788\n",
      "Epoch:\t 12 Val Loss:\t 0.019916375455767073\n",
      "Epoch:\t 13 Val Loss:\t 0.019919082334019716\n",
      "Epoch:\t 14 Val Loss:\t 0.019919894629461313\n",
      "Epoch:\t 15 Val Loss:\t 0.01991620835228172\n",
      "Epoch:\t 16 Val Loss:\t 0.019918475432772226\n",
      "Epoch:\t 17 Val Loss:\t 0.019903000416607097\n",
      "Epoch:\t 18 Val Loss:\t 0.01990724348469064\n",
      "Epoch:\t 19 Val Loss:\t 0.019905297789404853\n",
      "Epoch:\t 20 Val Loss:\t 0.01990566943900241\n",
      "Epoch:\t 21 Val Loss:\t 0.019905377450186675\n",
      "Epoch:\t 22 Val Loss:\t 0.01991250013118557\n",
      "Epoch:\t 23 Val Loss:\t 0.019909471330177245\n",
      "Epoch:\t 24 Val Loss:\t 0.019908535464499763\n",
      "Epoch:\t 25 Val Loss:\t 0.019909985861035623\n",
      "Epoch:\t 26 Val Loss:\t 0.019909821084235134\n"
     ]
    },
    {
     "name": "stderr",
     "output_type": "stream",
     "text": [
      "[I 2025-09-18 03:18:21,944] Trial 43 finished with value: 0.019903000416607097 and parameters: {'lr': 0.0001, 'weight_decay': 1e-06, 'scheduler_factor': 0.1, 'scheduler_patience': 5, 'batch_size': 32, 'dropout': 0.2, 'hidden_dims': 128}. Best is trial 43 with value: 0.019903000416607097.\n"
     ]
    },
    {
     "name": "stdout",
     "output_type": "stream",
     "text": [
      "Epoch:\t 27 Val Loss:\t 0.019910138913874043\n",
      "Epoch:\t 0 Val Loss:\t 0.020067101964447054\n",
      "Epoch:\t 1 Val Loss:\t 0.019992116353573473\n",
      "Epoch:\t 2 Val Loss:\t 0.019978343583459658\n",
      "Epoch:\t 3 Val Loss:\t 0.019964948152497334\n",
      "Epoch:\t 4 Val Loss:\t 0.01994296909919094\n",
      "Epoch:\t 5 Val Loss:\t 0.019942553842832667\n",
      "Epoch:\t 6 Val Loss:\t 0.01992854258522296\n",
      "Epoch:\t 7 Val Loss:\t 0.019930167324479952\n",
      "Epoch:\t 8 Val Loss:\t 0.0199256489470653\n",
      "Epoch:\t 9 Val Loss:\t 0.019929340637861403\n",
      "Epoch:\t 10 Val Loss:\t 0.01992330922638685\n",
      "Epoch:\t 11 Val Loss:\t 0.019922114350063833\n",
      "Epoch:\t 12 Val Loss:\t 0.019923697143860133\n",
      "Epoch:\t 13 Val Loss:\t 0.019917247402608758\n",
      "Epoch:\t 14 Val Loss:\t 0.019927146764838602\n",
      "Epoch:\t 15 Val Loss:\t 0.019923005103081187\n",
      "Epoch:\t 16 Val Loss:\t 0.019921589160345612\n",
      "Epoch:\t 17 Val Loss:\t 0.01993085128713012\n",
      "Epoch:\t 18 Val Loss:\t 0.019926109216086788\n",
      "Epoch:\t 19 Val Loss:\t 0.01992156866854635\n",
      "Epoch:\t 20 Val Loss:\t 0.019909802069417264\n",
      "Epoch:\t 21 Val Loss:\t 0.019907254982984002\n",
      "Epoch:\t 22 Val Loss:\t 0.01991134620116493\n",
      "Epoch:\t 23 Val Loss:\t 0.019913413657283045\n",
      "Epoch:\t 24 Val Loss:\t 0.019912067354828103\n",
      "Epoch:\t 25 Val Loss:\t 0.019917165202986465\n",
      "Epoch:\t 26 Val Loss:\t 0.01991076798497705\n",
      "Epoch:\t 27 Val Loss:\t 0.019923278389772096\n",
      "Epoch:\t 28 Val Loss:\t 0.019914353453109362\n",
      "Epoch:\t 29 Val Loss:\t 0.01991389387812048\n",
      "Epoch:\t 30 Val Loss:\t 0.019917233856000305\n"
     ]
    },
    {
     "name": "stderr",
     "output_type": "stream",
     "text": [
      "[I 2025-09-18 03:23:49,474] Trial 44 finished with value: 0.019907254982984002 and parameters: {'lr': 0.0001, 'weight_decay': 1e-06, 'scheduler_factor': 0.1, 'scheduler_patience': 5, 'batch_size': 32, 'dropout': 0.2, 'hidden_dims': 128}. Best is trial 43 with value: 0.019903000416607097.\n"
     ]
    },
    {
     "name": "stdout",
     "output_type": "stream",
     "text": [
      "Epoch:\t 31 Val Loss:\t 0.019914020146921632\n",
      "Epoch:\t 0 Val Loss:\t 0.02005223884153733\n",
      "Epoch:\t 1 Val Loss:\t 0.019979957967090678\n",
      "Epoch:\t 2 Val Loss:\t 0.01996466009977619\n",
      "Epoch:\t 3 Val Loss:\t 0.01995903103073461\n",
      "Epoch:\t 4 Val Loss:\t 0.019954328619276655\n",
      "Epoch:\t 5 Val Loss:\t 0.019934541997956506\n",
      "Epoch:\t 6 Val Loss:\t 0.019933273312022225\n",
      "Epoch:\t 7 Val Loss:\t 0.019926557888709836\n",
      "Epoch:\t 8 Val Loss:\t 0.019924603966921483\n",
      "Epoch:\t 9 Val Loss:\t 0.01992374055332964\n",
      "Epoch:\t 10 Val Loss:\t 0.019919615803482102\n",
      "Epoch:\t 11 Val Loss:\t 0.019920818324974297\n",
      "Epoch:\t 12 Val Loss:\t 0.019928627347468777\n",
      "Epoch:\t 13 Val Loss:\t 0.019922798298930646\n",
      "Epoch:\t 14 Val Loss:\t 0.019920273450729168\n",
      "Epoch:\t 15 Val Loss:\t 0.019926586128918327\n",
      "Epoch:\t 16 Val Loss:\t 0.01992346967953715\n",
      "Epoch:\t 17 Val Loss:\t 0.019908925136513423\n",
      "Epoch:\t 18 Val Loss:\t 0.01991006607315176\n",
      "Epoch:\t 19 Val Loss:\t 0.01991059835156987\n",
      "Epoch:\t 20 Val Loss:\t 0.019911500503964726\n",
      "Epoch:\t 21 Val Loss:\t 0.019910328008031265\n",
      "Epoch:\t 22 Val Loss:\t 0.01991495474101678\n",
      "Epoch:\t 23 Val Loss:\t 0.019924465042024903\n",
      "Epoch:\t 24 Val Loss:\t 0.01991181660230578\n",
      "Epoch:\t 25 Val Loss:\t 0.019914223743603715\n",
      "Epoch:\t 26 Val Loss:\t 0.019913899137147174\n"
     ]
    },
    {
     "name": "stderr",
     "output_type": "stream",
     "text": [
      "[I 2025-09-18 03:28:36,067] Trial 45 finished with value: 0.019908925136513423 and parameters: {'lr': 0.0001, 'weight_decay': 1e-06, 'scheduler_factor': 0.1, 'scheduler_patience': 5, 'batch_size': 32, 'dropout': 0.2, 'hidden_dims': 128}. Best is trial 43 with value: 0.019903000416607097.\n"
     ]
    },
    {
     "name": "stdout",
     "output_type": "stream",
     "text": [
      "Epoch:\t 27 Val Loss:\t 0.019911554183116915\n"
     ]
    },
    {
     "name": "stderr",
     "output_type": "stream",
     "text": [
      "[I 2025-09-18 03:28:46,635] Trial 46 pruned. \n"
     ]
    },
    {
     "name": "stdout",
     "output_type": "stream",
     "text": [
      "Epoch:\t 0 Val Loss:\t 0.020076629867884253\n"
     ]
    },
    {
     "name": "stderr",
     "output_type": "stream",
     "text": [
      "[I 2025-09-18 03:28:57,042] Trial 47 pruned. \n"
     ]
    },
    {
     "name": "stdout",
     "output_type": "stream",
     "text": [
      "Epoch:\t 0 Val Loss:\t 0.020069515203934938\n"
     ]
    },
    {
     "name": "stderr",
     "output_type": "stream",
     "text": [
      "[I 2025-09-18 03:29:07,186] Trial 48 pruned. \n"
     ]
    },
    {
     "name": "stdout",
     "output_type": "stream",
     "text": [
      "Epoch:\t 0 Val Loss:\t 0.020083315160776286\n"
     ]
    },
    {
     "name": "stderr",
     "output_type": "stream",
     "text": [
      "[I 2025-09-18 03:29:17,510] Trial 49 pruned. \n"
     ]
    },
    {
     "name": "stdout",
     "output_type": "stream",
     "text": [
      "Epoch:\t 0 Val Loss:\t 0.020071292005250152\n",
      "Training model with best parameters on train+validation ...\n"
     ]
    },
    {
     "name": "stderr",
     "output_type": "stream",
     "text": [
      "100%|█████████████████████████████████████████████████████████████████████████████████████████████████████████████████████████████████████| 557340/557340 [05:18<00:00, 1750.82it/s]\n",
      "100%|█████████████████████████████████████████████████████████████████████████████████████████████████████████████████████████████████████| 557340/557340 [01:31<00:00, 6059.33it/s]\n"
     ]
    },
    {
     "name": "stdout",
     "output_type": "stream",
     "text": [
      "Getting test set predictions and saving results ...\n"
     ]
    },
    {
     "name": "stderr",
     "output_type": "stream",
     "text": [
      "100%|██████████████████████████████████████████████████████████████████████████████████████████████████████████████████████████████████████████| 3281/3281 [00:04<00:00, 673.41it/s]\n"
     ]
    }
   ],
   "source": [
    "train_different_featno(\n",
    "        adata_path=\"./data/feature_number/sciplex_hvg_7500.h5ad\",\n",
    "        run_name=\"mlp_hvg_7500\",\n",
    "        res_savename=\"./results/feature_number/mlp_hvg_7500_res.pkl\",\n",
    "        input_dim=7500,\n",
    "        output_dim=7500,\n",
    "    )"
   ]
  },
  {
   "cell_type": "code",
   "execution_count": null,
   "id": "673a6fdd-7a3d-44d1-8bb1-34412adc5944",
   "metadata": {},
   "outputs": [],
   "source": []
  }
 ],
 "metadata": {
  "kernelspec": {
   "display_name": "Python 3 (ipykernel)",
   "language": "python",
   "name": "python3"
  },
  "language_info": {
   "codemirror_mode": {
    "name": "ipython",
    "version": 3
   },
   "file_extension": ".py",
   "mimetype": "text/x-python",
   "name": "python",
   "nbconvert_exporter": "python",
   "pygments_lexer": "ipython3",
   "version": "3.12.7"
  }
 },
 "nbformat": 4,
 "nbformat_minor": 5
}
