{
 "cells": [
  {
   "cell_type": "code",
   "execution_count": 1,
   "id": "dd2388ef-7e1d-40c0-a037-ce25200c743c",
   "metadata": {},
   "outputs": [],
   "source": [
    "import anndata as ad\n",
    "import scanpy as sc"
   ]
  },
  {
   "cell_type": "code",
   "execution_count": 2,
   "id": "c8237ad0-bee6-4452-b340-f13f001075dd",
   "metadata": {},
   "outputs": [],
   "source": [
    "adata_raw = ad.read_h5ad(\"../../data/sciplex3.h5ad\")"
   ]
  },
  {
   "cell_type": "code",
   "execution_count": 3,
   "id": "454dc92a-4e02-4077-ac8b-9305b2738637",
   "metadata": {},
   "outputs": [],
   "source": [
    "adata_qc = ad.read_h5ad(\"../../data/sciplex_qc_ann.h5ad\")"
   ]
  },
  {
   "cell_type": "code",
   "execution_count": null,
   "id": "0eed9812-727b-40e1-a9c0-83c674ad028a",
   "metadata": {},
   "outputs": [],
   "source": [
    "index_raw = list(adata_raw.obs_names)\n",
    "index_qc = list(adata)"
   ]
  }
 ],
 "metadata": {
  "kernelspec": {
   "display_name": "Python 3 (ipykernel)",
   "language": "python",
   "name": "python3"
  },
  "language_info": {
   "codemirror_mode": {
    "name": "ipython",
    "version": 3
   },
   "file_extension": ".py",
   "mimetype": "text/x-python",
   "name": "python",
   "nbconvert_exporter": "python",
   "pygments_lexer": "ipython3",
   "version": "3.12.7"
  }
 },
 "nbformat": 4,
 "nbformat_minor": 5
}
