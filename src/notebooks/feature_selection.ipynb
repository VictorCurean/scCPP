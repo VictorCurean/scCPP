{
 "cells": [
  {
   "cell_type": "code",
   "execution_count": 1,
   "id": "8e5023f0-39c9-4b3f-bdae-3da9b01de877",
   "metadata": {},
   "outputs": [],
   "source": [
    "import pandas as pd\n",
    "import anndata as ad\n",
    "import scanpy as sc\n",
    "import numpy as np\n",
    "import seaborn as sns\n",
    "from scipy.stats import median_abs_deviation"
   ]
  },
  {
   "cell_type": "code",
   "execution_count": 2,
   "id": "f42605b7-7f9e-4229-af8d-6251fd662ec3",
   "metadata": {},
   "outputs": [],
   "source": [
    "adata = ad.read_h5ad(\"../../data/sciplex_qc_ann.h5ad\")"
   ]
  },
  {
   "cell_type": "code",
   "execution_count": null,
   "id": "bea00ddb-4f7a-4491-ad77-e871344d2ddd",
   "metadata": {},
   "outputs": [],
   "source": []
  }
 ],
 "metadata": {
  "kernelspec": {
   "display_name": "Python 3 (ipykernel)",
   "language": "python",
   "name": "python3"
  },
  "language_info": {
   "codemirror_mode": {
    "name": "ipython",
    "version": 3
   },
   "file_extension": ".py",
   "mimetype": "text/x-python",
   "name": "python",
   "nbconvert_exporter": "python",
   "pygments_lexer": "ipython3",
   "version": "3.12.7"
  }
 },
 "nbformat": 4,
 "nbformat_minor": 5
}
