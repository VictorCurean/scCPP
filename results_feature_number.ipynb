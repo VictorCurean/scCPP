{
 "cells": [
  {
   "cell_type": "code",
   "execution_count": 8,
   "id": "02dc580e-de00-4ffd-9a96-7161bb9ca6d1",
   "metadata": {},
   "outputs": [],
   "source": [
    "import anndata as ad\n",
    "import pandas as pd\n",
    "from src.utils import get_model_stats\n",
    "import pickle as pkl"
   ]
  },
  {
   "cell_type": "markdown",
   "id": "2f2b09a8-a134-4853-b619-5c554a7cf221",
   "metadata": {},
   "source": [
    "## 500 HVG"
   ]
  },
  {
   "cell_type": "code",
   "execution_count": 9,
   "id": "f29ecc59-2aa6-4d1e-abc0-8fa24592432b",
   "metadata": {},
   "outputs": [],
   "source": [
    "adata_ctrl_500_hvg = ad.read_h5ad(\"./data/feature_number/sciplex_hvg_500.h5ad\")\n",
    "adata_ctrl_500_hvg = adata_ctrl_500_hvg[adata_ctrl_500_hvg.obs.product_name == \"Vehicle\"]"
   ]
  },
  {
   "cell_type": "code",
   "execution_count": 10,
   "id": "9845bf00-417f-4626-a8b7-6c63a8cefee0",
   "metadata": {},
   "outputs": [],
   "source": [
    "with open(\"./results/feature_number/null_hvg_500_res.pkl\", 'rb') as f:\n",
    "    df_500_null = pkl.load(f)\n",
    "\n",
    "with open(\"./results/feature_number/mean_hvg_500_res.pkl\", 'rb') as f:\n",
    "    df_500_mean = pkl.load(f)\n",
    "\n",
    "with open(\"./results/feature_number/decoder_hvg_500_res.pkl\", 'rb') as f:\n",
    "    df_500_decoder = pkl.load(f)\n",
    "\n",
    "with open(\"./results/feature_number/mlp_hvg_500_res.pkl\", 'rb') as f:\n",
    "    df_500_mlp = pkl.load(f)\n",
    "\n",
    "with open(\"./results/feature_number/prnet_hvg_500_res.pkl\", 'rb') as f:\n",
    "    df_500_prnet = pkl.load(f)"
   ]
  },
  {
   "cell_type": "code",
   "execution_count": 11,
   "id": "83353edf-bd4f-4705-a1ac-2be3f6557b7a",
   "metadata": {},
   "outputs": [
    {
     "name": "stderr",
     "output_type": "stream",
     "text": [
      "/home/victor/.local/lib/python3.12/site-packages/anndata/_core/anndata.py:1756: UserWarning: Observation names are not unique. To make them unique, call `.obs_names_make_unique`.\n",
      "  utils.warn_names_duplicates(\"obs\")\n"
     ]
    }
   ],
   "source": [
    "stats_hvg_500_null = get_model_stats(df_500_null,\n",
    "                                 adata_ctrl_500_hvg, \n",
    "                                 list(adata_ctrl_500_hvg.var_names),\n",
    "                                 'null_500_hvg',\n",
    "                                 dose_subset=1000, \n",
    "                                method_deg='wilcoxon')"
   ]
  },
  {
   "cell_type": "code",
   "execution_count": 12,
   "id": "785ae084-bd24-4fe1-8ea6-b4a239304170",
   "metadata": {},
   "outputs": [
    {
     "name": "stderr",
     "output_type": "stream",
     "text": [
      "/home/victor/.local/lib/python3.12/site-packages/anndata/_core/anndata.py:1756: UserWarning: Observation names are not unique. To make them unique, call `.obs_names_make_unique`.\n",
      "  utils.warn_names_duplicates(\"obs\")\n"
     ]
    }
   ],
   "source": [
    "stats_hvg_500_mean = get_model_stats(df_500_mean,\n",
    "                                 adata_ctrl_500_hvg, \n",
    "                                 list(adata_ctrl_500_hvg.var_names),\n",
    "                                 'mean_500_hvg',\n",
    "                                 dose_subset=1000, \n",
    "                                method_deg='wilcoxon')"
   ]
  },
  {
   "cell_type": "code",
   "execution_count": 13,
   "id": "d6309312-2ad5-4c7f-b470-d42fcccbc7e4",
   "metadata": {},
   "outputs": [
    {
     "name": "stderr",
     "output_type": "stream",
     "text": [
      "/home/victor/.local/lib/python3.12/site-packages/anndata/_core/anndata.py:1756: UserWarning: Observation names are not unique. To make them unique, call `.obs_names_make_unique`.\n",
      "  utils.warn_names_duplicates(\"obs\")\n"
     ]
    }
   ],
   "source": [
    "stats_hvg_500_decoder = get_model_stats(df_500_decoder,\n",
    "                                 adata_ctrl_500_hvg, \n",
    "                                 list(adata_ctrl_500_hvg.var_names),\n",
    "                                 'decoder_500_hvg',\n",
    "                                 dose_subset=1000, \n",
    "                                method_deg='wilcoxon')"
   ]
  },
  {
   "cell_type": "code",
   "execution_count": 14,
   "id": "4181c795-0ee6-405f-adfd-200a0a760ff0",
   "metadata": {},
   "outputs": [
    {
     "name": "stderr",
     "output_type": "stream",
     "text": [
      "/home/victor/.local/lib/python3.12/site-packages/anndata/_core/anndata.py:1756: UserWarning: Observation names are not unique. To make them unique, call `.obs_names_make_unique`.\n",
      "  utils.warn_names_duplicates(\"obs\")\n"
     ]
    }
   ],
   "source": [
    "stats_hvg_500_mlp = get_model_stats(df_500_mlp,\n",
    "                                 adata_ctrl_500_hvg, \n",
    "                                 list(adata_ctrl_500_hvg.var_names),\n",
    "                                 'mlp_500_hvg',\n",
    "                                 dose_subset=1000, \n",
    "                                method_deg='wilcoxon')"
   ]
  },
  {
   "cell_type": "code",
   "execution_count": 15,
   "id": "7b0f744a-5042-4525-a124-6b6659956c7c",
   "metadata": {},
   "outputs": [
    {
     "name": "stderr",
     "output_type": "stream",
     "text": [
      "/home/victor/.local/lib/python3.12/site-packages/anndata/_core/anndata.py:1756: UserWarning: Observation names are not unique. To make them unique, call `.obs_names_make_unique`.\n",
      "  utils.warn_names_duplicates(\"obs\")\n"
     ]
    }
   ],
   "source": [
    "stats_hvg_500_prnet = get_model_stats(df_500_prnet,\n",
    "                                 adata_ctrl_500_hvg, \n",
    "                                 list(adata_ctrl_500_hvg.var_names),\n",
    "                                 'prnet_500_hvg',\n",
    "                                 dose_subset=1000, \n",
    "                                method_deg='wilcoxon')"
   ]
  },
  {
   "cell_type": "markdown",
   "id": "76346273-4a84-49bf-abc0-819968b8b742",
   "metadata": {},
   "source": [
    "## 1000 HVG"
   ]
  },
  {
   "cell_type": "code",
   "execution_count": 16,
   "id": "04820e01-bd33-4707-94f0-dc4ee7eaedf2",
   "metadata": {},
   "outputs": [],
   "source": [
    "adata_ctrl_1000_hvg = ad.read_h5ad(\"./data/feature_number/sciplex_hvg_1000.h5ad\")\n",
    "adata_ctrl_1000_hvg = adata_ctrl_1000_hvg[adata_ctrl_1000_hvg.obs.product_name == \"Vehicle\"]"
   ]
  },
  {
   "cell_type": "code",
   "execution_count": 17,
   "id": "affd11df-1488-493d-b65b-8aa6160b33f4",
   "metadata": {},
   "outputs": [],
   "source": [
    "with open(\"./results/feature_number/null_hvg_1000_res.pkl\", 'rb') as f:\n",
    "    df_1000_null = pkl.load(f)\n",
    "\n",
    "with open(\"./results/feature_number/mean_hvg_1000_res.pkl\", 'rb') as f:\n",
    "    df_1000_mean = pkl.load(f)\n",
    "\n",
    "with open(\"./results/feature_number/decoder_hvg_1000_res.pkl\", 'rb') as f:\n",
    "    df_1000_decoder = pkl.load(f)\n",
    "\n",
    "with open(\"./results/feature_number/mlp_hvg_1000_res.pkl\", 'rb') as f:\n",
    "    df_1000_mlp = pkl.load(f)\n",
    "\n",
    "with open(\"./results/feature_number/prnet_hvg_1000_res.pkl\", 'rb') as f:\n",
    "    df_1000_prnet = pkl.load(f)"
   ]
  },
  {
   "cell_type": "code",
   "execution_count": 18,
   "id": "c9d0d3bc-f608-462d-9349-b0cd9510a958",
   "metadata": {},
   "outputs": [
    {
     "name": "stderr",
     "output_type": "stream",
     "text": [
      "/home/victor/.local/lib/python3.12/site-packages/anndata/_core/anndata.py:1756: UserWarning: Observation names are not unique. To make them unique, call `.obs_names_make_unique`.\n",
      "  utils.warn_names_duplicates(\"obs\")\n"
     ]
    }
   ],
   "source": [
    "stats_hvg_1000_null = get_model_stats(df_1000_null,\n",
    "                                 adata_ctrl_1000_hvg, \n",
    "                                 list(adata_ctrl_1000_hvg.var_names),\n",
    "                                 'null_1000_hvg',\n",
    "                                 dose_subset=1000, \n",
    "                                method_deg='wilcoxon')"
   ]
  },
  {
   "cell_type": "code",
   "execution_count": 19,
   "id": "26138a59-4a64-458b-b050-ced8af159a23",
   "metadata": {},
   "outputs": [
    {
     "name": "stderr",
     "output_type": "stream",
     "text": [
      "/home/victor/.local/lib/python3.12/site-packages/anndata/_core/anndata.py:1756: UserWarning: Observation names are not unique. To make them unique, call `.obs_names_make_unique`.\n",
      "  utils.warn_names_duplicates(\"obs\")\n"
     ]
    }
   ],
   "source": [
    "stats_hvg_1000_mean = get_model_stats(df_1000_mean,\n",
    "                                 adata_ctrl_1000_hvg, \n",
    "                                 list(adata_ctrl_1000_hvg.var_names),\n",
    "                                 'mean_1000_hvg',\n",
    "                                 dose_subset=1000, \n",
    "                                method_deg='wilcoxon')"
   ]
  },
  {
   "cell_type": "code",
   "execution_count": 20,
   "id": "b8a896f5-fb80-4280-81bd-e0310cc233e9",
   "metadata": {},
   "outputs": [
    {
     "name": "stderr",
     "output_type": "stream",
     "text": [
      "/home/victor/.local/lib/python3.12/site-packages/anndata/_core/anndata.py:1756: UserWarning: Observation names are not unique. To make them unique, call `.obs_names_make_unique`.\n",
      "  utils.warn_names_duplicates(\"obs\")\n"
     ]
    }
   ],
   "source": [
    "stats_hvg_1000_decoder = get_model_stats(df_1000_decoder,\n",
    "                                 adata_ctrl_1000_hvg, \n",
    "                                 list(adata_ctrl_1000_hvg.var_names),\n",
    "                                 'decoder_1000_hvg',\n",
    "                                 dose_subset=1000, \n",
    "                                method_deg='wilcoxon')"
   ]
  },
  {
   "cell_type": "code",
   "execution_count": 21,
   "id": "829ab445-ab48-495b-88d4-675c6b71f2b1",
   "metadata": {},
   "outputs": [
    {
     "name": "stderr",
     "output_type": "stream",
     "text": [
      "/home/victor/.local/lib/python3.12/site-packages/anndata/_core/anndata.py:1756: UserWarning: Observation names are not unique. To make them unique, call `.obs_names_make_unique`.\n",
      "  utils.warn_names_duplicates(\"obs\")\n"
     ]
    }
   ],
   "source": [
    "stats_hvg_1000_mlp = get_model_stats(df_1000_mlp,\n",
    "                                 adata_ctrl_1000_hvg, \n",
    "                                 list(adata_ctrl_1000_hvg.var_names),\n",
    "                                 'mlp_1000_hvg',\n",
    "                                 dose_subset=1000, \n",
    "                                method_deg='wilcoxon')"
   ]
  },
  {
   "cell_type": "code",
   "execution_count": 22,
   "id": "8f02cc50-cf30-421a-bf04-2495f2791f58",
   "metadata": {},
   "outputs": [
    {
     "name": "stderr",
     "output_type": "stream",
     "text": [
      "/home/victor/.local/lib/python3.12/site-packages/anndata/_core/anndata.py:1756: UserWarning: Observation names are not unique. To make them unique, call `.obs_names_make_unique`.\n",
      "  utils.warn_names_duplicates(\"obs\")\n"
     ]
    }
   ],
   "source": [
    "stats_hvg_1000_prnet = get_model_stats(df_1000_prnet,\n",
    "                                 adata_ctrl_1000_hvg, \n",
    "                                 list(adata_ctrl_1000_hvg.var_names),\n",
    "                                 'prnet_1000_hvg',\n",
    "                                 dose_subset=1000, \n",
    "                                method_deg='wilcoxon')"
   ]
  },
  {
   "cell_type": "markdown",
   "id": "04cb07f9-7c81-417f-b9c8-4e1777762499",
   "metadata": {},
   "source": [
    "## 2000 HVG"
   ]
  },
  {
   "cell_type": "code",
   "execution_count": 23,
   "id": "91817b3e-4e76-41cc-83de-8b0b5a4dffc8",
   "metadata": {},
   "outputs": [],
   "source": [
    "adata_ctrl_2000_hvg = ad.read_h5ad(\"./data/feature_number/sciplex_hvg_2000.h5ad\")\n",
    "adata_ctrl_2000_hvg = adata_ctrl_2000_hvg[adata_ctrl_2000_hvg.obs.product_name == \"Vehicle\"]"
   ]
  },
  {
   "cell_type": "code",
   "execution_count": 24,
   "id": "30a6ccf0-c264-4515-9db7-b36e1507a5ec",
   "metadata": {},
   "outputs": [],
   "source": [
    "with open(\"./results/feature_number/null_hvg_2000_res.pkl\", 'rb') as f:\n",
    "    df_2000_null = pkl.load(f)\n",
    "\n",
    "with open(\"./results/feature_number/mean_hvg_2000_res.pkl\", 'rb') as f:\n",
    "    df_2000_mean = pkl.load(f)\n",
    "\n",
    "with open(\"./results/feature_number/decoder_hvg_2000_res.pkl\", 'rb') as f:\n",
    "    df_2000_decoder = pkl.load(f)\n",
    "\n",
    "with open(\"./results/feature_number/mlp_hvg_2000_res.pkl\", 'rb') as f:\n",
    "    df_2000_mlp = pkl.load(f)\n",
    "\n",
    "with open(\"./results/feature_number/prnet_hvg_2000_res.pkl\", 'rb') as f:\n",
    "    df_2000_prnet = pkl.load(f)"
   ]
  },
  {
   "cell_type": "code",
   "execution_count": 25,
   "id": "2ea131de-74b4-4f6f-8d52-c8e23aa73874",
   "metadata": {},
   "outputs": [
    {
     "name": "stderr",
     "output_type": "stream",
     "text": [
      "/home/victor/.local/lib/python3.12/site-packages/anndata/_core/anndata.py:1756: UserWarning: Observation names are not unique. To make them unique, call `.obs_names_make_unique`.\n",
      "  utils.warn_names_duplicates(\"obs\")\n"
     ]
    }
   ],
   "source": [
    "stats_hvg_2000_null = get_model_stats(df_2000_null,\n",
    "                                 adata_ctrl_2000_hvg, \n",
    "                                 list(adata_ctrl_2000_hvg.var_names),\n",
    "                                 'null_2000_hvg',\n",
    "                                 dose_subset=1000, \n",
    "                                method_deg='wilcoxon')"
   ]
  },
  {
   "cell_type": "code",
   "execution_count": 26,
   "id": "7b644f95-d3fb-4074-bd94-07935a5460ce",
   "metadata": {},
   "outputs": [
    {
     "name": "stderr",
     "output_type": "stream",
     "text": [
      "/home/victor/.local/lib/python3.12/site-packages/anndata/_core/anndata.py:1756: UserWarning: Observation names are not unique. To make them unique, call `.obs_names_make_unique`.\n",
      "  utils.warn_names_duplicates(\"obs\")\n"
     ]
    }
   ],
   "source": [
    "stats_hvg_2000_mean = get_model_stats(df_2000_mean,\n",
    "                                 adata_ctrl_2000_hvg, \n",
    "                                 list(adata_ctrl_2000_hvg.var_names),\n",
    "                                 'mean_2000_hvg',\n",
    "                                 dose_subset=1000, \n",
    "                                method_deg='wilcoxon')"
   ]
  },
  {
   "cell_type": "code",
   "execution_count": 27,
   "id": "d069830f-ed4d-4b3e-843f-f26359bb48ea",
   "metadata": {},
   "outputs": [
    {
     "name": "stderr",
     "output_type": "stream",
     "text": [
      "/home/victor/.local/lib/python3.12/site-packages/anndata/_core/anndata.py:1756: UserWarning: Observation names are not unique. To make them unique, call `.obs_names_make_unique`.\n",
      "  utils.warn_names_duplicates(\"obs\")\n"
     ]
    }
   ],
   "source": [
    "stats_hvg_2000_decoder = get_model_stats(df_2000_decoder,\n",
    "                                 adata_ctrl_2000_hvg, \n",
    "                                 list(adata_ctrl_2000_hvg.var_names),\n",
    "                                 'decoder_2000_hvg',\n",
    "                                 dose_subset=1000, \n",
    "                                method_deg='wilcoxon')"
   ]
  },
  {
   "cell_type": "code",
   "execution_count": 28,
   "id": "871da7ca-61e0-48a4-aef5-b6358437991d",
   "metadata": {},
   "outputs": [
    {
     "name": "stderr",
     "output_type": "stream",
     "text": [
      "/home/victor/.local/lib/python3.12/site-packages/anndata/_core/anndata.py:1756: UserWarning: Observation names are not unique. To make them unique, call `.obs_names_make_unique`.\n",
      "  utils.warn_names_duplicates(\"obs\")\n"
     ]
    }
   ],
   "source": [
    "stats_hvg_2000_mlp = get_model_stats(df_2000_mlp,\n",
    "                                 adata_ctrl_2000_hvg, \n",
    "                                 list(adata_ctrl_2000_hvg.var_names),\n",
    "                                 'mlp_2000_hvg',\n",
    "                                 dose_subset=1000, \n",
    "                                method_deg='wilcoxon')"
   ]
  },
  {
   "cell_type": "code",
   "execution_count": 29,
   "id": "555f65bd-6454-4408-9700-da83ac6d21bf",
   "metadata": {},
   "outputs": [
    {
     "name": "stderr",
     "output_type": "stream",
     "text": [
      "/home/victor/.local/lib/python3.12/site-packages/anndata/_core/anndata.py:1756: UserWarning: Observation names are not unique. To make them unique, call `.obs_names_make_unique`.\n",
      "  utils.warn_names_duplicates(\"obs\")\n"
     ]
    }
   ],
   "source": [
    "stats_hvg_2000_prnet = get_model_stats(df_2000_prnet,\n",
    "                                 adata_ctrl_2000_hvg, \n",
    "                                 list(adata_ctrl_2000_hvg.var_names),\n",
    "                                 'prnet_2000_hvg',\n",
    "                                 dose_subset=1000, \n",
    "                                method_deg='wilcoxon')"
   ]
  },
  {
   "cell_type": "markdown",
   "id": "2d0e220e-dfc7-42a0-9223-4226a1f49a7e",
   "metadata": {},
   "source": [
    "## 3500 HVG"
   ]
  },
  {
   "cell_type": "code",
   "execution_count": 30,
   "id": "2ae03885-c8fa-47d0-97dd-5787c06f4c62",
   "metadata": {},
   "outputs": [],
   "source": [
    "adata_ctrl_3500_hvg = ad.read_h5ad(\"./data/feature_number/sciplex_hvg_3500.h5ad\")\n",
    "adata_ctrl_3500_hvg = adata_ctrl_3500_hvg[adata_ctrl_3500_hvg.obs.product_name == \"Vehicle\"]"
   ]
  },
  {
   "cell_type": "code",
   "execution_count": 31,
   "id": "27aefbd9-aae7-4fe1-9fec-25acafa899d1",
   "metadata": {},
   "outputs": [],
   "source": [
    "with open(\"./results/feature_number/null_hvg_3500_res.pkl\", 'rb') as f:\n",
    "    df_3500_null = pkl.load(f)\n",
    "\n",
    "with open(\"./results/feature_number/mean_hvg_3500_res.pkl\", 'rb') as f:\n",
    "    df_3500_mean = pkl.load(f)\n",
    "\n",
    "with open(\"./results/feature_number/decoder_hvg_3500_res.pkl\", 'rb') as f:\n",
    "    df_3500_decoder = pkl.load(f)\n",
    "\n",
    "with open(\"./results/feature_number/mlp_hvg_3500_res.pkl\", 'rb') as f:\n",
    "    df_3500_mlp = pkl.load(f)\n",
    "\n",
    "with open(\"./results/feature_number/prnet_hvg_3500_res.pkl\", 'rb') as f:\n",
    "    df_3500_prnet = pkl.load(f)"
   ]
  },
  {
   "cell_type": "code",
   "execution_count": 32,
   "id": "197d01bf-fef8-426c-8867-9af5aae7ae87",
   "metadata": {},
   "outputs": [
    {
     "name": "stderr",
     "output_type": "stream",
     "text": [
      "/home/victor/.local/lib/python3.12/site-packages/anndata/_core/anndata.py:1756: UserWarning: Observation names are not unique. To make them unique, call `.obs_names_make_unique`.\n",
      "  utils.warn_names_duplicates(\"obs\")\n"
     ]
    }
   ],
   "source": [
    "stats_hvg_3500_null = get_model_stats(df_3500_null,\n",
    "                                 adata_ctrl_3500_hvg, \n",
    "                                 list(adata_ctrl_3500_hvg.var_names),\n",
    "                                 'null_3500_hvg',\n",
    "                                 dose_subset=1000, \n",
    "                                method_deg='wilcoxon')"
   ]
  },
  {
   "cell_type": "code",
   "execution_count": 33,
   "id": "b9e45885-8d09-40d4-b072-6d13b1f897f4",
   "metadata": {},
   "outputs": [
    {
     "name": "stderr",
     "output_type": "stream",
     "text": [
      "/home/victor/.local/lib/python3.12/site-packages/anndata/_core/anndata.py:1756: UserWarning: Observation names are not unique. To make them unique, call `.obs_names_make_unique`.\n",
      "  utils.warn_names_duplicates(\"obs\")\n"
     ]
    }
   ],
   "source": [
    "stats_hvg_3500_mean = get_model_stats(df_3500_mean,\n",
    "                                 adata_ctrl_3500_hvg, \n",
    "                                 list(adata_ctrl_3500_hvg.var_names),\n",
    "                                 'mean_3500_hvg',\n",
    "                                 dose_subset=1000, \n",
    "                                method_deg='wilcoxon')"
   ]
  },
  {
   "cell_type": "code",
   "execution_count": 34,
   "id": "45c79f66-9913-4c51-a49f-74f18e78ec5b",
   "metadata": {},
   "outputs": [
    {
     "name": "stderr",
     "output_type": "stream",
     "text": [
      "/home/victor/.local/lib/python3.12/site-packages/anndata/_core/anndata.py:1756: UserWarning: Observation names are not unique. To make them unique, call `.obs_names_make_unique`.\n",
      "  utils.warn_names_duplicates(\"obs\")\n"
     ]
    }
   ],
   "source": [
    "stats_hvg_3500_decoder = get_model_stats(df_3500_decoder,\n",
    "                                 adata_ctrl_3500_hvg, \n",
    "                                 list(adata_ctrl_3500_hvg.var_names),\n",
    "                                 'decoder_3500_hvg',\n",
    "                                 dose_subset=1000, \n",
    "                                method_deg='wilcoxon')"
   ]
  },
  {
   "cell_type": "code",
   "execution_count": 35,
   "id": "b3091003-bd6d-4203-b364-a33a907ac84f",
   "metadata": {},
   "outputs": [
    {
     "name": "stderr",
     "output_type": "stream",
     "text": [
      "/home/victor/.local/lib/python3.12/site-packages/anndata/_core/anndata.py:1756: UserWarning: Observation names are not unique. To make them unique, call `.obs_names_make_unique`.\n",
      "  utils.warn_names_duplicates(\"obs\")\n"
     ]
    }
   ],
   "source": [
    "stats_hvg_3500_mlp = get_model_stats(df_3500_mlp,\n",
    "                                 adata_ctrl_3500_hvg, \n",
    "                                 list(adata_ctrl_3500_hvg.var_names),\n",
    "                                 'mlp_3500_hvg',\n",
    "                                 dose_subset=1000, \n",
    "                                method_deg='wilcoxon')"
   ]
  },
  {
   "cell_type": "code",
   "execution_count": 36,
   "id": "81faea4d-1913-450a-8366-26a1c174ec10",
   "metadata": {},
   "outputs": [
    {
     "name": "stderr",
     "output_type": "stream",
     "text": [
      "/home/victor/.local/lib/python3.12/site-packages/anndata/_core/anndata.py:1756: UserWarning: Observation names are not unique. To make them unique, call `.obs_names_make_unique`.\n",
      "  utils.warn_names_duplicates(\"obs\")\n"
     ]
    }
   ],
   "source": [
    "stats_hvg_3500_prnet = get_model_stats(df_3500_prnet,\n",
    "                                 adata_ctrl_3500_hvg, \n",
    "                                 list(adata_ctrl_3500_hvg.var_names),\n",
    "                                 'prnet_3500_hvg',\n",
    "                                 dose_subset=1000, \n",
    "                                method_deg='wilcoxon')"
   ]
  },
  {
   "cell_type": "markdown",
   "id": "8eff9b42-0c14-47c2-890d-6d76ca9d4882",
   "metadata": {},
   "source": [
    "## 5000 genes"
   ]
  },
  {
   "cell_type": "code",
   "execution_count": 37,
   "id": "3555926b-c8fb-4a8e-a839-753dcdbccfae",
   "metadata": {},
   "outputs": [],
   "source": [
    "adata_ctrl_5000_hvg = ad.read_h5ad(\"./data/feature_number/sciplex_hvg_5000.h5ad\")\n",
    "adata_ctrl_5000_hvg = adata_ctrl_5000_hvg[adata_ctrl_5000_hvg.obs.product_name == \"Vehicle\"]"
   ]
  },
  {
   "cell_type": "code",
   "execution_count": 38,
   "id": "5aacdb72-07c7-45c0-9b1f-8d1690318eae",
   "metadata": {},
   "outputs": [],
   "source": [
    "with open(\"./results/feature_number/null_hvg_5000_res.pkl\", 'rb') as f:\n",
    "    df_5000_null = pkl.load(f)\n",
    "\n",
    "with open(\"./results/feature_number/mean_hvg_5000_res.pkl\", 'rb') as f:\n",
    "    df_5000_mean = pkl.load(f)\n",
    "\n",
    "with open(\"./results/feature_number/decoder_hvg_5000_res.pkl\", 'rb') as f:\n",
    "    df_5000_decoder = pkl.load(f)\n",
    "\n",
    "with open(\"./results/feature_number/mlp_hvg_5000_res.pkl\", 'rb') as f:\n",
    "    df_5000_mlp = pkl.load(f)\n",
    "\n",
    "with open(\"./results/feature_number/prnet_hvg_5000_res.pkl\", 'rb') as f:\n",
    "    df_5000_prnet = pkl.load(f)"
   ]
  },
  {
   "cell_type": "code",
   "execution_count": 39,
   "id": "e15e9999-9653-4358-bbfa-14b15029b4a6",
   "metadata": {},
   "outputs": [
    {
     "name": "stderr",
     "output_type": "stream",
     "text": [
      "/home/victor/.local/lib/python3.12/site-packages/anndata/_core/anndata.py:1756: UserWarning: Observation names are not unique. To make them unique, call `.obs_names_make_unique`.\n",
      "  utils.warn_names_duplicates(\"obs\")\n"
     ]
    }
   ],
   "source": [
    "stats_hvg_5000_null = get_model_stats(df_5000_null,\n",
    "                                 adata_ctrl_5000_hvg, \n",
    "                                 list(adata_ctrl_5000_hvg.var_names),\n",
    "                                 'null_5000_hvg',\n",
    "                                 dose_subset=1000, \n",
    "                                method_deg='wilcoxon')"
   ]
  },
  {
   "cell_type": "code",
   "execution_count": 40,
   "id": "3bca821b-9f14-4f1f-a0f9-b317cac55353",
   "metadata": {},
   "outputs": [
    {
     "name": "stderr",
     "output_type": "stream",
     "text": [
      "/home/victor/.local/lib/python3.12/site-packages/anndata/_core/anndata.py:1756: UserWarning: Observation names are not unique. To make them unique, call `.obs_names_make_unique`.\n",
      "  utils.warn_names_duplicates(\"obs\")\n"
     ]
    }
   ],
   "source": [
    "stats_hvg_5000_mean = get_model_stats(df_5000_mean,\n",
    "                                 adata_ctrl_5000_hvg, \n",
    "                                 list(adata_ctrl_5000_hvg.var_names),\n",
    "                                 'mean_5000_hvg',\n",
    "                                 dose_subset=1000, \n",
    "                                method_deg='wilcoxon')"
   ]
  },
  {
   "cell_type": "code",
   "execution_count": 41,
   "id": "3406d6c7-8cd3-41e1-80d8-bff547052fe4",
   "metadata": {},
   "outputs": [
    {
     "name": "stderr",
     "output_type": "stream",
     "text": [
      "/home/victor/.local/lib/python3.12/site-packages/anndata/_core/anndata.py:1756: UserWarning: Observation names are not unique. To make them unique, call `.obs_names_make_unique`.\n",
      "  utils.warn_names_duplicates(\"obs\")\n"
     ]
    }
   ],
   "source": [
    "stats_hvg_5000_decoder = get_model_stats(df_5000_decoder,\n",
    "                                 adata_ctrl_5000_hvg, \n",
    "                                 list(adata_ctrl_5000_hvg.var_names),\n",
    "                                 'decoder_5000_hvg',\n",
    "                                 dose_subset=1000, \n",
    "                                method_deg='wilcoxon')"
   ]
  },
  {
   "cell_type": "code",
   "execution_count": 42,
   "id": "53031b1a-6d30-41ef-9a5b-07b9c41b9221",
   "metadata": {},
   "outputs": [
    {
     "name": "stderr",
     "output_type": "stream",
     "text": [
      "/home/victor/.local/lib/python3.12/site-packages/anndata/_core/anndata.py:1756: UserWarning: Observation names are not unique. To make them unique, call `.obs_names_make_unique`.\n",
      "  utils.warn_names_duplicates(\"obs\")\n"
     ]
    }
   ],
   "source": [
    "stats_hvg_5000_mlp = get_model_stats(df_5000_mlp,\n",
    "                                 adata_ctrl_5000_hvg, \n",
    "                                 list(adata_ctrl_5000_hvg.var_names),\n",
    "                                 'mlp_5000_hvg',\n",
    "                                 dose_subset=1000, \n",
    "                                method_deg='wilcoxon')"
   ]
  },
  {
   "cell_type": "code",
   "execution_count": 43,
   "id": "8a5ecef6-76b2-4909-a12c-0ee5c1f258f2",
   "metadata": {},
   "outputs": [
    {
     "name": "stderr",
     "output_type": "stream",
     "text": [
      "/home/victor/.local/lib/python3.12/site-packages/anndata/_core/anndata.py:1756: UserWarning: Observation names are not unique. To make them unique, call `.obs_names_make_unique`.\n",
      "  utils.warn_names_duplicates(\"obs\")\n"
     ]
    }
   ],
   "source": [
    "stats_hvg_5000_prnet = get_model_stats(df_5000_prnet,\n",
    "                                 adata_ctrl_5000_hvg, \n",
    "                                 list(adata_ctrl_5000_hvg.var_names),\n",
    "                                 'prnet_5000_hvg',\n",
    "                                 dose_subset=1000, \n",
    "                                method_deg='wilcoxon')"
   ]
  },
  {
   "cell_type": "markdown",
   "id": "f74f2286-244d-4c38-af7a-3f509e46dd30",
   "metadata": {},
   "source": [
    "## 7500 HVG"
   ]
  },
  {
   "cell_type": "code",
   "execution_count": 44,
   "id": "a37cc232-7cd1-42ee-8d8b-4d6e8550b3fc",
   "metadata": {},
   "outputs": [],
   "source": [
    "adata_ctrl_7500_hvg = ad.read_h5ad(\"./data/feature_number/sciplex_hvg_7500.h5ad\")\n",
    "adata_ctrl_7500_hvg = adata_ctrl_7500_hvg[adata_ctrl_7500_hvg.obs.product_name == \"Vehicle\"]"
   ]
  },
  {
   "cell_type": "code",
   "execution_count": 45,
   "id": "818e7fee-6da3-428d-858d-673665887b77",
   "metadata": {},
   "outputs": [],
   "source": [
    "with open(\"./results/feature_number/null_hvg_7500_res.pkl\", 'rb') as f:\n",
    "    df_7500_null = pkl.load(f)\n",
    "\n",
    "with open(\"./results/feature_number/mean_hvg_7500_res.pkl\", 'rb') as f:\n",
    "    df_7500_mean = pkl.load(f)\n",
    "\n",
    "with open(\"./results/feature_number/decoder_hvg_7500_res.pkl\", 'rb') as f:\n",
    "    df_7500_decoder = pkl.load(f)\n",
    "\n",
    "with open(\"./results/feature_number/mlp_hvg_7500_res.pkl\", 'rb') as f:\n",
    "    df_7500_mlp = pkl.load(f)\n",
    "\n",
    "with open(\"./results/feature_number/prnet_hvg_7500_res.pkl\", 'rb') as f:\n",
    "    df_7500_prnet = pkl.load(f)"
   ]
  },
  {
   "cell_type": "code",
   "execution_count": 46,
   "id": "d704c709-22e3-4c75-adfd-173fbd18f042",
   "metadata": {},
   "outputs": [
    {
     "name": "stderr",
     "output_type": "stream",
     "text": [
      "/home/victor/.local/lib/python3.12/site-packages/anndata/_core/anndata.py:1756: UserWarning: Observation names are not unique. To make them unique, call `.obs_names_make_unique`.\n",
      "  utils.warn_names_duplicates(\"obs\")\n"
     ]
    }
   ],
   "source": [
    "stats_hvg_7500_null = get_model_stats(df_7500_null,\n",
    "                                 adata_ctrl_7500_hvg, \n",
    "                                 list(adata_ctrl_7500_hvg.var_names),\n",
    "                                 'null_7500_hvg',\n",
    "                                 dose_subset=1000, \n",
    "                                method_deg='wilcoxon')"
   ]
  },
  {
   "cell_type": "code",
   "execution_count": 47,
   "id": "3a837a56-aa81-4354-b0a5-ba3506304c2d",
   "metadata": {},
   "outputs": [
    {
     "name": "stderr",
     "output_type": "stream",
     "text": [
      "/home/victor/.local/lib/python3.12/site-packages/anndata/_core/anndata.py:1756: UserWarning: Observation names are not unique. To make them unique, call `.obs_names_make_unique`.\n",
      "  utils.warn_names_duplicates(\"obs\")\n"
     ]
    }
   ],
   "source": [
    "stats_hvg_7500_mean = get_model_stats(df_7500_mean,\n",
    "                                 adata_ctrl_7500_hvg, \n",
    "                                 list(adata_ctrl_7500_hvg.var_names),\n",
    "                                 'mean_7500_hvg',\n",
    "                                 dose_subset=1000, \n",
    "                                method_deg='wilcoxon')"
   ]
  },
  {
   "cell_type": "code",
   "execution_count": 48,
   "id": "8696154c-e18f-437e-8065-12a191642d57",
   "metadata": {},
   "outputs": [
    {
     "name": "stderr",
     "output_type": "stream",
     "text": [
      "/home/victor/.local/lib/python3.12/site-packages/anndata/_core/anndata.py:1756: UserWarning: Observation names are not unique. To make them unique, call `.obs_names_make_unique`.\n",
      "  utils.warn_names_duplicates(\"obs\")\n"
     ]
    }
   ],
   "source": [
    "stats_hvg_7500_decoder = get_model_stats(df_7500_decoder,\n",
    "                                 adata_ctrl_7500_hvg, \n",
    "                                 list(adata_ctrl_7500_hvg.var_names),\n",
    "                                 'decoder_7500_hvg',\n",
    "                                 dose_subset=1000, \n",
    "                                method_deg='wilcoxon')"
   ]
  },
  {
   "cell_type": "code",
   "execution_count": 49,
   "id": "593b9267-602a-42e4-9a0c-e6715304c928",
   "metadata": {},
   "outputs": [
    {
     "name": "stderr",
     "output_type": "stream",
     "text": [
      "/home/victor/.local/lib/python3.12/site-packages/anndata/_core/anndata.py:1756: UserWarning: Observation names are not unique. To make them unique, call `.obs_names_make_unique`.\n",
      "  utils.warn_names_duplicates(\"obs\")\n"
     ]
    }
   ],
   "source": [
    "stats_hvg_7500_mlp = get_model_stats(df_7500_mlp,\n",
    "                                 adata_ctrl_7500_hvg, \n",
    "                                 list(adata_ctrl_7500_hvg.var_names),\n",
    "                                 'mlp_7500_hvg',\n",
    "                                 dose_subset=1000, \n",
    "                                method_deg='wilcoxon')"
   ]
  },
  {
   "cell_type": "code",
   "execution_count": 50,
   "id": "3bb25430-2da5-4e43-830e-e6c8afb81b3e",
   "metadata": {},
   "outputs": [
    {
     "name": "stderr",
     "output_type": "stream",
     "text": [
      "/home/victor/.local/lib/python3.12/site-packages/anndata/_core/anndata.py:1756: UserWarning: Observation names are not unique. To make them unique, call `.obs_names_make_unique`.\n",
      "  utils.warn_names_duplicates(\"obs\")\n"
     ]
    }
   ],
   "source": [
    "stats_hvg_7500_prnet = get_model_stats(df_7500_prnet,\n",
    "                                 adata_ctrl_7500_hvg, \n",
    "                                 list(adata_ctrl_7500_hvg.var_names),\n",
    "                                 'prnet_7500_hvg',\n",
    "                                 dose_subset=1000, \n",
    "                                method_deg='wilcoxon')"
   ]
  },
  {
   "cell_type": "code",
   "execution_count": 52,
   "id": "06cb1490-b63b-4406-874c-f82ff653b97e",
   "metadata": {},
   "outputs": [],
   "source": [
    "df = pd.DataFrame([stats_hvg_500_null, stats_hvg_500_mean, stats_hvg_500_decoder, stats_hvg_500_mlp, stats_hvg_500_prnet,\n",
    "               stats_hvg_1000_null, stats_hvg_1000_mean, stats_hvg_1000_decoder, stats_hvg_1000_mlp, stats_hvg_1000_prnet,\n",
    "               stats_hvg_2000_null, stats_hvg_2000_mean, stats_hvg_2000_decoder, stats_hvg_2000_mlp, stats_hvg_2000_prnet,\n",
    "               stats_hvg_3500_null, stats_hvg_3500_mean, stats_hvg_3500_decoder, stats_hvg_3500_mlp, stats_hvg_3500_prnet,\n",
    "               stats_hvg_5000_null, stats_hvg_5000_mean, stats_hvg_5000_decoder, stats_hvg_5000_mlp, stats_hvg_5000_prnet,\n",
    "               stats_hvg_7500_null, stats_hvg_7500_mean, stats_hvg_7500_decoder, stats_hvg_7500_mlp, stats_hvg_7500_prnet])"
   ]
  },
  {
   "cell_type": "code",
   "execution_count": 53,
   "id": "6ed1b9a9-2de5-4403-bbd3-d90d8d524f78",
   "metadata": {},
   "outputs": [
    {
     "data": {
      "text/html": [
       "<div>\n",
       "<style scoped>\n",
       "    .dataframe tbody tr th:only-of-type {\n",
       "        vertical-align: middle;\n",
       "    }\n",
       "\n",
       "    .dataframe tbody tr th {\n",
       "        vertical-align: top;\n",
       "    }\n",
       "\n",
       "    .dataframe thead th {\n",
       "        text-align: right;\n",
       "    }\n",
       "</style>\n",
       "<table border=\"1\" class=\"dataframe\">\n",
       "  <thead>\n",
       "    <tr style=\"text-align: right;\">\n",
       "      <th></th>\n",
       "      <th>key</th>\n",
       "      <th>mse_A549</th>\n",
       "      <th>mse_K562</th>\n",
       "      <th>mse_MCF7</th>\n",
       "      <th>css_A549</th>\n",
       "      <th>css_K562</th>\n",
       "      <th>css_MCF7</th>\n",
       "      <th>r2_A549</th>\n",
       "      <th>r2_K562</th>\n",
       "      <th>r2_MCF7</th>\n",
       "      <th>...</th>\n",
       "      <th>rank_logfc_MCF7</th>\n",
       "      <th>edistance_A549</th>\n",
       "      <th>edistance_K562</th>\n",
       "      <th>edistance_MCF7</th>\n",
       "      <th>logfc_corr_A549</th>\n",
       "      <th>logfc_corr_K562</th>\n",
       "      <th>logfc_corr_MCF7</th>\n",
       "      <th>top_logfc_corr_A549</th>\n",
       "      <th>top_logfc_corr_K562</th>\n",
       "      <th>top_logfc_corr_MCF7</th>\n",
       "    </tr>\n",
       "  </thead>\n",
       "  <tbody>\n",
       "    <tr>\n",
       "      <th>0</th>\n",
       "      <td>null_500_hvg</td>\n",
       "      <td>0.002327</td>\n",
       "      <td>0.003070</td>\n",
       "      <td>0.002433</td>\n",
       "      <td>0.931026</td>\n",
       "      <td>0.937328</td>\n",
       "      <td>0.924317</td>\n",
       "      <td>0.860587</td>\n",
       "      <td>0.830771</td>\n",
       "      <td>0.869861</td>\n",
       "      <td>...</td>\n",
       "      <td>0.464715</td>\n",
       "      <td>2.326914</td>\n",
       "      <td>3.070333</td>\n",
       "      <td>2.433338</td>\n",
       "      <td>0.303523</td>\n",
       "      <td>0.205519</td>\n",
       "      <td>0.219085</td>\n",
       "      <td>0.217088</td>\n",
       "      <td>0.132075</td>\n",
       "      <td>0.221653</td>\n",
       "    </tr>\n",
       "    <tr>\n",
       "      <th>1</th>\n",
       "      <td>mean_500_hvg</td>\n",
       "      <td>0.001980</td>\n",
       "      <td>0.002240</td>\n",
       "      <td>0.002250</td>\n",
       "      <td>0.943127</td>\n",
       "      <td>0.953206</td>\n",
       "      <td>0.936015</td>\n",
       "      <td>0.886277</td>\n",
       "      <td>0.877916</td>\n",
       "      <td>0.894586</td>\n",
       "      <td>...</td>\n",
       "      <td>0.500000</td>\n",
       "      <td>1.979768</td>\n",
       "      <td>2.239554</td>\n",
       "      <td>2.250188</td>\n",
       "      <td>0.531066</td>\n",
       "      <td>0.473062</td>\n",
       "      <td>0.538221</td>\n",
       "      <td>0.543020</td>\n",
       "      <td>0.393115</td>\n",
       "      <td>0.628642</td>\n",
       "    </tr>\n",
       "    <tr>\n",
       "      <th>2</th>\n",
       "      <td>decoder_500_hvg</td>\n",
       "      <td>0.001511</td>\n",
       "      <td>0.002617</td>\n",
       "      <td>0.001641</td>\n",
       "      <td>0.956847</td>\n",
       "      <td>0.955084</td>\n",
       "      <td>0.954993</td>\n",
       "      <td>0.906319</td>\n",
       "      <td>0.855970</td>\n",
       "      <td>0.897646</td>\n",
       "      <td>...</td>\n",
       "      <td>0.493994</td>\n",
       "      <td>1.511314</td>\n",
       "      <td>2.617257</td>\n",
       "      <td>1.640940</td>\n",
       "      <td>0.509060</td>\n",
       "      <td>0.448183</td>\n",
       "      <td>0.464579</td>\n",
       "      <td>0.456152</td>\n",
       "      <td>0.444223</td>\n",
       "      <td>0.508680</td>\n",
       "    </tr>\n",
       "    <tr>\n",
       "      <th>3</th>\n",
       "      <td>mlp_500_hvg</td>\n",
       "      <td>0.001403</td>\n",
       "      <td>0.001753</td>\n",
       "      <td>0.001434</td>\n",
       "      <td>0.958613</td>\n",
       "      <td>0.962661</td>\n",
       "      <td>0.958666</td>\n",
       "      <td>0.912385</td>\n",
       "      <td>0.904091</td>\n",
       "      <td>0.900101</td>\n",
       "      <td>...</td>\n",
       "      <td>0.483483</td>\n",
       "      <td>1.402776</td>\n",
       "      <td>1.753229</td>\n",
       "      <td>1.434359</td>\n",
       "      <td>0.513716</td>\n",
       "      <td>0.473747</td>\n",
       "      <td>0.470080</td>\n",
       "      <td>0.460706</td>\n",
       "      <td>0.461857</td>\n",
       "      <td>0.539699</td>\n",
       "    </tr>\n",
       "    <tr>\n",
       "      <th>4</th>\n",
       "      <td>prnet_500_hvg</td>\n",
       "      <td>0.002057</td>\n",
       "      <td>0.002712</td>\n",
       "      <td>0.002153</td>\n",
       "      <td>0.937006</td>\n",
       "      <td>0.943324</td>\n",
       "      <td>0.934773</td>\n",
       "      <td>0.873700</td>\n",
       "      <td>0.850032</td>\n",
       "      <td>0.877180</td>\n",
       "      <td>...</td>\n",
       "      <td>0.454204</td>\n",
       "      <td>2.056550</td>\n",
       "      <td>2.711526</td>\n",
       "      <td>2.152934</td>\n",
       "      <td>0.479654</td>\n",
       "      <td>0.413362</td>\n",
       "      <td>0.492455</td>\n",
       "      <td>0.500168</td>\n",
       "      <td>0.356337</td>\n",
       "      <td>0.578506</td>\n",
       "    </tr>\n",
       "    <tr>\n",
       "      <th>5</th>\n",
       "      <td>null_1000_hvg</td>\n",
       "      <td>0.001953</td>\n",
       "      <td>0.002368</td>\n",
       "      <td>0.001394</td>\n",
       "      <td>0.943206</td>\n",
       "      <td>0.940596</td>\n",
       "      <td>0.928702</td>\n",
       "      <td>0.858847</td>\n",
       "      <td>0.838391</td>\n",
       "      <td>0.873087</td>\n",
       "      <td>...</td>\n",
       "      <td>0.457958</td>\n",
       "      <td>3.906493</td>\n",
       "      <td>4.735933</td>\n",
       "      <td>2.788992</td>\n",
       "      <td>0.298611</td>\n",
       "      <td>0.236802</td>\n",
       "      <td>0.229336</td>\n",
       "      <td>0.204916</td>\n",
       "      <td>0.177651</td>\n",
       "      <td>0.161867</td>\n",
       "    </tr>\n",
       "    <tr>\n",
       "      <th>6</th>\n",
       "      <td>mean_1000_hvg</td>\n",
       "      <td>0.001601</td>\n",
       "      <td>0.001699</td>\n",
       "      <td>0.001257</td>\n",
       "      <td>0.952098</td>\n",
       "      <td>0.955790</td>\n",
       "      <td>0.939873</td>\n",
       "      <td>0.881419</td>\n",
       "      <td>0.882099</td>\n",
       "      <td>0.899655</td>\n",
       "      <td>...</td>\n",
       "      <td>0.500000</td>\n",
       "      <td>3.202551</td>\n",
       "      <td>3.398602</td>\n",
       "      <td>2.513888</td>\n",
       "      <td>0.497864</td>\n",
       "      <td>0.468954</td>\n",
       "      <td>0.517274</td>\n",
       "      <td>0.544115</td>\n",
       "      <td>0.434709</td>\n",
       "      <td>0.532173</td>\n",
       "    </tr>\n",
       "    <tr>\n",
       "      <th>7</th>\n",
       "      <td>decoder_1000_hvg</td>\n",
       "      <td>0.001165</td>\n",
       "      <td>0.001462</td>\n",
       "      <td>0.000850</td>\n",
       "      <td>0.964563</td>\n",
       "      <td>0.962050</td>\n",
       "      <td>0.958717</td>\n",
       "      <td>0.917587</td>\n",
       "      <td>0.900590</td>\n",
       "      <td>0.907874</td>\n",
       "      <td>...</td>\n",
       "      <td>0.436186</td>\n",
       "      <td>2.330116</td>\n",
       "      <td>2.924359</td>\n",
       "      <td>1.700116</td>\n",
       "      <td>0.510042</td>\n",
       "      <td>0.522836</td>\n",
       "      <td>0.498205</td>\n",
       "      <td>0.540224</td>\n",
       "      <td>0.499152</td>\n",
       "      <td>0.507011</td>\n",
       "    </tr>\n",
       "    <tr>\n",
       "      <th>8</th>\n",
       "      <td>mlp_1000_hvg</td>\n",
       "      <td>0.001020</td>\n",
       "      <td>0.001343</td>\n",
       "      <td>0.000759</td>\n",
       "      <td>0.967535</td>\n",
       "      <td>0.964407</td>\n",
       "      <td>0.957173</td>\n",
       "      <td>0.928426</td>\n",
       "      <td>0.909661</td>\n",
       "      <td>0.898741</td>\n",
       "      <td>...</td>\n",
       "      <td>0.478228</td>\n",
       "      <td>2.039568</td>\n",
       "      <td>2.686676</td>\n",
       "      <td>1.518190</td>\n",
       "      <td>0.519010</td>\n",
       "      <td>0.449697</td>\n",
       "      <td>0.453923</td>\n",
       "      <td>0.577421</td>\n",
       "      <td>0.467226</td>\n",
       "      <td>0.433261</td>\n",
       "    </tr>\n",
       "    <tr>\n",
       "      <th>9</th>\n",
       "      <td>prnet_1000_hvg</td>\n",
       "      <td>0.001955</td>\n",
       "      <td>0.005514</td>\n",
       "      <td>0.001310</td>\n",
       "      <td>0.940247</td>\n",
       "      <td>0.868517</td>\n",
       "      <td>0.925569</td>\n",
       "      <td>0.863732</td>\n",
       "      <td>0.634121</td>\n",
       "      <td>0.860790</td>\n",
       "      <td>...</td>\n",
       "      <td>0.430180</td>\n",
       "      <td>3.910684</td>\n",
       "      <td>11.027193</td>\n",
       "      <td>2.619383</td>\n",
       "      <td>0.439376</td>\n",
       "      <td>0.411549</td>\n",
       "      <td>0.465206</td>\n",
       "      <td>0.496410</td>\n",
       "      <td>0.389023</td>\n",
       "      <td>0.478365</td>\n",
       "    </tr>\n",
       "    <tr>\n",
       "      <th>10</th>\n",
       "      <td>null_2000_hvg</td>\n",
       "      <td>0.001346</td>\n",
       "      <td>0.001626</td>\n",
       "      <td>0.000945</td>\n",
       "      <td>0.946073</td>\n",
       "      <td>0.941291</td>\n",
       "      <td>0.949638</td>\n",
       "      <td>0.872306</td>\n",
       "      <td>0.845980</td>\n",
       "      <td>0.905054</td>\n",
       "      <td>...</td>\n",
       "      <td>0.503003</td>\n",
       "      <td>5.384282</td>\n",
       "      <td>6.503132</td>\n",
       "      <td>3.781523</td>\n",
       "      <td>0.299610</td>\n",
       "      <td>0.252727</td>\n",
       "      <td>0.245464</td>\n",
       "      <td>0.258770</td>\n",
       "      <td>0.192132</td>\n",
       "      <td>0.242786</td>\n",
       "    </tr>\n",
       "    <tr>\n",
       "      <th>11</th>\n",
       "      <td>mean_2000_hvg</td>\n",
       "      <td>0.001061</td>\n",
       "      <td>0.001121</td>\n",
       "      <td>0.000820</td>\n",
       "      <td>0.956319</td>\n",
       "      <td>0.958122</td>\n",
       "      <td>0.956980</td>\n",
       "      <td>0.897280</td>\n",
       "      <td>0.891032</td>\n",
       "      <td>0.923266</td>\n",
       "      <td>...</td>\n",
       "      <td>0.500000</td>\n",
       "      <td>4.242696</td>\n",
       "      <td>4.485453</td>\n",
       "      <td>3.278324</td>\n",
       "      <td>0.489164</td>\n",
       "      <td>0.488412</td>\n",
       "      <td>0.513152</td>\n",
       "      <td>0.629091</td>\n",
       "      <td>0.493888</td>\n",
       "      <td>0.595835</td>\n",
       "    </tr>\n",
       "    <tr>\n",
       "      <th>12</th>\n",
       "      <td>decoder_2000_hvg</td>\n",
       "      <td>0.000864</td>\n",
       "      <td>0.001002</td>\n",
       "      <td>0.000614</td>\n",
       "      <td>0.964323</td>\n",
       "      <td>0.962432</td>\n",
       "      <td>0.968618</td>\n",
       "      <td>0.918595</td>\n",
       "      <td>0.905845</td>\n",
       "      <td>0.936521</td>\n",
       "      <td>...</td>\n",
       "      <td>0.406907</td>\n",
       "      <td>3.454752</td>\n",
       "      <td>4.009968</td>\n",
       "      <td>2.456556</td>\n",
       "      <td>0.525040</td>\n",
       "      <td>0.525388</td>\n",
       "      <td>0.505937</td>\n",
       "      <td>0.539901</td>\n",
       "      <td>0.498102</td>\n",
       "      <td>0.502663</td>\n",
       "    </tr>\n",
       "    <tr>\n",
       "      <th>13</th>\n",
       "      <td>mlp_2000_hvg</td>\n",
       "      <td>0.000698</td>\n",
       "      <td>0.000862</td>\n",
       "      <td>0.000496</td>\n",
       "      <td>0.969976</td>\n",
       "      <td>0.967836</td>\n",
       "      <td>0.974218</td>\n",
       "      <td>0.934806</td>\n",
       "      <td>0.920451</td>\n",
       "      <td>0.945359</td>\n",
       "      <td>...</td>\n",
       "      <td>0.448198</td>\n",
       "      <td>2.793850</td>\n",
       "      <td>3.448074</td>\n",
       "      <td>1.985943</td>\n",
       "      <td>0.545313</td>\n",
       "      <td>0.512672</td>\n",
       "      <td>0.503572</td>\n",
       "      <td>0.610054</td>\n",
       "      <td>0.508758</td>\n",
       "      <td>0.539016</td>\n",
       "    </tr>\n",
       "    <tr>\n",
       "      <th>14</th>\n",
       "      <td>prnet_2000_hvg</td>\n",
       "      <td>0.001228</td>\n",
       "      <td>0.001797</td>\n",
       "      <td>0.000839</td>\n",
       "      <td>0.947256</td>\n",
       "      <td>0.932711</td>\n",
       "      <td>0.952761</td>\n",
       "      <td>0.887257</td>\n",
       "      <td>0.833844</td>\n",
       "      <td>0.911671</td>\n",
       "      <td>...</td>\n",
       "      <td>0.425676</td>\n",
       "      <td>4.910048</td>\n",
       "      <td>7.187463</td>\n",
       "      <td>3.357340</td>\n",
       "      <td>0.434702</td>\n",
       "      <td>0.437376</td>\n",
       "      <td>0.458546</td>\n",
       "      <td>0.566485</td>\n",
       "      <td>0.460785</td>\n",
       "      <td>0.557364</td>\n",
       "    </tr>\n",
       "    <tr>\n",
       "      <th>15</th>\n",
       "      <td>null_3500_hvg</td>\n",
       "      <td>0.001185</td>\n",
       "      <td>0.001302</td>\n",
       "      <td>0.000844</td>\n",
       "      <td>0.976499</td>\n",
       "      <td>0.968896</td>\n",
       "      <td>0.980683</td>\n",
       "      <td>0.948284</td>\n",
       "      <td>0.928923</td>\n",
       "      <td>0.961101</td>\n",
       "      <td>...</td>\n",
       "      <td>0.520270</td>\n",
       "      <td>8.297430</td>\n",
       "      <td>9.116739</td>\n",
       "      <td>5.904536</td>\n",
       "      <td>0.296534</td>\n",
       "      <td>0.257130</td>\n",
       "      <td>0.247826</td>\n",
       "      <td>0.219666</td>\n",
       "      <td>0.168388</td>\n",
       "      <td>0.128945</td>\n",
       "    </tr>\n",
       "    <tr>\n",
       "      <th>16</th>\n",
       "      <td>mean_3500_hvg</td>\n",
       "      <td>0.000891</td>\n",
       "      <td>0.000858</td>\n",
       "      <td>0.000679</td>\n",
       "      <td>0.982048</td>\n",
       "      <td>0.979185</td>\n",
       "      <td>0.984560</td>\n",
       "      <td>0.960829</td>\n",
       "      <td>0.952873</td>\n",
       "      <td>0.969033</td>\n",
       "      <td>...</td>\n",
       "      <td>0.500000</td>\n",
       "      <td>6.238000</td>\n",
       "      <td>6.007429</td>\n",
       "      <td>4.754669</td>\n",
       "      <td>0.469975</td>\n",
       "      <td>0.485832</td>\n",
       "      <td>0.498456</td>\n",
       "      <td>0.567311</td>\n",
       "      <td>0.417727</td>\n",
       "      <td>0.458179</td>\n",
       "    </tr>\n",
       "    <tr>\n",
       "      <th>17</th>\n",
       "      <td>decoder_3500_hvg</td>\n",
       "      <td>0.000740</td>\n",
       "      <td>0.000919</td>\n",
       "      <td>0.000546</td>\n",
       "      <td>0.985144</td>\n",
       "      <td>0.977813</td>\n",
       "      <td>0.987817</td>\n",
       "      <td>0.967998</td>\n",
       "      <td>0.950042</td>\n",
       "      <td>0.974265</td>\n",
       "      <td>...</td>\n",
       "      <td>0.444444</td>\n",
       "      <td>5.182289</td>\n",
       "      <td>6.434021</td>\n",
       "      <td>3.822226</td>\n",
       "      <td>0.468725</td>\n",
       "      <td>0.432428</td>\n",
       "      <td>0.440660</td>\n",
       "      <td>0.645846</td>\n",
       "      <td>0.401782</td>\n",
       "      <td>0.406191</td>\n",
       "    </tr>\n",
       "    <tr>\n",
       "      <th>18</th>\n",
       "      <td>mlp_3500_hvg</td>\n",
       "      <td>0.000642</td>\n",
       "      <td>0.000729</td>\n",
       "      <td>0.000465</td>\n",
       "      <td>0.986974</td>\n",
       "      <td>0.982174</td>\n",
       "      <td>0.989585</td>\n",
       "      <td>0.972118</td>\n",
       "      <td>0.960273</td>\n",
       "      <td>0.978355</td>\n",
       "      <td>...</td>\n",
       "      <td>0.485736</td>\n",
       "      <td>4.493254</td>\n",
       "      <td>5.100087</td>\n",
       "      <td>3.255372</td>\n",
       "      <td>0.539689</td>\n",
       "      <td>0.499004</td>\n",
       "      <td>0.479810</td>\n",
       "      <td>0.664878</td>\n",
       "      <td>0.418260</td>\n",
       "      <td>0.403926</td>\n",
       "    </tr>\n",
       "    <tr>\n",
       "      <th>19</th>\n",
       "      <td>prnet_3500_hvg</td>\n",
       "      <td>0.001173</td>\n",
       "      <td>0.001939</td>\n",
       "      <td>0.000814</td>\n",
       "      <td>0.976279</td>\n",
       "      <td>0.952779</td>\n",
       "      <td>0.981386</td>\n",
       "      <td>0.949174</td>\n",
       "      <td>0.894853</td>\n",
       "      <td>0.961958</td>\n",
       "      <td>...</td>\n",
       "      <td>0.454955</td>\n",
       "      <td>8.209462</td>\n",
       "      <td>13.572615</td>\n",
       "      <td>5.698905</td>\n",
       "      <td>0.411971</td>\n",
       "      <td>0.432175</td>\n",
       "      <td>0.440320</td>\n",
       "      <td>0.533198</td>\n",
       "      <td>0.402581</td>\n",
       "      <td>0.424186</td>\n",
       "    </tr>\n",
       "    <tr>\n",
       "      <th>20</th>\n",
       "      <td>null_5000_hvg</td>\n",
       "      <td>0.001027</td>\n",
       "      <td>0.001104</td>\n",
       "      <td>0.000738</td>\n",
       "      <td>0.973688</td>\n",
       "      <td>0.966763</td>\n",
       "      <td>0.978632</td>\n",
       "      <td>0.942873</td>\n",
       "      <td>0.924566</td>\n",
       "      <td>0.956959</td>\n",
       "      <td>...</td>\n",
       "      <td>0.488739</td>\n",
       "      <td>10.270098</td>\n",
       "      <td>11.039565</td>\n",
       "      <td>7.376782</td>\n",
       "      <td>0.291908</td>\n",
       "      <td>0.259344</td>\n",
       "      <td>0.254229</td>\n",
       "      <td>0.214322</td>\n",
       "      <td>0.187721</td>\n",
       "      <td>0.114722</td>\n",
       "    </tr>\n",
       "    <tr>\n",
       "      <th>21</th>\n",
       "      <td>mean_5000_hvg</td>\n",
       "      <td>0.000742</td>\n",
       "      <td>0.000706</td>\n",
       "      <td>0.000576</td>\n",
       "      <td>0.980775</td>\n",
       "      <td>0.978393</td>\n",
       "      <td>0.983493</td>\n",
       "      <td>0.958598</td>\n",
       "      <td>0.951673</td>\n",
       "      <td>0.966919</td>\n",
       "      <td>...</td>\n",
       "      <td>0.500000</td>\n",
       "      <td>7.419175</td>\n",
       "      <td>7.061900</td>\n",
       "      <td>5.759404</td>\n",
       "      <td>0.463744</td>\n",
       "      <td>0.482932</td>\n",
       "      <td>0.492926</td>\n",
       "      <td>0.510921</td>\n",
       "      <td>0.428405</td>\n",
       "      <td>0.434090</td>\n",
       "    </tr>\n",
       "    <tr>\n",
       "      <th>22</th>\n",
       "      <td>decoder_5000_hvg</td>\n",
       "      <td>0.000692</td>\n",
       "      <td>0.000754</td>\n",
       "      <td>0.000491</td>\n",
       "      <td>0.982423</td>\n",
       "      <td>0.976834</td>\n",
       "      <td>0.986650</td>\n",
       "      <td>0.961485</td>\n",
       "      <td>0.948371</td>\n",
       "      <td>0.970591</td>\n",
       "      <td>...</td>\n",
       "      <td>0.445195</td>\n",
       "      <td>6.920957</td>\n",
       "      <td>7.539852</td>\n",
       "      <td>4.905212</td>\n",
       "      <td>0.449927</td>\n",
       "      <td>0.439191</td>\n",
       "      <td>0.443838</td>\n",
       "      <td>0.572876</td>\n",
       "      <td>0.422078</td>\n",
       "      <td>0.427371</td>\n",
       "    </tr>\n",
       "    <tr>\n",
       "      <th>23</th>\n",
       "      <td>mlp_5000_hvg</td>\n",
       "      <td>0.000581</td>\n",
       "      <td>0.000632</td>\n",
       "      <td>0.000423</td>\n",
       "      <td>0.985106</td>\n",
       "      <td>0.980663</td>\n",
       "      <td>0.988021</td>\n",
       "      <td>0.967736</td>\n",
       "      <td>0.956686</td>\n",
       "      <td>0.975043</td>\n",
       "      <td>...</td>\n",
       "      <td>0.504505</td>\n",
       "      <td>5.810702</td>\n",
       "      <td>6.321951</td>\n",
       "      <td>4.232894</td>\n",
       "      <td>0.540110</td>\n",
       "      <td>0.510239</td>\n",
       "      <td>0.495126</td>\n",
       "      <td>0.606901</td>\n",
       "      <td>0.473356</td>\n",
       "      <td>0.418198</td>\n",
       "    </tr>\n",
       "    <tr>\n",
       "      <th>24</th>\n",
       "      <td>prnet_5000_hvg</td>\n",
       "      <td>0.000926</td>\n",
       "      <td>0.001196</td>\n",
       "      <td>0.000569</td>\n",
       "      <td>0.975836</td>\n",
       "      <td>0.963027</td>\n",
       "      <td>0.983419</td>\n",
       "      <td>0.948593</td>\n",
       "      <td>0.918419</td>\n",
       "      <td>0.966513</td>\n",
       "      <td>...</td>\n",
       "      <td>0.493243</td>\n",
       "      <td>9.256463</td>\n",
       "      <td>11.958225</td>\n",
       "      <td>5.687142</td>\n",
       "      <td>0.405474</td>\n",
       "      <td>0.428624</td>\n",
       "      <td>0.436052</td>\n",
       "      <td>0.461407</td>\n",
       "      <td>0.397846</td>\n",
       "      <td>0.403670</td>\n",
       "    </tr>\n",
       "    <tr>\n",
       "      <th>25</th>\n",
       "      <td>null_7500_hvg</td>\n",
       "      <td>0.000870</td>\n",
       "      <td>0.000935</td>\n",
       "      <td>0.000609</td>\n",
       "      <td>0.970640</td>\n",
       "      <td>0.964517</td>\n",
       "      <td>0.978018</td>\n",
       "      <td>0.936495</td>\n",
       "      <td>0.919657</td>\n",
       "      <td>0.955322</td>\n",
       "      <td>...</td>\n",
       "      <td>0.497748</td>\n",
       "      <td>13.050439</td>\n",
       "      <td>14.029574</td>\n",
       "      <td>9.128535</td>\n",
       "      <td>0.280181</td>\n",
       "      <td>0.257337</td>\n",
       "      <td>0.247977</td>\n",
       "      <td>0.208127</td>\n",
       "      <td>0.161238</td>\n",
       "      <td>0.085889</td>\n",
       "    </tr>\n",
       "    <tr>\n",
       "      <th>26</th>\n",
       "      <td>mean_7500_hvg</td>\n",
       "      <td>0.000595</td>\n",
       "      <td>0.000577</td>\n",
       "      <td>0.000457</td>\n",
       "      <td>0.979826</td>\n",
       "      <td>0.977814</td>\n",
       "      <td>0.983731</td>\n",
       "      <td>0.956793</td>\n",
       "      <td>0.950605</td>\n",
       "      <td>0.967189</td>\n",
       "      <td>...</td>\n",
       "      <td>0.500000</td>\n",
       "      <td>8.919830</td>\n",
       "      <td>8.659247</td>\n",
       "      <td>6.861155</td>\n",
       "      <td>0.452448</td>\n",
       "      <td>0.475786</td>\n",
       "      <td>0.481660</td>\n",
       "      <td>0.434899</td>\n",
       "      <td>0.434389</td>\n",
       "      <td>0.456715</td>\n",
       "    </tr>\n",
       "    <tr>\n",
       "      <th>27</th>\n",
       "      <td>decoder_7500_hvg</td>\n",
       "      <td>0.000477</td>\n",
       "      <td>0.000523</td>\n",
       "      <td>0.000340</td>\n",
       "      <td>0.984396</td>\n",
       "      <td>0.980403</td>\n",
       "      <td>0.988190</td>\n",
       "      <td>0.965129</td>\n",
       "      <td>0.955014</td>\n",
       "      <td>0.974617</td>\n",
       "      <td>...</td>\n",
       "      <td>0.508258</td>\n",
       "      <td>7.153374</td>\n",
       "      <td>7.837609</td>\n",
       "      <td>5.096589</td>\n",
       "      <td>0.530676</td>\n",
       "      <td>0.516136</td>\n",
       "      <td>0.491897</td>\n",
       "      <td>0.590540</td>\n",
       "      <td>0.507817</td>\n",
       "      <td>0.443277</td>\n",
       "    </tr>\n",
       "    <tr>\n",
       "      <th>28</th>\n",
       "      <td>mlp_7500_hvg</td>\n",
       "      <td>0.000451</td>\n",
       "      <td>0.000505</td>\n",
       "      <td>0.000332</td>\n",
       "      <td>0.984690</td>\n",
       "      <td>0.980583</td>\n",
       "      <td>0.988429</td>\n",
       "      <td>0.966980</td>\n",
       "      <td>0.956568</td>\n",
       "      <td>0.975197</td>\n",
       "      <td>...</td>\n",
       "      <td>0.403904</td>\n",
       "      <td>6.769254</td>\n",
       "      <td>7.573407</td>\n",
       "      <td>4.983118</td>\n",
       "      <td>0.539872</td>\n",
       "      <td>0.527876</td>\n",
       "      <td>0.509459</td>\n",
       "      <td>0.661524</td>\n",
       "      <td>0.556327</td>\n",
       "      <td>0.426039</td>\n",
       "    </tr>\n",
       "    <tr>\n",
       "      <th>29</th>\n",
       "      <td>prnet_7500_hvg</td>\n",
       "      <td>0.000732</td>\n",
       "      <td>0.000801</td>\n",
       "      <td>0.000482</td>\n",
       "      <td>0.974825</td>\n",
       "      <td>0.969013</td>\n",
       "      <td>0.982572</td>\n",
       "      <td>0.946344</td>\n",
       "      <td>0.931085</td>\n",
       "      <td>0.964133</td>\n",
       "      <td>...</td>\n",
       "      <td>0.434685</td>\n",
       "      <td>10.986315</td>\n",
       "      <td>12.007831</td>\n",
       "      <td>7.228314</td>\n",
       "      <td>0.396622</td>\n",
       "      <td>0.424989</td>\n",
       "      <td>0.424568</td>\n",
       "      <td>0.388827</td>\n",
       "      <td>0.405851</td>\n",
       "      <td>0.421731</td>\n",
       "    </tr>\n",
       "  </tbody>\n",
       "</table>\n",
       "<p>30 rows × 22 columns</p>\n",
       "</div>"
      ],
      "text/plain": [
       "                 key  mse_A549  mse_K562  mse_MCF7  css_A549  css_K562  \\\n",
       "0       null_500_hvg  0.002327  0.003070  0.002433  0.931026  0.937328   \n",
       "1       mean_500_hvg  0.001980  0.002240  0.002250  0.943127  0.953206   \n",
       "2    decoder_500_hvg  0.001511  0.002617  0.001641  0.956847  0.955084   \n",
       "3        mlp_500_hvg  0.001403  0.001753  0.001434  0.958613  0.962661   \n",
       "4      prnet_500_hvg  0.002057  0.002712  0.002153  0.937006  0.943324   \n",
       "5      null_1000_hvg  0.001953  0.002368  0.001394  0.943206  0.940596   \n",
       "6      mean_1000_hvg  0.001601  0.001699  0.001257  0.952098  0.955790   \n",
       "7   decoder_1000_hvg  0.001165  0.001462  0.000850  0.964563  0.962050   \n",
       "8       mlp_1000_hvg  0.001020  0.001343  0.000759  0.967535  0.964407   \n",
       "9     prnet_1000_hvg  0.001955  0.005514  0.001310  0.940247  0.868517   \n",
       "10     null_2000_hvg  0.001346  0.001626  0.000945  0.946073  0.941291   \n",
       "11     mean_2000_hvg  0.001061  0.001121  0.000820  0.956319  0.958122   \n",
       "12  decoder_2000_hvg  0.000864  0.001002  0.000614  0.964323  0.962432   \n",
       "13      mlp_2000_hvg  0.000698  0.000862  0.000496  0.969976  0.967836   \n",
       "14    prnet_2000_hvg  0.001228  0.001797  0.000839  0.947256  0.932711   \n",
       "15     null_3500_hvg  0.001185  0.001302  0.000844  0.976499  0.968896   \n",
       "16     mean_3500_hvg  0.000891  0.000858  0.000679  0.982048  0.979185   \n",
       "17  decoder_3500_hvg  0.000740  0.000919  0.000546  0.985144  0.977813   \n",
       "18      mlp_3500_hvg  0.000642  0.000729  0.000465  0.986974  0.982174   \n",
       "19    prnet_3500_hvg  0.001173  0.001939  0.000814  0.976279  0.952779   \n",
       "20     null_5000_hvg  0.001027  0.001104  0.000738  0.973688  0.966763   \n",
       "21     mean_5000_hvg  0.000742  0.000706  0.000576  0.980775  0.978393   \n",
       "22  decoder_5000_hvg  0.000692  0.000754  0.000491  0.982423  0.976834   \n",
       "23      mlp_5000_hvg  0.000581  0.000632  0.000423  0.985106  0.980663   \n",
       "24    prnet_5000_hvg  0.000926  0.001196  0.000569  0.975836  0.963027   \n",
       "25     null_7500_hvg  0.000870  0.000935  0.000609  0.970640  0.964517   \n",
       "26     mean_7500_hvg  0.000595  0.000577  0.000457  0.979826  0.977814   \n",
       "27  decoder_7500_hvg  0.000477  0.000523  0.000340  0.984396  0.980403   \n",
       "28      mlp_7500_hvg  0.000451  0.000505  0.000332  0.984690  0.980583   \n",
       "29    prnet_7500_hvg  0.000732  0.000801  0.000482  0.974825  0.969013   \n",
       "\n",
       "    css_MCF7   r2_A549   r2_K562   r2_MCF7  ...  rank_logfc_MCF7  \\\n",
       "0   0.924317  0.860587  0.830771  0.869861  ...         0.464715   \n",
       "1   0.936015  0.886277  0.877916  0.894586  ...         0.500000   \n",
       "2   0.954993  0.906319  0.855970  0.897646  ...         0.493994   \n",
       "3   0.958666  0.912385  0.904091  0.900101  ...         0.483483   \n",
       "4   0.934773  0.873700  0.850032  0.877180  ...         0.454204   \n",
       "5   0.928702  0.858847  0.838391  0.873087  ...         0.457958   \n",
       "6   0.939873  0.881419  0.882099  0.899655  ...         0.500000   \n",
       "7   0.958717  0.917587  0.900590  0.907874  ...         0.436186   \n",
       "8   0.957173  0.928426  0.909661  0.898741  ...         0.478228   \n",
       "9   0.925569  0.863732  0.634121  0.860790  ...         0.430180   \n",
       "10  0.949638  0.872306  0.845980  0.905054  ...         0.503003   \n",
       "11  0.956980  0.897280  0.891032  0.923266  ...         0.500000   \n",
       "12  0.968618  0.918595  0.905845  0.936521  ...         0.406907   \n",
       "13  0.974218  0.934806  0.920451  0.945359  ...         0.448198   \n",
       "14  0.952761  0.887257  0.833844  0.911671  ...         0.425676   \n",
       "15  0.980683  0.948284  0.928923  0.961101  ...         0.520270   \n",
       "16  0.984560  0.960829  0.952873  0.969033  ...         0.500000   \n",
       "17  0.987817  0.967998  0.950042  0.974265  ...         0.444444   \n",
       "18  0.989585  0.972118  0.960273  0.978355  ...         0.485736   \n",
       "19  0.981386  0.949174  0.894853  0.961958  ...         0.454955   \n",
       "20  0.978632  0.942873  0.924566  0.956959  ...         0.488739   \n",
       "21  0.983493  0.958598  0.951673  0.966919  ...         0.500000   \n",
       "22  0.986650  0.961485  0.948371  0.970591  ...         0.445195   \n",
       "23  0.988021  0.967736  0.956686  0.975043  ...         0.504505   \n",
       "24  0.983419  0.948593  0.918419  0.966513  ...         0.493243   \n",
       "25  0.978018  0.936495  0.919657  0.955322  ...         0.497748   \n",
       "26  0.983731  0.956793  0.950605  0.967189  ...         0.500000   \n",
       "27  0.988190  0.965129  0.955014  0.974617  ...         0.508258   \n",
       "28  0.988429  0.966980  0.956568  0.975197  ...         0.403904   \n",
       "29  0.982572  0.946344  0.931085  0.964133  ...         0.434685   \n",
       "\n",
       "    edistance_A549  edistance_K562  edistance_MCF7  logfc_corr_A549  \\\n",
       "0         2.326914        3.070333        2.433338         0.303523   \n",
       "1         1.979768        2.239554        2.250188         0.531066   \n",
       "2         1.511314        2.617257        1.640940         0.509060   \n",
       "3         1.402776        1.753229        1.434359         0.513716   \n",
       "4         2.056550        2.711526        2.152934         0.479654   \n",
       "5         3.906493        4.735933        2.788992         0.298611   \n",
       "6         3.202551        3.398602        2.513888         0.497864   \n",
       "7         2.330116        2.924359        1.700116         0.510042   \n",
       "8         2.039568        2.686676        1.518190         0.519010   \n",
       "9         3.910684       11.027193        2.619383         0.439376   \n",
       "10        5.384282        6.503132        3.781523         0.299610   \n",
       "11        4.242696        4.485453        3.278324         0.489164   \n",
       "12        3.454752        4.009968        2.456556         0.525040   \n",
       "13        2.793850        3.448074        1.985943         0.545313   \n",
       "14        4.910048        7.187463        3.357340         0.434702   \n",
       "15        8.297430        9.116739        5.904536         0.296534   \n",
       "16        6.238000        6.007429        4.754669         0.469975   \n",
       "17        5.182289        6.434021        3.822226         0.468725   \n",
       "18        4.493254        5.100087        3.255372         0.539689   \n",
       "19        8.209462       13.572615        5.698905         0.411971   \n",
       "20       10.270098       11.039565        7.376782         0.291908   \n",
       "21        7.419175        7.061900        5.759404         0.463744   \n",
       "22        6.920957        7.539852        4.905212         0.449927   \n",
       "23        5.810702        6.321951        4.232894         0.540110   \n",
       "24        9.256463       11.958225        5.687142         0.405474   \n",
       "25       13.050439       14.029574        9.128535         0.280181   \n",
       "26        8.919830        8.659247        6.861155         0.452448   \n",
       "27        7.153374        7.837609        5.096589         0.530676   \n",
       "28        6.769254        7.573407        4.983118         0.539872   \n",
       "29       10.986315       12.007831        7.228314         0.396622   \n",
       "\n",
       "    logfc_corr_K562  logfc_corr_MCF7  top_logfc_corr_A549  \\\n",
       "0          0.205519         0.219085             0.217088   \n",
       "1          0.473062         0.538221             0.543020   \n",
       "2          0.448183         0.464579             0.456152   \n",
       "3          0.473747         0.470080             0.460706   \n",
       "4          0.413362         0.492455             0.500168   \n",
       "5          0.236802         0.229336             0.204916   \n",
       "6          0.468954         0.517274             0.544115   \n",
       "7          0.522836         0.498205             0.540224   \n",
       "8          0.449697         0.453923             0.577421   \n",
       "9          0.411549         0.465206             0.496410   \n",
       "10         0.252727         0.245464             0.258770   \n",
       "11         0.488412         0.513152             0.629091   \n",
       "12         0.525388         0.505937             0.539901   \n",
       "13         0.512672         0.503572             0.610054   \n",
       "14         0.437376         0.458546             0.566485   \n",
       "15         0.257130         0.247826             0.219666   \n",
       "16         0.485832         0.498456             0.567311   \n",
       "17         0.432428         0.440660             0.645846   \n",
       "18         0.499004         0.479810             0.664878   \n",
       "19         0.432175         0.440320             0.533198   \n",
       "20         0.259344         0.254229             0.214322   \n",
       "21         0.482932         0.492926             0.510921   \n",
       "22         0.439191         0.443838             0.572876   \n",
       "23         0.510239         0.495126             0.606901   \n",
       "24         0.428624         0.436052             0.461407   \n",
       "25         0.257337         0.247977             0.208127   \n",
       "26         0.475786         0.481660             0.434899   \n",
       "27         0.516136         0.491897             0.590540   \n",
       "28         0.527876         0.509459             0.661524   \n",
       "29         0.424989         0.424568             0.388827   \n",
       "\n",
       "    top_logfc_corr_K562  top_logfc_corr_MCF7  \n",
       "0              0.132075             0.221653  \n",
       "1              0.393115             0.628642  \n",
       "2              0.444223             0.508680  \n",
       "3              0.461857             0.539699  \n",
       "4              0.356337             0.578506  \n",
       "5              0.177651             0.161867  \n",
       "6              0.434709             0.532173  \n",
       "7              0.499152             0.507011  \n",
       "8              0.467226             0.433261  \n",
       "9              0.389023             0.478365  \n",
       "10             0.192132             0.242786  \n",
       "11             0.493888             0.595835  \n",
       "12             0.498102             0.502663  \n",
       "13             0.508758             0.539016  \n",
       "14             0.460785             0.557364  \n",
       "15             0.168388             0.128945  \n",
       "16             0.417727             0.458179  \n",
       "17             0.401782             0.406191  \n",
       "18             0.418260             0.403926  \n",
       "19             0.402581             0.424186  \n",
       "20             0.187721             0.114722  \n",
       "21             0.428405             0.434090  \n",
       "22             0.422078             0.427371  \n",
       "23             0.473356             0.418198  \n",
       "24             0.397846             0.403670  \n",
       "25             0.161238             0.085889  \n",
       "26             0.434389             0.456715  \n",
       "27             0.507817             0.443277  \n",
       "28             0.556327             0.426039  \n",
       "29             0.405851             0.421731  \n",
       "\n",
       "[30 rows x 22 columns]"
      ]
     },
     "execution_count": 53,
     "metadata": {},
     "output_type": "execute_result"
    }
   ],
   "source": [
    "df"
   ]
  },
  {
   "cell_type": "code",
   "execution_count": 54,
   "id": "ce61e3a5-046a-47c4-8617-63ffec1b2811",
   "metadata": {},
   "outputs": [],
   "source": [
    "df.to_csv('./results/feature_number/full_results_featno.csv')"
   ]
  },
  {
   "cell_type": "code",
   "execution_count": null,
   "id": "d61bed18-d5e6-4c78-826c-6773cc59a8f0",
   "metadata": {},
   "outputs": [],
   "source": []
  }
 ],
 "metadata": {
  "kernelspec": {
   "display_name": "Python 3 (ipykernel)",
   "language": "python",
   "name": "python3"
  },
  "language_info": {
   "codemirror_mode": {
    "name": "ipython",
    "version": 3
   },
   "file_extension": ".py",
   "mimetype": "text/x-python",
   "name": "python",
   "nbconvert_exporter": "python",
   "pygments_lexer": "ipython3",
   "version": "3.12.7"
  }
 },
 "nbformat": 4,
 "nbformat_minor": 5
}
