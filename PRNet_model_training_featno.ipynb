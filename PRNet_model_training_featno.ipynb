{
 "cells": [
  {
   "cell_type": "code",
   "execution_count": 2,
   "id": "4661208e-c4d9-417f-9c5b-f6a82576653b",
   "metadata": {},
   "outputs": [],
   "source": [
    "import anndata as ad\n",
    "import pickle as pkl\n",
    "\n",
    "from src.evaluator.PRNet_evaluator import get_models_results\n",
    "from src.utils import get_model_stats"
   ]
  },
  {
   "cell_type": "code",
   "execution_count": 3,
   "id": "c4d522b9-1658-4a91-8989-be064b086319",
   "metadata": {},
   "outputs": [],
   "source": [
    "def train_different_featno(adata_path=None, run_name=None, res_savename=None, input_dim=None, output_dim=None):\n",
    "    DRUG_ENCODING_NAME = \"fmfp\"\n",
    "    DRUG_ENCODING_SIZE = 1024\n",
    "    N_TRIALS = 50\n",
    "    SCHEDULER_MODE = 'min'\n",
    "\n",
    "    with open(\"./data/drug_splits/train_drugs_rand.pkl\", 'rb') as f:\n",
    "        drugs_train_rand = pkl.load(f)\n",
    "\n",
    "    with open(\"./data/drug_splits/val_drugs_rand.pkl\", 'rb') as f:\n",
    "        drugs_val_rand = pkl.load(f)\n",
    "\n",
    "    with open(\"./data/drug_splits/test_drugs_rand.pkl\", 'rb') as f:\n",
    "        drugs_test_rand = pkl.load(f)\n",
    "\n",
    "    drug_splits = dict()\n",
    "    drug_splits['train'] = drugs_train_rand\n",
    "    drug_splits['valid'] = drugs_val_rand\n",
    "    drug_splits['test'] = drugs_test_rand\n",
    "\n",
    "    adata = ad.read_h5ad(adata_path)\n",
    "\n",
    "    get_models_results(drug_splits=drug_splits,\n",
    "                          adata=adata,\n",
    "                          input_dim=input_dim,\n",
    "                          output_dim=output_dim,\n",
    "                          drug_rep_name=DRUG_ENCODING_NAME,\n",
    "                          drug_emb_size=DRUG_ENCODING_SIZE,\n",
    "                          n_trials=N_TRIALS,\n",
    "                          scheduler_mode=SCHEDULER_MODE,\n",
    "                          run_name=run_name,\n",
    "                          save_path=res_savename,\n",
    "                          add_relu=True\n",
    "                      )"
   ]
  },
  {
   "cell_type": "code",
   "execution_count": null,
   "id": "90c2d750-a17a-4e4c-910d-f840dc6cb2cd",
   "metadata": {},
   "outputs": [
    {
     "name": "stdout",
     "output_type": "stream",
     "text": [
      "Loading Datasets ...\n"
     ]
    },
    {
     "name": "stderr",
     "output_type": "stream",
     "text": [
      " 53%|██████████████████████████████████████████████████████████████████████████████████████▎                                                                            | 212846/401917 [01:39<01:48, 1742.50it/s]"
     ]
    }
   ],
   "source": [
    "train_different_featno(\n",
    "        adata_path=\"./data/feature_number/sciplex_hvg_500.h5ad\",\n",
    "        run_name=\"prnet_hvg_500\",\n",
    "        res_savename=\"./results/feature_number/prnet_hvg_500_res.pkl\",\n",
    "        input_dim=500,\n",
    "        output_dim=500,\n",
    "    )"
   ]
  },
  {
   "cell_type": "code",
   "execution_count": null,
   "id": "4a8f4ce7-c21a-4d6b-8d76-7d32c4d6dcb0",
   "metadata": {},
   "outputs": [],
   "source": [
    "train_different_featno(\n",
    "        adata_path=\"./data/feature_number/sciplex_hvg_1000.h5ad\",\n",
    "        run_name=\"prnet_hvg_1000\",\n",
    "        res_savename=\"./results/feature_number/prnet_hvg_1000_res.pkl\",\n",
    "        input_dim=1000,\n",
    "        output_dim=1000,\n",
    "    )"
   ]
  },
  {
   "cell_type": "code",
   "execution_count": null,
   "id": "83efe568-da00-4e0f-9a97-91c8328d52bd",
   "metadata": {},
   "outputs": [],
   "source": [
    "train_different_featno(\n",
    "        adata_path=\"./data/feature_number/sciplex_hvg_2000.h5ad\",\n",
    "        run_name=\"prnet_hvg_2000\",\n",
    "        res_savename=\"./results/feature_number/prnet_hvg_2000_res.pkl\",\n",
    "        input_dim=2000,\n",
    "        output_dim=2000,\n",
    "    )"
   ]
  },
  {
   "cell_type": "code",
   "execution_count": null,
   "id": "65f82fd2-ad20-4115-9ac9-6a1433b23653",
   "metadata": {},
   "outputs": [],
   "source": [
    "train_different_featno(\n",
    "        adata_path=\"./data/feature_number/sciplex_hvg_3500.h5ad\",\n",
    "        run_name=\"prnet_hvg_3500\",\n",
    "        res_savename=\"./results/feature_number/prnet_hvg_3500_res.pkl\",\n",
    "        input_dim=3500,\n",
    "        output_dim=3500,\n",
    "    )"
   ]
  },
  {
   "cell_type": "code",
   "execution_count": null,
   "id": "186d18ca-6a00-4da5-b25e-9991da2310bf",
   "metadata": {},
   "outputs": [],
   "source": [
    "train_different_featno(\n",
    "        adata_path=\"./data/feature_number/sciplex_hvg_5000.h5ad\",\n",
    "        run_name=\"prnet_hvg_5000\",\n",
    "        res_savename=\"./results/feature_number/prnet_hvg_5000_res.pkl\",\n",
    "        input_dim=5000,\n",
    "        output_dim=5000,\n",
    "    )"
   ]
  },
  {
   "cell_type": "code",
   "execution_count": null,
   "id": "41d441e6-e591-4fc5-aad1-d7e9f903b732",
   "metadata": {},
   "outputs": [],
   "source": [
    "train_different_featno(\n",
    "        adata_path=\"./data/feature_number/sciplex_hvg_7500.h5ad\",\n",
    "        run_name=\"prnet_hvg_7500\",\n",
    "        res_savename=\"./results/feature_number/prnet_hvg_7500_res.pkl\",\n",
    "        input_dim=7500,\n",
    "        output_dim=7500,\n",
    "    )"
   ]
  },
  {
   "cell_type": "code",
   "execution_count": null,
   "id": "8a792631-0d17-49be-a033-d39347b7b01b",
   "metadata": {},
   "outputs": [],
   "source": []
  }
 ],
 "metadata": {
  "kernelspec": {
   "display_name": "Python 3 (ipykernel)",
   "language": "python",
   "name": "python3"
  },
  "language_info": {
   "codemirror_mode": {
    "name": "ipython",
    "version": 3
   },
   "file_extension": ".py",
   "mimetype": "text/x-python",
   "name": "python",
   "nbconvert_exporter": "python",
   "pygments_lexer": "ipython3",
   "version": "3.12.7"
  }
 },
 "nbformat": 4,
 "nbformat_minor": 5
}
