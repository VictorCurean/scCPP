{
 "cells": [
  {
   "cell_type": "code",
   "execution_count": 1,
   "id": "5aae22bc-1d29-4555-8cb0-d720123a7265",
   "metadata": {},
   "outputs": [],
   "source": [
    "import anndata as ad"
   ]
  },
  {
   "cell_type": "code",
   "execution_count": 2,
   "id": "05675448-460a-4cb3-93ca-bd09ee4c7d61",
   "metadata": {},
   "outputs": [],
   "source": [
    "adata = ad.read_h5ad(\"../../data/sciplex/sciplex_final.h5ad\")"
   ]
  },
  {
   "cell_type": "code",
   "execution_count": 3,
   "id": "6944c43c-de88-4fc9-804c-3f261359a078",
   "metadata": {},
   "outputs": [],
   "source": [
    "drugs = adata.obs['product_name'].unique()"
   ]
  },
  {
   "cell_type": "code",
   "execution_count": 4,
   "id": "6e2e2262-1a43-43bf-bf8d-64182be13eef",
   "metadata": {},
   "outputs": [
    {
     "data": {
      "text/plain": [
       "['Enzastaurin (LY317615)', 'Raltitrexed', 'Vehicle', 'Lenalidomide (CC-5013)', 'MLN8054', ..., 'Tucidinostat (Chidamide)', 'PCI-34051', 'Epothilone A', 'Thiotepa', 'PHA-680632']\n",
       "Length: 186\n",
       "Categories (186, object): ['2-Methoxyestradiol (2-MeOE2)', '(+)-JQ1', 'A-366', 'ABT-737', ..., 'XAV-939', 'YM155 (Sepantronium Bromide)', 'ZM 447439', 'Zileuton']"
      ]
     },
     "execution_count": 4,
     "metadata": {},
     "output_type": "execute_result"
    }
   ],
   "source": [
    "drugs"
   ]
  },
  {
   "cell_type": "code",
   "execution_count": 5,
   "id": "b162148f-6f9b-4fb9-a09c-064fb411dcf6",
   "metadata": {},
   "outputs": [],
   "source": [
    "adata = adata[adata.obs['product_name'].isin([\"Vehicle\", \"A-366\", \"Raltitrexed\", \"Thiotepa\"])]"
   ]
  },
  {
   "cell_type": "code",
   "execution_count": 6,
   "id": "6429ea0f-e380-4a9b-b7fe-5599c0596b2d",
   "metadata": {},
   "outputs": [
    {
     "data": {
      "text/plain": [
       "View of AnnData object with n_obs × n_vars = 22166 × 17376\n",
       "    obs: 'cell_type', 'dose', 'dose_character', 'dose_pattern', 'g1s_score', 'g2m_score', 'pathway', 'pathway_level_1', 'pathway_level_2', 'product_dose', 'product_name', 'proliferation_index', 'replicate', 'size_factor', 'target', 'vehicle', 'n_genes', 'SMILES', 'pubchem_id', 'sm_coati_emb', 'sm_morgan_emb', 'condition_aggregate', 'match_index', 'split_50', 'split_100', 'split_200', 'split_300', 'split_400'\n",
       "    var: 'id', 'num_cells_expressed-0-0', 'num_cells_expressed-1-0', 'num_cells_expressed-1', 'n_cells'\n",
       "    uns: 'gene_names_2000', 'gene_names_3500', 'gene_names_5000'\n",
       "    obsm: 'X_2000_hvg', 'X_3500_hvg', 'X_5000_hvg', 'X_uce'"
      ]
     },
     "execution_count": 6,
     "metadata": {},
     "output_type": "execute_result"
    }
   ],
   "source": [
    "adata"
   ]
  },
  {
   "cell_type": "code",
   "execution_count": 7,
   "id": "212a41ce-63ab-454c-bc06-ed2823d1866a",
   "metadata": {},
   "outputs": [],
   "source": [
    "adata.write_h5ad(\"../../data/sciplex/sciplex_testing.h5ad\")"
   ]
  },
  {
   "cell_type": "code",
   "execution_count": null,
   "id": "d193dde3-7cc6-4fd7-91da-bdd62216d1d3",
   "metadata": {},
   "outputs": [],
   "source": []
  }
 ],
 "metadata": {
  "kernelspec": {
   "display_name": "Python 3 (ipykernel)",
   "language": "python",
   "name": "python3"
  },
  "language_info": {
   "codemirror_mode": {
    "name": "ipython",
    "version": 3
   },
   "file_extension": ".py",
   "mimetype": "text/x-python",
   "name": "python",
   "nbconvert_exporter": "python",
   "pygments_lexer": "ipython3",
   "version": "3.12.7"
  }
 },
 "nbformat": 4,
 "nbformat_minor": 5
}
