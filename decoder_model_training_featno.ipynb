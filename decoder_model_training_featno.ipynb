{
 "cells": [
  {
   "cell_type": "code",
   "execution_count": 5,
   "id": "a5b97a7d-3187-43e9-8f4c-0e5a9f3ced8e",
   "metadata": {},
   "outputs": [],
   "source": [
    "import anndata as ad\n",
    "import pickle as pkl\n",
    "\n",
    "from src.evaluator.decoder_evaluator import get_models_results\n",
    "from src.evaluator.evaluator_utils import l2_loss"
   ]
  },
  {
   "cell_type": "code",
   "execution_count": 6,
   "id": "b693acab-bcf5-43fb-996b-a33455e1553e",
   "metadata": {},
   "outputs": [],
   "source": [
    "def train_different_featno(adata_path=None, run_name=None, res_savename=None, output_dim=None):\n",
    "    DRUG_ENCODING_NAME = \"fmfp\"\n",
    "    DRUG_ENCODING_SIZE = 1024\n",
    "    N_TRIALS = 50\n",
    "    SCHEDULER_MODE = 'min'\n",
    "\n",
    "    with open(\"./data/drug_splits/train_drugs_rand.pkl\", 'rb') as f:\n",
    "        drugs_train_rand = pkl.load(f)\n",
    "\n",
    "    with open(\"./data/drug_splits/val_drugs_rand.pkl\", 'rb') as f:\n",
    "        drugs_val_rand = pkl.load(f)\n",
    "\n",
    "    with open(\"./data/drug_splits/test_drugs_rand.pkl\", 'rb') as f:\n",
    "        drugs_test_rand = pkl.load(f)\n",
    "\n",
    "    drug_splits = dict()\n",
    "    drug_splits['train'] = drugs_train_rand\n",
    "    drug_splits['valid'] = drugs_val_rand\n",
    "    drug_splits['test'] = drugs_test_rand\n",
    "\n",
    "    adata = ad.read_h5ad(adata_path)\n",
    "\n",
    "    get_models_results(drug_splits=drug_splits,\n",
    "                          loss_function=l2_loss,\n",
    "                          adata=adata,\n",
    "                          input_dim=3,\n",
    "                          output_dim=output_dim,\n",
    "                          drug_rep_name=DRUG_ENCODING_NAME,\n",
    "                          drug_emb_size=DRUG_ENCODING_SIZE,\n",
    "                          n_trials=N_TRIALS,\n",
    "                          scheduler_mode=SCHEDULER_MODE,\n",
    "                          run_name=run_name,\n",
    "                          save_path=res_savename,\n",
    "                          add_relu=True\n",
    "                      )"
   ]
  },
  {
   "cell_type": "code",
   "execution_count": null,
   "id": "da03abdc-b696-4375-99b3-563e3be3e48a",
   "metadata": {},
   "outputs": [
    {
     "name": "stdout",
     "output_type": "stream",
     "text": [
      "Loading Datasets ...\n"
     ]
    },
    {
     "name": "stderr",
     "output_type": "stream",
     "text": [
      "100%|███████████████████████████████████████████████████████████████████████████████████████████████████████████████████████████████████████████████████████████████████| 401917/401917 [03:07<00:00, 2142.94it/s]\n",
      "100%|███████████████████████████████████████████████████████████████████████████████████████████████████████████████████████████████████████████████████████████████████| 401917/401917 [01:14<00:00, 5414.96it/s]\n",
      "[I 2025-06-18 12:14:28,947] A new study created in RDB with name: decoder_hvg_500\n"
     ]
    },
    {
     "name": "stdout",
     "output_type": "stream",
     "text": [
      "Optimizing Hyperparameters with Optuna ...\n",
      "Epoch:\t 0 Val Loss:\t 0.036040958764560725\n",
      "Epoch:\t 1 Val Loss:\t 0.0359940535447188\n",
      "Epoch:\t 2 Val Loss:\t 0.03582629210122803\n",
      "Epoch:\t 3 Val Loss:\t 0.03582519927864855\n",
      "Epoch:\t 4 Val Loss:\t 0.036094724330722236\n",
      "Epoch:\t 5 Val Loss:\t 0.03576840181352143\n",
      "Epoch:\t 6 Val Loss:\t 0.03585878534789644\n",
      "Epoch:\t 7 Val Loss:\t 0.03574844200110263\n",
      "Epoch:\t 8 Val Loss:\t 0.035793500481529184\n",
      "Epoch:\t 9 Val Loss:\t 0.035686842017892274\n",
      "Epoch:\t 10 Val Loss:\t 0.035923281869885436\n",
      "Epoch:\t 11 Val Loss:\t 0.03587923205216949\n",
      "Epoch:\t 12 Val Loss:\t 0.035885136326353394\n",
      "Epoch:\t 13 Val Loss:\t 0.03603785663221277\n",
      "Epoch:\t 14 Val Loss:\t 0.03586215011321044\n",
      "Epoch:\t 15 Val Loss:\t 0.03581007752705061\n",
      "Epoch:\t 16 Val Loss:\t 0.035877912994444275\n",
      "Epoch:\t 17 Val Loss:\t 0.0357632360407667\n",
      "Epoch:\t 18 Val Loss:\t 0.03576978373776278\n"
     ]
    },
    {
     "name": "stderr",
     "output_type": "stream",
     "text": [
      "[I 2025-06-18 12:15:12,035] Trial 0 finished with value: 0.035686842017892274 and parameters: {'lr': 0.001, 'weight_decay': 0.001, 'scheduler_factor': 0.3, 'scheduler_patience': 20, 'batch_size': 128, 'dropout': 0.2, 'hidden_dims': 128}. Best is trial 0 with value: 0.035686842017892274.\n"
     ]
    },
    {
     "name": "stdout",
     "output_type": "stream",
     "text": [
      "Epoch:\t 19 Val Loss:\t 0.035808348478106586\n",
      "Epoch:\t 0 Val Loss:\t 0.038022296488258195\n",
      "Epoch:\t 1 Val Loss:\t 0.03644553445778941\n",
      "Epoch:\t 2 Val Loss:\t 0.03604772642398139\n",
      "Epoch:\t 3 Val Loss:\t 0.03582695532314729\n",
      "Epoch:\t 4 Val Loss:\t 0.03566017445080554\n",
      "Epoch:\t 5 Val Loss:\t 0.03580968765878911\n",
      "Epoch:\t 6 Val Loss:\t 0.03574560487508905\n",
      "Epoch:\t 7 Val Loss:\t 0.03575120633122821\n",
      "Epoch:\t 8 Val Loss:\t 0.035745682103394794\n",
      "Epoch:\t 9 Val Loss:\t 0.03573907113109143\n",
      "Epoch:\t 10 Val Loss:\t 0.03569552591871049\n",
      "Epoch:\t 11 Val Loss:\t 0.03577713483369433\n",
      "Epoch:\t 12 Val Loss:\t 0.03574741372782263\n",
      "Epoch:\t 13 Val Loss:\t 0.03578403928550194\n"
     ]
    },
    {
     "name": "stderr",
     "output_type": "stream",
     "text": [
      "[I 2025-06-18 12:18:07,000] Trial 1 finished with value: 0.03566017445080554 and parameters: {'lr': 1e-05, 'weight_decay': 0.001, 'scheduler_factor': 0.3, 'scheduler_patience': 1, 'batch_size': 16, 'dropout': 0.1, 'hidden_dims': 256}. Best is trial 1 with value: 0.03566017445080554.\n"
     ]
    },
    {
     "name": "stdout",
     "output_type": "stream",
     "text": [
      "Epoch:\t 14 Val Loss:\t 0.035710386979479314\n",
      "Epoch:\t 0 Val Loss:\t 0.06744520060634346\n",
      "Epoch:\t 1 Val Loss:\t 0.054380036465955205\n",
      "Epoch:\t 2 Val Loss:\t 0.05049358516405329\n",
      "Epoch:\t 3 Val Loss:\t 0.048896340052350565\n",
      "Epoch:\t 4 Val Loss:\t 0.04797175038683663\n",
      "Epoch:\t 5 Val Loss:\t 0.047165043215546903\n",
      "Epoch:\t 6 Val Loss:\t 0.04657300886956685\n",
      "Epoch:\t 7 Val Loss:\t 0.04588967263339802\n",
      "Epoch:\t 8 Val Loss:\t 0.04522650343265809\n",
      "Epoch:\t 9 Val Loss:\t 0.044609905329695866\n",
      "Epoch:\t 10 Val Loss:\t 0.044051297122603625\n",
      "Epoch:\t 11 Val Loss:\t 0.0434296712410871\n",
      "Epoch:\t 12 Val Loss:\t 0.0428082597760385\n",
      "Epoch:\t 13 Val Loss:\t 0.04227996485406476\n",
      "Epoch:\t 14 Val Loss:\t 0.0417388075511203\n",
      "Epoch:\t 15 Val Loss:\t 0.041248632837116814\n",
      "Epoch:\t 16 Val Loss:\t 0.040865078412988975\n",
      "Epoch:\t 17 Val Loss:\t 0.04048172684078423\n",
      "Epoch:\t 18 Val Loss:\t 0.040164403384177684\n",
      "Epoch:\t 19 Val Loss:\t 0.0398281691341779\n",
      "Epoch:\t 20 Val Loss:\t 0.03953457482003668\n",
      "Epoch:\t 21 Val Loss:\t 0.03934901378104048\n",
      "Epoch:\t 22 Val Loss:\t 0.03917788046847186\n",
      "Epoch:\t 23 Val Loss:\t 0.0389449969830999\n",
      "Epoch:\t 24 Val Loss:\t 0.03881060311729223\n",
      "Epoch:\t 25 Val Loss:\t 0.03865539911614184\n",
      "Epoch:\t 26 Val Loss:\t 0.03855470870210405\n",
      "Epoch:\t 27 Val Loss:\t 0.03843662896482079\n",
      "Epoch:\t 28 Val Loss:\t 0.0382760569907689\n",
      "Epoch:\t 29 Val Loss:\t 0.03815589394318732\n",
      "Epoch:\t 30 Val Loss:\t 0.0380700673866138\n",
      "Epoch:\t 31 Val Loss:\t 0.03793385388691391\n",
      "Epoch:\t 32 Val Loss:\t 0.037887019893067794\n",
      "Epoch:\t 33 Val Loss:\t 0.037756283287658544\n",
      "Epoch:\t 34 Val Loss:\t 0.03768316570244861\n",
      "Epoch:\t 35 Val Loss:\t 0.03761818287460609\n",
      "Epoch:\t 36 Val Loss:\t 0.037513528981905304\n",
      "Epoch:\t 37 Val Loss:\t 0.03746068752393198\n",
      "Epoch:\t 38 Val Loss:\t 0.037381497108606235\n",
      "Epoch:\t 39 Val Loss:\t 0.03734678346035856\n",
      "Epoch:\t 40 Val Loss:\t 0.037266873768015046\n",
      "Epoch:\t 41 Val Loss:\t 0.037197708431780815\n",
      "Epoch:\t 42 Val Loss:\t 0.037165889507503415\n",
      "Epoch:\t 43 Val Loss:\t 0.037102448139608765\n",
      "Epoch:\t 44 Val Loss:\t 0.03705644916988204\n",
      "Epoch:\t 45 Val Loss:\t 0.03701500373071786\n",
      "Epoch:\t 46 Val Loss:\t 0.03700347670188015\n",
      "Epoch:\t 47 Val Loss:\t 0.03693308619958727\n",
      "Epoch:\t 48 Val Loss:\t 0.03692136812853488\n",
      "Epoch:\t 49 Val Loss:\t 0.03688337540262966\n",
      "Epoch:\t 50 Val Loss:\t 0.03686992084999146\n",
      "Epoch:\t 51 Val Loss:\t 0.03681919863073822\n",
      "Epoch:\t 52 Val Loss:\t 0.0368144591555693\n",
      "Epoch:\t 53 Val Loss:\t 0.03678416620407786\n",
      "Epoch:\t 54 Val Loss:\t 0.03675310885351313\n",
      "Epoch:\t 55 Val Loss:\t 0.03672286990079222\n",
      "Epoch:\t 56 Val Loss:\t 0.03672658953737964\n",
      "Epoch:\t 57 Val Loss:\t 0.03672052106340184\n",
      "Epoch:\t 58 Val Loss:\t 0.036718384570548275\n",
      "Epoch:\t 59 Val Loss:\t 0.0366859096364024\n",
      "Epoch:\t 60 Val Loss:\t 0.03668332841085871\n",
      "Epoch:\t 61 Val Loss:\t 0.036665110922094145\n",
      "Epoch:\t 62 Val Loss:\t 0.036642922354596\n",
      "Epoch:\t 63 Val Loss:\t 0.036683951254880255\n",
      "Epoch:\t 64 Val Loss:\t 0.036658495222106215\n",
      "Epoch:\t 65 Val Loss:\t 0.03663943277411821\n",
      "Epoch:\t 66 Val Loss:\t 0.03667739242387048\n",
      "Epoch:\t 67 Val Loss:\t 0.03663911332300061\n",
      "Epoch:\t 68 Val Loss:\t 0.03665186715032756\n",
      "Epoch:\t 69 Val Loss:\t 0.03666847810017641\n",
      "Epoch:\t 70 Val Loss:\t 0.03666261645156537\n",
      "Epoch:\t 71 Val Loss:\t 0.03667828896012677\n",
      "Epoch:\t 72 Val Loss:\t 0.03669433704432381\n",
      "Epoch:\t 73 Val Loss:\t 0.03670354172240578\n",
      "Epoch:\t 74 Val Loss:\t 0.036718539612586004\n",
      "Epoch:\t 75 Val Loss:\t 0.03670764672622252\n",
      "Epoch:\t 76 Val Loss:\t 0.03671198079353542\n"
     ]
    },
    {
     "name": "stderr",
     "output_type": "stream",
     "text": [
      "[I 2025-06-18 12:21:05,873] Trial 2 finished with value: 0.03663911332300061 and parameters: {'lr': 1e-06, 'weight_decay': 0.001, 'scheduler_factor': 0.1, 'scheduler_patience': 5, 'batch_size': 128, 'dropout': 0.15, 'hidden_dims': 512}. Best is trial 1 with value: 0.03566017445080554.\n"
     ]
    },
    {
     "name": "stdout",
     "output_type": "stream",
     "text": [
      "Epoch:\t 77 Val Loss:\t 0.03673161994695759\n",
      "Epoch:\t 0 Val Loss:\t 0.03589680688351058\n",
      "Epoch:\t 1 Val Loss:\t 0.03581555143752125\n",
      "Epoch:\t 2 Val Loss:\t 0.03592527249639624\n",
      "Epoch:\t 3 Val Loss:\t 0.03596980319048964\n",
      "Epoch:\t 4 Val Loss:\t 0.03581739229002121\n",
      "Epoch:\t 5 Val Loss:\t 0.036124419803651914\n",
      "Epoch:\t 6 Val Loss:\t 0.0360926061892586\n",
      "Epoch:\t 7 Val Loss:\t 0.035857010411508204\n",
      "Epoch:\t 8 Val Loss:\t 0.03592477311315927\n",
      "Epoch:\t 9 Val Loss:\t 0.03580556617658077\n",
      "Epoch:\t 10 Val Loss:\t 0.03583789116928704\n",
      "Epoch:\t 11 Val Loss:\t 0.035950139747935546\n",
      "Epoch:\t 12 Val Loss:\t 0.03596626109418192\n",
      "Epoch:\t 13 Val Loss:\t 0.035727262688295416\n",
      "Epoch:\t 14 Val Loss:\t 0.036039589149324314\n",
      "Epoch:\t 15 Val Loss:\t 0.036013912884922124\n",
      "Epoch:\t 16 Val Loss:\t 0.03574597854675489\n",
      "Epoch:\t 17 Val Loss:\t 0.035921253897787865\n",
      "Epoch:\t 18 Val Loss:\t 0.035837215199516444\n",
      "Epoch:\t 19 Val Loss:\t 0.0361100450265752\n",
      "Epoch:\t 20 Val Loss:\t 0.03607459604309612\n",
      "Epoch:\t 21 Val Loss:\t 0.03586650731260283\n",
      "Epoch:\t 22 Val Loss:\t 0.03581407007553509\n"
     ]
    },
    {
     "name": "stderr",
     "output_type": "stream",
     "text": [
      "[I 2025-06-18 12:21:59,725] Trial 3 finished with value: 0.035727262688295416 and parameters: {'lr': 0.001, 'weight_decay': 0.001, 'scheduler_factor': 0.3, 'scheduler_patience': 20, 'batch_size': 128, 'dropout': 0.2, 'hidden_dims': 64}. Best is trial 1 with value: 0.03566017445080554.\n"
     ]
    },
    {
     "name": "stdout",
     "output_type": "stream",
     "text": [
      "Epoch:\t 23 Val Loss:\t 0.03587372512534189\n",
      "Epoch:\t 0 Val Loss:\t 0.11475929431018339\n",
      "Epoch:\t 1 Val Loss:\t 0.10340974122956635\n",
      "Epoch:\t 2 Val Loss:\t 0.09600670254786298\n",
      "Epoch:\t 3 Val Loss:\t 0.08848802822004177\n",
      "Epoch:\t 4 Val Loss:\t 0.08338948058928708\n",
      "Epoch:\t 5 Val Loss:\t 0.07860563199523944\n",
      "Epoch:\t 6 Val Loss:\t 0.07466411928367768\n",
      "Epoch:\t 7 Val Loss:\t 0.07124727530782246\n",
      "Epoch:\t 8 Val Loss:\t 0.0686368321898091\n",
      "Epoch:\t 9 Val Loss:\t 0.06607697804689024\n",
      "Epoch:\t 10 Val Loss:\t 0.06436591809825115\n",
      "Epoch:\t 11 Val Loss:\t 0.0622215700781997\n",
      "Epoch:\t 12 Val Loss:\t 0.06145662667044106\n",
      "Epoch:\t 13 Val Loss:\t 0.05993783255961164\n",
      "Epoch:\t 14 Val Loss:\t 0.05909316336370741\n",
      "Epoch:\t 15 Val Loss:\t 0.058370859976079305\n"
     ]
    }
   ],
   "source": [
    "train_different_featno(\n",
    "        adata_path=\"./data/feature_number/sciplex_hvg_500.h5ad\",\n",
    "        run_name=\"decoder_hvg_500\",\n",
    "        res_savename=\"./results/feature_number/decoder_hvg_500_res.pkl\",\n",
    "        output_dim=500\n",
    "    )"
   ]
  },
  {
   "cell_type": "code",
   "execution_count": null,
   "id": "5c89cc87-b833-4f2e-b696-7ce18f29bda4",
   "metadata": {},
   "outputs": [],
   "source": [
    "train_different_featno(\n",
    "        adata_path=\"./data/feature_number/sciplex_hvg_1000.h5ad\",\n",
    "        run_name=\"decoder_hvg_1000\",\n",
    "        res_savename=\"./results/feature_number/decoder_hvg_1000_res.pkl\",\n",
    "        output_dim=1000\n",
    "    )"
   ]
  },
  {
   "cell_type": "code",
   "execution_count": null,
   "id": "7fc05b74-0b35-45e5-92d9-74a0f99a9048",
   "metadata": {},
   "outputs": [],
   "source": [
    "train_different_featno(\n",
    "        adata_path=\"./data/feature_number/sciplex_hvg_2000.h5ad\",\n",
    "        run_name=\"decoder_hvg_2000\",\n",
    "        res_savename=\"./results/feature_number/decoder_hvg_2000_res.pkl\",\n",
    "        output_dim=2000\n",
    "    )"
   ]
  },
  {
   "cell_type": "code",
   "execution_count": null,
   "id": "ba65de8b-494a-4501-b9ff-76b32f67be68",
   "metadata": {},
   "outputs": [],
   "source": [
    "train_different_featno(\n",
    "        adata_path=\"./data/feature_number/sciplex_hvg_3500.h5ad\",\n",
    "        run_name=\"decoder_hvg_3500\",\n",
    "        res_savename=\"./results/feature_number/decoder_hvg_3500_res.pkl\",\n",
    "        output_dim=3500\n",
    "    )"
   ]
  },
  {
   "cell_type": "code",
   "execution_count": null,
   "id": "03760627-5300-4ed1-b786-5393cbf99d74",
   "metadata": {},
   "outputs": [],
   "source": [
    "train_different_featno(\n",
    "        adata_path=\"./data/feature_number/sciplex_hvg_5000.h5ad\",\n",
    "        run_name=\"decoder_hvg_5000\",\n",
    "        res_savename=\"./results/feature_number/decoder_hvg_5000_res.pkl\",\n",
    "        output_dim=5000\n",
    "    )"
   ]
  },
  {
   "cell_type": "code",
   "execution_count": null,
   "id": "27653e27-dc38-4988-8fbc-e178302a0b89",
   "metadata": {},
   "outputs": [],
   "source": [
    "train_different_featno(\n",
    "        adata_path=\"./data/feature_number/sciplex_hvg_7500.h5ad\",\n",
    "        run_name=\"decoder_hvg_7500\",\n",
    "        res_savename=\"./results/feature_number/decoder_hvg_7500_res.pkl\",\n",
    "        output_dim=7500\n",
    "    )"
   ]
  },
  {
   "cell_type": "code",
   "execution_count": null,
   "id": "87afd9d9-d518-4ace-b76d-7680bdfca30e",
   "metadata": {},
   "outputs": [],
   "source": []
  }
 ],
 "metadata": {
  "kernelspec": {
   "display_name": "Python 3 (ipykernel)",
   "language": "python",
   "name": "python3"
  },
  "language_info": {
   "codemirror_mode": {
    "name": "ipython",
    "version": 3
   },
   "file_extension": ".py",
   "mimetype": "text/x-python",
   "name": "python",
   "nbconvert_exporter": "python",
   "pygments_lexer": "ipython3",
   "version": "3.12.7"
  }
 },
 "nbformat": 4,
 "nbformat_minor": 5
}
