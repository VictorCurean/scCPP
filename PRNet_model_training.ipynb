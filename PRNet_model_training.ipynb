{
 "cells": [
  {
   "cell_type": "code",
   "id": "initial_id",
   "metadata": {
    "collapsed": true,
    "ExecuteTime": {
     "end_time": "2025-04-14T19:39:53.318914Z",
     "start_time": "2025-04-14T19:39:50.902756Z"
    }
   },
   "source": [
    "import anndata as ad\n",
    "import pickle as pkl\n",
    "\n",
    "from src.evaluator.PRNet_evaluator import cross_validation_models"
   ],
   "outputs": [
    {
     "name": "stderr",
     "output_type": "stream",
     "text": [
      "C:\\Users\\admin\\.conda\\envs\\scFiLM\\Lib\\site-packages\\tqdm\\auto.py:21: TqdmWarning: IProgress not found. Please update jupyter and ipywidgets. See https://ipywidgets.readthedocs.io/en/stable/user_install.html\n",
      "  from .autonotebook import tqdm as notebook_tqdm\n"
     ]
    }
   ],
   "execution_count": 1
  },
  {
   "metadata": {
    "ExecuteTime": {
     "end_time": "2025-04-14T19:39:53.324358Z",
     "start_time": "2025-04-14T19:39:53.322008Z"
    }
   },
   "cell_type": "code",
   "source": [
    "ADATA_PATH = \"./data/sciplex_testing.h5ad\"\n",
    "DRUG_SPLIT = \"./data/drug_split_test.pkl\"\n",
    "DRUG_ENCODING_NAME = \"sm_coati_emb\"\n",
    "DRUG_ENCODING_SIZE = 256\n",
    "CELL_INPUT_NAME = \"X_2000_hvg\"\n",
    "CELL_INPUT_SIZE = 2000\n",
    "CELL_OUTPUT_NAME = \"X_2000_hvg\"\n",
    "CELL_OUTPUT_SIZE = 2000\n",
    "LOSS_FUNCTION = 'GUSS'\n",
    "N_TRIALS = 2\n",
    "GENE_NAMES = 'gene_names_2000'\n",
    "SCHEDULER_MODE = 'min'"
   ],
   "id": "faa3f022cbdb85ad",
   "outputs": [],
   "execution_count": 2
  },
  {
   "metadata": {
    "ExecuteTime": {
     "end_time": "2025-04-14T19:39:54.873902Z",
     "start_time": "2025-04-14T19:39:54.571905Z"
    }
   },
   "cell_type": "code",
   "source": [
    "with open(DRUG_SPLIT, \"rb\") as f:\n",
    "    drug_splits = pkl.load(f)\n",
    "\n",
    "adata = ad.read_h5ad(ADATA_PATH)"
   ],
   "id": "517e21461c5bc9fd",
   "outputs": [],
   "execution_count": 3
  },
  {
   "metadata": {
    "ExecuteTime": {
     "end_time": "2025-04-14T19:40:01.897091Z",
     "start_time": "2025-04-14T19:39:55.646861Z"
    }
   },
   "cell_type": "code",
   "source": [
    "performance = cross_validation_models(drug_splits=drug_splits,\n",
    "                                      adata=adata,\n",
    "                                      input_name=CELL_INPUT_NAME,\n",
    "                                      input_dim=CELL_INPUT_SIZE,\n",
    "                                      output_name=CELL_OUTPUT_NAME,\n",
    "                                      output_dim=CELL_OUTPUT_SIZE,\n",
    "                                      drug_rep_name=DRUG_ENCODING_NAME,\n",
    "                                      drug_emb_size=DRUG_ENCODING_SIZE,\n",
    "                                      n_trials=N_TRIALS,\n",
    "                                      gene_names_key=GENE_NAMES,\n",
    "                                      scheduler_mode=SCHEDULER_MODE,\n",
    "                                      loss=\"GUSS\",\n",
    "                                      run_name=\"test\")"
   ],
   "id": "ae14f79c10640603",
   "outputs": [
    {
     "name": "stderr",
     "output_type": "stream",
     "text": [
      "100%|██████████| 22166/22166 [00:02<00:00, 11034.86it/s]\n",
      "100%|██████████| 22166/22166 [00:02<00:00, 8956.63it/s]\n",
      "[I 2025-04-14 22:40:00,361] Using an existing study with name 'test_fold0' instead of creating a new one.\n"
     ]
    },
    {
     "name": "stdout",
     "output_type": "stream",
     "text": [
      "\n",
      "INITIALIZING NEW NETWORK..............\n",
      "Encoder Architecture:\n",
      "\tInput Layer in, out: 2064 128\n",
      "\tMean/Var Layer in/out: 128 64\n",
      "Decoder Architecture:\n",
      "\tFirst Layer in, out 138 128\n",
      "\tOutput Layer in/out:  128 4000 \n",
      "\n",
      "Encoder Architecture:\n",
      "\tInput Layer in, out: 256 128\n",
      "\tComb Layer in/out: 128 64\n",
      "PGM(\n",
      "  (encoder): PEncoder(\n",
      "    (FC): Sequential(\n",
      "      (L0): Linear(in_features=2064, out_features=128, bias=False)\n",
      "    )\n",
      "    (mean_encoder): Linear(in_features=128, out_features=64, bias=True)\n",
      "  )\n",
      "  (decoder): PDecoder(\n",
      "    (FirstL): Sequential(\n",
      "      (L0): Linear(in_features=138, out_features=128, bias=False)\n",
      "      (N0): BatchNorm1d(128, eps=1e-05, momentum=0.1, affine=True, track_running_stats=True)\n",
      "      (A0): LeakyReLU(negative_slope=0.3)\n",
      "      (D0): Dropout(p=0.031927362840468536, inplace=False)\n",
      "    )\n",
      "    (HiddenL): Sequential()\n",
      "    (recon_decoder): Sequential(\n",
      "      (0): Linear(in_features=128, out_features=4000, bias=True)\n",
      "    )\n",
      "    (relu): ReLU()\n",
      "  )\n",
      "  (CombAdaptor): PAdaptor(\n",
      "    (FC): Sequential(\n",
      "      (L0): Linear(in_features=256, out_features=128, bias=False)\n",
      "    )\n",
      "    (comb_encoder): Linear(in_features=128, out_features=64, bias=True)\n",
      "  )\n",
      ")\n"
     ]
    },
    {
     "name": "stderr",
     "output_type": "stream",
     "text": [
      "[W 2025-04-14 22:40:01,568] Trial 1 failed with parameters: {'lr': 2.5414197316159637e-06, 'weight_decay': 2.9722224188075088e-08, 'scheduler_factor': 0.5710685315138315, 'scheduler_patience': 10, 'dropout': 0.031927362840468536} because of the following error: AttributeError(\"'PRnetEvaluator' object has no attribute 'criterion'\").\n",
      "Traceback (most recent call last):\n",
      "  File \"C:\\Users\\admin\\.conda\\envs\\scFiLM\\Lib\\site-packages\\optuna\\study\\_optimize.py\", line 197, in _run_trial\n",
      "    value_or_values = func(trial)\n",
      "                      ^^^^^^^^^^^\n",
      "  File \"C:\\Users\\admin\\Documents\\scFiLM\\src\\evaluator\\PRNet_evaluator.py\", line 300, in <lambda>\n",
      "    study.optimize(lambda trial: objective(trial,\n",
      "                                 ^^^^^^^^^^^^^^^^\n",
      "  File \"C:\\Users\\admin\\Documents\\scFiLM\\src\\evaluator\\PRNet_evaluator.py\", line 284, in objective\n",
      "    return ev.train_with_validation(loss, trial)\n",
      "           ^^^^^^^^^^^^^^^^^^^^^^^^^^^^^^^^^^^^^\n",
      "  File \"C:\\Users\\admin\\Documents\\scFiLM\\src\\evaluator\\PRNet_evaluator.py\", line 92, in train_with_validation\n",
      "    reconstruction_loss = self.criterion(input=gene_means, target=target, var=gene_vars)\n",
      "                          ^^^^^^^^^^^^^^\n",
      "AttributeError: 'PRnetEvaluator' object has no attribute 'criterion'\n",
      "[W 2025-04-14 22:40:01,570] Trial 1 failed with value None.\n"
     ]
    },
    {
     "ename": "AttributeError",
     "evalue": "'PRnetEvaluator' object has no attribute 'criterion'",
     "output_type": "error",
     "traceback": [
      "\u001B[31m---------------------------------------------------------------------------\u001B[39m",
      "\u001B[31mAttributeError\u001B[39m                            Traceback (most recent call last)",
      "\u001B[36mCell\u001B[39m\u001B[36m \u001B[39m\u001B[32mIn[4]\u001B[39m\u001B[32m, line 1\u001B[39m\n\u001B[32m----> \u001B[39m\u001B[32m1\u001B[39m performance = \u001B[43mcross_validation_models\u001B[49m\u001B[43m(\u001B[49m\u001B[43mdrug_splits\u001B[49m\u001B[43m=\u001B[49m\u001B[43mdrug_splits\u001B[49m\u001B[43m,\u001B[49m\n\u001B[32m      2\u001B[39m \u001B[43m                                      \u001B[49m\u001B[43madata\u001B[49m\u001B[43m=\u001B[49m\u001B[43madata\u001B[49m\u001B[43m,\u001B[49m\n\u001B[32m      3\u001B[39m \u001B[43m                                      \u001B[49m\u001B[43minput_name\u001B[49m\u001B[43m=\u001B[49m\u001B[43mCELL_INPUT_NAME\u001B[49m\u001B[43m,\u001B[49m\n\u001B[32m      4\u001B[39m \u001B[43m                                      \u001B[49m\u001B[43minput_dim\u001B[49m\u001B[43m=\u001B[49m\u001B[43mCELL_INPUT_SIZE\u001B[49m\u001B[43m,\u001B[49m\n\u001B[32m      5\u001B[39m \u001B[43m                                      \u001B[49m\u001B[43moutput_name\u001B[49m\u001B[43m=\u001B[49m\u001B[43mCELL_OUTPUT_NAME\u001B[49m\u001B[43m,\u001B[49m\n\u001B[32m      6\u001B[39m \u001B[43m                                      \u001B[49m\u001B[43moutput_dim\u001B[49m\u001B[43m=\u001B[49m\u001B[43mCELL_OUTPUT_SIZE\u001B[49m\u001B[43m,\u001B[49m\n\u001B[32m      7\u001B[39m \u001B[43m                                      \u001B[49m\u001B[43mdrug_rep_name\u001B[49m\u001B[43m=\u001B[49m\u001B[43mDRUG_ENCODING_NAME\u001B[49m\u001B[43m,\u001B[49m\n\u001B[32m      8\u001B[39m \u001B[43m                                      \u001B[49m\u001B[43mdrug_emb_size\u001B[49m\u001B[43m=\u001B[49m\u001B[43mDRUG_ENCODING_SIZE\u001B[49m\u001B[43m,\u001B[49m\n\u001B[32m      9\u001B[39m \u001B[43m                                      \u001B[49m\u001B[43mn_trials\u001B[49m\u001B[43m=\u001B[49m\u001B[43mN_TRIALS\u001B[49m\u001B[43m,\u001B[49m\n\u001B[32m     10\u001B[39m \u001B[43m                                      \u001B[49m\u001B[43mgene_names_key\u001B[49m\u001B[43m=\u001B[49m\u001B[43mGENE_NAMES\u001B[49m\u001B[43m,\u001B[49m\n\u001B[32m     11\u001B[39m \u001B[43m                                      \u001B[49m\u001B[43mscheduler_mode\u001B[49m\u001B[43m=\u001B[49m\u001B[43mSCHEDULER_MODE\u001B[49m\u001B[43m,\u001B[49m\n\u001B[32m     12\u001B[39m \u001B[43m                                      \u001B[49m\u001B[43mloss\u001B[49m\u001B[43m=\u001B[49m\u001B[33;43m\"\u001B[39;49m\u001B[33;43mGUSS\u001B[39;49m\u001B[33;43m\"\u001B[39;49m\u001B[43m,\u001B[49m\n\u001B[32m     13\u001B[39m \u001B[43m                                      \u001B[49m\u001B[43mrun_name\u001B[49m\u001B[43m=\u001B[49m\u001B[33;43m\"\u001B[39;49m\u001B[33;43mtest\u001B[39;49m\u001B[33;43m\"\u001B[39;49m\u001B[43m)\u001B[49m\n",
      "\u001B[36mFile \u001B[39m\u001B[32m~\\Documents\\scFiLM\\src\\evaluator\\PRNet_evaluator.py:300\u001B[39m, in \u001B[36mcross_validation_models\u001B[39m\u001B[34m(drug_splits, loss, adata, input_name, input_dim, output_name, output_dim, drug_rep_name, drug_emb_size, n_trials, gene_names_key, scheduler_mode, run_name)\u001B[39m\n\u001B[32m    297\u001B[39m dataset_validation = SciplexDatasetUnseenPerturbations(adata, drugs_validation, drug_rep_name, drug_emb_size, input_name, output_name)\n\u001B[32m    299\u001B[39m study = optuna.create_study(direction=\u001B[33m'\u001B[39m\u001B[33mminimize\u001B[39m\u001B[33m'\u001B[39m, study_name=\u001B[33mf\u001B[39m\u001B[33m\"\u001B[39m\u001B[38;5;132;01m{\u001B[39;00mrun_name\u001B[38;5;132;01m}\u001B[39;00m\u001B[33m_fold\u001B[39m\u001B[38;5;132;01m{\u001B[39;00mi\u001B[38;5;132;01m}\u001B[39;00m\u001B[33m\"\u001B[39m, storage=\u001B[33m\"\u001B[39m\u001B[33msqlite:///optuna_study.db\u001B[39m\u001B[33m\"\u001B[39m, load_if_exists=\u001B[38;5;28;01mTrue\u001B[39;00m)\n\u001B[32m--> \u001B[39m\u001B[32m300\u001B[39m \u001B[43mstudy\u001B[49m\u001B[43m.\u001B[49m\u001B[43moptimize\u001B[49m\u001B[43m(\u001B[49m\u001B[38;5;28;43;01mlambda\u001B[39;49;00m\u001B[43m \u001B[49m\u001B[43mtrial\u001B[49m\u001B[43m:\u001B[49m\u001B[43m \u001B[49m\u001B[43mobjective\u001B[49m\u001B[43m(\u001B[49m\u001B[43mtrial\u001B[49m\u001B[43m,\u001B[49m\n\u001B[32m    301\u001B[39m \u001B[43m                                       \u001B[49m\u001B[43mdataset_train\u001B[49m\u001B[43m=\u001B[49m\u001B[43mdataset_train\u001B[49m\u001B[43m,\u001B[49m\u001B[43m \u001B[49m\u001B[43mdataset_validation\u001B[49m\u001B[43m=\u001B[49m\u001B[43mdataset_validation\u001B[49m\u001B[43m,\u001B[49m\n\u001B[32m    302\u001B[39m \u001B[43m                                       \u001B[49m\u001B[43minput_dim\u001B[49m\u001B[43m=\u001B[49m\u001B[43minput_dim\u001B[49m\u001B[43m,\u001B[49m\u001B[43m \u001B[49m\u001B[43moutput_dim\u001B[49m\u001B[43m=\u001B[49m\u001B[43moutput_dim\u001B[49m\u001B[43m,\u001B[49m\n\u001B[32m    303\u001B[39m \u001B[43m                                       \u001B[49m\u001B[43mdrug_dim\u001B[49m\u001B[43m=\u001B[49m\u001B[43mdrug_emb_size\u001B[49m\u001B[43m,\u001B[49m\u001B[43m \u001B[49m\u001B[43mloss\u001B[49m\u001B[43m=\u001B[49m\u001B[43mloss\u001B[49m\u001B[43m)\u001B[49m\u001B[43m,\u001B[49m\u001B[43m \u001B[49m\u001B[43mn_trials\u001B[49m\u001B[43m=\u001B[49m\u001B[43mn_trials\u001B[49m\u001B[43m)\u001B[49m\n\u001B[32m    304\u001B[39m best_trial = study.best_trial\n\u001B[32m    305\u001B[39m optimal_params = best_trial.params\n",
      "\u001B[36mFile \u001B[39m\u001B[32m~\\.conda\\envs\\scFiLM\\Lib\\site-packages\\optuna\\study\\study.py:475\u001B[39m, in \u001B[36mStudy.optimize\u001B[39m\u001B[34m(self, func, n_trials, timeout, n_jobs, catch, callbacks, gc_after_trial, show_progress_bar)\u001B[39m\n\u001B[32m    373\u001B[39m \u001B[38;5;28;01mdef\u001B[39;00m\u001B[38;5;250m \u001B[39m\u001B[34moptimize\u001B[39m(\n\u001B[32m    374\u001B[39m     \u001B[38;5;28mself\u001B[39m,\n\u001B[32m    375\u001B[39m     func: ObjectiveFuncType,\n\u001B[32m   (...)\u001B[39m\u001B[32m    382\u001B[39m     show_progress_bar: \u001B[38;5;28mbool\u001B[39m = \u001B[38;5;28;01mFalse\u001B[39;00m,\n\u001B[32m    383\u001B[39m ) -> \u001B[38;5;28;01mNone\u001B[39;00m:\n\u001B[32m    384\u001B[39m \u001B[38;5;250m    \u001B[39m\u001B[33;03m\"\"\"Optimize an objective function.\u001B[39;00m\n\u001B[32m    385\u001B[39m \n\u001B[32m    386\u001B[39m \u001B[33;03m    Optimization is done by choosing a suitable set of hyperparameter values from a given\u001B[39;00m\n\u001B[32m   (...)\u001B[39m\u001B[32m    473\u001B[39m \u001B[33;03m            If nested invocation of this method occurs.\u001B[39;00m\n\u001B[32m    474\u001B[39m \u001B[33;03m    \"\"\"\u001B[39;00m\n\u001B[32m--> \u001B[39m\u001B[32m475\u001B[39m     \u001B[43m_optimize\u001B[49m\u001B[43m(\u001B[49m\n\u001B[32m    476\u001B[39m \u001B[43m        \u001B[49m\u001B[43mstudy\u001B[49m\u001B[43m=\u001B[49m\u001B[38;5;28;43mself\u001B[39;49m\u001B[43m,\u001B[49m\n\u001B[32m    477\u001B[39m \u001B[43m        \u001B[49m\u001B[43mfunc\u001B[49m\u001B[43m=\u001B[49m\u001B[43mfunc\u001B[49m\u001B[43m,\u001B[49m\n\u001B[32m    478\u001B[39m \u001B[43m        \u001B[49m\u001B[43mn_trials\u001B[49m\u001B[43m=\u001B[49m\u001B[43mn_trials\u001B[49m\u001B[43m,\u001B[49m\n\u001B[32m    479\u001B[39m \u001B[43m        \u001B[49m\u001B[43mtimeout\u001B[49m\u001B[43m=\u001B[49m\u001B[43mtimeout\u001B[49m\u001B[43m,\u001B[49m\n\u001B[32m    480\u001B[39m \u001B[43m        \u001B[49m\u001B[43mn_jobs\u001B[49m\u001B[43m=\u001B[49m\u001B[43mn_jobs\u001B[49m\u001B[43m,\u001B[49m\n\u001B[32m    481\u001B[39m \u001B[43m        \u001B[49m\u001B[43mcatch\u001B[49m\u001B[43m=\u001B[49m\u001B[38;5;28;43mtuple\u001B[39;49m\u001B[43m(\u001B[49m\u001B[43mcatch\u001B[49m\u001B[43m)\u001B[49m\u001B[43m \u001B[49m\u001B[38;5;28;43;01mif\u001B[39;49;00m\u001B[43m \u001B[49m\u001B[38;5;28;43misinstance\u001B[39;49m\u001B[43m(\u001B[49m\u001B[43mcatch\u001B[49m\u001B[43m,\u001B[49m\u001B[43m \u001B[49m\u001B[43mIterable\u001B[49m\u001B[43m)\u001B[49m\u001B[43m \u001B[49m\u001B[38;5;28;43;01melse\u001B[39;49;00m\u001B[43m \u001B[49m\u001B[43m(\u001B[49m\u001B[43mcatch\u001B[49m\u001B[43m,\u001B[49m\u001B[43m)\u001B[49m\u001B[43m,\u001B[49m\n\u001B[32m    482\u001B[39m \u001B[43m        \u001B[49m\u001B[43mcallbacks\u001B[49m\u001B[43m=\u001B[49m\u001B[43mcallbacks\u001B[49m\u001B[43m,\u001B[49m\n\u001B[32m    483\u001B[39m \u001B[43m        \u001B[49m\u001B[43mgc_after_trial\u001B[49m\u001B[43m=\u001B[49m\u001B[43mgc_after_trial\u001B[49m\u001B[43m,\u001B[49m\n\u001B[32m    484\u001B[39m \u001B[43m        \u001B[49m\u001B[43mshow_progress_bar\u001B[49m\u001B[43m=\u001B[49m\u001B[43mshow_progress_bar\u001B[49m\u001B[43m,\u001B[49m\n\u001B[32m    485\u001B[39m \u001B[43m    \u001B[49m\u001B[43m)\u001B[49m\n",
      "\u001B[36mFile \u001B[39m\u001B[32m~\\.conda\\envs\\scFiLM\\Lib\\site-packages\\optuna\\study\\_optimize.py:63\u001B[39m, in \u001B[36m_optimize\u001B[39m\u001B[34m(study, func, n_trials, timeout, n_jobs, catch, callbacks, gc_after_trial, show_progress_bar)\u001B[39m\n\u001B[32m     61\u001B[39m \u001B[38;5;28;01mtry\u001B[39;00m:\n\u001B[32m     62\u001B[39m     \u001B[38;5;28;01mif\u001B[39;00m n_jobs == \u001B[32m1\u001B[39m:\n\u001B[32m---> \u001B[39m\u001B[32m63\u001B[39m         \u001B[43m_optimize_sequential\u001B[49m\u001B[43m(\u001B[49m\n\u001B[32m     64\u001B[39m \u001B[43m            \u001B[49m\u001B[43mstudy\u001B[49m\u001B[43m,\u001B[49m\n\u001B[32m     65\u001B[39m \u001B[43m            \u001B[49m\u001B[43mfunc\u001B[49m\u001B[43m,\u001B[49m\n\u001B[32m     66\u001B[39m \u001B[43m            \u001B[49m\u001B[43mn_trials\u001B[49m\u001B[43m,\u001B[49m\n\u001B[32m     67\u001B[39m \u001B[43m            \u001B[49m\u001B[43mtimeout\u001B[49m\u001B[43m,\u001B[49m\n\u001B[32m     68\u001B[39m \u001B[43m            \u001B[49m\u001B[43mcatch\u001B[49m\u001B[43m,\u001B[49m\n\u001B[32m     69\u001B[39m \u001B[43m            \u001B[49m\u001B[43mcallbacks\u001B[49m\u001B[43m,\u001B[49m\n\u001B[32m     70\u001B[39m \u001B[43m            \u001B[49m\u001B[43mgc_after_trial\u001B[49m\u001B[43m,\u001B[49m\n\u001B[32m     71\u001B[39m \u001B[43m            \u001B[49m\u001B[43mreseed_sampler_rng\u001B[49m\u001B[43m=\u001B[49m\u001B[38;5;28;43;01mFalse\u001B[39;49;00m\u001B[43m,\u001B[49m\n\u001B[32m     72\u001B[39m \u001B[43m            \u001B[49m\u001B[43mtime_start\u001B[49m\u001B[43m=\u001B[49m\u001B[38;5;28;43;01mNone\u001B[39;49;00m\u001B[43m,\u001B[49m\n\u001B[32m     73\u001B[39m \u001B[43m            \u001B[49m\u001B[43mprogress_bar\u001B[49m\u001B[43m=\u001B[49m\u001B[43mprogress_bar\u001B[49m\u001B[43m,\u001B[49m\n\u001B[32m     74\u001B[39m \u001B[43m        \u001B[49m\u001B[43m)\u001B[49m\n\u001B[32m     75\u001B[39m     \u001B[38;5;28;01melse\u001B[39;00m:\n\u001B[32m     76\u001B[39m         \u001B[38;5;28;01mif\u001B[39;00m n_jobs == -\u001B[32m1\u001B[39m:\n",
      "\u001B[36mFile \u001B[39m\u001B[32m~\\.conda\\envs\\scFiLM\\Lib\\site-packages\\optuna\\study\\_optimize.py:160\u001B[39m, in \u001B[36m_optimize_sequential\u001B[39m\u001B[34m(study, func, n_trials, timeout, catch, callbacks, gc_after_trial, reseed_sampler_rng, time_start, progress_bar)\u001B[39m\n\u001B[32m    157\u001B[39m         \u001B[38;5;28;01mbreak\u001B[39;00m\n\u001B[32m    159\u001B[39m \u001B[38;5;28;01mtry\u001B[39;00m:\n\u001B[32m--> \u001B[39m\u001B[32m160\u001B[39m     frozen_trial = \u001B[43m_run_trial\u001B[49m\u001B[43m(\u001B[49m\u001B[43mstudy\u001B[49m\u001B[43m,\u001B[49m\u001B[43m \u001B[49m\u001B[43mfunc\u001B[49m\u001B[43m,\u001B[49m\u001B[43m \u001B[49m\u001B[43mcatch\u001B[49m\u001B[43m)\u001B[49m\n\u001B[32m    161\u001B[39m \u001B[38;5;28;01mfinally\u001B[39;00m:\n\u001B[32m    162\u001B[39m     \u001B[38;5;66;03m# The following line mitigates memory problems that can be occurred in some\u001B[39;00m\n\u001B[32m    163\u001B[39m     \u001B[38;5;66;03m# environments (e.g., services that use computing containers such as GitHub Actions).\u001B[39;00m\n\u001B[32m    164\u001B[39m     \u001B[38;5;66;03m# Please refer to the following PR for further details:\u001B[39;00m\n\u001B[32m    165\u001B[39m     \u001B[38;5;66;03m# https://github.com/optuna/optuna/pull/325.\u001B[39;00m\n\u001B[32m    166\u001B[39m     \u001B[38;5;28;01mif\u001B[39;00m gc_after_trial:\n",
      "\u001B[36mFile \u001B[39m\u001B[32m~\\.conda\\envs\\scFiLM\\Lib\\site-packages\\optuna\\study\\_optimize.py:248\u001B[39m, in \u001B[36m_run_trial\u001B[39m\u001B[34m(study, func, catch)\u001B[39m\n\u001B[32m    241\u001B[39m         \u001B[38;5;28;01massert\u001B[39;00m \u001B[38;5;28;01mFalse\u001B[39;00m, \u001B[33m\"\u001B[39m\u001B[33mShould not reach.\u001B[39m\u001B[33m\"\u001B[39m\n\u001B[32m    243\u001B[39m \u001B[38;5;28;01mif\u001B[39;00m (\n\u001B[32m    244\u001B[39m     frozen_trial.state == TrialState.FAIL\n\u001B[32m    245\u001B[39m     \u001B[38;5;129;01mand\u001B[39;00m func_err \u001B[38;5;129;01mis\u001B[39;00m \u001B[38;5;129;01mnot\u001B[39;00m \u001B[38;5;28;01mNone\u001B[39;00m\n\u001B[32m    246\u001B[39m     \u001B[38;5;129;01mand\u001B[39;00m \u001B[38;5;129;01mnot\u001B[39;00m \u001B[38;5;28misinstance\u001B[39m(func_err, catch)\n\u001B[32m    247\u001B[39m ):\n\u001B[32m--> \u001B[39m\u001B[32m248\u001B[39m     \u001B[38;5;28;01mraise\u001B[39;00m func_err\n\u001B[32m    249\u001B[39m \u001B[38;5;28;01mreturn\u001B[39;00m frozen_trial\n",
      "\u001B[36mFile \u001B[39m\u001B[32m~\\.conda\\envs\\scFiLM\\Lib\\site-packages\\optuna\\study\\_optimize.py:197\u001B[39m, in \u001B[36m_run_trial\u001B[39m\u001B[34m(study, func, catch)\u001B[39m\n\u001B[32m    195\u001B[39m \u001B[38;5;28;01mwith\u001B[39;00m get_heartbeat_thread(trial._trial_id, study._storage):\n\u001B[32m    196\u001B[39m     \u001B[38;5;28;01mtry\u001B[39;00m:\n\u001B[32m--> \u001B[39m\u001B[32m197\u001B[39m         value_or_values = \u001B[43mfunc\u001B[49m\u001B[43m(\u001B[49m\u001B[43mtrial\u001B[49m\u001B[43m)\u001B[49m\n\u001B[32m    198\u001B[39m     \u001B[38;5;28;01mexcept\u001B[39;00m exceptions.TrialPruned \u001B[38;5;28;01mas\u001B[39;00m e:\n\u001B[32m    199\u001B[39m         \u001B[38;5;66;03m# TODO(mamu): Handle multi-objective cases.\u001B[39;00m\n\u001B[32m    200\u001B[39m         state = TrialState.PRUNED\n",
      "\u001B[36mFile \u001B[39m\u001B[32m~\\Documents\\scFiLM\\src\\evaluator\\PRNet_evaluator.py:300\u001B[39m, in \u001B[36mcross_validation_models.<locals>.<lambda>\u001B[39m\u001B[34m(trial)\u001B[39m\n\u001B[32m    297\u001B[39m dataset_validation = SciplexDatasetUnseenPerturbations(adata, drugs_validation, drug_rep_name, drug_emb_size, input_name, output_name)\n\u001B[32m    299\u001B[39m study = optuna.create_study(direction=\u001B[33m'\u001B[39m\u001B[33mminimize\u001B[39m\u001B[33m'\u001B[39m, study_name=\u001B[33mf\u001B[39m\u001B[33m\"\u001B[39m\u001B[38;5;132;01m{\u001B[39;00mrun_name\u001B[38;5;132;01m}\u001B[39;00m\u001B[33m_fold\u001B[39m\u001B[38;5;132;01m{\u001B[39;00mi\u001B[38;5;132;01m}\u001B[39;00m\u001B[33m\"\u001B[39m, storage=\u001B[33m\"\u001B[39m\u001B[33msqlite:///optuna_study.db\u001B[39m\u001B[33m\"\u001B[39m, load_if_exists=\u001B[38;5;28;01mTrue\u001B[39;00m)\n\u001B[32m--> \u001B[39m\u001B[32m300\u001B[39m study.optimize(\u001B[38;5;28;01mlambda\u001B[39;00m trial: \u001B[43mobjective\u001B[49m\u001B[43m(\u001B[49m\u001B[43mtrial\u001B[49m\u001B[43m,\u001B[49m\n\u001B[32m    301\u001B[39m \u001B[43m                                       \u001B[49m\u001B[43mdataset_train\u001B[49m\u001B[43m=\u001B[49m\u001B[43mdataset_train\u001B[49m\u001B[43m,\u001B[49m\u001B[43m \u001B[49m\u001B[43mdataset_validation\u001B[49m\u001B[43m=\u001B[49m\u001B[43mdataset_validation\u001B[49m\u001B[43m,\u001B[49m\n\u001B[32m    302\u001B[39m \u001B[43m                                       \u001B[49m\u001B[43minput_dim\u001B[49m\u001B[43m=\u001B[49m\u001B[43minput_dim\u001B[49m\u001B[43m,\u001B[49m\u001B[43m \u001B[49m\u001B[43moutput_dim\u001B[49m\u001B[43m=\u001B[49m\u001B[43moutput_dim\u001B[49m\u001B[43m,\u001B[49m\n\u001B[32m    303\u001B[39m \u001B[43m                                       \u001B[49m\u001B[43mdrug_dim\u001B[49m\u001B[43m=\u001B[49m\u001B[43mdrug_emb_size\u001B[49m\u001B[43m,\u001B[49m\u001B[43m \u001B[49m\u001B[43mloss\u001B[49m\u001B[43m=\u001B[49m\u001B[43mloss\u001B[49m\u001B[43m)\u001B[49m, n_trials=n_trials)\n\u001B[32m    304\u001B[39m best_trial = study.best_trial\n\u001B[32m    305\u001B[39m optimal_params = best_trial.params\n",
      "\u001B[36mFile \u001B[39m\u001B[32m~\\Documents\\scFiLM\\src\\evaluator\\PRNet_evaluator.py:284\u001B[39m, in \u001B[36mobjective\u001B[39m\u001B[34m(trial, dataset_train, dataset_validation, input_dim, output_dim, drug_dim, scheduler_mode, loss)\u001B[39m\n\u001B[32m    261\u001B[39m params = {\n\u001B[32m    262\u001B[39m     \u001B[33m'\u001B[39m\u001B[33minput_dim\u001B[39m\u001B[33m'\u001B[39m: input_dim,\n\u001B[32m    263\u001B[39m     \u001B[33m'\u001B[39m\u001B[33moutput_dim\u001B[39m\u001B[33m'\u001B[39m : output_dim,\n\u001B[32m   (...)\u001B[39m\u001B[32m    280\u001B[39m \n\u001B[32m    281\u001B[39m }\n\u001B[32m    282\u001B[39m ev = PRnetEvaluator(dataset_train, dataset_validation, \u001B[38;5;28;01mNone\u001B[39;00m, params)\n\u001B[32m--> \u001B[39m\u001B[32m284\u001B[39m \u001B[38;5;28;01mreturn\u001B[39;00m \u001B[43mev\u001B[49m\u001B[43m.\u001B[49m\u001B[43mtrain_with_validation\u001B[49m\u001B[43m(\u001B[49m\u001B[43mloss\u001B[49m\u001B[43m,\u001B[49m\u001B[43m \u001B[49m\u001B[43mtrial\u001B[49m\u001B[43m)\u001B[49m\n",
      "\u001B[36mFile \u001B[39m\u001B[32m~\\Documents\\scFiLM\\src\\evaluator\\PRNet_evaluator.py:92\u001B[39m, in \u001B[36mPRnetEvaluator.train_with_validation\u001B[39m\u001B[34m(self, loss, trial)\u001B[39m\n\u001B[32m     89\u001B[39m gene_vars = gene_reconstructions[:, dim:]\n\u001B[32m     90\u001B[39m gene_vars = F.softplus(gene_vars)\n\u001B[32m---> \u001B[39m\u001B[32m92\u001B[39m reconstruction_loss = \u001B[38;5;28;43mself\u001B[39;49m\u001B[43m.\u001B[49m\u001B[43mcriterion\u001B[49m(\u001B[38;5;28minput\u001B[39m=gene_means, target=target, var=gene_vars)\n\u001B[32m     93\u001B[39m reconstruction_loss.backward()\n\u001B[32m     95\u001B[39m \u001B[38;5;66;03m# Update PGM\u001B[39;00m\n",
      "\u001B[31mAttributeError\u001B[39m: 'PRnetEvaluator' object has no attribute 'criterion'"
     ]
    }
   ],
   "execution_count": 4
  },
  {
   "metadata": {},
   "cell_type": "code",
   "outputs": [],
   "execution_count": null,
   "source": "",
   "id": "458b2ea69be33476"
  }
 ],
 "metadata": {
  "kernelspec": {
   "display_name": "Python 3",
   "language": "python",
   "name": "python3"
  },
  "language_info": {
   "codemirror_mode": {
    "name": "ipython",
    "version": 2
   },
   "file_extension": ".py",
   "mimetype": "text/x-python",
   "name": "python",
   "nbconvert_exporter": "python",
   "pygments_lexer": "ipython2",
   "version": "2.7.6"
  }
 },
 "nbformat": 4,
 "nbformat_minor": 5
}
