{
 "cells": [
  {
   "cell_type": "code",
   "execution_count": 1,
   "id": "20a72713-724b-4ad5-a9fb-d3665e76a428",
   "metadata": {},
   "outputs": [],
   "source": [
    "import pandas as pd\n",
    "import anndata as ad\n",
    "import scanpy as sc\n",
    "import numpy as np\n",
    "import seaborn as sns\n",
    "import random\n",
    "import pickle as pkl\n",
    "\n",
    "from matplotlib_venn import venn3\n",
    "import matplotlib.pyplot as plt"
   ]
  },
  {
   "cell_type": "code",
   "execution_count": 2,
   "id": "28a97f32-138f-416c-84f1-8b0323ef6035",
   "metadata": {},
   "outputs": [],
   "source": [
    "adata = ad.read_h5ad(\"../../../data/sciplex_qc_ann_nobalancing.h5ad\")"
   ]
  },
  {
   "cell_type": "code",
   "execution_count": 3,
   "id": "6cfe9897-9afb-4fd1-96fd-656575e698f4",
   "metadata": {},
   "outputs": [
    {
     "data": {
      "text/plain": [
       "AnnData object with n_obs × n_vars = 401917 × 27544\n",
       "    obs: 'cell_type', 'dose', 'dose_character', 'dose_pattern', 'g1s_score', 'g2m_score', 'pathway', 'pathway_level_1', 'pathway_level_2', 'product_dose', 'product_name', 'proliferation_index', 'replicate', 'size_factor', 'target', 'vehicle', 'SMILES', 'fmfp', 'n_genes_by_counts', 'log1p_n_genes_by_counts', 'total_counts', 'log1p_total_counts', 'pct_counts_in_top_20_genes', 'total_counts_mt', 'log1p_total_counts_mt', 'pct_counts_mt', 'total_counts_ribo', 'log1p_total_counts_ribo', 'pct_counts_ribo', 'total_counts_hb', 'log1p_total_counts_hb', 'pct_counts_hb', 'outlier', 'mt_outlier', 'drug_celltype_dose', 'match_index'\n",
       "    var: 'id', 'num_cells_expressed-0-0', 'num_cells_expressed-1-0', 'num_cells_expressed-1', 'mt', 'ribo', 'hb', 'n_cells_by_counts', 'mean_counts', 'log1p_mean_counts', 'pct_dropout_by_counts', 'total_counts', 'log1p_total_counts', 'n_cells'"
      ]
     },
     "execution_count": 3,
     "metadata": {},
     "output_type": "execute_result"
    }
   ],
   "source": [
    "adata"
   ]
  },
  {
   "cell_type": "code",
   "execution_count": 3,
   "id": "76065236-9816-493a-984e-46c932143b14",
   "metadata": {},
   "outputs": [],
   "source": [
    "def save_adata_hvg_seurat(adata_qc_path, adata_out_path, n_genes=None):\n",
    "    adata = ad.read_h5ad(adata_qc_path)\n",
    "    sc.pp.normalize_total(adata, inplace=True)\n",
    "    sc.pp.log1p(adata)\n",
    "    sc.pp.highly_variable_genes(adata, flavor='seurat', n_top_genes=n_genes)\n",
    "    adata = adata[:, adata.var['highly_variable']].copy()\n",
    "    adata.write_h5ad(adata_out_path)"
   ]
  },
  {
   "cell_type": "markdown",
   "id": "9ee7041f-52c9-4cfd-b15d-d5be5bcbc73b",
   "metadata": {},
   "source": [
    "## Creating datasets with  500, 1000, 2000, 3500, 5000, 7500 HVG genes with seurat flavor\n",
    "\n"
   ]
  },
  {
   "cell_type": "code",
   "execution_count": 4,
   "id": "bc54ef10-3f6f-4db1-833c-cb8467791410",
   "metadata": {},
   "outputs": [],
   "source": [
    "save_adata_hvg_seurat(\"../../../data/sciplex_qc_ann_nobalancing.h5ad\", \"../../../data/feature_number/sciplex_hvg_500.h5ad\", n_genes=500)"
   ]
  },
  {
   "cell_type": "code",
   "execution_count": 5,
   "id": "b5557df8-f3a6-42e2-b1f6-7bab369d5d8b",
   "metadata": {},
   "outputs": [],
   "source": [
    "save_adata_hvg_seurat(\"../../../data/sciplex_qc_ann_nobalancing.h5ad\", \"../../../data/feature_number/sciplex_hvg_1000.h5ad\", n_genes=1000)"
   ]
  },
  {
   "cell_type": "code",
   "execution_count": 6,
   "id": "f87fdc77-7f01-44cc-95f4-168d0c0b5646",
   "metadata": {},
   "outputs": [],
   "source": [
    "save_adata_hvg_seurat(\"../../../data/sciplex_qc_ann_nobalancing.h5ad\", \"../../../data/feature_number/sciplex_hvg_2000.h5ad\", n_genes=2000)"
   ]
  },
  {
   "cell_type": "code",
   "execution_count": 7,
   "id": "5a75831b-1be7-473f-ac16-dfde3c52d7c8",
   "metadata": {},
   "outputs": [],
   "source": [
    "save_adata_hvg_seurat(\"../../../data/sciplex_qc_ann_nobalancing.h5ad\", \"../../../data/feature_number/sciplex_hvg_3500.h5ad\", n_genes=3500)"
   ]
  },
  {
   "cell_type": "code",
   "execution_count": 8,
   "id": "8a3a1de8-8cd4-413e-b76a-32d05d9e2d41",
   "metadata": {},
   "outputs": [],
   "source": [
    "save_adata_hvg_seurat(\"../../../data/sciplex_qc_ann_nobalancing.h5ad\", \"../../../data/feature_number/sciplex_hvg_5000.h5ad\", n_genes=5000)"
   ]
  },
  {
   "cell_type": "code",
   "execution_count": 9,
   "id": "8be8b27b-bc55-49b6-a67f-e997cdbfb9d4",
   "metadata": {},
   "outputs": [],
   "source": [
    "save_adata_hvg_seurat(\"../../../data/sciplex_qc_ann_nobalancing.h5ad\", \"../../../data/feature_number/sciplex_hvg_7500.h5ad\", n_genes=7500)"
   ]
  },
  {
   "cell_type": "code",
   "execution_count": null,
   "id": "dd89a97a-6e5b-4814-a476-27eedfdd6d51",
   "metadata": {},
   "outputs": [],
   "source": []
  }
 ],
 "metadata": {
  "kernelspec": {
   "display_name": "Python 3 (ipykernel)",
   "language": "python",
   "name": "python3"
  },
  "language_info": {
   "codemirror_mode": {
    "name": "ipython",
    "version": 3
   },
   "file_extension": ".py",
   "mimetype": "text/x-python",
   "name": "python",
   "nbconvert_exporter": "python",
   "pygments_lexer": "ipython3",
   "version": "3.12.7"
  }
 },
 "nbformat": 4,
 "nbformat_minor": 5
}
