{
 "cells": [
  {
   "cell_type": "code",
   "id": "initial_id",
   "metadata": {
    "collapsed": true,
    "ExecuteTime": {
     "end_time": "2025-04-11T14:29:30.598112Z",
     "start_time": "2025-04-11T14:29:27.904090Z"
    }
   },
   "source": [
    "import anndata as ad\n",
    "import pickle as pkl\n",
    "\n",
    "from src.evaluator.mean_evaluator import MeanEvaluator"
   ],
   "outputs": [],
   "execution_count": 1
  },
  {
   "metadata": {
    "ExecuteTime": {
     "end_time": "2025-04-11T14:29:36.459048Z",
     "start_time": "2025-04-11T14:29:36.456123Z"
    }
   },
   "cell_type": "code",
   "source": [
    "ADATA_PATH = \"./data/sciplex_testing.h5ad\"\n",
    "DRUG_SPLIT = \"./data/drug_split_test.pkl\"\n",
    "DRUG_ENCODING_NAME = \"sm_coati_emb\"\n",
    "DRUG_ENCODING_SIZE = 256\n",
    "CELL_INPUT_NAME = \"X_2000_hvg\"\n",
    "CELL_INPUT_SIZE = 2000\n",
    "CELL_OUTPUT_NAME = \"X_2000_hvg\"\n",
    "CELL_OUTPUT_SIZE = 2000\n",
    "N_TRIALS = 2\n",
    "GENE_NAMES = 'gene_names_2000'\n",
    "SCHEDULER_MODE = 'min'"
   ],
   "id": "4b2f9493852b999c",
   "outputs": [],
   "execution_count": 2
  },
  {
   "metadata": {
    "ExecuteTime": {
     "end_time": "2025-04-11T14:29:47.010060Z",
     "start_time": "2025-04-11T14:29:46.610830Z"
    }
   },
   "cell_type": "code",
   "source": [
    "with open(DRUG_SPLIT, \"rb\") as f:\n",
    "    drug_splits = pkl.load(f)\n",
    "\n",
    "adata = ad.read_h5ad(ADATA_PATH)"
   ],
   "id": "1101948e1d0009eb",
   "outputs": [],
   "execution_count": 3
  },
  {
   "metadata": {
    "ExecuteTime": {
     "end_time": "2025-04-11T14:34:50.771207Z",
     "start_time": "2025-04-11T14:33:43.120631Z"
    }
   },
   "cell_type": "code",
   "source": [
    "performance = MeanEvaluator.cross_validation_models(drug_splits=drug_splits,\n",
    "                                      adata=adata,\n",
    "                                      input_name=CELL_INPUT_NAME,\n",
    "                                      output_name=CELL_OUTPUT_NAME,\n",
    "                                      drug_rep_name=DRUG_ENCODING_NAME,\n",
    "                                      drug_emb_size=DRUG_ENCODING_SIZE,\n",
    "                                      gene_names_key=GENE_NAMES,\n",
    "                                      run_name=\"test\")"
   ],
   "id": "7c79a070f2324f26",
   "outputs": [
    {
     "name": "stderr",
     "output_type": "stream",
     "text": [
      "100%|██████████| 22166/22166 [00:09<00:00, 2216.87it/s]\n",
      "100%|██████████| 22166/22166 [00:07<00:00, 2850.46it/s]\n",
      "100%|██████████| 369/369 [00:00<00:00, 1037.62it/s]\n",
      "100%|██████████| 203/203 [00:00<00:00, 1700.48it/s]\n"
     ]
    },
    {
     "ename": "KeyboardInterrupt",
     "evalue": "",
     "output_type": "error",
     "traceback": [
      "\u001B[31m---------------------------------------------------------------------------\u001B[39m",
      "\u001B[31mKeyboardInterrupt\u001B[39m                         Traceback (most recent call last)",
      "\u001B[36mCell\u001B[39m\u001B[36m \u001B[39m\u001B[32mIn[6]\u001B[39m\u001B[32m, line 1\u001B[39m\n\u001B[32m----> \u001B[39m\u001B[32m1\u001B[39m performance = \u001B[43mMeanEvaluator\u001B[49m\u001B[43m.\u001B[49m\u001B[43mcross_validation_models\u001B[49m\u001B[43m(\u001B[49m\u001B[43mdrug_splits\u001B[49m\u001B[43m=\u001B[49m\u001B[43mdrug_splits\u001B[49m\u001B[43m,\u001B[49m\n\u001B[32m      2\u001B[39m \u001B[43m                                      \u001B[49m\u001B[43madata\u001B[49m\u001B[43m=\u001B[49m\u001B[43madata\u001B[49m\u001B[43m,\u001B[49m\n\u001B[32m      3\u001B[39m \u001B[43m                                      \u001B[49m\u001B[43minput_name\u001B[49m\u001B[43m=\u001B[49m\u001B[43mCELL_INPUT_NAME\u001B[49m\u001B[43m,\u001B[49m\n\u001B[32m      4\u001B[39m \u001B[43m                                      \u001B[49m\u001B[43moutput_name\u001B[49m\u001B[43m=\u001B[49m\u001B[43mCELL_OUTPUT_NAME\u001B[49m\u001B[43m,\u001B[49m\n\u001B[32m      5\u001B[39m \u001B[43m                                      \u001B[49m\u001B[43mdrug_rep_name\u001B[49m\u001B[43m=\u001B[49m\u001B[43mDRUG_ENCODING_NAME\u001B[49m\u001B[43m,\u001B[49m\n\u001B[32m      6\u001B[39m \u001B[43m                                      \u001B[49m\u001B[43mdrug_emb_size\u001B[49m\u001B[43m=\u001B[49m\u001B[43mDRUG_ENCODING_SIZE\u001B[49m\u001B[43m,\u001B[49m\n\u001B[32m      7\u001B[39m \u001B[43m                                      \u001B[49m\u001B[43mgene_names_key\u001B[49m\u001B[43m=\u001B[49m\u001B[43mGENE_NAMES\u001B[49m\u001B[43m,\u001B[49m\n\u001B[32m      8\u001B[39m \u001B[43m                                      \u001B[49m\u001B[43mrun_name\u001B[49m\u001B[43m=\u001B[49m\u001B[33;43m\"\u001B[39;49m\u001B[33;43mtest\u001B[39;49m\u001B[33;43m\"\u001B[39;49m\u001B[43m)\u001B[49m\n",
      "\u001B[36mFile \u001B[39m\u001B[32m~\\Documents\\scFiLM\\src\\evaluator\\mean_evaluator.py:99\u001B[39m, in \u001B[36mMeanEvaluator.cross_validation_models\u001B[39m\u001B[34m(drug_splits, adata, input_name, output_name, drug_rep_name, drug_emb_size, gene_names_key, run_name)\u001B[39m\n\u001B[32m     96\u001B[39m     gene_names = adata_control.uns[gene_names_key]\n\u001B[32m     97\u001B[39m     predictions = final_ev.test()\n\u001B[32m---> \u001B[39m\u001B[32m99\u001B[39m     performance = \u001B[43mget_model_stats\u001B[49m(predictions, adata_control, output_name, gene_names, run_name)\n\u001B[32m    100\u001B[39m     output[i] = performance\n\u001B[32m    102\u001B[39m \u001B[38;5;28;01mreturn\u001B[39;00m output\n",
      "\u001B[36mFile \u001B[39m\u001B[32m_pydevd_bundle\\\\pydevd_cython_win32_312_64.pyx:1187\u001B[39m, in \u001B[36m_pydevd_bundle.pydevd_cython_win32_312_64.SafeCallWrapper.__call__\u001B[39m\u001B[34m()\u001B[39m\n",
      "\u001B[36mFile \u001B[39m\u001B[32m_pydevd_bundle\\\\pydevd_cython_win32_312_64.pyx:627\u001B[39m, in \u001B[36m_pydevd_bundle.pydevd_cython_win32_312_64.PyDBFrame.trace_dispatch\u001B[39m\u001B[34m()\u001B[39m\n",
      "\u001B[36mFile \u001B[39m\u001B[32m_pydevd_bundle\\\\pydevd_cython_win32_312_64.pyx:937\u001B[39m, in \u001B[36m_pydevd_bundle.pydevd_cython_win32_312_64.PyDBFrame.trace_dispatch\u001B[39m\u001B[34m()\u001B[39m\n",
      "\u001B[36mFile \u001B[39m\u001B[32m_pydevd_bundle\\\\pydevd_cython_win32_312_64.pyx:928\u001B[39m, in \u001B[36m_pydevd_bundle.pydevd_cython_win32_312_64.PyDBFrame.trace_dispatch\u001B[39m\u001B[34m()\u001B[39m\n",
      "\u001B[36mFile \u001B[39m\u001B[32m_pydevd_bundle\\\\pydevd_cython_win32_312_64.pyx:585\u001B[39m, in \u001B[36m_pydevd_bundle.pydevd_cython_win32_312_64.PyDBFrame.do_wait_suspend\u001B[39m\u001B[34m()\u001B[39m\n",
      "\u001B[36mFile \u001B[39m\u001B[32mC:\\Program Files\\JetBrains\\PyCharm 2024.3.5\\plugins\\python-ce\\helpers\\pydev\\pydevd.py:1220\u001B[39m, in \u001B[36mPyDB.do_wait_suspend\u001B[39m\u001B[34m(self, thread, frame, event, arg, send_suspend_message, is_unhandled_exception)\u001B[39m\n\u001B[32m   1217\u001B[39m         from_this_thread.append(frame_id)\n\u001B[32m   1219\u001B[39m \u001B[38;5;28;01mwith\u001B[39;00m \u001B[38;5;28mself\u001B[39m._threads_suspended_single_notification.notify_thread_suspended(thread_id, stop_reason):\n\u001B[32m-> \u001B[39m\u001B[32m1220\u001B[39m     \u001B[38;5;28;43mself\u001B[39;49m\u001B[43m.\u001B[49m\u001B[43m_do_wait_suspend\u001B[49m\u001B[43m(\u001B[49m\u001B[43mthread\u001B[49m\u001B[43m,\u001B[49m\u001B[43m \u001B[49m\u001B[43mframe\u001B[49m\u001B[43m,\u001B[49m\u001B[43m \u001B[49m\u001B[43mevent\u001B[49m\u001B[43m,\u001B[49m\u001B[43m \u001B[49m\u001B[43marg\u001B[49m\u001B[43m,\u001B[49m\u001B[43m \u001B[49m\u001B[43msuspend_type\u001B[49m\u001B[43m,\u001B[49m\u001B[43m \u001B[49m\u001B[43mfrom_this_thread\u001B[49m\u001B[43m)\u001B[49m\n",
      "\u001B[36mFile \u001B[39m\u001B[32mC:\\Program Files\\JetBrains\\PyCharm 2024.3.5\\plugins\\python-ce\\helpers\\pydev\\pydevd.py:1235\u001B[39m, in \u001B[36mPyDB._do_wait_suspend\u001B[39m\u001B[34m(self, thread, frame, event, arg, suspend_type, from_this_thread)\u001B[39m\n\u001B[32m   1232\u001B[39m             \u001B[38;5;28mself\u001B[39m._call_mpl_hook()\n\u001B[32m   1234\u001B[39m         \u001B[38;5;28mself\u001B[39m.process_internal_commands()\n\u001B[32m-> \u001B[39m\u001B[32m1235\u001B[39m         \u001B[43mtime\u001B[49m\u001B[43m.\u001B[49m\u001B[43msleep\u001B[49m\u001B[43m(\u001B[49m\u001B[32;43m0.01\u001B[39;49m\u001B[43m)\u001B[49m\n\u001B[32m   1237\u001B[39m \u001B[38;5;28mself\u001B[39m.cancel_async_evaluation(get_current_thread_id(thread), \u001B[38;5;28mstr\u001B[39m(\u001B[38;5;28mid\u001B[39m(frame)))\n\u001B[32m   1239\u001B[39m \u001B[38;5;66;03m# process any stepping instructions\u001B[39;00m\n",
      "\u001B[31mKeyboardInterrupt\u001B[39m: "
     ]
    }
   ],
   "execution_count": 6
  },
  {
   "metadata": {
    "ExecuteTime": {
     "end_time": "2025-04-11T14:31:03.927677Z",
     "start_time": "2025-04-11T14:31:03.922170Z"
    }
   },
   "cell_type": "code",
   "source": "performance",
   "id": "8e22ab6056380085",
   "outputs": [
    {
     "data": {
      "text/plain": [
       "{0: {'key': 'test',\n",
       "  'mse_A549': np.float32(0.00040385954),\n",
       "  'mse_K562': np.float32(0.0002759049),\n",
       "  'mse_MCF7': np.float32(9.823591e-05),\n",
       "  'r2_A549': np.float64(0.9778567850589752),\n",
       "  'r2_K562': np.float64(0.9747464507818222),\n",
       "  'r2_MCF7': np.float64(0.9802497327327728),\n",
       "  'rank_logfc_A549': np.float64(0.5),\n",
       "  'rank_logfc_K562': np.float64(0.5),\n",
       "  'rank_logfc_MCF7': np.float64(0.5),\n",
       "  'edistance_A549': np.float64(1.6154426323512432),\n",
       "  'edistance_K562': np.float64(1.1036198791111431),\n",
       "  'edistance_MCF7': np.float64(0.3929429202035628),\n",
       "  'logfc_corr_A549': np.float64(0.3798921420706698),\n",
       "  'logfc_corr_K562': np.float64(0.3680994189167152),\n",
       "  'logfc_corr_MCF7': np.float64(0.33378619469538295),\n",
       "  'top_logfc_corr_A549': np.float64(0.3232783994055351),\n",
       "  'top_logfc_corr_K562': np.float64(0.4401114473747882),\n",
       "  'top_logfc_corr_MCF7': np.float64(0.38755059707614287),\n",
       "  'predicted_bio_rep_A549': np.float64(0.9486832980505139),\n",
       "  'predicted_bio_rep_K562': np.float64(1.0),\n",
       "  'predicted_bio_rep_MCF7': np.float64(0.39999999999999997)},\n",
       " 1: {'key': 'test',\n",
       "  'mse_A549': np.float32(0.0004049776),\n",
       "  'mse_K562': np.float32(0.00027796542),\n",
       "  'mse_MCF7': np.float32(9.756979e-05),\n",
       "  'r2_A549': np.float64(0.9778041541576385),\n",
       "  'r2_K562': np.float64(0.9745512157678604),\n",
       "  'r2_MCF7': np.float64(0.9803875684738159),\n",
       "  'rank_logfc_A549': np.float64(0.5),\n",
       "  'rank_logfc_K562': np.float64(0.5),\n",
       "  'rank_logfc_MCF7': np.float64(0.5),\n",
       "  'edistance_A549': np.float64(1.619910522067908),\n",
       "  'edistance_K562': np.float64(1.1118633785394252),\n",
       "  'edistance_MCF7': np.float64(0.3902804390977206),\n",
       "  'logfc_corr_A549': np.float64(0.38126351305738565),\n",
       "  'logfc_corr_K562': np.float64(0.3678778082552099),\n",
       "  'logfc_corr_MCF7': np.float64(0.3358418425857669),\n",
       "  'top_logfc_corr_A549': np.float64(0.3230069004883894),\n",
       "  'top_logfc_corr_K562': np.float64(0.4401042292290762),\n",
       "  'top_logfc_corr_MCF7': np.float64(0.3875432006913866),\n",
       "  'predicted_bio_rep_A549': np.float64(-1.0),\n",
       "  'predicted_bio_rep_K562': np.float64(-0.9486832980505139),\n",
       "  'predicted_bio_rep_MCF7': np.float64(-0.39999999999999997)},\n",
       " 2: {'key': 'test',\n",
       "  'mse_A549': np.float32(0.00040424944),\n",
       "  'mse_K562': np.float32(0.0002792533),\n",
       "  'mse_MCF7': np.float32(9.8026125e-05),\n",
       "  'r2_A549': np.float64(0.9778503030538559),\n",
       "  'r2_K562': np.float64(0.9744446277618408),\n",
       "  'r2_MCF7': np.float64(0.9802827388048172),\n",
       "  'rank_logfc_A549': np.float64(0.5),\n",
       "  'rank_logfc_K562': np.float64(0.5),\n",
       "  'rank_logfc_MCF7': np.float64(0.5),\n",
       "  'edistance_A549': np.float64(1.6169962811662089),\n",
       "  'edistance_K562': np.float64(1.1170125263444817),\n",
       "  'edistance_MCF7': np.float64(0.3921068676318882),\n",
       "  'logfc_corr_A549': np.float64(0.3778369302137069),\n",
       "  'logfc_corr_K562': np.float64(0.367743319303363),\n",
       "  'logfc_corr_MCF7': np.float64(0.3343553042503484),\n",
       "  'top_logfc_corr_A549': np.float64(0.32308443997591235),\n",
       "  'top_logfc_corr_K562': np.float64(0.4401399267834346),\n",
       "  'top_logfc_corr_MCF7': np.float64(0.38704597925554607),\n",
       "  'predicted_bio_rep_A549': np.float64(-0.7999999999999999),\n",
       "  'predicted_bio_rep_K562': np.float64(1.0),\n",
       "  'predicted_bio_rep_MCF7': np.float64(0.39999999999999997)},\n",
       " 3: {'key': 'test',\n",
       "  'mse_A549': np.float32(0.00040457523),\n",
       "  'mse_K562': np.float32(0.0002797664),\n",
       "  'mse_MCF7': np.float32(9.802252e-05),\n",
       "  'r2_A549': np.float64(0.9778292775154114),\n",
       "  'r2_K562': np.float64(0.974363312125206),\n",
       "  'r2_MCF7': np.float64(0.9802859127521515),\n",
       "  'rank_logfc_A549': np.float64(0.5),\n",
       "  'rank_logfc_K562': np.float64(0.5),\n",
       "  'rank_logfc_MCF7': np.float64(0.5),\n",
       "  'edistance_A549': np.float64(1.618298999243379),\n",
       "  'edistance_K562': np.float64(1.1190655148812994),\n",
       "  'edistance_MCF7': np.float64(0.3920928827649526),\n",
       "  'logfc_corr_A549': np.float64(0.3773754233995227),\n",
       "  'logfc_corr_K562': np.float64(0.36746209832153787),\n",
       "  'logfc_corr_MCF7': np.float64(0.33619215213553433),\n",
       "  'top_logfc_corr_A549': np.float64(0.32310389577918824),\n",
       "  'top_logfc_corr_K562': np.float64(0.4342631654759606),\n",
       "  'top_logfc_corr_MCF7': np.float64(0.3873988441999075),\n",
       "  'predicted_bio_rep_A549': np.float64(-0.7999999999999999),\n",
       "  'predicted_bio_rep_K562': np.float64(1.0),\n",
       "  'predicted_bio_rep_MCF7': np.float64(0.39999999999999997)},\n",
       " 4: {'key': 'test',\n",
       "  'mse_A549': np.float32(0.00040645906),\n",
       "  'mse_K562': np.float32(0.0002780531),\n",
       "  'mse_MCF7': np.float32(9.833518e-05),\n",
       "  'r2_A549': np.float64(0.9777242839336395),\n",
       "  'r2_K562': np.float64(0.9745273441076279),\n",
       "  'r2_MCF7': np.float64(0.9802346378564835),\n",
       "  'rank_logfc_A549': np.float64(0.5),\n",
       "  'rank_logfc_K562': np.float64(0.5),\n",
       "  'rank_logfc_MCF7': np.float64(0.5),\n",
       "  'edistance_A549': np.float64(1.625836561792731),\n",
       "  'edistance_K562': np.float64(1.1122127087914748),\n",
       "  'edistance_MCF7': np.float64(0.3933382738082223),\n",
       "  'logfc_corr_A549': np.float64(0.3782943998962267),\n",
       "  'logfc_corr_K562': np.float64(0.3677214413775411),\n",
       "  'logfc_corr_MCF7': np.float64(0.33378515130953285),\n",
       "  'top_logfc_corr_A549': np.float64(0.32310580023916635),\n",
       "  'top_logfc_corr_K562': np.float64(0.44013026570607433),\n",
       "  'top_logfc_corr_MCF7': np.float64(0.38778783206646295),\n",
       "  'predicted_bio_rep_A549': np.float64(1.0),\n",
       "  'predicted_bio_rep_K562': np.float64(1.0),\n",
       "  'predicted_bio_rep_MCF7': np.float64(-0.39999999999999997)}}"
      ]
     },
     "execution_count": 5,
     "metadata": {},
     "output_type": "execute_result"
    }
   ],
   "execution_count": 5
  },
  {
   "metadata": {},
   "cell_type": "code",
   "outputs": [],
   "execution_count": null,
   "source": "",
   "id": "c05667bc9541f9b4"
  }
 ],
 "metadata": {
  "kernelspec": {
   "display_name": "Python 3",
   "language": "python",
   "name": "python3"
  },
  "language_info": {
   "codemirror_mode": {
    "name": "ipython",
    "version": 2
   },
   "file_extension": ".py",
   "mimetype": "text/x-python",
   "name": "python",
   "nbconvert_exporter": "python",
   "pygments_lexer": "ipython2",
   "version": "2.7.6"
  }
 },
 "nbformat": 4,
 "nbformat_minor": 5
}
