{
 "cells": [
  {
   "cell_type": "code",
   "execution_count": 3,
   "id": "19fe7805-9160-40b7-b788-f4d8b7e851d8",
   "metadata": {},
   "outputs": [],
   "source": [
    "import anndata as ad\n",
    "import pickle as pkl\n",
    "\n",
    "from src.evaluator.decoder_evaluator import get_models_results\n",
    "from src.evaluator.evaluator_utils import l2_loss"
   ]
  },
  {
   "cell_type": "code",
   "execution_count": 4,
   "id": "e059f15b-a7c8-4abd-8cd1-4934091fe5d2",
   "metadata": {},
   "outputs": [],
   "source": [
    "def train_different_fs(adata_path=None, run_name=None, res_savename=None, add_relu=True):\n",
    "    DRUG_ENCODING_NAME = \"fmfp\"\n",
    "    DRUG_ENCODING_SIZE = 1024\n",
    "    N_TRIALS = 50\n",
    "    SCHEDULER_MODE = 'min'\n",
    "\n",
    "    with open(\"./data/drug_splits/train_drugs_rand.pkl\", 'rb') as f:\n",
    "        drugs_train_rand = pkl.load(f)\n",
    "\n",
    "    with open(\"./data/drug_splits/val_drugs_rand.pkl\", 'rb') as f:\n",
    "        drugs_val_rand = pkl.load(f)\n",
    "\n",
    "    with open(\"./data/drug_splits/test_drugs_rand.pkl\", 'rb') as f:\n",
    "        drugs_test_rand = pkl.load(f)\n",
    "\n",
    "    drug_splits = dict()\n",
    "    drug_splits['train'] = drugs_train_rand\n",
    "    drug_splits['valid'] = drugs_val_rand\n",
    "    drug_splits['test'] = drugs_test_rand\n",
    "\n",
    "    adata = ad.read_h5ad(adata_path)\n",
    "\n",
    "    get_models_results(drug_splits=drug_splits,\n",
    "                          loss_function=l2_loss,\n",
    "                          adata=adata,\n",
    "                          input_dim=3,\n",
    "                          output_dim=2000,\n",
    "                          drug_rep_name=DRUG_ENCODING_NAME,\n",
    "                          drug_emb_size=DRUG_ENCODING_SIZE,\n",
    "                          n_trials=N_TRIALS,\n",
    "                          scheduler_mode=SCHEDULER_MODE,\n",
    "                          run_name=run_name,\n",
    "                          save_path=res_savename,\n",
    "                          add_relu=add_relu\n",
    "                      )"
   ]
  },
  {
   "cell_type": "code",
   "execution_count": 5,
   "id": "65ae0f9e-1e75-418d-922f-60a2449729d4",
   "metadata": {},
   "outputs": [
    {
     "name": "stdout",
     "output_type": "stream",
     "text": [
      "Loading Datasets ...\n"
     ]
    },
    {
     "name": "stderr",
     "output_type": "stream",
     "text": [
      "100%|███████████████████████████████████████████████████████████████████████████████████████████████████████████████████████████████████████████████████████████████████| 401917/401917 [03:12<00:00, 2084.71it/s]\n",
      "100%|███████████████████████████████████████████████████████████████████████████████████████████████████████████████████████████████████████████████████████████████████| 401917/401917 [01:15<00:00, 5299.92it/s]\n",
      "[I 2025-06-02 13:09:25,173] A new study created in RDB with name: decoder_random_fs\n"
     ]
    },
    {
     "name": "stdout",
     "output_type": "stream",
     "text": [
      "Optimizing Hyperparameters with Optuna ...\n",
      "Epoch:\t 0 Val Loss:\t 0.017158688504212923\n",
      "Epoch:\t 1 Val Loss:\t 0.01690095119849087\n",
      "Epoch:\t 2 Val Loss:\t 0.016841969371943995\n",
      "Epoch:\t 3 Val Loss:\t 0.016695091087622658\n",
      "Epoch:\t 4 Val Loss:\t 0.016625501389145085\n",
      "Epoch:\t 5 Val Loss:\t 0.01658406300272589\n",
      "Epoch:\t 6 Val Loss:\t 0.016514495994380624\n",
      "Epoch:\t 7 Val Loss:\t 0.016478316010937237\n",
      "Epoch:\t 8 Val Loss:\t 0.01644952048418798\n",
      "Epoch:\t 9 Val Loss:\t 0.016420055495221707\n",
      "Epoch:\t 10 Val Loss:\t 0.01639386196396167\n",
      "Epoch:\t 11 Val Loss:\t 0.016386976148154573\n",
      "Epoch:\t 12 Val Loss:\t 0.01637871068725632\n",
      "Epoch:\t 13 Val Loss:\t 0.016373346242275075\n",
      "Epoch:\t 14 Val Loss:\t 0.016370186917603592\n",
      "Epoch:\t 15 Val Loss:\t 0.016374182513049562\n",
      "Epoch:\t 16 Val Loss:\t 0.01636559026872805\n",
      "Epoch:\t 17 Val Loss:\t 0.016362935301647116\n",
      "Epoch:\t 18 Val Loss:\t 0.0163680529521353\n",
      "Epoch:\t 19 Val Loss:\t 0.016365753729315625\n",
      "Epoch:\t 20 Val Loss:\t 0.016364679887435635\n",
      "Epoch:\t 21 Val Loss:\t 0.01636362138392937\n",
      "Epoch:\t 22 Val Loss:\t 0.016362253600473955\n",
      "Epoch:\t 23 Val Loss:\t 0.016365656548350378\n",
      "Epoch:\t 24 Val Loss:\t 0.016364505834925405\n",
      "Epoch:\t 25 Val Loss:\t 0.016358494126744016\n",
      "Epoch:\t 26 Val Loss:\t 0.016361410418148016\n",
      "Epoch:\t 27 Val Loss:\t 0.01636333689632619\n",
      "Epoch:\t 28 Val Loss:\t 0.01637039038613199\n",
      "Epoch:\t 29 Val Loss:\t 0.016364637253225043\n",
      "Epoch:\t 30 Val Loss:\t 0.016362975758778896\n",
      "Epoch:\t 31 Val Loss:\t 0.016363406416112586\n",
      "Epoch:\t 32 Val Loss:\t 0.016361850679184272\n",
      "Epoch:\t 33 Val Loss:\t 0.01636372012508452\n",
      "Epoch:\t 34 Val Loss:\t 0.016364003229179566\n"
     ]
    },
    {
     "name": "stderr",
     "output_type": "stream",
     "text": [
      "[I 2025-06-02 13:10:56,929] Trial 0 finished with value: 0.016358494126744016 and parameters: {'lr': 0.001, 'weight_decay': 1e-06, 'scheduler_factor': 0.5, 'scheduler_patience': 20, 'batch_size': 256, 'dropout': 0.15, 'hidden_dims': 128}. Best is trial 0 with value: 0.016358494126744016.\n"
     ]
    },
    {
     "name": "stdout",
     "output_type": "stream",
     "text": [
      "Epoch:\t 35 Val Loss:\t 0.01636131014375441\n",
      "Epoch:\t 0 Val Loss:\t 0.01723505248582258\n",
      "Epoch:\t 1 Val Loss:\t 0.017592980235115997\n",
      "Epoch:\t 2 Val Loss:\t 0.017988084505499605\n",
      "Epoch:\t 3 Val Loss:\t 0.01783761454398095\n",
      "Epoch:\t 4 Val Loss:\t 0.017852563593228912\n",
      "Epoch:\t 5 Val Loss:\t 0.01780009073666099\n",
      "Epoch:\t 6 Val Loss:\t 0.01775798498434048\n",
      "Epoch:\t 7 Val Loss:\t 0.01776933120735402\n",
      "Epoch:\t 8 Val Loss:\t 0.017776708436775847\n",
      "Epoch:\t 9 Val Loss:\t 0.0177851497750571\n"
     ]
    },
    {
     "name": "stderr",
     "output_type": "stream",
     "text": [
      "[I 2025-06-02 13:11:51,241] Trial 1 finished with value: 0.01723505248582258 and parameters: {'lr': 0.0001, 'weight_decay': 0.001, 'scheduler_factor': 0.3, 'scheduler_patience': 5, 'batch_size': 64, 'dropout': 0.1, 'hidden_dims': 1024}. Best is trial 0 with value: 0.016358494126744016.\n"
     ]
    },
    {
     "name": "stdout",
     "output_type": "stream",
     "text": [
      "Epoch:\t 10 Val Loss:\t 0.017807354147560184\n",
      "Epoch:\t 0 Val Loss:\t 0.01729013509077873\n",
      "Epoch:\t 1 Val Loss:\t 0.01675454910008427\n",
      "Epoch:\t 2 Val Loss:\t 0.01667776726604344\n",
      "Epoch:\t 3 Val Loss:\t 0.016676276957313857\n",
      "Epoch:\t 4 Val Loss:\t 0.016672086937050662\n",
      "Epoch:\t 5 Val Loss:\t 0.016676142938688906\n",
      "Epoch:\t 6 Val Loss:\t 0.016675206878500614\n",
      "Epoch:\t 7 Val Loss:\t 0.0166684699515422\n",
      "Epoch:\t 8 Val Loss:\t 0.016675387099310605\n",
      "Epoch:\t 9 Val Loss:\t 0.016671932074717268\n",
      "Epoch:\t 10 Val Loss:\t 0.016669376239643426\n",
      "Epoch:\t 11 Val Loss:\t 0.01667699169793086\n",
      "Epoch:\t 12 Val Loss:\t 0.016677393050181243\n",
      "Epoch:\t 13 Val Loss:\t 0.01667505048573734\n",
      "Epoch:\t 14 Val Loss:\t 0.016672181087603908\n",
      "Epoch:\t 15 Val Loss:\t 0.016663801171378285\n",
      "Epoch:\t 16 Val Loss:\t 0.016661478153136903\n",
      "Epoch:\t 17 Val Loss:\t 0.016639174410106542\n",
      "Epoch:\t 18 Val Loss:\t 0.01664255487514223\n",
      "Epoch:\t 19 Val Loss:\t 0.016645125449375662\n",
      "Epoch:\t 20 Val Loss:\t 0.016645018660831068\n",
      "Epoch:\t 21 Val Loss:\t 0.016642637009954525\n",
      "Epoch:\t 22 Val Loss:\t 0.016645777048188485\n",
      "Epoch:\t 23 Val Loss:\t 0.016644665996407817\n",
      "Epoch:\t 24 Val Loss:\t 0.01664814258251854\n",
      "Epoch:\t 25 Val Loss:\t 0.016640895971270626\n",
      "Epoch:\t 26 Val Loss:\t 0.016642491006570493\n"
     ]
    },
    {
     "name": "stderr",
     "output_type": "stream",
     "text": [
      "[I 2025-06-02 13:15:32,581] Trial 2 finished with value: 0.016639174410106542 and parameters: {'lr': 0.001, 'weight_decay': 1e-06, 'scheduler_factor': 0.3, 'scheduler_patience': 20, 'batch_size': 32, 'dropout': 0.2, 'hidden_dims': 1024}. Best is trial 0 with value: 0.016358494126744016.\n"
     ]
    },
    {
     "name": "stdout",
     "output_type": "stream",
     "text": [
      "Epoch:\t 27 Val Loss:\t 0.01664578623226088\n",
      "Epoch:\t 0 Val Loss:\t 0.019696920613048546\n",
      "Epoch:\t 1 Val Loss:\t 0.017361940708238977\n",
      "Epoch:\t 2 Val Loss:\t 0.016832608376237356\n",
      "Epoch:\t 3 Val Loss:\t 0.01662156671896529\n",
      "Epoch:\t 4 Val Loss:\t 0.016569742576557533\n",
      "Epoch:\t 5 Val Loss:\t 0.01659745681384081\n",
      "Epoch:\t 6 Val Loss:\t 0.01660371635863827\n",
      "Epoch:\t 7 Val Loss:\t 0.016532358458906507\n",
      "Epoch:\t 8 Val Loss:\t 0.016522325728076638\n",
      "Epoch:\t 9 Val Loss:\t 0.01651855068538829\n",
      "Epoch:\t 10 Val Loss:\t 0.01649840717530327\n",
      "Epoch:\t 11 Val Loss:\t 0.0164985435886063\n",
      "Epoch:\t 12 Val Loss:\t 0.016495789215567602\n",
      "Epoch:\t 13 Val Loss:\t 0.016483663539387215\n",
      "Epoch:\t 14 Val Loss:\t 0.016487935513042368\n",
      "Epoch:\t 15 Val Loss:\t 0.016491653562382677\n",
      "Epoch:\t 16 Val Loss:\t 0.016490644089566166\n",
      "Epoch:\t 17 Val Loss:\t 0.016487194916946137\n",
      "Epoch:\t 18 Val Loss:\t 0.01648730706195931\n",
      "Epoch:\t 19 Val Loss:\t 0.016487107345672665\n",
      "Epoch:\t 20 Val Loss:\t 0.016486620689200242\n",
      "Epoch:\t 21 Val Loss:\t 0.016487900188665874\n",
      "Epoch:\t 22 Val Loss:\t 0.016490597262906682\n"
     ]
    },
    {
     "name": "stderr",
     "output_type": "stream",
     "text": [
      "[I 2025-06-02 13:16:32,161] Trial 3 finished with value: 0.016483663539387215 and parameters: {'lr': 0.0001, 'weight_decay': 0.0001, 'scheduler_factor': 0.1, 'scheduler_patience': 1, 'batch_size': 256, 'dropout': 0.1, 'hidden_dims': 128}. Best is trial 0 with value: 0.016358494126744016.\n"
     ]
    },
    {
     "name": "stdout",
     "output_type": "stream",
     "text": [
      "Epoch:\t 23 Val Loss:\t 0.016487576690325783\n",
      "Epoch:\t 0 Val Loss:\t 0.03695209556741347\n",
      "Epoch:\t 1 Val Loss:\t 0.029324099816789198\n",
      "Epoch:\t 2 Val Loss:\t 0.026506102197710723\n",
      "Epoch:\t 3 Val Loss:\t 0.024767194087003206\n",
      "Epoch:\t 4 Val Loss:\t 0.02324329022545715\n",
      "Epoch:\t 5 Val Loss:\t 0.021717247825678906\n",
      "Epoch:\t 6 Val Loss:\t 0.021048511058044204\n",
      "Epoch:\t 7 Val Loss:\t 0.020111912328426476\n",
      "Epoch:\t 8 Val Loss:\t 0.019595466793733394\n",
      "Epoch:\t 9 Val Loss:\t 0.019163379912830625\n",
      "Epoch:\t 10 Val Loss:\t 0.018864482731058282\n",
      "Epoch:\t 11 Val Loss:\t 0.018737872679181804\n",
      "Epoch:\t 12 Val Loss:\t 0.018463855285880265\n",
      "Epoch:\t 13 Val Loss:\t 0.018425833356006737\n",
      "Epoch:\t 14 Val Loss:\t 0.018351804081745852\n",
      "Epoch:\t 15 Val Loss:\t 0.018309210729560668\n",
      "Epoch:\t 16 Val Loss:\t 0.01825142365511974\n",
      "Epoch:\t 17 Val Loss:\t 0.01824193497538758\n",
      "Epoch:\t 18 Val Loss:\t 0.01821828737160209\n",
      "Epoch:\t 19 Val Loss:\t 0.01825838863035107\n",
      "Epoch:\t 20 Val Loss:\t 0.018317745154022787\n",
      "Epoch:\t 21 Val Loss:\t 0.018346860292113097\n",
      "Epoch:\t 22 Val Loss:\t 0.018316652284414054\n",
      "Epoch:\t 23 Val Loss:\t 0.018422237223080118\n",
      "Epoch:\t 24 Val Loss:\t 0.01836775929047172\n",
      "Epoch:\t 25 Val Loss:\t 0.01852875320881701\n",
      "Epoch:\t 26 Val Loss:\t 0.018549399905601498\n",
      "Epoch:\t 27 Val Loss:\t 0.01858815674780841\n"
     ]
    },
    {
     "name": "stderr",
     "output_type": "stream",
     "text": [
      "[I 2025-06-02 13:17:50,687] Trial 4 finished with value: 0.01821828737160209 and parameters: {'lr': 1e-05, 'weight_decay': 0.0001, 'scheduler_factor': 0.3, 'scheduler_patience': 10, 'batch_size': 256, 'dropout': 0.05, 'hidden_dims': 128}. Best is trial 0 with value: 0.016358494126744016.\n"
     ]
    },
    {
     "name": "stdout",
     "output_type": "stream",
     "text": [
      "Epoch:\t 28 Val Loss:\t 0.018651543239017774\n"
     ]
    },
    {
     "name": "stderr",
     "output_type": "stream",
     "text": [
      "[I 2025-06-02 13:18:19,615] Trial 5 pruned. \n"
     ]
    },
    {
     "name": "stdout",
     "output_type": "stream",
     "text": [
      "Epoch:\t 0 Val Loss:\t 0.020302401031933814\n"
     ]
    },
    {
     "name": "stderr",
     "output_type": "stream",
     "text": [
      "[I 2025-06-02 13:18:22,591] Trial 6 pruned. \n"
     ]
    },
    {
     "name": "stdout",
     "output_type": "stream",
     "text": [
      "Epoch:\t 0 Val Loss:\t 0.06050300803842744\n",
      "Epoch:\t 0 Val Loss:\t 0.01700359598597449\n",
      "Epoch:\t 1 Val Loss:\t 0.016544465483861407\n",
      "Epoch:\t 2 Val Loss:\t 0.01648871704822415\n",
      "Epoch:\t 3 Val Loss:\t 0.016438780524386735\n",
      "Epoch:\t 4 Val Loss:\t 0.01642213175357297\n",
      "Epoch:\t 5 Val Loss:\t 0.016406112298201977\n",
      "Epoch:\t 6 Val Loss:\t 0.01640143899626755\n",
      "Epoch:\t 7 Val Loss:\t 0.01639849284325949\n",
      "Epoch:\t 8 Val Loss:\t 0.01639190349088052\n",
      "Epoch:\t 9 Val Loss:\t 0.016394930169656034\n",
      "Epoch:\t 10 Val Loss:\t 0.016386490500566474\n",
      "Epoch:\t 11 Val Loss:\t 0.0163812039937244\n",
      "Epoch:\t 12 Val Loss:\t 0.01638325368372625\n",
      "Epoch:\t 13 Val Loss:\t 0.01638464992910767\n",
      "Epoch:\t 14 Val Loss:\t 0.016381331650692714\n",
      "Epoch:\t 15 Val Loss:\t 0.01637916009645927\n",
      "Epoch:\t 16 Val Loss:\t 0.01639190467633606\n",
      "Epoch:\t 17 Val Loss:\t 0.016382193873019032\n",
      "Epoch:\t 18 Val Loss:\t 0.016383083963267396\n",
      "Epoch:\t 19 Val Loss:\t 0.016373497918307972\n",
      "Epoch:\t 20 Val Loss:\t 0.016379956555153643\n",
      "Epoch:\t 21 Val Loss:\t 0.01637711226611277\n",
      "Epoch:\t 22 Val Loss:\t 0.016384921509049008\n",
      "Epoch:\t 23 Val Loss:\t 0.01637902511896664\n",
      "Epoch:\t 24 Val Loss:\t 0.016380028799176216\n",
      "Epoch:\t 25 Val Loss:\t 0.01637963999965696\n",
      "Epoch:\t 26 Val Loss:\t 0.01637276825024171\n",
      "Epoch:\t 27 Val Loss:\t 0.016382535200500276\n",
      "Epoch:\t 28 Val Loss:\t 0.01637803407365017\n"
     ]
    },
    {
     "name": "stderr",
     "output_type": "stream",
     "text": [
      "[I 2025-06-02 13:20:03,010] Trial 7 pruned. \n"
     ]
    },
    {
     "name": "stdout",
     "output_type": "stream",
     "text": [
      "Epoch:\t 29 Val Loss:\t 0.016376713426846465\n"
     ]
    },
    {
     "name": "stderr",
     "output_type": "stream",
     "text": [
      "[I 2025-06-02 13:20:09,184] Trial 8 pruned. \n"
     ]
    },
    {
     "name": "stdout",
     "output_type": "stream",
     "text": [
      "Epoch:\t 0 Val Loss:\t 0.020405948324892266\n"
     ]
    },
    {
     "name": "stderr",
     "output_type": "stream",
     "text": [
      "[I 2025-06-02 13:20:17,920] Trial 9 pruned. \n"
     ]
    },
    {
     "name": "stdout",
     "output_type": "stream",
     "text": [
      "Epoch:\t 0 Val Loss:\t 0.019043222465039134\n"
     ]
    },
    {
     "name": "stderr",
     "output_type": "stream",
     "text": [
      "[I 2025-06-02 13:20:20,498] Trial 10 pruned. \n"
     ]
    },
    {
     "name": "stdout",
     "output_type": "stream",
     "text": [
      "Epoch:\t 0 Val Loss:\t 0.01729796508812253\n"
     ]
    },
    {
     "name": "stderr",
     "output_type": "stream",
     "text": [
      "[I 2025-06-02 13:20:23,008] Trial 11 pruned. \n"
     ]
    },
    {
     "name": "stdout",
     "output_type": "stream",
     "text": [
      "Epoch:\t 0 Val Loss:\t 0.019903671643262507\n"
     ]
    },
    {
     "name": "stderr",
     "output_type": "stream",
     "text": [
      "[I 2025-06-02 13:20:25,568] Trial 12 pruned. \n"
     ]
    },
    {
     "name": "stdout",
     "output_type": "stream",
     "text": [
      "Epoch:\t 0 Val Loss:\t 0.02159940014769985\n",
      "Epoch:\t 0 Val Loss:\t 0.016938994994979962\n",
      "Epoch:\t 1 Val Loss:\t 0.01649180010943359\n",
      "Epoch:\t 2 Val Loss:\t 0.01642433913286859\n",
      "Epoch:\t 3 Val Loss:\t 0.01642407644300503\n",
      "Epoch:\t 4 Val Loss:\t 0.01641238381984341\n",
      "Epoch:\t 5 Val Loss:\t 0.016409223701601243\n",
      "Epoch:\t 6 Val Loss:\t 0.01641557405184703\n",
      "Epoch:\t 7 Val Loss:\t 0.01640574141761881\n",
      "Epoch:\t 8 Val Loss:\t 0.016413977273838698\n",
      "Epoch:\t 9 Val Loss:\t 0.016403875664068188\n",
      "Epoch:\t 10 Val Loss:\t 0.01642027209210434\n",
      "Epoch:\t 11 Val Loss:\t 0.016412250808413197\n",
      "Epoch:\t 12 Val Loss:\t 0.016369159222607444\n",
      "Epoch:\t 13 Val Loss:\t 0.01637268135282196\n",
      "Epoch:\t 14 Val Loss:\t 0.016383539585821883\n",
      "Epoch:\t 15 Val Loss:\t 0.016365818987777187\n",
      "Epoch:\t 16 Val Loss:\t 0.0163629593004224\n",
      "Epoch:\t 17 Val Loss:\t 0.016365526049394893\n",
      "Epoch:\t 18 Val Loss:\t 0.016363167464493556\n",
      "Epoch:\t 19 Val Loss:\t 0.016364232894524308\n",
      "Epoch:\t 20 Val Loss:\t 0.016361375542962475\n",
      "Epoch:\t 21 Val Loss:\t 0.016362592482106864\n",
      "Epoch:\t 22 Val Loss:\t 0.016364851867678273\n",
      "Epoch:\t 23 Val Loss:\t 0.016364394210973736\n",
      "Epoch:\t 24 Val Loss:\t 0.01636169953541261\n",
      "Epoch:\t 25 Val Loss:\t 0.016365784939102995\n",
      "Epoch:\t 26 Val Loss:\t 0.016363643088836186\n",
      "Epoch:\t 27 Val Loss:\t 0.016363118847059474\n",
      "Epoch:\t 28 Val Loss:\t 0.01636315940600787\n",
      "Epoch:\t 29 Val Loss:\t 0.016364334726113216\n"
     ]
    },
    {
     "name": "stderr",
     "output_type": "stream",
     "text": [
      "[I 2025-06-02 13:21:41,655] Trial 13 finished with value: 0.016361375542962475 and parameters: {'lr': 0.001, 'weight_decay': 0.0001, 'scheduler_factor': 0.1, 'scheduler_patience': 1, 'batch_size': 256, 'dropout': 0.1, 'hidden_dims': 128}. Best is trial 0 with value: 0.016358494126744016.\n"
     ]
    },
    {
     "name": "stdout",
     "output_type": "stream",
     "text": [
      "Epoch:\t 30 Val Loss:\t 0.016362021844893982\n",
      "Epoch:\t 0 Val Loss:\t 0.016533418552006945\n",
      "Epoch:\t 1 Val Loss:\t 0.016515021582987392\n",
      "Epoch:\t 2 Val Loss:\t 0.016507436276345017\n",
      "Epoch:\t 3 Val Loss:\t 0.016526665647897256\n",
      "Epoch:\t 4 Val Loss:\t 0.01654014764366695\n",
      "Epoch:\t 5 Val Loss:\t 0.016528533400672514\n",
      "Epoch:\t 6 Val Loss:\t 0.016528281878453833\n",
      "Epoch:\t 7 Val Loss:\t 0.016523328740011653\n",
      "Epoch:\t 8 Val Loss:\t 0.016562702866098348\n",
      "Epoch:\t 9 Val Loss:\t 0.016503897358229908\n",
      "Epoch:\t 10 Val Loss:\t 0.016527601346997548\n"
     ]
    },
    {
     "name": "stderr",
     "output_type": "stream",
     "text": [
      "[I 2025-06-02 13:25:27,499] Trial 14 pruned. \n"
     ]
    },
    {
     "name": "stdout",
     "output_type": "stream",
     "text": [
      "Epoch:\t 11 Val Loss:\t 0.016508864159553056\n"
     ]
    },
    {
     "name": "stderr",
     "output_type": "stream",
     "text": [
      "[I 2025-06-02 13:25:29,829] Trial 15 pruned. \n"
     ]
    },
    {
     "name": "stdout",
     "output_type": "stream",
     "text": [
      "Epoch:\t 0 Val Loss:\t 0.017382545851865765\n",
      "Epoch:\t 0 Val Loss:\t 0.016935238908149804\n",
      "Epoch:\t 1 Val Loss:\t 0.01677881943067937\n",
      "Epoch:\t 2 Val Loss:\t 0.01664004118819616\n",
      "Epoch:\t 3 Val Loss:\t 0.0164612601316531\n",
      "Epoch:\t 4 Val Loss:\t 0.016412238973728906\n",
      "Epoch:\t 5 Val Loss:\t 0.0164019882774813\n",
      "Epoch:\t 6 Val Loss:\t 0.01639927767660361\n",
      "Epoch:\t 7 Val Loss:\t 0.01639618906956106\n",
      "Epoch:\t 8 Val Loss:\t 0.01640047390205588\n",
      "Epoch:\t 9 Val Loss:\t 0.016393436083025105\n",
      "Epoch:\t 10 Val Loss:\t 0.016386201081144657\n",
      "Epoch:\t 11 Val Loss:\t 0.016391512057429534\n",
      "Epoch:\t 12 Val Loss:\t 0.016389418447276403\n",
      "Epoch:\t 13 Val Loss:\t 0.01639336040033884\n",
      "Epoch:\t 14 Val Loss:\t 0.01638344860968099\n",
      "Epoch:\t 15 Val Loss:\t 0.016384832902401208\n",
      "Epoch:\t 16 Val Loss:\t 0.016386785331838\n",
      "Epoch:\t 17 Val Loss:\t 0.01638202530921847\n",
      "Epoch:\t 18 Val Loss:\t 0.016382566473515662\n",
      "Epoch:\t 19 Val Loss:\t 0.016378886045414917\n",
      "Epoch:\t 20 Val Loss:\t 0.01637782609850839\n",
      "Epoch:\t 21 Val Loss:\t 0.016384610801432102\n",
      "Epoch:\t 22 Val Loss:\t 0.016378036706178326\n",
      "Epoch:\t 23 Val Loss:\t 0.01638104808232313\n",
      "Epoch:\t 24 Val Loss:\t 0.016382990279190025\n",
      "Epoch:\t 25 Val Loss:\t 0.01637948849133644\n",
      "Epoch:\t 26 Val Loss:\t 0.01637552321328515\n",
      "Epoch:\t 27 Val Loss:\t 0.01637457580368523\n"
     ]
    },
    {
     "name": "stderr",
     "output_type": "stream",
     "text": [
      "[I 2025-06-02 13:26:34,694] Trial 16 pruned. \n"
     ]
    },
    {
     "name": "stdout",
     "output_type": "stream",
     "text": [
      "Epoch:\t 28 Val Loss:\t 0.016379237246858344\n"
     ]
    },
    {
     "name": "stderr",
     "output_type": "stream",
     "text": [
      "[I 2025-06-02 13:26:37,000] Trial 17 pruned. \n"
     ]
    },
    {
     "name": "stdout",
     "output_type": "stream",
     "text": [
      "Epoch:\t 0 Val Loss:\t 0.017514990343206183\n",
      "Epoch:\t 0 Val Loss:\t 0.016548162953319675\n",
      "Epoch:\t 1 Val Loss:\t 0.01655009230206868\n",
      "Epoch:\t 2 Val Loss:\t 0.016519191958950852\n",
      "Epoch:\t 3 Val Loss:\t 0.016514070458590744\n",
      "Epoch:\t 4 Val Loss:\t 0.016530848049627754\n",
      "Epoch:\t 5 Val Loss:\t 0.016501510334397125\n",
      "Epoch:\t 6 Val Loss:\t 0.016524570901133493\n",
      "Epoch:\t 7 Val Loss:\t 0.0165312875693063\n",
      "Epoch:\t 8 Val Loss:\t 0.01647657662637547\n",
      "Epoch:\t 9 Val Loss:\t 0.016484654372285506\n",
      "Epoch:\t 10 Val Loss:\t 0.01647775798610492\n",
      "Epoch:\t 11 Val Loss:\t 0.016483276539700543\n",
      "Epoch:\t 12 Val Loss:\t 0.01645301990696268\n",
      "Epoch:\t 13 Val Loss:\t 0.01646559661877657\n",
      "Epoch:\t 14 Val Loss:\t 0.016460820245285907\n",
      "Epoch:\t 15 Val Loss:\t 0.01644626416168913\n",
      "Epoch:\t 16 Val Loss:\t 0.016438663517216404\n",
      "Epoch:\t 17 Val Loss:\t 0.016450892998752947\n",
      "Epoch:\t 18 Val Loss:\t 0.016466052998939832\n",
      "Epoch:\t 19 Val Loss:\t 0.016434276139061295\n",
      "Epoch:\t 20 Val Loss:\t 0.016447398290859314\n",
      "Epoch:\t 21 Val Loss:\t 0.01642198843026687\n",
      "Epoch:\t 22 Val Loss:\t 0.01643823750526131\n",
      "Epoch:\t 23 Val Loss:\t 0.016429954716088418\n",
      "Epoch:\t 24 Val Loss:\t 0.01642129911158331\n",
      "Epoch:\t 25 Val Loss:\t 0.01643601319601457\n",
      "Epoch:\t 26 Val Loss:\t 0.016420746885449113\n",
      "Epoch:\t 27 Val Loss:\t 0.016403633719291502\n"
     ]
    },
    {
     "name": "stderr",
     "output_type": "stream",
     "text": [
      "[I 2025-06-02 13:29:45,045] Trial 18 pruned. \n"
     ]
    },
    {
     "name": "stdout",
     "output_type": "stream",
     "text": [
      "Epoch:\t 28 Val Loss:\t 0.016420855346641585\n"
     ]
    },
    {
     "name": "stderr",
     "output_type": "stream",
     "text": [
      "[I 2025-06-02 13:29:50,148] Trial 19 pruned. \n"
     ]
    },
    {
     "name": "stdout",
     "output_type": "stream",
     "text": [
      "Epoch:\t 0 Val Loss:\t 0.0278859959247596\n",
      "Epoch:\t 0 Val Loss:\t 0.016542826672078098\n",
      "Epoch:\t 1 Val Loss:\t 0.016515848164707334\n",
      "Epoch:\t 2 Val Loss:\t 0.01654066140008663\n",
      "Epoch:\t 3 Val Loss:\t 0.01653097206687484\n",
      "Epoch:\t 4 Val Loss:\t 0.016512956103208104\n",
      "Epoch:\t 5 Val Loss:\t 0.016509510402440235\n",
      "Epoch:\t 6 Val Loss:\t 0.016557756188508264\n",
      "Epoch:\t 7 Val Loss:\t 0.01651031844988928\n",
      "Epoch:\t 8 Val Loss:\t 0.016517999483281018\n",
      "Epoch:\t 9 Val Loss:\t 0.01650090763736102\n",
      "Epoch:\t 10 Val Loss:\t 0.016537690542465136\n"
     ]
    },
    {
     "name": "stderr",
     "output_type": "stream",
     "text": [
      "[I 2025-06-02 13:32:58,905] Trial 20 pruned. \n"
     ]
    },
    {
     "name": "stdout",
     "output_type": "stream",
     "text": [
      "Epoch:\t 11 Val Loss:\t 0.01653041864331626\n"
     ]
    },
    {
     "name": "stderr",
     "output_type": "stream",
     "text": [
      "[I 2025-06-02 13:33:01,354] Trial 21 pruned. \n"
     ]
    },
    {
     "name": "stdout",
     "output_type": "stream",
     "text": [
      "Epoch:\t 0 Val Loss:\t 0.01992176039521717\n"
     ]
    },
    {
     "name": "stderr",
     "output_type": "stream",
     "text": [
      "[I 2025-06-02 13:33:03,832] Trial 22 pruned. \n"
     ]
    },
    {
     "name": "stdout",
     "output_type": "stream",
     "text": [
      "Epoch:\t 0 Val Loss:\t 0.019794433434580684\n"
     ]
    },
    {
     "name": "stderr",
     "output_type": "stream",
     "text": [
      "[I 2025-06-02 13:33:06,442] Trial 23 pruned. \n"
     ]
    },
    {
     "name": "stdout",
     "output_type": "stream",
     "text": [
      "Epoch:\t 0 Val Loss:\t 0.020227917167582696\n",
      "Epoch:\t 0 Val Loss:\t 0.01678252186913678\n",
      "Epoch:\t 1 Val Loss:\t 0.016506139620228212\n",
      "Epoch:\t 2 Val Loss:\t 0.01642445668015162\n",
      "Epoch:\t 3 Val Loss:\t 0.016409009458479198\n",
      "Epoch:\t 4 Val Loss:\t 0.016422279921758598\n",
      "Epoch:\t 5 Val Loss:\t 0.01641892987659794\n",
      "Epoch:\t 6 Val Loss:\t 0.01636737744979728\n",
      "Epoch:\t 7 Val Loss:\t 0.016371731885927474\n",
      "Epoch:\t 8 Val Loss:\t 0.0163655317601092\n",
      "Epoch:\t 9 Val Loss:\t 0.016368087941115883\n",
      "Epoch:\t 10 Val Loss:\t 0.01636982500744786\n",
      "Epoch:\t 11 Val Loss:\t 0.01636115522078954\n",
      "Epoch:\t 12 Val Loss:\t 0.016361090201896487\n",
      "Epoch:\t 13 Val Loss:\t 0.016359510460203674\n",
      "Epoch:\t 14 Val Loss:\t 0.016357293849589356\n",
      "Epoch:\t 15 Val Loss:\t 0.016361209051833275\n",
      "Epoch:\t 16 Val Loss:\t 0.01635983279064729\n",
      "Epoch:\t 17 Val Loss:\t 0.016357506891874256\n",
      "Epoch:\t 18 Val Loss:\t 0.01635620555873373\n",
      "Epoch:\t 19 Val Loss:\t 0.01635846400399875\n",
      "Epoch:\t 20 Val Loss:\t 0.016358040961949004\n",
      "Epoch:\t 21 Val Loss:\t 0.016361199987159857\n",
      "Epoch:\t 22 Val Loss:\t 0.016357647776124563\n",
      "Epoch:\t 23 Val Loss:\t 0.016355894470042355\n",
      "Epoch:\t 24 Val Loss:\t 0.016358606777845664\n",
      "Epoch:\t 25 Val Loss:\t 0.016360039930563074\n",
      "Epoch:\t 26 Val Loss:\t 0.016356306911185624\n",
      "Epoch:\t 27 Val Loss:\t 0.016355908538702984\n",
      "Epoch:\t 28 Val Loss:\t 0.016358179004317887\n",
      "Epoch:\t 29 Val Loss:\t 0.016358964845921448\n",
      "Epoch:\t 30 Val Loss:\t 0.016357985858197574\n",
      "Epoch:\t 31 Val Loss:\t 0.01635888796239804\n",
      "Epoch:\t 32 Val Loss:\t 0.01635731502744546\n"
     ]
    },
    {
     "name": "stderr",
     "output_type": "stream",
     "text": [
      "[I 2025-06-02 13:34:27,996] Trial 24 finished with value: 0.016355894470042355 and parameters: {'lr': 0.001, 'weight_decay': 0.0001, 'scheduler_factor': 0.1, 'scheduler_patience': 1, 'batch_size': 256, 'dropout': 0.1, 'hidden_dims': 128}. Best is trial 24 with value: 0.016355894470042355.\n"
     ]
    },
    {
     "name": "stdout",
     "output_type": "stream",
     "text": [
      "Epoch:\t 33 Val Loss:\t 0.016361181082209974\n",
      "Epoch:\t 0 Val Loss:\t 0.01699024069169312\n",
      "Epoch:\t 1 Val Loss:\t 0.016756802712108217\n",
      "Epoch:\t 2 Val Loss:\t 0.016607042636728304\n",
      "Epoch:\t 3 Val Loss:\t 0.016512242210117045\n",
      "Epoch:\t 4 Val Loss:\t 0.016453638388797712\n",
      "Epoch:\t 5 Val Loss:\t 0.01642982727200702\n",
      "Epoch:\t 6 Val Loss:\t 0.016402063107964125\n",
      "Epoch:\t 7 Val Loss:\t 0.01638099534607479\n",
      "Epoch:\t 8 Val Loss:\t 0.016376368103498056\n",
      "Epoch:\t 9 Val Loss:\t 0.016372443181290674\n",
      "Epoch:\t 10 Val Loss:\t 0.016377494858808062\n",
      "Epoch:\t 11 Val Loss:\t 0.016368226511448765\n",
      "Epoch:\t 12 Val Loss:\t 0.016368060957275655\n",
      "Epoch:\t 13 Val Loss:\t 0.016368369737798483\n",
      "Epoch:\t 14 Val Loss:\t 0.016357447753210415\n",
      "Epoch:\t 15 Val Loss:\t 0.016358574492076523\n",
      "Epoch:\t 16 Val Loss:\t 0.01635727317881192\n",
      "Epoch:\t 17 Val Loss:\t 0.016356633260044873\n",
      "Epoch:\t 18 Val Loss:\t 0.016356700587342007\n",
      "Epoch:\t 19 Val Loss:\t 0.016357713585262026\n",
      "Epoch:\t 20 Val Loss:\t 0.01635679395130894\n",
      "Epoch:\t 21 Val Loss:\t 0.016356405065085493\n",
      "Epoch:\t 22 Val Loss:\t 0.01635696996828574\n",
      "Epoch:\t 23 Val Loss:\t 0.016355434564176954\n",
      "Epoch:\t 24 Val Loss:\t 0.016355588135233277\n",
      "Epoch:\t 25 Val Loss:\t 0.016358573373891475\n",
      "Epoch:\t 26 Val Loss:\t 0.016356600997117415\n",
      "Epoch:\t 27 Val Loss:\t 0.01635567018729343\n",
      "Epoch:\t 28 Val Loss:\t 0.0163569175316855\n",
      "Epoch:\t 29 Val Loss:\t 0.01635660246211922\n",
      "Epoch:\t 30 Val Loss:\t 0.0163577427612214\n",
      "Epoch:\t 31 Val Loss:\t 0.016356839065889965\n",
      "Epoch:\t 32 Val Loss:\t 0.01635652964405512\n"
     ]
    },
    {
     "name": "stderr",
     "output_type": "stream",
     "text": [
      "[I 2025-06-02 13:36:02,091] Trial 25 finished with value: 0.016355434564176954 and parameters: {'lr': 0.001, 'weight_decay': 1e-06, 'scheduler_factor': 0.1, 'scheduler_patience': 1, 'batch_size': 128, 'dropout': 0.1, 'hidden_dims': 64}. Best is trial 25 with value: 0.016355434564176954.\n"
     ]
    },
    {
     "name": "stdout",
     "output_type": "stream",
     "text": [
      "Epoch:\t 33 Val Loss:\t 0.016358283203376237\n",
      "Epoch:\t 0 Val Loss:\t 0.016916424533827634\n",
      "Epoch:\t 1 Val Loss:\t 0.01672759505787066\n",
      "Epoch:\t 2 Val Loss:\t 0.016535626398474217\n",
      "Epoch:\t 3 Val Loss:\t 0.01647230993244755\n",
      "Epoch:\t 4 Val Loss:\t 0.016442774025122387\n",
      "Epoch:\t 5 Val Loss:\t 0.016413461922235896\n",
      "Epoch:\t 6 Val Loss:\t 0.01639893228400433\n",
      "Epoch:\t 7 Val Loss:\t 0.016381925472729566\n",
      "Epoch:\t 8 Val Loss:\t 0.016375226405169665\n",
      "Epoch:\t 9 Val Loss:\t 0.016372119907714294\n",
      "Epoch:\t 10 Val Loss:\t 0.016370339284727222\n",
      "Epoch:\t 11 Val Loss:\t 0.0163673653669452\n",
      "Epoch:\t 12 Val Loss:\t 0.01636870586452333\n",
      "Epoch:\t 13 Val Loss:\t 0.016369944314261597\n",
      "Epoch:\t 14 Val Loss:\t 0.01637078302031918\n",
      "Epoch:\t 15 Val Loss:\t 0.016367462276814456\n"
     ]
    },
    {
     "name": "stderr",
     "output_type": "stream",
     "text": [
      "[I 2025-06-02 13:36:56,028] Trial 26 pruned. \n"
     ]
    },
    {
     "name": "stdout",
     "output_type": "stream",
     "text": [
      "Epoch:\t 16 Val Loss:\t 0.01636900193690297\n",
      "Epoch:\t 0 Val Loss:\t 0.01691675465703489\n",
      "Epoch:\t 1 Val Loss:\t 0.01665077158915145\n",
      "Epoch:\t 2 Val Loss:\t 0.016552440185297168\n",
      "Epoch:\t 3 Val Loss:\t 0.016453899848267412\n",
      "Epoch:\t 4 Val Loss:\t 0.016432971744401975\n",
      "Epoch:\t 5 Val Loss:\t 0.016416883634262826\n",
      "Epoch:\t 6 Val Loss:\t 0.016391728300583306\n",
      "Epoch:\t 7 Val Loss:\t 0.01638631715946031\n",
      "Epoch:\t 8 Val Loss:\t 0.01637687569971452\n",
      "Epoch:\t 9 Val Loss:\t 0.01637583315061528\n",
      "Epoch:\t 10 Val Loss:\t 0.01637406140733301\n",
      "Epoch:\t 11 Val Loss:\t 0.016366612119824413\n",
      "Epoch:\t 12 Val Loss:\t 0.01636763857632732\n",
      "Epoch:\t 13 Val Loss:\t 0.01637217759141283\n",
      "Epoch:\t 14 Val Loss:\t 0.016366389556152574\n",
      "Epoch:\t 15 Val Loss:\t 0.016366158927496325\n"
     ]
    },
    {
     "name": "stderr",
     "output_type": "stream",
     "text": [
      "[I 2025-06-02 13:37:50,309] Trial 27 pruned. \n"
     ]
    },
    {
     "name": "stdout",
     "output_type": "stream",
     "text": [
      "Epoch:\t 16 Val Loss:\t 0.016371714779404536\n",
      "Epoch:\t 0 Val Loss:\t 0.017039735637078987\n",
      "Epoch:\t 1 Val Loss:\t 0.016779032936484146\n",
      "Epoch:\t 2 Val Loss:\t 0.016644314415812683\n",
      "Epoch:\t 3 Val Loss:\t 0.016500322127275254\n",
      "Epoch:\t 4 Val Loss:\t 0.01646370736861162\n",
      "Epoch:\t 5 Val Loss:\t 0.01641689208343649\n",
      "Epoch:\t 6 Val Loss:\t 0.016396594148601614\n",
      "Epoch:\t 7 Val Loss:\t 0.01638803223408101\n",
      "Epoch:\t 8 Val Loss:\t 0.016380137297508708\n",
      "Epoch:\t 9 Val Loss:\t 0.016380638411839645\n",
      "Epoch:\t 10 Val Loss:\t 0.01637495228987827\n",
      "Epoch:\t 11 Val Loss:\t 0.01637134211134901\n",
      "Epoch:\t 12 Val Loss:\t 0.016374271511015025\n",
      "Epoch:\t 13 Val Loss:\t 0.01637163876972937\n",
      "Epoch:\t 14 Val Loss:\t 0.01635685060950621\n",
      "Epoch:\t 15 Val Loss:\t 0.0163588435561015\n",
      "Epoch:\t 16 Val Loss:\t 0.0163586266580999\n",
      "Epoch:\t 17 Val Loss:\t 0.016360035366460943\n",
      "Epoch:\t 18 Val Loss:\t 0.01636021078547783\n",
      "Epoch:\t 19 Val Loss:\t 0.016359827683021706\n",
      "Epoch:\t 20 Val Loss:\t 0.016360651761484758\n",
      "Epoch:\t 21 Val Loss:\t 0.016360128280463036\n",
      "Epoch:\t 22 Val Loss:\t 0.016359869323455598\n",
      "Epoch:\t 23 Val Loss:\t 0.016358464368787948\n"
     ]
    },
    {
     "name": "stderr",
     "output_type": "stream",
     "text": [
      "[I 2025-06-02 13:39:11,050] Trial 28 finished with value: 0.01635685060950621 and parameters: {'lr': 0.001, 'weight_decay': 1e-06, 'scheduler_factor': 0.1, 'scheduler_patience': 1, 'batch_size': 128, 'dropout': 0.1, 'hidden_dims': 64}. Best is trial 25 with value: 0.016355434564176954.\n"
     ]
    },
    {
     "name": "stdout",
     "output_type": "stream",
     "text": [
      "Epoch:\t 24 Val Loss:\t 0.01635828378190246\n",
      "Epoch:\t 0 Val Loss:\t 0.017066568448649268\n"
     ]
    },
    {
     "name": "stderr",
     "output_type": "stream",
     "text": [
      "[I 2025-06-02 13:39:17,402] Trial 29 pruned. \n"
     ]
    },
    {
     "name": "stdout",
     "output_type": "stream",
     "text": [
      "Epoch:\t 1 Val Loss:\t 0.01683333440628471\n",
      "Epoch:\t 0 Val Loss:\t 0.01705508971105466\n"
     ]
    },
    {
     "name": "stderr",
     "output_type": "stream",
     "text": [
      "[I 2025-06-02 13:39:24,012] Trial 30 pruned. \n"
     ]
    },
    {
     "name": "stdout",
     "output_type": "stream",
     "text": [
      "Epoch:\t 1 Val Loss:\t 0.016799972557057632\n"
     ]
    },
    {
     "name": "stderr",
     "output_type": "stream",
     "text": [
      "[I 2025-06-02 13:39:27,250] Trial 31 pruned. \n"
     ]
    },
    {
     "name": "stdout",
     "output_type": "stream",
     "text": [
      "Epoch:\t 0 Val Loss:\t 0.01769379008543434\n"
     ]
    },
    {
     "name": "stderr",
     "output_type": "stream",
     "text": [
      "[I 2025-06-02 13:39:30,699] Trial 32 pruned. \n"
     ]
    },
    {
     "name": "stdout",
     "output_type": "stream",
     "text": [
      "Epoch:\t 0 Val Loss:\t 0.01890852694873538\n",
      "Epoch:\t 0 Val Loss:\t 0.016834124455970816\n",
      "Epoch:\t 1 Val Loss:\t 0.016537102376974956\n",
      "Epoch:\t 2 Val Loss:\t 0.016456096014866806\n",
      "Epoch:\t 3 Val Loss:\t 0.01641225893910804\n",
      "Epoch:\t 4 Val Loss:\t 0.016387246260845194\n",
      "Epoch:\t 5 Val Loss:\t 0.016381725860847744\n",
      "Epoch:\t 6 Val Loss:\t 0.016382401183982466\n",
      "Epoch:\t 7 Val Loss:\t 0.01638131265833962\n",
      "Epoch:\t 8 Val Loss:\t 0.016383338439537463\n",
      "Epoch:\t 9 Val Loss:\t 0.01638048841470872\n",
      "Epoch:\t 10 Val Loss:\t 0.016381785750789413\n",
      "Epoch:\t 11 Val Loss:\t 0.016380724034092145\n"
     ]
    },
    {
     "name": "stderr",
     "output_type": "stream",
     "text": [
      "[I 2025-06-02 13:40:30,890] Trial 33 pruned. \n"
     ]
    },
    {
     "name": "stdout",
     "output_type": "stream",
     "text": [
      "Epoch:\t 12 Val Loss:\t 0.016384269860696344\n"
     ]
    },
    {
     "name": "stderr",
     "output_type": "stream",
     "text": [
      "[I 2025-06-02 13:40:38,121] Trial 34 pruned. \n"
     ]
    },
    {
     "name": "stdout",
     "output_type": "stream",
     "text": [
      "Epoch:\t 0 Val Loss:\t 0.022708271941793468\n"
     ]
    },
    {
     "name": "stderr",
     "output_type": "stream",
     "text": [
      "[I 2025-06-02 13:40:41,401] Trial 35 pruned. \n"
     ]
    },
    {
     "name": "stdout",
     "output_type": "stream",
     "text": [
      "Epoch:\t 0 Val Loss:\t 0.027865466857583145\n",
      "Epoch:\t 0 Val Loss:\t 0.017152954761483027\n"
     ]
    },
    {
     "name": "stderr",
     "output_type": "stream",
     "text": [
      "[I 2025-06-02 13:40:47,575] Trial 36 pruned. \n"
     ]
    },
    {
     "name": "stdout",
     "output_type": "stream",
     "text": [
      "Epoch:\t 1 Val Loss:\t 0.01683374686109838\n",
      "Epoch:\t 0 Val Loss:\t 0.0164905465690356\n",
      "Epoch:\t 1 Val Loss:\t 0.016470015771684044\n",
      "Epoch:\t 2 Val Loss:\t 0.016465986372749604\n",
      "Epoch:\t 3 Val Loss:\t 0.016470410450740654\n",
      "Epoch:\t 4 Val Loss:\t 0.01647563134731534\n",
      "Epoch:\t 5 Val Loss:\t 0.016467320683509847\n",
      "Epoch:\t 6 Val Loss:\t 0.01646866104161571\n",
      "Epoch:\t 7 Val Loss:\t 0.016478160630774997\n"
     ]
    },
    {
     "name": "stderr",
     "output_type": "stream",
     "text": [
      "[I 2025-06-02 13:43:25,967] Trial 37 pruned. \n"
     ]
    },
    {
     "name": "stdout",
     "output_type": "stream",
     "text": [
      "Epoch:\t 8 Val Loss:\t 0.016469905377023985\n"
     ]
    },
    {
     "name": "stderr",
     "output_type": "stream",
     "text": [
      "[I 2025-06-02 13:43:29,192] Trial 38 pruned. \n"
     ]
    },
    {
     "name": "stdout",
     "output_type": "stream",
     "text": [
      "Epoch:\t 0 Val Loss:\t 0.08764608893214604\n"
     ]
    },
    {
     "name": "stderr",
     "output_type": "stream",
     "text": [
      "[I 2025-06-02 13:43:33,632] Trial 39 pruned. \n"
     ]
    },
    {
     "name": "stdout",
     "output_type": "stream",
     "text": [
      "Epoch:\t 0 Val Loss:\t 0.021349091397982266\n",
      "Epoch:\t 0 Val Loss:\t 0.01644641079852182\n",
      "Epoch:\t 1 Val Loss:\t 0.01640887116203327\n",
      "Epoch:\t 2 Val Loss:\t 0.01641176191638252\n",
      "Epoch:\t 3 Val Loss:\t 0.01639787238464506\n",
      "Epoch:\t 4 Val Loss:\t 0.01639944770763477\n",
      "Epoch:\t 5 Val Loss:\t 0.016397128033196044\n",
      "Epoch:\t 6 Val Loss:\t 0.01638620724016894\n",
      "Epoch:\t 7 Val Loss:\t 0.016385347902670294\n",
      "Epoch:\t 8 Val Loss:\t 0.016387456464011945\n",
      "Epoch:\t 9 Val Loss:\t 0.01639869151439122\n",
      "Epoch:\t 10 Val Loss:\t 0.01638441842221067\n",
      "Epoch:\t 11 Val Loss:\t 0.01639839131721036\n"
     ]
    },
    {
     "name": "stderr",
     "output_type": "stream",
     "text": [
      "[I 2025-06-02 13:45:08,993] Trial 40 pruned. \n"
     ]
    },
    {
     "name": "stdout",
     "output_type": "stream",
     "text": [
      "Epoch:\t 12 Val Loss:\t 0.016392053743611596\n",
      "Epoch:\t 0 Val Loss:\t 0.016927298338083593\n",
      "Epoch:\t 1 Val Loss:\t 0.016469406248504518\n",
      "Epoch:\t 2 Val Loss:\t 0.01641402814321675\n",
      "Epoch:\t 3 Val Loss:\t 0.016435721724434874\n",
      "Epoch:\t 4 Val Loss:\t 0.016412943086535986\n",
      "Epoch:\t 5 Val Loss:\t 0.016360995201004664\n",
      "Epoch:\t 6 Val Loss:\t 0.016366523486888485\n",
      "Epoch:\t 7 Val Loss:\t 0.01637241205086758\n",
      "Epoch:\t 8 Val Loss:\t 0.01636196324643694\n",
      "Epoch:\t 9 Val Loss:\t 0.01636074781657415\n",
      "Epoch:\t 10 Val Loss:\t 0.016361851305056997\n",
      "Epoch:\t 11 Val Loss:\t 0.01636128595631893\n",
      "Epoch:\t 12 Val Loss:\t 0.01636108668023942\n",
      "Epoch:\t 13 Val Loss:\t 0.016364814944181988\n",
      "Epoch:\t 14 Val Loss:\t 0.01636255640009496\n",
      "Epoch:\t 15 Val Loss:\t 0.016358663795150552\n",
      "Epoch:\t 16 Val Loss:\t 0.016360464535797332\n",
      "Epoch:\t 17 Val Loss:\t 0.016361854434420633\n",
      "Epoch:\t 18 Val Loss:\t 0.016361226953590033\n",
      "Epoch:\t 19 Val Loss:\t 0.016363418655068736\n",
      "Epoch:\t 20 Val Loss:\t 0.016361314533847322\n",
      "Epoch:\t 21 Val Loss:\t 0.016360337184173117\n",
      "Epoch:\t 22 Val Loss:\t 0.01636240164782265\n",
      "Epoch:\t 23 Val Loss:\t 0.01635979564854474\n",
      "Epoch:\t 24 Val Loss:\t 0.0163621777800358\n"
     ]
    },
    {
     "name": "stderr",
     "output_type": "stream",
     "text": [
      "[I 2025-06-02 13:46:20,239] Trial 41 finished with value: 0.016358663795150552 and parameters: {'lr': 0.001, 'weight_decay': 0.0001, 'scheduler_factor': 0.1, 'scheduler_patience': 1, 'batch_size': 256, 'dropout': 0.1, 'hidden_dims': 128}. Best is trial 25 with value: 0.016355434564176954.\n"
     ]
    },
    {
     "name": "stdout",
     "output_type": "stream",
     "text": [
      "Epoch:\t 25 Val Loss:\t 0.016360487989554258\n",
      "Epoch:\t 0 Val Loss:\t 0.01672464551050755\n",
      "Epoch:\t 1 Val Loss:\t 0.016455536723208774\n",
      "Epoch:\t 2 Val Loss:\t 0.016428528931530916\n",
      "Epoch:\t 3 Val Loss:\t 0.016444064958254623\n",
      "Epoch:\t 4 Val Loss:\t 0.016426686874300336\n",
      "Epoch:\t 5 Val Loss:\t 0.016421462238505723\n",
      "Epoch:\t 6 Val Loss:\t 0.016402007628627528\n",
      "Epoch:\t 7 Val Loss:\t 0.016432809508690114\n",
      "Epoch:\t 8 Val Loss:\t 0.016410470149596595\n",
      "Epoch:\t 9 Val Loss:\t 0.016375137418149176\n",
      "Epoch:\t 10 Val Loss:\t 0.016366411216101846\n",
      "Epoch:\t 11 Val Loss:\t 0.016372648382206055\n",
      "Epoch:\t 12 Val Loss:\t 0.016370999827453943\n",
      "Epoch:\t 13 Val Loss:\t 0.01636216244765129\n",
      "Epoch:\t 14 Val Loss:\t 0.016361286995447335\n",
      "Epoch:\t 15 Val Loss:\t 0.01636181717852304\n",
      "Epoch:\t 16 Val Loss:\t 0.016360592195866\n",
      "Epoch:\t 17 Val Loss:\t 0.016360754341821385\n",
      "Epoch:\t 18 Val Loss:\t 0.016362494516554752\n",
      "Epoch:\t 19 Val Loss:\t 0.01636377413281003\n",
      "Epoch:\t 20 Val Loss:\t 0.01636106039059028\n",
      "Epoch:\t 21 Val Loss:\t 0.01636012801990344\n",
      "Epoch:\t 22 Val Loss:\t 0.016364447347268798\n",
      "Epoch:\t 23 Val Loss:\t 0.016363098387908896\n",
      "Epoch:\t 24 Val Loss:\t 0.016360314191585568\n",
      "Epoch:\t 25 Val Loss:\t 0.016364115467025535\n",
      "Epoch:\t 26 Val Loss:\t 0.01636159018736177\n",
      "Epoch:\t 27 Val Loss:\t 0.016363571457852312\n",
      "Epoch:\t 28 Val Loss:\t 0.016360472477493372\n",
      "Epoch:\t 29 Val Loss:\t 0.01636116855876622\n"
     ]
    },
    {
     "name": "stderr",
     "output_type": "stream",
     "text": [
      "[I 2025-06-02 13:47:42,828] Trial 42 pruned. \n"
     ]
    },
    {
     "name": "stdout",
     "output_type": "stream",
     "text": [
      "Epoch:\t 30 Val Loss:\t 0.016360708596214794\n",
      "Epoch:\t 0 Val Loss:\t 0.016837066485639363\n",
      "Epoch:\t 1 Val Loss:\t 0.0164694204369494\n",
      "Epoch:\t 2 Val Loss:\t 0.016421688768497616\n",
      "Epoch:\t 3 Val Loss:\t 0.016429461326174604\n",
      "Epoch:\t 4 Val Loss:\t 0.01643049443541903\n",
      "Epoch:\t 5 Val Loss:\t 0.016372047304819635\n",
      "Epoch:\t 6 Val Loss:\t 0.016367706365380257\n",
      "Epoch:\t 7 Val Loss:\t 0.01637275429843802\n",
      "Epoch:\t 8 Val Loss:\t 0.016368327156260274\n",
      "Epoch:\t 9 Val Loss:\t 0.01636156061562407\n",
      "Epoch:\t 10 Val Loss:\t 0.016361988458027794\n",
      "Epoch:\t 11 Val Loss:\t 0.016363958525695985\n",
      "Epoch:\t 12 Val Loss:\t 0.016359189860642533\n",
      "Epoch:\t 13 Val Loss:\t 0.016362209750453185\n",
      "Epoch:\t 14 Val Loss:\t 0.01636063443179395\n",
      "Epoch:\t 15 Val Loss:\t 0.016362840267814625\n",
      "Epoch:\t 16 Val Loss:\t 0.01636209529959312\n",
      "Epoch:\t 17 Val Loss:\t 0.016359421574298018\n",
      "Epoch:\t 18 Val Loss:\t 0.01636122678289747\n",
      "Epoch:\t 19 Val Loss:\t 0.01636344083312336\n",
      "Epoch:\t 20 Val Loss:\t 0.016361079253615674\n",
      "Epoch:\t 21 Val Loss:\t 0.016362345043773437\n"
     ]
    },
    {
     "name": "stderr",
     "output_type": "stream",
     "text": [
      "[I 2025-06-02 13:48:41,878] Trial 43 finished with value: 0.016359189860642533 and parameters: {'lr': 0.001, 'weight_decay': 0.0001, 'scheduler_factor': 0.1, 'scheduler_patience': 1, 'batch_size': 256, 'dropout': 0.1, 'hidden_dims': 128}. Best is trial 25 with value: 0.016355434564176954.\n"
     ]
    },
    {
     "name": "stdout",
     "output_type": "stream",
     "text": [
      "Epoch:\t 22 Val Loss:\t 0.016362905127993543\n",
      "Epoch:\t 0 Val Loss:\t 0.016801234547324313\n",
      "Epoch:\t 1 Val Loss:\t 0.01647378308728481\n",
      "Epoch:\t 2 Val Loss:\t 0.016423484376389113\n",
      "Epoch:\t 3 Val Loss:\t 0.0164305221055817\n",
      "Epoch:\t 4 Val Loss:\t 0.01641858088217939\n",
      "Epoch:\t 5 Val Loss:\t 0.016436788226534698\n"
     ]
    },
    {
     "name": "stderr",
     "output_type": "stream",
     "text": [
      "[I 2025-06-02 13:48:59,874] Trial 44 pruned. \n"
     ]
    },
    {
     "name": "stdout",
     "output_type": "stream",
     "text": [
      "Epoch:\t 6 Val Loss:\t 0.01642024327500744\n"
     ]
    },
    {
     "name": "stderr",
     "output_type": "stream",
     "text": [
      "[I 2025-06-02 13:49:02,641] Trial 45 pruned. \n"
     ]
    },
    {
     "name": "stdout",
     "output_type": "stream",
     "text": [
      "Epoch:\t 0 Val Loss:\t 0.022091685012701624\n"
     ]
    },
    {
     "name": "stderr",
     "output_type": "stream",
     "text": [
      "[I 2025-06-02 13:49:05,835] Trial 46 pruned. \n"
     ]
    },
    {
     "name": "stdout",
     "output_type": "stream",
     "text": [
      "Epoch:\t 0 Val Loss:\t 0.017830746060007074\n",
      "Epoch:\t 0 Val Loss:\t 0.016837790033441647\n",
      "Epoch:\t 1 Val Loss:\t 0.016484752237509302\n",
      "Epoch:\t 2 Val Loss:\t 0.01641843895281147\n",
      "Epoch:\t 3 Val Loss:\t 0.016422210132457628\n",
      "Epoch:\t 4 Val Loss:\t 0.016418443753165448\n",
      "Epoch:\t 5 Val Loss:\t 0.01642282464664274\n"
     ]
    },
    {
     "name": "stderr",
     "output_type": "stream",
     "text": [
      "[I 2025-06-02 13:49:23,969] Trial 47 pruned. \n"
     ]
    },
    {
     "name": "stdout",
     "output_type": "stream",
     "text": [
      "Epoch:\t 6 Val Loss:\t 0.016420498136970007\n"
     ]
    },
    {
     "name": "stderr",
     "output_type": "stream",
     "text": [
      "[I 2025-06-02 13:49:41,523] Trial 48 pruned. \n"
     ]
    },
    {
     "name": "stdout",
     "output_type": "stream",
     "text": [
      "Epoch:\t 0 Val Loss:\t 0.021894245608697623\n"
     ]
    },
    {
     "name": "stderr",
     "output_type": "stream",
     "text": [
      "[I 2025-06-02 13:49:44,118] Trial 49 pruned. \n"
     ]
    },
    {
     "name": "stdout",
     "output_type": "stream",
     "text": [
      "Epoch:\t 0 Val Loss:\t 0.01816388526841567\n",
      "Training model with best parameters on train+validation ...\n"
     ]
    },
    {
     "name": "stderr",
     "output_type": "stream",
     "text": [
      "100%|███████████████████████████████████████████████████████████████████████████████████████████████████████████████████████████████████████████████████████████████████| 401917/401917 [04:07<00:00, 1625.02it/s]\n",
      "100%|███████████████████████████████████████████████████████████████████████████████████████████████████████████████████████████████████████████████████████████████████| 401917/401917 [01:13<00:00, 5435.93it/s]\n"
     ]
    },
    {
     "name": "stdout",
     "output_type": "stream",
     "text": [
      "Getting test set predictions and saving results ...\n"
     ]
    },
    {
     "name": "stderr",
     "output_type": "stream",
     "text": [
      "100%|██████████████████████████████████████████████████████████████████████████████████████████████████████████████████████████████████████████████████████████████████████████| 611/611 [00:01<00:00, 437.22it/s]\n"
     ]
    }
   ],
   "source": [
    "train_different_fs(\n",
    "        adata_path=\"./data/feature_selection/sciplex_rand.h5ad\",\n",
    "        run_name=\"decoder_random_fs\",\n",
    "        res_savename=\"./results/feature_selection/decoder_random_fs_res.pkl\",\n",
    "    )"
   ]
  },
  {
   "cell_type": "code",
   "execution_count": 6,
   "id": "719fab55-a287-410c-8414-583cf192d8a2",
   "metadata": {},
   "outputs": [
    {
     "name": "stdout",
     "output_type": "stream",
     "text": [
      "Loading Datasets ...\n"
     ]
    },
    {
     "name": "stderr",
     "output_type": "stream",
     "text": [
      "100%|███████████████████████████████████████████████████████████████████████████████████████████████████████████████████████████████████████████████████████████████████| 401917/401917 [03:13<00:00, 2076.50it/s]\n",
      "100%|███████████████████████████████████████████████████████████████████████████████████████████████████████████████████████████████████████████████████████████████████| 401917/401917 [01:15<00:00, 5298.29it/s]\n",
      "[I 2025-06-02 14:00:56,569] A new study created in RDB with name: decoder_seurat_fs\n"
     ]
    },
    {
     "name": "stdout",
     "output_type": "stream",
     "text": [
      "Optimizing Hyperparameters with Optuna ...\n",
      "Epoch:\t 0 Val Loss:\t 0.02435977046871625\n",
      "Epoch:\t 1 Val Loss:\t 0.024344650614758732\n",
      "Epoch:\t 2 Val Loss:\t 0.024298278619359757\n",
      "Epoch:\t 3 Val Loss:\t 0.024328448439992326\n",
      "Epoch:\t 4 Val Loss:\t 0.02438204630062211\n",
      "Epoch:\t 5 Val Loss:\t 0.024278010297701085\n",
      "Epoch:\t 6 Val Loss:\t 0.024288069630085035\n",
      "Epoch:\t 7 Val Loss:\t 0.024309365568740807\n",
      "Epoch:\t 8 Val Loss:\t 0.02434705745551284\n",
      "Epoch:\t 9 Val Loss:\t 0.02427809058263623\n",
      "Epoch:\t 10 Val Loss:\t 0.024314532458256412\n",
      "Epoch:\t 11 Val Loss:\t 0.024317825000969143\n",
      "Epoch:\t 12 Val Loss:\t 0.02430622019590668\n",
      "Epoch:\t 13 Val Loss:\t 0.024287520644181045\n",
      "Epoch:\t 14 Val Loss:\t 0.02430601170512085\n"
     ]
    },
    {
     "name": "stderr",
     "output_type": "stream",
     "text": [
      "[I 2025-06-02 14:02:22,222] Trial 0 finished with value: 0.024278010297701085 and parameters: {'lr': 0.001, 'weight_decay': 0.0001, 'scheduler_factor': 0.3, 'scheduler_patience': 10, 'batch_size': 64, 'dropout': 0.15, 'hidden_dims': 1024}. Best is trial 0 with value: 0.024278010297701085.\n"
     ]
    },
    {
     "name": "stdout",
     "output_type": "stream",
     "text": [
      "Epoch:\t 15 Val Loss:\t 0.024348789403318118\n",
      "Epoch:\t 0 Val Loss:\t 0.024395956443939992\n",
      "Epoch:\t 1 Val Loss:\t 0.024341118820608857\n",
      "Epoch:\t 2 Val Loss:\t 0.024344020474231794\n",
      "Epoch:\t 3 Val Loss:\t 0.024339866289544203\n",
      "Epoch:\t 4 Val Loss:\t 0.02456071278405094\n",
      "Epoch:\t 5 Val Loss:\t 0.024307264341321404\n",
      "Epoch:\t 6 Val Loss:\t 0.024361478298797996\n",
      "Epoch:\t 7 Val Loss:\t 0.024385559897056083\n",
      "Epoch:\t 8 Val Loss:\t 0.024347127048309915\n",
      "Epoch:\t 9 Val Loss:\t 0.024329479149204934\n",
      "Epoch:\t 10 Val Loss:\t 0.02435227436702213\n",
      "Epoch:\t 11 Val Loss:\t 0.02434735507153736\n",
      "Epoch:\t 12 Val Loss:\t 0.024347637733351253\n",
      "Epoch:\t 13 Val Loss:\t 0.02433401538219624\n",
      "Epoch:\t 14 Val Loss:\t 0.024346771357741527\n"
     ]
    },
    {
     "name": "stderr",
     "output_type": "stream",
     "text": [
      "[I 2025-06-02 14:04:42,776] Trial 1 finished with value: 0.024307264341321404 and parameters: {'lr': 0.001, 'weight_decay': 0.0001, 'scheduler_factor': 0.5, 'scheduler_patience': 10, 'batch_size': 32, 'dropout': 0.2, 'hidden_dims': 256}. Best is trial 0 with value: 0.024278010297701085.\n"
     ]
    },
    {
     "name": "stdout",
     "output_type": "stream",
     "text": [
      "Epoch:\t 15 Val Loss:\t 0.024337794132276862\n",
      "Epoch:\t 0 Val Loss:\t 0.024349455032527542\n",
      "Epoch:\t 1 Val Loss:\t 0.02436936509169124\n",
      "Epoch:\t 2 Val Loss:\t 0.024385787223736317\n",
      "Epoch:\t 3 Val Loss:\t 0.024502485222145796\n",
      "Epoch:\t 4 Val Loss:\t 0.024913894730122284\n",
      "Epoch:\t 5 Val Loss:\t 0.025353163779738626\n",
      "Epoch:\t 6 Val Loss:\t 0.025978865786597586\n",
      "Epoch:\t 7 Val Loss:\t 0.025761501313475696\n",
      "Epoch:\t 8 Val Loss:\t 0.02569592839486622\n",
      "Epoch:\t 9 Val Loss:\t 0.025852671682380177\n"
     ]
    },
    {
     "name": "stderr",
     "output_type": "stream",
     "text": [
      "[I 2025-06-02 14:05:18,411] Trial 2 finished with value: 0.024349455032527542 and parameters: {'lr': 0.0001, 'weight_decay': 0.001, 'scheduler_factor': 0.5, 'scheduler_patience': 5, 'batch_size': 128, 'dropout': 0.15, 'hidden_dims': 512}. Best is trial 0 with value: 0.024278010297701085.\n"
     ]
    },
    {
     "name": "stdout",
     "output_type": "stream",
     "text": [
      "Epoch:\t 10 Val Loss:\t 0.025797645960535322\n",
      "Epoch:\t 0 Val Loss:\t 0.025040986303874916\n",
      "Epoch:\t 1 Val Loss:\t 0.024518704089752347\n",
      "Epoch:\t 2 Val Loss:\t 0.024298242481958443\n",
      "Epoch:\t 3 Val Loss:\t 0.024202676981064666\n",
      "Epoch:\t 4 Val Loss:\t 0.024184881652618527\n",
      "Epoch:\t 5 Val Loss:\t 0.024149805702676344\n",
      "Epoch:\t 6 Val Loss:\t 0.024178084213634012\n",
      "Epoch:\t 7 Val Loss:\t 0.024144866123460115\n",
      "Epoch:\t 8 Val Loss:\t 0.024152051980855765\n",
      "Epoch:\t 9 Val Loss:\t 0.024168194005104122\n",
      "Epoch:\t 10 Val Loss:\t 0.024151482682231922\n",
      "Epoch:\t 11 Val Loss:\t 0.02415060654426311\n",
      "Epoch:\t 12 Val Loss:\t 0.024163978803196137\n",
      "Epoch:\t 13 Val Loss:\t 0.024143339461164842\n",
      "Epoch:\t 14 Val Loss:\t 0.024142976203436254\n",
      "Epoch:\t 15 Val Loss:\t 0.024136705437848807\n",
      "Epoch:\t 16 Val Loss:\t 0.024121148314123368\n",
      "Epoch:\t 17 Val Loss:\t 0.024134918879657696\n",
      "Epoch:\t 18 Val Loss:\t 0.02413789052935467\n",
      "Epoch:\t 19 Val Loss:\t 0.024148093991676327\n",
      "Epoch:\t 20 Val Loss:\t 0.02413582377183667\n",
      "Epoch:\t 21 Val Loss:\t 0.024128943514018963\n",
      "Epoch:\t 22 Val Loss:\t 0.024122867032502243\n",
      "Epoch:\t 23 Val Loss:\t 0.024121258797130018\n",
      "Epoch:\t 24 Val Loss:\t 0.024118173753669023\n",
      "Epoch:\t 25 Val Loss:\t 0.024116956164695058\n",
      "Epoch:\t 26 Val Loss:\t 0.024119510456105137\n",
      "Epoch:\t 27 Val Loss:\t 0.02411321441005089\n",
      "Epoch:\t 28 Val Loss:\t 0.02411047561495442\n",
      "Epoch:\t 29 Val Loss:\t 0.024106858717427376\n",
      "Epoch:\t 30 Val Loss:\t 0.02411162021339323\n",
      "Epoch:\t 31 Val Loss:\t 0.024130321278497336\n",
      "Epoch:\t 32 Val Loss:\t 0.024116480213940337\n",
      "Epoch:\t 33 Val Loss:\t 0.024118706805577615\n",
      "Epoch:\t 34 Val Loss:\t 0.024114187842779987\n",
      "Epoch:\t 35 Val Loss:\t 0.024110806369225694\n",
      "Epoch:\t 36 Val Loss:\t 0.02411499293670777\n",
      "Epoch:\t 37 Val Loss:\t 0.02411149548204957\n",
      "Epoch:\t 38 Val Loss:\t 0.024107970602786424\n",
      "Epoch:\t 39 Val Loss:\t 0.024104037906052214\n",
      "Epoch:\t 40 Val Loss:\t 0.024119547319709295\n",
      "Epoch:\t 41 Val Loss:\t 0.024114477642814828\n",
      "Epoch:\t 42 Val Loss:\t 0.024108528539873778\n",
      "Epoch:\t 43 Val Loss:\t 0.024112579673289104\n",
      "Epoch:\t 44 Val Loss:\t 0.024112130374530888\n",
      "Epoch:\t 45 Val Loss:\t 0.024110570555954117\n",
      "Epoch:\t 46 Val Loss:\t 0.024108086338332613\n",
      "Epoch:\t 47 Val Loss:\t 0.024111163901266944\n",
      "Epoch:\t 48 Val Loss:\t 0.02410749180715567\n"
     ]
    },
    {
     "name": "stderr",
     "output_type": "stream",
     "text": [
      "[I 2025-06-02 14:07:21,952] Trial 3 finished with value: 0.024104037906052214 and parameters: {'lr': 0.001, 'weight_decay': 1e-05, 'scheduler_factor': 0.5, 'scheduler_patience': 5, 'batch_size': 256, 'dropout': 0.05, 'hidden_dims': 64}. Best is trial 3 with value: 0.024104037906052214.\n"
     ]
    },
    {
     "name": "stdout",
     "output_type": "stream",
     "text": [
      "Epoch:\t 49 Val Loss:\t 0.02410802978818631\n",
      "Epoch:\t 0 Val Loss:\t 0.03447476230746952\n",
      "Epoch:\t 1 Val Loss:\t 0.033139414154739984\n",
      "Epoch:\t 2 Val Loss:\t 0.0315866795381189\n",
      "Epoch:\t 3 Val Loss:\t 0.030795697264713866\n",
      "Epoch:\t 4 Val Loss:\t 0.030211453310362606\n",
      "Epoch:\t 5 Val Loss:\t 0.029652786420982364\n",
      "Epoch:\t 6 Val Loss:\t 0.02928378049257333\n",
      "Epoch:\t 7 Val Loss:\t 0.02891942088095637\n",
      "Epoch:\t 8 Val Loss:\t 0.02878580403117629\n",
      "Epoch:\t 9 Val Loss:\t 0.028360652149548124\n",
      "Epoch:\t 10 Val Loss:\t 0.028248114323164333\n",
      "Epoch:\t 11 Val Loss:\t 0.027930766896739807\n",
      "Epoch:\t 12 Val Loss:\t 0.027660004912600004\n",
      "Epoch:\t 13 Val Loss:\t 0.027327613344934335\n",
      "Epoch:\t 14 Val Loss:\t 0.02720913958960566\n",
      "Epoch:\t 15 Val Loss:\t 0.02725125520184648\n",
      "Epoch:\t 16 Val Loss:\t 0.02691644503949352\n",
      "Epoch:\t 17 Val Loss:\t 0.02668891530020914\n",
      "Epoch:\t 18 Val Loss:\t 0.026611904672674876\n",
      "Epoch:\t 19 Val Loss:\t 0.026407105055037936\n",
      "Epoch:\t 20 Val Loss:\t 0.026348337490759856\n",
      "Epoch:\t 21 Val Loss:\t 0.026256686581392814\n",
      "Epoch:\t 22 Val Loss:\t 0.026087808886538433\n",
      "Epoch:\t 23 Val Loss:\t 0.026052964441986112\n",
      "Epoch:\t 24 Val Loss:\t 0.025985853722634178\n",
      "Epoch:\t 25 Val Loss:\t 0.025894567476467505\n",
      "Epoch:\t 26 Val Loss:\t 0.025758793175746274\n",
      "Epoch:\t 27 Val Loss:\t 0.025673742816091156\n",
      "Epoch:\t 28 Val Loss:\t 0.02570470115998887\n",
      "Epoch:\t 29 Val Loss:\t 0.02560805166087919\n",
      "Epoch:\t 30 Val Loss:\t 0.02552585750101276\n",
      "Epoch:\t 31 Val Loss:\t 0.025514633895914463\n",
      "Epoch:\t 32 Val Loss:\t 0.025428352342752713\n",
      "Epoch:\t 33 Val Loss:\t 0.02543884253468433\n",
      "Epoch:\t 34 Val Loss:\t 0.02538665191964235\n",
      "Epoch:\t 35 Val Loss:\t 0.02533062651556257\n",
      "Epoch:\t 36 Val Loss:\t 0.02529677556590166\n",
      "Epoch:\t 37 Val Loss:\t 0.02527487511599456\n",
      "Epoch:\t 38 Val Loss:\t 0.025202986722290755\n",
      "Epoch:\t 39 Val Loss:\t 0.02522211810446971\n",
      "Epoch:\t 40 Val Loss:\t 0.025112544357442052\n",
      "Epoch:\t 41 Val Loss:\t 0.025089755552763354\n",
      "Epoch:\t 42 Val Loss:\t 0.025072806767981914\n",
      "Epoch:\t 43 Val Loss:\t 0.025013527218267356\n",
      "Epoch:\t 44 Val Loss:\t 0.024975394882387224\n",
      "Epoch:\t 45 Val Loss:\t 0.024975196695150904\n",
      "Epoch:\t 46 Val Loss:\t 0.02495852383428702\n",
      "Epoch:\t 47 Val Loss:\t 0.024913938941602813\n",
      "Epoch:\t 48 Val Loss:\t 0.024928410267927883\n",
      "Epoch:\t 49 Val Loss:\t 0.024884688198184048\n",
      "Epoch:\t 50 Val Loss:\t 0.024860338959917606\n",
      "Epoch:\t 51 Val Loss:\t 0.024826816207734508\n",
      "Epoch:\t 52 Val Loss:\t 0.024816108854082745\n",
      "Epoch:\t 53 Val Loss:\t 0.024816618201643253\n",
      "Epoch:\t 54 Val Loss:\t 0.02479259262000358\n",
      "Epoch:\t 55 Val Loss:\t 0.024777091406255888\n",
      "Epoch:\t 56 Val Loss:\t 0.024747938579418895\n",
      "Epoch:\t 57 Val Loss:\t 0.024740461543883527\n",
      "Epoch:\t 58 Val Loss:\t 0.024721836236566187\n",
      "Epoch:\t 59 Val Loss:\t 0.024715206582090237\n",
      "Epoch:\t 60 Val Loss:\t 0.024720479557238394\n",
      "Epoch:\t 61 Val Loss:\t 0.02469756637954578\n",
      "Epoch:\t 62 Val Loss:\t 0.024674983133517844\n",
      "Epoch:\t 63 Val Loss:\t 0.024659223502028343\n",
      "Epoch:\t 64 Val Loss:\t 0.02467890619580375\n",
      "Epoch:\t 65 Val Loss:\t 0.024647340865592147\n",
      "Epoch:\t 66 Val Loss:\t 0.024641692859464964\n",
      "Epoch:\t 67 Val Loss:\t 0.024638047540424438\n",
      "Epoch:\t 68 Val Loss:\t 0.02463706884661625\n",
      "Epoch:\t 69 Val Loss:\t 0.02462166205568369\n",
      "Epoch:\t 70 Val Loss:\t 0.024605619166204712\n",
      "Epoch:\t 71 Val Loss:\t 0.02461842438108986\n",
      "Epoch:\t 72 Val Loss:\t 0.024587328830299227\n",
      "Epoch:\t 73 Val Loss:\t 0.024582275400818015\n",
      "Epoch:\t 74 Val Loss:\t 0.024580723443983456\n",
      "Epoch:\t 75 Val Loss:\t 0.024559756512391444\n",
      "Epoch:\t 76 Val Loss:\t 0.02456932318782988\n",
      "Epoch:\t 77 Val Loss:\t 0.02454901316652034\n",
      "Epoch:\t 78 Val Loss:\t 0.02455244825162597\n",
      "Epoch:\t 79 Val Loss:\t 0.024531487356079705\n",
      "Epoch:\t 80 Val Loss:\t 0.024535773998632753\n",
      "Epoch:\t 81 Val Loss:\t 0.024536015577883173\n",
      "Epoch:\t 82 Val Loss:\t 0.02452703595830616\n",
      "Epoch:\t 83 Val Loss:\t 0.024522737778406575\n",
      "Epoch:\t 84 Val Loss:\t 0.024508417339781905\n",
      "Epoch:\t 85 Val Loss:\t 0.024513360284681117\n",
      "Epoch:\t 86 Val Loss:\t 0.024496117578378752\n",
      "Epoch:\t 87 Val Loss:\t 0.024510568781563925\n",
      "Epoch:\t 88 Val Loss:\t 0.024485562005660585\n",
      "Epoch:\t 89 Val Loss:\t 0.024488314771136\n",
      "Epoch:\t 90 Val Loss:\t 0.02446921636240666\n",
      "Epoch:\t 91 Val Loss:\t 0.02448547563688126\n",
      "Epoch:\t 92 Val Loss:\t 0.02446707069228531\n",
      "Epoch:\t 93 Val Loss:\t 0.02445639228357156\n",
      "Epoch:\t 94 Val Loss:\t 0.02446176799846202\n",
      "Epoch:\t 95 Val Loss:\t 0.024445412931448474\n",
      "Epoch:\t 96 Val Loss:\t 0.024443991274633405\n",
      "Epoch:\t 97 Val Loss:\t 0.02443528515469722\n",
      "Epoch:\t 98 Val Loss:\t 0.024450394479556378\n"
     ]
    },
    {
     "name": "stderr",
     "output_type": "stream",
     "text": [
      "[I 2025-06-02 14:15:50,463] Trial 4 finished with value: 0.02443528515469722 and parameters: {'lr': 1e-05, 'weight_decay': 1e-05, 'scheduler_factor': 0.5, 'scheduler_patience': 20, 'batch_size': 64, 'dropout': 0.2, 'hidden_dims': 128}. Best is trial 3 with value: 0.024104037906052214.\n"
     ]
    },
    {
     "name": "stdout",
     "output_type": "stream",
     "text": [
      "Epoch:\t 99 Val Loss:\t 0.024440238467375086\n"
     ]
    },
    {
     "name": "stderr",
     "output_type": "stream",
     "text": [
      "[I 2025-06-02 14:16:14,239] Trial 5 pruned. \n"
     ]
    },
    {
     "name": "stdout",
     "output_type": "stream",
     "text": [
      "Epoch:\t 0 Val Loss:\t 0.025730262892262906\n"
     ]
    },
    {
     "name": "stderr",
     "output_type": "stream",
     "text": [
      "[I 2025-06-02 14:16:16,815] Trial 6 pruned. \n"
     ]
    },
    {
     "name": "stdout",
     "output_type": "stream",
     "text": [
      "Epoch:\t 0 Val Loss:\t 0.025985445336130272\n"
     ]
    },
    {
     "name": "stderr",
     "output_type": "stream",
     "text": [
      "[I 2025-06-02 14:16:39,585] Trial 7 pruned. \n"
     ]
    },
    {
     "name": "stdout",
     "output_type": "stream",
     "text": [
      "Epoch:\t 0 Val Loss:\t 0.03011211666794118\n"
     ]
    },
    {
     "name": "stderr",
     "output_type": "stream",
     "text": [
      "[I 2025-06-02 14:17:03,188] Trial 8 pruned. \n"
     ]
    },
    {
     "name": "stdout",
     "output_type": "stream",
     "text": [
      "Epoch:\t 0 Val Loss:\t 0.02565659239363471\n"
     ]
    },
    {
     "name": "stderr",
     "output_type": "stream",
     "text": [
      "[I 2025-06-02 14:17:05,641] Trial 9 pruned. \n"
     ]
    },
    {
     "name": "stdout",
     "output_type": "stream",
     "text": [
      "Epoch:\t 0 Val Loss:\t 0.026560059703670896\n"
     ]
    },
    {
     "name": "stderr",
     "output_type": "stream",
     "text": [
      "[I 2025-06-02 14:17:08,279] Trial 10 pruned. \n"
     ]
    },
    {
     "name": "stdout",
     "output_type": "stream",
     "text": [
      "Epoch:\t 0 Val Loss:\t 0.10744884356233468\n"
     ]
    },
    {
     "name": "stderr",
     "output_type": "stream",
     "text": [
      "[I 2025-06-02 14:17:13,966] Trial 11 pruned. \n"
     ]
    },
    {
     "name": "stdout",
     "output_type": "stream",
     "text": [
      "Epoch:\t 0 Val Loss:\t 0.024401425862716215\n",
      "Epoch:\t 0 Val Loss:\t 0.02433167987689077\n",
      "Epoch:\t 1 Val Loss:\t 0.024274537711738105\n",
      "Epoch:\t 2 Val Loss:\t 0.024244025488531197\n",
      "Epoch:\t 3 Val Loss:\t 0.02429640109844225\n",
      "Epoch:\t 4 Val Loss:\t 0.024247895106195256\n",
      "Epoch:\t 5 Val Loss:\t 0.024298600647852435\n",
      "Epoch:\t 6 Val Loss:\t 0.024226025702863477\n",
      "Epoch:\t 7 Val Loss:\t 0.024260258712860326\n",
      "Epoch:\t 8 Val Loss:\t 0.02424233637857695\n",
      "Epoch:\t 9 Val Loss:\t 0.024275480998857745\n",
      "Epoch:\t 10 Val Loss:\t 0.024239854090985242\n",
      "Epoch:\t 11 Val Loss:\t 0.02422394607523822\n",
      "Epoch:\t 12 Val Loss:\t 0.02431757740957219\n",
      "Epoch:\t 13 Val Loss:\t 0.02417511913892548\n",
      "Epoch:\t 14 Val Loss:\t 0.024171550167424255\n",
      "Epoch:\t 15 Val Loss:\t 0.02415932908373397\n",
      "Epoch:\t 16 Val Loss:\t 0.02417991141420464\n",
      "Epoch:\t 17 Val Loss:\t 0.024204340302583307\n",
      "Epoch:\t 18 Val Loss:\t 0.024187435304153033\n",
      "Epoch:\t 19 Val Loss:\t 0.024187166797954653\n",
      "Epoch:\t 20 Val Loss:\t 0.02416842694916339\n",
      "Epoch:\t 21 Val Loss:\t 0.024172153789923493\n",
      "Epoch:\t 22 Val Loss:\t 0.024176939728923003\n",
      "Epoch:\t 23 Val Loss:\t 0.02417297096386755\n",
      "Epoch:\t 24 Val Loss:\t 0.02415174197737178\n",
      "Epoch:\t 25 Val Loss:\t 0.024185686434209108\n",
      "Epoch:\t 26 Val Loss:\t 0.024149731260148542\n",
      "Epoch:\t 27 Val Loss:\t 0.02415652004755442\n",
      "Epoch:\t 28 Val Loss:\t 0.0241555708259607\n",
      "Epoch:\t 29 Val Loss:\t 0.024168962748674937\n",
      "Epoch:\t 30 Val Loss:\t 0.024176045592034828\n",
      "Epoch:\t 31 Val Loss:\t 0.024159368290397866\n",
      "Epoch:\t 32 Val Loss:\t 0.024142827538425386\n",
      "Epoch:\t 33 Val Loss:\t 0.02415505959633693\n",
      "Epoch:\t 34 Val Loss:\t 0.024157746231187893\n",
      "Epoch:\t 35 Val Loss:\t 0.024153084584542437\n",
      "Epoch:\t 36 Val Loss:\t 0.02416361428337185\n",
      "Epoch:\t 37 Val Loss:\t 0.024152627598670547\n",
      "Epoch:\t 38 Val Loss:\t 0.024156562653881795\n",
      "Epoch:\t 39 Val Loss:\t 0.02414502515050537\n",
      "Epoch:\t 40 Val Loss:\t 0.024142686975186314\n",
      "Epoch:\t 41 Val Loss:\t 0.024150925913247568\n",
      "Epoch:\t 42 Val Loss:\t 0.02414916188970698\n",
      "Epoch:\t 43 Val Loss:\t 0.024157299181415064\n",
      "Epoch:\t 44 Val Loss:\t 0.02414608910327304\n",
      "Epoch:\t 45 Val Loss:\t 0.024148913113805133\n",
      "Epoch:\t 46 Val Loss:\t 0.024141497515685673\n",
      "Epoch:\t 47 Val Loss:\t 0.024150295038173557\n",
      "Epoch:\t 48 Val Loss:\t 0.024146791259252558\n",
      "Epoch:\t 49 Val Loss:\t 0.024152081966125307\n",
      "Epoch:\t 50 Val Loss:\t 0.024149127689928843\n",
      "Epoch:\t 51 Val Loss:\t 0.024150059719024033\n",
      "Epoch:\t 52 Val Loss:\t 0.024146755794309673\n",
      "Epoch:\t 53 Val Loss:\t 0.02415660361863177\n",
      "Epoch:\t 54 Val Loss:\t 0.024145255906398332\n",
      "Epoch:\t 55 Val Loss:\t 0.02415069361286777\n"
     ]
    },
    {
     "name": "stderr",
     "output_type": "stream",
     "text": [
      "[I 2025-06-02 14:22:18,973] Trial 12 finished with value: 0.024141497515685673 and parameters: {'lr': 0.001, 'weight_decay': 0.0001, 'scheduler_factor': 0.3, 'scheduler_patience': 5, 'batch_size': 64, 'dropout': 0.05, 'hidden_dims': 1024}. Best is trial 3 with value: 0.024104037906052214.\n"
     ]
    },
    {
     "name": "stdout",
     "output_type": "stream",
     "text": [
      "Epoch:\t 56 Val Loss:\t 0.02414373033877937\n"
     ]
    },
    {
     "name": "stderr",
     "output_type": "stream",
     "text": [
      "[I 2025-06-02 14:22:22,325] Trial 13 pruned. \n"
     ]
    },
    {
     "name": "stdout",
     "output_type": "stream",
     "text": [
      "Epoch:\t 0 Val Loss:\t 0.09369005530737759\n",
      "Epoch:\t 0 Val Loss:\t 0.02431381825947451\n",
      "Epoch:\t 1 Val Loss:\t 0.024213035344211514\n",
      "Epoch:\t 2 Val Loss:\t 0.02422651696524663\n",
      "Epoch:\t 3 Val Loss:\t 0.02421398992857379\n",
      "Epoch:\t 4 Val Loss:\t 0.024189862658181984\n",
      "Epoch:\t 5 Val Loss:\t 0.02419206781503194\n",
      "Epoch:\t 6 Val Loss:\t 0.02420535678144746\n",
      "Epoch:\t 7 Val Loss:\t 0.02418133981063036\n",
      "Epoch:\t 8 Val Loss:\t 0.024181783450898043\n",
      "Epoch:\t 9 Val Loss:\t 0.024207881007918375\n",
      "Epoch:\t 10 Val Loss:\t 0.02420774763058087\n",
      "Epoch:\t 11 Val Loss:\t 0.02418516653558176\n",
      "Epoch:\t 12 Val Loss:\t 0.02419571275589521\n",
      "Epoch:\t 13 Val Loss:\t 0.024189701755503137\n",
      "Epoch:\t 14 Val Loss:\t 0.024136256954384473\n",
      "Epoch:\t 15 Val Loss:\t 0.024137671779326065\n",
      "Epoch:\t 16 Val Loss:\t 0.024126623684394815\n",
      "Epoch:\t 17 Val Loss:\t 0.024140997175015284\n",
      "Epoch:\t 18 Val Loss:\t 0.02414981375984056\n",
      "Epoch:\t 19 Val Loss:\t 0.024143597684083935\n",
      "Epoch:\t 20 Val Loss:\t 0.02414374508687812\n",
      "Epoch:\t 21 Val Loss:\t 0.024154381383068576\n",
      "Epoch:\t 22 Val Loss:\t 0.024137431468239767\n",
      "Epoch:\t 23 Val Loss:\t 0.024137372911752823\n",
      "Epoch:\t 24 Val Loss:\t 0.02414490895379402\n",
      "Epoch:\t 25 Val Loss:\t 0.02413342467029551\n"
     ]
    },
    {
     "name": "stderr",
     "output_type": "stream",
     "text": [
      "[I 2025-06-02 14:26:09,087] Trial 14 finished with value: 0.024126623684394815 and parameters: {'lr': 0.001, 'weight_decay': 1e-05, 'scheduler_factor': 0.1, 'scheduler_patience': 5, 'batch_size': 32, 'dropout': 0.05, 'hidden_dims': 512}. Best is trial 3 with value: 0.024104037906052214.\n"
     ]
    },
    {
     "name": "stdout",
     "output_type": "stream",
     "text": [
      "Epoch:\t 26 Val Loss:\t 0.024138430522415107\n",
      "Epoch:\t 0 Val Loss:\t 0.02433019078192945\n",
      "Epoch:\t 1 Val Loss:\t 0.02422713513760445\n",
      "Epoch:\t 2 Val Loss:\t 0.024209332294791996\n",
      "Epoch:\t 3 Val Loss:\t 0.024210229148726187\n",
      "Epoch:\t 4 Val Loss:\t 0.024205007621708637\n",
      "Epoch:\t 5 Val Loss:\t 0.024196109917753922\n",
      "Epoch:\t 6 Val Loss:\t 0.02418765338148944\n",
      "Epoch:\t 7 Val Loss:\t 0.024203117730801475\n",
      "Epoch:\t 8 Val Loss:\t 0.024186619019923444\n",
      "Epoch:\t 9 Val Loss:\t 0.024201438718201043\n",
      "Epoch:\t 10 Val Loss:\t 0.02421124296819041\n",
      "Epoch:\t 11 Val Loss:\t 0.024198739641235922\n",
      "Epoch:\t 12 Val Loss:\t 0.02418550402150006\n",
      "Epoch:\t 13 Val Loss:\t 0.02412998389251127\n",
      "Epoch:\t 14 Val Loss:\t 0.024144125235209125\n",
      "Epoch:\t 15 Val Loss:\t 0.024128761755037524\n",
      "Epoch:\t 16 Val Loss:\t 0.024134886084882196\n",
      "Epoch:\t 17 Val Loss:\t 0.0241551221895194\n",
      "Epoch:\t 18 Val Loss:\t 0.024136436401394182\n",
      "Epoch:\t 19 Val Loss:\t 0.024144939273849638\n",
      "Epoch:\t 20 Val Loss:\t 0.024132858011460975\n",
      "Epoch:\t 21 Val Loss:\t 0.024149121886085652\n",
      "Epoch:\t 22 Val Loss:\t 0.02413654023060997\n",
      "Epoch:\t 23 Val Loss:\t 0.024138872011495616\n",
      "Epoch:\t 24 Val Loss:\t 0.024142469572862667\n"
     ]
    },
    {
     "name": "stderr",
     "output_type": "stream",
     "text": [
      "[I 2025-06-02 14:29:50,630] Trial 15 finished with value: 0.024128761755037524 and parameters: {'lr': 0.001, 'weight_decay': 1e-05, 'scheduler_factor': 0.1, 'scheduler_patience': 5, 'batch_size': 32, 'dropout': 0.05, 'hidden_dims': 512}. Best is trial 3 with value: 0.024104037906052214.\n"
     ]
    },
    {
     "name": "stdout",
     "output_type": "stream",
     "text": [
      "Epoch:\t 25 Val Loss:\t 0.024142926782817545\n",
      "Epoch:\t 0 Val Loss:\t 0.024337112675150315\n",
      "Epoch:\t 1 Val Loss:\t 0.024205277244259932\n",
      "Epoch:\t 2 Val Loss:\t 0.024203017836656862\n",
      "Epoch:\t 3 Val Loss:\t 0.024196458347738984\n",
      "Epoch:\t 4 Val Loss:\t 0.024197459778186672\n",
      "Epoch:\t 5 Val Loss:\t 0.02420410350980405\n",
      "Epoch:\t 6 Val Loss:\t 0.024202179967356706\n",
      "Epoch:\t 7 Val Loss:\t 0.024193464457346704\n",
      "Epoch:\t 8 Val Loss:\t 0.024187081183618557\n",
      "Epoch:\t 9 Val Loss:\t 0.024220364022335572\n",
      "Epoch:\t 10 Val Loss:\t 0.024191337089261456\n",
      "Epoch:\t 11 Val Loss:\t 0.02419324681565972\n",
      "Epoch:\t 12 Val Loss:\t 0.024180035824273416\n",
      "Epoch:\t 13 Val Loss:\t 0.024221653732394648\n"
     ]
    },
    {
     "name": "stderr",
     "output_type": "stream",
     "text": [
      "[I 2025-06-02 14:32:00,053] Trial 16 pruned. \n"
     ]
    },
    {
     "name": "stdout",
     "output_type": "stream",
     "text": [
      "Epoch:\t 14 Val Loss:\t 0.024212862867750002\n"
     ]
    },
    {
     "name": "stderr",
     "output_type": "stream",
     "text": [
      "[I 2025-06-02 14:32:09,234] Trial 17 pruned. \n"
     ]
    },
    {
     "name": "stdout",
     "output_type": "stream",
     "text": [
      "Epoch:\t 0 Val Loss:\t 0.03215296019264357\n"
     ]
    },
    {
     "name": "stderr",
     "output_type": "stream",
     "text": [
      "[I 2025-06-02 14:32:11,947] Trial 18 pruned. \n"
     ]
    },
    {
     "name": "stdout",
     "output_type": "stream",
     "text": [
      "Epoch:\t 0 Val Loss:\t 0.10345971797536041\n",
      "Epoch:\t 0 Val Loss:\t 0.024302779181388193\n",
      "Epoch:\t 1 Val Loss:\t 0.024227848384372575\n",
      "Epoch:\t 2 Val Loss:\t 0.024209324761717495\n",
      "Epoch:\t 3 Val Loss:\t 0.024214920428449024\n",
      "Epoch:\t 4 Val Loss:\t 0.024217793748588984\n",
      "Epoch:\t 5 Val Loss:\t 0.024197454135379715\n",
      "Epoch:\t 6 Val Loss:\t 0.02418903380012763\n",
      "Epoch:\t 7 Val Loss:\t 0.024177015997573943\n",
      "Epoch:\t 8 Val Loss:\t 0.024185899726090903\n",
      "Epoch:\t 9 Val Loss:\t 0.024177659765065074\n",
      "Epoch:\t 10 Val Loss:\t 0.02417759098941255\n",
      "Epoch:\t 11 Val Loss:\t 0.024167264855741142\n",
      "Epoch:\t 12 Val Loss:\t 0.02418404267298315\n",
      "Epoch:\t 13 Val Loss:\t 0.024181129006232194\n",
      "Epoch:\t 14 Val Loss:\t 0.024159104169490103\n",
      "Epoch:\t 15 Val Loss:\t 0.024179211959899787\n"
     ]
    },
    {
     "name": "stderr",
     "output_type": "stream",
     "text": [
      "[I 2025-06-02 14:34:37,473] Trial 19 pruned. \n"
     ]
    },
    {
     "name": "stdout",
     "output_type": "stream",
     "text": [
      "Epoch:\t 16 Val Loss:\t 0.02417808177028008\n"
     ]
    },
    {
     "name": "stderr",
     "output_type": "stream",
     "text": [
      "[I 2025-06-02 14:34:40,030] Trial 20 pruned. \n"
     ]
    },
    {
     "name": "stdout",
     "output_type": "stream",
     "text": [
      "Epoch:\t 0 Val Loss:\t 0.024966100452413896\n",
      "Epoch:\t 0 Val Loss:\t 0.024304964764413232\n",
      "Epoch:\t 1 Val Loss:\t 0.02422904249743553\n",
      "Epoch:\t 2 Val Loss:\t 0.024204086520165983\n",
      "Epoch:\t 3 Val Loss:\t 0.024221314574201742\n",
      "Epoch:\t 4 Val Loss:\t 0.024177294821741586\n",
      "Epoch:\t 5 Val Loss:\t 0.024177521361198596\n",
      "Epoch:\t 6 Val Loss:\t 0.024212480234523454\n",
      "Epoch:\t 7 Val Loss:\t 0.02419587838946877\n",
      "Epoch:\t 8 Val Loss:\t 0.024209393154016\n",
      "Epoch:\t 9 Val Loss:\t 0.02418330039321361\n",
      "Epoch:\t 10 Val Loss:\t 0.024174695326489415\n",
      "Epoch:\t 11 Val Loss:\t 0.024191370789327458\n",
      "Epoch:\t 12 Val Loss:\t 0.02420110314308044\n",
      "Epoch:\t 13 Val Loss:\t 0.024197147690685455\n"
     ]
    },
    {
     "name": "stderr",
     "output_type": "stream",
     "text": [
      "[I 2025-06-02 14:36:48,475] Trial 21 pruned. \n"
     ]
    },
    {
     "name": "stdout",
     "output_type": "stream",
     "text": [
      "Epoch:\t 14 Val Loss:\t 0.02419776285444209\n"
     ]
    },
    {
     "name": "stderr",
     "output_type": "stream",
     "text": [
      "[I 2025-06-02 14:36:56,618] Trial 22 pruned. \n"
     ]
    },
    {
     "name": "stdout",
     "output_type": "stream",
     "text": [
      "Epoch:\t 0 Val Loss:\t 0.024382648573355946\n",
      "Epoch:\t 0 Val Loss:\t 0.02431155606835543\n",
      "Epoch:\t 1 Val Loss:\t 0.024211107200769362\n",
      "Epoch:\t 2 Val Loss:\t 0.02420640999156392\n",
      "Epoch:\t 3 Val Loss:\t 0.024188174804176142\n",
      "Epoch:\t 4 Val Loss:\t 0.024212480135605428\n",
      "Epoch:\t 5 Val Loss:\t 0.024200065003219015\n",
      "Epoch:\t 6 Val Loss:\t 0.024186432305611447\n",
      "Epoch:\t 7 Val Loss:\t 0.024170878967774177\n",
      "Epoch:\t 8 Val Loss:\t 0.024220758407770514\n",
      "Epoch:\t 9 Val Loss:\t 0.024208933415492337\n",
      "Epoch:\t 10 Val Loss:\t 0.024198228726256824\n",
      "Epoch:\t 11 Val Loss:\t 0.02419350590586722\n",
      "Epoch:\t 12 Val Loss:\t 0.024208683899056935\n",
      "Epoch:\t 13 Val Loss:\t 0.024198539452795275\n",
      "Epoch:\t 14 Val Loss:\t 0.024127314339031675\n",
      "Epoch:\t 15 Val Loss:\t 0.024127913540031364\n",
      "Epoch:\t 16 Val Loss:\t 0.02414164335386667\n",
      "Epoch:\t 17 Val Loss:\t 0.024141122185007365\n",
      "Epoch:\t 18 Val Loss:\t 0.024153959929928154\n",
      "Epoch:\t 19 Val Loss:\t 0.02414308761457403\n",
      "Epoch:\t 20 Val Loss:\t 0.024145067176354194\n",
      "Epoch:\t 21 Val Loss:\t 0.024143000935878088\n",
      "Epoch:\t 22 Val Loss:\t 0.024139808598749025\n",
      "Epoch:\t 23 Val Loss:\t 0.02413857245336255\n"
     ]
    },
    {
     "name": "stderr",
     "output_type": "stream",
     "text": [
      "[I 2025-06-02 14:40:33,850] Trial 23 finished with value: 0.024127314339031675 and parameters: {'lr': 0.001, 'weight_decay': 1e-05, 'scheduler_factor': 0.1, 'scheduler_patience': 5, 'batch_size': 32, 'dropout': 0.05, 'hidden_dims': 512}. Best is trial 3 with value: 0.024104037906052214.\n"
     ]
    },
    {
     "name": "stdout",
     "output_type": "stream",
     "text": [
      "Epoch:\t 24 Val Loss:\t 0.02414422959858227\n",
      "Epoch:\t 0 Val Loss:\t 0.024341465596983095\n",
      "Epoch:\t 1 Val Loss:\t 0.024203956654605143\n",
      "Epoch:\t 2 Val Loss:\t 0.024197887373203504\n",
      "Epoch:\t 3 Val Loss:\t 0.024218424292046105\n",
      "Epoch:\t 4 Val Loss:\t 0.02420522859189398\n",
      "Epoch:\t 5 Val Loss:\t 0.024205931603818953\n",
      "Epoch:\t 6 Val Loss:\t 0.024210133346055217\n",
      "Epoch:\t 7 Val Loss:\t 0.024178670861110658\n",
      "Epoch:\t 8 Val Loss:\t 0.024197964127621575\n",
      "Epoch:\t 9 Val Loss:\t 0.024227283170861088\n",
      "Epoch:\t 10 Val Loss:\t 0.024194449207975057\n",
      "Epoch:\t 11 Val Loss:\t 0.0241861076562671\n",
      "Epoch:\t 12 Val Loss:\t 0.024183471674073434\n",
      "Epoch:\t 13 Val Loss:\t 0.024186875752522378\n",
      "Epoch:\t 14 Val Loss:\t 0.02413335489575753\n",
      "Epoch:\t 15 Val Loss:\t 0.02414945608717884\n",
      "Epoch:\t 16 Val Loss:\t 0.02414563552985987\n",
      "Epoch:\t 17 Val Loss:\t 0.024148027120691862\n",
      "Epoch:\t 18 Val Loss:\t 0.024137356660827128\n",
      "Epoch:\t 19 Val Loss:\t 0.024140308210196977\n",
      "Epoch:\t 20 Val Loss:\t 0.024145618411441725\n",
      "Epoch:\t 21 Val Loss:\t 0.024140654699522292\n",
      "Epoch:\t 22 Val Loss:\t 0.024138733155219135\n",
      "Epoch:\t 23 Val Loss:\t 0.02415132434639281\n"
     ]
    },
    {
     "name": "stderr",
     "output_type": "stream",
     "text": [
      "[I 2025-06-02 14:44:11,896] Trial 24 finished with value: 0.02413335489575753 and parameters: {'lr': 0.001, 'weight_decay': 1e-05, 'scheduler_factor': 0.1, 'scheduler_patience': 5, 'batch_size': 32, 'dropout': 0.05, 'hidden_dims': 512}. Best is trial 3 with value: 0.024104037906052214.\n"
     ]
    },
    {
     "name": "stdout",
     "output_type": "stream",
     "text": [
      "Epoch:\t 24 Val Loss:\t 0.02413748140206079\n"
     ]
    },
    {
     "name": "stderr",
     "output_type": "stream",
     "text": [
      "[I 2025-06-02 14:44:15,089] Trial 25 pruned. \n"
     ]
    },
    {
     "name": "stdout",
     "output_type": "stream",
     "text": [
      "Epoch:\t 0 Val Loss:\t 0.02465321674321092\n"
     ]
    },
    {
     "name": "stderr",
     "output_type": "stream",
     "text": [
      "[I 2025-06-02 14:44:17,776] Trial 26 pruned. \n"
     ]
    },
    {
     "name": "stdout",
     "output_type": "stream",
     "text": [
      "Epoch:\t 0 Val Loss:\t 0.08635452348990456\n"
     ]
    },
    {
     "name": "stderr",
     "output_type": "stream",
     "text": [
      "[I 2025-06-02 14:44:26,258] Trial 27 pruned. \n"
     ]
    },
    {
     "name": "stdout",
     "output_type": "stream",
     "text": [
      "Epoch:\t 0 Val Loss:\t 0.035393059070787596\n"
     ]
    },
    {
     "name": "stderr",
     "output_type": "stream",
     "text": [
      "[I 2025-06-02 14:44:35,186] Trial 28 pruned. \n"
     ]
    },
    {
     "name": "stdout",
     "output_type": "stream",
     "text": [
      "Epoch:\t 0 Val Loss:\t 0.024741494606336754\n"
     ]
    },
    {
     "name": "stderr",
     "output_type": "stream",
     "text": [
      "[I 2025-06-02 14:44:38,003] Trial 29 pruned. \n"
     ]
    },
    {
     "name": "stdout",
     "output_type": "stream",
     "text": [
      "Epoch:\t 0 Val Loss:\t 0.027214772334484043\n",
      "Epoch:\t 0 Val Loss:\t 0.024232070608110435\n",
      "Epoch:\t 1 Val Loss:\t 0.02421292358331279\n",
      "Epoch:\t 2 Val Loss:\t 0.024230112059501267\n",
      "Epoch:\t 3 Val Loss:\t 0.024227747810096522\n",
      "Epoch:\t 4 Val Loss:\t 0.024226426197866403\n",
      "Epoch:\t 5 Val Loss:\t 0.024220617381664394\n",
      "Epoch:\t 6 Val Loss:\t 0.024232502424564387\n",
      "Epoch:\t 7 Val Loss:\t 0.02424212949874077\n",
      "Epoch:\t 8 Val Loss:\t 0.0241752350786852\n",
      "Epoch:\t 9 Val Loss:\t 0.02418841850598466\n",
      "Epoch:\t 10 Val Loss:\t 0.024188034096854025\n",
      "Epoch:\t 11 Val Loss:\t 0.024199730475931207\n",
      "Epoch:\t 12 Val Loss:\t 0.024185687669839667\n",
      "Epoch:\t 13 Val Loss:\t 0.02418926058169525\n"
     ]
    },
    {
     "name": "stderr",
     "output_type": "stream",
     "text": [
      "[I 2025-06-02 14:50:27,006] Trial 30 pruned. \n"
     ]
    },
    {
     "name": "stdout",
     "output_type": "stream",
     "text": [
      "Epoch:\t 14 Val Loss:\t 0.024194504248369816\n",
      "Epoch:\t 0 Val Loss:\t 0.024304748161925464\n",
      "Epoch:\t 1 Val Loss:\t 0.02423123156648122\n",
      "Epoch:\t 2 Val Loss:\t 0.024203689099254015\n",
      "Epoch:\t 3 Val Loss:\t 0.02422953359334765\n",
      "Epoch:\t 4 Val Loss:\t 0.024217711766446402\n",
      "Epoch:\t 5 Val Loss:\t 0.024197314915532817\n",
      "Epoch:\t 6 Val Loss:\t 0.024191763502487796\n",
      "Epoch:\t 7 Val Loss:\t 0.024219808958560407\n",
      "Epoch:\t 8 Val Loss:\t 0.024185104396769064\n",
      "Epoch:\t 9 Val Loss:\t 0.0241946550814028\n",
      "Epoch:\t 10 Val Loss:\t 0.024189161699645984\n",
      "Epoch:\t 11 Val Loss:\t 0.024182461985276793\n",
      "Epoch:\t 12 Val Loss:\t 0.024203281054919014\n",
      "Epoch:\t 13 Val Loss:\t 0.02419508754467976\n"
     ]
    },
    {
     "name": "stderr",
     "output_type": "stream",
     "text": [
      "[I 2025-06-02 14:52:32,782] Trial 31 pruned. \n"
     ]
    },
    {
     "name": "stdout",
     "output_type": "stream",
     "text": [
      "Epoch:\t 14 Val Loss:\t 0.02419630197475931\n"
     ]
    },
    {
     "name": "stderr",
     "output_type": "stream",
     "text": [
      "[I 2025-06-02 14:52:41,383] Trial 32 pruned. \n"
     ]
    },
    {
     "name": "stdout",
     "output_type": "stream",
     "text": [
      "Epoch:\t 0 Val Loss:\t 0.02435245775992801\n",
      "Epoch:\t 0 Val Loss:\t 0.02428426614146911\n",
      "Epoch:\t 1 Val Loss:\t 0.024229509144916922\n",
      "Epoch:\t 2 Val Loss:\t 0.02420620967919578\n",
      "Epoch:\t 3 Val Loss:\t 0.02419858843625667\n",
      "Epoch:\t 4 Val Loss:\t 0.024185708274911785\n",
      "Epoch:\t 5 Val Loss:\t 0.02420607434104165\n",
      "Epoch:\t 6 Val Loss:\t 0.02419565633267821\n",
      "Epoch:\t 7 Val Loss:\t 0.024197394129836965\n",
      "Epoch:\t 8 Val Loss:\t 0.024186106516283477\n",
      "Epoch:\t 9 Val Loss:\t 0.02421127207174091\n",
      "Epoch:\t 10 Val Loss:\t 0.024188275157076444\n",
      "Epoch:\t 11 Val Loss:\t 0.024136746386980604\n",
      "Epoch:\t 12 Val Loss:\t 0.024137788813538806\n",
      "Epoch:\t 13 Val Loss:\t 0.024138851896047833\n",
      "Epoch:\t 14 Val Loss:\t 0.02414060814720476\n",
      "Epoch:\t 15 Val Loss:\t 0.024149144928387267\n",
      "Epoch:\t 16 Val Loss:\t 0.024151792454128275\n",
      "Epoch:\t 17 Val Loss:\t 0.024146444815209132\n",
      "Epoch:\t 18 Val Loss:\t 0.024144088020006976\n",
      "Epoch:\t 19 Val Loss:\t 0.024136829123139858\n",
      "Epoch:\t 20 Val Loss:\t 0.02414609470436413\n"
     ]
    },
    {
     "name": "stderr",
     "output_type": "stream",
     "text": [
      "[I 2025-06-02 14:55:41,666] Trial 33 finished with value: 0.024136746386980604 and parameters: {'lr': 0.001, 'weight_decay': 1e-05, 'scheduler_factor': 0.1, 'scheduler_patience': 5, 'batch_size': 32, 'dropout': 0.05, 'hidden_dims': 512}. Best is trial 3 with value: 0.024104037906052214.\n"
     ]
    },
    {
     "name": "stdout",
     "output_type": "stream",
     "text": [
      "Epoch:\t 21 Val Loss:\t 0.024150231169286614\n",
      "Epoch:\t 0 Val Loss:\t 0.0242672843914591\n",
      "Epoch:\t 1 Val Loss:\t 0.024239595409833597\n",
      "Epoch:\t 2 Val Loss:\t 0.024215318381278692\n",
      "Epoch:\t 3 Val Loss:\t 0.02421122615921772\n",
      "Epoch:\t 4 Val Loss:\t 0.02421458603698529\n"
     ]
    },
    {
     "name": "stderr",
     "output_type": "stream",
     "text": [
      "[I 2025-06-02 14:56:32,145] Trial 34 pruned. \n"
     ]
    },
    {
     "name": "stdout",
     "output_type": "stream",
     "text": [
      "Epoch:\t 5 Val Loss:\t 0.024214553564995946\n"
     ]
    },
    {
     "name": "stderr",
     "output_type": "stream",
     "text": [
      "[I 2025-06-02 14:56:35,551] Trial 35 pruned. \n"
     ]
    },
    {
     "name": "stdout",
     "output_type": "stream",
     "text": [
      "Epoch:\t 0 Val Loss:\t 0.0251229934298686\n"
     ]
    },
    {
     "name": "stderr",
     "output_type": "stream",
     "text": [
      "[I 2025-06-02 14:56:40,222] Trial 36 pruned. \n"
     ]
    },
    {
     "name": "stdout",
     "output_type": "stream",
     "text": [
      "Epoch:\t 0 Val Loss:\t 0.02460072002707478\n"
     ]
    },
    {
     "name": "stderr",
     "output_type": "stream",
     "text": [
      "[I 2025-06-02 14:56:47,895] Trial 37 pruned. \n"
     ]
    },
    {
     "name": "stdout",
     "output_type": "stream",
     "text": [
      "Epoch:\t 0 Val Loss:\t 0.029144093186738256\n"
     ]
    },
    {
     "name": "stderr",
     "output_type": "stream",
     "text": [
      "[I 2025-06-02 14:56:56,315] Trial 38 pruned. \n"
     ]
    },
    {
     "name": "stdout",
     "output_type": "stream",
     "text": [
      "Epoch:\t 0 Val Loss:\t 0.02442204606026889\n"
     ]
    },
    {
     "name": "stderr",
     "output_type": "stream",
     "text": [
      "[I 2025-06-02 14:57:15,667] Trial 39 pruned. \n"
     ]
    },
    {
     "name": "stdout",
     "output_type": "stream",
     "text": [
      "Epoch:\t 0 Val Loss:\t 0.02510655520715609\n"
     ]
    },
    {
     "name": "stderr",
     "output_type": "stream",
     "text": [
      "[I 2025-06-02 14:57:18,278] Trial 40 pruned. \n"
     ]
    },
    {
     "name": "stdout",
     "output_type": "stream",
     "text": [
      "Epoch:\t 0 Val Loss:\t 0.02499866518536373\n"
     ]
    },
    {
     "name": "stderr",
     "output_type": "stream",
     "text": [
      "[I 2025-06-02 14:57:26,950] Trial 41 pruned. \n"
     ]
    },
    {
     "name": "stdout",
     "output_type": "stream",
     "text": [
      "Epoch:\t 0 Val Loss:\t 0.024364377102835146\n",
      "Epoch:\t 0 Val Loss:\t 0.024299490574247136\n",
      "Epoch:\t 1 Val Loss:\t 0.024219808848444112\n",
      "Epoch:\t 2 Val Loss:\t 0.02423035650250907\n",
      "Epoch:\t 3 Val Loss:\t 0.024203330141031192\n",
      "Epoch:\t 4 Val Loss:\t 0.024195867171417734\n",
      "Epoch:\t 5 Val Loss:\t 0.02421262575712854\n",
      "Epoch:\t 6 Val Loss:\t 0.02420100038031299\n",
      "Epoch:\t 7 Val Loss:\t 0.024202180442163247\n",
      "Epoch:\t 8 Val Loss:\t 0.024188010517754155\n",
      "Epoch:\t 9 Val Loss:\t 0.02419979889169783\n",
      "Epoch:\t 10 Val Loss:\t 0.024187836885631444\n",
      "Epoch:\t 11 Val Loss:\t 0.02418789756717627\n",
      "Epoch:\t 12 Val Loss:\t 0.024202302025112216\n",
      "Epoch:\t 13 Val Loss:\t 0.024186697026681088\n"
     ]
    },
    {
     "name": "stderr",
     "output_type": "stream",
     "text": [
      "[I 2025-06-02 14:59:16,019] Trial 42 pruned. \n"
     ]
    },
    {
     "name": "stdout",
     "output_type": "stream",
     "text": [
      "Epoch:\t 14 Val Loss:\t 0.024193836876260255\n",
      "Epoch:\t 0 Val Loss:\t 0.02426516783978036\n",
      "Epoch:\t 1 Val Loss:\t 0.02421605150907754\n",
      "Epoch:\t 2 Val Loss:\t 0.024217120812597397\n",
      "Epoch:\t 3 Val Loss:\t 0.024208169857894847\n",
      "Epoch:\t 4 Val Loss:\t 0.02420866099934659\n"
     ]
    },
    {
     "name": "stderr",
     "output_type": "stream",
     "text": [
      "[I 2025-06-02 14:59:55,272] Trial 43 pruned. \n"
     ]
    },
    {
     "name": "stdout",
     "output_type": "stream",
     "text": [
      "Epoch:\t 5 Val Loss:\t 0.02421844383750208\n"
     ]
    },
    {
     "name": "stderr",
     "output_type": "stream",
     "text": [
      "[I 2025-06-02 14:59:59,360] Trial 44 pruned. \n"
     ]
    },
    {
     "name": "stdout",
     "output_type": "stream",
     "text": [
      "Epoch:\t 0 Val Loss:\t 0.02484975327269354\n",
      "Epoch:\t 0 Val Loss:\t 0.024280559266348162\n",
      "Epoch:\t 1 Val Loss:\t 0.024247161271367855\n",
      "Epoch:\t 2 Val Loss:\t 0.02423056084214745\n"
     ]
    },
    {
     "name": "stderr",
     "output_type": "stream",
     "text": [
      "[I 2025-06-02 15:00:25,106] Trial 45 pruned. \n"
     ]
    },
    {
     "name": "stdout",
     "output_type": "stream",
     "text": [
      "Epoch:\t 3 Val Loss:\t 0.024228805389800268\n"
     ]
    },
    {
     "name": "stderr",
     "output_type": "stream",
     "text": [
      "[I 2025-06-02 15:00:27,840] Trial 46 pruned. \n"
     ]
    },
    {
     "name": "stdout",
     "output_type": "stream",
     "text": [
      "Epoch:\t 0 Val Loss:\t 0.04119976632667774\n"
     ]
    },
    {
     "name": "stderr",
     "output_type": "stream",
     "text": [
      "[I 2025-06-02 15:00:30,173] Trial 47 pruned. \n"
     ]
    },
    {
     "name": "stdout",
     "output_type": "stream",
     "text": [
      "Epoch:\t 0 Val Loss:\t 0.03959311124452441\n",
      "Epoch:\t 0 Val Loss:\t 0.024245642993298375\n",
      "Epoch:\t 1 Val Loss:\t 0.024255841968764322\n",
      "Epoch:\t 2 Val Loss:\t 0.024236508550884082\n"
     ]
    },
    {
     "name": "stderr",
     "output_type": "stream",
     "text": [
      "[I 2025-06-02 15:01:27,268] Trial 48 pruned. \n"
     ]
    },
    {
     "name": "stdout",
     "output_type": "stream",
     "text": [
      "Epoch:\t 3 Val Loss:\t 0.02424104749261467\n"
     ]
    },
    {
     "name": "stderr",
     "output_type": "stream",
     "text": [
      "[I 2025-06-02 15:01:33,754] Trial 49 pruned. \n"
     ]
    },
    {
     "name": "stdout",
     "output_type": "stream",
     "text": [
      "Epoch:\t 0 Val Loss:\t 0.0262122006232072\n",
      "Training model with best parameters on train+validation ...\n"
     ]
    },
    {
     "name": "stderr",
     "output_type": "stream",
     "text": [
      "100%|███████████████████████████████████████████████████████████████████████████████████████████████████████████████████████████████████████████████████████████████████| 401917/401917 [04:10<00:00, 1602.91it/s]\n",
      "100%|███████████████████████████████████████████████████████████████████████████████████████████████████████████████████████████████████████████████████████████████████| 401917/401917 [01:13<00:00, 5480.05it/s]\n"
     ]
    },
    {
     "name": "stdout",
     "output_type": "stream",
     "text": [
      "Getting test set predictions and saving results ...\n"
     ]
    },
    {
     "name": "stderr",
     "output_type": "stream",
     "text": [
      "100%|██████████████████████████████████████████████████████████████████████████████████████████████████████████████████████████████████████████████████████████████████████████| 305/305 [00:00<00:00, 363.68it/s]\n"
     ]
    }
   ],
   "source": [
    "train_different_fs(\n",
    "        adata_path=\"./data/feature_selection/sciplex_seurat.h5ad\",\n",
    "        run_name=\"decoder_seurat_fs\",\n",
    "        res_savename=\"./results/feature_selection/decoder_seurat_fs_res.pkl\",\n",
    "    )"
   ]
  },
  {
   "cell_type": "code",
   "execution_count": 7,
   "id": "157fa7c8-fa0d-4f6b-8940-89319ce18e33",
   "metadata": {},
   "outputs": [
    {
     "name": "stdout",
     "output_type": "stream",
     "text": [
      "Loading Datasets ...\n"
     ]
    },
    {
     "name": "stderr",
     "output_type": "stream",
     "text": [
      "100%|███████████████████████████████████████████████████████████████████████████████████████████████████████████████████████████████████████████████████████████████████| 401917/401917 [03:14<00:00, 2064.42it/s]\n",
      "100%|███████████████████████████████████████████████████████████████████████████████████████████████████████████████████████████████████████████████████████████████████| 401917/401917 [01:17<00:00, 5211.99it/s]\n",
      "[I 2025-06-02 15:13:10,819] A new study created in RDB with name: decoder_seuratv3_fs\n"
     ]
    },
    {
     "name": "stdout",
     "output_type": "stream",
     "text": [
      "Optimizing Hyperparameters with Optuna ...\n",
      "Epoch:\t 0 Val Loss:\t 0.03788471364238289\n",
      "Epoch:\t 1 Val Loss:\t 0.03671730780917224\n",
      "Epoch:\t 2 Val Loss:\t 0.0364460785653484\n",
      "Epoch:\t 3 Val Loss:\t 0.03601397934517738\n",
      "Epoch:\t 4 Val Loss:\t 0.036036790254410735\n",
      "Epoch:\t 5 Val Loss:\t 0.03594482089146182\n",
      "Epoch:\t 6 Val Loss:\t 0.035952007305325516\n",
      "Epoch:\t 7 Val Loss:\t 0.035961300176516005\n",
      "Epoch:\t 8 Val Loss:\t 0.0359541376930083\n",
      "Epoch:\t 9 Val Loss:\t 0.035924422995667206\n",
      "Epoch:\t 10 Val Loss:\t 0.035918216919152736\n",
      "Epoch:\t 11 Val Loss:\t 0.035913087230289346\n",
      "Epoch:\t 12 Val Loss:\t 0.03593270564945131\n",
      "Epoch:\t 13 Val Loss:\t 0.035912000276686486\n",
      "Epoch:\t 14 Val Loss:\t 0.035898471929814615\n",
      "Epoch:\t 15 Val Loss:\t 0.035930078853382154\n",
      "Epoch:\t 16 Val Loss:\t 0.0359075739800356\n",
      "Epoch:\t 17 Val Loss:\t 0.03591915494485805\n",
      "Epoch:\t 18 Val Loss:\t 0.03592389008182775\n",
      "Epoch:\t 19 Val Loss:\t 0.03591536825005545\n",
      "Epoch:\t 20 Val Loss:\t 0.03591229607549946\n",
      "Epoch:\t 21 Val Loss:\t 0.03591532947833427\n",
      "Epoch:\t 22 Val Loss:\t 0.035906861068301175\n",
      "Epoch:\t 23 Val Loss:\t 0.035891542937696266\n",
      "Epoch:\t 24 Val Loss:\t 0.03591585881637341\n",
      "Epoch:\t 25 Val Loss:\t 0.03591403873999084\n",
      "Epoch:\t 26 Val Loss:\t 0.035908340630427985\n",
      "Epoch:\t 27 Val Loss:\t 0.03589722744965056\n",
      "Epoch:\t 28 Val Loss:\t 0.03591211098896558\n",
      "Epoch:\t 29 Val Loss:\t 0.03591498926305847\n",
      "Epoch:\t 30 Val Loss:\t 0.03589565060542445\n",
      "Epoch:\t 31 Val Loss:\t 0.0359569661391011\n",
      "Epoch:\t 32 Val Loss:\t 0.03592309359323538\n",
      "Epoch:\t 33 Val Loss:\t 0.035889557363946785\n",
      "Epoch:\t 34 Val Loss:\t 0.03588974579307662\n",
      "Epoch:\t 35 Val Loss:\t 0.035889634919348344\n",
      "Epoch:\t 36 Val Loss:\t 0.03588712045005007\n",
      "Epoch:\t 37 Val Loss:\t 0.03587600729319104\n",
      "Epoch:\t 38 Val Loss:\t 0.03588484250379795\n",
      "Epoch:\t 39 Val Loss:\t 0.03588747298927981\n",
      "Epoch:\t 40 Val Loss:\t 0.035883732576574984\n",
      "Epoch:\t 41 Val Loss:\t 0.03590090380888881\n",
      "Epoch:\t 42 Val Loss:\t 0.035895869978980116\n",
      "Epoch:\t 43 Val Loss:\t 0.035883768585721336\n",
      "Epoch:\t 44 Val Loss:\t 0.0359071662132277\n",
      "Epoch:\t 45 Val Loss:\t 0.03587571852638672\n",
      "Epoch:\t 46 Val Loss:\t 0.03589711363395948\n",
      "Epoch:\t 47 Val Loss:\t 0.03589384062260533\n",
      "Epoch:\t 48 Val Loss:\t 0.035900850177863625\n",
      "Epoch:\t 49 Val Loss:\t 0.03596875182148159\n",
      "Epoch:\t 50 Val Loss:\t 0.03589299867709988\n",
      "Epoch:\t 51 Val Loss:\t 0.0359146867969924\n",
      "Epoch:\t 52 Val Loss:\t 0.0359056048980207\n",
      "Epoch:\t 53 Val Loss:\t 0.035874541848897934\n",
      "Epoch:\t 54 Val Loss:\t 0.035863796054695044\n",
      "Epoch:\t 55 Val Loss:\t 0.03587737885179719\n",
      "Epoch:\t 56 Val Loss:\t 0.03589306924832958\n",
      "Epoch:\t 57 Val Loss:\t 0.03591706311363087\n",
      "Epoch:\t 58 Val Loss:\t 0.03591331894573775\n",
      "Epoch:\t 59 Val Loss:\t 0.03589620197828662\n",
      "Epoch:\t 60 Val Loss:\t 0.03591727707564926\n",
      "Epoch:\t 61 Val Loss:\t 0.03595534475284059\n",
      "Epoch:\t 62 Val Loss:\t 0.03591059582430516\n",
      "Epoch:\t 63 Val Loss:\t 0.03587893718916379\n"
     ]
    },
    {
     "name": "stderr",
     "output_type": "stream",
     "text": [
      "[I 2025-06-02 15:16:49,239] Trial 0 finished with value: 0.035863796054695044 and parameters: {'lr': 0.001, 'weight_decay': 1e-05, 'scheduler_factor': 0.1, 'scheduler_patience': 20, 'batch_size': 128, 'dropout': 0.2, 'hidden_dims': 1024}. Best is trial 0 with value: 0.035863796054695044.\n"
     ]
    },
    {
     "name": "stdout",
     "output_type": "stream",
     "text": [
      "Epoch:\t 64 Val Loss:\t 0.03591215524397922\n",
      "Epoch:\t 0 Val Loss:\t 0.03938743655672999\n",
      "Epoch:\t 1 Val Loss:\t 0.037628313822501355\n",
      "Epoch:\t 2 Val Loss:\t 0.03705881149126859\n",
      "Epoch:\t 3 Val Loss:\t 0.03653501212764322\n",
      "Epoch:\t 4 Val Loss:\t 0.03638922659318482\n",
      "Epoch:\t 5 Val Loss:\t 0.03622451132196293\n",
      "Epoch:\t 6 Val Loss:\t 0.03609177416988781\n",
      "Epoch:\t 7 Val Loss:\t 0.03605701721140316\n",
      "Epoch:\t 8 Val Loss:\t 0.03607903624231513\n",
      "Epoch:\t 9 Val Loss:\t 0.03601621523690836\n",
      "Epoch:\t 10 Val Loss:\t 0.03604644983050146\n",
      "Epoch:\t 11 Val Loss:\t 0.03596339753887244\n",
      "Epoch:\t 12 Val Loss:\t 0.03597718714041274\n",
      "Epoch:\t 13 Val Loss:\t 0.03595214872284647\n",
      "Epoch:\t 14 Val Loss:\t 0.035933778957608804\n",
      "Epoch:\t 15 Val Loss:\t 0.03593892551492152\n",
      "Epoch:\t 16 Val Loss:\t 0.0359660487496451\n",
      "Epoch:\t 17 Val Loss:\t 0.03596477083754195\n",
      "Epoch:\t 18 Val Loss:\t 0.035958836438137305\n",
      "Epoch:\t 19 Val Loss:\t 0.03594194308975726\n",
      "Epoch:\t 20 Val Loss:\t 0.03595319673729938\n",
      "Epoch:\t 21 Val Loss:\t 0.03594192225085407\n",
      "Epoch:\t 22 Val Loss:\t 0.03594316112215408\n",
      "Epoch:\t 23 Val Loss:\t 0.03593221738527904\n",
      "Epoch:\t 24 Val Loss:\t 0.0359209223409717\n",
      "Epoch:\t 25 Val Loss:\t 0.0359202471425694\n",
      "Epoch:\t 26 Val Loss:\t 0.035933728974139136\n",
      "Epoch:\t 27 Val Loss:\t 0.03592832644812368\n",
      "Epoch:\t 28 Val Loss:\t 0.03594325412883996\n",
      "Epoch:\t 29 Val Loss:\t 0.03596384447803467\n",
      "Epoch:\t 30 Val Loss:\t 0.03596344471193049\n",
      "Epoch:\t 31 Val Loss:\t 0.03594256133247723\n",
      "Epoch:\t 32 Val Loss:\t 0.03594584120841126\n",
      "Epoch:\t 33 Val Loss:\t 0.03592877647275909\n",
      "Epoch:\t 34 Val Loss:\t 0.035934877732879275\n"
     ]
    },
    {
     "name": "stderr",
     "output_type": "stream",
     "text": [
      "[I 2025-06-02 15:18:48,775] Trial 1 finished with value: 0.0359202471425694 and parameters: {'lr': 0.001, 'weight_decay': 1e-06, 'scheduler_factor': 0.8, 'scheduler_patience': 5, 'batch_size': 128, 'dropout': 0.15, 'hidden_dims': 512}. Best is trial 0 with value: 0.035863796054695044.\n"
     ]
    },
    {
     "name": "stdout",
     "output_type": "stream",
     "text": [
      "Epoch:\t 35 Val Loss:\t 0.03592753591521211\n",
      "Epoch:\t 0 Val Loss:\t 0.036495771371402884\n",
      "Epoch:\t 1 Val Loss:\t 0.03601894907293566\n",
      "Epoch:\t 2 Val Loss:\t 0.0359551098005127\n",
      "Epoch:\t 3 Val Loss:\t 0.035917054548295316\n",
      "Epoch:\t 4 Val Loss:\t 0.035900223585962655\n",
      "Epoch:\t 5 Val Loss:\t 0.03590926474198756\n",
      "Epoch:\t 6 Val Loss:\t 0.03589773772982647\n",
      "Epoch:\t 7 Val Loss:\t 0.03585293364773244\n",
      "Epoch:\t 8 Val Loss:\t 0.03588605433309862\n",
      "Epoch:\t 9 Val Loss:\t 0.03586598736760409\n",
      "Epoch:\t 10 Val Loss:\t 0.0358665801403345\n",
      "Epoch:\t 11 Val Loss:\t 0.03585658212061923\n",
      "Epoch:\t 12 Val Loss:\t 0.03585484198945255\n",
      "Epoch:\t 13 Val Loss:\t 0.03586838512409548\n",
      "Epoch:\t 14 Val Loss:\t 0.03584869058723979\n",
      "Epoch:\t 15 Val Loss:\t 0.035856356422589095\n",
      "Epoch:\t 16 Val Loss:\t 0.035857952617301396\n",
      "Epoch:\t 17 Val Loss:\t 0.03586129992722605\n",
      "Epoch:\t 18 Val Loss:\t 0.03584773868935914\n",
      "Epoch:\t 19 Val Loss:\t 0.035872164940522346\n",
      "Epoch:\t 20 Val Loss:\t 0.03585094423709723\n",
      "Epoch:\t 21 Val Loss:\t 0.035859965575413724\n",
      "Epoch:\t 22 Val Loss:\t 0.035867308786143\n",
      "Epoch:\t 23 Val Loss:\t 0.035842054568125115\n",
      "Epoch:\t 24 Val Loss:\t 0.0358659217659958\n",
      "Epoch:\t 25 Val Loss:\t 0.035888918255817984\n",
      "Epoch:\t 26 Val Loss:\t 0.035939352652548766\n",
      "Epoch:\t 27 Val Loss:\t 0.035854114227756737\n",
      "Epoch:\t 28 Val Loss:\t 0.03583702928474517\n",
      "Epoch:\t 29 Val Loss:\t 0.03586635807578727\n",
      "Epoch:\t 30 Val Loss:\t 0.03586659498887439\n",
      "Epoch:\t 31 Val Loss:\t 0.0358503667831397\n",
      "Epoch:\t 32 Val Loss:\t 0.035847580352952234\n",
      "Epoch:\t 33 Val Loss:\t 0.035859711372680354\n",
      "Epoch:\t 34 Val Loss:\t 0.03586324369055287\n",
      "Epoch:\t 35 Val Loss:\t 0.03586278886850935\n",
      "Epoch:\t 36 Val Loss:\t 0.03584424143743298\n",
      "Epoch:\t 37 Val Loss:\t 0.0358495948829863\n"
     ]
    },
    {
     "name": "stderr",
     "output_type": "stream",
     "text": [
      "[I 2025-06-02 15:33:33,360] Trial 2 finished with value: 0.03583702928474517 and parameters: {'lr': 0.0001, 'weight_decay': 0.0001, 'scheduler_factor': 0.3, 'scheduler_patience': 1, 'batch_size': 16, 'dropout': 0.15, 'hidden_dims': 64}. Best is trial 2 with value: 0.03583702928474517.\n"
     ]
    },
    {
     "name": "stdout",
     "output_type": "stream",
     "text": [
      "Epoch:\t 38 Val Loss:\t 0.03588415129530814\n",
      "Epoch:\t 0 Val Loss:\t 0.09251432141130655\n",
      "Epoch:\t 1 Val Loss:\t 0.07326706306318219\n",
      "Epoch:\t 2 Val Loss:\t 0.06399421355003912\n",
      "Epoch:\t 3 Val Loss:\t 0.059357280602281015\n",
      "Epoch:\t 4 Val Loss:\t 0.05667030445956304\n",
      "Epoch:\t 5 Val Loss:\t 0.05526995581737682\n",
      "Epoch:\t 6 Val Loss:\t 0.054117747255112154\n",
      "Epoch:\t 7 Val Loss:\t 0.05340498426322187\n",
      "Epoch:\t 8 Val Loss:\t 0.05302996832405009\n",
      "Epoch:\t 9 Val Loss:\t 0.052536737897327206\n",
      "Epoch:\t 10 Val Loss:\t 0.05239234156129257\n",
      "Epoch:\t 11 Val Loss:\t 0.052188430579430026\n",
      "Epoch:\t 12 Val Loss:\t 0.05183315650226599\n",
      "Epoch:\t 13 Val Loss:\t 0.05201422854253415\n",
      "Epoch:\t 14 Val Loss:\t 0.05231978390874105\n",
      "Epoch:\t 15 Val Loss:\t 0.05282241394847966\n",
      "Epoch:\t 16 Val Loss:\t 0.05366036330572484\n",
      "Epoch:\t 17 Val Loss:\t 0.05342732284391481\n",
      "Epoch:\t 18 Val Loss:\t 0.0539304032012892\n",
      "Epoch:\t 19 Val Loss:\t 0.054599216707158435\n",
      "Epoch:\t 20 Val Loss:\t 0.054539958753564766\n",
      "Epoch:\t 21 Val Loss:\t 0.05416205247346892\n"
     ]
    },
    {
     "name": "stderr",
     "output_type": "stream",
     "text": [
      "[I 2025-06-02 15:34:47,536] Trial 3 finished with value: 0.05183315650226599 and parameters: {'lr': 1e-06, 'weight_decay': 1e-06, 'scheduler_factor': 0.1, 'scheduler_patience': 10, 'batch_size': 128, 'dropout': 0.2, 'hidden_dims': 256}. Best is trial 2 with value: 0.03583702928474517.\n"
     ]
    },
    {
     "name": "stdout",
     "output_type": "stream",
     "text": [
      "Epoch:\t 22 Val Loss:\t 0.054222129351111134\n",
      "Epoch:\t 0 Val Loss:\t 0.05157901978727137\n",
      "Epoch:\t 1 Val Loss:\t 0.04661807416673648\n",
      "Epoch:\t 2 Val Loss:\t 0.04316541767211251\n",
      "Epoch:\t 3 Val Loss:\t 0.04111299938843683\n",
      "Epoch:\t 4 Val Loss:\t 0.039639400117948385\n",
      "Epoch:\t 5 Val Loss:\t 0.03880772281013561\n",
      "Epoch:\t 6 Val Loss:\t 0.03833942129657893\n",
      "Epoch:\t 7 Val Loss:\t 0.038004174469753405\n",
      "Epoch:\t 8 Val Loss:\t 0.03774967549868036\n",
      "Epoch:\t 9 Val Loss:\t 0.03761635604127644\n",
      "Epoch:\t 10 Val Loss:\t 0.0374776716216992\n",
      "Epoch:\t 11 Val Loss:\t 0.03743025738847581\n",
      "Epoch:\t 12 Val Loss:\t 0.03733110512766754\n",
      "Epoch:\t 13 Val Loss:\t 0.03729513020854126\n",
      "Epoch:\t 14 Val Loss:\t 0.037206688653647804\n",
      "Epoch:\t 15 Val Loss:\t 0.03722789470423282\n",
      "Epoch:\t 16 Val Loss:\t 0.03717551604630859\n",
      "Epoch:\t 17 Val Loss:\t 0.037155815688698864\n",
      "Epoch:\t 18 Val Loss:\t 0.03717617503999707\n",
      "Epoch:\t 19 Val Loss:\t 0.03700946355133914\n",
      "Epoch:\t 20 Val Loss:\t 0.03695272391192603\n",
      "Epoch:\t 21 Val Loss:\t 0.03692506220233574\n",
      "Epoch:\t 22 Val Loss:\t 0.03698871023414797\n",
      "Epoch:\t 23 Val Loss:\t 0.03691481101068027\n",
      "Epoch:\t 24 Val Loss:\t 0.036932653165982966\n",
      "Epoch:\t 25 Val Loss:\t 0.036901824002903115\n",
      "Epoch:\t 26 Val Loss:\t 0.03694922615135653\n",
      "Epoch:\t 27 Val Loss:\t 0.036832278531588866\n",
      "Epoch:\t 28 Val Loss:\t 0.03678069352792698\n",
      "Epoch:\t 29 Val Loss:\t 0.03677054727823738\n",
      "Epoch:\t 30 Val Loss:\t 0.03677384347847721\n",
      "Epoch:\t 31 Val Loss:\t 0.0367074864430661\n",
      "Epoch:\t 32 Val Loss:\t 0.03668263295058454\n",
      "Epoch:\t 33 Val Loss:\t 0.03665688868319051\n",
      "Epoch:\t 34 Val Loss:\t 0.03665342949103582\n",
      "Epoch:\t 35 Val Loss:\t 0.03666049757461104\n",
      "Epoch:\t 36 Val Loss:\t 0.036624439323790385\n",
      "Epoch:\t 37 Val Loss:\t 0.036580955373485054\n",
      "Epoch:\t 38 Val Loss:\t 0.0366175849092332\n",
      "Epoch:\t 39 Val Loss:\t 0.03655572849689096\n",
      "Epoch:\t 40 Val Loss:\t 0.03657977750605603\n",
      "Epoch:\t 41 Val Loss:\t 0.03657254671160712\n",
      "Epoch:\t 42 Val Loss:\t 0.03656534317217133\n",
      "Epoch:\t 43 Val Loss:\t 0.036529059077868686\n",
      "Epoch:\t 44 Val Loss:\t 0.036594800866339025\n",
      "Epoch:\t 45 Val Loss:\t 0.03655729802806726\n",
      "Epoch:\t 46 Val Loss:\t 0.03654361797876381\n",
      "Epoch:\t 47 Val Loss:\t 0.03652151212407154\n",
      "Epoch:\t 48 Val Loss:\t 0.03656352382529987\n",
      "Epoch:\t 49 Val Loss:\t 0.036520336851788564\n",
      "Epoch:\t 50 Val Loss:\t 0.036531819356530666\n",
      "Epoch:\t 51 Val Loss:\t 0.036493224667364293\n",
      "Epoch:\t 52 Val Loss:\t 0.03656001009322093\n",
      "Epoch:\t 53 Val Loss:\t 0.036589087604471805\n",
      "Epoch:\t 54 Val Loss:\t 0.03650708459497072\n",
      "Epoch:\t 55 Val Loss:\t 0.03655776016139104\n",
      "Epoch:\t 56 Val Loss:\t 0.03650380530503741\n",
      "Epoch:\t 57 Val Loss:\t 0.03652407708510541\n",
      "Epoch:\t 58 Val Loss:\t 0.03651757735645408\n",
      "Epoch:\t 59 Val Loss:\t 0.03652113664111969\n",
      "Epoch:\t 60 Val Loss:\t 0.03653200369561465\n"
     ]
    },
    {
     "name": "stderr",
     "output_type": "stream",
     "text": [
      "[I 2025-06-02 15:38:03,045] Trial 4 finished with value: 0.036493224667364293 and parameters: {'lr': 0.0001, 'weight_decay': 1e-06, 'scheduler_factor': 0.5, 'scheduler_patience': 1, 'batch_size': 128, 'dropout': 0.1, 'hidden_dims': 128}. Best is trial 2 with value: 0.03583702928474517.\n"
     ]
    },
    {
     "name": "stdout",
     "output_type": "stream",
     "text": [
      "Epoch:\t 61 Val Loss:\t 0.036548275255372395\n"
     ]
    },
    {
     "name": "stderr",
     "output_type": "stream",
     "text": [
      "[I 2025-06-02 15:38:06,032] Trial 5 pruned. \n"
     ]
    },
    {
     "name": "stdout",
     "output_type": "stream",
     "text": [
      "Epoch:\t 0 Val Loss:\t 0.04492942100304088\n"
     ]
    },
    {
     "name": "stderr",
     "output_type": "stream",
     "text": [
      "[I 2025-06-02 15:38:10,711] Trial 6 pruned. \n"
     ]
    },
    {
     "name": "stdout",
     "output_type": "stream",
     "text": [
      "Epoch:\t 0 Val Loss:\t 0.06137486960688111\n",
      "Epoch:\t 0 Val Loss:\t 0.038367932504503884\n"
     ]
    },
    {
     "name": "stderr",
     "output_type": "stream",
     "text": [
      "[I 2025-06-02 15:38:51,201] Trial 7 pruned. \n"
     ]
    },
    {
     "name": "stdout",
     "output_type": "stream",
     "text": [
      "Epoch:\t 1 Val Loss:\t 0.03822624597357344\n",
      "Epoch:\t 0 Val Loss:\t 0.03842620855408915\n"
     ]
    },
    {
     "name": "stderr",
     "output_type": "stream",
     "text": [
      "[I 2025-06-02 15:39:33,482] Trial 8 pruned. \n"
     ]
    },
    {
     "name": "stdout",
     "output_type": "stream",
     "text": [
      "Epoch:\t 1 Val Loss:\t 0.03866012692466405\n"
     ]
    },
    {
     "name": "stderr",
     "output_type": "stream",
     "text": [
      "[I 2025-06-02 15:39:41,001] Trial 9 pruned. \n"
     ]
    },
    {
     "name": "stdout",
     "output_type": "stream",
     "text": [
      "Epoch:\t 0 Val Loss:\t 0.05530509475417032\n"
     ]
    },
    {
     "name": "stderr",
     "output_type": "stream",
     "text": [
      "[I 2025-06-02 15:39:43,512] Trial 10 pruned. \n"
     ]
    },
    {
     "name": "stdout",
     "output_type": "stream",
     "text": [
      "Epoch:\t 0 Val Loss:\t 0.050851718298012806\n"
     ]
    },
    {
     "name": "stderr",
     "output_type": "stream",
     "text": [
      "[I 2025-06-02 15:40:03,114] Trial 11 pruned. \n"
     ]
    },
    {
     "name": "stdout",
     "output_type": "stream",
     "text": [
      "Epoch:\t 0 Val Loss:\t 0.04238797397472366\n",
      "Epoch:\t 0 Val Loss:\t 0.03699924933941439\n",
      "Epoch:\t 1 Val Loss:\t 0.036725259238873466\n",
      "Epoch:\t 2 Val Loss:\t 0.03602003983095731\n",
      "Epoch:\t 3 Val Loss:\t 0.03590505089201541\n",
      "Epoch:\t 4 Val Loss:\t 0.035937577003572786\n",
      "Epoch:\t 5 Val Loss:\t 0.03591680884026678\n",
      "Epoch:\t 6 Val Loss:\t 0.03590564650528987\n",
      "Epoch:\t 7 Val Loss:\t 0.03593161447330676\n",
      "Epoch:\t 8 Val Loss:\t 0.035955917478539795\n",
      "Epoch:\t 9 Val Loss:\t 0.03595440548716924\n",
      "Epoch:\t 10 Val Loss:\t 0.03590760036627818\n",
      "Epoch:\t 11 Val Loss:\t 0.03586870900772769\n",
      "Epoch:\t 12 Val Loss:\t 0.035917996008430084\n",
      "Epoch:\t 13 Val Loss:\t 0.03588928429689184\n",
      "Epoch:\t 14 Val Loss:\t 0.03592757610626573\n",
      "Epoch:\t 15 Val Loss:\t 0.03587703653570166\n",
      "Epoch:\t 16 Val Loss:\t 0.03590002485402317\n",
      "Epoch:\t 17 Val Loss:\t 0.035891029562535245\n",
      "Epoch:\t 18 Val Loss:\t 0.035894518025046174\n",
      "Epoch:\t 19 Val Loss:\t 0.03589992745874305\n",
      "Epoch:\t 20 Val Loss:\t 0.03591924264680508\n"
     ]
    },
    {
     "name": "stderr",
     "output_type": "stream",
     "text": [
      "[I 2025-06-02 15:41:51,450] Trial 12 finished with value: 0.03586870900772769 and parameters: {'lr': 0.0001, 'weight_decay': 0.0001, 'scheduler_factor': 0.3, 'scheduler_patience': 20, 'batch_size': 64, 'dropout': 0.2, 'hidden_dims': 1024}. Best is trial 2 with value: 0.03583702928474517.\n"
     ]
    },
    {
     "name": "stdout",
     "output_type": "stream",
     "text": [
      "Epoch:\t 21 Val Loss:\t 0.03588010699943055\n",
      "Epoch:\t 0 Val Loss:\t 0.03612249733764447\n",
      "Epoch:\t 1 Val Loss:\t 0.0360197535803717\n",
      "Epoch:\t 2 Val Loss:\t 0.03597798458261337\n",
      "Epoch:\t 3 Val Loss:\t 0.035965129226177395\n",
      "Epoch:\t 4 Val Loss:\t 0.03593719029549009\n",
      "Epoch:\t 5 Val Loss:\t 0.03595278280486683\n",
      "Epoch:\t 6 Val Loss:\t 0.03598171880241028\n",
      "Epoch:\t 7 Val Loss:\t 0.03594284105172497\n",
      "Epoch:\t 8 Val Loss:\t 0.03595758552900058\n",
      "Epoch:\t 9 Val Loss:\t 0.03597023234906082\n",
      "Epoch:\t 10 Val Loss:\t 0.0359766439155849\n",
      "Epoch:\t 11 Val Loss:\t 0.03594625610223633\n",
      "Epoch:\t 12 Val Loss:\t 0.035971687183172285\n"
     ]
    },
    {
     "name": "stderr",
     "output_type": "stream",
     "text": [
      "[I 2025-06-02 15:43:45,088] Trial 13 pruned. \n"
     ]
    },
    {
     "name": "stdout",
     "output_type": "stream",
     "text": [
      "Epoch:\t 13 Val Loss:\t 0.03598023668110729\n",
      "Epoch:\t 0 Val Loss:\t 0.03683420128138119\n",
      "Epoch:\t 1 Val Loss:\t 0.03614952563760365\n",
      "Epoch:\t 2 Val Loss:\t 0.03619734702146705\n",
      "Epoch:\t 3 Val Loss:\t 0.036144956706804475\n",
      "Epoch:\t 4 Val Loss:\t 0.036171032612921726\n",
      "Epoch:\t 5 Val Loss:\t 0.036066808453326826\n",
      "Epoch:\t 6 Val Loss:\t 0.03599899173549517\n",
      "Epoch:\t 7 Val Loss:\t 0.03596539522290613\n",
      "Epoch:\t 8 Val Loss:\t 0.03602288589121061\n",
      "Epoch:\t 9 Val Loss:\t 0.03599592842089785\n",
      "Epoch:\t 10 Val Loss:\t 0.035861290751737794\n",
      "Epoch:\t 11 Val Loss:\t 0.03587754479223126\n",
      "Epoch:\t 12 Val Loss:\t 0.035887561594749956\n",
      "Epoch:\t 13 Val Loss:\t 0.03585377031296396\n",
      "Epoch:\t 14 Val Loss:\t 0.03585683318435954\n",
      "Epoch:\t 15 Val Loss:\t 0.035859197881252435\n",
      "Epoch:\t 16 Val Loss:\t 0.035857519009105644\n",
      "Epoch:\t 17 Val Loss:\t 0.035841816347511636\n",
      "Epoch:\t 18 Val Loss:\t 0.03585113965909197\n",
      "Epoch:\t 19 Val Loss:\t 0.03584591753277748\n",
      "Epoch:\t 20 Val Loss:\t 0.03584644103788103\n",
      "Epoch:\t 21 Val Loss:\t 0.035853736617653315\n",
      "Epoch:\t 22 Val Loss:\t 0.03585117923580949\n",
      "Epoch:\t 23 Val Loss:\t 0.03585173810122481\n",
      "Epoch:\t 24 Val Loss:\t 0.03585114482179332\n",
      "Epoch:\t 25 Val Loss:\t 0.035849752234013516\n",
      "Epoch:\t 26 Val Loss:\t 0.035848874586763106\n"
     ]
    },
    {
     "name": "stderr",
     "output_type": "stream",
     "text": [
      "[I 2025-06-02 15:44:53,442] Trial 14 finished with value: 0.035841816347511636 and parameters: {'lr': 0.001, 'weight_decay': 0.0001, 'scheduler_factor': 0.1, 'scheduler_patience': 1, 'batch_size': 256, 'dropout': 0.2, 'hidden_dims': 1024}. Best is trial 2 with value: 0.03583702928474517.\n"
     ]
    },
    {
     "name": "stdout",
     "output_type": "stream",
     "text": [
      "Epoch:\t 27 Val Loss:\t 0.03584793038738119\n"
     ]
    },
    {
     "name": "stderr",
     "output_type": "stream",
     "text": [
      "[I 2025-06-02 15:44:55,913] Trial 15 pruned. \n"
     ]
    },
    {
     "name": "stdout",
     "output_type": "stream",
     "text": [
      "Epoch:\t 0 Val Loss:\t 0.0592969337843622\n"
     ]
    },
    {
     "name": "stderr",
     "output_type": "stream",
     "text": [
      "[I 2025-06-02 15:44:58,531] Trial 16 pruned. \n"
     ]
    },
    {
     "name": "stdout",
     "output_type": "stream",
     "text": [
      "Epoch:\t 0 Val Loss:\t 0.051150778985291814\n"
     ]
    },
    {
     "name": "stderr",
     "output_type": "stream",
     "text": [
      "[I 2025-06-02 15:45:19,091] Trial 17 pruned. \n"
     ]
    },
    {
     "name": "stdout",
     "output_type": "stream",
     "text": [
      "Epoch:\t 0 Val Loss:\t 0.07197377034407941\n"
     ]
    },
    {
     "name": "stderr",
     "output_type": "stream",
     "text": [
      "[I 2025-06-02 15:45:21,465] Trial 18 pruned. \n"
     ]
    },
    {
     "name": "stdout",
     "output_type": "stream",
     "text": [
      "Epoch:\t 0 Val Loss:\t 0.04121112829475541\n",
      "Epoch:\t 0 Val Loss:\t 0.0362502595794521\n",
      "Epoch:\t 1 Val Loss:\t 0.0362745905576781\n",
      "Epoch:\t 2 Val Loss:\t 0.03621514211646709\n"
     ]
    },
    {
     "name": "stderr",
     "output_type": "stream",
     "text": [
      "[I 2025-06-02 15:46:41,337] Trial 19 pruned. \n"
     ]
    },
    {
     "name": "stdout",
     "output_type": "stream",
     "text": [
      "Epoch:\t 3 Val Loss:\t 0.03627957080691856\n",
      "Epoch:\t 0 Val Loss:\t 0.03735932664664229\n"
     ]
    },
    {
     "name": "stderr",
     "output_type": "stream",
     "text": [
      "[I 2025-06-02 15:46:46,089] Trial 20 pruned. \n"
     ]
    },
    {
     "name": "stdout",
     "output_type": "stream",
     "text": [
      "Epoch:\t 1 Val Loss:\t 0.03812196277010096\n",
      "Epoch:\t 0 Val Loss:\t 0.037556910406002834\n"
     ]
    },
    {
     "name": "stderr",
     "output_type": "stream",
     "text": [
      "[I 2025-06-02 15:46:52,407] Trial 21 pruned. \n"
     ]
    },
    {
     "name": "stdout",
     "output_type": "stream",
     "text": [
      "Epoch:\t 1 Val Loss:\t 0.03672822939163226\n",
      "Epoch:\t 0 Val Loss:\t 0.03636730083587294\n",
      "Epoch:\t 1 Val Loss:\t 0.03603151580598765\n",
      "Epoch:\t 2 Val Loss:\t 0.03594568655910138\n",
      "Epoch:\t 3 Val Loss:\t 0.03597831137045352\n",
      "Epoch:\t 4 Val Loss:\t 0.03599261308839183\n",
      "Epoch:\t 5 Val Loss:\t 0.03595722597652303\n",
      "Epoch:\t 6 Val Loss:\t 0.03594398479946032\n",
      "Epoch:\t 7 Val Loss:\t 0.03597872149729299\n",
      "Epoch:\t 8 Val Loss:\t 0.03594550927335729\n",
      "Epoch:\t 9 Val Loss:\t 0.03597861600812069\n",
      "Epoch:\t 10 Val Loss:\t 0.03590560889614369\n",
      "Epoch:\t 11 Val Loss:\t 0.03595861946204621\n",
      "Epoch:\t 12 Val Loss:\t 0.03596896866564163\n",
      "Epoch:\t 13 Val Loss:\t 0.03600253282499337\n",
      "Epoch:\t 14 Val Loss:\t 0.035931797777274566\n",
      "Epoch:\t 15 Val Loss:\t 0.03597831952727151\n",
      "Epoch:\t 16 Val Loss:\t 0.035947308763264414\n",
      "Epoch:\t 17 Val Loss:\t 0.03593241340127999\n",
      "Epoch:\t 18 Val Loss:\t 0.03596580585087827\n",
      "Epoch:\t 19 Val Loss:\t 0.03599219894734676\n"
     ]
    },
    {
     "name": "stderr",
     "output_type": "stream",
     "text": [
      "[I 2025-06-02 15:49:44,369] Trial 22 finished with value: 0.03590560889614369 and parameters: {'lr': 0.001, 'weight_decay': 1e-05, 'scheduler_factor': 0.1, 'scheduler_patience': 20, 'batch_size': 32, 'dropout': 0.2, 'hidden_dims': 1024}. Best is trial 2 with value: 0.03583702928474517.\n"
     ]
    },
    {
     "name": "stdout",
     "output_type": "stream",
     "text": [
      "Epoch:\t 20 Val Loss:\t 0.03596770601843546\n",
      "Epoch:\t 0 Val Loss:\t 0.03624799196797318\n",
      "Epoch:\t 1 Val Loss:\t 0.036206325314455064\n",
      "Epoch:\t 2 Val Loss:\t 0.036085718494347795\n"
     ]
    },
    {
     "name": "stderr",
     "output_type": "stream",
     "text": [
      "[I 2025-06-02 15:50:03,714] Trial 23 pruned. \n"
     ]
    },
    {
     "name": "stdout",
     "output_type": "stream",
     "text": [
      "Epoch:\t 3 Val Loss:\t 0.03609098023835811\n",
      "Epoch:\t 0 Val Loss:\t 0.03642862870165089\n",
      "Epoch:\t 1 Val Loss:\t 0.036189578461608765\n",
      "Epoch:\t 2 Val Loss:\t 0.036079007755504565\n",
      "Epoch:\t 3 Val Loss:\t 0.03610375146852451\n",
      "Epoch:\t 4 Val Loss:\t 0.036103886416119134\n",
      "Epoch:\t 5 Val Loss:\t 0.03593240809263617\n",
      "Epoch:\t 6 Val Loss:\t 0.035945200918909063\n",
      "Epoch:\t 7 Val Loss:\t 0.035930985079578946\n",
      "Epoch:\t 8 Val Loss:\t 0.0358459572120903\n",
      "Epoch:\t 9 Val Loss:\t 0.03586221926428533\n",
      "Epoch:\t 10 Val Loss:\t 0.035862107092984034\n",
      "Epoch:\t 11 Val Loss:\t 0.035864164798638604\n",
      "Epoch:\t 12 Val Loss:\t 0.035849670423598386\n",
      "Epoch:\t 13 Val Loss:\t 0.035846493307076524\n",
      "Epoch:\t 14 Val Loss:\t 0.03585182371314609\n",
      "Epoch:\t 15 Val Loss:\t 0.035841027164105234\n",
      "Epoch:\t 16 Val Loss:\t 0.03583936503883541\n",
      "Epoch:\t 17 Val Loss:\t 0.03584092677859395\n",
      "Epoch:\t 18 Val Loss:\t 0.03584555199259166\n",
      "Epoch:\t 19 Val Loss:\t 0.03583788407150279\n",
      "Epoch:\t 20 Val Loss:\t 0.03585246531816011\n",
      "Epoch:\t 21 Val Loss:\t 0.0358654007817922\n",
      "Epoch:\t 22 Val Loss:\t 0.035847138948320006\n",
      "Epoch:\t 23 Val Loss:\t 0.035859144004256154\n",
      "Epoch:\t 24 Val Loss:\t 0.03584327624683204\n",
      "Epoch:\t 25 Val Loss:\t 0.03584854909327975\n",
      "Epoch:\t 26 Val Loss:\t 0.03584246770934729\n",
      "Epoch:\t 27 Val Loss:\t 0.0358524869643092\n",
      "Epoch:\t 28 Val Loss:\t 0.03584995562058199\n"
     ]
    },
    {
     "name": "stderr",
     "output_type": "stream",
     "text": [
      "[I 2025-06-02 15:51:41,294] Trial 24 finished with value: 0.03583788407150279 and parameters: {'lr': 0.001, 'weight_decay': 0.0001, 'scheduler_factor': 0.3, 'scheduler_patience': 1, 'batch_size': 128, 'dropout': 0.2, 'hidden_dims': 1024}. Best is trial 2 with value: 0.03583702928474517.\n"
     ]
    },
    {
     "name": "stdout",
     "output_type": "stream",
     "text": [
      "Epoch:\t 29 Val Loss:\t 0.03584100176276785\n"
     ]
    },
    {
     "name": "stderr",
     "output_type": "stream",
     "text": [
      "[I 2025-06-02 15:51:44,159] Trial 25 pruned. \n"
     ]
    },
    {
     "name": "stdout",
     "output_type": "stream",
     "text": [
      "Epoch:\t 0 Val Loss:\t 0.056322907400092895\n"
     ]
    },
    {
     "name": "stderr",
     "output_type": "stream",
     "text": [
      "[I 2025-06-02 15:52:11,314] Trial 26 pruned. \n"
     ]
    },
    {
     "name": "stdout",
     "output_type": "stream",
     "text": [
      "Epoch:\t 0 Val Loss:\t 0.05200268687209011\n"
     ]
    },
    {
     "name": "stderr",
     "output_type": "stream",
     "text": [
      "[I 2025-06-02 15:52:30,321] Trial 27 pruned. \n"
     ]
    },
    {
     "name": "stdout",
     "output_type": "stream",
     "text": [
      "Epoch:\t 0 Val Loss:\t 0.04077831453204669\n",
      "Epoch:\t 0 Val Loss:\t 0.036250193139172826\n",
      "Epoch:\t 1 Val Loss:\t 0.03601038644024414\n",
      "Epoch:\t 2 Val Loss:\t 0.03591953643217347\n",
      "Epoch:\t 3 Val Loss:\t 0.036094649943412306\n",
      "Epoch:\t 4 Val Loss:\t 0.03597436181697815\n",
      "Epoch:\t 5 Val Loss:\t 0.03590175974215725\n",
      "Epoch:\t 6 Val Loss:\t 0.03591944981617943\n",
      "Epoch:\t 7 Val Loss:\t 0.035901046762320775\n",
      "Epoch:\t 8 Val Loss:\t 0.03585488942131352\n",
      "Epoch:\t 9 Val Loss:\t 0.035852581765682366\n",
      "Epoch:\t 10 Val Loss:\t 0.035887720452627565\n",
      "Epoch:\t 11 Val Loss:\t 0.03584532506787892\n",
      "Epoch:\t 12 Val Loss:\t 0.03585225198765276\n",
      "Epoch:\t 13 Val Loss:\t 0.035841953488504004\n",
      "Epoch:\t 14 Val Loss:\t 0.035843129997468075\n",
      "Epoch:\t 15 Val Loss:\t 0.035844595054721526\n",
      "Epoch:\t 16 Val Loss:\t 0.03584796894593254\n",
      "Epoch:\t 17 Val Loss:\t 0.03584904750731214\n",
      "Epoch:\t 18 Val Loss:\t 0.03584859147667885\n",
      "Epoch:\t 19 Val Loss:\t 0.03584492750393999\n",
      "Epoch:\t 20 Val Loss:\t 0.03584414271344326\n",
      "Epoch:\t 21 Val Loss:\t 0.03584510631787432\n",
      "Epoch:\t 22 Val Loss:\t 0.03584822874600098\n"
     ]
    },
    {
     "name": "stderr",
     "output_type": "stream",
     "text": [
      "[I 2025-06-02 15:53:35,722] Trial 28 finished with value: 0.035841953488504004 and parameters: {'lr': 0.001, 'weight_decay': 0.0001, 'scheduler_factor': 0.3, 'scheduler_patience': 1, 'batch_size': 256, 'dropout': 0.2, 'hidden_dims': 64}. Best is trial 2 with value: 0.03583702928474517.\n"
     ]
    },
    {
     "name": "stdout",
     "output_type": "stream",
     "text": [
      "Epoch:\t 23 Val Loss:\t 0.03585686628074891\n",
      "Epoch:\t 0 Val Loss:\t 0.03642931054936749\n",
      "Epoch:\t 1 Val Loss:\t 0.03631981137547983\n",
      "Epoch:\t 2 Val Loss:\t 0.036026766747953805\n",
      "Epoch:\t 3 Val Loss:\t 0.03608379728888815\n",
      "Epoch:\t 4 Val Loss:\t 0.03603297677698335\n"
     ]
    },
    {
     "name": "stderr",
     "output_type": "stream",
     "text": [
      "[I 2025-06-02 15:53:55,891] Trial 29 pruned. \n"
     ]
    },
    {
     "name": "stdout",
     "output_type": "stream",
     "text": [
      "Epoch:\t 5 Val Loss:\t 0.035963902157248505\n"
     ]
    },
    {
     "name": "stderr",
     "output_type": "stream",
     "text": [
      "[I 2025-06-02 15:53:59,379] Trial 30 pruned. \n"
     ]
    },
    {
     "name": "stdout",
     "output_type": "stream",
     "text": [
      "Epoch:\t 0 Val Loss:\t 0.043292850925681296\n",
      "Epoch:\t 0 Val Loss:\t 0.036391441497676244\n",
      "Epoch:\t 1 Val Loss:\t 0.03608011402836567\n",
      "Epoch:\t 2 Val Loss:\t 0.036040499878274665\n",
      "Epoch:\t 3 Val Loss:\t 0.036002088038676036\n",
      "Epoch:\t 4 Val Loss:\t 0.03604046250558743\n"
     ]
    },
    {
     "name": "stderr",
     "output_type": "stream",
     "text": [
      "[I 2025-06-02 15:54:15,715] Trial 31 pruned. \n"
     ]
    },
    {
     "name": "stdout",
     "output_type": "stream",
     "text": [
      "Epoch:\t 5 Val Loss:\t 0.035976429820252384\n",
      "Epoch:\t 0 Val Loss:\t 0.03624839112881296\n",
      "Epoch:\t 1 Val Loss:\t 0.036080695964228304\n",
      "Epoch:\t 2 Val Loss:\t 0.03600353227742615\n",
      "Epoch:\t 3 Val Loss:\t 0.035967439245372726\n",
      "Epoch:\t 4 Val Loss:\t 0.036003742115482254\n"
     ]
    },
    {
     "name": "stderr",
     "output_type": "stream",
     "text": [
      "[I 2025-06-02 15:54:32,272] Trial 32 pruned. \n"
     ]
    },
    {
     "name": "stdout",
     "output_type": "stream",
     "text": [
      "Epoch:\t 5 Val Loss:\t 0.03606064288227121\n",
      "Epoch:\t 0 Val Loss:\t 0.03625027109476531\n",
      "Epoch:\t 1 Val Loss:\t 0.03608997314689244\n",
      "Epoch:\t 2 Val Loss:\t 0.0359589424092095\n",
      "Epoch:\t 3 Val Loss:\t 0.03605240930794136\n",
      "Epoch:\t 4 Val Loss:\t 0.03600421229263594\n",
      "Epoch:\t 5 Val Loss:\t 0.03590265009851701\n",
      "Epoch:\t 6 Val Loss:\t 0.035950258757523786\n",
      "Epoch:\t 7 Val Loss:\t 0.03590943228297678\n",
      "Epoch:\t 8 Val Loss:\t 0.03585013893352061\n",
      "Epoch:\t 9 Val Loss:\t 0.03586276962011573\n",
      "Epoch:\t 10 Val Loss:\t 0.03585067039229862\n",
      "Epoch:\t 11 Val Loss:\t 0.03584053496743322\n",
      "Epoch:\t 12 Val Loss:\t 0.0358359389893495\n",
      "Epoch:\t 13 Val Loss:\t 0.035862852414992076\n",
      "Epoch:\t 14 Val Loss:\t 0.03584380752116537\n",
      "Epoch:\t 15 Val Loss:\t 0.035840434492400985\n",
      "Epoch:\t 16 Val Loss:\t 0.03583957470498284\n",
      "Epoch:\t 17 Val Loss:\t 0.03584904628551275\n",
      "Epoch:\t 18 Val Loss:\t 0.035852049480393\n",
      "Epoch:\t 19 Val Loss:\t 0.03584776000625834\n",
      "Epoch:\t 20 Val Loss:\t 0.03585588358270777\n",
      "Epoch:\t 21 Val Loss:\t 0.035850150241154184\n"
     ]
    },
    {
     "name": "stderr",
     "output_type": "stream",
     "text": [
      "[I 2025-06-02 15:55:34,394] Trial 33 finished with value: 0.0358359389893495 and parameters: {'lr': 0.001, 'weight_decay': 0.0001, 'scheduler_factor': 0.3, 'scheduler_patience': 1, 'batch_size': 256, 'dropout': 0.2, 'hidden_dims': 64}. Best is trial 33 with value: 0.0358359389893495.\n"
     ]
    },
    {
     "name": "stdout",
     "output_type": "stream",
     "text": [
      "Epoch:\t 22 Val Loss:\t 0.03585303810775472\n"
     ]
    },
    {
     "name": "stderr",
     "output_type": "stream",
     "text": [
      "[I 2025-06-02 15:55:37,699] Trial 34 pruned. \n"
     ]
    },
    {
     "name": "stdout",
     "output_type": "stream",
     "text": [
      "Epoch:\t 0 Val Loss:\t 0.03820542950500072\n",
      "Epoch:\t 0 Val Loss:\t 0.03622698186151085\n",
      "Epoch:\t 1 Val Loss:\t 0.03610073802603403\n",
      "Epoch:\t 2 Val Loss:\t 0.03596597649995537\n",
      "Epoch:\t 3 Val Loss:\t 0.03604637321168587\n",
      "Epoch:\t 4 Val Loss:\t 0.036054012440504365\n",
      "Epoch:\t 5 Val Loss:\t 0.03589224645275012\n",
      "Epoch:\t 6 Val Loss:\t 0.035938914841298505\n",
      "Epoch:\t 7 Val Loss:\t 0.035938510269980725\n",
      "Epoch:\t 8 Val Loss:\t 0.03587983802583823\n",
      "Epoch:\t 9 Val Loss:\t 0.035914245417934525\n",
      "Epoch:\t 10 Val Loss:\t 0.035877979800727974\n"
     ]
    },
    {
     "name": "stderr",
     "output_type": "stream",
     "text": [
      "[I 2025-06-02 15:56:09,198] Trial 35 pruned. \n"
     ]
    },
    {
     "name": "stdout",
     "output_type": "stream",
     "text": [
      "Epoch:\t 11 Val Loss:\t 0.035877679022466254\n"
     ]
    },
    {
     "name": "stderr",
     "output_type": "stream",
     "text": [
      "[I 2025-06-02 15:56:12,409] Trial 36 pruned. \n"
     ]
    },
    {
     "name": "stdout",
     "output_type": "stream",
     "text": [
      "Epoch:\t 0 Val Loss:\t 0.10564282690780312\n"
     ]
    },
    {
     "name": "stderr",
     "output_type": "stream",
     "text": [
      "[I 2025-06-02 15:56:16,762] Trial 37 pruned. \n"
     ]
    },
    {
     "name": "stdout",
     "output_type": "stream",
     "text": [
      "Epoch:\t 0 Val Loss:\t 0.037306034565569406\n"
     ]
    },
    {
     "name": "stderr",
     "output_type": "stream",
     "text": [
      "[I 2025-06-02 15:56:20,207] Trial 38 pruned. \n"
     ]
    },
    {
     "name": "stdout",
     "output_type": "stream",
     "text": [
      "Epoch:\t 0 Val Loss:\t 0.03744633434217776\n",
      "Epoch:\t 0 Val Loss:\t 0.03613465030365932\n",
      "Epoch:\t 1 Val Loss:\t 0.036175943369826\n"
     ]
    },
    {
     "name": "stderr",
     "output_type": "stream",
     "text": [
      "[I 2025-06-02 15:56:43,808] Trial 39 pruned. \n"
     ]
    },
    {
     "name": "stdout",
     "output_type": "stream",
     "text": [
      "Epoch:\t 2 Val Loss:\t 0.03620469042870826\n"
     ]
    },
    {
     "name": "stderr",
     "output_type": "stream",
     "text": [
      "[I 2025-06-02 15:57:08,663] Trial 40 pruned. \n"
     ]
    },
    {
     "name": "stdout",
     "output_type": "stream",
     "text": [
      "Epoch:\t 0 Val Loss:\t 0.03858128227659228\n",
      "Epoch:\t 0 Val Loss:\t 0.03644068781106802\n",
      "Epoch:\t 1 Val Loss:\t 0.03603107429489829\n",
      "Epoch:\t 2 Val Loss:\t 0.0360276870237861\n",
      "Epoch:\t 3 Val Loss:\t 0.03600236351850332\n",
      "Epoch:\t 4 Val Loss:\t 0.03600928453291344\n"
     ]
    },
    {
     "name": "stderr",
     "output_type": "stream",
     "text": [
      "[I 2025-06-02 15:57:24,083] Trial 41 pruned. \n"
     ]
    },
    {
     "name": "stdout",
     "output_type": "stream",
     "text": [
      "Epoch:\t 5 Val Loss:\t 0.036062036799656236\n",
      "Epoch:\t 0 Val Loss:\t 0.03624520014815775\n",
      "Epoch:\t 1 Val Loss:\t 0.03603355285870301\n",
      "Epoch:\t 2 Val Loss:\t 0.03610312142124897\n",
      "Epoch:\t 3 Val Loss:\t 0.0360309170541081\n",
      "Epoch:\t 4 Val Loss:\t 0.035888655213010275\n",
      "Epoch:\t 5 Val Loss:\t 0.03586700477209122\n",
      "Epoch:\t 6 Val Loss:\t 0.035924370337720855\n",
      "Epoch:\t 7 Val Loss:\t 0.03590330329403233\n",
      "Epoch:\t 8 Val Loss:\t 0.03586257578523596\n",
      "Epoch:\t 9 Val Loss:\t 0.035870171963593586\n",
      "Epoch:\t 10 Val Loss:\t 0.03585368128930641\n",
      "Epoch:\t 11 Val Loss:\t 0.03586572417061045\n",
      "Epoch:\t 12 Val Loss:\t 0.0358731107145452\n",
      "Epoch:\t 13 Val Loss:\t 0.03584014175166271\n",
      "Epoch:\t 14 Val Loss:\t 0.03585683405878459\n",
      "Epoch:\t 15 Val Loss:\t 0.03585047640169932\n",
      "Epoch:\t 16 Val Loss:\t 0.03584104420623212\n",
      "Epoch:\t 17 Val Loss:\t 0.03584232757472915\n",
      "Epoch:\t 18 Val Loss:\t 0.035847115926324745\n",
      "Epoch:\t 19 Val Loss:\t 0.03584949983661198\n",
      "Epoch:\t 20 Val Loss:\t 0.03585369066841349\n",
      "Epoch:\t 21 Val Loss:\t 0.035839554497379196\n",
      "Epoch:\t 22 Val Loss:\t 0.0358411009360548\n",
      "Epoch:\t 23 Val Loss:\t 0.035852162928059934\n",
      "Epoch:\t 24 Val Loss:\t 0.03584398014225377\n",
      "Epoch:\t 25 Val Loss:\t 0.03584578451236345\n",
      "Epoch:\t 26 Val Loss:\t 0.03583354625096275\n",
      "Epoch:\t 27 Val Loss:\t 0.03584999551583333\n",
      "Epoch:\t 28 Val Loss:\t 0.03584286784962826\n",
      "Epoch:\t 29 Val Loss:\t 0.03583980884726408\n",
      "Epoch:\t 30 Val Loss:\t 0.03583904840890618\n",
      "Epoch:\t 31 Val Loss:\t 0.03584650847641602\n",
      "Epoch:\t 32 Val Loss:\t 0.035844085528440414\n",
      "Epoch:\t 33 Val Loss:\t 0.03584738728557369\n",
      "Epoch:\t 34 Val Loss:\t 0.03584365158602356\n",
      "Epoch:\t 35 Val Loss:\t 0.03584671171435973\n"
     ]
    },
    {
     "name": "stderr",
     "output_type": "stream",
     "text": [
      "[I 2025-06-02 15:58:58,100] Trial 42 finished with value: 0.03583354625096275 and parameters: {'lr': 0.001, 'weight_decay': 0.0001, 'scheduler_factor': 0.3, 'scheduler_patience': 1, 'batch_size': 256, 'dropout': 0.2, 'hidden_dims': 64}. Best is trial 42 with value: 0.03583354625096275.\n"
     ]
    },
    {
     "name": "stdout",
     "output_type": "stream",
     "text": [
      "Epoch:\t 36 Val Loss:\t 0.03584795956682545\n",
      "Epoch:\t 0 Val Loss:\t 0.03617837628607198\n",
      "Epoch:\t 1 Val Loss:\t 0.03609959378694798\n",
      "Epoch:\t 2 Val Loss:\t 0.03608433946583815\n",
      "Epoch:\t 3 Val Loss:\t 0.03602302226558376\n",
      "Epoch:\t 4 Val Loss:\t 0.03600606621749148\n"
     ]
    },
    {
     "name": "stderr",
     "output_type": "stream",
     "text": [
      "[I 2025-06-02 15:59:13,639] Trial 43 pruned. \n"
     ]
    },
    {
     "name": "stdout",
     "output_type": "stream",
     "text": [
      "Epoch:\t 5 Val Loss:\t 0.03597682678527004\n",
      "Epoch:\t 0 Val Loss:\t 0.03621482301707053\n",
      "Epoch:\t 1 Val Loss:\t 0.03602743141616656\n",
      "Epoch:\t 2 Val Loss:\t 0.035986814001078005\n",
      "Epoch:\t 3 Val Loss:\t 0.035926110695125205\n",
      "Epoch:\t 4 Val Loss:\t 0.035959955855868635\n",
      "Epoch:\t 5 Val Loss:\t 0.03596896662637352\n",
      "Epoch:\t 6 Val Loss:\t 0.03590967263008237\n",
      "Epoch:\t 7 Val Loss:\t 0.03593895840683167\n",
      "Epoch:\t 8 Val Loss:\t 0.03589803175671308\n",
      "Epoch:\t 9 Val Loss:\t 0.03589008850347957\n",
      "Epoch:\t 10 Val Loss:\t 0.03586579450792438\n",
      "Epoch:\t 11 Val Loss:\t 0.03586874117661519\n",
      "Epoch:\t 12 Val Loss:\t 0.0359274238539662\n",
      "Epoch:\t 13 Val Loss:\t 0.03586419018949726\n",
      "Epoch:\t 14 Val Loss:\t 0.035868702162883674\n",
      "Epoch:\t 15 Val Loss:\t 0.03586544555243572\n",
      "Epoch:\t 16 Val Loss:\t 0.03584076674996465\n",
      "Epoch:\t 17 Val Loss:\t 0.03585354938288594\n",
      "Epoch:\t 18 Val Loss:\t 0.03585595021868825\n",
      "Epoch:\t 19 Val Loss:\t 0.035846088860195933\n",
      "Epoch:\t 20 Val Loss:\t 0.035846332201907874\n",
      "Epoch:\t 21 Val Loss:\t 0.03584168630972553\n",
      "Epoch:\t 22 Val Loss:\t 0.035845763370442624\n",
      "Epoch:\t 23 Val Loss:\t 0.03583478478421352\n",
      "Epoch:\t 24 Val Loss:\t 0.03584767267155877\n",
      "Epoch:\t 25 Val Loss:\t 0.035839507805477004\n",
      "Epoch:\t 26 Val Loss:\t 0.03584483319779684\n",
      "Epoch:\t 27 Val Loss:\t 0.03583722760439686\n",
      "Epoch:\t 28 Val Loss:\t 0.035836010093282654\n",
      "Epoch:\t 29 Val Loss:\t 0.03585244059993906\n",
      "Epoch:\t 30 Val Loss:\t 0.035841616439570186\n",
      "Epoch:\t 31 Val Loss:\t 0.0358420295634837\n",
      "Epoch:\t 32 Val Loss:\t 0.03584133618035117\n"
     ]
    },
    {
     "name": "stderr",
     "output_type": "stream",
     "text": [
      "[I 2025-06-02 16:00:40,171] Trial 44 finished with value: 0.03583478478421352 and parameters: {'lr': 0.001, 'weight_decay': 0.0001, 'scheduler_factor': 0.3, 'scheduler_patience': 1, 'batch_size': 256, 'dropout': 0.2, 'hidden_dims': 64}. Best is trial 42 with value: 0.03583354625096275.\n"
     ]
    },
    {
     "name": "stdout",
     "output_type": "stream",
     "text": [
      "Epoch:\t 33 Val Loss:\t 0.03583848556665362\n"
     ]
    },
    {
     "name": "stderr",
     "output_type": "stream",
     "text": [
      "[I 2025-06-02 16:00:42,756] Trial 45 pruned. \n"
     ]
    },
    {
     "name": "stdout",
     "output_type": "stream",
     "text": [
      "Epoch:\t 0 Val Loss:\t 0.05607932078924593\n",
      "Epoch:\t 0 Val Loss:\t 0.03619815574386833\n",
      "Epoch:\t 1 Val Loss:\t 0.03609064678155907\n"
     ]
    },
    {
     "name": "stderr",
     "output_type": "stream",
     "text": [
      "[I 2025-06-02 16:00:58,521] Trial 46 pruned. \n"
     ]
    },
    {
     "name": "stdout",
     "output_type": "stream",
     "text": [
      "Epoch:\t 2 Val Loss:\t 0.03612829275196231\n"
     ]
    },
    {
     "name": "stderr",
     "output_type": "stream",
     "text": [
      "[I 2025-06-02 16:01:00,955] Trial 47 pruned. \n"
     ]
    },
    {
     "name": "stdout",
     "output_type": "stream",
     "text": [
      "Epoch:\t 0 Val Loss:\t 0.03878638327984181\n"
     ]
    },
    {
     "name": "stderr",
     "output_type": "stream",
     "text": [
      "[I 2025-06-02 16:01:25,316] Trial 48 pruned. \n"
     ]
    },
    {
     "name": "stdout",
     "output_type": "stream",
     "text": [
      "Epoch:\t 0 Val Loss:\t 0.0704164969684652\n"
     ]
    },
    {
     "name": "stderr",
     "output_type": "stream",
     "text": [
      "[I 2025-06-02 16:01:33,702] Trial 49 pruned. \n"
     ]
    },
    {
     "name": "stdout",
     "output_type": "stream",
     "text": [
      "Epoch:\t 0 Val Loss:\t 0.036916763273502635\n",
      "Training model with best parameters on train+validation ...\n"
     ]
    },
    {
     "name": "stderr",
     "output_type": "stream",
     "text": [
      "100%|███████████████████████████████████████████████████████████████████████████████████████████████████████████████████████████████████████████████████████████████████| 401917/401917 [04:11<00:00, 1595.11it/s]\n",
      "100%|███████████████████████████████████████████████████████████████████████████████████████████████████████████████████████████████████████████████████████████████████| 401917/401917 [01:14<00:00, 5375.05it/s]\n"
     ]
    },
    {
     "name": "stdout",
     "output_type": "stream",
     "text": [
      "Getting test set predictions and saving results ...\n"
     ]
    },
    {
     "name": "stderr",
     "output_type": "stream",
     "text": [
      "100%|██████████████████████████████████████████████████████████████████████████████████████████████████████████████████████████████████████████████████████████████████████████| 305/305 [00:01<00:00, 291.78it/s]\n"
     ]
    }
   ],
   "source": [
    "train_different_fs(\n",
    "        adata_path=\"./data/feature_selection/sciplex_seurat_v3.h5ad\",\n",
    "        run_name=\"decoder_seuratv3_fs\",\n",
    "        res_savename=\"./results/feature_selection/decoder_seuratv3_fs_res.pkl\",\n",
    "    )"
   ]
  },
  {
   "cell_type": "code",
   "execution_count": 8,
   "id": "fa2fe9b1-bfdd-481a-817d-c6a7dec89617",
   "metadata": {},
   "outputs": [
    {
     "name": "stdout",
     "output_type": "stream",
     "text": [
      "Loading Datasets ...\n"
     ]
    },
    {
     "name": "stderr",
     "output_type": "stream",
     "text": [
      "100%|███████████████████████████████████████████████████████████████████████████████████████████████████████████████████████████████████████████████████████████████████| 401917/401917 [03:14<00:00, 2069.08it/s]\n",
      "100%|███████████████████████████████████████████████████████████████████████████████████████████████████████████████████████████████████████████████████████████████████| 401917/401917 [01:15<00:00, 5312.75it/s]\n",
      "[I 2025-06-02 16:12:50,906] A new study created in RDB with name: decoder_cellranger_fs\n"
     ]
    },
    {
     "name": "stdout",
     "output_type": "stream",
     "text": [
      "Optimizing Hyperparameters with Optuna ...\n",
      "Epoch:\t 0 Val Loss:\t 0.030847476124912798\n",
      "Epoch:\t 1 Val Loss:\t 0.03043237705089764\n",
      "Epoch:\t 2 Val Loss:\t 0.030409028450538497\n",
      "Epoch:\t 3 Val Loss:\t 0.030418442808584363\n",
      "Epoch:\t 4 Val Loss:\t 0.030442825026944547\n",
      "Epoch:\t 5 Val Loss:\t 0.030421144138267617\n",
      "Epoch:\t 6 Val Loss:\t 0.0304191618747188\n",
      "Epoch:\t 7 Val Loss:\t 0.030419149993357056\n",
      "Epoch:\t 8 Val Loss:\t 0.030424490950270024\n",
      "Epoch:\t 9 Val Loss:\t 0.03037569139354334\n",
      "Epoch:\t 10 Val Loss:\t 0.03039391857902249\n",
      "Epoch:\t 11 Val Loss:\t 0.030429819009765116\n",
      "Epoch:\t 12 Val Loss:\t 0.030444564283610823\n",
      "Epoch:\t 13 Val Loss:\t 0.03047645264687782\n",
      "Epoch:\t 14 Val Loss:\t 0.030515943880459827\n",
      "Epoch:\t 15 Val Loss:\t 0.03051112753923288\n",
      "Epoch:\t 16 Val Loss:\t 0.030533386767657104\n",
      "Epoch:\t 17 Val Loss:\t 0.030570060733653502\n",
      "Epoch:\t 18 Val Loss:\t 0.030565568797275393\n"
     ]
    },
    {
     "name": "stderr",
     "output_type": "stream",
     "text": [
      "[I 2025-06-02 16:15:37,976] Trial 0 finished with value: 0.03037569139354334 and parameters: {'lr': 0.001, 'weight_decay': 1e-06, 'scheduler_factor': 0.1, 'scheduler_patience': 5, 'batch_size': 32, 'dropout': 0.1, 'hidden_dims': 1024}. Best is trial 0 with value: 0.03037569139354334.\n"
     ]
    },
    {
     "name": "stdout",
     "output_type": "stream",
     "text": [
      "Epoch:\t 19 Val Loss:\t 0.03058253044266261\n",
      "Epoch:\t 0 Val Loss:\t 0.04285970651260143\n",
      "Epoch:\t 1 Val Loss:\t 0.04105917797977901\n",
      "Epoch:\t 2 Val Loss:\t 0.04083847485698305\n",
      "Epoch:\t 3 Val Loss:\t 0.040614338537791915\n",
      "Epoch:\t 4 Val Loss:\t 0.040169584382193646\n",
      "Epoch:\t 5 Val Loss:\t 0.03990741413074674\n",
      "Epoch:\t 6 Val Loss:\t 0.03970947739491509\n",
      "Epoch:\t 7 Val Loss:\t 0.03949523446452579\n",
      "Epoch:\t 8 Val Loss:\t 0.03934881389380651\n",
      "Epoch:\t 9 Val Loss:\t 0.03896963100437183\n",
      "Epoch:\t 10 Val Loss:\t 0.03886803002411146\n",
      "Epoch:\t 11 Val Loss:\t 0.038508007404696905\n",
      "Epoch:\t 12 Val Loss:\t 0.038328719951236365\n",
      "Epoch:\t 13 Val Loss:\t 0.03808320643098791\n",
      "Epoch:\t 14 Val Loss:\t 0.03794995128773033\n",
      "Epoch:\t 15 Val Loss:\t 0.03789020891501973\n",
      "Epoch:\t 16 Val Loss:\t 0.03770189844910355\n",
      "Epoch:\t 17 Val Loss:\t 0.03757638783700213\n",
      "Epoch:\t 18 Val Loss:\t 0.037353470118961916\n",
      "Epoch:\t 19 Val Loss:\t 0.03734968304394526\n",
      "Epoch:\t 20 Val Loss:\t 0.037213055578650386\n",
      "Epoch:\t 21 Val Loss:\t 0.037127058545780335\n",
      "Epoch:\t 22 Val Loss:\t 0.03705550531386562\n",
      "Epoch:\t 23 Val Loss:\t 0.037008746871515105\n",
      "Epoch:\t 24 Val Loss:\t 0.03684043230255317\n",
      "Epoch:\t 25 Val Loss:\t 0.03685162350583306\n",
      "Epoch:\t 26 Val Loss:\t 0.03673932283302212\n",
      "Epoch:\t 27 Val Loss:\t 0.03667782990926715\n",
      "Epoch:\t 28 Val Loss:\t 0.03667157912369327\n",
      "Epoch:\t 29 Val Loss:\t 0.0365814857328628\n",
      "Epoch:\t 30 Val Loss:\t 0.03648207796635735\n",
      "Epoch:\t 31 Val Loss:\t 0.0364896409524982\n",
      "Epoch:\t 32 Val Loss:\t 0.03644773238293611\n",
      "Epoch:\t 33 Val Loss:\t 0.036475790359103796\n",
      "Epoch:\t 34 Val Loss:\t 0.036359834541653514\n",
      "Epoch:\t 35 Val Loss:\t 0.036343004877927604\n",
      "Epoch:\t 36 Val Loss:\t 0.036199034709734935\n",
      "Epoch:\t 37 Val Loss:\t 0.03619761881193931\n",
      "Epoch:\t 38 Val Loss:\t 0.036188639712391175\n",
      "Epoch:\t 39 Val Loss:\t 0.036116960335678606\n",
      "Epoch:\t 40 Val Loss:\t 0.03610613841527528\n",
      "Epoch:\t 41 Val Loss:\t 0.03601733242967121\n",
      "Epoch:\t 42 Val Loss:\t 0.03587688467318605\n",
      "Epoch:\t 43 Val Loss:\t 0.035961344083501594\n",
      "Epoch:\t 44 Val Loss:\t 0.035967425470183514\n",
      "Epoch:\t 45 Val Loss:\t 0.035858094033416825\n",
      "Epoch:\t 46 Val Loss:\t 0.03586149933205923\n",
      "Epoch:\t 47 Val Loss:\t 0.03579495079408121\n",
      "Epoch:\t 48 Val Loss:\t 0.03578898283110937\n",
      "Epoch:\t 49 Val Loss:\t 0.03575999414326677\n",
      "Epoch:\t 50 Val Loss:\t 0.03571287933078226\n",
      "Epoch:\t 51 Val Loss:\t 0.03567526213992447\n",
      "Epoch:\t 52 Val Loss:\t 0.03566787894994883\n",
      "Epoch:\t 53 Val Loss:\t 0.03560778835243351\n",
      "Epoch:\t 54 Val Loss:\t 0.035569662641482334\n",
      "Epoch:\t 55 Val Loss:\t 0.03552457111681006\n",
      "Epoch:\t 56 Val Loss:\t 0.03551174272630376\n",
      "Epoch:\t 57 Val Loss:\t 0.035514626675959185\n",
      "Epoch:\t 58 Val Loss:\t 0.03551082616114923\n",
      "Epoch:\t 59 Val Loss:\t 0.03548080064476111\n",
      "Epoch:\t 60 Val Loss:\t 0.03536386816639609\n",
      "Epoch:\t 61 Val Loss:\t 0.03534635249824769\n",
      "Epoch:\t 62 Val Loss:\t 0.035361562307528745\n",
      "Epoch:\t 63 Val Loss:\t 0.03534682556819111\n",
      "Epoch:\t 64 Val Loss:\t 0.03523141641612988\n",
      "Epoch:\t 65 Val Loss:\t 0.035239691268113646\n",
      "Epoch:\t 66 Val Loss:\t 0.0352484483715039\n",
      "Epoch:\t 67 Val Loss:\t 0.03518350162450524\n",
      "Epoch:\t 68 Val Loss:\t 0.03522774704711039\n",
      "Epoch:\t 69 Val Loss:\t 0.03516457246622472\n",
      "Epoch:\t 70 Val Loss:\t 0.03519533151143808\n",
      "Epoch:\t 71 Val Loss:\t 0.03508061960555158\n",
      "Epoch:\t 72 Val Loss:\t 0.03505253310276381\n",
      "Epoch:\t 73 Val Loss:\t 0.035053033872815956\n",
      "Epoch:\t 74 Val Loss:\t 0.03502481797308784\n",
      "Epoch:\t 75 Val Loss:\t 0.03500429871477115\n",
      "Epoch:\t 76 Val Loss:\t 0.03497099045101086\n",
      "Epoch:\t 77 Val Loss:\t 0.034960550510615016\n",
      "Epoch:\t 78 Val Loss:\t 0.03494160575642463\n",
      "Epoch:\t 79 Val Loss:\t 0.03491713117412815\n",
      "Epoch:\t 80 Val Loss:\t 0.03488858696971676\n",
      "Epoch:\t 81 Val Loss:\t 0.03485528458736334\n",
      "Epoch:\t 82 Val Loss:\t 0.03487286951476738\n",
      "Epoch:\t 83 Val Loss:\t 0.03479143826237062\n",
      "Epoch:\t 84 Val Loss:\t 0.0348415213765822\n",
      "Epoch:\t 85 Val Loss:\t 0.03480682350168082\n",
      "Epoch:\t 86 Val Loss:\t 0.03476482181782891\n",
      "Epoch:\t 87 Val Loss:\t 0.034774916905346794\n",
      "Epoch:\t 88 Val Loss:\t 0.03479145496029563\n",
      "Epoch:\t 89 Val Loss:\t 0.03470222347107539\n",
      "Epoch:\t 90 Val Loss:\t 0.03471739942333706\n",
      "Epoch:\t 91 Val Loss:\t 0.034689266210679456\n",
      "Epoch:\t 92 Val Loss:\t 0.03468340683213384\n",
      "Epoch:\t 93 Val Loss:\t 0.03463390637249042\n",
      "Epoch:\t 94 Val Loss:\t 0.03461573431058712\n",
      "Epoch:\t 95 Val Loss:\t 0.03460838490576031\n",
      "Epoch:\t 96 Val Loss:\t 0.03459369537339717\n",
      "Epoch:\t 97 Val Loss:\t 0.034545420971474464\n",
      "Epoch:\t 98 Val Loss:\t 0.03453909146967808\n"
     ]
    },
    {
     "name": "stderr",
     "output_type": "stream",
     "text": [
      "[I 2025-06-02 16:19:40,821] Trial 1 finished with value: 0.03453909146967808 and parameters: {'lr': 1e-05, 'weight_decay': 1e-06, 'scheduler_factor': 0.1, 'scheduler_patience': 20, 'batch_size': 256, 'dropout': 0.05, 'hidden_dims': 1024}. Best is trial 0 with value: 0.03037569139354334.\n"
     ]
    },
    {
     "name": "stdout",
     "output_type": "stream",
     "text": [
      "Epoch:\t 99 Val Loss:\t 0.03456766357184223\n",
      "Epoch:\t 0 Val Loss:\t 0.03083731544763447\n",
      "Epoch:\t 1 Val Loss:\t 0.03063590334968846\n",
      "Epoch:\t 2 Val Loss:\t 0.030351037485188928\n",
      "Epoch:\t 3 Val Loss:\t 0.03026842928484811\n",
      "Epoch:\t 4 Val Loss:\t 0.030283445804570326\n",
      "Epoch:\t 5 Val Loss:\t 0.030344904437003942\n",
      "Epoch:\t 6 Val Loss:\t 0.030279253360777258\n",
      "Epoch:\t 7 Val Loss:\t 0.03028625260617318\n",
      "Epoch:\t 8 Val Loss:\t 0.030273156085237563\n",
      "Epoch:\t 9 Val Loss:\t 0.030261775551912014\n",
      "Epoch:\t 10 Val Loss:\t 0.030245460087393126\n",
      "Epoch:\t 11 Val Loss:\t 0.030271151184486023\n",
      "Epoch:\t 12 Val Loss:\t 0.03027459029063475\n",
      "Epoch:\t 13 Val Loss:\t 0.03023987608187277\n",
      "Epoch:\t 14 Val Loss:\t 0.030251466832702505\n",
      "Epoch:\t 15 Val Loss:\t 0.03027950393061401\n",
      "Epoch:\t 16 Val Loss:\t 0.030261883443429075\n",
      "Epoch:\t 17 Val Loss:\t 0.030254270645409656\n",
      "Epoch:\t 18 Val Loss:\t 0.030247056074052116\n",
      "Epoch:\t 19 Val Loss:\t 0.03025917288994397\n",
      "Epoch:\t 20 Val Loss:\t 0.030203559471006\n",
      "Epoch:\t 21 Val Loss:\t 0.030224745385139678\n",
      "Epoch:\t 22 Val Loss:\t 0.030200465415763492\n",
      "Epoch:\t 23 Val Loss:\t 0.030220043701332574\n",
      "Epoch:\t 24 Val Loss:\t 0.030212433112496936\n",
      "Epoch:\t 25 Val Loss:\t 0.030213166392724228\n",
      "Epoch:\t 26 Val Loss:\t 0.03022317064787114\n",
      "Epoch:\t 27 Val Loss:\t 0.030220928005187053\n",
      "Epoch:\t 28 Val Loss:\t 0.030222618050198127\n",
      "Epoch:\t 29 Val Loss:\t 0.030208730983526208\n",
      "Epoch:\t 30 Val Loss:\t 0.030206430961811838\n",
      "Epoch:\t 31 Val Loss:\t 0.030211104867261415\n"
     ]
    },
    {
     "name": "stderr",
     "output_type": "stream",
     "text": [
      "[I 2025-06-02 16:22:31,021] Trial 2 finished with value: 0.030200465415763492 and parameters: {'lr': 0.0001, 'weight_decay': 0.0001, 'scheduler_factor': 0.1, 'scheduler_patience': 5, 'batch_size': 64, 'dropout': 0.15, 'hidden_dims': 512}. Best is trial 2 with value: 0.030200465415763492.\n"
     ]
    },
    {
     "name": "stdout",
     "output_type": "stream",
     "text": [
      "Epoch:\t 32 Val Loss:\t 0.0302104541618129\n",
      "Epoch:\t 0 Val Loss:\t 0.03037714066894128\n",
      "Epoch:\t 1 Val Loss:\t 0.030373923032483163\n",
      "Epoch:\t 2 Val Loss:\t 0.0303528804475327\n",
      "Epoch:\t 3 Val Loss:\t 0.030348870462876622\n",
      "Epoch:\t 4 Val Loss:\t 0.03037851714206092\n",
      "Epoch:\t 5 Val Loss:\t 0.030388627242370826\n",
      "Epoch:\t 6 Val Loss:\t 0.030293723790934545\n",
      "Epoch:\t 7 Val Loss:\t 0.030309171799702436\n",
      "Epoch:\t 8 Val Loss:\t 0.0303005246912784\n",
      "Epoch:\t 9 Val Loss:\t 0.030267319571659002\n",
      "Epoch:\t 10 Val Loss:\t 0.030291044145062687\n",
      "Epoch:\t 11 Val Loss:\t 0.030289815679831463\n",
      "Epoch:\t 12 Val Loss:\t 0.030262344120101314\n",
      "Epoch:\t 13 Val Loss:\t 0.03027405841020407\n",
      "Epoch:\t 14 Val Loss:\t 0.030264723814047607\n",
      "Epoch:\t 15 Val Loss:\t 0.030287003538348685\n",
      "Epoch:\t 16 Val Loss:\t 0.030272783342457036\n",
      "Epoch:\t 17 Val Loss:\t 0.030276468258401096\n",
      "Epoch:\t 18 Val Loss:\t 0.030299583960125238\n",
      "Epoch:\t 19 Val Loss:\t 0.030296136228585263\n",
      "Epoch:\t 20 Val Loss:\t 0.030307988897809415\n",
      "Epoch:\t 21 Val Loss:\t 0.030326180801204583\n"
     ]
    },
    {
     "name": "stderr",
     "output_type": "stream",
     "text": [
      "[I 2025-06-02 16:30:11,155] Trial 3 finished with value: 0.030262344120101314 and parameters: {'lr': 0.001, 'weight_decay': 1e-05, 'scheduler_factor': 0.5, 'scheduler_patience': 1, 'batch_size': 16, 'dropout': 0.1, 'hidden_dims': 128}. Best is trial 2 with value: 0.030200465415763492.\n"
     ]
    },
    {
     "name": "stdout",
     "output_type": "stream",
     "text": [
      "Epoch:\t 22 Val Loss:\t 0.030331006095610503\n",
      "Epoch:\t 0 Val Loss:\t 0.05798836198115344\n",
      "Epoch:\t 1 Val Loss:\t 0.04693637354188585\n",
      "Epoch:\t 2 Val Loss:\t 0.044303352330451\n",
      "Epoch:\t 3 Val Loss:\t 0.04395865119226386\n",
      "Epoch:\t 4 Val Loss:\t 0.04296049044660267\n",
      "Epoch:\t 5 Val Loss:\t 0.04255861374623275\n",
      "Epoch:\t 6 Val Loss:\t 0.042425459894952326\n",
      "Epoch:\t 7 Val Loss:\t 0.041870995777549214\n",
      "Epoch:\t 8 Val Loss:\t 0.04077208420234497\n",
      "Epoch:\t 9 Val Loss:\t 0.040676178224422106\n",
      "Epoch:\t 10 Val Loss:\t 0.04051758489377261\n",
      "Epoch:\t 11 Val Loss:\t 0.03989441078316709\n",
      "Epoch:\t 12 Val Loss:\t 0.03920627177617003\n",
      "Epoch:\t 13 Val Loss:\t 0.039071860966337774\n",
      "Epoch:\t 14 Val Loss:\t 0.039172469806041776\n",
      "Epoch:\t 15 Val Loss:\t 0.03914669757375639\n",
      "Epoch:\t 16 Val Loss:\t 0.03908482993268293\n",
      "Epoch:\t 17 Val Loss:\t 0.03901441465220574\n",
      "Epoch:\t 18 Val Loss:\t 0.03856755352643061\n",
      "Epoch:\t 19 Val Loss:\t 0.038480663280975144\n",
      "Epoch:\t 20 Val Loss:\t 0.038133497802797046\n",
      "Epoch:\t 21 Val Loss:\t 0.03795344694594992\n",
      "Epoch:\t 22 Val Loss:\t 0.038476955400120395\n",
      "Epoch:\t 23 Val Loss:\t 0.03789109903240498\n",
      "Epoch:\t 24 Val Loss:\t 0.03797374785945127\n",
      "Epoch:\t 25 Val Loss:\t 0.03783308737654709\n",
      "Epoch:\t 26 Val Loss:\t 0.037388922227537244\n",
      "Epoch:\t 27 Val Loss:\t 0.03742122080754037\n",
      "Epoch:\t 28 Val Loss:\t 0.03773655457803922\n",
      "Epoch:\t 29 Val Loss:\t 0.03746350567942391\n",
      "Epoch:\t 30 Val Loss:\t 0.03737239033264427\n",
      "Epoch:\t 31 Val Loss:\t 0.03724077625968573\n",
      "Epoch:\t 32 Val Loss:\t 0.03758118115104265\n",
      "Epoch:\t 33 Val Loss:\t 0.037120941017988185\n",
      "Epoch:\t 34 Val Loss:\t 0.03680973938748202\n",
      "Epoch:\t 35 Val Loss:\t 0.03705969813220655\n",
      "Epoch:\t 36 Val Loss:\t 0.03711266542591365\n",
      "Epoch:\t 37 Val Loss:\t 0.0368828626259627\n",
      "Epoch:\t 38 Val Loss:\t 0.03677289387645236\n",
      "Epoch:\t 39 Val Loss:\t 0.03699006049208413\n",
      "Epoch:\t 40 Val Loss:\t 0.03685531295773274\n",
      "Epoch:\t 41 Val Loss:\t 0.036625469344170054\n",
      "Epoch:\t 42 Val Loss:\t 0.036695094700761634\n",
      "Epoch:\t 43 Val Loss:\t 0.03658587386802905\n",
      "Epoch:\t 44 Val Loss:\t 0.03663963901203337\n",
      "Epoch:\t 45 Val Loss:\t 0.03654068675018329\n",
      "Epoch:\t 46 Val Loss:\t 0.03657643073631226\n",
      "Epoch:\t 47 Val Loss:\t 0.03668074493254086\n",
      "Epoch:\t 48 Val Loss:\t 0.03645010386016858\n",
      "Epoch:\t 49 Val Loss:\t 0.03629933882850286\n",
      "Epoch:\t 50 Val Loss:\t 0.036227245248019686\n",
      "Epoch:\t 51 Val Loss:\t 0.03597811434064915\n",
      "Epoch:\t 52 Val Loss:\t 0.03640242321989599\n",
      "Epoch:\t 53 Val Loss:\t 0.035866691756853954\n",
      "Epoch:\t 54 Val Loss:\t 0.036233020657526066\n",
      "Epoch:\t 55 Val Loss:\t 0.0359331328657694\n",
      "Epoch:\t 56 Val Loss:\t 0.036052741210715875\n",
      "Epoch:\t 57 Val Loss:\t 0.03623775069187021\n",
      "Epoch:\t 58 Val Loss:\t 0.035892159929019465\n",
      "Epoch:\t 59 Val Loss:\t 0.03594946839770724\n",
      "Epoch:\t 60 Val Loss:\t 0.035821673176858734\n",
      "Epoch:\t 61 Val Loss:\t 0.035742071166297185\n",
      "Epoch:\t 62 Val Loss:\t 0.03580825532758745\n",
      "Epoch:\t 63 Val Loss:\t 0.03590275512710049\n",
      "Epoch:\t 64 Val Loss:\t 0.03600541503282282\n",
      "Epoch:\t 65 Val Loss:\t 0.03571279872148375\n",
      "Epoch:\t 66 Val Loss:\t 0.035715779753865015\n",
      "Epoch:\t 67 Val Loss:\t 0.035549183642039\n",
      "Epoch:\t 68 Val Loss:\t 0.035707086282893284\n",
      "Epoch:\t 69 Val Loss:\t 0.035519805706050706\n",
      "Epoch:\t 70 Val Loss:\t 0.03584289389819749\n",
      "Epoch:\t 71 Val Loss:\t 0.035514833634759185\n",
      "Epoch:\t 72 Val Loss:\t 0.03555550274799855\n",
      "Epoch:\t 73 Val Loss:\t 0.03547655824483026\n",
      "Epoch:\t 74 Val Loss:\t 0.035328571623267\n",
      "Epoch:\t 75 Val Loss:\t 0.03554561379658772\n",
      "Epoch:\t 76 Val Loss:\t 0.035335395352303255\n",
      "Epoch:\t 77 Val Loss:\t 0.035377883573460736\n",
      "Epoch:\t 78 Val Loss:\t 0.03520030320471441\n",
      "Epoch:\t 79 Val Loss:\t 0.035098663123148736\n",
      "Epoch:\t 80 Val Loss:\t 0.03536748496859973\n",
      "Epoch:\t 81 Val Loss:\t 0.035038149697872924\n",
      "Epoch:\t 82 Val Loss:\t 0.035311415915041\n",
      "Epoch:\t 83 Val Loss:\t 0.03502612892240495\n",
      "Epoch:\t 84 Val Loss:\t 0.03514903233924172\n",
      "Epoch:\t 85 Val Loss:\t 0.035051266292747886\n",
      "Epoch:\t 86 Val Loss:\t 0.03520312333120131\n",
      "Epoch:\t 87 Val Loss:\t 0.035031856307687105\n",
      "Epoch:\t 88 Val Loss:\t 0.03501770257549758\n",
      "Epoch:\t 89 Val Loss:\t 0.03500399371022047\n",
      "Epoch:\t 90 Val Loss:\t 0.034925310340870645\n",
      "Epoch:\t 91 Val Loss:\t 0.03481735595643962\n",
      "Epoch:\t 92 Val Loss:\t 0.034870869389945464\n",
      "Epoch:\t 93 Val Loss:\t 0.03494010524993322\n",
      "Epoch:\t 94 Val Loss:\t 0.03496076276126903\n",
      "Epoch:\t 95 Val Loss:\t 0.034867943970453306\n",
      "Epoch:\t 96 Val Loss:\t 0.03485450826762936\n",
      "Epoch:\t 97 Val Loss:\t 0.03482674290165768\n",
      "Epoch:\t 98 Val Loss:\t 0.034896296539879995\n"
     ]
    },
    {
     "name": "stderr",
     "output_type": "stream",
     "text": [
      "[I 2025-06-02 17:02:48,930] Trial 4 finished with value: 0.03478427105804372 and parameters: {'lr': 1e-06, 'weight_decay': 1e-06, 'scheduler_factor': 0.3, 'scheduler_patience': 20, 'batch_size': 16, 'dropout': 0.15, 'hidden_dims': 64}. Best is trial 2 with value: 0.030200465415763492.\n"
     ]
    },
    {
     "name": "stdout",
     "output_type": "stream",
     "text": [
      "Epoch:\t 99 Val Loss:\t 0.03478427105804372\n"
     ]
    },
    {
     "name": "stderr",
     "output_type": "stream",
     "text": [
      "[I 2025-06-02 17:02:54,294] Trial 5 pruned. \n"
     ]
    },
    {
     "name": "stdout",
     "output_type": "stream",
     "text": [
      "Epoch:\t 0 Val Loss:\t 0.03278456547065267\n"
     ]
    },
    {
     "name": "stderr",
     "output_type": "stream",
     "text": [
      "[I 2025-06-02 17:02:56,806] Trial 6 pruned. \n"
     ]
    },
    {
     "name": "stdout",
     "output_type": "stream",
     "text": [
      "Epoch:\t 0 Val Loss:\t 0.10592008901945647\n"
     ]
    },
    {
     "name": "stderr",
     "output_type": "stream",
     "text": [
      "[I 2025-06-02 17:03:00,009] Trial 7 pruned. \n"
     ]
    },
    {
     "name": "stdout",
     "output_type": "stream",
     "text": [
      "Epoch:\t 0 Val Loss:\t 0.05133352908836513\n"
     ]
    },
    {
     "name": "stderr",
     "output_type": "stream",
     "text": [
      "[I 2025-06-02 17:03:07,853] Trial 8 pruned. \n"
     ]
    },
    {
     "name": "stdout",
     "output_type": "stream",
     "text": [
      "Epoch:\t 0 Val Loss:\t 0.03099154026988513\n",
      "Epoch:\t 0 Val Loss:\t 0.030376220944174602\n",
      "Epoch:\t 1 Val Loss:\t 0.030361290743057264\n",
      "Epoch:\t 2 Val Loss:\t 0.030393599393518933\n",
      "Epoch:\t 3 Val Loss:\t 0.03042702803785881\n",
      "Epoch:\t 4 Val Loss:\t 0.030410342743653163\n",
      "Epoch:\t 5 Val Loss:\t 0.030419502021628245\n",
      "Epoch:\t 6 Val Loss:\t 0.030401944262042856\n",
      "Epoch:\t 7 Val Loss:\t 0.030355841525341497\n",
      "Epoch:\t 8 Val Loss:\t 0.030414420274201402\n",
      "Epoch:\t 9 Val Loss:\t 0.030421191004267857\n",
      "Epoch:\t 10 Val Loss:\t 0.03036435190917114\n",
      "Epoch:\t 11 Val Loss:\t 0.03039337412407846\n",
      "Epoch:\t 12 Val Loss:\t 0.030401152404650064\n",
      "Epoch:\t 13 Val Loss:\t 0.030425202029713848\n",
      "Epoch:\t 14 Val Loss:\t 0.03030086610388507\n",
      "Epoch:\t 15 Val Loss:\t 0.030293611633213143\n",
      "Epoch:\t 16 Val Loss:\t 0.030280519542949542\n",
      "Epoch:\t 17 Val Loss:\t 0.03033191148628201\n",
      "Epoch:\t 18 Val Loss:\t 0.03028177986905146\n",
      "Epoch:\t 19 Val Loss:\t 0.030322634771968542\n",
      "Epoch:\t 20 Val Loss:\t 0.03027721064204102\n",
      "Epoch:\t 21 Val Loss:\t 0.030315025226716818\n",
      "Epoch:\t 22 Val Loss:\t 0.030317993003450467\n",
      "Epoch:\t 23 Val Loss:\t 0.03027954554397547\n",
      "Epoch:\t 24 Val Loss:\t 0.030331853316741042\n",
      "Epoch:\t 25 Val Loss:\t 0.03028438071664991\n",
      "Epoch:\t 26 Val Loss:\t 0.030312259521568567\n",
      "Epoch:\t 27 Val Loss:\t 0.030236508177046217\n",
      "Epoch:\t 28 Val Loss:\t 0.030259263281670085\n",
      "Epoch:\t 29 Val Loss:\t 0.030285088100244873\n",
      "Epoch:\t 30 Val Loss:\t 0.03025199504895061\n",
      "Epoch:\t 31 Val Loss:\t 0.03025044525045166\n",
      "Epoch:\t 32 Val Loss:\t 0.030275578528379553\n",
      "Epoch:\t 33 Val Loss:\t 0.03027026748724198\n",
      "Epoch:\t 34 Val Loss:\t 0.03026690911112972\n",
      "Epoch:\t 35 Val Loss:\t 0.030244084690991987\n",
      "Epoch:\t 36 Val Loss:\t 0.03025388316719241\n"
     ]
    },
    {
     "name": "stderr",
     "output_type": "stream",
     "text": [
      "[I 2025-06-02 17:05:02,604] Trial 9 finished with value: 0.030236508177046217 and parameters: {'lr': 0.001, 'weight_decay': 0.0001, 'scheduler_factor': 0.5, 'scheduler_patience': 5, 'batch_size': 128, 'dropout': 0.15, 'hidden_dims': 64}. Best is trial 2 with value: 0.030200465415763492.\n"
     ]
    },
    {
     "name": "stdout",
     "output_type": "stream",
     "text": [
      "Epoch:\t 37 Val Loss:\t 0.030253397288880227\n"
     ]
    },
    {
     "name": "stderr",
     "output_type": "stream",
     "text": [
      "[I 2025-06-02 17:05:07,853] Trial 10 pruned. \n"
     ]
    },
    {
     "name": "stdout",
     "output_type": "stream",
     "text": [
      "Epoch:\t 0 Val Loss:\t 0.03103261644733172\n",
      "Epoch:\t 0 Val Loss:\t 0.030479682465928516\n",
      "Epoch:\t 1 Val Loss:\t 0.030431031774173386\n",
      "Epoch:\t 2 Val Loss:\t 0.030386618561265365\n",
      "Epoch:\t 3 Val Loss:\t 0.030536395221063644\n",
      "Epoch:\t 4 Val Loss:\t 0.030412346668792573\n",
      "Epoch:\t 5 Val Loss:\t 0.030370651999933954\n",
      "Epoch:\t 6 Val Loss:\t 0.03040431551994041\n",
      "Epoch:\t 7 Val Loss:\t 0.03041193395386634\n",
      "Epoch:\t 8 Val Loss:\t 0.0304267733547699\n",
      "Epoch:\t 9 Val Loss:\t 0.030392232128265008\n",
      "Epoch:\t 10 Val Loss:\t 0.03043144571790726\n",
      "Epoch:\t 11 Val Loss:\t 0.030390541758358383\n",
      "Epoch:\t 12 Val Loss:\t 0.030296057053089714\n",
      "Epoch:\t 13 Val Loss:\t 0.03030543008977682\n",
      "Epoch:\t 14 Val Loss:\t 0.030273091173573827\n",
      "Epoch:\t 15 Val Loss:\t 0.030313755841522117\n",
      "Epoch:\t 16 Val Loss:\t 0.030319935482228548\n",
      "Epoch:\t 17 Val Loss:\t 0.03032113928317928\n",
      "Epoch:\t 18 Val Loss:\t 0.030283573990983716\n",
      "Epoch:\t 19 Val Loss:\t 0.030260537357860353\n",
      "Epoch:\t 20 Val Loss:\t 0.030305588689676068\n",
      "Epoch:\t 21 Val Loss:\t 0.03033788064210698\n",
      "Epoch:\t 22 Val Loss:\t 0.030304146135288677\n",
      "Epoch:\t 23 Val Loss:\t 0.030341008899323823\n",
      "Epoch:\t 24 Val Loss:\t 0.030295504385644323\n",
      "Epoch:\t 25 Val Loss:\t 0.030291592830830938\n",
      "Epoch:\t 26 Val Loss:\t 0.03025063147011959\n",
      "Epoch:\t 27 Val Loss:\t 0.030226151191331985\n",
      "Epoch:\t 28 Val Loss:\t 0.030261925527793065\n",
      "Epoch:\t 29 Val Loss:\t 0.030256123615377977\n",
      "Epoch:\t 30 Val Loss:\t 0.030266183104073065\n",
      "Epoch:\t 31 Val Loss:\t 0.030238482422445024\n",
      "Epoch:\t 32 Val Loss:\t 0.03027453228986761\n",
      "Epoch:\t 33 Val Loss:\t 0.030245852646198165\n",
      "Epoch:\t 34 Val Loss:\t 0.030227306871458193\n",
      "Epoch:\t 35 Val Loss:\t 0.030251585900855294\n",
      "Epoch:\t 36 Val Loss:\t 0.030230402829869985\n"
     ]
    },
    {
     "name": "stderr",
     "output_type": "stream",
     "text": [
      "[I 2025-06-02 17:07:02,463] Trial 11 finished with value: 0.030226151191331985 and parameters: {'lr': 0.001, 'weight_decay': 0.0001, 'scheduler_factor': 0.5, 'scheduler_patience': 5, 'batch_size': 128, 'dropout': 0.15, 'hidden_dims': 256}. Best is trial 2 with value: 0.030200465415763492.\n"
     ]
    },
    {
     "name": "stdout",
     "output_type": "stream",
     "text": [
      "Epoch:\t 37 Val Loss:\t 0.030251349491421522\n"
     ]
    },
    {
     "name": "stderr",
     "output_type": "stream",
     "text": [
      "[I 2025-06-02 17:07:06,958] Trial 12 pruned. \n"
     ]
    },
    {
     "name": "stdout",
     "output_type": "stream",
     "text": [
      "Epoch:\t 0 Val Loss:\t 0.04071181661538248\n",
      "Epoch:\t 0 Val Loss:\t 0.030415015444637875\n",
      "Epoch:\t 1 Val Loss:\t 0.030509915340386846\n"
     ]
    },
    {
     "name": "stderr",
     "output_type": "stream",
     "text": [
      "[I 2025-06-02 17:07:16,066] Trial 13 pruned. \n"
     ]
    },
    {
     "name": "stdout",
     "output_type": "stream",
     "text": [
      "Epoch:\t 2 Val Loss:\t 0.030402538356151473\n",
      "Epoch:\t 0 Val Loss:\t 0.030520989284002983\n"
     ]
    },
    {
     "name": "stderr",
     "output_type": "stream",
     "text": [
      "[I 2025-06-02 17:07:25,640] Trial 14 pruned. \n"
     ]
    },
    {
     "name": "stdout",
     "output_type": "stream",
     "text": [
      "Epoch:\t 1 Val Loss:\t 0.030726039039797082\n",
      "Epoch:\t 0 Val Loss:\t 0.030542854216685265\n",
      "Epoch:\t 1 Val Loss:\t 0.03038781186203991\n",
      "Epoch:\t 2 Val Loss:\t 0.03041732186574136\n",
      "Epoch:\t 3 Val Loss:\t 0.030378864946540438\n",
      "Epoch:\t 4 Val Loss:\t 0.030378967714922003\n",
      "Epoch:\t 5 Val Loss:\t 0.03036034098238853\n",
      "Epoch:\t 6 Val Loss:\t 0.0303416827403571\n",
      "Epoch:\t 7 Val Loss:\t 0.030426520767530506\n",
      "Epoch:\t 8 Val Loss:\t 0.03041906590853036\n",
      "Epoch:\t 9 Val Loss:\t 0.030388851920636086\n",
      "Epoch:\t 10 Val Loss:\t 0.030355033573857472\n",
      "Epoch:\t 11 Val Loss:\t 0.030460410011426978\n",
      "Epoch:\t 12 Val Loss:\t 0.030372175269941074\n",
      "Epoch:\t 13 Val Loss:\t 0.03031940928646879\n"
     ]
    },
    {
     "name": "stderr",
     "output_type": "stream",
     "text": [
      "[I 2025-06-02 17:08:11,654] Trial 15 pruned. \n"
     ]
    },
    {
     "name": "stdout",
     "output_type": "stream",
     "text": [
      "Epoch:\t 14 Val Loss:\t 0.03035566746817833\n"
     ]
    },
    {
     "name": "stderr",
     "output_type": "stream",
     "text": [
      "[I 2025-06-02 17:08:16,728] Trial 16 pruned. \n"
     ]
    },
    {
     "name": "stdout",
     "output_type": "stream",
     "text": [
      "Epoch:\t 0 Val Loss:\t 0.030841788755014313\n"
     ]
    },
    {
     "name": "stderr",
     "output_type": "stream",
     "text": [
      "[I 2025-06-02 17:08:19,880] Trial 17 pruned. \n"
     ]
    },
    {
     "name": "stdout",
     "output_type": "stream",
     "text": [
      "Epoch:\t 0 Val Loss:\t 0.04491938837171558\n"
     ]
    },
    {
     "name": "stderr",
     "output_type": "stream",
     "text": [
      "[I 2025-06-02 17:08:22,468] Trial 18 pruned. \n"
     ]
    },
    {
     "name": "stdout",
     "output_type": "stream",
     "text": [
      "Epoch:\t 0 Val Loss:\t 0.03840426644280409\n"
     ]
    },
    {
     "name": "stderr",
     "output_type": "stream",
     "text": [
      "[I 2025-06-02 17:08:30,104] Trial 19 pruned. \n"
     ]
    },
    {
     "name": "stdout",
     "output_type": "stream",
     "text": [
      "Epoch:\t 0 Val Loss:\t 0.03276767917574647\n",
      "Epoch:\t 0 Val Loss:\t 0.030409580001063037\n",
      "Epoch:\t 1 Val Loss:\t 0.030319544797017945\n",
      "Epoch:\t 2 Val Loss:\t 0.030272072397562074\n",
      "Epoch:\t 3 Val Loss:\t 0.03027719723262629\n",
      "Epoch:\t 4 Val Loss:\t 0.03026085171290227\n",
      "Epoch:\t 5 Val Loss:\t 0.030251927101140066\n",
      "Epoch:\t 6 Val Loss:\t 0.03027174194039043\n",
      "Epoch:\t 7 Val Loss:\t 0.030255602552338858\n",
      "Epoch:\t 8 Val Loss:\t 0.030262447075936602\n",
      "Epoch:\t 9 Val Loss:\t 0.03032517266718951\n",
      "Epoch:\t 10 Val Loss:\t 0.03025251023838585\n",
      "Epoch:\t 11 Val Loss:\t 0.030274401294402262\n",
      "Epoch:\t 12 Val Loss:\t 0.030226317411421105\n",
      "Epoch:\t 13 Val Loss:\t 0.030226753544502008\n",
      "Epoch:\t 14 Val Loss:\t 0.03022623323411663\n",
      "Epoch:\t 15 Val Loss:\t 0.03025666808519543\n",
      "Epoch:\t 16 Val Loss:\t 0.03021132620545994\n",
      "Epoch:\t 17 Val Loss:\t 0.03023537523422015\n",
      "Epoch:\t 18 Val Loss:\t 0.030224644603624572\n",
      "Epoch:\t 19 Val Loss:\t 0.030226302145269536\n",
      "Epoch:\t 20 Val Loss:\t 0.03020942419658405\n",
      "Epoch:\t 21 Val Loss:\t 0.030234512705613392\n",
      "Epoch:\t 22 Val Loss:\t 0.030243021131317188\n",
      "Epoch:\t 23 Val Loss:\t 0.03021957650347765\n",
      "Epoch:\t 24 Val Loss:\t 0.03022741754577564\n",
      "Epoch:\t 25 Val Loss:\t 0.03022121327202017\n",
      "Epoch:\t 26 Val Loss:\t 0.03023717370618712\n",
      "Epoch:\t 27 Val Loss:\t 0.030213269605662393\n",
      "Epoch:\t 28 Val Loss:\t 0.03022060341732974\n",
      "Epoch:\t 29 Val Loss:\t 0.030239530512661882\n"
     ]
    },
    {
     "name": "stderr",
     "output_type": "stream",
     "text": [
      "[I 2025-06-02 17:18:55,775] Trial 20 finished with value: 0.03020942419658405 and parameters: {'lr': 0.0001, 'weight_decay': 0.0001, 'scheduler_factor': 0.1, 'scheduler_patience': 5, 'batch_size': 16, 'dropout': 0.15, 'hidden_dims': 512}. Best is trial 2 with value: 0.030200465415763492.\n"
     ]
    },
    {
     "name": "stdout",
     "output_type": "stream",
     "text": [
      "Epoch:\t 30 Val Loss:\t 0.030235865903319278\n",
      "Epoch:\t 0 Val Loss:\t 0.030343100558455113\n",
      "Epoch:\t 1 Val Loss:\t 0.030278860383665746\n",
      "Epoch:\t 2 Val Loss:\t 0.03031587904922633\n",
      "Epoch:\t 3 Val Loss:\t 0.03029187107497897\n",
      "Epoch:\t 4 Val Loss:\t 0.030270275807460095\n",
      "Epoch:\t 5 Val Loss:\t 0.0303103148204259\n",
      "Epoch:\t 6 Val Loss:\t 0.03029069164478631\n",
      "Epoch:\t 7 Val Loss:\t 0.030292778417909942\n",
      "Epoch:\t 8 Val Loss:\t 0.030290901049243094\n",
      "Epoch:\t 9 Val Loss:\t 0.030296501875046115\n",
      "Epoch:\t 10 Val Loss:\t 0.030254353618910237\n",
      "Epoch:\t 11 Val Loss:\t 0.030307019667551026\n",
      "Epoch:\t 12 Val Loss:\t 0.030317558467901677\n",
      "Epoch:\t 13 Val Loss:\t 0.030268031460378767\n",
      "Epoch:\t 14 Val Loss:\t 0.03028330521143419\n",
      "Epoch:\t 15 Val Loss:\t 0.030260813228250076\n",
      "Epoch:\t 16 Val Loss:\t 0.030258473727096002\n",
      "Epoch:\t 17 Val Loss:\t 0.030224120363061664\n",
      "Epoch:\t 18 Val Loss:\t 0.03022234744695188\n",
      "Epoch:\t 19 Val Loss:\t 0.030232833073467188\n",
      "Epoch:\t 20 Val Loss:\t 0.03022311786064653\n",
      "Epoch:\t 21 Val Loss:\t 0.03023715139363141\n",
      "Epoch:\t 22 Val Loss:\t 0.030224886492411233\n",
      "Epoch:\t 23 Val Loss:\t 0.03023293645848339\n",
      "Epoch:\t 24 Val Loss:\t 0.030215850965373863\n",
      "Epoch:\t 25 Val Loss:\t 0.030211891825406983\n",
      "Epoch:\t 26 Val Loss:\t 0.03021250945946791\n",
      "Epoch:\t 27 Val Loss:\t 0.03027129531906109\n",
      "Epoch:\t 28 Val Loss:\t 0.030225327643736574\n",
      "Epoch:\t 29 Val Loss:\t 0.03021437689185029\n",
      "Epoch:\t 30 Val Loss:\t 0.030208364586237435\n",
      "Epoch:\t 31 Val Loss:\t 0.030208984169339495\n",
      "Epoch:\t 32 Val Loss:\t 0.030222528341480617\n",
      "Epoch:\t 33 Val Loss:\t 0.030225480239568912\n",
      "Epoch:\t 34 Val Loss:\t 0.03024919498902157\n",
      "Epoch:\t 35 Val Loss:\t 0.030226569386892152\n",
      "Epoch:\t 36 Val Loss:\t 0.030225593404125246\n",
      "Epoch:\t 37 Val Loss:\t 0.03021620612433268\n",
      "Epoch:\t 38 Val Loss:\t 0.03022714395264876\n",
      "Epoch:\t 39 Val Loss:\t 0.030217237634339113\n"
     ]
    },
    {
     "name": "stderr",
     "output_type": "stream",
     "text": [
      "[I 2025-06-02 17:33:01,364] Trial 21 finished with value: 0.030208364586237435 and parameters: {'lr': 0.0001, 'weight_decay': 0.0001, 'scheduler_factor': 0.1, 'scheduler_patience': 5, 'batch_size': 16, 'dropout': 0.15, 'hidden_dims': 512}. Best is trial 2 with value: 0.030200465415763492.\n"
     ]
    },
    {
     "name": "stdout",
     "output_type": "stream",
     "text": [
      "Epoch:\t 40 Val Loss:\t 0.03023279041754975\n",
      "Epoch:\t 0 Val Loss:\t 0.030343427020325685\n",
      "Epoch:\t 1 Val Loss:\t 0.03035975501136834\n",
      "Epoch:\t 2 Val Loss:\t 0.030287013246234267\n",
      "Epoch:\t 3 Val Loss:\t 0.030277247130318482\n",
      "Epoch:\t 4 Val Loss:\t 0.03025874427322502\n",
      "Epoch:\t 5 Val Loss:\t 0.03027255668418127\n",
      "Epoch:\t 6 Val Loss:\t 0.030270214790436924\n",
      "Epoch:\t 7 Val Loss:\t 0.030287080673354227\n",
      "Epoch:\t 8 Val Loss:\t 0.030265095627091735\n",
      "Epoch:\t 9 Val Loss:\t 0.030291012346675868\n",
      "Epoch:\t 10 Val Loss:\t 0.030271152351622567\n",
      "Epoch:\t 11 Val Loss:\t 0.03024191610038167\n",
      "Epoch:\t 12 Val Loss:\t 0.030225081227464513\n",
      "Epoch:\t 13 Val Loss:\t 0.03021889453463852\n",
      "Epoch:\t 14 Val Loss:\t 0.030221738362734483\n",
      "Epoch:\t 15 Val Loss:\t 0.030224404701012526\n",
      "Epoch:\t 16 Val Loss:\t 0.030220690577628138\n",
      "Epoch:\t 17 Val Loss:\t 0.03021772397598847\n",
      "Epoch:\t 18 Val Loss:\t 0.030209967389589344\n",
      "Epoch:\t 19 Val Loss:\t 0.030238018907640937\n",
      "Epoch:\t 20 Val Loss:\t 0.030236476859885043\n",
      "Epoch:\t 21 Val Loss:\t 0.030220671500350092\n",
      "Epoch:\t 22 Val Loss:\t 0.030216614545015622\n",
      "Epoch:\t 23 Val Loss:\t 0.030228892036724297\n",
      "Epoch:\t 24 Val Loss:\t 0.03023053062238147\n",
      "Epoch:\t 25 Val Loss:\t 0.03020794605834406\n",
      "Epoch:\t 26 Val Loss:\t 0.030224180522282814\n",
      "Epoch:\t 27 Val Loss:\t 0.03022703253560513\n",
      "Epoch:\t 28 Val Loss:\t 0.03022221145724855\n",
      "Epoch:\t 29 Val Loss:\t 0.030233949135471696\n",
      "Epoch:\t 30 Val Loss:\t 0.03023309658364169\n",
      "Epoch:\t 31 Val Loss:\t 0.030218404599625347\n",
      "Epoch:\t 32 Val Loss:\t 0.03020950465848805\n",
      "Epoch:\t 33 Val Loss:\t 0.030233542344183406\n",
      "Epoch:\t 34 Val Loss:\t 0.030231426388997097\n"
     ]
    },
    {
     "name": "stderr",
     "output_type": "stream",
     "text": [
      "[I 2025-06-02 17:45:21,470] Trial 22 finished with value: 0.03020794605834406 and parameters: {'lr': 0.0001, 'weight_decay': 0.0001, 'scheduler_factor': 0.1, 'scheduler_patience': 5, 'batch_size': 16, 'dropout': 0.15, 'hidden_dims': 512}. Best is trial 2 with value: 0.030200465415763492.\n"
     ]
    },
    {
     "name": "stdout",
     "output_type": "stream",
     "text": [
      "Epoch:\t 35 Val Loss:\t 0.03022687658992249\n",
      "Epoch:\t 0 Val Loss:\t 0.03037734269297922\n",
      "Epoch:\t 1 Val Loss:\t 0.030287595390392746\n",
      "Epoch:\t 2 Val Loss:\t 0.030273190650628425\n",
      "Epoch:\t 3 Val Loss:\t 0.030234521901280887\n",
      "Epoch:\t 4 Val Loss:\t 0.03027374250506428\n",
      "Epoch:\t 5 Val Loss:\t 0.030291684578706353\n",
      "Epoch:\t 6 Val Loss:\t 0.030289353432958195\n",
      "Epoch:\t 7 Val Loss:\t 0.030301972768941053\n",
      "Epoch:\t 8 Val Loss:\t 0.030294725306420186\n",
      "Epoch:\t 9 Val Loss:\t 0.030266703208160172\n",
      "Epoch:\t 10 Val Loss:\t 0.030226005154505648\n",
      "Epoch:\t 11 Val Loss:\t 0.030247380186720976\n",
      "Epoch:\t 12 Val Loss:\t 0.030261302618390093\n",
      "Epoch:\t 13 Val Loss:\t 0.03021193256381876\n",
      "Epoch:\t 14 Val Loss:\t 0.0302334347591655\n",
      "Epoch:\t 15 Val Loss:\t 0.03024104637198525\n",
      "Epoch:\t 16 Val Loss:\t 0.030223181568447405\n",
      "Epoch:\t 17 Val Loss:\t 0.030233481137387632\n",
      "Epoch:\t 18 Val Loss:\t 0.03023570039753857\n",
      "Epoch:\t 19 Val Loss:\t 0.030213975366425165\n",
      "Epoch:\t 20 Val Loss:\t 0.030219368906245696\n",
      "Epoch:\t 21 Val Loss:\t 0.03022768171147733\n",
      "Epoch:\t 22 Val Loss:\t 0.030224028895279732\n"
     ]
    },
    {
     "name": "stderr",
     "output_type": "stream",
     "text": [
      "[I 2025-06-02 17:52:36,335] Trial 23 finished with value: 0.03021193256381876 and parameters: {'lr': 0.0001, 'weight_decay': 0.0001, 'scheduler_factor': 0.1, 'scheduler_patience': 5, 'batch_size': 16, 'dropout': 0.15, 'hidden_dims': 512}. Best is trial 2 with value: 0.030200465415763492.\n"
     ]
    },
    {
     "name": "stdout",
     "output_type": "stream",
     "text": [
      "Epoch:\t 23 Val Loss:\t 0.03024441637121181\n",
      "Epoch:\t 0 Val Loss:\t 0.0303730649347028\n",
      "Epoch:\t 1 Val Loss:\t 0.03026765965143985\n",
      "Epoch:\t 2 Val Loss:\t 0.03027236419934216\n",
      "Epoch:\t 3 Val Loss:\t 0.030294846953084105\n",
      "Epoch:\t 4 Val Loss:\t 0.03027457409103363\n",
      "Epoch:\t 5 Val Loss:\t 0.030273894184688677\n",
      "Epoch:\t 6 Val Loss:\t 0.030289942430016203\n",
      "Epoch:\t 7 Val Loss:\t 0.03030512833464357\n",
      "Epoch:\t 8 Val Loss:\t 0.03022916125071309\n",
      "Epoch:\t 9 Val Loss:\t 0.030233249287702258\n",
      "Epoch:\t 10 Val Loss:\t 0.03026673140161395\n",
      "Epoch:\t 11 Val Loss:\t 0.03020650595225031\n",
      "Epoch:\t 12 Val Loss:\t 0.03021206017273852\n",
      "Epoch:\t 13 Val Loss:\t 0.03021502429912394\n",
      "Epoch:\t 14 Val Loss:\t 0.0302194377692557\n",
      "Epoch:\t 15 Val Loss:\t 0.0302321351816431\n",
      "Epoch:\t 16 Val Loss:\t 0.03023354080939515\n",
      "Epoch:\t 17 Val Loss:\t 0.030242368814213928\n",
      "Epoch:\t 18 Val Loss:\t 0.03021891168918609\n",
      "Epoch:\t 19 Val Loss:\t 0.030239661277740734\n",
      "Epoch:\t 20 Val Loss:\t 0.030234095940347355\n"
     ]
    },
    {
     "name": "stderr",
     "output_type": "stream",
     "text": [
      "[I 2025-06-02 17:58:03,651] Trial 24 finished with value: 0.03020650595225031 and parameters: {'lr': 0.0001, 'weight_decay': 0.0001, 'scheduler_factor': 0.1, 'scheduler_patience': 5, 'batch_size': 16, 'dropout': 0.15, 'hidden_dims': 512}. Best is trial 2 with value: 0.030200465415763492.\n"
     ]
    },
    {
     "name": "stdout",
     "output_type": "stream",
     "text": [
      "Epoch:\t 21 Val Loss:\t 0.030216565050753486\n",
      "Epoch:\t 0 Val Loss:\t 0.030369410602563585\n",
      "Epoch:\t 1 Val Loss:\t 0.03032466443414154\n",
      "Epoch:\t 2 Val Loss:\t 0.030272758475715113\n",
      "Epoch:\t 3 Val Loss:\t 0.030261118511722147\n",
      "Epoch:\t 4 Val Loss:\t 0.030282841607229643\n",
      "Epoch:\t 5 Val Loss:\t 0.03026952422174536\n",
      "Epoch:\t 6 Val Loss:\t 0.030261792477456907\n",
      "Epoch:\t 7 Val Loss:\t 0.0303025904138248\n",
      "Epoch:\t 8 Val Loss:\t 0.030278343748934962\n",
      "Epoch:\t 9 Val Loss:\t 0.030242810151953063\n",
      "Epoch:\t 10 Val Loss:\t 0.030292286949787917\n",
      "Epoch:\t 11 Val Loss:\t 0.030310401809425135\n",
      "Epoch:\t 12 Val Loss:\t 0.030253215967239955\n",
      "Epoch:\t 13 Val Loss:\t 0.03026714191949874\n",
      "Epoch:\t 14 Val Loss:\t 0.03030677511131171\n",
      "Epoch:\t 15 Val Loss:\t 0.0302891793034402\n",
      "Epoch:\t 16 Val Loss:\t 0.030234777991290658\n",
      "Epoch:\t 17 Val Loss:\t 0.03023394792107632\n",
      "Epoch:\t 18 Val Loss:\t 0.03022241866523208\n",
      "Epoch:\t 19 Val Loss:\t 0.030256171131021775\n",
      "Epoch:\t 20 Val Loss:\t 0.030232236282297258\n",
      "Epoch:\t 21 Val Loss:\t 0.030223223195450264\n",
      "Epoch:\t 22 Val Loss:\t 0.030219860857849345\n",
      "Epoch:\t 23 Val Loss:\t 0.03023081863038891\n",
      "Epoch:\t 24 Val Loss:\t 0.03022248283374933\n",
      "Epoch:\t 25 Val Loss:\t 0.03022240442855489\n",
      "Epoch:\t 26 Val Loss:\t 0.03023666845090826\n",
      "Epoch:\t 27 Val Loss:\t 0.030227130946974386\n",
      "Epoch:\t 28 Val Loss:\t 0.030215783577439984\n",
      "Epoch:\t 29 Val Loss:\t 0.03024704501173153\n",
      "Epoch:\t 30 Val Loss:\t 0.030232358144111432\n",
      "Epoch:\t 31 Val Loss:\t 0.03022168732864588\n",
      "Epoch:\t 32 Val Loss:\t 0.0302524970084178\n",
      "Epoch:\t 33 Val Loss:\t 0.03022850733929605\n",
      "Epoch:\t 34 Val Loss:\t 0.030238175733890843\n",
      "Epoch:\t 35 Val Loss:\t 0.030235589199937005\n",
      "Epoch:\t 36 Val Loss:\t 0.030225275522327465\n",
      "Epoch:\t 37 Val Loss:\t 0.030222525180843115\n"
     ]
    },
    {
     "name": "stderr",
     "output_type": "stream",
     "text": [
      "[I 2025-06-02 18:07:29,660] Trial 25 finished with value: 0.030215783577439984 and parameters: {'lr': 0.0001, 'weight_decay': 0.0001, 'scheduler_factor': 0.1, 'scheduler_patience': 5, 'batch_size': 16, 'dropout': 0.15, 'hidden_dims': 512}. Best is trial 2 with value: 0.030200465415763492.\n"
     ]
    },
    {
     "name": "stdout",
     "output_type": "stream",
     "text": [
      "Epoch:\t 38 Val Loss:\t 0.030237154758596344\n"
     ]
    },
    {
     "name": "stderr",
     "output_type": "stream",
     "text": [
      "[I 2025-06-02 18:07:43,520] Trial 26 pruned. \n"
     ]
    },
    {
     "name": "stdout",
     "output_type": "stream",
     "text": [
      "Epoch:\t 0 Val Loss:\t 0.030447018638244255\n"
     ]
    },
    {
     "name": "stderr",
     "output_type": "stream",
     "text": [
      "[I 2025-06-02 18:07:57,825] Trial 27 pruned. \n"
     ]
    },
    {
     "name": "stdout",
     "output_type": "stream",
     "text": [
      "Epoch:\t 0 Val Loss:\t 0.03220042922580512\n"
     ]
    },
    {
     "name": "stderr",
     "output_type": "stream",
     "text": [
      "[I 2025-06-02 18:08:01,650] Trial 28 pruned. \n"
     ]
    },
    {
     "name": "stdout",
     "output_type": "stream",
     "text": [
      "Epoch:\t 0 Val Loss:\t 0.03398547157997739\n"
     ]
    },
    {
     "name": "stderr",
     "output_type": "stream",
     "text": [
      "[I 2025-06-02 18:08:07,795] Trial 29 pruned. \n"
     ]
    },
    {
     "name": "stdout",
     "output_type": "stream",
     "text": [
      "Epoch:\t 0 Val Loss:\t 0.03326571784868747\n"
     ]
    },
    {
     "name": "stderr",
     "output_type": "stream",
     "text": [
      "[I 2025-06-02 18:08:21,823] Trial 30 pruned. \n"
     ]
    },
    {
     "name": "stdout",
     "output_type": "stream",
     "text": [
      "Epoch:\t 0 Val Loss:\t 0.04335883354379655\n"
     ]
    },
    {
     "name": "stderr",
     "output_type": "stream",
     "text": [
      "[I 2025-06-02 18:08:36,032] Trial 31 pruned. \n"
     ]
    },
    {
     "name": "stdout",
     "output_type": "stream",
     "text": [
      "Epoch:\t 0 Val Loss:\t 0.03038867130525525\n",
      "Epoch:\t 0 Val Loss:\t 0.03035980446028658\n",
      "Epoch:\t 1 Val Loss:\t 0.030315255114416444\n",
      "Epoch:\t 2 Val Loss:\t 0.030273263846126414\n",
      "Epoch:\t 3 Val Loss:\t 0.03028177847834597\n",
      "Epoch:\t 4 Val Loss:\t 0.030304342226549444\n",
      "Epoch:\t 5 Val Loss:\t 0.03026887088039253\n",
      "Epoch:\t 6 Val Loss:\t 0.03026363323997774\n",
      "Epoch:\t 7 Val Loss:\t 0.030251725200818192\n",
      "Epoch:\t 8 Val Loss:\t 0.03027507826216419\n",
      "Epoch:\t 9 Val Loss:\t 0.030275129787011832\n",
      "Epoch:\t 10 Val Loss:\t 0.03027323908276111\n",
      "Epoch:\t 11 Val Loss:\t 0.03028673854731344\n",
      "Epoch:\t 12 Val Loss:\t 0.030253594307006124\n",
      "Epoch:\t 13 Val Loss:\t 0.03028151407267617\n",
      "Epoch:\t 14 Val Loss:\t 0.030215402732563505\n",
      "Epoch:\t 15 Val Loss:\t 0.03021228454049443\n",
      "Epoch:\t 16 Val Loss:\t 0.030222211194328594\n",
      "Epoch:\t 17 Val Loss:\t 0.030245455713023454\n",
      "Epoch:\t 18 Val Loss:\t 0.03021535239561398\n",
      "Epoch:\t 19 Val Loss:\t 0.030232898502096914\n",
      "Epoch:\t 20 Val Loss:\t 0.030216386813414382\n",
      "Epoch:\t 21 Val Loss:\t 0.03022328827607025\n",
      "Epoch:\t 22 Val Loss:\t 0.03022483243241061\n",
      "Epoch:\t 23 Val Loss:\t 0.03021324179138062\n",
      "Epoch:\t 24 Val Loss:\t 0.03022035984578071\n"
     ]
    },
    {
     "name": "stderr",
     "output_type": "stream",
     "text": [
      "[I 2025-06-02 18:14:51,151] Trial 32 finished with value: 0.03021228454049443 and parameters: {'lr': 0.0001, 'weight_decay': 0.0001, 'scheduler_factor': 0.1, 'scheduler_patience': 5, 'batch_size': 16, 'dropout': 0.15, 'hidden_dims': 512}. Best is trial 2 with value: 0.030200465415763492.\n"
     ]
    },
    {
     "name": "stdout",
     "output_type": "stream",
     "text": [
      "Epoch:\t 25 Val Loss:\t 0.030215531450262817\n"
     ]
    },
    {
     "name": "stderr",
     "output_type": "stream",
     "text": [
      "[I 2025-06-02 18:15:05,622] Trial 33 pruned. \n"
     ]
    },
    {
     "name": "stdout",
     "output_type": "stream",
     "text": [
      "Epoch:\t 0 Val Loss:\t 0.034260047096225404\n"
     ]
    },
    {
     "name": "stderr",
     "output_type": "stream",
     "text": [
      "[I 2025-06-02 18:15:19,611] Trial 34 pruned. \n"
     ]
    },
    {
     "name": "stdout",
     "output_type": "stream",
     "text": [
      "Epoch:\t 0 Val Loss:\t 0.03354008025611971\n"
     ]
    },
    {
     "name": "stderr",
     "output_type": "stream",
     "text": [
      "[I 2025-06-02 18:15:21,938] Trial 35 pruned. \n"
     ]
    },
    {
     "name": "stdout",
     "output_type": "stream",
     "text": [
      "Epoch:\t 0 Val Loss:\t 0.03363140561045941\n"
     ]
    },
    {
     "name": "stderr",
     "output_type": "stream",
     "text": [
      "[I 2025-06-02 18:15:36,323] Trial 36 pruned. \n"
     ]
    },
    {
     "name": "stdout",
     "output_type": "stream",
     "text": [
      "Epoch:\t 0 Val Loss:\t 0.03139232742939569\n"
     ]
    },
    {
     "name": "stderr",
     "output_type": "stream",
     "text": [
      "[I 2025-06-02 18:15:40,386] Trial 37 pruned. \n"
     ]
    },
    {
     "name": "stdout",
     "output_type": "stream",
     "text": [
      "Epoch:\t 0 Val Loss:\t 0.09445739131190821\n"
     ]
    },
    {
     "name": "stderr",
     "output_type": "stream",
     "text": [
      "[I 2025-06-02 18:15:56,111] Trial 38 pruned. \n"
     ]
    },
    {
     "name": "stdout",
     "output_type": "stream",
     "text": [
      "Epoch:\t 0 Val Loss:\t 0.035635854252111195\n"
     ]
    },
    {
     "name": "stderr",
     "output_type": "stream",
     "text": [
      "[I 2025-06-02 18:15:58,353] Trial 39 pruned. \n"
     ]
    },
    {
     "name": "stdout",
     "output_type": "stream",
     "text": [
      "Epoch:\t 0 Val Loss:\t 0.03325749801358034\n"
     ]
    },
    {
     "name": "stderr",
     "output_type": "stream",
     "text": [
      "[I 2025-06-02 18:16:04,745] Trial 40 pruned. \n"
     ]
    },
    {
     "name": "stdout",
     "output_type": "stream",
     "text": [
      "Epoch:\t 0 Val Loss:\t 0.05995120559791047\n",
      "Epoch:\t 0 Val Loss:\t 0.030369575194188956\n",
      "Epoch:\t 1 Val Loss:\t 0.030311731902083434\n",
      "Epoch:\t 2 Val Loss:\t 0.03027268440282206\n",
      "Epoch:\t 3 Val Loss:\t 0.030252488133329782\n",
      "Epoch:\t 4 Val Loss:\t 0.030274846609902033\n",
      "Epoch:\t 5 Val Loss:\t 0.03030031171920865\n",
      "Epoch:\t 6 Val Loss:\t 0.03026146735519057\n",
      "Epoch:\t 7 Val Loss:\t 0.03030125996158754\n",
      "Epoch:\t 8 Val Loss:\t 0.03027694106797636\n",
      "Epoch:\t 9 Val Loss:\t 0.030245097605405183\n",
      "Epoch:\t 10 Val Loss:\t 0.03026353718817049\n",
      "Epoch:\t 11 Val Loss:\t 0.03026510487855275\n",
      "Epoch:\t 12 Val Loss:\t 0.030259523735546058\n",
      "Epoch:\t 13 Val Loss:\t 0.030279513563795837\n",
      "Epoch:\t 14 Val Loss:\t 0.03028601276507462\n",
      "Epoch:\t 15 Val Loss:\t 0.03026176942503063\n",
      "Epoch:\t 16 Val Loss:\t 0.030211019480126614\n",
      "Epoch:\t 17 Val Loss:\t 0.030259743641499907\n",
      "Epoch:\t 18 Val Loss:\t 0.03022074422841409\n",
      "Epoch:\t 19 Val Loss:\t 0.030241223388957766\n",
      "Epoch:\t 20 Val Loss:\t 0.03023065223732332\n",
      "Epoch:\t 21 Val Loss:\t 0.03024400613136161\n",
      "Epoch:\t 22 Val Loss:\t 0.030229877214972098\n",
      "Epoch:\t 23 Val Loss:\t 0.030217822928312273\n",
      "Epoch:\t 24 Val Loss:\t 0.030209856011918397\n",
      "Epoch:\t 25 Val Loss:\t 0.03022673497384403\n",
      "Epoch:\t 26 Val Loss:\t 0.03022138677661344\n",
      "Epoch:\t 27 Val Loss:\t 0.03023022541000415\n",
      "Epoch:\t 28 Val Loss:\t 0.03024120223724312\n",
      "Epoch:\t 29 Val Loss:\t 0.03022375088681429\n",
      "Epoch:\t 30 Val Loss:\t 0.030238824888117397\n",
      "Epoch:\t 31 Val Loss:\t 0.03021824343603584\n",
      "Epoch:\t 32 Val Loss:\t 0.030222372688760598\n",
      "Epoch:\t 33 Val Loss:\t 0.03021736602511453\n"
     ]
    },
    {
     "name": "stderr",
     "output_type": "stream",
     "text": [
      "[I 2025-06-02 18:24:27,287] Trial 41 finished with value: 0.030209856011918397 and parameters: {'lr': 0.0001, 'weight_decay': 0.0001, 'scheduler_factor': 0.1, 'scheduler_patience': 5, 'batch_size': 16, 'dropout': 0.15, 'hidden_dims': 512}. Best is trial 2 with value: 0.030200465415763492.\n"
     ]
    },
    {
     "name": "stdout",
     "output_type": "stream",
     "text": [
      "Epoch:\t 34 Val Loss:\t 0.030221930725536934\n"
     ]
    },
    {
     "name": "stderr",
     "output_type": "stream",
     "text": [
      "[I 2025-06-02 18:24:42,262] Trial 42 pruned. \n"
     ]
    },
    {
     "name": "stdout",
     "output_type": "stream",
     "text": [
      "Epoch:\t 0 Val Loss:\t 0.030413965502407898\n"
     ]
    },
    {
     "name": "stderr",
     "output_type": "stream",
     "text": [
      "[I 2025-06-02 18:24:55,299] Trial 43 pruned. \n"
     ]
    },
    {
     "name": "stdout",
     "output_type": "stream",
     "text": [
      "Epoch:\t 0 Val Loss:\t 0.030384469984472095\n"
     ]
    },
    {
     "name": "stderr",
     "output_type": "stream",
     "text": [
      "[I 2025-06-02 18:25:09,760] Trial 44 pruned. \n"
     ]
    },
    {
     "name": "stdout",
     "output_type": "stream",
     "text": [
      "Epoch:\t 0 Val Loss:\t 0.030592546657032323\n"
     ]
    },
    {
     "name": "stderr",
     "output_type": "stream",
     "text": [
      "[I 2025-06-02 18:25:14,012] Trial 45 pruned. \n"
     ]
    },
    {
     "name": "stdout",
     "output_type": "stream",
     "text": [
      "Epoch:\t 0 Val Loss:\t 0.030841412585835126\n",
      "Epoch:\t 0 Val Loss:\t 0.030365552396989914\n",
      "Epoch:\t 1 Val Loss:\t 0.03028678562174165\n",
      "Epoch:\t 2 Val Loss:\t 0.030299604909378455\n",
      "Epoch:\t 3 Val Loss:\t 0.030281047230208358\n",
      "Epoch:\t 4 Val Loss:\t 0.03025540520991825\n",
      "Epoch:\t 5 Val Loss:\t 0.030287234721124243\n",
      "Epoch:\t 6 Val Loss:\t 0.030313463456162922\n",
      "Epoch:\t 7 Val Loss:\t 0.030227403413408075\n",
      "Epoch:\t 8 Val Loss:\t 0.030221818803552635\n",
      "Epoch:\t 9 Val Loss:\t 0.03021555897195517\n",
      "Epoch:\t 10 Val Loss:\t 0.030237941322555237\n",
      "Epoch:\t 11 Val Loss:\t 0.03022097935778802\n",
      "Epoch:\t 12 Val Loss:\t 0.030238573243862053\n",
      "Epoch:\t 13 Val Loss:\t 0.03022614039407539\n",
      "Epoch:\t 14 Val Loss:\t 0.030214557965328806\n",
      "Epoch:\t 15 Val Loss:\t 0.0302142520974243\n",
      "Epoch:\t 16 Val Loss:\t 0.030259989740551295\n",
      "Epoch:\t 17 Val Loss:\t 0.03022814227428203\n",
      "Epoch:\t 18 Val Loss:\t 0.03021424427308311\n",
      "Epoch:\t 19 Val Loss:\t 0.03021394355945473\n",
      "Epoch:\t 20 Val Loss:\t 0.030242522535806452\n",
      "Epoch:\t 21 Val Loss:\t 0.030218433672340186\n",
      "Epoch:\t 22 Val Loss:\t 0.03022130408763372\n",
      "Epoch:\t 23 Val Loss:\t 0.03023162704264173\n",
      "Epoch:\t 24 Val Loss:\t 0.030211415223925082\n",
      "Epoch:\t 25 Val Loss:\t 0.03020877590165232\n",
      "Epoch:\t 26 Val Loss:\t 0.030215010358581585\n",
      "Epoch:\t 27 Val Loss:\t 0.030225111739055007\n",
      "Epoch:\t 28 Val Loss:\t 0.03020744530479975\n",
      "Epoch:\t 29 Val Loss:\t 0.030224197323036037\n",
      "Epoch:\t 30 Val Loss:\t 0.030228902091126813\n",
      "Epoch:\t 31 Val Loss:\t 0.030215263218911704\n",
      "Epoch:\t 32 Val Loss:\t 0.0302152998623778\n",
      "Epoch:\t 33 Val Loss:\t 0.030221700104615164\n",
      "Epoch:\t 34 Val Loss:\t 0.030205229685035934\n",
      "Epoch:\t 35 Val Loss:\t 0.03021333123939987\n",
      "Epoch:\t 36 Val Loss:\t 0.03021947157770198\n",
      "Epoch:\t 37 Val Loss:\t 0.03021160421168618\n",
      "Epoch:\t 38 Val Loss:\t 0.030214023534704895\n",
      "Epoch:\t 39 Val Loss:\t 0.030212637037038803\n",
      "Epoch:\t 40 Val Loss:\t 0.03022772578686398\n",
      "Epoch:\t 41 Val Loss:\t 0.03021160107567993\n",
      "Epoch:\t 42 Val Loss:\t 0.030213861674909314\n",
      "Epoch:\t 43 Val Loss:\t 0.030230338710965376\n"
     ]
    },
    {
     "name": "stderr",
     "output_type": "stream",
     "text": [
      "[I 2025-06-02 18:36:07,150] Trial 46 finished with value: 0.030205229685035934 and parameters: {'lr': 0.0001, 'weight_decay': 0.0001, 'scheduler_factor': 0.1, 'scheduler_patience': 1, 'batch_size': 16, 'dropout': 0.15, 'hidden_dims': 512}. Best is trial 2 with value: 0.030200465415763492.\n"
     ]
    },
    {
     "name": "stdout",
     "output_type": "stream",
     "text": [
      "Epoch:\t 44 Val Loss:\t 0.030209881845623572\n"
     ]
    },
    {
     "name": "stderr",
     "output_type": "stream",
     "text": [
      "[I 2025-06-02 18:36:11,421] Trial 47 pruned. \n"
     ]
    },
    {
     "name": "stdout",
     "output_type": "stream",
     "text": [
      "Epoch:\t 0 Val Loss:\t 0.03094465580545575\n"
     ]
    },
    {
     "name": "stderr",
     "output_type": "stream",
     "text": [
      "[I 2025-06-02 18:36:25,156] Trial 48 pruned. \n"
     ]
    },
    {
     "name": "stdout",
     "output_type": "stream",
     "text": [
      "Epoch:\t 0 Val Loss:\t 0.03399177033702731\n"
     ]
    },
    {
     "name": "stderr",
     "output_type": "stream",
     "text": [
      "[I 2025-06-02 18:36:38,206] Trial 49 pruned. \n"
     ]
    },
    {
     "name": "stdout",
     "output_type": "stream",
     "text": [
      "Epoch:\t 0 Val Loss:\t 0.03042632420260875\n",
      "Training model with best parameters on train+validation ...\n"
     ]
    },
    {
     "name": "stderr",
     "output_type": "stream",
     "text": [
      "100%|███████████████████████████████████████████████████████████████████████████████████████████████████████████████████████████████████████████████████████████████████| 401917/401917 [04:09<00:00, 1609.85it/s]\n",
      "100%|███████████████████████████████████████████████████████████████████████████████████████████████████████████████████████████████████████████████████████████████████| 401917/401917 [01:14<00:00, 5430.02it/s]\n"
     ]
    },
    {
     "name": "stdout",
     "output_type": "stream",
     "text": [
      "Getting test set predictions and saving results ...\n"
     ]
    },
    {
     "name": "stderr",
     "output_type": "stream",
     "text": [
      "100%|███████████████████████████████████████████████████████████████████████████████████████████████████████████████████████████████████████████████████████████████████████| 1223/1223 [00:01<00:00, 1064.97it/s]\n"
     ]
    }
   ],
   "source": [
    "train_different_fs(\n",
    "        adata_path=\"./data/feature_selection/sciplex_cellranger.h5ad\",\n",
    "        run_name=\"decoder_cellranger_fs\",\n",
    "        res_savename=\"./results/feature_selection/decoder_cellranger_fs_res.pkl\",\n",
    "    )"
   ]
  },
  {
   "cell_type": "code",
   "execution_count": null,
   "id": "5e1b0122-377c-40a8-ac9e-857367b73b80",
   "metadata": {},
   "outputs": [],
   "source": []
  }
 ],
 "metadata": {
  "kernelspec": {
   "display_name": "Python 3 (ipykernel)",
   "language": "python",
   "name": "python3"
  },
  "language_info": {
   "codemirror_mode": {
    "name": "ipython",
    "version": 3
   },
   "file_extension": ".py",
   "mimetype": "text/x-python",
   "name": "python",
   "nbconvert_exporter": "python",
   "pygments_lexer": "ipython3",
   "version": "3.12.7"
  }
 },
 "nbformat": 4,
 "nbformat_minor": 5
}
