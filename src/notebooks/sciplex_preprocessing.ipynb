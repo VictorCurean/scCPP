{
 "cells": [
  {
   "cell_type": "markdown",
   "id": "0b6bbd9b-956c-40fa-b9bb-5a8479b08ec6",
   "metadata": {},
   "source": [
    "Generate different sciplex datasets for training/testing scFiLM.\n",
    "\n",
    "2000 , 3500, 5000 hvg kept\n",
    "\n",
    "all cells vs. balanced vs. subsample\n",
    "\n",
    "pathway activation, genes, embeddings\n",
    "\n",
    "COATI + RDKit compound emveddings"
   ]
  },
  {
   "cell_type": "code",
   "execution_count": 41,
   "id": "dcf8345c-d9d6-41ce-87c0-7b9b51798a2e",
   "metadata": {},
   "outputs": [],
   "source": [
    "import random\n",
    "\n",
    "import anndata as ad\n",
    "import scanpy as sc\n",
    "import numpy as np\n",
    "\n",
    "from tqdm import tqdm\n",
    "from rdkit import Chem\n",
    "from rdkit.Chem import AllChem"
   ]
  },
  {
   "cell_type": "markdown",
   "id": "a76f6349-76c9-4138-bc47-71881a5308ac",
   "metadata": {},
   "source": [
    "## Create Morgan Fingerprints and Coati Drug Representations"
   ]
  },
  {
   "cell_type": "code",
   "execution_count": 2,
   "id": "b91f7352-5f0e-4ee1-828a-e8558c80062c",
   "metadata": {},
   "outputs": [],
   "source": [
    "adata_raw = ad.read_h5ad(\"../../data/sciplex/sciplex3_uce_adata.h5ad\")\n",
    "adata_old = ad.read_h5ad(\"../../data/sciplex/sciplex_preprocessed.h5ad\")\n",
    "adata_raw = adata_raw[adata_raw.obs['product_name'].isin(list(adata_old.obs['product_name'].unique()))]"
   ]
  },
  {
   "cell_type": "code",
   "execution_count": 3,
   "id": "d00fca75-5236-41f4-ba75-e0828ff0246a",
   "metadata": {},
   "outputs": [],
   "source": [
    "drugname_smiles_map = dict(zip(adata_old.obs['product_name'], adata_old.obs['smiles']))\n",
    "drugname_pubchemid_map = dict(zip(adata_old.obs['product_name'], adata_old.obs['pubchem_ID']))\n",
    "drugname_coati_map = dict(zip(adata_old.obs['product_name'], adata_old.obs['sm_embedding']))"
   ]
  },
  {
   "cell_type": "code",
   "execution_count": null,
   "id": "a130566b-1e1d-448a-a137-9db120d32598",
   "metadata": {},
   "outputs": [],
   "source": [
    "smiles_rdkit_map = dict()\n",
    "\n",
    "for smiles in drugname_smiles_map.values():\n",
    "    if type(smiles) ==  float:\n",
    "        continue\n",
    "    else:\n",
    "        mol = Chem.MolFromSmiles(smiles)\n",
    "        fcfp4 = AllChem.GetMorganFingerprintAsBitVect(mol, 2, useFeatures=True, nBits=1024).ToBitString()\n",
    "        fcfp4_list = np.array(list(fcfp4), dtype=np.float32)\n",
    "    \n",
    "        smiles_rdkit_map[smiles] = fcfp4_list"
   ]
  },
  {
   "cell_type": "code",
   "execution_count": 6,
   "id": "ccdb7d3c-0184-4734-b412-7ba30960d318",
   "metadata": {},
   "outputs": [],
   "source": [
    "smiles = list()\n",
    "pubchem_id = list()\n",
    "coati_emb = list()\n",
    "morgan_emb = list()\n",
    "\n",
    "for product_name in list(adata_raw.obs['product_name']):\n",
    "    if product_name == \"Vehicle\":\n",
    "        smiles.append(None)\n",
    "        pubchem_id.append(None)\n",
    "        coati_emb.append(None)\n",
    "        morgan_emb.append(None)\n",
    "\n",
    "    else:\n",
    "        smiles.append(drugname_smiles_map[product_name])\n",
    "        pubchem_id.append(drugname_pubchemid_map[product_name])\n",
    "        coati_emb.append(drugname_coati_map[product_name])\n",
    "    \n",
    "        sm = drugname_smiles_map[product_name]\n",
    "        morgan_emb.append(smiles_rdkit_map[sm])"
   ]
  },
  {
   "cell_type": "code",
   "execution_count": 7,
   "id": "803e0e07-a8cc-42bf-ac57-a3dd5f5539bd",
   "metadata": {},
   "outputs": [
    {
     "name": "stderr",
     "output_type": "stream",
     "text": [
      "/tmp/ipykernel_9794/2497529271.py:1: ImplicitModificationWarning: Trying to modify attribute `.obs` of view, initializing view as actual.\n",
      "  adata_raw.obs['SMILES'] = smiles\n"
     ]
    }
   ],
   "source": [
    "adata_raw.obs['SMILES'] = smiles\n",
    "adata_raw.obs['pubchem_id'] = pubchem_id\n",
    "adata_raw.obs['sm_coati_emb'] = coati_emb\n",
    "adata_raw.obs['sm_morgan_emb'] = morgan_emb\n",
    "\n",
    "adata_raw.obs['sm_morgan_emb'] = adata_raw.obs['sm_morgan_emb'].apply(\n",
    "    lambda arr: ','.join(map(str, arr)) if arr is not None else None\n",
    ")"
   ]
  },
  {
   "cell_type": "markdown",
   "id": "509cfdc7-7c8d-4de0-9be2-9b771866a3d7",
   "metadata": {},
   "source": [
    "## Filter Low Quality cells and lowly expressed genes"
   ]
  },
  {
   "cell_type": "code",
   "execution_count": 11,
   "id": "b093901e-bbc1-4680-bb32-ea4ad5752835",
   "metadata": {},
   "outputs": [],
   "source": [
    "sc.pp.filter_cells(adata_raw, min_genes=100)\n",
    "sc.pp.filter_genes(adata_raw, min_cells=3)"
   ]
  },
  {
   "cell_type": "code",
   "execution_count": 12,
   "id": "455eebd7-4a98-40de-8163-e3fbb484d6a7",
   "metadata": {},
   "outputs": [
    {
     "data": {
      "text/plain": [
       "AnnData object with n_obs × n_vars = 571696 × 17376\n",
       "    obs: 'cell_type', 'dose', 'dose_character', 'dose_pattern', 'g1s_score', 'g2m_score', 'pathway', 'pathway_level_1', 'pathway_level_2', 'product_dose', 'product_name', 'proliferation_index', 'replicate', 'size_factor', 'target', 'vehicle', 'n_genes', 'SMILES', 'pubchem_id', 'sm_coati_emb', 'sm_morgan_emb'\n",
       "    var: 'id', 'num_cells_expressed-0-0', 'num_cells_expressed-1-0', 'num_cells_expressed-1', 'n_cells'\n",
       "    obsm: 'X_uce'"
      ]
     },
     "execution_count": 12,
     "metadata": {},
     "output_type": "execute_result"
    }
   ],
   "source": [
    "adata_raw"
   ]
  },
  {
   "cell_type": "markdown",
   "id": "94e3aca1-110e-4053-a17d-d94d2734a6d7",
   "metadata": {},
   "source": [
    "## Match Random Controls to each perturbed condition"
   ]
  },
  {
   "cell_type": "code",
   "execution_count": 19,
   "id": "579ba962-3458-43de-b0ec-0231e94d2304",
   "metadata": {},
   "outputs": [],
   "source": [
    "match_index = list()\n",
    "\n",
    "control_pool_A549 = adata_raw[(adata_raw.obs['product_name'] == \"Vehicle\") & (adata_raw.obs['cell_type'] == \"A549\")]\n",
    "control_pool_MCF7 = adata_raw[(adata_raw.obs['product_name'] == \"Vehicle\") & (adata_raw.obs['cell_type'] == \"MCF7\")]\n",
    "control_pool_K562 = adata_raw[(adata_raw.obs['product_name'] == \"Vehicle\") & (adata_raw.obs['cell_type'] == \"K562\")]\n",
    "\n",
    "for i, row in adata_raw.obs.iterrows():\n",
    "    if row['product_name'] == \"Vehicle\":\n",
    "        match_index.append(\"None\")\n",
    "    else:\n",
    "        if row['cell_type'] == \"A549\":\n",
    "            match_index.append(random.choice(list(control_pool_A549.obs_names)))\n",
    "        elif row['cell_type'] == \"MCF7\":\n",
    "            match_index.append(random.choice(list(control_pool_MCF7.obs_names)))\n",
    "        elif row['cell_type'] == \"K562\":\n",
    "            match_index.append(random.choice(list(control_pool_K562.obs_names)))\n",
    "\n",
    "adata_raw.obs['match_index'] = match_index"
   ]
  },
  {
   "cell_type": "markdown",
   "id": "86d7529c-c034-4fad-adfd-5150ddedc1e6",
   "metadata": {},
   "source": [
    "## Create different-dimensional HVG representations for cells"
   ]
  },
  {
   "cell_type": "code",
   "execution_count": 22,
   "id": "31854657-6acf-4ecc-bb8d-03df560addd6",
   "metadata": {},
   "outputs": [],
   "source": [
    "def get_preprocessed_expr(adata_raw, nhvg):\n",
    "    adata = adata_raw.copy()\n",
    "    sc.pp.normalize_total(adata)\n",
    "    sc.pp.log1p(adata)\n",
    "    sc.pp.highly_variable_genes(adata, n_top_genes=nhvg, flavor='seurat')\n",
    "    adata = adata[:, adata.var['highly_variable']]\n",
    "    return adata.X, list(adata.var_names)"
   ]
  },
  {
   "cell_type": "code",
   "execution_count": 23,
   "id": "82c7a80c-be9d-4806-b854-4fa8a641c41b",
   "metadata": {},
   "outputs": [],
   "source": [
    "X_500_hvg, gene_names_500 = get_preprocessed_expr(adata_raw, 500)\n",
    "X_1000_hvg, gene_names_1000 = get_preprocessed_expr(adata_raw, 1000)\n",
    "X_2000_hvg, gene_names_2000 = get_preprocessed_expr(adata_raw, 2000)\n",
    "X_3500_hvg, gene_names_3500 = get_preprocessed_expr(adata_raw, 3500)\n",
    "X_5000_hvg, gene_names_5000 = get_preprocessed_expr(adata_raw, 5000)\n",
    "X_7500_hvg, gene_names_7500 = get_preprocessed_expr(adata_raw, 7500)"
   ]
  },
  {
   "cell_type": "code",
   "execution_count": 24,
   "id": "e2624ce4-16ae-4bab-b699-1dddc57de09b",
   "metadata": {},
   "outputs": [],
   "source": [
    "adata_raw.obsm['X_500_hvg'] = X_500_hvg\n",
    "adata_raw.obsm['X_1000_hvg'] = X_1000_hvg\n",
    "adata_raw.obsm['X_2000_hvg'] = X_2000_hvg\n",
    "adata_raw.obsm['X_3500_hvg'] = X_3500_hvg\n",
    "adata_raw.obsm['X_5000_hvg'] = X_5000_hvg\n",
    "adata_raw.obsm['X_7500_hvg'] = X_7500_hvg\n",
    "\n",
    "adata_raw.uns['gene_names_500'] = gene_names_500\n",
    "adata_raw.uns['gene_names_1000'] = gene_names_1000\n",
    "adata_raw.uns['gene_names_2000'] = gene_names_2000\n",
    "adata_raw.uns['gene_names_3500'] = gene_names_3500\n",
    "adata_raw.uns['gene_names_5000'] = gene_names_5000\n",
    "adata_raw.uns['gene_names_7500'] = gene_names_7500"
   ]
  },
  {
   "cell_type": "code",
   "execution_count": 25,
   "id": "5592ccdd-0056-4837-9296-931c763a135f",
   "metadata": {},
   "outputs": [
    {
     "data": {
      "text/plain": [
       "AnnData object with n_obs × n_vars = 571696 × 17376\n",
       "    obs: 'cell_type', 'dose', 'dose_character', 'dose_pattern', 'g1s_score', 'g2m_score', 'pathway', 'pathway_level_1', 'pathway_level_2', 'product_dose', 'product_name', 'proliferation_index', 'replicate', 'size_factor', 'target', 'vehicle', 'n_genes', 'SMILES', 'pubchem_id', 'sm_coati_emb', 'sm_morgan_emb', 'match_index'\n",
       "    var: 'id', 'num_cells_expressed-0-0', 'num_cells_expressed-1-0', 'num_cells_expressed-1', 'n_cells'\n",
       "    uns: 'gene_names_500', 'gene_names_1000', 'gene_names_2000', 'gene_names_3500', 'gene_names_5000', 'gene_names_7500'\n",
       "    obsm: 'X_uce', 'X_500_hvg', 'X_1000_hvg', 'X_2000_hvg', 'X_3500_hvg', 'X_5000_hvg', 'X_7500_hvg'"
      ]
     },
     "execution_count": 25,
     "metadata": {},
     "output_type": "execute_result"
    }
   ],
   "source": [
    "adata_raw"
   ]
  },
  {
   "cell_type": "markdown",
   "id": "c96c1943-0662-436d-95b4-aa947288c665",
   "metadata": {},
   "source": [
    "## Create a mask for each individual perturbed condition at different sizes"
   ]
  },
  {
   "cell_type": "code",
   "execution_count": 42,
   "id": "5421fa36-7139-474b-b789-c12dbe6adba8",
   "metadata": {},
   "outputs": [],
   "source": [
    "def create_subset_mask(adata, max_n):\n",
    "    indices_to_keep = list()\n",
    "\n",
    "    for drug in tqdm(adata.obs['product_name'].unique()):\n",
    "        for cell_type in adata.obs['cell_type'].unique():\n",
    "            for dose in adata.obs['dose'].unique():\n",
    "                if drug == \"Vehicle\":\n",
    "                    continue\n",
    "    \n",
    "                if dose == 0.0:\n",
    "                    continue\n",
    "                \n",
    "                else:\n",
    "                    ad_subset = adata[(adata.obs['cell_type'] == cell_type) \n",
    "                    & (adata.obs['product_name'] == drug)\n",
    "                    & (adata.obs['dose'] == dose)].copy()\n",
    "    \n",
    "\n",
    "                    if ad_subset.n_obs > max_n:\n",
    "                        selected = np.random.choice(list(ad_subset.obs_names), size=max_n, replace=False)\n",
    "                    else:\n",
    "                        selected = list(ad_subset.obs_names)\n",
    "\n",
    "                    indices_to_keep.extend(selected)\n",
    "\n",
    "    control_indices = adata[adata.obs['product_name'] == \"Vehicle\"].obs_names\n",
    "    indices_to_keep.extend(control_indices)\n",
    "\n",
    "    mask = [1 if x in indices_to_keep else 0 for x in list(adata.obs_names)]\n",
    "    return mask\n"
   ]
  },
  {
   "cell_type": "code",
   "execution_count": 43,
   "id": "89eb9c24-2b9f-4ebd-824c-c65e1ade8bc6",
   "metadata": {},
   "outputs": [
    {
     "name": "stderr",
     "output_type": "stream",
     "text": [
      "100%|██████████████████████████████████████████████████████████████████████████████████████████████████████████████████████████████████████████████████████████████████████████████████████████████████████████████████████| 186/186 [00:15<00:00, 12.25it/s]\n",
      "100%|██████████████████████████████████████████████████████████████████████████████████████████████████████████████████████████████████████████████████████████████████████████████████████████████████████████████████████| 186/186 [00:14<00:00, 12.96it/s]\n",
      "100%|██████████████████████████████████████████████████████████████████████████████████████████████████████████████████████████████████████████████████████████████████████████████████████████████████████████████████████| 186/186 [00:14<00:00, 12.67it/s]\n"
     ]
    }
   ],
   "source": [
    "mask_50 = create_subset_mask(adata_raw, 50)\n",
    "mask_100 = create_subset_mask(adata_raw, 100)\n",
    "mask_250 = create_subset_mask(adata_raw, 250)"
   ]
  },
  {
   "cell_type": "code",
   "execution_count": 45,
   "id": "84338702-d79e-4b22-8d6f-77437bfbf013",
   "metadata": {},
   "outputs": [],
   "source": [
    "adata_raw.obs['mask_50'] = mask_50\n",
    "adata_raw.obs['mask_100'] = mask_100\n",
    "adata_raw.obs['mask_250'] = mask_250"
   ]
  },
  {
   "cell_type": "code",
   "execution_count": 46,
   "id": "2b5b9aff-fc2d-432f-a02b-45e3f5d9ea0d",
   "metadata": {},
   "outputs": [
    {
     "data": {
      "text/plain": [
       "AnnData object with n_obs × n_vars = 571696 × 17376\n",
       "    obs: 'cell_type', 'dose', 'dose_character', 'dose_pattern', 'g1s_score', 'g2m_score', 'pathway', 'pathway_level_1', 'pathway_level_2', 'product_dose', 'product_name', 'proliferation_index', 'replicate', 'size_factor', 'target', 'vehicle', 'n_genes', 'SMILES', 'pubchem_id', 'sm_coati_emb', 'sm_morgan_emb', 'match_index', 'mask_50', 'mask_100', 'mask_250'\n",
       "    var: 'id', 'num_cells_expressed-0-0', 'num_cells_expressed-1-0', 'num_cells_expressed-1', 'n_cells'\n",
       "    uns: 'gene_names_500', 'gene_names_1000', 'gene_names_2000', 'gene_names_3500', 'gene_names_5000', 'gene_names_7500'\n",
       "    obsm: 'X_uce', 'X_500_hvg', 'X_1000_hvg', 'X_2000_hvg', 'X_3500_hvg', 'X_5000_hvg', 'X_7500_hvg'"
      ]
     },
     "execution_count": 46,
     "metadata": {},
     "output_type": "execute_result"
    }
   ],
   "source": [
    "adata_raw"
   ]
  },
  {
   "cell_type": "code",
   "execution_count": null,
   "id": "2af7f054-eee1-499c-ae15-c47418f23899",
   "metadata": {},
   "outputs": [],
   "source": []
  },
  {
   "cell_type": "code",
   "execution_count": null,
   "id": "a65907ef-3f1b-4283-b7a1-861bf80bf1f4",
   "metadata": {},
   "outputs": [],
   "source": []
  },
  {
   "cell_type": "code",
   "execution_count": null,
   "id": "9d433eed-8cb1-4df1-9e17-630c3c330125",
   "metadata": {},
   "outputs": [],
   "source": []
  },
  {
   "cell_type": "code",
   "execution_count": 47,
   "id": "127dfaec-4398-400d-9b98-df5f460d4f47",
   "metadata": {},
   "outputs": [],
   "source": [
    "adata_raw.write_h5ad(\"../../data/sciplex/sciplex_full_v4.h5ad\")"
   ]
  },
  {
   "cell_type": "code",
   "execution_count": 49,
   "id": "932e48fc-7279-45d1-8d87-d6af8c9bb68a",
   "metadata": {},
   "outputs": [],
   "source": [
    "adata1 = adata_raw[adata_raw.obs['mask_50'] == 1]"
   ]
  },
  {
   "cell_type": "code",
   "execution_count": 51,
   "id": "09faa678-fbb3-4d6e-b958-ab866c643460",
   "metadata": {},
   "outputs": [
    {
     "data": {
      "text/plain": [
       "['Raltitrexed', 'Vehicle', 'Lenalidomide (CC-5013)', 'MLN8054', 'Celecoxib', ..., 'PHA-680632', 'Bisindolylmaleimide IX (Ro 31-8220 Mesylate)', 'Selisistat (EX 527)', 'Quercetin', 'Tucidinostat (Chidamide)']\n",
       "Length: 186\n",
       "Categories (186, object): ['2-Methoxyestradiol (2-MeOE2)', '(+)-JQ1', 'A-366', 'ABT-737', ..., 'XAV-939', 'YM155 (Sepantronium Bromide)', 'ZM 447439', 'Zileuton']"
      ]
     },
     "execution_count": 51,
     "metadata": {},
     "output_type": "execute_result"
    }
   ],
   "source": [
    "adata1.obs['product_name'].unique()"
   ]
  },
  {
   "cell_type": "code",
   "execution_count": null,
   "id": "c594a49a-a16a-481a-a958-90d9b60c3e8a",
   "metadata": {},
   "outputs": [],
   "source": []
  }
 ],
 "metadata": {
  "kernelspec": {
   "display_name": "Python 3 (ipykernel)",
   "language": "python",
   "name": "python3"
  },
  "language_info": {
   "codemirror_mode": {
    "name": "ipython",
    "version": 3
   },
   "file_extension": ".py",
   "mimetype": "text/x-python",
   "name": "python",
   "nbconvert_exporter": "python",
   "pygments_lexer": "ipython3",
   "version": "3.12.7"
  }
 },
 "nbformat": 4,
 "nbformat_minor": 5
}
