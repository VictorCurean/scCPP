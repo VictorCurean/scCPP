{
 "cells": [
  {
   "cell_type": "code",
   "id": "initial_id",
   "metadata": {
    "collapsed": true,
    "ExecuteTime": {
     "end_time": "2025-04-11T12:57:30.368938Z",
     "start_time": "2025-04-11T12:57:27.711198Z"
    }
   },
   "source": [
    "import anndata as ad\n",
    "import pickle as pkl\n",
    "\n",
    "from src.evaluator.null_evaluator import NullEvaluator"
   ],
   "outputs": [],
   "execution_count": 1
  },
  {
   "metadata": {
    "ExecuteTime": {
     "end_time": "2025-04-11T12:57:30.375164Z",
     "start_time": "2025-04-11T12:57:30.372183Z"
    }
   },
   "cell_type": "code",
   "source": [
    "ADATA_PATH = \"./data/sciplex_testing.h5ad\"\n",
    "DRUG_SPLIT = \"./data/drug_split_test.pkl\"\n",
    "DRUG_ENCODING_NAME = \"sm_coati_emb\"\n",
    "DRUG_ENCODING_SIZE = 256\n",
    "CELL_INPUT_NAME = \"X_2000_hvg\"\n",
    "CELL_INPUT_SIZE = 2000\n",
    "CELL_OUTPUT_NAME = \"X_2000_hvg\"\n",
    "CELL_OUTPUT_SIZE = 2000\n",
    "N_TRIALS = 2\n",
    "GENE_NAMES = 'gene_names_2000'\n",
    "SCHEDULER_MODE = 'min'"
   ],
   "id": "a7bf4fef46c99aaa",
   "outputs": [],
   "execution_count": 2
  },
  {
   "metadata": {
    "ExecuteTime": {
     "end_time": "2025-04-11T12:57:30.773862Z",
     "start_time": "2025-04-11T12:57:30.471525Z"
    }
   },
   "cell_type": "code",
   "source": [
    "with open(DRUG_SPLIT, \"rb\") as f:\n",
    "    drug_splits = pkl.load(f)\n",
    "\n",
    "adata = ad.read_h5ad(ADATA_PATH)"
   ],
   "id": "1ab6f6b701b47065",
   "outputs": [],
   "execution_count": 3
  },
  {
   "metadata": {
    "ExecuteTime": {
     "end_time": "2025-04-11T13:08:03.790612Z",
     "start_time": "2025-04-11T13:06:45.136832Z"
    }
   },
   "cell_type": "code",
   "source": [
    "performance = NullEvaluator.cross_validation_models(drug_splits=drug_splits,\n",
    "                                      adata=adata,\n",
    "                                      input_name=CELL_INPUT_NAME,\n",
    "                                      output_name=CELL_OUTPUT_NAME,\n",
    "                                      drug_rep_name=DRUG_ENCODING_NAME,\n",
    "                                      drug_emb_size=DRUG_ENCODING_SIZE,\n",
    "                                      gene_names_key=GENE_NAMES,\n",
    "                                      run_name=\"test\")"
   ],
   "id": "d0cec774dabd0596",
   "outputs": [
    {
     "name": "stderr",
     "output_type": "stream",
     "text": [
      "100%|██████████| 22166/22166 [00:07<00:00, 2870.63it/s]\n",
      "100%|██████████| 203/203 [00:00<00:00, 1457.62it/s]\n"
     ]
    },
    {
     "ename": "KeyboardInterrupt",
     "evalue": "",
     "output_type": "error",
     "traceback": [
      "\u001B[31m---------------------------------------------------------------------------\u001B[39m",
      "\u001B[31mKeyboardInterrupt\u001B[39m                         Traceback (most recent call last)",
      "\u001B[36mCell\u001B[39m\u001B[36m \u001B[39m\u001B[32mIn[7]\u001B[39m\u001B[32m, line 1\u001B[39m\n\u001B[32m----> \u001B[39m\u001B[32m1\u001B[39m performance = \u001B[43mNullEvaluator\u001B[49m\u001B[43m.\u001B[49m\u001B[43mcross_validation_models\u001B[49m\u001B[43m(\u001B[49m\u001B[43mdrug_splits\u001B[49m\u001B[43m=\u001B[49m\u001B[43mdrug_splits\u001B[49m\u001B[43m,\u001B[49m\n\u001B[32m      2\u001B[39m \u001B[43m                                      \u001B[49m\u001B[43madata\u001B[49m\u001B[43m=\u001B[49m\u001B[43madata\u001B[49m\u001B[43m,\u001B[49m\n\u001B[32m      3\u001B[39m \u001B[43m                                      \u001B[49m\u001B[43minput_name\u001B[49m\u001B[43m=\u001B[49m\u001B[43mCELL_INPUT_NAME\u001B[49m\u001B[43m,\u001B[49m\n\u001B[32m      4\u001B[39m \u001B[43m                                      \u001B[49m\u001B[43moutput_name\u001B[49m\u001B[43m=\u001B[49m\u001B[43mCELL_OUTPUT_NAME\u001B[49m\u001B[43m,\u001B[49m\n\u001B[32m      5\u001B[39m \u001B[43m                                      \u001B[49m\u001B[43mdrug_rep_name\u001B[49m\u001B[43m=\u001B[49m\u001B[43mDRUG_ENCODING_NAME\u001B[49m\u001B[43m,\u001B[49m\n\u001B[32m      6\u001B[39m \u001B[43m                                      \u001B[49m\u001B[43mdrug_emb_size\u001B[49m\u001B[43m=\u001B[49m\u001B[43mDRUG_ENCODING_SIZE\u001B[49m\u001B[43m,\u001B[49m\n\u001B[32m      7\u001B[39m \u001B[43m                                      \u001B[49m\u001B[43mgene_names_key\u001B[49m\u001B[43m=\u001B[49m\u001B[43mGENE_NAMES\u001B[49m\u001B[43m,\u001B[49m\n\u001B[32m      8\u001B[39m \u001B[43m                                      \u001B[49m\u001B[43mrun_name\u001B[49m\u001B[43m=\u001B[49m\u001B[33;43m\"\u001B[39;49m\u001B[33;43mtest\u001B[39;49m\u001B[33;43m\"\u001B[39;49m\u001B[43m)\u001B[49m\n",
      "\u001B[36mFile \u001B[39m\u001B[32m~\\Documents\\scFiLM\\src\\evaluator\\null_evaluator.py:71\u001B[39m, in \u001B[36mNullEvaluator.cross_validation_models\u001B[39m\u001B[34m(drug_splits, adata, input_name, output_name, drug_rep_name, drug_emb_size, gene_names_key, run_name)\u001B[39m\n\u001B[32m     68\u001B[39m     gene_names = adata_control.uns[gene_names_key]\n\u001B[32m     69\u001B[39m     predictions = final_ev.test()\n\u001B[32m---> \u001B[39m\u001B[32m71\u001B[39m     performance = \u001B[43mget_model_stats\u001B[49m(predictions, adata_control, output_name, gene_names, run_name)\n\u001B[32m     72\u001B[39m     output[i] = performance\n\u001B[32m     74\u001B[39m \u001B[38;5;28;01mreturn\u001B[39;00m output\n",
      "\u001B[36mFile \u001B[39m\u001B[32m_pydevd_bundle\\\\pydevd_cython_win32_312_64.pyx:1187\u001B[39m, in \u001B[36m_pydevd_bundle.pydevd_cython_win32_312_64.SafeCallWrapper.__call__\u001B[39m\u001B[34m()\u001B[39m\n",
      "\u001B[36mFile \u001B[39m\u001B[32m_pydevd_bundle\\\\pydevd_cython_win32_312_64.pyx:627\u001B[39m, in \u001B[36m_pydevd_bundle.pydevd_cython_win32_312_64.PyDBFrame.trace_dispatch\u001B[39m\u001B[34m()\u001B[39m\n",
      "\u001B[36mFile \u001B[39m\u001B[32m_pydevd_bundle\\\\pydevd_cython_win32_312_64.pyx:937\u001B[39m, in \u001B[36m_pydevd_bundle.pydevd_cython_win32_312_64.PyDBFrame.trace_dispatch\u001B[39m\u001B[34m()\u001B[39m\n",
      "\u001B[36mFile \u001B[39m\u001B[32m_pydevd_bundle\\\\pydevd_cython_win32_312_64.pyx:928\u001B[39m, in \u001B[36m_pydevd_bundle.pydevd_cython_win32_312_64.PyDBFrame.trace_dispatch\u001B[39m\u001B[34m()\u001B[39m\n",
      "\u001B[36mFile \u001B[39m\u001B[32m_pydevd_bundle\\\\pydevd_cython_win32_312_64.pyx:585\u001B[39m, in \u001B[36m_pydevd_bundle.pydevd_cython_win32_312_64.PyDBFrame.do_wait_suspend\u001B[39m\u001B[34m()\u001B[39m\n",
      "\u001B[36mFile \u001B[39m\u001B[32mC:\\Program Files\\JetBrains\\PyCharm 2024.3.5\\plugins\\python-ce\\helpers\\pydev\\pydevd.py:1220\u001B[39m, in \u001B[36mPyDB.do_wait_suspend\u001B[39m\u001B[34m(self, thread, frame, event, arg, send_suspend_message, is_unhandled_exception)\u001B[39m\n\u001B[32m   1217\u001B[39m         from_this_thread.append(frame_id)\n\u001B[32m   1219\u001B[39m \u001B[38;5;28;01mwith\u001B[39;00m \u001B[38;5;28mself\u001B[39m._threads_suspended_single_notification.notify_thread_suspended(thread_id, stop_reason):\n\u001B[32m-> \u001B[39m\u001B[32m1220\u001B[39m     \u001B[38;5;28;43mself\u001B[39;49m\u001B[43m.\u001B[49m\u001B[43m_do_wait_suspend\u001B[49m\u001B[43m(\u001B[49m\u001B[43mthread\u001B[49m\u001B[43m,\u001B[49m\u001B[43m \u001B[49m\u001B[43mframe\u001B[49m\u001B[43m,\u001B[49m\u001B[43m \u001B[49m\u001B[43mevent\u001B[49m\u001B[43m,\u001B[49m\u001B[43m \u001B[49m\u001B[43marg\u001B[49m\u001B[43m,\u001B[49m\u001B[43m \u001B[49m\u001B[43msuspend_type\u001B[49m\u001B[43m,\u001B[49m\u001B[43m \u001B[49m\u001B[43mfrom_this_thread\u001B[49m\u001B[43m)\u001B[49m\n",
      "\u001B[36mFile \u001B[39m\u001B[32mC:\\Program Files\\JetBrains\\PyCharm 2024.3.5\\plugins\\python-ce\\helpers\\pydev\\pydevd.py:1235\u001B[39m, in \u001B[36mPyDB._do_wait_suspend\u001B[39m\u001B[34m(self, thread, frame, event, arg, suspend_type, from_this_thread)\u001B[39m\n\u001B[32m   1232\u001B[39m             \u001B[38;5;28mself\u001B[39m._call_mpl_hook()\n\u001B[32m   1234\u001B[39m         \u001B[38;5;28mself\u001B[39m.process_internal_commands()\n\u001B[32m-> \u001B[39m\u001B[32m1235\u001B[39m         \u001B[43mtime\u001B[49m\u001B[43m.\u001B[49m\u001B[43msleep\u001B[49m\u001B[43m(\u001B[49m\u001B[32;43m0.01\u001B[39;49m\u001B[43m)\u001B[49m\n\u001B[32m   1237\u001B[39m \u001B[38;5;28mself\u001B[39m.cancel_async_evaluation(get_current_thread_id(thread), \u001B[38;5;28mstr\u001B[39m(\u001B[38;5;28mid\u001B[39m(frame)))\n\u001B[32m   1239\u001B[39m \u001B[38;5;66;03m# process any stepping instructions\u001B[39;00m\n",
      "\u001B[31mKeyboardInterrupt\u001B[39m: "
     ]
    }
   ],
   "execution_count": 7
  },
  {
   "metadata": {
    "ExecuteTime": {
     "end_time": "2025-04-11T13:02:59.311045Z",
     "start_time": "2025-04-11T13:02:59.305543Z"
    }
   },
   "cell_type": "code",
   "source": "performance",
   "id": "989158ba712270ae",
   "outputs": [
    {
     "data": {
      "text/plain": [
       "{0: {'key': 'test',\n",
       "  'mse_A549': np.float32(0.00054631993),\n",
       "  'mse_K562': np.float32(0.0003761313),\n",
       "  'mse_MCF7': np.float32(7.439224e-05),\n",
       "  'r2_A549': np.float64(0.9701286107301712),\n",
       "  'r2_K562': np.float64(0.9656613320112228),\n",
       "  'r2_MCF7': np.float64(0.985036239027977),\n",
       "  'rank_logfc_A549': np.float64(0.5),\n",
       "  'rank_logfc_K562': np.float64(0.5833333333333333),\n",
       "  'rank_logfc_MCF7': np.float64(0.75),\n",
       "  'edistance_A549': np.float64(2.1852799882155907),\n",
       "  'edistance_K562': np.float64(1.504525522911898),\n",
       "  'edistance_MCF7': np.float64(0.2975689918260134),\n",
       "  'logfc_corr_A549': np.float64(0.5740678136329143),\n",
       "  'logfc_corr_K562': np.float64(0.49868315328207447),\n",
       "  'logfc_corr_MCF7': np.float64(0.47634234975281997),\n",
       "  'top_logfc_corr_A549': np.float64(0.5205703269573594),\n",
       "  'top_logfc_corr_K562': np.float64(0.5370049158154293),\n",
       "  'top_logfc_corr_MCF7': np.float64(0.42968977452466445),\n",
       "  'predicted_bio_rep_A549': np.float64(0.7999999999999999),\n",
       "  'predicted_bio_rep_K562': np.float64(0.39999999999999997),\n",
       "  'predicted_bio_rep_MCF7': np.float64(0.39999999999999997)},\n",
       " 1: {'key': 'test',\n",
       "  'mse_A549': np.float32(0.0005482828),\n",
       "  'mse_K562': np.float32(0.00037499706),\n",
       "  'mse_MCF7': np.float32(7.531885e-05),\n",
       "  'r2_A549': np.float64(0.9700295180082321),\n",
       "  'r2_K562': np.float64(0.9657893627882004),\n",
       "  'r2_MCF7': np.float64(0.9848475009202957),\n",
       "  'rank_logfc_A549': np.float64(0.49999999999999994),\n",
       "  'rank_logfc_K562': np.float64(0.5),\n",
       "  'rank_logfc_MCF7': np.float64(0.75),\n",
       "  'edistance_A549': np.float64(2.193131207626834),\n",
       "  'edistance_K562': np.float64(1.499988517441615),\n",
       "  'edistance_MCF7': np.float64(0.30127531628764714),\n",
       "  'logfc_corr_A549': np.float64(0.5734150152934723),\n",
       "  'logfc_corr_K562': np.float64(0.49927757524581473),\n",
       "  'logfc_corr_MCF7': np.float64(0.4787723226807943),\n",
       "  'top_logfc_corr_A549': np.float64(0.5206114989069285),\n",
       "  'top_logfc_corr_K562': np.float64(0.5368990250978147),\n",
       "  'top_logfc_corr_MCF7': np.float64(0.43809206454084537),\n",
       "  'predicted_bio_rep_A549': np.float64(0.7999999999999999),\n",
       "  'predicted_bio_rep_K562': np.float64(0.39999999999999997),\n",
       "  'predicted_bio_rep_MCF7': np.float64(0.7999999999999999)},\n",
       " 2: {'key': 'test',\n",
       "  'mse_A549': np.float32(0.00054753316),\n",
       "  'mse_K562': np.float32(0.00037691827),\n",
       "  'mse_MCF7': np.float32(7.494622e-05),\n",
       "  'r2_A549': np.float64(0.9700732529163361),\n",
       "  'r2_K562': np.float64(0.9656340777873993),\n",
       "  'r2_MCF7': np.float64(0.984947994351387),\n",
       "  'rank_logfc_A549': np.float64(0.5),\n",
       "  'rank_logfc_K562': np.float64(0.5),\n",
       "  'rank_logfc_MCF7': np.float64(0.75),\n",
       "  'edistance_A549': np.float64(2.1901327640118353),\n",
       "  'edistance_K562': np.float64(1.5076727380481572),\n",
       "  'edistance_MCF7': np.float64(0.2997848319503813),\n",
       "  'logfc_corr_A549': np.float64(0.573463038736853),\n",
       "  'logfc_corr_K562': np.float64(0.4993784981959414),\n",
       "  'logfc_corr_MCF7': np.float64(0.4767771580272221),\n",
       "  'top_logfc_corr_A549': np.float64(0.5207069840914735),\n",
       "  'top_logfc_corr_K562': np.float64(0.538612387350295),\n",
       "  'top_logfc_corr_MCF7': np.float64(0.4167646067869269),\n",
       "  'predicted_bio_rep_A549': np.float64(0.7999999999999999),\n",
       "  'predicted_bio_rep_K562': np.float64(0.39999999999999997),\n",
       "  'predicted_bio_rep_MCF7': np.float64(0.7999999999999999)},\n",
       " 3: {'key': 'test',\n",
       "  'mse_A549': np.float32(0.0005468413),\n",
       "  'mse_K562': np.float32(0.00037718748),\n",
       "  'mse_MCF7': np.float32(7.462511e-05),\n",
       "  'r2_A549': np.float64(0.9701142311096191),\n",
       "  'r2_K562': np.float64(0.9655759632587433),\n",
       "  'r2_MCF7': np.float64(0.9850170910358429),\n",
       "  'rank_logfc_A549': np.float64(0.49999999999999994),\n",
       "  'rank_logfc_K562': np.float64(0.5833333333333333),\n",
       "  'rank_logfc_MCF7': np.float64(0.75),\n",
       "  'edistance_A549': np.float64(2.1873653994602336),\n",
       "  'edistance_K562': np.float64(1.5087501138610548),\n",
       "  'edistance_MCF7': np.float64(0.29850038589395034),\n",
       "  'logfc_corr_A549': np.float64(0.5738211894296903),\n",
       "  'logfc_corr_K562': np.float64(0.4996612112164631),\n",
       "  'logfc_corr_MCF7': np.float64(0.47724758179951754),\n",
       "  'top_logfc_corr_A549': np.float64(0.520582642031335),\n",
       "  'top_logfc_corr_K562': np.float64(0.5239836687775031),\n",
       "  'top_logfc_corr_MCF7': np.float64(0.41696060929784684),\n",
       "  'predicted_bio_rep_A549': np.float64(0.7999999999999999),\n",
       "  'predicted_bio_rep_K562': np.float64(0.39999999999999997),\n",
       "  'predicted_bio_rep_MCF7': np.float64(0.7999999999999999)},\n",
       " 4: {'key': 'test',\n",
       "  'mse_A549': np.float32(0.00054850156),\n",
       "  'mse_K562': np.float32(0.00037686634),\n",
       "  'mse_MCF7': np.float32(7.476054e-05),\n",
       "  'r2_A549': np.float64(0.9700170159339905),\n",
       "  'r2_K562': np.float64(0.9656636267900467),\n",
       "  'r2_MCF7': np.float64(0.9849696159362793),\n",
       "  'rank_logfc_A549': np.float64(0.49999999999999994),\n",
       "  'rank_logfc_K562': np.float64(0.5),\n",
       "  'rank_logfc_MCF7': np.float64(0.75),\n",
       "  'edistance_A549': np.float64(2.194005926705593),\n",
       "  'edistance_K562': np.float64(1.5074656274521914),\n",
       "  'edistance_MCF7': np.float64(0.2990421810316839),\n",
       "  'logfc_corr_A549': np.float64(0.5732148178158314),\n",
       "  'logfc_corr_K562': np.float64(0.4982792926952241),\n",
       "  'logfc_corr_MCF7': np.float64(0.4750234876466934),\n",
       "  'top_logfc_corr_A549': np.float64(0.5213983634631338),\n",
       "  'top_logfc_corr_K562': np.float64(0.5369027451896776),\n",
       "  'top_logfc_corr_MCF7': np.float64(0.40456458843777526),\n",
       "  'predicted_bio_rep_A549': np.float64(0.7999999999999999),\n",
       "  'predicted_bio_rep_K562': np.float64(0.39999999999999997),\n",
       "  'predicted_bio_rep_MCF7': np.float64(0.7999999999999999)}}"
      ]
     },
     "execution_count": 6,
     "metadata": {},
     "output_type": "execute_result"
    }
   ],
   "execution_count": 6
  },
  {
   "metadata": {},
   "cell_type": "code",
   "outputs": [],
   "execution_count": null,
   "source": "",
   "id": "e0f23ef55224a260"
  }
 ],
 "metadata": {
  "kernelspec": {
   "display_name": "Python 3",
   "language": "python",
   "name": "python3"
  },
  "language_info": {
   "codemirror_mode": {
    "name": "ipython",
    "version": 2
   },
   "file_extension": ".py",
   "mimetype": "text/x-python",
   "name": "python",
   "nbconvert_exporter": "python",
   "pygments_lexer": "ipython2",
   "version": "2.7.6"
  }
 },
 "nbformat": 4,
 "nbformat_minor": 5
}
