{
 "cells": [
  {
   "cell_type": "code",
   "execution_count": 3,
   "id": "7db94cbc-0ef2-47f8-8624-8acb34dfc7c1",
   "metadata": {},
   "outputs": [],
   "source": [
    "import anndata as ad\n",
    "import pickle as pkl\n",
    "\n",
    "from src.evaluator.mean_evaluator import get_models_results\n",
    "from src.utils import get_model_stats"
   ]
  },
  {
   "cell_type": "code",
   "execution_count": 4,
   "id": "9d8fc2c8-75ec-42f8-b1ae-c097b9088f13",
   "metadata": {},
   "outputs": [],
   "source": [
    "def train_different_featno(adata_path=None, run_name=None, res_savename=None):\n",
    "    DRUG_ENCODING_NAME = \"fmfp\"\n",
    "    DRUG_ENCODING_SIZE = 1024\n",
    "    SCHEDULER_MODE = 'min'\n",
    "\n",
    "    with open(\"./data/drug_splits/train_drugs_rand.pkl\", 'rb') as f:\n",
    "        drugs_train_rand = pkl.load(f)\n",
    "\n",
    "    with open(\"./data/drug_splits/val_drugs_rand.pkl\", 'rb') as f:\n",
    "        drugs_val_rand = pkl.load(f)\n",
    "\n",
    "    with open(\"./data/drug_splits/test_drugs_rand.pkl\", 'rb') as f:\n",
    "        drugs_test_rand = pkl.load(f)\n",
    "\n",
    "    drug_splits = dict()\n",
    "    drug_splits['train'] = drugs_train_rand\n",
    "    drug_splits['valid'] = drugs_val_rand\n",
    "    drug_splits['test'] = drugs_test_rand\n",
    "\n",
    "    adata = ad.read_h5ad(adata_path)\n",
    "\n",
    "    get_models_results(drug_splits=drug_splits,\n",
    "                          adata=adata,\n",
    "                          drug_rep_name=DRUG_ENCODING_NAME,\n",
    "                          drug_emb_size=DRUG_ENCODING_SIZE,\n",
    "                          save_path=res_savename\n",
    "                      )"
   ]
  },
  {
   "cell_type": "code",
   "execution_count": 5,
   "id": "c4c93195-4da5-4297-aa21-53b0e6817f9f",
   "metadata": {},
   "outputs": [
    {
     "name": "stdout",
     "output_type": "stream",
     "text": [
      "Loading Datasets ...\n"
     ]
    },
    {
     "name": "stderr",
     "output_type": "stream",
     "text": [
      "100%|███████████████████████████████████████████████████████████████████████████████████████████████████████████████████████████████████████████████████████████████████| 401917/401917 [03:59<00:00, 1681.31it/s]\n",
      "100%|███████████████████████████████████████████████████████████████████████████████████████████████████████████████████████████████████████████████████████████████████| 401917/401917 [01:09<00:00, 5814.13it/s]\n"
     ]
    },
    {
     "name": "stdout",
     "output_type": "stream",
     "text": [
      "Computing Mean Predictions ...\n"
     ]
    },
    {
     "name": "stderr",
     "output_type": "stream",
     "text": [
      "100%|█████████████████████████████████████████████████████████████████████████████████████████████████████████████████████████████████████████████████████████████████████| 20189/20189 [00:03<00:00, 6213.90it/s]\n"
     ]
    },
    {
     "name": "stdout",
     "output_type": "stream",
     "text": [
      "Getting test set predictions and saving results ...\n"
     ]
    },
    {
     "name": "stderr",
     "output_type": "stream",
     "text": [
      "100%|███████████████████████████████████████████████████████████████████████████████████████████████████████████████████████████████████████████████████████████████████████| 4892/4892 [00:00<00:00, 6457.27it/s]\n"
     ]
    }
   ],
   "source": [
    "train_different_featno(\n",
    "        adata_path=\"./data/feature_number/sciplex_hvg_500.h5ad\",\n",
    "        run_name=\"mean_rand_fs\",\n",
    "        res_savename=\"./results/feature_selection/mean_hvg_500_res.pkl\" \n",
    "    )"
   ]
  },
  {
   "cell_type": "code",
   "execution_count": 6,
   "id": "db9e4f5e-84a4-4ea6-8ea1-a810a528c5c9",
   "metadata": {},
   "outputs": [
    {
     "name": "stdout",
     "output_type": "stream",
     "text": [
      "Loading Datasets ...\n"
     ]
    },
    {
     "name": "stderr",
     "output_type": "stream",
     "text": [
      "100%|███████████████████████████████████████████████████████████████████████████████████████████████████████████████████████████████████████████████████████████████████| 401917/401917 [03:49<00:00, 1750.09it/s]\n",
      "100%|███████████████████████████████████████████████████████████████████████████████████████████████████████████████████████████████████████████████████████████████████| 401917/401917 [01:09<00:00, 5808.09it/s]\n"
     ]
    },
    {
     "name": "stdout",
     "output_type": "stream",
     "text": [
      "Computing Mean Predictions ...\n"
     ]
    },
    {
     "name": "stderr",
     "output_type": "stream",
     "text": [
      "100%|█████████████████████████████████████████████████████████████████████████████████████████████████████████████████████████████████████████████████████████████████████| 20189/20189 [00:04<00:00, 5025.78it/s]\n"
     ]
    },
    {
     "name": "stdout",
     "output_type": "stream",
     "text": [
      "Getting test set predictions and saving results ...\n"
     ]
    },
    {
     "name": "stderr",
     "output_type": "stream",
     "text": [
      "100%|███████████████████████████████████████████████████████████████████████████████████████████████████████████████████████████████████████████████████████████████████████| 4892/4892 [00:00<00:00, 5616.66it/s]\n"
     ]
    }
   ],
   "source": [
    "train_different_featno(\n",
    "        adata_path=\"./data/feature_number/sciplex_hvg_1000.h5ad\",\n",
    "        run_name=\"mean_rand_fs\",\n",
    "        res_savename=\"./results/feature_selection/mean_hvg_1000_res.pkl\" \n",
    "    )"
   ]
  },
  {
   "cell_type": "code",
   "execution_count": 7,
   "id": "3ae99228-3373-4995-8f92-fc68a2544776",
   "metadata": {},
   "outputs": [
    {
     "name": "stdout",
     "output_type": "stream",
     "text": [
      "Loading Datasets ...\n"
     ]
    },
    {
     "name": "stderr",
     "output_type": "stream",
     "text": [
      "100%|███████████████████████████████████████████████████████████████████████████████████████████████████████████████████████████████████████████████████████████████████| 401917/401917 [03:51<00:00, 1739.24it/s]\n",
      "100%|███████████████████████████████████████████████████████████████████████████████████████████████████████████████████████████████████████████████████████████████████| 401917/401917 [01:09<00:00, 5778.49it/s]\n"
     ]
    },
    {
     "name": "stdout",
     "output_type": "stream",
     "text": [
      "Computing Mean Predictions ...\n"
     ]
    },
    {
     "name": "stderr",
     "output_type": "stream",
     "text": [
      "100%|█████████████████████████████████████████████████████████████████████████████████████████████████████████████████████████████████████████████████████████████████████| 20189/20189 [00:05<00:00, 3787.19it/s]\n"
     ]
    },
    {
     "name": "stdout",
     "output_type": "stream",
     "text": [
      "Getting test set predictions and saving results ...\n"
     ]
    },
    {
     "name": "stderr",
     "output_type": "stream",
     "text": [
      "100%|███████████████████████████████████████████████████████████████████████████████████████████████████████████████████████████████████████████████████████████████████████| 4892/4892 [00:01<00:00, 4534.24it/s]\n"
     ]
    }
   ],
   "source": [
    "train_different_featno(\n",
    "        adata_path=\"./data/feature_number/sciplex_hvg_2000.h5ad\",\n",
    "        run_name=\"mean_rand_fs\",\n",
    "        res_savename=\"./results/feature_selection/mean_hvg_2000_res.pkl\" \n",
    "    )"
   ]
  },
  {
   "cell_type": "code",
   "execution_count": 8,
   "id": "45c19597-b412-4bac-9b7b-d8c0cbef5878",
   "metadata": {},
   "outputs": [
    {
     "name": "stdout",
     "output_type": "stream",
     "text": [
      "Loading Datasets ...\n"
     ]
    },
    {
     "name": "stderr",
     "output_type": "stream",
     "text": [
      "100%|███████████████████████████████████████████████████████████████████████████████████████████████████████████████████████████████████████████████████████████████████| 401917/401917 [03:52<00:00, 1730.61it/s]\n",
      "100%|███████████████████████████████████████████████████████████████████████████████████████████████████████████████████████████████████████████████████████████████████| 401917/401917 [01:10<00:00, 5688.65it/s]\n"
     ]
    },
    {
     "name": "stdout",
     "output_type": "stream",
     "text": [
      "Computing Mean Predictions ...\n"
     ]
    },
    {
     "name": "stderr",
     "output_type": "stream",
     "text": [
      "100%|█████████████████████████████████████████████████████████████████████████████████████████████████████████████████████████████████████████████████████████████████████| 20189/20189 [00:08<00:00, 2447.84it/s]\n"
     ]
    },
    {
     "name": "stdout",
     "output_type": "stream",
     "text": [
      "Getting test set predictions and saving results ...\n"
     ]
    },
    {
     "name": "stderr",
     "output_type": "stream",
     "text": [
      "100%|███████████████████████████████████████████████████████████████████████████████████████████████████████████████████████████████████████████████████████████████████████| 4892/4892 [00:01<00:00, 3564.12it/s]\n"
     ]
    }
   ],
   "source": [
    "train_different_featno(\n",
    "        adata_path=\"./data/feature_number/sciplex_hvg_3500.h5ad\",\n",
    "        run_name=\"mean_rand_fs\",\n",
    "        res_savename=\"./results/feature_selection/mean_hvg_3500_res.pkl\" \n",
    "    )"
   ]
  },
  {
   "cell_type": "code",
   "execution_count": 9,
   "id": "12d23a33-3202-48a1-8e2f-266c5123c7e6",
   "metadata": {},
   "outputs": [
    {
     "name": "stdout",
     "output_type": "stream",
     "text": [
      "Loading Datasets ...\n"
     ]
    },
    {
     "name": "stderr",
     "output_type": "stream",
     "text": [
      "100%|███████████████████████████████████████████████████████████████████████████████████████████████████████████████████████████████████████████████████████████████████| 401917/401917 [04:00<00:00, 1673.56it/s]\n",
      "100%|███████████████████████████████████████████████████████████████████████████████████████████████████████████████████████████████████████████████████████████████████| 401917/401917 [01:12<00:00, 5575.80it/s]\n"
     ]
    },
    {
     "name": "stdout",
     "output_type": "stream",
     "text": [
      "Computing Mean Predictions ...\n"
     ]
    },
    {
     "name": "stderr",
     "output_type": "stream",
     "text": [
      "100%|█████████████████████████████████████████████████████████████████████████████████████████████████████████████████████████████████████████████████████████████████████| 20189/20189 [00:08<00:00, 2468.53it/s]\n"
     ]
    },
    {
     "name": "stdout",
     "output_type": "stream",
     "text": [
      "Getting test set predictions and saving results ...\n"
     ]
    },
    {
     "name": "stderr",
     "output_type": "stream",
     "text": [
      "100%|███████████████████████████████████████████████████████████████████████████████████████████████████████████████████████████████████████████████████████████████████████| 4892/4892 [00:01<00:00, 2800.33it/s]\n"
     ]
    }
   ],
   "source": [
    "train_different_featno(\n",
    "        adata_path=\"./data/feature_number/sciplex_hvg_5000.h5ad\",\n",
    "        run_name=\"mean_rand_fs\",\n",
    "        res_savename=\"./results/feature_selection/mean_hvg_5000_res.pkl\" \n",
    "    )"
   ]
  },
  {
   "cell_type": "code",
   "execution_count": 10,
   "id": "2aaa5840-b19c-4e1b-b60a-7845d03c2d0e",
   "metadata": {},
   "outputs": [
    {
     "name": "stdout",
     "output_type": "stream",
     "text": [
      "Loading Datasets ...\n"
     ]
    },
    {
     "name": "stderr",
     "output_type": "stream",
     "text": [
      "100%|███████████████████████████████████████████████████████████████████████████████████████████████████████████████████████████████████████████████████████████████████| 401917/401917 [04:00<00:00, 1668.83it/s]\n",
      "100%|███████████████████████████████████████████████████████████████████████████████████████████████████████████████████████████████████████████████████████████████████| 401917/401917 [01:11<00:00, 5588.96it/s]\n"
     ]
    },
    {
     "name": "stdout",
     "output_type": "stream",
     "text": [
      "Computing Mean Predictions ...\n"
     ]
    },
    {
     "name": "stderr",
     "output_type": "stream",
     "text": [
      "100%|█████████████████████████████████████████████████████████████████████████████████████████████████████████████████████████████████████████████████████████████████████| 20189/20189 [00:11<00:00, 1779.07it/s]\n"
     ]
    },
    {
     "name": "stdout",
     "output_type": "stream",
     "text": [
      "Getting test set predictions and saving results ...\n"
     ]
    },
    {
     "name": "stderr",
     "output_type": "stream",
     "text": [
      "100%|███████████████████████████████████████████████████████████████████████████████████████████████████████████████████████████████████████████████████████████████████████| 4892/4892 [00:02<00:00, 2193.51it/s]\n"
     ]
    }
   ],
   "source": [
    "train_different_featno(\n",
    "        adata_path=\"./data/feature_number/sciplex_hvg_7500.h5ad\",\n",
    "        run_name=\"mean_rand_fs\",\n",
    "        res_savename=\"./results/feature_selection/mean_hvg_7500_res.pkl\" \n",
    "    )"
   ]
  },
  {
   "cell_type": "code",
   "execution_count": null,
   "id": "d46b2f11-9c39-4277-bdf1-c12044cdf7b4",
   "metadata": {},
   "outputs": [],
   "source": []
  }
 ],
 "metadata": {
  "kernelspec": {
   "display_name": "Python 3 (ipykernel)",
   "language": "python",
   "name": "python3"
  },
  "language_info": {
   "codemirror_mode": {
    "name": "ipython",
    "version": 3
   },
   "file_extension": ".py",
   "mimetype": "text/x-python",
   "name": "python",
   "nbconvert_exporter": "python",
   "pygments_lexer": "ipython3",
   "version": "3.12.7"
  }
 },
 "nbformat": 4,
 "nbformat_minor": 5
}
