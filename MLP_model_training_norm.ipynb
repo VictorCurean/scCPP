{
 "cells": [
  {
   "cell_type": "code",
   "execution_count": 2,
   "id": "1a775529-30d1-49cd-9363-eb79d61c8256",
   "metadata": {
    "ExecuteTime": {
     "end_time": "2025-04-03T14:31:55.729730Z",
     "start_time": "2025-04-03T14:31:53.236753Z"
    }
   },
   "outputs": [],
   "source": [
    "import anndata as ad\n",
    "import pickle as pkl\n",
    "\n",
    "from src.evaluator.MLP_baseline_evaluator import get_models_results\n",
    "from src.evaluator.evaluator_utils import l2_loss\n",
    "from src.utils import get_model_stats\n"
   ]
  },
  {
   "cell_type": "code",
   "execution_count": 10,
   "id": "7fc157eac8fc2766",
   "metadata": {
    "ExecuteTime": {
     "end_time": "2025-04-03T14:31:57.757764Z",
     "start_time": "2025-04-03T14:31:57.755344Z"
    }
   },
   "outputs": [],
   "source": [
    "def train_different_normalization(adata_path=None, run_name=None, res_savename=None, stats_savename=None):\n",
    "    DRUG_ENCODING_NAME = \"fmfp\"\n",
    "    DRUG_ENCODING_SIZE = 1024\n",
    "    N_TRIALS = 50\n",
    "    SCHEDULER_MODE = 'min'\n",
    "\n",
    "    with open(\"./data/drug_splits/train_drugs_rand.pkl\", 'rb') as f:\n",
    "        drugs_train_rand = pkl.load(f)\n",
    "\n",
    "    with open(\"./data/drug_splits/val_drugs_rand.pkl\", 'rb') as f:\n",
    "        drugs_val_rand = pkl.load(f)\n",
    "\n",
    "    with open(\"./data/drug_splits/test_drugs_rand.pkl\", 'rb') as f:\n",
    "        drugs_test_rand = pkl.load(f)\n",
    "\n",
    "    drug_splits = dict()\n",
    "    drug_splits['train'] = drugs_train_rand\n",
    "    drug_splits['valid'] = drugs_val_rand\n",
    "    drug_splits['test'] = drugs_test_rand\n",
    "\n",
    "    adata = ad.read_h5ad(adata_path)\n",
    "\n",
    "    get_models_results(drug_splits=drug_splits,\n",
    "                          loss_function=l2_loss,\n",
    "                          adata=adata,\n",
    "                          input_dim=1878,\n",
    "                          output_dim=1878,\n",
    "                          drug_rep_name=DRUG_ENCODING_NAME,\n",
    "                          drug_emb_size=DRUG_ENCODING_SIZE,\n",
    "                          n_trials=N_TRIALS,\n",
    "                          scheduler_mode=SCHEDULER_MODE,\n",
    "                          run_name=run_name,\n",
    "                          save_path=res_savename\n",
    "                      )\n",
    "\n",
    "    with open(res_savename, 'rb') as f:\n",
    "        res_raw = pkl.load(f)\n",
    "\n",
    "    adata_control = adata[adata.obs.product_name == 'Vehicle'].copy()\n",
    "    gene_names = list(adata_control.var_names)\n",
    "    raw_stats = get_model_stats(res_raw, adata_control, gene_names, run_name)\n",
    "\n",
    "    with open(stats_savename, 'wb') as f:\n",
    "        pkl.dump(raw_stats, f)"
   ]
  },
  {
   "cell_type": "code",
   "execution_count": 11,
   "id": "372c1f47-b8f3-4212-b63d-c2892f9c2eca",
   "metadata": {},
   "outputs": [
    {
     "name": "stdout",
     "output_type": "stream",
     "text": [
      "Loading Datasets ...\n"
     ]
    },
    {
     "name": "stderr",
     "output_type": "stream",
     "text": [
      "100%|█████████████████████████████████████████████████████████████████████████████████████████████████████████████████████████████████████| 401917/401917 [03:07<00:00, 2144.97it/s]\n",
      "100%|█████████████████████████████████████████████████████████████████████████████████████████████████████████████████████████████████████| 401917/401917 [01:13<00:00, 5438.82it/s]\n",
      "[I 2025-05-24 11:17:02,145] Using an existing study with name 'mlp_rawcount_norm' instead of creating a new one.\n"
     ]
    },
    {
     "name": "stdout",
     "output_type": "stream",
     "text": [
      "Optimizing Hyperparameters with Optuna ...\n"
     ]
    },
    {
     "name": "stderr",
     "output_type": "stream",
     "text": [
      "[W 2025-05-24 11:17:04,674] Trial 1 failed with parameters: {'lr': 0.0001, 'weight_decay': 0.0001, 'scheduler_factor': 0.1, 'scheduler_patience': 10, 'batch_size': 256, 'dropout': 0.2, 'hidden_dims': 1024} because of the following error: NameError(\"name 'avg_loss' is not defined\").\n",
      "Traceback (most recent call last):\n",
      "  File \"/apps/miniconda3/envs/dege-fm/lib/python3.12/site-packages/optuna/study/_optimize.py\", line 197, in _run_trial\n",
      "    value_or_values = func(trial)\n",
      "                      ^^^^^^^^^^^\n",
      "  File \"/home/victor/projects/dege-fm/src/evaluator/MLP_baseline_evaluator.py\", line 180, in <lambda>\n",
      "    study.optimize(lambda trial: objective(trial,\n",
      "                                 ^^^^^^^^^^^^^^^^\n",
      "  File \"/home/victor/projects/dege-fm/src/evaluator/MLP_baseline_evaluator.py\", line 161, in objective\n",
      "    return ev.train_with_validation(loss_fn, trial)\n",
      "           ^^^^^^^^^^^^^^^^^^^^^^^^^^^^^^^^^^^^^^^^\n",
      "  File \"/home/victor/projects/dege-fm/src/evaluator/MLP_baseline_evaluator.py\", line 66, in train_with_validation\n",
      "    self.scheduler.step(avg_loss)\n",
      "                        ^^^^^^^^\n",
      "NameError: name 'avg_loss' is not defined\n",
      "[W 2025-05-24 11:17:04,675] Trial 1 failed with value None.\n"
     ]
    },
    {
     "name": "stdout",
     "output_type": "stream",
     "text": [
      "Epoch:\t 0 Val Loss:\t 0.7124263897202789\n"
     ]
    },
    {
     "ename": "NameError",
     "evalue": "name 'avg_loss' is not defined",
     "output_type": "error",
     "traceback": [
      "\u001b[0;31m---------------------------------------------------------------------------\u001b[0m",
      "\u001b[0;31mNameError\u001b[0m                                 Traceback (most recent call last)",
      "Cell \u001b[0;32mIn[11], line 1\u001b[0m\n\u001b[0;32m----> 1\u001b[0m train_different_normalization(\n\u001b[1;32m      2\u001b[0m         adata_path\u001b[38;5;241m=\u001b[39m\u001b[38;5;124m\"\u001b[39m\u001b[38;5;124m./data/normalization/sciplex_raw_filt.h5ad\u001b[39m\u001b[38;5;124m\"\u001b[39m,\n\u001b[1;32m      3\u001b[0m         run_name\u001b[38;5;241m=\u001b[39m\u001b[38;5;124m\"\u001b[39m\u001b[38;5;124mmlp_rawcount_norm\u001b[39m\u001b[38;5;124m\"\u001b[39m,\n\u001b[1;32m      4\u001b[0m         res_savename\u001b[38;5;241m=\u001b[39m\u001b[38;5;124m\"\u001b[39m\u001b[38;5;124m./results/mlp_rawcount_norm_res.pkl\u001b[39m\u001b[38;5;124m\"\u001b[39m,\n\u001b[1;32m      5\u001b[0m         stats_savename\u001b[38;5;241m=\u001b[39m\u001b[38;5;124m\"\u001b[39m\u001b[38;5;124m./results/mlp_rawcount_norm_stats.pkl\u001b[39m\u001b[38;5;124m\"\u001b[39m\n\u001b[1;32m      6\u001b[0m     )\n",
      "Cell \u001b[0;32mIn[10], line 23\u001b[0m, in \u001b[0;36mtrain_different_normalization\u001b[0;34m(adata_path, run_name, res_savename, stats_savename)\u001b[0m\n\u001b[1;32m     19\u001b[0m drug_splits[\u001b[38;5;124m'\u001b[39m\u001b[38;5;124mtest\u001b[39m\u001b[38;5;124m'\u001b[39m] \u001b[38;5;241m=\u001b[39m drugs_test_rand\n\u001b[1;32m     21\u001b[0m adata \u001b[38;5;241m=\u001b[39m ad\u001b[38;5;241m.\u001b[39mread_h5ad(adata_path)\n\u001b[0;32m---> 23\u001b[0m get_models_results(drug_splits\u001b[38;5;241m=\u001b[39mdrug_splits,\n\u001b[1;32m     24\u001b[0m                       loss_function\u001b[38;5;241m=\u001b[39ml2_loss,\n\u001b[1;32m     25\u001b[0m                       adata\u001b[38;5;241m=\u001b[39madata,\n\u001b[1;32m     26\u001b[0m                       input_dim\u001b[38;5;241m=\u001b[39m\u001b[38;5;241m1878\u001b[39m,\n\u001b[1;32m     27\u001b[0m                       output_dim\u001b[38;5;241m=\u001b[39m\u001b[38;5;241m1878\u001b[39m,\n\u001b[1;32m     28\u001b[0m                       drug_rep_name\u001b[38;5;241m=\u001b[39mDRUG_ENCODING_NAME,\n\u001b[1;32m     29\u001b[0m                       drug_emb_size\u001b[38;5;241m=\u001b[39mDRUG_ENCODING_SIZE,\n\u001b[1;32m     30\u001b[0m                       n_trials\u001b[38;5;241m=\u001b[39mN_TRIALS,\n\u001b[1;32m     31\u001b[0m                       scheduler_mode\u001b[38;5;241m=\u001b[39mSCHEDULER_MODE,\n\u001b[1;32m     32\u001b[0m                       run_name\u001b[38;5;241m=\u001b[39mrun_name,\n\u001b[1;32m     33\u001b[0m                       save_path\u001b[38;5;241m=\u001b[39mres_savename\n\u001b[1;32m     34\u001b[0m                   )\n\u001b[1;32m     36\u001b[0m \u001b[38;5;28;01mwith\u001b[39;00m \u001b[38;5;28mopen\u001b[39m(res_savename, \u001b[38;5;124m'\u001b[39m\u001b[38;5;124mrb\u001b[39m\u001b[38;5;124m'\u001b[39m) \u001b[38;5;28;01mas\u001b[39;00m f:\n\u001b[1;32m     37\u001b[0m     res_raw \u001b[38;5;241m=\u001b[39m pkl\u001b[38;5;241m.\u001b[39mload(f)\n",
      "File \u001b[0;32m~/projects/dege-fm/src/evaluator/MLP_baseline_evaluator.py:180\u001b[0m, in \u001b[0;36mget_models_results\u001b[0;34m(drug_splits, loss_function, adata, input_dim, output_dim, drug_rep_name, drug_emb_size, n_trials, scheduler_mode, run_name, save_path)\u001b[0m\n\u001b[1;32m    177\u001b[0m \u001b[38;5;28mprint\u001b[39m(\u001b[38;5;124m\"\u001b[39m\u001b[38;5;124mOptimizing Hyperparameters with Optuna ...\u001b[39m\u001b[38;5;124m\"\u001b[39m)\n\u001b[1;32m    179\u001b[0m study \u001b[38;5;241m=\u001b[39m optuna\u001b[38;5;241m.\u001b[39mcreate_study(direction\u001b[38;5;241m=\u001b[39m\u001b[38;5;124m'\u001b[39m\u001b[38;5;124mminimize\u001b[39m\u001b[38;5;124m'\u001b[39m, study_name\u001b[38;5;241m=\u001b[39mrun_name, storage\u001b[38;5;241m=\u001b[39m\u001b[38;5;124m\"\u001b[39m\u001b[38;5;124msqlite:///optuna_study.db\u001b[39m\u001b[38;5;124m\"\u001b[39m, load_if_exists\u001b[38;5;241m=\u001b[39m\u001b[38;5;28;01mTrue\u001b[39;00m)\n\u001b[0;32m--> 180\u001b[0m study\u001b[38;5;241m.\u001b[39moptimize(\u001b[38;5;28;01mlambda\u001b[39;00m trial: objective(trial,\n\u001b[1;32m    181\u001b[0m                                        dataset_train\u001b[38;5;241m=\u001b[39mdataset_train, dataset_validation\u001b[38;5;241m=\u001b[39mdataset_validation,\n\u001b[1;32m    182\u001b[0m                                        input_dim\u001b[38;5;241m=\u001b[39minput_dim, output_dim\u001b[38;5;241m=\u001b[39moutput_dim,\n\u001b[1;32m    183\u001b[0m                                        drug_dim\u001b[38;5;241m=\u001b[39mdrug_emb_size, loss_fn\u001b[38;5;241m=\u001b[39mloss_function), n_trials\u001b[38;5;241m=\u001b[39mn_trials)\n\u001b[1;32m    184\u001b[0m best_trial \u001b[38;5;241m=\u001b[39m study\u001b[38;5;241m.\u001b[39mbest_trial\n\u001b[1;32m    185\u001b[0m optimal_params \u001b[38;5;241m=\u001b[39m best_trial\u001b[38;5;241m.\u001b[39mparams\n",
      "File \u001b[0;32m/apps/miniconda3/envs/dege-fm/lib/python3.12/site-packages/optuna/study/study.py:475\u001b[0m, in \u001b[0;36mStudy.optimize\u001b[0;34m(self, func, n_trials, timeout, n_jobs, catch, callbacks, gc_after_trial, show_progress_bar)\u001b[0m\n\u001b[1;32m    373\u001b[0m \u001b[38;5;28;01mdef\u001b[39;00m \u001b[38;5;21moptimize\u001b[39m(\n\u001b[1;32m    374\u001b[0m     \u001b[38;5;28mself\u001b[39m,\n\u001b[1;32m    375\u001b[0m     func: ObjectiveFuncType,\n\u001b[0;32m   (...)\u001b[0m\n\u001b[1;32m    382\u001b[0m     show_progress_bar: \u001b[38;5;28mbool\u001b[39m \u001b[38;5;241m=\u001b[39m \u001b[38;5;28;01mFalse\u001b[39;00m,\n\u001b[1;32m    383\u001b[0m ) \u001b[38;5;241m-\u001b[39m\u001b[38;5;241m>\u001b[39m \u001b[38;5;28;01mNone\u001b[39;00m:\n\u001b[1;32m    384\u001b[0m \u001b[38;5;250m    \u001b[39m\u001b[38;5;124;03m\"\"\"Optimize an objective function.\u001b[39;00m\n\u001b[1;32m    385\u001b[0m \n\u001b[1;32m    386\u001b[0m \u001b[38;5;124;03m    Optimization is done by choosing a suitable set of hyperparameter values from a given\u001b[39;00m\n\u001b[0;32m   (...)\u001b[0m\n\u001b[1;32m    473\u001b[0m \u001b[38;5;124;03m            If nested invocation of this method occurs.\u001b[39;00m\n\u001b[1;32m    474\u001b[0m \u001b[38;5;124;03m    \"\"\"\u001b[39;00m\n\u001b[0;32m--> 475\u001b[0m     _optimize(\n\u001b[1;32m    476\u001b[0m         study\u001b[38;5;241m=\u001b[39m\u001b[38;5;28mself\u001b[39m,\n\u001b[1;32m    477\u001b[0m         func\u001b[38;5;241m=\u001b[39mfunc,\n\u001b[1;32m    478\u001b[0m         n_trials\u001b[38;5;241m=\u001b[39mn_trials,\n\u001b[1;32m    479\u001b[0m         timeout\u001b[38;5;241m=\u001b[39mtimeout,\n\u001b[1;32m    480\u001b[0m         n_jobs\u001b[38;5;241m=\u001b[39mn_jobs,\n\u001b[1;32m    481\u001b[0m         catch\u001b[38;5;241m=\u001b[39m\u001b[38;5;28mtuple\u001b[39m(catch) \u001b[38;5;28;01mif\u001b[39;00m \u001b[38;5;28misinstance\u001b[39m(catch, Iterable) \u001b[38;5;28;01melse\u001b[39;00m (catch,),\n\u001b[1;32m    482\u001b[0m         callbacks\u001b[38;5;241m=\u001b[39mcallbacks,\n\u001b[1;32m    483\u001b[0m         gc_after_trial\u001b[38;5;241m=\u001b[39mgc_after_trial,\n\u001b[1;32m    484\u001b[0m         show_progress_bar\u001b[38;5;241m=\u001b[39mshow_progress_bar,\n\u001b[1;32m    485\u001b[0m     )\n",
      "File \u001b[0;32m/apps/miniconda3/envs/dege-fm/lib/python3.12/site-packages/optuna/study/_optimize.py:63\u001b[0m, in \u001b[0;36m_optimize\u001b[0;34m(study, func, n_trials, timeout, n_jobs, catch, callbacks, gc_after_trial, show_progress_bar)\u001b[0m\n\u001b[1;32m     61\u001b[0m \u001b[38;5;28;01mtry\u001b[39;00m:\n\u001b[1;32m     62\u001b[0m     \u001b[38;5;28;01mif\u001b[39;00m n_jobs \u001b[38;5;241m==\u001b[39m \u001b[38;5;241m1\u001b[39m:\n\u001b[0;32m---> 63\u001b[0m         _optimize_sequential(\n\u001b[1;32m     64\u001b[0m             study,\n\u001b[1;32m     65\u001b[0m             func,\n\u001b[1;32m     66\u001b[0m             n_trials,\n\u001b[1;32m     67\u001b[0m             timeout,\n\u001b[1;32m     68\u001b[0m             catch,\n\u001b[1;32m     69\u001b[0m             callbacks,\n\u001b[1;32m     70\u001b[0m             gc_after_trial,\n\u001b[1;32m     71\u001b[0m             reseed_sampler_rng\u001b[38;5;241m=\u001b[39m\u001b[38;5;28;01mFalse\u001b[39;00m,\n\u001b[1;32m     72\u001b[0m             time_start\u001b[38;5;241m=\u001b[39m\u001b[38;5;28;01mNone\u001b[39;00m,\n\u001b[1;32m     73\u001b[0m             progress_bar\u001b[38;5;241m=\u001b[39mprogress_bar,\n\u001b[1;32m     74\u001b[0m         )\n\u001b[1;32m     75\u001b[0m     \u001b[38;5;28;01melse\u001b[39;00m:\n\u001b[1;32m     76\u001b[0m         \u001b[38;5;28;01mif\u001b[39;00m n_jobs \u001b[38;5;241m==\u001b[39m \u001b[38;5;241m-\u001b[39m\u001b[38;5;241m1\u001b[39m:\n",
      "File \u001b[0;32m/apps/miniconda3/envs/dege-fm/lib/python3.12/site-packages/optuna/study/_optimize.py:160\u001b[0m, in \u001b[0;36m_optimize_sequential\u001b[0;34m(study, func, n_trials, timeout, catch, callbacks, gc_after_trial, reseed_sampler_rng, time_start, progress_bar)\u001b[0m\n\u001b[1;32m    157\u001b[0m         \u001b[38;5;28;01mbreak\u001b[39;00m\n\u001b[1;32m    159\u001b[0m \u001b[38;5;28;01mtry\u001b[39;00m:\n\u001b[0;32m--> 160\u001b[0m     frozen_trial \u001b[38;5;241m=\u001b[39m _run_trial(study, func, catch)\n\u001b[1;32m    161\u001b[0m \u001b[38;5;28;01mfinally\u001b[39;00m:\n\u001b[1;32m    162\u001b[0m     \u001b[38;5;66;03m# The following line mitigates memory problems that can be occurred in some\u001b[39;00m\n\u001b[1;32m    163\u001b[0m     \u001b[38;5;66;03m# environments (e.g., services that use computing containers such as GitHub Actions).\u001b[39;00m\n\u001b[1;32m    164\u001b[0m     \u001b[38;5;66;03m# Please refer to the following PR for further details:\u001b[39;00m\n\u001b[1;32m    165\u001b[0m     \u001b[38;5;66;03m# https://github.com/optuna/optuna/pull/325.\u001b[39;00m\n\u001b[1;32m    166\u001b[0m     \u001b[38;5;28;01mif\u001b[39;00m gc_after_trial:\n",
      "File \u001b[0;32m/apps/miniconda3/envs/dege-fm/lib/python3.12/site-packages/optuna/study/_optimize.py:248\u001b[0m, in \u001b[0;36m_run_trial\u001b[0;34m(study, func, catch)\u001b[0m\n\u001b[1;32m    241\u001b[0m         \u001b[38;5;28;01massert\u001b[39;00m \u001b[38;5;28;01mFalse\u001b[39;00m, \u001b[38;5;124m\"\u001b[39m\u001b[38;5;124mShould not reach.\u001b[39m\u001b[38;5;124m\"\u001b[39m\n\u001b[1;32m    243\u001b[0m \u001b[38;5;28;01mif\u001b[39;00m (\n\u001b[1;32m    244\u001b[0m     frozen_trial\u001b[38;5;241m.\u001b[39mstate \u001b[38;5;241m==\u001b[39m TrialState\u001b[38;5;241m.\u001b[39mFAIL\n\u001b[1;32m    245\u001b[0m     \u001b[38;5;129;01mand\u001b[39;00m func_err \u001b[38;5;129;01mis\u001b[39;00m \u001b[38;5;129;01mnot\u001b[39;00m \u001b[38;5;28;01mNone\u001b[39;00m\n\u001b[1;32m    246\u001b[0m     \u001b[38;5;129;01mand\u001b[39;00m \u001b[38;5;129;01mnot\u001b[39;00m \u001b[38;5;28misinstance\u001b[39m(func_err, catch)\n\u001b[1;32m    247\u001b[0m ):\n\u001b[0;32m--> 248\u001b[0m     \u001b[38;5;28;01mraise\u001b[39;00m func_err\n\u001b[1;32m    249\u001b[0m \u001b[38;5;28;01mreturn\u001b[39;00m frozen_trial\n",
      "File \u001b[0;32m/apps/miniconda3/envs/dege-fm/lib/python3.12/site-packages/optuna/study/_optimize.py:197\u001b[0m, in \u001b[0;36m_run_trial\u001b[0;34m(study, func, catch)\u001b[0m\n\u001b[1;32m    195\u001b[0m \u001b[38;5;28;01mwith\u001b[39;00m get_heartbeat_thread(trial\u001b[38;5;241m.\u001b[39m_trial_id, study\u001b[38;5;241m.\u001b[39m_storage):\n\u001b[1;32m    196\u001b[0m     \u001b[38;5;28;01mtry\u001b[39;00m:\n\u001b[0;32m--> 197\u001b[0m         value_or_values \u001b[38;5;241m=\u001b[39m func(trial)\n\u001b[1;32m    198\u001b[0m     \u001b[38;5;28;01mexcept\u001b[39;00m exceptions\u001b[38;5;241m.\u001b[39mTrialPruned \u001b[38;5;28;01mas\u001b[39;00m e:\n\u001b[1;32m    199\u001b[0m         \u001b[38;5;66;03m# TODO(mamu): Handle multi-objective cases.\u001b[39;00m\n\u001b[1;32m    200\u001b[0m         state \u001b[38;5;241m=\u001b[39m TrialState\u001b[38;5;241m.\u001b[39mPRUNED\n",
      "File \u001b[0;32m~/projects/dege-fm/src/evaluator/MLP_baseline_evaluator.py:180\u001b[0m, in \u001b[0;36mget_models_results.<locals>.<lambda>\u001b[0;34m(trial)\u001b[0m\n\u001b[1;32m    177\u001b[0m \u001b[38;5;28mprint\u001b[39m(\u001b[38;5;124m\"\u001b[39m\u001b[38;5;124mOptimizing Hyperparameters with Optuna ...\u001b[39m\u001b[38;5;124m\"\u001b[39m)\n\u001b[1;32m    179\u001b[0m study \u001b[38;5;241m=\u001b[39m optuna\u001b[38;5;241m.\u001b[39mcreate_study(direction\u001b[38;5;241m=\u001b[39m\u001b[38;5;124m'\u001b[39m\u001b[38;5;124mminimize\u001b[39m\u001b[38;5;124m'\u001b[39m, study_name\u001b[38;5;241m=\u001b[39mrun_name, storage\u001b[38;5;241m=\u001b[39m\u001b[38;5;124m\"\u001b[39m\u001b[38;5;124msqlite:///optuna_study.db\u001b[39m\u001b[38;5;124m\"\u001b[39m, load_if_exists\u001b[38;5;241m=\u001b[39m\u001b[38;5;28;01mTrue\u001b[39;00m)\n\u001b[0;32m--> 180\u001b[0m study\u001b[38;5;241m.\u001b[39moptimize(\u001b[38;5;28;01mlambda\u001b[39;00m trial: objective(trial,\n\u001b[1;32m    181\u001b[0m                                        dataset_train\u001b[38;5;241m=\u001b[39mdataset_train, dataset_validation\u001b[38;5;241m=\u001b[39mdataset_validation,\n\u001b[1;32m    182\u001b[0m                                        input_dim\u001b[38;5;241m=\u001b[39minput_dim, output_dim\u001b[38;5;241m=\u001b[39moutput_dim,\n\u001b[1;32m    183\u001b[0m                                        drug_dim\u001b[38;5;241m=\u001b[39mdrug_emb_size, loss_fn\u001b[38;5;241m=\u001b[39mloss_function), n_trials\u001b[38;5;241m=\u001b[39mn_trials)\n\u001b[1;32m    184\u001b[0m best_trial \u001b[38;5;241m=\u001b[39m study\u001b[38;5;241m.\u001b[39mbest_trial\n\u001b[1;32m    185\u001b[0m optimal_params \u001b[38;5;241m=\u001b[39m best_trial\u001b[38;5;241m.\u001b[39mparams\n",
      "File \u001b[0;32m~/projects/dege-fm/src/evaluator/MLP_baseline_evaluator.py:161\u001b[0m, in \u001b[0;36mobjective\u001b[0;34m(trial, dataset_train, dataset_validation, input_dim, output_dim, drug_dim, scheduler_mode, loss_fn)\u001b[0m\n\u001b[1;32m    146\u001b[0m params \u001b[38;5;241m=\u001b[39m {\n\u001b[1;32m    147\u001b[0m     \u001b[38;5;124m'\u001b[39m\u001b[38;5;124minput_dim\u001b[39m\u001b[38;5;124m'\u001b[39m: input_dim,\n\u001b[1;32m    148\u001b[0m     \u001b[38;5;124m'\u001b[39m\u001b[38;5;124moutput_dim\u001b[39m\u001b[38;5;124m'\u001b[39m : output_dim,\n\u001b[0;32m   (...)\u001b[0m\n\u001b[1;32m    157\u001b[0m     \u001b[38;5;124m'\u001b[39m\u001b[38;5;124mhidden_dims\u001b[39m\u001b[38;5;124m'\u001b[39m : (hidden_dims,),\n\u001b[1;32m    158\u001b[0m }\n\u001b[1;32m    159\u001b[0m ev \u001b[38;5;241m=\u001b[39m MLPBaselineEvaluator(dataset_train, dataset_validation, \u001b[38;5;28;01mNone\u001b[39;00m, params)\n\u001b[0;32m--> 161\u001b[0m \u001b[38;5;28;01mreturn\u001b[39;00m ev\u001b[38;5;241m.\u001b[39mtrain_with_validation(loss_fn, trial)\n",
      "File \u001b[0;32m~/projects/dege-fm/src/evaluator/MLP_baseline_evaluator.py:66\u001b[0m, in \u001b[0;36mMLPBaselineEvaluator.train_with_validation\u001b[0;34m(self, loss_fn, trial)\u001b[0m\n\u001b[1;32m     64\u001b[0m validation_loss \u001b[38;5;241m=\u001b[39m \u001b[38;5;28mself\u001b[39m\u001b[38;5;241m.\u001b[39mvalidate(loss_fn)\n\u001b[1;32m     65\u001b[0m \u001b[38;5;28mprint\u001b[39m(\u001b[38;5;124m\"\u001b[39m\u001b[38;5;124mEpoch:\u001b[39m\u001b[38;5;130;01m\\t\u001b[39;00m\u001b[38;5;124m\"\u001b[39m, epoch, \u001b[38;5;124m\"\u001b[39m\u001b[38;5;124mVal Loss:\u001b[39m\u001b[38;5;130;01m\\t\u001b[39;00m\u001b[38;5;124m\"\u001b[39m, validation_loss)\n\u001b[0;32m---> 66\u001b[0m \u001b[38;5;28mself\u001b[39m\u001b[38;5;241m.\u001b[39mscheduler\u001b[38;5;241m.\u001b[39mstep(avg_loss)\n\u001b[1;32m     67\u001b[0m trial\u001b[38;5;241m.\u001b[39mreport(validation_loss, epoch)\n\u001b[1;32m     69\u001b[0m \u001b[38;5;28;01mif\u001b[39;00m validation_loss \u001b[38;5;241m<\u001b[39m best_loss:\n",
      "\u001b[0;31mNameError\u001b[0m: name 'avg_loss' is not defined"
     ]
    }
   ],
   "source": [
    "train_different_normalization(\n",
    "        adata_path=\"./data/normalization/sciplex_raw_filt.h5ad\",\n",
    "        run_name=\"mlp_rawcount_norm\",\n",
    "        res_savename=\"./results/mlp_rawcount_norm_res.pkl\",\n",
    "        stats_savename=\"./results/mlp_rawcount_norm_stats.pkl\"\n",
    "    )"
   ]
  },
  {
   "cell_type": "code",
   "execution_count": null,
   "id": "3cb6cfc4-1dc7-4541-8328-12c6de6aa4d0",
   "metadata": {},
   "outputs": [],
   "source": [
    "train_different_normalization(\n",
    "        adata_path=\"./data/normalization/sciplex_cpm_filt.h5ad\",\n",
    "        run_name=\"mlp_cpm_norm\",\n",
    "        res_savename=\"./results/mlp_cpm_norm_res.pkl\",\n",
    "        stats_savename=\"./results/mlp_cpm_norm_stats.pkl\"\n",
    "    )"
   ]
  },
  {
   "cell_type": "code",
   "execution_count": null,
   "id": "3b6358b8-eaec-4c4a-8e4d-401f22c8c560",
   "metadata": {},
   "outputs": [],
   "source": [
    "train_different_normalization(\n",
    "        adata_path=\"./data/normalization/sciplex_shiftedlog_filt.h5ad\",\n",
    "        run_name=\"mlp_shiftedlog_norm\",\n",
    "        res_savename=\"./results/mlp_shiftedlog_norm_res.pkl\",\n",
    "        stats_savename=\"./results/mlp_shiftedlog_norm_stats.pkl\"\n",
    "    )"
   ]
  },
  {
   "cell_type": "code",
   "execution_count": null,
   "id": "30fb5d8d-a86a-403f-9691-cf63eda7af1d",
   "metadata": {},
   "outputs": [],
   "source": [
    "train_different_normalization(\n",
    "        adata_path=\"./data/normalization/sciplex_analyticpearson_filt.h5ad\",\n",
    "        run_name=\"mlp_analyticpearson_norm\",\n",
    "        res_savename=\"./results/mlp_analyticpearson_norm_res.pkl\",\n",
    "        stats_savename=\"./results/mlp_analyticpearson_norm_stats.pkl\"\n",
    "    )"
   ]
  },
  {
   "cell_type": "code",
   "execution_count": null,
   "id": "fb5d465b-e187-47cf-bbda-2fa05e62e60c",
   "metadata": {},
   "outputs": [],
   "source": []
  }
 ],
 "metadata": {
  "kernelspec": {
   "display_name": "Python 3 (ipykernel)",
   "language": "python",
   "name": "python3"
  },
  "language_info": {
   "codemirror_mode": {
    "name": "ipython",
    "version": 3
   },
   "file_extension": ".py",
   "mimetype": "text/x-python",
   "name": "python",
   "nbconvert_exporter": "python",
   "pygments_lexer": "ipython3",
   "version": "3.12.7"
  }
 },
 "nbformat": 4,
 "nbformat_minor": 5
}
