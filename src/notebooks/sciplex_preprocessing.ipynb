{
 "cells": [
  {
   "cell_type": "markdown",
   "id": "0b6bbd9b-956c-40fa-b9bb-5a8479b08ec6",
   "metadata": {},
   "source": [
    "Generate different sciplex datasets for training/testing scFiLM.\n",
    "\n",
    "2000 , 3500, 5000 hvg kept\n",
    "\n",
    "all cells vs. balanced vs. subsample\n",
    "\n",
    "pathway activation, genes, embeddings\n",
    "\n",
    "COATI + RDKit compound emveddings"
   ]
  },
  {
   "cell_type": "code",
   "execution_count": 77,
   "id": "dcf8345c-d9d6-41ce-87c0-7b9b51798a2e",
   "metadata": {},
   "outputs": [],
   "source": [
    "import anndata as ad\n",
    "import scanpy as sc\n",
    "import numpy as np"
   ]
  },
  {
   "cell_type": "code",
   "execution_count": 78,
   "id": "b91f7352-5f0e-4ee1-828a-e8558c80062c",
   "metadata": {},
   "outputs": [],
   "source": [
    "adata_raw = ad.read_h5ad(\"../../data/sciplex/sciplex3_uce_adata.h5ad\")"
   ]
  },
  {
   "cell_type": "code",
   "execution_count": 79,
   "id": "455eebd7-4a98-40de-8163-e3fbb484d6a7",
   "metadata": {},
   "outputs": [
    {
     "data": {
      "text/plain": [
       "AnnData object with n_obs × n_vars = 581766 × 17376\n",
       "    obs: 'cell_type', 'dose', 'dose_character', 'dose_pattern', 'g1s_score', 'g2m_score', 'pathway', 'pathway_level_1', 'pathway_level_2', 'product_dose', 'product_name', 'proliferation_index', 'replicate', 'size_factor', 'target', 'vehicle', 'n_genes'\n",
       "    var: 'id', 'num_cells_expressed-0-0', 'num_cells_expressed-1-0', 'num_cells_expressed-1', 'n_cells'\n",
       "    obsm: 'X_uce'"
      ]
     },
     "execution_count": 79,
     "metadata": {},
     "output_type": "execute_result"
    }
   ],
   "source": [
    "adata_raw"
   ]
  },
  {
   "cell_type": "markdown",
   "id": "86d7529c-c034-4fad-adfd-5150ddedc1e6",
   "metadata": {},
   "source": [
    "Create different representations for all cells"
   ]
  },
  {
   "cell_type": "code",
   "execution_count": 80,
   "id": "df11e929-af73-4ea6-b321-ca351b7b10c8",
   "metadata": {},
   "outputs": [],
   "source": [
    "sc.pp.filter_cells(adata_raw, min_genes=100)\n",
    "sc.pp.filter_genes(adata_raw, min_cells=3)"
   ]
  },
  {
   "cell_type": "code",
   "execution_count": 81,
   "id": "31854657-6acf-4ecc-bb8d-03df560addd6",
   "metadata": {},
   "outputs": [],
   "source": [
    "def get_preprocessed_expr(adata_raw, nhvg):\n",
    "    adata = adata_raw.copy()\n",
    "    sc.pp.normalize_total(adata)\n",
    "    sc.pp.log1p(adata)\n",
    "    sc.pp.highly_variable_genes(adata, n_top_genes=nhvg)\n",
    "    adata = adata[:, adata.var['highly_variable']]\n",
    "    return adata.X.toarray()"
   ]
  },
  {
   "cell_type": "code",
   "execution_count": 82,
   "id": "82c7a80c-be9d-4806-b854-4fa8a641c41b",
   "metadata": {},
   "outputs": [],
   "source": [
    "X_2000_hvg = get_preprocessed_expr(adata_raw, 2000)\n",
    "X_3500_hvg = get_preprocessed_expr(adata_raw, 3500)\n",
    "X_5000_hvg = get_preprocessed_expr(adata_raw, 5000)"
   ]
  },
  {
   "cell_type": "code",
   "execution_count": 83,
   "id": "e2624ce4-16ae-4bab-b699-1dddc57de09b",
   "metadata": {},
   "outputs": [],
   "source": [
    "adata_raw.obsm['X_2000_hvg'] = X_2000_hvg\n",
    "adata_raw.obsm['X_3500_hvg'] = X_3500_hvg\n",
    "adata_raw.obsm['X_5000_hvg'] = X_5000_hvg"
   ]
  },
  {
   "cell_type": "code",
   "execution_count": 84,
   "id": "5592ccdd-0056-4837-9296-931c763a135f",
   "metadata": {},
   "outputs": [
    {
     "data": {
      "text/plain": [
       "AnnData object with n_obs × n_vars = 581565 × 17376\n",
       "    obs: 'cell_type', 'dose', 'dose_character', 'dose_pattern', 'g1s_score', 'g2m_score', 'pathway', 'pathway_level_1', 'pathway_level_2', 'product_dose', 'product_name', 'proliferation_index', 'replicate', 'size_factor', 'target', 'vehicle', 'n_genes'\n",
       "    var: 'id', 'num_cells_expressed-0-0', 'num_cells_expressed-1-0', 'num_cells_expressed-1', 'n_cells'\n",
       "    obsm: 'X_uce', 'X_2000_hvg', 'X_3500_hvg', 'X_5000_hvg'"
      ]
     },
     "execution_count": 84,
     "metadata": {},
     "output_type": "execute_result"
    }
   ],
   "source": [
    "adata_raw"
   ]
  },
  {
   "cell_type": "markdown",
   "id": "0f76ff87-5fbc-43ad-890f-6214eda1df33",
   "metadata": {},
   "source": [
    "Create different SM embeddings based on different models"
   ]
  },
  {
   "cell_type": "code",
   "execution_count": 85,
   "id": "00979cc7-47d4-4f66-91d9-e36bd8c883b7",
   "metadata": {},
   "outputs": [],
   "source": [
    "adata_old = ad.read_h5ad(\"../../data/sciplex/sciplex_preprocessed.h5ad\")"
   ]
  },
  {
   "cell_type": "code",
   "execution_count": 86,
   "id": "0eebcbea-55ec-4f19-b4a8-549c47f70df4",
   "metadata": {},
   "outputs": [
    {
     "data": {
      "text/plain": [
       "0         [-3.0742437839508057, 1.615997314453125, -3.41...\n",
       "1         [-3.0815889835357666, 1.041774034500122, -3.38...\n",
       "2                                                       NaN\n",
       "3         [-3.334993839263916, 1.0232042074203491, -3.68...\n",
       "5         [-3.1765522956848145, 1.1800906658172607, -3.5...\n",
       "                                ...                        \n",
       "581772    [-3.210461378097534, 0.06894481182098389, -3.5...\n",
       "581773    [-3.4492268562316895, 1.4253485202789307, -3.7...\n",
       "581774    [-3.4714298248291016, 1.2979487180709839, -3.8...\n",
       "581775    [-3.3392510414123535, 0.9335826635360718, -3.6...\n",
       "581776    [-3.2849373817443848, 0.9245714545249939, -3.5...\n",
       "Name: sm_embedding, Length: 571906, dtype: category\n",
       "Categories (183, object): ['[-2.67497181892395, 0.7255674004554749, -2.85..., '[-2.791207790374756, 0.5547888875007629, -3.0..., '[-2.829848289489746, 1.5994620323181152, -3.0..., '[-2.857618808746338, 1.0246357917785645, -3.0..., ..., '[-3.5625855922698975, 2.1696584224700928, -4...., '[-3.5920088291168213, 1.1335642337799072, -4...., '[-3.5961756706237793, 2.140591859817505, -4.0..., '[-3.6214163303375244, 1.6785063743591309, -3....]"
      ]
     },
     "execution_count": 86,
     "metadata": {},
     "output_type": "execute_result"
    }
   ],
   "source": [
    "adata_old.obs['sm_embedding']"
   ]
  },
  {
   "cell_type": "code",
   "execution_count": 87,
   "id": "5c6114fb-4ce2-4504-af1c-4532f13a98cf",
   "metadata": {},
   "outputs": [],
   "source": [
    "drugname_smiles_map = dict(zip(adata_old.obs['product_name'], adata_old.obs['smiles']))\n",
    "drugname_pubchemid_map = dict(zip(adata_old.obs['product_name'], adata_old.obs['pubchem_ID']))\n",
    "drugname_coati_map = dict(zip(adata_old.obs['product_name'], adata_old.obs['sm_embedding']))"
   ]
  },
  {
   "cell_type": "markdown",
   "id": "4ba1488e-b5b9-480d-92ac-14d005655383",
   "metadata": {},
   "source": [
    "RDKIT Model"
   ]
  },
  {
   "cell_type": "code",
   "execution_count": 88,
   "id": "4fdd9b4d-27da-4fc9-87c4-691eb135c8d5",
   "metadata": {},
   "outputs": [],
   "source": [
    "from rdkit import Chem\n",
    "from rdkit.Chem import AllChem"
   ]
  },
  {
   "cell_type": "code",
   "execution_count": 89,
   "id": "affdb88f-8c88-4348-a5e0-4f992373e145",
   "metadata": {},
   "outputs": [
    {
     "name": "stderr",
     "output_type": "stream",
     "text": [
      "[15:35:32] DEPRECATION WARNING: please use MorganGenerator\n",
      "[15:35:32] DEPRECATION WARNING: please use MorganGenerator\n",
      "[15:35:32] DEPRECATION WARNING: please use MorganGenerator\n",
      "[15:35:32] DEPRECATION WARNING: please use MorganGenerator\n",
      "[15:35:32] DEPRECATION WARNING: please use MorganGenerator\n",
      "[15:35:32] DEPRECATION WARNING: please use MorganGenerator\n",
      "[15:35:32] DEPRECATION WARNING: please use MorganGenerator\n",
      "[15:35:32] DEPRECATION WARNING: please use MorganGenerator\n",
      "[15:35:32] DEPRECATION WARNING: please use MorganGenerator\n",
      "[15:35:33] DEPRECATION WARNING: please use MorganGenerator\n",
      "[15:35:33] DEPRECATION WARNING: please use MorganGenerator\n",
      "[15:35:33] DEPRECATION WARNING: please use MorganGenerator\n",
      "[15:35:33] DEPRECATION WARNING: please use MorganGenerator\n",
      "[15:35:33] DEPRECATION WARNING: please use MorganGenerator\n",
      "[15:35:33] DEPRECATION WARNING: please use MorganGenerator\n",
      "[15:35:33] DEPRECATION WARNING: please use MorganGenerator\n",
      "[15:35:33] DEPRECATION WARNING: please use MorganGenerator\n",
      "[15:35:33] DEPRECATION WARNING: please use MorganGenerator\n",
      "[15:35:33] DEPRECATION WARNING: please use MorganGenerator\n",
      "[15:35:33] DEPRECATION WARNING: please use MorganGenerator\n",
      "[15:35:33] DEPRECATION WARNING: please use MorganGenerator\n",
      "[15:35:33] DEPRECATION WARNING: please use MorganGenerator\n",
      "[15:35:33] DEPRECATION WARNING: please use MorganGenerator\n",
      "[15:35:33] DEPRECATION WARNING: please use MorganGenerator\n",
      "[15:35:33] DEPRECATION WARNING: please use MorganGenerator\n",
      "[15:35:33] DEPRECATION WARNING: please use MorganGenerator\n",
      "[15:35:33] DEPRECATION WARNING: please use MorganGenerator\n",
      "[15:35:33] DEPRECATION WARNING: please use MorganGenerator\n",
      "[15:35:33] DEPRECATION WARNING: please use MorganGenerator\n",
      "[15:35:33] DEPRECATION WARNING: please use MorganGenerator\n",
      "[15:35:33] DEPRECATION WARNING: please use MorganGenerator\n",
      "[15:35:33] DEPRECATION WARNING: please use MorganGenerator\n",
      "[15:35:33] DEPRECATION WARNING: please use MorganGenerator\n",
      "[15:35:33] DEPRECATION WARNING: please use MorganGenerator\n",
      "[15:35:33] DEPRECATION WARNING: please use MorganGenerator\n",
      "[15:35:33] DEPRECATION WARNING: please use MorganGenerator\n",
      "[15:35:33] DEPRECATION WARNING: please use MorganGenerator\n",
      "[15:35:33] DEPRECATION WARNING: please use MorganGenerator\n",
      "[15:35:33] DEPRECATION WARNING: please use MorganGenerator\n",
      "[15:35:33] DEPRECATION WARNING: please use MorganGenerator\n",
      "[15:35:33] DEPRECATION WARNING: please use MorganGenerator\n",
      "[15:35:33] DEPRECATION WARNING: please use MorganGenerator\n",
      "[15:35:33] DEPRECATION WARNING: please use MorganGenerator\n",
      "[15:35:33] DEPRECATION WARNING: please use MorganGenerator\n",
      "[15:35:33] DEPRECATION WARNING: please use MorganGenerator\n",
      "[15:35:33] DEPRECATION WARNING: please use MorganGenerator\n",
      "[15:35:33] DEPRECATION WARNING: please use MorganGenerator\n",
      "[15:35:33] DEPRECATION WARNING: please use MorganGenerator\n",
      "[15:35:33] DEPRECATION WARNING: please use MorganGenerator\n",
      "[15:35:33] DEPRECATION WARNING: please use MorganGenerator\n",
      "[15:35:33] DEPRECATION WARNING: please use MorganGenerator\n",
      "[15:35:33] DEPRECATION WARNING: please use MorganGenerator\n",
      "[15:35:33] DEPRECATION WARNING: please use MorganGenerator\n",
      "[15:35:33] DEPRECATION WARNING: please use MorganGenerator\n",
      "[15:35:33] DEPRECATION WARNING: please use MorganGenerator\n",
      "[15:35:33] DEPRECATION WARNING: please use MorganGenerator\n",
      "[15:35:33] DEPRECATION WARNING: please use MorganGenerator\n",
      "[15:35:33] DEPRECATION WARNING: please use MorganGenerator\n",
      "[15:35:33] DEPRECATION WARNING: please use MorganGenerator\n",
      "[15:35:33] DEPRECATION WARNING: please use MorganGenerator\n",
      "[15:35:33] DEPRECATION WARNING: please use MorganGenerator\n",
      "[15:35:33] DEPRECATION WARNING: please use MorganGenerator\n",
      "[15:35:33] DEPRECATION WARNING: please use MorganGenerator\n",
      "[15:35:33] DEPRECATION WARNING: please use MorganGenerator\n",
      "[15:35:33] DEPRECATION WARNING: please use MorganGenerator\n",
      "[15:35:33] DEPRECATION WARNING: please use MorganGenerator\n",
      "[15:35:33] DEPRECATION WARNING: please use MorganGenerator\n",
      "[15:35:33] DEPRECATION WARNING: please use MorganGenerator\n",
      "[15:35:33] DEPRECATION WARNING: please use MorganGenerator\n",
      "[15:35:33] DEPRECATION WARNING: please use MorganGenerator\n",
      "[15:35:33] DEPRECATION WARNING: please use MorganGenerator\n",
      "[15:35:33] DEPRECATION WARNING: please use MorganGenerator\n",
      "[15:35:33] DEPRECATION WARNING: please use MorganGenerator\n",
      "[15:35:33] DEPRECATION WARNING: please use MorganGenerator\n",
      "[15:35:33] DEPRECATION WARNING: please use MorganGenerator\n",
      "[15:35:33] DEPRECATION WARNING: please use MorganGenerator\n",
      "[15:35:33] DEPRECATION WARNING: please use MorganGenerator\n",
      "[15:35:33] DEPRECATION WARNING: please use MorganGenerator\n",
      "[15:35:33] DEPRECATION WARNING: please use MorganGenerator\n",
      "[15:35:33] DEPRECATION WARNING: please use MorganGenerator\n",
      "[15:35:33] DEPRECATION WARNING: please use MorganGenerator\n",
      "[15:35:33] DEPRECATION WARNING: please use MorganGenerator\n",
      "[15:35:33] DEPRECATION WARNING: please use MorganGenerator\n",
      "[15:35:33] DEPRECATION WARNING: please use MorganGenerator\n",
      "[15:35:33] DEPRECATION WARNING: please use MorganGenerator\n",
      "[15:35:33] DEPRECATION WARNING: please use MorganGenerator\n",
      "[15:35:33] DEPRECATION WARNING: please use MorganGenerator\n",
      "[15:35:33] DEPRECATION WARNING: please use MorganGenerator\n",
      "[15:35:33] DEPRECATION WARNING: please use MorganGenerator\n",
      "[15:35:33] DEPRECATION WARNING: please use MorganGenerator\n",
      "[15:35:33] DEPRECATION WARNING: please use MorganGenerator\n",
      "[15:35:33] DEPRECATION WARNING: please use MorganGenerator\n",
      "[15:35:33] DEPRECATION WARNING: please use MorganGenerator\n",
      "[15:35:33] DEPRECATION WARNING: please use MorganGenerator\n",
      "[15:35:33] DEPRECATION WARNING: please use MorganGenerator\n",
      "[15:35:33] DEPRECATION WARNING: please use MorganGenerator\n",
      "[15:35:33] DEPRECATION WARNING: please use MorganGenerator\n",
      "[15:35:33] DEPRECATION WARNING: please use MorganGenerator\n",
      "[15:35:33] DEPRECATION WARNING: please use MorganGenerator\n",
      "[15:35:33] DEPRECATION WARNING: please use MorganGenerator\n",
      "[15:35:33] DEPRECATION WARNING: please use MorganGenerator\n",
      "[15:35:33] DEPRECATION WARNING: please use MorganGenerator\n",
      "[15:35:33] DEPRECATION WARNING: please use MorganGenerator\n",
      "[15:35:33] DEPRECATION WARNING: please use MorganGenerator\n",
      "[15:35:33] DEPRECATION WARNING: please use MorganGenerator\n",
      "[15:35:33] DEPRECATION WARNING: please use MorganGenerator\n",
      "[15:35:33] DEPRECATION WARNING: please use MorganGenerator\n",
      "[15:35:33] DEPRECATION WARNING: please use MorganGenerator\n",
      "[15:35:33] DEPRECATION WARNING: please use MorganGenerator\n",
      "[15:35:33] DEPRECATION WARNING: please use MorganGenerator\n",
      "[15:35:33] DEPRECATION WARNING: please use MorganGenerator\n",
      "[15:35:33] DEPRECATION WARNING: please use MorganGenerator\n",
      "[15:35:33] DEPRECATION WARNING: please use MorganGenerator\n",
      "[15:35:33] DEPRECATION WARNING: please use MorganGenerator\n",
      "[15:35:33] DEPRECATION WARNING: please use MorganGenerator\n",
      "[15:35:33] DEPRECATION WARNING: please use MorganGenerator\n",
      "[15:35:33] DEPRECATION WARNING: please use MorganGenerator\n",
      "[15:35:33] DEPRECATION WARNING: please use MorganGenerator\n",
      "[15:35:33] DEPRECATION WARNING: please use MorganGenerator\n",
      "[15:35:33] DEPRECATION WARNING: please use MorganGenerator\n",
      "[15:35:33] DEPRECATION WARNING: please use MorganGenerator\n",
      "[15:35:33] DEPRECATION WARNING: please use MorganGenerator\n",
      "[15:35:33] DEPRECATION WARNING: please use MorganGenerator\n",
      "[15:35:33] DEPRECATION WARNING: please use MorganGenerator\n",
      "[15:35:33] DEPRECATION WARNING: please use MorganGenerator\n",
      "[15:35:33] DEPRECATION WARNING: please use MorganGenerator\n",
      "[15:35:33] DEPRECATION WARNING: please use MorganGenerator\n",
      "[15:35:33] DEPRECATION WARNING: please use MorganGenerator\n",
      "[15:35:33] DEPRECATION WARNING: please use MorganGenerator\n",
      "[15:35:33] DEPRECATION WARNING: please use MorganGenerator\n",
      "[15:35:33] DEPRECATION WARNING: please use MorganGenerator\n",
      "[15:35:33] DEPRECATION WARNING: please use MorganGenerator\n",
      "[15:35:33] DEPRECATION WARNING: please use MorganGenerator\n",
      "[15:35:33] DEPRECATION WARNING: please use MorganGenerator\n",
      "[15:35:33] DEPRECATION WARNING: please use MorganGenerator\n",
      "[15:35:33] DEPRECATION WARNING: please use MorganGenerator\n",
      "[15:35:33] DEPRECATION WARNING: please use MorganGenerator\n",
      "[15:35:33] DEPRECATION WARNING: please use MorganGenerator\n",
      "[15:35:33] DEPRECATION WARNING: please use MorganGenerator\n",
      "[15:35:33] DEPRECATION WARNING: please use MorganGenerator\n",
      "[15:35:33] DEPRECATION WARNING: please use MorganGenerator\n",
      "[15:35:33] DEPRECATION WARNING: please use MorganGenerator\n",
      "[15:35:33] DEPRECATION WARNING: please use MorganGenerator\n",
      "[15:35:33] DEPRECATION WARNING: please use MorganGenerator\n",
      "[15:35:33] DEPRECATION WARNING: please use MorganGenerator\n",
      "[15:35:33] DEPRECATION WARNING: please use MorganGenerator\n",
      "[15:35:33] DEPRECATION WARNING: please use MorganGenerator\n",
      "[15:35:33] DEPRECATION WARNING: please use MorganGenerator\n",
      "[15:35:33] DEPRECATION WARNING: please use MorganGenerator\n",
      "[15:35:33] DEPRECATION WARNING: please use MorganGenerator\n",
      "[15:35:33] DEPRECATION WARNING: please use MorganGenerator\n",
      "[15:35:33] DEPRECATION WARNING: please use MorganGenerator\n",
      "[15:35:33] DEPRECATION WARNING: please use MorganGenerator\n",
      "[15:35:33] DEPRECATION WARNING: please use MorganGenerator\n",
      "[15:35:33] DEPRECATION WARNING: please use MorganGenerator\n",
      "[15:35:33] DEPRECATION WARNING: please use MorganGenerator\n",
      "[15:35:33] DEPRECATION WARNING: please use MorganGenerator\n",
      "[15:35:33] DEPRECATION WARNING: please use MorganGenerator\n",
      "[15:35:33] DEPRECATION WARNING: please use MorganGenerator\n",
      "[15:35:33] DEPRECATION WARNING: please use MorganGenerator\n",
      "[15:35:33] DEPRECATION WARNING: please use MorganGenerator\n",
      "[15:35:33] DEPRECATION WARNING: please use MorganGenerator\n",
      "[15:35:33] DEPRECATION WARNING: please use MorganGenerator\n",
      "[15:35:33] DEPRECATION WARNING: please use MorganGenerator\n",
      "[15:35:33] DEPRECATION WARNING: please use MorganGenerator\n",
      "[15:35:33] DEPRECATION WARNING: please use MorganGenerator\n",
      "[15:35:33] DEPRECATION WARNING: please use MorganGenerator\n",
      "[15:35:33] DEPRECATION WARNING: please use MorganGenerator\n",
      "[15:35:33] DEPRECATION WARNING: please use MorganGenerator\n",
      "[15:35:33] DEPRECATION WARNING: please use MorganGenerator\n",
      "[15:35:33] DEPRECATION WARNING: please use MorganGenerator\n",
      "[15:35:33] DEPRECATION WARNING: please use MorganGenerator\n",
      "[15:35:33] DEPRECATION WARNING: please use MorganGenerator\n",
      "[15:35:33] DEPRECATION WARNING: please use MorganGenerator\n",
      "[15:35:33] DEPRECATION WARNING: please use MorganGenerator\n",
      "[15:35:33] DEPRECATION WARNING: please use MorganGenerator\n",
      "[15:35:33] DEPRECATION WARNING: please use MorganGenerator\n",
      "[15:35:33] DEPRECATION WARNING: please use MorganGenerator\n",
      "[15:35:33] DEPRECATION WARNING: please use MorganGenerator\n",
      "[15:35:33] DEPRECATION WARNING: please use MorganGenerator\n",
      "[15:35:33] DEPRECATION WARNING: please use MorganGenerator\n",
      "[15:35:33] DEPRECATION WARNING: please use MorganGenerator\n",
      "[15:35:33] DEPRECATION WARNING: please use MorganGenerator\n",
      "[15:35:33] DEPRECATION WARNING: please use MorganGenerator\n",
      "[15:35:33] DEPRECATION WARNING: please use MorganGenerator\n"
     ]
    }
   ],
   "source": [
    "smiles_rdkit_map = dict()\n",
    "\n",
    "for smiles in drugname_smiles_map.values():\n",
    "    if type(smiles) ==  float:\n",
    "        continue\n",
    "    else:\n",
    "        mol = Chem.MolFromSmiles(smiles)\n",
    "        fcfp4 = AllChem.GetMorganFingerprintAsBitVect(mol, 2, useFeatures=True, nBits=1024).ToBitString()\n",
    "        fcfp4_list = np.array(list(fcfp4), dtype=np.float32)\n",
    "    \n",
    "        smiles_rdkit_map[smiles] = fcfp4_list"
   ]
  },
  {
   "cell_type": "markdown",
   "id": "9f49c105-2aeb-4549-a480-1c2c4ac50d5f",
   "metadata": {},
   "source": [
    "Adding the sm embeddings in final adata"
   ]
  },
  {
   "cell_type": "code",
   "execution_count": 90,
   "id": "5f42a682-83d9-41fd-a042-310607aaec1a",
   "metadata": {},
   "outputs": [
    {
     "data": {
      "text/plain": [
       "AnnData object with n_obs × n_vars = 581565 × 17376\n",
       "    obs: 'cell_type', 'dose', 'dose_character', 'dose_pattern', 'g1s_score', 'g2m_score', 'pathway', 'pathway_level_1', 'pathway_level_2', 'product_dose', 'product_name', 'proliferation_index', 'replicate', 'size_factor', 'target', 'vehicle', 'n_genes'\n",
       "    var: 'id', 'num_cells_expressed-0-0', 'num_cells_expressed-1-0', 'num_cells_expressed-1', 'n_cells'\n",
       "    obsm: 'X_uce', 'X_2000_hvg', 'X_3500_hvg', 'X_5000_hvg'"
      ]
     },
     "execution_count": 90,
     "metadata": {},
     "output_type": "execute_result"
    }
   ],
   "source": [
    "adata_raw"
   ]
  },
  {
   "cell_type": "code",
   "execution_count": 91,
   "id": "eb594907-1d78-4a33-a278-8147e136ed99",
   "metadata": {},
   "outputs": [],
   "source": [
    "adata_raw = adata_raw[adata_raw.obs['product_name'].isin(list(adata_old.obs['product_name'].unique()))]"
   ]
  },
  {
   "cell_type": "code",
   "execution_count": 92,
   "id": "34b5f467-4cac-4ed5-ba81-e8560b86fcbd",
   "metadata": {},
   "outputs": [],
   "source": [
    "smiles = list()\n",
    "pubchem_id = list()\n",
    "coati_emb = list()\n",
    "morgan_emb = list()\n",
    "\n",
    "for product_name in list(adata_raw.obs['product_name']):\n",
    "    if product_name == \"Vehicle\":\n",
    "        smiles.append(None)\n",
    "        pubchem_id.append(None)\n",
    "        coati_emb.append(None)\n",
    "        morgan_emb.append(None)\n",
    "\n",
    "    else:\n",
    "        smiles.append(drugname_smiles_map[product_name])\n",
    "        pubchem_id.append(drugname_pubchemid_map[product_name])\n",
    "        coati_emb.append(drugname_coati_map[product_name])\n",
    "    \n",
    "        sm = drugname_smiles_map[product_name]\n",
    "        morgan_emb.append(smiles_rdkit_map[sm])"
   ]
  },
  {
   "cell_type": "code",
   "execution_count": 93,
   "id": "50ae5847-800a-4fc0-be32-442c92b5c731",
   "metadata": {},
   "outputs": [
    {
     "name": "stderr",
     "output_type": "stream",
     "text": [
      "/tmp/ipykernel_2120692/1631177008.py:1: ImplicitModificationWarning: Trying to modify attribute `.obs` of view, initializing view as actual.\n",
      "  adata_raw.obs['SMILES'] = smiles\n"
     ]
    }
   ],
   "source": [
    "adata_raw.obs['SMILES'] = smiles\n",
    "adata_raw.obs['pubchem_id'] = pubchem_id\n",
    "adata_raw.obs['sm_coati_emb'] = coati_emb\n",
    "adata_raw.obs['sm_morgan_emb'] = morgan_emb\n",
    "\n",
    "adata_raw.obs['sm_morgan_emb'] = adata_raw.obs['sm_morgan_emb'].apply(str)"
   ]
  },
  {
   "cell_type": "code",
   "execution_count": 94,
   "id": "127dfaec-4398-400d-9b98-df5f460d4f47",
   "metadata": {},
   "outputs": [],
   "source": [
    "adata_raw.write_h5ad(\"../../data/sciplex/sciplex_final.h5ad\")"
   ]
  },
  {
   "cell_type": "code",
   "execution_count": 95,
   "id": "932e48fc-7279-45d1-8d87-d6af8c9bb68a",
   "metadata": {},
   "outputs": [
    {
     "data": {
      "text/plain": [
       "AnnData object with n_obs × n_vars = 571696 × 17376\n",
       "    obs: 'cell_type', 'dose', 'dose_character', 'dose_pattern', 'g1s_score', 'g2m_score', 'pathway', 'pathway_level_1', 'pathway_level_2', 'product_dose', 'product_name', 'proliferation_index', 'replicate', 'size_factor', 'target', 'vehicle', 'n_genes', 'SMILES', 'pubchem_id', 'sm_coati_emb', 'sm_morgan_emb'\n",
       "    var: 'id', 'num_cells_expressed-0-0', 'num_cells_expressed-1-0', 'num_cells_expressed-1', 'n_cells'\n",
       "    obsm: 'X_uce', 'X_2000_hvg', 'X_3500_hvg', 'X_5000_hvg'"
      ]
     },
     "execution_count": 95,
     "metadata": {},
     "output_type": "execute_result"
    }
   ],
   "source": [
    "adata_raw"
   ]
  },
  {
   "cell_type": "code",
   "execution_count": 99,
   "id": "59cb2d3e-487b-4e9a-96ee-ad932dc6725b",
   "metadata": {},
   "outputs": [
    {
     "data": {
      "text/plain": [
       "array([[0.       , 0.       , 0.       , ..., 0.       , 0.       ,\n",
       "        0.       ],\n",
       "       [0.       , 0.       , 0.       , ..., 0.       , 0.       ,\n",
       "        0.       ],\n",
       "       [0.       , 1.2840154, 0.       , ..., 0.       , 0.       ,\n",
       "        0.       ],\n",
       "       ...,\n",
       "       [0.       , 0.       , 0.       , ..., 0.       , 0.       ,\n",
       "        0.       ],\n",
       "       [0.       , 0.       , 0.       , ..., 0.       , 0.       ,\n",
       "        0.       ],\n",
       "       [0.       , 0.       , 0.       , ..., 0.       , 0.       ,\n",
       "        0.       ]], dtype=float32)"
      ]
     },
     "execution_count": 99,
     "metadata": {},
     "output_type": "execute_result"
    }
   ],
   "source": [
    "adata_raw.obsm['X_5000_hvg']"
   ]
  },
  {
   "cell_type": "code",
   "execution_count": null,
   "id": "09faa678-fbb3-4d6e-b958-ab866c643460",
   "metadata": {},
   "outputs": [],
   "source": []
  }
 ],
 "metadata": {
  "kernelspec": {
   "display_name": "Python 3 (ipykernel)",
   "language": "python",
   "name": "python3"
  },
  "language_info": {
   "codemirror_mode": {
    "name": "ipython",
    "version": 3
   },
   "file_extension": ".py",
   "mimetype": "text/x-python",
   "name": "python",
   "nbconvert_exporter": "python",
   "pygments_lexer": "ipython3",
   "version": "3.12.7"
  }
 },
 "nbformat": 4,
 "nbformat_minor": 5
}
