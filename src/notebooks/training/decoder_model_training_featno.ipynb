{
 "cells": [
  {
   "cell_type": "code",
   "execution_count": 5,
   "id": "a5b97a7d-3187-43e9-8f4c-0e5a9f3ced8e",
   "metadata": {},
   "outputs": [],
   "source": [
    "import anndata as ad\n",
    "import pickle as pkl\n",
    "\n",
    "from src.evaluator.decoder_evaluator import get_models_results\n",
    "from src.evaluator.evaluator_utils import l2_loss"
   ]
  },
  {
   "cell_type": "code",
   "execution_count": 6,
   "id": "b693acab-bcf5-43fb-996b-a33455e1553e",
   "metadata": {},
   "outputs": [],
   "source": [
    "def train_different_featno(adata_path=None, run_name=None, res_savename=None, output_dim=None):\n",
    "    DRUG_ENCODING_NAME = \"fmfp\"\n",
    "    DRUG_ENCODING_SIZE = 1024\n",
    "    N_TRIALS = 50\n",
    "    SCHEDULER_MODE = 'min'\n",
    "\n",
    "    with open(\"./data/drug_splits/train_drugs_rand.pkl\", 'rb') as f:\n",
    "        drugs_train_rand = pkl.load(f)\n",
    "\n",
    "    with open(\"./data/drug_splits/val_drugs_rand.pkl\", 'rb') as f:\n",
    "        drugs_val_rand = pkl.load(f)\n",
    "\n",
    "    with open(\"./data/drug_splits/test_drugs_rand.pkl\", 'rb') as f:\n",
    "        drugs_test_rand = pkl.load(f)\n",
    "\n",
    "    drug_splits = dict()\n",
    "    drug_splits['train'] = drugs_train_rand\n",
    "    drug_splits['valid'] = drugs_val_rand\n",
    "    drug_splits['test'] = drugs_test_rand\n",
    "\n",
    "    adata = ad.read_h5ad(adata_path)\n",
    "\n",
    "    get_models_results(drug_splits=drug_splits,\n",
    "                          loss_function=l2_loss,\n",
    "                          adata=adata,\n",
    "                          input_dim=3,\n",
    "                          output_dim=output_dim,\n",
    "                          drug_rep_name=DRUG_ENCODING_NAME,\n",
    "                          drug_emb_size=DRUG_ENCODING_SIZE,\n",
    "                          n_trials=N_TRIALS,\n",
    "                          scheduler_mode=SCHEDULER_MODE,\n",
    "                          run_name=run_name,\n",
    "                          save_path=res_savename,\n",
    "                          add_relu=True\n",
    "                      )"
   ]
  },
  {
   "cell_type": "code",
   "execution_count": 9,
   "id": "da03abdc-b696-4375-99b3-563e3be3e48a",
   "metadata": {},
   "outputs": [
    {
     "name": "stdout",
     "output_type": "stream",
     "text": [
      "Loading Datasets ...\n"
     ]
    },
    {
     "name": "stderr",
     "output_type": "stream",
     "text": [
      "100%|███████████████████████████████████████████████████████████████████████████████████████████████████████████████████████████████████████████████████████████████████| 401917/401917 [03:07<00:00, 2142.94it/s]\n",
      "100%|███████████████████████████████████████████████████████████████████████████████████████████████████████████████████████████████████████████████████████████████████| 401917/401917 [01:14<00:00, 5414.96it/s]\n",
      "[I 2025-06-18 12:14:28,947] A new study created in RDB with name: decoder_hvg_500\n"
     ]
    },
    {
     "name": "stdout",
     "output_type": "stream",
     "text": [
      "Optimizing Hyperparameters with Optuna ...\n",
      "Epoch:\t 0 Val Loss:\t 0.036040958764560725\n",
      "Epoch:\t 1 Val Loss:\t 0.0359940535447188\n",
      "Epoch:\t 2 Val Loss:\t 0.03582629210122803\n",
      "Epoch:\t 3 Val Loss:\t 0.03582519927864855\n",
      "Epoch:\t 4 Val Loss:\t 0.036094724330722236\n",
      "Epoch:\t 5 Val Loss:\t 0.03576840181352143\n",
      "Epoch:\t 6 Val Loss:\t 0.03585878534789644\n",
      "Epoch:\t 7 Val Loss:\t 0.03574844200110263\n",
      "Epoch:\t 8 Val Loss:\t 0.035793500481529184\n",
      "Epoch:\t 9 Val Loss:\t 0.035686842017892274\n",
      "Epoch:\t 10 Val Loss:\t 0.035923281869885436\n",
      "Epoch:\t 11 Val Loss:\t 0.03587923205216949\n",
      "Epoch:\t 12 Val Loss:\t 0.035885136326353394\n",
      "Epoch:\t 13 Val Loss:\t 0.03603785663221277\n",
      "Epoch:\t 14 Val Loss:\t 0.03586215011321044\n",
      "Epoch:\t 15 Val Loss:\t 0.03581007752705061\n",
      "Epoch:\t 16 Val Loss:\t 0.035877912994444275\n",
      "Epoch:\t 17 Val Loss:\t 0.0357632360407667\n",
      "Epoch:\t 18 Val Loss:\t 0.03576978373776278\n"
     ]
    },
    {
     "name": "stderr",
     "output_type": "stream",
     "text": [
      "[I 2025-06-18 12:15:12,035] Trial 0 finished with value: 0.035686842017892274 and parameters: {'lr': 0.001, 'weight_decay': 0.001, 'scheduler_factor': 0.3, 'scheduler_patience': 20, 'batch_size': 128, 'dropout': 0.2, 'hidden_dims': 128}. Best is trial 0 with value: 0.035686842017892274.\n"
     ]
    },
    {
     "name": "stdout",
     "output_type": "stream",
     "text": [
      "Epoch:\t 19 Val Loss:\t 0.035808348478106586\n",
      "Epoch:\t 0 Val Loss:\t 0.038022296488258195\n",
      "Epoch:\t 1 Val Loss:\t 0.03644553445778941\n",
      "Epoch:\t 2 Val Loss:\t 0.03604772642398139\n",
      "Epoch:\t 3 Val Loss:\t 0.03582695532314729\n",
      "Epoch:\t 4 Val Loss:\t 0.03566017445080554\n",
      "Epoch:\t 5 Val Loss:\t 0.03580968765878911\n",
      "Epoch:\t 6 Val Loss:\t 0.03574560487508905\n",
      "Epoch:\t 7 Val Loss:\t 0.03575120633122821\n",
      "Epoch:\t 8 Val Loss:\t 0.035745682103394794\n",
      "Epoch:\t 9 Val Loss:\t 0.03573907113109143\n",
      "Epoch:\t 10 Val Loss:\t 0.03569552591871049\n",
      "Epoch:\t 11 Val Loss:\t 0.03577713483369433\n",
      "Epoch:\t 12 Val Loss:\t 0.03574741372782263\n",
      "Epoch:\t 13 Val Loss:\t 0.03578403928550194\n"
     ]
    },
    {
     "name": "stderr",
     "output_type": "stream",
     "text": [
      "[I 2025-06-18 12:18:07,000] Trial 1 finished with value: 0.03566017445080554 and parameters: {'lr': 1e-05, 'weight_decay': 0.001, 'scheduler_factor': 0.3, 'scheduler_patience': 1, 'batch_size': 16, 'dropout': 0.1, 'hidden_dims': 256}. Best is trial 1 with value: 0.03566017445080554.\n"
     ]
    },
    {
     "name": "stdout",
     "output_type": "stream",
     "text": [
      "Epoch:\t 14 Val Loss:\t 0.035710386979479314\n",
      "Epoch:\t 0 Val Loss:\t 0.06744520060634346\n",
      "Epoch:\t 1 Val Loss:\t 0.054380036465955205\n",
      "Epoch:\t 2 Val Loss:\t 0.05049358516405329\n",
      "Epoch:\t 3 Val Loss:\t 0.048896340052350565\n",
      "Epoch:\t 4 Val Loss:\t 0.04797175038683663\n",
      "Epoch:\t 5 Val Loss:\t 0.047165043215546903\n",
      "Epoch:\t 6 Val Loss:\t 0.04657300886956685\n",
      "Epoch:\t 7 Val Loss:\t 0.04588967263339802\n",
      "Epoch:\t 8 Val Loss:\t 0.04522650343265809\n",
      "Epoch:\t 9 Val Loss:\t 0.044609905329695866\n",
      "Epoch:\t 10 Val Loss:\t 0.044051297122603625\n",
      "Epoch:\t 11 Val Loss:\t 0.0434296712410871\n",
      "Epoch:\t 12 Val Loss:\t 0.0428082597760385\n",
      "Epoch:\t 13 Val Loss:\t 0.04227996485406476\n",
      "Epoch:\t 14 Val Loss:\t 0.0417388075511203\n",
      "Epoch:\t 15 Val Loss:\t 0.041248632837116814\n",
      "Epoch:\t 16 Val Loss:\t 0.040865078412988975\n",
      "Epoch:\t 17 Val Loss:\t 0.04048172684078423\n",
      "Epoch:\t 18 Val Loss:\t 0.040164403384177684\n",
      "Epoch:\t 19 Val Loss:\t 0.0398281691341779\n",
      "Epoch:\t 20 Val Loss:\t 0.03953457482003668\n",
      "Epoch:\t 21 Val Loss:\t 0.03934901378104048\n",
      "Epoch:\t 22 Val Loss:\t 0.03917788046847186\n",
      "Epoch:\t 23 Val Loss:\t 0.0389449969830999\n",
      "Epoch:\t 24 Val Loss:\t 0.03881060311729223\n",
      "Epoch:\t 25 Val Loss:\t 0.03865539911614184\n",
      "Epoch:\t 26 Val Loss:\t 0.03855470870210405\n",
      "Epoch:\t 27 Val Loss:\t 0.03843662896482079\n",
      "Epoch:\t 28 Val Loss:\t 0.0382760569907689\n",
      "Epoch:\t 29 Val Loss:\t 0.03815589394318732\n",
      "Epoch:\t 30 Val Loss:\t 0.0380700673866138\n",
      "Epoch:\t 31 Val Loss:\t 0.03793385388691391\n",
      "Epoch:\t 32 Val Loss:\t 0.037887019893067794\n",
      "Epoch:\t 33 Val Loss:\t 0.037756283287658544\n",
      "Epoch:\t 34 Val Loss:\t 0.03768316570244861\n",
      "Epoch:\t 35 Val Loss:\t 0.03761818287460609\n",
      "Epoch:\t 36 Val Loss:\t 0.037513528981905304\n",
      "Epoch:\t 37 Val Loss:\t 0.03746068752393198\n",
      "Epoch:\t 38 Val Loss:\t 0.037381497108606235\n",
      "Epoch:\t 39 Val Loss:\t 0.03734678346035856\n",
      "Epoch:\t 40 Val Loss:\t 0.037266873768015046\n",
      "Epoch:\t 41 Val Loss:\t 0.037197708431780815\n",
      "Epoch:\t 42 Val Loss:\t 0.037165889507503415\n",
      "Epoch:\t 43 Val Loss:\t 0.037102448139608765\n",
      "Epoch:\t 44 Val Loss:\t 0.03705644916988204\n",
      "Epoch:\t 45 Val Loss:\t 0.03701500373071786\n",
      "Epoch:\t 46 Val Loss:\t 0.03700347670188015\n",
      "Epoch:\t 47 Val Loss:\t 0.03693308619958727\n",
      "Epoch:\t 48 Val Loss:\t 0.03692136812853488\n",
      "Epoch:\t 49 Val Loss:\t 0.03688337540262966\n",
      "Epoch:\t 50 Val Loss:\t 0.03686992084999146\n",
      "Epoch:\t 51 Val Loss:\t 0.03681919863073822\n",
      "Epoch:\t 52 Val Loss:\t 0.0368144591555693\n",
      "Epoch:\t 53 Val Loss:\t 0.03678416620407786\n",
      "Epoch:\t 54 Val Loss:\t 0.03675310885351313\n",
      "Epoch:\t 55 Val Loss:\t 0.03672286990079222\n",
      "Epoch:\t 56 Val Loss:\t 0.03672658953737964\n",
      "Epoch:\t 57 Val Loss:\t 0.03672052106340184\n",
      "Epoch:\t 58 Val Loss:\t 0.036718384570548275\n",
      "Epoch:\t 59 Val Loss:\t 0.0366859096364024\n",
      "Epoch:\t 60 Val Loss:\t 0.03668332841085871\n",
      "Epoch:\t 61 Val Loss:\t 0.036665110922094145\n",
      "Epoch:\t 62 Val Loss:\t 0.036642922354596\n",
      "Epoch:\t 63 Val Loss:\t 0.036683951254880255\n",
      "Epoch:\t 64 Val Loss:\t 0.036658495222106215\n",
      "Epoch:\t 65 Val Loss:\t 0.03663943277411821\n",
      "Epoch:\t 66 Val Loss:\t 0.03667739242387048\n",
      "Epoch:\t 67 Val Loss:\t 0.03663911332300061\n",
      "Epoch:\t 68 Val Loss:\t 0.03665186715032756\n",
      "Epoch:\t 69 Val Loss:\t 0.03666847810017641\n",
      "Epoch:\t 70 Val Loss:\t 0.03666261645156537\n",
      "Epoch:\t 71 Val Loss:\t 0.03667828896012677\n",
      "Epoch:\t 72 Val Loss:\t 0.03669433704432381\n",
      "Epoch:\t 73 Val Loss:\t 0.03670354172240578\n",
      "Epoch:\t 74 Val Loss:\t 0.036718539612586004\n",
      "Epoch:\t 75 Val Loss:\t 0.03670764672622252\n",
      "Epoch:\t 76 Val Loss:\t 0.03671198079353542\n"
     ]
    },
    {
     "name": "stderr",
     "output_type": "stream",
     "text": [
      "[I 2025-06-18 12:21:05,873] Trial 2 finished with value: 0.03663911332300061 and parameters: {'lr': 1e-06, 'weight_decay': 0.001, 'scheduler_factor': 0.1, 'scheduler_patience': 5, 'batch_size': 128, 'dropout': 0.15, 'hidden_dims': 512}. Best is trial 1 with value: 0.03566017445080554.\n"
     ]
    },
    {
     "name": "stdout",
     "output_type": "stream",
     "text": [
      "Epoch:\t 77 Val Loss:\t 0.03673161994695759\n",
      "Epoch:\t 0 Val Loss:\t 0.03589680688351058\n",
      "Epoch:\t 1 Val Loss:\t 0.03581555143752125\n",
      "Epoch:\t 2 Val Loss:\t 0.03592527249639624\n",
      "Epoch:\t 3 Val Loss:\t 0.03596980319048964\n",
      "Epoch:\t 4 Val Loss:\t 0.03581739229002121\n",
      "Epoch:\t 5 Val Loss:\t 0.036124419803651914\n",
      "Epoch:\t 6 Val Loss:\t 0.0360926061892586\n",
      "Epoch:\t 7 Val Loss:\t 0.035857010411508204\n",
      "Epoch:\t 8 Val Loss:\t 0.03592477311315927\n",
      "Epoch:\t 9 Val Loss:\t 0.03580556617658077\n",
      "Epoch:\t 10 Val Loss:\t 0.03583789116928704\n",
      "Epoch:\t 11 Val Loss:\t 0.035950139747935546\n",
      "Epoch:\t 12 Val Loss:\t 0.03596626109418192\n",
      "Epoch:\t 13 Val Loss:\t 0.035727262688295416\n",
      "Epoch:\t 14 Val Loss:\t 0.036039589149324314\n",
      "Epoch:\t 15 Val Loss:\t 0.036013912884922124\n",
      "Epoch:\t 16 Val Loss:\t 0.03574597854675489\n",
      "Epoch:\t 17 Val Loss:\t 0.035921253897787865\n",
      "Epoch:\t 18 Val Loss:\t 0.035837215199516444\n",
      "Epoch:\t 19 Val Loss:\t 0.0361100450265752\n",
      "Epoch:\t 20 Val Loss:\t 0.03607459604309612\n",
      "Epoch:\t 21 Val Loss:\t 0.03586650731260283\n",
      "Epoch:\t 22 Val Loss:\t 0.03581407007553509\n"
     ]
    },
    {
     "name": "stderr",
     "output_type": "stream",
     "text": [
      "[I 2025-06-18 12:21:59,725] Trial 3 finished with value: 0.035727262688295416 and parameters: {'lr': 0.001, 'weight_decay': 0.001, 'scheduler_factor': 0.3, 'scheduler_patience': 20, 'batch_size': 128, 'dropout': 0.2, 'hidden_dims': 64}. Best is trial 1 with value: 0.03566017445080554.\n"
     ]
    },
    {
     "name": "stdout",
     "output_type": "stream",
     "text": [
      "Epoch:\t 23 Val Loss:\t 0.03587372512534189\n",
      "Epoch:\t 0 Val Loss:\t 0.11475929431018339\n",
      "Epoch:\t 1 Val Loss:\t 0.10340974122956635\n",
      "Epoch:\t 2 Val Loss:\t 0.09600670254786298\n",
      "Epoch:\t 3 Val Loss:\t 0.08848802822004177\n",
      "Epoch:\t 4 Val Loss:\t 0.08338948058928708\n",
      "Epoch:\t 5 Val Loss:\t 0.07860563199523944\n",
      "Epoch:\t 6 Val Loss:\t 0.07466411928367768\n",
      "Epoch:\t 7 Val Loss:\t 0.07124727530782246\n",
      "Epoch:\t 8 Val Loss:\t 0.0686368321898091\n",
      "Epoch:\t 9 Val Loss:\t 0.06607697804689024\n",
      "Epoch:\t 10 Val Loss:\t 0.06436591809825115\n",
      "Epoch:\t 11 Val Loss:\t 0.0622215700781997\n",
      "Epoch:\t 12 Val Loss:\t 0.06145662667044106\n",
      "Epoch:\t 13 Val Loss:\t 0.05993783255961164\n",
      "Epoch:\t 14 Val Loss:\t 0.05909316336370741\n",
      "Epoch:\t 15 Val Loss:\t 0.058370859976079305\n",
      "Epoch:\t 16 Val Loss:\t 0.057786382291573804\n",
      "Epoch:\t 17 Val Loss:\t 0.05723706308237226\n",
      "Epoch:\t 18 Val Loss:\t 0.05667626805052497\n",
      "Epoch:\t 19 Val Loss:\t 0.0564053665810651\n",
      "Epoch:\t 20 Val Loss:\t 0.05610791452444635\n",
      "Epoch:\t 21 Val Loss:\t 0.056096854484924547\n",
      "Epoch:\t 22 Val Loss:\t 0.05600092324077891\n",
      "Epoch:\t 23 Val Loss:\t 0.05589829481108012\n",
      "Epoch:\t 24 Val Loss:\t 0.05594892978332817\n",
      "Epoch:\t 25 Val Loss:\t 0.05635589375564906\n",
      "Epoch:\t 26 Val Loss:\t 0.05617840013128385\n",
      "Epoch:\t 27 Val Loss:\t 0.05630447033948454\n",
      "Epoch:\t 28 Val Loss:\t 0.05687602180568352\n",
      "Epoch:\t 29 Val Loss:\t 0.057321158504275264\n",
      "Epoch:\t 30 Val Loss:\t 0.05756293460008032\n",
      "Epoch:\t 31 Val Loss:\t 0.05781021316526787\n",
      "Epoch:\t 32 Val Loss:\t 0.058432864618167234\n"
     ]
    },
    {
     "name": "stderr",
     "output_type": "stream",
     "text": [
      "[I 2025-06-18 12:22:57,703] Trial 4 finished with value: 0.05589829481108012 and parameters: {'lr': 1e-06, 'weight_decay': 0.0001, 'scheduler_factor': 0.1, 'scheduler_patience': 10, 'batch_size': 256, 'dropout': 0.05, 'hidden_dims': 64}. Best is trial 1 with value: 0.03566017445080554.\n"
     ]
    },
    {
     "name": "stdout",
     "output_type": "stream",
     "text": [
      "Epoch:\t 33 Val Loss:\t 0.059432502009477646\n"
     ]
    },
    {
     "name": "stderr",
     "output_type": "stream",
     "text": [
      "[I 2025-06-18 12:22:59,541] Trial 5 pruned. \n"
     ]
    },
    {
     "name": "stdout",
     "output_type": "stream",
     "text": [
      "Epoch:\t 0 Val Loss:\t 0.08403958538337536\n"
     ]
    },
    {
     "name": "stderr",
     "output_type": "stream",
     "text": [
      "[I 2025-06-18 12:23:01,333] Trial 6 pruned. \n"
     ]
    },
    {
     "name": "stdout",
     "output_type": "stream",
     "text": [
      "Epoch:\t 0 Val Loss:\t 0.04649719674966726\n"
     ]
    },
    {
     "name": "stderr",
     "output_type": "stream",
     "text": [
      "[I 2025-06-18 12:23:03,752] Trial 7 pruned. \n"
     ]
    },
    {
     "name": "stdout",
     "output_type": "stream",
     "text": [
      "Epoch:\t 0 Val Loss:\t 0.046511708476235356\n",
      "Epoch:\t 0 Val Loss:\t 0.03525489224848862\n",
      "Epoch:\t 1 Val Loss:\t 0.03523471317886709\n",
      "Epoch:\t 2 Val Loss:\t 0.035187675162612314\n",
      "Epoch:\t 3 Val Loss:\t 0.035302302701947445\n",
      "Epoch:\t 4 Val Loss:\t 0.03523615575012917\n",
      "Epoch:\t 5 Val Loss:\t 0.03522533262764404\n",
      "Epoch:\t 6 Val Loss:\t 0.03526173092887731\n",
      "Epoch:\t 7 Val Loss:\t 0.03521870701594319\n",
      "Epoch:\t 8 Val Loss:\t 0.035255990558134054\n",
      "Epoch:\t 9 Val Loss:\t 0.03508355233571931\n",
      "Epoch:\t 10 Val Loss:\t 0.03509165486675465\n",
      "Epoch:\t 11 Val Loss:\t 0.03511461788911619\n",
      "Epoch:\t 12 Val Loss:\t 0.03508633111112701\n",
      "Epoch:\t 13 Val Loss:\t 0.03511045639793237\n",
      "Epoch:\t 14 Val Loss:\t 0.035084104446884624\n",
      "Epoch:\t 15 Val Loss:\t 0.03508889936657253\n",
      "Epoch:\t 16 Val Loss:\t 0.03514540219802656\n",
      "Epoch:\t 17 Val Loss:\t 0.03507947783491654\n",
      "Epoch:\t 18 Val Loss:\t 0.035083463904494516\n",
      "Epoch:\t 19 Val Loss:\t 0.03508547289905424\n",
      "Epoch:\t 20 Val Loss:\t 0.035076988458573696\n",
      "Epoch:\t 21 Val Loss:\t 0.03507361325448405\n",
      "Epoch:\t 22 Val Loss:\t 0.03510584924855309\n",
      "Epoch:\t 23 Val Loss:\t 0.03509680944642347\n",
      "Epoch:\t 24 Val Loss:\t 0.03508008258167154\n",
      "Epoch:\t 25 Val Loss:\t 0.03510505408272595\n",
      "Epoch:\t 26 Val Loss:\t 0.03509628709801333\n",
      "Epoch:\t 27 Val Loss:\t 0.03508616052194683\n",
      "Epoch:\t 28 Val Loss:\t 0.03509758325939427\n",
      "Epoch:\t 29 Val Loss:\t 0.03508460154469482\n",
      "Epoch:\t 30 Val Loss:\t 0.03508624087996736\n"
     ]
    },
    {
     "name": "stderr",
     "output_type": "stream",
     "text": [
      "[I 2025-06-18 12:28:13,713] Trial 8 finished with value: 0.03507361325448405 and parameters: {'lr': 0.001, 'weight_decay': 0.0001, 'scheduler_factor': 0.1, 'scheduler_patience': 5, 'batch_size': 32, 'dropout': 0.15, 'hidden_dims': 128}. Best is trial 8 with value: 0.03507361325448405.\n"
     ]
    },
    {
     "name": "stdout",
     "output_type": "stream",
     "text": [
      "Epoch:\t 31 Val Loss:\t 0.03509640830432724\n"
     ]
    },
    {
     "name": "stderr",
     "output_type": "stream",
     "text": [
      "[I 2025-06-18 12:28:25,138] Trial 9 pruned. \n"
     ]
    },
    {
     "name": "stdout",
     "output_type": "stream",
     "text": [
      "Epoch:\t 0 Val Loss:\t 0.04863043775136222\n"
     ]
    },
    {
     "name": "stderr",
     "output_type": "stream",
     "text": [
      "[I 2025-06-18 12:28:35,689] Trial 10 pruned. \n"
     ]
    },
    {
     "name": "stdout",
     "output_type": "stream",
     "text": [
      "Epoch:\t 0 Val Loss:\t 0.03830568135785077\n",
      "Epoch:\t 0 Val Loss:\t 0.0351974028053497\n",
      "Epoch:\t 1 Val Loss:\t 0.035314661567682516\n",
      "Epoch:\t 2 Val Loss:\t 0.03526976505924032\n",
      "Epoch:\t 3 Val Loss:\t 0.03518695023490787\n",
      "Epoch:\t 4 Val Loss:\t 0.03516980801919668\n",
      "Epoch:\t 5 Val Loss:\t 0.035192347056469564\n",
      "Epoch:\t 6 Val Loss:\t 0.035302127017321425\n",
      "Epoch:\t 7 Val Loss:\t 0.035141891741088026\n",
      "Epoch:\t 8 Val Loss:\t 0.03514572055355398\n",
      "Epoch:\t 9 Val Loss:\t 0.03514608339447789\n",
      "Epoch:\t 10 Val Loss:\t 0.035141885848620734\n",
      "Epoch:\t 11 Val Loss:\t 0.03513729848334108\n",
      "Epoch:\t 12 Val Loss:\t 0.035136062270088225\n",
      "Epoch:\t 13 Val Loss:\t 0.035130788989184474\n",
      "Epoch:\t 14 Val Loss:\t 0.03511056794401126\n",
      "Epoch:\t 15 Val Loss:\t 0.035120889343331775\n",
      "Epoch:\t 16 Val Loss:\t 0.035089779894689276\n",
      "Epoch:\t 17 Val Loss:\t 0.03511515038714568\n",
      "Epoch:\t 18 Val Loss:\t 0.03511463883391687\n",
      "Epoch:\t 19 Val Loss:\t 0.03513411445230801\n",
      "Epoch:\t 20 Val Loss:\t 0.03517527097249838\n",
      "Epoch:\t 21 Val Loss:\t 0.0351130369898776\n",
      "Epoch:\t 22 Val Loss:\t 0.03511296224242412\n",
      "Epoch:\t 23 Val Loss:\t 0.0351443251442262\n",
      "Epoch:\t 24 Val Loss:\t 0.035121923692649826\n",
      "Epoch:\t 25 Val Loss:\t 0.03514962479363186\n"
     ]
    },
    {
     "name": "stderr",
     "output_type": "stream",
     "text": [
      "[I 2025-06-18 12:39:17,945] Trial 11 finished with value: 0.035089779894689276 and parameters: {'lr': 0.001, 'weight_decay': 0.0001, 'scheduler_factor': 0.5, 'scheduler_patience': 1, 'batch_size': 16, 'dropout': 0.1, 'hidden_dims': 256}. Best is trial 8 with value: 0.03507361325448405.\n"
     ]
    },
    {
     "name": "stdout",
     "output_type": "stream",
     "text": [
      "Epoch:\t 26 Val Loss:\t 0.035139264746197205\n",
      "Epoch:\t 0 Val Loss:\t 0.035233226845660805\n",
      "Epoch:\t 1 Val Loss:\t 0.03530817509572293\n",
      "Epoch:\t 2 Val Loss:\t 0.0352716772529524\n",
      "Epoch:\t 3 Val Loss:\t 0.03519405451987817\n",
      "Epoch:\t 4 Val Loss:\t 0.03516376137687183\n",
      "Epoch:\t 5 Val Loss:\t 0.035187137421788556\n",
      "Epoch:\t 6 Val Loss:\t 0.0351698597201951\n",
      "Epoch:\t 7 Val Loss:\t 0.035117591304868384\n",
      "Epoch:\t 8 Val Loss:\t 0.03512707018287656\n",
      "Epoch:\t 9 Val Loss:\t 0.03517160125254414\n",
      "Epoch:\t 10 Val Loss:\t 0.035150704843066205\n",
      "Epoch:\t 11 Val Loss:\t 0.035138073538907175\n",
      "Epoch:\t 12 Val Loss:\t 0.0351428345976197\n",
      "Epoch:\t 13 Val Loss:\t 0.035153297015151\n",
      "Epoch:\t 14 Val Loss:\t 0.03510818454642032\n",
      "Epoch:\t 15 Val Loss:\t 0.035106318678682254\n",
      "Epoch:\t 16 Val Loss:\t 0.035152129722381076\n",
      "Epoch:\t 17 Val Loss:\t 0.03513545187015144\n",
      "Epoch:\t 18 Val Loss:\t 0.03514555924870798\n",
      "Epoch:\t 19 Val Loss:\t 0.03514011350779997\n",
      "Epoch:\t 20 Val Loss:\t 0.03515761216124249\n",
      "Epoch:\t 21 Val Loss:\t 0.03514640895320254\n",
      "Epoch:\t 22 Val Loss:\t 0.035147960666299126\n",
      "Epoch:\t 23 Val Loss:\t 0.03515394327128681\n",
      "Epoch:\t 24 Val Loss:\t 0.035166651877458745\n"
     ]
    },
    {
     "name": "stderr",
     "output_type": "stream",
     "text": [
      "[I 2025-06-18 12:49:35,106] Trial 12 finished with value: 0.035106318678682254 and parameters: {'lr': 0.001, 'weight_decay': 0.0001, 'scheduler_factor': 0.5, 'scheduler_patience': 1, 'batch_size': 16, 'dropout': 0.1, 'hidden_dims': 256}. Best is trial 8 with value: 0.03507361325448405.\n"
     ]
    },
    {
     "name": "stdout",
     "output_type": "stream",
     "text": [
      "Epoch:\t 25 Val Loss:\t 0.035200282392052674\n",
      "Epoch:\t 0 Val Loss:\t 0.035289055347418725\n",
      "Epoch:\t 1 Val Loss:\t 0.035205855539909535\n",
      "Epoch:\t 2 Val Loss:\t 0.03523623234567732\n",
      "Epoch:\t 3 Val Loss:\t 0.03521350979111915\n",
      "Epoch:\t 4 Val Loss:\t 0.035161341583085905\n",
      "Epoch:\t 5 Val Loss:\t 0.0351115367386517\n",
      "Epoch:\t 6 Val Loss:\t 0.035165714943944305\n",
      "Epoch:\t 7 Val Loss:\t 0.03514534224395333\n",
      "Epoch:\t 8 Val Loss:\t 0.03511008310169818\n",
      "Epoch:\t 9 Val Loss:\t 0.03508936673546181\n",
      "Epoch:\t 10 Val Loss:\t 0.035122847490747545\n",
      "Epoch:\t 11 Val Loss:\t 0.03511004805200418\n",
      "Epoch:\t 12 Val Loss:\t 0.035093237594391403\n",
      "Epoch:\t 13 Val Loss:\t 0.0350860679580411\n",
      "Epoch:\t 14 Val Loss:\t 0.03506217003854495\n",
      "Epoch:\t 15 Val Loss:\t 0.03508520357119578\n",
      "Epoch:\t 16 Val Loss:\t 0.035079554927258276\n",
      "Epoch:\t 17 Val Loss:\t 0.03506493269381469\n",
      "Epoch:\t 18 Val Loss:\t 0.03507440035181372\n",
      "Epoch:\t 19 Val Loss:\t 0.035067156693616576\n",
      "Epoch:\t 20 Val Loss:\t 0.0350587268650484\n",
      "Epoch:\t 21 Val Loss:\t 0.035067206311376456\n",
      "Epoch:\t 22 Val Loss:\t 0.03506017552050907\n",
      "Epoch:\t 23 Val Loss:\t 0.03506242995745627\n",
      "Epoch:\t 24 Val Loss:\t 0.035058851581613544\n",
      "Epoch:\t 25 Val Loss:\t 0.035070376139083384\n",
      "Epoch:\t 26 Val Loss:\t 0.03507718703177038\n",
      "Epoch:\t 27 Val Loss:\t 0.035064262163966485\n",
      "Epoch:\t 28 Val Loss:\t 0.03506234346021866\n",
      "Epoch:\t 29 Val Loss:\t 0.03507967473850933\n"
     ]
    },
    {
     "name": "stderr",
     "output_type": "stream",
     "text": [
      "[I 2025-06-18 12:51:42,471] Trial 13 finished with value: 0.0350587268650484 and parameters: {'lr': 0.001, 'weight_decay': 0.0001, 'scheduler_factor': 0.5, 'scheduler_patience': 1, 'batch_size': 64, 'dropout': 0.1, 'hidden_dims': 256}. Best is trial 13 with value: 0.0350587268650484.\n"
     ]
    },
    {
     "name": "stdout",
     "output_type": "stream",
     "text": [
      "Epoch:\t 30 Val Loss:\t 0.03506572472130239\n",
      "Epoch:\t 0 Val Loss:\t 0.035306004453345884\n",
      "Epoch:\t 1 Val Loss:\t 0.03518446561758673\n",
      "Epoch:\t 2 Val Loss:\t 0.03524202763371068\n",
      "Epoch:\t 3 Val Loss:\t 0.03518934740588583\n",
      "Epoch:\t 4 Val Loss:\t 0.03523267978845641\n",
      "Epoch:\t 5 Val Loss:\t 0.03518544435769965\n",
      "Epoch:\t 6 Val Loss:\t 0.03524760940913544\n",
      "Epoch:\t 7 Val Loss:\t 0.03525382663035928\n",
      "Epoch:\t 8 Val Loss:\t 0.03517893021859067\n",
      "Epoch:\t 9 Val Loss:\t 0.03521067543521392\n",
      "Epoch:\t 10 Val Loss:\t 0.03515012279517333\n",
      "Epoch:\t 11 Val Loss:\t 0.03515183244799745\n",
      "Epoch:\t 12 Val Loss:\t 0.035173175097670956\n",
      "Epoch:\t 13 Val Loss:\t 0.035218238218149\n",
      "Epoch:\t 14 Val Loss:\t 0.03515177206961556\n",
      "Epoch:\t 15 Val Loss:\t 0.0351657320752011\n",
      "Epoch:\t 16 Val Loss:\t 0.0351593403180026\n",
      "Epoch:\t 17 Val Loss:\t 0.035116567653577714\n",
      "Epoch:\t 18 Val Loss:\t 0.03515239755691006\n",
      "Epoch:\t 19 Val Loss:\t 0.035160763381884015\n",
      "Epoch:\t 20 Val Loss:\t 0.03517480794140216\n",
      "Epoch:\t 21 Val Loss:\t 0.035149428167446865\n",
      "Epoch:\t 22 Val Loss:\t 0.0351465877979014\n",
      "Epoch:\t 23 Val Loss:\t 0.0351611874032685\n",
      "Epoch:\t 24 Val Loss:\t 0.03513419950932097\n",
      "Epoch:\t 25 Val Loss:\t 0.03514734755547265\n",
      "Epoch:\t 26 Val Loss:\t 0.0351047222700445\n",
      "Epoch:\t 27 Val Loss:\t 0.035134433508038805\n",
      "Epoch:\t 28 Val Loss:\t 0.03511261918791887\n",
      "Epoch:\t 29 Val Loss:\t 0.03514489617703576\n",
      "Epoch:\t 30 Val Loss:\t 0.03514158018172361\n",
      "Epoch:\t 31 Val Loss:\t 0.03514572483156572\n",
      "Epoch:\t 32 Val Loss:\t 0.03511856972824696\n",
      "Epoch:\t 33 Val Loss:\t 0.035113820292312525\n",
      "Epoch:\t 34 Val Loss:\t 0.03511875888904812\n",
      "Epoch:\t 35 Val Loss:\t 0.03509137973954129\n",
      "Epoch:\t 36 Val Loss:\t 0.03514060065443026\n",
      "Epoch:\t 37 Val Loss:\t 0.035109934037806705\n",
      "Epoch:\t 38 Val Loss:\t 0.03514548002144004\n",
      "Epoch:\t 39 Val Loss:\t 0.03512561964446196\n",
      "Epoch:\t 40 Val Loss:\t 0.03518845493148687\n",
      "Epoch:\t 41 Val Loss:\t 0.035156301885198\n",
      "Epoch:\t 42 Val Loss:\t 0.035114337117340244\n",
      "Epoch:\t 43 Val Loss:\t 0.03510846165938672\n",
      "Epoch:\t 44 Val Loss:\t 0.035111400928369216\n"
     ]
    },
    {
     "name": "stderr",
     "output_type": "stream",
     "text": [
      "[I 2025-06-18 12:54:28,629] Trial 14 finished with value: 0.03509137973954129 and parameters: {'lr': 0.001, 'weight_decay': 0.0001, 'scheduler_factor': 0.8, 'scheduler_patience': 5, 'batch_size': 64, 'dropout': 0.15, 'hidden_dims': 128}. Best is trial 13 with value: 0.0350587268650484.\n"
     ]
    },
    {
     "name": "stdout",
     "output_type": "stream",
     "text": [
      "Epoch:\t 45 Val Loss:\t 0.03509991839617706\n"
     ]
    },
    {
     "name": "stderr",
     "output_type": "stream",
     "text": [
      "[I 2025-06-18 12:54:32,280] Trial 15 pruned. \n"
     ]
    },
    {
     "name": "stdout",
     "output_type": "stream",
     "text": [
      "Epoch:\t 0 Val Loss:\t 0.0388469192234511\n",
      "Epoch:\t 0 Val Loss:\t 0.03518565862014615\n",
      "Epoch:\t 1 Val Loss:\t 0.03524392627406665\n",
      "Epoch:\t 2 Val Loss:\t 0.03516069573963415\n",
      "Epoch:\t 3 Val Loss:\t 0.035215204034923744\n",
      "Epoch:\t 4 Val Loss:\t 0.03518391835391999\n",
      "Epoch:\t 5 Val Loss:\t 0.03516989670628152\n",
      "Epoch:\t 6 Val Loss:\t 0.03515843479911279\n",
      "Epoch:\t 7 Val Loss:\t 0.03519958194790359\n",
      "Epoch:\t 8 Val Loss:\t 0.0351663150652084\n",
      "Epoch:\t 9 Val Loss:\t 0.0350868219648635\n",
      "Epoch:\t 10 Val Loss:\t 0.0351036448515623\n",
      "Epoch:\t 11 Val Loss:\t 0.035071403422985155\n",
      "Epoch:\t 12 Val Loss:\t 0.03508695336275323\n",
      "Epoch:\t 13 Val Loss:\t 0.03509527679798645\n",
      "Epoch:\t 14 Val Loss:\t 0.03507870113075305\n",
      "Epoch:\t 15 Val Loss:\t 0.03506812011134462\n",
      "Epoch:\t 16 Val Loss:\t 0.03510764813754161\n",
      "Epoch:\t 17 Val Loss:\t 0.03506912222787822\n",
      "Epoch:\t 18 Val Loss:\t 0.03507491709170049\n",
      "Epoch:\t 19 Val Loss:\t 0.03507844541362265\n",
      "Epoch:\t 20 Val Loss:\t 0.03508839507250425\n",
      "Epoch:\t 21 Val Loss:\t 0.035077703958369774\n",
      "Epoch:\t 22 Val Loss:\t 0.035073339616478016\n",
      "Epoch:\t 23 Val Loss:\t 0.03507434344180556\n",
      "Epoch:\t 24 Val Loss:\t 0.035069081654477904\n",
      "Epoch:\t 25 Val Loss:\t 0.035066745966171015\n",
      "Epoch:\t 26 Val Loss:\t 0.03506819444985608\n",
      "Epoch:\t 27 Val Loss:\t 0.03507354920961518\n",
      "Epoch:\t 28 Val Loss:\t 0.03506813930241509\n",
      "Epoch:\t 29 Val Loss:\t 0.03508269157837225\n",
      "Epoch:\t 30 Val Loss:\t 0.03507165151626565\n",
      "Epoch:\t 31 Val Loss:\t 0.03506641130395526\n",
      "Epoch:\t 32 Val Loss:\t 0.03507320441711924\n",
      "Epoch:\t 33 Val Loss:\t 0.035075232470236306\n",
      "Epoch:\t 34 Val Loss:\t 0.03507411621403436\n",
      "Epoch:\t 35 Val Loss:\t 0.03506569952406019\n",
      "Epoch:\t 36 Val Loss:\t 0.03506945030735365\n",
      "Epoch:\t 37 Val Loss:\t 0.0350658671307559\n",
      "Epoch:\t 38 Val Loss:\t 0.035075930658945965\n",
      "Epoch:\t 39 Val Loss:\t 0.03507552379570489\n",
      "Epoch:\t 40 Val Loss:\t 0.03506999779507554\n",
      "Epoch:\t 41 Val Loss:\t 0.035069738645420234\n",
      "Epoch:\t 42 Val Loss:\t 0.03506941776558362\n",
      "Epoch:\t 43 Val Loss:\t 0.03507246859013174\n",
      "Epoch:\t 44 Val Loss:\t 0.03507886132122329\n"
     ]
    },
    {
     "name": "stderr",
     "output_type": "stream",
     "text": [
      "[I 2025-06-18 12:57:17,755] Trial 16 finished with value: 0.03506569952406019 and parameters: {'lr': 0.001, 'weight_decay': 0.0001, 'scheduler_factor': 0.1, 'scheduler_patience': 5, 'batch_size': 64, 'dropout': 0.1, 'hidden_dims': 256}. Best is trial 13 with value: 0.0350587268650484.\n"
     ]
    },
    {
     "name": "stdout",
     "output_type": "stream",
     "text": [
      "Epoch:\t 45 Val Loss:\t 0.0350717348005524\n",
      "Epoch:\t 0 Val Loss:\t 0.035279707666471566\n",
      "Epoch:\t 1 Val Loss:\t 0.03529752655449206\n",
      "Epoch:\t 2 Val Loss:\t 0.03521098736927523\n",
      "Epoch:\t 3 Val Loss:\t 0.03523085161344519\n",
      "Epoch:\t 4 Val Loss:\t 0.035146814573081185\n",
      "Epoch:\t 5 Val Loss:\t 0.03519516170723924\n",
      "Epoch:\t 6 Val Loss:\t 0.035192497406205656\n",
      "Epoch:\t 7 Val Loss:\t 0.035124646991180626\n",
      "Epoch:\t 8 Val Loss:\t 0.03511871925817314\n",
      "Epoch:\t 9 Val Loss:\t 0.03514418928154297\n",
      "Epoch:\t 10 Val Loss:\t 0.035165161723397974\n",
      "Epoch:\t 11 Val Loss:\t 0.03512053403767377\n",
      "Epoch:\t 12 Val Loss:\t 0.03509286364634561\n",
      "Epoch:\t 13 Val Loss:\t 0.03509402484054219\n",
      "Epoch:\t 14 Val Loss:\t 0.03508949140572223\n",
      "Epoch:\t 15 Val Loss:\t 0.035084562041552525\n",
      "Epoch:\t 16 Val Loss:\t 0.0350734624524736\n",
      "Epoch:\t 17 Val Loss:\t 0.0351051777831272\n",
      "Epoch:\t 18 Val Loss:\t 0.03510135834186719\n",
      "Epoch:\t 19 Val Loss:\t 0.03508574813873221\n",
      "Epoch:\t 20 Val Loss:\t 0.035055561640927956\n",
      "Epoch:\t 21 Val Loss:\t 0.035090560220486657\n",
      "Epoch:\t 22 Val Loss:\t 0.035080100913810655\n",
      "Epoch:\t 23 Val Loss:\t 0.03505640641697283\n",
      "Epoch:\t 24 Val Loss:\t 0.03507102204975168\n",
      "Epoch:\t 25 Val Loss:\t 0.035077841263846964\n",
      "Epoch:\t 26 Val Loss:\t 0.03506743714792927\n",
      "Epoch:\t 27 Val Loss:\t 0.0350537584465723\n",
      "Epoch:\t 28 Val Loss:\t 0.03505288234761742\n",
      "Epoch:\t 29 Val Loss:\t 0.03506302543032284\n",
      "Epoch:\t 30 Val Loss:\t 0.035055111653045264\n",
      "Epoch:\t 31 Val Loss:\t 0.0350577642598937\n",
      "Epoch:\t 32 Val Loss:\t 0.03506079350344974\n",
      "Epoch:\t 33 Val Loss:\t 0.03506835601602493\n",
      "Epoch:\t 34 Val Loss:\t 0.035061976708824286\n",
      "Epoch:\t 35 Val Loss:\t 0.0350698152319517\n",
      "Epoch:\t 36 Val Loss:\t 0.035058795712714974\n",
      "Epoch:\t 37 Val Loss:\t 0.03507135889725199\n"
     ]
    },
    {
     "name": "stderr",
     "output_type": "stream",
     "text": [
      "[I 2025-06-18 12:59:37,132] Trial 17 finished with value: 0.03505288234761742 and parameters: {'lr': 0.001, 'weight_decay': 0.0001, 'scheduler_factor': 0.5, 'scheduler_patience': 1, 'batch_size': 64, 'dropout': 0.1, 'hidden_dims': 256}. Best is trial 17 with value: 0.03505288234761742.\n"
     ]
    },
    {
     "name": "stdout",
     "output_type": "stream",
     "text": [
      "Epoch:\t 38 Val Loss:\t 0.03506097975302765\n",
      "Epoch:\t 0 Val Loss:\t 0.03525936230419632\n",
      "Epoch:\t 1 Val Loss:\t 0.03532941760562522\n",
      "Epoch:\t 2 Val Loss:\t 0.03516242610112896\n",
      "Epoch:\t 3 Val Loss:\t 0.03518684515647393\n",
      "Epoch:\t 4 Val Loss:\t 0.035202804978252795\n",
      "Epoch:\t 5 Val Loss:\t 0.03515156629288445\n",
      "Epoch:\t 6 Val Loss:\t 0.035116082971501844\n",
      "Epoch:\t 7 Val Loss:\t 0.03513100135805565\n",
      "Epoch:\t 8 Val Loss:\t 0.03512171059159776\n",
      "Epoch:\t 9 Val Loss:\t 0.035111270595488304\n",
      "Epoch:\t 10 Val Loss:\t 0.035069164336803155\n",
      "Epoch:\t 11 Val Loss:\t 0.03509010218006186\n",
      "Epoch:\t 12 Val Loss:\t 0.0351106835695009\n",
      "Epoch:\t 13 Val Loss:\t 0.03508442390557758\n",
      "Epoch:\t 14 Val Loss:\t 0.035065256366872175\n",
      "Epoch:\t 15 Val Loss:\t 0.035079132084403886\n",
      "Epoch:\t 16 Val Loss:\t 0.035089731861709494\n",
      "Epoch:\t 17 Val Loss:\t 0.03507516677427885\n",
      "Epoch:\t 18 Val Loss:\t 0.03508220396864242\n",
      "Epoch:\t 19 Val Loss:\t 0.03505278238765268\n",
      "Epoch:\t 20 Val Loss:\t 0.035071098104525585\n",
      "Epoch:\t 21 Val Loss:\t 0.03505873400195178\n",
      "Epoch:\t 22 Val Loss:\t 0.035065462902403394\n",
      "Epoch:\t 23 Val Loss:\t 0.0350757455341249\n",
      "Epoch:\t 24 Val Loss:\t 0.03505697955452832\n",
      "Epoch:\t 25 Val Loss:\t 0.03506288375427652\n",
      "Epoch:\t 26 Val Loss:\t 0.03505656873596699\n",
      "Epoch:\t 27 Val Loss:\t 0.03506256507466149\n",
      "Epoch:\t 28 Val Loss:\t 0.03505694313660419\n"
     ]
    },
    {
     "name": "stderr",
     "output_type": "stream",
     "text": [
      "[I 2025-06-18 13:01:22,853] Trial 18 finished with value: 0.03505278238765268 and parameters: {'lr': 0.001, 'weight_decay': 0.0001, 'scheduler_factor': 0.5, 'scheduler_patience': 1, 'batch_size': 64, 'dropout': 0.1, 'hidden_dims': 256}. Best is trial 18 with value: 0.03505278238765268.\n"
     ]
    },
    {
     "name": "stdout",
     "output_type": "stream",
     "text": [
      "Epoch:\t 29 Val Loss:\t 0.035071052803561605\n"
     ]
    },
    {
     "name": "stderr",
     "output_type": "stream",
     "text": [
      "[I 2025-06-18 13:01:26,238] Trial 19 pruned. \n"
     ]
    },
    {
     "name": "stdout",
     "output_type": "stream",
     "text": [
      "Epoch:\t 0 Val Loss:\t 0.03926108264138006\n"
     ]
    },
    {
     "name": "stderr",
     "output_type": "stream",
     "text": [
      "[I 2025-06-18 13:01:30,175] Trial 20 pruned. \n"
     ]
    },
    {
     "name": "stdout",
     "output_type": "stream",
     "text": [
      "Epoch:\t 0 Val Loss:\t 0.03598801448714188\n",
      "Epoch:\t 0 Val Loss:\t 0.0352828330759918\n",
      "Epoch:\t 1 Val Loss:\t 0.035200199143663825\n",
      "Epoch:\t 2 Val Loss:\t 0.03516312555649707\n",
      "Epoch:\t 3 Val Loss:\t 0.03520525394436256\n",
      "Epoch:\t 4 Val Loss:\t 0.035180232271779126\n",
      "Epoch:\t 5 Val Loss:\t 0.03513894770847097\n",
      "Epoch:\t 6 Val Loss:\t 0.03515559749165438\n",
      "Epoch:\t 7 Val Loss:\t 0.03514053014576817\n",
      "Epoch:\t 8 Val Loss:\t 0.03509241046493017\n",
      "Epoch:\t 9 Val Loss:\t 0.03507275925986558\n",
      "Epoch:\t 10 Val Loss:\t 0.03507996670925675\n",
      "Epoch:\t 11 Val Loss:\t 0.03509752477019571\n",
      "Epoch:\t 12 Val Loss:\t 0.03507221005438754\n",
      "Epoch:\t 13 Val Loss:\t 0.03505320389364468\n",
      "Epoch:\t 14 Val Loss:\t 0.03507747166844588\n",
      "Epoch:\t 15 Val Loss:\t 0.03508714217701576\n",
      "Epoch:\t 16 Val Loss:\t 0.03507296137553554\n",
      "Epoch:\t 17 Val Loss:\t 0.03509298058072853\n",
      "Epoch:\t 18 Val Loss:\t 0.03507862507000434\n",
      "Epoch:\t 19 Val Loss:\t 0.03505609615286924\n",
      "Epoch:\t 20 Val Loss:\t 0.03506748611144811\n",
      "Epoch:\t 21 Val Loss:\t 0.03505136344041122\n",
      "Epoch:\t 22 Val Loss:\t 0.03506193140935401\n",
      "Epoch:\t 23 Val Loss:\t 0.03507473511410744\n",
      "Epoch:\t 24 Val Loss:\t 0.03506579203643174\n",
      "Epoch:\t 25 Val Loss:\t 0.03506224507461477\n",
      "Epoch:\t 26 Val Loss:\t 0.03506769759112965\n",
      "Epoch:\t 27 Val Loss:\t 0.0350634902790368\n",
      "Epoch:\t 28 Val Loss:\t 0.03507145827616705\n",
      "Epoch:\t 29 Val Loss:\t 0.03505516266293447\n",
      "Epoch:\t 30 Val Loss:\t 0.035073130570035416\n"
     ]
    },
    {
     "name": "stderr",
     "output_type": "stream",
     "text": [
      "[I 2025-06-18 13:03:46,126] Trial 21 finished with value: 0.03505136344041122 and parameters: {'lr': 0.001, 'weight_decay': 0.0001, 'scheduler_factor': 0.5, 'scheduler_patience': 1, 'batch_size': 64, 'dropout': 0.1, 'hidden_dims': 256}. Best is trial 21 with value: 0.03505136344041122.\n"
     ]
    },
    {
     "name": "stdout",
     "output_type": "stream",
     "text": [
      "Epoch:\t 31 Val Loss:\t 0.035052309928532116\n"
     ]
    },
    {
     "name": "stderr",
     "output_type": "stream",
     "text": [
      "[I 2025-06-18 13:03:50,290] Trial 22 pruned. \n"
     ]
    },
    {
     "name": "stdout",
     "output_type": "stream",
     "text": [
      "Epoch:\t 0 Val Loss:\t 0.03530799842767459\n"
     ]
    },
    {
     "name": "stderr",
     "output_type": "stream",
     "text": [
      "[I 2025-06-18 13:03:54,722] Trial 23 pruned. \n"
     ]
    },
    {
     "name": "stdout",
     "output_type": "stream",
     "text": [
      "Epoch:\t 0 Val Loss:\t 0.03531773707290937\n",
      "Epoch:\t 0 Val Loss:\t 0.035227463936915664\n",
      "Epoch:\t 1 Val Loss:\t 0.035223828670482876\n",
      "Epoch:\t 2 Val Loss:\t 0.035167997142818326\n",
      "Epoch:\t 3 Val Loss:\t 0.035194295312859766\n",
      "Epoch:\t 4 Val Loss:\t 0.03522587593707593\n",
      "Epoch:\t 5 Val Loss:\t 0.03518363329004601\n",
      "Epoch:\t 6 Val Loss:\t 0.035126039340088344\n",
      "Epoch:\t 7 Val Loss:\t 0.03514663583980671\n",
      "Epoch:\t 8 Val Loss:\t 0.03513306737657108\n",
      "Epoch:\t 9 Val Loss:\t 0.03509297809969117\n",
      "Epoch:\t 10 Val Loss:\t 0.03506867709452378\n",
      "Epoch:\t 11 Val Loss:\t 0.035094114156393595\n",
      "Epoch:\t 12 Val Loss:\t 0.03507654928268436\n",
      "Epoch:\t 13 Val Loss:\t 0.03511828144544731\n",
      "Epoch:\t 14 Val Loss:\t 0.03508693445996705\n",
      "Epoch:\t 15 Val Loss:\t 0.03507828780277404\n",
      "Epoch:\t 16 Val Loss:\t 0.03505252913811633\n",
      "Epoch:\t 17 Val Loss:\t 0.035045385559380006\n",
      "Epoch:\t 18 Val Loss:\t 0.035066409892407814\n",
      "Epoch:\t 19 Val Loss:\t 0.035088075200915815\n",
      "Epoch:\t 20 Val Loss:\t 0.03505825385475216\n",
      "Epoch:\t 21 Val Loss:\t 0.03506871655063574\n",
      "Epoch:\t 22 Val Loss:\t 0.03506033696419445\n",
      "Epoch:\t 23 Val Loss:\t 0.03506226767879204\n",
      "Epoch:\t 24 Val Loss:\t 0.03505108421690816\n",
      "Epoch:\t 25 Val Loss:\t 0.03505135456782728\n",
      "Epoch:\t 26 Val Loss:\t 0.035055823385141904\n"
     ]
    },
    {
     "name": "stderr",
     "output_type": "stream",
     "text": [
      "[I 2025-06-18 13:06:02,704] Trial 24 finished with value: 0.035045385559380006 and parameters: {'lr': 0.001, 'weight_decay': 0.0001, 'scheduler_factor': 0.5, 'scheduler_patience': 1, 'batch_size': 64, 'dropout': 0.1, 'hidden_dims': 256}. Best is trial 24 with value: 0.035045385559380006.\n"
     ]
    },
    {
     "name": "stdout",
     "output_type": "stream",
     "text": [
      "Epoch:\t 27 Val Loss:\t 0.0350475178758144\n"
     ]
    },
    {
     "name": "stderr",
     "output_type": "stream",
     "text": [
      "[I 2025-06-18 13:06:08,026] Trial 25 pruned. \n"
     ]
    },
    {
     "name": "stdout",
     "output_type": "stream",
     "text": [
      "Epoch:\t 0 Val Loss:\t 0.03552510471209441\n"
     ]
    },
    {
     "name": "stderr",
     "output_type": "stream",
     "text": [
      "[I 2025-06-18 13:06:12,936] Trial 26 pruned. \n"
     ]
    },
    {
     "name": "stdout",
     "output_type": "stream",
     "text": [
      "Epoch:\t 0 Val Loss:\t 0.035336000844836235\n"
     ]
    },
    {
     "name": "stderr",
     "output_type": "stream",
     "text": [
      "[I 2025-06-18 13:06:17,654] Trial 27 pruned. \n"
     ]
    },
    {
     "name": "stdout",
     "output_type": "stream",
     "text": [
      "Epoch:\t 0 Val Loss:\t 0.03693735904830307\n"
     ]
    },
    {
     "name": "stderr",
     "output_type": "stream",
     "text": [
      "[I 2025-06-18 13:06:21,582] Trial 28 pruned. \n"
     ]
    },
    {
     "name": "stdout",
     "output_type": "stream",
     "text": [
      "Epoch:\t 0 Val Loss:\t 0.06280124013303946\n"
     ]
    },
    {
     "name": "stderr",
     "output_type": "stream",
     "text": [
      "[I 2025-06-18 13:06:26,109] Trial 29 pruned. \n"
     ]
    },
    {
     "name": "stdout",
     "output_type": "stream",
     "text": [
      "Epoch:\t 0 Val Loss:\t 0.035950078084503255\n",
      "Epoch:\t 0 Val Loss:\t 0.0352757131393424\n",
      "Epoch:\t 1 Val Loss:\t 0.03521665875577855\n",
      "Epoch:\t 2 Val Loss:\t 0.03520044793033289\n",
      "Epoch:\t 3 Val Loss:\t 0.03519000845078476\n",
      "Epoch:\t 4 Val Loss:\t 0.03522857755034386\n",
      "Epoch:\t 5 Val Loss:\t 0.03519539309139242\n",
      "Epoch:\t 6 Val Loss:\t 0.03524731346266064\n",
      "Epoch:\t 7 Val Loss:\t 0.03515574600331052\n",
      "Epoch:\t 8 Val Loss:\t 0.035158288995838\n"
     ]
    },
    {
     "name": "stderr",
     "output_type": "stream",
     "text": [
      "[I 2025-06-18 13:08:27,296] Trial 30 pruned. \n"
     ]
    },
    {
     "name": "stdout",
     "output_type": "stream",
     "text": [
      "Epoch:\t 9 Val Loss:\t 0.03521086157846427\n",
      "Epoch:\t 0 Val Loss:\t 0.03528059478147133\n",
      "Epoch:\t 1 Val Loss:\t 0.035208055156536265\n",
      "Epoch:\t 2 Val Loss:\t 0.03521378225711889\n",
      "Epoch:\t 3 Val Loss:\t 0.03519689968810286\n",
      "Epoch:\t 4 Val Loss:\t 0.035239809487723026\n",
      "Epoch:\t 5 Val Loss:\t 0.035174346178674466\n",
      "Epoch:\t 6 Val Loss:\t 0.03520570938425391\n",
      "Epoch:\t 7 Val Loss:\t 0.035180896507171315\n"
     ]
    },
    {
     "name": "stderr",
     "output_type": "stream",
     "text": [
      "[I 2025-06-18 13:09:08,315] Trial 31 pruned. \n"
     ]
    },
    {
     "name": "stdout",
     "output_type": "stream",
     "text": [
      "Epoch:\t 8 Val Loss:\t 0.035199964305486026\n",
      "Epoch:\t 0 Val Loss:\t 0.03524430032517782\n",
      "Epoch:\t 1 Val Loss:\t 0.035265229431779364\n",
      "Epoch:\t 2 Val Loss:\t 0.03519568780516278\n",
      "Epoch:\t 3 Val Loss:\t 0.03522017529441915\n",
      "Epoch:\t 4 Val Loss:\t 0.035208074936124927\n",
      "Epoch:\t 5 Val Loss:\t 0.03516594953864884\n",
      "Epoch:\t 6 Val Loss:\t 0.03514158245214913\n",
      "Epoch:\t 7 Val Loss:\t 0.03519539631538709\n",
      "Epoch:\t 8 Val Loss:\t 0.03512994358921013\n",
      "Epoch:\t 9 Val Loss:\t 0.03519944901150183\n",
      "Epoch:\t 10 Val Loss:\t 0.03513835523047491\n",
      "Epoch:\t 11 Val Loss:\t 0.03510928228378009\n",
      "Epoch:\t 12 Val Loss:\t 0.03510107068492827\n",
      "Epoch:\t 13 Val Loss:\t 0.03509679203965039\n",
      "Epoch:\t 14 Val Loss:\t 0.03508797802072864\n",
      "Epoch:\t 15 Val Loss:\t 0.03508151711861707\n",
      "Epoch:\t 16 Val Loss:\t 0.03510199908134262\n",
      "Epoch:\t 17 Val Loss:\t 0.03510653177080579\n",
      "Epoch:\t 18 Val Loss:\t 0.03506615070989109\n",
      "Epoch:\t 19 Val Loss:\t 0.03514356094277326\n",
      "Epoch:\t 20 Val Loss:\t 0.03506598674035732\n",
      "Epoch:\t 21 Val Loss:\t 0.03507800434164123\n",
      "Epoch:\t 22 Val Loss:\t 0.03509368642465582\n",
      "Epoch:\t 23 Val Loss:\t 0.0350694487374739\n",
      "Epoch:\t 24 Val Loss:\t 0.03507311417517322\n",
      "Epoch:\t 25 Val Loss:\t 0.03509007694697084\n",
      "Epoch:\t 26 Val Loss:\t 0.035079369969731725\n",
      "Epoch:\t 27 Val Loss:\t 0.035067580738900275\n",
      "Epoch:\t 28 Val Loss:\t 0.0350699817840945\n",
      "Epoch:\t 29 Val Loss:\t 0.035064306010065695\n",
      "Epoch:\t 30 Val Loss:\t 0.035059387136158124\n",
      "Epoch:\t 31 Val Loss:\t 0.035063472362093284\n",
      "Epoch:\t 32 Val Loss:\t 0.03506528230200267\n",
      "Epoch:\t 33 Val Loss:\t 0.035061531835373826\n",
      "Epoch:\t 34 Val Loss:\t 0.0350709089048882\n",
      "Epoch:\t 35 Val Loss:\t 0.03506616926315123\n",
      "Epoch:\t 36 Val Loss:\t 0.035069085609798156\n",
      "Epoch:\t 37 Val Loss:\t 0.03505955571973429\n",
      "Epoch:\t 38 Val Loss:\t 0.035058753402140395\n",
      "Epoch:\t 39 Val Loss:\t 0.03506235251503413\n",
      "Epoch:\t 40 Val Loss:\t 0.03506734091176113\n",
      "Epoch:\t 41 Val Loss:\t 0.03507387633461568\n",
      "Epoch:\t 42 Val Loss:\t 0.03506883463367473\n",
      "Epoch:\t 43 Val Loss:\t 0.03507215232881863\n",
      "Epoch:\t 44 Val Loss:\t 0.03506989725854221\n",
      "Epoch:\t 45 Val Loss:\t 0.03506285861528866\n",
      "Epoch:\t 46 Val Loss:\t 0.03506424181826514\n",
      "Epoch:\t 47 Val Loss:\t 0.03506920509243499\n"
     ]
    },
    {
     "name": "stderr",
     "output_type": "stream",
     "text": [
      "[I 2025-06-18 13:12:34,111] Trial 32 finished with value: 0.035058753402140395 and parameters: {'lr': 0.001, 'weight_decay': 0.0001, 'scheduler_factor': 0.5, 'scheduler_patience': 1, 'batch_size': 64, 'dropout': 0.1, 'hidden_dims': 256}. Best is trial 24 with value: 0.035045385559380006.\n"
     ]
    },
    {
     "name": "stdout",
     "output_type": "stream",
     "text": [
      "Epoch:\t 48 Val Loss:\t 0.0350688590467239\n",
      "Epoch:\t 0 Val Loss:\t 0.03525813593598393\n",
      "Epoch:\t 1 Val Loss:\t 0.03517519105416134\n",
      "Epoch:\t 2 Val Loss:\t 0.0352669253068702\n",
      "Epoch:\t 3 Val Loss:\t 0.03521130153764897\n",
      "Epoch:\t 4 Val Loss:\t 0.03513576109126506\n",
      "Epoch:\t 5 Val Loss:\t 0.035157785195042965\n",
      "Epoch:\t 6 Val Loss:\t 0.03512235362686559\n",
      "Epoch:\t 7 Val Loss:\t 0.0351563845122014\n",
      "Epoch:\t 8 Val Loss:\t 0.03519793402756641\n",
      "Epoch:\t 9 Val Loss:\t 0.03511545252453508\n",
      "Epoch:\t 10 Val Loss:\t 0.03512553085388843\n",
      "Epoch:\t 11 Val Loss:\t 0.03512086640043993\n",
      "Epoch:\t 12 Val Loss:\t 0.035113131389151744\n",
      "Epoch:\t 13 Val Loss:\t 0.035101922312342757\n"
     ]
    },
    {
     "name": "stderr",
     "output_type": "stream",
     "text": [
      "[I 2025-06-18 13:18:26,003] Trial 33 pruned. \n"
     ]
    },
    {
     "name": "stdout",
     "output_type": "stream",
     "text": [
      "Epoch:\t 14 Val Loss:\t 0.035112309557904675\n"
     ]
    },
    {
     "name": "stderr",
     "output_type": "stream",
     "text": [
      "[I 2025-06-18 13:18:28,614] Trial 34 pruned. \n"
     ]
    },
    {
     "name": "stdout",
     "output_type": "stream",
     "text": [
      "Epoch:\t 0 Val Loss:\t 0.03590029114513489\n"
     ]
    },
    {
     "name": "stderr",
     "output_type": "stream",
     "text": [
      "[I 2025-06-18 13:18:32,438] Trial 35 pruned. \n"
     ]
    },
    {
     "name": "stdout",
     "output_type": "stream",
     "text": [
      "Epoch:\t 0 Val Loss:\t 0.09500773455394969\n"
     ]
    },
    {
     "name": "stderr",
     "output_type": "stream",
     "text": [
      "[I 2025-06-18 13:18:34,362] Trial 36 pruned. \n"
     ]
    },
    {
     "name": "stdout",
     "output_type": "stream",
     "text": [
      "Epoch:\t 0 Val Loss:\t 0.05339077127037324\n"
     ]
    },
    {
     "name": "stderr",
     "output_type": "stream",
     "text": [
      "[I 2025-06-18 13:18:37,008] Trial 37 pruned. \n"
     ]
    },
    {
     "name": "stdout",
     "output_type": "stream",
     "text": [
      "Epoch:\t 0 Val Loss:\t 0.035456162603814186\n"
     ]
    },
    {
     "name": "stderr",
     "output_type": "stream",
     "text": [
      "[I 2025-06-18 13:18:41,001] Trial 38 pruned. \n"
     ]
    },
    {
     "name": "stdout",
     "output_type": "stream",
     "text": [
      "Epoch:\t 0 Val Loss:\t 0.05313681009574327\n"
     ]
    },
    {
     "name": "stderr",
     "output_type": "stream",
     "text": [
      "[I 2025-06-18 13:18:45,424] Trial 39 pruned. \n"
     ]
    },
    {
     "name": "stdout",
     "output_type": "stream",
     "text": [
      "Epoch:\t 0 Val Loss:\t 0.035371871832414636\n"
     ]
    },
    {
     "name": "stderr",
     "output_type": "stream",
     "text": [
      "[I 2025-06-18 13:18:47,267] Trial 40 pruned. \n"
     ]
    },
    {
     "name": "stdout",
     "output_type": "stream",
     "text": [
      "Epoch:\t 0 Val Loss:\t 0.061229594746586596\n"
     ]
    },
    {
     "name": "stderr",
     "output_type": "stream",
     "text": [
      "[I 2025-06-18 13:18:51,425] Trial 41 pruned. \n"
     ]
    },
    {
     "name": "stdout",
     "output_type": "stream",
     "text": [
      "Epoch:\t 0 Val Loss:\t 0.03528166386211454\n"
     ]
    },
    {
     "name": "stderr",
     "output_type": "stream",
     "text": [
      "[I 2025-06-18 13:18:56,066] Trial 42 pruned. \n"
     ]
    },
    {
     "name": "stdout",
     "output_type": "stream",
     "text": [
      "Epoch:\t 0 Val Loss:\t 0.035335096281915064\n",
      "Epoch:\t 0 Val Loss:\t 0.03524700925052883\n",
      "Epoch:\t 1 Val Loss:\t 0.035172568277157874\n",
      "Epoch:\t 2 Val Loss:\t 0.0352551818578097\n",
      "Epoch:\t 3 Val Loss:\t 0.03518570899969354\n",
      "Epoch:\t 4 Val Loss:\t 0.0351408352566033\n",
      "Epoch:\t 5 Val Loss:\t 0.03511185395892085\n",
      "Epoch:\t 6 Val Loss:\t 0.03513907824598892\n",
      "Epoch:\t 7 Val Loss:\t 0.03513826995807212\n",
      "Epoch:\t 8 Val Loss:\t 0.03511544945108336\n",
      "Epoch:\t 9 Val Loss:\t 0.03510721887924142\n",
      "Epoch:\t 10 Val Loss:\t 0.03508175398524083\n",
      "Epoch:\t 11 Val Loss:\t 0.03508789409116305\n",
      "Epoch:\t 12 Val Loss:\t 0.03507320088302267\n",
      "Epoch:\t 13 Val Loss:\t 0.03505942736750091\n",
      "Epoch:\t 14 Val Loss:\t 0.035148776960114814\n",
      "Epoch:\t 15 Val Loss:\t 0.035107213643819406\n",
      "Epoch:\t 16 Val Loss:\t 0.03510132681730755\n",
      "Epoch:\t 17 Val Loss:\t 0.03511800569479907\n",
      "Epoch:\t 18 Val Loss:\t 0.03508094761374241\n",
      "Epoch:\t 19 Val Loss:\t 0.03509332676236641\n",
      "Epoch:\t 20 Val Loss:\t 0.03507715032406827\n",
      "Epoch:\t 21 Val Loss:\t 0.035069483273334756\n",
      "Epoch:\t 22 Val Loss:\t 0.035089903228050626\n"
     ]
    },
    {
     "name": "stderr",
     "output_type": "stream",
     "text": [
      "[I 2025-06-18 13:20:40,329] Trial 43 finished with value: 0.03505942736750091 and parameters: {'lr': 0.001, 'weight_decay': 0.0001, 'scheduler_factor': 0.5, 'scheduler_patience': 1, 'batch_size': 64, 'dropout': 0.1, 'hidden_dims': 256}. Best is trial 24 with value: 0.035045385559380006.\n"
     ]
    },
    {
     "name": "stdout",
     "output_type": "stream",
     "text": [
      "Epoch:\t 23 Val Loss:\t 0.03506936605514865\n",
      "Epoch:\t 0 Val Loss:\t 0.03525492985662132\n",
      "Epoch:\t 1 Val Loss:\t 0.035257719444460676\n"
     ]
    },
    {
     "name": "stderr",
     "output_type": "stream",
     "text": [
      "[I 2025-06-18 13:21:56,230] Trial 44 pruned. \n"
     ]
    },
    {
     "name": "stdout",
     "output_type": "stream",
     "text": [
      "Epoch:\t 2 Val Loss:\t 0.0352760476812771\n"
     ]
    },
    {
     "name": "stderr",
     "output_type": "stream",
     "text": [
      "[I 2025-06-18 13:21:58,754] Trial 45 pruned. \n"
     ]
    },
    {
     "name": "stdout",
     "output_type": "stream",
     "text": [
      "Epoch:\t 0 Val Loss:\t 0.03530758773582131\n",
      "Epoch:\t 0 Val Loss:\t 0.035269980365503766\n",
      "Epoch:\t 1 Val Loss:\t 0.03518625618311351\n",
      "Epoch:\t 2 Val Loss:\t 0.03518843671646649\n",
      "Epoch:\t 3 Val Loss:\t 0.035266166185598094\n",
      "Epoch:\t 4 Val Loss:\t 0.03525054923861562\n",
      "Epoch:\t 5 Val Loss:\t 0.035153519418202564\n",
      "Epoch:\t 6 Val Loss:\t 0.03517237370591125\n",
      "Epoch:\t 7 Val Loss:\t 0.035105866657379636\n",
      "Epoch:\t 8 Val Loss:\t 0.03514060030928356\n",
      "Epoch:\t 9 Val Loss:\t 0.035165253364460504\n",
      "Epoch:\t 10 Val Loss:\t 0.03513221067258853\n",
      "Epoch:\t 11 Val Loss:\t 0.03510213307439086\n",
      "Epoch:\t 12 Val Loss:\t 0.035103816582349116\n",
      "Epoch:\t 13 Val Loss:\t 0.03509267902669902\n",
      "Epoch:\t 14 Val Loss:\t 0.035138105494315494\n",
      "Epoch:\t 15 Val Loss:\t 0.03510744113452688\n",
      "Epoch:\t 16 Val Loss:\t 0.03513521185529256\n",
      "Epoch:\t 17 Val Loss:\t 0.03510338059721705\n"
     ]
    },
    {
     "name": "stderr",
     "output_type": "stream",
     "text": [
      "[I 2025-06-18 13:25:12,270] Trial 46 pruned. \n"
     ]
    },
    {
     "name": "stdout",
     "output_type": "stream",
     "text": [
      "Epoch:\t 18 Val Loss:\t 0.03509795593474814\n"
     ]
    },
    {
     "name": "stderr",
     "output_type": "stream",
     "text": [
      "[I 2025-06-18 13:25:14,126] Trial 47 pruned. \n"
     ]
    },
    {
     "name": "stdout",
     "output_type": "stream",
     "text": [
      "Epoch:\t 0 Val Loss:\t 0.06045501872034702\n"
     ]
    },
    {
     "name": "stderr",
     "output_type": "stream",
     "text": [
      "[I 2025-06-18 13:25:18,492] Trial 48 pruned. \n"
     ]
    },
    {
     "name": "stdout",
     "output_type": "stream",
     "text": [
      "Epoch:\t 0 Val Loss:\t 0.03823480372404517\n",
      "Epoch:\t 0 Val Loss:\t 0.03527684116163967\n",
      "Epoch:\t 1 Val Loss:\t 0.03520127423346616\n",
      "Epoch:\t 2 Val Loss:\t 0.03509451890754145\n",
      "Epoch:\t 3 Val Loss:\t 0.0350743731784051\n",
      "Epoch:\t 4 Val Loss:\t 0.03508611194604191\n",
      "Epoch:\t 5 Val Loss:\t 0.03508458050967171\n",
      "Epoch:\t 6 Val Loss:\t 0.03513543326452482\n",
      "Epoch:\t 7 Val Loss:\t 0.035093662967575295\n",
      "Epoch:\t 8 Val Loss:\t 0.03511134442166032\n",
      "Epoch:\t 9 Val Loss:\t 0.03509651669827622\n",
      "Epoch:\t 10 Val Loss:\t 0.035083830122086844\n",
      "Epoch:\t 11 Val Loss:\t 0.03507889841131286\n",
      "Epoch:\t 12 Val Loss:\t 0.03512301853295556\n"
     ]
    },
    {
     "name": "stderr",
     "output_type": "stream",
     "text": [
      "[I 2025-06-18 13:26:19,011] Trial 49 finished with value: 0.0350743731784051 and parameters: {'lr': 0.001, 'weight_decay': 1e-05, 'scheduler_factor': 0.5, 'scheduler_patience': 10, 'batch_size': 64, 'dropout': 0.15, 'hidden_dims': 256}. Best is trial 24 with value: 0.035045385559380006.\n"
     ]
    },
    {
     "name": "stdout",
     "output_type": "stream",
     "text": [
      "Epoch:\t 13 Val Loss:\t 0.03508586620085939\n",
      "Training model with best parameters on train+validation ...\n"
     ]
    },
    {
     "name": "stderr",
     "output_type": "stream",
     "text": [
      "100%|███████████████████████████████████████████████████████████████████████████████████████████████████████████████████████████████████████████████████████████████████| 401917/401917 [04:06<00:00, 1631.24it/s]\n",
      "100%|███████████████████████████████████████████████████████████████████████████████████████████████████████████████████████████████████████████████████████████████████| 401917/401917 [01:13<00:00, 5471.02it/s]\n"
     ]
    },
    {
     "name": "stdout",
     "output_type": "stream",
     "text": [
      "Getting test set predictions and saving results ...\n"
     ]
    },
    {
     "name": "stderr",
     "output_type": "stream",
     "text": [
      "100%|███████████████████████████████████████████████████████████████████████████████████████████████████████████████████████████████████████████████████████████████████████| 1223/1223 [00:01<00:00, 1026.80it/s]\n"
     ]
    }
   ],
   "source": [
    "train_different_featno(\n",
    "        adata_path=\"./data/feature_number/sciplex_hvg_500.h5ad\",\n",
    "        run_name=\"decoder_hvg_500\",\n",
    "        res_savename=\"./results/feature_number/decoder_hvg_500_res.pkl\",\n",
    "        output_dim=500\n",
    "    )"
   ]
  },
  {
   "cell_type": "code",
   "execution_count": 10,
   "id": "5c89cc87-b833-4f2e-b696-7ce18f29bda4",
   "metadata": {},
   "outputs": [
    {
     "name": "stdout",
     "output_type": "stream",
     "text": [
      "Loading Datasets ...\n"
     ]
    },
    {
     "name": "stderr",
     "output_type": "stream",
     "text": [
      "100%|███████████████████████████████████████████████████████████████████████████████████████████████████████████████████████████████████████████████████████████████████| 401917/401917 [03:13<00:00, 2075.85it/s]\n",
      "100%|███████████████████████████████████████████████████████████████████████████████████████████████████████████████████████████████████████████████████████████████████| 401917/401917 [01:15<00:00, 5358.18it/s]\n",
      "[I 2025-06-18 13:37:34,046] A new study created in RDB with name: decoder_hvg_1000\n"
     ]
    },
    {
     "name": "stdout",
     "output_type": "stream",
     "text": [
      "Optimizing Hyperparameters with Optuna ...\n",
      "Epoch:\t 0 Val Loss:\t 0.0337431558483275\n",
      "Epoch:\t 1 Val Loss:\t 0.03225889807804499\n",
      "Epoch:\t 2 Val Loss:\t 0.031701645934125285\n",
      "Epoch:\t 3 Val Loss:\t 0.031353958757667416\n",
      "Epoch:\t 4 Val Loss:\t 0.031298688685322824\n",
      "Epoch:\t 5 Val Loss:\t 0.031134421589882163\n",
      "Epoch:\t 6 Val Loss:\t 0.031053608594090343\n",
      "Epoch:\t 7 Val Loss:\t 0.03098942895973312\n",
      "Epoch:\t 8 Val Loss:\t 0.0308491563844198\n",
      "Epoch:\t 9 Val Loss:\t 0.030844144627702838\n",
      "Epoch:\t 10 Val Loss:\t 0.030784867524670523\n",
      "Epoch:\t 11 Val Loss:\t 0.0307298662468086\n",
      "Epoch:\t 12 Val Loss:\t 0.030718641657361337\n",
      "Epoch:\t 13 Val Loss:\t 0.030690619842998486\n",
      "Epoch:\t 14 Val Loss:\t 0.030699059220797173\n",
      "Epoch:\t 15 Val Loss:\t 0.03069529809959908\n",
      "Epoch:\t 16 Val Loss:\t 0.030681678505484446\n",
      "Epoch:\t 17 Val Loss:\t 0.030674016872404477\n",
      "Epoch:\t 18 Val Loss:\t 0.03069741749850721\n",
      "Epoch:\t 19 Val Loss:\t 0.030677644643445634\n",
      "Epoch:\t 20 Val Loss:\t 0.030677092622341206\n",
      "Epoch:\t 21 Val Loss:\t 0.030694303529242944\n",
      "Epoch:\t 22 Val Loss:\t 0.03068436285945398\n",
      "Epoch:\t 23 Val Loss:\t 0.03068006492601506\n",
      "Epoch:\t 24 Val Loss:\t 0.030696569077831894\n",
      "Epoch:\t 25 Val Loss:\t 0.0306726736333983\n",
      "Epoch:\t 26 Val Loss:\t 0.030680562540554197\n",
      "Epoch:\t 27 Val Loss:\t 0.030684814662183393\n",
      "Epoch:\t 28 Val Loss:\t 0.030672316725493528\n",
      "Epoch:\t 29 Val Loss:\t 0.030669845465896316\n",
      "Epoch:\t 30 Val Loss:\t 0.03067624920556425\n",
      "Epoch:\t 31 Val Loss:\t 0.030664649020518985\n",
      "Epoch:\t 32 Val Loss:\t 0.03067290541845125\n",
      "Epoch:\t 33 Val Loss:\t 0.03068099801713166\n",
      "Epoch:\t 34 Val Loss:\t 0.030671149584873256\n",
      "Epoch:\t 35 Val Loss:\t 0.03067489156130561\n",
      "Epoch:\t 36 Val Loss:\t 0.030674572505277924\n",
      "Epoch:\t 37 Val Loss:\t 0.030709268646232586\n",
      "Epoch:\t 38 Val Loss:\t 0.030688407101221053\n",
      "Epoch:\t 39 Val Loss:\t 0.030709150221136062\n",
      "Epoch:\t 40 Val Loss:\t 0.030689988878302415\n"
     ]
    },
    {
     "name": "stderr",
     "output_type": "stream",
     "text": [
      "[I 2025-06-18 13:40:40,421] Trial 0 finished with value: 0.030664649020518985 and parameters: {'lr': 0.0001, 'weight_decay': 1e-05, 'scheduler_factor': 0.5, 'scheduler_patience': 10, 'batch_size': 64, 'dropout': 0.15, 'hidden_dims': 512}. Best is trial 0 with value: 0.030664649020518985.\n"
     ]
    },
    {
     "name": "stdout",
     "output_type": "stream",
     "text": [
      "Epoch:\t 41 Val Loss:\t 0.030677734597107365\n",
      "Epoch:\t 0 Val Loss:\t 0.05373882534009304\n",
      "Epoch:\t 1 Val Loss:\t 0.049959354467367094\n",
      "Epoch:\t 2 Val Loss:\t 0.05438412142914524\n",
      "Epoch:\t 3 Val Loss:\t 0.05363550473058396\n",
      "Epoch:\t 4 Val Loss:\t 0.05097850153213711\n",
      "Epoch:\t 5 Val Loss:\t 0.04864686132553684\n",
      "Epoch:\t 6 Val Loss:\t 0.04719779791720032\n",
      "Epoch:\t 7 Val Loss:\t 0.04624428719664845\n",
      "Epoch:\t 8 Val Loss:\t 0.04499071279770873\n",
      "Epoch:\t 9 Val Loss:\t 0.04471126324340199\n",
      "Epoch:\t 10 Val Loss:\t 0.04394361879048723\n",
      "Epoch:\t 11 Val Loss:\t 0.04346810798512033\n",
      "Epoch:\t 12 Val Loss:\t 0.0431882981181049\n",
      "Epoch:\t 13 Val Loss:\t 0.042990097545840766\n",
      "Epoch:\t 14 Val Loss:\t 0.04264002604885431\n",
      "Epoch:\t 15 Val Loss:\t 0.042428614078373623\n",
      "Epoch:\t 16 Val Loss:\t 0.04212689935491326\n",
      "Epoch:\t 17 Val Loss:\t 0.041877810491987445\n",
      "Epoch:\t 18 Val Loss:\t 0.04180664346100431\n",
      "Epoch:\t 19 Val Loss:\t 0.04155296211042718\n",
      "Epoch:\t 20 Val Loss:\t 0.041200294869430186\n",
      "Epoch:\t 21 Val Loss:\t 0.040863231386552845\n",
      "Epoch:\t 22 Val Loss:\t 0.04094757677846697\n",
      "Epoch:\t 23 Val Loss:\t 0.04060894066698096\n",
      "Epoch:\t 24 Val Loss:\t 0.04033442467068401\n",
      "Epoch:\t 25 Val Loss:\t 0.04014956903304564\n",
      "Epoch:\t 26 Val Loss:\t 0.03993035815835573\n",
      "Epoch:\t 27 Val Loss:\t 0.039631582013246146\n",
      "Epoch:\t 28 Val Loss:\t 0.039535436025831136\n",
      "Epoch:\t 29 Val Loss:\t 0.03918214436518821\n",
      "Epoch:\t 30 Val Loss:\t 0.039049034815634424\n",
      "Epoch:\t 31 Val Loss:\t 0.0391912426183637\n",
      "Epoch:\t 32 Val Loss:\t 0.03924788095140725\n",
      "Epoch:\t 33 Val Loss:\t 0.038629126820240896\n",
      "Epoch:\t 34 Val Loss:\t 0.03861696109845397\n",
      "Epoch:\t 35 Val Loss:\t 0.038678504227635184\n",
      "Epoch:\t 36 Val Loss:\t 0.03843812889645226\n",
      "Epoch:\t 37 Val Loss:\t 0.03807737303368544\n",
      "Epoch:\t 38 Val Loss:\t 0.03798586456030368\n",
      "Epoch:\t 39 Val Loss:\t 0.037803905853107694\n",
      "Epoch:\t 40 Val Loss:\t 0.037726334357457786\n",
      "Epoch:\t 41 Val Loss:\t 0.037825356385585394\n",
      "Epoch:\t 42 Val Loss:\t 0.03756795769757673\n",
      "Epoch:\t 43 Val Loss:\t 0.03756581916866965\n",
      "Epoch:\t 44 Val Loss:\t 0.03733668116371283\n",
      "Epoch:\t 45 Val Loss:\t 0.03719593823123514\n",
      "Epoch:\t 46 Val Loss:\t 0.03706902188112896\n",
      "Epoch:\t 47 Val Loss:\t 0.03700505095096021\n",
      "Epoch:\t 48 Val Loss:\t 0.03694830202522955\n",
      "Epoch:\t 49 Val Loss:\t 0.03697633340859107\n",
      "Epoch:\t 50 Val Loss:\t 0.036750017825280874\n",
      "Epoch:\t 51 Val Loss:\t 0.03647975323431756\n",
      "Epoch:\t 52 Val Loss:\t 0.03657595305606412\n",
      "Epoch:\t 53 Val Loss:\t 0.03651031678958077\n",
      "Epoch:\t 54 Val Loss:\t 0.03650519264978543\n",
      "Epoch:\t 55 Val Loss:\t 0.0363400529346535\n",
      "Epoch:\t 56 Val Loss:\t 0.03617967010429353\n",
      "Epoch:\t 57 Val Loss:\t 0.03621695114428217\n",
      "Epoch:\t 58 Val Loss:\t 0.03607639487994234\n",
      "Epoch:\t 59 Val Loss:\t 0.03612309025173011\n",
      "Epoch:\t 60 Val Loss:\t 0.035832941869982364\n",
      "Epoch:\t 61 Val Loss:\t 0.035800202437235494\n",
      "Epoch:\t 62 Val Loss:\t 0.035858889685922796\n",
      "Epoch:\t 63 Val Loss:\t 0.03569674018597048\n",
      "Epoch:\t 64 Val Loss:\t 0.035518479872835775\n",
      "Epoch:\t 65 Val Loss:\t 0.035507369732684535\n",
      "Epoch:\t 66 Val Loss:\t 0.0355045563551817\n",
      "Epoch:\t 67 Val Loss:\t 0.03541374686704784\n",
      "Epoch:\t 68 Val Loss:\t 0.03532004279845408\n",
      "Epoch:\t 69 Val Loss:\t 0.03535501409567187\n",
      "Epoch:\t 70 Val Loss:\t 0.03515453601067656\n",
      "Epoch:\t 71 Val Loss:\t 0.03514038551640644\n",
      "Epoch:\t 72 Val Loss:\t 0.03514045229956005\n",
      "Epoch:\t 73 Val Loss:\t 0.03510865985593769\n",
      "Epoch:\t 74 Val Loss:\t 0.0350940508729095\n",
      "Epoch:\t 75 Val Loss:\t 0.034965811114919705\n",
      "Epoch:\t 76 Val Loss:\t 0.034829710973471546\n",
      "Epoch:\t 77 Val Loss:\t 0.034923284513394486\n",
      "Epoch:\t 78 Val Loss:\t 0.034706028874957544\n",
      "Epoch:\t 79 Val Loss:\t 0.034759893188220155\n",
      "Epoch:\t 80 Val Loss:\t 0.03475500508114385\n",
      "Epoch:\t 81 Val Loss:\t 0.03468225852408436\n",
      "Epoch:\t 82 Val Loss:\t 0.03458578184091547\n",
      "Epoch:\t 83 Val Loss:\t 0.0346217289040789\n",
      "Epoch:\t 84 Val Loss:\t 0.03442056222338929\n",
      "Epoch:\t 85 Val Loss:\t 0.034435003227516886\n",
      "Epoch:\t 86 Val Loss:\t 0.03435427592364686\n",
      "Epoch:\t 87 Val Loss:\t 0.034420635751530794\n",
      "Epoch:\t 88 Val Loss:\t 0.034218514717840265\n",
      "Epoch:\t 89 Val Loss:\t 0.034282774860293484\n",
      "Epoch:\t 90 Val Loss:\t 0.03427910954836475\n",
      "Epoch:\t 91 Val Loss:\t 0.034243697596543485\n",
      "Epoch:\t 92 Val Loss:\t 0.03422326187978395\n",
      "Epoch:\t 93 Val Loss:\t 0.0341921178459595\n",
      "Epoch:\t 94 Val Loss:\t 0.03417062437099017\n",
      "Epoch:\t 95 Val Loss:\t 0.034126281484148285\n",
      "Epoch:\t 96 Val Loss:\t 0.03400196309050434\n",
      "Epoch:\t 97 Val Loss:\t 0.03396644355074456\n",
      "Epoch:\t 98 Val Loss:\t 0.033950163595629544\n"
     ]
    },
    {
     "name": "stderr",
     "output_type": "stream",
     "text": [
      "[I 2025-06-18 13:45:17,870] Trial 1 finished with value: 0.033921048113923775 and parameters: {'lr': 1e-05, 'weight_decay': 1e-06, 'scheduler_factor': 0.8, 'scheduler_patience': 5, 'batch_size': 128, 'dropout': 0.1, 'hidden_dims': 64}. Best is trial 0 with value: 0.030664649020518985.\n"
     ]
    },
    {
     "name": "stdout",
     "output_type": "stream",
     "text": [
      "Epoch:\t 99 Val Loss:\t 0.033921048113923775\n",
      "Epoch:\t 0 Val Loss:\t 0.03508723785933178\n",
      "Epoch:\t 1 Val Loss:\t 0.0343706959427863\n",
      "Epoch:\t 2 Val Loss:\t 0.034138330434393224\n",
      "Epoch:\t 3 Val Loss:\t 0.033079039336051\n",
      "Epoch:\t 4 Val Loss:\t 0.0324138397396811\n",
      "Epoch:\t 5 Val Loss:\t 0.032303447987973105\n",
      "Epoch:\t 6 Val Loss:\t 0.03206069363186711\n",
      "Epoch:\t 7 Val Loss:\t 0.03180839013188116\n",
      "Epoch:\t 8 Val Loss:\t 0.031754647771225344\n",
      "Epoch:\t 9 Val Loss:\t 0.031746223240686225\n",
      "Epoch:\t 10 Val Loss:\t 0.03171392645111389\n",
      "Epoch:\t 11 Val Loss:\t 0.03163140684428178\n",
      "Epoch:\t 12 Val Loss:\t 0.031700730016460656\n",
      "Epoch:\t 13 Val Loss:\t 0.03163782045923649\n",
      "Epoch:\t 14 Val Loss:\t 0.03159294654642281\n",
      "Epoch:\t 15 Val Loss:\t 0.031630138653878925\n",
      "Epoch:\t 16 Val Loss:\t 0.03157512307207359\n",
      "Epoch:\t 17 Val Loss:\t 0.03156837175201466\n",
      "Epoch:\t 18 Val Loss:\t 0.0316223600411691\n",
      "Epoch:\t 19 Val Loss:\t 0.031505522090531896\n",
      "Epoch:\t 20 Val Loss:\t 0.031699274541398516\n",
      "Epoch:\t 21 Val Loss:\t 0.03147872785646323\n",
      "Epoch:\t 22 Val Loss:\t 0.03161727009366125\n",
      "Epoch:\t 23 Val Loss:\t 0.031575412368370165\n",
      "Epoch:\t 24 Val Loss:\t 0.03146571916737225\n",
      "Epoch:\t 25 Val Loss:\t 0.031554968915491595\n",
      "Epoch:\t 26 Val Loss:\t 0.03149526929167463\n",
      "Epoch:\t 27 Val Loss:\t 0.03157272217565734\n",
      "Epoch:\t 28 Val Loss:\t 0.03170023208226172\n",
      "Epoch:\t 29 Val Loss:\t 0.03151526318949244\n",
      "Epoch:\t 30 Val Loss:\t 0.03152565453671766\n",
      "Epoch:\t 31 Val Loss:\t 0.03163128296923593\n",
      "Epoch:\t 32 Val Loss:\t 0.03157270801100791\n",
      "Epoch:\t 33 Val Loss:\t 0.031652586263302356\n"
     ]
    },
    {
     "name": "stderr",
     "output_type": "stream",
     "text": [
      "[I 2025-06-18 13:59:23,903] Trial 2 finished with value: 0.03146571916737225 and parameters: {'lr': 1e-05, 'weight_decay': 0.001, 'scheduler_factor': 0.3, 'scheduler_patience': 10, 'batch_size': 16, 'dropout': 0.1, 'hidden_dims': 64}. Best is trial 0 with value: 0.030664649020518985.\n"
     ]
    },
    {
     "name": "stdout",
     "output_type": "stream",
     "text": [
      "Epoch:\t 34 Val Loss:\t 0.03150976714410337\n",
      "Epoch:\t 0 Val Loss:\t 0.060412499485582256\n",
      "Epoch:\t 1 Val Loss:\t 0.05251098241220508\n",
      "Epoch:\t 2 Val Loss:\t 0.04933641373776318\n",
      "Epoch:\t 3 Val Loss:\t 0.04607373908951424\n",
      "Epoch:\t 4 Val Loss:\t 0.042547446073154\n",
      "Epoch:\t 5 Val Loss:\t 0.04080483464473323\n",
      "Epoch:\t 6 Val Loss:\t 0.04057471429627167\n",
      "Epoch:\t 7 Val Loss:\t 0.041887847667808134\n",
      "Epoch:\t 8 Val Loss:\t 0.04278793121369654\n",
      "Epoch:\t 9 Val Loss:\t 0.042739562899544\n",
      "Epoch:\t 10 Val Loss:\t 0.043319339563481114\n",
      "Epoch:\t 11 Val Loss:\t 0.04229465415207953\n",
      "Epoch:\t 12 Val Loss:\t 0.04143350394995791\n",
      "Epoch:\t 13 Val Loss:\t 0.04043149807599536\n",
      "Epoch:\t 14 Val Loss:\t 0.03947067650911035\n",
      "Epoch:\t 15 Val Loss:\t 0.038065077620371576\n",
      "Epoch:\t 16 Val Loss:\t 0.03743778881624365\n",
      "Epoch:\t 17 Val Loss:\t 0.03638511815109854\n",
      "Epoch:\t 18 Val Loss:\t 0.035539556584690206\n",
      "Epoch:\t 19 Val Loss:\t 0.03478254109656925\n",
      "Epoch:\t 20 Val Loss:\t 0.034430746267135603\n",
      "Epoch:\t 21 Val Loss:\t 0.033512944134361865\n",
      "Epoch:\t 22 Val Loss:\t 0.033409323710738945\n",
      "Epoch:\t 23 Val Loss:\t 0.03296648205092018\n",
      "Epoch:\t 24 Val Loss:\t 0.03260145608760285\n",
      "Epoch:\t 25 Val Loss:\t 0.032309305457993265\n",
      "Epoch:\t 26 Val Loss:\t 0.03214783197863814\n",
      "Epoch:\t 27 Val Loss:\t 0.031891564334807006\n",
      "Epoch:\t 28 Val Loss:\t 0.03174740114035518\n",
      "Epoch:\t 29 Val Loss:\t 0.03163041853096282\n",
      "Epoch:\t 30 Val Loss:\t 0.031545544210612106\n",
      "Epoch:\t 31 Val Loss:\t 0.03145497451935496\n",
      "Epoch:\t 32 Val Loss:\t 0.03141149527499419\n",
      "Epoch:\t 33 Val Loss:\t 0.03137763717285033\n",
      "Epoch:\t 34 Val Loss:\t 0.03136677599331158\n",
      "Epoch:\t 35 Val Loss:\t 0.03135533007474715\n",
      "Epoch:\t 36 Val Loss:\t 0.03134360152444717\n",
      "Epoch:\t 37 Val Loss:\t 0.03138613080184303\n",
      "Epoch:\t 38 Val Loss:\t 0.03138476819469688\n",
      "Epoch:\t 39 Val Loss:\t 0.03140848047768228\n",
      "Epoch:\t 40 Val Loss:\t 0.03150177652533517\n",
      "Epoch:\t 41 Val Loss:\t 0.03150702493914058\n",
      "Epoch:\t 42 Val Loss:\t 0.03152180164095678\n",
      "Epoch:\t 43 Val Loss:\t 0.03157128096164995\n",
      "Epoch:\t 44 Val Loss:\t 0.03154732656469315\n",
      "Epoch:\t 45 Val Loss:\t 0.03161213800227374\n"
     ]
    },
    {
     "name": "stderr",
     "output_type": "stream",
     "text": [
      "[I 2025-06-18 14:01:31,889] Trial 3 finished with value: 0.03134360152444717 and parameters: {'lr': 1e-05, 'weight_decay': 0.001, 'scheduler_factor': 0.5, 'scheduler_patience': 10, 'batch_size': 128, 'dropout': 0.15, 'hidden_dims': 64}. Best is trial 0 with value: 0.030664649020518985.\n"
     ]
    },
    {
     "name": "stdout",
     "output_type": "stream",
     "text": [
      "Epoch:\t 46 Val Loss:\t 0.0316023797508371\n",
      "Epoch:\t 0 Val Loss:\t 0.03130966075733423\n",
      "Epoch:\t 1 Val Loss:\t 0.03079608879552894\n",
      "Epoch:\t 2 Val Loss:\t 0.030732006588008967\n",
      "Epoch:\t 3 Val Loss:\t 0.030718250439336365\n",
      "Epoch:\t 4 Val Loss:\t 0.030701112779482218\n",
      "Epoch:\t 5 Val Loss:\t 0.030672947874660475\n",
      "Epoch:\t 6 Val Loss:\t 0.030669323726292597\n",
      "Epoch:\t 7 Val Loss:\t 0.030699264464442457\n",
      "Epoch:\t 8 Val Loss:\t 0.0306646256777869\n",
      "Epoch:\t 9 Val Loss:\t 0.03066461565298885\n",
      "Epoch:\t 10 Val Loss:\t 0.030695619306752808\n",
      "Epoch:\t 11 Val Loss:\t 0.03069181807554457\n",
      "Epoch:\t 12 Val Loss:\t 0.030652121719971514\n",
      "Epoch:\t 13 Val Loss:\t 0.030674422303301373\n",
      "Epoch:\t 14 Val Loss:\t 0.030677846422116982\n",
      "Epoch:\t 15 Val Loss:\t 0.03068412548561923\n",
      "Epoch:\t 16 Val Loss:\t 0.03065853151545096\n",
      "Epoch:\t 17 Val Loss:\t 0.030680338426061084\n",
      "Epoch:\t 18 Val Loss:\t 0.030670514844513438\n",
      "Epoch:\t 19 Val Loss:\t 0.030650643649754707\n",
      "Epoch:\t 20 Val Loss:\t 0.030659197905903643\n",
      "Epoch:\t 21 Val Loss:\t 0.030654110935296904\n",
      "Epoch:\t 22 Val Loss:\t 0.030651673620767043\n",
      "Epoch:\t 23 Val Loss:\t 0.030668418579413458\n",
      "Epoch:\t 24 Val Loss:\t 0.03068505385427184\n",
      "Epoch:\t 25 Val Loss:\t 0.03067458359103046\n",
      "Epoch:\t 26 Val Loss:\t 0.030655630288666552\n",
      "Epoch:\t 27 Val Loss:\t 0.030676392596185112\n",
      "Epoch:\t 28 Val Loss:\t 0.03068387187885817\n"
     ]
    },
    {
     "name": "stderr",
     "output_type": "stream",
     "text": [
      "[I 2025-06-18 14:02:53,738] Trial 4 finished with value: 0.030650643649754707 and parameters: {'lr': 0.001, 'weight_decay': 1e-05, 'scheduler_factor': 0.8, 'scheduler_patience': 20, 'batch_size': 128, 'dropout': 0.1, 'hidden_dims': 256}. Best is trial 4 with value: 0.030650643649754707.\n"
     ]
    },
    {
     "name": "stdout",
     "output_type": "stream",
     "text": [
      "Epoch:\t 29 Val Loss:\t 0.030688016865264928\n"
     ]
    },
    {
     "name": "stderr",
     "output_type": "stream",
     "text": [
      "[I 2025-06-18 14:02:56,568] Trial 5 pruned. \n"
     ]
    },
    {
     "name": "stdout",
     "output_type": "stream",
     "text": [
      "Epoch:\t 0 Val Loss:\t 0.0948668434665827\n",
      "Epoch:\t 0 Val Loss:\t 0.031210939151196836\n",
      "Epoch:\t 1 Val Loss:\t 0.030905201341045695\n",
      "Epoch:\t 2 Val Loss:\t 0.030805517134421714\n",
      "Epoch:\t 3 Val Loss:\t 0.030719897761319576\n",
      "Epoch:\t 4 Val Loss:\t 0.03072672086949337\n",
      "Epoch:\t 5 Val Loss:\t 0.030706960225437483\n",
      "Epoch:\t 6 Val Loss:\t 0.030718539452363993\n",
      "Epoch:\t 7 Val Loss:\t 0.030731379100044632\n",
      "Epoch:\t 8 Val Loss:\t 0.030748682159335974\n",
      "Epoch:\t 9 Val Loss:\t 0.030747062811193316\n",
      "Epoch:\t 10 Val Loss:\t 0.03075460737396357\n",
      "Epoch:\t 11 Val Loss:\t 0.030813592591389428\n",
      "Epoch:\t 12 Val Loss:\t 0.030841402076154874\n",
      "Epoch:\t 13 Val Loss:\t 0.030846388522108362\n",
      "Epoch:\t 14 Val Loss:\t 0.03086630724752867\n"
     ]
    },
    {
     "name": "stderr",
     "output_type": "stream",
     "text": [
      "[I 2025-06-18 14:04:05,627] Trial 6 finished with value: 0.030706960225437483 and parameters: {'lr': 0.001, 'weight_decay': 1e-06, 'scheduler_factor': 0.5, 'scheduler_patience': 1, 'batch_size': 64, 'dropout': 0.2, 'hidden_dims': 64}. Best is trial 4 with value: 0.030650643649754707.\n"
     ]
    },
    {
     "name": "stdout",
     "output_type": "stream",
     "text": [
      "Epoch:\t 15 Val Loss:\t 0.030892781630971\n"
     ]
    },
    {
     "name": "stderr",
     "output_type": "stream",
     "text": [
      "[I 2025-06-18 14:04:08,311] Trial 7 pruned. \n"
     ]
    },
    {
     "name": "stdout",
     "output_type": "stream",
     "text": [
      "Epoch:\t 0 Val Loss:\t 0.05587726940264862\n",
      "Epoch:\t 0 Val Loss:\t 0.03269607985411631\n",
      "Epoch:\t 1 Val Loss:\t 0.03132762249376932\n",
      "Epoch:\t 2 Val Loss:\t 0.030981394340550795\n",
      "Epoch:\t 3 Val Loss:\t 0.0308447159339809\n",
      "Epoch:\t 4 Val Loss:\t 0.03079428484046469\n",
      "Epoch:\t 5 Val Loss:\t 0.030733848195269094\n",
      "Epoch:\t 6 Val Loss:\t 0.030702134619714168\n",
      "Epoch:\t 7 Val Loss:\t 0.030703203087939963\n",
      "Epoch:\t 8 Val Loss:\t 0.030680409231564478\n",
      "Epoch:\t 9 Val Loss:\t 0.030702715820267665\n",
      "Epoch:\t 10 Val Loss:\t 0.03064987406212278\n",
      "Epoch:\t 11 Val Loss:\t 0.030657944778083514\n",
      "Epoch:\t 12 Val Loss:\t 0.030679676326256136\n",
      "Epoch:\t 13 Val Loss:\t 0.030670692878323455\n",
      "Epoch:\t 14 Val Loss:\t 0.03067311717297377\n",
      "Epoch:\t 15 Val Loss:\t 0.030690236783376578\n",
      "Epoch:\t 16 Val Loss:\t 0.03067605102131533\n",
      "Epoch:\t 17 Val Loss:\t 0.03066351298174097\n",
      "Epoch:\t 18 Val Loss:\t 0.030658399728040936\n",
      "Epoch:\t 19 Val Loss:\t 0.030684260509567636\n"
     ]
    },
    {
     "name": "stderr",
     "output_type": "stream",
     "text": [
      "[I 2025-06-18 14:05:37,350] Trial 8 finished with value: 0.03064987406212278 and parameters: {'lr': 0.0001, 'weight_decay': 0.0001, 'scheduler_factor': 0.1, 'scheduler_patience': 20, 'batch_size': 64, 'dropout': 0.1, 'hidden_dims': 64}. Best is trial 8 with value: 0.03064987406212278.\n"
     ]
    },
    {
     "name": "stdout",
     "output_type": "stream",
     "text": [
      "Epoch:\t 20 Val Loss:\t 0.030662820461626616\n",
      "Epoch:\t 0 Val Loss:\t 0.030766565442059888\n",
      "Epoch:\t 1 Val Loss:\t 0.030755813669639486\n",
      "Epoch:\t 2 Val Loss:\t 0.030757972527802158\n",
      "Epoch:\t 3 Val Loss:\t 0.030760489468018844\n",
      "Epoch:\t 4 Val Loss:\t 0.030791280280438163\n",
      "Epoch:\t 5 Val Loss:\t 0.030753741304305603\n",
      "Epoch:\t 6 Val Loss:\t 0.03076515794251927\n",
      "Epoch:\t 7 Val Loss:\t 0.030772367756357714\n",
      "Epoch:\t 8 Val Loss:\t 0.030770545952063875\n",
      "Epoch:\t 9 Val Loss:\t 0.03076197418541558\n",
      "Epoch:\t 10 Val Loss:\t 0.030768662897869573\n",
      "Epoch:\t 11 Val Loss:\t 0.03076621346631722\n",
      "Epoch:\t 12 Val Loss:\t 0.030774050275958437\n",
      "Epoch:\t 13 Val Loss:\t 0.03070462520839432\n",
      "Epoch:\t 14 Val Loss:\t 0.030719576598309463\n",
      "Epoch:\t 15 Val Loss:\t 0.030750403998214756\n",
      "Epoch:\t 16 Val Loss:\t 0.030826471084282863\n",
      "Epoch:\t 17 Val Loss:\t 0.03081084175945594\n",
      "Epoch:\t 18 Val Loss:\t 0.03090111964365997\n",
      "Epoch:\t 19 Val Loss:\t 0.03089798552599353\n",
      "Epoch:\t 20 Val Loss:\t 0.03092102965993493\n",
      "Epoch:\t 21 Val Loss:\t 0.03092346596153704\n",
      "Epoch:\t 22 Val Loss:\t 0.030966483014000366\n"
     ]
    },
    {
     "name": "stderr",
     "output_type": "stream",
     "text": [
      "[I 2025-06-18 14:15:32,442] Trial 9 finished with value: 0.03070462520839432 and parameters: {'lr': 0.001, 'weight_decay': 1e-05, 'scheduler_factor': 0.1, 'scheduler_patience': 10, 'batch_size': 16, 'dropout': 0.15, 'hidden_dims': 512}. Best is trial 8 with value: 0.03064987406212278.\n"
     ]
    },
    {
     "name": "stdout",
     "output_type": "stream",
     "text": [
      "Epoch:\t 23 Val Loss:\t 0.03096412461750363\n"
     ]
    },
    {
     "name": "stderr",
     "output_type": "stream",
     "text": [
      "[I 2025-06-18 14:15:34,598] Trial 10 pruned. \n"
     ]
    },
    {
     "name": "stdout",
     "output_type": "stream",
     "text": [
      "Epoch:\t 0 Val Loss:\t 0.033781119709133715\n",
      "Epoch:\t 0 Val Loss:\t 0.030824827918696975\n",
      "Epoch:\t 1 Val Loss:\t 0.030737440017068792\n",
      "Epoch:\t 2 Val Loss:\t 0.030724148886028178\n",
      "Epoch:\t 3 Val Loss:\t 0.03072225895816673\n",
      "Epoch:\t 4 Val Loss:\t 0.030719606059497008\n",
      "Epoch:\t 5 Val Loss:\t 0.030733294925374355\n",
      "Epoch:\t 6 Val Loss:\t 0.0307051455538593\n",
      "Epoch:\t 7 Val Loss:\t 0.030751678060165388\n",
      "Epoch:\t 8 Val Loss:\t 0.030729700448010155\n",
      "Epoch:\t 9 Val Loss:\t 0.03072369371602435\n",
      "Epoch:\t 10 Val Loss:\t 0.030711045296104973\n",
      "Epoch:\t 11 Val Loss:\t 0.03069993442592616\n",
      "Epoch:\t 12 Val Loss:\t 0.03072803364114795\n",
      "Epoch:\t 13 Val Loss:\t 0.03072101552569436\n",
      "Epoch:\t 14 Val Loss:\t 0.030691740644688836\n",
      "Epoch:\t 15 Val Loss:\t 0.03071472119756476\n",
      "Epoch:\t 16 Val Loss:\t 0.030707570658119503\n",
      "Epoch:\t 17 Val Loss:\t 0.030705179923581696\n",
      "Epoch:\t 18 Val Loss:\t 0.030729628378947178\n",
      "Epoch:\t 19 Val Loss:\t 0.030743404928751602\n",
      "Epoch:\t 20 Val Loss:\t 0.030714195527001945\n",
      "Epoch:\t 21 Val Loss:\t 0.030716807871519446\n",
      "Epoch:\t 22 Val Loss:\t 0.03072130019983691\n",
      "Epoch:\t 23 Val Loss:\t 0.030722687250089073\n"
     ]
    },
    {
     "name": "stderr",
     "output_type": "stream",
     "text": [
      "[I 2025-06-18 14:18:46,328] Trial 11 finished with value: 0.030691740644688836 and parameters: {'lr': 0.001, 'weight_decay': 1e-05, 'scheduler_factor': 0.8, 'scheduler_patience': 20, 'batch_size': 32, 'dropout': 0.1, 'hidden_dims': 256}. Best is trial 8 with value: 0.03064987406212278.\n"
     ]
    },
    {
     "name": "stdout",
     "output_type": "stream",
     "text": [
      "Epoch:\t 24 Val Loss:\t 0.030693570876079716\n",
      "Epoch:\t 0 Val Loss:\t 0.031699176054707796\n",
      "Epoch:\t 1 Val Loss:\t 0.03089215414958566\n",
      "Epoch:\t 2 Val Loss:\t 0.03076066434945024\n",
      "Epoch:\t 3 Val Loss:\t 0.030747512141847573\n",
      "Epoch:\t 4 Val Loss:\t 0.030698509613513565\n",
      "Epoch:\t 5 Val Loss:\t 0.030702828164507413\n",
      "Epoch:\t 6 Val Loss:\t 0.030695362053901172\n",
      "Epoch:\t 7 Val Loss:\t 0.030707773376844747\n",
      "Epoch:\t 8 Val Loss:\t 0.030668569007274524\n",
      "Epoch:\t 9 Val Loss:\t 0.030672816979402336\n",
      "Epoch:\t 10 Val Loss:\t 0.030664137879023574\n",
      "Epoch:\t 11 Val Loss:\t 0.030688695472149058\n",
      "Epoch:\t 12 Val Loss:\t 0.030697034515064052\n",
      "Epoch:\t 13 Val Loss:\t 0.030689330888074115\n",
      "Epoch:\t 14 Val Loss:\t 0.03067455037012278\n",
      "Epoch:\t 15 Val Loss:\t 0.030682706379398118\n",
      "Epoch:\t 16 Val Loss:\t 0.030673450172700303\n",
      "Epoch:\t 17 Val Loss:\t 0.030676534287362646\n",
      "Epoch:\t 18 Val Loss:\t 0.0306861990989569\n",
      "Epoch:\t 19 Val Loss:\t 0.03065887230367018\n",
      "Epoch:\t 20 Val Loss:\t 0.030669113782435392\n",
      "Epoch:\t 21 Val Loss:\t 0.030680843042665322\n",
      "Epoch:\t 22 Val Loss:\t 0.030691411540378258\n",
      "Epoch:\t 23 Val Loss:\t 0.030706871710209818\n",
      "Epoch:\t 24 Val Loss:\t 0.03066598374094835\n",
      "Epoch:\t 25 Val Loss:\t 0.030664216888338064\n",
      "Epoch:\t 26 Val Loss:\t 0.030682756714134476\n",
      "Epoch:\t 27 Val Loss:\t 0.030671572049821294\n",
      "Epoch:\t 28 Val Loss:\t 0.03068085228419342\n"
     ]
    },
    {
     "name": "stderr",
     "output_type": "stream",
     "text": [
      "[I 2025-06-18 14:20:48,905] Trial 12 finished with value: 0.03065887230367018 and parameters: {'lr': 0.0001, 'weight_decay': 0.0001, 'scheduler_factor': 0.1, 'scheduler_patience': 20, 'batch_size': 64, 'dropout': 0.1, 'hidden_dims': 256}. Best is trial 8 with value: 0.03064987406212278.\n"
     ]
    },
    {
     "name": "stdout",
     "output_type": "stream",
     "text": [
      "Epoch:\t 29 Val Loss:\t 0.030667734141935802\n"
     ]
    },
    {
     "name": "stderr",
     "output_type": "stream",
     "text": [
      "[I 2025-06-18 14:20:55,232] Trial 13 pruned. \n"
     ]
    },
    {
     "name": "stdout",
     "output_type": "stream",
     "text": [
      "Epoch:\t 0 Val Loss:\t 0.04822569902471168\n"
     ]
    },
    {
     "name": "stderr",
     "output_type": "stream",
     "text": [
      "[I 2025-06-18 14:20:57,175] Trial 14 pruned. \n"
     ]
    },
    {
     "name": "stdout",
     "output_type": "stream",
     "text": [
      "Epoch:\t 0 Val Loss:\t 0.041651519260989124\n",
      "Epoch:\t 0 Val Loss:\t 0.031391312639320865\n",
      "Epoch:\t 1 Val Loss:\t 0.0310441772927737\n",
      "Epoch:\t 2 Val Loss:\t 0.03072782978116749\n",
      "Epoch:\t 3 Val Loss:\t 0.030708233474095823\n",
      "Epoch:\t 4 Val Loss:\t 0.03070246927147401\n",
      "Epoch:\t 5 Val Loss:\t 0.030693082179225915\n",
      "Epoch:\t 6 Val Loss:\t 0.030716533005631916\n",
      "Epoch:\t 7 Val Loss:\t 0.030732069590219326\n",
      "Epoch:\t 8 Val Loss:\t 0.030708852487690178\n",
      "Epoch:\t 9 Val Loss:\t 0.030723295810108867\n",
      "Epoch:\t 10 Val Loss:\t 0.030731396340341596\n",
      "Epoch:\t 11 Val Loss:\t 0.03071363423237728\n",
      "Epoch:\t 12 Val Loss:\t 0.03071308952592666\n",
      "Epoch:\t 13 Val Loss:\t 0.03070398258028885\n",
      "Epoch:\t 14 Val Loss:\t 0.030712980720264585\n"
     ]
    },
    {
     "name": "stderr",
     "output_type": "stream",
     "text": [
      "[I 2025-06-18 14:21:55,185] Trial 15 finished with value: 0.030693082179225915 and parameters: {'lr': 0.001, 'weight_decay': 1e-05, 'scheduler_factor': 0.8, 'scheduler_patience': 20, 'batch_size': 64, 'dropout': 0.2, 'hidden_dims': 1024}. Best is trial 8 with value: 0.03064987406212278.\n"
     ]
    },
    {
     "name": "stdout",
     "output_type": "stream",
     "text": [
      "Epoch:\t 15 Val Loss:\t 0.0307195320465537\n",
      "Epoch:\t 0 Val Loss:\t 0.030866472062497208\n",
      "Epoch:\t 1 Val Loss:\t 0.03079702913964282\n",
      "Epoch:\t 2 Val Loss:\t 0.030818245955462828\n"
     ]
    },
    {
     "name": "stderr",
     "output_type": "stream",
     "text": [
      "[I 2025-06-18 14:22:09,708] Trial 16 pruned. \n"
     ]
    },
    {
     "name": "stdout",
     "output_type": "stream",
     "text": [
      "Epoch:\t 3 Val Loss:\t 0.030839279588273073\n",
      "Epoch:\t 0 Val Loss:\t 0.031106519119673517\n",
      "Epoch:\t 1 Val Loss:\t 0.030803214985859338\n",
      "Epoch:\t 2 Val Loss:\t 0.03077515685276082\n"
     ]
    },
    {
     "name": "stderr",
     "output_type": "stream",
     "text": [
      "[I 2025-06-18 14:22:19,162] Trial 17 pruned. \n"
     ]
    },
    {
     "name": "stdout",
     "output_type": "stream",
     "text": [
      "Epoch:\t 3 Val Loss:\t 0.031068415786132193\n"
     ]
    },
    {
     "name": "stderr",
     "output_type": "stream",
     "text": [
      "[I 2025-06-18 14:22:25,130] Trial 18 pruned. \n"
     ]
    },
    {
     "name": "stdout",
     "output_type": "stream",
     "text": [
      "Epoch:\t 0 Val Loss:\t 0.04406461919730675\n"
     ]
    },
    {
     "name": "stderr",
     "output_type": "stream",
     "text": [
      "[I 2025-06-18 14:22:42,305] Trial 19 pruned. \n"
     ]
    },
    {
     "name": "stdout",
     "output_type": "stream",
     "text": [
      "Epoch:\t 0 Val Loss:\t 0.03241974937290467\n"
     ]
    },
    {
     "name": "stderr",
     "output_type": "stream",
     "text": [
      "[I 2025-06-18 14:22:44,151] Trial 20 pruned. \n"
     ]
    },
    {
     "name": "stdout",
     "output_type": "stream",
     "text": [
      "Epoch:\t 0 Val Loss:\t 0.03447811809814628\n",
      "Epoch:\t 0 Val Loss:\t 0.03164930881390164\n",
      "Epoch:\t 1 Val Loss:\t 0.03094770841348286\n",
      "Epoch:\t 2 Val Loss:\t 0.030777799210540274\n",
      "Epoch:\t 3 Val Loss:\t 0.030732258022094405\n",
      "Epoch:\t 4 Val Loss:\t 0.030725150042734056\n",
      "Epoch:\t 5 Val Loss:\t 0.030704060194486606\n",
      "Epoch:\t 6 Val Loss:\t 0.03070499913344263\n",
      "Epoch:\t 7 Val Loss:\t 0.03066946309935167\n",
      "Epoch:\t 8 Val Loss:\t 0.030684219181848316\n",
      "Epoch:\t 9 Val Loss:\t 0.030664507490855364\n",
      "Epoch:\t 10 Val Loss:\t 0.030695655318193658\n",
      "Epoch:\t 11 Val Loss:\t 0.030682935320444363\n",
      "Epoch:\t 12 Val Loss:\t 0.030679661002377557\n",
      "Epoch:\t 13 Val Loss:\t 0.030670272153537084\n",
      "Epoch:\t 14 Val Loss:\t 0.030673404625275656\n",
      "Epoch:\t 15 Val Loss:\t 0.030682588093215786\n",
      "Epoch:\t 16 Val Loss:\t 0.030694866633608806\n",
      "Epoch:\t 17 Val Loss:\t 0.030688309891159858\n",
      "Epoch:\t 18 Val Loss:\t 0.03065957006070025\n",
      "Epoch:\t 19 Val Loss:\t 0.030668288517113007\n",
      "Epoch:\t 20 Val Loss:\t 0.030693948590036095\n",
      "Epoch:\t 21 Val Loss:\t 0.030656205673956737\n",
      "Epoch:\t 22 Val Loss:\t 0.030687459984252045\n",
      "Epoch:\t 23 Val Loss:\t 0.030704055598368623\n",
      "Epoch:\t 24 Val Loss:\t 0.030671993617055027\n",
      "Epoch:\t 25 Val Loss:\t 0.030685181134255675\n",
      "Epoch:\t 26 Val Loss:\t 0.030682816992438404\n",
      "Epoch:\t 27 Val Loss:\t 0.030680638356335947\n",
      "Epoch:\t 28 Val Loss:\t 0.030678159915024313\n",
      "Epoch:\t 29 Val Loss:\t 0.030669958129788077\n",
      "Epoch:\t 30 Val Loss:\t 0.03068815990864227\n"
     ]
    },
    {
     "name": "stderr",
     "output_type": "stream",
     "text": [
      "[I 2025-06-18 14:24:40,270] Trial 21 finished with value: 0.030656205673956737 and parameters: {'lr': 0.0001, 'weight_decay': 0.0001, 'scheduler_factor': 0.1, 'scheduler_patience': 20, 'batch_size': 64, 'dropout': 0.1, 'hidden_dims': 256}. Best is trial 8 with value: 0.03064987406212278.\n"
     ]
    },
    {
     "name": "stdout",
     "output_type": "stream",
     "text": [
      "Epoch:\t 31 Val Loss:\t 0.03067595566493708\n",
      "Epoch:\t 0 Val Loss:\t 0.03163662671881527\n",
      "Epoch:\t 1 Val Loss:\t 0.030933196431603926\n",
      "Epoch:\t 2 Val Loss:\t 0.030739556512561623\n",
      "Epoch:\t 3 Val Loss:\t 0.03070572407583093\n",
      "Epoch:\t 4 Val Loss:\t 0.030680116209251554\n",
      "Epoch:\t 5 Val Loss:\t 0.03073210660114275\n",
      "Epoch:\t 6 Val Loss:\t 0.030685801153110807\n",
      "Epoch:\t 7 Val Loss:\t 0.03067854883144785\n",
      "Epoch:\t 8 Val Loss:\t 0.03066466385147623\n",
      "Epoch:\t 9 Val Loss:\t 0.030670847884157512\n",
      "Epoch:\t 10 Val Loss:\t 0.03067943672765324\n",
      "Epoch:\t 11 Val Loss:\t 0.030662990901873126\n",
      "Epoch:\t 12 Val Loss:\t 0.030690096508421798\n",
      "Epoch:\t 13 Val Loss:\t 0.030704372781295248\n",
      "Epoch:\t 14 Val Loss:\t 0.030700178557010585\n",
      "Epoch:\t 15 Val Loss:\t 0.030690064579069185\n",
      "Epoch:\t 16 Val Loss:\t 0.03066912226366968\n",
      "Epoch:\t 17 Val Loss:\t 0.030661740234986534\n",
      "Epoch:\t 18 Val Loss:\t 0.03071273694377999\n",
      "Epoch:\t 19 Val Loss:\t 0.03068472206616459\n",
      "Epoch:\t 20 Val Loss:\t 0.030682889532533855\n",
      "Epoch:\t 21 Val Loss:\t 0.0306833121558142\n",
      "Epoch:\t 22 Val Loss:\t 0.030685896470652833\n",
      "Epoch:\t 23 Val Loss:\t 0.030684592115671136\n",
      "Epoch:\t 24 Val Loss:\t 0.030691505916888656\n",
      "Epoch:\t 25 Val Loss:\t 0.030712433443154538\n",
      "Epoch:\t 26 Val Loss:\t 0.03067756106489978\n"
     ]
    },
    {
     "name": "stderr",
     "output_type": "stream",
     "text": [
      "[I 2025-06-18 14:26:31,021] Trial 22 finished with value: 0.030661740234986534 and parameters: {'lr': 0.0001, 'weight_decay': 0.0001, 'scheduler_factor': 0.1, 'scheduler_patience': 20, 'batch_size': 64, 'dropout': 0.1, 'hidden_dims': 256}. Best is trial 8 with value: 0.03064987406212278.\n"
     ]
    },
    {
     "name": "stdout",
     "output_type": "stream",
     "text": [
      "Epoch:\t 27 Val Loss:\t 0.030662917673181512\n",
      "Epoch:\t 0 Val Loss:\t 0.03160303292023772\n"
     ]
    },
    {
     "name": "stderr",
     "output_type": "stream",
     "text": [
      "[I 2025-06-18 14:26:39,640] Trial 23 pruned. \n"
     ]
    },
    {
     "name": "stdout",
     "output_type": "stream",
     "text": [
      "Epoch:\t 1 Val Loss:\t 0.030958099701496343\n"
     ]
    },
    {
     "name": "stderr",
     "output_type": "stream",
     "text": [
      "[I 2025-06-18 14:26:43,904] Trial 24 pruned. \n"
     ]
    },
    {
     "name": "stdout",
     "output_type": "stream",
     "text": [
      "Epoch:\t 0 Val Loss:\t 0.03173003080147883\n"
     ]
    },
    {
     "name": "stderr",
     "output_type": "stream",
     "text": [
      "[I 2025-06-18 14:26:46,754] Trial 25 pruned. \n"
     ]
    },
    {
     "name": "stdout",
     "output_type": "stream",
     "text": [
      "Epoch:\t 0 Val Loss:\t 0.03781496797109779\n"
     ]
    },
    {
     "name": "stderr",
     "output_type": "stream",
     "text": [
      "[I 2025-06-18 14:26:51,238] Trial 26 pruned. \n"
     ]
    },
    {
     "name": "stdout",
     "output_type": "stream",
     "text": [
      "Epoch:\t 0 Val Loss:\t 0.03203212144189389\n"
     ]
    },
    {
     "name": "stderr",
     "output_type": "stream",
     "text": [
      "[I 2025-06-18 14:26:55,652] Trial 27 pruned. \n"
     ]
    },
    {
     "name": "stdout",
     "output_type": "stream",
     "text": [
      "Epoch:\t 0 Val Loss:\t 0.062157696314640014\n"
     ]
    },
    {
     "name": "stderr",
     "output_type": "stream",
     "text": [
      "[I 2025-06-18 14:26:58,319] Trial 28 pruned. \n"
     ]
    },
    {
     "name": "stdout",
     "output_type": "stream",
     "text": [
      "Epoch:\t 0 Val Loss:\t 0.037936715537721044\n"
     ]
    },
    {
     "name": "stderr",
     "output_type": "stream",
     "text": [
      "[I 2025-06-18 14:27:02,482] Trial 29 pruned. \n"
     ]
    },
    {
     "name": "stdout",
     "output_type": "stream",
     "text": [
      "Epoch:\t 0 Val Loss:\t 0.033648881533966606\n",
      "Epoch:\t 0 Val Loss:\t 0.030767925185707656\n",
      "Epoch:\t 1 Val Loss:\t 0.030761547595638712\n",
      "Epoch:\t 2 Val Loss:\t 0.030773897013029686\n"
     ]
    },
    {
     "name": "stderr",
     "output_type": "stream",
     "text": [
      "[I 2025-06-18 14:28:52,526] Trial 30 pruned. \n"
     ]
    },
    {
     "name": "stdout",
     "output_type": "stream",
     "text": [
      "Epoch:\t 3 Val Loss:\t 0.03077333482055871\n"
     ]
    },
    {
     "name": "stderr",
     "output_type": "stream",
     "text": [
      "[I 2025-06-18 14:28:56,979] Trial 31 pruned. \n"
     ]
    },
    {
     "name": "stdout",
     "output_type": "stream",
     "text": [
      "Epoch:\t 0 Val Loss:\t 0.031743937250414946\n",
      "Epoch:\t 0 Val Loss:\t 0.031613544706604726\n",
      "Epoch:\t 1 Val Loss:\t 0.030940810001866763\n"
     ]
    },
    {
     "name": "stderr",
     "output_type": "stream",
     "text": [
      "[I 2025-06-18 14:29:09,900] Trial 32 pruned. \n"
     ]
    },
    {
     "name": "stdout",
     "output_type": "stream",
     "text": [
      "Epoch:\t 2 Val Loss:\t 0.03083139085139909\n"
     ]
    },
    {
     "name": "stderr",
     "output_type": "stream",
     "text": [
      "[I 2025-06-18 14:29:13,691] Trial 33 pruned. \n"
     ]
    },
    {
     "name": "stdout",
     "output_type": "stream",
     "text": [
      "Epoch:\t 0 Val Loss:\t 0.031732543429125286\n"
     ]
    },
    {
     "name": "stderr",
     "output_type": "stream",
     "text": [
      "[I 2025-06-18 14:29:17,411] Trial 34 pruned. \n"
     ]
    },
    {
     "name": "stdout",
     "output_type": "stream",
     "text": [
      "Epoch:\t 0 Val Loss:\t 0.04790016689428159\n",
      "Epoch:\t 0 Val Loss:\t 0.030962914102867747\n"
     ]
    },
    {
     "name": "stderr",
     "output_type": "stream",
     "text": [
      "[I 2025-06-18 14:29:22,148] Trial 35 pruned. \n"
     ]
    },
    {
     "name": "stdout",
     "output_type": "stream",
     "text": [
      "Epoch:\t 1 Val Loss:\t 0.03098272540895074\n"
     ]
    },
    {
     "name": "stderr",
     "output_type": "stream",
     "text": [
      "[I 2025-06-18 14:29:25,797] Trial 36 pruned. \n"
     ]
    },
    {
     "name": "stdout",
     "output_type": "stream",
     "text": [
      "Epoch:\t 0 Val Loss:\t 0.047206246187281586\n"
     ]
    },
    {
     "name": "stderr",
     "output_type": "stream",
     "text": [
      "[I 2025-06-18 14:29:28,182] Trial 37 pruned. \n"
     ]
    },
    {
     "name": "stdout",
     "output_type": "stream",
     "text": [
      "Epoch:\t 0 Val Loss:\t 0.03379317637933583\n"
     ]
    },
    {
     "name": "stderr",
     "output_type": "stream",
     "text": [
      "[I 2025-06-18 14:29:30,084] Trial 38 pruned. \n"
     ]
    },
    {
     "name": "stdout",
     "output_type": "stream",
     "text": [
      "Epoch:\t 0 Val Loss:\t 0.10733763301008384\n"
     ]
    },
    {
     "name": "stderr",
     "output_type": "stream",
     "text": [
      "[I 2025-06-18 14:29:36,074] Trial 39 pruned. \n"
     ]
    },
    {
     "name": "stdout",
     "output_type": "stream",
     "text": [
      "Epoch:\t 0 Val Loss:\t 0.03649603775021189\n"
     ]
    },
    {
     "name": "stderr",
     "output_type": "stream",
     "text": [
      "[I 2025-06-18 14:29:53,375] Trial 40 pruned. \n"
     ]
    },
    {
     "name": "stdout",
     "output_type": "stream",
     "text": [
      "Epoch:\t 0 Val Loss:\t 0.032646397965044184\n"
     ]
    },
    {
     "name": "stderr",
     "output_type": "stream",
     "text": [
      "[I 2025-06-18 14:29:57,328] Trial 41 pruned. \n"
     ]
    },
    {
     "name": "stdout",
     "output_type": "stream",
     "text": [
      "Epoch:\t 0 Val Loss:\t 0.031731770655443504\n",
      "Epoch:\t 0 Val Loss:\t 0.031546049580312575\n",
      "Epoch:\t 1 Val Loss:\t 0.030932019906060256\n"
     ]
    },
    {
     "name": "stderr",
     "output_type": "stream",
     "text": [
      "[I 2025-06-18 14:30:08,085] Trial 42 pruned. \n"
     ]
    },
    {
     "name": "stdout",
     "output_type": "stream",
     "text": [
      "Epoch:\t 2 Val Loss:\t 0.03080637025278668\n"
     ]
    },
    {
     "name": "stderr",
     "output_type": "stream",
     "text": [
      "[I 2025-06-18 14:30:11,866] Trial 43 pruned. \n"
     ]
    },
    {
     "name": "stdout",
     "output_type": "stream",
     "text": [
      "Epoch:\t 0 Val Loss:\t 0.03166420132656669\n"
     ]
    },
    {
     "name": "stderr",
     "output_type": "stream",
     "text": [
      "[I 2025-06-18 14:30:15,356] Trial 44 pruned. \n"
     ]
    },
    {
     "name": "stdout",
     "output_type": "stream",
     "text": [
      "Epoch:\t 0 Val Loss:\t 0.03175666060002928\n"
     ]
    },
    {
     "name": "stderr",
     "output_type": "stream",
     "text": [
      "[I 2025-06-18 14:30:17,697] Trial 45 pruned. \n"
     ]
    },
    {
     "name": "stdout",
     "output_type": "stream",
     "text": [
      "Epoch:\t 0 Val Loss:\t 0.03724324186280202\n",
      "Epoch:\t 0 Val Loss:\t 0.03081501093816308\n",
      "Epoch:\t 1 Val Loss:\t 0.03080046053829438\n"
     ]
    },
    {
     "name": "stderr",
     "output_type": "stream",
     "text": [
      "[I 2025-06-18 14:30:28,272] Trial 46 pruned. \n"
     ]
    },
    {
     "name": "stdout",
     "output_type": "stream",
     "text": [
      "Epoch:\t 2 Val Loss:\t 0.030809049183127876\n"
     ]
    },
    {
     "name": "stderr",
     "output_type": "stream",
     "text": [
      "[I 2025-06-18 14:30:32,047] Trial 47 pruned. \n"
     ]
    },
    {
     "name": "stdout",
     "output_type": "stream",
     "text": [
      "Epoch:\t 0 Val Loss:\t 0.03215873700140138\n"
     ]
    },
    {
     "name": "stderr",
     "output_type": "stream",
     "text": [
      "[I 2025-06-18 14:30:38,563] Trial 48 pruned. \n"
     ]
    },
    {
     "name": "stdout",
     "output_type": "stream",
     "text": [
      "Epoch:\t 0 Val Loss:\t 0.03271696887133953\n"
     ]
    },
    {
     "name": "stderr",
     "output_type": "stream",
     "text": [
      "[I 2025-06-18 14:30:40,515] Trial 49 pruned. \n"
     ]
    },
    {
     "name": "stdout",
     "output_type": "stream",
     "text": [
      "Epoch:\t 0 Val Loss:\t 0.06055257864703703\n",
      "Training model with best parameters on train+validation ...\n"
     ]
    },
    {
     "name": "stderr",
     "output_type": "stream",
     "text": [
      "100%|███████████████████████████████████████████████████████████████████████████████████████████████████████████████████████████████████████████████████████████████████| 401917/401917 [04:04<00:00, 1645.19it/s]\n",
      "100%|███████████████████████████████████████████████████████████████████████████████████████████████████████████████████████████████████████████████████████████████████| 401917/401917 [01:13<00:00, 5462.53it/s]\n"
     ]
    },
    {
     "name": "stdout",
     "output_type": "stream",
     "text": [
      "Getting test set predictions and saving results ...\n"
     ]
    },
    {
     "name": "stderr",
     "output_type": "stream",
     "text": [
      "100%|████████████████████████████████████████████████████████████████████████████████████████████████████████████████████████████████████████████████████████████████████████| 1223/1223 [00:01<00:00, 793.05it/s]\n"
     ]
    }
   ],
   "source": [
    "train_different_featno(\n",
    "        adata_path=\"./data/feature_number/sciplex_hvg_1000.h5ad\",\n",
    "        run_name=\"decoder_hvg_1000\",\n",
    "        res_savename=\"./results/feature_number/decoder_hvg_1000_res.pkl\",\n",
    "        output_dim=1000\n",
    "    )"
   ]
  },
  {
   "cell_type": "code",
   "execution_count": 11,
   "id": "7fc05b74-0b35-45e5-92d9-74a0f99a9048",
   "metadata": {},
   "outputs": [
    {
     "name": "stdout",
     "output_type": "stream",
     "text": [
      "Loading Datasets ...\n"
     ]
    },
    {
     "name": "stderr",
     "output_type": "stream",
     "text": [
      "100%|███████████████████████████████████████████████████████████████████████████████████████████████████████████████████████████████████████████████████████████████████| 401917/401917 [03:13<00:00, 2081.39it/s]\n",
      "100%|███████████████████████████████████████████████████████████████████████████████████████████████████████████████████████████████████████████████████████████████████| 401917/401917 [01:15<00:00, 5350.65it/s]\n",
      "[I 2025-06-18 14:41:20,674] A new study created in RDB with name: decoder_hvg_2000\n"
     ]
    },
    {
     "name": "stdout",
     "output_type": "stream",
     "text": [
      "Optimizing Hyperparameters with Optuna ...\n",
      "Epoch:\t 0 Val Loss:\t 0.031200055983724793\n",
      "Epoch:\t 1 Val Loss:\t 0.02919446945453532\n",
      "Epoch:\t 2 Val Loss:\t 0.02805446373839918\n",
      "Epoch:\t 3 Val Loss:\t 0.027236182583469066\n",
      "Epoch:\t 4 Val Loss:\t 0.026646534824089102\n",
      "Epoch:\t 5 Val Loss:\t 0.026190136943496825\n",
      "Epoch:\t 6 Val Loss:\t 0.02583915214046812\n",
      "Epoch:\t 7 Val Loss:\t 0.02555655673098411\n",
      "Epoch:\t 8 Val Loss:\t 0.025330141856429282\n",
      "Epoch:\t 9 Val Loss:\t 0.02517057518156344\n",
      "Epoch:\t 10 Val Loss:\t 0.025055411434695005\n",
      "Epoch:\t 11 Val Loss:\t 0.024931794962282164\n",
      "Epoch:\t 12 Val Loss:\t 0.024896186652382534\n",
      "Epoch:\t 13 Val Loss:\t 0.02484126172266171\n",
      "Epoch:\t 14 Val Loss:\t 0.024813485985104574\n",
      "Epoch:\t 15 Val Loss:\t 0.02477832395960106\n",
      "Epoch:\t 16 Val Loss:\t 0.02477706627050238\n",
      "Epoch:\t 17 Val Loss:\t 0.02471697550524104\n",
      "Epoch:\t 18 Val Loss:\t 0.024705889887426103\n",
      "Epoch:\t 19 Val Loss:\t 0.024693116560626182\n",
      "Epoch:\t 20 Val Loss:\t 0.024641885480471255\n",
      "Epoch:\t 21 Val Loss:\t 0.024597794965603187\n",
      "Epoch:\t 22 Val Loss:\t 0.02458413980638139\n",
      "Epoch:\t 23 Val Loss:\t 0.024539611821046418\n",
      "Epoch:\t 24 Val Loss:\t 0.024514762971723635\n",
      "Epoch:\t 25 Val Loss:\t 0.024463525003070433\n",
      "Epoch:\t 26 Val Loss:\t 0.024438872993183747\n",
      "Epoch:\t 27 Val Loss:\t 0.0244071651070736\n",
      "Epoch:\t 28 Val Loss:\t 0.024396888265927376\n",
      "Epoch:\t 29 Val Loss:\t 0.024366626805995096\n",
      "Epoch:\t 30 Val Loss:\t 0.02434839364470104\n",
      "Epoch:\t 31 Val Loss:\t 0.024335111101213273\n",
      "Epoch:\t 32 Val Loss:\t 0.02432001655679166\n",
      "Epoch:\t 33 Val Loss:\t 0.02432473815295899\n",
      "Epoch:\t 34 Val Loss:\t 0.024292483758390618\n",
      "Epoch:\t 35 Val Loss:\t 0.02427125204934546\n",
      "Epoch:\t 36 Val Loss:\t 0.0242584203257798\n",
      "Epoch:\t 37 Val Loss:\t 0.02425918145700213\n",
      "Epoch:\t 38 Val Loss:\t 0.02425453199572969\n",
      "Epoch:\t 39 Val Loss:\t 0.024244419219836378\n",
      "Epoch:\t 40 Val Loss:\t 0.024244194407835245\n",
      "Epoch:\t 41 Val Loss:\t 0.02422386168668205\n",
      "Epoch:\t 42 Val Loss:\t 0.024213723174593804\n",
      "Epoch:\t 43 Val Loss:\t 0.024233720476109756\n",
      "Epoch:\t 44 Val Loss:\t 0.024207757887569514\n",
      "Epoch:\t 45 Val Loss:\t 0.02419076648572188\n",
      "Epoch:\t 46 Val Loss:\t 0.024189042310151204\n",
      "Epoch:\t 47 Val Loss:\t 0.02418659446255736\n",
      "Epoch:\t 48 Val Loss:\t 0.02418273451168503\n",
      "Epoch:\t 49 Val Loss:\t 0.024171595217997915\n",
      "Epoch:\t 50 Val Loss:\t 0.024166254748262908\n",
      "Epoch:\t 51 Val Loss:\t 0.024193151182768623\n",
      "Epoch:\t 52 Val Loss:\t 0.02418672733224127\n",
      "Epoch:\t 53 Val Loss:\t 0.0241782156956856\n",
      "Epoch:\t 54 Val Loss:\t 0.02417494088148229\n",
      "Epoch:\t 55 Val Loss:\t 0.024182734852522182\n",
      "Epoch:\t 56 Val Loss:\t 0.02416453700375117\n",
      "Epoch:\t 57 Val Loss:\t 0.02417318607840454\n",
      "Epoch:\t 58 Val Loss:\t 0.024161901076834046\n",
      "Epoch:\t 59 Val Loss:\t 0.024157190853864384\n",
      "Epoch:\t 60 Val Loss:\t 0.024155889274507618\n",
      "Epoch:\t 61 Val Loss:\t 0.024155193138538738\n",
      "Epoch:\t 62 Val Loss:\t 0.02415875784969062\n",
      "Epoch:\t 63 Val Loss:\t 0.024152472005322886\n",
      "Epoch:\t 64 Val Loss:\t 0.02415001465315612\n",
      "Epoch:\t 65 Val Loss:\t 0.024145669777717673\n",
      "Epoch:\t 66 Val Loss:\t 0.024154281916386817\n",
      "Epoch:\t 67 Val Loss:\t 0.024150115152279793\n",
      "Epoch:\t 68 Val Loss:\t 0.024150992272777505\n",
      "Epoch:\t 69 Val Loss:\t 0.024146255449560824\n",
      "Epoch:\t 70 Val Loss:\t 0.024153171023458576\n",
      "Epoch:\t 71 Val Loss:\t 0.0241498306130521\n",
      "Epoch:\t 72 Val Loss:\t 0.024137326048307397\n",
      "Epoch:\t 73 Val Loss:\t 0.024154106253701266\n",
      "Epoch:\t 74 Val Loss:\t 0.024147583309256055\n",
      "Epoch:\t 75 Val Loss:\t 0.024143607153842766\n",
      "Epoch:\t 76 Val Loss:\t 0.024144492624850755\n",
      "Epoch:\t 77 Val Loss:\t 0.024146195010761963\n",
      "Epoch:\t 78 Val Loss:\t 0.024141054842650986\n",
      "Epoch:\t 79 Val Loss:\t 0.02413720659684408\n",
      "Epoch:\t 80 Val Loss:\t 0.024147672823856003\n",
      "Epoch:\t 81 Val Loss:\t 0.02415422129819998\n",
      "Epoch:\t 82 Val Loss:\t 0.02414555208425652\n",
      "Epoch:\t 83 Val Loss:\t 0.02414058714232035\n",
      "Epoch:\t 84 Val Loss:\t 0.024134061590769893\n",
      "Epoch:\t 85 Val Loss:\t 0.02414555557335265\n",
      "Epoch:\t 86 Val Loss:\t 0.024147036690175247\n",
      "Epoch:\t 87 Val Loss:\t 0.024152396079362107\n",
      "Epoch:\t 88 Val Loss:\t 0.024145820045045445\n",
      "Epoch:\t 89 Val Loss:\t 0.024143281256717244\n",
      "Epoch:\t 90 Val Loss:\t 0.024144711711385658\n",
      "Epoch:\t 91 Val Loss:\t 0.02413759036154081\n",
      "Epoch:\t 92 Val Loss:\t 0.02414436275991544\n",
      "Epoch:\t 93 Val Loss:\t 0.02414387629261273\n"
     ]
    },
    {
     "name": "stderr",
     "output_type": "stream",
     "text": [
      "[I 2025-06-18 14:46:51,708] Trial 0 finished with value: 0.024134061590769893 and parameters: {'lr': 1e-05, 'weight_decay': 0.0001, 'scheduler_factor': 0.5, 'scheduler_patience': 20, 'batch_size': 128, 'dropout': 0.05, 'hidden_dims': 1024}. Best is trial 0 with value: 0.024134061590769893.\n"
     ]
    },
    {
     "name": "stdout",
     "output_type": "stream",
     "text": [
      "Epoch:\t 94 Val Loss:\t 0.024143382987638348\n",
      "Epoch:\t 0 Val Loss:\t 0.09956004964097903\n",
      "Epoch:\t 1 Val Loss:\t 0.08932437079320767\n",
      "Epoch:\t 2 Val Loss:\t 0.07984052507440377\n",
      "Epoch:\t 3 Val Loss:\t 0.07211675952485137\n",
      "Epoch:\t 4 Val Loss:\t 0.06630923854145207\n",
      "Epoch:\t 5 Val Loss:\t 0.06117411150665912\n",
      "Epoch:\t 6 Val Loss:\t 0.05667905314223559\n",
      "Epoch:\t 7 Val Loss:\t 0.05334677083651353\n",
      "Epoch:\t 8 Val Loss:\t 0.051149660344100845\n",
      "Epoch:\t 9 Val Loss:\t 0.048551430620277045\n",
      "Epoch:\t 10 Val Loss:\t 0.04679500096001426\n",
      "Epoch:\t 11 Val Loss:\t 0.0454126259377915\n",
      "Epoch:\t 12 Val Loss:\t 0.04462766119090307\n",
      "Epoch:\t 13 Val Loss:\t 0.04347495226806383\n",
      "Epoch:\t 14 Val Loss:\t 0.04282753893033484\n",
      "Epoch:\t 15 Val Loss:\t 0.042113981745729875\n",
      "Epoch:\t 16 Val Loss:\t 0.04207236059848519\n",
      "Epoch:\t 17 Val Loss:\t 0.041479546924112695\n",
      "Epoch:\t 18 Val Loss:\t 0.041093038544777506\n",
      "Epoch:\t 19 Val Loss:\t 0.04090091358522894\n",
      "Epoch:\t 20 Val Loss:\t 0.04089404509621418\n",
      "Epoch:\t 21 Val Loss:\t 0.04056691944934548\n",
      "Epoch:\t 22 Val Loss:\t 0.0402872809403579\n",
      "Epoch:\t 23 Val Loss:\t 0.03986829782797209\n",
      "Epoch:\t 24 Val Loss:\t 0.040001380925105696\n",
      "Epoch:\t 25 Val Loss:\t 0.040064377740169264\n",
      "Epoch:\t 26 Val Loss:\t 0.03966195469308896\n",
      "Epoch:\t 27 Val Loss:\t 0.0399576940984013\n",
      "Epoch:\t 28 Val Loss:\t 0.039654497332703265\n",
      "Epoch:\t 29 Val Loss:\t 0.03954165032390996\n",
      "Epoch:\t 30 Val Loss:\t 0.03994775005283847\n",
      "Epoch:\t 31 Val Loss:\t 0.039738642249460006\n",
      "Epoch:\t 32 Val Loss:\t 0.03937462783176033\n",
      "Epoch:\t 33 Val Loss:\t 0.03974243976966361\n",
      "Epoch:\t 34 Val Loss:\t 0.039674257134892935\n",
      "Epoch:\t 35 Val Loss:\t 0.03992812941599506\n",
      "Epoch:\t 36 Val Loss:\t 0.03986630660640465\n",
      "Epoch:\t 37 Val Loss:\t 0.039938019450837775\n",
      "Epoch:\t 38 Val Loss:\t 0.039508840710020525\n",
      "Epoch:\t 39 Val Loss:\t 0.03975630721670255\n",
      "Epoch:\t 40 Val Loss:\t 0.03980546886658362\n",
      "Epoch:\t 41 Val Loss:\t 0.039618641964588135\n"
     ]
    },
    {
     "name": "stderr",
     "output_type": "stream",
     "text": [
      "[I 2025-06-18 14:48:40,780] Trial 1 finished with value: 0.03937462783176033 and parameters: {'lr': 1e-06, 'weight_decay': 0.001, 'scheduler_factor': 0.1, 'scheduler_patience': 1, 'batch_size': 256, 'dropout': 0.1, 'hidden_dims': 128}. Best is trial 0 with value: 0.024134061590769893.\n"
     ]
    },
    {
     "name": "stdout",
     "output_type": "stream",
     "text": [
      "Epoch:\t 42 Val Loss:\t 0.039582631463885694\n",
      "Epoch:\t 0 Val Loss:\t 0.026546546229669062\n",
      "Epoch:\t 1 Val Loss:\t 0.025386949010832268\n",
      "Epoch:\t 2 Val Loss:\t 0.02493864023247019\n",
      "Epoch:\t 3 Val Loss:\t 0.024739817930771735\n",
      "Epoch:\t 4 Val Loss:\t 0.024587933352712317\n",
      "Epoch:\t 5 Val Loss:\t 0.024434958371135795\n",
      "Epoch:\t 6 Val Loss:\t 0.024432062366583608\n",
      "Epoch:\t 7 Val Loss:\t 0.024371864374908386\n",
      "Epoch:\t 8 Val Loss:\t 0.024307861801574987\n",
      "Epoch:\t 9 Val Loss:\t 0.024249926157574857\n",
      "Epoch:\t 10 Val Loss:\t 0.024229822437587003\n",
      "Epoch:\t 11 Val Loss:\t 0.0242033374919947\n",
      "Epoch:\t 12 Val Loss:\t 0.024200371626680192\n",
      "Epoch:\t 13 Val Loss:\t 0.024236631420153795\n",
      "Epoch:\t 14 Val Loss:\t 0.024169119962225562\n",
      "Epoch:\t 15 Val Loss:\t 0.024180545720533568\n",
      "Epoch:\t 16 Val Loss:\t 0.02416268221349527\n",
      "Epoch:\t 17 Val Loss:\t 0.02418183712738444\n",
      "Epoch:\t 18 Val Loss:\t 0.024165111577854476\n",
      "Epoch:\t 19 Val Loss:\t 0.02414939737149319\n",
      "Epoch:\t 20 Val Loss:\t 0.024152890028384614\n",
      "Epoch:\t 21 Val Loss:\t 0.024151596940637374\n",
      "Epoch:\t 22 Val Loss:\t 0.024144367813284783\n",
      "Epoch:\t 23 Val Loss:\t 0.02415817778070885\n",
      "Epoch:\t 24 Val Loss:\t 0.024171500821864526\n",
      "Epoch:\t 25 Val Loss:\t 0.024155808828041133\n",
      "Epoch:\t 26 Val Loss:\t 0.024137757634966103\n",
      "Epoch:\t 27 Val Loss:\t 0.024179572440673393\n",
      "Epoch:\t 28 Val Loss:\t 0.02415383953292858\n",
      "Epoch:\t 29 Val Loss:\t 0.02414663581010025\n",
      "Epoch:\t 30 Val Loss:\t 0.0241607365849109\n",
      "Epoch:\t 31 Val Loss:\t 0.024160637439642287\n",
      "Epoch:\t 32 Val Loss:\t 0.02416908557755726\n",
      "Epoch:\t 33 Val Loss:\t 0.024167405891670143\n",
      "Epoch:\t 34 Val Loss:\t 0.024177661518829604\n",
      "Epoch:\t 35 Val Loss:\t 0.024178501499764155\n",
      "Epoch:\t 36 Val Loss:\t 0.024135774046076645\n",
      "Epoch:\t 37 Val Loss:\t 0.02415708368940813\n",
      "Epoch:\t 38 Val Loss:\t 0.02415419451331082\n",
      "Epoch:\t 39 Val Loss:\t 0.024139926918679475\n",
      "Epoch:\t 40 Val Loss:\t 0.02415843821869444\n",
      "Epoch:\t 41 Val Loss:\t 0.024139836983633194\n",
      "Epoch:\t 42 Val Loss:\t 0.02416164623814137\n",
      "Epoch:\t 43 Val Loss:\t 0.02417484359758617\n",
      "Epoch:\t 44 Val Loss:\t 0.024153612723693093\n",
      "Epoch:\t 45 Val Loss:\t 0.024151232360970984\n"
     ]
    },
    {
     "name": "stderr",
     "output_type": "stream",
     "text": [
      "[I 2025-06-18 15:06:43,803] Trial 2 finished with value: 0.024135774046076645 and parameters: {'lr': 1e-05, 'weight_decay': 0.0001, 'scheduler_factor': 0.8, 'scheduler_patience': 10, 'batch_size': 16, 'dropout': 0.1, 'hidden_dims': 1024}. Best is trial 0 with value: 0.024134061590769893.\n"
     ]
    },
    {
     "name": "stdout",
     "output_type": "stream",
     "text": [
      "Epoch:\t 46 Val Loss:\t 0.024137755679953757\n",
      "Epoch:\t 0 Val Loss:\t 0.03917419567847942\n",
      "Epoch:\t 1 Val Loss:\t 0.03572903895732674\n",
      "Epoch:\t 2 Val Loss:\t 0.03537324901035361\n",
      "Epoch:\t 3 Val Loss:\t 0.036379805247979145\n",
      "Epoch:\t 4 Val Loss:\t 0.035829426834533454\n",
      "Epoch:\t 5 Val Loss:\t 0.03474934448239504\n",
      "Epoch:\t 6 Val Loss:\t 0.033841462368654665\n",
      "Epoch:\t 7 Val Loss:\t 0.03326499262087981\n",
      "Epoch:\t 8 Val Loss:\t 0.03273986862115921\n",
      "Epoch:\t 9 Val Loss:\t 0.03215810552934167\n",
      "Epoch:\t 10 Val Loss:\t 0.03173631430271163\n",
      "Epoch:\t 11 Val Loss:\t 0.03155715459915794\n",
      "Epoch:\t 12 Val Loss:\t 0.031107451437322655\n",
      "Epoch:\t 13 Val Loss:\t 0.03078923314522317\n",
      "Epoch:\t 14 Val Loss:\t 0.030643925663694692\n",
      "Epoch:\t 15 Val Loss:\t 0.03049415613485686\n",
      "Epoch:\t 16 Val Loss:\t 0.03045535832643509\n",
      "Epoch:\t 17 Val Loss:\t 0.030240652184346482\n",
      "Epoch:\t 18 Val Loss:\t 0.030142265902023607\n",
      "Epoch:\t 19 Val Loss:\t 0.02993857863559792\n",
      "Epoch:\t 20 Val Loss:\t 0.029756638104653052\n",
      "Epoch:\t 21 Val Loss:\t 0.029736744749009416\n",
      "Epoch:\t 22 Val Loss:\t 0.029469726631160334\n",
      "Epoch:\t 23 Val Loss:\t 0.029471552598371\n",
      "Epoch:\t 24 Val Loss:\t 0.02935410341864805\n",
      "Epoch:\t 25 Val Loss:\t 0.029190018389769305\n",
      "Epoch:\t 26 Val Loss:\t 0.029077610677749013\n",
      "Epoch:\t 27 Val Loss:\t 0.028997132638499283\n",
      "Epoch:\t 28 Val Loss:\t 0.028880782239738\n",
      "Epoch:\t 29 Val Loss:\t 0.028821123224889732\n",
      "Epoch:\t 30 Val Loss:\t 0.02869035845616431\n",
      "Epoch:\t 31 Val Loss:\t 0.028662670709168794\n",
      "Epoch:\t 32 Val Loss:\t 0.02850898123463059\n",
      "Epoch:\t 33 Val Loss:\t 0.02842312625989653\n",
      "Epoch:\t 34 Val Loss:\t 0.028386960656552836\n",
      "Epoch:\t 35 Val Loss:\t 0.028263971221504487\n",
      "Epoch:\t 36 Val Loss:\t 0.028246942494316116\n",
      "Epoch:\t 37 Val Loss:\t 0.028102589884946585\n",
      "Epoch:\t 38 Val Loss:\t 0.028047835394452623\n",
      "Epoch:\t 39 Val Loss:\t 0.028070653426398036\n",
      "Epoch:\t 40 Val Loss:\t 0.02787803447059688\n",
      "Epoch:\t 41 Val Loss:\t 0.02783387393310331\n",
      "Epoch:\t 42 Val Loss:\t 0.027749507331627742\n",
      "Epoch:\t 43 Val Loss:\t 0.027587064305302413\n",
      "Epoch:\t 44 Val Loss:\t 0.027562868652619733\n",
      "Epoch:\t 45 Val Loss:\t 0.02753702586462835\n",
      "Epoch:\t 46 Val Loss:\t 0.027495483769002068\n",
      "Epoch:\t 47 Val Loss:\t 0.02744778194779177\n",
      "Epoch:\t 48 Val Loss:\t 0.02739052863198653\n",
      "Epoch:\t 49 Val Loss:\t 0.027347712852420148\n",
      "Epoch:\t 50 Val Loss:\t 0.02725174573887966\n",
      "Epoch:\t 51 Val Loss:\t 0.0272125956150209\n",
      "Epoch:\t 52 Val Loss:\t 0.027208345472046033\n",
      "Epoch:\t 53 Val Loss:\t 0.027125239366264205\n",
      "Epoch:\t 54 Val Loss:\t 0.027050424361200195\n",
      "Epoch:\t 55 Val Loss:\t 0.027084869892602947\n",
      "Epoch:\t 56 Val Loss:\t 0.027010667661857758\n",
      "Epoch:\t 57 Val Loss:\t 0.026999207069779898\n",
      "Epoch:\t 58 Val Loss:\t 0.0269467008578624\n",
      "Epoch:\t 59 Val Loss:\t 0.02690063127678882\n",
      "Epoch:\t 60 Val Loss:\t 0.02686427357543703\n",
      "Epoch:\t 61 Val Loss:\t 0.026878361910629502\n",
      "Epoch:\t 62 Val Loss:\t 0.026862426059039077\n",
      "Epoch:\t 63 Val Loss:\t 0.026764067123461383\n",
      "Epoch:\t 64 Val Loss:\t 0.02671792507291415\n",
      "Epoch:\t 65 Val Loss:\t 0.026684632656610665\n",
      "Epoch:\t 66 Val Loss:\t 0.026679693430757982\n",
      "Epoch:\t 67 Val Loss:\t 0.026665869249791578\n",
      "Epoch:\t 68 Val Loss:\t 0.0266528477790463\n",
      "Epoch:\t 69 Val Loss:\t 0.026622166994875268\n",
      "Epoch:\t 70 Val Loss:\t 0.026616233709444954\n",
      "Epoch:\t 71 Val Loss:\t 0.026479012425689452\n",
      "Epoch:\t 72 Val Loss:\t 0.026569826199023285\n",
      "Epoch:\t 73 Val Loss:\t 0.02655007665635497\n",
      "Epoch:\t 74 Val Loss:\t 0.02648052348009643\n",
      "Epoch:\t 75 Val Loss:\t 0.026469998205398058\n",
      "Epoch:\t 76 Val Loss:\t 0.026467123485119398\n",
      "Epoch:\t 77 Val Loss:\t 0.026431659404248287\n",
      "Epoch:\t 78 Val Loss:\t 0.026419729958632752\n",
      "Epoch:\t 79 Val Loss:\t 0.026428343171187918\n",
      "Epoch:\t 80 Val Loss:\t 0.0264573635898794\n",
      "Epoch:\t 81 Val Loss:\t 0.02636067813615707\n",
      "Epoch:\t 82 Val Loss:\t 0.02635083163091224\n",
      "Epoch:\t 83 Val Loss:\t 0.02636092723350241\n",
      "Epoch:\t 84 Val Loss:\t 0.02633814110010383\n",
      "Epoch:\t 85 Val Loss:\t 0.026322217765967947\n",
      "Epoch:\t 86 Val Loss:\t 0.026300333416346952\n",
      "Epoch:\t 87 Val Loss:\t 0.026272092793148814\n",
      "Epoch:\t 88 Val Loss:\t 0.026312109052991178\n",
      "Epoch:\t 89 Val Loss:\t 0.02628691045872843\n",
      "Epoch:\t 90 Val Loss:\t 0.026279448840012504\n",
      "Epoch:\t 91 Val Loss:\t 0.026243492332062537\n",
      "Epoch:\t 92 Val Loss:\t 0.026198378246026024\n",
      "Epoch:\t 93 Val Loss:\t 0.02616760386842815\n",
      "Epoch:\t 94 Val Loss:\t 0.026209169471714273\n",
      "Epoch:\t 95 Val Loss:\t 0.02614892332835596\n",
      "Epoch:\t 96 Val Loss:\t 0.02611901765611394\n",
      "Epoch:\t 97 Val Loss:\t 0.026140890446554425\n",
      "Epoch:\t 98 Val Loss:\t 0.026072836873328186\n"
     ]
    },
    {
     "name": "stderr",
     "output_type": "stream",
     "text": [
      "[I 2025-06-18 15:10:40,187] Trial 3 finished with value: 0.026048366058246498 and parameters: {'lr': 1e-05, 'weight_decay': 1e-05, 'scheduler_factor': 0.5, 'scheduler_patience': 10, 'batch_size': 256, 'dropout': 0.1, 'hidden_dims': 256}. Best is trial 0 with value: 0.024134061590769893.\n"
     ]
    },
    {
     "name": "stdout",
     "output_type": "stream",
     "text": [
      "Epoch:\t 99 Val Loss:\t 0.026048366058246498\n",
      "Epoch:\t 0 Val Loss:\t 0.026543579240868947\n",
      "Epoch:\t 1 Val Loss:\t 0.02633453868329525\n",
      "Epoch:\t 2 Val Loss:\t 0.02653714734650327\n",
      "Epoch:\t 3 Val Loss:\t 0.026506321044090037\n",
      "Epoch:\t 4 Val Loss:\t 0.026405371164899313\n",
      "Epoch:\t 5 Val Loss:\t 0.026293538099449718\n",
      "Epoch:\t 6 Val Loss:\t 0.026382922343088533\n",
      "Epoch:\t 7 Val Loss:\t 0.026350385335858217\n",
      "Epoch:\t 8 Val Loss:\t 0.026312617240156343\n",
      "Epoch:\t 9 Val Loss:\t 0.026485194438295757\n",
      "Epoch:\t 10 Val Loss:\t 0.02646734533693365\n",
      "Epoch:\t 11 Val Loss:\t 0.02658646097164116\n",
      "Epoch:\t 12 Val Loss:\t 0.026134800603370627\n",
      "Epoch:\t 13 Val Loss:\t 0.026204369854712056\n",
      "Epoch:\t 14 Val Loss:\t 0.026122063934384942\n",
      "Epoch:\t 15 Val Loss:\t 0.02605024639345362\n",
      "Epoch:\t 16 Val Loss:\t 0.02617400657228812\n",
      "Epoch:\t 17 Val Loss:\t 0.026040239944934606\n",
      "Epoch:\t 18 Val Loss:\t 0.026145337217437004\n",
      "Epoch:\t 19 Val Loss:\t 0.026194508260261557\n",
      "Epoch:\t 20 Val Loss:\t 0.026116542792123162\n",
      "Epoch:\t 21 Val Loss:\t 0.02606318160100189\n",
      "Epoch:\t 22 Val Loss:\t 0.026105502621832494\n",
      "Epoch:\t 23 Val Loss:\t 0.026151187785850738\n",
      "Epoch:\t 24 Val Loss:\t 0.02607220657961163\n",
      "Epoch:\t 25 Val Loss:\t 0.026083703104682818\n",
      "Epoch:\t 26 Val Loss:\t 0.02610743782876847\n"
     ]
    },
    {
     "name": "stderr",
     "output_type": "stream",
     "text": [
      "[I 2025-06-18 15:14:35,474] Trial 4 finished with value: 0.026040239944934606 and parameters: {'lr': 0.001, 'weight_decay': 0.001, 'scheduler_factor': 0.1, 'scheduler_patience': 5, 'batch_size': 32, 'dropout': 0.15, 'hidden_dims': 512}. Best is trial 0 with value: 0.024134061590769893.\n"
     ]
    },
    {
     "name": "stdout",
     "output_type": "stream",
     "text": [
      "Epoch:\t 27 Val Loss:\t 0.02608246733033227\n"
     ]
    },
    {
     "name": "stderr",
     "output_type": "stream",
     "text": [
      "[I 2025-06-18 15:14:38,782] Trial 5 pruned. \n"
     ]
    },
    {
     "name": "stdout",
     "output_type": "stream",
     "text": [
      "Epoch:\t 0 Val Loss:\t 0.052498283106863594\n"
     ]
    },
    {
     "name": "stderr",
     "output_type": "stream",
     "text": [
      "[I 2025-06-18 15:14:42,027] Trial 6 pruned. \n"
     ]
    },
    {
     "name": "stdout",
     "output_type": "stream",
     "text": [
      "Epoch:\t 0 Val Loss:\t 0.045185008165493826\n",
      "Epoch:\t 0 Val Loss:\t 0.024381586798341532\n",
      "Epoch:\t 1 Val Loss:\t 0.024370807316508782\n",
      "Epoch:\t 2 Val Loss:\t 0.0243706950265485\n",
      "Epoch:\t 3 Val Loss:\t 0.024367999094753914\n",
      "Epoch:\t 4 Val Loss:\t 0.024398910079320824\n",
      "Epoch:\t 5 Val Loss:\t 0.024381217800537574\n",
      "Epoch:\t 6 Val Loss:\t 0.024376707590602904\n",
      "Epoch:\t 7 Val Loss:\t 0.02436969474617088\n",
      "Epoch:\t 8 Val Loss:\t 0.024382131541436314\n",
      "Epoch:\t 9 Val Loss:\t 0.024366340593982915\n",
      "Epoch:\t 10 Val Loss:\t 0.02438866378927196\n",
      "Epoch:\t 11 Val Loss:\t 0.02437587183766012\n",
      "Epoch:\t 12 Val Loss:\t 0.024375755948924608\n",
      "Epoch:\t 13 Val Loss:\t 0.024364418114297223\n",
      "Epoch:\t 14 Val Loss:\t 0.0243851344211785\n",
      "Epoch:\t 15 Val Loss:\t 0.024368235536861627\n",
      "Epoch:\t 16 Val Loss:\t 0.024367212647233665\n",
      "Epoch:\t 17 Val Loss:\t 0.02438215986868257\n",
      "Epoch:\t 18 Val Loss:\t 0.02438808474697186\n",
      "Epoch:\t 19 Val Loss:\t 0.024382371963543863\n",
      "Epoch:\t 20 Val Loss:\t 0.024394520935722842\n",
      "Epoch:\t 21 Val Loss:\t 0.024396336836539967\n",
      "Epoch:\t 22 Val Loss:\t 0.024370230545508697\n"
     ]
    },
    {
     "name": "stderr",
     "output_type": "stream",
     "text": [
      "[I 2025-06-18 15:22:13,575] Trial 7 finished with value: 0.024364418114297223 and parameters: {'lr': 0.001, 'weight_decay': 1e-06, 'scheduler_factor': 0.5, 'scheduler_patience': 20, 'batch_size': 16, 'dropout': 0.05, 'hidden_dims': 1024}. Best is trial 0 with value: 0.024134061590769893.\n"
     ]
    },
    {
     "name": "stdout",
     "output_type": "stream",
     "text": [
      "Epoch:\t 23 Val Loss:\t 0.024380581377309613\n",
      "Epoch:\t 0 Val Loss:\t 0.0249001663883555\n",
      "Epoch:\t 1 Val Loss:\t 0.02451165150675607\n",
      "Epoch:\t 2 Val Loss:\t 0.02432610438489121\n",
      "Epoch:\t 3 Val Loss:\t 0.024206269706353662\n",
      "Epoch:\t 4 Val Loss:\t 0.0241975204254428\n",
      "Epoch:\t 5 Val Loss:\t 0.02420562720312501\n",
      "Epoch:\t 6 Val Loss:\t 0.024188486081265337\n",
      "Epoch:\t 7 Val Loss:\t 0.024171764589734173\n",
      "Epoch:\t 8 Val Loss:\t 0.024215516405140164\n",
      "Epoch:\t 9 Val Loss:\t 0.024168235467393433\n",
      "Epoch:\t 10 Val Loss:\t 0.02417086807055915\n",
      "Epoch:\t 11 Val Loss:\t 0.024177708288166164\n",
      "Epoch:\t 12 Val Loss:\t 0.02417303944568976\n",
      "Epoch:\t 13 Val Loss:\t 0.024172880072717652\n",
      "Epoch:\t 14 Val Loss:\t 0.024177885343578363\n",
      "Epoch:\t 15 Val Loss:\t 0.024171696753212946\n",
      "Epoch:\t 16 Val Loss:\t 0.024175687660777576\n",
      "Epoch:\t 17 Val Loss:\t 0.02418545117753645\n",
      "Epoch:\t 18 Val Loss:\t 0.024173294321490752\n"
     ]
    },
    {
     "name": "stderr",
     "output_type": "stream",
     "text": [
      "[I 2025-06-18 15:27:10,329] Trial 8 finished with value: 0.024168235467393433 and parameters: {'lr': 0.0001, 'weight_decay': 1e-05, 'scheduler_factor': 0.5, 'scheduler_patience': 20, 'batch_size': 16, 'dropout': 0.1, 'hidden_dims': 128}. Best is trial 0 with value: 0.024134061590769893.\n"
     ]
    },
    {
     "name": "stdout",
     "output_type": "stream",
     "text": [
      "Epoch:\t 19 Val Loss:\t 0.024182215417328304\n"
     ]
    },
    {
     "name": "stderr",
     "output_type": "stream",
     "text": [
      "[I 2025-06-18 15:27:13,098] Trial 9 pruned. \n"
     ]
    },
    {
     "name": "stdout",
     "output_type": "stream",
     "text": [
      "Epoch:\t 0 Val Loss:\t 0.03553451703529488\n",
      "Epoch:\t 0 Val Loss:\t 0.024676524730042258\n",
      "Epoch:\t 1 Val Loss:\t 0.024389055921265192\n",
      "Epoch:\t 2 Val Loss:\t 0.024338637098502713\n",
      "Epoch:\t 3 Val Loss:\t 0.024190188109958374\n",
      "Epoch:\t 4 Val Loss:\t 0.024242972445755646\n",
      "Epoch:\t 5 Val Loss:\t 0.02419242528121569\n",
      "Epoch:\t 6 Val Loss:\t 0.024223803326714585\n",
      "Epoch:\t 7 Val Loss:\t 0.024183688489623135\n",
      "Epoch:\t 8 Val Loss:\t 0.024189606090856727\n",
      "Epoch:\t 9 Val Loss:\t 0.024191647258668587\n",
      "Epoch:\t 10 Val Loss:\t 0.024195093294096262\n",
      "Epoch:\t 11 Val Loss:\t 0.02416417218368342\n",
      "Epoch:\t 12 Val Loss:\t 0.02416911978743606\n",
      "Epoch:\t 13 Val Loss:\t 0.024170186750011244\n",
      "Epoch:\t 14 Val Loss:\t 0.024185784513604286\n",
      "Epoch:\t 15 Val Loss:\t 0.024165086851491865\n",
      "Epoch:\t 16 Val Loss:\t 0.024160417951434348\n",
      "Epoch:\t 17 Val Loss:\t 0.024157701393271218\n",
      "Epoch:\t 18 Val Loss:\t 0.024180198059907988\n",
      "Epoch:\t 19 Val Loss:\t 0.024165213929598296\n",
      "Epoch:\t 20 Val Loss:\t 0.024174776549638514\n",
      "Epoch:\t 21 Val Loss:\t 0.02418205450769176\n",
      "Epoch:\t 22 Val Loss:\t 0.024195774016960107\n",
      "Epoch:\t 23 Val Loss:\t 0.024170150115500475\n",
      "Epoch:\t 24 Val Loss:\t 0.024152300325793654\n",
      "Epoch:\t 25 Val Loss:\t 0.02414347268730617\n",
      "Epoch:\t 26 Val Loss:\t 0.024142173089762162\n",
      "Epoch:\t 27 Val Loss:\t 0.02414856024337417\n",
      "Epoch:\t 28 Val Loss:\t 0.024147098501599018\n",
      "Epoch:\t 29 Val Loss:\t 0.024145583292796504\n",
      "Epoch:\t 30 Val Loss:\t 0.02415061111576144\n",
      "Epoch:\t 31 Val Loss:\t 0.024154446784589133\n",
      "Epoch:\t 32 Val Loss:\t 0.024148435768788588\n",
      "Epoch:\t 33 Val Loss:\t 0.024135922921975327\n",
      "Epoch:\t 34 Val Loss:\t 0.024144930134690944\n",
      "Epoch:\t 35 Val Loss:\t 0.024136756741723348\n",
      "Epoch:\t 36 Val Loss:\t 0.024143185965424075\n",
      "Epoch:\t 37 Val Loss:\t 0.024145783852030013\n",
      "Epoch:\t 38 Val Loss:\t 0.024159890582371255\n",
      "Epoch:\t 39 Val Loss:\t 0.024133128068486786\n",
      "Epoch:\t 40 Val Loss:\t 0.02414447137728967\n",
      "Epoch:\t 41 Val Loss:\t 0.024143128686471758\n",
      "Epoch:\t 42 Val Loss:\t 0.02414533379244967\n",
      "Epoch:\t 43 Val Loss:\t 0.024146729076479852\n",
      "Epoch:\t 44 Val Loss:\t 0.024142833755208953\n",
      "Epoch:\t 45 Val Loss:\t 0.02414471850414561\n",
      "Epoch:\t 46 Val Loss:\t 0.024136517752550466\n",
      "Epoch:\t 47 Val Loss:\t 0.02415371753287344\n",
      "Epoch:\t 48 Val Loss:\t 0.024146005511283875\n"
     ]
    },
    {
     "name": "stderr",
     "output_type": "stream",
     "text": [
      "[I 2025-06-18 15:30:32,544] Trial 10 finished with value: 0.024133128068486786 and parameters: {'lr': 0.0001, 'weight_decay': 0.0001, 'scheduler_factor': 0.3, 'scheduler_patience': 5, 'batch_size': 64, 'dropout': 0.05, 'hidden_dims': 1024}. Best is trial 10 with value: 0.024133128068486786.\n"
     ]
    },
    {
     "name": "stdout",
     "output_type": "stream",
     "text": [
      "Epoch:\t 49 Val Loss:\t 0.02414283573286908\n",
      "Epoch:\t 0 Val Loss:\t 0.02474748265855582\n",
      "Epoch:\t 1 Val Loss:\t 0.024629430940976693\n",
      "Epoch:\t 2 Val Loss:\t 0.02429129429006204\n",
      "Epoch:\t 3 Val Loss:\t 0.024226407848340372\n",
      "Epoch:\t 4 Val Loss:\t 0.024234432280481867\n",
      "Epoch:\t 5 Val Loss:\t 0.024190432401769813\n",
      "Epoch:\t 6 Val Loss:\t 0.02416863872459772\n",
      "Epoch:\t 7 Val Loss:\t 0.02416803140817591\n",
      "Epoch:\t 8 Val Loss:\t 0.024183602325480846\n",
      "Epoch:\t 9 Val Loss:\t 0.024160118776567\n",
      "Epoch:\t 10 Val Loss:\t 0.02416587067706736\n",
      "Epoch:\t 11 Val Loss:\t 0.02417668518882899\n",
      "Epoch:\t 12 Val Loss:\t 0.024174848253261404\n",
      "Epoch:\t 13 Val Loss:\t 0.024156494972795702\n",
      "Epoch:\t 14 Val Loss:\t 0.024183193406907194\n",
      "Epoch:\t 15 Val Loss:\t 0.024171766725689197\n",
      "Epoch:\t 16 Val Loss:\t 0.02417605072289777\n",
      "Epoch:\t 17 Val Loss:\t 0.024176525911010067\n",
      "Epoch:\t 18 Val Loss:\t 0.024179597332201295\n",
      "Epoch:\t 19 Val Loss:\t 0.0241472689000219\n",
      "Epoch:\t 20 Val Loss:\t 0.02415641120156242\n",
      "Epoch:\t 21 Val Loss:\t 0.024164290891089436\n",
      "Epoch:\t 22 Val Loss:\t 0.024194862306679644\n",
      "Epoch:\t 23 Val Loss:\t 0.02418117124494688\n",
      "Epoch:\t 24 Val Loss:\t 0.02418187337254608\n",
      "Epoch:\t 25 Val Loss:\t 0.02416082372427369\n",
      "Epoch:\t 26 Val Loss:\t 0.024140842571113715\n",
      "Epoch:\t 27 Val Loss:\t 0.024155177071439618\n",
      "Epoch:\t 28 Val Loss:\t 0.02414518936948721\n",
      "Epoch:\t 29 Val Loss:\t 0.024158642436851955\n",
      "Epoch:\t 30 Val Loss:\t 0.0241473328707547\n",
      "Epoch:\t 31 Val Loss:\t 0.024155438455671623\n",
      "Epoch:\t 32 Val Loss:\t 0.024139945313884147\n",
      "Epoch:\t 33 Val Loss:\t 0.02413607826389211\n",
      "Epoch:\t 34 Val Loss:\t 0.02414356768370248\n",
      "Epoch:\t 35 Val Loss:\t 0.02413867859718029\n",
      "Epoch:\t 36 Val Loss:\t 0.024144149326391477\n",
      "Epoch:\t 37 Val Loss:\t 0.024135233941932344\n",
      "Epoch:\t 38 Val Loss:\t 0.02414603168988763\n",
      "Epoch:\t 39 Val Loss:\t 0.0241380820518364\n",
      "Epoch:\t 40 Val Loss:\t 0.02413775472070517\n",
      "Epoch:\t 41 Val Loss:\t 0.024139928760689645\n",
      "Epoch:\t 42 Val Loss:\t 0.024144014615472928\n",
      "Epoch:\t 43 Val Loss:\t 0.0241405708803448\n",
      "Epoch:\t 44 Val Loss:\t 0.024152466443269464\n",
      "Epoch:\t 45 Val Loss:\t 0.024164183177322794\n",
      "Epoch:\t 46 Val Loss:\t 0.0241423071912507\n",
      "Epoch:\t 47 Val Loss:\t 0.024134110722096327\n",
      "Epoch:\t 48 Val Loss:\t 0.0241406270927946\n",
      "Epoch:\t 49 Val Loss:\t 0.024133943614296754\n",
      "Epoch:\t 50 Val Loss:\t 0.024146151616153664\n",
      "Epoch:\t 51 Val Loss:\t 0.02413806502065758\n",
      "Epoch:\t 52 Val Loss:\t 0.024139209693027384\n",
      "Epoch:\t 53 Val Loss:\t 0.024134878388814382\n",
      "Epoch:\t 54 Val Loss:\t 0.024143729240909136\n",
      "Epoch:\t 55 Val Loss:\t 0.02413625872537864\n",
      "Epoch:\t 56 Val Loss:\t 0.024147774129448744\n",
      "Epoch:\t 57 Val Loss:\t 0.024145822857044273\n",
      "Epoch:\t 58 Val Loss:\t 0.02413993899851631\n"
     ]
    },
    {
     "name": "stderr",
     "output_type": "stream",
     "text": [
      "[I 2025-06-18 15:35:08,334] Trial 11 finished with value: 0.024133943614296754 and parameters: {'lr': 0.0001, 'weight_decay': 0.0001, 'scheduler_factor': 0.3, 'scheduler_patience': 5, 'batch_size': 64, 'dropout': 0.05, 'hidden_dims': 1024}. Best is trial 10 with value: 0.024133128068486786.\n"
     ]
    },
    {
     "name": "stdout",
     "output_type": "stream",
     "text": [
      "Epoch:\t 59 Val Loss:\t 0.02414317844912063\n",
      "Epoch:\t 0 Val Loss:\t 0.02464167193122023\n",
      "Epoch:\t 1 Val Loss:\t 0.024509712366600846\n",
      "Epoch:\t 2 Val Loss:\t 0.0242957361744539\n",
      "Epoch:\t 3 Val Loss:\t 0.024203111268968323\n",
      "Epoch:\t 4 Val Loss:\t 0.024172421008551607\n",
      "Epoch:\t 5 Val Loss:\t 0.024168025995003478\n",
      "Epoch:\t 6 Val Loss:\t 0.024187321466212285\n",
      "Epoch:\t 7 Val Loss:\t 0.024179070384361883\n",
      "Epoch:\t 8 Val Loss:\t 0.024173693779225625\n",
      "Epoch:\t 9 Val Loss:\t 0.024204815780473597\n",
      "Epoch:\t 10 Val Loss:\t 0.02415894510847335\n",
      "Epoch:\t 11 Val Loss:\t 0.024165606460778255\n",
      "Epoch:\t 12 Val Loss:\t 0.024176912990181373\n",
      "Epoch:\t 13 Val Loss:\t 0.02417242275468808\n",
      "Epoch:\t 14 Val Loss:\t 0.02416707870028405\n",
      "Epoch:\t 15 Val Loss:\t 0.024169028992820665\n",
      "Epoch:\t 16 Val Loss:\t 0.024164349103604876\n",
      "Epoch:\t 17 Val Loss:\t 0.024174955000603494\n",
      "Epoch:\t 18 Val Loss:\t 0.024166233196806792\n",
      "Epoch:\t 19 Val Loss:\t 0.024166019077755587\n",
      "Epoch:\t 20 Val Loss:\t 0.02414751349057354\n",
      "Epoch:\t 21 Val Loss:\t 0.024145563561006268\n",
      "Epoch:\t 22 Val Loss:\t 0.024144803022229395\n",
      "Epoch:\t 23 Val Loss:\t 0.02414139564975845\n",
      "Epoch:\t 24 Val Loss:\t 0.02414664357554081\n",
      "Epoch:\t 25 Val Loss:\t 0.024146871951968074\n",
      "Epoch:\t 26 Val Loss:\t 0.024163119957962317\n",
      "Epoch:\t 27 Val Loss:\t 0.02415398655887977\n",
      "Epoch:\t 28 Val Loss:\t 0.02414727261186889\n",
      "Epoch:\t 29 Val Loss:\t 0.024133243603271872\n",
      "Epoch:\t 30 Val Loss:\t 0.02416860281453194\n",
      "Epoch:\t 31 Val Loss:\t 0.024142909763678132\n",
      "Epoch:\t 32 Val Loss:\t 0.024141052597424176\n",
      "Epoch:\t 33 Val Loss:\t 0.02416756878806384\n",
      "Epoch:\t 34 Val Loss:\t 0.024143120532357988\n",
      "Epoch:\t 35 Val Loss:\t 0.024147574823430374\n",
      "Epoch:\t 36 Val Loss:\t 0.02414158380231144\n",
      "Epoch:\t 37 Val Loss:\t 0.024143751370089478\n",
      "Epoch:\t 38 Val Loss:\t 0.02413892509518811\n"
     ]
    },
    {
     "name": "stderr",
     "output_type": "stream",
     "text": [
      "[I 2025-06-18 15:38:19,519] Trial 12 finished with value: 0.024133243603271872 and parameters: {'lr': 0.0001, 'weight_decay': 0.0001, 'scheduler_factor': 0.3, 'scheduler_patience': 5, 'batch_size': 64, 'dropout': 0.05, 'hidden_dims': 1024}. Best is trial 10 with value: 0.024133128068486786.\n"
     ]
    },
    {
     "name": "stdout",
     "output_type": "stream",
     "text": [
      "Epoch:\t 39 Val Loss:\t 0.024146189221570084\n",
      "Epoch:\t 0 Val Loss:\t 0.024736228075592444\n",
      "Epoch:\t 1 Val Loss:\t 0.024416107180996616\n",
      "Epoch:\t 2 Val Loss:\t 0.02425919892154365\n",
      "Epoch:\t 3 Val Loss:\t 0.02419767862315788\n",
      "Epoch:\t 4 Val Loss:\t 0.024234840095210475\n",
      "Epoch:\t 5 Val Loss:\t 0.024178856694002868\n",
      "Epoch:\t 6 Val Loss:\t 0.024178919686361513\n",
      "Epoch:\t 7 Val Loss:\t 0.024197094099119652\n",
      "Epoch:\t 8 Val Loss:\t 0.024153030218307076\n",
      "Epoch:\t 9 Val Loss:\t 0.024208385909593094\n",
      "Epoch:\t 10 Val Loss:\t 0.024192533386331993\n",
      "Epoch:\t 11 Val Loss:\t 0.02416908322462294\n",
      "Epoch:\t 12 Val Loss:\t 0.024208989878630963\n",
      "Epoch:\t 13 Val Loss:\t 0.024167642645603577\n",
      "Epoch:\t 14 Val Loss:\t 0.024163366656126072\n",
      "Epoch:\t 15 Val Loss:\t 0.024147291298068422\n",
      "Epoch:\t 16 Val Loss:\t 0.024145559302464713\n",
      "Epoch:\t 17 Val Loss:\t 0.0241357339687986\n",
      "Epoch:\t 18 Val Loss:\t 0.024160797544176233\n",
      "Epoch:\t 19 Val Loss:\t 0.024150517825171674\n",
      "Epoch:\t 20 Val Loss:\t 0.024160494074918503\n",
      "Epoch:\t 21 Val Loss:\t 0.024143710598026932\n",
      "Epoch:\t 22 Val Loss:\t 0.024145541800770075\n",
      "Epoch:\t 23 Val Loss:\t 0.024168092044968077\n",
      "Epoch:\t 24 Val Loss:\t 0.0241524113286899\n",
      "Epoch:\t 25 Val Loss:\t 0.024144349358348534\n",
      "Epoch:\t 26 Val Loss:\t 0.024143122536904732\n"
     ]
    },
    {
     "name": "stderr",
     "output_type": "stream",
     "text": [
      "[I 2025-06-18 15:40:38,452] Trial 13 finished with value: 0.0241357339687986 and parameters: {'lr': 0.0001, 'weight_decay': 0.0001, 'scheduler_factor': 0.3, 'scheduler_patience': 5, 'batch_size': 64, 'dropout': 0.05, 'hidden_dims': 1024}. Best is trial 10 with value: 0.024133128068486786.\n"
     ]
    },
    {
     "name": "stdout",
     "output_type": "stream",
     "text": [
      "Epoch:\t 27 Val Loss:\t 0.024147003993642932\n",
      "Epoch:\t 0 Val Loss:\t 0.024512628286049283\n",
      "Epoch:\t 1 Val Loss:\t 0.024375029021773992\n",
      "Epoch:\t 2 Val Loss:\t 0.024265930141712917\n",
      "Epoch:\t 3 Val Loss:\t 0.024186961305026733\n",
      "Epoch:\t 4 Val Loss:\t 0.0241948677616757\n",
      "Epoch:\t 5 Val Loss:\t 0.024169242439706418\n",
      "Epoch:\t 6 Val Loss:\t 0.024177314255031092\n",
      "Epoch:\t 7 Val Loss:\t 0.024191830995841417\n",
      "Epoch:\t 8 Val Loss:\t 0.024211205830371847\n",
      "Epoch:\t 9 Val Loss:\t 0.024189748008882607\n",
      "Epoch:\t 10 Val Loss:\t 0.024194303432475018\n",
      "Epoch:\t 11 Val Loss:\t 0.02417245952512564\n",
      "Epoch:\t 12 Val Loss:\t 0.024157551379385907\n",
      "Epoch:\t 13 Val Loss:\t 0.02416987681452188\n",
      "Epoch:\t 14 Val Loss:\t 0.024161842764439636\n",
      "Epoch:\t 15 Val Loss:\t 0.024169686730613496\n",
      "Epoch:\t 16 Val Loss:\t 0.02415575507248557\n",
      "Epoch:\t 17 Val Loss:\t 0.02415906564566309\n",
      "Epoch:\t 18 Val Loss:\t 0.02414722090740871\n",
      "Epoch:\t 19 Val Loss:\t 0.024151663392268378\n",
      "Epoch:\t 20 Val Loss:\t 0.024146959025774274\n",
      "Epoch:\t 21 Val Loss:\t 0.024154970888421837\n",
      "Epoch:\t 22 Val Loss:\t 0.02416588642067592\n",
      "Epoch:\t 23 Val Loss:\t 0.02416608611953765\n",
      "Epoch:\t 24 Val Loss:\t 0.02414325148811222\n",
      "Epoch:\t 25 Val Loss:\t 0.024159704279020106\n",
      "Epoch:\t 26 Val Loss:\t 0.02414211403928046\n",
      "Epoch:\t 27 Val Loss:\t 0.02415215063604146\n",
      "Epoch:\t 28 Val Loss:\t 0.02414448869376538\n",
      "Epoch:\t 29 Val Loss:\t 0.02414896496763541\n",
      "Epoch:\t 30 Val Loss:\t 0.02416085592697359\n",
      "Epoch:\t 31 Val Loss:\t 0.0241377370203483\n",
      "Epoch:\t 32 Val Loss:\t 0.024159365415023438\n",
      "Epoch:\t 33 Val Loss:\t 0.024137864379270516\n",
      "Epoch:\t 34 Val Loss:\t 0.024142681418618587\n",
      "Epoch:\t 35 Val Loss:\t 0.024147439435865274\n",
      "Epoch:\t 36 Val Loss:\t 0.024142007783365994\n",
      "Epoch:\t 37 Val Loss:\t 0.02414634367025367\n",
      "Epoch:\t 38 Val Loss:\t 0.024138662965599307\n",
      "Epoch:\t 39 Val Loss:\t 0.02414428986125023\n",
      "Epoch:\t 40 Val Loss:\t 0.024137613407628194\n",
      "Epoch:\t 41 Val Loss:\t 0.024146421959604276\n",
      "Epoch:\t 42 Val Loss:\t 0.02414476504040032\n",
      "Epoch:\t 43 Val Loss:\t 0.024140493953249506\n",
      "Epoch:\t 44 Val Loss:\t 0.024137952379171334\n",
      "Epoch:\t 45 Val Loss:\t 0.024140436698196408\n",
      "Epoch:\t 46 Val Loss:\t 0.024145266048628135\n",
      "Epoch:\t 47 Val Loss:\t 0.024146110687252514\n",
      "Epoch:\t 48 Val Loss:\t 0.024143156950282112\n",
      "Epoch:\t 49 Val Loss:\t 0.024139699470117366\n"
     ]
    },
    {
     "name": "stderr",
     "output_type": "stream",
     "text": [
      "[I 2025-06-18 15:44:42,291] Trial 14 finished with value: 0.024137613407628194 and parameters: {'lr': 0.0001, 'weight_decay': 0.0001, 'scheduler_factor': 0.3, 'scheduler_patience': 5, 'batch_size': 64, 'dropout': 0.2, 'hidden_dims': 512}. Best is trial 10 with value: 0.024133128068486786.\n"
     ]
    },
    {
     "name": "stdout",
     "output_type": "stream",
     "text": [
      "Epoch:\t 50 Val Loss:\t 0.024137755025420173\n",
      "Epoch:\t 0 Val Loss:\t 0.024722127950397032\n",
      "Epoch:\t 1 Val Loss:\t 0.024466498769108735\n",
      "Epoch:\t 2 Val Loss:\t 0.024271306742368073\n",
      "Epoch:\t 3 Val Loss:\t 0.02419200366394297\n",
      "Epoch:\t 4 Val Loss:\t 0.02417356296089189\n",
      "Epoch:\t 5 Val Loss:\t 0.024184197710219058\n",
      "Epoch:\t 6 Val Loss:\t 0.024196105442325783\n",
      "Epoch:\t 7 Val Loss:\t 0.0241782188777003\n",
      "Epoch:\t 8 Val Loss:\t 0.024202466297837955\n",
      "Epoch:\t 9 Val Loss:\t 0.024210319610098983\n",
      "Epoch:\t 10 Val Loss:\t 0.024156569353130788\n",
      "Epoch:\t 11 Val Loss:\t 0.02418827464611366\n",
      "Epoch:\t 12 Val Loss:\t 0.02420892712825188\n",
      "Epoch:\t 13 Val Loss:\t 0.02418322433846754\n",
      "Epoch:\t 14 Val Loss:\t 0.024179821232006658\n",
      "Epoch:\t 15 Val Loss:\t 0.024215633245282107\n",
      "Epoch:\t 16 Val Loss:\t 0.02416640290065871\n",
      "Epoch:\t 17 Val Loss:\t 0.024150730195099005\n",
      "Epoch:\t 18 Val Loss:\t 0.02415966335758746\n",
      "Epoch:\t 19 Val Loss:\t 0.024157074969426193\n",
      "Epoch:\t 20 Val Loss:\t 0.02414629910269688\n",
      "Epoch:\t 21 Val Loss:\t 0.024158302461541742\n",
      "Epoch:\t 22 Val Loss:\t 0.024158787993533475\n",
      "Epoch:\t 23 Val Loss:\t 0.024155585255112376\n",
      "Epoch:\t 24 Val Loss:\t 0.024153427626420806\n",
      "Epoch:\t 25 Val Loss:\t 0.02415526329084884\n",
      "Epoch:\t 26 Val Loss:\t 0.024156468719506895\n",
      "Epoch:\t 27 Val Loss:\t 0.02414289362423881\n",
      "Epoch:\t 28 Val Loss:\t 0.02415415298853909\n",
      "Epoch:\t 29 Val Loss:\t 0.024151558928795117\n",
      "Epoch:\t 30 Val Loss:\t 0.02416565864172905\n",
      "Epoch:\t 31 Val Loss:\t 0.024141251355254276\n",
      "Epoch:\t 32 Val Loss:\t 0.024139465020301825\n",
      "Epoch:\t 33 Val Loss:\t 0.024151513311166523\n",
      "Epoch:\t 34 Val Loss:\t 0.02415447366075126\n",
      "Epoch:\t 35 Val Loss:\t 0.024135130845195498\n",
      "Epoch:\t 36 Val Loss:\t 0.024140942380214657\n",
      "Epoch:\t 37 Val Loss:\t 0.024144938548708687\n",
      "Epoch:\t 38 Val Loss:\t 0.024148227091290133\n",
      "Epoch:\t 39 Val Loss:\t 0.02414483398515746\n",
      "Epoch:\t 40 Val Loss:\t 0.024143829427916427\n",
      "Epoch:\t 41 Val Loss:\t 0.024149045101706755\n",
      "Epoch:\t 42 Val Loss:\t 0.024140986587789504\n",
      "Epoch:\t 43 Val Loss:\t 0.02414280494619773\n",
      "Epoch:\t 44 Val Loss:\t 0.024146709154989593\n"
     ]
    },
    {
     "name": "stderr",
     "output_type": "stream",
     "text": [
      "[I 2025-06-18 15:48:30,360] Trial 15 finished with value: 0.024135130845195498 and parameters: {'lr': 0.0001, 'weight_decay': 0.0001, 'scheduler_factor': 0.3, 'scheduler_patience': 5, 'batch_size': 64, 'dropout': 0.15, 'hidden_dims': 1024}. Best is trial 10 with value: 0.024133128068486786.\n"
     ]
    },
    {
     "name": "stdout",
     "output_type": "stream",
     "text": [
      "Epoch:\t 45 Val Loss:\t 0.02414084767658374\n"
     ]
    },
    {
     "name": "stderr",
     "output_type": "stream",
     "text": [
      "[I 2025-06-18 15:48:34,972] Trial 16 pruned. \n"
     ]
    },
    {
     "name": "stdout",
     "output_type": "stream",
     "text": [
      "Epoch:\t 0 Val Loss:\t 0.03537587097337366\n",
      "Epoch:\t 0 Val Loss:\t 0.024553044343027536\n",
      "Epoch:\t 1 Val Loss:\t 0.02425117875432562\n",
      "Epoch:\t 2 Val Loss:\t 0.024177491107586033\n",
      "Epoch:\t 3 Val Loss:\t 0.02418890648067953\n",
      "Epoch:\t 4 Val Loss:\t 0.02418685618131039\n",
      "Epoch:\t 5 Val Loss:\t 0.02419375727300295\n",
      "Epoch:\t 6 Val Loss:\t 0.024183873010646246\n",
      "Epoch:\t 7 Val Loss:\t 0.024198050900009687\n",
      "Epoch:\t 8 Val Loss:\t 0.024189451582102714\n",
      "Epoch:\t 9 Val Loss:\t 0.02417014465407881\n",
      "Epoch:\t 10 Val Loss:\t 0.024151619723092817\n",
      "Epoch:\t 11 Val Loss:\t 0.02414864484437243\n",
      "Epoch:\t 12 Val Loss:\t 0.024146398145683066\n",
      "Epoch:\t 13 Val Loss:\t 0.024132983556730235\n",
      "Epoch:\t 14 Val Loss:\t 0.024165713207755155\n",
      "Epoch:\t 15 Val Loss:\t 0.024159367966329406\n",
      "Epoch:\t 16 Val Loss:\t 0.024143309255535594\n",
      "Epoch:\t 17 Val Loss:\t 0.024155504509567736\n",
      "Epoch:\t 18 Val Loss:\t 0.0241822191075476\n",
      "Epoch:\t 19 Val Loss:\t 0.024150272998174946\n",
      "Epoch:\t 20 Val Loss:\t 0.024146642240663926\n",
      "Epoch:\t 21 Val Loss:\t 0.024158452239208567\n",
      "Epoch:\t 22 Val Loss:\t 0.024153362967088848\n"
     ]
    },
    {
     "name": "stderr",
     "output_type": "stream",
     "text": [
      "[I 2025-06-18 15:51:53,320] Trial 17 finished with value: 0.024132983556730235 and parameters: {'lr': 0.0001, 'weight_decay': 0.0001, 'scheduler_factor': 0.3, 'scheduler_patience': 5, 'batch_size': 32, 'dropout': 0.05, 'hidden_dims': 1024}. Best is trial 17 with value: 0.024132983556730235.\n"
     ]
    },
    {
     "name": "stdout",
     "output_type": "stream",
     "text": [
      "Epoch:\t 23 Val Loss:\t 0.024166246614081108\n"
     ]
    },
    {
     "name": "stderr",
     "output_type": "stream",
     "text": [
      "[I 2025-06-18 15:52:01,255] Trial 18 pruned. \n"
     ]
    },
    {
     "name": "stdout",
     "output_type": "stream",
     "text": [
      "Epoch:\t 0 Val Loss:\t 0.0266510344489304\n",
      "Epoch:\t 0 Val Loss:\t 0.024463319888185404\n",
      "Epoch:\t 1 Val Loss:\t 0.02426256230306291\n",
      "Epoch:\t 2 Val Loss:\t 0.024192547561873296\n",
      "Epoch:\t 3 Val Loss:\t 0.0241959613339158\n",
      "Epoch:\t 4 Val Loss:\t 0.024176464107387767\n",
      "Epoch:\t 5 Val Loss:\t 0.024168873062816437\n",
      "Epoch:\t 6 Val Loss:\t 0.024198555262882507\n",
      "Epoch:\t 7 Val Loss:\t 0.024166477617540795\n",
      "Epoch:\t 8 Val Loss:\t 0.024171492669410363\n",
      "Epoch:\t 9 Val Loss:\t 0.024145435600472477\n",
      "Epoch:\t 10 Val Loss:\t 0.024146937220945266\n",
      "Epoch:\t 11 Val Loss:\t 0.024141249458915843\n",
      "Epoch:\t 12 Val Loss:\t 0.024142676050623577\n",
      "Epoch:\t 13 Val Loss:\t 0.024142048153317046\n",
      "Epoch:\t 14 Val Loss:\t 0.024155287640934477\n",
      "Epoch:\t 15 Val Loss:\t 0.02414407893895864\n",
      "Epoch:\t 16 Val Loss:\t 0.024133167128435117\n",
      "Epoch:\t 17 Val Loss:\t 0.02415076917810048\n",
      "Epoch:\t 18 Val Loss:\t 0.024136353716373682\n",
      "Epoch:\t 19 Val Loss:\t 0.02415526684239238\n",
      "Epoch:\t 20 Val Loss:\t 0.0241613608954814\n",
      "Epoch:\t 21 Val Loss:\t 0.024135015040397167\n",
      "Epoch:\t 22 Val Loss:\t 0.024142985462858705\n",
      "Epoch:\t 23 Val Loss:\t 0.02414623827847068\n",
      "Epoch:\t 24 Val Loss:\t 0.024156396719580423\n",
      "Epoch:\t 25 Val Loss:\t 0.02414492909574437\n"
     ]
    },
    {
     "name": "stderr",
     "output_type": "stream",
     "text": [
      "[I 2025-06-18 15:55:30,506] Trial 19 finished with value: 0.024133167128435117 and parameters: {'lr': 0.0001, 'weight_decay': 0.0001, 'scheduler_factor': 0.1, 'scheduler_patience': 1, 'batch_size': 32, 'dropout': 0.15, 'hidden_dims': 128}. Best is trial 17 with value: 0.024132983556730235.\n"
     ]
    },
    {
     "name": "stdout",
     "output_type": "stream",
     "text": [
      "Epoch:\t 26 Val Loss:\t 0.024138360978561438\n",
      "Epoch:\t 0 Val Loss:\t 0.02435966323546035\n",
      "Epoch:\t 1 Val Loss:\t 0.02433373006527314\n"
     ]
    },
    {
     "name": "stderr",
     "output_type": "stream",
     "text": [
      "[I 2025-06-18 15:55:53,816] Trial 20 pruned. \n"
     ]
    },
    {
     "name": "stdout",
     "output_type": "stream",
     "text": [
      "Epoch:\t 2 Val Loss:\t 0.024435109707838548\n",
      "Epoch:\t 0 Val Loss:\t 0.024564852579711433\n",
      "Epoch:\t 1 Val Loss:\t 0.024246890536082054\n",
      "Epoch:\t 2 Val Loss:\t 0.024177232329436915\n",
      "Epoch:\t 3 Val Loss:\t 0.024197843031050686\n",
      "Epoch:\t 4 Val Loss:\t 0.024183498680934997\n",
      "Epoch:\t 5 Val Loss:\t 0.02414943323524777\n",
      "Epoch:\t 6 Val Loss:\t 0.024142415192582922\n",
      "Epoch:\t 7 Val Loss:\t 0.024156830391896988\n",
      "Epoch:\t 8 Val Loss:\t 0.024155592364081758\n",
      "Epoch:\t 9 Val Loss:\t 0.024149802654518753\n",
      "Epoch:\t 10 Val Loss:\t 0.02413733610379433\n",
      "Epoch:\t 11 Val Loss:\t 0.02414130757867036\n",
      "Epoch:\t 12 Val Loss:\t 0.024146280673618067\n",
      "Epoch:\t 13 Val Loss:\t 0.02414866511920889\n",
      "Epoch:\t 14 Val Loss:\t 0.0241529193324203\n",
      "Epoch:\t 15 Val Loss:\t 0.024144923915799133\n",
      "Epoch:\t 16 Val Loss:\t 0.02416782937384022\n",
      "Epoch:\t 17 Val Loss:\t 0.02414075975606819\n",
      "Epoch:\t 18 Val Loss:\t 0.02415563032770145\n",
      "Epoch:\t 19 Val Loss:\t 0.02414883742844294\n"
     ]
    },
    {
     "name": "stderr",
     "output_type": "stream",
     "text": [
      "[I 2025-06-18 15:58:37,306] Trial 21 finished with value: 0.02413733610379433 and parameters: {'lr': 0.0001, 'weight_decay': 0.0001, 'scheduler_factor': 0.1, 'scheduler_patience': 1, 'batch_size': 32, 'dropout': 0.15, 'hidden_dims': 128}. Best is trial 17 with value: 0.024132983556730235.\n"
     ]
    },
    {
     "name": "stdout",
     "output_type": "stream",
     "text": [
      "Epoch:\t 20 Val Loss:\t 0.02414214170700264\n",
      "Epoch:\t 0 Val Loss:\t 0.024408741549911624\n",
      "Epoch:\t 1 Val Loss:\t 0.024226057818738038\n",
      "Epoch:\t 2 Val Loss:\t 0.024194242824652868\n",
      "Epoch:\t 3 Val Loss:\t 0.024181919137318292\n",
      "Epoch:\t 4 Val Loss:\t 0.024161927136620562\n",
      "Epoch:\t 5 Val Loss:\t 0.024224738879334594\n",
      "Epoch:\t 6 Val Loss:\t 0.024186587287766303\n",
      "Epoch:\t 7 Val Loss:\t 0.024141534884462138\n",
      "Epoch:\t 8 Val Loss:\t 0.024139119138220748\n",
      "Epoch:\t 9 Val Loss:\t 0.024159172048907957\n",
      "Epoch:\t 10 Val Loss:\t 0.02414842580588822\n",
      "Epoch:\t 11 Val Loss:\t 0.02413922667592943\n",
      "Epoch:\t 12 Val Loss:\t 0.024135366205745686\n",
      "Epoch:\t 13 Val Loss:\t 0.02413860329712381\n",
      "Epoch:\t 14 Val Loss:\t 0.024154091880606385\n",
      "Epoch:\t 15 Val Loss:\t 0.02415113716772599\n",
      "Epoch:\t 16 Val Loss:\t 0.024149400990583256\n",
      "Epoch:\t 17 Val Loss:\t 0.02414126654187281\n",
      "Epoch:\t 18 Val Loss:\t 0.02416001467149936\n",
      "Epoch:\t 19 Val Loss:\t 0.024140911170081766\n",
      "Epoch:\t 20 Val Loss:\t 0.02414686692830078\n",
      "Epoch:\t 21 Val Loss:\t 0.02414958154547489\n"
     ]
    },
    {
     "name": "stderr",
     "output_type": "stream",
     "text": [
      "[I 2025-06-18 16:01:35,638] Trial 22 finished with value: 0.024135366205745686 and parameters: {'lr': 0.0001, 'weight_decay': 0.0001, 'scheduler_factor': 0.1, 'scheduler_patience': 1, 'batch_size': 32, 'dropout': 0.15, 'hidden_dims': 128}. Best is trial 17 with value: 0.024132983556730235.\n"
     ]
    },
    {
     "name": "stdout",
     "output_type": "stream",
     "text": [
      "Epoch:\t 22 Val Loss:\t 0.024136785970616317\n",
      "Epoch:\t 0 Val Loss:\t 0.024479998850855295\n",
      "Epoch:\t 1 Val Loss:\t 0.024289934184842692\n",
      "Epoch:\t 2 Val Loss:\t 0.024201291750646187\n",
      "Epoch:\t 3 Val Loss:\t 0.02418633342453676\n",
      "Epoch:\t 4 Val Loss:\t 0.02418282650717215\n",
      "Epoch:\t 5 Val Loss:\t 0.024222183982302286\n",
      "Epoch:\t 6 Val Loss:\t 0.024179363978246528\n",
      "Epoch:\t 7 Val Loss:\t 0.024184254833118233\n",
      "Epoch:\t 8 Val Loss:\t 0.024204221171866318\n",
      "Epoch:\t 9 Val Loss:\t 0.02415726267189564\n",
      "Epoch:\t 10 Val Loss:\t 0.024157758295267284\n",
      "Epoch:\t 11 Val Loss:\t 0.024152216240241078\n",
      "Epoch:\t 12 Val Loss:\t 0.024141731978821492\n",
      "Epoch:\t 13 Val Loss:\t 0.024177761760377933\n",
      "Epoch:\t 14 Val Loss:\t 0.024155916847691746\n",
      "Epoch:\t 15 Val Loss:\t 0.02413684001980062\n",
      "Epoch:\t 16 Val Loss:\t 0.02414664862964877\n",
      "Epoch:\t 17 Val Loss:\t 0.024147364267246996\n",
      "Epoch:\t 18 Val Loss:\t 0.024150814626642123\n",
      "Epoch:\t 19 Val Loss:\t 0.024147785269470517\n",
      "Epoch:\t 20 Val Loss:\t 0.02414651403319322\n",
      "Epoch:\t 21 Val Loss:\t 0.024163626285945487\n",
      "Epoch:\t 22 Val Loss:\t 0.024152870873784375\n",
      "Epoch:\t 23 Val Loss:\t 0.024148560009284583\n",
      "Epoch:\t 24 Val Loss:\t 0.024154340624361333\n",
      "Epoch:\t 25 Val Loss:\t 0.02413253505044208\n",
      "Epoch:\t 26 Val Loss:\t 0.02415498946056158\n",
      "Epoch:\t 27 Val Loss:\t 0.024141281869314715\n",
      "Epoch:\t 28 Val Loss:\t 0.024149139881701413\n",
      "Epoch:\t 29 Val Loss:\t 0.024151822430023808\n",
      "Epoch:\t 30 Val Loss:\t 0.024143417677160852\n",
      "Epoch:\t 31 Val Loss:\t 0.02414692130820725\n",
      "Epoch:\t 32 Val Loss:\t 0.024153644363871796\n",
      "Epoch:\t 33 Val Loss:\t 0.024149385247685628\n",
      "Epoch:\t 34 Val Loss:\t 0.024133236780538705\n"
     ]
    },
    {
     "name": "stderr",
     "output_type": "stream",
     "text": [
      "[I 2025-06-18 16:06:24,932] Trial 23 finished with value: 0.02413253505044208 and parameters: {'lr': 0.0001, 'weight_decay': 0.0001, 'scheduler_factor': 0.1, 'scheduler_patience': 1, 'batch_size': 32, 'dropout': 0.15, 'hidden_dims': 128}. Best is trial 23 with value: 0.02413253505044208.\n"
     ]
    },
    {
     "name": "stdout",
     "output_type": "stream",
     "text": [
      "Epoch:\t 35 Val Loss:\t 0.024144326876438332\n"
     ]
    },
    {
     "name": "stderr",
     "output_type": "stream",
     "text": [
      "[I 2025-06-18 16:06:35,419] Trial 24 pruned. \n"
     ]
    },
    {
     "name": "stdout",
     "output_type": "stream",
     "text": [
      "Epoch:\t 0 Val Loss:\t 0.03960510217220726\n",
      "Epoch:\t 0 Val Loss:\t 0.0244822278092494\n",
      "Epoch:\t 1 Val Loss:\t 0.02425015848428608\n",
      "Epoch:\t 2 Val Loss:\t 0.024192765204306833\n",
      "Epoch:\t 3 Val Loss:\t 0.024181528801176855\n",
      "Epoch:\t 4 Val Loss:\t 0.02417443874096106\n",
      "Epoch:\t 5 Val Loss:\t 0.024206940904408992\n",
      "Epoch:\t 6 Val Loss:\t 0.024178176297841664\n",
      "Epoch:\t 7 Val Loss:\t 0.024151597453471653\n",
      "Epoch:\t 8 Val Loss:\t 0.024172022194416824\n",
      "Epoch:\t 9 Val Loss:\t 0.024210916500620707\n",
      "Epoch:\t 10 Val Loss:\t 0.024177106995441632\n",
      "Epoch:\t 11 Val Loss:\t 0.02415954183548211\n",
      "Epoch:\t 12 Val Loss:\t 0.024162462234258174\n",
      "Epoch:\t 13 Val Loss:\t 0.024157345369234234\n",
      "Epoch:\t 14 Val Loss:\t 0.024153733872743194\n",
      "Epoch:\t 15 Val Loss:\t 0.0241524612407885\n",
      "Epoch:\t 16 Val Loss:\t 0.024152388273624474\n",
      "Epoch:\t 17 Val Loss:\t 0.024144365675448774\n",
      "Epoch:\t 18 Val Loss:\t 0.02414840281360553\n",
      "Epoch:\t 19 Val Loss:\t 0.024141901014055424\n",
      "Epoch:\t 20 Val Loss:\t 0.02417118062707549\n",
      "Epoch:\t 21 Val Loss:\t 0.024165934008473385\n",
      "Epoch:\t 22 Val Loss:\t 0.02415407330081434\n",
      "Epoch:\t 23 Val Loss:\t 0.024155416144785995\n",
      "Epoch:\t 24 Val Loss:\t 0.024155378814988242\n",
      "Epoch:\t 25 Val Loss:\t 0.02415971907792624\n",
      "Epoch:\t 26 Val Loss:\t 0.024149400370945793\n",
      "Epoch:\t 27 Val Loss:\t 0.024135249221178597\n",
      "Epoch:\t 28 Val Loss:\t 0.024170328126492387\n",
      "Epoch:\t 29 Val Loss:\t 0.02415809377706899\n",
      "Epoch:\t 30 Val Loss:\t 0.024146034675678295\n",
      "Epoch:\t 31 Val Loss:\t 0.02414458094011686\n",
      "Epoch:\t 32 Val Loss:\t 0.02413591263826959\n",
      "Epoch:\t 33 Val Loss:\t 0.024136412009328066\n",
      "Epoch:\t 34 Val Loss:\t 0.024146449191492045\n",
      "Epoch:\t 35 Val Loss:\t 0.024140137727773618\n",
      "Epoch:\t 36 Val Loss:\t 0.024131320468812643\n",
      "Epoch:\t 37 Val Loss:\t 0.024130198411374745\n",
      "Epoch:\t 38 Val Loss:\t 0.02416302805434248\n",
      "Epoch:\t 39 Val Loss:\t 0.024145001897547314\n",
      "Epoch:\t 40 Val Loss:\t 0.02413557088805105\n",
      "Epoch:\t 41 Val Loss:\t 0.024146031589809065\n",
      "Epoch:\t 42 Val Loss:\t 0.024154729473372858\n",
      "Epoch:\t 43 Val Loss:\t 0.024154471359654275\n",
      "Epoch:\t 44 Val Loss:\t 0.024145898212098286\n",
      "Epoch:\t 45 Val Loss:\t 0.02414136013773854\n",
      "Epoch:\t 46 Val Loss:\t 0.024135516312921452\n"
     ]
    },
    {
     "name": "stderr",
     "output_type": "stream",
     "text": [
      "[I 2025-06-18 16:13:44,874] Trial 25 finished with value: 0.024130198411374745 and parameters: {'lr': 0.0001, 'weight_decay': 0.0001, 'scheduler_factor': 0.3, 'scheduler_patience': 5, 'batch_size': 32, 'dropout': 0.05, 'hidden_dims': 128}. Best is trial 25 with value: 0.024130198411374745.\n"
     ]
    },
    {
     "name": "stdout",
     "output_type": "stream",
     "text": [
      "Epoch:\t 47 Val Loss:\t 0.024136365193477973\n"
     ]
    },
    {
     "name": "stderr",
     "output_type": "stream",
     "text": [
      "[I 2025-06-18 16:13:52,516] Trial 26 pruned. \n"
     ]
    },
    {
     "name": "stdout",
     "output_type": "stream",
     "text": [
      "Epoch:\t 0 Val Loss:\t 0.02688428138966909\n"
     ]
    },
    {
     "name": "stderr",
     "output_type": "stream",
     "text": [
      "[I 2025-06-18 16:13:59,960] Trial 27 pruned. \n"
     ]
    },
    {
     "name": "stdout",
     "output_type": "stream",
     "text": [
      "Epoch:\t 0 Val Loss:\t 0.02489426741320528\n"
     ]
    },
    {
     "name": "stderr",
     "output_type": "stream",
     "text": [
      "[I 2025-06-18 16:14:07,561] Trial 28 pruned. \n"
     ]
    },
    {
     "name": "stdout",
     "output_type": "stream",
     "text": [
      "Epoch:\t 0 Val Loss:\t 0.025583758737093103\n"
     ]
    },
    {
     "name": "stderr",
     "output_type": "stream",
     "text": [
      "[I 2025-06-18 16:14:09,876] Trial 29 pruned. \n"
     ]
    },
    {
     "name": "stdout",
     "output_type": "stream",
     "text": [
      "Epoch:\t 0 Val Loss:\t 0.0953345335181503\n",
      "Epoch:\t 0 Val Loss:\t 0.024296896248488485\n",
      "Epoch:\t 1 Val Loss:\t 0.02433094730477534\n"
     ]
    },
    {
     "name": "stderr",
     "output_type": "stream",
     "text": [
      "[I 2025-06-18 16:14:32,393] Trial 30 pruned. \n"
     ]
    },
    {
     "name": "stdout",
     "output_type": "stream",
     "text": [
      "Epoch:\t 2 Val Loss:\t 0.024320010757279062\n",
      "Epoch:\t 0 Val Loss:\t 0.024657324172616124\n",
      "Epoch:\t 1 Val Loss:\t 0.02424115157445411\n",
      "Epoch:\t 2 Val Loss:\t 0.024211045495702892\n",
      "Epoch:\t 3 Val Loss:\t 0.024185430608644993\n",
      "Epoch:\t 4 Val Loss:\t 0.024187213814778175\n",
      "Epoch:\t 5 Val Loss:\t 0.024177719299907318\n",
      "Epoch:\t 6 Val Loss:\t 0.024181809161000236\n",
      "Epoch:\t 7 Val Loss:\t 0.024180139784508933\n",
      "Epoch:\t 8 Val Loss:\t 0.024182337330643067\n",
      "Epoch:\t 9 Val Loss:\t 0.024190672870374515\n"
     ]
    },
    {
     "name": "stderr",
     "output_type": "stream",
     "text": [
      "[I 2025-06-18 16:15:58,220] Trial 31 pruned. \n"
     ]
    },
    {
     "name": "stdout",
     "output_type": "stream",
     "text": [
      "Epoch:\t 10 Val Loss:\t 0.024188090766404935\n"
     ]
    },
    {
     "name": "stderr",
     "output_type": "stream",
     "text": [
      "[I 2025-06-18 16:16:00,596] Trial 32 pruned. \n"
     ]
    },
    {
     "name": "stdout",
     "output_type": "stream",
     "text": [
      "Epoch:\t 0 Val Loss:\t 0.025745477910689603\n",
      "Epoch:\t 0 Val Loss:\t 0.02450782207096507\n",
      "Epoch:\t 1 Val Loss:\t 0.024226118111702985\n",
      "Epoch:\t 2 Val Loss:\t 0.024206123505914976\n",
      "Epoch:\t 3 Val Loss:\t 0.024191048541638203\n",
      "Epoch:\t 4 Val Loss:\t 0.02417715700989018\n",
      "Epoch:\t 5 Val Loss:\t 0.024168878344665908\n",
      "Epoch:\t 6 Val Loss:\t 0.024181855843217675\n",
      "Epoch:\t 7 Val Loss:\t 0.024183132546115853\n",
      "Epoch:\t 8 Val Loss:\t 0.024192521126869922\n",
      "Epoch:\t 9 Val Loss:\t 0.024169200153756357\n",
      "Epoch:\t 10 Val Loss:\t 0.024166893611152568\n",
      "Epoch:\t 11 Val Loss:\t 0.02417531226741109\n",
      "Epoch:\t 12 Val Loss:\t 0.02415600278618221\n",
      "Epoch:\t 13 Val Loss:\t 0.02417908232464998\n",
      "Epoch:\t 14 Val Loss:\t 0.024144408419235555\n",
      "Epoch:\t 15 Val Loss:\t 0.024166013281008522\n",
      "Epoch:\t 16 Val Loss:\t 0.024156800376434244\n",
      "Epoch:\t 17 Val Loss:\t 0.02414125388708406\n",
      "Epoch:\t 18 Val Loss:\t 0.024156640547669243\n",
      "Epoch:\t 19 Val Loss:\t 0.024162714636113816\n",
      "Epoch:\t 20 Val Loss:\t 0.02414501131267729\n",
      "Epoch:\t 21 Val Loss:\t 0.024138138165141276\n",
      "Epoch:\t 22 Val Loss:\t 0.02415937788388832\n",
      "Epoch:\t 23 Val Loss:\t 0.02415879425333294\n",
      "Epoch:\t 24 Val Loss:\t 0.024159384102286224\n",
      "Epoch:\t 25 Val Loss:\t 0.024159581194032647\n",
      "Epoch:\t 26 Val Loss:\t 0.024153812799251866\n",
      "Epoch:\t 27 Val Loss:\t 0.02414787640209069\n",
      "Epoch:\t 28 Val Loss:\t 0.02414313328185516\n",
      "Epoch:\t 29 Val Loss:\t 0.024141692491117604\n",
      "Epoch:\t 30 Val Loss:\t 0.024159106882457027\n"
     ]
    },
    {
     "name": "stderr",
     "output_type": "stream",
     "text": [
      "[I 2025-06-18 16:20:08,652] Trial 33 finished with value: 0.024138138165141276 and parameters: {'lr': 0.0001, 'weight_decay': 0.0001, 'scheduler_factor': 0.3, 'scheduler_patience': 5, 'batch_size': 32, 'dropout': 0.05, 'hidden_dims': 1024}. Best is trial 25 with value: 0.024130198411374745.\n"
     ]
    },
    {
     "name": "stdout",
     "output_type": "stream",
     "text": [
      "Epoch:\t 31 Val Loss:\t 0.024145834994892437\n",
      "Epoch:\t 0 Val Loss:\t 0.02426793567625053\n",
      "Epoch:\t 1 Val Loss:\t 0.02420220798524509\n",
      "Epoch:\t 2 Val Loss:\t 0.024233827598063053\n",
      "Epoch:\t 3 Val Loss:\t 0.024190286044356066\n",
      "Epoch:\t 4 Val Loss:\t 0.024181552927144672\n",
      "Epoch:\t 5 Val Loss:\t 0.024173491136578646\n",
      "Epoch:\t 6 Val Loss:\t 0.024181352776761308\n",
      "Epoch:\t 7 Val Loss:\t 0.02419454572124075\n",
      "Epoch:\t 8 Val Loss:\t 0.024172725595953324\n",
      "Epoch:\t 9 Val Loss:\t 0.0241667145301135\n",
      "Epoch:\t 10 Val Loss:\t 0.024179157022848813\n",
      "Epoch:\t 11 Val Loss:\t 0.024196032230001285\n",
      "Epoch:\t 12 Val Loss:\t 0.024186661082372725\n",
      "Epoch:\t 13 Val Loss:\t 0.024181952937934386\n",
      "Epoch:\t 14 Val Loss:\t 0.02416536855701513\n",
      "Epoch:\t 15 Val Loss:\t 0.024205849366383845\n",
      "Epoch:\t 16 Val Loss:\t 0.024133198157302173\n",
      "Epoch:\t 17 Val Loss:\t 0.0241652582724493\n",
      "Epoch:\t 18 Val Loss:\t 0.024156903901046536\n",
      "Epoch:\t 19 Val Loss:\t 0.024147444941884196\n",
      "Epoch:\t 20 Val Loss:\t 0.02414348589372471\n",
      "Epoch:\t 21 Val Loss:\t 0.024153481229753096\n",
      "Epoch:\t 22 Val Loss:\t 0.024151281237959014\n",
      "Epoch:\t 23 Val Loss:\t 0.024152640508201574\n",
      "Epoch:\t 24 Val Loss:\t 0.024136337536353372\n",
      "Epoch:\t 25 Val Loss:\t 0.024148996357912948\n"
     ]
    },
    {
     "name": "stderr",
     "output_type": "stream",
     "text": [
      "[I 2025-06-18 16:28:47,555] Trial 34 finished with value: 0.024133198157302173 and parameters: {'lr': 0.0001, 'weight_decay': 0.0001, 'scheduler_factor': 0.3, 'scheduler_patience': 5, 'batch_size': 16, 'dropout': 0.05, 'hidden_dims': 256}. Best is trial 25 with value: 0.024130198411374745.\n"
     ]
    },
    {
     "name": "stdout",
     "output_type": "stream",
     "text": [
      "Epoch:\t 26 Val Loss:\t 0.02413576140408644\n",
      "Epoch:\t 0 Val Loss:\t 0.02436010054975103\n",
      "Epoch:\t 1 Val Loss:\t 0.024763346514526424\n"
     ]
    },
    {
     "name": "stderr",
     "output_type": "stream",
     "text": [
      "[I 2025-06-18 16:29:00,987] Trial 35 pruned. \n"
     ]
    },
    {
     "name": "stdout",
     "output_type": "stream",
     "text": [
      "Epoch:\t 2 Val Loss:\t 0.025784455233797993\n"
     ]
    },
    {
     "name": "stderr",
     "output_type": "stream",
     "text": [
      "[I 2025-06-18 16:29:03,192] Trial 36 pruned. \n"
     ]
    },
    {
     "name": "stdout",
     "output_type": "stream",
     "text": [
      "Epoch:\t 0 Val Loss:\t 0.0718158122235939\n"
     ]
    },
    {
     "name": "stderr",
     "output_type": "stream",
     "text": [
      "[I 2025-06-18 16:29:05,980] Trial 37 pruned. \n"
     ]
    },
    {
     "name": "stdout",
     "output_type": "stream",
     "text": [
      "Epoch:\t 0 Val Loss:\t 0.04761818815530973\n"
     ]
    },
    {
     "name": "stderr",
     "output_type": "stream",
     "text": [
      "[I 2025-06-18 16:29:13,622] Trial 38 pruned. \n"
     ]
    },
    {
     "name": "stdout",
     "output_type": "stream",
     "text": [
      "Epoch:\t 0 Val Loss:\t 0.026148772589817553\n",
      "Epoch:\t 0 Val Loss:\t 0.02428224241740567\n",
      "Epoch:\t 1 Val Loss:\t 0.024236121475233796\n",
      "Epoch:\t 2 Val Loss:\t 0.024191120270721015\n",
      "Epoch:\t 3 Val Loss:\t 0.02419986311055942\n",
      "Epoch:\t 4 Val Loss:\t 0.02424273202861927\n",
      "Epoch:\t 5 Val Loss:\t 0.024210303719915886\n",
      "Epoch:\t 6 Val Loss:\t 0.024172871055253533\n",
      "Epoch:\t 7 Val Loss:\t 0.024202253600831405\n",
      "Epoch:\t 8 Val Loss:\t 0.024183393249848376\n",
      "Epoch:\t 9 Val Loss:\t 0.02417615735767164\n",
      "Epoch:\t 10 Val Loss:\t 0.02417696931346597\n",
      "Epoch:\t 11 Val Loss:\t 0.024189976562188492\n",
      "Epoch:\t 12 Val Loss:\t 0.024217021321283328\n",
      "Epoch:\t 13 Val Loss:\t 0.02420781782198122\n"
     ]
    },
    {
     "name": "stderr",
     "output_type": "stream",
     "text": [
      "[I 2025-06-18 16:33:55,413] Trial 39 pruned. \n"
     ]
    },
    {
     "name": "stdout",
     "output_type": "stream",
     "text": [
      "Epoch:\t 14 Val Loss:\t 0.024176900491508054\n"
     ]
    },
    {
     "name": "stderr",
     "output_type": "stream",
     "text": [
      "[I 2025-06-18 16:33:58,657] Trial 40 pruned. \n"
     ]
    },
    {
     "name": "stdout",
     "output_type": "stream",
     "text": [
      "Epoch:\t 0 Val Loss:\t 0.03091637631743716\n",
      "Epoch:\t 0 Val Loss:\t 0.024501344682144856\n",
      "Epoch:\t 1 Val Loss:\t 0.024222419230651878\n",
      "Epoch:\t 2 Val Loss:\t 0.02421788289426324\n"
     ]
    },
    {
     "name": "stderr",
     "output_type": "stream",
     "text": [
      "[I 2025-06-18 16:34:28,876] Trial 41 pruned. \n"
     ]
    },
    {
     "name": "stdout",
     "output_type": "stream",
     "text": [
      "Epoch:\t 3 Val Loss:\t 0.02423389881834358\n",
      "Epoch:\t 0 Val Loss:\t 0.024403784797342124\n",
      "Epoch:\t 1 Val Loss:\t 0.024216129701726423\n",
      "Epoch:\t 2 Val Loss:\t 0.0241988297021819\n",
      "Epoch:\t 3 Val Loss:\t 0.024184882863684146\n",
      "Epoch:\t 4 Val Loss:\t 0.024194652882809628\n",
      "Epoch:\t 5 Val Loss:\t 0.02418469728189026\n",
      "Epoch:\t 6 Val Loss:\t 0.02416022901865607\n",
      "Epoch:\t 7 Val Loss:\t 0.0241818759519465\n",
      "Epoch:\t 8 Val Loss:\t 0.02414770331793653\n",
      "Epoch:\t 9 Val Loss:\t 0.024148881013219606\n",
      "Epoch:\t 10 Val Loss:\t 0.02414962267185858\n",
      "Epoch:\t 11 Val Loss:\t 0.02413940342079721\n",
      "Epoch:\t 12 Val Loss:\t 0.0241416873014672\n",
      "Epoch:\t 13 Val Loss:\t 0.02414578599500692\n",
      "Epoch:\t 14 Val Loss:\t 0.02414550850007362\n",
      "Epoch:\t 15 Val Loss:\t 0.024150656125618366\n",
      "Epoch:\t 16 Val Loss:\t 0.024141775219811347\n",
      "Epoch:\t 17 Val Loss:\t 0.024140119295798707\n",
      "Epoch:\t 18 Val Loss:\t 0.02413937020039033\n",
      "Epoch:\t 19 Val Loss:\t 0.024154659115031868\n",
      "Epoch:\t 20 Val Loss:\t 0.02416684561313871\n",
      "Epoch:\t 21 Val Loss:\t 0.024151034662145413\n",
      "Epoch:\t 22 Val Loss:\t 0.02413600330504184\n",
      "Epoch:\t 23 Val Loss:\t 0.024143137108303143\n",
      "Epoch:\t 24 Val Loss:\t 0.02414978720165625\n",
      "Epoch:\t 25 Val Loss:\t 0.024161459349528822\n",
      "Epoch:\t 26 Val Loss:\t 0.024172932098438602\n",
      "Epoch:\t 27 Val Loss:\t 0.02414104191022729\n",
      "Epoch:\t 28 Val Loss:\t 0.02414037683056686\n",
      "Epoch:\t 29 Val Loss:\t 0.024158834514090555\n",
      "Epoch:\t 30 Val Loss:\t 0.024136702244530222\n",
      "Epoch:\t 31 Val Loss:\t 0.02414552051021544\n"
     ]
    },
    {
     "name": "stderr",
     "output_type": "stream",
     "text": [
      "[I 2025-06-18 16:38:32,099] Trial 42 finished with value: 0.02413600330504184 and parameters: {'lr': 0.0001, 'weight_decay': 0.0001, 'scheduler_factor': 0.1, 'scheduler_patience': 1, 'batch_size': 32, 'dropout': 0.15, 'hidden_dims': 128}. Best is trial 25 with value: 0.024130198411374745.\n"
     ]
    },
    {
     "name": "stdout",
     "output_type": "stream",
     "text": [
      "Epoch:\t 32 Val Loss:\t 0.02415255104342778\n",
      "Epoch:\t 0 Val Loss:\t 0.024491913160514498\n",
      "Epoch:\t 1 Val Loss:\t 0.024279503271969143\n",
      "Epoch:\t 2 Val Loss:\t 0.024185737642741394\n",
      "Epoch:\t 3 Val Loss:\t 0.02420447136803655\n",
      "Epoch:\t 4 Val Loss:\t 0.02419044938393848\n",
      "Epoch:\t 5 Val Loss:\t 0.02415713968804341\n",
      "Epoch:\t 6 Val Loss:\t 0.02415984155561678\n",
      "Epoch:\t 7 Val Loss:\t 0.02415459197843242\n",
      "Epoch:\t 8 Val Loss:\t 0.024166898136372437\n",
      "Epoch:\t 9 Val Loss:\t 0.02415751742128141\n",
      "Epoch:\t 10 Val Loss:\t 0.02414459366396159\n",
      "Epoch:\t 11 Val Loss:\t 0.02414289592673819\n",
      "Epoch:\t 12 Val Loss:\t 0.024159491072989297\n",
      "Epoch:\t 13 Val Loss:\t 0.024145865379898008\n",
      "Epoch:\t 14 Val Loss:\t 0.02415147333075563\n",
      "Epoch:\t 15 Val Loss:\t 0.024160515167983714\n",
      "Epoch:\t 16 Val Loss:\t 0.02414347482453248\n",
      "Epoch:\t 17 Val Loss:\t 0.024144287838904797\n",
      "Epoch:\t 18 Val Loss:\t 0.02415040321797431\n",
      "Epoch:\t 19 Val Loss:\t 0.0241368557130526\n",
      "Epoch:\t 20 Val Loss:\t 0.024144159055096592\n",
      "Epoch:\t 21 Val Loss:\t 0.024144559256911637\n",
      "Epoch:\t 22 Val Loss:\t 0.024139906949025833\n",
      "Epoch:\t 23 Val Loss:\t 0.02414758047219627\n",
      "Epoch:\t 24 Val Loss:\t 0.024145165840555767\n",
      "Epoch:\t 25 Val Loss:\t 0.024141219423296216\n",
      "Epoch:\t 26 Val Loss:\t 0.024145041907837013\n",
      "Epoch:\t 27 Val Loss:\t 0.024146508058170996\n",
      "Epoch:\t 28 Val Loss:\t 0.024154973165962643\n"
     ]
    },
    {
     "name": "stderr",
     "output_type": "stream",
     "text": [
      "[I 2025-06-18 16:42:32,056] Trial 43 finished with value: 0.0241368557130526 and parameters: {'lr': 0.0001, 'weight_decay': 0.0001, 'scheduler_factor': 0.1, 'scheduler_patience': 1, 'batch_size': 32, 'dropout': 0.15, 'hidden_dims': 128}. Best is trial 25 with value: 0.024130198411374745.\n"
     ]
    },
    {
     "name": "stdout",
     "output_type": "stream",
     "text": [
      "Epoch:\t 29 Val Loss:\t 0.024144507828495188\n",
      "Epoch:\t 0 Val Loss:\t 0.024407317289683168\n",
      "Epoch:\t 1 Val Loss:\t 0.024238714759419102\n",
      "Epoch:\t 2 Val Loss:\t 0.024212174712566432\n"
     ]
    },
    {
     "name": "stderr",
     "output_type": "stream",
     "text": [
      "[I 2025-06-18 16:43:04,336] Trial 44 pruned. \n"
     ]
    },
    {
     "name": "stdout",
     "output_type": "stream",
     "text": [
      "Epoch:\t 3 Val Loss:\t 0.024204895063816664\n"
     ]
    },
    {
     "name": "stderr",
     "output_type": "stream",
     "text": [
      "[I 2025-06-18 16:43:09,310] Trial 45 pruned. \n"
     ]
    },
    {
     "name": "stdout",
     "output_type": "stream",
     "text": [
      "Epoch:\t 0 Val Loss:\t 0.02560734777071281\n"
     ]
    },
    {
     "name": "stderr",
     "output_type": "stream",
     "text": [
      "[I 2025-06-18 16:43:17,845] Trial 46 pruned. \n"
     ]
    },
    {
     "name": "stdout",
     "output_type": "stream",
     "text": [
      "Epoch:\t 0 Val Loss:\t 0.025443485355329417\n",
      "Epoch:\t 0 Val Loss:\t 0.024273418481781724\n",
      "Epoch:\t 1 Val Loss:\t 0.024195934367796997\n",
      "Epoch:\t 2 Val Loss:\t 0.0242358859364586\n",
      "Epoch:\t 3 Val Loss:\t 0.024204223814577708\n",
      "Epoch:\t 4 Val Loss:\t 0.024173556171854734\n",
      "Epoch:\t 5 Val Loss:\t 0.024214599192914264\n",
      "Epoch:\t 6 Val Loss:\t 0.024189636223406297\n",
      "Epoch:\t 7 Val Loss:\t 0.024196762175668136\n",
      "Epoch:\t 8 Val Loss:\t 0.024197093998194877\n",
      "Epoch:\t 9 Val Loss:\t 0.024225071329153976\n"
     ]
    },
    {
     "name": "stderr",
     "output_type": "stream",
     "text": [
      "[I 2025-06-18 16:47:33,589] Trial 47 pruned. \n"
     ]
    },
    {
     "name": "stdout",
     "output_type": "stream",
     "text": [
      "Epoch:\t 10 Val Loss:\t 0.024209168360444868\n"
     ]
    },
    {
     "name": "stderr",
     "output_type": "stream",
     "text": [
      "[I 2025-06-18 16:47:38,568] Trial 48 pruned. \n"
     ]
    },
    {
     "name": "stdout",
     "output_type": "stream",
     "text": [
      "Epoch:\t 0 Val Loss:\t 0.03589718857572474\n",
      "Epoch:\t 0 Val Loss:\t 0.02437562791626893\n"
     ]
    },
    {
     "name": "stderr",
     "output_type": "stream",
     "text": [
      "[I 2025-06-18 16:47:54,242] Trial 49 pruned. \n"
     ]
    },
    {
     "name": "stdout",
     "output_type": "stream",
     "text": [
      "Epoch:\t 1 Val Loss:\t 0.02441329793754465\n",
      "Training model with best parameters on train+validation ...\n"
     ]
    },
    {
     "name": "stderr",
     "output_type": "stream",
     "text": [
      "100%|███████████████████████████████████████████████████████████████████████████████████████████████████████████████████████████████████████████████████████████████████| 401917/401917 [04:05<00:00, 1638.96it/s]\n",
      "100%|███████████████████████████████████████████████████████████████████████████████████████████████████████████████████████████████████████████████████████████████████| 401917/401917 [01:12<00:00, 5515.02it/s]\n"
     ]
    },
    {
     "name": "stdout",
     "output_type": "stream",
     "text": [
      "Getting test set predictions and saving results ...\n"
     ]
    },
    {
     "name": "stderr",
     "output_type": "stream",
     "text": [
      "100%|████████████████████████████████████████████████████████████████████████████████████████████████████████████████████████████████████████████████████████████████████████| 2446/2446 [00:02<00:00, 997.02it/s]\n"
     ]
    }
   ],
   "source": [
    "train_different_featno(\n",
    "        adata_path=\"./data/feature_number/sciplex_hvg_2000.h5ad\",\n",
    "        run_name=\"decoder_hvg_2000\",\n",
    "        res_savename=\"./results/feature_number/decoder_hvg_2000_res.pkl\",\n",
    "        output_dim=2000\n",
    "    )"
   ]
  },
  {
   "cell_type": "code",
   "execution_count": 12,
   "id": "ba65de8b-494a-4501-b9ff-76b32f67be68",
   "metadata": {},
   "outputs": [
    {
     "name": "stdout",
     "output_type": "stream",
     "text": [
      "Loading Datasets ...\n"
     ]
    },
    {
     "name": "stderr",
     "output_type": "stream",
     "text": [
      "100%|███████████████████████████████████████████████████████████████████████████████████████████████████████████████████████████████████████████████████████████████████| 401917/401917 [03:12<00:00, 2086.12it/s]\n",
      "100%|███████████████████████████████████████████████████████████████████████████████████████████████████████████████████████████████████████████████████████████████████| 401917/401917 [01:13<00:00, 5493.98it/s]\n",
      "[I 2025-06-18 17:03:04,177] A new study created in RDB with name: decoder_hvg_3500\n"
     ]
    },
    {
     "name": "stdout",
     "output_type": "stream",
     "text": [
      "Optimizing Hyperparameters with Optuna ...\n",
      "Epoch:\t 0 Val Loss:\t 0.08928017785478422\n",
      "Epoch:\t 1 Val Loss:\t 0.07008456641923168\n",
      "Epoch:\t 2 Val Loss:\t 0.058969930623924624\n",
      "Epoch:\t 3 Val Loss:\t 0.051902836745824445\n",
      "Epoch:\t 4 Val Loss:\t 0.048127238887400274\n",
      "Epoch:\t 5 Val Loss:\t 0.04560475211229053\n",
      "Epoch:\t 6 Val Loss:\t 0.043999737375076044\n",
      "Epoch:\t 7 Val Loss:\t 0.042644684529342745\n",
      "Epoch:\t 8 Val Loss:\t 0.041615547849807914\n",
      "Epoch:\t 9 Val Loss:\t 0.04046410074234965\n",
      "Epoch:\t 10 Val Loss:\t 0.03940601050017257\n",
      "Epoch:\t 11 Val Loss:\t 0.038705274337229006\n",
      "Epoch:\t 12 Val Loss:\t 0.03779868337339942\n",
      "Epoch:\t 13 Val Loss:\t 0.03715038473726084\n",
      "Epoch:\t 14 Val Loss:\t 0.0366614906202461\n",
      "Epoch:\t 15 Val Loss:\t 0.03588214475861672\n",
      "Epoch:\t 16 Val Loss:\t 0.03531108998993013\n",
      "Epoch:\t 17 Val Loss:\t 0.035138678598817384\n",
      "Epoch:\t 18 Val Loss:\t 0.03446052743998784\n",
      "Epoch:\t 19 Val Loss:\t 0.03435270365629324\n",
      "Epoch:\t 20 Val Loss:\t 0.033902981995926826\n",
      "Epoch:\t 21 Val Loss:\t 0.03394816228679255\n",
      "Epoch:\t 22 Val Loss:\t 0.03332207185674067\n",
      "Epoch:\t 23 Val Loss:\t 0.03289447177079026\n",
      "Epoch:\t 24 Val Loss:\t 0.032744080570631724\n",
      "Epoch:\t 25 Val Loss:\t 0.032459682823063954\n",
      "Epoch:\t 26 Val Loss:\t 0.03227434797420106\n",
      "Epoch:\t 27 Val Loss:\t 0.03185795589014828\n",
      "Epoch:\t 28 Val Loss:\t 0.031886952895590466\n",
      "Epoch:\t 29 Val Loss:\t 0.031680172029957356\n",
      "Epoch:\t 30 Val Loss:\t 0.03149228084327559\n",
      "Epoch:\t 31 Val Loss:\t 0.03132577080641064\n",
      "Epoch:\t 32 Val Loss:\t 0.031243592080956666\n",
      "Epoch:\t 33 Val Loss:\t 0.03122009352482885\n",
      "Epoch:\t 34 Val Loss:\t 0.03103075183348457\n",
      "Epoch:\t 35 Val Loss:\t 0.030948424581871477\n",
      "Epoch:\t 36 Val Loss:\t 0.030980988678245325\n",
      "Epoch:\t 37 Val Loss:\t 0.03072943903935988\n",
      "Epoch:\t 38 Val Loss:\t 0.030900542789348718\n",
      "Epoch:\t 39 Val Loss:\t 0.030926752928121623\n",
      "Epoch:\t 40 Val Loss:\t 0.030844321635752653\n",
      "Epoch:\t 41 Val Loss:\t 0.031043386630528722\n",
      "Epoch:\t 42 Val Loss:\t 0.031111923608788512\n",
      "Epoch:\t 43 Val Loss:\t 0.031121156268783732\n",
      "Epoch:\t 44 Val Loss:\t 0.03127949319797797\n",
      "Epoch:\t 45 Val Loss:\t 0.031108836219933576\n",
      "Epoch:\t 46 Val Loss:\t 0.03133729187608864\n"
     ]
    },
    {
     "name": "stderr",
     "output_type": "stream",
     "text": [
      "[I 2025-06-18 17:06:28,265] Trial 0 finished with value: 0.03072943903935988 and parameters: {'lr': 1e-06, 'weight_decay': 0.0001, 'scheduler_factor': 0.3, 'scheduler_patience': 20, 'batch_size': 64, 'dropout': 0.15, 'hidden_dims': 64}. Best is trial 0 with value: 0.03072943903935988.\n"
     ]
    },
    {
     "name": "stdout",
     "output_type": "stream",
     "text": [
      "Epoch:\t 47 Val Loss:\t 0.031607971257069344\n",
      "Epoch:\t 0 Val Loss:\t 0.023315051627272595\n",
      "Epoch:\t 1 Val Loss:\t 0.023218731685188825\n",
      "Epoch:\t 2 Val Loss:\t 0.023211041970443512\n",
      "Epoch:\t 3 Val Loss:\t 0.023213580437377843\n",
      "Epoch:\t 4 Val Loss:\t 0.023194804789875456\n",
      "Epoch:\t 5 Val Loss:\t 0.02319614840092843\n",
      "Epoch:\t 6 Val Loss:\t 0.02320554158193076\n",
      "Epoch:\t 7 Val Loss:\t 0.023167409948661236\n",
      "Epoch:\t 8 Val Loss:\t 0.023176258894239733\n",
      "Epoch:\t 9 Val Loss:\t 0.02316724518556633\n",
      "Epoch:\t 10 Val Loss:\t 0.023151810176088243\n",
      "Epoch:\t 11 Val Loss:\t 0.023151133880616428\n",
      "Epoch:\t 12 Val Loss:\t 0.0231447102722221\n",
      "Epoch:\t 13 Val Loss:\t 0.02315381380219856\n",
      "Epoch:\t 14 Val Loss:\t 0.023147781455295835\n",
      "Epoch:\t 15 Val Loss:\t 0.023132983496588076\n",
      "Epoch:\t 16 Val Loss:\t 0.02314236360286663\n",
      "Epoch:\t 17 Val Loss:\t 0.02314427287610834\n",
      "Epoch:\t 18 Val Loss:\t 0.023130646109476478\n",
      "Epoch:\t 19 Val Loss:\t 0.023129715573393512\n",
      "Epoch:\t 20 Val Loss:\t 0.023128480434358\n",
      "Epoch:\t 21 Val Loss:\t 0.023105493296900828\n",
      "Epoch:\t 22 Val Loss:\t 0.023115704941725684\n",
      "Epoch:\t 23 Val Loss:\t 0.02312023271405267\n",
      "Epoch:\t 24 Val Loss:\t 0.02312777576695583\n",
      "Epoch:\t 25 Val Loss:\t 0.023113984537715904\n",
      "Epoch:\t 26 Val Loss:\t 0.023101982143978197\n",
      "Epoch:\t 27 Val Loss:\t 0.023104912524516574\n",
      "Epoch:\t 28 Val Loss:\t 0.02309981210676128\n",
      "Epoch:\t 29 Val Loss:\t 0.02309401096899309\n",
      "Epoch:\t 30 Val Loss:\t 0.023096950832970874\n",
      "Epoch:\t 31 Val Loss:\t 0.023098571705659907\n",
      "Epoch:\t 32 Val Loss:\t 0.023093914084569487\n",
      "Epoch:\t 33 Val Loss:\t 0.023087523631258815\n",
      "Epoch:\t 34 Val Loss:\t 0.023094334639235586\n",
      "Epoch:\t 35 Val Loss:\t 0.02309324351066578\n",
      "Epoch:\t 36 Val Loss:\t 0.023081993879769034\n",
      "Epoch:\t 37 Val Loss:\t 0.0230924039877548\n",
      "Epoch:\t 38 Val Loss:\t 0.023095146723405152\n",
      "Epoch:\t 39 Val Loss:\t 0.023081521957530406\n",
      "Epoch:\t 40 Val Loss:\t 0.0230871140034888\n",
      "Epoch:\t 41 Val Loss:\t 0.023086068258883957\n",
      "Epoch:\t 42 Val Loss:\t 0.02309035651968094\n",
      "Epoch:\t 43 Val Loss:\t 0.023084600367592665\n",
      "Epoch:\t 44 Val Loss:\t 0.02308688091192551\n",
      "Epoch:\t 45 Val Loss:\t 0.023092528867100427\n",
      "Epoch:\t 46 Val Loss:\t 0.023082320868431448\n",
      "Epoch:\t 47 Val Loss:\t 0.02308568229155992\n",
      "Epoch:\t 48 Val Loss:\t 0.023089187541129236\n"
     ]
    },
    {
     "name": "stderr",
     "output_type": "stream",
     "text": [
      "[I 2025-06-18 17:13:02,686] Trial 1 finished with value: 0.023081521957530406 and parameters: {'lr': 0.001, 'weight_decay': 1e-05, 'scheduler_factor': 0.8, 'scheduler_patience': 1, 'batch_size': 32, 'dropout': 0.05, 'hidden_dims': 512}. Best is trial 1 with value: 0.023081521957530406.\n"
     ]
    },
    {
     "name": "stdout",
     "output_type": "stream",
     "text": [
      "Epoch:\t 49 Val Loss:\t 0.023087975299937693\n",
      "Epoch:\t 0 Val Loss:\t 0.028320640852596984\n",
      "Epoch:\t 1 Val Loss:\t 0.0275482530810442\n",
      "Epoch:\t 2 Val Loss:\t 0.02606891353174421\n",
      "Epoch:\t 3 Val Loss:\t 0.02537121625551265\n",
      "Epoch:\t 4 Val Loss:\t 0.02475014204979901\n",
      "Epoch:\t 5 Val Loss:\t 0.024514957094547065\n",
      "Epoch:\t 6 Val Loss:\t 0.02447507184873248\n",
      "Epoch:\t 7 Val Loss:\t 0.024458341695775557\n",
      "Epoch:\t 8 Val Loss:\t 0.024436905099695903\n",
      "Epoch:\t 9 Val Loss:\t 0.024385886356665772\n",
      "Epoch:\t 10 Val Loss:\t 0.024238074953006013\n",
      "Epoch:\t 11 Val Loss:\t 0.024066853549606932\n",
      "Epoch:\t 12 Val Loss:\t 0.023799213044752646\n",
      "Epoch:\t 13 Val Loss:\t 0.02366004776437183\n",
      "Epoch:\t 14 Val Loss:\t 0.0236578329894512\n",
      "Epoch:\t 15 Val Loss:\t 0.023643793622061753\n",
      "Epoch:\t 16 Val Loss:\t 0.023647521619484354\n",
      "Epoch:\t 17 Val Loss:\t 0.02364947830725138\n",
      "Epoch:\t 18 Val Loss:\t 0.023636506966216386\n",
      "Epoch:\t 19 Val Loss:\t 0.023641888681092446\n",
      "Epoch:\t 20 Val Loss:\t 0.02362795216645267\n",
      "Epoch:\t 21 Val Loss:\t 0.023636252478579617\n",
      "Epoch:\t 22 Val Loss:\t 0.023626032755545482\n",
      "Epoch:\t 23 Val Loss:\t 0.023627479366023826\n",
      "Epoch:\t 24 Val Loss:\t 0.023620107142296634\n",
      "Epoch:\t 25 Val Loss:\t 0.023615000308326587\n",
      "Epoch:\t 26 Val Loss:\t 0.02359845816274548\n",
      "Epoch:\t 27 Val Loss:\t 0.023591306539689612\n",
      "Epoch:\t 28 Val Loss:\t 0.02357900536160952\n",
      "Epoch:\t 29 Val Loss:\t 0.023567913477443806\n",
      "Epoch:\t 30 Val Loss:\t 0.02356725732924662\n",
      "Epoch:\t 31 Val Loss:\t 0.023560375196805337\n",
      "Epoch:\t 32 Val Loss:\t 0.023539612033790715\n",
      "Epoch:\t 33 Val Loss:\t 0.02355235480251228\n",
      "Epoch:\t 34 Val Loss:\t 0.023540543901383684\n",
      "Epoch:\t 35 Val Loss:\t 0.023538334265207555\n",
      "Epoch:\t 36 Val Loss:\t 0.023539158350928804\n",
      "Epoch:\t 37 Val Loss:\t 0.023542229721017206\n",
      "Epoch:\t 38 Val Loss:\t 0.023544182144464788\n",
      "Epoch:\t 39 Val Loss:\t 0.023497369769253915\n",
      "Epoch:\t 40 Val Loss:\t 0.02350332652041958\n",
      "Epoch:\t 41 Val Loss:\t 0.023503928436295778\n",
      "Epoch:\t 42 Val Loss:\t 0.023508195019659506\n",
      "Epoch:\t 43 Val Loss:\t 0.02351184663066335\n",
      "Epoch:\t 44 Val Loss:\t 0.02350824084312586\n",
      "Epoch:\t 45 Val Loss:\t 0.023513738604987167\n",
      "Epoch:\t 46 Val Loss:\t 0.02351381676421288\n",
      "Epoch:\t 47 Val Loss:\t 0.023511676513065863\n",
      "Epoch:\t 48 Val Loss:\t 0.023508870033876687\n"
     ]
    },
    {
     "name": "stderr",
     "output_type": "stream",
     "text": [
      "[I 2025-06-18 17:15:21,730] Trial 2 finished with value: 0.023497369769253915 and parameters: {'lr': 0.001, 'weight_decay': 1e-06, 'scheduler_factor': 0.1, 'scheduler_patience': 5, 'batch_size': 256, 'dropout': 0.15, 'hidden_dims': 1024}. Best is trial 1 with value: 0.023081521957530406.\n"
     ]
    },
    {
     "name": "stdout",
     "output_type": "stream",
     "text": [
      "Epoch:\t 49 Val Loss:\t 0.023517952543171274\n",
      "Epoch:\t 0 Val Loss:\t 0.024055165163478495\n",
      "Epoch:\t 1 Val Loss:\t 0.02366589758626518\n",
      "Epoch:\t 2 Val Loss:\t 0.023274342422926864\n",
      "Epoch:\t 3 Val Loss:\t 0.023145745598687376\n",
      "Epoch:\t 4 Val Loss:\t 0.023128516647753485\n",
      "Epoch:\t 5 Val Loss:\t 0.023120695695600487\n",
      "Epoch:\t 6 Val Loss:\t 0.023121152823651705\n",
      "Epoch:\t 7 Val Loss:\t 0.02311254402167649\n",
      "Epoch:\t 8 Val Loss:\t 0.02311331218497037\n",
      "Epoch:\t 9 Val Loss:\t 0.023115012491134204\n",
      "Epoch:\t 10 Val Loss:\t 0.023109333336829505\n",
      "Epoch:\t 11 Val Loss:\t 0.02310001454609975\n",
      "Epoch:\t 12 Val Loss:\t 0.023106823005812235\n",
      "Epoch:\t 13 Val Loss:\t 0.0231150896511442\n",
      "Epoch:\t 14 Val Loss:\t 0.02311632143002525\n",
      "Epoch:\t 15 Val Loss:\t 0.0231174293056838\n",
      "Epoch:\t 16 Val Loss:\t 0.023111954866194745\n",
      "Epoch:\t 17 Val Loss:\t 0.02311205206148922\n",
      "Epoch:\t 18 Val Loss:\t 0.02308823667545759\n",
      "Epoch:\t 19 Val Loss:\t 0.02309224955708481\n",
      "Epoch:\t 20 Val Loss:\t 0.02309854663468105\n",
      "Epoch:\t 21 Val Loss:\t 0.023115306416613392\n",
      "Epoch:\t 22 Val Loss:\t 0.023105976259120538\n",
      "Epoch:\t 23 Val Loss:\t 0.023104792602242318\n",
      "Epoch:\t 24 Val Loss:\t 0.02311385827886541\n",
      "Epoch:\t 25 Val Loss:\t 0.023109119202425893\n",
      "Epoch:\t 26 Val Loss:\t 0.02311312799321264\n",
      "Epoch:\t 27 Val Loss:\t 0.023116844409356088\n"
     ]
    },
    {
     "name": "stderr",
     "output_type": "stream",
     "text": [
      "[I 2025-06-18 17:27:14,507] Trial 3 finished with value: 0.02308823667545759 and parameters: {'lr': 0.0001, 'weight_decay': 1e-05, 'scheduler_factor': 0.3, 'scheduler_patience': 5, 'batch_size': 16, 'dropout': 0.2, 'hidden_dims': 128}. Best is trial 1 with value: 0.023081521957530406.\n"
     ]
    },
    {
     "name": "stdout",
     "output_type": "stream",
     "text": [
      "Epoch:\t 28 Val Loss:\t 0.023137625488033695\n",
      "Epoch:\t 0 Val Loss:\t 0.023881578510014243\n",
      "Epoch:\t 1 Val Loss:\t 0.023282247208309976\n",
      "Epoch:\t 2 Val Loss:\t 0.023236711795051636\n",
      "Epoch:\t 3 Val Loss:\t 0.02324205535922923\n",
      "Epoch:\t 4 Val Loss:\t 0.023226569686234474\n",
      "Epoch:\t 5 Val Loss:\t 0.023190126023337507\n",
      "Epoch:\t 6 Val Loss:\t 0.023212719490425734\n",
      "Epoch:\t 7 Val Loss:\t 0.02319237548875866\n",
      "Epoch:\t 8 Val Loss:\t 0.023191215939831773\n",
      "Epoch:\t 9 Val Loss:\t 0.023185807733197082\n",
      "Epoch:\t 10 Val Loss:\t 0.023193809148492246\n",
      "Epoch:\t 11 Val Loss:\t 0.023174254893419448\n",
      "Epoch:\t 12 Val Loss:\t 0.023181495682768415\n",
      "Epoch:\t 13 Val Loss:\t 0.023201514029483734\n",
      "Epoch:\t 14 Val Loss:\t 0.023193757263510032\n",
      "Epoch:\t 15 Val Loss:\t 0.023168661528495685\n",
      "Epoch:\t 16 Val Loss:\t 0.023171209459631057\n",
      "Epoch:\t 17 Val Loss:\t 0.02318998229769126\n",
      "Epoch:\t 18 Val Loss:\t 0.023174897419291744\n",
      "Epoch:\t 19 Val Loss:\t 0.023168416735663843\n",
      "Epoch:\t 20 Val Loss:\t 0.023180116873898246\n",
      "Epoch:\t 21 Val Loss:\t 0.023180358718787687\n",
      "Epoch:\t 22 Val Loss:\t 0.023177916387374098\n",
      "Epoch:\t 23 Val Loss:\t 0.023147715426036674\n",
      "Epoch:\t 24 Val Loss:\t 0.023156965608868516\n",
      "Epoch:\t 25 Val Loss:\t 0.023166930700620907\n",
      "Epoch:\t 26 Val Loss:\t 0.023153323668203232\n",
      "Epoch:\t 27 Val Loss:\t 0.023172506108808288\n",
      "Epoch:\t 28 Val Loss:\t 0.023159299715516272\n",
      "Epoch:\t 29 Val Loss:\t 0.023149080269552924\n",
      "Epoch:\t 30 Val Loss:\t 0.02313467812983029\n",
      "Epoch:\t 31 Val Loss:\t 0.02312915502818687\n",
      "Epoch:\t 32 Val Loss:\t 0.023139237161624106\n",
      "Epoch:\t 33 Val Loss:\t 0.023137335921151872\n",
      "Epoch:\t 34 Val Loss:\t 0.023130439679298318\n",
      "Epoch:\t 35 Val Loss:\t 0.02314056519771751\n",
      "Epoch:\t 36 Val Loss:\t 0.023138809826577837\n",
      "Epoch:\t 37 Val Loss:\t 0.023136462905649007\n",
      "Epoch:\t 38 Val Loss:\t 0.023122036680100818\n",
      "Epoch:\t 39 Val Loss:\t 0.023115813507912246\n",
      "Epoch:\t 40 Val Loss:\t 0.023122516447262625\n",
      "Epoch:\t 41 Val Loss:\t 0.023116036265921056\n",
      "Epoch:\t 42 Val Loss:\t 0.02312557694366139\n",
      "Epoch:\t 43 Val Loss:\t 0.023113091543532107\n",
      "Epoch:\t 44 Val Loss:\t 0.023119367844459525\n",
      "Epoch:\t 45 Val Loss:\t 0.023132696523544875\n",
      "Epoch:\t 46 Val Loss:\t 0.023118435568138838\n",
      "Epoch:\t 47 Val Loss:\t 0.023117501255764623\n",
      "Epoch:\t 48 Val Loss:\t 0.02311400113026365\n",
      "Epoch:\t 49 Val Loss:\t 0.023116360285452435\n",
      "Epoch:\t 50 Val Loss:\t 0.023125025786064794\n",
      "Epoch:\t 51 Val Loss:\t 0.023108781005942037\n",
      "Epoch:\t 52 Val Loss:\t 0.023109667388838902\n",
      "Epoch:\t 53 Val Loss:\t 0.023104205670771018\n",
      "Epoch:\t 54 Val Loss:\t 0.02309374598245081\n",
      "Epoch:\t 55 Val Loss:\t 0.0231015704255282\n",
      "Epoch:\t 56 Val Loss:\t 0.023093204553662105\n",
      "Epoch:\t 57 Val Loss:\t 0.023115403196784887\n",
      "Epoch:\t 58 Val Loss:\t 0.023101183620205277\n",
      "Epoch:\t 59 Val Loss:\t 0.023097827845218667\n",
      "Epoch:\t 60 Val Loss:\t 0.023098286555221913\n",
      "Epoch:\t 61 Val Loss:\t 0.02308076336967907\n",
      "Epoch:\t 62 Val Loss:\t 0.02309152747640449\n",
      "Epoch:\t 63 Val Loss:\t 0.023092653527616688\n",
      "Epoch:\t 64 Val Loss:\t 0.023098295578437098\n",
      "Epoch:\t 65 Val Loss:\t 0.0230983423568416\n",
      "Epoch:\t 66 Val Loss:\t 0.023091733853301304\n",
      "Epoch:\t 67 Val Loss:\t 0.023098428295641227\n",
      "Epoch:\t 68 Val Loss:\t 0.023084202888952403\n",
      "Epoch:\t 69 Val Loss:\t 0.023084251066583118\n",
      "Epoch:\t 70 Val Loss:\t 0.023087374662702387\n"
     ]
    },
    {
     "name": "stderr",
     "output_type": "stream",
     "text": [
      "[I 2025-06-18 17:31:55,077] Trial 4 finished with value: 0.02308076336967907 and parameters: {'lr': 0.001, 'weight_decay': 1e-05, 'scheduler_factor': 0.8, 'scheduler_patience': 5, 'batch_size': 128, 'dropout': 0.15, 'hidden_dims': 256}. Best is trial 4 with value: 0.02308076336967907.\n"
     ]
    },
    {
     "name": "stdout",
     "output_type": "stream",
     "text": [
      "Epoch:\t 71 Val Loss:\t 0.023084056559190703\n"
     ]
    },
    {
     "name": "stderr",
     "output_type": "stream",
     "text": [
      "[I 2025-06-18 17:32:22,298] Trial 5 pruned. \n"
     ]
    },
    {
     "name": "stdout",
     "output_type": "stream",
     "text": [
      "Epoch:\t 0 Val Loss:\t 0.025134092855708164\n"
     ]
    },
    {
     "name": "stderr",
     "output_type": "stream",
     "text": [
      "[I 2025-06-18 17:32:28,515] Trial 6 pruned. \n"
     ]
    },
    {
     "name": "stdout",
     "output_type": "stream",
     "text": [
      "Epoch:\t 0 Val Loss:\t 0.024326356241379438\n"
     ]
    },
    {
     "name": "stderr",
     "output_type": "stream",
     "text": [
      "[I 2025-06-18 17:32:32,736] Trial 7 pruned. \n"
     ]
    },
    {
     "name": "stdout",
     "output_type": "stream",
     "text": [
      "Epoch:\t 0 Val Loss:\t 0.02946550723458274\n"
     ]
    },
    {
     "name": "stderr",
     "output_type": "stream",
     "text": [
      "[I 2025-06-18 17:32:36,649] Trial 8 pruned. \n"
     ]
    },
    {
     "name": "stdout",
     "output_type": "stream",
     "text": [
      "Epoch:\t 0 Val Loss:\t 0.0923678989658195\n"
     ]
    },
    {
     "name": "stderr",
     "output_type": "stream",
     "text": [
      "[I 2025-06-18 17:32:48,640] Trial 9 pruned. \n"
     ]
    },
    {
     "name": "stdout",
     "output_type": "stream",
     "text": [
      "Epoch:\t 0 Val Loss:\t 0.03491760009679503\n",
      "Epoch:\t 0 Val Loss:\t 0.02393200397072883\n",
      "Epoch:\t 1 Val Loss:\t 0.02328543637073442\n",
      "Epoch:\t 2 Val Loss:\t 0.023259247254048074\n",
      "Epoch:\t 3 Val Loss:\t 0.023231905118157162\n"
     ]
    },
    {
     "name": "stderr",
     "output_type": "stream",
     "text": [
      "[I 2025-06-18 17:33:08,242] Trial 10 pruned. \n"
     ]
    },
    {
     "name": "stdout",
     "output_type": "stream",
     "text": [
      "Epoch:\t 4 Val Loss:\t 0.023238819514073875\n",
      "Epoch:\t 0 Val Loss:\t 0.02331845026485667\n",
      "Epoch:\t 1 Val Loss:\t 0.023252562732101682\n",
      "Epoch:\t 2 Val Loss:\t 0.023248094303873115\n",
      "Epoch:\t 3 Val Loss:\t 0.023240258361778423\n",
      "Epoch:\t 4 Val Loss:\t 0.023221749232294326\n"
     ]
    },
    {
     "name": "stderr",
     "output_type": "stream",
     "text": [
      "[I 2025-06-18 17:34:19,444] Trial 11 pruned. \n"
     ]
    },
    {
     "name": "stdout",
     "output_type": "stream",
     "text": [
      "Epoch:\t 5 Val Loss:\t 0.023212629044895062\n",
      "Epoch:\t 0 Val Loss:\t 0.023427650433235275\n",
      "Epoch:\t 1 Val Loss:\t 0.02327716860001933\n",
      "Epoch:\t 2 Val Loss:\t 0.02323385206515899\n",
      "Epoch:\t 3 Val Loss:\t 0.023246208417093107\n"
     ]
    },
    {
     "name": "stderr",
     "output_type": "stream",
     "text": [
      "[I 2025-06-18 17:35:20,427] Trial 12 pruned. \n"
     ]
    },
    {
     "name": "stdout",
     "output_type": "stream",
     "text": [
      "Epoch:\t 4 Val Loss:\t 0.02323115317371183\n"
     ]
    },
    {
     "name": "stderr",
     "output_type": "stream",
     "text": [
      "[I 2025-06-18 17:35:23,982] Trial 13 pruned. \n"
     ]
    },
    {
     "name": "stdout",
     "output_type": "stream",
     "text": [
      "Epoch:\t 0 Val Loss:\t 0.02444960810004515\n",
      "Epoch:\t 0 Val Loss:\t 0.023350585932901246\n",
      "Epoch:\t 1 Val Loss:\t 0.023240209750099508\n",
      "Epoch:\t 2 Val Loss:\t 0.023242575508768192\n",
      "Epoch:\t 3 Val Loss:\t 0.023214956065397224\n",
      "Epoch:\t 4 Val Loss:\t 0.023198304617990235\n"
     ]
    },
    {
     "name": "stderr",
     "output_type": "stream",
     "text": [
      "[I 2025-06-18 17:36:41,122] Trial 14 pruned. \n"
     ]
    },
    {
     "name": "stdout",
     "output_type": "stream",
     "text": [
      "Epoch:\t 5 Val Loss:\t 0.023208492688969046\n"
     ]
    },
    {
     "name": "stderr",
     "output_type": "stream",
     "text": [
      "[I 2025-06-18 17:36:45,686] Trial 15 pruned. \n"
     ]
    },
    {
     "name": "stdout",
     "output_type": "stream",
     "text": [
      "Epoch:\t 0 Val Loss:\t 0.024174702920342524\n",
      "Epoch:\t 0 Val Loss:\t 0.02335201414201207\n",
      "Epoch:\t 1 Val Loss:\t 0.02329939431762827\n"
     ]
    },
    {
     "name": "stderr",
     "output_type": "stream",
     "text": [
      "[I 2025-06-18 17:37:26,518] Trial 16 pruned. \n"
     ]
    },
    {
     "name": "stdout",
     "output_type": "stream",
     "text": [
      "Epoch:\t 2 Val Loss:\t 0.02336244552371975\n"
     ]
    },
    {
     "name": "stderr",
     "output_type": "stream",
     "text": [
      "[I 2025-06-18 17:37:30,545] Trial 17 pruned. \n"
     ]
    },
    {
     "name": "stdout",
     "output_type": "stream",
     "text": [
      "Epoch:\t 0 Val Loss:\t 0.02733773715722331\n"
     ]
    },
    {
     "name": "stderr",
     "output_type": "stream",
     "text": [
      "[I 2025-06-18 17:37:34,224] Trial 18 pruned. \n"
     ]
    },
    {
     "name": "stdout",
     "output_type": "stream",
     "text": [
      "Epoch:\t 0 Val Loss:\t 0.08268034568361914\n",
      "Epoch:\t 0 Val Loss:\t 0.023542373468793194\n",
      "Epoch:\t 1 Val Loss:\t 0.023237601236261743\n",
      "Epoch:\t 2 Val Loss:\t 0.023218294384545007\n",
      "Epoch:\t 3 Val Loss:\t 0.023214718126770298\n",
      "Epoch:\t 4 Val Loss:\t 0.023235602295377203\n"
     ]
    },
    {
     "name": "stderr",
     "output_type": "stream",
     "text": [
      "[I 2025-06-18 17:38:20,492] Trial 19 pruned. \n"
     ]
    },
    {
     "name": "stdout",
     "output_type": "stream",
     "text": [
      "Epoch:\t 5 Val Loss:\t 0.023216646790516406\n",
      "Epoch:\t 0 Val Loss:\t 0.02330808209390063\n",
      "Epoch:\t 1 Val Loss:\t 0.023244069790103003\n",
      "Epoch:\t 2 Val Loss:\t 0.023255426287195756\n"
     ]
    },
    {
     "name": "stderr",
     "output_type": "stream",
     "text": [
      "[I 2025-06-18 17:40:29,670] Trial 20 pruned. \n"
     ]
    },
    {
     "name": "stdout",
     "output_type": "stream",
     "text": [
      "Epoch:\t 3 Val Loss:\t 0.02325888371076028\n"
     ]
    },
    {
     "name": "stderr",
     "output_type": "stream",
     "text": [
      "[I 2025-06-18 17:41:01,989] Trial 21 pruned. \n"
     ]
    },
    {
     "name": "stdout",
     "output_type": "stream",
     "text": [
      "Epoch:\t 0 Val Loss:\t 0.024124794677340286\n"
     ]
    },
    {
     "name": "stderr",
     "output_type": "stream",
     "text": [
      "[I 2025-06-18 17:41:32,353] Trial 22 pruned. \n"
     ]
    },
    {
     "name": "stdout",
     "output_type": "stream",
     "text": [
      "Epoch:\t 0 Val Loss:\t 0.024061795951810874\n",
      "Epoch:\t 0 Val Loss:\t 0.023931542991773802\n",
      "Epoch:\t 1 Val Loss:\t 0.02355449984588686\n",
      "Epoch:\t 2 Val Loss:\t 0.023216797993187197\n",
      "Epoch:\t 3 Val Loss:\t 0.02313591451299224\n",
      "Epoch:\t 4 Val Loss:\t 0.02313320057799148\n",
      "Epoch:\t 5 Val Loss:\t 0.023125733209703365\n",
      "Epoch:\t 6 Val Loss:\t 0.023116121156299026\n",
      "Epoch:\t 7 Val Loss:\t 0.023120662895169543\n",
      "Epoch:\t 8 Val Loss:\t 0.023106081826055166\n",
      "Epoch:\t 9 Val Loss:\t 0.02310539968479727\n",
      "Epoch:\t 10 Val Loss:\t 0.023104409043449684\n",
      "Epoch:\t 11 Val Loss:\t 0.023107386271608684\n",
      "Epoch:\t 12 Val Loss:\t 0.023103493406690927\n",
      "Epoch:\t 13 Val Loss:\t 0.023117532326269428\n",
      "Epoch:\t 14 Val Loss:\t 0.023105041014019008\n",
      "Epoch:\t 15 Val Loss:\t 0.023101790714467833\n",
      "Epoch:\t 16 Val Loss:\t 0.023116519472197346\n",
      "Epoch:\t 17 Val Loss:\t 0.023103307271676678\n",
      "Epoch:\t 18 Val Loss:\t 0.0231072605844864\n",
      "Epoch:\t 19 Val Loss:\t 0.02310224793768525\n",
      "Epoch:\t 20 Val Loss:\t 0.02310309825740132\n",
      "Epoch:\t 21 Val Loss:\t 0.02310324896614386\n",
      "Epoch:\t 22 Val Loss:\t 0.02310249954741952\n",
      "Epoch:\t 23 Val Loss:\t 0.023111230216806923\n",
      "Epoch:\t 24 Val Loss:\t 0.023104412188412752\n"
     ]
    },
    {
     "name": "stderr",
     "output_type": "stream",
     "text": [
      "[I 2025-06-18 17:55:04,014] Trial 23 finished with value: 0.023101790714467833 and parameters: {'lr': 0.0001, 'weight_decay': 1e-05, 'scheduler_factor': 0.8, 'scheduler_patience': 5, 'batch_size': 16, 'dropout': 0.2, 'hidden_dims': 128}. Best is trial 4 with value: 0.02308076336967907.\n"
     ]
    },
    {
     "name": "stdout",
     "output_type": "stream",
     "text": [
      "Epoch:\t 25 Val Loss:\t 0.023102566602644894\n"
     ]
    },
    {
     "name": "stderr",
     "output_type": "stream",
     "text": [
      "[I 2025-06-18 17:55:20,806] Trial 24 pruned. \n"
     ]
    },
    {
     "name": "stdout",
     "output_type": "stream",
     "text": [
      "Epoch:\t 0 Val Loss:\t 0.02406115977788104\n"
     ]
    },
    {
     "name": "stderr",
     "output_type": "stream",
     "text": [
      "[I 2025-06-18 17:55:24,580] Trial 25 pruned. \n"
     ]
    },
    {
     "name": "stdout",
     "output_type": "stream",
     "text": [
      "Epoch:\t 0 Val Loss:\t 0.02601769096838433\n"
     ]
    },
    {
     "name": "stderr",
     "output_type": "stream",
     "text": [
      "[I 2025-06-18 17:55:32,588] Trial 26 pruned. \n"
     ]
    },
    {
     "name": "stdout",
     "output_type": "stream",
     "text": [
      "Epoch:\t 0 Val Loss:\t 0.052241173625470164\n"
     ]
    },
    {
     "name": "stderr",
     "output_type": "stream",
     "text": [
      "[I 2025-06-18 17:55:49,441] Trial 27 pruned. \n"
     ]
    },
    {
     "name": "stdout",
     "output_type": "stream",
     "text": [
      "Epoch:\t 0 Val Loss:\t 0.03131674923841675\n",
      "Epoch:\t 0 Val Loss:\t 0.023382382338235756\n",
      "Epoch:\t 1 Val Loss:\t 0.023324923271048285\n"
     ]
    },
    {
     "name": "stderr",
     "output_type": "stream",
     "text": [
      "[I 2025-06-18 17:56:14,597] Trial 28 pruned. \n"
     ]
    },
    {
     "name": "stdout",
     "output_type": "stream",
     "text": [
      "Epoch:\t 2 Val Loss:\t 0.023383916412034113\n"
     ]
    },
    {
     "name": "stderr",
     "output_type": "stream",
     "text": [
      "[I 2025-06-18 17:56:19,510] Trial 29 pruned. \n"
     ]
    },
    {
     "name": "stdout",
     "output_type": "stream",
     "text": [
      "Epoch:\t 0 Val Loss:\t 0.0953907235357507\n"
     ]
    },
    {
     "name": "stderr",
     "output_type": "stream",
     "text": [
      "[I 2025-06-18 17:56:23,275] Trial 30 pruned. \n"
     ]
    },
    {
     "name": "stdout",
     "output_type": "stream",
     "text": [
      "Epoch:\t 0 Val Loss:\t 0.02724493411556484\n"
     ]
    },
    {
     "name": "stderr",
     "output_type": "stream",
     "text": [
      "[I 2025-06-18 17:56:41,730] Trial 31 pruned. \n"
     ]
    },
    {
     "name": "stdout",
     "output_type": "stream",
     "text": [
      "Epoch:\t 0 Val Loss:\t 0.024026884580192632\n",
      "Epoch:\t 0 Val Loss:\t 0.023918225950567248\n"
     ]
    },
    {
     "name": "stderr",
     "output_type": "stream",
     "text": [
      "[I 2025-06-18 17:57:17,087] Trial 32 pruned. \n"
     ]
    },
    {
     "name": "stdout",
     "output_type": "stream",
     "text": [
      "Epoch:\t 1 Val Loss:\t 0.023673959907522735\n"
     ]
    },
    {
     "name": "stderr",
     "output_type": "stream",
     "text": [
      "[I 2025-06-18 17:57:33,687] Trial 33 pruned. \n"
     ]
    },
    {
     "name": "stdout",
     "output_type": "stream",
     "text": [
      "Epoch:\t 0 Val Loss:\t 0.024036748588728573\n"
     ]
    },
    {
     "name": "stderr",
     "output_type": "stream",
     "text": [
      "[I 2025-06-18 17:57:36,944] Trial 34 pruned. \n"
     ]
    },
    {
     "name": "stdout",
     "output_type": "stream",
     "text": [
      "Epoch:\t 0 Val Loss:\t 0.02658142211736207\n",
      "Epoch:\t 0 Val Loss:\t 0.023237772225852934\n",
      "Epoch:\t 1 Val Loss:\t 0.02321089516154805\n",
      "Epoch:\t 2 Val Loss:\t 0.023224478612326054\n",
      "Epoch:\t 3 Val Loss:\t 0.02322924894377204\n"
     ]
    },
    {
     "name": "stderr",
     "output_type": "stream",
     "text": [
      "[I 2025-06-18 18:00:08,616] Trial 35 pruned. \n"
     ]
    },
    {
     "name": "stdout",
     "output_type": "stream",
     "text": [
      "Epoch:\t 4 Val Loss:\t 0.02322510193490004\n"
     ]
    },
    {
     "name": "stderr",
     "output_type": "stream",
     "text": [
      "[I 2025-06-18 18:00:15,592] Trial 36 pruned. \n"
     ]
    },
    {
     "name": "stdout",
     "output_type": "stream",
     "text": [
      "Epoch:\t 0 Val Loss:\t 0.03879485359682784\n"
     ]
    },
    {
     "name": "stderr",
     "output_type": "stream",
     "text": [
      "[I 2025-06-18 18:00:55,346] Trial 37 pruned. \n"
     ]
    },
    {
     "name": "stdout",
     "output_type": "stream",
     "text": [
      "Epoch:\t 0 Val Loss:\t 0.02416992652004365\n"
     ]
    },
    {
     "name": "stderr",
     "output_type": "stream",
     "text": [
      "[I 2025-06-18 18:00:59,662] Trial 38 pruned. \n"
     ]
    },
    {
     "name": "stdout",
     "output_type": "stream",
     "text": [
      "Epoch:\t 0 Val Loss:\t 0.03185874203976429\n"
     ]
    },
    {
     "name": "stderr",
     "output_type": "stream",
     "text": [
      "[I 2025-06-18 18:01:13,614] Trial 39 pruned. \n"
     ]
    },
    {
     "name": "stdout",
     "output_type": "stream",
     "text": [
      "Epoch:\t 0 Val Loss:\t 0.02684342588087122\n"
     ]
    },
    {
     "name": "stderr",
     "output_type": "stream",
     "text": [
      "[I 2025-06-18 18:01:17,183] Trial 40 pruned. \n"
     ]
    },
    {
     "name": "stdout",
     "output_type": "stream",
     "text": [
      "Epoch:\t 0 Val Loss:\t 0.11565434360140006\n"
     ]
    },
    {
     "name": "stderr",
     "output_type": "stream",
     "text": [
      "[I 2025-06-18 18:01:21,010] Trial 41 pruned. \n"
     ]
    },
    {
     "name": "stdout",
     "output_type": "stream",
     "text": [
      "Epoch:\t 0 Val Loss:\t 0.028343772563568265\n"
     ]
    },
    {
     "name": "stderr",
     "output_type": "stream",
     "text": [
      "[I 2025-06-18 18:01:24,378] Trial 42 pruned. \n"
     ]
    },
    {
     "name": "stdout",
     "output_type": "stream",
     "text": [
      "Epoch:\t 0 Val Loss:\t 0.028084759202177886\n"
     ]
    },
    {
     "name": "stderr",
     "output_type": "stream",
     "text": [
      "[I 2025-06-18 18:01:27,946] Trial 43 pruned. \n"
     ]
    },
    {
     "name": "stdout",
     "output_type": "stream",
     "text": [
      "Epoch:\t 0 Val Loss:\t 0.028328522386993626\n",
      "Epoch:\t 0 Val Loss:\t 0.023894471291267278\n",
      "Epoch:\t 1 Val Loss:\t 0.023312139081175215\n",
      "Epoch:\t 2 Val Loss:\t 0.023255238058359436\n"
     ]
    },
    {
     "name": "stderr",
     "output_type": "stream",
     "text": [
      "[I 2025-06-18 18:01:43,091] Trial 44 pruned. \n"
     ]
    },
    {
     "name": "stdout",
     "output_type": "stream",
     "text": [
      "Epoch:\t 3 Val Loss:\t 0.023239508746595482\n",
      "Epoch:\t 0 Val Loss:\t 0.023299049574112843\n",
      "Epoch:\t 1 Val Loss:\t 0.023265474742065688\n"
     ]
    },
    {
     "name": "stderr",
     "output_type": "stream",
     "text": [
      "[I 2025-06-18 18:02:24,376] Trial 45 pruned. \n"
     ]
    },
    {
     "name": "stdout",
     "output_type": "stream",
     "text": [
      "Epoch:\t 2 Val Loss:\t 0.023315957236385538\n",
      "Epoch:\t 0 Val Loss:\t 0.023914921365044473\n",
      "Epoch:\t 1 Val Loss:\t 0.023286195456933823\n",
      "Epoch:\t 2 Val Loss:\t 0.02325419627464889\n"
     ]
    },
    {
     "name": "stderr",
     "output_type": "stream",
     "text": [
      "[I 2025-06-18 18:02:40,709] Trial 46 pruned. \n"
     ]
    },
    {
     "name": "stdout",
     "output_type": "stream",
     "text": [
      "Epoch:\t 3 Val Loss:\t 0.023231347801573394\n"
     ]
    },
    {
     "name": "stderr",
     "output_type": "stream",
     "text": [
      "[I 2025-06-18 18:02:44,397] Trial 47 pruned. \n"
     ]
    },
    {
     "name": "stdout",
     "output_type": "stream",
     "text": [
      "Epoch:\t 0 Val Loss:\t 0.027476133563079635\n",
      "Epoch:\t 0 Val Loss:\t 0.023602958257760442\n",
      "Epoch:\t 1 Val Loss:\t 0.023323013159687652\n"
     ]
    },
    {
     "name": "stderr",
     "output_type": "stream",
     "text": [
      "[I 2025-06-18 18:03:05,977] Trial 48 pruned. \n"
     ]
    },
    {
     "name": "stdout",
     "output_type": "stream",
     "text": [
      "Epoch:\t 2 Val Loss:\t 0.023259611541902724\n"
     ]
    },
    {
     "name": "stderr",
     "output_type": "stream",
     "text": [
      "[I 2025-06-18 18:03:18,816] Trial 49 pruned. \n"
     ]
    },
    {
     "name": "stdout",
     "output_type": "stream",
     "text": [
      "Epoch:\t 0 Val Loss:\t 0.03269878497761572\n",
      "Training model with best parameters on train+validation ...\n"
     ]
    },
    {
     "name": "stderr",
     "output_type": "stream",
     "text": [
      "100%|███████████████████████████████████████████████████████████████████████████████████████████████████████████████████████████████████████████████████████████████████| 401917/401917 [04:05<00:00, 1638.55it/s]\n",
      "100%|███████████████████████████████████████████████████████████████████████████████████████████████████████████████████████████████████████████████████████████████████| 401917/401917 [01:13<00:00, 5446.00it/s]\n"
     ]
    },
    {
     "name": "stdout",
     "output_type": "stream",
     "text": [
      "Getting test set predictions and saving results ...\n"
     ]
    },
    {
     "name": "stderr",
     "output_type": "stream",
     "text": [
      "100%|██████████████████████████████████████████████████████████████████████████████████████████████████████████████████████████████████████████████████████████████████████████| 611/611 [00:02<00:00, 300.66it/s]\n"
     ]
    }
   ],
   "source": [
    "train_different_featno(\n",
    "        adata_path=\"./data/feature_number/sciplex_hvg_3500.h5ad\",\n",
    "        run_name=\"decoder_hvg_3500\",\n",
    "        res_savename=\"./results/feature_number/decoder_hvg_3500_res.pkl\",\n",
    "        output_dim=3500\n",
    "    )"
   ]
  },
  {
   "cell_type": "code",
   "execution_count": 13,
   "id": "03760627-5300-4ed1-b786-5393cbf99d74",
   "metadata": {},
   "outputs": [
    {
     "name": "stdout",
     "output_type": "stream",
     "text": [
      "Loading Datasets ...\n"
     ]
    },
    {
     "name": "stderr",
     "output_type": "stream",
     "text": [
      "100%|███████████████████████████████████████████████████████████████████████████████████████████████████████████████████████████████████████████████████████████████████| 401917/401917 [03:12<00:00, 2086.51it/s]\n",
      "100%|███████████████████████████████████████████████████████████████████████████████████████████████████████████████████████████████████████████████████████████████████| 401917/401917 [01:15<00:00, 5335.21it/s]\n",
      "[I 2025-06-18 18:17:16,583] A new study created in RDB with name: decoder_hvg_5000\n"
     ]
    },
    {
     "name": "stdout",
     "output_type": "stream",
     "text": [
      "Optimizing Hyperparameters with Optuna ...\n",
      "Epoch:\t 0 Val Loss:\t 0.02236262793350258\n",
      "Epoch:\t 1 Val Loss:\t 0.022310146708580458\n",
      "Epoch:\t 2 Val Loss:\t 0.022288433722313195\n",
      "Epoch:\t 3 Val Loss:\t 0.02252276338205652\n",
      "Epoch:\t 4 Val Loss:\t 0.022382114945021472\n",
      "Epoch:\t 5 Val Loss:\t 0.02239951240407884\n",
      "Epoch:\t 6 Val Loss:\t 0.0222602608490891\n",
      "Epoch:\t 7 Val Loss:\t 0.022410571479337393\n",
      "Epoch:\t 8 Val Loss:\t 0.022568043764572818\n",
      "Epoch:\t 9 Val Loss:\t 0.022343698248171347\n",
      "Epoch:\t 10 Val Loss:\t 0.02241122604638242\n",
      "Epoch:\t 11 Val Loss:\t 0.02239576825374959\n",
      "Epoch:\t 12 Val Loss:\t 0.02238761540202849\n",
      "Epoch:\t 13 Val Loss:\t 0.022414037664316093\n",
      "Epoch:\t 14 Val Loss:\t 0.022427490963286143\n",
      "Epoch:\t 15 Val Loss:\t 0.022422265986106405\n"
     ]
    },
    {
     "name": "stderr",
     "output_type": "stream",
     "text": [
      "[I 2025-06-18 18:18:18,444] Trial 0 finished with value: 0.0222602608490891 and parameters: {'lr': 0.0001, 'weight_decay': 0.001, 'scheduler_factor': 0.3, 'scheduler_patience': 1, 'batch_size': 256, 'dropout': 0.05, 'hidden_dims': 1024}. Best is trial 0 with value: 0.0222602608490891.\n"
     ]
    },
    {
     "name": "stdout",
     "output_type": "stream",
     "text": [
      "Epoch:\t 16 Val Loss:\t 0.022417107950356997\n",
      "Epoch:\t 0 Val Loss:\t 0.04018967304118844\n",
      "Epoch:\t 1 Val Loss:\t 0.03268450438832893\n",
      "Epoch:\t 2 Val Loss:\t 0.030169610095411276\n",
      "Epoch:\t 3 Val Loss:\t 0.0288927558788607\n",
      "Epoch:\t 4 Val Loss:\t 0.02807484179998075\n",
      "Epoch:\t 5 Val Loss:\t 0.0275708366328822\n",
      "Epoch:\t 6 Val Loss:\t 0.02727821651538468\n",
      "Epoch:\t 7 Val Loss:\t 0.02695651717615443\n",
      "Epoch:\t 8 Val Loss:\t 0.026811416561878864\n",
      "Epoch:\t 9 Val Loss:\t 0.026639392704022533\n",
      "Epoch:\t 10 Val Loss:\t 0.026548036091095368\n",
      "Epoch:\t 11 Val Loss:\t 0.02656121845950866\n",
      "Epoch:\t 12 Val Loss:\t 0.026451756257590716\n",
      "Epoch:\t 13 Val Loss:\t 0.026452080989682207\n",
      "Epoch:\t 14 Val Loss:\t 0.026331196438279168\n",
      "Epoch:\t 15 Val Loss:\t 0.026399393787767376\n",
      "Epoch:\t 16 Val Loss:\t 0.02626907212006969\n",
      "Epoch:\t 17 Val Loss:\t 0.026196177254200172\n",
      "Epoch:\t 18 Val Loss:\t 0.026237315690233024\n",
      "Epoch:\t 19 Val Loss:\t 0.02595844761929277\n",
      "Epoch:\t 20 Val Loss:\t 0.02588877671584188\n",
      "Epoch:\t 21 Val Loss:\t 0.02590748885498586\n",
      "Epoch:\t 22 Val Loss:\t 0.02586554865104108\n",
      "Epoch:\t 23 Val Loss:\t 0.025852591193668728\n",
      "Epoch:\t 24 Val Loss:\t 0.025770630354379882\n",
      "Epoch:\t 25 Val Loss:\t 0.025724766887993265\n",
      "Epoch:\t 26 Val Loss:\t 0.025697176100472594\n",
      "Epoch:\t 27 Val Loss:\t 0.025730505472149195\n",
      "Epoch:\t 28 Val Loss:\t 0.025626659424678268\n",
      "Epoch:\t 29 Val Loss:\t 0.02553126977423524\n",
      "Epoch:\t 30 Val Loss:\t 0.025596429524404007\n",
      "Epoch:\t 31 Val Loss:\t 0.025575303710823834\n",
      "Epoch:\t 32 Val Loss:\t 0.025580415270666935\n",
      "Epoch:\t 33 Val Loss:\t 0.025495719246763464\n",
      "Epoch:\t 34 Val Loss:\t 0.025503328444963468\n",
      "Epoch:\t 35 Val Loss:\t 0.02540470635086752\n",
      "Epoch:\t 36 Val Loss:\t 0.02535763771722053\n",
      "Epoch:\t 37 Val Loss:\t 0.02536916118727604\n",
      "Epoch:\t 38 Val Loss:\t 0.025363525284608078\n",
      "Epoch:\t 39 Val Loss:\t 0.02564164486197634\n",
      "Epoch:\t 40 Val Loss:\t 0.025395718105167223\n",
      "Epoch:\t 41 Val Loss:\t 0.025482960532284205\n",
      "Epoch:\t 42 Val Loss:\t 0.02549887100218197\n",
      "Epoch:\t 43 Val Loss:\t 0.0253428311147686\n",
      "Epoch:\t 44 Val Loss:\t 0.025379947279882412\n",
      "Epoch:\t 45 Val Loss:\t 0.02532682005456427\n",
      "Epoch:\t 46 Val Loss:\t 0.025357566112181904\n",
      "Epoch:\t 47 Val Loss:\t 0.025438968494008708\n",
      "Epoch:\t 48 Val Loss:\t 0.025285547437876726\n",
      "Epoch:\t 49 Val Loss:\t 0.025325434443741773\n",
      "Epoch:\t 50 Val Loss:\t 0.02544015229985106\n",
      "Epoch:\t 51 Val Loss:\t 0.025512006667046044\n",
      "Epoch:\t 52 Val Loss:\t 0.02555840917278168\n",
      "Epoch:\t 53 Val Loss:\t 0.025553643126892105\n",
      "Epoch:\t 54 Val Loss:\t 0.02531945953965665\n",
      "Epoch:\t 55 Val Loss:\t 0.025398836988707783\n",
      "Epoch:\t 56 Val Loss:\t 0.025506291882028173\n",
      "Epoch:\t 57 Val Loss:\t 0.025585448808531905\n"
     ]
    },
    {
     "name": "stderr",
     "output_type": "stream",
     "text": [
      "[I 2025-06-18 18:23:51,640] Trial 1 finished with value: 0.025285547437876726 and parameters: {'lr': 1e-06, 'weight_decay': 1e-05, 'scheduler_factor': 0.1, 'scheduler_patience': 20, 'batch_size': 64, 'dropout': 0.2, 'hidden_dims': 512}. Best is trial 0 with value: 0.0222602608490891.\n"
     ]
    },
    {
     "name": "stdout",
     "output_type": "stream",
     "text": [
      "Epoch:\t 58 Val Loss:\t 0.025456851555905345\n",
      "Epoch:\t 0 Val Loss:\t 0.024150310444061407\n",
      "Epoch:\t 1 Val Loss:\t 0.02549625536303721\n",
      "Epoch:\t 2 Val Loss:\t 0.022668372697097983\n",
      "Epoch:\t 3 Val Loss:\t 0.022004126857421202\n",
      "Epoch:\t 4 Val Loss:\t 0.02205479129409802\n",
      "Epoch:\t 5 Val Loss:\t 0.022151406151886453\n",
      "Epoch:\t 6 Val Loss:\t 0.02252265437317635\n",
      "Epoch:\t 7 Val Loss:\t 0.022881859599916874\n",
      "Epoch:\t 8 Val Loss:\t 0.02321734571071689\n",
      "Epoch:\t 9 Val Loss:\t 0.023762825560683237\n",
      "Epoch:\t 10 Val Loss:\t 0.023970650550806688\n",
      "Epoch:\t 11 Val Loss:\t 0.02426935223291417\n",
      "Epoch:\t 12 Val Loss:\t 0.02456807489684206\n"
     ]
    },
    {
     "name": "stderr",
     "output_type": "stream",
     "text": [
      "[I 2025-06-18 18:25:58,574] Trial 2 finished with value: 0.022004126857421202 and parameters: {'lr': 1e-05, 'weight_decay': 0.001, 'scheduler_factor': 0.5, 'scheduler_patience': 5, 'batch_size': 32, 'dropout': 0.05, 'hidden_dims': 256}. Best is trial 2 with value: 0.022004126857421202.\n"
     ]
    },
    {
     "name": "stdout",
     "output_type": "stream",
     "text": [
      "Epoch:\t 13 Val Loss:\t 0.024733174283184365\n",
      "Epoch:\t 0 Val Loss:\t 0.023010438233434724\n",
      "Epoch:\t 1 Val Loss:\t 0.022057728971852812\n",
      "Epoch:\t 2 Val Loss:\t 0.02185827313975372\n",
      "Epoch:\t 3 Val Loss:\t 0.02178719907897467\n",
      "Epoch:\t 4 Val Loss:\t 0.021678986083103736\n",
      "Epoch:\t 5 Val Loss:\t 0.02156534044142236\n",
      "Epoch:\t 6 Val Loss:\t 0.021529892145834548\n",
      "Epoch:\t 7 Val Loss:\t 0.021511884915561035\n",
      "Epoch:\t 8 Val Loss:\t 0.02150415949696718\n",
      "Epoch:\t 9 Val Loss:\t 0.021506432697786362\n",
      "Epoch:\t 10 Val Loss:\t 0.02149492814993514\n",
      "Epoch:\t 11 Val Loss:\t 0.02149025769792228\n",
      "Epoch:\t 12 Val Loss:\t 0.021489762739183526\n",
      "Epoch:\t 13 Val Loss:\t 0.021499001490491432\n",
      "Epoch:\t 14 Val Loss:\t 0.02151266686654177\n",
      "Epoch:\t 15 Val Loss:\t 0.021495436073998595\n",
      "Epoch:\t 16 Val Loss:\t 0.021491422214109896\n",
      "Epoch:\t 17 Val Loss:\t 0.021495481657272067\n",
      "Epoch:\t 18 Val Loss:\t 0.02149662327651702\n",
      "Epoch:\t 19 Val Loss:\t 0.021493171751738167\n",
      "Epoch:\t 20 Val Loss:\t 0.02149508566369318\n",
      "Epoch:\t 21 Val Loss:\t 0.02149280386064993\n"
     ]
    },
    {
     "name": "stderr",
     "output_type": "stream",
     "text": [
      "[I 2025-06-18 18:28:55,150] Trial 3 finished with value: 0.021489762739183526 and parameters: {'lr': 0.0001, 'weight_decay': 1e-05, 'scheduler_factor': 0.5, 'scheduler_patience': 20, 'batch_size': 64, 'dropout': 0.2, 'hidden_dims': 256}. Best is trial 3 with value: 0.021489762739183526.\n"
     ]
    },
    {
     "name": "stdout",
     "output_type": "stream",
     "text": [
      "Epoch:\t 22 Val Loss:\t 0.021493284287171642\n",
      "Epoch:\t 0 Val Loss:\t 0.10647670273037202\n",
      "Epoch:\t 1 Val Loss:\t 0.09798562629717339\n",
      "Epoch:\t 2 Val Loss:\t 0.08990235281718889\n",
      "Epoch:\t 3 Val Loss:\t 0.0836488178113649\n",
      "Epoch:\t 4 Val Loss:\t 0.07725320385104208\n",
      "Epoch:\t 5 Val Loss:\t 0.07169010586006465\n",
      "Epoch:\t 6 Val Loss:\t 0.06747079928109116\n",
      "Epoch:\t 7 Val Loss:\t 0.06362763980337661\n",
      "Epoch:\t 8 Val Loss:\t 0.06075152420585562\n",
      "Epoch:\t 9 Val Loss:\t 0.05791677014716568\n",
      "Epoch:\t 10 Val Loss:\t 0.055230175303684556\n",
      "Epoch:\t 11 Val Loss:\t 0.05348349864507795\n",
      "Epoch:\t 12 Val Loss:\t 0.05162598894627531\n",
      "Epoch:\t 13 Val Loss:\t 0.0496604501769857\n",
      "Epoch:\t 14 Val Loss:\t 0.04835663000391227\n",
      "Epoch:\t 15 Val Loss:\t 0.04700103288342715\n",
      "Epoch:\t 16 Val Loss:\t 0.045965540147958464\n",
      "Epoch:\t 17 Val Loss:\t 0.045050627692719364\n",
      "Epoch:\t 18 Val Loss:\t 0.04464394385983323\n",
      "Epoch:\t 19 Val Loss:\t 0.04368994567076109\n",
      "Epoch:\t 20 Val Loss:\t 0.0429261976260081\n",
      "Epoch:\t 21 Val Loss:\t 0.04251352326279668\n",
      "Epoch:\t 22 Val Loss:\t 0.0418577564826349\n",
      "Epoch:\t 23 Val Loss:\t 0.0413596063876267\n",
      "Epoch:\t 24 Val Loss:\t 0.040787062245358226\n",
      "Epoch:\t 25 Val Loss:\t 0.04050935645530845\n",
      "Epoch:\t 26 Val Loss:\t 0.04004614461225329\n",
      "Epoch:\t 27 Val Loss:\t 0.03982998194753932\n",
      "Epoch:\t 28 Val Loss:\t 0.039533853590775915\n",
      "Epoch:\t 29 Val Loss:\t 0.039237119401191206\n",
      "Epoch:\t 30 Val Loss:\t 0.0392311747961489\n",
      "Epoch:\t 31 Val Loss:\t 0.038883804939567466\n",
      "Epoch:\t 32 Val Loss:\t 0.03863622436234039\n",
      "Epoch:\t 33 Val Loss:\t 0.03862666299153371\n",
      "Epoch:\t 34 Val Loss:\t 0.038632581100299046\n",
      "Epoch:\t 35 Val Loss:\t 0.03833519902164147\n",
      "Epoch:\t 36 Val Loss:\t 0.038408266757749665\n",
      "Epoch:\t 37 Val Loss:\t 0.038253023238235734\n",
      "Epoch:\t 38 Val Loss:\t 0.03817437953312681\n",
      "Epoch:\t 39 Val Loss:\t 0.03836677077307195\n",
      "Epoch:\t 40 Val Loss:\t 0.03836610339510096\n",
      "Epoch:\t 41 Val Loss:\t 0.03847380272349361\n",
      "Epoch:\t 42 Val Loss:\t 0.03846953231901218\n",
      "Epoch:\t 43 Val Loss:\t 0.038834216486411076\n",
      "Epoch:\t 44 Val Loss:\t 0.03885621207367952\n",
      "Epoch:\t 45 Val Loss:\t 0.038768434771291695\n",
      "Epoch:\t 46 Val Loss:\t 0.03891198988704436\n",
      "Epoch:\t 47 Val Loss:\t 0.03893664551126229\n"
     ]
    },
    {
     "name": "stderr",
     "output_type": "stream",
     "text": [
      "[I 2025-06-18 18:32:02,956] Trial 4 finished with value: 0.03817437953312681 and parameters: {'lr': 1e-06, 'weight_decay': 1e-06, 'scheduler_factor': 0.1, 'scheduler_patience': 5, 'batch_size': 256, 'dropout': 0.15, 'hidden_dims': 64}. Best is trial 3 with value: 0.021489762739183526.\n"
     ]
    },
    {
     "name": "stdout",
     "output_type": "stream",
     "text": [
      "Epoch:\t 48 Val Loss:\t 0.038958643254647304\n"
     ]
    },
    {
     "name": "stderr",
     "output_type": "stream",
     "text": [
      "[I 2025-06-18 18:32:15,591] Trial 5 pruned. \n"
     ]
    },
    {
     "name": "stdout",
     "output_type": "stream",
     "text": [
      "Epoch:\t 0 Val Loss:\t 0.03021475466748397\n"
     ]
    },
    {
     "name": "stderr",
     "output_type": "stream",
     "text": [
      "[I 2025-06-18 18:32:24,976] Trial 6 pruned. \n"
     ]
    },
    {
     "name": "stdout",
     "output_type": "stream",
     "text": [
      "Epoch:\t 0 Val Loss:\t 0.02436914581898077\n"
     ]
    },
    {
     "name": "stderr",
     "output_type": "stream",
     "text": [
      "[I 2025-06-18 18:32:33,899] Trial 7 pruned. \n"
     ]
    },
    {
     "name": "stdout",
     "output_type": "stream",
     "text": [
      "Epoch:\t 0 Val Loss:\t 0.025466043736603418\n"
     ]
    },
    {
     "name": "stderr",
     "output_type": "stream",
     "text": [
      "[I 2025-06-18 18:32:37,879] Trial 8 pruned. \n"
     ]
    },
    {
     "name": "stdout",
     "output_type": "stream",
     "text": [
      "Epoch:\t 0 Val Loss:\t 0.10395776279198779\n"
     ]
    },
    {
     "name": "stderr",
     "output_type": "stream",
     "text": [
      "[I 2025-06-18 18:32:44,558] Trial 9 pruned. \n"
     ]
    },
    {
     "name": "stdout",
     "output_type": "stream",
     "text": [
      "Epoch:\t 0 Val Loss:\t 0.025120693137204542\n",
      "Epoch:\t 0 Val Loss:\t 0.02168420460459537\n",
      "Epoch:\t 1 Val Loss:\t 0.021648707647720755\n",
      "Epoch:\t 2 Val Loss:\t 0.021660837456225705\n",
      "Epoch:\t 3 Val Loss:\t 0.021669899117581486\n",
      "Epoch:\t 4 Val Loss:\t 0.02164029318837819\n",
      "Epoch:\t 5 Val Loss:\t 0.021638018283429473\n",
      "Epoch:\t 6 Val Loss:\t 0.021633599347025724\n",
      "Epoch:\t 7 Val Loss:\t 0.021643879502433988\n",
      "Epoch:\t 8 Val Loss:\t 0.021644025810392795\n",
      "Epoch:\t 9 Val Loss:\t 0.02165411574069274\n",
      "Epoch:\t 10 Val Loss:\t 0.02166374853379805\n",
      "Epoch:\t 11 Val Loss:\t 0.02164600648215827\n",
      "Epoch:\t 12 Val Loss:\t 0.021645276359034443\n",
      "Epoch:\t 13 Val Loss:\t 0.021647390536665378\n",
      "Epoch:\t 14 Val Loss:\t 0.021635858769739613\n",
      "Epoch:\t 15 Val Loss:\t 0.02162643431560283\n",
      "Epoch:\t 16 Val Loss:\t 0.021647113177942514\n",
      "Epoch:\t 17 Val Loss:\t 0.021648245263322995\n",
      "Epoch:\t 18 Val Loss:\t 0.021666296707748757\n",
      "Epoch:\t 19 Val Loss:\t 0.02164744032370354\n",
      "Epoch:\t 20 Val Loss:\t 0.021620871720862064\n",
      "Epoch:\t 21 Val Loss:\t 0.021645426533540048\n",
      "Epoch:\t 22 Val Loss:\t 0.02165708927677631\n",
      "Epoch:\t 23 Val Loss:\t 0.021645563778877438\n",
      "Epoch:\t 24 Val Loss:\t 0.021634008996472272\n",
      "Epoch:\t 25 Val Loss:\t 0.021648855118573226\n",
      "Epoch:\t 26 Val Loss:\t 0.02166359732422005\n",
      "Epoch:\t 27 Val Loss:\t 0.02166408116803651\n",
      "Epoch:\t 28 Val Loss:\t 0.021646750792323574\n",
      "Epoch:\t 29 Val Loss:\t 0.021635818450805526\n"
     ]
    },
    {
     "name": "stderr",
     "output_type": "stream",
     "text": [
      "[I 2025-06-18 18:45:07,202] Trial 10 finished with value: 0.021620871720862064 and parameters: {'lr': 0.001, 'weight_decay': 1e-05, 'scheduler_factor': 0.3, 'scheduler_patience': 10, 'batch_size': 16, 'dropout': 0.1, 'hidden_dims': 256}. Best is trial 3 with value: 0.021489762739183526.\n"
     ]
    },
    {
     "name": "stdout",
     "output_type": "stream",
     "text": [
      "Epoch:\t 30 Val Loss:\t 0.02166264483593576\n",
      "Epoch:\t 0 Val Loss:\t 0.02169374055116234\n",
      "Epoch:\t 1 Val Loss:\t 0.02166322485770134\n",
      "Epoch:\t 2 Val Loss:\t 0.021643572209648857\n",
      "Epoch:\t 3 Val Loss:\t 0.021645030689723767\n",
      "Epoch:\t 4 Val Loss:\t 0.02165491504740605\n",
      "Epoch:\t 5 Val Loss:\t 0.021654002699852466\n",
      "Epoch:\t 6 Val Loss:\t 0.021662869781593097\n",
      "Epoch:\t 7 Val Loss:\t 0.02165512913161416\n",
      "Epoch:\t 8 Val Loss:\t 0.02164530351554982\n",
      "Epoch:\t 9 Val Loss:\t 0.021655310892528534\n",
      "Epoch:\t 10 Val Loss:\t 0.02163788314984876\n",
      "Epoch:\t 11 Val Loss:\t 0.021692827855039218\n",
      "Epoch:\t 12 Val Loss:\t 0.021643428462967084\n",
      "Epoch:\t 13 Val Loss:\t 0.021657397913830694\n",
      "Epoch:\t 14 Val Loss:\t 0.02163651644376703\n",
      "Epoch:\t 15 Val Loss:\t 0.02163370472661355\n",
      "Epoch:\t 16 Val Loss:\t 0.021638584537817862\n",
      "Epoch:\t 17 Val Loss:\t 0.021658861627673498\n",
      "Epoch:\t 18 Val Loss:\t 0.021648616045773138\n",
      "Epoch:\t 19 Val Loss:\t 0.021652861457990575\n",
      "Epoch:\t 20 Val Loss:\t 0.02165765859215759\n",
      "Epoch:\t 21 Val Loss:\t 0.021684999283059066\n",
      "Epoch:\t 22 Val Loss:\t 0.021668738693758724\n",
      "Epoch:\t 23 Val Loss:\t 0.021673625344613933\n",
      "Epoch:\t 24 Val Loss:\t 0.021671184177779704\n"
     ]
    },
    {
     "name": "stderr",
     "output_type": "stream",
     "text": [
      "[I 2025-06-18 18:55:15,555] Trial 11 finished with value: 0.02163370472661355 and parameters: {'lr': 0.001, 'weight_decay': 1e-05, 'scheduler_factor': 0.3, 'scheduler_patience': 10, 'batch_size': 16, 'dropout': 0.1, 'hidden_dims': 256}. Best is trial 3 with value: 0.021489762739183526.\n"
     ]
    },
    {
     "name": "stdout",
     "output_type": "stream",
     "text": [
      "Epoch:\t 25 Val Loss:\t 0.021658751980721223\n",
      "Epoch:\t 0 Val Loss:\t 0.022143079428358026\n",
      "Epoch:\t 1 Val Loss:\t 0.021686194832309675\n",
      "Epoch:\t 2 Val Loss:\t 0.021655354050868585\n",
      "Epoch:\t 3 Val Loss:\t 0.021641035266758733\n",
      "Epoch:\t 4 Val Loss:\t 0.021612766502278575\n",
      "Epoch:\t 5 Val Loss:\t 0.02160821467291199\n",
      "Epoch:\t 6 Val Loss:\t 0.021610168300652773\n",
      "Epoch:\t 7 Val Loss:\t 0.02160363398898949\n",
      "Epoch:\t 8 Val Loss:\t 0.021583440469915754\n",
      "Epoch:\t 9 Val Loss:\t 0.021595479146148382\n",
      "Epoch:\t 10 Val Loss:\t 0.021588615212069277\n",
      "Epoch:\t 11 Val Loss:\t 0.02158538837816991\n",
      "Epoch:\t 12 Val Loss:\t 0.021573441171866166\n",
      "Epoch:\t 13 Val Loss:\t 0.021590360379022924\n",
      "Epoch:\t 14 Val Loss:\t 0.02158941114455892\n",
      "Epoch:\t 15 Val Loss:\t 0.021588772771518265\n",
      "Epoch:\t 16 Val Loss:\t 0.021590961436374803\n",
      "Epoch:\t 17 Val Loss:\t 0.02158642251098328\n",
      "Epoch:\t 18 Val Loss:\t 0.021580391556000632\n",
      "Epoch:\t 19 Val Loss:\t 0.021585530767375738\n",
      "Epoch:\t 20 Val Loss:\t 0.021572035218605453\n",
      "Epoch:\t 21 Val Loss:\t 0.021573918825239662\n",
      "Epoch:\t 22 Val Loss:\t 0.0215968672592749\n",
      "Epoch:\t 23 Val Loss:\t 0.02157518517578777\n",
      "Epoch:\t 24 Val Loss:\t 0.02154293984928158\n",
      "Epoch:\t 25 Val Loss:\t 0.021523021998700133\n",
      "Epoch:\t 26 Val Loss:\t 0.02151102302999596\n",
      "Epoch:\t 27 Val Loss:\t 0.021505210417088114\n",
      "Epoch:\t 28 Val Loss:\t 0.0215043132709127\n",
      "Epoch:\t 29 Val Loss:\t 0.021508067260297498\n",
      "Epoch:\t 30 Val Loss:\t 0.02149945211388996\n",
      "Epoch:\t 31 Val Loss:\t 0.021496068976257433\n",
      "Epoch:\t 32 Val Loss:\t 0.021504316804855823\n",
      "Epoch:\t 33 Val Loss:\t 0.021503282026245737\n",
      "Epoch:\t 34 Val Loss:\t 0.021505152121975565\n",
      "Epoch:\t 35 Val Loss:\t 0.021498108832808407\n",
      "Epoch:\t 36 Val Loss:\t 0.021499790056918062\n",
      "Epoch:\t 37 Val Loss:\t 0.02150640230667725\n",
      "Epoch:\t 38 Val Loss:\t 0.021504178789726804\n",
      "Epoch:\t 39 Val Loss:\t 0.02149664612119213\n",
      "Epoch:\t 40 Val Loss:\t 0.02149899597810417\n",
      "Epoch:\t 41 Val Loss:\t 0.021494848563980137\n",
      "Epoch:\t 42 Val Loss:\t 0.021506077653308357\n",
      "Epoch:\t 43 Val Loss:\t 0.021480350541384415\n",
      "Epoch:\t 44 Val Loss:\t 0.021476014390181195\n",
      "Epoch:\t 45 Val Loss:\t 0.021482719709412054\n",
      "Epoch:\t 46 Val Loss:\t 0.021477086804388614\n",
      "Epoch:\t 47 Val Loss:\t 0.021478721049777195\n",
      "Epoch:\t 48 Val Loss:\t 0.021478316523912057\n",
      "Epoch:\t 49 Val Loss:\t 0.02148246325337198\n",
      "Epoch:\t 50 Val Loss:\t 0.02148194129116845\n",
      "Epoch:\t 51 Val Loss:\t 0.021477950058195795\n",
      "Epoch:\t 52 Val Loss:\t 0.021484902469414386\n",
      "Epoch:\t 53 Val Loss:\t 0.0214824861372981\n",
      "Epoch:\t 54 Val Loss:\t 0.021474782183144487\n",
      "Epoch:\t 55 Val Loss:\t 0.02148134395312727\n",
      "Epoch:\t 56 Val Loss:\t 0.021475746815076417\n",
      "Epoch:\t 57 Val Loss:\t 0.021473433613107447\n",
      "Epoch:\t 58 Val Loss:\t 0.021476667493964468\n",
      "Epoch:\t 59 Val Loss:\t 0.02147568492024515\n",
      "Epoch:\t 60 Val Loss:\t 0.021478804456216565\n",
      "Epoch:\t 61 Val Loss:\t 0.021473935364265694\n",
      "Epoch:\t 62 Val Loss:\t 0.02147545830240506\n",
      "Epoch:\t 63 Val Loss:\t 0.02147520048899597\n",
      "Epoch:\t 64 Val Loss:\t 0.021476354554630397\n",
      "Epoch:\t 65 Val Loss:\t 0.021474260104338776\n",
      "Epoch:\t 66 Val Loss:\t 0.021480139763502593\n"
     ]
    },
    {
     "name": "stderr",
     "output_type": "stream",
     "text": [
      "[I 2025-06-18 19:00:18,622] Trial 12 finished with value: 0.021473433613107447 and parameters: {'lr': 0.001, 'weight_decay': 1e-05, 'scheduler_factor': 0.3, 'scheduler_patience': 10, 'batch_size': 128, 'dropout': 0.1, 'hidden_dims': 256}. Best is trial 12 with value: 0.021473433613107447.\n"
     ]
    },
    {
     "name": "stdout",
     "output_type": "stream",
     "text": [
      "Epoch:\t 67 Val Loss:\t 0.02147446478003962\n",
      "Epoch:\t 0 Val Loss:\t 0.022305469382942967\n",
      "Epoch:\t 1 Val Loss:\t 0.02165862922384785\n",
      "Epoch:\t 2 Val Loss:\t 0.021648887353523202\n",
      "Epoch:\t 3 Val Loss:\t 0.02163374176425306\n",
      "Epoch:\t 4 Val Loss:\t 0.02162317709210979\n",
      "Epoch:\t 5 Val Loss:\t 0.02160836754734501\n",
      "Epoch:\t 6 Val Loss:\t 0.021609808271975044\n",
      "Epoch:\t 7 Val Loss:\t 0.021595346180790884\n",
      "Epoch:\t 8 Val Loss:\t 0.021592479871875975\n",
      "Epoch:\t 9 Val Loss:\t 0.021593441496069513\n",
      "Epoch:\t 10 Val Loss:\t 0.021585109056142512\n",
      "Epoch:\t 11 Val Loss:\t 0.021598502081694802\n",
      "Epoch:\t 12 Val Loss:\t 0.021575796742285235\n",
      "Epoch:\t 13 Val Loss:\t 0.021590798447449745\n",
      "Epoch:\t 14 Val Loss:\t 0.021572570990693322\n",
      "Epoch:\t 15 Val Loss:\t 0.02156993170025165\n",
      "Epoch:\t 16 Val Loss:\t 0.021574959804694115\n",
      "Epoch:\t 17 Val Loss:\t 0.021585624243460153\n",
      "Epoch:\t 18 Val Loss:\t 0.021578304071942073\n",
      "Epoch:\t 19 Val Loss:\t 0.02156790861647642\n",
      "Epoch:\t 20 Val Loss:\t 0.021574113987398186\n",
      "Epoch:\t 21 Val Loss:\t 0.02158425807247288\n",
      "Epoch:\t 22 Val Loss:\t 0.02157890580797846\n",
      "Epoch:\t 23 Val Loss:\t 0.021571312826216507\n",
      "Epoch:\t 24 Val Loss:\t 0.02157726479667339\n",
      "Epoch:\t 25 Val Loss:\t 0.02156973478906036\n",
      "Epoch:\t 26 Val Loss:\t 0.021580347217272602\n",
      "Epoch:\t 27 Val Loss:\t 0.02155131675649799\n",
      "Epoch:\t 28 Val Loss:\t 0.021529427745990922\n",
      "Epoch:\t 29 Val Loss:\t 0.021531109448468512\n",
      "Epoch:\t 30 Val Loss:\t 0.021522284325445444\n",
      "Epoch:\t 31 Val Loss:\t 0.021533022758761722\n",
      "Epoch:\t 32 Val Loss:\t 0.021528524626195908\n",
      "Epoch:\t 33 Val Loss:\t 0.021533170242586067\n",
      "Epoch:\t 34 Val Loss:\t 0.021523301102472154\n",
      "Epoch:\t 35 Val Loss:\t 0.021531651038706398\n",
      "Epoch:\t 36 Val Loss:\t 0.021532006995277075\n",
      "Epoch:\t 37 Val Loss:\t 0.021516511482851847\n",
      "Epoch:\t 38 Val Loss:\t 0.0215135362555376\n",
      "Epoch:\t 39 Val Loss:\t 0.021523054219770393\n",
      "Epoch:\t 40 Val Loss:\t 0.021522828627431566\n",
      "Epoch:\t 41 Val Loss:\t 0.021518100603195103\n",
      "Epoch:\t 42 Val Loss:\t 0.021523036445411786\n",
      "Epoch:\t 43 Val Loss:\t 0.021513973860545488\n",
      "Epoch:\t 44 Val Loss:\t 0.021516240663814506\n",
      "Epoch:\t 45 Val Loss:\t 0.021520500500383\n",
      "Epoch:\t 46 Val Loss:\t 0.021515687885746527\n",
      "Epoch:\t 47 Val Loss:\t 0.021533831164695285\n"
     ]
    },
    {
     "name": "stderr",
     "output_type": "stream",
     "text": [
      "[I 2025-06-18 19:04:00,263] Trial 13 finished with value: 0.0215135362555376 and parameters: {'lr': 0.001, 'weight_decay': 1e-05, 'scheduler_factor': 0.5, 'scheduler_patience': 10, 'batch_size': 128, 'dropout': 0.1, 'hidden_dims': 256}. Best is trial 12 with value: 0.021473433613107447.\n"
     ]
    },
    {
     "name": "stdout",
     "output_type": "stream",
     "text": [
      "Epoch:\t 48 Val Loss:\t 0.02152330424475153\n"
     ]
    },
    {
     "name": "stderr",
     "output_type": "stream",
     "text": [
      "[I 2025-06-18 19:04:04,889] Trial 14 pruned. \n"
     ]
    },
    {
     "name": "stdout",
     "output_type": "stream",
     "text": [
      "Epoch:\t 0 Val Loss:\t 0.024546530259172184\n",
      "Epoch:\t 0 Val Loss:\t 0.022126827481685634\n",
      "Epoch:\t 1 Val Loss:\t 0.021801141116104386\n",
      "Epoch:\t 2 Val Loss:\t 0.02159845732140503\n",
      "Epoch:\t 3 Val Loss:\t 0.021571571192738524\n",
      "Epoch:\t 4 Val Loss:\t 0.02158090017173876\n",
      "Epoch:\t 5 Val Loss:\t 0.021568353794646684\n",
      "Epoch:\t 6 Val Loss:\t 0.021575461247903004\n",
      "Epoch:\t 7 Val Loss:\t 0.02156972520974245\n",
      "Epoch:\t 8 Val Loss:\t 0.02156812595995816\n",
      "Epoch:\t 9 Val Loss:\t 0.02156483413080534\n",
      "Epoch:\t 10 Val Loss:\t 0.021564358651016153\n",
      "Epoch:\t 11 Val Loss:\t 0.02157578846054035\n",
      "Epoch:\t 12 Val Loss:\t 0.021564015460889756\n",
      "Epoch:\t 13 Val Loss:\t 0.02157654994754883\n",
      "Epoch:\t 14 Val Loss:\t 0.02156403867668363\n",
      "Epoch:\t 15 Val Loss:\t 0.02155778282598546\n",
      "Epoch:\t 16 Val Loss:\t 0.021573175967672473\n",
      "Epoch:\t 17 Val Loss:\t 0.021572091483644078\n",
      "Epoch:\t 18 Val Loss:\t 0.021572762224255176\n",
      "Epoch:\t 19 Val Loss:\t 0.021574121118070225\n",
      "Epoch:\t 20 Val Loss:\t 0.021573487358290348\n",
      "Epoch:\t 21 Val Loss:\t 0.021584276982955335\n",
      "Epoch:\t 22 Val Loss:\t 0.021573202340694722\n",
      "Epoch:\t 23 Val Loss:\t 0.021572099364755817\n",
      "Epoch:\t 24 Val Loss:\t 0.021589069858934867\n"
     ]
    },
    {
     "name": "stderr",
     "output_type": "stream",
     "text": [
      "[I 2025-06-18 19:06:03,012] Trial 15 finished with value: 0.02155778282598546 and parameters: {'lr': 0.001, 'weight_decay': 1e-05, 'scheduler_factor': 0.5, 'scheduler_patience': 10, 'batch_size': 128, 'dropout': 0.15, 'hidden_dims': 64}. Best is trial 12 with value: 0.021473433613107447.\n"
     ]
    },
    {
     "name": "stdout",
     "output_type": "stream",
     "text": [
      "Epoch:\t 25 Val Loss:\t 0.021574332236789204\n"
     ]
    },
    {
     "name": "stderr",
     "output_type": "stream",
     "text": [
      "[I 2025-06-18 19:06:07,607] Trial 16 pruned. \n"
     ]
    },
    {
     "name": "stdout",
     "output_type": "stream",
     "text": [
      "Epoch:\t 0 Val Loss:\t 0.024570141579614978\n",
      "Epoch:\t 0 Val Loss:\t 0.021823717833891716\n",
      "Epoch:\t 1 Val Loss:\t 0.021689836557210688\n",
      "Epoch:\t 2 Val Loss:\t 0.021663783146509095\n",
      "Epoch:\t 3 Val Loss:\t 0.02163623811403751\n",
      "Epoch:\t 4 Val Loss:\t 0.02160936578325539\n",
      "Epoch:\t 5 Val Loss:\t 0.02161969718730201\n",
      "Epoch:\t 6 Val Loss:\t 0.02163113173883059\n",
      "Epoch:\t 7 Val Loss:\t 0.02161274874865196\n",
      "Epoch:\t 8 Val Loss:\t 0.021619883835698094\n",
      "Epoch:\t 9 Val Loss:\t 0.021616803377615804\n",
      "Epoch:\t 10 Val Loss:\t 0.021603636132925153\n",
      "Epoch:\t 11 Val Loss:\t 0.021598670553974658\n",
      "Epoch:\t 12 Val Loss:\t 0.02159796456515837\n",
      "Epoch:\t 13 Val Loss:\t 0.021600843888932263\n",
      "Epoch:\t 14 Val Loss:\t 0.021595885920388372\n",
      "Epoch:\t 15 Val Loss:\t 0.021604538068426257\n",
      "Epoch:\t 16 Val Loss:\t 0.021601626568839086\n",
      "Epoch:\t 17 Val Loss:\t 0.021586790101329325\n",
      "Epoch:\t 18 Val Loss:\t 0.021590010670059282\n",
      "Epoch:\t 19 Val Loss:\t 0.021592965061270723\n",
      "Epoch:\t 20 Val Loss:\t 0.02160288902102658\n",
      "Epoch:\t 21 Val Loss:\t 0.021595462943100892\n",
      "Epoch:\t 22 Val Loss:\t 0.02161444303876128\n",
      "Epoch:\t 23 Val Loss:\t 0.021610159406015753\n",
      "Epoch:\t 24 Val Loss:\t 0.021593005667532455\n",
      "Epoch:\t 25 Val Loss:\t 0.02160317823589565\n",
      "Epoch:\t 26 Val Loss:\t 0.021604550754428867\n"
     ]
    },
    {
     "name": "stderr",
     "output_type": "stream",
     "text": [
      "[I 2025-06-18 19:08:31,628] Trial 17 finished with value: 0.021586790101329325 and parameters: {'lr': 0.001, 'weight_decay': 1e-05, 'scheduler_factor': 0.8, 'scheduler_patience': 20, 'batch_size': 64, 'dropout': 0.1, 'hidden_dims': 256}. Best is trial 12 with value: 0.021473433613107447.\n"
     ]
    },
    {
     "name": "stdout",
     "output_type": "stream",
     "text": [
      "Epoch:\t 27 Val Loss:\t 0.021594250068343344\n"
     ]
    },
    {
     "name": "stderr",
     "output_type": "stream",
     "text": [
      "[I 2025-06-18 19:08:35,544] Trial 18 pruned. \n"
     ]
    },
    {
     "name": "stdout",
     "output_type": "stream",
     "text": [
      "Epoch:\t 0 Val Loss:\t 0.03395211548031716\n",
      "Epoch:\t 0 Val Loss:\t 0.021708411906131746\n",
      "Epoch:\t 1 Val Loss:\t 0.021678762628536942\n",
      "Epoch:\t 2 Val Loss:\t 0.021652804879817616\n",
      "Epoch:\t 3 Val Loss:\t 0.02165920935489836\n",
      "Epoch:\t 4 Val Loss:\t 0.021667864652653957\n"
     ]
    },
    {
     "name": "stderr",
     "output_type": "stream",
     "text": [
      "[I 2025-06-18 19:10:07,197] Trial 19 pruned. \n"
     ]
    },
    {
     "name": "stdout",
     "output_type": "stream",
     "text": [
      "Epoch:\t 5 Val Loss:\t 0.021658520827055324\n",
      "Epoch:\t 0 Val Loss:\t 0.0221239554260919\n"
     ]
    },
    {
     "name": "stderr",
     "output_type": "stream",
     "text": [
      "[I 2025-06-18 19:10:22,696] Trial 20 pruned. \n"
     ]
    },
    {
     "name": "stdout",
     "output_type": "stream",
     "text": [
      "Epoch:\t 1 Val Loss:\t 0.02197062031464849\n"
     ]
    },
    {
     "name": "stderr",
     "output_type": "stream",
     "text": [
      "[I 2025-06-18 19:10:26,472] Trial 21 pruned. \n"
     ]
    },
    {
     "name": "stdout",
     "output_type": "stream",
     "text": [
      "Epoch:\t 0 Val Loss:\t 0.022349722578786733\n",
      "Epoch:\t 0 Val Loss:\t 0.02223013226319565\n",
      "Epoch:\t 1 Val Loss:\t 0.021679438342658706\n",
      "Epoch:\t 2 Val Loss:\t 0.021639343369064513\n",
      "Epoch:\t 3 Val Loss:\t 0.021631602452018478\n",
      "Epoch:\t 4 Val Loss:\t 0.02161740300276976\n",
      "Epoch:\t 5 Val Loss:\t 0.021598713388771153\n",
      "Epoch:\t 6 Val Loss:\t 0.02161365214370514\n",
      "Epoch:\t 7 Val Loss:\t 0.021595322035169333\n",
      "Epoch:\t 8 Val Loss:\t 0.021599047977244108\n",
      "Epoch:\t 9 Val Loss:\t 0.021599242968984057\n",
      "Epoch:\t 10 Val Loss:\t 0.021586054233448462\n",
      "Epoch:\t 11 Val Loss:\t 0.02157573030893818\n",
      "Epoch:\t 12 Val Loss:\t 0.02158289844017733\n",
      "Epoch:\t 13 Val Loss:\t 0.02159128100110478\n",
      "Epoch:\t 14 Val Loss:\t 0.021590463296894468\n",
      "Epoch:\t 15 Val Loss:\t 0.021578854529925563\n",
      "Epoch:\t 16 Val Loss:\t 0.02157495105953029\n",
      "Epoch:\t 17 Val Loss:\t 0.021583974107286713\n",
      "Epoch:\t 18 Val Loss:\t 0.021601847957454946\n",
      "Epoch:\t 19 Val Loss:\t 0.021580109656765985\n",
      "Epoch:\t 20 Val Loss:\t 0.02159742345169402\n",
      "Epoch:\t 21 Val Loss:\t 0.02157517173962838\n",
      "Epoch:\t 22 Val Loss:\t 0.021591442961538775\n",
      "Epoch:\t 23 Val Loss:\t 0.021553561459168386\n",
      "Epoch:\t 24 Val Loss:\t 0.02154661650749979\n",
      "Epoch:\t 25 Val Loss:\t 0.021533693786393582\n",
      "Epoch:\t 26 Val Loss:\t 0.021535381112684215\n",
      "Epoch:\t 27 Val Loss:\t 0.02151753203001585\n",
      "Epoch:\t 28 Val Loss:\t 0.021527847873097822\n",
      "Epoch:\t 29 Val Loss:\t 0.02152953427255058\n",
      "Epoch:\t 30 Val Loss:\t 0.021539140746810653\n",
      "Epoch:\t 31 Val Loss:\t 0.021525552669722427\n",
      "Epoch:\t 32 Val Loss:\t 0.02151909750702389\n",
      "Epoch:\t 33 Val Loss:\t 0.021523712519825367\n",
      "Epoch:\t 34 Val Loss:\t 0.021518724813555063\n",
      "Epoch:\t 35 Val Loss:\t 0.021530328473946255\n",
      "Epoch:\t 36 Val Loss:\t 0.021528087974934097\n"
     ]
    },
    {
     "name": "stderr",
     "output_type": "stream",
     "text": [
      "[I 2025-06-18 19:12:49,612] Trial 22 finished with value: 0.02151753203001585 and parameters: {'lr': 0.001, 'weight_decay': 1e-05, 'scheduler_factor': 0.5, 'scheduler_patience': 10, 'batch_size': 128, 'dropout': 0.1, 'hidden_dims': 256}. Best is trial 12 with value: 0.021473433613107447.\n"
     ]
    },
    {
     "name": "stdout",
     "output_type": "stream",
     "text": [
      "Epoch:\t 37 Val Loss:\t 0.021525540187309105\n",
      "Epoch:\t 0 Val Loss:\t 0.02220560796259877\n",
      "Epoch:\t 1 Val Loss:\t 0.0217036312538682\n",
      "Epoch:\t 2 Val Loss:\t 0.02164634472928212\n",
      "Epoch:\t 3 Val Loss:\t 0.02166604088622341\n",
      "Epoch:\t 4 Val Loss:\t 0.02161791461727688\n",
      "Epoch:\t 5 Val Loss:\t 0.02159911326549792\n",
      "Epoch:\t 6 Val Loss:\t 0.021592784436781372\n",
      "Epoch:\t 7 Val Loss:\t 0.021596664523953993\n",
      "Epoch:\t 8 Val Loss:\t 0.021598345344440703\n",
      "Epoch:\t 9 Val Loss:\t 0.021596682794619335\n",
      "Epoch:\t 10 Val Loss:\t 0.021581700382631627\n",
      "Epoch:\t 11 Val Loss:\t 0.021585920589406456\n",
      "Epoch:\t 12 Val Loss:\t 0.021585088707566452\n",
      "Epoch:\t 13 Val Loss:\t 0.021584635364253486\n",
      "Epoch:\t 14 Val Loss:\t 0.021586800565162784\n",
      "Epoch:\t 15 Val Loss:\t 0.021574411897009677\n",
      "Epoch:\t 16 Val Loss:\t 0.021570561513496057\n",
      "Epoch:\t 17 Val Loss:\t 0.02158084392762873\n",
      "Epoch:\t 18 Val Loss:\t 0.021584963440942916\n",
      "Epoch:\t 19 Val Loss:\t 0.021581988512608632\n",
      "Epoch:\t 20 Val Loss:\t 0.021571694635584306\n",
      "Epoch:\t 21 Val Loss:\t 0.0215870403710089\n",
      "Epoch:\t 22 Val Loss:\t 0.021586012465948087\n",
      "Epoch:\t 23 Val Loss:\t 0.02157530690846818\n",
      "Epoch:\t 24 Val Loss:\t 0.021584227474863802\n",
      "Epoch:\t 25 Val Loss:\t 0.021572518980139524\n",
      "Epoch:\t 26 Val Loss:\t 0.02156859530467857\n",
      "Epoch:\t 27 Val Loss:\t 0.02157014808101792\n",
      "Epoch:\t 28 Val Loss:\t 0.02153089675412515\n",
      "Epoch:\t 29 Val Loss:\t 0.021532747203881823\n",
      "Epoch:\t 30 Val Loss:\t 0.021526108395732806\n",
      "Epoch:\t 31 Val Loss:\t 0.021521297261047134\n",
      "Epoch:\t 32 Val Loss:\t 0.021523050769541658\n",
      "Epoch:\t 33 Val Loss:\t 0.021530995363695474\n",
      "Epoch:\t 34 Val Loss:\t 0.02152853309928797\n",
      "Epoch:\t 35 Val Loss:\t 0.021525181294755225\n",
      "Epoch:\t 36 Val Loss:\t 0.021526090881486767\n",
      "Epoch:\t 37 Val Loss:\t 0.021521662886629708\n",
      "Epoch:\t 38 Val Loss:\t 0.021523636934701742\n",
      "Epoch:\t 39 Val Loss:\t 0.021521641297286814\n",
      "Epoch:\t 40 Val Loss:\t 0.021517024903197925\n",
      "Epoch:\t 41 Val Loss:\t 0.021524178716286802\n",
      "Epoch:\t 42 Val Loss:\t 0.021527468353916515\n",
      "Epoch:\t 43 Val Loss:\t 0.021516257116681693\n",
      "Epoch:\t 44 Val Loss:\t 0.021521846744355956\n",
      "Epoch:\t 45 Val Loss:\t 0.021532060766822837\n",
      "Epoch:\t 46 Val Loss:\t 0.02151833709634326\n",
      "Epoch:\t 47 Val Loss:\t 0.021511573616540835\n",
      "Epoch:\t 48 Val Loss:\t 0.021520956092025267\n",
      "Epoch:\t 49 Val Loss:\t 0.021518809302301888\n",
      "Epoch:\t 50 Val Loss:\t 0.02152491466143732\n",
      "Epoch:\t 51 Val Loss:\t 0.021512254588246155\n",
      "Epoch:\t 52 Val Loss:\t 0.021522107012390518\n",
      "Epoch:\t 53 Val Loss:\t 0.0215291307901255\n",
      "Epoch:\t 54 Val Loss:\t 0.021517945025983247\n",
      "Epoch:\t 55 Val Loss:\t 0.021525493707884563\n",
      "Epoch:\t 56 Val Loss:\t 0.021518457893216398\n"
     ]
    },
    {
     "name": "stderr",
     "output_type": "stream",
     "text": [
      "[I 2025-06-18 19:16:50,351] Trial 23 finished with value: 0.021511573616540835 and parameters: {'lr': 0.001, 'weight_decay': 1e-05, 'scheduler_factor': 0.5, 'scheduler_patience': 10, 'batch_size': 128, 'dropout': 0.1, 'hidden_dims': 256}. Best is trial 12 with value: 0.021473433613107447.\n"
     ]
    },
    {
     "name": "stdout",
     "output_type": "stream",
     "text": [
      "Epoch:\t 57 Val Loss:\t 0.021519507632783673\n",
      "Epoch:\t 0 Val Loss:\t 0.022083499383653723\n",
      "Epoch:\t 1 Val Loss:\t 0.021690187667814918\n",
      "Epoch:\t 2 Val Loss:\t 0.021644073181201137\n",
      "Epoch:\t 3 Val Loss:\t 0.02162926420150848\n",
      "Epoch:\t 4 Val Loss:\t 0.021613732608181706\n",
      "Epoch:\t 5 Val Loss:\t 0.021607263285792277\n",
      "Epoch:\t 6 Val Loss:\t 0.02159582827102698\n",
      "Epoch:\t 7 Val Loss:\t 0.021599681282574446\n",
      "Epoch:\t 8 Val Loss:\t 0.02159956010001716\n",
      "Epoch:\t 9 Val Loss:\t 0.02159238052681495\n",
      "Epoch:\t 10 Val Loss:\t 0.02158295705818824\n",
      "Epoch:\t 11 Val Loss:\t 0.021591767540162676\n",
      "Epoch:\t 12 Val Loss:\t 0.021598574644131032\n",
      "Epoch:\t 13 Val Loss:\t 0.02159229739543714\n",
      "Epoch:\t 14 Val Loss:\t 0.021590765108194434\n",
      "Epoch:\t 15 Val Loss:\t 0.021570923479563926\n",
      "Epoch:\t 16 Val Loss:\t 0.02157715441028245\n",
      "Epoch:\t 17 Val Loss:\t 0.021576471572942183\n",
      "Epoch:\t 18 Val Loss:\t 0.02157978310188455\n",
      "Epoch:\t 19 Val Loss:\t 0.021582887703806976\n",
      "Epoch:\t 20 Val Loss:\t 0.021570378522811694\n",
      "Epoch:\t 21 Val Loss:\t 0.021595669112035205\n",
      "Epoch:\t 22 Val Loss:\t 0.02158497086461532\n",
      "Epoch:\t 23 Val Loss:\t 0.0215749287167579\n",
      "Epoch:\t 24 Val Loss:\t 0.021595007445465886\n",
      "Epoch:\t 25 Val Loss:\t 0.021574668867295282\n",
      "Epoch:\t 26 Val Loss:\t 0.02158053404088005\n",
      "Epoch:\t 27 Val Loss:\t 0.02153667492155183\n"
     ]
    },
    {
     "name": "stderr",
     "output_type": "stream",
     "text": [
      "[I 2025-06-18 19:18:39,537] Trial 24 pruned. \n"
     ]
    },
    {
     "name": "stdout",
     "output_type": "stream",
     "text": [
      "Epoch:\t 28 Val Loss:\t 0.021539231663626614\n",
      "Epoch:\t 0 Val Loss:\t 0.021859784954867557\n",
      "Epoch:\t 1 Val Loss:\t 0.021643205433068222\n",
      "Epoch:\t 2 Val Loss:\t 0.02162415438959765\n",
      "Epoch:\t 3 Val Loss:\t 0.021603392447556317\n",
      "Epoch:\t 4 Val Loss:\t 0.02160045149069169\n",
      "Epoch:\t 5 Val Loss:\t 0.021602495816187468\n",
      "Epoch:\t 6 Val Loss:\t 0.02159972777313821\n",
      "Epoch:\t 7 Val Loss:\t 0.021605298756573233\n",
      "Epoch:\t 8 Val Loss:\t 0.021611067240142116\n",
      "Epoch:\t 9 Val Loss:\t 0.021610676668697867\n",
      "Epoch:\t 10 Val Loss:\t 0.021612657883832622\n"
     ]
    },
    {
     "name": "stderr",
     "output_type": "stream",
     "text": [
      "[I 2025-06-18 19:19:36,240] Trial 25 pruned. \n"
     ]
    },
    {
     "name": "stdout",
     "output_type": "stream",
     "text": [
      "Epoch:\t 11 Val Loss:\t 0.02160905761780171\n",
      "Epoch:\t 0 Val Loss:\t 0.022202818533390713\n"
     ]
    },
    {
     "name": "stderr",
     "output_type": "stream",
     "text": [
      "[I 2025-06-18 19:19:43,430] Trial 26 pruned. \n"
     ]
    },
    {
     "name": "stdout",
     "output_type": "stream",
     "text": [
      "Epoch:\t 1 Val Loss:\t 0.0223266968285339\n"
     ]
    },
    {
     "name": "stderr",
     "output_type": "stream",
     "text": [
      "[I 2025-06-18 19:19:47,025] Trial 27 pruned. \n"
     ]
    },
    {
     "name": "stdout",
     "output_type": "stream",
     "text": [
      "Epoch:\t 0 Val Loss:\t 0.03406639418072915\n"
     ]
    },
    {
     "name": "stderr",
     "output_type": "stream",
     "text": [
      "[I 2025-06-18 19:19:51,745] Trial 28 pruned. \n"
     ]
    },
    {
     "name": "stdout",
     "output_type": "stream",
     "text": [
      "Epoch:\t 0 Val Loss:\t 0.022785145327831234\n",
      "Epoch:\t 0 Val Loss:\t 0.022195404131935725\n"
     ]
    },
    {
     "name": "stderr",
     "output_type": "stream",
     "text": [
      "[I 2025-06-18 19:19:58,402] Trial 29 pruned. \n"
     ]
    },
    {
     "name": "stdout",
     "output_type": "stream",
     "text": [
      "Epoch:\t 1 Val Loss:\t 0.02239663828272145\n",
      "Epoch:\t 0 Val Loss:\t 0.022141655199819376\n"
     ]
    },
    {
     "name": "stderr",
     "output_type": "stream",
     "text": [
      "[I 2025-06-18 19:20:27,838] Trial 30 pruned. \n"
     ]
    },
    {
     "name": "stdout",
     "output_type": "stream",
     "text": [
      "Epoch:\t 1 Val Loss:\t 0.021747655614402926\n"
     ]
    },
    {
     "name": "stderr",
     "output_type": "stream",
     "text": [
      "[I 2025-06-18 19:20:31,737] Trial 31 pruned. \n"
     ]
    },
    {
     "name": "stdout",
     "output_type": "stream",
     "text": [
      "Epoch:\t 0 Val Loss:\t 0.022377571494678814\n"
     ]
    },
    {
     "name": "stderr",
     "output_type": "stream",
     "text": [
      "[I 2025-06-18 19:20:35,342] Trial 32 pruned. \n"
     ]
    },
    {
     "name": "stdout",
     "output_type": "stream",
     "text": [
      "Epoch:\t 0 Val Loss:\t 0.02233470564657287\n"
     ]
    },
    {
     "name": "stderr",
     "output_type": "stream",
     "text": [
      "[I 2025-06-18 19:20:38,959] Trial 33 pruned. \n"
     ]
    },
    {
     "name": "stdout",
     "output_type": "stream",
     "text": [
      "Epoch:\t 0 Val Loss:\t 0.022279785925082948\n",
      "Epoch:\t 0 Val Loss:\t 0.021737441484758514\n",
      "Epoch:\t 1 Val Loss:\t 0.02166320004823332\n",
      "Epoch:\t 2 Val Loss:\t 0.02165030571137497\n",
      "Epoch:\t 3 Val Loss:\t 0.021642167626213814\n"
     ]
    },
    {
     "name": "stderr",
     "output_type": "stream",
     "text": [
      "[I 2025-06-18 19:21:15,610] Trial 34 pruned. \n"
     ]
    },
    {
     "name": "stdout",
     "output_type": "stream",
     "text": [
      "Epoch:\t 4 Val Loss:\t 0.021661702941408855\n"
     ]
    },
    {
     "name": "stderr",
     "output_type": "stream",
     "text": [
      "[I 2025-06-18 19:21:19,236] Trial 35 pruned. \n"
     ]
    },
    {
     "name": "stdout",
     "output_type": "stream",
     "text": [
      "Epoch:\t 0 Val Loss:\t 0.07379349395273968\n"
     ]
    },
    {
     "name": "stderr",
     "output_type": "stream",
     "text": [
      "[I 2025-06-18 19:21:22,466] Trial 36 pruned. \n"
     ]
    },
    {
     "name": "stdout",
     "output_type": "stream",
     "text": [
      "Epoch:\t 0 Val Loss:\t 0.025658804330363917\n"
     ]
    },
    {
     "name": "stderr",
     "output_type": "stream",
     "text": [
      "[I 2025-06-18 19:21:27,072] Trial 37 pruned. \n"
     ]
    },
    {
     "name": "stdout",
     "output_type": "stream",
     "text": [
      "Epoch:\t 0 Val Loss:\t 0.07858165242405252\n"
     ]
    },
    {
     "name": "stderr",
     "output_type": "stream",
     "text": [
      "[I 2025-06-18 19:21:34,169] Trial 38 pruned. \n"
     ]
    },
    {
     "name": "stdout",
     "output_type": "stream",
     "text": [
      "Epoch:\t 0 Val Loss:\t 0.028552538057964646\n",
      "Epoch:\t 0 Val Loss:\t 0.02183962979450308\n"
     ]
    },
    {
     "name": "stderr",
     "output_type": "stream",
     "text": [
      "[I 2025-06-18 19:21:43,929] Trial 39 pruned. \n"
     ]
    },
    {
     "name": "stdout",
     "output_type": "stream",
     "text": [
      "Epoch:\t 1 Val Loss:\t 0.022059357933455117\n"
     ]
    },
    {
     "name": "stderr",
     "output_type": "stream",
     "text": [
      "[I 2025-06-18 19:21:47,570] Trial 40 pruned. \n"
     ]
    },
    {
     "name": "stdout",
     "output_type": "stream",
     "text": [
      "Epoch:\t 0 Val Loss:\t 0.07347503041379141\n",
      "Epoch:\t 0 Val Loss:\t 0.02216184362589739\n",
      "Epoch:\t 1 Val Loss:\t 0.02168901055082559\n"
     ]
    },
    {
     "name": "stderr",
     "output_type": "stream",
     "text": [
      "[I 2025-06-18 19:21:58,425] Trial 41 pruned. \n"
     ]
    },
    {
     "name": "stdout",
     "output_type": "stream",
     "text": [
      "Epoch:\t 2 Val Loss:\t 0.02167533485766016\n",
      "Epoch:\t 0 Val Loss:\t 0.022199256235007108\n",
      "Epoch:\t 1 Val Loss:\t 0.021687051980946077\n",
      "Epoch:\t 2 Val Loss:\t 0.021652803100035624\n",
      "Epoch:\t 3 Val Loss:\t 0.02163861845029491\n",
      "Epoch:\t 4 Val Loss:\t 0.021619654091652094\n",
      "Epoch:\t 5 Val Loss:\t 0.02161444187535042\n",
      "Epoch:\t 6 Val Loss:\t 0.02160046479842636\n",
      "Epoch:\t 7 Val Loss:\t 0.021599540498891\n",
      "Epoch:\t 8 Val Loss:\t 0.021582615413788232\n",
      "Epoch:\t 9 Val Loss:\t 0.02160536043381806\n",
      "Epoch:\t 10 Val Loss:\t 0.021614606649185835\n",
      "Epoch:\t 11 Val Loss:\t 0.021598233484078563\n",
      "Epoch:\t 12 Val Loss:\t 0.021583115747781472\n",
      "Epoch:\t 13 Val Loss:\t 0.021583970941088937\n",
      "Epoch:\t 14 Val Loss:\t 0.02158752712234257\n",
      "Epoch:\t 15 Val Loss:\t 0.021584298904165983\n",
      "Epoch:\t 16 Val Loss:\t 0.02157384884599028\n",
      "Epoch:\t 17 Val Loss:\t 0.021588612419596455\n",
      "Epoch:\t 18 Val Loss:\t 0.021582809344149325\n",
      "Epoch:\t 19 Val Loss:\t 0.0215931154823418\n",
      "Epoch:\t 20 Val Loss:\t 0.021566748819396162\n",
      "Epoch:\t 21 Val Loss:\t 0.02157572614115754\n",
      "Epoch:\t 22 Val Loss:\t 0.02157709781636587\n",
      "Epoch:\t 23 Val Loss:\t 0.021585695544200954\n",
      "Epoch:\t 24 Val Loss:\t 0.02159976516738175\n",
      "Epoch:\t 25 Val Loss:\t 0.021576290785740124\n",
      "Epoch:\t 26 Val Loss:\t 0.02158228109738704\n",
      "Epoch:\t 27 Val Loss:\t 0.021579876264040006\n"
     ]
    },
    {
     "name": "stderr",
     "output_type": "stream",
     "text": [
      "[I 2025-06-18 19:23:50,882] Trial 42 pruned. \n"
     ]
    },
    {
     "name": "stdout",
     "output_type": "stream",
     "text": [
      "Epoch:\t 28 Val Loss:\t 0.021589429232846485\n"
     ]
    },
    {
     "name": "stderr",
     "output_type": "stream",
     "text": [
      "[I 2025-06-18 19:23:54,801] Trial 43 pruned. \n"
     ]
    },
    {
     "name": "stdout",
     "output_type": "stream",
     "text": [
      "Epoch:\t 0 Val Loss:\t 0.02223027874244733\n"
     ]
    },
    {
     "name": "stderr",
     "output_type": "stream",
     "text": [
      "[I 2025-06-18 19:23:58,321] Trial 44 pruned. \n"
     ]
    },
    {
     "name": "stdout",
     "output_type": "stream",
     "text": [
      "Epoch:\t 0 Val Loss:\t 0.02244011623563299\n"
     ]
    },
    {
     "name": "stderr",
     "output_type": "stream",
     "text": [
      "[I 2025-06-18 19:24:02,444] Trial 45 pruned. \n"
     ]
    },
    {
     "name": "stdout",
     "output_type": "stream",
     "text": [
      "Epoch:\t 0 Val Loss:\t 0.023306118775858732\n",
      "Epoch:\t 0 Val Loss:\t 0.021803598384930786\n",
      "Epoch:\t 1 Val Loss:\t 0.0216417568627485\n",
      "Epoch:\t 2 Val Loss:\t 0.02164741303792646\n",
      "Epoch:\t 3 Val Loss:\t 0.021636421409074843\n",
      "Epoch:\t 4 Val Loss:\t 0.02162912006862611\n"
     ]
    },
    {
     "name": "stderr",
     "output_type": "stream",
     "text": [
      "[I 2025-06-18 19:24:38,934] Trial 46 pruned. \n"
     ]
    },
    {
     "name": "stdout",
     "output_type": "stream",
     "text": [
      "Epoch:\t 5 Val Loss:\t 0.02162757722187396\n"
     ]
    },
    {
     "name": "stderr",
     "output_type": "stream",
     "text": [
      "[I 2025-06-18 19:24:42,813] Trial 47 pruned. \n"
     ]
    },
    {
     "name": "stdout",
     "output_type": "stream",
     "text": [
      "Epoch:\t 0 Val Loss:\t 0.023169266164637683\n",
      "Epoch:\t 0 Val Loss:\t 0.02168268555141963\n",
      "Epoch:\t 1 Val Loss:\t 0.021651375888949633\n",
      "Epoch:\t 2 Val Loss:\t 0.02164347335286446\n",
      "Epoch:\t 3 Val Loss:\t 0.021650022574805097\n",
      "Epoch:\t 4 Val Loss:\t 0.021615192236461266\n",
      "Epoch:\t 5 Val Loss:\t 0.021637124525940302\n",
      "Epoch:\t 6 Val Loss:\t 0.021628348406107934\n"
     ]
    },
    {
     "name": "stderr",
     "output_type": "stream",
     "text": [
      "[I 2025-06-18 19:27:41,797] Trial 48 pruned. \n"
     ]
    },
    {
     "name": "stdout",
     "output_type": "stream",
     "text": [
      "Epoch:\t 7 Val Loss:\t 0.02162882670098843\n"
     ]
    },
    {
     "name": "stderr",
     "output_type": "stream",
     "text": [
      "[I 2025-06-18 19:27:45,903] Trial 49 pruned. \n"
     ]
    },
    {
     "name": "stdout",
     "output_type": "stream",
     "text": [
      "Epoch:\t 0 Val Loss:\t 0.033811658205252206\n",
      "Training model with best parameters on train+validation ...\n"
     ]
    },
    {
     "name": "stderr",
     "output_type": "stream",
     "text": [
      "100%|███████████████████████████████████████████████████████████████████████████████████████████████████████████████████████████████████████████████████████████████████| 401917/401917 [04:06<00:00, 1628.10it/s]\n",
      "100%|███████████████████████████████████████████████████████████████████████████████████████████████████████████████████████████████████████████████████████████████████| 401917/401917 [01:12<00:00, 5530.70it/s]\n"
     ]
    },
    {
     "name": "stdout",
     "output_type": "stream",
     "text": [
      "Getting test set predictions and saving results ...\n"
     ]
    },
    {
     "name": "stderr",
     "output_type": "stream",
     "text": [
      "100%|██████████████████████████████████████████████████████████████████████████████████████████████████████████████████████████████████████████████████████████████████████████| 611/611 [00:02<00:00, 255.13it/s]\n"
     ]
    }
   ],
   "source": [
    "train_different_featno(\n",
    "        adata_path=\"./data/feature_number/sciplex_hvg_5000.h5ad\",\n",
    "        run_name=\"decoder_hvg_5000\",\n",
    "        res_savename=\"./results/feature_number/decoder_hvg_5000_res.pkl\",\n",
    "        output_dim=5000\n",
    "    )"
   ]
  },
  {
   "cell_type": "code",
   "execution_count": 14,
   "id": "27653e27-dc38-4988-8fbc-e178302a0b89",
   "metadata": {},
   "outputs": [
    {
     "name": "stdout",
     "output_type": "stream",
     "text": [
      "Loading Datasets ...\n"
     ]
    },
    {
     "name": "stderr",
     "output_type": "stream",
     "text": [
      "100%|███████████████████████████████████████████████████████████████████████████████████████████████████████████████████████████████████████████████████████████████████| 401917/401917 [03:14<00:00, 2071.37it/s]\n",
      "100%|███████████████████████████████████████████████████████████████████████████████████████████████████████████████████████████████████████████████████████████████████| 401917/401917 [01:14<00:00, 5385.11it/s]\n",
      "[I 2025-06-18 19:41:43,878] A new study created in RDB with name: decoder_hvg_7500\n"
     ]
    },
    {
     "name": "stdout",
     "output_type": "stream",
     "text": [
      "Optimizing Hyperparameters with Optuna ...\n",
      "Epoch:\t 0 Val Loss:\t 0.06992305944586874\n",
      "Epoch:\t 1 Val Loss:\t 0.05165122378725331\n",
      "Epoch:\t 2 Val Loss:\t 0.04232720665370153\n",
      "Epoch:\t 3 Val Loss:\t 0.03748915724192785\n",
      "Epoch:\t 4 Val Loss:\t 0.03461271805922318\n",
      "Epoch:\t 5 Val Loss:\t 0.03269257088614047\n",
      "Epoch:\t 6 Val Loss:\t 0.03149570952322322\n",
      "Epoch:\t 7 Val Loss:\t 0.03059066898545843\n",
      "Epoch:\t 8 Val Loss:\t 0.02989469179314624\n",
      "Epoch:\t 9 Val Loss:\t 0.02930446016419547\n",
      "Epoch:\t 10 Val Loss:\t 0.028828351605695544\n",
      "Epoch:\t 11 Val Loss:\t 0.028476953057278775\n",
      "Epoch:\t 12 Val Loss:\t 0.0281214190533211\n",
      "Epoch:\t 13 Val Loss:\t 0.027877149911795015\n",
      "Epoch:\t 14 Val Loss:\t 0.027639359696932927\n",
      "Epoch:\t 15 Val Loss:\t 0.027443189395537713\n",
      "Epoch:\t 16 Val Loss:\t 0.02731535476527605\n",
      "Epoch:\t 17 Val Loss:\t 0.02717365891076744\n",
      "Epoch:\t 18 Val Loss:\t 0.027065071951106814\n",
      "Epoch:\t 19 Val Loss:\t 0.027093981958662198\n",
      "Epoch:\t 20 Val Loss:\t 0.027078617388125018\n",
      "Epoch:\t 21 Val Loss:\t 0.02706719071295867\n",
      "Epoch:\t 22 Val Loss:\t 0.027084434225292834\n",
      "Epoch:\t 23 Val Loss:\t 0.02708790928029554\n",
      "Epoch:\t 24 Val Loss:\t 0.02708935371070046\n",
      "Epoch:\t 25 Val Loss:\t 0.027039508691650494\n",
      "Epoch:\t 26 Val Loss:\t 0.026984121704360296\n",
      "Epoch:\t 27 Val Loss:\t 0.027041720981047852\n",
      "Epoch:\t 28 Val Loss:\t 0.027058112851293142\n",
      "Epoch:\t 29 Val Loss:\t 0.026992915036498158\n",
      "Epoch:\t 30 Val Loss:\t 0.027067012899222864\n",
      "Epoch:\t 31 Val Loss:\t 0.02705917007310789\n",
      "Epoch:\t 32 Val Loss:\t 0.02704970871017485\n",
      "Epoch:\t 33 Val Loss:\t 0.02709340891678042\n",
      "Epoch:\t 34 Val Loss:\t 0.02705468411087223\n",
      "Epoch:\t 35 Val Loss:\t 0.027058968104877273\n"
     ]
    },
    {
     "name": "stderr",
     "output_type": "stream",
     "text": [
      "[I 2025-06-18 19:44:31,362] Trial 0 finished with value: 0.026984121704360296 and parameters: {'lr': 1e-06, 'weight_decay': 1e-06, 'scheduler_factor': 0.1, 'scheduler_patience': 1, 'batch_size': 256, 'dropout': 0.05, 'hidden_dims': 512}. Best is trial 0 with value: 0.026984121704360296.\n"
     ]
    },
    {
     "name": "stdout",
     "output_type": "stream",
     "text": [
      "Epoch:\t 36 Val Loss:\t 0.027099190160057168\n",
      "Epoch:\t 0 Val Loss:\t 0.025238741826068722\n",
      "Epoch:\t 1 Val Loss:\t 0.025241047170844355\n",
      "Epoch:\t 2 Val Loss:\t 0.025255707150884273\n",
      "Epoch:\t 3 Val Loss:\t 0.0252622515082742\n",
      "Epoch:\t 4 Val Loss:\t 0.025222818888903237\n",
      "Epoch:\t 5 Val Loss:\t 0.025260352940682806\n",
      "Epoch:\t 6 Val Loss:\t 0.02533489977866172\n",
      "Epoch:\t 7 Val Loss:\t 0.025292009261719296\n",
      "Epoch:\t 8 Val Loss:\t 0.02531092098793\n",
      "Epoch:\t 9 Val Loss:\t 0.025316022686289553\n",
      "Epoch:\t 10 Val Loss:\t 0.025258909372753355\n",
      "Epoch:\t 11 Val Loss:\t 0.025310539229388796\n",
      "Epoch:\t 12 Val Loss:\t 0.02525272953770995\n",
      "Epoch:\t 13 Val Loss:\t 0.025264838997448046\n"
     ]
    },
    {
     "name": "stderr",
     "output_type": "stream",
     "text": [
      "[I 2025-06-18 19:45:45,296] Trial 1 finished with value: 0.025222818888903237 and parameters: {'lr': 0.001, 'weight_decay': 0.001, 'scheduler_factor': 0.3, 'scheduler_patience': 20, 'batch_size': 128, 'dropout': 0.2, 'hidden_dims': 64}. Best is trial 1 with value: 0.025222818888903237.\n"
     ]
    },
    {
     "name": "stdout",
     "output_type": "stream",
     "text": [
      "Epoch:\t 14 Val Loss:\t 0.02524129660384517\n",
      "Epoch:\t 0 Val Loss:\t 0.04747472431546622\n",
      "Epoch:\t 1 Val Loss:\t 0.03933981023848632\n",
      "Epoch:\t 2 Val Loss:\t 0.03596402105794459\n",
      "Epoch:\t 3 Val Loss:\t 0.03282707716994155\n",
      "Epoch:\t 4 Val Loss:\t 0.030112216943856986\n",
      "Epoch:\t 5 Val Loss:\t 0.02872901395490315\n",
      "Epoch:\t 6 Val Loss:\t 0.027565380139126655\n",
      "Epoch:\t 7 Val Loss:\t 0.026495681740223785\n",
      "Epoch:\t 8 Val Loss:\t 0.025997360749020454\n",
      "Epoch:\t 9 Val Loss:\t 0.025809447212186656\n",
      "Epoch:\t 10 Val Loss:\t 0.026009826732266372\n",
      "Epoch:\t 11 Val Loss:\t 0.02661282002590477\n",
      "Epoch:\t 12 Val Loss:\t 0.026673389041730444\n",
      "Epoch:\t 13 Val Loss:\t 0.026813143492942837\n",
      "Epoch:\t 14 Val Loss:\t 0.02675711831910434\n",
      "Epoch:\t 15 Val Loss:\t 0.026778173462227228\n",
      "Epoch:\t 16 Val Loss:\t 0.0267552864225731\n",
      "Epoch:\t 17 Val Loss:\t 0.02679110752640238\n",
      "Epoch:\t 18 Val Loss:\t 0.02680907827888846\n"
     ]
    },
    {
     "name": "stderr",
     "output_type": "stream",
     "text": [
      "[I 2025-06-18 19:47:12,880] Trial 2 finished with value: 0.025809447212186656 and parameters: {'lr': 1e-05, 'weight_decay': 0.0001, 'scheduler_factor': 0.1, 'scheduler_patience': 1, 'batch_size': 256, 'dropout': 0.05, 'hidden_dims': 128}. Best is trial 1 with value: 0.025222818888903237.\n"
     ]
    },
    {
     "name": "stdout",
     "output_type": "stream",
     "text": [
      "Epoch:\t 19 Val Loss:\t 0.026828633872881962\n",
      "Epoch:\t 0 Val Loss:\t 0.062452236341988154\n",
      "Epoch:\t 1 Val Loss:\t 0.042925388918431825\n",
      "Epoch:\t 2 Val Loss:\t 0.03623231644844842\n",
      "Epoch:\t 3 Val Loss:\t 0.03372226823681223\n",
      "Epoch:\t 4 Val Loss:\t 0.032193368144766366\n",
      "Epoch:\t 5 Val Loss:\t 0.03117827123445356\n",
      "Epoch:\t 6 Val Loss:\t 0.030303819485770198\n",
      "Epoch:\t 7 Val Loss:\t 0.029711788918875263\n",
      "Epoch:\t 8 Val Loss:\t 0.029390188076632295\n",
      "Epoch:\t 9 Val Loss:\t 0.02895911793804957\n",
      "Epoch:\t 10 Val Loss:\t 0.028542455591127006\n",
      "Epoch:\t 11 Val Loss:\t 0.028374070393477748\n",
      "Epoch:\t 12 Val Loss:\t 0.028003920475114324\n",
      "Epoch:\t 13 Val Loss:\t 0.027881939195559355\n",
      "Epoch:\t 14 Val Loss:\t 0.027805757501679577\n",
      "Epoch:\t 15 Val Loss:\t 0.027829613387286067\n",
      "Epoch:\t 16 Val Loss:\t 0.02723573641720898\n",
      "Epoch:\t 17 Val Loss:\t 0.027296036640126146\n",
      "Epoch:\t 18 Val Loss:\t 0.02707175519205406\n",
      "Epoch:\t 19 Val Loss:\t 0.026722102992998098\n",
      "Epoch:\t 20 Val Loss:\t 0.026894684507696328\n",
      "Epoch:\t 21 Val Loss:\t 0.026985436430824305\n",
      "Epoch:\t 22 Val Loss:\t 0.026537650076295428\n",
      "Epoch:\t 23 Val Loss:\t 0.02666935886672599\n",
      "Epoch:\t 24 Val Loss:\t 0.02655553894046552\n",
      "Epoch:\t 25 Val Loss:\t 0.026716038056150946\n",
      "Epoch:\t 26 Val Loss:\t 0.026473011305641555\n",
      "Epoch:\t 27 Val Loss:\t 0.026595127803529194\n",
      "Epoch:\t 28 Val Loss:\t 0.026463789639169562\n",
      "Epoch:\t 29 Val Loss:\t 0.026247251857975443\n",
      "Epoch:\t 30 Val Loss:\t 0.026386379808157622\n",
      "Epoch:\t 31 Val Loss:\t 0.026471801103654508\n",
      "Epoch:\t 32 Val Loss:\t 0.026187597026298186\n",
      "Epoch:\t 33 Val Loss:\t 0.026219658671555394\n",
      "Epoch:\t 34 Val Loss:\t 0.025907198613684974\n",
      "Epoch:\t 35 Val Loss:\t 0.026056558757512747\n",
      "Epoch:\t 36 Val Loss:\t 0.026274400132004626\n",
      "Epoch:\t 37 Val Loss:\t 0.026074327385885443\n",
      "Epoch:\t 38 Val Loss:\t 0.026153677376453768\n",
      "Epoch:\t 39 Val Loss:\t 0.025894873875952913\n",
      "Epoch:\t 40 Val Loss:\t 0.0262175888233708\n",
      "Epoch:\t 41 Val Loss:\t 0.026252368497167656\n",
      "Epoch:\t 42 Val Loss:\t 0.025921535459095108\n",
      "Epoch:\t 43 Val Loss:\t 0.026136118308725004\n",
      "Epoch:\t 44 Val Loss:\t 0.02596541111672928\n",
      "Epoch:\t 45 Val Loss:\t 0.025800691880211085\n",
      "Epoch:\t 46 Val Loss:\t 0.025833148425650262\n",
      "Epoch:\t 47 Val Loss:\t 0.026204707796773117\n",
      "Epoch:\t 48 Val Loss:\t 0.025898823601927214\n",
      "Epoch:\t 49 Val Loss:\t 0.02601432167740169\n",
      "Epoch:\t 50 Val Loss:\t 0.025770576952962216\n",
      "Epoch:\t 51 Val Loss:\t 0.025733393022346354\n",
      "Epoch:\t 52 Val Loss:\t 0.02588891835513717\n",
      "Epoch:\t 53 Val Loss:\t 0.025963356201807578\n",
      "Epoch:\t 54 Val Loss:\t 0.025915848321929006\n",
      "Epoch:\t 55 Val Loss:\t 0.025744681419405287\n",
      "Epoch:\t 56 Val Loss:\t 0.025988982716399826\n",
      "Epoch:\t 57 Val Loss:\t 0.025678553974968876\n",
      "Epoch:\t 58 Val Loss:\t 0.025845075866771126\n",
      "Epoch:\t 59 Val Loss:\t 0.025778906605017925\n",
      "Epoch:\t 60 Val Loss:\t 0.025701814143356674\n",
      "Epoch:\t 61 Val Loss:\t 0.02552470213141972\n",
      "Epoch:\t 62 Val Loss:\t 0.025775645886042076\n",
      "Epoch:\t 63 Val Loss:\t 0.025724626735659065\n",
      "Epoch:\t 64 Val Loss:\t 0.02556777274038247\n",
      "Epoch:\t 65 Val Loss:\t 0.025613983211393108\n",
      "Epoch:\t 66 Val Loss:\t 0.02549073732269551\n",
      "Epoch:\t 67 Val Loss:\t 0.02570408478618146\n",
      "Epoch:\t 68 Val Loss:\t 0.025509070904406614\n",
      "Epoch:\t 69 Val Loss:\t 0.02546989838770014\n",
      "Epoch:\t 70 Val Loss:\t 0.025594985442523487\n",
      "Epoch:\t 71 Val Loss:\t 0.025382663355113747\n",
      "Epoch:\t 72 Val Loss:\t 0.02528418070059979\n",
      "Epoch:\t 73 Val Loss:\t 0.025301590136332597\n",
      "Epoch:\t 74 Val Loss:\t 0.025603153261697605\n",
      "Epoch:\t 75 Val Loss:\t 0.025209777536456715\n",
      "Epoch:\t 76 Val Loss:\t 0.02533754670846916\n",
      "Epoch:\t 77 Val Loss:\t 0.02523333752651014\n",
      "Epoch:\t 78 Val Loss:\t 0.025306461894798852\n",
      "Epoch:\t 79 Val Loss:\t 0.025600889794722588\n",
      "Epoch:\t 80 Val Loss:\t 0.0252173084989638\n",
      "Epoch:\t 81 Val Loss:\t 0.025237596677037663\n",
      "Epoch:\t 82 Val Loss:\t 0.025208235671650432\n",
      "Epoch:\t 83 Val Loss:\t 0.024831668533877523\n",
      "Epoch:\t 84 Val Loss:\t 0.024981173077124153\n",
      "Epoch:\t 85 Val Loss:\t 0.024983937040956798\n",
      "Epoch:\t 86 Val Loss:\t 0.025211529138839554\n",
      "Epoch:\t 87 Val Loss:\t 0.02504362499486946\n",
      "Epoch:\t 88 Val Loss:\t 0.025108216640227783\n",
      "Epoch:\t 89 Val Loss:\t 0.02507714290089741\n",
      "Epoch:\t 90 Val Loss:\t 0.025389497779414266\n",
      "Epoch:\t 91 Val Loss:\t 0.025077550604431807\n",
      "Epoch:\t 92 Val Loss:\t 0.025048067144497123\n"
     ]
    },
    {
     "name": "stderr",
     "output_type": "stream",
     "text": [
      "[I 2025-06-18 20:05:59,377] Trial 3 finished with value: 0.024831668533877523 and parameters: {'lr': 1e-06, 'weight_decay': 1e-06, 'scheduler_factor': 0.5, 'scheduler_patience': 20, 'batch_size': 32, 'dropout': 0.15, 'hidden_dims': 64}. Best is trial 3 with value: 0.024831668533877523.\n"
     ]
    },
    {
     "name": "stdout",
     "output_type": "stream",
     "text": [
      "Epoch:\t 93 Val Loss:\t 0.025083338446870357\n",
      "Epoch:\t 0 Val Loss:\t 0.022060338848220083\n",
      "Epoch:\t 1 Val Loss:\t 0.021485154803297324\n",
      "Epoch:\t 2 Val Loss:\t 0.021506775434097212\n",
      "Epoch:\t 3 Val Loss:\t 0.021405135189184923\n",
      "Epoch:\t 4 Val Loss:\t 0.021091715819416997\n",
      "Epoch:\t 5 Val Loss:\t 0.020960453295247827\n",
      "Epoch:\t 6 Val Loss:\t 0.020854581683456063\n",
      "Epoch:\t 7 Val Loss:\t 0.020811258629710977\n",
      "Epoch:\t 8 Val Loss:\t 0.020798115618526937\n",
      "Epoch:\t 9 Val Loss:\t 0.02078611450363137\n",
      "Epoch:\t 10 Val Loss:\t 0.02077144238955989\n",
      "Epoch:\t 11 Val Loss:\t 0.02071839375477396\n",
      "Epoch:\t 12 Val Loss:\t 0.020674809010956953\n",
      "Epoch:\t 13 Val Loss:\t 0.020642308821017016\n",
      "Epoch:\t 14 Val Loss:\t 0.02063012482348329\n",
      "Epoch:\t 15 Val Loss:\t 0.020624486243497872\n",
      "Epoch:\t 16 Val Loss:\t 0.020620805342758227\n",
      "Epoch:\t 17 Val Loss:\t 0.02063860983694185\n",
      "Epoch:\t 18 Val Loss:\t 0.02060165785939875\n",
      "Epoch:\t 19 Val Loss:\t 0.020620364579325447\n",
      "Epoch:\t 20 Val Loss:\t 0.02063250810632068\n",
      "Epoch:\t 21 Val Loss:\t 0.020610573980397357\n",
      "Epoch:\t 22 Val Loss:\t 0.02060416637246081\n",
      "Epoch:\t 23 Val Loss:\t 0.020606834092037472\n",
      "Epoch:\t 24 Val Loss:\t 0.02061696560691318\n",
      "Epoch:\t 25 Val Loss:\t 0.02060147715445033\n",
      "Epoch:\t 26 Val Loss:\t 0.020603041918220405\n",
      "Epoch:\t 27 Val Loss:\t 0.0206108270578818\n",
      "Epoch:\t 28 Val Loss:\t 0.0206140279135329\n",
      "Epoch:\t 29 Val Loss:\t 0.020609210651435093\n",
      "Epoch:\t 30 Val Loss:\t 0.02060782934701395\n",
      "Epoch:\t 31 Val Loss:\t 0.02060972503899692\n",
      "Epoch:\t 32 Val Loss:\t 0.020603318896913577\n",
      "Epoch:\t 33 Val Loss:\t 0.020605655457966315\n",
      "Epoch:\t 34 Val Loss:\t 0.02060512870378449\n",
      "Epoch:\t 35 Val Loss:\t 0.020597989248757612\n",
      "Epoch:\t 36 Val Loss:\t 0.02060246801074736\n",
      "Epoch:\t 37 Val Loss:\t 0.02060117820065043\n",
      "Epoch:\t 38 Val Loss:\t 0.02060867450377327\n",
      "Epoch:\t 39 Val Loss:\t 0.0206018750583809\n",
      "Epoch:\t 40 Val Loss:\t 0.020599440719656095\n",
      "Epoch:\t 41 Val Loss:\t 0.020605708621740937\n",
      "Epoch:\t 42 Val Loss:\t 0.020603359704146642\n",
      "Epoch:\t 43 Val Loss:\t 0.020606585469970365\n",
      "Epoch:\t 44 Val Loss:\t 0.02060916288186589\n"
     ]
    },
    {
     "name": "stderr",
     "output_type": "stream",
     "text": [
      "[I 2025-06-18 20:16:47,005] Trial 4 finished with value: 0.020597989248757612 and parameters: {'lr': 1e-05, 'weight_decay': 0.0001, 'scheduler_factor': 0.5, 'scheduler_patience': 1, 'batch_size': 32, 'dropout': 0.15, 'hidden_dims': 1024}. Best is trial 4 with value: 0.020597989248757612.\n"
     ]
    },
    {
     "name": "stdout",
     "output_type": "stream",
     "text": [
      "Epoch:\t 45 Val Loss:\t 0.02060344615103845\n",
      "Epoch:\t 0 Val Loss:\t 0.02079214788323962\n",
      "Epoch:\t 1 Val Loss:\t 0.020751140176118364\n",
      "Epoch:\t 2 Val Loss:\t 0.02072929340205524\n",
      "Epoch:\t 3 Val Loss:\t 0.02075818699954943\n",
      "Epoch:\t 4 Val Loss:\t 0.0207367137681295\n",
      "Epoch:\t 5 Val Loss:\t 0.020744143818764296\n",
      "Epoch:\t 6 Val Loss:\t 0.02074761172180704\n",
      "Epoch:\t 7 Val Loss:\t 0.02074041196143811\n",
      "Epoch:\t 8 Val Loss:\t 0.02074322511280223\n",
      "Epoch:\t 9 Val Loss:\t 0.02066144764578622\n",
      "Epoch:\t 10 Val Loss:\t 0.020658883950041403\n",
      "Epoch:\t 11 Val Loss:\t 0.020666749712226803\n",
      "Epoch:\t 12 Val Loss:\t 0.02066873120111541\n",
      "Epoch:\t 13 Val Loss:\t 0.0206619710703456\n",
      "Epoch:\t 14 Val Loss:\t 0.020673126563731378\n",
      "Epoch:\t 15 Val Loss:\t 0.020656491976109675\n",
      "Epoch:\t 16 Val Loss:\t 0.020675115170305475\n",
      "Epoch:\t 17 Val Loss:\t 0.020649816431299203\n",
      "Epoch:\t 18 Val Loss:\t 0.02065388742010302\n",
      "Epoch:\t 19 Val Loss:\t 0.020656938620950662\n",
      "Epoch:\t 20 Val Loss:\t 0.020661191120064527\n",
      "Epoch:\t 21 Val Loss:\t 0.020670002130625472\n",
      "Epoch:\t 22 Val Loss:\t 0.020669502922878835\n",
      "Epoch:\t 23 Val Loss:\t 0.02066084444209369\n",
      "Epoch:\t 24 Val Loss:\t 0.020621781007904932\n",
      "Epoch:\t 25 Val Loss:\t 0.020623572859476465\n",
      "Epoch:\t 26 Val Loss:\t 0.02062296272413904\n",
      "Epoch:\t 27 Val Loss:\t 0.02063108101543886\n",
      "Epoch:\t 28 Val Loss:\t 0.020628746767085926\n",
      "Epoch:\t 29 Val Loss:\t 0.020624650105799672\n",
      "Epoch:\t 30 Val Loss:\t 0.020624212714658904\n",
      "Epoch:\t 31 Val Loss:\t 0.020601312007939403\n",
      "Epoch:\t 32 Val Loss:\t 0.02060260832536629\n",
      "Epoch:\t 33 Val Loss:\t 0.020603298479804973\n",
      "Epoch:\t 34 Val Loss:\t 0.02060493228793222\n",
      "Epoch:\t 35 Val Loss:\t 0.020603561664548384\n",
      "Epoch:\t 36 Val Loss:\t 0.020609902522889245\n",
      "Epoch:\t 37 Val Loss:\t 0.020601519202860904\n",
      "Epoch:\t 38 Val Loss:\t 0.02059095070748309\n",
      "Epoch:\t 39 Val Loss:\t 0.020588280302249424\n",
      "Epoch:\t 40 Val Loss:\t 0.020596065241832266\n",
      "Epoch:\t 41 Val Loss:\t 0.020594188494917936\n",
      "Epoch:\t 42 Val Loss:\t 0.020597515160494424\n",
      "Epoch:\t 43 Val Loss:\t 0.020601013942917037\n",
      "Epoch:\t 44 Val Loss:\t 0.020599543911344637\n",
      "Epoch:\t 45 Val Loss:\t 0.020595689172806315\n",
      "Epoch:\t 46 Val Loss:\t 0.02059320949892784\n",
      "Epoch:\t 47 Val Loss:\t 0.020600705261078562\n",
      "Epoch:\t 48 Val Loss:\t 0.020597572288951947\n"
     ]
    },
    {
     "name": "stderr",
     "output_type": "stream",
     "text": [
      "[I 2025-06-18 20:55:02,319] Trial 5 finished with value: 0.020588280302249424 and parameters: {'lr': 0.001, 'weight_decay': 1e-05, 'scheduler_factor': 0.5, 'scheduler_patience': 5, 'batch_size': 16, 'dropout': 0.15, 'hidden_dims': 512}. Best is trial 5 with value: 0.020588280302249424.\n"
     ]
    },
    {
     "name": "stdout",
     "output_type": "stream",
     "text": [
      "Epoch:\t 49 Val Loss:\t 0.02060361068409912\n"
     ]
    },
    {
     "name": "stderr",
     "output_type": "stream",
     "text": [
      "[I 2025-06-18 20:55:07,476] Trial 6 pruned. \n"
     ]
    },
    {
     "name": "stdout",
     "output_type": "stream",
     "text": [
      "Epoch:\t 0 Val Loss:\t 0.07084637621591329\n",
      "Epoch:\t 0 Val Loss:\t 0.025295784892611438\n",
      "Epoch:\t 1 Val Loss:\t 0.022609151365069646\n",
      "Epoch:\t 2 Val Loss:\t 0.021624707082867525\n",
      "Epoch:\t 3 Val Loss:\t 0.021353568031834236\n",
      "Epoch:\t 4 Val Loss:\t 0.0212696810949776\n",
      "Epoch:\t 5 Val Loss:\t 0.02117333526528159\n",
      "Epoch:\t 6 Val Loss:\t 0.02109623516505732\n",
      "Epoch:\t 7 Val Loss:\t 0.021078009531798128\n",
      "Epoch:\t 8 Val Loss:\t 0.021011000097323727\n",
      "Epoch:\t 9 Val Loss:\t 0.02099727493140969\n",
      "Epoch:\t 10 Val Loss:\t 0.020943898789781805\n",
      "Epoch:\t 11 Val Loss:\t 0.020938312734903673\n",
      "Epoch:\t 12 Val Loss:\t 0.020887579143035382\n",
      "Epoch:\t 13 Val Loss:\t 0.020851065911824646\n",
      "Epoch:\t 14 Val Loss:\t 0.020843325698122372\n",
      "Epoch:\t 15 Val Loss:\t 0.020815989827108364\n",
      "Epoch:\t 16 Val Loss:\t 0.020807615468620585\n",
      "Epoch:\t 17 Val Loss:\t 0.02079067979704024\n",
      "Epoch:\t 18 Val Loss:\t 0.020771055626470084\n",
      "Epoch:\t 19 Val Loss:\t 0.020761285141504757\n",
      "Epoch:\t 20 Val Loss:\t 0.020737672208210135\n",
      "Epoch:\t 21 Val Loss:\t 0.020710636030377726\n",
      "Epoch:\t 22 Val Loss:\t 0.02070274227018727\n",
      "Epoch:\t 23 Val Loss:\t 0.020691704015458882\n",
      "Epoch:\t 24 Val Loss:\t 0.02067497217431724\n",
      "Epoch:\t 25 Val Loss:\t 0.020670095415309418\n",
      "Epoch:\t 26 Val Loss:\t 0.02065455579402787\n",
      "Epoch:\t 27 Val Loss:\t 0.020650134794563412\n",
      "Epoch:\t 28 Val Loss:\t 0.020643978052546287\n",
      "Epoch:\t 29 Val Loss:\t 0.020633360796698398\n",
      "Epoch:\t 30 Val Loss:\t 0.020623577878165933\n",
      "Epoch:\t 31 Val Loss:\t 0.020616170555150023\n",
      "Epoch:\t 32 Val Loss:\t 0.020619084119031978\n",
      "Epoch:\t 33 Val Loss:\t 0.020612388628190675\n",
      "Epoch:\t 34 Val Loss:\t 0.020603311683537486\n",
      "Epoch:\t 35 Val Loss:\t 0.02059569337077397\n",
      "Epoch:\t 36 Val Loss:\t 0.020597731382395616\n",
      "Epoch:\t 37 Val Loss:\t 0.02058495790118825\n",
      "Epoch:\t 38 Val Loss:\t 0.020588761769121614\n",
      "Epoch:\t 39 Val Loss:\t 0.020581667754371927\n",
      "Epoch:\t 40 Val Loss:\t 0.020585097157438947\n",
      "Epoch:\t 41 Val Loss:\t 0.020595127528454174\n",
      "Epoch:\t 42 Val Loss:\t 0.020590060226971758\n",
      "Epoch:\t 43 Val Loss:\t 0.02058529842319303\n",
      "Epoch:\t 44 Val Loss:\t 0.02058146089022649\n",
      "Epoch:\t 45 Val Loss:\t 0.020576628698775457\n",
      "Epoch:\t 46 Val Loss:\t 0.02057562951736433\n",
      "Epoch:\t 47 Val Loss:\t 0.02057764212860044\n",
      "Epoch:\t 48 Val Loss:\t 0.02057707074016882\n",
      "Epoch:\t 49 Val Loss:\t 0.02057003647495291\n",
      "Epoch:\t 50 Val Loss:\t 0.020572673982724773\n",
      "Epoch:\t 51 Val Loss:\t 0.020572150418864982\n",
      "Epoch:\t 52 Val Loss:\t 0.02057451413497747\n",
      "Epoch:\t 53 Val Loss:\t 0.020568384075688187\n",
      "Epoch:\t 54 Val Loss:\t 0.02056408457983802\n",
      "Epoch:\t 55 Val Loss:\t 0.02057140829891516\n",
      "Epoch:\t 56 Val Loss:\t 0.020571545774674262\n",
      "Epoch:\t 57 Val Loss:\t 0.020571253429007893\n",
      "Epoch:\t 58 Val Loss:\t 0.020568048330539213\n",
      "Epoch:\t 59 Val Loss:\t 0.020573645259560635\n",
      "Epoch:\t 60 Val Loss:\t 0.020569464711602346\n",
      "Epoch:\t 61 Val Loss:\t 0.020567861483480897\n",
      "Epoch:\t 62 Val Loss:\t 0.020569552860873263\n",
      "Epoch:\t 63 Val Loss:\t 0.020564438900652654\n"
     ]
    },
    {
     "name": "stderr",
     "output_type": "stream",
     "text": [
      "[I 2025-06-18 21:02:20,079] Trial 7 finished with value: 0.02056408457983802 and parameters: {'lr': 0.0001, 'weight_decay': 1e-06, 'scheduler_factor': 0.5, 'scheduler_patience': 10, 'batch_size': 64, 'dropout': 0.05, 'hidden_dims': 64}. Best is trial 7 with value: 0.02056408457983802.\n"
     ]
    },
    {
     "name": "stdout",
     "output_type": "stream",
     "text": [
      "Epoch:\t 64 Val Loss:\t 0.02057393499274395\n"
     ]
    },
    {
     "name": "stderr",
     "output_type": "stream",
     "text": [
      "[I 2025-06-18 21:02:39,012] Trial 8 pruned. \n"
     ]
    },
    {
     "name": "stdout",
     "output_type": "stream",
     "text": [
      "Epoch:\t 0 Val Loss:\t 0.037129735471122825\n",
      "Epoch:\t 0 Val Loss:\t 0.020874263623165704\n",
      "Epoch:\t 1 Val Loss:\t 0.02083795190805603\n",
      "Epoch:\t 2 Val Loss:\t 0.020883061798785876\n",
      "Epoch:\t 3 Val Loss:\t 0.020862523651493336\n",
      "Epoch:\t 4 Val Loss:\t 0.020842358568507826\n",
      "Epoch:\t 5 Val Loss:\t 0.02089584967483559\n",
      "Epoch:\t 6 Val Loss:\t 0.02084711118935344\n",
      "Epoch:\t 7 Val Loss:\t 0.02088907634678907\n",
      "Epoch:\t 8 Val Loss:\t 0.020805501426478665\n",
      "Epoch:\t 9 Val Loss:\t 0.020752545181131794\n",
      "Epoch:\t 10 Val Loss:\t 0.02076608682189413\n",
      "Epoch:\t 11 Val Loss:\t 0.020793967119572994\n",
      "Epoch:\t 12 Val Loss:\t 0.020702023356257076\n",
      "Epoch:\t 13 Val Loss:\t 0.020785941001408563\n",
      "Epoch:\t 14 Val Loss:\t 0.020752706737789457\n",
      "Epoch:\t 15 Val Loss:\t 0.0207831883832872\n",
      "Epoch:\t 16 Val Loss:\t 0.020787987115238615\n",
      "Epoch:\t 17 Val Loss:\t 0.02074586816341103\n",
      "Epoch:\t 18 Val Loss:\t 0.020757223033758706\n",
      "Epoch:\t 19 Val Loss:\t 0.020703701498005576\n",
      "Epoch:\t 20 Val Loss:\t 0.020683236314890857\n",
      "Epoch:\t 21 Val Loss:\t 0.020701797828003615\n",
      "Epoch:\t 22 Val Loss:\t 0.020714007641649795\n",
      "Epoch:\t 23 Val Loss:\t 0.020706281153287345\n"
     ]
    },
    {
     "name": "stderr",
     "output_type": "stream",
     "text": [
      "[I 2025-06-18 21:07:04,725] Trial 9 pruned. \n"
     ]
    },
    {
     "name": "stdout",
     "output_type": "stream",
     "text": [
      "Epoch:\t 24 Val Loss:\t 0.02070677822758117\n",
      "Epoch:\t 0 Val Loss:\t 0.02345242746825589\n",
      "Epoch:\t 1 Val Loss:\t 0.022035456990708135\n",
      "Epoch:\t 2 Val Loss:\t 0.021501049820599596\n",
      "Epoch:\t 3 Val Loss:\t 0.0213129650487743\n",
      "Epoch:\t 4 Val Loss:\t 0.021239726612256257\n",
      "Epoch:\t 5 Val Loss:\t 0.021246644828853935\n",
      "Epoch:\t 6 Val Loss:\t 0.021224143788660634\n",
      "Epoch:\t 7 Val Loss:\t 0.021221598819400084\n",
      "Epoch:\t 8 Val Loss:\t 0.021166070938743682\n",
      "Epoch:\t 9 Val Loss:\t 0.021230428495295734\n",
      "Epoch:\t 10 Val Loss:\t 0.02115978240076551\n",
      "Epoch:\t 11 Val Loss:\t 0.02108495200759378\n",
      "Epoch:\t 12 Val Loss:\t 0.021062984977458225\n",
      "Epoch:\t 13 Val Loss:\t 0.020994086928348973\n",
      "Epoch:\t 14 Val Loss:\t 0.02099314505277678\n",
      "Epoch:\t 15 Val Loss:\t 0.020952840321476974\n",
      "Epoch:\t 16 Val Loss:\t 0.02099372642062479\n",
      "Epoch:\t 17 Val Loss:\t 0.020917552958728793\n",
      "Epoch:\t 18 Val Loss:\t 0.020872194924912362\n",
      "Epoch:\t 19 Val Loss:\t 0.020845698593027512\n"
     ]
    },
    {
     "name": "stderr",
     "output_type": "stream",
     "text": [
      "[I 2025-06-18 21:09:26,055] Trial 10 pruned. \n"
     ]
    },
    {
     "name": "stdout",
     "output_type": "stream",
     "text": [
      "Epoch:\t 20 Val Loss:\t 0.020803277926712202\n",
      "Epoch:\t 0 Val Loss:\t 0.020924449629971188\n",
      "Epoch:\t 1 Val Loss:\t 0.02072118711121346\n",
      "Epoch:\t 2 Val Loss:\t 0.020622003550335773\n",
      "Epoch:\t 3 Val Loss:\t 0.020588735088279075\n",
      "Epoch:\t 4 Val Loss:\t 0.02058767410529995\n",
      "Epoch:\t 5 Val Loss:\t 0.020580059254030336\n",
      "Epoch:\t 6 Val Loss:\t 0.020576205714959356\n",
      "Epoch:\t 7 Val Loss:\t 0.02058462280984591\n",
      "Epoch:\t 8 Val Loss:\t 0.020577650867474206\n",
      "Epoch:\t 9 Val Loss:\t 0.020577045339487152\n",
      "Epoch:\t 10 Val Loss:\t 0.020585091942087175\n",
      "Epoch:\t 11 Val Loss:\t 0.0205758512449292\n",
      "Epoch:\t 12 Val Loss:\t 0.020584524454456774\n",
      "Epoch:\t 13 Val Loss:\t 0.020564111601617287\n",
      "Epoch:\t 14 Val Loss:\t 0.020563853764281416\n",
      "Epoch:\t 15 Val Loss:\t 0.020565007467504327\n",
      "Epoch:\t 16 Val Loss:\t 0.020566399838231268\n",
      "Epoch:\t 17 Val Loss:\t 0.020561004224907142\n",
      "Epoch:\t 18 Val Loss:\t 0.020564810981766133\n",
      "Epoch:\t 19 Val Loss:\t 0.02056361960410994\n",
      "Epoch:\t 20 Val Loss:\t 0.020563437177965157\n",
      "Epoch:\t 21 Val Loss:\t 0.02056419154197318\n",
      "Epoch:\t 22 Val Loss:\t 0.020582432390092324\n",
      "Epoch:\t 23 Val Loss:\t 0.020564979574290588\n",
      "Epoch:\t 24 Val Loss:\t 0.020558146541358603\n",
      "Epoch:\t 25 Val Loss:\t 0.0205539322262837\n",
      "Epoch:\t 26 Val Loss:\t 0.02055471736480217\n",
      "Epoch:\t 27 Val Loss:\t 0.02055536053064883\n",
      "Epoch:\t 28 Val Loss:\t 0.020567908871525563\n",
      "Epoch:\t 29 Val Loss:\t 0.02056005570729267\n",
      "Epoch:\t 30 Val Loss:\t 0.02056314971986908\n",
      "Epoch:\t 31 Val Loss:\t 0.020557377434613125\n",
      "Epoch:\t 32 Val Loss:\t 0.020558908186700666\n",
      "Epoch:\t 33 Val Loss:\t 0.02055634164828542\n",
      "Epoch:\t 34 Val Loss:\t 0.020555598433651037\n"
     ]
    },
    {
     "name": "stderr",
     "output_type": "stream",
     "text": [
      "[I 2025-06-18 21:22:10,628] Trial 11 finished with value: 0.0205539322262837 and parameters: {'lr': 0.0001, 'weight_decay': 1e-05, 'scheduler_factor': 0.5, 'scheduler_patience': 5, 'batch_size': 16, 'dropout': 0.1, 'hidden_dims': 64}. Best is trial 11 with value: 0.0205539322262837.\n"
     ]
    },
    {
     "name": "stdout",
     "output_type": "stream",
     "text": [
      "Epoch:\t 35 Val Loss:\t 0.02055928804912606\n",
      "Epoch:\t 0 Val Loss:\t 0.022453323680289097\n",
      "Epoch:\t 1 Val Loss:\t 0.02128024194942251\n",
      "Epoch:\t 2 Val Loss:\t 0.020974526021991048\n",
      "Epoch:\t 3 Val Loss:\t 0.020834214774758796\n",
      "Epoch:\t 4 Val Loss:\t 0.020758026604389034\n",
      "Epoch:\t 5 Val Loss:\t 0.020681930371315937\n",
      "Epoch:\t 6 Val Loss:\t 0.020631369025578668\n",
      "Epoch:\t 7 Val Loss:\t 0.02061019062924213\n",
      "Epoch:\t 8 Val Loss:\t 0.020592789055888617\n",
      "Epoch:\t 9 Val Loss:\t 0.02058516042613228\n",
      "Epoch:\t 10 Val Loss:\t 0.020574159478080112\n",
      "Epoch:\t 11 Val Loss:\t 0.020571431387051545\n",
      "Epoch:\t 12 Val Loss:\t 0.020562804507953506\n",
      "Epoch:\t 13 Val Loss:\t 0.02056841544789033\n",
      "Epoch:\t 14 Val Loss:\t 0.020559540406801552\n",
      "Epoch:\t 15 Val Loss:\t 0.020557300358676107\n",
      "Epoch:\t 16 Val Loss:\t 0.020561530630447047\n",
      "Epoch:\t 17 Val Loss:\t 0.020562116077592493\n",
      "Epoch:\t 18 Val Loss:\t 0.020556568982917592\n",
      "Epoch:\t 19 Val Loss:\t 0.020558961782882284\n",
      "Epoch:\t 20 Val Loss:\t 0.020558346809749137\n",
      "Epoch:\t 21 Val Loss:\t 0.02056478360502024\n",
      "Epoch:\t 22 Val Loss:\t 0.02055502545802519\n",
      "Epoch:\t 23 Val Loss:\t 0.02055612846808665\n",
      "Epoch:\t 24 Val Loss:\t 0.02055021312234157\n",
      "Epoch:\t 25 Val Loss:\t 0.020557714487278854\n",
      "Epoch:\t 26 Val Loss:\t 0.020555338035871625\n",
      "Epoch:\t 27 Val Loss:\t 0.020561462323500236\n",
      "Epoch:\t 28 Val Loss:\t 0.020552179666345084\n",
      "Epoch:\t 29 Val Loss:\t 0.020560092958169837\n",
      "Epoch:\t 30 Val Loss:\t 0.020553226616314247\n",
      "Epoch:\t 31 Val Loss:\t 0.02055243000316448\n",
      "Epoch:\t 32 Val Loss:\t 0.02055454229056214\n",
      "Epoch:\t 33 Val Loss:\t 0.020564338795798918\n"
     ]
    },
    {
     "name": "stderr",
     "output_type": "stream",
     "text": [
      "[I 2025-06-18 21:25:55,856] Trial 12 finished with value: 0.02055021312234157 and parameters: {'lr': 0.0001, 'weight_decay': 1e-05, 'scheduler_factor': 0.5, 'scheduler_patience': 10, 'batch_size': 64, 'dropout': 0.1, 'hidden_dims': 64}. Best is trial 12 with value: 0.02055021312234157.\n"
     ]
    },
    {
     "name": "stdout",
     "output_type": "stream",
     "text": [
      "Epoch:\t 34 Val Loss:\t 0.02055948439749509\n",
      "Epoch:\t 0 Val Loss:\t 0.022517464566548632\n",
      "Epoch:\t 1 Val Loss:\t 0.021200750862586566\n",
      "Epoch:\t 2 Val Loss:\t 0.020914686222373243\n",
      "Epoch:\t 3 Val Loss:\t 0.020789851822144236\n",
      "Epoch:\t 4 Val Loss:\t 0.020707186707314147\n",
      "Epoch:\t 5 Val Loss:\t 0.020647679244219636\n",
      "Epoch:\t 6 Val Loss:\t 0.020628227639432516\n",
      "Epoch:\t 7 Val Loss:\t 0.020606898809480686\n",
      "Epoch:\t 8 Val Loss:\t 0.020588503865212944\n",
      "Epoch:\t 9 Val Loss:\t 0.02057951497124641\n",
      "Epoch:\t 10 Val Loss:\t 0.02057470915855507\n",
      "Epoch:\t 11 Val Loss:\t 0.020572615838172728\n",
      "Epoch:\t 12 Val Loss:\t 0.020561518619597294\n",
      "Epoch:\t 13 Val Loss:\t 0.020563924625372543\n",
      "Epoch:\t 14 Val Loss:\t 0.020558720082642083\n",
      "Epoch:\t 15 Val Loss:\t 0.0205634369947309\n",
      "Epoch:\t 16 Val Loss:\t 0.020552855972335065\n",
      "Epoch:\t 17 Val Loss:\t 0.020557792721362524\n",
      "Epoch:\t 18 Val Loss:\t 0.020560312137880035\n",
      "Epoch:\t 19 Val Loss:\t 0.020554201858179418\n",
      "Epoch:\t 20 Val Loss:\t 0.020549489994799986\n",
      "Epoch:\t 21 Val Loss:\t 0.02055475458729812\n",
      "Epoch:\t 22 Val Loss:\t 0.02055274636306185\n",
      "Epoch:\t 23 Val Loss:\t 0.020560224257475296\n",
      "Epoch:\t 24 Val Loss:\t 0.02055411591659858\n",
      "Epoch:\t 25 Val Loss:\t 0.020553395749572382\n",
      "Epoch:\t 26 Val Loss:\t 0.020554854565187273\n",
      "Epoch:\t 27 Val Loss:\t 0.020557165956953668\n",
      "Epoch:\t 28 Val Loss:\t 0.020558981634168597\n",
      "Epoch:\t 29 Val Loss:\t 0.02055294739729228\n"
     ]
    },
    {
     "name": "stderr",
     "output_type": "stream",
     "text": [
      "[I 2025-06-18 21:29:15,080] Trial 13 finished with value: 0.020549489994799986 and parameters: {'lr': 0.0001, 'weight_decay': 1e-05, 'scheduler_factor': 0.3, 'scheduler_patience': 10, 'batch_size': 64, 'dropout': 0.1, 'hidden_dims': 64}. Best is trial 13 with value: 0.020549489994799986.\n"
     ]
    },
    {
     "name": "stdout",
     "output_type": "stream",
     "text": [
      "Epoch:\t 30 Val Loss:\t 0.02056393274513119\n",
      "Epoch:\t 0 Val Loss:\t 0.02219326387860819\n",
      "Epoch:\t 1 Val Loss:\t 0.021090883459916762\n",
      "Epoch:\t 2 Val Loss:\t 0.020916765377988984\n",
      "Epoch:\t 3 Val Loss:\t 0.020820059034593982\n",
      "Epoch:\t 4 Val Loss:\t 0.02073704942451445\n",
      "Epoch:\t 5 Val Loss:\t 0.020666870945779296\n",
      "Epoch:\t 6 Val Loss:\t 0.020626801361106544\n",
      "Epoch:\t 7 Val Loss:\t 0.02060988483279824\n",
      "Epoch:\t 8 Val Loss:\t 0.020595020800530193\n",
      "Epoch:\t 9 Val Loss:\t 0.020578063574844395\n",
      "Epoch:\t 10 Val Loss:\t 0.02057196282644987\n",
      "Epoch:\t 11 Val Loss:\t 0.02058005955670725\n",
      "Epoch:\t 12 Val Loss:\t 0.020565072403146728\n",
      "Epoch:\t 13 Val Loss:\t 0.020567850071605245\n",
      "Epoch:\t 14 Val Loss:\t 0.02055965965492733\n",
      "Epoch:\t 15 Val Loss:\t 0.020558332063932847\n",
      "Epoch:\t 16 Val Loss:\t 0.02055287546513314\n",
      "Epoch:\t 17 Val Loss:\t 0.020559213066708115\n",
      "Epoch:\t 18 Val Loss:\t 0.02055554653711336\n",
      "Epoch:\t 19 Val Loss:\t 0.020561579399784757\n",
      "Epoch:\t 20 Val Loss:\t 0.020559698446342346\n",
      "Epoch:\t 21 Val Loss:\t 0.020556520528750795\n",
      "Epoch:\t 22 Val Loss:\t 0.02055611441086652\n",
      "Epoch:\t 23 Val Loss:\t 0.020558923895156372\n",
      "Epoch:\t 24 Val Loss:\t 0.020558914847809407\n",
      "Epoch:\t 25 Val Loss:\t 0.020557974631739025\n"
     ]
    },
    {
     "name": "stderr",
     "output_type": "stream",
     "text": [
      "[I 2025-06-18 21:33:26,601] Trial 14 finished with value: 0.02055287546513314 and parameters: {'lr': 0.0001, 'weight_decay': 1e-05, 'scheduler_factor': 0.3, 'scheduler_patience': 10, 'batch_size': 64, 'dropout': 0.1, 'hidden_dims': 64}. Best is trial 13 with value: 0.020549489994799986.\n"
     ]
    },
    {
     "name": "stdout",
     "output_type": "stream",
     "text": [
      "Epoch:\t 26 Val Loss:\t 0.020558732534133633\n",
      "Epoch:\t 0 Val Loss:\t 0.02167186034961328\n",
      "Epoch:\t 1 Val Loss:\t 0.020953886104865656\n",
      "Epoch:\t 2 Val Loss:\t 0.020802564996667355\n",
      "Epoch:\t 3 Val Loss:\t 0.020703847172767905\n",
      "Epoch:\t 4 Val Loss:\t 0.020629334551040993\n",
      "Epoch:\t 5 Val Loss:\t 0.02059170642289622\n",
      "Epoch:\t 6 Val Loss:\t 0.020583118133563564\n",
      "Epoch:\t 7 Val Loss:\t 0.020574284780176047\n",
      "Epoch:\t 8 Val Loss:\t 0.02057074065489729\n",
      "Epoch:\t 9 Val Loss:\t 0.020571703452739412\n",
      "Epoch:\t 10 Val Loss:\t 0.02056792728549113\n",
      "Epoch:\t 11 Val Loss:\t 0.020576200608549446\n",
      "Epoch:\t 12 Val Loss:\t 0.02056781295612275\n",
      "Epoch:\t 13 Val Loss:\t 0.02056282469980365\n",
      "Epoch:\t 14 Val Loss:\t 0.020566729335793992\n",
      "Epoch:\t 15 Val Loss:\t 0.020570126745279253\n",
      "Epoch:\t 16 Val Loss:\t 0.02056780500664602\n",
      "Epoch:\t 17 Val Loss:\t 0.02056270604766457\n",
      "Epoch:\t 18 Val Loss:\t 0.02056074246118904\n",
      "Epoch:\t 19 Val Loss:\t 0.020567381672364\n",
      "Epoch:\t 20 Val Loss:\t 0.020568857805948308\n",
      "Epoch:\t 21 Val Loss:\t 0.020562056017368914\n",
      "Epoch:\t 22 Val Loss:\t 0.02056695952856168\n",
      "Epoch:\t 23 Val Loss:\t 0.02056437761260685\n",
      "Epoch:\t 24 Val Loss:\t 0.020563801532460388\n",
      "Epoch:\t 25 Val Loss:\t 0.020562672249692004\n",
      "Epoch:\t 26 Val Loss:\t 0.020563697549958848\n",
      "Epoch:\t 27 Val Loss:\t 0.020566920992569532\n"
     ]
    },
    {
     "name": "stderr",
     "output_type": "stream",
     "text": [
      "[I 2025-06-18 21:36:19,578] Trial 15 finished with value: 0.02056074246118904 and parameters: {'lr': 0.0001, 'weight_decay': 1e-05, 'scheduler_factor': 0.3, 'scheduler_patience': 10, 'batch_size': 64, 'dropout': 0.1, 'hidden_dims': 256}. Best is trial 13 with value: 0.020549489994799986.\n"
     ]
    },
    {
     "name": "stdout",
     "output_type": "stream",
     "text": [
      "Epoch:\t 28 Val Loss:\t 0.020567839529063575\n",
      "Epoch:\t 0 Val Loss:\t 0.02229733190050389\n",
      "Epoch:\t 1 Val Loss:\t 0.02119017824823367\n",
      "Epoch:\t 2 Val Loss:\t 0.020943078531345177\n",
      "Epoch:\t 3 Val Loss:\t 0.02079402804583813\n",
      "Epoch:\t 4 Val Loss:\t 0.020733115162458435\n",
      "Epoch:\t 5 Val Loss:\t 0.020674438581002073\n",
      "Epoch:\t 6 Val Loss:\t 0.020636662772132955\n",
      "Epoch:\t 7 Val Loss:\t 0.020615877195260673\n",
      "Epoch:\t 8 Val Loss:\t 0.02059299933911565\n",
      "Epoch:\t 9 Val Loss:\t 0.02058775705952308\n",
      "Epoch:\t 10 Val Loss:\t 0.020577061872065976\n",
      "Epoch:\t 11 Val Loss:\t 0.020577263968317817\n",
      "Epoch:\t 12 Val Loss:\t 0.020560981825280877\n",
      "Epoch:\t 13 Val Loss:\t 0.02055761082144193\n",
      "Epoch:\t 14 Val Loss:\t 0.02056103724606915\n",
      "Epoch:\t 15 Val Loss:\t 0.020554730389341892\n",
      "Epoch:\t 16 Val Loss:\t 0.02055977592909441\n",
      "Epoch:\t 17 Val Loss:\t 0.02055293346853044\n",
      "Epoch:\t 18 Val Loss:\t 0.020556452507100875\n",
      "Epoch:\t 19 Val Loss:\t 0.020561171535764013\n",
      "Epoch:\t 20 Val Loss:\t 0.020550113809149364\n",
      "Epoch:\t 21 Val Loss:\t 0.020550116520216682\n",
      "Epoch:\t 22 Val Loss:\t 0.020557575789672333\n",
      "Epoch:\t 23 Val Loss:\t 0.020557122051106422\n",
      "Epoch:\t 24 Val Loss:\t 0.020549003052754505\n",
      "Epoch:\t 25 Val Loss:\t 0.02055119550559123\n",
      "Epoch:\t 26 Val Loss:\t 0.020552455635073668\n",
      "Epoch:\t 27 Val Loss:\t 0.020561891548939008\n",
      "Epoch:\t 28 Val Loss:\t 0.020551033089506503\n",
      "Epoch:\t 29 Val Loss:\t 0.020554156661774507\n",
      "Epoch:\t 30 Val Loss:\t 0.02055960526329905\n",
      "Epoch:\t 31 Val Loss:\t 0.020557360846098174\n",
      "Epoch:\t 32 Val Loss:\t 0.020543354175799642\n",
      "Epoch:\t 33 Val Loss:\t 0.02054068340554702\n",
      "Epoch:\t 34 Val Loss:\t 0.020545037794909002\n",
      "Epoch:\t 35 Val Loss:\t 0.020547261615466765\n",
      "Epoch:\t 36 Val Loss:\t 0.020544641078378834\n",
      "Epoch:\t 37 Val Loss:\t 0.02054075424282333\n",
      "Epoch:\t 38 Val Loss:\t 0.020543259666349855\n",
      "Epoch:\t 39 Val Loss:\t 0.020545288125753593\n",
      "Epoch:\t 40 Val Loss:\t 0.02054488254410798\n",
      "Epoch:\t 41 Val Loss:\t 0.020543491074990157\n",
      "Epoch:\t 42 Val Loss:\t 0.020543332461868177\n"
     ]
    },
    {
     "name": "stderr",
     "output_type": "stream",
     "text": [
      "[I 2025-06-18 21:40:18,500] Trial 16 finished with value: 0.02054068340554702 and parameters: {'lr': 0.0001, 'weight_decay': 1e-05, 'scheduler_factor': 0.3, 'scheduler_patience': 10, 'batch_size': 64, 'dropout': 0.1, 'hidden_dims': 64}. Best is trial 16 with value: 0.02054068340554702.\n"
     ]
    },
    {
     "name": "stdout",
     "output_type": "stream",
     "text": [
      "Epoch:\t 43 Val Loss:\t 0.020545075250955325\n",
      "Epoch:\t 0 Val Loss:\t 0.022236078490247505\n"
     ]
    },
    {
     "name": "stderr",
     "output_type": "stream",
     "text": [
      "[I 2025-06-18 21:40:28,712] Trial 17 pruned. \n"
     ]
    },
    {
     "name": "stdout",
     "output_type": "stream",
     "text": [
      "Epoch:\t 1 Val Loss:\t 0.022380802340889246\n"
     ]
    },
    {
     "name": "stderr",
     "output_type": "stream",
     "text": [
      "[I 2025-06-18 21:40:35,373] Trial 18 pruned. \n"
     ]
    },
    {
     "name": "stdout",
     "output_type": "stream",
     "text": [
      "Epoch:\t 0 Val Loss:\t 0.02272681161050282\n"
     ]
    },
    {
     "name": "stderr",
     "output_type": "stream",
     "text": [
      "[I 2025-06-18 21:40:42,275] Trial 19 pruned. \n"
     ]
    },
    {
     "name": "stdout",
     "output_type": "stream",
     "text": [
      "Epoch:\t 0 Val Loss:\t 0.031203607754496546\n",
      "Epoch:\t 0 Val Loss:\t 0.021678992927241725\n",
      "Epoch:\t 1 Val Loss:\t 0.020936823673337195\n",
      "Epoch:\t 2 Val Loss:\t 0.020812303967528947\n",
      "Epoch:\t 3 Val Loss:\t 0.02072468368484435\n",
      "Epoch:\t 4 Val Loss:\t 0.02064674265933639\n",
      "Epoch:\t 5 Val Loss:\t 0.02059052154457655\n",
      "Epoch:\t 6 Val Loss:\t 0.020587135113793655\n",
      "Epoch:\t 7 Val Loss:\t 0.020575232591716022\n",
      "Epoch:\t 8 Val Loss:\t 0.020573004618669476\n",
      "Epoch:\t 9 Val Loss:\t 0.020570818031596584\n",
      "Epoch:\t 10 Val Loss:\t 0.020568122837838883\n",
      "Epoch:\t 11 Val Loss:\t 0.020572060581711932\n",
      "Epoch:\t 12 Val Loss:\t 0.020565777710835363\n",
      "Epoch:\t 13 Val Loss:\t 0.020567110983868455\n",
      "Epoch:\t 14 Val Loss:\t 0.02056548289906864\n",
      "Epoch:\t 15 Val Loss:\t 0.02056498502611923\n",
      "Epoch:\t 16 Val Loss:\t 0.020569130185313384\n",
      "Epoch:\t 17 Val Loss:\t 0.020568146157498923\n",
      "Epoch:\t 18 Val Loss:\t 0.02056462477979272\n",
      "Epoch:\t 19 Val Loss:\t 0.020572303311112122\n",
      "Epoch:\t 20 Val Loss:\t 0.02056927933882692\n",
      "Epoch:\t 21 Val Loss:\t 0.020567086633554724\n",
      "Epoch:\t 22 Val Loss:\t 0.020568419288195604\n",
      "Epoch:\t 23 Val Loss:\t 0.02057203942343724\n",
      "Epoch:\t 24 Val Loss:\t 0.02054752680415522\n",
      "Epoch:\t 25 Val Loss:\t 0.02055027814613358\n",
      "Epoch:\t 26 Val Loss:\t 0.02054816547186736\n",
      "Epoch:\t 27 Val Loss:\t 0.020549314798609487\n",
      "Epoch:\t 28 Val Loss:\t 0.020547341458266415\n",
      "Epoch:\t 29 Val Loss:\t 0.020551587013586007\n",
      "Epoch:\t 30 Val Loss:\t 0.020552939869039232\n",
      "Epoch:\t 31 Val Loss:\t 0.020550983543444274\n",
      "Epoch:\t 32 Val Loss:\t 0.02055010487233627\n",
      "Epoch:\t 33 Val Loss:\t 0.020548836292987264\n",
      "Epoch:\t 34 Val Loss:\t 0.020550373179872416\n",
      "Epoch:\t 35 Val Loss:\t 0.020548942026106375\n",
      "Epoch:\t 36 Val Loss:\t 0.020542528014256652\n",
      "Epoch:\t 37 Val Loss:\t 0.02054353354837814\n",
      "Epoch:\t 38 Val Loss:\t 0.020542836865319093\n",
      "Epoch:\t 39 Val Loss:\t 0.020542519066987654\n",
      "Epoch:\t 40 Val Loss:\t 0.020547290862132382\n",
      "Epoch:\t 41 Val Loss:\t 0.0205434699660076\n",
      "Epoch:\t 42 Val Loss:\t 0.020544691106906487\n",
      "Epoch:\t 43 Val Loss:\t 0.02055032936663463\n",
      "Epoch:\t 44 Val Loss:\t 0.02054884323720322\n",
      "Epoch:\t 45 Val Loss:\t 0.020545236197238265\n",
      "Epoch:\t 46 Val Loss:\t 0.020546620438336945\n",
      "Epoch:\t 47 Val Loss:\t 0.020547430647153232\n",
      "Epoch:\t 48 Val Loss:\t 0.020544294931096083\n"
     ]
    },
    {
     "name": "stderr",
     "output_type": "stream",
     "text": [
      "[I 2025-06-18 21:45:35,145] Trial 20 finished with value: 0.020542519066987654 and parameters: {'lr': 0.0001, 'weight_decay': 1e-05, 'scheduler_factor': 0.3, 'scheduler_patience': 10, 'batch_size': 64, 'dropout': 0.2, 'hidden_dims': 256}. Best is trial 16 with value: 0.02054068340554702.\n"
     ]
    },
    {
     "name": "stdout",
     "output_type": "stream",
     "text": [
      "Epoch:\t 49 Val Loss:\t 0.020544483697560182\n",
      "Epoch:\t 0 Val Loss:\t 0.021662112231326754\n",
      "Epoch:\t 1 Val Loss:\t 0.02097751597971704\n",
      "Epoch:\t 2 Val Loss:\t 0.020778976155276192\n",
      "Epoch:\t 3 Val Loss:\t 0.020702882249389255\n",
      "Epoch:\t 4 Val Loss:\t 0.020635154279010144\n",
      "Epoch:\t 5 Val Loss:\t 0.020585317881635982\n",
      "Epoch:\t 6 Val Loss:\t 0.02057408213947019\n",
      "Epoch:\t 7 Val Loss:\t 0.020568668963305455\n",
      "Epoch:\t 8 Val Loss:\t 0.020568764215124637\n",
      "Epoch:\t 9 Val Loss:\t 0.02056383052370313\n",
      "Epoch:\t 10 Val Loss:\t 0.020569702804554627\n",
      "Epoch:\t 11 Val Loss:\t 0.020562784217519097\n",
      "Epoch:\t 12 Val Loss:\t 0.020569264781216956\n",
      "Epoch:\t 13 Val Loss:\t 0.020569331879759657\n",
      "Epoch:\t 14 Val Loss:\t 0.020572445332203374\n",
      "Epoch:\t 15 Val Loss:\t 0.020565153584302477\n",
      "Epoch:\t 16 Val Loss:\t 0.02057082333572884\n",
      "Epoch:\t 17 Val Loss:\t 0.020561717287805335\n",
      "Epoch:\t 18 Val Loss:\t 0.02056421838706746\n",
      "Epoch:\t 19 Val Loss:\t 0.020565809968802196\n",
      "Epoch:\t 20 Val Loss:\t 0.020569254537415486\n",
      "Epoch:\t 21 Val Loss:\t 0.0205648743488498\n",
      "Epoch:\t 22 Val Loss:\t 0.020564581238408517\n",
      "Epoch:\t 23 Val Loss:\t 0.020564900065899946\n"
     ]
    },
    {
     "name": "stderr",
     "output_type": "stream",
     "text": [
      "[I 2025-06-18 21:47:49,474] Trial 21 pruned. \n"
     ]
    },
    {
     "name": "stdout",
     "output_type": "stream",
     "text": [
      "Epoch:\t 24 Val Loss:\t 0.020567609464754177\n",
      "Epoch:\t 0 Val Loss:\t 0.021848898733508232\n",
      "Epoch:\t 1 Val Loss:\t 0.021014228110659477\n",
      "Epoch:\t 2 Val Loss:\t 0.02078193364890461\n",
      "Epoch:\t 3 Val Loss:\t 0.02067607104981433\n",
      "Epoch:\t 4 Val Loss:\t 0.020621683642734215\n",
      "Epoch:\t 5 Val Loss:\t 0.020592763406055013\n",
      "Epoch:\t 6 Val Loss:\t 0.02058431404286513\n",
      "Epoch:\t 7 Val Loss:\t 0.020575321641688644\n",
      "Epoch:\t 8 Val Loss:\t 0.020570186109438168\n",
      "Epoch:\t 9 Val Loss:\t 0.020571044802295272\n",
      "Epoch:\t 10 Val Loss:\t 0.020569846819736715\n",
      "Epoch:\t 11 Val Loss:\t 0.02056722797650572\n",
      "Epoch:\t 12 Val Loss:\t 0.020566936863142676\n",
      "Epoch:\t 13 Val Loss:\t 0.02056794583277647\n",
      "Epoch:\t 14 Val Loss:\t 0.02057393451027853\n",
      "Epoch:\t 15 Val Loss:\t 0.020570967019309307\n",
      "Epoch:\t 16 Val Loss:\t 0.020571758331314218\n",
      "Epoch:\t 17 Val Loss:\t 0.02056025624508225\n",
      "Epoch:\t 18 Val Loss:\t 0.02056326483971564\n",
      "Epoch:\t 19 Val Loss:\t 0.02056411155309071\n",
      "Epoch:\t 20 Val Loss:\t 0.02057340870213298\n",
      "Epoch:\t 21 Val Loss:\t 0.02056559578850925\n",
      "Epoch:\t 22 Val Loss:\t 0.02056416017604572\n",
      "Epoch:\t 23 Val Loss:\t 0.020572854214928202\n",
      "Epoch:\t 24 Val Loss:\t 0.020563821981227103\n",
      "Epoch:\t 25 Val Loss:\t 0.020564911171566894\n",
      "Epoch:\t 26 Val Loss:\t 0.020561587562860733\n"
     ]
    },
    {
     "name": "stderr",
     "output_type": "stream",
     "text": [
      "[I 2025-06-18 21:50:19,201] Trial 22 finished with value: 0.02056025624508225 and parameters: {'lr': 0.0001, 'weight_decay': 1e-05, 'scheduler_factor': 0.3, 'scheduler_patience': 10, 'batch_size': 64, 'dropout': 0.2, 'hidden_dims': 256}. Best is trial 16 with value: 0.02054068340554702.\n"
     ]
    },
    {
     "name": "stdout",
     "output_type": "stream",
     "text": [
      "Epoch:\t 27 Val Loss:\t 0.0205778813806647\n",
      "Epoch:\t 0 Val Loss:\t 0.021670523007738658\n",
      "Epoch:\t 1 Val Loss:\t 0.020994345247506523\n",
      "Epoch:\t 2 Val Loss:\t 0.020813505543932114\n",
      "Epoch:\t 3 Val Loss:\t 0.02070576221844198\n",
      "Epoch:\t 4 Val Loss:\t 0.020641717729670293\n",
      "Epoch:\t 5 Val Loss:\t 0.020602856570766655\n",
      "Epoch:\t 6 Val Loss:\t 0.020576082867567982\n",
      "Epoch:\t 7 Val Loss:\t 0.020571569638041468\n",
      "Epoch:\t 8 Val Loss:\t 0.02057797722398948\n",
      "Epoch:\t 9 Val Loss:\t 0.02057101642048254\n",
      "Epoch:\t 10 Val Loss:\t 0.0205710861449516\n",
      "Epoch:\t 11 Val Loss:\t 0.020562166449671376\n",
      "Epoch:\t 12 Val Loss:\t 0.020563274811663527\n",
      "Epoch:\t 13 Val Loss:\t 0.020565304267365834\n",
      "Epoch:\t 14 Val Loss:\t 0.02056901232483584\n",
      "Epoch:\t 15 Val Loss:\t 0.02056376905940061\n",
      "Epoch:\t 16 Val Loss:\t 0.020566176294491784\n",
      "Epoch:\t 17 Val Loss:\t 0.020569379497453893\n",
      "Epoch:\t 18 Val Loss:\t 0.02057000396455061\n",
      "Epoch:\t 19 Val Loss:\t 0.02056946645475141\n",
      "Epoch:\t 20 Val Loss:\t 0.02057304200749925\n"
     ]
    },
    {
     "name": "stderr",
     "output_type": "stream",
     "text": [
      "[I 2025-06-18 21:52:16,528] Trial 23 finished with value: 0.020562166449671376 and parameters: {'lr': 0.0001, 'weight_decay': 1e-05, 'scheduler_factor': 0.3, 'scheduler_patience': 10, 'batch_size': 64, 'dropout': 0.2, 'hidden_dims': 256}. Best is trial 16 with value: 0.02054068340554702.\n"
     ]
    },
    {
     "name": "stdout",
     "output_type": "stream",
     "text": [
      "Epoch:\t 21 Val Loss:\t 0.02056933812791095\n",
      "Epoch:\t 0 Val Loss:\t 0.021441109330597265\n"
     ]
    },
    {
     "name": "stderr",
     "output_type": "stream",
     "text": [
      "[I 2025-06-18 21:52:29,353] Trial 24 pruned. \n"
     ]
    },
    {
     "name": "stdout",
     "output_type": "stream",
     "text": [
      "Epoch:\t 1 Val Loss:\t 0.022261000776838187\n"
     ]
    },
    {
     "name": "stderr",
     "output_type": "stream",
     "text": [
      "[I 2025-06-18 21:52:34,062] Trial 25 pruned. \n"
     ]
    },
    {
     "name": "stdout",
     "output_type": "stream",
     "text": [
      "Epoch:\t 0 Val Loss:\t 0.02322392434144862\n"
     ]
    },
    {
     "name": "stderr",
     "output_type": "stream",
     "text": [
      "[I 2025-06-18 21:52:39,330] Trial 26 pruned. \n"
     ]
    },
    {
     "name": "stdout",
     "output_type": "stream",
     "text": [
      "Epoch:\t 0 Val Loss:\t 0.022554182690219488\n",
      "Epoch:\t 0 Val Loss:\t 0.020876464141949522\n",
      "Epoch:\t 1 Val Loss:\t 0.020686355937024357\n",
      "Epoch:\t 2 Val Loss:\t 0.020686972120055314\n",
      "Epoch:\t 3 Val Loss:\t 0.02070544200927712\n",
      "Epoch:\t 4 Val Loss:\t 0.020691967005419462\n",
      "Epoch:\t 5 Val Loss:\t 0.020673188577318726\n"
     ]
    },
    {
     "name": "stderr",
     "output_type": "stream",
     "text": [
      "[I 2025-06-18 21:53:16,614] Trial 27 pruned. \n"
     ]
    },
    {
     "name": "stdout",
     "output_type": "stream",
     "text": [
      "Epoch:\t 6 Val Loss:\t 0.02068309472170274\n"
     ]
    },
    {
     "name": "stderr",
     "output_type": "stream",
     "text": [
      "[I 2025-06-18 21:53:21,898] Trial 28 pruned. \n"
     ]
    },
    {
     "name": "stdout",
     "output_type": "stream",
     "text": [
      "Epoch:\t 0 Val Loss:\t 0.02739278194826894\n"
     ]
    },
    {
     "name": "stderr",
     "output_type": "stream",
     "text": [
      "[I 2025-06-18 21:53:26,235] Trial 29 pruned. \n"
     ]
    },
    {
     "name": "stdout",
     "output_type": "stream",
     "text": [
      "Epoch:\t 0 Val Loss:\t 0.08393312372578686\n",
      "Epoch:\t 0 Val Loss:\t 0.02184927088390059\n"
     ]
    },
    {
     "name": "stderr",
     "output_type": "stream",
     "text": [
      "[I 2025-06-18 21:53:58,916] Trial 30 pruned. \n"
     ]
    },
    {
     "name": "stdout",
     "output_type": "stream",
     "text": [
      "Epoch:\t 1 Val Loss:\t 0.021533902226591774\n"
     ]
    },
    {
     "name": "stderr",
     "output_type": "stream",
     "text": [
      "[I 2025-06-18 21:54:04,317] Trial 31 pruned. \n"
     ]
    },
    {
     "name": "stdout",
     "output_type": "stream",
     "text": [
      "Epoch:\t 0 Val Loss:\t 0.022857214475786963\n"
     ]
    },
    {
     "name": "stderr",
     "output_type": "stream",
     "text": [
      "[I 2025-06-18 21:54:09,746] Trial 32 pruned. \n"
     ]
    },
    {
     "name": "stdout",
     "output_type": "stream",
     "text": [
      "Epoch:\t 0 Val Loss:\t 0.02286566575091413\n"
     ]
    },
    {
     "name": "stderr",
     "output_type": "stream",
     "text": [
      "[I 2025-06-18 21:54:14,956] Trial 33 pruned. \n"
     ]
    },
    {
     "name": "stdout",
     "output_type": "stream",
     "text": [
      "Epoch:\t 0 Val Loss:\t 0.022613448880272287\n"
     ]
    },
    {
     "name": "stderr",
     "output_type": "stream",
     "text": [
      "[I 2025-06-18 21:54:19,641] Trial 34 pruned. \n"
     ]
    },
    {
     "name": "stdout",
     "output_type": "stream",
     "text": [
      "Epoch:\t 0 Val Loss:\t 0.02522686810305949\n",
      "Epoch:\t 0 Val Loss:\t 0.02074416969643387\n",
      "Epoch:\t 1 Val Loss:\t 0.020729830690131398\n",
      "Epoch:\t 2 Val Loss:\t 0.02070807564018186\n",
      "Epoch:\t 3 Val Loss:\t 0.020711524913345047\n",
      "Epoch:\t 4 Val Loss:\t 0.020712467881371238\n"
     ]
    },
    {
     "name": "stderr",
     "output_type": "stream",
     "text": [
      "[I 2025-06-18 21:55:08,040] Trial 35 pruned. \n"
     ]
    },
    {
     "name": "stdout",
     "output_type": "stream",
     "text": [
      "Epoch:\t 5 Val Loss:\t 0.020710938333539302\n"
     ]
    },
    {
     "name": "stderr",
     "output_type": "stream",
     "text": [
      "[I 2025-06-18 21:55:12,270] Trial 36 pruned. \n"
     ]
    },
    {
     "name": "stdout",
     "output_type": "stream",
     "text": [
      "Epoch:\t 0 Val Loss:\t 0.031740217658292824\n"
     ]
    },
    {
     "name": "stderr",
     "output_type": "stream",
     "text": [
      "[I 2025-06-18 21:55:17,745] Trial 37 pruned. \n"
     ]
    },
    {
     "name": "stdout",
     "output_type": "stream",
     "text": [
      "Epoch:\t 0 Val Loss:\t 0.03727710011632517\n"
     ]
    },
    {
     "name": "stderr",
     "output_type": "stream",
     "text": [
      "[I 2025-06-18 21:55:25,671] Trial 38 pruned. \n"
     ]
    },
    {
     "name": "stdout",
     "output_type": "stream",
     "text": [
      "Epoch:\t 0 Val Loss:\t 0.02267446877035445\n"
     ]
    },
    {
     "name": "stderr",
     "output_type": "stream",
     "text": [
      "[I 2025-06-18 21:55:29,875] Trial 39 pruned. \n"
     ]
    },
    {
     "name": "stdout",
     "output_type": "stream",
     "text": [
      "Epoch:\t 0 Val Loss:\t 0.029124059759296023\n",
      "Epoch:\t 0 Val Loss:\t 0.020828580861700564\n",
      "Epoch:\t 1 Val Loss:\t 0.020726398761296807\n",
      "Epoch:\t 2 Val Loss:\t 0.02070837622208173\n",
      "Epoch:\t 3 Val Loss:\t 0.020684965607600397\n",
      "Epoch:\t 4 Val Loss:\t 0.020678301796663637\n"
     ]
    },
    {
     "name": "stderr",
     "output_type": "stream",
     "text": [
      "[I 2025-06-18 21:56:01,395] Trial 40 pruned. \n"
     ]
    },
    {
     "name": "stdout",
     "output_type": "stream",
     "text": [
      "Epoch:\t 5 Val Loss:\t 0.02068502452514271\n"
     ]
    },
    {
     "name": "stderr",
     "output_type": "stream",
     "text": [
      "[I 2025-06-18 21:56:06,836] Trial 41 pruned. \n"
     ]
    },
    {
     "name": "stdout",
     "output_type": "stream",
     "text": [
      "Epoch:\t 0 Val Loss:\t 0.022611487749441203\n"
     ]
    },
    {
     "name": "stderr",
     "output_type": "stream",
     "text": [
      "[I 2025-06-18 21:56:12,127] Trial 42 pruned. \n"
     ]
    },
    {
     "name": "stdout",
     "output_type": "stream",
     "text": [
      "Epoch:\t 0 Val Loss:\t 0.022507882066841782\n"
     ]
    },
    {
     "name": "stderr",
     "output_type": "stream",
     "text": [
      "[I 2025-06-18 21:56:17,595] Trial 43 pruned. \n"
     ]
    },
    {
     "name": "stdout",
     "output_type": "stream",
     "text": [
      "Epoch:\t 0 Val Loss:\t 0.02267172063589574\n",
      "Epoch:\t 0 Val Loss:\t 0.02073690494079463\n",
      "Epoch:\t 1 Val Loss:\t 0.020689743403976057\n",
      "Epoch:\t 2 Val Loss:\t 0.020680425811034242\n",
      "Epoch:\t 3 Val Loss:\t 0.02066595230510552\n",
      "Epoch:\t 4 Val Loss:\t 0.02068495481069575\n",
      "Epoch:\t 5 Val Loss:\t 0.020642850957430212\n"
     ]
    },
    {
     "name": "stderr",
     "output_type": "stream",
     "text": [
      "[I 2025-06-18 21:58:09,698] Trial 44 pruned. \n"
     ]
    },
    {
     "name": "stdout",
     "output_type": "stream",
     "text": [
      "Epoch:\t 6 Val Loss:\t 0.020674175241907216\n"
     ]
    },
    {
     "name": "stderr",
     "output_type": "stream",
     "text": [
      "[I 2025-06-18 21:58:15,317] Trial 45 pruned. \n"
     ]
    },
    {
     "name": "stdout",
     "output_type": "stream",
     "text": [
      "Epoch:\t 0 Val Loss:\t 0.03663922049577177\n"
     ]
    },
    {
     "name": "stderr",
     "output_type": "stream",
     "text": [
      "[I 2025-06-18 21:58:19,677] Trial 46 pruned. \n"
     ]
    },
    {
     "name": "stdout",
     "output_type": "stream",
     "text": [
      "Epoch:\t 0 Val Loss:\t 0.025400877991514834\n"
     ]
    },
    {
     "name": "stderr",
     "output_type": "stream",
     "text": [
      "[I 2025-06-18 21:58:25,073] Trial 47 pruned. \n"
     ]
    },
    {
     "name": "stdout",
     "output_type": "stream",
     "text": [
      "Epoch:\t 0 Val Loss:\t 0.022641151006771932\n",
      "Epoch:\t 0 Val Loss:\t 0.021080346516368982\n",
      "Epoch:\t 1 Val Loss:\t 0.02089345055914116\n",
      "Epoch:\t 2 Val Loss:\t 0.0206482099022022\n",
      "Epoch:\t 3 Val Loss:\t 0.02059898288595772\n",
      "Epoch:\t 4 Val Loss:\t 0.020589358460732954\n",
      "Epoch:\t 5 Val Loss:\t 0.02057909539943647\n",
      "Epoch:\t 6 Val Loss:\t 0.020580754703459495\n",
      "Epoch:\t 7 Val Loss:\t 0.020585944924600617\n",
      "Epoch:\t 8 Val Loss:\t 0.0205775305438406\n",
      "Epoch:\t 9 Val Loss:\t 0.020580313108368723\n",
      "Epoch:\t 10 Val Loss:\t 0.02057173330904188\n",
      "Epoch:\t 11 Val Loss:\t 0.020580163321090125\n",
      "Epoch:\t 12 Val Loss:\t 0.02057383537501515\n"
     ]
    },
    {
     "name": "stderr",
     "output_type": "stream",
     "text": [
      "[I 2025-06-18 22:00:20,083] Trial 48 pruned. \n"
     ]
    },
    {
     "name": "stdout",
     "output_type": "stream",
     "text": [
      "Epoch:\t 13 Val Loss:\t 0.020580061569152947\n",
      "Epoch:\t 0 Val Loss:\t 0.022075444670527\n",
      "Epoch:\t 1 Val Loss:\t 0.020975916082548826\n",
      "Epoch:\t 2 Val Loss:\t 0.020736943976692228\n",
      "Epoch:\t 3 Val Loss:\t 0.02066481184832746\n",
      "Epoch:\t 4 Val Loss:\t 0.020640323201452815\n",
      "Epoch:\t 5 Val Loss:\t 0.020665059121566097\n",
      "Epoch:\t 6 Val Loss:\t 0.020619048047646485\n"
     ]
    },
    {
     "name": "stderr",
     "output_type": "stream",
     "text": [
      "[I 2025-06-18 22:01:02,541] Trial 49 pruned. \n"
     ]
    },
    {
     "name": "stdout",
     "output_type": "stream",
     "text": [
      "Epoch:\t 7 Val Loss:\t 0.02065499333938122\n",
      "Training model with best parameters on train+validation ...\n"
     ]
    },
    {
     "name": "stderr",
     "output_type": "stream",
     "text": [
      "100%|███████████████████████████████████████████████████████████████████████████████████████████████████████████████████████████████████████████████████████████████████| 401917/401917 [04:05<00:00, 1634.27it/s]\n",
      "100%|███████████████████████████████████████████████████████████████████████████████████████████████████████████████████████████████████████████████████████████████████| 401917/401917 [01:12<00:00, 5555.98it/s]\n"
     ]
    },
    {
     "name": "stdout",
     "output_type": "stream",
     "text": [
      "Getting test set predictions and saving results ...\n"
     ]
    },
    {
     "name": "stderr",
     "output_type": "stream",
     "text": [
      "100%|████████████████████████████████████████████████████████████████████████████████████████████████████████████████████████████████████████████████████████████████████████| 1223/1223 [00:03<00:00, 382.77it/s]\n"
     ]
    }
   ],
   "source": [
    "train_different_featno(\n",
    "        adata_path=\"./data/feature_number/sciplex_hvg_7500.h5ad\",\n",
    "        run_name=\"decoder_hvg_7500\",\n",
    "        res_savename=\"./results/feature_number/decoder_hvg_7500_res.pkl\",\n",
    "        output_dim=7500\n",
    "    )"
   ]
  },
  {
   "cell_type": "code",
   "execution_count": null,
   "id": "87afd9d9-d518-4ace-b76d-7680bdfca30e",
   "metadata": {},
   "outputs": [],
   "source": []
  }
 ],
 "metadata": {
  "kernelspec": {
   "display_name": "Python 3 (ipykernel)",
   "language": "python",
   "name": "python3"
  },
  "language_info": {
   "codemirror_mode": {
    "name": "ipython",
    "version": 3
   },
   "file_extension": ".py",
   "mimetype": "text/x-python",
   "name": "python",
   "nbconvert_exporter": "python",
   "pygments_lexer": "ipython3",
   "version": "3.12.7"
  }
 },
 "nbformat": 4,
 "nbformat_minor": 5
}
