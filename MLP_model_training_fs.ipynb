{
 "cells": [
  {
   "cell_type": "code",
   "execution_count": 1,
   "id": "79f39f39-4850-4da7-9e8a-6e84f7371e10",
   "metadata": {},
   "outputs": [],
   "source": [
    "import anndata as ad\n",
    "import pickle as pkl\n",
    "\n",
    "from src.evaluator.MLP_evaluator import get_models_results\n",
    "from src.evaluator.evaluator_utils import l2_loss"
   ]
  },
  {
   "cell_type": "code",
   "execution_count": 2,
   "id": "11b33475-ecd3-4ff1-881d-1b57901a5a8d",
   "metadata": {},
   "outputs": [],
   "source": [
    "def train_different_fs(adata_path=None, run_name=None, res_savename=None, add_relu=True):\n",
    "    DRUG_ENCODING_NAME = \"fmfp\"\n",
    "    DRUG_ENCODING_SIZE = 1024\n",
    "    N_TRIALS = 50\n",
    "    SCHEDULER_MODE = 'min'\n",
    "\n",
    "    with open(\"./data/drug_splits/train_drugs_rand.pkl\", 'rb') as f:\n",
    "        drugs_train_rand = pkl.load(f)\n",
    "\n",
    "    with open(\"./data/drug_splits/val_drugs_rand.pkl\", 'rb') as f:\n",
    "        drugs_val_rand = pkl.load(f)\n",
    "\n",
    "    with open(\"./data/drug_splits/test_drugs_rand.pkl\", 'rb') as f:\n",
    "        drugs_test_rand = pkl.load(f)\n",
    "\n",
    "    drug_splits = dict()\n",
    "    drug_splits['train'] = drugs_train_rand\n",
    "    drug_splits['valid'] = drugs_val_rand\n",
    "    drug_splits['test'] = drugs_test_rand\n",
    "\n",
    "    adata = ad.read_h5ad(adata_path)\n",
    "\n",
    "    get_models_results(drug_splits=drug_splits,\n",
    "                          loss_function=l2_loss,\n",
    "                          adata=adata,\n",
    "                          input_dim=2000,\n",
    "                          output_dim=2000,\n",
    "                          drug_rep_name=DRUG_ENCODING_NAME,\n",
    "                          drug_emb_size=DRUG_ENCODING_SIZE,\n",
    "                          n_trials=N_TRIALS,\n",
    "                          scheduler_mode=SCHEDULER_MODE,\n",
    "                          run_name=run_name,\n",
    "                          save_path=res_savename,\n",
    "                          add_relu=add_relu\n",
    "                      )\n"
   ]
  },
  {
   "cell_type": "code",
   "execution_count": null,
   "id": "2ffe247d-7dc5-4451-be72-9e8abde611f2",
   "metadata": {},
   "outputs": [
    {
     "name": "stdout",
     "output_type": "stream",
     "text": [
      "Loading Datasets ...\n"
     ]
    },
    {
     "name": "stderr",
     "output_type": "stream",
     "text": [
      "100%|███████████████████████████████████████████████████████████████████████████████████████████████████████████████████████████████████████████████████| 557340/557340 [04:11<00:00, 2219.46it/s]\n",
      "100%|███████████████████████████████████████████████████████████████████████████████████████████████████████████████████████████████████████████████████| 557340/557340 [01:43<00:00, 5365.88it/s]\n",
      "[I 2025-09-29 14:38:48,376] A new study created in RDB with name: mlp_random_fs\n"
     ]
    },
    {
     "name": "stdout",
     "output_type": "stream",
     "text": [
      "Optimizing Hyperparameters with Optuna ...\n",
      "Epoch:\t 0 Val Loss:\t 0.019219904418007333\n",
      "Epoch:\t 1 Val Loss:\t 0.019212168936876953\n",
      "Epoch:\t 2 Val Loss:\t 0.019229206699328344\n"
     ]
    }
   ],
   "source": [
    "train_different_fs(\n",
    "        adata_path=\"./data/feature_selection/sciplex_rand.h5ad\",\n",
    "        run_name=\"mlp_random_fs\",\n",
    "        res_savename=\"./results/feature_selection/mlp_random_fs_res.pkl\",\n",
    "    )"
   ]
  },
  {
   "cell_type": "code",
   "execution_count": null,
   "id": "8ca7ec74-3186-4d95-a59a-10cdd5e4e620",
   "metadata": {},
   "outputs": [],
   "source": [
    "train_different_fs(\n",
    "        adata_path=\"./data/feature_selection/sciplex_seurat.h5ad\",\n",
    "        run_name=\"mlp_seurat_fs\",\n",
    "        res_savename=\"./results/feature_selection/mlp_seurat_fs_res.pkl\",\n",
    "    )"
   ]
  },
  {
   "cell_type": "code",
   "execution_count": null,
   "id": "d0cfa483-d2f2-4a4b-9596-ded85ec4e78e",
   "metadata": {},
   "outputs": [],
   "source": [
    "train_different_fs(\n",
    "        adata_path=\"./data/feature_selection/sciplex_seurat_v3.h5ad\",\n",
    "        run_name=\"mlp_seuratv3_fs\",\n",
    "        res_savename=\"./results/feature_selection/mlp_seuratv3_fs_res.pkl\",\n",
    "    )"
   ]
  },
  {
   "cell_type": "code",
   "execution_count": null,
   "id": "ff3b90d8-74ce-43d0-9ecd-520143d3b703",
   "metadata": {},
   "outputs": [],
   "source": [
    "train_different_fs(\n",
    "        adata_path=\"./data/feature_selection/sciplex_cellranger.h5ad\",\n",
    "        run_name=\"mlp_scellranger_fs\",\n",
    "        res_savename=\"./results/feature_selection/mlp_cellranger_fs_res.pkl\",\n",
    "    )"
   ]
  },
  {
   "cell_type": "code",
   "execution_count": null,
   "id": "6774f28a-6797-4815-bdf3-a2c5a4db1615",
   "metadata": {},
   "outputs": [],
   "source": []
  }
 ],
 "metadata": {
  "kernelspec": {
   "display_name": "Python 3 (ipykernel)",
   "language": "python",
   "name": "python3"
  },
  "language_info": {
   "codemirror_mode": {
    "name": "ipython",
    "version": 3
   },
   "file_extension": ".py",
   "mimetype": "text/x-python",
   "name": "python",
   "nbconvert_exporter": "python",
   "pygments_lexer": "ipython3",
   "version": "3.12.7"
  }
 },
 "nbformat": 4,
 "nbformat_minor": 5
}
