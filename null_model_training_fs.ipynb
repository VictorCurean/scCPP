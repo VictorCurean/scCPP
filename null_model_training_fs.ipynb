{
 "cells": [
  {
   "cell_type": "code",
   "execution_count": 3,
   "id": "0926852a-fa42-480c-a4b9-11fb081bae94",
   "metadata": {},
   "outputs": [],
   "source": [
    "import anndata as ad\n",
    "import pickle as pkl\n",
    "\n",
    "from src.evaluator.null_evaluator import get_models_results"
   ]
  },
  {
   "cell_type": "code",
   "execution_count": 4,
   "id": "b1037d2a-3317-40c9-9ede-42c7f46d6008",
   "metadata": {},
   "outputs": [],
   "source": [
    "def train_different_fs(adata_path=None, run_name=None, res_savename=None):\n",
    "    DRUG_ENCODING_NAME = \"fmfp\"\n",
    "    DRUG_ENCODING_SIZE = 1024\n",
    "    SCHEDULER_MODE = 'min'\n",
    "\n",
    "    with open(\"./data/drug_splits/train_drugs_rand.pkl\", 'rb') as f:\n",
    "        drugs_train_rand = pkl.load(f)\n",
    "\n",
    "    with open(\"./data/drug_splits/val_drugs_rand.pkl\", 'rb') as f:\n",
    "        drugs_val_rand = pkl.load(f)\n",
    "\n",
    "    with open(\"./data/drug_splits/test_drugs_rand.pkl\", 'rb') as f:\n",
    "        drugs_test_rand = pkl.load(f)\n",
    "\n",
    "    drug_splits = dict()\n",
    "    drug_splits['train'] = drugs_train_rand\n",
    "    drug_splits['valid'] = drugs_val_rand\n",
    "    drug_splits['test'] = drugs_test_rand\n",
    "\n",
    "    adata = ad.read_h5ad(adata_path)\n",
    "\n",
    "    get_models_results(drug_splits=drug_splits,\n",
    "                          adata=adata,\n",
    "                          drug_rep_name=DRUG_ENCODING_NAME,\n",
    "                          drug_emb_size=DRUG_ENCODING_SIZE,\n",
    "                          save_path=res_savename\n",
    "                      )"
   ]
  },
  {
   "cell_type": "code",
   "execution_count": 5,
   "id": "f665c794-11dc-4220-b9c7-d55d906a325d",
   "metadata": {},
   "outputs": [
    {
     "name": "stderr",
     "output_type": "stream",
     "text": [
      "100%|███████████████████████████████████████████████████████████████████████████████████████████████████████████████████████████████████████████████████████████████████| 401917/401917 [01:15<00:00, 5324.43it/s]\n",
      "100%|███████████████████████████████████████████████████████████████████████████████████████████████████████████████████████████████████████████████████████████████████████| 4892/4892 [00:03<00:00, 1596.76it/s]\n"
     ]
    }
   ],
   "source": [
    "train_different_fs(\n",
    "        adata_path=\"./data/feature_selection/sciplex_rand.h5ad\",\n",
    "        run_name=\"null_random_fs\",\n",
    "        res_savename=\"./results/feature_selection/null_random_fs_res.pkl\",\n",
    "    )"
   ]
  },
  {
   "cell_type": "code",
   "execution_count": 6,
   "id": "8df2585d-04c0-452b-9f81-b98b589a43cf",
   "metadata": {},
   "outputs": [
    {
     "name": "stderr",
     "output_type": "stream",
     "text": [
      "100%|███████████████████████████████████████████████████████████████████████████████████████████████████████████████████████████████████████████████████████████████████| 401917/401917 [01:14<00:00, 5382.47it/s]\n",
      "100%|███████████████████████████████████████████████████████████████████████████████████████████████████████████████████████████████████████████████████████████████████████| 4892/4892 [00:02<00:00, 2191.51it/s]\n"
     ]
    }
   ],
   "source": [
    "train_different_fs(\n",
    "        adata_path=\"./data/feature_selection/sciplex_seurat.h5ad\",\n",
    "        run_name=\"null_seurat_fs\",\n",
    "        res_savename=\"./results/feature_selection/null_seurat_fs_res.pkl\",\n",
    "    )"
   ]
  },
  {
   "cell_type": "code",
   "execution_count": 7,
   "id": "dc7a2728-d758-46ec-b757-3acc5efa697c",
   "metadata": {},
   "outputs": [
    {
     "name": "stderr",
     "output_type": "stream",
     "text": [
      "100%|███████████████████████████████████████████████████████████████████████████████████████████████████████████████████████████████████████████████████████████████████| 401917/401917 [01:13<00:00, 5439.22it/s]\n",
      "100%|███████████████████████████████████████████████████████████████████████████████████████████████████████████████████████████████████████████████████████████████████████| 4892/4892 [00:02<00:00, 1680.16it/s]\n"
     ]
    }
   ],
   "source": [
    "train_different_fs(\n",
    "        adata_path=\"./data/feature_selection/sciplex_seurat_v3.h5ad\",\n",
    "        run_name=\"null_seuratv3_fs\",\n",
    "        res_savename=\"./results/feature_selection/null_seuratv3_fs_res.pkl\",\n",
    "    )"
   ]
  },
  {
   "cell_type": "code",
   "execution_count": 8,
   "id": "80edfe40-3447-4acc-b8be-0d4b12584154",
   "metadata": {},
   "outputs": [
    {
     "name": "stderr",
     "output_type": "stream",
     "text": [
      "100%|███████████████████████████████████████████████████████████████████████████████████████████████████████████████████████████████████████████████████████████████████| 401917/401917 [01:14<00:00, 5415.84it/s]\n",
      "100%|███████████████████████████████████████████████████████████████████████████████████████████████████████████████████████████████████████████████████████████████████████| 4892/4892 [00:03<00:00, 1599.11it/s]\n"
     ]
    }
   ],
   "source": [
    "train_different_fs(\n",
    "        adata_path=\"./data/feature_selection/sciplex_cellranger.h5ad\",\n",
    "        run_name=\"null_cellranger_fs\",\n",
    "        res_savename=\"./results/feature_selection/null_cellranger_fs_res.pkl\",\n",
    "    )"
   ]
  },
  {
   "cell_type": "code",
   "execution_count": null,
   "id": "21ac0470-aa8f-4559-96d8-96059d700270",
   "metadata": {},
   "outputs": [],
   "source": []
  }
 ],
 "metadata": {
  "kernelspec": {
   "display_name": "Python 3 (ipykernel)",
   "language": "python",
   "name": "python3"
  },
  "language_info": {
   "codemirror_mode": {
    "name": "ipython",
    "version": 3
   },
   "file_extension": ".py",
   "mimetype": "text/x-python",
   "name": "python",
   "nbconvert_exporter": "python",
   "pygments_lexer": "ipython3",
   "version": "3.12.7"
  }
 },
 "nbformat": 4,
 "nbformat_minor": 5
}
