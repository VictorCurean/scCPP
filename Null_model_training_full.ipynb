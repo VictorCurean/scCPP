{
 "cells": [
  {
   "cell_type": "code",
   "execution_count": 1,
   "id": "initial_id",
   "metadata": {
    "ExecuteTime": {
     "end_time": "2025-04-11T12:57:30.368938Z",
     "start_time": "2025-04-11T12:57:27.711198Z"
    }
   },
   "outputs": [],
   "source": [
    "import anndata as ad\n",
    "import pickle as pkl\n",
    "\n",
    "from src.evaluator.null_evaluator import NullEvaluator"
   ]
  },
  {
   "cell_type": "code",
   "execution_count": 3,
   "id": "a7bf4fef46c99aaa",
   "metadata": {
    "ExecuteTime": {
     "end_time": "2025-04-11T12:57:30.375164Z",
     "start_time": "2025-04-11T12:57:30.372183Z"
    }
   },
   "outputs": [],
   "source": [
    "ADATA_PATH = \"./data/sciplex/sciplex_full_v4.h5ad\"\n",
    "DRUG_SPLIT = \"./data/sciplex/prnet_drug_splits.pkl\"\n",
    "DRUG_ENCODING_NAME = \"sm_morgan_emb\"\n",
    "DRUG_ENCODING_SIZE = 1024\n",
    "N_TRIALS = 10\n",
    "SCHEDULER_MODE = 'min'"
   ]
  },
  {
   "cell_type": "code",
   "execution_count": 5,
   "id": "1ab6f6b701b47065",
   "metadata": {
    "ExecuteTime": {
     "end_time": "2025-04-11T12:57:30.773862Z",
     "start_time": "2025-04-11T12:57:30.471525Z"
    }
   },
   "outputs": [],
   "source": [
    "with open(DRUG_SPLIT, \"rb\") as f:\n",
    "    drug_splits = pkl.load(f)\n",
    "\n",
    "adata = ad.read_h5ad(ADATA_PATH)"
   ]
  },
  {
   "cell_type": "code",
   "execution_count": 6,
   "id": "d0cec774dabd0596",
   "metadata": {
    "ExecuteTime": {
     "end_time": "2025-04-11T13:08:03.790612Z",
     "start_time": "2025-04-11T13:06:45.136832Z"
    }
   },
   "outputs": [
    {
     "name": "stderr",
     "output_type": "stream",
     "text": [
      "100%|█████████████████████████████████████████████████████████████████████████████████████████████████████████████████████████████████████████████████████████████████████████████████████████████████████████████| 571696/571696 [00:51<00:00, 11001.94it/s]\n",
      "100%|██████████████████████████████████████████████████████████████████████████████████████████████████████████████████████████████████████████████████████████████████████████████████████████████████████████████████| 1702/1702 [00:00<00:00, 3921.43it/s]\n",
      "/home/victor/.local/lib/python3.12/site-packages/anndata/_core/anndata.py:1756: UserWarning: Observation names are not unique. To make them unique, call `.obs_names_make_unique`.\n",
      "  utils.warn_names_duplicates(\"obs\")\n",
      "100%|██████████████████████████████████████████████████████████████████████████████████████████████████████████████████████████████████████████████████████████████████████████████████████████████████████████████| 571696/571696 [01:17<00:00, 7337.66it/s]\n",
      "100%|██████████████████████████████████████████████████████████████████████████████████████████████████████████████████████████████████████████████████████████████████████████████████████████████████████████████████| 3901/3901 [00:00<00:00, 5230.52it/s]\n",
      "/home/victor/.local/lib/python3.12/site-packages/anndata/_core/anndata.py:1756: UserWarning: Observation names are not unique. To make them unique, call `.obs_names_make_unique`.\n",
      "  utils.warn_names_duplicates(\"obs\")\n",
      "100%|██████████████████████████████████████████████████████████████████████████████████████████████████████████████████████████████████████████████████████████████████████████████████████████████████████████████| 571696/571696 [01:09<00:00, 8235.18it/s]\n",
      "100%|██████████████████████████████████████████████████████████████████████████████████████████████████████████████████████████████████████████████████████████████████████████████████████████████████████████████████| 3062/3062 [00:00<00:00, 5454.81it/s]\n",
      "/home/victor/.local/lib/python3.12/site-packages/anndata/_core/anndata.py:1756: UserWarning: Observation names are not unique. To make them unique, call `.obs_names_make_unique`.\n",
      "  utils.warn_names_duplicates(\"obs\")\n",
      "100%|██████████████████████████████████████████████████████████████████████████████████████████████████████████████████████████████████████████████████████████████████████████████████████████████████████████████| 571696/571696 [01:07<00:00, 8464.42it/s]\n",
      "100%|██████████████████████████████████████████████████████████████████████████████████████████████████████████████████████████████████████████████████████████████████████████████████████████████████████████████████| 2995/2995 [00:00<00:00, 5949.89it/s]\n",
      "/home/victor/.local/lib/python3.12/site-packages/anndata/_core/anndata.py:1756: UserWarning: Observation names are not unique. To make them unique, call `.obs_names_make_unique`.\n",
      "  utils.warn_names_duplicates(\"obs\")\n",
      "100%|██████████████████████████████████████████████████████████████████████████████████████████████████████████████████████████████████████████████████████████████████████████████████████████████████████████████| 571696/571696 [01:20<00:00, 7127.04it/s]\n",
      "100%|███████████████████████████████████████████████████████████████████████████████████████████████████████████████████████████████████████████████████████████████████████████████████████████████████████████████████| 4003/4003 [00:05<00:00, 764.84it/s]\n",
      "/home/victor/.local/lib/python3.12/site-packages/anndata/_core/anndata.py:1756: UserWarning: Observation names are not unique. To make them unique, call `.obs_names_make_unique`.\n",
      "  utils.warn_names_duplicates(\"obs\")\n"
     ]
    }
   ],
   "source": [
    "performance_500_hvg_Morgan_full = NullEvaluator.cross_validation_models(drug_splits=drug_splits,\n",
    "                                      adata=adata,\n",
    "                                      input_name='X_500_hvg',\n",
    "                                      output_name='X_500_hvg',\n",
    "                                      drug_rep_name=DRUG_ENCODING_NAME,\n",
    "                                      drug_emb_size=DRUG_ENCODING_SIZE,\n",
    "                                      gene_names_key='gene_names_500',\n",
    "                                      run_name=\"res_null_500_morgan_full\")\n",
    "\n",
    "with open(\"./results/res_null_500_Morgan_full.pkl\", \"wb\") as f:\n",
    "    pkl.dump(performance_500_hvg_Morgan_full, f)"
   ]
  },
  {
   "cell_type": "code",
   "execution_count": 7,
   "id": "e0f23ef55224a260",
   "metadata": {},
   "outputs": [
    {
     "name": "stderr",
     "output_type": "stream",
     "text": [
      "100%|█████████████████████████████████████████████████████████████████████████████████████████████████████████████████████████████████████████████████████████████████████████████████████████████████████████████| 571696/571696 [00:51<00:00, 11126.05it/s]\n",
      "100%|██████████████████████████████████████████████████████████████████████████████████████████████████████████████████████████████████████████████████████████████████████████████████████████████████████████████████| 1702/1702 [00:00<00:00, 1915.28it/s]\n",
      "/home/victor/.local/lib/python3.12/site-packages/anndata/_core/anndata.py:1756: UserWarning: Observation names are not unique. To make them unique, call `.obs_names_make_unique`.\n",
      "  utils.warn_names_duplicates(\"obs\")\n",
      "100%|██████████████████████████████████████████████████████████████████████████████████████████████████████████████████████████████████████████████████████████████████████████████████████████████████████████████| 571696/571696 [01:18<00:00, 7308.48it/s]\n",
      "100%|██████████████████████████████████████████████████████████████████████████████████████████████████████████████████████████████████████████████████████████████████████████████████████████████████████████████████| 3901/3901 [00:00<00:00, 4625.66it/s]\n",
      "/home/victor/.local/lib/python3.12/site-packages/anndata/_core/anndata.py:1756: UserWarning: Observation names are not unique. To make them unique, call `.obs_names_make_unique`.\n",
      "  utils.warn_names_duplicates(\"obs\")\n",
      "100%|██████████████████████████████████████████████████████████████████████████████████████████████████████████████████████████████████████████████████████████████████████████████████████████████████████████████| 571696/571696 [01:08<00:00, 8354.85it/s]\n",
      "100%|██████████████████████████████████████████████████████████████████████████████████████████████████████████████████████████████████████████████████████████████████████████████████████████████████████████████████| 3062/3062 [00:00<00:00, 4446.10it/s]\n",
      "/home/victor/.local/lib/python3.12/site-packages/anndata/_core/anndata.py:1756: UserWarning: Observation names are not unique. To make them unique, call `.obs_names_make_unique`.\n",
      "  utils.warn_names_duplicates(\"obs\")\n",
      "100%|██████████████████████████████████████████████████████████████████████████████████████████████████████████████████████████████████████████████████████████████████████████████████████████████████████████████| 571696/571696 [01:07<00:00, 8456.07it/s]\n",
      "100%|███████████████████████████████████████████████████████████████████████████████████████████████████████████████████████████████████████████████████████████████████████████████████████████████████████████████████| 2995/2995 [00:03<00:00, 769.05it/s]\n",
      "/home/victor/.local/lib/python3.12/site-packages/anndata/_core/anndata.py:1756: UserWarning: Observation names are not unique. To make them unique, call `.obs_names_make_unique`.\n",
      "  utils.warn_names_duplicates(\"obs\")\n",
      "100%|██████████████████████████████████████████████████████████████████████████████████████████████████████████████████████████████████████████████████████████████████████████████████████████████████████████████| 571696/571696 [01:20<00:00, 7072.79it/s]\n",
      "100%|███████████████████████████████████████████████████████████████████████████████████████████████████████████████████████████████████████████████████████████████████████████████████████████████████████████████████| 4003/4003 [00:05<00:00, 753.83it/s]\n",
      "/home/victor/.local/lib/python3.12/site-packages/anndata/_core/anndata.py:1756: UserWarning: Observation names are not unique. To make them unique, call `.obs_names_make_unique`.\n",
      "  utils.warn_names_duplicates(\"obs\")\n"
     ]
    }
   ],
   "source": [
    "performance_1000_hvg_Morgan_full = NullEvaluator.cross_validation_models(drug_splits=drug_splits,\n",
    "                                      adata=adata,\n",
    "                                      input_name='X_1000_hvg',\n",
    "                                      output_name='X_1000_hvg',\n",
    "                                      drug_rep_name=DRUG_ENCODING_NAME,\n",
    "                                      drug_emb_size=DRUG_ENCODING_SIZE,\n",
    "                                      gene_names_key='gene_names_1000',\n",
    "                                      run_name=\"res_null_1000_morgan_full\")\n",
    "\n",
    "with open(\"./results/res_null_1000_Morgan_full.pkl\", \"wb\") as f:\n",
    "    pkl.dump(performance_1000_hvg_Morgan_full, f)"
   ]
  },
  {
   "cell_type": "code",
   "execution_count": 8,
   "id": "a6bf4948-6131-4dbd-bc26-981cce636ea8",
   "metadata": {},
   "outputs": [
    {
     "name": "stderr",
     "output_type": "stream",
     "text": [
      "100%|█████████████████████████████████████████████████████████████████████████████████████████████████████████████████████████████████████████████████████████████████████████████████████████████████████████████| 571696/571696 [00:50<00:00, 11241.66it/s]\n",
      "100%|██████████████████████████████████████████████████████████████████████████████████████████████████████████████████████████████████████████████████████████████████████████████████████████████████████████████████| 1702/1702 [00:01<00:00, 1352.78it/s]\n",
      "/home/victor/.local/lib/python3.12/site-packages/anndata/_core/anndata.py:1756: UserWarning: Observation names are not unique. To make them unique, call `.obs_names_make_unique`.\n",
      "  utils.warn_names_duplicates(\"obs\")\n",
      "100%|██████████████████████████████████████████████████████████████████████████████████████████████████████████████████████████████████████████████████████████████████████████████████████████████████████████████| 571696/571696 [01:17<00:00, 7345.98it/s]\n",
      "100%|██████████████████████████████████████████████████████████████████████████████████████████████████████████████████████████████████████████████████████████████████████████████████████████████████████████████████| 3901/3901 [00:03<00:00, 1060.51it/s]\n",
      "/home/victor/.local/lib/python3.12/site-packages/anndata/_core/anndata.py:1756: UserWarning: Observation names are not unique. To make them unique, call `.obs_names_make_unique`.\n",
      "  utils.warn_names_duplicates(\"obs\")\n",
      "100%|██████████████████████████████████████████████████████████████████████████████████████████████████████████████████████████████████████████████████████████████████████████████████████████████████████████████| 571696/571696 [01:08<00:00, 8373.51it/s]\n",
      "100%|██████████████████████████████████████████████████████████████████████████████████████████████████████████████████████████████████████████████████████████████████████████████████████████████████████████████████| 3062/3062 [00:02<00:00, 1160.03it/s]\n",
      "/home/victor/.local/lib/python3.12/site-packages/anndata/_core/anndata.py:1756: UserWarning: Observation names are not unique. To make them unique, call `.obs_names_make_unique`.\n",
      "  utils.warn_names_duplicates(\"obs\")\n",
      "100%|██████████████████████████████████████████████████████████████████████████████████████████████████████████████████████████████████████████████████████████████████████████████████████████████████████████████| 571696/571696 [01:06<00:00, 8605.26it/s]\n",
      "100%|██████████████████████████████████████████████████████████████████████████████████████████████████████████████████████████████████████████████████████████████████████████████████████████████████████████████████| 2995/2995 [00:02<00:00, 1392.71it/s]\n",
      "/home/victor/.local/lib/python3.12/site-packages/anndata/_core/anndata.py:1756: UserWarning: Observation names are not unique. To make them unique, call `.obs_names_make_unique`.\n",
      "  utils.warn_names_duplicates(\"obs\")\n",
      "100%|██████████████████████████████████████████████████████████████████████████████████████████████████████████████████████████████████████████████████████████████████████████████████████████████████████████████| 571696/571696 [01:19<00:00, 7177.42it/s]\n",
      "100%|██████████████████████████████████████████████████████████████████████████████████████████████████████████████████████████████████████████████████████████████████████████████████████████████████████████████████| 4003/4003 [00:03<00:00, 1330.73it/s]\n",
      "/home/victor/.local/lib/python3.12/site-packages/anndata/_core/anndata.py:1756: UserWarning: Observation names are not unique. To make them unique, call `.obs_names_make_unique`.\n",
      "  utils.warn_names_duplicates(\"obs\")\n"
     ]
    }
   ],
   "source": [
    "performance_2000_hvg_Morgan_full = NullEvaluator.cross_validation_models(drug_splits=drug_splits,\n",
    "                                      adata=adata,\n",
    "                                      input_name='X_2000_hvg',\n",
    "                                      output_name='X_2000_hvg',\n",
    "                                      drug_rep_name=DRUG_ENCODING_NAME,\n",
    "                                      drug_emb_size=DRUG_ENCODING_SIZE,\n",
    "                                      gene_names_key='gene_names_2000',\n",
    "                                      run_name=\"res_null_2000_morgan_full\")\n",
    "\n",
    "with open(\"./results/res_null_2000_Morgan_full.pkl\", \"wb\") as f:\n",
    "    pkl.dump(performance_2000_hvg_Morgan_full, f)"
   ]
  },
  {
   "cell_type": "code",
   "execution_count": 9,
   "id": "bb18f6b2-6fc7-4a7c-9202-d22113595fec",
   "metadata": {},
   "outputs": [
    {
     "name": "stderr",
     "output_type": "stream",
     "text": [
      "100%|█████████████████████████████████████████████████████████████████████████████████████████████████████████████████████████████████████████████████████████████████████████████████████████████████████████████| 571696/571696 [00:51<00:00, 11202.03it/s]\n",
      "100%|██████████████████████████████████████████████████████████████████████████████████████████████████████████████████████████████████████████████████████████████████████████████████████████████████████████████████| 1702/1702 [00:00<00:00, 3304.83it/s]\n",
      "/home/victor/.local/lib/python3.12/site-packages/anndata/_core/anndata.py:1756: UserWarning: Observation names are not unique. To make them unique, call `.obs_names_make_unique`.\n",
      "  utils.warn_names_duplicates(\"obs\")\n",
      "100%|██████████████████████████████████████████████████████████████████████████████████████████████████████████████████████████████████████████████████████████████████████████████████████████████████████████████| 571696/571696 [01:17<00:00, 7370.61it/s]\n",
      "100%|██████████████████████████████████████████████████████████████████████████████████████████████████████████████████████████████████████████████████████████████████████████████████████████████████████████████████| 3901/3901 [00:01<00:00, 2206.86it/s]\n",
      "/home/victor/.local/lib/python3.12/site-packages/anndata/_core/anndata.py:1756: UserWarning: Observation names are not unique. To make them unique, call `.obs_names_make_unique`.\n",
      "  utils.warn_names_duplicates(\"obs\")\n",
      "100%|██████████████████████████████████████████████████████████████████████████████████████████████████████████████████████████████████████████████████████████████████████████████████████████████████████████████| 571696/571696 [01:08<00:00, 8396.96it/s]\n",
      "100%|██████████████████████████████████████████████████████████████████████████████████████████████████████████████████████████████████████████████████████████████████████████████████████████████████████████████████| 3062/3062 [00:00<00:00, 3074.96it/s]\n",
      "/home/victor/.local/lib/python3.12/site-packages/anndata/_core/anndata.py:1756: UserWarning: Observation names are not unique. To make them unique, call `.obs_names_make_unique`.\n",
      "  utils.warn_names_duplicates(\"obs\")\n",
      "100%|██████████████████████████████████████████████████████████████████████████████████████████████████████████████████████████████████████████████████████████████████████████████████████████████████████████████| 571696/571696 [01:07<00:00, 8445.84it/s]\n",
      "100%|██████████████████████████████████████████████████████████████████████████████████████████████████████████████████████████████████████████████████████████████████████████████████████████████████████████████████| 2995/2995 [00:01<00:00, 1915.14it/s]\n",
      "/home/victor/.local/lib/python3.12/site-packages/anndata/_core/anndata.py:1756: UserWarning: Observation names are not unique. To make them unique, call `.obs_names_make_unique`.\n",
      "  utils.warn_names_duplicates(\"obs\")\n",
      "100%|██████████████████████████████████████████████████████████████████████████████████████████████████████████████████████████████████████████████████████████████████████████████████████████████████████████████| 571696/571696 [01:21<00:00, 7057.00it/s]\n",
      "100%|██████████████████████████████████████████████████████████████████████████████████████████████████████████████████████████████████████████████████████████████████████████████████████████████████████████████████| 4003/4003 [00:01<00:00, 2100.94it/s]\n",
      "/home/victor/.local/lib/python3.12/site-packages/anndata/_core/anndata.py:1756: UserWarning: Observation names are not unique. To make them unique, call `.obs_names_make_unique`.\n",
      "  utils.warn_names_duplicates(\"obs\")\n"
     ]
    }
   ],
   "source": [
    "performance_3500_hvg_Morgan_full = NullEvaluator.cross_validation_models(drug_splits=drug_splits,\n",
    "                                      adata=adata,\n",
    "                                      input_name='X_3500_hvg',\n",
    "                                      output_name='X_3500_hvg',\n",
    "                                      drug_rep_name=DRUG_ENCODING_NAME,\n",
    "                                      drug_emb_size=DRUG_ENCODING_SIZE,\n",
    "                                      gene_names_key='gene_names_3500',\n",
    "                                      run_name=\"res_null_3500_morgan_full\")\n",
    "\n",
    "with open(\"./results/res_null_3500_Morgan_full.pkl\", \"wb\") as f:\n",
    "    pkl.dump(performance_3500_hvg_Morgan_full, f)"
   ]
  },
  {
   "cell_type": "code",
   "execution_count": 12,
   "id": "ad04cdf2-fe93-4903-ae8b-bed3cd4340a6",
   "metadata": {},
   "outputs": [
    {
     "name": "stderr",
     "output_type": "stream",
     "text": [
      "100%|█████████████████████████████████████████████████████████████████████████████████████████████████████████████████████████████████████████████████████████████████████████████████████████████████████████████| 571696/571696 [00:53<00:00, 10754.09it/s]\n",
      "100%|██████████████████████████████████████████████████████████████████████████████████████████████████████████████████████████████████████████████████████████████████████████████████████████████████████████████████| 1702/1702 [00:00<00:00, 1856.17it/s]\n",
      "/home/victor/.local/lib/python3.12/site-packages/anndata/_core/anndata.py:1756: UserWarning: Observation names are not unique. To make them unique, call `.obs_names_make_unique`.\n",
      "  utils.warn_names_duplicates(\"obs\")\n",
      "100%|██████████████████████████████████████████████████████████████████████████████████████████████████████████████████████████████████████████████████████████████████████████████████████████████████████████████| 571696/571696 [01:19<00:00, 7203.67it/s]\n",
      "100%|██████████████████████████████████████████████████████████████████████████████████████████████████████████████████████████████████████████████████████████████████████████████████████████████████████████████████| 3901/3901 [00:01<00:00, 2587.01it/s]\n",
      "/home/victor/.local/lib/python3.12/site-packages/anndata/_core/anndata.py:1756: UserWarning: Observation names are not unique. To make them unique, call `.obs_names_make_unique`.\n",
      "  utils.warn_names_duplicates(\"obs\")\n",
      "100%|██████████████████████████████████████████████████████████████████████████████████████████████████████████████████████████████████████████████████████████████████████████████████████████████████████████████| 571696/571696 [01:08<00:00, 8368.85it/s]\n",
      "100%|██████████████████████████████████████████████████████████████████████████████████████████████████████████████████████████████████████████████████████████████████████████████████████████████████████████████████| 3062/3062 [00:01<00:00, 1758.68it/s]\n",
      "/home/victor/.local/lib/python3.12/site-packages/anndata/_core/anndata.py:1756: UserWarning: Observation names are not unique. To make them unique, call `.obs_names_make_unique`.\n",
      "  utils.warn_names_duplicates(\"obs\")\n",
      "100%|██████████████████████████████████████████████████████████████████████████████████████████████████████████████████████████████████████████████████████████████████████████████████████████████████████████████| 571696/571696 [01:07<00:00, 8466.34it/s]\n",
      "100%|██████████████████████████████████████████████████████████████████████████████████████████████████████████████████████████████████████████████████████████████████████████████████████████████████████████████████| 2995/2995 [00:02<00:00, 1493.23it/s]\n",
      "/home/victor/.local/lib/python3.12/site-packages/anndata/_core/anndata.py:1756: UserWarning: Observation names are not unique. To make them unique, call `.obs_names_make_unique`.\n",
      "  utils.warn_names_duplicates(\"obs\")\n",
      "100%|██████████████████████████████████████████████████████████████████████████████████████████████████████████████████████████████████████████████████████████████████████████████████████████████████████████████| 571696/571696 [01:20<00:00, 7063.22it/s]\n",
      "100%|███████████████████████████████████████████████████████████████████████████████████████████████████████████████████████████████████████████████████████████████████████████████████████████████████████████████████| 4003/4003 [00:05<00:00, 708.31it/s]\n",
      "/home/victor/.local/lib/python3.12/site-packages/anndata/_core/anndata.py:1756: UserWarning: Observation names are not unique. To make them unique, call `.obs_names_make_unique`.\n",
      "  utils.warn_names_duplicates(\"obs\")\n"
     ]
    }
   ],
   "source": [
    "performance_5000_hvg_Morgan_full = NullEvaluator.cross_validation_models(drug_splits=drug_splits,\n",
    "                                      adata=adata,\n",
    "                                      input_name='X_5000_hvg',\n",
    "                                      output_name='X_5000_hvg',\n",
    "                                      drug_rep_name=DRUG_ENCODING_NAME,\n",
    "                                      drug_emb_size=DRUG_ENCODING_SIZE,\n",
    "                                      gene_names_key='gene_names_5000',\n",
    "                                      run_name=\"res_null_5000_morgan_full\")\n",
    "\n",
    "with open(\"./results/res_null_5000_Morgan_full.pkl\", \"wb\") as f:\n",
    "    pkl.dump(performance_5000_hvg_Morgan_full, f)"
   ]
  },
  {
   "cell_type": "code",
   "execution_count": 10,
   "id": "d4eb88ad-f6ae-4121-9b27-c72425049261",
   "metadata": {},
   "outputs": [
    {
     "name": "stderr",
     "output_type": "stream",
     "text": [
      "100%|█████████████████████████████████████████████████████████████████████████████████████████████████████████████████████████████████████████████████████████████████████████████████████████████████████████████| 571696/571696 [00:51<00:00, 11134.79it/s]\n",
      "100%|██████████████████████████████████████████████████████████████████████████████████████████████████████████████████████████████████████████████████████████████████████████████████████████████████████████████████| 1702/1702 [00:01<00:00, 1212.22it/s]\n",
      "/home/victor/.local/lib/python3.12/site-packages/anndata/_core/anndata.py:1756: UserWarning: Observation names are not unique. To make them unique, call `.obs_names_make_unique`.\n",
      "  utils.warn_names_duplicates(\"obs\")\n",
      "100%|██████████████████████████████████████████████████████████████████████████████████████████████████████████████████████████████████████████████████████████████████████████████████████████████████████████████| 571696/571696 [01:19<00:00, 7234.60it/s]\n",
      "100%|███████████████████████████████████████████████████████████████████████████████████████████████████████████████████████████████████████████████████████████████████████████████████████████████████████████████████| 3901/3901 [00:07<00:00, 497.76it/s]\n",
      "/home/victor/.local/lib/python3.12/site-packages/anndata/_core/anndata.py:1756: UserWarning: Observation names are not unique. To make them unique, call `.obs_names_make_unique`.\n",
      "  utils.warn_names_duplicates(\"obs\")\n",
      "100%|██████████████████████████████████████████████████████████████████████████████████████████████████████████████████████████████████████████████████████████████████████████████████████████████████████████████| 571696/571696 [01:08<00:00, 8347.92it/s]\n",
      "100%|██████████████████████████████████████████████████████████████████████████████████████████████████████████████████████████████████████████████████████████████████████████████████████████████████████████████████| 3062/3062 [00:01<00:00, 1653.54it/s]\n",
      "/home/victor/.local/lib/python3.12/site-packages/anndata/_core/anndata.py:1756: UserWarning: Observation names are not unique. To make them unique, call `.obs_names_make_unique`.\n",
      "  utils.warn_names_duplicates(\"obs\")\n",
      "100%|██████████████████████████████████████████████████████████████████████████████████████████████████████████████████████████████████████████████████████████████████████████████████████████████████████████████| 571696/571696 [01:09<00:00, 8192.01it/s]\n",
      "100%|██████████████████████████████████████████████████████████████████████████████████████████████████████████████████████████████████████████████████████████████████████████████████████████████████████████████████| 2995/2995 [00:01<00:00, 1857.30it/s]\n",
      "/home/victor/.local/lib/python3.12/site-packages/anndata/_core/anndata.py:1756: UserWarning: Observation names are not unique. To make them unique, call `.obs_names_make_unique`.\n",
      "  utils.warn_names_duplicates(\"obs\")\n",
      "100%|██████████████████████████████████████████████████████████████████████████████████████████████████████████████████████████████████████████████████████████████████████████████████████████████████████████████| 571696/571696 [01:21<00:00, 6993.57it/s]\n",
      "100%|██████████████████████████████████████████████████████████████████████████████████████████████████████████████████████████████████████████████████████████████████████████████████████████████████████████████████| 4003/4003 [00:02<00:00, 1699.97it/s]\n",
      "/home/victor/.local/lib/python3.12/site-packages/anndata/_core/anndata.py:1756: UserWarning: Observation names are not unique. To make them unique, call `.obs_names_make_unique`.\n",
      "  utils.warn_names_duplicates(\"obs\")\n"
     ]
    }
   ],
   "source": [
    "performance_7500_hvg_Morgan_full = NullEvaluator.cross_validation_models(drug_splits=drug_splits,\n",
    "                                      adata=adata,\n",
    "                                      input_name='X_7500_hvg',\n",
    "                                      output_name='X_7500_hvg',\n",
    "                                      drug_rep_name=DRUG_ENCODING_NAME,\n",
    "                                      drug_emb_size=DRUG_ENCODING_SIZE,\n",
    "                                      gene_names_key='gene_names_7500',\n",
    "                                      run_name=\"res_null_7500_morgan_full\")\n",
    "\n",
    "with open(\"./results/res_null_7500_Morgan_full.pkl\", \"wb\") as f:\n",
    "    pkl.dump(performance_7500_hvg_Morgan_full, f)"
   ]
  },
  {
   "cell_type": "code",
   "execution_count": null,
   "id": "2e961f67-f6af-4a59-a7d0-90dabdb283e3",
   "metadata": {},
   "outputs": [],
   "source": []
  }
 ],
 "metadata": {
  "kernelspec": {
   "display_name": "Python 3 (ipykernel)",
   "language": "python",
   "name": "python3"
  },
  "language_info": {
   "codemirror_mode": {
    "name": "ipython",
    "version": 3
   },
   "file_extension": ".py",
   "mimetype": "text/x-python",
   "name": "python",
   "nbconvert_exporter": "python",
   "pygments_lexer": "ipython3",
   "version": "3.12.7"
  }
 },
 "nbformat": 4,
 "nbformat_minor": 5
}
