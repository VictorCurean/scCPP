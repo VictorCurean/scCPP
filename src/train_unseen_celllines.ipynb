{
 "cells": [
  {
   "cell_type": "code",
   "execution_count": 1,
   "id": "014b555c-dd92-4f48-a94f-4cb4bb9ff6cd",
   "metadata": {},
   "outputs": [],
   "source": [
    "from evaluator import FiLMModelEvaluator\n",
    "from model import FiLMModel\n",
    "from baseline_concat_model import MLPModel\n",
    "from utils import *\n",
    "from dataset_unseen_celllines import SciplexDatasetUnseenCellLines\n",
    "import random\n",
    "\n",
    "import anndata as ad\n",
    "import math"
   ]
  },
  {
   "cell_type": "code",
   "execution_count": 2,
   "id": "b954f770-5324-4afd-9cef-563306b67af2",
   "metadata": {},
   "outputs": [],
   "source": [
    "cell_lines_train = [\"MCF7\", \"A549\"]\n",
    "cell_lines_test = [\"K562\"]"
   ]
  },
  {
   "cell_type": "code",
   "execution_count": 3,
   "id": "15023d25-a041-46dc-a609-7527a978c9ba",
   "metadata": {},
   "outputs": [
    {
     "name": "stderr",
     "output_type": "stream",
     "text": [
      "100%|████████████████████████████████████████████████████████████████████████████████████████████████████████████████████████████████████| 571906/571906 [00:47<00:00, 12106.30it/s]\n",
      "100%|████████████████████████████████████████████████████████████████████████████████████████████████████████████████████████████████████| 571906/571906 [00:27<00:00, 20838.56it/s]\n",
      "100%|████████████████████████████████████████████████████████████████████████████████████████████████████████████████████████████████████| 571906/571906 [00:27<00:00, 20683.21it/s]\n"
     ]
    }
   ],
   "source": [
    "ad_path = \"../data/sciplex/sciplex_preprocessed.h5ad\"\n",
    "\n",
    "dataset_train = SciplexDatasetUnseenCellLines(ad_path, cell_lines_train, 10000)\n",
    "dataset_validation = SciplexDatasetUnseenCellLines(ad_path, cell_lines_test, 10000)\n",
    "dataset_test = SciplexDatasetUnseenCellLines(ad_path, cell_lines_test, 10000)"
   ]
  },
  {
   "cell_type": "code",
   "execution_count": 4,
   "id": "fc520fe4-6922-402f-9164-f674ec224c1a",
   "metadata": {},
   "outputs": [
    {
     "name": "stdout",
     "output_type": "stream",
     "text": [
      "Begin training ...\n",
      "Epoch 1/10\n",
      "Iteration: 10 Test Loss: 0.44851937890052795 Avg. Validation Loss: 0.4545464697530714\n",
      "Iteration: 20 Test Loss: 0.35621950030326843 Avg. Validation Loss: 0.3688904526880232\n",
      "Iteration: 30 Test Loss: 0.3193417191505432 Avg. Validation Loss: 0.32959671293274834\n",
      "Iteration: 40 Test Loss: 0.3011205196380615 Avg. Validation Loss: 0.3095226409071583\n",
      "Iteration: 50 Test Loss: 0.28997182846069336 Avg. Validation Loss: 0.295797035855762\n",
      "Iteration: 60 Test Loss: 0.27969419956207275 Avg. Validation Loss: 0.28530061649063887\n",
      "Iteration: 70 Test Loss: 0.269633412361145 Avg. Validation Loss: 0.27557048201560974\n",
      "Iteration: 80 Test Loss: 0.25833263993263245 Avg. Validation Loss: 0.2661349510742446\n",
      "Iteration: 90 Test Loss: 0.25005191564559937 Avg. Validation Loss: 0.25944667852531045\n",
      "Iteration: 100 Test Loss: 0.2424525022506714 Avg. Validation Loss: 0.25266567579770494\n",
      "Iteration: 110 Test Loss: 0.2350231558084488 Avg. Validation Loss: 0.24892024216005357\n",
      "Iteration: 120 Test Loss: 0.22946371138095856 Avg. Validation Loss: 0.24324978534447944\n",
      "Iteration: 130 Test Loss: 0.2254105806350708 Avg. Validation Loss: 0.2406833305702371\n",
      "Iteration: 140 Test Loss: 0.22238150238990784 Avg. Validation Loss: 0.23756369569544064\n",
      "Iteration: 150 Test Loss: 0.2156241536140442 Avg. Validation Loss: 0.2317159597651433\n",
      "Iteration: 160 Test Loss: 0.20924440026283264 Avg. Validation Loss: 0.2324126352698116\n",
      "Iteration: 170 Test Loss: 0.20758847892284393 Avg. Validation Loss: 0.22415765033940138\n",
      "Iteration: 180 Test Loss: 0.20335255563259125 Avg. Validation Loss: 0.2206920847549277\n",
      "Epoch 2/10\n",
      "Iteration: 190 Test Loss: 0.1984386444091797 Avg. Validation Loss: 0.2178794577465219\n",
      "Iteration: 200 Test Loss: 0.1945248693227768 Avg. Validation Loss: 0.2150594776464721\n",
      "Iteration: 210 Test Loss: 0.19039441645145416 Avg. Validation Loss: 0.21208293256113084\n",
      "Iteration: 220 Test Loss: 0.18706901371479034 Avg. Validation Loss: 0.20951321519027322\n",
      "Iteration: 230 Test Loss: 0.1796160340309143 Avg. Validation Loss: 0.2068938648296615\n",
      "Iteration: 240 Test Loss: 0.18021848797798157 Avg. Validation Loss: 0.20261673174672207\n",
      "Iteration: 250 Test Loss: 0.1783076375722885 Avg. Validation Loss: 0.20164342300366547\n",
      "Iteration: 260 Test Loss: 0.17425280809402466 Avg. Validation Loss: 0.19903948397959692\n",
      "Iteration: 270 Test Loss: 0.16868139803409576 Avg. Validation Loss: 0.1967835411176843\n",
      "Iteration: 280 Test Loss: 0.16679167747497559 Avg. Validation Loss: 0.19393803810669205\n",
      "Iteration: 290 Test Loss: 0.16287288069725037 Avg. Validation Loss: 0.19203271098056082\n",
      "Iteration: 300 Test Loss: 0.16206033527851105 Avg. Validation Loss: 0.18795443364119124\n",
      "Iteration: 310 Test Loss: 0.1568440943956375 Avg. Validation Loss: 0.18973115061299275\n",
      "Iteration: 320 Test Loss: 0.15043781697750092 Avg. Validation Loss: 0.18579645682189425\n",
      "Iteration: 330 Test Loss: 0.15083740651607513 Avg. Validation Loss: 0.1833440638699774\n",
      "Iteration: 340 Test Loss: 0.14951683580875397 Avg. Validation Loss: 0.18114504470663556\n",
      "Iteration: 350 Test Loss: 0.14654554426670074 Avg. Validation Loss: 0.18096210163528637\n",
      "Iteration: 360 Test Loss: 0.1433398425579071 Avg. Validation Loss: 0.18110173157716203\n",
      "Epoch 3/10\n",
      "Iteration: 370 Test Loss: 0.13837586343288422 Avg. Validation Loss: 0.17954810746645522\n",
      "Iteration: 380 Test Loss: 0.13985338807106018 Avg. Validation Loss: 0.17778209230657352\n",
      "Iteration: 390 Test Loss: 0.139052614569664 Avg. Validation Loss: 0.17684945085291134\n",
      "Iteration: 400 Test Loss: 0.13329286873340607 Avg. Validation Loss: 0.17533649251622668\n",
      "Iteration: 410 Test Loss: 0.13172823190689087 Avg. Validation Loss: 0.17626693263902501\n",
      "Iteration: 420 Test Loss: 0.1334352344274521 Avg. Validation Loss: 0.17301877019769055\n",
      "Iteration: 430 Test Loss: 0.1318664699792862 Avg. Validation Loss: 0.17425002031407114\n",
      "Iteration: 440 Test Loss: 0.1267828345298767 Avg. Validation Loss: 0.1736726738133673\n",
      "Iteration: 450 Test Loss: 0.1263434886932373 Avg. Validation Loss: 0.17180493246700804\n",
      "Iteration: 460 Test Loss: 0.12649720907211304 Avg. Validation Loss: 0.17328393762394534\n",
      "Iteration: 470 Test Loss: 0.12549930810928345 Avg. Validation Loss: 0.16919843246371058\n",
      "Iteration: 480 Test Loss: 0.12585756182670593 Avg. Validation Loss: 0.1719810361579313\n",
      "Iteration: 490 Test Loss: 0.12110374867916107 Avg. Validation Loss: 0.1719930611424527\n",
      "Iteration: 500 Test Loss: 0.12139979004859924 Avg. Validation Loss: 0.17065355282718853\n",
      "Iteration: 510 Test Loss: 0.1218264251947403 Avg. Validation Loss: 0.1693304605403189\n",
      "Iteration: 520 Test Loss: 0.11686433106660843 Avg. Validation Loss: 0.17191385616690424\n",
      "Iteration: 530 Test Loss: 0.11701790243387222 Avg. Validation Loss: 0.17201104204533463\n",
      "Iteration: 540 Test Loss: 0.11711981147527695 Avg. Validation Loss: 0.1677273443694842\n",
      "Iteration: 550 Test Loss: 0.11423511803150177 Avg. Validation Loss: 0.16783201214620622\n",
      "Epoch 4/10\n",
      "Iteration: 560 Test Loss: 0.11475706845521927 Avg. Validation Loss: 0.16847065545744816\n",
      "Iteration: 570 Test Loss: 0.11615035682916641 Avg. Validation Loss: 0.16849204064425777\n",
      "Iteration: 580 Test Loss: 0.11429465562105179 Avg. Validation Loss: 0.1698489967039076\n",
      "Iteration: 590 Test Loss: 0.11233136057853699 Avg. Validation Loss: 0.16773335105281764\n",
      "Iteration: 600 Test Loss: 0.11278246343135834 Avg. Validation Loss: 0.16817332198054102\n",
      "Iteration: 610 Test Loss: 0.1106453537940979 Avg. Validation Loss: 0.16754961872504928\n",
      "Iteration: 620 Test Loss: 0.1108873263001442 Avg. Validation Loss: 0.16663635332705612\n",
      "Iteration: 630 Test Loss: 0.11143267899751663 Avg. Validation Loss: 0.167715861383131\n",
      "Iteration: 640 Test Loss: 0.11044211685657501 Avg. Validation Loss: 0.168507592152741\n",
      "Iteration: 650 Test Loss: 0.11123497784137726 Avg. Validation Loss: 0.16484134151773938\n",
      "Iteration: 660 Test Loss: 0.11210934072732925 Avg. Validation Loss: 0.16834720640869463\n",
      "Iteration: 670 Test Loss: 0.11380745470523834 Avg. Validation Loss: 0.16546136898509525\n",
      "Iteration: 680 Test Loss: 0.10878812521696091 Avg. Validation Loss: 0.16514392070851083\n",
      "Iteration: 690 Test Loss: 0.1089019849896431 Avg. Validation Loss: 0.16787923645165007\n",
      "Iteration: 700 Test Loss: 0.10846370458602905 Avg. Validation Loss: 0.16467930326017283\n",
      "Iteration: 710 Test Loss: 0.10941344499588013 Avg. Validation Loss: 0.16473041247513334\n",
      "Iteration: 720 Test Loss: 0.10605154931545258 Avg. Validation Loss: 0.16679012775421143\n",
      "Iteration: 730 Test Loss: 0.10515930503606796 Avg. Validation Loss: 0.16483739599332972\n",
      "Epoch 5/10\n",
      "Iteration: 740 Test Loss: 0.10887717455625534 Avg. Validation Loss: 0.1645208011239262\n",
      "Iteration: 750 Test Loss: 0.1092662662267685 Avg. Validation Loss: 0.16601035958629543\n",
      "Iteration: 760 Test Loss: 0.10719451308250427 Avg. Validation Loss: 0.1641324384737823\n",
      "Iteration: 770 Test Loss: 0.10990558564662933 Avg. Validation Loss: 0.16412293683674375\n",
      "Iteration: 780 Test Loss: 0.10868029296398163 Avg. Validation Loss: 0.16454391737105484\n",
      "Iteration: 790 Test Loss: 0.1069636270403862 Avg. Validation Loss: 0.1642039468732931\n",
      "Iteration: 800 Test Loss: 0.10725599527359009 Avg. Validation Loss: 0.16549215377387355\n",
      "Iteration: 810 Test Loss: 0.10668207705020905 Avg. Validation Loss: 0.16393005469087826\n",
      "Iteration: 820 Test Loss: 0.10506076365709305 Avg. Validation Loss: 0.16502440379837813\n",
      "Iteration: 830 Test Loss: 0.10550248622894287 Avg. Validation Loss: 0.16464261836924796\n",
      "Iteration: 840 Test Loss: 0.10668350756168365 Avg. Validation Loss: 0.16402258938651973\n",
      "Iteration: 850 Test Loss: 0.10507465153932571 Avg. Validation Loss: 0.16414677717928158\n",
      "Iteration: 860 Test Loss: 0.10836754739284515 Avg. Validation Loss: 0.16668056886074906\n",
      "Iteration: 870 Test Loss: 0.10470222681760788 Avg. Validation Loss: 0.16398916204096908\n",
      "Iteration: 880 Test Loss: 0.10867977887392044 Avg. Validation Loss: 0.164636180057364\n",
      "Iteration: 890 Test Loss: 0.10214555263519287 Avg. Validation Loss: 0.16416851140685002\n",
      "Iteration: 900 Test Loss: 0.10465536266565323 Avg. Validation Loss: 0.16657013105133833\n",
      "Iteration: 910 Test Loss: 0.10337873548269272 Avg. Validation Loss: 0.16453289884631916\n",
      "Iteration: 920 Test Loss: 0.10982448607683182 Avg. Validation Loss: 0.1661640478897903\n",
      "Epoch 6/10\n",
      "Iteration: 930 Test Loss: 0.10483189672231674 Avg. Validation Loss: 0.16227069396083638\n",
      "Iteration: 940 Test Loss: 0.10543207079172134 Avg. Validation Loss: 0.16450408353643903\n",
      "Iteration: 950 Test Loss: 0.1058093011379242 Avg. Validation Loss: 0.16427701307555376\n",
      "Iteration: 960 Test Loss: 0.10476242750883102 Avg. Validation Loss: 0.16407303966708103\n",
      "Iteration: 970 Test Loss: 0.10562779754400253 Avg. Validation Loss: 0.16346926406278448\n",
      "Iteration: 980 Test Loss: 0.10524413734674454 Avg. Validation Loss: 0.16445748381695505\n",
      "Iteration: 990 Test Loss: 0.10295489430427551 Avg. Validation Loss: 0.1653813739954415\n",
      "Iteration: 1000 Test Loss: 0.10457520186901093 Avg. Validation Loss: 0.16351478837304195\n",
      "Iteration: 1010 Test Loss: 0.10340549051761627 Avg. Validation Loss: 0.1644325246245174\n",
      "Iteration: 1020 Test Loss: 0.1055898442864418 Avg. Validation Loss: 0.16406969372498786\n",
      "Iteration: 1030 Test Loss: 0.10002855956554413 Avg. Validation Loss: 0.16397818417872412\n",
      "Iteration: 1040 Test Loss: 0.10107648372650146 Avg. Validation Loss: 0.16336611569938014\n",
      "Iteration: 1050 Test Loss: 0.10572787374258041 Avg. Validation Loss: 0.1634849115448483\n",
      "Iteration: 1060 Test Loss: 0.10515353083610535 Avg. Validation Loss: 0.16189611134892803\n",
      "Iteration: 1070 Test Loss: 0.10245833545923233 Avg. Validation Loss: 0.1650874935469385\n",
      "Iteration: 1080 Test Loss: 0.1034272313117981 Avg. Validation Loss: 0.162973492327383\n",
      "Iteration: 1090 Test Loss: 0.10210927575826645 Avg. Validation Loss: 0.16695856517654353\n",
      "Iteration: 1100 Test Loss: 0.09982398897409439 Avg. Validation Loss: 0.1620861521716845\n",
      "Epoch 7/10\n",
      "Iteration: 1110 Test Loss: 0.10720157623291016 Avg. Validation Loss: 0.16257446701243772\n",
      "Iteration: 1120 Test Loss: 0.10300078988075256 Avg. Validation Loss: 0.16407140104447382\n",
      "Iteration: 1130 Test Loss: 0.10612153261899948 Avg. Validation Loss: 0.16250878774513633\n",
      "Iteration: 1140 Test Loss: 0.10371095687150955 Avg. Validation Loss: 0.16507665787713002\n",
      "Iteration: 1150 Test Loss: 0.10232602804899216 Avg. Validation Loss: 0.16345826245970646\n",
      "Iteration: 1160 Test Loss: 0.10040033608675003 Avg. Validation Loss: 0.16555188621504832\n",
      "Iteration: 1170 Test Loss: 0.10414527356624603 Avg. Validation Loss: 0.162142477298187\n",
      "Iteration: 1180 Test Loss: 0.10273590683937073 Avg. Validation Loss: 0.16222105794033762\n",
      "Iteration: 1190 Test Loss: 0.1051468625664711 Avg. Validation Loss: 0.16583140320697073\n",
      "Iteration: 1200 Test Loss: 0.10363961011171341 Avg. Validation Loss: 0.163997410465095\n",
      "Iteration: 1210 Test Loss: 0.10339897871017456 Avg. Validation Loss: 0.16472748730142237\n",
      "Iteration: 1220 Test Loss: 0.10573650896549225 Avg. Validation Loss: 0.16360874751866875\n",
      "Iteration: 1230 Test Loss: 0.10531331598758698 Avg. Validation Loss: 0.16347121510465265\n",
      "Iteration: 1240 Test Loss: 0.1023980975151062 Avg. Validation Loss: 0.16316048775689077\n",
      "Iteration: 1250 Test Loss: 0.10239090025424957 Avg. Validation Loss: 0.16476987201278492\n",
      "Iteration: 1260 Test Loss: 0.10444715619087219 Avg. Validation Loss: 0.16386886395640293\n",
      "Iteration: 1270 Test Loss: 0.10546113550662994 Avg. Validation Loss: 0.16365764226953863\n",
      "Iteration: 1280 Test Loss: 0.1017291471362114 Avg. Validation Loss: 0.16306077246948825\n",
      "Epoch 8/10\n",
      "Iteration: 1290 Test Loss: 0.10351955145597458 Avg. Validation Loss: 0.163815737275754\n",
      "Iteration: 1300 Test Loss: 0.10449682176113129 Avg. Validation Loss: 0.16326604000592637\n",
      "Iteration: 1310 Test Loss: 0.100039541721344 Avg. Validation Loss: 0.1641306212898028\n",
      "Iteration: 1320 Test Loss: 0.10170216113328934 Avg. Validation Loss: 0.162772792880818\n",
      "Iteration: 1330 Test Loss: 0.099395751953125 Avg. Validation Loss: 0.16456161489931204\n",
      "Iteration: 1340 Test Loss: 0.10329438000917435 Avg. Validation Loss: 0.1627852136300782\n",
      "Iteration: 1350 Test Loss: 0.10382065922021866 Avg. Validation Loss: 0.16302808210001155\n",
      "Iteration: 1360 Test Loss: 0.10314275324344635 Avg. Validation Loss: 0.16365041066024263\n",
      "Iteration: 1370 Test Loss: 0.10250066965818405 Avg. Validation Loss: 0.1646365659721827\n",
      "Iteration: 1380 Test Loss: 0.10206709057092667 Avg. Validation Loss: 0.16322081346633072\n",
      "Iteration: 1390 Test Loss: 0.10278812795877457 Avg. Validation Loss: 0.16223199084653692\n",
      "Iteration: 1400 Test Loss: 0.10209037363529205 Avg. Validation Loss: 0.1635946987544076\n",
      "Iteration: 1410 Test Loss: 0.10483529418706894 Avg. Validation Loss: 0.16181086837235142\n",
      "Iteration: 1420 Test Loss: 0.10407447069883347 Avg. Validation Loss: 0.1637167074417664\n",
      "Iteration: 1430 Test Loss: 0.1010218933224678 Avg. Validation Loss: 0.16453277104991978\n",
      "Iteration: 1440 Test Loss: 0.09965141117572784 Avg. Validation Loss: 0.1648702714907921\n",
      "Iteration: 1450 Test Loss: 0.10130756348371506 Avg. Validation Loss: 0.16261367626109366\n",
      "Iteration: 1460 Test Loss: 0.09910290688276291 Avg. Validation Loss: 0.16177516140170017\n",
      "Iteration: 1470 Test Loss: 0.10312042385339737 Avg. Validation Loss: 0.16497399847386246\n",
      "Epoch 9/10\n",
      "Iteration: 1480 Test Loss: 0.10239709913730621 Avg. Validation Loss: 0.16512344727071665\n",
      "Iteration: 1490 Test Loss: 0.10334603488445282 Avg. Validation Loss: 0.16314983948812647\n",
      "Iteration: 1500 Test Loss: 0.09948283433914185 Avg. Validation Loss: 0.16435859996383473\n",
      "Iteration: 1510 Test Loss: 0.10023846477270126 Avg. Validation Loss: 0.16306624473151515\n",
      "Iteration: 1520 Test Loss: 0.10256721079349518 Avg. Validation Loss: 0.16520376351930327\n",
      "Iteration: 1530 Test Loss: 0.10101354122161865 Avg. Validation Loss: 0.16284890422376536\n",
      "Iteration: 1540 Test Loss: 0.09833934903144836 Avg. Validation Loss: 0.16414528201192113\n",
      "Iteration: 1550 Test Loss: 0.10426122695207596 Avg. Validation Loss: 0.16311852305622423\n",
      "Iteration: 1560 Test Loss: 0.10046011954545975 Avg. Validation Loss: 0.16217178030539367\n",
      "Iteration: 1570 Test Loss: 0.10503744333982468 Avg. Validation Loss: 0.16269130777504484\n",
      "Iteration: 1580 Test Loss: 0.1016080230474472 Avg. Validation Loss: 0.1643483219510418\n",
      "Iteration: 1590 Test Loss: 0.10022365301847458 Avg. Validation Loss: 0.162769872253224\n",
      "Iteration: 1600 Test Loss: 0.098574697971344 Avg. Validation Loss: 0.16492063943612373\n",
      "Iteration: 1610 Test Loss: 0.10227708518505096 Avg. Validation Loss: 0.16303047133704363\n",
      "Iteration: 1620 Test Loss: 0.09906161576509476 Avg. Validation Loss: 0.16269555536367125\n",
      "Iteration: 1630 Test Loss: 0.10208749771118164 Avg. Validation Loss: 0.1622697567030535\n",
      "Iteration: 1640 Test Loss: 0.0997936874628067 Avg. Validation Loss: 0.16216241934541928\n",
      "Iteration: 1650 Test Loss: 0.10010559856891632 Avg. Validation Loss: 0.16280078610121193\n",
      "Epoch 10/10\n",
      "Iteration: 1660 Test Loss: 0.10240840166807175 Avg. Validation Loss: 0.16294612369294895\n",
      "Iteration: 1670 Test Loss: 0.10087139159440994 Avg. Validation Loss: 0.1627364582934622\n",
      "Iteration: 1680 Test Loss: 0.10037016868591309 Avg. Validation Loss: 0.16386878414679382\n",
      "Iteration: 1690 Test Loss: 0.10158330947160721 Avg. Validation Loss: 0.16180420755329777\n",
      "Iteration: 1700 Test Loss: 0.10043646395206451 Avg. Validation Loss: 0.16386028543367223\n",
      "Iteration: 1710 Test Loss: 0.10188943892717361 Avg. Validation Loss: 0.16225475022348307\n",
      "Iteration: 1720 Test Loss: 0.09812026470899582 Avg. Validation Loss: 0.1639500593735\n",
      "Iteration: 1730 Test Loss: 0.10251075774431229 Avg. Validation Loss: 0.16279390479548503\n",
      "Iteration: 1740 Test Loss: 0.0999784991145134 Avg. Validation Loss: 0.16328708170834233\n",
      "Iteration: 1750 Test Loss: 0.1051507294178009 Avg. Validation Loss: 0.1639940488641545\n",
      "Iteration: 1760 Test Loss: 0.10207432508468628 Avg. Validation Loss: 0.16324841698347511\n",
      "Iteration: 1770 Test Loss: 0.10295706987380981 Avg. Validation Loss: 0.16482712404202607\n",
      "Iteration: 1780 Test Loss: 0.10048674792051315 Avg. Validation Loss: 0.1622891655917895\n",
      "Iteration: 1790 Test Loss: 0.10299988090991974 Avg. Validation Loss: 0.16301348123510004\n",
      "Iteration: 1800 Test Loss: 0.09845276921987534 Avg. Validation Loss: 0.1622496616032164\n",
      "Iteration: 1810 Test Loss: 0.10412724316120148 Avg. Validation Loss: 0.16314967102923636\n",
      "Iteration: 1820 Test Loss: 0.10304773598909378 Avg. Validation Loss: 0.16268195363424592\n",
      "Iteration: 1830 Test Loss: 0.10115744173526764 Avg. Validation Loss: 0.1633663917497053\n",
      "Iteration: 1840 Test Loss: 0.10654638707637787 Avg. Validation Loss: 0.16417522829467968\n",
      "Training completed.\n"
     ]
    },
    {
     "name": "stderr",
     "output_type": "stream",
     "text": [
      "100%|███████████████████████████████████████████████████████████████████████████████████████████████████████████████████████████████████████████████| 59/59 [00:00<00:00, 59.54it/s]\n"
     ]
    },
    {
     "name": "stdout",
     "output_type": "stream",
     "text": [
      "Testing completed. Results stored in 'self.test_results'.\n"
     ]
    },
    {
     "name": "stderr",
     "output_type": "stream",
     "text": [
      "100%|█████████████████████████████████████████████████████████████████████████████████████████████████████████████████████████████████████████████| 185/185 [00:08<00:00, 21.04it/s]\n"
     ]
    }
   ],
   "source": [
    "film_evalautor = FiLMModelEvaluator(\"../config/FiLM.yaml\",FiLMModel, dataset_train, dataset_validation, dataset_test)\n",
    "film_evalautor.train()\n",
    "film_evalautor.test()\n",
    "results = film_evalautor.get_test_results()\n",
    "results = get_model_stats(results)"
   ]
  },
  {
   "cell_type": "code",
   "execution_count": 5,
   "id": "ae6e31c7-fe75-4745-845c-36deaa713533",
   "metadata": {},
   "outputs": [
    {
     "name": "stdout",
     "output_type": "stream",
     "text": [
      "Avg Pred Loss: 0.5933367443693566\n",
      "Avg Null Loss: 0.09470567741892352\n",
      "Avg Similarity Loss: 0.6250460929731838\n"
     ]
    },
    {
     "data": {
      "image/png": "[encoded data removed]",
      "text/plain": [
       "<Figure size 800x600 with 1 Axes>"
      ]
     },
     "metadata": {},
     "output_type": "display_data"
    }
   ],
   "source": [
    "plot_results(results, \"K562\")"
   ]
  },
  {
   "cell_type": "code",
   "execution_count": 6,
   "id": "1118b5be-fa29-4773-a564-c9b20dfc8d23",
   "metadata": {},
   "outputs": [
    {
     "name": "stdout",
     "output_type": "stream",
     "text": [
      "Begin training ...\n",
      "Epoch 1/5\n",
      "Iteration: 10 Test Loss: 0.3720282316207886 Avg. Validation Loss: 0.36790227586940183\n",
      "Iteration: 20 Test Loss: 0.3413589298725128 Avg. Validation Loss: 0.33880359944650684\n",
      "Iteration: 30 Test Loss: 0.32764387130737305 Avg. Validation Loss: 0.3250478016117872\n",
      "Iteration: 40 Test Loss: 0.31734928488731384 Avg. Validation Loss: 0.3150182134014065\n",
      "Iteration: 50 Test Loss: 0.3106570839881897 Avg. Validation Loss: 0.3064199625435522\n",
      "Iteration: 60 Test Loss: 0.3019104301929474 Avg. Validation Loss: 0.2996814296407215\n",
      "Iteration: 70 Test Loss: 0.29542866349220276 Avg. Validation Loss: 0.29335942712880797\n",
      "Iteration: 80 Test Loss: 0.2902276813983917 Avg. Validation Loss: 0.28774894546654267\n",
      "Iteration: 90 Test Loss: 0.28645384311676025 Avg. Validation Loss: 0.28328124749458444\n",
      "Iteration: 100 Test Loss: 0.28010857105255127 Avg. Validation Loss: 0.27815629567130135\n",
      "Iteration: 110 Test Loss: 0.27758559584617615 Avg. Validation Loss: 0.2754071314456099\n",
      "Iteration: 120 Test Loss: 0.2735254168510437 Avg. Validation Loss: 0.270617631027254\n",
      "Iteration: 130 Test Loss: 0.27031660079956055 Avg. Validation Loss: 0.26684081705950075\n",
      "Iteration: 140 Test Loss: 0.2656075656414032 Avg. Validation Loss: 0.2637330419936423\n",
      "Iteration: 150 Test Loss: 0.2608570158481598 Avg. Validation Loss: 0.25772037192926567\n",
      "Iteration: 160 Test Loss: 0.25682270526885986 Avg. Validation Loss: 0.25396852927692865\n",
      "Iteration: 170 Test Loss: 0.25145310163497925 Avg. Validation Loss: 0.24979244803978226\n",
      "Iteration: 180 Test Loss: 0.24579744040966034 Avg. Validation Loss: 0.2439791090407614\n",
      "Epoch 2/5\n",
      "Iteration: 190 Test Loss: 0.24167460203170776 Avg. Validation Loss: 0.23974425156237716\n",
      "Iteration: 200 Test Loss: 0.2332742065191269 Avg. Validation Loss: 0.2341747008642908\n",
      "Iteration: 210 Test Loss: 0.23054005205631256 Avg. Validation Loss: 0.23150922787391534\n",
      "Iteration: 220 Test Loss: 0.22372786700725555 Avg. Validation Loss: 0.225595945271395\n",
      "Iteration: 230 Test Loss: 0.21841444075107574 Avg. Validation Loss: 0.22122794920105046\n",
      "Iteration: 240 Test Loss: 0.21034644544124603 Avg. Validation Loss: 0.2156892810332573\n",
      "Iteration: 250 Test Loss: 0.20596341788768768 Avg. Validation Loss: 0.21006157160815547\n",
      "Iteration: 260 Test Loss: 0.20012500882148743 Avg. Validation Loss: 0.20677661340115433\n",
      "Iteration: 270 Test Loss: 0.19399820268154144 Avg. Validation Loss: 0.2042293523327779\n",
      "Iteration: 280 Test Loss: 0.18747742474079132 Avg. Validation Loss: 0.20240179108361067\n",
      "Iteration: 290 Test Loss: 0.1842307299375534 Avg. Validation Loss: 0.19694330808469804\n",
      "Iteration: 300 Test Loss: 0.1812923401594162 Avg. Validation Loss: 0.19311529246427245\n",
      "Iteration: 310 Test Loss: 0.17843523621559143 Avg. Validation Loss: 0.192065062916885\n",
      "Iteration: 320 Test Loss: 0.1733592003583908 Avg. Validation Loss: 0.1872506212379973\n",
      "Iteration: 330 Test Loss: 0.17033423483371735 Avg. Validation Loss: 0.18853748627638411\n",
      "Iteration: 340 Test Loss: 0.16658085584640503 Avg. Validation Loss: 0.18533681711908115\n",
      "Iteration: 350 Test Loss: 0.1644013226032257 Avg. Validation Loss: 0.18444950626058093\n",
      "Iteration: 360 Test Loss: 0.1604192703962326 Avg. Validation Loss: 0.1840485546548488\n",
      "Epoch 3/5\n",
      "Iteration: 370 Test Loss: 0.16025343537330627 Avg. Validation Loss: 0.1782357417425867\n",
      "Iteration: 380 Test Loss: 0.1554313451051712 Avg. Validation Loss: 0.18008338319042982\n",
      "Iteration: 390 Test Loss: 0.1507447063922882 Avg. Validation Loss: 0.17853177098904627\n",
      "Iteration: 400 Test Loss: 0.1492006927728653 Avg. Validation Loss: 0.17687947947089955\n",
      "Iteration: 410 Test Loss: 0.14412710070610046 Avg. Validation Loss: 0.17964170923677542\n",
      "Iteration: 420 Test Loss: 0.14496296644210815 Avg. Validation Loss: 0.1763733120287879\n",
      "Iteration: 430 Test Loss: 0.13850194215774536 Avg. Validation Loss: 0.17495214383480912\n",
      "Iteration: 440 Test Loss: 0.14172594249248505 Avg. Validation Loss: 0.1714417393934929\n",
      "Iteration: 450 Test Loss: 0.13723081350326538 Avg. Validation Loss: 0.1739122029078209\n",
      "Iteration: 460 Test Loss: 0.1355927288532257 Avg. Validation Loss: 0.17248410744182133\n",
      "Iteration: 470 Test Loss: 0.12589131295681 Avg. Validation Loss: 0.1718520504438271\n",
      "Iteration: 480 Test Loss: 0.13028348982334137 Avg. Validation Loss: 0.17379738087371244\n",
      "Iteration: 490 Test Loss: 0.1263274848461151 Avg. Validation Loss: 0.1691618627410824\n",
      "Iteration: 500 Test Loss: 0.12140866369009018 Avg. Validation Loss: 0.1690321165626332\n",
      "Iteration: 510 Test Loss: 0.11870835721492767 Avg. Validation Loss: 0.16906803391747555\n",
      "Iteration: 520 Test Loss: 0.1137271597981453 Avg. Validation Loss: 0.16962916921761076\n",
      "Iteration: 530 Test Loss: 0.11535385996103287 Avg. Validation Loss: 0.16842141823243287\n",
      "Iteration: 540 Test Loss: 0.11239507794380188 Avg. Validation Loss: 0.16800050311169382\n",
      "Iteration: 550 Test Loss: 0.11299514770507812 Avg. Validation Loss: 0.167555323344166\n",
      "Epoch 4/5\n",
      "Iteration: 560 Test Loss: 0.1119871586561203 Avg. Validation Loss: 0.16837121041144354\n",
      "Iteration: 570 Test Loss: 0.12069889903068542 Avg. Validation Loss: 0.16582995350078\n",
      "Iteration: 580 Test Loss: 0.11139605939388275 Avg. Validation Loss: 0.16843004448939178\n",
      "Iteration: 590 Test Loss: 0.11039091646671295 Avg. Validation Loss: 0.16682679648116483\n",
      "Iteration: 600 Test Loss: 0.10955165326595306 Avg. Validation Loss: 0.1668498816631608\n",
      "Iteration: 610 Test Loss: 0.10801582783460617 Avg. Validation Loss: 0.16812790374634629\n",
      "Iteration: 620 Test Loss: 0.10824409872293472 Avg. Validation Loss: 0.16801525551383778\n",
      "Iteration: 630 Test Loss: 0.10800751298666 Avg. Validation Loss: 0.16710003124455275\n",
      "Iteration: 640 Test Loss: 0.10801788419485092 Avg. Validation Loss: 0.16968669527668065\n",
      "Iteration: 650 Test Loss: 0.10583331435918808 Avg. Validation Loss: 0.16426990118067145\n",
      "Iteration: 660 Test Loss: 0.11038724333047867 Avg. Validation Loss: 0.16438498385881972\n",
      "Iteration: 670 Test Loss: 0.10711085796356201 Avg. Validation Loss: 0.1647945869777162\n",
      "Iteration: 680 Test Loss: 0.10555890202522278 Avg. Validation Loss: 0.16616418503098568\n",
      "Iteration: 690 Test Loss: 0.10598780959844589 Avg. Validation Loss: 0.16571354941796448\n",
      "Iteration: 700 Test Loss: 0.10507489740848541 Avg. Validation Loss: 0.16479208029932896\n",
      "Iteration: 710 Test Loss: 0.11044023185968399 Avg. Validation Loss: 0.1658658700979362\n",
      "Iteration: 720 Test Loss: 0.1065310537815094 Avg. Validation Loss: 0.1653249026355097\n",
      "Iteration: 730 Test Loss: 0.10514365136623383 Avg. Validation Loss: 0.16395305981070307\n",
      "Epoch 5/5\n",
      "Iteration: 740 Test Loss: 0.10682026296854019 Avg. Validation Loss: 0.16438070848836736\n",
      "Iteration: 750 Test Loss: 0.10463456809520721 Avg. Validation Loss: 0.1644863559532974\n",
      "Iteration: 760 Test Loss: 0.1049586609005928 Avg. Validation Loss: 0.16566343984361423\n",
      "Iteration: 770 Test Loss: 0.10609561204910278 Avg. Validation Loss: 0.1643002707574327\n",
      "Iteration: 780 Test Loss: 0.10235019773244858 Avg. Validation Loss: 0.16399974110773055\n",
      "Iteration: 790 Test Loss: 0.10219484567642212 Avg. Validation Loss: 0.16655200492527525\n",
      "Iteration: 800 Test Loss: 0.10511407256126404 Avg. Validation Loss: 0.16659354911012164\n",
      "Iteration: 810 Test Loss: 0.10473980754613876 Avg. Validation Loss: 0.16494286413920128\n",
      "Iteration: 820 Test Loss: 0.10304396599531174 Avg. Validation Loss: 0.1651965566610886\n",
      "Iteration: 830 Test Loss: 0.10448925197124481 Avg. Validation Loss: 0.16509003558401333\n",
      "Iteration: 840 Test Loss: 0.1035599336028099 Avg. Validation Loss: 0.16576949974237862\n",
      "Iteration: 850 Test Loss: 0.10434617847204208 Avg. Validation Loss: 0.16684896612571457\n",
      "Iteration: 860 Test Loss: 0.10492386668920517 Avg. Validation Loss: 0.16542406506457571\n",
      "Iteration: 870 Test Loss: 0.10440061241388321 Avg. Validation Loss: 0.16542141240532116\n",
      "Iteration: 880 Test Loss: 0.10523054003715515 Avg. Validation Loss: 0.16413209170608198\n",
      "Iteration: 890 Test Loss: 0.10614211112260818 Avg. Validation Loss: 0.1640093957973739\n",
      "Iteration: 900 Test Loss: 0.10376708954572678 Avg. Validation Loss: 0.16332099548840928\n",
      "Iteration: 910 Test Loss: 0.10525768995285034 Avg. Validation Loss: 0.16551396124443765\n",
      "Iteration: 920 Test Loss: 0.10427574813365936 Avg. Validation Loss: 0.16550081033827896\n",
      "Training completed.\n"
     ]
    },
    {
     "name": "stderr",
     "output_type": "stream",
     "text": [
      "100%|███████████████████████████████████████████████████████████████████████████████████████████████████████████████████████████████████████████████| 59/59 [00:01<00:00, 48.00it/s]\n"
     ]
    },
    {
     "name": "stdout",
     "output_type": "stream",
     "text": [
      "Testing completed. Results stored in 'self.test_results'.\n"
     ]
    },
    {
     "name": "stderr",
     "output_type": "stream",
     "text": [
      "100%|█████████████████████████████████████████████████████████████████████████████████████████████████████████████████████████████████████████████| 185/185 [00:08<00:00, 21.46it/s]\n"
     ]
    }
   ],
   "source": [
    "evalautor_baseline = FiLMModelEvaluator(\"../config/MLP_baseline.yaml\",MLPModel, dataset_train, dataset_validation, dataset_test)\n",
    "evalautor_baseline.train()\n",
    "evalautor_baseline.test()\n",
    "results = evalautor_baseline.get_test_results()\n",
    "results = get_model_stats(results)"
   ]
  },
  {
   "cell_type": "code",
   "execution_count": 7,
   "id": "0355b221-929e-4d67-bf94-7b3f713da541",
   "metadata": {},
   "outputs": [
    {
     "name": "stdout",
     "output_type": "stream",
     "text": [
      "Avg Pred Loss: 0.6106576488659781\n",
      "Avg Null Loss: 0.09470567741892352\n",
      "Avg Similarity Loss: 0.642510243441168\n"
     ]
    },
    {
     "data": {
      "image/png": "[encoded data removed]",
      "text/plain": [
       "<Figure size 800x600 with 1 Axes>"
      ]
     },
     "metadata": {},
     "output_type": "display_data"
    }
   ],
   "source": [
    "plot_results(results, \"K562\")"
   ]
  },
  {
   "cell_type": "code",
   "execution_count": null,
   "id": "5bb4d399-5021-4480-9150-1fa813167edf",
   "metadata": {},
   "outputs": [],
   "source": []
  }
 ],
 "metadata": {
  "kernelspec": {
   "display_name": "Python 3 (ipykernel)",
   "language": "python",
   "name": "python3"
  },
  "language_info": {
   "codemirror_mode": {
    "name": "ipython",
    "version": 3
   },
   "file_extension": ".py",
   "mimetype": "text/x-python",
   "name": "python",
   "nbconvert_exporter": "python",
   "pygments_lexer": "ipython3",
   "version": "3.12.7"
  }
 },
 "nbformat": 4,
 "nbformat_minor": 5
}
