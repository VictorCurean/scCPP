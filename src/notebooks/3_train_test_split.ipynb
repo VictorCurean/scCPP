{
 "cells": [
  {
   "cell_type": "code",
   "execution_count": 31,
   "id": "f62fb04d-9bf3-4db8-bf16-1af70a1dd58c",
   "metadata": {},
   "outputs": [],
   "source": [
    "import pandas as pd\n",
    "import anndata as ad\n",
    "import scanpy as sc\n",
    "import numpy as np\n",
    "import seaborn as sns\n",
    "import random\n",
    "import pickle as pkl"
   ]
  },
  {
   "cell_type": "code",
   "execution_count": 2,
   "id": "e2c602dc-7b67-494b-bf4c-1da6fa8b9d31",
   "metadata": {},
   "outputs": [],
   "source": [
    "adata = ad.read_h5ad('../../data/sciplex_qc_ann.h5ad')"
   ]
  },
  {
   "cell_type": "code",
   "execution_count": 20,
   "id": "2fee98f1-f5fd-4b82-b0d7-8443676a2028",
   "metadata": {},
   "outputs": [],
   "source": [
    "SMILES = adata.obs.SMILES.unique()\n",
    "FMFP = adata.obs.fmfp.unique()\n",
    "drugs = list(adata.obs.product_name.unique())\n",
    "drugs.remove(\"Vehicle\")"
   ]
  },
  {
   "cell_type": "markdown",
   "id": "9ba644e5-6619-45a1-9796-0120e9ccddce",
   "metadata": {},
   "source": [
    "## Random Split"
   ]
  },
  {
   "cell_type": "code",
   "execution_count": 27,
   "id": "48302d4a-b353-41c0-90d2-10d0c9281074",
   "metadata": {},
   "outputs": [],
   "source": [
    "#random 60-20-20 split \n",
    "def random_split(data):\n",
    "    random.shuffle(data)\n",
    "    \n",
    "    total = len(data)\n",
    "    train_end = int(0.6 * total)\n",
    "    val_end = train_end + int(0.2 * total)\n",
    "    \n",
    "    # Split the data\n",
    "    train_data = data[:train_end]\n",
    "    val_data = data[train_end:val_end]\n",
    "    test_data = data[val_end:]\n",
    "\n",
    "    return train_data, val_data, test_data\n"
   ]
  },
  {
   "cell_type": "code",
   "execution_count": 29,
   "id": "52eaa1d9-2111-40e3-9a01-ddcf79855020",
   "metadata": {},
   "outputs": [],
   "source": [
    "train_drugs_rand, val_drugs_rand, test_drugs_rand = random_split(drugs)"
   ]
  },
  {
   "cell_type": "code",
   "execution_count": 32,
   "id": "2ce46d67-ad41-4abf-a2a2-f1d9dc029fa1",
   "metadata": {},
   "outputs": [],
   "source": [
    "with open(\"../../data/drug_splits/train_drugs_rand.pkl\", 'wb') as f:\n",
    "    pkl.dump(train_drugs_rand, f)\n",
    "\n",
    "with open(\"../../data/drug_splits/val_drugs_rand.pkl\", 'wb') as f:\n",
    "    pkl.dump(val_drugs_rand, f)\n",
    "\n",
    "with open(\"../../data/drug_splits/test_drugs_rand.pkl\", 'wb') as f:\n",
    "    pkl.dump(test_drugs_rand, f)"
   ]
  },
  {
   "cell_type": "markdown",
   "id": "32a37a2f-e997-4800-8f16-f6bab32ef7eb",
   "metadata": {},
   "source": [
    "## Structure Similarity Split"
   ]
  },
  {
   "cell_type": "code",
   "execution_count": null,
   "id": "4e374434-3421-4622-9bfd-ef4254458494",
   "metadata": {},
   "outputs": [],
   "source": []
  },
  {
   "cell_type": "code",
   "execution_count": null,
   "id": "4533123a-13f4-4ea3-8045-3c20b85d0715",
   "metadata": {},
   "outputs": [],
   "source": []
  },
  {
   "cell_type": "code",
   "execution_count": null,
   "id": "7ab2f2a4-69a0-4109-8653-33012794458c",
   "metadata": {},
   "outputs": [],
   "source": []
  },
  {
   "cell_type": "markdown",
   "id": "de3ac8a7-26fa-4189-9139-f9a41a31e755",
   "metadata": {},
   "source": [
    "## Gene Effect Split"
   ]
  },
  {
   "cell_type": "code",
   "execution_count": null,
   "id": "3d26b8a6-cfea-4af0-b359-ceb4b3a51e97",
   "metadata": {},
   "outputs": [],
   "source": []
  }
 ],
 "metadata": {
  "kernelspec": {
   "display_name": "Python 3 (ipykernel)",
   "language": "python",
   "name": "python3"
  },
  "language_info": {
   "codemirror_mode": {
    "name": "ipython",
    "version": 3
   },
   "file_extension": ".py",
   "mimetype": "text/x-python",
   "name": "python",
   "nbconvert_exporter": "python",
   "pygments_lexer": "ipython3",
   "version": "3.12.7"
  }
 },
 "nbformat": 4,
 "nbformat_minor": 5
}
