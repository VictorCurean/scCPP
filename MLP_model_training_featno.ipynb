{
 "cells": [
  {
   "cell_type": "code",
   "execution_count": 3,
   "id": "fbbcf75e-6cd4-4aef-ac03-a446902b7cf5",
   "metadata": {},
   "outputs": [],
   "source": [
    "import anndata as ad\n",
    "import pickle as pkl\n",
    "\n",
    "from src.evaluator.MLP_baseline_evaluator import get_models_results\n",
    "from src.evaluator.evaluator_utils import l2_loss"
   ]
  },
  {
   "cell_type": "code",
   "execution_count": 4,
   "id": "b95bdc9c-882f-4e2b-8c2f-70cedec6bf41",
   "metadata": {},
   "outputs": [],
   "source": [
    "def train_different_featno(adata_path=None, run_name=None, res_savename=None, input_dim=None, output_dim=None):\n",
    "    DRUG_ENCODING_NAME = \"fmfp\"\n",
    "    DRUG_ENCODING_SIZE = 1024\n",
    "    N_TRIALS = 50\n",
    "    SCHEDULER_MODE = 'min'\n",
    "\n",
    "    with open(\"./data/drug_splits/train_drugs_rand.pkl\", 'rb') as f:\n",
    "        drugs_train_rand = pkl.load(f)\n",
    "\n",
    "    with open(\"./data/drug_splits/val_drugs_rand.pkl\", 'rb') as f:\n",
    "        drugs_val_rand = pkl.load(f)\n",
    "\n",
    "    with open(\"./data/drug_splits/test_drugs_rand.pkl\", 'rb') as f:\n",
    "        drugs_test_rand = pkl.load(f)\n",
    "\n",
    "    drug_splits = dict()\n",
    "    drug_splits['train'] = drugs_train_rand\n",
    "    drug_splits['valid'] = drugs_val_rand\n",
    "    drug_splits['test'] = drugs_test_rand\n",
    "\n",
    "    adata = ad.read_h5ad(adata_path)\n",
    "\n",
    "    get_models_results(drug_splits=drug_splits,\n",
    "                          loss_function=l2_loss,\n",
    "                          adata=adata,\n",
    "                          input_dim=input_dim,\n",
    "                          output_dim=output_dim,\n",
    "                          drug_rep_name=DRUG_ENCODING_NAME,\n",
    "                          drug_emb_size=DRUG_ENCODING_SIZE,\n",
    "                          n_trials=N_TRIALS,\n",
    "                          scheduler_mode=SCHEDULER_MODE,\n",
    "                          run_name=run_name,\n",
    "                          save_path=res_savename,\n",
    "                          add_relu=True\n",
    "                      )"
   ]
  },
  {
   "cell_type": "code",
   "execution_count": null,
   "id": "6dd3ea7e-bc21-4f89-8d73-eb59dbfadff0",
   "metadata": {},
   "outputs": [
    {
     "name": "stdout",
     "output_type": "stream",
     "text": [
      "Loading Datasets ...\n"
     ]
    },
    {
     "name": "stderr",
     "output_type": "stream",
     "text": [
      "100%|███████████████████████████████████████████████████████████████████████████████████████████████████████████████████████████████████████████████████████████████████| 401917/401917 [03:05<00:00, 2162.11it/s]\n",
      "100%|███████████████████████████████████████████████████████████████████████████████████████████████████████████████████████████████████████████████████████████████████| 401917/401917 [01:13<00:00, 5441.96it/s]\n",
      "[I 2025-06-18 12:16:22,461] A new study created in RDB with name: mlp_hvg_500\n"
     ]
    },
    {
     "name": "stdout",
     "output_type": "stream",
     "text": [
      "Optimizing Hyperparameters with Optuna ...\n",
      "Epoch:\t 0 Val Loss:\t 0.03604320379219638\n",
      "Epoch:\t 1 Val Loss:\t 0.03647944459937202\n",
      "Epoch:\t 2 Val Loss:\t 0.03639627547509417\n",
      "Epoch:\t 3 Val Loss:\t 0.03625103992999942\n",
      "Epoch:\t 4 Val Loss:\t 0.036146133072027437\n",
      "Epoch:\t 5 Val Loss:\t 0.03616646544295109\n",
      "Epoch:\t 6 Val Loss:\t 0.036119568470110844\n",
      "Epoch:\t 7 Val Loss:\t 0.036087531889893616\n",
      "Epoch:\t 8 Val Loss:\t 0.03601778980787736\n",
      "Epoch:\t 9 Val Loss:\t 0.03627077741039336\n",
      "Epoch:\t 10 Val Loss:\t 0.036098425063960424\n",
      "Epoch:\t 11 Val Loss:\t 0.03624313283364298\n",
      "Epoch:\t 12 Val Loss:\t 0.03614858539709133\n",
      "Epoch:\t 13 Val Loss:\t 0.03606382787970293\n",
      "Epoch:\t 14 Val Loss:\t 0.036161963531442014\n",
      "Epoch:\t 15 Val Loss:\t 0.03600762937804894\n",
      "Epoch:\t 16 Val Loss:\t 0.03607207453447331\n",
      "Epoch:\t 17 Val Loss:\t 0.03608266689434312\n",
      "Epoch:\t 18 Val Loss:\t 0.03614292048229282\n",
      "Epoch:\t 19 Val Loss:\t 0.03615481744840789\n",
      "Epoch:\t 20 Val Loss:\t 0.036189854743971316\n",
      "Epoch:\t 21 Val Loss:\t 0.03608942449308477\n",
      "Epoch:\t 22 Val Loss:\t 0.03596261895330581\n",
      "Epoch:\t 23 Val Loss:\t 0.036140726573789236\n",
      "Epoch:\t 24 Val Loss:\t 0.0359724785988833\n",
      "Epoch:\t 25 Val Loss:\t 0.03612001204318172\n",
      "Epoch:\t 26 Val Loss:\t 0.036152804000872125\n",
      "Epoch:\t 27 Val Loss:\t 0.03599626200806673\n",
      "Epoch:\t 28 Val Loss:\t 0.036051787501889795\n",
      "Epoch:\t 29 Val Loss:\t 0.03608609835985581\n",
      "Epoch:\t 30 Val Loss:\t 0.036059364969946946\n",
      "Epoch:\t 31 Val Loss:\t 0.03607864188587359\n"
     ]
    },
    {
     "name": "stderr",
     "output_type": "stream",
     "text": [
      "[I 2025-06-18 12:17:16,203] Trial 0 finished with value: 0.03596261895330581 and parameters: {'lr': 0.001, 'weight_decay': 0.001, 'scheduler_factor': 0.1, 'scheduler_patience': 10, 'batch_size': 256, 'dropout': 0.15, 'hidden_dims': 1024}. Best is trial 0 with value: 0.03596261895330581.\n"
     ]
    },
    {
     "name": "stdout",
     "output_type": "stream",
     "text": [
      "Epoch:\t 32 Val Loss:\t 0.036150687586791644\n",
      "Epoch:\t 0 Val Loss:\t 0.035262776605532606\n",
      "Epoch:\t 1 Val Loss:\t 0.03517082932887909\n",
      "Epoch:\t 2 Val Loss:\t 0.03516092370789512\n",
      "Epoch:\t 3 Val Loss:\t 0.03519663018510537\n",
      "Epoch:\t 4 Val Loss:\t 0.035213203563132296\n",
      "Epoch:\t 5 Val Loss:\t 0.0351970288387504\n",
      "Epoch:\t 6 Val Loss:\t 0.03514785990432469\n",
      "Epoch:\t 7 Val Loss:\t 0.03521427960047154\n",
      "Epoch:\t 8 Val Loss:\t 0.03521955643312722\n",
      "Epoch:\t 9 Val Loss:\t 0.035254226473520785\n",
      "Epoch:\t 10 Val Loss:\t 0.035228751850579595\n",
      "Epoch:\t 11 Val Loss:\t 0.03516889295865994\n",
      "Epoch:\t 12 Val Loss:\t 0.03519169475224173\n",
      "Epoch:\t 13 Val Loss:\t 0.03519844716689858\n"
     ]
    }
   ],
   "source": [
    "train_different_featno(\n",
    "        adata_path=\"./data/feature_number/sciplex_hvg_500.h5ad\",\n",
    "        run_name=\"mlp_hvg_500\",\n",
    "        res_savename=\"./results/feature_number/mlp_hvg_500_res.pkl\",\n",
    "        input_dim=500,\n",
    "        output_dim=500,\n",
    "    )"
   ]
  },
  {
   "cell_type": "code",
   "execution_count": null,
   "id": "84b8c143-6b0b-4f82-989b-0a133e6b6769",
   "metadata": {},
   "outputs": [],
   "source": [
    "train_different_featno(\n",
    "        adata_path=\"./data/feature_number/sciplex_hvg_1000.h5ad\",\n",
    "        run_name=\"mlp_hvg_1000\",\n",
    "        res_savename=\"./results/feature_number/mlp_hvg_1000_res.pkl\",\n",
    "        input_dim=1000,\n",
    "        output_dim=1000,\n",
    "    )"
   ]
  },
  {
   "cell_type": "code",
   "execution_count": null,
   "id": "4498a7a8-65c6-4ea8-b465-b4eb2874adc9",
   "metadata": {},
   "outputs": [],
   "source": [
    "train_different_featno(\n",
    "        adata_path=\"./data/feature_number/sciplex_hvg_2000.h5ad\",\n",
    "        run_name=\"mlp_hvg_2000\",\n",
    "        res_savename=\"./results/feature_number/mlp_hvg_2000_res.pkl\",\n",
    "        input_dim=2000,\n",
    "        output_dim=2000,\n",
    "    )"
   ]
  },
  {
   "cell_type": "code",
   "execution_count": null,
   "id": "09bad6fe-d888-4ffe-ba67-ffad0747fb80",
   "metadata": {},
   "outputs": [],
   "source": [
    "train_different_featno(\n",
    "        adata_path=\"./data/feature_number/sciplex_hvg_3500.h5ad\",\n",
    "        run_name=\"mlp_hvg_3500\",\n",
    "        res_savename=\"./results/feature_number/mlp_hvg_3500_res.pkl\",\n",
    "        input_dim=3500,\n",
    "        output_dim=3500,\n",
    "    )"
   ]
  },
  {
   "cell_type": "code",
   "execution_count": null,
   "id": "fee851d4-8e0f-43c2-be1c-d61858727dba",
   "metadata": {},
   "outputs": [],
   "source": [
    "train_different_featno(\n",
    "        adata_path=\"./data/feature_number/sciplex_hvg_5000.h5ad\",\n",
    "        run_name=\"mlp_hvg_5000\",\n",
    "        res_savename=\"./results/feature_number/mlp_hvg_5000_res.pkl\",\n",
    "        input_dim=5000,\n",
    "        output_dim=5000,\n",
    "    )"
   ]
  },
  {
   "cell_type": "code",
   "execution_count": null,
   "id": "3877c129-6a13-43a3-ad8a-5a2e7fd3efb0",
   "metadata": {},
   "outputs": [],
   "source": [
    "train_different_featno(\n",
    "        adata_path=\"./data/feature_number/sciplex_hvg_7500.h5ad\",\n",
    "        run_name=\"mlp_hvg_7500\",\n",
    "        res_savename=\"./results/feature_number/mlp_hvg_7500_res.pkl\",\n",
    "        input_dim=7500,\n",
    "        output_dim=7500,\n",
    "    )"
   ]
  },
  {
   "cell_type": "code",
   "execution_count": null,
   "id": "673a6fdd-7a3d-44d1-8bb1-34412adc5944",
   "metadata": {},
   "outputs": [],
   "source": []
  }
 ],
 "metadata": {
  "kernelspec": {
   "display_name": "Python 3 (ipykernel)",
   "language": "python",
   "name": "python3"
  },
  "language_info": {
   "codemirror_mode": {
    "name": "ipython",
    "version": 3
   },
   "file_extension": ".py",
   "mimetype": "text/x-python",
   "name": "python",
   "nbconvert_exporter": "python",
   "pygments_lexer": "ipython3",
   "version": "3.12.7"
  }
 },
 "nbformat": 4,
 "nbformat_minor": 5
}
