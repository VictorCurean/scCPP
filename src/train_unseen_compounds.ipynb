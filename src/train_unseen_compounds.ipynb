{
 "cells": [
  {
   "cell_type": "code",
   "execution_count": 1,
   "id": "02020ce9-8d49-4351-8d27-fef1e62d4250",
   "metadata": {},
   "outputs": [],
   "source": [
    "from evaluator import FiLMModelEvaluator\n",
    "from models.FiLM_unicod import FiLMModel\n",
    "from models.MLP_concat import MLPModel\n",
    "from utils import *\n",
    "from dataset.dataset_unseen_compounds import SciplexDatasetUnseenPerturbations\n",
    "import random\n",
    "from sklearn.metrics import r2_score\n",
    "\n",
    "import anndata as ad\n",
    "import math\n",
    "import pickle as pkl"
   ]
  },
  {
   "cell_type": "code",
   "execution_count": 3,
   "id": "84266e47-0d8e-4117-9237-7921e031e908",
   "metadata": {},
   "outputs": [],
   "source": [
    "#read PRNet splits\n",
    "with open(\"../data/sciplex/prnet_drug_splits.pkl\", \"rb\") as f:\n",
    "    drug_splits = pkl.load(f)"
   ]
  },
  {
   "cell_type": "code",
   "execution_count": 4,
   "id": "71a70afe-956b-4e4b-b329-7753b29afe13",
   "metadata": {},
   "outputs": [],
   "source": [
    "drugs_train = drug_splits['drug_split_0']['train']\n",
    "drugs_validation = drug_splits['drug_split_0']['valid']\n",
    "drugs_test = drug_splits['drug_split_0']['test']"
   ]
  },
  {
   "cell_type": "code",
   "execution_count": 25,
   "id": "79041e05-43e8-487e-b181-11f2468090bd",
   "metadata": {},
   "outputs": [
    {
     "name": "stderr",
     "output_type": "stream",
     "text": [
      "  0%|                                                                                                                                          | 8/571696 [00:00<02:01, 4699.50it/s]\n"
     ]
    },
    {
     "ename": "SyntaxError",
     "evalue": "invalid syntax. Perhaps you forgot a comma? (<unknown>, line 1)",
     "output_type": "error",
     "traceback": [
      "Traceback \u001b[0;36m(most recent call last)\u001b[0m:\n",
      "\u001b[0m  File \u001b[1;32m/apps/miniconda3/envs/dege-fm/lib/python3.12/site-packages/IPython/core/interactiveshell.py:3577\u001b[0m in \u001b[1;35mrun_code\u001b[0m\n    exec(code_obj, self.user_global_ns, self.user_ns)\u001b[0m\n",
      "\u001b[0m  Cell \u001b[1;32mIn[25], line 3\u001b[0m\n    dataset_train = SciplexDatasetUnseenPerturbations(ad_path, drugs_train, \"sm_morgan_emb\", 1024, \"X_5000_hvg\", \"X_5000_hvg\")\u001b[0m\n",
      "\u001b[0m  File \u001b[1;32m~/projects/dege-fm/src/dataset/dataset_unseen_compounds.py:23\u001b[0m in \u001b[1;35m__init__\u001b[0m\n    self.__match_control_to_treated()\u001b[0m\n",
      "\u001b[0m  File \u001b[1;32m~/projects/dege-fm/src/dataset/dataset_unseen_compounds.py:64\u001b[0m in \u001b[1;35m__match_control_to_treated\u001b[0m\n    drug_emb = ast.literal_eval(cell_meta[self.sm_emb_column])\u001b[0m\n",
      "\u001b[0m  File \u001b[1;32m/apps/miniconda3/envs/dege-fm/lib/python3.12/ast.py:66\u001b[0m in \u001b[1;35mliteral_eval\u001b[0m\n    node_or_string = parse(node_or_string.lstrip(\" \\t\"), mode='eval')\u001b[0m\n",
      "\u001b[0;36m  File \u001b[0;32m/apps/miniconda3/envs/dege-fm/lib/python3.12/ast.py:52\u001b[0;36m in \u001b[0;35mparse\u001b[0;36m\n\u001b[0;31m    return compile(source, filename, mode, flags,\u001b[0;36m\n",
      "\u001b[0;36m  File \u001b[0;32m<unknown>:1\u001b[0;36m\u001b[0m\n\u001b[0;31m    [1. 1. 1. ... 0. 0. 0.]\u001b[0m\n\u001b[0m     ^\u001b[0m\n\u001b[0;31mSyntaxError\u001b[0m\u001b[0;31m:\u001b[0m invalid syntax. Perhaps you forgot a comma?\n"
     ]
    }
   ],
   "source": [
    "ad_path = \"../data/sciplex/sciplex_final.h5ad\"\n",
    "\n",
    "dataset_train = SciplexDatasetUnseenPerturbations(ad_path, drugs_train, \"sm_coati_emb\", 256, \"X_5000_hvg\", \"X_5000_hvg\")\n",
    "dataset_validation = SciplexDatasetUnseenPerturbations(ad_path, drugs_validation, \"sm_coati_emb\", 256, \"X_5000_hvg\", \"X_5000_hvg\")\n",
    "dataset_test = SciplexDatasetUnseenPerturbations(ad_path, drugs_test, \"sm_coati_emb\", 256, \"X_5000_hvg\", \"X_5000_hvg\")"
   ]
  },
  {
   "cell_type": "code",
   "execution_count": null,
   "id": "d3ca687c-dd66-4293-8510-405a3ad3168a",
   "metadata": {},
   "outputs": [],
   "source": [
    "evalautor = FiLMModelEvaluator(\"../config/FiLM.yaml\",FiLMModel, dataset_train, dataset_validation, dataset_test)\n",
    "evalautor.train()\n",
    "evalautor.test()\n",
    "results = evalautor.get_test_results()"
   ]
  },
  {
   "cell_type": "code",
   "execution_count": 8,
   "id": "71ef5ff4-799c-43b1-bb34-7ab08aac3e32",
   "metadata": {},
   "outputs": [
    {
     "data": {
      "text/html": [
       "<div>\n",
       "<style scoped>\n",
       "    .dataframe tbody tr th:only-of-type {\n",
       "        vertical-align: middle;\n",
       "    }\n",
       "\n",
       "    .dataframe tbody tr th {\n",
       "        vertical-align: top;\n",
       "    }\n",
       "\n",
       "    .dataframe thead th {\n",
       "        text-align: right;\n",
       "    }\n",
       "</style>\n",
       "<table border=\"1\" class=\"dataframe\">\n",
       "  <thead>\n",
       "    <tr style=\"text-align: right;\">\n",
       "      <th></th>\n",
       "      <th>ctrl_emb</th>\n",
       "      <th>pert_emb</th>\n",
       "      <th>pred_emb</th>\n",
       "      <th>compound</th>\n",
       "      <th>cell_type</th>\n",
       "    </tr>\n",
       "  </thead>\n",
       "  <tbody>\n",
       "    <tr>\n",
       "      <th>0</th>\n",
       "      <td>[0.0, 0.0, 0.0, 0.0, 0.0, 0.0, 0.0, 0.0, 0.0, ...</td>\n",
       "      <td>[0.0, 0.0, 0.0, 0.0, 0.0, 0.0, 0.0, 0.0, 0.0, ...</td>\n",
       "      <td>[0.0001613186, 0.023854421, -0.00011559239, 0....</td>\n",
       "      <td>Meprednisone</td>\n",
       "      <td>MCF7</td>\n",
       "    </tr>\n",
       "    <tr>\n",
       "      <th>1</th>\n",
       "      <td>[0.0, 0.0, 0.0, 0.43270838, 0.0, 0.0, 0.0, 0.0...</td>\n",
       "      <td>[0.0, 0.0, 0.0, 0.0, 0.0, 0.0, 0.0, 0.0, 0.0, ...</td>\n",
       "      <td>[0.00013488712, 0.021435281, -0.00014686708, 0...</td>\n",
       "      <td>Daphnetin</td>\n",
       "      <td>MCF7</td>\n",
       "    </tr>\n",
       "    <tr>\n",
       "      <th>2</th>\n",
       "      <td>[0.0, 0.0, 0.0, 0.0, 0.0, 0.0, 0.0, 0.0, 0.0, ...</td>\n",
       "      <td>[0.0, 0.22512506, 0.0, 0.0, 0.0, 0.0, 0.0, 0.0...</td>\n",
       "      <td>[0.00014615538, 0.02326357, -0.00012166079, 0....</td>\n",
       "      <td>Meprednisone</td>\n",
       "      <td>MCF7</td>\n",
       "    </tr>\n",
       "    <tr>\n",
       "      <th>3</th>\n",
       "      <td>[0.0, 0.72397155, 0.0, 0.0, 0.0, 0.0, 0.0, 0.0...</td>\n",
       "      <td>[0.0, 0.0, 0.0, 0.0, 0.0, 0.0, 0.0, 0.0, 0.0, ...</td>\n",
       "      <td>[0.00015821704, 0.024045855, -0.00011085505, 0...</td>\n",
       "      <td>Celecoxib</td>\n",
       "      <td>MCF7</td>\n",
       "    </tr>\n",
       "    <tr>\n",
       "      <th>4</th>\n",
       "      <td>[0.0, 0.0, 0.0, 0.0, 0.0, 0.0, 0.0, 0.0, 0.0, ...</td>\n",
       "      <td>[0.0, 0.9569237, 0.0, 0.0, 0.0, 0.0, 0.0, 0.0,...</td>\n",
       "      <td>[0.008774277, 0.2806023, -0.0005888859, 0.0024...</td>\n",
       "      <td>Entacapone</td>\n",
       "      <td>A549</td>\n",
       "    </tr>\n",
       "    <tr>\n",
       "      <th>...</th>\n",
       "      <td>...</td>\n",
       "      <td>...</td>\n",
       "      <td>...</td>\n",
       "      <td>...</td>\n",
       "      <td>...</td>\n",
       "    </tr>\n",
       "    <tr>\n",
       "      <th>27229</th>\n",
       "      <td>[0.0, 0.0, 0.24458992, 0.0, 0.0, 0.0, 0.0, 0.0...</td>\n",
       "      <td>[0.0, 0.0, 0.0, 0.0, 0.0, 0.0, 0.0, 0.0, 0.0, ...</td>\n",
       "      <td>[0.00016122064, 0.02414211, -0.00010952612, 0....</td>\n",
       "      <td>ENMD-2076</td>\n",
       "      <td>MCF7</td>\n",
       "    </tr>\n",
       "    <tr>\n",
       "      <th>27230</th>\n",
       "      <td>[0.0, 0.9974963, 0.0, 0.0, 0.0, 0.0, 0.0, 0.0,...</td>\n",
       "      <td>[0.0, 0.0, 0.0, 0.0, 0.0, 0.0, 0.0, 0.0, 0.0, ...</td>\n",
       "      <td>[0.008764349, 0.28082308, -0.000587613, 0.0024...</td>\n",
       "      <td>PHA-680632</td>\n",
       "      <td>A549</td>\n",
       "    </tr>\n",
       "    <tr>\n",
       "      <th>27231</th>\n",
       "      <td>[0.0, 0.0, 0.0, 0.0, 0.0, 0.0, 0.0, 0.0, 0.0, ...</td>\n",
       "      <td>[0.0, 0.0, 0.0, 0.0, 0.0, 0.0, 0.0, 0.0, 0.0, ...</td>\n",
       "      <td>[0.00015544439, 0.02375138, -0.000115455696, 0...</td>\n",
       "      <td>UNC1999</td>\n",
       "      <td>MCF7</td>\n",
       "    </tr>\n",
       "    <tr>\n",
       "      <th>27232</th>\n",
       "      <td>[0.0, 0.0, 0.0, 0.0, 0.0, 0.0, 0.0, 0.0, 0.0, ...</td>\n",
       "      <td>[0.0, 0.5421325, 0.0, 0.0, 0.0, 0.0, 0.0, 0.0,...</td>\n",
       "      <td>[0.008815448, 0.28079277, -0.0005885293, 0.002...</td>\n",
       "      <td>Entacapone</td>\n",
       "      <td>A549</td>\n",
       "    </tr>\n",
       "    <tr>\n",
       "      <th>27233</th>\n",
       "      <td>[0.0, 0.0, 0.0, 0.0, 0.0, 0.0, 0.0, 0.0, 0.0, ...</td>\n",
       "      <td>[0.0, 0.0, 0.0, 0.0, 0.0, 0.0, 0.0, 0.0, 0.0, ...</td>\n",
       "      <td>[0.01894999, -0.0010021003, -5.5435958e-05, 0....</td>\n",
       "      <td>ENMD-2076</td>\n",
       "      <td>K562</td>\n",
       "    </tr>\n",
       "  </tbody>\n",
       "</table>\n",
       "<p>27234 rows × 5 columns</p>\n",
       "</div>"
      ],
      "text/plain": [
       "                                                ctrl_emb  \\\n",
       "0      [0.0, 0.0, 0.0, 0.0, 0.0, 0.0, 0.0, 0.0, 0.0, ...   \n",
       "1      [0.0, 0.0, 0.0, 0.43270838, 0.0, 0.0, 0.0, 0.0...   \n",
       "2      [0.0, 0.0, 0.0, 0.0, 0.0, 0.0, 0.0, 0.0, 0.0, ...   \n",
       "3      [0.0, 0.72397155, 0.0, 0.0, 0.0, 0.0, 0.0, 0.0...   \n",
       "4      [0.0, 0.0, 0.0, 0.0, 0.0, 0.0, 0.0, 0.0, 0.0, ...   \n",
       "...                                                  ...   \n",
       "27229  [0.0, 0.0, 0.24458992, 0.0, 0.0, 0.0, 0.0, 0.0...   \n",
       "27230  [0.0, 0.9974963, 0.0, 0.0, 0.0, 0.0, 0.0, 0.0,...   \n",
       "27231  [0.0, 0.0, 0.0, 0.0, 0.0, 0.0, 0.0, 0.0, 0.0, ...   \n",
       "27232  [0.0, 0.0, 0.0, 0.0, 0.0, 0.0, 0.0, 0.0, 0.0, ...   \n",
       "27233  [0.0, 0.0, 0.0, 0.0, 0.0, 0.0, 0.0, 0.0, 0.0, ...   \n",
       "\n",
       "                                                pert_emb  \\\n",
       "0      [0.0, 0.0, 0.0, 0.0, 0.0, 0.0, 0.0, 0.0, 0.0, ...   \n",
       "1      [0.0, 0.0, 0.0, 0.0, 0.0, 0.0, 0.0, 0.0, 0.0, ...   \n",
       "2      [0.0, 0.22512506, 0.0, 0.0, 0.0, 0.0, 0.0, 0.0...   \n",
       "3      [0.0, 0.0, 0.0, 0.0, 0.0, 0.0, 0.0, 0.0, 0.0, ...   \n",
       "4      [0.0, 0.9569237, 0.0, 0.0, 0.0, 0.0, 0.0, 0.0,...   \n",
       "...                                                  ...   \n",
       "27229  [0.0, 0.0, 0.0, 0.0, 0.0, 0.0, 0.0, 0.0, 0.0, ...   \n",
       "27230  [0.0, 0.0, 0.0, 0.0, 0.0, 0.0, 0.0, 0.0, 0.0, ...   \n",
       "27231  [0.0, 0.0, 0.0, 0.0, 0.0, 0.0, 0.0, 0.0, 0.0, ...   \n",
       "27232  [0.0, 0.5421325, 0.0, 0.0, 0.0, 0.0, 0.0, 0.0,...   \n",
       "27233  [0.0, 0.0, 0.0, 0.0, 0.0, 0.0, 0.0, 0.0, 0.0, ...   \n",
       "\n",
       "                                                pred_emb      compound  \\\n",
       "0      [0.0001613186, 0.023854421, -0.00011559239, 0....  Meprednisone   \n",
       "1      [0.00013488712, 0.021435281, -0.00014686708, 0...     Daphnetin   \n",
       "2      [0.00014615538, 0.02326357, -0.00012166079, 0....  Meprednisone   \n",
       "3      [0.00015821704, 0.024045855, -0.00011085505, 0...     Celecoxib   \n",
       "4      [0.008774277, 0.2806023, -0.0005888859, 0.0024...    Entacapone   \n",
       "...                                                  ...           ...   \n",
       "27229  [0.00016122064, 0.02414211, -0.00010952612, 0....     ENMD-2076   \n",
       "27230  [0.008764349, 0.28082308, -0.000587613, 0.0024...    PHA-680632   \n",
       "27231  [0.00015544439, 0.02375138, -0.000115455696, 0...       UNC1999   \n",
       "27232  [0.008815448, 0.28079277, -0.0005885293, 0.002...    Entacapone   \n",
       "27233  [0.01894999, -0.0010021003, -5.5435958e-05, 0....     ENMD-2076   \n",
       "\n",
       "      cell_type  \n",
       "0          MCF7  \n",
       "1          MCF7  \n",
       "2          MCF7  \n",
       "3          MCF7  \n",
       "4          A549  \n",
       "...         ...  \n",
       "27229      MCF7  \n",
       "27230      A549  \n",
       "27231      MCF7  \n",
       "27232      A549  \n",
       "27233      K562  \n",
       "\n",
       "[27234 rows x 5 columns]"
      ]
     },
     "execution_count": 8,
     "metadata": {},
     "output_type": "execute_result"
    }
   ],
   "source": [
    "results"
   ]
  },
  {
   "cell_type": "code",
   "execution_count": 12,
   "id": "5dfc690e-8f63-45ca-bba8-b6fca70b6b32",
   "metadata": {},
   "outputs": [],
   "source": [
    "res, stdevs = get_model_performance_pairwise(results, r2_score)"
   ]
  },
  {
   "cell_type": "code",
   "execution_count": 13,
   "id": "8f3a8345-9980-4af3-93a3-c17012c39c36",
   "metadata": {},
   "outputs": [
    {
     "data": {
      "text/plain": [
       "{'MCF7': np.float64(0.47793894730905184),\n",
       " 'A549': np.float64(0.2985250720101424),\n",
       " 'K562': np.float64(0.17307842030921067)}"
      ]
     },
     "execution_count": 13,
     "metadata": {},
     "output_type": "execute_result"
    }
   ],
   "source": [
    "res"
   ]
  },
  {
   "cell_type": "code",
   "execution_count": 14,
   "id": "4a1bc20f-7640-47ae-834a-2ecf47f2da97",
   "metadata": {},
   "outputs": [
    {
     "data": {
      "text/plain": [
       "{'MCF7': np.float64(0.15127599456255886),\n",
       " 'A549': np.float64(0.09163612170702658),\n",
       " 'K562': np.float64(0.07089356104004062)}"
      ]
     },
     "execution_count": 14,
     "metadata": {},
     "output_type": "execute_result"
    }
   ],
   "source": [
    "stdevs"
   ]
  },
  {
   "cell_type": "code",
   "execution_count": 22,
   "id": "19e26791-0dfa-492d-8cd8-9b750bbf9a56",
   "metadata": {},
   "outputs": [],
   "source": [
    "res, stdevs = get_model_performance_aggregated(results, calculate_edistance)  "
   ]
  },
  {
   "cell_type": "code",
   "execution_count": 23,
   "id": "67ac2365-439e-4dac-9e37-108e63fa18bf",
   "metadata": {},
   "outputs": [
    {
     "data": {
      "text/plain": [
       "{'MCF7': np.float64(4.115930738978358),\n",
       " 'A549': np.float64(15.433208889354201),\n",
       " 'K562': np.float64(22.989573517708564)}"
      ]
     },
     "execution_count": 23,
     "metadata": {},
     "output_type": "execute_result"
    }
   ],
   "source": [
    "res"
   ]
  },
  {
   "cell_type": "code",
   "execution_count": 24,
   "id": "09c9a03e-fe16-4b8b-a1ab-aad14fe67362",
   "metadata": {},
   "outputs": [
    {
     "data": {
      "text/plain": [
       "{'MCF7': np.float64(0.5923615964133323),\n",
       " 'A549': np.float64(2.389252481851866),\n",
       " 'K562': np.float64(5.408179209546377)}"
      ]
     },
     "execution_count": 24,
     "metadata": {},
     "output_type": "execute_result"
    }
   ],
   "source": [
    "stdevs"
   ]
  },
  {
   "cell_type": "code",
   "execution_count": null,
   "id": "ae8d416e-1436-45d5-9589-788cd1c4e58d",
   "metadata": {},
   "outputs": [],
   "source": []
  }
 ],
 "metadata": {
  "kernelspec": {
   "display_name": "Python 3 (ipykernel)",
   "language": "python",
   "name": "python3"
  },
  "language_info": {
   "codemirror_mode": {
    "name": "ipython",
    "version": 3
   },
   "file_extension": ".py",
   "mimetype": "text/x-python",
   "name": "python",
   "nbconvert_exporter": "python",
   "pygments_lexer": "ipython3",
   "version": "3.12.7"
  }
 },
 "nbformat": 4,
 "nbformat_minor": 5
}
