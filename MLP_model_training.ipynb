{
 "cells": [
  {
   "cell_type": "code",
   "execution_count": 11,
   "id": "1a775529-30d1-49cd-9363-eb79d61c8256",
   "metadata": {},
   "outputs": [],
   "source": [
    "from src.evaluator.MLP_baseline_evaluator import MLPBaselineEvaluator\n",
    "from src.models.MLP_concat import MLPModel\n",
    "from src.utils import *\n",
    "from src.evaluator.evaluator_utils import l2_loss\n",
    "from src.dataset.dataset_unseen_compounds import SciplexDatasetUnseenPerturbations\n",
    "from sklearn.metrics import r2_score\n",
    "\n",
    "import anndata as ad\n",
    "import math\n",
    "import pickle as pkl\n",
    "import optuna"
   ]
  },
  {
   "cell_type": "code",
   "execution_count": 2,
   "id": "833d21eb-762b-4c04-aa65-689a8abc47f3",
   "metadata": {},
   "outputs": [],
   "source": [
    "#read PRNet splits\n",
    "with open(\"./data/sciplex/prnet_drug_splits.pkl\", \"rb\") as f:\n",
    "    drug_splits = pkl.load(f)"
   ]
  },
  {
   "cell_type": "code",
   "execution_count": 3,
   "id": "e06aaebc-1b13-4165-8120-24beb46cf396",
   "metadata": {},
   "outputs": [],
   "source": [
    "drugs_train = drug_splits['drug_split_0']['train']\n",
    "drugs_validation = drug_splits['drug_split_0']['valid']\n",
    "drugs_test = drug_splits['drug_split_0']['test']"
   ]
  },
  {
   "cell_type": "code",
   "execution_count": 4,
   "id": "d88c26e5-dcee-43fb-9785-b00951139972",
   "metadata": {},
   "outputs": [
    {
     "name": "stderr",
     "output_type": "stream",
     "text": [
      "100%|█████████████████████████████████████████████████████████████████████████████████████████████████████████████████████████████████████| 571696/571696 [01:19<00:00, 7228.88it/s]\n",
      "100%|████████████████████████████████████████████████████████████████████████████████████████████████████████████████████████████████████| 571696/571696 [00:41<00:00, 13886.56it/s]\n",
      "100%|████████████████████████████████████████████████████████████████████████████████████████████████████████████████████████████████████| 571696/571696 [00:32<00:00, 17574.41it/s]\n"
     ]
    }
   ],
   "source": [
    "ad_path = \"./data/sciplex/sciplex_final.h5ad\"\n",
    "adata = ad.read_h5ad(ad_path)\n",
    "\n",
    "dataset_train = SciplexDatasetUnseenPerturbations(adata, drugs_train, \"sm_coati_emb\", 256, \"X_2000_hvg\", \"X_2000_hvg\")\n",
    "dataset_validation = SciplexDatasetUnseenPerturbations(adata, drugs_validation, \"sm_coati_emb\", 256, \"X_2000_hvg\", \"X_2000_hvg\")\n",
    "dataset_test = SciplexDatasetUnseenPerturbations(adata, drugs_test, \"sm_coati_emb\", 256, \"X_2000_hvg\", \"X_2000_hvg\")"
   ]
  },
  {
   "cell_type": "code",
   "execution_count": 14,
   "id": "9e033058-c3a0-4f03-9939-7ca71249ded4",
   "metadata": {},
   "outputs": [],
   "source": [
    "def objective(trial, dataset_train=None, dataset_validation=None, dataset_test=None,\n",
    "              input_dim=0, output_dim=0, drug_dim=0, scheduler_mode='min', loss_fn=None):\n",
    "    # #static params\n",
    "    # input_dim = 2000\n",
    "    # output_dim = 2000\n",
    "    # drug_dim = 256\n",
    "    # loss_fn = l2_loss\n",
    "    # scheduler_mode = \"min\"\n",
    "\n",
    "    #dynamic params\n",
    "    lr = trial.suggest_loguniform('lr', 1e-5, 1e-2)\n",
    "    weight_decay = trial.suggest_loguniform('weight_decay', 1e-6, 1e-2)\n",
    "    scheduler_factor = trial.suggest_loguniform('scheduler_factor', 0.1, 0.5)\n",
    "    scheduler_patience = trial.suggest_int('scheduler_patience', 1, 20)\n",
    "    batch_size = trial.suggest_categorical('batch_size', [16, 32, 64, 128, 256])\n",
    "    dropout = trial.suggest_loguniform('dropout', 0.05, 0.3)\n",
    "    hidden_dims = trial.suggest_categorical('hidden_dims', [[64], [128], [256], [512], [1024], [2048], [4096]])\n",
    "\n",
    "    params = {\n",
    "        'input_dim': input_dim,\n",
    "        'output_dim' : output_dim,\n",
    "        'drug_dim' : drug_dim,\n",
    "        'dropout' : dropout,\n",
    "        'scheduler_mode': scheduler_mode,\n",
    "        'lr': lr,\n",
    "        'weight_decay': weight_decay,\n",
    "        'scheduler_factor': scheduler_factor,\n",
    "        'scheduler_patience': scheduler_patience,\n",
    "        'batch_size': batch_size,\n",
    "        'dropout': dropout,\n",
    "        'hidden_dims' : hidden_dims,\n",
    "    }\n",
    "    ev = MLPBaselineEvaluator(dataset_train, dataset_validation, dataset_test, params)\n",
    "\n",
    "    return ev.train(loss_fn, trial)"
   ]
  },
  {
   "cell_type": "code",
   "execution_count": 16,
   "id": "de35bdd7-f86c-4775-88ea-a65c76f4a236",
   "metadata": {},
   "outputs": [],
   "source": [
    "def cross_validation_models(drug_splits, loss_function, adata, input_name, input_dim, output_name, output_dim, drug_rep_name, drug_emb_size):\n",
    "    output = dict()\n",
    "    for i in range(5):\n",
    "        drugs_train = drug_splits[f'drug_split_{i}']['train']\n",
    "        drugs_validation = drug_splits[f'drug_split_{i}']['valid']\n",
    "        drugs_test = drug_splits[f'drug_split_{i}']['test']\n",
    "\n",
    "        dataset_train = SciplexDatasetUnseenPerturbations(adata, drugs_train, drug_rep_name, drug_emb_size, input_name, output_name)\n",
    "        dataset_validation = SciplexDatasetUnseenPerturbations(adata, drugs_validation, drug_rep_name, drug_emb_size, input_name, output_name)\n",
    "        dataset_test = SciplexDatasetUnseenPerturbations(adata, drugs_test, drug_rep_name, drug_emb_size, input_name, output_name)\n",
    "\n",
    "        study = optuna.create_study(direction='minimize')\n",
    "        study.optimize(lambda trial: objective(trial, \n",
    "                                               dataset_train=dataset_train, dataset_validation=dataset_validation, dataset_test=dataset_test,\n",
    "                                               input_dim=input_dim, output_dim=output_dim, \n",
    "                                               drug_dim=drug_emb_size, loss_fn=loss_function), n_trials=50)\n",
    "        best_params = study.best_params\n",
    "\n",
    "        output[i] = dict()\n",
    "        output[i]['best_params'] = best_params\n",
    "\n",
    "    return output"
   ]
  },
  {
   "cell_type": "code",
   "execution_count": 17,
   "id": "f6ea027c-39d3-4cde-b4be-6e0890a36cca",
   "metadata": {},
   "outputs": [
    {
     "name": "stderr",
     "output_type": "stream",
     "text": [
      "100%|█████████████████████████████████████████████████████████████████████████████████████████████████████████████████████████████████████| 571696/571696 [01:18<00:00, 7318.12it/s]\n",
      "100%|████████████████████████████████████████████████████████████████████████████████████████████████████████████████████████████████████| 571696/571696 [00:41<00:00, 13879.91it/s]\n",
      "100%|████████████████████████████████████████████████████████████████████████████████████████████████████████████████████████████████████| 571696/571696 [00:32<00:00, 17739.78it/s]\n",
      "[I 2025-04-01 16:05:21,721] A new study created in memory with name: no-name-fffe5b28-8e91-47a4-8792-c3c773a67e19\n",
      "/tmp/ipykernel_11479/3753511677.py:11: FutureWarning: suggest_loguniform has been deprecated in v3.0.0. This feature will be removed in v6.0.0. See https://github.com/optuna/optuna/releases/tag/v3.0.0. Use suggest_float(..., log=True) instead.\n",
      "  lr = trial.suggest_loguniform('lr', 1e-5, 1e-2)\n",
      "/tmp/ipykernel_11479/3753511677.py:12: FutureWarning: suggest_loguniform has been deprecated in v3.0.0. This feature will be removed in v6.0.0. See https://github.com/optuna/optuna/releases/tag/v3.0.0. Use suggest_float(..., log=True) instead.\n",
      "  weight_decay = trial.suggest_loguniform('weight_decay', 1e-6, 1e-2)\n",
      "/tmp/ipykernel_11479/3753511677.py:13: FutureWarning: suggest_loguniform has been deprecated in v3.0.0. This feature will be removed in v6.0.0. See https://github.com/optuna/optuna/releases/tag/v3.0.0. Use suggest_float(..., log=True) instead.\n",
      "  scheduler_factor = trial.suggest_loguniform('scheduler_factor', 0.1, 0.5)\n",
      "/tmp/ipykernel_11479/3753511677.py:16: FutureWarning: suggest_loguniform has been deprecated in v3.0.0. This feature will be removed in v6.0.0. See https://github.com/optuna/optuna/releases/tag/v3.0.0. Use suggest_float(..., log=True) instead.\n",
      "  dropout = trial.suggest_loguniform('dropout', 0.05, 0.3)\n",
      "/apps/miniconda3/envs/dege-fm/lib/python3.12/site-packages/optuna/distributions.py:515: UserWarning: Choices for a categorical distribution should be a tuple of None, bool, int, float and str for persistent storage but contains [64] which is of type list.\n",
      "  warnings.warn(message)\n",
      "/apps/miniconda3/envs/dege-fm/lib/python3.12/site-packages/optuna/distributions.py:515: UserWarning: Choices for a categorical distribution should be a tuple of None, bool, int, float and str for persistent storage but contains [128] which is of type list.\n",
      "  warnings.warn(message)\n",
      "/apps/miniconda3/envs/dege-fm/lib/python3.12/site-packages/optuna/distributions.py:515: UserWarning: Choices for a categorical distribution should be a tuple of None, bool, int, float and str for persistent storage but contains [256] which is of type list.\n",
      "  warnings.warn(message)\n",
      "/apps/miniconda3/envs/dege-fm/lib/python3.12/site-packages/optuna/distributions.py:515: UserWarning: Choices for a categorical distribution should be a tuple of None, bool, int, float and str for persistent storage but contains [512] which is of type list.\n",
      "  warnings.warn(message)\n",
      "/apps/miniconda3/envs/dege-fm/lib/python3.12/site-packages/optuna/distributions.py:515: UserWarning: Choices for a categorical distribution should be a tuple of None, bool, int, float and str for persistent storage but contains [1024] which is of type list.\n",
      "  warnings.warn(message)\n",
      "/apps/miniconda3/envs/dege-fm/lib/python3.12/site-packages/optuna/distributions.py:515: UserWarning: Choices for a categorical distribution should be a tuple of None, bool, int, float and str for persistent storage but contains [2048] which is of type list.\n",
      "  warnings.warn(message)\n",
      "/apps/miniconda3/envs/dege-fm/lib/python3.12/site-packages/optuna/distributions.py:515: UserWarning: Choices for a categorical distribution should be a tuple of None, bool, int, float and str for persistent storage but contains [4096] which is of type list.\n",
      "  warnings.warn(message)\n",
      "[I 2025-04-01 16:07:08,011] Trial 0 finished with value: 0.023288911390231877 and parameters: {'lr': 1.4601334666836395e-05, 'weight_decay': 6.898654327888793e-05, 'scheduler_factor': 0.13856667519783733, 'scheduler_patience': 6, 'batch_size': 256, 'dropout': 0.09350516181399121, 'hidden_dims': [256]}. Best is trial 0 with value: 0.023288911390231877.\n"
     ]
    },
    {
     "name": "stdout",
     "output_type": "stream",
     "text": [
      "Early stopping at epoch 78\n"
     ]
    },
    {
     "name": "stderr",
     "output_type": "stream",
     "text": [
      "[I 2025-04-01 16:07:27,078] Trial 1 finished with value: 0.029305404074853512 and parameters: {'lr': 0.0026261830362890037, 'weight_decay': 2.413078974070546e-05, 'scheduler_factor': 0.11666377168699496, 'scheduler_patience': 16, 'batch_size': 128, 'dropout': 0.06652978720814749, 'hidden_dims': [2048]}. Best is trial 0 with value: 0.023288911390231877.\n"
     ]
    },
    {
     "name": "stdout",
     "output_type": "stream",
     "text": [
      "Early stopping at epoch 11\n"
     ]
    },
    {
     "name": "stderr",
     "output_type": "stream",
     "text": [
      "[I 2025-04-01 16:08:22,023] Trial 2 finished with value: 0.02326872913939197 and parameters: {'lr': 0.0004047317489266281, 'weight_decay': 3.0750066589846114e-06, 'scheduler_factor': 0.24726233063880135, 'scheduler_patience': 4, 'batch_size': 128, 'dropout': 0.09786634141917266, 'hidden_dims': [2048]}. Best is trial 2 with value: 0.02326872913939197.\n"
     ]
    },
    {
     "name": "stdout",
     "output_type": "stream",
     "text": [
      "Early stopping at epoch 32\n"
     ]
    },
    {
     "name": "stderr",
     "output_type": "stream",
     "text": [
      "[I 2025-04-01 16:10:56,126] Trial 3 finished with value: 0.023590604349879956 and parameters: {'lr': 0.0003436442999382564, 'weight_decay': 0.0014422771866891757, 'scheduler_factor': 0.1805442118335369, 'scheduler_patience': 9, 'batch_size': 64, 'dropout': 0.21920884829595982, 'hidden_dims': [4096]}. Best is trial 2 with value: 0.02326872913939197.\n"
     ]
    },
    {
     "name": "stdout",
     "output_type": "stream",
     "text": [
      "Early stopping at epoch 27\n"
     ]
    },
    {
     "name": "stderr",
     "output_type": "stream",
     "text": [
      "[I 2025-04-01 16:16:23,205] Trial 4 finished with value: 0.023359086018668988 and parameters: {'lr': 1.7538367101732568e-05, 'weight_decay': 0.0001254411968251715, 'scheduler_factor': 0.15678200429246714, 'scheduler_patience': 19, 'batch_size': 32, 'dropout': 0.2521902666161356, 'hidden_dims': [64]}. Best is trial 2 with value: 0.02326872913939197.\n"
     ]
    },
    {
     "name": "stdout",
     "output_type": "stream",
     "text": [
      "Early stopping at epoch 88\n"
     ]
    },
    {
     "name": "stderr",
     "output_type": "stream",
     "text": [
      "[I 2025-04-01 16:17:09,945] Trial 5 finished with value: 0.023309502905098402 and parameters: {'lr': 0.0004014894323569953, 'weight_decay': 2.492416102398182e-06, 'scheduler_factor': 0.34645547017984246, 'scheduler_patience': 19, 'batch_size': 64, 'dropout': 0.20551820909175741, 'hidden_dims': [2048]}. Best is trial 2 with value: 0.02326872913939197.\n"
     ]
    },
    {
     "name": "stdout",
     "output_type": "stream",
     "text": [
      "Early stopping at epoch 16\n"
     ]
    },
    {
     "name": "stderr",
     "output_type": "stream",
     "text": [
      "[I 2025-04-01 16:17:53,561] Trial 6 pruned. \n",
      "[I 2025-04-01 16:18:01,374] Trial 7 pruned. \n",
      "[I 2025-04-01 16:18:04,224] Trial 8 pruned. \n",
      "[I 2025-04-01 16:18:07,718] Trial 9 pruned. \n",
      "[I 2025-04-01 16:18:20,538] Trial 10 pruned. \n",
      "[I 2025-04-01 16:18:51,679] Trial 11 finished with value: 0.023367746701327765 and parameters: {'lr': 5.307684156165975e-05, 'weight_decay': 0.0006597323697893684, 'scheduler_factor': 0.2097627545552542, 'scheduler_patience': 6, 'batch_size': 256, 'dropout': 0.09419951753167972, 'hidden_dims': [256]}. Best is trial 2 with value: 0.02326872913939197.\n"
     ]
    },
    {
     "name": "stdout",
     "output_type": "stream",
     "text": [
      "Early stopping at epoch 23\n"
     ]
    },
    {
     "name": "stderr",
     "output_type": "stream",
     "text": [
      "[I 2025-04-01 16:21:09,689] Trial 12 finished with value: 0.023228704706742997 and parameters: {'lr': 0.0012255978070633696, 'weight_decay': 1.8490620669140673e-05, 'scheduler_factor': 0.10135638591526948, 'scheduler_patience': 7, 'batch_size': 128, 'dropout': 0.10531040888258612, 'hidden_dims': [256]}. Best is trial 12 with value: 0.023228704706742997.\n"
     ]
    },
    {
     "name": "stdout",
     "output_type": "stream",
     "text": [
      "Early stopping at epoch 81\n"
     ]
    },
    {
     "name": "stderr",
     "output_type": "stream",
     "text": [
      "[I 2025-04-01 16:21:59,627] Trial 13 finished with value: 0.02322983269738715 and parameters: {'lr': 0.0009207245012385698, 'weight_decay': 9.687068881899203e-06, 'scheduler_factor': 0.10618812284229195, 'scheduler_patience': 2, 'batch_size': 128, 'dropout': 0.12187208213307255, 'hidden_dims': [512]}. Best is trial 12 with value: 0.023228704706742997.\n"
     ]
    },
    {
     "name": "stdout",
     "output_type": "stream",
     "text": [
      "Early stopping at epoch 29\n"
     ]
    },
    {
     "name": "stderr",
     "output_type": "stream",
     "text": [
      "[I 2025-04-01 16:22:03,160] Trial 14 pruned. \n",
      "[I 2025-04-01 16:22:28,833] Trial 15 pruned. \n",
      "[I 2025-04-01 16:24:25,910] Trial 16 finished with value: 0.02322237368037061 and parameters: {'lr': 0.0008596644539487043, 'weight_decay': 6.953857338614077e-06, 'scheduler_factor': 0.10468758349886369, 'scheduler_patience': 8, 'batch_size': 128, 'dropout': 0.12003473622754349, 'hidden_dims': [64]}. Best is trial 16 with value: 0.02322237368037061.\n"
     ]
    },
    {
     "name": "stdout",
     "output_type": "stream",
     "text": [
      "Early stopping at epoch 69\n"
     ]
    },
    {
     "name": "stderr",
     "output_type": "stream",
     "text": [
      "[I 2025-04-01 16:24:38,505] Trial 17 pruned. \n",
      "[I 2025-04-01 16:25:49,604] Trial 18 finished with value: 0.023231252977942547 and parameters: {'lr': 0.0008027789983459034, 'weight_decay': 7.65606653415211e-06, 'scheduler_factor': 0.19786783256233126, 'scheduler_patience': 13, 'batch_size': 128, 'dropout': 0.05301154942259791, 'hidden_dims': [64]}. Best is trial 16 with value: 0.02322237368037061.\n"
     ]
    },
    {
     "name": "stdout",
     "output_type": "stream",
     "text": [
      "Early stopping at epoch 42\n"
     ]
    },
    {
     "name": "stderr",
     "output_type": "stream",
     "text": [
      "[I 2025-04-01 16:25:53,076] Trial 19 pruned. \n",
      "[I 2025-04-01 16:30:23,973] Trial 20 finished with value: 0.023237657966660108 and parameters: {'lr': 5.343536579372847e-05, 'weight_decay': 6.28820520075517e-06, 'scheduler_factor': 0.32262318920814265, 'scheduler_patience': 7, 'batch_size': 16, 'dropout': 0.16609998587172647, 'hidden_dims': [1024]}. Best is trial 16 with value: 0.02322237368037061.\n"
     ]
    },
    {
     "name": "stdout",
     "output_type": "stream",
     "text": [
      "Early stopping at epoch 41\n"
     ]
    },
    {
     "name": "stderr",
     "output_type": "stream",
     "text": [
      "[I 2025-04-01 16:31:41,997] Trial 21 finished with value: 0.0232334870299915 and parameters: {'lr': 0.0008659200917114211, 'weight_decay': 1.5658282665773056e-05, 'scheduler_factor': 0.10029202396811594, 'scheduler_patience': 4, 'batch_size': 128, 'dropout': 0.13757427366432748, 'hidden_dims': [64]}. Best is trial 16 with value: 0.02322237368037061.\n"
     ]
    },
    {
     "name": "stdout",
     "output_type": "stream",
     "text": [
      "Early stopping at epoch 46\n"
     ]
    },
    {
     "name": "stderr",
     "output_type": "stream",
     "text": [
      "[I 2025-04-01 16:31:45,185] Trial 22 pruned. \n",
      "[I 2025-04-01 16:31:48,626] Trial 23 pruned. \n",
      "[I 2025-04-01 16:31:52,172] Trial 24 pruned. \n",
      "[I 2025-04-01 16:31:57,082] Trial 25 pruned. \n",
      "[I 2025-04-01 16:32:04,817] Trial 26 pruned. \n",
      "[I 2025-04-01 16:32:50,576] Trial 27 finished with value: 0.023260167718115378 and parameters: {'lr': 0.0005750840907558337, 'weight_decay': 4.835618105728988e-06, 'scheduler_factor': 0.1671753759939425, 'scheduler_patience': 1, 'batch_size': 128, 'dropout': 0.18492381380615353, 'hidden_dims': [256]}. Best is trial 16 with value: 0.02322237368037061.\n"
     ]
    },
    {
     "name": "stdout",
     "output_type": "stream",
     "text": [
      "Early stopping at epoch 27\n"
     ]
    },
    {
     "name": "stderr",
     "output_type": "stream",
     "text": [
      "[I 2025-04-01 16:32:54,043] Trial 28 pruned. \n",
      "[I 2025-04-01 16:32:55,819] Trial 29 pruned. \n",
      "[I 2025-04-01 16:33:46,251] Trial 30 pruned. \n",
      "[I 2025-04-01 16:34:16,709] Trial 31 pruned. \n",
      "[I 2025-04-01 16:34:23,529] Trial 32 pruned. \n",
      "[I 2025-04-01 16:35:34,773] Trial 33 pruned. \n",
      "[I 2025-04-01 16:35:38,011] Trial 34 pruned. \n",
      "[I 2025-04-01 16:35:42,917] Trial 35 pruned. \n",
      "[I 2025-04-01 16:36:56,522] Trial 36 finished with value: 0.023278803787784786 and parameters: {'lr': 0.0003158413968686679, 'weight_decay': 1.7024525206164648e-06, 'scheduler_factor': 0.1818189312500145, 'scheduler_patience': 12, 'batch_size': 32, 'dropout': 0.09514433759132891, 'hidden_dims': [64]}. Best is trial 16 with value: 0.02322237368037061.\n"
     ]
    },
    {
     "name": "stdout",
     "output_type": "stream",
     "text": [
      "Early stopping at epoch 20\n"
     ]
    },
    {
     "name": "stderr",
     "output_type": "stream",
     "text": [
      "[I 2025-04-01 16:36:58,290] Trial 37 pruned. \n",
      "[I 2025-04-01 16:36:59,747] Trial 38 pruned. \n",
      "[I 2025-04-01 16:37:02,107] Trial 39 pruned. \n",
      "[I 2025-04-01 16:37:05,370] Trial 40 pruned. \n",
      "[I 2025-04-01 16:37:07,152] Trial 41 pruned. \n",
      "[I 2025-04-01 16:38:12,996] Trial 42 finished with value: 0.023228925607371623 and parameters: {'lr': 0.0009558541465244531, 'weight_decay': 8.922690678590735e-06, 'scheduler_factor': 0.10089512066050296, 'scheduler_patience': 3, 'batch_size': 128, 'dropout': 0.12896752160040323, 'hidden_dims': [64]}. Best is trial 16 with value: 0.02322237368037061.\n"
     ]
    },
    {
     "name": "stdout",
     "output_type": "stream",
     "text": [
      "Early stopping at epoch 39\n"
     ]
    },
    {
     "name": "stderr",
     "output_type": "stream",
     "text": [
      "[I 2025-04-01 16:38:16,465] Trial 43 pruned. \n",
      "[I 2025-04-01 16:38:18,209] Trial 44 pruned. \n",
      "[I 2025-04-01 16:38:23,459] Trial 45 pruned. \n",
      "[I 2025-04-01 16:38:26,178] Trial 46 pruned. \n",
      "[I 2025-04-01 16:38:27,962] Trial 47 pruned. \n",
      "[I 2025-04-01 16:38:29,771] Trial 48 pruned. \n",
      "[I 2025-04-01 16:40:34,778] Trial 49 finished with value: 0.023256123577608024 and parameters: {'lr': 0.0010250572871177497, 'weight_decay': 6.485625927621139e-06, 'scheduler_factor': 0.11356300830974349, 'scheduler_patience': 1, 'batch_size': 16, 'dropout': 0.17613557162940416, 'hidden_dims': [64]}. Best is trial 16 with value: 0.02322237368037061.\n"
     ]
    },
    {
     "name": "stdout",
     "output_type": "stream",
     "text": [
      "Early stopping at epoch 20\n"
     ]
    },
    {
     "name": "stderr",
     "output_type": "stream",
     "text": [
      "100%|█████████████████████████████████████████████████████████████████████████████████████████████████████████████████████████████████████| 571696/571696 [01:11<00:00, 8045.19it/s]\n",
      "100%|████████████████████████████████████████████████████████████████████████████████████████████████████████████████████████████████████| 571696/571696 [00:36<00:00, 15572.74it/s]\n",
      "100%|████████████████████████████████████████████████████████████████████████████████████████████████████████████████████████████████████| 571696/571696 [00:44<00:00, 12967.24it/s]\n",
      "[I 2025-04-01 16:43:07,020] A new study created in memory with name: no-name-b9495145-a389-41a8-a2ef-58dadcb6011f\n",
      "[I 2025-04-01 16:44:29,713] Trial 0 finished with value: 0.023366788946935592 and parameters: {'lr': 1.5165973176843056e-05, 'weight_decay': 3.366596819617788e-05, 'scheduler_factor': 0.39056052940821484, 'scheduler_patience': 12, 'batch_size': 128, 'dropout': 0.07854252268498409, 'hidden_dims': [512]}. Best is trial 0 with value: 0.023366788946935592.\n"
     ]
    },
    {
     "name": "stdout",
     "output_type": "stream",
     "text": [
      "Early stopping at epoch 57\n"
     ]
    },
    {
     "name": "stderr",
     "output_type": "stream",
     "text": [
      "[I 2025-04-01 16:45:01,572] Trial 1 finished with value: 0.023585857706343603 and parameters: {'lr': 1.7781146284562112e-05, 'weight_decay': 0.008031288285203489, 'scheduler_factor': 0.15399166931420016, 'scheduler_patience': 6, 'batch_size': 128, 'dropout': 0.0541282214911244, 'hidden_dims': [512]}. Best is trial 0 with value: 0.023366788946935592.\n"
     ]
    },
    {
     "name": "stdout",
     "output_type": "stream",
     "text": [
      "Early stopping at epoch 22\n"
     ]
    },
    {
     "name": "stderr",
     "output_type": "stream",
     "text": [
      "[I 2025-04-01 16:47:57,686] Trial 2 finished with value: 0.02336651879807507 and parameters: {'lr': 0.00020938981480693588, 'weight_decay': 1.448042783318015e-06, 'scheduler_factor': 0.15319969790436955, 'scheduler_patience': 4, 'batch_size': 16, 'dropout': 0.05509570544035809, 'hidden_dims': [128]}. Best is trial 2 with value: 0.02336651879807507.\n"
     ]
    },
    {
     "name": "stdout",
     "output_type": "stream",
     "text": [
      "Early stopping at epoch 33\n"
     ]
    },
    {
     "name": "stderr",
     "output_type": "stream",
     "text": [
      "[I 2025-04-01 16:49:01,046] Trial 3 finished with value: 0.023341920080377995 and parameters: {'lr': 0.0005939246434648414, 'weight_decay': 2.6575848612974752e-06, 'scheduler_factor': 0.12960087794736916, 'scheduler_patience': 19, 'batch_size': 128, 'dropout': 0.06328828880575874, 'hidden_dims': [256]}. Best is trial 3 with value: 0.023341920080377995.\n"
     ]
    },
    {
     "name": "stdout",
     "output_type": "stream",
     "text": [
      "Early stopping at epoch 44\n"
     ]
    },
    {
     "name": "stderr",
     "output_type": "stream",
     "text": [
      "[I 2025-04-01 16:49:46,071] Trial 4 finished with value: 0.023499823216469245 and parameters: {'lr': 3.258299176773908e-05, 'weight_decay': 0.0010597132097764567, 'scheduler_factor': 0.15090425996364193, 'scheduler_patience': 15, 'batch_size': 32, 'dropout': 0.18618538053746972, 'hidden_dims': [256]}. Best is trial 3 with value: 0.023341920080377995.\n"
     ]
    },
    {
     "name": "stdout",
     "output_type": "stream",
     "text": [
      "Early stopping at epoch 14\n"
     ]
    },
    {
     "name": "stderr",
     "output_type": "stream",
     "text": [
      "[I 2025-04-01 16:49:47,275] Trial 5 pruned. \n",
      "[I 2025-04-01 16:49:49,869] Trial 6 pruned. \n",
      "[I 2025-04-01 16:49:58,556] Trial 7 pruned. \n",
      "[I 2025-04-01 16:51:54,625] Trial 8 pruned. \n",
      "[I 2025-04-01 16:51:57,821] Trial 9 pruned. \n",
      "[I 2025-04-01 16:52:34,878] Trial 10 finished with value: 0.023334364377477632 and parameters: {'lr': 0.001704767793934419, 'weight_decay': 1.091210000676156e-06, 'scheduler_factor': 0.10004089562774303, 'scheduler_patience': 17, 'batch_size': 128, 'dropout': 0.2608671790388075, 'hidden_dims': [256]}. Best is trial 10 with value: 0.023334364377477632.\n"
     ]
    },
    {
     "name": "stdout",
     "output_type": "stream",
     "text": [
      "Early stopping at epoch 26\n"
     ]
    },
    {
     "name": "stderr",
     "output_type": "stream",
     "text": [
      "[I 2025-04-01 16:52:36,395] Trial 11 pruned. \n",
      "[I 2025-04-01 16:52:39,173] Trial 12 pruned. \n",
      "[I 2025-04-01 16:52:42,093] Trial 13 pruned. \n",
      "[I 2025-04-01 16:52:44,475] Trial 14 pruned. \n",
      "[I 2025-04-01 16:52:46,578] Trial 15 pruned. \n",
      "[I 2025-04-01 16:52:48,078] Trial 16 pruned. \n",
      "[I 2025-04-01 16:52:50,842] Trial 17 pruned. \n",
      "[I 2025-04-01 16:52:52,365] Trial 18 pruned. \n",
      "[I 2025-04-01 16:52:54,482] Trial 19 pruned. \n",
      "[I 2025-04-01 16:53:00,845] Trial 20 pruned. \n",
      "[I 2025-04-01 16:56:35,514] Trial 21 finished with value: 0.02334367784974587 and parameters: {'lr': 0.00020044154162551295, 'weight_decay': 2.0210175600552583e-06, 'scheduler_factor': 0.1665663847250296, 'scheduler_patience': 6, 'batch_size': 16, 'dropout': 0.0621782466174164, 'hidden_dims': [128]}. Best is trial 10 with value: 0.023334364377477632.\n"
     ]
    },
    {
     "name": "stdout",
     "output_type": "stream",
     "text": [
      "Early stopping at epoch 41\n"
     ]
    },
    {
     "name": "stderr",
     "output_type": "stream",
     "text": [
      "[I 2025-04-01 16:57:45,519] Trial 22 pruned. \n",
      "[I 2025-04-01 16:58:52,125] Trial 23 pruned. \n",
      "[I 2025-04-01 16:58:53,309] Trial 24 pruned. \n",
      "[I 2025-04-01 17:01:31,903] Trial 25 finished with value: 0.023362328057486337 and parameters: {'lr': 0.00015121824259197453, 'weight_decay': 3.7137144058919174e-06, 'scheduler_factor': 0.10031756023519607, 'scheduler_patience': 19, 'batch_size': 16, 'dropout': 0.09075920923408473, 'hidden_dims': [128]}. Best is trial 10 with value: 0.023334364377477632.\n"
     ]
    },
    {
     "name": "stdout",
     "output_type": "stream",
     "text": [
      "Early stopping at epoch 30\n"
     ]
    },
    {
     "name": "stderr",
     "output_type": "stream",
     "text": [
      "[I 2025-04-01 17:01:33,401] Trial 26 pruned. \n",
      "[I 2025-04-01 17:01:36,324] Trial 27 pruned. \n",
      "[I 2025-04-01 17:01:45,418] Trial 28 pruned. \n",
      "[I 2025-04-01 17:01:46,924] Trial 29 pruned. \n",
      "[I 2025-04-01 17:01:51,964] Trial 30 pruned. \n",
      "[I 2025-04-01 17:03:11,478] Trial 31 finished with value: 0.023384472197457457 and parameters: {'lr': 0.0001635256759741265, 'weight_decay': 3.381480491523975e-06, 'scheduler_factor': 0.10213173163010497, 'scheduler_patience': 19, 'batch_size': 16, 'dropout': 0.07954109728591652, 'hidden_dims': [128]}. Best is trial 10 with value: 0.023334364377477632.\n"
     ]
    },
    {
     "name": "stdout",
     "output_type": "stream",
     "text": [
      "Early stopping at epoch 15\n"
     ]
    },
    {
     "name": "stderr",
     "output_type": "stream",
     "text": [
      "[I 2025-04-01 17:05:23,476] Trial 32 finished with value: 0.023369807909610494 and parameters: {'lr': 0.00034783442881733027, 'weight_decay': 2.0926758858545482e-06, 'scheduler_factor': 0.11365649200162041, 'scheduler_patience': 18, 'batch_size': 16, 'dropout': 0.08707848930910846, 'hidden_dims': [128]}. Best is trial 10 with value: 0.023334364377477632.\n"
     ]
    },
    {
     "name": "stdout",
     "output_type": "stream",
     "text": [
      "Early stopping at epoch 25\n"
     ]
    },
    {
     "name": "stderr",
     "output_type": "stream",
     "text": [
      "[I 2025-04-01 17:05:28,714] Trial 33 pruned. \n",
      "[I 2025-04-01 17:05:34,307] Trial 34 pruned. \n",
      "[I 2025-04-01 17:05:37,539] Trial 35 pruned. \n",
      "[I 2025-04-01 17:05:38,733] Trial 36 pruned. \n",
      "[I 2025-04-01 17:05:44,660] Trial 37 pruned. \n",
      "[I 2025-04-01 17:05:46,192] Trial 38 pruned. \n",
      "[I 2025-04-01 17:06:03,852] Trial 39 pruned. \n",
      "[I 2025-04-01 17:06:05,371] Trial 40 pruned. \n",
      "[I 2025-04-01 17:06:10,663] Trial 41 pruned. \n",
      "[I 2025-04-01 17:06:15,786] Trial 42 pruned. \n",
      "[I 2025-04-01 17:10:06,902] Trial 43 finished with value: 0.02333673905512249 and parameters: {'lr': 0.0004066266411905124, 'weight_decay': 3.53678659735202e-06, 'scheduler_factor': 0.10880185155042917, 'scheduler_patience': 6, 'batch_size': 16, 'dropout': 0.052195052662925866, 'hidden_dims': [128]}. Best is trial 10 with value: 0.023334364377477632.\n"
     ]
    },
    {
     "name": "stdout",
     "output_type": "stream",
     "text": [
      "Early stopping at epoch 44\n"
     ]
    },
    {
     "name": "stderr",
     "output_type": "stream",
     "text": [
      "[I 2025-04-01 17:10:17,346] Trial 44 pruned. \n",
      "[I 2025-04-01 17:12:57,195] Trial 45 finished with value: 0.0233340992366967 and parameters: {'lr': 0.0004543426062151711, 'weight_decay': 9.240565393725398e-06, 'scheduler_factor': 0.1086972953285817, 'scheduler_patience': 6, 'batch_size': 32, 'dropout': 0.07473484554256053, 'hidden_dims': [128]}. Best is trial 45 with value: 0.0233340992366967.\n"
     ]
    },
    {
     "name": "stdout",
     "output_type": "stream",
     "text": [
      "Early stopping at epoch 51\n"
     ]
    },
    {
     "name": "stderr",
     "output_type": "stream",
     "text": [
      "[I 2025-04-01 17:13:00,303] Trial 46 pruned. \n",
      "[I 2025-04-01 17:13:03,388] Trial 47 pruned. \n",
      "[I 2025-04-01 17:13:06,532] Trial 48 pruned. \n",
      "[I 2025-04-01 17:13:16,099] Trial 49 pruned. \n",
      "100%|█████████████████████████████████████████████████████████████████████████████████████████████████████████████████████████████████████| 571696/571696 [01:12<00:00, 7909.09it/s]\n",
      "100%|████████████████████████████████████████████████████████████████████████████████████████████████████████████████████████████████████| 571696/571696 [00:39<00:00, 14607.07it/s]\n",
      "100%|████████████████████████████████████████████████████████████████████████████████████████████████████████████████████████████████████| 571696/571696 [00:39<00:00, 14590.52it/s]\n",
      "[I 2025-04-01 17:15:47,070] A new study created in memory with name: no-name-42ee1aeb-6d9e-4798-93ad-b3560b95c99c\n",
      "[I 2025-04-01 17:16:14,653] Trial 0 finished with value: 0.02408148562069352 and parameters: {'lr': 0.0016088729198226524, 'weight_decay': 0.0019953628576026526, 'scheduler_factor': 0.1723372580118572, 'scheduler_patience': 18, 'batch_size': 64, 'dropout': 0.14098356910846313, 'hidden_dims': [128]}. Best is trial 0 with value: 0.02408148562069352.\n"
     ]
    },
    {
     "name": "stdout",
     "output_type": "stream",
     "text": [
      "Early stopping at epoch 13\n"
     ]
    },
    {
     "name": "stderr",
     "output_type": "stream",
     "text": [
      "[I 2025-04-01 17:16:44,815] Trial 1 finished with value: 0.023202560617713225 and parameters: {'lr': 7.180024663891061e-05, 'weight_decay': 0.00010683588510302344, 'scheduler_factor': 0.1353219706355888, 'scheduler_patience': 9, 'batch_size': 64, 'dropout': 0.29757629347730125, 'hidden_dims': [128]}. Best is trial 1 with value: 0.023202560617713225.\n"
     ]
    },
    {
     "name": "stdout",
     "output_type": "stream",
     "text": [
      "Early stopping at epoch 14\n"
     ]
    },
    {
     "name": "stderr",
     "output_type": "stream",
     "text": [
      "[I 2025-04-01 17:18:08,501] Trial 2 finished with value: 0.02358114479345311 and parameters: {'lr': 0.00028426986126775495, 'weight_decay': 0.005113160074791155, 'scheduler_factor': 0.237929300804211, 'scheduler_patience': 12, 'batch_size': 16, 'dropout': 0.2141730395981172, 'hidden_dims': [256]}. Best is trial 1 with value: 0.023202560617713225.\n"
     ]
    },
    {
     "name": "stdout",
     "output_type": "stream",
     "text": [
      "Early stopping at epoch 15\n"
     ]
    },
    {
     "name": "stderr",
     "output_type": "stream",
     "text": [
      "[I 2025-04-01 17:18:24,642] Trial 3 finished with value: 0.023989454757522892 and parameters: {'lr': 0.0035582433077645964, 'weight_decay': 0.0016205846079650353, 'scheduler_factor': 0.14893420248614786, 'scheduler_patience': 11, 'batch_size': 256, 'dropout': 0.14488057976823626, 'hidden_dims': [512]}. Best is trial 1 with value: 0.023202560617713225.\n"
     ]
    },
    {
     "name": "stdout",
     "output_type": "stream",
     "text": [
      "Early stopping at epoch 13\n"
     ]
    },
    {
     "name": "stderr",
     "output_type": "stream",
     "text": [
      "[I 2025-04-01 17:24:41,679] Trial 4 finished with value: 0.023102942052648904 and parameters: {'lr': 3.301745485905233e-05, 'weight_decay': 4.338830329161768e-06, 'scheduler_factor': 0.28105924419350814, 'scheduler_patience': 13, 'batch_size': 16, 'dropout': 0.07653937722833731, 'hidden_dims': [1024]}. Best is trial 4 with value: 0.023102942052648904.\n"
     ]
    },
    {
     "name": "stdout",
     "output_type": "stream",
     "text": [
      "Early stopping at epoch 63\n"
     ]
    },
    {
     "name": "stderr",
     "output_type": "stream",
     "text": [
      "[I 2025-04-01 17:25:06,535] Trial 5 pruned. \n",
      "[I 2025-04-01 17:25:53,084] Trial 6 pruned. \n",
      "[I 2025-04-01 17:25:57,532] Trial 7 pruned. \n",
      "[I 2025-04-01 17:25:59,797] Trial 8 pruned. \n",
      "[I 2025-04-01 17:26:05,931] Trial 9 pruned. \n",
      "[I 2025-04-01 17:26:18,220] Trial 10 pruned. \n",
      "[I 2025-04-01 17:28:36,530] Trial 11 pruned. \n",
      "[I 2025-04-01 17:28:39,179] Trial 12 pruned. \n",
      "[I 2025-04-01 17:29:00,885] Trial 13 pruned. \n",
      "[I 2025-04-01 17:29:35,861] Trial 14 pruned. \n",
      "[I 2025-04-01 17:30:54,363] Trial 15 pruned. \n",
      "[I 2025-04-01 17:30:59,762] Trial 16 pruned. \n",
      "[I 2025-04-01 17:36:10,338] Trial 17 pruned. \n",
      "[I 2025-04-01 17:36:57,314] Trial 18 pruned. \n",
      "[I 2025-04-01 17:36:58,936] Trial 19 pruned. \n",
      "[I 2025-04-01 17:37:02,758] Trial 20 pruned. \n",
      "[I 2025-04-01 17:37:08,195] Trial 21 pruned. \n",
      "[I 2025-04-01 17:38:23,541] Trial 22 pruned. \n",
      "[I 2025-04-01 17:39:41,907] Trial 23 pruned. \n",
      "[I 2025-04-01 17:39:48,154] Trial 24 pruned. \n",
      "[I 2025-04-01 17:39:52,429] Trial 25 pruned. \n",
      "[I 2025-04-01 17:41:08,277] Trial 26 pruned. \n",
      "[I 2025-04-01 17:42:06,451] Trial 27 pruned. \n",
      "[I 2025-04-01 17:42:36,982] Trial 28 pruned. \n",
      "[I 2025-04-01 17:42:39,282] Trial 29 pruned. \n",
      "[I 2025-04-01 17:43:00,954] Trial 30 pruned. \n",
      "[I 2025-04-01 17:43:02,260] Trial 31 pruned. \n",
      "[I 2025-04-01 17:43:03,522] Trial 32 pruned. \n",
      "[I 2025-04-01 17:43:06,046] Trial 33 pruned. \n",
      "[I 2025-04-01 17:43:07,355] Trial 34 pruned. \n",
      "[I 2025-04-01 17:43:54,384] Trial 35 pruned. \n",
      "[I 2025-04-01 17:44:09,214] Trial 36 finished with value: 0.023367077816982527 and parameters: {'lr': 0.00042024601861396653, 'weight_decay': 0.0012053139890345894, 'scheduler_factor': 0.27360311928186126, 'scheduler_patience': 11, 'batch_size': 256, 'dropout': 0.1766309505078047, 'hidden_dims': [256]}. Best is trial 4 with value: 0.023102942052648904.\n"
     ]
    },
    {
     "name": "stdout",
     "output_type": "stream",
     "text": [
      "Early stopping at epoch 12\n"
     ]
    },
    {
     "name": "stderr",
     "output_type": "stream",
     "text": [
      "[I 2025-04-01 17:44:12,856] Trial 37 pruned. \n",
      "[I 2025-04-01 17:44:49,398] Trial 38 pruned. \n",
      "[I 2025-04-01 17:44:55,566] Trial 39 pruned. \n",
      "[I 2025-04-01 17:45:39,061] Trial 40 finished with value: 0.023218047961401117 and parameters: {'lr': 3.879792063923578e-05, 'weight_decay': 0.0001400469916800472, 'scheduler_factor': 0.3828927635035724, 'scheduler_patience': 9, 'batch_size': 32, 'dropout': 0.2687383714975076, 'hidden_dims': [256]}. Best is trial 4 with value: 0.023102942052648904.\n"
     ]
    },
    {
     "name": "stdout",
     "output_type": "stream",
     "text": [
      "Early stopping at epoch 13\n"
     ]
    },
    {
     "name": "stderr",
     "output_type": "stream",
     "text": [
      "[I 2025-04-01 17:46:22,817] Trial 41 finished with value: 0.023216689955090276 and parameters: {'lr': 3.927716668666914e-05, 'weight_decay': 0.00016808221221552514, 'scheduler_factor': 0.38766522960735716, 'scheduler_patience': 9, 'batch_size': 32, 'dropout': 0.26625842194770805, 'hidden_dims': [256]}. Best is trial 4 with value: 0.023102942052648904.\n"
     ]
    },
    {
     "name": "stdout",
     "output_type": "stream",
     "text": [
      "Early stopping at epoch 13\n"
     ]
    },
    {
     "name": "stderr",
     "output_type": "stream",
     "text": [
      "[I 2025-04-01 17:47:13,208] Trial 42 finished with value: 0.023194088561508265 and parameters: {'lr': 3.208810065128094e-05, 'weight_decay': 0.00012052669141879507, 'scheduler_factor': 0.3761572914253696, 'scheduler_patience': 9, 'batch_size': 32, 'dropout': 0.2656786729775391, 'hidden_dims': [256]}. Best is trial 4 with value: 0.023102942052648904.\n"
     ]
    },
    {
     "name": "stdout",
     "output_type": "stream",
     "text": [
      "Early stopping at epoch 15\n"
     ]
    },
    {
     "name": "stderr",
     "output_type": "stream",
     "text": [
      "[I 2025-04-01 17:47:23,243] Trial 43 pruned. \n",
      "[I 2025-04-01 17:47:26,513] Trial 44 pruned. \n",
      "[I 2025-04-01 17:47:30,157] Trial 45 pruned. \n",
      "[I 2025-04-01 17:47:33,753] Trial 46 pruned. \n",
      "[I 2025-04-01 17:48:14,607] Trial 47 finished with value: 0.023220281749308434 and parameters: {'lr': 6.592369766386159e-05, 'weight_decay': 0.0001574101736788875, 'scheduler_factor': 0.3771074325787764, 'scheduler_patience': 10, 'batch_size': 32, 'dropout': 0.2356402762093043, 'hidden_dims': [256]}. Best is trial 4 with value: 0.023102942052648904.\n"
     ]
    },
    {
     "name": "stdout",
     "output_type": "stream",
     "text": [
      "Early stopping at epoch 13\n"
     ]
    },
    {
     "name": "stderr",
     "output_type": "stream",
     "text": [
      "[I 2025-04-01 17:48:17,921] Trial 48 pruned. \n",
      "[I 2025-04-01 17:48:21,312] Trial 49 pruned. \n",
      "100%|█████████████████████████████████████████████████████████████████████████████████████████████████████████████████████████████████████| 571696/571696 [01:11<00:00, 7987.97it/s]\n",
      "100%|████████████████████████████████████████████████████████████████████████████████████████████████████████████████████████████████████| 571696/571696 [00:41<00:00, 13697.32it/s]\n",
      "100%|████████████████████████████████████████████████████████████████████████████████████████████████████████████████████████████████████| 571696/571696 [00:39<00:00, 14331.26it/s]\n",
      "[I 2025-04-01 17:50:54,885] A new study created in memory with name: no-name-c00297f5-d008-4429-a19c-25e310d878f7\n",
      "[I 2025-04-01 17:52:17,826] Trial 0 finished with value: 0.023533278115992914 and parameters: {'lr': 7.58912786073729e-05, 'weight_decay': 0.0006905726211550051, 'scheduler_factor': 0.20501875041956097, 'scheduler_patience': 18, 'batch_size': 32, 'dropout': 0.2801982290648282, 'hidden_dims': [64]}. Best is trial 0 with value: 0.023533278115992914.\n"
     ]
    },
    {
     "name": "stdout",
     "output_type": "stream",
     "text": [
      "Early stopping at epoch 25\n"
     ]
    },
    {
     "name": "stderr",
     "output_type": "stream",
     "text": [
      "[I 2025-04-01 17:54:12,980] Trial 1 finished with value: 0.02347599919863981 and parameters: {'lr': 1.3620500928032432e-05, 'weight_decay': 0.0038626485944474828, 'scheduler_factor': 0.13429731895014085, 'scheduler_patience': 3, 'batch_size': 16, 'dropout': 0.07353245517982865, 'hidden_dims': [2048]}. Best is trial 1 with value: 0.02347599919863981.\n"
     ]
    },
    {
     "name": "stdout",
     "output_type": "stream",
     "text": [
      "Early stopping at epoch 13\n"
     ]
    },
    {
     "name": "stderr",
     "output_type": "stream",
     "text": [
      "[I 2025-04-01 17:54:36,532] Trial 2 finished with value: 0.02343325580923109 and parameters: {'lr': 0.005993722342552559, 'weight_decay': 6.051986942223751e-06, 'scheduler_factor': 0.2283545718876473, 'scheduler_patience': 11, 'batch_size': 256, 'dropout': 0.10626051440203184, 'hidden_dims': [128]}. Best is trial 2 with value: 0.02343325580923109.\n"
     ]
    },
    {
     "name": "stdout",
     "output_type": "stream",
     "text": [
      "Early stopping at epoch 19\n"
     ]
    },
    {
     "name": "stderr",
     "output_type": "stream",
     "text": [
      "[I 2025-04-01 17:57:02,348] Trial 3 finished with value: 0.023415513261724478 and parameters: {'lr': 0.0007996104508039125, 'weight_decay': 6.446406211668026e-05, 'scheduler_factor': 0.2957259005269328, 'scheduler_patience': 2, 'batch_size': 32, 'dropout': 0.08252017373345218, 'hidden_dims': [512]}. Best is trial 3 with value: 0.023415513261724478.\n"
     ]
    },
    {
     "name": "stdout",
     "output_type": "stream",
     "text": [
      "Early stopping at epoch 44\n"
     ]
    },
    {
     "name": "stderr",
     "output_type": "stream",
     "text": [
      "[I 2025-04-01 17:57:27,972] Trial 4 finished with value: 0.023753867829325554 and parameters: {'lr': 0.00014140766348155572, 'weight_decay': 0.0093784944421704, 'scheduler_factor': 0.38935330417633585, 'scheduler_patience': 12, 'batch_size': 64, 'dropout': 0.07546151031088334, 'hidden_dims': [1024]}. Best is trial 3 with value: 0.023415513261724478.\n"
     ]
    },
    {
     "name": "stdout",
     "output_type": "stream",
     "text": [
      "Early stopping at epoch 12\n"
     ]
    },
    {
     "name": "stderr",
     "output_type": "stream",
     "text": [
      "[I 2025-04-01 17:57:39,813] Trial 5 pruned. \n",
      "[I 2025-04-01 17:57:42,052] Trial 6 pruned. \n",
      "[I 2025-04-01 17:57:48,170] Trial 7 pruned. \n",
      "[I 2025-04-01 17:58:37,770] Trial 8 finished with value: 0.023409176936865537 and parameters: {'lr': 0.00022066390319590843, 'weight_decay': 6.684838216608266e-05, 'scheduler_factor': 0.19955444642538592, 'scheduler_patience': 20, 'batch_size': 32, 'dropout': 0.1265681338707062, 'hidden_dims': [256]}. Best is trial 8 with value: 0.023409176936865537.\n"
     ]
    },
    {
     "name": "stdout",
     "output_type": "stream",
     "text": [
      "Early stopping at epoch 15\n"
     ]
    },
    {
     "name": "stderr",
     "output_type": "stream",
     "text": [
      "[I 2025-04-01 17:59:57,354] Trial 9 finished with value: 0.02332317271194924 and parameters: {'lr': 0.00046230749334115446, 'weight_decay': 1.3495307418829514e-05, 'scheduler_factor': 0.2154157595840203, 'scheduler_patience': 2, 'batch_size': 64, 'dropout': 0.27409628439559625, 'hidden_dims': [64]}. Best is trial 9 with value: 0.02332317271194924.\n"
     ]
    },
    {
     "name": "stdout",
     "output_type": "stream",
     "text": [
      "Early stopping at epoch 37\n"
     ]
    },
    {
     "name": "stderr",
     "output_type": "stream",
     "text": [
      "[I 2025-04-01 18:01:19,323] Trial 10 finished with value: 0.023319879508224027 and parameters: {'lr': 0.0009389717142714293, 'weight_decay': 1.4898586646062014e-05, 'scheduler_factor': 0.2792519638067705, 'scheduler_patience': 5, 'batch_size': 128, 'dropout': 0.2918851949067006, 'hidden_dims': [64]}. Best is trial 10 with value: 0.023319879508224027.\n"
     ]
    },
    {
     "name": "stdout",
     "output_type": "stream",
     "text": [
      "Early stopping at epoch 53\n"
     ]
    },
    {
     "name": "stderr",
     "output_type": "stream",
     "text": [
      "[I 2025-04-01 18:01:22,462] Trial 11 pruned. \n",
      "[I 2025-04-01 18:01:24,083] Trial 12 pruned. \n",
      "[I 2025-04-01 18:01:29,273] Trial 13 pruned. \n",
      "[I 2025-04-01 18:01:32,428] Trial 14 pruned. \n",
      "[I 2025-04-01 18:01:33,675] Trial 15 pruned. \n",
      "[I 2025-04-01 18:01:38,054] Trial 16 pruned. \n",
      "[I 2025-04-01 18:01:39,707] Trial 17 pruned. \n",
      "[I 2025-04-01 18:02:35,615] Trial 18 pruned. \n",
      "[I 2025-04-01 18:02:38,474] Trial 19 pruned. \n",
      "[I 2025-04-01 18:02:40,974] Trial 20 pruned. \n",
      "[I 2025-04-01 18:02:47,891] Trial 21 pruned. \n",
      "[I 2025-04-01 18:04:12,415] Trial 22 pruned. \n",
      "[I 2025-04-01 18:05:48,557] Trial 23 finished with value: 0.02332205649936336 and parameters: {'lr': 0.0004794067655017986, 'weight_decay': 7.017873277369027e-06, 'scheduler_factor': 0.19104395608717026, 'scheduler_patience': 17, 'batch_size': 32, 'dropout': 0.29117408768746095, 'hidden_dims': [256]}. Best is trial 10 with value: 0.023319879508224027.\n"
     ]
    },
    {
     "name": "stdout",
     "output_type": "stream",
     "text": [
      "Early stopping at epoch 30\n"
     ]
    },
    {
     "name": "stderr",
     "output_type": "stream",
     "text": [
      "[I 2025-04-01 18:05:50,171] Trial 24 pruned. \n",
      "[I 2025-04-01 18:07:02,634] Trial 25 pruned. \n",
      "[I 2025-04-01 18:08:28,337] Trial 26 finished with value: 0.023316971381762246 and parameters: {'lr': 0.0006326034028625622, 'weight_decay': 7.5303057687405155e-06, 'scheduler_factor': 0.24136219204024487, 'scheduler_patience': 13, 'batch_size': 64, 'dropout': 0.165939182616755, 'hidden_dims': [64]}. Best is trial 26 with value: 0.023316971381762246.\n"
     ]
    },
    {
     "name": "stdout",
     "output_type": "stream",
     "text": [
      "Early stopping at epoch 40\n"
     ]
    },
    {
     "name": "stderr",
     "output_type": "stream",
     "text": [
      "[I 2025-04-01 18:09:34,623] Trial 27 finished with value: 0.023345789259792058 and parameters: {'lr': 0.000745166929256053, 'weight_decay': 8.7299788042059e-06, 'scheduler_factor': 0.24676294319440145, 'scheduler_patience': 13, 'batch_size': 32, 'dropout': 0.17175308777746282, 'hidden_dims': [128]}. Best is trial 26 with value: 0.023316971381762246.\n"
     ]
    },
    {
     "name": "stdout",
     "output_type": "stream",
     "text": [
      "Early stopping at epoch 20\n"
     ]
    },
    {
     "name": "stderr",
     "output_type": "stream",
     "text": [
      "[I 2025-04-01 18:09:36,275] Trial 28 pruned. \n",
      "[I 2025-04-01 18:09:38,535] Trial 29 pruned. \n",
      "[I 2025-04-01 18:09:48,281] Trial 30 pruned. \n",
      "[I 2025-04-01 18:10:16,215] Trial 31 pruned. \n",
      "[I 2025-04-01 18:11:05,325] Trial 32 pruned. \n",
      "[I 2025-04-01 18:11:08,048] Trial 33 pruned. \n",
      "[I 2025-04-01 18:12:55,528] Trial 34 finished with value: 0.023369883535123055 and parameters: {'lr': 0.0009798441426779676, 'weight_decay': 4.479975847664256e-06, 'scheduler_factor': 0.20578308958742492, 'scheduler_patience': 13, 'batch_size': 16, 'dropout': 0.26070996567828364, 'hidden_dims': [64]}. Best is trial 26 with value: 0.023316971381762246.\n"
     ]
    },
    {
     "name": "stdout",
     "output_type": "stream",
     "text": [
      "Early stopping at epoch 19\n"
     ]
    },
    {
     "name": "stderr",
     "output_type": "stream",
     "text": [
      "[I 2025-04-01 18:12:56,788] Trial 35 pruned. \n",
      "[I 2025-04-01 18:12:58,926] Trial 36 pruned. \n",
      "[I 2025-04-01 18:13:01,624] Trial 37 pruned. \n",
      "[I 2025-04-01 18:13:07,035] Trial 38 pruned. \n",
      "[I 2025-04-01 18:13:10,571] Trial 39 pruned. \n",
      "[I 2025-04-01 18:13:12,841] Trial 40 pruned. \n",
      "[I 2025-04-01 18:14:37,970] Trial 41 pruned. \n",
      "[I 2025-04-01 18:15:38,098] Trial 42 finished with value: 0.023346920098959542 and parameters: {'lr': 0.0007677037108251075, 'weight_decay': 6.648222089529386e-06, 'scheduler_factor': 0.25341321488063506, 'scheduler_patience': 13, 'batch_size': 32, 'dropout': 0.14595976221490747, 'hidden_dims': [128]}. Best is trial 26 with value: 0.023316971381762246.\n"
     ]
    },
    {
     "name": "stdout",
     "output_type": "stream",
     "text": [
      "Early stopping at epoch 18\n"
     ]
    },
    {
     "name": "stderr",
     "output_type": "stream",
     "text": [
      "[I 2025-04-01 18:17:04,039] Trial 43 pruned. \n",
      "[I 2025-04-01 18:18:17,358] Trial 44 finished with value: 0.023366725571111018 and parameters: {'lr': 0.0020521785825898834, 'weight_decay': 1.9800744485792002e-06, 'scheduler_factor': 0.1968575412560598, 'scheduler_patience': 14, 'batch_size': 32, 'dropout': 0.2979756232206119, 'hidden_dims': [64]}. Best is trial 26 with value: 0.023316971381762246.\n"
     ]
    },
    {
     "name": "stdout",
     "output_type": "stream",
     "text": [
      "Early stopping at epoch 23\n"
     ]
    },
    {
     "name": "stderr",
     "output_type": "stream",
     "text": [
      "[I 2025-04-01 18:18:18,996] Trial 45 pruned. \n",
      "[I 2025-04-01 18:18:24,428] Trial 46 pruned. \n",
      "[I 2025-04-01 18:18:25,697] Trial 47 pruned. \n",
      "[I 2025-04-01 18:20:26,582] Trial 48 finished with value: 0.023296525444963884 and parameters: {'lr': 0.00054584005358527, 'weight_decay': 3.968393385665429e-06, 'scheduler_factor': 0.1581167403793244, 'scheduler_patience': 5, 'batch_size': 32, 'dropout': 0.27022795713463577, 'hidden_dims': [256]}. Best is trial 48 with value: 0.023296525444963884.\n"
     ]
    },
    {
     "name": "stdout",
     "output_type": "stream",
     "text": [
      "Early stopping at epoch 36\n"
     ]
    },
    {
     "name": "stderr",
     "output_type": "stream",
     "text": [
      "[I 2025-04-01 18:20:28,848] Trial 49 pruned. \n",
      "100%|█████████████████████████████████████████████████████████████████████████████████████████████████████████████████████████████████████| 571696/571696 [01:05<00:00, 8732.66it/s]\n",
      "100%|████████████████████████████████████████████████████████████████████████████████████████████████████████████████████████████████████| 571696/571696 [00:42<00:00, 13347.48it/s]\n",
      "100%|████████████████████████████████████████████████████████████████████████████████████████████████████████████████████████████████████| 571696/571696 [00:44<00:00, 12949.13it/s]\n",
      "[I 2025-04-01 18:23:01,670] A new study created in memory with name: no-name-56f38431-318d-425d-8f69-61139c9e91c7\n",
      "[I 2025-04-01 18:23:43,150] Trial 0 finished with value: 0.02404951505632692 and parameters: {'lr': 2.5602499002663795e-05, 'weight_decay': 0.001577354723914873, 'scheduler_factor': 0.13536709982906275, 'scheduler_patience': 10, 'batch_size': 256, 'dropout': 0.05985002389398995, 'hidden_dims': [4096]}. Best is trial 0 with value: 0.02404951505632692.\n"
     ]
    },
    {
     "name": "stdout",
     "output_type": "stream",
     "text": [
      "Early stopping at epoch 26\n"
     ]
    },
    {
     "name": "stderr",
     "output_type": "stream",
     "text": [
      "[I 2025-04-01 18:24:24,697] Trial 1 finished with value: 0.024474167329826865 and parameters: {'lr': 0.0007362366137281462, 'weight_decay': 0.00376289571011649, 'scheduler_factor': 0.41427695311361024, 'scheduler_patience': 13, 'batch_size': 32, 'dropout': 0.24626295067391366, 'hidden_dims': [64]}. Best is trial 0 with value: 0.02404951505632692.\n"
     ]
    },
    {
     "name": "stdout",
     "output_type": "stream",
     "text": [
      "Early stopping at epoch 14\n"
     ]
    },
    {
     "name": "stderr",
     "output_type": "stream",
     "text": [
      "[I 2025-04-01 18:25:00,172] Trial 2 finished with value: 0.028577844669750403 and parameters: {'lr': 0.003166946281788069, 'weight_decay': 0.0019879008201819665, 'scheduler_factor': 0.19923035406181186, 'scheduler_patience': 9, 'batch_size': 32, 'dropout': 0.23812749487877694, 'hidden_dims': [128]}. Best is trial 0 with value: 0.02404951505632692.\n"
     ]
    },
    {
     "name": "stdout",
     "output_type": "stream",
     "text": [
      "Early stopping at epoch 12\n"
     ]
    },
    {
     "name": "stderr",
     "output_type": "stream",
     "text": [
      "[I 2025-04-01 18:25:58,701] Trial 3 finished with value: 0.024570255229606947 and parameters: {'lr': 3.3105948697017147e-05, 'weight_decay': 0.008272649491111849, 'scheduler_factor': 0.13073454960782438, 'scheduler_patience': 19, 'batch_size': 16, 'dropout': 0.19834344689987746, 'hidden_dims': [64]}. Best is trial 0 with value: 0.02404951505632692.\n"
     ]
    },
    {
     "name": "stdout",
     "output_type": "stream",
     "text": [
      "Early stopping at epoch 12\n"
     ]
    },
    {
     "name": "stderr",
     "output_type": "stream",
     "text": [
      "[I 2025-04-01 18:26:30,819] Trial 4 finished with value: 0.024552722131052324 and parameters: {'lr': 0.0020373308496439385, 'weight_decay': 0.0002365514024819433, 'scheduler_factor': 0.2551819362055951, 'scheduler_patience': 12, 'batch_size': 32, 'dropout': 0.12134318140966516, 'hidden_dims': [256]}. Best is trial 0 with value: 0.02404951505632692.\n"
     ]
    },
    {
     "name": "stdout",
     "output_type": "stream",
     "text": [
      "Early stopping at epoch 11\n"
     ]
    },
    {
     "name": "stderr",
     "output_type": "stream",
     "text": [
      "[I 2025-04-01 18:29:29,593] Trial 5 finished with value: 0.023913027440900344 and parameters: {'lr': 7.179753439362002e-05, 'weight_decay': 1.6647715168053354e-05, 'scheduler_factor': 0.14725188766838967, 'scheduler_patience': 16, 'batch_size': 16, 'dropout': 0.22195058154172093, 'hidden_dims': [256]}. Best is trial 5 with value: 0.023913027440900344.\n"
     ]
    },
    {
     "name": "stdout",
     "output_type": "stream",
     "text": [
      "Early stopping at epoch 37\n"
     ]
    },
    {
     "name": "stderr",
     "output_type": "stream",
     "text": [
      "[I 2025-04-01 18:29:35,285] Trial 6 pruned. \n",
      "[I 2025-04-01 18:30:12,869] Trial 7 pruned. \n",
      "[I 2025-04-01 18:30:43,355] Trial 8 pruned. \n",
      "[I 2025-04-01 18:31:46,833] Trial 9 pruned. \n",
      "[I 2025-04-01 18:33:59,897] Trial 10 pruned. \n",
      "[I 2025-04-01 18:34:25,336] Trial 11 pruned. \n",
      "[I 2025-04-01 18:34:26,534] Trial 12 pruned. \n",
      "[I 2025-04-01 18:36:47,715] Trial 13 pruned. \n",
      "[I 2025-04-01 18:36:52,818] Trial 14 pruned. \n",
      "[I 2025-04-01 18:37:17,604] Trial 15 pruned. \n",
      "[I 2025-04-01 18:38:22,907] Trial 16 pruned. \n",
      "[I 2025-04-01 18:38:25,273] Trial 17 pruned. \n",
      "[I 2025-04-01 18:41:26,016] Trial 18 finished with value: 0.02395541288604803 and parameters: {'lr': 0.00011349332052885056, 'weight_decay': 3.538346482374874e-06, 'scheduler_factor': 0.46481121003791875, 'scheduler_patience': 15, 'batch_size': 16, 'dropout': 0.186169098601392, 'hidden_dims': [2048]}. Best is trial 5 with value: 0.023913027440900344.\n"
     ]
    },
    {
     "name": "stdout",
     "output_type": "stream",
     "text": [
      "Early stopping at epoch 23\n"
     ]
    },
    {
     "name": "stderr",
     "output_type": "stream",
     "text": [
      "[I 2025-04-01 18:43:06,169] Trial 19 pruned. \n",
      "[I 2025-04-01 18:45:52,241] Trial 20 finished with value: 0.023950843908942615 and parameters: {'lr': 0.00011614545847610138, 'weight_decay': 3.5140165525774648e-06, 'scheduler_factor': 0.3531511064176768, 'scheduler_patience': 15, 'batch_size': 16, 'dropout': 0.1994339047538157, 'hidden_dims': [2048]}. Best is trial 5 with value: 0.023913027440900344.\n"
     ]
    },
    {
     "name": "stdout",
     "output_type": "stream",
     "text": [
      "Early stopping at epoch 21\n"
     ]
    },
    {
     "name": "stderr",
     "output_type": "stream",
     "text": [
      "[I 2025-04-01 18:49:23,470] Trial 21 pruned. \n",
      "[I 2025-04-01 18:51:06,115] Trial 22 pruned. \n",
      "[I 2025-04-01 18:51:14,314] Trial 23 pruned. \n",
      "[I 2025-04-01 18:53:09,577] Trial 24 finished with value: 0.023924045696123025 and parameters: {'lr': 7.096385452274817e-05, 'weight_decay': 2.0986147749037223e-05, 'scheduler_factor': 0.29808106825393454, 'scheduler_patience': 16, 'batch_size': 16, 'dropout': 0.1654931485511624, 'hidden_dims': [256]}. Best is trial 5 with value: 0.023913027440900344.\n"
     ]
    },
    {
     "name": "stdout",
     "output_type": "stream",
     "text": [
      "Early stopping at epoch 23\n"
     ]
    },
    {
     "name": "stderr",
     "output_type": "stream",
     "text": [
      "[I 2025-04-01 18:55:10,604] Trial 25 finished with value: 0.023928361245439966 and parameters: {'lr': 7.018477052557573e-05, 'weight_decay': 2.2633013121289118e-05, 'scheduler_factor': 0.28487236823411916, 'scheduler_patience': 20, 'batch_size': 16, 'dropout': 0.1581872007056707, 'hidden_dims': [256]}. Best is trial 5 with value: 0.023913027440900344.\n"
     ]
    },
    {
     "name": "stdout",
     "output_type": "stream",
     "text": [
      "Early stopping at epoch 25\n"
     ]
    },
    {
     "name": "stderr",
     "output_type": "stream",
     "text": [
      "[I 2025-04-01 18:57:19,703] Trial 26 pruned. \n",
      "[I 2025-04-01 18:57:42,930] Trial 27 pruned. \n",
      "[I 2025-04-01 18:57:44,377] Trial 28 pruned. \n",
      "[I 2025-04-01 18:57:54,123] Trial 29 pruned. \n",
      "[I 2025-04-01 18:58:51,882] Trial 30 pruned. \n",
      "[I 2025-04-01 19:01:02,489] Trial 31 pruned. \n",
      "[I 2025-04-01 19:02:59,415] Trial 32 finished with value: 0.023925326397746853 and parameters: {'lr': 0.0003576807672444981, 'weight_decay': 2.3463054302292722e-06, 'scheduler_factor': 0.398359868746602, 'scheduler_patience': 13, 'batch_size': 16, 'dropout': 0.14686834293273013, 'hidden_dims': [256]}. Best is trial 5 with value: 0.023913027440900344.\n"
     ]
    },
    {
     "name": "stdout",
     "output_type": "stream",
     "text": [
      "Early stopping at epoch 24\n"
     ]
    },
    {
     "name": "stderr",
     "output_type": "stream",
     "text": [
      "[I 2025-04-01 19:04:41,696] Trial 33 finished with value: 0.023934129089534486 and parameters: {'lr': 0.00034632120737260424, 'weight_decay': 1.5414521474163596e-06, 'scheduler_factor': 0.40220814227456986, 'scheduler_patience': 13, 'batch_size': 16, 'dropout': 0.14286073936138835, 'hidden_dims': [256]}. Best is trial 5 with value: 0.023913027440900344.\n"
     ]
    },
    {
     "name": "stdout",
     "output_type": "stream",
     "text": [
      "Early stopping at epoch 21\n"
     ]
    },
    {
     "name": "stderr",
     "output_type": "stream",
     "text": [
      "[I 2025-04-01 19:04:50,981] Trial 34 pruned. \n",
      "[I 2025-04-01 19:04:56,834] Trial 35 pruned. \n",
      "[I 2025-04-01 19:05:06,240] Trial 36 pruned. \n",
      "[I 2025-04-01 19:05:09,250] Trial 37 pruned. \n",
      "[I 2025-04-01 19:05:10,739] Trial 38 pruned. \n",
      "[I 2025-04-01 19:05:20,485] Trial 39 pruned. \n",
      "[I 2025-04-01 19:05:24,359] Trial 40 pruned. \n",
      "[I 2025-04-01 19:07:38,665] Trial 41 finished with value: 0.02391581031734711 and parameters: {'lr': 0.0003011919330062834, 'weight_decay': 1.051991214075546e-06, 'scheduler_factor': 0.3985942480779108, 'scheduler_patience': 13, 'batch_size': 16, 'dropout': 0.13977338053249536, 'hidden_dims': [256]}. Best is trial 5 with value: 0.023913027440900344.\n"
     ]
    },
    {
     "name": "stdout",
     "output_type": "stream",
     "text": [
      "Early stopping at epoch 27\n"
     ]
    },
    {
     "name": "stderr",
     "output_type": "stream",
     "text": [
      "[I 2025-04-01 19:07:48,141] Trial 42 pruned. \n",
      "[I 2025-04-01 19:07:57,729] Trial 43 pruned. \n",
      "[I 2025-04-01 19:08:02,944] Trial 44 pruned. \n",
      "[I 2025-04-01 19:08:06,104] Trial 45 pruned. \n",
      "[I 2025-04-01 19:08:07,258] Trial 46 pruned. \n",
      "[I 2025-04-01 19:08:23,924] Trial 47 pruned. \n",
      "[I 2025-04-01 19:08:28,678] Trial 48 pruned. \n",
      "[I 2025-04-01 19:08:30,111] Trial 49 pruned. \n"
     ]
    }
   ],
   "source": [
    "with open(\"./data/sciplex/prnet_drug_splits.pkl\", \"rb\") as f:\n",
    "    drug_splits = pkl.load(f)\n",
    "\n",
    "ad_path = \"./data/sciplex/sciplex_final.h5ad\"\n",
    "adata = ad.read_h5ad(ad_path)\n",
    "\n",
    "mlp_params_drugsplit = cross_validation_models(drug_splits, l2_loss, adata, \"X_2000_hvg\", 2000, \"X_2000_hvg\", 2000, \"sm_coati_emb\", 256)"
   ]
  },
  {
   "cell_type": "code",
   "execution_count": 18,
   "id": "d889400d-ca33-4048-99b9-9e03ae4272db",
   "metadata": {},
   "outputs": [
    {
     "name": "stdout",
     "output_type": "stream",
     "text": [
      "{0: {'best_params': {'lr': 0.0008596644539487043, 'weight_decay': 6.953857338614077e-06, 'scheduler_factor': 0.10468758349886369, 'scheduler_patience': 8, 'batch_size': 128, 'dropout': 0.12003473622754349, 'hidden_dims': [64]}}, 1: {'best_params': {'lr': 0.0004543426062151711, 'weight_decay': 9.240565393725398e-06, 'scheduler_factor': 0.1086972953285817, 'scheduler_patience': 6, 'batch_size': 32, 'dropout': 0.07473484554256053, 'hidden_dims': [128]}}, 2: {'best_params': {'lr': 3.301745485905233e-05, 'weight_decay': 4.338830329161768e-06, 'scheduler_factor': 0.28105924419350814, 'scheduler_patience': 13, 'batch_size': 16, 'dropout': 0.07653937722833731, 'hidden_dims': [1024]}}, 3: {'best_params': {'lr': 0.00054584005358527, 'weight_decay': 3.968393385665429e-06, 'scheduler_factor': 0.1581167403793244, 'scheduler_patience': 5, 'batch_size': 32, 'dropout': 0.27022795713463577, 'hidden_dims': [256]}}, 4: {'best_params': {'lr': 7.179753439362002e-05, 'weight_decay': 1.6647715168053354e-05, 'scheduler_factor': 0.14725188766838967, 'scheduler_patience': 16, 'batch_size': 16, 'dropout': 0.22195058154172093, 'hidden_dims': [256]}}}\n"
     ]
    }
   ],
   "source": [
    "print(mlp_params_drugsplit)"
   ]
  },
  {
   "cell_type": "code",
   "execution_count": null,
   "id": "6407b59d-9c4d-48e8-91b7-c1eed48ba7bf",
   "metadata": {},
   "outputs": [],
   "source": [
    "best_params_2000HVG = {\n",
    "    \"lr\": 0.0001,\n",
    "    \"weight_decay\": \n",
    "}"
   ]
  },
  {
   "cell_type": "code",
   "execution_count": 10,
   "id": "3f995f01-1504-4eee-8d3f-043b336e1b3e",
   "metadata": {},
   "outputs": [],
   "source": [
    "adata_control = ad.read_h5ad(\"../data/sciplex/sciplex_final.h5ad\")\n",
    "gene_names = adata_control.uns['gene_names_2000']\n",
    "adata_control = adata_control[adata_control.obs['product_name'] == \"Vehicle\"]"
   ]
  },
  {
   "cell_type": "code",
   "execution_count": 11,
   "id": "915d24fb-2e21-4a14-a4d2-19299b047335",
   "metadata": {},
   "outputs": [
    {
     "name": "stderr",
     "output_type": "stream",
     "text": [
      "/home/victor/.local/lib/python3.12/site-packages/anndata/_core/anndata.py:1756: UserWarning: Observation names are not unique. To make them unique, call `.obs_names_make_unique`.\n",
      "  utils.warn_names_duplicates(\"obs\")\n"
     ]
    }
   ],
   "source": [
    "performance = get_model_stats(results, adata_control, \"X_5000_hvg\", gene_names, \"test\")"
   ]
  },
  {
   "cell_type": "code",
   "execution_count": 12,
   "id": "09a51685-8985-498a-b14d-7f29a7ee4c57",
   "metadata": {},
   "outputs": [
    {
     "data": {
      "text/plain": [
       "{'key': 'test',\n",
       " 'mse_A549': np.float32(0.0027460095),\n",
       " 'std_mse_A549': np.float32(0.0006309031),\n",
       " 'mse_K562': np.float32(0.0026446814),\n",
       " 'std_mse_K562': np.float32(0.0008933902),\n",
       " 'mse_MCF7': np.float32(0.001277654),\n",
       " 'std_mse_MCF7': np.float32(0.00012553648),\n",
       " 'r2_A549': np.float64(0.8523319363594055),\n",
       " 'std_r2_A549': np.float64(0.015389074220604145),\n",
       " 'r2_K562': np.float64(0.7614692714479234),\n",
       " 'std_r2_K562': np.float64(0.06679660095799952),\n",
       " 'r2_MCF7': np.float64(0.7426602376831902),\n",
       " 'std_r2_MCF7': np.float64(0.015389074220604145),\n",
       " 'rank_logfc_A549': np.float64(0.49444444444444435),\n",
       " 'std_rank_logfc_A549': np.float64(0.29888829881336687),\n",
       " 'rank_logfc_K562': np.float64(0.5015873015873017),\n",
       " 'std_rank_logfc_K562': np.float64(0.2899248823225953),\n",
       " 'rank_logfc_MCF7': np.float64(0.4999999999999999),\n",
       " 'std_rank_logfc_MCF7': np.float64(0.2938137685886162)}"
      ]
     },
     "execution_count": 12,
     "metadata": {},
     "output_type": "execute_result"
    }
   ],
   "source": [
    "performance"
   ]
  },
  {
   "cell_type": "code",
   "execution_count": null,
   "id": "c4e64473-0c2e-4cd1-be0d-7dfd09ec5863",
   "metadata": {},
   "outputs": [],
   "source": []
  }
 ],
 "metadata": {
  "kernelspec": {
   "display_name": "Python 3 (ipykernel)",
   "language": "python",
   "name": "python3"
  },
  "language_info": {
   "codemirror_mode": {
    "name": "ipython",
    "version": 3
   },
   "file_extension": ".py",
   "mimetype": "text/x-python",
   "name": "python",
   "nbconvert_exporter": "python",
   "pygments_lexer": "ipython3",
   "version": "3.12.7"
  }
 },
 "nbformat": 4,
 "nbformat_minor": 5
}
