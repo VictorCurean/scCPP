{
 "cells": [
  {
   "cell_type": "code",
   "execution_count": 1,
   "id": "79f39f39-4850-4da7-9e8a-6e84f7371e10",
   "metadata": {},
   "outputs": [],
   "source": [
    "import anndata as ad\n",
    "import pickle as pkl\n",
    "\n",
    "from src.evaluator.MLP_evaluator import get_models_results\n",
    "from src.evaluator.evaluator_utils import l2_loss"
   ]
  },
  {
   "cell_type": "code",
   "execution_count": 2,
   "id": "11b33475-ecd3-4ff1-881d-1b57901a5a8d",
   "metadata": {},
   "outputs": [],
   "source": [
    "def train_different_fs(adata_path=None, run_name=None, res_savename=None, add_relu=True):\n",
    "    DRUG_ENCODING_NAME = \"fmfp\"\n",
    "    DRUG_ENCODING_SIZE = 1024\n",
    "    N_TRIALS = 50\n",
    "    SCHEDULER_MODE = 'min'\n",
    "\n",
    "    with open(\"./data/drug_splits/train_drugs_rand.pkl\", 'rb') as f:\n",
    "        drugs_train_rand = pkl.load(f)\n",
    "\n",
    "    with open(\"./data/drug_splits/val_drugs_rand.pkl\", 'rb') as f:\n",
    "        drugs_val_rand = pkl.load(f)\n",
    "\n",
    "    with open(\"./data/drug_splits/test_drugs_rand.pkl\", 'rb') as f:\n",
    "        drugs_test_rand = pkl.load(f)\n",
    "\n",
    "    drug_splits = dict()\n",
    "    drug_splits['train'] = drugs_train_rand\n",
    "    drug_splits['valid'] = drugs_val_rand\n",
    "    drug_splits['test'] = drugs_test_rand\n",
    "\n",
    "    adata = ad.read_h5ad(adata_path)\n",
    "\n",
    "    get_models_results(drug_splits=drug_splits,\n",
    "                          loss_function=l2_loss,\n",
    "                          adata=adata,\n",
    "                          input_dim=2000,\n",
    "                          output_dim=2000,\n",
    "                          drug_rep_name=DRUG_ENCODING_NAME,\n",
    "                          drug_emb_size=DRUG_ENCODING_SIZE,\n",
    "                          n_trials=N_TRIALS,\n",
    "                          scheduler_mode=SCHEDULER_MODE,\n",
    "                          run_name=run_name,\n",
    "                          save_path=res_savename,\n",
    "                          add_relu=add_relu\n",
    "                      )\n"
   ]
  },
  {
   "cell_type": "code",
   "execution_count": 3,
   "id": "2ffe247d-7dc5-4451-be72-9e8abde611f2",
   "metadata": {},
   "outputs": [
    {
     "name": "stdout",
     "output_type": "stream",
     "text": [
      "Loading Datasets ...\n"
     ]
    },
    {
     "name": "stderr",
     "output_type": "stream",
     "text": [
      "100%|███████████████████████████████████████████████████████████████████████████████████████████████████████████████████████████████████████████████████| 557340/557340 [04:11<00:00, 2219.46it/s]\n",
      "100%|███████████████████████████████████████████████████████████████████████████████████████████████████████████████████████████████████████████████████| 557340/557340 [01:43<00:00, 5365.88it/s]\n",
      "[I 2025-09-29 14:38:48,376] A new study created in RDB with name: mlp_random_fs\n"
     ]
    },
    {
     "name": "stdout",
     "output_type": "stream",
     "text": [
      "Optimizing Hyperparameters with Optuna ...\n",
      "Epoch:\t 0 Val Loss:\t 0.019219904418007333\n",
      "Epoch:\t 1 Val Loss:\t 0.019212168936876953\n",
      "Epoch:\t 2 Val Loss:\t 0.019229206699328344\n",
      "Epoch:\t 3 Val Loss:\t 0.019219711521146182\n",
      "Epoch:\t 4 Val Loss:\t 0.019212553321117588\n",
      "Epoch:\t 5 Val Loss:\t 0.019214495162058167\n",
      "Epoch:\t 6 Val Loss:\t 0.019209681433999374\n",
      "Epoch:\t 7 Val Loss:\t 0.019212742230977745\n",
      "Epoch:\t 8 Val Loss:\t 0.01920658513880919\n",
      "Epoch:\t 9 Val Loss:\t 0.01921098525452822\n",
      "Epoch:\t 10 Val Loss:\t 0.01922774524086794\n",
      "Epoch:\t 11 Val Loss:\t 0.019217840234815087\n",
      "Epoch:\t 12 Val Loss:\t 0.019215047998137932\n",
      "Epoch:\t 13 Val Loss:\t 0.019215148845794245\n",
      "Epoch:\t 14 Val Loss:\t 0.019214841327349626\n",
      "Epoch:\t 15 Val Loss:\t 0.01920285600851089\n",
      "Epoch:\t 16 Val Loss:\t 0.019197766145132727\n",
      "Epoch:\t 17 Val Loss:\t 0.019193859056965648\n",
      "Epoch:\t 18 Val Loss:\t 0.019198194852248256\n",
      "Epoch:\t 19 Val Loss:\t 0.01920021260901691\n",
      "Epoch:\t 20 Val Loss:\t 0.019195198118184063\n",
      "Epoch:\t 21 Val Loss:\t 0.019204550317206092\n",
      "Epoch:\t 22 Val Loss:\t 0.019200843378407516\n",
      "Epoch:\t 23 Val Loss:\t 0.01919912554885196\n",
      "Epoch:\t 24 Val Loss:\t 0.019186098716832047\n",
      "Epoch:\t 25 Val Loss:\t 0.019192667452362578\n",
      "Epoch:\t 26 Val Loss:\t 0.01918351992975013\n",
      "Epoch:\t 27 Val Loss:\t 0.019199629245877446\n",
      "Epoch:\t 28 Val Loss:\t 0.019185352202677277\n",
      "Epoch:\t 29 Val Loss:\t 0.01918180791903533\n",
      "Epoch:\t 30 Val Loss:\t 0.019188770113425593\n",
      "Epoch:\t 31 Val Loss:\t 0.01918927633797921\n",
      "Epoch:\t 32 Val Loss:\t 0.019195501784198595\n",
      "Epoch:\t 33 Val Loss:\t 0.019176934990990272\n",
      "Epoch:\t 34 Val Loss:\t 0.01917681572090061\n",
      "Epoch:\t 35 Val Loss:\t 0.01917458577485544\n",
      "Epoch:\t 36 Val Loss:\t 0.019179573461892217\n",
      "Epoch:\t 37 Val Loss:\t 0.0191788968285466\n",
      "Epoch:\t 38 Val Loss:\t 0.019189588786502086\n",
      "Epoch:\t 39 Val Loss:\t 0.01918486105749673\n",
      "Epoch:\t 40 Val Loss:\t 0.01918046881809418\n",
      "Epoch:\t 41 Val Loss:\t 0.019181562588429495\n",
      "Epoch:\t 42 Val Loss:\t 0.01917651516987838\n",
      "Epoch:\t 43 Val Loss:\t 0.0191871306898004\n",
      "Epoch:\t 44 Val Loss:\t 0.019184595274679653\n"
     ]
    },
    {
     "name": "stderr",
     "output_type": "stream",
     "text": [
      "[I 2025-09-29 14:54:27,868] Trial 0 finished with value: 0.01917458577485544 and parameters: {'lr': 0.0001, 'weight_decay': 0.0001, 'scheduler_factor': 0.5, 'scheduler_patience': 5, 'batch_size': 16, 'dropout': 0.1, 'hidden_dims': 64}. Best is trial 0 with value: 0.01917458577485544.\n"
     ]
    },
    {
     "name": "stdout",
     "output_type": "stream",
     "text": [
      "Epoch:\t 45 Val Loss:\t 0.019175850074096754\n",
      "Epoch:\t 0 Val Loss:\t 0.08454634673720182\n",
      "Epoch:\t 1 Val Loss:\t 0.06806352256342423\n",
      "Epoch:\t 2 Val Loss:\t 0.05702331169226835\n",
      "Epoch:\t 3 Val Loss:\t 0.048582352160714395\n",
      "Epoch:\t 4 Val Loss:\t 0.04228770282379417\n",
      "Epoch:\t 5 Val Loss:\t 0.03779761240232823\n",
      "Epoch:\t 6 Val Loss:\t 0.03432130887238092\n",
      "Epoch:\t 7 Val Loss:\t 0.031719768887688946\n",
      "Epoch:\t 8 Val Loss:\t 0.02988394761328087\n",
      "Epoch:\t 9 Val Loss:\t 0.028658961023875447\n",
      "Epoch:\t 10 Val Loss:\t 0.02790276067288116\n",
      "Epoch:\t 11 Val Loss:\t 0.027185712178605933\n",
      "Epoch:\t 12 Val Loss:\t 0.02673959848146106\n",
      "Epoch:\t 13 Val Loss:\t 0.026362484013445157\n",
      "Epoch:\t 14 Val Loss:\t 0.02615658849217864\n",
      "Epoch:\t 15 Val Loss:\t 0.025745209774305656\n",
      "Epoch:\t 16 Val Loss:\t 0.025713854023190433\n",
      "Epoch:\t 17 Val Loss:\t 0.025608872076453165\n",
      "Epoch:\t 18 Val Loss:\t 0.025539454969382563\n",
      "Epoch:\t 19 Val Loss:\t 0.02537391018555608\n",
      "Epoch:\t 20 Val Loss:\t 0.025167392046992167\n",
      "Epoch:\t 21 Val Loss:\t 0.025132178931042207\n",
      "Epoch:\t 22 Val Loss:\t 0.02501656961475694\n",
      "Epoch:\t 23 Val Loss:\t 0.024814423169334267\n",
      "Epoch:\t 24 Val Loss:\t 0.024699436639283978\n",
      "Epoch:\t 25 Val Loss:\t 0.024566602087471374\n",
      "Epoch:\t 26 Val Loss:\t 0.02431895081820183\n",
      "Epoch:\t 27 Val Loss:\t 0.024175301783306655\n",
      "Epoch:\t 28 Val Loss:\t 0.02411335710609375\n",
      "Epoch:\t 29 Val Loss:\t 0.02378225648819014\n",
      "Epoch:\t 30 Val Loss:\t 0.023613698325704698\n",
      "Epoch:\t 31 Val Loss:\t 0.023394822948720567\n",
      "Epoch:\t 32 Val Loss:\t 0.023166570522237657\n",
      "Epoch:\t 33 Val Loss:\t 0.02298771052426377\n",
      "Epoch:\t 34 Val Loss:\t 0.022837579783138842\n",
      "Epoch:\t 35 Val Loss:\t 0.022612892810341925\n",
      "Epoch:\t 36 Val Loss:\t 0.02230179108852564\n",
      "Epoch:\t 37 Val Loss:\t 0.02212684091700371\n",
      "Epoch:\t 38 Val Loss:\t 0.022010292628303518\n",
      "Epoch:\t 39 Val Loss:\t 0.021742424979632677\n",
      "Epoch:\t 40 Val Loss:\t 0.021645687550826128\n",
      "Epoch:\t 41 Val Loss:\t 0.02146727210127337\n",
      "Epoch:\t 42 Val Loss:\t 0.02133695306473\n",
      "Epoch:\t 43 Val Loss:\t 0.02118306200691434\n",
      "Epoch:\t 44 Val Loss:\t 0.02103421362766693\n",
      "Epoch:\t 45 Val Loss:\t 0.02094723645944235\n",
      "Epoch:\t 46 Val Loss:\t 0.02078066342185403\n",
      "Epoch:\t 47 Val Loss:\t 0.020740677823507508\n",
      "Epoch:\t 48 Val Loss:\t 0.020647960377120696\n",
      "Epoch:\t 49 Val Loss:\t 0.020565663126492224\n",
      "Epoch:\t 50 Val Loss:\t 0.020469787153740263\n",
      "Epoch:\t 51 Val Loss:\t 0.020398226427997268\n",
      "Epoch:\t 52 Val Loss:\t 0.02033140083211799\n",
      "Epoch:\t 53 Val Loss:\t 0.020312592036329038\n",
      "Epoch:\t 54 Val Loss:\t 0.020277273914841718\n",
      "Epoch:\t 55 Val Loss:\t 0.020225980431707792\n",
      "Epoch:\t 56 Val Loss:\t 0.020205299655885196\n",
      "Epoch:\t 57 Val Loss:\t 0.02022298389482637\n",
      "Epoch:\t 58 Val Loss:\t 0.02021813348888658\n",
      "Epoch:\t 59 Val Loss:\t 0.020215294869659946\n",
      "Epoch:\t 60 Val Loss:\t 0.020242735565921596\n",
      "Epoch:\t 61 Val Loss:\t 0.020268414204203805\n",
      "Epoch:\t 62 Val Loss:\t 0.020285791098031886\n",
      "Epoch:\t 63 Val Loss:\t 0.020336496847313503\n",
      "Epoch:\t 64 Val Loss:\t 0.020344609498631122\n",
      "Epoch:\t 65 Val Loss:\t 0.020389677090353744\n"
     ]
    },
    {
     "name": "stderr",
     "output_type": "stream",
     "text": [
      "[I 2025-09-29 14:58:21,166] Trial 1 finished with value: 0.020205299655885196 and parameters: {'lr': 1e-06, 'weight_decay': 0.001, 'scheduler_factor': 0.5, 'scheduler_patience': 10, 'batch_size': 256, 'dropout': 0.1, 'hidden_dims': 128}. Best is trial 0 with value: 0.01917458577485544.\n"
     ]
    },
    {
     "name": "stdout",
     "output_type": "stream",
     "text": [
      "Epoch:\t 66 Val Loss:\t 0.02042295477504647\n",
      "Epoch:\t 0 Val Loss:\t 0.022746380145073665\n",
      "Epoch:\t 1 Val Loss:\t 0.02236104386212945\n",
      "Epoch:\t 2 Val Loss:\t 0.022025535432774513\n",
      "Epoch:\t 3 Val Loss:\t 0.021837881557377516\n",
      "Epoch:\t 4 Val Loss:\t 0.021675502516607076\n",
      "Epoch:\t 5 Val Loss:\t 0.02153496765033714\n",
      "Epoch:\t 6 Val Loss:\t 0.021321806900746917\n",
      "Epoch:\t 7 Val Loss:\t 0.021335004549730235\n",
      "Epoch:\t 8 Val Loss:\t 0.021155011622094932\n",
      "Epoch:\t 9 Val Loss:\t 0.020984095575450883\n",
      "Epoch:\t 10 Val Loss:\t 0.020978499346462846\n",
      "Epoch:\t 11 Val Loss:\t 0.02079004191965228\n",
      "Epoch:\t 12 Val Loss:\t 0.020748766814976668\n",
      "Epoch:\t 13 Val Loss:\t 0.020713097381005737\n",
      "Epoch:\t 14 Val Loss:\t 0.02063019807890531\n",
      "Epoch:\t 15 Val Loss:\t 0.0205471536696409\n",
      "Epoch:\t 16 Val Loss:\t 0.020560188463367667\n",
      "Epoch:\t 17 Val Loss:\t 0.02045206379185377\n",
      "Epoch:\t 18 Val Loss:\t 0.02042933871766103\n",
      "Epoch:\t 19 Val Loss:\t 0.020323985400148268\n",
      "Epoch:\t 20 Val Loss:\t 0.020321766203562554\n",
      "Epoch:\t 21 Val Loss:\t 0.02022016231777506\n",
      "Epoch:\t 22 Val Loss:\t 0.020207494715504034\n",
      "Epoch:\t 23 Val Loss:\t 0.020170025961184716\n",
      "Epoch:\t 24 Val Loss:\t 0.02018208074644608\n",
      "Epoch:\t 25 Val Loss:\t 0.0201340789639025\n",
      "Epoch:\t 26 Val Loss:\t 0.020111405758418757\n",
      "Epoch:\t 27 Val Loss:\t 0.020083678560540885\n",
      "Epoch:\t 28 Val Loss:\t 0.020002766751211223\n",
      "Epoch:\t 29 Val Loss:\t 0.019972449956532315\n",
      "Epoch:\t 30 Val Loss:\t 0.019937816855708296\n",
      "Epoch:\t 31 Val Loss:\t 0.019943136288682436\n",
      "Epoch:\t 32 Val Loss:\t 0.0199225818986676\n",
      "Epoch:\t 33 Val Loss:\t 0.01987633508400813\n",
      "Epoch:\t 34 Val Loss:\t 0.019853756105183827\n",
      "Epoch:\t 35 Val Loss:\t 0.019839444268242457\n",
      "Epoch:\t 36 Val Loss:\t 0.019781085127637918\n",
      "Epoch:\t 37 Val Loss:\t 0.019732755175959894\n",
      "Epoch:\t 38 Val Loss:\t 0.01974038395911226\n",
      "Epoch:\t 39 Val Loss:\t 0.01970339324538799\n",
      "Epoch:\t 40 Val Loss:\t 0.019677315180507554\n",
      "Epoch:\t 41 Val Loss:\t 0.01967884636318305\n",
      "Epoch:\t 42 Val Loss:\t 0.019676707515293882\n",
      "Epoch:\t 43 Val Loss:\t 0.019639759838184397\n",
      "Epoch:\t 44 Val Loss:\t 0.019640809468045153\n",
      "Epoch:\t 45 Val Loss:\t 0.0196224644666125\n",
      "Epoch:\t 46 Val Loss:\t 0.019578739946274917\n",
      "Epoch:\t 47 Val Loss:\t 0.019576107903295715\n",
      "Epoch:\t 48 Val Loss:\t 0.01954101050945709\n",
      "Epoch:\t 49 Val Loss:\t 0.01955010674528515\n",
      "Epoch:\t 50 Val Loss:\t 0.01951883175005942\n",
      "Epoch:\t 51 Val Loss:\t 0.01951212530457652\n",
      "Epoch:\t 52 Val Loss:\t 0.01950699768189801\n",
      "Epoch:\t 53 Val Loss:\t 0.0194699541435519\n",
      "Epoch:\t 54 Val Loss:\t 0.019467217069328368\n",
      "Epoch:\t 55 Val Loss:\t 0.01946596627230527\n",
      "Epoch:\t 56 Val Loss:\t 0.019464439680848752\n",
      "Epoch:\t 57 Val Loss:\t 0.019439046083205447\n",
      "Epoch:\t 58 Val Loss:\t 0.019424742304845772\n",
      "Epoch:\t 59 Val Loss:\t 0.01941727884489398\n",
      "Epoch:\t 60 Val Loss:\t 0.019415692524625352\n",
      "Epoch:\t 61 Val Loss:\t 0.019419388165817706\n",
      "Epoch:\t 62 Val Loss:\t 0.019419777130873745\n",
      "Epoch:\t 63 Val Loss:\t 0.019408291089027606\n",
      "Epoch:\t 64 Val Loss:\t 0.019385246289484598\n",
      "Epoch:\t 65 Val Loss:\t 0.019376402175769775\n",
      "Epoch:\t 66 Val Loss:\t 0.019387218220940083\n",
      "Epoch:\t 67 Val Loss:\t 0.01937886013979211\n",
      "Epoch:\t 68 Val Loss:\t 0.019368038953769828\n",
      "Epoch:\t 69 Val Loss:\t 0.01936690751830678\n",
      "Epoch:\t 70 Val Loss:\t 0.019363950054222995\n",
      "Epoch:\t 71 Val Loss:\t 0.019368049309649905\n",
      "Epoch:\t 72 Val Loss:\t 0.019371505103325456\n",
      "Epoch:\t 73 Val Loss:\t 0.019365852176748573\n",
      "Epoch:\t 74 Val Loss:\t 0.019368792075275226\n",
      "Epoch:\t 75 Val Loss:\t 0.019367288129427698\n",
      "Epoch:\t 76 Val Loss:\t 0.019363809892675075\n",
      "Epoch:\t 77 Val Loss:\t 0.019373596933543742\n",
      "Epoch:\t 78 Val Loss:\t 0.01939355457736911\n",
      "Epoch:\t 79 Val Loss:\t 0.01937875530729658\n",
      "Epoch:\t 80 Val Loss:\t 0.019387113020536334\n",
      "Epoch:\t 81 Val Loss:\t 0.019385588705030602\n",
      "Epoch:\t 82 Val Loss:\t 0.019404429328018127\n",
      "Epoch:\t 83 Val Loss:\t 0.019416201965775017\n",
      "Epoch:\t 84 Val Loss:\t 0.01942666823007399\n",
      "Epoch:\t 85 Val Loss:\t 0.01943484597255599\n"
     ]
    },
    {
     "name": "stderr",
     "output_type": "stream",
     "text": [
      "[I 2025-09-29 15:33:08,199] Trial 2 finished with value: 0.019363809892675075 and parameters: {'lr': 1e-06, 'weight_decay': 1e-05, 'scheduler_factor': 0.8, 'scheduler_patience': 20, 'batch_size': 16, 'dropout': 0.05, 'hidden_dims': 512}. Best is trial 0 with value: 0.01917458577485544.\n"
     ]
    },
    {
     "name": "stdout",
     "output_type": "stream",
     "text": [
      "Epoch:\t 86 Val Loss:\t 0.019453105345950985\n",
      "Epoch:\t 0 Val Loss:\t 0.03789150304225988\n",
      "Epoch:\t 1 Val Loss:\t 0.02893428769135891\n",
      "Epoch:\t 2 Val Loss:\t 0.02617024941759747\n",
      "Epoch:\t 3 Val Loss:\t 0.02487960053651139\n",
      "Epoch:\t 4 Val Loss:\t 0.023949771296492842\n",
      "Epoch:\t 5 Val Loss:\t 0.023299366725218852\n",
      "Epoch:\t 6 Val Loss:\t 0.022772851720625577\n",
      "Epoch:\t 7 Val Loss:\t 0.02235268401198609\n",
      "Epoch:\t 8 Val Loss:\t 0.0220199708242056\n",
      "Epoch:\t 9 Val Loss:\t 0.02168912805270317\n",
      "Epoch:\t 10 Val Loss:\t 0.021410120976005875\n",
      "Epoch:\t 11 Val Loss:\t 0.02115299384607825\n",
      "Epoch:\t 12 Val Loss:\t 0.02094473094181266\n",
      "Epoch:\t 13 Val Loss:\t 0.020744176568506762\n",
      "Epoch:\t 14 Val Loss:\t 0.02055074405358281\n",
      "Epoch:\t 15 Val Loss:\t 0.02041694957676322\n",
      "Epoch:\t 16 Val Loss:\t 0.0202562716378029\n",
      "Epoch:\t 17 Val Loss:\t 0.02011764223665692\n",
      "Epoch:\t 18 Val Loss:\t 0.019993667941280574\n",
      "Epoch:\t 19 Val Loss:\t 0.019877603333876576\n",
      "Epoch:\t 20 Val Loss:\t 0.01978070457834144\n",
      "Epoch:\t 21 Val Loss:\t 0.019705216305027175\n",
      "Epoch:\t 22 Val Loss:\t 0.01963373791253151\n",
      "Epoch:\t 23 Val Loss:\t 0.019564506251278313\n",
      "Epoch:\t 24 Val Loss:\t 0.019523995339350644\n",
      "Epoch:\t 25 Val Loss:\t 0.019481052012117795\n",
      "Epoch:\t 26 Val Loss:\t 0.019452065368031346\n",
      "Epoch:\t 27 Val Loss:\t 0.01943257215411164\n",
      "Epoch:\t 28 Val Loss:\t 0.01942207545561846\n",
      "Epoch:\t 29 Val Loss:\t 0.019408116519970948\n",
      "Epoch:\t 30 Val Loss:\t 0.01940086413348137\n",
      "Epoch:\t 31 Val Loss:\t 0.01940636573316053\n",
      "Epoch:\t 32 Val Loss:\t 0.01940396579285694\n",
      "Epoch:\t 33 Val Loss:\t 0.019404455833137036\n",
      "Epoch:\t 34 Val Loss:\t 0.019404663132546945\n",
      "Epoch:\t 35 Val Loss:\t 0.019410777234927165\n",
      "Epoch:\t 36 Val Loss:\t 0.019415202052440753\n",
      "Epoch:\t 37 Val Loss:\t 0.019413640033886875\n",
      "Epoch:\t 38 Val Loss:\t 0.019414829384795454\n",
      "Epoch:\t 39 Val Loss:\t 0.01941763068614311\n"
     ]
    },
    {
     "name": "stderr",
     "output_type": "stream",
     "text": [
      "[I 2025-09-29 15:35:24,577] Trial 3 finished with value: 0.01940086413348137 and parameters: {'lr': 1e-06, 'weight_decay': 0.001, 'scheduler_factor': 0.5, 'scheduler_patience': 1, 'batch_size': 256, 'dropout': 0.15, 'hidden_dims': 1024}. Best is trial 0 with value: 0.01917458577485544.\n"
     ]
    },
    {
     "name": "stdout",
     "output_type": "stream",
     "text": [
      "Epoch:\t 40 Val Loss:\t 0.01942057470509479\n",
      "Epoch:\t 0 Val Loss:\t 0.07538654066786672\n",
      "Epoch:\t 1 Val Loss:\t 0.056396470598781286\n",
      "Epoch:\t 2 Val Loss:\t 0.04445560308093255\n",
      "Epoch:\t 3 Val Loss:\t 0.0371865242607156\n",
      "Epoch:\t 4 Val Loss:\t 0.03206051115063425\n",
      "Epoch:\t 5 Val Loss:\t 0.02917431557765198\n",
      "Epoch:\t 6 Val Loss:\t 0.027242503043493467\n",
      "Epoch:\t 7 Val Loss:\t 0.025779319764845047\n",
      "Epoch:\t 8 Val Loss:\t 0.025044623033319894\n",
      "Epoch:\t 9 Val Loss:\t 0.02446909176572967\n",
      "Epoch:\t 10 Val Loss:\t 0.02398171002190218\n",
      "Epoch:\t 11 Val Loss:\t 0.02352793479249591\n",
      "Epoch:\t 12 Val Loss:\t 0.02322322183638015\n",
      "Epoch:\t 13 Val Loss:\t 0.022861268120394906\n",
      "Epoch:\t 14 Val Loss:\t 0.022726311916258277\n",
      "Epoch:\t 15 Val Loss:\t 0.02253743081973405\n",
      "Epoch:\t 16 Val Loss:\t 0.022398762740238064\n",
      "Epoch:\t 17 Val Loss:\t 0.02226281696530308\n",
      "Epoch:\t 18 Val Loss:\t 0.02212691693875017\n",
      "Epoch:\t 19 Val Loss:\t 0.022045441501872327\n",
      "Epoch:\t 20 Val Loss:\t 0.02192121089958563\n",
      "Epoch:\t 21 Val Loss:\t 0.021865137605024686\n",
      "Epoch:\t 22 Val Loss:\t 0.021772786641750877\n",
      "Epoch:\t 23 Val Loss:\t 0.021748470973210466\n",
      "Epoch:\t 24 Val Loss:\t 0.021644450181123827\n",
      "Epoch:\t 25 Val Loss:\t 0.021655502604725194\n",
      "Epoch:\t 26 Val Loss:\t 0.02158287411575118\n",
      "Epoch:\t 27 Val Loss:\t 0.021587737657467247\n",
      "Epoch:\t 28 Val Loss:\t 0.021497810287584965\n",
      "Epoch:\t 29 Val Loss:\t 0.02141671641389044\n",
      "Epoch:\t 30 Val Loss:\t 0.02145016029191557\n",
      "Epoch:\t 31 Val Loss:\t 0.02140766407312278\n",
      "Epoch:\t 32 Val Loss:\t 0.021374550322449306\n",
      "Epoch:\t 33 Val Loss:\t 0.021412253812491962\n",
      "Epoch:\t 34 Val Loss:\t 0.021284194204536602\n",
      "Epoch:\t 35 Val Loss:\t 0.021284664956188644\n",
      "Epoch:\t 36 Val Loss:\t 0.021256761320376644\n",
      "Epoch:\t 37 Val Loss:\t 0.021259983097236607\n",
      "Epoch:\t 38 Val Loss:\t 0.0212782899915099\n",
      "Epoch:\t 39 Val Loss:\t 0.021181530874053774\n",
      "Epoch:\t 40 Val Loss:\t 0.0212054495612088\n",
      "Epoch:\t 41 Val Loss:\t 0.021163287497927088\n",
      "Epoch:\t 42 Val Loss:\t 0.021179385654169647\n",
      "Epoch:\t 43 Val Loss:\t 0.021113238296321182\n",
      "Epoch:\t 44 Val Loss:\t 0.021119442641838918\n",
      "Epoch:\t 45 Val Loss:\t 0.021071967074991517\n",
      "Epoch:\t 46 Val Loss:\t 0.021082099633124785\n",
      "Epoch:\t 47 Val Loss:\t 0.0210890977207515\n",
      "Epoch:\t 48 Val Loss:\t 0.02104630435489196\n",
      "Epoch:\t 49 Val Loss:\t 0.02104430172363086\n",
      "Epoch:\t 50 Val Loss:\t 0.021032804177595902\n",
      "Epoch:\t 51 Val Loss:\t 0.021044058504576052\n",
      "Epoch:\t 52 Val Loss:\t 0.020984120630203777\n",
      "Epoch:\t 53 Val Loss:\t 0.021022703779837535\n",
      "Epoch:\t 54 Val Loss:\t 0.020967369773679356\n",
      "Epoch:\t 55 Val Loss:\t 0.02097129948766043\n",
      "Epoch:\t 56 Val Loss:\t 0.02093654454974555\n",
      "Epoch:\t 57 Val Loss:\t 0.020909679231518374\n",
      "Epoch:\t 58 Val Loss:\t 0.02093237694287965\n",
      "Epoch:\t 59 Val Loss:\t 0.020918504597833346\n",
      "Epoch:\t 60 Val Loss:\t 0.020887695808876543\n",
      "Epoch:\t 61 Val Loss:\t 0.020918197983942934\n",
      "Epoch:\t 62 Val Loss:\t 0.020925628062463113\n",
      "Epoch:\t 63 Val Loss:\t 0.02087545438813485\n",
      "Epoch:\t 64 Val Loss:\t 0.02089632744711589\n",
      "Epoch:\t 65 Val Loss:\t 0.020863795549144727\n",
      "Epoch:\t 66 Val Loss:\t 0.020798734909531408\n",
      "Epoch:\t 67 Val Loss:\t 0.02086397659349386\n",
      "Epoch:\t 68 Val Loss:\t 0.0208352298522314\n",
      "Epoch:\t 69 Val Loss:\t 0.020796197004676834\n",
      "Epoch:\t 70 Val Loss:\t 0.020792018353904443\n",
      "Epoch:\t 71 Val Loss:\t 0.020787594467834174\n",
      "Epoch:\t 72 Val Loss:\t 0.02079568168366897\n",
      "Epoch:\t 73 Val Loss:\t 0.02078952750409591\n",
      "Epoch:\t 74 Val Loss:\t 0.020735079909347077\n",
      "Epoch:\t 75 Val Loss:\t 0.02077102807375335\n",
      "Epoch:\t 76 Val Loss:\t 0.020789870890625402\n",
      "Epoch:\t 77 Val Loss:\t 0.020735155974929063\n",
      "Epoch:\t 78 Val Loss:\t 0.020774628819938874\n",
      "Epoch:\t 79 Val Loss:\t 0.020746850727707943\n",
      "Epoch:\t 80 Val Loss:\t 0.02073448754275925\n",
      "Epoch:\t 81 Val Loss:\t 0.0207230381464259\n",
      "Epoch:\t 82 Val Loss:\t 0.02073201989272607\n",
      "Epoch:\t 83 Val Loss:\t 0.020710453947056322\n",
      "Epoch:\t 84 Val Loss:\t 0.020695956692134185\n",
      "Epoch:\t 85 Val Loss:\t 0.02071896787088161\n",
      "Epoch:\t 86 Val Loss:\t 0.020727031207648856\n",
      "Epoch:\t 87 Val Loss:\t 0.020696399380797984\n",
      "Epoch:\t 88 Val Loss:\t 0.02065779968152963\n",
      "Epoch:\t 89 Val Loss:\t 0.020703069638551737\n",
      "Epoch:\t 90 Val Loss:\t 0.02071327131574716\n",
      "Epoch:\t 91 Val Loss:\t 0.020710675662402908\n",
      "Epoch:\t 92 Val Loss:\t 0.0206527704163157\n",
      "Epoch:\t 93 Val Loss:\t 0.020740697127912933\n",
      "Epoch:\t 94 Val Loss:\t 0.02066824619596636\n",
      "Epoch:\t 95 Val Loss:\t 0.020661214093972997\n",
      "Epoch:\t 96 Val Loss:\t 0.020689176358758502\n",
      "Epoch:\t 97 Val Loss:\t 0.020627403052028325\n",
      "Epoch:\t 98 Val Loss:\t 0.02067965643348456\n"
     ]
    },
    {
     "name": "stderr",
     "output_type": "stream",
     "text": [
      "[I 2025-09-29 15:41:55,949] Trial 4 finished with value: 0.020627403052028325 and parameters: {'lr': 1e-06, 'weight_decay': 1e-06, 'scheduler_factor': 0.5, 'scheduler_patience': 5, 'batch_size': 128, 'dropout': 0.1, 'hidden_dims': 64}. Best is trial 0 with value: 0.01917458577485544.\n"
     ]
    },
    {
     "name": "stdout",
     "output_type": "stream",
     "text": [
      "Epoch:\t 99 Val Loss:\t 0.020648640499349672\n",
      "Epoch:\t 0 Val Loss:\t 0.0233470210762218\n",
      "Epoch:\t 1 Val Loss:\t 0.022283366274868332\n",
      "Epoch:\t 2 Val Loss:\t 0.02186421949936207\n",
      "Epoch:\t 3 Val Loss:\t 0.021607725378559078\n",
      "Epoch:\t 4 Val Loss:\t 0.02137609041014383\n",
      "Epoch:\t 5 Val Loss:\t 0.02119663618505001\n",
      "Epoch:\t 6 Val Loss:\t 0.021033654877439488\n",
      "Epoch:\t 7 Val Loss:\t 0.020899283994249132\n",
      "Epoch:\t 8 Val Loss:\t 0.020793647496679495\n",
      "Epoch:\t 9 Val Loss:\t 0.020681575009989184\n",
      "Epoch:\t 10 Val Loss:\t 0.02059993851756634\n",
      "Epoch:\t 11 Val Loss:\t 0.020523465290492357\n",
      "Epoch:\t 12 Val Loss:\t 0.020426179676554922\n",
      "Epoch:\t 13 Val Loss:\t 0.020353836198012495\n",
      "Epoch:\t 14 Val Loss:\t 0.02026486012564842\n",
      "Epoch:\t 15 Val Loss:\t 0.020223820313464765\n",
      "Epoch:\t 16 Val Loss:\t 0.020169642359711405\n",
      "Epoch:\t 17 Val Loss:\t 0.02012053519747285\n",
      "Epoch:\t 18 Val Loss:\t 0.020094377816069958\n",
      "Epoch:\t 19 Val Loss:\t 0.020043027379311795\n",
      "Epoch:\t 20 Val Loss:\t 0.020025074425651584\n",
      "Epoch:\t 21 Val Loss:\t 0.019993870965270107\n",
      "Epoch:\t 22 Val Loss:\t 0.019986378696075707\n",
      "Epoch:\t 23 Val Loss:\t 0.01997064087799815\n",
      "Epoch:\t 24 Val Loss:\t 0.019946146648117277\n",
      "Epoch:\t 25 Val Loss:\t 0.019974061716781105\n",
      "Epoch:\t 26 Val Loss:\t 0.01996420275766489\n",
      "Epoch:\t 27 Val Loss:\t 0.020003757071356442\n",
      "Epoch:\t 28 Val Loss:\t 0.020004414589425853\n",
      "Epoch:\t 29 Val Loss:\t 0.020056447798256265\n"
     ]
    },
    {
     "name": "stderr",
     "output_type": "stream",
     "text": [
      "[I 2025-09-29 15:43:39,312] Trial 5 pruned. \n"
     ]
    },
    {
     "name": "stdout",
     "output_type": "stream",
     "text": [
      "Epoch:\t 30 Val Loss:\t 0.02006355249431244\n",
      "Epoch:\t 0 Val Loss:\t 0.01956192610655413\n",
      "Epoch:\t 1 Val Loss:\t 0.019711207607111265\n",
      "Epoch:\t 2 Val Loss:\t 0.01967709035461032\n",
      "Epoch:\t 3 Val Loss:\t 0.019696333237685437\n",
      "Epoch:\t 4 Val Loss:\t 0.019545112992095392\n",
      "Epoch:\t 5 Val Loss:\t 0.01969464959706678\n",
      "Epoch:\t 6 Val Loss:\t 0.019655641562543635\n",
      "Epoch:\t 7 Val Loss:\t 0.019786902343810992\n",
      "Epoch:\t 8 Val Loss:\t 0.02006783690303564\n",
      "Epoch:\t 9 Val Loss:\t 0.02035383984099987\n",
      "Epoch:\t 10 Val Loss:\t 0.020604565925896167\n",
      "Epoch:\t 11 Val Loss:\t 0.02073654574017192\n",
      "Epoch:\t 12 Val Loss:\t 0.020754976873827536\n",
      "Epoch:\t 13 Val Loss:\t 0.020691720807794915\n"
     ]
    },
    {
     "name": "stderr",
     "output_type": "stream",
     "text": [
      "[I 2025-09-29 15:44:25,828] Trial 6 finished with value: 0.019545112992095392 and parameters: {'lr': 0.0001, 'weight_decay': 0.001, 'scheduler_factor': 0.3, 'scheduler_patience': 10, 'batch_size': 256, 'dropout': 0.1, 'hidden_dims': 1024}. Best is trial 0 with value: 0.01917458577485544.\n"
     ]
    },
    {
     "name": "stdout",
     "output_type": "stream",
     "text": [
      "Epoch:\t 14 Val Loss:\t 0.020648759971697662\n"
     ]
    },
    {
     "name": "stderr",
     "output_type": "stream",
     "text": [
      "[I 2025-09-29 15:44:31,035] Trial 7 pruned. \n"
     ]
    },
    {
     "name": "stdout",
     "output_type": "stream",
     "text": [
      "Epoch:\t 0 Val Loss:\t 0.059585098363134796\n",
      "Epoch:\t 0 Val Loss:\t 0.019526830878715182\n",
      "Epoch:\t 1 Val Loss:\t 0.019275299598311268\n",
      "Epoch:\t 2 Val Loss:\t 0.019261963565855526\n",
      "Epoch:\t 3 Val Loss:\t 0.01924180627562279\n",
      "Epoch:\t 4 Val Loss:\t 0.019192335719979088\n",
      "Epoch:\t 5 Val Loss:\t 0.019191675693836324\n",
      "Epoch:\t 6 Val Loss:\t 0.01918100682195536\n",
      "Epoch:\t 7 Val Loss:\t 0.019176385556022787\n",
      "Epoch:\t 8 Val Loss:\t 0.019170870055812736\n",
      "Epoch:\t 9 Val Loss:\t 0.019174072094434915\n",
      "Epoch:\t 10 Val Loss:\t 0.019173635577046592\n",
      "Epoch:\t 11 Val Loss:\t 0.019168849449691383\n",
      "Epoch:\t 12 Val Loss:\t 0.01916595408476369\n",
      "Epoch:\t 13 Val Loss:\t 0.0191675161726253\n",
      "Epoch:\t 14 Val Loss:\t 0.019166251731126807\n",
      "Epoch:\t 15 Val Loss:\t 0.0191689663111817\n",
      "Epoch:\t 16 Val Loss:\t 0.0191701433166515\n",
      "Epoch:\t 17 Val Loss:\t 0.019163052486472352\n",
      "Epoch:\t 18 Val Loss:\t 0.01916260982235504\n",
      "Epoch:\t 19 Val Loss:\t 0.01917178187259408\n",
      "Epoch:\t 20 Val Loss:\t 0.019175344060153462\n",
      "Epoch:\t 21 Val Loss:\t 0.019162047086933323\n",
      "Epoch:\t 22 Val Loss:\t 0.0191698242671961\n",
      "Epoch:\t 23 Val Loss:\t 0.019162653997367204\n",
      "Epoch:\t 24 Val Loss:\t 0.01915000070666158\n",
      "Epoch:\t 25 Val Loss:\t 0.019150921117601007\n",
      "Epoch:\t 26 Val Loss:\t 0.019147528612682985\n",
      "Epoch:\t 27 Val Loss:\t 0.019146364411815654\n",
      "Epoch:\t 28 Val Loss:\t 0.019145202459117702\n",
      "Epoch:\t 29 Val Loss:\t 0.019149729275946006\n",
      "Epoch:\t 30 Val Loss:\t 0.019148391251300658\n",
      "Epoch:\t 31 Val Loss:\t 0.019145246213951778\n",
      "Epoch:\t 32 Val Loss:\t 0.0191458159148\n",
      "Epoch:\t 33 Val Loss:\t 0.01914562488104715\n",
      "Epoch:\t 34 Val Loss:\t 0.01914827752165323\n",
      "Epoch:\t 35 Val Loss:\t 0.019133825322916343\n",
      "Epoch:\t 36 Val Loss:\t 0.019135675046506317\n",
      "Epoch:\t 37 Val Loss:\t 0.019134468481291172\n",
      "Epoch:\t 38 Val Loss:\t 0.019133750630845856\n",
      "Epoch:\t 39 Val Loss:\t 0.019132237422258357\n",
      "Epoch:\t 40 Val Loss:\t 0.01913494961986015\n",
      "Epoch:\t 41 Val Loss:\t 0.019134348249712656\n",
      "Epoch:\t 42 Val Loss:\t 0.019130134084370247\n",
      "Epoch:\t 43 Val Loss:\t 0.01912539778927038\n",
      "Epoch:\t 44 Val Loss:\t 0.019128016988898433\n",
      "Epoch:\t 45 Val Loss:\t 0.019126940401660842\n",
      "Epoch:\t 46 Val Loss:\t 0.019125760983415813\n",
      "Epoch:\t 47 Val Loss:\t 0.01912546190758084\n",
      "Epoch:\t 48 Val Loss:\t 0.019128352537924467\n",
      "Epoch:\t 49 Val Loss:\t 0.019124746062727863\n",
      "Epoch:\t 50 Val Loss:\t 0.019120685353355354\n",
      "Epoch:\t 51 Val Loss:\t 0.01912028001578048\n",
      "Epoch:\t 52 Val Loss:\t 0.01912144725319258\n",
      "Epoch:\t 53 Val Loss:\t 0.019120921497774678\n",
      "Epoch:\t 54 Val Loss:\t 0.01912075007377669\n",
      "Epoch:\t 55 Val Loss:\t 0.019121474742369596\n",
      "Epoch:\t 56 Val Loss:\t 0.0191194650435517\n",
      "Epoch:\t 57 Val Loss:\t 0.01911930940872015\n",
      "Epoch:\t 58 Val Loss:\t 0.019118442706937015\n",
      "Epoch:\t 59 Val Loss:\t 0.0191179352877445\n",
      "Epoch:\t 60 Val Loss:\t 0.019119764899098595\n",
      "Epoch:\t 61 Val Loss:\t 0.019117164018369\n",
      "Epoch:\t 62 Val Loss:\t 0.01911985083201597\n",
      "Epoch:\t 63 Val Loss:\t 0.01911918787329003\n",
      "Epoch:\t 64 Val Loss:\t 0.01911986517871535\n",
      "Epoch:\t 65 Val Loss:\t 0.01911628361098295\n",
      "Epoch:\t 66 Val Loss:\t 0.019115196081788043\n",
      "Epoch:\t 67 Val Loss:\t 0.019118991494178773\n",
      "Epoch:\t 68 Val Loss:\t 0.01911685982242573\n",
      "Epoch:\t 69 Val Loss:\t 0.019116802097753037\n",
      "Epoch:\t 70 Val Loss:\t 0.01911809363424085\n",
      "Epoch:\t 71 Val Loss:\t 0.01911676750886579\n",
      "Epoch:\t 72 Val Loss:\t 0.01911620427529479\n",
      "Epoch:\t 73 Val Loss:\t 0.019115462223457735\n",
      "Epoch:\t 74 Val Loss:\t 0.01911776611624762\n",
      "Epoch:\t 75 Val Loss:\t 0.019115736695049807\n"
     ]
    },
    {
     "name": "stderr",
     "output_type": "stream",
     "text": [
      "[I 2025-09-29 15:48:30,141] Trial 8 finished with value: 0.019115196081788043 and parameters: {'lr': 0.001, 'weight_decay': 1e-05, 'scheduler_factor': 0.5, 'scheduler_patience': 5, 'batch_size': 256, 'dropout': 0.15, 'hidden_dims': 512}. Best is trial 8 with value: 0.019115196081788043.\n"
     ]
    },
    {
     "name": "stdout",
     "output_type": "stream",
     "text": [
      "Epoch:\t 76 Val Loss:\t 0.019117332457803015\n",
      "Epoch:\t 0 Val Loss:\t 0.02106592825959936\n",
      "Epoch:\t 1 Val Loss:\t 0.02032548888337451\n",
      "Epoch:\t 2 Val Loss:\t 0.019967714319729536\n",
      "Epoch:\t 3 Val Loss:\t 0.01972480043260864\n",
      "Epoch:\t 4 Val Loss:\t 0.019608683875766926\n",
      "Epoch:\t 5 Val Loss:\t 0.01948256596293796\n",
      "Epoch:\t 6 Val Loss:\t 0.01944580332272162\n",
      "Epoch:\t 7 Val Loss:\t 0.019405317015569763\n",
      "Epoch:\t 8 Val Loss:\t 0.01938261748323303\n",
      "Epoch:\t 9 Val Loss:\t 0.01937299302172353\n",
      "Epoch:\t 10 Val Loss:\t 0.019342467192888485\n",
      "Epoch:\t 11 Val Loss:\t 0.01933623649651204\n",
      "Epoch:\t 12 Val Loss:\t 0.019307365272008773\n",
      "Epoch:\t 13 Val Loss:\t 0.019291364314513147\n",
      "Epoch:\t 14 Val Loss:\t 0.01928452519184076\n",
      "Epoch:\t 15 Val Loss:\t 0.019264657662695833\n",
      "Epoch:\t 16 Val Loss:\t 0.019237907283574485\n",
      "Epoch:\t 17 Val Loss:\t 0.0192406947866253\n",
      "Epoch:\t 18 Val Loss:\t 0.019218558142923416\n",
      "Epoch:\t 19 Val Loss:\t 0.01921196890802778\n",
      "Epoch:\t 20 Val Loss:\t 0.019208053187866413\n",
      "Epoch:\t 21 Val Loss:\t 0.019195652033295443\n",
      "Epoch:\t 22 Val Loss:\t 0.01920218958161219\n",
      "Epoch:\t 23 Val Loss:\t 0.019200676234851645\n",
      "Epoch:\t 24 Val Loss:\t 0.019183632464944044\n",
      "Epoch:\t 25 Val Loss:\t 0.019181116874307184\n",
      "Epoch:\t 26 Val Loss:\t 0.019169005403346772\n",
      "Epoch:\t 27 Val Loss:\t 0.019170445407475006\n",
      "Epoch:\t 28 Val Loss:\t 0.019166298485167155\n",
      "Epoch:\t 29 Val Loss:\t 0.019163373505771505\n",
      "Epoch:\t 30 Val Loss:\t 0.01917490381969067\n",
      "Epoch:\t 31 Val Loss:\t 0.01916173989693373\n",
      "Epoch:\t 32 Val Loss:\t 0.019176513295748765\n",
      "Epoch:\t 33 Val Loss:\t 0.01915796640930714\n",
      "Epoch:\t 34 Val Loss:\t 0.019158668085812753\n",
      "Epoch:\t 35 Val Loss:\t 0.019160253875093753\n",
      "Epoch:\t 36 Val Loss:\t 0.01915812946074538\n",
      "Epoch:\t 37 Val Loss:\t 0.019163076739218347\n",
      "Epoch:\t 38 Val Loss:\t 0.01916259567685783\n",
      "Epoch:\t 39 Val Loss:\t 0.019152050720192423\n",
      "Epoch:\t 40 Val Loss:\t 0.019152918511786268\n",
      "Epoch:\t 41 Val Loss:\t 0.019157883381487523\n",
      "Epoch:\t 42 Val Loss:\t 0.01915060604323795\n",
      "Epoch:\t 43 Val Loss:\t 0.019151509399383277\n",
      "Epoch:\t 44 Val Loss:\t 0.01915066604673145\n",
      "Epoch:\t 45 Val Loss:\t 0.01915167549393458\n",
      "Epoch:\t 46 Val Loss:\t 0.019149034348908682\n",
      "Epoch:\t 47 Val Loss:\t 0.0191520623705744\n",
      "Epoch:\t 48 Val Loss:\t 0.019149951979568737\n",
      "Epoch:\t 49 Val Loss:\t 0.01914808253250853\n",
      "Epoch:\t 50 Val Loss:\t 0.0191517623910732\n",
      "Epoch:\t 51 Val Loss:\t 0.019149944045019265\n",
      "Epoch:\t 52 Val Loss:\t 0.019148990940332334\n",
      "Epoch:\t 53 Val Loss:\t 0.019147584885634436\n",
      "Epoch:\t 54 Val Loss:\t 0.019146404820757145\n",
      "Epoch:\t 55 Val Loss:\t 0.019152006354217006\n",
      "Epoch:\t 56 Val Loss:\t 0.019146947622251637\n",
      "Epoch:\t 57 Val Loss:\t 0.019141648024975623\n",
      "Epoch:\t 58 Val Loss:\t 0.019142265587906767\n",
      "Epoch:\t 59 Val Loss:\t 0.01914359301238945\n",
      "Epoch:\t 60 Val Loss:\t 0.019144184615700274\n",
      "Epoch:\t 61 Val Loss:\t 0.01915025078576292\n",
      "Epoch:\t 62 Val Loss:\t 0.019151116256819232\n",
      "Epoch:\t 63 Val Loss:\t 0.019146274224958095\n",
      "Epoch:\t 64 Val Loss:\t 0.019147280621076596\n",
      "Epoch:\t 65 Val Loss:\t 0.0191461982006356\n",
      "Epoch:\t 66 Val Loss:\t 0.019147897842581346\n"
     ]
    },
    {
     "name": "stderr",
     "output_type": "stream",
     "text": [
      "[I 2025-09-29 16:13:54,048] Trial 9 finished with value: 0.019141648024975623 and parameters: {'lr': 1e-05, 'weight_decay': 1e-05, 'scheduler_factor': 0.1, 'scheduler_patience': 20, 'batch_size': 16, 'dropout': 0.1, 'hidden_dims': 256}. Best is trial 8 with value: 0.019115196081788043.\n"
     ]
    },
    {
     "name": "stdout",
     "output_type": "stream",
     "text": [
      "Epoch:\t 67 Val Loss:\t 0.019143166866985223\n",
      "Epoch:\t 0 Val Loss:\t 0.019329886173519176\n",
      "Epoch:\t 1 Val Loss:\t 0.019322638789616695\n",
      "Epoch:\t 2 Val Loss:\t 0.019326083330481865\n",
      "Epoch:\t 3 Val Loss:\t 0.019318935797818425\n",
      "Epoch:\t 4 Val Loss:\t 0.019331692406897947\n",
      "Epoch:\t 5 Val Loss:\t 0.01933090866651998\n",
      "Epoch:\t 6 Val Loss:\t 0.01924792055426532\n",
      "Epoch:\t 7 Val Loss:\t 0.019244485563375338\n",
      "Epoch:\t 8 Val Loss:\t 0.019234574753661367\n",
      "Epoch:\t 9 Val Loss:\t 0.019236224395121883\n",
      "Epoch:\t 10 Val Loss:\t 0.019240146027731986\n",
      "Epoch:\t 11 Val Loss:\t 0.0192043014752851\n",
      "Epoch:\t 12 Val Loss:\t 0.01920167393701338\n",
      "Epoch:\t 13 Val Loss:\t 0.019203397042149902\n",
      "Epoch:\t 14 Val Loss:\t 0.019210295864390086\n",
      "Epoch:\t 15 Val Loss:\t 0.019194257143750847\n",
      "Epoch:\t 16 Val Loss:\t 0.019195258203900386\n",
      "Epoch:\t 17 Val Loss:\t 0.01919144247990973\n",
      "Epoch:\t 18 Val Loss:\t 0.01918939820064304\n",
      "Epoch:\t 19 Val Loss:\t 0.019183117284715712\n",
      "Epoch:\t 20 Val Loss:\t 0.019188200411166794\n",
      "Epoch:\t 21 Val Loss:\t 0.019195223440920468\n",
      "Epoch:\t 22 Val Loss:\t 0.019180623472041764\n",
      "Epoch:\t 23 Val Loss:\t 0.01918242471016948\n",
      "Epoch:\t 24 Val Loss:\t 0.01917701563243854\n",
      "Epoch:\t 25 Val Loss:\t 0.019177984097919543\n",
      "Epoch:\t 26 Val Loss:\t 0.01917965187206302\n",
      "Epoch:\t 27 Val Loss:\t 0.019181410360971096\n",
      "Epoch:\t 28 Val Loss:\t 0.019175466036535388\n",
      "Epoch:\t 29 Val Loss:\t 0.019171362458195836\n",
      "Epoch:\t 30 Val Loss:\t 0.019176880047168502\n",
      "Epoch:\t 31 Val Loss:\t 0.019177975805743326\n",
      "Epoch:\t 32 Val Loss:\t 0.01917966760563093\n",
      "Epoch:\t 33 Val Loss:\t 0.0191779007034693\n",
      "Epoch:\t 34 Val Loss:\t 0.01917789205265552\n",
      "Epoch:\t 35 Val Loss:\t 0.01917624947151739\n",
      "Epoch:\t 36 Val Loss:\t 0.019174915687324295\n",
      "Epoch:\t 37 Val Loss:\t 0.019175351463589067\n",
      "Epoch:\t 38 Val Loss:\t 0.01917972629462832\n"
     ]
    },
    {
     "name": "stderr",
     "output_type": "stream",
     "text": [
      "[I 2025-09-29 16:19:43,996] Trial 10 finished with value: 0.019171362458195836 and parameters: {'lr': 0.001, 'weight_decay': 0.0001, 'scheduler_factor': 0.3, 'scheduler_patience': 1, 'batch_size': 32, 'dropout': 0.2, 'hidden_dims': 512}. Best is trial 8 with value: 0.019115196081788043.\n"
     ]
    },
    {
     "name": "stdout",
     "output_type": "stream",
     "text": [
      "Epoch:\t 39 Val Loss:\t 0.019180852983869047\n"
     ]
    },
    {
     "name": "stderr",
     "output_type": "stream",
     "text": [
      "[I 2025-09-29 16:20:06,297] Trial 11 pruned. \n"
     ]
    },
    {
     "name": "stdout",
     "output_type": "stream",
     "text": [
      "Epoch:\t 0 Val Loss:\t 0.021111304249415052\n",
      "Epoch:\t 0 Val Loss:\t 0.019237253923310715\n",
      "Epoch:\t 1 Val Loss:\t 0.019206967793169386\n",
      "Epoch:\t 2 Val Loss:\t 0.019209269795283562\n",
      "Epoch:\t 3 Val Loss:\t 0.019204429696728618\n",
      "Epoch:\t 4 Val Loss:\t 0.019211829568081585\n",
      "Epoch:\t 5 Val Loss:\t 0.019207647252985717\n",
      "Epoch:\t 6 Val Loss:\t 0.019206955255989203\n",
      "Epoch:\t 7 Val Loss:\t 0.019200419039031448\n",
      "Epoch:\t 8 Val Loss:\t 0.019215688373443784\n",
      "Epoch:\t 9 Val Loss:\t 0.019213647530016878\n",
      "Epoch:\t 10 Val Loss:\t 0.019203900896851676\n",
      "Epoch:\t 11 Val Loss:\t 0.019207480889477498\n",
      "Epoch:\t 12 Val Loss:\t 0.019210493001812292\n",
      "Epoch:\t 13 Val Loss:\t 0.01920514757103366\n",
      "Epoch:\t 14 Val Loss:\t 0.019208125012277588\n",
      "Epoch:\t 15 Val Loss:\t 0.019194765278050113\n",
      "Epoch:\t 16 Val Loss:\t 0.019203391084766413\n",
      "Epoch:\t 17 Val Loss:\t 0.019210646680577318\n",
      "Epoch:\t 18 Val Loss:\t 0.019205243425639437\n",
      "Epoch:\t 19 Val Loss:\t 0.019199894529292213\n",
      "Epoch:\t 20 Val Loss:\t 0.01920634060444065\n",
      "Epoch:\t 21 Val Loss:\t 0.019204851225055258\n",
      "Epoch:\t 22 Val Loss:\t 0.01920043641687287\n",
      "Epoch:\t 23 Val Loss:\t 0.019210152830971806\n",
      "Epoch:\t 24 Val Loss:\t 0.01920241827077113\n"
     ]
    },
    {
     "name": "stderr",
     "output_type": "stream",
     "text": [
      "[I 2025-09-29 16:23:47,355] Trial 12 finished with value: 0.019194765278050113 and parameters: {'lr': 0.001, 'weight_decay': 1e-05, 'scheduler_factor': 0.1, 'scheduler_patience': 20, 'batch_size': 32, 'dropout': 0.2, 'hidden_dims': 256}. Best is trial 8 with value: 0.019115196081788043.\n"
     ]
    },
    {
     "name": "stdout",
     "output_type": "stream",
     "text": [
      "Epoch:\t 25 Val Loss:\t 0.019199795251548964\n"
     ]
    },
    {
     "name": "stderr",
     "output_type": "stream",
     "text": [
      "[I 2025-09-29 16:23:51,068] Trial 13 pruned. \n"
     ]
    },
    {
     "name": "stdout",
     "output_type": "stream",
     "text": [
      "Epoch:\t 0 Val Loss:\t 0.023117594176451227\n",
      "Epoch:\t 0 Val Loss:\t 0.019225490980555135\n",
      "Epoch:\t 1 Val Loss:\t 0.019204211506173144\n",
      "Epoch:\t 2 Val Loss:\t 0.01918383863621061\n",
      "Epoch:\t 3 Val Loss:\t 0.01918745767465699\n",
      "Epoch:\t 4 Val Loss:\t 0.019180885238818352\n",
      "Epoch:\t 5 Val Loss:\t 0.01918418445039024\n",
      "Epoch:\t 6 Val Loss:\t 0.01918339839143526\n",
      "Epoch:\t 7 Val Loss:\t 0.01918816722462465\n",
      "Epoch:\t 8 Val Loss:\t 0.019193927299618305\n",
      "Epoch:\t 9 Val Loss:\t 0.019180425453025174\n",
      "Epoch:\t 10 Val Loss:\t 0.01918101302622123\n",
      "Epoch:\t 11 Val Loss:\t 0.01913799544622299\n",
      "Epoch:\t 12 Val Loss:\t 0.019134827068446335\n",
      "Epoch:\t 13 Val Loss:\t 0.019134560469116366\n",
      "Epoch:\t 14 Val Loss:\t 0.019133072408068615\n",
      "Epoch:\t 15 Val Loss:\t 0.019135421470620573\n",
      "Epoch:\t 16 Val Loss:\t 0.019132873449891858\n",
      "Epoch:\t 17 Val Loss:\t 0.019132447414947712\n",
      "Epoch:\t 18 Val Loss:\t 0.01913079238014033\n",
      "Epoch:\t 19 Val Loss:\t 0.019130901125969404\n",
      "Epoch:\t 20 Val Loss:\t 0.01913264782334993\n",
      "Epoch:\t 21 Val Loss:\t 0.01913301797191279\n",
      "Epoch:\t 22 Val Loss:\t 0.01913111840033697\n",
      "Epoch:\t 23 Val Loss:\t 0.019130594261937618\n",
      "Epoch:\t 24 Val Loss:\t 0.019128818814094097\n",
      "Epoch:\t 25 Val Loss:\t 0.01913076078652194\n",
      "Epoch:\t 26 Val Loss:\t 0.019130980418654492\n",
      "Epoch:\t 27 Val Loss:\t 0.01912894506640927\n",
      "Epoch:\t 28 Val Loss:\t 0.019131503321416353\n",
      "Epoch:\t 29 Val Loss:\t 0.019130563355865552\n",
      "Epoch:\t 30 Val Loss:\t 0.01913179541293162\n",
      "Epoch:\t 31 Val Loss:\t 0.01912570663674308\n",
      "Epoch:\t 32 Val Loss:\t 0.019124796632428675\n",
      "Epoch:\t 33 Val Loss:\t 0.019126340092845733\n",
      "Epoch:\t 34 Val Loss:\t 0.019124286608187806\n",
      "Epoch:\t 35 Val Loss:\t 0.01912271657778092\n",
      "Epoch:\t 36 Val Loss:\t 0.019123707163389243\n",
      "Epoch:\t 37 Val Loss:\t 0.01912343655553448\n",
      "Epoch:\t 38 Val Loss:\t 0.01912415286529327\n",
      "Epoch:\t 39 Val Loss:\t 0.019123802557198446\n",
      "Epoch:\t 40 Val Loss:\t 0.019123580912155116\n",
      "Epoch:\t 41 Val Loss:\t 0.01912276272878734\n",
      "Epoch:\t 42 Val Loss:\t 0.01912247724571653\n",
      "Epoch:\t 43 Val Loss:\t 0.01912228443329582\n",
      "Epoch:\t 44 Val Loss:\t 0.0191208813707028\n",
      "Epoch:\t 45 Val Loss:\t 0.019122528765746244\n",
      "Epoch:\t 46 Val Loss:\t 0.01912315701173961\n",
      "Epoch:\t 47 Val Loss:\t 0.01912239640821431\n",
      "Epoch:\t 48 Val Loss:\t 0.019120848399829672\n",
      "Epoch:\t 49 Val Loss:\t 0.01912171655678846\n",
      "Epoch:\t 50 Val Loss:\t 0.019122549082956304\n",
      "Epoch:\t 51 Val Loss:\t 0.019121881859788907\n",
      "Epoch:\t 52 Val Loss:\t 0.019120960135836623\n",
      "Epoch:\t 53 Val Loss:\t 0.019122419878299924\n",
      "Epoch:\t 54 Val Loss:\t 0.019120922875366306\n",
      "Epoch:\t 55 Val Loss:\t 0.019121829026826784\n",
      "Epoch:\t 56 Val Loss:\t 0.01912218796060103\n",
      "Epoch:\t 57 Val Loss:\t 0.01912293032036572\n"
     ]
    },
    {
     "name": "stderr",
     "output_type": "stream",
     "text": [
      "[I 2025-09-29 16:28:52,013] Trial 14 finished with value: 0.019120848399829672 and parameters: {'lr': 0.001, 'weight_decay': 1e-05, 'scheduler_factor': 0.1, 'scheduler_patience': 5, 'batch_size': 64, 'dropout': 0.1, 'hidden_dims': 128}. Best is trial 8 with value: 0.019115196081788043.\n"
     ]
    },
    {
     "name": "stdout",
     "output_type": "stream",
     "text": [
      "Epoch:\t 58 Val Loss:\t 0.019122497093751897\n",
      "Epoch:\t 0 Val Loss:\t 0.0192350503727491\n",
      "Epoch:\t 1 Val Loss:\t 0.019196773381407566\n",
      "Epoch:\t 2 Val Loss:\t 0.019195784829249926\n",
      "Epoch:\t 3 Val Loss:\t 0.019194383448767095\n",
      "Epoch:\t 4 Val Loss:\t 0.019190212386296507\n",
      "Epoch:\t 5 Val Loss:\t 0.019186469319250027\n",
      "Epoch:\t 6 Val Loss:\t 0.01918830348852237\n",
      "Epoch:\t 7 Val Loss:\t 0.019186341474551623\n",
      "Epoch:\t 8 Val Loss:\t 0.0191886361247308\n",
      "Epoch:\t 9 Val Loss:\t 0.01918447513870562\n",
      "Epoch:\t 10 Val Loss:\t 0.01918847831122867\n",
      "Epoch:\t 11 Val Loss:\t 0.019188963937304494\n",
      "Epoch:\t 12 Val Loss:\t 0.019187715691549447\n",
      "Epoch:\t 13 Val Loss:\t 0.019184710820072\n",
      "Epoch:\t 14 Val Loss:\t 0.019179883670846668\n",
      "Epoch:\t 15 Val Loss:\t 0.01918943289146303\n",
      "Epoch:\t 16 Val Loss:\t 0.019181838560713215\n",
      "Epoch:\t 17 Val Loss:\t 0.019187316416319\n",
      "Epoch:\t 18 Val Loss:\t 0.01918735814475937\n",
      "Epoch:\t 19 Val Loss:\t 0.01918240371730462\n",
      "Epoch:\t 20 Val Loss:\t 0.01918549582176235\n",
      "Epoch:\t 21 Val Loss:\t 0.019141611791779603\n",
      "Epoch:\t 22 Val Loss:\t 0.019136441094250577\n",
      "Epoch:\t 23 Val Loss:\t 0.019134728325551426\n",
      "Epoch:\t 24 Val Loss:\t 0.01913560716974756\n",
      "Epoch:\t 25 Val Loss:\t 0.019136725978420976\n",
      "Epoch:\t 26 Val Loss:\t 0.019134855548647415\n",
      "Epoch:\t 27 Val Loss:\t 0.01913353828124127\n",
      "Epoch:\t 28 Val Loss:\t 0.019132211845469767\n",
      "Epoch:\t 29 Val Loss:\t 0.019134765473592788\n",
      "Epoch:\t 30 Val Loss:\t 0.019135023862365645\n",
      "Epoch:\t 31 Val Loss:\t 0.019134461405150294\n",
      "Epoch:\t 32 Val Loss:\t 0.01913409859582012\n",
      "Epoch:\t 33 Val Loss:\t 0.01913260645706053\n",
      "Epoch:\t 34 Val Loss:\t 0.01912874349209713\n",
      "Epoch:\t 35 Val Loss:\t 0.019127107865879234\n",
      "Epoch:\t 36 Val Loss:\t 0.01912519564388349\n",
      "Epoch:\t 37 Val Loss:\t 0.019127253495974036\n",
      "Epoch:\t 38 Val Loss:\t 0.019126867730596422\n",
      "Epoch:\t 39 Val Loss:\t 0.019125428715600776\n",
      "Epoch:\t 40 Val Loss:\t 0.019127217276552633\n",
      "Epoch:\t 41 Val Loss:\t 0.01912523974198037\n",
      "Epoch:\t 42 Val Loss:\t 0.019126084636955226\n",
      "Epoch:\t 43 Val Loss:\t 0.019124978219250296\n",
      "Epoch:\t 44 Val Loss:\t 0.019125797249078404\n",
      "Epoch:\t 45 Val Loss:\t 0.019124245009473156\n",
      "Epoch:\t 46 Val Loss:\t 0.019125552856629834\n",
      "Epoch:\t 47 Val Loss:\t 0.01912400461041471\n",
      "Epoch:\t 48 Val Loss:\t 0.01912778918536783\n",
      "Epoch:\t 49 Val Loss:\t 0.019124758096322098\n",
      "Epoch:\t 50 Val Loss:\t 0.019125536976039446\n",
      "Epoch:\t 51 Val Loss:\t 0.019127502384499902\n",
      "Epoch:\t 52 Val Loss:\t 0.019123704582928436\n",
      "Epoch:\t 53 Val Loss:\t 0.019126104722821082\n",
      "Epoch:\t 54 Val Loss:\t 0.019122655675878928\n",
      "Epoch:\t 55 Val Loss:\t 0.019124385640803494\n",
      "Epoch:\t 56 Val Loss:\t 0.019125248447657322\n",
      "Epoch:\t 57 Val Loss:\t 0.019127149177035202\n",
      "Epoch:\t 58 Val Loss:\t 0.019125886759826145\n",
      "Epoch:\t 59 Val Loss:\t 0.019124265703968853\n",
      "Epoch:\t 60 Val Loss:\t 0.01912414052837717\n",
      "Epoch:\t 61 Val Loss:\t 0.019124678114469114\n",
      "Epoch:\t 62 Val Loss:\t 0.01912519191535005\n",
      "Epoch:\t 63 Val Loss:\t 0.01912391282730475\n"
     ]
    },
    {
     "name": "stderr",
     "output_type": "stream",
     "text": [
      "[I 2025-09-29 16:34:23,277] Trial 15 finished with value: 0.019122655675878928 and parameters: {'lr': 0.001, 'weight_decay': 1e-05, 'scheduler_factor': 0.1, 'scheduler_patience': 5, 'batch_size': 64, 'dropout': 0.15, 'hidden_dims': 128}. Best is trial 8 with value: 0.019115196081788043.\n"
     ]
    },
    {
     "name": "stdout",
     "output_type": "stream",
     "text": [
      "Epoch:\t 64 Val Loss:\t 0.019124861231513725\n",
      "Epoch:\t 0 Val Loss:\t 0.019226816603378785\n",
      "Epoch:\t 1 Val Loss:\t 0.019194450395347177\n",
      "Epoch:\t 2 Val Loss:\t 0.01918494801490513\n",
      "Epoch:\t 3 Val Loss:\t 0.019179641057802576\n",
      "Epoch:\t 4 Val Loss:\t 0.01917310685753926\n",
      "Epoch:\t 5 Val Loss:\t 0.019177650090131868\n",
      "Epoch:\t 6 Val Loss:\t 0.019182772810764942\n",
      "Epoch:\t 7 Val Loss:\t 0.019178098194123836\n",
      "Epoch:\t 8 Val Loss:\t 0.01917640555993769\n",
      "Epoch:\t 9 Val Loss:\t 0.019171322844554986\n",
      "Epoch:\t 10 Val Loss:\t 0.01917556348001099\n",
      "Epoch:\t 11 Val Loss:\t 0.019144829592894\n",
      "Epoch:\t 12 Val Loss:\t 0.01914387011983785\n",
      "Epoch:\t 13 Val Loss:\t 0.019145189966623753\n",
      "Epoch:\t 14 Val Loss:\t 0.01914444774847631\n",
      "Epoch:\t 15 Val Loss:\t 0.019145628622259016\n",
      "Epoch:\t 16 Val Loss:\t 0.019141840634438374\n",
      "Epoch:\t 17 Val Loss:\t 0.019139806801065137\n",
      "Epoch:\t 18 Val Loss:\t 0.0191410072482971\n",
      "Epoch:\t 19 Val Loss:\t 0.019145313154168758\n",
      "Epoch:\t 20 Val Loss:\t 0.019143187691194333\n",
      "Epoch:\t 21 Val Loss:\t 0.019141951346693175\n",
      "Epoch:\t 22 Val Loss:\t 0.019139653786333647\n",
      "Epoch:\t 23 Val Loss:\t 0.01914043810912605\n",
      "Epoch:\t 24 Val Loss:\t 0.01912939017589917\n",
      "Epoch:\t 25 Val Loss:\t 0.019128256643356382\n",
      "Epoch:\t 26 Val Loss:\t 0.019128613477736037\n",
      "Epoch:\t 27 Val Loss:\t 0.0191279726121326\n",
      "Epoch:\t 28 Val Loss:\t 0.019129149785489102\n",
      "Epoch:\t 29 Val Loss:\t 0.01912674496790315\n",
      "Epoch:\t 30 Val Loss:\t 0.01912634382354127\n",
      "Epoch:\t 31 Val Loss:\t 0.019127274779640723\n",
      "Epoch:\t 32 Val Loss:\t 0.019127899399259653\n",
      "Epoch:\t 33 Val Loss:\t 0.01912762479260953\n",
      "Epoch:\t 34 Val Loss:\t 0.019128356873772897\n",
      "Epoch:\t 35 Val Loss:\t 0.01913026006902053\n",
      "Epoch:\t 36 Val Loss:\t 0.01912352667707416\n",
      "Epoch:\t 37 Val Loss:\t 0.01912415819702042\n",
      "Epoch:\t 38 Val Loss:\t 0.01912329323780066\n",
      "Epoch:\t 39 Val Loss:\t 0.019121038980967973\n",
      "Epoch:\t 40 Val Loss:\t 0.019122840028020508\n",
      "Epoch:\t 41 Val Loss:\t 0.019123822395504385\n",
      "Epoch:\t 42 Val Loss:\t 0.019123403107919323\n",
      "Epoch:\t 43 Val Loss:\t 0.019123475879724815\n",
      "Epoch:\t 44 Val Loss:\t 0.019124694057219747\n",
      "Epoch:\t 45 Val Loss:\t 0.019123925891765935\n",
      "Epoch:\t 46 Val Loss:\t 0.01912441675984195\n",
      "Epoch:\t 47 Val Loss:\t 0.01912078400614368\n",
      "Epoch:\t 48 Val Loss:\t 0.019122447980674837\n",
      "Epoch:\t 49 Val Loss:\t 0.019121277234146777\n",
      "Epoch:\t 50 Val Loss:\t 0.01912217888844892\n",
      "Epoch:\t 51 Val Loss:\t 0.019123862018063882\n",
      "Epoch:\t 52 Val Loss:\t 0.019121735498905872\n",
      "Epoch:\t 53 Val Loss:\t 0.019122961590750855\n",
      "Epoch:\t 54 Val Loss:\t 0.019123897439672098\n",
      "Epoch:\t 55 Val Loss:\t 0.019121821713539242\n",
      "Epoch:\t 56 Val Loss:\t 0.01912023983268771\n",
      "Epoch:\t 57 Val Loss:\t 0.019121677640153097\n",
      "Epoch:\t 58 Val Loss:\t 0.019122359169364944\n",
      "Epoch:\t 59 Val Loss:\t 0.019120772113538177\n",
      "Epoch:\t 60 Val Loss:\t 0.019121892965391702\n",
      "Epoch:\t 61 Val Loss:\t 0.019123905085922325\n",
      "Epoch:\t 62 Val Loss:\t 0.01912551977981403\n",
      "Epoch:\t 63 Val Loss:\t 0.01912215231305385\n",
      "Epoch:\t 64 Val Loss:\t 0.019121649024821063\n",
      "Epoch:\t 65 Val Loss:\t 0.019122551812061166\n"
     ]
    },
    {
     "name": "stderr",
     "output_type": "stream",
     "text": [
      "[I 2025-09-29 16:40:04,333] Trial 16 finished with value: 0.01912023983268771 and parameters: {'lr': 0.001, 'weight_decay': 1e-05, 'scheduler_factor': 0.3, 'scheduler_patience': 5, 'batch_size': 64, 'dropout': 0.05, 'hidden_dims': 128}. Best is trial 8 with value: 0.019115196081788043.\n"
     ]
    },
    {
     "name": "stdout",
     "output_type": "stream",
     "text": [
      "Epoch:\t 66 Val Loss:\t 0.01912286526724065\n",
      "Epoch:\t 0 Val Loss:\t 0.019334970430205607\n",
      "Epoch:\t 1 Val Loss:\t 0.019256911610776924\n",
      "Epoch:\t 2 Val Loss:\t 0.019184035944708612\n",
      "Epoch:\t 3 Val Loss:\t 0.019182271355989017\n",
      "Epoch:\t 4 Val Loss:\t 0.019177854480573207\n",
      "Epoch:\t 5 Val Loss:\t 0.019179644292297227\n",
      "Epoch:\t 6 Val Loss:\t 0.01918220786822098\n",
      "Epoch:\t 7 Val Loss:\t 0.019179093041222107\n",
      "Epoch:\t 8 Val Loss:\t 0.01917954642126727\n",
      "Epoch:\t 9 Val Loss:\t 0.0191818078870664\n",
      "Epoch:\t 10 Val Loss:\t 0.019178747382713347\n",
      "Epoch:\t 11 Val Loss:\t 0.019164690226792114\n",
      "Epoch:\t 12 Val Loss:\t 0.01916412811983621\n",
      "Epoch:\t 13 Val Loss:\t 0.019162954005844637\n",
      "Epoch:\t 14 Val Loss:\t 0.01916128486822977\n",
      "Epoch:\t 15 Val Loss:\t 0.019161824180214334\n",
      "Epoch:\t 16 Val Loss:\t 0.019162844173562645\n",
      "Epoch:\t 17 Val Loss:\t 0.019159845113797515\n",
      "Epoch:\t 18 Val Loss:\t 0.019165078469931006\n",
      "Epoch:\t 19 Val Loss:\t 0.019163223282929708\n",
      "Epoch:\t 20 Val Loss:\t 0.01916125139358842\n",
      "Epoch:\t 21 Val Loss:\t 0.01915521749029897\n",
      "Epoch:\t 22 Val Loss:\t 0.01915617816115595\n",
      "Epoch:\t 23 Val Loss:\t 0.01915738405254402\n",
      "Epoch:\t 24 Val Loss:\t 0.019157052698458132\n",
      "Epoch:\t 25 Val Loss:\t 0.019156995398607008\n",
      "Epoch:\t 26 Val Loss:\t 0.019159185681200206\n",
      "Epoch:\t 27 Val Loss:\t 0.01915752426442786\n",
      "Epoch:\t 28 Val Loss:\t 0.019157604998149502\n",
      "Epoch:\t 29 Val Loss:\t 0.019158031778476022\n",
      "Epoch:\t 30 Val Loss:\t 0.01915686604098238\n"
     ]
    },
    {
     "name": "stderr",
     "output_type": "stream",
     "text": [
      "[I 2025-09-29 16:42:54,372] Trial 17 finished with value: 0.01915521749029897 and parameters: {'lr': 0.001, 'weight_decay': 1e-06, 'scheduler_factor': 0.3, 'scheduler_patience': 5, 'batch_size': 64, 'dropout': 0.05, 'hidden_dims': 512}. Best is trial 8 with value: 0.019115196081788043.\n"
     ]
    },
    {
     "name": "stdout",
     "output_type": "stream",
     "text": [
      "Epoch:\t 31 Val Loss:\t 0.01915608336084192\n",
      "Epoch:\t 0 Val Loss:\t 0.019301452364251494\n",
      "Epoch:\t 1 Val Loss:\t 0.01926921386632785\n",
      "Epoch:\t 2 Val Loss:\t 0.019252535947060695\n",
      "Epoch:\t 3 Val Loss:\t 0.019262869732624144\n",
      "Epoch:\t 4 Val Loss:\t 0.01925423731719313\n",
      "Epoch:\t 5 Val Loss:\t 0.01925655554718426\n"
     ]
    },
    {
     "name": "stderr",
     "output_type": "stream",
     "text": [
      "[I 2025-09-29 16:43:29,964] Trial 18 pruned. \n"
     ]
    },
    {
     "name": "stdout",
     "output_type": "stream",
     "text": [
      "Epoch:\t 6 Val Loss:\t 0.01925956764330334\n"
     ]
    },
    {
     "name": "stderr",
     "output_type": "stream",
     "text": [
      "[I 2025-09-29 16:43:32,997] Trial 19 pruned. \n"
     ]
    },
    {
     "name": "stdout",
     "output_type": "stream",
     "text": [
      "Epoch:\t 0 Val Loss:\t 0.01954571608194085\n",
      "Epoch:\t 0 Val Loss:\t 0.01922345024712483\n",
      "Epoch:\t 1 Val Loss:\t 0.0192130506973772\n",
      "Epoch:\t 2 Val Loss:\t 0.019210796811073603\n",
      "Epoch:\t 3 Val Loss:\t 0.01920910132508368\n",
      "Epoch:\t 4 Val Loss:\t 0.01921494376591071\n",
      "Epoch:\t 5 Val Loss:\t 0.01920506173341567\n",
      "Epoch:\t 6 Val Loss:\t 0.019203688697732695\n",
      "Epoch:\t 7 Val Loss:\t 0.01920561197506252\n",
      "Epoch:\t 8 Val Loss:\t 0.019196871782150886\n",
      "Epoch:\t 9 Val Loss:\t 0.019210318895840604\n",
      "Epoch:\t 10 Val Loss:\t 0.019207957178004005\n",
      "Epoch:\t 11 Val Loss:\t 0.01920269169313352\n",
      "Epoch:\t 12 Val Loss:\t 0.019209667801093774\n",
      "Epoch:\t 13 Val Loss:\t 0.019209183404979947\n",
      "Epoch:\t 14 Val Loss:\t 0.019201139528661083\n"
     ]
    },
    {
     "name": "stderr",
     "output_type": "stream",
     "text": [
      "[I 2025-09-29 16:45:47,720] Trial 20 pruned. \n"
     ]
    },
    {
     "name": "stdout",
     "output_type": "stream",
     "text": [
      "Epoch:\t 15 Val Loss:\t 0.01919958523020053\n",
      "Epoch:\t 0 Val Loss:\t 0.01921104820627877\n",
      "Epoch:\t 1 Val Loss:\t 0.01919073415071516\n",
      "Epoch:\t 2 Val Loss:\t 0.01917856623155394\n",
      "Epoch:\t 3 Val Loss:\t 0.01917932469028065\n",
      "Epoch:\t 4 Val Loss:\t 0.019174339633502038\n",
      "Epoch:\t 5 Val Loss:\t 0.019173188018274737\n",
      "Epoch:\t 6 Val Loss:\t 0.019172137231283318\n",
      "Epoch:\t 7 Val Loss:\t 0.019174287331334326\n",
      "Epoch:\t 8 Val Loss:\t 0.019179586736237802\n",
      "Epoch:\t 9 Val Loss:\t 0.01917915019080761\n",
      "Epoch:\t 10 Val Loss:\t 0.01917024675239952\n",
      "Epoch:\t 11 Val Loss:\t 0.019171262922082193\n",
      "Epoch:\t 12 Val Loss:\t 0.019177855776749374\n",
      "Epoch:\t 13 Val Loss:\t 0.019152557490327574\n",
      "Epoch:\t 14 Val Loss:\t 0.019152212417746655\n",
      "Epoch:\t 15 Val Loss:\t 0.019151454387114828\n",
      "Epoch:\t 16 Val Loss:\t 0.019151798045685384\n",
      "Epoch:\t 17 Val Loss:\t 0.019150390495663454\n",
      "Epoch:\t 18 Val Loss:\t 0.01915267176787762\n",
      "Epoch:\t 19 Val Loss:\t 0.019156503597586846\n",
      "Epoch:\t 20 Val Loss:\t 0.01915283657575823\n",
      "Epoch:\t 21 Val Loss:\t 0.019150696068924316\n",
      "Epoch:\t 22 Val Loss:\t 0.019152934062475736\n",
      "Epoch:\t 23 Val Loss:\t 0.019152594835119614\n",
      "Epoch:\t 24 Val Loss:\t 0.019138104193133113\n",
      "Epoch:\t 25 Val Loss:\t 0.01913770802159055\n",
      "Epoch:\t 26 Val Loss:\t 0.019140804610234045\n",
      "Epoch:\t 27 Val Loss:\t 0.019140114902896514\n",
      "Epoch:\t 28 Val Loss:\t 0.01913741216370517\n",
      "Epoch:\t 29 Val Loss:\t 0.01913733601038254\n",
      "Epoch:\t 30 Val Loss:\t 0.019135658661129512\n",
      "Epoch:\t 31 Val Loss:\t 0.01914343256741174\n",
      "Epoch:\t 32 Val Loss:\t 0.019137671680010754\n",
      "Epoch:\t 33 Val Loss:\t 0.019136643702044296\n",
      "Epoch:\t 34 Val Loss:\t 0.01914064844641067\n",
      "Epoch:\t 35 Val Loss:\t 0.019139333759465332\n",
      "Epoch:\t 36 Val Loss:\t 0.01913887639197581\n",
      "Epoch:\t 37 Val Loss:\t 0.019128669394927182\n",
      "Epoch:\t 38 Val Loss:\t 0.01912852478696296\n",
      "Epoch:\t 39 Val Loss:\t 0.019130455173262315\n",
      "Epoch:\t 40 Val Loss:\t 0.01912974920480561\n",
      "Epoch:\t 41 Val Loss:\t 0.019128312510819333\n",
      "Epoch:\t 42 Val Loss:\t 0.019130429311358714\n",
      "Epoch:\t 43 Val Loss:\t 0.019130503345827894\n",
      "Epoch:\t 44 Val Loss:\t 0.019124617649850913\n",
      "Epoch:\t 45 Val Loss:\t 0.01912606839529491\n",
      "Epoch:\t 46 Val Loss:\t 0.01912452131444918\n",
      "Epoch:\t 47 Val Loss:\t 0.01912466069284526\n",
      "Epoch:\t 48 Val Loss:\t 0.0191253072134091\n",
      "Epoch:\t 49 Val Loss:\t 0.019125680330528885\n",
      "Epoch:\t 50 Val Loss:\t 0.019128125029044724\n",
      "Epoch:\t 51 Val Loss:\t 0.019122339739695026\n",
      "Epoch:\t 52 Val Loss:\t 0.019123767815569216\n",
      "Epoch:\t 53 Val Loss:\t 0.01912016875380288\n",
      "Epoch:\t 54 Val Loss:\t 0.019122275971935644\n",
      "Epoch:\t 55 Val Loss:\t 0.01912318082721996\n",
      "Epoch:\t 56 Val Loss:\t 0.019121844404189483\n",
      "Epoch:\t 57 Val Loss:\t 0.01912101988858493\n",
      "Epoch:\t 58 Val Loss:\t 0.01912375914989103\n",
      "Epoch:\t 59 Val Loss:\t 0.019121962851880944\n",
      "Epoch:\t 60 Val Loss:\t 0.019121039202582745\n",
      "Epoch:\t 61 Val Loss:\t 0.019120881719881203\n",
      "Epoch:\t 62 Val Loss:\t 0.01912021219678487\n"
     ]
    },
    {
     "name": "stderr",
     "output_type": "stream",
     "text": [
      "[I 2025-09-29 16:51:13,279] Trial 21 finished with value: 0.01912016875380288 and parameters: {'lr': 0.001, 'weight_decay': 1e-05, 'scheduler_factor': 0.5, 'scheduler_patience': 5, 'batch_size': 64, 'dropout': 0.05, 'hidden_dims': 128}. Best is trial 8 with value: 0.019115196081788043.\n"
     ]
    },
    {
     "name": "stdout",
     "output_type": "stream",
     "text": [
      "Epoch:\t 63 Val Loss:\t 0.019120629218494\n",
      "Epoch:\t 0 Val Loss:\t 0.01922979794585352\n",
      "Epoch:\t 1 Val Loss:\t 0.01919414241945785\n",
      "Epoch:\t 2 Val Loss:\t 0.019182840197871955\n",
      "Epoch:\t 3 Val Loss:\t 0.019179532002793865\n",
      "Epoch:\t 4 Val Loss:\t 0.019175420735772965\n",
      "Epoch:\t 5 Val Loss:\t 0.01918013071510519\n",
      "Epoch:\t 6 Val Loss:\t 0.019182215874460087\n",
      "Epoch:\t 7 Val Loss:\t 0.019171961265909622\n",
      "Epoch:\t 8 Val Loss:\t 0.019174433323580098\n",
      "Epoch:\t 9 Val Loss:\t 0.019181385300123824\n",
      "Epoch:\t 10 Val Loss:\t 0.01917845963917184\n",
      "Epoch:\t 11 Val Loss:\t 0.019176342239732046\n",
      "Epoch:\t 12 Val Loss:\t 0.01917586270211674\n",
      "Epoch:\t 13 Val Loss:\t 0.01916906489918762\n",
      "Epoch:\t 14 Val Loss:\t 0.019169464362520365\n",
      "Epoch:\t 15 Val Loss:\t 0.019173449236149366\n",
      "Epoch:\t 16 Val Loss:\t 0.019174372781666987\n",
      "Epoch:\t 17 Val Loss:\t 0.019179206901487746\n",
      "Epoch:\t 18 Val Loss:\t 0.019176962851907235\n",
      "Epoch:\t 19 Val Loss:\t 0.01917491836913332\n",
      "Epoch:\t 20 Val Loss:\t 0.019156299391464134\n",
      "Epoch:\t 21 Val Loss:\t 0.019152672538664612\n",
      "Epoch:\t 22 Val Loss:\t 0.019155131943753068\n",
      "Epoch:\t 23 Val Loss:\t 0.019154754299205608\n",
      "Epoch:\t 24 Val Loss:\t 0.019151124971347428\n",
      "Epoch:\t 25 Val Loss:\t 0.01915451663735988\n",
      "Epoch:\t 26 Val Loss:\t 0.019153555960016617\n",
      "Epoch:\t 27 Val Loss:\t 0.019150952769100702\n",
      "Epoch:\t 28 Val Loss:\t 0.019138099586788956\n",
      "Epoch:\t 29 Val Loss:\t 0.019140291256366328\n",
      "Epoch:\t 30 Val Loss:\t 0.01914141050826929\n",
      "Epoch:\t 31 Val Loss:\t 0.01913883809910496\n",
      "Epoch:\t 32 Val Loss:\t 0.019136792578525276\n",
      "Epoch:\t 33 Val Loss:\t 0.01913856031525571\n",
      "Epoch:\t 34 Val Loss:\t 0.019139707773854688\n",
      "Epoch:\t 35 Val Loss:\t 0.019130054482940455\n",
      "Epoch:\t 36 Val Loss:\t 0.019131708268597246\n",
      "Epoch:\t 37 Val Loss:\t 0.01913158381082122\n",
      "Epoch:\t 38 Val Loss:\t 0.019129793080747196\n",
      "Epoch:\t 39 Val Loss:\t 0.01912985266971678\n",
      "Epoch:\t 40 Val Loss:\t 0.01913057659491594\n",
      "Epoch:\t 41 Val Loss:\t 0.01912744138530362\n",
      "Epoch:\t 42 Val Loss:\t 0.019131772932545154\n",
      "Epoch:\t 43 Val Loss:\t 0.0191318124156495\n",
      "Epoch:\t 44 Val Loss:\t 0.019130561789427465\n",
      "Epoch:\t 45 Val Loss:\t 0.019131285687059907\n"
     ]
    },
    {
     "name": "stderr",
     "output_type": "stream",
     "text": [
      "[I 2025-09-29 16:55:11,188] Trial 22 pruned. \n"
     ]
    },
    {
     "name": "stdout",
     "output_type": "stream",
     "text": [
      "Epoch:\t 46 Val Loss:\t 0.019134902615301222\n",
      "Epoch:\t 0 Val Loss:\t 0.019227245036627205\n",
      "Epoch:\t 1 Val Loss:\t 0.019193431765740513\n",
      "Epoch:\t 2 Val Loss:\t 0.019183930728500206\n",
      "Epoch:\t 3 Val Loss:\t 0.01918985933125953\n",
      "Epoch:\t 4 Val Loss:\t 0.01918033506554777\n",
      "Epoch:\t 5 Val Loss:\t 0.019180727717199093\n",
      "Epoch:\t 6 Val Loss:\t 0.01917854624514447\n",
      "Epoch:\t 7 Val Loss:\t 0.019174651324411707\n",
      "Epoch:\t 8 Val Loss:\t 0.019174196551436613\n",
      "Epoch:\t 9 Val Loss:\t 0.0191766184274144\n",
      "Epoch:\t 10 Val Loss:\t 0.019181482846298954\n",
      "Epoch:\t 11 Val Loss:\t 0.019172598842966022\n",
      "Epoch:\t 12 Val Loss:\t 0.01917358587517063\n",
      "Epoch:\t 13 Val Loss:\t 0.019176468190434916\n",
      "Epoch:\t 14 Val Loss:\t 0.01917810859812669\n",
      "Epoch:\t 15 Val Loss:\t 0.019174795739408917\n",
      "Epoch:\t 16 Val Loss:\t 0.019177202661794696\n",
      "Epoch:\t 17 Val Loss:\t 0.019175869019759373\n",
      "Epoch:\t 18 Val Loss:\t 0.01915744072646854\n",
      "Epoch:\t 19 Val Loss:\t 0.01915732597596014\n",
      "Epoch:\t 20 Val Loss:\t 0.019155554898251853\n",
      "Epoch:\t 21 Val Loss:\t 0.01915285767024157\n",
      "Epoch:\t 22 Val Loss:\t 0.019155461526001807\n",
      "Epoch:\t 23 Val Loss:\t 0.01915236074721751\n",
      "Epoch:\t 24 Val Loss:\t 0.019151675440825078\n",
      "Epoch:\t 25 Val Loss:\t 0.01915136170295163\n",
      "Epoch:\t 26 Val Loss:\t 0.01915561762874599\n",
      "Epoch:\t 27 Val Loss:\t 0.019152071144273995\n",
      "Epoch:\t 28 Val Loss:\t 0.019140976255200694\n",
      "Epoch:\t 29 Val Loss:\t 0.019139017327080544\n",
      "Epoch:\t 30 Val Loss:\t 0.019141920568184735\n",
      "Epoch:\t 31 Val Loss:\t 0.019139587406763074\n",
      "Epoch:\t 32 Val Loss:\t 0.01913970438260812\n",
      "Epoch:\t 33 Val Loss:\t 0.019137835906287714\n",
      "Epoch:\t 34 Val Loss:\t 0.01913907391452125\n",
      "Epoch:\t 35 Val Loss:\t 0.019146461813271183\n",
      "Epoch:\t 36 Val Loss:\t 0.019131130374021053\n",
      "Epoch:\t 37 Val Loss:\t 0.019132834571093164\n",
      "Epoch:\t 38 Val Loss:\t 0.01913050260747233\n",
      "Epoch:\t 39 Val Loss:\t 0.019131597188786233\n",
      "Epoch:\t 40 Val Loss:\t 0.019131771028820195\n",
      "Epoch:\t 41 Val Loss:\t 0.019129405136517987\n",
      "Epoch:\t 42 Val Loss:\t 0.01913267651976054\n",
      "Epoch:\t 43 Val Loss:\t 0.01912458001425705\n",
      "Epoch:\t 44 Val Loss:\t 0.019126189611549476\n",
      "Epoch:\t 45 Val Loss:\t 0.019126974746749213\n",
      "Epoch:\t 46 Val Loss:\t 0.01912610260504868\n",
      "Epoch:\t 47 Val Loss:\t 0.019125675572838053\n",
      "Epoch:\t 48 Val Loss:\t 0.019126795773900876\n",
      "Epoch:\t 49 Val Loss:\t 0.019123782542681735\n",
      "Epoch:\t 50 Val Loss:\t 0.01912151169933452\n",
      "Epoch:\t 51 Val Loss:\t 0.019123759529338764\n",
      "Epoch:\t 52 Val Loss:\t 0.01912342651800679\n",
      "Epoch:\t 53 Val Loss:\t 0.019121762845087938\n",
      "Epoch:\t 54 Val Loss:\t 0.019121167698071852\n",
      "Epoch:\t 55 Val Loss:\t 0.019122066809749854\n",
      "Epoch:\t 56 Val Loss:\t 0.019121530202546578\n",
      "Epoch:\t 57 Val Loss:\t 0.01912360911993218\n",
      "Epoch:\t 58 Val Loss:\t 0.019120793042080697\n",
      "Epoch:\t 59 Val Loss:\t 0.0191224616613332\n",
      "Epoch:\t 60 Val Loss:\t 0.019120028808937817\n",
      "Epoch:\t 61 Val Loss:\t 0.019118990069141722\n",
      "Epoch:\t 62 Val Loss:\t 0.019119346322998776\n",
      "Epoch:\t 63 Val Loss:\t 0.019119708747475976\n",
      "Epoch:\t 64 Val Loss:\t 0.01912160375973321\n",
      "Epoch:\t 65 Val Loss:\t 0.019121191828137072\n",
      "Epoch:\t 66 Val Loss:\t 0.019120679491535217\n",
      "Epoch:\t 67 Val Loss:\t 0.019119729159818234\n",
      "Epoch:\t 68 Val Loss:\t 0.01912026771182628\n",
      "Epoch:\t 69 Val Loss:\t 0.019120198454506784\n",
      "Epoch:\t 70 Val Loss:\t 0.019122611104283163\n"
     ]
    },
    {
     "name": "stderr",
     "output_type": "stream",
     "text": [
      "[I 2025-09-29 17:01:01,953] Trial 23 finished with value: 0.019118990069141722 and parameters: {'lr': 0.001, 'weight_decay': 1e-05, 'scheduler_factor': 0.5, 'scheduler_patience': 5, 'batch_size': 64, 'dropout': 0.05, 'hidden_dims': 128}. Best is trial 8 with value: 0.019115196081788043.\n"
     ]
    },
    {
     "name": "stdout",
     "output_type": "stream",
     "text": [
      "Epoch:\t 71 Val Loss:\t 0.01912318852211733\n"
     ]
    },
    {
     "name": "stderr",
     "output_type": "stream",
     "text": [
      "[I 2025-09-29 17:01:06,748] Trial 24 pruned. \n"
     ]
    },
    {
     "name": "stdout",
     "output_type": "stream",
     "text": [
      "Epoch:\t 0 Val Loss:\t 0.01983362584181878\n"
     ]
    },
    {
     "name": "stderr",
     "output_type": "stream",
     "text": [
      "[I 2025-09-29 17:01:10,289] Trial 25 pruned. \n"
     ]
    },
    {
     "name": "stdout",
     "output_type": "stream",
     "text": [
      "Epoch:\t 0 Val Loss:\t 0.019339061328117996\n"
     ]
    },
    {
     "name": "stderr",
     "output_type": "stream",
     "text": [
      "[I 2025-09-29 17:01:13,320] Trial 26 pruned. \n"
     ]
    },
    {
     "name": "stdout",
     "output_type": "stream",
     "text": [
      "Epoch:\t 0 Val Loss:\t 0.021745484027751658\n",
      "Epoch:\t 0 Val Loss:\t 0.019315141099124057\n"
     ]
    },
    {
     "name": "stderr",
     "output_type": "stream",
     "text": [
      "[I 2025-09-29 17:01:22,830] Trial 27 pruned. \n"
     ]
    },
    {
     "name": "stdout",
     "output_type": "stream",
     "text": [
      "Epoch:\t 1 Val Loss:\t 0.019270955167118367\n"
     ]
    },
    {
     "name": "stderr",
     "output_type": "stream",
     "text": [
      "[I 2025-09-29 17:01:27,558] Trial 28 pruned. \n"
     ]
    },
    {
     "name": "stdout",
     "output_type": "stream",
     "text": [
      "Epoch:\t 0 Val Loss:\t 0.020729033063472322\n"
     ]
    },
    {
     "name": "stderr",
     "output_type": "stream",
     "text": [
      "[I 2025-09-29 17:01:30,564] Trial 29 pruned. \n"
     ]
    },
    {
     "name": "stdout",
     "output_type": "stream",
     "text": [
      "Epoch:\t 0 Val Loss:\t 0.01961819215049577\n"
     ]
    },
    {
     "name": "stderr",
     "output_type": "stream",
     "text": [
      "[I 2025-09-29 17:01:34,121] Trial 30 pruned. \n"
     ]
    },
    {
     "name": "stdout",
     "output_type": "stream",
     "text": [
      "Epoch:\t 0 Val Loss:\t 0.021064048710860026\n",
      "Epoch:\t 0 Val Loss:\t 0.019217650495249036\n",
      "Epoch:\t 1 Val Loss:\t 0.019197771380840868\n",
      "Epoch:\t 2 Val Loss:\t 0.0191857535370425\n",
      "Epoch:\t 3 Val Loss:\t 0.019180839109432885\n",
      "Epoch:\t 4 Val Loss:\t 0.019178236051485834\n",
      "Epoch:\t 5 Val Loss:\t 0.019178037197089652\n",
      "Epoch:\t 6 Val Loss:\t 0.01917041332995518\n",
      "Epoch:\t 7 Val Loss:\t 0.01917506638834349\n",
      "Epoch:\t 8 Val Loss:\t 0.01917637608517275\n",
      "Epoch:\t 9 Val Loss:\t 0.019172443445605453\n",
      "Epoch:\t 10 Val Loss:\t 0.01916856271470451\n",
      "Epoch:\t 11 Val Loss:\t 0.0191729609290753\n",
      "Epoch:\t 12 Val Loss:\t 0.01917020223485614\n",
      "Epoch:\t 13 Val Loss:\t 0.01914495504955808\n",
      "Epoch:\t 14 Val Loss:\t 0.0191441532343332\n",
      "Epoch:\t 15 Val Loss:\t 0.01914147644244822\n",
      "Epoch:\t 16 Val Loss:\t 0.019143046872842746\n",
      "Epoch:\t 17 Val Loss:\t 0.01913990527369813\n",
      "Epoch:\t 18 Val Loss:\t 0.01913848904610649\n",
      "Epoch:\t 19 Val Loss:\t 0.019143708938872198\n",
      "Epoch:\t 20 Val Loss:\t 0.01914145705602021\n",
      "Epoch:\t 21 Val Loss:\t 0.019139915403114872\n",
      "Epoch:\t 22 Val Loss:\t 0.019141035956599238\n",
      "Epoch:\t 23 Val Loss:\t 0.019142126824514365\n",
      "Epoch:\t 24 Val Loss:\t 0.019140666878814102\n",
      "Epoch:\t 25 Val Loss:\t 0.019131270422666696\n",
      "Epoch:\t 26 Val Loss:\t 0.01913246893266122\n",
      "Epoch:\t 27 Val Loss:\t 0.019131117644144123\n",
      "Epoch:\t 28 Val Loss:\t 0.01912695756349637\n",
      "Epoch:\t 29 Val Loss:\t 0.019127862650124887\n",
      "Epoch:\t 30 Val Loss:\t 0.01912917664357814\n",
      "Epoch:\t 31 Val Loss:\t 0.019127675048353988\n",
      "Epoch:\t 32 Val Loss:\t 0.019129819566955832\n",
      "Epoch:\t 33 Val Loss:\t 0.01912679718791124\n",
      "Epoch:\t 34 Val Loss:\t 0.019127917094929094\n",
      "Epoch:\t 35 Val Loss:\t 0.019124045548609227\n",
      "Epoch:\t 36 Val Loss:\t 0.019124891701923576\n",
      "Epoch:\t 37 Val Loss:\t 0.019123920392476398\n",
      "Epoch:\t 38 Val Loss:\t 0.01912493359684529\n",
      "Epoch:\t 39 Val Loss:\t 0.019124168175090488\n",
      "Epoch:\t 40 Val Loss:\t 0.01912368027178773\n",
      "Epoch:\t 41 Val Loss:\t 0.019125695423035518\n",
      "Epoch:\t 42 Val Loss:\t 0.019122397801684766\n",
      "Epoch:\t 43 Val Loss:\t 0.01912236936688769\n",
      "Epoch:\t 44 Val Loss:\t 0.019122245030729526\n",
      "Epoch:\t 45 Val Loss:\t 0.01912352590736821\n",
      "Epoch:\t 46 Val Loss:\t 0.01912052508333327\n",
      "Epoch:\t 47 Val Loss:\t 0.019123196781862115\n",
      "Epoch:\t 48 Val Loss:\t 0.019120979408754627\n",
      "Epoch:\t 49 Val Loss:\t 0.019123373819094583\n",
      "Epoch:\t 50 Val Loss:\t 0.0191276931991445\n",
      "Epoch:\t 51 Val Loss:\t 0.01912286526724065\n",
      "Epoch:\t 52 Val Loss:\t 0.01912304286283424\n",
      "Epoch:\t 53 Val Loss:\t 0.019123117726466993\n",
      "Epoch:\t 54 Val Loss:\t 0.01912516219302519\n",
      "Epoch:\t 55 Val Loss:\t 0.019122548574323373\n"
     ]
    },
    {
     "name": "stderr",
     "output_type": "stream",
     "text": [
      "[I 2025-09-29 17:06:20,317] Trial 31 finished with value: 0.01912052508333327 and parameters: {'lr': 0.001, 'weight_decay': 1e-05, 'scheduler_factor': 0.3, 'scheduler_patience': 5, 'batch_size': 64, 'dropout': 0.05, 'hidden_dims': 128}. Best is trial 8 with value: 0.019115196081788043.\n"
     ]
    },
    {
     "name": "stdout",
     "output_type": "stream",
     "text": [
      "Epoch:\t 56 Val Loss:\t 0.019122638702349336\n",
      "Epoch:\t 0 Val Loss:\t 0.019211210922332123\n",
      "Epoch:\t 1 Val Loss:\t 0.019190601018612564\n",
      "Epoch:\t 2 Val Loss:\t 0.019190659426537558\n",
      "Epoch:\t 3 Val Loss:\t 0.019186631242895432\n",
      "Epoch:\t 4 Val Loss:\t 0.01917992515280817\n",
      "Epoch:\t 5 Val Loss:\t 0.019171479431068006\n",
      "Epoch:\t 6 Val Loss:\t 0.01917929339935561\n",
      "Epoch:\t 7 Val Loss:\t 0.019177090645796396\n",
      "Epoch:\t 8 Val Loss:\t 0.019175783240788218\n",
      "Epoch:\t 9 Val Loss:\t 0.019177320163028918\n",
      "Epoch:\t 10 Val Loss:\t 0.019168378504180173\n",
      "Epoch:\t 11 Val Loss:\t 0.01917463156502225\n",
      "Epoch:\t 12 Val Loss:\t 0.01917375411321552\n",
      "Epoch:\t 13 Val Loss:\t 0.019173604227036012\n",
      "Epoch:\t 14 Val Loss:\t 0.019169593408262738\n",
      "Epoch:\t 15 Val Loss:\t 0.019172934923392358\n",
      "Epoch:\t 16 Val Loss:\t 0.01917443270413978\n",
      "Epoch:\t 17 Val Loss:\t 0.019147512112169574\n",
      "Epoch:\t 18 Val Loss:\t 0.019157053553566845\n",
      "Epoch:\t 19 Val Loss:\t 0.019152210271326492\n",
      "Epoch:\t 20 Val Loss:\t 0.01915578049776759\n",
      "Epoch:\t 21 Val Loss:\t 0.019155991170176988\n",
      "Epoch:\t 22 Val Loss:\t 0.01915259635831579\n",
      "Epoch:\t 23 Val Loss:\t 0.01915840805874131\n",
      "Epoch:\t 24 Val Loss:\t 0.019140124492870468\n",
      "Epoch:\t 25 Val Loss:\t 0.01914213385348637\n",
      "Epoch:\t 26 Val Loss:\t 0.01914272186018254\n",
      "Epoch:\t 27 Val Loss:\t 0.01914064842154657\n",
      "Epoch:\t 28 Val Loss:\t 0.019138282573567318\n",
      "Epoch:\t 29 Val Loss:\t 0.01913707373091909\n",
      "Epoch:\t 30 Val Loss:\t 0.019137427092973603\n",
      "Epoch:\t 31 Val Loss:\t 0.019140911116132333\n",
      "Epoch:\t 32 Val Loss:\t 0.019136081566981156\n",
      "Epoch:\t 33 Val Loss:\t 0.019138968908036093\n",
      "Epoch:\t 34 Val Loss:\t 0.019137607608476975\n",
      "Epoch:\t 35 Val Loss:\t 0.019141031599977095\n",
      "Epoch:\t 36 Val Loss:\t 0.019132893958447358\n",
      "Epoch:\t 37 Val Loss:\t 0.01913021711467209\n",
      "Epoch:\t 38 Val Loss:\t 0.01913136719805483\n",
      "Epoch:\t 39 Val Loss:\t 0.01913417839443552\n",
      "Epoch:\t 40 Val Loss:\t 0.019130160972623027\n",
      "Epoch:\t 41 Val Loss:\t 0.019129945196587544\n",
      "Epoch:\t 42 Val Loss:\t 0.019129753216573547\n"
     ]
    },
    {
     "name": "stderr",
     "output_type": "stream",
     "text": [
      "[I 2025-09-29 17:10:00,267] Trial 32 pruned. \n"
     ]
    },
    {
     "name": "stdout",
     "output_type": "stream",
     "text": [
      "Epoch:\t 43 Val Loss:\t 0.019130317419680895\n",
      "Epoch:\t 0 Val Loss:\t 0.019214786792382622\n",
      "Epoch:\t 1 Val Loss:\t 0.019187689950723185\n",
      "Epoch:\t 2 Val Loss:\t 0.01918301981610575\n",
      "Epoch:\t 3 Val Loss:\t 0.019179398443677435\n",
      "Epoch:\t 4 Val Loss:\t 0.019178460529955126\n",
      "Epoch:\t 5 Val Loss:\t 0.019181331808803666\n",
      "Epoch:\t 6 Val Loss:\t 0.019174507435884714\n",
      "Epoch:\t 7 Val Loss:\t 0.019175505700174695\n",
      "Epoch:\t 8 Val Loss:\t 0.019175693460859605\n",
      "Epoch:\t 9 Val Loss:\t 0.01917421991395798\n",
      "Epoch:\t 10 Val Loss:\t 0.019171876736629585\n",
      "Epoch:\t 11 Val Loss:\t 0.019174365274871912\n",
      "Epoch:\t 12 Val Loss:\t 0.01917194855386998\n",
      "Epoch:\t 13 Val Loss:\t 0.0191717921565403\n",
      "Epoch:\t 14 Val Loss:\t 0.019170731717955216\n",
      "Epoch:\t 15 Val Loss:\t 0.019169379270014483\n",
      "Epoch:\t 16 Val Loss:\t 0.019173291156709505\n",
      "Epoch:\t 17 Val Loss:\t 0.019173535554563314\n",
      "Epoch:\t 18 Val Loss:\t 0.019183108903082804\n",
      "Epoch:\t 19 Val Loss:\t 0.019169222177571152\n",
      "Epoch:\t 20 Val Loss:\t 0.019167016717068552\n",
      "Epoch:\t 21 Val Loss:\t 0.01917616121829836\n",
      "Epoch:\t 22 Val Loss:\t 0.019171763006089665\n",
      "Epoch:\t 23 Val Loss:\t 0.019171757037625435\n",
      "Epoch:\t 24 Val Loss:\t 0.019178009344977275\n",
      "Epoch:\t 25 Val Loss:\t 0.019170311231488275\n"
     ]
    },
    {
     "name": "stderr",
     "output_type": "stream",
     "text": [
      "[I 2025-09-29 17:12:10,866] Trial 33 pruned. \n"
     ]
    },
    {
     "name": "stdout",
     "output_type": "stream",
     "text": [
      "Epoch:\t 26 Val Loss:\t 0.019170188557440918\n"
     ]
    },
    {
     "name": "stderr",
     "output_type": "stream",
     "text": [
      "[I 2025-09-29 17:12:27,624] Trial 34 pruned. \n"
     ]
    },
    {
     "name": "stdout",
     "output_type": "stream",
     "text": [
      "Epoch:\t 0 Val Loss:\t 0.02085196365662169\n"
     ]
    },
    {
     "name": "stderr",
     "output_type": "stream",
     "text": [
      "[I 2025-09-29 17:12:32,865] Trial 35 pruned. \n"
     ]
    },
    {
     "name": "stdout",
     "output_type": "stream",
     "text": [
      "Epoch:\t 0 Val Loss:\t 0.024061567645716722\n"
     ]
    },
    {
     "name": "stderr",
     "output_type": "stream",
     "text": [
      "[I 2025-09-29 17:12:35,801] Trial 36 pruned. \n"
     ]
    },
    {
     "name": "stdout",
     "output_type": "stream",
     "text": [
      "Epoch:\t 0 Val Loss:\t 0.019393208189759144\n"
     ]
    },
    {
     "name": "stderr",
     "output_type": "stream",
     "text": [
      "[I 2025-09-29 17:12:38,850] Trial 37 pruned. \n"
     ]
    },
    {
     "name": "stdout",
     "output_type": "stream",
     "text": [
      "Epoch:\t 0 Val Loss:\t 0.019773995577422685\n"
     ]
    },
    {
     "name": "stderr",
     "output_type": "stream",
     "text": [
      "[I 2025-09-29 17:12:43,735] Trial 38 pruned. \n"
     ]
    },
    {
     "name": "stdout",
     "output_type": "stream",
     "text": [
      "Epoch:\t 0 Val Loss:\t 0.029100413761224363\n"
     ]
    },
    {
     "name": "stderr",
     "output_type": "stream",
     "text": [
      "[I 2025-09-29 17:12:51,217] Trial 39 pruned. \n"
     ]
    },
    {
     "name": "stdout",
     "output_type": "stream",
     "text": [
      "Epoch:\t 0 Val Loss:\t 0.021470050659902002\n"
     ]
    },
    {
     "name": "stderr",
     "output_type": "stream",
     "text": [
      "[I 2025-09-29 17:13:10,071] Trial 40 pruned. \n"
     ]
    },
    {
     "name": "stdout",
     "output_type": "stream",
     "text": [
      "Epoch:\t 0 Val Loss:\t 0.01939644215469884\n",
      "Epoch:\t 0 Val Loss:\t 0.019216892233273004\n",
      "Epoch:\t 1 Val Loss:\t 0.01919377055311023\n",
      "Epoch:\t 2 Val Loss:\t 0.019184317731677412\n",
      "Epoch:\t 3 Val Loss:\t 0.019181561435762527\n",
      "Epoch:\t 4 Val Loss:\t 0.01918042077208873\n",
      "Epoch:\t 5 Val Loss:\t 0.019176606494269603\n",
      "Epoch:\t 6 Val Loss:\t 0.0191755349133261\n",
      "Epoch:\t 7 Val Loss:\t 0.019178878714871558\n",
      "Epoch:\t 8 Val Loss:\t 0.01917079879588259\n",
      "Epoch:\t 9 Val Loss:\t 0.01917411605176179\n",
      "Epoch:\t 10 Val Loss:\t 0.01917643595143106\n",
      "Epoch:\t 11 Val Loss:\t 0.019175252895013095\n",
      "Epoch:\t 12 Val Loss:\t 0.019172258538886412\n",
      "Epoch:\t 13 Val Loss:\t 0.019172228560893775\n",
      "Epoch:\t 14 Val Loss:\t 0.019174461818915845\n",
      "Epoch:\t 15 Val Loss:\t 0.01914498073092672\n",
      "Epoch:\t 16 Val Loss:\t 0.019144255987914995\n",
      "Epoch:\t 17 Val Loss:\t 0.019141845115380998\n",
      "Epoch:\t 18 Val Loss:\t 0.01914131793275138\n",
      "Epoch:\t 19 Val Loss:\t 0.019141825783005374\n",
      "Epoch:\t 20 Val Loss:\t 0.019142823658118188\n",
      "Epoch:\t 21 Val Loss:\t 0.019142463775184082\n",
      "Epoch:\t 22 Val Loss:\t 0.019143727969635524\n",
      "Epoch:\t 23 Val Loss:\t 0.019142228747851545\n",
      "Epoch:\t 24 Val Loss:\t 0.019128280866391702\n",
      "Epoch:\t 25 Val Loss:\t 0.019127981001062583\n",
      "Epoch:\t 26 Val Loss:\t 0.01912756786247671\n",
      "Epoch:\t 27 Val Loss:\t 0.019125816640911654\n",
      "Epoch:\t 28 Val Loss:\t 0.019130136546350745\n",
      "Epoch:\t 29 Val Loss:\t 0.019127934853299302\n",
      "Epoch:\t 30 Val Loss:\t 0.019128899008372946\n",
      "Epoch:\t 31 Val Loss:\t 0.019128450999513172\n",
      "Epoch:\t 32 Val Loss:\t 0.01912786724349647\n",
      "Epoch:\t 33 Val Loss:\t 0.019126339472324366\n",
      "Epoch:\t 34 Val Loss:\t 0.019127424040974676\n",
      "Epoch:\t 35 Val Loss:\t 0.01912154393185209\n",
      "Epoch:\t 36 Val Loss:\t 0.019125420084516113\n",
      "Epoch:\t 37 Val Loss:\t 0.019122216649444312\n",
      "Epoch:\t 38 Val Loss:\t 0.019123167866539347\n",
      "Epoch:\t 39 Val Loss:\t 0.019121725974875832\n",
      "Epoch:\t 40 Val Loss:\t 0.019121499259718892\n",
      "Epoch:\t 41 Val Loss:\t 0.019123792483996184\n",
      "Epoch:\t 42 Val Loss:\t 0.01912030607280313\n",
      "Epoch:\t 43 Val Loss:\t 0.019122922658440303\n",
      "Epoch:\t 44 Val Loss:\t 0.019121076682505744\n",
      "Epoch:\t 45 Val Loss:\t 0.01912017048564126\n",
      "Epoch:\t 46 Val Loss:\t 0.01912030908676406\n",
      "Epoch:\t 47 Val Loss:\t 0.019121802431972857\n",
      "Epoch:\t 48 Val Loss:\t 0.019120318125403695\n",
      "Epoch:\t 49 Val Loss:\t 0.01912221707429605\n",
      "Epoch:\t 50 Val Loss:\t 0.019120998260064036\n",
      "Epoch:\t 51 Val Loss:\t 0.01912005982851989\n",
      "Epoch:\t 52 Val Loss:\t 0.01912126845820173\n",
      "Epoch:\t 53 Val Loss:\t 0.019119870344644983\n",
      "Epoch:\t 54 Val Loss:\t 0.019121376161900842\n",
      "Epoch:\t 55 Val Loss:\t 0.019122227929095785\n",
      "Epoch:\t 56 Val Loss:\t 0.019121138134661\n",
      "Epoch:\t 57 Val Loss:\t 0.019125300395241396\n",
      "Epoch:\t 58 Val Loss:\t 0.019121319280415168\n",
      "Epoch:\t 59 Val Loss:\t 0.01912422282745585\n",
      "Epoch:\t 60 Val Loss:\t 0.01912156442797554\n",
      "Epoch:\t 61 Val Loss:\t 0.019120970359304514\n",
      "Epoch:\t 62 Val Loss:\t 0.019121724478705845\n"
     ]
    },
    {
     "name": "stderr",
     "output_type": "stream",
     "text": [
      "[I 2025-09-29 17:18:30,881] Trial 41 finished with value: 0.019119870344644983 and parameters: {'lr': 0.001, 'weight_decay': 1e-05, 'scheduler_factor': 0.3, 'scheduler_patience': 5, 'batch_size': 64, 'dropout': 0.05, 'hidden_dims': 128}. Best is trial 8 with value: 0.019115196081788043.\n"
     ]
    },
    {
     "name": "stdout",
     "output_type": "stream",
     "text": [
      "Epoch:\t 63 Val Loss:\t 0.019121776621959546\n",
      "Epoch:\t 0 Val Loss:\t 0.019211982859561282\n",
      "Epoch:\t 1 Val Loss:\t 0.01919464627524067\n",
      "Epoch:\t 2 Val Loss:\t 0.01918684002563349\n",
      "Epoch:\t 3 Val Loss:\t 0.01918238364116819\n",
      "Epoch:\t 4 Val Loss:\t 0.019182611307647087\n",
      "Epoch:\t 5 Val Loss:\t 0.01918602075689384\n",
      "Epoch:\t 6 Val Loss:\t 0.019174818731130933\n",
      "Epoch:\t 7 Val Loss:\t 0.019173815861577844\n",
      "Epoch:\t 8 Val Loss:\t 0.01917214833904821\n",
      "Epoch:\t 9 Val Loss:\t 0.019176585196549297\n",
      "Epoch:\t 10 Val Loss:\t 0.019176593435213652\n",
      "Epoch:\t 11 Val Loss:\t 0.019174534348566658\n",
      "Epoch:\t 12 Val Loss:\t 0.019172524952276185\n",
      "Epoch:\t 13 Val Loss:\t 0.019171959163271888\n",
      "Epoch:\t 14 Val Loss:\t 0.01917291116953173\n",
      "Epoch:\t 15 Val Loss:\t 0.019143978651619483\n",
      "Epoch:\t 16 Val Loss:\t 0.01914320432743705\n",
      "Epoch:\t 17 Val Loss:\t 0.01914238346415208\n",
      "Epoch:\t 18 Val Loss:\t 0.01913886130703651\n",
      "Epoch:\t 19 Val Loss:\t 0.01913871865198492\n",
      "Epoch:\t 20 Val Loss:\t 0.019138017008799975\n",
      "Epoch:\t 21 Val Loss:\t 0.019140478794355414\n",
      "Epoch:\t 22 Val Loss:\t 0.0191426118408793\n",
      "Epoch:\t 23 Val Loss:\t 0.019139985522029362\n",
      "Epoch:\t 24 Val Loss:\t 0.019141079792001532\n",
      "Epoch:\t 25 Val Loss:\t 0.019129278757720233\n",
      "Epoch:\t 26 Val Loss:\t 0.019128981498797066\n",
      "Epoch:\t 27 Val Loss:\t 0.019125704375731863\n",
      "Epoch:\t 28 Val Loss:\t 0.01912333735643745\n",
      "Epoch:\t 29 Val Loss:\t 0.019123049579383464\n",
      "Epoch:\t 30 Val Loss:\t 0.019129887706472025\n",
      "Epoch:\t 31 Val Loss:\t 0.019128634988422735\n",
      "Epoch:\t 32 Val Loss:\t 0.019123873729053376\n",
      "Epoch:\t 33 Val Loss:\t 0.01912403548513639\n",
      "Epoch:\t 34 Val Loss:\t 0.019123613439798702\n",
      "Epoch:\t 35 Val Loss:\t 0.01912240443283122\n",
      "Epoch:\t 36 Val Loss:\t 0.019121649325352316\n",
      "Epoch:\t 37 Val Loss:\t 0.019121899675995164\n",
      "Epoch:\t 38 Val Loss:\t 0.019120870018621137\n",
      "Epoch:\t 39 Val Loss:\t 0.0191191650637346\n",
      "Epoch:\t 40 Val Loss:\t 0.019122576242657643\n",
      "Epoch:\t 41 Val Loss:\t 0.019124356453597235\n",
      "Epoch:\t 42 Val Loss:\t 0.01912282575711011\n",
      "Epoch:\t 43 Val Loss:\t 0.01911991429571938\n",
      "Epoch:\t 44 Val Loss:\t 0.01911996407472181\n",
      "Epoch:\t 45 Val Loss:\t 0.019119676680358702\n",
      "Epoch:\t 46 Val Loss:\t 0.01911981496473453\n",
      "Epoch:\t 47 Val Loss:\t 0.01912052016672843\n",
      "Epoch:\t 48 Val Loss:\t 0.019119490149906052\n"
     ]
    },
    {
     "name": "stderr",
     "output_type": "stream",
     "text": [
      "[I 2025-09-29 17:22:46,230] Trial 42 finished with value: 0.0191191650637346 and parameters: {'lr': 0.001, 'weight_decay': 1e-05, 'scheduler_factor': 0.3, 'scheduler_patience': 5, 'batch_size': 64, 'dropout': 0.05, 'hidden_dims': 128}. Best is trial 8 with value: 0.019115196081788043.\n"
     ]
    },
    {
     "name": "stdout",
     "output_type": "stream",
     "text": [
      "Epoch:\t 49 Val Loss:\t 0.019119588552270944\n",
      "Epoch:\t 0 Val Loss:\t 0.019236626343512978\n",
      "Epoch:\t 1 Val Loss:\t 0.019188110066390773\n",
      "Epoch:\t 2 Val Loss:\t 0.019181706052375132\n",
      "Epoch:\t 3 Val Loss:\t 0.019182837049861116\n",
      "Epoch:\t 4 Val Loss:\t 0.01917619569831405\n",
      "Epoch:\t 5 Val Loss:\t 0.019176589792082976\n",
      "Epoch:\t 6 Val Loss:\t 0.019178913803517092\n",
      "Epoch:\t 7 Val Loss:\t 0.01918160874727363\n",
      "Epoch:\t 8 Val Loss:\t 0.019172824938682644\n",
      "Epoch:\t 9 Val Loss:\t 0.019177782062270304\n",
      "Epoch:\t 10 Val Loss:\t 0.019171691645051392\n",
      "Epoch:\t 11 Val Loss:\t 0.01917900258455765\n",
      "Epoch:\t 12 Val Loss:\t 0.01916918030859458\n",
      "Epoch:\t 13 Val Loss:\t 0.019178348895566657\n",
      "Epoch:\t 14 Val Loss:\t 0.01917566280991479\n",
      "Epoch:\t 15 Val Loss:\t 0.01917619641180552\n",
      "Epoch:\t 16 Val Loss:\t 0.019174519139306876\n",
      "Epoch:\t 17 Val Loss:\t 0.019170308006723053\n",
      "Epoch:\t 18 Val Loss:\t 0.01917080680212169\n",
      "Epoch:\t 19 Val Loss:\t 0.019140287560264316\n",
      "Epoch:\t 20 Val Loss:\t 0.01914146088292899\n",
      "Epoch:\t 21 Val Loss:\t 0.019138719112511228\n",
      "Epoch:\t 22 Val Loss:\t 0.01913815656556892\n",
      "Epoch:\t 23 Val Loss:\t 0.019139929124853048\n",
      "Epoch:\t 24 Val Loss:\t 0.019142753942434483\n",
      "Epoch:\t 25 Val Loss:\t 0.01914041480119759\n",
      "Epoch:\t 26 Val Loss:\t 0.019137873441344145\n",
      "Epoch:\t 27 Val Loss:\t 0.01913837809061596\n",
      "Epoch:\t 28 Val Loss:\t 0.019140765199559897\n",
      "Epoch:\t 29 Val Loss:\t 0.01912834955832326\n",
      "Epoch:\t 30 Val Loss:\t 0.019126564351862347\n",
      "Epoch:\t 31 Val Loss:\t 0.019127585634900537\n",
      "Epoch:\t 32 Val Loss:\t 0.019126788431425047\n",
      "Epoch:\t 33 Val Loss:\t 0.019127297161651846\n",
      "Epoch:\t 34 Val Loss:\t 0.01912593974413494\n",
      "Epoch:\t 35 Val Loss:\t 0.019128401471313804\n",
      "Epoch:\t 36 Val Loss:\t 0.019126632234089194\n",
      "Epoch:\t 37 Val Loss:\t 0.019126426329100055\n",
      "Epoch:\t 38 Val Loss:\t 0.019125500012857236\n",
      "Epoch:\t 39 Val Loss:\t 0.019125293782472748\n",
      "Epoch:\t 40 Val Loss:\t 0.01912569710082151\n",
      "Epoch:\t 41 Val Loss:\t 0.019122423209007818\n",
      "Epoch:\t 42 Val Loss:\t 0.019124957795016516\n",
      "Epoch:\t 43 Val Loss:\t 0.019122959636216654\n",
      "Epoch:\t 44 Val Loss:\t 0.01912408156803681\n",
      "Epoch:\t 45 Val Loss:\t 0.0191221346444106\n",
      "Epoch:\t 46 Val Loss:\t 0.019122485870314905\n",
      "Epoch:\t 47 Val Loss:\t 0.01912206114397897\n",
      "Epoch:\t 48 Val Loss:\t 0.019121310153129623\n",
      "Epoch:\t 49 Val Loss:\t 0.019122925758344518\n",
      "Epoch:\t 50 Val Loss:\t 0.019120493305936775\n",
      "Epoch:\t 51 Val Loss:\t 0.019121275286098863\n",
      "Epoch:\t 52 Val Loss:\t 0.019121664563800385\n",
      "Epoch:\t 53 Val Loss:\t 0.01912165639648518\n",
      "Epoch:\t 54 Val Loss:\t 0.019121465793725922\n",
      "Epoch:\t 55 Val Loss:\t 0.01911999772989812\n",
      "Epoch:\t 56 Val Loss:\t 0.01912055521807782\n",
      "Epoch:\t 57 Val Loss:\t 0.019120528168643344\n",
      "Epoch:\t 58 Val Loss:\t 0.019121122992426173\n",
      "Epoch:\t 59 Val Loss:\t 0.019121532553825277\n",
      "Epoch:\t 60 Val Loss:\t 0.019120624521341837\n",
      "Epoch:\t 61 Val Loss:\t 0.019119740422172942\n",
      "Epoch:\t 62 Val Loss:\t 0.019120537707267533\n",
      "Epoch:\t 63 Val Loss:\t 0.01912229838205401\n",
      "Epoch:\t 64 Val Loss:\t 0.019121175666474286\n",
      "Epoch:\t 65 Val Loss:\t 0.019121243240602544\n",
      "Epoch:\t 66 Val Loss:\t 0.01912019176174061\n",
      "Epoch:\t 67 Val Loss:\t 0.019119981539047048\n",
      "Epoch:\t 68 Val Loss:\t 0.019120038286482812\n",
      "Epoch:\t 69 Val Loss:\t 0.019120031869383793\n",
      "Epoch:\t 70 Val Loss:\t 0.019119838456981623\n"
     ]
    },
    {
     "name": "stderr",
     "output_type": "stream",
     "text": [
      "[I 2025-09-29 17:28:59,720] Trial 43 finished with value: 0.019119740422172942 and parameters: {'lr': 0.001, 'weight_decay': 1e-05, 'scheduler_factor': 0.3, 'scheduler_patience': 5, 'batch_size': 64, 'dropout': 0.05, 'hidden_dims': 128}. Best is trial 8 with value: 0.019115196081788043.\n"
     ]
    },
    {
     "name": "stdout",
     "output_type": "stream",
     "text": [
      "Epoch:\t 71 Val Loss:\t 0.0191203154454865\n"
     ]
    },
    {
     "name": "stderr",
     "output_type": "stream",
     "text": [
      "[I 2025-09-29 17:29:05,253] Trial 44 pruned. \n"
     ]
    },
    {
     "name": "stdout",
     "output_type": "stream",
     "text": [
      "Epoch:\t 0 Val Loss:\t 0.02008495818298187\n"
     ]
    },
    {
     "name": "stderr",
     "output_type": "stream",
     "text": [
      "[I 2025-09-29 17:29:08,557] Trial 45 pruned. \n"
     ]
    },
    {
     "name": "stdout",
     "output_type": "stream",
     "text": [
      "Epoch:\t 0 Val Loss:\t 0.08758311058546221\n"
     ]
    },
    {
     "name": "stderr",
     "output_type": "stream",
     "text": [
      "[I 2025-09-29 17:29:13,714] Trial 46 pruned. \n"
     ]
    },
    {
     "name": "stdout",
     "output_type": "stream",
     "text": [
      "Epoch:\t 0 Val Loss:\t 0.022018283435851077\n"
     ]
    },
    {
     "name": "stderr",
     "output_type": "stream",
     "text": [
      "[I 2025-09-29 17:29:17,595] Trial 47 pruned. \n"
     ]
    },
    {
     "name": "stdout",
     "output_type": "stream",
     "text": [
      "Epoch:\t 0 Val Loss:\t 0.019271686296741305\n",
      "Epoch:\t 0 Val Loss:\t 0.019223017835350697\n",
      "Epoch:\t 1 Val Loss:\t 0.019175582437263073\n",
      "Epoch:\t 2 Val Loss:\t 0.019161021383398157\n",
      "Epoch:\t 3 Val Loss:\t 0.019160367881428414\n",
      "Epoch:\t 4 Val Loss:\t 0.01915808395632325\n",
      "Epoch:\t 5 Val Loss:\t 0.019162549252945603\n",
      "Epoch:\t 6 Val Loss:\t 0.019163819927196825\n",
      "Epoch:\t 7 Val Loss:\t 0.01916651478446955\n",
      "Epoch:\t 8 Val Loss:\t 0.019157143387547843\n",
      "Epoch:\t 9 Val Loss:\t 0.019160687951538635\n",
      "Epoch:\t 10 Val Loss:\t 0.01915837567812021\n",
      "Epoch:\t 11 Val Loss:\t 0.019160542127395777\n",
      "Epoch:\t 12 Val Loss:\t 0.019162324846906505\n",
      "Epoch:\t 13 Val Loss:\t 0.019159124604168496\n",
      "Epoch:\t 14 Val Loss:\t 0.01915965006577021\n",
      "Epoch:\t 15 Val Loss:\t 0.019164221982881903\n",
      "Epoch:\t 16 Val Loss:\t 0.019161077509231506\n",
      "Epoch:\t 17 Val Loss:\t 0.01916162962514477\n"
     ]
    },
    {
     "name": "stderr",
     "output_type": "stream",
     "text": [
      "[I 2025-09-29 17:30:55,693] Trial 48 finished with value: 0.019157143387547843 and parameters: {'lr': 0.001, 'weight_decay': 1e-06, 'scheduler_factor': 0.3, 'scheduler_patience': 20, 'batch_size': 64, 'dropout': 0.05, 'hidden_dims': 128}. Best is trial 8 with value: 0.019115196081788043.\n"
     ]
    },
    {
     "name": "stdout",
     "output_type": "stream",
     "text": [
      "Epoch:\t 18 Val Loss:\t 0.019162062090701027\n",
      "Epoch:\t 0 Val Loss:\t 0.0192185548221713\n"
     ]
    },
    {
     "name": "stderr",
     "output_type": "stream",
     "text": [
      "[I 2025-09-29 17:31:12,022] Trial 49 pruned. \n"
     ]
    },
    {
     "name": "stdout",
     "output_type": "stream",
     "text": [
      "Epoch:\t 1 Val Loss:\t 0.019207808973394157\n",
      "Training model with best parameters on train+validation ...\n"
     ]
    },
    {
     "name": "stderr",
     "output_type": "stream",
     "text": [
      "100%|███████████████████████████████████████████████████████████████████████████████████████████████████████████████████████████████████████████████████| 557340/557340 [05:28<00:00, 1696.18it/s]\n",
      "100%|███████████████████████████████████████████████████████████████████████████████████████████████████████████████████████████████████████████████████| 557340/557340 [01:38<00:00, 5630.87it/s]\n"
     ]
    },
    {
     "name": "stdout",
     "output_type": "stream",
     "text": [
      "Getting test set predictions and saving results ...\n"
     ]
    },
    {
     "name": "stderr",
     "output_type": "stream",
     "text": [
      "100%|██████████████████████████████████████████████████████████████████████████████████████████████████████████████████████████████████████████████████████████| 410/410 [00:01<00:00, 257.06it/s]\n"
     ]
    }
   ],
   "source": [
    "train_different_fs(\n",
    "        adata_path=\"./data/feature_selection/sciplex_rand.h5ad\",\n",
    "        run_name=\"mlp_random_fs\",\n",
    "        res_savename=\"./results/feature_selection/mlp_random_fs_res.pkl\",\n",
    "    )"
   ]
  },
  {
   "cell_type": "code",
   "execution_count": 4,
   "id": "8ca7ec74-3186-4d95-a59a-10cdd5e4e620",
   "metadata": {},
   "outputs": [
    {
     "name": "stdout",
     "output_type": "stream",
     "text": [
      "Loading Datasets ...\n"
     ]
    },
    {
     "name": "stderr",
     "output_type": "stream",
     "text": [
      "100%|███████████████████████████████████████████████████████████████████████████████████████████████████████████████████████████████████████████████████| 557340/557340 [04:18<00:00, 2158.74it/s]\n",
      "100%|███████████████████████████████████████████████████████████████████████████████████████████████████████████████████████████████████████████████████| 557340/557340 [01:42<00:00, 5418.30it/s]\n",
      "[I 2025-09-29 17:47:56,209] A new study created in RDB with name: mlp_seurat_fs\n"
     ]
    },
    {
     "name": "stdout",
     "output_type": "stream",
     "text": [
      "Optimizing Hyperparameters with Optuna ...\n",
      "Epoch:\t 0 Val Loss:\t 0.025905494079279195\n",
      "Epoch:\t 1 Val Loss:\t 0.02498840981390645\n",
      "Epoch:\t 2 Val Loss:\t 0.024739733717155123\n",
      "Epoch:\t 3 Val Loss:\t 0.024600368208244867\n",
      "Epoch:\t 4 Val Loss:\t 0.024529192012908218\n",
      "Epoch:\t 5 Val Loss:\t 0.02442842612104643\n",
      "Epoch:\t 6 Val Loss:\t 0.02441741313700993\n",
      "Epoch:\t 7 Val Loss:\t 0.024403982057959895\n",
      "Epoch:\t 8 Val Loss:\t 0.024409086880767615\n",
      "Epoch:\t 9 Val Loss:\t 0.024353222969056766\n",
      "Epoch:\t 10 Val Loss:\t 0.02433185605305229\n",
      "Epoch:\t 11 Val Loss:\t 0.02436334373417526\n",
      "Epoch:\t 12 Val Loss:\t 0.024313513999258924\n",
      "Epoch:\t 13 Val Loss:\t 0.02429296408719921\n",
      "Epoch:\t 14 Val Loss:\t 0.02427116843309087\n",
      "Epoch:\t 15 Val Loss:\t 0.024271550866679543\n",
      "Epoch:\t 16 Val Loss:\t 0.024245876777815527\n",
      "Epoch:\t 17 Val Loss:\t 0.02424350927042809\n",
      "Epoch:\t 18 Val Loss:\t 0.02423804706623059\n",
      "Epoch:\t 19 Val Loss:\t 0.02426377281187685\n",
      "Epoch:\t 20 Val Loss:\t 0.02425482628290832\n",
      "Epoch:\t 21 Val Loss:\t 0.024260584872542464\n",
      "Epoch:\t 22 Val Loss:\t 0.024287180245372353\n",
      "Epoch:\t 23 Val Loss:\t 0.024279245590003024\n",
      "Epoch:\t 24 Val Loss:\t 0.024259868449273667\n",
      "Epoch:\t 25 Val Loss:\t 0.02426780512295901\n",
      "Epoch:\t 26 Val Loss:\t 0.024261644907896767\n",
      "Epoch:\t 27 Val Loss:\t 0.024249759518384102\n"
     ]
    },
    {
     "name": "stderr",
     "output_type": "stream",
     "text": [
      "[I 2025-09-29 17:50:47,236] Trial 0 finished with value: 0.02423804706623059 and parameters: {'lr': 1e-05, 'weight_decay': 0.0001, 'scheduler_factor': 0.1, 'scheduler_patience': 5, 'batch_size': 64, 'dropout': 0.1, 'hidden_dims': 1024}. Best is trial 0 with value: 0.02423804706623059.\n"
     ]
    },
    {
     "name": "stdout",
     "output_type": "stream",
     "text": [
      "Epoch:\t 28 Val Loss:\t 0.024247057543493464\n",
      "Epoch:\t 0 Val Loss:\t 0.05719297277145131\n",
      "Epoch:\t 1 Val Loss:\t 0.039594200806439134\n",
      "Epoch:\t 2 Val Loss:\t 0.03289268632028922\n",
      "Epoch:\t 3 Val Loss:\t 0.030252460647768122\n",
      "Epoch:\t 4 Val Loss:\t 0.02892015867679446\n",
      "Epoch:\t 5 Val Loss:\t 0.02825295403772807\n",
      "Epoch:\t 6 Val Loss:\t 0.027808474026334826\n",
      "Epoch:\t 7 Val Loss:\t 0.02746659580458055\n",
      "Epoch:\t 8 Val Loss:\t 0.027252691935284904\n",
      "Epoch:\t 9 Val Loss:\t 0.027055166707169717\n",
      "Epoch:\t 10 Val Loss:\t 0.026887382191371142\n",
      "Epoch:\t 11 Val Loss:\t 0.026733074624969707\n",
      "Epoch:\t 12 Val Loss:\t 0.026609592182987935\n",
      "Epoch:\t 13 Val Loss:\t 0.026478781969514736\n",
      "Epoch:\t 14 Val Loss:\t 0.02635523007098806\n",
      "Epoch:\t 15 Val Loss:\t 0.02625541580012382\n",
      "Epoch:\t 16 Val Loss:\t 0.026164164165257714\n",
      "Epoch:\t 17 Val Loss:\t 0.026070998615988734\n",
      "Epoch:\t 18 Val Loss:\t 0.025973050940552515\n",
      "Epoch:\t 19 Val Loss:\t 0.02592699952709135\n",
      "Epoch:\t 20 Val Loss:\t 0.02586609572950971\n",
      "Epoch:\t 21 Val Loss:\t 0.02578698584764469\n",
      "Epoch:\t 22 Val Loss:\t 0.025731080558916833\n",
      "Epoch:\t 23 Val Loss:\t 0.025663196603560975\n",
      "Epoch:\t 24 Val Loss:\t 0.02562270867968201\n",
      "Epoch:\t 25 Val Loss:\t 0.02556905443547564\n",
      "Epoch:\t 26 Val Loss:\t 0.025518811713475798\n",
      "Epoch:\t 27 Val Loss:\t 0.025498437958052348\n",
      "Epoch:\t 28 Val Loss:\t 0.025445039488989577\n",
      "Epoch:\t 29 Val Loss:\t 0.02541201604523725\n",
      "Epoch:\t 30 Val Loss:\t 0.025373453914721115\n",
      "Epoch:\t 31 Val Loss:\t 0.025353529614923168\n",
      "Epoch:\t 32 Val Loss:\t 0.02530031043573193\n",
      "Epoch:\t 33 Val Loss:\t 0.025280295474223283\n",
      "Epoch:\t 34 Val Loss:\t 0.025234013921327014\n",
      "Epoch:\t 35 Val Loss:\t 0.025225513412440833\n",
      "Epoch:\t 36 Val Loss:\t 0.025198736534162956\n",
      "Epoch:\t 37 Val Loss:\t 0.02517904127481784\n",
      "Epoch:\t 38 Val Loss:\t 0.02516167336570815\n",
      "Epoch:\t 39 Val Loss:\t 0.025139180681604402\n",
      "Epoch:\t 40 Val Loss:\t 0.02511090221712052\n",
      "Epoch:\t 41 Val Loss:\t 0.025103407543104975\n",
      "Epoch:\t 42 Val Loss:\t 0.025088600152357116\n",
      "Epoch:\t 43 Val Loss:\t 0.02507455702806184\n",
      "Epoch:\t 44 Val Loss:\t 0.025057581907763436\n",
      "Epoch:\t 45 Val Loss:\t 0.025045173047986594\n",
      "Epoch:\t 46 Val Loss:\t 0.025035832683003047\n",
      "Epoch:\t 47 Val Loss:\t 0.025040842566756007\n",
      "Epoch:\t 48 Val Loss:\t 0.025005564632264162\n",
      "Epoch:\t 49 Val Loss:\t 0.025020022946869593\n",
      "Epoch:\t 50 Val Loss:\t 0.024989318487674654\n",
      "Epoch:\t 51 Val Loss:\t 0.024977798010119855\n",
      "Epoch:\t 52 Val Loss:\t 0.024960903037646646\n",
      "Epoch:\t 53 Val Loss:\t 0.024942417136900794\n",
      "Epoch:\t 54 Val Loss:\t 0.024943651769928955\n",
      "Epoch:\t 55 Val Loss:\t 0.02494171136962066\n",
      "Epoch:\t 56 Val Loss:\t 0.02492132367572718\n",
      "Epoch:\t 57 Val Loss:\t 0.024929974569953137\n",
      "Epoch:\t 58 Val Loss:\t 0.024908845988940557\n",
      "Epoch:\t 59 Val Loss:\t 0.02491707746999535\n",
      "Epoch:\t 60 Val Loss:\t 0.02490628409685089\n",
      "Epoch:\t 61 Val Loss:\t 0.024899318972202267\n",
      "Epoch:\t 62 Val Loss:\t 0.024892746707755514\n",
      "Epoch:\t 63 Val Loss:\t 0.024894582990310332\n",
      "Epoch:\t 64 Val Loss:\t 0.024877813122257952\n",
      "Epoch:\t 65 Val Loss:\t 0.024878960500853125\n",
      "Epoch:\t 66 Val Loss:\t 0.024868189204704887\n",
      "Epoch:\t 67 Val Loss:\t 0.024888370196907223\n",
      "Epoch:\t 68 Val Loss:\t 0.024864338301598125\n",
      "Epoch:\t 69 Val Loss:\t 0.024850889376248908\n",
      "Epoch:\t 70 Val Loss:\t 0.024852421396475775\n",
      "Epoch:\t 71 Val Loss:\t 0.02485029749641504\n",
      "Epoch:\t 72 Val Loss:\t 0.02483576005292271\n",
      "Epoch:\t 73 Val Loss:\t 0.02482314368236148\n",
      "Epoch:\t 74 Val Loss:\t 0.024837781624321185\n",
      "Epoch:\t 75 Val Loss:\t 0.02481913828354818\n",
      "Epoch:\t 76 Val Loss:\t 0.024820647882806024\n",
      "Epoch:\t 77 Val Loss:\t 0.02482830908075927\n",
      "Epoch:\t 78 Val Loss:\t 0.024820943913583693\n",
      "Epoch:\t 79 Val Loss:\t 0.024809550571836245\n",
      "Epoch:\t 80 Val Loss:\t 0.024799314575241694\n",
      "Epoch:\t 81 Val Loss:\t 0.02480161118209708\n",
      "Epoch:\t 82 Val Loss:\t 0.02480797674268934\n",
      "Epoch:\t 83 Val Loss:\t 0.02479273692405113\n",
      "Epoch:\t 84 Val Loss:\t 0.02479667987773989\n",
      "Epoch:\t 85 Val Loss:\t 0.024800022871479064\n",
      "Epoch:\t 86 Val Loss:\t 0.024804499733686862\n",
      "Epoch:\t 87 Val Loss:\t 0.02478215470044732\n",
      "Epoch:\t 88 Val Loss:\t 0.024789189162656544\n",
      "Epoch:\t 89 Val Loss:\t 0.024792914011631417\n",
      "Epoch:\t 90 Val Loss:\t 0.024801093063876466\n",
      "Epoch:\t 91 Val Loss:\t 0.02478530716787024\n",
      "Epoch:\t 92 Val Loss:\t 0.02477556090849548\n",
      "Epoch:\t 93 Val Loss:\t 0.024783283816033955\n",
      "Epoch:\t 94 Val Loss:\t 0.02478043548330128\n",
      "Epoch:\t 95 Val Loss:\t 0.024782366533606864\n",
      "Epoch:\t 96 Val Loss:\t 0.0247953090790776\n",
      "Epoch:\t 97 Val Loss:\t 0.02478970896180083\n",
      "Epoch:\t 98 Val Loss:\t 0.02478525784563243\n"
     ]
    },
    {
     "name": "stderr",
     "output_type": "stream",
     "text": [
      "[I 2025-09-29 17:57:19,475] Trial 1 finished with value: 0.02477556090849548 and parameters: {'lr': 1e-06, 'weight_decay': 1e-05, 'scheduler_factor': 0.8, 'scheduler_patience': 1, 'batch_size': 128, 'dropout': 0.15, 'hidden_dims': 256}. Best is trial 0 with value: 0.02423804706623059.\n"
     ]
    },
    {
     "name": "stdout",
     "output_type": "stream",
     "text": [
      "Epoch:\t 99 Val Loss:\t 0.02478446869631747\n",
      "Epoch:\t 0 Val Loss:\t 0.024365164904172745\n",
      "Epoch:\t 1 Val Loss:\t 0.024364353491845393\n",
      "Epoch:\t 2 Val Loss:\t 0.02434133580131501\n",
      "Epoch:\t 3 Val Loss:\t 0.02434917732310666\n",
      "Epoch:\t 4 Val Loss:\t 0.024369777611394795\n",
      "Epoch:\t 5 Val Loss:\t 0.024335186461565822\n",
      "Epoch:\t 6 Val Loss:\t 0.024342822638552013\n",
      "Epoch:\t 7 Val Loss:\t 0.024331075902858008\n",
      "Epoch:\t 8 Val Loss:\t 0.024320658240680786\n",
      "Epoch:\t 9 Val Loss:\t 0.024341580577964286\n",
      "Epoch:\t 10 Val Loss:\t 0.024326061503495547\n",
      "Epoch:\t 11 Val Loss:\t 0.0243156928066194\n",
      "Epoch:\t 12 Val Loss:\t 0.02431185684377217\n",
      "Epoch:\t 13 Val Loss:\t 0.02431869466437642\n",
      "Epoch:\t 14 Val Loss:\t 0.024294864566693775\n",
      "Epoch:\t 15 Val Loss:\t 0.024296968898360465\n",
      "Epoch:\t 16 Val Loss:\t 0.024329217537901415\n",
      "Epoch:\t 17 Val Loss:\t 0.02430711275264653\n",
      "Epoch:\t 18 Val Loss:\t 0.024295722985342653\n",
      "Epoch:\t 19 Val Loss:\t 0.024274527015407426\n",
      "Epoch:\t 20 Val Loss:\t 0.02427310002547519\n",
      "Epoch:\t 21 Val Loss:\t 0.024274221345556374\n",
      "Epoch:\t 22 Val Loss:\t 0.024259036089498084\n",
      "Epoch:\t 23 Val Loss:\t 0.024259841819041814\n",
      "Epoch:\t 24 Val Loss:\t 0.024258143485649548\n",
      "Epoch:\t 25 Val Loss:\t 0.024254308092837133\n",
      "Epoch:\t 26 Val Loss:\t 0.024246520899321593\n",
      "Epoch:\t 27 Val Loss:\t 0.024242076879978206\n",
      "Epoch:\t 28 Val Loss:\t 0.024245990019107346\n",
      "Epoch:\t 29 Val Loss:\t 0.024248355995400515\n",
      "Epoch:\t 30 Val Loss:\t 0.024240037451753436\n",
      "Epoch:\t 31 Val Loss:\t 0.02424301287983773\n",
      "Epoch:\t 32 Val Loss:\t 0.02423494529391423\n",
      "Epoch:\t 33 Val Loss:\t 0.024226687757908243\n",
      "Epoch:\t 34 Val Loss:\t 0.024233328172985406\n",
      "Epoch:\t 35 Val Loss:\t 0.024238203811904706\n",
      "Epoch:\t 36 Val Loss:\t 0.02423145155637622\n",
      "Epoch:\t 37 Val Loss:\t 0.02423653729615581\n",
      "Epoch:\t 38 Val Loss:\t 0.02420458846033618\n",
      "Epoch:\t 39 Val Loss:\t 0.024219658633270615\n",
      "Epoch:\t 40 Val Loss:\t 0.024225301639701543\n",
      "Epoch:\t 41 Val Loss:\t 0.024218638089101616\n",
      "Epoch:\t 42 Val Loss:\t 0.0242035172195492\n",
      "Epoch:\t 43 Val Loss:\t 0.024213551154397196\n",
      "Epoch:\t 44 Val Loss:\t 0.024210036568231227\n",
      "Epoch:\t 45 Val Loss:\t 0.02422164067281195\n",
      "Epoch:\t 46 Val Loss:\t 0.024219292605258756\n",
      "Epoch:\t 47 Val Loss:\t 0.024195966729644323\n",
      "Epoch:\t 48 Val Loss:\t 0.02420680430183671\n",
      "Epoch:\t 49 Val Loss:\t 0.024216858528248546\n",
      "Epoch:\t 50 Val Loss:\t 0.024199882937557687\n",
      "Epoch:\t 51 Val Loss:\t 0.024213463046120383\n",
      "Epoch:\t 52 Val Loss:\t 0.02420657988984652\n",
      "Epoch:\t 53 Val Loss:\t 0.02422794458657248\n",
      "Epoch:\t 54 Val Loss:\t 0.024200685038280628\n",
      "Epoch:\t 55 Val Loss:\t 0.02419662858748231\n",
      "Epoch:\t 56 Val Loss:\t 0.02422033806963642\n"
     ]
    },
    {
     "name": "stderr",
     "output_type": "stream",
     "text": [
      "[I 2025-09-29 18:19:32,273] Trial 2 finished with value: 0.024195966729644323 and parameters: {'lr': 0.001, 'weight_decay': 1e-05, 'scheduler_factor': 0.8, 'scheduler_patience': 1, 'batch_size': 16, 'dropout': 0.2, 'hidden_dims': 512}. Best is trial 2 with value: 0.024195966729644323.\n"
     ]
    },
    {
     "name": "stdout",
     "output_type": "stream",
     "text": [
      "Epoch:\t 57 Val Loss:\t 0.02420654633629245\n",
      "Epoch:\t 0 Val Loss:\t 0.02960561622900492\n",
      "Epoch:\t 1 Val Loss:\t 0.027942707894801504\n",
      "Epoch:\t 2 Val Loss:\t 0.02730286176372241\n",
      "Epoch:\t 3 Val Loss:\t 0.0268979923004909\n",
      "Epoch:\t 4 Val Loss:\t 0.026588421216053246\n",
      "Epoch:\t 5 Val Loss:\t 0.0263501495138042\n",
      "Epoch:\t 6 Val Loss:\t 0.026171515011276587\n",
      "Epoch:\t 7 Val Loss:\t 0.0260354553037344\n",
      "Epoch:\t 8 Val Loss:\t 0.02592001826121774\n",
      "Epoch:\t 9 Val Loss:\t 0.025797078578077483\n",
      "Epoch:\t 10 Val Loss:\t 0.025668326800157574\n",
      "Epoch:\t 11 Val Loss:\t 0.02558285496622566\n",
      "Epoch:\t 12 Val Loss:\t 0.025529418867278667\n",
      "Epoch:\t 13 Val Loss:\t 0.02545246455589266\n",
      "Epoch:\t 14 Val Loss:\t 0.02539803311536806\n",
      "Epoch:\t 15 Val Loss:\t 0.02535973806471934\n",
      "Epoch:\t 16 Val Loss:\t 0.025330380198026792\n",
      "Epoch:\t 17 Val Loss:\t 0.02526158432670918\n",
      "Epoch:\t 18 Val Loss:\t 0.02524305500906735\n",
      "Epoch:\t 19 Val Loss:\t 0.025194377944967268\n",
      "Epoch:\t 20 Val Loss:\t 0.025188786994915006\n",
      "Epoch:\t 21 Val Loss:\t 0.025154731712260413\n",
      "Epoch:\t 22 Val Loss:\t 0.02514760168713793\n",
      "Epoch:\t 23 Val Loss:\t 0.02511904885403052\n",
      "Epoch:\t 24 Val Loss:\t 0.02511068515724927\n",
      "Epoch:\t 25 Val Loss:\t 0.025088958205496056\n",
      "Epoch:\t 26 Val Loss:\t 0.025056011961030196\n",
      "Epoch:\t 27 Val Loss:\t 0.024990499916491982\n",
      "Epoch:\t 28 Val Loss:\t 0.02498996654887768\n",
      "Epoch:\t 29 Val Loss:\t 0.02497890274704203\n",
      "Epoch:\t 30 Val Loss:\t 0.02500144006225314\n",
      "Epoch:\t 31 Val Loss:\t 0.02498213109993613\n",
      "Epoch:\t 32 Val Loss:\t 0.024976187699482365\n",
      "Epoch:\t 33 Val Loss:\t 0.024951313759028548\n",
      "Epoch:\t 34 Val Loss:\t 0.02495838941101795\n",
      "Epoch:\t 35 Val Loss:\t 0.024935816541118483\n",
      "Epoch:\t 36 Val Loss:\t 0.02496905865891633\n",
      "Epoch:\t 37 Val Loss:\t 0.024932832563457824\n",
      "Epoch:\t 38 Val Loss:\t 0.024931389111963347\n",
      "Epoch:\t 39 Val Loss:\t 0.024963980920566335\n",
      "Epoch:\t 40 Val Loss:\t 0.02493724886700349\n",
      "Epoch:\t 41 Val Loss:\t 0.024916629093360974\n",
      "Epoch:\t 42 Val Loss:\t 0.024925760854288003\n",
      "Epoch:\t 43 Val Loss:\t 0.024959436488490087\n",
      "Epoch:\t 44 Val Loss:\t 0.02495352550841145\n",
      "Epoch:\t 45 Val Loss:\t 0.024940940623879478\n",
      "Epoch:\t 46 Val Loss:\t 0.02496357002693727\n",
      "Epoch:\t 47 Val Loss:\t 0.024937233429855547\n",
      "Epoch:\t 48 Val Loss:\t 0.024987904879972652\n",
      "Epoch:\t 49 Val Loss:\t 0.02496520445036141\n",
      "Epoch:\t 50 Val Loss:\t 0.024916907477879082\n",
      "Epoch:\t 51 Val Loss:\t 0.024910870626034833\n",
      "Epoch:\t 52 Val Loss:\t 0.02493503711208102\n",
      "Epoch:\t 53 Val Loss:\t 0.024954710864519652\n",
      "Epoch:\t 54 Val Loss:\t 0.0249232644191987\n",
      "Epoch:\t 55 Val Loss:\t 0.02490730588045363\n",
      "Epoch:\t 56 Val Loss:\t 0.024943432984280513\n",
      "Epoch:\t 57 Val Loss:\t 0.024928554838225214\n",
      "Epoch:\t 58 Val Loss:\t 0.024949170823480426\n",
      "Epoch:\t 59 Val Loss:\t 0.02493357251606472\n",
      "Epoch:\t 60 Val Loss:\t 0.024888005899934208\n",
      "Epoch:\t 61 Val Loss:\t 0.024933490469153545\n",
      "Epoch:\t 62 Val Loss:\t 0.024908986800559266\n",
      "Epoch:\t 63 Val Loss:\t 0.02491472604505239\n",
      "Epoch:\t 64 Val Loss:\t 0.02494709255776669\n",
      "Epoch:\t 65 Val Loss:\t 0.024953083552816828\n",
      "Epoch:\t 66 Val Loss:\t 0.024965903697159515\n",
      "Epoch:\t 67 Val Loss:\t 0.0249478043642462\n",
      "Epoch:\t 68 Val Loss:\t 0.024899858325270183\n",
      "Epoch:\t 69 Val Loss:\t 0.024925819605299233\n"
     ]
    },
    {
     "name": "stderr",
     "output_type": "stream",
     "text": [
      "[I 2025-09-29 18:41:36,667] Trial 3 finished with value: 0.024888005899934208 and parameters: {'lr': 1e-06, 'weight_decay': 1e-06, 'scheduler_factor': 0.5, 'scheduler_patience': 1, 'batch_size': 16, 'dropout': 0.2, 'hidden_dims': 256}. Best is trial 2 with value: 0.024195966729644323.\n"
     ]
    },
    {
     "name": "stdout",
     "output_type": "stream",
     "text": [
      "Epoch:\t 70 Val Loss:\t 0.024987654646445943\n",
      "Epoch:\t 0 Val Loss:\t 0.0492563808701167\n",
      "Epoch:\t 1 Val Loss:\t 0.035009098216000505\n",
      "Epoch:\t 2 Val Loss:\t 0.031890126970043654\n",
      "Epoch:\t 3 Val Loss:\t 0.03002229591564546\n",
      "Epoch:\t 4 Val Loss:\t 0.028782919759511326\n",
      "Epoch:\t 5 Val Loss:\t 0.028016008286414214\n",
      "Epoch:\t 6 Val Loss:\t 0.027440725736000027\n",
      "Epoch:\t 7 Val Loss:\t 0.02712640983608751\n",
      "Epoch:\t 8 Val Loss:\t 0.026887027578113804\n",
      "Epoch:\t 9 Val Loss:\t 0.026701308589037322\n",
      "Epoch:\t 10 Val Loss:\t 0.02654051364010856\n",
      "Epoch:\t 11 Val Loss:\t 0.026436798282624917\n",
      "Epoch:\t 12 Val Loss:\t 0.026323469029766525\n",
      "Epoch:\t 13 Val Loss:\t 0.026212590432807464\n",
      "Epoch:\t 14 Val Loss:\t 0.026140725697394517\n",
      "Epoch:\t 15 Val Loss:\t 0.026058085248721802\n",
      "Epoch:\t 16 Val Loss:\t 0.025991301101459988\n",
      "Epoch:\t 17 Val Loss:\t 0.025941109156113893\n",
      "Epoch:\t 18 Val Loss:\t 0.02586831465537551\n",
      "Epoch:\t 19 Val Loss:\t 0.025810521531112823\n",
      "Epoch:\t 20 Val Loss:\t 0.025797856432719247\n",
      "Epoch:\t 21 Val Loss:\t 0.02574458812242909\n",
      "Epoch:\t 22 Val Loss:\t 0.02571220034452342\n",
      "Epoch:\t 23 Val Loss:\t 0.025662312149791804\n",
      "Epoch:\t 24 Val Loss:\t 0.025635324064501655\n",
      "Epoch:\t 25 Val Loss:\t 0.0256142594580751\n",
      "Epoch:\t 26 Val Loss:\t 0.02556482961296482\n",
      "Epoch:\t 27 Val Loss:\t 0.025538670266662237\n",
      "Epoch:\t 28 Val Loss:\t 0.02551551564940907\n",
      "Epoch:\t 29 Val Loss:\t 0.025466658220125348\n",
      "Epoch:\t 30 Val Loss:\t 0.025415920167869508\n",
      "Epoch:\t 31 Val Loss:\t 0.025370650269357066\n",
      "Epoch:\t 32 Val Loss:\t 0.02533077714436115\n",
      "Epoch:\t 33 Val Loss:\t 0.025321711306106158\n",
      "Epoch:\t 34 Val Loss:\t 0.02529177167147476\n",
      "Epoch:\t 35 Val Loss:\t 0.025271461411199285\n",
      "Epoch:\t 36 Val Loss:\t 0.02523233122108542\n",
      "Epoch:\t 37 Val Loss:\t 0.025199678410017603\n",
      "Epoch:\t 38 Val Loss:\t 0.02519758539009478\n",
      "Epoch:\t 39 Val Loss:\t 0.02517630933966105\n",
      "Epoch:\t 40 Val Loss:\t 0.025161876867769054\n",
      "Epoch:\t 41 Val Loss:\t 0.025144373782106648\n",
      "Epoch:\t 42 Val Loss:\t 0.02514620012702616\n",
      "Epoch:\t 43 Val Loss:\t 0.025123831682778503\n",
      "Epoch:\t 44 Val Loss:\t 0.025101078194752553\n",
      "Epoch:\t 45 Val Loss:\t 0.025086513912338747\n",
      "Epoch:\t 46 Val Loss:\t 0.025090010499163328\n",
      "Epoch:\t 47 Val Loss:\t 0.02505099685625911\n",
      "Epoch:\t 48 Val Loss:\t 0.025031833504869868\n",
      "Epoch:\t 49 Val Loss:\t 0.02501340410836988\n",
      "Epoch:\t 50 Val Loss:\t 0.024987656264217246\n",
      "Epoch:\t 51 Val Loss:\t 0.024968643787085094\n",
      "Epoch:\t 52 Val Loss:\t 0.0249675850625011\n",
      "Epoch:\t 53 Val Loss:\t 0.02497127973509696\n",
      "Epoch:\t 54 Val Loss:\t 0.024954984379954987\n",
      "Epoch:\t 55 Val Loss:\t 0.024934259133312896\n",
      "Epoch:\t 56 Val Loss:\t 0.02494107537486148\n",
      "Epoch:\t 57 Val Loss:\t 0.02489757042640882\n",
      "Epoch:\t 58 Val Loss:\t 0.024903676021537133\n",
      "Epoch:\t 59 Val Loss:\t 0.02489156538276818\n",
      "Epoch:\t 60 Val Loss:\t 0.024906574477113513\n",
      "Epoch:\t 61 Val Loss:\t 0.02487402212023908\n",
      "Epoch:\t 62 Val Loss:\t 0.024861357803713235\n",
      "Epoch:\t 63 Val Loss:\t 0.024808099148530154\n",
      "Epoch:\t 64 Val Loss:\t 0.024796133013944847\n",
      "Epoch:\t 65 Val Loss:\t 0.0247887408839743\n",
      "Epoch:\t 66 Val Loss:\t 0.024782938494342172\n",
      "Epoch:\t 67 Val Loss:\t 0.02471677015832281\n",
      "Epoch:\t 68 Val Loss:\t 0.024725882631623324\n",
      "Epoch:\t 69 Val Loss:\t 0.02469338658787375\n",
      "Epoch:\t 70 Val Loss:\t 0.024671896978092796\n",
      "Epoch:\t 71 Val Loss:\t 0.02468017207240244\n",
      "Epoch:\t 72 Val Loss:\t 0.024651902996423076\n",
      "Epoch:\t 73 Val Loss:\t 0.024664566822693797\n",
      "Epoch:\t 74 Val Loss:\t 0.024665821861482192\n",
      "Epoch:\t 75 Val Loss:\t 0.024644145986105266\n",
      "Epoch:\t 76 Val Loss:\t 0.024630338405445436\n",
      "Epoch:\t 77 Val Loss:\t 0.024637826408399566\n",
      "Epoch:\t 78 Val Loss:\t 0.024620377152154975\n",
      "Epoch:\t 79 Val Loss:\t 0.024607637966591142\n",
      "Epoch:\t 80 Val Loss:\t 0.024591998999275687\n",
      "Epoch:\t 81 Val Loss:\t 0.024595769050353256\n",
      "Epoch:\t 82 Val Loss:\t 0.02458473580748327\n",
      "Epoch:\t 83 Val Loss:\t 0.024585441982690342\n",
      "Epoch:\t 84 Val Loss:\t 0.024582558667186692\n",
      "Epoch:\t 85 Val Loss:\t 0.024580806955907038\n",
      "Epoch:\t 86 Val Loss:\t 0.02459491575482716\n",
      "Epoch:\t 87 Val Loss:\t 0.024577780815897572\n",
      "Epoch:\t 88 Val Loss:\t 0.02457435680007388\n",
      "Epoch:\t 89 Val Loss:\t 0.024575622408265423\n",
      "Epoch:\t 90 Val Loss:\t 0.024570466819999266\n",
      "Epoch:\t 91 Val Loss:\t 0.02456256966914677\n",
      "Epoch:\t 92 Val Loss:\t 0.024575671385130476\n",
      "Epoch:\t 93 Val Loss:\t 0.024545549304514813\n",
      "Epoch:\t 94 Val Loss:\t 0.024553802104918712\n",
      "Epoch:\t 95 Val Loss:\t 0.024535485884651445\n",
      "Epoch:\t 96 Val Loss:\t 0.024567008725228573\n",
      "Epoch:\t 97 Val Loss:\t 0.024544954953960602\n",
      "Epoch:\t 98 Val Loss:\t 0.02456040011807515\n"
     ]
    },
    {
     "name": "stderr",
     "output_type": "stream",
     "text": [
      "[I 2025-09-29 18:54:33,175] Trial 4 finished with value: 0.024535485884651445 and parameters: {'lr': 1e-06, 'weight_decay': 1e-06, 'scheduler_factor': 0.5, 'scheduler_patience': 5, 'batch_size': 32, 'dropout': 0.1, 'hidden_dims': 64}. Best is trial 2 with value: 0.024195966729644323.\n"
     ]
    },
    {
     "name": "stdout",
     "output_type": "stream",
     "text": [
      "Epoch:\t 99 Val Loss:\t 0.024545265766248773\n",
      "Epoch:\t 0 Val Loss:\t 0.02483923555454884\n",
      "Epoch:\t 1 Val Loss:\t 0.02446931645265515\n",
      "Epoch:\t 2 Val Loss:\t 0.024360426261817857\n",
      "Epoch:\t 3 Val Loss:\t 0.024315156812710563\n",
      "Epoch:\t 4 Val Loss:\t 0.024316434262205013\n",
      "Epoch:\t 5 Val Loss:\t 0.024292066639261426\n",
      "Epoch:\t 6 Val Loss:\t 0.02427476143793307\n",
      "Epoch:\t 7 Val Loss:\t 0.024309567817449397\n",
      "Epoch:\t 8 Val Loss:\t 0.024337253031770385\n",
      "Epoch:\t 9 Val Loss:\t 0.024268985980083733\n",
      "Epoch:\t 10 Val Loss:\t 0.024274218802085103\n",
      "Epoch:\t 11 Val Loss:\t 0.02428805691537435\n",
      "Epoch:\t 12 Val Loss:\t 0.024263440964244393\n",
      "Epoch:\t 13 Val Loss:\t 0.024283336276607607\n",
      "Epoch:\t 14 Val Loss:\t 0.024291641250886127\n",
      "Epoch:\t 15 Val Loss:\t 0.02431637875292054\n",
      "Epoch:\t 16 Val Loss:\t 0.024320806344344414\n",
      "Epoch:\t 17 Val Loss:\t 0.024309106442434735\n",
      "Epoch:\t 18 Val Loss:\t 0.024292263504343093\n",
      "Epoch:\t 19 Val Loss:\t 0.02428239692382468\n",
      "Epoch:\t 20 Val Loss:\t 0.024299316386285946\n",
      "Epoch:\t 21 Val Loss:\t 0.024324199824932956\n"
     ]
    },
    {
     "name": "stderr",
     "output_type": "stream",
     "text": [
      "[I 2025-09-29 19:02:51,708] Trial 5 finished with value: 0.024263440964244393 and parameters: {'lr': 1e-05, 'weight_decay': 0.0001, 'scheduler_factor': 0.5, 'scheduler_patience': 1, 'batch_size': 16, 'dropout': 0.1, 'hidden_dims': 64}. Best is trial 2 with value: 0.024195966729644323.\n"
     ]
    },
    {
     "name": "stdout",
     "output_type": "stream",
     "text": [
      "Epoch:\t 22 Val Loss:\t 0.024302696719728914\n",
      "Epoch:\t 0 Val Loss:\t 0.024556763285854252\n",
      "Epoch:\t 1 Val Loss:\t 0.024518185360297706\n",
      "Epoch:\t 2 Val Loss:\t 0.024540376269760706\n",
      "Epoch:\t 3 Val Loss:\t 0.024583744060018953\n",
      "Epoch:\t 4 Val Loss:\t 0.024401919229536627\n",
      "Epoch:\t 5 Val Loss:\t 0.024390006428438516\n",
      "Epoch:\t 6 Val Loss:\t 0.024470895148264553\n",
      "Epoch:\t 7 Val Loss:\t 0.02438846368394528\n",
      "Epoch:\t 8 Val Loss:\t 0.024343836892048113\n",
      "Epoch:\t 9 Val Loss:\t 0.024330335258151113\n",
      "Epoch:\t 10 Val Loss:\t 0.024353225149259673\n",
      "Epoch:\t 11 Val Loss:\t 0.02433221323796166\n",
      "Epoch:\t 12 Val Loss:\t 0.02432383092804593\n",
      "Epoch:\t 13 Val Loss:\t 0.02430131804772063\n",
      "Epoch:\t 14 Val Loss:\t 0.024298434585464757\n",
      "Epoch:\t 15 Val Loss:\t 0.02429228828781032\n",
      "Epoch:\t 16 Val Loss:\t 0.024297562168367332\n",
      "Epoch:\t 17 Val Loss:\t 0.024349710847577054\n",
      "Epoch:\t 18 Val Loss:\t 0.02432489003369923\n",
      "Epoch:\t 19 Val Loss:\t 0.024289541806997564\n",
      "Epoch:\t 20 Val Loss:\t 0.02427936325285387\n",
      "Epoch:\t 21 Val Loss:\t 0.02433059248344641\n",
      "Epoch:\t 22 Val Loss:\t 0.02428601485543554\n",
      "Epoch:\t 23 Val Loss:\t 0.024282169681003517\n",
      "Epoch:\t 24 Val Loss:\t 0.024270264293460117\n",
      "Epoch:\t 25 Val Loss:\t 0.024291143084006536\n",
      "Epoch:\t 26 Val Loss:\t 0.024268945777714167\n",
      "Epoch:\t 27 Val Loss:\t 0.024294300859678347\n",
      "Epoch:\t 28 Val Loss:\t 0.024312592346115266\n",
      "Epoch:\t 29 Val Loss:\t 0.02426404115817987\n",
      "Epoch:\t 30 Val Loss:\t 0.024263869787529067\n",
      "Epoch:\t 31 Val Loss:\t 0.024299046127109404\n",
      "Epoch:\t 32 Val Loss:\t 0.02427490180340994\n",
      "Epoch:\t 33 Val Loss:\t 0.02426382511836875\n",
      "Epoch:\t 34 Val Loss:\t 0.024251024519297112\n",
      "Epoch:\t 35 Val Loss:\t 0.024272425502627325\n",
      "Epoch:\t 36 Val Loss:\t 0.02426229789150415\n",
      "Epoch:\t 37 Val Loss:\t 0.02425994361316741\n",
      "Epoch:\t 38 Val Loss:\t 0.024250038281392286\n",
      "Epoch:\t 39 Val Loss:\t 0.024276982713977196\n",
      "Epoch:\t 40 Val Loss:\t 0.024267560575380098\n",
      "Epoch:\t 41 Val Loss:\t 0.02426237432752075\n",
      "Epoch:\t 42 Val Loss:\t 0.02425619921994569\n",
      "Epoch:\t 43 Val Loss:\t 0.024250812311800013\n",
      "Epoch:\t 44 Val Loss:\t 0.024254047660480317\n",
      "Epoch:\t 45 Val Loss:\t 0.024249770223999257\n",
      "Epoch:\t 46 Val Loss:\t 0.024268111254310738\n",
      "Epoch:\t 47 Val Loss:\t 0.02428591389071739\n",
      "Epoch:\t 48 Val Loss:\t 0.024280556071402632\n",
      "Epoch:\t 49 Val Loss:\t 0.024282455497307273\n",
      "Epoch:\t 50 Val Loss:\t 0.02427209373585149\n",
      "Epoch:\t 51 Val Loss:\t 0.024257716445497696\n",
      "Epoch:\t 52 Val Loss:\t 0.024277995049724277\n",
      "Epoch:\t 53 Val Loss:\t 0.024256637733963707\n",
      "Epoch:\t 54 Val Loss:\t 0.024281144440249775\n"
     ]
    },
    {
     "name": "stderr",
     "output_type": "stream",
     "text": [
      "[I 2025-09-29 19:10:58,024] Trial 6 finished with value: 0.024249770223999257 and parameters: {'lr': 0.001, 'weight_decay': 0.0001, 'scheduler_factor': 0.5, 'scheduler_patience': 1, 'batch_size': 32, 'dropout': 0.15, 'hidden_dims': 256}. Best is trial 2 with value: 0.024195966729644323.\n"
     ]
    },
    {
     "name": "stdout",
     "output_type": "stream",
     "text": [
      "Epoch:\t 55 Val Loss:\t 0.02426529225709\n"
     ]
    },
    {
     "name": "stderr",
     "output_type": "stream",
     "text": [
      "[I 2025-09-29 19:11:01,991] Trial 7 pruned. \n"
     ]
    },
    {
     "name": "stdout",
     "output_type": "stream",
     "text": [
      "Epoch:\t 0 Val Loss:\t 0.02739644594680903\n"
     ]
    },
    {
     "name": "stderr",
     "output_type": "stream",
     "text": [
      "[I 2025-09-29 19:11:05,463] Trial 8 pruned. \n"
     ]
    },
    {
     "name": "stdout",
     "output_type": "stream",
     "text": [
      "Epoch:\t 0 Val Loss:\t 0.030395896174013615\n",
      "Epoch:\t 0 Val Loss:\t 0.024569883312309592\n",
      "Epoch:\t 1 Val Loss:\t 0.02453339613036962\n",
      "Epoch:\t 2 Val Loss:\t 0.024596952416686954\n",
      "Epoch:\t 3 Val Loss:\t 0.024609184307669774\n"
     ]
    },
    {
     "name": "stderr",
     "output_type": "stream",
     "text": [
      "[I 2025-09-29 19:12:41,289] Trial 9 pruned. \n"
     ]
    },
    {
     "name": "stdout",
     "output_type": "stream",
     "text": [
      "Epoch:\t 4 Val Loss:\t 0.024606070671072205\n",
      "Epoch:\t 0 Val Loss:\t 0.024447970503094718\n",
      "Epoch:\t 1 Val Loss:\t 0.02503148467213486\n",
      "Epoch:\t 2 Val Loss:\t 0.02591383230055721\n",
      "Epoch:\t 3 Val Loss:\t 0.026052874326489724\n",
      "Epoch:\t 4 Val Loss:\t 0.026107216585758323\n"
     ]
    },
    {
     "name": "stderr",
     "output_type": "stream",
     "text": [
      "[I 2025-09-29 19:13:12,676] Trial 10 pruned. \n"
     ]
    },
    {
     "name": "stdout",
     "output_type": "stream",
     "text": [
      "Epoch:\t 5 Val Loss:\t 0.026073671155244338\n",
      "Epoch:\t 0 Val Loss:\t 0.024546187270478116\n",
      "Epoch:\t 1 Val Loss:\t 0.024309979181994\n",
      "Epoch:\t 2 Val Loss:\t 0.024321219427116514\n",
      "Epoch:\t 3 Val Loss:\t 0.02428369270880867\n",
      "Epoch:\t 4 Val Loss:\t 0.02429143456364882\n",
      "Epoch:\t 5 Val Loss:\t 0.024272405899719518\n",
      "Epoch:\t 6 Val Loss:\t 0.024274372369768794\n",
      "Epoch:\t 7 Val Loss:\t 0.024278009844402277\n",
      "Epoch:\t 8 Val Loss:\t 0.024292252381081954\n",
      "Epoch:\t 9 Val Loss:\t 0.024287960202894237\n",
      "Epoch:\t 10 Val Loss:\t 0.024263158501128576\n",
      "Epoch:\t 11 Val Loss:\t 0.024285038251016838\n",
      "Epoch:\t 12 Val Loss:\t 0.024278399371825812\n",
      "Epoch:\t 13 Val Loss:\t 0.024272406112685913\n",
      "Epoch:\t 14 Val Loss:\t 0.02426804239778967\n",
      "Epoch:\t 15 Val Loss:\t 0.02426730827020305\n",
      "Epoch:\t 16 Val Loss:\t 0.024261071501830534\n",
      "Epoch:\t 17 Val Loss:\t 0.02418413787249971\n",
      "Epoch:\t 18 Val Loss:\t 0.024177351449759493\n",
      "Epoch:\t 19 Val Loss:\t 0.024182536743594267\n",
      "Epoch:\t 20 Val Loss:\t 0.024177071436789932\n",
      "Epoch:\t 21 Val Loss:\t 0.02419164956039768\n",
      "Epoch:\t 22 Val Loss:\t 0.024183399923409548\n",
      "Epoch:\t 23 Val Loss:\t 0.024181978451655622\n",
      "Epoch:\t 24 Val Loss:\t 0.024176262676914764\n",
      "Epoch:\t 25 Val Loss:\t 0.024165729427244244\n",
      "Epoch:\t 26 Val Loss:\t 0.024169857111595704\n",
      "Epoch:\t 27 Val Loss:\t 0.024172386371823017\n",
      "Epoch:\t 28 Val Loss:\t 0.024170089168749746\n",
      "Epoch:\t 29 Val Loss:\t 0.024169626768442757\n",
      "Epoch:\t 30 Val Loss:\t 0.024171439729721755\n",
      "Epoch:\t 31 Val Loss:\t 0.024171048678020994\n",
      "Epoch:\t 32 Val Loss:\t 0.024175610183562502\n",
      "Epoch:\t 33 Val Loss:\t 0.024174212713229122\n",
      "Epoch:\t 34 Val Loss:\t 0.024175575556524328\n"
     ]
    },
    {
     "name": "stderr",
     "output_type": "stream",
     "text": [
      "[I 2025-09-29 19:16:30,488] Trial 11 finished with value: 0.024165729427244244 and parameters: {'lr': 0.001, 'weight_decay': 1e-05, 'scheduler_factor': 0.1, 'scheduler_patience': 5, 'batch_size': 64, 'dropout': 0.2, 'hidden_dims': 1024}. Best is trial 11 with value: 0.024165729427244244.\n"
     ]
    },
    {
     "name": "stdout",
     "output_type": "stream",
     "text": [
      "Epoch:\t 35 Val Loss:\t 0.024176374204279514\n",
      "Epoch:\t 0 Val Loss:\t 0.024636238254498618\n",
      "Epoch:\t 1 Val Loss:\t 0.02432005348692643\n",
      "Epoch:\t 2 Val Loss:\t 0.024299938881416273\n",
      "Epoch:\t 3 Val Loss:\t 0.0242889392937226\n",
      "Epoch:\t 4 Val Loss:\t 0.024296757978621224\n",
      "Epoch:\t 5 Val Loss:\t 0.024274666055829387\n",
      "Epoch:\t 6 Val Loss:\t 0.024287612855789002\n",
      "Epoch:\t 7 Val Loss:\t 0.02427228646557205\n",
      "Epoch:\t 8 Val Loss:\t 0.02429046016781052\n",
      "Epoch:\t 9 Val Loss:\t 0.024265362281683082\n",
      "Epoch:\t 10 Val Loss:\t 0.02428809493116373\n",
      "Epoch:\t 11 Val Loss:\t 0.024291081973462345\n",
      "Epoch:\t 12 Val Loss:\t 0.0242902791388095\n",
      "Epoch:\t 13 Val Loss:\t 0.024277838788066088\n",
      "Epoch:\t 14 Val Loss:\t 0.024281585516621053\n",
      "Epoch:\t 15 Val Loss:\t 0.024272431470821296\n",
      "Epoch:\t 16 Val Loss:\t 0.024182738938427775\n",
      "Epoch:\t 17 Val Loss:\t 0.024187546548797373\n",
      "Epoch:\t 18 Val Loss:\t 0.024189743468482794\n",
      "Epoch:\t 19 Val Loss:\t 0.024178403050779812\n",
      "Epoch:\t 20 Val Loss:\t 0.024189637307438717\n",
      "Epoch:\t 21 Val Loss:\t 0.024178687420371516\n",
      "Epoch:\t 22 Val Loss:\t 0.02418068861691535\n",
      "Epoch:\t 23 Val Loss:\t 0.024182949809749943\n",
      "Epoch:\t 24 Val Loss:\t 0.024178518954225563\n",
      "Epoch:\t 25 Val Loss:\t 0.02418608647174982\n",
      "Epoch:\t 26 Val Loss:\t 0.024171608601260587\n",
      "Epoch:\t 27 Val Loss:\t 0.02416709852223817\n",
      "Epoch:\t 28 Val Loss:\t 0.024176474320104977\n",
      "Epoch:\t 29 Val Loss:\t 0.024173505973985425\n",
      "Epoch:\t 30 Val Loss:\t 0.02417138993017942\n",
      "Epoch:\t 31 Val Loss:\t 0.02417490387565683\n",
      "Epoch:\t 32 Val Loss:\t 0.024170184589044616\n",
      "Epoch:\t 33 Val Loss:\t 0.02417243634541403\n",
      "Epoch:\t 34 Val Loss:\t 0.024171375099286324\n",
      "Epoch:\t 35 Val Loss:\t 0.02417358751741178\n",
      "Epoch:\t 36 Val Loss:\t 0.024176383204001433\n"
     ]
    },
    {
     "name": "stderr",
     "output_type": "stream",
     "text": [
      "[I 2025-09-29 19:20:15,613] Trial 12 finished with value: 0.02416709852223817 and parameters: {'lr': 0.001, 'weight_decay': 1e-05, 'scheduler_factor': 0.1, 'scheduler_patience': 5, 'batch_size': 64, 'dropout': 0.2, 'hidden_dims': 1024}. Best is trial 11 with value: 0.024165729427244244.\n"
     ]
    },
    {
     "name": "stdout",
     "output_type": "stream",
     "text": [
      "Epoch:\t 37 Val Loss:\t 0.024175374016805713\n",
      "Epoch:\t 0 Val Loss:\t 0.024702231198099556\n",
      "Epoch:\t 1 Val Loss:\t 0.024307128022523793\n",
      "Epoch:\t 2 Val Loss:\t 0.02429577585221098\n",
      "Epoch:\t 3 Val Loss:\t 0.02428751377344512\n",
      "Epoch:\t 4 Val Loss:\t 0.024293202075521336\n",
      "Epoch:\t 5 Val Loss:\t 0.02427117119841083\n",
      "Epoch:\t 6 Val Loss:\t 0.024281125703801684\n",
      "Epoch:\t 7 Val Loss:\t 0.024260717499795793\n",
      "Epoch:\t 8 Val Loss:\t 0.02427313758197629\n",
      "Epoch:\t 9 Val Loss:\t 0.02428092433056441\n",
      "Epoch:\t 10 Val Loss:\t 0.02427886682116598\n",
      "Epoch:\t 11 Val Loss:\t 0.02427555060795726\n",
      "Epoch:\t 12 Val Loss:\t 0.024256519594911357\n",
      "Epoch:\t 13 Val Loss:\t 0.024297068109579094\n",
      "Epoch:\t 14 Val Loss:\t 0.02428779126000626\n",
      "Epoch:\t 15 Val Loss:\t 0.02428675784328893\n",
      "Epoch:\t 16 Val Loss:\t 0.024298241393326054\n",
      "Epoch:\t 17 Val Loss:\t 0.024281125936226933\n",
      "Epoch:\t 18 Val Loss:\t 0.0242885388315018\n",
      "Epoch:\t 19 Val Loss:\t 0.024183148213349243\n",
      "Epoch:\t 20 Val Loss:\t 0.0241808417213738\n",
      "Epoch:\t 21 Val Loss:\t 0.02418118034550532\n",
      "Epoch:\t 22 Val Loss:\t 0.024184898749530073\n",
      "Epoch:\t 23 Val Loss:\t 0.024170198622124526\n",
      "Epoch:\t 24 Val Loss:\t 0.02418162388639504\n",
      "Epoch:\t 25 Val Loss:\t 0.02418153501022229\n",
      "Epoch:\t 26 Val Loss:\t 0.024183157938454155\n",
      "Epoch:\t 27 Val Loss:\t 0.024182171197051374\n",
      "Epoch:\t 28 Val Loss:\t 0.024183426063142402\n",
      "Epoch:\t 29 Val Loss:\t 0.02419116131170019\n",
      "Epoch:\t 30 Val Loss:\t 0.02417430230937963\n",
      "Epoch:\t 31 Val Loss:\t 0.024172685309613227\n",
      "Epoch:\t 32 Val Loss:\t 0.02417025993590568\n"
     ]
    },
    {
     "name": "stderr",
     "output_type": "stream",
     "text": [
      "[I 2025-09-29 19:23:38,100] Trial 13 finished with value: 0.024170198622124526 and parameters: {'lr': 0.001, 'weight_decay': 1e-05, 'scheduler_factor': 0.1, 'scheduler_patience': 5, 'batch_size': 64, 'dropout': 0.2, 'hidden_dims': 1024}. Best is trial 11 with value: 0.024165729427244244.\n"
     ]
    },
    {
     "name": "stdout",
     "output_type": "stream",
     "text": [
      "Epoch:\t 33 Val Loss:\t 0.024175590319311418\n",
      "Epoch:\t 0 Val Loss:\t 0.024324387008161027\n",
      "Epoch:\t 1 Val Loss:\t 0.024279284840682116\n",
      "Epoch:\t 2 Val Loss:\t 0.024282855637375863\n",
      "Epoch:\t 3 Val Loss:\t 0.024275213155681423\n",
      "Epoch:\t 4 Val Loss:\t 0.024266099005946225\n",
      "Epoch:\t 5 Val Loss:\t 0.02428846810990323\n",
      "Epoch:\t 6 Val Loss:\t 0.024304037760171305\n",
      "Epoch:\t 7 Val Loss:\t 0.024274850512832593\n",
      "Epoch:\t 8 Val Loss:\t 0.024274917526978156\n",
      "Epoch:\t 9 Val Loss:\t 0.02427551299074121\n",
      "Epoch:\t 10 Val Loss:\t 0.024266611678753908\n",
      "Epoch:\t 11 Val Loss:\t 0.024182704209771116\n",
      "Epoch:\t 12 Val Loss:\t 0.024168809970978106\n",
      "Epoch:\t 13 Val Loss:\t 0.02417156892356766\n",
      "Epoch:\t 14 Val Loss:\t 0.024181455858073398\n",
      "Epoch:\t 15 Val Loss:\t 0.02418578536754006\n",
      "Epoch:\t 16 Val Loss:\t 0.024171070479509515\n",
      "Epoch:\t 17 Val Loss:\t 0.024183073479442214\n",
      "Epoch:\t 18 Val Loss:\t 0.024178994707092945\n",
      "Epoch:\t 19 Val Loss:\t 0.02416601992853838\n",
      "Epoch:\t 20 Val Loss:\t 0.024162475509407973\n",
      "Epoch:\t 21 Val Loss:\t 0.024160732724338996\n",
      "Epoch:\t 22 Val Loss:\t 0.024173408576994876\n",
      "Epoch:\t 23 Val Loss:\t 0.02417000645941347\n",
      "Epoch:\t 24 Val Loss:\t 0.024166669478738335\n",
      "Epoch:\t 25 Val Loss:\t 0.024177681961709236\n",
      "Epoch:\t 26 Val Loss:\t 0.024175508035367405\n",
      "Epoch:\t 27 Val Loss:\t 0.02417745038508089\n",
      "Epoch:\t 28 Val Loss:\t 0.024166791526318565\n",
      "Epoch:\t 29 Val Loss:\t 0.024174698018233787\n",
      "Epoch:\t 30 Val Loss:\t 0.024175051957567764\n"
     ]
    },
    {
     "name": "stderr",
     "output_type": "stream",
     "text": [
      "[I 2025-09-29 19:26:23,550] Trial 14 finished with value: 0.024160732724338996 and parameters: {'lr': 0.001, 'weight_decay': 1e-05, 'scheduler_factor': 0.1, 'scheduler_patience': 5, 'batch_size': 64, 'dropout': 0.2, 'hidden_dims': 128}. Best is trial 14 with value: 0.024160732724338996.\n"
     ]
    },
    {
     "name": "stdout",
     "output_type": "stream",
     "text": [
      "Epoch:\t 31 Val Loss:\t 0.024172569455355147\n",
      "Epoch:\t 0 Val Loss:\t 0.02450785603108305\n"
     ]
    },
    {
     "name": "stderr",
     "output_type": "stream",
     "text": [
      "[I 2025-09-29 19:26:33,760] Trial 15 pruned. \n"
     ]
    },
    {
     "name": "stdout",
     "output_type": "stream",
     "text": [
      "Epoch:\t 1 Val Loss:\t 0.025398028508537878\n",
      "Epoch:\t 0 Val Loss:\t 0.02440345181195542\n",
      "Epoch:\t 1 Val Loss:\t 0.02431170145526182\n",
      "Epoch:\t 2 Val Loss:\t 0.024257107650817827\n",
      "Epoch:\t 3 Val Loss:\t 0.02426132510827724\n",
      "Epoch:\t 4 Val Loss:\t 0.024245023207609042\n",
      "Epoch:\t 5 Val Loss:\t 0.02424932417654714\n",
      "Epoch:\t 6 Val Loss:\t 0.024244355973462726\n",
      "Epoch:\t 7 Val Loss:\t 0.02421721323544896\n",
      "Epoch:\t 8 Val Loss:\t 0.024227488824967728\n",
      "Epoch:\t 9 Val Loss:\t 0.024248315190333266\n",
      "Epoch:\t 10 Val Loss:\t 0.02424024858533643\n",
      "Epoch:\t 11 Val Loss:\t 0.0242233935700253\n",
      "Epoch:\t 12 Val Loss:\t 0.024224548423013022\n",
      "Epoch:\t 13 Val Loss:\t 0.02423409321453682\n",
      "Epoch:\t 14 Val Loss:\t 0.024241512901214665\n",
      "Epoch:\t 15 Val Loss:\t 0.024234402331328668\n",
      "Epoch:\t 16 Val Loss:\t 0.02423471422909304\n"
     ]
    },
    {
     "name": "stderr",
     "output_type": "stream",
     "text": [
      "[I 2025-09-29 19:27:28,241] Trial 16 finished with value: 0.02421721323544896 and parameters: {'lr': 0.001, 'weight_decay': 1e-05, 'scheduler_factor': 0.1, 'scheduler_patience': 20, 'batch_size': 256, 'dropout': 0.2, 'hidden_dims': 128}. Best is trial 14 with value: 0.024160732724338996.\n"
     ]
    },
    {
     "name": "stdout",
     "output_type": "stream",
     "text": [
      "Epoch:\t 17 Val Loss:\t 0.024234182322614414\n",
      "Epoch:\t 0 Val Loss:\t 0.024287446578764596\n",
      "Epoch:\t 1 Val Loss:\t 0.024290646483134684\n",
      "Epoch:\t 2 Val Loss:\t 0.024259011596830447\n",
      "Epoch:\t 3 Val Loss:\t 0.024274756139532398\n",
      "Epoch:\t 4 Val Loss:\t 0.024264513785738413\n",
      "Epoch:\t 5 Val Loss:\t 0.024274364733247997\n",
      "Epoch:\t 6 Val Loss:\t 0.02428429852576534\n",
      "Epoch:\t 7 Val Loss:\t 0.024269139619022002\n",
      "Epoch:\t 8 Val Loss:\t 0.02426701023941184\n",
      "Epoch:\t 9 Val Loss:\t 0.024185030207089817\n",
      "Epoch:\t 10 Val Loss:\t 0.02418092156215006\n",
      "Epoch:\t 11 Val Loss:\t 0.024175554164752873\n",
      "Epoch:\t 12 Val Loss:\t 0.024181470358165903\n",
      "Epoch:\t 13 Val Loss:\t 0.024178473931832915\n",
      "Epoch:\t 14 Val Loss:\t 0.024180163473141655\n",
      "Epoch:\t 15 Val Loss:\t 0.02418174281569324\n",
      "Epoch:\t 16 Val Loss:\t 0.02418344719546241\n",
      "Epoch:\t 17 Val Loss:\t 0.024181596569401265\n",
      "Epoch:\t 18 Val Loss:\t 0.02416366139708981\n",
      "Epoch:\t 19 Val Loss:\t 0.024164145272949442\n",
      "Epoch:\t 20 Val Loss:\t 0.02416980444403388\n",
      "Epoch:\t 21 Val Loss:\t 0.024169507766714362\n",
      "Epoch:\t 22 Val Loss:\t 0.024171019021640042\n",
      "Epoch:\t 23 Val Loss:\t 0.02417275947380813\n",
      "Epoch:\t 24 Val Loss:\t 0.024181515722169616\n",
      "Epoch:\t 25 Val Loss:\t 0.024167147679638186\n",
      "Epoch:\t 26 Val Loss:\t 0.02417068646110495\n",
      "Epoch:\t 27 Val Loss:\t 0.024169023753561673\n"
     ]
    },
    {
     "name": "stderr",
     "output_type": "stream",
     "text": [
      "[I 2025-09-29 19:29:55,050] Trial 17 finished with value: 0.02416366139708981 and parameters: {'lr': 0.001, 'weight_decay': 1e-05, 'scheduler_factor': 0.1, 'scheduler_patience': 5, 'batch_size': 64, 'dropout': 0.2, 'hidden_dims': 128}. Best is trial 14 with value: 0.024160732724338996.\n"
     ]
    },
    {
     "name": "stdout",
     "output_type": "stream",
     "text": [
      "Epoch:\t 28 Val Loss:\t 0.024165997130323896\n",
      "Epoch:\t 0 Val Loss:\t 0.024301417518971413\n",
      "Epoch:\t 1 Val Loss:\t 0.024277829820775598\n",
      "Epoch:\t 2 Val Loss:\t 0.024266648251677903\n",
      "Epoch:\t 3 Val Loss:\t 0.024262620755582096\n",
      "Epoch:\t 4 Val Loss:\t 0.02428732130587862\n",
      "Epoch:\t 5 Val Loss:\t 0.02426814412437617\n",
      "Epoch:\t 6 Val Loss:\t 0.02428609734045442\n",
      "Epoch:\t 7 Val Loss:\t 0.024297756526145697\n",
      "Epoch:\t 8 Val Loss:\t 0.024287525632538148\n",
      "Epoch:\t 9 Val Loss:\t 0.024267011970169172\n",
      "Epoch:\t 10 Val Loss:\t 0.024176529922711246\n",
      "Epoch:\t 11 Val Loss:\t 0.02417268522096732\n",
      "Epoch:\t 12 Val Loss:\t 0.024168653356357848\n",
      "Epoch:\t 13 Val Loss:\t 0.024188634602745396\n",
      "Epoch:\t 14 Val Loss:\t 0.02417428602447741\n",
      "Epoch:\t 15 Val Loss:\t 0.02419043871889229\n",
      "Epoch:\t 16 Val Loss:\t 0.024177298597338515\n",
      "Epoch:\t 17 Val Loss:\t 0.024183196700499697\n",
      "Epoch:\t 18 Val Loss:\t 0.02417470347860561\n",
      "Epoch:\t 19 Val Loss:\t 0.024165932540968278\n",
      "Epoch:\t 20 Val Loss:\t 0.024169603164847755\n",
      "Epoch:\t 21 Val Loss:\t 0.02416829511229202\n",
      "Epoch:\t 22 Val Loss:\t 0.024176147641550298\n",
      "Epoch:\t 23 Val Loss:\t 0.024164796417154202\n",
      "Epoch:\t 24 Val Loss:\t 0.024164625883504567\n",
      "Epoch:\t 25 Val Loss:\t 0.02417114585015363\n",
      "Epoch:\t 26 Val Loss:\t 0.024169909764022862\n",
      "Epoch:\t 27 Val Loss:\t 0.024171932389634297\n",
      "Epoch:\t 28 Val Loss:\t 0.02417238411243337\n",
      "Epoch:\t 29 Val Loss:\t 0.024170791150843137\n",
      "Epoch:\t 30 Val Loss:\t 0.02416738600740928\n",
      "Epoch:\t 31 Val Loss:\t 0.024167375842317963\n",
      "Epoch:\t 32 Val Loss:\t 0.024172532969455488\n",
      "Epoch:\t 33 Val Loss:\t 0.02416777454135\n",
      "Epoch:\t 34 Val Loss:\t 0.0241636428246907\n",
      "Epoch:\t 35 Val Loss:\t 0.024167447581722925\n",
      "Epoch:\t 36 Val Loss:\t 0.024173348325883588\n",
      "Epoch:\t 37 Val Loss:\t 0.02416541484777518\n",
      "Epoch:\t 38 Val Loss:\t 0.0241741702172449\n",
      "Epoch:\t 39 Val Loss:\t 0.024170444972350442\n",
      "Epoch:\t 40 Val Loss:\t 0.024164632345467063\n",
      "Epoch:\t 41 Val Loss:\t 0.024177678498032477\n",
      "Epoch:\t 42 Val Loss:\t 0.02416494582442959\n",
      "Epoch:\t 43 Val Loss:\t 0.024171773642647495\n"
     ]
    },
    {
     "name": "stderr",
     "output_type": "stream",
     "text": [
      "[I 2025-09-29 19:33:45,067] Trial 18 finished with value: 0.0241636428246907 and parameters: {'lr': 0.001, 'weight_decay': 1e-05, 'scheduler_factor': 0.1, 'scheduler_patience': 5, 'batch_size': 64, 'dropout': 0.2, 'hidden_dims': 128}. Best is trial 14 with value: 0.024160732724338996.\n"
     ]
    },
    {
     "name": "stdout",
     "output_type": "stream",
     "text": [
      "Epoch:\t 44 Val Loss:\t 0.02416770768071321\n",
      "Epoch:\t 0 Val Loss:\t 0.024501497939972774\n"
     ]
    },
    {
     "name": "stderr",
     "output_type": "stream",
     "text": [
      "[I 2025-09-29 19:33:55,478] Trial 19 pruned. \n"
     ]
    },
    {
     "name": "stdout",
     "output_type": "stream",
     "text": [
      "Epoch:\t 1 Val Loss:\t 0.025416026024868928\n",
      "Epoch:\t 0 Val Loss:\t 0.024412257315287757\n",
      "Epoch:\t 1 Val Loss:\t 0.024272469171257905\n",
      "Epoch:\t 2 Val Loss:\t 0.024241300486028194\n",
      "Epoch:\t 3 Val Loss:\t 0.024225728538667047\n",
      "Epoch:\t 4 Val Loss:\t 0.024228964551070403\n",
      "Epoch:\t 5 Val Loss:\t 0.024251634709883566\n",
      "Epoch:\t 6 Val Loss:\t 0.024230934571214887\n",
      "Epoch:\t 7 Val Loss:\t 0.024226393819201823\n",
      "Epoch:\t 8 Val Loss:\t 0.02423663545659808\n",
      "Epoch:\t 9 Val Loss:\t 0.02422423697574887\n",
      "Epoch:\t 10 Val Loss:\t 0.02422390405608471\n",
      "Epoch:\t 11 Val Loss:\t 0.024226416079977223\n",
      "Epoch:\t 12 Val Loss:\t 0.024236485310072123\n",
      "Epoch:\t 13 Val Loss:\t 0.02422411909196959\n",
      "Epoch:\t 14 Val Loss:\t 0.024234566586308702\n",
      "Epoch:\t 15 Val Loss:\t 0.02425118761440349\n",
      "Epoch:\t 16 Val Loss:\t 0.02424074061388193\n",
      "Epoch:\t 17 Val Loss:\t 0.02425537167420221\n",
      "Epoch:\t 18 Val Loss:\t 0.024221083565160284\n",
      "Epoch:\t 19 Val Loss:\t 0.024239294659779514\n",
      "Epoch:\t 20 Val Loss:\t 0.02421790471863608\n",
      "Epoch:\t 21 Val Loss:\t 0.024225608151146147\n",
      "Epoch:\t 22 Val Loss:\t 0.024237701517724714\n",
      "Epoch:\t 23 Val Loss:\t 0.024243766979076143\n",
      "Epoch:\t 24 Val Loss:\t 0.02423636832296155\n",
      "Epoch:\t 25 Val Loss:\t 0.024228329467045708\n"
     ]
    },
    {
     "name": "stderr",
     "output_type": "stream",
     "text": [
      "[I 2025-09-29 19:35:15,041] Trial 20 pruned. \n"
     ]
    },
    {
     "name": "stdout",
     "output_type": "stream",
     "text": [
      "Epoch:\t 26 Val Loss:\t 0.024235752467499223\n",
      "Epoch:\t 0 Val Loss:\t 0.024300798993218242\n",
      "Epoch:\t 1 Val Loss:\t 0.02433567353185359\n",
      "Epoch:\t 2 Val Loss:\t 0.024275041220453472\n",
      "Epoch:\t 3 Val Loss:\t 0.024290962369590392\n",
      "Epoch:\t 4 Val Loss:\t 0.024279970809756777\n",
      "Epoch:\t 5 Val Loss:\t 0.024274421150964218\n",
      "Epoch:\t 6 Val Loss:\t 0.02425847039517454\n",
      "Epoch:\t 7 Val Loss:\t 0.024251428182500086\n",
      "Epoch:\t 8 Val Loss:\t 0.02427727728865898\n",
      "Epoch:\t 9 Val Loss:\t 0.024274287667521127\n",
      "Epoch:\t 10 Val Loss:\t 0.024268514205914075\n",
      "Epoch:\t 11 Val Loss:\t 0.024257035317354538\n",
      "Epoch:\t 12 Val Loss:\t 0.024266672933077438\n",
      "Epoch:\t 13 Val Loss:\t 0.02426646834048018\n",
      "Epoch:\t 14 Val Loss:\t 0.024191073996560283\n",
      "Epoch:\t 15 Val Loss:\t 0.024178413291544465\n",
      "Epoch:\t 16 Val Loss:\t 0.02417238673289294\n",
      "Epoch:\t 17 Val Loss:\t 0.024172160333401922\n",
      "Epoch:\t 18 Val Loss:\t 0.024177641973755628\n",
      "Epoch:\t 19 Val Loss:\t 0.024174096356824396\n",
      "Epoch:\t 20 Val Loss:\t 0.02417447954930854\n",
      "Epoch:\t 21 Val Loss:\t 0.02418157593652528\n",
      "Epoch:\t 22 Val Loss:\t 0.024184703371783224\n",
      "Epoch:\t 23 Val Loss:\t 0.024167540593984096\n",
      "Epoch:\t 24 Val Loss:\t 0.024173171614586996\n",
      "Epoch:\t 25 Val Loss:\t 0.02417823336953627\n",
      "Epoch:\t 26 Val Loss:\t 0.02417130348203975\n",
      "Epoch:\t 27 Val Loss:\t 0.024163908433781\n",
      "Epoch:\t 28 Val Loss:\t 0.02417134522669584\n",
      "Epoch:\t 29 Val Loss:\t 0.024169443903822783\n",
      "Epoch:\t 30 Val Loss:\t 0.024171388017806078\n",
      "Epoch:\t 31 Val Loss:\t 0.02416925395617842\n",
      "Epoch:\t 32 Val Loss:\t 0.024171195849689783\n",
      "Epoch:\t 33 Val Loss:\t 0.02417635169038057\n",
      "Epoch:\t 34 Val Loss:\t 0.024169061393479727\n",
      "Epoch:\t 35 Val Loss:\t 0.024177228491396596\n",
      "Epoch:\t 36 Val Loss:\t 0.02418379028972608\n"
     ]
    },
    {
     "name": "stderr",
     "output_type": "stream",
     "text": [
      "[I 2025-09-29 19:38:22,924] Trial 21 finished with value: 0.024163908433781 and parameters: {'lr': 0.001, 'weight_decay': 1e-05, 'scheduler_factor': 0.1, 'scheduler_patience': 5, 'batch_size': 64, 'dropout': 0.2, 'hidden_dims': 128}. Best is trial 14 with value: 0.024160732724338996.\n"
     ]
    },
    {
     "name": "stdout",
     "output_type": "stream",
     "text": [
      "Epoch:\t 37 Val Loss:\t 0.024171961120097913\n",
      "Epoch:\t 0 Val Loss:\t 0.02433381018402337\n",
      "Epoch:\t 1 Val Loss:\t 0.024285673784893123\n",
      "Epoch:\t 2 Val Loss:\t 0.024293763914377414\n",
      "Epoch:\t 3 Val Loss:\t 0.02427352761533014\n",
      "Epoch:\t 4 Val Loss:\t 0.02425402586980227\n",
      "Epoch:\t 5 Val Loss:\t 0.024273823959686972\n",
      "Epoch:\t 6 Val Loss:\t 0.02426792825861373\n",
      "Epoch:\t 7 Val Loss:\t 0.024275434915315808\n",
      "Epoch:\t 8 Val Loss:\t 0.02427000854892988\n",
      "Epoch:\t 9 Val Loss:\t 0.024262362878144792\n",
      "Epoch:\t 10 Val Loss:\t 0.02426050018651051\n",
      "Epoch:\t 11 Val Loss:\t 0.024186780158423852\n",
      "Epoch:\t 12 Val Loss:\t 0.024173248713826343\n",
      "Epoch:\t 13 Val Loss:\t 0.024176238572794686\n",
      "Epoch:\t 14 Val Loss:\t 0.024178336024742727\n",
      "Epoch:\t 15 Val Loss:\t 0.024175830462161565\n",
      "Epoch:\t 16 Val Loss:\t 0.024189109583744737\n",
      "Epoch:\t 17 Val Loss:\t 0.02418669895444647\n",
      "Epoch:\t 18 Val Loss:\t 0.02418406082947484\n",
      "Epoch:\t 19 Val Loss:\t 0.02416632633420595\n",
      "Epoch:\t 20 Val Loss:\t 0.024180401699294272\n",
      "Epoch:\t 21 Val Loss:\t 0.024166835870894316\n",
      "Epoch:\t 22 Val Loss:\t 0.024179115394174673\n",
      "Epoch:\t 23 Val Loss:\t 0.02417319298149435\n",
      "Epoch:\t 24 Val Loss:\t 0.02417951904656717\n",
      "Epoch:\t 25 Val Loss:\t 0.024169725298371275\n",
      "Epoch:\t 26 Val Loss:\t 0.02417302506452062\n",
      "Epoch:\t 27 Val Loss:\t 0.024182095128050463\n",
      "Epoch:\t 28 Val Loss:\t 0.024176542511511457\n"
     ]
    },
    {
     "name": "stderr",
     "output_type": "stream",
     "text": [
      "[I 2025-09-29 19:40:52,617] Trial 22 finished with value: 0.02416632633420595 and parameters: {'lr': 0.001, 'weight_decay': 1e-05, 'scheduler_factor': 0.1, 'scheduler_patience': 5, 'batch_size': 64, 'dropout': 0.2, 'hidden_dims': 128}. Best is trial 14 with value: 0.024160732724338996.\n"
     ]
    },
    {
     "name": "stdout",
     "output_type": "stream",
     "text": [
      "Epoch:\t 29 Val Loss:\t 0.024171445409005732\n",
      "Epoch:\t 0 Val Loss:\t 0.024303473106267074\n",
      "Epoch:\t 1 Val Loss:\t 0.024304797455616558\n",
      "Epoch:\t 2 Val Loss:\t 0.024291179218025174\n",
      "Epoch:\t 3 Val Loss:\t 0.024288930705879844\n",
      "Epoch:\t 4 Val Loss:\t 0.02428697821702019\n",
      "Epoch:\t 5 Val Loss:\t 0.024281065182428476\n",
      "Epoch:\t 6 Val Loss:\t 0.024278087110122967\n",
      "Epoch:\t 7 Val Loss:\t 0.024277869676841392\n",
      "Epoch:\t 8 Val Loss:\t 0.024267719362365665\n",
      "Epoch:\t 9 Val Loss:\t 0.024276347372527395\n",
      "Epoch:\t 10 Val Loss:\t 0.024267912672068306\n",
      "Epoch:\t 11 Val Loss:\t 0.02427904316328479\n",
      "Epoch:\t 12 Val Loss:\t 0.02427682929277178\n",
      "Epoch:\t 13 Val Loss:\t 0.02429176361510315\n",
      "Epoch:\t 14 Val Loss:\t 0.024263694361327904\n",
      "Epoch:\t 15 Val Loss:\t 0.024285348511700427\n"
     ]
    },
    {
     "name": "stderr",
     "output_type": "stream",
     "text": [
      "[I 2025-09-29 19:42:16,732] Trial 23 pruned. \n"
     ]
    },
    {
     "name": "stdout",
     "output_type": "stream",
     "text": [
      "Epoch:\t 16 Val Loss:\t 0.024288742519262153\n",
      "Epoch:\t 0 Val Loss:\t 0.024285784978214143\n",
      "Epoch:\t 1 Val Loss:\t 0.024288691659212044\n",
      "Epoch:\t 2 Val Loss:\t 0.024282942405505645\n",
      "Epoch:\t 3 Val Loss:\t 0.02428576040275728\n",
      "Epoch:\t 4 Val Loss:\t 0.024273730082587663\n",
      "Epoch:\t 5 Val Loss:\t 0.024273580789903326\n",
      "Epoch:\t 6 Val Loss:\t 0.02428926514203266\n",
      "Epoch:\t 7 Val Loss:\t 0.02426162518310083\n",
      "Epoch:\t 8 Val Loss:\t 0.02426789072031416\n",
      "Epoch:\t 9 Val Loss:\t 0.02427168038159661\n",
      "Epoch:\t 10 Val Loss:\t 0.02427080998470703\n",
      "Epoch:\t 11 Val Loss:\t 0.024276387321563286\n",
      "Epoch:\t 12 Val Loss:\t 0.024279652559049795\n",
      "Epoch:\t 13 Val Loss:\t 0.024266924177206193\n",
      "Epoch:\t 14 Val Loss:\t 0.024189647961704107\n",
      "Epoch:\t 15 Val Loss:\t 0.02419156058476854\n",
      "Epoch:\t 16 Val Loss:\t 0.024189295823395563\n",
      "Epoch:\t 17 Val Loss:\t 0.024174751365774603\n",
      "Epoch:\t 18 Val Loss:\t 0.024178632916109687\n",
      "Epoch:\t 19 Val Loss:\t 0.02417519474018298\n",
      "Epoch:\t 20 Val Loss:\t 0.02417972014089414\n",
      "Epoch:\t 21 Val Loss:\t 0.024187842253173983\n",
      "Epoch:\t 22 Val Loss:\t 0.024174536529169552\n",
      "Epoch:\t 23 Val Loss:\t 0.024183216451240774\n",
      "Epoch:\t 24 Val Loss:\t 0.02417343931982874\n",
      "Epoch:\t 25 Val Loss:\t 0.024169370443389918\n",
      "Epoch:\t 26 Val Loss:\t 0.024173558669654493\n",
      "Epoch:\t 27 Val Loss:\t 0.02416809175317016\n",
      "Epoch:\t 28 Val Loss:\t 0.02417383670971204\n",
      "Epoch:\t 29 Val Loss:\t 0.02416568105576589\n",
      "Epoch:\t 30 Val Loss:\t 0.024177834742934428\n",
      "Epoch:\t 31 Val Loss:\t 0.02417804855038209\n",
      "Epoch:\t 32 Val Loss:\t 0.024179010348231274\n",
      "Epoch:\t 33 Val Loss:\t 0.024173988969872252\n",
      "Epoch:\t 34 Val Loss:\t 0.024166636896501843\n",
      "Epoch:\t 35 Val Loss:\t 0.024176477210826466\n",
      "Epoch:\t 36 Val Loss:\t 0.024173315144206158\n",
      "Epoch:\t 37 Val Loss:\t 0.024174167797860198\n",
      "Epoch:\t 38 Val Loss:\t 0.024175068171120837\n"
     ]
    },
    {
     "name": "stderr",
     "output_type": "stream",
     "text": [
      "[I 2025-09-29 19:45:35,897] Trial 24 finished with value: 0.02416568105576589 and parameters: {'lr': 0.001, 'weight_decay': 1e-05, 'scheduler_factor': 0.1, 'scheduler_patience': 5, 'batch_size': 64, 'dropout': 0.2, 'hidden_dims': 128}. Best is trial 14 with value: 0.024160732724338996.\n"
     ]
    },
    {
     "name": "stdout",
     "output_type": "stream",
     "text": [
      "Epoch:\t 39 Val Loss:\t 0.02416984472495141\n",
      "Epoch:\t 0 Val Loss:\t 0.02433374766703615\n",
      "Epoch:\t 1 Val Loss:\t 0.0243051297610244\n"
     ]
    },
    {
     "name": "stderr",
     "output_type": "stream",
     "text": [
      "[I 2025-09-29 19:45:59,986] Trial 25 pruned. \n"
     ]
    },
    {
     "name": "stdout",
     "output_type": "stream",
     "text": [
      "Epoch:\t 2 Val Loss:\t 0.024330073187059605\n",
      "Epoch:\t 0 Val Loss:\t 0.024312285950859526\n",
      "Epoch:\t 1 Val Loss:\t 0.024270525327629466\n",
      "Epoch:\t 2 Val Loss:\t 0.024265907676706607\n",
      "Epoch:\t 3 Val Loss:\t 0.02426643715900965\n",
      "Epoch:\t 4 Val Loss:\t 0.024251836852866044\n",
      "Epoch:\t 5 Val Loss:\t 0.02426607613468004\n",
      "Epoch:\t 6 Val Loss:\t 0.024256108882517904\n",
      "Epoch:\t 7 Val Loss:\t 0.02425649987358457\n",
      "Epoch:\t 8 Val Loss:\t 0.02423640792706979\n",
      "Epoch:\t 9 Val Loss:\t 0.0242520708560459\n",
      "Epoch:\t 10 Val Loss:\t 0.02426458302448297\n",
      "Epoch:\t 11 Val Loss:\t 0.024263194825989168\n",
      "Epoch:\t 12 Val Loss:\t 0.024266188250341898\n",
      "Epoch:\t 13 Val Loss:\t 0.024230671966498182\n",
      "Epoch:\t 14 Val Loss:\t 0.02424409781538305\n",
      "Epoch:\t 15 Val Loss:\t 0.024253841234278043\n",
      "Epoch:\t 16 Val Loss:\t 0.02424919474588731\n",
      "Epoch:\t 17 Val Loss:\t 0.024271372009099016\n"
     ]
    },
    {
     "name": "stderr",
     "output_type": "stream",
     "text": [
      "[I 2025-09-29 19:47:06,882] Trial 26 pruned. \n"
     ]
    },
    {
     "name": "stdout",
     "output_type": "stream",
     "text": [
      "Epoch:\t 18 Val Loss:\t 0.024240129624042362\n"
     ]
    },
    {
     "name": "stderr",
     "output_type": "stream",
     "text": [
      "[I 2025-09-29 19:47:11,846] Trial 27 pruned. \n"
     ]
    },
    {
     "name": "stdout",
     "output_type": "stream",
     "text": [
      "Epoch:\t 0 Val Loss:\t 0.02481571718016926\n"
     ]
    },
    {
     "name": "stderr",
     "output_type": "stream",
     "text": [
      "[I 2025-09-29 19:47:16,901] Trial 28 pruned. \n"
     ]
    },
    {
     "name": "stdout",
     "output_type": "stream",
     "text": [
      "Epoch:\t 0 Val Loss:\t 0.060062999209552326\n"
     ]
    },
    {
     "name": "stderr",
     "output_type": "stream",
     "text": [
      "[I 2025-09-29 19:47:22,005] Trial 29 pruned. \n"
     ]
    },
    {
     "name": "stdout",
     "output_type": "stream",
     "text": [
      "Epoch:\t 0 Val Loss:\t 0.026846229538183122\n",
      "Epoch:\t 0 Val Loss:\t 0.02433146313438219\n"
     ]
    },
    {
     "name": "stderr",
     "output_type": "stream",
     "text": [
      "[I 2025-09-29 19:47:31,819] Trial 30 pruned. \n"
     ]
    },
    {
     "name": "stdout",
     "output_type": "stream",
     "text": [
      "Epoch:\t 1 Val Loss:\t 0.02432539745585834\n",
      "Epoch:\t 0 Val Loss:\t 0.02431724311538512\n",
      "Epoch:\t 1 Val Loss:\t 0.024305042547502976\n",
      "Epoch:\t 2 Val Loss:\t 0.024276514326287645\n",
      "Epoch:\t 3 Val Loss:\t 0.024269711904041792\n",
      "Epoch:\t 4 Val Loss:\t 0.02428551339309228\n",
      "Epoch:\t 5 Val Loss:\t 0.024273453904094213\n",
      "Epoch:\t 6 Val Loss:\t 0.024274853992725068\n",
      "Epoch:\t 7 Val Loss:\t 0.024256204423028165\n",
      "Epoch:\t 8 Val Loss:\t 0.02425934420385059\n",
      "Epoch:\t 9 Val Loss:\t 0.024264748564429985\n",
      "Epoch:\t 10 Val Loss:\t 0.024280941101938087\n",
      "Epoch:\t 11 Val Loss:\t 0.02426729059291142\n",
      "Epoch:\t 12 Val Loss:\t 0.024274994610001786\n",
      "Epoch:\t 13 Val Loss:\t 0.024269845289109547\n",
      "Epoch:\t 14 Val Loss:\t 0.024182473289338712\n",
      "Epoch:\t 15 Val Loss:\t 0.02418053362494766\n",
      "Epoch:\t 16 Val Loss:\t 0.024170873649915638\n",
      "Epoch:\t 17 Val Loss:\t 0.024174472476013578\n",
      "Epoch:\t 18 Val Loss:\t 0.02418497620767725\n",
      "Epoch:\t 19 Val Loss:\t 0.024175538273352008\n",
      "Epoch:\t 20 Val Loss:\t 0.024173056277610228\n",
      "Epoch:\t 21 Val Loss:\t 0.024174740493678105\n",
      "Epoch:\t 22 Val Loss:\t 0.024204476350011415\n",
      "Epoch:\t 23 Val Loss:\t 0.02417057926333615\n",
      "Epoch:\t 24 Val Loss:\t 0.0241767425485738\n",
      "Epoch:\t 25 Val Loss:\t 0.024172445688909108\n",
      "Epoch:\t 26 Val Loss:\t 0.024166158836678716\n",
      "Epoch:\t 27 Val Loss:\t 0.02417273642370954\n",
      "Epoch:\t 28 Val Loss:\t 0.02417374711031839\n",
      "Epoch:\t 29 Val Loss:\t 0.024171518373778237\n",
      "Epoch:\t 30 Val Loss:\t 0.02416748611026217\n",
      "Epoch:\t 31 Val Loss:\t 0.02417256854889667\n",
      "Epoch:\t 32 Val Loss:\t 0.02416822530688135\n",
      "Epoch:\t 33 Val Loss:\t 0.02416901385224599\n",
      "Epoch:\t 34 Val Loss:\t 0.02417142553934941\n",
      "Epoch:\t 35 Val Loss:\t 0.024172388652833617\n"
     ]
    },
    {
     "name": "stderr",
     "output_type": "stream",
     "text": [
      "[I 2025-09-29 19:50:35,354] Trial 31 finished with value: 0.024166158836678716 and parameters: {'lr': 0.001, 'weight_decay': 1e-05, 'scheduler_factor': 0.1, 'scheduler_patience': 5, 'batch_size': 64, 'dropout': 0.2, 'hidden_dims': 128}. Best is trial 14 with value: 0.024160732724338996.\n"
     ]
    },
    {
     "name": "stdout",
     "output_type": "stream",
     "text": [
      "Epoch:\t 36 Val Loss:\t 0.02416916598592362\n",
      "Epoch:\t 0 Val Loss:\t 0.02430615226888961\n",
      "Epoch:\t 1 Val Loss:\t 0.02428716705875278\n",
      "Epoch:\t 2 Val Loss:\t 0.024277781116875084\n",
      "Epoch:\t 3 Val Loss:\t 0.024283375479691748\n",
      "Epoch:\t 4 Val Loss:\t 0.024274211655815742\n",
      "Epoch:\t 5 Val Loss:\t 0.024267110241727296\n",
      "Epoch:\t 6 Val Loss:\t 0.02426205001429839\n",
      "Epoch:\t 7 Val Loss:\t 0.024286047154978063\n",
      "Epoch:\t 8 Val Loss:\t 0.024266412764900103\n",
      "Epoch:\t 9 Val Loss:\t 0.024269306027934222\n",
      "Epoch:\t 10 Val Loss:\t 0.02430533727569353\n",
      "Epoch:\t 11 Val Loss:\t 0.024267421651564567\n",
      "Epoch:\t 12 Val Loss:\t 0.024272714069656903\n",
      "Epoch:\t 13 Val Loss:\t 0.02417793554306307\n",
      "Epoch:\t 14 Val Loss:\t 0.024178842293964487\n",
      "Epoch:\t 15 Val Loss:\t 0.02418409854074204\n",
      "Epoch:\t 16 Val Loss:\t 0.02417898411823094\n",
      "Epoch:\t 17 Val Loss:\t 0.024174108815898883\n",
      "Epoch:\t 18 Val Loss:\t 0.02418201632183683\n",
      "Epoch:\t 19 Val Loss:\t 0.024185919659606814\n",
      "Epoch:\t 20 Val Loss:\t 0.024175213482306574\n",
      "Epoch:\t 21 Val Loss:\t 0.024188202995540996\n",
      "Epoch:\t 22 Val Loss:\t 0.024183118932091838\n",
      "Epoch:\t 23 Val Loss:\t 0.024176083539747182\n",
      "Epoch:\t 24 Val Loss:\t 0.02417460113690298\n",
      "Epoch:\t 25 Val Loss:\t 0.0241663423499273\n",
      "Epoch:\t 26 Val Loss:\t 0.024182419362896865\n",
      "Epoch:\t 27 Val Loss:\t 0.02416829099133827\n",
      "Epoch:\t 28 Val Loss:\t 0.024171397255358485\n",
      "Epoch:\t 29 Val Loss:\t 0.024172721765784073\n",
      "Epoch:\t 30 Val Loss:\t 0.024170277201318147\n",
      "Epoch:\t 31 Val Loss:\t 0.02417558557891735\n",
      "Epoch:\t 32 Val Loss:\t 0.024180184747078913\n",
      "Epoch:\t 33 Val Loss:\t 0.024171093846355077\n",
      "Epoch:\t 34 Val Loss:\t 0.02417946352882314\n"
     ]
    },
    {
     "name": "stderr",
     "output_type": "stream",
     "text": [
      "[I 2025-09-29 19:53:35,350] Trial 32 finished with value: 0.0241663423499273 and parameters: {'lr': 0.001, 'weight_decay': 1e-05, 'scheduler_factor': 0.1, 'scheduler_patience': 5, 'batch_size': 64, 'dropout': 0.2, 'hidden_dims': 128}. Best is trial 14 with value: 0.024160732724338996.\n"
     ]
    },
    {
     "name": "stdout",
     "output_type": "stream",
     "text": [
      "Epoch:\t 35 Val Loss:\t 0.024170895434107397\n",
      "Epoch:\t 0 Val Loss:\t 0.024320748542693987\n",
      "Epoch:\t 1 Val Loss:\t 0.024274654755678186\n",
      "Epoch:\t 2 Val Loss:\t 0.024247117424935415\n",
      "Epoch:\t 3 Val Loss:\t 0.024247234927341082\n",
      "Epoch:\t 4 Val Loss:\t 0.024278869261828866\n",
      "Epoch:\t 5 Val Loss:\t 0.02427445491613619\n",
      "Epoch:\t 6 Val Loss:\t 0.02426191140290752\n",
      "Epoch:\t 7 Val Loss:\t 0.024297155567491374\n",
      "Epoch:\t 8 Val Loss:\t 0.024263371015778818\n",
      "Epoch:\t 9 Val Loss:\t 0.024175510143603737\n",
      "Epoch:\t 10 Val Loss:\t 0.024183926472178596\n",
      "Epoch:\t 11 Val Loss:\t 0.024169068132353023\n",
      "Epoch:\t 12 Val Loss:\t 0.024170907177506976\n",
      "Epoch:\t 13 Val Loss:\t 0.024167012453563813\n",
      "Epoch:\t 14 Val Loss:\t 0.024178859093048018\n",
      "Epoch:\t 15 Val Loss:\t 0.024169858192438724\n",
      "Epoch:\t 16 Val Loss:\t 0.02417253796119377\n",
      "Epoch:\t 17 Val Loss:\t 0.024169225338738276\n",
      "Epoch:\t 18 Val Loss:\t 0.02415770414944102\n",
      "Epoch:\t 19 Val Loss:\t 0.024164024790214605\n",
      "Epoch:\t 20 Val Loss:\t 0.024162262156778788\n",
      "Epoch:\t 21 Val Loss:\t 0.024163558564292704\n",
      "Epoch:\t 22 Val Loss:\t 0.024160973379403594\n",
      "Epoch:\t 23 Val Loss:\t 0.024164025415423025\n",
      "Epoch:\t 24 Val Loss:\t 0.024167654642123518\n",
      "Epoch:\t 25 Val Loss:\t 0.02416456730887034\n",
      "Epoch:\t 26 Val Loss:\t 0.024163491115337464\n",
      "Epoch:\t 27 Val Loss:\t 0.024166918083869622\n"
     ]
    },
    {
     "name": "stderr",
     "output_type": "stream",
     "text": [
      "[I 2025-09-29 19:55:15,344] Trial 33 finished with value: 0.02415770414944102 and parameters: {'lr': 0.001, 'weight_decay': 1e-05, 'scheduler_factor': 0.1, 'scheduler_patience': 5, 'batch_size': 128, 'dropout': 0.2, 'hidden_dims': 128}. Best is trial 33 with value: 0.02415770414944102.\n"
     ]
    },
    {
     "name": "stdout",
     "output_type": "stream",
     "text": [
      "Epoch:\t 28 Val Loss:\t 0.02416210235653577\n"
     ]
    },
    {
     "name": "stderr",
     "output_type": "stream",
     "text": [
      "[I 2025-09-29 19:55:18,858] Trial 34 pruned. \n"
     ]
    },
    {
     "name": "stdout",
     "output_type": "stream",
     "text": [
      "Epoch:\t 0 Val Loss:\t 0.0424733011530113\n",
      "Epoch:\t 0 Val Loss:\t 0.02434195302920059\n",
      "Epoch:\t 1 Val Loss:\t 0.024237376119634276\n",
      "Epoch:\t 2 Val Loss:\t 0.024249503376020786\n",
      "Epoch:\t 3 Val Loss:\t 0.024254104083579177\n",
      "Epoch:\t 4 Val Loss:\t 0.02424174359416574\n",
      "Epoch:\t 5 Val Loss:\t 0.024251699544982627\n",
      "Epoch:\t 6 Val Loss:\t 0.024256441060726237\n",
      "Epoch:\t 7 Val Loss:\t 0.02425306443553353\n",
      "Epoch:\t 8 Val Loss:\t 0.024183687729096855\n",
      "Epoch:\t 9 Val Loss:\t 0.02417621728893841\n",
      "Epoch:\t 10 Val Loss:\t 0.024161797884362776\n",
      "Epoch:\t 11 Val Loss:\t 0.024161582473020797\n",
      "Epoch:\t 12 Val Loss:\t 0.024169345006658224\n",
      "Epoch:\t 13 Val Loss:\t 0.024160211246015025\n",
      "Epoch:\t 14 Val Loss:\t 0.024161705193428903\n",
      "Epoch:\t 15 Val Loss:\t 0.024166743929793195\n",
      "Epoch:\t 16 Val Loss:\t 0.02417938093872228\n",
      "Epoch:\t 17 Val Loss:\t 0.024157688726912253\n",
      "Epoch:\t 18 Val Loss:\t 0.024161767045795295\n",
      "Epoch:\t 19 Val Loss:\t 0.024161402404342933\n",
      "Epoch:\t 20 Val Loss:\t 0.024160892604206636\n",
      "Epoch:\t 21 Val Loss:\t 0.024161105923588267\n",
      "Epoch:\t 22 Val Loss:\t 0.02415959750768338\n",
      "Epoch:\t 23 Val Loss:\t 0.024158422743228807\n",
      "Epoch:\t 24 Val Loss:\t 0.024164934053099805\n",
      "Epoch:\t 25 Val Loss:\t 0.02416276364315747\n",
      "Epoch:\t 26 Val Loss:\t 0.024158355839438\n"
     ]
    },
    {
     "name": "stderr",
     "output_type": "stream",
     "text": [
      "[I 2025-09-29 19:56:55,682] Trial 35 finished with value: 0.024157688726912253 and parameters: {'lr': 0.001, 'weight_decay': 1e-05, 'scheduler_factor': 0.1, 'scheduler_patience': 5, 'batch_size': 128, 'dropout': 0.2, 'hidden_dims': 64}. Best is trial 35 with value: 0.024157688726912253.\n"
     ]
    },
    {
     "name": "stdout",
     "output_type": "stream",
     "text": [
      "Epoch:\t 27 Val Loss:\t 0.024161893824649745\n"
     ]
    },
    {
     "name": "stderr",
     "output_type": "stream",
     "text": [
      "[I 2025-09-29 19:56:59,183] Trial 36 pruned. \n"
     ]
    },
    {
     "name": "stdout",
     "output_type": "stream",
     "text": [
      "Epoch:\t 0 Val Loss:\t 0.024411940198655606\n"
     ]
    },
    {
     "name": "stderr",
     "output_type": "stream",
     "text": [
      "[I 2025-09-29 19:57:02,645] Trial 37 pruned. \n"
     ]
    },
    {
     "name": "stdout",
     "output_type": "stream",
     "text": [
      "Epoch:\t 0 Val Loss:\t 0.0810139879809301\n"
     ]
    },
    {
     "name": "stderr",
     "output_type": "stream",
     "text": [
      "[I 2025-09-29 19:57:06,116] Trial 38 pruned. \n"
     ]
    },
    {
     "name": "stdout",
     "output_type": "stream",
     "text": [
      "Epoch:\t 0 Val Loss:\t 0.02438258914694484\n"
     ]
    },
    {
     "name": "stderr",
     "output_type": "stream",
     "text": [
      "[I 2025-09-29 19:57:09,670] Trial 39 pruned. \n"
     ]
    },
    {
     "name": "stdout",
     "output_type": "stream",
     "text": [
      "Epoch:\t 0 Val Loss:\t 0.028247200274941674\n"
     ]
    },
    {
     "name": "stderr",
     "output_type": "stream",
     "text": [
      "[I 2025-09-29 19:57:13,241] Trial 40 pruned. \n"
     ]
    },
    {
     "name": "stdout",
     "output_type": "stream",
     "text": [
      "Epoch:\t 0 Val Loss:\t 0.024426185825577873\n",
      "Epoch:\t 0 Val Loss:\t 0.024351436693432645\n"
     ]
    },
    {
     "name": "stderr",
     "output_type": "stream",
     "text": [
      "[I 2025-09-29 19:57:59,075] Trial 41 pruned. \n"
     ]
    },
    {
     "name": "stdout",
     "output_type": "stream",
     "text": [
      "Epoch:\t 1 Val Loss:\t 0.024332298511734084\n",
      "Epoch:\t 0 Val Loss:\t 0.024330469648593207\n"
     ]
    },
    {
     "name": "stderr",
     "output_type": "stream",
     "text": [
      "[I 2025-09-29 19:58:15,704] Trial 42 pruned. \n"
     ]
    },
    {
     "name": "stdout",
     "output_type": "stream",
     "text": [
      "Epoch:\t 1 Val Loss:\t 0.024316753627806987\n"
     ]
    },
    {
     "name": "stderr",
     "output_type": "stream",
     "text": [
      "[I 2025-09-29 19:58:19,256] Trial 43 pruned. \n"
     ]
    },
    {
     "name": "stdout",
     "output_type": "stream",
     "text": [
      "Epoch:\t 0 Val Loss:\t 0.024448911318691764\n"
     ]
    },
    {
     "name": "stderr",
     "output_type": "stream",
     "text": [
      "[I 2025-09-29 19:58:46,908] Trial 44 pruned. \n"
     ]
    },
    {
     "name": "stdout",
     "output_type": "stream",
     "text": [
      "Epoch:\t 0 Val Loss:\t 0.024374832926529092\n"
     ]
    },
    {
     "name": "stderr",
     "output_type": "stream",
     "text": [
      "[I 2025-09-29 19:58:50,404] Trial 45 pruned. \n"
     ]
    },
    {
     "name": "stdout",
     "output_type": "stream",
     "text": [
      "Epoch:\t 0 Val Loss:\t 0.03030014617647651\n"
     ]
    },
    {
     "name": "stderr",
     "output_type": "stream",
     "text": [
      "[I 2025-09-29 19:58:58,906] Trial 46 pruned. \n"
     ]
    },
    {
     "name": "stdout",
     "output_type": "stream",
     "text": [
      "Epoch:\t 0 Val Loss:\t 0.024542552253336267\n"
     ]
    },
    {
     "name": "stderr",
     "output_type": "stream",
     "text": [
      "[I 2025-09-29 19:59:01,982] Trial 47 pruned. \n"
     ]
    },
    {
     "name": "stdout",
     "output_type": "stream",
     "text": [
      "Epoch:\t 0 Val Loss:\t 0.024515973915194358\n"
     ]
    },
    {
     "name": "stderr",
     "output_type": "stream",
     "text": [
      "[I 2025-09-29 19:59:05,593] Trial 48 pruned. \n"
     ]
    },
    {
     "name": "stdout",
     "output_type": "stream",
     "text": [
      "Epoch:\t 0 Val Loss:\t 0.056104592117940645\n"
     ]
    },
    {
     "name": "stderr",
     "output_type": "stream",
     "text": [
      "[I 2025-09-29 19:59:31,072] Trial 49 pruned. \n"
     ]
    },
    {
     "name": "stdout",
     "output_type": "stream",
     "text": [
      "Epoch:\t 0 Val Loss:\t 0.024375813045515587\n",
      "Training model with best parameters on train+validation ...\n"
     ]
    },
    {
     "name": "stderr",
     "output_type": "stream",
     "text": [
      "100%|███████████████████████████████████████████████████████████████████████████████████████████████████████████████████████████████████████████████████| 557340/557340 [05:25<00:00, 1713.98it/s]\n",
      "100%|███████████████████████████████████████████████████████████████████████████████████████████████████████████████████████████████████████████████████| 557340/557340 [01:36<00:00, 5756.44it/s]\n"
     ]
    },
    {
     "name": "stdout",
     "output_type": "stream",
     "text": [
      "Getting test set predictions and saving results ...\n"
     ]
    },
    {
     "name": "stderr",
     "output_type": "stream",
     "text": [
      "100%|██████████████████████████████████████████████████████████████████████████████████████████████████████████████████████████████████████████████████████████| 820/820 [00:01<00:00, 641.38it/s]\n"
     ]
    }
   ],
   "source": [
    "train_different_fs(\n",
    "        adata_path=\"./data/feature_selection/sciplex_seurat.h5ad\",\n",
    "        run_name=\"mlp_seurat_fs\",\n",
    "        res_savename=\"./results/feature_selection/mlp_seurat_fs_res.pkl\",\n",
    "    )"
   ]
  },
  {
   "cell_type": "code",
   "execution_count": 5,
   "id": "d0cfa483-d2f2-4a4b-9596-ded85ec4e78e",
   "metadata": {},
   "outputs": [
    {
     "name": "stdout",
     "output_type": "stream",
     "text": [
      "Loading Datasets ...\n"
     ]
    },
    {
     "name": "stderr",
     "output_type": "stream",
     "text": [
      "100%|███████████████████████████████████████████████████████████████████████████████████████████████████████████████████████████████████████████████████| 557340/557340 [04:14<00:00, 2186.56it/s]\n",
      "100%|███████████████████████████████████████████████████████████████████████████████████████████████████████████████████████████████████████████████████| 557340/557340 [01:41<00:00, 5484.71it/s]\n",
      "[I 2025-09-29 20:13:42,598] A new study created in RDB with name: mlp_seuratv3_fs\n"
     ]
    },
    {
     "name": "stdout",
     "output_type": "stream",
     "text": [
      "Optimizing Hyperparameters with Optuna ...\n",
      "Epoch:\t 0 Val Loss:\t 0.04136226326227188\n",
      "Epoch:\t 1 Val Loss:\t 0.04063789379479024\n",
      "Epoch:\t 2 Val Loss:\t 0.04096596580729944\n",
      "Epoch:\t 3 Val Loss:\t 0.040755962868600774\n",
      "Epoch:\t 4 Val Loss:\t 0.04088575773711266\n",
      "Epoch:\t 5 Val Loss:\t 0.04089627300716859\n",
      "Epoch:\t 6 Val Loss:\t 0.0405981310845529\n",
      "Epoch:\t 7 Val Loss:\t 0.040654449915117505\n",
      "Epoch:\t 8 Val Loss:\t 0.040440048953208914\n",
      "Epoch:\t 9 Val Loss:\t 0.04030220348141335\n",
      "Epoch:\t 10 Val Loss:\t 0.04020482874134692\n",
      "Epoch:\t 11 Val Loss:\t 0.040129199572141165\n",
      "Epoch:\t 12 Val Loss:\t 0.04011968479564242\n",
      "Epoch:\t 13 Val Loss:\t 0.04010264323234697\n",
      "Epoch:\t 14 Val Loss:\t 0.040079074229235984\n",
      "Epoch:\t 15 Val Loss:\t 0.04006418708655615\n",
      "Epoch:\t 16 Val Loss:\t 0.04008030135110972\n",
      "Epoch:\t 17 Val Loss:\t 0.040069178707300576\n",
      "Epoch:\t 18 Val Loss:\t 0.04004950557903546\n",
      "Epoch:\t 19 Val Loss:\t 0.04003759488273027\n",
      "Epoch:\t 20 Val Loss:\t 0.04006487609652\n",
      "Epoch:\t 21 Val Loss:\t 0.040068602031497036\n",
      "Epoch:\t 22 Val Loss:\t 0.04004964310758067\n",
      "Epoch:\t 23 Val Loss:\t 0.040048128523962286\n",
      "Epoch:\t 24 Val Loss:\t 0.04005513524984926\n",
      "Epoch:\t 25 Val Loss:\t 0.04005252763750107\n",
      "Epoch:\t 26 Val Loss:\t 0.04003140772936236\n",
      "Epoch:\t 27 Val Loss:\t 0.04004688586490218\n",
      "Epoch:\t 28 Val Loss:\t 0.04002816079056775\n",
      "Epoch:\t 29 Val Loss:\t 0.04004479265413772\n",
      "Epoch:\t 30 Val Loss:\t 0.040033293872829376\n",
      "Epoch:\t 31 Val Loss:\t 0.040027659749839364\n",
      "Epoch:\t 32 Val Loss:\t 0.04004614168516296\n",
      "Epoch:\t 33 Val Loss:\t 0.04002495169743428\n",
      "Epoch:\t 34 Val Loss:\t 0.04004269001548991\n",
      "Epoch:\t 35 Val Loss:\t 0.04003168834193797\n",
      "Epoch:\t 36 Val Loss:\t 0.04004702753410107\n",
      "Epoch:\t 37 Val Loss:\t 0.040036807518179826\n",
      "Epoch:\t 38 Val Loss:\t 0.04003866362135585\n",
      "Epoch:\t 39 Val Loss:\t 0.04002928050639461\n",
      "Epoch:\t 40 Val Loss:\t 0.04003469449977426\n",
      "Epoch:\t 41 Val Loss:\t 0.04006175263746967\n",
      "Epoch:\t 42 Val Loss:\t 0.040055978463467264\n"
     ]
    },
    {
     "name": "stderr",
     "output_type": "stream",
     "text": [
      "[I 2025-09-29 20:16:27,090] Trial 0 finished with value: 0.04002495169743428 and parameters: {'lr': 0.0001, 'weight_decay': 1e-05, 'scheduler_factor': 0.5, 'scheduler_patience': 5, 'batch_size': 128, 'dropout': 0.2, 'hidden_dims': 512}. Best is trial 0 with value: 0.04002495169743428.\n"
     ]
    },
    {
     "name": "stdout",
     "output_type": "stream",
     "text": [
      "Epoch:\t 43 Val Loss:\t 0.04004591160413834\n",
      "Epoch:\t 0 Val Loss:\t 0.08806895856247392\n",
      "Epoch:\t 1 Val Loss:\t 0.06465503666116748\n",
      "Epoch:\t 2 Val Loss:\t 0.055011141820009365\n",
      "Epoch:\t 3 Val Loss:\t 0.050687914185745774\n",
      "Epoch:\t 4 Val Loss:\t 0.048294858651798826\n",
      "Epoch:\t 5 Val Loss:\t 0.04706426603329736\n",
      "Epoch:\t 6 Val Loss:\t 0.046306703265669734\n",
      "Epoch:\t 7 Val Loss:\t 0.04578556199233199\n",
      "Epoch:\t 8 Val Loss:\t 0.04535853698156601\n",
      "Epoch:\t 9 Val Loss:\t 0.045052290699163146\n",
      "Epoch:\t 10 Val Loss:\t 0.04477341787586379\n",
      "Epoch:\t 11 Val Loss:\t 0.044531083540167916\n",
      "Epoch:\t 12 Val Loss:\t 0.04434561825595623\n",
      "Epoch:\t 13 Val Loss:\t 0.04419080193132855\n",
      "Epoch:\t 14 Val Loss:\t 0.043997285038579345\n",
      "Epoch:\t 15 Val Loss:\t 0.04384838965569818\n",
      "Epoch:\t 16 Val Loss:\t 0.04373468596401603\n",
      "Epoch:\t 17 Val Loss:\t 0.043591495845900025\n",
      "Epoch:\t 18 Val Loss:\t 0.04347623845692291\n",
      "Epoch:\t 19 Val Loss:\t 0.04334739729069\n",
      "Epoch:\t 20 Val Loss:\t 0.04324747861124748\n",
      "Epoch:\t 21 Val Loss:\t 0.04316980169089728\n",
      "Epoch:\t 22 Val Loss:\t 0.043072320650829825\n",
      "Epoch:\t 23 Val Loss:\t 0.04301897778587286\n",
      "Epoch:\t 24 Val Loss:\t 0.042930587615038075\n",
      "Epoch:\t 25 Val Loss:\t 0.04285041048776272\n",
      "Epoch:\t 26 Val Loss:\t 0.04274997501525768\n",
      "Epoch:\t 27 Val Loss:\t 0.04272514372890772\n",
      "Epoch:\t 28 Val Loss:\t 0.042679777524845544\n",
      "Epoch:\t 29 Val Loss:\t 0.042598547812464624\n",
      "Epoch:\t 30 Val Loss:\t 0.04254436536237251\n",
      "Epoch:\t 31 Val Loss:\t 0.042482093106522116\n",
      "Epoch:\t 32 Val Loss:\t 0.04243816340905289\n",
      "Epoch:\t 33 Val Loss:\t 0.04240125391718953\n",
      "Epoch:\t 34 Val Loss:\t 0.04235078117182089\n",
      "Epoch:\t 35 Val Loss:\t 0.04235328104087087\n",
      "Epoch:\t 36 Val Loss:\t 0.042282509361935214\n",
      "Epoch:\t 37 Val Loss:\t 0.04226100213479164\n",
      "Epoch:\t 38 Val Loss:\t 0.04220530482572178\n",
      "Epoch:\t 39 Val Loss:\t 0.042171798966998277\n",
      "Epoch:\t 40 Val Loss:\t 0.04212241338262724\n",
      "Epoch:\t 41 Val Loss:\t 0.04209316900476467\n",
      "Epoch:\t 42 Val Loss:\t 0.04204067926593991\n",
      "Epoch:\t 43 Val Loss:\t 0.04204914931987607\n",
      "Epoch:\t 44 Val Loss:\t 0.042009199739888654\n",
      "Epoch:\t 45 Val Loss:\t 0.04198734995930694\n",
      "Epoch:\t 46 Val Loss:\t 0.04197683622843997\n",
      "Epoch:\t 47 Val Loss:\t 0.04191419456240743\n",
      "Epoch:\t 48 Val Loss:\t 0.04190718894607799\n",
      "Epoch:\t 49 Val Loss:\t 0.04185894951224327\n",
      "Epoch:\t 50 Val Loss:\t 0.0418235425512458\n",
      "Epoch:\t 51 Val Loss:\t 0.041827219196183735\n",
      "Epoch:\t 52 Val Loss:\t 0.041798441086051075\n",
      "Epoch:\t 53 Val Loss:\t 0.04179549208560655\n",
      "Epoch:\t 54 Val Loss:\t 0.0417871386159298\n",
      "Epoch:\t 55 Val Loss:\t 0.041763465357727785\n",
      "Epoch:\t 56 Val Loss:\t 0.04176293009415615\n",
      "Epoch:\t 57 Val Loss:\t 0.04167721650974695\n",
      "Epoch:\t 58 Val Loss:\t 0.041687801826831905\n",
      "Epoch:\t 59 Val Loss:\t 0.04168727630099585\n",
      "Epoch:\t 60 Val Loss:\t 0.04162519154853599\n",
      "Epoch:\t 61 Val Loss:\t 0.04162323996424675\n",
      "Epoch:\t 62 Val Loss:\t 0.041610002907556155\n",
      "Epoch:\t 63 Val Loss:\t 0.04158225134015083\n",
      "Epoch:\t 64 Val Loss:\t 0.04157147632781849\n",
      "Epoch:\t 65 Val Loss:\t 0.04154660824772923\n",
      "Epoch:\t 66 Val Loss:\t 0.0415268165427585\n",
      "Epoch:\t 67 Val Loss:\t 0.041528826570788095\n",
      "Epoch:\t 68 Val Loss:\t 0.04151431152293848\n",
      "Epoch:\t 69 Val Loss:\t 0.041518896237708804\n",
      "Epoch:\t 70 Val Loss:\t 0.04150655263558377\n",
      "Epoch:\t 71 Val Loss:\t 0.04149571317572926\n",
      "Epoch:\t 72 Val Loss:\t 0.041451696332457454\n",
      "Epoch:\t 73 Val Loss:\t 0.04143726014813712\n",
      "Epoch:\t 74 Val Loss:\t 0.04143478505659935\n",
      "Epoch:\t 75 Val Loss:\t 0.0414344574303128\n",
      "Epoch:\t 76 Val Loss:\t 0.04142163267662359\n",
      "Epoch:\t 77 Val Loss:\t 0.04141423260403234\n",
      "Epoch:\t 78 Val Loss:\t 0.04142134887881057\n",
      "Epoch:\t 79 Val Loss:\t 0.04137408285466738\n",
      "Epoch:\t 80 Val Loss:\t 0.041366185923648435\n",
      "Epoch:\t 81 Val Loss:\t 0.04134434959742912\n",
      "Epoch:\t 82 Val Loss:\t 0.04137222046942212\n",
      "Epoch:\t 83 Val Loss:\t 0.04134030203486598\n",
      "Epoch:\t 84 Val Loss:\t 0.04133912145571653\n",
      "Epoch:\t 85 Val Loss:\t 0.041322521137636764\n",
      "Epoch:\t 86 Val Loss:\t 0.041314610986168995\n",
      "Epoch:\t 87 Val Loss:\t 0.04136390291847462\n",
      "Epoch:\t 88 Val Loss:\t 0.04131165276779685\n",
      "Epoch:\t 89 Val Loss:\t 0.041335840384627495\n",
      "Epoch:\t 90 Val Loss:\t 0.04130410913291366\n",
      "Epoch:\t 91 Val Loss:\t 0.0413110040388135\n",
      "Epoch:\t 92 Val Loss:\t 0.04130290067473123\n",
      "Epoch:\t 93 Val Loss:\t 0.04126948767969774\n",
      "Epoch:\t 94 Val Loss:\t 0.04127585520577985\n",
      "Epoch:\t 95 Val Loss:\t 0.041313043539953784\n",
      "Epoch:\t 96 Val Loss:\t 0.04128477688618871\n",
      "Epoch:\t 97 Val Loss:\t 0.04127755677977274\n",
      "Epoch:\t 98 Val Loss:\t 0.04126375136507112\n"
     ]
    },
    {
     "name": "stderr",
     "output_type": "stream",
     "text": [
      "[I 2025-09-29 20:21:41,023] Trial 1 finished with value: 0.0412447071699209 and parameters: {'lr': 1e-06, 'weight_decay': 1e-06, 'scheduler_factor': 0.1, 'scheduler_patience': 5, 'batch_size': 256, 'dropout': 0.05, 'hidden_dims': 512}. Best is trial 0 with value: 0.04002495169743428.\n"
     ]
    },
    {
     "name": "stdout",
     "output_type": "stream",
     "text": [
      "Epoch:\t 99 Val Loss:\t 0.0412447071699209\n",
      "Epoch:\t 0 Val Loss:\t 0.040805942669164305\n",
      "Epoch:\t 1 Val Loss:\t 0.04070344555170037\n",
      "Epoch:\t 2 Val Loss:\t 0.040919826353012126\n",
      "Epoch:\t 3 Val Loss:\t 0.04091866491145866\n",
      "Epoch:\t 4 Val Loss:\t 0.040714026337792704\n",
      "Epoch:\t 5 Val Loss:\t 0.04060129239981951\n",
      "Epoch:\t 6 Val Loss:\t 0.04026141493299673\n",
      "Epoch:\t 7 Val Loss:\t 0.04018875542421674\n",
      "Epoch:\t 8 Val Loss:\t 0.040312391805440884\n",
      "Epoch:\t 9 Val Loss:\t 0.04020001337278721\n",
      "Epoch:\t 10 Val Loss:\t 0.04019782650609349\n",
      "Epoch:\t 11 Val Loss:\t 0.04020787738263607\n",
      "Epoch:\t 12 Val Loss:\t 0.04026678971253162\n",
      "Epoch:\t 13 Val Loss:\t 0.04022687296707963\n",
      "Epoch:\t 14 Val Loss:\t 0.040178376496877784\n",
      "Epoch:\t 15 Val Loss:\t 0.040176533379180486\n",
      "Epoch:\t 16 Val Loss:\t 0.04017596309788005\n",
      "Epoch:\t 17 Val Loss:\t 0.04019831328024698\n",
      "Epoch:\t 18 Val Loss:\t 0.04016040089691794\n",
      "Epoch:\t 19 Val Loss:\t 0.040222168843760044\n",
      "Epoch:\t 20 Val Loss:\t 0.040179998349658276\n",
      "Epoch:\t 21 Val Loss:\t 0.04018581236690976\n",
      "Epoch:\t 22 Val Loss:\t 0.040172557047633235\n",
      "Epoch:\t 23 Val Loss:\t 0.040186237751744514\n",
      "Epoch:\t 24 Val Loss:\t 0.04017921194953974\n",
      "Epoch:\t 25 Val Loss:\t 0.04016803426798\n",
      "Epoch:\t 26 Val Loss:\t 0.040171134610508766\n",
      "Epoch:\t 27 Val Loss:\t 0.04019904074280761\n"
     ]
    },
    {
     "name": "stderr",
     "output_type": "stream",
     "text": [
      "[I 2025-09-29 20:23:11,256] Trial 2 finished with value: 0.04016040089691794 and parameters: {'lr': 0.0001, 'weight_decay': 0.0001, 'scheduler_factor': 0.8, 'scheduler_patience': 5, 'batch_size': 256, 'dropout': 0.15, 'hidden_dims': 1024}. Best is trial 0 with value: 0.04002495169743428.\n"
     ]
    },
    {
     "name": "stdout",
     "output_type": "stream",
     "text": [
      "Epoch:\t 28 Val Loss:\t 0.04017572156045326\n",
      "Epoch:\t 0 Val Loss:\t 0.0401843722310335\n",
      "Epoch:\t 1 Val Loss:\t 0.0402502836401488\n",
      "Epoch:\t 2 Val Loss:\t 0.04021136045275424\n",
      "Epoch:\t 3 Val Loss:\t 0.040241752872096255\n",
      "Epoch:\t 4 Val Loss:\t 0.04020132224217228\n",
      "Epoch:\t 5 Val Loss:\t 0.040221511897190934\n",
      "Epoch:\t 6 Val Loss:\t 0.04027106725522565\n",
      "Epoch:\t 7 Val Loss:\t 0.04022253564268839\n",
      "Epoch:\t 8 Val Loss:\t 0.0402361306859199\n",
      "Epoch:\t 9 Val Loss:\t 0.0402176416510532\n"
     ]
    },
    {
     "name": "stderr",
     "output_type": "stream",
     "text": [
      "[I 2025-09-29 20:27:11,403] Trial 3 finished with value: 0.0401843722310335 and parameters: {'lr': 0.0001, 'weight_decay': 0.0001, 'scheduler_factor': 0.1, 'scheduler_patience': 20, 'batch_size': 16, 'dropout': 0.15, 'hidden_dims': 64}. Best is trial 0 with value: 0.04002495169743428.\n"
     ]
    },
    {
     "name": "stdout",
     "output_type": "stream",
     "text": [
      "Epoch:\t 10 Val Loss:\t 0.04027910538106383\n",
      "Epoch:\t 0 Val Loss:\t 0.04210866297780603\n",
      "Epoch:\t 1 Val Loss:\t 0.040754736963826005\n",
      "Epoch:\t 2 Val Loss:\t 0.04102285449229315\n",
      "Epoch:\t 3 Val Loss:\t 0.041033114553648095\n",
      "Epoch:\t 4 Val Loss:\t 0.04120880058786583\n",
      "Epoch:\t 5 Val Loss:\t 0.04161269934464179\n",
      "Epoch:\t 6 Val Loss:\t 0.04169815601008062\n",
      "Epoch:\t 7 Val Loss:\t 0.041922011244577236\n",
      "Epoch:\t 8 Val Loss:\t 0.042020111165841305\n",
      "Epoch:\t 9 Val Loss:\t 0.042120547493832164\n",
      "Epoch:\t 10 Val Loss:\t 0.042075981254658584\n"
     ]
    },
    {
     "name": "stderr",
     "output_type": "stream",
     "text": [
      "[I 2025-09-29 20:28:52,380] Trial 4 finished with value: 0.040754736963826005 and parameters: {'lr': 1e-05, 'weight_decay': 0.001, 'scheduler_factor': 0.5, 'scheduler_patience': 10, 'batch_size': 32, 'dropout': 0.2, 'hidden_dims': 64}. Best is trial 0 with value: 0.04002495169743428.\n"
     ]
    },
    {
     "name": "stdout",
     "output_type": "stream",
     "text": [
      "Epoch:\t 11 Val Loss:\t 0.042113214206908306\n"
     ]
    },
    {
     "name": "stderr",
     "output_type": "stream",
     "text": [
      "[I 2025-09-29 20:28:57,694] Trial 5 pruned. \n"
     ]
    },
    {
     "name": "stdout",
     "output_type": "stream",
     "text": [
      "Epoch:\t 0 Val Loss:\t 0.04142585390280377\n",
      "Epoch:\t 0 Val Loss:\t 0.04037077137793717\n",
      "Epoch:\t 1 Val Loss:\t 0.040320143826445304\n",
      "Epoch:\t 2 Val Loss:\t 0.04027910055975021\n",
      "Epoch:\t 3 Val Loss:\t 0.04026092742415042\n",
      "Epoch:\t 4 Val Loss:\t 0.04032374998554858\n",
      "Epoch:\t 5 Val Loss:\t 0.040247559892768944\n",
      "Epoch:\t 6 Val Loss:\t 0.040297786059768956\n",
      "Epoch:\t 7 Val Loss:\t 0.04024180413361481\n",
      "Epoch:\t 8 Val Loss:\t 0.040288168673230484\n",
      "Epoch:\t 9 Val Loss:\t 0.04024023930848198\n",
      "Epoch:\t 10 Val Loss:\t 0.04037829768358494\n",
      "Epoch:\t 11 Val Loss:\t 0.04027662751230147\n",
      "Epoch:\t 12 Val Loss:\t 0.040267504578469525\n"
     ]
    },
    {
     "name": "stderr",
     "output_type": "stream",
     "text": [
      "[I 2025-09-29 20:34:56,091] Trial 6 pruned. \n"
     ]
    },
    {
     "name": "stdout",
     "output_type": "stream",
     "text": [
      "Epoch:\t 13 Val Loss:\t 0.040269322957625746\n",
      "Epoch:\t 0 Val Loss:\t 0.04058597558286301\n",
      "Epoch:\t 1 Val Loss:\t 0.040398151514142056\n",
      "Epoch:\t 2 Val Loss:\t 0.04051273701669172\n",
      "Epoch:\t 3 Val Loss:\t 0.04050038878827594\n",
      "Epoch:\t 4 Val Loss:\t 0.04043130515099958\n",
      "Epoch:\t 5 Val Loss:\t 0.040394683173576064\n",
      "Epoch:\t 6 Val Loss:\t 0.04038816578686237\n",
      "Epoch:\t 7 Val Loss:\t 0.04040691228800042\n",
      "Epoch:\t 8 Val Loss:\t 0.04041347136331159\n"
     ]
    },
    {
     "name": "stderr",
     "output_type": "stream",
     "text": [
      "[I 2025-09-29 20:35:28,478] Trial 7 pruned. \n"
     ]
    },
    {
     "name": "stdout",
     "output_type": "stream",
     "text": [
      "Epoch:\t 9 Val Loss:\t 0.04043926980433076\n"
     ]
    },
    {
     "name": "stderr",
     "output_type": "stream",
     "text": [
      "[I 2025-09-29 20:35:31,806] Trial 8 pruned. \n"
     ]
    },
    {
     "name": "stdout",
     "output_type": "stream",
     "text": [
      "Epoch:\t 0 Val Loss:\t 0.05086642955971318\n"
     ]
    },
    {
     "name": "stderr",
     "output_type": "stream",
     "text": [
      "[I 2025-09-29 20:35:56,462] Trial 9 pruned. \n"
     ]
    },
    {
     "name": "stdout",
     "output_type": "stream",
     "text": [
      "Epoch:\t 0 Val Loss:\t 0.04160622857326211\n"
     ]
    },
    {
     "name": "stderr",
     "output_type": "stream",
     "text": [
      "[I 2025-09-29 20:36:00,243] Trial 10 pruned. \n"
     ]
    },
    {
     "name": "stdout",
     "output_type": "stream",
     "text": [
      "Epoch:\t 0 Val Loss:\t 0.09994704599095278\n"
     ]
    },
    {
     "name": "stderr",
     "output_type": "stream",
     "text": [
      "[I 2025-09-29 20:36:04,056] Trial 11 pruned. \n"
     ]
    },
    {
     "name": "stdout",
     "output_type": "stream",
     "text": [
      "Epoch:\t 0 Val Loss:\t 0.04200826163006715\n",
      "Epoch:\t 0 Val Loss:\t 0.040413184582529446\n",
      "Epoch:\t 1 Val Loss:\t 0.04033497148966817\n",
      "Epoch:\t 2 Val Loss:\t 0.04021639137179456\n",
      "Epoch:\t 3 Val Loss:\t 0.040138446949811765\n",
      "Epoch:\t 4 Val Loss:\t 0.04016138509815855\n",
      "Epoch:\t 5 Val Loss:\t 0.04013208283001122\n",
      "Epoch:\t 6 Val Loss:\t 0.040207182709452165\n",
      "Epoch:\t 7 Val Loss:\t 0.04018467188781424\n",
      "Epoch:\t 8 Val Loss:\t 0.040172450101645565\n",
      "Epoch:\t 9 Val Loss:\t 0.0401722084899605\n",
      "Epoch:\t 10 Val Loss:\t 0.040174323070305426\n",
      "Epoch:\t 11 Val Loss:\t 0.04015765806419924\n",
      "Epoch:\t 12 Val Loss:\t 0.04013064384252767\n",
      "Epoch:\t 13 Val Loss:\t 0.04013352855416956\n",
      "Epoch:\t 14 Val Loss:\t 0.0401447369575362\n",
      "Epoch:\t 15 Val Loss:\t 0.040140810644342786\n",
      "Epoch:\t 16 Val Loss:\t 0.040141456283447216\n",
      "Epoch:\t 17 Val Loss:\t 0.040178530584505906\n",
      "Epoch:\t 18 Val Loss:\t 0.04011694879274335\n",
      "Epoch:\t 19 Val Loss:\t 0.04011718371102065\n",
      "Epoch:\t 20 Val Loss:\t 0.04011313718041615\n",
      "Epoch:\t 21 Val Loss:\t 0.040123292499164534\n",
      "Epoch:\t 22 Val Loss:\t 0.04012995586231887\n",
      "Epoch:\t 23 Val Loss:\t 0.040132634830634076\n",
      "Epoch:\t 24 Val Loss:\t 0.040122347253263344\n",
      "Epoch:\t 25 Val Loss:\t 0.04009974425556906\n",
      "Epoch:\t 26 Val Loss:\t 0.04011434753199349\n",
      "Epoch:\t 27 Val Loss:\t 0.040121478196255146\n",
      "Epoch:\t 28 Val Loss:\t 0.040121886632583696\n",
      "Epoch:\t 29 Val Loss:\t 0.04012386378389756\n",
      "Epoch:\t 30 Val Loss:\t 0.0401115585918972\n",
      "Epoch:\t 31 Val Loss:\t 0.040122580631234785\n",
      "Epoch:\t 32 Val Loss:\t 0.040110078496419316\n",
      "Epoch:\t 33 Val Loss:\t 0.04012488121216582\n",
      "Epoch:\t 34 Val Loss:\t 0.040113509545031324\n"
     ]
    },
    {
     "name": "stderr",
     "output_type": "stream",
     "text": [
      "[I 2025-09-29 20:38:18,878] Trial 12 finished with value: 0.04009974425556906 and parameters: {'lr': 0.0001, 'weight_decay': 0.0001, 'scheduler_factor': 0.3, 'scheduler_patience': 5, 'batch_size': 128, 'dropout': 0.15, 'hidden_dims': 128}. Best is trial 0 with value: 0.04002495169743428.\n"
     ]
    },
    {
     "name": "stdout",
     "output_type": "stream",
     "text": [
      "Epoch:\t 35 Val Loss:\t 0.04011035413328779\n"
     ]
    },
    {
     "name": "stderr",
     "output_type": "stream",
     "text": [
      "[I 2025-09-29 20:38:22,843] Trial 13 pruned. \n"
     ]
    },
    {
     "name": "stdout",
     "output_type": "stream",
     "text": [
      "Epoch:\t 0 Val Loss:\t 0.04128221167158443\n",
      "Epoch:\t 0 Val Loss:\t 0.04057020029003335\n",
      "Epoch:\t 1 Val Loss:\t 0.04033148242431097\n",
      "Epoch:\t 2 Val Loss:\t 0.04026430339901843\n",
      "Epoch:\t 3 Val Loss:\t 0.04013719091691622\n",
      "Epoch:\t 4 Val Loss:\t 0.04014050360859894\n",
      "Epoch:\t 5 Val Loss:\t 0.040149990867273874\n",
      "Epoch:\t 6 Val Loss:\t 0.04019318608422174\n",
      "Epoch:\t 7 Val Loss:\t 0.04017229398126248\n",
      "Epoch:\t 8 Val Loss:\t 0.040147476097294126\n",
      "Epoch:\t 9 Val Loss:\t 0.04014755745659583\n",
      "Epoch:\t 10 Val Loss:\t 0.04015575164148063\n",
      "Epoch:\t 11 Val Loss:\t 0.040141657051066766\n",
      "Epoch:\t 12 Val Loss:\t 0.04013127823220728\n",
      "Epoch:\t 13 Val Loss:\t 0.04014573274364178\n",
      "Epoch:\t 14 Val Loss:\t 0.04015404006745342\n",
      "Epoch:\t 15 Val Loss:\t 0.04013368164153465\n",
      "Epoch:\t 16 Val Loss:\t 0.040123527992893177\n",
      "Epoch:\t 17 Val Loss:\t 0.0401566071169717\n",
      "Epoch:\t 18 Val Loss:\t 0.040128463128544865\n",
      "Epoch:\t 19 Val Loss:\t 0.04012458492827609\n",
      "Epoch:\t 20 Val Loss:\t 0.04014759361051655\n",
      "Epoch:\t 21 Val Loss:\t 0.040155134121611556\n",
      "Epoch:\t 22 Val Loss:\t 0.04011338103765948\n",
      "Epoch:\t 23 Val Loss:\t 0.04014096771227358\n",
      "Epoch:\t 24 Val Loss:\t 0.040138983793998016\n",
      "Epoch:\t 25 Val Loss:\t 0.040132324329202045\n",
      "Epoch:\t 26 Val Loss:\t 0.040171278525970265\n",
      "Epoch:\t 27 Val Loss:\t 0.04014330532977251\n",
      "Epoch:\t 28 Val Loss:\t 0.04013172119561665\n",
      "Epoch:\t 29 Val Loss:\t 0.040119951692573146\n"
     ]
    },
    {
     "name": "stderr",
     "output_type": "stream",
     "text": [
      "[I 2025-09-29 20:40:22,423] Trial 14 pruned. \n"
     ]
    },
    {
     "name": "stdout",
     "output_type": "stream",
     "text": [
      "Epoch:\t 30 Val Loss:\t 0.04012465288345545\n"
     ]
    },
    {
     "name": "stderr",
     "output_type": "stream",
     "text": [
      "[I 2025-09-29 20:40:26,405] Trial 15 pruned. \n"
     ]
    },
    {
     "name": "stdout",
     "output_type": "stream",
     "text": [
      "Epoch:\t 0 Val Loss:\t 0.0412348448477348\n",
      "Epoch:\t 0 Val Loss:\t 0.04083276570310305\n",
      "Epoch:\t 1 Val Loss:\t 0.04035960395133433\n",
      "Epoch:\t 2 Val Loss:\t 0.04040185709765534\n",
      "Epoch:\t 3 Val Loss:\t 0.040587596993112866\n",
      "Epoch:\t 4 Val Loss:\t 0.040357505025918304\n",
      "Epoch:\t 5 Val Loss:\t 0.04054445893143196\n",
      "Epoch:\t 6 Val Loss:\t 0.040794238707594445\n",
      "Epoch:\t 7 Val Loss:\t 0.04046865687578553\n",
      "Epoch:\t 8 Val Loss:\t 0.0405255910582101\n"
     ]
    },
    {
     "name": "stderr",
     "output_type": "stream",
     "text": [
      "[I 2025-09-29 20:41:19,443] Trial 16 pruned. \n"
     ]
    },
    {
     "name": "stdout",
     "output_type": "stream",
     "text": [
      "Epoch:\t 9 Val Loss:\t 0.04050669247890999\n"
     ]
    },
    {
     "name": "stderr",
     "output_type": "stream",
     "text": [
      "[I 2025-09-29 20:41:27,521] Trial 17 pruned. \n"
     ]
    },
    {
     "name": "stdout",
     "output_type": "stream",
     "text": [
      "Epoch:\t 0 Val Loss:\t 0.06181042277304433\n",
      "Epoch:\t 0 Val Loss:\t 0.04068111270908418\n",
      "Epoch:\t 1 Val Loss:\t 0.04056839438525226\n",
      "Epoch:\t 2 Val Loss:\t 0.04071564845628301\n",
      "Epoch:\t 3 Val Loss:\t 0.04058385603173131\n",
      "Epoch:\t 4 Val Loss:\t 0.040289170278558606\n",
      "Epoch:\t 5 Val Loss:\t 0.040253122582702826\n",
      "Epoch:\t 6 Val Loss:\t 0.04028615863013766\n",
      "Epoch:\t 7 Val Loss:\t 0.040271373048130506\n",
      "Epoch:\t 8 Val Loss:\t 0.040171999094897444\n",
      "Epoch:\t 9 Val Loss:\t 0.04017444281177931\n",
      "Epoch:\t 10 Val Loss:\t 0.04014618349078779\n",
      "Epoch:\t 11 Val Loss:\t 0.04017884769713837\n",
      "Epoch:\t 12 Val Loss:\t 0.04017183937902512\n",
      "Epoch:\t 13 Val Loss:\t 0.04016448738232999\n",
      "Epoch:\t 14 Val Loss:\t 0.04013698426498215\n",
      "Epoch:\t 15 Val Loss:\t 0.040147880094426575\n",
      "Epoch:\t 16 Val Loss:\t 0.04013324784640651\n",
      "Epoch:\t 17 Val Loss:\t 0.040120670111129506\n",
      "Epoch:\t 18 Val Loss:\t 0.04013851259885903\n",
      "Epoch:\t 19 Val Loss:\t 0.040121000009165964\n",
      "Epoch:\t 20 Val Loss:\t 0.040125157567266805\n",
      "Epoch:\t 21 Val Loss:\t 0.040120473713478835\n",
      "Epoch:\t 22 Val Loss:\t 0.04012677477592652\n",
      "Epoch:\t 23 Val Loss:\t 0.04012444475611605\n",
      "Epoch:\t 24 Val Loss:\t 0.04013051554716423\n",
      "Epoch:\t 25 Val Loss:\t 0.040133280223116505\n",
      "Epoch:\t 26 Val Loss:\t 0.040125240380340335\n",
      "Epoch:\t 27 Val Loss:\t 0.040120689356299366\n",
      "Epoch:\t 28 Val Loss:\t 0.04012811770197545\n",
      "Epoch:\t 29 Val Loss:\t 0.0401254362977271\n"
     ]
    },
    {
     "name": "stderr",
     "output_type": "stream",
     "text": [
      "[I 2025-09-29 20:43:22,234] Trial 18 pruned. \n"
     ]
    },
    {
     "name": "stdout",
     "output_type": "stream",
     "text": [
      "Epoch:\t 30 Val Loss:\t 0.04013163215641914\n"
     ]
    },
    {
     "name": "stderr",
     "output_type": "stream",
     "text": [
      "[I 2025-09-29 20:43:25,991] Trial 19 pruned. \n"
     ]
    },
    {
     "name": "stdout",
     "output_type": "stream",
     "text": [
      "Epoch:\t 0 Val Loss:\t 0.04130870299835654\n"
     ]
    },
    {
     "name": "stderr",
     "output_type": "stream",
     "text": [
      "[I 2025-09-29 20:43:29,650] Trial 20 pruned. \n"
     ]
    },
    {
     "name": "stdout",
     "output_type": "stream",
     "text": [
      "Epoch:\t 0 Val Loss:\t 0.04203349000122074\n",
      "Epoch:\t 0 Val Loss:\t 0.041013200711025745\n"
     ]
    },
    {
     "name": "stderr",
     "output_type": "stream",
     "text": [
      "[I 2025-09-29 20:43:35,799] Trial 21 pruned. \n"
     ]
    },
    {
     "name": "stdout",
     "output_type": "stream",
     "text": [
      "Epoch:\t 1 Val Loss:\t 0.04098624171212662\n",
      "Epoch:\t 0 Val Loss:\t 0.04107616664192011\n"
     ]
    },
    {
     "name": "stderr",
     "output_type": "stream",
     "text": [
      "[I 2025-09-29 20:43:42,071] Trial 22 pruned. \n"
     ]
    },
    {
     "name": "stdout",
     "output_type": "stream",
     "text": [
      "Epoch:\t 1 Val Loss:\t 0.04100844250168911\n",
      "Epoch:\t 0 Val Loss:\t 0.040757846722873366\n",
      "Epoch:\t 1 Val Loss:\t 0.04018972979915813\n",
      "Epoch:\t 2 Val Loss:\t 0.040255524205109854\n",
      "Epoch:\t 3 Val Loss:\t 0.0402455745406505\n",
      "Epoch:\t 4 Val Loss:\t 0.04022138773339887\n",
      "Epoch:\t 5 Val Loss:\t 0.0402149762342091\n",
      "Epoch:\t 6 Val Loss:\t 0.04021392250244381\n",
      "Epoch:\t 7 Val Loss:\t 0.04020643430354978\n",
      "Epoch:\t 8 Val Loss:\t 0.0402199302930266\n",
      "Epoch:\t 9 Val Loss:\t 0.04018441984647246\n",
      "Epoch:\t 10 Val Loss:\t 0.04017980100756735\n",
      "Epoch:\t 11 Val Loss:\t 0.04019223220399903\n",
      "Epoch:\t 12 Val Loss:\t 0.04019930481140999\n",
      "Epoch:\t 13 Val Loss:\t 0.04021013355789597\n"
     ]
    },
    {
     "name": "stderr",
     "output_type": "stream",
     "text": [
      "[I 2025-09-29 20:44:58,601] Trial 23 pruned. \n"
     ]
    },
    {
     "name": "stdout",
     "output_type": "stream",
     "text": [
      "Epoch:\t 14 Val Loss:\t 0.04019520496619834\n",
      "Epoch:\t 0 Val Loss:\t 0.04039971874210631\n",
      "Epoch:\t 1 Val Loss:\t 0.04019636494224838\n",
      "Epoch:\t 2 Val Loss:\t 0.04018105011167425\n",
      "Epoch:\t 3 Val Loss:\t 0.04019794380589584\n",
      "Epoch:\t 4 Val Loss:\t 0.04020048799809421\n",
      "Epoch:\t 5 Val Loss:\t 0.04019709118791638\n",
      "Epoch:\t 6 Val Loss:\t 0.040254290429177976\n",
      "Epoch:\t 7 Val Loss:\t 0.04020170066711069\n",
      "Epoch:\t 8 Val Loss:\t 0.040228132326080225\n",
      "Epoch:\t 9 Val Loss:\t 0.04019799283248909\n",
      "Epoch:\t 10 Val Loss:\t 0.04021432687103039\n",
      "Epoch:\t 11 Val Loss:\t 0.04018625628432336\n"
     ]
    },
    {
     "name": "stderr",
     "output_type": "stream",
     "text": [
      "[I 2025-09-29 20:46:43,945] Trial 24 finished with value: 0.04018105011167425 and parameters: {'lr': 0.0001, 'weight_decay': 0.0001, 'scheduler_factor': 0.8, 'scheduler_patience': 5, 'batch_size': 32, 'dropout': 0.15, 'hidden_dims': 128}. Best is trial 0 with value: 0.04002495169743428.\n"
     ]
    },
    {
     "name": "stdout",
     "output_type": "stream",
     "text": [
      "Epoch:\t 12 Val Loss:\t 0.04020334806269466\n"
     ]
    },
    {
     "name": "stderr",
     "output_type": "stream",
     "text": [
      "[I 2025-09-29 20:46:47,112] Trial 25 pruned. \n"
     ]
    },
    {
     "name": "stdout",
     "output_type": "stream",
     "text": [
      "Epoch:\t 0 Val Loss:\t 0.04098056936853154\n"
     ]
    },
    {
     "name": "stderr",
     "output_type": "stream",
     "text": [
      "[I 2025-09-29 20:46:50,693] Trial 26 pruned. \n"
     ]
    },
    {
     "name": "stdout",
     "output_type": "stream",
     "text": [
      "Epoch:\t 0 Val Loss:\t 0.06577933856592223\n"
     ]
    },
    {
     "name": "stderr",
     "output_type": "stream",
     "text": [
      "[I 2025-09-29 20:46:54,330] Trial 27 pruned. \n"
     ]
    },
    {
     "name": "stdout",
     "output_type": "stream",
     "text": [
      "Epoch:\t 0 Val Loss:\t 0.042520232905355754\n",
      "Epoch:\t 0 Val Loss:\t 0.04037545609266259\n",
      "Epoch:\t 1 Val Loss:\t 0.04033167651572893\n",
      "Epoch:\t 2 Val Loss:\t 0.04036605951571187\n",
      "Epoch:\t 3 Val Loss:\t 0.04044371186647304\n",
      "Epoch:\t 4 Val Loss:\t 0.04028456777680752\n",
      "Epoch:\t 5 Val Loss:\t 0.040278549007205074\n",
      "Epoch:\t 6 Val Loss:\t 0.04024324843356775\n"
     ]
    },
    {
     "name": "stderr",
     "output_type": "stream",
     "text": [
      "[I 2025-09-29 20:47:18,824] Trial 28 pruned. \n"
     ]
    },
    {
     "name": "stdout",
     "output_type": "stream",
     "text": [
      "Epoch:\t 7 Val Loss:\t 0.04026573788981105\n"
     ]
    },
    {
     "name": "stderr",
     "output_type": "stream",
     "text": [
      "[I 2025-09-29 20:47:21,996] Trial 29 pruned. \n"
     ]
    },
    {
     "name": "stdout",
     "output_type": "stream",
     "text": [
      "Epoch:\t 0 Val Loss:\t 0.0671065965537415\n"
     ]
    },
    {
     "name": "stderr",
     "output_type": "stream",
     "text": [
      "[I 2025-09-29 20:47:38,396] Trial 30 pruned. \n"
     ]
    },
    {
     "name": "stdout",
     "output_type": "stream",
     "text": [
      "Epoch:\t 0 Val Loss:\t 0.041602206136342246\n",
      "Epoch:\t 0 Val Loss:\t 0.040284687805071134\n",
      "Epoch:\t 1 Val Loss:\t 0.04027421532271217\n",
      "Epoch:\t 2 Val Loss:\t 0.04024655171586238\n",
      "Epoch:\t 3 Val Loss:\t 0.040289534301266236\n",
      "Epoch:\t 4 Val Loss:\t 0.040243258238167386\n",
      "Epoch:\t 5 Val Loss:\t 0.040209827965716774\n",
      "Epoch:\t 6 Val Loss:\t 0.040212627944606234\n",
      "Epoch:\t 7 Val Loss:\t 0.04018673201394821\n",
      "Epoch:\t 8 Val Loss:\t 0.04019210217396274\n",
      "Epoch:\t 9 Val Loss:\t 0.04019568222712723\n",
      "Epoch:\t 10 Val Loss:\t 0.0402057350289403\n",
      "Epoch:\t 11 Val Loss:\t 0.040227578139420135\n",
      "Epoch:\t 12 Val Loss:\t 0.04025207948668261\n"
     ]
    },
    {
     "name": "stderr",
     "output_type": "stream",
     "text": [
      "[I 2025-09-29 20:49:17,747] Trial 31 pruned. \n"
     ]
    },
    {
     "name": "stdout",
     "output_type": "stream",
     "text": [
      "Epoch:\t 13 Val Loss:\t 0.04020339000193933\n",
      "Epoch:\t 0 Val Loss:\t 0.04027225468653669\n",
      "Epoch:\t 1 Val Loss:\t 0.04024613671463136\n",
      "Epoch:\t 2 Val Loss:\t 0.04020599781000988\n",
      "Epoch:\t 3 Val Loss:\t 0.04020258742457583\n",
      "Epoch:\t 4 Val Loss:\t 0.040220263342195244\n",
      "Epoch:\t 5 Val Loss:\t 0.04020476647292156\n",
      "Epoch:\t 6 Val Loss:\t 0.040250404209797974\n",
      "Epoch:\t 7 Val Loss:\t 0.04017793111399344\n",
      "Epoch:\t 8 Val Loss:\t 0.04021460851151723\n",
      "Epoch:\t 9 Val Loss:\t 0.04024223967828829\n",
      "Epoch:\t 10 Val Loss:\t 0.04022363100894924\n",
      "Epoch:\t 11 Val Loss:\t 0.04022716568135378\n",
      "Epoch:\t 12 Val Loss:\t 0.04019489340393334\n",
      "Epoch:\t 13 Val Loss:\t 0.040268730688937444\n"
     ]
    },
    {
     "name": "stderr",
     "output_type": "stream",
     "text": [
      "[I 2025-09-29 20:51:05,957] Trial 32 pruned. \n"
     ]
    },
    {
     "name": "stdout",
     "output_type": "stream",
     "text": [
      "Epoch:\t 14 Val Loss:\t 0.040162891378702985\n",
      "Epoch:\t 0 Val Loss:\t 0.040262597078458556\n",
      "Epoch:\t 1 Val Loss:\t 0.04015543396047949\n",
      "Epoch:\t 2 Val Loss:\t 0.040187747435545894\n",
      "Epoch:\t 3 Val Loss:\t 0.0401830495331378\n",
      "Epoch:\t 4 Val Loss:\t 0.04019275188037409\n",
      "Epoch:\t 5 Val Loss:\t 0.04020217048286423\n",
      "Epoch:\t 6 Val Loss:\t 0.04021791625742001\n",
      "Epoch:\t 7 Val Loss:\t 0.040180851656184666\n",
      "Epoch:\t 8 Val Loss:\t 0.040194697630523045\n",
      "Epoch:\t 9 Val Loss:\t 0.04018614975139888\n",
      "Epoch:\t 10 Val Loss:\t 0.040196401214641124\n"
     ]
    },
    {
     "name": "stderr",
     "output_type": "stream",
     "text": [
      "[I 2025-09-29 20:52:35,578] Trial 33 finished with value: 0.04015543396047949 and parameters: {'lr': 0.0001, 'weight_decay': 0.0001, 'scheduler_factor': 0.8, 'scheduler_patience': 5, 'batch_size': 32, 'dropout': 0.15, 'hidden_dims': 64}. Best is trial 0 with value: 0.04002495169743428.\n"
     ]
    },
    {
     "name": "stdout",
     "output_type": "stream",
     "text": [
      "Epoch:\t 11 Val Loss:\t 0.04023209050215577\n",
      "Epoch:\t 0 Val Loss:\t 0.04029976895151447\n",
      "Epoch:\t 1 Val Loss:\t 0.040162764079933654\n",
      "Epoch:\t 2 Val Loss:\t 0.04018615187457652\n",
      "Epoch:\t 3 Val Loss:\t 0.040235408636386215\n",
      "Epoch:\t 4 Val Loss:\t 0.04021886665778352\n",
      "Epoch:\t 5 Val Loss:\t 0.040210647788493356\n",
      "Epoch:\t 6 Val Loss:\t 0.04020588690749068\n",
      "Epoch:\t 7 Val Loss:\t 0.04021417399521353\n",
      "Epoch:\t 8 Val Loss:\t 0.040196614492375424\n",
      "Epoch:\t 9 Val Loss:\t 0.04017779591492768\n",
      "Epoch:\t 10 Val Loss:\t 0.04017399057196761\n"
     ]
    },
    {
     "name": "stderr",
     "output_type": "stream",
     "text": [
      "[I 2025-09-29 20:54:09,226] Trial 34 finished with value: 0.040162764079933654 and parameters: {'lr': 0.0001, 'weight_decay': 0.0001, 'scheduler_factor': 0.8, 'scheduler_patience': 20, 'batch_size': 32, 'dropout': 0.15, 'hidden_dims': 64}. Best is trial 0 with value: 0.04002495169743428.\n"
     ]
    },
    {
     "name": "stdout",
     "output_type": "stream",
     "text": [
      "Epoch:\t 11 Val Loss:\t 0.04019356329908602\n",
      "Epoch:\t 0 Val Loss:\t 0.04026263079201144\n",
      "Epoch:\t 1 Val Loss:\t 0.040206522947297284\n",
      "Epoch:\t 2 Val Loss:\t 0.040171899183075475\n",
      "Epoch:\t 3 Val Loss:\t 0.04018598525540053\n",
      "Epoch:\t 4 Val Loss:\t 0.04020732660462741\n",
      "Epoch:\t 5 Val Loss:\t 0.040254397949098984\n",
      "Epoch:\t 6 Val Loss:\t 0.04017378290162762\n",
      "Epoch:\t 7 Val Loss:\t 0.040182936481495825\n",
      "Epoch:\t 8 Val Loss:\t 0.04022308840625555\n",
      "Epoch:\t 9 Val Loss:\t 0.04018648130601911\n",
      "Epoch:\t 10 Val Loss:\t 0.0401868875226567\n",
      "Epoch:\t 11 Val Loss:\t 0.04018586322998177\n"
     ]
    },
    {
     "name": "stderr",
     "output_type": "stream",
     "text": [
      "[I 2025-09-29 20:55:54,658] Trial 35 finished with value: 0.040171899183075475 and parameters: {'lr': 0.0001, 'weight_decay': 0.0001, 'scheduler_factor': 0.5, 'scheduler_patience': 5, 'batch_size': 32, 'dropout': 0.15, 'hidden_dims': 64}. Best is trial 0 with value: 0.04002495169743428.\n"
     ]
    },
    {
     "name": "stdout",
     "output_type": "stream",
     "text": [
      "Epoch:\t 12 Val Loss:\t 0.0401726797038232\n"
     ]
    },
    {
     "name": "stderr",
     "output_type": "stream",
     "text": [
      "[I 2025-09-29 20:55:59,710] Trial 36 pruned. \n"
     ]
    },
    {
     "name": "stdout",
     "output_type": "stream",
     "text": [
      "Epoch:\t 0 Val Loss:\t 0.04795607191727248\n"
     ]
    },
    {
     "name": "stderr",
     "output_type": "stream",
     "text": [
      "[I 2025-09-29 20:56:20,873] Trial 37 pruned. \n"
     ]
    },
    {
     "name": "stdout",
     "output_type": "stream",
     "text": [
      "Epoch:\t 0 Val Loss:\t 0.042726486386269455\n",
      "Epoch:\t 0 Val Loss:\t 0.04030305999739272\n",
      "Epoch:\t 1 Val Loss:\t 0.04019267088233629\n",
      "Epoch:\t 2 Val Loss:\t 0.040194226265628186\n",
      "Epoch:\t 3 Val Loss:\t 0.04018307209892703\n",
      "Epoch:\t 4 Val Loss:\t 0.04024446918345335\n",
      "Epoch:\t 5 Val Loss:\t 0.04021050885656997\n",
      "Epoch:\t 6 Val Loss:\t 0.040216883490952864\n",
      "Epoch:\t 7 Val Loss:\t 0.04021374814242592\n",
      "Epoch:\t 8 Val Loss:\t 0.040179597276565095\n",
      "Epoch:\t 9 Val Loss:\t 0.04018366286391636\n",
      "Epoch:\t 10 Val Loss:\t 0.040177547671246754\n",
      "Epoch:\t 11 Val Loss:\t 0.040165331849241356\n",
      "Epoch:\t 12 Val Loss:\t 0.04021152268254127\n",
      "Epoch:\t 13 Val Loss:\t 0.04018935342376065\n"
     ]
    },
    {
     "name": "stderr",
     "output_type": "stream",
     "text": [
      "[I 2025-09-29 20:58:18,082] Trial 38 pruned. \n"
     ]
    },
    {
     "name": "stdout",
     "output_type": "stream",
     "text": [
      "Epoch:\t 14 Val Loss:\t 0.040187779567526026\n"
     ]
    },
    {
     "name": "stderr",
     "output_type": "stream",
     "text": [
      "[I 2025-09-29 20:58:21,377] Trial 39 pruned. \n"
     ]
    },
    {
     "name": "stdout",
     "output_type": "stream",
     "text": [
      "Epoch:\t 0 Val Loss:\t 0.04199667793893537\n"
     ]
    },
    {
     "name": "stderr",
     "output_type": "stream",
     "text": [
      "[I 2025-09-29 20:58:25,052] Trial 40 pruned. \n"
     ]
    },
    {
     "name": "stdout",
     "output_type": "stream",
     "text": [
      "Epoch:\t 0 Val Loss:\t 0.04059419303734405\n",
      "Epoch:\t 0 Val Loss:\t 0.04027224358904175\n",
      "Epoch:\t 1 Val Loss:\t 0.04019617778695017\n",
      "Epoch:\t 2 Val Loss:\t 0.04019684066917062\n",
      "Epoch:\t 3 Val Loss:\t 0.04018554173072652\n",
      "Epoch:\t 4 Val Loss:\t 0.04019347620880403\n",
      "Epoch:\t 5 Val Loss:\t 0.04021212562391112\n",
      "Epoch:\t 6 Val Loss:\t 0.04022469815489465\n",
      "Epoch:\t 7 Val Loss:\t 0.040247050888546666\n",
      "Epoch:\t 8 Val Loss:\t 0.04025571872774799\n",
      "Epoch:\t 9 Val Loss:\t 0.04020271744001797\n",
      "Epoch:\t 10 Val Loss:\t 0.04025005449087413\n",
      "Epoch:\t 11 Val Loss:\t 0.04020301210388619\n",
      "Epoch:\t 12 Val Loss:\t 0.04024552227199527\n",
      "Epoch:\t 13 Val Loss:\t 0.04017267124516564\n"
     ]
    },
    {
     "name": "stderr",
     "output_type": "stream",
     "text": [
      "[I 2025-09-29 21:00:16,704] Trial 41 pruned. \n"
     ]
    },
    {
     "name": "stdout",
     "output_type": "stream",
     "text": [
      "Epoch:\t 14 Val Loss:\t 0.04026110417539826\n",
      "Epoch:\t 0 Val Loss:\t 0.04027340785577002\n",
      "Epoch:\t 1 Val Loss:\t 0.04021507482467629\n",
      "Epoch:\t 2 Val Loss:\t 0.04016699039583212\n",
      "Epoch:\t 3 Val Loss:\t 0.04018602536767462\n",
      "Epoch:\t 4 Val Loss:\t 0.040188454005065107\n",
      "Epoch:\t 5 Val Loss:\t 0.04022040816690952\n",
      "Epoch:\t 6 Val Loss:\t 0.040200557720804726\n",
      "Epoch:\t 7 Val Loss:\t 0.04019459520774184\n",
      "Epoch:\t 8 Val Loss:\t 0.04017471500363761\n",
      "Epoch:\t 9 Val Loss:\t 0.04025914515052434\n",
      "Epoch:\t 10 Val Loss:\t 0.04017584764755921\n",
      "Epoch:\t 11 Val Loss:\t 0.04021416139776494\n"
     ]
    },
    {
     "name": "stderr",
     "output_type": "stream",
     "text": [
      "[I 2025-09-29 21:01:54,259] Trial 42 finished with value: 0.04016699039583212 and parameters: {'lr': 0.0001, 'weight_decay': 0.0001, 'scheduler_factor': 0.8, 'scheduler_patience': 20, 'batch_size': 32, 'dropout': 0.15, 'hidden_dims': 64}. Best is trial 0 with value: 0.04002495169743428.\n"
     ]
    },
    {
     "name": "stdout",
     "output_type": "stream",
     "text": [
      "Epoch:\t 12 Val Loss:\t 0.04023373987497594\n",
      "Epoch:\t 0 Val Loss:\t 0.0402948585383754\n",
      "Epoch:\t 1 Val Loss:\t 0.040179641256827776\n",
      "Epoch:\t 2 Val Loss:\t 0.04018429870318861\n",
      "Epoch:\t 3 Val Loss:\t 0.04023919323404134\n",
      "Epoch:\t 4 Val Loss:\t 0.040215650910119194\n",
      "Epoch:\t 5 Val Loss:\t 0.04019651632567892\n",
      "Epoch:\t 6 Val Loss:\t 0.040186275772910375\n",
      "Epoch:\t 7 Val Loss:\t 0.04020767741649046\n",
      "Epoch:\t 8 Val Loss:\t 0.04022074312520837\n",
      "Epoch:\t 9 Val Loss:\t 0.040204453851770364\n",
      "Epoch:\t 10 Val Loss:\t 0.04018089388839326\n"
     ]
    },
    {
     "name": "stderr",
     "output_type": "stream",
     "text": [
      "[I 2025-09-29 21:03:22,691] Trial 43 finished with value: 0.040179641256827776 and parameters: {'lr': 0.0001, 'weight_decay': 0.0001, 'scheduler_factor': 0.8, 'scheduler_patience': 20, 'batch_size': 32, 'dropout': 0.15, 'hidden_dims': 64}. Best is trial 0 with value: 0.04002495169743428.\n"
     ]
    },
    {
     "name": "stdout",
     "output_type": "stream",
     "text": [
      "Epoch:\t 11 Val Loss:\t 0.04022469255668925\n",
      "Epoch:\t 0 Val Loss:\t 0.040344023821930586\n",
      "Epoch:\t 1 Val Loss:\t 0.04017610259103312\n",
      "Epoch:\t 2 Val Loss:\t 0.04023723747609351\n",
      "Epoch:\t 3 Val Loss:\t 0.04019012374806667\n",
      "Epoch:\t 4 Val Loss:\t 0.040192479546086186\n",
      "Epoch:\t 5 Val Loss:\t 0.0402188931358843\n",
      "Epoch:\t 6 Val Loss:\t 0.04019499116956115\n",
      "Epoch:\t 7 Val Loss:\t 0.040221900526202836\n",
      "Epoch:\t 8 Val Loss:\t 0.04016993439405534\n",
      "Epoch:\t 9 Val Loss:\t 0.040231270868022015\n",
      "Epoch:\t 10 Val Loss:\t 0.04021017510796347\n",
      "Epoch:\t 11 Val Loss:\t 0.0401887120954688\n",
      "Epoch:\t 12 Val Loss:\t 0.04018975957175171\n",
      "Epoch:\t 13 Val Loss:\t 0.04022357154267857\n"
     ]
    },
    {
     "name": "stderr",
     "output_type": "stream",
     "text": [
      "[I 2025-09-29 21:05:19,857] Trial 44 pruned. \n"
     ]
    },
    {
     "name": "stdout",
     "output_type": "stream",
     "text": [
      "Epoch:\t 14 Val Loss:\t 0.040188271803127354\n"
     ]
    },
    {
     "name": "stderr",
     "output_type": "stream",
     "text": [
      "[I 2025-09-29 21:05:43,918] Trial 45 pruned. \n"
     ]
    },
    {
     "name": "stdout",
     "output_type": "stream",
     "text": [
      "Epoch:\t 0 Val Loss:\t 0.04153089470951673\n"
     ]
    },
    {
     "name": "stderr",
     "output_type": "stream",
     "text": [
      "[I 2025-09-29 21:05:47,666] Trial 46 pruned. \n"
     ]
    },
    {
     "name": "stdout",
     "output_type": "stream",
     "text": [
      "Epoch:\t 0 Val Loss:\t 0.062437212815060435\n"
     ]
    },
    {
     "name": "stderr",
     "output_type": "stream",
     "text": [
      "[I 2025-09-29 21:05:56,999] Trial 47 pruned. \n"
     ]
    },
    {
     "name": "stdout",
     "output_type": "stream",
     "text": [
      "Epoch:\t 0 Val Loss:\t 0.04832151766760503\n"
     ]
    },
    {
     "name": "stderr",
     "output_type": "stream",
     "text": [
      "[I 2025-09-29 21:06:02,203] Trial 48 pruned. \n"
     ]
    },
    {
     "name": "stdout",
     "output_type": "stream",
     "text": [
      "Epoch:\t 0 Val Loss:\t 0.04073354525105661\n"
     ]
    },
    {
     "name": "stderr",
     "output_type": "stream",
     "text": [
      "[I 2025-09-29 21:06:06,007] Trial 49 pruned. \n"
     ]
    },
    {
     "name": "stdout",
     "output_type": "stream",
     "text": [
      "Epoch:\t 0 Val Loss:\t 0.04116646029946419\n",
      "Training model with best parameters on train+validation ...\n"
     ]
    },
    {
     "name": "stderr",
     "output_type": "stream",
     "text": [
      "100%|███████████████████████████████████████████████████████████████████████████████████████████████████████████████████████████████████████████████████| 557340/557340 [05:33<00:00, 1673.40it/s]\n",
      "100%|███████████████████████████████████████████████████████████████████████████████████████████████████████████████████████████████████████████████████| 557340/557340 [01:38<00:00, 5671.00it/s]\n"
     ]
    },
    {
     "name": "stdout",
     "output_type": "stream",
     "text": [
      "Getting test set predictions and saving results ...\n"
     ]
    },
    {
     "name": "stderr",
     "output_type": "stream",
     "text": [
      "100%|██████████████████████████████████████████████████████████████████████████████████████████████████████████████████████████████████████████████████████████| 820/820 [00:01<00:00, 592.35it/s]\n"
     ]
    }
   ],
   "source": [
    "train_different_fs(\n",
    "        adata_path=\"./data/feature_selection/sciplex_seurat_v3.h5ad\",\n",
    "        run_name=\"mlp_seuratv3_fs\",\n",
    "        res_savename=\"./results/feature_selection/mlp_seuratv3_fs_res.pkl\",\n",
    "    )"
   ]
  },
  {
   "cell_type": "code",
   "execution_count": 6,
   "id": "ff3b90d8-74ce-43d0-9ecd-520143d3b703",
   "metadata": {},
   "outputs": [
    {
     "name": "stdout",
     "output_type": "stream",
     "text": [
      "Loading Datasets ...\n"
     ]
    },
    {
     "name": "stderr",
     "output_type": "stream",
     "text": [
      "100%|███████████████████████████████████████████████████████████████████████████████████████████████████████████████████████████████████████████████████| 557340/557340 [04:17<00:00, 2168.35it/s]\n",
      "100%|███████████████████████████████████████████████████████████████████████████████████████████████████████████████████████████████████████████████████| 557340/557340 [01:41<00:00, 5472.62it/s]\n",
      "[I 2025-09-29 21:21:35,593] A new study created in RDB with name: mlp_scellranger_fs\n"
     ]
    },
    {
     "name": "stdout",
     "output_type": "stream",
     "text": [
      "Optimizing Hyperparameters with Optuna ...\n",
      "Epoch:\t 0 Val Loss:\t 0.030425468304887765\n",
      "Epoch:\t 1 Val Loss:\t 0.03031193781857582\n",
      "Epoch:\t 2 Val Loss:\t 0.03032015546673716\n",
      "Epoch:\t 3 Val Loss:\t 0.030309797008059098\n",
      "Epoch:\t 4 Val Loss:\t 0.03033917927113358\n",
      "Epoch:\t 5 Val Loss:\t 0.030315120981720567\n",
      "Epoch:\t 6 Val Loss:\t 0.030317713140638244\n",
      "Epoch:\t 7 Val Loss:\t 0.030313201874481582\n",
      "Epoch:\t 8 Val Loss:\t 0.030321964025324492\n",
      "Epoch:\t 9 Val Loss:\t 0.030307555170728404\n",
      "Epoch:\t 10 Val Loss:\t 0.030319960869094265\n",
      "Epoch:\t 11 Val Loss:\t 0.030292520747718238\n",
      "Epoch:\t 12 Val Loss:\t 0.030311206713330714\n",
      "Epoch:\t 13 Val Loss:\t 0.03031205248717804\n",
      "Epoch:\t 14 Val Loss:\t 0.030295775899139066\n",
      "Epoch:\t 15 Val Loss:\t 0.03030434957247816\n",
      "Epoch:\t 16 Val Loss:\t 0.030324575492735786\n",
      "Epoch:\t 17 Val Loss:\t 0.030306673434156432\n",
      "Epoch:\t 18 Val Loss:\t 0.030298887266136082\n",
      "Epoch:\t 19 Val Loss:\t 0.03030172557254285\n",
      "Epoch:\t 20 Val Loss:\t 0.03033463646714917\n"
     ]
    },
    {
     "name": "stderr",
     "output_type": "stream",
     "text": [
      "[I 2025-09-29 21:29:52,149] Trial 0 finished with value: 0.030292520747718238 and parameters: {'lr': 0.001, 'weight_decay': 1e-05, 'scheduler_factor': 0.1, 'scheduler_patience': 20, 'batch_size': 16, 'dropout': 0.2, 'hidden_dims': 512}. Best is trial 0 with value: 0.030292520747718238.\n"
     ]
    },
    {
     "name": "stdout",
     "output_type": "stream",
     "text": [
      "Epoch:\t 21 Val Loss:\t 0.030316528888524926\n",
      "Epoch:\t 0 Val Loss:\t 0.030365733978882092\n",
      "Epoch:\t 1 Val Loss:\t 0.030296638858610385\n",
      "Epoch:\t 2 Val Loss:\t 0.030339970056956045\n",
      "Epoch:\t 3 Val Loss:\t 0.0303469773416537\n",
      "Epoch:\t 4 Val Loss:\t 0.030215420315427746\n",
      "Epoch:\t 5 Val Loss:\t 0.030161198052412432\n",
      "Epoch:\t 6 Val Loss:\t 0.03018116722718134\n",
      "Epoch:\t 7 Val Loss:\t 0.030172824664653455\n",
      "Epoch:\t 8 Val Loss:\t 0.03013268751632025\n",
      "Epoch:\t 9 Val Loss:\t 0.03014559235413535\n",
      "Epoch:\t 10 Val Loss:\t 0.03012170048570267\n",
      "Epoch:\t 11 Val Loss:\t 0.030136562788330185\n",
      "Epoch:\t 12 Val Loss:\t 0.030134465266275817\n",
      "Epoch:\t 13 Val Loss:\t 0.030110047940052932\n",
      "Epoch:\t 14 Val Loss:\t 0.030116661053313565\n",
      "Epoch:\t 15 Val Loss:\t 0.03013083181602981\n",
      "Epoch:\t 16 Val Loss:\t 0.030108482644462357\n",
      "Epoch:\t 17 Val Loss:\t 0.030108087560753467\n",
      "Epoch:\t 18 Val Loss:\t 0.030110341561889287\n",
      "Epoch:\t 19 Val Loss:\t 0.030105162157243272\n",
      "Epoch:\t 20 Val Loss:\t 0.03012755870871515\n",
      "Epoch:\t 21 Val Loss:\t 0.03014210318336116\n",
      "Epoch:\t 22 Val Loss:\t 0.030111457917168596\n",
      "Epoch:\t 23 Val Loss:\t 0.030118544096359275\n",
      "Epoch:\t 24 Val Loss:\t 0.030117567278413422\n",
      "Epoch:\t 25 Val Loss:\t 0.03010674690886906\n",
      "Epoch:\t 26 Val Loss:\t 0.030117423913375258\n",
      "Epoch:\t 27 Val Loss:\t 0.030108201465436083\n",
      "Epoch:\t 28 Val Loss:\t 0.030113173159747025\n"
     ]
    },
    {
     "name": "stderr",
     "output_type": "stream",
     "text": [
      "[I 2025-09-29 21:42:03,369] Trial 1 finished with value: 0.030105162157243272 and parameters: {'lr': 0.001, 'weight_decay': 1e-05, 'scheduler_factor': 0.3, 'scheduler_patience': 1, 'batch_size': 16, 'dropout': 0.15, 'hidden_dims': 512}. Best is trial 1 with value: 0.030105162157243272.\n"
     ]
    },
    {
     "name": "stdout",
     "output_type": "stream",
     "text": [
      "Epoch:\t 29 Val Loss:\t 0.030116277355438616\n",
      "Epoch:\t 0 Val Loss:\t 0.032206039590795925\n",
      "Epoch:\t 1 Val Loss:\t 0.03276873180413305\n",
      "Epoch:\t 2 Val Loss:\t 0.032597049259554055\n",
      "Epoch:\t 3 Val Loss:\t 0.03272089659389453\n",
      "Epoch:\t 4 Val Loss:\t 0.03244584478625975\n",
      "Epoch:\t 5 Val Loss:\t 0.032627141954485114\n",
      "Epoch:\t 6 Val Loss:\t 0.03254886054477523\n",
      "Epoch:\t 7 Val Loss:\t 0.03248885348852657\n",
      "Epoch:\t 8 Val Loss:\t 0.03236616818534542\n",
      "Epoch:\t 9 Val Loss:\t 0.03257660638883085\n"
     ]
    },
    {
     "name": "stderr",
     "output_type": "stream",
     "text": [
      "[I 2025-09-29 21:46:09,567] Trial 2 finished with value: 0.032206039590795925 and parameters: {'lr': 0.001, 'weight_decay': 0.001, 'scheduler_factor': 0.8, 'scheduler_patience': 5, 'batch_size': 16, 'dropout': 0.2, 'hidden_dims': 512}. Best is trial 1 with value: 0.030105162157243272.\n"
     ]
    },
    {
     "name": "stdout",
     "output_type": "stream",
     "text": [
      "Epoch:\t 10 Val Loss:\t 0.03238551783752808\n",
      "Epoch:\t 0 Val Loss:\t 0.030321740544250755\n",
      "Epoch:\t 1 Val Loss:\t 0.030325553562756062\n",
      "Epoch:\t 2 Val Loss:\t 0.030339050466902166\n",
      "Epoch:\t 3 Val Loss:\t 0.030262792372641248\n",
      "Epoch:\t 4 Val Loss:\t 0.0302279662042337\n",
      "Epoch:\t 5 Val Loss:\t 0.03022559878873908\n",
      "Epoch:\t 6 Val Loss:\t 0.03021249155385223\n",
      "Epoch:\t 7 Val Loss:\t 0.030220878694496366\n",
      "Epoch:\t 8 Val Loss:\t 0.03020889209486051\n",
      "Epoch:\t 9 Val Loss:\t 0.030246130295712218\n",
      "Epoch:\t 10 Val Loss:\t 0.03021874488628838\n",
      "Epoch:\t 11 Val Loss:\t 0.0301807924378209\n",
      "Epoch:\t 12 Val Loss:\t 0.030148724128646855\n",
      "Epoch:\t 13 Val Loss:\t 0.030161073749385228\n",
      "Epoch:\t 14 Val Loss:\t 0.03015237862112284\n",
      "Epoch:\t 15 Val Loss:\t 0.03014179215735121\n",
      "Epoch:\t 16 Val Loss:\t 0.030132529824435643\n",
      "Epoch:\t 17 Val Loss:\t 0.030138450604403753\n",
      "Epoch:\t 18 Val Loss:\t 0.03014956017724659\n",
      "Epoch:\t 19 Val Loss:\t 0.030134579571316603\n",
      "Epoch:\t 20 Val Loss:\t 0.03013423167636378\n",
      "Epoch:\t 21 Val Loss:\t 0.030111805164838225\n",
      "Epoch:\t 22 Val Loss:\t 0.030109974470218855\n",
      "Epoch:\t 23 Val Loss:\t 0.030120368242159953\n",
      "Epoch:\t 24 Val Loss:\t 0.030104082056108112\n",
      "Epoch:\t 25 Val Loss:\t 0.030098199463610587\n",
      "Epoch:\t 26 Val Loss:\t 0.03010772590489753\n",
      "Epoch:\t 27 Val Loss:\t 0.030102987636343666\n",
      "Epoch:\t 28 Val Loss:\t 0.030108491365519827\n",
      "Epoch:\t 29 Val Loss:\t 0.03010805639785549\n",
      "Epoch:\t 30 Val Loss:\t 0.030106591798460303\n",
      "Epoch:\t 31 Val Loss:\t 0.030103108755872087\n",
      "Epoch:\t 32 Val Loss:\t 0.030095722435451135\n",
      "Epoch:\t 33 Val Loss:\t 0.030103256815609616\n",
      "Epoch:\t 34 Val Loss:\t 0.030100660861559585\n",
      "Epoch:\t 35 Val Loss:\t 0.030105389375564114\n",
      "Epoch:\t 36 Val Loss:\t 0.03011045154967236\n",
      "Epoch:\t 37 Val Loss:\t 0.030098814181940204\n",
      "Epoch:\t 38 Val Loss:\t 0.030107782904867788\n",
      "Epoch:\t 39 Val Loss:\t 0.030103375672272965\n",
      "Epoch:\t 40 Val Loss:\t 0.030103686768626504\n",
      "Epoch:\t 41 Val Loss:\t 0.030119419783682634\n"
     ]
    },
    {
     "name": "stderr",
     "output_type": "stream",
     "text": [
      "[I 2025-09-29 21:48:50,462] Trial 3 finished with value: 0.030095722435451135 and parameters: {'lr': 0.001, 'weight_decay': 0.0001, 'scheduler_factor': 0.5, 'scheduler_patience': 1, 'batch_size': 128, 'dropout': 0.05, 'hidden_dims': 128}. Best is trial 3 with value: 0.030095722435451135.\n"
     ]
    },
    {
     "name": "stdout",
     "output_type": "stream",
     "text": [
      "Epoch:\t 42 Val Loss:\t 0.030101481401096513\n",
      "Epoch:\t 0 Val Loss:\t 0.0304699864474169\n",
      "Epoch:\t 1 Val Loss:\t 0.031473626318326606\n",
      "Epoch:\t 2 Val Loss:\t 0.031843160103424924\n",
      "Epoch:\t 3 Val Loss:\t 0.03191093212718958\n",
      "Epoch:\t 4 Val Loss:\t 0.03190385948302299\n",
      "Epoch:\t 5 Val Loss:\t 0.031796560595185\n",
      "Epoch:\t 6 Val Loss:\t 0.031911614442323086\n",
      "Epoch:\t 7 Val Loss:\t 0.03194902183891242\n",
      "Epoch:\t 8 Val Loss:\t 0.031949169284086275\n",
      "Epoch:\t 9 Val Loss:\t 0.03185905310099926\n"
     ]
    },
    {
     "name": "stderr",
     "output_type": "stream",
     "text": [
      "[I 2025-09-29 21:49:47,144] Trial 4 finished with value: 0.0304699864474169 and parameters: {'lr': 0.0001, 'weight_decay': 0.001, 'scheduler_factor': 0.8, 'scheduler_patience': 10, 'batch_size': 64, 'dropout': 0.15, 'hidden_dims': 256}. Best is trial 3 with value: 0.030095722435451135.\n"
     ]
    },
    {
     "name": "stdout",
     "output_type": "stream",
     "text": [
      "Epoch:\t 10 Val Loss:\t 0.03184207787740494\n"
     ]
    },
    {
     "name": "stderr",
     "output_type": "stream",
     "text": [
      "[I 2025-09-29 21:49:50,840] Trial 5 pruned. \n"
     ]
    },
    {
     "name": "stdout",
     "output_type": "stream",
     "text": [
      "Epoch:\t 0 Val Loss:\t 0.07046448135625194\n"
     ]
    },
    {
     "name": "stderr",
     "output_type": "stream",
     "text": [
      "[I 2025-09-29 21:49:54,112] Trial 6 pruned. \n"
     ]
    },
    {
     "name": "stdout",
     "output_type": "stream",
     "text": [
      "Epoch:\t 0 Val Loss:\t 0.054119786862717116\n"
     ]
    },
    {
     "name": "stderr",
     "output_type": "stream",
     "text": [
      "[I 2025-09-29 21:50:00,065] Trial 7 pruned. \n"
     ]
    },
    {
     "name": "stdout",
     "output_type": "stream",
     "text": [
      "Epoch:\t 0 Val Loss:\t 0.032829140451884314\n",
      "Epoch:\t 0 Val Loss:\t 0.030278873204769574\n",
      "Epoch:\t 1 Val Loss:\t 0.0303154492233723\n",
      "Epoch:\t 2 Val Loss:\t 0.030449982609223405\n",
      "Epoch:\t 3 Val Loss:\t 0.031152017760706002\n",
      "Epoch:\t 4 Val Loss:\t 0.031789018444794814\n",
      "Epoch:\t 5 Val Loss:\t 0.03179983463696486\n",
      "Epoch:\t 6 Val Loss:\t 0.031925597767865896\n",
      "Epoch:\t 7 Val Loss:\t 0.031832133535551\n",
      "Epoch:\t 8 Val Loss:\t 0.03189546204497659\n",
      "Epoch:\t 9 Val Loss:\t 0.031840083666327526\n"
     ]
    },
    {
     "name": "stderr",
     "output_type": "stream",
     "text": [
      "[I 2025-09-29 21:50:41,193] Trial 8 finished with value: 0.030278873204769574 and parameters: {'lr': 0.0001, 'weight_decay': 0.001, 'scheduler_factor': 0.3, 'scheduler_patience': 5, 'batch_size': 128, 'dropout': 0.2, 'hidden_dims': 512}. Best is trial 3 with value: 0.030095722435451135.\n"
     ]
    },
    {
     "name": "stdout",
     "output_type": "stream",
     "text": [
      "Epoch:\t 10 Val Loss:\t 0.031750712517765754\n"
     ]
    },
    {
     "name": "stderr",
     "output_type": "stream",
     "text": [
      "[I 2025-09-29 21:50:44,881] Trial 9 pruned. \n"
     ]
    },
    {
     "name": "stdout",
     "output_type": "stream",
     "text": [
      "Epoch:\t 0 Val Loss:\t 0.030855673100284444\n"
     ]
    },
    {
     "name": "stderr",
     "output_type": "stream",
     "text": [
      "[I 2025-09-29 21:50:52,868] Trial 10 pruned. \n"
     ]
    },
    {
     "name": "stdout",
     "output_type": "stream",
     "text": [
      "Epoch:\t 0 Val Loss:\t 0.04721601326094245\n"
     ]
    },
    {
     "name": "stderr",
     "output_type": "stream",
     "text": [
      "[I 2025-09-29 21:51:19,618] Trial 11 pruned. \n"
     ]
    },
    {
     "name": "stdout",
     "output_type": "stream",
     "text": [
      "Epoch:\t 0 Val Loss:\t 0.030517080931154284\n",
      "Epoch:\t 0 Val Loss:\t 0.03033356768793838\n",
      "Epoch:\t 1 Val Loss:\t 0.03018362471443969\n",
      "Epoch:\t 2 Val Loss:\t 0.030144383359787075\n",
      "Epoch:\t 3 Val Loss:\t 0.030162535499521467\n",
      "Epoch:\t 4 Val Loss:\t 0.030124015304758105\n",
      "Epoch:\t 5 Val Loss:\t 0.030102628296197847\n",
      "Epoch:\t 6 Val Loss:\t 0.030122992781878903\n",
      "Epoch:\t 7 Val Loss:\t 0.030112489169940006\n",
      "Epoch:\t 8 Val Loss:\t 0.030043047987097917\n",
      "Epoch:\t 9 Val Loss:\t 0.030026620600459186\n",
      "Epoch:\t 10 Val Loss:\t 0.030037197990472927\n",
      "Epoch:\t 11 Val Loss:\t 0.030035943611589976\n",
      "Epoch:\t 12 Val Loss:\t 0.030029902893096903\n",
      "Epoch:\t 13 Val Loss:\t 0.030027807231039504\n",
      "Epoch:\t 14 Val Loss:\t 0.030033594265926715\n",
      "Epoch:\t 15 Val Loss:\t 0.030034705606657407\n",
      "Epoch:\t 16 Val Loss:\t 0.030027200896726097\n",
      "Epoch:\t 17 Val Loss:\t 0.03003139978404655\n",
      "Epoch:\t 18 Val Loss:\t 0.03002932010608357\n"
     ]
    },
    {
     "name": "stderr",
     "output_type": "stream",
     "text": [
      "[I 2025-09-29 21:52:21,372] Trial 12 finished with value: 0.030026620600459186 and parameters: {'lr': 0.001, 'weight_decay': 1e-05, 'scheduler_factor': 0.1, 'scheduler_patience': 1, 'batch_size': 256, 'dropout': 0.1, 'hidden_dims': 128}. Best is trial 12 with value: 0.030026620600459186.\n"
     ]
    },
    {
     "name": "stdout",
     "output_type": "stream",
     "text": [
      "Epoch:\t 19 Val Loss:\t 0.0300317334920861\n",
      "Epoch:\t 0 Val Loss:\t 0.03034648094759431\n",
      "Epoch:\t 1 Val Loss:\t 0.030278134320017903\n",
      "Epoch:\t 2 Val Loss:\t 0.030289337589123916\n",
      "Epoch:\t 3 Val Loss:\t 0.030339600656961285\n",
      "Epoch:\t 4 Val Loss:\t 0.03014211115362339\n",
      "Epoch:\t 5 Val Loss:\t 0.030151951858817146\n",
      "Epoch:\t 6 Val Loss:\t 0.030144906529160433\n",
      "Epoch:\t 7 Val Loss:\t 0.030128995485084003\n",
      "Epoch:\t 8 Val Loss:\t 0.03012870076697233\n",
      "Epoch:\t 9 Val Loss:\t 0.030112724287738635\n",
      "Epoch:\t 10 Val Loss:\t 0.030119238287037196\n",
      "Epoch:\t 11 Val Loss:\t 0.030112574496414773\n",
      "Epoch:\t 12 Val Loss:\t 0.030111351539922317\n",
      "Epoch:\t 13 Val Loss:\t 0.0301059678586763\n",
      "Epoch:\t 14 Val Loss:\t 0.030106419173264225\n",
      "Epoch:\t 15 Val Loss:\t 0.030102879922230576\n",
      "Epoch:\t 16 Val Loss:\t 0.030107824534697587\n",
      "Epoch:\t 17 Val Loss:\t 0.030108945158331894\n",
      "Epoch:\t 18 Val Loss:\t 0.030109756509231967\n",
      "Epoch:\t 19 Val Loss:\t 0.030110641971750316\n",
      "Epoch:\t 20 Val Loss:\t 0.030109184295978655\n",
      "Epoch:\t 21 Val Loss:\t 0.030105690112294154\n",
      "Epoch:\t 22 Val Loss:\t 0.03010568502683972\n",
      "Epoch:\t 23 Val Loss:\t 0.030113343738539276\n",
      "Epoch:\t 24 Val Loss:\t 0.03011691471085299\n"
     ]
    },
    {
     "name": "stderr",
     "output_type": "stream",
     "text": [
      "[I 2025-09-29 21:53:39,890] Trial 13 finished with value: 0.030102879922230576 and parameters: {'lr': 0.001, 'weight_decay': 0.0001, 'scheduler_factor': 0.1, 'scheduler_patience': 1, 'batch_size': 256, 'dropout': 0.1, 'hidden_dims': 128}. Best is trial 12 with value: 0.030026620600459186.\n"
     ]
    },
    {
     "name": "stdout",
     "output_type": "stream",
     "text": [
      "Epoch:\t 25 Val Loss:\t 0.030103403706710007\n",
      "Epoch:\t 0 Val Loss:\t 0.0303534175767455\n",
      "Epoch:\t 1 Val Loss:\t 0.030216586624467096\n",
      "Epoch:\t 2 Val Loss:\t 0.030179102268329885\n",
      "Epoch:\t 3 Val Loss:\t 0.030128507844583933\n",
      "Epoch:\t 4 Val Loss:\t 0.03013742047600275\n",
      "Epoch:\t 5 Val Loss:\t 0.030108601760205835\n",
      "Epoch:\t 6 Val Loss:\t 0.03010821581146745\n",
      "Epoch:\t 7 Val Loss:\t 0.030130748433429142\n",
      "Epoch:\t 8 Val Loss:\t 0.03004434265542862\n",
      "Epoch:\t 9 Val Loss:\t 0.03003198415214239\n",
      "Epoch:\t 10 Val Loss:\t 0.030038933551242184\n",
      "Epoch:\t 11 Val Loss:\t 0.030040413448803645\n",
      "Epoch:\t 12 Val Loss:\t 0.030029916434093962\n",
      "Epoch:\t 13 Val Loss:\t 0.030030583079124606\n",
      "Epoch:\t 14 Val Loss:\t 0.030031513756271017\n",
      "Epoch:\t 15 Val Loss:\t 0.030031430292441402\n",
      "Epoch:\t 16 Val Loss:\t 0.030035933726575485\n",
      "Epoch:\t 17 Val Loss:\t 0.0300363922664939\n",
      "Epoch:\t 18 Val Loss:\t 0.030027429525588834\n",
      "Epoch:\t 19 Val Loss:\t 0.03003128475054752\n",
      "Epoch:\t 20 Val Loss:\t 0.03003488765639621\n",
      "Epoch:\t 21 Val Loss:\t 0.03003098865927652\n",
      "Epoch:\t 22 Val Loss:\t 0.030030667513262395\n",
      "Epoch:\t 23 Val Loss:\t 0.030028260750479475\n",
      "Epoch:\t 24 Val Loss:\t 0.030032732194766057\n",
      "Epoch:\t 25 Val Loss:\t 0.030033258933487326\n",
      "Epoch:\t 26 Val Loss:\t 0.030028708235815514\n",
      "Epoch:\t 27 Val Loss:\t 0.030036145496333756\n"
     ]
    },
    {
     "name": "stderr",
     "output_type": "stream",
     "text": [
      "[I 2025-09-29 21:55:07,078] Trial 14 finished with value: 0.030027429525588834 and parameters: {'lr': 0.001, 'weight_decay': 1e-05, 'scheduler_factor': 0.1, 'scheduler_patience': 1, 'batch_size': 256, 'dropout': 0.1, 'hidden_dims': 128}. Best is trial 12 with value: 0.030026620600459186.\n"
     ]
    },
    {
     "name": "stdout",
     "output_type": "stream",
     "text": [
      "Epoch:\t 28 Val Loss:\t 0.03003513814751492\n",
      "Epoch:\t 0 Val Loss:\t 0.030300345575047093\n",
      "Epoch:\t 1 Val Loss:\t 0.030230063516213452\n",
      "Epoch:\t 2 Val Loss:\t 0.0301415154970316\n",
      "Epoch:\t 3 Val Loss:\t 0.03015775034680616\n",
      "Epoch:\t 4 Val Loss:\t 0.030127103124247042\n",
      "Epoch:\t 5 Val Loss:\t 0.030114630445144897\n",
      "Epoch:\t 6 Val Loss:\t 0.03010484529875739\n",
      "Epoch:\t 7 Val Loss:\t 0.030108729230110036\n",
      "Epoch:\t 8 Val Loss:\t 0.03011307562593111\n",
      "Epoch:\t 9 Val Loss:\t 0.03003754735772693\n",
      "Epoch:\t 10 Val Loss:\t 0.030035233116427133\n",
      "Epoch:\t 11 Val Loss:\t 0.03003417130039875\n",
      "Epoch:\t 12 Val Loss:\t 0.030038638179038846\n",
      "Epoch:\t 13 Val Loss:\t 0.030037765404166177\n",
      "Epoch:\t 14 Val Loss:\t 0.030028527147721414\n",
      "Epoch:\t 15 Val Loss:\t 0.03002888600580221\n",
      "Epoch:\t 16 Val Loss:\t 0.030028376858248267\n",
      "Epoch:\t 17 Val Loss:\t 0.030030883298537064\n",
      "Epoch:\t 18 Val Loss:\t 0.030028549811347973\n",
      "Epoch:\t 19 Val Loss:\t 0.030030184616009856\n",
      "Epoch:\t 20 Val Loss:\t 0.030032370806953243\n",
      "Epoch:\t 21 Val Loss:\t 0.03002748817725237\n",
      "Epoch:\t 22 Val Loss:\t 0.030034142624326916\n",
      "Epoch:\t 23 Val Loss:\t 0.0300247399656232\n",
      "Epoch:\t 24 Val Loss:\t 0.030030784409406572\n",
      "Epoch:\t 25 Val Loss:\t 0.030025510788830215\n",
      "Epoch:\t 26 Val Loss:\t 0.030034349702818448\n",
      "Epoch:\t 27 Val Loss:\t 0.03003353278564159\n",
      "Epoch:\t 28 Val Loss:\t 0.030037537524693233\n",
      "Epoch:\t 29 Val Loss:\t 0.03003389642595552\n",
      "Epoch:\t 30 Val Loss:\t 0.030031954453781595\n",
      "Epoch:\t 31 Val Loss:\t 0.030033831177062768\n",
      "Epoch:\t 32 Val Loss:\t 0.030029200117082096\n"
     ]
    },
    {
     "name": "stderr",
     "output_type": "stream",
     "text": [
      "[I 2025-09-29 21:56:48,853] Trial 15 finished with value: 0.0300247399656232 and parameters: {'lr': 0.001, 'weight_decay': 1e-05, 'scheduler_factor': 0.1, 'scheduler_patience': 1, 'batch_size': 256, 'dropout': 0.1, 'hidden_dims': 128}. Best is trial 15 with value: 0.0300247399656232.\n"
     ]
    },
    {
     "name": "stdout",
     "output_type": "stream",
     "text": [
      "Epoch:\t 33 Val Loss:\t 0.030030295772607938\n"
     ]
    },
    {
     "name": "stderr",
     "output_type": "stream",
     "text": [
      "[I 2025-09-29 21:56:52,010] Trial 16 pruned. \n"
     ]
    },
    {
     "name": "stdout",
     "output_type": "stream",
     "text": [
      "Epoch:\t 0 Val Loss:\t 0.03094210425001937\n"
     ]
    },
    {
     "name": "stderr",
     "output_type": "stream",
     "text": [
      "[I 2025-09-29 21:56:55,086] Trial 17 pruned. \n"
     ]
    },
    {
     "name": "stdout",
     "output_type": "stream",
     "text": [
      "Epoch:\t 0 Val Loss:\t 0.09871872621913289\n"
     ]
    },
    {
     "name": "stderr",
     "output_type": "stream",
     "text": [
      "[I 2025-09-29 21:57:02,882] Trial 18 pruned. \n"
     ]
    },
    {
     "name": "stdout",
     "output_type": "stream",
     "text": [
      "Epoch:\t 0 Val Loss:\t 0.032056952909919424\n",
      "Epoch:\t 0 Val Loss:\t 0.03032020994916905\n",
      "Epoch:\t 1 Val Loss:\t 0.030221686737481938\n",
      "Epoch:\t 2 Val Loss:\t 0.0301401493074589\n",
      "Epoch:\t 3 Val Loss:\t 0.030148463856515498\n",
      "Epoch:\t 4 Val Loss:\t 0.030139809929180975\n",
      "Epoch:\t 5 Val Loss:\t 0.0300586738731972\n",
      "Epoch:\t 6 Val Loss:\t 0.0300574122603203\n",
      "Epoch:\t 7 Val Loss:\t 0.030057485956092214\n",
      "Epoch:\t 8 Val Loss:\t 0.030047340847032016\n",
      "Epoch:\t 9 Val Loss:\t 0.030050074586341548\n",
      "Epoch:\t 10 Val Loss:\t 0.0300520358217317\n",
      "Epoch:\t 11 Val Loss:\t 0.030050960317427336\n",
      "Epoch:\t 12 Val Loss:\t 0.030050820684017137\n",
      "Epoch:\t 13 Val Loss:\t 0.030043175253410673\n",
      "Epoch:\t 14 Val Loss:\t 0.030049266280649706\n",
      "Epoch:\t 15 Val Loss:\t 0.030049887472806975\n",
      "Epoch:\t 16 Val Loss:\t 0.03004993550306143\n",
      "Epoch:\t 17 Val Loss:\t 0.030054790812522866\n",
      "Epoch:\t 18 Val Loss:\t 0.030048928197559922\n",
      "Epoch:\t 19 Val Loss:\t 0.03005005720742913\n",
      "Epoch:\t 20 Val Loss:\t 0.030048597833618174\n",
      "Epoch:\t 21 Val Loss:\t 0.030047275819057643\n",
      "Epoch:\t 22 Val Loss:\t 0.03005517505889022\n"
     ]
    },
    {
     "name": "stderr",
     "output_type": "stream",
     "text": [
      "[I 2025-09-29 21:58:14,167] Trial 19 finished with value: 0.030043175253410673 and parameters: {'lr': 0.001, 'weight_decay': 1e-05, 'scheduler_factor': 0.1, 'scheduler_patience': 1, 'batch_size': 256, 'dropout': 0.1, 'hidden_dims': 128}. Best is trial 15 with value: 0.0300247399656232.\n"
     ]
    },
    {
     "name": "stdout",
     "output_type": "stream",
     "text": [
      "Epoch:\t 23 Val Loss:\t 0.030056070402091326\n"
     ]
    },
    {
     "name": "stderr",
     "output_type": "stream",
     "text": [
      "[I 2025-09-29 21:58:17,277] Trial 20 pruned. \n"
     ]
    },
    {
     "name": "stdout",
     "output_type": "stream",
     "text": [
      "Epoch:\t 0 Val Loss:\t 0.03050940100016982\n",
      "Epoch:\t 0 Val Loss:\t 0.030318047617410505\n",
      "Epoch:\t 1 Val Loss:\t 0.030226299539208412\n",
      "Epoch:\t 2 Val Loss:\t 0.03015963060044965\n",
      "Epoch:\t 3 Val Loss:\t 0.030137609274581423\n",
      "Epoch:\t 4 Val Loss:\t 0.0301145902813174\n",
      "Epoch:\t 5 Val Loss:\t 0.030114450717214927\n",
      "Epoch:\t 6 Val Loss:\t 0.030098420541820138\n",
      "Epoch:\t 7 Val Loss:\t 0.0301118187649652\n",
      "Epoch:\t 8 Val Loss:\t 0.030105511666557123\n",
      "Epoch:\t 9 Val Loss:\t 0.030041314882421215\n",
      "Epoch:\t 10 Val Loss:\t 0.030035084832546324\n",
      "Epoch:\t 11 Val Loss:\t 0.030043769974348156\n",
      "Epoch:\t 12 Val Loss:\t 0.030028081507703593\n",
      "Epoch:\t 13 Val Loss:\t 0.030034282366030438\n",
      "Epoch:\t 14 Val Loss:\t 0.03002535996222219\n",
      "Epoch:\t 15 Val Loss:\t 0.030018217077608718\n",
      "Epoch:\t 16 Val Loss:\t 0.03002240421726953\n",
      "Epoch:\t 17 Val Loss:\t 0.030022969776981098\n",
      "Epoch:\t 18 Val Loss:\t 0.030018531175893405\n",
      "Epoch:\t 19 Val Loss:\t 0.030019782851775024\n",
      "Epoch:\t 20 Val Loss:\t 0.030028314736866672\n",
      "Epoch:\t 21 Val Loss:\t 0.030024160340774892\n",
      "Epoch:\t 22 Val Loss:\t 0.03002392020682956\n",
      "Epoch:\t 23 Val Loss:\t 0.030027832714624184\n",
      "Epoch:\t 24 Val Loss:\t 0.03002472332310538\n"
     ]
    },
    {
     "name": "stderr",
     "output_type": "stream",
     "text": [
      "[I 2025-09-29 21:59:34,971] Trial 21 finished with value: 0.030018217077608718 and parameters: {'lr': 0.001, 'weight_decay': 1e-05, 'scheduler_factor': 0.1, 'scheduler_patience': 1, 'batch_size': 256, 'dropout': 0.1, 'hidden_dims': 128}. Best is trial 21 with value: 0.030018217077608718.\n"
     ]
    },
    {
     "name": "stdout",
     "output_type": "stream",
     "text": [
      "Epoch:\t 25 Val Loss:\t 0.03002570097789515\n"
     ]
    },
    {
     "name": "stderr",
     "output_type": "stream",
     "text": [
      "[I 2025-09-29 21:59:38,085] Trial 22 pruned. \n"
     ]
    },
    {
     "name": "stdout",
     "output_type": "stream",
     "text": [
      "Epoch:\t 0 Val Loss:\t 0.03037552950080744\n",
      "Epoch:\t 0 Val Loss:\t 0.030311079769460268\n",
      "Epoch:\t 1 Val Loss:\t 0.030184692200706447\n",
      "Epoch:\t 2 Val Loss:\t 0.03013601575999759\n",
      "Epoch:\t 3 Val Loss:\t 0.030124397892071757\n",
      "Epoch:\t 4 Val Loss:\t 0.03011211311054784\n",
      "Epoch:\t 5 Val Loss:\t 0.030102783675457156\n",
      "Epoch:\t 6 Val Loss:\t 0.030109506464281746\n",
      "Epoch:\t 7 Val Loss:\t 0.030125930437514947\n",
      "Epoch:\t 8 Val Loss:\t 0.03004532147545454\n",
      "Epoch:\t 9 Val Loss:\t 0.03004148240785959\n",
      "Epoch:\t 10 Val Loss:\t 0.03003457777288764\n",
      "Epoch:\t 11 Val Loss:\t 0.03003990751539552\n",
      "Epoch:\t 12 Val Loss:\t 0.030042249410478183\n",
      "Epoch:\t 13 Val Loss:\t 0.03002907459212597\n",
      "Epoch:\t 14 Val Loss:\t 0.03003078269404034\n",
      "Epoch:\t 15 Val Loss:\t 0.030035920722713303\n",
      "Epoch:\t 16 Val Loss:\t 0.03003292918031992\n",
      "Epoch:\t 17 Val Loss:\t 0.030033032669750756\n",
      "Epoch:\t 18 Val Loss:\t 0.030027781006728493\n",
      "Epoch:\t 19 Val Loss:\t 0.03003131414135528\n",
      "Epoch:\t 20 Val Loss:\t 0.030033627862847127\n",
      "Epoch:\t 21 Val Loss:\t 0.030027251972188782\n",
      "Epoch:\t 22 Val Loss:\t 0.030031346785294455\n",
      "Epoch:\t 23 Val Loss:\t 0.030031980652102205\n",
      "Epoch:\t 24 Val Loss:\t 0.030032578673820164\n",
      "Epoch:\t 25 Val Loss:\t 0.030032628237508064\n",
      "Epoch:\t 26 Val Loss:\t 0.03002826193304256\n",
      "Epoch:\t 27 Val Loss:\t 0.030031810211407585\n",
      "Epoch:\t 28 Val Loss:\t 0.030031473778708035\n",
      "Epoch:\t 29 Val Loss:\t 0.03003473967140497\n",
      "Epoch:\t 30 Val Loss:\t 0.030031185263637888\n"
     ]
    },
    {
     "name": "stderr",
     "output_type": "stream",
     "text": [
      "[I 2025-09-29 22:01:13,503] Trial 23 finished with value: 0.030027251972188782 and parameters: {'lr': 0.001, 'weight_decay': 1e-05, 'scheduler_factor': 0.1, 'scheduler_patience': 1, 'batch_size': 256, 'dropout': 0.1, 'hidden_dims': 128}. Best is trial 21 with value: 0.030018217077608718.\n"
     ]
    },
    {
     "name": "stdout",
     "output_type": "stream",
     "text": [
      "Epoch:\t 31 Val Loss:\t 0.030032764843036963\n"
     ]
    },
    {
     "name": "stderr",
     "output_type": "stream",
     "text": [
      "[I 2025-09-29 22:01:16,596] Trial 24 pruned. \n"
     ]
    },
    {
     "name": "stdout",
     "output_type": "stream",
     "text": [
      "Epoch:\t 0 Val Loss:\t 0.030359383053038008\n"
     ]
    },
    {
     "name": "stderr",
     "output_type": "stream",
     "text": [
      "[I 2025-09-29 22:01:19,675] Trial 25 pruned. \n"
     ]
    },
    {
     "name": "stdout",
     "output_type": "stream",
     "text": [
      "Epoch:\t 0 Val Loss:\t 0.03086479073173778\n"
     ]
    },
    {
     "name": "stderr",
     "output_type": "stream",
     "text": [
      "[I 2025-09-29 22:01:25,027] Trial 26 pruned. \n"
     ]
    },
    {
     "name": "stdout",
     "output_type": "stream",
     "text": [
      "Epoch:\t 0 Val Loss:\t 0.03599517332261306\n"
     ]
    },
    {
     "name": "stderr",
     "output_type": "stream",
     "text": [
      "[I 2025-09-29 22:01:32,699] Trial 27 pruned. \n"
     ]
    },
    {
     "name": "stdout",
     "output_type": "stream",
     "text": [
      "Epoch:\t 0 Val Loss:\t 0.039131999379040126\n"
     ]
    },
    {
     "name": "stderr",
     "output_type": "stream",
     "text": [
      "[I 2025-09-29 22:01:35,770] Trial 28 pruned. \n"
     ]
    },
    {
     "name": "stdout",
     "output_type": "stream",
     "text": [
      "Epoch:\t 0 Val Loss:\t 0.03189273259147655\n"
     ]
    },
    {
     "name": "stderr",
     "output_type": "stream",
     "text": [
      "[I 2025-09-29 22:01:38,862] Trial 29 pruned. \n"
     ]
    },
    {
     "name": "stdout",
     "output_type": "stream",
     "text": [
      "Epoch:\t 0 Val Loss:\t 0.030402074225766716\n"
     ]
    },
    {
     "name": "stderr",
     "output_type": "stream",
     "text": [
      "[I 2025-09-29 22:01:42,017] Trial 30 pruned. \n"
     ]
    },
    {
     "name": "stdout",
     "output_type": "stream",
     "text": [
      "Epoch:\t 0 Val Loss:\t 0.030358268888017466\n",
      "Epoch:\t 0 Val Loss:\t 0.03030584640800953\n"
     ]
    },
    {
     "name": "stderr",
     "output_type": "stream",
     "text": [
      "[I 2025-09-29 22:01:47,892] Trial 31 pruned. \n"
     ]
    },
    {
     "name": "stdout",
     "output_type": "stream",
     "text": [
      "Epoch:\t 1 Val Loss:\t 0.03027855744368808\n"
     ]
    },
    {
     "name": "stderr",
     "output_type": "stream",
     "text": [
      "[I 2025-09-29 22:01:51,012] Trial 32 pruned. \n"
     ]
    },
    {
     "name": "stdout",
     "output_type": "stream",
     "text": [
      "Epoch:\t 0 Val Loss:\t 0.03035595448211182\n",
      "Epoch:\t 0 Val Loss:\t 0.030315808824174475\n",
      "Epoch:\t 1 Val Loss:\t 0.03027233479772318\n",
      "Epoch:\t 2 Val Loss:\t 0.030286725928276522\n"
     ]
    },
    {
     "name": "stderr",
     "output_type": "stream",
     "text": [
      "[I 2025-09-29 22:03:18,324] Trial 33 pruned. \n"
     ]
    },
    {
     "name": "stdout",
     "output_type": "stream",
     "text": [
      "Epoch:\t 3 Val Loss:\t 0.030281089893591545\n",
      "Epoch:\t 0 Val Loss:\t 0.030321681612106258\n",
      "Epoch:\t 1 Val Loss:\t 0.030222539053580095\n",
      "Epoch:\t 2 Val Loss:\t 0.030182680106440256\n",
      "Epoch:\t 3 Val Loss:\t 0.030155724949788215\n",
      "Epoch:\t 4 Val Loss:\t 0.030126893879889056\n",
      "Epoch:\t 5 Val Loss:\t 0.03012110354422137\n",
      "Epoch:\t 6 Val Loss:\t 0.03012128057781347\n",
      "Epoch:\t 7 Val Loss:\t 0.030113023328919745\n",
      "Epoch:\t 8 Val Loss:\t 0.030118057434988577\n"
     ]
    },
    {
     "name": "stderr",
     "output_type": "stream",
     "text": [
      "[I 2025-09-29 22:03:48,318] Trial 34 pruned. \n"
     ]
    },
    {
     "name": "stdout",
     "output_type": "stream",
     "text": [
      "Epoch:\t 9 Val Loss:\t 0.030138366981301196\n"
     ]
    },
    {
     "name": "stderr",
     "output_type": "stream",
     "text": [
      "[I 2025-09-29 22:04:13,319] Trial 35 pruned. \n"
     ]
    },
    {
     "name": "stdout",
     "output_type": "stream",
     "text": [
      "Epoch:\t 0 Val Loss:\t 0.032296529655037674\n"
     ]
    },
    {
     "name": "stderr",
     "output_type": "stream",
     "text": [
      "[I 2025-09-29 22:04:18,500] Trial 36 pruned. \n"
     ]
    },
    {
     "name": "stdout",
     "output_type": "stream",
     "text": [
      "Epoch:\t 0 Val Loss:\t 0.030343950902843156\n",
      "Epoch:\t 0 Val Loss:\t 0.030316011741930663\n",
      "Epoch:\t 1 Val Loss:\t 0.030193049599264943\n",
      "Epoch:\t 2 Val Loss:\t 0.030157831649101057\n",
      "Epoch:\t 3 Val Loss:\t 0.030156693529597548\n",
      "Epoch:\t 4 Val Loss:\t 0.030138562987883425\n",
      "Epoch:\t 5 Val Loss:\t 0.03011730080253856\n",
      "Epoch:\t 6 Val Loss:\t 0.03010500487113415\n",
      "Epoch:\t 7 Val Loss:\t 0.03010675941788873\n",
      "Epoch:\t 8 Val Loss:\t 0.03008873670167008\n",
      "Epoch:\t 9 Val Loss:\t 0.03008960203462562\n",
      "Epoch:\t 10 Val Loss:\t 0.030097617928025334\n"
     ]
    },
    {
     "name": "stderr",
     "output_type": "stream",
     "text": [
      "[I 2025-09-29 22:04:54,575] Trial 37 pruned. \n"
     ]
    },
    {
     "name": "stdout",
     "output_type": "stream",
     "text": [
      "Epoch:\t 11 Val Loss:\t 0.030099806436445824\n"
     ]
    },
    {
     "name": "stderr",
     "output_type": "stream",
     "text": [
      "[I 2025-09-29 22:04:58,235] Trial 38 pruned. \n"
     ]
    },
    {
     "name": "stdout",
     "output_type": "stream",
     "text": [
      "Epoch:\t 0 Val Loss:\t 0.030433558503059836\n"
     ]
    },
    {
     "name": "stderr",
     "output_type": "stream",
     "text": [
      "[I 2025-09-29 22:05:06,760] Trial 39 pruned. \n"
     ]
    },
    {
     "name": "stdout",
     "output_type": "stream",
     "text": [
      "Epoch:\t 0 Val Loss:\t 0.030468071418480857\n"
     ]
    },
    {
     "name": "stderr",
     "output_type": "stream",
     "text": [
      "[I 2025-09-29 22:05:09,749] Trial 40 pruned. \n"
     ]
    },
    {
     "name": "stdout",
     "output_type": "stream",
     "text": [
      "Epoch:\t 0 Val Loss:\t 0.08414858808351118\n",
      "Epoch:\t 0 Val Loss:\t 0.030295743576662485\n",
      "Epoch:\t 1 Val Loss:\t 0.030195883102715017\n",
      "Epoch:\t 2 Val Loss:\t 0.030133501903782056\n",
      "Epoch:\t 3 Val Loss:\t 0.030132172897804614\n",
      "Epoch:\t 4 Val Loss:\t 0.03013078028032946\n",
      "Epoch:\t 5 Val Loss:\t 0.030064161533359873\n",
      "Epoch:\t 6 Val Loss:\t 0.030045790069325024\n",
      "Epoch:\t 7 Val Loss:\t 0.03004319202154875\n",
      "Epoch:\t 8 Val Loss:\t 0.030051412472371444\n",
      "Epoch:\t 9 Val Loss:\t 0.03003255881282479\n",
      "Epoch:\t 10 Val Loss:\t 0.03003870458450428\n",
      "Epoch:\t 11 Val Loss:\t 0.030038027530319467\n",
      "Epoch:\t 12 Val Loss:\t 0.030040179279654525\n",
      "Epoch:\t 13 Val Loss:\t 0.03004271782674762\n",
      "Epoch:\t 14 Val Loss:\t 0.030036680829213108\n",
      "Epoch:\t 15 Val Loss:\t 0.030039519487425337\n",
      "Epoch:\t 16 Val Loss:\t 0.03004165170930846\n",
      "Epoch:\t 17 Val Loss:\t 0.030041333474218845\n",
      "Epoch:\t 18 Val Loss:\t 0.03004260285822458\n",
      "Epoch:\t 19 Val Loss:\t 0.030035164722696295\n"
     ]
    },
    {
     "name": "stderr",
     "output_type": "stream",
     "text": [
      "[I 2025-09-29 22:06:10,197] Trial 41 finished with value: 0.03003255881282479 and parameters: {'lr': 0.001, 'weight_decay': 1e-05, 'scheduler_factor': 0.1, 'scheduler_patience': 1, 'batch_size': 256, 'dropout': 0.1, 'hidden_dims': 128}. Best is trial 21 with value: 0.030018217077608718.\n",
      "[I 2025-09-29 22:06:13,241] Trial 42 pruned. \n"
     ]
    },
    {
     "name": "stdout",
     "output_type": "stream",
     "text": [
      "Epoch:\t 0 Val Loss:\t 0.030372591308036517\n"
     ]
    },
    {
     "name": "stderr",
     "output_type": "stream",
     "text": [
      "[I 2025-09-29 22:06:16,323] Trial 43 pruned. \n"
     ]
    },
    {
     "name": "stdout",
     "output_type": "stream",
     "text": [
      "Epoch:\t 0 Val Loss:\t 0.030361277328500913\n"
     ]
    },
    {
     "name": "stderr",
     "output_type": "stream",
     "text": [
      "[I 2025-09-29 22:06:21,328] Trial 44 pruned. \n"
     ]
    },
    {
     "name": "stdout",
     "output_type": "stream",
     "text": [
      "Epoch:\t 0 Val Loss:\t 0.03046548610322882\n"
     ]
    },
    {
     "name": "stderr",
     "output_type": "stream",
     "text": [
      "[I 2025-09-29 22:06:24,891] Trial 45 pruned. \n"
     ]
    },
    {
     "name": "stdout",
     "output_type": "stream",
     "text": [
      "Epoch:\t 0 Val Loss:\t 0.03213457423332607\n"
     ]
    },
    {
     "name": "stderr",
     "output_type": "stream",
     "text": [
      "[I 2025-09-29 22:06:27,999] Trial 46 pruned. \n"
     ]
    },
    {
     "name": "stdout",
     "output_type": "stream",
     "text": [
      "Epoch:\t 0 Val Loss:\t 0.03167179812525594\n"
     ]
    },
    {
     "name": "stderr",
     "output_type": "stream",
     "text": [
      "[I 2025-09-29 22:06:49,486] Trial 47 pruned. \n"
     ]
    },
    {
     "name": "stdout",
     "output_type": "stream",
     "text": [
      "Epoch:\t 0 Val Loss:\t 0.03053422099127706\n"
     ]
    },
    {
     "name": "stderr",
     "output_type": "stream",
     "text": [
      "[I 2025-09-29 22:06:52,543] Trial 48 pruned. \n"
     ]
    },
    {
     "name": "stdout",
     "output_type": "stream",
     "text": [
      "Epoch:\t 0 Val Loss:\t 0.030732853242824244\n"
     ]
    },
    {
     "name": "stderr",
     "output_type": "stream",
     "text": [
      "[I 2025-09-29 22:06:55,603] Trial 49 pruned. \n"
     ]
    },
    {
     "name": "stdout",
     "output_type": "stream",
     "text": [
      "Epoch:\t 0 Val Loss:\t 0.05353385415361371\n",
      "Training model with best parameters on train+validation ...\n"
     ]
    },
    {
     "name": "stderr",
     "output_type": "stream",
     "text": [
      "100%|███████████████████████████████████████████████████████████████████████████████████████████████████████████████████████████████████████████████████| 557340/557340 [05:28<00:00, 1696.56it/s]\n",
      "100%|███████████████████████████████████████████████████████████████████████████████████████████████████████████████████████████████████████████████████| 557340/557340 [01:37<00:00, 5736.02it/s]\n"
     ]
    },
    {
     "name": "stdout",
     "output_type": "stream",
     "text": [
      "Getting test set predictions and saving results ...\n"
     ]
    },
    {
     "name": "stderr",
     "output_type": "stream",
     "text": [
      "100%|██████████████████████████████████████████████████████████████████████████████████████████████████████████████████████████████████████████████████████████| 410/410 [00:01<00:00, 362.58it/s]\n"
     ]
    }
   ],
   "source": [
    "train_different_fs(\n",
    "        adata_path=\"./data/feature_selection/sciplex_cellranger.h5ad\",\n",
    "        run_name=\"mlp_scellranger_fs\",\n",
    "        res_savename=\"./results/feature_selection/mlp_cellranger_fs_res.pkl\",\n",
    "    )"
   ]
  },
  {
   "cell_type": "code",
   "execution_count": null,
   "id": "6774f28a-6797-4815-bdf3-a2c5a4db1615",
   "metadata": {},
   "outputs": [],
   "source": []
  }
 ],
 "metadata": {
  "kernelspec": {
   "display_name": "Python 3 (ipykernel)",
   "language": "python",
   "name": "python3"
  },
  "language_info": {
   "codemirror_mode": {
    "name": "ipython",
    "version": 3
   },
   "file_extension": ".py",
   "mimetype": "text/x-python",
   "name": "python",
   "nbconvert_exporter": "python",
   "pygments_lexer": "ipython3",
   "version": "3.12.7"
  }
 },
 "nbformat": 4,
 "nbformat_minor": 5
}
