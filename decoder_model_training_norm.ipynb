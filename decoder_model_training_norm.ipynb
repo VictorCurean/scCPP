{
 "cells": [
  {
   "cell_type": "code",
   "execution_count": 1,
   "id": "0d48305e-5466-4fcd-acbc-95a6d79d2860",
   "metadata": {},
   "outputs": [],
   "source": [
    "import anndata as ad\n",
    "import pickle as pkl\n",
    "\n",
    "from src.evaluator.decoder_evaluator import get_models_results\n",
    "from src.evaluator.evaluator_utils import l2_loss\n",
    "from src.utils import get_model_stats"
   ]
  },
  {
   "cell_type": "code",
   "execution_count": 4,
   "id": "3ac40604-a798-4be2-97b2-61568cfa49b2",
   "metadata": {},
   "outputs": [],
   "source": [
    "def train_different_normalization(adata_path=None, run_name=None, res_savename=None, stats_savename=None, add_relu=True):\n",
    "    DRUG_ENCODING_NAME = \"fmfp\"\n",
    "    DRUG_ENCODING_SIZE = 1024\n",
    "    N_TRIALS = 50\n",
    "    SCHEDULER_MODE = 'min'\n",
    "\n",
    "    with open(\"./data/drug_splits/train_drugs_rand.pkl\", 'rb') as f:\n",
    "        drugs_train_rand = pkl.load(f)\n",
    "\n",
    "    with open(\"./data/drug_splits/val_drugs_rand.pkl\", 'rb') as f:\n",
    "        drugs_val_rand = pkl.load(f)\n",
    "\n",
    "    with open(\"./data/drug_splits/test_drugs_rand.pkl\", 'rb') as f:\n",
    "        drugs_test_rand = pkl.load(f)\n",
    "\n",
    "    drug_splits = dict()\n",
    "    drug_splits['train'] = drugs_train_rand\n",
    "    drug_splits['valid'] = drugs_val_rand\n",
    "    drug_splits['test'] = drugs_test_rand\n",
    "\n",
    "    adata = ad.read_h5ad(adata_path)\n",
    "\n",
    "    get_models_results(drug_splits=drug_splits,\n",
    "                          loss_function=l2_loss,\n",
    "                          adata=adata,\n",
    "                          input_dim=3,\n",
    "                          output_dim=1878,\n",
    "                          drug_rep_name=DRUG_ENCODING_NAME,\n",
    "                          drug_emb_size=DRUG_ENCODING_SIZE,\n",
    "                          n_trials=N_TRIALS,\n",
    "                          scheduler_mode=SCHEDULER_MODE,\n",
    "                          run_name=run_name,\n",
    "                          save_path=res_savename,\n",
    "                          add_relu=add_relu\n",
    "                      )\n",
    "\n",
    "    with open(res_savename, 'rb') as f:\n",
    "        res_raw = pkl.load(f)\n",
    "\n",
    "    adata_control = adata[adata.obs.product_name == 'Vehicle'].copy()\n",
    "    gene_names = list(adata_control.var_names)\n",
    "    raw_stats = get_model_stats(res_raw, adata_control, gene_names, run_name)\n",
    "\n",
    "    with open(stats_savename, 'wb') as f:\n",
    "        pkl.dump(raw_stats, f)"
   ]
  },
  {
   "cell_type": "code",
   "execution_count": 5,
   "id": "b6339985-788d-419f-b647-4b42724206ed",
   "metadata": {},
   "outputs": [
    {
     "name": "stdout",
     "output_type": "stream",
     "text": [
      "Loading Datasets ...\n"
     ]
    },
    {
     "name": "stderr",
     "output_type": "stream",
     "text": [
      "100%|███████████████████████████████████████████████████████████████████████████████████████████████████████████████████████████████████████████████████| 401917/401917 [04:14<00:00, 1579.11it/s]\n",
      "100%|███████████████████████████████████████████████████████████████████████████████████████████████████████████████████████████████████████████████████| 401917/401917 [01:46<00:00, 3790.52it/s]\n",
      "[I 2025-05-25 14:20:59,087] A new study created in RDB with name: decoder_rawcount_norm\n"
     ]
    },
    {
     "name": "stdout",
     "output_type": "stream",
     "text": [
      "Optimizing Hyperparameters with Optuna ...\n",
      "Epoch:\t 0 Val Loss:\t 0.7164532321825672\n",
      "Epoch:\t 1 Val Loss:\t 0.7131673369760299\n",
      "Epoch:\t 2 Val Loss:\t 0.7114377162655834\n",
      "Epoch:\t 3 Val Loss:\t 0.7128140672418466\n",
      "Epoch:\t 4 Val Loss:\t 0.7140300974393581\n",
      "Epoch:\t 5 Val Loss:\t 0.7100968038920804\n",
      "Epoch:\t 6 Val Loss:\t 0.7104547550823911\n",
      "Epoch:\t 7 Val Loss:\t 0.710098162149693\n",
      "Epoch:\t 8 Val Loss:\t 0.7107671506918511\n",
      "Epoch:\t 9 Val Loss:\t 0.7114874940018179\n",
      "Epoch:\t 10 Val Loss:\t 0.7119769939847315\n",
      "Epoch:\t 11 Val Loss:\t 0.7100927422475968\n",
      "Epoch:\t 12 Val Loss:\t 0.7105873022048803\n",
      "Epoch:\t 13 Val Loss:\t 0.710404912566832\n",
      "Epoch:\t 14 Val Loss:\t 0.7095044648149006\n",
      "Epoch:\t 15 Val Loss:\t 0.7090528878560021\n",
      "Epoch:\t 16 Val Loss:\t 0.7101982336527282\n",
      "Epoch:\t 17 Val Loss:\t 0.7123401925878126\n",
      "Epoch:\t 18 Val Loss:\t 0.7092880361333154\n",
      "Epoch:\t 19 Val Loss:\t 0.710298713667983\n",
      "Epoch:\t 20 Val Loss:\t 0.7103346778840497\n",
      "Epoch:\t 21 Val Loss:\t 0.7100967420834053\n",
      "Epoch:\t 22 Val Loss:\t 0.7121946137051107\n",
      "Epoch:\t 23 Val Loss:\t 0.7102183642111407\n",
      "Epoch:\t 24 Val Loss:\t 0.7096590060513119\n"
     ]
    },
    {
     "name": "stderr",
     "output_type": "stream",
     "text": [
      "[I 2025-05-25 14:22:20,973] Trial 0 finished with value: 0.7090528878560021 and parameters: {'lr': 0.001, 'weight_decay': 0.0001, 'scheduler_factor': 0.1, 'scheduler_patience': 20, 'batch_size': 256, 'dropout': 0.05, 'hidden_dims': 256}. Best is trial 0 with value: 0.7090528878560021.\n"
     ]
    },
    {
     "name": "stdout",
     "output_type": "stream",
     "text": [
      "Epoch:\t 25 Val Loss:\t 0.7108400889531592\n",
      "Epoch:\t 0 Val Loss:\t 0.9066234268203288\n",
      "Epoch:\t 1 Val Loss:\t 0.8492321351009284\n",
      "Epoch:\t 2 Val Loss:\t 0.8166312159541136\n",
      "Epoch:\t 3 Val Loss:\t 0.8080769125349775\n",
      "Epoch:\t 4 Val Loss:\t 0.8080776160728478\n",
      "Epoch:\t 5 Val Loss:\t 0.8058665992979536\n",
      "Epoch:\t 6 Val Loss:\t 0.8007694958565469\n",
      "Epoch:\t 7 Val Loss:\t 0.7886247819435143\n",
      "Epoch:\t 8 Val Loss:\t 0.7752557732299239\n",
      "Epoch:\t 9 Val Loss:\t 0.7774707638847087\n",
      "Epoch:\t 10 Val Loss:\t 0.7759451348342017\n",
      "Epoch:\t 11 Val Loss:\t 0.7648656544262518\n",
      "Epoch:\t 12 Val Loss:\t 0.7689536062295069\n",
      "Epoch:\t 13 Val Loss:\t 0.7606049708589045\n",
      "Epoch:\t 14 Val Loss:\t 0.7604746667559974\n",
      "Epoch:\t 15 Val Loss:\t 0.7561412822746323\n",
      "Epoch:\t 16 Val Loss:\t 0.7597053181432292\n",
      "Epoch:\t 17 Val Loss:\t 0.7530580311476109\n",
      "Epoch:\t 18 Val Loss:\t 0.7477069061719822\n",
      "Epoch:\t 19 Val Loss:\t 0.7547781184464992\n",
      "Epoch:\t 20 Val Loss:\t 0.747650154027528\n",
      "Epoch:\t 21 Val Loss:\t 0.7454606326882969\n",
      "Epoch:\t 22 Val Loss:\t 0.7439573413802532\n",
      "Epoch:\t 23 Val Loss:\t 0.7435590366801184\n",
      "Epoch:\t 24 Val Loss:\t 0.7385799121462511\n",
      "Epoch:\t 25 Val Loss:\t 0.741728783579532\n",
      "Epoch:\t 26 Val Loss:\t 0.7369014463885752\n",
      "Epoch:\t 27 Val Loss:\t 0.7338735406468053\n",
      "Epoch:\t 28 Val Loss:\t 0.7357360790272753\n",
      "Epoch:\t 29 Val Loss:\t 0.7342344318279522\n",
      "Epoch:\t 30 Val Loss:\t 0.7334545611260171\n",
      "Epoch:\t 31 Val Loss:\t 0.7334159676918763\n",
      "Epoch:\t 32 Val Loss:\t 0.7322970046727117\n",
      "Epoch:\t 33 Val Loss:\t 0.7308730596411444\n",
      "Epoch:\t 34 Val Loss:\t 0.732055964319405\n",
      "Epoch:\t 35 Val Loss:\t 0.7345266344074257\n",
      "Epoch:\t 36 Val Loss:\t 0.7300100602762016\n",
      "Epoch:\t 37 Val Loss:\t 0.7298959087095184\n",
      "Epoch:\t 38 Val Loss:\t 0.7290520433134927\n",
      "Epoch:\t 39 Val Loss:\t 0.7288301647784475\n",
      "Epoch:\t 40 Val Loss:\t 0.7301277085750518\n",
      "Epoch:\t 41 Val Loss:\t 0.7288627908798401\n",
      "Epoch:\t 42 Val Loss:\t 0.7280734446399915\n",
      "Epoch:\t 43 Val Loss:\t 0.7275944835258151\n",
      "Epoch:\t 44 Val Loss:\t 0.7265658348858476\n",
      "Epoch:\t 45 Val Loss:\t 0.7265719653131488\n",
      "Epoch:\t 46 Val Loss:\t 0.7271694690466882\n",
      "Epoch:\t 47 Val Loss:\t 0.7270637025993191\n",
      "Epoch:\t 48 Val Loss:\t 0.7273299984917612\n",
      "Epoch:\t 49 Val Loss:\t 0.7265902791508214\n",
      "Epoch:\t 50 Val Loss:\t 0.7275783313061288\n",
      "Epoch:\t 51 Val Loss:\t 0.7270978603191032\n",
      "Epoch:\t 52 Val Loss:\t 0.7271878630460383\n",
      "Epoch:\t 53 Val Loss:\t 0.7269413530527948\n",
      "Epoch:\t 54 Val Loss:\t 0.7265525291761559\n",
      "Epoch:\t 55 Val Loss:\t 0.7264242761120767\n",
      "Epoch:\t 56 Val Loss:\t 0.7255759437779387\n",
      "Epoch:\t 57 Val Loss:\t 0.7275702296911117\n",
      "Epoch:\t 58 Val Loss:\t 0.7273796439469458\n",
      "Epoch:\t 59 Val Loss:\t 0.726996820758961\n",
      "Epoch:\t 60 Val Loss:\t 0.727721793176177\n",
      "Epoch:\t 61 Val Loss:\t 0.7267743476884876\n",
      "Epoch:\t 62 Val Loss:\t 0.7270620512400935\n",
      "Epoch:\t 63 Val Loss:\t 0.7291603869331146\n",
      "Epoch:\t 64 Val Loss:\t 0.7280188497058853\n",
      "Epoch:\t 65 Val Loss:\t 0.7282154162804445\n"
     ]
    },
    {
     "name": "stderr",
     "output_type": "stream",
     "text": [
      "[I 2025-05-25 14:34:06,641] Trial 1 finished with value: 0.7255759437779387 and parameters: {'lr': 1e-05, 'weight_decay': 0.0001, 'scheduler_factor': 0.8, 'scheduler_patience': 20, 'batch_size': 32, 'dropout': 0.05, 'hidden_dims': 64}. Best is trial 0 with value: 0.7090528878560021.\n"
     ]
    },
    {
     "name": "stdout",
     "output_type": "stream",
     "text": [
      "Epoch:\t 66 Val Loss:\t 0.728886777222276\n",
      "Epoch:\t 0 Val Loss:\t 0.7161259665544848\n",
      "Epoch:\t 1 Val Loss:\t 0.7167280176327907\n",
      "Epoch:\t 2 Val Loss:\t 0.7156972694351591\n",
      "Epoch:\t 3 Val Loss:\t 0.7161100735957674\n",
      "Epoch:\t 4 Val Loss:\t 0.7209241197477527\n",
      "Epoch:\t 5 Val Loss:\t 0.7204641867985088\n",
      "Epoch:\t 6 Val Loss:\t 0.7282819335552858\n",
      "Epoch:\t 7 Val Loss:\t 0.7262172241908136\n",
      "Epoch:\t 8 Val Loss:\t 0.7267863600102629\n",
      "Epoch:\t 9 Val Loss:\t 0.7292707429855817\n",
      "Epoch:\t 10 Val Loss:\t 0.7277411024691323\n",
      "Epoch:\t 11 Val Loss:\t 0.7289427420827148\n"
     ]
    },
    {
     "name": "stderr",
     "output_type": "stream",
     "text": [
      "[I 2025-05-25 14:38:05,453] Trial 2 finished with value: 0.7156972694351591 and parameters: {'lr': 0.0001, 'weight_decay': 0.0001, 'scheduler_factor': 0.5, 'scheduler_patience': 1, 'batch_size': 16, 'dropout': 0.2, 'hidden_dims': 64}. Best is trial 0 with value: 0.7090528878560021.\n"
     ]
    },
    {
     "name": "stdout",
     "output_type": "stream",
     "text": [
      "Epoch:\t 12 Val Loss:\t 0.7294386897935488\n",
      "Epoch:\t 0 Val Loss:\t 1.1073135559198557\n",
      "Epoch:\t 1 Val Loss:\t 1.0954934989141114\n",
      "Epoch:\t 2 Val Loss:\t 1.086675791878409\n",
      "Epoch:\t 3 Val Loss:\t 1.077098731634318\n",
      "Epoch:\t 4 Val Loss:\t 1.0697098165463022\n",
      "Epoch:\t 5 Val Loss:\t 1.0628759243863954\n",
      "Epoch:\t 6 Val Loss:\t 1.0558603386786973\n",
      "Epoch:\t 7 Val Loss:\t 1.0496436759973262\n",
      "Epoch:\t 8 Val Loss:\t 1.044760404484065\n",
      "Epoch:\t 9 Val Loss:\t 1.041154071832393\n",
      "Epoch:\t 10 Val Loss:\t 1.0352492113972016\n",
      "Epoch:\t 11 Val Loss:\t 1.0313208072515163\n",
      "Epoch:\t 12 Val Loss:\t 1.0265910581377158\n",
      "Epoch:\t 13 Val Loss:\t 1.0224813167305238\n",
      "Epoch:\t 14 Val Loss:\t 1.0176032883178\n",
      "Epoch:\t 15 Val Loss:\t 1.01395694005911\n",
      "Epoch:\t 16 Val Loss:\t 1.0092908822455207\n",
      "Epoch:\t 17 Val Loss:\t 1.0048742363307255\n",
      "Epoch:\t 18 Val Loss:\t 1.0022254973362497\n",
      "Epoch:\t 19 Val Loss:\t 0.9973914734420286\n",
      "Epoch:\t 20 Val Loss:\t 0.9939915336596621\n",
      "Epoch:\t 21 Val Loss:\t 0.9905914075888238\n",
      "Epoch:\t 22 Val Loss:\t 0.9865050988565304\n",
      "Epoch:\t 23 Val Loss:\t 0.9812285118164357\n",
      "Epoch:\t 24 Val Loss:\t 0.9775088922003841\n",
      "Epoch:\t 25 Val Loss:\t 0.9729066746027907\n",
      "Epoch:\t 26 Val Loss:\t 0.9695926933426565\n",
      "Epoch:\t 27 Val Loss:\t 0.9664669908894603\n",
      "Epoch:\t 28 Val Loss:\t 0.9627585006680136\n",
      "Epoch:\t 29 Val Loss:\t 0.9573727332510749\n",
      "Epoch:\t 30 Val Loss:\t 0.9535983478907987\n",
      "Epoch:\t 31 Val Loss:\t 0.9494886049503682\n",
      "Epoch:\t 32 Val Loss:\t 0.944219728183133\n",
      "Epoch:\t 33 Val Loss:\t 0.9412513670430689\n",
      "Epoch:\t 34 Val Loss:\t 0.9369938086083465\n",
      "Epoch:\t 35 Val Loss:\t 0.932875071116199\n",
      "Epoch:\t 36 Val Loss:\t 0.9291364650251015\n",
      "Epoch:\t 37 Val Loss:\t 0.925514486633313\n",
      "Epoch:\t 38 Val Loss:\t 0.9214783345388063\n",
      "Epoch:\t 39 Val Loss:\t 0.9172468443200519\n",
      "Epoch:\t 40 Val Loss:\t 0.9146165652290418\n",
      "Epoch:\t 41 Val Loss:\t 0.9125142475033113\n",
      "Epoch:\t 42 Val Loss:\t 0.9099215826804231\n",
      "Epoch:\t 43 Val Loss:\t 0.9058510028664322\n",
      "Epoch:\t 44 Val Loss:\t 0.9048480468164303\n",
      "Epoch:\t 45 Val Loss:\t 0.9043074349881752\n",
      "Epoch:\t 46 Val Loss:\t 0.9017989269406849\n",
      "Epoch:\t 47 Val Loss:\t 0.9007958760215539\n",
      "Epoch:\t 48 Val Loss:\t 0.9005517984509851\n",
      "Epoch:\t 49 Val Loss:\t 0.9000286435007666\n",
      "Epoch:\t 50 Val Loss:\t 0.8997670057502207\n",
      "Epoch:\t 51 Val Loss:\t 0.8991980851654838\n",
      "Epoch:\t 52 Val Loss:\t 0.8985781071653703\n",
      "Epoch:\t 53 Val Loss:\t 0.89702949014124\n",
      "Epoch:\t 54 Val Loss:\t 0.8985967429121208\n",
      "Epoch:\t 55 Val Loss:\t 0.898240442636312\n",
      "Epoch:\t 56 Val Loss:\t 0.8991439982625833\n",
      "Epoch:\t 57 Val Loss:\t 0.897456250198401\n",
      "Epoch:\t 58 Val Loss:\t 0.8988683421128816\n",
      "Epoch:\t 59 Val Loss:\t 0.8982385703605088\n",
      "Epoch:\t 60 Val Loss:\t 0.8980078906108329\n",
      "Epoch:\t 61 Val Loss:\t 0.902208161315734\n",
      "Epoch:\t 62 Val Loss:\t 0.8948292072946236\n",
      "Epoch:\t 63 Val Loss:\t 0.8962946532240251\n",
      "Epoch:\t 64 Val Loss:\t 0.8955700623644126\n",
      "Epoch:\t 65 Val Loss:\t 0.8944991037393306\n",
      "Epoch:\t 66 Val Loss:\t 0.894287122215872\n",
      "Epoch:\t 67 Val Loss:\t 0.8924726412610609\n",
      "Epoch:\t 68 Val Loss:\t 0.8953695178415231\n",
      "Epoch:\t 69 Val Loss:\t 0.8880698907030357\n",
      "Epoch:\t 70 Val Loss:\t 0.887528157119199\n",
      "Epoch:\t 71 Val Loss:\t 0.8862674677103662\n",
      "Epoch:\t 72 Val Loss:\t 0.8880728251297757\n",
      "Epoch:\t 73 Val Loss:\t 0.8879601056552776\n",
      "Epoch:\t 74 Val Loss:\t 0.885300119590146\n",
      "Epoch:\t 75 Val Loss:\t 0.8863445700556519\n",
      "Epoch:\t 76 Val Loss:\t 0.8846773407466926\n",
      "Epoch:\t 77 Val Loss:\t 0.8805398561563522\n",
      "Epoch:\t 78 Val Loss:\t 0.8846436246415044\n",
      "Epoch:\t 79 Val Loss:\t 0.8835075888603063\n",
      "Epoch:\t 80 Val Loss:\t 0.8801285875571886\n",
      "Epoch:\t 81 Val Loss:\t 0.8785555184462446\n",
      "Epoch:\t 82 Val Loss:\t 0.8779696956324807\n",
      "Epoch:\t 83 Val Loss:\t 0.8765272469382578\n",
      "Epoch:\t 84 Val Loss:\t 0.8737777092065842\n",
      "Epoch:\t 85 Val Loss:\t 0.8739588275983019\n",
      "Epoch:\t 86 Val Loss:\t 0.8713753367160294\n",
      "Epoch:\t 87 Val Loss:\t 0.8736328227726976\n",
      "Epoch:\t 88 Val Loss:\t 0.8729781495029904\n",
      "Epoch:\t 89 Val Loss:\t 0.8763613698950151\n",
      "Epoch:\t 90 Val Loss:\t 0.8699237968760671\n",
      "Epoch:\t 91 Val Loss:\t 0.874939095552328\n",
      "Epoch:\t 92 Val Loss:\t 0.8682368497373207\n",
      "Epoch:\t 93 Val Loss:\t 0.8682359399519549\n",
      "Epoch:\t 94 Val Loss:\t 0.8731037140659197\n",
      "Epoch:\t 95 Val Loss:\t 0.8724039821762747\n",
      "Epoch:\t 96 Val Loss:\t 0.8671279020631428\n",
      "Epoch:\t 97 Val Loss:\t 0.8715275144653688\n",
      "Epoch:\t 98 Val Loss:\t 0.8702451540726174\n"
     ]
    },
    {
     "name": "stderr",
     "output_type": "stream",
     "text": [
      "[I 2025-05-25 14:43:17,461] Trial 3 finished with value: 0.8671279020631428 and parameters: {'lr': 1e-06, 'weight_decay': 0.001, 'scheduler_factor': 0.3, 'scheduler_patience': 20, 'batch_size': 256, 'dropout': 0.2, 'hidden_dims': 128}. Best is trial 0 with value: 0.7090528878560021.\n"
     ]
    },
    {
     "name": "stdout",
     "output_type": "stream",
     "text": [
      "Epoch:\t 99 Val Loss:\t 0.8688392002866199\n",
      "Epoch:\t 0 Val Loss:\t 0.8825906469951942\n",
      "Epoch:\t 1 Val Loss:\t 0.8256635826257295\n",
      "Epoch:\t 2 Val Loss:\t 0.8296644659690505\n",
      "Epoch:\t 3 Val Loss:\t 0.8133550989168973\n",
      "Epoch:\t 4 Val Loss:\t 0.8072489056476327\n",
      "Epoch:\t 5 Val Loss:\t 0.7984611250776813\n",
      "Epoch:\t 6 Val Loss:\t 0.7847221272892252\n",
      "Epoch:\t 7 Val Loss:\t 0.7872625705042933\n",
      "Epoch:\t 8 Val Loss:\t 0.7870931740082447\n",
      "Epoch:\t 9 Val Loss:\t 0.7886860096511978\n",
      "Epoch:\t 10 Val Loss:\t 0.7790202867917854\n",
      "Epoch:\t 11 Val Loss:\t 0.7859679191898324\n",
      "Epoch:\t 12 Val Loss:\t 0.7737561897602478\n",
      "Epoch:\t 13 Val Loss:\t 0.7725370119788117\n",
      "Epoch:\t 14 Val Loss:\t 0.765838077308277\n",
      "Epoch:\t 15 Val Loss:\t 0.7661209778491267\n",
      "Epoch:\t 16 Val Loss:\t 0.7601942836569133\n",
      "Epoch:\t 17 Val Loss:\t 0.7574133613440354\n",
      "Epoch:\t 18 Val Loss:\t 0.7556211976356858\n",
      "Epoch:\t 19 Val Loss:\t 0.755391185797016\n",
      "Epoch:\t 20 Val Loss:\t 0.7509449733288267\n",
      "Epoch:\t 21 Val Loss:\t 0.7494472616084021\n",
      "Epoch:\t 22 Val Loss:\t 0.7506817037952166\n",
      "Epoch:\t 23 Val Loss:\t 0.7484972662178153\n",
      "Epoch:\t 24 Val Loss:\t 0.7491404354906885\n",
      "Epoch:\t 25 Val Loss:\t 0.7510759367069054\n",
      "Epoch:\t 26 Val Loss:\t 0.7474445667186544\n",
      "Epoch:\t 27 Val Loss:\t 0.743630402525043\n",
      "Epoch:\t 28 Val Loss:\t 0.7459716238589313\n",
      "Epoch:\t 29 Val Loss:\t 0.7419066763488216\n",
      "Epoch:\t 30 Val Loss:\t 0.745377366912776\n",
      "Epoch:\t 31 Val Loss:\t 0.7430513814964004\n",
      "Epoch:\t 32 Val Loss:\t 0.7418741574742456\n",
      "Epoch:\t 33 Val Loss:\t 0.7389675153429831\n",
      "Epoch:\t 34 Val Loss:\t 0.7393315171564495\n",
      "Epoch:\t 35 Val Loss:\t 0.7401167946810138\n",
      "Epoch:\t 36 Val Loss:\t 0.7391281388909127\n",
      "Epoch:\t 37 Val Loss:\t 0.7391921200318249\n",
      "Epoch:\t 38 Val Loss:\t 0.7388588479259249\n",
      "Epoch:\t 39 Val Loss:\t 0.7376383548750338\n",
      "Epoch:\t 40 Val Loss:\t 0.7371262570046958\n",
      "Epoch:\t 41 Val Loss:\t 0.7385311554265959\n",
      "Epoch:\t 42 Val Loss:\t 0.7366315797748045\n",
      "Epoch:\t 43 Val Loss:\t 0.7388655970884306\n",
      "Epoch:\t 44 Val Loss:\t 0.7370727620511028\n",
      "Epoch:\t 45 Val Loss:\t 0.7364214256513377\n",
      "Epoch:\t 46 Val Loss:\t 0.7376162237708054\n",
      "Epoch:\t 47 Val Loss:\t 0.7368716804524279\n",
      "Epoch:\t 48 Val Loss:\t 0.7371874289839575\n",
      "Epoch:\t 49 Val Loss:\t 0.7360064247033075\n",
      "Epoch:\t 50 Val Loss:\t 0.7379461519222978\n",
      "Epoch:\t 51 Val Loss:\t 0.7360951999424932\n",
      "Epoch:\t 52 Val Loss:\t 0.7366404360116914\n",
      "Epoch:\t 53 Val Loss:\t 0.7364288048927747\n",
      "Epoch:\t 54 Val Loss:\t 0.7374712256498115\n",
      "Epoch:\t 55 Val Loss:\t 0.737232442655464\n",
      "Epoch:\t 56 Val Loss:\t 0.7371280477251544\n",
      "Epoch:\t 57 Val Loss:\t 0.737736864599497\n",
      "Epoch:\t 58 Val Loss:\t 0.7367009864201427\n"
     ]
    },
    {
     "name": "stderr",
     "output_type": "stream",
     "text": [
      "[I 2025-05-25 14:49:35,693] Trial 4 finished with value: 0.7360064247033075 and parameters: {'lr': 1e-05, 'weight_decay': 1e-06, 'scheduler_factor': 0.5, 'scheduler_patience': 5, 'batch_size': 64, 'dropout': 0.2, 'hidden_dims': 256}. Best is trial 0 with value: 0.7090528878560021.\n"
     ]
    },
    {
     "name": "stdout",
     "output_type": "stream",
     "text": [
      "Epoch:\t 59 Val Loss:\t 0.7380025360282173\n"
     ]
    },
    {
     "name": "stderr",
     "output_type": "stream",
     "text": [
      "[I 2025-05-25 14:49:38,871] Trial 5 pruned. \n"
     ]
    },
    {
     "name": "stdout",
     "output_type": "stream",
     "text": [
      "Epoch:\t 0 Val Loss:\t 1.1103740047028594\n",
      "Epoch:\t 0 Val Loss:\t 0.8393013491664969\n",
      "Epoch:\t 1 Val Loss:\t 0.8195828973960189\n",
      "Epoch:\t 2 Val Loss:\t 0.8056664805748793\n",
      "Epoch:\t 3 Val Loss:\t 0.7992144429454253\n",
      "Epoch:\t 4 Val Loss:\t 0.7806897414571874\n",
      "Epoch:\t 5 Val Loss:\t 0.7735537898569176\n",
      "Epoch:\t 6 Val Loss:\t 0.7643636608945912\n",
      "Epoch:\t 7 Val Loss:\t 0.7671265327270832\n",
      "Epoch:\t 8 Val Loss:\t 0.7641684461710638\n",
      "Epoch:\t 9 Val Loss:\t 0.7542000914824516\n",
      "Epoch:\t 10 Val Loss:\t 0.7553329644866629\n",
      "Epoch:\t 11 Val Loss:\t 0.7517294441353539\n",
      "Epoch:\t 12 Val Loss:\t 0.7533119491270857\n",
      "Epoch:\t 13 Val Loss:\t 0.7504696976259028\n",
      "Epoch:\t 14 Val Loss:\t 0.7470211798703087\n",
      "Epoch:\t 15 Val Loss:\t 0.745071712215136\n",
      "Epoch:\t 16 Val Loss:\t 0.7434963576776463\n",
      "Epoch:\t 17 Val Loss:\t 0.7433548744143538\n",
      "Epoch:\t 18 Val Loss:\t 0.7386110843709687\n",
      "Epoch:\t 19 Val Loss:\t 0.7390386803253421\n",
      "Epoch:\t 20 Val Loss:\t 0.7389760362977683\n",
      "Epoch:\t 21 Val Loss:\t 0.7386739902383533\n",
      "Epoch:\t 22 Val Loss:\t 0.7368967909285232\n",
      "Epoch:\t 23 Val Loss:\t 0.7363795262388736\n",
      "Epoch:\t 24 Val Loss:\t 0.7374483801502176\n",
      "Epoch:\t 25 Val Loss:\t 0.7362731710470669\n",
      "Epoch:\t 26 Val Loss:\t 0.7371020345278712\n",
      "Epoch:\t 27 Val Loss:\t 0.73598418473815\n",
      "Epoch:\t 28 Val Loss:\t 0.7361962880816761\n",
      "Epoch:\t 29 Val Loss:\t 0.7360635514056673\n",
      "Epoch:\t 30 Val Loss:\t 0.7359022518445132\n",
      "Epoch:\t 31 Val Loss:\t 0.7365256002786739\n",
      "Epoch:\t 32 Val Loss:\t 0.736538500227064\n",
      "Epoch:\t 33 Val Loss:\t 0.7362566951426297\n",
      "Epoch:\t 34 Val Loss:\t 0.7367974960192165\n",
      "Epoch:\t 35 Val Loss:\t 0.7375308014960316\n",
      "Epoch:\t 36 Val Loss:\t 0.7373222679784036\n",
      "Epoch:\t 37 Val Loss:\t 0.7376740933802955\n",
      "Epoch:\t 38 Val Loss:\t 0.7384628193466397\n",
      "Epoch:\t 39 Val Loss:\t 0.737904804462228\n"
     ]
    },
    {
     "name": "stderr",
     "output_type": "stream",
     "text": [
      "[I 2025-05-25 14:53:57,388] Trial 6 finished with value: 0.7359022518445132 and parameters: {'lr': 1e-05, 'weight_decay': 1e-06, 'scheduler_factor': 0.8, 'scheduler_patience': 20, 'batch_size': 64, 'dropout': 0.2, 'hidden_dims': 512}. Best is trial 0 with value: 0.7090528878560021.\n"
     ]
    },
    {
     "name": "stdout",
     "output_type": "stream",
     "text": [
      "Epoch:\t 40 Val Loss:\t 0.7384567756411928\n",
      "Epoch:\t 0 Val Loss:\t 0.7209603628617728\n",
      "Epoch:\t 1 Val Loss:\t 0.7139168629665413\n",
      "Epoch:\t 2 Val Loss:\t 0.7155087226677036\n",
      "Epoch:\t 3 Val Loss:\t 0.716495632247361\n",
      "Epoch:\t 4 Val Loss:\t 0.7184659438106961\n",
      "Epoch:\t 5 Val Loss:\t 0.7168727055819096\n",
      "Epoch:\t 6 Val Loss:\t 0.7140582521776399\n",
      "Epoch:\t 7 Val Loss:\t 0.7134624927877663\n",
      "Epoch:\t 8 Val Loss:\t 0.7148689184793251\n",
      "Epoch:\t 9 Val Loss:\t 0.7133167992433709\n",
      "Epoch:\t 10 Val Loss:\t 0.7159410787847095\n",
      "Epoch:\t 11 Val Loss:\t 0.7144706189751864\n",
      "Epoch:\t 12 Val Loss:\t 0.713935531636995\n",
      "Epoch:\t 13 Val Loss:\t 0.7193311094998835\n",
      "Epoch:\t 14 Val Loss:\t 0.7157089020302874\n",
      "Epoch:\t 15 Val Loss:\t 0.7132494512803569\n",
      "Epoch:\t 16 Val Loss:\t 0.7140170293126651\n",
      "Epoch:\t 17 Val Loss:\t 0.7142735823899329\n",
      "Epoch:\t 18 Val Loss:\t 0.7139161332157666\n",
      "Epoch:\t 19 Val Loss:\t 0.714971491091237\n",
      "Epoch:\t 20 Val Loss:\t 0.7132327287732241\n",
      "Epoch:\t 21 Val Loss:\t 0.7146759313368846\n",
      "Epoch:\t 22 Val Loss:\t 0.7131539648305438\n",
      "Epoch:\t 23 Val Loss:\t 0.7135115194655134\n",
      "Epoch:\t 24 Val Loss:\t 0.7142169210798516\n",
      "Epoch:\t 25 Val Loss:\t 0.7149676251148652\n",
      "Epoch:\t 26 Val Loss:\t 0.7172915794925843\n",
      "Epoch:\t 27 Val Loss:\t 0.7133417423836932\n",
      "Epoch:\t 28 Val Loss:\t 0.713372867523071\n",
      "Epoch:\t 29 Val Loss:\t 0.7117290103244399\n",
      "Epoch:\t 30 Val Loss:\t 0.7133919901862174\n",
      "Epoch:\t 31 Val Loss:\t 0.7141287523543907\n",
      "Epoch:\t 32 Val Loss:\t 0.7137243088536368\n",
      "Epoch:\t 33 Val Loss:\t 0.7136403306811032\n",
      "Epoch:\t 34 Val Loss:\t 0.7121963142273661\n",
      "Epoch:\t 35 Val Loss:\t 0.7132065995004707\n",
      "Epoch:\t 36 Val Loss:\t 0.7131019104996282\n",
      "Epoch:\t 37 Val Loss:\t 0.7123019115719385\n",
      "Epoch:\t 38 Val Loss:\t 0.7144885639389436\n"
     ]
    },
    {
     "name": "stderr",
     "output_type": "stream",
     "text": [
      "[I 2025-05-25 15:01:04,450] Trial 7 finished with value: 0.7117290103244399 and parameters: {'lr': 0.001, 'weight_decay': 0.001, 'scheduler_factor': 0.5, 'scheduler_patience': 5, 'batch_size': 32, 'dropout': 0.05, 'hidden_dims': 512}. Best is trial 0 with value: 0.7090528878560021.\n"
     ]
    },
    {
     "name": "stdout",
     "output_type": "stream",
     "text": [
      "Epoch:\t 39 Val Loss:\t 0.7135976787141425\n",
      "Epoch:\t 0 Val Loss:\t 0.7666574357792042\n",
      "Epoch:\t 1 Val Loss:\t 0.7371109059591737\n",
      "Epoch:\t 2 Val Loss:\t 0.7263939974778728\n",
      "Epoch:\t 3 Val Loss:\t 0.7186981394623868\n",
      "Epoch:\t 4 Val Loss:\t 0.7168562712198658\n",
      "Epoch:\t 5 Val Loss:\t 0.7158836140200184\n",
      "Epoch:\t 6 Val Loss:\t 0.7158824169042597\n",
      "Epoch:\t 7 Val Loss:\t 0.7129965938304822\n",
      "Epoch:\t 8 Val Loss:\t 0.7150391368001078\n",
      "Epoch:\t 9 Val Loss:\t 0.7154012316207059\n",
      "Epoch:\t 10 Val Loss:\t 0.7135224124210413\n",
      "Epoch:\t 11 Val Loss:\t 0.7139595086846268\n",
      "Epoch:\t 12 Val Loss:\t 0.7136558731524558\n",
      "Epoch:\t 13 Val Loss:\t 0.7133042579382227\n",
      "Epoch:\t 14 Val Loss:\t 0.7132510944220266\n",
      "Epoch:\t 15 Val Loss:\t 0.7127656067450969\n",
      "Epoch:\t 16 Val Loss:\t 0.7132193364358446\n",
      "Epoch:\t 17 Val Loss:\t 0.7127012157421051\n",
      "Epoch:\t 18 Val Loss:\t 0.7116607178367351\n",
      "Epoch:\t 19 Val Loss:\t 0.7142170111306406\n",
      "Epoch:\t 20 Val Loss:\t 0.712551892138599\n",
      "Epoch:\t 21 Val Loss:\t 0.7135231915867348\n",
      "Epoch:\t 22 Val Loss:\t 0.7129777163314972\n",
      "Epoch:\t 23 Val Loss:\t 0.7136823521571213\n",
      "Epoch:\t 24 Val Loss:\t 0.7130121955136809\n",
      "Epoch:\t 25 Val Loss:\t 0.7125145110330077\n",
      "Epoch:\t 26 Val Loss:\t 0.7124444075993129\n",
      "Epoch:\t 27 Val Loss:\t 0.7118770489723304\n"
     ]
    },
    {
     "name": "stderr",
     "output_type": "stream",
     "text": [
      "[I 2025-05-25 15:03:06,572] Trial 8 finished with value: 0.7116607178367351 and parameters: {'lr': 0.0001, 'weight_decay': 0.0001, 'scheduler_factor': 0.8, 'scheduler_patience': 5, 'batch_size': 128, 'dropout': 0.15, 'hidden_dims': 256}. Best is trial 0 with value: 0.7090528878560021.\n"
     ]
    },
    {
     "name": "stdout",
     "output_type": "stream",
     "text": [
      "Epoch:\t 28 Val Loss:\t 0.7119780104386099\n"
     ]
    },
    {
     "name": "stderr",
     "output_type": "stream",
     "text": [
      "[I 2025-05-25 15:03:24,544] Trial 9 pruned. \n"
     ]
    },
    {
     "name": "stdout",
     "output_type": "stream",
     "text": [
      "Epoch:\t 0 Val Loss:\t 0.8417264686076729\n",
      "Epoch:\t 0 Val Loss:\t 0.7249032071165716\n",
      "Epoch:\t 1 Val Loss:\t 0.7219976633308018\n",
      "Epoch:\t 2 Val Loss:\t 0.7176349225343231\n",
      "Epoch:\t 3 Val Loss:\t 0.7201567345876786\n",
      "Epoch:\t 4 Val Loss:\t 0.7171490413774632\n",
      "Epoch:\t 5 Val Loss:\t 0.7145041288670236\n",
      "Epoch:\t 6 Val Loss:\t 0.7144637803556069\n",
      "Epoch:\t 7 Val Loss:\t 0.7128797424567858\n",
      "Epoch:\t 8 Val Loss:\t 0.7121657599781871\n",
      "Epoch:\t 9 Val Loss:\t 0.7144364298731568\n",
      "Epoch:\t 10 Val Loss:\t 0.7113773611964137\n",
      "Epoch:\t 11 Val Loss:\t 0.7124202999846345\n",
      "Epoch:\t 12 Val Loss:\t 0.7114022554308655\n",
      "Epoch:\t 13 Val Loss:\t 0.7127748510270256\n",
      "Epoch:\t 14 Val Loss:\t 0.7116170208362138\n",
      "Epoch:\t 15 Val Loss:\t 0.7103646450295709\n",
      "Epoch:\t 16 Val Loss:\t 0.7109707938896498\n",
      "Epoch:\t 17 Val Loss:\t 0.7118210361318189\n",
      "Epoch:\t 18 Val Loss:\t 0.7113100776143396\n",
      "Epoch:\t 19 Val Loss:\t 0.7113065632401555\n",
      "Epoch:\t 20 Val Loss:\t 0.7102207328728924\n",
      "Epoch:\t 21 Val Loss:\t 0.7121545276649512\n",
      "Epoch:\t 22 Val Loss:\t 0.711340176235058\n",
      "Epoch:\t 23 Val Loss:\t 0.7116972364221739\n",
      "Epoch:\t 24 Val Loss:\t 0.7097926240450316\n",
      "Epoch:\t 25 Val Loss:\t 0.712192502914901\n",
      "Epoch:\t 26 Val Loss:\t 0.711563746741347\n",
      "Epoch:\t 27 Val Loss:\t 0.7106455499336267\n",
      "Epoch:\t 28 Val Loss:\t 0.7117635159247174\n",
      "Epoch:\t 29 Val Loss:\t 0.710481371335278\n",
      "Epoch:\t 30 Val Loss:\t 0.7111450127083389\n",
      "Epoch:\t 31 Val Loss:\t 0.7125985311925219\n",
      "Epoch:\t 32 Val Loss:\t 0.7127004086587974\n",
      "Epoch:\t 33 Val Loss:\t 0.711781316248167\n"
     ]
    },
    {
     "name": "stderr",
     "output_type": "stream",
     "text": [
      "[I 2025-05-25 15:05:14,334] Trial 10 finished with value: 0.7097926240450316 and parameters: {'lr': 0.001, 'weight_decay': 1e-05, 'scheduler_factor': 0.1, 'scheduler_patience': 10, 'batch_size': 256, 'dropout': 0.1, 'hidden_dims': 1024}. Best is trial 0 with value: 0.7090528878560021.\n"
     ]
    },
    {
     "name": "stdout",
     "output_type": "stream",
     "text": [
      "Epoch:\t 34 Val Loss:\t 0.71121665892877\n",
      "Epoch:\t 0 Val Loss:\t 0.7292483508395229\n",
      "Epoch:\t 1 Val Loss:\t 0.7219442244128016\n",
      "Epoch:\t 2 Val Loss:\t 0.7230336898967767\n",
      "Epoch:\t 3 Val Loss:\t 0.7151215666743337\n",
      "Epoch:\t 4 Val Loss:\t 0.7145611339060056\n",
      "Epoch:\t 5 Val Loss:\t 0.7194661741471368\n",
      "Epoch:\t 6 Val Loss:\t 0.7127529697977845\n",
      "Epoch:\t 7 Val Loss:\t 0.71260504295205\n",
      "Epoch:\t 8 Val Loss:\t 0.7130353233246941\n",
      "Epoch:\t 9 Val Loss:\t 0.7131311953834398\n",
      "Epoch:\t 10 Val Loss:\t 0.7117761228820518\n",
      "Epoch:\t 11 Val Loss:\t 0.713463079220229\n",
      "Epoch:\t 12 Val Loss:\t 0.7132448765817563\n",
      "Epoch:\t 13 Val Loss:\t 0.711508265741385\n",
      "Epoch:\t 14 Val Loss:\t 0.7119250434579574\n",
      "Epoch:\t 15 Val Loss:\t 0.7123824013966072\n",
      "Epoch:\t 16 Val Loss:\t 0.7130101119015377\n",
      "Epoch:\t 17 Val Loss:\t 0.7115610179602142\n",
      "Epoch:\t 18 Val Loss:\t 0.712599444140192\n",
      "Epoch:\t 19 Val Loss:\t 0.7124456394332015\n",
      "Epoch:\t 20 Val Loss:\t 0.7121223520810964\n",
      "Epoch:\t 21 Val Loss:\t 0.7126277475303392\n",
      "Epoch:\t 22 Val Loss:\t 0.7119353521866814\n"
     ]
    },
    {
     "name": "stderr",
     "output_type": "stream",
     "text": [
      "[I 2025-05-25 15:06:29,153] Trial 11 finished with value: 0.711508265741385 and parameters: {'lr': 0.001, 'weight_decay': 1e-05, 'scheduler_factor': 0.1, 'scheduler_patience': 10, 'batch_size': 256, 'dropout': 0.1, 'hidden_dims': 1024}. Best is trial 0 with value: 0.7090528878560021.\n"
     ]
    },
    {
     "name": "stdout",
     "output_type": "stream",
     "text": [
      "Epoch:\t 23 Val Loss:\t 0.7115354180527653\n",
      "Epoch:\t 0 Val Loss:\t 0.7213305843413068\n",
      "Epoch:\t 1 Val Loss:\t 0.7221467082906766\n",
      "Epoch:\t 2 Val Loss:\t 0.7244468385000321\n",
      "Epoch:\t 3 Val Loss:\t 0.715960440432527\n",
      "Epoch:\t 4 Val Loss:\t 0.7152806779196025\n",
      "Epoch:\t 5 Val Loss:\t 0.7155443159713623\n",
      "Epoch:\t 6 Val Loss:\t 0.7156984370046107\n",
      "Epoch:\t 7 Val Loss:\t 0.7132841044875203\n",
      "Epoch:\t 8 Val Loss:\t 0.712541119270386\n",
      "Epoch:\t 9 Val Loss:\t 0.712489767473227\n",
      "Epoch:\t 10 Val Loss:\t 0.7147714112349262\n",
      "Epoch:\t 11 Val Loss:\t 0.71092918898515\n",
      "Epoch:\t 12 Val Loss:\t 0.7105200595411074\n",
      "Epoch:\t 13 Val Loss:\t 0.7109975819610707\n",
      "Epoch:\t 14 Val Loss:\t 0.7104682880199223\n",
      "Epoch:\t 15 Val Loss:\t 0.7110112948624651\n",
      "Epoch:\t 16 Val Loss:\t 0.7096774139204975\n",
      "Epoch:\t 17 Val Loss:\t 0.7100028205914513\n",
      "Epoch:\t 18 Val Loss:\t 0.7122952354490949\n",
      "Epoch:\t 19 Val Loss:\t 0.7107474949582213\n",
      "Epoch:\t 20 Val Loss:\t 0.7090736641952846\n",
      "Epoch:\t 21 Val Loss:\t 0.7103020728017739\n",
      "Epoch:\t 22 Val Loss:\t 0.7116309596986249\n",
      "Epoch:\t 23 Val Loss:\t 0.7114668145440399\n",
      "Epoch:\t 24 Val Loss:\t 0.711711483082204\n",
      "Epoch:\t 25 Val Loss:\t 0.7118958165791257\n",
      "Epoch:\t 26 Val Loss:\t 0.7114432077507498\n",
      "Epoch:\t 27 Val Loss:\t 0.71083059188254\n",
      "Epoch:\t 28 Val Loss:\t 0.7125665073992739\n",
      "Epoch:\t 29 Val Loss:\t 0.7110879400152103\n"
     ]
    },
    {
     "name": "stderr",
     "output_type": "stream",
     "text": [
      "[I 2025-05-25 15:08:04,914] Trial 12 finished with value: 0.7090736641952846 and parameters: {'lr': 0.001, 'weight_decay': 1e-05, 'scheduler_factor': 0.1, 'scheduler_patience': 10, 'batch_size': 256, 'dropout': 0.1, 'hidden_dims': 1024}. Best is trial 0 with value: 0.7090528878560021.\n"
     ]
    },
    {
     "name": "stdout",
     "output_type": "stream",
     "text": [
      "Epoch:\t 30 Val Loss:\t 0.7121323769690523\n",
      "Epoch:\t 0 Val Loss:\t 0.7230273234115919\n",
      "Epoch:\t 1 Val Loss:\t 0.7172547595102304\n",
      "Epoch:\t 2 Val Loss:\t 0.7169345292439415\n",
      "Epoch:\t 3 Val Loss:\t 0.7161376741729749\n",
      "Epoch:\t 4 Val Loss:\t 0.7157659264239468\n",
      "Epoch:\t 5 Val Loss:\t 0.7158063626174375\n",
      "Epoch:\t 6 Val Loss:\t 0.7144063645045474\n"
     ]
    },
    {
     "name": "stderr",
     "output_type": "stream",
     "text": [
      "[I 2025-05-25 15:08:29,940] Trial 13 pruned. \n"
     ]
    },
    {
     "name": "stdout",
     "output_type": "stream",
     "text": [
      "Epoch:\t 7 Val Loss:\t 0.7145955546300894\n",
      "Epoch:\t 0 Val Loss:\t 0.7151844097752824\n",
      "Epoch:\t 1 Val Loss:\t 0.7127977871780028\n",
      "Epoch:\t 2 Val Loss:\t 0.7104948596433881\n",
      "Epoch:\t 3 Val Loss:\t 0.7123759431020024\n",
      "Epoch:\t 4 Val Loss:\t 0.7102791944437961\n",
      "Epoch:\t 5 Val Loss:\t 0.7105525303901102\n",
      "Epoch:\t 6 Val Loss:\t 0.7100121321972837\n",
      "Epoch:\t 7 Val Loss:\t 0.7092482596396634\n",
      "Epoch:\t 8 Val Loss:\t 0.7113522318928812\n",
      "Epoch:\t 9 Val Loss:\t 0.7109951463977943\n",
      "Epoch:\t 10 Val Loss:\t 0.7097916688716239\n",
      "Epoch:\t 11 Val Loss:\t 0.7092561763898136\n",
      "Epoch:\t 12 Val Loss:\t 0.7090534300903639\n",
      "Epoch:\t 13 Val Loss:\t 0.7093963129849533\n",
      "Epoch:\t 14 Val Loss:\t 0.7087992423992862\n",
      "Epoch:\t 15 Val Loss:\t 0.7088706363261607\n",
      "Epoch:\t 16 Val Loss:\t 0.7089176575023902\n",
      "Epoch:\t 17 Val Loss:\t 0.7087809640561405\n",
      "Epoch:\t 18 Val Loss:\t 0.7092860685975364\n",
      "Epoch:\t 19 Val Loss:\t 0.7094820924880608\n",
      "Epoch:\t 20 Val Loss:\t 0.7093055793121577\n",
      "Epoch:\t 21 Val Loss:\t 0.7091892881148508\n",
      "Epoch:\t 22 Val Loss:\t 0.7092051689257399\n",
      "Epoch:\t 23 Val Loss:\t 0.7094783883894619\n",
      "Epoch:\t 24 Val Loss:\t 0.7100087794599335\n",
      "Epoch:\t 25 Val Loss:\t 0.70900097996427\n",
      "Epoch:\t 26 Val Loss:\t 0.7091073039829444\n"
     ]
    },
    {
     "name": "stderr",
     "output_type": "stream",
     "text": [
      "[I 2025-05-25 15:10:32,316] Trial 14 finished with value: 0.7087809640561405 and parameters: {'lr': 0.001, 'weight_decay': 0.0001, 'scheduler_factor': 0.1, 'scheduler_patience': 1, 'batch_size': 128, 'dropout': 0.05, 'hidden_dims': 1024}. Best is trial 14 with value: 0.7087809640561405.\n"
     ]
    },
    {
     "name": "stdout",
     "output_type": "stream",
     "text": [
      "Epoch:\t 27 Val Loss:\t 0.7092211041749003\n",
      "Epoch:\t 0 Val Loss:\t 0.7166167954954634\n",
      "Epoch:\t 1 Val Loss:\t 0.7182563183108647\n",
      "Epoch:\t 2 Val Loss:\t 0.7126577680221913\n",
      "Epoch:\t 3 Val Loss:\t 0.7119262300754626\n",
      "Epoch:\t 4 Val Loss:\t 0.713400382721979\n",
      "Epoch:\t 5 Val Loss:\t 0.7109672227219632\n",
      "Epoch:\t 6 Val Loss:\t 0.7108502547297011\n",
      "Epoch:\t 7 Val Loss:\t 0.7120451636815722\n",
      "Epoch:\t 8 Val Loss:\t 0.710775443485805\n",
      "Epoch:\t 9 Val Loss:\t 0.7106815347893471\n",
      "Epoch:\t 10 Val Loss:\t 0.7099661472616762\n",
      "Epoch:\t 11 Val Loss:\t 0.7101138281975282\n",
      "Epoch:\t 12 Val Loss:\t 0.7115646461518197\n",
      "Epoch:\t 13 Val Loss:\t 0.7100476806274769\n",
      "Epoch:\t 14 Val Loss:\t 0.7093870709642744\n",
      "Epoch:\t 15 Val Loss:\t 0.7109348735686863\n",
      "Epoch:\t 16 Val Loss:\t 0.7103904716754228\n",
      "Epoch:\t 17 Val Loss:\t 0.7097790267551691\n",
      "Epoch:\t 18 Val Loss:\t 0.7104611508727647\n",
      "Epoch:\t 19 Val Loss:\t 0.7101042482099028\n",
      "Epoch:\t 20 Val Loss:\t 0.7105252983864774\n",
      "Epoch:\t 21 Val Loss:\t 0.7107129555261346\n",
      "Epoch:\t 22 Val Loss:\t 0.7102988086294018\n",
      "Epoch:\t 23 Val Loss:\t 0.7100625352434706\n"
     ]
    },
    {
     "name": "stderr",
     "output_type": "stream",
     "text": [
      "[I 2025-05-25 15:12:20,234] Trial 15 finished with value: 0.7093870709642744 and parameters: {'lr': 0.001, 'weight_decay': 0.0001, 'scheduler_factor': 0.3, 'scheduler_patience': 1, 'batch_size': 128, 'dropout': 0.05, 'hidden_dims': 1024}. Best is trial 14 with value: 0.7087809640561405.\n"
     ]
    },
    {
     "name": "stdout",
     "output_type": "stream",
     "text": [
      "Epoch:\t 24 Val Loss:\t 0.7102249566088902\n",
      "Epoch:\t 0 Val Loss:\t 0.7165426646821189\n",
      "Epoch:\t 1 Val Loss:\t 0.7161829574437241\n",
      "Epoch:\t 2 Val Loss:\t 0.7116863688343409\n",
      "Epoch:\t 3 Val Loss:\t 0.7126001957714271\n",
      "Epoch:\t 4 Val Loss:\t 0.711932501813956\n",
      "Epoch:\t 5 Val Loss:\t 0.7089886131485622\n",
      "Epoch:\t 6 Val Loss:\t 0.7096128891406052\n",
      "Epoch:\t 7 Val Loss:\t 0.7098634387000223\n",
      "Epoch:\t 8 Val Loss:\t 0.7096850225286346\n",
      "Epoch:\t 9 Val Loss:\t 0.7089541203807292\n",
      "Epoch:\t 10 Val Loss:\t 0.7092912901270638\n",
      "Epoch:\t 11 Val Loss:\t 0.7092960039168644\n",
      "Epoch:\t 12 Val Loss:\t 0.7097010336947862\n",
      "Epoch:\t 13 Val Loss:\t 0.7094559045702841\n",
      "Epoch:\t 14 Val Loss:\t 0.7093562231209266\n",
      "Epoch:\t 15 Val Loss:\t 0.709483546726585\n",
      "Epoch:\t 16 Val Loss:\t 0.7089874819519049\n",
      "Epoch:\t 17 Val Loss:\t 0.7099779366872858\n",
      "Epoch:\t 18 Val Loss:\t 0.7095835117046179\n"
     ]
    },
    {
     "name": "stderr",
     "output_type": "stream",
     "text": [
      "[I 2025-05-25 15:13:45,271] Trial 16 finished with value: 0.7089541203807292 and parameters: {'lr': 0.001, 'weight_decay': 0.0001, 'scheduler_factor': 0.1, 'scheduler_patience': 1, 'batch_size': 128, 'dropout': 0.05, 'hidden_dims': 256}. Best is trial 14 with value: 0.7087809640561405.\n"
     ]
    },
    {
     "name": "stdout",
     "output_type": "stream",
     "text": [
      "Epoch:\t 19 Val Loss:\t 0.7089895796909761\n",
      "Epoch:\t 0 Val Loss:\t 0.7144414287413295\n",
      "Epoch:\t 1 Val Loss:\t 0.7114841423773268\n",
      "Epoch:\t 2 Val Loss:\t 0.7125961297874849\n",
      "Epoch:\t 3 Val Loss:\t 0.7139913181910355\n",
      "Epoch:\t 4 Val Loss:\t 0.7094107813666759\n",
      "Epoch:\t 5 Val Loss:\t 0.7092479527187959\n",
      "Epoch:\t 6 Val Loss:\t 0.7094324006314836\n",
      "Epoch:\t 7 Val Loss:\t 0.7088479381981477\n",
      "Epoch:\t 8 Val Loss:\t 0.7095832545818525\n",
      "Epoch:\t 9 Val Loss:\t 0.709652187401372\n",
      "Epoch:\t 10 Val Loss:\t 0.7084525361011346\n",
      "Epoch:\t 11 Val Loss:\t 0.709466662299767\n",
      "Epoch:\t 12 Val Loss:\t 0.7084971533349773\n",
      "Epoch:\t 13 Val Loss:\t 0.709243778001822\n",
      "Epoch:\t 14 Val Loss:\t 0.7094559951253343\n",
      "Epoch:\t 15 Val Loss:\t 0.7093748596659825\n",
      "Epoch:\t 16 Val Loss:\t 0.7098766694482218\n",
      "Epoch:\t 17 Val Loss:\t 0.7092507462440295\n",
      "Epoch:\t 18 Val Loss:\t 0.7087287861692388\n",
      "Epoch:\t 19 Val Loss:\t 0.7092913875706123\n"
     ]
    },
    {
     "name": "stderr",
     "output_type": "stream",
     "text": [
      "[I 2025-05-25 15:15:14,022] Trial 17 finished with value: 0.7084525361011346 and parameters: {'lr': 0.001, 'weight_decay': 0.0001, 'scheduler_factor': 0.1, 'scheduler_patience': 1, 'batch_size': 128, 'dropout': 0.05, 'hidden_dims': 256}. Best is trial 17 with value: 0.7084525361011346.\n"
     ]
    },
    {
     "name": "stdout",
     "output_type": "stream",
     "text": [
      "Epoch:\t 20 Val Loss:\t 0.7093407475355158\n"
     ]
    },
    {
     "name": "stderr",
     "output_type": "stream",
     "text": [
      "[I 2025-05-25 15:15:18,387] Trial 18 pruned. \n"
     ]
    },
    {
     "name": "stdout",
     "output_type": "stream",
     "text": [
      "Epoch:\t 0 Val Loss:\t 1.0231813147879336\n"
     ]
    },
    {
     "name": "stderr",
     "output_type": "stream",
     "text": [
      "[I 2025-05-25 15:15:22,831] Trial 19 pruned. \n"
     ]
    },
    {
     "name": "stdout",
     "output_type": "stream",
     "text": [
      "Epoch:\t 0 Val Loss:\t 0.7567367786197754\n",
      "Epoch:\t 0 Val Loss:\t 0.7178886389751495\n",
      "Epoch:\t 1 Val Loss:\t 0.7136177676542995\n",
      "Epoch:\t 2 Val Loss:\t 0.716926791886074\n",
      "Epoch:\t 3 Val Loss:\t 0.7149553742397272\n",
      "Epoch:\t 4 Val Loss:\t 0.7126121461200102\n",
      "Epoch:\t 5 Val Loss:\t 0.7117334580344908\n",
      "Epoch:\t 6 Val Loss:\t 0.7119222006866676\n",
      "Epoch:\t 7 Val Loss:\t 0.7122265103349333\n",
      "Epoch:\t 8 Val Loss:\t 0.711690101635016\n",
      "Epoch:\t 9 Val Loss:\t 0.712041556978685\n",
      "Epoch:\t 10 Val Loss:\t 0.7114338797799656\n",
      "Epoch:\t 11 Val Loss:\t 0.7120472009070995\n",
      "Epoch:\t 12 Val Loss:\t 0.7125330799368373\n",
      "Epoch:\t 13 Val Loss:\t 0.7117558411093814\n",
      "Epoch:\t 14 Val Loss:\t 0.711621669905909\n",
      "Epoch:\t 15 Val Loss:\t 0.7118031492585355\n",
      "Epoch:\t 16 Val Loss:\t 0.7120277760595227\n",
      "Epoch:\t 17 Val Loss:\t 0.7120505573278828\n",
      "Epoch:\t 18 Val Loss:\t 0.7117245782340128\n",
      "Epoch:\t 19 Val Loss:\t 0.7118483757417811\n"
     ]
    },
    {
     "name": "stderr",
     "output_type": "stream",
     "text": [
      "[I 2025-05-25 15:16:51,496] Trial 20 finished with value: 0.7114338797799656 and parameters: {'lr': 0.001, 'weight_decay': 0.001, 'scheduler_factor': 0.1, 'scheduler_patience': 1, 'batch_size': 128, 'dropout': 0.05, 'hidden_dims': 128}. Best is trial 17 with value: 0.7084525361011346.\n"
     ]
    },
    {
     "name": "stdout",
     "output_type": "stream",
     "text": [
      "Epoch:\t 20 Val Loss:\t 0.7127863114182486\n",
      "Epoch:\t 0 Val Loss:\t 0.7193996912499301\n",
      "Epoch:\t 1 Val Loss:\t 0.7128794560176029\n",
      "Epoch:\t 2 Val Loss:\t 0.7117392604940393\n",
      "Epoch:\t 3 Val Loss:\t 0.71135954996556\n",
      "Epoch:\t 4 Val Loss:\t 0.7092704792562304\n",
      "Epoch:\t 5 Val Loss:\t 0.709472875007657\n",
      "Epoch:\t 6 Val Loss:\t 0.7093246567211029\n",
      "Epoch:\t 7 Val Loss:\t 0.7095190214402795\n",
      "Epoch:\t 8 Val Loss:\t 0.70898543558955\n",
      "Epoch:\t 9 Val Loss:\t 0.7099261120272677\n",
      "Epoch:\t 10 Val Loss:\t 0.7098396207126721\n",
      "Epoch:\t 11 Val Loss:\t 0.7099528733168521\n",
      "Epoch:\t 12 Val Loss:\t 0.7097004930911822\n",
      "Epoch:\t 13 Val Loss:\t 0.7096992899001505\n",
      "Epoch:\t 14 Val Loss:\t 0.7095425811567811\n",
      "Epoch:\t 15 Val Loss:\t 0.7099904811688449\n",
      "Epoch:\t 16 Val Loss:\t 0.7090884507850506\n",
      "Epoch:\t 17 Val Loss:\t 0.7097878917740781\n"
     ]
    },
    {
     "name": "stderr",
     "output_type": "stream",
     "text": [
      "[I 2025-05-25 15:18:11,571] Trial 21 finished with value: 0.70898543558955 and parameters: {'lr': 0.001, 'weight_decay': 0.0001, 'scheduler_factor': 0.1, 'scheduler_patience': 1, 'batch_size': 128, 'dropout': 0.05, 'hidden_dims': 256}. Best is trial 17 with value: 0.7084525361011346.\n"
     ]
    },
    {
     "name": "stdout",
     "output_type": "stream",
     "text": [
      "Epoch:\t 18 Val Loss:\t 0.7098106815573875\n",
      "Epoch:\t 0 Val Loss:\t 0.7135730874193996\n",
      "Epoch:\t 1 Val Loss:\t 0.7150274063094278\n",
      "Epoch:\t 2 Val Loss:\t 0.7117646307853405\n",
      "Epoch:\t 3 Val Loss:\t 0.7113150943722426\n",
      "Epoch:\t 4 Val Loss:\t 0.711989551112893\n",
      "Epoch:\t 5 Val Loss:\t 0.7100914307237628\n",
      "Epoch:\t 6 Val Loss:\t 0.7101497222963918\n",
      "Epoch:\t 7 Val Loss:\t 0.7096874712462601\n",
      "Epoch:\t 8 Val Loss:\t 0.7103249000603659\n",
      "Epoch:\t 9 Val Loss:\t 0.7116098243677406\n",
      "Epoch:\t 10 Val Loss:\t 0.7089285677834077\n",
      "Epoch:\t 11 Val Loss:\t 0.7096256583594205\n",
      "Epoch:\t 12 Val Loss:\t 0.7099000623099877\n",
      "Epoch:\t 13 Val Loss:\t 0.7086004921463864\n",
      "Epoch:\t 14 Val Loss:\t 0.7095512938155025\n",
      "Epoch:\t 15 Val Loss:\t 0.7092113564236397\n",
      "Epoch:\t 16 Val Loss:\t 0.7088552173795134\n",
      "Epoch:\t 17 Val Loss:\t 0.7095618235548273\n",
      "Epoch:\t 18 Val Loss:\t 0.7097111740426114\n",
      "Epoch:\t 19 Val Loss:\t 0.7094473166220835\n",
      "Epoch:\t 20 Val Loss:\t 0.7102893612453681\n",
      "Epoch:\t 21 Val Loss:\t 0.7084393677321139\n",
      "Epoch:\t 22 Val Loss:\t 0.7093314184997094\n",
      "Epoch:\t 23 Val Loss:\t 0.7091313059506026\n",
      "Epoch:\t 24 Val Loss:\t 0.7091728207770358\n",
      "Epoch:\t 25 Val Loss:\t 0.7100579063161419\n",
      "Epoch:\t 26 Val Loss:\t 0.7099887072370293\n",
      "Epoch:\t 27 Val Loss:\t 0.7090812709128684\n",
      "Epoch:\t 28 Val Loss:\t 0.7098711673559002\n",
      "Epoch:\t 29 Val Loss:\t 0.709569885489646\n",
      "Epoch:\t 30 Val Loss:\t 0.7100097818799425\n"
     ]
    },
    {
     "name": "stderr",
     "output_type": "stream",
     "text": [
      "[I 2025-05-25 15:20:27,940] Trial 22 finished with value: 0.7084393677321139 and parameters: {'lr': 0.001, 'weight_decay': 0.0001, 'scheduler_factor': 0.1, 'scheduler_patience': 1, 'batch_size': 128, 'dropout': 0.05, 'hidden_dims': 256}. Best is trial 22 with value: 0.7084393677321139.\n"
     ]
    },
    {
     "name": "stdout",
     "output_type": "stream",
     "text": [
      "Epoch:\t 31 Val Loss:\t 0.7098645825255931\n",
      "Epoch:\t 0 Val Loss:\t 0.7194132263358103\n",
      "Epoch:\t 1 Val Loss:\t 0.7121298062476071\n",
      "Epoch:\t 2 Val Loss:\t 0.7133897389875752\n",
      "Epoch:\t 3 Val Loss:\t 0.7140861863500616\n",
      "Epoch:\t 4 Val Loss:\t 0.7088032856607513\n",
      "Epoch:\t 5 Val Loss:\t 0.7089182997591805\n",
      "Epoch:\t 6 Val Loss:\t 0.7094965008346074\n",
      "Epoch:\t 7 Val Loss:\t 0.7090570264126669\n",
      "Epoch:\t 8 Val Loss:\t 0.7093714769349626\n",
      "Epoch:\t 9 Val Loss:\t 0.7092508234047775\n",
      "Epoch:\t 10 Val Loss:\t 0.7091601811002575\n",
      "Epoch:\t 11 Val Loss:\t 0.7094435536842285\n",
      "Epoch:\t 12 Val Loss:\t 0.7089378355881184\n",
      "Epoch:\t 13 Val Loss:\t 0.7093186772175815\n",
      "Epoch:\t 14 Val Loss:\t 0.7082474259465311\n",
      "Epoch:\t 15 Val Loss:\t 0.7091050109740819\n",
      "Epoch:\t 16 Val Loss:\t 0.709660013596472\n",
      "Epoch:\t 17 Val Loss:\t 0.7093178693498119\n",
      "Epoch:\t 18 Val Loss:\t 0.7097208975406175\n",
      "Epoch:\t 19 Val Loss:\t 0.7094251841641543\n",
      "Epoch:\t 20 Val Loss:\t 0.7094489957892111\n",
      "Epoch:\t 21 Val Loss:\t 0.7094435142667106\n",
      "Epoch:\t 22 Val Loss:\t 0.7093879076297938\n",
      "Epoch:\t 23 Val Loss:\t 0.7090906131516299\n"
     ]
    },
    {
     "name": "stderr",
     "output_type": "stream",
     "text": [
      "[I 2025-05-25 15:22:13,268] Trial 23 finished with value: 0.7082474259465311 and parameters: {'lr': 0.001, 'weight_decay': 0.0001, 'scheduler_factor': 0.1, 'scheduler_patience': 1, 'batch_size': 128, 'dropout': 0.05, 'hidden_dims': 256}. Best is trial 23 with value: 0.7082474259465311.\n"
     ]
    },
    {
     "name": "stdout",
     "output_type": "stream",
     "text": [
      "Epoch:\t 24 Val Loss:\t 0.7086696203792076\n",
      "Epoch:\t 0 Val Loss:\t 0.7175855470124638\n",
      "Epoch:\t 1 Val Loss:\t 0.7139400936435926\n",
      "Epoch:\t 2 Val Loss:\t 0.711164855363855\n",
      "Epoch:\t 3 Val Loss:\t 0.7111513969603549\n",
      "Epoch:\t 4 Val Loss:\t 0.7116690384729333\n",
      "Epoch:\t 5 Val Loss:\t 0.7093394243219691\n",
      "Epoch:\t 6 Val Loss:\t 0.7098689860459507\n",
      "Epoch:\t 7 Val Loss:\t 0.7095404520367734\n",
      "Epoch:\t 8 Val Loss:\t 0.7091763781601889\n",
      "Epoch:\t 9 Val Loss:\t 0.7100643560553439\n",
      "Epoch:\t 10 Val Loss:\t 0.7098525095713081\n",
      "Epoch:\t 11 Val Loss:\t 0.7093998029182275\n",
      "Epoch:\t 12 Val Loss:\t 0.7093081573326362\n",
      "Epoch:\t 13 Val Loss:\t 0.7100799986868379\n",
      "Epoch:\t 14 Val Loss:\t 0.7099884534628396\n",
      "Epoch:\t 15 Val Loss:\t 0.7101262234282915\n",
      "Epoch:\t 16 Val Loss:\t 0.7093745053866893\n",
      "Epoch:\t 17 Val Loss:\t 0.7101710808028379\n"
     ]
    },
    {
     "name": "stderr",
     "output_type": "stream",
     "text": [
      "[I 2025-05-25 15:23:33,926] Trial 24 finished with value: 0.7091763781601889 and parameters: {'lr': 0.001, 'weight_decay': 0.0001, 'scheduler_factor': 0.1, 'scheduler_patience': 1, 'batch_size': 128, 'dropout': 0.15, 'hidden_dims': 256}. Best is trial 23 with value: 0.7082474259465311.\n"
     ]
    },
    {
     "name": "stdout",
     "output_type": "stream",
     "text": [
      "Epoch:\t 18 Val Loss:\t 0.7100075125981296\n",
      "Epoch:\t 0 Val Loss:\t 0.7180647065513207\n",
      "Epoch:\t 1 Val Loss:\t 0.713071442674098\n",
      "Epoch:\t 2 Val Loss:\t 0.7097508654739845\n",
      "Epoch:\t 3 Val Loss:\t 0.7121971069714039\n",
      "Epoch:\t 4 Val Loss:\t 0.710734084798666\n",
      "Epoch:\t 5 Val Loss:\t 0.7090196597059504\n",
      "Epoch:\t 6 Val Loss:\t 0.708774427780179\n",
      "Epoch:\t 7 Val Loss:\t 0.7096593426376056\n",
      "Epoch:\t 8 Val Loss:\t 0.7089702121997148\n",
      "Epoch:\t 9 Val Loss:\t 0.7089905270508358\n",
      "Epoch:\t 10 Val Loss:\t 0.7090293396724744\n",
      "Epoch:\t 11 Val Loss:\t 0.7095640007986495\n",
      "Epoch:\t 12 Val Loss:\t 0.7091303646181789\n",
      "Epoch:\t 13 Val Loss:\t 0.7091523970493727\n",
      "Epoch:\t 14 Val Loss:\t 0.7092874052053852\n",
      "Epoch:\t 15 Val Loss:\t 0.7093956608259467\n",
      "Epoch:\t 16 Val Loss:\t 0.7087022688951385\n",
      "Epoch:\t 17 Val Loss:\t 0.7089012357530395\n",
      "Epoch:\t 18 Val Loss:\t 0.7091039797563231\n",
      "Epoch:\t 19 Val Loss:\t 0.7088587410855638\n",
      "Epoch:\t 20 Val Loss:\t 0.7083258701557141\n",
      "Epoch:\t 21 Val Loss:\t 0.7089609605638403\n",
      "Epoch:\t 22 Val Loss:\t 0.7092019108574042\n",
      "Epoch:\t 23 Val Loss:\t 0.7093023184692879\n",
      "Epoch:\t 24 Val Loss:\t 0.7086501990237167\n",
      "Epoch:\t 25 Val Loss:\t 0.7095683693503109\n",
      "Epoch:\t 26 Val Loss:\t 0.7092614315486069\n",
      "Epoch:\t 27 Val Loss:\t 0.7089392231899893\n",
      "Epoch:\t 28 Val Loss:\t 0.7090246908450395\n",
      "Epoch:\t 29 Val Loss:\t 0.7091257348776246\n"
     ]
    },
    {
     "name": "stderr",
     "output_type": "stream",
     "text": [
      "[I 2025-05-25 15:25:44,754] Trial 25 finished with value: 0.7083258701557141 and parameters: {'lr': 0.001, 'weight_decay': 0.0001, 'scheduler_factor': 0.1, 'scheduler_patience': 1, 'batch_size': 128, 'dropout': 0.05, 'hidden_dims': 256}. Best is trial 23 with value: 0.7082474259465311.\n"
     ]
    },
    {
     "name": "stdout",
     "output_type": "stream",
     "text": [
      "Epoch:\t 30 Val Loss:\t 0.7084413670230639\n",
      "Epoch:\t 0 Val Loss:\t 0.7191189727945653\n"
     ]
    },
    {
     "name": "stderr",
     "output_type": "stream",
     "text": [
      "[I 2025-05-25 15:26:06,581] Trial 26 pruned. \n"
     ]
    },
    {
     "name": "stdout",
     "output_type": "stream",
     "text": [
      "Epoch:\t 1 Val Loss:\t 0.7167749408430948\n"
     ]
    },
    {
     "name": "stderr",
     "output_type": "stream",
     "text": [
      "[I 2025-05-25 15:26:10,832] Trial 27 pruned. \n"
     ]
    },
    {
     "name": "stdout",
     "output_type": "stream",
     "text": [
      "Epoch:\t 0 Val Loss:\t 0.7841819801261681\n"
     ]
    },
    {
     "name": "stderr",
     "output_type": "stream",
     "text": [
      "[I 2025-05-25 15:26:29,717] Trial 28 pruned. \n"
     ]
    },
    {
     "name": "stdout",
     "output_type": "stream",
     "text": [
      "Epoch:\t 0 Val Loss:\t 1.000124134271113\n",
      "Epoch:\t 0 Val Loss:\t 0.7135810466795419\n",
      "Epoch:\t 1 Val Loss:\t 0.7128777095529684\n",
      "Epoch:\t 2 Val Loss:\t 0.7128955854973796\n",
      "Epoch:\t 3 Val Loss:\t 0.7121275048688018\n",
      "Epoch:\t 4 Val Loss:\t 0.7133250709835204\n",
      "Epoch:\t 5 Val Loss:\t 0.7110964084206912\n",
      "Epoch:\t 6 Val Loss:\t 0.710438737282776\n",
      "Epoch:\t 7 Val Loss:\t 0.7130299728444413\n",
      "Epoch:\t 8 Val Loss:\t 0.7128969382647046\n",
      "Epoch:\t 9 Val Loss:\t 0.7107855911100016\n",
      "Epoch:\t 10 Val Loss:\t 0.7102979494508209\n",
      "Epoch:\t 11 Val Loss:\t 0.7106703281545983\n",
      "Epoch:\t 12 Val Loss:\t 0.7115249520626274\n",
      "Epoch:\t 13 Val Loss:\t 0.711245901195546\n"
     ]
    },
    {
     "name": "stderr",
     "output_type": "stream",
     "text": [
      "[I 2025-05-25 15:28:04,587] Trial 29 pruned. \n"
     ]
    },
    {
     "name": "stdout",
     "output_type": "stream",
     "text": [
      "Epoch:\t 14 Val Loss:\t 0.71082738369297\n",
      "Epoch:\t 0 Val Loss:\t 0.715099869053781\n",
      "Epoch:\t 1 Val Loss:\t 0.7137345435339988\n",
      "Epoch:\t 2 Val Loss:\t 0.7180109945384495\n",
      "Epoch:\t 3 Val Loss:\t 0.7216549183736835\n",
      "Epoch:\t 4 Val Loss:\t 0.7118196020539652\n"
     ]
    },
    {
     "name": "stderr",
     "output_type": "stream",
     "text": [
      "[I 2025-05-25 15:28:29,736] Trial 30 pruned. \n"
     ]
    },
    {
     "name": "stdout",
     "output_type": "stream",
     "text": [
      "Epoch:\t 5 Val Loss:\t 0.7130401357888793\n",
      "Epoch:\t 0 Val Loss:\t 0.7153779132886645\n",
      "Epoch:\t 1 Val Loss:\t 0.7113944940735402\n",
      "Epoch:\t 2 Val Loss:\t 0.7128749251557008\n",
      "Epoch:\t 3 Val Loss:\t 0.7103421664639805\n",
      "Epoch:\t 4 Val Loss:\t 0.7112904638291171\n",
      "Epoch:\t 5 Val Loss:\t 0.7101319009859719\n",
      "Epoch:\t 6 Val Loss:\t 0.7102871274106193\n",
      "Epoch:\t 7 Val Loss:\t 0.7109782117901797\n",
      "Epoch:\t 8 Val Loss:\t 0.7093139579265496\n",
      "Epoch:\t 9 Val Loss:\t 0.7094174616792229\n",
      "Epoch:\t 10 Val Loss:\t 0.7090594753216396\n",
      "Epoch:\t 11 Val Loss:\t 0.7098110125401621\n",
      "Epoch:\t 12 Val Loss:\t 0.7092039133534194\n",
      "Epoch:\t 13 Val Loss:\t 0.708872535446865\n",
      "Epoch:\t 14 Val Loss:\t 0.709255362494608\n",
      "Epoch:\t 15 Val Loss:\t 0.7090352928657593\n",
      "Epoch:\t 16 Val Loss:\t 0.7092820258144391\n",
      "Epoch:\t 17 Val Loss:\t 0.7095943963929509\n",
      "Epoch:\t 18 Val Loss:\t 0.7094488033417905\n",
      "Epoch:\t 19 Val Loss:\t 0.7097703139051006\n",
      "Epoch:\t 20 Val Loss:\t 0.709780516297247\n",
      "Epoch:\t 21 Val Loss:\t 0.7094112454792469\n",
      "Epoch:\t 22 Val Loss:\t 0.7094441765671174\n"
     ]
    },
    {
     "name": "stderr",
     "output_type": "stream",
     "text": [
      "[I 2025-05-25 15:30:11,470] Trial 31 finished with value: 0.708872535446865 and parameters: {'lr': 0.001, 'weight_decay': 0.0001, 'scheduler_factor': 0.1, 'scheduler_patience': 1, 'batch_size': 128, 'dropout': 0.05, 'hidden_dims': 256}. Best is trial 23 with value: 0.7082474259465311.\n"
     ]
    },
    {
     "name": "stdout",
     "output_type": "stream",
     "text": [
      "Epoch:\t 23 Val Loss:\t 0.7095605203370604\n",
      "Epoch:\t 0 Val Loss:\t 0.7184493115970066\n",
      "Epoch:\t 1 Val Loss:\t 0.7112736943541139\n",
      "Epoch:\t 2 Val Loss:\t 0.7108755534093223\n",
      "Epoch:\t 3 Val Loss:\t 0.7103888033194106\n",
      "Epoch:\t 4 Val Loss:\t 0.7103786233627203\n",
      "Epoch:\t 5 Val Loss:\t 0.710529653926531\n",
      "Epoch:\t 6 Val Loss:\t 0.7089357872166182\n",
      "Epoch:\t 7 Val Loss:\t 0.7089481569982072\n",
      "Epoch:\t 8 Val Loss:\t 0.7093530054268447\n",
      "Epoch:\t 9 Val Loss:\t 0.7092022685331096\n",
      "Epoch:\t 10 Val Loss:\t 0.7088357743061182\n",
      "Epoch:\t 11 Val Loss:\t 0.7092030323431924\n",
      "Epoch:\t 12 Val Loss:\t 0.7094449588422025\n",
      "Epoch:\t 13 Val Loss:\t 0.7093517590391885\n",
      "Epoch:\t 14 Val Loss:\t 0.7092196065484042\n",
      "Epoch:\t 15 Val Loss:\t 0.709481654016011\n",
      "Epoch:\t 16 Val Loss:\t 0.7091929489211516\n",
      "Epoch:\t 17 Val Loss:\t 0.7095788358972314\n",
      "Epoch:\t 18 Val Loss:\t 0.7089245951768866\n",
      "Epoch:\t 19 Val Loss:\t 0.7089114874170833\n"
     ]
    },
    {
     "name": "stderr",
     "output_type": "stream",
     "text": [
      "[I 2025-05-25 15:31:40,693] Trial 32 finished with value: 0.7088357743061182 and parameters: {'lr': 0.001, 'weight_decay': 0.0001, 'scheduler_factor': 0.1, 'scheduler_patience': 1, 'batch_size': 128, 'dropout': 0.05, 'hidden_dims': 256}. Best is trial 23 with value: 0.7082474259465311.\n"
     ]
    },
    {
     "name": "stdout",
     "output_type": "stream",
     "text": [
      "Epoch:\t 20 Val Loss:\t 0.7097779294747985\n",
      "Epoch:\t 0 Val Loss:\t 0.7103418152462422\n",
      "Epoch:\t 1 Val Loss:\t 0.7119931940760696\n",
      "Epoch:\t 2 Val Loss:\t 0.7107289490883462\n",
      "Epoch:\t 3 Val Loss:\t 0.7095726344309878\n",
      "Epoch:\t 4 Val Loss:\t 0.7089207196790563\n",
      "Epoch:\t 5 Val Loss:\t 0.7088054722327481\n",
      "Epoch:\t 6 Val Loss:\t 0.7096340536688533\n",
      "Epoch:\t 7 Val Loss:\t 0.7088923617886502\n",
      "Epoch:\t 8 Val Loss:\t 0.7090544294966549\n",
      "Epoch:\t 9 Val Loss:\t 0.7093165803874094\n",
      "Epoch:\t 10 Val Loss:\t 0.7096113902703526\n",
      "Epoch:\t 11 Val Loss:\t 0.7096562327676562\n",
      "Epoch:\t 12 Val Loss:\t 0.7094834577979858\n",
      "Epoch:\t 13 Val Loss:\t 0.7094681974781459\n",
      "Epoch:\t 14 Val Loss:\t 0.7092409036802442\n"
     ]
    },
    {
     "name": "stderr",
     "output_type": "stream",
     "text": [
      "[I 2025-05-25 15:32:48,498] Trial 33 finished with value: 0.7088054722327481 and parameters: {'lr': 0.001, 'weight_decay': 0.0001, 'scheduler_factor': 0.1, 'scheduler_patience': 1, 'batch_size': 128, 'dropout': 0.05, 'hidden_dims': 64}. Best is trial 23 with value: 0.7082474259465311.\n"
     ]
    },
    {
     "name": "stdout",
     "output_type": "stream",
     "text": [
      "Epoch:\t 15 Val Loss:\t 0.7091841265726625\n"
     ]
    },
    {
     "name": "stderr",
     "output_type": "stream",
     "text": [
      "[I 2025-05-25 15:32:59,147] Trial 34 pruned. \n"
     ]
    },
    {
     "name": "stdout",
     "output_type": "stream",
     "text": [
      "Epoch:\t 0 Val Loss:\t 0.7197173311261232\n"
     ]
    },
    {
     "name": "stderr",
     "output_type": "stream",
     "text": [
      "[I 2025-05-25 15:33:03,596] Trial 35 pruned. \n"
     ]
    },
    {
     "name": "stdout",
     "output_type": "stream",
     "text": [
      "Epoch:\t 0 Val Loss:\t 0.9474431583433626\n"
     ]
    },
    {
     "name": "stderr",
     "output_type": "stream",
     "text": [
      "[I 2025-05-25 15:33:22,731] Trial 36 pruned. \n"
     ]
    },
    {
     "name": "stdout",
     "output_type": "stream",
     "text": [
      "Epoch:\t 0 Val Loss:\t 0.7239595549623347\n"
     ]
    },
    {
     "name": "stderr",
     "output_type": "stream",
     "text": [
      "[I 2025-05-25 15:33:29,230] Trial 37 pruned. \n"
     ]
    },
    {
     "name": "stdout",
     "output_type": "stream",
     "text": [
      "Epoch:\t 0 Val Loss:\t 1.0925814554561304\n"
     ]
    },
    {
     "name": "stderr",
     "output_type": "stream",
     "text": [
      "[I 2025-05-25 15:33:33,453] Trial 38 pruned. \n"
     ]
    },
    {
     "name": "stdout",
     "output_type": "stream",
     "text": [
      "Epoch:\t 0 Val Loss:\t 0.7205657860918948\n"
     ]
    },
    {
     "name": "stderr",
     "output_type": "stream",
     "text": [
      "[I 2025-05-25 15:33:37,897] Trial 39 pruned. \n"
     ]
    },
    {
     "name": "stdout",
     "output_type": "stream",
     "text": [
      "Epoch:\t 0 Val Loss:\t 0.9025970027209477\n",
      "Epoch:\t 0 Val Loss:\t 0.7129522742871531\n",
      "Epoch:\t 1 Val Loss:\t 0.7143145630199589\n",
      "Epoch:\t 2 Val Loss:\t 0.7145787787640501\n",
      "Epoch:\t 3 Val Loss:\t 0.7147262771347004\n",
      "Epoch:\t 4 Val Loss:\t 0.7150776653406854\n"
     ]
    },
    {
     "name": "stderr",
     "output_type": "stream",
     "text": [
      "[I 2025-05-25 15:34:41,952] Trial 40 pruned. \n"
     ]
    },
    {
     "name": "stdout",
     "output_type": "stream",
     "text": [
      "Epoch:\t 5 Val Loss:\t 0.7161387890159248\n",
      "Epoch:\t 0 Val Loss:\t 0.7164503200574633\n",
      "Epoch:\t 1 Val Loss:\t 0.7108053786031315\n",
      "Epoch:\t 2 Val Loss:\t 0.7103704640800268\n",
      "Epoch:\t 3 Val Loss:\t 0.7117004008966694\n",
      "Epoch:\t 4 Val Loss:\t 0.7103991238206003\n",
      "Epoch:\t 5 Val Loss:\t 0.709285394146584\n",
      "Epoch:\t 6 Val Loss:\t 0.7088646338131416\n",
      "Epoch:\t 7 Val Loss:\t 0.7095025756768584\n",
      "Epoch:\t 8 Val Loss:\t 0.709352422583352\n",
      "Epoch:\t 9 Val Loss:\t 0.7093141706089339\n",
      "Epoch:\t 10 Val Loss:\t 0.7085634278638787\n",
      "Epoch:\t 11 Val Loss:\t 0.7097003259972623\n",
      "Epoch:\t 12 Val Loss:\t 0.7096575853529941\n",
      "Epoch:\t 13 Val Loss:\t 0.7098236635542605\n",
      "Epoch:\t 14 Val Loss:\t 0.7096310090004537\n",
      "Epoch:\t 15 Val Loss:\t 0.7097368003085949\n",
      "Epoch:\t 16 Val Loss:\t 0.7093245120148024\n",
      "Epoch:\t 17 Val Loss:\t 0.7095150234802576\n",
      "Epoch:\t 18 Val Loss:\t 0.7098923392988514\n",
      "Epoch:\t 19 Val Loss:\t 0.7092288567013381\n"
     ]
    },
    {
     "name": "stderr",
     "output_type": "stream",
     "text": [
      "[I 2025-05-25 15:36:10,644] Trial 41 finished with value: 0.7085634278638787 and parameters: {'lr': 0.001, 'weight_decay': 0.0001, 'scheduler_factor': 0.1, 'scheduler_patience': 1, 'batch_size': 128, 'dropout': 0.05, 'hidden_dims': 1024}. Best is trial 23 with value: 0.7082474259465311.\n"
     ]
    },
    {
     "name": "stdout",
     "output_type": "stream",
     "text": [
      "Epoch:\t 20 Val Loss:\t 0.7101058036710822\n",
      "Epoch:\t 0 Val Loss:\t 0.7151026301456684\n",
      "Epoch:\t 1 Val Loss:\t 0.7115620892752039\n",
      "Epoch:\t 2 Val Loss:\t 0.7117710680391395\n",
      "Epoch:\t 3 Val Loss:\t 0.7118285225635547\n",
      "Epoch:\t 4 Val Loss:\t 0.7093645092667967\n",
      "Epoch:\t 5 Val Loss:\t 0.709970074518917\n",
      "Epoch:\t 6 Val Loss:\t 0.7097891992493196\n",
      "Epoch:\t 7 Val Loss:\t 0.7099296710847086\n",
      "Epoch:\t 8 Val Loss:\t 0.7095462970710681\n",
      "Epoch:\t 9 Val Loss:\t 0.7096008064276143\n",
      "Epoch:\t 10 Val Loss:\t 0.7093121573018033\n",
      "Epoch:\t 11 Val Loss:\t 0.7082822925589057\n",
      "Epoch:\t 12 Val Loss:\t 0.7094749409830972\n",
      "Epoch:\t 13 Val Loss:\t 0.7083974336161851\n",
      "Epoch:\t 14 Val Loss:\t 0.7090400133527109\n",
      "Epoch:\t 15 Val Loss:\t 0.7092472798464577\n",
      "Epoch:\t 16 Val Loss:\t 0.7091798689066885\n",
      "Epoch:\t 17 Val Loss:\t 0.7090432177960012\n",
      "Epoch:\t 18 Val Loss:\t 0.709296403258417\n",
      "Epoch:\t 19 Val Loss:\t 0.7096507132149049\n",
      "Epoch:\t 20 Val Loss:\t 0.7092216856789627\n"
     ]
    },
    {
     "name": "stderr",
     "output_type": "stream",
     "text": [
      "[I 2025-05-25 15:37:43,063] Trial 42 finished with value: 0.7082822925589057 and parameters: {'lr': 0.001, 'weight_decay': 0.0001, 'scheduler_factor': 0.1, 'scheduler_patience': 1, 'batch_size': 128, 'dropout': 0.05, 'hidden_dims': 1024}. Best is trial 23 with value: 0.7082474259465311.\n"
     ]
    },
    {
     "name": "stdout",
     "output_type": "stream",
     "text": [
      "Epoch:\t 21 Val Loss:\t 0.7094502013242455\n",
      "Epoch:\t 0 Val Loss:\t 0.71732657057133\n",
      "Epoch:\t 1 Val Loss:\t 0.7107083368358795\n",
      "Epoch:\t 2 Val Loss:\t 0.712693957752439\n",
      "Epoch:\t 3 Val Loss:\t 0.7130402759985212\n",
      "Epoch:\t 4 Val Loss:\t 0.7101755858807082\n",
      "Epoch:\t 5 Val Loss:\t 0.7099694037992346\n",
      "Epoch:\t 6 Val Loss:\t 0.7095257367693594\n",
      "Epoch:\t 7 Val Loss:\t 0.710435954037677\n",
      "Epoch:\t 8 Val Loss:\t 0.7101192310285033\n",
      "Epoch:\t 9 Val Loss:\t 0.7103678459723153\n",
      "Epoch:\t 10 Val Loss:\t 0.7102733814123163\n",
      "Epoch:\t 11 Val Loss:\t 0.7102694993130085\n",
      "Epoch:\t 12 Val Loss:\t 0.709663589301117\n",
      "Epoch:\t 13 Val Loss:\t 0.7101961481437254\n",
      "Epoch:\t 14 Val Loss:\t 0.7096019610643004\n",
      "Epoch:\t 15 Val Loss:\t 0.7105840155152219\n"
     ]
    },
    {
     "name": "stderr",
     "output_type": "stream",
     "text": [
      "[I 2025-05-25 15:38:54,629] Trial 43 finished with value: 0.7095257367693594 and parameters: {'lr': 0.001, 'weight_decay': 0.0001, 'scheduler_factor': 0.1, 'scheduler_patience': 1, 'batch_size': 128, 'dropout': 0.2, 'hidden_dims': 128}. Best is trial 23 with value: 0.7082474259465311.\n"
     ]
    },
    {
     "name": "stdout",
     "output_type": "stream",
     "text": [
      "Epoch:\t 16 Val Loss:\t 0.7095304221919413\n",
      "Epoch:\t 0 Val Loss:\t 0.7143863810773454\n",
      "Epoch:\t 1 Val Loss:\t 0.7116591010966232\n",
      "Epoch:\t 2 Val Loss:\t 0.7118818454241101\n",
      "Epoch:\t 3 Val Loss:\t 0.711761523737762\n",
      "Epoch:\t 4 Val Loss:\t 0.7087370916890103\n",
      "Epoch:\t 5 Val Loss:\t 0.7092753878374544\n",
      "Epoch:\t 6 Val Loss:\t 0.7097003236532594\n",
      "Epoch:\t 7 Val Loss:\t 0.7088770246429198\n",
      "Epoch:\t 8 Val Loss:\t 0.7089841107973892\n",
      "Epoch:\t 9 Val Loss:\t 0.7087503603239503\n",
      "Epoch:\t 10 Val Loss:\t 0.7091477342057573\n",
      "Epoch:\t 11 Val Loss:\t 0.7091966728720198\n",
      "Epoch:\t 12 Val Loss:\t 0.7091726165617641\n",
      "Epoch:\t 13 Val Loss:\t 0.7094059848670592\n"
     ]
    },
    {
     "name": "stderr",
     "output_type": "stream",
     "text": [
      "[I 2025-05-25 15:39:57,801] Trial 44 finished with value: 0.7087370916890103 and parameters: {'lr': 0.001, 'weight_decay': 0.0001, 'scheduler_factor': 0.1, 'scheduler_patience': 1, 'batch_size': 128, 'dropout': 0.05, 'hidden_dims': 256}. Best is trial 23 with value: 0.7082474259465311.\n"
     ]
    },
    {
     "name": "stdout",
     "output_type": "stream",
     "text": [
      "Epoch:\t 14 Val Loss:\t 0.7092402044976696\n"
     ]
    },
    {
     "name": "stderr",
     "output_type": "stream",
     "text": [
      "[I 2025-05-25 15:40:04,228] Trial 45 pruned. \n"
     ]
    },
    {
     "name": "stdout",
     "output_type": "stream",
     "text": [
      "Epoch:\t 0 Val Loss:\t 0.991273822324125\n"
     ]
    },
    {
     "name": "stderr",
     "output_type": "stream",
     "text": [
      "[I 2025-05-25 15:40:22,661] Trial 46 pruned. \n"
     ]
    },
    {
     "name": "stdout",
     "output_type": "stream",
     "text": [
      "Epoch:\t 0 Val Loss:\t 0.7265833471245814\n"
     ]
    },
    {
     "name": "stderr",
     "output_type": "stream",
     "text": [
      "[I 2025-05-25 15:40:26,901] Trial 47 pruned. \n"
     ]
    },
    {
     "name": "stdout",
     "output_type": "stream",
     "text": [
      "Epoch:\t 0 Val Loss:\t 1.0196184671901012\n",
      "Epoch:\t 0 Val Loss:\t 0.7148191515553629\n"
     ]
    },
    {
     "name": "stderr",
     "output_type": "stream",
     "text": [
      "[I 2025-05-25 15:40:35,476] Trial 48 pruned. \n"
     ]
    },
    {
     "name": "stdout",
     "output_type": "stream",
     "text": [
      "Epoch:\t 1 Val Loss:\t 0.7158479883334036\n"
     ]
    },
    {
     "name": "stderr",
     "output_type": "stream",
     "text": [
      "[I 2025-05-25 15:40:38,703] Trial 49 pruned. \n"
     ]
    },
    {
     "name": "stdout",
     "output_type": "stream",
     "text": [
      "Epoch:\t 0 Val Loss:\t 0.8069623212339028\n",
      "Training model with best parameters on train+validation ...\n"
     ]
    },
    {
     "name": "stderr",
     "output_type": "stream",
     "text": [
      "100%|███████████████████████████████████████████████████████████████████████████████████████████████████████████████████████████████████████████████████| 401917/401917 [05:22<00:00, 1245.63it/s]\n",
      "100%|███████████████████████████████████████████████████████████████████████████████████████████████████████████████████████████████████████████████████| 401917/401917 [01:37<00:00, 4105.86it/s]\n"
     ]
    },
    {
     "name": "stdout",
     "output_type": "stream",
     "text": [
      "Getting test set predictions and saving results ...\n"
     ]
    },
    {
     "name": "stderr",
     "output_type": "stream",
     "text": [
      "100%|██████████████████████████████████████████████████████████████████████████████████████████████████████████████████████████████████████████████████████████| 611/611 [00:01<00:00, 394.52it/s]\n",
      "/home/victor/.local/lib/python3.12/site-packages/anndata/_core/anndata.py:1756: UserWarning: Observation names are not unique. To make them unique, call `.obs_names_make_unique`.\n",
      "  utils.warn_names_duplicates(\"obs\")\n"
     ]
    }
   ],
   "source": [
    "train_different_normalization(\n",
    "        adata_path=\"./data/normalization/sciplex_raw_filt.h5ad\",\n",
    "        run_name=\"decoder_rawcount_norm\",\n",
    "        res_savename=\"./results/decoder_rawcount_norm_res.pkl\",\n",
    "        stats_savename=\"./results/decoder_rawcount_norm_stats.pkl\"\n",
    "    )"
   ]
  },
  {
   "cell_type": "code",
   "execution_count": 6,
   "id": "e8cf837b-1d13-495b-9579-1d401ff4d0bf",
   "metadata": {},
   "outputs": [
    {
     "name": "stdout",
     "output_type": "stream",
     "text": [
      "Loading Datasets ...\n"
     ]
    },
    {
     "name": "stderr",
     "output_type": "stream",
     "text": [
      "100%|███████████████████████████████████████████████████████████████████████████████████████████████████████████████████████████████████████████████████| 401917/401917 [04:10<00:00, 1606.33it/s]\n",
      "100%|███████████████████████████████████████████████████████████████████████████████████████████████████████████████████████████████████████████████████| 401917/401917 [01:40<00:00, 3992.17it/s]\n",
      "[I 2025-05-25 15:58:20,616] A new study created in RDB with name: decoder_cpm_norm\n"
     ]
    },
    {
     "name": "stdout",
     "output_type": "stream",
     "text": [
      "Optimizing Hyperparameters with Optuna ...\n",
      "Epoch:\t 0 Val Loss:\t 1.459985408480873\n",
      "Epoch:\t 1 Val Loss:\t 1.453186428441749\n",
      "Epoch:\t 2 Val Loss:\t 1.4412366233067027\n",
      "Epoch:\t 3 Val Loss:\t 1.4261825300735191\n",
      "Epoch:\t 4 Val Loss:\t 1.4212327042673718\n",
      "Epoch:\t 5 Val Loss:\t 1.418650950349228\n",
      "Epoch:\t 6 Val Loss:\t 1.4161563422456205\n",
      "Epoch:\t 7 Val Loss:\t 1.4173698950119753\n",
      "Epoch:\t 8 Val Loss:\t 1.4165484753243907\n",
      "Epoch:\t 9 Val Loss:\t 1.4177165108866565\n",
      "Epoch:\t 10 Val Loss:\t 1.4180422341622825\n",
      "Epoch:\t 11 Val Loss:\t 1.4178466421179323\n",
      "Epoch:\t 12 Val Loss:\t 1.418667530000162\n",
      "Epoch:\t 13 Val Loss:\t 1.4196265721760852\n",
      "Epoch:\t 14 Val Loss:\t 1.4189034025479816\n",
      "Epoch:\t 15 Val Loss:\t 1.4192314925151723\n"
     ]
    },
    {
     "name": "stderr",
     "output_type": "stream",
     "text": [
      "[I 2025-05-25 16:00:10,900] Trial 0 finished with value: 1.4161563422456205 and parameters: {'lr': 0.001, 'weight_decay': 1e-06, 'scheduler_factor': 0.3, 'scheduler_patience': 10, 'batch_size': 64, 'dropout': 0.2, 'hidden_dims': 256}. Best is trial 0 with value: 1.4161563422456205.\n"
     ]
    },
    {
     "name": "stdout",
     "output_type": "stream",
     "text": [
      "Epoch:\t 16 Val Loss:\t 1.4201528112125472\n",
      "Epoch:\t 0 Val Loss:\t 1.4210366298148103\n",
      "Epoch:\t 1 Val Loss:\t 1.4212972665523027\n",
      "Epoch:\t 2 Val Loss:\t 1.419363407843366\n",
      "Epoch:\t 3 Val Loss:\t 1.4182847964418663\n",
      "Epoch:\t 4 Val Loss:\t 1.4199808521669395\n",
      "Epoch:\t 5 Val Loss:\t 1.4203528031658896\n",
      "Epoch:\t 6 Val Loss:\t 1.4139624707568497\n",
      "Epoch:\t 7 Val Loss:\t 1.415749751486579\n",
      "Epoch:\t 8 Val Loss:\t 1.4151531392738368\n",
      "Epoch:\t 9 Val Loss:\t 1.414140633448144\n",
      "Epoch:\t 10 Val Loss:\t 1.413595822079772\n",
      "Epoch:\t 11 Val Loss:\t 1.413048895608957\n",
      "Epoch:\t 12 Val Loss:\t 1.4127560121836769\n",
      "Epoch:\t 13 Val Loss:\t 1.4137383910237402\n",
      "Epoch:\t 14 Val Loss:\t 1.4129067180241035\n",
      "Epoch:\t 15 Val Loss:\t 1.4123869114750067\n",
      "Epoch:\t 16 Val Loss:\t 1.4129230531465586\n",
      "Epoch:\t 17 Val Loss:\t 1.4137697821644726\n",
      "Epoch:\t 18 Val Loss:\t 1.4132665610390078\n",
      "Epoch:\t 19 Val Loss:\t 1.413025805804507\n",
      "Epoch:\t 20 Val Loss:\t 1.413031539349694\n",
      "Epoch:\t 21 Val Loss:\t 1.412920739873046\n",
      "Epoch:\t 22 Val Loss:\t 1.412693458738051\n",
      "Epoch:\t 23 Val Loss:\t 1.4129613254614581\n",
      "Epoch:\t 24 Val Loss:\t 1.4128759183301036\n"
     ]
    },
    {
     "name": "stderr",
     "output_type": "stream",
     "text": [
      "[I 2025-05-25 16:01:32,992] Trial 1 finished with value: 1.4123869114750067 and parameters: {'lr': 0.001, 'weight_decay': 0.001, 'scheduler_factor': 0.3, 'scheduler_patience': 1, 'batch_size': 256, 'dropout': 0.1, 'hidden_dims': 512}. Best is trial 1 with value: 1.4123869114750067.\n"
     ]
    },
    {
     "name": "stdout",
     "output_type": "stream",
     "text": [
      "Epoch:\t 25 Val Loss:\t 1.4129487141918906\n",
      "Epoch:\t 0 Val Loss:\t 1.4968990441217553\n",
      "Epoch:\t 1 Val Loss:\t 1.4674924921779129\n",
      "Epoch:\t 2 Val Loss:\t 1.4459532385553087\n",
      "Epoch:\t 3 Val Loss:\t 1.4270085673764312\n",
      "Epoch:\t 4 Val Loss:\t 1.419790582266825\n",
      "Epoch:\t 5 Val Loss:\t 1.4175808558773784\n",
      "Epoch:\t 6 Val Loss:\t 1.4180001064406076\n",
      "Epoch:\t 7 Val Loss:\t 1.417302477809077\n",
      "Epoch:\t 8 Val Loss:\t 1.4177341235573042\n",
      "Epoch:\t 9 Val Loss:\t 1.418108012643736\n",
      "Epoch:\t 10 Val Loss:\t 1.4181558110757932\n",
      "Epoch:\t 11 Val Loss:\t 1.4181544553210665\n",
      "Epoch:\t 12 Val Loss:\t 1.4198387832572772\n",
      "Epoch:\t 13 Val Loss:\t 1.4204999796371032\n",
      "Epoch:\t 14 Val Loss:\t 1.4203437643234693\n",
      "Epoch:\t 15 Val Loss:\t 1.4207836891425163\n",
      "Epoch:\t 16 Val Loss:\t 1.4214308695881102\n"
     ]
    },
    {
     "name": "stderr",
     "output_type": "stream",
     "text": [
      "[I 2025-05-25 16:03:30,262] Trial 2 finished with value: 1.417302477809077 and parameters: {'lr': 0.001, 'weight_decay': 1e-06, 'scheduler_factor': 0.5, 'scheduler_patience': 1, 'batch_size': 64, 'dropout': 0.2, 'hidden_dims': 1024}. Best is trial 1 with value: 1.4123869114750067.\n"
     ]
    },
    {
     "name": "stdout",
     "output_type": "stream",
     "text": [
      "Epoch:\t 17 Val Loss:\t 1.4221039565926852\n",
      "Epoch:\t 0 Val Loss:\t 2.1312289796709822\n",
      "Epoch:\t 1 Val Loss:\t 2.0760405446323498\n",
      "Epoch:\t 2 Val Loss:\t 2.0240041794401877\n",
      "Epoch:\t 3 Val Loss:\t 1.975578231566599\n",
      "Epoch:\t 4 Val Loss:\t 1.9384181851560003\n",
      "Epoch:\t 5 Val Loss:\t 1.9065636402148496\n",
      "Epoch:\t 6 Val Loss:\t 1.8821451692673024\n",
      "Epoch:\t 7 Val Loss:\t 1.8611201141657454\n",
      "Epoch:\t 8 Val Loss:\t 1.8420628385788749\n",
      "Epoch:\t 9 Val Loss:\t 1.8281833413707311\n",
      "Epoch:\t 10 Val Loss:\t 1.814548837621943\n",
      "Epoch:\t 11 Val Loss:\t 1.8021776408291934\n",
      "Epoch:\t 12 Val Loss:\t 1.7908956174100383\n",
      "Epoch:\t 13 Val Loss:\t 1.7788326793842102\n",
      "Epoch:\t 14 Val Loss:\t 1.7679560708770017\n",
      "Epoch:\t 15 Val Loss:\t 1.756543465640342\n",
      "Epoch:\t 16 Val Loss:\t 1.7452486240653318\n",
      "Epoch:\t 17 Val Loss:\t 1.7361517432796056\n",
      "Epoch:\t 18 Val Loss:\t 1.7288120749674103\n",
      "Epoch:\t 19 Val Loss:\t 1.7227377522240481\n",
      "Epoch:\t 20 Val Loss:\t 1.7247742580946528\n",
      "Epoch:\t 21 Val Loss:\t 1.7257506981324613\n",
      "Epoch:\t 22 Val Loss:\t 1.7326557896493144\n",
      "Epoch:\t 23 Val Loss:\t 1.7410484649970481\n",
      "Epoch:\t 24 Val Loss:\t 1.7548655099317694\n",
      "Epoch:\t 25 Val Loss:\t 1.7621532707306202\n",
      "Epoch:\t 26 Val Loss:\t 1.77165234203706\n",
      "Epoch:\t 27 Val Loss:\t 1.7872179702617959\n",
      "Epoch:\t 28 Val Loss:\t 1.7892436910402718\n"
     ]
    },
    {
     "name": "stderr",
     "output_type": "stream",
     "text": [
      "[I 2025-05-25 16:05:37,957] Trial 3 finished with value: 1.7227377522240481 and parameters: {'lr': 1e-06, 'weight_decay': 0.001, 'scheduler_factor': 0.8, 'scheduler_patience': 1, 'batch_size': 128, 'dropout': 0.15, 'hidden_dims': 256}. Best is trial 1 with value: 1.4123869114750067.\n"
     ]
    },
    {
     "name": "stdout",
     "output_type": "stream",
     "text": [
      "Epoch:\t 29 Val Loss:\t 1.7979702258760626\n",
      "Epoch:\t 0 Val Loss:\t 2.0282795770066553\n",
      "Epoch:\t 1 Val Loss:\t 1.9080915329237067\n",
      "Epoch:\t 2 Val Loss:\t 1.8364568262056271\n",
      "Epoch:\t 3 Val Loss:\t 1.7947125189339224\n",
      "Epoch:\t 4 Val Loss:\t 1.7595046592413173\n",
      "Epoch:\t 5 Val Loss:\t 1.7267249049463962\n",
      "Epoch:\t 6 Val Loss:\t 1.6959044338108613\n",
      "Epoch:\t 7 Val Loss:\t 1.675458509514552\n",
      "Epoch:\t 8 Val Loss:\t 1.6740529749059554\n",
      "Epoch:\t 9 Val Loss:\t 1.65471096242795\n",
      "Epoch:\t 10 Val Loss:\t 1.6550943664691415\n",
      "Epoch:\t 11 Val Loss:\t 1.6459443171261738\n",
      "Epoch:\t 12 Val Loss:\t 1.6316868907056765\n",
      "Epoch:\t 13 Val Loss:\t 1.631353670670355\n",
      "Epoch:\t 14 Val Loss:\t 1.6140697626044338\n",
      "Epoch:\t 15 Val Loss:\t 1.6048140296284457\n",
      "Epoch:\t 16 Val Loss:\t 1.619457905790749\n",
      "Epoch:\t 17 Val Loss:\t 1.6100971153708694\n",
      "Epoch:\t 18 Val Loss:\t 1.5975560873740902\n",
      "Epoch:\t 19 Val Loss:\t 1.5940308315055065\n",
      "Epoch:\t 20 Val Loss:\t 1.5970440563900488\n",
      "Epoch:\t 21 Val Loss:\t 1.5852281810811708\n",
      "Epoch:\t 22 Val Loss:\t 1.5765141209770697\n",
      "Epoch:\t 23 Val Loss:\t 1.5767188418773772\n",
      "Epoch:\t 24 Val Loss:\t 1.576468353924974\n",
      "Epoch:\t 25 Val Loss:\t 1.5668819850156552\n",
      "Epoch:\t 26 Val Loss:\t 1.5747273315339116\n",
      "Epoch:\t 27 Val Loss:\t 1.5715425910894294\n",
      "Epoch:\t 28 Val Loss:\t 1.5747542829605268\n",
      "Epoch:\t 29 Val Loss:\t 1.5630040037873225\n",
      "Epoch:\t 30 Val Loss:\t 1.5732174874116367\n",
      "Epoch:\t 31 Val Loss:\t 1.560488024925426\n",
      "Epoch:\t 32 Val Loss:\t 1.5627686134967793\n",
      "Epoch:\t 33 Val Loss:\t 1.5585615349733095\n",
      "Epoch:\t 34 Val Loss:\t 1.5593659622686895\n",
      "Epoch:\t 35 Val Loss:\t 1.551492525852412\n",
      "Epoch:\t 36 Val Loss:\t 1.5467781291842055\n",
      "Epoch:\t 37 Val Loss:\t 1.5633631095311082\n",
      "Epoch:\t 38 Val Loss:\t 1.5429405845541964\n",
      "Epoch:\t 39 Val Loss:\t 1.547047823016664\n",
      "Epoch:\t 40 Val Loss:\t 1.5438555323798153\n",
      "Epoch:\t 41 Val Loss:\t 1.5461389941553916\n",
      "Epoch:\t 42 Val Loss:\t 1.549397450748796\n",
      "Epoch:\t 43 Val Loss:\t 1.5429552944216216\n",
      "Epoch:\t 44 Val Loss:\t 1.546159216741884\n",
      "Epoch:\t 45 Val Loss:\t 1.5394320412022249\n",
      "Epoch:\t 46 Val Loss:\t 1.5421126733392783\n",
      "Epoch:\t 47 Val Loss:\t 1.540672468675733\n",
      "Epoch:\t 48 Val Loss:\t 1.53577189079102\n",
      "Epoch:\t 49 Val Loss:\t 1.5340359530069623\n",
      "Epoch:\t 50 Val Loss:\t 1.5363723220674244\n",
      "Epoch:\t 51 Val Loss:\t 1.5326236824405572\n",
      "Epoch:\t 52 Val Loss:\t 1.5303067774076162\n",
      "Epoch:\t 53 Val Loss:\t 1.5280782857081665\n",
      "Epoch:\t 54 Val Loss:\t 1.528558031061899\n",
      "Epoch:\t 55 Val Loss:\t 1.5308021252534119\n",
      "Epoch:\t 56 Val Loss:\t 1.5216665292306883\n",
      "Epoch:\t 57 Val Loss:\t 1.5279150611531207\n",
      "Epoch:\t 58 Val Loss:\t 1.5256947449275426\n",
      "Epoch:\t 59 Val Loss:\t 1.5222973284943981\n",
      "Epoch:\t 60 Val Loss:\t 1.524496626529109\n",
      "Epoch:\t 61 Val Loss:\t 1.522491591627816\n",
      "Epoch:\t 62 Val Loss:\t 1.5257628103507304\n",
      "Epoch:\t 63 Val Loss:\t 1.5244447605281717\n",
      "Epoch:\t 64 Val Loss:\t 1.5226977417259315\n",
      "Epoch:\t 65 Val Loss:\t 1.5235315179375795\n"
     ]
    },
    {
     "name": "stderr",
     "output_type": "stream",
     "text": [
      "[I 2025-05-25 16:26:26,335] Trial 4 finished with value: 1.5216665292306883 and parameters: {'lr': 1e-06, 'weight_decay': 0.0001, 'scheduler_factor': 0.8, 'scheduler_patience': 20, 'batch_size': 16, 'dropout': 0.05, 'hidden_dims': 128}. Best is trial 1 with value: 1.4123869114750067.\n"
     ]
    },
    {
     "name": "stdout",
     "output_type": "stream",
     "text": [
      "Epoch:\t 66 Val Loss:\t 1.5278456118655717\n"
     ]
    },
    {
     "name": "stderr",
     "output_type": "stream",
     "text": [
      "[I 2025-05-25 16:26:37,524] Trial 5 pruned. \n"
     ]
    },
    {
     "name": "stdout",
     "output_type": "stream",
     "text": [
      "Epoch:\t 0 Val Loss:\t 2.015816931208532\n"
     ]
    },
    {
     "name": "stderr",
     "output_type": "stream",
     "text": [
      "[I 2025-05-25 16:26:42,052] Trial 6 pruned. \n"
     ]
    },
    {
     "name": "stdout",
     "output_type": "stream",
     "text": [
      "Epoch:\t 0 Val Loss:\t 2.1664618867932317\n"
     ]
    },
    {
     "name": "stderr",
     "output_type": "stream",
     "text": [
      "[I 2025-05-25 16:26:53,357] Trial 7 pruned. \n"
     ]
    },
    {
     "name": "stdout",
     "output_type": "stream",
     "text": [
      "Epoch:\t 0 Val Loss:\t 1.524218239956246\n"
     ]
    },
    {
     "name": "stderr",
     "output_type": "stream",
     "text": [
      "[I 2025-05-25 16:26:57,817] Trial 8 pruned. \n"
     ]
    },
    {
     "name": "stdout",
     "output_type": "stream",
     "text": [
      "Epoch:\t 0 Val Loss:\t 1.7011839434576264\n"
     ]
    },
    {
     "name": "stderr",
     "output_type": "stream",
     "text": [
      "[I 2025-05-25 16:27:01,186] Trial 9 pruned. \n"
     ]
    },
    {
     "name": "stdout",
     "output_type": "stream",
     "text": [
      "Epoch:\t 0 Val Loss:\t 1.7784330718386978\n"
     ]
    },
    {
     "name": "stderr",
     "output_type": "stream",
     "text": [
      "[I 2025-05-25 16:27:04,547] Trial 10 pruned. \n"
     ]
    },
    {
     "name": "stdout",
     "output_type": "stream",
     "text": [
      "Epoch:\t 0 Val Loss:\t 1.61523302881664\n",
      "Epoch:\t 0 Val Loss:\t 1.4832796802880197\n",
      "Epoch:\t 1 Val Loss:\t 1.4604912314686473\n",
      "Epoch:\t 2 Val Loss:\t 1.440445567764276\n",
      "Epoch:\t 3 Val Loss:\t 1.424398505123692\n",
      "Epoch:\t 4 Val Loss:\t 1.4177100225362953\n",
      "Epoch:\t 5 Val Loss:\t 1.417286688170628\n",
      "Epoch:\t 6 Val Loss:\t 1.416914025400769\n",
      "Epoch:\t 7 Val Loss:\t 1.4172983984996914\n",
      "Epoch:\t 8 Val Loss:\t 1.4163946157086822\n",
      "Epoch:\t 9 Val Loss:\t 1.4169561886844773\n",
      "Epoch:\t 10 Val Loss:\t 1.4171701872358344\n",
      "Epoch:\t 11 Val Loss:\t 1.4173936186165645\n",
      "Epoch:\t 12 Val Loss:\t 1.418161343648707\n",
      "Epoch:\t 13 Val Loss:\t 1.4178623375934702\n",
      "Epoch:\t 14 Val Loss:\t 1.4187946484962652\n",
      "Epoch:\t 15 Val Loss:\t 1.4187305763232392\n",
      "Epoch:\t 16 Val Loss:\t 1.4190573919842313\n",
      "Epoch:\t 17 Val Loss:\t 1.4192917226502297\n"
     ]
    },
    {
     "name": "stderr",
     "output_type": "stream",
     "text": [
      "[I 2025-05-25 16:29:09,703] Trial 11 finished with value: 1.4163946157086822 and parameters: {'lr': 0.001, 'weight_decay': 1e-06, 'scheduler_factor': 0.3, 'scheduler_patience': 1, 'batch_size': 64, 'dropout': 0.1, 'hidden_dims': 512}. Best is trial 1 with value: 1.4123869114750067.\n"
     ]
    },
    {
     "name": "stdout",
     "output_type": "stream",
     "text": [
      "Epoch:\t 18 Val Loss:\t 1.419513907830239\n",
      "Epoch:\t 0 Val Loss:\t 1.4535696169187784\n",
      "Epoch:\t 1 Val Loss:\t 1.44348787839773\n",
      "Epoch:\t 2 Val Loss:\t 1.443334969676959\n"
     ]
    },
    {
     "name": "stderr",
     "output_type": "stream",
     "text": [
      "[I 2025-05-25 16:29:22,433] Trial 12 pruned. \n"
     ]
    },
    {
     "name": "stdout",
     "output_type": "stream",
     "text": [
      "Epoch:\t 3 Val Loss:\t 1.4390769817438156\n",
      "Epoch:\t 0 Val Loss:\t 1.4203392533942423\n",
      "Epoch:\t 1 Val Loss:\t 1.4232024099698712\n",
      "Epoch:\t 2 Val Loss:\t 1.42161654584773\n",
      "Epoch:\t 3 Val Loss:\t 1.4221334735584334\n",
      "Epoch:\t 4 Val Loss:\t 1.4194310879649978\n",
      "Epoch:\t 5 Val Loss:\t 1.420977016783946\n"
     ]
    },
    {
     "name": "stderr",
     "output_type": "stream",
     "text": [
      "[I 2025-05-25 16:30:09,008] Trial 13 pruned. \n"
     ]
    },
    {
     "name": "stdout",
     "output_type": "stream",
     "text": [
      "Epoch:\t 6 Val Loss:\t 1.4222022383903252\n",
      "Epoch:\t 0 Val Loss:\t 1.4233134698351886\n",
      "Epoch:\t 1 Val Loss:\t 1.4179044339728961\n",
      "Epoch:\t 2 Val Loss:\t 1.4205062171305094\n",
      "Epoch:\t 3 Val Loss:\t 1.424355908234118\n",
      "Epoch:\t 4 Val Loss:\t 1.4285250880679539\n",
      "Epoch:\t 5 Val Loss:\t 1.430890580237306\n"
     ]
    },
    {
     "name": "stderr",
     "output_type": "stream",
     "text": [
      "[I 2025-05-25 16:32:22,773] Trial 14 pruned. \n"
     ]
    },
    {
     "name": "stdout",
     "output_type": "stream",
     "text": [
      "Epoch:\t 6 Val Loss:\t 1.4312108171843643\n"
     ]
    },
    {
     "name": "stderr",
     "output_type": "stream",
     "text": [
      "[I 2025-05-25 16:32:26,179] Trial 15 pruned. \n"
     ]
    },
    {
     "name": "stdout",
     "output_type": "stream",
     "text": [
      "Epoch:\t 0 Val Loss:\t 1.7492813090419463\n",
      "Epoch:\t 0 Val Loss:\t 1.459952036762773\n",
      "Epoch:\t 1 Val Loss:\t 1.4602741944665611\n",
      "Epoch:\t 2 Val Loss:\t 1.4419704459625526\n"
     ]
    },
    {
     "name": "stderr",
     "output_type": "stream",
     "text": [
      "[I 2025-05-25 16:32:52,682] Trial 16 pruned. \n"
     ]
    },
    {
     "name": "stdout",
     "output_type": "stream",
     "text": [
      "Epoch:\t 3 Val Loss:\t 1.429971995311636\n",
      "Epoch:\t 0 Val Loss:\t 1.4590817930799727\n",
      "Epoch:\t 1 Val Loss:\t 1.434032855840712\n",
      "Epoch:\t 2 Val Loss:\t 1.418521033828509\n",
      "Epoch:\t 3 Val Loss:\t 1.414810145006432\n",
      "Epoch:\t 4 Val Loss:\t 1.4154660289729224\n",
      "Epoch:\t 5 Val Loss:\t 1.414386263253121\n",
      "Epoch:\t 6 Val Loss:\t 1.414187014246331\n",
      "Epoch:\t 7 Val Loss:\t 1.4146988583069948\n",
      "Epoch:\t 8 Val Loss:\t 1.4142212368721185\n",
      "Epoch:\t 9 Val Loss:\t 1.414638028492809\n",
      "Epoch:\t 10 Val Loss:\t 1.413654187534366\n",
      "Epoch:\t 11 Val Loss:\t 1.4138622130024596\n",
      "Epoch:\t 12 Val Loss:\t 1.4141641090464956\n",
      "Epoch:\t 13 Val Loss:\t 1.413626387583894\n",
      "Epoch:\t 14 Val Loss:\t 1.4135272746671173\n",
      "Epoch:\t 15 Val Loss:\t 1.4134047893686301\n",
      "Epoch:\t 16 Val Loss:\t 1.4134899855807197\n",
      "Epoch:\t 17 Val Loss:\t 1.4137572841636639\n",
      "Epoch:\t 18 Val Loss:\t 1.4133381032905488\n",
      "Epoch:\t 19 Val Loss:\t 1.4140233232579236\n",
      "Epoch:\t 20 Val Loss:\t 1.4140390813494073\n",
      "Epoch:\t 21 Val Loss:\t 1.4139186997555118\n",
      "Epoch:\t 22 Val Loss:\t 1.4126419321288084\n",
      "Epoch:\t 23 Val Loss:\t 1.4141680093029545\n",
      "Epoch:\t 24 Val Loss:\t 1.412885096423035\n",
      "Epoch:\t 25 Val Loss:\t 1.4136944921282453\n",
      "Epoch:\t 26 Val Loss:\t 1.414643489750462\n",
      "Epoch:\t 27 Val Loss:\t 1.4150481788081557\n",
      "Epoch:\t 28 Val Loss:\t 1.4155644551218274\n",
      "Epoch:\t 29 Val Loss:\t 1.4159168440911325\n",
      "Epoch:\t 30 Val Loss:\t 1.416762090436726\n",
      "Epoch:\t 31 Val Loss:\t 1.4157814962345787\n"
     ]
    },
    {
     "name": "stderr",
     "output_type": "stream",
     "text": [
      "[I 2025-05-25 16:36:30,129] Trial 17 finished with value: 1.4126419321288084 and parameters: {'lr': 0.001, 'weight_decay': 1e-05, 'scheduler_factor': 0.3, 'scheduler_patience': 5, 'batch_size': 64, 'dropout': 0.15, 'hidden_dims': 512}. Best is trial 1 with value: 1.4123869114750067.\n"
     ]
    },
    {
     "name": "stdout",
     "output_type": "stream",
     "text": [
      "Epoch:\t 32 Val Loss:\t 1.4174056113387645\n",
      "Epoch:\t 0 Val Loss:\t 1.4603093345065592\n",
      "Epoch:\t 1 Val Loss:\t 1.464948730070108\n"
     ]
    },
    {
     "name": "stderr",
     "output_type": "stream",
     "text": [
      "[I 2025-05-25 16:36:39,659] Trial 18 pruned. \n"
     ]
    },
    {
     "name": "stdout",
     "output_type": "stream",
     "text": [
      "Epoch:\t 2 Val Loss:\t 1.4584630570611004\n",
      "Epoch:\t 0 Val Loss:\t 1.4784468702839075\n"
     ]
    },
    {
     "name": "stderr",
     "output_type": "stream",
     "text": [
      "[I 2025-05-25 16:37:17,728] Trial 19 pruned. \n"
     ]
    },
    {
     "name": "stdout",
     "output_type": "stream",
     "text": [
      "Epoch:\t 1 Val Loss:\t 1.4862246569973796\n",
      "Epoch:\t 0 Val Loss:\t 1.4410277831530522\n",
      "Epoch:\t 1 Val Loss:\t 1.415923554529408\n",
      "Epoch:\t 2 Val Loss:\t 1.4173663006994672\n",
      "Epoch:\t 3 Val Loss:\t 1.415751984793103\n",
      "Epoch:\t 4 Val Loss:\t 1.415608006154368\n",
      "Epoch:\t 5 Val Loss:\t 1.4163687442252058\n",
      "Epoch:\t 6 Val Loss:\t 1.4164386293453302\n",
      "Epoch:\t 7 Val Loss:\t 1.4154052548513623\n",
      "Epoch:\t 8 Val Loss:\t 1.4170142473820933\n",
      "Epoch:\t 9 Val Loss:\t 1.4169754109545079\n",
      "Epoch:\t 10 Val Loss:\t 1.418541489956613\n",
      "Epoch:\t 11 Val Loss:\t 1.4175822148103274\n",
      "Epoch:\t 12 Val Loss:\t 1.418290975910867\n",
      "Epoch:\t 13 Val Loss:\t 1.4169268470488952\n",
      "Epoch:\t 14 Val Loss:\t 1.4192059559430292\n",
      "Epoch:\t 15 Val Loss:\t 1.4197015360983196\n",
      "Epoch:\t 16 Val Loss:\t 1.4235814606259485\n"
     ]
    },
    {
     "name": "stderr",
     "output_type": "stream",
     "text": [
      "[I 2025-05-25 16:40:34,954] Trial 20 finished with value: 1.4154052548513623 and parameters: {'lr': 0.001, 'weight_decay': 1e-05, 'scheduler_factor': 0.3, 'scheduler_patience': 5, 'batch_size': 32, 'dropout': 0.15, 'hidden_dims': 512}. Best is trial 1 with value: 1.4123869114750067.\n"
     ]
    },
    {
     "name": "stdout",
     "output_type": "stream",
     "text": [
      "Epoch:\t 17 Val Loss:\t 1.4272579468323854\n",
      "Epoch:\t 0 Val Loss:\t 1.4434951355557641\n",
      "Epoch:\t 1 Val Loss:\t 1.4165923513725907\n",
      "Epoch:\t 2 Val Loss:\t 1.4157598257064818\n",
      "Epoch:\t 3 Val Loss:\t 1.4152339381540944\n",
      "Epoch:\t 4 Val Loss:\t 1.415355606308442\n",
      "Epoch:\t 5 Val Loss:\t 1.4156405539694195\n",
      "Epoch:\t 6 Val Loss:\t 1.416009894162715\n",
      "Epoch:\t 7 Val Loss:\t 1.4165444709017185\n",
      "Epoch:\t 8 Val Loss:\t 1.417103652008072\n",
      "Epoch:\t 9 Val Loss:\t 1.4174948481137384\n",
      "Epoch:\t 10 Val Loss:\t 1.4180685392601458\n",
      "Epoch:\t 11 Val Loss:\t 1.4190731793940665\n",
      "Epoch:\t 12 Val Loss:\t 1.4222109203109283\n"
     ]
    },
    {
     "name": "stderr",
     "output_type": "stream",
     "text": [
      "[I 2025-05-25 16:43:07,704] Trial 21 finished with value: 1.4152339381540944 and parameters: {'lr': 0.001, 'weight_decay': 1e-05, 'scheduler_factor': 0.3, 'scheduler_patience': 5, 'batch_size': 32, 'dropout': 0.15, 'hidden_dims': 512}. Best is trial 1 with value: 1.4123869114750067.\n"
     ]
    },
    {
     "name": "stdout",
     "output_type": "stream",
     "text": [
      "Epoch:\t 13 Val Loss:\t 1.424976444483281\n",
      "Epoch:\t 0 Val Loss:\t 1.4426297304386606\n",
      "Epoch:\t 1 Val Loss:\t 1.4153578037250496\n",
      "Epoch:\t 2 Val Loss:\t 1.4150066765133509\n",
      "Epoch:\t 3 Val Loss:\t 1.4155358156364761\n",
      "Epoch:\t 4 Val Loss:\t 1.4161260354495\n",
      "Epoch:\t 5 Val Loss:\t 1.416653243429914\n",
      "Epoch:\t 6 Val Loss:\t 1.4158738070833898\n",
      "Epoch:\t 7 Val Loss:\t 1.4158695338006488\n",
      "Epoch:\t 8 Val Loss:\t 1.4169497352802682\n",
      "Epoch:\t 9 Val Loss:\t 1.416044893627893\n",
      "Epoch:\t 10 Val Loss:\t 1.4191440699334612\n",
      "Epoch:\t 11 Val Loss:\t 1.4219427032317808\n"
     ]
    },
    {
     "name": "stderr",
     "output_type": "stream",
     "text": [
      "[I 2025-05-25 16:45:28,871] Trial 22 finished with value: 1.4150066765133509 and parameters: {'lr': 0.001, 'weight_decay': 1e-05, 'scheduler_factor': 0.3, 'scheduler_patience': 5, 'batch_size': 32, 'dropout': 0.15, 'hidden_dims': 512}. Best is trial 1 with value: 1.4123869114750067.\n"
     ]
    },
    {
     "name": "stdout",
     "output_type": "stream",
     "text": [
      "Epoch:\t 12 Val Loss:\t 1.4250169747817014\n",
      "Epoch:\t 0 Val Loss:\t 1.4451193513277776\n",
      "Epoch:\t 1 Val Loss:\t 1.4158232470552525\n",
      "Epoch:\t 2 Val Loss:\t 1.415267238444938\n",
      "Epoch:\t 3 Val Loss:\t 1.4156701622123948\n",
      "Epoch:\t 4 Val Loss:\t 1.4148932445503188\n",
      "Epoch:\t 5 Val Loss:\t 1.4153311847923753\n",
      "Epoch:\t 6 Val Loss:\t 1.4162952993102447\n",
      "Epoch:\t 7 Val Loss:\t 1.4153010036759004\n",
      "Epoch:\t 8 Val Loss:\t 1.4160393184077047\n",
      "Epoch:\t 9 Val Loss:\t 1.4160531840964645\n",
      "Epoch:\t 10 Val Loss:\t 1.4164666548520626\n",
      "Epoch:\t 11 Val Loss:\t 1.4169652904441696\n",
      "Epoch:\t 12 Val Loss:\t 1.4191756401367799\n",
      "Epoch:\t 13 Val Loss:\t 1.4202707068953582\n"
     ]
    },
    {
     "name": "stderr",
     "output_type": "stream",
     "text": [
      "[I 2025-05-25 16:48:12,751] Trial 23 finished with value: 1.4148932445503188 and parameters: {'lr': 0.001, 'weight_decay': 1e-05, 'scheduler_factor': 0.3, 'scheduler_patience': 5, 'batch_size': 32, 'dropout': 0.15, 'hidden_dims': 512}. Best is trial 1 with value: 1.4123869114750067.\n"
     ]
    },
    {
     "name": "stdout",
     "output_type": "stream",
     "text": [
      "Epoch:\t 14 Val Loss:\t 1.4232367728181736\n",
      "Epoch:\t 0 Val Loss:\t 1.4460410478358756\n",
      "Epoch:\t 1 Val Loss:\t 1.4168920945070071\n",
      "Epoch:\t 2 Val Loss:\t 1.4156477134547873\n",
      "Epoch:\t 3 Val Loss:\t 1.4164006729641994\n",
      "Epoch:\t 4 Val Loss:\t 1.4156440645516037\n",
      "Epoch:\t 5 Val Loss:\t 1.4153778848762741\n",
      "Epoch:\t 6 Val Loss:\t 1.4163219783014669\n",
      "Epoch:\t 7 Val Loss:\t 1.4162647101109873\n",
      "Epoch:\t 8 Val Loss:\t 1.4172505175183436\n",
      "Epoch:\t 9 Val Loss:\t 1.4171254442306702\n",
      "Epoch:\t 10 Val Loss:\t 1.417083778887808\n",
      "Epoch:\t 11 Val Loss:\t 1.4187194642657508\n",
      "Epoch:\t 12 Val Loss:\t 1.4181596250476722\n",
      "Epoch:\t 13 Val Loss:\t 1.4226371139228224\n",
      "Epoch:\t 14 Val Loss:\t 1.4221354224638854\n"
     ]
    },
    {
     "name": "stderr",
     "output_type": "stream",
     "text": [
      "[I 2025-05-25 16:51:07,711] Trial 24 finished with value: 1.4153778848762741 and parameters: {'lr': 0.001, 'weight_decay': 1e-05, 'scheduler_factor': 0.3, 'scheduler_patience': 5, 'batch_size': 32, 'dropout': 0.15, 'hidden_dims': 512}. Best is trial 1 with value: 1.4123869114750067.\n"
     ]
    },
    {
     "name": "stdout",
     "output_type": "stream",
     "text": [
      "Epoch:\t 15 Val Loss:\t 1.4256671267664265\n",
      "Epoch:\t 0 Val Loss:\t 1.423655434053427\n",
      "Epoch:\t 1 Val Loss:\t 1.4220889185785863\n",
      "Epoch:\t 2 Val Loss:\t 1.418465923649705\n"
     ]
    },
    {
     "name": "stderr",
     "output_type": "stream",
     "text": [
      "[I 2025-05-25 16:51:20,363] Trial 25 pruned. \n"
     ]
    },
    {
     "name": "stdout",
     "output_type": "stream",
     "text": [
      "Epoch:\t 3 Val Loss:\t 1.4178545724157352\n",
      "Epoch:\t 0 Val Loss:\t 1.4271230232075107\n",
      "Epoch:\t 1 Val Loss:\t 1.4204839817886843\n",
      "Epoch:\t 2 Val Loss:\t 1.4164958745838645\n",
      "Epoch:\t 3 Val Loss:\t 1.4144860553856171\n",
      "Epoch:\t 4 Val Loss:\t 1.4142373808881428\n",
      "Epoch:\t 5 Val Loss:\t 1.4137637380991541\n",
      "Epoch:\t 6 Val Loss:\t 1.4133542271356345\n",
      "Epoch:\t 7 Val Loss:\t 1.4131646793942119\n",
      "Epoch:\t 8 Val Loss:\t 1.4140420117756798\n",
      "Epoch:\t 9 Val Loss:\t 1.4141677327412268\n",
      "Epoch:\t 10 Val Loss:\t 1.413551061939218\n",
      "Epoch:\t 11 Val Loss:\t 1.4136136481545885\n",
      "Epoch:\t 12 Val Loss:\t 1.4137882157718074\n",
      "Epoch:\t 13 Val Loss:\t 1.4132739981366045\n",
      "Epoch:\t 14 Val Loss:\t 1.4129602025773111\n",
      "Epoch:\t 15 Val Loss:\t 1.4136697091192079\n",
      "Epoch:\t 16 Val Loss:\t 1.4131379629385978\n",
      "Epoch:\t 17 Val Loss:\t 1.413545789867759\n",
      "Epoch:\t 18 Val Loss:\t 1.4133732077018109\n",
      "Epoch:\t 19 Val Loss:\t 1.4135694050655043\n",
      "Epoch:\t 20 Val Loss:\t 1.4134603369780894\n",
      "Epoch:\t 21 Val Loss:\t 1.4130978953293447\n",
      "Epoch:\t 22 Val Loss:\t 1.414209777771614\n",
      "Epoch:\t 23 Val Loss:\t 1.4142658146458238\n"
     ]
    },
    {
     "name": "stderr",
     "output_type": "stream",
     "text": [
      "[I 2025-05-25 16:54:01,676] Trial 26 finished with value: 1.4129602025773111 and parameters: {'lr': 0.001, 'weight_decay': 1e-05, 'scheduler_factor': 0.8, 'scheduler_patience': 5, 'batch_size': 64, 'dropout': 0.15, 'hidden_dims': 64}. Best is trial 1 with value: 1.4123869114750067.\n"
     ]
    },
    {
     "name": "stdout",
     "output_type": "stream",
     "text": [
      "Epoch:\t 24 Val Loss:\t 1.41351935341536\n"
     ]
    },
    {
     "name": "stderr",
     "output_type": "stream",
     "text": [
      "[I 2025-05-25 16:54:08,126] Trial 27 pruned. \n"
     ]
    },
    {
     "name": "stdout",
     "output_type": "stream",
     "text": [
      "Epoch:\t 0 Val Loss:\t 1.5071182645791612\n"
     ]
    },
    {
     "name": "stderr",
     "output_type": "stream",
     "text": [
      "[I 2025-05-25 16:54:14,582] Trial 28 pruned. \n"
     ]
    },
    {
     "name": "stdout",
     "output_type": "stream",
     "text": [
      "Epoch:\t 0 Val Loss:\t 1.9090552360608086\n",
      "Epoch:\t 0 Val Loss:\t 1.4213627869354406\n",
      "Epoch:\t 1 Val Loss:\t 1.4155376282518353\n",
      "Epoch:\t 2 Val Loss:\t 1.414876425658213\n",
      "Epoch:\t 3 Val Loss:\t 1.4139782538295462\n",
      "Epoch:\t 4 Val Loss:\t 1.413859909404825\n",
      "Epoch:\t 5 Val Loss:\t 1.413416919463524\n",
      "Epoch:\t 6 Val Loss:\t 1.4137825582537922\n",
      "Epoch:\t 7 Val Loss:\t 1.4143740211187024\n",
      "Epoch:\t 8 Val Loss:\t 1.4137760315690886\n",
      "Epoch:\t 9 Val Loss:\t 1.4150365132184246\n",
      "Epoch:\t 10 Val Loss:\t 1.4135493121342173\n",
      "Epoch:\t 11 Val Loss:\t 1.4149843881678945\n",
      "Epoch:\t 12 Val Loss:\t 1.4136642691796555\n",
      "Epoch:\t 13 Val Loss:\t 1.4142423155982684\n",
      "Epoch:\t 14 Val Loss:\t 1.4137863666416648\n"
     ]
    },
    {
     "name": "stderr",
     "output_type": "stream",
     "text": [
      "[I 2025-05-25 16:55:57,347] Trial 29 finished with value: 1.413416919463524 and parameters: {'lr': 0.001, 'weight_decay': 0.0001, 'scheduler_factor': 0.8, 'scheduler_patience': 20, 'batch_size': 64, 'dropout': 0.05, 'hidden_dims': 64}. Best is trial 1 with value: 1.4123869114750067.\n"
     ]
    },
    {
     "name": "stdout",
     "output_type": "stream",
     "text": [
      "Epoch:\t 15 Val Loss:\t 1.414127071666641\n",
      "Epoch:\t 0 Val Loss:\t 1.4393546213220383\n"
     ]
    },
    {
     "name": "stderr",
     "output_type": "stream",
     "text": [
      "[I 2025-05-25 16:56:10,060] Trial 30 pruned. \n"
     ]
    },
    {
     "name": "stdout",
     "output_type": "stream",
     "text": [
      "Epoch:\t 1 Val Loss:\t 1.4290496511467\n",
      "Epoch:\t 0 Val Loss:\t 1.419911430086627\n",
      "Epoch:\t 1 Val Loss:\t 1.4158361834722608\n",
      "Epoch:\t 2 Val Loss:\t 1.414300759219129\n",
      "Epoch:\t 3 Val Loss:\t 1.4152804270876629\n",
      "Epoch:\t 4 Val Loss:\t 1.413670478673964\n",
      "Epoch:\t 5 Val Loss:\t 1.41456508990183\n",
      "Epoch:\t 6 Val Loss:\t 1.4139436434628778\n",
      "Epoch:\t 7 Val Loss:\t 1.4143388942421773\n",
      "Epoch:\t 8 Val Loss:\t 1.4140085537336116\n",
      "Epoch:\t 9 Val Loss:\t 1.4130034109259377\n",
      "Epoch:\t 10 Val Loss:\t 1.4149070447602077\n",
      "Epoch:\t 11 Val Loss:\t 1.4147004444501643\n",
      "Epoch:\t 12 Val Loss:\t 1.4140580839984591\n",
      "Epoch:\t 13 Val Loss:\t 1.4136972285884806\n",
      "Epoch:\t 14 Val Loss:\t 1.413841365525124\n",
      "Epoch:\t 15 Val Loss:\t 1.4135072920546115\n",
      "Epoch:\t 16 Val Loss:\t 1.4142110971039357\n",
      "Epoch:\t 17 Val Loss:\t 1.4129991125085397\n",
      "Epoch:\t 18 Val Loss:\t 1.4141898400896342\n",
      "Epoch:\t 19 Val Loss:\t 1.4146427870179141\n",
      "Epoch:\t 20 Val Loss:\t 1.413797361714991\n",
      "Epoch:\t 21 Val Loss:\t 1.4140240268508435\n",
      "Epoch:\t 22 Val Loss:\t 1.413991385683979\n",
      "Epoch:\t 23 Val Loss:\t 1.4142081061648482\n",
      "Epoch:\t 24 Val Loss:\t 1.4138032618578473\n",
      "Epoch:\t 25 Val Loss:\t 1.4150143604615066\n",
      "Epoch:\t 26 Val Loss:\t 1.4146912178232274\n"
     ]
    },
    {
     "name": "stderr",
     "output_type": "stream",
     "text": [
      "[I 2025-05-25 16:59:13,275] Trial 31 finished with value: 1.4129991125085397 and parameters: {'lr': 0.001, 'weight_decay': 0.0001, 'scheduler_factor': 0.8, 'scheduler_patience': 20, 'batch_size': 64, 'dropout': 0.05, 'hidden_dims': 64}. Best is trial 1 with value: 1.4123869114750067.\n"
     ]
    },
    {
     "name": "stdout",
     "output_type": "stream",
     "text": [
      "Epoch:\t 27 Val Loss:\t 1.413782607008193\n",
      "Epoch:\t 0 Val Loss:\t 1.4217469254396586\n",
      "Epoch:\t 1 Val Loss:\t 1.4159130957380905\n",
      "Epoch:\t 2 Val Loss:\t 1.414543290948906\n",
      "Epoch:\t 3 Val Loss:\t 1.4146283051445663\n",
      "Epoch:\t 4 Val Loss:\t 1.41416530544125\n",
      "Epoch:\t 5 Val Loss:\t 1.4138568338625126\n",
      "Epoch:\t 6 Val Loss:\t 1.4149577462778344\n",
      "Epoch:\t 7 Val Loss:\t 1.4143404044814365\n",
      "Epoch:\t 8 Val Loss:\t 1.4142306719002191\n",
      "Epoch:\t 9 Val Loss:\t 1.4139703194810183\n",
      "Epoch:\t 10 Val Loss:\t 1.4146723698499017\n",
      "Epoch:\t 11 Val Loss:\t 1.413814860816564\n",
      "Epoch:\t 12 Val Loss:\t 1.4134391801493016\n",
      "Epoch:\t 13 Val Loss:\t 1.4144522619897495\n",
      "Epoch:\t 14 Val Loss:\t 1.4139832675982784\n",
      "Epoch:\t 15 Val Loss:\t 1.4137587731804193\n",
      "Epoch:\t 16 Val Loss:\t 1.414930244111594\n",
      "Epoch:\t 17 Val Loss:\t 1.4135928022068027\n",
      "Epoch:\t 18 Val Loss:\t 1.4146173335880687\n",
      "Epoch:\t 19 Val Loss:\t 1.4142946491455592\n",
      "Epoch:\t 20 Val Loss:\t 1.4142351729829692\n",
      "Epoch:\t 21 Val Loss:\t 1.4146217117332514\n"
     ]
    },
    {
     "name": "stderr",
     "output_type": "stream",
     "text": [
      "[I 2025-05-25 17:01:43,184] Trial 32 finished with value: 1.4134391801493016 and parameters: {'lr': 0.001, 'weight_decay': 0.0001, 'scheduler_factor': 0.8, 'scheduler_patience': 20, 'batch_size': 64, 'dropout': 0.05, 'hidden_dims': 64}. Best is trial 1 with value: 1.4123869114750067.\n"
     ]
    },
    {
     "name": "stdout",
     "output_type": "stream",
     "text": [
      "Epoch:\t 22 Val Loss:\t 1.4143050980740006\n",
      "Epoch:\t 0 Val Loss:\t 1.4213398767645682\n",
      "Epoch:\t 1 Val Loss:\t 1.4142780339325918\n",
      "Epoch:\t 2 Val Loss:\t 1.4140313880961708\n",
      "Epoch:\t 3 Val Loss:\t 1.4145049626289985\n",
      "Epoch:\t 4 Val Loss:\t 1.4142676357660853\n",
      "Epoch:\t 5 Val Loss:\t 1.4136885218172908\n",
      "Epoch:\t 6 Val Loss:\t 1.4133142130606253\n",
      "Epoch:\t 7 Val Loss:\t 1.4136219045689513\n",
      "Epoch:\t 8 Val Loss:\t 1.4146407468852369\n",
      "Epoch:\t 9 Val Loss:\t 1.41452386346739\n",
      "Epoch:\t 10 Val Loss:\t 1.4133022773141564\n",
      "Epoch:\t 11 Val Loss:\t 1.413634494102374\n",
      "Epoch:\t 12 Val Loss:\t 1.414551726033808\n",
      "Epoch:\t 13 Val Loss:\t 1.4140355755256095\n",
      "Epoch:\t 14 Val Loss:\t 1.4135053924493246\n",
      "Epoch:\t 15 Val Loss:\t 1.4133852105572784\n",
      "Epoch:\t 16 Val Loss:\t 1.4141526874199617\n",
      "Epoch:\t 17 Val Loss:\t 1.4138633936237315\n",
      "Epoch:\t 18 Val Loss:\t 1.4131803764948963\n",
      "Epoch:\t 19 Val Loss:\t 1.414240549350607\n",
      "Epoch:\t 20 Val Loss:\t 1.4139058684576198\n",
      "Epoch:\t 21 Val Loss:\t 1.4135123926252964\n",
      "Epoch:\t 22 Val Loss:\t 1.4134470239675991\n",
      "Epoch:\t 23 Val Loss:\t 1.4141454130721838\n",
      "Epoch:\t 24 Val Loss:\t 1.4137307128240897\n",
      "Epoch:\t 25 Val Loss:\t 1.414110269752998\n",
      "Epoch:\t 26 Val Loss:\t 1.41483582882472\n",
      "Epoch:\t 27 Val Loss:\t 1.4143536770544534\n",
      "Epoch:\t 28 Val Loss:\t 1.4130088262014993\n",
      "Epoch:\t 29 Val Loss:\t 1.4131742011286683\n",
      "Epoch:\t 30 Val Loss:\t 1.4138435285953683\n",
      "Epoch:\t 31 Val Loss:\t 1.4126591896571057\n",
      "Epoch:\t 32 Val Loss:\t 1.4140826219927338\n",
      "Epoch:\t 33 Val Loss:\t 1.4135161285507458\n",
      "Epoch:\t 34 Val Loss:\t 1.413138499523796\n",
      "Epoch:\t 35 Val Loss:\t 1.4131631124660122\n",
      "Epoch:\t 36 Val Loss:\t 1.4132597028683354\n",
      "Epoch:\t 37 Val Loss:\t 1.4139580399682259\n",
      "Epoch:\t 38 Val Loss:\t 1.4128116629270906\n",
      "Epoch:\t 39 Val Loss:\t 1.413597012483892\n",
      "Epoch:\t 40 Val Loss:\t 1.4136275149577124\n"
     ]
    },
    {
     "name": "stderr",
     "output_type": "stream",
     "text": [
      "[I 2025-05-25 17:06:15,337] Trial 33 finished with value: 1.4126591896571057 and parameters: {'lr': 0.001, 'weight_decay': 0.0001, 'scheduler_factor': 0.8, 'scheduler_patience': 20, 'batch_size': 64, 'dropout': 0.05, 'hidden_dims': 64}. Best is trial 1 with value: 1.4123869114750067.\n"
     ]
    },
    {
     "name": "stdout",
     "output_type": "stream",
     "text": [
      "Epoch:\t 41 Val Loss:\t 1.4134785390034044\n",
      "Epoch:\t 0 Val Loss:\t 1.4207855061521124\n",
      "Epoch:\t 1 Val Loss:\t 1.4154443171087416\n",
      "Epoch:\t 2 Val Loss:\t 1.414456752748038\n",
      "Epoch:\t 3 Val Loss:\t 1.4140397604695298\n",
      "Epoch:\t 4 Val Loss:\t 1.4135284361690164\n",
      "Epoch:\t 5 Val Loss:\t 1.413249667587525\n",
      "Epoch:\t 6 Val Loss:\t 1.414371586648961\n",
      "Epoch:\t 7 Val Loss:\t 1.413101693297159\n",
      "Epoch:\t 8 Val Loss:\t 1.4148844579935265\n",
      "Epoch:\t 9 Val Loss:\t 1.4143396611202212\n",
      "Epoch:\t 10 Val Loss:\t 1.4145211742320056\n",
      "Epoch:\t 11 Val Loss:\t 1.415168134709215\n",
      "Epoch:\t 12 Val Loss:\t 1.4140079772845209\n",
      "Epoch:\t 13 Val Loss:\t 1.413474223760958\n",
      "Epoch:\t 14 Val Loss:\t 1.4139858951736854\n",
      "Epoch:\t 15 Val Loss:\t 1.4136166775236152\n",
      "Epoch:\t 16 Val Loss:\t 1.4135869266323404\n"
     ]
    },
    {
     "name": "stderr",
     "output_type": "stream",
     "text": [
      "[I 2025-05-25 17:08:13,544] Trial 34 finished with value: 1.413101693297159 and parameters: {'lr': 0.001, 'weight_decay': 0.0001, 'scheduler_factor': 0.5, 'scheduler_patience': 20, 'batch_size': 64, 'dropout': 0.05, 'hidden_dims': 64}. Best is trial 1 with value: 1.4123869114750067.\n"
     ]
    },
    {
     "name": "stdout",
     "output_type": "stream",
     "text": [
      "Epoch:\t 17 Val Loss:\t 1.4149094574338643\n"
     ]
    },
    {
     "name": "stderr",
     "output_type": "stream",
     "text": [
      "[I 2025-05-25 17:08:20,055] Trial 35 pruned. \n"
     ]
    },
    {
     "name": "stdout",
     "output_type": "stream",
     "text": [
      "Epoch:\t 0 Val Loss:\t 2.156809085449794\n",
      "Epoch:\t 0 Val Loss:\t 1.4261427545624024\n"
     ]
    },
    {
     "name": "stderr",
     "output_type": "stream",
     "text": [
      "[I 2025-05-25 17:08:28,777] Trial 36 pruned. \n"
     ]
    },
    {
     "name": "stdout",
     "output_type": "stream",
     "text": [
      "Epoch:\t 1 Val Loss:\t 1.4187922892945537\n"
     ]
    },
    {
     "name": "stderr",
     "output_type": "stream",
     "text": [
      "[I 2025-05-25 17:08:35,189] Trial 37 pruned. \n"
     ]
    },
    {
     "name": "stdout",
     "output_type": "stream",
     "text": [
      "Epoch:\t 0 Val Loss:\t 2.1533258262403314\n",
      "Epoch:\t 0 Val Loss:\t 1.4178395140651137\n"
     ]
    },
    {
     "name": "stderr",
     "output_type": "stream",
     "text": [
      "[I 2025-05-25 17:09:13,122] Trial 38 pruned. \n"
     ]
    },
    {
     "name": "stdout",
     "output_type": "stream",
     "text": [
      "Epoch:\t 1 Val Loss:\t 1.4185824011829615\n"
     ]
    },
    {
     "name": "stderr",
     "output_type": "stream",
     "text": [
      "[I 2025-05-25 17:09:17,562] Trial 39 pruned. \n"
     ]
    },
    {
     "name": "stdout",
     "output_type": "stream",
     "text": [
      "Epoch:\t 0 Val Loss:\t 1.8253007725383459\n"
     ]
    },
    {
     "name": "stderr",
     "output_type": "stream",
     "text": [
      "[I 2025-05-25 17:09:20,645] Trial 40 pruned. \n"
     ]
    },
    {
     "name": "stdout",
     "output_type": "stream",
     "text": [
      "Epoch:\t 0 Val Loss:\t 2.1739884557448015\n",
      "Epoch:\t 0 Val Loss:\t 1.4199968582167086\n",
      "Epoch:\t 1 Val Loss:\t 1.4151857659256544\n",
      "Epoch:\t 2 Val Loss:\t 1.4145317159850022\n",
      "Epoch:\t 3 Val Loss:\t 1.413924256801223\n",
      "Epoch:\t 4 Val Loss:\t 1.414096782756215\n",
      "Epoch:\t 5 Val Loss:\t 1.4148581500233128\n",
      "Epoch:\t 6 Val Loss:\t 1.4142460967410346\n",
      "Epoch:\t 7 Val Loss:\t 1.4131305361138216\n",
      "Epoch:\t 8 Val Loss:\t 1.413615650526504\n",
      "Epoch:\t 9 Val Loss:\t 1.4137930860496466\n",
      "Epoch:\t 10 Val Loss:\t 1.4144009986493524\n",
      "Epoch:\t 11 Val Loss:\t 1.4140533918175777\n",
      "Epoch:\t 12 Val Loss:\t 1.4136310789044035\n",
      "Epoch:\t 13 Val Loss:\t 1.4145112050086284\n",
      "Epoch:\t 14 Val Loss:\t 1.4138497707838045\n",
      "Epoch:\t 15 Val Loss:\t 1.4138201821204082\n",
      "Epoch:\t 16 Val Loss:\t 1.4138409766370807\n"
     ]
    },
    {
     "name": "stderr",
     "output_type": "stream",
     "text": [
      "[I 2025-05-25 17:11:15,886] Trial 41 finished with value: 1.4131305361138216 and parameters: {'lr': 0.001, 'weight_decay': 0.0001, 'scheduler_factor': 0.8, 'scheduler_patience': 20, 'batch_size': 64, 'dropout': 0.05, 'hidden_dims': 64}. Best is trial 1 with value: 1.4123869114750067.\n"
     ]
    },
    {
     "name": "stdout",
     "output_type": "stream",
     "text": [
      "Epoch:\t 17 Val Loss:\t 1.4133025164019135\n",
      "Epoch:\t 0 Val Loss:\t 1.4203825507435497\n",
      "Epoch:\t 1 Val Loss:\t 1.4141791959523964\n",
      "Epoch:\t 2 Val Loss:\t 1.4153410284253436\n",
      "Epoch:\t 3 Val Loss:\t 1.414078224250194\n",
      "Epoch:\t 4 Val Loss:\t 1.414478180402742\n",
      "Epoch:\t 5 Val Loss:\t 1.4136696019551231\n",
      "Epoch:\t 6 Val Loss:\t 1.413941885149756\n",
      "Epoch:\t 7 Val Loss:\t 1.4136213656894283\n",
      "Epoch:\t 8 Val Loss:\t 1.4134185695609955\n",
      "Epoch:\t 9 Val Loss:\t 1.413351901072737\n",
      "Epoch:\t 10 Val Loss:\t 1.4135496849619873\n",
      "Epoch:\t 11 Val Loss:\t 1.4142140859398922\n",
      "Epoch:\t 12 Val Loss:\t 1.4136545740324875\n",
      "Epoch:\t 13 Val Loss:\t 1.413845744148291\n",
      "Epoch:\t 14 Val Loss:\t 1.4142690171407717\n",
      "Epoch:\t 15 Val Loss:\t 1.413836463604723\n",
      "Epoch:\t 16 Val Loss:\t 1.4137186957246892\n",
      "Epoch:\t 17 Val Loss:\t 1.4137132328418893\n",
      "Epoch:\t 18 Val Loss:\t 1.4140439770560123\n"
     ]
    },
    {
     "name": "stderr",
     "output_type": "stream",
     "text": [
      "[I 2025-05-25 17:13:24,915] Trial 42 finished with value: 1.413351901072737 and parameters: {'lr': 0.001, 'weight_decay': 0.0001, 'scheduler_factor': 0.8, 'scheduler_patience': 20, 'batch_size': 64, 'dropout': 0.05, 'hidden_dims': 64}. Best is trial 1 with value: 1.4123869114750067.\n"
     ]
    },
    {
     "name": "stdout",
     "output_type": "stream",
     "text": [
      "Epoch:\t 19 Val Loss:\t 1.4141588902224898\n",
      "Epoch:\t 0 Val Loss:\t 1.4187408459119637\n",
      "Epoch:\t 1 Val Loss:\t 1.4159954013877998\n",
      "Epoch:\t 2 Val Loss:\t 1.4146489783488183\n",
      "Epoch:\t 3 Val Loss:\t 1.4136777355275159\n",
      "Epoch:\t 4 Val Loss:\t 1.4151685278991173\n",
      "Epoch:\t 5 Val Loss:\t 1.41554857428397\n",
      "Epoch:\t 6 Val Loss:\t 1.413985797664884\n",
      "Epoch:\t 7 Val Loss:\t 1.4139903931017388\n",
      "Epoch:\t 8 Val Loss:\t 1.4153071263358414\n",
      "Epoch:\t 9 Val Loss:\t 1.413430091277446\n",
      "Epoch:\t 10 Val Loss:\t 1.4142737217492454\n",
      "Epoch:\t 11 Val Loss:\t 1.4136413578616205\n",
      "Epoch:\t 12 Val Loss:\t 1.4136246390216525\n",
      "Epoch:\t 13 Val Loss:\t 1.4145003628902848\n",
      "Epoch:\t 14 Val Loss:\t 1.4138490233119239\n",
      "Epoch:\t 15 Val Loss:\t 1.4145222746475086\n",
      "Epoch:\t 16 Val Loss:\t 1.4136730300586704\n",
      "Epoch:\t 17 Val Loss:\t 1.413274600014461\n",
      "Epoch:\t 18 Val Loss:\t 1.4143988547940778\n",
      "Epoch:\t 19 Val Loss:\t 1.413826171168348\n",
      "Epoch:\t 20 Val Loss:\t 1.4137588318768939\n",
      "Epoch:\t 21 Val Loss:\t 1.413824557971266\n",
      "Epoch:\t 22 Val Loss:\t 1.4135819689789675\n",
      "Epoch:\t 23 Val Loss:\t 1.4133738945652794\n",
      "Epoch:\t 24 Val Loss:\t 1.4137563096492312\n",
      "Epoch:\t 25 Val Loss:\t 1.4144274626336484\n",
      "Epoch:\t 26 Val Loss:\t 1.4138881023540053\n"
     ]
    },
    {
     "name": "stderr",
     "output_type": "stream",
     "text": [
      "[I 2025-05-25 17:16:23,678] Trial 43 finished with value: 1.413274600014461 and parameters: {'lr': 0.001, 'weight_decay': 0.0001, 'scheduler_factor': 0.8, 'scheduler_patience': 20, 'batch_size': 64, 'dropout': 0.05, 'hidden_dims': 64}. Best is trial 1 with value: 1.4123869114750067.\n"
     ]
    },
    {
     "name": "stdout",
     "output_type": "stream",
     "text": [
      "Epoch:\t 27 Val Loss:\t 1.4148640785584377\n",
      "Epoch:\t 0 Val Loss:\t 1.4208181829766073\n"
     ]
    },
    {
     "name": "stderr",
     "output_type": "stream",
     "text": [
      "[I 2025-05-25 17:16:36,718] Trial 44 pruned. \n"
     ]
    },
    {
     "name": "stdout",
     "output_type": "stream",
     "text": [
      "Epoch:\t 1 Val Loss:\t 1.416582490409386\n",
      "Epoch:\t 0 Val Loss:\t 1.4352338608494737\n"
     ]
    },
    {
     "name": "stderr",
     "output_type": "stream",
     "text": [
      "[I 2025-05-25 17:16:49,198] Trial 45 pruned. \n"
     ]
    },
    {
     "name": "stdout",
     "output_type": "stream",
     "text": [
      "Epoch:\t 1 Val Loss:\t 1.4302297577249976\n"
     ]
    },
    {
     "name": "stderr",
     "output_type": "stream",
     "text": [
      "[I 2025-05-25 17:16:52,406] Trial 46 pruned. \n"
     ]
    },
    {
     "name": "stdout",
     "output_type": "stream",
     "text": [
      "Epoch:\t 0 Val Loss:\t 2.0919426714109073\n"
     ]
    },
    {
     "name": "stderr",
     "output_type": "stream",
     "text": [
      "[I 2025-05-25 17:16:58,921] Trial 47 pruned. \n"
     ]
    },
    {
     "name": "stdout",
     "output_type": "stream",
     "text": [
      "Epoch:\t 0 Val Loss:\t 1.4708516520314343\n"
     ]
    },
    {
     "name": "stderr",
     "output_type": "stream",
     "text": [
      "[I 2025-05-25 17:17:03,360] Trial 48 pruned. \n"
     ]
    },
    {
     "name": "stdout",
     "output_type": "stream",
     "text": [
      "Epoch:\t 0 Val Loss:\t 1.4567398458575742\n",
      "Epoch:\t 0 Val Loss:\t 1.4229940089069275\n"
     ]
    },
    {
     "name": "stderr",
     "output_type": "stream",
     "text": [
      "[I 2025-05-25 17:17:41,103] Trial 49 pruned. \n"
     ]
    },
    {
     "name": "stdout",
     "output_type": "stream",
     "text": [
      "Epoch:\t 1 Val Loss:\t 1.419723385919958\n",
      "Training model with best parameters on train+validation ...\n"
     ]
    },
    {
     "name": "stderr",
     "output_type": "stream",
     "text": [
      "100%|███████████████████████████████████████████████████████████████████████████████████████████████████████████████████████████████████████████████████| 401917/401917 [05:23<00:00, 1241.50it/s]\n",
      "100%|███████████████████████████████████████████████████████████████████████████████████████████████████████████████████████████████████████████████████| 401917/401917 [01:40<00:00, 3992.99it/s]\n"
     ]
    },
    {
     "name": "stdout",
     "output_type": "stream",
     "text": [
      "Getting test set predictions and saving results ...\n"
     ]
    },
    {
     "name": "stderr",
     "output_type": "stream",
     "text": [
      "100%|██████████████████████████████████████████████████████████████████████████████████████████████████████████████████████████████████████████████████████████| 305/305 [00:01<00:00, 231.32it/s]\n",
      "/home/victor/.local/lib/python3.12/site-packages/anndata/_core/anndata.py:1756: UserWarning: Observation names are not unique. To make them unique, call `.obs_names_make_unique`.\n",
      "  utils.warn_names_duplicates(\"obs\")\n"
     ]
    }
   ],
   "source": [
    "train_different_normalization(\n",
    "        adata_path=\"./data/normalization/sciplex_cpm_filt.h5ad\",\n",
    "        run_name=\"decoder_cpm_norm\",\n",
    "        res_savename=\"./results/decoder_cpm_norm_res.pkl\",\n",
    "        stats_savename=\"./results/decoder_cpm_norm_stats.pkl\"\n",
    "    )"
   ]
  },
  {
   "cell_type": "code",
   "execution_count": 7,
   "id": "4c6c4a60-be2e-421e-8ddd-fcf8309ad16a",
   "metadata": {},
   "outputs": [
    {
     "name": "stdout",
     "output_type": "stream",
     "text": [
      "Loading Datasets ...\n"
     ]
    },
    {
     "name": "stderr",
     "output_type": "stream",
     "text": [
      "100%|███████████████████████████████████████████████████████████████████████████████████████████████████████████████████████████████████████████████████| 401917/401917 [04:10<00:00, 1601.49it/s]\n",
      "100%|███████████████████████████████████████████████████████████████████████████████████████████████████████████████████████████████████████████████████| 401917/401917 [01:38<00:00, 4091.28it/s]\n",
      "[I 2025-05-25 17:35:09,288] A new study created in RDB with name: decoder_shiftedlog_norm\n"
     ]
    },
    {
     "name": "stdout",
     "output_type": "stream",
     "text": [
      "Optimizing Hyperparameters with Optuna ...\n",
      "Epoch:\t 0 Val Loss:\t 0.03341256287487948\n",
      "Epoch:\t 1 Val Loss:\t 0.03224644623696804\n",
      "Epoch:\t 2 Val Loss:\t 0.03173808655866281\n",
      "Epoch:\t 3 Val Loss:\t 0.031347049118717385\n",
      "Epoch:\t 4 Val Loss:\t 0.030973779588602365\n",
      "Epoch:\t 5 Val Loss:\t 0.030533561908259652\n",
      "Epoch:\t 6 Val Loss:\t 0.030096767799647293\n",
      "Epoch:\t 7 Val Loss:\t 0.029707511389849655\n",
      "Epoch:\t 8 Val Loss:\t 0.029377188120288864\n",
      "Epoch:\t 9 Val Loss:\t 0.02901600324623646\n",
      "Epoch:\t 10 Val Loss:\t 0.02879519412036494\n",
      "Epoch:\t 11 Val Loss:\t 0.02865175454251444\n",
      "Epoch:\t 12 Val Loss:\t 0.028494301075385316\n",
      "Epoch:\t 13 Val Loss:\t 0.02836490615938829\n",
      "Epoch:\t 14 Val Loss:\t 0.02828587248466214\n",
      "Epoch:\t 15 Val Loss:\t 0.028182722753890076\n",
      "Epoch:\t 16 Val Loss:\t 0.02814588278915338\n",
      "Epoch:\t 17 Val Loss:\t 0.028115542294080233\n",
      "Epoch:\t 18 Val Loss:\t 0.02803359156133086\n",
      "Epoch:\t 19 Val Loss:\t 0.02800974676271727\n",
      "Epoch:\t 20 Val Loss:\t 0.028027239905436707\n",
      "Epoch:\t 21 Val Loss:\t 0.028043611639948902\n",
      "Epoch:\t 22 Val Loss:\t 0.02793621497043076\n",
      "Epoch:\t 23 Val Loss:\t 0.027924414316845093\n",
      "Epoch:\t 24 Val Loss:\t 0.027950223738932533\n",
      "Epoch:\t 25 Val Loss:\t 0.027876780545069473\n",
      "Epoch:\t 26 Val Loss:\t 0.0278825279133592\n",
      "Epoch:\t 27 Val Loss:\t 0.027862424186619533\n",
      "Epoch:\t 28 Val Loss:\t 0.027910441902864402\n",
      "Epoch:\t 29 Val Loss:\t 0.0279051158696988\n",
      "Epoch:\t 30 Val Loss:\t 0.027845992320411843\n",
      "Epoch:\t 31 Val Loss:\t 0.027856083688628634\n",
      "Epoch:\t 32 Val Loss:\t 0.027824555856094866\n",
      "Epoch:\t 33 Val Loss:\t 0.027797193431154707\n",
      "Epoch:\t 34 Val Loss:\t 0.027849029551987863\n",
      "Epoch:\t 35 Val Loss:\t 0.027810123129193808\n",
      "Epoch:\t 36 Val Loss:\t 0.027838924061207526\n",
      "Epoch:\t 37 Val Loss:\t 0.027831199066863183\n",
      "Epoch:\t 38 Val Loss:\t 0.027798684349828594\n",
      "Epoch:\t 39 Val Loss:\t 0.027750434389882915\n",
      "Epoch:\t 40 Val Loss:\t 0.027738631005216258\n",
      "Epoch:\t 41 Val Loss:\t 0.02777172496296777\n",
      "Epoch:\t 42 Val Loss:\t 0.027743460784196088\n",
      "Epoch:\t 43 Val Loss:\t 0.027678636127298286\n",
      "Epoch:\t 44 Val Loss:\t 0.02774084774459865\n",
      "Epoch:\t 45 Val Loss:\t 0.027674378994912197\n",
      "Epoch:\t 46 Val Loss:\t 0.02768050106631598\n",
      "Epoch:\t 47 Val Loss:\t 0.0277527679069345\n",
      "Epoch:\t 48 Val Loss:\t 0.027728671010380006\n",
      "Epoch:\t 49 Val Loss:\t 0.027687319533426277\n",
      "Epoch:\t 50 Val Loss:\t 0.02769326204823336\n",
      "Epoch:\t 51 Val Loss:\t 0.02761778568435712\n",
      "Epoch:\t 52 Val Loss:\t 0.02763346077760508\n",
      "Epoch:\t 53 Val Loss:\t 0.027655643336115542\n",
      "Epoch:\t 54 Val Loss:\t 0.027640787740851904\n",
      "Epoch:\t 55 Val Loss:\t 0.02760754282499433\n",
      "Epoch:\t 56 Val Loss:\t 0.027625589101452536\n",
      "Epoch:\t 57 Val Loss:\t 0.027586537116833055\n",
      "Epoch:\t 58 Val Loss:\t 0.02760762778796567\n",
      "Epoch:\t 59 Val Loss:\t 0.02758902399965421\n",
      "Epoch:\t 60 Val Loss:\t 0.027621199511638408\n",
      "Epoch:\t 61 Val Loss:\t 0.02759322698356829\n",
      "Epoch:\t 62 Val Loss:\t 0.027533049302900337\n",
      "Epoch:\t 63 Val Loss:\t 0.027557319143960715\n",
      "Epoch:\t 64 Val Loss:\t 0.027518855150297908\n",
      "Epoch:\t 65 Val Loss:\t 0.027511146231000448\n",
      "Epoch:\t 66 Val Loss:\t 0.027540679601802703\n",
      "Epoch:\t 67 Val Loss:\t 0.02754705262121855\n",
      "Epoch:\t 68 Val Loss:\t 0.027504973377062193\n",
      "Epoch:\t 69 Val Loss:\t 0.02747024244170672\n",
      "Epoch:\t 70 Val Loss:\t 0.02746294104041969\n",
      "Epoch:\t 71 Val Loss:\t 0.02751258196506853\n",
      "Epoch:\t 72 Val Loss:\t 0.02746507168486954\n",
      "Epoch:\t 73 Val Loss:\t 0.0274848349248673\n",
      "Epoch:\t 74 Val Loss:\t 0.027441541008483557\n",
      "Epoch:\t 75 Val Loss:\t 0.02747353635297136\n",
      "Epoch:\t 76 Val Loss:\t 0.027449447547843217\n",
      "Epoch:\t 77 Val Loss:\t 0.027469807750638276\n",
      "Epoch:\t 78 Val Loss:\t 0.027404283811233436\n",
      "Epoch:\t 79 Val Loss:\t 0.02743666746632654\n",
      "Epoch:\t 80 Val Loss:\t 0.027417019446802676\n",
      "Epoch:\t 81 Val Loss:\t 0.027396906796136086\n",
      "Epoch:\t 82 Val Loss:\t 0.027370003222748397\n",
      "Epoch:\t 83 Val Loss:\t 0.02741425124467186\n",
      "Epoch:\t 84 Val Loss:\t 0.027379407376721742\n",
      "Epoch:\t 85 Val Loss:\t 0.027385202676680695\n",
      "Epoch:\t 86 Val Loss:\t 0.027392685012083345\n",
      "Epoch:\t 87 Val Loss:\t 0.027382423687977806\n",
      "Epoch:\t 88 Val Loss:\t 0.027351545954536396\n",
      "Epoch:\t 89 Val Loss:\t 0.027378226603438232\n",
      "Epoch:\t 90 Val Loss:\t 0.027363973576874978\n",
      "Epoch:\t 91 Val Loss:\t 0.027331123200403915\n",
      "Epoch:\t 92 Val Loss:\t 0.0273724341423661\n",
      "Epoch:\t 93 Val Loss:\t 0.027329887314385157\n",
      "Epoch:\t 94 Val Loss:\t 0.027341205722553552\n",
      "Epoch:\t 95 Val Loss:\t 0.02733913698859537\n",
      "Epoch:\t 96 Val Loss:\t 0.027303373435110908\n",
      "Epoch:\t 97 Val Loss:\t 0.027341594572188002\n",
      "Epoch:\t 98 Val Loss:\t 0.02729718780618197\n"
     ]
    },
    {
     "name": "stderr",
     "output_type": "stream",
     "text": [
      "[I 2025-05-25 17:40:23,818] Trial 0 finished with value: 0.02729718780618197 and parameters: {'lr': 0.0001, 'weight_decay': 1e-06, 'scheduler_factor': 0.5, 'scheduler_patience': 10, 'batch_size': 256, 'dropout': 0.2, 'hidden_dims': 512}. Best is trial 0 with value: 0.02729718780618197.\n"
     ]
    },
    {
     "name": "stdout",
     "output_type": "stream",
     "text": [
      "Epoch:\t 99 Val Loss:\t 0.02732675263831853\n",
      "Epoch:\t 0 Val Loss:\t 0.04743047939975227\n",
      "Epoch:\t 1 Val Loss:\t 0.04106908575609255\n",
      "Epoch:\t 2 Val Loss:\t 0.039406822811973614\n",
      "Epoch:\t 3 Val Loss:\t 0.03858604792798503\n",
      "Epoch:\t 4 Val Loss:\t 0.03797937295792765\n",
      "Epoch:\t 5 Val Loss:\t 0.03731913333026211\n",
      "Epoch:\t 6 Val Loss:\t 0.03671559391253259\n",
      "Epoch:\t 7 Val Loss:\t 0.0359603598666038\n",
      "Epoch:\t 8 Val Loss:\t 0.03529639713119351\n",
      "Epoch:\t 9 Val Loss:\t 0.03475828514244545\n",
      "Epoch:\t 10 Val Loss:\t 0.03428465583889385\n",
      "Epoch:\t 11 Val Loss:\t 0.03377931705865871\n",
      "Epoch:\t 12 Val Loss:\t 0.03335578072319827\n",
      "Epoch:\t 13 Val Loss:\t 0.03307157193712687\n",
      "Epoch:\t 14 Val Loss:\t 0.032817765406630395\n",
      "Epoch:\t 15 Val Loss:\t 0.03258981750336256\n",
      "Epoch:\t 16 Val Loss:\t 0.03221101306952883\n",
      "Epoch:\t 17 Val Loss:\t 0.03213235231215077\n",
      "Epoch:\t 18 Val Loss:\t 0.03190076004946978\n",
      "Epoch:\t 19 Val Loss:\t 0.0318130955853489\n",
      "Epoch:\t 20 Val Loss:\t 0.03172542318032029\n",
      "Epoch:\t 21 Val Loss:\t 0.031581766732981846\n",
      "Epoch:\t 22 Val Loss:\t 0.03150444322326976\n",
      "Epoch:\t 23 Val Loss:\t 0.031426459236928585\n",
      "Epoch:\t 24 Val Loss:\t 0.03133373663582829\n",
      "Epoch:\t 25 Val Loss:\t 0.031229998605448398\n",
      "Epoch:\t 26 Val Loss:\t 0.031186921566868288\n",
      "Epoch:\t 27 Val Loss:\t 0.031080390504571828\n",
      "Epoch:\t 28 Val Loss:\t 0.031037330471971828\n",
      "Epoch:\t 29 Val Loss:\t 0.030955987702905655\n",
      "Epoch:\t 30 Val Loss:\t 0.030843897676319603\n",
      "Epoch:\t 31 Val Loss:\t 0.03086525383577301\n",
      "Epoch:\t 32 Val Loss:\t 0.030722899108311913\n",
      "Epoch:\t 33 Val Loss:\t 0.030669514699741888\n",
      "Epoch:\t 34 Val Loss:\t 0.03065872487476033\n",
      "Epoch:\t 35 Val Loss:\t 0.0305600224173423\n",
      "Epoch:\t 36 Val Loss:\t 0.03054022401523437\n",
      "Epoch:\t 37 Val Loss:\t 0.03044465725664438\n",
      "Epoch:\t 38 Val Loss:\t 0.03042063633963633\n",
      "Epoch:\t 39 Val Loss:\t 0.03032790165974566\n",
      "Epoch:\t 40 Val Loss:\t 0.030306216568520134\n",
      "Epoch:\t 41 Val Loss:\t 0.03027140919005507\n",
      "Epoch:\t 42 Val Loss:\t 0.030181587241697654\n",
      "Epoch:\t 43 Val Loss:\t 0.03018858354018454\n",
      "Epoch:\t 44 Val Loss:\t 0.030109179641208336\n",
      "Epoch:\t 45 Val Loss:\t 0.030105153009008442\n",
      "Epoch:\t 46 Val Loss:\t 0.03000159052471192\n",
      "Epoch:\t 47 Val Loss:\t 0.029973672562387935\n",
      "Epoch:\t 48 Val Loss:\t 0.029919968723628915\n",
      "Epoch:\t 49 Val Loss:\t 0.029903636025459195\n",
      "Epoch:\t 50 Val Loss:\t 0.029921642266943407\n",
      "Epoch:\t 51 Val Loss:\t 0.029793131208558525\n",
      "Epoch:\t 52 Val Loss:\t 0.029744580621273522\n",
      "Epoch:\t 53 Val Loss:\t 0.029721881425902128\n",
      "Epoch:\t 54 Val Loss:\t 0.02968528571973643\n",
      "Epoch:\t 55 Val Loss:\t 0.029679096700028662\n",
      "Epoch:\t 56 Val Loss:\t 0.029610839778524533\n",
      "Epoch:\t 57 Val Loss:\t 0.029563631910238756\n",
      "Epoch:\t 58 Val Loss:\t 0.02958721261812347\n",
      "Epoch:\t 59 Val Loss:\t 0.029552501017888515\n",
      "Epoch:\t 60 Val Loss:\t 0.02951367890961576\n",
      "Epoch:\t 61 Val Loss:\t 0.029461780568976463\n",
      "Epoch:\t 62 Val Loss:\t 0.029441266070997542\n",
      "Epoch:\t 63 Val Loss:\t 0.02940531832914961\n",
      "Epoch:\t 64 Val Loss:\t 0.029385293868294114\n",
      "Epoch:\t 65 Val Loss:\t 0.029327625325054264\n",
      "Epoch:\t 66 Val Loss:\t 0.02931993320751726\n",
      "Epoch:\t 67 Val Loss:\t 0.02929206054962657\n",
      "Epoch:\t 68 Val Loss:\t 0.02928604419084556\n",
      "Epoch:\t 69 Val Loss:\t 0.02920757301367018\n",
      "Epoch:\t 70 Val Loss:\t 0.029228215256816504\n",
      "Epoch:\t 71 Val Loss:\t 0.029228783414413612\n",
      "Epoch:\t 72 Val Loss:\t 0.029200750012937364\n",
      "Epoch:\t 73 Val Loss:\t 0.029171412487784893\n",
      "Epoch:\t 74 Val Loss:\t 0.029150209645254846\n",
      "Epoch:\t 75 Val Loss:\t 0.029156438019694714\n",
      "Epoch:\t 76 Val Loss:\t 0.029143484829540812\n",
      "Epoch:\t 77 Val Loss:\t 0.029096087105990796\n",
      "Epoch:\t 78 Val Loss:\t 0.029095237659078156\n",
      "Epoch:\t 79 Val Loss:\t 0.029090537765866106\n",
      "Epoch:\t 80 Val Loss:\t 0.02903930393210575\n",
      "Epoch:\t 81 Val Loss:\t 0.02904742065799179\n",
      "Epoch:\t 82 Val Loss:\t 0.02903694309664959\n",
      "Epoch:\t 83 Val Loss:\t 0.029025152191089205\n",
      "Epoch:\t 84 Val Loss:\t 0.02899414100303026\n",
      "Epoch:\t 85 Val Loss:\t 0.029015128843091657\n",
      "Epoch:\t 86 Val Loss:\t 0.02895307568698691\n",
      "Epoch:\t 87 Val Loss:\t 0.028968206970065975\n",
      "Epoch:\t 88 Val Loss:\t 0.028929956146720708\n",
      "Epoch:\t 89 Val Loss:\t 0.028923767653217667\n",
      "Epoch:\t 90 Val Loss:\t 0.02894465885398667\n",
      "Epoch:\t 91 Val Loss:\t 0.028895201143564996\n",
      "Epoch:\t 92 Val Loss:\t 0.02892348038729274\n",
      "Epoch:\t 93 Val Loss:\t 0.0289186192482088\n",
      "Epoch:\t 94 Val Loss:\t 0.02890925607487057\n",
      "Epoch:\t 95 Val Loss:\t 0.02891986094486943\n",
      "Epoch:\t 96 Val Loss:\t 0.028917259203320906\n",
      "Epoch:\t 97 Val Loss:\t 0.02887683877808133\n",
      "Epoch:\t 98 Val Loss:\t 0.028873710616538078\n"
     ]
    },
    {
     "name": "stderr",
     "output_type": "stream",
     "text": [
      "[I 2025-05-25 17:47:34,227] Trial 1 finished with value: 0.028873710616538078 and parameters: {'lr': 1e-06, 'weight_decay': 0.0001, 'scheduler_factor': 0.5, 'scheduler_patience': 10, 'batch_size': 128, 'dropout': 0.2, 'hidden_dims': 1024}. Best is trial 0 with value: 0.02729718780618197.\n"
     ]
    },
    {
     "name": "stdout",
     "output_type": "stream",
     "text": [
      "Epoch:\t 99 Val Loss:\t 0.02889841872403461\n",
      "Epoch:\t 0 Val Loss:\t 0.05765436626896113\n",
      "Epoch:\t 1 Val Loss:\t 0.04462233086327513\n",
      "Epoch:\t 2 Val Loss:\t 0.04117125798770803\n",
      "Epoch:\t 3 Val Loss:\t 0.03976037409417854\n",
      "Epoch:\t 4 Val Loss:\t 0.039015339479178845\n",
      "Epoch:\t 5 Val Loss:\t 0.03841661495755694\n",
      "Epoch:\t 6 Val Loss:\t 0.03822240414385327\n",
      "Epoch:\t 7 Val Loss:\t 0.038286542961885314\n",
      "Epoch:\t 8 Val Loss:\t 0.03810926830033979\n",
      "Epoch:\t 9 Val Loss:\t 0.03752885301614214\n",
      "Epoch:\t 10 Val Loss:\t 0.03725713243958109\n",
      "Epoch:\t 11 Val Loss:\t 0.036870612734872736\n",
      "Epoch:\t 12 Val Loss:\t 0.036930752922603505\n",
      "Epoch:\t 13 Val Loss:\t 0.0365953904302242\n",
      "Epoch:\t 14 Val Loss:\t 0.03598611340568754\n",
      "Epoch:\t 15 Val Loss:\t 0.03578658822199744\n",
      "Epoch:\t 16 Val Loss:\t 0.035894139054304136\n",
      "Epoch:\t 17 Val Loss:\t 0.03570272271821876\n",
      "Epoch:\t 18 Val Loss:\t 0.03556317012973563\n",
      "Epoch:\t 19 Val Loss:\t 0.03569319374291954\n",
      "Epoch:\t 20 Val Loss:\t 0.03548816254881317\n",
      "Epoch:\t 21 Val Loss:\t 0.03533545672923386\n",
      "Epoch:\t 22 Val Loss:\t 0.035149316836842796\n",
      "Epoch:\t 23 Val Loss:\t 0.03517034786094525\n",
      "Epoch:\t 24 Val Loss:\t 0.03504029272911783\n",
      "Epoch:\t 25 Val Loss:\t 0.034796155944377\n",
      "Epoch:\t 26 Val Loss:\t 0.03473689898863465\n",
      "Epoch:\t 27 Val Loss:\t 0.034488459527193906\n",
      "Epoch:\t 28 Val Loss:\t 0.034515422995469135\n",
      "Epoch:\t 29 Val Loss:\t 0.034425744026122924\n",
      "Epoch:\t 30 Val Loss:\t 0.034350988803382866\n",
      "Epoch:\t 31 Val Loss:\t 0.034276279355427305\n",
      "Epoch:\t 32 Val Loss:\t 0.034503147933997946\n",
      "Epoch:\t 33 Val Loss:\t 0.03426877429899209\n",
      "Epoch:\t 34 Val Loss:\t 0.03405101267333499\n",
      "Epoch:\t 35 Val Loss:\t 0.034041706616719646\n",
      "Epoch:\t 36 Val Loss:\t 0.034138827246869494\n",
      "Epoch:\t 37 Val Loss:\t 0.03406765015276974\n",
      "Epoch:\t 38 Val Loss:\t 0.033891816081886066\n",
      "Epoch:\t 39 Val Loss:\t 0.03414633634811891\n",
      "Epoch:\t 40 Val Loss:\t 0.033949981319283194\n",
      "Epoch:\t 41 Val Loss:\t 0.03382690866703619\n",
      "Epoch:\t 42 Val Loss:\t 0.03352278368491567\n",
      "Epoch:\t 43 Val Loss:\t 0.03356158568454768\n",
      "Epoch:\t 44 Val Loss:\t 0.03382150125960429\n",
      "Epoch:\t 45 Val Loss:\t 0.033582033529011665\n",
      "Epoch:\t 46 Val Loss:\t 0.03374383789533843\n",
      "Epoch:\t 47 Val Loss:\t 0.03328606256457393\n",
      "Epoch:\t 48 Val Loss:\t 0.03370117693766205\n",
      "Epoch:\t 49 Val Loss:\t 0.03316440878432236\n",
      "Epoch:\t 50 Val Loss:\t 0.03338162111405858\n",
      "Epoch:\t 51 Val Loss:\t 0.0332792555991717\n",
      "Epoch:\t 52 Val Loss:\t 0.03318555838837174\n",
      "Epoch:\t 53 Val Loss:\t 0.033095811169318305\n",
      "Epoch:\t 54 Val Loss:\t 0.03320687154013074\n",
      "Epoch:\t 55 Val Loss:\t 0.03310093047444471\n",
      "Epoch:\t 56 Val Loss:\t 0.033024363381739606\n",
      "Epoch:\t 57 Val Loss:\t 0.0329874937469233\n",
      "Epoch:\t 58 Val Loss:\t 0.03294492328916499\n",
      "Epoch:\t 59 Val Loss:\t 0.0330425827874091\n",
      "Epoch:\t 60 Val Loss:\t 0.03303646522691708\n",
      "Epoch:\t 61 Val Loss:\t 0.032793531433972185\n",
      "Epoch:\t 62 Val Loss:\t 0.033006327838929955\n",
      "Epoch:\t 63 Val Loss:\t 0.03276330305632943\n",
      "Epoch:\t 64 Val Loss:\t 0.033075512688091856\n",
      "Epoch:\t 65 Val Loss:\t 0.03276626834858634\n",
      "Epoch:\t 66 Val Loss:\t 0.032562049855300805\n",
      "Epoch:\t 67 Val Loss:\t 0.03263468906686516\n",
      "Epoch:\t 68 Val Loss:\t 0.032504626615103595\n",
      "Epoch:\t 69 Val Loss:\t 0.03276520970992311\n",
      "Epoch:\t 70 Val Loss:\t 0.03245147558634649\n",
      "Epoch:\t 71 Val Loss:\t 0.032541365483271814\n",
      "Epoch:\t 72 Val Loss:\t 0.03260643949922555\n",
      "Epoch:\t 73 Val Loss:\t 0.0328781150423274\n",
      "Epoch:\t 74 Val Loss:\t 0.03266304260593856\n",
      "Epoch:\t 75 Val Loss:\t 0.03245511005272368\n",
      "Epoch:\t 76 Val Loss:\t 0.03251670098794486\n",
      "Epoch:\t 77 Val Loss:\t 0.03267930260820236\n",
      "Epoch:\t 78 Val Loss:\t 0.03233104594544562\n",
      "Epoch:\t 79 Val Loss:\t 0.03269583755331431\n",
      "Epoch:\t 80 Val Loss:\t 0.0324400620001232\n",
      "Epoch:\t 81 Val Loss:\t 0.03240467249331828\n",
      "Epoch:\t 82 Val Loss:\t 0.03230705456229632\n",
      "Epoch:\t 83 Val Loss:\t 0.03255516154717706\n",
      "Epoch:\t 84 Val Loss:\t 0.03232344570000449\n",
      "Epoch:\t 85 Val Loss:\t 0.032082740404831625\n",
      "Epoch:\t 86 Val Loss:\t 0.032186389079910956\n",
      "Epoch:\t 87 Val Loss:\t 0.032103835017922404\n",
      "Epoch:\t 88 Val Loss:\t 0.03206121808362151\n",
      "Epoch:\t 89 Val Loss:\t 0.03207380012469086\n",
      "Epoch:\t 90 Val Loss:\t 0.03204938570832561\n",
      "Epoch:\t 91 Val Loss:\t 0.032036391616554444\n",
      "Epoch:\t 92 Val Loss:\t 0.03197621409753282\n",
      "Epoch:\t 93 Val Loss:\t 0.032041551743844945\n",
      "Epoch:\t 94 Val Loss:\t 0.031947247484672765\n",
      "Epoch:\t 95 Val Loss:\t 0.03190230410807357\n",
      "Epoch:\t 96 Val Loss:\t 0.03217193495429948\n",
      "Epoch:\t 97 Val Loss:\t 0.03176199903633289\n",
      "Epoch:\t 98 Val Loss:\t 0.03192418318518059\n"
     ]
    },
    {
     "name": "stderr",
     "output_type": "stream",
     "text": [
      "[I 2025-05-25 18:05:28,899] Trial 2 finished with value: 0.03176199903633289 and parameters: {'lr': 1e-06, 'weight_decay': 1e-05, 'scheduler_factor': 0.3, 'scheduler_patience': 20, 'batch_size': 32, 'dropout': 0.2, 'hidden_dims': 128}. Best is trial 0 with value: 0.02729718780618197.\n"
     ]
    },
    {
     "name": "stdout",
     "output_type": "stream",
     "text": [
      "Epoch:\t 99 Val Loss:\t 0.03194454974142129\n",
      "Epoch:\t 0 Val Loss:\t 0.04070303222101055\n",
      "Epoch:\t 1 Val Loss:\t 0.03748748013395107\n",
      "Epoch:\t 2 Val Loss:\t 0.03606998148656083\n",
      "Epoch:\t 3 Val Loss:\t 0.03476103460248224\n",
      "Epoch:\t 4 Val Loss:\t 0.03377195311213782\n",
      "Epoch:\t 5 Val Loss:\t 0.03306734329593444\n",
      "Epoch:\t 6 Val Loss:\t 0.0326845650719796\n",
      "Epoch:\t 7 Val Loss:\t 0.032102502583113604\n",
      "Epoch:\t 8 Val Loss:\t 0.03136770111137258\n",
      "Epoch:\t 9 Val Loss:\t 0.031076429200494936\n",
      "Epoch:\t 10 Val Loss:\t 0.03081494344021371\n",
      "Epoch:\t 11 Val Loss:\t 0.030646892794536685\n",
      "Epoch:\t 12 Val Loss:\t 0.0301863644593106\n",
      "Epoch:\t 13 Val Loss:\t 0.030111777411404257\n",
      "Epoch:\t 14 Val Loss:\t 0.02988527767763348\n",
      "Epoch:\t 15 Val Loss:\t 0.02974347619336091\n",
      "Epoch:\t 16 Val Loss:\t 0.029501469554995486\n",
      "Epoch:\t 17 Val Loss:\t 0.029367816685614938\n",
      "Epoch:\t 18 Val Loss:\t 0.02924902624336775\n",
      "Epoch:\t 19 Val Loss:\t 0.029143520900027784\n",
      "Epoch:\t 20 Val Loss:\t 0.029044016795550177\n",
      "Epoch:\t 21 Val Loss:\t 0.028924374036744745\n",
      "Epoch:\t 22 Val Loss:\t 0.02890054510088865\n",
      "Epoch:\t 23 Val Loss:\t 0.028859544275160545\n",
      "Epoch:\t 24 Val Loss:\t 0.028792183010844526\n",
      "Epoch:\t 25 Val Loss:\t 0.028771608638649953\n",
      "Epoch:\t 26 Val Loss:\t 0.028650274853369517\n",
      "Epoch:\t 27 Val Loss:\t 0.028608363450230483\n",
      "Epoch:\t 28 Val Loss:\t 0.028529968760713547\n",
      "Epoch:\t 29 Val Loss:\t 0.028472738021719672\n",
      "Epoch:\t 30 Val Loss:\t 0.02848607981372214\n",
      "Epoch:\t 31 Val Loss:\t 0.02841817121542169\n",
      "Epoch:\t 32 Val Loss:\t 0.028342149155083783\n",
      "Epoch:\t 33 Val Loss:\t 0.02831928373906082\n",
      "Epoch:\t 34 Val Loss:\t 0.0282931235799928\n",
      "Epoch:\t 35 Val Loss:\t 0.028219742905759144\n",
      "Epoch:\t 36 Val Loss:\t 0.028225455941531606\n",
      "Epoch:\t 37 Val Loss:\t 0.028205782538634504\n",
      "Epoch:\t 38 Val Loss:\t 0.028166957914022978\n",
      "Epoch:\t 39 Val Loss:\t 0.028175952522931452\n",
      "Epoch:\t 40 Val Loss:\t 0.028097579728266996\n",
      "Epoch:\t 41 Val Loss:\t 0.028121026491891885\n",
      "Epoch:\t 42 Val Loss:\t 0.028100466876027578\n",
      "Epoch:\t 43 Val Loss:\t 0.02805143835952502\n",
      "Epoch:\t 44 Val Loss:\t 0.028018185405251018\n",
      "Epoch:\t 45 Val Loss:\t 0.027986645900116177\n",
      "Epoch:\t 46 Val Loss:\t 0.027975756345775895\n",
      "Epoch:\t 47 Val Loss:\t 0.027988995987182866\n",
      "Epoch:\t 48 Val Loss:\t 0.027940134562268286\n",
      "Epoch:\t 49 Val Loss:\t 0.027918609599013607\n",
      "Epoch:\t 50 Val Loss:\t 0.02789647241080094\n",
      "Epoch:\t 51 Val Loss:\t 0.0278887715175718\n",
      "Epoch:\t 52 Val Loss:\t 0.02786910461638877\n",
      "Epoch:\t 53 Val Loss:\t 0.027844213842897713\n",
      "Epoch:\t 54 Val Loss:\t 0.027856642880546068\n",
      "Epoch:\t 55 Val Loss:\t 0.027818749030540605\n",
      "Epoch:\t 56 Val Loss:\t 0.027807835396939144\n",
      "Epoch:\t 57 Val Loss:\t 0.02779408001783257\n",
      "Epoch:\t 58 Val Loss:\t 0.027809315384598916\n",
      "Epoch:\t 59 Val Loss:\t 0.027772780612320126\n",
      "Epoch:\t 60 Val Loss:\t 0.02778200325826724\n",
      "Epoch:\t 61 Val Loss:\t 0.027760766896014224\n",
      "Epoch:\t 62 Val Loss:\t 0.027750318104733447\n",
      "Epoch:\t 63 Val Loss:\t 0.027750910858144025\n",
      "Epoch:\t 64 Val Loss:\t 0.02770576681157869\n",
      "Epoch:\t 65 Val Loss:\t 0.027736112254416058\n",
      "Epoch:\t 66 Val Loss:\t 0.027696376228201126\n",
      "Epoch:\t 67 Val Loss:\t 0.027685385755821315\n",
      "Epoch:\t 68 Val Loss:\t 0.027681508865618036\n",
      "Epoch:\t 69 Val Loss:\t 0.02769335608235103\n",
      "Epoch:\t 70 Val Loss:\t 0.027664859925129848\n",
      "Epoch:\t 71 Val Loss:\t 0.027651318105941784\n",
      "Epoch:\t 72 Val Loss:\t 0.02762246320177176\n",
      "Epoch:\t 73 Val Loss:\t 0.027619226861424102\n",
      "Epoch:\t 74 Val Loss:\t 0.027627421750543352\n",
      "Epoch:\t 75 Val Loss:\t 0.02760245880571181\n",
      "Epoch:\t 76 Val Loss:\t 0.027614722896613673\n",
      "Epoch:\t 77 Val Loss:\t 0.027586834992698296\n",
      "Epoch:\t 78 Val Loss:\t 0.02759243353215869\n",
      "Epoch:\t 79 Val Loss:\t 0.027583363918748074\n",
      "Epoch:\t 80 Val Loss:\t 0.027577025848692788\n",
      "Epoch:\t 81 Val Loss:\t 0.027555042556029762\n",
      "Epoch:\t 82 Val Loss:\t 0.02755636888554316\n",
      "Epoch:\t 83 Val Loss:\t 0.027555195996929745\n",
      "Epoch:\t 84 Val Loss:\t 0.02755349218576609\n",
      "Epoch:\t 85 Val Loss:\t 0.027562557779745252\n",
      "Epoch:\t 86 Val Loss:\t 0.027517675025340072\n",
      "Epoch:\t 87 Val Loss:\t 0.027524264422590605\n",
      "Epoch:\t 88 Val Loss:\t 0.02750996104880182\n",
      "Epoch:\t 89 Val Loss:\t 0.027545733375844355\n",
      "Epoch:\t 90 Val Loss:\t 0.027507047173016535\n",
      "Epoch:\t 91 Val Loss:\t 0.02750981077701152\n",
      "Epoch:\t 92 Val Loss:\t 0.027479545759384282\n",
      "Epoch:\t 93 Val Loss:\t 0.02751507658160521\n",
      "Epoch:\t 94 Val Loss:\t 0.02748793528708284\n",
      "Epoch:\t 95 Val Loss:\t 0.027481764099581207\n",
      "Epoch:\t 96 Val Loss:\t 0.027463164924828705\n",
      "Epoch:\t 97 Val Loss:\t 0.027478557724304093\n",
      "Epoch:\t 98 Val Loss:\t 0.027460785728985658\n"
     ]
    },
    {
     "name": "stderr",
     "output_type": "stream",
     "text": [
      "[I 2025-05-25 18:23:33,723] Trial 3 finished with value: 0.027460785728985658 and parameters: {'lr': 1e-05, 'weight_decay': 1e-05, 'scheduler_factor': 0.5, 'scheduler_patience': 10, 'batch_size': 32, 'dropout': 0.05, 'hidden_dims': 128}. Best is trial 0 with value: 0.02729718780618197.\n"
     ]
    },
    {
     "name": "stdout",
     "output_type": "stream",
     "text": [
      "Epoch:\t 99 Val Loss:\t 0.027463936154732485\n",
      "Epoch:\t 0 Val Loss:\t 0.0341308517454323\n",
      "Epoch:\t 1 Val Loss:\t 0.03316156460639172\n",
      "Epoch:\t 2 Val Loss:\t 0.03240824304968925\n",
      "Epoch:\t 3 Val Loss:\t 0.03199331669472389\n",
      "Epoch:\t 4 Val Loss:\t 0.03175830311977691\n",
      "Epoch:\t 5 Val Loss:\t 0.031636264110986086\n",
      "Epoch:\t 6 Val Loss:\t 0.031268161554520224\n",
      "Epoch:\t 7 Val Loss:\t 0.03115990784476776\n",
      "Epoch:\t 8 Val Loss:\t 0.031204428387560625\n",
      "Epoch:\t 9 Val Loss:\t 0.03101835576240798\n",
      "Epoch:\t 10 Val Loss:\t 0.030972288028032716\n",
      "Epoch:\t 11 Val Loss:\t 0.030847408520470184\n",
      "Epoch:\t 12 Val Loss:\t 0.030688776173917163\n",
      "Epoch:\t 13 Val Loss:\t 0.030770157041571895\n",
      "Epoch:\t 14 Val Loss:\t 0.03056005000294843\n",
      "Epoch:\t 15 Val Loss:\t 0.030551726143322758\n",
      "Epoch:\t 16 Val Loss:\t 0.030416868223641324\n",
      "Epoch:\t 17 Val Loss:\t 0.030421392176695133\n",
      "Epoch:\t 18 Val Loss:\t 0.030370939528206454\n",
      "Epoch:\t 19 Val Loss:\t 0.03032420272355781\n",
      "Epoch:\t 20 Val Loss:\t 0.03034040839580192\n",
      "Epoch:\t 21 Val Loss:\t 0.030298923534301785\n",
      "Epoch:\t 22 Val Loss:\t 0.030212474754406728\n",
      "Epoch:\t 23 Val Loss:\t 0.030116494549085684\n",
      "Epoch:\t 24 Val Loss:\t 0.030196246591403533\n",
      "Epoch:\t 25 Val Loss:\t 0.03008171796807663\n",
      "Epoch:\t 26 Val Loss:\t 0.03019853027478126\n",
      "Epoch:\t 27 Val Loss:\t 0.030111503669220684\n",
      "Epoch:\t 28 Val Loss:\t 0.03006657118627481\n",
      "Epoch:\t 29 Val Loss:\t 0.03004548686124165\n",
      "Epoch:\t 30 Val Loss:\t 0.03006209888794252\n",
      "Epoch:\t 31 Val Loss:\t 0.02991842223132416\n",
      "Epoch:\t 32 Val Loss:\t 0.029925896950548266\n",
      "Epoch:\t 33 Val Loss:\t 0.029840217992824606\n",
      "Epoch:\t 34 Val Loss:\t 0.0300293009309462\n",
      "Epoch:\t 35 Val Loss:\t 0.029911312829024615\n",
      "Epoch:\t 36 Val Loss:\t 0.029841539078095208\n",
      "Epoch:\t 37 Val Loss:\t 0.029874903744225082\n",
      "Epoch:\t 38 Val Loss:\t 0.02982292457387983\n",
      "Epoch:\t 39 Val Loss:\t 0.02983957922496267\n",
      "Epoch:\t 40 Val Loss:\t 0.02974888538384552\n",
      "Epoch:\t 41 Val Loss:\t 0.029831059034850334\n",
      "Epoch:\t 42 Val Loss:\t 0.029799233445051653\n",
      "Epoch:\t 43 Val Loss:\t 0.029680540138436472\n",
      "Epoch:\t 44 Val Loss:\t 0.029853488810687355\n",
      "Epoch:\t 45 Val Loss:\t 0.0298311089665038\n",
      "Epoch:\t 46 Val Loss:\t 0.02981092694581773\n",
      "Epoch:\t 47 Val Loss:\t 0.029768909780938196\n",
      "Epoch:\t 48 Val Loss:\t 0.029776184400720843\n",
      "Epoch:\t 49 Val Loss:\t 0.02962784408221286\n",
      "Epoch:\t 50 Val Loss:\t 0.029694814482404124\n",
      "Epoch:\t 51 Val Loss:\t 0.029719580955351075\n",
      "Epoch:\t 52 Val Loss:\t 0.0296787192615466\n",
      "Epoch:\t 53 Val Loss:\t 0.029715396050364527\n",
      "Epoch:\t 54 Val Loss:\t 0.029856754913985838\n",
      "Epoch:\t 55 Val Loss:\t 0.029672344458727767\n",
      "Epoch:\t 56 Val Loss:\t 0.029670304681660178\n",
      "Epoch:\t 57 Val Loss:\t 0.029763289100479873\n",
      "Epoch:\t 58 Val Loss:\t 0.029620659326941544\n",
      "Epoch:\t 59 Val Loss:\t 0.02977144551162812\n",
      "Epoch:\t 60 Val Loss:\t 0.029730214194535157\n",
      "Epoch:\t 61 Val Loss:\t 0.029761207657036742\n",
      "Epoch:\t 62 Val Loss:\t 0.029623916892152324\n",
      "Epoch:\t 63 Val Loss:\t 0.029680283867424318\n",
      "Epoch:\t 64 Val Loss:\t 0.029625159221233145\n",
      "Epoch:\t 65 Val Loss:\t 0.0296682571278345\n",
      "Epoch:\t 66 Val Loss:\t 0.029684475138843168\n",
      "Epoch:\t 67 Val Loss:\t 0.02967513105648239\n",
      "Epoch:\t 68 Val Loss:\t 0.02960699122340126\n",
      "Epoch:\t 69 Val Loss:\t 0.0297500795375558\n",
      "Epoch:\t 70 Val Loss:\t 0.029734856897841545\n",
      "Epoch:\t 71 Val Loss:\t 0.02966222400489491\n",
      "Epoch:\t 72 Val Loss:\t 0.029720413967134048\n",
      "Epoch:\t 73 Val Loss:\t 0.029619019748756865\n",
      "Epoch:\t 74 Val Loss:\t 0.029736695933189117\n",
      "Epoch:\t 75 Val Loss:\t 0.029620009927708673\n",
      "Epoch:\t 76 Val Loss:\t 0.029536082131474274\n",
      "Epoch:\t 77 Val Loss:\t 0.029725355194126574\n",
      "Epoch:\t 78 Val Loss:\t 0.029726269256537794\n",
      "Epoch:\t 79 Val Loss:\t 0.029674014509503455\n",
      "Epoch:\t 80 Val Loss:\t 0.029687050581829293\n",
      "Epoch:\t 81 Val Loss:\t 0.029724395572109156\n",
      "Epoch:\t 82 Val Loss:\t 0.02969449835297066\n",
      "Epoch:\t 83 Val Loss:\t 0.0297808359585892\n",
      "Epoch:\t 84 Val Loss:\t 0.02969324334066095\n",
      "Epoch:\t 85 Val Loss:\t 0.029652297797968692\n"
     ]
    },
    {
     "name": "stderr",
     "output_type": "stream",
     "text": [
      "[I 2025-05-25 18:51:03,541] Trial 4 finished with value: 0.029536082131474274 and parameters: {'lr': 1e-05, 'weight_decay': 1e-06, 'scheduler_factor': 0.8, 'scheduler_patience': 5, 'batch_size': 16, 'dropout': 0.15, 'hidden_dims': 256}. Best is trial 0 with value: 0.02729718780618197.\n"
     ]
    },
    {
     "name": "stdout",
     "output_type": "stream",
     "text": [
      "Epoch:\t 86 Val Loss:\t 0.0296810998093763\n",
      "Epoch:\t 0 Val Loss:\t 0.028325465790341408\n",
      "Epoch:\t 1 Val Loss:\t 0.02804417364347134\n",
      "Epoch:\t 2 Val Loss:\t 0.02783856898797362\n",
      "Epoch:\t 3 Val Loss:\t 0.02723000528975532\n",
      "Epoch:\t 4 Val Loss:\t 0.027138888435273838\n",
      "Epoch:\t 5 Val Loss:\t 0.027156488318145752\n",
      "Epoch:\t 6 Val Loss:\t 0.027099383169752255\n",
      "Epoch:\t 7 Val Loss:\t 0.02709038109544001\n",
      "Epoch:\t 8 Val Loss:\t 0.027077866951377396\n",
      "Epoch:\t 9 Val Loss:\t 0.02708951130294111\n",
      "Epoch:\t 10 Val Loss:\t 0.027088761147273103\n",
      "Epoch:\t 11 Val Loss:\t 0.027077528338634183\n",
      "Epoch:\t 12 Val Loss:\t 0.0271026718356971\n",
      "Epoch:\t 13 Val Loss:\t 0.027086914676939695\n",
      "Epoch:\t 14 Val Loss:\t 0.027085534029342773\n",
      "Epoch:\t 15 Val Loss:\t 0.027038749546577995\n",
      "Epoch:\t 16 Val Loss:\t 0.02705504812216491\n",
      "Epoch:\t 17 Val Loss:\t 0.02702892017378853\n",
      "Epoch:\t 18 Val Loss:\t 0.027037502007848952\n",
      "Epoch:\t 19 Val Loss:\t 0.0270331319134509\n",
      "Epoch:\t 20 Val Loss:\t 0.027022730663753627\n",
      "Epoch:\t 21 Val Loss:\t 0.027027145661951833\n",
      "Epoch:\t 22 Val Loss:\t 0.027029651152881917\n",
      "Epoch:\t 23 Val Loss:\t 0.027025340406005877\n",
      "Epoch:\t 24 Val Loss:\t 0.027017074166221566\n",
      "Epoch:\t 25 Val Loss:\t 0.027025969083126437\n",
      "Epoch:\t 26 Val Loss:\t 0.027022607768041173\n",
      "Epoch:\t 27 Val Loss:\t 0.02704009682502161\n",
      "Epoch:\t 28 Val Loss:\t 0.027032551393032456\n",
      "Epoch:\t 29 Val Loss:\t 0.02701436813747328\n",
      "Epoch:\t 30 Val Loss:\t 0.027029912030835594\n",
      "Epoch:\t 31 Val Loss:\t 0.02702743493104249\n",
      "Epoch:\t 32 Val Loss:\t 0.027032876441054895\n",
      "Epoch:\t 33 Val Loss:\t 0.027025376379274633\n",
      "Epoch:\t 34 Val Loss:\t 0.027037758559562614\n",
      "Epoch:\t 35 Val Loss:\t 0.027031677082946366\n",
      "Epoch:\t 36 Val Loss:\t 0.02701935607694795\n",
      "Epoch:\t 37 Val Loss:\t 0.02701826613354549\n",
      "Epoch:\t 38 Val Loss:\t 0.027020105975493192\n"
     ]
    },
    {
     "name": "stderr",
     "output_type": "stream",
     "text": [
      "[I 2025-05-25 18:53:55,610] Trial 5 finished with value: 0.02701436813747328 and parameters: {'lr': 0.001, 'weight_decay': 1e-05, 'scheduler_factor': 0.3, 'scheduler_patience': 5, 'batch_size': 128, 'dropout': 0.05, 'hidden_dims': 1024}. Best is trial 5 with value: 0.02701436813747328.\n"
     ]
    },
    {
     "name": "stdout",
     "output_type": "stream",
     "text": [
      "Epoch:\t 39 Val Loss:\t 0.02701545846058029\n"
     ]
    },
    {
     "name": "stderr",
     "output_type": "stream",
     "text": [
      "[I 2025-05-25 18:53:59,940] Trial 6 pruned. \n"
     ]
    },
    {
     "name": "stdout",
     "output_type": "stream",
     "text": [
      "Epoch:\t 0 Val Loss:\t 0.043185845639311486\n",
      "Epoch:\t 0 Val Loss:\t 0.02956619622248612\n",
      "Epoch:\t 1 Val Loss:\t 0.028934927687144587\n",
      "Epoch:\t 2 Val Loss:\t 0.028947020042239185\n",
      "Epoch:\t 3 Val Loss:\t 0.028668207892278034\n",
      "Epoch:\t 4 Val Loss:\t 0.02893347018674901\n",
      "Epoch:\t 5 Val Loss:\t 0.028845644001378103\n",
      "Epoch:\t 6 Val Loss:\t 0.028888396216170745\n",
      "Epoch:\t 7 Val Loss:\t 0.028699862183240596\n",
      "Epoch:\t 8 Val Loss:\t 0.02899995394182626\n",
      "Epoch:\t 9 Val Loss:\t 0.028839347357854223\n",
      "Epoch:\t 10 Val Loss:\t 0.029120151434889\n",
      "Epoch:\t 11 Val Loss:\t 0.02899671627289315\n",
      "Epoch:\t 12 Val Loss:\t 0.02903107947178101\n"
     ]
    },
    {
     "name": "stderr",
     "output_type": "stream",
     "text": [
      "[I 2025-05-25 18:55:00,087] Trial 7 finished with value: 0.028668207892278034 and parameters: {'lr': 0.001, 'weight_decay': 0.001, 'scheduler_factor': 0.8, 'scheduler_patience': 10, 'batch_size': 128, 'dropout': 0.1, 'hidden_dims': 1024}. Best is trial 5 with value: 0.02701436813747328.\n"
     ]
    },
    {
     "name": "stdout",
     "output_type": "stream",
     "text": [
      "Epoch:\t 13 Val Loss:\t 0.02872877431970634\n",
      "Epoch:\t 0 Val Loss:\t 0.03231697397192766\n",
      "Epoch:\t 1 Val Loss:\t 0.029229631922971396\n",
      "Epoch:\t 2 Val Loss:\t 0.02825285951304474\n",
      "Epoch:\t 3 Val Loss:\t 0.027631975327082385\n",
      "Epoch:\t 4 Val Loss:\t 0.0274110424101736\n",
      "Epoch:\t 5 Val Loss:\t 0.027312961673525753\n",
      "Epoch:\t 6 Val Loss:\t 0.027179000737486927\n",
      "Epoch:\t 7 Val Loss:\t 0.02718012729641709\n",
      "Epoch:\t 8 Val Loss:\t 0.02715945809217128\n",
      "Epoch:\t 9 Val Loss:\t 0.02713989459840623\n",
      "Epoch:\t 10 Val Loss:\t 0.02709638961018857\n",
      "Epoch:\t 11 Val Loss:\t 0.02705996255375373\n",
      "Epoch:\t 12 Val Loss:\t 0.02710001076604584\n",
      "Epoch:\t 13 Val Loss:\t 0.027065502958809447\n",
      "Epoch:\t 14 Val Loss:\t 0.027068902352088135\n",
      "Epoch:\t 15 Val Loss:\t 0.02704971902359912\n",
      "Epoch:\t 16 Val Loss:\t 0.027060175614006265\n",
      "Epoch:\t 17 Val Loss:\t 0.027060136540382623\n",
      "Epoch:\t 18 Val Loss:\t 0.02707657026324625\n",
      "Epoch:\t 19 Val Loss:\t 0.027068692046873438\n",
      "Epoch:\t 20 Val Loss:\t 0.02705638952122049\n",
      "Epoch:\t 21 Val Loss:\t 0.027070784677790293\n",
      "Epoch:\t 22 Val Loss:\t 0.02705552317561444\n",
      "Epoch:\t 23 Val Loss:\t 0.027053479991637625\n",
      "Epoch:\t 24 Val Loss:\t 0.027070016106081545\n"
     ]
    },
    {
     "name": "stderr",
     "output_type": "stream",
     "text": [
      "[I 2025-05-25 18:56:21,058] Trial 8 finished with value: 0.02704971902359912 and parameters: {'lr': 0.0001, 'weight_decay': 0.0001, 'scheduler_factor': 0.3, 'scheduler_patience': 10, 'batch_size': 256, 'dropout': 0.1, 'hidden_dims': 256}. Best is trial 5 with value: 0.02701436813747328.\n"
     ]
    },
    {
     "name": "stdout",
     "output_type": "stream",
     "text": [
      "Epoch:\t 25 Val Loss:\t 0.02705088839941086\n",
      "Epoch:\t 0 Val Loss:\t 0.03017322494840782\n",
      "Epoch:\t 1 Val Loss:\t 0.02969621374950849\n",
      "Epoch:\t 2 Val Loss:\t 0.02814854156659579\n",
      "Epoch:\t 3 Val Loss:\t 0.027663506050221883\n",
      "Epoch:\t 4 Val Loss:\t 0.027836656201637548\n",
      "Epoch:\t 5 Val Loss:\t 0.02853929832543371\n",
      "Epoch:\t 6 Val Loss:\t 0.028668713713547338\n",
      "Epoch:\t 7 Val Loss:\t 0.02865491023515203\n",
      "Epoch:\t 8 Val Loss:\t 0.028670962245702338\n",
      "Epoch:\t 9 Val Loss:\t 0.028699666294141443\n",
      "Epoch:\t 10 Val Loss:\t 0.028653297868903044\n",
      "Epoch:\t 11 Val Loss:\t 0.028631732269727473\n",
      "Epoch:\t 12 Val Loss:\t 0.02864390391198852\n"
     ]
    },
    {
     "name": "stderr",
     "output_type": "stream",
     "text": [
      "[I 2025-05-25 19:00:38,693] Trial 9 finished with value: 0.027663506050221883 and parameters: {'lr': 1e-05, 'weight_decay': 0.001, 'scheduler_factor': 0.3, 'scheduler_patience': 1, 'batch_size': 16, 'dropout': 0.05, 'hidden_dims': 256}. Best is trial 5 with value: 0.02701436813747328.\n"
     ]
    },
    {
     "name": "stdout",
     "output_type": "stream",
     "text": [
      "Epoch:\t 13 Val Loss:\t 0.028674761306228008\n",
      "Epoch:\t 0 Val Loss:\t 0.027414275708204282\n",
      "Epoch:\t 1 Val Loss:\t 0.027169931161649816\n",
      "Epoch:\t 2 Val Loss:\t 0.027159046042641834\n",
      "Epoch:\t 3 Val Loss:\t 0.027159883922269177\n",
      "Epoch:\t 4 Val Loss:\t 0.027117573833145326\n",
      "Epoch:\t 5 Val Loss:\t 0.027123387339849803\n",
      "Epoch:\t 6 Val Loss:\t 0.027108419461007012\n",
      "Epoch:\t 7 Val Loss:\t 0.02712338518443926\n",
      "Epoch:\t 8 Val Loss:\t 0.02711757428274933\n",
      "Epoch:\t 9 Val Loss:\t 0.027133151297341753\n",
      "Epoch:\t 10 Val Loss:\t 0.027110089466525444\n",
      "Epoch:\t 11 Val Loss:\t 0.027104697225327098\n",
      "Epoch:\t 12 Val Loss:\t 0.027137874075194406\n",
      "Epoch:\t 13 Val Loss:\t 0.02713692836379804\n",
      "Epoch:\t 14 Val Loss:\t 0.027095594578560773\n",
      "Epoch:\t 15 Val Loss:\t 0.02710112056574682\n",
      "Epoch:\t 16 Val Loss:\t 0.027117164686035422\n",
      "Epoch:\t 17 Val Loss:\t 0.02710635094801091\n",
      "Epoch:\t 18 Val Loss:\t 0.027108431574922136\n",
      "Epoch:\t 19 Val Loss:\t 0.027119170831039895\n",
      "Epoch:\t 20 Val Loss:\t 0.027097024739015648\n",
      "Epoch:\t 21 Val Loss:\t 0.027032107734677787\n",
      "Epoch:\t 22 Val Loss:\t 0.02704666095913508\n",
      "Epoch:\t 23 Val Loss:\t 0.027029062018587097\n",
      "Epoch:\t 24 Val Loss:\t 0.02703729797970226\n",
      "Epoch:\t 25 Val Loss:\t 0.027038998809234563\n",
      "Epoch:\t 26 Val Loss:\t 0.027039741795530967\n",
      "Epoch:\t 27 Val Loss:\t 0.027039676744852338\n",
      "Epoch:\t 28 Val Loss:\t 0.02704408539140951\n",
      "Epoch:\t 29 Val Loss:\t 0.027039557669995877\n",
      "Epoch:\t 30 Val Loss:\t 0.027037767564942097\n",
      "Epoch:\t 31 Val Loss:\t 0.027034358785404812\n",
      "Epoch:\t 32 Val Loss:\t 0.027036041971340883\n"
     ]
    },
    {
     "name": "stderr",
     "output_type": "stream",
     "text": [
      "[I 2025-05-25 19:04:11,092] Trial 10 finished with value: 0.027029062018587097 and parameters: {'lr': 0.001, 'weight_decay': 1e-05, 'scheduler_factor': 0.1, 'scheduler_patience': 5, 'batch_size': 64, 'dropout': 0.15, 'hidden_dims': 64}. Best is trial 5 with value: 0.02701436813747328.\n"
     ]
    },
    {
     "name": "stdout",
     "output_type": "stream",
     "text": [
      "Epoch:\t 33 Val Loss:\t 0.02704424086029088\n",
      "Epoch:\t 0 Val Loss:\t 0.027337366504461745\n",
      "Epoch:\t 1 Val Loss:\t 0.02717127642013975\n",
      "Epoch:\t 2 Val Loss:\t 0.027123108471847575\n",
      "Epoch:\t 3 Val Loss:\t 0.027120017759507908\n",
      "Epoch:\t 4 Val Loss:\t 0.027119452953816608\n",
      "Epoch:\t 5 Val Loss:\t 0.027152039767888995\n",
      "Epoch:\t 6 Val Loss:\t 0.02711235787107071\n",
      "Epoch:\t 7 Val Loss:\t 0.02711921645016219\n",
      "Epoch:\t 8 Val Loss:\t 0.027138926886446302\n",
      "Epoch:\t 9 Val Loss:\t 0.027121029871888608\n",
      "Epoch:\t 10 Val Loss:\t 0.02713829883297348\n",
      "Epoch:\t 11 Val Loss:\t 0.02710897136560276\n",
      "Epoch:\t 12 Val Loss:\t 0.027089615114206492\n",
      "Epoch:\t 13 Val Loss:\t 0.027133024607597585\n",
      "Epoch:\t 14 Val Loss:\t 0.027145011813559813\n",
      "Epoch:\t 15 Val Loss:\t 0.027126821994769543\n",
      "Epoch:\t 16 Val Loss:\t 0.027139498718507116\n",
      "Epoch:\t 17 Val Loss:\t 0.027115360901667867\n",
      "Epoch:\t 18 Val Loss:\t 0.02712003587511366\n",
      "Epoch:\t 19 Val Loss:\t 0.027035247757074922\n",
      "Epoch:\t 20 Val Loss:\t 0.027040332065836944\n",
      "Epoch:\t 21 Val Loss:\t 0.027037710214292132\n",
      "Epoch:\t 22 Val Loss:\t 0.027042652939617298\n",
      "Epoch:\t 23 Val Loss:\t 0.027045576944469258\n",
      "Epoch:\t 24 Val Loss:\t 0.027046641467830708\n",
      "Epoch:\t 25 Val Loss:\t 0.027033411507116096\n",
      "Epoch:\t 26 Val Loss:\t 0.027032242385848292\n",
      "Epoch:\t 27 Val Loss:\t 0.02703318356535582\n",
      "Epoch:\t 28 Val Loss:\t 0.02704849179890888\n",
      "Epoch:\t 29 Val Loss:\t 0.02703686122899784\n",
      "Epoch:\t 30 Val Loss:\t 0.027045616915908066\n",
      "Epoch:\t 31 Val Loss:\t 0.027038713531761335\n",
      "Epoch:\t 32 Val Loss:\t 0.027040933479152398\n",
      "Epoch:\t 33 Val Loss:\t 0.027036642279317596\n",
      "Epoch:\t 34 Val Loss:\t 0.02704634530575828\n",
      "Epoch:\t 35 Val Loss:\t 0.027039206659222662\n"
     ]
    },
    {
     "name": "stderr",
     "output_type": "stream",
     "text": [
      "[I 2025-05-25 19:08:02,191] Trial 11 finished with value: 0.027032242385848292 and parameters: {'lr': 0.001, 'weight_decay': 1e-05, 'scheduler_factor': 0.1, 'scheduler_patience': 5, 'batch_size': 64, 'dropout': 0.15, 'hidden_dims': 64}. Best is trial 5 with value: 0.02701436813747328.\n"
     ]
    },
    {
     "name": "stdout",
     "output_type": "stream",
     "text": [
      "Epoch:\t 36 Val Loss:\t 0.027039394707216582\n",
      "Epoch:\t 0 Val Loss:\t 0.02739963312756566\n",
      "Epoch:\t 1 Val Loss:\t 0.027123461762008517\n",
      "Epoch:\t 2 Val Loss:\t 0.027122661913502377\n",
      "Epoch:\t 3 Val Loss:\t 0.027125811163984305\n",
      "Epoch:\t 4 Val Loss:\t 0.02712320725925703\n",
      "Epoch:\t 5 Val Loss:\t 0.027096856730514367\n",
      "Epoch:\t 6 Val Loss:\t 0.027106147263954904\n",
      "Epoch:\t 7 Val Loss:\t 0.027103215763711316\n",
      "Epoch:\t 8 Val Loss:\t 0.027116163311871225\n",
      "Epoch:\t 9 Val Loss:\t 0.027114751988479683\n",
      "Epoch:\t 10 Val Loss:\t 0.027106986078639077\n",
      "Epoch:\t 11 Val Loss:\t 0.027132849033500734\n",
      "Epoch:\t 12 Val Loss:\t 0.02704274830645146\n",
      "Epoch:\t 13 Val Loss:\t 0.02703479428588149\n",
      "Epoch:\t 14 Val Loss:\t 0.02704124931326702\n",
      "Epoch:\t 15 Val Loss:\t 0.027041773282666635\n",
      "Epoch:\t 16 Val Loss:\t 0.027044103859528695\n",
      "Epoch:\t 17 Val Loss:\t 0.02704189300280193\n",
      "Epoch:\t 18 Val Loss:\t 0.027052181044708468\n",
      "Epoch:\t 19 Val Loss:\t 0.027048265645108704\n",
      "Epoch:\t 20 Val Loss:\t 0.02703967350053376\n",
      "Epoch:\t 21 Val Loss:\t 0.027035407548726992\n",
      "Epoch:\t 22 Val Loss:\t 0.027039584889709232\n"
     ]
    },
    {
     "name": "stderr",
     "output_type": "stream",
     "text": [
      "[I 2025-05-25 19:10:34,876] Trial 12 finished with value: 0.02703479428588149 and parameters: {'lr': 0.001, 'weight_decay': 1e-05, 'scheduler_factor': 0.1, 'scheduler_patience': 5, 'batch_size': 64, 'dropout': 0.15, 'hidden_dims': 64}. Best is trial 5 with value: 0.02701436813747328.\n"
     ]
    },
    {
     "name": "stdout",
     "output_type": "stream",
     "text": [
      "Epoch:\t 23 Val Loss:\t 0.027046883277111085\n",
      "Epoch:\t 0 Val Loss:\t 0.02806660207623277\n",
      "Epoch:\t 1 Val Loss:\t 0.027217705519728023\n",
      "Epoch:\t 2 Val Loss:\t 0.02715657506834151\n",
      "Epoch:\t 3 Val Loss:\t 0.027143444912246732\n",
      "Epoch:\t 4 Val Loss:\t 0.02712444304141314\n",
      "Epoch:\t 5 Val Loss:\t 0.027115582643075283\n",
      "Epoch:\t 6 Val Loss:\t 0.02715057708806961\n",
      "Epoch:\t 7 Val Loss:\t 0.027135333973905423\n",
      "Epoch:\t 8 Val Loss:\t 0.0270921856690715\n",
      "Epoch:\t 9 Val Loss:\t 0.027102941010855346\n",
      "Epoch:\t 10 Val Loss:\t 0.02710546634690993\n",
      "Epoch:\t 11 Val Loss:\t 0.027158541926022232\n",
      "Epoch:\t 12 Val Loss:\t 0.027123835318704652\n",
      "Epoch:\t 13 Val Loss:\t 0.02710303165460694\n",
      "Epoch:\t 14 Val Loss:\t 0.027111743355010067\n",
      "Epoch:\t 15 Val Loss:\t 0.027034540768972663\n",
      "Epoch:\t 16 Val Loss:\t 0.027043767494493803\n",
      "Epoch:\t 17 Val Loss:\t 0.02705542896161007\n",
      "Epoch:\t 18 Val Loss:\t 0.027031616894072692\n",
      "Epoch:\t 19 Val Loss:\t 0.02704321400358759\n",
      "Epoch:\t 20 Val Loss:\t 0.027044506724132188\n",
      "Epoch:\t 21 Val Loss:\t 0.027044909378123837\n",
      "Epoch:\t 22 Val Loss:\t 0.02703954644483285\n",
      "Epoch:\t 23 Val Loss:\t 0.0270432433921548\n",
      "Epoch:\t 24 Val Loss:\t 0.027047360720711892\n",
      "Epoch:\t 25 Val Loss:\t 0.02704215336832985\n",
      "Epoch:\t 26 Val Loss:\t 0.027043642382097895\n",
      "Epoch:\t 27 Val Loss:\t 0.02703647135660566\n"
     ]
    },
    {
     "name": "stderr",
     "output_type": "stream",
     "text": [
      "[I 2025-05-25 19:13:39,229] Trial 13 finished with value: 0.027031616894072692 and parameters: {'lr': 0.001, 'weight_decay': 1e-05, 'scheduler_factor': 0.1, 'scheduler_patience': 5, 'batch_size': 64, 'dropout': 0.05, 'hidden_dims': 1024}. Best is trial 5 with value: 0.02701436813747328.\n"
     ]
    },
    {
     "name": "stdout",
     "output_type": "stream",
     "text": [
      "Epoch:\t 28 Val Loss:\t 0.027035784545416535\n",
      "Epoch:\t 0 Val Loss:\t 0.02732495146967118\n",
      "Epoch:\t 1 Val Loss:\t 0.02717746182403855\n",
      "Epoch:\t 2 Val Loss:\t 0.02715966515033935\n",
      "Epoch:\t 3 Val Loss:\t 0.027159161992675797\n",
      "Epoch:\t 4 Val Loss:\t 0.027165865180558364\n",
      "Epoch:\t 5 Val Loss:\t 0.027044581628756323\n",
      "Epoch:\t 6 Val Loss:\t 0.027045743905886134\n",
      "Epoch:\t 7 Val Loss:\t 0.027055416062008217\n",
      "Epoch:\t 8 Val Loss:\t 0.027031809467980644\n",
      "Epoch:\t 9 Val Loss:\t 0.027037810774724676\n",
      "Epoch:\t 10 Val Loss:\t 0.02704399210081974\n",
      "Epoch:\t 11 Val Loss:\t 0.02704166641582846\n",
      "Epoch:\t 12 Val Loss:\t 0.027036477867648328\n",
      "Epoch:\t 13 Val Loss:\t 0.027041274813730524\n",
      "Epoch:\t 14 Val Loss:\t 0.027043945781151678\n",
      "Epoch:\t 15 Val Loss:\t 0.027036673546960665\n",
      "Epoch:\t 16 Val Loss:\t 0.02703906862780679\n",
      "Epoch:\t 17 Val Loss:\t 0.027039033999336465\n"
     ]
    },
    {
     "name": "stderr",
     "output_type": "stream",
     "text": [
      "[I 2025-05-25 19:15:39,456] Trial 14 finished with value: 0.027031809467980644 and parameters: {'lr': 0.001, 'weight_decay': 1e-05, 'scheduler_factor': 0.1, 'scheduler_patience': 1, 'batch_size': 64, 'dropout': 0.15, 'hidden_dims': 64}. Best is trial 5 with value: 0.02701436813747328.\n"
     ]
    },
    {
     "name": "stdout",
     "output_type": "stream",
     "text": [
      "Epoch:\t 18 Val Loss:\t 0.027037582568579323\n",
      "Epoch:\t 0 Val Loss:\t 0.02781629760900623\n",
      "Epoch:\t 1 Val Loss:\t 0.02744258397571252\n",
      "Epoch:\t 2 Val Loss:\t 0.027327350261553907\n",
      "Epoch:\t 3 Val Loss:\t 0.027144887312696604\n",
      "Epoch:\t 4 Val Loss:\t 0.02712299127018088\n",
      "Epoch:\t 5 Val Loss:\t 0.027115706318502058\n",
      "Epoch:\t 6 Val Loss:\t 0.02710702516927861\n",
      "Epoch:\t 7 Val Loss:\t 0.02708031236527437\n",
      "Epoch:\t 8 Val Loss:\t 0.02708954351504197\n",
      "Epoch:\t 9 Val Loss:\t 0.027106085585887705\n",
      "Epoch:\t 10 Val Loss:\t 0.0270796020606452\n",
      "Epoch:\t 11 Val Loss:\t 0.02705814739327465\n",
      "Epoch:\t 12 Val Loss:\t 0.0270788770880592\n",
      "Epoch:\t 13 Val Loss:\t 0.02709550690055372\n",
      "Epoch:\t 14 Val Loss:\t 0.027091957679553552\n",
      "Epoch:\t 15 Val Loss:\t 0.02708547989902106\n",
      "Epoch:\t 16 Val Loss:\t 0.027087944085869706\n",
      "Epoch:\t 17 Val Loss:\t 0.027082718618776213\n",
      "Epoch:\t 18 Val Loss:\t 0.027069166751150908\n",
      "Epoch:\t 19 Val Loss:\t 0.027071320830005702\n",
      "Epoch:\t 20 Val Loss:\t 0.02706410022180402\n",
      "Epoch:\t 21 Val Loss:\t 0.02705559754866754\n"
     ]
    },
    {
     "name": "stderr",
     "output_type": "stream",
     "text": [
      "[I 2025-05-25 19:17:17,181] Trial 15 pruned. \n"
     ]
    },
    {
     "name": "stdout",
     "output_type": "stream",
     "text": [
      "Epoch:\t 22 Val Loss:\t 0.027075287412080682\n",
      "Epoch:\t 0 Val Loss:\t 0.02802151964966928\n",
      "Epoch:\t 1 Val Loss:\t 0.02725319922382629\n",
      "Epoch:\t 2 Val Loss:\t 0.027161358085661863\n",
      "Epoch:\t 3 Val Loss:\t 0.027148696824717062\n",
      "Epoch:\t 4 Val Loss:\t 0.027139932456416615\n",
      "Epoch:\t 5 Val Loss:\t 0.027146767950359113\n",
      "Epoch:\t 6 Val Loss:\t 0.027115977183283093\n",
      "Epoch:\t 7 Val Loss:\t 0.02712243539972026\n",
      "Epoch:\t 8 Val Loss:\t 0.027129674794894747\n",
      "Epoch:\t 9 Val Loss:\t 0.027124574652902106\n",
      "Epoch:\t 10 Val Loss:\t 0.027117975599878583\n",
      "Epoch:\t 11 Val Loss:\t 0.027107352970441343\n",
      "Epoch:\t 12 Val Loss:\t 0.02710767367252753\n",
      "Epoch:\t 13 Val Loss:\t 0.02711483054520277\n",
      "Epoch:\t 14 Val Loss:\t 0.0271195905640088\n",
      "Epoch:\t 15 Val Loss:\t 0.02711895345721421\n",
      "Epoch:\t 16 Val Loss:\t 0.027114517864290963\n",
      "Epoch:\t 17 Val Loss:\t 0.027114041578308427\n",
      "Epoch:\t 18 Val Loss:\t 0.02702429090905113\n",
      "Epoch:\t 19 Val Loss:\t 0.027039660990787872\n",
      "Epoch:\t 20 Val Loss:\t 0.027040242842595007\n",
      "Epoch:\t 21 Val Loss:\t 0.027035402365584514\n",
      "Epoch:\t 22 Val Loss:\t 0.027044687806998334\n",
      "Epoch:\t 23 Val Loss:\t 0.027035160566760048\n",
      "Epoch:\t 24 Val Loss:\t 0.027051238181799914\n",
      "Epoch:\t 25 Val Loss:\t 0.027029850742008175\n",
      "Epoch:\t 26 Val Loss:\t 0.027032811768239465\n",
      "Epoch:\t 27 Val Loss:\t 0.027032043397988238\n"
     ]
    },
    {
     "name": "stderr",
     "output_type": "stream",
     "text": [
      "[I 2025-05-25 19:20:21,162] Trial 16 finished with value: 0.02702429090905113 and parameters: {'lr': 0.001, 'weight_decay': 1e-05, 'scheduler_factor': 0.1, 'scheduler_patience': 5, 'batch_size': 64, 'dropout': 0.15, 'hidden_dims': 1024}. Best is trial 5 with value: 0.02701436813747328.\n"
     ]
    },
    {
     "name": "stdout",
     "output_type": "stream",
     "text": [
      "Epoch:\t 28 Val Loss:\t 0.02703593465639241\n"
     ]
    },
    {
     "name": "stderr",
     "output_type": "stream",
     "text": [
      "[I 2025-05-25 19:20:25,344] Trial 17 pruned. \n"
     ]
    },
    {
     "name": "stdout",
     "output_type": "stream",
     "text": [
      "Epoch:\t 0 Val Loss:\t 0.031457103086249785\n",
      "Epoch:\t 0 Val Loss:\t 0.027787127657112234\n",
      "Epoch:\t 1 Val Loss:\t 0.027140669266362945\n",
      "Epoch:\t 2 Val Loss:\t 0.027101777185628076\n",
      "Epoch:\t 3 Val Loss:\t 0.027101646662355663\n",
      "Epoch:\t 4 Val Loss:\t 0.027131999286268662\n",
      "Epoch:\t 5 Val Loss:\t 0.027112362045563294\n",
      "Epoch:\t 6 Val Loss:\t 0.0270917565003784\n",
      "Epoch:\t 7 Val Loss:\t 0.02712485077445636\n",
      "Epoch:\t 8 Val Loss:\t 0.02711626057828476\n",
      "Epoch:\t 9 Val Loss:\t 0.0271359388875161\n",
      "Epoch:\t 10 Val Loss:\t 0.02708218239830109\n",
      "Epoch:\t 11 Val Loss:\t 0.02713224672990476\n",
      "Epoch:\t 12 Val Loss:\t 0.027092466513086895\n",
      "Epoch:\t 13 Val Loss:\t 0.02712413768073122\n",
      "Epoch:\t 14 Val Loss:\t 0.02709515678784054\n",
      "Epoch:\t 15 Val Loss:\t 0.02707207835240211\n",
      "Epoch:\t 16 Val Loss:\t 0.027103339151324395\n",
      "Epoch:\t 17 Val Loss:\t 0.027084469539906553\n",
      "Epoch:\t 18 Val Loss:\t 0.027093105808736567\n",
      "Epoch:\t 19 Val Loss:\t 0.027101874082743047\n",
      "Epoch:\t 20 Val Loss:\t 0.027112540555651297\n"
     ]
    },
    {
     "name": "stderr",
     "output_type": "stream",
     "text": [
      "[I 2025-05-25 19:24:19,219] Trial 18 pruned. \n"
     ]
    },
    {
     "name": "stdout",
     "output_type": "stream",
     "text": [
      "Epoch:\t 21 Val Loss:\t 0.02711187302618323\n"
     ]
    },
    {
     "name": "stderr",
     "output_type": "stream",
     "text": [
      "[I 2025-05-25 19:24:37,929] Trial 19 pruned. \n"
     ]
    },
    {
     "name": "stdout",
     "output_type": "stream",
     "text": [
      "Epoch:\t 0 Val Loss:\t 0.038827147257561506\n"
     ]
    },
    {
     "name": "stderr",
     "output_type": "stream",
     "text": [
      "[I 2025-05-25 19:24:41,188] Trial 20 pruned. \n"
     ]
    },
    {
     "name": "stdout",
     "output_type": "stream",
     "text": [
      "Epoch:\t 0 Val Loss:\t 0.029655914208657104\n",
      "Epoch:\t 0 Val Loss:\t 0.027497590545627625\n",
      "Epoch:\t 1 Val Loss:\t 0.027141865662507467\n",
      "Epoch:\t 2 Val Loss:\t 0.027133054783345226\n",
      "Epoch:\t 3 Val Loss:\t 0.02716074507077073\n",
      "Epoch:\t 4 Val Loss:\t 0.027151886614244176\n",
      "Epoch:\t 5 Val Loss:\t 0.027131365743594926\n",
      "Epoch:\t 6 Val Loss:\t 0.027172166936296697\n",
      "Epoch:\t 7 Val Loss:\t 0.027124972383655254\n",
      "Epoch:\t 8 Val Loss:\t 0.02711910378925783\n",
      "Epoch:\t 9 Val Loss:\t 0.027124478005966186\n",
      "Epoch:\t 10 Val Loss:\t 0.027092377303441526\n",
      "Epoch:\t 11 Val Loss:\t 0.02711320214224464\n",
      "Epoch:\t 12 Val Loss:\t 0.027144197229693294\n",
      "Epoch:\t 13 Val Loss:\t 0.02712943487215874\n",
      "Epoch:\t 14 Val Loss:\t 0.027135917897475846\n",
      "Epoch:\t 15 Val Loss:\t 0.027120186020444657\n",
      "Epoch:\t 16 Val Loss:\t 0.027126709377182513\n",
      "Epoch:\t 17 Val Loss:\t 0.027048983828499972\n",
      "Epoch:\t 18 Val Loss:\t 0.027033612530890615\n",
      "Epoch:\t 19 Val Loss:\t 0.027042843531384024\n",
      "Epoch:\t 20 Val Loss:\t 0.027039718041203933\n",
      "Epoch:\t 21 Val Loss:\t 0.02704608510304377\n",
      "Epoch:\t 22 Val Loss:\t 0.027059774391753444\n",
      "Epoch:\t 23 Val Loss:\t 0.027047905930539753\n",
      "Epoch:\t 24 Val Loss:\t 0.02704971274712034\n",
      "Epoch:\t 25 Val Loss:\t 0.02703412069543993\n",
      "Epoch:\t 26 Val Loss:\t 0.027039513299607618\n",
      "Epoch:\t 27 Val Loss:\t 0.027043748174965045\n"
     ]
    },
    {
     "name": "stderr",
     "output_type": "stream",
     "text": [
      "[I 2025-05-25 19:27:46,130] Trial 21 finished with value: 0.027033612530890615 and parameters: {'lr': 0.001, 'weight_decay': 1e-05, 'scheduler_factor': 0.1, 'scheduler_patience': 5, 'batch_size': 64, 'dropout': 0.15, 'hidden_dims': 64}. Best is trial 5 with value: 0.02701436813747328.\n"
     ]
    },
    {
     "name": "stdout",
     "output_type": "stream",
     "text": [
      "Epoch:\t 28 Val Loss:\t 0.02703933944625432\n",
      "Epoch:\t 0 Val Loss:\t 0.027362074139852855\n",
      "Epoch:\t 1 Val Loss:\t 0.027191481258012146\n",
      "Epoch:\t 2 Val Loss:\t 0.02714557668198656\n",
      "Epoch:\t 3 Val Loss:\t 0.027129940537746276\n",
      "Epoch:\t 4 Val Loss:\t 0.027121845834441154\n",
      "Epoch:\t 5 Val Loss:\t 0.02711927993693587\n",
      "Epoch:\t 6 Val Loss:\t 0.027172234048282708\n",
      "Epoch:\t 7 Val Loss:\t 0.027149914646612327\n",
      "Epoch:\t 8 Val Loss:\t 0.027148888406807552\n",
      "Epoch:\t 9 Val Loss:\t 0.027119598464193397\n",
      "Epoch:\t 10 Val Loss:\t 0.027139261288758078\n",
      "Epoch:\t 11 Val Loss:\t 0.027042282803496458\n",
      "Epoch:\t 12 Val Loss:\t 0.027056343695141358\n",
      "Epoch:\t 13 Val Loss:\t 0.027041537594572965\n",
      "Epoch:\t 14 Val Loss:\t 0.02704660692300764\n",
      "Epoch:\t 15 Val Loss:\t 0.027040726305810853\n",
      "Epoch:\t 16 Val Loss:\t 0.027056320102134032\n",
      "Epoch:\t 17 Val Loss:\t 0.027039765053949266\n",
      "Epoch:\t 18 Val Loss:\t 0.02703728037344855\n",
      "Epoch:\t 19 Val Loss:\t 0.027036395336186875\n",
      "Epoch:\t 20 Val Loss:\t 0.027038585467812244\n",
      "Epoch:\t 21 Val Loss:\t 0.02704160809875395\n",
      "Epoch:\t 22 Val Loss:\t 0.02704241331562149\n",
      "Epoch:\t 23 Val Loss:\t 0.02704345371869916\n",
      "Epoch:\t 24 Val Loss:\t 0.027041433284950907\n",
      "Epoch:\t 25 Val Loss:\t 0.027045764320297726\n",
      "Epoch:\t 26 Val Loss:\t 0.027051887774441178\n",
      "Epoch:\t 27 Val Loss:\t 0.0270505749471874\n",
      "Epoch:\t 28 Val Loss:\t 0.027039368129794655\n"
     ]
    },
    {
     "name": "stderr",
     "output_type": "stream",
     "text": [
      "[I 2025-05-25 19:30:56,301] Trial 22 finished with value: 0.027036395336186875 and parameters: {'lr': 0.001, 'weight_decay': 1e-05, 'scheduler_factor': 0.1, 'scheduler_patience': 5, 'batch_size': 64, 'dropout': 0.15, 'hidden_dims': 64}. Best is trial 5 with value: 0.02701436813747328.\n"
     ]
    },
    {
     "name": "stdout",
     "output_type": "stream",
     "text": [
      "Epoch:\t 29 Val Loss:\t 0.027049462895753773\n",
      "Epoch:\t 0 Val Loss:\t 0.027980648901286657\n",
      "Epoch:\t 1 Val Loss:\t 0.02732897627241342\n",
      "Epoch:\t 2 Val Loss:\t 0.027204373564627904\n",
      "Epoch:\t 3 Val Loss:\t 0.027178668589559\n",
      "Epoch:\t 4 Val Loss:\t 0.027145088689869274\n",
      "Epoch:\t 5 Val Loss:\t 0.02715813206641695\n",
      "Epoch:\t 6 Val Loss:\t 0.027143173907086576\n",
      "Epoch:\t 7 Val Loss:\t 0.027135920166407666\n",
      "Epoch:\t 8 Val Loss:\t 0.02712044431719669\n",
      "Epoch:\t 9 Val Loss:\t 0.027114166801238213\n",
      "Epoch:\t 10 Val Loss:\t 0.027144523972306333\n",
      "Epoch:\t 11 Val Loss:\t 0.027122569132264653\n",
      "Epoch:\t 12 Val Loss:\t 0.027107406634637232\n",
      "Epoch:\t 13 Val Loss:\t 0.0271154274490349\n",
      "Epoch:\t 14 Val Loss:\t 0.027124253045633113\n",
      "Epoch:\t 15 Val Loss:\t 0.027114558821572432\n",
      "Epoch:\t 16 Val Loss:\t 0.02713226868585051\n",
      "Epoch:\t 17 Val Loss:\t 0.027100393842866922\n"
     ]
    },
    {
     "name": "stderr",
     "output_type": "stream",
     "text": [
      "[I 2025-05-25 19:32:56,072] Trial 23 pruned. \n"
     ]
    },
    {
     "name": "stdout",
     "output_type": "stream",
     "text": [
      "Epoch:\t 18 Val Loss:\t 0.027119521438513837\n",
      "Epoch:\t 0 Val Loss:\t 0.027382674391748147\n",
      "Epoch:\t 1 Val Loss:\t 0.027201086288704907\n",
      "Epoch:\t 2 Val Loss:\t 0.02715728943831412\n",
      "Epoch:\t 3 Val Loss:\t 0.02714594874050059\n",
      "Epoch:\t 4 Val Loss:\t 0.02714930466990903\n",
      "Epoch:\t 5 Val Loss:\t 0.02712486282666158\n",
      "Epoch:\t 6 Val Loss:\t 0.027125246748148965\n",
      "Epoch:\t 7 Val Loss:\t 0.027134866333464288\n",
      "Epoch:\t 8 Val Loss:\t 0.02712747280776453\n",
      "Epoch:\t 9 Val Loss:\t 0.027096193527269573\n",
      "Epoch:\t 10 Val Loss:\t 0.027117505854812735\n",
      "Epoch:\t 11 Val Loss:\t 0.027116276661371744\n",
      "Epoch:\t 12 Val Loss:\t 0.027124977084332307\n",
      "Epoch:\t 13 Val Loss:\t 0.027092521109505472\n",
      "Epoch:\t 14 Val Loss:\t 0.027120339044137486\n",
      "Epoch:\t 15 Val Loss:\t 0.027096774671062432\n",
      "Epoch:\t 16 Val Loss:\t 0.027135643341788408\n",
      "Epoch:\t 17 Val Loss:\t 0.027133432107155287\n"
     ]
    },
    {
     "name": "stderr",
     "output_type": "stream",
     "text": [
      "[I 2025-05-25 19:34:56,568] Trial 24 pruned. \n"
     ]
    },
    {
     "name": "stdout",
     "output_type": "stream",
     "text": [
      "Epoch:\t 18 Val Loss:\t 0.027112508926065617\n",
      "Epoch:\t 0 Val Loss:\t 0.027820227658719925\n",
      "Epoch:\t 1 Val Loss:\t 0.027367153012135437\n",
      "Epoch:\t 2 Val Loss:\t 0.02726925073870208\n",
      "Epoch:\t 3 Val Loss:\t 0.027167460843801117\n",
      "Epoch:\t 4 Val Loss:\t 0.02715032080705629\n",
      "Epoch:\t 5 Val Loss:\t 0.02711926768406819\n",
      "Epoch:\t 6 Val Loss:\t 0.027128232924049395\n",
      "Epoch:\t 7 Val Loss:\t 0.027135638597856365\n",
      "Epoch:\t 8 Val Loss:\t 0.027087927955900877\n",
      "Epoch:\t 9 Val Loss:\t 0.02711159579551526\n",
      "Epoch:\t 10 Val Loss:\t 0.02710269160425204\n",
      "Epoch:\t 11 Val Loss:\t 0.02711484373739979\n",
      "Epoch:\t 12 Val Loss:\t 0.02712833397927579\n",
      "Epoch:\t 13 Val Loss:\t 0.02708655276169842\n",
      "Epoch:\t 14 Val Loss:\t 0.027102234547607972\n",
      "Epoch:\t 15 Val Loss:\t 0.027057554994382407\n",
      "Epoch:\t 16 Val Loss:\t 0.027045020615356116\n",
      "Epoch:\t 17 Val Loss:\t 0.02706298974445792\n",
      "Epoch:\t 18 Val Loss:\t 0.02704388749625767\n",
      "Epoch:\t 19 Val Loss:\t 0.02705332118700921\n",
      "Epoch:\t 20 Val Loss:\t 0.027039845445661254\n",
      "Epoch:\t 21 Val Loss:\t 0.027039368073328924\n",
      "Epoch:\t 22 Val Loss:\t 0.027027595483280875\n",
      "Epoch:\t 23 Val Loss:\t 0.027043901066958042\n",
      "Epoch:\t 24 Val Loss:\t 0.02704282577058381\n",
      "Epoch:\t 25 Val Loss:\t 0.027063365433705945\n",
      "Epoch:\t 26 Val Loss:\t 0.02704911393204623\n",
      "Epoch:\t 27 Val Loss:\t 0.027037944671597758\n",
      "Epoch:\t 28 Val Loss:\t 0.027034241416122328\n",
      "Epoch:\t 29 Val Loss:\t 0.02702625174177018\n",
      "Epoch:\t 30 Val Loss:\t 0.02701883234478306\n",
      "Epoch:\t 31 Val Loss:\t 0.027018914008169265\n",
      "Epoch:\t 32 Val Loss:\t 0.02702054421433859\n",
      "Epoch:\t 33 Val Loss:\t 0.02703088339280642\n",
      "Epoch:\t 34 Val Loss:\t 0.027033498720004316\n",
      "Epoch:\t 35 Val Loss:\t 0.02702327077703051\n",
      "Epoch:\t 36 Val Loss:\t 0.027031783445067046\n",
      "Epoch:\t 37 Val Loss:\t 0.027023608836660797\n",
      "Epoch:\t 38 Val Loss:\t 0.027017689565642114\n",
      "Epoch:\t 39 Val Loss:\t 0.027026025674053218\n",
      "Epoch:\t 40 Val Loss:\t 0.027024219897882132\n",
      "Epoch:\t 41 Val Loss:\t 0.027024418776361556\n",
      "Epoch:\t 42 Val Loss:\t 0.027027834003513163\n",
      "Epoch:\t 43 Val Loss:\t 0.02702556022205188\n",
      "Epoch:\t 44 Val Loss:\t 0.027022582701561347\n",
      "Epoch:\t 45 Val Loss:\t 0.027020895043402958\n",
      "Epoch:\t 46 Val Loss:\t 0.027024494818924518\n",
      "Epoch:\t 47 Val Loss:\t 0.02702291977156797\n"
     ]
    },
    {
     "name": "stderr",
     "output_type": "stream",
     "text": [
      "[I 2025-05-25 19:38:24,408] Trial 25 finished with value: 0.027017689565642114 and parameters: {'lr': 0.001, 'weight_decay': 1e-05, 'scheduler_factor': 0.3, 'scheduler_patience': 5, 'batch_size': 128, 'dropout': 0.15, 'hidden_dims': 512}. Best is trial 5 with value: 0.02701436813747328.\n"
     ]
    },
    {
     "name": "stdout",
     "output_type": "stream",
     "text": [
      "Epoch:\t 48 Val Loss:\t 0.02702487160542899\n",
      "Epoch:\t 0 Val Loss:\t 0.02742814655635464\n",
      "Epoch:\t 1 Val Loss:\t 0.027271196536157716\n",
      "Epoch:\t 2 Val Loss:\t 0.02719541514414941\n",
      "Epoch:\t 3 Val Loss:\t 0.027225573641363153\n"
     ]
    },
    {
     "name": "stderr",
     "output_type": "stream",
     "text": [
      "[I 2025-05-25 19:38:45,793] Trial 26 pruned. \n"
     ]
    },
    {
     "name": "stdout",
     "output_type": "stream",
     "text": [
      "Epoch:\t 4 Val Loss:\t 0.027187724533471402\n"
     ]
    },
    {
     "name": "stderr",
     "output_type": "stream",
     "text": [
      "[I 2025-05-25 19:38:50,171] Trial 27 pruned. \n"
     ]
    },
    {
     "name": "stdout",
     "output_type": "stream",
     "text": [
      "Epoch:\t 0 Val Loss:\t 0.03227661188279262\n"
     ]
    },
    {
     "name": "stderr",
     "output_type": "stream",
     "text": [
      "[I 2025-05-25 19:38:54,695] Trial 28 pruned. \n"
     ]
    },
    {
     "name": "stdout",
     "output_type": "stream",
     "text": [
      "Epoch:\t 0 Val Loss:\t 0.06258150887934201\n"
     ]
    },
    {
     "name": "stderr",
     "output_type": "stream",
     "text": [
      "[I 2025-05-25 19:38:57,888] Trial 29 pruned. \n"
     ]
    },
    {
     "name": "stdout",
     "output_type": "stream",
     "text": [
      "Epoch:\t 0 Val Loss:\t 0.03272004470444761\n"
     ]
    },
    {
     "name": "stderr",
     "output_type": "stream",
     "text": [
      "[I 2025-05-25 19:39:02,293] Trial 30 pruned. \n"
     ]
    },
    {
     "name": "stdout",
     "output_type": "stream",
     "text": [
      "Epoch:\t 0 Val Loss:\t 0.02967528242432478\n",
      "Epoch:\t 0 Val Loss:\t 0.027359773574431322\n",
      "Epoch:\t 1 Val Loss:\t 0.027171226496171166\n",
      "Epoch:\t 2 Val Loss:\t 0.027163690065109165\n",
      "Epoch:\t 3 Val Loss:\t 0.02713592643248337\n",
      "Epoch:\t 4 Val Loss:\t 0.02714456057694308\n",
      "Epoch:\t 5 Val Loss:\t 0.027100172383768998\n",
      "Epoch:\t 6 Val Loss:\t 0.027118360069554235\n",
      "Epoch:\t 7 Val Loss:\t 0.02713000729721885\n",
      "Epoch:\t 8 Val Loss:\t 0.027133508414364665\n",
      "Epoch:\t 9 Val Loss:\t 0.027107884151429392\n",
      "Epoch:\t 10 Val Loss:\t 0.02713001809518339\n",
      "Epoch:\t 11 Val Loss:\t 0.02712167181080594\n",
      "Epoch:\t 12 Val Loss:\t 0.027105393173485252\n",
      "Epoch:\t 13 Val Loss:\t 0.027103525148025016\n",
      "Epoch:\t 14 Val Loss:\t 0.027092094363610365\n",
      "Epoch:\t 15 Val Loss:\t 0.027107687640125597\n",
      "Epoch:\t 16 Val Loss:\t 0.02710900043899906\n"
     ]
    },
    {
     "name": "stderr",
     "output_type": "stream",
     "text": [
      "[I 2025-05-25 19:40:56,317] Trial 31 pruned. \n"
     ]
    },
    {
     "name": "stdout",
     "output_type": "stream",
     "text": [
      "Epoch:\t 17 Val Loss:\t 0.027098161197523642\n",
      "Epoch:\t 0 Val Loss:\t 0.02810011323643056\n"
     ]
    },
    {
     "name": "stderr",
     "output_type": "stream",
     "text": [
      "[I 2025-05-25 19:41:05,100] Trial 32 pruned. \n"
     ]
    },
    {
     "name": "stdout",
     "output_type": "stream",
     "text": [
      "Epoch:\t 1 Val Loss:\t 0.027731773271606593\n",
      "Epoch:\t 0 Val Loss:\t 0.02811739630041212\n",
      "Epoch:\t 1 Val Loss:\t 0.027382339981967867\n",
      "Epoch:\t 2 Val Loss:\t 0.02720590046910926\n",
      "Epoch:\t 3 Val Loss:\t 0.027184665001444848\n",
      "Epoch:\t 4 Val Loss:\t 0.027155186922708414\n"
     ]
    },
    {
     "name": "stderr",
     "output_type": "stream",
     "text": [
      "[I 2025-05-25 19:41:42,990] Trial 33 pruned. \n"
     ]
    },
    {
     "name": "stdout",
     "output_type": "stream",
     "text": [
      "Epoch:\t 5 Val Loss:\t 0.02716010961899685\n"
     ]
    },
    {
     "name": "stderr",
     "output_type": "stream",
     "text": [
      "[I 2025-05-25 19:41:53,419] Trial 34 pruned. \n"
     ]
    },
    {
     "name": "stdout",
     "output_type": "stream",
     "text": [
      "Epoch:\t 0 Val Loss:\t 0.05997178799254383\n",
      "Epoch:\t 0 Val Loss:\t 0.02810249656414909\n"
     ]
    },
    {
     "name": "stderr",
     "output_type": "stream",
     "text": [
      "[I 2025-05-25 19:42:01,814] Trial 35 pruned. \n"
     ]
    },
    {
     "name": "stdout",
     "output_type": "stream",
     "text": [
      "Epoch:\t 1 Val Loss:\t 0.02781178836634511\n"
     ]
    },
    {
     "name": "stderr",
     "output_type": "stream",
     "text": [
      "[I 2025-05-25 19:42:20,455] Trial 36 pruned. \n"
     ]
    },
    {
     "name": "stdout",
     "output_type": "stream",
     "text": [
      "Epoch:\t 0 Val Loss:\t 0.038125844414813724\n",
      "Epoch:\t 0 Val Loss:\t 0.027232655439384\n",
      "Epoch:\t 1 Val Loss:\t 0.027193761582603913\n",
      "Epoch:\t 2 Val Loss:\t 0.027150692381636653\n",
      "Epoch:\t 3 Val Loss:\t 0.02712378592747366\n",
      "Epoch:\t 4 Val Loss:\t 0.02712129168436379\n",
      "Epoch:\t 5 Val Loss:\t 0.02714674936790385\n",
      "Epoch:\t 6 Val Loss:\t 0.027135910214725622\n",
      "Epoch:\t 7 Val Loss:\t 0.02715451899087262\n",
      "Epoch:\t 8 Val Loss:\t 0.02714158083220761\n",
      "Epoch:\t 9 Val Loss:\t 0.02713110431625633\n",
      "Epoch:\t 10 Val Loss:\t 0.02713651404546234\n",
      "Epoch:\t 11 Val Loss:\t 0.027129969615974504\n",
      "Epoch:\t 12 Val Loss:\t 0.02712686196910236\n",
      "Epoch:\t 13 Val Loss:\t 0.02710582156981041\n",
      "Epoch:\t 14 Val Loss:\t 0.027097748920231878\n",
      "Epoch:\t 15 Val Loss:\t 0.027106109183124883\n",
      "Epoch:\t 16 Val Loss:\t 0.027099457102452585\n"
     ]
    },
    {
     "name": "stderr",
     "output_type": "stream",
     "text": [
      "[I 2025-05-25 19:45:31,854] Trial 37 pruned. \n"
     ]
    },
    {
     "name": "stdout",
     "output_type": "stream",
     "text": [
      "Epoch:\t 17 Val Loss:\t 0.027113071735761687\n"
     ]
    },
    {
     "name": "stderr",
     "output_type": "stream",
     "text": [
      "[I 2025-05-25 19:45:36,320] Trial 38 pruned. \n"
     ]
    },
    {
     "name": "stdout",
     "output_type": "stream",
     "text": [
      "Epoch:\t 0 Val Loss:\t 0.06367234673416824\n"
     ]
    },
    {
     "name": "stderr",
     "output_type": "stream",
     "text": [
      "[I 2025-05-25 19:45:39,533] Trial 39 pruned. \n"
     ]
    },
    {
     "name": "stdout",
     "output_type": "stream",
     "text": [
      "Epoch:\t 0 Val Loss:\t 0.046342039139420275\n",
      "Epoch:\t 0 Val Loss:\t 0.02789412094123285\n",
      "Epoch:\t 1 Val Loss:\t 0.027336292753015506\n",
      "Epoch:\t 2 Val Loss:\t 0.027214503190580996\n",
      "Epoch:\t 3 Val Loss:\t 0.02713027495350136\n",
      "Epoch:\t 4 Val Loss:\t 0.027159398106474254\n",
      "Epoch:\t 5 Val Loss:\t 0.02713367977024989\n",
      "Epoch:\t 6 Val Loss:\t 0.027124381362017672\n",
      "Epoch:\t 7 Val Loss:\t 0.027115303837808497\n",
      "Epoch:\t 8 Val Loss:\t 0.027132385951835057\n",
      "Epoch:\t 9 Val Loss:\t 0.02711895296877398\n",
      "Epoch:\t 10 Val Loss:\t 0.02714417436710576\n",
      "Epoch:\t 11 Val Loss:\t 0.02709852740670455\n",
      "Epoch:\t 12 Val Loss:\t 0.02710030576230625\n",
      "Epoch:\t 13 Val Loss:\t 0.02712583830901261\n",
      "Epoch:\t 14 Val Loss:\t 0.027116429223510964\n",
      "Epoch:\t 15 Val Loss:\t 0.0271036928667483\n",
      "Epoch:\t 16 Val Loss:\t 0.027113304329317574\n"
     ]
    },
    {
     "name": "stderr",
     "output_type": "stream",
     "text": [
      "[I 2025-05-25 19:47:33,639] Trial 40 pruned. \n"
     ]
    },
    {
     "name": "stdout",
     "output_type": "stream",
     "text": [
      "Epoch:\t 17 Val Loss:\t 0.027123162549798643\n"
     ]
    },
    {
     "name": "stderr",
     "output_type": "stream",
     "text": [
      "[I 2025-05-25 19:47:40,145] Trial 41 pruned. \n"
     ]
    },
    {
     "name": "stdout",
     "output_type": "stream",
     "text": [
      "Epoch:\t 0 Val Loss:\t 0.028295632069385235\n",
      "Epoch:\t 0 Val Loss:\t 0.028152388213583252\n",
      "Epoch:\t 1 Val Loss:\t 0.02727024531725319\n",
      "Epoch:\t 2 Val Loss:\t 0.02714447221855402\n",
      "Epoch:\t 3 Val Loss:\t 0.02712649227521041\n",
      "Epoch:\t 4 Val Loss:\t 0.02712180260075936\n",
      "Epoch:\t 5 Val Loss:\t 0.02709683350794489\n",
      "Epoch:\t 6 Val Loss:\t 0.02712267749579123\n",
      "Epoch:\t 7 Val Loss:\t 0.027114521755382072\n",
      "Epoch:\t 8 Val Loss:\t 0.027083780695687988\n",
      "Epoch:\t 9 Val Loss:\t 0.027102015613792607\n",
      "Epoch:\t 10 Val Loss:\t 0.02711694007373468\n",
      "Epoch:\t 11 Val Loss:\t 0.027108455012584555\n",
      "Epoch:\t 12 Val Loss:\t 0.027119975693900296\n",
      "Epoch:\t 13 Val Loss:\t 0.02710046053064185\n",
      "Epoch:\t 14 Val Loss:\t 0.027101990483766953\n",
      "Epoch:\t 15 Val Loss:\t 0.0270354937472244\n",
      "Epoch:\t 16 Val Loss:\t 0.027038930908574423\n",
      "Epoch:\t 17 Val Loss:\t 0.027039104165941023\n",
      "Epoch:\t 18 Val Loss:\t 0.027037540510440217\n",
      "Epoch:\t 19 Val Loss:\t 0.02703108312748821\n",
      "Epoch:\t 20 Val Loss:\t 0.027037657210312083\n",
      "Epoch:\t 21 Val Loss:\t 0.02704136388312126\n",
      "Epoch:\t 22 Val Loss:\t 0.027039377664088152\n",
      "Epoch:\t 23 Val Loss:\t 0.02704040276569276\n",
      "Epoch:\t 24 Val Loss:\t 0.027031755903862722\n",
      "Epoch:\t 25 Val Loss:\t 0.02704832699439625\n",
      "Epoch:\t 26 Val Loss:\t 0.027029161207802122\n",
      "Epoch:\t 27 Val Loss:\t 0.027035995638229508\n",
      "Epoch:\t 28 Val Loss:\t 0.027032053862857456\n",
      "Epoch:\t 29 Val Loss:\t 0.027031887984373806\n",
      "Epoch:\t 30 Val Loss:\t 0.0270262357645161\n",
      "Epoch:\t 31 Val Loss:\t 0.027029311118622064\n",
      "Epoch:\t 32 Val Loss:\t 0.02704017532133492\n",
      "Epoch:\t 33 Val Loss:\t 0.027036091763863776\n",
      "Epoch:\t 34 Val Loss:\t 0.02703677890964193\n",
      "Epoch:\t 35 Val Loss:\t 0.027036797990178527\n",
      "Epoch:\t 36 Val Loss:\t 0.027035421045809242\n",
      "Epoch:\t 37 Val Loss:\t 0.027037750799642053\n",
      "Epoch:\t 38 Val Loss:\t 0.027044714251480872\n",
      "Epoch:\t 39 Val Loss:\t 0.02703817485986276\n"
     ]
    },
    {
     "name": "stderr",
     "output_type": "stream",
     "text": [
      "[I 2025-05-25 19:52:01,914] Trial 42 finished with value: 0.0270262357645161 and parameters: {'lr': 0.001, 'weight_decay': 1e-05, 'scheduler_factor': 0.1, 'scheduler_patience': 5, 'batch_size': 64, 'dropout': 0.05, 'hidden_dims': 1024}. Best is trial 5 with value: 0.02701436813747328.\n"
     ]
    },
    {
     "name": "stdout",
     "output_type": "stream",
     "text": [
      "Epoch:\t 40 Val Loss:\t 0.027037430457537807\n",
      "Epoch:\t 0 Val Loss:\t 0.02812747577236668\n",
      "Epoch:\t 1 Val Loss:\t 0.027278994975586175\n",
      "Epoch:\t 2 Val Loss:\t 0.027147643457808394\n",
      "Epoch:\t 3 Val Loss:\t 0.027130157024313567\n",
      "Epoch:\t 4 Val Loss:\t 0.027137927325635122\n",
      "Epoch:\t 5 Val Loss:\t 0.02710356796197683\n",
      "Epoch:\t 6 Val Loss:\t 0.02711288269187989\n",
      "Epoch:\t 7 Val Loss:\t 0.0270865043802986\n",
      "Epoch:\t 8 Val Loss:\t 0.027123446339545675\n",
      "Epoch:\t 9 Val Loss:\t 0.02709510919892654\n",
      "Epoch:\t 10 Val Loss:\t 0.027099826278309872\n",
      "Epoch:\t 11 Val Loss:\t 0.027091477886320308\n",
      "Epoch:\t 12 Val Loss:\t 0.02710301577208419\n",
      "Epoch:\t 13 Val Loss:\t 0.027095422707348705\n",
      "Epoch:\t 14 Val Loss:\t 0.027026932205595582\n",
      "Epoch:\t 15 Val Loss:\t 0.027015739348332405\n",
      "Epoch:\t 16 Val Loss:\t 0.027018265782257224\n",
      "Epoch:\t 17 Val Loss:\t 0.02702575808192313\n",
      "Epoch:\t 18 Val Loss:\t 0.02703231498270438\n",
      "Epoch:\t 19 Val Loss:\t 0.02702842566312411\n",
      "Epoch:\t 20 Val Loss:\t 0.02703345250024639\n",
      "Epoch:\t 21 Val Loss:\t 0.027047556610636073\n",
      "Epoch:\t 22 Val Loss:\t 0.02702588464022161\n",
      "Epoch:\t 23 Val Loss:\t 0.027039040116042065\n",
      "Epoch:\t 24 Val Loss:\t 0.027022901826867507\n"
     ]
    },
    {
     "name": "stderr",
     "output_type": "stream",
     "text": [
      "[I 2025-05-25 19:54:47,431] Trial 43 finished with value: 0.027015739348332405 and parameters: {'lr': 0.001, 'weight_decay': 1e-05, 'scheduler_factor': 0.1, 'scheduler_patience': 5, 'batch_size': 64, 'dropout': 0.05, 'hidden_dims': 1024}. Best is trial 5 with value: 0.02701436813747328.\n"
     ]
    },
    {
     "name": "stdout",
     "output_type": "stream",
     "text": [
      "Epoch:\t 25 Val Loss:\t 0.02702576631520305\n",
      "Epoch:\t 0 Val Loss:\t 0.02803536999967687\n",
      "Epoch:\t 1 Val Loss:\t 0.027277350739397424\n",
      "Epoch:\t 2 Val Loss:\t 0.027147016511168017\n",
      "Epoch:\t 3 Val Loss:\t 0.027130776457637906\n",
      "Epoch:\t 4 Val Loss:\t 0.027149468022544285\n",
      "Epoch:\t 5 Val Loss:\t 0.027113978323058407\n",
      "Epoch:\t 6 Val Loss:\t 0.02711955261952225\n",
      "Epoch:\t 7 Val Loss:\t 0.027123096172713527\n",
      "Epoch:\t 8 Val Loss:\t 0.02708768848786855\n",
      "Epoch:\t 9 Val Loss:\t 0.02710874763757301\n",
      "Epoch:\t 10 Val Loss:\t 0.027102874382828462\n",
      "Epoch:\t 11 Val Loss:\t 0.027087116046377726\n",
      "Epoch:\t 12 Val Loss:\t 0.027101873549384026\n",
      "Epoch:\t 13 Val Loss:\t 0.027083555821989572\n",
      "Epoch:\t 14 Val Loss:\t 0.027106967752421485\n"
     ]
    },
    {
     "name": "stderr",
     "output_type": "stream",
     "text": [
      "[I 2025-05-25 19:56:29,277] Trial 44 pruned. \n"
     ]
    },
    {
     "name": "stdout",
     "output_type": "stream",
     "text": [
      "Epoch:\t 15 Val Loss:\t 0.027117390064604778\n"
     ]
    },
    {
     "name": "stderr",
     "output_type": "stream",
     "text": [
      "[I 2025-05-25 19:56:47,839] Trial 45 pruned. \n"
     ]
    },
    {
     "name": "stdout",
     "output_type": "stream",
     "text": [
      "Epoch:\t 0 Val Loss:\t 0.029401070585553118\n"
     ]
    },
    {
     "name": "stderr",
     "output_type": "stream",
     "text": [
      "[I 2025-05-25 19:56:54,195] Trial 46 pruned. \n"
     ]
    },
    {
     "name": "stdout",
     "output_type": "stream",
     "text": [
      "Epoch:\t 0 Val Loss:\t 0.0351607718526624\n"
     ]
    },
    {
     "name": "stderr",
     "output_type": "stream",
     "text": [
      "[I 2025-05-25 19:56:58,729] Trial 47 pruned. \n"
     ]
    },
    {
     "name": "stdout",
     "output_type": "stream",
     "text": [
      "Epoch:\t 0 Val Loss:\t 0.03076272245263307\n",
      "Epoch:\t 0 Val Loss:\t 0.027408165982666738\n",
      "Epoch:\t 1 Val Loss:\t 0.02721408051800852\n",
      "Epoch:\t 2 Val Loss:\t 0.027168869053602888\n"
     ]
    },
    {
     "name": "stderr",
     "output_type": "stream",
     "text": [
      "[I 2025-05-25 19:57:24,757] Trial 48 pruned. \n"
     ]
    },
    {
     "name": "stdout",
     "output_type": "stream",
     "text": [
      "Epoch:\t 3 Val Loss:\t 0.027198502653500226\n",
      "Epoch:\t 0 Val Loss:\t 0.027226430623379642\n",
      "Epoch:\t 1 Val Loss:\t 0.02717538969012683\n",
      "Epoch:\t 2 Val Loss:\t 0.027155393096273073\n",
      "Epoch:\t 3 Val Loss:\t 0.02714658468991578\n",
      "Epoch:\t 4 Val Loss:\t 0.02713786774354134\n",
      "Epoch:\t 5 Val Loss:\t 0.027133685790883277\n",
      "Epoch:\t 6 Val Loss:\t 0.027114716044558073\n",
      "Epoch:\t 7 Val Loss:\t 0.027138169567457182\n",
      "Epoch:\t 8 Val Loss:\t 0.0271245330071939\n",
      "Epoch:\t 9 Val Loss:\t 0.027137363487052056\n",
      "Epoch:\t 10 Val Loss:\t 0.027184631868838547\n"
     ]
    },
    {
     "name": "stderr",
     "output_type": "stream",
     "text": [
      "[I 2025-05-25 19:59:33,202] Trial 49 pruned. \n"
     ]
    },
    {
     "name": "stdout",
     "output_type": "stream",
     "text": [
      "Epoch:\t 11 Val Loss:\t 0.02715259776012095\n",
      "Training model with best parameters on train+validation ...\n"
     ]
    },
    {
     "name": "stderr",
     "output_type": "stream",
     "text": [
      "100%|███████████████████████████████████████████████████████████████████████████████████████████████████████████████████████████████████████████████████| 401917/401917 [05:25<00:00, 1233.61it/s]\n",
      "100%|███████████████████████████████████████████████████████████████████████████████████████████████████████████████████████████████████████████████████| 401917/401917 [01:39<00:00, 4038.35it/s]\n"
     ]
    },
    {
     "name": "stdout",
     "output_type": "stream",
     "text": [
      "Getting test set predictions and saving results ...\n"
     ]
    },
    {
     "name": "stderr",
     "output_type": "stream",
     "text": [
      "100%|██████████████████████████████████████████████████████████████████████████████████████████████████████████████████████████████████████████████████████████| 611/611 [00:01<00:00, 540.57it/s]\n",
      "/home/victor/.local/lib/python3.12/site-packages/anndata/_core/anndata.py:1756: UserWarning: Observation names are not unique. To make them unique, call `.obs_names_make_unique`.\n",
      "  utils.warn_names_duplicates(\"obs\")\n"
     ]
    }
   ],
   "source": [
    "train_different_normalization(\n",
    "        adata_path=\"./data/normalization/sciplex_shiftedlog_filt.h5ad\",\n",
    "        run_name=\"decoder_shiftedlog_norm\",\n",
    "        res_savename=\"./results/decoder_shiftedlog_norm_res.pkl\",\n",
    "        stats_savename=\"./results/decoder_shiftedlog_norm_stats.pkl\"\n",
    "    )"
   ]
  },
  {
   "cell_type": "code",
   "execution_count": 8,
   "id": "61382e19-76de-4c91-9f81-ec63f9d44a3f",
   "metadata": {},
   "outputs": [
    {
     "name": "stdout",
     "output_type": "stream",
     "text": [
      "Loading Datasets ...\n"
     ]
    },
    {
     "name": "stderr",
     "output_type": "stream",
     "text": [
      "100%|███████████████████████████████████████████████████████████████████████████████████████████████████████████████████████████████████████████████████| 401917/401917 [04:06<00:00, 1629.07it/s]\n",
      "100%|███████████████████████████████████████████████████████████████████████████████████████████████████████████████████████████████████████████████████| 401917/401917 [01:41<00:00, 3977.46it/s]\n",
      "[I 2025-05-25 20:18:30,399] A new study created in RDB with name: decoder_analyticpearson_norm\n"
     ]
    },
    {
     "name": "stdout",
     "output_type": "stream",
     "text": [
      "Optimizing Hyperparameters with Optuna ...\n",
      "Skipping final ReLU layer ...\n",
      "Epoch:\t 0 Val Loss:\t 2.2296286261733322\n",
      "Epoch:\t 1 Val Loss:\t 2.150484256805714\n",
      "Epoch:\t 2 Val Loss:\t 2.1349832954130754\n",
      "Epoch:\t 3 Val Loss:\t 2.1276980826325738\n",
      "Epoch:\t 4 Val Loss:\t 2.12591770454235\n",
      "Epoch:\t 5 Val Loss:\t 2.1225059507744106\n",
      "Epoch:\t 6 Val Loss:\t 2.1201563188117416\n",
      "Epoch:\t 7 Val Loss:\t 2.1190529065116808\n",
      "Epoch:\t 8 Val Loss:\t 2.1188162300747693\n",
      "Epoch:\t 9 Val Loss:\t 2.1174403275707525\n",
      "Epoch:\t 10 Val Loss:\t 2.1165300944993732\n",
      "Epoch:\t 11 Val Loss:\t 2.1168974534491634\n",
      "Epoch:\t 12 Val Loss:\t 2.115119733611104\n",
      "Epoch:\t 13 Val Loss:\t 2.114922087292196\n",
      "Epoch:\t 14 Val Loss:\t 2.1153946662639114\n",
      "Epoch:\t 15 Val Loss:\t 2.113898787851119\n",
      "Epoch:\t 16 Val Loss:\t 2.1147382953159295\n",
      "Epoch:\t 17 Val Loss:\t 2.1147732075387644\n",
      "Epoch:\t 18 Val Loss:\t 2.113866881542267\n",
      "Epoch:\t 19 Val Loss:\t 2.113701622585775\n",
      "Epoch:\t 20 Val Loss:\t 2.1149240333550994\n",
      "Epoch:\t 21 Val Loss:\t 2.1136450238549824\n",
      "Epoch:\t 22 Val Loss:\t 2.110831852894504\n",
      "Epoch:\t 23 Val Loss:\t 2.1115480320246656\n",
      "Epoch:\t 24 Val Loss:\t 2.114615487132425\n",
      "Epoch:\t 25 Val Loss:\t 2.114163864080546\n",
      "Epoch:\t 26 Val Loss:\t 2.111409746948929\n",
      "Epoch:\t 27 Val Loss:\t 2.1131587519139723\n",
      "Epoch:\t 28 Val Loss:\t 2.113633843480199\n",
      "Epoch:\t 29 Val Loss:\t 2.1128576871283187\n",
      "Epoch:\t 30 Val Loss:\t 2.112810161719368\n",
      "Epoch:\t 31 Val Loss:\t 2.1113334499371397\n"
     ]
    },
    {
     "name": "stderr",
     "output_type": "stream",
     "text": [
      "[I 2025-05-25 20:20:13,101] Trial 0 finished with value: 2.110831852894504 and parameters: {'lr': 0.0001, 'weight_decay': 0.001, 'scheduler_factor': 0.3, 'scheduler_patience': 20, 'batch_size': 256, 'dropout': 0.1, 'hidden_dims': 64}. Best is trial 0 with value: 2.110831852894504.\n"
     ]
    },
    {
     "name": "stdout",
     "output_type": "stream",
     "text": [
      "Epoch:\t 32 Val Loss:\t 2.111978498302472\n",
      "Skipping final ReLU layer ...\n",
      "Epoch:\t 0 Val Loss:\t 2.1225187108741688\n",
      "Epoch:\t 1 Val Loss:\t 2.1172867922022403\n",
      "Epoch:\t 2 Val Loss:\t 2.1163698396613952\n",
      "Epoch:\t 3 Val Loss:\t 2.1155288193297994\n",
      "Epoch:\t 4 Val Loss:\t 2.1177146477060123\n",
      "Epoch:\t 5 Val Loss:\t 2.1166383982110752\n",
      "Epoch:\t 6 Val Loss:\t 2.1152650856632578\n",
      "Epoch:\t 7 Val Loss:\t 2.1152192817687796\n",
      "Epoch:\t 8 Val Loss:\t 2.1180747020485837\n",
      "Epoch:\t 9 Val Loss:\t 2.114668322634157\n",
      "Epoch:\t 10 Val Loss:\t 2.117824551768256\n",
      "Epoch:\t 11 Val Loss:\t 2.113941637362872\n",
      "Epoch:\t 12 Val Loss:\t 2.112840312727705\n",
      "Epoch:\t 13 Val Loss:\t 2.11462309471091\n",
      "Epoch:\t 14 Val Loss:\t 2.1148139636279155\n",
      "Epoch:\t 15 Val Loss:\t 2.1191963846137494\n",
      "Epoch:\t 16 Val Loss:\t 2.11792370867476\n",
      "Epoch:\t 17 Val Loss:\t 2.115532929530437\n",
      "Epoch:\t 18 Val Loss:\t 2.116750327577287\n",
      "Epoch:\t 19 Val Loss:\t 2.1173627528464047\n",
      "Epoch:\t 20 Val Loss:\t 2.1161139792178822\n",
      "Epoch:\t 21 Val Loss:\t 2.1164936447425395\n"
     ]
    },
    {
     "name": "stderr",
     "output_type": "stream",
     "text": [
      "[I 2025-05-25 20:27:15,457] Trial 1 finished with value: 2.112840312727705 and parameters: {'lr': 0.0001, 'weight_decay': 1e-05, 'scheduler_factor': 0.1, 'scheduler_patience': 1, 'batch_size': 16, 'dropout': 0.15, 'hidden_dims': 128}. Best is trial 0 with value: 2.110831852894504.\n"
     ]
    },
    {
     "name": "stdout",
     "output_type": "stream",
     "text": [
      "Epoch:\t 22 Val Loss:\t 2.1163540553697913\n",
      "Skipping final ReLU layer ...\n",
      "Epoch:\t 0 Val Loss:\t 2.1611231072871147\n",
      "Epoch:\t 1 Val Loss:\t 2.1352224591738715\n",
      "Epoch:\t 2 Val Loss:\t 2.1282373617550654\n",
      "Epoch:\t 3 Val Loss:\t 2.1240086223415\n",
      "Epoch:\t 4 Val Loss:\t 2.122652392396946\n",
      "Epoch:\t 5 Val Loss:\t 2.1224689670937336\n",
      "Epoch:\t 6 Val Loss:\t 2.1217847613867873\n",
      "Epoch:\t 7 Val Loss:\t 2.120574832273151\n",
      "Epoch:\t 8 Val Loss:\t 2.122264459854615\n",
      "Epoch:\t 9 Val Loss:\t 2.1229502204424873\n",
      "Epoch:\t 10 Val Loss:\t 2.122510785234715\n",
      "Epoch:\t 11 Val Loss:\t 2.122861654701118\n",
      "Epoch:\t 12 Val Loss:\t 2.12323236408119\n",
      "Epoch:\t 13 Val Loss:\t 2.1245909777815215\n",
      "Epoch:\t 14 Val Loss:\t 2.1251073948605983\n",
      "Epoch:\t 15 Val Loss:\t 2.1265045061379015\n",
      "Epoch:\t 16 Val Loss:\t 2.1266748705464518\n"
     ]
    },
    {
     "name": "stderr",
     "output_type": "stream",
     "text": [
      "[I 2025-05-25 20:30:30,639] Trial 2 finished with value: 2.120574832273151 and parameters: {'lr': 1e-05, 'weight_decay': 0.001, 'scheduler_factor': 0.5, 'scheduler_patience': 1, 'batch_size': 32, 'dropout': 0.2, 'hidden_dims': 1024}. Best is trial 0 with value: 2.110831852894504.\n"
     ]
    },
    {
     "name": "stdout",
     "output_type": "stream",
     "text": [
      "Epoch:\t 17 Val Loss:\t 2.125180533892645\n",
      "Skipping final ReLU layer ...\n",
      "Epoch:\t 0 Val Loss:\t 2.141085100126171\n",
      "Epoch:\t 1 Val Loss:\t 2.1256675482512954\n",
      "Epoch:\t 2 Val Loss:\t 2.1210473019517733\n",
      "Epoch:\t 3 Val Loss:\t 2.1196705724051097\n",
      "Epoch:\t 4 Val Loss:\t 2.1187266109462732\n",
      "Epoch:\t 5 Val Loss:\t 2.117765361990384\n",
      "Epoch:\t 6 Val Loss:\t 2.119116550552582\n",
      "Epoch:\t 7 Val Loss:\t 2.117599925392854\n",
      "Epoch:\t 8 Val Loss:\t 2.1212711468010483\n",
      "Epoch:\t 9 Val Loss:\t 2.118750764731176\n",
      "Epoch:\t 10 Val Loss:\t 2.122591907992392\n",
      "Epoch:\t 11 Val Loss:\t 2.1230906503233977\n",
      "Epoch:\t 12 Val Loss:\t 2.1253548845977246\n",
      "Epoch:\t 13 Val Loss:\t 2.124106074860674\n",
      "Epoch:\t 14 Val Loss:\t 2.1246301930031937\n",
      "Epoch:\t 15 Val Loss:\t 2.124743523817502\n",
      "Epoch:\t 16 Val Loss:\t 2.124747394129843\n"
     ]
    },
    {
     "name": "stderr",
     "output_type": "stream",
     "text": [
      "[I 2025-05-25 20:33:42,811] Trial 3 finished with value: 2.117599925392854 and parameters: {'lr': 0.0001, 'weight_decay': 1e-06, 'scheduler_factor': 0.5, 'scheduler_patience': 20, 'batch_size': 32, 'dropout': 0.05, 'hidden_dims': 256}. Best is trial 0 with value: 2.110831852894504.\n"
     ]
    },
    {
     "name": "stdout",
     "output_type": "stream",
     "text": [
      "Epoch:\t 17 Val Loss:\t 2.126482589211397\n",
      "Skipping final ReLU layer ...\n",
      "Epoch:\t 0 Val Loss:\t 2.116437451688404\n",
      "Epoch:\t 1 Val Loss:\t 2.1148683394827454\n",
      "Epoch:\t 2 Val Loss:\t 2.1105918185464265\n",
      "Epoch:\t 3 Val Loss:\t 2.1094833969974287\n",
      "Epoch:\t 4 Val Loss:\t 2.111691912556995\n",
      "Epoch:\t 5 Val Loss:\t 2.1099675085034097\n",
      "Epoch:\t 6 Val Loss:\t 2.1081486098175537\n",
      "Epoch:\t 7 Val Loss:\t 2.1086619173706103\n",
      "Epoch:\t 8 Val Loss:\t 2.1073591649866907\n",
      "Epoch:\t 9 Val Loss:\t 2.107173230997925\n",
      "Epoch:\t 10 Val Loss:\t 2.1073031924491703\n",
      "Epoch:\t 11 Val Loss:\t 2.1063549850306322\n",
      "Epoch:\t 12 Val Loss:\t 2.1087479459445957\n",
      "Epoch:\t 13 Val Loss:\t 2.1079468400170542\n",
      "Epoch:\t 14 Val Loss:\t 2.1070581612437844\n",
      "Epoch:\t 15 Val Loss:\t 2.1064508623759464\n",
      "Epoch:\t 16 Val Loss:\t 2.1077733532179805\n",
      "Epoch:\t 17 Val Loss:\t 2.1078970270722794\n",
      "Epoch:\t 18 Val Loss:\t 2.107143766036871\n",
      "Epoch:\t 19 Val Loss:\t 2.1068826213108602\n",
      "Epoch:\t 20 Val Loss:\t 2.107450065272468\n"
     ]
    },
    {
     "name": "stderr",
     "output_type": "stream",
     "text": [
      "[I 2025-05-25 20:36:04,277] Trial 4 finished with value: 2.1063549850306322 and parameters: {'lr': 0.001, 'weight_decay': 1e-05, 'scheduler_factor': 0.1, 'scheduler_patience': 1, 'batch_size': 64, 'dropout': 0.2, 'hidden_dims': 64}. Best is trial 4 with value: 2.1063549850306322.\n"
     ]
    },
    {
     "name": "stdout",
     "output_type": "stream",
     "text": [
      "Epoch:\t 21 Val Loss:\t 2.106916273988144\n",
      "Skipping final ReLU layer ...\n"
     ]
    },
    {
     "name": "stderr",
     "output_type": "stream",
     "text": [
      "[I 2025-05-25 20:36:10,820] Trial 5 pruned. \n"
     ]
    },
    {
     "name": "stdout",
     "output_type": "stream",
     "text": [
      "Epoch:\t 0 Val Loss:\t 2.3037826324713735\n",
      "Skipping final ReLU layer ...\n"
     ]
    },
    {
     "name": "stderr",
     "output_type": "stream",
     "text": [
      "[I 2025-05-25 20:36:14,091] Trial 6 pruned. \n"
     ]
    },
    {
     "name": "stdout",
     "output_type": "stream",
     "text": [
      "Epoch:\t 0 Val Loss:\t 2.4008895373421084\n",
      "Skipping final ReLU layer ...\n"
     ]
    },
    {
     "name": "stderr",
     "output_type": "stream",
     "text": [
      "[I 2025-05-25 20:36:18,368] Trial 7 pruned. \n"
     ]
    },
    {
     "name": "stdout",
     "output_type": "stream",
     "text": [
      "Epoch:\t 0 Val Loss:\t 2.40562822214099\n",
      "Skipping final ReLU layer ...\n"
     ]
    },
    {
     "name": "stderr",
     "output_type": "stream",
     "text": [
      "[I 2025-05-25 20:36:21,622] Trial 8 pruned. \n"
     ]
    },
    {
     "name": "stdout",
     "output_type": "stream",
     "text": [
      "Epoch:\t 0 Val Loss:\t 2.2822602577148143\n",
      "Skipping final ReLU layer ...\n"
     ]
    },
    {
     "name": "stderr",
     "output_type": "stream",
     "text": [
      "[I 2025-05-25 20:36:26,135] Trial 9 pruned. \n"
     ]
    },
    {
     "name": "stdout",
     "output_type": "stream",
     "text": [
      "Epoch:\t 0 Val Loss:\t 2.34900436278905\n",
      "Skipping final ReLU layer ...\n",
      "Epoch:\t 0 Val Loss:\t 2.118512937710968\n",
      "Epoch:\t 1 Val Loss:\t 2.1175970373482538\n",
      "Epoch:\t 2 Val Loss:\t 2.114201547722866\n",
      "Epoch:\t 3 Val Loss:\t 2.1131176871113904\n",
      "Epoch:\t 4 Val Loss:\t 2.112005807632624\n",
      "Epoch:\t 5 Val Loss:\t 2.113012732939426\n",
      "Epoch:\t 6 Val Loss:\t 2.1133108930580122\n",
      "Epoch:\t 7 Val Loss:\t 2.111621159501523\n",
      "Epoch:\t 8 Val Loss:\t 2.1105179262811316\n",
      "Epoch:\t 9 Val Loss:\t 2.113574199324717\n",
      "Epoch:\t 10 Val Loss:\t 2.110599963781637\n",
      "Epoch:\t 11 Val Loss:\t 2.108376092019804\n",
      "Epoch:\t 12 Val Loss:\t 2.108011608039654\n",
      "Epoch:\t 13 Val Loss:\t 2.110020603766514\n",
      "Epoch:\t 14 Val Loss:\t 2.111678387990644\n",
      "Epoch:\t 15 Val Loss:\t 2.1102764002303647\n",
      "Epoch:\t 16 Val Loss:\t 2.1094061566431614\n",
      "Epoch:\t 17 Val Loss:\t 2.108589694417756\n",
      "Epoch:\t 18 Val Loss:\t 2.1086748879531334\n",
      "Epoch:\t 19 Val Loss:\t 2.1096755954487\n",
      "Epoch:\t 20 Val Loss:\t 2.109372252068141\n",
      "Epoch:\t 21 Val Loss:\t 2.1100465128110137\n"
     ]
    },
    {
     "name": "stderr",
     "output_type": "stream",
     "text": [
      "[I 2025-05-25 20:38:53,374] Trial 10 finished with value: 2.108011608039654 and parameters: {'lr': 0.001, 'weight_decay': 1e-05, 'scheduler_factor': 0.8, 'scheduler_patience': 1, 'batch_size': 64, 'dropout': 0.2, 'hidden_dims': 512}. Best is trial 4 with value: 2.1063549850306322.\n"
     ]
    },
    {
     "name": "stdout",
     "output_type": "stream",
     "text": [
      "Epoch:\t 22 Val Loss:\t 2.1106043518688935\n",
      "Skipping final ReLU layer ...\n",
      "Epoch:\t 0 Val Loss:\t 2.1190256089712967\n",
      "Epoch:\t 1 Val Loss:\t 2.118270091945492\n",
      "Epoch:\t 2 Val Loss:\t 2.1156142329634333\n",
      "Epoch:\t 3 Val Loss:\t 2.1126433190289937\n",
      "Epoch:\t 4 Val Loss:\t 2.1128988347248545\n",
      "Epoch:\t 5 Val Loss:\t 2.113206516673494\n",
      "Epoch:\t 6 Val Loss:\t 2.113357676538163\n",
      "Epoch:\t 7 Val Loss:\t 2.110484815733664\n",
      "Epoch:\t 8 Val Loss:\t 2.114951471662942\n",
      "Epoch:\t 9 Val Loss:\t 2.1113829408154645\n",
      "Epoch:\t 10 Val Loss:\t 2.1125855859796236\n",
      "Epoch:\t 11 Val Loss:\t 2.110695810727148\n",
      "Epoch:\t 12 Val Loss:\t 2.1130367367384237\n",
      "Epoch:\t 13 Val Loss:\t 2.1132647207286133\n",
      "Epoch:\t 14 Val Loss:\t 2.112256866411486\n",
      "Epoch:\t 15 Val Loss:\t 2.113077723798316\n",
      "Epoch:\t 16 Val Loss:\t 2.113016207503049\n"
     ]
    },
    {
     "name": "stderr",
     "output_type": "stream",
     "text": [
      "[I 2025-05-25 20:40:48,322] Trial 11 finished with value: 2.110484815733664 and parameters: {'lr': 0.001, 'weight_decay': 1e-05, 'scheduler_factor': 0.8, 'scheduler_patience': 1, 'batch_size': 64, 'dropout': 0.2, 'hidden_dims': 512}. Best is trial 4 with value: 2.1063549850306322.\n"
     ]
    },
    {
     "name": "stdout",
     "output_type": "stream",
     "text": [
      "Epoch:\t 17 Val Loss:\t 2.1107066351600716\n",
      "Skipping final ReLU layer ...\n",
      "Epoch:\t 0 Val Loss:\t 2.117166270039611\n",
      "Epoch:\t 1 Val Loss:\t 2.1165311530578967\n",
      "Epoch:\t 2 Val Loss:\t 2.111752069369257\n",
      "Epoch:\t 3 Val Loss:\t 2.115027737311583\n",
      "Epoch:\t 4 Val Loss:\t 2.1129222682885582\n",
      "Epoch:\t 5 Val Loss:\t 2.1153908489987483\n",
      "Epoch:\t 6 Val Loss:\t 2.112969774385405\n",
      "Epoch:\t 7 Val Loss:\t 2.1173130620835585\n",
      "Epoch:\t 8 Val Loss:\t 2.112280516980071\n",
      "Epoch:\t 9 Val Loss:\t 2.1128684417094434\n",
      "Epoch:\t 10 Val Loss:\t 2.1112527101634497\n",
      "Epoch:\t 11 Val Loss:\t 2.1142145806345445\n",
      "Epoch:\t 12 Val Loss:\t 2.112988735354224\n",
      "Epoch:\t 13 Val Loss:\t 2.109240544348979\n",
      "Epoch:\t 14 Val Loss:\t 2.110278180052781\n",
      "Epoch:\t 15 Val Loss:\t 2.110335613883966\n",
      "Epoch:\t 16 Val Loss:\t 2.1093410460969975\n",
      "Epoch:\t 17 Val Loss:\t 2.110369395234629\n",
      "Epoch:\t 18 Val Loss:\t 2.111617307330287\n",
      "Epoch:\t 19 Val Loss:\t 2.1121583218180664\n",
      "Epoch:\t 20 Val Loss:\t 2.1113609052603017\n",
      "Epoch:\t 21 Val Loss:\t 2.114222177621739\n",
      "Epoch:\t 22 Val Loss:\t 2.110331377413336\n"
     ]
    },
    {
     "name": "stderr",
     "output_type": "stream",
     "text": [
      "[I 2025-05-25 20:43:19,337] Trial 12 finished with value: 2.109240544348979 and parameters: {'lr': 0.001, 'weight_decay': 1e-05, 'scheduler_factor': 0.8, 'scheduler_patience': 1, 'batch_size': 64, 'dropout': 0.2, 'hidden_dims': 512}. Best is trial 4 with value: 2.1063549850306322.\n"
     ]
    },
    {
     "name": "stdout",
     "output_type": "stream",
     "text": [
      "Epoch:\t 23 Val Loss:\t 2.1113977509684436\n",
      "Skipping final ReLU layer ...\n",
      "Epoch:\t 0 Val Loss:\t 2.1170808615068863\n",
      "Epoch:\t 1 Val Loss:\t 2.1185084124422113\n"
     ]
    },
    {
     "name": "stderr",
     "output_type": "stream",
     "text": [
      "[I 2025-05-25 20:43:38,437] Trial 13 pruned. \n"
     ]
    },
    {
     "name": "stdout",
     "output_type": "stream",
     "text": [
      "Epoch:\t 2 Val Loss:\t 2.1161717876206425\n",
      "Skipping final ReLU layer ...\n",
      "Epoch:\t 0 Val Loss:\t 2.1138469030499554\n",
      "Epoch:\t 1 Val Loss:\t 2.110147629438062\n",
      "Epoch:\t 2 Val Loss:\t 2.1081397298248463\n",
      "Epoch:\t 3 Val Loss:\t 2.109129289196507\n",
      "Epoch:\t 4 Val Loss:\t 2.110126746685484\n",
      "Epoch:\t 5 Val Loss:\t 2.1068360839926346\n",
      "Epoch:\t 6 Val Loss:\t 2.107703369908459\n",
      "Epoch:\t 7 Val Loss:\t 2.107761765444097\n",
      "Epoch:\t 8 Val Loss:\t 2.10682608389147\n",
      "Epoch:\t 9 Val Loss:\t 2.1071723275119627\n",
      "Epoch:\t 10 Val Loss:\t 2.106787390200348\n",
      "Epoch:\t 11 Val Loss:\t 2.106975280483341\n",
      "Epoch:\t 12 Val Loss:\t 2.106545964908676\n",
      "Epoch:\t 13 Val Loss:\t 2.1063828760849157\n",
      "Epoch:\t 14 Val Loss:\t 2.1067173415025713\n",
      "Epoch:\t 15 Val Loss:\t 2.105339378094616\n",
      "Epoch:\t 16 Val Loss:\t 2.107507398535752\n",
      "Epoch:\t 17 Val Loss:\t 2.1067936827683313\n",
      "Epoch:\t 18 Val Loss:\t 2.107358749618316\n",
      "Epoch:\t 19 Val Loss:\t 2.106848242479797\n",
      "Epoch:\t 20 Val Loss:\t 2.106725176812748\n",
      "Epoch:\t 21 Val Loss:\t 2.1072294640369003\n",
      "Epoch:\t 22 Val Loss:\t 2.108163467290981\n",
      "Epoch:\t 23 Val Loss:\t 2.10671705346922\n",
      "Epoch:\t 24 Val Loss:\t 2.106725768557337\n"
     ]
    },
    {
     "name": "stderr",
     "output_type": "stream",
     "text": [
      "[I 2025-05-25 20:46:24,851] Trial 14 finished with value: 2.105339378094616 and parameters: {'lr': 0.001, 'weight_decay': 0.0001, 'scheduler_factor': 0.1, 'scheduler_patience': 1, 'batch_size': 64, 'dropout': 0.1, 'hidden_dims': 128}. Best is trial 14 with value: 2.105339378094616.\n"
     ]
    },
    {
     "name": "stdout",
     "output_type": "stream",
     "text": [
      "Epoch:\t 25 Val Loss:\t 2.1075143574138786\n",
      "Skipping final ReLU layer ...\n",
      "Epoch:\t 0 Val Loss:\t 2.1128340467162756\n",
      "Epoch:\t 1 Val Loss:\t 2.114863124514266\n",
      "Epoch:\t 2 Val Loss:\t 2.113338707289221\n",
      "Epoch:\t 3 Val Loss:\t 2.1095947090262426\n",
      "Epoch:\t 4 Val Loss:\t 2.1114202657674555\n",
      "Epoch:\t 5 Val Loss:\t 2.1123968763954295\n",
      "Epoch:\t 6 Val Loss:\t 2.1091677114782486\n",
      "Epoch:\t 7 Val Loss:\t 2.1118588462021135\n",
      "Epoch:\t 8 Val Loss:\t 2.110806399907456\n",
      "Epoch:\t 9 Val Loss:\t 2.1117607307228674\n",
      "Epoch:\t 10 Val Loss:\t 2.111083546983673\n",
      "Epoch:\t 11 Val Loss:\t 2.1103041080309763\n",
      "Epoch:\t 12 Val Loss:\t 2.1111589979370664\n",
      "Epoch:\t 13 Val Loss:\t 2.110561895014599\n",
      "Epoch:\t 14 Val Loss:\t 2.112361038239918\n",
      "Epoch:\t 15 Val Loss:\t 2.111146658402219\n"
     ]
    },
    {
     "name": "stderr",
     "output_type": "stream",
     "text": [
      "[I 2025-05-25 20:51:38,210] Trial 15 finished with value: 2.1091677114782486 and parameters: {'lr': 0.001, 'weight_decay': 0.0001, 'scheduler_factor': 0.1, 'scheduler_patience': 1, 'batch_size': 16, 'dropout': 0.1, 'hidden_dims': 128}. Best is trial 14 with value: 2.105339378094616.\n"
     ]
    },
    {
     "name": "stdout",
     "output_type": "stream",
     "text": [
      "Epoch:\t 16 Val Loss:\t 2.1119087207678016\n",
      "Skipping final ReLU layer ...\n",
      "Epoch:\t 0 Val Loss:\t 2.1131437258808345\n",
      "Epoch:\t 1 Val Loss:\t 2.1095546732545376\n",
      "Epoch:\t 2 Val Loss:\t 2.1103065365681957\n",
      "Epoch:\t 3 Val Loss:\t 2.1112340514719152\n",
      "Epoch:\t 4 Val Loss:\t 2.1112496226715294\n",
      "Epoch:\t 5 Val Loss:\t 2.1089464549360604\n",
      "Epoch:\t 6 Val Loss:\t 2.1080882089464974\n",
      "Epoch:\t 7 Val Loss:\t 2.108039260866552\n",
      "Epoch:\t 8 Val Loss:\t 2.109972328879686\n",
      "Epoch:\t 9 Val Loss:\t 2.110609188018652\n",
      "Epoch:\t 10 Val Loss:\t 2.109714607094992\n",
      "Epoch:\t 11 Val Loss:\t 2.107487126838329\n",
      "Epoch:\t 12 Val Loss:\t 2.108324580796738\n",
      "Epoch:\t 13 Val Loss:\t 2.108325178755123\n",
      "Epoch:\t 14 Val Loss:\t 2.109903649511391\n",
      "Epoch:\t 15 Val Loss:\t 2.108542755592701\n",
      "Epoch:\t 16 Val Loss:\t 2.1073308186045434\n",
      "Epoch:\t 17 Val Loss:\t 2.108690790109091\n",
      "Epoch:\t 18 Val Loss:\t 2.1064488247287874\n",
      "Epoch:\t 19 Val Loss:\t 2.103993317558943\n",
      "Epoch:\t 20 Val Loss:\t 2.105501247293584\n",
      "Epoch:\t 21 Val Loss:\t 2.1069475937195556\n",
      "Epoch:\t 22 Val Loss:\t 2.1078906772417745\n",
      "Epoch:\t 23 Val Loss:\t 2.106173029400964\n",
      "Epoch:\t 24 Val Loss:\t 2.106543696968672\n",
      "Epoch:\t 25 Val Loss:\t 2.1068938322419055\n",
      "Epoch:\t 26 Val Loss:\t 2.1067999649162568\n",
      "Epoch:\t 27 Val Loss:\t 2.106781508890074\n",
      "Epoch:\t 28 Val Loss:\t 2.106175514250253\n"
     ]
    },
    {
     "name": "stderr",
     "output_type": "stream",
     "text": [
      "[I 2025-05-25 20:54:49,340] Trial 16 finished with value: 2.103993317558943 and parameters: {'lr': 0.001, 'weight_decay': 0.0001, 'scheduler_factor': 0.1, 'scheduler_patience': 5, 'batch_size': 64, 'dropout': 0.1, 'hidden_dims': 128}. Best is trial 16 with value: 2.103993317558943.\n"
     ]
    },
    {
     "name": "stdout",
     "output_type": "stream",
     "text": [
      "Epoch:\t 29 Val Loss:\t 2.106501666660202\n",
      "Skipping final ReLU layer ...\n",
      "Epoch:\t 0 Val Loss:\t 2.1146583957679765\n",
      "Epoch:\t 1 Val Loss:\t 2.1131081591631378\n",
      "Epoch:\t 2 Val Loss:\t 2.1121048097526347\n",
      "Epoch:\t 3 Val Loss:\t 2.109533577416549\n",
      "Epoch:\t 4 Val Loss:\t 2.111875421062124\n",
      "Epoch:\t 5 Val Loss:\t 2.108234147597239\n",
      "Epoch:\t 6 Val Loss:\t 2.1107369260780318\n",
      "Epoch:\t 7 Val Loss:\t 2.1091299178414853\n",
      "Epoch:\t 8 Val Loss:\t 2.1124146887084057\n",
      "Epoch:\t 9 Val Loss:\t 2.109743997299298\n",
      "Epoch:\t 10 Val Loss:\t 2.1088199889841515\n",
      "Epoch:\t 11 Val Loss:\t 2.1112911426839394\n",
      "Epoch:\t 12 Val Loss:\t 2.109197451768155\n",
      "Epoch:\t 13 Val Loss:\t 2.107205307091726\n",
      "Epoch:\t 14 Val Loss:\t 2.1078552032530355\n",
      "Epoch:\t 15 Val Loss:\t 2.107596071796983\n",
      "Epoch:\t 16 Val Loss:\t 2.108114590908684\n",
      "Epoch:\t 17 Val Loss:\t 2.1083151393636475\n",
      "Epoch:\t 18 Val Loss:\t 2.1075843981771154\n",
      "Epoch:\t 19 Val Loss:\t 2.107288660483066\n",
      "Epoch:\t 20 Val Loss:\t 2.106840120570222\n",
      "Epoch:\t 21 Val Loss:\t 2.106639025587986\n",
      "Epoch:\t 22 Val Loss:\t 2.1081295419714405\n",
      "Epoch:\t 23 Val Loss:\t 2.1086483078186475\n",
      "Epoch:\t 24 Val Loss:\t 2.1052600685462246\n",
      "Epoch:\t 25 Val Loss:\t 2.106740050728835\n",
      "Epoch:\t 26 Val Loss:\t 2.109158204093205\n",
      "Epoch:\t 27 Val Loss:\t 2.1068011772756874\n",
      "Epoch:\t 28 Val Loss:\t 2.107549262696873\n",
      "Epoch:\t 29 Val Loss:\t 2.107553970364446\n",
      "Epoch:\t 30 Val Loss:\t 2.1075328582749906\n",
      "Epoch:\t 31 Val Loss:\t 2.108468135930867\n",
      "Epoch:\t 32 Val Loss:\t 2.1073758735977943\n",
      "Epoch:\t 33 Val Loss:\t 2.1079690861721083\n"
     ]
    },
    {
     "name": "stderr",
     "output_type": "stream",
     "text": [
      "[I 2025-05-25 20:58:32,661] Trial 17 finished with value: 2.1052600685462246 and parameters: {'lr': 0.001, 'weight_decay': 0.0001, 'scheduler_factor': 0.1, 'scheduler_patience': 5, 'batch_size': 64, 'dropout': 0.1, 'hidden_dims': 128}. Best is trial 16 with value: 2.103993317558943.\n"
     ]
    },
    {
     "name": "stdout",
     "output_type": "stream",
     "text": [
      "Epoch:\t 34 Val Loss:\t 2.1071031345017164\n",
      "Skipping final ReLU layer ...\n",
      "Epoch:\t 0 Val Loss:\t 2.1127798079297175\n",
      "Epoch:\t 1 Val Loss:\t 2.116664739637826\n",
      "Epoch:\t 2 Val Loss:\t 2.108531574774668\n",
      "Epoch:\t 3 Val Loss:\t 2.1100854777104394\n",
      "Epoch:\t 4 Val Loss:\t 2.108646248279807\n",
      "Epoch:\t 5 Val Loss:\t 2.108177742866296\n",
      "Epoch:\t 6 Val Loss:\t 2.1069895476461316\n",
      "Epoch:\t 7 Val Loss:\t 2.1097219450146842\n",
      "Epoch:\t 8 Val Loss:\t 2.1083713936251263\n",
      "Epoch:\t 9 Val Loss:\t 2.108594728931008\n",
      "Epoch:\t 10 Val Loss:\t 2.11425644221455\n",
      "Epoch:\t 11 Val Loss:\t 2.1091171489683456\n",
      "Epoch:\t 12 Val Loss:\t 2.1081872073382306\n",
      "Epoch:\t 13 Val Loss:\t 2.1070208569574853\n",
      "Epoch:\t 14 Val Loss:\t 2.1074048679354864\n",
      "Epoch:\t 15 Val Loss:\t 2.1076699305077793\n",
      "Epoch:\t 16 Val Loss:\t 2.106931711065358\n",
      "Epoch:\t 17 Val Loss:\t 2.1083725804601943\n",
      "Epoch:\t 18 Val Loss:\t 2.107061145873479\n",
      "Epoch:\t 19 Val Loss:\t 2.1073294911464884\n",
      "Epoch:\t 20 Val Loss:\t 2.106768798713409\n",
      "Epoch:\t 21 Val Loss:\t 2.1071614948577087\n",
      "Epoch:\t 22 Val Loss:\t 2.106681759298182\n",
      "Epoch:\t 23 Val Loss:\t 2.1068278768106565\n"
     ]
    },
    {
     "name": "stderr",
     "output_type": "stream",
     "text": [
      "[I 2025-05-25 21:01:10,576] Trial 18 pruned. \n"
     ]
    },
    {
     "name": "stdout",
     "output_type": "stream",
     "text": [
      "Epoch:\t 24 Val Loss:\t 2.1069210002971057\n",
      "Skipping final ReLU layer ...\n",
      "Epoch:\t 0 Val Loss:\t 2.1150481731111554\n",
      "Epoch:\t 1 Val Loss:\t 2.1148055989143724\n",
      "Epoch:\t 2 Val Loss:\t 2.1124831699484266\n",
      "Epoch:\t 3 Val Loss:\t 2.1144689190987234\n"
     ]
    },
    {
     "name": "stderr",
     "output_type": "stream",
     "text": [
      "[I 2025-05-25 21:02:41,608] Trial 19 pruned. \n"
     ]
    },
    {
     "name": "stdout",
     "output_type": "stream",
     "text": [
      "Epoch:\t 4 Val Loss:\t 2.113799623092605\n",
      "Skipping final ReLU layer ...\n",
      "Epoch:\t 0 Val Loss:\t 2.1112153511964724\n",
      "Epoch:\t 1 Val Loss:\t 2.1120897978962305\n",
      "Epoch:\t 2 Val Loss:\t 2.108476810847112\n",
      "Epoch:\t 3 Val Loss:\t 2.1134078753735115\n",
      "Epoch:\t 4 Val Loss:\t 2.109195307500377\n",
      "Epoch:\t 5 Val Loss:\t 2.109737726466689\n",
      "Epoch:\t 6 Val Loss:\t 2.11095939482859\n",
      "Epoch:\t 7 Val Loss:\t 2.110433907260398\n",
      "Epoch:\t 8 Val Loss:\t 2.1137161549680936\n",
      "Epoch:\t 9 Val Loss:\t 2.108678713876881\n",
      "Epoch:\t 10 Val Loss:\t 2.109405497248044\n",
      "Epoch:\t 11 Val Loss:\t 2.110078564387763\n"
     ]
    },
    {
     "name": "stderr",
     "output_type": "stream",
     "text": [
      "[I 2025-05-25 21:04:56,303] Trial 20 finished with value: 2.108476810847112 and parameters: {'lr': 0.001, 'weight_decay': 0.0001, 'scheduler_factor': 0.3, 'scheduler_patience': 5, 'batch_size': 32, 'dropout': 0.1, 'hidden_dims': 128}. Best is trial 16 with value: 2.103993317558943.\n"
     ]
    },
    {
     "name": "stdout",
     "output_type": "stream",
     "text": [
      "Epoch:\t 12 Val Loss:\t 2.112460166801193\n",
      "Skipping final ReLU layer ...\n",
      "Epoch:\t 0 Val Loss:\t 2.1096661707450606\n",
      "Epoch:\t 1 Val Loss:\t 2.1117416038069616\n",
      "Epoch:\t 2 Val Loss:\t 2.1110923206127445\n",
      "Epoch:\t 3 Val Loss:\t 2.109855948492538\n",
      "Epoch:\t 4 Val Loss:\t 2.109074717153046\n",
      "Epoch:\t 5 Val Loss:\t 2.1088487225335983\n",
      "Epoch:\t 6 Val Loss:\t 2.1133109302451922\n",
      "Epoch:\t 7 Val Loss:\t 2.1089340451247423\n",
      "Epoch:\t 8 Val Loss:\t 2.106355775999086\n",
      "Epoch:\t 9 Val Loss:\t 2.110759106175653\n",
      "Epoch:\t 10 Val Loss:\t 2.108881364274044\n",
      "Epoch:\t 11 Val Loss:\t 2.109442919755613\n",
      "Epoch:\t 12 Val Loss:\t 2.1084756259451702\n",
      "Epoch:\t 13 Val Loss:\t 2.1110063340057827\n",
      "Epoch:\t 14 Val Loss:\t 2.1085478536778672\n",
      "Epoch:\t 15 Val Loss:\t 2.1087845649925727\n",
      "Epoch:\t 16 Val Loss:\t 2.107077070016716\n",
      "Epoch:\t 17 Val Loss:\t 2.107859720109268\n"
     ]
    },
    {
     "name": "stderr",
     "output_type": "stream",
     "text": [
      "[I 2025-05-25 21:06:57,137] Trial 21 finished with value: 2.106355775999086 and parameters: {'lr': 0.001, 'weight_decay': 0.0001, 'scheduler_factor': 0.1, 'scheduler_patience': 5, 'batch_size': 64, 'dropout': 0.1, 'hidden_dims': 128}. Best is trial 16 with value: 2.103993317558943.\n"
     ]
    },
    {
     "name": "stdout",
     "output_type": "stream",
     "text": [
      "Epoch:\t 18 Val Loss:\t 2.1076638106833294\n",
      "Skipping final ReLU layer ...\n",
      "Epoch:\t 0 Val Loss:\t 2.111359590994614\n",
      "Epoch:\t 1 Val Loss:\t 2.111123829721544\n",
      "Epoch:\t 2 Val Loss:\t 2.1083608132509966\n",
      "Epoch:\t 3 Val Loss:\t 2.109051253667524\n",
      "Epoch:\t 4 Val Loss:\t 2.112182674832409\n",
      "Epoch:\t 5 Val Loss:\t 2.1093824090437594\n",
      "Epoch:\t 6 Val Loss:\t 2.1081115836225326\n",
      "Epoch:\t 7 Val Loss:\t 2.1098918862216647\n",
      "Epoch:\t 8 Val Loss:\t 2.1102693986204404\n",
      "Epoch:\t 9 Val Loss:\t 2.1117607007145214\n",
      "Epoch:\t 10 Val Loss:\t 2.112116520368489\n",
      "Epoch:\t 11 Val Loss:\t 2.10926584396347\n",
      "Epoch:\t 12 Val Loss:\t 2.1092162744083116\n",
      "Epoch:\t 13 Val Loss:\t 2.107015510320472\n",
      "Epoch:\t 14 Val Loss:\t 2.1078692125910843\n",
      "Epoch:\t 15 Val Loss:\t 2.107086913339023\n",
      "Epoch:\t 16 Val Loss:\t 2.107147423572892\n",
      "Epoch:\t 17 Val Loss:\t 2.106368402719689\n",
      "Epoch:\t 18 Val Loss:\t 2.1081557914363738\n",
      "Epoch:\t 19 Val Loss:\t 2.108591000079726\n",
      "Epoch:\t 20 Val Loss:\t 2.1096465830432\n",
      "Epoch:\t 21 Val Loss:\t 2.1069016653533543\n",
      "Epoch:\t 22 Val Loss:\t 2.1064248053475008\n",
      "Epoch:\t 23 Val Loss:\t 2.107383722865113\n",
      "Epoch:\t 24 Val Loss:\t 2.10783514655296\n",
      "Epoch:\t 25 Val Loss:\t 2.106130512026471\n",
      "Epoch:\t 26 Val Loss:\t 2.106457104181995\n",
      "Epoch:\t 27 Val Loss:\t 2.1078568848018753\n",
      "Epoch:\t 28 Val Loss:\t 2.1076100135480487\n",
      "Epoch:\t 29 Val Loss:\t 2.108492175387495\n",
      "Epoch:\t 30 Val Loss:\t 2.1078673029481267\n",
      "Epoch:\t 31 Val Loss:\t 2.108026311410936\n",
      "Epoch:\t 32 Val Loss:\t 2.1076628393235928\n",
      "Epoch:\t 33 Val Loss:\t 2.106878321555106\n",
      "Epoch:\t 34 Val Loss:\t 2.1100744796736106\n"
     ]
    },
    {
     "name": "stderr",
     "output_type": "stream",
     "text": [
      "[I 2025-05-25 21:10:46,196] Trial 22 finished with value: 2.106130512026471 and parameters: {'lr': 0.001, 'weight_decay': 0.0001, 'scheduler_factor': 0.1, 'scheduler_patience': 5, 'batch_size': 64, 'dropout': 0.1, 'hidden_dims': 128}. Best is trial 16 with value: 2.103993317558943.\n"
     ]
    },
    {
     "name": "stdout",
     "output_type": "stream",
     "text": [
      "Epoch:\t 35 Val Loss:\t 2.1081299543763126\n",
      "Skipping final ReLU layer ...\n",
      "Epoch:\t 0 Val Loss:\t 2.110218463942062\n",
      "Epoch:\t 1 Val Loss:\t 2.111073180495402\n",
      "Epoch:\t 2 Val Loss:\t 2.109848267571297\n",
      "Epoch:\t 3 Val Loss:\t 2.1101185230608452\n",
      "Epoch:\t 4 Val Loss:\t 2.1103994468736382\n",
      "Epoch:\t 5 Val Loss:\t 2.1088883227697828\n",
      "Epoch:\t 6 Val Loss:\t 2.1104514523324913\n",
      "Epoch:\t 7 Val Loss:\t 2.109791056863193\n",
      "Epoch:\t 8 Val Loss:\t 2.116125538622559\n",
      "Epoch:\t 9 Val Loss:\t 2.1093373161941504\n",
      "Epoch:\t 10 Val Loss:\t 2.1079336234637998\n",
      "Epoch:\t 11 Val Loss:\t 2.1078124706900017\n",
      "Epoch:\t 12 Val Loss:\t 2.108870177720199\n",
      "Epoch:\t 13 Val Loss:\t 2.107789332425011\n",
      "Epoch:\t 14 Val Loss:\t 2.108372241569311\n",
      "Epoch:\t 15 Val Loss:\t 2.1091823112324133\n",
      "Epoch:\t 16 Val Loss:\t 2.108589860660703\n",
      "Epoch:\t 17 Val Loss:\t 2.1077200809094845\n",
      "Epoch:\t 18 Val Loss:\t 2.1082650720356173\n",
      "Epoch:\t 19 Val Loss:\t 2.107753307798335\n",
      "Epoch:\t 20 Val Loss:\t 2.1086757039679656\n",
      "Epoch:\t 21 Val Loss:\t 2.1068458059069246\n",
      "Epoch:\t 22 Val Loss:\t 2.109471137464381\n",
      "Epoch:\t 23 Val Loss:\t 2.107513390451598\n",
      "Epoch:\t 24 Val Loss:\t 2.106611217320587\n",
      "Epoch:\t 25 Val Loss:\t 2.1072312963419946\n",
      "Epoch:\t 26 Val Loss:\t 2.106917702300891\n",
      "Epoch:\t 27 Val Loss:\t 2.1098118788161657\n",
      "Epoch:\t 28 Val Loss:\t 2.106616079950677\n",
      "Epoch:\t 29 Val Loss:\t 2.10703642175211\n",
      "Epoch:\t 30 Val Loss:\t 2.1080138392704626\n",
      "Epoch:\t 31 Val Loss:\t 2.1079866682517596\n",
      "Epoch:\t 32 Val Loss:\t 2.107378605660574\n",
      "Epoch:\t 33 Val Loss:\t 2.1087088163317733\n"
     ]
    },
    {
     "name": "stderr",
     "output_type": "stream",
     "text": [
      "[I 2025-05-25 21:14:28,761] Trial 23 finished with value: 2.106611217320587 and parameters: {'lr': 0.001, 'weight_decay': 0.0001, 'scheduler_factor': 0.1, 'scheduler_patience': 5, 'batch_size': 64, 'dropout': 0.1, 'hidden_dims': 128}. Best is trial 16 with value: 2.103993317558943.\n"
     ]
    },
    {
     "name": "stdout",
     "output_type": "stream",
     "text": [
      "Epoch:\t 34 Val Loss:\t 2.1073204989230625\n",
      "Skipping final ReLU layer ...\n",
      "Epoch:\t 0 Val Loss:\t 2.1126310827259838\n",
      "Epoch:\t 1 Val Loss:\t 2.1085953446704098\n",
      "Epoch:\t 2 Val Loss:\t 2.1095428199125656\n",
      "Epoch:\t 3 Val Loss:\t 2.1069132832402504\n",
      "Epoch:\t 4 Val Loss:\t 2.109343175899533\n",
      "Epoch:\t 5 Val Loss:\t 2.108024870479403\n",
      "Epoch:\t 6 Val Loss:\t 2.1074421755676758\n",
      "Epoch:\t 7 Val Loss:\t 2.106248382959924\n",
      "Epoch:\t 8 Val Loss:\t 2.109872137630282\n",
      "Epoch:\t 9 Val Loss:\t 2.1091910501241493\n",
      "Epoch:\t 10 Val Loss:\t 2.1087054202531754\n",
      "Epoch:\t 11 Val Loss:\t 2.107752142663755\n",
      "Epoch:\t 12 Val Loss:\t 2.108920414923857\n",
      "Epoch:\t 13 Val Loss:\t 2.1094740286959395\n",
      "Epoch:\t 14 Val Loss:\t 2.1096331175557115\n",
      "Epoch:\t 15 Val Loss:\t 2.109105741012163\n",
      "Epoch:\t 16 Val Loss:\t 2.1104300401644793\n"
     ]
    },
    {
     "name": "stderr",
     "output_type": "stream",
     "text": [
      "[I 2025-05-25 21:16:23,178] Trial 24 finished with value: 2.106248382959924 and parameters: {'lr': 0.001, 'weight_decay': 0.0001, 'scheduler_factor': 0.1, 'scheduler_patience': 10, 'batch_size': 64, 'dropout': 0.1, 'hidden_dims': 128}. Best is trial 16 with value: 2.103993317558943.\n"
     ]
    },
    {
     "name": "stdout",
     "output_type": "stream",
     "text": [
      "Epoch:\t 17 Val Loss:\t 2.108486837258603\n",
      "Skipping final ReLU layer ...\n"
     ]
    },
    {
     "name": "stderr",
     "output_type": "stream",
     "text": [
      "[I 2025-05-25 21:16:27,485] Trial 25 pruned. \n"
     ]
    },
    {
     "name": "stdout",
     "output_type": "stream",
     "text": [
      "Epoch:\t 0 Val Loss:\t 2.1148556945411965\n",
      "Skipping final ReLU layer ...\n"
     ]
    },
    {
     "name": "stderr",
     "output_type": "stream",
     "text": [
      "[I 2025-05-25 21:16:34,064] Trial 26 pruned. \n"
     ]
    },
    {
     "name": "stdout",
     "output_type": "stream",
     "text": [
      "Epoch:\t 0 Val Loss:\t 2.159543543121962\n",
      "Skipping final ReLU layer ...\n"
     ]
    },
    {
     "name": "stderr",
     "output_type": "stream",
     "text": [
      "[I 2025-05-25 21:16:40,349] Trial 27 pruned. \n"
     ]
    },
    {
     "name": "stdout",
     "output_type": "stream",
     "text": [
      "Epoch:\t 0 Val Loss:\t 2.2770971017736574\n",
      "Skipping final ReLU layer ...\n",
      "Epoch:\t 0 Val Loss:\t 2.113265188866457\n",
      "Epoch:\t 1 Val Loss:\t 2.1131405171720905\n",
      "Epoch:\t 2 Val Loss:\t 2.110191051732471\n",
      "Epoch:\t 3 Val Loss:\t 2.1087661811420224\n",
      "Epoch:\t 4 Val Loss:\t 2.1110940214721508\n",
      "Epoch:\t 5 Val Loss:\t 2.1084803883897463\n",
      "Epoch:\t 6 Val Loss:\t 2.1103960760326124\n",
      "Epoch:\t 7 Val Loss:\t 2.1087657137689537\n",
      "Epoch:\t 8 Val Loss:\t 2.1087823698017822\n",
      "Epoch:\t 9 Val Loss:\t 2.110494645959201\n",
      "Epoch:\t 10 Val Loss:\t 2.109435191705118\n",
      "Epoch:\t 11 Val Loss:\t 2.1110418156422703\n",
      "Epoch:\t 12 Val Loss:\t 2.10994675413742\n",
      "Epoch:\t 13 Val Loss:\t 2.110325303379784\n",
      "Epoch:\t 14 Val Loss:\t 2.1095868237226987\n"
     ]
    },
    {
     "name": "stderr",
     "output_type": "stream",
     "text": [
      "[I 2025-05-25 21:18:21,574] Trial 28 finished with value: 2.1084803883897463 and parameters: {'lr': 0.001, 'weight_decay': 0.0001, 'scheduler_factor': 0.5, 'scheduler_patience': 20, 'batch_size': 64, 'dropout': 0.1, 'hidden_dims': 128}. Best is trial 16 with value: 2.103993317558943.\n"
     ]
    },
    {
     "name": "stdout",
     "output_type": "stream",
     "text": [
      "Epoch:\t 15 Val Loss:\t 2.1092894211136635\n",
      "Skipping final ReLU layer ...\n"
     ]
    },
    {
     "name": "stderr",
     "output_type": "stream",
     "text": [
      "[I 2025-05-25 21:18:24,724] Trial 29 pruned. \n"
     ]
    },
    {
     "name": "stdout",
     "output_type": "stream",
     "text": [
      "Epoch:\t 0 Val Loss:\t 2.4121378296057894\n",
      "Skipping final ReLU layer ...\n"
     ]
    },
    {
     "name": "stderr",
     "output_type": "stream",
     "text": [
      "[I 2025-05-25 21:18:43,426] Trial 30 pruned. \n"
     ]
    },
    {
     "name": "stdout",
     "output_type": "stream",
     "text": [
      "Epoch:\t 0 Val Loss:\t 2.1203014705993684\n",
      "Skipping final ReLU layer ...\n",
      "Epoch:\t 0 Val Loss:\t 2.1103902575294784\n",
      "Epoch:\t 1 Val Loss:\t 2.109709151095166\n",
      "Epoch:\t 2 Val Loss:\t 2.1112797886443886\n",
      "Epoch:\t 3 Val Loss:\t 2.111333154924602\n",
      "Epoch:\t 4 Val Loss:\t 2.1102646188728316\n",
      "Epoch:\t 5 Val Loss:\t 2.108873858581855\n",
      "Epoch:\t 6 Val Loss:\t 2.107578616478774\n",
      "Epoch:\t 7 Val Loss:\t 2.1075246441144415\n",
      "Epoch:\t 8 Val Loss:\t 2.1092358705226957\n",
      "Epoch:\t 9 Val Loss:\t 2.1092784203045256\n",
      "Epoch:\t 10 Val Loss:\t 2.1079450977642056\n",
      "Epoch:\t 11 Val Loss:\t 2.1092647735653824\n",
      "Epoch:\t 12 Val Loss:\t 2.1085101131830775\n",
      "Epoch:\t 13 Val Loss:\t 2.1067351930697824\n",
      "Epoch:\t 14 Val Loss:\t 2.107238250440278\n",
      "Epoch:\t 15 Val Loss:\t 2.107640203802511\n",
      "Epoch:\t 16 Val Loss:\t 2.1093582073592527\n",
      "Epoch:\t 17 Val Loss:\t 2.1064142598662268\n",
      "Epoch:\t 18 Val Loss:\t 2.106529252473698\n",
      "Epoch:\t 19 Val Loss:\t 2.106275502738708\n",
      "Epoch:\t 20 Val Loss:\t 2.107056655210787\n",
      "Epoch:\t 21 Val Loss:\t 2.106916316815539\n",
      "Epoch:\t 22 Val Loss:\t 2.1074609582483435\n",
      "Epoch:\t 23 Val Loss:\t 2.1083431143519777\n",
      "Epoch:\t 24 Val Loss:\t 2.1075909562175905\n",
      "Epoch:\t 25 Val Loss:\t 2.1093878493656995\n",
      "Epoch:\t 26 Val Loss:\t 2.1070768216560625\n",
      "Epoch:\t 27 Val Loss:\t 2.106544281639093\n",
      "Epoch:\t 28 Val Loss:\t 2.109051849331584\n"
     ]
    },
    {
     "name": "stderr",
     "output_type": "stream",
     "text": [
      "[I 2025-05-25 21:21:55,758] Trial 31 finished with value: 2.106275502738708 and parameters: {'lr': 0.001, 'weight_decay': 0.0001, 'scheduler_factor': 0.1, 'scheduler_patience': 5, 'batch_size': 64, 'dropout': 0.1, 'hidden_dims': 128}. Best is trial 16 with value: 2.103993317558943.\n"
     ]
    },
    {
     "name": "stdout",
     "output_type": "stream",
     "text": [
      "Epoch:\t 29 Val Loss:\t 2.107531929933843\n",
      "Skipping final ReLU layer ...\n",
      "Epoch:\t 0 Val Loss:\t 2.112707646158856\n",
      "Epoch:\t 1 Val Loss:\t 2.110854174771496\n",
      "Epoch:\t 2 Val Loss:\t 2.1095627096049197\n",
      "Epoch:\t 3 Val Loss:\t 2.1074512136775967\n",
      "Epoch:\t 4 Val Loss:\t 2.110763303833956\n",
      "Epoch:\t 5 Val Loss:\t 2.1141892740414825\n",
      "Epoch:\t 6 Val Loss:\t 2.112463628662617\n",
      "Epoch:\t 7 Val Loss:\t 2.1087099768777033\n",
      "Epoch:\t 8 Val Loss:\t 2.1077031494620906\n",
      "Epoch:\t 9 Val Loss:\t 2.109779444138528\n",
      "Epoch:\t 10 Val Loss:\t 2.1066757779935883\n",
      "Epoch:\t 11 Val Loss:\t 2.1073006359022335\n",
      "Epoch:\t 12 Val Loss:\t 2.10705023836688\n",
      "Epoch:\t 13 Val Loss:\t 2.1072360752292316\n",
      "Epoch:\t 14 Val Loss:\t 2.1073718435207938\n",
      "Epoch:\t 15 Val Loss:\t 2.1069367858248897\n",
      "Epoch:\t 16 Val Loss:\t 2.1066971257293137\n",
      "Epoch:\t 17 Val Loss:\t 2.107023450404812\n",
      "Epoch:\t 18 Val Loss:\t 2.107027039589075\n",
      "Epoch:\t 19 Val Loss:\t 2.1086824449808383\n"
     ]
    },
    {
     "name": "stderr",
     "output_type": "stream",
     "text": [
      "[I 2025-05-25 21:24:09,871] Trial 32 finished with value: 2.1066757779935883 and parameters: {'lr': 0.001, 'weight_decay': 0.0001, 'scheduler_factor': 0.1, 'scheduler_patience': 5, 'batch_size': 64, 'dropout': 0.1, 'hidden_dims': 128}. Best is trial 16 with value: 2.103993317558943.\n"
     ]
    },
    {
     "name": "stdout",
     "output_type": "stream",
     "text": [
      "Epoch:\t 20 Val Loss:\t 2.108434649209739\n",
      "Skipping final ReLU layer ...\n",
      "Epoch:\t 0 Val Loss:\t 2.1111597544494973\n",
      "Epoch:\t 1 Val Loss:\t 2.114431260964731\n",
      "Epoch:\t 2 Val Loss:\t 2.1094691296434442\n",
      "Epoch:\t 3 Val Loss:\t 2.110087658752894\n",
      "Epoch:\t 4 Val Loss:\t 2.1076170305490685\n",
      "Epoch:\t 5 Val Loss:\t 2.1130564765348945\n",
      "Epoch:\t 6 Val Loss:\t 2.110187015632868\n",
      "Epoch:\t 7 Val Loss:\t 2.1073086255057487\n",
      "Epoch:\t 8 Val Loss:\t 2.1073842204467907\n",
      "Epoch:\t 9 Val Loss:\t 2.108220908769915\n",
      "Epoch:\t 10 Val Loss:\t 2.1092637345230667\n",
      "Epoch:\t 11 Val Loss:\t 2.1105190144602357\n",
      "Epoch:\t 12 Val Loss:\t 2.107528971688883\n",
      "Epoch:\t 13 Val Loss:\t 2.1078908997912738\n",
      "Epoch:\t 14 Val Loss:\t 2.1080475254066484\n",
      "Epoch:\t 15 Val Loss:\t 2.1072161682338453\n",
      "Epoch:\t 16 Val Loss:\t 2.1073525980557073\n",
      "Epoch:\t 17 Val Loss:\t 2.106553772686956\n",
      "Epoch:\t 18 Val Loss:\t 2.1085913775917424\n",
      "Epoch:\t 19 Val Loss:\t 2.1068138479708476\n",
      "Epoch:\t 20 Val Loss:\t 2.1078298283082155\n",
      "Epoch:\t 21 Val Loss:\t 2.108826130987074\n",
      "Epoch:\t 22 Val Loss:\t 2.1080377660183878\n",
      "Epoch:\t 23 Val Loss:\t 2.1072164235730697\n",
      "Epoch:\t 24 Val Loss:\t 2.1049101785745443\n",
      "Epoch:\t 25 Val Loss:\t 2.1075784875186043\n",
      "Epoch:\t 26 Val Loss:\t 2.1074088254544674\n",
      "Epoch:\t 27 Val Loss:\t 2.107062745400209\n",
      "Epoch:\t 28 Val Loss:\t 2.106997887516557\n",
      "Epoch:\t 29 Val Loss:\t 2.106946715757956\n",
      "Epoch:\t 30 Val Loss:\t 2.1086260619503836\n",
      "Epoch:\t 31 Val Loss:\t 2.1070965740713197\n",
      "Epoch:\t 32 Val Loss:\t 2.106914244562316\n",
      "Epoch:\t 33 Val Loss:\t 2.1061709602068404\n"
     ]
    },
    {
     "name": "stderr",
     "output_type": "stream",
     "text": [
      "[I 2025-05-25 21:27:52,513] Trial 33 finished with value: 2.1049101785745443 and parameters: {'lr': 0.001, 'weight_decay': 0.0001, 'scheduler_factor': 0.1, 'scheduler_patience': 5, 'batch_size': 64, 'dropout': 0.1, 'hidden_dims': 128}. Best is trial 16 with value: 2.103993317558943.\n"
     ]
    },
    {
     "name": "stdout",
     "output_type": "stream",
     "text": [
      "Epoch:\t 34 Val Loss:\t 2.106752556423808\n",
      "Skipping final ReLU layer ...\n"
     ]
    },
    {
     "name": "stderr",
     "output_type": "stream",
     "text": [
      "[I 2025-05-25 21:28:03,024] Trial 34 pruned. \n"
     ]
    },
    {
     "name": "stdout",
     "output_type": "stream",
     "text": [
      "Epoch:\t 0 Val Loss:\t 2.120875069373595\n",
      "Skipping final ReLU layer ...\n"
     ]
    },
    {
     "name": "stderr",
     "output_type": "stream",
     "text": [
      "[I 2025-05-25 21:28:09,563] Trial 35 pruned. \n"
     ]
    },
    {
     "name": "stdout",
     "output_type": "stream",
     "text": [
      "Epoch:\t 0 Val Loss:\t 2.117884005655168\n",
      "Skipping final ReLU layer ...\n"
     ]
    },
    {
     "name": "stderr",
     "output_type": "stream",
     "text": [
      "[I 2025-05-25 21:28:20,485] Trial 36 pruned. \n"
     ]
    },
    {
     "name": "stdout",
     "output_type": "stream",
     "text": [
      "Epoch:\t 0 Val Loss:\t 2.2561528547971186\n",
      "Skipping final ReLU layer ...\n"
     ]
    },
    {
     "name": "stderr",
     "output_type": "stream",
     "text": [
      "[I 2025-05-25 21:28:23,870] Trial 37 pruned. \n"
     ]
    },
    {
     "name": "stdout",
     "output_type": "stream",
     "text": [
      "Epoch:\t 0 Val Loss:\t 2.1160754544175324\n",
      "Skipping final ReLU layer ...\n"
     ]
    },
    {
     "name": "stderr",
     "output_type": "stream",
     "text": [
      "[I 2025-05-25 21:28:28,138] Trial 38 pruned. \n"
     ]
    },
    {
     "name": "stdout",
     "output_type": "stream",
     "text": [
      "Epoch:\t 0 Val Loss:\t 2.1162748143531345\n",
      "Skipping final ReLU layer ...\n"
     ]
    },
    {
     "name": "stderr",
     "output_type": "stream",
     "text": [
      "[I 2025-05-25 21:28:34,576] Trial 39 pruned. \n"
     ]
    },
    {
     "name": "stdout",
     "output_type": "stream",
     "text": [
      "Epoch:\t 0 Val Loss:\t 2.391549257918559\n",
      "Skipping final ReLU layer ...\n"
     ]
    },
    {
     "name": "stderr",
     "output_type": "stream",
     "text": [
      "[I 2025-05-25 21:28:41,143] Trial 40 pruned. \n"
     ]
    },
    {
     "name": "stdout",
     "output_type": "stream",
     "text": [
      "Epoch:\t 0 Val Loss:\t 2.132647041999156\n",
      "Skipping final ReLU layer ...\n",
      "Epoch:\t 0 Val Loss:\t 2.1122987696717237\n",
      "Epoch:\t 1 Val Loss:\t 2.1096535350383525\n",
      "Epoch:\t 2 Val Loss:\t 2.110079485698997\n",
      "Epoch:\t 3 Val Loss:\t 2.1151142543855435\n",
      "Epoch:\t 4 Val Loss:\t 2.1103522922864606\n",
      "Epoch:\t 5 Val Loss:\t 2.1099551523219326\n",
      "Epoch:\t 6 Val Loss:\t 2.108344567711103\n",
      "Epoch:\t 7 Val Loss:\t 2.108850675099548\n",
      "Epoch:\t 8 Val Loss:\t 2.1092616591151465\n",
      "Epoch:\t 9 Val Loss:\t 2.1103142851720165\n",
      "Epoch:\t 10 Val Loss:\t 2.1100113837357606\n",
      "Epoch:\t 11 Val Loss:\t 2.1089031824419378\n",
      "Epoch:\t 12 Val Loss:\t 2.107575027198914\n",
      "Epoch:\t 13 Val Loss:\t 2.1074256406560745\n",
      "Epoch:\t 14 Val Loss:\t 2.107560589778108\n",
      "Epoch:\t 15 Val Loss:\t 2.109351863742544\n",
      "Epoch:\t 16 Val Loss:\t 2.104530970382996\n",
      "Epoch:\t 17 Val Loss:\t 2.1088684616608915\n",
      "Epoch:\t 18 Val Loss:\t 2.1086559038498733\n",
      "Epoch:\t 19 Val Loss:\t 2.10936142572328\n",
      "Epoch:\t 20 Val Loss:\t 2.1128094944843028\n",
      "Epoch:\t 21 Val Loss:\t 2.1117620190908744\n",
      "Epoch:\t 22 Val Loss:\t 2.1091240678869827\n",
      "Epoch:\t 23 Val Loss:\t 2.1078302236012485\n",
      "Epoch:\t 24 Val Loss:\t 2.106850270567269\n",
      "Epoch:\t 25 Val Loss:\t 2.1084449271153907\n"
     ]
    },
    {
     "name": "stderr",
     "output_type": "stream",
     "text": [
      "[I 2025-05-25 21:31:34,353] Trial 41 finished with value: 2.104530970382996 and parameters: {'lr': 0.001, 'weight_decay': 0.0001, 'scheduler_factor': 0.1, 'scheduler_patience': 5, 'batch_size': 64, 'dropout': 0.1, 'hidden_dims': 128}. Best is trial 16 with value: 2.103993317558943.\n"
     ]
    },
    {
     "name": "stdout",
     "output_type": "stream",
     "text": [
      "Epoch:\t 26 Val Loss:\t 2.1081332855446395\n",
      "Skipping final ReLU layer ...\n",
      "Epoch:\t 0 Val Loss:\t 2.1094583457435907\n",
      "Epoch:\t 1 Val Loss:\t 2.109824576756432\n",
      "Epoch:\t 2 Val Loss:\t 2.1092038798924917\n",
      "Epoch:\t 3 Val Loss:\t 2.110920870696055\n",
      "Epoch:\t 4 Val Loss:\t 2.109141208022331\n",
      "Epoch:\t 5 Val Loss:\t 2.111225182855234\n",
      "Epoch:\t 6 Val Loss:\t 2.1081764473375935\n",
      "Epoch:\t 7 Val Loss:\t 2.1102354000737025\n",
      "Epoch:\t 8 Val Loss:\t 2.107889430754263\n",
      "Epoch:\t 9 Val Loss:\t 2.1100884569867095\n",
      "Epoch:\t 10 Val Loss:\t 2.11018379029027\n",
      "Epoch:\t 11 Val Loss:\t 2.108506291985225\n",
      "Epoch:\t 12 Val Loss:\t 2.108506312538551\n",
      "Epoch:\t 13 Val Loss:\t 2.110441704798242\n",
      "Epoch:\t 14 Val Loss:\t 2.1088829024275877\n",
      "Epoch:\t 15 Val Loss:\t 2.1070051741963303\n",
      "Epoch:\t 16 Val Loss:\t 2.10782612670204\n",
      "Epoch:\t 17 Val Loss:\t 2.1071047121367648\n",
      "Epoch:\t 18 Val Loss:\t 2.1073141905815964\n",
      "Epoch:\t 19 Val Loss:\t 2.107323074015791\n",
      "Epoch:\t 20 Val Loss:\t 2.1081261032566414\n",
      "Epoch:\t 21 Val Loss:\t 2.107322255133053\n",
      "Epoch:\t 22 Val Loss:\t 2.1068695572346043\n",
      "Epoch:\t 23 Val Loss:\t 2.1072782030465036\n",
      "Epoch:\t 24 Val Loss:\t 2.106599306142512\n",
      "Epoch:\t 25 Val Loss:\t 2.107041685984626\n",
      "Epoch:\t 26 Val Loss:\t 2.107365696164447\n",
      "Epoch:\t 27 Val Loss:\t 2.1074847736259223\n",
      "Epoch:\t 28 Val Loss:\t 2.1071502963542557\n",
      "Epoch:\t 29 Val Loss:\t 2.1076395520230915\n",
      "Epoch:\t 30 Val Loss:\t 2.107934307937347\n",
      "Epoch:\t 31 Val Loss:\t 2.1069793314004577\n",
      "Epoch:\t 32 Val Loss:\t 2.107489791983304\n",
      "Epoch:\t 33 Val Loss:\t 2.106004245872008\n",
      "Epoch:\t 34 Val Loss:\t 2.1068918428711636\n",
      "Epoch:\t 35 Val Loss:\t 2.1081264052471353\n",
      "Epoch:\t 36 Val Loss:\t 2.107675614410529\n",
      "Epoch:\t 37 Val Loss:\t 2.1076244069942973\n",
      "Epoch:\t 38 Val Loss:\t 2.1078427856983715\n",
      "Epoch:\t 39 Val Loss:\t 2.106873648302404\n",
      "Epoch:\t 40 Val Loss:\t 2.1069441952510366\n",
      "Epoch:\t 41 Val Loss:\t 2.1080212654260606\n",
      "Epoch:\t 42 Val Loss:\t 2.106968478766459\n"
     ]
    },
    {
     "name": "stderr",
     "output_type": "stream",
     "text": [
      "[I 2025-05-25 21:36:17,336] Trial 42 finished with value: 2.106004245872008 and parameters: {'lr': 0.001, 'weight_decay': 0.0001, 'scheduler_factor': 0.1, 'scheduler_patience': 5, 'batch_size': 64, 'dropout': 0.1, 'hidden_dims': 128}. Best is trial 16 with value: 2.103993317558943.\n"
     ]
    },
    {
     "name": "stdout",
     "output_type": "stream",
     "text": [
      "Epoch:\t 43 Val Loss:\t 2.1068993103246068\n",
      "Skipping final ReLU layer ...\n",
      "Epoch:\t 0 Val Loss:\t 2.110385014519466\n",
      "Epoch:\t 1 Val Loss:\t 2.1103472891289803\n",
      "Epoch:\t 2 Val Loss:\t 2.109412508385604\n",
      "Epoch:\t 3 Val Loss:\t 2.108229432281916\n",
      "Epoch:\t 4 Val Loss:\t 2.1115092961618016\n",
      "Epoch:\t 5 Val Loss:\t 2.1109742596327257\n",
      "Epoch:\t 6 Val Loss:\t 2.111398671757439\n",
      "Epoch:\t 7 Val Loss:\t 2.108313530946409\n",
      "Epoch:\t 8 Val Loss:\t 2.1100872658497827\n",
      "Epoch:\t 9 Val Loss:\t 2.1077862967465912\n",
      "Epoch:\t 10 Val Loss:\t 2.109221707178099\n",
      "Epoch:\t 11 Val Loss:\t 2.1099311310287083\n",
      "Epoch:\t 12 Val Loss:\t 2.109894129402081\n",
      "Epoch:\t 13 Val Loss:\t 2.108819801614298\n",
      "Epoch:\t 14 Val Loss:\t 2.109046613108949\n",
      "Epoch:\t 15 Val Loss:\t 2.109798313525551\n",
      "Epoch:\t 16 Val Loss:\t 2.1078162661722972\n",
      "Epoch:\t 17 Val Loss:\t 2.106716922119128\n",
      "Epoch:\t 18 Val Loss:\t 2.1074891781558396\n",
      "Epoch:\t 19 Val Loss:\t 2.108586477870069\n",
      "Epoch:\t 20 Val Loss:\t 2.108446737528803\n",
      "Epoch:\t 21 Val Loss:\t 2.1096144236845307\n",
      "Epoch:\t 22 Val Loss:\t 2.1075885741349305\n",
      "Epoch:\t 23 Val Loss:\t 2.110413135962192\n"
     ]
    },
    {
     "name": "stderr",
     "output_type": "stream",
     "text": [
      "[I 2025-05-25 21:38:59,074] Trial 43 pruned. \n"
     ]
    },
    {
     "name": "stdout",
     "output_type": "stream",
     "text": [
      "Epoch:\t 24 Val Loss:\t 2.1080053516072854\n",
      "Skipping final ReLU layer ...\n"
     ]
    },
    {
     "name": "stderr",
     "output_type": "stream",
     "text": [
      "[I 2025-05-25 21:39:05,668] Trial 44 pruned. \n"
     ]
    },
    {
     "name": "stdout",
     "output_type": "stream",
     "text": [
      "Epoch:\t 0 Val Loss:\t 2.274485811483602\n",
      "Skipping final ReLU layer ...\n"
     ]
    },
    {
     "name": "stderr",
     "output_type": "stream",
     "text": [
      "[I 2025-05-25 21:39:12,060] Trial 45 pruned. \n"
     ]
    },
    {
     "name": "stdout",
     "output_type": "stream",
     "text": [
      "Epoch:\t 0 Val Loss:\t 2.113341236267457\n",
      "Skipping final ReLU layer ...\n"
     ]
    },
    {
     "name": "stderr",
     "output_type": "stream",
     "text": [
      "[I 2025-05-25 21:39:30,773] Trial 46 pruned. \n"
     ]
    },
    {
     "name": "stdout",
     "output_type": "stream",
     "text": [
      "Epoch:\t 0 Val Loss:\t 2.117326758567567\n",
      "Skipping final ReLU layer ...\n"
     ]
    },
    {
     "name": "stderr",
     "output_type": "stream",
     "text": [
      "[I 2025-05-25 21:39:34,115] Trial 47 pruned. \n"
     ]
    },
    {
     "name": "stdout",
     "output_type": "stream",
     "text": [
      "Epoch:\t 0 Val Loss:\t 2.375975762532838\n",
      "Skipping final ReLU layer ...\n"
     ]
    },
    {
     "name": "stderr",
     "output_type": "stream",
     "text": [
      "[I 2025-05-25 21:39:38,459] Trial 48 pruned. \n"
     ]
    },
    {
     "name": "stdout",
     "output_type": "stream",
     "text": [
      "Epoch:\t 0 Val Loss:\t 2.1175067851478366\n",
      "Skipping final ReLU layer ...\n"
     ]
    },
    {
     "name": "stderr",
     "output_type": "stream",
     "text": [
      "[I 2025-05-25 21:39:45,140] Trial 49 pruned. \n"
     ]
    },
    {
     "name": "stdout",
     "output_type": "stream",
     "text": [
      "Epoch:\t 0 Val Loss:\t 2.117413830546828\n",
      "Training model with best parameters on train+validation ...\n"
     ]
    },
    {
     "name": "stderr",
     "output_type": "stream",
     "text": [
      "100%|███████████████████████████████████████████████████████████████████████████████████████████████████████████████████████████████████████████████████| 401917/401917 [05:24<00:00, 1238.53it/s]\n",
      "100%|███████████████████████████████████████████████████████████████████████████████████████████████████████████████████████████████████████████████████| 401917/401917 [01:40<00:00, 4011.06it/s]\n"
     ]
    },
    {
     "name": "stdout",
     "output_type": "stream",
     "text": [
      "Skipping final ReLU layer ...\n",
      "Getting test set predictions and saving results ...\n"
     ]
    },
    {
     "name": "stderr",
     "output_type": "stream",
     "text": [
      "100%|████████████████████████████████████████████████████████████████████████████████████████████████████████████████████████████████████████████████████████| 1223/1223 [00:01<00:00, 911.28it/s]\n",
      "/home/victor/.local/lib/python3.12/site-packages/anndata/_core/anndata.py:1756: UserWarning: Observation names are not unique. To make them unique, call `.obs_names_make_unique`.\n",
      "  utils.warn_names_duplicates(\"obs\")\n",
      "/home/victor/.local/lib/python3.12/site-packages/scanpy/tools/_rank_genes_groups.py:461: RuntimeWarning: invalid value encountered in log2\n",
      "  self.stats[group_name, \"logfoldchanges\"] = np.log2(\n",
      "/home/victor/.local/lib/python3.12/site-packages/scanpy/tools/_rank_genes_groups.py:461: RuntimeWarning: invalid value encountered in log2\n",
      "  self.stats[group_name, \"logfoldchanges\"] = np.log2(\n",
      "/home/victor/.local/lib/python3.12/site-packages/scanpy/tools/_rank_genes_groups.py:461: RuntimeWarning: invalid value encountered in log2\n",
      "  self.stats[group_name, \"logfoldchanges\"] = np.log2(\n",
      "/home/victor/.local/lib/python3.12/site-packages/scanpy/tools/_rank_genes_groups.py:461: RuntimeWarning: invalid value encountered in log2\n",
      "  self.stats[group_name, \"logfoldchanges\"] = np.log2(\n",
      "/home/victor/.local/lib/python3.12/site-packages/scanpy/tools/_rank_genes_groups.py:461: RuntimeWarning: invalid value encountered in log2\n",
      "  self.stats[group_name, \"logfoldchanges\"] = np.log2(\n",
      "/home/victor/.local/lib/python3.12/site-packages/scanpy/tools/_rank_genes_groups.py:461: RuntimeWarning: invalid value encountered in log2\n",
      "  self.stats[group_name, \"logfoldchanges\"] = np.log2(\n",
      "/home/victor/.local/lib/python3.12/site-packages/scanpy/tools/_rank_genes_groups.py:461: RuntimeWarning: invalid value encountered in log2\n",
      "  self.stats[group_name, \"logfoldchanges\"] = np.log2(\n",
      "/home/victor/.local/lib/python3.12/site-packages/scanpy/tools/_rank_genes_groups.py:461: RuntimeWarning: invalid value encountered in log2\n",
      "  self.stats[group_name, \"logfoldchanges\"] = np.log2(\n",
      "/home/victor/.local/lib/python3.12/site-packages/scanpy/tools/_rank_genes_groups.py:461: RuntimeWarning: invalid value encountered in log2\n",
      "  self.stats[group_name, \"logfoldchanges\"] = np.log2(\n",
      "/home/victor/.local/lib/python3.12/site-packages/scanpy/tools/_rank_genes_groups.py:461: RuntimeWarning: invalid value encountered in log2\n",
      "  self.stats[group_name, \"logfoldchanges\"] = np.log2(\n",
      "/home/victor/.local/lib/python3.12/site-packages/scanpy/tools/_rank_genes_groups.py:461: RuntimeWarning: invalid value encountered in log2\n",
      "  self.stats[group_name, \"logfoldchanges\"] = np.log2(\n",
      "/home/victor/.local/lib/python3.12/site-packages/scanpy/tools/_rank_genes_groups.py:461: RuntimeWarning: invalid value encountered in log2\n",
      "  self.stats[group_name, \"logfoldchanges\"] = np.log2(\n",
      "/home/victor/.local/lib/python3.12/site-packages/scanpy/tools/_rank_genes_groups.py:461: RuntimeWarning: invalid value encountered in log2\n",
      "  self.stats[group_name, \"logfoldchanges\"] = np.log2(\n",
      "/home/victor/.local/lib/python3.12/site-packages/scanpy/tools/_rank_genes_groups.py:461: RuntimeWarning: invalid value encountered in log2\n",
      "  self.stats[group_name, \"logfoldchanges\"] = np.log2(\n",
      "/home/victor/.local/lib/python3.12/site-packages/scanpy/tools/_rank_genes_groups.py:461: RuntimeWarning: invalid value encountered in log2\n",
      "  self.stats[group_name, \"logfoldchanges\"] = np.log2(\n",
      "/home/victor/.local/lib/python3.12/site-packages/scanpy/tools/_rank_genes_groups.py:461: RuntimeWarning: invalid value encountered in log2\n",
      "  self.stats[group_name, \"logfoldchanges\"] = np.log2(\n",
      "/home/victor/.local/lib/python3.12/site-packages/scanpy/tools/_rank_genes_groups.py:461: RuntimeWarning: invalid value encountered in log2\n",
      "  self.stats[group_name, \"logfoldchanges\"] = np.log2(\n",
      "/home/victor/.local/lib/python3.12/site-packages/scanpy/tools/_rank_genes_groups.py:461: RuntimeWarning: invalid value encountered in log2\n",
      "  self.stats[group_name, \"logfoldchanges\"] = np.log2(\n",
      "/home/victor/.local/lib/python3.12/site-packages/scanpy/tools/_rank_genes_groups.py:461: RuntimeWarning: invalid value encountered in log2\n",
      "  self.stats[group_name, \"logfoldchanges\"] = np.log2(\n",
      "/home/victor/.local/lib/python3.12/site-packages/scanpy/tools/_rank_genes_groups.py:461: RuntimeWarning: invalid value encountered in log2\n",
      "  self.stats[group_name, \"logfoldchanges\"] = np.log2(\n",
      "/home/victor/.local/lib/python3.12/site-packages/scanpy/tools/_rank_genes_groups.py:461: RuntimeWarning: invalid value encountered in log2\n",
      "  self.stats[group_name, \"logfoldchanges\"] = np.log2(\n",
      "/home/victor/.local/lib/python3.12/site-packages/scanpy/tools/_rank_genes_groups.py:461: RuntimeWarning: invalid value encountered in log2\n",
      "  self.stats[group_name, \"logfoldchanges\"] = np.log2(\n",
      "/home/victor/.local/lib/python3.12/site-packages/scanpy/tools/_rank_genes_groups.py:461: RuntimeWarning: invalid value encountered in log2\n",
      "  self.stats[group_name, \"logfoldchanges\"] = np.log2(\n",
      "/home/victor/.local/lib/python3.12/site-packages/scanpy/tools/_rank_genes_groups.py:461: RuntimeWarning: invalid value encountered in log2\n",
      "  self.stats[group_name, \"logfoldchanges\"] = np.log2(\n",
      "/home/victor/.local/lib/python3.12/site-packages/scanpy/tools/_rank_genes_groups.py:461: RuntimeWarning: invalid value encountered in log2\n",
      "  self.stats[group_name, \"logfoldchanges\"] = np.log2(\n",
      "/home/victor/.local/lib/python3.12/site-packages/scanpy/tools/_rank_genes_groups.py:461: RuntimeWarning: invalid value encountered in log2\n",
      "  self.stats[group_name, \"logfoldchanges\"] = np.log2(\n",
      "/home/victor/.local/lib/python3.12/site-packages/scanpy/tools/_rank_genes_groups.py:461: RuntimeWarning: invalid value encountered in log2\n",
      "  self.stats[group_name, \"logfoldchanges\"] = np.log2(\n",
      "/home/victor/.local/lib/python3.12/site-packages/scanpy/tools/_rank_genes_groups.py:461: RuntimeWarning: invalid value encountered in log2\n",
      "  self.stats[group_name, \"logfoldchanges\"] = np.log2(\n",
      "/home/victor/.local/lib/python3.12/site-packages/scanpy/tools/_rank_genes_groups.py:461: RuntimeWarning: invalid value encountered in log2\n",
      "  self.stats[group_name, \"logfoldchanges\"] = np.log2(\n",
      "/home/victor/.local/lib/python3.12/site-packages/scanpy/tools/_rank_genes_groups.py:461: RuntimeWarning: invalid value encountered in log2\n",
      "  self.stats[group_name, \"logfoldchanges\"] = np.log2(\n",
      "/home/victor/.local/lib/python3.12/site-packages/scanpy/tools/_rank_genes_groups.py:461: RuntimeWarning: invalid value encountered in log2\n",
      "  self.stats[group_name, \"logfoldchanges\"] = np.log2(\n",
      "/home/victor/.local/lib/python3.12/site-packages/scanpy/tools/_rank_genes_groups.py:461: RuntimeWarning: invalid value encountered in log2\n",
      "  self.stats[group_name, \"logfoldchanges\"] = np.log2(\n",
      "/home/victor/.local/lib/python3.12/site-packages/scanpy/tools/_rank_genes_groups.py:461: RuntimeWarning: invalid value encountered in log2\n",
      "  self.stats[group_name, \"logfoldchanges\"] = np.log2(\n",
      "/home/victor/.local/lib/python3.12/site-packages/scanpy/tools/_rank_genes_groups.py:461: RuntimeWarning: invalid value encountered in log2\n",
      "  self.stats[group_name, \"logfoldchanges\"] = np.log2(\n",
      "/home/victor/.local/lib/python3.12/site-packages/scanpy/tools/_rank_genes_groups.py:461: RuntimeWarning: invalid value encountered in log2\n",
      "  self.stats[group_name, \"logfoldchanges\"] = np.log2(\n",
      "/home/victor/.local/lib/python3.12/site-packages/scanpy/tools/_rank_genes_groups.py:461: RuntimeWarning: invalid value encountered in log2\n",
      "  self.stats[group_name, \"logfoldchanges\"] = np.log2(\n",
      "/home/victor/.local/lib/python3.12/site-packages/scanpy/tools/_rank_genes_groups.py:461: RuntimeWarning: invalid value encountered in log2\n",
      "  self.stats[group_name, \"logfoldchanges\"] = np.log2(\n",
      "/home/victor/.local/lib/python3.12/site-packages/scanpy/tools/_rank_genes_groups.py:461: RuntimeWarning: invalid value encountered in log2\n",
      "  self.stats[group_name, \"logfoldchanges\"] = np.log2(\n",
      "/home/victor/.local/lib/python3.12/site-packages/scanpy/tools/_rank_genes_groups.py:461: RuntimeWarning: invalid value encountered in log2\n",
      "  self.stats[group_name, \"logfoldchanges\"] = np.log2(\n",
      "/home/victor/.local/lib/python3.12/site-packages/scanpy/tools/_rank_genes_groups.py:461: RuntimeWarning: invalid value encountered in log2\n",
      "  self.stats[group_name, \"logfoldchanges\"] = np.log2(\n",
      "/home/victor/.local/lib/python3.12/site-packages/scanpy/tools/_rank_genes_groups.py:461: RuntimeWarning: invalid value encountered in log2\n",
      "  self.stats[group_name, \"logfoldchanges\"] = np.log2(\n",
      "/home/victor/.local/lib/python3.12/site-packages/scanpy/tools/_rank_genes_groups.py:461: RuntimeWarning: invalid value encountered in log2\n",
      "  self.stats[group_name, \"logfoldchanges\"] = np.log2(\n",
      "/home/victor/.local/lib/python3.12/site-packages/scanpy/tools/_rank_genes_groups.py:461: RuntimeWarning: invalid value encountered in log2\n",
      "  self.stats[group_name, \"logfoldchanges\"] = np.log2(\n",
      "/home/victor/.local/lib/python3.12/site-packages/scanpy/tools/_rank_genes_groups.py:461: RuntimeWarning: invalid value encountered in log2\n",
      "  self.stats[group_name, \"logfoldchanges\"] = np.log2(\n",
      "/home/victor/.local/lib/python3.12/site-packages/scanpy/tools/_rank_genes_groups.py:461: RuntimeWarning: invalid value encountered in log2\n",
      "  self.stats[group_name, \"logfoldchanges\"] = np.log2(\n",
      "/home/victor/.local/lib/python3.12/site-packages/scanpy/tools/_rank_genes_groups.py:461: RuntimeWarning: invalid value encountered in log2\n",
      "  self.stats[group_name, \"logfoldchanges\"] = np.log2(\n",
      "/home/victor/.local/lib/python3.12/site-packages/scanpy/tools/_rank_genes_groups.py:461: RuntimeWarning: invalid value encountered in log2\n",
      "  self.stats[group_name, \"logfoldchanges\"] = np.log2(\n",
      "/home/victor/.local/lib/python3.12/site-packages/scanpy/tools/_rank_genes_groups.py:461: RuntimeWarning: invalid value encountered in log2\n",
      "  self.stats[group_name, \"logfoldchanges\"] = np.log2(\n",
      "/home/victor/.local/lib/python3.12/site-packages/scanpy/tools/_rank_genes_groups.py:461: RuntimeWarning: invalid value encountered in log2\n",
      "  self.stats[group_name, \"logfoldchanges\"] = np.log2(\n",
      "/home/victor/.local/lib/python3.12/site-packages/scanpy/tools/_rank_genes_groups.py:461: RuntimeWarning: invalid value encountered in log2\n",
      "  self.stats[group_name, \"logfoldchanges\"] = np.log2(\n",
      "/home/victor/.local/lib/python3.12/site-packages/scanpy/tools/_rank_genes_groups.py:461: RuntimeWarning: invalid value encountered in log2\n",
      "  self.stats[group_name, \"logfoldchanges\"] = np.log2(\n",
      "/home/victor/.local/lib/python3.12/site-packages/scanpy/tools/_rank_genes_groups.py:461: RuntimeWarning: invalid value encountered in log2\n",
      "  self.stats[group_name, \"logfoldchanges\"] = np.log2(\n",
      "/home/victor/.local/lib/python3.12/site-packages/scanpy/tools/_rank_genes_groups.py:461: RuntimeWarning: invalid value encountered in log2\n",
      "  self.stats[group_name, \"logfoldchanges\"] = np.log2(\n",
      "/home/victor/.local/lib/python3.12/site-packages/scanpy/tools/_rank_genes_groups.py:461: RuntimeWarning: invalid value encountered in log2\n",
      "  self.stats[group_name, \"logfoldchanges\"] = np.log2(\n",
      "/home/victor/.local/lib/python3.12/site-packages/scanpy/tools/_rank_genes_groups.py:461: RuntimeWarning: invalid value encountered in log2\n",
      "  self.stats[group_name, \"logfoldchanges\"] = np.log2(\n",
      "/home/victor/.local/lib/python3.12/site-packages/scanpy/tools/_rank_genes_groups.py:461: RuntimeWarning: invalid value encountered in log2\n",
      "  self.stats[group_name, \"logfoldchanges\"] = np.log2(\n",
      "/home/victor/.local/lib/python3.12/site-packages/scanpy/tools/_rank_genes_groups.py:461: RuntimeWarning: invalid value encountered in log2\n",
      "  self.stats[group_name, \"logfoldchanges\"] = np.log2(\n",
      "/home/victor/.local/lib/python3.12/site-packages/scanpy/tools/_rank_genes_groups.py:461: RuntimeWarning: invalid value encountered in log2\n",
      "  self.stats[group_name, \"logfoldchanges\"] = np.log2(\n",
      "/home/victor/.local/lib/python3.12/site-packages/scanpy/tools/_rank_genes_groups.py:461: RuntimeWarning: invalid value encountered in log2\n",
      "  self.stats[group_name, \"logfoldchanges\"] = np.log2(\n",
      "/home/victor/.local/lib/python3.12/site-packages/scanpy/tools/_rank_genes_groups.py:461: RuntimeWarning: invalid value encountered in log2\n",
      "  self.stats[group_name, \"logfoldchanges\"] = np.log2(\n",
      "/home/victor/.local/lib/python3.12/site-packages/scanpy/tools/_rank_genes_groups.py:461: RuntimeWarning: invalid value encountered in log2\n",
      "  self.stats[group_name, \"logfoldchanges\"] = np.log2(\n",
      "/home/victor/.local/lib/python3.12/site-packages/scanpy/tools/_rank_genes_groups.py:461: RuntimeWarning: invalid value encountered in log2\n",
      "  self.stats[group_name, \"logfoldchanges\"] = np.log2(\n",
      "/home/victor/.local/lib/python3.12/site-packages/scanpy/tools/_rank_genes_groups.py:461: RuntimeWarning: invalid value encountered in log2\n",
      "  self.stats[group_name, \"logfoldchanges\"] = np.log2(\n",
      "/home/victor/.local/lib/python3.12/site-packages/scanpy/tools/_rank_genes_groups.py:461: RuntimeWarning: invalid value encountered in log2\n",
      "  self.stats[group_name, \"logfoldchanges\"] = np.log2(\n",
      "/home/victor/.local/lib/python3.12/site-packages/scanpy/tools/_rank_genes_groups.py:461: RuntimeWarning: invalid value encountered in log2\n",
      "  self.stats[group_name, \"logfoldchanges\"] = np.log2(\n",
      "/home/victor/.local/lib/python3.12/site-packages/scanpy/tools/_rank_genes_groups.py:461: RuntimeWarning: invalid value encountered in log2\n",
      "  self.stats[group_name, \"logfoldchanges\"] = np.log2(\n",
      "/home/victor/.local/lib/python3.12/site-packages/scanpy/tools/_rank_genes_groups.py:461: RuntimeWarning: invalid value encountered in log2\n",
      "  self.stats[group_name, \"logfoldchanges\"] = np.log2(\n",
      "/home/victor/.local/lib/python3.12/site-packages/scanpy/tools/_rank_genes_groups.py:461: RuntimeWarning: invalid value encountered in log2\n",
      "  self.stats[group_name, \"logfoldchanges\"] = np.log2(\n",
      "/home/victor/.local/lib/python3.12/site-packages/scanpy/tools/_rank_genes_groups.py:461: RuntimeWarning: invalid value encountered in log2\n",
      "  self.stats[group_name, \"logfoldchanges\"] = np.log2(\n",
      "/home/victor/.local/lib/python3.12/site-packages/scanpy/tools/_rank_genes_groups.py:461: RuntimeWarning: invalid value encountered in log2\n",
      "  self.stats[group_name, \"logfoldchanges\"] = np.log2(\n",
      "/home/victor/.local/lib/python3.12/site-packages/scanpy/tools/_rank_genes_groups.py:461: RuntimeWarning: invalid value encountered in log2\n",
      "  self.stats[group_name, \"logfoldchanges\"] = np.log2(\n",
      "/home/victor/.local/lib/python3.12/site-packages/scanpy/tools/_rank_genes_groups.py:461: RuntimeWarning: invalid value encountered in log2\n",
      "  self.stats[group_name, \"logfoldchanges\"] = np.log2(\n",
      "/home/victor/.local/lib/python3.12/site-packages/scanpy/tools/_rank_genes_groups.py:461: RuntimeWarning: invalid value encountered in log2\n",
      "  self.stats[group_name, \"logfoldchanges\"] = np.log2(\n",
      "/home/victor/.local/lib/python3.12/site-packages/scanpy/tools/_rank_genes_groups.py:461: RuntimeWarning: invalid value encountered in log2\n",
      "  self.stats[group_name, \"logfoldchanges\"] = np.log2(\n",
      "/home/victor/.local/lib/python3.12/site-packages/scanpy/tools/_rank_genes_groups.py:461: RuntimeWarning: invalid value encountered in log2\n",
      "  self.stats[group_name, \"logfoldchanges\"] = np.log2(\n",
      "/home/victor/.local/lib/python3.12/site-packages/scanpy/tools/_rank_genes_groups.py:461: RuntimeWarning: invalid value encountered in log2\n",
      "  self.stats[group_name, \"logfoldchanges\"] = np.log2(\n",
      "/home/victor/.local/lib/python3.12/site-packages/scanpy/tools/_rank_genes_groups.py:461: RuntimeWarning: invalid value encountered in log2\n",
      "  self.stats[group_name, \"logfoldchanges\"] = np.log2(\n",
      "/home/victor/.local/lib/python3.12/site-packages/scanpy/tools/_rank_genes_groups.py:461: RuntimeWarning: invalid value encountered in log2\n",
      "  self.stats[group_name, \"logfoldchanges\"] = np.log2(\n",
      "/home/victor/.local/lib/python3.12/site-packages/scanpy/tools/_rank_genes_groups.py:461: RuntimeWarning: invalid value encountered in log2\n",
      "  self.stats[group_name, \"logfoldchanges\"] = np.log2(\n",
      "/home/victor/.local/lib/python3.12/site-packages/scanpy/tools/_rank_genes_groups.py:461: RuntimeWarning: invalid value encountered in log2\n",
      "  self.stats[group_name, \"logfoldchanges\"] = np.log2(\n",
      "/home/victor/.local/lib/python3.12/site-packages/scanpy/tools/_rank_genes_groups.py:461: RuntimeWarning: invalid value encountered in log2\n",
      "  self.stats[group_name, \"logfoldchanges\"] = np.log2(\n",
      "/home/victor/.local/lib/python3.12/site-packages/scanpy/tools/_rank_genes_groups.py:461: RuntimeWarning: invalid value encountered in log2\n",
      "  self.stats[group_name, \"logfoldchanges\"] = np.log2(\n",
      "/home/victor/.local/lib/python3.12/site-packages/scanpy/tools/_rank_genes_groups.py:461: RuntimeWarning: invalid value encountered in log2\n",
      "  self.stats[group_name, \"logfoldchanges\"] = np.log2(\n",
      "/home/victor/.local/lib/python3.12/site-packages/scanpy/tools/_rank_genes_groups.py:461: RuntimeWarning: invalid value encountered in log2\n",
      "  self.stats[group_name, \"logfoldchanges\"] = np.log2(\n",
      "/home/victor/.local/lib/python3.12/site-packages/scanpy/tools/_rank_genes_groups.py:461: RuntimeWarning: invalid value encountered in log2\n",
      "  self.stats[group_name, \"logfoldchanges\"] = np.log2(\n",
      "/home/victor/.local/lib/python3.12/site-packages/scanpy/tools/_rank_genes_groups.py:461: RuntimeWarning: invalid value encountered in log2\n",
      "  self.stats[group_name, \"logfoldchanges\"] = np.log2(\n",
      "/home/victor/.local/lib/python3.12/site-packages/scanpy/tools/_rank_genes_groups.py:461: RuntimeWarning: invalid value encountered in log2\n",
      "  self.stats[group_name, \"logfoldchanges\"] = np.log2(\n",
      "/home/victor/.local/lib/python3.12/site-packages/scanpy/tools/_rank_genes_groups.py:461: RuntimeWarning: invalid value encountered in log2\n",
      "  self.stats[group_name, \"logfoldchanges\"] = np.log2(\n",
      "/home/victor/.local/lib/python3.12/site-packages/scanpy/tools/_rank_genes_groups.py:461: RuntimeWarning: invalid value encountered in log2\n",
      "  self.stats[group_name, \"logfoldchanges\"] = np.log2(\n",
      "/home/victor/.local/lib/python3.12/site-packages/scanpy/tools/_rank_genes_groups.py:461: RuntimeWarning: invalid value encountered in log2\n",
      "  self.stats[group_name, \"logfoldchanges\"] = np.log2(\n",
      "/home/victor/.local/lib/python3.12/site-packages/scanpy/tools/_rank_genes_groups.py:461: RuntimeWarning: invalid value encountered in log2\n",
      "  self.stats[group_name, \"logfoldchanges\"] = np.log2(\n",
      "/home/victor/.local/lib/python3.12/site-packages/scanpy/tools/_rank_genes_groups.py:461: RuntimeWarning: invalid value encountered in log2\n",
      "  self.stats[group_name, \"logfoldchanges\"] = np.log2(\n",
      "/home/victor/.local/lib/python3.12/site-packages/scanpy/tools/_rank_genes_groups.py:461: RuntimeWarning: invalid value encountered in log2\n",
      "  self.stats[group_name, \"logfoldchanges\"] = np.log2(\n",
      "/home/victor/.local/lib/python3.12/site-packages/scanpy/tools/_rank_genes_groups.py:461: RuntimeWarning: invalid value encountered in log2\n",
      "  self.stats[group_name, \"logfoldchanges\"] = np.log2(\n",
      "/home/victor/.local/lib/python3.12/site-packages/scanpy/tools/_rank_genes_groups.py:461: RuntimeWarning: invalid value encountered in log2\n",
      "  self.stats[group_name, \"logfoldchanges\"] = np.log2(\n",
      "/home/victor/.local/lib/python3.12/site-packages/scanpy/tools/_rank_genes_groups.py:461: RuntimeWarning: invalid value encountered in log2\n",
      "  self.stats[group_name, \"logfoldchanges\"] = np.log2(\n",
      "/home/victor/.local/lib/python3.12/site-packages/scanpy/tools/_rank_genes_groups.py:461: RuntimeWarning: invalid value encountered in log2\n",
      "  self.stats[group_name, \"logfoldchanges\"] = np.log2(\n",
      "/home/victor/.local/lib/python3.12/site-packages/scanpy/tools/_rank_genes_groups.py:461: RuntimeWarning: invalid value encountered in log2\n",
      "  self.stats[group_name, \"logfoldchanges\"] = np.log2(\n",
      "/home/victor/.local/lib/python3.12/site-packages/scanpy/tools/_rank_genes_groups.py:461: RuntimeWarning: invalid value encountered in log2\n",
      "  self.stats[group_name, \"logfoldchanges\"] = np.log2(\n",
      "/home/victor/.local/lib/python3.12/site-packages/scanpy/tools/_rank_genes_groups.py:461: RuntimeWarning: invalid value encountered in log2\n",
      "  self.stats[group_name, \"logfoldchanges\"] = np.log2(\n",
      "/home/victor/.local/lib/python3.12/site-packages/scanpy/tools/_rank_genes_groups.py:461: RuntimeWarning: invalid value encountered in log2\n",
      "  self.stats[group_name, \"logfoldchanges\"] = np.log2(\n",
      "/home/victor/.local/lib/python3.12/site-packages/scanpy/tools/_rank_genes_groups.py:461: RuntimeWarning: invalid value encountered in log2\n",
      "  self.stats[group_name, \"logfoldchanges\"] = np.log2(\n",
      "/home/victor/.local/lib/python3.12/site-packages/scanpy/tools/_rank_genes_groups.py:461: RuntimeWarning: invalid value encountered in log2\n",
      "  self.stats[group_name, \"logfoldchanges\"] = np.log2(\n",
      "/home/victor/.local/lib/python3.12/site-packages/scanpy/tools/_rank_genes_groups.py:461: RuntimeWarning: invalid value encountered in log2\n",
      "  self.stats[group_name, \"logfoldchanges\"] = np.log2(\n",
      "/home/victor/.local/lib/python3.12/site-packages/scanpy/tools/_rank_genes_groups.py:461: RuntimeWarning: invalid value encountered in log2\n",
      "  self.stats[group_name, \"logfoldchanges\"] = np.log2(\n",
      "/home/victor/.local/lib/python3.12/site-packages/scanpy/tools/_rank_genes_groups.py:461: RuntimeWarning: invalid value encountered in log2\n",
      "  self.stats[group_name, \"logfoldchanges\"] = np.log2(\n",
      "/home/victor/.local/lib/python3.12/site-packages/scanpy/tools/_rank_genes_groups.py:461: RuntimeWarning: invalid value encountered in log2\n",
      "  self.stats[group_name, \"logfoldchanges\"] = np.log2(\n",
      "/home/victor/.local/lib/python3.12/site-packages/scanpy/tools/_rank_genes_groups.py:461: RuntimeWarning: invalid value encountered in log2\n",
      "  self.stats[group_name, \"logfoldchanges\"] = np.log2(\n",
      "/home/victor/.local/lib/python3.12/site-packages/scanpy/tools/_rank_genes_groups.py:461: RuntimeWarning: invalid value encountered in log2\n",
      "  self.stats[group_name, \"logfoldchanges\"] = np.log2(\n",
      "/home/victor/.local/lib/python3.12/site-packages/scanpy/tools/_rank_genes_groups.py:461: RuntimeWarning: invalid value encountered in log2\n",
      "  self.stats[group_name, \"logfoldchanges\"] = np.log2(\n",
      "/home/victor/.local/lib/python3.12/site-packages/scanpy/tools/_rank_genes_groups.py:461: RuntimeWarning: invalid value encountered in log2\n",
      "  self.stats[group_name, \"logfoldchanges\"] = np.log2(\n",
      "/home/victor/.local/lib/python3.12/site-packages/scanpy/tools/_rank_genes_groups.py:461: RuntimeWarning: invalid value encountered in log2\n",
      "  self.stats[group_name, \"logfoldchanges\"] = np.log2(\n",
      "/home/victor/.local/lib/python3.12/site-packages/scanpy/tools/_rank_genes_groups.py:461: RuntimeWarning: invalid value encountered in log2\n",
      "  self.stats[group_name, \"logfoldchanges\"] = np.log2(\n",
      "/home/victor/.local/lib/python3.12/site-packages/scanpy/tools/_rank_genes_groups.py:461: RuntimeWarning: invalid value encountered in log2\n",
      "  self.stats[group_name, \"logfoldchanges\"] = np.log2(\n",
      "/home/victor/.local/lib/python3.12/site-packages/scanpy/tools/_rank_genes_groups.py:461: RuntimeWarning: invalid value encountered in log2\n",
      "  self.stats[group_name, \"logfoldchanges\"] = np.log2(\n",
      "/home/victor/.local/lib/python3.12/site-packages/scanpy/tools/_rank_genes_groups.py:461: RuntimeWarning: invalid value encountered in log2\n",
      "  self.stats[group_name, \"logfoldchanges\"] = np.log2(\n",
      "/home/victor/.local/lib/python3.12/site-packages/scanpy/tools/_rank_genes_groups.py:461: RuntimeWarning: invalid value encountered in log2\n",
      "  self.stats[group_name, \"logfoldchanges\"] = np.log2(\n",
      "/home/victor/.local/lib/python3.12/site-packages/scanpy/tools/_rank_genes_groups.py:461: RuntimeWarning: invalid value encountered in log2\n",
      "  self.stats[group_name, \"logfoldchanges\"] = np.log2(\n",
      "/home/victor/.local/lib/python3.12/site-packages/scanpy/tools/_rank_genes_groups.py:461: RuntimeWarning: invalid value encountered in log2\n",
      "  self.stats[group_name, \"logfoldchanges\"] = np.log2(\n",
      "/home/victor/.local/lib/python3.12/site-packages/scanpy/tools/_rank_genes_groups.py:461: RuntimeWarning: invalid value encountered in log2\n",
      "  self.stats[group_name, \"logfoldchanges\"] = np.log2(\n",
      "/home/victor/.local/lib/python3.12/site-packages/scanpy/tools/_rank_genes_groups.py:461: RuntimeWarning: invalid value encountered in log2\n",
      "  self.stats[group_name, \"logfoldchanges\"] = np.log2(\n",
      "/home/victor/.local/lib/python3.12/site-packages/scanpy/tools/_rank_genes_groups.py:461: RuntimeWarning: invalid value encountered in log2\n",
      "  self.stats[group_name, \"logfoldchanges\"] = np.log2(\n",
      "/home/victor/.local/lib/python3.12/site-packages/scanpy/tools/_rank_genes_groups.py:461: RuntimeWarning: invalid value encountered in log2\n",
      "  self.stats[group_name, \"logfoldchanges\"] = np.log2(\n",
      "/home/victor/.local/lib/python3.12/site-packages/scanpy/tools/_rank_genes_groups.py:461: RuntimeWarning: invalid value encountered in log2\n",
      "  self.stats[group_name, \"logfoldchanges\"] = np.log2(\n",
      "/home/victor/.local/lib/python3.12/site-packages/scanpy/tools/_rank_genes_groups.py:461: RuntimeWarning: invalid value encountered in log2\n",
      "  self.stats[group_name, \"logfoldchanges\"] = np.log2(\n",
      "/home/victor/.local/lib/python3.12/site-packages/scanpy/tools/_rank_genes_groups.py:461: RuntimeWarning: invalid value encountered in log2\n",
      "  self.stats[group_name, \"logfoldchanges\"] = np.log2(\n",
      "/home/victor/.local/lib/python3.12/site-packages/scanpy/tools/_rank_genes_groups.py:461: RuntimeWarning: invalid value encountered in log2\n",
      "  self.stats[group_name, \"logfoldchanges\"] = np.log2(\n",
      "/home/victor/.local/lib/python3.12/site-packages/scanpy/tools/_rank_genes_groups.py:461: RuntimeWarning: invalid value encountered in log2\n",
      "  self.stats[group_name, \"logfoldchanges\"] = np.log2(\n",
      "/home/victor/.local/lib/python3.12/site-packages/scanpy/tools/_rank_genes_groups.py:461: RuntimeWarning: invalid value encountered in log2\n",
      "  self.stats[group_name, \"logfoldchanges\"] = np.log2(\n",
      "/home/victor/.local/lib/python3.12/site-packages/scanpy/tools/_rank_genes_groups.py:461: RuntimeWarning: invalid value encountered in log2\n",
      "  self.stats[group_name, \"logfoldchanges\"] = np.log2(\n",
      "/home/victor/.local/lib/python3.12/site-packages/scanpy/tools/_rank_genes_groups.py:461: RuntimeWarning: invalid value encountered in log2\n",
      "  self.stats[group_name, \"logfoldchanges\"] = np.log2(\n",
      "/home/victor/.local/lib/python3.12/site-packages/scanpy/tools/_rank_genes_groups.py:461: RuntimeWarning: invalid value encountered in log2\n",
      "  self.stats[group_name, \"logfoldchanges\"] = np.log2(\n",
      "/home/victor/.local/lib/python3.12/site-packages/scanpy/tools/_rank_genes_groups.py:461: RuntimeWarning: invalid value encountered in log2\n",
      "  self.stats[group_name, \"logfoldchanges\"] = np.log2(\n",
      "/home/victor/.local/lib/python3.12/site-packages/scanpy/tools/_rank_genes_groups.py:461: RuntimeWarning: invalid value encountered in log2\n",
      "  self.stats[group_name, \"logfoldchanges\"] = np.log2(\n",
      "/home/victor/.local/lib/python3.12/site-packages/scanpy/tools/_rank_genes_groups.py:461: RuntimeWarning: invalid value encountered in log2\n",
      "  self.stats[group_name, \"logfoldchanges\"] = np.log2(\n",
      "/home/victor/.local/lib/python3.12/site-packages/scanpy/tools/_rank_genes_groups.py:461: RuntimeWarning: invalid value encountered in log2\n",
      "  self.stats[group_name, \"logfoldchanges\"] = np.log2(\n",
      "/home/victor/.local/lib/python3.12/site-packages/scanpy/tools/_rank_genes_groups.py:461: RuntimeWarning: invalid value encountered in log2\n",
      "  self.stats[group_name, \"logfoldchanges\"] = np.log2(\n",
      "/home/victor/.local/lib/python3.12/site-packages/scanpy/tools/_rank_genes_groups.py:461: RuntimeWarning: invalid value encountered in log2\n",
      "  self.stats[group_name, \"logfoldchanges\"] = np.log2(\n",
      "/home/victor/.local/lib/python3.12/site-packages/scanpy/tools/_rank_genes_groups.py:461: RuntimeWarning: invalid value encountered in log2\n",
      "  self.stats[group_name, \"logfoldchanges\"] = np.log2(\n",
      "/home/victor/.local/lib/python3.12/site-packages/scanpy/tools/_rank_genes_groups.py:461: RuntimeWarning: invalid value encountered in log2\n",
      "  self.stats[group_name, \"logfoldchanges\"] = np.log2(\n",
      "/home/victor/.local/lib/python3.12/site-packages/scanpy/tools/_rank_genes_groups.py:461: RuntimeWarning: invalid value encountered in log2\n",
      "  self.stats[group_name, \"logfoldchanges\"] = np.log2(\n",
      "/home/victor/.local/lib/python3.12/site-packages/scanpy/tools/_rank_genes_groups.py:461: RuntimeWarning: invalid value encountered in log2\n",
      "  self.stats[group_name, \"logfoldchanges\"] = np.log2(\n",
      "/home/victor/.local/lib/python3.12/site-packages/scanpy/tools/_rank_genes_groups.py:461: RuntimeWarning: invalid value encountered in log2\n",
      "  self.stats[group_name, \"logfoldchanges\"] = np.log2(\n",
      "/home/victor/.local/lib/python3.12/site-packages/scanpy/tools/_rank_genes_groups.py:461: RuntimeWarning: invalid value encountered in log2\n",
      "  self.stats[group_name, \"logfoldchanges\"] = np.log2(\n",
      "/home/victor/.local/lib/python3.12/site-packages/scanpy/tools/_rank_genes_groups.py:461: RuntimeWarning: invalid value encountered in log2\n",
      "  self.stats[group_name, \"logfoldchanges\"] = np.log2(\n",
      "/home/victor/.local/lib/python3.12/site-packages/scanpy/tools/_rank_genes_groups.py:461: RuntimeWarning: invalid value encountered in log2\n",
      "  self.stats[group_name, \"logfoldchanges\"] = np.log2(\n",
      "/home/victor/.local/lib/python3.12/site-packages/scanpy/tools/_rank_genes_groups.py:461: RuntimeWarning: invalid value encountered in log2\n",
      "  self.stats[group_name, \"logfoldchanges\"] = np.log2(\n",
      "/home/victor/.local/lib/python3.12/site-packages/scanpy/tools/_rank_genes_groups.py:461: RuntimeWarning: invalid value encountered in log2\n",
      "  self.stats[group_name, \"logfoldchanges\"] = np.log2(\n",
      "/home/victor/.local/lib/python3.12/site-packages/scanpy/tools/_rank_genes_groups.py:461: RuntimeWarning: invalid value encountered in log2\n",
      "  self.stats[group_name, \"logfoldchanges\"] = np.log2(\n",
      "/home/victor/.local/lib/python3.12/site-packages/scanpy/tools/_rank_genes_groups.py:461: RuntimeWarning: invalid value encountered in log2\n",
      "  self.stats[group_name, \"logfoldchanges\"] = np.log2(\n",
      "/home/victor/.local/lib/python3.12/site-packages/scanpy/tools/_rank_genes_groups.py:461: RuntimeWarning: invalid value encountered in log2\n",
      "  self.stats[group_name, \"logfoldchanges\"] = np.log2(\n",
      "/home/victor/.local/lib/python3.12/site-packages/scanpy/tools/_rank_genes_groups.py:461: RuntimeWarning: invalid value encountered in log2\n",
      "  self.stats[group_name, \"logfoldchanges\"] = np.log2(\n",
      "/home/victor/.local/lib/python3.12/site-packages/scanpy/tools/_rank_genes_groups.py:461: RuntimeWarning: invalid value encountered in log2\n",
      "  self.stats[group_name, \"logfoldchanges\"] = np.log2(\n",
      "/home/victor/.local/lib/python3.12/site-packages/scanpy/tools/_rank_genes_groups.py:461: RuntimeWarning: invalid value encountered in log2\n",
      "  self.stats[group_name, \"logfoldchanges\"] = np.log2(\n",
      "/home/victor/.local/lib/python3.12/site-packages/scanpy/tools/_rank_genes_groups.py:461: RuntimeWarning: invalid value encountered in log2\n",
      "  self.stats[group_name, \"logfoldchanges\"] = np.log2(\n",
      "/home/victor/.local/lib/python3.12/site-packages/scanpy/tools/_rank_genes_groups.py:461: RuntimeWarning: invalid value encountered in log2\n",
      "  self.stats[group_name, \"logfoldchanges\"] = np.log2(\n",
      "/home/victor/.local/lib/python3.12/site-packages/scanpy/tools/_rank_genes_groups.py:461: RuntimeWarning: invalid value encountered in log2\n",
      "  self.stats[group_name, \"logfoldchanges\"] = np.log2(\n",
      "/home/victor/.local/lib/python3.12/site-packages/scanpy/tools/_rank_genes_groups.py:461: RuntimeWarning: invalid value encountered in log2\n",
      "  self.stats[group_name, \"logfoldchanges\"] = np.log2(\n",
      "/home/victor/.local/lib/python3.12/site-packages/scanpy/tools/_rank_genes_groups.py:461: RuntimeWarning: invalid value encountered in log2\n",
      "  self.stats[group_name, \"logfoldchanges\"] = np.log2(\n",
      "/home/victor/.local/lib/python3.12/site-packages/scanpy/tools/_rank_genes_groups.py:461: RuntimeWarning: invalid value encountered in log2\n",
      "  self.stats[group_name, \"logfoldchanges\"] = np.log2(\n",
      "/home/victor/.local/lib/python3.12/site-packages/scanpy/tools/_rank_genes_groups.py:461: RuntimeWarning: invalid value encountered in log2\n",
      "  self.stats[group_name, \"logfoldchanges\"] = np.log2(\n",
      "/home/victor/.local/lib/python3.12/site-packages/scanpy/tools/_rank_genes_groups.py:461: RuntimeWarning: invalid value encountered in log2\n",
      "  self.stats[group_name, \"logfoldchanges\"] = np.log2(\n",
      "/home/victor/.local/lib/python3.12/site-packages/scanpy/tools/_rank_genes_groups.py:461: RuntimeWarning: invalid value encountered in log2\n",
      "  self.stats[group_name, \"logfoldchanges\"] = np.log2(\n",
      "/home/victor/.local/lib/python3.12/site-packages/scanpy/tools/_rank_genes_groups.py:461: RuntimeWarning: invalid value encountered in log2\n",
      "  self.stats[group_name, \"logfoldchanges\"] = np.log2(\n",
      "/home/victor/.local/lib/python3.12/site-packages/scanpy/tools/_rank_genes_groups.py:461: RuntimeWarning: invalid value encountered in log2\n",
      "  self.stats[group_name, \"logfoldchanges\"] = np.log2(\n",
      "/home/victor/.local/lib/python3.12/site-packages/scanpy/tools/_rank_genes_groups.py:461: RuntimeWarning: invalid value encountered in log2\n",
      "  self.stats[group_name, \"logfoldchanges\"] = np.log2(\n",
      "/home/victor/.local/lib/python3.12/site-packages/scanpy/tools/_rank_genes_groups.py:461: RuntimeWarning: invalid value encountered in log2\n",
      "  self.stats[group_name, \"logfoldchanges\"] = np.log2(\n",
      "/home/victor/.local/lib/python3.12/site-packages/scanpy/tools/_rank_genes_groups.py:461: RuntimeWarning: invalid value encountered in log2\n",
      "  self.stats[group_name, \"logfoldchanges\"] = np.log2(\n",
      "/home/victor/.local/lib/python3.12/site-packages/scanpy/tools/_rank_genes_groups.py:461: RuntimeWarning: invalid value encountered in log2\n",
      "  self.stats[group_name, \"logfoldchanges\"] = np.log2(\n",
      "/home/victor/.local/lib/python3.12/site-packages/scanpy/tools/_rank_genes_groups.py:461: RuntimeWarning: invalid value encountered in log2\n",
      "  self.stats[group_name, \"logfoldchanges\"] = np.log2(\n",
      "/home/victor/.local/lib/python3.12/site-packages/scanpy/tools/_rank_genes_groups.py:461: RuntimeWarning: invalid value encountered in log2\n",
      "  self.stats[group_name, \"logfoldchanges\"] = np.log2(\n",
      "/home/victor/.local/lib/python3.12/site-packages/scanpy/tools/_rank_genes_groups.py:461: RuntimeWarning: invalid value encountered in log2\n",
      "  self.stats[group_name, \"logfoldchanges\"] = np.log2(\n",
      "/home/victor/.local/lib/python3.12/site-packages/scanpy/tools/_rank_genes_groups.py:461: RuntimeWarning: invalid value encountered in log2\n",
      "  self.stats[group_name, \"logfoldchanges\"] = np.log2(\n",
      "/home/victor/.local/lib/python3.12/site-packages/scanpy/tools/_rank_genes_groups.py:461: RuntimeWarning: invalid value encountered in log2\n",
      "  self.stats[group_name, \"logfoldchanges\"] = np.log2(\n",
      "/home/victor/.local/lib/python3.12/site-packages/scanpy/tools/_rank_genes_groups.py:461: RuntimeWarning: invalid value encountered in log2\n",
      "  self.stats[group_name, \"logfoldchanges\"] = np.log2(\n",
      "/home/victor/.local/lib/python3.12/site-packages/scanpy/tools/_rank_genes_groups.py:461: RuntimeWarning: invalid value encountered in log2\n",
      "  self.stats[group_name, \"logfoldchanges\"] = np.log2(\n",
      "/home/victor/.local/lib/python3.12/site-packages/scanpy/tools/_rank_genes_groups.py:461: RuntimeWarning: invalid value encountered in log2\n",
      "  self.stats[group_name, \"logfoldchanges\"] = np.log2(\n",
      "/home/victor/.local/lib/python3.12/site-packages/scanpy/tools/_rank_genes_groups.py:461: RuntimeWarning: invalid value encountered in log2\n",
      "  self.stats[group_name, \"logfoldchanges\"] = np.log2(\n",
      "/home/victor/.local/lib/python3.12/site-packages/scanpy/tools/_rank_genes_groups.py:461: RuntimeWarning: invalid value encountered in log2\n",
      "  self.stats[group_name, \"logfoldchanges\"] = np.log2(\n",
      "/home/victor/.local/lib/python3.12/site-packages/scanpy/tools/_rank_genes_groups.py:461: RuntimeWarning: invalid value encountered in log2\n",
      "  self.stats[group_name, \"logfoldchanges\"] = np.log2(\n",
      "/home/victor/.local/lib/python3.12/site-packages/scanpy/tools/_rank_genes_groups.py:461: RuntimeWarning: invalid value encountered in log2\n",
      "  self.stats[group_name, \"logfoldchanges\"] = np.log2(\n",
      "/home/victor/.local/lib/python3.12/site-packages/scanpy/tools/_rank_genes_groups.py:461: RuntimeWarning: invalid value encountered in log2\n",
      "  self.stats[group_name, \"logfoldchanges\"] = np.log2(\n",
      "/home/victor/.local/lib/python3.12/site-packages/scanpy/tools/_rank_genes_groups.py:461: RuntimeWarning: invalid value encountered in log2\n",
      "  self.stats[group_name, \"logfoldchanges\"] = np.log2(\n",
      "/home/victor/.local/lib/python3.12/site-packages/scanpy/tools/_rank_genes_groups.py:461: RuntimeWarning: invalid value encountered in log2\n",
      "  self.stats[group_name, \"logfoldchanges\"] = np.log2(\n",
      "/home/victor/.local/lib/python3.12/site-packages/scanpy/tools/_rank_genes_groups.py:461: RuntimeWarning: invalid value encountered in log2\n",
      "  self.stats[group_name, \"logfoldchanges\"] = np.log2(\n",
      "/home/victor/.local/lib/python3.12/site-packages/scanpy/tools/_rank_genes_groups.py:461: RuntimeWarning: invalid value encountered in log2\n",
      "  self.stats[group_name, \"logfoldchanges\"] = np.log2(\n",
      "/home/victor/.local/lib/python3.12/site-packages/scanpy/tools/_rank_genes_groups.py:461: RuntimeWarning: invalid value encountered in log2\n",
      "  self.stats[group_name, \"logfoldchanges\"] = np.log2(\n",
      "/home/victor/.local/lib/python3.12/site-packages/scanpy/tools/_rank_genes_groups.py:461: RuntimeWarning: invalid value encountered in log2\n",
      "  self.stats[group_name, \"logfoldchanges\"] = np.log2(\n",
      "/home/victor/.local/lib/python3.12/site-packages/scanpy/tools/_rank_genes_groups.py:461: RuntimeWarning: invalid value encountered in log2\n",
      "  self.stats[group_name, \"logfoldchanges\"] = np.log2(\n",
      "/home/victor/.local/lib/python3.12/site-packages/scanpy/tools/_rank_genes_groups.py:461: RuntimeWarning: invalid value encountered in log2\n",
      "  self.stats[group_name, \"logfoldchanges\"] = np.log2(\n",
      "/home/victor/.local/lib/python3.12/site-packages/scanpy/tools/_rank_genes_groups.py:461: RuntimeWarning: invalid value encountered in log2\n",
      "  self.stats[group_name, \"logfoldchanges\"] = np.log2(\n",
      "/home/victor/.local/lib/python3.12/site-packages/scanpy/tools/_rank_genes_groups.py:461: RuntimeWarning: invalid value encountered in log2\n",
      "  self.stats[group_name, \"logfoldchanges\"] = np.log2(\n",
      "/home/victor/.local/lib/python3.12/site-packages/scanpy/tools/_rank_genes_groups.py:461: RuntimeWarning: invalid value encountered in log2\n",
      "  self.stats[group_name, \"logfoldchanges\"] = np.log2(\n",
      "/home/victor/.local/lib/python3.12/site-packages/scanpy/tools/_rank_genes_groups.py:461: RuntimeWarning: invalid value encountered in log2\n",
      "  self.stats[group_name, \"logfoldchanges\"] = np.log2(\n",
      "/home/victor/.local/lib/python3.12/site-packages/scanpy/tools/_rank_genes_groups.py:461: RuntimeWarning: invalid value encountered in log2\n",
      "  self.stats[group_name, \"logfoldchanges\"] = np.log2(\n",
      "/home/victor/.local/lib/python3.12/site-packages/scanpy/tools/_rank_genes_groups.py:461: RuntimeWarning: invalid value encountered in log2\n",
      "  self.stats[group_name, \"logfoldchanges\"] = np.log2(\n",
      "/home/victor/.local/lib/python3.12/site-packages/scanpy/tools/_rank_genes_groups.py:461: RuntimeWarning: invalid value encountered in log2\n",
      "  self.stats[group_name, \"logfoldchanges\"] = np.log2(\n",
      "/home/victor/.local/lib/python3.12/site-packages/scanpy/tools/_rank_genes_groups.py:461: RuntimeWarning: invalid value encountered in log2\n",
      "  self.stats[group_name, \"logfoldchanges\"] = np.log2(\n",
      "/home/victor/.local/lib/python3.12/site-packages/scanpy/tools/_rank_genes_groups.py:461: RuntimeWarning: invalid value encountered in log2\n",
      "  self.stats[group_name, \"logfoldchanges\"] = np.log2(\n",
      "/home/victor/.local/lib/python3.12/site-packages/scanpy/tools/_rank_genes_groups.py:461: RuntimeWarning: invalid value encountered in log2\n",
      "  self.stats[group_name, \"logfoldchanges\"] = np.log2(\n",
      "/home/victor/.local/lib/python3.12/site-packages/scanpy/tools/_rank_genes_groups.py:461: RuntimeWarning: invalid value encountered in log2\n",
      "  self.stats[group_name, \"logfoldchanges\"] = np.log2(\n",
      "/home/victor/.local/lib/python3.12/site-packages/scanpy/tools/_rank_genes_groups.py:461: RuntimeWarning: invalid value encountered in log2\n",
      "  self.stats[group_name, \"logfoldchanges\"] = np.log2(\n",
      "/home/victor/.local/lib/python3.12/site-packages/scanpy/tools/_rank_genes_groups.py:461: RuntimeWarning: invalid value encountered in log2\n",
      "  self.stats[group_name, \"logfoldchanges\"] = np.log2(\n",
      "/home/victor/.local/lib/python3.12/site-packages/scanpy/tools/_rank_genes_groups.py:461: RuntimeWarning: invalid value encountered in log2\n",
      "  self.stats[group_name, \"logfoldchanges\"] = np.log2(\n",
      "/home/victor/.local/lib/python3.12/site-packages/scanpy/tools/_rank_genes_groups.py:461: RuntimeWarning: invalid value encountered in log2\n",
      "  self.stats[group_name, \"logfoldchanges\"] = np.log2(\n",
      "/home/victor/.local/lib/python3.12/site-packages/scanpy/tools/_rank_genes_groups.py:461: RuntimeWarning: invalid value encountered in log2\n",
      "  self.stats[group_name, \"logfoldchanges\"] = np.log2(\n",
      "/home/victor/.local/lib/python3.12/site-packages/scanpy/tools/_rank_genes_groups.py:461: RuntimeWarning: invalid value encountered in log2\n",
      "  self.stats[group_name, \"logfoldchanges\"] = np.log2(\n",
      "/home/victor/.local/lib/python3.12/site-packages/scanpy/tools/_rank_genes_groups.py:461: RuntimeWarning: invalid value encountered in log2\n",
      "  self.stats[group_name, \"logfoldchanges\"] = np.log2(\n",
      "/home/victor/.local/lib/python3.12/site-packages/scanpy/tools/_rank_genes_groups.py:461: RuntimeWarning: invalid value encountered in log2\n",
      "  self.stats[group_name, \"logfoldchanges\"] = np.log2(\n",
      "/home/victor/.local/lib/python3.12/site-packages/scanpy/tools/_rank_genes_groups.py:461: RuntimeWarning: invalid value encountered in log2\n",
      "  self.stats[group_name, \"logfoldchanges\"] = np.log2(\n",
      "/home/victor/.local/lib/python3.12/site-packages/scanpy/tools/_rank_genes_groups.py:461: RuntimeWarning: invalid value encountered in log2\n",
      "  self.stats[group_name, \"logfoldchanges\"] = np.log2(\n",
      "/home/victor/.local/lib/python3.12/site-packages/scanpy/tools/_rank_genes_groups.py:461: RuntimeWarning: invalid value encountered in log2\n",
      "  self.stats[group_name, \"logfoldchanges\"] = np.log2(\n",
      "/home/victor/.local/lib/python3.12/site-packages/scanpy/tools/_rank_genes_groups.py:461: RuntimeWarning: invalid value encountered in log2\n",
      "  self.stats[group_name, \"logfoldchanges\"] = np.log2(\n",
      "/home/victor/.local/lib/python3.12/site-packages/scanpy/tools/_rank_genes_groups.py:461: RuntimeWarning: invalid value encountered in log2\n",
      "  self.stats[group_name, \"logfoldchanges\"] = np.log2(\n",
      "/home/victor/.local/lib/python3.12/site-packages/scanpy/tools/_rank_genes_groups.py:461: RuntimeWarning: invalid value encountered in log2\n",
      "  self.stats[group_name, \"logfoldchanges\"] = np.log2(\n",
      "/home/victor/.local/lib/python3.12/site-packages/scanpy/tools/_rank_genes_groups.py:461: RuntimeWarning: invalid value encountered in log2\n",
      "  self.stats[group_name, \"logfoldchanges\"] = np.log2(\n",
      "/home/victor/.local/lib/python3.12/site-packages/scanpy/tools/_rank_genes_groups.py:461: RuntimeWarning: invalid value encountered in log2\n",
      "  self.stats[group_name, \"logfoldchanges\"] = np.log2(\n",
      "/home/victor/.local/lib/python3.12/site-packages/scanpy/tools/_rank_genes_groups.py:461: RuntimeWarning: invalid value encountered in log2\n",
      "  self.stats[group_name, \"logfoldchanges\"] = np.log2(\n",
      "/home/victor/.local/lib/python3.12/site-packages/scanpy/tools/_rank_genes_groups.py:461: RuntimeWarning: invalid value encountered in log2\n",
      "  self.stats[group_name, \"logfoldchanges\"] = np.log2(\n",
      "/home/victor/.local/lib/python3.12/site-packages/scanpy/tools/_rank_genes_groups.py:461: RuntimeWarning: invalid value encountered in log2\n",
      "  self.stats[group_name, \"logfoldchanges\"] = np.log2(\n",
      "/home/victor/.local/lib/python3.12/site-packages/scanpy/tools/_rank_genes_groups.py:461: RuntimeWarning: invalid value encountered in log2\n",
      "  self.stats[group_name, \"logfoldchanges\"] = np.log2(\n",
      "/home/victor/.local/lib/python3.12/site-packages/scanpy/tools/_rank_genes_groups.py:461: RuntimeWarning: invalid value encountered in log2\n",
      "  self.stats[group_name, \"logfoldchanges\"] = np.log2(\n",
      "/home/victor/.local/lib/python3.12/site-packages/scanpy/tools/_rank_genes_groups.py:461: RuntimeWarning: invalid value encountered in log2\n",
      "  self.stats[group_name, \"logfoldchanges\"] = np.log2(\n",
      "/home/victor/.local/lib/python3.12/site-packages/scanpy/tools/_rank_genes_groups.py:461: RuntimeWarning: invalid value encountered in log2\n",
      "  self.stats[group_name, \"logfoldchanges\"] = np.log2(\n",
      "/home/victor/.local/lib/python3.12/site-packages/scanpy/tools/_rank_genes_groups.py:461: RuntimeWarning: invalid value encountered in log2\n",
      "  self.stats[group_name, \"logfoldchanges\"] = np.log2(\n",
      "/home/victor/.local/lib/python3.12/site-packages/scanpy/tools/_rank_genes_groups.py:461: RuntimeWarning: invalid value encountered in log2\n",
      "  self.stats[group_name, \"logfoldchanges\"] = np.log2(\n",
      "/home/victor/.local/lib/python3.12/site-packages/scanpy/tools/_rank_genes_groups.py:461: RuntimeWarning: invalid value encountered in log2\n",
      "  self.stats[group_name, \"logfoldchanges\"] = np.log2(\n",
      "/home/victor/.local/lib/python3.12/site-packages/scanpy/tools/_rank_genes_groups.py:461: RuntimeWarning: invalid value encountered in log2\n",
      "  self.stats[group_name, \"logfoldchanges\"] = np.log2(\n",
      "/home/victor/.local/lib/python3.12/site-packages/scanpy/tools/_rank_genes_groups.py:461: RuntimeWarning: invalid value encountered in log2\n",
      "  self.stats[group_name, \"logfoldchanges\"] = np.log2(\n",
      "/home/victor/.local/lib/python3.12/site-packages/scanpy/tools/_rank_genes_groups.py:461: RuntimeWarning: invalid value encountered in log2\n",
      "  self.stats[group_name, \"logfoldchanges\"] = np.log2(\n",
      "/home/victor/.local/lib/python3.12/site-packages/scanpy/tools/_rank_genes_groups.py:461: RuntimeWarning: invalid value encountered in log2\n",
      "  self.stats[group_name, \"logfoldchanges\"] = np.log2(\n",
      "/home/victor/.local/lib/python3.12/site-packages/scanpy/tools/_rank_genes_groups.py:461: RuntimeWarning: invalid value encountered in log2\n",
      "  self.stats[group_name, \"logfoldchanges\"] = np.log2(\n",
      "/home/victor/.local/lib/python3.12/site-packages/scanpy/tools/_rank_genes_groups.py:461: RuntimeWarning: invalid value encountered in log2\n",
      "  self.stats[group_name, \"logfoldchanges\"] = np.log2(\n",
      "/home/victor/.local/lib/python3.12/site-packages/scanpy/tools/_rank_genes_groups.py:461: RuntimeWarning: invalid value encountered in log2\n",
      "  self.stats[group_name, \"logfoldchanges\"] = np.log2(\n",
      "/home/victor/.local/lib/python3.12/site-packages/scanpy/tools/_rank_genes_groups.py:461: RuntimeWarning: invalid value encountered in log2\n",
      "  self.stats[group_name, \"logfoldchanges\"] = np.log2(\n",
      "/home/victor/.local/lib/python3.12/site-packages/scanpy/tools/_rank_genes_groups.py:461: RuntimeWarning: invalid value encountered in log2\n",
      "  self.stats[group_name, \"logfoldchanges\"] = np.log2(\n",
      "/home/victor/.local/lib/python3.12/site-packages/scanpy/tools/_rank_genes_groups.py:461: RuntimeWarning: invalid value encountered in log2\n",
      "  self.stats[group_name, \"logfoldchanges\"] = np.log2(\n",
      "/home/victor/.local/lib/python3.12/site-packages/scanpy/tools/_rank_genes_groups.py:461: RuntimeWarning: invalid value encountered in log2\n",
      "  self.stats[group_name, \"logfoldchanges\"] = np.log2(\n",
      "/home/victor/.local/lib/python3.12/site-packages/scanpy/tools/_rank_genes_groups.py:461: RuntimeWarning: invalid value encountered in log2\n",
      "  self.stats[group_name, \"logfoldchanges\"] = np.log2(\n",
      "/home/victor/.local/lib/python3.12/site-packages/scanpy/tools/_rank_genes_groups.py:461: RuntimeWarning: invalid value encountered in log2\n",
      "  self.stats[group_name, \"logfoldchanges\"] = np.log2(\n",
      "/home/victor/.local/lib/python3.12/site-packages/scanpy/tools/_rank_genes_groups.py:461: RuntimeWarning: invalid value encountered in log2\n",
      "  self.stats[group_name, \"logfoldchanges\"] = np.log2(\n",
      "/home/victor/.local/lib/python3.12/site-packages/scanpy/tools/_rank_genes_groups.py:461: RuntimeWarning: invalid value encountered in log2\n",
      "  self.stats[group_name, \"logfoldchanges\"] = np.log2(\n",
      "/home/victor/.local/lib/python3.12/site-packages/scanpy/tools/_rank_genes_groups.py:461: RuntimeWarning: invalid value encountered in log2\n",
      "  self.stats[group_name, \"logfoldchanges\"] = np.log2(\n",
      "/home/victor/.local/lib/python3.12/site-packages/scanpy/tools/_rank_genes_groups.py:461: RuntimeWarning: invalid value encountered in log2\n",
      "  self.stats[group_name, \"logfoldchanges\"] = np.log2(\n",
      "/home/victor/.local/lib/python3.12/site-packages/scanpy/tools/_rank_genes_groups.py:461: RuntimeWarning: invalid value encountered in log2\n",
      "  self.stats[group_name, \"logfoldchanges\"] = np.log2(\n",
      "/home/victor/.local/lib/python3.12/site-packages/scanpy/tools/_rank_genes_groups.py:461: RuntimeWarning: invalid value encountered in log2\n",
      "  self.stats[group_name, \"logfoldchanges\"] = np.log2(\n",
      "/home/victor/.local/lib/python3.12/site-packages/scanpy/tools/_rank_genes_groups.py:461: RuntimeWarning: invalid value encountered in log2\n",
      "  self.stats[group_name, \"logfoldchanges\"] = np.log2(\n",
      "/home/victor/.local/lib/python3.12/site-packages/scanpy/tools/_rank_genes_groups.py:461: RuntimeWarning: invalid value encountered in log2\n",
      "  self.stats[group_name, \"logfoldchanges\"] = np.log2(\n",
      "/home/victor/.local/lib/python3.12/site-packages/scanpy/tools/_rank_genes_groups.py:461: RuntimeWarning: invalid value encountered in log2\n",
      "  self.stats[group_name, \"logfoldchanges\"] = np.log2(\n",
      "/home/victor/.local/lib/python3.12/site-packages/scanpy/tools/_rank_genes_groups.py:461: RuntimeWarning: invalid value encountered in log2\n",
      "  self.stats[group_name, \"logfoldchanges\"] = np.log2(\n",
      "/home/victor/.local/lib/python3.12/site-packages/scanpy/tools/_rank_genes_groups.py:461: RuntimeWarning: invalid value encountered in log2\n",
      "  self.stats[group_name, \"logfoldchanges\"] = np.log2(\n",
      "/home/victor/.local/lib/python3.12/site-packages/scanpy/tools/_rank_genes_groups.py:461: RuntimeWarning: invalid value encountered in log2\n",
      "  self.stats[group_name, \"logfoldchanges\"] = np.log2(\n",
      "/home/victor/.local/lib/python3.12/site-packages/scanpy/tools/_rank_genes_groups.py:461: RuntimeWarning: invalid value encountered in log2\n",
      "  self.stats[group_name, \"logfoldchanges\"] = np.log2(\n",
      "/home/victor/.local/lib/python3.12/site-packages/scanpy/tools/_rank_genes_groups.py:461: RuntimeWarning: invalid value encountered in log2\n",
      "  self.stats[group_name, \"logfoldchanges\"] = np.log2(\n",
      "/home/victor/.local/lib/python3.12/site-packages/scanpy/tools/_rank_genes_groups.py:461: RuntimeWarning: invalid value encountered in log2\n",
      "  self.stats[group_name, \"logfoldchanges\"] = np.log2(\n",
      "/home/victor/.local/lib/python3.12/site-packages/scanpy/tools/_rank_genes_groups.py:461: RuntimeWarning: invalid value encountered in log2\n",
      "  self.stats[group_name, \"logfoldchanges\"] = np.log2(\n",
      "/home/victor/.local/lib/python3.12/site-packages/scanpy/tools/_rank_genes_groups.py:461: RuntimeWarning: invalid value encountered in log2\n",
      "  self.stats[group_name, \"logfoldchanges\"] = np.log2(\n",
      "/home/victor/.local/lib/python3.12/site-packages/scanpy/tools/_rank_genes_groups.py:461: RuntimeWarning: invalid value encountered in log2\n",
      "  self.stats[group_name, \"logfoldchanges\"] = np.log2(\n",
      "/home/victor/.local/lib/python3.12/site-packages/scanpy/tools/_rank_genes_groups.py:461: RuntimeWarning: invalid value encountered in log2\n",
      "  self.stats[group_name, \"logfoldchanges\"] = np.log2(\n",
      "/home/victor/.local/lib/python3.12/site-packages/scanpy/tools/_rank_genes_groups.py:461: RuntimeWarning: invalid value encountered in log2\n",
      "  self.stats[group_name, \"logfoldchanges\"] = np.log2(\n",
      "/home/victor/.local/lib/python3.12/site-packages/scanpy/tools/_rank_genes_groups.py:461: RuntimeWarning: invalid value encountered in log2\n",
      "  self.stats[group_name, \"logfoldchanges\"] = np.log2(\n",
      "/home/victor/.local/lib/python3.12/site-packages/scanpy/tools/_rank_genes_groups.py:461: RuntimeWarning: invalid value encountered in log2\n",
      "  self.stats[group_name, \"logfoldchanges\"] = np.log2(\n",
      "/home/victor/.local/lib/python3.12/site-packages/scanpy/tools/_rank_genes_groups.py:461: RuntimeWarning: invalid value encountered in log2\n",
      "  self.stats[group_name, \"logfoldchanges\"] = np.log2(\n",
      "/home/victor/.local/lib/python3.12/site-packages/scanpy/tools/_rank_genes_groups.py:461: RuntimeWarning: invalid value encountered in log2\n",
      "  self.stats[group_name, \"logfoldchanges\"] = np.log2(\n",
      "/home/victor/.local/lib/python3.12/site-packages/scanpy/tools/_rank_genes_groups.py:461: RuntimeWarning: invalid value encountered in log2\n",
      "  self.stats[group_name, \"logfoldchanges\"] = np.log2(\n",
      "/home/victor/.local/lib/python3.12/site-packages/scanpy/tools/_rank_genes_groups.py:461: RuntimeWarning: invalid value encountered in log2\n",
      "  self.stats[group_name, \"logfoldchanges\"] = np.log2(\n",
      "/home/victor/.local/lib/python3.12/site-packages/scanpy/tools/_rank_genes_groups.py:461: RuntimeWarning: invalid value encountered in log2\n",
      "  self.stats[group_name, \"logfoldchanges\"] = np.log2(\n",
      "/home/victor/.local/lib/python3.12/site-packages/scanpy/tools/_rank_genes_groups.py:461: RuntimeWarning: invalid value encountered in log2\n",
      "  self.stats[group_name, \"logfoldchanges\"] = np.log2(\n",
      "/home/victor/.local/lib/python3.12/site-packages/scanpy/tools/_rank_genes_groups.py:461: RuntimeWarning: invalid value encountered in log2\n",
      "  self.stats[group_name, \"logfoldchanges\"] = np.log2(\n",
      "/home/victor/.local/lib/python3.12/site-packages/scanpy/tools/_rank_genes_groups.py:461: RuntimeWarning: invalid value encountered in log2\n",
      "  self.stats[group_name, \"logfoldchanges\"] = np.log2(\n",
      "/home/victor/.local/lib/python3.12/site-packages/scanpy/tools/_rank_genes_groups.py:461: RuntimeWarning: invalid value encountered in log2\n",
      "  self.stats[group_name, \"logfoldchanges\"] = np.log2(\n",
      "/home/victor/.local/lib/python3.12/site-packages/scanpy/tools/_rank_genes_groups.py:461: RuntimeWarning: invalid value encountered in log2\n",
      "  self.stats[group_name, \"logfoldchanges\"] = np.log2(\n",
      "/home/victor/.local/lib/python3.12/site-packages/scanpy/tools/_rank_genes_groups.py:461: RuntimeWarning: invalid value encountered in log2\n",
      "  self.stats[group_name, \"logfoldchanges\"] = np.log2(\n",
      "/home/victor/.local/lib/python3.12/site-packages/scanpy/tools/_rank_genes_groups.py:461: RuntimeWarning: invalid value encountered in log2\n",
      "  self.stats[group_name, \"logfoldchanges\"] = np.log2(\n",
      "/home/victor/.local/lib/python3.12/site-packages/scanpy/tools/_rank_genes_groups.py:461: RuntimeWarning: invalid value encountered in log2\n",
      "  self.stats[group_name, \"logfoldchanges\"] = np.log2(\n",
      "/home/victor/.local/lib/python3.12/site-packages/scanpy/tools/_rank_genes_groups.py:461: RuntimeWarning: invalid value encountered in log2\n",
      "  self.stats[group_name, \"logfoldchanges\"] = np.log2(\n",
      "/home/victor/.local/lib/python3.12/site-packages/scanpy/tools/_rank_genes_groups.py:461: RuntimeWarning: invalid value encountered in log2\n",
      "  self.stats[group_name, \"logfoldchanges\"] = np.log2(\n",
      "/home/victor/.local/lib/python3.12/site-packages/scanpy/tools/_rank_genes_groups.py:461: RuntimeWarning: invalid value encountered in log2\n",
      "  self.stats[group_name, \"logfoldchanges\"] = np.log2(\n",
      "/home/victor/.local/lib/python3.12/site-packages/scanpy/tools/_rank_genes_groups.py:461: RuntimeWarning: invalid value encountered in log2\n",
      "  self.stats[group_name, \"logfoldchanges\"] = np.log2(\n",
      "/home/victor/.local/lib/python3.12/site-packages/scanpy/tools/_rank_genes_groups.py:461: RuntimeWarning: invalid value encountered in log2\n",
      "  self.stats[group_name, \"logfoldchanges\"] = np.log2(\n",
      "/home/victor/.local/lib/python3.12/site-packages/scanpy/tools/_rank_genes_groups.py:461: RuntimeWarning: invalid value encountered in log2\n",
      "  self.stats[group_name, \"logfoldchanges\"] = np.log2(\n",
      "/home/victor/.local/lib/python3.12/site-packages/scanpy/tools/_rank_genes_groups.py:461: RuntimeWarning: invalid value encountered in log2\n",
      "  self.stats[group_name, \"logfoldchanges\"] = np.log2(\n",
      "/home/victor/.local/lib/python3.12/site-packages/scanpy/tools/_rank_genes_groups.py:461: RuntimeWarning: invalid value encountered in log2\n",
      "  self.stats[group_name, \"logfoldchanges\"] = np.log2(\n",
      "/home/victor/.local/lib/python3.12/site-packages/scanpy/tools/_rank_genes_groups.py:461: RuntimeWarning: invalid value encountered in log2\n",
      "  self.stats[group_name, \"logfoldchanges\"] = np.log2(\n",
      "/home/victor/.local/lib/python3.12/site-packages/scanpy/tools/_rank_genes_groups.py:461: RuntimeWarning: invalid value encountered in log2\n",
      "  self.stats[group_name, \"logfoldchanges\"] = np.log2(\n",
      "/home/victor/.local/lib/python3.12/site-packages/scanpy/tools/_rank_genes_groups.py:461: RuntimeWarning: invalid value encountered in log2\n",
      "  self.stats[group_name, \"logfoldchanges\"] = np.log2(\n",
      "/home/victor/.local/lib/python3.12/site-packages/scanpy/tools/_rank_genes_groups.py:461: RuntimeWarning: invalid value encountered in log2\n",
      "  self.stats[group_name, \"logfoldchanges\"] = np.log2(\n",
      "/home/victor/.local/lib/python3.12/site-packages/scanpy/tools/_rank_genes_groups.py:461: RuntimeWarning: invalid value encountered in log2\n",
      "  self.stats[group_name, \"logfoldchanges\"] = np.log2(\n",
      "/home/victor/.local/lib/python3.12/site-packages/scanpy/tools/_rank_genes_groups.py:461: RuntimeWarning: invalid value encountered in log2\n",
      "  self.stats[group_name, \"logfoldchanges\"] = np.log2(\n",
      "/home/victor/.local/lib/python3.12/site-packages/scanpy/tools/_rank_genes_groups.py:461: RuntimeWarning: invalid value encountered in log2\n",
      "  self.stats[group_name, \"logfoldchanges\"] = np.log2(\n",
      "/home/victor/.local/lib/python3.12/site-packages/scanpy/tools/_rank_genes_groups.py:461: RuntimeWarning: invalid value encountered in log2\n",
      "  self.stats[group_name, \"logfoldchanges\"] = np.log2(\n",
      "/home/victor/.local/lib/python3.12/site-packages/scanpy/tools/_rank_genes_groups.py:461: RuntimeWarning: invalid value encountered in log2\n",
      "  self.stats[group_name, \"logfoldchanges\"] = np.log2(\n",
      "/home/victor/.local/lib/python3.12/site-packages/scanpy/tools/_rank_genes_groups.py:461: RuntimeWarning: invalid value encountered in log2\n",
      "  self.stats[group_name, \"logfoldchanges\"] = np.log2(\n",
      "/home/victor/.local/lib/python3.12/site-packages/scanpy/tools/_rank_genes_groups.py:461: RuntimeWarning: invalid value encountered in log2\n",
      "  self.stats[group_name, \"logfoldchanges\"] = np.log2(\n",
      "/home/victor/.local/lib/python3.12/site-packages/scanpy/tools/_rank_genes_groups.py:461: RuntimeWarning: invalid value encountered in log2\n",
      "  self.stats[group_name, \"logfoldchanges\"] = np.log2(\n",
      "/home/victor/.local/lib/python3.12/site-packages/scanpy/tools/_rank_genes_groups.py:461: RuntimeWarning: invalid value encountered in log2\n",
      "  self.stats[group_name, \"logfoldchanges\"] = np.log2(\n",
      "/home/victor/.local/lib/python3.12/site-packages/scanpy/tools/_rank_genes_groups.py:461: RuntimeWarning: invalid value encountered in log2\n",
      "  self.stats[group_name, \"logfoldchanges\"] = np.log2(\n",
      "/home/victor/.local/lib/python3.12/site-packages/scanpy/tools/_rank_genes_groups.py:461: RuntimeWarning: invalid value encountered in log2\n",
      "  self.stats[group_name, \"logfoldchanges\"] = np.log2(\n",
      "/home/victor/.local/lib/python3.12/site-packages/scanpy/tools/_rank_genes_groups.py:461: RuntimeWarning: invalid value encountered in log2\n",
      "  self.stats[group_name, \"logfoldchanges\"] = np.log2(\n",
      "/home/victor/.local/lib/python3.12/site-packages/scanpy/tools/_rank_genes_groups.py:461: RuntimeWarning: invalid value encountered in log2\n",
      "  self.stats[group_name, \"logfoldchanges\"] = np.log2(\n",
      "/home/victor/.local/lib/python3.12/site-packages/scanpy/tools/_rank_genes_groups.py:461: RuntimeWarning: invalid value encountered in log2\n",
      "  self.stats[group_name, \"logfoldchanges\"] = np.log2(\n",
      "/home/victor/.local/lib/python3.12/site-packages/scanpy/tools/_rank_genes_groups.py:461: RuntimeWarning: invalid value encountered in log2\n",
      "  self.stats[group_name, \"logfoldchanges\"] = np.log2(\n",
      "/home/victor/.local/lib/python3.12/site-packages/scanpy/tools/_rank_genes_groups.py:461: RuntimeWarning: invalid value encountered in log2\n",
      "  self.stats[group_name, \"logfoldchanges\"] = np.log2(\n",
      "/home/victor/.local/lib/python3.12/site-packages/scanpy/tools/_rank_genes_groups.py:461: RuntimeWarning: invalid value encountered in log2\n",
      "  self.stats[group_name, \"logfoldchanges\"] = np.log2(\n",
      "/home/victor/.local/lib/python3.12/site-packages/scanpy/tools/_rank_genes_groups.py:461: RuntimeWarning: invalid value encountered in log2\n",
      "  self.stats[group_name, \"logfoldchanges\"] = np.log2(\n",
      "/home/victor/.local/lib/python3.12/site-packages/scanpy/tools/_rank_genes_groups.py:461: RuntimeWarning: invalid value encountered in log2\n",
      "  self.stats[group_name, \"logfoldchanges\"] = np.log2(\n",
      "/home/victor/.local/lib/python3.12/site-packages/scanpy/tools/_rank_genes_groups.py:461: RuntimeWarning: invalid value encountered in log2\n",
      "  self.stats[group_name, \"logfoldchanges\"] = np.log2(\n",
      "/home/victor/.local/lib/python3.12/site-packages/scanpy/tools/_rank_genes_groups.py:461: RuntimeWarning: invalid value encountered in log2\n",
      "  self.stats[group_name, \"logfoldchanges\"] = np.log2(\n",
      "/home/victor/.local/lib/python3.12/site-packages/scanpy/tools/_rank_genes_groups.py:461: RuntimeWarning: invalid value encountered in log2\n",
      "  self.stats[group_name, \"logfoldchanges\"] = np.log2(\n",
      "/home/victor/.local/lib/python3.12/site-packages/scanpy/tools/_rank_genes_groups.py:461: RuntimeWarning: invalid value encountered in log2\n",
      "  self.stats[group_name, \"logfoldchanges\"] = np.log2(\n",
      "/home/victor/.local/lib/python3.12/site-packages/scanpy/tools/_rank_genes_groups.py:461: RuntimeWarning: invalid value encountered in log2\n",
      "  self.stats[group_name, \"logfoldchanges\"] = np.log2(\n",
      "/home/victor/.local/lib/python3.12/site-packages/scanpy/tools/_rank_genes_groups.py:461: RuntimeWarning: invalid value encountered in log2\n",
      "  self.stats[group_name, \"logfoldchanges\"] = np.log2(\n",
      "/home/victor/.local/lib/python3.12/site-packages/scanpy/tools/_rank_genes_groups.py:461: RuntimeWarning: invalid value encountered in log2\n",
      "  self.stats[group_name, \"logfoldchanges\"] = np.log2(\n",
      "/home/victor/.local/lib/python3.12/site-packages/scanpy/tools/_rank_genes_groups.py:461: RuntimeWarning: invalid value encountered in log2\n",
      "  self.stats[group_name, \"logfoldchanges\"] = np.log2(\n",
      "/home/victor/.local/lib/python3.12/site-packages/scanpy/tools/_rank_genes_groups.py:461: RuntimeWarning: invalid value encountered in log2\n",
      "  self.stats[group_name, \"logfoldchanges\"] = np.log2(\n",
      "/home/victor/.local/lib/python3.12/site-packages/scanpy/tools/_rank_genes_groups.py:461: RuntimeWarning: invalid value encountered in log2\n",
      "  self.stats[group_name, \"logfoldchanges\"] = np.log2(\n",
      "/home/victor/.local/lib/python3.12/site-packages/scanpy/tools/_rank_genes_groups.py:461: RuntimeWarning: invalid value encountered in log2\n",
      "  self.stats[group_name, \"logfoldchanges\"] = np.log2(\n",
      "/home/victor/.local/lib/python3.12/site-packages/scanpy/tools/_rank_genes_groups.py:461: RuntimeWarning: invalid value encountered in log2\n",
      "  self.stats[group_name, \"logfoldchanges\"] = np.log2(\n",
      "/home/victor/.local/lib/python3.12/site-packages/scanpy/tools/_rank_genes_groups.py:461: RuntimeWarning: invalid value encountered in log2\n",
      "  self.stats[group_name, \"logfoldchanges\"] = np.log2(\n",
      "/home/victor/.local/lib/python3.12/site-packages/scanpy/tools/_rank_genes_groups.py:461: RuntimeWarning: invalid value encountered in log2\n",
      "  self.stats[group_name, \"logfoldchanges\"] = np.log2(\n",
      "/home/victor/.local/lib/python3.12/site-packages/scanpy/tools/_rank_genes_groups.py:461: RuntimeWarning: invalid value encountered in log2\n",
      "  self.stats[group_name, \"logfoldchanges\"] = np.log2(\n",
      "/home/victor/.local/lib/python3.12/site-packages/scanpy/tools/_rank_genes_groups.py:461: RuntimeWarning: invalid value encountered in log2\n",
      "  self.stats[group_name, \"logfoldchanges\"] = np.log2(\n",
      "/home/victor/.local/lib/python3.12/site-packages/scanpy/tools/_rank_genes_groups.py:461: RuntimeWarning: invalid value encountered in log2\n",
      "  self.stats[group_name, \"logfoldchanges\"] = np.log2(\n",
      "/home/victor/.local/lib/python3.12/site-packages/scanpy/tools/_rank_genes_groups.py:461: RuntimeWarning: invalid value encountered in log2\n",
      "  self.stats[group_name, \"logfoldchanges\"] = np.log2(\n",
      "/home/victor/.local/lib/python3.12/site-packages/scanpy/tools/_rank_genes_groups.py:461: RuntimeWarning: invalid value encountered in log2\n",
      "  self.stats[group_name, \"logfoldchanges\"] = np.log2(\n",
      "/home/victor/.local/lib/python3.12/site-packages/scanpy/tools/_rank_genes_groups.py:461: RuntimeWarning: invalid value encountered in log2\n",
      "  self.stats[group_name, \"logfoldchanges\"] = np.log2(\n",
      "/home/victor/.local/lib/python3.12/site-packages/scanpy/tools/_rank_genes_groups.py:461: RuntimeWarning: invalid value encountered in log2\n",
      "  self.stats[group_name, \"logfoldchanges\"] = np.log2(\n",
      "/home/victor/.local/lib/python3.12/site-packages/scanpy/tools/_rank_genes_groups.py:461: RuntimeWarning: invalid value encountered in log2\n",
      "  self.stats[group_name, \"logfoldchanges\"] = np.log2(\n",
      "/home/victor/.local/lib/python3.12/site-packages/scanpy/tools/_rank_genes_groups.py:461: RuntimeWarning: invalid value encountered in log2\n",
      "  self.stats[group_name, \"logfoldchanges\"] = np.log2(\n",
      "/home/victor/.local/lib/python3.12/site-packages/scanpy/tools/_rank_genes_groups.py:461: RuntimeWarning: invalid value encountered in log2\n",
      "  self.stats[group_name, \"logfoldchanges\"] = np.log2(\n",
      "/home/victor/.local/lib/python3.12/site-packages/scanpy/tools/_rank_genes_groups.py:461: RuntimeWarning: invalid value encountered in log2\n",
      "  self.stats[group_name, \"logfoldchanges\"] = np.log2(\n",
      "/home/victor/.local/lib/python3.12/site-packages/scanpy/tools/_rank_genes_groups.py:461: RuntimeWarning: invalid value encountered in log2\n",
      "  self.stats[group_name, \"logfoldchanges\"] = np.log2(\n",
      "/home/victor/.local/lib/python3.12/site-packages/scanpy/tools/_rank_genes_groups.py:461: RuntimeWarning: invalid value encountered in log2\n",
      "  self.stats[group_name, \"logfoldchanges\"] = np.log2(\n",
      "/home/victor/.local/lib/python3.12/site-packages/scanpy/tools/_rank_genes_groups.py:461: RuntimeWarning: invalid value encountered in log2\n",
      "  self.stats[group_name, \"logfoldchanges\"] = np.log2(\n",
      "/home/victor/.local/lib/python3.12/site-packages/scanpy/tools/_rank_genes_groups.py:461: RuntimeWarning: invalid value encountered in log2\n",
      "  self.stats[group_name, \"logfoldchanges\"] = np.log2(\n",
      "/home/victor/.local/lib/python3.12/site-packages/scanpy/tools/_rank_genes_groups.py:461: RuntimeWarning: invalid value encountered in log2\n",
      "  self.stats[group_name, \"logfoldchanges\"] = np.log2(\n",
      "/home/victor/.local/lib/python3.12/site-packages/scanpy/tools/_rank_genes_groups.py:461: RuntimeWarning: invalid value encountered in log2\n",
      "  self.stats[group_name, \"logfoldchanges\"] = np.log2(\n",
      "/home/victor/.local/lib/python3.12/site-packages/scanpy/tools/_rank_genes_groups.py:461: RuntimeWarning: invalid value encountered in log2\n",
      "  self.stats[group_name, \"logfoldchanges\"] = np.log2(\n",
      "/home/victor/.local/lib/python3.12/site-packages/scanpy/tools/_rank_genes_groups.py:461: RuntimeWarning: invalid value encountered in log2\n",
      "  self.stats[group_name, \"logfoldchanges\"] = np.log2(\n",
      "/home/victor/.local/lib/python3.12/site-packages/scanpy/tools/_rank_genes_groups.py:461: RuntimeWarning: invalid value encountered in log2\n",
      "  self.stats[group_name, \"logfoldchanges\"] = np.log2(\n",
      "/home/victor/.local/lib/python3.12/site-packages/scanpy/tools/_rank_genes_groups.py:461: RuntimeWarning: invalid value encountered in log2\n",
      "  self.stats[group_name, \"logfoldchanges\"] = np.log2(\n",
      "/home/victor/.local/lib/python3.12/site-packages/scanpy/tools/_rank_genes_groups.py:461: RuntimeWarning: invalid value encountered in log2\n",
      "  self.stats[group_name, \"logfoldchanges\"] = np.log2(\n",
      "/home/victor/.local/lib/python3.12/site-packages/scanpy/tools/_rank_genes_groups.py:461: RuntimeWarning: invalid value encountered in log2\n",
      "  self.stats[group_name, \"logfoldchanges\"] = np.log2(\n",
      "/home/victor/.local/lib/python3.12/site-packages/scanpy/tools/_rank_genes_groups.py:461: RuntimeWarning: invalid value encountered in log2\n",
      "  self.stats[group_name, \"logfoldchanges\"] = np.log2(\n",
      "/home/victor/.local/lib/python3.12/site-packages/scanpy/tools/_rank_genes_groups.py:461: RuntimeWarning: invalid value encountered in log2\n",
      "  self.stats[group_name, \"logfoldchanges\"] = np.log2(\n",
      "/home/victor/.local/lib/python3.12/site-packages/scanpy/tools/_rank_genes_groups.py:461: RuntimeWarning: invalid value encountered in log2\n",
      "  self.stats[group_name, \"logfoldchanges\"] = np.log2(\n",
      "/home/victor/.local/lib/python3.12/site-packages/scanpy/tools/_rank_genes_groups.py:461: RuntimeWarning: invalid value encountered in log2\n",
      "  self.stats[group_name, \"logfoldchanges\"] = np.log2(\n",
      "/home/victor/.local/lib/python3.12/site-packages/scanpy/tools/_rank_genes_groups.py:461: RuntimeWarning: invalid value encountered in log2\n",
      "  self.stats[group_name, \"logfoldchanges\"] = np.log2(\n",
      "/home/victor/.local/lib/python3.12/site-packages/scanpy/tools/_rank_genes_groups.py:461: RuntimeWarning: invalid value encountered in log2\n",
      "  self.stats[group_name, \"logfoldchanges\"] = np.log2(\n",
      "/home/victor/.local/lib/python3.12/site-packages/scanpy/tools/_rank_genes_groups.py:461: RuntimeWarning: invalid value encountered in log2\n",
      "  self.stats[group_name, \"logfoldchanges\"] = np.log2(\n",
      "/home/victor/.local/lib/python3.12/site-packages/scanpy/tools/_rank_genes_groups.py:461: RuntimeWarning: invalid value encountered in log2\n",
      "  self.stats[group_name, \"logfoldchanges\"] = np.log2(\n",
      "/home/victor/.local/lib/python3.12/site-packages/scanpy/tools/_rank_genes_groups.py:461: RuntimeWarning: invalid value encountered in log2\n",
      "  self.stats[group_name, \"logfoldchanges\"] = np.log2(\n",
      "/home/victor/.local/lib/python3.12/site-packages/scanpy/tools/_rank_genes_groups.py:461: RuntimeWarning: invalid value encountered in log2\n",
      "  self.stats[group_name, \"logfoldchanges\"] = np.log2(\n",
      "/home/victor/.local/lib/python3.12/site-packages/scanpy/tools/_rank_genes_groups.py:461: RuntimeWarning: invalid value encountered in log2\n",
      "  self.stats[group_name, \"logfoldchanges\"] = np.log2(\n",
      "/home/victor/.local/lib/python3.12/site-packages/scanpy/tools/_rank_genes_groups.py:461: RuntimeWarning: invalid value encountered in log2\n",
      "  self.stats[group_name, \"logfoldchanges\"] = np.log2(\n",
      "/home/victor/.local/lib/python3.12/site-packages/scanpy/tools/_rank_genes_groups.py:461: RuntimeWarning: invalid value encountered in log2\n",
      "  self.stats[group_name, \"logfoldchanges\"] = np.log2(\n",
      "/home/victor/.local/lib/python3.12/site-packages/scanpy/tools/_rank_genes_groups.py:461: RuntimeWarning: invalid value encountered in log2\n",
      "  self.stats[group_name, \"logfoldchanges\"] = np.log2(\n",
      "/home/victor/.local/lib/python3.12/site-packages/scanpy/tools/_rank_genes_groups.py:461: RuntimeWarning: invalid value encountered in log2\n",
      "  self.stats[group_name, \"logfoldchanges\"] = np.log2(\n",
      "/home/victor/.local/lib/python3.12/site-packages/scanpy/tools/_rank_genes_groups.py:461: RuntimeWarning: invalid value encountered in log2\n",
      "  self.stats[group_name, \"logfoldchanges\"] = np.log2(\n",
      "/home/victor/.local/lib/python3.12/site-packages/scanpy/tools/_rank_genes_groups.py:461: RuntimeWarning: invalid value encountered in log2\n",
      "  self.stats[group_name, \"logfoldchanges\"] = np.log2(\n",
      "/home/victor/.local/lib/python3.12/site-packages/scanpy/tools/_rank_genes_groups.py:461: RuntimeWarning: invalid value encountered in log2\n",
      "  self.stats[group_name, \"logfoldchanges\"] = np.log2(\n",
      "/home/victor/.local/lib/python3.12/site-packages/scanpy/tools/_rank_genes_groups.py:461: RuntimeWarning: invalid value encountered in log2\n",
      "  self.stats[group_name, \"logfoldchanges\"] = np.log2(\n",
      "/home/victor/.local/lib/python3.12/site-packages/scanpy/tools/_rank_genes_groups.py:461: RuntimeWarning: invalid value encountered in log2\n",
      "  self.stats[group_name, \"logfoldchanges\"] = np.log2(\n",
      "/home/victor/.local/lib/python3.12/site-packages/scanpy/tools/_rank_genes_groups.py:461: RuntimeWarning: invalid value encountered in log2\n",
      "  self.stats[group_name, \"logfoldchanges\"] = np.log2(\n",
      "/home/victor/.local/lib/python3.12/site-packages/scanpy/tools/_rank_genes_groups.py:461: RuntimeWarning: invalid value encountered in log2\n",
      "  self.stats[group_name, \"logfoldchanges\"] = np.log2(\n",
      "/home/victor/.local/lib/python3.12/site-packages/scanpy/tools/_rank_genes_groups.py:461: RuntimeWarning: invalid value encountered in log2\n",
      "  self.stats[group_name, \"logfoldchanges\"] = np.log2(\n",
      "/home/victor/.local/lib/python3.12/site-packages/scanpy/tools/_rank_genes_groups.py:461: RuntimeWarning: invalid value encountered in log2\n",
      "  self.stats[group_name, \"logfoldchanges\"] = np.log2(\n",
      "/home/victor/.local/lib/python3.12/site-packages/scanpy/tools/_rank_genes_groups.py:461: RuntimeWarning: invalid value encountered in log2\n",
      "  self.stats[group_name, \"logfoldchanges\"] = np.log2(\n",
      "/home/victor/.local/lib/python3.12/site-packages/scanpy/tools/_rank_genes_groups.py:461: RuntimeWarning: invalid value encountered in log2\n",
      "  self.stats[group_name, \"logfoldchanges\"] = np.log2(\n",
      "/home/victor/.local/lib/python3.12/site-packages/scanpy/tools/_rank_genes_groups.py:461: RuntimeWarning: invalid value encountered in log2\n",
      "  self.stats[group_name, \"logfoldchanges\"] = np.log2(\n",
      "/home/victor/.local/lib/python3.12/site-packages/scanpy/tools/_rank_genes_groups.py:461: RuntimeWarning: invalid value encountered in log2\n",
      "  self.stats[group_name, \"logfoldchanges\"] = np.log2(\n",
      "/home/victor/.local/lib/python3.12/site-packages/scanpy/tools/_rank_genes_groups.py:461: RuntimeWarning: invalid value encountered in log2\n",
      "  self.stats[group_name, \"logfoldchanges\"] = np.log2(\n",
      "/home/victor/.local/lib/python3.12/site-packages/scanpy/tools/_rank_genes_groups.py:461: RuntimeWarning: invalid value encountered in log2\n",
      "  self.stats[group_name, \"logfoldchanges\"] = np.log2(\n",
      "/home/victor/.local/lib/python3.12/site-packages/scanpy/tools/_rank_genes_groups.py:461: RuntimeWarning: invalid value encountered in log2\n",
      "  self.stats[group_name, \"logfoldchanges\"] = np.log2(\n",
      "/home/victor/.local/lib/python3.12/site-packages/scanpy/tools/_rank_genes_groups.py:461: RuntimeWarning: invalid value encountered in log2\n",
      "  self.stats[group_name, \"logfoldchanges\"] = np.log2(\n",
      "/home/victor/.local/lib/python3.12/site-packages/scanpy/tools/_rank_genes_groups.py:461: RuntimeWarning: invalid value encountered in log2\n",
      "  self.stats[group_name, \"logfoldchanges\"] = np.log2(\n",
      "/home/victor/.local/lib/python3.12/site-packages/scanpy/tools/_rank_genes_groups.py:461: RuntimeWarning: invalid value encountered in log2\n",
      "  self.stats[group_name, \"logfoldchanges\"] = np.log2(\n",
      "/home/victor/.local/lib/python3.12/site-packages/scanpy/tools/_rank_genes_groups.py:461: RuntimeWarning: invalid value encountered in log2\n",
      "  self.stats[group_name, \"logfoldchanges\"] = np.log2(\n",
      "/home/victor/.local/lib/python3.12/site-packages/scanpy/tools/_rank_genes_groups.py:461: RuntimeWarning: invalid value encountered in log2\n",
      "  self.stats[group_name, \"logfoldchanges\"] = np.log2(\n",
      "/home/victor/.local/lib/python3.12/site-packages/scanpy/tools/_rank_genes_groups.py:461: RuntimeWarning: invalid value encountered in log2\n",
      "  self.stats[group_name, \"logfoldchanges\"] = np.log2(\n",
      "/home/victor/.local/lib/python3.12/site-packages/scanpy/tools/_rank_genes_groups.py:461: RuntimeWarning: invalid value encountered in log2\n",
      "  self.stats[group_name, \"logfoldchanges\"] = np.log2(\n",
      "/home/victor/.local/lib/python3.12/site-packages/scanpy/tools/_rank_genes_groups.py:461: RuntimeWarning: invalid value encountered in log2\n",
      "  self.stats[group_name, \"logfoldchanges\"] = np.log2(\n",
      "/home/victor/.local/lib/python3.12/site-packages/scanpy/tools/_rank_genes_groups.py:461: RuntimeWarning: invalid value encountered in log2\n",
      "  self.stats[group_name, \"logfoldchanges\"] = np.log2(\n",
      "/home/victor/.local/lib/python3.12/site-packages/scanpy/tools/_rank_genes_groups.py:461: RuntimeWarning: invalid value encountered in log2\n",
      "  self.stats[group_name, \"logfoldchanges\"] = np.log2(\n",
      "/home/victor/.local/lib/python3.12/site-packages/scanpy/tools/_rank_genes_groups.py:461: RuntimeWarning: invalid value encountered in log2\n",
      "  self.stats[group_name, \"logfoldchanges\"] = np.log2(\n",
      "/home/victor/.local/lib/python3.12/site-packages/scanpy/tools/_rank_genes_groups.py:461: RuntimeWarning: invalid value encountered in log2\n",
      "  self.stats[group_name, \"logfoldchanges\"] = np.log2(\n",
      "/home/victor/.local/lib/python3.12/site-packages/scanpy/tools/_rank_genes_groups.py:461: RuntimeWarning: invalid value encountered in log2\n",
      "  self.stats[group_name, \"logfoldchanges\"] = np.log2(\n",
      "/home/victor/.local/lib/python3.12/site-packages/scanpy/tools/_rank_genes_groups.py:461: RuntimeWarning: invalid value encountered in log2\n",
      "  self.stats[group_name, \"logfoldchanges\"] = np.log2(\n",
      "/home/victor/.local/lib/python3.12/site-packages/scanpy/tools/_rank_genes_groups.py:461: RuntimeWarning: invalid value encountered in log2\n",
      "  self.stats[group_name, \"logfoldchanges\"] = np.log2(\n",
      "/home/victor/.local/lib/python3.12/site-packages/scanpy/tools/_rank_genes_groups.py:461: RuntimeWarning: invalid value encountered in log2\n",
      "  self.stats[group_name, \"logfoldchanges\"] = np.log2(\n",
      "/home/victor/.local/lib/python3.12/site-packages/scanpy/tools/_rank_genes_groups.py:461: RuntimeWarning: invalid value encountered in log2\n",
      "  self.stats[group_name, \"logfoldchanges\"] = np.log2(\n",
      "/home/victor/.local/lib/python3.12/site-packages/scanpy/tools/_rank_genes_groups.py:461: RuntimeWarning: invalid value encountered in log2\n",
      "  self.stats[group_name, \"logfoldchanges\"] = np.log2(\n",
      "/home/victor/.local/lib/python3.12/site-packages/scanpy/tools/_rank_genes_groups.py:461: RuntimeWarning: invalid value encountered in log2\n",
      "  self.stats[group_name, \"logfoldchanges\"] = np.log2(\n",
      "/home/victor/.local/lib/python3.12/site-packages/scanpy/tools/_rank_genes_groups.py:461: RuntimeWarning: invalid value encountered in log2\n",
      "  self.stats[group_name, \"logfoldchanges\"] = np.log2(\n",
      "/home/victor/.local/lib/python3.12/site-packages/scanpy/tools/_rank_genes_groups.py:461: RuntimeWarning: invalid value encountered in log2\n",
      "  self.stats[group_name, \"logfoldchanges\"] = np.log2(\n",
      "/home/victor/.local/lib/python3.12/site-packages/scanpy/tools/_rank_genes_groups.py:461: RuntimeWarning: invalid value encountered in log2\n",
      "  self.stats[group_name, \"logfoldchanges\"] = np.log2(\n",
      "/home/victor/.local/lib/python3.12/site-packages/scanpy/tools/_rank_genes_groups.py:461: RuntimeWarning: invalid value encountered in log2\n",
      "  self.stats[group_name, \"logfoldchanges\"] = np.log2(\n",
      "/home/victor/.local/lib/python3.12/site-packages/scanpy/tools/_rank_genes_groups.py:461: RuntimeWarning: invalid value encountered in log2\n",
      "  self.stats[group_name, \"logfoldchanges\"] = np.log2(\n",
      "/home/victor/.local/lib/python3.12/site-packages/scanpy/tools/_rank_genes_groups.py:461: RuntimeWarning: invalid value encountered in log2\n",
      "  self.stats[group_name, \"logfoldchanges\"] = np.log2(\n",
      "/home/victor/.local/lib/python3.12/site-packages/scanpy/tools/_rank_genes_groups.py:461: RuntimeWarning: invalid value encountered in log2\n",
      "  self.stats[group_name, \"logfoldchanges\"] = np.log2(\n",
      "/home/victor/.local/lib/python3.12/site-packages/scanpy/tools/_rank_genes_groups.py:461: RuntimeWarning: invalid value encountered in log2\n",
      "  self.stats[group_name, \"logfoldchanges\"] = np.log2(\n",
      "/home/victor/.local/lib/python3.12/site-packages/scanpy/tools/_rank_genes_groups.py:461: RuntimeWarning: invalid value encountered in log2\n",
      "  self.stats[group_name, \"logfoldchanges\"] = np.log2(\n",
      "/home/victor/.local/lib/python3.12/site-packages/scanpy/tools/_rank_genes_groups.py:461: RuntimeWarning: invalid value encountered in log2\n",
      "  self.stats[group_name, \"logfoldchanges\"] = np.log2(\n",
      "/home/victor/.local/lib/python3.12/site-packages/scanpy/tools/_rank_genes_groups.py:461: RuntimeWarning: invalid value encountered in log2\n",
      "  self.stats[group_name, \"logfoldchanges\"] = np.log2(\n",
      "/home/victor/.local/lib/python3.12/site-packages/scanpy/tools/_rank_genes_groups.py:461: RuntimeWarning: invalid value encountered in log2\n",
      "  self.stats[group_name, \"logfoldchanges\"] = np.log2(\n",
      "/home/victor/.local/lib/python3.12/site-packages/scanpy/tools/_rank_genes_groups.py:461: RuntimeWarning: invalid value encountered in log2\n",
      "  self.stats[group_name, \"logfoldchanges\"] = np.log2(\n",
      "/home/victor/.local/lib/python3.12/site-packages/scanpy/tools/_rank_genes_groups.py:461: RuntimeWarning: invalid value encountered in log2\n",
      "  self.stats[group_name, \"logfoldchanges\"] = np.log2(\n",
      "/home/victor/.local/lib/python3.12/site-packages/scanpy/tools/_rank_genes_groups.py:461: RuntimeWarning: invalid value encountered in log2\n",
      "  self.stats[group_name, \"logfoldchanges\"] = np.log2(\n",
      "/home/victor/.local/lib/python3.12/site-packages/scanpy/tools/_rank_genes_groups.py:461: RuntimeWarning: invalid value encountered in log2\n",
      "  self.stats[group_name, \"logfoldchanges\"] = np.log2(\n",
      "/home/victor/.local/lib/python3.12/site-packages/scanpy/tools/_rank_genes_groups.py:461: RuntimeWarning: invalid value encountered in log2\n",
      "  self.stats[group_name, \"logfoldchanges\"] = np.log2(\n",
      "/home/victor/.local/lib/python3.12/site-packages/scanpy/tools/_rank_genes_groups.py:461: RuntimeWarning: invalid value encountered in log2\n",
      "  self.stats[group_name, \"logfoldchanges\"] = np.log2(\n",
      "/home/victor/.local/lib/python3.12/site-packages/scanpy/tools/_rank_genes_groups.py:461: RuntimeWarning: invalid value encountered in log2\n",
      "  self.stats[group_name, \"logfoldchanges\"] = np.log2(\n",
      "/home/victor/.local/lib/python3.12/site-packages/scanpy/tools/_rank_genes_groups.py:461: RuntimeWarning: invalid value encountered in log2\n",
      "  self.stats[group_name, \"logfoldchanges\"] = np.log2(\n",
      "/home/victor/.local/lib/python3.12/site-packages/scanpy/tools/_rank_genes_groups.py:461: RuntimeWarning: invalid value encountered in log2\n",
      "  self.stats[group_name, \"logfoldchanges\"] = np.log2(\n",
      "/home/victor/.local/lib/python3.12/site-packages/scanpy/tools/_rank_genes_groups.py:461: RuntimeWarning: invalid value encountered in log2\n",
      "  self.stats[group_name, \"logfoldchanges\"] = np.log2(\n",
      "/home/victor/.local/lib/python3.12/site-packages/scanpy/tools/_rank_genes_groups.py:461: RuntimeWarning: invalid value encountered in log2\n",
      "  self.stats[group_name, \"logfoldchanges\"] = np.log2(\n",
      "/home/victor/.local/lib/python3.12/site-packages/scanpy/tools/_rank_genes_groups.py:461: RuntimeWarning: invalid value encountered in log2\n",
      "  self.stats[group_name, \"logfoldchanges\"] = np.log2(\n",
      "/home/victor/.local/lib/python3.12/site-packages/scanpy/tools/_rank_genes_groups.py:461: RuntimeWarning: invalid value encountered in log2\n",
      "  self.stats[group_name, \"logfoldchanges\"] = np.log2(\n",
      "/home/victor/.local/lib/python3.12/site-packages/scanpy/tools/_rank_genes_groups.py:461: RuntimeWarning: invalid value encountered in log2\n",
      "  self.stats[group_name, \"logfoldchanges\"] = np.log2(\n",
      "/home/victor/.local/lib/python3.12/site-packages/scanpy/tools/_rank_genes_groups.py:461: RuntimeWarning: invalid value encountered in log2\n",
      "  self.stats[group_name, \"logfoldchanges\"] = np.log2(\n",
      "/home/victor/.local/lib/python3.12/site-packages/scanpy/tools/_rank_genes_groups.py:461: RuntimeWarning: invalid value encountered in log2\n",
      "  self.stats[group_name, \"logfoldchanges\"] = np.log2(\n",
      "/home/victor/.local/lib/python3.12/site-packages/scanpy/tools/_rank_genes_groups.py:461: RuntimeWarning: invalid value encountered in log2\n",
      "  self.stats[group_name, \"logfoldchanges\"] = np.log2(\n",
      "/home/victor/.local/lib/python3.12/site-packages/scanpy/tools/_rank_genes_groups.py:461: RuntimeWarning: invalid value encountered in log2\n",
      "  self.stats[group_name, \"logfoldchanges\"] = np.log2(\n",
      "/home/victor/.local/lib/python3.12/site-packages/scanpy/tools/_rank_genes_groups.py:461: RuntimeWarning: invalid value encountered in log2\n",
      "  self.stats[group_name, \"logfoldchanges\"] = np.log2(\n",
      "/home/victor/.local/lib/python3.12/site-packages/scanpy/tools/_rank_genes_groups.py:461: RuntimeWarning: invalid value encountered in log2\n",
      "  self.stats[group_name, \"logfoldchanges\"] = np.log2(\n",
      "/home/victor/.local/lib/python3.12/site-packages/scanpy/tools/_rank_genes_groups.py:461: RuntimeWarning: invalid value encountered in log2\n",
      "  self.stats[group_name, \"logfoldchanges\"] = np.log2(\n",
      "/home/victor/.local/lib/python3.12/site-packages/scanpy/tools/_rank_genes_groups.py:461: RuntimeWarning: invalid value encountered in log2\n",
      "  self.stats[group_name, \"logfoldchanges\"] = np.log2(\n",
      "/home/victor/.local/lib/python3.12/site-packages/scanpy/tools/_rank_genes_groups.py:461: RuntimeWarning: invalid value encountered in log2\n",
      "  self.stats[group_name, \"logfoldchanges\"] = np.log2(\n",
      "/home/victor/.local/lib/python3.12/site-packages/scanpy/tools/_rank_genes_groups.py:461: RuntimeWarning: invalid value encountered in log2\n",
      "  self.stats[group_name, \"logfoldchanges\"] = np.log2(\n",
      "/home/victor/.local/lib/python3.12/site-packages/scanpy/tools/_rank_genes_groups.py:461: RuntimeWarning: invalid value encountered in log2\n",
      "  self.stats[group_name, \"logfoldchanges\"] = np.log2(\n",
      "/home/victor/.local/lib/python3.12/site-packages/scanpy/tools/_rank_genes_groups.py:461: RuntimeWarning: invalid value encountered in log2\n",
      "  self.stats[group_name, \"logfoldchanges\"] = np.log2(\n",
      "/home/victor/.local/lib/python3.12/site-packages/scanpy/tools/_rank_genes_groups.py:461: RuntimeWarning: invalid value encountered in log2\n",
      "  self.stats[group_name, \"logfoldchanges\"] = np.log2(\n",
      "/home/victor/.local/lib/python3.12/site-packages/scanpy/tools/_rank_genes_groups.py:461: RuntimeWarning: invalid value encountered in log2\n",
      "  self.stats[group_name, \"logfoldchanges\"] = np.log2(\n",
      "/home/victor/.local/lib/python3.12/site-packages/scanpy/tools/_rank_genes_groups.py:461: RuntimeWarning: invalid value encountered in log2\n",
      "  self.stats[group_name, \"logfoldchanges\"] = np.log2(\n",
      "/home/victor/.local/lib/python3.12/site-packages/scanpy/tools/_rank_genes_groups.py:461: RuntimeWarning: invalid value encountered in log2\n",
      "  self.stats[group_name, \"logfoldchanges\"] = np.log2(\n",
      "/home/victor/.local/lib/python3.12/site-packages/scanpy/tools/_rank_genes_groups.py:461: RuntimeWarning: invalid value encountered in log2\n",
      "  self.stats[group_name, \"logfoldchanges\"] = np.log2(\n",
      "/home/victor/.local/lib/python3.12/site-packages/scanpy/tools/_rank_genes_groups.py:461: RuntimeWarning: invalid value encountered in log2\n",
      "  self.stats[group_name, \"logfoldchanges\"] = np.log2(\n",
      "/home/victor/.local/lib/python3.12/site-packages/scanpy/tools/_rank_genes_groups.py:461: RuntimeWarning: invalid value encountered in log2\n",
      "  self.stats[group_name, \"logfoldchanges\"] = np.log2(\n",
      "/home/victor/.local/lib/python3.12/site-packages/scanpy/tools/_rank_genes_groups.py:461: RuntimeWarning: invalid value encountered in log2\n",
      "  self.stats[group_name, \"logfoldchanges\"] = np.log2(\n",
      "/home/victor/.local/lib/python3.12/site-packages/scanpy/tools/_rank_genes_groups.py:461: RuntimeWarning: invalid value encountered in log2\n",
      "  self.stats[group_name, \"logfoldchanges\"] = np.log2(\n",
      "/home/victor/.local/lib/python3.12/site-packages/scanpy/tools/_rank_genes_groups.py:461: RuntimeWarning: invalid value encountered in log2\n",
      "  self.stats[group_name, \"logfoldchanges\"] = np.log2(\n",
      "/home/victor/.local/lib/python3.12/site-packages/scanpy/tools/_rank_genes_groups.py:461: RuntimeWarning: invalid value encountered in log2\n",
      "  self.stats[group_name, \"logfoldchanges\"] = np.log2(\n",
      "/home/victor/.local/lib/python3.12/site-packages/scanpy/tools/_rank_genes_groups.py:461: RuntimeWarning: invalid value encountered in log2\n",
      "  self.stats[group_name, \"logfoldchanges\"] = np.log2(\n",
      "/home/victor/.local/lib/python3.12/site-packages/scanpy/tools/_rank_genes_groups.py:461: RuntimeWarning: invalid value encountered in log2\n",
      "  self.stats[group_name, \"logfoldchanges\"] = np.log2(\n",
      "/home/victor/.local/lib/python3.12/site-packages/scanpy/tools/_rank_genes_groups.py:461: RuntimeWarning: invalid value encountered in log2\n",
      "  self.stats[group_name, \"logfoldchanges\"] = np.log2(\n",
      "/home/victor/.local/lib/python3.12/site-packages/scanpy/tools/_rank_genes_groups.py:461: RuntimeWarning: invalid value encountered in log2\n",
      "  self.stats[group_name, \"logfoldchanges\"] = np.log2(\n",
      "/home/victor/.local/lib/python3.12/site-packages/scanpy/tools/_rank_genes_groups.py:461: RuntimeWarning: invalid value encountered in log2\n",
      "  self.stats[group_name, \"logfoldchanges\"] = np.log2(\n",
      "/home/victor/.local/lib/python3.12/site-packages/scanpy/tools/_rank_genes_groups.py:461: RuntimeWarning: invalid value encountered in log2\n",
      "  self.stats[group_name, \"logfoldchanges\"] = np.log2(\n",
      "/home/victor/.local/lib/python3.12/site-packages/scanpy/tools/_rank_genes_groups.py:461: RuntimeWarning: invalid value encountered in log2\n",
      "  self.stats[group_name, \"logfoldchanges\"] = np.log2(\n",
      "/home/victor/.local/lib/python3.12/site-packages/scanpy/tools/_rank_genes_groups.py:461: RuntimeWarning: invalid value encountered in log2\n",
      "  self.stats[group_name, \"logfoldchanges\"] = np.log2(\n",
      "/home/victor/.local/lib/python3.12/site-packages/scanpy/tools/_rank_genes_groups.py:461: RuntimeWarning: invalid value encountered in log2\n",
      "  self.stats[group_name, \"logfoldchanges\"] = np.log2(\n",
      "/home/victor/.local/lib/python3.12/site-packages/scanpy/tools/_rank_genes_groups.py:461: RuntimeWarning: invalid value encountered in log2\n",
      "  self.stats[group_name, \"logfoldchanges\"] = np.log2(\n",
      "/home/victor/.local/lib/python3.12/site-packages/scanpy/tools/_rank_genes_groups.py:461: RuntimeWarning: invalid value encountered in log2\n",
      "  self.stats[group_name, \"logfoldchanges\"] = np.log2(\n",
      "/home/victor/.local/lib/python3.12/site-packages/scanpy/tools/_rank_genes_groups.py:461: RuntimeWarning: invalid value encountered in log2\n",
      "  self.stats[group_name, \"logfoldchanges\"] = np.log2(\n",
      "/home/victor/.local/lib/python3.12/site-packages/scanpy/tools/_rank_genes_groups.py:461: RuntimeWarning: invalid value encountered in log2\n",
      "  self.stats[group_name, \"logfoldchanges\"] = np.log2(\n",
      "/home/victor/.local/lib/python3.12/site-packages/scanpy/tools/_rank_genes_groups.py:461: RuntimeWarning: invalid value encountered in log2\n",
      "  self.stats[group_name, \"logfoldchanges\"] = np.log2(\n",
      "/home/victor/.local/lib/python3.12/site-packages/scanpy/tools/_rank_genes_groups.py:461: RuntimeWarning: invalid value encountered in log2\n",
      "  self.stats[group_name, \"logfoldchanges\"] = np.log2(\n",
      "/home/victor/.local/lib/python3.12/site-packages/scanpy/tools/_rank_genes_groups.py:461: RuntimeWarning: invalid value encountered in log2\n",
      "  self.stats[group_name, \"logfoldchanges\"] = np.log2(\n",
      "/home/victor/.local/lib/python3.12/site-packages/scanpy/tools/_rank_genes_groups.py:461: RuntimeWarning: invalid value encountered in log2\n",
      "  self.stats[group_name, \"logfoldchanges\"] = np.log2(\n",
      "/home/victor/.local/lib/python3.12/site-packages/scanpy/tools/_rank_genes_groups.py:461: RuntimeWarning: invalid value encountered in log2\n",
      "  self.stats[group_name, \"logfoldchanges\"] = np.log2(\n",
      "/home/victor/.local/lib/python3.12/site-packages/scanpy/tools/_rank_genes_groups.py:461: RuntimeWarning: invalid value encountered in log2\n",
      "  self.stats[group_name, \"logfoldchanges\"] = np.log2(\n",
      "/home/victor/.local/lib/python3.12/site-packages/scanpy/tools/_rank_genes_groups.py:461: RuntimeWarning: invalid value encountered in log2\n",
      "  self.stats[group_name, \"logfoldchanges\"] = np.log2(\n",
      "/home/victor/.local/lib/python3.12/site-packages/scanpy/tools/_rank_genes_groups.py:461: RuntimeWarning: invalid value encountered in log2\n",
      "  self.stats[group_name, \"logfoldchanges\"] = np.log2(\n",
      "/home/victor/.local/lib/python3.12/site-packages/scanpy/tools/_rank_genes_groups.py:461: RuntimeWarning: invalid value encountered in log2\n",
      "  self.stats[group_name, \"logfoldchanges\"] = np.log2(\n",
      "/home/victor/.local/lib/python3.12/site-packages/scanpy/tools/_rank_genes_groups.py:461: RuntimeWarning: invalid value encountered in log2\n",
      "  self.stats[group_name, \"logfoldchanges\"] = np.log2(\n",
      "/home/victor/.local/lib/python3.12/site-packages/scanpy/tools/_rank_genes_groups.py:461: RuntimeWarning: invalid value encountered in log2\n",
      "  self.stats[group_name, \"logfoldchanges\"] = np.log2(\n",
      "/home/victor/.local/lib/python3.12/site-packages/scanpy/tools/_rank_genes_groups.py:461: RuntimeWarning: invalid value encountered in log2\n",
      "  self.stats[group_name, \"logfoldchanges\"] = np.log2(\n",
      "/home/victor/.local/lib/python3.12/site-packages/scanpy/tools/_rank_genes_groups.py:461: RuntimeWarning: invalid value encountered in log2\n",
      "  self.stats[group_name, \"logfoldchanges\"] = np.log2(\n",
      "/home/victor/.local/lib/python3.12/site-packages/scanpy/tools/_rank_genes_groups.py:461: RuntimeWarning: invalid value encountered in log2\n",
      "  self.stats[group_name, \"logfoldchanges\"] = np.log2(\n",
      "/home/victor/.local/lib/python3.12/site-packages/scanpy/tools/_rank_genes_groups.py:461: RuntimeWarning: invalid value encountered in log2\n",
      "  self.stats[group_name, \"logfoldchanges\"] = np.log2(\n",
      "/home/victor/.local/lib/python3.12/site-packages/scanpy/tools/_rank_genes_groups.py:461: RuntimeWarning: invalid value encountered in log2\n",
      "  self.stats[group_name, \"logfoldchanges\"] = np.log2(\n",
      "/home/victor/.local/lib/python3.12/site-packages/scanpy/tools/_rank_genes_groups.py:461: RuntimeWarning: invalid value encountered in log2\n",
      "  self.stats[group_name, \"logfoldchanges\"] = np.log2(\n",
      "/home/victor/.local/lib/python3.12/site-packages/scanpy/tools/_rank_genes_groups.py:461: RuntimeWarning: invalid value encountered in log2\n",
      "  self.stats[group_name, \"logfoldchanges\"] = np.log2(\n",
      "/home/victor/.local/lib/python3.12/site-packages/scanpy/tools/_rank_genes_groups.py:461: RuntimeWarning: invalid value encountered in log2\n",
      "  self.stats[group_name, \"logfoldchanges\"] = np.log2(\n",
      "/home/victor/.local/lib/python3.12/site-packages/scanpy/tools/_rank_genes_groups.py:461: RuntimeWarning: invalid value encountered in log2\n",
      "  self.stats[group_name, \"logfoldchanges\"] = np.log2(\n",
      "/home/victor/.local/lib/python3.12/site-packages/scanpy/tools/_rank_genes_groups.py:461: RuntimeWarning: invalid value encountered in log2\n",
      "  self.stats[group_name, \"logfoldchanges\"] = np.log2(\n",
      "/home/victor/.local/lib/python3.12/site-packages/scanpy/tools/_rank_genes_groups.py:461: RuntimeWarning: invalid value encountered in log2\n",
      "  self.stats[group_name, \"logfoldchanges\"] = np.log2(\n",
      "/home/victor/.local/lib/python3.12/site-packages/scanpy/tools/_rank_genes_groups.py:461: RuntimeWarning: invalid value encountered in log2\n",
      "  self.stats[group_name, \"logfoldchanges\"] = np.log2(\n",
      "/home/victor/.local/lib/python3.12/site-packages/scanpy/tools/_rank_genes_groups.py:461: RuntimeWarning: invalid value encountered in log2\n",
      "  self.stats[group_name, \"logfoldchanges\"] = np.log2(\n",
      "/home/victor/.local/lib/python3.12/site-packages/scanpy/tools/_rank_genes_groups.py:461: RuntimeWarning: invalid value encountered in log2\n",
      "  self.stats[group_name, \"logfoldchanges\"] = np.log2(\n",
      "/home/victor/.local/lib/python3.12/site-packages/scanpy/tools/_rank_genes_groups.py:461: RuntimeWarning: invalid value encountered in log2\n",
      "  self.stats[group_name, \"logfoldchanges\"] = np.log2(\n",
      "/home/victor/.local/lib/python3.12/site-packages/scanpy/tools/_rank_genes_groups.py:461: RuntimeWarning: invalid value encountered in log2\n",
      "  self.stats[group_name, \"logfoldchanges\"] = np.log2(\n",
      "/home/victor/.local/lib/python3.12/site-packages/scanpy/tools/_rank_genes_groups.py:461: RuntimeWarning: invalid value encountered in log2\n",
      "  self.stats[group_name, \"logfoldchanges\"] = np.log2(\n",
      "/home/victor/.local/lib/python3.12/site-packages/scanpy/tools/_rank_genes_groups.py:461: RuntimeWarning: invalid value encountered in log2\n",
      "  self.stats[group_name, \"logfoldchanges\"] = np.log2(\n",
      "/home/victor/.local/lib/python3.12/site-packages/scanpy/tools/_rank_genes_groups.py:461: RuntimeWarning: invalid value encountered in log2\n",
      "  self.stats[group_name, \"logfoldchanges\"] = np.log2(\n",
      "/home/victor/.local/lib/python3.12/site-packages/scanpy/tools/_rank_genes_groups.py:461: RuntimeWarning: invalid value encountered in log2\n",
      "  self.stats[group_name, \"logfoldchanges\"] = np.log2(\n",
      "/home/victor/.local/lib/python3.12/site-packages/scanpy/tools/_rank_genes_groups.py:461: RuntimeWarning: invalid value encountered in log2\n",
      "  self.stats[group_name, \"logfoldchanges\"] = np.log2(\n",
      "/home/victor/.local/lib/python3.12/site-packages/scanpy/tools/_rank_genes_groups.py:461: RuntimeWarning: invalid value encountered in log2\n",
      "  self.stats[group_name, \"logfoldchanges\"] = np.log2(\n",
      "/home/victor/.local/lib/python3.12/site-packages/scanpy/tools/_rank_genes_groups.py:461: RuntimeWarning: invalid value encountered in log2\n",
      "  self.stats[group_name, \"logfoldchanges\"] = np.log2(\n",
      "/home/victor/.local/lib/python3.12/site-packages/scanpy/tools/_rank_genes_groups.py:461: RuntimeWarning: invalid value encountered in log2\n",
      "  self.stats[group_name, \"logfoldchanges\"] = np.log2(\n",
      "/home/victor/.local/lib/python3.12/site-packages/scanpy/tools/_rank_genes_groups.py:461: RuntimeWarning: invalid value encountered in log2\n",
      "  self.stats[group_name, \"logfoldchanges\"] = np.log2(\n",
      "/home/victor/.local/lib/python3.12/site-packages/scanpy/tools/_rank_genes_groups.py:461: RuntimeWarning: invalid value encountered in log2\n",
      "  self.stats[group_name, \"logfoldchanges\"] = np.log2(\n",
      "/home/victor/.local/lib/python3.12/site-packages/scanpy/tools/_rank_genes_groups.py:461: RuntimeWarning: invalid value encountered in log2\n",
      "  self.stats[group_name, \"logfoldchanges\"] = np.log2(\n",
      "/home/victor/.local/lib/python3.12/site-packages/scanpy/tools/_rank_genes_groups.py:461: RuntimeWarning: invalid value encountered in log2\n",
      "  self.stats[group_name, \"logfoldchanges\"] = np.log2(\n",
      "/home/victor/.local/lib/python3.12/site-packages/scanpy/tools/_rank_genes_groups.py:461: RuntimeWarning: invalid value encountered in log2\n",
      "  self.stats[group_name, \"logfoldchanges\"] = np.log2(\n",
      "/home/victor/.local/lib/python3.12/site-packages/scanpy/tools/_rank_genes_groups.py:461: RuntimeWarning: invalid value encountered in log2\n",
      "  self.stats[group_name, \"logfoldchanges\"] = np.log2(\n",
      "/home/victor/.local/lib/python3.12/site-packages/scanpy/tools/_rank_genes_groups.py:461: RuntimeWarning: invalid value encountered in log2\n",
      "  self.stats[group_name, \"logfoldchanges\"] = np.log2(\n",
      "/home/victor/.local/lib/python3.12/site-packages/scanpy/tools/_rank_genes_groups.py:461: RuntimeWarning: invalid value encountered in log2\n",
      "  self.stats[group_name, \"logfoldchanges\"] = np.log2(\n",
      "/home/victor/.local/lib/python3.12/site-packages/scanpy/tools/_rank_genes_groups.py:461: RuntimeWarning: invalid value encountered in log2\n",
      "  self.stats[group_name, \"logfoldchanges\"] = np.log2(\n",
      "/home/victor/.local/lib/python3.12/site-packages/scanpy/tools/_rank_genes_groups.py:461: RuntimeWarning: invalid value encountered in log2\n",
      "  self.stats[group_name, \"logfoldchanges\"] = np.log2(\n",
      "/home/victor/.local/lib/python3.12/site-packages/scanpy/tools/_rank_genes_groups.py:461: RuntimeWarning: invalid value encountered in log2\n",
      "  self.stats[group_name, \"logfoldchanges\"] = np.log2(\n",
      "/home/victor/.local/lib/python3.12/site-packages/scanpy/tools/_rank_genes_groups.py:461: RuntimeWarning: invalid value encountered in log2\n",
      "  self.stats[group_name, \"logfoldchanges\"] = np.log2(\n",
      "/home/victor/.local/lib/python3.12/site-packages/scanpy/tools/_rank_genes_groups.py:461: RuntimeWarning: invalid value encountered in log2\n",
      "  self.stats[group_name, \"logfoldchanges\"] = np.log2(\n",
      "/home/victor/.local/lib/python3.12/site-packages/scanpy/tools/_rank_genes_groups.py:461: RuntimeWarning: invalid value encountered in log2\n",
      "  self.stats[group_name, \"logfoldchanges\"] = np.log2(\n",
      "/home/victor/.local/lib/python3.12/site-packages/scanpy/tools/_rank_genes_groups.py:461: RuntimeWarning: invalid value encountered in log2\n",
      "  self.stats[group_name, \"logfoldchanges\"] = np.log2(\n",
      "/home/victor/.local/lib/python3.12/site-packages/scanpy/tools/_rank_genes_groups.py:461: RuntimeWarning: invalid value encountered in log2\n",
      "  self.stats[group_name, \"logfoldchanges\"] = np.log2(\n",
      "/home/victor/.local/lib/python3.12/site-packages/scanpy/tools/_rank_genes_groups.py:461: RuntimeWarning: invalid value encountered in log2\n",
      "  self.stats[group_name, \"logfoldchanges\"] = np.log2(\n",
      "/home/victor/.local/lib/python3.12/site-packages/scanpy/tools/_rank_genes_groups.py:461: RuntimeWarning: invalid value encountered in log2\n",
      "  self.stats[group_name, \"logfoldchanges\"] = np.log2(\n",
      "/home/victor/.local/lib/python3.12/site-packages/scanpy/tools/_rank_genes_groups.py:461: RuntimeWarning: invalid value encountered in log2\n",
      "  self.stats[group_name, \"logfoldchanges\"] = np.log2(\n",
      "/home/victor/.local/lib/python3.12/site-packages/scanpy/tools/_rank_genes_groups.py:461: RuntimeWarning: invalid value encountered in log2\n",
      "  self.stats[group_name, \"logfoldchanges\"] = np.log2(\n",
      "/home/victor/.local/lib/python3.12/site-packages/scanpy/tools/_rank_genes_groups.py:461: RuntimeWarning: invalid value encountered in log2\n",
      "  self.stats[group_name, \"logfoldchanges\"] = np.log2(\n",
      "/home/victor/.local/lib/python3.12/site-packages/scanpy/tools/_rank_genes_groups.py:461: RuntimeWarning: invalid value encountered in log2\n",
      "  self.stats[group_name, \"logfoldchanges\"] = np.log2(\n",
      "/home/victor/.local/lib/python3.12/site-packages/scanpy/tools/_rank_genes_groups.py:461: RuntimeWarning: invalid value encountered in log2\n",
      "  self.stats[group_name, \"logfoldchanges\"] = np.log2(\n",
      "/home/victor/.local/lib/python3.12/site-packages/scanpy/tools/_rank_genes_groups.py:461: RuntimeWarning: invalid value encountered in log2\n",
      "  self.stats[group_name, \"logfoldchanges\"] = np.log2(\n",
      "/home/victor/.local/lib/python3.12/site-packages/scanpy/tools/_rank_genes_groups.py:461: RuntimeWarning: invalid value encountered in log2\n",
      "  self.stats[group_name, \"logfoldchanges\"] = np.log2(\n",
      "/home/victor/.local/lib/python3.12/site-packages/scanpy/tools/_rank_genes_groups.py:461: RuntimeWarning: invalid value encountered in log2\n",
      "  self.stats[group_name, \"logfoldchanges\"] = np.log2(\n",
      "/home/victor/.local/lib/python3.12/site-packages/scanpy/tools/_rank_genes_groups.py:461: RuntimeWarning: invalid value encountered in log2\n",
      "  self.stats[group_name, \"logfoldchanges\"] = np.log2(\n",
      "/home/victor/.local/lib/python3.12/site-packages/scanpy/tools/_rank_genes_groups.py:461: RuntimeWarning: invalid value encountered in log2\n",
      "  self.stats[group_name, \"logfoldchanges\"] = np.log2(\n",
      "/home/victor/.local/lib/python3.12/site-packages/scanpy/tools/_rank_genes_groups.py:461: RuntimeWarning: invalid value encountered in log2\n",
      "  self.stats[group_name, \"logfoldchanges\"] = np.log2(\n",
      "/home/victor/.local/lib/python3.12/site-packages/scanpy/tools/_rank_genes_groups.py:461: RuntimeWarning: invalid value encountered in log2\n",
      "  self.stats[group_name, \"logfoldchanges\"] = np.log2(\n",
      "/home/victor/.local/lib/python3.12/site-packages/scanpy/tools/_rank_genes_groups.py:461: RuntimeWarning: invalid value encountered in log2\n",
      "  self.stats[group_name, \"logfoldchanges\"] = np.log2(\n",
      "/home/victor/.local/lib/python3.12/site-packages/scanpy/tools/_rank_genes_groups.py:461: RuntimeWarning: invalid value encountered in log2\n",
      "  self.stats[group_name, \"logfoldchanges\"] = np.log2(\n",
      "/home/victor/.local/lib/python3.12/site-packages/scanpy/tools/_rank_genes_groups.py:461: RuntimeWarning: invalid value encountered in log2\n",
      "  self.stats[group_name, \"logfoldchanges\"] = np.log2(\n",
      "/home/victor/.local/lib/python3.12/site-packages/scanpy/tools/_rank_genes_groups.py:461: RuntimeWarning: invalid value encountered in log2\n",
      "  self.stats[group_name, \"logfoldchanges\"] = np.log2(\n",
      "/home/victor/.local/lib/python3.12/site-packages/scanpy/tools/_rank_genes_groups.py:461: RuntimeWarning: invalid value encountered in log2\n",
      "  self.stats[group_name, \"logfoldchanges\"] = np.log2(\n",
      "/home/victor/.local/lib/python3.12/site-packages/scanpy/tools/_rank_genes_groups.py:461: RuntimeWarning: invalid value encountered in log2\n",
      "  self.stats[group_name, \"logfoldchanges\"] = np.log2(\n",
      "/home/victor/.local/lib/python3.12/site-packages/scanpy/tools/_rank_genes_groups.py:461: RuntimeWarning: invalid value encountered in log2\n",
      "  self.stats[group_name, \"logfoldchanges\"] = np.log2(\n",
      "/home/victor/.local/lib/python3.12/site-packages/scanpy/tools/_rank_genes_groups.py:461: RuntimeWarning: invalid value encountered in log2\n",
      "  self.stats[group_name, \"logfoldchanges\"] = np.log2(\n",
      "/home/victor/.local/lib/python3.12/site-packages/scanpy/tools/_rank_genes_groups.py:461: RuntimeWarning: invalid value encountered in log2\n",
      "  self.stats[group_name, \"logfoldchanges\"] = np.log2(\n",
      "/home/victor/.local/lib/python3.12/site-packages/scanpy/tools/_rank_genes_groups.py:461: RuntimeWarning: invalid value encountered in log2\n",
      "  self.stats[group_name, \"logfoldchanges\"] = np.log2(\n",
      "/home/victor/.local/lib/python3.12/site-packages/scanpy/tools/_rank_genes_groups.py:461: RuntimeWarning: invalid value encountered in log2\n",
      "  self.stats[group_name, \"logfoldchanges\"] = np.log2(\n",
      "/home/victor/.local/lib/python3.12/site-packages/scanpy/tools/_rank_genes_groups.py:461: RuntimeWarning: invalid value encountered in log2\n",
      "  self.stats[group_name, \"logfoldchanges\"] = np.log2(\n",
      "/home/victor/.local/lib/python3.12/site-packages/scanpy/tools/_rank_genes_groups.py:461: RuntimeWarning: invalid value encountered in log2\n",
      "  self.stats[group_name, \"logfoldchanges\"] = np.log2(\n",
      "/home/victor/.local/lib/python3.12/site-packages/scanpy/tools/_rank_genes_groups.py:461: RuntimeWarning: invalid value encountered in log2\n",
      "  self.stats[group_name, \"logfoldchanges\"] = np.log2(\n",
      "/home/victor/.local/lib/python3.12/site-packages/scanpy/tools/_rank_genes_groups.py:461: RuntimeWarning: invalid value encountered in log2\n",
      "  self.stats[group_name, \"logfoldchanges\"] = np.log2(\n",
      "/home/victor/.local/lib/python3.12/site-packages/scanpy/tools/_rank_genes_groups.py:461: RuntimeWarning: invalid value encountered in log2\n",
      "  self.stats[group_name, \"logfoldchanges\"] = np.log2(\n",
      "/home/victor/.local/lib/python3.12/site-packages/scanpy/tools/_rank_genes_groups.py:461: RuntimeWarning: invalid value encountered in log2\n",
      "  self.stats[group_name, \"logfoldchanges\"] = np.log2(\n",
      "/home/victor/.local/lib/python3.12/site-packages/scanpy/tools/_rank_genes_groups.py:461: RuntimeWarning: invalid value encountered in log2\n",
      "  self.stats[group_name, \"logfoldchanges\"] = np.log2(\n",
      "/home/victor/.local/lib/python3.12/site-packages/scanpy/tools/_rank_genes_groups.py:461: RuntimeWarning: invalid value encountered in log2\n",
      "  self.stats[group_name, \"logfoldchanges\"] = np.log2(\n",
      "/home/victor/.local/lib/python3.12/site-packages/scanpy/tools/_rank_genes_groups.py:461: RuntimeWarning: invalid value encountered in log2\n",
      "  self.stats[group_name, \"logfoldchanges\"] = np.log2(\n",
      "/home/victor/.local/lib/python3.12/site-packages/scanpy/tools/_rank_genes_groups.py:461: RuntimeWarning: invalid value encountered in log2\n",
      "  self.stats[group_name, \"logfoldchanges\"] = np.log2(\n",
      "/home/victor/.local/lib/python3.12/site-packages/scanpy/tools/_rank_genes_groups.py:461: RuntimeWarning: invalid value encountered in log2\n",
      "  self.stats[group_name, \"logfoldchanges\"] = np.log2(\n",
      "/home/victor/.local/lib/python3.12/site-packages/scanpy/tools/_rank_genes_groups.py:461: RuntimeWarning: invalid value encountered in log2\n",
      "  self.stats[group_name, \"logfoldchanges\"] = np.log2(\n",
      "/home/victor/.local/lib/python3.12/site-packages/scanpy/tools/_rank_genes_groups.py:461: RuntimeWarning: invalid value encountered in log2\n",
      "  self.stats[group_name, \"logfoldchanges\"] = np.log2(\n",
      "/home/victor/.local/lib/python3.12/site-packages/scanpy/tools/_rank_genes_groups.py:461: RuntimeWarning: invalid value encountered in log2\n",
      "  self.stats[group_name, \"logfoldchanges\"] = np.log2(\n",
      "/home/victor/.local/lib/python3.12/site-packages/scanpy/tools/_rank_genes_groups.py:461: RuntimeWarning: invalid value encountered in log2\n",
      "  self.stats[group_name, \"logfoldchanges\"] = np.log2(\n",
      "/home/victor/.local/lib/python3.12/site-packages/scanpy/tools/_rank_genes_groups.py:461: RuntimeWarning: invalid value encountered in log2\n",
      "  self.stats[group_name, \"logfoldchanges\"] = np.log2(\n",
      "/home/victor/.local/lib/python3.12/site-packages/scanpy/tools/_rank_genes_groups.py:461: RuntimeWarning: invalid value encountered in log2\n",
      "  self.stats[group_name, \"logfoldchanges\"] = np.log2(\n",
      "/home/victor/.local/lib/python3.12/site-packages/scanpy/tools/_rank_genes_groups.py:461: RuntimeWarning: invalid value encountered in log2\n",
      "  self.stats[group_name, \"logfoldchanges\"] = np.log2(\n",
      "/home/victor/.local/lib/python3.12/site-packages/scanpy/tools/_rank_genes_groups.py:461: RuntimeWarning: invalid value encountered in log2\n",
      "  self.stats[group_name, \"logfoldchanges\"] = np.log2(\n",
      "/home/victor/.local/lib/python3.12/site-packages/scanpy/tools/_rank_genes_groups.py:461: RuntimeWarning: invalid value encountered in log2\n",
      "  self.stats[group_name, \"logfoldchanges\"] = np.log2(\n",
      "/home/victor/.local/lib/python3.12/site-packages/scanpy/tools/_rank_genes_groups.py:461: RuntimeWarning: invalid value encountered in log2\n",
      "  self.stats[group_name, \"logfoldchanges\"] = np.log2(\n",
      "/home/victor/.local/lib/python3.12/site-packages/scanpy/tools/_rank_genes_groups.py:461: RuntimeWarning: invalid value encountered in log2\n",
      "  self.stats[group_name, \"logfoldchanges\"] = np.log2(\n",
      "/home/victor/.local/lib/python3.12/site-packages/scanpy/tools/_rank_genes_groups.py:461: RuntimeWarning: invalid value encountered in log2\n",
      "  self.stats[group_name, \"logfoldchanges\"] = np.log2(\n",
      "/home/victor/.local/lib/python3.12/site-packages/scanpy/tools/_rank_genes_groups.py:461: RuntimeWarning: invalid value encountered in log2\n",
      "  self.stats[group_name, \"logfoldchanges\"] = np.log2(\n",
      "/home/victor/.local/lib/python3.12/site-packages/scanpy/tools/_rank_genes_groups.py:461: RuntimeWarning: invalid value encountered in log2\n",
      "  self.stats[group_name, \"logfoldchanges\"] = np.log2(\n",
      "/home/victor/.local/lib/python3.12/site-packages/scanpy/tools/_rank_genes_groups.py:461: RuntimeWarning: invalid value encountered in log2\n",
      "  self.stats[group_name, \"logfoldchanges\"] = np.log2(\n",
      "/home/victor/.local/lib/python3.12/site-packages/scanpy/tools/_rank_genes_groups.py:461: RuntimeWarning: invalid value encountered in log2\n",
      "  self.stats[group_name, \"logfoldchanges\"] = np.log2(\n",
      "/home/victor/.local/lib/python3.12/site-packages/scanpy/tools/_rank_genes_groups.py:461: RuntimeWarning: invalid value encountered in log2\n",
      "  self.stats[group_name, \"logfoldchanges\"] = np.log2(\n",
      "/home/victor/.local/lib/python3.12/site-packages/scanpy/tools/_rank_genes_groups.py:461: RuntimeWarning: invalid value encountered in log2\n",
      "  self.stats[group_name, \"logfoldchanges\"] = np.log2(\n",
      "/home/victor/.local/lib/python3.12/site-packages/scanpy/tools/_rank_genes_groups.py:461: RuntimeWarning: invalid value encountered in log2\n",
      "  self.stats[group_name, \"logfoldchanges\"] = np.log2(\n",
      "/home/victor/.local/lib/python3.12/site-packages/scanpy/tools/_rank_genes_groups.py:461: RuntimeWarning: invalid value encountered in log2\n",
      "  self.stats[group_name, \"logfoldchanges\"] = np.log2(\n",
      "/home/victor/.local/lib/python3.12/site-packages/scanpy/tools/_rank_genes_groups.py:461: RuntimeWarning: invalid value encountered in log2\n",
      "  self.stats[group_name, \"logfoldchanges\"] = np.log2(\n",
      "/home/victor/.local/lib/python3.12/site-packages/scanpy/tools/_rank_genes_groups.py:461: RuntimeWarning: invalid value encountered in log2\n",
      "  self.stats[group_name, \"logfoldchanges\"] = np.log2(\n",
      "/home/victor/.local/lib/python3.12/site-packages/scanpy/tools/_rank_genes_groups.py:461: RuntimeWarning: invalid value encountered in log2\n",
      "  self.stats[group_name, \"logfoldchanges\"] = np.log2(\n",
      "/home/victor/.local/lib/python3.12/site-packages/scanpy/tools/_rank_genes_groups.py:461: RuntimeWarning: invalid value encountered in log2\n",
      "  self.stats[group_name, \"logfoldchanges\"] = np.log2(\n",
      "/home/victor/.local/lib/python3.12/site-packages/scanpy/tools/_rank_genes_groups.py:461: RuntimeWarning: invalid value encountered in log2\n",
      "  self.stats[group_name, \"logfoldchanges\"] = np.log2(\n",
      "/home/victor/.local/lib/python3.12/site-packages/scanpy/tools/_rank_genes_groups.py:461: RuntimeWarning: invalid value encountered in log2\n",
      "  self.stats[group_name, \"logfoldchanges\"] = np.log2(\n",
      "/home/victor/.local/lib/python3.12/site-packages/scanpy/tools/_rank_genes_groups.py:461: RuntimeWarning: invalid value encountered in log2\n",
      "  self.stats[group_name, \"logfoldchanges\"] = np.log2(\n",
      "/home/victor/.local/lib/python3.12/site-packages/scanpy/tools/_rank_genes_groups.py:461: RuntimeWarning: invalid value encountered in log2\n",
      "  self.stats[group_name, \"logfoldchanges\"] = np.log2(\n",
      "/home/victor/.local/lib/python3.12/site-packages/scanpy/tools/_rank_genes_groups.py:461: RuntimeWarning: invalid value encountered in log2\n",
      "  self.stats[group_name, \"logfoldchanges\"] = np.log2(\n",
      "/home/victor/.local/lib/python3.12/site-packages/scanpy/tools/_rank_genes_groups.py:461: RuntimeWarning: invalid value encountered in log2\n",
      "  self.stats[group_name, \"logfoldchanges\"] = np.log2(\n",
      "/home/victor/.local/lib/python3.12/site-packages/scanpy/tools/_rank_genes_groups.py:461: RuntimeWarning: invalid value encountered in log2\n",
      "  self.stats[group_name, \"logfoldchanges\"] = np.log2(\n",
      "/home/victor/.local/lib/python3.12/site-packages/scanpy/tools/_rank_genes_groups.py:461: RuntimeWarning: invalid value encountered in log2\n",
      "  self.stats[group_name, \"logfoldchanges\"] = np.log2(\n",
      "/home/victor/.local/lib/python3.12/site-packages/scanpy/tools/_rank_genes_groups.py:461: RuntimeWarning: invalid value encountered in log2\n",
      "  self.stats[group_name, \"logfoldchanges\"] = np.log2(\n",
      "/home/victor/.local/lib/python3.12/site-packages/scanpy/tools/_rank_genes_groups.py:461: RuntimeWarning: invalid value encountered in log2\n",
      "  self.stats[group_name, \"logfoldchanges\"] = np.log2(\n",
      "/home/victor/.local/lib/python3.12/site-packages/scanpy/tools/_rank_genes_groups.py:461: RuntimeWarning: invalid value encountered in log2\n",
      "  self.stats[group_name, \"logfoldchanges\"] = np.log2(\n",
      "/home/victor/.local/lib/python3.12/site-packages/scanpy/tools/_rank_genes_groups.py:461: RuntimeWarning: invalid value encountered in log2\n",
      "  self.stats[group_name, \"logfoldchanges\"] = np.log2(\n",
      "/home/victor/.local/lib/python3.12/site-packages/scanpy/tools/_rank_genes_groups.py:461: RuntimeWarning: invalid value encountered in log2\n",
      "  self.stats[group_name, \"logfoldchanges\"] = np.log2(\n",
      "/home/victor/.local/lib/python3.12/site-packages/scanpy/tools/_rank_genes_groups.py:461: RuntimeWarning: invalid value encountered in log2\n",
      "  self.stats[group_name, \"logfoldchanges\"] = np.log2(\n",
      "/home/victor/.local/lib/python3.12/site-packages/scanpy/tools/_rank_genes_groups.py:461: RuntimeWarning: invalid value encountered in log2\n",
      "  self.stats[group_name, \"logfoldchanges\"] = np.log2(\n",
      "/home/victor/.local/lib/python3.12/site-packages/scanpy/tools/_rank_genes_groups.py:461: RuntimeWarning: invalid value encountered in log2\n",
      "  self.stats[group_name, \"logfoldchanges\"] = np.log2(\n",
      "/home/victor/.local/lib/python3.12/site-packages/scanpy/tools/_rank_genes_groups.py:461: RuntimeWarning: invalid value encountered in log2\n",
      "  self.stats[group_name, \"logfoldchanges\"] = np.log2(\n",
      "/home/victor/.local/lib/python3.12/site-packages/scanpy/tools/_rank_genes_groups.py:461: RuntimeWarning: invalid value encountered in log2\n",
      "  self.stats[group_name, \"logfoldchanges\"] = np.log2(\n",
      "/home/victor/.local/lib/python3.12/site-packages/scanpy/tools/_rank_genes_groups.py:461: RuntimeWarning: invalid value encountered in log2\n",
      "  self.stats[group_name, \"logfoldchanges\"] = np.log2(\n",
      "/home/victor/.local/lib/python3.12/site-packages/scanpy/tools/_rank_genes_groups.py:461: RuntimeWarning: invalid value encountered in log2\n",
      "  self.stats[group_name, \"logfoldchanges\"] = np.log2(\n",
      "/home/victor/.local/lib/python3.12/site-packages/scanpy/tools/_rank_genes_groups.py:461: RuntimeWarning: invalid value encountered in log2\n",
      "  self.stats[group_name, \"logfoldchanges\"] = np.log2(\n",
      "/home/victor/.local/lib/python3.12/site-packages/scanpy/tools/_rank_genes_groups.py:461: RuntimeWarning: invalid value encountered in log2\n",
      "  self.stats[group_name, \"logfoldchanges\"] = np.log2(\n",
      "/home/victor/.local/lib/python3.12/site-packages/scanpy/tools/_rank_genes_groups.py:461: RuntimeWarning: invalid value encountered in log2\n",
      "  self.stats[group_name, \"logfoldchanges\"] = np.log2(\n",
      "/home/victor/.local/lib/python3.12/site-packages/scanpy/tools/_rank_genes_groups.py:461: RuntimeWarning: invalid value encountered in log2\n",
      "  self.stats[group_name, \"logfoldchanges\"] = np.log2(\n",
      "/home/victor/.local/lib/python3.12/site-packages/scanpy/tools/_rank_genes_groups.py:461: RuntimeWarning: invalid value encountered in log2\n",
      "  self.stats[group_name, \"logfoldchanges\"] = np.log2(\n",
      "/home/victor/.local/lib/python3.12/site-packages/scanpy/tools/_rank_genes_groups.py:461: RuntimeWarning: invalid value encountered in log2\n",
      "  self.stats[group_name, \"logfoldchanges\"] = np.log2(\n",
      "/home/victor/.local/lib/python3.12/site-packages/scanpy/tools/_rank_genes_groups.py:461: RuntimeWarning: invalid value encountered in log2\n",
      "  self.stats[group_name, \"logfoldchanges\"] = np.log2(\n",
      "/home/victor/.local/lib/python3.12/site-packages/scanpy/tools/_rank_genes_groups.py:461: RuntimeWarning: invalid value encountered in log2\n",
      "  self.stats[group_name, \"logfoldchanges\"] = np.log2(\n",
      "/home/victor/.local/lib/python3.12/site-packages/scanpy/tools/_rank_genes_groups.py:461: RuntimeWarning: invalid value encountered in log2\n",
      "  self.stats[group_name, \"logfoldchanges\"] = np.log2(\n",
      "/home/victor/.local/lib/python3.12/site-packages/scanpy/tools/_rank_genes_groups.py:461: RuntimeWarning: invalid value encountered in log2\n",
      "  self.stats[group_name, \"logfoldchanges\"] = np.log2(\n",
      "/home/victor/.local/lib/python3.12/site-packages/scanpy/tools/_rank_genes_groups.py:461: RuntimeWarning: invalid value encountered in log2\n",
      "  self.stats[group_name, \"logfoldchanges\"] = np.log2(\n",
      "/home/victor/.local/lib/python3.12/site-packages/scanpy/tools/_rank_genes_groups.py:461: RuntimeWarning: invalid value encountered in log2\n",
      "  self.stats[group_name, \"logfoldchanges\"] = np.log2(\n",
      "/home/victor/.local/lib/python3.12/site-packages/scanpy/tools/_rank_genes_groups.py:461: RuntimeWarning: invalid value encountered in log2\n",
      "  self.stats[group_name, \"logfoldchanges\"] = np.log2(\n",
      "/home/victor/.local/lib/python3.12/site-packages/scanpy/tools/_rank_genes_groups.py:461: RuntimeWarning: invalid value encountered in log2\n",
      "  self.stats[group_name, \"logfoldchanges\"] = np.log2(\n",
      "/home/victor/.local/lib/python3.12/site-packages/scanpy/tools/_rank_genes_groups.py:461: RuntimeWarning: invalid value encountered in log2\n",
      "  self.stats[group_name, \"logfoldchanges\"] = np.log2(\n",
      "/home/victor/.local/lib/python3.12/site-packages/scanpy/tools/_rank_genes_groups.py:461: RuntimeWarning: invalid value encountered in log2\n",
      "  self.stats[group_name, \"logfoldchanges\"] = np.log2(\n",
      "/home/victor/.local/lib/python3.12/site-packages/scanpy/tools/_rank_genes_groups.py:461: RuntimeWarning: invalid value encountered in log2\n",
      "  self.stats[group_name, \"logfoldchanges\"] = np.log2(\n",
      "/home/victor/.local/lib/python3.12/site-packages/scanpy/tools/_rank_genes_groups.py:461: RuntimeWarning: invalid value encountered in log2\n",
      "  self.stats[group_name, \"logfoldchanges\"] = np.log2(\n",
      "/home/victor/.local/lib/python3.12/site-packages/scanpy/tools/_rank_genes_groups.py:461: RuntimeWarning: invalid value encountered in log2\n",
      "  self.stats[group_name, \"logfoldchanges\"] = np.log2(\n",
      "/home/victor/.local/lib/python3.12/site-packages/scanpy/tools/_rank_genes_groups.py:461: RuntimeWarning: invalid value encountered in log2\n",
      "  self.stats[group_name, \"logfoldchanges\"] = np.log2(\n",
      "/home/victor/.local/lib/python3.12/site-packages/scanpy/tools/_rank_genes_groups.py:461: RuntimeWarning: invalid value encountered in log2\n",
      "  self.stats[group_name, \"logfoldchanges\"] = np.log2(\n",
      "/home/victor/.local/lib/python3.12/site-packages/scanpy/tools/_rank_genes_groups.py:461: RuntimeWarning: invalid value encountered in log2\n",
      "  self.stats[group_name, \"logfoldchanges\"] = np.log2(\n",
      "/home/victor/.local/lib/python3.12/site-packages/scanpy/tools/_rank_genes_groups.py:461: RuntimeWarning: invalid value encountered in log2\n",
      "  self.stats[group_name, \"logfoldchanges\"] = np.log2(\n",
      "/home/victor/.local/lib/python3.12/site-packages/scanpy/tools/_rank_genes_groups.py:461: RuntimeWarning: invalid value encountered in log2\n",
      "  self.stats[group_name, \"logfoldchanges\"] = np.log2(\n",
      "/home/victor/.local/lib/python3.12/site-packages/scanpy/tools/_rank_genes_groups.py:461: RuntimeWarning: invalid value encountered in log2\n",
      "  self.stats[group_name, \"logfoldchanges\"] = np.log2(\n",
      "/home/victor/.local/lib/python3.12/site-packages/scanpy/tools/_rank_genes_groups.py:461: RuntimeWarning: invalid value encountered in log2\n",
      "  self.stats[group_name, \"logfoldchanges\"] = np.log2(\n",
      "/home/victor/.local/lib/python3.12/site-packages/scanpy/tools/_rank_genes_groups.py:461: RuntimeWarning: invalid value encountered in log2\n",
      "  self.stats[group_name, \"logfoldchanges\"] = np.log2(\n",
      "/home/victor/.local/lib/python3.12/site-packages/scanpy/tools/_rank_genes_groups.py:461: RuntimeWarning: invalid value encountered in log2\n",
      "  self.stats[group_name, \"logfoldchanges\"] = np.log2(\n",
      "/home/victor/.local/lib/python3.12/site-packages/scanpy/tools/_rank_genes_groups.py:461: RuntimeWarning: invalid value encountered in log2\n",
      "  self.stats[group_name, \"logfoldchanges\"] = np.log2(\n",
      "/home/victor/.local/lib/python3.12/site-packages/scanpy/tools/_rank_genes_groups.py:461: RuntimeWarning: invalid value encountered in log2\n",
      "  self.stats[group_name, \"logfoldchanges\"] = np.log2(\n",
      "/home/victor/.local/lib/python3.12/site-packages/scanpy/tools/_rank_genes_groups.py:461: RuntimeWarning: invalid value encountered in log2\n",
      "  self.stats[group_name, \"logfoldchanges\"] = np.log2(\n",
      "/home/victor/.local/lib/python3.12/site-packages/scanpy/tools/_rank_genes_groups.py:461: RuntimeWarning: invalid value encountered in log2\n",
      "  self.stats[group_name, \"logfoldchanges\"] = np.log2(\n",
      "/home/victor/.local/lib/python3.12/site-packages/scanpy/tools/_rank_genes_groups.py:461: RuntimeWarning: invalid value encountered in log2\n",
      "  self.stats[group_name, \"logfoldchanges\"] = np.log2(\n",
      "/home/victor/.local/lib/python3.12/site-packages/scanpy/tools/_rank_genes_groups.py:461: RuntimeWarning: invalid value encountered in log2\n",
      "  self.stats[group_name, \"logfoldchanges\"] = np.log2(\n",
      "/home/victor/.local/lib/python3.12/site-packages/scanpy/tools/_rank_genes_groups.py:461: RuntimeWarning: invalid value encountered in log2\n",
      "  self.stats[group_name, \"logfoldchanges\"] = np.log2(\n",
      "/home/victor/.local/lib/python3.12/site-packages/scanpy/tools/_rank_genes_groups.py:461: RuntimeWarning: invalid value encountered in log2\n",
      "  self.stats[group_name, \"logfoldchanges\"] = np.log2(\n",
      "/home/victor/.local/lib/python3.12/site-packages/scanpy/tools/_rank_genes_groups.py:461: RuntimeWarning: invalid value encountered in log2\n",
      "  self.stats[group_name, \"logfoldchanges\"] = np.log2(\n",
      "/home/victor/.local/lib/python3.12/site-packages/scanpy/tools/_rank_genes_groups.py:461: RuntimeWarning: invalid value encountered in log2\n",
      "  self.stats[group_name, \"logfoldchanges\"] = np.log2(\n",
      "/home/victor/.local/lib/python3.12/site-packages/scanpy/tools/_rank_genes_groups.py:461: RuntimeWarning: invalid value encountered in log2\n",
      "  self.stats[group_name, \"logfoldchanges\"] = np.log2(\n",
      "/home/victor/.local/lib/python3.12/site-packages/scanpy/tools/_rank_genes_groups.py:461: RuntimeWarning: invalid value encountered in log2\n",
      "  self.stats[group_name, \"logfoldchanges\"] = np.log2(\n",
      "/home/victor/.local/lib/python3.12/site-packages/scanpy/tools/_rank_genes_groups.py:461: RuntimeWarning: invalid value encountered in log2\n",
      "  self.stats[group_name, \"logfoldchanges\"] = np.log2(\n",
      "/home/victor/.local/lib/python3.12/site-packages/scanpy/tools/_rank_genes_groups.py:461: RuntimeWarning: invalid value encountered in log2\n",
      "  self.stats[group_name, \"logfoldchanges\"] = np.log2(\n",
      "/home/victor/.local/lib/python3.12/site-packages/scanpy/tools/_rank_genes_groups.py:461: RuntimeWarning: invalid value encountered in log2\n",
      "  self.stats[group_name, \"logfoldchanges\"] = np.log2(\n",
      "/home/victor/.local/lib/python3.12/site-packages/scanpy/tools/_rank_genes_groups.py:461: RuntimeWarning: invalid value encountered in log2\n",
      "  self.stats[group_name, \"logfoldchanges\"] = np.log2(\n",
      "/home/victor/.local/lib/python3.12/site-packages/scanpy/tools/_rank_genes_groups.py:461: RuntimeWarning: invalid value encountered in log2\n",
      "  self.stats[group_name, \"logfoldchanges\"] = np.log2(\n",
      "/home/victor/.local/lib/python3.12/site-packages/scanpy/tools/_rank_genes_groups.py:461: RuntimeWarning: invalid value encountered in log2\n",
      "  self.stats[group_name, \"logfoldchanges\"] = np.log2(\n",
      "/home/victor/.local/lib/python3.12/site-packages/scanpy/tools/_rank_genes_groups.py:461: RuntimeWarning: invalid value encountered in log2\n",
      "  self.stats[group_name, \"logfoldchanges\"] = np.log2(\n",
      "/home/victor/.local/lib/python3.12/site-packages/scanpy/tools/_rank_genes_groups.py:461: RuntimeWarning: invalid value encountered in log2\n",
      "  self.stats[group_name, \"logfoldchanges\"] = np.log2(\n",
      "/home/victor/.local/lib/python3.12/site-packages/scanpy/tools/_rank_genes_groups.py:461: RuntimeWarning: invalid value encountered in log2\n",
      "  self.stats[group_name, \"logfoldchanges\"] = np.log2(\n",
      "/home/victor/.local/lib/python3.12/site-packages/scanpy/tools/_rank_genes_groups.py:461: RuntimeWarning: invalid value encountered in log2\n",
      "  self.stats[group_name, \"logfoldchanges\"] = np.log2(\n",
      "/home/victor/.local/lib/python3.12/site-packages/scanpy/tools/_rank_genes_groups.py:461: RuntimeWarning: invalid value encountered in log2\n",
      "  self.stats[group_name, \"logfoldchanges\"] = np.log2(\n",
      "/home/victor/.local/lib/python3.12/site-packages/scanpy/tools/_rank_genes_groups.py:461: RuntimeWarning: invalid value encountered in log2\n",
      "  self.stats[group_name, \"logfoldchanges\"] = np.log2(\n",
      "/home/victor/.local/lib/python3.12/site-packages/scanpy/tools/_rank_genes_groups.py:461: RuntimeWarning: invalid value encountered in log2\n",
      "  self.stats[group_name, \"logfoldchanges\"] = np.log2(\n",
      "/home/victor/.local/lib/python3.12/site-packages/scanpy/tools/_rank_genes_groups.py:461: RuntimeWarning: invalid value encountered in log2\n",
      "  self.stats[group_name, \"logfoldchanges\"] = np.log2(\n",
      "/home/victor/.local/lib/python3.12/site-packages/scanpy/tools/_rank_genes_groups.py:461: RuntimeWarning: invalid value encountered in log2\n",
      "  self.stats[group_name, \"logfoldchanges\"] = np.log2(\n",
      "/home/victor/.local/lib/python3.12/site-packages/scanpy/tools/_rank_genes_groups.py:461: RuntimeWarning: invalid value encountered in log2\n",
      "  self.stats[group_name, \"logfoldchanges\"] = np.log2(\n",
      "/home/victor/.local/lib/python3.12/site-packages/scanpy/tools/_rank_genes_groups.py:461: RuntimeWarning: invalid value encountered in log2\n",
      "  self.stats[group_name, \"logfoldchanges\"] = np.log2(\n",
      "/home/victor/.local/lib/python3.12/site-packages/scanpy/tools/_rank_genes_groups.py:461: RuntimeWarning: invalid value encountered in log2\n",
      "  self.stats[group_name, \"logfoldchanges\"] = np.log2(\n",
      "/home/victor/.local/lib/python3.12/site-packages/scanpy/tools/_rank_genes_groups.py:461: RuntimeWarning: invalid value encountered in log2\n",
      "  self.stats[group_name, \"logfoldchanges\"] = np.log2(\n",
      "/home/victor/.local/lib/python3.12/site-packages/scanpy/tools/_rank_genes_groups.py:461: RuntimeWarning: invalid value encountered in log2\n",
      "  self.stats[group_name, \"logfoldchanges\"] = np.log2(\n",
      "/home/victor/.local/lib/python3.12/site-packages/scanpy/tools/_rank_genes_groups.py:461: RuntimeWarning: invalid value encountered in log2\n",
      "  self.stats[group_name, \"logfoldchanges\"] = np.log2(\n",
      "/home/victor/.local/lib/python3.12/site-packages/scanpy/tools/_rank_genes_groups.py:461: RuntimeWarning: invalid value encountered in log2\n",
      "  self.stats[group_name, \"logfoldchanges\"] = np.log2(\n",
      "/home/victor/.local/lib/python3.12/site-packages/scanpy/tools/_rank_genes_groups.py:461: RuntimeWarning: invalid value encountered in log2\n",
      "  self.stats[group_name, \"logfoldchanges\"] = np.log2(\n",
      "/home/victor/.local/lib/python3.12/site-packages/scanpy/tools/_rank_genes_groups.py:461: RuntimeWarning: invalid value encountered in log2\n",
      "  self.stats[group_name, \"logfoldchanges\"] = np.log2(\n",
      "/home/victor/.local/lib/python3.12/site-packages/scanpy/tools/_rank_genes_groups.py:461: RuntimeWarning: invalid value encountered in log2\n",
      "  self.stats[group_name, \"logfoldchanges\"] = np.log2(\n",
      "/home/victor/.local/lib/python3.12/site-packages/scanpy/tools/_rank_genes_groups.py:461: RuntimeWarning: invalid value encountered in log2\n",
      "  self.stats[group_name, \"logfoldchanges\"] = np.log2(\n",
      "/home/victor/.local/lib/python3.12/site-packages/scanpy/tools/_rank_genes_groups.py:461: RuntimeWarning: invalid value encountered in log2\n",
      "  self.stats[group_name, \"logfoldchanges\"] = np.log2(\n",
      "/home/victor/.local/lib/python3.12/site-packages/scanpy/tools/_rank_genes_groups.py:461: RuntimeWarning: invalid value encountered in log2\n",
      "  self.stats[group_name, \"logfoldchanges\"] = np.log2(\n",
      "/home/victor/.local/lib/python3.12/site-packages/scanpy/tools/_rank_genes_groups.py:461: RuntimeWarning: invalid value encountered in log2\n",
      "  self.stats[group_name, \"logfoldchanges\"] = np.log2(\n",
      "/home/victor/.local/lib/python3.12/site-packages/scanpy/tools/_rank_genes_groups.py:461: RuntimeWarning: invalid value encountered in log2\n",
      "  self.stats[group_name, \"logfoldchanges\"] = np.log2(\n",
      "/home/victor/.local/lib/python3.12/site-packages/scanpy/tools/_rank_genes_groups.py:461: RuntimeWarning: invalid value encountered in log2\n",
      "  self.stats[group_name, \"logfoldchanges\"] = np.log2(\n",
      "/home/victor/.local/lib/python3.12/site-packages/scanpy/tools/_rank_genes_groups.py:461: RuntimeWarning: invalid value encountered in log2\n",
      "  self.stats[group_name, \"logfoldchanges\"] = np.log2(\n",
      "/home/victor/.local/lib/python3.12/site-packages/scanpy/tools/_rank_genes_groups.py:461: RuntimeWarning: invalid value encountered in log2\n",
      "  self.stats[group_name, \"logfoldchanges\"] = np.log2(\n",
      "/home/victor/.local/lib/python3.12/site-packages/scanpy/tools/_rank_genes_groups.py:461: RuntimeWarning: invalid value encountered in log2\n",
      "  self.stats[group_name, \"logfoldchanges\"] = np.log2(\n",
      "/home/victor/.local/lib/python3.12/site-packages/scanpy/tools/_rank_genes_groups.py:461: RuntimeWarning: invalid value encountered in log2\n",
      "  self.stats[group_name, \"logfoldchanges\"] = np.log2(\n",
      "/home/victor/.local/lib/python3.12/site-packages/scanpy/tools/_rank_genes_groups.py:461: RuntimeWarning: invalid value encountered in log2\n",
      "  self.stats[group_name, \"logfoldchanges\"] = np.log2(\n",
      "/home/victor/.local/lib/python3.12/site-packages/scanpy/tools/_rank_genes_groups.py:461: RuntimeWarning: invalid value encountered in log2\n",
      "  self.stats[group_name, \"logfoldchanges\"] = np.log2(\n",
      "/home/victor/.local/lib/python3.12/site-packages/scanpy/tools/_rank_genes_groups.py:461: RuntimeWarning: invalid value encountered in log2\n",
      "  self.stats[group_name, \"logfoldchanges\"] = np.log2(\n",
      "/home/victor/.local/lib/python3.12/site-packages/scanpy/tools/_rank_genes_groups.py:461: RuntimeWarning: invalid value encountered in log2\n",
      "  self.stats[group_name, \"logfoldchanges\"] = np.log2(\n",
      "/home/victor/.local/lib/python3.12/site-packages/scanpy/tools/_rank_genes_groups.py:461: RuntimeWarning: invalid value encountered in log2\n",
      "  self.stats[group_name, \"logfoldchanges\"] = np.log2(\n",
      "/home/victor/.local/lib/python3.12/site-packages/scanpy/tools/_rank_genes_groups.py:461: RuntimeWarning: invalid value encountered in log2\n",
      "  self.stats[group_name, \"logfoldchanges\"] = np.log2(\n",
      "/home/victor/.local/lib/python3.12/site-packages/scanpy/tools/_rank_genes_groups.py:461: RuntimeWarning: invalid value encountered in log2\n",
      "  self.stats[group_name, \"logfoldchanges\"] = np.log2(\n",
      "/home/victor/.local/lib/python3.12/site-packages/scanpy/tools/_rank_genes_groups.py:461: RuntimeWarning: invalid value encountered in log2\n",
      "  self.stats[group_name, \"logfoldchanges\"] = np.log2(\n",
      "/home/victor/.local/lib/python3.12/site-packages/scanpy/tools/_rank_genes_groups.py:461: RuntimeWarning: invalid value encountered in log2\n",
      "  self.stats[group_name, \"logfoldchanges\"] = np.log2(\n",
      "/home/victor/.local/lib/python3.12/site-packages/scanpy/tools/_rank_genes_groups.py:461: RuntimeWarning: invalid value encountered in log2\n",
      "  self.stats[group_name, \"logfoldchanges\"] = np.log2(\n",
      "/home/victor/.local/lib/python3.12/site-packages/scanpy/tools/_rank_genes_groups.py:461: RuntimeWarning: invalid value encountered in log2\n",
      "  self.stats[group_name, \"logfoldchanges\"] = np.log2(\n",
      "/home/victor/.local/lib/python3.12/site-packages/scanpy/tools/_rank_genes_groups.py:461: RuntimeWarning: invalid value encountered in log2\n",
      "  self.stats[group_name, \"logfoldchanges\"] = np.log2(\n",
      "/home/victor/.local/lib/python3.12/site-packages/scanpy/tools/_rank_genes_groups.py:461: RuntimeWarning: invalid value encountered in log2\n",
      "  self.stats[group_name, \"logfoldchanges\"] = np.log2(\n",
      "/home/victor/.local/lib/python3.12/site-packages/scanpy/tools/_rank_genes_groups.py:461: RuntimeWarning: invalid value encountered in log2\n",
      "  self.stats[group_name, \"logfoldchanges\"] = np.log2(\n",
      "/home/victor/.local/lib/python3.12/site-packages/scanpy/tools/_rank_genes_groups.py:461: RuntimeWarning: invalid value encountered in log2\n",
      "  self.stats[group_name, \"logfoldchanges\"] = np.log2(\n",
      "/home/victor/.local/lib/python3.12/site-packages/scanpy/tools/_rank_genes_groups.py:461: RuntimeWarning: invalid value encountered in log2\n",
      "  self.stats[group_name, \"logfoldchanges\"] = np.log2(\n",
      "/home/victor/.local/lib/python3.12/site-packages/scanpy/tools/_rank_genes_groups.py:461: RuntimeWarning: invalid value encountered in log2\n",
      "  self.stats[group_name, \"logfoldchanges\"] = np.log2(\n",
      "/home/victor/.local/lib/python3.12/site-packages/scanpy/tools/_rank_genes_groups.py:461: RuntimeWarning: invalid value encountered in log2\n",
      "  self.stats[group_name, \"logfoldchanges\"] = np.log2(\n",
      "/home/victor/.local/lib/python3.12/site-packages/scanpy/tools/_rank_genes_groups.py:461: RuntimeWarning: invalid value encountered in log2\n",
      "  self.stats[group_name, \"logfoldchanges\"] = np.log2(\n",
      "/home/victor/.local/lib/python3.12/site-packages/scanpy/tools/_rank_genes_groups.py:461: RuntimeWarning: invalid value encountered in log2\n",
      "  self.stats[group_name, \"logfoldchanges\"] = np.log2(\n",
      "/home/victor/.local/lib/python3.12/site-packages/scanpy/tools/_rank_genes_groups.py:461: RuntimeWarning: invalid value encountered in log2\n",
      "  self.stats[group_name, \"logfoldchanges\"] = np.log2(\n",
      "/home/victor/.local/lib/python3.12/site-packages/scanpy/tools/_rank_genes_groups.py:461: RuntimeWarning: invalid value encountered in log2\n",
      "  self.stats[group_name, \"logfoldchanges\"] = np.log2(\n",
      "/home/victor/.local/lib/python3.12/site-packages/scanpy/tools/_rank_genes_groups.py:461: RuntimeWarning: invalid value encountered in log2\n",
      "  self.stats[group_name, \"logfoldchanges\"] = np.log2(\n",
      "/home/victor/.local/lib/python3.12/site-packages/scanpy/tools/_rank_genes_groups.py:461: RuntimeWarning: invalid value encountered in log2\n",
      "  self.stats[group_name, \"logfoldchanges\"] = np.log2(\n",
      "/home/victor/.local/lib/python3.12/site-packages/scanpy/tools/_rank_genes_groups.py:461: RuntimeWarning: invalid value encountered in log2\n",
      "  self.stats[group_name, \"logfoldchanges\"] = np.log2(\n",
      "/home/victor/.local/lib/python3.12/site-packages/scanpy/tools/_rank_genes_groups.py:461: RuntimeWarning: invalid value encountered in log2\n",
      "  self.stats[group_name, \"logfoldchanges\"] = np.log2(\n",
      "/home/victor/.local/lib/python3.12/site-packages/scanpy/tools/_rank_genes_groups.py:461: RuntimeWarning: invalid value encountered in log2\n",
      "  self.stats[group_name, \"logfoldchanges\"] = np.log2(\n",
      "/home/victor/.local/lib/python3.12/site-packages/scanpy/tools/_rank_genes_groups.py:461: RuntimeWarning: invalid value encountered in log2\n",
      "  self.stats[group_name, \"logfoldchanges\"] = np.log2(\n",
      "/home/victor/.local/lib/python3.12/site-packages/scanpy/tools/_rank_genes_groups.py:461: RuntimeWarning: invalid value encountered in log2\n",
      "  self.stats[group_name, \"logfoldchanges\"] = np.log2(\n",
      "/home/victor/.local/lib/python3.12/site-packages/scanpy/tools/_rank_genes_groups.py:461: RuntimeWarning: invalid value encountered in log2\n",
      "  self.stats[group_name, \"logfoldchanges\"] = np.log2(\n",
      "/home/victor/.local/lib/python3.12/site-packages/scanpy/tools/_rank_genes_groups.py:461: RuntimeWarning: invalid value encountered in log2\n",
      "  self.stats[group_name, \"logfoldchanges\"] = np.log2(\n",
      "/home/victor/.local/lib/python3.12/site-packages/scanpy/tools/_rank_genes_groups.py:461: RuntimeWarning: invalid value encountered in log2\n",
      "  self.stats[group_name, \"logfoldchanges\"] = np.log2(\n",
      "/home/victor/.local/lib/python3.12/site-packages/scanpy/tools/_rank_genes_groups.py:461: RuntimeWarning: invalid value encountered in log2\n",
      "  self.stats[group_name, \"logfoldchanges\"] = np.log2(\n",
      "/home/victor/.local/lib/python3.12/site-packages/scanpy/tools/_rank_genes_groups.py:461: RuntimeWarning: invalid value encountered in log2\n",
      "  self.stats[group_name, \"logfoldchanges\"] = np.log2(\n",
      "/home/victor/.local/lib/python3.12/site-packages/scanpy/tools/_rank_genes_groups.py:461: RuntimeWarning: invalid value encountered in log2\n",
      "  self.stats[group_name, \"logfoldchanges\"] = np.log2(\n",
      "/home/victor/.local/lib/python3.12/site-packages/scanpy/tools/_rank_genes_groups.py:461: RuntimeWarning: invalid value encountered in log2\n",
      "  self.stats[group_name, \"logfoldchanges\"] = np.log2(\n",
      "/home/victor/.local/lib/python3.12/site-packages/scanpy/tools/_rank_genes_groups.py:461: RuntimeWarning: invalid value encountered in log2\n",
      "  self.stats[group_name, \"logfoldchanges\"] = np.log2(\n",
      "/home/victor/.local/lib/python3.12/site-packages/scanpy/tools/_rank_genes_groups.py:461: RuntimeWarning: invalid value encountered in log2\n",
      "  self.stats[group_name, \"logfoldchanges\"] = np.log2(\n",
      "/home/victor/.local/lib/python3.12/site-packages/scanpy/tools/_rank_genes_groups.py:461: RuntimeWarning: invalid value encountered in log2\n",
      "  self.stats[group_name, \"logfoldchanges\"] = np.log2(\n",
      "/home/victor/.local/lib/python3.12/site-packages/scanpy/tools/_rank_genes_groups.py:461: RuntimeWarning: invalid value encountered in log2\n",
      "  self.stats[group_name, \"logfoldchanges\"] = np.log2(\n",
      "/home/victor/.local/lib/python3.12/site-packages/scanpy/tools/_rank_genes_groups.py:461: RuntimeWarning: invalid value encountered in log2\n",
      "  self.stats[group_name, \"logfoldchanges\"] = np.log2(\n",
      "/home/victor/.local/lib/python3.12/site-packages/scanpy/tools/_rank_genes_groups.py:461: RuntimeWarning: invalid value encountered in log2\n",
      "  self.stats[group_name, \"logfoldchanges\"] = np.log2(\n",
      "/home/victor/.local/lib/python3.12/site-packages/scanpy/tools/_rank_genes_groups.py:461: RuntimeWarning: invalid value encountered in log2\n",
      "  self.stats[group_name, \"logfoldchanges\"] = np.log2(\n",
      "/home/victor/.local/lib/python3.12/site-packages/scanpy/tools/_rank_genes_groups.py:461: RuntimeWarning: invalid value encountered in log2\n",
      "  self.stats[group_name, \"logfoldchanges\"] = np.log2(\n",
      "/home/victor/.local/lib/python3.12/site-packages/scanpy/tools/_rank_genes_groups.py:461: RuntimeWarning: invalid value encountered in log2\n",
      "  self.stats[group_name, \"logfoldchanges\"] = np.log2(\n",
      "/home/victor/.local/lib/python3.12/site-packages/scanpy/tools/_rank_genes_groups.py:461: RuntimeWarning: invalid value encountered in log2\n",
      "  self.stats[group_name, \"logfoldchanges\"] = np.log2(\n",
      "/home/victor/.local/lib/python3.12/site-packages/scanpy/tools/_rank_genes_groups.py:461: RuntimeWarning: invalid value encountered in log2\n",
      "  self.stats[group_name, \"logfoldchanges\"] = np.log2(\n",
      "/home/victor/.local/lib/python3.12/site-packages/scanpy/tools/_rank_genes_groups.py:461: RuntimeWarning: invalid value encountered in log2\n",
      "  self.stats[group_name, \"logfoldchanges\"] = np.log2(\n",
      "/home/victor/.local/lib/python3.12/site-packages/scanpy/tools/_rank_genes_groups.py:461: RuntimeWarning: invalid value encountered in log2\n",
      "  self.stats[group_name, \"logfoldchanges\"] = np.log2(\n",
      "/home/victor/.local/lib/python3.12/site-packages/scanpy/tools/_rank_genes_groups.py:461: RuntimeWarning: invalid value encountered in log2\n",
      "  self.stats[group_name, \"logfoldchanges\"] = np.log2(\n",
      "/home/victor/.local/lib/python3.12/site-packages/scanpy/tools/_rank_genes_groups.py:461: RuntimeWarning: invalid value encountered in log2\n",
      "  self.stats[group_name, \"logfoldchanges\"] = np.log2(\n",
      "/home/victor/.local/lib/python3.12/site-packages/scanpy/tools/_rank_genes_groups.py:461: RuntimeWarning: invalid value encountered in log2\n",
      "  self.stats[group_name, \"logfoldchanges\"] = np.log2(\n",
      "/home/victor/.local/lib/python3.12/site-packages/scanpy/tools/_rank_genes_groups.py:461: RuntimeWarning: invalid value encountered in log2\n",
      "  self.stats[group_name, \"logfoldchanges\"] = np.log2(\n",
      "/home/victor/.local/lib/python3.12/site-packages/scanpy/tools/_rank_genes_groups.py:461: RuntimeWarning: invalid value encountered in log2\n",
      "  self.stats[group_name, \"logfoldchanges\"] = np.log2(\n",
      "/home/victor/.local/lib/python3.12/site-packages/scanpy/tools/_rank_genes_groups.py:461: RuntimeWarning: invalid value encountered in log2\n",
      "  self.stats[group_name, \"logfoldchanges\"] = np.log2(\n",
      "/home/victor/.local/lib/python3.12/site-packages/scanpy/tools/_rank_genes_groups.py:461: RuntimeWarning: invalid value encountered in log2\n",
      "  self.stats[group_name, \"logfoldchanges\"] = np.log2(\n",
      "/home/victor/.local/lib/python3.12/site-packages/scanpy/tools/_rank_genes_groups.py:461: RuntimeWarning: invalid value encountered in log2\n",
      "  self.stats[group_name, \"logfoldchanges\"] = np.log2(\n",
      "/home/victor/.local/lib/python3.12/site-packages/scanpy/tools/_rank_genes_groups.py:461: RuntimeWarning: invalid value encountered in log2\n",
      "  self.stats[group_name, \"logfoldchanges\"] = np.log2(\n",
      "/home/victor/.local/lib/python3.12/site-packages/scanpy/tools/_rank_genes_groups.py:461: RuntimeWarning: invalid value encountered in log2\n",
      "  self.stats[group_name, \"logfoldchanges\"] = np.log2(\n",
      "/home/victor/.local/lib/python3.12/site-packages/scanpy/tools/_rank_genes_groups.py:461: RuntimeWarning: invalid value encountered in log2\n",
      "  self.stats[group_name, \"logfoldchanges\"] = np.log2(\n",
      "/home/victor/.local/lib/python3.12/site-packages/scanpy/tools/_rank_genes_groups.py:461: RuntimeWarning: invalid value encountered in log2\n",
      "  self.stats[group_name, \"logfoldchanges\"] = np.log2(\n",
      "/home/victor/.local/lib/python3.12/site-packages/scanpy/tools/_rank_genes_groups.py:461: RuntimeWarning: invalid value encountered in log2\n",
      "  self.stats[group_name, \"logfoldchanges\"] = np.log2(\n",
      "/home/victor/.local/lib/python3.12/site-packages/scanpy/tools/_rank_genes_groups.py:461: RuntimeWarning: invalid value encountered in log2\n",
      "  self.stats[group_name, \"logfoldchanges\"] = np.log2(\n",
      "/home/victor/.local/lib/python3.12/site-packages/scanpy/tools/_rank_genes_groups.py:461: RuntimeWarning: invalid value encountered in log2\n",
      "  self.stats[group_name, \"logfoldchanges\"] = np.log2(\n",
      "/home/victor/.local/lib/python3.12/site-packages/scanpy/tools/_rank_genes_groups.py:461: RuntimeWarning: invalid value encountered in log2\n",
      "  self.stats[group_name, \"logfoldchanges\"] = np.log2(\n",
      "/home/victor/.local/lib/python3.12/site-packages/scanpy/tools/_rank_genes_groups.py:461: RuntimeWarning: invalid value encountered in log2\n",
      "  self.stats[group_name, \"logfoldchanges\"] = np.log2(\n",
      "/home/victor/.local/lib/python3.12/site-packages/scanpy/tools/_rank_genes_groups.py:461: RuntimeWarning: invalid value encountered in log2\n",
      "  self.stats[group_name, \"logfoldchanges\"] = np.log2(\n",
      "/home/victor/.local/lib/python3.12/site-packages/scanpy/tools/_rank_genes_groups.py:461: RuntimeWarning: invalid value encountered in log2\n",
      "  self.stats[group_name, \"logfoldchanges\"] = np.log2(\n",
      "/home/victor/.local/lib/python3.12/site-packages/scanpy/tools/_rank_genes_groups.py:461: RuntimeWarning: invalid value encountered in log2\n",
      "  self.stats[group_name, \"logfoldchanges\"] = np.log2(\n",
      "/home/victor/.local/lib/python3.12/site-packages/scanpy/tools/_rank_genes_groups.py:461: RuntimeWarning: invalid value encountered in log2\n",
      "  self.stats[group_name, \"logfoldchanges\"] = np.log2(\n",
      "/home/victor/.local/lib/python3.12/site-packages/scanpy/tools/_rank_genes_groups.py:461: RuntimeWarning: invalid value encountered in log2\n",
      "  self.stats[group_name, \"logfoldchanges\"] = np.log2(\n",
      "/home/victor/.local/lib/python3.12/site-packages/scanpy/tools/_rank_genes_groups.py:461: RuntimeWarning: invalid value encountered in log2\n",
      "  self.stats[group_name, \"logfoldchanges\"] = np.log2(\n",
      "/home/victor/.local/lib/python3.12/site-packages/scanpy/tools/_rank_genes_groups.py:461: RuntimeWarning: invalid value encountered in log2\n",
      "  self.stats[group_name, \"logfoldchanges\"] = np.log2(\n",
      "/home/victor/.local/lib/python3.12/site-packages/scanpy/tools/_rank_genes_groups.py:461: RuntimeWarning: invalid value encountered in log2\n",
      "  self.stats[group_name, \"logfoldchanges\"] = np.log2(\n",
      "/home/victor/.local/lib/python3.12/site-packages/scanpy/tools/_rank_genes_groups.py:461: RuntimeWarning: invalid value encountered in log2\n",
      "  self.stats[group_name, \"logfoldchanges\"] = np.log2(\n",
      "/home/victor/.local/lib/python3.12/site-packages/scanpy/tools/_rank_genes_groups.py:461: RuntimeWarning: invalid value encountered in log2\n",
      "  self.stats[group_name, \"logfoldchanges\"] = np.log2(\n",
      "/home/victor/.local/lib/python3.12/site-packages/scanpy/tools/_rank_genes_groups.py:461: RuntimeWarning: invalid value encountered in log2\n",
      "  self.stats[group_name, \"logfoldchanges\"] = np.log2(\n",
      "/home/victor/.local/lib/python3.12/site-packages/scanpy/tools/_rank_genes_groups.py:461: RuntimeWarning: invalid value encountered in log2\n",
      "  self.stats[group_name, \"logfoldchanges\"] = np.log2(\n",
      "/home/victor/.local/lib/python3.12/site-packages/scanpy/tools/_rank_genes_groups.py:461: RuntimeWarning: invalid value encountered in log2\n",
      "  self.stats[group_name, \"logfoldchanges\"] = np.log2(\n",
      "/home/victor/.local/lib/python3.12/site-packages/scanpy/tools/_rank_genes_groups.py:461: RuntimeWarning: invalid value encountered in log2\n",
      "  self.stats[group_name, \"logfoldchanges\"] = np.log2(\n",
      "/home/victor/.local/lib/python3.12/site-packages/scanpy/tools/_rank_genes_groups.py:461: RuntimeWarning: invalid value encountered in log2\n",
      "  self.stats[group_name, \"logfoldchanges\"] = np.log2(\n",
      "/home/victor/.local/lib/python3.12/site-packages/scanpy/tools/_rank_genes_groups.py:461: RuntimeWarning: invalid value encountered in log2\n",
      "  self.stats[group_name, \"logfoldchanges\"] = np.log2(\n",
      "/home/victor/.local/lib/python3.12/site-packages/scanpy/tools/_rank_genes_groups.py:461: RuntimeWarning: invalid value encountered in log2\n",
      "  self.stats[group_name, \"logfoldchanges\"] = np.log2(\n",
      "/home/victor/.local/lib/python3.12/site-packages/scanpy/tools/_rank_genes_groups.py:461: RuntimeWarning: invalid value encountered in log2\n",
      "  self.stats[group_name, \"logfoldchanges\"] = np.log2(\n",
      "/home/victor/.local/lib/python3.12/site-packages/scanpy/tools/_rank_genes_groups.py:461: RuntimeWarning: invalid value encountered in log2\n",
      "  self.stats[group_name, \"logfoldchanges\"] = np.log2(\n",
      "/home/victor/.local/lib/python3.12/site-packages/scanpy/tools/_rank_genes_groups.py:461: RuntimeWarning: invalid value encountered in log2\n",
      "  self.stats[group_name, \"logfoldchanges\"] = np.log2(\n",
      "/home/victor/.local/lib/python3.12/site-packages/scanpy/tools/_rank_genes_groups.py:461: RuntimeWarning: invalid value encountered in log2\n",
      "  self.stats[group_name, \"logfoldchanges\"] = np.log2(\n",
      "/home/victor/.local/lib/python3.12/site-packages/scanpy/tools/_rank_genes_groups.py:461: RuntimeWarning: invalid value encountered in log2\n",
      "  self.stats[group_name, \"logfoldchanges\"] = np.log2(\n",
      "/home/victor/.local/lib/python3.12/site-packages/scanpy/tools/_rank_genes_groups.py:461: RuntimeWarning: invalid value encountered in log2\n",
      "  self.stats[group_name, \"logfoldchanges\"] = np.log2(\n",
      "/home/victor/.local/lib/python3.12/site-packages/scanpy/tools/_rank_genes_groups.py:461: RuntimeWarning: invalid value encountered in log2\n",
      "  self.stats[group_name, \"logfoldchanges\"] = np.log2(\n",
      "/home/victor/.local/lib/python3.12/site-packages/scanpy/tools/_rank_genes_groups.py:461: RuntimeWarning: invalid value encountered in log2\n",
      "  self.stats[group_name, \"logfoldchanges\"] = np.log2(\n",
      "/home/victor/.local/lib/python3.12/site-packages/scanpy/tools/_rank_genes_groups.py:461: RuntimeWarning: invalid value encountered in log2\n",
      "  self.stats[group_name, \"logfoldchanges\"] = np.log2(\n",
      "/home/victor/.local/lib/python3.12/site-packages/scanpy/tools/_rank_genes_groups.py:461: RuntimeWarning: invalid value encountered in log2\n",
      "  self.stats[group_name, \"logfoldchanges\"] = np.log2(\n",
      "/home/victor/.local/lib/python3.12/site-packages/scanpy/tools/_rank_genes_groups.py:461: RuntimeWarning: invalid value encountered in log2\n",
      "  self.stats[group_name, \"logfoldchanges\"] = np.log2(\n",
      "/home/victor/.local/lib/python3.12/site-packages/scanpy/tools/_rank_genes_groups.py:461: RuntimeWarning: invalid value encountered in log2\n",
      "  self.stats[group_name, \"logfoldchanges\"] = np.log2(\n",
      "/home/victor/.local/lib/python3.12/site-packages/scanpy/tools/_rank_genes_groups.py:461: RuntimeWarning: invalid value encountered in log2\n",
      "  self.stats[group_name, \"logfoldchanges\"] = np.log2(\n",
      "/home/victor/.local/lib/python3.12/site-packages/scanpy/tools/_rank_genes_groups.py:461: RuntimeWarning: invalid value encountered in log2\n",
      "  self.stats[group_name, \"logfoldchanges\"] = np.log2(\n",
      "/home/victor/.local/lib/python3.12/site-packages/scanpy/tools/_rank_genes_groups.py:461: RuntimeWarning: invalid value encountered in log2\n",
      "  self.stats[group_name, \"logfoldchanges\"] = np.log2(\n",
      "/home/victor/.local/lib/python3.12/site-packages/scanpy/tools/_rank_genes_groups.py:461: RuntimeWarning: invalid value encountered in log2\n",
      "  self.stats[group_name, \"logfoldchanges\"] = np.log2(\n",
      "/home/victor/.local/lib/python3.12/site-packages/scanpy/tools/_rank_genes_groups.py:461: RuntimeWarning: invalid value encountered in log2\n",
      "  self.stats[group_name, \"logfoldchanges\"] = np.log2(\n",
      "/home/victor/.local/lib/python3.12/site-packages/scanpy/tools/_rank_genes_groups.py:461: RuntimeWarning: invalid value encountered in log2\n",
      "  self.stats[group_name, \"logfoldchanges\"] = np.log2(\n",
      "/home/victor/.local/lib/python3.12/site-packages/scanpy/tools/_rank_genes_groups.py:461: RuntimeWarning: invalid value encountered in log2\n",
      "  self.stats[group_name, \"logfoldchanges\"] = np.log2(\n",
      "/home/victor/.local/lib/python3.12/site-packages/scanpy/tools/_rank_genes_groups.py:461: RuntimeWarning: invalid value encountered in log2\n",
      "  self.stats[group_name, \"logfoldchanges\"] = np.log2(\n",
      "/home/victor/.local/lib/python3.12/site-packages/scanpy/tools/_rank_genes_groups.py:461: RuntimeWarning: invalid value encountered in log2\n",
      "  self.stats[group_name, \"logfoldchanges\"] = np.log2(\n",
      "/home/victor/.local/lib/python3.12/site-packages/scanpy/tools/_rank_genes_groups.py:461: RuntimeWarning: invalid value encountered in log2\n",
      "  self.stats[group_name, \"logfoldchanges\"] = np.log2(\n",
      "/home/victor/.local/lib/python3.12/site-packages/scanpy/tools/_rank_genes_groups.py:461: RuntimeWarning: invalid value encountered in log2\n",
      "  self.stats[group_name, \"logfoldchanges\"] = np.log2(\n",
      "/home/victor/.local/lib/python3.12/site-packages/scanpy/tools/_rank_genes_groups.py:461: RuntimeWarning: invalid value encountered in log2\n",
      "  self.stats[group_name, \"logfoldchanges\"] = np.log2(\n",
      "/home/victor/.local/lib/python3.12/site-packages/scanpy/tools/_rank_genes_groups.py:461: RuntimeWarning: invalid value encountered in log2\n",
      "  self.stats[group_name, \"logfoldchanges\"] = np.log2(\n",
      "/home/victor/.local/lib/python3.12/site-packages/scanpy/tools/_rank_genes_groups.py:461: RuntimeWarning: invalid value encountered in log2\n",
      "  self.stats[group_name, \"logfoldchanges\"] = np.log2(\n",
      "/home/victor/.local/lib/python3.12/site-packages/scanpy/tools/_rank_genes_groups.py:461: RuntimeWarning: invalid value encountered in log2\n",
      "  self.stats[group_name, \"logfoldchanges\"] = np.log2(\n",
      "/home/victor/.local/lib/python3.12/site-packages/scanpy/tools/_rank_genes_groups.py:461: RuntimeWarning: invalid value encountered in log2\n",
      "  self.stats[group_name, \"logfoldchanges\"] = np.log2(\n",
      "/home/victor/.local/lib/python3.12/site-packages/scanpy/tools/_rank_genes_groups.py:461: RuntimeWarning: invalid value encountered in log2\n",
      "  self.stats[group_name, \"logfoldchanges\"] = np.log2(\n",
      "/home/victor/.local/lib/python3.12/site-packages/scanpy/tools/_rank_genes_groups.py:461: RuntimeWarning: invalid value encountered in log2\n",
      "  self.stats[group_name, \"logfoldchanges\"] = np.log2(\n",
      "/home/victor/.local/lib/python3.12/site-packages/scanpy/tools/_rank_genes_groups.py:461: RuntimeWarning: invalid value encountered in log2\n",
      "  self.stats[group_name, \"logfoldchanges\"] = np.log2(\n",
      "/home/victor/.local/lib/python3.12/site-packages/scanpy/tools/_rank_genes_groups.py:461: RuntimeWarning: invalid value encountered in log2\n",
      "  self.stats[group_name, \"logfoldchanges\"] = np.log2(\n",
      "/home/victor/.local/lib/python3.12/site-packages/scanpy/tools/_rank_genes_groups.py:461: RuntimeWarning: invalid value encountered in log2\n",
      "  self.stats[group_name, \"logfoldchanges\"] = np.log2(\n",
      "/home/victor/.local/lib/python3.12/site-packages/scanpy/tools/_rank_genes_groups.py:461: RuntimeWarning: invalid value encountered in log2\n",
      "  self.stats[group_name, \"logfoldchanges\"] = np.log2(\n",
      "/home/victor/.local/lib/python3.12/site-packages/scanpy/tools/_rank_genes_groups.py:461: RuntimeWarning: invalid value encountered in log2\n",
      "  self.stats[group_name, \"logfoldchanges\"] = np.log2(\n",
      "/home/victor/.local/lib/python3.12/site-packages/scanpy/tools/_rank_genes_groups.py:461: RuntimeWarning: invalid value encountered in log2\n",
      "  self.stats[group_name, \"logfoldchanges\"] = np.log2(\n",
      "/home/victor/.local/lib/python3.12/site-packages/scanpy/tools/_rank_genes_groups.py:461: RuntimeWarning: invalid value encountered in log2\n",
      "  self.stats[group_name, \"logfoldchanges\"] = np.log2(\n",
      "/home/victor/.local/lib/python3.12/site-packages/scanpy/tools/_rank_genes_groups.py:461: RuntimeWarning: invalid value encountered in log2\n",
      "  self.stats[group_name, \"logfoldchanges\"] = np.log2(\n",
      "/home/victor/.local/lib/python3.12/site-packages/scanpy/tools/_rank_genes_groups.py:461: RuntimeWarning: invalid value encountered in log2\n",
      "  self.stats[group_name, \"logfoldchanges\"] = np.log2(\n",
      "/home/victor/.local/lib/python3.12/site-packages/scanpy/tools/_rank_genes_groups.py:461: RuntimeWarning: invalid value encountered in log2\n",
      "  self.stats[group_name, \"logfoldchanges\"] = np.log2(\n",
      "/home/victor/.local/lib/python3.12/site-packages/scanpy/tools/_rank_genes_groups.py:461: RuntimeWarning: invalid value encountered in log2\n",
      "  self.stats[group_name, \"logfoldchanges\"] = np.log2(\n",
      "/home/victor/.local/lib/python3.12/site-packages/scanpy/tools/_rank_genes_groups.py:461: RuntimeWarning: invalid value encountered in log2\n",
      "  self.stats[group_name, \"logfoldchanges\"] = np.log2(\n",
      "/home/victor/.local/lib/python3.12/site-packages/scanpy/tools/_rank_genes_groups.py:461: RuntimeWarning: invalid value encountered in log2\n",
      "  self.stats[group_name, \"logfoldchanges\"] = np.log2(\n",
      "/home/victor/.local/lib/python3.12/site-packages/scanpy/tools/_rank_genes_groups.py:461: RuntimeWarning: invalid value encountered in log2\n",
      "  self.stats[group_name, \"logfoldchanges\"] = np.log2(\n",
      "/home/victor/.local/lib/python3.12/site-packages/scanpy/tools/_rank_genes_groups.py:461: RuntimeWarning: invalid value encountered in log2\n",
      "  self.stats[group_name, \"logfoldchanges\"] = np.log2(\n",
      "/home/victor/.local/lib/python3.12/site-packages/scanpy/tools/_rank_genes_groups.py:461: RuntimeWarning: invalid value encountered in log2\n",
      "  self.stats[group_name, \"logfoldchanges\"] = np.log2(\n",
      "/home/victor/.local/lib/python3.12/site-packages/scanpy/tools/_rank_genes_groups.py:461: RuntimeWarning: invalid value encountered in log2\n",
      "  self.stats[group_name, \"logfoldchanges\"] = np.log2(\n",
      "/home/victor/.local/lib/python3.12/site-packages/scanpy/tools/_rank_genes_groups.py:461: RuntimeWarning: invalid value encountered in log2\n",
      "  self.stats[group_name, \"logfoldchanges\"] = np.log2(\n",
      "/home/victor/.local/lib/python3.12/site-packages/scanpy/tools/_rank_genes_groups.py:461: RuntimeWarning: invalid value encountered in log2\n",
      "  self.stats[group_name, \"logfoldchanges\"] = np.log2(\n",
      "/home/victor/.local/lib/python3.12/site-packages/scanpy/tools/_rank_genes_groups.py:461: RuntimeWarning: invalid value encountered in log2\n",
      "  self.stats[group_name, \"logfoldchanges\"] = np.log2(\n",
      "/home/victor/.local/lib/python3.12/site-packages/scanpy/tools/_rank_genes_groups.py:461: RuntimeWarning: invalid value encountered in log2\n",
      "  self.stats[group_name, \"logfoldchanges\"] = np.log2(\n",
      "/home/victor/.local/lib/python3.12/site-packages/scanpy/tools/_rank_genes_groups.py:461: RuntimeWarning: invalid value encountered in log2\n",
      "  self.stats[group_name, \"logfoldchanges\"] = np.log2(\n",
      "/home/victor/.local/lib/python3.12/site-packages/scanpy/tools/_rank_genes_groups.py:461: RuntimeWarning: invalid value encountered in log2\n",
      "  self.stats[group_name, \"logfoldchanges\"] = np.log2(\n",
      "/home/victor/.local/lib/python3.12/site-packages/scanpy/tools/_rank_genes_groups.py:461: RuntimeWarning: invalid value encountered in log2\n",
      "  self.stats[group_name, \"logfoldchanges\"] = np.log2(\n",
      "/home/victor/.local/lib/python3.12/site-packages/scanpy/tools/_rank_genes_groups.py:461: RuntimeWarning: invalid value encountered in log2\n",
      "  self.stats[group_name, \"logfoldchanges\"] = np.log2(\n",
      "/home/victor/.local/lib/python3.12/site-packages/scanpy/tools/_rank_genes_groups.py:461: RuntimeWarning: invalid value encountered in log2\n",
      "  self.stats[group_name, \"logfoldchanges\"] = np.log2(\n",
      "/home/victor/.local/lib/python3.12/site-packages/scanpy/tools/_rank_genes_groups.py:461: RuntimeWarning: invalid value encountered in log2\n",
      "  self.stats[group_name, \"logfoldchanges\"] = np.log2(\n",
      "/home/victor/.local/lib/python3.12/site-packages/scanpy/tools/_rank_genes_groups.py:461: RuntimeWarning: invalid value encountered in log2\n",
      "  self.stats[group_name, \"logfoldchanges\"] = np.log2(\n",
      "/home/victor/.local/lib/python3.12/site-packages/scanpy/tools/_rank_genes_groups.py:461: RuntimeWarning: invalid value encountered in log2\n",
      "  self.stats[group_name, \"logfoldchanges\"] = np.log2(\n",
      "/home/victor/.local/lib/python3.12/site-packages/scanpy/tools/_rank_genes_groups.py:461: RuntimeWarning: invalid value encountered in log2\n",
      "  self.stats[group_name, \"logfoldchanges\"] = np.log2(\n",
      "/home/victor/.local/lib/python3.12/site-packages/scanpy/tools/_rank_genes_groups.py:461: RuntimeWarning: invalid value encountered in log2\n",
      "  self.stats[group_name, \"logfoldchanges\"] = np.log2(\n",
      "/home/victor/.local/lib/python3.12/site-packages/scanpy/tools/_rank_genes_groups.py:461: RuntimeWarning: invalid value encountered in log2\n",
      "  self.stats[group_name, \"logfoldchanges\"] = np.log2(\n",
      "/home/victor/.local/lib/python3.12/site-packages/scanpy/tools/_rank_genes_groups.py:461: RuntimeWarning: invalid value encountered in log2\n",
      "  self.stats[group_name, \"logfoldchanges\"] = np.log2(\n",
      "/home/victor/.local/lib/python3.12/site-packages/scanpy/tools/_rank_genes_groups.py:461: RuntimeWarning: invalid value encountered in log2\n",
      "  self.stats[group_name, \"logfoldchanges\"] = np.log2(\n",
      "/home/victor/.local/lib/python3.12/site-packages/scanpy/tools/_rank_genes_groups.py:461: RuntimeWarning: invalid value encountered in log2\n",
      "  self.stats[group_name, \"logfoldchanges\"] = np.log2(\n",
      "/home/victor/.local/lib/python3.12/site-packages/scanpy/tools/_rank_genes_groups.py:461: RuntimeWarning: invalid value encountered in log2\n",
      "  self.stats[group_name, \"logfoldchanges\"] = np.log2(\n",
      "/home/victor/.local/lib/python3.12/site-packages/scanpy/tools/_rank_genes_groups.py:461: RuntimeWarning: invalid value encountered in log2\n",
      "  self.stats[group_name, \"logfoldchanges\"] = np.log2(\n",
      "/home/victor/.local/lib/python3.12/site-packages/scanpy/tools/_rank_genes_groups.py:461: RuntimeWarning: invalid value encountered in log2\n",
      "  self.stats[group_name, \"logfoldchanges\"] = np.log2(\n",
      "/home/victor/.local/lib/python3.12/site-packages/scanpy/tools/_rank_genes_groups.py:461: RuntimeWarning: invalid value encountered in log2\n",
      "  self.stats[group_name, \"logfoldchanges\"] = np.log2(\n",
      "/home/victor/.local/lib/python3.12/site-packages/scanpy/tools/_rank_genes_groups.py:461: RuntimeWarning: invalid value encountered in log2\n",
      "  self.stats[group_name, \"logfoldchanges\"] = np.log2(\n",
      "/home/victor/.local/lib/python3.12/site-packages/scanpy/tools/_rank_genes_groups.py:461: RuntimeWarning: invalid value encountered in log2\n",
      "  self.stats[group_name, \"logfoldchanges\"] = np.log2(\n",
      "/home/victor/.local/lib/python3.12/site-packages/scanpy/tools/_rank_genes_groups.py:461: RuntimeWarning: invalid value encountered in log2\n",
      "  self.stats[group_name, \"logfoldchanges\"] = np.log2(\n",
      "/home/victor/.local/lib/python3.12/site-packages/scanpy/tools/_rank_genes_groups.py:461: RuntimeWarning: invalid value encountered in log2\n",
      "  self.stats[group_name, \"logfoldchanges\"] = np.log2(\n",
      "/home/victor/.local/lib/python3.12/site-packages/scanpy/tools/_rank_genes_groups.py:461: RuntimeWarning: invalid value encountered in log2\n",
      "  self.stats[group_name, \"logfoldchanges\"] = np.log2(\n",
      "/home/victor/.local/lib/python3.12/site-packages/scanpy/tools/_rank_genes_groups.py:461: RuntimeWarning: invalid value encountered in log2\n",
      "  self.stats[group_name, \"logfoldchanges\"] = np.log2(\n",
      "/home/victor/.local/lib/python3.12/site-packages/scanpy/tools/_rank_genes_groups.py:461: RuntimeWarning: invalid value encountered in log2\n",
      "  self.stats[group_name, \"logfoldchanges\"] = np.log2(\n",
      "/home/victor/.local/lib/python3.12/site-packages/scanpy/tools/_rank_genes_groups.py:461: RuntimeWarning: invalid value encountered in log2\n",
      "  self.stats[group_name, \"logfoldchanges\"] = np.log2(\n",
      "/home/victor/.local/lib/python3.12/site-packages/scanpy/tools/_rank_genes_groups.py:461: RuntimeWarning: invalid value encountered in log2\n",
      "  self.stats[group_name, \"logfoldchanges\"] = np.log2(\n",
      "/home/victor/.local/lib/python3.12/site-packages/scanpy/tools/_rank_genes_groups.py:461: RuntimeWarning: invalid value encountered in log2\n",
      "  self.stats[group_name, \"logfoldchanges\"] = np.log2(\n",
      "/home/victor/.local/lib/python3.12/site-packages/scanpy/tools/_rank_genes_groups.py:461: RuntimeWarning: invalid value encountered in log2\n",
      "  self.stats[group_name, \"logfoldchanges\"] = np.log2(\n",
      "/home/victor/.local/lib/python3.12/site-packages/scanpy/tools/_rank_genes_groups.py:461: RuntimeWarning: invalid value encountered in log2\n",
      "  self.stats[group_name, \"logfoldchanges\"] = np.log2(\n",
      "/home/victor/.local/lib/python3.12/site-packages/scanpy/tools/_rank_genes_groups.py:461: RuntimeWarning: invalid value encountered in log2\n",
      "  self.stats[group_name, \"logfoldchanges\"] = np.log2(\n",
      "/home/victor/.local/lib/python3.12/site-packages/scanpy/tools/_rank_genes_groups.py:461: RuntimeWarning: invalid value encountered in log2\n",
      "  self.stats[group_name, \"logfoldchanges\"] = np.log2(\n",
      "/home/victor/.local/lib/python3.12/site-packages/scanpy/tools/_rank_genes_groups.py:461: RuntimeWarning: invalid value encountered in log2\n",
      "  self.stats[group_name, \"logfoldchanges\"] = np.log2(\n",
      "/home/victor/.local/lib/python3.12/site-packages/scanpy/tools/_rank_genes_groups.py:461: RuntimeWarning: invalid value encountered in log2\n",
      "  self.stats[group_name, \"logfoldchanges\"] = np.log2(\n",
      "/home/victor/.local/lib/python3.12/site-packages/scanpy/tools/_rank_genes_groups.py:461: RuntimeWarning: invalid value encountered in log2\n",
      "  self.stats[group_name, \"logfoldchanges\"] = np.log2(\n",
      "/home/victor/.local/lib/python3.12/site-packages/scanpy/tools/_rank_genes_groups.py:461: RuntimeWarning: invalid value encountered in log2\n",
      "  self.stats[group_name, \"logfoldchanges\"] = np.log2(\n",
      "/home/victor/.local/lib/python3.12/site-packages/scanpy/tools/_rank_genes_groups.py:461: RuntimeWarning: invalid value encountered in log2\n",
      "  self.stats[group_name, \"logfoldchanges\"] = np.log2(\n",
      "/home/victor/.local/lib/python3.12/site-packages/scanpy/tools/_rank_genes_groups.py:461: RuntimeWarning: invalid value encountered in log2\n",
      "  self.stats[group_name, \"logfoldchanges\"] = np.log2(\n",
      "/home/victor/.local/lib/python3.12/site-packages/scanpy/tools/_rank_genes_groups.py:461: RuntimeWarning: invalid value encountered in log2\n",
      "  self.stats[group_name, \"logfoldchanges\"] = np.log2(\n",
      "/home/victor/.local/lib/python3.12/site-packages/scanpy/tools/_rank_genes_groups.py:461: RuntimeWarning: invalid value encountered in log2\n",
      "  self.stats[group_name, \"logfoldchanges\"] = np.log2(\n",
      "/home/victor/.local/lib/python3.12/site-packages/scanpy/tools/_rank_genes_groups.py:461: RuntimeWarning: invalid value encountered in log2\n",
      "  self.stats[group_name, \"logfoldchanges\"] = np.log2(\n",
      "/home/victor/.local/lib/python3.12/site-packages/scanpy/tools/_rank_genes_groups.py:461: RuntimeWarning: invalid value encountered in log2\n",
      "  self.stats[group_name, \"logfoldchanges\"] = np.log2(\n",
      "/home/victor/.local/lib/python3.12/site-packages/scanpy/tools/_rank_genes_groups.py:461: RuntimeWarning: invalid value encountered in log2\n",
      "  self.stats[group_name, \"logfoldchanges\"] = np.log2(\n",
      "/home/victor/.local/lib/python3.12/site-packages/scanpy/tools/_rank_genes_groups.py:461: RuntimeWarning: invalid value encountered in log2\n",
      "  self.stats[group_name, \"logfoldchanges\"] = np.log2(\n",
      "/home/victor/.local/lib/python3.12/site-packages/scanpy/tools/_rank_genes_groups.py:461: RuntimeWarning: invalid value encountered in log2\n",
      "  self.stats[group_name, \"logfoldchanges\"] = np.log2(\n",
      "/home/victor/.local/lib/python3.12/site-packages/scanpy/tools/_rank_genes_groups.py:461: RuntimeWarning: invalid value encountered in log2\n",
      "  self.stats[group_name, \"logfoldchanges\"] = np.log2(\n",
      "/home/victor/.local/lib/python3.12/site-packages/scanpy/tools/_rank_genes_groups.py:461: RuntimeWarning: invalid value encountered in log2\n",
      "  self.stats[group_name, \"logfoldchanges\"] = np.log2(\n",
      "/home/victor/.local/lib/python3.12/site-packages/scanpy/tools/_rank_genes_groups.py:461: RuntimeWarning: invalid value encountered in log2\n",
      "  self.stats[group_name, \"logfoldchanges\"] = np.log2(\n",
      "/home/victor/.local/lib/python3.12/site-packages/scanpy/tools/_rank_genes_groups.py:461: RuntimeWarning: invalid value encountered in log2\n",
      "  self.stats[group_name, \"logfoldchanges\"] = np.log2(\n",
      "/home/victor/.local/lib/python3.12/site-packages/scanpy/tools/_rank_genes_groups.py:461: RuntimeWarning: invalid value encountered in log2\n",
      "  self.stats[group_name, \"logfoldchanges\"] = np.log2(\n",
      "/home/victor/.local/lib/python3.12/site-packages/scanpy/tools/_rank_genes_groups.py:461: RuntimeWarning: invalid value encountered in log2\n",
      "  self.stats[group_name, \"logfoldchanges\"] = np.log2(\n",
      "/home/victor/.local/lib/python3.12/site-packages/scanpy/tools/_rank_genes_groups.py:461: RuntimeWarning: invalid value encountered in log2\n",
      "  self.stats[group_name, \"logfoldchanges\"] = np.log2(\n",
      "/home/victor/.local/lib/python3.12/site-packages/scanpy/tools/_rank_genes_groups.py:461: RuntimeWarning: invalid value encountered in log2\n",
      "  self.stats[group_name, \"logfoldchanges\"] = np.log2(\n",
      "/home/victor/.local/lib/python3.12/site-packages/scanpy/tools/_rank_genes_groups.py:461: RuntimeWarning: invalid value encountered in log2\n",
      "  self.stats[group_name, \"logfoldchanges\"] = np.log2(\n",
      "/home/victor/.local/lib/python3.12/site-packages/scanpy/tools/_rank_genes_groups.py:461: RuntimeWarning: invalid value encountered in log2\n",
      "  self.stats[group_name, \"logfoldchanges\"] = np.log2(\n",
      "/home/victor/.local/lib/python3.12/site-packages/scanpy/tools/_rank_genes_groups.py:461: RuntimeWarning: invalid value encountered in log2\n",
      "  self.stats[group_name, \"logfoldchanges\"] = np.log2(\n",
      "/home/victor/.local/lib/python3.12/site-packages/scanpy/tools/_rank_genes_groups.py:461: RuntimeWarning: invalid value encountered in log2\n",
      "  self.stats[group_name, \"logfoldchanges\"] = np.log2(\n",
      "/home/victor/.local/lib/python3.12/site-packages/scanpy/tools/_rank_genes_groups.py:461: RuntimeWarning: invalid value encountered in log2\n",
      "  self.stats[group_name, \"logfoldchanges\"] = np.log2(\n",
      "/home/victor/.local/lib/python3.12/site-packages/scanpy/tools/_rank_genes_groups.py:461: RuntimeWarning: invalid value encountered in log2\n",
      "  self.stats[group_name, \"logfoldchanges\"] = np.log2(\n",
      "/home/victor/.local/lib/python3.12/site-packages/scanpy/tools/_rank_genes_groups.py:461: RuntimeWarning: invalid value encountered in log2\n",
      "  self.stats[group_name, \"logfoldchanges\"] = np.log2(\n",
      "/home/victor/.local/lib/python3.12/site-packages/scanpy/tools/_rank_genes_groups.py:461: RuntimeWarning: invalid value encountered in log2\n",
      "  self.stats[group_name, \"logfoldchanges\"] = np.log2(\n",
      "/home/victor/.local/lib/python3.12/site-packages/scanpy/tools/_rank_genes_groups.py:461: RuntimeWarning: invalid value encountered in log2\n",
      "  self.stats[group_name, \"logfoldchanges\"] = np.log2(\n",
      "/home/victor/.local/lib/python3.12/site-packages/scanpy/tools/_rank_genes_groups.py:461: RuntimeWarning: invalid value encountered in log2\n",
      "  self.stats[group_name, \"logfoldchanges\"] = np.log2(\n",
      "/home/victor/.local/lib/python3.12/site-packages/scanpy/tools/_rank_genes_groups.py:461: RuntimeWarning: invalid value encountered in log2\n",
      "  self.stats[group_name, \"logfoldchanges\"] = np.log2(\n",
      "/home/victor/.local/lib/python3.12/site-packages/scanpy/tools/_rank_genes_groups.py:461: RuntimeWarning: invalid value encountered in log2\n",
      "  self.stats[group_name, \"logfoldchanges\"] = np.log2(\n",
      "/home/victor/.local/lib/python3.12/site-packages/scanpy/tools/_rank_genes_groups.py:461: RuntimeWarning: invalid value encountered in log2\n",
      "  self.stats[group_name, \"logfoldchanges\"] = np.log2(\n",
      "/home/victor/.local/lib/python3.12/site-packages/scanpy/tools/_rank_genes_groups.py:461: RuntimeWarning: invalid value encountered in log2\n",
      "  self.stats[group_name, \"logfoldchanges\"] = np.log2(\n",
      "/home/victor/.local/lib/python3.12/site-packages/scanpy/tools/_rank_genes_groups.py:461: RuntimeWarning: invalid value encountered in log2\n",
      "  self.stats[group_name, \"logfoldchanges\"] = np.log2(\n",
      "/home/victor/.local/lib/python3.12/site-packages/scanpy/tools/_rank_genes_groups.py:461: RuntimeWarning: invalid value encountered in log2\n",
      "  self.stats[group_name, \"logfoldchanges\"] = np.log2(\n",
      "/home/victor/.local/lib/python3.12/site-packages/scanpy/tools/_rank_genes_groups.py:461: RuntimeWarning: invalid value encountered in log2\n",
      "  self.stats[group_name, \"logfoldchanges\"] = np.log2(\n",
      "/home/victor/.local/lib/python3.12/site-packages/scanpy/tools/_rank_genes_groups.py:461: RuntimeWarning: invalid value encountered in log2\n",
      "  self.stats[group_name, \"logfoldchanges\"] = np.log2(\n",
      "/home/victor/.local/lib/python3.12/site-packages/scanpy/tools/_rank_genes_groups.py:461: RuntimeWarning: invalid value encountered in log2\n",
      "  self.stats[group_name, \"logfoldchanges\"] = np.log2(\n",
      "/home/victor/.local/lib/python3.12/site-packages/scanpy/tools/_rank_genes_groups.py:461: RuntimeWarning: invalid value encountered in log2\n",
      "  self.stats[group_name, \"logfoldchanges\"] = np.log2(\n",
      "/home/victor/.local/lib/python3.12/site-packages/scanpy/tools/_rank_genes_groups.py:461: RuntimeWarning: invalid value encountered in log2\n",
      "  self.stats[group_name, \"logfoldchanges\"] = np.log2(\n",
      "/home/victor/.local/lib/python3.12/site-packages/scanpy/tools/_rank_genes_groups.py:461: RuntimeWarning: invalid value encountered in log2\n",
      "  self.stats[group_name, \"logfoldchanges\"] = np.log2(\n",
      "/home/victor/.local/lib/python3.12/site-packages/scanpy/tools/_rank_genes_groups.py:461: RuntimeWarning: invalid value encountered in log2\n",
      "  self.stats[group_name, \"logfoldchanges\"] = np.log2(\n",
      "/home/victor/.local/lib/python3.12/site-packages/scanpy/tools/_rank_genes_groups.py:461: RuntimeWarning: invalid value encountered in log2\n",
      "  self.stats[group_name, \"logfoldchanges\"] = np.log2(\n",
      "/home/victor/.local/lib/python3.12/site-packages/scanpy/tools/_rank_genes_groups.py:461: RuntimeWarning: invalid value encountered in log2\n",
      "  self.stats[group_name, \"logfoldchanges\"] = np.log2(\n",
      "/home/victor/.local/lib/python3.12/site-packages/scanpy/tools/_rank_genes_groups.py:461: RuntimeWarning: invalid value encountered in log2\n",
      "  self.stats[group_name, \"logfoldchanges\"] = np.log2(\n",
      "/home/victor/.local/lib/python3.12/site-packages/scanpy/tools/_rank_genes_groups.py:461: RuntimeWarning: invalid value encountered in log2\n",
      "  self.stats[group_name, \"logfoldchanges\"] = np.log2(\n",
      "/home/victor/.local/lib/python3.12/site-packages/scanpy/tools/_rank_genes_groups.py:461: RuntimeWarning: invalid value encountered in log2\n",
      "  self.stats[group_name, \"logfoldchanges\"] = np.log2(\n",
      "/home/victor/.local/lib/python3.12/site-packages/scanpy/tools/_rank_genes_groups.py:461: RuntimeWarning: invalid value encountered in log2\n",
      "  self.stats[group_name, \"logfoldchanges\"] = np.log2(\n",
      "/home/victor/.local/lib/python3.12/site-packages/scanpy/tools/_rank_genes_groups.py:461: RuntimeWarning: invalid value encountered in log2\n",
      "  self.stats[group_name, \"logfoldchanges\"] = np.log2(\n",
      "/home/victor/.local/lib/python3.12/site-packages/scanpy/tools/_rank_genes_groups.py:461: RuntimeWarning: invalid value encountered in log2\n",
      "  self.stats[group_name, \"logfoldchanges\"] = np.log2(\n",
      "/home/victor/.local/lib/python3.12/site-packages/scanpy/tools/_rank_genes_groups.py:461: RuntimeWarning: invalid value encountered in log2\n",
      "  self.stats[group_name, \"logfoldchanges\"] = np.log2(\n",
      "/home/victor/.local/lib/python3.12/site-packages/scanpy/tools/_rank_genes_groups.py:461: RuntimeWarning: invalid value encountered in log2\n",
      "  self.stats[group_name, \"logfoldchanges\"] = np.log2(\n",
      "/home/victor/.local/lib/python3.12/site-packages/scanpy/tools/_rank_genes_groups.py:461: RuntimeWarning: invalid value encountered in log2\n",
      "  self.stats[group_name, \"logfoldchanges\"] = np.log2(\n",
      "/home/victor/.local/lib/python3.12/site-packages/scanpy/tools/_rank_genes_groups.py:461: RuntimeWarning: invalid value encountered in log2\n",
      "  self.stats[group_name, \"logfoldchanges\"] = np.log2(\n",
      "/home/victor/.local/lib/python3.12/site-packages/scanpy/tools/_rank_genes_groups.py:461: RuntimeWarning: invalid value encountered in log2\n",
      "  self.stats[group_name, \"logfoldchanges\"] = np.log2(\n",
      "/home/victor/.local/lib/python3.12/site-packages/scanpy/tools/_rank_genes_groups.py:461: RuntimeWarning: invalid value encountered in log2\n",
      "  self.stats[group_name, \"logfoldchanges\"] = np.log2(\n",
      "/home/victor/.local/lib/python3.12/site-packages/scanpy/tools/_rank_genes_groups.py:461: RuntimeWarning: invalid value encountered in log2\n",
      "  self.stats[group_name, \"logfoldchanges\"] = np.log2(\n",
      "/home/victor/.local/lib/python3.12/site-packages/scanpy/tools/_rank_genes_groups.py:461: RuntimeWarning: invalid value encountered in log2\n",
      "  self.stats[group_name, \"logfoldchanges\"] = np.log2(\n",
      "/home/victor/.local/lib/python3.12/site-packages/scanpy/tools/_rank_genes_groups.py:461: RuntimeWarning: invalid value encountered in log2\n",
      "  self.stats[group_name, \"logfoldchanges\"] = np.log2(\n"
     ]
    }
   ],
   "source": [
    "train_different_normalization(\n",
    "        adata_path=\"./data/normalization/sciplex_analyticpearson_filt.h5ad\",\n",
    "        run_name=\"decoder_analyticpearson_norm\",\n",
    "        res_savename=\"./results/decoder_analyticpearson_norm_res.pkl\",\n",
    "        stats_savename=\"./results/decoder_analyticpearson_norm_stats.pkl\",\n",
    "        add_relu=False\n",
    "    )"
   ]
  },
  {
   "cell_type": "code",
   "execution_count": null,
   "id": "8a765be2-0662-498b-8deb-b60f5ebd2a3a",
   "metadata": {},
   "outputs": [],
   "source": []
  }
 ],
 "metadata": {
  "kernelspec": {
   "display_name": "Python 3 (ipykernel)",
   "language": "python",
   "name": "python3"
  },
  "language_info": {
   "codemirror_mode": {
    "name": "ipython",
    "version": 3
   },
   "file_extension": ".py",
   "mimetype": "text/x-python",
   "name": "python",
   "nbconvert_exporter": "python",
   "pygments_lexer": "ipython3",
   "version": "3.12.7"
  }
 },
 "nbformat": 4,
 "nbformat_minor": 5
}
