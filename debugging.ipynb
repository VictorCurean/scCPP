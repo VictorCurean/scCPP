{
 "cells": [
  {
   "cell_type": "code",
   "execution_count": 27,
   "id": "cb926530-e94f-4375-9a5f-2e051ca8b1da",
   "metadata": {},
   "outputs": [],
   "source": [
    "import anndata as ad\n",
    "import pickle as pkl\n",
    "\n",
    "from src.evaluator.MLP_baseline_evaluator import cross_validation_models\n",
    "from src.evaluator.evaluator_utils import l2_loss\n",
    "\n",
    "import optuna\n",
    "import torch.optim as optim\n",
    "import torch\n",
    "import pandas as pd\n",
    "import numpy as np\n",
    "from tqdm import tqdm\n",
    "from torch.utils.data.dataloader import DataLoader\n",
    "\n",
    "from src.models.MLP_concat import MLPModel\n",
    "from src.dataset.dataset_unseen_compounds import SciplexDatasetUnseenPerturbations\n",
    "from src.utils import get_model_stats\n",
    "from src.evaluator.MLP_baseline_evaluator import MLPBaselineEvaluator"
   ]
  },
  {
   "cell_type": "code",
   "execution_count": 7,
   "id": "f61326e2-2a5b-4016-a2ee-f8bb19d9739e",
   "metadata": {},
   "outputs": [],
   "source": [
    "ADATA_PATH = \"./data/sciplex/sciplex_final.h5ad\"\n",
    "DRUG_SPLIT = \"./data/sciplex/prnet_drug_splits.pkl\"\n",
    "DRUG_ENCODING_NAME = \"sm_coati_emb\"\n",
    "DRUG_ENCODING_SIZE = 256\n",
    "CELL_INPUT_NAME = \"X_2000_hvg\"\n",
    "CELL_INPUT_SIZE = 2000\n",
    "CELL_OUTPUT_NAME = \"X_2000_hvg\"\n",
    "CELL_OUTPUT_SIZE = 2000\n",
    "LOSS_FUNCTION = l2_loss\n",
    "N_TRIALS = 50\n",
    "GENE_NAMES = 'gene_names_2000'\n",
    "SCHEDULER_MODE = 'min'"
   ]
  },
  {
   "cell_type": "code",
   "execution_count": 8,
   "id": "e8d5e9e4-af38-4904-91f1-ef448ecff08a",
   "metadata": {},
   "outputs": [],
   "source": [
    "with open(DRUG_SPLIT, \"rb\") as f:\n",
    "    drug_splits = pkl.load(f)\n",
    "\n",
    "adata = ad.read_h5ad(ADATA_PATH)"
   ]
  },
  {
   "cell_type": "code",
   "execution_count": 9,
   "id": "aca9f9fe-4175-40ca-adba-2e388f5b45fd",
   "metadata": {},
   "outputs": [],
   "source": [
    "output = dict()\n",
    "i=4\n",
    "\n",
    "drugs_train = drug_splits[f'drug_split_{i}']['train']\n",
    "drugs_validation = drug_splits[f'drug_split_{i}']['valid']\n",
    "drugs_test = drug_splits[f'drug_split_{i}']['test']"
   ]
  },
  {
   "cell_type": "code",
   "execution_count": 13,
   "id": "0397114a-b6f7-4f9b-a4ba-3e94d982f759",
   "metadata": {},
   "outputs": [],
   "source": [
    "def objective(trial, dataset_train=None, dataset_validation=None,\n",
    "              input_dim=0, output_dim=0, drug_dim=0, scheduler_mode='min', loss_fn=None):\n",
    "\n",
    "    lr = trial.suggest_float('lr', 1e-6, 1e-3, log=True)\n",
    "    weight_decay = trial.suggest_float('weight_decay', 1e-6, 1e-2, log=True)\n",
    "    scheduler_factor = trial.suggest_float('scheduler_factor', 0.1, 0.5, log=False)\n",
    "    scheduler_patience = trial.suggest_int('scheduler_patience', 1, 20,)\n",
    "    batch_size = trial.suggest_categorical('batch_size', [16, 32, 64, 128, 256])\n",
    "    dropout = trial.suggest_float('dropout', 0.05, 0.3, log=False)\n",
    "    hidden_dims = trial.suggest_categorical('hidden_dims', [64, 128, 256, 512, 1024, 2048, 4096])\n",
    "\n",
    "\n",
    "    params = {\n",
    "        'input_dim': input_dim,\n",
    "        'output_dim' : output_dim,\n",
    "        'drug_dim' : drug_dim,\n",
    "        'dropout' : dropout,\n",
    "        'scheduler_mode': scheduler_mode,\n",
    "        'lr': lr,\n",
    "        'weight_decay': weight_decay,\n",
    "        'scheduler_factor': scheduler_factor,\n",
    "        'scheduler_patience': scheduler_patience,\n",
    "        'batch_size': batch_size,\n",
    "        'hidden_dims' : (hidden_dims,),\n",
    "    }\n",
    "    ev = MLPBaselineEvaluator(dataset_train, dataset_validation, None, params)\n",
    "\n",
    "    return ev.train_with_validation(loss_fn, trial)"
   ]
  },
  {
   "cell_type": "code",
   "execution_count": 50,
   "id": "1e117f2a-4374-462d-a89a-58e35ac5cbda",
   "metadata": {},
   "outputs": [],
   "source": [
    "drug_rep_name = DRUG_ENCODING_NAME\n",
    "drug_emb_size = DRUG_ENCODING_SIZE\n",
    "input_name = CELL_INPUT_NAME\n",
    "output_name = CELL_OUTPUT_NAME\n",
    "n_trials = 1\n",
    "input_dim = CELL_INPUT_SIZE\n",
    "output_dim = CELL_OUTPUT_SIZE\n",
    "loss_function = l2_loss\n",
    "scheduler_mode = SCHEDULER_MODE\n",
    "gene_names_key = GENE_NAMES\n",
    "run_name = \"test_debugging\""
   ]
  },
  {
   "cell_type": "code",
   "execution_count": null,
   "id": "28253fd6-dddd-4430-b6a4-23f74668ad4a",
   "metadata": {},
   "outputs": [],
   "source": [
    "#Optimize Hyperparamteres\n",
    "\n",
    "dataset_train = SciplexDatasetUnseenPerturbations(adata, drugs_train, drug_rep_name, drug_emb_size, input_name, output_name)\n",
    "dataset_validation = SciplexDatasetUnseenPerturbations(adata, drugs_validation, drug_rep_name, drug_emb_size, input_name, output_name)"
   ]
  },
  {
   "cell_type": "code",
   "execution_count": 28,
   "id": "f9ecf0c8-f0d3-406d-8d04-334c9b14dc8d",
   "metadata": {},
   "outputs": [
    {
     "name": "stderr",
     "output_type": "stream",
     "text": [
      "[I 2025-04-12 17:24:42,599] Using an existing study with name 'debugging_fold4' instead of creating a new one.\n",
      "[I 2025-04-12 17:26:40,325] Trial 3 finished with value: 0.02395641846299627 and parameters: {'lr': 8.91084980365547e-05, 'weight_decay': 2.46448350240984e-06, 'scheduler_factor': 0.22688200558305743, 'scheduler_patience': 1, 'batch_size': 32, 'dropout': 0.08592128016574645, 'hidden_dims': 256}. Best is trial 3 with value: 0.02395641846299627.\n"
     ]
    }
   ],
   "source": [
    "study = optuna.create_study(direction='minimize', study_name=f\"debugging_fold{i}\", storage=\"sqlite:///optuna_study.db\", load_if_exists=True)\n",
    "study.optimize(lambda trial: objective(trial,\n",
    "                                       dataset_train=dataset_train, dataset_validation=dataset_validation,\n",
    "                                       input_dim=input_dim, output_dim=output_dim,\n",
    "                                       drug_dim=drug_emb_size, loss_fn=loss_function), n_trials=n_trials)"
   ]
  },
  {
   "cell_type": "code",
   "execution_count": 29,
   "id": "92d43d4a-b70b-4a32-8aef-0113b8430549",
   "metadata": {},
   "outputs": [],
   "source": [
    "best_trial = study.best_trial\n",
    "optimal_params = best_trial.params\n",
    "best_epoch = best_trial.user_attrs[\"best_epoch\"]"
   ]
  },
  {
   "cell_type": "code",
   "execution_count": 30,
   "id": "283c6866-1b4b-4f38-b01d-fc74fa9ca72f",
   "metadata": {},
   "outputs": [
    {
     "name": "stderr",
     "output_type": "stream",
     "text": [
      "100%|███████████████████████████████████████████████████████████████████████████████████████████████████████████████████████████████████████████████████████████████████████████████████████| 571696/571696 [01:19<00:00, 7164.99it/s]\n",
      "100%|██████████████████████████████████████████████████████████████████████████████████████████████████████████████████████████████████████████████████████████████████████████████████████| 571696/571696 [00:44<00:00, 12920.17it/s]\n"
     ]
    }
   ],
   "source": [
    "#Retrain the model on validation + train set with the best parameters\n",
    "drugs_train_final = list(drugs_train) + list(drugs_validation)\n",
    "\n",
    "dataset_train_final = SciplexDatasetUnseenPerturbations(adata, drugs_train_final, drug_rep_name, drug_emb_size, input_name, output_name)\n",
    "dataset_test = SciplexDatasetUnseenPerturbations(adata, drugs_test, drug_rep_name, drug_emb_size, input_name, output_name)"
   ]
  },
  {
   "cell_type": "code",
   "execution_count": 37,
   "id": "0ae2d49b-b08c-4e5f-b60d-571278d987d5",
   "metadata": {},
   "outputs": [],
   "source": [
    "optimal_params['input_dim'] = input_dim\n",
    "optimal_params['output_dim'] = output_dim\n",
    "optimal_params['drug_dim'] = drug_emb_size\n",
    "optimal_params['scheduler_mode'] = scheduler_mode\n",
    "optimal_params['hidden_dims'] = (optimal_params['hidden_dims'],)"
   ]
  },
  {
   "cell_type": "code",
   "execution_count": 44,
   "id": "90c58ad3-d4fb-4d66-b964-588c2e9e8069",
   "metadata": {},
   "outputs": [],
   "source": [
    "optimal_params['batch_size'] = 16"
   ]
  },
  {
   "cell_type": "code",
   "execution_count": null,
   "id": "d81cb36a-9d02-497a-bc1c-5d00cfae29c7",
   "metadata": {},
   "outputs": [],
   "source": []
  },
  {
   "cell_type": "code",
   "execution_count": 45,
   "id": "91a53e13-7ccd-46ed-8f32-345b9476b7d7",
   "metadata": {},
   "outputs": [],
   "source": [
    "optimal_params['hidden_dims'] = (256,)"
   ]
  },
  {
   "cell_type": "code",
   "execution_count": null,
   "id": "5306465f-5029-44c5-b46e-3897d87f9dd6",
   "metadata": {},
   "outputs": [],
   "source": []
  },
  {
   "cell_type": "code",
   "execution_count": null,
   "id": "0fabbf44-d730-4d6e-aef8-81ff3d47aaad",
   "metadata": {},
   "outputs": [],
   "source": []
  },
  {
   "cell_type": "code",
   "execution_count": null,
   "id": "ccddae78-9a0c-4dab-bd44-ca81cc039f76",
   "metadata": {},
   "outputs": [],
   "source": []
  },
  {
   "cell_type": "code",
   "execution_count": null,
   "id": "c02df069-04d7-43a1-a1b1-2074b131c417",
   "metadata": {},
   "outputs": [],
   "source": []
  },
  {
   "cell_type": "code",
   "execution_count": 46,
   "id": "f90cab1c-7a8c-4fba-a715-4e0718e44c30",
   "metadata": {},
   "outputs": [
    {
     "ename": "NameError",
     "evalue": "name 'gene_names_key' is not defined",
     "output_type": "error",
     "traceback": [
      "\u001b[0;31m---------------------------------------------------------------------------\u001b[0m",
      "\u001b[0;31mNameError\u001b[0m                                 Traceback (most recent call last)",
      "Cell \u001b[0;32mIn[46], line 7\u001b[0m\n\u001b[1;32m      5\u001b[0m \u001b[38;5;66;03m#Get model performance metrics\u001b[39;00m\n\u001b[1;32m      6\u001b[0m adata_control \u001b[38;5;241m=\u001b[39m adata[adata\u001b[38;5;241m.\u001b[39mobs[\u001b[38;5;124m'\u001b[39m\u001b[38;5;124mproduct_name\u001b[39m\u001b[38;5;124m'\u001b[39m] \u001b[38;5;241m==\u001b[39m \u001b[38;5;124m\"\u001b[39m\u001b[38;5;124mVehicle\u001b[39m\u001b[38;5;124m\"\u001b[39m]\n\u001b[0;32m----> 7\u001b[0m gene_names \u001b[38;5;241m=\u001b[39m adata_control\u001b[38;5;241m.\u001b[39muns[gene_names_key]\n\u001b[1;32m      8\u001b[0m predictions \u001b[38;5;241m=\u001b[39m final_ev\u001b[38;5;241m.\u001b[39mtest()\n\u001b[1;32m     10\u001b[0m performance \u001b[38;5;241m=\u001b[39m get_model_stats(predictions, adata_control, output_name, gene_names, run_name)\n",
      "\u001b[0;31mNameError\u001b[0m: name 'gene_names_key' is not defined"
     ]
    }
   ],
   "source": [
    "final_ev = MLPBaselineEvaluator(dataset_train_final, None, dataset_test, optimal_params)\n",
    "final_ev.train(loss_function, num_epochs=best_epoch)"
   ]
  },
  {
   "cell_type": "code",
   "execution_count": 51,
   "id": "5908ba7b-8394-4c8d-b155-cccea6d7e048",
   "metadata": {},
   "outputs": [
    {
     "name": "stderr",
     "output_type": "stream",
     "text": [
      "100%|███████████████████████████████████████████████████████████████████████████████████████████████████████████████████████████████████████████████████████████████████████████████████████████| 4003/4003 [00:01<00:00, 2477.22it/s]\n",
      "/home/victor/.local/lib/python3.12/site-packages/anndata/_core/anndata.py:1756: UserWarning: Observation names are not unique. To make them unique, call `.obs_names_make_unique`.\n",
      "  utils.warn_names_duplicates(\"obs\")\n"
     ]
    }
   ],
   "source": [
    "#Get model performance metrics\n",
    "adata_control = adata[adata.obs['product_name'] == \"Vehicle\"]\n",
    "gene_names = adata_control.uns[gene_names_key]\n",
    "predictions = final_ev.test()\n",
    "\n",
    "performance = get_model_stats(predictions, adata_control, output_name, gene_names, run_name)\n",
    "output[i] = performance"
   ]
  },
  {
   "cell_type": "code",
   "execution_count": 52,
   "id": "c84802de-2a3a-420a-90cc-3d743b256123",
   "metadata": {},
   "outputs": [
    {
     "data": {
      "text/plain": [
       "{'key': 'test_debugging',\n",
       " 'mse_A549': np.float32(0.000900806),\n",
       " 'mse_K562': np.float32(0.00075966056),\n",
       " 'mse_MCF7': np.float32(0.00041178125),\n",
       " 'r2_A549': np.float64(0.9496960107769284),\n",
       " 'r2_K562': np.float64(0.9298760344584783),\n",
       " 'r2_MCF7': np.float64(0.9324416461445036),\n",
       " 'rank_logfc_A549': np.float64(0.4730349971313827),\n",
       " 'rank_logfc_K562': np.float64(0.5024383247274813),\n",
       " 'rank_logfc_MCF7': np.float64(0.5035857716580608),\n",
       " 'edistance_A549': np.float64(3.603224000393934),\n",
       " 'edistance_K562': np.float64(3.038642212446841),\n",
       " 'edistance_MCF7': np.float64(1.6471251163199943),\n",
       " 'logfc_corr_A549': np.float64(0.591986006908933),\n",
       " 'logfc_corr_K562': np.float64(0.46390072334513616),\n",
       " 'logfc_corr_MCF7': np.float64(0.35091833792997623),\n",
       " 'top_logfc_corr_A549': np.float64(0.5285331505343687),\n",
       " 'top_logfc_corr_K562': np.float64(0.5551241497598857),\n",
       " 'top_logfc_corr_MCF7': np.float64(0.23199707959154908),\n",
       " 'predicted_bio_rep_A549': np.float64(0.961904761904762),\n",
       " 'predicted_bio_rep_K562': np.float64(1.0),\n",
       " 'predicted_bio_rep_MCF7': np.float64(1.0)}"
      ]
     },
     "execution_count": 52,
     "metadata": {},
     "output_type": "execute_result"
    }
   ],
   "source": [
    "performance"
   ]
  },
  {
   "cell_type": "code",
   "execution_count": null,
   "id": "8ac60aee-e5e4-4da1-9d49-5b4d0f12ecf6",
   "metadata": {},
   "outputs": [],
   "source": []
  }
 ],
 "metadata": {
  "kernelspec": {
   "display_name": "Python 3 (ipykernel)",
   "language": "python",
   "name": "python3"
  },
  "language_info": {
   "codemirror_mode": {
    "name": "ipython",
    "version": 3
   },
   "file_extension": ".py",
   "mimetype": "text/x-python",
   "name": "python",
   "nbconvert_exporter": "python",
   "pygments_lexer": "ipython3",
   "version": "3.12.7"
  }
 },
 "nbformat": 4,
 "nbformat_minor": 5
}
